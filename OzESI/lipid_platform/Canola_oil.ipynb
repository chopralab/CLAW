{
 "cells": [
  {
   "cell_type": "code",
   "execution_count": 38,
   "metadata": {},
   "outputs": [],
   "source": [
    "from IPython.display import display, Image, clear_output"
   ]
  },
  {
   "cell_type": "code",
   "execution_count": 1,
   "metadata": {},
   "outputs": [
    {
     "name": "stdout",
     "output_type": "stream",
     "text": [
      "No module named 'ms_deisotope._c.averagine' averagine\n",
      "No module named 'ms_deisotope._c.scoring'\n",
      "No module named 'ms_deisotope._c.deconvoluter_base'\n",
      "No module named 'ms_deisotope._c.deconvoluter_base'\n",
      "No module named 'ms_deisotope._c.deconvoluter_base'\n"
     ]
    }
   ],
   "source": [
    "#Import all the necessary libraries\n",
    "import pymzml\n",
    "import csv\n",
    "import os\n",
    "import pandas as pd\n",
    "import numpy as np\n",
    "import math\n",
    "from matplotlib import pyplot as plt\n",
    "import re\n",
    "import plotly.express as px\n",
    "from collections import defaultdict\n",
    "\n",
    "import plotly.io as pio\n",
    "import json\n",
    "import plotly.graph_objs as go\n",
    "import matplotlib.colors as mcolors\n",
    "\n",
    "import json\n",
    "import ipywidgets as widgets\n",
    "\n",
    "import warnings\n",
    "\n",
    "import time\n",
    "##Custom scripts\n",
    "# from OzESI_parsing_function_old import *\n",
    "\n",
    "# from plotting_functions import *\n",
    "\n",
    "# dfdfplotting_functions\n"
   ]
  },
  {
   "cell_type": "code",
   "execution_count": 40,
   "metadata": {},
   "outputs": [],
   "source": [
    "# ### Filter for o3on and o2only\n",
    "# # path to Projects/04_29_23/mzml folder\n",
    "\n",
    "# import os\n",
    "# import shutil\n",
    "# print(os.getcwd())\n",
    "# # Set the source directory where the files are located\n",
    "# src_directory = \"Projects/canola/\" # For example, '/path/to/your/files'\n",
    "\n",
    "# # Set the destination directories for o3on and o2only\n",
    "# dst_directory_o3on = os.path.join(src_directory, \"o3on\")\n",
    "# dst_directory_o2only = os.path.join(src_directory, \"o2only\")\n",
    "\n",
    "# # Create the destination directories if they don't exist\n",
    "# os.makedirs(dst_directory_o3on, exist_ok=True)\n",
    "# os.makedirs(dst_directory_o2only, exist_ok=True)\n",
    "\n",
    "# # Loop through the files in the source directory\n",
    "# for filename in os.listdir(src_directory):\n",
    "#     # Check if the file ends with \".mzML\"\n",
    "#     if filename.endswith(\".mzML\"):\n",
    "#         # Determine which folder to move the file to based on its name\n",
    "#         if \"_o3on.mzML\" in filename:\n",
    "#             shutil.move(os.path.join(src_directory, filename), os.path.join(dst_directory_o3on, filename))\n",
    "#         elif \"_o2only.mzML\" in filename:\n",
    "#             shutil.move(os.path.join(src_directory, filename), os.path.join(dst_directory_o2only, filename))\n",
    "\n",
    "\n",
    "\n"
   ]
  },
  {
   "cell_type": "code",
   "execution_count": 5,
   "metadata": {},
   "outputs": [],
   "source": [
    "data_base_name_location = 'Databases/lipid_database/Lipid_Database.xlsx'####Lipid database with Standard Carnitines\n",
    "#NEW WAY\n",
    "Pre_folder = './Projects/'\n",
    "Project_Folder =Pre_folder + 'canola/mzml/'\n",
    "folder_name_to_save = 'canola/results/'\n",
    "file_name_to_save = 'canola'\n",
    "\n",
    "\n",
    "tolerance = 0.3\n",
    "remove_std = True\n",
    "save_data= True\n"
   ]
  },
  {
   "cell_type": "code",
   "execution_count": 6,
   "metadata": {},
   "outputs": [],
   "source": [
    "\n",
    "###All functions\n",
    "\n",
    "#Function to read in MRM database\n",
    "#Option to remove STDs from database##Not finished need option to use another database with no qualitative ACs\n",
    "\n",
    "\n",
    "def read_mrm_list(filename,remove_std = True):\n",
    "    mrm_list_new = pd.read_excel(filename, sheet_name=None)\n",
    "    mrm_list_new = pd.concat(mrm_list_new, ignore_index=True)\n",
    "    mrm_list_offical = mrm_list_new[['Compound Name', 'Parent Ion', 'Product Ion', 'Class']]\n",
    "    # Add underscore to middle of columns names\n",
    "    mrm_list_offical.columns = mrm_list_offical.columns.str.replace(' ', '_')\n",
    "    # Round Parent Ion and Product Ion to 1 decimal place\n",
    "    mrm_list_offical['Parent_Ion'] = np.round(mrm_list_offical['Parent_Ion'],1)\n",
    "    mrm_list_offical['Product_Ion'] = np.round(mrm_list_offical['Product_Ion'],1)\n",
    "    # Create transition column by combining Parent Ion and Product Ion with arrow between numbers\n",
    "    mrm_list_offical['Transition'] = mrm_list_offical['Parent_Ion'].astype(str) + ' -> ' + mrm_list_offical['Product_Ion'].astype(str)\n",
    "    # Change column compound name to lipid\n",
    "    mrm_list_offical = mrm_list_offical.rename(columns={'Compound_Name': 'Lipid'})\n",
    "    # Make a column called Class match lipid column to lipid types\n",
    "    if remove_std == True:\n",
    "        lipid_class = mrm_list_offical['Class'].unique()\n",
    "        lipid_class_to_keep = ['PS','PG','CE','PC', 'DAG', 'PE', 'TAG', 'FA', 'Cer', 'CAR', 'PI','SM']\n",
    "        mrm_list_offical = mrm_list_offical[mrm_list_offical['Class'].isin(lipid_class_to_keep)]\n",
    "    return mrm_list_offical\n",
    "\n",
    "\n",
    "# Function to create an ion dictionary from an MRM database DataFrame\n",
    "def create_ion_dict(mrm_database):\n",
    "    ion_dict = defaultdict(list)\n",
    "    # Iterate through the rows of the MRM database DataFrame\n",
    "    for index, row in mrm_database.iterrows():\n",
    "        # Add a tuple with Lipid and Class to the ion dictionary using Parent_Ion and Product_Ion as the key\n",
    "        ion_dict[(row['Parent_Ion'], row['Product_Ion'])].append((row['Lipid'], row['Class']))\n",
    "    return ion_dict\n",
    "\n",
    "### New way to parse OzESI data\n",
    "OzESI_time_df = pd.DataFrame(columns=['Lipid', 'Parent_Ion', 'Product_Ion', 'Intensity', 'Transition', 'Class', 'Sample_ID', 'Retention_Time', 'OzESI_Intensity'])\n",
    "\n",
    "\n",
    "def mzml_parser(file_name):\n",
    "    global OzESI_time_df  # Declare OzESI_time_df as a global variable\n",
    "    \n",
    "    rows = []\n",
    "    ozesi_rows = []\n",
    "    \n",
    "    data_folder = os.listdir(file_name)\n",
    "    data_folder.sort()\n",
    "    path_to_mzml_files = file_name\n",
    "\n",
    "    for file in data_folder:\n",
    "        if file.endswith('.mzML'):\n",
    "            run = pymzml.run.Reader(path_to_mzml_files + file, skip_chromatogram=False)\n",
    "            q1_mz = 0\n",
    "            q3_mz = 0\n",
    "\n",
    "            for spectrum in run:\n",
    "                for element in spectrum.ID.split(' '):\n",
    "                    \n",
    "                    if 'Q1' in element:\n",
    "                        q1 = element.split('=')\n",
    "                        q1_mz = np.round(float(q1[1]), 1)\n",
    "                    \n",
    "                    if 'Q3' in element:\n",
    "                        q3 = element.split('=')\n",
    "                        q3_mz = np.round(float(q3[1]), 1)\n",
    "                        \n",
    "                        intensity_store = np.array([intensity for _, intensity in spectrum.peaks()])\n",
    "                        intensity_sum = np.sum(intensity_store)\n",
    "                        \n",
    "                        transition = f\"{q1_mz} -> {q3_mz}\"\n",
    "                        sample_id = file[:-5]\n",
    "                        \n",
    "                        rows.append({\n",
    "                            'Parent_Ion': q1_mz,\n",
    "                            'Product_Ion': q3_mz,\n",
    "                            'Intensity': intensity_sum,\n",
    "                            'Transition': transition,\n",
    "                            'Sample_ID': sample_id\n",
    "                        })\n",
    "                        \n",
    "                        for time, intensity in spectrum.peaks():\n",
    "                            ozesi_rows.append({\n",
    "                                'Parent_Ion': q1_mz,\n",
    "                                'Product_Ion': q3_mz,\n",
    "                                'Retention_Time': time,\n",
    "                                'OzESI_Intensity': intensity,\n",
    "                                'Sample_ID': sample_id,\n",
    "                                'Transition': transition\n",
    "                            })\n",
    "\n",
    "    df = pd.DataFrame(rows)\n",
    "    OzESI_time_df = pd.DataFrame(ozesi_rows)\n",
    "    print('Finished parsing mzML files\\n')\n",
    "    return df\n",
    "\n",
    "\n",
    "# Function to check if the absolute difference between two values is within a given tolerance\n",
    "def within_tolerance(a, b, tolerance=0.3):\n",
    "    return abs(a - b) <= tolerance\n",
    "\n",
    "# Function to match the ions in a DataFrame row with the ions in an ion dictionary\n",
    "def match_ions(row, ion_dict, tolerance=0.3):\n",
    "    ions = (row['Parent_Ion'], row['Product_Ion'])\n",
    "    matched_lipids = []\n",
    "    matched_classes = []\n",
    "\n",
    "    # Iterate through the ion dictionary\n",
    "    for key, value in ion_dict.items():\n",
    "        # Check if both the Parent_Ion and Product_Ion values are within the specified tolerance\n",
    "        if within_tolerance(ions[0], key[0], tolerance) and within_tolerance(ions[1], key[1], tolerance):\n",
    "            # If within tolerance, extend the matched_lipids and matched_classes lists with the corresponding values\n",
    "            matched_lipids.extend([match[0] for match in value])\n",
    "            matched_classes.extend([match[1] for match in value])\n",
    "\n",
    "    # If any matches were found, update the Lipid and Class columns in the row\n",
    "    if matched_lipids and matched_classes:\n",
    "        row['Lipid'] = ' | '.join(matched_lipids)\n",
    "        row['Class'] = ' | '.join(matched_classes)\n",
    "\n",
    "    return row\n",
    "\n",
    "####Combined functions for Matching\n",
    "\n",
    "def match_lipids_parser(mrm_database,df, tolerance=0.3):\n",
    "    ion_dict = create_ion_dict(mrm_database)\n",
    "    # Assuming you have the df DataFrame to apply the match_ions function\n",
    "    df_matched = df.apply(lambda row: match_ions(row, ion_dict=ion_dict, tolerance=tolerance), axis=1)\n",
    "\n",
    "\n",
    "    # df_matched = df_matched.dropna()\n",
    "    \n",
    "    return df_matched\n",
    "\n",
    "\n",
    "def save_dataframe(df, folder_name, file_name, max_attempts=5):\n",
    "    folder_path = f'data_results/data/data_matching/{folder_name}'\n",
    "    os.makedirs(folder_path, exist_ok=True)\n",
    "\n",
    "    for i in range(max_attempts):\n",
    "        file_path = f'{folder_path}/{file_name}.csv'\n",
    "        if not os.path.isfile(file_path):\n",
    "            df.to_csv(file_path, index=False)\n",
    "            print(f\"Saved DataFrame to {file_path}\")\n",
    "            break\n",
    "    else:\n",
    "        print(f\"Failed to save DataFrame after {max_attempts} attempts.\")\n",
    "        return None\n",
    "\n",
    "\n",
    "def full_parse(data_base_name_location,mzml_folder, folder_name_to_save, file_name_to_save,tolerance,remove_std = True,\n",
    "               save_data=False):\n",
    "    mrm_database = read_mrm_list(data_base_name_location,remove_std=remove_std)\n",
    "    df = mzml_parser(mzml_folder)\n",
    "    df_matched = match_lipids_parser(mrm_database,df, tolerance=tolerance)\n",
    "    \n",
    "    if save_data == True:\n",
    "        \n",
    "        save_dataframe(df_matched, folder_name_to_save, file_name_to_save)\n",
    "\n",
    "    return df_matched\n",
    "\n",
    "\n",
    "\n"
   ]
  },
  {
   "cell_type": "code",
   "execution_count": 7,
   "metadata": {},
   "outputs": [
    {
     "name": "stderr",
     "output_type": "stream",
     "text": [
      "/tmp/ipykernel_18315/388244400.py:14: SettingWithCopyWarning: \n",
      "A value is trying to be set on a copy of a slice from a DataFrame.\n",
      "Try using .loc[row_indexer,col_indexer] = value instead\n",
      "\n",
      "See the caveats in the documentation: https://pandas.pydata.org/pandas-docs/stable/user_guide/indexing.html#returning-a-view-versus-a-copy\n",
      "  mrm_list_offical['Parent_Ion'] = np.round(mrm_list_offical['Parent_Ion'],1)\n",
      "/tmp/ipykernel_18315/388244400.py:15: SettingWithCopyWarning: \n",
      "A value is trying to be set on a copy of a slice from a DataFrame.\n",
      "Try using .loc[row_indexer,col_indexer] = value instead\n",
      "\n",
      "See the caveats in the documentation: https://pandas.pydata.org/pandas-docs/stable/user_guide/indexing.html#returning-a-view-versus-a-copy\n",
      "  mrm_list_offical['Product_Ion'] = np.round(mrm_list_offical['Product_Ion'],1)\n",
      "/tmp/ipykernel_18315/388244400.py:17: SettingWithCopyWarning: \n",
      "A value is trying to be set on a copy of a slice from a DataFrame.\n",
      "Try using .loc[row_indexer,col_indexer] = value instead\n",
      "\n",
      "See the caveats in the documentation: https://pandas.pydata.org/pandas-docs/stable/user_guide/indexing.html#returning-a-view-versus-a-copy\n",
      "  mrm_list_offical['Transition'] = mrm_list_offical['Parent_Ion'].astype(str) + ' -> ' + mrm_list_offical['Product_Ion'].astype(str)\n"
     ]
    },
    {
     "name": "stdout",
     "output_type": "stream",
     "text": [
      "Finished parsing mzML files\n",
      "\n",
      "Failed to save DataFrame after 5 attempts.\n"
     ]
    }
   ],
   "source": [
    "df_matched = full_parse(data_base_name_location,Project_Folder, folder_name_to_save, \n",
    "                        file_name_to_save,tolerance, remove_std = remove_std,save_data=save_data)\n",
    "\n"
   ]
  },
  {
   "cell_type": "code",
   "execution_count": 8,
   "metadata": {},
   "outputs": [
    {
     "data": {
      "text/html": [
       "<div>\n",
       "<style scoped>\n",
       "    .dataframe tbody tr th:only-of-type {\n",
       "        vertical-align: middle;\n",
       "    }\n",
       "\n",
       "    .dataframe tbody tr th {\n",
       "        vertical-align: top;\n",
       "    }\n",
       "\n",
       "    .dataframe thead th {\n",
       "        text-align: right;\n",
       "    }\n",
       "</style>\n",
       "<table border=\"1\" class=\"dataframe\">\n",
       "  <thead>\n",
       "    <tr style=\"text-align: right;\">\n",
       "      <th></th>\n",
       "      <th>Parent_Ion</th>\n",
       "      <th>Product_Ion</th>\n",
       "      <th>Retention_Time</th>\n",
       "      <th>OzESI_Intensity</th>\n",
       "      <th>Sample_ID</th>\n",
       "      <th>Transition</th>\n",
       "    </tr>\n",
       "  </thead>\n",
       "  <tbody>\n",
       "    <tr>\n",
       "      <th>0</th>\n",
       "      <td>760.6</td>\n",
       "      <td>571.6</td>\n",
       "      <td>0.015933</td>\n",
       "      <td>777.840027</td>\n",
       "      <td>TailoredTAG18-1_O3on_Blank50ACN50IPA_v4_020723</td>\n",
       "      <td>760.6 -&gt; 571.6</td>\n",
       "    </tr>\n",
       "    <tr>\n",
       "      <th>1</th>\n",
       "      <td>760.6</td>\n",
       "      <td>571.6</td>\n",
       "      <td>0.032233</td>\n",
       "      <td>733.560059</td>\n",
       "      <td>TailoredTAG18-1_O3on_Blank50ACN50IPA_v4_020723</td>\n",
       "      <td>760.6 -&gt; 571.6</td>\n",
       "    </tr>\n",
       "    <tr>\n",
       "      <th>2</th>\n",
       "      <td>760.6</td>\n",
       "      <td>571.6</td>\n",
       "      <td>0.048550</td>\n",
       "      <td>917.980042</td>\n",
       "      <td>TailoredTAG18-1_O3on_Blank50ACN50IPA_v4_020723</td>\n",
       "      <td>760.6 -&gt; 571.6</td>\n",
       "    </tr>\n",
       "    <tr>\n",
       "      <th>3</th>\n",
       "      <td>760.6</td>\n",
       "      <td>571.6</td>\n",
       "      <td>0.064850</td>\n",
       "      <td>968.700073</td>\n",
       "      <td>TailoredTAG18-1_O3on_Blank50ACN50IPA_v4_020723</td>\n",
       "      <td>760.6 -&gt; 571.6</td>\n",
       "    </tr>\n",
       "    <tr>\n",
       "      <th>4</th>\n",
       "      <td>760.6</td>\n",
       "      <td>571.6</td>\n",
       "      <td>0.081167</td>\n",
       "      <td>994.240051</td>\n",
       "      <td>TailoredTAG18-1_O3on_Blank50ACN50IPA_v4_020723</td>\n",
       "      <td>760.6 -&gt; 571.6</td>\n",
       "    </tr>\n",
       "    <tr>\n",
       "      <th>...</th>\n",
       "      <td>...</td>\n",
       "      <td>...</td>\n",
       "      <td>...</td>\n",
       "      <td>...</td>\n",
       "      <td>...</td>\n",
       "      <td>...</td>\n",
       "    </tr>\n",
       "    <tr>\n",
       "      <th>300471</th>\n",
       "      <td>904.8</td>\n",
       "      <td>605.6</td>\n",
       "      <td>34.931717</td>\n",
       "      <td>791.740051</td>\n",
       "      <td>TailoredTAG18-1_O3on_RBDCanola0.0005mgmL_020723</td>\n",
       "      <td>904.8 -&gt; 605.6</td>\n",
       "    </tr>\n",
       "    <tr>\n",
       "      <th>300472</th>\n",
       "      <td>904.8</td>\n",
       "      <td>605.6</td>\n",
       "      <td>34.948017</td>\n",
       "      <td>766.820068</td>\n",
       "      <td>TailoredTAG18-1_O3on_RBDCanola0.0005mgmL_020723</td>\n",
       "      <td>904.8 -&gt; 605.6</td>\n",
       "    </tr>\n",
       "    <tr>\n",
       "      <th>300473</th>\n",
       "      <td>904.8</td>\n",
       "      <td>605.6</td>\n",
       "      <td>34.964317</td>\n",
       "      <td>737.020081</td>\n",
       "      <td>TailoredTAG18-1_O3on_RBDCanola0.0005mgmL_020723</td>\n",
       "      <td>904.8 -&gt; 605.6</td>\n",
       "    </tr>\n",
       "    <tr>\n",
       "      <th>300474</th>\n",
       "      <td>904.8</td>\n",
       "      <td>605.6</td>\n",
       "      <td>34.980633</td>\n",
       "      <td>719.400024</td>\n",
       "      <td>TailoredTAG18-1_O3on_RBDCanola0.0005mgmL_020723</td>\n",
       "      <td>904.8 -&gt; 605.6</td>\n",
       "    </tr>\n",
       "    <tr>\n",
       "      <th>300475</th>\n",
       "      <td>904.8</td>\n",
       "      <td>605.6</td>\n",
       "      <td>34.996933</td>\n",
       "      <td>649.980042</td>\n",
       "      <td>TailoredTAG18-1_O3on_RBDCanola0.0005mgmL_020723</td>\n",
       "      <td>904.8 -&gt; 605.6</td>\n",
       "    </tr>\n",
       "  </tbody>\n",
       "</table>\n",
       "<p>300476 rows × 6 columns</p>\n",
       "</div>"
      ],
      "text/plain": [
       "        Parent_Ion  Product_Ion  Retention_Time  OzESI_Intensity  \\\n",
       "0            760.6        571.6        0.015933       777.840027   \n",
       "1            760.6        571.6        0.032233       733.560059   \n",
       "2            760.6        571.6        0.048550       917.980042   \n",
       "3            760.6        571.6        0.064850       968.700073   \n",
       "4            760.6        571.6        0.081167       994.240051   \n",
       "...            ...          ...             ...              ...   \n",
       "300471       904.8        605.6       34.931717       791.740051   \n",
       "300472       904.8        605.6       34.948017       766.820068   \n",
       "300473       904.8        605.6       34.964317       737.020081   \n",
       "300474       904.8        605.6       34.980633       719.400024   \n",
       "300475       904.8        605.6       34.996933       649.980042   \n",
       "\n",
       "                                              Sample_ID      Transition  \n",
       "0        TailoredTAG18-1_O3on_Blank50ACN50IPA_v4_020723  760.6 -> 571.6  \n",
       "1        TailoredTAG18-1_O3on_Blank50ACN50IPA_v4_020723  760.6 -> 571.6  \n",
       "2        TailoredTAG18-1_O3on_Blank50ACN50IPA_v4_020723  760.6 -> 571.6  \n",
       "3        TailoredTAG18-1_O3on_Blank50ACN50IPA_v4_020723  760.6 -> 571.6  \n",
       "4        TailoredTAG18-1_O3on_Blank50ACN50IPA_v4_020723  760.6 -> 571.6  \n",
       "...                                                 ...             ...  \n",
       "300471  TailoredTAG18-1_O3on_RBDCanola0.0005mgmL_020723  904.8 -> 605.6  \n",
       "300472  TailoredTAG18-1_O3on_RBDCanola0.0005mgmL_020723  904.8 -> 605.6  \n",
       "300473  TailoredTAG18-1_O3on_RBDCanola0.0005mgmL_020723  904.8 -> 605.6  \n",
       "300474  TailoredTAG18-1_O3on_RBDCanola0.0005mgmL_020723  904.8 -> 605.6  \n",
       "300475  TailoredTAG18-1_O3on_RBDCanola0.0005mgmL_020723  904.8 -> 605.6  \n",
       "\n",
       "[300476 rows x 6 columns]"
      ]
     },
     "execution_count": 8,
     "metadata": {},
     "output_type": "execute_result"
    }
   ],
   "source": [
    "\n",
    "df_matched.head(None)\n",
    "OzESI_time_df.head(None)\n",
    "\n"
   ]
  },
  {
   "cell_type": "code",
   "execution_count": 9,
   "metadata": {},
   "outputs": [
    {
     "name": "stderr",
     "output_type": "stream",
     "text": [
      "/tmp/ipykernel_18315/388244400.py:14: SettingWithCopyWarning: \n",
      "A value is trying to be set on a copy of a slice from a DataFrame.\n",
      "Try using .loc[row_indexer,col_indexer] = value instead\n",
      "\n",
      "See the caveats in the documentation: https://pandas.pydata.org/pandas-docs/stable/user_guide/indexing.html#returning-a-view-versus-a-copy\n",
      "  mrm_list_offical['Parent_Ion'] = np.round(mrm_list_offical['Parent_Ion'],1)\n",
      "/tmp/ipykernel_18315/388244400.py:15: SettingWithCopyWarning: \n",
      "A value is trying to be set on a copy of a slice from a DataFrame.\n",
      "Try using .loc[row_indexer,col_indexer] = value instead\n",
      "\n",
      "See the caveats in the documentation: https://pandas.pydata.org/pandas-docs/stable/user_guide/indexing.html#returning-a-view-versus-a-copy\n",
      "  mrm_list_offical['Product_Ion'] = np.round(mrm_list_offical['Product_Ion'],1)\n",
      "/tmp/ipykernel_18315/388244400.py:17: SettingWithCopyWarning: \n",
      "A value is trying to be set on a copy of a slice from a DataFrame.\n",
      "Try using .loc[row_indexer,col_indexer] = value instead\n",
      "\n",
      "See the caveats in the documentation: https://pandas.pydata.org/pandas-docs/stable/user_guide/indexing.html#returning-a-view-versus-a-copy\n",
      "  mrm_list_offical['Transition'] = mrm_list_offical['Parent_Ion'].astype(str) + ' -> ' + mrm_list_offical['Product_Ion'].astype(str)\n"
     ]
    }
   ],
   "source": [
    "mrm_database = read_mrm_list(data_base_name_location)\n",
    "tolerance = 0.3\n",
    "df_oz_matched = match_lipids_parser(mrm_database, OzESI_time_df, tolerance)\n"
   ]
  },
  {
   "cell_type": "code",
   "execution_count": 10,
   "metadata": {},
   "outputs": [
    {
     "data": {
      "text/html": [
       "<div>\n",
       "<style scoped>\n",
       "    .dataframe tbody tr th:only-of-type {\n",
       "        vertical-align: middle;\n",
       "    }\n",
       "\n",
       "    .dataframe tbody tr th {\n",
       "        vertical-align: top;\n",
       "    }\n",
       "\n",
       "    .dataframe thead th {\n",
       "        text-align: right;\n",
       "    }\n",
       "</style>\n",
       "<table border=\"1\" class=\"dataframe\">\n",
       "  <thead>\n",
       "    <tr style=\"text-align: right;\">\n",
       "      <th></th>\n",
       "      <th>Class</th>\n",
       "      <th>Lipid</th>\n",
       "      <th>OzESI_Intensity</th>\n",
       "      <th>Parent_Ion</th>\n",
       "      <th>Product_Ion</th>\n",
       "      <th>Retention_Time</th>\n",
       "      <th>Sample_ID</th>\n",
       "      <th>Transition</th>\n",
       "    </tr>\n",
       "  </thead>\n",
       "  <tbody>\n",
       "    <tr>\n",
       "      <th>0</th>\n",
       "      <td>NaN</td>\n",
       "      <td>NaN</td>\n",
       "      <td>777.840027</td>\n",
       "      <td>760.6</td>\n",
       "      <td>571.6</td>\n",
       "      <td>0.015933</td>\n",
       "      <td>TailoredTAG18-1_O3on_Blank50ACN50IPA_v4_020723</td>\n",
       "      <td>760.6 -&gt; 571.6</td>\n",
       "    </tr>\n",
       "    <tr>\n",
       "      <th>1</th>\n",
       "      <td>NaN</td>\n",
       "      <td>NaN</td>\n",
       "      <td>733.560059</td>\n",
       "      <td>760.6</td>\n",
       "      <td>571.6</td>\n",
       "      <td>0.032233</td>\n",
       "      <td>TailoredTAG18-1_O3on_Blank50ACN50IPA_v4_020723</td>\n",
       "      <td>760.6 -&gt; 571.6</td>\n",
       "    </tr>\n",
       "    <tr>\n",
       "      <th>2</th>\n",
       "      <td>NaN</td>\n",
       "      <td>NaN</td>\n",
       "      <td>917.980042</td>\n",
       "      <td>760.6</td>\n",
       "      <td>571.6</td>\n",
       "      <td>0.048550</td>\n",
       "      <td>TailoredTAG18-1_O3on_Blank50ACN50IPA_v4_020723</td>\n",
       "      <td>760.6 -&gt; 571.6</td>\n",
       "    </tr>\n",
       "    <tr>\n",
       "      <th>3</th>\n",
       "      <td>NaN</td>\n",
       "      <td>NaN</td>\n",
       "      <td>968.700073</td>\n",
       "      <td>760.6</td>\n",
       "      <td>571.6</td>\n",
       "      <td>0.064850</td>\n",
       "      <td>TailoredTAG18-1_O3on_Blank50ACN50IPA_v4_020723</td>\n",
       "      <td>760.6 -&gt; 571.6</td>\n",
       "    </tr>\n",
       "    <tr>\n",
       "      <th>4</th>\n",
       "      <td>NaN</td>\n",
       "      <td>NaN</td>\n",
       "      <td>994.240051</td>\n",
       "      <td>760.6</td>\n",
       "      <td>571.6</td>\n",
       "      <td>0.081167</td>\n",
       "      <td>TailoredTAG18-1_O3on_Blank50ACN50IPA_v4_020723</td>\n",
       "      <td>760.6 -&gt; 571.6</td>\n",
       "    </tr>\n",
       "    <tr>\n",
       "      <th>...</th>\n",
       "      <td>...</td>\n",
       "      <td>...</td>\n",
       "      <td>...</td>\n",
       "      <td>...</td>\n",
       "      <td>...</td>\n",
       "      <td>...</td>\n",
       "      <td>...</td>\n",
       "      <td>...</td>\n",
       "    </tr>\n",
       "    <tr>\n",
       "      <th>300471</th>\n",
       "      <td>TAG</td>\n",
       "      <td>[TG(55:9),TG(54:2)]_FA18:1</td>\n",
       "      <td>791.740051</td>\n",
       "      <td>904.8</td>\n",
       "      <td>605.6</td>\n",
       "      <td>34.931717</td>\n",
       "      <td>TailoredTAG18-1_O3on_RBDCanola0.0005mgmL_020723</td>\n",
       "      <td>904.8 -&gt; 605.6</td>\n",
       "    </tr>\n",
       "    <tr>\n",
       "      <th>300472</th>\n",
       "      <td>TAG</td>\n",
       "      <td>[TG(55:9),TG(54:2)]_FA18:1</td>\n",
       "      <td>766.820068</td>\n",
       "      <td>904.8</td>\n",
       "      <td>605.6</td>\n",
       "      <td>34.948017</td>\n",
       "      <td>TailoredTAG18-1_O3on_RBDCanola0.0005mgmL_020723</td>\n",
       "      <td>904.8 -&gt; 605.6</td>\n",
       "    </tr>\n",
       "    <tr>\n",
       "      <th>300473</th>\n",
       "      <td>TAG</td>\n",
       "      <td>[TG(55:9),TG(54:2)]_FA18:1</td>\n",
       "      <td>737.020081</td>\n",
       "      <td>904.8</td>\n",
       "      <td>605.6</td>\n",
       "      <td>34.964317</td>\n",
       "      <td>TailoredTAG18-1_O3on_RBDCanola0.0005mgmL_020723</td>\n",
       "      <td>904.8 -&gt; 605.6</td>\n",
       "    </tr>\n",
       "    <tr>\n",
       "      <th>300474</th>\n",
       "      <td>TAG</td>\n",
       "      <td>[TG(55:9),TG(54:2)]_FA18:1</td>\n",
       "      <td>719.400024</td>\n",
       "      <td>904.8</td>\n",
       "      <td>605.6</td>\n",
       "      <td>34.980633</td>\n",
       "      <td>TailoredTAG18-1_O3on_RBDCanola0.0005mgmL_020723</td>\n",
       "      <td>904.8 -&gt; 605.6</td>\n",
       "    </tr>\n",
       "    <tr>\n",
       "      <th>300475</th>\n",
       "      <td>TAG</td>\n",
       "      <td>[TG(55:9),TG(54:2)]_FA18:1</td>\n",
       "      <td>649.980042</td>\n",
       "      <td>904.8</td>\n",
       "      <td>605.6</td>\n",
       "      <td>34.996933</td>\n",
       "      <td>TailoredTAG18-1_O3on_RBDCanola0.0005mgmL_020723</td>\n",
       "      <td>904.8 -&gt; 605.6</td>\n",
       "    </tr>\n",
       "  </tbody>\n",
       "</table>\n",
       "<p>300476 rows × 8 columns</p>\n",
       "</div>"
      ],
      "text/plain": [
       "       Class                       Lipid  OzESI_Intensity  Parent_Ion  \\\n",
       "0        NaN                         NaN       777.840027       760.6   \n",
       "1        NaN                         NaN       733.560059       760.6   \n",
       "2        NaN                         NaN       917.980042       760.6   \n",
       "3        NaN                         NaN       968.700073       760.6   \n",
       "4        NaN                         NaN       994.240051       760.6   \n",
       "...      ...                         ...              ...         ...   \n",
       "300471   TAG  [TG(55:9),TG(54:2)]_FA18:1       791.740051       904.8   \n",
       "300472   TAG  [TG(55:9),TG(54:2)]_FA18:1       766.820068       904.8   \n",
       "300473   TAG  [TG(55:9),TG(54:2)]_FA18:1       737.020081       904.8   \n",
       "300474   TAG  [TG(55:9),TG(54:2)]_FA18:1       719.400024       904.8   \n",
       "300475   TAG  [TG(55:9),TG(54:2)]_FA18:1       649.980042       904.8   \n",
       "\n",
       "        Product_Ion  Retention_Time  \\\n",
       "0             571.6        0.015933   \n",
       "1             571.6        0.032233   \n",
       "2             571.6        0.048550   \n",
       "3             571.6        0.064850   \n",
       "4             571.6        0.081167   \n",
       "...             ...             ...   \n",
       "300471        605.6       34.931717   \n",
       "300472        605.6       34.948017   \n",
       "300473        605.6       34.964317   \n",
       "300474        605.6       34.980633   \n",
       "300475        605.6       34.996933   \n",
       "\n",
       "                                              Sample_ID      Transition  \n",
       "0        TailoredTAG18-1_O3on_Blank50ACN50IPA_v4_020723  760.6 -> 571.6  \n",
       "1        TailoredTAG18-1_O3on_Blank50ACN50IPA_v4_020723  760.6 -> 571.6  \n",
       "2        TailoredTAG18-1_O3on_Blank50ACN50IPA_v4_020723  760.6 -> 571.6  \n",
       "3        TailoredTAG18-1_O3on_Blank50ACN50IPA_v4_020723  760.6 -> 571.6  \n",
       "4        TailoredTAG18-1_O3on_Blank50ACN50IPA_v4_020723  760.6 -> 571.6  \n",
       "...                                                 ...             ...  \n",
       "300471  TailoredTAG18-1_O3on_RBDCanola0.0005mgmL_020723  904.8 -> 605.6  \n",
       "300472  TailoredTAG18-1_O3on_RBDCanola0.0005mgmL_020723  904.8 -> 605.6  \n",
       "300473  TailoredTAG18-1_O3on_RBDCanola0.0005mgmL_020723  904.8 -> 605.6  \n",
       "300474  TailoredTAG18-1_O3on_RBDCanola0.0005mgmL_020723  904.8 -> 605.6  \n",
       "300475  TailoredTAG18-1_O3on_RBDCanola0.0005mgmL_020723  904.8 -> 605.6  \n",
       "\n",
       "[300476 rows x 8 columns]"
      ]
     },
     "execution_count": 10,
     "metadata": {},
     "output_type": "execute_result"
    }
   ],
   "source": [
    "df_oz_matched.head(None)\n",
    "# #print to excel\n",
    "# df_oz_matched.to_excel(\"OzESI_time_df_04_29_23.xlsx\")"
   ]
  },
  {
   "cell_type": "code",
   "execution_count": 28,
   "metadata": {},
   "outputs": [
    {
     "name": "stderr",
     "output_type": "stream",
     "text": [
      "/tmp/ipykernel_18315/4180564552.py:4: SettingWithCopyWarning:\n",
      "\n",
      "\n",
      "A value is trying to be set on a copy of a slice from a DataFrame.\n",
      "Try using .loc[row_indexer,col_indexer] = value instead\n",
      "\n",
      "See the caveats in the documentation: https://pandas.pydata.org/pandas-docs/stable/user_guide/indexing.html#returning-a-view-versus-a-copy\n",
      "\n",
      "/tmp/ipykernel_18315/4180564552.py:5: SettingWithCopyWarning:\n",
      "\n",
      "\n",
      "A value is trying to be set on a copy of a slice from a DataFrame.\n",
      "Try using .loc[row_indexer,col_indexer] = value instead\n",
      "\n",
      "See the caveats in the documentation: https://pandas.pydata.org/pandas-docs/stable/user_guide/indexing.html#returning-a-view-versus-a-copy\n",
      "\n"
     ]
    },
    {
     "data": {
      "text/html": [
       "<div>\n",
       "<style scoped>\n",
       "    .dataframe tbody tr th:only-of-type {\n",
       "        vertical-align: middle;\n",
       "    }\n",
       "\n",
       "    .dataframe tbody tr th {\n",
       "        vertical-align: top;\n",
       "    }\n",
       "\n",
       "    .dataframe thead th {\n",
       "        text-align: right;\n",
       "    }\n",
       "</style>\n",
       "<table border=\"1\" class=\"dataframe\">\n",
       "  <thead>\n",
       "    <tr style=\"text-align: right;\">\n",
       "      <th></th>\n",
       "      <th>Class</th>\n",
       "      <th>Lipid</th>\n",
       "      <th>OzESI_Intensity</th>\n",
       "      <th>Parent_Ion</th>\n",
       "      <th>Product_Ion</th>\n",
       "      <th>Retention_Time</th>\n",
       "      <th>Sample_ID</th>\n",
       "      <th>Transition</th>\n",
       "    </tr>\n",
       "  </thead>\n",
       "  <tbody>\n",
       "    <tr>\n",
       "      <th>0</th>\n",
       "      <td>NaN</td>\n",
       "      <td>NaN</td>\n",
       "      <td>1858.0</td>\n",
       "      <td>760.6</td>\n",
       "      <td>571.6</td>\n",
       "      <td>19.03</td>\n",
       "      <td>TailoredTAG18-1_O3on_Blank50ACN50IPA_v4_020723</td>\n",
       "      <td>760.6 -&gt; 571.6</td>\n",
       "    </tr>\n",
       "    <tr>\n",
       "      <th>1</th>\n",
       "      <td>NaN</td>\n",
       "      <td>NaN</td>\n",
       "      <td>2576.0</td>\n",
       "      <td>762.6</td>\n",
       "      <td>573.6</td>\n",
       "      <td>18.22</td>\n",
       "      <td>TailoredTAG18-1_O3on_Blank50ACN50IPA_v4_020723</td>\n",
       "      <td>762.6 -&gt; 573.6</td>\n",
       "    </tr>\n",
       "    <tr>\n",
       "      <th>2</th>\n",
       "      <td>NaN</td>\n",
       "      <td>NaN</td>\n",
       "      <td>2571.0</td>\n",
       "      <td>764.6</td>\n",
       "      <td>575.6</td>\n",
       "      <td>19.70</td>\n",
       "      <td>TailoredTAG18-1_O3on_Blank50ACN50IPA_v4_020723</td>\n",
       "      <td>764.6 -&gt; 575.6</td>\n",
       "    </tr>\n",
       "    <tr>\n",
       "      <th>3</th>\n",
       "      <td>NaN</td>\n",
       "      <td>NaN</td>\n",
       "      <td>2475.0</td>\n",
       "      <td>766.7</td>\n",
       "      <td>577.6</td>\n",
       "      <td>16.45</td>\n",
       "      <td>TailoredTAG18-1_O3on_Blank50ACN50IPA_v4_020723</td>\n",
       "      <td>766.7 -&gt; 577.6</td>\n",
       "    </tr>\n",
       "    <tr>\n",
       "      <th>4</th>\n",
       "      <td>NaN</td>\n",
       "      <td>NaN</td>\n",
       "      <td>1657.0</td>\n",
       "      <td>782.6</td>\n",
       "      <td>593.6</td>\n",
       "      <td>18.75</td>\n",
       "      <td>TailoredTAG18-1_O3on_Blank50ACN50IPA_v4_020723</td>\n",
       "      <td>782.6 -&gt; 593.6</td>\n",
       "    </tr>\n",
       "    <tr>\n",
       "      <th>...</th>\n",
       "      <td>...</td>\n",
       "      <td>...</td>\n",
       "      <td>...</td>\n",
       "      <td>...</td>\n",
       "      <td>...</td>\n",
       "      <td>...</td>\n",
       "      <td>...</td>\n",
       "      <td>...</td>\n",
       "    </tr>\n",
       "    <tr>\n",
       "      <th>131</th>\n",
       "      <td>TAG</td>\n",
       "      <td>[TG(54:6)]_FA18:1</td>\n",
       "      <td>24887.0</td>\n",
       "      <td>896.8</td>\n",
       "      <td>597.6</td>\n",
       "      <td>10.77</td>\n",
       "      <td>TailoredTAG18-1_O3on_RBDCanola0.0005mgmL_020723</td>\n",
       "      <td>896.8 -&gt; 597.6</td>\n",
       "    </tr>\n",
       "    <tr>\n",
       "      <th>132</th>\n",
       "      <td>TAG</td>\n",
       "      <td>[TG(54:5)]_FA18:1</td>\n",
       "      <td>106327.0</td>\n",
       "      <td>898.8</td>\n",
       "      <td>599.6</td>\n",
       "      <td>12.59</td>\n",
       "      <td>TailoredTAG18-1_O3on_RBDCanola0.0005mgmL_020723</td>\n",
       "      <td>898.8 -&gt; 599.6</td>\n",
       "    </tr>\n",
       "    <tr>\n",
       "      <th>133</th>\n",
       "      <td>TAG</td>\n",
       "      <td>[TG(55:11),TG(54:4)]_FA18:1</td>\n",
       "      <td>425121.0</td>\n",
       "      <td>900.8</td>\n",
       "      <td>601.6</td>\n",
       "      <td>14.34</td>\n",
       "      <td>TailoredTAG18-1_O3on_RBDCanola0.0005mgmL_020723</td>\n",
       "      <td>900.8 -&gt; 601.6</td>\n",
       "    </tr>\n",
       "    <tr>\n",
       "      <th>134</th>\n",
       "      <td>TAG</td>\n",
       "      <td>[TG(55:10),TG(54:3)]_FA18:1</td>\n",
       "      <td>1307192.0</td>\n",
       "      <td>902.8</td>\n",
       "      <td>603.6</td>\n",
       "      <td>16.24</td>\n",
       "      <td>TailoredTAG18-1_O3on_RBDCanola0.0005mgmL_020723</td>\n",
       "      <td>902.8 -&gt; 603.6</td>\n",
       "    </tr>\n",
       "    <tr>\n",
       "      <th>135</th>\n",
       "      <td>TAG</td>\n",
       "      <td>[TG(55:9),TG(54:2)]_FA18:1</td>\n",
       "      <td>134339.0</td>\n",
       "      <td>904.8</td>\n",
       "      <td>605.6</td>\n",
       "      <td>16.24</td>\n",
       "      <td>TailoredTAG18-1_O3on_RBDCanola0.0005mgmL_020723</td>\n",
       "      <td>904.8 -&gt; 605.6</td>\n",
       "    </tr>\n",
       "  </tbody>\n",
       "</table>\n",
       "<p>136 rows × 8 columns</p>\n",
       "</div>"
      ],
      "text/plain": [
       "    Class                        Lipid  OzESI_Intensity  Parent_Ion  \\\n",
       "0     NaN                          NaN           1858.0       760.6   \n",
       "1     NaN                          NaN           2576.0       762.6   \n",
       "2     NaN                          NaN           2571.0       764.6   \n",
       "3     NaN                          NaN           2475.0       766.7   \n",
       "4     NaN                          NaN           1657.0       782.6   \n",
       "..    ...                          ...              ...         ...   \n",
       "131   TAG            [TG(54:6)]_FA18:1          24887.0       896.8   \n",
       "132   TAG            [TG(54:5)]_FA18:1         106327.0       898.8   \n",
       "133   TAG  [TG(55:11),TG(54:4)]_FA18:1         425121.0       900.8   \n",
       "134   TAG  [TG(55:10),TG(54:3)]_FA18:1        1307192.0       902.8   \n",
       "135   TAG   [TG(55:9),TG(54:2)]_FA18:1         134339.0       904.8   \n",
       "\n",
       "     Product_Ion  Retention_Time  \\\n",
       "0          571.6           19.03   \n",
       "1          573.6           18.22   \n",
       "2          575.6           19.70   \n",
       "3          577.6           16.45   \n",
       "4          593.6           18.75   \n",
       "..           ...             ...   \n",
       "131        597.6           10.77   \n",
       "132        599.6           12.59   \n",
       "133        601.6           14.34   \n",
       "134        603.6           16.24   \n",
       "135        605.6           16.24   \n",
       "\n",
       "                                           Sample_ID      Transition  \n",
       "0     TailoredTAG18-1_O3on_Blank50ACN50IPA_v4_020723  760.6 -> 571.6  \n",
       "1     TailoredTAG18-1_O3on_Blank50ACN50IPA_v4_020723  762.6 -> 573.6  \n",
       "2     TailoredTAG18-1_O3on_Blank50ACN50IPA_v4_020723  764.6 -> 575.6  \n",
       "3     TailoredTAG18-1_O3on_Blank50ACN50IPA_v4_020723  766.7 -> 577.6  \n",
       "4     TailoredTAG18-1_O3on_Blank50ACN50IPA_v4_020723  782.6 -> 593.6  \n",
       "..                                               ...             ...  \n",
       "131  TailoredTAG18-1_O3on_RBDCanola0.0005mgmL_020723  896.8 -> 597.6  \n",
       "132  TailoredTAG18-1_O3on_RBDCanola0.0005mgmL_020723  898.8 -> 599.6  \n",
       "133  TailoredTAG18-1_O3on_RBDCanola0.0005mgmL_020723  900.8 -> 601.6  \n",
       "134  TailoredTAG18-1_O3on_RBDCanola0.0005mgmL_020723  902.8 -> 603.6  \n",
       "135  TailoredTAG18-1_O3on_RBDCanola0.0005mgmL_020723  904.8 -> 605.6  \n",
       "\n",
       "[136 rows x 8 columns]"
      ]
     },
     "execution_count": 28,
     "metadata": {},
     "output_type": "execute_result"
    }
   ],
   "source": [
    "#### Filter retention times\n",
    "\n",
    "filtered_df = df_oz_matched[(df_oz_matched['Retention_Time'] > 10.0) & (df_oz_matched['Retention_Time'] < 20.0)]\n",
    "filtered_df['Retention_Time'] = filtered_df['Retention_Time'].round(2)\n",
    "filtered_df['OzESI_Intensity'] = filtered_df['OzESI_Intensity'].round(0)\n",
    "# Assuming the DataFrame is named df\n",
    "\n",
    "# Keep only unique combinations of 'Sample_ID' and 'Transition'\n",
    "#filtered_df = filtered_df.drop_duplicates(subset=['Sample_ID', 'Transition'])\n",
    "\n",
    "\n",
    "#filtered_df = filtered_df.groupby('Transition').apply(lambda x: x.loc[x['OzESI_Intensity'].idxmax()]).reset_index(drop=True)\n",
    "filtered_df = filtered_df.groupby(['Sample_ID', 'Transition']).apply(lambda x: x.loc[x['OzESI_Intensity'].idxmax()]).reset_index(drop=True)\n",
    "filtered_df.head(None)\n"
   ]
  },
  {
   "cell_type": "code",
   "execution_count": 29,
   "metadata": {},
   "outputs": [],
   "source": [
    "#Create df_matched_2 and concat df_matched and filtered_df\n",
    "df_matched_2 = pd.concat([df_matched, filtered_df[['Retention_Time', 'OzESI_Intensity']]], axis=1)\n"
   ]
  },
  {
   "cell_type": "code",
   "execution_count": 31,
   "metadata": {},
   "outputs": [
    {
     "data": {
      "text/html": [
       "<div>\n",
       "<style scoped>\n",
       "    .dataframe tbody tr th:only-of-type {\n",
       "        vertical-align: middle;\n",
       "    }\n",
       "\n",
       "    .dataframe tbody tr th {\n",
       "        vertical-align: top;\n",
       "    }\n",
       "\n",
       "    .dataframe thead th {\n",
       "        text-align: right;\n",
       "    }\n",
       "</style>\n",
       "<table border=\"1\" class=\"dataframe\">\n",
       "  <thead>\n",
       "    <tr style=\"text-align: right;\">\n",
       "      <th></th>\n",
       "      <th>Class</th>\n",
       "      <th>Intensity</th>\n",
       "      <th>Lipid</th>\n",
       "      <th>Parent_Ion</th>\n",
       "      <th>Product_Ion</th>\n",
       "      <th>Sample_ID</th>\n",
       "      <th>Transition</th>\n",
       "      <th>Retention_Time</th>\n",
       "      <th>OzESI_Intensity</th>\n",
       "    </tr>\n",
       "  </thead>\n",
       "  <tbody>\n",
       "    <tr>\n",
       "      <th>0</th>\n",
       "      <td>NaN</td>\n",
       "      <td>2.785123e+06</td>\n",
       "      <td>NaN</td>\n",
       "      <td>760.6</td>\n",
       "      <td>571.6</td>\n",
       "      <td>TailoredTAG18-1_O3on_Blank50ACN50IPA_v4_020723</td>\n",
       "      <td>760.6 -&gt; 571.6</td>\n",
       "      <td>19.03</td>\n",
       "      <td>1858.0</td>\n",
       "    </tr>\n",
       "    <tr>\n",
       "      <th>1</th>\n",
       "      <td>NaN</td>\n",
       "      <td>3.849900e+06</td>\n",
       "      <td>NaN</td>\n",
       "      <td>762.6</td>\n",
       "      <td>573.6</td>\n",
       "      <td>TailoredTAG18-1_O3on_Blank50ACN50IPA_v4_020723</td>\n",
       "      <td>762.6 -&gt; 573.6</td>\n",
       "      <td>18.22</td>\n",
       "      <td>2576.0</td>\n",
       "    </tr>\n",
       "    <tr>\n",
       "      <th>2</th>\n",
       "      <td>NaN</td>\n",
       "      <td>3.341981e+06</td>\n",
       "      <td>NaN</td>\n",
       "      <td>764.6</td>\n",
       "      <td>575.6</td>\n",
       "      <td>TailoredTAG18-1_O3on_Blank50ACN50IPA_v4_020723</td>\n",
       "      <td>764.6 -&gt; 575.6</td>\n",
       "      <td>19.70</td>\n",
       "      <td>2571.0</td>\n",
       "    </tr>\n",
       "    <tr>\n",
       "      <th>3</th>\n",
       "      <td>NaN</td>\n",
       "      <td>2.998289e+06</td>\n",
       "      <td>NaN</td>\n",
       "      <td>766.7</td>\n",
       "      <td>577.6</td>\n",
       "      <td>TailoredTAG18-1_O3on_Blank50ACN50IPA_v4_020723</td>\n",
       "      <td>766.7 -&gt; 577.6</td>\n",
       "      <td>16.45</td>\n",
       "      <td>2475.0</td>\n",
       "    </tr>\n",
       "    <tr>\n",
       "      <th>4</th>\n",
       "      <td>NaN</td>\n",
       "      <td>2.184697e+06</td>\n",
       "      <td>NaN</td>\n",
       "      <td>782.6</td>\n",
       "      <td>593.6</td>\n",
       "      <td>TailoredTAG18-1_O3on_Blank50ACN50IPA_v4_020723</td>\n",
       "      <td>782.6 -&gt; 593.6</td>\n",
       "      <td>18.75</td>\n",
       "      <td>1657.0</td>\n",
       "    </tr>\n",
       "    <tr>\n",
       "      <th>...</th>\n",
       "      <td>...</td>\n",
       "      <td>...</td>\n",
       "      <td>...</td>\n",
       "      <td>...</td>\n",
       "      <td>...</td>\n",
       "      <td>...</td>\n",
       "      <td>...</td>\n",
       "      <td>...</td>\n",
       "      <td>...</td>\n",
       "    </tr>\n",
       "    <tr>\n",
       "      <th>135</th>\n",
       "      <td>TAG</td>\n",
       "      <td>2.772084e+06</td>\n",
       "      <td>[TG(54:6)]_FA18:1</td>\n",
       "      <td>896.8</td>\n",
       "      <td>597.6</td>\n",
       "      <td>TailoredTAG18-1_O3on_RBDCanola0.0005mgmL_020723</td>\n",
       "      <td>896.8 -&gt; 597.6</td>\n",
       "      <td>16.24</td>\n",
       "      <td>134339.0</td>\n",
       "    </tr>\n",
       "    <tr>\n",
       "      <th>136</th>\n",
       "      <td>TAG</td>\n",
       "      <td>1.104765e+07</td>\n",
       "      <td>[TG(54:5)]_FA18:1</td>\n",
       "      <td>898.8</td>\n",
       "      <td>599.6</td>\n",
       "      <td>TailoredTAG18-1_O3on_RBDCanola0.0005mgmL_020723</td>\n",
       "      <td>898.8 -&gt; 599.6</td>\n",
       "      <td>NaN</td>\n",
       "      <td>NaN</td>\n",
       "    </tr>\n",
       "    <tr>\n",
       "      <th>137</th>\n",
       "      <td>TAG</td>\n",
       "      <td>1.144405e+07</td>\n",
       "      <td>[TG(55:11),TG(54:4)]_FA18:1</td>\n",
       "      <td>900.8</td>\n",
       "      <td>601.6</td>\n",
       "      <td>TailoredTAG18-1_O3on_RBDCanola0.0005mgmL_020723</td>\n",
       "      <td>900.8 -&gt; 601.6</td>\n",
       "      <td>NaN</td>\n",
       "      <td>NaN</td>\n",
       "    </tr>\n",
       "    <tr>\n",
       "      <th>138</th>\n",
       "      <td>TAG</td>\n",
       "      <td>2.923619e+07</td>\n",
       "      <td>[TG(55:10),TG(54:3)]_FA18:1</td>\n",
       "      <td>902.8</td>\n",
       "      <td>603.6</td>\n",
       "      <td>TailoredTAG18-1_O3on_RBDCanola0.0005mgmL_020723</td>\n",
       "      <td>902.8 -&gt; 603.6</td>\n",
       "      <td>NaN</td>\n",
       "      <td>NaN</td>\n",
       "    </tr>\n",
       "    <tr>\n",
       "      <th>139</th>\n",
       "      <td>TAG</td>\n",
       "      <td>1.284473e+07</td>\n",
       "      <td>[TG(55:9),TG(54:2)]_FA18:1</td>\n",
       "      <td>904.8</td>\n",
       "      <td>605.6</td>\n",
       "      <td>TailoredTAG18-1_O3on_RBDCanola0.0005mgmL_020723</td>\n",
       "      <td>904.8 -&gt; 605.6</td>\n",
       "      <td>NaN</td>\n",
       "      <td>NaN</td>\n",
       "    </tr>\n",
       "  </tbody>\n",
       "</table>\n",
       "<p>140 rows × 9 columns</p>\n",
       "</div>"
      ],
      "text/plain": [
       "    Class     Intensity                        Lipid  Parent_Ion  Product_Ion  \\\n",
       "0     NaN  2.785123e+06                          NaN       760.6        571.6   \n",
       "1     NaN  3.849900e+06                          NaN       762.6        573.6   \n",
       "2     NaN  3.341981e+06                          NaN       764.6        575.6   \n",
       "3     NaN  2.998289e+06                          NaN       766.7        577.6   \n",
       "4     NaN  2.184697e+06                          NaN       782.6        593.6   \n",
       "..    ...           ...                          ...         ...          ...   \n",
       "135   TAG  2.772084e+06            [TG(54:6)]_FA18:1       896.8        597.6   \n",
       "136   TAG  1.104765e+07            [TG(54:5)]_FA18:1       898.8        599.6   \n",
       "137   TAG  1.144405e+07  [TG(55:11),TG(54:4)]_FA18:1       900.8        601.6   \n",
       "138   TAG  2.923619e+07  [TG(55:10),TG(54:3)]_FA18:1       902.8        603.6   \n",
       "139   TAG  1.284473e+07   [TG(55:9),TG(54:2)]_FA18:1       904.8        605.6   \n",
       "\n",
       "                                           Sample_ID      Transition  \\\n",
       "0     TailoredTAG18-1_O3on_Blank50ACN50IPA_v4_020723  760.6 -> 571.6   \n",
       "1     TailoredTAG18-1_O3on_Blank50ACN50IPA_v4_020723  762.6 -> 573.6   \n",
       "2     TailoredTAG18-1_O3on_Blank50ACN50IPA_v4_020723  764.6 -> 575.6   \n",
       "3     TailoredTAG18-1_O3on_Blank50ACN50IPA_v4_020723  766.7 -> 577.6   \n",
       "4     TailoredTAG18-1_O3on_Blank50ACN50IPA_v4_020723  782.6 -> 593.6   \n",
       "..                                               ...             ...   \n",
       "135  TailoredTAG18-1_O3on_RBDCanola0.0005mgmL_020723  896.8 -> 597.6   \n",
       "136  TailoredTAG18-1_O3on_RBDCanola0.0005mgmL_020723  898.8 -> 599.6   \n",
       "137  TailoredTAG18-1_O3on_RBDCanola0.0005mgmL_020723  900.8 -> 601.6   \n",
       "138  TailoredTAG18-1_O3on_RBDCanola0.0005mgmL_020723  902.8 -> 603.6   \n",
       "139  TailoredTAG18-1_O3on_RBDCanola0.0005mgmL_020723  904.8 -> 605.6   \n",
       "\n",
       "     Retention_Time  OzESI_Intensity  \n",
       "0             19.03           1858.0  \n",
       "1             18.22           2576.0  \n",
       "2             19.70           2571.0  \n",
       "3             16.45           2475.0  \n",
       "4             18.75           1657.0  \n",
       "..              ...              ...  \n",
       "135           16.24         134339.0  \n",
       "136             NaN              NaN  \n",
       "137             NaN              NaN  \n",
       "138             NaN              NaN  \n",
       "139             NaN              NaN  \n",
       "\n",
       "[140 rows x 9 columns]"
      ]
     },
     "execution_count": 31,
     "metadata": {},
     "output_type": "execute_result"
    }
   ],
   "source": [
    "df_matched_2.head(None)"
   ]
  },
  {
   "cell_type": "code",
   "execution_count": 32,
   "metadata": {},
   "outputs": [
    {
     "data": {
      "text/html": [
       "<div>\n",
       "<style scoped>\n",
       "    .dataframe tbody tr th:only-of-type {\n",
       "        vertical-align: middle;\n",
       "    }\n",
       "\n",
       "    .dataframe tbody tr th {\n",
       "        vertical-align: top;\n",
       "    }\n",
       "\n",
       "    .dataframe thead th {\n",
       "        text-align: right;\n",
       "    }\n",
       "</style>\n",
       "<table border=\"1\" class=\"dataframe\">\n",
       "  <thead>\n",
       "    <tr style=\"text-align: right;\">\n",
       "      <th></th>\n",
       "      <th>Class</th>\n",
       "      <th>Intensity</th>\n",
       "      <th>Lipid</th>\n",
       "      <th>Parent_Ion</th>\n",
       "      <th>Product_Ion</th>\n",
       "      <th>Sample_ID</th>\n",
       "      <th>Transition</th>\n",
       "      <th>Retention_Time</th>\n",
       "      <th>OzESI_Intensity</th>\n",
       "      <th>n-7</th>\n",
       "      <th>n-9</th>\n",
       "      <th>n-12</th>\n",
       "    </tr>\n",
       "  </thead>\n",
       "  <tbody>\n",
       "    <tr>\n",
       "      <th>0</th>\n",
       "      <td>NaN</td>\n",
       "      <td>2.785123e+06</td>\n",
       "      <td>NaN</td>\n",
       "      <td>760.6</td>\n",
       "      <td>571.6</td>\n",
       "      <td>TailoredTAG18-1_O3on_Blank50ACN50IPA_v4_020723</td>\n",
       "      <td>760.6 -&gt; 571.6</td>\n",
       "      <td>19.03</td>\n",
       "      <td>1858.0</td>\n",
       "      <td>678.6</td>\n",
       "      <td>650.6</td>\n",
       "      <td>608.6</td>\n",
       "    </tr>\n",
       "    <tr>\n",
       "      <th>1</th>\n",
       "      <td>NaN</td>\n",
       "      <td>3.849900e+06</td>\n",
       "      <td>NaN</td>\n",
       "      <td>762.6</td>\n",
       "      <td>573.6</td>\n",
       "      <td>TailoredTAG18-1_O3on_Blank50ACN50IPA_v4_020723</td>\n",
       "      <td>762.6 -&gt; 573.6</td>\n",
       "      <td>18.22</td>\n",
       "      <td>2576.0</td>\n",
       "      <td>680.6</td>\n",
       "      <td>652.6</td>\n",
       "      <td>610.6</td>\n",
       "    </tr>\n",
       "    <tr>\n",
       "      <th>2</th>\n",
       "      <td>NaN</td>\n",
       "      <td>3.341981e+06</td>\n",
       "      <td>NaN</td>\n",
       "      <td>764.6</td>\n",
       "      <td>575.6</td>\n",
       "      <td>TailoredTAG18-1_O3on_Blank50ACN50IPA_v4_020723</td>\n",
       "      <td>764.6 -&gt; 575.6</td>\n",
       "      <td>19.70</td>\n",
       "      <td>2571.0</td>\n",
       "      <td>682.6</td>\n",
       "      <td>654.6</td>\n",
       "      <td>612.6</td>\n",
       "    </tr>\n",
       "    <tr>\n",
       "      <th>3</th>\n",
       "      <td>NaN</td>\n",
       "      <td>2.998289e+06</td>\n",
       "      <td>NaN</td>\n",
       "      <td>766.7</td>\n",
       "      <td>577.6</td>\n",
       "      <td>TailoredTAG18-1_O3on_Blank50ACN50IPA_v4_020723</td>\n",
       "      <td>766.7 -&gt; 577.6</td>\n",
       "      <td>16.45</td>\n",
       "      <td>2475.0</td>\n",
       "      <td>684.7</td>\n",
       "      <td>656.7</td>\n",
       "      <td>614.7</td>\n",
       "    </tr>\n",
       "    <tr>\n",
       "      <th>4</th>\n",
       "      <td>NaN</td>\n",
       "      <td>2.184697e+06</td>\n",
       "      <td>NaN</td>\n",
       "      <td>782.6</td>\n",
       "      <td>593.6</td>\n",
       "      <td>TailoredTAG18-1_O3on_Blank50ACN50IPA_v4_020723</td>\n",
       "      <td>782.6 -&gt; 593.6</td>\n",
       "      <td>18.75</td>\n",
       "      <td>1657.0</td>\n",
       "      <td>700.6</td>\n",
       "      <td>672.6</td>\n",
       "      <td>630.6</td>\n",
       "    </tr>\n",
       "    <tr>\n",
       "      <th>...</th>\n",
       "      <td>...</td>\n",
       "      <td>...</td>\n",
       "      <td>...</td>\n",
       "      <td>...</td>\n",
       "      <td>...</td>\n",
       "      <td>...</td>\n",
       "      <td>...</td>\n",
       "      <td>...</td>\n",
       "      <td>...</td>\n",
       "      <td>...</td>\n",
       "      <td>...</td>\n",
       "      <td>...</td>\n",
       "    </tr>\n",
       "    <tr>\n",
       "      <th>135</th>\n",
       "      <td>TAG</td>\n",
       "      <td>2.772084e+06</td>\n",
       "      <td>[TG(54:6)]_FA18:1</td>\n",
       "      <td>896.8</td>\n",
       "      <td>597.6</td>\n",
       "      <td>TailoredTAG18-1_O3on_RBDCanola0.0005mgmL_020723</td>\n",
       "      <td>896.8 -&gt; 597.6</td>\n",
       "      <td>16.24</td>\n",
       "      <td>134339.0</td>\n",
       "      <td>814.8</td>\n",
       "      <td>786.8</td>\n",
       "      <td>744.8</td>\n",
       "    </tr>\n",
       "    <tr>\n",
       "      <th>136</th>\n",
       "      <td>TAG</td>\n",
       "      <td>1.104765e+07</td>\n",
       "      <td>[TG(54:5)]_FA18:1</td>\n",
       "      <td>898.8</td>\n",
       "      <td>599.6</td>\n",
       "      <td>TailoredTAG18-1_O3on_RBDCanola0.0005mgmL_020723</td>\n",
       "      <td>898.8 -&gt; 599.6</td>\n",
       "      <td>NaN</td>\n",
       "      <td>NaN</td>\n",
       "      <td>816.8</td>\n",
       "      <td>788.8</td>\n",
       "      <td>746.8</td>\n",
       "    </tr>\n",
       "    <tr>\n",
       "      <th>137</th>\n",
       "      <td>TAG</td>\n",
       "      <td>1.144405e+07</td>\n",
       "      <td>[TG(55:11),TG(54:4)]_FA18:1</td>\n",
       "      <td>900.8</td>\n",
       "      <td>601.6</td>\n",
       "      <td>TailoredTAG18-1_O3on_RBDCanola0.0005mgmL_020723</td>\n",
       "      <td>900.8 -&gt; 601.6</td>\n",
       "      <td>NaN</td>\n",
       "      <td>NaN</td>\n",
       "      <td>818.8</td>\n",
       "      <td>790.8</td>\n",
       "      <td>748.8</td>\n",
       "    </tr>\n",
       "    <tr>\n",
       "      <th>138</th>\n",
       "      <td>TAG</td>\n",
       "      <td>2.923619e+07</td>\n",
       "      <td>[TG(55:10),TG(54:3)]_FA18:1</td>\n",
       "      <td>902.8</td>\n",
       "      <td>603.6</td>\n",
       "      <td>TailoredTAG18-1_O3on_RBDCanola0.0005mgmL_020723</td>\n",
       "      <td>902.8 -&gt; 603.6</td>\n",
       "      <td>NaN</td>\n",
       "      <td>NaN</td>\n",
       "      <td>820.8</td>\n",
       "      <td>792.8</td>\n",
       "      <td>750.8</td>\n",
       "    </tr>\n",
       "    <tr>\n",
       "      <th>139</th>\n",
       "      <td>TAG</td>\n",
       "      <td>1.284473e+07</td>\n",
       "      <td>[TG(55:9),TG(54:2)]_FA18:1</td>\n",
       "      <td>904.8</td>\n",
       "      <td>605.6</td>\n",
       "      <td>TailoredTAG18-1_O3on_RBDCanola0.0005mgmL_020723</td>\n",
       "      <td>904.8 -&gt; 605.6</td>\n",
       "      <td>NaN</td>\n",
       "      <td>NaN</td>\n",
       "      <td>822.8</td>\n",
       "      <td>794.8</td>\n",
       "      <td>752.8</td>\n",
       "    </tr>\n",
       "  </tbody>\n",
       "</table>\n",
       "<p>140 rows × 12 columns</p>\n",
       "</div>"
      ],
      "text/plain": [
       "    Class     Intensity                        Lipid  Parent_Ion  Product_Ion  \\\n",
       "0     NaN  2.785123e+06                          NaN       760.6        571.6   \n",
       "1     NaN  3.849900e+06                          NaN       762.6        573.6   \n",
       "2     NaN  3.341981e+06                          NaN       764.6        575.6   \n",
       "3     NaN  2.998289e+06                          NaN       766.7        577.6   \n",
       "4     NaN  2.184697e+06                          NaN       782.6        593.6   \n",
       "..    ...           ...                          ...         ...          ...   \n",
       "135   TAG  2.772084e+06            [TG(54:6)]_FA18:1       896.8        597.6   \n",
       "136   TAG  1.104765e+07            [TG(54:5)]_FA18:1       898.8        599.6   \n",
       "137   TAG  1.144405e+07  [TG(55:11),TG(54:4)]_FA18:1       900.8        601.6   \n",
       "138   TAG  2.923619e+07  [TG(55:10),TG(54:3)]_FA18:1       902.8        603.6   \n",
       "139   TAG  1.284473e+07   [TG(55:9),TG(54:2)]_FA18:1       904.8        605.6   \n",
       "\n",
       "                                           Sample_ID      Transition  \\\n",
       "0     TailoredTAG18-1_O3on_Blank50ACN50IPA_v4_020723  760.6 -> 571.6   \n",
       "1     TailoredTAG18-1_O3on_Blank50ACN50IPA_v4_020723  762.6 -> 573.6   \n",
       "2     TailoredTAG18-1_O3on_Blank50ACN50IPA_v4_020723  764.6 -> 575.6   \n",
       "3     TailoredTAG18-1_O3on_Blank50ACN50IPA_v4_020723  766.7 -> 577.6   \n",
       "4     TailoredTAG18-1_O3on_Blank50ACN50IPA_v4_020723  782.6 -> 593.6   \n",
       "..                                               ...             ...   \n",
       "135  TailoredTAG18-1_O3on_RBDCanola0.0005mgmL_020723  896.8 -> 597.6   \n",
       "136  TailoredTAG18-1_O3on_RBDCanola0.0005mgmL_020723  898.8 -> 599.6   \n",
       "137  TailoredTAG18-1_O3on_RBDCanola0.0005mgmL_020723  900.8 -> 601.6   \n",
       "138  TailoredTAG18-1_O3on_RBDCanola0.0005mgmL_020723  902.8 -> 603.6   \n",
       "139  TailoredTAG18-1_O3on_RBDCanola0.0005mgmL_020723  904.8 -> 605.6   \n",
       "\n",
       "     Retention_Time  OzESI_Intensity    n-7    n-9   n-12  \n",
       "0             19.03           1858.0  678.6  650.6  608.6  \n",
       "1             18.22           2576.0  680.6  652.6  610.6  \n",
       "2             19.70           2571.0  682.6  654.6  612.6  \n",
       "3             16.45           2475.0  684.7  656.7  614.7  \n",
       "4             18.75           1657.0  700.6  672.6  630.6  \n",
       "..              ...              ...    ...    ...    ...  \n",
       "135           16.24         134339.0  814.8  786.8  744.8  \n",
       "136             NaN              NaN  816.8  788.8  746.8  \n",
       "137             NaN              NaN  818.8  790.8  748.8  \n",
       "138             NaN              NaN  820.8  792.8  750.8  \n",
       "139             NaN              NaN  822.8  794.8  752.8  \n",
       "\n",
       "[140 rows x 12 columns]"
      ]
     },
     "execution_count": 32,
     "metadata": {},
     "output_type": "execute_result"
    }
   ],
   "source": [
    "# Create a new DataFrame to store the DB_Position and Aldehyde_Ion values\n",
    "df_DB_position = pd.DataFrame(columns=['DB_Position','Aldehyde_Ion'])\n",
    "\n",
    "# Loop over the range of DB_Position values and calculate the corresponding Aldehyde_Ion values\n",
    "for i in range(3, 21):\n",
    "    df_DB_position.loc[i,'DB_Position'] = i\n",
    "    df_DB_position.loc[i,'Aldehyde_Ion'] = 26 + (14 * (i-3)) \n",
    "\n",
    "# df_DB_position.head(None)\n",
    "\n",
    "OzESI_list = [7,9,12]\n",
    "\n",
    "for i in OzESI_list:\n",
    "        # Retrieve the Aldehyde_Ion value for the current DB_Position\n",
    "        aldehyde_ion = df_DB_position.loc[df_DB_position[\"DB_Position\"] == i, \"Aldehyde_Ion\"].values[0]\n",
    "        \n",
    "        # Calculate n-i values\n",
    "        df_matched_2[\"n-{}\".format(i)] = df_matched_2[\"Parent_Ion\"] - aldehyde_ion\n",
    "\n",
    "df_matched_2.head(None)\n"
   ]
  },
  {
   "cell_type": "code",
   "execution_count": 33,
   "metadata": {},
   "outputs": [],
   "source": [
    "#Make a new column for Labels of n-#\n",
    "df_matched_2['Labels'] = ''\n",
    "OzESI_list = [7, 9, 12]\n",
    "\n",
    "def within_tolerance(a, b, tolerance=0.3):\n",
    "    return abs(a - b) <= tolerance\n",
    "columns = [\n",
    "    'Lipid', 'Parent_Ion', 'Product_Ion', 'Intensity', 'Transition', 'Class',\n",
    "    'Sample_ID', 'Retention_Time', 'Intensity_OzESI', 'Mean_Retention_Time',\n",
    "    'Mean_Intensity_OzESI', 'n-7', 'n-9', 'n-12', 'Labels'\n",
    "]\n",
    "df_OzESI_n = pd.DataFrame(columns=columns)\n",
    "\n",
    "\n",
    "#Function to add lipid name\n",
    "def add_lipid_info(df_matched_2, OzESI_list, tolerance=0.3):\n",
    "    df_test = df_matched_2.copy()\n",
    "    df_test_2 = df_matched_2.copy()\n",
    "    global df_OzESI_n\n",
    "    \n",
    "    for i in OzESI_list:\n",
    "        df_test['n-' + str(i)] = df_test['n-' + str(i)].astype(float)\n",
    "    \n",
    "    for i in range(len(df_test)):\n",
    "        if pd.isna(df_test.loc[i, 'Lipid']):\n",
    "            parent_ion = df_test.loc[i, 'Parent_Ion']\n",
    "            \n",
    "            for j in range(len(df_test)):\n",
    "                row_data = df_test.loc[j].copy()\n",
    "                if within_tolerance(parent_ion, row_data['n-7'], tolerance) and isinstance(row_data['Lipid'], str):\n",
    "                    df_test.loc[i, 'Lipid'] = row_data['Lipid']\n",
    "                    df_test.loc[i, 'Labels'] = 'n-7' + row_data['Labels']\n",
    "                    \n",
    "                    # Append to df_test_2\n",
    "                    appended_row = df_test.loc[i].copy()\n",
    "                    appended_row['Labels'] = 'n-7' + row_data['Labels']\n",
    "                    df_test_2 = df_test_2.append(appended_row, ignore_index=True)\n",
    "                    \n",
    "                elif within_tolerance(parent_ion, row_data['n-9'], tolerance) and isinstance(row_data['Lipid'], str):\n",
    "                    df_test.loc[i, 'Lipid'] = row_data['Lipid']\n",
    "                    df_test.loc[i, 'Labels'] = 'n-9' + row_data['Labels']\n",
    "                    \n",
    "                    # Append to df_test_2\n",
    "                    appended_row = df_test.loc[i].copy()\n",
    "                    appended_row['Labels'] = 'n-9' + row_data['Labels']\n",
    "                    df_test_2 = df_test_2.append(appended_row, ignore_index=True)\n",
    "                    \n",
    "                elif within_tolerance(parent_ion, row_data['n-12'], tolerance) and isinstance(row_data['Lipid'], str):\n",
    "                    df_test.loc[i, 'Lipid'] = row_data['Lipid']\n",
    "                    df_test.loc[i, 'Labels'] = 'n-12' + row_data['Labels']\n",
    "                    \n",
    "                    # Append to df_test_2\n",
    "                    appended_row = df_test.loc[i].copy()\n",
    "                    appended_row['Labels'] = 'n-12' + row_data['Labels']\n",
    "                    df_test_2 = df_test_2.append(appended_row, ignore_index=True)\n",
    "    \n",
    "    df_test_2.dropna(subset=['Lipid'], inplace=True)\n",
    "    return df_test_2\n"
   ]
  },
  {
   "cell_type": "code",
   "execution_count": 34,
   "metadata": {},
   "outputs": [
    {
     "name": "stderr",
     "output_type": "stream",
     "text": [
      "/tmp/ipykernel_18315/642337914.py:46: FutureWarning:\n",
      "\n",
      "The frame.append method is deprecated and will be removed from pandas in a future version. Use pandas.concat instead.\n",
      "\n",
      "/tmp/ipykernel_18315/642337914.py:37: FutureWarning:\n",
      "\n",
      "The frame.append method is deprecated and will be removed from pandas in a future version. Use pandas.concat instead.\n",
      "\n"
     ]
    }
   ],
   "source": [
    "#Add lipid name to df_matched 3\n",
    "df_matched_3 = add_lipid_info(df_matched_2, OzESI_list, tolerance=0.3)"
   ]
  },
  {
   "cell_type": "code",
   "execution_count": 35,
   "metadata": {},
   "outputs": [
    {
     "data": {
      "text/html": [
       "<div>\n",
       "<style scoped>\n",
       "    .dataframe tbody tr th:only-of-type {\n",
       "        vertical-align: middle;\n",
       "    }\n",
       "\n",
       "    .dataframe tbody tr th {\n",
       "        vertical-align: top;\n",
       "    }\n",
       "\n",
       "    .dataframe thead th {\n",
       "        text-align: right;\n",
       "    }\n",
       "</style>\n",
       "<table border=\"1\" class=\"dataframe\">\n",
       "  <thead>\n",
       "    <tr style=\"text-align: right;\">\n",
       "      <th></th>\n",
       "      <th>Class</th>\n",
       "      <th>Intensity</th>\n",
       "      <th>Lipid</th>\n",
       "      <th>Parent_Ion</th>\n",
       "      <th>Product_Ion</th>\n",
       "      <th>Sample_ID</th>\n",
       "      <th>Transition</th>\n",
       "      <th>Retention_Time</th>\n",
       "      <th>OzESI_Intensity</th>\n",
       "      <th>n-7</th>\n",
       "      <th>n-9</th>\n",
       "      <th>n-12</th>\n",
       "      <th>Labels</th>\n",
       "    </tr>\n",
       "  </thead>\n",
       "  <tbody>\n",
       "    <tr>\n",
       "      <th>23</th>\n",
       "      <td>TAG</td>\n",
       "      <td>2.182617e+06</td>\n",
       "      <td>[TG(52:6)]_FA18:1</td>\n",
       "      <td>868.7</td>\n",
       "      <td>569.6</td>\n",
       "      <td>TailoredTAG18-1_O3on_Blank50ACN50IPA_v4_020723</td>\n",
       "      <td>868.7 -&gt; 569.6</td>\n",
       "      <td>19.75</td>\n",
       "      <td>1718.0</td>\n",
       "      <td>786.7</td>\n",
       "      <td>758.7</td>\n",
       "      <td>716.7</td>\n",
       "      <td></td>\n",
       "    </tr>\n",
       "    <tr>\n",
       "      <th>24</th>\n",
       "      <td>TAG</td>\n",
       "      <td>2.131391e+06</td>\n",
       "      <td>[TG(52:6)]_FA18:1</td>\n",
       "      <td>868.7</td>\n",
       "      <td>569.6</td>\n",
       "      <td>TailoredTAG18-1_O3on_Blank50ACN50IPA_v4_020723</td>\n",
       "      <td>868.7 -&gt; 569.6</td>\n",
       "      <td>16.93</td>\n",
       "      <td>2339.0</td>\n",
       "      <td>786.7</td>\n",
       "      <td>758.7</td>\n",
       "      <td>716.7</td>\n",
       "      <td></td>\n",
       "    </tr>\n",
       "    <tr>\n",
       "      <th>25</th>\n",
       "      <td>TAG</td>\n",
       "      <td>3.202354e+06</td>\n",
       "      <td>[TG(52:5)]_FA18:1</td>\n",
       "      <td>870.8</td>\n",
       "      <td>571.6</td>\n",
       "      <td>TailoredTAG18-1_O3on_Blank50ACN50IPA_v4_020723</td>\n",
       "      <td>870.8 -&gt; 571.6</td>\n",
       "      <td>20.00</td>\n",
       "      <td>2439.0</td>\n",
       "      <td>788.8</td>\n",
       "      <td>760.8</td>\n",
       "      <td>718.8</td>\n",
       "      <td></td>\n",
       "    </tr>\n",
       "    <tr>\n",
       "      <th>26</th>\n",
       "      <td>TAG</td>\n",
       "      <td>3.242962e+06</td>\n",
       "      <td>[TG(52:4)]_FA18:1</td>\n",
       "      <td>872.8</td>\n",
       "      <td>573.6</td>\n",
       "      <td>TailoredTAG18-1_O3on_Blank50ACN50IPA_v4_020723</td>\n",
       "      <td>872.8 -&gt; 573.6</td>\n",
       "      <td>19.74</td>\n",
       "      <td>16159.0</td>\n",
       "      <td>790.8</td>\n",
       "      <td>762.8</td>\n",
       "      <td>720.8</td>\n",
       "      <td></td>\n",
       "    </tr>\n",
       "    <tr>\n",
       "      <th>27</th>\n",
       "      <td>TAG</td>\n",
       "      <td>1.941393e+07</td>\n",
       "      <td>[TG(53:10),TG(52:3)]_FA18:1</td>\n",
       "      <td>874.8</td>\n",
       "      <td>575.6</td>\n",
       "      <td>TailoredTAG18-1_O3on_Blank50ACN50IPA_v4_020723</td>\n",
       "      <td>874.8 -&gt; 575.6</td>\n",
       "      <td>19.12</td>\n",
       "      <td>24965.0</td>\n",
       "      <td>792.8</td>\n",
       "      <td>764.8</td>\n",
       "      <td>722.8</td>\n",
       "      <td></td>\n",
       "    </tr>\n",
       "    <tr>\n",
       "      <th>...</th>\n",
       "      <td>...</td>\n",
       "      <td>...</td>\n",
       "      <td>...</td>\n",
       "      <td>...</td>\n",
       "      <td>...</td>\n",
       "      <td>...</td>\n",
       "      <td>...</td>\n",
       "      <td>...</td>\n",
       "      <td>...</td>\n",
       "      <td>...</td>\n",
       "      <td>...</td>\n",
       "      <td>...</td>\n",
       "      <td>...</td>\n",
       "    </tr>\n",
       "    <tr>\n",
       "      <th>663</th>\n",
       "      <td>NaN</td>\n",
       "      <td>2.523672e+06</td>\n",
       "      <td>[TG(55:10),TG(54:3)]_FA18:1</td>\n",
       "      <td>820.7</td>\n",
       "      <td>603.6</td>\n",
       "      <td>TailoredTAG18-1_O3on_RBDCanola0.0005mgmL_020723</td>\n",
       "      <td>820.7 -&gt; 603.6</td>\n",
       "      <td>10.77</td>\n",
       "      <td>3900.0</td>\n",
       "      <td>738.7</td>\n",
       "      <td>710.7</td>\n",
       "      <td>668.7</td>\n",
       "      <td>n-7</td>\n",
       "    </tr>\n",
       "    <tr>\n",
       "      <th>664</th>\n",
       "      <td>NaN</td>\n",
       "      <td>2.937705e+06</td>\n",
       "      <td>[TG(55:9),TG(54:2)]_FA18:1</td>\n",
       "      <td>822.7</td>\n",
       "      <td>605.6</td>\n",
       "      <td>TailoredTAG18-1_O3on_RBDCanola0.0005mgmL_020723</td>\n",
       "      <td>822.7 -&gt; 605.6</td>\n",
       "      <td>12.61</td>\n",
       "      <td>16637.0</td>\n",
       "      <td>740.7</td>\n",
       "      <td>712.7</td>\n",
       "      <td>670.7</td>\n",
       "      <td>n-7</td>\n",
       "    </tr>\n",
       "    <tr>\n",
       "      <th>665</th>\n",
       "      <td>NaN</td>\n",
       "      <td>2.937705e+06</td>\n",
       "      <td>[TG(55:9),TG(54:2)]_FA18:1</td>\n",
       "      <td>822.7</td>\n",
       "      <td>605.6</td>\n",
       "      <td>TailoredTAG18-1_O3on_RBDCanola0.0005mgmL_020723</td>\n",
       "      <td>822.7 -&gt; 605.6</td>\n",
       "      <td>12.61</td>\n",
       "      <td>16637.0</td>\n",
       "      <td>740.7</td>\n",
       "      <td>712.7</td>\n",
       "      <td>670.7</td>\n",
       "      <td>n-7</td>\n",
       "    </tr>\n",
       "    <tr>\n",
       "      <th>666</th>\n",
       "      <td>NaN</td>\n",
       "      <td>2.937705e+06</td>\n",
       "      <td>[TG(55:9),TG(54:2)]_FA18:1</td>\n",
       "      <td>822.7</td>\n",
       "      <td>605.6</td>\n",
       "      <td>TailoredTAG18-1_O3on_RBDCanola0.0005mgmL_020723</td>\n",
       "      <td>822.7 -&gt; 605.6</td>\n",
       "      <td>12.61</td>\n",
       "      <td>16637.0</td>\n",
       "      <td>740.7</td>\n",
       "      <td>712.7</td>\n",
       "      <td>670.7</td>\n",
       "      <td>n-7</td>\n",
       "    </tr>\n",
       "    <tr>\n",
       "      <th>667</th>\n",
       "      <td>NaN</td>\n",
       "      <td>2.937705e+06</td>\n",
       "      <td>[TG(55:9),TG(54:2)]_FA18:1</td>\n",
       "      <td>822.7</td>\n",
       "      <td>605.6</td>\n",
       "      <td>TailoredTAG18-1_O3on_RBDCanola0.0005mgmL_020723</td>\n",
       "      <td>822.7 -&gt; 605.6</td>\n",
       "      <td>12.61</td>\n",
       "      <td>16637.0</td>\n",
       "      <td>740.7</td>\n",
       "      <td>712.7</td>\n",
       "      <td>670.7</td>\n",
       "      <td>n-7</td>\n",
       "    </tr>\n",
       "  </tbody>\n",
       "</table>\n",
       "<p>576 rows × 13 columns</p>\n",
       "</div>"
      ],
      "text/plain": [
       "    Class     Intensity                        Lipid  Parent_Ion  Product_Ion  \\\n",
       "23    TAG  2.182617e+06            [TG(52:6)]_FA18:1       868.7        569.6   \n",
       "24    TAG  2.131391e+06            [TG(52:6)]_FA18:1       868.7        569.6   \n",
       "25    TAG  3.202354e+06            [TG(52:5)]_FA18:1       870.8        571.6   \n",
       "26    TAG  3.242962e+06            [TG(52:4)]_FA18:1       872.8        573.6   \n",
       "27    TAG  1.941393e+07  [TG(53:10),TG(52:3)]_FA18:1       874.8        575.6   \n",
       "..    ...           ...                          ...         ...          ...   \n",
       "663   NaN  2.523672e+06  [TG(55:10),TG(54:3)]_FA18:1       820.7        603.6   \n",
       "664   NaN  2.937705e+06   [TG(55:9),TG(54:2)]_FA18:1       822.7        605.6   \n",
       "665   NaN  2.937705e+06   [TG(55:9),TG(54:2)]_FA18:1       822.7        605.6   \n",
       "666   NaN  2.937705e+06   [TG(55:9),TG(54:2)]_FA18:1       822.7        605.6   \n",
       "667   NaN  2.937705e+06   [TG(55:9),TG(54:2)]_FA18:1       822.7        605.6   \n",
       "\n",
       "                                           Sample_ID      Transition  \\\n",
       "23    TailoredTAG18-1_O3on_Blank50ACN50IPA_v4_020723  868.7 -> 569.6   \n",
       "24    TailoredTAG18-1_O3on_Blank50ACN50IPA_v4_020723  868.7 -> 569.6   \n",
       "25    TailoredTAG18-1_O3on_Blank50ACN50IPA_v4_020723  870.8 -> 571.6   \n",
       "26    TailoredTAG18-1_O3on_Blank50ACN50IPA_v4_020723  872.8 -> 573.6   \n",
       "27    TailoredTAG18-1_O3on_Blank50ACN50IPA_v4_020723  874.8 -> 575.6   \n",
       "..                                               ...             ...   \n",
       "663  TailoredTAG18-1_O3on_RBDCanola0.0005mgmL_020723  820.7 -> 603.6   \n",
       "664  TailoredTAG18-1_O3on_RBDCanola0.0005mgmL_020723  822.7 -> 605.6   \n",
       "665  TailoredTAG18-1_O3on_RBDCanola0.0005mgmL_020723  822.7 -> 605.6   \n",
       "666  TailoredTAG18-1_O3on_RBDCanola0.0005mgmL_020723  822.7 -> 605.6   \n",
       "667  TailoredTAG18-1_O3on_RBDCanola0.0005mgmL_020723  822.7 -> 605.6   \n",
       "\n",
       "     Retention_Time  OzESI_Intensity    n-7    n-9   n-12 Labels  \n",
       "23            19.75           1718.0  786.7  758.7  716.7         \n",
       "24            16.93           2339.0  786.7  758.7  716.7         \n",
       "25            20.00           2439.0  788.8  760.8  718.8         \n",
       "26            19.74          16159.0  790.8  762.8  720.8         \n",
       "27            19.12          24965.0  792.8  764.8  722.8         \n",
       "..              ...              ...    ...    ...    ...    ...  \n",
       "663           10.77           3900.0  738.7  710.7  668.7    n-7  \n",
       "664           12.61          16637.0  740.7  712.7  670.7    n-7  \n",
       "665           12.61          16637.0  740.7  712.7  670.7    n-7  \n",
       "666           12.61          16637.0  740.7  712.7  670.7    n-7  \n",
       "667           12.61          16637.0  740.7  712.7  670.7    n-7  \n",
       "\n",
       "[576 rows x 13 columns]"
      ]
     },
     "execution_count": 35,
     "metadata": {},
     "output_type": "execute_result"
    }
   ],
   "source": [
    "df_matched_3.head(None) "
   ]
  },
  {
   "cell_type": "code",
   "execution_count": 36,
   "metadata": {},
   "outputs": [
    {
     "data": {
      "text/html": [
       "<div>\n",
       "<style scoped>\n",
       "    .dataframe tbody tr th:only-of-type {\n",
       "        vertical-align: middle;\n",
       "    }\n",
       "\n",
       "    .dataframe tbody tr th {\n",
       "        vertical-align: top;\n",
       "    }\n",
       "\n",
       "    .dataframe thead th {\n",
       "        text-align: right;\n",
       "    }\n",
       "</style>\n",
       "<table border=\"1\" class=\"dataframe\">\n",
       "  <thead>\n",
       "    <tr style=\"text-align: right;\">\n",
       "      <th></th>\n",
       "      <th>Class</th>\n",
       "      <th>Intensity</th>\n",
       "      <th>Lipid</th>\n",
       "      <th>Parent_Ion</th>\n",
       "      <th>Product_Ion</th>\n",
       "      <th>Sample_ID</th>\n",
       "      <th>Transition</th>\n",
       "      <th>Retention_Time</th>\n",
       "      <th>OzESI_Intensity</th>\n",
       "      <th>n-7</th>\n",
       "      <th>n-9</th>\n",
       "      <th>n-12</th>\n",
       "      <th>Labels</th>\n",
       "    </tr>\n",
       "  </thead>\n",
       "  <tbody>\n",
       "    <tr>\n",
       "      <th>23</th>\n",
       "      <td>TAG</td>\n",
       "      <td>2.182617e+06</td>\n",
       "      <td>[TG(52:6)]_FA18:1</td>\n",
       "      <td>868.7</td>\n",
       "      <td>569.6</td>\n",
       "      <td>TailoredTAG18-1_O3on_Blank50ACN50IPA_v4_020723</td>\n",
       "      <td>868.7 -&gt; 569.6</td>\n",
       "      <td>19.75</td>\n",
       "      <td>1718.0</td>\n",
       "      <td>786.7</td>\n",
       "      <td>758.7</td>\n",
       "      <td>716.7</td>\n",
       "      <td></td>\n",
       "    </tr>\n",
       "    <tr>\n",
       "      <th>24</th>\n",
       "      <td>TAG</td>\n",
       "      <td>2.131391e+06</td>\n",
       "      <td>[TG(52:6)]_FA18:1</td>\n",
       "      <td>868.7</td>\n",
       "      <td>569.6</td>\n",
       "      <td>TailoredTAG18-1_O3on_Blank50ACN50IPA_v4_020723</td>\n",
       "      <td>868.7 -&gt; 569.6</td>\n",
       "      <td>16.93</td>\n",
       "      <td>2339.0</td>\n",
       "      <td>786.7</td>\n",
       "      <td>758.7</td>\n",
       "      <td>716.7</td>\n",
       "      <td></td>\n",
       "    </tr>\n",
       "    <tr>\n",
       "      <th>160</th>\n",
       "      <td>NaN</td>\n",
       "      <td>1.660143e+06</td>\n",
       "      <td>[TG(52:6)]_FA18:1</td>\n",
       "      <td>786.6</td>\n",
       "      <td>569.6</td>\n",
       "      <td>TailoredTAG18-1_O3on_Blank50ACN50IPA_v4_020723</td>\n",
       "      <td>786.6 -&gt; 569.6</td>\n",
       "      <td>18.11</td>\n",
       "      <td>1164.0</td>\n",
       "      <td>704.6</td>\n",
       "      <td>676.6</td>\n",
       "      <td>634.6</td>\n",
       "      <td>n-7</td>\n",
       "    </tr>\n",
       "    <tr>\n",
       "      <th>161</th>\n",
       "      <td>NaN</td>\n",
       "      <td>1.660143e+06</td>\n",
       "      <td>[TG(52:6)]_FA18:1</td>\n",
       "      <td>786.6</td>\n",
       "      <td>569.6</td>\n",
       "      <td>TailoredTAG18-1_O3on_Blank50ACN50IPA_v4_020723</td>\n",
       "      <td>786.6 -&gt; 569.6</td>\n",
       "      <td>18.11</td>\n",
       "      <td>1164.0</td>\n",
       "      <td>704.6</td>\n",
       "      <td>676.6</td>\n",
       "      <td>634.6</td>\n",
       "      <td>n-7</td>\n",
       "    </tr>\n",
       "    <tr>\n",
       "      <th>162</th>\n",
       "      <td>NaN</td>\n",
       "      <td>1.660143e+06</td>\n",
       "      <td>[TG(54:6)]_FA18:1</td>\n",
       "      <td>786.6</td>\n",
       "      <td>569.6</td>\n",
       "      <td>TailoredTAG18-1_O3on_Blank50ACN50IPA_v4_020723</td>\n",
       "      <td>786.6 -&gt; 569.6</td>\n",
       "      <td>18.11</td>\n",
       "      <td>1164.0</td>\n",
       "      <td>704.6</td>\n",
       "      <td>676.6</td>\n",
       "      <td>634.6</td>\n",
       "      <td>n-9</td>\n",
       "    </tr>\n",
       "    <tr>\n",
       "      <th>...</th>\n",
       "      <td>...</td>\n",
       "      <td>...</td>\n",
       "      <td>...</td>\n",
       "      <td>...</td>\n",
       "      <td>...</td>\n",
       "      <td>...</td>\n",
       "      <td>...</td>\n",
       "      <td>...</td>\n",
       "      <td>...</td>\n",
       "      <td>...</td>\n",
       "      <td>...</td>\n",
       "      <td>...</td>\n",
       "      <td>...</td>\n",
       "    </tr>\n",
       "    <tr>\n",
       "      <th>635</th>\n",
       "      <td>NaN</td>\n",
       "      <td>5.010360e+06</td>\n",
       "      <td>[TG(55:9),TG(54:2)]_FA18:1</td>\n",
       "      <td>794.6</td>\n",
       "      <td>605.6</td>\n",
       "      <td>TailoredTAG18-1_O3on_RBDCanola0.0005mgmL_020723</td>\n",
       "      <td>794.6 -&gt; 605.6</td>\n",
       "      <td>19.81</td>\n",
       "      <td>1153.0</td>\n",
       "      <td>712.6</td>\n",
       "      <td>684.6</td>\n",
       "      <td>642.6</td>\n",
       "      <td>n-9</td>\n",
       "    </tr>\n",
       "    <tr>\n",
       "      <th>664</th>\n",
       "      <td>NaN</td>\n",
       "      <td>2.937705e+06</td>\n",
       "      <td>[TG(55:9),TG(54:2)]_FA18:1</td>\n",
       "      <td>822.7</td>\n",
       "      <td>605.6</td>\n",
       "      <td>TailoredTAG18-1_O3on_RBDCanola0.0005mgmL_020723</td>\n",
       "      <td>822.7 -&gt; 605.6</td>\n",
       "      <td>12.61</td>\n",
       "      <td>16637.0</td>\n",
       "      <td>740.7</td>\n",
       "      <td>712.7</td>\n",
       "      <td>670.7</td>\n",
       "      <td>n-7</td>\n",
       "    </tr>\n",
       "    <tr>\n",
       "      <th>665</th>\n",
       "      <td>NaN</td>\n",
       "      <td>2.937705e+06</td>\n",
       "      <td>[TG(55:9),TG(54:2)]_FA18:1</td>\n",
       "      <td>822.7</td>\n",
       "      <td>605.6</td>\n",
       "      <td>TailoredTAG18-1_O3on_RBDCanola0.0005mgmL_020723</td>\n",
       "      <td>822.7 -&gt; 605.6</td>\n",
       "      <td>12.61</td>\n",
       "      <td>16637.0</td>\n",
       "      <td>740.7</td>\n",
       "      <td>712.7</td>\n",
       "      <td>670.7</td>\n",
       "      <td>n-7</td>\n",
       "    </tr>\n",
       "    <tr>\n",
       "      <th>666</th>\n",
       "      <td>NaN</td>\n",
       "      <td>2.937705e+06</td>\n",
       "      <td>[TG(55:9),TG(54:2)]_FA18:1</td>\n",
       "      <td>822.7</td>\n",
       "      <td>605.6</td>\n",
       "      <td>TailoredTAG18-1_O3on_RBDCanola0.0005mgmL_020723</td>\n",
       "      <td>822.7 -&gt; 605.6</td>\n",
       "      <td>12.61</td>\n",
       "      <td>16637.0</td>\n",
       "      <td>740.7</td>\n",
       "      <td>712.7</td>\n",
       "      <td>670.7</td>\n",
       "      <td>n-7</td>\n",
       "    </tr>\n",
       "    <tr>\n",
       "      <th>667</th>\n",
       "      <td>NaN</td>\n",
       "      <td>2.937705e+06</td>\n",
       "      <td>[TG(55:9),TG(54:2)]_FA18:1</td>\n",
       "      <td>822.7</td>\n",
       "      <td>605.6</td>\n",
       "      <td>TailoredTAG18-1_O3on_RBDCanola0.0005mgmL_020723</td>\n",
       "      <td>822.7 -&gt; 605.6</td>\n",
       "      <td>12.61</td>\n",
       "      <td>16637.0</td>\n",
       "      <td>740.7</td>\n",
       "      <td>712.7</td>\n",
       "      <td>670.7</td>\n",
       "      <td>n-7</td>\n",
       "    </tr>\n",
       "  </tbody>\n",
       "</table>\n",
       "<p>576 rows × 13 columns</p>\n",
       "</div>"
      ],
      "text/plain": [
       "    Class     Intensity                       Lipid  Parent_Ion  Product_Ion  \\\n",
       "23    TAG  2.182617e+06           [TG(52:6)]_FA18:1       868.7        569.6   \n",
       "24    TAG  2.131391e+06           [TG(52:6)]_FA18:1       868.7        569.6   \n",
       "160   NaN  1.660143e+06           [TG(52:6)]_FA18:1       786.6        569.6   \n",
       "161   NaN  1.660143e+06           [TG(52:6)]_FA18:1       786.6        569.6   \n",
       "162   NaN  1.660143e+06           [TG(54:6)]_FA18:1       786.6        569.6   \n",
       "..    ...           ...                         ...         ...          ...   \n",
       "635   NaN  5.010360e+06  [TG(55:9),TG(54:2)]_FA18:1       794.6        605.6   \n",
       "664   NaN  2.937705e+06  [TG(55:9),TG(54:2)]_FA18:1       822.7        605.6   \n",
       "665   NaN  2.937705e+06  [TG(55:9),TG(54:2)]_FA18:1       822.7        605.6   \n",
       "666   NaN  2.937705e+06  [TG(55:9),TG(54:2)]_FA18:1       822.7        605.6   \n",
       "667   NaN  2.937705e+06  [TG(55:9),TG(54:2)]_FA18:1       822.7        605.6   \n",
       "\n",
       "                                           Sample_ID      Transition  \\\n",
       "23    TailoredTAG18-1_O3on_Blank50ACN50IPA_v4_020723  868.7 -> 569.6   \n",
       "24    TailoredTAG18-1_O3on_Blank50ACN50IPA_v4_020723  868.7 -> 569.6   \n",
       "160   TailoredTAG18-1_O3on_Blank50ACN50IPA_v4_020723  786.6 -> 569.6   \n",
       "161   TailoredTAG18-1_O3on_Blank50ACN50IPA_v4_020723  786.6 -> 569.6   \n",
       "162   TailoredTAG18-1_O3on_Blank50ACN50IPA_v4_020723  786.6 -> 569.6   \n",
       "..                                               ...             ...   \n",
       "635  TailoredTAG18-1_O3on_RBDCanola0.0005mgmL_020723  794.6 -> 605.6   \n",
       "664  TailoredTAG18-1_O3on_RBDCanola0.0005mgmL_020723  822.7 -> 605.6   \n",
       "665  TailoredTAG18-1_O3on_RBDCanola0.0005mgmL_020723  822.7 -> 605.6   \n",
       "666  TailoredTAG18-1_O3on_RBDCanola0.0005mgmL_020723  822.7 -> 605.6   \n",
       "667  TailoredTAG18-1_O3on_RBDCanola0.0005mgmL_020723  822.7 -> 605.6   \n",
       "\n",
       "     Retention_Time  OzESI_Intensity    n-7    n-9   n-12 Labels  \n",
       "23            19.75           1718.0  786.7  758.7  716.7         \n",
       "24            16.93           2339.0  786.7  758.7  716.7         \n",
       "160           18.11           1164.0  704.6  676.6  634.6    n-7  \n",
       "161           18.11           1164.0  704.6  676.6  634.6    n-7  \n",
       "162           18.11           1164.0  704.6  676.6  634.6    n-9  \n",
       "..              ...              ...    ...    ...    ...    ...  \n",
       "635           19.81           1153.0  712.6  684.6  642.6    n-9  \n",
       "664           12.61          16637.0  740.7  712.7  670.7    n-7  \n",
       "665           12.61          16637.0  740.7  712.7  670.7    n-7  \n",
       "666           12.61          16637.0  740.7  712.7  670.7    n-7  \n",
       "667           12.61          16637.0  740.7  712.7  670.7    n-7  \n",
       "\n",
       "[576 rows x 13 columns]"
      ]
     },
     "execution_count": 36,
     "metadata": {},
     "output_type": "execute_result"
    }
   ],
   "source": [
    "df_matched_3_sorted = df_matched_3.sort_values(by=['Sample_ID','Product_Ion'])\n",
    "df_matched_3_sorted.head(None)\n"
   ]
  },
  {
   "cell_type": "code",
   "execution_count": 37,
   "metadata": {},
   "outputs": [
    {
     "data": {
      "text/html": [
       "<div>\n",
       "<style scoped>\n",
       "    .dataframe tbody tr th:only-of-type {\n",
       "        vertical-align: middle;\n",
       "    }\n",
       "\n",
       "    .dataframe tbody tr th {\n",
       "        vertical-align: top;\n",
       "    }\n",
       "\n",
       "    .dataframe thead th {\n",
       "        text-align: right;\n",
       "    }\n",
       "</style>\n",
       "<table border=\"1\" class=\"dataframe\">\n",
       "  <thead>\n",
       "    <tr style=\"text-align: right;\">\n",
       "      <th></th>\n",
       "      <th>Class</th>\n",
       "      <th>Intensity</th>\n",
       "      <th>Lipid</th>\n",
       "      <th>Parent_Ion</th>\n",
       "      <th>Product_Ion</th>\n",
       "      <th>Sample_ID</th>\n",
       "      <th>Transition</th>\n",
       "      <th>Retention_Time</th>\n",
       "      <th>OzESI_Intensity</th>\n",
       "      <th>n-7</th>\n",
       "      <th>n-9</th>\n",
       "      <th>n-12</th>\n",
       "      <th>Labels</th>\n",
       "    </tr>\n",
       "  </thead>\n",
       "  <tbody>\n",
       "    <tr>\n",
       "      <th>23</th>\n",
       "      <td>TAG</td>\n",
       "      <td>2.182617e+06</td>\n",
       "      <td>[TG(52:6)]_FA18:1</td>\n",
       "      <td>868.7</td>\n",
       "      <td>569.6</td>\n",
       "      <td>TailoredTAG18-1_O3on_Blank50ACN50IPA_v4_020723</td>\n",
       "      <td>868.7 -&gt; 569.6</td>\n",
       "      <td>19.75</td>\n",
       "      <td>1718.0</td>\n",
       "      <td>786.7</td>\n",
       "      <td>758.7</td>\n",
       "      <td>716.7</td>\n",
       "      <td></td>\n",
       "    </tr>\n",
       "    <tr>\n",
       "      <th>24</th>\n",
       "      <td>TAG</td>\n",
       "      <td>2.131391e+06</td>\n",
       "      <td>[TG(52:6)]_FA18:1</td>\n",
       "      <td>868.7</td>\n",
       "      <td>569.6</td>\n",
       "      <td>TailoredTAG18-1_O3on_Blank50ACN50IPA_v4_020723</td>\n",
       "      <td>868.7 -&gt; 569.6</td>\n",
       "      <td>16.93</td>\n",
       "      <td>2339.0</td>\n",
       "      <td>786.7</td>\n",
       "      <td>758.7</td>\n",
       "      <td>716.7</td>\n",
       "      <td></td>\n",
       "    </tr>\n",
       "    <tr>\n",
       "      <th>160</th>\n",
       "      <td>NaN</td>\n",
       "      <td>1.660143e+06</td>\n",
       "      <td>[TG(52:6)]_FA18:1</td>\n",
       "      <td>786.6</td>\n",
       "      <td>569.6</td>\n",
       "      <td>TailoredTAG18-1_O3on_Blank50ACN50IPA_v4_020723</td>\n",
       "      <td>786.6 -&gt; 569.6</td>\n",
       "      <td>18.11</td>\n",
       "      <td>1164.0</td>\n",
       "      <td>704.6</td>\n",
       "      <td>676.6</td>\n",
       "      <td>634.6</td>\n",
       "      <td>n-7</td>\n",
       "    </tr>\n",
       "    <tr>\n",
       "      <th>161</th>\n",
       "      <td>NaN</td>\n",
       "      <td>1.660143e+06</td>\n",
       "      <td>[TG(52:6)]_FA18:1</td>\n",
       "      <td>786.6</td>\n",
       "      <td>569.6</td>\n",
       "      <td>TailoredTAG18-1_O3on_Blank50ACN50IPA_v4_020723</td>\n",
       "      <td>786.6 -&gt; 569.6</td>\n",
       "      <td>18.11</td>\n",
       "      <td>1164.0</td>\n",
       "      <td>704.6</td>\n",
       "      <td>676.6</td>\n",
       "      <td>634.6</td>\n",
       "      <td>n-7</td>\n",
       "    </tr>\n",
       "    <tr>\n",
       "      <th>162</th>\n",
       "      <td>NaN</td>\n",
       "      <td>1.660143e+06</td>\n",
       "      <td>[TG(54:6)]_FA18:1</td>\n",
       "      <td>786.6</td>\n",
       "      <td>569.6</td>\n",
       "      <td>TailoredTAG18-1_O3on_Blank50ACN50IPA_v4_020723</td>\n",
       "      <td>786.6 -&gt; 569.6</td>\n",
       "      <td>18.11</td>\n",
       "      <td>1164.0</td>\n",
       "      <td>704.6</td>\n",
       "      <td>676.6</td>\n",
       "      <td>634.6</td>\n",
       "      <td>n-9</td>\n",
       "    </tr>\n",
       "    <tr>\n",
       "      <th>...</th>\n",
       "      <td>...</td>\n",
       "      <td>...</td>\n",
       "      <td>...</td>\n",
       "      <td>...</td>\n",
       "      <td>...</td>\n",
       "      <td>...</td>\n",
       "      <td>...</td>\n",
       "      <td>...</td>\n",
       "      <td>...</td>\n",
       "      <td>...</td>\n",
       "      <td>...</td>\n",
       "      <td>...</td>\n",
       "      <td>...</td>\n",
       "    </tr>\n",
       "    <tr>\n",
       "      <th>635</th>\n",
       "      <td>NaN</td>\n",
       "      <td>5.010360e+06</td>\n",
       "      <td>[TG(55:9),TG(54:2)]_FA18:1</td>\n",
       "      <td>794.6</td>\n",
       "      <td>605.6</td>\n",
       "      <td>TailoredTAG18-1_O3on_RBDCanola0.0005mgmL_020723</td>\n",
       "      <td>794.6 -&gt; 605.6</td>\n",
       "      <td>19.81</td>\n",
       "      <td>1153.0</td>\n",
       "      <td>712.6</td>\n",
       "      <td>684.6</td>\n",
       "      <td>642.6</td>\n",
       "      <td>n-9</td>\n",
       "    </tr>\n",
       "    <tr>\n",
       "      <th>664</th>\n",
       "      <td>NaN</td>\n",
       "      <td>2.937705e+06</td>\n",
       "      <td>[TG(55:9),TG(54:2)]_FA18:1</td>\n",
       "      <td>822.7</td>\n",
       "      <td>605.6</td>\n",
       "      <td>TailoredTAG18-1_O3on_RBDCanola0.0005mgmL_020723</td>\n",
       "      <td>822.7 -&gt; 605.6</td>\n",
       "      <td>12.61</td>\n",
       "      <td>16637.0</td>\n",
       "      <td>740.7</td>\n",
       "      <td>712.7</td>\n",
       "      <td>670.7</td>\n",
       "      <td>n-7</td>\n",
       "    </tr>\n",
       "    <tr>\n",
       "      <th>665</th>\n",
       "      <td>NaN</td>\n",
       "      <td>2.937705e+06</td>\n",
       "      <td>[TG(55:9),TG(54:2)]_FA18:1</td>\n",
       "      <td>822.7</td>\n",
       "      <td>605.6</td>\n",
       "      <td>TailoredTAG18-1_O3on_RBDCanola0.0005mgmL_020723</td>\n",
       "      <td>822.7 -&gt; 605.6</td>\n",
       "      <td>12.61</td>\n",
       "      <td>16637.0</td>\n",
       "      <td>740.7</td>\n",
       "      <td>712.7</td>\n",
       "      <td>670.7</td>\n",
       "      <td>n-7</td>\n",
       "    </tr>\n",
       "    <tr>\n",
       "      <th>666</th>\n",
       "      <td>NaN</td>\n",
       "      <td>2.937705e+06</td>\n",
       "      <td>[TG(55:9),TG(54:2)]_FA18:1</td>\n",
       "      <td>822.7</td>\n",
       "      <td>605.6</td>\n",
       "      <td>TailoredTAG18-1_O3on_RBDCanola0.0005mgmL_020723</td>\n",
       "      <td>822.7 -&gt; 605.6</td>\n",
       "      <td>12.61</td>\n",
       "      <td>16637.0</td>\n",
       "      <td>740.7</td>\n",
       "      <td>712.7</td>\n",
       "      <td>670.7</td>\n",
       "      <td>n-7</td>\n",
       "    </tr>\n",
       "    <tr>\n",
       "      <th>667</th>\n",
       "      <td>NaN</td>\n",
       "      <td>2.937705e+06</td>\n",
       "      <td>[TG(55:9),TG(54:2)]_FA18:1</td>\n",
       "      <td>822.7</td>\n",
       "      <td>605.6</td>\n",
       "      <td>TailoredTAG18-1_O3on_RBDCanola0.0005mgmL_020723</td>\n",
       "      <td>822.7 -&gt; 605.6</td>\n",
       "      <td>12.61</td>\n",
       "      <td>16637.0</td>\n",
       "      <td>740.7</td>\n",
       "      <td>712.7</td>\n",
       "      <td>670.7</td>\n",
       "      <td>n-7</td>\n",
       "    </tr>\n",
       "  </tbody>\n",
       "</table>\n",
       "<p>576 rows × 13 columns</p>\n",
       "</div>"
      ],
      "text/plain": [
       "    Class     Intensity                       Lipid  Parent_Ion  Product_Ion  \\\n",
       "23    TAG  2.182617e+06           [TG(52:6)]_FA18:1       868.7        569.6   \n",
       "24    TAG  2.131391e+06           [TG(52:6)]_FA18:1       868.7        569.6   \n",
       "160   NaN  1.660143e+06           [TG(52:6)]_FA18:1       786.6        569.6   \n",
       "161   NaN  1.660143e+06           [TG(52:6)]_FA18:1       786.6        569.6   \n",
       "162   NaN  1.660143e+06           [TG(54:6)]_FA18:1       786.6        569.6   \n",
       "..    ...           ...                         ...         ...          ...   \n",
       "635   NaN  5.010360e+06  [TG(55:9),TG(54:2)]_FA18:1       794.6        605.6   \n",
       "664   NaN  2.937705e+06  [TG(55:9),TG(54:2)]_FA18:1       822.7        605.6   \n",
       "665   NaN  2.937705e+06  [TG(55:9),TG(54:2)]_FA18:1       822.7        605.6   \n",
       "666   NaN  2.937705e+06  [TG(55:9),TG(54:2)]_FA18:1       822.7        605.6   \n",
       "667   NaN  2.937705e+06  [TG(55:9),TG(54:2)]_FA18:1       822.7        605.6   \n",
       "\n",
       "                                           Sample_ID      Transition  \\\n",
       "23    TailoredTAG18-1_O3on_Blank50ACN50IPA_v4_020723  868.7 -> 569.6   \n",
       "24    TailoredTAG18-1_O3on_Blank50ACN50IPA_v4_020723  868.7 -> 569.6   \n",
       "160   TailoredTAG18-1_O3on_Blank50ACN50IPA_v4_020723  786.6 -> 569.6   \n",
       "161   TailoredTAG18-1_O3on_Blank50ACN50IPA_v4_020723  786.6 -> 569.6   \n",
       "162   TailoredTAG18-1_O3on_Blank50ACN50IPA_v4_020723  786.6 -> 569.6   \n",
       "..                                               ...             ...   \n",
       "635  TailoredTAG18-1_O3on_RBDCanola0.0005mgmL_020723  794.6 -> 605.6   \n",
       "664  TailoredTAG18-1_O3on_RBDCanola0.0005mgmL_020723  822.7 -> 605.6   \n",
       "665  TailoredTAG18-1_O3on_RBDCanola0.0005mgmL_020723  822.7 -> 605.6   \n",
       "666  TailoredTAG18-1_O3on_RBDCanola0.0005mgmL_020723  822.7 -> 605.6   \n",
       "667  TailoredTAG18-1_O3on_RBDCanola0.0005mgmL_020723  822.7 -> 605.6   \n",
       "\n",
       "     Retention_Time  OzESI_Intensity    n-7    n-9   n-12 Labels  \n",
       "23            19.75           1718.0  786.7  758.7  716.7         \n",
       "24            16.93           2339.0  786.7  758.7  716.7         \n",
       "160           18.11           1164.0  704.6  676.6  634.6    n-7  \n",
       "161           18.11           1164.0  704.6  676.6  634.6    n-7  \n",
       "162           18.11           1164.0  704.6  676.6  634.6    n-9  \n",
       "..              ...              ...    ...    ...    ...    ...  \n",
       "635           19.81           1153.0  712.6  684.6  642.6    n-9  \n",
       "664           12.61          16637.0  740.7  712.7  670.7    n-7  \n",
       "665           12.61          16637.0  740.7  712.7  670.7    n-7  \n",
       "666           12.61          16637.0  740.7  712.7  670.7    n-7  \n",
       "667           12.61          16637.0  740.7  712.7  670.7    n-7  \n",
       "\n",
       "[576 rows x 13 columns]"
      ]
     },
     "execution_count": 37,
     "metadata": {},
     "output_type": "execute_result"
    }
   ],
   "source": [
    "df_matched_3_sorted.head(None)"
   ]
  },
  {
   "cell_type": "code",
   "execution_count": 38,
   "metadata": {},
   "outputs": [],
   "source": [
    "df_matched_4 = df_matched_3_sorted.copy()\n",
    "df_matched_4['Ratios'] = None\n",
    "\n",
    "\n",
    "def calculate_intensity_ratio(df):\n",
    "    # Create a new column for ratios\n",
    "    df['Ratios'] = pd.Series(dtype='float64')\n",
    "\n",
    "    # Iterate through each row in the DataFrame\n",
    "    for index, row in df.iterrows():\n",
    "        lipid = row['Lipid']\n",
    "        label = row['Labels']\n",
    "        intensity = row['OzESI_Intensity']\n",
    "        sample_id = row['Sample_ID']\n",
    "\n",
    "        # Check if the label is n-9\n",
    "        if label == 'n-9':\n",
    "            # Find the corresponding row with n-7 label and same lipid name\n",
    "            n7_row = df[(df['Lipid'] == lipid) & (df['Labels'] == 'n-7')& (df['Sample_ID'] == sample_id)]\n",
    "\n",
    "            # If a matching row is found, calculate the intensity ratio\n",
    "            if not n7_row.empty:\n",
    "                n7_intensity = n7_row['OzESI_Intensity'].values[0]\n",
    "                ratio = intensity / n7_intensity\n",
    "\n",
    "                # Assign the ratio to the 'Ratios' column\n",
    "                df.at[index, 'Ratios'] = ratio\n",
    "\n",
    "    return df\n",
    "\n",
    "df_matched_4 = calculate_intensity_ratio(df_matched_4)\n"
   ]
  },
  {
   "cell_type": "code",
   "execution_count": 39,
   "metadata": {},
   "outputs": [
    {
     "data": {
      "text/html": [
       "<div>\n",
       "<style scoped>\n",
       "    .dataframe tbody tr th:only-of-type {\n",
       "        vertical-align: middle;\n",
       "    }\n",
       "\n",
       "    .dataframe tbody tr th {\n",
       "        vertical-align: top;\n",
       "    }\n",
       "\n",
       "    .dataframe thead th {\n",
       "        text-align: right;\n",
       "    }\n",
       "</style>\n",
       "<table border=\"1\" class=\"dataframe\">\n",
       "  <thead>\n",
       "    <tr style=\"text-align: right;\">\n",
       "      <th></th>\n",
       "      <th>Class</th>\n",
       "      <th>Intensity</th>\n",
       "      <th>Lipid</th>\n",
       "      <th>Parent_Ion</th>\n",
       "      <th>Product_Ion</th>\n",
       "      <th>Sample_ID</th>\n",
       "      <th>Transition</th>\n",
       "      <th>Retention_Time</th>\n",
       "      <th>OzESI_Intensity</th>\n",
       "      <th>n-7</th>\n",
       "      <th>n-9</th>\n",
       "      <th>n-12</th>\n",
       "      <th>Labels</th>\n",
       "      <th>Ratios</th>\n",
       "    </tr>\n",
       "  </thead>\n",
       "  <tbody>\n",
       "    <tr>\n",
       "      <th>23</th>\n",
       "      <td>TAG</td>\n",
       "      <td>2.182617e+06</td>\n",
       "      <td>[TG(52:6)]_FA18:1</td>\n",
       "      <td>868.7</td>\n",
       "      <td>569.6</td>\n",
       "      <td>TailoredTAG18-1_O3on_Blank50ACN50IPA_v4_020723</td>\n",
       "      <td>868.7 -&gt; 569.6</td>\n",
       "      <td>19.75</td>\n",
       "      <td>1718.0</td>\n",
       "      <td>786.7</td>\n",
       "      <td>758.7</td>\n",
       "      <td>716.7</td>\n",
       "      <td></td>\n",
       "      <td>NaN</td>\n",
       "    </tr>\n",
       "    <tr>\n",
       "      <th>24</th>\n",
       "      <td>TAG</td>\n",
       "      <td>2.131391e+06</td>\n",
       "      <td>[TG(52:6)]_FA18:1</td>\n",
       "      <td>868.7</td>\n",
       "      <td>569.6</td>\n",
       "      <td>TailoredTAG18-1_O3on_Blank50ACN50IPA_v4_020723</td>\n",
       "      <td>868.7 -&gt; 569.6</td>\n",
       "      <td>16.93</td>\n",
       "      <td>2339.0</td>\n",
       "      <td>786.7</td>\n",
       "      <td>758.7</td>\n",
       "      <td>716.7</td>\n",
       "      <td></td>\n",
       "      <td>NaN</td>\n",
       "    </tr>\n",
       "    <tr>\n",
       "      <th>160</th>\n",
       "      <td>NaN</td>\n",
       "      <td>1.660143e+06</td>\n",
       "      <td>[TG(52:6)]_FA18:1</td>\n",
       "      <td>786.6</td>\n",
       "      <td>569.6</td>\n",
       "      <td>TailoredTAG18-1_O3on_Blank50ACN50IPA_v4_020723</td>\n",
       "      <td>786.6 -&gt; 569.6</td>\n",
       "      <td>18.11</td>\n",
       "      <td>1164.0</td>\n",
       "      <td>704.6</td>\n",
       "      <td>676.6</td>\n",
       "      <td>634.6</td>\n",
       "      <td>n-7</td>\n",
       "      <td>NaN</td>\n",
       "    </tr>\n",
       "    <tr>\n",
       "      <th>161</th>\n",
       "      <td>NaN</td>\n",
       "      <td>1.660143e+06</td>\n",
       "      <td>[TG(52:6)]_FA18:1</td>\n",
       "      <td>786.6</td>\n",
       "      <td>569.6</td>\n",
       "      <td>TailoredTAG18-1_O3on_Blank50ACN50IPA_v4_020723</td>\n",
       "      <td>786.6 -&gt; 569.6</td>\n",
       "      <td>18.11</td>\n",
       "      <td>1164.0</td>\n",
       "      <td>704.6</td>\n",
       "      <td>676.6</td>\n",
       "      <td>634.6</td>\n",
       "      <td>n-7</td>\n",
       "      <td>NaN</td>\n",
       "    </tr>\n",
       "    <tr>\n",
       "      <th>162</th>\n",
       "      <td>NaN</td>\n",
       "      <td>1.660143e+06</td>\n",
       "      <td>[TG(54:6)]_FA18:1</td>\n",
       "      <td>786.6</td>\n",
       "      <td>569.6</td>\n",
       "      <td>TailoredTAG18-1_O3on_Blank50ACN50IPA_v4_020723</td>\n",
       "      <td>786.6 -&gt; 569.6</td>\n",
       "      <td>18.11</td>\n",
       "      <td>1164.0</td>\n",
       "      <td>704.6</td>\n",
       "      <td>676.6</td>\n",
       "      <td>634.6</td>\n",
       "      <td>n-9</td>\n",
       "      <td>0.813417</td>\n",
       "    </tr>\n",
       "    <tr>\n",
       "      <th>...</th>\n",
       "      <td>...</td>\n",
       "      <td>...</td>\n",
       "      <td>...</td>\n",
       "      <td>...</td>\n",
       "      <td>...</td>\n",
       "      <td>...</td>\n",
       "      <td>...</td>\n",
       "      <td>...</td>\n",
       "      <td>...</td>\n",
       "      <td>...</td>\n",
       "      <td>...</td>\n",
       "      <td>...</td>\n",
       "      <td>...</td>\n",
       "      <td>...</td>\n",
       "    </tr>\n",
       "    <tr>\n",
       "      <th>635</th>\n",
       "      <td>NaN</td>\n",
       "      <td>5.010360e+06</td>\n",
       "      <td>[TG(55:9),TG(54:2)]_FA18:1</td>\n",
       "      <td>794.6</td>\n",
       "      <td>605.6</td>\n",
       "      <td>TailoredTAG18-1_O3on_RBDCanola0.0005mgmL_020723</td>\n",
       "      <td>794.6 -&gt; 605.6</td>\n",
       "      <td>19.81</td>\n",
       "      <td>1153.0</td>\n",
       "      <td>712.6</td>\n",
       "      <td>684.6</td>\n",
       "      <td>642.6</td>\n",
       "      <td>n-9</td>\n",
       "      <td>0.069303</td>\n",
       "    </tr>\n",
       "    <tr>\n",
       "      <th>664</th>\n",
       "      <td>NaN</td>\n",
       "      <td>2.937705e+06</td>\n",
       "      <td>[TG(55:9),TG(54:2)]_FA18:1</td>\n",
       "      <td>822.7</td>\n",
       "      <td>605.6</td>\n",
       "      <td>TailoredTAG18-1_O3on_RBDCanola0.0005mgmL_020723</td>\n",
       "      <td>822.7 -&gt; 605.6</td>\n",
       "      <td>12.61</td>\n",
       "      <td>16637.0</td>\n",
       "      <td>740.7</td>\n",
       "      <td>712.7</td>\n",
       "      <td>670.7</td>\n",
       "      <td>n-7</td>\n",
       "      <td>NaN</td>\n",
       "    </tr>\n",
       "    <tr>\n",
       "      <th>665</th>\n",
       "      <td>NaN</td>\n",
       "      <td>2.937705e+06</td>\n",
       "      <td>[TG(55:9),TG(54:2)]_FA18:1</td>\n",
       "      <td>822.7</td>\n",
       "      <td>605.6</td>\n",
       "      <td>TailoredTAG18-1_O3on_RBDCanola0.0005mgmL_020723</td>\n",
       "      <td>822.7 -&gt; 605.6</td>\n",
       "      <td>12.61</td>\n",
       "      <td>16637.0</td>\n",
       "      <td>740.7</td>\n",
       "      <td>712.7</td>\n",
       "      <td>670.7</td>\n",
       "      <td>n-7</td>\n",
       "      <td>NaN</td>\n",
       "    </tr>\n",
       "    <tr>\n",
       "      <th>666</th>\n",
       "      <td>NaN</td>\n",
       "      <td>2.937705e+06</td>\n",
       "      <td>[TG(55:9),TG(54:2)]_FA18:1</td>\n",
       "      <td>822.7</td>\n",
       "      <td>605.6</td>\n",
       "      <td>TailoredTAG18-1_O3on_RBDCanola0.0005mgmL_020723</td>\n",
       "      <td>822.7 -&gt; 605.6</td>\n",
       "      <td>12.61</td>\n",
       "      <td>16637.0</td>\n",
       "      <td>740.7</td>\n",
       "      <td>712.7</td>\n",
       "      <td>670.7</td>\n",
       "      <td>n-7</td>\n",
       "      <td>NaN</td>\n",
       "    </tr>\n",
       "    <tr>\n",
       "      <th>667</th>\n",
       "      <td>NaN</td>\n",
       "      <td>2.937705e+06</td>\n",
       "      <td>[TG(55:9),TG(54:2)]_FA18:1</td>\n",
       "      <td>822.7</td>\n",
       "      <td>605.6</td>\n",
       "      <td>TailoredTAG18-1_O3on_RBDCanola0.0005mgmL_020723</td>\n",
       "      <td>822.7 -&gt; 605.6</td>\n",
       "      <td>12.61</td>\n",
       "      <td>16637.0</td>\n",
       "      <td>740.7</td>\n",
       "      <td>712.7</td>\n",
       "      <td>670.7</td>\n",
       "      <td>n-7</td>\n",
       "      <td>NaN</td>\n",
       "    </tr>\n",
       "  </tbody>\n",
       "</table>\n",
       "<p>576 rows × 14 columns</p>\n",
       "</div>"
      ],
      "text/plain": [
       "    Class     Intensity                       Lipid  Parent_Ion  Product_Ion  \\\n",
       "23    TAG  2.182617e+06           [TG(52:6)]_FA18:1       868.7        569.6   \n",
       "24    TAG  2.131391e+06           [TG(52:6)]_FA18:1       868.7        569.6   \n",
       "160   NaN  1.660143e+06           [TG(52:6)]_FA18:1       786.6        569.6   \n",
       "161   NaN  1.660143e+06           [TG(52:6)]_FA18:1       786.6        569.6   \n",
       "162   NaN  1.660143e+06           [TG(54:6)]_FA18:1       786.6        569.6   \n",
       "..    ...           ...                         ...         ...          ...   \n",
       "635   NaN  5.010360e+06  [TG(55:9),TG(54:2)]_FA18:1       794.6        605.6   \n",
       "664   NaN  2.937705e+06  [TG(55:9),TG(54:2)]_FA18:1       822.7        605.6   \n",
       "665   NaN  2.937705e+06  [TG(55:9),TG(54:2)]_FA18:1       822.7        605.6   \n",
       "666   NaN  2.937705e+06  [TG(55:9),TG(54:2)]_FA18:1       822.7        605.6   \n",
       "667   NaN  2.937705e+06  [TG(55:9),TG(54:2)]_FA18:1       822.7        605.6   \n",
       "\n",
       "                                           Sample_ID      Transition  \\\n",
       "23    TailoredTAG18-1_O3on_Blank50ACN50IPA_v4_020723  868.7 -> 569.6   \n",
       "24    TailoredTAG18-1_O3on_Blank50ACN50IPA_v4_020723  868.7 -> 569.6   \n",
       "160   TailoredTAG18-1_O3on_Blank50ACN50IPA_v4_020723  786.6 -> 569.6   \n",
       "161   TailoredTAG18-1_O3on_Blank50ACN50IPA_v4_020723  786.6 -> 569.6   \n",
       "162   TailoredTAG18-1_O3on_Blank50ACN50IPA_v4_020723  786.6 -> 569.6   \n",
       "..                                               ...             ...   \n",
       "635  TailoredTAG18-1_O3on_RBDCanola0.0005mgmL_020723  794.6 -> 605.6   \n",
       "664  TailoredTAG18-1_O3on_RBDCanola0.0005mgmL_020723  822.7 -> 605.6   \n",
       "665  TailoredTAG18-1_O3on_RBDCanola0.0005mgmL_020723  822.7 -> 605.6   \n",
       "666  TailoredTAG18-1_O3on_RBDCanola0.0005mgmL_020723  822.7 -> 605.6   \n",
       "667  TailoredTAG18-1_O3on_RBDCanola0.0005mgmL_020723  822.7 -> 605.6   \n",
       "\n",
       "     Retention_Time  OzESI_Intensity    n-7    n-9   n-12 Labels    Ratios  \n",
       "23            19.75           1718.0  786.7  758.7  716.7              NaN  \n",
       "24            16.93           2339.0  786.7  758.7  716.7              NaN  \n",
       "160           18.11           1164.0  704.6  676.6  634.6    n-7       NaN  \n",
       "161           18.11           1164.0  704.6  676.6  634.6    n-7       NaN  \n",
       "162           18.11           1164.0  704.6  676.6  634.6    n-9  0.813417  \n",
       "..              ...              ...    ...    ...    ...    ...       ...  \n",
       "635           19.81           1153.0  712.6  684.6  642.6    n-9  0.069303  \n",
       "664           12.61          16637.0  740.7  712.7  670.7    n-7       NaN  \n",
       "665           12.61          16637.0  740.7  712.7  670.7    n-7       NaN  \n",
       "666           12.61          16637.0  740.7  712.7  670.7    n-7       NaN  \n",
       "667           12.61          16637.0  740.7  712.7  670.7    n-7       NaN  \n",
       "\n",
       "[576 rows x 14 columns]"
      ]
     },
     "execution_count": 39,
     "metadata": {},
     "output_type": "execute_result"
    }
   ],
   "source": [
    "df_matched_4.head(None)"
   ]
  },
  {
   "cell_type": "code",
   "execution_count": 40,
   "metadata": {},
   "outputs": [
    {
     "data": {
      "text/html": [
       "<div>\n",
       "<style scoped>\n",
       "    .dataframe tbody tr th:only-of-type {\n",
       "        vertical-align: middle;\n",
       "    }\n",
       "\n",
       "    .dataframe tbody tr th {\n",
       "        vertical-align: top;\n",
       "    }\n",
       "\n",
       "    .dataframe thead th {\n",
       "        text-align: right;\n",
       "    }\n",
       "</style>\n",
       "<table border=\"1\" class=\"dataframe\">\n",
       "  <thead>\n",
       "    <tr style=\"text-align: right;\">\n",
       "      <th></th>\n",
       "      <th>Class</th>\n",
       "      <th>Intensity</th>\n",
       "      <th>Lipid</th>\n",
       "      <th>Parent_Ion</th>\n",
       "      <th>Product_Ion</th>\n",
       "      <th>Sample_ID</th>\n",
       "      <th>Transition</th>\n",
       "      <th>Retention_Time</th>\n",
       "      <th>OzESI_Intensity</th>\n",
       "      <th>n-7</th>\n",
       "      <th>n-9</th>\n",
       "      <th>n-12</th>\n",
       "      <th>Labels</th>\n",
       "      <th>Ratios</th>\n",
       "    </tr>\n",
       "  </thead>\n",
       "  <tbody>\n",
       "    <tr>\n",
       "      <th>23</th>\n",
       "      <td>TAG</td>\n",
       "      <td>2.182617e+06</td>\n",
       "      <td>[TG(52:6)]_FA18:1</td>\n",
       "      <td>868.7</td>\n",
       "      <td>569.6</td>\n",
       "      <td>TailoredTAG18-1_O3on_Blank50ACN50IPA_v4_020723</td>\n",
       "      <td>868.7 -&gt; 569.6</td>\n",
       "      <td>19.75</td>\n",
       "      <td>1718.0</td>\n",
       "      <td>786.7</td>\n",
       "      <td>758.7</td>\n",
       "      <td>716.7</td>\n",
       "      <td></td>\n",
       "      <td>NaN</td>\n",
       "    </tr>\n",
       "    <tr>\n",
       "      <th>24</th>\n",
       "      <td>TAG</td>\n",
       "      <td>2.131391e+06</td>\n",
       "      <td>[TG(52:6)]_FA18:1</td>\n",
       "      <td>868.7</td>\n",
       "      <td>569.6</td>\n",
       "      <td>TailoredTAG18-1_O3on_Blank50ACN50IPA_v4_020723</td>\n",
       "      <td>868.7 -&gt; 569.6</td>\n",
       "      <td>16.93</td>\n",
       "      <td>2339.0</td>\n",
       "      <td>786.7</td>\n",
       "      <td>758.7</td>\n",
       "      <td>716.7</td>\n",
       "      <td></td>\n",
       "      <td>NaN</td>\n",
       "    </tr>\n",
       "    <tr>\n",
       "      <th>160</th>\n",
       "      <td>NaN</td>\n",
       "      <td>1.660143e+06</td>\n",
       "      <td>[TG(52:6)]_FA18:1</td>\n",
       "      <td>786.6</td>\n",
       "      <td>569.6</td>\n",
       "      <td>TailoredTAG18-1_O3on_Blank50ACN50IPA_v4_020723</td>\n",
       "      <td>786.6 -&gt; 569.6</td>\n",
       "      <td>18.11</td>\n",
       "      <td>1164.0</td>\n",
       "      <td>704.6</td>\n",
       "      <td>676.6</td>\n",
       "      <td>634.6</td>\n",
       "      <td>n-7</td>\n",
       "      <td>NaN</td>\n",
       "    </tr>\n",
       "    <tr>\n",
       "      <th>161</th>\n",
       "      <td>NaN</td>\n",
       "      <td>1.660143e+06</td>\n",
       "      <td>[TG(52:6)]_FA18:1</td>\n",
       "      <td>786.6</td>\n",
       "      <td>569.6</td>\n",
       "      <td>TailoredTAG18-1_O3on_Blank50ACN50IPA_v4_020723</td>\n",
       "      <td>786.6 -&gt; 569.6</td>\n",
       "      <td>18.11</td>\n",
       "      <td>1164.0</td>\n",
       "      <td>704.6</td>\n",
       "      <td>676.6</td>\n",
       "      <td>634.6</td>\n",
       "      <td>n-7</td>\n",
       "      <td>NaN</td>\n",
       "    </tr>\n",
       "    <tr>\n",
       "      <th>162</th>\n",
       "      <td>NaN</td>\n",
       "      <td>1.660143e+06</td>\n",
       "      <td>[TG(54:6)]_FA18:1</td>\n",
       "      <td>786.6</td>\n",
       "      <td>569.6</td>\n",
       "      <td>TailoredTAG18-1_O3on_Blank50ACN50IPA_v4_020723</td>\n",
       "      <td>786.6 -&gt; 569.6</td>\n",
       "      <td>18.11</td>\n",
       "      <td>1164.0</td>\n",
       "      <td>704.6</td>\n",
       "      <td>676.6</td>\n",
       "      <td>634.6</td>\n",
       "      <td>n-9</td>\n",
       "      <td>0.813417</td>\n",
       "    </tr>\n",
       "    <tr>\n",
       "      <th>...</th>\n",
       "      <td>...</td>\n",
       "      <td>...</td>\n",
       "      <td>...</td>\n",
       "      <td>...</td>\n",
       "      <td>...</td>\n",
       "      <td>...</td>\n",
       "      <td>...</td>\n",
       "      <td>...</td>\n",
       "      <td>...</td>\n",
       "      <td>...</td>\n",
       "      <td>...</td>\n",
       "      <td>...</td>\n",
       "      <td>...</td>\n",
       "      <td>...</td>\n",
       "    </tr>\n",
       "    <tr>\n",
       "      <th>635</th>\n",
       "      <td>NaN</td>\n",
       "      <td>5.010360e+06</td>\n",
       "      <td>TG(54:2)]_FA18:1</td>\n",
       "      <td>794.6</td>\n",
       "      <td>605.6</td>\n",
       "      <td>TailoredTAG18-1_O3on_RBDCanola0.0005mgmL_020723</td>\n",
       "      <td>794.6 -&gt; 605.6</td>\n",
       "      <td>19.81</td>\n",
       "      <td>1153.0</td>\n",
       "      <td>712.6</td>\n",
       "      <td>684.6</td>\n",
       "      <td>642.6</td>\n",
       "      <td>n-9</td>\n",
       "      <td>0.069303</td>\n",
       "    </tr>\n",
       "    <tr>\n",
       "      <th>664</th>\n",
       "      <td>NaN</td>\n",
       "      <td>2.937705e+06</td>\n",
       "      <td>TG(54:2)]_FA18:1</td>\n",
       "      <td>822.7</td>\n",
       "      <td>605.6</td>\n",
       "      <td>TailoredTAG18-1_O3on_RBDCanola0.0005mgmL_020723</td>\n",
       "      <td>822.7 -&gt; 605.6</td>\n",
       "      <td>12.61</td>\n",
       "      <td>16637.0</td>\n",
       "      <td>740.7</td>\n",
       "      <td>712.7</td>\n",
       "      <td>670.7</td>\n",
       "      <td>n-7</td>\n",
       "      <td>NaN</td>\n",
       "    </tr>\n",
       "    <tr>\n",
       "      <th>665</th>\n",
       "      <td>NaN</td>\n",
       "      <td>2.937705e+06</td>\n",
       "      <td>TG(54:2)]_FA18:1</td>\n",
       "      <td>822.7</td>\n",
       "      <td>605.6</td>\n",
       "      <td>TailoredTAG18-1_O3on_RBDCanola0.0005mgmL_020723</td>\n",
       "      <td>822.7 -&gt; 605.6</td>\n",
       "      <td>12.61</td>\n",
       "      <td>16637.0</td>\n",
       "      <td>740.7</td>\n",
       "      <td>712.7</td>\n",
       "      <td>670.7</td>\n",
       "      <td>n-7</td>\n",
       "      <td>NaN</td>\n",
       "    </tr>\n",
       "    <tr>\n",
       "      <th>666</th>\n",
       "      <td>NaN</td>\n",
       "      <td>2.937705e+06</td>\n",
       "      <td>TG(54:2)]_FA18:1</td>\n",
       "      <td>822.7</td>\n",
       "      <td>605.6</td>\n",
       "      <td>TailoredTAG18-1_O3on_RBDCanola0.0005mgmL_020723</td>\n",
       "      <td>822.7 -&gt; 605.6</td>\n",
       "      <td>12.61</td>\n",
       "      <td>16637.0</td>\n",
       "      <td>740.7</td>\n",
       "      <td>712.7</td>\n",
       "      <td>670.7</td>\n",
       "      <td>n-7</td>\n",
       "      <td>NaN</td>\n",
       "    </tr>\n",
       "    <tr>\n",
       "      <th>667</th>\n",
       "      <td>NaN</td>\n",
       "      <td>2.937705e+06</td>\n",
       "      <td>TG(54:2)]_FA18:1</td>\n",
       "      <td>822.7</td>\n",
       "      <td>605.6</td>\n",
       "      <td>TailoredTAG18-1_O3on_RBDCanola0.0005mgmL_020723</td>\n",
       "      <td>822.7 -&gt; 605.6</td>\n",
       "      <td>12.61</td>\n",
       "      <td>16637.0</td>\n",
       "      <td>740.7</td>\n",
       "      <td>712.7</td>\n",
       "      <td>670.7</td>\n",
       "      <td>n-7</td>\n",
       "      <td>NaN</td>\n",
       "    </tr>\n",
       "  </tbody>\n",
       "</table>\n",
       "<p>576 rows × 14 columns</p>\n",
       "</div>"
      ],
      "text/plain": [
       "    Class     Intensity              Lipid  Parent_Ion  Product_Ion  \\\n",
       "23    TAG  2.182617e+06  [TG(52:6)]_FA18:1       868.7        569.6   \n",
       "24    TAG  2.131391e+06  [TG(52:6)]_FA18:1       868.7        569.6   \n",
       "160   NaN  1.660143e+06  [TG(52:6)]_FA18:1       786.6        569.6   \n",
       "161   NaN  1.660143e+06  [TG(52:6)]_FA18:1       786.6        569.6   \n",
       "162   NaN  1.660143e+06  [TG(54:6)]_FA18:1       786.6        569.6   \n",
       "..    ...           ...                ...         ...          ...   \n",
       "635   NaN  5.010360e+06   TG(54:2)]_FA18:1       794.6        605.6   \n",
       "664   NaN  2.937705e+06   TG(54:2)]_FA18:1       822.7        605.6   \n",
       "665   NaN  2.937705e+06   TG(54:2)]_FA18:1       822.7        605.6   \n",
       "666   NaN  2.937705e+06   TG(54:2)]_FA18:1       822.7        605.6   \n",
       "667   NaN  2.937705e+06   TG(54:2)]_FA18:1       822.7        605.6   \n",
       "\n",
       "                                           Sample_ID      Transition  \\\n",
       "23    TailoredTAG18-1_O3on_Blank50ACN50IPA_v4_020723  868.7 -> 569.6   \n",
       "24    TailoredTAG18-1_O3on_Blank50ACN50IPA_v4_020723  868.7 -> 569.6   \n",
       "160   TailoredTAG18-1_O3on_Blank50ACN50IPA_v4_020723  786.6 -> 569.6   \n",
       "161   TailoredTAG18-1_O3on_Blank50ACN50IPA_v4_020723  786.6 -> 569.6   \n",
       "162   TailoredTAG18-1_O3on_Blank50ACN50IPA_v4_020723  786.6 -> 569.6   \n",
       "..                                               ...             ...   \n",
       "635  TailoredTAG18-1_O3on_RBDCanola0.0005mgmL_020723  794.6 -> 605.6   \n",
       "664  TailoredTAG18-1_O3on_RBDCanola0.0005mgmL_020723  822.7 -> 605.6   \n",
       "665  TailoredTAG18-1_O3on_RBDCanola0.0005mgmL_020723  822.7 -> 605.6   \n",
       "666  TailoredTAG18-1_O3on_RBDCanola0.0005mgmL_020723  822.7 -> 605.6   \n",
       "667  TailoredTAG18-1_O3on_RBDCanola0.0005mgmL_020723  822.7 -> 605.6   \n",
       "\n",
       "     Retention_Time  OzESI_Intensity    n-7    n-9   n-12 Labels    Ratios  \n",
       "23            19.75           1718.0  786.7  758.7  716.7              NaN  \n",
       "24            16.93           2339.0  786.7  758.7  716.7              NaN  \n",
       "160           18.11           1164.0  704.6  676.6  634.6    n-7       NaN  \n",
       "161           18.11           1164.0  704.6  676.6  634.6    n-7       NaN  \n",
       "162           18.11           1164.0  704.6  676.6  634.6    n-9  0.813417  \n",
       "..              ...              ...    ...    ...    ...    ...       ...  \n",
       "635           19.81           1153.0  712.6  684.6  642.6    n-9  0.069303  \n",
       "664           12.61          16637.0  740.7  712.7  670.7    n-7       NaN  \n",
       "665           12.61          16637.0  740.7  712.7  670.7    n-7       NaN  \n",
       "666           12.61          16637.0  740.7  712.7  670.7    n-7       NaN  \n",
       "667           12.61          16637.0  740.7  712.7  670.7    n-7       NaN  \n",
       "\n",
       "[576 rows x 14 columns]"
      ]
     },
     "execution_count": 40,
     "metadata": {},
     "output_type": "execute_result"
    }
   ],
   "source": [
    "#filtering df_matched for name but not removing the n-7 ratios\n",
    "def sort_by_second_tg(lipid):\n",
    "    tgs = lipid.split(',')\n",
    "    if len(tgs) > 1:\n",
    "        return tgs[1]\n",
    "    else:\n",
    "        return lipid\n",
    "\n",
    "df_matched_4c = df_matched_4.copy()\n",
    "df_matched_4c['Lipid'] = df_matched_4c['Lipid'].apply(sort_by_second_tg)\n",
    "df_matched_4c.head(None)"
   ]
  },
  {
   "cell_type": "code",
   "execution_count": 41,
   "metadata": {},
   "outputs": [
    {
     "name": "stdout",
     "output_type": "stream",
     "text": [
      "Lipid: [TG(54:6)]_FA18:1, Sample_ID: TailoredTAG18-1_O3on_Blank50ACN50IPA_v4_020723, Labels: n-9, Ratios: 0.8134171907756813\n",
      "Lipid: [TG(54:6)]_FA18:1, Sample_ID: TailoredTAG18-1_O3on_Blank50ACN50IPA_v4_020723, Labels: n-9, Ratios: 0.8134171907756813\n",
      "Lipid: [TG(54:6)]_FA18:1, Sample_ID: TailoredTAG18-1_O3on_Blank50ACN50IPA_v4_020723, Labels: n-9, Ratios: 0.8134171907756813\n",
      "Lipid: [TG(54:6)]_FA18:1, Sample_ID: TailoredTAG18-1_O3on_Blank50ACN50IPA_v4_020723, Labels: n-9, Ratios: 0.8134171907756813\n",
      "Lipid: [TG(52:5)]_FA18:1, Sample_ID: TailoredTAG18-1_O3on_Blank50ACN50IPA_v4_020723, Labels: n-9, Ratios: 1.6298245614035087\n",
      "Lipid: [TG(52:5)]_FA18:1, Sample_ID: TailoredTAG18-1_O3on_Blank50ACN50IPA_v4_020723, Labels: n-9, Ratios: 1.6298245614035087\n",
      "Lipid: [TG(52:5)]_FA18:1, Sample_ID: TailoredTAG18-1_O3on_Blank50ACN50IPA_v4_020723, Labels: n-9, Ratios: 1.6298245614035087\n",
      "Lipid: [TG(52:5)]_FA18:1, Sample_ID: TailoredTAG18-1_O3on_Blank50ACN50IPA_v4_020723, Labels: n-9, Ratios: 1.6298245614035087\n",
      "Lipid: [TG(54:5)]_FA18:1, Sample_ID: TailoredTAG18-1_O3on_Blank50ACN50IPA_v4_020723, Labels: n-9, Ratios: 0.548604427333975\n",
      "Lipid: [TG(54:5)]_FA18:1, Sample_ID: TailoredTAG18-1_O3on_Blank50ACN50IPA_v4_020723, Labels: n-9, Ratios: 0.548604427333975\n",
      "Lipid: [TG(54:5)]_FA18:1, Sample_ID: TailoredTAG18-1_O3on_Blank50ACN50IPA_v4_020723, Labels: n-9, Ratios: 0.548604427333975\n",
      "Lipid: [TG(54:5)]_FA18:1, Sample_ID: TailoredTAG18-1_O3on_Blank50ACN50IPA_v4_020723, Labels: n-9, Ratios: 0.548604427333975\n",
      "Lipid: [TG(52:4)]_FA18:1, Sample_ID: TailoredTAG18-1_O3on_Blank50ACN50IPA_v4_020723, Labels: n-9, Ratios: 1.4933333333333334\n",
      "Lipid: [TG(52:4)]_FA18:1, Sample_ID: TailoredTAG18-1_O3on_Blank50ACN50IPA_v4_020723, Labels: n-9, Ratios: 1.4933333333333334\n",
      "Lipid: [TG(52:4)]_FA18:1, Sample_ID: TailoredTAG18-1_O3on_Blank50ACN50IPA_v4_020723, Labels: n-9, Ratios: 1.4933333333333334\n",
      "Lipid: [TG(52:4)]_FA18:1, Sample_ID: TailoredTAG18-1_O3on_Blank50ACN50IPA_v4_020723, Labels: n-9, Ratios: 1.4933333333333334\n",
      "Lipid: TG(54:4)]_FA18:1, Sample_ID: TailoredTAG18-1_O3on_Blank50ACN50IPA_v4_020723, Labels: n-9, Ratios: 1.4411027568922306\n",
      "Lipid: TG(54:4)]_FA18:1, Sample_ID: TailoredTAG18-1_O3on_Blank50ACN50IPA_v4_020723, Labels: n-9, Ratios: 1.4411027568922306\n",
      "Lipid: TG(54:4)]_FA18:1, Sample_ID: TailoredTAG18-1_O3on_Blank50ACN50IPA_v4_020723, Labels: n-9, Ratios: 1.4411027568922306\n",
      "Lipid: TG(54:4)]_FA18:1, Sample_ID: TailoredTAG18-1_O3on_Blank50ACN50IPA_v4_020723, Labels: n-9, Ratios: 1.4411027568922306\n",
      "Lipid: TG(52:3)]_FA18:1, Sample_ID: TailoredTAG18-1_O3on_Blank50ACN50IPA_v4_020723, Labels: n-9, Ratios: 1.739512855209743\n",
      "Lipid: TG(52:3)]_FA18:1, Sample_ID: TailoredTAG18-1_O3on_Blank50ACN50IPA_v4_020723, Labels: n-9, Ratios: 1.739512855209743\n",
      "Lipid: TG(52:3)]_FA18:1, Sample_ID: TailoredTAG18-1_O3on_Blank50ACN50IPA_v4_020723, Labels: n-9, Ratios: 1.739512855209743\n",
      "Lipid: TG(52:3)]_FA18:1, Sample_ID: TailoredTAG18-1_O3on_Blank50ACN50IPA_v4_020723, Labels: n-9, Ratios: 1.739512855209743\n",
      "Lipid: TG(54:3)]_FA18:1, Sample_ID: TailoredTAG18-1_O3on_Blank50ACN50IPA_v4_020723, Labels: n-9, Ratios: 0.7591165896250642\n",
      "Lipid: TG(54:3)]_FA18:1, Sample_ID: TailoredTAG18-1_O3on_Blank50ACN50IPA_v4_020723, Labels: n-9, Ratios: 0.7591165896250642\n",
      "Lipid: TG(54:3)]_FA18:1, Sample_ID: TailoredTAG18-1_O3on_Blank50ACN50IPA_v4_020723, Labels: n-9, Ratios: 0.7591165896250642\n",
      "Lipid: TG(54:3)]_FA18:1, Sample_ID: TailoredTAG18-1_O3on_Blank50ACN50IPA_v4_020723, Labels: n-9, Ratios: 0.7591165896250642\n",
      "Lipid: TG(52:2)]_FA18:1, Sample_ID: TailoredTAG18-1_O3on_Blank50ACN50IPA_v4_020723, Labels: n-9, Ratios: 1.3613861386138615\n",
      "Lipid: TG(52:2)]_FA18:1, Sample_ID: TailoredTAG18-1_O3on_Blank50ACN50IPA_v4_020723, Labels: n-9, Ratios: 1.3613861386138615\n",
      "Lipid: TG(52:2)]_FA18:1, Sample_ID: TailoredTAG18-1_O3on_Blank50ACN50IPA_v4_020723, Labels: n-9, Ratios: 1.3613861386138615\n",
      "Lipid: TG(52:2)]_FA18:1, Sample_ID: TailoredTAG18-1_O3on_Blank50ACN50IPA_v4_020723, Labels: n-9, Ratios: 1.3613861386138615\n",
      "Lipid: TG(54:2)]_FA18:1, Sample_ID: TailoredTAG18-1_O3on_Blank50ACN50IPA_v4_020723, Labels: n-9, Ratios: 0.8531206006569686\n",
      "Lipid: TG(54:2)]_FA18:1, Sample_ID: TailoredTAG18-1_O3on_Blank50ACN50IPA_v4_020723, Labels: n-9, Ratios: 0.8531206006569686\n",
      "Lipid: TG(54:2)]_FA18:1, Sample_ID: TailoredTAG18-1_O3on_Blank50ACN50IPA_v4_020723, Labels: n-9, Ratios: 0.8531206006569686\n",
      "Lipid: TG(54:2)]_FA18:1, Sample_ID: TailoredTAG18-1_O3on_Blank50ACN50IPA_v4_020723, Labels: n-9, Ratios: 0.8531206006569686\n",
      "Lipid: TG(53:0)]_FA18:1, Sample_ID: TailoredTAG18-1_O3on_Blank50ACN50IPA_v4_020723, Labels: n-9, Ratios: 1.3274111675126903\n",
      "Lipid: TG(53:0)]_FA18:1, Sample_ID: TailoredTAG18-1_O3on_Blank50ACN50IPA_v4_020723, Labels: n-9, Ratios: 1.3274111675126903\n",
      "Lipid: TG(53:0)]_FA18:1, Sample_ID: TailoredTAG18-1_O3on_Blank50ACN50IPA_v4_020723, Labels: n-9, Ratios: 1.3274111675126903\n",
      "Lipid: TG(53:0)]_FA18:1, Sample_ID: TailoredTAG18-1_O3on_Blank50ACN50IPA_v4_020723, Labels: n-9, Ratios: 1.3274111675126903\n",
      "Lipid: [TG(54:6)]_FA18:1, Sample_ID: TailoredTAG18-1_O3on_Blank50ACN50IPA_v4_020723, Labels: n-9, Ratios: 1.29979035639413\n",
      "Lipid: [TG(54:6)]_FA18:1, Sample_ID: TailoredTAG18-1_O3on_Blank50ACN50IPA_v4_020723, Labels: n-9, Ratios: 1.29979035639413\n",
      "Lipid: [TG(54:6)]_FA18:1, Sample_ID: TailoredTAG18-1_O3on_Blank50ACN50IPA_v4_020723, Labels: n-9, Ratios: 1.29979035639413\n",
      "Lipid: [TG(54:6)]_FA18:1, Sample_ID: TailoredTAG18-1_O3on_Blank50ACN50IPA_v4_020723, Labels: n-9, Ratios: 1.29979035639413\n",
      "Lipid: [TG(54:5)]_FA18:1, Sample_ID: TailoredTAG18-1_O3on_Blank50ACN50IPA_v4_020723, Labels: n-9, Ratios: 2.143888354186718\n",
      "Lipid: [TG(54:5)]_FA18:1, Sample_ID: TailoredTAG18-1_O3on_Blank50ACN50IPA_v4_020723, Labels: n-9, Ratios: 2.143888354186718\n",
      "Lipid: [TG(54:5)]_FA18:1, Sample_ID: TailoredTAG18-1_O3on_Blank50ACN50IPA_v4_020723, Labels: n-9, Ratios: 2.143888354186718\n",
      "Lipid: [TG(54:5)]_FA18:1, Sample_ID: TailoredTAG18-1_O3on_Blank50ACN50IPA_v4_020723, Labels: n-9, Ratios: 2.143888354186718\n",
      "Lipid: TG(54:4)]_FA18:1, Sample_ID: TailoredTAG18-1_O3on_Blank50ACN50IPA_v4_020723, Labels: n-9, Ratios: 1.406015037593985\n",
      "Lipid: TG(54:4)]_FA18:1, Sample_ID: TailoredTAG18-1_O3on_Blank50ACN50IPA_v4_020723, Labels: n-9, Ratios: 1.406015037593985\n",
      "Lipid: TG(54:4)]_FA18:1, Sample_ID: TailoredTAG18-1_O3on_Blank50ACN50IPA_v4_020723, Labels: n-9, Ratios: 1.406015037593985\n",
      "Lipid: TG(54:4)]_FA18:1, Sample_ID: TailoredTAG18-1_O3on_Blank50ACN50IPA_v4_020723, Labels: n-9, Ratios: 1.406015037593985\n",
      "Lipid: TG(54:3)]_FA18:1, Sample_ID: TailoredTAG18-1_O3on_Blank50ACN50IPA_v4_020723, Labels: n-9, Ratios: 1.2881355932203389\n",
      "Lipid: TG(54:3)]_FA18:1, Sample_ID: TailoredTAG18-1_O3on_Blank50ACN50IPA_v4_020723, Labels: n-9, Ratios: 1.2881355932203389\n",
      "Lipid: TG(54:3)]_FA18:1, Sample_ID: TailoredTAG18-1_O3on_Blank50ACN50IPA_v4_020723, Labels: n-9, Ratios: 1.2881355932203389\n",
      "Lipid: TG(54:3)]_FA18:1, Sample_ID: TailoredTAG18-1_O3on_Blank50ACN50IPA_v4_020723, Labels: n-9, Ratios: 1.2881355932203389\n",
      "Lipid: TG(54:2)]_FA18:1, Sample_ID: TailoredTAG18-1_O3on_Blank50ACN50IPA_v4_020723, Labels: n-9, Ratios: 1.5626466447677148\n",
      "Lipid: TG(54:2)]_FA18:1, Sample_ID: TailoredTAG18-1_O3on_Blank50ACN50IPA_v4_020723, Labels: n-9, Ratios: 1.5626466447677148\n",
      "Lipid: TG(54:2)]_FA18:1, Sample_ID: TailoredTAG18-1_O3on_Blank50ACN50IPA_v4_020723, Labels: n-9, Ratios: 1.5626466447677148\n",
      "Lipid: TG(54:2)]_FA18:1, Sample_ID: TailoredTAG18-1_O3on_Blank50ACN50IPA_v4_020723, Labels: n-9, Ratios: 1.5626466447677148\n",
      "Lipid: [TG(54:6)]_FA18:1, Sample_ID: TailoredTAG18-1_O3on_CrudeCanola0.0005mgmL_020723, Labels: n-9, Ratios: 1.2549909255898366\n",
      "Lipid: [TG(54:6)]_FA18:1, Sample_ID: TailoredTAG18-1_O3on_CrudeCanola0.0005mgmL_020723, Labels: n-9, Ratios: 1.2549909255898366\n",
      "Lipid: [TG(54:6)]_FA18:1, Sample_ID: TailoredTAG18-1_O3on_CrudeCanola0.0005mgmL_020723, Labels: n-9, Ratios: 1.2549909255898366\n",
      "Lipid: [TG(54:6)]_FA18:1, Sample_ID: TailoredTAG18-1_O3on_CrudeCanola0.0005mgmL_020723, Labels: n-9, Ratios: 1.2549909255898366\n",
      "Lipid: [TG(52:5)]_FA18:1, Sample_ID: TailoredTAG18-1_O3on_CrudeCanola0.0005mgmL_020723, Labels: n-9, Ratios: 0.2770415123757552\n",
      "Lipid: [TG(52:5)]_FA18:1, Sample_ID: TailoredTAG18-1_O3on_CrudeCanola0.0005mgmL_020723, Labels: n-9, Ratios: 0.2770415123757552\n",
      "Lipid: [TG(52:5)]_FA18:1, Sample_ID: TailoredTAG18-1_O3on_CrudeCanola0.0005mgmL_020723, Labels: n-9, Ratios: 0.2770415123757552\n",
      "Lipid: [TG(52:5)]_FA18:1, Sample_ID: TailoredTAG18-1_O3on_CrudeCanola0.0005mgmL_020723, Labels: n-9, Ratios: 0.2770415123757552\n",
      "Lipid: [TG(54:5)]_FA18:1, Sample_ID: TailoredTAG18-1_O3on_CrudeCanola0.0005mgmL_020723, Labels: n-9, Ratios: 2.9395588656545404\n",
      "Lipid: [TG(54:5)]_FA18:1, Sample_ID: TailoredTAG18-1_O3on_CrudeCanola0.0005mgmL_020723, Labels: n-9, Ratios: 2.9395588656545404\n",
      "Lipid: [TG(54:5)]_FA18:1, Sample_ID: TailoredTAG18-1_O3on_CrudeCanola0.0005mgmL_020723, Labels: n-9, Ratios: 2.9395588656545404\n",
      "Lipid: [TG(54:5)]_FA18:1, Sample_ID: TailoredTAG18-1_O3on_CrudeCanola0.0005mgmL_020723, Labels: n-9, Ratios: 2.9395588656545404\n",
      "Lipid: [TG(52:4)]_FA18:1, Sample_ID: TailoredTAG18-1_O3on_CrudeCanola0.0005mgmL_020723, Labels: n-9, Ratios: 0.057090584303330645\n",
      "Lipid: [TG(52:4)]_FA18:1, Sample_ID: TailoredTAG18-1_O3on_CrudeCanola0.0005mgmL_020723, Labels: n-9, Ratios: 0.057090584303330645\n",
      "Lipid: [TG(52:4)]_FA18:1, Sample_ID: TailoredTAG18-1_O3on_CrudeCanola0.0005mgmL_020723, Labels: n-9, Ratios: 0.057090584303330645\n",
      "Lipid: [TG(52:4)]_FA18:1, Sample_ID: TailoredTAG18-1_O3on_CrudeCanola0.0005mgmL_020723, Labels: n-9, Ratios: 0.057090584303330645\n",
      "Lipid: TG(54:4)]_FA18:1, Sample_ID: TailoredTAG18-1_O3on_CrudeCanola0.0005mgmL_020723, Labels: n-9, Ratios: 8.314289136423524\n",
      "Lipid: TG(54:4)]_FA18:1, Sample_ID: TailoredTAG18-1_O3on_CrudeCanola0.0005mgmL_020723, Labels: n-9, Ratios: 8.314289136423524\n",
      "Lipid: TG(54:4)]_FA18:1, Sample_ID: TailoredTAG18-1_O3on_CrudeCanola0.0005mgmL_020723, Labels: n-9, Ratios: 8.314289136423524\n",
      "Lipid: TG(54:4)]_FA18:1, Sample_ID: TailoredTAG18-1_O3on_CrudeCanola0.0005mgmL_020723, Labels: n-9, Ratios: 8.314289136423524\n",
      "Lipid: TG(52:3)]_FA18:1, Sample_ID: TailoredTAG18-1_O3on_CrudeCanola0.0005mgmL_020723, Labels: n-9, Ratios: 1.3950746659680378\n",
      "Lipid: TG(52:3)]_FA18:1, Sample_ID: TailoredTAG18-1_O3on_CrudeCanola0.0005mgmL_020723, Labels: n-9, Ratios: 1.3950746659680378\n",
      "Lipid: TG(52:3)]_FA18:1, Sample_ID: TailoredTAG18-1_O3on_CrudeCanola0.0005mgmL_020723, Labels: n-9, Ratios: 1.3950746659680378\n",
      "Lipid: TG(52:3)]_FA18:1, Sample_ID: TailoredTAG18-1_O3on_CrudeCanola0.0005mgmL_020723, Labels: n-9, Ratios: 1.3950746659680378\n",
      "Lipid: TG(54:3)]_FA18:1, Sample_ID: TailoredTAG18-1_O3on_CrudeCanola0.0005mgmL_020723, Labels: n-9, Ratios: 3.2526629740093735\n",
      "Lipid: TG(54:3)]_FA18:1, Sample_ID: TailoredTAG18-1_O3on_CrudeCanola0.0005mgmL_020723, Labels: n-9, Ratios: 3.2526629740093735\n",
      "Lipid: TG(54:3)]_FA18:1, Sample_ID: TailoredTAG18-1_O3on_CrudeCanola0.0005mgmL_020723, Labels: n-9, Ratios: 3.2526629740093735\n",
      "Lipid: TG(54:3)]_FA18:1, Sample_ID: TailoredTAG18-1_O3on_CrudeCanola0.0005mgmL_020723, Labels: n-9, Ratios: 3.2526629740093735\n",
      "Lipid: TG(52:2)]_FA18:1, Sample_ID: TailoredTAG18-1_O3on_CrudeCanola0.0005mgmL_020723, Labels: n-9, Ratios: 0.6723749436683191\n",
      "Lipid: TG(52:2)]_FA18:1, Sample_ID: TailoredTAG18-1_O3on_CrudeCanola0.0005mgmL_020723, Labels: n-9, Ratios: 0.6723749436683191\n",
      "Lipid: TG(52:2)]_FA18:1, Sample_ID: TailoredTAG18-1_O3on_CrudeCanola0.0005mgmL_020723, Labels: n-9, Ratios: 0.6723749436683191\n",
      "Lipid: TG(52:2)]_FA18:1, Sample_ID: TailoredTAG18-1_O3on_CrudeCanola0.0005mgmL_020723, Labels: n-9, Ratios: 0.6723749436683191\n",
      "Lipid: TG(54:2)]_FA18:1, Sample_ID: TailoredTAG18-1_O3on_CrudeCanola0.0005mgmL_020723, Labels: n-9, Ratios: 1.257936507936508\n",
      "Lipid: TG(54:2)]_FA18:1, Sample_ID: TailoredTAG18-1_O3on_CrudeCanola0.0005mgmL_020723, Labels: n-9, Ratios: 1.257936507936508\n",
      "Lipid: TG(54:2)]_FA18:1, Sample_ID: TailoredTAG18-1_O3on_CrudeCanola0.0005mgmL_020723, Labels: n-9, Ratios: 1.257936507936508\n",
      "Lipid: TG(54:2)]_FA18:1, Sample_ID: TailoredTAG18-1_O3on_CrudeCanola0.0005mgmL_020723, Labels: n-9, Ratios: 1.257936507936508\n",
      "Lipid: TG(53:0)]_FA18:1, Sample_ID: TailoredTAG18-1_O3on_CrudeCanola0.0005mgmL_020723, Labels: n-9, Ratios: 0.8205312275664034\n",
      "Lipid: TG(53:0)]_FA18:1, Sample_ID: TailoredTAG18-1_O3on_CrudeCanola0.0005mgmL_020723, Labels: n-9, Ratios: 0.8205312275664034\n",
      "Lipid: TG(53:0)]_FA18:1, Sample_ID: TailoredTAG18-1_O3on_CrudeCanola0.0005mgmL_020723, Labels: n-9, Ratios: 0.8205312275664034\n",
      "Lipid: TG(53:0)]_FA18:1, Sample_ID: TailoredTAG18-1_O3on_CrudeCanola0.0005mgmL_020723, Labels: n-9, Ratios: 0.8205312275664034\n",
      "Lipid: [TG(54:6)]_FA18:1, Sample_ID: TailoredTAG18-1_O3on_CrudeCanola0.0005mgmL_020723, Labels: n-9, Ratios: 0.5077132486388385\n",
      "Lipid: [TG(54:6)]_FA18:1, Sample_ID: TailoredTAG18-1_O3on_CrudeCanola0.0005mgmL_020723, Labels: n-9, Ratios: 0.5077132486388385\n",
      "Lipid: [TG(54:6)]_FA18:1, Sample_ID: TailoredTAG18-1_O3on_CrudeCanola0.0005mgmL_020723, Labels: n-9, Ratios: 0.5077132486388385\n",
      "Lipid: [TG(54:6)]_FA18:1, Sample_ID: TailoredTAG18-1_O3on_CrudeCanola0.0005mgmL_020723, Labels: n-9, Ratios: 0.5077132486388385\n",
      "Lipid: [TG(54:5)]_FA18:1, Sample_ID: TailoredTAG18-1_O3on_CrudeCanola0.0005mgmL_020723, Labels: n-9, Ratios: 6.976511028358637\n",
      "Lipid: [TG(54:5)]_FA18:1, Sample_ID: TailoredTAG18-1_O3on_CrudeCanola0.0005mgmL_020723, Labels: n-9, Ratios: 6.976511028358637\n",
      "Lipid: [TG(54:5)]_FA18:1, Sample_ID: TailoredTAG18-1_O3on_CrudeCanola0.0005mgmL_020723, Labels: n-9, Ratios: 6.976511028358637\n",
      "Lipid: [TG(54:5)]_FA18:1, Sample_ID: TailoredTAG18-1_O3on_CrudeCanola0.0005mgmL_020723, Labels: n-9, Ratios: 6.976511028358637\n",
      "Lipid: TG(54:4)]_FA18:1, Sample_ID: TailoredTAG18-1_O3on_CrudeCanola0.0005mgmL_020723, Labels: n-9, Ratios: 0.19379566415139537\n",
      "Lipid: TG(54:4)]_FA18:1, Sample_ID: TailoredTAG18-1_O3on_CrudeCanola0.0005mgmL_020723, Labels: n-9, Ratios: 0.19379566415139537\n",
      "Lipid: TG(54:4)]_FA18:1, Sample_ID: TailoredTAG18-1_O3on_CrudeCanola0.0005mgmL_020723, Labels: n-9, Ratios: 0.19379566415139537\n",
      "Lipid: TG(54:4)]_FA18:1, Sample_ID: TailoredTAG18-1_O3on_CrudeCanola0.0005mgmL_020723, Labels: n-9, Ratios: 0.19379566415139537\n",
      "Lipid: TG(54:3)]_FA18:1, Sample_ID: TailoredTAG18-1_O3on_CrudeCanola0.0005mgmL_020723, Labels: n-9, Ratios: 0.512143161482744\n",
      "Lipid: TG(54:3)]_FA18:1, Sample_ID: TailoredTAG18-1_O3on_CrudeCanola0.0005mgmL_020723, Labels: n-9, Ratios: 0.512143161482744\n",
      "Lipid: TG(54:3)]_FA18:1, Sample_ID: TailoredTAG18-1_O3on_CrudeCanola0.0005mgmL_020723, Labels: n-9, Ratios: 0.512143161482744\n",
      "Lipid: TG(54:3)]_FA18:1, Sample_ID: TailoredTAG18-1_O3on_CrudeCanola0.0005mgmL_020723, Labels: n-9, Ratios: 0.512143161482744\n",
      "Lipid: TG(54:2)]_FA18:1, Sample_ID: TailoredTAG18-1_O3on_CrudeCanola0.0005mgmL_020723, Labels: n-9, Ratios: 1.4189342403628118\n",
      "Lipid: TG(54:2)]_FA18:1, Sample_ID: TailoredTAG18-1_O3on_CrudeCanola0.0005mgmL_020723, Labels: n-9, Ratios: 1.4189342403628118\n",
      "Lipid: TG(54:2)]_FA18:1, Sample_ID: TailoredTAG18-1_O3on_CrudeCanola0.0005mgmL_020723, Labels: n-9, Ratios: 1.4189342403628118\n",
      "Lipid: TG(54:2)]_FA18:1, Sample_ID: TailoredTAG18-1_O3on_CrudeCanola0.0005mgmL_020723, Labels: n-9, Ratios: 1.4189342403628118\n",
      "Lipid: [TG(54:6)]_FA18:1, Sample_ID: TailoredTAG18-1_O3on_DegummedCanola0.0005mgmL_020723, Labels: n-9, Ratios: 0.5019590770570309\n",
      "Lipid: [TG(54:6)]_FA18:1, Sample_ID: TailoredTAG18-1_O3on_DegummedCanola0.0005mgmL_020723, Labels: n-9, Ratios: 0.5019590770570309\n",
      "Lipid: [TG(54:6)]_FA18:1, Sample_ID: TailoredTAG18-1_O3on_DegummedCanola0.0005mgmL_020723, Labels: n-9, Ratios: 0.5019590770570309\n",
      "Lipid: [TG(54:6)]_FA18:1, Sample_ID: TailoredTAG18-1_O3on_DegummedCanola0.0005mgmL_020723, Labels: n-9, Ratios: 0.5019590770570309\n",
      "Lipid: [TG(52:5)]_FA18:1, Sample_ID: TailoredTAG18-1_O3on_DegummedCanola0.0005mgmL_020723, Labels: n-9, Ratios: 0.21464122770634592\n",
      "Lipid: [TG(52:5)]_FA18:1, Sample_ID: TailoredTAG18-1_O3on_DegummedCanola0.0005mgmL_020723, Labels: n-9, Ratios: 0.21464122770634592\n",
      "Lipid: [TG(52:5)]_FA18:1, Sample_ID: TailoredTAG18-1_O3on_DegummedCanola0.0005mgmL_020723, Labels: n-9, Ratios: 0.21464122770634592\n",
      "Lipid: [TG(52:5)]_FA18:1, Sample_ID: TailoredTAG18-1_O3on_DegummedCanola0.0005mgmL_020723, Labels: n-9, Ratios: 0.21464122770634592\n",
      "Lipid: [TG(54:5)]_FA18:1, Sample_ID: TailoredTAG18-1_O3on_DegummedCanola0.0005mgmL_020723, Labels: n-9, Ratios: 2.4146219328993492\n",
      "Lipid: [TG(54:5)]_FA18:1, Sample_ID: TailoredTAG18-1_O3on_DegummedCanola0.0005mgmL_020723, Labels: n-9, Ratios: 2.4146219328993492\n",
      "Lipid: [TG(54:5)]_FA18:1, Sample_ID: TailoredTAG18-1_O3on_DegummedCanola0.0005mgmL_020723, Labels: n-9, Ratios: 2.4146219328993492\n",
      "Lipid: [TG(54:5)]_FA18:1, Sample_ID: TailoredTAG18-1_O3on_DegummedCanola0.0005mgmL_020723, Labels: n-9, Ratios: 2.4146219328993492\n",
      "Lipid: [TG(52:4)]_FA18:1, Sample_ID: TailoredTAG18-1_O3on_DegummedCanola0.0005mgmL_020723, Labels: n-9, Ratios: 5.128410914927769\n",
      "Lipid: [TG(52:4)]_FA18:1, Sample_ID: TailoredTAG18-1_O3on_DegummedCanola0.0005mgmL_020723, Labels: n-9, Ratios: 5.128410914927769\n",
      "Lipid: [TG(52:4)]_FA18:1, Sample_ID: TailoredTAG18-1_O3on_DegummedCanola0.0005mgmL_020723, Labels: n-9, Ratios: 5.128410914927769\n",
      "Lipid: [TG(52:4)]_FA18:1, Sample_ID: TailoredTAG18-1_O3on_DegummedCanola0.0005mgmL_020723, Labels: n-9, Ratios: 5.128410914927769\n",
      "Lipid: TG(54:4)]_FA18:1, Sample_ID: TailoredTAG18-1_O3on_DegummedCanola0.0005mgmL_020723, Labels: n-9, Ratios: 0.5612612612612613\n",
      "Lipid: TG(54:4)]_FA18:1, Sample_ID: TailoredTAG18-1_O3on_DegummedCanola0.0005mgmL_020723, Labels: n-9, Ratios: 0.5612612612612613\n",
      "Lipid: TG(54:4)]_FA18:1, Sample_ID: TailoredTAG18-1_O3on_DegummedCanola0.0005mgmL_020723, Labels: n-9, Ratios: 0.5612612612612613\n",
      "Lipid: TG(54:4)]_FA18:1, Sample_ID: TailoredTAG18-1_O3on_DegummedCanola0.0005mgmL_020723, Labels: n-9, Ratios: 0.5612612612612613\n",
      "Lipid: TG(52:3)]_FA18:1, Sample_ID: TailoredTAG18-1_O3on_DegummedCanola0.0005mgmL_020723, Labels: n-9, Ratios: 0.7514659449706811\n",
      "Lipid: TG(52:3)]_FA18:1, Sample_ID: TailoredTAG18-1_O3on_DegummedCanola0.0005mgmL_020723, Labels: n-9, Ratios: 0.7514659449706811\n",
      "Lipid: TG(52:3)]_FA18:1, Sample_ID: TailoredTAG18-1_O3on_DegummedCanola0.0005mgmL_020723, Labels: n-9, Ratios: 0.7514659449706811\n",
      "Lipid: TG(52:3)]_FA18:1, Sample_ID: TailoredTAG18-1_O3on_DegummedCanola0.0005mgmL_020723, Labels: n-9, Ratios: 0.7514659449706811\n",
      "Lipid: TG(54:3)]_FA18:1, Sample_ID: TailoredTAG18-1_O3on_DegummedCanola0.0005mgmL_020723, Labels: n-9, Ratios: 1.2009750812567714\n",
      "Lipid: TG(54:3)]_FA18:1, Sample_ID: TailoredTAG18-1_O3on_DegummedCanola0.0005mgmL_020723, Labels: n-9, Ratios: 1.2009750812567714\n",
      "Lipid: TG(54:3)]_FA18:1, Sample_ID: TailoredTAG18-1_O3on_DegummedCanola0.0005mgmL_020723, Labels: n-9, Ratios: 1.2009750812567714\n",
      "Lipid: TG(54:3)]_FA18:1, Sample_ID: TailoredTAG18-1_O3on_DegummedCanola0.0005mgmL_020723, Labels: n-9, Ratios: 1.2009750812567714\n",
      "Lipid: TG(52:2)]_FA18:1, Sample_ID: TailoredTAG18-1_O3on_DegummedCanola0.0005mgmL_020723, Labels: n-9, Ratios: 1.2290852228303362\n",
      "Lipid: TG(52:2)]_FA18:1, Sample_ID: TailoredTAG18-1_O3on_DegummedCanola0.0005mgmL_020723, Labels: n-9, Ratios: 1.2290852228303362\n",
      "Lipid: TG(52:2)]_FA18:1, Sample_ID: TailoredTAG18-1_O3on_DegummedCanola0.0005mgmL_020723, Labels: n-9, Ratios: 1.2290852228303362\n",
      "Lipid: TG(52:2)]_FA18:1, Sample_ID: TailoredTAG18-1_O3on_DegummedCanola0.0005mgmL_020723, Labels: n-9, Ratios: 1.2290852228303362\n",
      "Lipid: TG(54:2)]_FA18:1, Sample_ID: TailoredTAG18-1_O3on_DegummedCanola0.0005mgmL_020723, Labels: n-9, Ratios: 0.41607026675341574\n",
      "Lipid: TG(54:2)]_FA18:1, Sample_ID: TailoredTAG18-1_O3on_DegummedCanola0.0005mgmL_020723, Labels: n-9, Ratios: 0.41607026675341574\n",
      "Lipid: TG(54:2)]_FA18:1, Sample_ID: TailoredTAG18-1_O3on_DegummedCanola0.0005mgmL_020723, Labels: n-9, Ratios: 0.41607026675341574\n",
      "Lipid: TG(54:2)]_FA18:1, Sample_ID: TailoredTAG18-1_O3on_DegummedCanola0.0005mgmL_020723, Labels: n-9, Ratios: 0.41607026675341574\n",
      "Lipid: TG(53:0)]_FA18:1, Sample_ID: TailoredTAG18-1_O3on_DegummedCanola0.0005mgmL_020723, Labels: n-9, Ratios: 1.0995812005583994\n",
      "Lipid: TG(53:0)]_FA18:1, Sample_ID: TailoredTAG18-1_O3on_DegummedCanola0.0005mgmL_020723, Labels: n-9, Ratios: 1.0995812005583994\n",
      "Lipid: TG(53:0)]_FA18:1, Sample_ID: TailoredTAG18-1_O3on_DegummedCanola0.0005mgmL_020723, Labels: n-9, Ratios: 1.0995812005583994\n",
      "Lipid: TG(53:0)]_FA18:1, Sample_ID: TailoredTAG18-1_O3on_DegummedCanola0.0005mgmL_020723, Labels: n-9, Ratios: 1.0995812005583994\n",
      "Lipid: [TG(54:6)]_FA18:1, Sample_ID: TailoredTAG18-1_O3on_DegummedCanola0.0005mgmL_020723, Labels: n-9, Ratios: 2.8798432738354376\n",
      "Lipid: [TG(54:6)]_FA18:1, Sample_ID: TailoredTAG18-1_O3on_DegummedCanola0.0005mgmL_020723, Labels: n-9, Ratios: 2.8798432738354376\n",
      "Lipid: [TG(54:6)]_FA18:1, Sample_ID: TailoredTAG18-1_O3on_DegummedCanola0.0005mgmL_020723, Labels: n-9, Ratios: 2.8798432738354376\n",
      "Lipid: [TG(54:6)]_FA18:1, Sample_ID: TailoredTAG18-1_O3on_DegummedCanola0.0005mgmL_020723, Labels: n-9, Ratios: 2.8798432738354376\n",
      "Lipid: [TG(54:5)]_FA18:1, Sample_ID: TailoredTAG18-1_O3on_DegummedCanola0.0005mgmL_020723, Labels: n-9, Ratios: 0.27441161742613923\n",
      "Lipid: [TG(54:5)]_FA18:1, Sample_ID: TailoredTAG18-1_O3on_DegummedCanola0.0005mgmL_020723, Labels: n-9, Ratios: 0.27441161742613923\n",
      "Lipid: [TG(54:5)]_FA18:1, Sample_ID: TailoredTAG18-1_O3on_DegummedCanola0.0005mgmL_020723, Labels: n-9, Ratios: 0.27441161742613923\n",
      "Lipid: [TG(54:5)]_FA18:1, Sample_ID: TailoredTAG18-1_O3on_DegummedCanola0.0005mgmL_020723, Labels: n-9, Ratios: 0.27441161742613923\n",
      "Lipid: TG(54:4)]_FA18:1, Sample_ID: TailoredTAG18-1_O3on_DegummedCanola0.0005mgmL_020723, Labels: n-9, Ratios: 17.414864864864864\n",
      "Lipid: TG(54:4)]_FA18:1, Sample_ID: TailoredTAG18-1_O3on_DegummedCanola0.0005mgmL_020723, Labels: n-9, Ratios: 17.414864864864864\n",
      "Lipid: TG(54:4)]_FA18:1, Sample_ID: TailoredTAG18-1_O3on_DegummedCanola0.0005mgmL_020723, Labels: n-9, Ratios: 17.414864864864864\n",
      "Lipid: TG(54:4)]_FA18:1, Sample_ID: TailoredTAG18-1_O3on_DegummedCanola0.0005mgmL_020723, Labels: n-9, Ratios: 17.414864864864864\n",
      "Lipid: TG(54:3)]_FA18:1, Sample_ID: TailoredTAG18-1_O3on_DegummedCanola0.0005mgmL_020723, Labels: n-9, Ratios: 2.9447453954496208\n",
      "Lipid: TG(54:3)]_FA18:1, Sample_ID: TailoredTAG18-1_O3on_DegummedCanola0.0005mgmL_020723, Labels: n-9, Ratios: 2.9447453954496208\n",
      "Lipid: TG(54:3)]_FA18:1, Sample_ID: TailoredTAG18-1_O3on_DegummedCanola0.0005mgmL_020723, Labels: n-9, Ratios: 2.9447453954496208\n",
      "Lipid: TG(54:3)]_FA18:1, Sample_ID: TailoredTAG18-1_O3on_DegummedCanola0.0005mgmL_020723, Labels: n-9, Ratios: 2.9447453954496208\n",
      "Lipid: TG(54:2)]_FA18:1, Sample_ID: TailoredTAG18-1_O3on_DegummedCanola0.0005mgmL_020723, Labels: n-9, Ratios: 0.7049446974625895\n",
      "Lipid: TG(54:2)]_FA18:1, Sample_ID: TailoredTAG18-1_O3on_DegummedCanola0.0005mgmL_020723, Labels: n-9, Ratios: 0.7049446974625895\n",
      "Lipid: TG(54:2)]_FA18:1, Sample_ID: TailoredTAG18-1_O3on_DegummedCanola0.0005mgmL_020723, Labels: n-9, Ratios: 0.7049446974625895\n",
      "Lipid: TG(54:2)]_FA18:1, Sample_ID: TailoredTAG18-1_O3on_DegummedCanola0.0005mgmL_020723, Labels: n-9, Ratios: 0.7049446974625895\n",
      "Lipid: [TG(54:6)]_FA18:1, Sample_ID: TailoredTAG18-1_O3on_RBDCanola0.0005mgmL_020723, Labels: n-9, Ratios: 1.0025352112676056\n",
      "Lipid: [TG(54:6)]_FA18:1, Sample_ID: TailoredTAG18-1_O3on_RBDCanola0.0005mgmL_020723, Labels: n-9, Ratios: 1.0025352112676056\n",
      "Lipid: [TG(54:6)]_FA18:1, Sample_ID: TailoredTAG18-1_O3on_RBDCanola0.0005mgmL_020723, Labels: n-9, Ratios: 1.0025352112676056\n",
      "Lipid: [TG(54:6)]_FA18:1, Sample_ID: TailoredTAG18-1_O3on_RBDCanola0.0005mgmL_020723, Labels: n-9, Ratios: 1.0025352112676056\n",
      "Lipid: [TG(52:5)]_FA18:1, Sample_ID: TailoredTAG18-1_O3on_RBDCanola0.0005mgmL_020723, Labels: n-9, Ratios: 4.724655819774719\n",
      "Lipid: [TG(52:5)]_FA18:1, Sample_ID: TailoredTAG18-1_O3on_RBDCanola0.0005mgmL_020723, Labels: n-9, Ratios: 4.724655819774719\n",
      "Lipid: [TG(52:5)]_FA18:1, Sample_ID: TailoredTAG18-1_O3on_RBDCanola0.0005mgmL_020723, Labels: n-9, Ratios: 4.724655819774719\n",
      "Lipid: [TG(52:5)]_FA18:1, Sample_ID: TailoredTAG18-1_O3on_RBDCanola0.0005mgmL_020723, Labels: n-9, Ratios: 4.724655819774719\n",
      "Lipid: [TG(54:5)]_FA18:1, Sample_ID: TailoredTAG18-1_O3on_RBDCanola0.0005mgmL_020723, Labels: n-9, Ratios: 0.7551984877126654\n",
      "Lipid: [TG(54:5)]_FA18:1, Sample_ID: TailoredTAG18-1_O3on_RBDCanola0.0005mgmL_020723, Labels: n-9, Ratios: 0.7551984877126654\n",
      "Lipid: [TG(54:5)]_FA18:1, Sample_ID: TailoredTAG18-1_O3on_RBDCanola0.0005mgmL_020723, Labels: n-9, Ratios: 0.7551984877126654\n",
      "Lipid: [TG(54:5)]_FA18:1, Sample_ID: TailoredTAG18-1_O3on_RBDCanola0.0005mgmL_020723, Labels: n-9, Ratios: 0.7551984877126654\n",
      "Lipid: [TG(52:4)]_FA18:1, Sample_ID: TailoredTAG18-1_O3on_RBDCanola0.0005mgmL_020723, Labels: n-9, Ratios: 0.22942643391521197\n",
      "Lipid: [TG(52:4)]_FA18:1, Sample_ID: TailoredTAG18-1_O3on_RBDCanola0.0005mgmL_020723, Labels: n-9, Ratios: 0.22942643391521197\n",
      "Lipid: [TG(52:4)]_FA18:1, Sample_ID: TailoredTAG18-1_O3on_RBDCanola0.0005mgmL_020723, Labels: n-9, Ratios: 0.22942643391521197\n",
      "Lipid: [TG(52:4)]_FA18:1, Sample_ID: TailoredTAG18-1_O3on_RBDCanola0.0005mgmL_020723, Labels: n-9, Ratios: 0.22942643391521197\n",
      "Lipid: TG(54:4)]_FA18:1, Sample_ID: TailoredTAG18-1_O3on_RBDCanola0.0005mgmL_020723, Labels: n-9, Ratios: 4.000586854460094\n",
      "Lipid: TG(54:4)]_FA18:1, Sample_ID: TailoredTAG18-1_O3on_RBDCanola0.0005mgmL_020723, Labels: n-9, Ratios: 4.000586854460094\n",
      "Lipid: TG(54:4)]_FA18:1, Sample_ID: TailoredTAG18-1_O3on_RBDCanola0.0005mgmL_020723, Labels: n-9, Ratios: 4.000586854460094\n",
      "Lipid: TG(54:4)]_FA18:1, Sample_ID: TailoredTAG18-1_O3on_RBDCanola0.0005mgmL_020723, Labels: n-9, Ratios: 4.000586854460094\n",
      "Lipid: TG(52:3)]_FA18:1, Sample_ID: TailoredTAG18-1_O3on_RBDCanola0.0005mgmL_020723, Labels: n-9, Ratios: 0.7125057683433318\n",
      "Lipid: TG(52:3)]_FA18:1, Sample_ID: TailoredTAG18-1_O3on_RBDCanola0.0005mgmL_020723, Labels: n-9, Ratios: 0.7125057683433318\n",
      "Lipid: TG(52:3)]_FA18:1, Sample_ID: TailoredTAG18-1_O3on_RBDCanola0.0005mgmL_020723, Labels: n-9, Ratios: 0.7125057683433318\n",
      "Lipid: TG(52:3)]_FA18:1, Sample_ID: TailoredTAG18-1_O3on_RBDCanola0.0005mgmL_020723, Labels: n-9, Ratios: 0.7125057683433318\n",
      "Lipid: TG(54:3)]_FA18:1, Sample_ID: TailoredTAG18-1_O3on_RBDCanola0.0005mgmL_020723, Labels: n-9, Ratios: 0.5556410256410257\n",
      "Lipid: TG(54:3)]_FA18:1, Sample_ID: TailoredTAG18-1_O3on_RBDCanola0.0005mgmL_020723, Labels: n-9, Ratios: 0.5556410256410257\n",
      "Lipid: TG(54:3)]_FA18:1, Sample_ID: TailoredTAG18-1_O3on_RBDCanola0.0005mgmL_020723, Labels: n-9, Ratios: 0.5556410256410257\n",
      "Lipid: TG(54:3)]_FA18:1, Sample_ID: TailoredTAG18-1_O3on_RBDCanola0.0005mgmL_020723, Labels: n-9, Ratios: 0.5556410256410257\n",
      "Lipid: TG(52:2)]_FA18:1, Sample_ID: TailoredTAG18-1_O3on_RBDCanola0.0005mgmL_020723, Labels: n-9, Ratios: 0.8283198826118855\n",
      "Lipid: TG(52:2)]_FA18:1, Sample_ID: TailoredTAG18-1_O3on_RBDCanola0.0005mgmL_020723, Labels: n-9, Ratios: 0.8283198826118855\n",
      "Lipid: TG(52:2)]_FA18:1, Sample_ID: TailoredTAG18-1_O3on_RBDCanola0.0005mgmL_020723, Labels: n-9, Ratios: 0.8283198826118855\n",
      "Lipid: TG(52:2)]_FA18:1, Sample_ID: TailoredTAG18-1_O3on_RBDCanola0.0005mgmL_020723, Labels: n-9, Ratios: 0.8283198826118855\n",
      "Lipid: TG(54:2)]_FA18:1, Sample_ID: TailoredTAG18-1_O3on_RBDCanola0.0005mgmL_020723, Labels: n-9, Ratios: 0.08192582797379336\n",
      "Lipid: TG(54:2)]_FA18:1, Sample_ID: TailoredTAG18-1_O3on_RBDCanola0.0005mgmL_020723, Labels: n-9, Ratios: 0.08192582797379336\n",
      "Lipid: TG(54:2)]_FA18:1, Sample_ID: TailoredTAG18-1_O3on_RBDCanola0.0005mgmL_020723, Labels: n-9, Ratios: 0.08192582797379336\n",
      "Lipid: TG(54:2)]_FA18:1, Sample_ID: TailoredTAG18-1_O3on_RBDCanola0.0005mgmL_020723, Labels: n-9, Ratios: 0.08192582797379336\n",
      "Lipid: TG(53:0)]_FA18:1, Sample_ID: TailoredTAG18-1_O3on_RBDCanola0.0005mgmL_020723, Labels: n-9, Ratios: 0.3927710843373494\n",
      "Lipid: TG(53:0)]_FA18:1, Sample_ID: TailoredTAG18-1_O3on_RBDCanola0.0005mgmL_020723, Labels: n-9, Ratios: 0.3927710843373494\n",
      "Lipid: TG(53:0)]_FA18:1, Sample_ID: TailoredTAG18-1_O3on_RBDCanola0.0005mgmL_020723, Labels: n-9, Ratios: 0.3927710843373494\n",
      "Lipid: TG(53:0)]_FA18:1, Sample_ID: TailoredTAG18-1_O3on_RBDCanola0.0005mgmL_020723, Labels: n-9, Ratios: 0.3927710843373494\n",
      "Lipid: [TG(54:6)]_FA18:1, Sample_ID: TailoredTAG18-1_O3on_RBDCanola0.0005mgmL_020723, Labels: n-9, Ratios: 2.290985915492958\n",
      "Lipid: [TG(54:6)]_FA18:1, Sample_ID: TailoredTAG18-1_O3on_RBDCanola0.0005mgmL_020723, Labels: n-9, Ratios: 2.290985915492958\n",
      "Lipid: [TG(54:6)]_FA18:1, Sample_ID: TailoredTAG18-1_O3on_RBDCanola0.0005mgmL_020723, Labels: n-9, Ratios: 2.290985915492958\n",
      "Lipid: [TG(54:6)]_FA18:1, Sample_ID: TailoredTAG18-1_O3on_RBDCanola0.0005mgmL_020723, Labels: n-9, Ratios: 2.290985915492958\n",
      "Lipid: [TG(54:5)]_FA18:1, Sample_ID: TailoredTAG18-1_O3on_RBDCanola0.0005mgmL_020723, Labels: n-9, Ratios: 21.640831758034025\n",
      "Lipid: [TG(54:5)]_FA18:1, Sample_ID: TailoredTAG18-1_O3on_RBDCanola0.0005mgmL_020723, Labels: n-9, Ratios: 21.640831758034025\n",
      "Lipid: [TG(54:5)]_FA18:1, Sample_ID: TailoredTAG18-1_O3on_RBDCanola0.0005mgmL_020723, Labels: n-9, Ratios: 21.640831758034025\n",
      "Lipid: [TG(54:5)]_FA18:1, Sample_ID: TailoredTAG18-1_O3on_RBDCanola0.0005mgmL_020723, Labels: n-9, Ratios: 21.640831758034025\n",
      "Lipid: TG(54:4)]_FA18:1, Sample_ID: TailoredTAG18-1_O3on_RBDCanola0.0005mgmL_020723, Labels: n-9, Ratios: 0.7828638497652582\n",
      "Lipid: TG(54:4)]_FA18:1, Sample_ID: TailoredTAG18-1_O3on_RBDCanola0.0005mgmL_020723, Labels: n-9, Ratios: 0.7828638497652582\n",
      "Lipid: TG(54:4)]_FA18:1, Sample_ID: TailoredTAG18-1_O3on_RBDCanola0.0005mgmL_020723, Labels: n-9, Ratios: 0.7828638497652582\n",
      "Lipid: TG(54:4)]_FA18:1, Sample_ID: TailoredTAG18-1_O3on_RBDCanola0.0005mgmL_020723, Labels: n-9, Ratios: 0.7828638497652582\n",
      "Lipid: TG(54:3)]_FA18:1, Sample_ID: TailoredTAG18-1_O3on_RBDCanola0.0005mgmL_020723, Labels: n-9, Ratios: 0.4987179487179487\n",
      "Lipid: TG(54:3)]_FA18:1, Sample_ID: TailoredTAG18-1_O3on_RBDCanola0.0005mgmL_020723, Labels: n-9, Ratios: 0.4987179487179487\n",
      "Lipid: TG(54:3)]_FA18:1, Sample_ID: TailoredTAG18-1_O3on_RBDCanola0.0005mgmL_020723, Labels: n-9, Ratios: 0.4987179487179487\n",
      "Lipid: TG(54:3)]_FA18:1, Sample_ID: TailoredTAG18-1_O3on_RBDCanola0.0005mgmL_020723, Labels: n-9, Ratios: 0.4987179487179487\n",
      "Lipid: TG(54:2)]_FA18:1, Sample_ID: TailoredTAG18-1_O3on_RBDCanola0.0005mgmL_020723, Labels: n-9, Ratios: 0.06930335998076577\n",
      "Lipid: TG(54:2)]_FA18:1, Sample_ID: TailoredTAG18-1_O3on_RBDCanola0.0005mgmL_020723, Labels: n-9, Ratios: 0.06930335998076577\n",
      "Lipid: TG(54:2)]_FA18:1, Sample_ID: TailoredTAG18-1_O3on_RBDCanola0.0005mgmL_020723, Labels: n-9, Ratios: 0.06930335998076577\n",
      "Lipid: TG(54:2)]_FA18:1, Sample_ID: TailoredTAG18-1_O3on_RBDCanola0.0005mgmL_020723, Labels: n-9, Ratios: 0.06930335998076577\n"
     ]
    }
   ],
   "source": [
    "# Iterate through each row in the DataFrame\n",
    "for index, row in df_matched_4c.iterrows():\n",
    "    # Extract Lipid, Sample_ID, Labels and Ratios from the row\n",
    "    lipid = row['Lipid']\n",
    "    sample_id = row['Sample_ID']\n",
    "    labels = row['Labels']\n",
    "    ratios = row['Ratios']\n",
    "\n",
    "    # Check if ratios is not NaN\n",
    "    if not pd.isna(ratios):\n",
    "        # Print out the values\n",
    "        print(f'Lipid: {lipid}, Sample_ID: {sample_id}, Labels: {labels}, Ratios: {ratios}')\n"
   ]
  },
  {
   "cell_type": "code",
   "execution_count": 42,
   "metadata": {},
   "outputs": [],
   "source": [
    "def filter_highest_ratios(df):\n",
    "    # Sort the DataFrame by ratios in descending order\n",
    "    df_sorted = df.sort_values(by='Ratios', ascending=False)\n",
    "\n",
    "    # Drop duplicates keeping the first occurrence (highest ratio)\n",
    "    df_filtered = df_sorted.drop_duplicates(subset=['Sample_ID', 'Lipid','Labels'], keep='first')\n",
    "    df_filtered = df_filtered.sort_values(by=['Sample_ID', 'Lipid'], ascending=[True, True])\n",
    "\n",
    "    return df_filtered\n",
    "\n",
    "df_matched_4d = filter_highest_ratios(df_matched_4c)\n"
   ]
  },
  {
   "cell_type": "code",
   "execution_count": 43,
   "metadata": {},
   "outputs": [
    {
     "data": {
      "text/html": [
       "<div>\n",
       "<style scoped>\n",
       "    .dataframe tbody tr th:only-of-type {\n",
       "        vertical-align: middle;\n",
       "    }\n",
       "\n",
       "    .dataframe tbody tr th {\n",
       "        vertical-align: top;\n",
       "    }\n",
       "\n",
       "    .dataframe thead th {\n",
       "        text-align: right;\n",
       "    }\n",
       "</style>\n",
       "<table border=\"1\" class=\"dataframe\">\n",
       "  <thead>\n",
       "    <tr style=\"text-align: right;\">\n",
       "      <th></th>\n",
       "      <th>Class</th>\n",
       "      <th>Intensity</th>\n",
       "      <th>Lipid</th>\n",
       "      <th>Parent_Ion</th>\n",
       "      <th>Product_Ion</th>\n",
       "      <th>Sample_ID</th>\n",
       "      <th>Transition</th>\n",
       "      <th>Retention_Time</th>\n",
       "      <th>OzESI_Intensity</th>\n",
       "      <th>n-7</th>\n",
       "      <th>n-9</th>\n",
       "      <th>n-12</th>\n",
       "      <th>Labels</th>\n",
       "      <th>Ratios</th>\n",
       "    </tr>\n",
       "  </thead>\n",
       "  <tbody>\n",
       "    <tr>\n",
       "      <th>152</th>\n",
       "      <td>NaN</td>\n",
       "      <td>2.998289e+06</td>\n",
       "      <td>TG(52:2)]_FA18:1</td>\n",
       "      <td>766.7</td>\n",
       "      <td>577.6</td>\n",
       "      <td>TailoredTAG18-1_O3on_Blank50ACN50IPA_v4_020723</td>\n",
       "      <td>766.7 -&gt; 577.6</td>\n",
       "      <td>16.45</td>\n",
       "      <td>2475.0</td>\n",
       "      <td>684.7</td>\n",
       "      <td>656.7</td>\n",
       "      <td>614.7</td>\n",
       "      <td>n-9</td>\n",
       "      <td>1.361386</td>\n",
       "    </tr>\n",
       "    <tr>\n",
       "      <th>28</th>\n",
       "      <td>TAG</td>\n",
       "      <td>2.495211e+07</td>\n",
       "      <td>TG(52:2)]_FA18:1</td>\n",
       "      <td>876.8</td>\n",
       "      <td>577.6</td>\n",
       "      <td>TailoredTAG18-1_O3on_Blank50ACN50IPA_v4_020723</td>\n",
       "      <td>876.8 -&gt; 577.6</td>\n",
       "      <td>19.18</td>\n",
       "      <td>4228.0</td>\n",
       "      <td>794.8</td>\n",
       "      <td>766.8</td>\n",
       "      <td>724.8</td>\n",
       "      <td></td>\n",
       "      <td>NaN</td>\n",
       "    </tr>\n",
       "    <tr>\n",
       "      <th>240</th>\n",
       "      <td>NaN</td>\n",
       "      <td>2.451525e+06</td>\n",
       "      <td>TG(52:2)]_FA18:1</td>\n",
       "      <td>794.7</td>\n",
       "      <td>577.6</td>\n",
       "      <td>TailoredTAG18-1_O3on_Blank50ACN50IPA_v4_020723</td>\n",
       "      <td>794.7 -&gt; 577.6</td>\n",
       "      <td>19.45</td>\n",
       "      <td>1818.0</td>\n",
       "      <td>712.7</td>\n",
       "      <td>684.7</td>\n",
       "      <td>642.7</td>\n",
       "      <td>n-7</td>\n",
       "      <td>NaN</td>\n",
       "    </tr>\n",
       "    <tr>\n",
       "      <th>151</th>\n",
       "      <td>NaN</td>\n",
       "      <td>3.341981e+06</td>\n",
       "      <td>TG(52:3)]_FA18:1</td>\n",
       "      <td>764.6</td>\n",
       "      <td>575.6</td>\n",
       "      <td>TailoredTAG18-1_O3on_Blank50ACN50IPA_v4_020723</td>\n",
       "      <td>764.6 -&gt; 575.6</td>\n",
       "      <td>19.70</td>\n",
       "      <td>2571.0</td>\n",
       "      <td>682.6</td>\n",
       "      <td>654.6</td>\n",
       "      <td>612.6</td>\n",
       "      <td>n-9</td>\n",
       "      <td>1.739513</td>\n",
       "    </tr>\n",
       "    <tr>\n",
       "      <th>27</th>\n",
       "      <td>TAG</td>\n",
       "      <td>1.941393e+07</td>\n",
       "      <td>TG(52:3)]_FA18:1</td>\n",
       "      <td>874.8</td>\n",
       "      <td>575.6</td>\n",
       "      <td>TailoredTAG18-1_O3on_Blank50ACN50IPA_v4_020723</td>\n",
       "      <td>874.8 -&gt; 575.6</td>\n",
       "      <td>19.12</td>\n",
       "      <td>24965.0</td>\n",
       "      <td>792.8</td>\n",
       "      <td>764.8</td>\n",
       "      <td>722.8</td>\n",
       "      <td></td>\n",
       "      <td>NaN</td>\n",
       "    </tr>\n",
       "    <tr>\n",
       "      <th>...</th>\n",
       "      <td>...</td>\n",
       "      <td>...</td>\n",
       "      <td>...</td>\n",
       "      <td>...</td>\n",
       "      <td>...</td>\n",
       "      <td>...</td>\n",
       "      <td>...</td>\n",
       "      <td>...</td>\n",
       "      <td>...</td>\n",
       "      <td>...</td>\n",
       "      <td>...</td>\n",
       "      <td>...</td>\n",
       "      <td>...</td>\n",
       "      <td>...</td>\n",
       "    </tr>\n",
       "    <tr>\n",
       "      <th>136</th>\n",
       "      <td>TAG</td>\n",
       "      <td>1.104765e+07</td>\n",
       "      <td>[TG(54:5)]_FA18:1</td>\n",
       "      <td>898.8</td>\n",
       "      <td>599.6</td>\n",
       "      <td>TailoredTAG18-1_O3on_RBDCanola0.0005mgmL_020723</td>\n",
       "      <td>898.8 -&gt; 599.6</td>\n",
       "      <td>NaN</td>\n",
       "      <td>NaN</td>\n",
       "      <td>816.8</td>\n",
       "      <td>788.8</td>\n",
       "      <td>746.8</td>\n",
       "      <td></td>\n",
       "      <td>NaN</td>\n",
       "    </tr>\n",
       "    <tr>\n",
       "      <th>652</th>\n",
       "      <td>NaN</td>\n",
       "      <td>2.850856e+06</td>\n",
       "      <td>[TG(54:5)]_FA18:1</td>\n",
       "      <td>816.7</td>\n",
       "      <td>599.6</td>\n",
       "      <td>TailoredTAG18-1_O3on_RBDCanola0.0005mgmL_020723</td>\n",
       "      <td>816.7 -&gt; 599.6</td>\n",
       "      <td>18.25</td>\n",
       "      <td>2116.0</td>\n",
       "      <td>734.7</td>\n",
       "      <td>706.7</td>\n",
       "      <td>664.7</td>\n",
       "      <td>n-7</td>\n",
       "      <td>NaN</td>\n",
       "    </tr>\n",
       "    <tr>\n",
       "      <th>576</th>\n",
       "      <td>NaN</td>\n",
       "      <td>2.655103e+06</td>\n",
       "      <td>[TG(54:6)]_FA18:1</td>\n",
       "      <td>786.6</td>\n",
       "      <td>597.6</td>\n",
       "      <td>TailoredTAG18-1_O3on_RBDCanola0.0005mgmL_020723</td>\n",
       "      <td>786.6 -&gt; 597.6</td>\n",
       "      <td>14.33</td>\n",
       "      <td>16266.0</td>\n",
       "      <td>704.6</td>\n",
       "      <td>676.6</td>\n",
       "      <td>634.6</td>\n",
       "      <td>n-9</td>\n",
       "      <td>2.290986</td>\n",
       "    </tr>\n",
       "    <tr>\n",
       "      <th>135</th>\n",
       "      <td>TAG</td>\n",
       "      <td>2.772084e+06</td>\n",
       "      <td>[TG(54:6)]_FA18:1</td>\n",
       "      <td>896.8</td>\n",
       "      <td>597.6</td>\n",
       "      <td>TailoredTAG18-1_O3on_RBDCanola0.0005mgmL_020723</td>\n",
       "      <td>896.8 -&gt; 597.6</td>\n",
       "      <td>16.24</td>\n",
       "      <td>134339.0</td>\n",
       "      <td>814.8</td>\n",
       "      <td>786.8</td>\n",
       "      <td>744.8</td>\n",
       "      <td></td>\n",
       "      <td>NaN</td>\n",
       "    </tr>\n",
       "    <tr>\n",
       "      <th>648</th>\n",
       "      <td>NaN</td>\n",
       "      <td>1.867027e+06</td>\n",
       "      <td>[TG(54:6)]_FA18:1</td>\n",
       "      <td>814.7</td>\n",
       "      <td>597.6</td>\n",
       "      <td>TailoredTAG18-1_O3on_RBDCanola0.0005mgmL_020723</td>\n",
       "      <td>814.7 -&gt; 597.6</td>\n",
       "      <td>16.25</td>\n",
       "      <td>7100.0</td>\n",
       "      <td>732.7</td>\n",
       "      <td>704.7</td>\n",
       "      <td>662.7</td>\n",
       "      <td>n-7</td>\n",
       "      <td>NaN</td>\n",
       "    </tr>\n",
       "  </tbody>\n",
       "</table>\n",
       "<p>128 rows × 14 columns</p>\n",
       "</div>"
      ],
      "text/plain": [
       "    Class     Intensity              Lipid  Parent_Ion  Product_Ion  \\\n",
       "152   NaN  2.998289e+06   TG(52:2)]_FA18:1       766.7        577.6   \n",
       "28    TAG  2.495211e+07   TG(52:2)]_FA18:1       876.8        577.6   \n",
       "240   NaN  2.451525e+06   TG(52:2)]_FA18:1       794.7        577.6   \n",
       "151   NaN  3.341981e+06   TG(52:3)]_FA18:1       764.6        575.6   \n",
       "27    TAG  1.941393e+07   TG(52:3)]_FA18:1       874.8        575.6   \n",
       "..    ...           ...                ...         ...          ...   \n",
       "136   TAG  1.104765e+07  [TG(54:5)]_FA18:1       898.8        599.6   \n",
       "652   NaN  2.850856e+06  [TG(54:5)]_FA18:1       816.7        599.6   \n",
       "576   NaN  2.655103e+06  [TG(54:6)]_FA18:1       786.6        597.6   \n",
       "135   TAG  2.772084e+06  [TG(54:6)]_FA18:1       896.8        597.6   \n",
       "648   NaN  1.867027e+06  [TG(54:6)]_FA18:1       814.7        597.6   \n",
       "\n",
       "                                           Sample_ID      Transition  \\\n",
       "152   TailoredTAG18-1_O3on_Blank50ACN50IPA_v4_020723  766.7 -> 577.6   \n",
       "28    TailoredTAG18-1_O3on_Blank50ACN50IPA_v4_020723  876.8 -> 577.6   \n",
       "240   TailoredTAG18-1_O3on_Blank50ACN50IPA_v4_020723  794.7 -> 577.6   \n",
       "151   TailoredTAG18-1_O3on_Blank50ACN50IPA_v4_020723  764.6 -> 575.6   \n",
       "27    TailoredTAG18-1_O3on_Blank50ACN50IPA_v4_020723  874.8 -> 575.6   \n",
       "..                                               ...             ...   \n",
       "136  TailoredTAG18-1_O3on_RBDCanola0.0005mgmL_020723  898.8 -> 599.6   \n",
       "652  TailoredTAG18-1_O3on_RBDCanola0.0005mgmL_020723  816.7 -> 599.6   \n",
       "576  TailoredTAG18-1_O3on_RBDCanola0.0005mgmL_020723  786.6 -> 597.6   \n",
       "135  TailoredTAG18-1_O3on_RBDCanola0.0005mgmL_020723  896.8 -> 597.6   \n",
       "648  TailoredTAG18-1_O3on_RBDCanola0.0005mgmL_020723  814.7 -> 597.6   \n",
       "\n",
       "     Retention_Time  OzESI_Intensity    n-7    n-9   n-12 Labels    Ratios  \n",
       "152           16.45           2475.0  684.7  656.7  614.7    n-9  1.361386  \n",
       "28            19.18           4228.0  794.8  766.8  724.8              NaN  \n",
       "240           19.45           1818.0  712.7  684.7  642.7    n-7       NaN  \n",
       "151           19.70           2571.0  682.6  654.6  612.6    n-9  1.739513  \n",
       "27            19.12          24965.0  792.8  764.8  722.8              NaN  \n",
       "..              ...              ...    ...    ...    ...    ...       ...  \n",
       "136             NaN              NaN  816.8  788.8  746.8              NaN  \n",
       "652           18.25           2116.0  734.7  706.7  664.7    n-7       NaN  \n",
       "576           14.33          16266.0  704.6  676.6  634.6    n-9  2.290986  \n",
       "135           16.24         134339.0  814.8  786.8  744.8              NaN  \n",
       "648           16.25           7100.0  732.7  704.7  662.7    n-7       NaN  \n",
       "\n",
       "[128 rows x 14 columns]"
      ]
     },
     "execution_count": 43,
     "metadata": {},
     "output_type": "execute_result"
    }
   ],
   "source": [
    "df_matched_4d.head(None)"
   ]
  },
  {
   "attachments": {},
   "cell_type": "markdown",
   "metadata": {},
   "source": [
    "Visualizations"
   ]
  },
  {
   "cell_type": "code",
   "execution_count": 44,
   "metadata": {},
   "outputs": [
    {
     "data": {
      "application/vnd.plotly.v1+json": {
       "config": {
        "plotlyServerURL": "https://plot.ly"
       },
       "data": [
        {
         "alignmentgroup": "True",
         "hovertemplate": "Lipid=%{x}<br>Ratios=%{text}<extra></extra>",
         "legendgroup": "",
         "marker": {
          "color": [
           "blue",
           "blue",
           "blue",
           "blue",
           "blue",
           "blue",
           "purple",
           "purple",
           "purple",
           "green",
           "green",
           "green",
           "green",
           "green",
           "green",
           "green",
           "green",
           "green",
           "blue",
           "blue",
           "blue",
           "blue",
           "blue",
           "blue",
           "blue",
           "blue",
           "green",
           "green",
           "green",
           "green",
           "green",
           "green"
          ],
          "line": {
           "width": 0
          }
         },
         "name": "",
         "offsetgroup": "",
         "orientation": "v",
         "showlegend": false,
         "text": [
          1.3613861386138615,
          null,
          null,
          1.739512855209743,
          null,
          null,
          1.3274111675126903,
          null,
          null,
          1.5626466447677148,
          null,
          null,
          1.2881355932203389,
          null,
          null,
          1.4411027568922306,
          null,
          null,
          1.4933333333333334,
          null,
          null,
          1.6298245614035087,
          null,
          null,
          null,
          null,
          2.143888354186718,
          null,
          null,
          1.29979035639413,
          null,
          null
         ],
         "textposition": "auto",
         "texttemplate": "%{text:.2f}",
         "type": "bar",
         "x": [
          "TG(52:2)]_FA18:1",
          "TG(52:2)]_FA18:1",
          "TG(52:2)]_FA18:1",
          "TG(52:3)]_FA18:1",
          "TG(52:3)]_FA18:1",
          "TG(52:3)]_FA18:1",
          "TG(53:0)]_FA18:1",
          "TG(53:0)]_FA18:1",
          "TG(53:0)]_FA18:1",
          "TG(54:2)]_FA18:1",
          "TG(54:2)]_FA18:1",
          "TG(54:2)]_FA18:1",
          "TG(54:3)]_FA18:1",
          "TG(54:3)]_FA18:1",
          "TG(54:3)]_FA18:1",
          "TG(54:4)]_FA18:1",
          "TG(54:4)]_FA18:1",
          "TG(54:4)]_FA18:1",
          "[TG(52:4)]_FA18:1",
          "[TG(52:4)]_FA18:1",
          "[TG(52:4)]_FA18:1",
          "[TG(52:5)]_FA18:1",
          "[TG(52:5)]_FA18:1",
          "[TG(52:5)]_FA18:1",
          "[TG(52:6)]_FA18:1",
          "[TG(52:6)]_FA18:1",
          "[TG(54:5)]_FA18:1",
          "[TG(54:5)]_FA18:1",
          "[TG(54:5)]_FA18:1",
          "[TG(54:6)]_FA18:1",
          "[TG(54:6)]_FA18:1",
          "[TG(54:6)]_FA18:1"
         ],
         "xaxis": "x",
         "y": [
          1.3613861386138615,
          null,
          null,
          1.739512855209743,
          null,
          null,
          1.3274111675126903,
          null,
          null,
          1.5626466447677148,
          null,
          null,
          1.2881355932203389,
          null,
          null,
          1.4411027568922306,
          null,
          null,
          1.4933333333333334,
          null,
          null,
          1.6298245614035087,
          null,
          null,
          null,
          null,
          2.143888354186718,
          null,
          null,
          1.29979035639413,
          null,
          null
         ],
         "yaxis": "y"
        }
       ],
       "layout": {
        "barmode": "relative",
        "legend": {
         "itemsizing": "constant",
         "title": {
          "text": "Lipid Patterns"
         },
         "tracegroupgap": 50
        },
        "template": {
         "data": {
          "bar": [
           {
            "error_x": {
             "color": "#2a3f5f"
            },
            "error_y": {
             "color": "#2a3f5f"
            },
            "marker": {
             "line": {
              "color": "#E5ECF6",
              "width": 0.5
             }
            },
            "type": "bar"
           }
          ],
          "barpolar": [
           {
            "marker": {
             "line": {
              "color": "#E5ECF6",
              "width": 0.5
             }
            },
            "type": "barpolar"
           }
          ],
          "carpet": [
           {
            "aaxis": {
             "endlinecolor": "#2a3f5f",
             "gridcolor": "white",
             "linecolor": "white",
             "minorgridcolor": "white",
             "startlinecolor": "#2a3f5f"
            },
            "baxis": {
             "endlinecolor": "#2a3f5f",
             "gridcolor": "white",
             "linecolor": "white",
             "minorgridcolor": "white",
             "startlinecolor": "#2a3f5f"
            },
            "type": "carpet"
           }
          ],
          "choropleth": [
           {
            "colorbar": {
             "outlinewidth": 0,
             "ticks": ""
            },
            "type": "choropleth"
           }
          ],
          "contour": [
           {
            "colorbar": {
             "outlinewidth": 0,
             "ticks": ""
            },
            "colorscale": [
             [
              0,
              "#0d0887"
             ],
             [
              0.1111111111111111,
              "#46039f"
             ],
             [
              0.2222222222222222,
              "#7201a8"
             ],
             [
              0.3333333333333333,
              "#9c179e"
             ],
             [
              0.4444444444444444,
              "#bd3786"
             ],
             [
              0.5555555555555556,
              "#d8576b"
             ],
             [
              0.6666666666666666,
              "#ed7953"
             ],
             [
              0.7777777777777778,
              "#fb9f3a"
             ],
             [
              0.8888888888888888,
              "#fdca26"
             ],
             [
              1,
              "#f0f921"
             ]
            ],
            "type": "contour"
           }
          ],
          "contourcarpet": [
           {
            "colorbar": {
             "outlinewidth": 0,
             "ticks": ""
            },
            "type": "contourcarpet"
           }
          ],
          "heatmap": [
           {
            "colorbar": {
             "outlinewidth": 0,
             "ticks": ""
            },
            "colorscale": [
             [
              0,
              "#0d0887"
             ],
             [
              0.1111111111111111,
              "#46039f"
             ],
             [
              0.2222222222222222,
              "#7201a8"
             ],
             [
              0.3333333333333333,
              "#9c179e"
             ],
             [
              0.4444444444444444,
              "#bd3786"
             ],
             [
              0.5555555555555556,
              "#d8576b"
             ],
             [
              0.6666666666666666,
              "#ed7953"
             ],
             [
              0.7777777777777778,
              "#fb9f3a"
             ],
             [
              0.8888888888888888,
              "#fdca26"
             ],
             [
              1,
              "#f0f921"
             ]
            ],
            "type": "heatmap"
           }
          ],
          "heatmapgl": [
           {
            "colorbar": {
             "outlinewidth": 0,
             "ticks": ""
            },
            "colorscale": [
             [
              0,
              "#0d0887"
             ],
             [
              0.1111111111111111,
              "#46039f"
             ],
             [
              0.2222222222222222,
              "#7201a8"
             ],
             [
              0.3333333333333333,
              "#9c179e"
             ],
             [
              0.4444444444444444,
              "#bd3786"
             ],
             [
              0.5555555555555556,
              "#d8576b"
             ],
             [
              0.6666666666666666,
              "#ed7953"
             ],
             [
              0.7777777777777778,
              "#fb9f3a"
             ],
             [
              0.8888888888888888,
              "#fdca26"
             ],
             [
              1,
              "#f0f921"
             ]
            ],
            "type": "heatmapgl"
           }
          ],
          "histogram": [
           {
            "marker": {
             "colorbar": {
              "outlinewidth": 0,
              "ticks": ""
             }
            },
            "type": "histogram"
           }
          ],
          "histogram2d": [
           {
            "colorbar": {
             "outlinewidth": 0,
             "ticks": ""
            },
            "colorscale": [
             [
              0,
              "#0d0887"
             ],
             [
              0.1111111111111111,
              "#46039f"
             ],
             [
              0.2222222222222222,
              "#7201a8"
             ],
             [
              0.3333333333333333,
              "#9c179e"
             ],
             [
              0.4444444444444444,
              "#bd3786"
             ],
             [
              0.5555555555555556,
              "#d8576b"
             ],
             [
              0.6666666666666666,
              "#ed7953"
             ],
             [
              0.7777777777777778,
              "#fb9f3a"
             ],
             [
              0.8888888888888888,
              "#fdca26"
             ],
             [
              1,
              "#f0f921"
             ]
            ],
            "type": "histogram2d"
           }
          ],
          "histogram2dcontour": [
           {
            "colorbar": {
             "outlinewidth": 0,
             "ticks": ""
            },
            "colorscale": [
             [
              0,
              "#0d0887"
             ],
             [
              0.1111111111111111,
              "#46039f"
             ],
             [
              0.2222222222222222,
              "#7201a8"
             ],
             [
              0.3333333333333333,
              "#9c179e"
             ],
             [
              0.4444444444444444,
              "#bd3786"
             ],
             [
              0.5555555555555556,
              "#d8576b"
             ],
             [
              0.6666666666666666,
              "#ed7953"
             ],
             [
              0.7777777777777778,
              "#fb9f3a"
             ],
             [
              0.8888888888888888,
              "#fdca26"
             ],
             [
              1,
              "#f0f921"
             ]
            ],
            "type": "histogram2dcontour"
           }
          ],
          "mesh3d": [
           {
            "colorbar": {
             "outlinewidth": 0,
             "ticks": ""
            },
            "type": "mesh3d"
           }
          ],
          "parcoords": [
           {
            "line": {
             "colorbar": {
              "outlinewidth": 0,
              "ticks": ""
             }
            },
            "type": "parcoords"
           }
          ],
          "pie": [
           {
            "automargin": true,
            "type": "pie"
           }
          ],
          "scatter": [
           {
            "marker": {
             "colorbar": {
              "outlinewidth": 0,
              "ticks": ""
             }
            },
            "type": "scatter"
           }
          ],
          "scatter3d": [
           {
            "line": {
             "colorbar": {
              "outlinewidth": 0,
              "ticks": ""
             }
            },
            "marker": {
             "colorbar": {
              "outlinewidth": 0,
              "ticks": ""
             }
            },
            "type": "scatter3d"
           }
          ],
          "scattercarpet": [
           {
            "marker": {
             "colorbar": {
              "outlinewidth": 0,
              "ticks": ""
             }
            },
            "type": "scattercarpet"
           }
          ],
          "scattergeo": [
           {
            "marker": {
             "colorbar": {
              "outlinewidth": 0,
              "ticks": ""
             }
            },
            "type": "scattergeo"
           }
          ],
          "scattergl": [
           {
            "marker": {
             "colorbar": {
              "outlinewidth": 0,
              "ticks": ""
             }
            },
            "type": "scattergl"
           }
          ],
          "scattermapbox": [
           {
            "marker": {
             "colorbar": {
              "outlinewidth": 0,
              "ticks": ""
             }
            },
            "type": "scattermapbox"
           }
          ],
          "scatterpolar": [
           {
            "marker": {
             "colorbar": {
              "outlinewidth": 0,
              "ticks": ""
             }
            },
            "type": "scatterpolar"
           }
          ],
          "scatterpolargl": [
           {
            "marker": {
             "colorbar": {
              "outlinewidth": 0,
              "ticks": ""
             }
            },
            "type": "scatterpolargl"
           }
          ],
          "scatterternary": [
           {
            "marker": {
             "colorbar": {
              "outlinewidth": 0,
              "ticks": ""
             }
            },
            "type": "scatterternary"
           }
          ],
          "surface": [
           {
            "colorbar": {
             "outlinewidth": 0,
             "ticks": ""
            },
            "colorscale": [
             [
              0,
              "#0d0887"
             ],
             [
              0.1111111111111111,
              "#46039f"
             ],
             [
              0.2222222222222222,
              "#7201a8"
             ],
             [
              0.3333333333333333,
              "#9c179e"
             ],
             [
              0.4444444444444444,
              "#bd3786"
             ],
             [
              0.5555555555555556,
              "#d8576b"
             ],
             [
              0.6666666666666666,
              "#ed7953"
             ],
             [
              0.7777777777777778,
              "#fb9f3a"
             ],
             [
              0.8888888888888888,
              "#fdca26"
             ],
             [
              1,
              "#f0f921"
             ]
            ],
            "type": "surface"
           }
          ],
          "table": [
           {
            "cells": {
             "fill": {
              "color": "#EBF0F8"
             },
             "line": {
              "color": "white"
             }
            },
            "header": {
             "fill": {
              "color": "#C8D4E3"
             },
             "line": {
              "color": "white"
             }
            },
            "type": "table"
           }
          ]
         },
         "layout": {
          "annotationdefaults": {
           "arrowcolor": "#2a3f5f",
           "arrowhead": 0,
           "arrowwidth": 1
          },
          "coloraxis": {
           "colorbar": {
            "outlinewidth": 0,
            "ticks": ""
           }
          },
          "colorscale": {
           "diverging": [
            [
             0,
             "#8e0152"
            ],
            [
             0.1,
             "#c51b7d"
            ],
            [
             0.2,
             "#de77ae"
            ],
            [
             0.3,
             "#f1b6da"
            ],
            [
             0.4,
             "#fde0ef"
            ],
            [
             0.5,
             "#f7f7f7"
            ],
            [
             0.6,
             "#e6f5d0"
            ],
            [
             0.7,
             "#b8e186"
            ],
            [
             0.8,
             "#7fbc41"
            ],
            [
             0.9,
             "#4d9221"
            ],
            [
             1,
             "#276419"
            ]
           ],
           "sequential": [
            [
             0,
             "#0d0887"
            ],
            [
             0.1111111111111111,
             "#46039f"
            ],
            [
             0.2222222222222222,
             "#7201a8"
            ],
            [
             0.3333333333333333,
             "#9c179e"
            ],
            [
             0.4444444444444444,
             "#bd3786"
            ],
            [
             0.5555555555555556,
             "#d8576b"
            ],
            [
             0.6666666666666666,
             "#ed7953"
            ],
            [
             0.7777777777777778,
             "#fb9f3a"
            ],
            [
             0.8888888888888888,
             "#fdca26"
            ],
            [
             1,
             "#f0f921"
            ]
           ],
           "sequentialminus": [
            [
             0,
             "#0d0887"
            ],
            [
             0.1111111111111111,
             "#46039f"
            ],
            [
             0.2222222222222222,
             "#7201a8"
            ],
            [
             0.3333333333333333,
             "#9c179e"
            ],
            [
             0.4444444444444444,
             "#bd3786"
            ],
            [
             0.5555555555555556,
             "#d8576b"
            ],
            [
             0.6666666666666666,
             "#ed7953"
            ],
            [
             0.7777777777777778,
             "#fb9f3a"
            ],
            [
             0.8888888888888888,
             "#fdca26"
            ],
            [
             1,
             "#f0f921"
            ]
           ]
          },
          "colorway": [
           "#636efa",
           "#EF553B",
           "#00cc96",
           "#ab63fa",
           "#FFA15A",
           "#19d3f3",
           "#FF6692",
           "#B6E880",
           "#FF97FF",
           "#FECB52"
          ],
          "font": {
           "color": "#2a3f5f"
          },
          "geo": {
           "bgcolor": "white",
           "lakecolor": "white",
           "landcolor": "#E5ECF6",
           "showlakes": true,
           "showland": true,
           "subunitcolor": "white"
          },
          "hoverlabel": {
           "align": "left"
          },
          "hovermode": "closest",
          "mapbox": {
           "style": "light"
          },
          "paper_bgcolor": "white",
          "plot_bgcolor": "#E5ECF6",
          "polar": {
           "angularaxis": {
            "gridcolor": "white",
            "linecolor": "white",
            "ticks": ""
           },
           "bgcolor": "#E5ECF6",
           "radialaxis": {
            "gridcolor": "white",
            "linecolor": "white",
            "ticks": ""
           }
          },
          "scene": {
           "xaxis": {
            "backgroundcolor": "#E5ECF6",
            "gridcolor": "white",
            "gridwidth": 2,
            "linecolor": "white",
            "showbackground": true,
            "ticks": "",
            "zerolinecolor": "white"
           },
           "yaxis": {
            "backgroundcolor": "#E5ECF6",
            "gridcolor": "white",
            "gridwidth": 2,
            "linecolor": "white",
            "showbackground": true,
            "ticks": "",
            "zerolinecolor": "white"
           },
           "zaxis": {
            "backgroundcolor": "#E5ECF6",
            "gridcolor": "white",
            "gridwidth": 2,
            "linecolor": "white",
            "showbackground": true,
            "ticks": "",
            "zerolinecolor": "white"
           }
          },
          "shapedefaults": {
           "line": {
            "color": "#2a3f5f"
           }
          },
          "ternary": {
           "aaxis": {
            "gridcolor": "white",
            "linecolor": "white",
            "ticks": ""
           },
           "baxis": {
            "gridcolor": "white",
            "linecolor": "white",
            "ticks": ""
           },
           "bgcolor": "#E5ECF6",
           "caxis": {
            "gridcolor": "white",
            "linecolor": "white",
            "ticks": ""
           }
          },
          "title": {
           "x": 0.05
          },
          "xaxis": {
           "automargin": true,
           "gridcolor": "white",
           "linecolor": "white",
           "ticks": "",
           "title": {
            "standoff": 15
           },
           "zerolinecolor": "white",
           "zerolinewidth": 2
          },
          "yaxis": {
           "automargin": true,
           "gridcolor": "white",
           "linecolor": "white",
           "ticks": "",
           "title": {
            "standoff": 15
           },
           "zerolinecolor": "white",
           "zerolinewidth": 2
          }
         }
        },
        "title": {
         "font": {
          "size": 20
         },
         "text": "Sample_ID: TailoredTAG18-1_O3on_Blank50ACN50IPA_v4_020723"
        },
        "uniformtext": {
         "minsize": 18,
         "mode": "hide"
        },
        "xaxis": {
         "anchor": "y",
         "domain": [
          0,
          1
         ],
         "title": {
          "font": {
           "size": 16
          },
          "text": "Lipid"
         }
        },
        "yaxis": {
         "anchor": "x",
         "domain": [
          0,
          1
         ],
         "tickfont": {
          "size": 16
         },
         "title": {
          "font": {
           "size": 16
          },
          "text": "Ratios"
         }
        }
       }
      },
      "text/html": [
       "<div>                            <div id=\"27786ee0-5ac9-443c-a58b-dbd855536aaf\" class=\"plotly-graph-div\" style=\"height:525px; width:100%;\"></div>            <script type=\"text/javascript\">                require([\"plotly\"], function(Plotly) {                    window.PLOTLYENV=window.PLOTLYENV || {};                                    if (document.getElementById(\"27786ee0-5ac9-443c-a58b-dbd855536aaf\")) {                    Plotly.newPlot(                        \"27786ee0-5ac9-443c-a58b-dbd855536aaf\",                        [{\"alignmentgroup\": \"True\", \"hovertemplate\": \"Lipid=%{x}<br>Ratios=%{text}<extra></extra>\", \"legendgroup\": \"\", \"marker\": {\"color\": [\"blue\", \"blue\", \"blue\", \"blue\", \"blue\", \"blue\", \"purple\", \"purple\", \"purple\", \"green\", \"green\", \"green\", \"green\", \"green\", \"green\", \"green\", \"green\", \"green\", \"blue\", \"blue\", \"blue\", \"blue\", \"blue\", \"blue\", \"blue\", \"blue\", \"green\", \"green\", \"green\", \"green\", \"green\", \"green\"], \"line\": {\"width\": 0}}, \"name\": \"\", \"offsetgroup\": \"\", \"orientation\": \"v\", \"showlegend\": false, \"text\": [1.3613861386138615, null, null, 1.739512855209743, null, null, 1.3274111675126903, null, null, 1.5626466447677148, null, null, 1.2881355932203389, null, null, 1.4411027568922306, null, null, 1.4933333333333334, null, null, 1.6298245614035087, null, null, null, null, 2.143888354186718, null, null, 1.29979035639413, null, null], \"textposition\": \"auto\", \"texttemplate\": \"%{text:.2f}\", \"type\": \"bar\", \"x\": [\"TG(52:2)]_FA18:1\", \"TG(52:2)]_FA18:1\", \"TG(52:2)]_FA18:1\", \"TG(52:3)]_FA18:1\", \"TG(52:3)]_FA18:1\", \"TG(52:3)]_FA18:1\", \"TG(53:0)]_FA18:1\", \"TG(53:0)]_FA18:1\", \"TG(53:0)]_FA18:1\", \"TG(54:2)]_FA18:1\", \"TG(54:2)]_FA18:1\", \"TG(54:2)]_FA18:1\", \"TG(54:3)]_FA18:1\", \"TG(54:3)]_FA18:1\", \"TG(54:3)]_FA18:1\", \"TG(54:4)]_FA18:1\", \"TG(54:4)]_FA18:1\", \"TG(54:4)]_FA18:1\", \"[TG(52:4)]_FA18:1\", \"[TG(52:4)]_FA18:1\", \"[TG(52:4)]_FA18:1\", \"[TG(52:5)]_FA18:1\", \"[TG(52:5)]_FA18:1\", \"[TG(52:5)]_FA18:1\", \"[TG(52:6)]_FA18:1\", \"[TG(52:6)]_FA18:1\", \"[TG(54:5)]_FA18:1\", \"[TG(54:5)]_FA18:1\", \"[TG(54:5)]_FA18:1\", \"[TG(54:6)]_FA18:1\", \"[TG(54:6)]_FA18:1\", \"[TG(54:6)]_FA18:1\"], \"xaxis\": \"x\", \"y\": [1.3613861386138615, null, null, 1.739512855209743, null, null, 1.3274111675126903, null, null, 1.5626466447677148, null, null, 1.2881355932203389, null, null, 1.4411027568922306, null, null, 1.4933333333333334, null, null, 1.6298245614035087, null, null, null, null, 2.143888354186718, null, null, 1.29979035639413, null, null], \"yaxis\": \"y\"}],                        {\"barmode\": \"relative\", \"legend\": {\"itemsizing\": \"constant\", \"title\": {\"text\": \"Lipid Patterns\"}, \"tracegroupgap\": 50}, \"template\": {\"data\": {\"bar\": [{\"error_x\": {\"color\": \"#2a3f5f\"}, \"error_y\": {\"color\": \"#2a3f5f\"}, \"marker\": {\"line\": {\"color\": \"#E5ECF6\", \"width\": 0.5}}, \"type\": \"bar\"}], \"barpolar\": [{\"marker\": {\"line\": {\"color\": \"#E5ECF6\", \"width\": 0.5}}, \"type\": \"barpolar\"}], \"carpet\": [{\"aaxis\": {\"endlinecolor\": \"#2a3f5f\", \"gridcolor\": \"white\", \"linecolor\": \"white\", \"minorgridcolor\": \"white\", \"startlinecolor\": \"#2a3f5f\"}, \"baxis\": {\"endlinecolor\": \"#2a3f5f\", \"gridcolor\": \"white\", \"linecolor\": \"white\", \"minorgridcolor\": \"white\", \"startlinecolor\": \"#2a3f5f\"}, \"type\": \"carpet\"}], \"choropleth\": [{\"colorbar\": {\"outlinewidth\": 0, \"ticks\": \"\"}, \"type\": \"choropleth\"}], \"contour\": [{\"colorbar\": {\"outlinewidth\": 0, \"ticks\": \"\"}, \"colorscale\": [[0.0, \"#0d0887\"], [0.1111111111111111, \"#46039f\"], [0.2222222222222222, \"#7201a8\"], [0.3333333333333333, \"#9c179e\"], [0.4444444444444444, \"#bd3786\"], [0.5555555555555556, \"#d8576b\"], [0.6666666666666666, \"#ed7953\"], [0.7777777777777778, \"#fb9f3a\"], [0.8888888888888888, \"#fdca26\"], [1.0, \"#f0f921\"]], \"type\": \"contour\"}], \"contourcarpet\": [{\"colorbar\": {\"outlinewidth\": 0, \"ticks\": \"\"}, \"type\": \"contourcarpet\"}], \"heatmap\": [{\"colorbar\": {\"outlinewidth\": 0, \"ticks\": \"\"}, \"colorscale\": [[0.0, \"#0d0887\"], [0.1111111111111111, \"#46039f\"], [0.2222222222222222, \"#7201a8\"], [0.3333333333333333, \"#9c179e\"], [0.4444444444444444, \"#bd3786\"], [0.5555555555555556, \"#d8576b\"], [0.6666666666666666, \"#ed7953\"], [0.7777777777777778, \"#fb9f3a\"], [0.8888888888888888, \"#fdca26\"], [1.0, \"#f0f921\"]], \"type\": \"heatmap\"}], \"heatmapgl\": [{\"colorbar\": {\"outlinewidth\": 0, \"ticks\": \"\"}, \"colorscale\": [[0.0, \"#0d0887\"], [0.1111111111111111, \"#46039f\"], [0.2222222222222222, \"#7201a8\"], [0.3333333333333333, \"#9c179e\"], [0.4444444444444444, \"#bd3786\"], [0.5555555555555556, \"#d8576b\"], [0.6666666666666666, \"#ed7953\"], [0.7777777777777778, \"#fb9f3a\"], [0.8888888888888888, \"#fdca26\"], [1.0, \"#f0f921\"]], \"type\": \"heatmapgl\"}], \"histogram\": [{\"marker\": {\"colorbar\": {\"outlinewidth\": 0, \"ticks\": \"\"}}, \"type\": \"histogram\"}], \"histogram2d\": [{\"colorbar\": {\"outlinewidth\": 0, \"ticks\": \"\"}, \"colorscale\": [[0.0, \"#0d0887\"], [0.1111111111111111, \"#46039f\"], [0.2222222222222222, \"#7201a8\"], [0.3333333333333333, \"#9c179e\"], [0.4444444444444444, \"#bd3786\"], [0.5555555555555556, \"#d8576b\"], [0.6666666666666666, \"#ed7953\"], [0.7777777777777778, \"#fb9f3a\"], [0.8888888888888888, \"#fdca26\"], [1.0, \"#f0f921\"]], \"type\": \"histogram2d\"}], \"histogram2dcontour\": [{\"colorbar\": {\"outlinewidth\": 0, \"ticks\": \"\"}, \"colorscale\": [[0.0, \"#0d0887\"], [0.1111111111111111, \"#46039f\"], [0.2222222222222222, \"#7201a8\"], [0.3333333333333333, \"#9c179e\"], [0.4444444444444444, \"#bd3786\"], [0.5555555555555556, \"#d8576b\"], [0.6666666666666666, \"#ed7953\"], [0.7777777777777778, \"#fb9f3a\"], [0.8888888888888888, \"#fdca26\"], [1.0, \"#f0f921\"]], \"type\": \"histogram2dcontour\"}], \"mesh3d\": [{\"colorbar\": {\"outlinewidth\": 0, \"ticks\": \"\"}, \"type\": \"mesh3d\"}], \"parcoords\": [{\"line\": {\"colorbar\": {\"outlinewidth\": 0, \"ticks\": \"\"}}, \"type\": \"parcoords\"}], \"pie\": [{\"automargin\": true, \"type\": \"pie\"}], \"scatter\": [{\"marker\": {\"colorbar\": {\"outlinewidth\": 0, \"ticks\": \"\"}}, \"type\": \"scatter\"}], \"scatter3d\": [{\"line\": {\"colorbar\": {\"outlinewidth\": 0, \"ticks\": \"\"}}, \"marker\": {\"colorbar\": {\"outlinewidth\": 0, \"ticks\": \"\"}}, \"type\": \"scatter3d\"}], \"scattercarpet\": [{\"marker\": {\"colorbar\": {\"outlinewidth\": 0, \"ticks\": \"\"}}, \"type\": \"scattercarpet\"}], \"scattergeo\": [{\"marker\": {\"colorbar\": {\"outlinewidth\": 0, \"ticks\": \"\"}}, \"type\": \"scattergeo\"}], \"scattergl\": [{\"marker\": {\"colorbar\": {\"outlinewidth\": 0, \"ticks\": \"\"}}, \"type\": \"scattergl\"}], \"scattermapbox\": [{\"marker\": {\"colorbar\": {\"outlinewidth\": 0, \"ticks\": \"\"}}, \"type\": \"scattermapbox\"}], \"scatterpolar\": [{\"marker\": {\"colorbar\": {\"outlinewidth\": 0, \"ticks\": \"\"}}, \"type\": \"scatterpolar\"}], \"scatterpolargl\": [{\"marker\": {\"colorbar\": {\"outlinewidth\": 0, \"ticks\": \"\"}}, \"type\": \"scatterpolargl\"}], \"scatterternary\": [{\"marker\": {\"colorbar\": {\"outlinewidth\": 0, \"ticks\": \"\"}}, \"type\": \"scatterternary\"}], \"surface\": [{\"colorbar\": {\"outlinewidth\": 0, \"ticks\": \"\"}, \"colorscale\": [[0.0, \"#0d0887\"], [0.1111111111111111, \"#46039f\"], [0.2222222222222222, \"#7201a8\"], [0.3333333333333333, \"#9c179e\"], [0.4444444444444444, \"#bd3786\"], [0.5555555555555556, \"#d8576b\"], [0.6666666666666666, \"#ed7953\"], [0.7777777777777778, \"#fb9f3a\"], [0.8888888888888888, \"#fdca26\"], [1.0, \"#f0f921\"]], \"type\": \"surface\"}], \"table\": [{\"cells\": {\"fill\": {\"color\": \"#EBF0F8\"}, \"line\": {\"color\": \"white\"}}, \"header\": {\"fill\": {\"color\": \"#C8D4E3\"}, \"line\": {\"color\": \"white\"}}, \"type\": \"table\"}]}, \"layout\": {\"annotationdefaults\": {\"arrowcolor\": \"#2a3f5f\", \"arrowhead\": 0, \"arrowwidth\": 1}, \"coloraxis\": {\"colorbar\": {\"outlinewidth\": 0, \"ticks\": \"\"}}, \"colorscale\": {\"diverging\": [[0, \"#8e0152\"], [0.1, \"#c51b7d\"], [0.2, \"#de77ae\"], [0.3, \"#f1b6da\"], [0.4, \"#fde0ef\"], [0.5, \"#f7f7f7\"], [0.6, \"#e6f5d0\"], [0.7, \"#b8e186\"], [0.8, \"#7fbc41\"], [0.9, \"#4d9221\"], [1, \"#276419\"]], \"sequential\": [[0.0, \"#0d0887\"], [0.1111111111111111, \"#46039f\"], [0.2222222222222222, \"#7201a8\"], [0.3333333333333333, \"#9c179e\"], [0.4444444444444444, \"#bd3786\"], [0.5555555555555556, \"#d8576b\"], [0.6666666666666666, \"#ed7953\"], [0.7777777777777778, \"#fb9f3a\"], [0.8888888888888888, \"#fdca26\"], [1.0, \"#f0f921\"]], \"sequentialminus\": [[0.0, \"#0d0887\"], [0.1111111111111111, \"#46039f\"], [0.2222222222222222, \"#7201a8\"], [0.3333333333333333, \"#9c179e\"], [0.4444444444444444, \"#bd3786\"], [0.5555555555555556, \"#d8576b\"], [0.6666666666666666, \"#ed7953\"], [0.7777777777777778, \"#fb9f3a\"], [0.8888888888888888, \"#fdca26\"], [1.0, \"#f0f921\"]]}, \"colorway\": [\"#636efa\", \"#EF553B\", \"#00cc96\", \"#ab63fa\", \"#FFA15A\", \"#19d3f3\", \"#FF6692\", \"#B6E880\", \"#FF97FF\", \"#FECB52\"], \"font\": {\"color\": \"#2a3f5f\"}, \"geo\": {\"bgcolor\": \"white\", \"lakecolor\": \"white\", \"landcolor\": \"#E5ECF6\", \"showlakes\": true, \"showland\": true, \"subunitcolor\": \"white\"}, \"hoverlabel\": {\"align\": \"left\"}, \"hovermode\": \"closest\", \"mapbox\": {\"style\": \"light\"}, \"paper_bgcolor\": \"white\", \"plot_bgcolor\": \"#E5ECF6\", \"polar\": {\"angularaxis\": {\"gridcolor\": \"white\", \"linecolor\": \"white\", \"ticks\": \"\"}, \"bgcolor\": \"#E5ECF6\", \"radialaxis\": {\"gridcolor\": \"white\", \"linecolor\": \"white\", \"ticks\": \"\"}}, \"scene\": {\"xaxis\": {\"backgroundcolor\": \"#E5ECF6\", \"gridcolor\": \"white\", \"gridwidth\": 2, \"linecolor\": \"white\", \"showbackground\": true, \"ticks\": \"\", \"zerolinecolor\": \"white\"}, \"yaxis\": {\"backgroundcolor\": \"#E5ECF6\", \"gridcolor\": \"white\", \"gridwidth\": 2, \"linecolor\": \"white\", \"showbackground\": true, \"ticks\": \"\", \"zerolinecolor\": \"white\"}, \"zaxis\": {\"backgroundcolor\": \"#E5ECF6\", \"gridcolor\": \"white\", \"gridwidth\": 2, \"linecolor\": \"white\", \"showbackground\": true, \"ticks\": \"\", \"zerolinecolor\": \"white\"}}, \"shapedefaults\": {\"line\": {\"color\": \"#2a3f5f\"}}, \"ternary\": {\"aaxis\": {\"gridcolor\": \"white\", \"linecolor\": \"white\", \"ticks\": \"\"}, \"baxis\": {\"gridcolor\": \"white\", \"linecolor\": \"white\", \"ticks\": \"\"}, \"bgcolor\": \"#E5ECF6\", \"caxis\": {\"gridcolor\": \"white\", \"linecolor\": \"white\", \"ticks\": \"\"}}, \"title\": {\"x\": 0.05}, \"xaxis\": {\"automargin\": true, \"gridcolor\": \"white\", \"linecolor\": \"white\", \"ticks\": \"\", \"title\": {\"standoff\": 15}, \"zerolinecolor\": \"white\", \"zerolinewidth\": 2}, \"yaxis\": {\"automargin\": true, \"gridcolor\": \"white\", \"linecolor\": \"white\", \"ticks\": \"\", \"title\": {\"standoff\": 15}, \"zerolinecolor\": \"white\", \"zerolinewidth\": 2}}}, \"title\": {\"font\": {\"size\": 20}, \"text\": \"Sample_ID: TailoredTAG18-1_O3on_Blank50ACN50IPA_v4_020723\"}, \"uniformtext\": {\"minsize\": 18, \"mode\": \"hide\"}, \"xaxis\": {\"anchor\": \"y\", \"domain\": [0.0, 1.0], \"title\": {\"font\": {\"size\": 16}, \"text\": \"Lipid\"}}, \"yaxis\": {\"anchor\": \"x\", \"domain\": [0.0, 1.0], \"tickfont\": {\"size\": 16}, \"title\": {\"font\": {\"size\": 16}, \"text\": \"Ratios\"}}},                        {\"responsive\": true}                    ).then(function(){\n",
       "                            \n",
       "var gd = document.getElementById('27786ee0-5ac9-443c-a58b-dbd855536aaf');\n",
       "var x = new MutationObserver(function (mutations, observer) {{\n",
       "        var display = window.getComputedStyle(gd).display;\n",
       "        if (!display || display === 'none') {{\n",
       "            console.log([gd, 'removed!']);\n",
       "            Plotly.purge(gd);\n",
       "            observer.disconnect();\n",
       "        }}\n",
       "}});\n",
       "\n",
       "// Listen for the removal of the full notebook cells\n",
       "var notebookContainer = gd.closest('#notebook-container');\n",
       "if (notebookContainer) {{\n",
       "    x.observe(notebookContainer, {childList: true});\n",
       "}}\n",
       "\n",
       "// Listen for the clearing of the current output cell\n",
       "var outputEl = gd.closest('.output');\n",
       "if (outputEl) {{\n",
       "    x.observe(outputEl, {childList: true});\n",
       "}}\n",
       "\n",
       "                        })                };                });            </script>        </div>"
      ]
     },
     "metadata": {},
     "output_type": "display_data"
    },
    {
     "data": {
      "application/vnd.plotly.v1+json": {
       "config": {
        "plotlyServerURL": "https://plot.ly"
       },
       "data": [
        {
         "alignmentgroup": "True",
         "hovertemplate": "Lipid=%{x}<br>Ratios=%{text}<extra></extra>",
         "legendgroup": "",
         "marker": {
          "color": [
           "blue",
           "blue",
           "blue",
           "blue",
           "blue",
           "blue",
           "purple",
           "purple",
           "purple",
           "green",
           "green",
           "green",
           "green",
           "green",
           "green",
           "green",
           "green",
           "green",
           "blue",
           "blue",
           "blue",
           "blue",
           "blue",
           "blue",
           "blue",
           "blue",
           "green",
           "green",
           "green",
           "green",
           "green",
           "green"
          ],
          "line": {
           "width": 0
          }
         },
         "name": "",
         "offsetgroup": "",
         "orientation": "v",
         "showlegend": false,
         "text": [
          0.6723749436683191,
          null,
          null,
          1.3950746659680378,
          null,
          null,
          0.8205312275664034,
          null,
          null,
          1.4189342403628118,
          null,
          null,
          3.2526629740093735,
          null,
          null,
          8.314289136423524,
          null,
          null,
          0.057090584303330645,
          null,
          null,
          0.2770415123757552,
          null,
          null,
          null,
          null,
          6.976511028358637,
          null,
          null,
          1.2549909255898366,
          null,
          null
         ],
         "textposition": "auto",
         "texttemplate": "%{text:.2f}",
         "type": "bar",
         "x": [
          "TG(52:2)]_FA18:1",
          "TG(52:2)]_FA18:1",
          "TG(52:2)]_FA18:1",
          "TG(52:3)]_FA18:1",
          "TG(52:3)]_FA18:1",
          "TG(52:3)]_FA18:1",
          "TG(53:0)]_FA18:1",
          "TG(53:0)]_FA18:1",
          "TG(53:0)]_FA18:1",
          "TG(54:2)]_FA18:1",
          "TG(54:2)]_FA18:1",
          "TG(54:2)]_FA18:1",
          "TG(54:3)]_FA18:1",
          "TG(54:3)]_FA18:1",
          "TG(54:3)]_FA18:1",
          "TG(54:4)]_FA18:1",
          "TG(54:4)]_FA18:1",
          "TG(54:4)]_FA18:1",
          "[TG(52:4)]_FA18:1",
          "[TG(52:4)]_FA18:1",
          "[TG(52:4)]_FA18:1",
          "[TG(52:5)]_FA18:1",
          "[TG(52:5)]_FA18:1",
          "[TG(52:5)]_FA18:1",
          "[TG(52:6)]_FA18:1",
          "[TG(52:6)]_FA18:1",
          "[TG(54:5)]_FA18:1",
          "[TG(54:5)]_FA18:1",
          "[TG(54:5)]_FA18:1",
          "[TG(54:6)]_FA18:1",
          "[TG(54:6)]_FA18:1",
          "[TG(54:6)]_FA18:1"
         ],
         "xaxis": "x",
         "y": [
          0.6723749436683191,
          null,
          null,
          1.3950746659680378,
          null,
          null,
          0.8205312275664034,
          null,
          null,
          1.4189342403628118,
          null,
          null,
          3.2526629740093735,
          null,
          null,
          8.314289136423524,
          null,
          null,
          0.057090584303330645,
          null,
          null,
          0.2770415123757552,
          null,
          null,
          null,
          null,
          6.976511028358637,
          null,
          null,
          1.2549909255898366,
          null,
          null
         ],
         "yaxis": "y"
        }
       ],
       "layout": {
        "barmode": "relative",
        "legend": {
         "itemsizing": "constant",
         "title": {
          "text": "Lipid Patterns"
         },
         "tracegroupgap": 50
        },
        "template": {
         "data": {
          "bar": [
           {
            "error_x": {
             "color": "#2a3f5f"
            },
            "error_y": {
             "color": "#2a3f5f"
            },
            "marker": {
             "line": {
              "color": "#E5ECF6",
              "width": 0.5
             }
            },
            "type": "bar"
           }
          ],
          "barpolar": [
           {
            "marker": {
             "line": {
              "color": "#E5ECF6",
              "width": 0.5
             }
            },
            "type": "barpolar"
           }
          ],
          "carpet": [
           {
            "aaxis": {
             "endlinecolor": "#2a3f5f",
             "gridcolor": "white",
             "linecolor": "white",
             "minorgridcolor": "white",
             "startlinecolor": "#2a3f5f"
            },
            "baxis": {
             "endlinecolor": "#2a3f5f",
             "gridcolor": "white",
             "linecolor": "white",
             "minorgridcolor": "white",
             "startlinecolor": "#2a3f5f"
            },
            "type": "carpet"
           }
          ],
          "choropleth": [
           {
            "colorbar": {
             "outlinewidth": 0,
             "ticks": ""
            },
            "type": "choropleth"
           }
          ],
          "contour": [
           {
            "colorbar": {
             "outlinewidth": 0,
             "ticks": ""
            },
            "colorscale": [
             [
              0,
              "#0d0887"
             ],
             [
              0.1111111111111111,
              "#46039f"
             ],
             [
              0.2222222222222222,
              "#7201a8"
             ],
             [
              0.3333333333333333,
              "#9c179e"
             ],
             [
              0.4444444444444444,
              "#bd3786"
             ],
             [
              0.5555555555555556,
              "#d8576b"
             ],
             [
              0.6666666666666666,
              "#ed7953"
             ],
             [
              0.7777777777777778,
              "#fb9f3a"
             ],
             [
              0.8888888888888888,
              "#fdca26"
             ],
             [
              1,
              "#f0f921"
             ]
            ],
            "type": "contour"
           }
          ],
          "contourcarpet": [
           {
            "colorbar": {
             "outlinewidth": 0,
             "ticks": ""
            },
            "type": "contourcarpet"
           }
          ],
          "heatmap": [
           {
            "colorbar": {
             "outlinewidth": 0,
             "ticks": ""
            },
            "colorscale": [
             [
              0,
              "#0d0887"
             ],
             [
              0.1111111111111111,
              "#46039f"
             ],
             [
              0.2222222222222222,
              "#7201a8"
             ],
             [
              0.3333333333333333,
              "#9c179e"
             ],
             [
              0.4444444444444444,
              "#bd3786"
             ],
             [
              0.5555555555555556,
              "#d8576b"
             ],
             [
              0.6666666666666666,
              "#ed7953"
             ],
             [
              0.7777777777777778,
              "#fb9f3a"
             ],
             [
              0.8888888888888888,
              "#fdca26"
             ],
             [
              1,
              "#f0f921"
             ]
            ],
            "type": "heatmap"
           }
          ],
          "heatmapgl": [
           {
            "colorbar": {
             "outlinewidth": 0,
             "ticks": ""
            },
            "colorscale": [
             [
              0,
              "#0d0887"
             ],
             [
              0.1111111111111111,
              "#46039f"
             ],
             [
              0.2222222222222222,
              "#7201a8"
             ],
             [
              0.3333333333333333,
              "#9c179e"
             ],
             [
              0.4444444444444444,
              "#bd3786"
             ],
             [
              0.5555555555555556,
              "#d8576b"
             ],
             [
              0.6666666666666666,
              "#ed7953"
             ],
             [
              0.7777777777777778,
              "#fb9f3a"
             ],
             [
              0.8888888888888888,
              "#fdca26"
             ],
             [
              1,
              "#f0f921"
             ]
            ],
            "type": "heatmapgl"
           }
          ],
          "histogram": [
           {
            "marker": {
             "colorbar": {
              "outlinewidth": 0,
              "ticks": ""
             }
            },
            "type": "histogram"
           }
          ],
          "histogram2d": [
           {
            "colorbar": {
             "outlinewidth": 0,
             "ticks": ""
            },
            "colorscale": [
             [
              0,
              "#0d0887"
             ],
             [
              0.1111111111111111,
              "#46039f"
             ],
             [
              0.2222222222222222,
              "#7201a8"
             ],
             [
              0.3333333333333333,
              "#9c179e"
             ],
             [
              0.4444444444444444,
              "#bd3786"
             ],
             [
              0.5555555555555556,
              "#d8576b"
             ],
             [
              0.6666666666666666,
              "#ed7953"
             ],
             [
              0.7777777777777778,
              "#fb9f3a"
             ],
             [
              0.8888888888888888,
              "#fdca26"
             ],
             [
              1,
              "#f0f921"
             ]
            ],
            "type": "histogram2d"
           }
          ],
          "histogram2dcontour": [
           {
            "colorbar": {
             "outlinewidth": 0,
             "ticks": ""
            },
            "colorscale": [
             [
              0,
              "#0d0887"
             ],
             [
              0.1111111111111111,
              "#46039f"
             ],
             [
              0.2222222222222222,
              "#7201a8"
             ],
             [
              0.3333333333333333,
              "#9c179e"
             ],
             [
              0.4444444444444444,
              "#bd3786"
             ],
             [
              0.5555555555555556,
              "#d8576b"
             ],
             [
              0.6666666666666666,
              "#ed7953"
             ],
             [
              0.7777777777777778,
              "#fb9f3a"
             ],
             [
              0.8888888888888888,
              "#fdca26"
             ],
             [
              1,
              "#f0f921"
             ]
            ],
            "type": "histogram2dcontour"
           }
          ],
          "mesh3d": [
           {
            "colorbar": {
             "outlinewidth": 0,
             "ticks": ""
            },
            "type": "mesh3d"
           }
          ],
          "parcoords": [
           {
            "line": {
             "colorbar": {
              "outlinewidth": 0,
              "ticks": ""
             }
            },
            "type": "parcoords"
           }
          ],
          "pie": [
           {
            "automargin": true,
            "type": "pie"
           }
          ],
          "scatter": [
           {
            "marker": {
             "colorbar": {
              "outlinewidth": 0,
              "ticks": ""
             }
            },
            "type": "scatter"
           }
          ],
          "scatter3d": [
           {
            "line": {
             "colorbar": {
              "outlinewidth": 0,
              "ticks": ""
             }
            },
            "marker": {
             "colorbar": {
              "outlinewidth": 0,
              "ticks": ""
             }
            },
            "type": "scatter3d"
           }
          ],
          "scattercarpet": [
           {
            "marker": {
             "colorbar": {
              "outlinewidth": 0,
              "ticks": ""
             }
            },
            "type": "scattercarpet"
           }
          ],
          "scattergeo": [
           {
            "marker": {
             "colorbar": {
              "outlinewidth": 0,
              "ticks": ""
             }
            },
            "type": "scattergeo"
           }
          ],
          "scattergl": [
           {
            "marker": {
             "colorbar": {
              "outlinewidth": 0,
              "ticks": ""
             }
            },
            "type": "scattergl"
           }
          ],
          "scattermapbox": [
           {
            "marker": {
             "colorbar": {
              "outlinewidth": 0,
              "ticks": ""
             }
            },
            "type": "scattermapbox"
           }
          ],
          "scatterpolar": [
           {
            "marker": {
             "colorbar": {
              "outlinewidth": 0,
              "ticks": ""
             }
            },
            "type": "scatterpolar"
           }
          ],
          "scatterpolargl": [
           {
            "marker": {
             "colorbar": {
              "outlinewidth": 0,
              "ticks": ""
             }
            },
            "type": "scatterpolargl"
           }
          ],
          "scatterternary": [
           {
            "marker": {
             "colorbar": {
              "outlinewidth": 0,
              "ticks": ""
             }
            },
            "type": "scatterternary"
           }
          ],
          "surface": [
           {
            "colorbar": {
             "outlinewidth": 0,
             "ticks": ""
            },
            "colorscale": [
             [
              0,
              "#0d0887"
             ],
             [
              0.1111111111111111,
              "#46039f"
             ],
             [
              0.2222222222222222,
              "#7201a8"
             ],
             [
              0.3333333333333333,
              "#9c179e"
             ],
             [
              0.4444444444444444,
              "#bd3786"
             ],
             [
              0.5555555555555556,
              "#d8576b"
             ],
             [
              0.6666666666666666,
              "#ed7953"
             ],
             [
              0.7777777777777778,
              "#fb9f3a"
             ],
             [
              0.8888888888888888,
              "#fdca26"
             ],
             [
              1,
              "#f0f921"
             ]
            ],
            "type": "surface"
           }
          ],
          "table": [
           {
            "cells": {
             "fill": {
              "color": "#EBF0F8"
             },
             "line": {
              "color": "white"
             }
            },
            "header": {
             "fill": {
              "color": "#C8D4E3"
             },
             "line": {
              "color": "white"
             }
            },
            "type": "table"
           }
          ]
         },
         "layout": {
          "annotationdefaults": {
           "arrowcolor": "#2a3f5f",
           "arrowhead": 0,
           "arrowwidth": 1
          },
          "coloraxis": {
           "colorbar": {
            "outlinewidth": 0,
            "ticks": ""
           }
          },
          "colorscale": {
           "diverging": [
            [
             0,
             "#8e0152"
            ],
            [
             0.1,
             "#c51b7d"
            ],
            [
             0.2,
             "#de77ae"
            ],
            [
             0.3,
             "#f1b6da"
            ],
            [
             0.4,
             "#fde0ef"
            ],
            [
             0.5,
             "#f7f7f7"
            ],
            [
             0.6,
             "#e6f5d0"
            ],
            [
             0.7,
             "#b8e186"
            ],
            [
             0.8,
             "#7fbc41"
            ],
            [
             0.9,
             "#4d9221"
            ],
            [
             1,
             "#276419"
            ]
           ],
           "sequential": [
            [
             0,
             "#0d0887"
            ],
            [
             0.1111111111111111,
             "#46039f"
            ],
            [
             0.2222222222222222,
             "#7201a8"
            ],
            [
             0.3333333333333333,
             "#9c179e"
            ],
            [
             0.4444444444444444,
             "#bd3786"
            ],
            [
             0.5555555555555556,
             "#d8576b"
            ],
            [
             0.6666666666666666,
             "#ed7953"
            ],
            [
             0.7777777777777778,
             "#fb9f3a"
            ],
            [
             0.8888888888888888,
             "#fdca26"
            ],
            [
             1,
             "#f0f921"
            ]
           ],
           "sequentialminus": [
            [
             0,
             "#0d0887"
            ],
            [
             0.1111111111111111,
             "#46039f"
            ],
            [
             0.2222222222222222,
             "#7201a8"
            ],
            [
             0.3333333333333333,
             "#9c179e"
            ],
            [
             0.4444444444444444,
             "#bd3786"
            ],
            [
             0.5555555555555556,
             "#d8576b"
            ],
            [
             0.6666666666666666,
             "#ed7953"
            ],
            [
             0.7777777777777778,
             "#fb9f3a"
            ],
            [
             0.8888888888888888,
             "#fdca26"
            ],
            [
             1,
             "#f0f921"
            ]
           ]
          },
          "colorway": [
           "#636efa",
           "#EF553B",
           "#00cc96",
           "#ab63fa",
           "#FFA15A",
           "#19d3f3",
           "#FF6692",
           "#B6E880",
           "#FF97FF",
           "#FECB52"
          ],
          "font": {
           "color": "#2a3f5f"
          },
          "geo": {
           "bgcolor": "white",
           "lakecolor": "white",
           "landcolor": "#E5ECF6",
           "showlakes": true,
           "showland": true,
           "subunitcolor": "white"
          },
          "hoverlabel": {
           "align": "left"
          },
          "hovermode": "closest",
          "mapbox": {
           "style": "light"
          },
          "paper_bgcolor": "white",
          "plot_bgcolor": "#E5ECF6",
          "polar": {
           "angularaxis": {
            "gridcolor": "white",
            "linecolor": "white",
            "ticks": ""
           },
           "bgcolor": "#E5ECF6",
           "radialaxis": {
            "gridcolor": "white",
            "linecolor": "white",
            "ticks": ""
           }
          },
          "scene": {
           "xaxis": {
            "backgroundcolor": "#E5ECF6",
            "gridcolor": "white",
            "gridwidth": 2,
            "linecolor": "white",
            "showbackground": true,
            "ticks": "",
            "zerolinecolor": "white"
           },
           "yaxis": {
            "backgroundcolor": "#E5ECF6",
            "gridcolor": "white",
            "gridwidth": 2,
            "linecolor": "white",
            "showbackground": true,
            "ticks": "",
            "zerolinecolor": "white"
           },
           "zaxis": {
            "backgroundcolor": "#E5ECF6",
            "gridcolor": "white",
            "gridwidth": 2,
            "linecolor": "white",
            "showbackground": true,
            "ticks": "",
            "zerolinecolor": "white"
           }
          },
          "shapedefaults": {
           "line": {
            "color": "#2a3f5f"
           }
          },
          "ternary": {
           "aaxis": {
            "gridcolor": "white",
            "linecolor": "white",
            "ticks": ""
           },
           "baxis": {
            "gridcolor": "white",
            "linecolor": "white",
            "ticks": ""
           },
           "bgcolor": "#E5ECF6",
           "caxis": {
            "gridcolor": "white",
            "linecolor": "white",
            "ticks": ""
           }
          },
          "title": {
           "x": 0.05
          },
          "xaxis": {
           "automargin": true,
           "gridcolor": "white",
           "linecolor": "white",
           "ticks": "",
           "title": {
            "standoff": 15
           },
           "zerolinecolor": "white",
           "zerolinewidth": 2
          },
          "yaxis": {
           "automargin": true,
           "gridcolor": "white",
           "linecolor": "white",
           "ticks": "",
           "title": {
            "standoff": 15
           },
           "zerolinecolor": "white",
           "zerolinewidth": 2
          }
         }
        },
        "title": {
         "font": {
          "size": 20
         },
         "text": "Sample_ID: TailoredTAG18-1_O3on_CrudeCanola0.0005mgmL_020723"
        },
        "uniformtext": {
         "minsize": 18,
         "mode": "hide"
        },
        "xaxis": {
         "anchor": "y",
         "domain": [
          0,
          1
         ],
         "title": {
          "font": {
           "size": 16
          },
          "text": "Lipid"
         }
        },
        "yaxis": {
         "anchor": "x",
         "domain": [
          0,
          1
         ],
         "tickfont": {
          "size": 16
         },
         "title": {
          "font": {
           "size": 16
          },
          "text": "Ratios"
         }
        }
       }
      },
      "text/html": [
       "<div>                            <div id=\"81dfa621-fb09-402e-8533-1846dd889911\" class=\"plotly-graph-div\" style=\"height:525px; width:100%;\"></div>            <script type=\"text/javascript\">                require([\"plotly\"], function(Plotly) {                    window.PLOTLYENV=window.PLOTLYENV || {};                                    if (document.getElementById(\"81dfa621-fb09-402e-8533-1846dd889911\")) {                    Plotly.newPlot(                        \"81dfa621-fb09-402e-8533-1846dd889911\",                        [{\"alignmentgroup\": \"True\", \"hovertemplate\": \"Lipid=%{x}<br>Ratios=%{text}<extra></extra>\", \"legendgroup\": \"\", \"marker\": {\"color\": [\"blue\", \"blue\", \"blue\", \"blue\", \"blue\", \"blue\", \"purple\", \"purple\", \"purple\", \"green\", \"green\", \"green\", \"green\", \"green\", \"green\", \"green\", \"green\", \"green\", \"blue\", \"blue\", \"blue\", \"blue\", \"blue\", \"blue\", \"blue\", \"blue\", \"green\", \"green\", \"green\", \"green\", \"green\", \"green\"], \"line\": {\"width\": 0}}, \"name\": \"\", \"offsetgroup\": \"\", \"orientation\": \"v\", \"showlegend\": false, \"text\": [0.6723749436683191, null, null, 1.3950746659680378, null, null, 0.8205312275664034, null, null, 1.4189342403628118, null, null, 3.2526629740093735, null, null, 8.314289136423524, null, null, 0.057090584303330645, null, null, 0.2770415123757552, null, null, null, null, 6.976511028358637, null, null, 1.2549909255898366, null, null], \"textposition\": \"auto\", \"texttemplate\": \"%{text:.2f}\", \"type\": \"bar\", \"x\": [\"TG(52:2)]_FA18:1\", \"TG(52:2)]_FA18:1\", \"TG(52:2)]_FA18:1\", \"TG(52:3)]_FA18:1\", \"TG(52:3)]_FA18:1\", \"TG(52:3)]_FA18:1\", \"TG(53:0)]_FA18:1\", \"TG(53:0)]_FA18:1\", \"TG(53:0)]_FA18:1\", \"TG(54:2)]_FA18:1\", \"TG(54:2)]_FA18:1\", \"TG(54:2)]_FA18:1\", \"TG(54:3)]_FA18:1\", \"TG(54:3)]_FA18:1\", \"TG(54:3)]_FA18:1\", \"TG(54:4)]_FA18:1\", \"TG(54:4)]_FA18:1\", \"TG(54:4)]_FA18:1\", \"[TG(52:4)]_FA18:1\", \"[TG(52:4)]_FA18:1\", \"[TG(52:4)]_FA18:1\", \"[TG(52:5)]_FA18:1\", \"[TG(52:5)]_FA18:1\", \"[TG(52:5)]_FA18:1\", \"[TG(52:6)]_FA18:1\", \"[TG(52:6)]_FA18:1\", \"[TG(54:5)]_FA18:1\", \"[TG(54:5)]_FA18:1\", \"[TG(54:5)]_FA18:1\", \"[TG(54:6)]_FA18:1\", \"[TG(54:6)]_FA18:1\", \"[TG(54:6)]_FA18:1\"], \"xaxis\": \"x\", \"y\": [0.6723749436683191, null, null, 1.3950746659680378, null, null, 0.8205312275664034, null, null, 1.4189342403628118, null, null, 3.2526629740093735, null, null, 8.314289136423524, null, null, 0.057090584303330645, null, null, 0.2770415123757552, null, null, null, null, 6.976511028358637, null, null, 1.2549909255898366, null, null], \"yaxis\": \"y\"}],                        {\"barmode\": \"relative\", \"legend\": {\"itemsizing\": \"constant\", \"title\": {\"text\": \"Lipid Patterns\"}, \"tracegroupgap\": 50}, \"template\": {\"data\": {\"bar\": [{\"error_x\": {\"color\": \"#2a3f5f\"}, \"error_y\": {\"color\": \"#2a3f5f\"}, \"marker\": {\"line\": {\"color\": \"#E5ECF6\", \"width\": 0.5}}, \"type\": \"bar\"}], \"barpolar\": [{\"marker\": {\"line\": {\"color\": \"#E5ECF6\", \"width\": 0.5}}, \"type\": \"barpolar\"}], \"carpet\": [{\"aaxis\": {\"endlinecolor\": \"#2a3f5f\", \"gridcolor\": \"white\", \"linecolor\": \"white\", \"minorgridcolor\": \"white\", \"startlinecolor\": \"#2a3f5f\"}, \"baxis\": {\"endlinecolor\": \"#2a3f5f\", \"gridcolor\": \"white\", \"linecolor\": \"white\", \"minorgridcolor\": \"white\", \"startlinecolor\": \"#2a3f5f\"}, \"type\": \"carpet\"}], \"choropleth\": [{\"colorbar\": {\"outlinewidth\": 0, \"ticks\": \"\"}, \"type\": \"choropleth\"}], \"contour\": [{\"colorbar\": {\"outlinewidth\": 0, \"ticks\": \"\"}, \"colorscale\": [[0.0, \"#0d0887\"], [0.1111111111111111, \"#46039f\"], [0.2222222222222222, \"#7201a8\"], [0.3333333333333333, \"#9c179e\"], [0.4444444444444444, \"#bd3786\"], [0.5555555555555556, \"#d8576b\"], [0.6666666666666666, \"#ed7953\"], [0.7777777777777778, \"#fb9f3a\"], [0.8888888888888888, \"#fdca26\"], [1.0, \"#f0f921\"]], \"type\": \"contour\"}], \"contourcarpet\": [{\"colorbar\": {\"outlinewidth\": 0, \"ticks\": \"\"}, \"type\": \"contourcarpet\"}], \"heatmap\": [{\"colorbar\": {\"outlinewidth\": 0, \"ticks\": \"\"}, \"colorscale\": [[0.0, \"#0d0887\"], [0.1111111111111111, \"#46039f\"], [0.2222222222222222, \"#7201a8\"], [0.3333333333333333, \"#9c179e\"], [0.4444444444444444, \"#bd3786\"], [0.5555555555555556, \"#d8576b\"], [0.6666666666666666, \"#ed7953\"], [0.7777777777777778, \"#fb9f3a\"], [0.8888888888888888, \"#fdca26\"], [1.0, \"#f0f921\"]], \"type\": \"heatmap\"}], \"heatmapgl\": [{\"colorbar\": {\"outlinewidth\": 0, \"ticks\": \"\"}, \"colorscale\": [[0.0, \"#0d0887\"], [0.1111111111111111, \"#46039f\"], [0.2222222222222222, \"#7201a8\"], [0.3333333333333333, \"#9c179e\"], [0.4444444444444444, \"#bd3786\"], [0.5555555555555556, \"#d8576b\"], [0.6666666666666666, \"#ed7953\"], [0.7777777777777778, \"#fb9f3a\"], [0.8888888888888888, \"#fdca26\"], [1.0, \"#f0f921\"]], \"type\": \"heatmapgl\"}], \"histogram\": [{\"marker\": {\"colorbar\": {\"outlinewidth\": 0, \"ticks\": \"\"}}, \"type\": \"histogram\"}], \"histogram2d\": [{\"colorbar\": {\"outlinewidth\": 0, \"ticks\": \"\"}, \"colorscale\": [[0.0, \"#0d0887\"], [0.1111111111111111, \"#46039f\"], [0.2222222222222222, \"#7201a8\"], [0.3333333333333333, \"#9c179e\"], [0.4444444444444444, \"#bd3786\"], [0.5555555555555556, \"#d8576b\"], [0.6666666666666666, \"#ed7953\"], [0.7777777777777778, \"#fb9f3a\"], [0.8888888888888888, \"#fdca26\"], [1.0, \"#f0f921\"]], \"type\": \"histogram2d\"}], \"histogram2dcontour\": [{\"colorbar\": {\"outlinewidth\": 0, \"ticks\": \"\"}, \"colorscale\": [[0.0, \"#0d0887\"], [0.1111111111111111, \"#46039f\"], [0.2222222222222222, \"#7201a8\"], [0.3333333333333333, \"#9c179e\"], [0.4444444444444444, \"#bd3786\"], [0.5555555555555556, \"#d8576b\"], [0.6666666666666666, \"#ed7953\"], [0.7777777777777778, \"#fb9f3a\"], [0.8888888888888888, \"#fdca26\"], [1.0, \"#f0f921\"]], \"type\": \"histogram2dcontour\"}], \"mesh3d\": [{\"colorbar\": {\"outlinewidth\": 0, \"ticks\": \"\"}, \"type\": \"mesh3d\"}], \"parcoords\": [{\"line\": {\"colorbar\": {\"outlinewidth\": 0, \"ticks\": \"\"}}, \"type\": \"parcoords\"}], \"pie\": [{\"automargin\": true, \"type\": \"pie\"}], \"scatter\": [{\"marker\": {\"colorbar\": {\"outlinewidth\": 0, \"ticks\": \"\"}}, \"type\": \"scatter\"}], \"scatter3d\": [{\"line\": {\"colorbar\": {\"outlinewidth\": 0, \"ticks\": \"\"}}, \"marker\": {\"colorbar\": {\"outlinewidth\": 0, \"ticks\": \"\"}}, \"type\": \"scatter3d\"}], \"scattercarpet\": [{\"marker\": {\"colorbar\": {\"outlinewidth\": 0, \"ticks\": \"\"}}, \"type\": \"scattercarpet\"}], \"scattergeo\": [{\"marker\": {\"colorbar\": {\"outlinewidth\": 0, \"ticks\": \"\"}}, \"type\": \"scattergeo\"}], \"scattergl\": [{\"marker\": {\"colorbar\": {\"outlinewidth\": 0, \"ticks\": \"\"}}, \"type\": \"scattergl\"}], \"scattermapbox\": [{\"marker\": {\"colorbar\": {\"outlinewidth\": 0, \"ticks\": \"\"}}, \"type\": \"scattermapbox\"}], \"scatterpolar\": [{\"marker\": {\"colorbar\": {\"outlinewidth\": 0, \"ticks\": \"\"}}, \"type\": \"scatterpolar\"}], \"scatterpolargl\": [{\"marker\": {\"colorbar\": {\"outlinewidth\": 0, \"ticks\": \"\"}}, \"type\": \"scatterpolargl\"}], \"scatterternary\": [{\"marker\": {\"colorbar\": {\"outlinewidth\": 0, \"ticks\": \"\"}}, \"type\": \"scatterternary\"}], \"surface\": [{\"colorbar\": {\"outlinewidth\": 0, \"ticks\": \"\"}, \"colorscale\": [[0.0, \"#0d0887\"], [0.1111111111111111, \"#46039f\"], [0.2222222222222222, \"#7201a8\"], [0.3333333333333333, \"#9c179e\"], [0.4444444444444444, \"#bd3786\"], [0.5555555555555556, \"#d8576b\"], [0.6666666666666666, \"#ed7953\"], [0.7777777777777778, \"#fb9f3a\"], [0.8888888888888888, \"#fdca26\"], [1.0, \"#f0f921\"]], \"type\": \"surface\"}], \"table\": [{\"cells\": {\"fill\": {\"color\": \"#EBF0F8\"}, \"line\": {\"color\": \"white\"}}, \"header\": {\"fill\": {\"color\": \"#C8D4E3\"}, \"line\": {\"color\": \"white\"}}, \"type\": \"table\"}]}, \"layout\": {\"annotationdefaults\": {\"arrowcolor\": \"#2a3f5f\", \"arrowhead\": 0, \"arrowwidth\": 1}, \"coloraxis\": {\"colorbar\": {\"outlinewidth\": 0, \"ticks\": \"\"}}, \"colorscale\": {\"diverging\": [[0, \"#8e0152\"], [0.1, \"#c51b7d\"], [0.2, \"#de77ae\"], [0.3, \"#f1b6da\"], [0.4, \"#fde0ef\"], [0.5, \"#f7f7f7\"], [0.6, \"#e6f5d0\"], [0.7, \"#b8e186\"], [0.8, \"#7fbc41\"], [0.9, \"#4d9221\"], [1, \"#276419\"]], \"sequential\": [[0.0, \"#0d0887\"], [0.1111111111111111, \"#46039f\"], [0.2222222222222222, \"#7201a8\"], [0.3333333333333333, \"#9c179e\"], [0.4444444444444444, \"#bd3786\"], [0.5555555555555556, \"#d8576b\"], [0.6666666666666666, \"#ed7953\"], [0.7777777777777778, \"#fb9f3a\"], [0.8888888888888888, \"#fdca26\"], [1.0, \"#f0f921\"]], \"sequentialminus\": [[0.0, \"#0d0887\"], [0.1111111111111111, \"#46039f\"], [0.2222222222222222, \"#7201a8\"], [0.3333333333333333, \"#9c179e\"], [0.4444444444444444, \"#bd3786\"], [0.5555555555555556, \"#d8576b\"], [0.6666666666666666, \"#ed7953\"], [0.7777777777777778, \"#fb9f3a\"], [0.8888888888888888, \"#fdca26\"], [1.0, \"#f0f921\"]]}, \"colorway\": [\"#636efa\", \"#EF553B\", \"#00cc96\", \"#ab63fa\", \"#FFA15A\", \"#19d3f3\", \"#FF6692\", \"#B6E880\", \"#FF97FF\", \"#FECB52\"], \"font\": {\"color\": \"#2a3f5f\"}, \"geo\": {\"bgcolor\": \"white\", \"lakecolor\": \"white\", \"landcolor\": \"#E5ECF6\", \"showlakes\": true, \"showland\": true, \"subunitcolor\": \"white\"}, \"hoverlabel\": {\"align\": \"left\"}, \"hovermode\": \"closest\", \"mapbox\": {\"style\": \"light\"}, \"paper_bgcolor\": \"white\", \"plot_bgcolor\": \"#E5ECF6\", \"polar\": {\"angularaxis\": {\"gridcolor\": \"white\", \"linecolor\": \"white\", \"ticks\": \"\"}, \"bgcolor\": \"#E5ECF6\", \"radialaxis\": {\"gridcolor\": \"white\", \"linecolor\": \"white\", \"ticks\": \"\"}}, \"scene\": {\"xaxis\": {\"backgroundcolor\": \"#E5ECF6\", \"gridcolor\": \"white\", \"gridwidth\": 2, \"linecolor\": \"white\", \"showbackground\": true, \"ticks\": \"\", \"zerolinecolor\": \"white\"}, \"yaxis\": {\"backgroundcolor\": \"#E5ECF6\", \"gridcolor\": \"white\", \"gridwidth\": 2, \"linecolor\": \"white\", \"showbackground\": true, \"ticks\": \"\", \"zerolinecolor\": \"white\"}, \"zaxis\": {\"backgroundcolor\": \"#E5ECF6\", \"gridcolor\": \"white\", \"gridwidth\": 2, \"linecolor\": \"white\", \"showbackground\": true, \"ticks\": \"\", \"zerolinecolor\": \"white\"}}, \"shapedefaults\": {\"line\": {\"color\": \"#2a3f5f\"}}, \"ternary\": {\"aaxis\": {\"gridcolor\": \"white\", \"linecolor\": \"white\", \"ticks\": \"\"}, \"baxis\": {\"gridcolor\": \"white\", \"linecolor\": \"white\", \"ticks\": \"\"}, \"bgcolor\": \"#E5ECF6\", \"caxis\": {\"gridcolor\": \"white\", \"linecolor\": \"white\", \"ticks\": \"\"}}, \"title\": {\"x\": 0.05}, \"xaxis\": {\"automargin\": true, \"gridcolor\": \"white\", \"linecolor\": \"white\", \"ticks\": \"\", \"title\": {\"standoff\": 15}, \"zerolinecolor\": \"white\", \"zerolinewidth\": 2}, \"yaxis\": {\"automargin\": true, \"gridcolor\": \"white\", \"linecolor\": \"white\", \"ticks\": \"\", \"title\": {\"standoff\": 15}, \"zerolinecolor\": \"white\", \"zerolinewidth\": 2}}}, \"title\": {\"font\": {\"size\": 20}, \"text\": \"Sample_ID: TailoredTAG18-1_O3on_CrudeCanola0.0005mgmL_020723\"}, \"uniformtext\": {\"minsize\": 18, \"mode\": \"hide\"}, \"xaxis\": {\"anchor\": \"y\", \"domain\": [0.0, 1.0], \"title\": {\"font\": {\"size\": 16}, \"text\": \"Lipid\"}}, \"yaxis\": {\"anchor\": \"x\", \"domain\": [0.0, 1.0], \"tickfont\": {\"size\": 16}, \"title\": {\"font\": {\"size\": 16}, \"text\": \"Ratios\"}}},                        {\"responsive\": true}                    ).then(function(){\n",
       "                            \n",
       "var gd = document.getElementById('81dfa621-fb09-402e-8533-1846dd889911');\n",
       "var x = new MutationObserver(function (mutations, observer) {{\n",
       "        var display = window.getComputedStyle(gd).display;\n",
       "        if (!display || display === 'none') {{\n",
       "            console.log([gd, 'removed!']);\n",
       "            Plotly.purge(gd);\n",
       "            observer.disconnect();\n",
       "        }}\n",
       "}});\n",
       "\n",
       "// Listen for the removal of the full notebook cells\n",
       "var notebookContainer = gd.closest('#notebook-container');\n",
       "if (notebookContainer) {{\n",
       "    x.observe(notebookContainer, {childList: true});\n",
       "}}\n",
       "\n",
       "// Listen for the clearing of the current output cell\n",
       "var outputEl = gd.closest('.output');\n",
       "if (outputEl) {{\n",
       "    x.observe(outputEl, {childList: true});\n",
       "}}\n",
       "\n",
       "                        })                };                });            </script>        </div>"
      ]
     },
     "metadata": {},
     "output_type": "display_data"
    },
    {
     "data": {
      "application/vnd.plotly.v1+json": {
       "config": {
        "plotlyServerURL": "https://plot.ly"
       },
       "data": [
        {
         "alignmentgroup": "True",
         "hovertemplate": "Lipid=%{x}<br>Ratios=%{text}<extra></extra>",
         "legendgroup": "",
         "marker": {
          "color": [
           "blue",
           "blue",
           "blue",
           "blue",
           "blue",
           "blue",
           "purple",
           "purple",
           "purple",
           "green",
           "green",
           "green",
           "green",
           "green",
           "green",
           "green",
           "green",
           "green",
           "blue",
           "blue",
           "blue",
           "blue",
           "blue",
           "blue",
           "blue",
           "blue",
           "green",
           "green",
           "green",
           "green",
           "green",
           "green"
          ],
          "line": {
           "width": 0
          }
         },
         "name": "",
         "offsetgroup": "",
         "orientation": "v",
         "showlegend": false,
         "text": [
          1.2290852228303362,
          null,
          null,
          0.7514659449706811,
          null,
          null,
          1.0995812005583994,
          null,
          null,
          0.7049446974625895,
          null,
          null,
          2.9447453954496208,
          null,
          null,
          17.414864864864864,
          null,
          null,
          5.128410914927769,
          null,
          null,
          0.21464122770634592,
          null,
          null,
          null,
          null,
          2.4146219328993492,
          null,
          null,
          2.8798432738354376,
          null,
          null
         ],
         "textposition": "auto",
         "texttemplate": "%{text:.2f}",
         "type": "bar",
         "x": [
          "TG(52:2)]_FA18:1",
          "TG(52:2)]_FA18:1",
          "TG(52:2)]_FA18:1",
          "TG(52:3)]_FA18:1",
          "TG(52:3)]_FA18:1",
          "TG(52:3)]_FA18:1",
          "TG(53:0)]_FA18:1",
          "TG(53:0)]_FA18:1",
          "TG(53:0)]_FA18:1",
          "TG(54:2)]_FA18:1",
          "TG(54:2)]_FA18:1",
          "TG(54:2)]_FA18:1",
          "TG(54:3)]_FA18:1",
          "TG(54:3)]_FA18:1",
          "TG(54:3)]_FA18:1",
          "TG(54:4)]_FA18:1",
          "TG(54:4)]_FA18:1",
          "TG(54:4)]_FA18:1",
          "[TG(52:4)]_FA18:1",
          "[TG(52:4)]_FA18:1",
          "[TG(52:4)]_FA18:1",
          "[TG(52:5)]_FA18:1",
          "[TG(52:5)]_FA18:1",
          "[TG(52:5)]_FA18:1",
          "[TG(52:6)]_FA18:1",
          "[TG(52:6)]_FA18:1",
          "[TG(54:5)]_FA18:1",
          "[TG(54:5)]_FA18:1",
          "[TG(54:5)]_FA18:1",
          "[TG(54:6)]_FA18:1",
          "[TG(54:6)]_FA18:1",
          "[TG(54:6)]_FA18:1"
         ],
         "xaxis": "x",
         "y": [
          1.2290852228303362,
          null,
          null,
          0.7514659449706811,
          null,
          null,
          1.0995812005583994,
          null,
          null,
          0.7049446974625895,
          null,
          null,
          2.9447453954496208,
          null,
          null,
          17.414864864864864,
          null,
          null,
          5.128410914927769,
          null,
          null,
          0.21464122770634592,
          null,
          null,
          null,
          null,
          2.4146219328993492,
          null,
          null,
          2.8798432738354376,
          null,
          null
         ],
         "yaxis": "y"
        }
       ],
       "layout": {
        "barmode": "relative",
        "legend": {
         "itemsizing": "constant",
         "title": {
          "text": "Lipid Patterns"
         },
         "tracegroupgap": 50
        },
        "template": {
         "data": {
          "bar": [
           {
            "error_x": {
             "color": "#2a3f5f"
            },
            "error_y": {
             "color": "#2a3f5f"
            },
            "marker": {
             "line": {
              "color": "#E5ECF6",
              "width": 0.5
             }
            },
            "type": "bar"
           }
          ],
          "barpolar": [
           {
            "marker": {
             "line": {
              "color": "#E5ECF6",
              "width": 0.5
             }
            },
            "type": "barpolar"
           }
          ],
          "carpet": [
           {
            "aaxis": {
             "endlinecolor": "#2a3f5f",
             "gridcolor": "white",
             "linecolor": "white",
             "minorgridcolor": "white",
             "startlinecolor": "#2a3f5f"
            },
            "baxis": {
             "endlinecolor": "#2a3f5f",
             "gridcolor": "white",
             "linecolor": "white",
             "minorgridcolor": "white",
             "startlinecolor": "#2a3f5f"
            },
            "type": "carpet"
           }
          ],
          "choropleth": [
           {
            "colorbar": {
             "outlinewidth": 0,
             "ticks": ""
            },
            "type": "choropleth"
           }
          ],
          "contour": [
           {
            "colorbar": {
             "outlinewidth": 0,
             "ticks": ""
            },
            "colorscale": [
             [
              0,
              "#0d0887"
             ],
             [
              0.1111111111111111,
              "#46039f"
             ],
             [
              0.2222222222222222,
              "#7201a8"
             ],
             [
              0.3333333333333333,
              "#9c179e"
             ],
             [
              0.4444444444444444,
              "#bd3786"
             ],
             [
              0.5555555555555556,
              "#d8576b"
             ],
             [
              0.6666666666666666,
              "#ed7953"
             ],
             [
              0.7777777777777778,
              "#fb9f3a"
             ],
             [
              0.8888888888888888,
              "#fdca26"
             ],
             [
              1,
              "#f0f921"
             ]
            ],
            "type": "contour"
           }
          ],
          "contourcarpet": [
           {
            "colorbar": {
             "outlinewidth": 0,
             "ticks": ""
            },
            "type": "contourcarpet"
           }
          ],
          "heatmap": [
           {
            "colorbar": {
             "outlinewidth": 0,
             "ticks": ""
            },
            "colorscale": [
             [
              0,
              "#0d0887"
             ],
             [
              0.1111111111111111,
              "#46039f"
             ],
             [
              0.2222222222222222,
              "#7201a8"
             ],
             [
              0.3333333333333333,
              "#9c179e"
             ],
             [
              0.4444444444444444,
              "#bd3786"
             ],
             [
              0.5555555555555556,
              "#d8576b"
             ],
             [
              0.6666666666666666,
              "#ed7953"
             ],
             [
              0.7777777777777778,
              "#fb9f3a"
             ],
             [
              0.8888888888888888,
              "#fdca26"
             ],
             [
              1,
              "#f0f921"
             ]
            ],
            "type": "heatmap"
           }
          ],
          "heatmapgl": [
           {
            "colorbar": {
             "outlinewidth": 0,
             "ticks": ""
            },
            "colorscale": [
             [
              0,
              "#0d0887"
             ],
             [
              0.1111111111111111,
              "#46039f"
             ],
             [
              0.2222222222222222,
              "#7201a8"
             ],
             [
              0.3333333333333333,
              "#9c179e"
             ],
             [
              0.4444444444444444,
              "#bd3786"
             ],
             [
              0.5555555555555556,
              "#d8576b"
             ],
             [
              0.6666666666666666,
              "#ed7953"
             ],
             [
              0.7777777777777778,
              "#fb9f3a"
             ],
             [
              0.8888888888888888,
              "#fdca26"
             ],
             [
              1,
              "#f0f921"
             ]
            ],
            "type": "heatmapgl"
           }
          ],
          "histogram": [
           {
            "marker": {
             "colorbar": {
              "outlinewidth": 0,
              "ticks": ""
             }
            },
            "type": "histogram"
           }
          ],
          "histogram2d": [
           {
            "colorbar": {
             "outlinewidth": 0,
             "ticks": ""
            },
            "colorscale": [
             [
              0,
              "#0d0887"
             ],
             [
              0.1111111111111111,
              "#46039f"
             ],
             [
              0.2222222222222222,
              "#7201a8"
             ],
             [
              0.3333333333333333,
              "#9c179e"
             ],
             [
              0.4444444444444444,
              "#bd3786"
             ],
             [
              0.5555555555555556,
              "#d8576b"
             ],
             [
              0.6666666666666666,
              "#ed7953"
             ],
             [
              0.7777777777777778,
              "#fb9f3a"
             ],
             [
              0.8888888888888888,
              "#fdca26"
             ],
             [
              1,
              "#f0f921"
             ]
            ],
            "type": "histogram2d"
           }
          ],
          "histogram2dcontour": [
           {
            "colorbar": {
             "outlinewidth": 0,
             "ticks": ""
            },
            "colorscale": [
             [
              0,
              "#0d0887"
             ],
             [
              0.1111111111111111,
              "#46039f"
             ],
             [
              0.2222222222222222,
              "#7201a8"
             ],
             [
              0.3333333333333333,
              "#9c179e"
             ],
             [
              0.4444444444444444,
              "#bd3786"
             ],
             [
              0.5555555555555556,
              "#d8576b"
             ],
             [
              0.6666666666666666,
              "#ed7953"
             ],
             [
              0.7777777777777778,
              "#fb9f3a"
             ],
             [
              0.8888888888888888,
              "#fdca26"
             ],
             [
              1,
              "#f0f921"
             ]
            ],
            "type": "histogram2dcontour"
           }
          ],
          "mesh3d": [
           {
            "colorbar": {
             "outlinewidth": 0,
             "ticks": ""
            },
            "type": "mesh3d"
           }
          ],
          "parcoords": [
           {
            "line": {
             "colorbar": {
              "outlinewidth": 0,
              "ticks": ""
             }
            },
            "type": "parcoords"
           }
          ],
          "pie": [
           {
            "automargin": true,
            "type": "pie"
           }
          ],
          "scatter": [
           {
            "marker": {
             "colorbar": {
              "outlinewidth": 0,
              "ticks": ""
             }
            },
            "type": "scatter"
           }
          ],
          "scatter3d": [
           {
            "line": {
             "colorbar": {
              "outlinewidth": 0,
              "ticks": ""
             }
            },
            "marker": {
             "colorbar": {
              "outlinewidth": 0,
              "ticks": ""
             }
            },
            "type": "scatter3d"
           }
          ],
          "scattercarpet": [
           {
            "marker": {
             "colorbar": {
              "outlinewidth": 0,
              "ticks": ""
             }
            },
            "type": "scattercarpet"
           }
          ],
          "scattergeo": [
           {
            "marker": {
             "colorbar": {
              "outlinewidth": 0,
              "ticks": ""
             }
            },
            "type": "scattergeo"
           }
          ],
          "scattergl": [
           {
            "marker": {
             "colorbar": {
              "outlinewidth": 0,
              "ticks": ""
             }
            },
            "type": "scattergl"
           }
          ],
          "scattermapbox": [
           {
            "marker": {
             "colorbar": {
              "outlinewidth": 0,
              "ticks": ""
             }
            },
            "type": "scattermapbox"
           }
          ],
          "scatterpolar": [
           {
            "marker": {
             "colorbar": {
              "outlinewidth": 0,
              "ticks": ""
             }
            },
            "type": "scatterpolar"
           }
          ],
          "scatterpolargl": [
           {
            "marker": {
             "colorbar": {
              "outlinewidth": 0,
              "ticks": ""
             }
            },
            "type": "scatterpolargl"
           }
          ],
          "scatterternary": [
           {
            "marker": {
             "colorbar": {
              "outlinewidth": 0,
              "ticks": ""
             }
            },
            "type": "scatterternary"
           }
          ],
          "surface": [
           {
            "colorbar": {
             "outlinewidth": 0,
             "ticks": ""
            },
            "colorscale": [
             [
              0,
              "#0d0887"
             ],
             [
              0.1111111111111111,
              "#46039f"
             ],
             [
              0.2222222222222222,
              "#7201a8"
             ],
             [
              0.3333333333333333,
              "#9c179e"
             ],
             [
              0.4444444444444444,
              "#bd3786"
             ],
             [
              0.5555555555555556,
              "#d8576b"
             ],
             [
              0.6666666666666666,
              "#ed7953"
             ],
             [
              0.7777777777777778,
              "#fb9f3a"
             ],
             [
              0.8888888888888888,
              "#fdca26"
             ],
             [
              1,
              "#f0f921"
             ]
            ],
            "type": "surface"
           }
          ],
          "table": [
           {
            "cells": {
             "fill": {
              "color": "#EBF0F8"
             },
             "line": {
              "color": "white"
             }
            },
            "header": {
             "fill": {
              "color": "#C8D4E3"
             },
             "line": {
              "color": "white"
             }
            },
            "type": "table"
           }
          ]
         },
         "layout": {
          "annotationdefaults": {
           "arrowcolor": "#2a3f5f",
           "arrowhead": 0,
           "arrowwidth": 1
          },
          "coloraxis": {
           "colorbar": {
            "outlinewidth": 0,
            "ticks": ""
           }
          },
          "colorscale": {
           "diverging": [
            [
             0,
             "#8e0152"
            ],
            [
             0.1,
             "#c51b7d"
            ],
            [
             0.2,
             "#de77ae"
            ],
            [
             0.3,
             "#f1b6da"
            ],
            [
             0.4,
             "#fde0ef"
            ],
            [
             0.5,
             "#f7f7f7"
            ],
            [
             0.6,
             "#e6f5d0"
            ],
            [
             0.7,
             "#b8e186"
            ],
            [
             0.8,
             "#7fbc41"
            ],
            [
             0.9,
             "#4d9221"
            ],
            [
             1,
             "#276419"
            ]
           ],
           "sequential": [
            [
             0,
             "#0d0887"
            ],
            [
             0.1111111111111111,
             "#46039f"
            ],
            [
             0.2222222222222222,
             "#7201a8"
            ],
            [
             0.3333333333333333,
             "#9c179e"
            ],
            [
             0.4444444444444444,
             "#bd3786"
            ],
            [
             0.5555555555555556,
             "#d8576b"
            ],
            [
             0.6666666666666666,
             "#ed7953"
            ],
            [
             0.7777777777777778,
             "#fb9f3a"
            ],
            [
             0.8888888888888888,
             "#fdca26"
            ],
            [
             1,
             "#f0f921"
            ]
           ],
           "sequentialminus": [
            [
             0,
             "#0d0887"
            ],
            [
             0.1111111111111111,
             "#46039f"
            ],
            [
             0.2222222222222222,
             "#7201a8"
            ],
            [
             0.3333333333333333,
             "#9c179e"
            ],
            [
             0.4444444444444444,
             "#bd3786"
            ],
            [
             0.5555555555555556,
             "#d8576b"
            ],
            [
             0.6666666666666666,
             "#ed7953"
            ],
            [
             0.7777777777777778,
             "#fb9f3a"
            ],
            [
             0.8888888888888888,
             "#fdca26"
            ],
            [
             1,
             "#f0f921"
            ]
           ]
          },
          "colorway": [
           "#636efa",
           "#EF553B",
           "#00cc96",
           "#ab63fa",
           "#FFA15A",
           "#19d3f3",
           "#FF6692",
           "#B6E880",
           "#FF97FF",
           "#FECB52"
          ],
          "font": {
           "color": "#2a3f5f"
          },
          "geo": {
           "bgcolor": "white",
           "lakecolor": "white",
           "landcolor": "#E5ECF6",
           "showlakes": true,
           "showland": true,
           "subunitcolor": "white"
          },
          "hoverlabel": {
           "align": "left"
          },
          "hovermode": "closest",
          "mapbox": {
           "style": "light"
          },
          "paper_bgcolor": "white",
          "plot_bgcolor": "#E5ECF6",
          "polar": {
           "angularaxis": {
            "gridcolor": "white",
            "linecolor": "white",
            "ticks": ""
           },
           "bgcolor": "#E5ECF6",
           "radialaxis": {
            "gridcolor": "white",
            "linecolor": "white",
            "ticks": ""
           }
          },
          "scene": {
           "xaxis": {
            "backgroundcolor": "#E5ECF6",
            "gridcolor": "white",
            "gridwidth": 2,
            "linecolor": "white",
            "showbackground": true,
            "ticks": "",
            "zerolinecolor": "white"
           },
           "yaxis": {
            "backgroundcolor": "#E5ECF6",
            "gridcolor": "white",
            "gridwidth": 2,
            "linecolor": "white",
            "showbackground": true,
            "ticks": "",
            "zerolinecolor": "white"
           },
           "zaxis": {
            "backgroundcolor": "#E5ECF6",
            "gridcolor": "white",
            "gridwidth": 2,
            "linecolor": "white",
            "showbackground": true,
            "ticks": "",
            "zerolinecolor": "white"
           }
          },
          "shapedefaults": {
           "line": {
            "color": "#2a3f5f"
           }
          },
          "ternary": {
           "aaxis": {
            "gridcolor": "white",
            "linecolor": "white",
            "ticks": ""
           },
           "baxis": {
            "gridcolor": "white",
            "linecolor": "white",
            "ticks": ""
           },
           "bgcolor": "#E5ECF6",
           "caxis": {
            "gridcolor": "white",
            "linecolor": "white",
            "ticks": ""
           }
          },
          "title": {
           "x": 0.05
          },
          "xaxis": {
           "automargin": true,
           "gridcolor": "white",
           "linecolor": "white",
           "ticks": "",
           "title": {
            "standoff": 15
           },
           "zerolinecolor": "white",
           "zerolinewidth": 2
          },
          "yaxis": {
           "automargin": true,
           "gridcolor": "white",
           "linecolor": "white",
           "ticks": "",
           "title": {
            "standoff": 15
           },
           "zerolinecolor": "white",
           "zerolinewidth": 2
          }
         }
        },
        "title": {
         "font": {
          "size": 20
         },
         "text": "Sample_ID: TailoredTAG18-1_O3on_DegummedCanola0.0005mgmL_020723"
        },
        "uniformtext": {
         "minsize": 18,
         "mode": "hide"
        },
        "xaxis": {
         "anchor": "y",
         "domain": [
          0,
          1
         ],
         "title": {
          "font": {
           "size": 16
          },
          "text": "Lipid"
         }
        },
        "yaxis": {
         "anchor": "x",
         "domain": [
          0,
          1
         ],
         "tickfont": {
          "size": 16
         },
         "title": {
          "font": {
           "size": 16
          },
          "text": "Ratios"
         }
        }
       }
      },
      "text/html": [
       "<div>                            <div id=\"6caf3888-9ffd-4e60-b055-2f2573ff419f\" class=\"plotly-graph-div\" style=\"height:525px; width:100%;\"></div>            <script type=\"text/javascript\">                require([\"plotly\"], function(Plotly) {                    window.PLOTLYENV=window.PLOTLYENV || {};                                    if (document.getElementById(\"6caf3888-9ffd-4e60-b055-2f2573ff419f\")) {                    Plotly.newPlot(                        \"6caf3888-9ffd-4e60-b055-2f2573ff419f\",                        [{\"alignmentgroup\": \"True\", \"hovertemplate\": \"Lipid=%{x}<br>Ratios=%{text}<extra></extra>\", \"legendgroup\": \"\", \"marker\": {\"color\": [\"blue\", \"blue\", \"blue\", \"blue\", \"blue\", \"blue\", \"purple\", \"purple\", \"purple\", \"green\", \"green\", \"green\", \"green\", \"green\", \"green\", \"green\", \"green\", \"green\", \"blue\", \"blue\", \"blue\", \"blue\", \"blue\", \"blue\", \"blue\", \"blue\", \"green\", \"green\", \"green\", \"green\", \"green\", \"green\"], \"line\": {\"width\": 0}}, \"name\": \"\", \"offsetgroup\": \"\", \"orientation\": \"v\", \"showlegend\": false, \"text\": [1.2290852228303362, null, null, 0.7514659449706811, null, null, 1.0995812005583994, null, null, 0.7049446974625895, null, null, 2.9447453954496208, null, null, 17.414864864864864, null, null, 5.128410914927769, null, null, 0.21464122770634592, null, null, null, null, 2.4146219328993492, null, null, 2.8798432738354376, null, null], \"textposition\": \"auto\", \"texttemplate\": \"%{text:.2f}\", \"type\": \"bar\", \"x\": [\"TG(52:2)]_FA18:1\", \"TG(52:2)]_FA18:1\", \"TG(52:2)]_FA18:1\", \"TG(52:3)]_FA18:1\", \"TG(52:3)]_FA18:1\", \"TG(52:3)]_FA18:1\", \"TG(53:0)]_FA18:1\", \"TG(53:0)]_FA18:1\", \"TG(53:0)]_FA18:1\", \"TG(54:2)]_FA18:1\", \"TG(54:2)]_FA18:1\", \"TG(54:2)]_FA18:1\", \"TG(54:3)]_FA18:1\", \"TG(54:3)]_FA18:1\", \"TG(54:3)]_FA18:1\", \"TG(54:4)]_FA18:1\", \"TG(54:4)]_FA18:1\", \"TG(54:4)]_FA18:1\", \"[TG(52:4)]_FA18:1\", \"[TG(52:4)]_FA18:1\", \"[TG(52:4)]_FA18:1\", \"[TG(52:5)]_FA18:1\", \"[TG(52:5)]_FA18:1\", \"[TG(52:5)]_FA18:1\", \"[TG(52:6)]_FA18:1\", \"[TG(52:6)]_FA18:1\", \"[TG(54:5)]_FA18:1\", \"[TG(54:5)]_FA18:1\", \"[TG(54:5)]_FA18:1\", \"[TG(54:6)]_FA18:1\", \"[TG(54:6)]_FA18:1\", \"[TG(54:6)]_FA18:1\"], \"xaxis\": \"x\", \"y\": [1.2290852228303362, null, null, 0.7514659449706811, null, null, 1.0995812005583994, null, null, 0.7049446974625895, null, null, 2.9447453954496208, null, null, 17.414864864864864, null, null, 5.128410914927769, null, null, 0.21464122770634592, null, null, null, null, 2.4146219328993492, null, null, 2.8798432738354376, null, null], \"yaxis\": \"y\"}],                        {\"barmode\": \"relative\", \"legend\": {\"itemsizing\": \"constant\", \"title\": {\"text\": \"Lipid Patterns\"}, \"tracegroupgap\": 50}, \"template\": {\"data\": {\"bar\": [{\"error_x\": {\"color\": \"#2a3f5f\"}, \"error_y\": {\"color\": \"#2a3f5f\"}, \"marker\": {\"line\": {\"color\": \"#E5ECF6\", \"width\": 0.5}}, \"type\": \"bar\"}], \"barpolar\": [{\"marker\": {\"line\": {\"color\": \"#E5ECF6\", \"width\": 0.5}}, \"type\": \"barpolar\"}], \"carpet\": [{\"aaxis\": {\"endlinecolor\": \"#2a3f5f\", \"gridcolor\": \"white\", \"linecolor\": \"white\", \"minorgridcolor\": \"white\", \"startlinecolor\": \"#2a3f5f\"}, \"baxis\": {\"endlinecolor\": \"#2a3f5f\", \"gridcolor\": \"white\", \"linecolor\": \"white\", \"minorgridcolor\": \"white\", \"startlinecolor\": \"#2a3f5f\"}, \"type\": \"carpet\"}], \"choropleth\": [{\"colorbar\": {\"outlinewidth\": 0, \"ticks\": \"\"}, \"type\": \"choropleth\"}], \"contour\": [{\"colorbar\": {\"outlinewidth\": 0, \"ticks\": \"\"}, \"colorscale\": [[0.0, \"#0d0887\"], [0.1111111111111111, \"#46039f\"], [0.2222222222222222, \"#7201a8\"], [0.3333333333333333, \"#9c179e\"], [0.4444444444444444, \"#bd3786\"], [0.5555555555555556, \"#d8576b\"], [0.6666666666666666, \"#ed7953\"], [0.7777777777777778, \"#fb9f3a\"], [0.8888888888888888, \"#fdca26\"], [1.0, \"#f0f921\"]], \"type\": \"contour\"}], \"contourcarpet\": [{\"colorbar\": {\"outlinewidth\": 0, \"ticks\": \"\"}, \"type\": \"contourcarpet\"}], \"heatmap\": [{\"colorbar\": {\"outlinewidth\": 0, \"ticks\": \"\"}, \"colorscale\": [[0.0, \"#0d0887\"], [0.1111111111111111, \"#46039f\"], [0.2222222222222222, \"#7201a8\"], [0.3333333333333333, \"#9c179e\"], [0.4444444444444444, \"#bd3786\"], [0.5555555555555556, \"#d8576b\"], [0.6666666666666666, \"#ed7953\"], [0.7777777777777778, \"#fb9f3a\"], [0.8888888888888888, \"#fdca26\"], [1.0, \"#f0f921\"]], \"type\": \"heatmap\"}], \"heatmapgl\": [{\"colorbar\": {\"outlinewidth\": 0, \"ticks\": \"\"}, \"colorscale\": [[0.0, \"#0d0887\"], [0.1111111111111111, \"#46039f\"], [0.2222222222222222, \"#7201a8\"], [0.3333333333333333, \"#9c179e\"], [0.4444444444444444, \"#bd3786\"], [0.5555555555555556, \"#d8576b\"], [0.6666666666666666, \"#ed7953\"], [0.7777777777777778, \"#fb9f3a\"], [0.8888888888888888, \"#fdca26\"], [1.0, \"#f0f921\"]], \"type\": \"heatmapgl\"}], \"histogram\": [{\"marker\": {\"colorbar\": {\"outlinewidth\": 0, \"ticks\": \"\"}}, \"type\": \"histogram\"}], \"histogram2d\": [{\"colorbar\": {\"outlinewidth\": 0, \"ticks\": \"\"}, \"colorscale\": [[0.0, \"#0d0887\"], [0.1111111111111111, \"#46039f\"], [0.2222222222222222, \"#7201a8\"], [0.3333333333333333, \"#9c179e\"], [0.4444444444444444, \"#bd3786\"], [0.5555555555555556, \"#d8576b\"], [0.6666666666666666, \"#ed7953\"], [0.7777777777777778, \"#fb9f3a\"], [0.8888888888888888, \"#fdca26\"], [1.0, \"#f0f921\"]], \"type\": \"histogram2d\"}], \"histogram2dcontour\": [{\"colorbar\": {\"outlinewidth\": 0, \"ticks\": \"\"}, \"colorscale\": [[0.0, \"#0d0887\"], [0.1111111111111111, \"#46039f\"], [0.2222222222222222, \"#7201a8\"], [0.3333333333333333, \"#9c179e\"], [0.4444444444444444, \"#bd3786\"], [0.5555555555555556, \"#d8576b\"], [0.6666666666666666, \"#ed7953\"], [0.7777777777777778, \"#fb9f3a\"], [0.8888888888888888, \"#fdca26\"], [1.0, \"#f0f921\"]], \"type\": \"histogram2dcontour\"}], \"mesh3d\": [{\"colorbar\": {\"outlinewidth\": 0, \"ticks\": \"\"}, \"type\": \"mesh3d\"}], \"parcoords\": [{\"line\": {\"colorbar\": {\"outlinewidth\": 0, \"ticks\": \"\"}}, \"type\": \"parcoords\"}], \"pie\": [{\"automargin\": true, \"type\": \"pie\"}], \"scatter\": [{\"marker\": {\"colorbar\": {\"outlinewidth\": 0, \"ticks\": \"\"}}, \"type\": \"scatter\"}], \"scatter3d\": [{\"line\": {\"colorbar\": {\"outlinewidth\": 0, \"ticks\": \"\"}}, \"marker\": {\"colorbar\": {\"outlinewidth\": 0, \"ticks\": \"\"}}, \"type\": \"scatter3d\"}], \"scattercarpet\": [{\"marker\": {\"colorbar\": {\"outlinewidth\": 0, \"ticks\": \"\"}}, \"type\": \"scattercarpet\"}], \"scattergeo\": [{\"marker\": {\"colorbar\": {\"outlinewidth\": 0, \"ticks\": \"\"}}, \"type\": \"scattergeo\"}], \"scattergl\": [{\"marker\": {\"colorbar\": {\"outlinewidth\": 0, \"ticks\": \"\"}}, \"type\": \"scattergl\"}], \"scattermapbox\": [{\"marker\": {\"colorbar\": {\"outlinewidth\": 0, \"ticks\": \"\"}}, \"type\": \"scattermapbox\"}], \"scatterpolar\": [{\"marker\": {\"colorbar\": {\"outlinewidth\": 0, \"ticks\": \"\"}}, \"type\": \"scatterpolar\"}], \"scatterpolargl\": [{\"marker\": {\"colorbar\": {\"outlinewidth\": 0, \"ticks\": \"\"}}, \"type\": \"scatterpolargl\"}], \"scatterternary\": [{\"marker\": {\"colorbar\": {\"outlinewidth\": 0, \"ticks\": \"\"}}, \"type\": \"scatterternary\"}], \"surface\": [{\"colorbar\": {\"outlinewidth\": 0, \"ticks\": \"\"}, \"colorscale\": [[0.0, \"#0d0887\"], [0.1111111111111111, \"#46039f\"], [0.2222222222222222, \"#7201a8\"], [0.3333333333333333, \"#9c179e\"], [0.4444444444444444, \"#bd3786\"], [0.5555555555555556, \"#d8576b\"], [0.6666666666666666, \"#ed7953\"], [0.7777777777777778, \"#fb9f3a\"], [0.8888888888888888, \"#fdca26\"], [1.0, \"#f0f921\"]], \"type\": \"surface\"}], \"table\": [{\"cells\": {\"fill\": {\"color\": \"#EBF0F8\"}, \"line\": {\"color\": \"white\"}}, \"header\": {\"fill\": {\"color\": \"#C8D4E3\"}, \"line\": {\"color\": \"white\"}}, \"type\": \"table\"}]}, \"layout\": {\"annotationdefaults\": {\"arrowcolor\": \"#2a3f5f\", \"arrowhead\": 0, \"arrowwidth\": 1}, \"coloraxis\": {\"colorbar\": {\"outlinewidth\": 0, \"ticks\": \"\"}}, \"colorscale\": {\"diverging\": [[0, \"#8e0152\"], [0.1, \"#c51b7d\"], [0.2, \"#de77ae\"], [0.3, \"#f1b6da\"], [0.4, \"#fde0ef\"], [0.5, \"#f7f7f7\"], [0.6, \"#e6f5d0\"], [0.7, \"#b8e186\"], [0.8, \"#7fbc41\"], [0.9, \"#4d9221\"], [1, \"#276419\"]], \"sequential\": [[0.0, \"#0d0887\"], [0.1111111111111111, \"#46039f\"], [0.2222222222222222, \"#7201a8\"], [0.3333333333333333, \"#9c179e\"], [0.4444444444444444, \"#bd3786\"], [0.5555555555555556, \"#d8576b\"], [0.6666666666666666, \"#ed7953\"], [0.7777777777777778, \"#fb9f3a\"], [0.8888888888888888, \"#fdca26\"], [1.0, \"#f0f921\"]], \"sequentialminus\": [[0.0, \"#0d0887\"], [0.1111111111111111, \"#46039f\"], [0.2222222222222222, \"#7201a8\"], [0.3333333333333333, \"#9c179e\"], [0.4444444444444444, \"#bd3786\"], [0.5555555555555556, \"#d8576b\"], [0.6666666666666666, \"#ed7953\"], [0.7777777777777778, \"#fb9f3a\"], [0.8888888888888888, \"#fdca26\"], [1.0, \"#f0f921\"]]}, \"colorway\": [\"#636efa\", \"#EF553B\", \"#00cc96\", \"#ab63fa\", \"#FFA15A\", \"#19d3f3\", \"#FF6692\", \"#B6E880\", \"#FF97FF\", \"#FECB52\"], \"font\": {\"color\": \"#2a3f5f\"}, \"geo\": {\"bgcolor\": \"white\", \"lakecolor\": \"white\", \"landcolor\": \"#E5ECF6\", \"showlakes\": true, \"showland\": true, \"subunitcolor\": \"white\"}, \"hoverlabel\": {\"align\": \"left\"}, \"hovermode\": \"closest\", \"mapbox\": {\"style\": \"light\"}, \"paper_bgcolor\": \"white\", \"plot_bgcolor\": \"#E5ECF6\", \"polar\": {\"angularaxis\": {\"gridcolor\": \"white\", \"linecolor\": \"white\", \"ticks\": \"\"}, \"bgcolor\": \"#E5ECF6\", \"radialaxis\": {\"gridcolor\": \"white\", \"linecolor\": \"white\", \"ticks\": \"\"}}, \"scene\": {\"xaxis\": {\"backgroundcolor\": \"#E5ECF6\", \"gridcolor\": \"white\", \"gridwidth\": 2, \"linecolor\": \"white\", \"showbackground\": true, \"ticks\": \"\", \"zerolinecolor\": \"white\"}, \"yaxis\": {\"backgroundcolor\": \"#E5ECF6\", \"gridcolor\": \"white\", \"gridwidth\": 2, \"linecolor\": \"white\", \"showbackground\": true, \"ticks\": \"\", \"zerolinecolor\": \"white\"}, \"zaxis\": {\"backgroundcolor\": \"#E5ECF6\", \"gridcolor\": \"white\", \"gridwidth\": 2, \"linecolor\": \"white\", \"showbackground\": true, \"ticks\": \"\", \"zerolinecolor\": \"white\"}}, \"shapedefaults\": {\"line\": {\"color\": \"#2a3f5f\"}}, \"ternary\": {\"aaxis\": {\"gridcolor\": \"white\", \"linecolor\": \"white\", \"ticks\": \"\"}, \"baxis\": {\"gridcolor\": \"white\", \"linecolor\": \"white\", \"ticks\": \"\"}, \"bgcolor\": \"#E5ECF6\", \"caxis\": {\"gridcolor\": \"white\", \"linecolor\": \"white\", \"ticks\": \"\"}}, \"title\": {\"x\": 0.05}, \"xaxis\": {\"automargin\": true, \"gridcolor\": \"white\", \"linecolor\": \"white\", \"ticks\": \"\", \"title\": {\"standoff\": 15}, \"zerolinecolor\": \"white\", \"zerolinewidth\": 2}, \"yaxis\": {\"automargin\": true, \"gridcolor\": \"white\", \"linecolor\": \"white\", \"ticks\": \"\", \"title\": {\"standoff\": 15}, \"zerolinecolor\": \"white\", \"zerolinewidth\": 2}}}, \"title\": {\"font\": {\"size\": 20}, \"text\": \"Sample_ID: TailoredTAG18-1_O3on_DegummedCanola0.0005mgmL_020723\"}, \"uniformtext\": {\"minsize\": 18, \"mode\": \"hide\"}, \"xaxis\": {\"anchor\": \"y\", \"domain\": [0.0, 1.0], \"title\": {\"font\": {\"size\": 16}, \"text\": \"Lipid\"}}, \"yaxis\": {\"anchor\": \"x\", \"domain\": [0.0, 1.0], \"tickfont\": {\"size\": 16}, \"title\": {\"font\": {\"size\": 16}, \"text\": \"Ratios\"}}},                        {\"responsive\": true}                    ).then(function(){\n",
       "                            \n",
       "var gd = document.getElementById('6caf3888-9ffd-4e60-b055-2f2573ff419f');\n",
       "var x = new MutationObserver(function (mutations, observer) {{\n",
       "        var display = window.getComputedStyle(gd).display;\n",
       "        if (!display || display === 'none') {{\n",
       "            console.log([gd, 'removed!']);\n",
       "            Plotly.purge(gd);\n",
       "            observer.disconnect();\n",
       "        }}\n",
       "}});\n",
       "\n",
       "// Listen for the removal of the full notebook cells\n",
       "var notebookContainer = gd.closest('#notebook-container');\n",
       "if (notebookContainer) {{\n",
       "    x.observe(notebookContainer, {childList: true});\n",
       "}}\n",
       "\n",
       "// Listen for the clearing of the current output cell\n",
       "var outputEl = gd.closest('.output');\n",
       "if (outputEl) {{\n",
       "    x.observe(outputEl, {childList: true});\n",
       "}}\n",
       "\n",
       "                        })                };                });            </script>        </div>"
      ]
     },
     "metadata": {},
     "output_type": "display_data"
    },
    {
     "data": {
      "application/vnd.plotly.v1+json": {
       "config": {
        "plotlyServerURL": "https://plot.ly"
       },
       "data": [
        {
         "alignmentgroup": "True",
         "hovertemplate": "Lipid=%{x}<br>Ratios=%{text}<extra></extra>",
         "legendgroup": "",
         "marker": {
          "color": [
           "blue",
           "blue",
           "blue",
           "blue",
           "blue",
           "blue",
           "purple",
           "purple",
           "purple",
           "green",
           "green",
           "green",
           "green",
           "green",
           "green",
           "green",
           "green",
           "green",
           "blue",
           "blue",
           "blue",
           "blue",
           "blue",
           "blue",
           "blue",
           "blue",
           "green",
           "green",
           "green",
           "green",
           "green",
           "green"
          ],
          "line": {
           "width": 0
          }
         },
         "name": "",
         "offsetgroup": "",
         "orientation": "v",
         "showlegend": false,
         "text": [
          0.8283198826118855,
          null,
          null,
          0.7125057683433318,
          null,
          null,
          0.3927710843373494,
          null,
          null,
          0.08192582797379336,
          null,
          null,
          0.5556410256410257,
          null,
          null,
          4.000586854460094,
          null,
          null,
          0.22942643391521197,
          null,
          null,
          4.724655819774719,
          null,
          null,
          null,
          null,
          21.640831758034025,
          null,
          null,
          2.290985915492958,
          null,
          null
         ],
         "textposition": "auto",
         "texttemplate": "%{text:.2f}",
         "type": "bar",
         "x": [
          "TG(52:2)]_FA18:1",
          "TG(52:2)]_FA18:1",
          "TG(52:2)]_FA18:1",
          "TG(52:3)]_FA18:1",
          "TG(52:3)]_FA18:1",
          "TG(52:3)]_FA18:1",
          "TG(53:0)]_FA18:1",
          "TG(53:0)]_FA18:1",
          "TG(53:0)]_FA18:1",
          "TG(54:2)]_FA18:1",
          "TG(54:2)]_FA18:1",
          "TG(54:2)]_FA18:1",
          "TG(54:3)]_FA18:1",
          "TG(54:3)]_FA18:1",
          "TG(54:3)]_FA18:1",
          "TG(54:4)]_FA18:1",
          "TG(54:4)]_FA18:1",
          "TG(54:4)]_FA18:1",
          "[TG(52:4)]_FA18:1",
          "[TG(52:4)]_FA18:1",
          "[TG(52:4)]_FA18:1",
          "[TG(52:5)]_FA18:1",
          "[TG(52:5)]_FA18:1",
          "[TG(52:5)]_FA18:1",
          "[TG(52:6)]_FA18:1",
          "[TG(52:6)]_FA18:1",
          "[TG(54:5)]_FA18:1",
          "[TG(54:5)]_FA18:1",
          "[TG(54:5)]_FA18:1",
          "[TG(54:6)]_FA18:1",
          "[TG(54:6)]_FA18:1",
          "[TG(54:6)]_FA18:1"
         ],
         "xaxis": "x",
         "y": [
          0.8283198826118855,
          null,
          null,
          0.7125057683433318,
          null,
          null,
          0.3927710843373494,
          null,
          null,
          0.08192582797379336,
          null,
          null,
          0.5556410256410257,
          null,
          null,
          4.000586854460094,
          null,
          null,
          0.22942643391521197,
          null,
          null,
          4.724655819774719,
          null,
          null,
          null,
          null,
          21.640831758034025,
          null,
          null,
          2.290985915492958,
          null,
          null
         ],
         "yaxis": "y"
        }
       ],
       "layout": {
        "barmode": "relative",
        "legend": {
         "itemsizing": "constant",
         "title": {
          "text": "Lipid Patterns"
         },
         "tracegroupgap": 50
        },
        "template": {
         "data": {
          "bar": [
           {
            "error_x": {
             "color": "#2a3f5f"
            },
            "error_y": {
             "color": "#2a3f5f"
            },
            "marker": {
             "line": {
              "color": "#E5ECF6",
              "width": 0.5
             }
            },
            "type": "bar"
           }
          ],
          "barpolar": [
           {
            "marker": {
             "line": {
              "color": "#E5ECF6",
              "width": 0.5
             }
            },
            "type": "barpolar"
           }
          ],
          "carpet": [
           {
            "aaxis": {
             "endlinecolor": "#2a3f5f",
             "gridcolor": "white",
             "linecolor": "white",
             "minorgridcolor": "white",
             "startlinecolor": "#2a3f5f"
            },
            "baxis": {
             "endlinecolor": "#2a3f5f",
             "gridcolor": "white",
             "linecolor": "white",
             "minorgridcolor": "white",
             "startlinecolor": "#2a3f5f"
            },
            "type": "carpet"
           }
          ],
          "choropleth": [
           {
            "colorbar": {
             "outlinewidth": 0,
             "ticks": ""
            },
            "type": "choropleth"
           }
          ],
          "contour": [
           {
            "colorbar": {
             "outlinewidth": 0,
             "ticks": ""
            },
            "colorscale": [
             [
              0,
              "#0d0887"
             ],
             [
              0.1111111111111111,
              "#46039f"
             ],
             [
              0.2222222222222222,
              "#7201a8"
             ],
             [
              0.3333333333333333,
              "#9c179e"
             ],
             [
              0.4444444444444444,
              "#bd3786"
             ],
             [
              0.5555555555555556,
              "#d8576b"
             ],
             [
              0.6666666666666666,
              "#ed7953"
             ],
             [
              0.7777777777777778,
              "#fb9f3a"
             ],
             [
              0.8888888888888888,
              "#fdca26"
             ],
             [
              1,
              "#f0f921"
             ]
            ],
            "type": "contour"
           }
          ],
          "contourcarpet": [
           {
            "colorbar": {
             "outlinewidth": 0,
             "ticks": ""
            },
            "type": "contourcarpet"
           }
          ],
          "heatmap": [
           {
            "colorbar": {
             "outlinewidth": 0,
             "ticks": ""
            },
            "colorscale": [
             [
              0,
              "#0d0887"
             ],
             [
              0.1111111111111111,
              "#46039f"
             ],
             [
              0.2222222222222222,
              "#7201a8"
             ],
             [
              0.3333333333333333,
              "#9c179e"
             ],
             [
              0.4444444444444444,
              "#bd3786"
             ],
             [
              0.5555555555555556,
              "#d8576b"
             ],
             [
              0.6666666666666666,
              "#ed7953"
             ],
             [
              0.7777777777777778,
              "#fb9f3a"
             ],
             [
              0.8888888888888888,
              "#fdca26"
             ],
             [
              1,
              "#f0f921"
             ]
            ],
            "type": "heatmap"
           }
          ],
          "heatmapgl": [
           {
            "colorbar": {
             "outlinewidth": 0,
             "ticks": ""
            },
            "colorscale": [
             [
              0,
              "#0d0887"
             ],
             [
              0.1111111111111111,
              "#46039f"
             ],
             [
              0.2222222222222222,
              "#7201a8"
             ],
             [
              0.3333333333333333,
              "#9c179e"
             ],
             [
              0.4444444444444444,
              "#bd3786"
             ],
             [
              0.5555555555555556,
              "#d8576b"
             ],
             [
              0.6666666666666666,
              "#ed7953"
             ],
             [
              0.7777777777777778,
              "#fb9f3a"
             ],
             [
              0.8888888888888888,
              "#fdca26"
             ],
             [
              1,
              "#f0f921"
             ]
            ],
            "type": "heatmapgl"
           }
          ],
          "histogram": [
           {
            "marker": {
             "colorbar": {
              "outlinewidth": 0,
              "ticks": ""
             }
            },
            "type": "histogram"
           }
          ],
          "histogram2d": [
           {
            "colorbar": {
             "outlinewidth": 0,
             "ticks": ""
            },
            "colorscale": [
             [
              0,
              "#0d0887"
             ],
             [
              0.1111111111111111,
              "#46039f"
             ],
             [
              0.2222222222222222,
              "#7201a8"
             ],
             [
              0.3333333333333333,
              "#9c179e"
             ],
             [
              0.4444444444444444,
              "#bd3786"
             ],
             [
              0.5555555555555556,
              "#d8576b"
             ],
             [
              0.6666666666666666,
              "#ed7953"
             ],
             [
              0.7777777777777778,
              "#fb9f3a"
             ],
             [
              0.8888888888888888,
              "#fdca26"
             ],
             [
              1,
              "#f0f921"
             ]
            ],
            "type": "histogram2d"
           }
          ],
          "histogram2dcontour": [
           {
            "colorbar": {
             "outlinewidth": 0,
             "ticks": ""
            },
            "colorscale": [
             [
              0,
              "#0d0887"
             ],
             [
              0.1111111111111111,
              "#46039f"
             ],
             [
              0.2222222222222222,
              "#7201a8"
             ],
             [
              0.3333333333333333,
              "#9c179e"
             ],
             [
              0.4444444444444444,
              "#bd3786"
             ],
             [
              0.5555555555555556,
              "#d8576b"
             ],
             [
              0.6666666666666666,
              "#ed7953"
             ],
             [
              0.7777777777777778,
              "#fb9f3a"
             ],
             [
              0.8888888888888888,
              "#fdca26"
             ],
             [
              1,
              "#f0f921"
             ]
            ],
            "type": "histogram2dcontour"
           }
          ],
          "mesh3d": [
           {
            "colorbar": {
             "outlinewidth": 0,
             "ticks": ""
            },
            "type": "mesh3d"
           }
          ],
          "parcoords": [
           {
            "line": {
             "colorbar": {
              "outlinewidth": 0,
              "ticks": ""
             }
            },
            "type": "parcoords"
           }
          ],
          "pie": [
           {
            "automargin": true,
            "type": "pie"
           }
          ],
          "scatter": [
           {
            "marker": {
             "colorbar": {
              "outlinewidth": 0,
              "ticks": ""
             }
            },
            "type": "scatter"
           }
          ],
          "scatter3d": [
           {
            "line": {
             "colorbar": {
              "outlinewidth": 0,
              "ticks": ""
             }
            },
            "marker": {
             "colorbar": {
              "outlinewidth": 0,
              "ticks": ""
             }
            },
            "type": "scatter3d"
           }
          ],
          "scattercarpet": [
           {
            "marker": {
             "colorbar": {
              "outlinewidth": 0,
              "ticks": ""
             }
            },
            "type": "scattercarpet"
           }
          ],
          "scattergeo": [
           {
            "marker": {
             "colorbar": {
              "outlinewidth": 0,
              "ticks": ""
             }
            },
            "type": "scattergeo"
           }
          ],
          "scattergl": [
           {
            "marker": {
             "colorbar": {
              "outlinewidth": 0,
              "ticks": ""
             }
            },
            "type": "scattergl"
           }
          ],
          "scattermapbox": [
           {
            "marker": {
             "colorbar": {
              "outlinewidth": 0,
              "ticks": ""
             }
            },
            "type": "scattermapbox"
           }
          ],
          "scatterpolar": [
           {
            "marker": {
             "colorbar": {
              "outlinewidth": 0,
              "ticks": ""
             }
            },
            "type": "scatterpolar"
           }
          ],
          "scatterpolargl": [
           {
            "marker": {
             "colorbar": {
              "outlinewidth": 0,
              "ticks": ""
             }
            },
            "type": "scatterpolargl"
           }
          ],
          "scatterternary": [
           {
            "marker": {
             "colorbar": {
              "outlinewidth": 0,
              "ticks": ""
             }
            },
            "type": "scatterternary"
           }
          ],
          "surface": [
           {
            "colorbar": {
             "outlinewidth": 0,
             "ticks": ""
            },
            "colorscale": [
             [
              0,
              "#0d0887"
             ],
             [
              0.1111111111111111,
              "#46039f"
             ],
             [
              0.2222222222222222,
              "#7201a8"
             ],
             [
              0.3333333333333333,
              "#9c179e"
             ],
             [
              0.4444444444444444,
              "#bd3786"
             ],
             [
              0.5555555555555556,
              "#d8576b"
             ],
             [
              0.6666666666666666,
              "#ed7953"
             ],
             [
              0.7777777777777778,
              "#fb9f3a"
             ],
             [
              0.8888888888888888,
              "#fdca26"
             ],
             [
              1,
              "#f0f921"
             ]
            ],
            "type": "surface"
           }
          ],
          "table": [
           {
            "cells": {
             "fill": {
              "color": "#EBF0F8"
             },
             "line": {
              "color": "white"
             }
            },
            "header": {
             "fill": {
              "color": "#C8D4E3"
             },
             "line": {
              "color": "white"
             }
            },
            "type": "table"
           }
          ]
         },
         "layout": {
          "annotationdefaults": {
           "arrowcolor": "#2a3f5f",
           "arrowhead": 0,
           "arrowwidth": 1
          },
          "coloraxis": {
           "colorbar": {
            "outlinewidth": 0,
            "ticks": ""
           }
          },
          "colorscale": {
           "diverging": [
            [
             0,
             "#8e0152"
            ],
            [
             0.1,
             "#c51b7d"
            ],
            [
             0.2,
             "#de77ae"
            ],
            [
             0.3,
             "#f1b6da"
            ],
            [
             0.4,
             "#fde0ef"
            ],
            [
             0.5,
             "#f7f7f7"
            ],
            [
             0.6,
             "#e6f5d0"
            ],
            [
             0.7,
             "#b8e186"
            ],
            [
             0.8,
             "#7fbc41"
            ],
            [
             0.9,
             "#4d9221"
            ],
            [
             1,
             "#276419"
            ]
           ],
           "sequential": [
            [
             0,
             "#0d0887"
            ],
            [
             0.1111111111111111,
             "#46039f"
            ],
            [
             0.2222222222222222,
             "#7201a8"
            ],
            [
             0.3333333333333333,
             "#9c179e"
            ],
            [
             0.4444444444444444,
             "#bd3786"
            ],
            [
             0.5555555555555556,
             "#d8576b"
            ],
            [
             0.6666666666666666,
             "#ed7953"
            ],
            [
             0.7777777777777778,
             "#fb9f3a"
            ],
            [
             0.8888888888888888,
             "#fdca26"
            ],
            [
             1,
             "#f0f921"
            ]
           ],
           "sequentialminus": [
            [
             0,
             "#0d0887"
            ],
            [
             0.1111111111111111,
             "#46039f"
            ],
            [
             0.2222222222222222,
             "#7201a8"
            ],
            [
             0.3333333333333333,
             "#9c179e"
            ],
            [
             0.4444444444444444,
             "#bd3786"
            ],
            [
             0.5555555555555556,
             "#d8576b"
            ],
            [
             0.6666666666666666,
             "#ed7953"
            ],
            [
             0.7777777777777778,
             "#fb9f3a"
            ],
            [
             0.8888888888888888,
             "#fdca26"
            ],
            [
             1,
             "#f0f921"
            ]
           ]
          },
          "colorway": [
           "#636efa",
           "#EF553B",
           "#00cc96",
           "#ab63fa",
           "#FFA15A",
           "#19d3f3",
           "#FF6692",
           "#B6E880",
           "#FF97FF",
           "#FECB52"
          ],
          "font": {
           "color": "#2a3f5f"
          },
          "geo": {
           "bgcolor": "white",
           "lakecolor": "white",
           "landcolor": "#E5ECF6",
           "showlakes": true,
           "showland": true,
           "subunitcolor": "white"
          },
          "hoverlabel": {
           "align": "left"
          },
          "hovermode": "closest",
          "mapbox": {
           "style": "light"
          },
          "paper_bgcolor": "white",
          "plot_bgcolor": "#E5ECF6",
          "polar": {
           "angularaxis": {
            "gridcolor": "white",
            "linecolor": "white",
            "ticks": ""
           },
           "bgcolor": "#E5ECF6",
           "radialaxis": {
            "gridcolor": "white",
            "linecolor": "white",
            "ticks": ""
           }
          },
          "scene": {
           "xaxis": {
            "backgroundcolor": "#E5ECF6",
            "gridcolor": "white",
            "gridwidth": 2,
            "linecolor": "white",
            "showbackground": true,
            "ticks": "",
            "zerolinecolor": "white"
           },
           "yaxis": {
            "backgroundcolor": "#E5ECF6",
            "gridcolor": "white",
            "gridwidth": 2,
            "linecolor": "white",
            "showbackground": true,
            "ticks": "",
            "zerolinecolor": "white"
           },
           "zaxis": {
            "backgroundcolor": "#E5ECF6",
            "gridcolor": "white",
            "gridwidth": 2,
            "linecolor": "white",
            "showbackground": true,
            "ticks": "",
            "zerolinecolor": "white"
           }
          },
          "shapedefaults": {
           "line": {
            "color": "#2a3f5f"
           }
          },
          "ternary": {
           "aaxis": {
            "gridcolor": "white",
            "linecolor": "white",
            "ticks": ""
           },
           "baxis": {
            "gridcolor": "white",
            "linecolor": "white",
            "ticks": ""
           },
           "bgcolor": "#E5ECF6",
           "caxis": {
            "gridcolor": "white",
            "linecolor": "white",
            "ticks": ""
           }
          },
          "title": {
           "x": 0.05
          },
          "xaxis": {
           "automargin": true,
           "gridcolor": "white",
           "linecolor": "white",
           "ticks": "",
           "title": {
            "standoff": 15
           },
           "zerolinecolor": "white",
           "zerolinewidth": 2
          },
          "yaxis": {
           "automargin": true,
           "gridcolor": "white",
           "linecolor": "white",
           "ticks": "",
           "title": {
            "standoff": 15
           },
           "zerolinecolor": "white",
           "zerolinewidth": 2
          }
         }
        },
        "title": {
         "font": {
          "size": 20
         },
         "text": "Sample_ID: TailoredTAG18-1_O3on_RBDCanola0.0005mgmL_020723"
        },
        "uniformtext": {
         "minsize": 18,
         "mode": "hide"
        },
        "xaxis": {
         "anchor": "y",
         "domain": [
          0,
          1
         ],
         "title": {
          "font": {
           "size": 16
          },
          "text": "Lipid"
         }
        },
        "yaxis": {
         "anchor": "x",
         "domain": [
          0,
          1
         ],
         "tickfont": {
          "size": 16
         },
         "title": {
          "font": {
           "size": 16
          },
          "text": "Ratios"
         }
        }
       }
      },
      "text/html": [
       "<div>                            <div id=\"ee66fa30-d8c9-4154-8036-16716de00f3d\" class=\"plotly-graph-div\" style=\"height:525px; width:100%;\"></div>            <script type=\"text/javascript\">                require([\"plotly\"], function(Plotly) {                    window.PLOTLYENV=window.PLOTLYENV || {};                                    if (document.getElementById(\"ee66fa30-d8c9-4154-8036-16716de00f3d\")) {                    Plotly.newPlot(                        \"ee66fa30-d8c9-4154-8036-16716de00f3d\",                        [{\"alignmentgroup\": \"True\", \"hovertemplate\": \"Lipid=%{x}<br>Ratios=%{text}<extra></extra>\", \"legendgroup\": \"\", \"marker\": {\"color\": [\"blue\", \"blue\", \"blue\", \"blue\", \"blue\", \"blue\", \"purple\", \"purple\", \"purple\", \"green\", \"green\", \"green\", \"green\", \"green\", \"green\", \"green\", \"green\", \"green\", \"blue\", \"blue\", \"blue\", \"blue\", \"blue\", \"blue\", \"blue\", \"blue\", \"green\", \"green\", \"green\", \"green\", \"green\", \"green\"], \"line\": {\"width\": 0}}, \"name\": \"\", \"offsetgroup\": \"\", \"orientation\": \"v\", \"showlegend\": false, \"text\": [0.8283198826118855, null, null, 0.7125057683433318, null, null, 0.3927710843373494, null, null, 0.08192582797379336, null, null, 0.5556410256410257, null, null, 4.000586854460094, null, null, 0.22942643391521197, null, null, 4.724655819774719, null, null, null, null, 21.640831758034025, null, null, 2.290985915492958, null, null], \"textposition\": \"auto\", \"texttemplate\": \"%{text:.2f}\", \"type\": \"bar\", \"x\": [\"TG(52:2)]_FA18:1\", \"TG(52:2)]_FA18:1\", \"TG(52:2)]_FA18:1\", \"TG(52:3)]_FA18:1\", \"TG(52:3)]_FA18:1\", \"TG(52:3)]_FA18:1\", \"TG(53:0)]_FA18:1\", \"TG(53:0)]_FA18:1\", \"TG(53:0)]_FA18:1\", \"TG(54:2)]_FA18:1\", \"TG(54:2)]_FA18:1\", \"TG(54:2)]_FA18:1\", \"TG(54:3)]_FA18:1\", \"TG(54:3)]_FA18:1\", \"TG(54:3)]_FA18:1\", \"TG(54:4)]_FA18:1\", \"TG(54:4)]_FA18:1\", \"TG(54:4)]_FA18:1\", \"[TG(52:4)]_FA18:1\", \"[TG(52:4)]_FA18:1\", \"[TG(52:4)]_FA18:1\", \"[TG(52:5)]_FA18:1\", \"[TG(52:5)]_FA18:1\", \"[TG(52:5)]_FA18:1\", \"[TG(52:6)]_FA18:1\", \"[TG(52:6)]_FA18:1\", \"[TG(54:5)]_FA18:1\", \"[TG(54:5)]_FA18:1\", \"[TG(54:5)]_FA18:1\", \"[TG(54:6)]_FA18:1\", \"[TG(54:6)]_FA18:1\", \"[TG(54:6)]_FA18:1\"], \"xaxis\": \"x\", \"y\": [0.8283198826118855, null, null, 0.7125057683433318, null, null, 0.3927710843373494, null, null, 0.08192582797379336, null, null, 0.5556410256410257, null, null, 4.000586854460094, null, null, 0.22942643391521197, null, null, 4.724655819774719, null, null, null, null, 21.640831758034025, null, null, 2.290985915492958, null, null], \"yaxis\": \"y\"}],                        {\"barmode\": \"relative\", \"legend\": {\"itemsizing\": \"constant\", \"title\": {\"text\": \"Lipid Patterns\"}, \"tracegroupgap\": 50}, \"template\": {\"data\": {\"bar\": [{\"error_x\": {\"color\": \"#2a3f5f\"}, \"error_y\": {\"color\": \"#2a3f5f\"}, \"marker\": {\"line\": {\"color\": \"#E5ECF6\", \"width\": 0.5}}, \"type\": \"bar\"}], \"barpolar\": [{\"marker\": {\"line\": {\"color\": \"#E5ECF6\", \"width\": 0.5}}, \"type\": \"barpolar\"}], \"carpet\": [{\"aaxis\": {\"endlinecolor\": \"#2a3f5f\", \"gridcolor\": \"white\", \"linecolor\": \"white\", \"minorgridcolor\": \"white\", \"startlinecolor\": \"#2a3f5f\"}, \"baxis\": {\"endlinecolor\": \"#2a3f5f\", \"gridcolor\": \"white\", \"linecolor\": \"white\", \"minorgridcolor\": \"white\", \"startlinecolor\": \"#2a3f5f\"}, \"type\": \"carpet\"}], \"choropleth\": [{\"colorbar\": {\"outlinewidth\": 0, \"ticks\": \"\"}, \"type\": \"choropleth\"}], \"contour\": [{\"colorbar\": {\"outlinewidth\": 0, \"ticks\": \"\"}, \"colorscale\": [[0.0, \"#0d0887\"], [0.1111111111111111, \"#46039f\"], [0.2222222222222222, \"#7201a8\"], [0.3333333333333333, \"#9c179e\"], [0.4444444444444444, \"#bd3786\"], [0.5555555555555556, \"#d8576b\"], [0.6666666666666666, \"#ed7953\"], [0.7777777777777778, \"#fb9f3a\"], [0.8888888888888888, \"#fdca26\"], [1.0, \"#f0f921\"]], \"type\": \"contour\"}], \"contourcarpet\": [{\"colorbar\": {\"outlinewidth\": 0, \"ticks\": \"\"}, \"type\": \"contourcarpet\"}], \"heatmap\": [{\"colorbar\": {\"outlinewidth\": 0, \"ticks\": \"\"}, \"colorscale\": [[0.0, \"#0d0887\"], [0.1111111111111111, \"#46039f\"], [0.2222222222222222, \"#7201a8\"], [0.3333333333333333, \"#9c179e\"], [0.4444444444444444, \"#bd3786\"], [0.5555555555555556, \"#d8576b\"], [0.6666666666666666, \"#ed7953\"], [0.7777777777777778, \"#fb9f3a\"], [0.8888888888888888, \"#fdca26\"], [1.0, \"#f0f921\"]], \"type\": \"heatmap\"}], \"heatmapgl\": [{\"colorbar\": {\"outlinewidth\": 0, \"ticks\": \"\"}, \"colorscale\": [[0.0, \"#0d0887\"], [0.1111111111111111, \"#46039f\"], [0.2222222222222222, \"#7201a8\"], [0.3333333333333333, \"#9c179e\"], [0.4444444444444444, \"#bd3786\"], [0.5555555555555556, \"#d8576b\"], [0.6666666666666666, \"#ed7953\"], [0.7777777777777778, \"#fb9f3a\"], [0.8888888888888888, \"#fdca26\"], [1.0, \"#f0f921\"]], \"type\": \"heatmapgl\"}], \"histogram\": [{\"marker\": {\"colorbar\": {\"outlinewidth\": 0, \"ticks\": \"\"}}, \"type\": \"histogram\"}], \"histogram2d\": [{\"colorbar\": {\"outlinewidth\": 0, \"ticks\": \"\"}, \"colorscale\": [[0.0, \"#0d0887\"], [0.1111111111111111, \"#46039f\"], [0.2222222222222222, \"#7201a8\"], [0.3333333333333333, \"#9c179e\"], [0.4444444444444444, \"#bd3786\"], [0.5555555555555556, \"#d8576b\"], [0.6666666666666666, \"#ed7953\"], [0.7777777777777778, \"#fb9f3a\"], [0.8888888888888888, \"#fdca26\"], [1.0, \"#f0f921\"]], \"type\": \"histogram2d\"}], \"histogram2dcontour\": [{\"colorbar\": {\"outlinewidth\": 0, \"ticks\": \"\"}, \"colorscale\": [[0.0, \"#0d0887\"], [0.1111111111111111, \"#46039f\"], [0.2222222222222222, \"#7201a8\"], [0.3333333333333333, \"#9c179e\"], [0.4444444444444444, \"#bd3786\"], [0.5555555555555556, \"#d8576b\"], [0.6666666666666666, \"#ed7953\"], [0.7777777777777778, \"#fb9f3a\"], [0.8888888888888888, \"#fdca26\"], [1.0, \"#f0f921\"]], \"type\": \"histogram2dcontour\"}], \"mesh3d\": [{\"colorbar\": {\"outlinewidth\": 0, \"ticks\": \"\"}, \"type\": \"mesh3d\"}], \"parcoords\": [{\"line\": {\"colorbar\": {\"outlinewidth\": 0, \"ticks\": \"\"}}, \"type\": \"parcoords\"}], \"pie\": [{\"automargin\": true, \"type\": \"pie\"}], \"scatter\": [{\"marker\": {\"colorbar\": {\"outlinewidth\": 0, \"ticks\": \"\"}}, \"type\": \"scatter\"}], \"scatter3d\": [{\"line\": {\"colorbar\": {\"outlinewidth\": 0, \"ticks\": \"\"}}, \"marker\": {\"colorbar\": {\"outlinewidth\": 0, \"ticks\": \"\"}}, \"type\": \"scatter3d\"}], \"scattercarpet\": [{\"marker\": {\"colorbar\": {\"outlinewidth\": 0, \"ticks\": \"\"}}, \"type\": \"scattercarpet\"}], \"scattergeo\": [{\"marker\": {\"colorbar\": {\"outlinewidth\": 0, \"ticks\": \"\"}}, \"type\": \"scattergeo\"}], \"scattergl\": [{\"marker\": {\"colorbar\": {\"outlinewidth\": 0, \"ticks\": \"\"}}, \"type\": \"scattergl\"}], \"scattermapbox\": [{\"marker\": {\"colorbar\": {\"outlinewidth\": 0, \"ticks\": \"\"}}, \"type\": \"scattermapbox\"}], \"scatterpolar\": [{\"marker\": {\"colorbar\": {\"outlinewidth\": 0, \"ticks\": \"\"}}, \"type\": \"scatterpolar\"}], \"scatterpolargl\": [{\"marker\": {\"colorbar\": {\"outlinewidth\": 0, \"ticks\": \"\"}}, \"type\": \"scatterpolargl\"}], \"scatterternary\": [{\"marker\": {\"colorbar\": {\"outlinewidth\": 0, \"ticks\": \"\"}}, \"type\": \"scatterternary\"}], \"surface\": [{\"colorbar\": {\"outlinewidth\": 0, \"ticks\": \"\"}, \"colorscale\": [[0.0, \"#0d0887\"], [0.1111111111111111, \"#46039f\"], [0.2222222222222222, \"#7201a8\"], [0.3333333333333333, \"#9c179e\"], [0.4444444444444444, \"#bd3786\"], [0.5555555555555556, \"#d8576b\"], [0.6666666666666666, \"#ed7953\"], [0.7777777777777778, \"#fb9f3a\"], [0.8888888888888888, \"#fdca26\"], [1.0, \"#f0f921\"]], \"type\": \"surface\"}], \"table\": [{\"cells\": {\"fill\": {\"color\": \"#EBF0F8\"}, \"line\": {\"color\": \"white\"}}, \"header\": {\"fill\": {\"color\": \"#C8D4E3\"}, \"line\": {\"color\": \"white\"}}, \"type\": \"table\"}]}, \"layout\": {\"annotationdefaults\": {\"arrowcolor\": \"#2a3f5f\", \"arrowhead\": 0, \"arrowwidth\": 1}, \"coloraxis\": {\"colorbar\": {\"outlinewidth\": 0, \"ticks\": \"\"}}, \"colorscale\": {\"diverging\": [[0, \"#8e0152\"], [0.1, \"#c51b7d\"], [0.2, \"#de77ae\"], [0.3, \"#f1b6da\"], [0.4, \"#fde0ef\"], [0.5, \"#f7f7f7\"], [0.6, \"#e6f5d0\"], [0.7, \"#b8e186\"], [0.8, \"#7fbc41\"], [0.9, \"#4d9221\"], [1, \"#276419\"]], \"sequential\": [[0.0, \"#0d0887\"], [0.1111111111111111, \"#46039f\"], [0.2222222222222222, \"#7201a8\"], [0.3333333333333333, \"#9c179e\"], [0.4444444444444444, \"#bd3786\"], [0.5555555555555556, \"#d8576b\"], [0.6666666666666666, \"#ed7953\"], [0.7777777777777778, \"#fb9f3a\"], [0.8888888888888888, \"#fdca26\"], [1.0, \"#f0f921\"]], \"sequentialminus\": [[0.0, \"#0d0887\"], [0.1111111111111111, \"#46039f\"], [0.2222222222222222, \"#7201a8\"], [0.3333333333333333, \"#9c179e\"], [0.4444444444444444, \"#bd3786\"], [0.5555555555555556, \"#d8576b\"], [0.6666666666666666, \"#ed7953\"], [0.7777777777777778, \"#fb9f3a\"], [0.8888888888888888, \"#fdca26\"], [1.0, \"#f0f921\"]]}, \"colorway\": [\"#636efa\", \"#EF553B\", \"#00cc96\", \"#ab63fa\", \"#FFA15A\", \"#19d3f3\", \"#FF6692\", \"#B6E880\", \"#FF97FF\", \"#FECB52\"], \"font\": {\"color\": \"#2a3f5f\"}, \"geo\": {\"bgcolor\": \"white\", \"lakecolor\": \"white\", \"landcolor\": \"#E5ECF6\", \"showlakes\": true, \"showland\": true, \"subunitcolor\": \"white\"}, \"hoverlabel\": {\"align\": \"left\"}, \"hovermode\": \"closest\", \"mapbox\": {\"style\": \"light\"}, \"paper_bgcolor\": \"white\", \"plot_bgcolor\": \"#E5ECF6\", \"polar\": {\"angularaxis\": {\"gridcolor\": \"white\", \"linecolor\": \"white\", \"ticks\": \"\"}, \"bgcolor\": \"#E5ECF6\", \"radialaxis\": {\"gridcolor\": \"white\", \"linecolor\": \"white\", \"ticks\": \"\"}}, \"scene\": {\"xaxis\": {\"backgroundcolor\": \"#E5ECF6\", \"gridcolor\": \"white\", \"gridwidth\": 2, \"linecolor\": \"white\", \"showbackground\": true, \"ticks\": \"\", \"zerolinecolor\": \"white\"}, \"yaxis\": {\"backgroundcolor\": \"#E5ECF6\", \"gridcolor\": \"white\", \"gridwidth\": 2, \"linecolor\": \"white\", \"showbackground\": true, \"ticks\": \"\", \"zerolinecolor\": \"white\"}, \"zaxis\": {\"backgroundcolor\": \"#E5ECF6\", \"gridcolor\": \"white\", \"gridwidth\": 2, \"linecolor\": \"white\", \"showbackground\": true, \"ticks\": \"\", \"zerolinecolor\": \"white\"}}, \"shapedefaults\": {\"line\": {\"color\": \"#2a3f5f\"}}, \"ternary\": {\"aaxis\": {\"gridcolor\": \"white\", \"linecolor\": \"white\", \"ticks\": \"\"}, \"baxis\": {\"gridcolor\": \"white\", \"linecolor\": \"white\", \"ticks\": \"\"}, \"bgcolor\": \"#E5ECF6\", \"caxis\": {\"gridcolor\": \"white\", \"linecolor\": \"white\", \"ticks\": \"\"}}, \"title\": {\"x\": 0.05}, \"xaxis\": {\"automargin\": true, \"gridcolor\": \"white\", \"linecolor\": \"white\", \"ticks\": \"\", \"title\": {\"standoff\": 15}, \"zerolinecolor\": \"white\", \"zerolinewidth\": 2}, \"yaxis\": {\"automargin\": true, \"gridcolor\": \"white\", \"linecolor\": \"white\", \"ticks\": \"\", \"title\": {\"standoff\": 15}, \"zerolinecolor\": \"white\", \"zerolinewidth\": 2}}}, \"title\": {\"font\": {\"size\": 20}, \"text\": \"Sample_ID: TailoredTAG18-1_O3on_RBDCanola0.0005mgmL_020723\"}, \"uniformtext\": {\"minsize\": 18, \"mode\": \"hide\"}, \"xaxis\": {\"anchor\": \"y\", \"domain\": [0.0, 1.0], \"title\": {\"font\": {\"size\": 16}, \"text\": \"Lipid\"}}, \"yaxis\": {\"anchor\": \"x\", \"domain\": [0.0, 1.0], \"tickfont\": {\"size\": 16}, \"title\": {\"font\": {\"size\": 16}, \"text\": \"Ratios\"}}},                        {\"responsive\": true}                    ).then(function(){\n",
       "                            \n",
       "var gd = document.getElementById('ee66fa30-d8c9-4154-8036-16716de00f3d');\n",
       "var x = new MutationObserver(function (mutations, observer) {{\n",
       "        var display = window.getComputedStyle(gd).display;\n",
       "        if (!display || display === 'none') {{\n",
       "            console.log([gd, 'removed!']);\n",
       "            Plotly.purge(gd);\n",
       "            observer.disconnect();\n",
       "        }}\n",
       "}});\n",
       "\n",
       "// Listen for the removal of the full notebook cells\n",
       "var notebookContainer = gd.closest('#notebook-container');\n",
       "if (notebookContainer) {{\n",
       "    x.observe(notebookContainer, {childList: true});\n",
       "}}\n",
       "\n",
       "// Listen for the clearing of the current output cell\n",
       "var outputEl = gd.closest('.output');\n",
       "if (outputEl) {{\n",
       "    x.observe(outputEl, {childList: true});\n",
       "}}\n",
       "\n",
       "                        })                };                });            </script>        </div>"
      ]
     },
     "metadata": {},
     "output_type": "display_data"
    }
   ],
   "source": [
    "import plotly.express as px\n",
    "import os\n",
    "\n",
    "# Create the \"Plots\" directory if it doesn't exist\n",
    "os.makedirs(\"Projects/canola/plots/\", exist_ok=True)\n",
    "\n",
    "#name of the folder to save plots\n",
    "project_plots = \"Projects/canola/plots/\"\n",
    "\n",
    "# Define color mappings for Lipid patterns\n",
    "color_mapping = {\n",
    "    '50': 'red',\n",
    "    '51': 'brown',\n",
    "    '52': 'blue',\n",
    "    '53': 'purple',\n",
    "    '54': 'green',\n",
    "}\n",
    "\n",
    "# Get the unique Sample_IDs\n",
    "sample_ids = df_matched_4d['Sample_ID'].unique()\n",
    "\n",
    "# Loop over the unique Sample_IDs\n",
    "for sample_id in sample_ids:\n",
    "    \n",
    "    # Filter the dataframe for the current Sample_ID\n",
    "    df_sample = df_matched_4d[df_matched_4d['Sample_ID'] == sample_id]\n",
    "    \n",
    "    # Assign colors to Lipids based on patterns\n",
    "    lipid_colors = []\n",
    "    for lipid in df_sample['Lipid']:\n",
    "        color = 'gray'  # Default color\n",
    "        for pattern, pattern_color in color_mapping.items():\n",
    "            if pattern in lipid:\n",
    "                color = pattern_color\n",
    "                break\n",
    "        lipid_colors.append(color)\n",
    "    \n",
    "    # Create the bar plot\n",
    "    fig = px.bar(df_sample, x='Lipid', y='Ratios', text='Ratios', title=f'Bar Plot for Sample_ID: {sample_id}',\n",
    "                 color_discrete_map=color_mapping)\n",
    "    \n",
    "    # Apply colors to the bars\n",
    "    fig.update_traces(\n",
    "        marker_color=lipid_colors,\n",
    "        texttemplate='%{text:.2f}',\n",
    "        textposition='auto',\n",
    "        marker_line_width=0\n",
    "    )\n",
    "    \n",
    "    # Customize the layout\n",
    "    fig.update_layout(\n",
    "        uniformtext_minsize=18,\n",
    "        uniformtext_mode='hide',\n",
    "        xaxis=dict(\n",
    "            title='Lipid',\n",
    "            titlefont=dict(size=16)\n",
    "        ),\n",
    "        yaxis=dict(\n",
    "            title='Ratios',\n",
    "            titlefont=dict(size=16),\n",
    "            tickfont=dict(size=16)  # Set the font size of y-axis labels\n",
    "        ),\n",
    "        legend=dict(\n",
    "            title='Lipid Patterns',\n",
    "            tracegroupgap=50,\n",
    "            itemsizing='constant'\n",
    "        ),\n",
    "        title=dict(\n",
    "            text=f'Sample_ID: {sample_id}',\n",
    "            font=dict(size=20)  # Set the title font size\n",
    "        )\n",
    "    )\n",
    "    # Save the plot as an image\n",
    "    file_name = project_plots + f\"/plot_{sample_id}.png\"\n",
    "\n",
    "    # Check if the file already exists\n",
    "    index = 1\n",
    "    while os.path.exists(file_name):\n",
    "        file_name = project_plots + f\"/plot_{sample_id}_{index}.png\"\n",
    "        index += 1\n",
    "\n",
    "    fig.write_image(file_name)\n",
    "    # Show plot\n",
    "    fig.show()\n"
   ]
  },
  {
   "cell_type": "code",
   "execution_count": 63,
   "metadata": {},
   "outputs": [],
   "source": [
    "#########################"
   ]
  },
  {
   "cell_type": "code",
   "execution_count": 64,
   "metadata": {},
   "outputs": [],
   "source": [
    "##########################\n",
    "##########################\n",
    "##########################\n",
    "##########################\n",
    "##########################\n",
    "##########################"
   ]
  },
  {
   "attachments": {},
   "cell_type": "markdown",
   "metadata": {},
   "source": [
    "Caitlin Data"
   ]
  },
  {
   "cell_type": "code",
   "execution_count": 65,
   "metadata": {},
   "outputs": [
    {
     "data": {
      "text/html": [
       "<div>\n",
       "<style scoped>\n",
       "    .dataframe tbody tr th:only-of-type {\n",
       "        vertical-align: middle;\n",
       "    }\n",
       "\n",
       "    .dataframe tbody tr th {\n",
       "        vertical-align: top;\n",
       "    }\n",
       "\n",
       "    .dataframe thead th {\n",
       "        text-align: right;\n",
       "    }\n",
       "</style>\n",
       "<table border=\"1\" class=\"dataframe\">\n",
       "  <thead>\n",
       "    <tr style=\"text-align: right;\">\n",
       "      <th></th>\n",
       "      <th>Lipid</th>\n",
       "      <th>MRM Identity</th>\n",
       "      <th>MRM Transition</th>\n",
       "      <th>RT</th>\n",
       "      <th>Relative Abundance %</th>\n",
       "      <th>n-9 isomer %</th>\n",
       "      <th>n-7 isomer %</th>\n",
       "      <th>Ratios</th>\n",
       "      <th>Sample_ID</th>\n",
       "    </tr>\n",
       "  </thead>\n",
       "  <tbody>\n",
       "    <tr>\n",
       "      <th>0</th>\n",
       "      <td>TG 50:1</td>\n",
       "      <td>TG 50:1_FA 18:1</td>\n",
       "      <td>850.8→551.6</td>\n",
       "      <td>15</td>\n",
       "      <td>16.441215</td>\n",
       "      <td>67.910997</td>\n",
       "      <td>32.089003</td>\n",
       "      <td>2.116332</td>\n",
       "      <td>DOD93 5xFAD F4 Hippocampus</td>\n",
       "    </tr>\n",
       "    <tr>\n",
       "      <th>1</th>\n",
       "      <td>TG 50:2</td>\n",
       "      <td>TG 50:2_FA 18:1</td>\n",
       "      <td>850.8→549.6</td>\n",
       "      <td>13.8</td>\n",
       "      <td>4.155703</td>\n",
       "      <td>76.970166</td>\n",
       "      <td>23.029834</td>\n",
       "      <td>3.342194</td>\n",
       "      <td>DOD93 5xFAD F4 Hippocampus</td>\n",
       "    </tr>\n",
       "    <tr>\n",
       "      <th>2</th>\n",
       "      <td>TG 50:3</td>\n",
       "      <td>TG 50:3_FA 18:1</td>\n",
       "      <td>846.8→547.6</td>\n",
       "      <td>12.5</td>\n",
       "      <td>0.375821</td>\n",
       "      <td>NaN</td>\n",
       "      <td>NaN</td>\n",
       "      <td>NaN</td>\n",
       "      <td>DOD93 5xFAD F4 Hippocampus</td>\n",
       "    </tr>\n",
       "    <tr>\n",
       "      <th>3</th>\n",
       "      <td>TG 52:2</td>\n",
       "      <td>TG 52:2_FA 18:1</td>\n",
       "      <td>876.8→547.6</td>\n",
       "      <td>14.8</td>\n",
       "      <td>41.588725</td>\n",
       "      <td>69.849531</td>\n",
       "      <td>30.150469</td>\n",
       "      <td>2.316698</td>\n",
       "      <td>DOD93 5xFAD F4 Hippocampus</td>\n",
       "    </tr>\n",
       "    <tr>\n",
       "      <th>4</th>\n",
       "      <td>TG 52:3</td>\n",
       "      <td>TG 52:3_FA 18:1</td>\n",
       "      <td>874.8→575.6</td>\n",
       "      <td>13.7</td>\n",
       "      <td>7.943199</td>\n",
       "      <td>77.032611</td>\n",
       "      <td>22.967389</td>\n",
       "      <td>3.354000</td>\n",
       "      <td>DOD93 5xFAD F4 Hippocampus</td>\n",
       "    </tr>\n",
       "    <tr>\n",
       "      <th>...</th>\n",
       "      <td>...</td>\n",
       "      <td>...</td>\n",
       "      <td>...</td>\n",
       "      <td>...</td>\n",
       "      <td>...</td>\n",
       "      <td>...</td>\n",
       "      <td>...</td>\n",
       "      <td>...</td>\n",
       "      <td>...</td>\n",
       "    </tr>\n",
       "    <tr>\n",
       "      <th>112</th>\n",
       "      <td>TG 52:3</td>\n",
       "      <td>TG 52:3_FA 18:1</td>\n",
       "      <td>874.8→575.6</td>\n",
       "      <td>13.7</td>\n",
       "      <td>12.187151</td>\n",
       "      <td>87.409386</td>\n",
       "      <td>12.590614</td>\n",
       "      <td>6.942424</td>\n",
       "      <td>FAD 184 F4 WT Cerebellum</td>\n",
       "    </tr>\n",
       "    <tr>\n",
       "      <th>113</th>\n",
       "      <td>TG 52:4</td>\n",
       "      <td>TG 52:4_FA 18:1</td>\n",
       "      <td>872.8→573.6</td>\n",
       "      <td>nd</td>\n",
       "      <td>1.459308</td>\n",
       "      <td>NaN</td>\n",
       "      <td>NaN</td>\n",
       "      <td>NaN</td>\n",
       "      <td>FAD 184 F4 WT Cerebellum</td>\n",
       "    </tr>\n",
       "    <tr>\n",
       "      <th>114</th>\n",
       "      <td>TG 54:3</td>\n",
       "      <td>TG 54:3_FA 18:1</td>\n",
       "      <td>902.8→603.6</td>\n",
       "      <td>14.7</td>\n",
       "      <td>22.415748</td>\n",
       "      <td>88.152261</td>\n",
       "      <td>11.847739</td>\n",
       "      <td>7.440429</td>\n",
       "      <td>FAD 184 F4 WT Cerebellum</td>\n",
       "    </tr>\n",
       "    <tr>\n",
       "      <th>115</th>\n",
       "      <td>TG 54:4</td>\n",
       "      <td>TG 54:4_FA 18:1</td>\n",
       "      <td>900.8→601.6</td>\n",
       "      <td>13.5</td>\n",
       "      <td>10.833710</td>\n",
       "      <td>100.000000</td>\n",
       "      <td>0.000000</td>\n",
       "      <td>NaN</td>\n",
       "      <td>FAD 184 F4 WT Cerebellum</td>\n",
       "    </tr>\n",
       "    <tr>\n",
       "      <th>116</th>\n",
       "      <td>TG 54:5</td>\n",
       "      <td>TG 54:5_FA 18:1</td>\n",
       "      <td>898.8→599.6</td>\n",
       "      <td>12.4</td>\n",
       "      <td>2.568531</td>\n",
       "      <td>100.000000</td>\n",
       "      <td>0.000000</td>\n",
       "      <td>NaN</td>\n",
       "      <td>FAD 184 F4 WT Cerebellum</td>\n",
       "    </tr>\n",
       "  </tbody>\n",
       "</table>\n",
       "<p>117 rows × 9 columns</p>\n",
       "</div>"
      ],
      "text/plain": [
       "       Lipid     MRM Identity MRM Transition    RT  Relative Abundance %  \\\n",
       "0    TG 50:1  TG 50:1_FA 18:1    850.8→551.6    15             16.441215   \n",
       "1    TG 50:2  TG 50:2_FA 18:1    850.8→549.6  13.8              4.155703   \n",
       "2    TG 50:3  TG 50:3_FA 18:1    846.8→547.6  12.5              0.375821   \n",
       "3    TG 52:2  TG 52:2_FA 18:1    876.8→547.6  14.8             41.588725   \n",
       "4    TG 52:3  TG 52:3_FA 18:1    874.8→575.6  13.7              7.943199   \n",
       "..       ...              ...            ...   ...                   ...   \n",
       "112  TG 52:3  TG 52:3_FA 18:1    874.8→575.6  13.7             12.187151   \n",
       "113  TG 52:4  TG 52:4_FA 18:1    872.8→573.6    nd              1.459308   \n",
       "114  TG 54:3  TG 54:3_FA 18:1    902.8→603.6  14.7             22.415748   \n",
       "115  TG 54:4  TG 54:4_FA 18:1    900.8→601.6  13.5             10.833710   \n",
       "116  TG 54:5  TG 54:5_FA 18:1    898.8→599.6  12.4              2.568531   \n",
       "\n",
       "     n-9 isomer %  n-7 isomer %    Ratios                   Sample_ID  \n",
       "0       67.910997     32.089003  2.116332  DOD93 5xFAD F4 Hippocampus  \n",
       "1       76.970166     23.029834  3.342194  DOD93 5xFAD F4 Hippocampus  \n",
       "2             NaN           NaN       NaN  DOD93 5xFAD F4 Hippocampus  \n",
       "3       69.849531     30.150469  2.316698  DOD93 5xFAD F4 Hippocampus  \n",
       "4       77.032611     22.967389  3.354000  DOD93 5xFAD F4 Hippocampus  \n",
       "..            ...           ...       ...                         ...  \n",
       "112     87.409386     12.590614  6.942424  FAD 184 F4 WT Cerebellum    \n",
       "113           NaN           NaN       NaN  FAD 184 F4 WT Cerebellum    \n",
       "114     88.152261     11.847739  7.440429  FAD 184 F4 WT Cerebellum    \n",
       "115    100.000000      0.000000       NaN  FAD 184 F4 WT Cerebellum    \n",
       "116    100.000000      0.000000       NaN  FAD 184 F4 WT Cerebellum    \n",
       "\n",
       "[117 rows x 9 columns]"
      ]
     },
     "execution_count": 65,
     "metadata": {},
     "output_type": "execute_result"
    }
   ],
   "source": [
    "import pandas as pd\n",
    "\n",
    "\n",
    "val_df = pd.read_excel(\"Caitlin.xlsx\", header=1)\n",
    "val_df = val_df.rename(columns={'Ratio n-9/n-7': 'Ratios'})\n",
    "val_df.head(None)"
   ]
  },
  {
   "cell_type": "code",
   "execution_count": 66,
   "metadata": {},
   "outputs": [
    {
     "data": {
      "application/vnd.plotly.v1+json": {
       "config": {
        "plotlyServerURL": "https://plot.ly"
       },
       "data": [
        {
         "customdata": [
          [
           "DOD93 5xFAD F4 Hippocampus"
          ],
          [
           "DOD93 5xFAD F4 Hippocampus"
          ],
          [
           "DOD93 5xFAD F4 Hippocampus"
          ],
          [
           "DOD93 5xFAD F4 Hippocampus"
          ],
          [
           "DOD93 5xFAD F4 Hippocampus"
          ],
          [
           "DOD93 5xFAD F4 Hippocampus"
          ],
          [
           "DOD93 5xFAD F4 Hippocampus"
          ],
          [
           "DOD93 5xFAD F4 Hippocampus"
          ],
          [
           "DOD93 5xFAD F4 Hippocampus"
          ],
          [
           "DOD93 5xFAD F4 Hippocampus"
          ],
          [
           "DOD93 5xFAD F4 Hippocampus"
          ],
          [
           "DOD93 5xFAD F4 Hippocampus"
          ],
          [
           "DOD93 5xFAD F4 Hippocampus"
          ],
          [
           "DOD93 5xFAD F4 Hippocampus"
          ],
          [
           "DOD93 5xFAD F4 Hippocampus"
          ],
          [
           "DOD93 5xFAD F4 Hippocampus"
          ],
          [
           "DOD93 5xFAD F4 Hippocampus"
          ],
          [
           "DOD93 5xFAD F4 Hippocampus"
          ]
         ],
         "hovertemplate": "Sample_ID=%{customdata[0]}<br>Lipid=%{x}<br>Ratios=%{y}<extra></extra>",
         "legendgroup": "DOD93 5xFAD F4 Hippocampus",
         "marker": {
          "color": "#636efa",
          "symbol": "circle"
         },
         "mode": "markers",
         "name": "DOD93 5xFAD F4 Hippocampus",
         "orientation": "v",
         "showlegend": true,
         "type": "scatter",
         "x": [
          "TG 50:1",
          "TG 50:2",
          "TG 50:3",
          "TG 52:2",
          "TG 52:3",
          "TG 52:4",
          "TG 54:3",
          "TG 54:4",
          "TG 54:5",
          "TG 50:1",
          "TG 50:2",
          "TG 50:3",
          "TG 52:2",
          "TG 52:3",
          "TG 52:4",
          "TG 54:3",
          "TG 54:4",
          "TG 54:5"
         ],
         "xaxis": "x",
         "y": [
          2.1163323793294304,
          3.3421936763146727,
          null,
          2.3166980445187626,
          3.353999522608713,
          null,
          3.0235108920627423,
          5.131522634196937,
          null,
          2.1163323793294304,
          3.3421936763146727,
          null,
          2.3166980445187626,
          3.353999522608713,
          null,
          3.0235108920627423,
          5.131522634196937,
          null
         ],
         "yaxis": "y"
        },
        {
         "customdata": [
          [
           "DOD93 5xFAD F4 Cortex"
          ],
          [
           "DOD93 5xFAD F4 Cortex"
          ],
          [
           "DOD93 5xFAD F4 Cortex"
          ],
          [
           "DOD93 5xFAD F4 Cortex"
          ],
          [
           "DOD93 5xFAD F4 Cortex"
          ],
          [
           "DOD93 5xFAD F4 Cortex"
          ],
          [
           "DOD93 5xFAD F4 Cortex"
          ],
          [
           "DOD93 5xFAD F4 Cortex"
          ],
          [
           "DOD93 5xFAD F4 Cortex"
          ],
          [
           "DOD93 5xFAD F4 Cortex"
          ],
          [
           "DOD93 5xFAD F4 Cortex"
          ],
          [
           "DOD93 5xFAD F4 Cortex"
          ],
          [
           "DOD93 5xFAD F4 Cortex"
          ],
          [
           "DOD93 5xFAD F4 Cortex"
          ],
          [
           "DOD93 5xFAD F4 Cortex"
          ],
          [
           "DOD93 5xFAD F4 Cortex"
          ],
          [
           "DOD93 5xFAD F4 Cortex"
          ],
          [
           "DOD93 5xFAD F4 Cortex"
          ]
         ],
         "hovertemplate": "Sample_ID=%{customdata[0]}<br>Lipid=%{x}<br>Ratios=%{y}<extra></extra>",
         "legendgroup": "DOD93 5xFAD F4 Cortex",
         "marker": {
          "color": "#EF553B",
          "symbol": "circle"
         },
         "mode": "markers",
         "name": "DOD93 5xFAD F4 Cortex",
         "orientation": "v",
         "showlegend": true,
         "type": "scatter",
         "x": [
          "TG 50:1",
          "TG 50:2",
          "TG 50:3",
          "TG 52:2",
          "TG 52:3",
          "TG 52:4",
          "TG 54:3",
          "TG 54:4",
          "TG 54:5",
          "TG 50:1",
          "TG 50:2",
          "TG 50:3",
          "TG 52:2",
          "TG 52:3",
          "TG 52:4",
          "TG 54:3",
          "TG 54:4",
          "TG 54:5"
         ],
         "xaxis": "x",
         "y": [
          1.6105784166788724,
          2.219974461472332,
          3.948943105555783,
          1.624051229929429,
          3.6649011414513977,
          3.516210449418701,
          2.5592627777116874,
          3.9336404840297563,
          5.099444811259985,
          1.6105784166788724,
          2.219974461472332,
          3.948943105555783,
          1.624051229929429,
          3.6649011414513977,
          3.516210449418701,
          2.5592627777116874,
          3.9336404840297563,
          5.099444811259985
         ],
         "yaxis": "y"
        },
        {
         "customdata": [
          [
           "DOD93 5xFAD F4 Cerebellum"
          ],
          [
           "DOD93 5xFAD F4 Cerebellum"
          ],
          [
           "DOD93 5xFAD F4 Cerebellum"
          ],
          [
           "DOD93 5xFAD F4 Cerebellum"
          ],
          [
           "DOD93 5xFAD F4 Cerebellum"
          ],
          [
           "DOD93 5xFAD F4 Cerebellum"
          ],
          [
           "DOD93 5xFAD F4 Cerebellum"
          ],
          [
           "DOD93 5xFAD F4 Cerebellum"
          ],
          [
           "DOD93 5xFAD F4 Cerebellum"
          ],
          [
           "DOD93 5xFAD F4 Cerebellum"
          ],
          [
           "DOD93 5xFAD F4 Cerebellum"
          ],
          [
           "DOD93 5xFAD F4 Cerebellum"
          ],
          [
           "DOD93 5xFAD F4 Cerebellum"
          ],
          [
           "DOD93 5xFAD F4 Cerebellum"
          ],
          [
           "DOD93 5xFAD F4 Cerebellum"
          ],
          [
           "DOD93 5xFAD F4 Cerebellum"
          ],
          [
           "DOD93 5xFAD F4 Cerebellum"
          ],
          [
           "DOD93 5xFAD F4 Cerebellum"
          ]
         ],
         "hovertemplate": "Sample_ID=%{customdata[0]}<br>Lipid=%{x}<br>Ratios=%{y}<extra></extra>",
         "legendgroup": "DOD93 5xFAD F4 Cerebellum",
         "marker": {
          "color": "#00cc96",
          "symbol": "circle"
         },
         "mode": "markers",
         "name": "DOD93 5xFAD F4 Cerebellum",
         "orientation": "v",
         "showlegend": true,
         "type": "scatter",
         "x": [
          "TG 50:1",
          "TG 50:2",
          "TG 50:3",
          "TG 52:2",
          "TG 52:3",
          "TG 52:4",
          "TG 54:3",
          "TG 54:4",
          "TG 54:5",
          "TG 50:1",
          "TG 50:2",
          "TG 50:3",
          "TG 52:2",
          "TG 52:3",
          "TG 52:4",
          "TG 54:3",
          "TG 54:4",
          "TG 54:5"
         ],
         "xaxis": "x",
         "y": [
          1.5593711189938348,
          2.7294086171756966,
          null,
          3.356326940114094,
          2.1311440119462732,
          3.6616922914988357,
          4.948865501365834,
          3.052918895640348,
          3.855982717707711,
          1.5593711189938348,
          2.7294086171756966,
          null,
          3.356326940114094,
          2.1311440119462732,
          3.6616922914988357,
          4.948865501365834,
          3.052918895640348,
          3.855982717707711
         ],
         "yaxis": "y"
        },
        {
         "customdata": [
          [
           "DOD93 5xFAD F4 Diencephalon "
          ],
          [
           "DOD93 5xFAD F4 Diencephalon "
          ],
          [
           "DOD93 5xFAD F4 Diencephalon "
          ],
          [
           "DOD93 5xFAD F4 Diencephalon "
          ],
          [
           "DOD93 5xFAD F4 Diencephalon "
          ],
          [
           "DOD93 5xFAD F4 Diencephalon "
          ],
          [
           "DOD93 5xFAD F4 Diencephalon "
          ],
          [
           "DOD93 5xFAD F4 Diencephalon "
          ],
          [
           "DOD93 5xFAD F4 Diencephalon "
          ],
          [
           "DOD93 5xFAD F4 Diencephalon "
          ],
          [
           "DOD93 5xFAD F4 Diencephalon "
          ],
          [
           "DOD93 5xFAD F4 Diencephalon "
          ],
          [
           "DOD93 5xFAD F4 Diencephalon "
          ],
          [
           "DOD93 5xFAD F4 Diencephalon "
          ],
          [
           "DOD93 5xFAD F4 Diencephalon "
          ],
          [
           "DOD93 5xFAD F4 Diencephalon "
          ],
          [
           "DOD93 5xFAD F4 Diencephalon "
          ],
          [
           "DOD93 5xFAD F4 Diencephalon "
          ]
         ],
         "hovertemplate": "Sample_ID=%{customdata[0]}<br>Lipid=%{x}<br>Ratios=%{y}<extra></extra>",
         "legendgroup": "DOD93 5xFAD F4 Diencephalon ",
         "marker": {
          "color": "#ab63fa",
          "symbol": "circle"
         },
         "mode": "markers",
         "name": "DOD93 5xFAD F4 Diencephalon ",
         "orientation": "v",
         "showlegend": true,
         "type": "scatter",
         "x": [
          "TG 50:1",
          "TG 50:2",
          "TG 50:3",
          "TG 52:2",
          "TG 52:3",
          "TG 52:4",
          "TG 54:3",
          "TG 54:4",
          "TG 54:5",
          "TG 50:1",
          "TG 50:2",
          "TG 50:3",
          "TG 52:2",
          "TG 52:3",
          "TG 52:4",
          "TG 54:3",
          "TG 54:4",
          "TG 54:5"
         ],
         "xaxis": "x",
         "y": [
          2.0046844085080786,
          1.9238847981245661,
          null,
          4.3776455233724345,
          3.532118946788613,
          null,
          4.778272241566666,
          1.9435391132576956,
          3.2249871252220705,
          2.0046844085080786,
          1.9238847981245661,
          null,
          4.3776455233724345,
          3.532118946788613,
          null,
          4.778272241566666,
          1.9435391132576956,
          3.2249871252220705
         ],
         "yaxis": "y"
        },
        {
         "customdata": [
          [
           "DOD94 WT F3 Hippocampus"
          ],
          [
           "DOD94 WT F3 Hippocampus"
          ],
          [
           "DOD94 WT F3 Hippocampus"
          ],
          [
           "DOD94 WT F3 Hippocampus"
          ],
          [
           "DOD94 WT F3 Hippocampus"
          ],
          [
           "DOD94 WT F3 Hippocampus"
          ],
          [
           "DOD94 WT F3 Hippocampus"
          ],
          [
           "DOD94 WT F3 Hippocampus"
          ],
          [
           "DOD94 WT F3 Hippocampus"
          ]
         ],
         "hovertemplate": "Sample_ID=%{customdata[0]}<br>Lipid=%{x}<br>Ratios=%{y}<extra></extra>",
         "legendgroup": "DOD94 WT F3 Hippocampus",
         "marker": {
          "color": "#FFA15A",
          "symbol": "circle"
         },
         "mode": "markers",
         "name": "DOD94 WT F3 Hippocampus",
         "orientation": "v",
         "showlegend": true,
         "type": "scatter",
         "x": [
          "TG 50:1",
          "TG 50:2",
          "TG 50:3",
          "TG 52:2",
          "TG 52:3",
          "TG 52:4",
          "TG 54:3",
          "TG 54:4",
          "TG 54:5"
         ],
         "xaxis": "x",
         "y": [
          4.702885909968975,
          1.3293839396079512,
          null,
          5.43494316451606,
          5.8530336662967075,
          null,
          4.452414653093336,
          null,
          null
         ],
         "yaxis": "y"
        },
        {
         "customdata": [
          [
           "DOD94 WT F3 Cortex"
          ],
          [
           "DOD94 WT F3 Cortex"
          ],
          [
           "DOD94 WT F3 Cortex"
          ],
          [
           "DOD94 WT F3 Cortex"
          ],
          [
           "DOD94 WT F3 Cortex"
          ],
          [
           "DOD94 WT F3 Cortex"
          ],
          [
           "DOD94 WT F3 Cortex"
          ],
          [
           "DOD94 WT F3 Cortex"
          ],
          [
           "DOD94 WT F3 Cortex"
          ]
         ],
         "hovertemplate": "Sample_ID=%{customdata[0]}<br>Lipid=%{x}<br>Ratios=%{y}<extra></extra>",
         "legendgroup": "DOD94 WT F3 Cortex",
         "marker": {
          "color": "#19d3f3",
          "symbol": "circle"
         },
         "mode": "markers",
         "name": "DOD94 WT F3 Cortex",
         "orientation": "v",
         "showlegend": true,
         "type": "scatter",
         "x": [
          "TG 50:1",
          "TG 50:2",
          "TG 50:3",
          "TG 52:2",
          "TG 52:3",
          "TG 52:4",
          "TG 54:3",
          "TG 54:4",
          "TG 54:5"
         ],
         "xaxis": "x",
         "y": [
          7.753458578013586,
          null,
          null,
          12.491625473145302,
          null,
          null,
          8.724612388508124,
          5.016530963147707,
          null
         ],
         "yaxis": "y"
        },
        {
         "customdata": [
          [
           "DOD94 WT F3 Cerebellum"
          ],
          [
           "DOD94 WT F3 Cerebellum"
          ],
          [
           "DOD94 WT F3 Cerebellum"
          ],
          [
           "DOD94 WT F3 Cerebellum"
          ],
          [
           "DOD94 WT F3 Cerebellum"
          ],
          [
           "DOD94 WT F3 Cerebellum"
          ],
          [
           "DOD94 WT F3 Cerebellum"
          ],
          [
           "DOD94 WT F3 Cerebellum"
          ],
          [
           "DOD94 WT F3 Cerebellum"
          ]
         ],
         "hovertemplate": "Sample_ID=%{customdata[0]}<br>Lipid=%{x}<br>Ratios=%{y}<extra></extra>",
         "legendgroup": "DOD94 WT F3 Cerebellum",
         "marker": {
          "color": "#FF6692",
          "symbol": "circle"
         },
         "mode": "markers",
         "name": "DOD94 WT F3 Cerebellum",
         "orientation": "v",
         "showlegend": true,
         "type": "scatter",
         "x": [
          "TG 50:1",
          "TG 50:2",
          "TG 50:3",
          "TG 52:2",
          "TG 52:3",
          "TG 52:4",
          "TG 54:3",
          "TG 54:4",
          "TG 54:5"
         ],
         "xaxis": "x",
         "y": [
          2.5673822533068336,
          1.552179937027989,
          null,
          6.7751810425279375,
          null,
          null,
          8.040801708450015,
          null,
          null
         ],
         "yaxis": "y"
        },
        {
         "customdata": [
          [
           "DOD94 WT F3 Diencephalon"
          ],
          [
           "DOD94 WT F3 Diencephalon"
          ],
          [
           "DOD94 WT F3 Diencephalon"
          ],
          [
           "DOD94 WT F3 Diencephalon"
          ],
          [
           "DOD94 WT F3 Diencephalon"
          ],
          [
           "DOD94 WT F3 Diencephalon"
          ],
          [
           "DOD94 WT F3 Diencephalon"
          ],
          [
           "DOD94 WT F3 Diencephalon"
          ],
          [
           "DOD94 WT F3 Diencephalon"
          ]
         ],
         "hovertemplate": "Sample_ID=%{customdata[0]}<br>Lipid=%{x}<br>Ratios=%{y}<extra></extra>",
         "legendgroup": "DOD94 WT F3 Diencephalon",
         "marker": {
          "color": "#B6E880",
          "symbol": "circle"
         },
         "mode": "markers",
         "name": "DOD94 WT F3 Diencephalon",
         "orientation": "v",
         "showlegend": true,
         "type": "scatter",
         "x": [
          "TG 50:1",
          "TG 50:2",
          "TG 50:3",
          "TG 52:2",
          "TG 52:3",
          "TG 52:4",
          "TG 54:3",
          "TG 54:4",
          "TG 54:5"
         ],
         "xaxis": "x",
         "y": [
          6.675669783968783,
          null,
          null,
          6.766047946743192,
          3.8920671134014713,
          null,
          5.852539429120896,
          8.511117880855037,
          null
         ],
         "yaxis": "y"
        },
        {
         "customdata": [
          [
           "FAD 184 F4 WT Cerebellum  "
          ],
          [
           "FAD 184 F4 WT Cerebellum  "
          ],
          [
           "FAD 184 F4 WT Cerebellum  "
          ],
          [
           "FAD 184 F4 WT Cerebellum  "
          ],
          [
           "FAD 184 F4 WT Cerebellum  "
          ],
          [
           "FAD 184 F4 WT Cerebellum  "
          ],
          [
           "FAD 184 F4 WT Cerebellum  "
          ],
          [
           "FAD 184 F4 WT Cerebellum  "
          ],
          [
           "FAD 184 F4 WT Cerebellum  "
          ]
         ],
         "hovertemplate": "Sample_ID=%{customdata[0]}<br>Lipid=%{x}<br>Ratios=%{y}<extra></extra>",
         "legendgroup": "FAD 184 F4 WT Cerebellum  ",
         "marker": {
          "color": "#FF97FF",
          "symbol": "circle"
         },
         "mode": "markers",
         "name": "FAD 184 F4 WT Cerebellum  ",
         "orientation": "v",
         "showlegend": true,
         "type": "scatter",
         "x": [
          "TG 50:1",
          "TG 50:2",
          "TG 50:3",
          "TG 52:2",
          "TG 52:3",
          "TG 52:4",
          "TG 54:3",
          "TG 54:4",
          "TG 54:5"
         ],
         "xaxis": "x",
         "y": [
          3.49545456530909,
          null,
          null,
          6.406091338878414,
          6.942424349275127,
          null,
          7.4404292993334735,
          null,
          null
         ],
         "yaxis": "y"
        }
       ],
       "layout": {
        "legend": {
         "title": {
          "text": "Sample_ID"
         },
         "tracegroupgap": 0
        },
        "template": {
         "data": {
          "bar": [
           {
            "error_x": {
             "color": "#2a3f5f"
            },
            "error_y": {
             "color": "#2a3f5f"
            },
            "marker": {
             "line": {
              "color": "#E5ECF6",
              "width": 0.5
             }
            },
            "type": "bar"
           }
          ],
          "barpolar": [
           {
            "marker": {
             "line": {
              "color": "#E5ECF6",
              "width": 0.5
             }
            },
            "type": "barpolar"
           }
          ],
          "carpet": [
           {
            "aaxis": {
             "endlinecolor": "#2a3f5f",
             "gridcolor": "white",
             "linecolor": "white",
             "minorgridcolor": "white",
             "startlinecolor": "#2a3f5f"
            },
            "baxis": {
             "endlinecolor": "#2a3f5f",
             "gridcolor": "white",
             "linecolor": "white",
             "minorgridcolor": "white",
             "startlinecolor": "#2a3f5f"
            },
            "type": "carpet"
           }
          ],
          "choropleth": [
           {
            "colorbar": {
             "outlinewidth": 0,
             "ticks": ""
            },
            "type": "choropleth"
           }
          ],
          "contour": [
           {
            "colorbar": {
             "outlinewidth": 0,
             "ticks": ""
            },
            "colorscale": [
             [
              0,
              "#0d0887"
             ],
             [
              0.1111111111111111,
              "#46039f"
             ],
             [
              0.2222222222222222,
              "#7201a8"
             ],
             [
              0.3333333333333333,
              "#9c179e"
             ],
             [
              0.4444444444444444,
              "#bd3786"
             ],
             [
              0.5555555555555556,
              "#d8576b"
             ],
             [
              0.6666666666666666,
              "#ed7953"
             ],
             [
              0.7777777777777778,
              "#fb9f3a"
             ],
             [
              0.8888888888888888,
              "#fdca26"
             ],
             [
              1,
              "#f0f921"
             ]
            ],
            "type": "contour"
           }
          ],
          "contourcarpet": [
           {
            "colorbar": {
             "outlinewidth": 0,
             "ticks": ""
            },
            "type": "contourcarpet"
           }
          ],
          "heatmap": [
           {
            "colorbar": {
             "outlinewidth": 0,
             "ticks": ""
            },
            "colorscale": [
             [
              0,
              "#0d0887"
             ],
             [
              0.1111111111111111,
              "#46039f"
             ],
             [
              0.2222222222222222,
              "#7201a8"
             ],
             [
              0.3333333333333333,
              "#9c179e"
             ],
             [
              0.4444444444444444,
              "#bd3786"
             ],
             [
              0.5555555555555556,
              "#d8576b"
             ],
             [
              0.6666666666666666,
              "#ed7953"
             ],
             [
              0.7777777777777778,
              "#fb9f3a"
             ],
             [
              0.8888888888888888,
              "#fdca26"
             ],
             [
              1,
              "#f0f921"
             ]
            ],
            "type": "heatmap"
           }
          ],
          "heatmapgl": [
           {
            "colorbar": {
             "outlinewidth": 0,
             "ticks": ""
            },
            "colorscale": [
             [
              0,
              "#0d0887"
             ],
             [
              0.1111111111111111,
              "#46039f"
             ],
             [
              0.2222222222222222,
              "#7201a8"
             ],
             [
              0.3333333333333333,
              "#9c179e"
             ],
             [
              0.4444444444444444,
              "#bd3786"
             ],
             [
              0.5555555555555556,
              "#d8576b"
             ],
             [
              0.6666666666666666,
              "#ed7953"
             ],
             [
              0.7777777777777778,
              "#fb9f3a"
             ],
             [
              0.8888888888888888,
              "#fdca26"
             ],
             [
              1,
              "#f0f921"
             ]
            ],
            "type": "heatmapgl"
           }
          ],
          "histogram": [
           {
            "marker": {
             "colorbar": {
              "outlinewidth": 0,
              "ticks": ""
             }
            },
            "type": "histogram"
           }
          ],
          "histogram2d": [
           {
            "colorbar": {
             "outlinewidth": 0,
             "ticks": ""
            },
            "colorscale": [
             [
              0,
              "#0d0887"
             ],
             [
              0.1111111111111111,
              "#46039f"
             ],
             [
              0.2222222222222222,
              "#7201a8"
             ],
             [
              0.3333333333333333,
              "#9c179e"
             ],
             [
              0.4444444444444444,
              "#bd3786"
             ],
             [
              0.5555555555555556,
              "#d8576b"
             ],
             [
              0.6666666666666666,
              "#ed7953"
             ],
             [
              0.7777777777777778,
              "#fb9f3a"
             ],
             [
              0.8888888888888888,
              "#fdca26"
             ],
             [
              1,
              "#f0f921"
             ]
            ],
            "type": "histogram2d"
           }
          ],
          "histogram2dcontour": [
           {
            "colorbar": {
             "outlinewidth": 0,
             "ticks": ""
            },
            "colorscale": [
             [
              0,
              "#0d0887"
             ],
             [
              0.1111111111111111,
              "#46039f"
             ],
             [
              0.2222222222222222,
              "#7201a8"
             ],
             [
              0.3333333333333333,
              "#9c179e"
             ],
             [
              0.4444444444444444,
              "#bd3786"
             ],
             [
              0.5555555555555556,
              "#d8576b"
             ],
             [
              0.6666666666666666,
              "#ed7953"
             ],
             [
              0.7777777777777778,
              "#fb9f3a"
             ],
             [
              0.8888888888888888,
              "#fdca26"
             ],
             [
              1,
              "#f0f921"
             ]
            ],
            "type": "histogram2dcontour"
           }
          ],
          "mesh3d": [
           {
            "colorbar": {
             "outlinewidth": 0,
             "ticks": ""
            },
            "type": "mesh3d"
           }
          ],
          "parcoords": [
           {
            "line": {
             "colorbar": {
              "outlinewidth": 0,
              "ticks": ""
             }
            },
            "type": "parcoords"
           }
          ],
          "pie": [
           {
            "automargin": true,
            "type": "pie"
           }
          ],
          "scatter": [
           {
            "marker": {
             "colorbar": {
              "outlinewidth": 0,
              "ticks": ""
             }
            },
            "type": "scatter"
           }
          ],
          "scatter3d": [
           {
            "line": {
             "colorbar": {
              "outlinewidth": 0,
              "ticks": ""
             }
            },
            "marker": {
             "colorbar": {
              "outlinewidth": 0,
              "ticks": ""
             }
            },
            "type": "scatter3d"
           }
          ],
          "scattercarpet": [
           {
            "marker": {
             "colorbar": {
              "outlinewidth": 0,
              "ticks": ""
             }
            },
            "type": "scattercarpet"
           }
          ],
          "scattergeo": [
           {
            "marker": {
             "colorbar": {
              "outlinewidth": 0,
              "ticks": ""
             }
            },
            "type": "scattergeo"
           }
          ],
          "scattergl": [
           {
            "marker": {
             "colorbar": {
              "outlinewidth": 0,
              "ticks": ""
             }
            },
            "type": "scattergl"
           }
          ],
          "scattermapbox": [
           {
            "marker": {
             "colorbar": {
              "outlinewidth": 0,
              "ticks": ""
             }
            },
            "type": "scattermapbox"
           }
          ],
          "scatterpolar": [
           {
            "marker": {
             "colorbar": {
              "outlinewidth": 0,
              "ticks": ""
             }
            },
            "type": "scatterpolar"
           }
          ],
          "scatterpolargl": [
           {
            "marker": {
             "colorbar": {
              "outlinewidth": 0,
              "ticks": ""
             }
            },
            "type": "scatterpolargl"
           }
          ],
          "scatterternary": [
           {
            "marker": {
             "colorbar": {
              "outlinewidth": 0,
              "ticks": ""
             }
            },
            "type": "scatterternary"
           }
          ],
          "surface": [
           {
            "colorbar": {
             "outlinewidth": 0,
             "ticks": ""
            },
            "colorscale": [
             [
              0,
              "#0d0887"
             ],
             [
              0.1111111111111111,
              "#46039f"
             ],
             [
              0.2222222222222222,
              "#7201a8"
             ],
             [
              0.3333333333333333,
              "#9c179e"
             ],
             [
              0.4444444444444444,
              "#bd3786"
             ],
             [
              0.5555555555555556,
              "#d8576b"
             ],
             [
              0.6666666666666666,
              "#ed7953"
             ],
             [
              0.7777777777777778,
              "#fb9f3a"
             ],
             [
              0.8888888888888888,
              "#fdca26"
             ],
             [
              1,
              "#f0f921"
             ]
            ],
            "type": "surface"
           }
          ],
          "table": [
           {
            "cells": {
             "fill": {
              "color": "#EBF0F8"
             },
             "line": {
              "color": "white"
             }
            },
            "header": {
             "fill": {
              "color": "#C8D4E3"
             },
             "line": {
              "color": "white"
             }
            },
            "type": "table"
           }
          ]
         },
         "layout": {
          "annotationdefaults": {
           "arrowcolor": "#2a3f5f",
           "arrowhead": 0,
           "arrowwidth": 1
          },
          "coloraxis": {
           "colorbar": {
            "outlinewidth": 0,
            "ticks": ""
           }
          },
          "colorscale": {
           "diverging": [
            [
             0,
             "#8e0152"
            ],
            [
             0.1,
             "#c51b7d"
            ],
            [
             0.2,
             "#de77ae"
            ],
            [
             0.3,
             "#f1b6da"
            ],
            [
             0.4,
             "#fde0ef"
            ],
            [
             0.5,
             "#f7f7f7"
            ],
            [
             0.6,
             "#e6f5d0"
            ],
            [
             0.7,
             "#b8e186"
            ],
            [
             0.8,
             "#7fbc41"
            ],
            [
             0.9,
             "#4d9221"
            ],
            [
             1,
             "#276419"
            ]
           ],
           "sequential": [
            [
             0,
             "#0d0887"
            ],
            [
             0.1111111111111111,
             "#46039f"
            ],
            [
             0.2222222222222222,
             "#7201a8"
            ],
            [
             0.3333333333333333,
             "#9c179e"
            ],
            [
             0.4444444444444444,
             "#bd3786"
            ],
            [
             0.5555555555555556,
             "#d8576b"
            ],
            [
             0.6666666666666666,
             "#ed7953"
            ],
            [
             0.7777777777777778,
             "#fb9f3a"
            ],
            [
             0.8888888888888888,
             "#fdca26"
            ],
            [
             1,
             "#f0f921"
            ]
           ],
           "sequentialminus": [
            [
             0,
             "#0d0887"
            ],
            [
             0.1111111111111111,
             "#46039f"
            ],
            [
             0.2222222222222222,
             "#7201a8"
            ],
            [
             0.3333333333333333,
             "#9c179e"
            ],
            [
             0.4444444444444444,
             "#bd3786"
            ],
            [
             0.5555555555555556,
             "#d8576b"
            ],
            [
             0.6666666666666666,
             "#ed7953"
            ],
            [
             0.7777777777777778,
             "#fb9f3a"
            ],
            [
             0.8888888888888888,
             "#fdca26"
            ],
            [
             1,
             "#f0f921"
            ]
           ]
          },
          "colorway": [
           "#636efa",
           "#EF553B",
           "#00cc96",
           "#ab63fa",
           "#FFA15A",
           "#19d3f3",
           "#FF6692",
           "#B6E880",
           "#FF97FF",
           "#FECB52"
          ],
          "font": {
           "color": "#2a3f5f"
          },
          "geo": {
           "bgcolor": "white",
           "lakecolor": "white",
           "landcolor": "#E5ECF6",
           "showlakes": true,
           "showland": true,
           "subunitcolor": "white"
          },
          "hoverlabel": {
           "align": "left"
          },
          "hovermode": "closest",
          "mapbox": {
           "style": "light"
          },
          "paper_bgcolor": "white",
          "plot_bgcolor": "#E5ECF6",
          "polar": {
           "angularaxis": {
            "gridcolor": "white",
            "linecolor": "white",
            "ticks": ""
           },
           "bgcolor": "#E5ECF6",
           "radialaxis": {
            "gridcolor": "white",
            "linecolor": "white",
            "ticks": ""
           }
          },
          "scene": {
           "xaxis": {
            "backgroundcolor": "#E5ECF6",
            "gridcolor": "white",
            "gridwidth": 2,
            "linecolor": "white",
            "showbackground": true,
            "ticks": "",
            "zerolinecolor": "white"
           },
           "yaxis": {
            "backgroundcolor": "#E5ECF6",
            "gridcolor": "white",
            "gridwidth": 2,
            "linecolor": "white",
            "showbackground": true,
            "ticks": "",
            "zerolinecolor": "white"
           },
           "zaxis": {
            "backgroundcolor": "#E5ECF6",
            "gridcolor": "white",
            "gridwidth": 2,
            "linecolor": "white",
            "showbackground": true,
            "ticks": "",
            "zerolinecolor": "white"
           }
          },
          "shapedefaults": {
           "line": {
            "color": "#2a3f5f"
           }
          },
          "ternary": {
           "aaxis": {
            "gridcolor": "white",
            "linecolor": "white",
            "ticks": ""
           },
           "baxis": {
            "gridcolor": "white",
            "linecolor": "white",
            "ticks": ""
           },
           "bgcolor": "#E5ECF6",
           "caxis": {
            "gridcolor": "white",
            "linecolor": "white",
            "ticks": ""
           }
          },
          "title": {
           "x": 0.05
          },
          "xaxis": {
           "automargin": true,
           "gridcolor": "white",
           "linecolor": "white",
           "ticks": "",
           "title": {
            "standoff": 15
           },
           "zerolinecolor": "white",
           "zerolinewidth": 2
          },
          "yaxis": {
           "automargin": true,
           "gridcolor": "white",
           "linecolor": "white",
           "ticks": "",
           "title": {
            "standoff": 15
           },
           "zerolinecolor": "white",
           "zerolinewidth": 2
          }
         }
        },
        "title": {
         "text": "Lipid vs Ratios for each Sample_ID"
        },
        "xaxis": {
         "anchor": "y",
         "domain": [
          0,
          1
         ],
         "title": {
          "text": "Lipid"
         }
        },
        "yaxis": {
         "anchor": "x",
         "domain": [
          0,
          1
         ],
         "title": {
          "text": "Ratios"
         }
        }
       }
      },
      "text/html": [
       "<div>                            <div id=\"bf5145b2-ac1a-4e4a-9526-b52a89dbea1f\" class=\"plotly-graph-div\" style=\"height:525px; width:100%;\"></div>            <script type=\"text/javascript\">                require([\"plotly\"], function(Plotly) {                    window.PLOTLYENV=window.PLOTLYENV || {};                                    if (document.getElementById(\"bf5145b2-ac1a-4e4a-9526-b52a89dbea1f\")) {                    Plotly.newPlot(                        \"bf5145b2-ac1a-4e4a-9526-b52a89dbea1f\",                        [{\"customdata\": [[\"DOD93 5xFAD F4 Hippocampus\"], [\"DOD93 5xFAD F4 Hippocampus\"], [\"DOD93 5xFAD F4 Hippocampus\"], [\"DOD93 5xFAD F4 Hippocampus\"], [\"DOD93 5xFAD F4 Hippocampus\"], [\"DOD93 5xFAD F4 Hippocampus\"], [\"DOD93 5xFAD F4 Hippocampus\"], [\"DOD93 5xFAD F4 Hippocampus\"], [\"DOD93 5xFAD F4 Hippocampus\"], [\"DOD93 5xFAD F4 Hippocampus\"], [\"DOD93 5xFAD F4 Hippocampus\"], [\"DOD93 5xFAD F4 Hippocampus\"], [\"DOD93 5xFAD F4 Hippocampus\"], [\"DOD93 5xFAD F4 Hippocampus\"], [\"DOD93 5xFAD F4 Hippocampus\"], [\"DOD93 5xFAD F4 Hippocampus\"], [\"DOD93 5xFAD F4 Hippocampus\"], [\"DOD93 5xFAD F4 Hippocampus\"]], \"hovertemplate\": \"Sample_ID=%{customdata[0]}<br>Lipid=%{x}<br>Ratios=%{y}<extra></extra>\", \"legendgroup\": \"DOD93 5xFAD F4 Hippocampus\", \"marker\": {\"color\": \"#636efa\", \"symbol\": \"circle\"}, \"mode\": \"markers\", \"name\": \"DOD93 5xFAD F4 Hippocampus\", \"orientation\": \"v\", \"showlegend\": true, \"type\": \"scatter\", \"x\": [\"TG 50:1\", \"TG 50:2\", \"TG 50:3\", \"TG 52:2\", \"TG 52:3\", \"TG 52:4\", \"TG 54:3\", \"TG 54:4\", \"TG 54:5\", \"TG 50:1\", \"TG 50:2\", \"TG 50:3\", \"TG 52:2\", \"TG 52:3\", \"TG 52:4\", \"TG 54:3\", \"TG 54:4\", \"TG 54:5\"], \"xaxis\": \"x\", \"y\": [2.1163323793294304, 3.3421936763146727, null, 2.3166980445187626, 3.353999522608713, null, 3.0235108920627423, 5.131522634196937, null, 2.1163323793294304, 3.3421936763146727, null, 2.3166980445187626, 3.353999522608713, null, 3.0235108920627423, 5.131522634196937, null], \"yaxis\": \"y\"}, {\"customdata\": [[\"DOD93 5xFAD F4 Cortex\"], [\"DOD93 5xFAD F4 Cortex\"], [\"DOD93 5xFAD F4 Cortex\"], [\"DOD93 5xFAD F4 Cortex\"], [\"DOD93 5xFAD F4 Cortex\"], [\"DOD93 5xFAD F4 Cortex\"], [\"DOD93 5xFAD F4 Cortex\"], [\"DOD93 5xFAD F4 Cortex\"], [\"DOD93 5xFAD F4 Cortex\"], [\"DOD93 5xFAD F4 Cortex\"], [\"DOD93 5xFAD F4 Cortex\"], [\"DOD93 5xFAD F4 Cortex\"], [\"DOD93 5xFAD F4 Cortex\"], [\"DOD93 5xFAD F4 Cortex\"], [\"DOD93 5xFAD F4 Cortex\"], [\"DOD93 5xFAD F4 Cortex\"], [\"DOD93 5xFAD F4 Cortex\"], [\"DOD93 5xFAD F4 Cortex\"]], \"hovertemplate\": \"Sample_ID=%{customdata[0]}<br>Lipid=%{x}<br>Ratios=%{y}<extra></extra>\", \"legendgroup\": \"DOD93 5xFAD F4 Cortex\", \"marker\": {\"color\": \"#EF553B\", \"symbol\": \"circle\"}, \"mode\": \"markers\", \"name\": \"DOD93 5xFAD F4 Cortex\", \"orientation\": \"v\", \"showlegend\": true, \"type\": \"scatter\", \"x\": [\"TG 50:1\", \"TG 50:2\", \"TG 50:3\", \"TG 52:2\", \"TG 52:3\", \"TG 52:4\", \"TG 54:3\", \"TG 54:4\", \"TG 54:5\", \"TG 50:1\", \"TG 50:2\", \"TG 50:3\", \"TG 52:2\", \"TG 52:3\", \"TG 52:4\", \"TG 54:3\", \"TG 54:4\", \"TG 54:5\"], \"xaxis\": \"x\", \"y\": [1.6105784166788724, 2.219974461472332, 3.948943105555783, 1.624051229929429, 3.6649011414513977, 3.516210449418701, 2.5592627777116874, 3.9336404840297563, 5.099444811259985, 1.6105784166788724, 2.219974461472332, 3.948943105555783, 1.624051229929429, 3.6649011414513977, 3.516210449418701, 2.5592627777116874, 3.9336404840297563, 5.099444811259985], \"yaxis\": \"y\"}, {\"customdata\": [[\"DOD93 5xFAD F4 Cerebellum\"], [\"DOD93 5xFAD F4 Cerebellum\"], [\"DOD93 5xFAD F4 Cerebellum\"], [\"DOD93 5xFAD F4 Cerebellum\"], [\"DOD93 5xFAD F4 Cerebellum\"], [\"DOD93 5xFAD F4 Cerebellum\"], [\"DOD93 5xFAD F4 Cerebellum\"], [\"DOD93 5xFAD F4 Cerebellum\"], [\"DOD93 5xFAD F4 Cerebellum\"], [\"DOD93 5xFAD F4 Cerebellum\"], [\"DOD93 5xFAD F4 Cerebellum\"], [\"DOD93 5xFAD F4 Cerebellum\"], [\"DOD93 5xFAD F4 Cerebellum\"], [\"DOD93 5xFAD F4 Cerebellum\"], [\"DOD93 5xFAD F4 Cerebellum\"], [\"DOD93 5xFAD F4 Cerebellum\"], [\"DOD93 5xFAD F4 Cerebellum\"], [\"DOD93 5xFAD F4 Cerebellum\"]], \"hovertemplate\": \"Sample_ID=%{customdata[0]}<br>Lipid=%{x}<br>Ratios=%{y}<extra></extra>\", \"legendgroup\": \"DOD93 5xFAD F4 Cerebellum\", \"marker\": {\"color\": \"#00cc96\", \"symbol\": \"circle\"}, \"mode\": \"markers\", \"name\": \"DOD93 5xFAD F4 Cerebellum\", \"orientation\": \"v\", \"showlegend\": true, \"type\": \"scatter\", \"x\": [\"TG 50:1\", \"TG 50:2\", \"TG 50:3\", \"TG 52:2\", \"TG 52:3\", \"TG 52:4\", \"TG 54:3\", \"TG 54:4\", \"TG 54:5\", \"TG 50:1\", \"TG 50:2\", \"TG 50:3\", \"TG 52:2\", \"TG 52:3\", \"TG 52:4\", \"TG 54:3\", \"TG 54:4\", \"TG 54:5\"], \"xaxis\": \"x\", \"y\": [1.5593711189938348, 2.7294086171756966, null, 3.356326940114094, 2.1311440119462732, 3.6616922914988357, 4.948865501365834, 3.052918895640348, 3.855982717707711, 1.5593711189938348, 2.7294086171756966, null, 3.356326940114094, 2.1311440119462732, 3.6616922914988357, 4.948865501365834, 3.052918895640348, 3.855982717707711], \"yaxis\": \"y\"}, {\"customdata\": [[\"DOD93 5xFAD F4 Diencephalon \"], [\"DOD93 5xFAD F4 Diencephalon \"], [\"DOD93 5xFAD F4 Diencephalon \"], [\"DOD93 5xFAD F4 Diencephalon \"], [\"DOD93 5xFAD F4 Diencephalon \"], [\"DOD93 5xFAD F4 Diencephalon \"], [\"DOD93 5xFAD F4 Diencephalon \"], [\"DOD93 5xFAD F4 Diencephalon \"], [\"DOD93 5xFAD F4 Diencephalon \"], [\"DOD93 5xFAD F4 Diencephalon \"], [\"DOD93 5xFAD F4 Diencephalon \"], [\"DOD93 5xFAD F4 Diencephalon \"], [\"DOD93 5xFAD F4 Diencephalon \"], [\"DOD93 5xFAD F4 Diencephalon \"], [\"DOD93 5xFAD F4 Diencephalon \"], [\"DOD93 5xFAD F4 Diencephalon \"], [\"DOD93 5xFAD F4 Diencephalon \"], [\"DOD93 5xFAD F4 Diencephalon \"]], \"hovertemplate\": \"Sample_ID=%{customdata[0]}<br>Lipid=%{x}<br>Ratios=%{y}<extra></extra>\", \"legendgroup\": \"DOD93 5xFAD F4 Diencephalon \", \"marker\": {\"color\": \"#ab63fa\", \"symbol\": \"circle\"}, \"mode\": \"markers\", \"name\": \"DOD93 5xFAD F4 Diencephalon \", \"orientation\": \"v\", \"showlegend\": true, \"type\": \"scatter\", \"x\": [\"TG 50:1\", \"TG 50:2\", \"TG 50:3\", \"TG 52:2\", \"TG 52:3\", \"TG 52:4\", \"TG 54:3\", \"TG 54:4\", \"TG 54:5\", \"TG 50:1\", \"TG 50:2\", \"TG 50:3\", \"TG 52:2\", \"TG 52:3\", \"TG 52:4\", \"TG 54:3\", \"TG 54:4\", \"TG 54:5\"], \"xaxis\": \"x\", \"y\": [2.0046844085080786, 1.9238847981245661, null, 4.3776455233724345, 3.532118946788613, null, 4.778272241566666, 1.9435391132576956, 3.2249871252220705, 2.0046844085080786, 1.9238847981245661, null, 4.3776455233724345, 3.532118946788613, null, 4.778272241566666, 1.9435391132576956, 3.2249871252220705], \"yaxis\": \"y\"}, {\"customdata\": [[\"DOD94 WT F3 Hippocampus\"], [\"DOD94 WT F3 Hippocampus\"], [\"DOD94 WT F3 Hippocampus\"], [\"DOD94 WT F3 Hippocampus\"], [\"DOD94 WT F3 Hippocampus\"], [\"DOD94 WT F3 Hippocampus\"], [\"DOD94 WT F3 Hippocampus\"], [\"DOD94 WT F3 Hippocampus\"], [\"DOD94 WT F3 Hippocampus\"]], \"hovertemplate\": \"Sample_ID=%{customdata[0]}<br>Lipid=%{x}<br>Ratios=%{y}<extra></extra>\", \"legendgroup\": \"DOD94 WT F3 Hippocampus\", \"marker\": {\"color\": \"#FFA15A\", \"symbol\": \"circle\"}, \"mode\": \"markers\", \"name\": \"DOD94 WT F3 Hippocampus\", \"orientation\": \"v\", \"showlegend\": true, \"type\": \"scatter\", \"x\": [\"TG 50:1\", \"TG 50:2\", \"TG 50:3\", \"TG 52:2\", \"TG 52:3\", \"TG 52:4\", \"TG 54:3\", \"TG 54:4\", \"TG 54:5\"], \"xaxis\": \"x\", \"y\": [4.702885909968975, 1.3293839396079512, null, 5.43494316451606, 5.8530336662967075, null, 4.452414653093336, null, null], \"yaxis\": \"y\"}, {\"customdata\": [[\"DOD94 WT F3 Cortex\"], [\"DOD94 WT F3 Cortex\"], [\"DOD94 WT F3 Cortex\"], [\"DOD94 WT F3 Cortex\"], [\"DOD94 WT F3 Cortex\"], [\"DOD94 WT F3 Cortex\"], [\"DOD94 WT F3 Cortex\"], [\"DOD94 WT F3 Cortex\"], [\"DOD94 WT F3 Cortex\"]], \"hovertemplate\": \"Sample_ID=%{customdata[0]}<br>Lipid=%{x}<br>Ratios=%{y}<extra></extra>\", \"legendgroup\": \"DOD94 WT F3 Cortex\", \"marker\": {\"color\": \"#19d3f3\", \"symbol\": \"circle\"}, \"mode\": \"markers\", \"name\": \"DOD94 WT F3 Cortex\", \"orientation\": \"v\", \"showlegend\": true, \"type\": \"scatter\", \"x\": [\"TG 50:1\", \"TG 50:2\", \"TG 50:3\", \"TG 52:2\", \"TG 52:3\", \"TG 52:4\", \"TG 54:3\", \"TG 54:4\", \"TG 54:5\"], \"xaxis\": \"x\", \"y\": [7.753458578013586, null, null, 12.491625473145302, null, null, 8.724612388508124, 5.016530963147707, null], \"yaxis\": \"y\"}, {\"customdata\": [[\"DOD94 WT F3 Cerebellum\"], [\"DOD94 WT F3 Cerebellum\"], [\"DOD94 WT F3 Cerebellum\"], [\"DOD94 WT F3 Cerebellum\"], [\"DOD94 WT F3 Cerebellum\"], [\"DOD94 WT F3 Cerebellum\"], [\"DOD94 WT F3 Cerebellum\"], [\"DOD94 WT F3 Cerebellum\"], [\"DOD94 WT F3 Cerebellum\"]], \"hovertemplate\": \"Sample_ID=%{customdata[0]}<br>Lipid=%{x}<br>Ratios=%{y}<extra></extra>\", \"legendgroup\": \"DOD94 WT F3 Cerebellum\", \"marker\": {\"color\": \"#FF6692\", \"symbol\": \"circle\"}, \"mode\": \"markers\", \"name\": \"DOD94 WT F3 Cerebellum\", \"orientation\": \"v\", \"showlegend\": true, \"type\": \"scatter\", \"x\": [\"TG 50:1\", \"TG 50:2\", \"TG 50:3\", \"TG 52:2\", \"TG 52:3\", \"TG 52:4\", \"TG 54:3\", \"TG 54:4\", \"TG 54:5\"], \"xaxis\": \"x\", \"y\": [2.5673822533068336, 1.552179937027989, null, 6.7751810425279375, null, null, 8.040801708450015, null, null], \"yaxis\": \"y\"}, {\"customdata\": [[\"DOD94 WT F3 Diencephalon\"], [\"DOD94 WT F3 Diencephalon\"], [\"DOD94 WT F3 Diencephalon\"], [\"DOD94 WT F3 Diencephalon\"], [\"DOD94 WT F3 Diencephalon\"], [\"DOD94 WT F3 Diencephalon\"], [\"DOD94 WT F3 Diencephalon\"], [\"DOD94 WT F3 Diencephalon\"], [\"DOD94 WT F3 Diencephalon\"]], \"hovertemplate\": \"Sample_ID=%{customdata[0]}<br>Lipid=%{x}<br>Ratios=%{y}<extra></extra>\", \"legendgroup\": \"DOD94 WT F3 Diencephalon\", \"marker\": {\"color\": \"#B6E880\", \"symbol\": \"circle\"}, \"mode\": \"markers\", \"name\": \"DOD94 WT F3 Diencephalon\", \"orientation\": \"v\", \"showlegend\": true, \"type\": \"scatter\", \"x\": [\"TG 50:1\", \"TG 50:2\", \"TG 50:3\", \"TG 52:2\", \"TG 52:3\", \"TG 52:4\", \"TG 54:3\", \"TG 54:4\", \"TG 54:5\"], \"xaxis\": \"x\", \"y\": [6.675669783968783, null, null, 6.766047946743192, 3.8920671134014713, null, 5.852539429120896, 8.511117880855037, null], \"yaxis\": \"y\"}, {\"customdata\": [[\"FAD 184 F4 WT Cerebellum  \"], [\"FAD 184 F4 WT Cerebellum  \"], [\"FAD 184 F4 WT Cerebellum  \"], [\"FAD 184 F4 WT Cerebellum  \"], [\"FAD 184 F4 WT Cerebellum  \"], [\"FAD 184 F4 WT Cerebellum  \"], [\"FAD 184 F4 WT Cerebellum  \"], [\"FAD 184 F4 WT Cerebellum  \"], [\"FAD 184 F4 WT Cerebellum  \"]], \"hovertemplate\": \"Sample_ID=%{customdata[0]}<br>Lipid=%{x}<br>Ratios=%{y}<extra></extra>\", \"legendgroup\": \"FAD 184 F4 WT Cerebellum  \", \"marker\": {\"color\": \"#FF97FF\", \"symbol\": \"circle\"}, \"mode\": \"markers\", \"name\": \"FAD 184 F4 WT Cerebellum  \", \"orientation\": \"v\", \"showlegend\": true, \"type\": \"scatter\", \"x\": [\"TG 50:1\", \"TG 50:2\", \"TG 50:3\", \"TG 52:2\", \"TG 52:3\", \"TG 52:4\", \"TG 54:3\", \"TG 54:4\", \"TG 54:5\"], \"xaxis\": \"x\", \"y\": [3.49545456530909, null, null, 6.406091338878414, 6.942424349275127, null, 7.4404292993334735, null, null], \"yaxis\": \"y\"}],                        {\"legend\": {\"title\": {\"text\": \"Sample_ID\"}, \"tracegroupgap\": 0}, \"template\": {\"data\": {\"bar\": [{\"error_x\": {\"color\": \"#2a3f5f\"}, \"error_y\": {\"color\": \"#2a3f5f\"}, \"marker\": {\"line\": {\"color\": \"#E5ECF6\", \"width\": 0.5}}, \"type\": \"bar\"}], \"barpolar\": [{\"marker\": {\"line\": {\"color\": \"#E5ECF6\", \"width\": 0.5}}, \"type\": \"barpolar\"}], \"carpet\": [{\"aaxis\": {\"endlinecolor\": \"#2a3f5f\", \"gridcolor\": \"white\", \"linecolor\": \"white\", \"minorgridcolor\": \"white\", \"startlinecolor\": \"#2a3f5f\"}, \"baxis\": {\"endlinecolor\": \"#2a3f5f\", \"gridcolor\": \"white\", \"linecolor\": \"white\", \"minorgridcolor\": \"white\", \"startlinecolor\": \"#2a3f5f\"}, \"type\": \"carpet\"}], \"choropleth\": [{\"colorbar\": {\"outlinewidth\": 0, \"ticks\": \"\"}, \"type\": \"choropleth\"}], \"contour\": [{\"colorbar\": {\"outlinewidth\": 0, \"ticks\": \"\"}, \"colorscale\": [[0.0, \"#0d0887\"], [0.1111111111111111, \"#46039f\"], [0.2222222222222222, \"#7201a8\"], [0.3333333333333333, \"#9c179e\"], [0.4444444444444444, \"#bd3786\"], [0.5555555555555556, \"#d8576b\"], [0.6666666666666666, \"#ed7953\"], [0.7777777777777778, \"#fb9f3a\"], [0.8888888888888888, \"#fdca26\"], [1.0, \"#f0f921\"]], \"type\": \"contour\"}], \"contourcarpet\": [{\"colorbar\": {\"outlinewidth\": 0, \"ticks\": \"\"}, \"type\": \"contourcarpet\"}], \"heatmap\": [{\"colorbar\": {\"outlinewidth\": 0, \"ticks\": \"\"}, \"colorscale\": [[0.0, \"#0d0887\"], [0.1111111111111111, \"#46039f\"], [0.2222222222222222, \"#7201a8\"], [0.3333333333333333, \"#9c179e\"], [0.4444444444444444, \"#bd3786\"], [0.5555555555555556, \"#d8576b\"], [0.6666666666666666, \"#ed7953\"], [0.7777777777777778, \"#fb9f3a\"], [0.8888888888888888, \"#fdca26\"], [1.0, \"#f0f921\"]], \"type\": \"heatmap\"}], \"heatmapgl\": [{\"colorbar\": {\"outlinewidth\": 0, \"ticks\": \"\"}, \"colorscale\": [[0.0, \"#0d0887\"], [0.1111111111111111, \"#46039f\"], [0.2222222222222222, \"#7201a8\"], [0.3333333333333333, \"#9c179e\"], [0.4444444444444444, \"#bd3786\"], [0.5555555555555556, \"#d8576b\"], [0.6666666666666666, \"#ed7953\"], [0.7777777777777778, \"#fb9f3a\"], [0.8888888888888888, \"#fdca26\"], [1.0, \"#f0f921\"]], \"type\": \"heatmapgl\"}], \"histogram\": [{\"marker\": {\"colorbar\": {\"outlinewidth\": 0, \"ticks\": \"\"}}, \"type\": \"histogram\"}], \"histogram2d\": [{\"colorbar\": {\"outlinewidth\": 0, \"ticks\": \"\"}, \"colorscale\": [[0.0, \"#0d0887\"], [0.1111111111111111, \"#46039f\"], [0.2222222222222222, \"#7201a8\"], [0.3333333333333333, \"#9c179e\"], [0.4444444444444444, \"#bd3786\"], [0.5555555555555556, \"#d8576b\"], [0.6666666666666666, \"#ed7953\"], [0.7777777777777778, \"#fb9f3a\"], [0.8888888888888888, \"#fdca26\"], [1.0, \"#f0f921\"]], \"type\": \"histogram2d\"}], \"histogram2dcontour\": [{\"colorbar\": {\"outlinewidth\": 0, \"ticks\": \"\"}, \"colorscale\": [[0.0, \"#0d0887\"], [0.1111111111111111, \"#46039f\"], [0.2222222222222222, \"#7201a8\"], [0.3333333333333333, \"#9c179e\"], [0.4444444444444444, \"#bd3786\"], [0.5555555555555556, \"#d8576b\"], [0.6666666666666666, \"#ed7953\"], [0.7777777777777778, \"#fb9f3a\"], [0.8888888888888888, \"#fdca26\"], [1.0, \"#f0f921\"]], \"type\": \"histogram2dcontour\"}], \"mesh3d\": [{\"colorbar\": {\"outlinewidth\": 0, \"ticks\": \"\"}, \"type\": \"mesh3d\"}], \"parcoords\": [{\"line\": {\"colorbar\": {\"outlinewidth\": 0, \"ticks\": \"\"}}, \"type\": \"parcoords\"}], \"pie\": [{\"automargin\": true, \"type\": \"pie\"}], \"scatter\": [{\"marker\": {\"colorbar\": {\"outlinewidth\": 0, \"ticks\": \"\"}}, \"type\": \"scatter\"}], \"scatter3d\": [{\"line\": {\"colorbar\": {\"outlinewidth\": 0, \"ticks\": \"\"}}, \"marker\": {\"colorbar\": {\"outlinewidth\": 0, \"ticks\": \"\"}}, \"type\": \"scatter3d\"}], \"scattercarpet\": [{\"marker\": {\"colorbar\": {\"outlinewidth\": 0, \"ticks\": \"\"}}, \"type\": \"scattercarpet\"}], \"scattergeo\": [{\"marker\": {\"colorbar\": {\"outlinewidth\": 0, \"ticks\": \"\"}}, \"type\": \"scattergeo\"}], \"scattergl\": [{\"marker\": {\"colorbar\": {\"outlinewidth\": 0, \"ticks\": \"\"}}, \"type\": \"scattergl\"}], \"scattermapbox\": [{\"marker\": {\"colorbar\": {\"outlinewidth\": 0, \"ticks\": \"\"}}, \"type\": \"scattermapbox\"}], \"scatterpolar\": [{\"marker\": {\"colorbar\": {\"outlinewidth\": 0, \"ticks\": \"\"}}, \"type\": \"scatterpolar\"}], \"scatterpolargl\": [{\"marker\": {\"colorbar\": {\"outlinewidth\": 0, \"ticks\": \"\"}}, \"type\": \"scatterpolargl\"}], \"scatterternary\": [{\"marker\": {\"colorbar\": {\"outlinewidth\": 0, \"ticks\": \"\"}}, \"type\": \"scatterternary\"}], \"surface\": [{\"colorbar\": {\"outlinewidth\": 0, \"ticks\": \"\"}, \"colorscale\": [[0.0, \"#0d0887\"], [0.1111111111111111, \"#46039f\"], [0.2222222222222222, \"#7201a8\"], [0.3333333333333333, \"#9c179e\"], [0.4444444444444444, \"#bd3786\"], [0.5555555555555556, \"#d8576b\"], [0.6666666666666666, \"#ed7953\"], [0.7777777777777778, \"#fb9f3a\"], [0.8888888888888888, \"#fdca26\"], [1.0, \"#f0f921\"]], \"type\": \"surface\"}], \"table\": [{\"cells\": {\"fill\": {\"color\": \"#EBF0F8\"}, \"line\": {\"color\": \"white\"}}, \"header\": {\"fill\": {\"color\": \"#C8D4E3\"}, \"line\": {\"color\": \"white\"}}, \"type\": \"table\"}]}, \"layout\": {\"annotationdefaults\": {\"arrowcolor\": \"#2a3f5f\", \"arrowhead\": 0, \"arrowwidth\": 1}, \"coloraxis\": {\"colorbar\": {\"outlinewidth\": 0, \"ticks\": \"\"}}, \"colorscale\": {\"diverging\": [[0, \"#8e0152\"], [0.1, \"#c51b7d\"], [0.2, \"#de77ae\"], [0.3, \"#f1b6da\"], [0.4, \"#fde0ef\"], [0.5, \"#f7f7f7\"], [0.6, \"#e6f5d0\"], [0.7, \"#b8e186\"], [0.8, \"#7fbc41\"], [0.9, \"#4d9221\"], [1, \"#276419\"]], \"sequential\": [[0.0, \"#0d0887\"], [0.1111111111111111, \"#46039f\"], [0.2222222222222222, \"#7201a8\"], [0.3333333333333333, \"#9c179e\"], [0.4444444444444444, \"#bd3786\"], [0.5555555555555556, \"#d8576b\"], [0.6666666666666666, \"#ed7953\"], [0.7777777777777778, \"#fb9f3a\"], [0.8888888888888888, \"#fdca26\"], [1.0, \"#f0f921\"]], \"sequentialminus\": [[0.0, \"#0d0887\"], [0.1111111111111111, \"#46039f\"], [0.2222222222222222, \"#7201a8\"], [0.3333333333333333, \"#9c179e\"], [0.4444444444444444, \"#bd3786\"], [0.5555555555555556, \"#d8576b\"], [0.6666666666666666, \"#ed7953\"], [0.7777777777777778, \"#fb9f3a\"], [0.8888888888888888, \"#fdca26\"], [1.0, \"#f0f921\"]]}, \"colorway\": [\"#636efa\", \"#EF553B\", \"#00cc96\", \"#ab63fa\", \"#FFA15A\", \"#19d3f3\", \"#FF6692\", \"#B6E880\", \"#FF97FF\", \"#FECB52\"], \"font\": {\"color\": \"#2a3f5f\"}, \"geo\": {\"bgcolor\": \"white\", \"lakecolor\": \"white\", \"landcolor\": \"#E5ECF6\", \"showlakes\": true, \"showland\": true, \"subunitcolor\": \"white\"}, \"hoverlabel\": {\"align\": \"left\"}, \"hovermode\": \"closest\", \"mapbox\": {\"style\": \"light\"}, \"paper_bgcolor\": \"white\", \"plot_bgcolor\": \"#E5ECF6\", \"polar\": {\"angularaxis\": {\"gridcolor\": \"white\", \"linecolor\": \"white\", \"ticks\": \"\"}, \"bgcolor\": \"#E5ECF6\", \"radialaxis\": {\"gridcolor\": \"white\", \"linecolor\": \"white\", \"ticks\": \"\"}}, \"scene\": {\"xaxis\": {\"backgroundcolor\": \"#E5ECF6\", \"gridcolor\": \"white\", \"gridwidth\": 2, \"linecolor\": \"white\", \"showbackground\": true, \"ticks\": \"\", \"zerolinecolor\": \"white\"}, \"yaxis\": {\"backgroundcolor\": \"#E5ECF6\", \"gridcolor\": \"white\", \"gridwidth\": 2, \"linecolor\": \"white\", \"showbackground\": true, \"ticks\": \"\", \"zerolinecolor\": \"white\"}, \"zaxis\": {\"backgroundcolor\": \"#E5ECF6\", \"gridcolor\": \"white\", \"gridwidth\": 2, \"linecolor\": \"white\", \"showbackground\": true, \"ticks\": \"\", \"zerolinecolor\": \"white\"}}, \"shapedefaults\": {\"line\": {\"color\": \"#2a3f5f\"}}, \"ternary\": {\"aaxis\": {\"gridcolor\": \"white\", \"linecolor\": \"white\", \"ticks\": \"\"}, \"baxis\": {\"gridcolor\": \"white\", \"linecolor\": \"white\", \"ticks\": \"\"}, \"bgcolor\": \"#E5ECF6\", \"caxis\": {\"gridcolor\": \"white\", \"linecolor\": \"white\", \"ticks\": \"\"}}, \"title\": {\"x\": 0.05}, \"xaxis\": {\"automargin\": true, \"gridcolor\": \"white\", \"linecolor\": \"white\", \"ticks\": \"\", \"title\": {\"standoff\": 15}, \"zerolinecolor\": \"white\", \"zerolinewidth\": 2}, \"yaxis\": {\"automargin\": true, \"gridcolor\": \"white\", \"linecolor\": \"white\", \"ticks\": \"\", \"title\": {\"standoff\": 15}, \"zerolinecolor\": \"white\", \"zerolinewidth\": 2}}}, \"title\": {\"text\": \"Lipid vs Ratios for each Sample_ID\"}, \"xaxis\": {\"anchor\": \"y\", \"domain\": [0.0, 1.0], \"title\": {\"text\": \"Lipid\"}}, \"yaxis\": {\"anchor\": \"x\", \"domain\": [0.0, 1.0], \"title\": {\"text\": \"Ratios\"}}},                        {\"responsive\": true}                    ).then(function(){\n",
       "                            \n",
       "var gd = document.getElementById('bf5145b2-ac1a-4e4a-9526-b52a89dbea1f');\n",
       "var x = new MutationObserver(function (mutations, observer) {{\n",
       "        var display = window.getComputedStyle(gd).display;\n",
       "        if (!display || display === 'none') {{\n",
       "            console.log([gd, 'removed!']);\n",
       "            Plotly.purge(gd);\n",
       "            observer.disconnect();\n",
       "        }}\n",
       "}});\n",
       "\n",
       "// Listen for the removal of the full notebook cells\n",
       "var notebookContainer = gd.closest('#notebook-container');\n",
       "if (notebookContainer) {{\n",
       "    x.observe(notebookContainer, {childList: true});\n",
       "}}\n",
       "\n",
       "// Listen for the clearing of the current output cell\n",
       "var outputEl = gd.closest('.output');\n",
       "if (outputEl) {{\n",
       "    x.observe(outputEl, {childList: true});\n",
       "}}\n",
       "\n",
       "                        })                };                });            </script>        </div>"
      ]
     },
     "metadata": {},
     "output_type": "display_data"
    }
   ],
   "source": [
    "import plotly.express as px\n",
    "\n",
    "# Assuming val_df is your DataFrame after renaming the column\n",
    "fig = px.scatter(val_df, x=\"Lipid\", y=\"Ratios\", color=\"Sample_ID\",\n",
    "                 title=\"Lipid vs Ratios for each Sample_ID\",\n",
    "                 labels={\"Lipid\": \"Lipid\", \"Ratios\": \"Ratios\"},\n",
    "                 hover_data=[\"Sample_ID\"])\n",
    "\n",
    "fig.show()\n",
    "\n"
   ]
  },
  {
   "cell_type": "code",
   "execution_count": 67,
   "metadata": {},
   "outputs": [
    {
     "data": {
      "text/html": [
       "<div>\n",
       "<style scoped>\n",
       "    .dataframe tbody tr th:only-of-type {\n",
       "        vertical-align: middle;\n",
       "    }\n",
       "\n",
       "    .dataframe tbody tr th {\n",
       "        vertical-align: top;\n",
       "    }\n",
       "\n",
       "    .dataframe thead th {\n",
       "        text-align: right;\n",
       "    }\n",
       "</style>\n",
       "<table border=\"1\" class=\"dataframe\">\n",
       "  <thead>\n",
       "    <tr style=\"text-align: right;\">\n",
       "      <th></th>\n",
       "      <th>Lipid</th>\n",
       "      <th>Ratios</th>\n",
       "      <th>Sample_ID</th>\n",
       "      <th>Person</th>\n",
       "    </tr>\n",
       "  </thead>\n",
       "  <tbody>\n",
       "    <tr>\n",
       "      <th>0</th>\n",
       "      <td>TG 50:1</td>\n",
       "      <td>2.116332</td>\n",
       "      <td>DOD93 5xFAD F4 Hippocampus</td>\n",
       "      <td>Caitlin</td>\n",
       "    </tr>\n",
       "    <tr>\n",
       "      <th>1</th>\n",
       "      <td>TG 50:2</td>\n",
       "      <td>3.342194</td>\n",
       "      <td>DOD93 5xFAD F4 Hippocampus</td>\n",
       "      <td>Caitlin</td>\n",
       "    </tr>\n",
       "    <tr>\n",
       "      <th>2</th>\n",
       "      <td>TG 50:3</td>\n",
       "      <td>NaN</td>\n",
       "      <td>DOD93 5xFAD F4 Hippocampus</td>\n",
       "      <td>Caitlin</td>\n",
       "    </tr>\n",
       "    <tr>\n",
       "      <th>3</th>\n",
       "      <td>TG 52:2</td>\n",
       "      <td>2.316698</td>\n",
       "      <td>DOD93 5xFAD F4 Hippocampus</td>\n",
       "      <td>Caitlin</td>\n",
       "    </tr>\n",
       "    <tr>\n",
       "      <th>4</th>\n",
       "      <td>TG 52:3</td>\n",
       "      <td>3.354000</td>\n",
       "      <td>DOD93 5xFAD F4 Hippocampus</td>\n",
       "      <td>Caitlin</td>\n",
       "    </tr>\n",
       "    <tr>\n",
       "      <th>...</th>\n",
       "      <td>...</td>\n",
       "      <td>...</td>\n",
       "      <td>...</td>\n",
       "      <td>...</td>\n",
       "    </tr>\n",
       "    <tr>\n",
       "      <th>368</th>\n",
       "      <td>[TG(54:5)]_FA18:1</td>\n",
       "      <td>NaN</td>\n",
       "      <td>TailoredTAG18-1_O3on_RBDCanola0.0005mgmL_020723</td>\n",
       "      <td>Me</td>\n",
       "    </tr>\n",
       "    <tr>\n",
       "      <th>369</th>\n",
       "      <td>[TG(54:5)]_FA18:1</td>\n",
       "      <td>NaN</td>\n",
       "      <td>TailoredTAG18-1_O3on_RBDCanola0.0005mgmL_020723</td>\n",
       "      <td>Me</td>\n",
       "    </tr>\n",
       "    <tr>\n",
       "      <th>370</th>\n",
       "      <td>[TG(54:6)]_FA18:1</td>\n",
       "      <td>0.157901</td>\n",
       "      <td>TailoredTAG18-1_O3on_RBDCanola0.0005mgmL_020723</td>\n",
       "      <td>Me</td>\n",
       "    </tr>\n",
       "    <tr>\n",
       "      <th>371</th>\n",
       "      <td>[TG(54:6)]_FA18:1</td>\n",
       "      <td>NaN</td>\n",
       "      <td>TailoredTAG18-1_O3on_RBDCanola0.0005mgmL_020723</td>\n",
       "      <td>Me</td>\n",
       "    </tr>\n",
       "    <tr>\n",
       "      <th>372</th>\n",
       "      <td>[TG(54:6)]_FA18:1</td>\n",
       "      <td>NaN</td>\n",
       "      <td>TailoredTAG18-1_O3on_RBDCanola0.0005mgmL_020723</td>\n",
       "      <td>Me</td>\n",
       "    </tr>\n",
       "  </tbody>\n",
       "</table>\n",
       "<p>373 rows × 4 columns</p>\n",
       "</div>"
      ],
      "text/plain": [
       "                 Lipid    Ratios  \\\n",
       "0              TG 50:1  2.116332   \n",
       "1              TG 50:2  3.342194   \n",
       "2              TG 50:3       NaN   \n",
       "3              TG 52:2  2.316698   \n",
       "4              TG 52:3  3.354000   \n",
       "..                 ...       ...   \n",
       "368  [TG(54:5)]_FA18:1       NaN   \n",
       "369  [TG(54:5)]_FA18:1       NaN   \n",
       "370  [TG(54:6)]_FA18:1  0.157901   \n",
       "371  [TG(54:6)]_FA18:1       NaN   \n",
       "372  [TG(54:6)]_FA18:1       NaN   \n",
       "\n",
       "                                           Sample_ID   Person  \n",
       "0                         DOD93 5xFAD F4 Hippocampus  Caitlin  \n",
       "1                         DOD93 5xFAD F4 Hippocampus  Caitlin  \n",
       "2                         DOD93 5xFAD F4 Hippocampus  Caitlin  \n",
       "3                         DOD93 5xFAD F4 Hippocampus  Caitlin  \n",
       "4                         DOD93 5xFAD F4 Hippocampus  Caitlin  \n",
       "..                                               ...      ...  \n",
       "368  TailoredTAG18-1_O3on_RBDCanola0.0005mgmL_020723       Me  \n",
       "369  TailoredTAG18-1_O3on_RBDCanola0.0005mgmL_020723       Me  \n",
       "370  TailoredTAG18-1_O3on_RBDCanola0.0005mgmL_020723       Me  \n",
       "371  TailoredTAG18-1_O3on_RBDCanola0.0005mgmL_020723       Me  \n",
       "372  TailoredTAG18-1_O3on_RBDCanola0.0005mgmL_020723       Me  \n",
       "\n",
       "[373 rows x 4 columns]"
      ]
     },
     "execution_count": 67,
     "metadata": {},
     "output_type": "execute_result"
    }
   ],
   "source": [
    "import pandas as pd\n",
    "\n",
    "# Adding a new column 'Person' to indicate the source of data\n",
    "val_df['Person'] = 'Caitlin'\n",
    "df_matched_4d['Person'] = 'Me'\n",
    "\n",
    "# Selecting only the required columns\n",
    "val_df = val_df[['Lipid', 'Ratios', 'Sample_ID', 'Person']]\n",
    "df_matched_4d = df_matched_4d[['Lipid', 'Ratios', 'Sample_ID', 'Person']]\n",
    "\n",
    "# Concatenating the two DataFrames\n",
    "validation = pd.concat([val_df, df_matched_4d], ignore_index=True)\n",
    "\n",
    "# Displaying the combined DataFrame\n",
    "validation.head(None)"
   ]
  },
  {
   "cell_type": "code",
   "execution_count": 68,
   "metadata": {},
   "outputs": [
    {
     "data": {
      "text/html": [
       "<div>\n",
       "<style scoped>\n",
       "    .dataframe tbody tr th:only-of-type {\n",
       "        vertical-align: middle;\n",
       "    }\n",
       "\n",
       "    .dataframe tbody tr th {\n",
       "        vertical-align: top;\n",
       "    }\n",
       "\n",
       "    .dataframe thead th {\n",
       "        text-align: right;\n",
       "    }\n",
       "</style>\n",
       "<table border=\"1\" class=\"dataframe\">\n",
       "  <thead>\n",
       "    <tr style=\"text-align: right;\">\n",
       "      <th></th>\n",
       "      <th>Lipid</th>\n",
       "      <th>Ratios</th>\n",
       "      <th>Sample_ID</th>\n",
       "      <th>Person</th>\n",
       "      <th>ID</th>\n",
       "      <th>ID_2</th>\n",
       "      <th>ID_3</th>\n",
       "    </tr>\n",
       "  </thead>\n",
       "  <tbody>\n",
       "    <tr>\n",
       "      <th>0</th>\n",
       "      <td>TG 50:1</td>\n",
       "      <td>2.116332</td>\n",
       "      <td>DOD93 5xFAD F4 Hippocampus</td>\n",
       "      <td>Caitlin</td>\n",
       "      <td>HIP</td>\n",
       "      <td>DOD93</td>\n",
       "      <td>F4</td>\n",
       "    </tr>\n",
       "    <tr>\n",
       "      <th>1</th>\n",
       "      <td>TG 50:2</td>\n",
       "      <td>3.342194</td>\n",
       "      <td>DOD93 5xFAD F4 Hippocampus</td>\n",
       "      <td>Caitlin</td>\n",
       "      <td>HIP</td>\n",
       "      <td>DOD93</td>\n",
       "      <td>F4</td>\n",
       "    </tr>\n",
       "    <tr>\n",
       "      <th>2</th>\n",
       "      <td>TG 50:3</td>\n",
       "      <td>NaN</td>\n",
       "      <td>DOD93 5xFAD F4 Hippocampus</td>\n",
       "      <td>Caitlin</td>\n",
       "      <td>HIP</td>\n",
       "      <td>DOD93</td>\n",
       "      <td>F4</td>\n",
       "    </tr>\n",
       "    <tr>\n",
       "      <th>3</th>\n",
       "      <td>TG 52:2</td>\n",
       "      <td>2.316698</td>\n",
       "      <td>DOD93 5xFAD F4 Hippocampus</td>\n",
       "      <td>Caitlin</td>\n",
       "      <td>HIP</td>\n",
       "      <td>DOD93</td>\n",
       "      <td>F4</td>\n",
       "    </tr>\n",
       "    <tr>\n",
       "      <th>4</th>\n",
       "      <td>TG 52:3</td>\n",
       "      <td>3.354000</td>\n",
       "      <td>DOD93 5xFAD F4 Hippocampus</td>\n",
       "      <td>Caitlin</td>\n",
       "      <td>HIP</td>\n",
       "      <td>DOD93</td>\n",
       "      <td>F4</td>\n",
       "    </tr>\n",
       "    <tr>\n",
       "      <th>...</th>\n",
       "      <td>...</td>\n",
       "      <td>...</td>\n",
       "      <td>...</td>\n",
       "      <td>...</td>\n",
       "      <td>...</td>\n",
       "      <td>...</td>\n",
       "      <td>...</td>\n",
       "    </tr>\n",
       "    <tr>\n",
       "      <th>368</th>\n",
       "      <td>TG 54:5</td>\n",
       "      <td>NaN</td>\n",
       "      <td>TailoredTAG18-1_O3on_RBDCanola0.0005mgmL_020723</td>\n",
       "      <td>Me</td>\n",
       "      <td>None</td>\n",
       "      <td>None</td>\n",
       "      <td>None</td>\n",
       "    </tr>\n",
       "    <tr>\n",
       "      <th>369</th>\n",
       "      <td>TG 54:5</td>\n",
       "      <td>NaN</td>\n",
       "      <td>TailoredTAG18-1_O3on_RBDCanola0.0005mgmL_020723</td>\n",
       "      <td>Me</td>\n",
       "      <td>None</td>\n",
       "      <td>None</td>\n",
       "      <td>None</td>\n",
       "    </tr>\n",
       "    <tr>\n",
       "      <th>370</th>\n",
       "      <td>TG 54:6</td>\n",
       "      <td>0.157901</td>\n",
       "      <td>TailoredTAG18-1_O3on_RBDCanola0.0005mgmL_020723</td>\n",
       "      <td>Me</td>\n",
       "      <td>None</td>\n",
       "      <td>None</td>\n",
       "      <td>None</td>\n",
       "    </tr>\n",
       "    <tr>\n",
       "      <th>371</th>\n",
       "      <td>TG 54:6</td>\n",
       "      <td>NaN</td>\n",
       "      <td>TailoredTAG18-1_O3on_RBDCanola0.0005mgmL_020723</td>\n",
       "      <td>Me</td>\n",
       "      <td>None</td>\n",
       "      <td>None</td>\n",
       "      <td>None</td>\n",
       "    </tr>\n",
       "    <tr>\n",
       "      <th>372</th>\n",
       "      <td>TG 54:6</td>\n",
       "      <td>NaN</td>\n",
       "      <td>TailoredTAG18-1_O3on_RBDCanola0.0005mgmL_020723</td>\n",
       "      <td>Me</td>\n",
       "      <td>None</td>\n",
       "      <td>None</td>\n",
       "      <td>None</td>\n",
       "    </tr>\n",
       "  </tbody>\n",
       "</table>\n",
       "<p>373 rows × 7 columns</p>\n",
       "</div>"
      ],
      "text/plain": [
       "       Lipid    Ratios                                        Sample_ID  \\\n",
       "0    TG 50:1  2.116332                       DOD93 5xFAD F4 Hippocampus   \n",
       "1    TG 50:2  3.342194                       DOD93 5xFAD F4 Hippocampus   \n",
       "2    TG 50:3       NaN                       DOD93 5xFAD F4 Hippocampus   \n",
       "3    TG 52:2  2.316698                       DOD93 5xFAD F4 Hippocampus   \n",
       "4    TG 52:3  3.354000                       DOD93 5xFAD F4 Hippocampus   \n",
       "..       ...       ...                                              ...   \n",
       "368  TG 54:5       NaN  TailoredTAG18-1_O3on_RBDCanola0.0005mgmL_020723   \n",
       "369  TG 54:5       NaN  TailoredTAG18-1_O3on_RBDCanola0.0005mgmL_020723   \n",
       "370  TG 54:6  0.157901  TailoredTAG18-1_O3on_RBDCanola0.0005mgmL_020723   \n",
       "371  TG 54:6       NaN  TailoredTAG18-1_O3on_RBDCanola0.0005mgmL_020723   \n",
       "372  TG 54:6       NaN  TailoredTAG18-1_O3on_RBDCanola0.0005mgmL_020723   \n",
       "\n",
       "      Person    ID   ID_2  ID_3  \n",
       "0    Caitlin   HIP  DOD93    F4  \n",
       "1    Caitlin   HIP  DOD93    F4  \n",
       "2    Caitlin   HIP  DOD93    F4  \n",
       "3    Caitlin   HIP  DOD93    F4  \n",
       "4    Caitlin   HIP  DOD93    F4  \n",
       "..       ...   ...    ...   ...  \n",
       "368       Me  None   None  None  \n",
       "369       Me  None   None  None  \n",
       "370       Me  None   None  None  \n",
       "371       Me  None   None  None  \n",
       "372       Me  None   None  None  \n",
       "\n",
       "[373 rows x 7 columns]"
      ]
     },
     "execution_count": 68,
     "metadata": {},
     "output_type": "execute_result"
    }
   ],
   "source": [
    "\n",
    "import re\n",
    "# Mapping for 3-letter codes\n",
    "keywords_mapping = {\n",
    "    'hippocampus': 'HIP',\n",
    "    'hippo': 'HIP',\n",
    "    'cortex': 'COR',\n",
    "    'cort': 'COR',\n",
    "    'cerebellum': 'CER',\n",
    "    'cereb': 'CER',\n",
    "    'diencephalon': 'DIE',\n",
    "    'dienc': 'DIE'\n",
    "}\n",
    "additional_keywords = ['DOD93', 'DOD94', 'FAD185', 'FAD189']\n",
    "\n",
    "def get_id(sample_id):\n",
    "    # Iterate over the keywords_mapping dictionary\n",
    "    for keyword, id_code in keywords_mapping.items():\n",
    "        # Check if the keyword is present in the sample_id\n",
    "        if keyword.lower() in sample_id.lower():\n",
    "            return id_code\n",
    "    \n",
    "    # Return None if no match is found\n",
    "    return None\n",
    "\n",
    "# Function to get additional ID based on keywords\n",
    "def get_additional_id(sample_id):\n",
    "    for keyword in additional_keywords:\n",
    "        if keyword.lower() in sample_id.lower():\n",
    "            return keyword\n",
    "    return None\n",
    "\n",
    "# Create the new 'ID' column\n",
    "validation['ID'] = validation['Sample_ID'].apply(get_id)\n",
    "\n",
    "# Create the new 'ID_2' column\n",
    "validation['ID_2'] = validation['Sample_ID'].apply(get_additional_id)\n",
    "\n",
    "\n",
    "\n",
    "\n",
    "def reformat_lipid_name(lipid_name):\n",
    "    # Find pattern like TG(50:1) within the string\n",
    "    match = re.search(r'\\b([A-Z]{2})\\((\\d+:\\d+)\\)', lipid_name)\n",
    "    # If the pattern is found, reformat it as 'TG 50:1'\n",
    "    if match:\n",
    "        return f\"{match.group(1)} {match.group(2)}\"\n",
    "    # If the pattern is not found, return the original string\n",
    "    return lipid_name\n",
    "\n",
    "# Apply the transformation to each entry in the 'Lipid' column\n",
    "validation['Lipid'] = validation['Lipid'].apply(reformat_lipid_name)\n",
    "def extract_f3_f4(sample_id):\n",
    "    # Check if 'F3', 'F4', 'M1', 'M2', 'M3', 'M4', or 'Ms' is in the Sample_ID and return it\n",
    "    if 'F3' in sample_id:\n",
    "        return 'F3'\n",
    "    elif 'F4' in sample_id:\n",
    "        return 'F4'\n",
    "    elif 'M1' in sample_id:\n",
    "        return 'M1'\n",
    "    elif 'M2' in sample_id:\n",
    "        return 'M2'\n",
    "    elif 'M3' in sample_id:\n",
    "        return 'M3'\n",
    "    elif 'M4' in sample_id:\n",
    "        return 'M4'\n",
    "    elif 'Ms' in sample_id:\n",
    "        return 'Ms'\n",
    "    else:\n",
    "        return None\n",
    "\n",
    "\n",
    "# Create a new column 'ID_3' in the DataFrame\n",
    "validation['ID_3'] = validation['Sample_ID'].apply(extract_f3_f4)\n",
    "\n",
    "\n",
    "# validation.to_excel(\"validation.xlsx\")\n",
    "# Display the DataFrame\n",
    "validation.head(None)"
   ]
  },
  {
   "cell_type": "code",
   "execution_count": 69,
   "metadata": {},
   "outputs": [
    {
     "data": {
      "application/vnd.plotly.v1+json": {
       "config": {
        "plotlyServerURL": "https://plot.ly"
       },
       "data": [
        {
         "customdata": [
          [
           "DOD93 5xFAD F4 Hippocampus"
          ],
          [
           "DOD93 5xFAD F4 Hippocampus"
          ],
          [
           "DOD93 5xFAD F4 Hippocampus"
          ],
          [
           "DOD93 5xFAD F4 Hippocampus"
          ],
          [
           "DOD93 5xFAD F4 Hippocampus"
          ],
          [
           "DOD93 5xFAD F4 Hippocampus"
          ],
          [
           "DOD93 5xFAD F4 Hippocampus"
          ],
          [
           "DOD93 5xFAD F4 Hippocampus"
          ],
          [
           "DOD93 5xFAD F4 Hippocampus"
          ],
          [
           "DOD93 5xFAD F4 Hippocampus"
          ],
          [
           "DOD93 5xFAD F4 Hippocampus"
          ],
          [
           "DOD93 5xFAD F4 Hippocampus"
          ],
          [
           "DOD93 5xFAD F4 Hippocampus"
          ],
          [
           "DOD93 5xFAD F4 Hippocampus"
          ],
          [
           "DOD93 5xFAD F4 Hippocampus"
          ],
          [
           "DOD93 5xFAD F4 Hippocampus"
          ],
          [
           "DOD93 5xFAD F4 Hippocampus"
          ],
          [
           "DOD93 5xFAD F4 Hippocampus"
          ]
         ],
         "hovertemplate": "Person=Caitlin<br>Lipid=%{x}<br>Ratios=%{y}<br>Sample_ID=%{customdata[0]}<extra></extra>",
         "legendgroup": "Caitlin",
         "marker": {
          "color": "#636efa",
          "symbol": "circle"
         },
         "mode": "markers",
         "name": "Caitlin",
         "orientation": "v",
         "showlegend": true,
         "type": "scatter",
         "x": [
          "TG 50:1",
          "TG 50:2",
          "TG 50:3",
          "TG 52:2",
          "TG 52:3",
          "TG 52:4",
          "TG 54:3",
          "TG 54:4",
          "TG 54:5",
          "TG 50:1",
          "TG 50:2",
          "TG 50:3",
          "TG 52:2",
          "TG 52:3",
          "TG 52:4",
          "TG 54:3",
          "TG 54:4",
          "TG 54:5"
         ],
         "xaxis": "x",
         "y": [
          2.1163323793294304,
          3.3421936763146727,
          null,
          2.3166980445187626,
          3.353999522608713,
          null,
          3.0235108920627423,
          5.131522634196937,
          null,
          2.1163323793294304,
          3.3421936763146727,
          null,
          2.3166980445187626,
          3.353999522608713,
          null,
          3.0235108920627423,
          5.131522634196937,
          null
         ],
         "yaxis": "y"
        }
       ],
       "layout": {
        "legend": {
         "title": {
          "text": "Person"
         },
         "tracegroupgap": 0
        },
        "template": {
         "data": {
          "bar": [
           {
            "error_x": {
             "color": "#2a3f5f"
            },
            "error_y": {
             "color": "#2a3f5f"
            },
            "marker": {
             "line": {
              "color": "#E5ECF6",
              "width": 0.5
             }
            },
            "type": "bar"
           }
          ],
          "barpolar": [
           {
            "marker": {
             "line": {
              "color": "#E5ECF6",
              "width": 0.5
             }
            },
            "type": "barpolar"
           }
          ],
          "carpet": [
           {
            "aaxis": {
             "endlinecolor": "#2a3f5f",
             "gridcolor": "white",
             "linecolor": "white",
             "minorgridcolor": "white",
             "startlinecolor": "#2a3f5f"
            },
            "baxis": {
             "endlinecolor": "#2a3f5f",
             "gridcolor": "white",
             "linecolor": "white",
             "minorgridcolor": "white",
             "startlinecolor": "#2a3f5f"
            },
            "type": "carpet"
           }
          ],
          "choropleth": [
           {
            "colorbar": {
             "outlinewidth": 0,
             "ticks": ""
            },
            "type": "choropleth"
           }
          ],
          "contour": [
           {
            "colorbar": {
             "outlinewidth": 0,
             "ticks": ""
            },
            "colorscale": [
             [
              0,
              "#0d0887"
             ],
             [
              0.1111111111111111,
              "#46039f"
             ],
             [
              0.2222222222222222,
              "#7201a8"
             ],
             [
              0.3333333333333333,
              "#9c179e"
             ],
             [
              0.4444444444444444,
              "#bd3786"
             ],
             [
              0.5555555555555556,
              "#d8576b"
             ],
             [
              0.6666666666666666,
              "#ed7953"
             ],
             [
              0.7777777777777778,
              "#fb9f3a"
             ],
             [
              0.8888888888888888,
              "#fdca26"
             ],
             [
              1,
              "#f0f921"
             ]
            ],
            "type": "contour"
           }
          ],
          "contourcarpet": [
           {
            "colorbar": {
             "outlinewidth": 0,
             "ticks": ""
            },
            "type": "contourcarpet"
           }
          ],
          "heatmap": [
           {
            "colorbar": {
             "outlinewidth": 0,
             "ticks": ""
            },
            "colorscale": [
             [
              0,
              "#0d0887"
             ],
             [
              0.1111111111111111,
              "#46039f"
             ],
             [
              0.2222222222222222,
              "#7201a8"
             ],
             [
              0.3333333333333333,
              "#9c179e"
             ],
             [
              0.4444444444444444,
              "#bd3786"
             ],
             [
              0.5555555555555556,
              "#d8576b"
             ],
             [
              0.6666666666666666,
              "#ed7953"
             ],
             [
              0.7777777777777778,
              "#fb9f3a"
             ],
             [
              0.8888888888888888,
              "#fdca26"
             ],
             [
              1,
              "#f0f921"
             ]
            ],
            "type": "heatmap"
           }
          ],
          "heatmapgl": [
           {
            "colorbar": {
             "outlinewidth": 0,
             "ticks": ""
            },
            "colorscale": [
             [
              0,
              "#0d0887"
             ],
             [
              0.1111111111111111,
              "#46039f"
             ],
             [
              0.2222222222222222,
              "#7201a8"
             ],
             [
              0.3333333333333333,
              "#9c179e"
             ],
             [
              0.4444444444444444,
              "#bd3786"
             ],
             [
              0.5555555555555556,
              "#d8576b"
             ],
             [
              0.6666666666666666,
              "#ed7953"
             ],
             [
              0.7777777777777778,
              "#fb9f3a"
             ],
             [
              0.8888888888888888,
              "#fdca26"
             ],
             [
              1,
              "#f0f921"
             ]
            ],
            "type": "heatmapgl"
           }
          ],
          "histogram": [
           {
            "marker": {
             "colorbar": {
              "outlinewidth": 0,
              "ticks": ""
             }
            },
            "type": "histogram"
           }
          ],
          "histogram2d": [
           {
            "colorbar": {
             "outlinewidth": 0,
             "ticks": ""
            },
            "colorscale": [
             [
              0,
              "#0d0887"
             ],
             [
              0.1111111111111111,
              "#46039f"
             ],
             [
              0.2222222222222222,
              "#7201a8"
             ],
             [
              0.3333333333333333,
              "#9c179e"
             ],
             [
              0.4444444444444444,
              "#bd3786"
             ],
             [
              0.5555555555555556,
              "#d8576b"
             ],
             [
              0.6666666666666666,
              "#ed7953"
             ],
             [
              0.7777777777777778,
              "#fb9f3a"
             ],
             [
              0.8888888888888888,
              "#fdca26"
             ],
             [
              1,
              "#f0f921"
             ]
            ],
            "type": "histogram2d"
           }
          ],
          "histogram2dcontour": [
           {
            "colorbar": {
             "outlinewidth": 0,
             "ticks": ""
            },
            "colorscale": [
             [
              0,
              "#0d0887"
             ],
             [
              0.1111111111111111,
              "#46039f"
             ],
             [
              0.2222222222222222,
              "#7201a8"
             ],
             [
              0.3333333333333333,
              "#9c179e"
             ],
             [
              0.4444444444444444,
              "#bd3786"
             ],
             [
              0.5555555555555556,
              "#d8576b"
             ],
             [
              0.6666666666666666,
              "#ed7953"
             ],
             [
              0.7777777777777778,
              "#fb9f3a"
             ],
             [
              0.8888888888888888,
              "#fdca26"
             ],
             [
              1,
              "#f0f921"
             ]
            ],
            "type": "histogram2dcontour"
           }
          ],
          "mesh3d": [
           {
            "colorbar": {
             "outlinewidth": 0,
             "ticks": ""
            },
            "type": "mesh3d"
           }
          ],
          "parcoords": [
           {
            "line": {
             "colorbar": {
              "outlinewidth": 0,
              "ticks": ""
             }
            },
            "type": "parcoords"
           }
          ],
          "pie": [
           {
            "automargin": true,
            "type": "pie"
           }
          ],
          "scatter": [
           {
            "marker": {
             "colorbar": {
              "outlinewidth": 0,
              "ticks": ""
             }
            },
            "type": "scatter"
           }
          ],
          "scatter3d": [
           {
            "line": {
             "colorbar": {
              "outlinewidth": 0,
              "ticks": ""
             }
            },
            "marker": {
             "colorbar": {
              "outlinewidth": 0,
              "ticks": ""
             }
            },
            "type": "scatter3d"
           }
          ],
          "scattercarpet": [
           {
            "marker": {
             "colorbar": {
              "outlinewidth": 0,
              "ticks": ""
             }
            },
            "type": "scattercarpet"
           }
          ],
          "scattergeo": [
           {
            "marker": {
             "colorbar": {
              "outlinewidth": 0,
              "ticks": ""
             }
            },
            "type": "scattergeo"
           }
          ],
          "scattergl": [
           {
            "marker": {
             "colorbar": {
              "outlinewidth": 0,
              "ticks": ""
             }
            },
            "type": "scattergl"
           }
          ],
          "scattermapbox": [
           {
            "marker": {
             "colorbar": {
              "outlinewidth": 0,
              "ticks": ""
             }
            },
            "type": "scattermapbox"
           }
          ],
          "scatterpolar": [
           {
            "marker": {
             "colorbar": {
              "outlinewidth": 0,
              "ticks": ""
             }
            },
            "type": "scatterpolar"
           }
          ],
          "scatterpolargl": [
           {
            "marker": {
             "colorbar": {
              "outlinewidth": 0,
              "ticks": ""
             }
            },
            "type": "scatterpolargl"
           }
          ],
          "scatterternary": [
           {
            "marker": {
             "colorbar": {
              "outlinewidth": 0,
              "ticks": ""
             }
            },
            "type": "scatterternary"
           }
          ],
          "surface": [
           {
            "colorbar": {
             "outlinewidth": 0,
             "ticks": ""
            },
            "colorscale": [
             [
              0,
              "#0d0887"
             ],
             [
              0.1111111111111111,
              "#46039f"
             ],
             [
              0.2222222222222222,
              "#7201a8"
             ],
             [
              0.3333333333333333,
              "#9c179e"
             ],
             [
              0.4444444444444444,
              "#bd3786"
             ],
             [
              0.5555555555555556,
              "#d8576b"
             ],
             [
              0.6666666666666666,
              "#ed7953"
             ],
             [
              0.7777777777777778,
              "#fb9f3a"
             ],
             [
              0.8888888888888888,
              "#fdca26"
             ],
             [
              1,
              "#f0f921"
             ]
            ],
            "type": "surface"
           }
          ],
          "table": [
           {
            "cells": {
             "fill": {
              "color": "#EBF0F8"
             },
             "line": {
              "color": "white"
             }
            },
            "header": {
             "fill": {
              "color": "#C8D4E3"
             },
             "line": {
              "color": "white"
             }
            },
            "type": "table"
           }
          ]
         },
         "layout": {
          "annotationdefaults": {
           "arrowcolor": "#2a3f5f",
           "arrowhead": 0,
           "arrowwidth": 1
          },
          "coloraxis": {
           "colorbar": {
            "outlinewidth": 0,
            "ticks": ""
           }
          },
          "colorscale": {
           "diverging": [
            [
             0,
             "#8e0152"
            ],
            [
             0.1,
             "#c51b7d"
            ],
            [
             0.2,
             "#de77ae"
            ],
            [
             0.3,
             "#f1b6da"
            ],
            [
             0.4,
             "#fde0ef"
            ],
            [
             0.5,
             "#f7f7f7"
            ],
            [
             0.6,
             "#e6f5d0"
            ],
            [
             0.7,
             "#b8e186"
            ],
            [
             0.8,
             "#7fbc41"
            ],
            [
             0.9,
             "#4d9221"
            ],
            [
             1,
             "#276419"
            ]
           ],
           "sequential": [
            [
             0,
             "#0d0887"
            ],
            [
             0.1111111111111111,
             "#46039f"
            ],
            [
             0.2222222222222222,
             "#7201a8"
            ],
            [
             0.3333333333333333,
             "#9c179e"
            ],
            [
             0.4444444444444444,
             "#bd3786"
            ],
            [
             0.5555555555555556,
             "#d8576b"
            ],
            [
             0.6666666666666666,
             "#ed7953"
            ],
            [
             0.7777777777777778,
             "#fb9f3a"
            ],
            [
             0.8888888888888888,
             "#fdca26"
            ],
            [
             1,
             "#f0f921"
            ]
           ],
           "sequentialminus": [
            [
             0,
             "#0d0887"
            ],
            [
             0.1111111111111111,
             "#46039f"
            ],
            [
             0.2222222222222222,
             "#7201a8"
            ],
            [
             0.3333333333333333,
             "#9c179e"
            ],
            [
             0.4444444444444444,
             "#bd3786"
            ],
            [
             0.5555555555555556,
             "#d8576b"
            ],
            [
             0.6666666666666666,
             "#ed7953"
            ],
            [
             0.7777777777777778,
             "#fb9f3a"
            ],
            [
             0.8888888888888888,
             "#fdca26"
            ],
            [
             1,
             "#f0f921"
            ]
           ]
          },
          "colorway": [
           "#636efa",
           "#EF553B",
           "#00cc96",
           "#ab63fa",
           "#FFA15A",
           "#19d3f3",
           "#FF6692",
           "#B6E880",
           "#FF97FF",
           "#FECB52"
          ],
          "font": {
           "color": "#2a3f5f"
          },
          "geo": {
           "bgcolor": "white",
           "lakecolor": "white",
           "landcolor": "#E5ECF6",
           "showlakes": true,
           "showland": true,
           "subunitcolor": "white"
          },
          "hoverlabel": {
           "align": "left"
          },
          "hovermode": "closest",
          "mapbox": {
           "style": "light"
          },
          "paper_bgcolor": "white",
          "plot_bgcolor": "#E5ECF6",
          "polar": {
           "angularaxis": {
            "gridcolor": "white",
            "linecolor": "white",
            "ticks": ""
           },
           "bgcolor": "#E5ECF6",
           "radialaxis": {
            "gridcolor": "white",
            "linecolor": "white",
            "ticks": ""
           }
          },
          "scene": {
           "xaxis": {
            "backgroundcolor": "#E5ECF6",
            "gridcolor": "white",
            "gridwidth": 2,
            "linecolor": "white",
            "showbackground": true,
            "ticks": "",
            "zerolinecolor": "white"
           },
           "yaxis": {
            "backgroundcolor": "#E5ECF6",
            "gridcolor": "white",
            "gridwidth": 2,
            "linecolor": "white",
            "showbackground": true,
            "ticks": "",
            "zerolinecolor": "white"
           },
           "zaxis": {
            "backgroundcolor": "#E5ECF6",
            "gridcolor": "white",
            "gridwidth": 2,
            "linecolor": "white",
            "showbackground": true,
            "ticks": "",
            "zerolinecolor": "white"
           }
          },
          "shapedefaults": {
           "line": {
            "color": "#2a3f5f"
           }
          },
          "ternary": {
           "aaxis": {
            "gridcolor": "white",
            "linecolor": "white",
            "ticks": ""
           },
           "baxis": {
            "gridcolor": "white",
            "linecolor": "white",
            "ticks": ""
           },
           "bgcolor": "#E5ECF6",
           "caxis": {
            "gridcolor": "white",
            "linecolor": "white",
            "ticks": ""
           }
          },
          "title": {
           "x": 0.05
          },
          "xaxis": {
           "automargin": true,
           "gridcolor": "white",
           "linecolor": "white",
           "ticks": "",
           "title": {
            "standoff": 15
           },
           "zerolinecolor": "white",
           "zerolinewidth": 2
          },
          "yaxis": {
           "automargin": true,
           "gridcolor": "white",
           "linecolor": "white",
           "ticks": "",
           "title": {
            "standoff": 15
           },
           "zerolinecolor": "white",
           "zerolinewidth": 2
          }
         }
        },
        "title": {
         "text": "Lipid vs Ratios for ID: HIP, ID_2: DOD93, ID_3: F4"
        },
        "xaxis": {
         "anchor": "y",
         "domain": [
          0,
          1
         ],
         "title": {
          "text": "Lipid"
         }
        },
        "yaxis": {
         "anchor": "x",
         "domain": [
          0,
          1
         ],
         "title": {
          "text": "Ratios"
         }
        }
       }
      },
      "text/html": [
       "<div>                            <div id=\"a8820f94-059d-4309-b9c6-2a4b4871df6b\" class=\"plotly-graph-div\" style=\"height:525px; width:100%;\"></div>            <script type=\"text/javascript\">                require([\"plotly\"], function(Plotly) {                    window.PLOTLYENV=window.PLOTLYENV || {};                                    if (document.getElementById(\"a8820f94-059d-4309-b9c6-2a4b4871df6b\")) {                    Plotly.newPlot(                        \"a8820f94-059d-4309-b9c6-2a4b4871df6b\",                        [{\"customdata\": [[\"DOD93 5xFAD F4 Hippocampus\"], [\"DOD93 5xFAD F4 Hippocampus\"], [\"DOD93 5xFAD F4 Hippocampus\"], [\"DOD93 5xFAD F4 Hippocampus\"], [\"DOD93 5xFAD F4 Hippocampus\"], [\"DOD93 5xFAD F4 Hippocampus\"], [\"DOD93 5xFAD F4 Hippocampus\"], [\"DOD93 5xFAD F4 Hippocampus\"], [\"DOD93 5xFAD F4 Hippocampus\"], [\"DOD93 5xFAD F4 Hippocampus\"], [\"DOD93 5xFAD F4 Hippocampus\"], [\"DOD93 5xFAD F4 Hippocampus\"], [\"DOD93 5xFAD F4 Hippocampus\"], [\"DOD93 5xFAD F4 Hippocampus\"], [\"DOD93 5xFAD F4 Hippocampus\"], [\"DOD93 5xFAD F4 Hippocampus\"], [\"DOD93 5xFAD F4 Hippocampus\"], [\"DOD93 5xFAD F4 Hippocampus\"]], \"hovertemplate\": \"Person=Caitlin<br>Lipid=%{x}<br>Ratios=%{y}<br>Sample_ID=%{customdata[0]}<extra></extra>\", \"legendgroup\": \"Caitlin\", \"marker\": {\"color\": \"#636efa\", \"symbol\": \"circle\"}, \"mode\": \"markers\", \"name\": \"Caitlin\", \"orientation\": \"v\", \"showlegend\": true, \"type\": \"scatter\", \"x\": [\"TG 50:1\", \"TG 50:2\", \"TG 50:3\", \"TG 52:2\", \"TG 52:3\", \"TG 52:4\", \"TG 54:3\", \"TG 54:4\", \"TG 54:5\", \"TG 50:1\", \"TG 50:2\", \"TG 50:3\", \"TG 52:2\", \"TG 52:3\", \"TG 52:4\", \"TG 54:3\", \"TG 54:4\", \"TG 54:5\"], \"xaxis\": \"x\", \"y\": [2.1163323793294304, 3.3421936763146727, null, 2.3166980445187626, 3.353999522608713, null, 3.0235108920627423, 5.131522634196937, null, 2.1163323793294304, 3.3421936763146727, null, 2.3166980445187626, 3.353999522608713, null, 3.0235108920627423, 5.131522634196937, null], \"yaxis\": \"y\"}],                        {\"legend\": {\"title\": {\"text\": \"Person\"}, \"tracegroupgap\": 0}, \"template\": {\"data\": {\"bar\": [{\"error_x\": {\"color\": \"#2a3f5f\"}, \"error_y\": {\"color\": \"#2a3f5f\"}, \"marker\": {\"line\": {\"color\": \"#E5ECF6\", \"width\": 0.5}}, \"type\": \"bar\"}], \"barpolar\": [{\"marker\": {\"line\": {\"color\": \"#E5ECF6\", \"width\": 0.5}}, \"type\": \"barpolar\"}], \"carpet\": [{\"aaxis\": {\"endlinecolor\": \"#2a3f5f\", \"gridcolor\": \"white\", \"linecolor\": \"white\", \"minorgridcolor\": \"white\", \"startlinecolor\": \"#2a3f5f\"}, \"baxis\": {\"endlinecolor\": \"#2a3f5f\", \"gridcolor\": \"white\", \"linecolor\": \"white\", \"minorgridcolor\": \"white\", \"startlinecolor\": \"#2a3f5f\"}, \"type\": \"carpet\"}], \"choropleth\": [{\"colorbar\": {\"outlinewidth\": 0, \"ticks\": \"\"}, \"type\": \"choropleth\"}], \"contour\": [{\"colorbar\": {\"outlinewidth\": 0, \"ticks\": \"\"}, \"colorscale\": [[0.0, \"#0d0887\"], [0.1111111111111111, \"#46039f\"], [0.2222222222222222, \"#7201a8\"], [0.3333333333333333, \"#9c179e\"], [0.4444444444444444, \"#bd3786\"], [0.5555555555555556, \"#d8576b\"], [0.6666666666666666, \"#ed7953\"], [0.7777777777777778, \"#fb9f3a\"], [0.8888888888888888, \"#fdca26\"], [1.0, \"#f0f921\"]], \"type\": \"contour\"}], \"contourcarpet\": [{\"colorbar\": {\"outlinewidth\": 0, \"ticks\": \"\"}, \"type\": \"contourcarpet\"}], \"heatmap\": [{\"colorbar\": {\"outlinewidth\": 0, \"ticks\": \"\"}, \"colorscale\": [[0.0, \"#0d0887\"], [0.1111111111111111, \"#46039f\"], [0.2222222222222222, \"#7201a8\"], [0.3333333333333333, \"#9c179e\"], [0.4444444444444444, \"#bd3786\"], [0.5555555555555556, \"#d8576b\"], [0.6666666666666666, \"#ed7953\"], [0.7777777777777778, \"#fb9f3a\"], [0.8888888888888888, \"#fdca26\"], [1.0, \"#f0f921\"]], \"type\": \"heatmap\"}], \"heatmapgl\": [{\"colorbar\": {\"outlinewidth\": 0, \"ticks\": \"\"}, \"colorscale\": [[0.0, \"#0d0887\"], [0.1111111111111111, \"#46039f\"], [0.2222222222222222, \"#7201a8\"], [0.3333333333333333, \"#9c179e\"], [0.4444444444444444, \"#bd3786\"], [0.5555555555555556, \"#d8576b\"], [0.6666666666666666, \"#ed7953\"], [0.7777777777777778, \"#fb9f3a\"], [0.8888888888888888, \"#fdca26\"], [1.0, \"#f0f921\"]], \"type\": \"heatmapgl\"}], \"histogram\": [{\"marker\": {\"colorbar\": {\"outlinewidth\": 0, \"ticks\": \"\"}}, \"type\": \"histogram\"}], \"histogram2d\": [{\"colorbar\": {\"outlinewidth\": 0, \"ticks\": \"\"}, \"colorscale\": [[0.0, \"#0d0887\"], [0.1111111111111111, \"#46039f\"], [0.2222222222222222, \"#7201a8\"], [0.3333333333333333, \"#9c179e\"], [0.4444444444444444, \"#bd3786\"], [0.5555555555555556, \"#d8576b\"], [0.6666666666666666, \"#ed7953\"], [0.7777777777777778, \"#fb9f3a\"], [0.8888888888888888, \"#fdca26\"], [1.0, \"#f0f921\"]], \"type\": \"histogram2d\"}], \"histogram2dcontour\": [{\"colorbar\": {\"outlinewidth\": 0, \"ticks\": \"\"}, \"colorscale\": [[0.0, \"#0d0887\"], [0.1111111111111111, \"#46039f\"], [0.2222222222222222, \"#7201a8\"], [0.3333333333333333, \"#9c179e\"], [0.4444444444444444, \"#bd3786\"], [0.5555555555555556, \"#d8576b\"], [0.6666666666666666, \"#ed7953\"], [0.7777777777777778, \"#fb9f3a\"], [0.8888888888888888, \"#fdca26\"], [1.0, \"#f0f921\"]], \"type\": \"histogram2dcontour\"}], \"mesh3d\": [{\"colorbar\": {\"outlinewidth\": 0, \"ticks\": \"\"}, \"type\": \"mesh3d\"}], \"parcoords\": [{\"line\": {\"colorbar\": {\"outlinewidth\": 0, \"ticks\": \"\"}}, \"type\": \"parcoords\"}], \"pie\": [{\"automargin\": true, \"type\": \"pie\"}], \"scatter\": [{\"marker\": {\"colorbar\": {\"outlinewidth\": 0, \"ticks\": \"\"}}, \"type\": \"scatter\"}], \"scatter3d\": [{\"line\": {\"colorbar\": {\"outlinewidth\": 0, \"ticks\": \"\"}}, \"marker\": {\"colorbar\": {\"outlinewidth\": 0, \"ticks\": \"\"}}, \"type\": \"scatter3d\"}], \"scattercarpet\": [{\"marker\": {\"colorbar\": {\"outlinewidth\": 0, \"ticks\": \"\"}}, \"type\": \"scattercarpet\"}], \"scattergeo\": [{\"marker\": {\"colorbar\": {\"outlinewidth\": 0, \"ticks\": \"\"}}, \"type\": \"scattergeo\"}], \"scattergl\": [{\"marker\": {\"colorbar\": {\"outlinewidth\": 0, \"ticks\": \"\"}}, \"type\": \"scattergl\"}], \"scattermapbox\": [{\"marker\": {\"colorbar\": {\"outlinewidth\": 0, \"ticks\": \"\"}}, \"type\": \"scattermapbox\"}], \"scatterpolar\": [{\"marker\": {\"colorbar\": {\"outlinewidth\": 0, \"ticks\": \"\"}}, \"type\": \"scatterpolar\"}], \"scatterpolargl\": [{\"marker\": {\"colorbar\": {\"outlinewidth\": 0, \"ticks\": \"\"}}, \"type\": \"scatterpolargl\"}], \"scatterternary\": [{\"marker\": {\"colorbar\": {\"outlinewidth\": 0, \"ticks\": \"\"}}, \"type\": \"scatterternary\"}], \"surface\": [{\"colorbar\": {\"outlinewidth\": 0, \"ticks\": \"\"}, \"colorscale\": [[0.0, \"#0d0887\"], [0.1111111111111111, \"#46039f\"], [0.2222222222222222, \"#7201a8\"], [0.3333333333333333, \"#9c179e\"], [0.4444444444444444, \"#bd3786\"], [0.5555555555555556, \"#d8576b\"], [0.6666666666666666, \"#ed7953\"], [0.7777777777777778, \"#fb9f3a\"], [0.8888888888888888, \"#fdca26\"], [1.0, \"#f0f921\"]], \"type\": \"surface\"}], \"table\": [{\"cells\": {\"fill\": {\"color\": \"#EBF0F8\"}, \"line\": {\"color\": \"white\"}}, \"header\": {\"fill\": {\"color\": \"#C8D4E3\"}, \"line\": {\"color\": \"white\"}}, \"type\": \"table\"}]}, \"layout\": {\"annotationdefaults\": {\"arrowcolor\": \"#2a3f5f\", \"arrowhead\": 0, \"arrowwidth\": 1}, \"coloraxis\": {\"colorbar\": {\"outlinewidth\": 0, \"ticks\": \"\"}}, \"colorscale\": {\"diverging\": [[0, \"#8e0152\"], [0.1, \"#c51b7d\"], [0.2, \"#de77ae\"], [0.3, \"#f1b6da\"], [0.4, \"#fde0ef\"], [0.5, \"#f7f7f7\"], [0.6, \"#e6f5d0\"], [0.7, \"#b8e186\"], [0.8, \"#7fbc41\"], [0.9, \"#4d9221\"], [1, \"#276419\"]], \"sequential\": [[0.0, \"#0d0887\"], [0.1111111111111111, \"#46039f\"], [0.2222222222222222, \"#7201a8\"], [0.3333333333333333, \"#9c179e\"], [0.4444444444444444, \"#bd3786\"], [0.5555555555555556, \"#d8576b\"], [0.6666666666666666, \"#ed7953\"], [0.7777777777777778, \"#fb9f3a\"], [0.8888888888888888, \"#fdca26\"], [1.0, \"#f0f921\"]], \"sequentialminus\": [[0.0, \"#0d0887\"], [0.1111111111111111, \"#46039f\"], [0.2222222222222222, \"#7201a8\"], [0.3333333333333333, \"#9c179e\"], [0.4444444444444444, \"#bd3786\"], [0.5555555555555556, \"#d8576b\"], [0.6666666666666666, \"#ed7953\"], [0.7777777777777778, \"#fb9f3a\"], [0.8888888888888888, \"#fdca26\"], [1.0, \"#f0f921\"]]}, \"colorway\": [\"#636efa\", \"#EF553B\", \"#00cc96\", \"#ab63fa\", \"#FFA15A\", \"#19d3f3\", \"#FF6692\", \"#B6E880\", \"#FF97FF\", \"#FECB52\"], \"font\": {\"color\": \"#2a3f5f\"}, \"geo\": {\"bgcolor\": \"white\", \"lakecolor\": \"white\", \"landcolor\": \"#E5ECF6\", \"showlakes\": true, \"showland\": true, \"subunitcolor\": \"white\"}, \"hoverlabel\": {\"align\": \"left\"}, \"hovermode\": \"closest\", \"mapbox\": {\"style\": \"light\"}, \"paper_bgcolor\": \"white\", \"plot_bgcolor\": \"#E5ECF6\", \"polar\": {\"angularaxis\": {\"gridcolor\": \"white\", \"linecolor\": \"white\", \"ticks\": \"\"}, \"bgcolor\": \"#E5ECF6\", \"radialaxis\": {\"gridcolor\": \"white\", \"linecolor\": \"white\", \"ticks\": \"\"}}, \"scene\": {\"xaxis\": {\"backgroundcolor\": \"#E5ECF6\", \"gridcolor\": \"white\", \"gridwidth\": 2, \"linecolor\": \"white\", \"showbackground\": true, \"ticks\": \"\", \"zerolinecolor\": \"white\"}, \"yaxis\": {\"backgroundcolor\": \"#E5ECF6\", \"gridcolor\": \"white\", \"gridwidth\": 2, \"linecolor\": \"white\", \"showbackground\": true, \"ticks\": \"\", \"zerolinecolor\": \"white\"}, \"zaxis\": {\"backgroundcolor\": \"#E5ECF6\", \"gridcolor\": \"white\", \"gridwidth\": 2, \"linecolor\": \"white\", \"showbackground\": true, \"ticks\": \"\", \"zerolinecolor\": \"white\"}}, \"shapedefaults\": {\"line\": {\"color\": \"#2a3f5f\"}}, \"ternary\": {\"aaxis\": {\"gridcolor\": \"white\", \"linecolor\": \"white\", \"ticks\": \"\"}, \"baxis\": {\"gridcolor\": \"white\", \"linecolor\": \"white\", \"ticks\": \"\"}, \"bgcolor\": \"#E5ECF6\", \"caxis\": {\"gridcolor\": \"white\", \"linecolor\": \"white\", \"ticks\": \"\"}}, \"title\": {\"x\": 0.05}, \"xaxis\": {\"automargin\": true, \"gridcolor\": \"white\", \"linecolor\": \"white\", \"ticks\": \"\", \"title\": {\"standoff\": 15}, \"zerolinecolor\": \"white\", \"zerolinewidth\": 2}, \"yaxis\": {\"automargin\": true, \"gridcolor\": \"white\", \"linecolor\": \"white\", \"ticks\": \"\", \"title\": {\"standoff\": 15}, \"zerolinecolor\": \"white\", \"zerolinewidth\": 2}}}, \"title\": {\"text\": \"Lipid vs Ratios for ID: HIP, ID_2: DOD93, ID_3: F4\"}, \"xaxis\": {\"anchor\": \"y\", \"domain\": [0.0, 1.0], \"title\": {\"text\": \"Lipid\"}}, \"yaxis\": {\"anchor\": \"x\", \"domain\": [0.0, 1.0], \"title\": {\"text\": \"Ratios\"}}},                        {\"responsive\": true}                    ).then(function(){\n",
       "                            \n",
       "var gd = document.getElementById('a8820f94-059d-4309-b9c6-2a4b4871df6b');\n",
       "var x = new MutationObserver(function (mutations, observer) {{\n",
       "        var display = window.getComputedStyle(gd).display;\n",
       "        if (!display || display === 'none') {{\n",
       "            console.log([gd, 'removed!']);\n",
       "            Plotly.purge(gd);\n",
       "            observer.disconnect();\n",
       "        }}\n",
       "}});\n",
       "\n",
       "// Listen for the removal of the full notebook cells\n",
       "var notebookContainer = gd.closest('#notebook-container');\n",
       "if (notebookContainer) {{\n",
       "    x.observe(notebookContainer, {childList: true});\n",
       "}}\n",
       "\n",
       "// Listen for the clearing of the current output cell\n",
       "var outputEl = gd.closest('.output');\n",
       "if (outputEl) {{\n",
       "    x.observe(outputEl, {childList: true});\n",
       "}}\n",
       "\n",
       "                        })                };                });            </script>        </div>"
      ]
     },
     "metadata": {},
     "output_type": "display_data"
    },
    {
     "data": {
      "application/vnd.plotly.v1+json": {
       "config": {
        "plotlyServerURL": "https://plot.ly"
       },
       "data": [
        {
         "customdata": [
          [
           "DOD93 5xFAD F4 Cortex"
          ],
          [
           "DOD93 5xFAD F4 Cortex"
          ],
          [
           "DOD93 5xFAD F4 Cortex"
          ],
          [
           "DOD93 5xFAD F4 Cortex"
          ],
          [
           "DOD93 5xFAD F4 Cortex"
          ],
          [
           "DOD93 5xFAD F4 Cortex"
          ],
          [
           "DOD93 5xFAD F4 Cortex"
          ],
          [
           "DOD93 5xFAD F4 Cortex"
          ],
          [
           "DOD93 5xFAD F4 Cortex"
          ],
          [
           "DOD93 5xFAD F4 Cortex"
          ],
          [
           "DOD93 5xFAD F4 Cortex"
          ],
          [
           "DOD93 5xFAD F4 Cortex"
          ],
          [
           "DOD93 5xFAD F4 Cortex"
          ],
          [
           "DOD93 5xFAD F4 Cortex"
          ],
          [
           "DOD93 5xFAD F4 Cortex"
          ],
          [
           "DOD93 5xFAD F4 Cortex"
          ],
          [
           "DOD93 5xFAD F4 Cortex"
          ],
          [
           "DOD93 5xFAD F4 Cortex"
          ]
         ],
         "hovertemplate": "Person=Caitlin<br>Lipid=%{x}<br>Ratios=%{y}<br>Sample_ID=%{customdata[0]}<extra></extra>",
         "legendgroup": "Caitlin",
         "marker": {
          "color": "#636efa",
          "symbol": "circle"
         },
         "mode": "markers",
         "name": "Caitlin",
         "orientation": "v",
         "showlegend": true,
         "type": "scatter",
         "x": [
          "TG 50:1",
          "TG 50:2",
          "TG 50:3",
          "TG 52:2",
          "TG 52:3",
          "TG 52:4",
          "TG 54:3",
          "TG 54:4",
          "TG 54:5",
          "TG 50:1",
          "TG 50:2",
          "TG 50:3",
          "TG 52:2",
          "TG 52:3",
          "TG 52:4",
          "TG 54:3",
          "TG 54:4",
          "TG 54:5"
         ],
         "xaxis": "x",
         "y": [
          1.6105784166788724,
          2.219974461472332,
          3.948943105555783,
          1.624051229929429,
          3.6649011414513977,
          3.516210449418701,
          2.5592627777116874,
          3.9336404840297563,
          5.099444811259985,
          1.6105784166788724,
          2.219974461472332,
          3.948943105555783,
          1.624051229929429,
          3.6649011414513977,
          3.516210449418701,
          2.5592627777116874,
          3.9336404840297563,
          5.099444811259985
         ],
         "yaxis": "y"
        }
       ],
       "layout": {
        "legend": {
         "title": {
          "text": "Person"
         },
         "tracegroupgap": 0
        },
        "template": {
         "data": {
          "bar": [
           {
            "error_x": {
             "color": "#2a3f5f"
            },
            "error_y": {
             "color": "#2a3f5f"
            },
            "marker": {
             "line": {
              "color": "#E5ECF6",
              "width": 0.5
             }
            },
            "type": "bar"
           }
          ],
          "barpolar": [
           {
            "marker": {
             "line": {
              "color": "#E5ECF6",
              "width": 0.5
             }
            },
            "type": "barpolar"
           }
          ],
          "carpet": [
           {
            "aaxis": {
             "endlinecolor": "#2a3f5f",
             "gridcolor": "white",
             "linecolor": "white",
             "minorgridcolor": "white",
             "startlinecolor": "#2a3f5f"
            },
            "baxis": {
             "endlinecolor": "#2a3f5f",
             "gridcolor": "white",
             "linecolor": "white",
             "minorgridcolor": "white",
             "startlinecolor": "#2a3f5f"
            },
            "type": "carpet"
           }
          ],
          "choropleth": [
           {
            "colorbar": {
             "outlinewidth": 0,
             "ticks": ""
            },
            "type": "choropleth"
           }
          ],
          "contour": [
           {
            "colorbar": {
             "outlinewidth": 0,
             "ticks": ""
            },
            "colorscale": [
             [
              0,
              "#0d0887"
             ],
             [
              0.1111111111111111,
              "#46039f"
             ],
             [
              0.2222222222222222,
              "#7201a8"
             ],
             [
              0.3333333333333333,
              "#9c179e"
             ],
             [
              0.4444444444444444,
              "#bd3786"
             ],
             [
              0.5555555555555556,
              "#d8576b"
             ],
             [
              0.6666666666666666,
              "#ed7953"
             ],
             [
              0.7777777777777778,
              "#fb9f3a"
             ],
             [
              0.8888888888888888,
              "#fdca26"
             ],
             [
              1,
              "#f0f921"
             ]
            ],
            "type": "contour"
           }
          ],
          "contourcarpet": [
           {
            "colorbar": {
             "outlinewidth": 0,
             "ticks": ""
            },
            "type": "contourcarpet"
           }
          ],
          "heatmap": [
           {
            "colorbar": {
             "outlinewidth": 0,
             "ticks": ""
            },
            "colorscale": [
             [
              0,
              "#0d0887"
             ],
             [
              0.1111111111111111,
              "#46039f"
             ],
             [
              0.2222222222222222,
              "#7201a8"
             ],
             [
              0.3333333333333333,
              "#9c179e"
             ],
             [
              0.4444444444444444,
              "#bd3786"
             ],
             [
              0.5555555555555556,
              "#d8576b"
             ],
             [
              0.6666666666666666,
              "#ed7953"
             ],
             [
              0.7777777777777778,
              "#fb9f3a"
             ],
             [
              0.8888888888888888,
              "#fdca26"
             ],
             [
              1,
              "#f0f921"
             ]
            ],
            "type": "heatmap"
           }
          ],
          "heatmapgl": [
           {
            "colorbar": {
             "outlinewidth": 0,
             "ticks": ""
            },
            "colorscale": [
             [
              0,
              "#0d0887"
             ],
             [
              0.1111111111111111,
              "#46039f"
             ],
             [
              0.2222222222222222,
              "#7201a8"
             ],
             [
              0.3333333333333333,
              "#9c179e"
             ],
             [
              0.4444444444444444,
              "#bd3786"
             ],
             [
              0.5555555555555556,
              "#d8576b"
             ],
             [
              0.6666666666666666,
              "#ed7953"
             ],
             [
              0.7777777777777778,
              "#fb9f3a"
             ],
             [
              0.8888888888888888,
              "#fdca26"
             ],
             [
              1,
              "#f0f921"
             ]
            ],
            "type": "heatmapgl"
           }
          ],
          "histogram": [
           {
            "marker": {
             "colorbar": {
              "outlinewidth": 0,
              "ticks": ""
             }
            },
            "type": "histogram"
           }
          ],
          "histogram2d": [
           {
            "colorbar": {
             "outlinewidth": 0,
             "ticks": ""
            },
            "colorscale": [
             [
              0,
              "#0d0887"
             ],
             [
              0.1111111111111111,
              "#46039f"
             ],
             [
              0.2222222222222222,
              "#7201a8"
             ],
             [
              0.3333333333333333,
              "#9c179e"
             ],
             [
              0.4444444444444444,
              "#bd3786"
             ],
             [
              0.5555555555555556,
              "#d8576b"
             ],
             [
              0.6666666666666666,
              "#ed7953"
             ],
             [
              0.7777777777777778,
              "#fb9f3a"
             ],
             [
              0.8888888888888888,
              "#fdca26"
             ],
             [
              1,
              "#f0f921"
             ]
            ],
            "type": "histogram2d"
           }
          ],
          "histogram2dcontour": [
           {
            "colorbar": {
             "outlinewidth": 0,
             "ticks": ""
            },
            "colorscale": [
             [
              0,
              "#0d0887"
             ],
             [
              0.1111111111111111,
              "#46039f"
             ],
             [
              0.2222222222222222,
              "#7201a8"
             ],
             [
              0.3333333333333333,
              "#9c179e"
             ],
             [
              0.4444444444444444,
              "#bd3786"
             ],
             [
              0.5555555555555556,
              "#d8576b"
             ],
             [
              0.6666666666666666,
              "#ed7953"
             ],
             [
              0.7777777777777778,
              "#fb9f3a"
             ],
             [
              0.8888888888888888,
              "#fdca26"
             ],
             [
              1,
              "#f0f921"
             ]
            ],
            "type": "histogram2dcontour"
           }
          ],
          "mesh3d": [
           {
            "colorbar": {
             "outlinewidth": 0,
             "ticks": ""
            },
            "type": "mesh3d"
           }
          ],
          "parcoords": [
           {
            "line": {
             "colorbar": {
              "outlinewidth": 0,
              "ticks": ""
             }
            },
            "type": "parcoords"
           }
          ],
          "pie": [
           {
            "automargin": true,
            "type": "pie"
           }
          ],
          "scatter": [
           {
            "marker": {
             "colorbar": {
              "outlinewidth": 0,
              "ticks": ""
             }
            },
            "type": "scatter"
           }
          ],
          "scatter3d": [
           {
            "line": {
             "colorbar": {
              "outlinewidth": 0,
              "ticks": ""
             }
            },
            "marker": {
             "colorbar": {
              "outlinewidth": 0,
              "ticks": ""
             }
            },
            "type": "scatter3d"
           }
          ],
          "scattercarpet": [
           {
            "marker": {
             "colorbar": {
              "outlinewidth": 0,
              "ticks": ""
             }
            },
            "type": "scattercarpet"
           }
          ],
          "scattergeo": [
           {
            "marker": {
             "colorbar": {
              "outlinewidth": 0,
              "ticks": ""
             }
            },
            "type": "scattergeo"
           }
          ],
          "scattergl": [
           {
            "marker": {
             "colorbar": {
              "outlinewidth": 0,
              "ticks": ""
             }
            },
            "type": "scattergl"
           }
          ],
          "scattermapbox": [
           {
            "marker": {
             "colorbar": {
              "outlinewidth": 0,
              "ticks": ""
             }
            },
            "type": "scattermapbox"
           }
          ],
          "scatterpolar": [
           {
            "marker": {
             "colorbar": {
              "outlinewidth": 0,
              "ticks": ""
             }
            },
            "type": "scatterpolar"
           }
          ],
          "scatterpolargl": [
           {
            "marker": {
             "colorbar": {
              "outlinewidth": 0,
              "ticks": ""
             }
            },
            "type": "scatterpolargl"
           }
          ],
          "scatterternary": [
           {
            "marker": {
             "colorbar": {
              "outlinewidth": 0,
              "ticks": ""
             }
            },
            "type": "scatterternary"
           }
          ],
          "surface": [
           {
            "colorbar": {
             "outlinewidth": 0,
             "ticks": ""
            },
            "colorscale": [
             [
              0,
              "#0d0887"
             ],
             [
              0.1111111111111111,
              "#46039f"
             ],
             [
              0.2222222222222222,
              "#7201a8"
             ],
             [
              0.3333333333333333,
              "#9c179e"
             ],
             [
              0.4444444444444444,
              "#bd3786"
             ],
             [
              0.5555555555555556,
              "#d8576b"
             ],
             [
              0.6666666666666666,
              "#ed7953"
             ],
             [
              0.7777777777777778,
              "#fb9f3a"
             ],
             [
              0.8888888888888888,
              "#fdca26"
             ],
             [
              1,
              "#f0f921"
             ]
            ],
            "type": "surface"
           }
          ],
          "table": [
           {
            "cells": {
             "fill": {
              "color": "#EBF0F8"
             },
             "line": {
              "color": "white"
             }
            },
            "header": {
             "fill": {
              "color": "#C8D4E3"
             },
             "line": {
              "color": "white"
             }
            },
            "type": "table"
           }
          ]
         },
         "layout": {
          "annotationdefaults": {
           "arrowcolor": "#2a3f5f",
           "arrowhead": 0,
           "arrowwidth": 1
          },
          "coloraxis": {
           "colorbar": {
            "outlinewidth": 0,
            "ticks": ""
           }
          },
          "colorscale": {
           "diverging": [
            [
             0,
             "#8e0152"
            ],
            [
             0.1,
             "#c51b7d"
            ],
            [
             0.2,
             "#de77ae"
            ],
            [
             0.3,
             "#f1b6da"
            ],
            [
             0.4,
             "#fde0ef"
            ],
            [
             0.5,
             "#f7f7f7"
            ],
            [
             0.6,
             "#e6f5d0"
            ],
            [
             0.7,
             "#b8e186"
            ],
            [
             0.8,
             "#7fbc41"
            ],
            [
             0.9,
             "#4d9221"
            ],
            [
             1,
             "#276419"
            ]
           ],
           "sequential": [
            [
             0,
             "#0d0887"
            ],
            [
             0.1111111111111111,
             "#46039f"
            ],
            [
             0.2222222222222222,
             "#7201a8"
            ],
            [
             0.3333333333333333,
             "#9c179e"
            ],
            [
             0.4444444444444444,
             "#bd3786"
            ],
            [
             0.5555555555555556,
             "#d8576b"
            ],
            [
             0.6666666666666666,
             "#ed7953"
            ],
            [
             0.7777777777777778,
             "#fb9f3a"
            ],
            [
             0.8888888888888888,
             "#fdca26"
            ],
            [
             1,
             "#f0f921"
            ]
           ],
           "sequentialminus": [
            [
             0,
             "#0d0887"
            ],
            [
             0.1111111111111111,
             "#46039f"
            ],
            [
             0.2222222222222222,
             "#7201a8"
            ],
            [
             0.3333333333333333,
             "#9c179e"
            ],
            [
             0.4444444444444444,
             "#bd3786"
            ],
            [
             0.5555555555555556,
             "#d8576b"
            ],
            [
             0.6666666666666666,
             "#ed7953"
            ],
            [
             0.7777777777777778,
             "#fb9f3a"
            ],
            [
             0.8888888888888888,
             "#fdca26"
            ],
            [
             1,
             "#f0f921"
            ]
           ]
          },
          "colorway": [
           "#636efa",
           "#EF553B",
           "#00cc96",
           "#ab63fa",
           "#FFA15A",
           "#19d3f3",
           "#FF6692",
           "#B6E880",
           "#FF97FF",
           "#FECB52"
          ],
          "font": {
           "color": "#2a3f5f"
          },
          "geo": {
           "bgcolor": "white",
           "lakecolor": "white",
           "landcolor": "#E5ECF6",
           "showlakes": true,
           "showland": true,
           "subunitcolor": "white"
          },
          "hoverlabel": {
           "align": "left"
          },
          "hovermode": "closest",
          "mapbox": {
           "style": "light"
          },
          "paper_bgcolor": "white",
          "plot_bgcolor": "#E5ECF6",
          "polar": {
           "angularaxis": {
            "gridcolor": "white",
            "linecolor": "white",
            "ticks": ""
           },
           "bgcolor": "#E5ECF6",
           "radialaxis": {
            "gridcolor": "white",
            "linecolor": "white",
            "ticks": ""
           }
          },
          "scene": {
           "xaxis": {
            "backgroundcolor": "#E5ECF6",
            "gridcolor": "white",
            "gridwidth": 2,
            "linecolor": "white",
            "showbackground": true,
            "ticks": "",
            "zerolinecolor": "white"
           },
           "yaxis": {
            "backgroundcolor": "#E5ECF6",
            "gridcolor": "white",
            "gridwidth": 2,
            "linecolor": "white",
            "showbackground": true,
            "ticks": "",
            "zerolinecolor": "white"
           },
           "zaxis": {
            "backgroundcolor": "#E5ECF6",
            "gridcolor": "white",
            "gridwidth": 2,
            "linecolor": "white",
            "showbackground": true,
            "ticks": "",
            "zerolinecolor": "white"
           }
          },
          "shapedefaults": {
           "line": {
            "color": "#2a3f5f"
           }
          },
          "ternary": {
           "aaxis": {
            "gridcolor": "white",
            "linecolor": "white",
            "ticks": ""
           },
           "baxis": {
            "gridcolor": "white",
            "linecolor": "white",
            "ticks": ""
           },
           "bgcolor": "#E5ECF6",
           "caxis": {
            "gridcolor": "white",
            "linecolor": "white",
            "ticks": ""
           }
          },
          "title": {
           "x": 0.05
          },
          "xaxis": {
           "automargin": true,
           "gridcolor": "white",
           "linecolor": "white",
           "ticks": "",
           "title": {
            "standoff": 15
           },
           "zerolinecolor": "white",
           "zerolinewidth": 2
          },
          "yaxis": {
           "automargin": true,
           "gridcolor": "white",
           "linecolor": "white",
           "ticks": "",
           "title": {
            "standoff": 15
           },
           "zerolinecolor": "white",
           "zerolinewidth": 2
          }
         }
        },
        "title": {
         "text": "Lipid vs Ratios for ID: COR, ID_2: DOD93, ID_3: F4"
        },
        "xaxis": {
         "anchor": "y",
         "domain": [
          0,
          1
         ],
         "title": {
          "text": "Lipid"
         }
        },
        "yaxis": {
         "anchor": "x",
         "domain": [
          0,
          1
         ],
         "title": {
          "text": "Ratios"
         }
        }
       }
      },
      "text/html": [
       "<div>                            <div id=\"51c7e507-8e32-4ba3-ac85-b98830dc0117\" class=\"plotly-graph-div\" style=\"height:525px; width:100%;\"></div>            <script type=\"text/javascript\">                require([\"plotly\"], function(Plotly) {                    window.PLOTLYENV=window.PLOTLYENV || {};                                    if (document.getElementById(\"51c7e507-8e32-4ba3-ac85-b98830dc0117\")) {                    Plotly.newPlot(                        \"51c7e507-8e32-4ba3-ac85-b98830dc0117\",                        [{\"customdata\": [[\"DOD93 5xFAD F4 Cortex\"], [\"DOD93 5xFAD F4 Cortex\"], [\"DOD93 5xFAD F4 Cortex\"], [\"DOD93 5xFAD F4 Cortex\"], [\"DOD93 5xFAD F4 Cortex\"], [\"DOD93 5xFAD F4 Cortex\"], [\"DOD93 5xFAD F4 Cortex\"], [\"DOD93 5xFAD F4 Cortex\"], [\"DOD93 5xFAD F4 Cortex\"], [\"DOD93 5xFAD F4 Cortex\"], [\"DOD93 5xFAD F4 Cortex\"], [\"DOD93 5xFAD F4 Cortex\"], [\"DOD93 5xFAD F4 Cortex\"], [\"DOD93 5xFAD F4 Cortex\"], [\"DOD93 5xFAD F4 Cortex\"], [\"DOD93 5xFAD F4 Cortex\"], [\"DOD93 5xFAD F4 Cortex\"], [\"DOD93 5xFAD F4 Cortex\"]], \"hovertemplate\": \"Person=Caitlin<br>Lipid=%{x}<br>Ratios=%{y}<br>Sample_ID=%{customdata[0]}<extra></extra>\", \"legendgroup\": \"Caitlin\", \"marker\": {\"color\": \"#636efa\", \"symbol\": \"circle\"}, \"mode\": \"markers\", \"name\": \"Caitlin\", \"orientation\": \"v\", \"showlegend\": true, \"type\": \"scatter\", \"x\": [\"TG 50:1\", \"TG 50:2\", \"TG 50:3\", \"TG 52:2\", \"TG 52:3\", \"TG 52:4\", \"TG 54:3\", \"TG 54:4\", \"TG 54:5\", \"TG 50:1\", \"TG 50:2\", \"TG 50:3\", \"TG 52:2\", \"TG 52:3\", \"TG 52:4\", \"TG 54:3\", \"TG 54:4\", \"TG 54:5\"], \"xaxis\": \"x\", \"y\": [1.6105784166788724, 2.219974461472332, 3.948943105555783, 1.624051229929429, 3.6649011414513977, 3.516210449418701, 2.5592627777116874, 3.9336404840297563, 5.099444811259985, 1.6105784166788724, 2.219974461472332, 3.948943105555783, 1.624051229929429, 3.6649011414513977, 3.516210449418701, 2.5592627777116874, 3.9336404840297563, 5.099444811259985], \"yaxis\": \"y\"}],                        {\"legend\": {\"title\": {\"text\": \"Person\"}, \"tracegroupgap\": 0}, \"template\": {\"data\": {\"bar\": [{\"error_x\": {\"color\": \"#2a3f5f\"}, \"error_y\": {\"color\": \"#2a3f5f\"}, \"marker\": {\"line\": {\"color\": \"#E5ECF6\", \"width\": 0.5}}, \"type\": \"bar\"}], \"barpolar\": [{\"marker\": {\"line\": {\"color\": \"#E5ECF6\", \"width\": 0.5}}, \"type\": \"barpolar\"}], \"carpet\": [{\"aaxis\": {\"endlinecolor\": \"#2a3f5f\", \"gridcolor\": \"white\", \"linecolor\": \"white\", \"minorgridcolor\": \"white\", \"startlinecolor\": \"#2a3f5f\"}, \"baxis\": {\"endlinecolor\": \"#2a3f5f\", \"gridcolor\": \"white\", \"linecolor\": \"white\", \"minorgridcolor\": \"white\", \"startlinecolor\": \"#2a3f5f\"}, \"type\": \"carpet\"}], \"choropleth\": [{\"colorbar\": {\"outlinewidth\": 0, \"ticks\": \"\"}, \"type\": \"choropleth\"}], \"contour\": [{\"colorbar\": {\"outlinewidth\": 0, \"ticks\": \"\"}, \"colorscale\": [[0.0, \"#0d0887\"], [0.1111111111111111, \"#46039f\"], [0.2222222222222222, \"#7201a8\"], [0.3333333333333333, \"#9c179e\"], [0.4444444444444444, \"#bd3786\"], [0.5555555555555556, \"#d8576b\"], [0.6666666666666666, \"#ed7953\"], [0.7777777777777778, \"#fb9f3a\"], [0.8888888888888888, \"#fdca26\"], [1.0, \"#f0f921\"]], \"type\": \"contour\"}], \"contourcarpet\": [{\"colorbar\": {\"outlinewidth\": 0, \"ticks\": \"\"}, \"type\": \"contourcarpet\"}], \"heatmap\": [{\"colorbar\": {\"outlinewidth\": 0, \"ticks\": \"\"}, \"colorscale\": [[0.0, \"#0d0887\"], [0.1111111111111111, \"#46039f\"], [0.2222222222222222, \"#7201a8\"], [0.3333333333333333, \"#9c179e\"], [0.4444444444444444, \"#bd3786\"], [0.5555555555555556, \"#d8576b\"], [0.6666666666666666, \"#ed7953\"], [0.7777777777777778, \"#fb9f3a\"], [0.8888888888888888, \"#fdca26\"], [1.0, \"#f0f921\"]], \"type\": \"heatmap\"}], \"heatmapgl\": [{\"colorbar\": {\"outlinewidth\": 0, \"ticks\": \"\"}, \"colorscale\": [[0.0, \"#0d0887\"], [0.1111111111111111, \"#46039f\"], [0.2222222222222222, \"#7201a8\"], [0.3333333333333333, \"#9c179e\"], [0.4444444444444444, \"#bd3786\"], [0.5555555555555556, \"#d8576b\"], [0.6666666666666666, \"#ed7953\"], [0.7777777777777778, \"#fb9f3a\"], [0.8888888888888888, \"#fdca26\"], [1.0, \"#f0f921\"]], \"type\": \"heatmapgl\"}], \"histogram\": [{\"marker\": {\"colorbar\": {\"outlinewidth\": 0, \"ticks\": \"\"}}, \"type\": \"histogram\"}], \"histogram2d\": [{\"colorbar\": {\"outlinewidth\": 0, \"ticks\": \"\"}, \"colorscale\": [[0.0, \"#0d0887\"], [0.1111111111111111, \"#46039f\"], [0.2222222222222222, \"#7201a8\"], [0.3333333333333333, \"#9c179e\"], [0.4444444444444444, \"#bd3786\"], [0.5555555555555556, \"#d8576b\"], [0.6666666666666666, \"#ed7953\"], [0.7777777777777778, \"#fb9f3a\"], [0.8888888888888888, \"#fdca26\"], [1.0, \"#f0f921\"]], \"type\": \"histogram2d\"}], \"histogram2dcontour\": [{\"colorbar\": {\"outlinewidth\": 0, \"ticks\": \"\"}, \"colorscale\": [[0.0, \"#0d0887\"], [0.1111111111111111, \"#46039f\"], [0.2222222222222222, \"#7201a8\"], [0.3333333333333333, \"#9c179e\"], [0.4444444444444444, \"#bd3786\"], [0.5555555555555556, \"#d8576b\"], [0.6666666666666666, \"#ed7953\"], [0.7777777777777778, \"#fb9f3a\"], [0.8888888888888888, \"#fdca26\"], [1.0, \"#f0f921\"]], \"type\": \"histogram2dcontour\"}], \"mesh3d\": [{\"colorbar\": {\"outlinewidth\": 0, \"ticks\": \"\"}, \"type\": \"mesh3d\"}], \"parcoords\": [{\"line\": {\"colorbar\": {\"outlinewidth\": 0, \"ticks\": \"\"}}, \"type\": \"parcoords\"}], \"pie\": [{\"automargin\": true, \"type\": \"pie\"}], \"scatter\": [{\"marker\": {\"colorbar\": {\"outlinewidth\": 0, \"ticks\": \"\"}}, \"type\": \"scatter\"}], \"scatter3d\": [{\"line\": {\"colorbar\": {\"outlinewidth\": 0, \"ticks\": \"\"}}, \"marker\": {\"colorbar\": {\"outlinewidth\": 0, \"ticks\": \"\"}}, \"type\": \"scatter3d\"}], \"scattercarpet\": [{\"marker\": {\"colorbar\": {\"outlinewidth\": 0, \"ticks\": \"\"}}, \"type\": \"scattercarpet\"}], \"scattergeo\": [{\"marker\": {\"colorbar\": {\"outlinewidth\": 0, \"ticks\": \"\"}}, \"type\": \"scattergeo\"}], \"scattergl\": [{\"marker\": {\"colorbar\": {\"outlinewidth\": 0, \"ticks\": \"\"}}, \"type\": \"scattergl\"}], \"scattermapbox\": [{\"marker\": {\"colorbar\": {\"outlinewidth\": 0, \"ticks\": \"\"}}, \"type\": \"scattermapbox\"}], \"scatterpolar\": [{\"marker\": {\"colorbar\": {\"outlinewidth\": 0, \"ticks\": \"\"}}, \"type\": \"scatterpolar\"}], \"scatterpolargl\": [{\"marker\": {\"colorbar\": {\"outlinewidth\": 0, \"ticks\": \"\"}}, \"type\": \"scatterpolargl\"}], \"scatterternary\": [{\"marker\": {\"colorbar\": {\"outlinewidth\": 0, \"ticks\": \"\"}}, \"type\": \"scatterternary\"}], \"surface\": [{\"colorbar\": {\"outlinewidth\": 0, \"ticks\": \"\"}, \"colorscale\": [[0.0, \"#0d0887\"], [0.1111111111111111, \"#46039f\"], [0.2222222222222222, \"#7201a8\"], [0.3333333333333333, \"#9c179e\"], [0.4444444444444444, \"#bd3786\"], [0.5555555555555556, \"#d8576b\"], [0.6666666666666666, \"#ed7953\"], [0.7777777777777778, \"#fb9f3a\"], [0.8888888888888888, \"#fdca26\"], [1.0, \"#f0f921\"]], \"type\": \"surface\"}], \"table\": [{\"cells\": {\"fill\": {\"color\": \"#EBF0F8\"}, \"line\": {\"color\": \"white\"}}, \"header\": {\"fill\": {\"color\": \"#C8D4E3\"}, \"line\": {\"color\": \"white\"}}, \"type\": \"table\"}]}, \"layout\": {\"annotationdefaults\": {\"arrowcolor\": \"#2a3f5f\", \"arrowhead\": 0, \"arrowwidth\": 1}, \"coloraxis\": {\"colorbar\": {\"outlinewidth\": 0, \"ticks\": \"\"}}, \"colorscale\": {\"diverging\": [[0, \"#8e0152\"], [0.1, \"#c51b7d\"], [0.2, \"#de77ae\"], [0.3, \"#f1b6da\"], [0.4, \"#fde0ef\"], [0.5, \"#f7f7f7\"], [0.6, \"#e6f5d0\"], [0.7, \"#b8e186\"], [0.8, \"#7fbc41\"], [0.9, \"#4d9221\"], [1, \"#276419\"]], \"sequential\": [[0.0, \"#0d0887\"], [0.1111111111111111, \"#46039f\"], [0.2222222222222222, \"#7201a8\"], [0.3333333333333333, \"#9c179e\"], [0.4444444444444444, \"#bd3786\"], [0.5555555555555556, \"#d8576b\"], [0.6666666666666666, \"#ed7953\"], [0.7777777777777778, \"#fb9f3a\"], [0.8888888888888888, \"#fdca26\"], [1.0, \"#f0f921\"]], \"sequentialminus\": [[0.0, \"#0d0887\"], [0.1111111111111111, \"#46039f\"], [0.2222222222222222, \"#7201a8\"], [0.3333333333333333, \"#9c179e\"], [0.4444444444444444, \"#bd3786\"], [0.5555555555555556, \"#d8576b\"], [0.6666666666666666, \"#ed7953\"], [0.7777777777777778, \"#fb9f3a\"], [0.8888888888888888, \"#fdca26\"], [1.0, \"#f0f921\"]]}, \"colorway\": [\"#636efa\", \"#EF553B\", \"#00cc96\", \"#ab63fa\", \"#FFA15A\", \"#19d3f3\", \"#FF6692\", \"#B6E880\", \"#FF97FF\", \"#FECB52\"], \"font\": {\"color\": \"#2a3f5f\"}, \"geo\": {\"bgcolor\": \"white\", \"lakecolor\": \"white\", \"landcolor\": \"#E5ECF6\", \"showlakes\": true, \"showland\": true, \"subunitcolor\": \"white\"}, \"hoverlabel\": {\"align\": \"left\"}, \"hovermode\": \"closest\", \"mapbox\": {\"style\": \"light\"}, \"paper_bgcolor\": \"white\", \"plot_bgcolor\": \"#E5ECF6\", \"polar\": {\"angularaxis\": {\"gridcolor\": \"white\", \"linecolor\": \"white\", \"ticks\": \"\"}, \"bgcolor\": \"#E5ECF6\", \"radialaxis\": {\"gridcolor\": \"white\", \"linecolor\": \"white\", \"ticks\": \"\"}}, \"scene\": {\"xaxis\": {\"backgroundcolor\": \"#E5ECF6\", \"gridcolor\": \"white\", \"gridwidth\": 2, \"linecolor\": \"white\", \"showbackground\": true, \"ticks\": \"\", \"zerolinecolor\": \"white\"}, \"yaxis\": {\"backgroundcolor\": \"#E5ECF6\", \"gridcolor\": \"white\", \"gridwidth\": 2, \"linecolor\": \"white\", \"showbackground\": true, \"ticks\": \"\", \"zerolinecolor\": \"white\"}, \"zaxis\": {\"backgroundcolor\": \"#E5ECF6\", \"gridcolor\": \"white\", \"gridwidth\": 2, \"linecolor\": \"white\", \"showbackground\": true, \"ticks\": \"\", \"zerolinecolor\": \"white\"}}, \"shapedefaults\": {\"line\": {\"color\": \"#2a3f5f\"}}, \"ternary\": {\"aaxis\": {\"gridcolor\": \"white\", \"linecolor\": \"white\", \"ticks\": \"\"}, \"baxis\": {\"gridcolor\": \"white\", \"linecolor\": \"white\", \"ticks\": \"\"}, \"bgcolor\": \"#E5ECF6\", \"caxis\": {\"gridcolor\": \"white\", \"linecolor\": \"white\", \"ticks\": \"\"}}, \"title\": {\"x\": 0.05}, \"xaxis\": {\"automargin\": true, \"gridcolor\": \"white\", \"linecolor\": \"white\", \"ticks\": \"\", \"title\": {\"standoff\": 15}, \"zerolinecolor\": \"white\", \"zerolinewidth\": 2}, \"yaxis\": {\"automargin\": true, \"gridcolor\": \"white\", \"linecolor\": \"white\", \"ticks\": \"\", \"title\": {\"standoff\": 15}, \"zerolinecolor\": \"white\", \"zerolinewidth\": 2}}}, \"title\": {\"text\": \"Lipid vs Ratios for ID: COR, ID_2: DOD93, ID_3: F4\"}, \"xaxis\": {\"anchor\": \"y\", \"domain\": [0.0, 1.0], \"title\": {\"text\": \"Lipid\"}}, \"yaxis\": {\"anchor\": \"x\", \"domain\": [0.0, 1.0], \"title\": {\"text\": \"Ratios\"}}},                        {\"responsive\": true}                    ).then(function(){\n",
       "                            \n",
       "var gd = document.getElementById('51c7e507-8e32-4ba3-ac85-b98830dc0117');\n",
       "var x = new MutationObserver(function (mutations, observer) {{\n",
       "        var display = window.getComputedStyle(gd).display;\n",
       "        if (!display || display === 'none') {{\n",
       "            console.log([gd, 'removed!']);\n",
       "            Plotly.purge(gd);\n",
       "            observer.disconnect();\n",
       "        }}\n",
       "}});\n",
       "\n",
       "// Listen for the removal of the full notebook cells\n",
       "var notebookContainer = gd.closest('#notebook-container');\n",
       "if (notebookContainer) {{\n",
       "    x.observe(notebookContainer, {childList: true});\n",
       "}}\n",
       "\n",
       "// Listen for the clearing of the current output cell\n",
       "var outputEl = gd.closest('.output');\n",
       "if (outputEl) {{\n",
       "    x.observe(outputEl, {childList: true});\n",
       "}}\n",
       "\n",
       "                        })                };                });            </script>        </div>"
      ]
     },
     "metadata": {},
     "output_type": "display_data"
    },
    {
     "data": {
      "application/vnd.plotly.v1+json": {
       "config": {
        "plotlyServerURL": "https://plot.ly"
       },
       "data": [
        {
         "customdata": [
          [
           "DOD93 5xFAD F4 Cerebellum"
          ],
          [
           "DOD93 5xFAD F4 Cerebellum"
          ],
          [
           "DOD93 5xFAD F4 Cerebellum"
          ],
          [
           "DOD93 5xFAD F4 Cerebellum"
          ],
          [
           "DOD93 5xFAD F4 Cerebellum"
          ],
          [
           "DOD93 5xFAD F4 Cerebellum"
          ],
          [
           "DOD93 5xFAD F4 Cerebellum"
          ],
          [
           "DOD93 5xFAD F4 Cerebellum"
          ],
          [
           "DOD93 5xFAD F4 Cerebellum"
          ],
          [
           "DOD93 5xFAD F4 Cerebellum"
          ],
          [
           "DOD93 5xFAD F4 Cerebellum"
          ],
          [
           "DOD93 5xFAD F4 Cerebellum"
          ],
          [
           "DOD93 5xFAD F4 Cerebellum"
          ],
          [
           "DOD93 5xFAD F4 Cerebellum"
          ],
          [
           "DOD93 5xFAD F4 Cerebellum"
          ],
          [
           "DOD93 5xFAD F4 Cerebellum"
          ],
          [
           "DOD93 5xFAD F4 Cerebellum"
          ],
          [
           "DOD93 5xFAD F4 Cerebellum"
          ]
         ],
         "hovertemplate": "Person=Caitlin<br>Lipid=%{x}<br>Ratios=%{y}<br>Sample_ID=%{customdata[0]}<extra></extra>",
         "legendgroup": "Caitlin",
         "marker": {
          "color": "#636efa",
          "symbol": "circle"
         },
         "mode": "markers",
         "name": "Caitlin",
         "orientation": "v",
         "showlegend": true,
         "type": "scatter",
         "x": [
          "TG 50:1",
          "TG 50:2",
          "TG 50:3",
          "TG 52:2",
          "TG 52:3",
          "TG 52:4",
          "TG 54:3",
          "TG 54:4",
          "TG 54:5",
          "TG 50:1",
          "TG 50:2",
          "TG 50:3",
          "TG 52:2",
          "TG 52:3",
          "TG 52:4",
          "TG 54:3",
          "TG 54:4",
          "TG 54:5"
         ],
         "xaxis": "x",
         "y": [
          1.5593711189938348,
          2.7294086171756966,
          null,
          3.356326940114094,
          2.1311440119462732,
          3.6616922914988357,
          4.948865501365834,
          3.052918895640348,
          3.855982717707711,
          1.5593711189938348,
          2.7294086171756966,
          null,
          3.356326940114094,
          2.1311440119462732,
          3.6616922914988357,
          4.948865501365834,
          3.052918895640348,
          3.855982717707711
         ],
         "yaxis": "y"
        }
       ],
       "layout": {
        "legend": {
         "title": {
          "text": "Person"
         },
         "tracegroupgap": 0
        },
        "template": {
         "data": {
          "bar": [
           {
            "error_x": {
             "color": "#2a3f5f"
            },
            "error_y": {
             "color": "#2a3f5f"
            },
            "marker": {
             "line": {
              "color": "#E5ECF6",
              "width": 0.5
             }
            },
            "type": "bar"
           }
          ],
          "barpolar": [
           {
            "marker": {
             "line": {
              "color": "#E5ECF6",
              "width": 0.5
             }
            },
            "type": "barpolar"
           }
          ],
          "carpet": [
           {
            "aaxis": {
             "endlinecolor": "#2a3f5f",
             "gridcolor": "white",
             "linecolor": "white",
             "minorgridcolor": "white",
             "startlinecolor": "#2a3f5f"
            },
            "baxis": {
             "endlinecolor": "#2a3f5f",
             "gridcolor": "white",
             "linecolor": "white",
             "minorgridcolor": "white",
             "startlinecolor": "#2a3f5f"
            },
            "type": "carpet"
           }
          ],
          "choropleth": [
           {
            "colorbar": {
             "outlinewidth": 0,
             "ticks": ""
            },
            "type": "choropleth"
           }
          ],
          "contour": [
           {
            "colorbar": {
             "outlinewidth": 0,
             "ticks": ""
            },
            "colorscale": [
             [
              0,
              "#0d0887"
             ],
             [
              0.1111111111111111,
              "#46039f"
             ],
             [
              0.2222222222222222,
              "#7201a8"
             ],
             [
              0.3333333333333333,
              "#9c179e"
             ],
             [
              0.4444444444444444,
              "#bd3786"
             ],
             [
              0.5555555555555556,
              "#d8576b"
             ],
             [
              0.6666666666666666,
              "#ed7953"
             ],
             [
              0.7777777777777778,
              "#fb9f3a"
             ],
             [
              0.8888888888888888,
              "#fdca26"
             ],
             [
              1,
              "#f0f921"
             ]
            ],
            "type": "contour"
           }
          ],
          "contourcarpet": [
           {
            "colorbar": {
             "outlinewidth": 0,
             "ticks": ""
            },
            "type": "contourcarpet"
           }
          ],
          "heatmap": [
           {
            "colorbar": {
             "outlinewidth": 0,
             "ticks": ""
            },
            "colorscale": [
             [
              0,
              "#0d0887"
             ],
             [
              0.1111111111111111,
              "#46039f"
             ],
             [
              0.2222222222222222,
              "#7201a8"
             ],
             [
              0.3333333333333333,
              "#9c179e"
             ],
             [
              0.4444444444444444,
              "#bd3786"
             ],
             [
              0.5555555555555556,
              "#d8576b"
             ],
             [
              0.6666666666666666,
              "#ed7953"
             ],
             [
              0.7777777777777778,
              "#fb9f3a"
             ],
             [
              0.8888888888888888,
              "#fdca26"
             ],
             [
              1,
              "#f0f921"
             ]
            ],
            "type": "heatmap"
           }
          ],
          "heatmapgl": [
           {
            "colorbar": {
             "outlinewidth": 0,
             "ticks": ""
            },
            "colorscale": [
             [
              0,
              "#0d0887"
             ],
             [
              0.1111111111111111,
              "#46039f"
             ],
             [
              0.2222222222222222,
              "#7201a8"
             ],
             [
              0.3333333333333333,
              "#9c179e"
             ],
             [
              0.4444444444444444,
              "#bd3786"
             ],
             [
              0.5555555555555556,
              "#d8576b"
             ],
             [
              0.6666666666666666,
              "#ed7953"
             ],
             [
              0.7777777777777778,
              "#fb9f3a"
             ],
             [
              0.8888888888888888,
              "#fdca26"
             ],
             [
              1,
              "#f0f921"
             ]
            ],
            "type": "heatmapgl"
           }
          ],
          "histogram": [
           {
            "marker": {
             "colorbar": {
              "outlinewidth": 0,
              "ticks": ""
             }
            },
            "type": "histogram"
           }
          ],
          "histogram2d": [
           {
            "colorbar": {
             "outlinewidth": 0,
             "ticks": ""
            },
            "colorscale": [
             [
              0,
              "#0d0887"
             ],
             [
              0.1111111111111111,
              "#46039f"
             ],
             [
              0.2222222222222222,
              "#7201a8"
             ],
             [
              0.3333333333333333,
              "#9c179e"
             ],
             [
              0.4444444444444444,
              "#bd3786"
             ],
             [
              0.5555555555555556,
              "#d8576b"
             ],
             [
              0.6666666666666666,
              "#ed7953"
             ],
             [
              0.7777777777777778,
              "#fb9f3a"
             ],
             [
              0.8888888888888888,
              "#fdca26"
             ],
             [
              1,
              "#f0f921"
             ]
            ],
            "type": "histogram2d"
           }
          ],
          "histogram2dcontour": [
           {
            "colorbar": {
             "outlinewidth": 0,
             "ticks": ""
            },
            "colorscale": [
             [
              0,
              "#0d0887"
             ],
             [
              0.1111111111111111,
              "#46039f"
             ],
             [
              0.2222222222222222,
              "#7201a8"
             ],
             [
              0.3333333333333333,
              "#9c179e"
             ],
             [
              0.4444444444444444,
              "#bd3786"
             ],
             [
              0.5555555555555556,
              "#d8576b"
             ],
             [
              0.6666666666666666,
              "#ed7953"
             ],
             [
              0.7777777777777778,
              "#fb9f3a"
             ],
             [
              0.8888888888888888,
              "#fdca26"
             ],
             [
              1,
              "#f0f921"
             ]
            ],
            "type": "histogram2dcontour"
           }
          ],
          "mesh3d": [
           {
            "colorbar": {
             "outlinewidth": 0,
             "ticks": ""
            },
            "type": "mesh3d"
           }
          ],
          "parcoords": [
           {
            "line": {
             "colorbar": {
              "outlinewidth": 0,
              "ticks": ""
             }
            },
            "type": "parcoords"
           }
          ],
          "pie": [
           {
            "automargin": true,
            "type": "pie"
           }
          ],
          "scatter": [
           {
            "marker": {
             "colorbar": {
              "outlinewidth": 0,
              "ticks": ""
             }
            },
            "type": "scatter"
           }
          ],
          "scatter3d": [
           {
            "line": {
             "colorbar": {
              "outlinewidth": 0,
              "ticks": ""
             }
            },
            "marker": {
             "colorbar": {
              "outlinewidth": 0,
              "ticks": ""
             }
            },
            "type": "scatter3d"
           }
          ],
          "scattercarpet": [
           {
            "marker": {
             "colorbar": {
              "outlinewidth": 0,
              "ticks": ""
             }
            },
            "type": "scattercarpet"
           }
          ],
          "scattergeo": [
           {
            "marker": {
             "colorbar": {
              "outlinewidth": 0,
              "ticks": ""
             }
            },
            "type": "scattergeo"
           }
          ],
          "scattergl": [
           {
            "marker": {
             "colorbar": {
              "outlinewidth": 0,
              "ticks": ""
             }
            },
            "type": "scattergl"
           }
          ],
          "scattermapbox": [
           {
            "marker": {
             "colorbar": {
              "outlinewidth": 0,
              "ticks": ""
             }
            },
            "type": "scattermapbox"
           }
          ],
          "scatterpolar": [
           {
            "marker": {
             "colorbar": {
              "outlinewidth": 0,
              "ticks": ""
             }
            },
            "type": "scatterpolar"
           }
          ],
          "scatterpolargl": [
           {
            "marker": {
             "colorbar": {
              "outlinewidth": 0,
              "ticks": ""
             }
            },
            "type": "scatterpolargl"
           }
          ],
          "scatterternary": [
           {
            "marker": {
             "colorbar": {
              "outlinewidth": 0,
              "ticks": ""
             }
            },
            "type": "scatterternary"
           }
          ],
          "surface": [
           {
            "colorbar": {
             "outlinewidth": 0,
             "ticks": ""
            },
            "colorscale": [
             [
              0,
              "#0d0887"
             ],
             [
              0.1111111111111111,
              "#46039f"
             ],
             [
              0.2222222222222222,
              "#7201a8"
             ],
             [
              0.3333333333333333,
              "#9c179e"
             ],
             [
              0.4444444444444444,
              "#bd3786"
             ],
             [
              0.5555555555555556,
              "#d8576b"
             ],
             [
              0.6666666666666666,
              "#ed7953"
             ],
             [
              0.7777777777777778,
              "#fb9f3a"
             ],
             [
              0.8888888888888888,
              "#fdca26"
             ],
             [
              1,
              "#f0f921"
             ]
            ],
            "type": "surface"
           }
          ],
          "table": [
           {
            "cells": {
             "fill": {
              "color": "#EBF0F8"
             },
             "line": {
              "color": "white"
             }
            },
            "header": {
             "fill": {
              "color": "#C8D4E3"
             },
             "line": {
              "color": "white"
             }
            },
            "type": "table"
           }
          ]
         },
         "layout": {
          "annotationdefaults": {
           "arrowcolor": "#2a3f5f",
           "arrowhead": 0,
           "arrowwidth": 1
          },
          "coloraxis": {
           "colorbar": {
            "outlinewidth": 0,
            "ticks": ""
           }
          },
          "colorscale": {
           "diverging": [
            [
             0,
             "#8e0152"
            ],
            [
             0.1,
             "#c51b7d"
            ],
            [
             0.2,
             "#de77ae"
            ],
            [
             0.3,
             "#f1b6da"
            ],
            [
             0.4,
             "#fde0ef"
            ],
            [
             0.5,
             "#f7f7f7"
            ],
            [
             0.6,
             "#e6f5d0"
            ],
            [
             0.7,
             "#b8e186"
            ],
            [
             0.8,
             "#7fbc41"
            ],
            [
             0.9,
             "#4d9221"
            ],
            [
             1,
             "#276419"
            ]
           ],
           "sequential": [
            [
             0,
             "#0d0887"
            ],
            [
             0.1111111111111111,
             "#46039f"
            ],
            [
             0.2222222222222222,
             "#7201a8"
            ],
            [
             0.3333333333333333,
             "#9c179e"
            ],
            [
             0.4444444444444444,
             "#bd3786"
            ],
            [
             0.5555555555555556,
             "#d8576b"
            ],
            [
             0.6666666666666666,
             "#ed7953"
            ],
            [
             0.7777777777777778,
             "#fb9f3a"
            ],
            [
             0.8888888888888888,
             "#fdca26"
            ],
            [
             1,
             "#f0f921"
            ]
           ],
           "sequentialminus": [
            [
             0,
             "#0d0887"
            ],
            [
             0.1111111111111111,
             "#46039f"
            ],
            [
             0.2222222222222222,
             "#7201a8"
            ],
            [
             0.3333333333333333,
             "#9c179e"
            ],
            [
             0.4444444444444444,
             "#bd3786"
            ],
            [
             0.5555555555555556,
             "#d8576b"
            ],
            [
             0.6666666666666666,
             "#ed7953"
            ],
            [
             0.7777777777777778,
             "#fb9f3a"
            ],
            [
             0.8888888888888888,
             "#fdca26"
            ],
            [
             1,
             "#f0f921"
            ]
           ]
          },
          "colorway": [
           "#636efa",
           "#EF553B",
           "#00cc96",
           "#ab63fa",
           "#FFA15A",
           "#19d3f3",
           "#FF6692",
           "#B6E880",
           "#FF97FF",
           "#FECB52"
          ],
          "font": {
           "color": "#2a3f5f"
          },
          "geo": {
           "bgcolor": "white",
           "lakecolor": "white",
           "landcolor": "#E5ECF6",
           "showlakes": true,
           "showland": true,
           "subunitcolor": "white"
          },
          "hoverlabel": {
           "align": "left"
          },
          "hovermode": "closest",
          "mapbox": {
           "style": "light"
          },
          "paper_bgcolor": "white",
          "plot_bgcolor": "#E5ECF6",
          "polar": {
           "angularaxis": {
            "gridcolor": "white",
            "linecolor": "white",
            "ticks": ""
           },
           "bgcolor": "#E5ECF6",
           "radialaxis": {
            "gridcolor": "white",
            "linecolor": "white",
            "ticks": ""
           }
          },
          "scene": {
           "xaxis": {
            "backgroundcolor": "#E5ECF6",
            "gridcolor": "white",
            "gridwidth": 2,
            "linecolor": "white",
            "showbackground": true,
            "ticks": "",
            "zerolinecolor": "white"
           },
           "yaxis": {
            "backgroundcolor": "#E5ECF6",
            "gridcolor": "white",
            "gridwidth": 2,
            "linecolor": "white",
            "showbackground": true,
            "ticks": "",
            "zerolinecolor": "white"
           },
           "zaxis": {
            "backgroundcolor": "#E5ECF6",
            "gridcolor": "white",
            "gridwidth": 2,
            "linecolor": "white",
            "showbackground": true,
            "ticks": "",
            "zerolinecolor": "white"
           }
          },
          "shapedefaults": {
           "line": {
            "color": "#2a3f5f"
           }
          },
          "ternary": {
           "aaxis": {
            "gridcolor": "white",
            "linecolor": "white",
            "ticks": ""
           },
           "baxis": {
            "gridcolor": "white",
            "linecolor": "white",
            "ticks": ""
           },
           "bgcolor": "#E5ECF6",
           "caxis": {
            "gridcolor": "white",
            "linecolor": "white",
            "ticks": ""
           }
          },
          "title": {
           "x": 0.05
          },
          "xaxis": {
           "automargin": true,
           "gridcolor": "white",
           "linecolor": "white",
           "ticks": "",
           "title": {
            "standoff": 15
           },
           "zerolinecolor": "white",
           "zerolinewidth": 2
          },
          "yaxis": {
           "automargin": true,
           "gridcolor": "white",
           "linecolor": "white",
           "ticks": "",
           "title": {
            "standoff": 15
           },
           "zerolinecolor": "white",
           "zerolinewidth": 2
          }
         }
        },
        "title": {
         "text": "Lipid vs Ratios for ID: CER, ID_2: DOD93, ID_3: F4"
        },
        "xaxis": {
         "anchor": "y",
         "domain": [
          0,
          1
         ],
         "title": {
          "text": "Lipid"
         }
        },
        "yaxis": {
         "anchor": "x",
         "domain": [
          0,
          1
         ],
         "title": {
          "text": "Ratios"
         }
        }
       }
      },
      "text/html": [
       "<div>                            <div id=\"2082d777-a418-4d25-9928-f9fe255dd1ec\" class=\"plotly-graph-div\" style=\"height:525px; width:100%;\"></div>            <script type=\"text/javascript\">                require([\"plotly\"], function(Plotly) {                    window.PLOTLYENV=window.PLOTLYENV || {};                                    if (document.getElementById(\"2082d777-a418-4d25-9928-f9fe255dd1ec\")) {                    Plotly.newPlot(                        \"2082d777-a418-4d25-9928-f9fe255dd1ec\",                        [{\"customdata\": [[\"DOD93 5xFAD F4 Cerebellum\"], [\"DOD93 5xFAD F4 Cerebellum\"], [\"DOD93 5xFAD F4 Cerebellum\"], [\"DOD93 5xFAD F4 Cerebellum\"], [\"DOD93 5xFAD F4 Cerebellum\"], [\"DOD93 5xFAD F4 Cerebellum\"], [\"DOD93 5xFAD F4 Cerebellum\"], [\"DOD93 5xFAD F4 Cerebellum\"], [\"DOD93 5xFAD F4 Cerebellum\"], [\"DOD93 5xFAD F4 Cerebellum\"], [\"DOD93 5xFAD F4 Cerebellum\"], [\"DOD93 5xFAD F4 Cerebellum\"], [\"DOD93 5xFAD F4 Cerebellum\"], [\"DOD93 5xFAD F4 Cerebellum\"], [\"DOD93 5xFAD F4 Cerebellum\"], [\"DOD93 5xFAD F4 Cerebellum\"], [\"DOD93 5xFAD F4 Cerebellum\"], [\"DOD93 5xFAD F4 Cerebellum\"]], \"hovertemplate\": \"Person=Caitlin<br>Lipid=%{x}<br>Ratios=%{y}<br>Sample_ID=%{customdata[0]}<extra></extra>\", \"legendgroup\": \"Caitlin\", \"marker\": {\"color\": \"#636efa\", \"symbol\": \"circle\"}, \"mode\": \"markers\", \"name\": \"Caitlin\", \"orientation\": \"v\", \"showlegend\": true, \"type\": \"scatter\", \"x\": [\"TG 50:1\", \"TG 50:2\", \"TG 50:3\", \"TG 52:2\", \"TG 52:3\", \"TG 52:4\", \"TG 54:3\", \"TG 54:4\", \"TG 54:5\", \"TG 50:1\", \"TG 50:2\", \"TG 50:3\", \"TG 52:2\", \"TG 52:3\", \"TG 52:4\", \"TG 54:3\", \"TG 54:4\", \"TG 54:5\"], \"xaxis\": \"x\", \"y\": [1.5593711189938348, 2.7294086171756966, null, 3.356326940114094, 2.1311440119462732, 3.6616922914988357, 4.948865501365834, 3.052918895640348, 3.855982717707711, 1.5593711189938348, 2.7294086171756966, null, 3.356326940114094, 2.1311440119462732, 3.6616922914988357, 4.948865501365834, 3.052918895640348, 3.855982717707711], \"yaxis\": \"y\"}],                        {\"legend\": {\"title\": {\"text\": \"Person\"}, \"tracegroupgap\": 0}, \"template\": {\"data\": {\"bar\": [{\"error_x\": {\"color\": \"#2a3f5f\"}, \"error_y\": {\"color\": \"#2a3f5f\"}, \"marker\": {\"line\": {\"color\": \"#E5ECF6\", \"width\": 0.5}}, \"type\": \"bar\"}], \"barpolar\": [{\"marker\": {\"line\": {\"color\": \"#E5ECF6\", \"width\": 0.5}}, \"type\": \"barpolar\"}], \"carpet\": [{\"aaxis\": {\"endlinecolor\": \"#2a3f5f\", \"gridcolor\": \"white\", \"linecolor\": \"white\", \"minorgridcolor\": \"white\", \"startlinecolor\": \"#2a3f5f\"}, \"baxis\": {\"endlinecolor\": \"#2a3f5f\", \"gridcolor\": \"white\", \"linecolor\": \"white\", \"minorgridcolor\": \"white\", \"startlinecolor\": \"#2a3f5f\"}, \"type\": \"carpet\"}], \"choropleth\": [{\"colorbar\": {\"outlinewidth\": 0, \"ticks\": \"\"}, \"type\": \"choropleth\"}], \"contour\": [{\"colorbar\": {\"outlinewidth\": 0, \"ticks\": \"\"}, \"colorscale\": [[0.0, \"#0d0887\"], [0.1111111111111111, \"#46039f\"], [0.2222222222222222, \"#7201a8\"], [0.3333333333333333, \"#9c179e\"], [0.4444444444444444, \"#bd3786\"], [0.5555555555555556, \"#d8576b\"], [0.6666666666666666, \"#ed7953\"], [0.7777777777777778, \"#fb9f3a\"], [0.8888888888888888, \"#fdca26\"], [1.0, \"#f0f921\"]], \"type\": \"contour\"}], \"contourcarpet\": [{\"colorbar\": {\"outlinewidth\": 0, \"ticks\": \"\"}, \"type\": \"contourcarpet\"}], \"heatmap\": [{\"colorbar\": {\"outlinewidth\": 0, \"ticks\": \"\"}, \"colorscale\": [[0.0, \"#0d0887\"], [0.1111111111111111, \"#46039f\"], [0.2222222222222222, \"#7201a8\"], [0.3333333333333333, \"#9c179e\"], [0.4444444444444444, \"#bd3786\"], [0.5555555555555556, \"#d8576b\"], [0.6666666666666666, \"#ed7953\"], [0.7777777777777778, \"#fb9f3a\"], [0.8888888888888888, \"#fdca26\"], [1.0, \"#f0f921\"]], \"type\": \"heatmap\"}], \"heatmapgl\": [{\"colorbar\": {\"outlinewidth\": 0, \"ticks\": \"\"}, \"colorscale\": [[0.0, \"#0d0887\"], [0.1111111111111111, \"#46039f\"], [0.2222222222222222, \"#7201a8\"], [0.3333333333333333, \"#9c179e\"], [0.4444444444444444, \"#bd3786\"], [0.5555555555555556, \"#d8576b\"], [0.6666666666666666, \"#ed7953\"], [0.7777777777777778, \"#fb9f3a\"], [0.8888888888888888, \"#fdca26\"], [1.0, \"#f0f921\"]], \"type\": \"heatmapgl\"}], \"histogram\": [{\"marker\": {\"colorbar\": {\"outlinewidth\": 0, \"ticks\": \"\"}}, \"type\": \"histogram\"}], \"histogram2d\": [{\"colorbar\": {\"outlinewidth\": 0, \"ticks\": \"\"}, \"colorscale\": [[0.0, \"#0d0887\"], [0.1111111111111111, \"#46039f\"], [0.2222222222222222, \"#7201a8\"], [0.3333333333333333, \"#9c179e\"], [0.4444444444444444, \"#bd3786\"], [0.5555555555555556, \"#d8576b\"], [0.6666666666666666, \"#ed7953\"], [0.7777777777777778, \"#fb9f3a\"], [0.8888888888888888, \"#fdca26\"], [1.0, \"#f0f921\"]], \"type\": \"histogram2d\"}], \"histogram2dcontour\": [{\"colorbar\": {\"outlinewidth\": 0, \"ticks\": \"\"}, \"colorscale\": [[0.0, \"#0d0887\"], [0.1111111111111111, \"#46039f\"], [0.2222222222222222, \"#7201a8\"], [0.3333333333333333, \"#9c179e\"], [0.4444444444444444, \"#bd3786\"], [0.5555555555555556, \"#d8576b\"], [0.6666666666666666, \"#ed7953\"], [0.7777777777777778, \"#fb9f3a\"], [0.8888888888888888, \"#fdca26\"], [1.0, \"#f0f921\"]], \"type\": \"histogram2dcontour\"}], \"mesh3d\": [{\"colorbar\": {\"outlinewidth\": 0, \"ticks\": \"\"}, \"type\": \"mesh3d\"}], \"parcoords\": [{\"line\": {\"colorbar\": {\"outlinewidth\": 0, \"ticks\": \"\"}}, \"type\": \"parcoords\"}], \"pie\": [{\"automargin\": true, \"type\": \"pie\"}], \"scatter\": [{\"marker\": {\"colorbar\": {\"outlinewidth\": 0, \"ticks\": \"\"}}, \"type\": \"scatter\"}], \"scatter3d\": [{\"line\": {\"colorbar\": {\"outlinewidth\": 0, \"ticks\": \"\"}}, \"marker\": {\"colorbar\": {\"outlinewidth\": 0, \"ticks\": \"\"}}, \"type\": \"scatter3d\"}], \"scattercarpet\": [{\"marker\": {\"colorbar\": {\"outlinewidth\": 0, \"ticks\": \"\"}}, \"type\": \"scattercarpet\"}], \"scattergeo\": [{\"marker\": {\"colorbar\": {\"outlinewidth\": 0, \"ticks\": \"\"}}, \"type\": \"scattergeo\"}], \"scattergl\": [{\"marker\": {\"colorbar\": {\"outlinewidth\": 0, \"ticks\": \"\"}}, \"type\": \"scattergl\"}], \"scattermapbox\": [{\"marker\": {\"colorbar\": {\"outlinewidth\": 0, \"ticks\": \"\"}}, \"type\": \"scattermapbox\"}], \"scatterpolar\": [{\"marker\": {\"colorbar\": {\"outlinewidth\": 0, \"ticks\": \"\"}}, \"type\": \"scatterpolar\"}], \"scatterpolargl\": [{\"marker\": {\"colorbar\": {\"outlinewidth\": 0, \"ticks\": \"\"}}, \"type\": \"scatterpolargl\"}], \"scatterternary\": [{\"marker\": {\"colorbar\": {\"outlinewidth\": 0, \"ticks\": \"\"}}, \"type\": \"scatterternary\"}], \"surface\": [{\"colorbar\": {\"outlinewidth\": 0, \"ticks\": \"\"}, \"colorscale\": [[0.0, \"#0d0887\"], [0.1111111111111111, \"#46039f\"], [0.2222222222222222, \"#7201a8\"], [0.3333333333333333, \"#9c179e\"], [0.4444444444444444, \"#bd3786\"], [0.5555555555555556, \"#d8576b\"], [0.6666666666666666, \"#ed7953\"], [0.7777777777777778, \"#fb9f3a\"], [0.8888888888888888, \"#fdca26\"], [1.0, \"#f0f921\"]], \"type\": \"surface\"}], \"table\": [{\"cells\": {\"fill\": {\"color\": \"#EBF0F8\"}, \"line\": {\"color\": \"white\"}}, \"header\": {\"fill\": {\"color\": \"#C8D4E3\"}, \"line\": {\"color\": \"white\"}}, \"type\": \"table\"}]}, \"layout\": {\"annotationdefaults\": {\"arrowcolor\": \"#2a3f5f\", \"arrowhead\": 0, \"arrowwidth\": 1}, \"coloraxis\": {\"colorbar\": {\"outlinewidth\": 0, \"ticks\": \"\"}}, \"colorscale\": {\"diverging\": [[0, \"#8e0152\"], [0.1, \"#c51b7d\"], [0.2, \"#de77ae\"], [0.3, \"#f1b6da\"], [0.4, \"#fde0ef\"], [0.5, \"#f7f7f7\"], [0.6, \"#e6f5d0\"], [0.7, \"#b8e186\"], [0.8, \"#7fbc41\"], [0.9, \"#4d9221\"], [1, \"#276419\"]], \"sequential\": [[0.0, \"#0d0887\"], [0.1111111111111111, \"#46039f\"], [0.2222222222222222, \"#7201a8\"], [0.3333333333333333, \"#9c179e\"], [0.4444444444444444, \"#bd3786\"], [0.5555555555555556, \"#d8576b\"], [0.6666666666666666, \"#ed7953\"], [0.7777777777777778, \"#fb9f3a\"], [0.8888888888888888, \"#fdca26\"], [1.0, \"#f0f921\"]], \"sequentialminus\": [[0.0, \"#0d0887\"], [0.1111111111111111, \"#46039f\"], [0.2222222222222222, \"#7201a8\"], [0.3333333333333333, \"#9c179e\"], [0.4444444444444444, \"#bd3786\"], [0.5555555555555556, \"#d8576b\"], [0.6666666666666666, \"#ed7953\"], [0.7777777777777778, \"#fb9f3a\"], [0.8888888888888888, \"#fdca26\"], [1.0, \"#f0f921\"]]}, \"colorway\": [\"#636efa\", \"#EF553B\", \"#00cc96\", \"#ab63fa\", \"#FFA15A\", \"#19d3f3\", \"#FF6692\", \"#B6E880\", \"#FF97FF\", \"#FECB52\"], \"font\": {\"color\": \"#2a3f5f\"}, \"geo\": {\"bgcolor\": \"white\", \"lakecolor\": \"white\", \"landcolor\": \"#E5ECF6\", \"showlakes\": true, \"showland\": true, \"subunitcolor\": \"white\"}, \"hoverlabel\": {\"align\": \"left\"}, \"hovermode\": \"closest\", \"mapbox\": {\"style\": \"light\"}, \"paper_bgcolor\": \"white\", \"plot_bgcolor\": \"#E5ECF6\", \"polar\": {\"angularaxis\": {\"gridcolor\": \"white\", \"linecolor\": \"white\", \"ticks\": \"\"}, \"bgcolor\": \"#E5ECF6\", \"radialaxis\": {\"gridcolor\": \"white\", \"linecolor\": \"white\", \"ticks\": \"\"}}, \"scene\": {\"xaxis\": {\"backgroundcolor\": \"#E5ECF6\", \"gridcolor\": \"white\", \"gridwidth\": 2, \"linecolor\": \"white\", \"showbackground\": true, \"ticks\": \"\", \"zerolinecolor\": \"white\"}, \"yaxis\": {\"backgroundcolor\": \"#E5ECF6\", \"gridcolor\": \"white\", \"gridwidth\": 2, \"linecolor\": \"white\", \"showbackground\": true, \"ticks\": \"\", \"zerolinecolor\": \"white\"}, \"zaxis\": {\"backgroundcolor\": \"#E5ECF6\", \"gridcolor\": \"white\", \"gridwidth\": 2, \"linecolor\": \"white\", \"showbackground\": true, \"ticks\": \"\", \"zerolinecolor\": \"white\"}}, \"shapedefaults\": {\"line\": {\"color\": \"#2a3f5f\"}}, \"ternary\": {\"aaxis\": {\"gridcolor\": \"white\", \"linecolor\": \"white\", \"ticks\": \"\"}, \"baxis\": {\"gridcolor\": \"white\", \"linecolor\": \"white\", \"ticks\": \"\"}, \"bgcolor\": \"#E5ECF6\", \"caxis\": {\"gridcolor\": \"white\", \"linecolor\": \"white\", \"ticks\": \"\"}}, \"title\": {\"x\": 0.05}, \"xaxis\": {\"automargin\": true, \"gridcolor\": \"white\", \"linecolor\": \"white\", \"ticks\": \"\", \"title\": {\"standoff\": 15}, \"zerolinecolor\": \"white\", \"zerolinewidth\": 2}, \"yaxis\": {\"automargin\": true, \"gridcolor\": \"white\", \"linecolor\": \"white\", \"ticks\": \"\", \"title\": {\"standoff\": 15}, \"zerolinecolor\": \"white\", \"zerolinewidth\": 2}}}, \"title\": {\"text\": \"Lipid vs Ratios for ID: CER, ID_2: DOD93, ID_3: F4\"}, \"xaxis\": {\"anchor\": \"y\", \"domain\": [0.0, 1.0], \"title\": {\"text\": \"Lipid\"}}, \"yaxis\": {\"anchor\": \"x\", \"domain\": [0.0, 1.0], \"title\": {\"text\": \"Ratios\"}}},                        {\"responsive\": true}                    ).then(function(){\n",
       "                            \n",
       "var gd = document.getElementById('2082d777-a418-4d25-9928-f9fe255dd1ec');\n",
       "var x = new MutationObserver(function (mutations, observer) {{\n",
       "        var display = window.getComputedStyle(gd).display;\n",
       "        if (!display || display === 'none') {{\n",
       "            console.log([gd, 'removed!']);\n",
       "            Plotly.purge(gd);\n",
       "            observer.disconnect();\n",
       "        }}\n",
       "}});\n",
       "\n",
       "// Listen for the removal of the full notebook cells\n",
       "var notebookContainer = gd.closest('#notebook-container');\n",
       "if (notebookContainer) {{\n",
       "    x.observe(notebookContainer, {childList: true});\n",
       "}}\n",
       "\n",
       "// Listen for the clearing of the current output cell\n",
       "var outputEl = gd.closest('.output');\n",
       "if (outputEl) {{\n",
       "    x.observe(outputEl, {childList: true});\n",
       "}}\n",
       "\n",
       "                        })                };                });            </script>        </div>"
      ]
     },
     "metadata": {},
     "output_type": "display_data"
    },
    {
     "data": {
      "application/vnd.plotly.v1+json": {
       "config": {
        "plotlyServerURL": "https://plot.ly"
       },
       "data": [
        {
         "customdata": [
          [
           "DOD93 5xFAD F4 Diencephalon "
          ],
          [
           "DOD93 5xFAD F4 Diencephalon "
          ],
          [
           "DOD93 5xFAD F4 Diencephalon "
          ],
          [
           "DOD93 5xFAD F4 Diencephalon "
          ],
          [
           "DOD93 5xFAD F4 Diencephalon "
          ],
          [
           "DOD93 5xFAD F4 Diencephalon "
          ],
          [
           "DOD93 5xFAD F4 Diencephalon "
          ],
          [
           "DOD93 5xFAD F4 Diencephalon "
          ],
          [
           "DOD93 5xFAD F4 Diencephalon "
          ],
          [
           "DOD93 5xFAD F4 Diencephalon "
          ],
          [
           "DOD93 5xFAD F4 Diencephalon "
          ],
          [
           "DOD93 5xFAD F4 Diencephalon "
          ],
          [
           "DOD93 5xFAD F4 Diencephalon "
          ],
          [
           "DOD93 5xFAD F4 Diencephalon "
          ],
          [
           "DOD93 5xFAD F4 Diencephalon "
          ],
          [
           "DOD93 5xFAD F4 Diencephalon "
          ],
          [
           "DOD93 5xFAD F4 Diencephalon "
          ],
          [
           "DOD93 5xFAD F4 Diencephalon "
          ]
         ],
         "hovertemplate": "Person=Caitlin<br>Lipid=%{x}<br>Ratios=%{y}<br>Sample_ID=%{customdata[0]}<extra></extra>",
         "legendgroup": "Caitlin",
         "marker": {
          "color": "#636efa",
          "symbol": "circle"
         },
         "mode": "markers",
         "name": "Caitlin",
         "orientation": "v",
         "showlegend": true,
         "type": "scatter",
         "x": [
          "TG 50:1",
          "TG 50:2",
          "TG 50:3",
          "TG 52:2",
          "TG 52:3",
          "TG 52:4",
          "TG 54:3",
          "TG 54:4",
          "TG 54:5",
          "TG 50:1",
          "TG 50:2",
          "TG 50:3",
          "TG 52:2",
          "TG 52:3",
          "TG 52:4",
          "TG 54:3",
          "TG 54:4",
          "TG 54:5"
         ],
         "xaxis": "x",
         "y": [
          2.0046844085080786,
          1.9238847981245661,
          null,
          4.3776455233724345,
          3.532118946788613,
          null,
          4.778272241566666,
          1.9435391132576956,
          3.2249871252220705,
          2.0046844085080786,
          1.9238847981245661,
          null,
          4.3776455233724345,
          3.532118946788613,
          null,
          4.778272241566666,
          1.9435391132576956,
          3.2249871252220705
         ],
         "yaxis": "y"
        }
       ],
       "layout": {
        "legend": {
         "title": {
          "text": "Person"
         },
         "tracegroupgap": 0
        },
        "template": {
         "data": {
          "bar": [
           {
            "error_x": {
             "color": "#2a3f5f"
            },
            "error_y": {
             "color": "#2a3f5f"
            },
            "marker": {
             "line": {
              "color": "#E5ECF6",
              "width": 0.5
             }
            },
            "type": "bar"
           }
          ],
          "barpolar": [
           {
            "marker": {
             "line": {
              "color": "#E5ECF6",
              "width": 0.5
             }
            },
            "type": "barpolar"
           }
          ],
          "carpet": [
           {
            "aaxis": {
             "endlinecolor": "#2a3f5f",
             "gridcolor": "white",
             "linecolor": "white",
             "minorgridcolor": "white",
             "startlinecolor": "#2a3f5f"
            },
            "baxis": {
             "endlinecolor": "#2a3f5f",
             "gridcolor": "white",
             "linecolor": "white",
             "minorgridcolor": "white",
             "startlinecolor": "#2a3f5f"
            },
            "type": "carpet"
           }
          ],
          "choropleth": [
           {
            "colorbar": {
             "outlinewidth": 0,
             "ticks": ""
            },
            "type": "choropleth"
           }
          ],
          "contour": [
           {
            "colorbar": {
             "outlinewidth": 0,
             "ticks": ""
            },
            "colorscale": [
             [
              0,
              "#0d0887"
             ],
             [
              0.1111111111111111,
              "#46039f"
             ],
             [
              0.2222222222222222,
              "#7201a8"
             ],
             [
              0.3333333333333333,
              "#9c179e"
             ],
             [
              0.4444444444444444,
              "#bd3786"
             ],
             [
              0.5555555555555556,
              "#d8576b"
             ],
             [
              0.6666666666666666,
              "#ed7953"
             ],
             [
              0.7777777777777778,
              "#fb9f3a"
             ],
             [
              0.8888888888888888,
              "#fdca26"
             ],
             [
              1,
              "#f0f921"
             ]
            ],
            "type": "contour"
           }
          ],
          "contourcarpet": [
           {
            "colorbar": {
             "outlinewidth": 0,
             "ticks": ""
            },
            "type": "contourcarpet"
           }
          ],
          "heatmap": [
           {
            "colorbar": {
             "outlinewidth": 0,
             "ticks": ""
            },
            "colorscale": [
             [
              0,
              "#0d0887"
             ],
             [
              0.1111111111111111,
              "#46039f"
             ],
             [
              0.2222222222222222,
              "#7201a8"
             ],
             [
              0.3333333333333333,
              "#9c179e"
             ],
             [
              0.4444444444444444,
              "#bd3786"
             ],
             [
              0.5555555555555556,
              "#d8576b"
             ],
             [
              0.6666666666666666,
              "#ed7953"
             ],
             [
              0.7777777777777778,
              "#fb9f3a"
             ],
             [
              0.8888888888888888,
              "#fdca26"
             ],
             [
              1,
              "#f0f921"
             ]
            ],
            "type": "heatmap"
           }
          ],
          "heatmapgl": [
           {
            "colorbar": {
             "outlinewidth": 0,
             "ticks": ""
            },
            "colorscale": [
             [
              0,
              "#0d0887"
             ],
             [
              0.1111111111111111,
              "#46039f"
             ],
             [
              0.2222222222222222,
              "#7201a8"
             ],
             [
              0.3333333333333333,
              "#9c179e"
             ],
             [
              0.4444444444444444,
              "#bd3786"
             ],
             [
              0.5555555555555556,
              "#d8576b"
             ],
             [
              0.6666666666666666,
              "#ed7953"
             ],
             [
              0.7777777777777778,
              "#fb9f3a"
             ],
             [
              0.8888888888888888,
              "#fdca26"
             ],
             [
              1,
              "#f0f921"
             ]
            ],
            "type": "heatmapgl"
           }
          ],
          "histogram": [
           {
            "marker": {
             "colorbar": {
              "outlinewidth": 0,
              "ticks": ""
             }
            },
            "type": "histogram"
           }
          ],
          "histogram2d": [
           {
            "colorbar": {
             "outlinewidth": 0,
             "ticks": ""
            },
            "colorscale": [
             [
              0,
              "#0d0887"
             ],
             [
              0.1111111111111111,
              "#46039f"
             ],
             [
              0.2222222222222222,
              "#7201a8"
             ],
             [
              0.3333333333333333,
              "#9c179e"
             ],
             [
              0.4444444444444444,
              "#bd3786"
             ],
             [
              0.5555555555555556,
              "#d8576b"
             ],
             [
              0.6666666666666666,
              "#ed7953"
             ],
             [
              0.7777777777777778,
              "#fb9f3a"
             ],
             [
              0.8888888888888888,
              "#fdca26"
             ],
             [
              1,
              "#f0f921"
             ]
            ],
            "type": "histogram2d"
           }
          ],
          "histogram2dcontour": [
           {
            "colorbar": {
             "outlinewidth": 0,
             "ticks": ""
            },
            "colorscale": [
             [
              0,
              "#0d0887"
             ],
             [
              0.1111111111111111,
              "#46039f"
             ],
             [
              0.2222222222222222,
              "#7201a8"
             ],
             [
              0.3333333333333333,
              "#9c179e"
             ],
             [
              0.4444444444444444,
              "#bd3786"
             ],
             [
              0.5555555555555556,
              "#d8576b"
             ],
             [
              0.6666666666666666,
              "#ed7953"
             ],
             [
              0.7777777777777778,
              "#fb9f3a"
             ],
             [
              0.8888888888888888,
              "#fdca26"
             ],
             [
              1,
              "#f0f921"
             ]
            ],
            "type": "histogram2dcontour"
           }
          ],
          "mesh3d": [
           {
            "colorbar": {
             "outlinewidth": 0,
             "ticks": ""
            },
            "type": "mesh3d"
           }
          ],
          "parcoords": [
           {
            "line": {
             "colorbar": {
              "outlinewidth": 0,
              "ticks": ""
             }
            },
            "type": "parcoords"
           }
          ],
          "pie": [
           {
            "automargin": true,
            "type": "pie"
           }
          ],
          "scatter": [
           {
            "marker": {
             "colorbar": {
              "outlinewidth": 0,
              "ticks": ""
             }
            },
            "type": "scatter"
           }
          ],
          "scatter3d": [
           {
            "line": {
             "colorbar": {
              "outlinewidth": 0,
              "ticks": ""
             }
            },
            "marker": {
             "colorbar": {
              "outlinewidth": 0,
              "ticks": ""
             }
            },
            "type": "scatter3d"
           }
          ],
          "scattercarpet": [
           {
            "marker": {
             "colorbar": {
              "outlinewidth": 0,
              "ticks": ""
             }
            },
            "type": "scattercarpet"
           }
          ],
          "scattergeo": [
           {
            "marker": {
             "colorbar": {
              "outlinewidth": 0,
              "ticks": ""
             }
            },
            "type": "scattergeo"
           }
          ],
          "scattergl": [
           {
            "marker": {
             "colorbar": {
              "outlinewidth": 0,
              "ticks": ""
             }
            },
            "type": "scattergl"
           }
          ],
          "scattermapbox": [
           {
            "marker": {
             "colorbar": {
              "outlinewidth": 0,
              "ticks": ""
             }
            },
            "type": "scattermapbox"
           }
          ],
          "scatterpolar": [
           {
            "marker": {
             "colorbar": {
              "outlinewidth": 0,
              "ticks": ""
             }
            },
            "type": "scatterpolar"
           }
          ],
          "scatterpolargl": [
           {
            "marker": {
             "colorbar": {
              "outlinewidth": 0,
              "ticks": ""
             }
            },
            "type": "scatterpolargl"
           }
          ],
          "scatterternary": [
           {
            "marker": {
             "colorbar": {
              "outlinewidth": 0,
              "ticks": ""
             }
            },
            "type": "scatterternary"
           }
          ],
          "surface": [
           {
            "colorbar": {
             "outlinewidth": 0,
             "ticks": ""
            },
            "colorscale": [
             [
              0,
              "#0d0887"
             ],
             [
              0.1111111111111111,
              "#46039f"
             ],
             [
              0.2222222222222222,
              "#7201a8"
             ],
             [
              0.3333333333333333,
              "#9c179e"
             ],
             [
              0.4444444444444444,
              "#bd3786"
             ],
             [
              0.5555555555555556,
              "#d8576b"
             ],
             [
              0.6666666666666666,
              "#ed7953"
             ],
             [
              0.7777777777777778,
              "#fb9f3a"
             ],
             [
              0.8888888888888888,
              "#fdca26"
             ],
             [
              1,
              "#f0f921"
             ]
            ],
            "type": "surface"
           }
          ],
          "table": [
           {
            "cells": {
             "fill": {
              "color": "#EBF0F8"
             },
             "line": {
              "color": "white"
             }
            },
            "header": {
             "fill": {
              "color": "#C8D4E3"
             },
             "line": {
              "color": "white"
             }
            },
            "type": "table"
           }
          ]
         },
         "layout": {
          "annotationdefaults": {
           "arrowcolor": "#2a3f5f",
           "arrowhead": 0,
           "arrowwidth": 1
          },
          "coloraxis": {
           "colorbar": {
            "outlinewidth": 0,
            "ticks": ""
           }
          },
          "colorscale": {
           "diverging": [
            [
             0,
             "#8e0152"
            ],
            [
             0.1,
             "#c51b7d"
            ],
            [
             0.2,
             "#de77ae"
            ],
            [
             0.3,
             "#f1b6da"
            ],
            [
             0.4,
             "#fde0ef"
            ],
            [
             0.5,
             "#f7f7f7"
            ],
            [
             0.6,
             "#e6f5d0"
            ],
            [
             0.7,
             "#b8e186"
            ],
            [
             0.8,
             "#7fbc41"
            ],
            [
             0.9,
             "#4d9221"
            ],
            [
             1,
             "#276419"
            ]
           ],
           "sequential": [
            [
             0,
             "#0d0887"
            ],
            [
             0.1111111111111111,
             "#46039f"
            ],
            [
             0.2222222222222222,
             "#7201a8"
            ],
            [
             0.3333333333333333,
             "#9c179e"
            ],
            [
             0.4444444444444444,
             "#bd3786"
            ],
            [
             0.5555555555555556,
             "#d8576b"
            ],
            [
             0.6666666666666666,
             "#ed7953"
            ],
            [
             0.7777777777777778,
             "#fb9f3a"
            ],
            [
             0.8888888888888888,
             "#fdca26"
            ],
            [
             1,
             "#f0f921"
            ]
           ],
           "sequentialminus": [
            [
             0,
             "#0d0887"
            ],
            [
             0.1111111111111111,
             "#46039f"
            ],
            [
             0.2222222222222222,
             "#7201a8"
            ],
            [
             0.3333333333333333,
             "#9c179e"
            ],
            [
             0.4444444444444444,
             "#bd3786"
            ],
            [
             0.5555555555555556,
             "#d8576b"
            ],
            [
             0.6666666666666666,
             "#ed7953"
            ],
            [
             0.7777777777777778,
             "#fb9f3a"
            ],
            [
             0.8888888888888888,
             "#fdca26"
            ],
            [
             1,
             "#f0f921"
            ]
           ]
          },
          "colorway": [
           "#636efa",
           "#EF553B",
           "#00cc96",
           "#ab63fa",
           "#FFA15A",
           "#19d3f3",
           "#FF6692",
           "#B6E880",
           "#FF97FF",
           "#FECB52"
          ],
          "font": {
           "color": "#2a3f5f"
          },
          "geo": {
           "bgcolor": "white",
           "lakecolor": "white",
           "landcolor": "#E5ECF6",
           "showlakes": true,
           "showland": true,
           "subunitcolor": "white"
          },
          "hoverlabel": {
           "align": "left"
          },
          "hovermode": "closest",
          "mapbox": {
           "style": "light"
          },
          "paper_bgcolor": "white",
          "plot_bgcolor": "#E5ECF6",
          "polar": {
           "angularaxis": {
            "gridcolor": "white",
            "linecolor": "white",
            "ticks": ""
           },
           "bgcolor": "#E5ECF6",
           "radialaxis": {
            "gridcolor": "white",
            "linecolor": "white",
            "ticks": ""
           }
          },
          "scene": {
           "xaxis": {
            "backgroundcolor": "#E5ECF6",
            "gridcolor": "white",
            "gridwidth": 2,
            "linecolor": "white",
            "showbackground": true,
            "ticks": "",
            "zerolinecolor": "white"
           },
           "yaxis": {
            "backgroundcolor": "#E5ECF6",
            "gridcolor": "white",
            "gridwidth": 2,
            "linecolor": "white",
            "showbackground": true,
            "ticks": "",
            "zerolinecolor": "white"
           },
           "zaxis": {
            "backgroundcolor": "#E5ECF6",
            "gridcolor": "white",
            "gridwidth": 2,
            "linecolor": "white",
            "showbackground": true,
            "ticks": "",
            "zerolinecolor": "white"
           }
          },
          "shapedefaults": {
           "line": {
            "color": "#2a3f5f"
           }
          },
          "ternary": {
           "aaxis": {
            "gridcolor": "white",
            "linecolor": "white",
            "ticks": ""
           },
           "baxis": {
            "gridcolor": "white",
            "linecolor": "white",
            "ticks": ""
           },
           "bgcolor": "#E5ECF6",
           "caxis": {
            "gridcolor": "white",
            "linecolor": "white",
            "ticks": ""
           }
          },
          "title": {
           "x": 0.05
          },
          "xaxis": {
           "automargin": true,
           "gridcolor": "white",
           "linecolor": "white",
           "ticks": "",
           "title": {
            "standoff": 15
           },
           "zerolinecolor": "white",
           "zerolinewidth": 2
          },
          "yaxis": {
           "automargin": true,
           "gridcolor": "white",
           "linecolor": "white",
           "ticks": "",
           "title": {
            "standoff": 15
           },
           "zerolinecolor": "white",
           "zerolinewidth": 2
          }
         }
        },
        "title": {
         "text": "Lipid vs Ratios for ID: DIE, ID_2: DOD93, ID_3: F4"
        },
        "xaxis": {
         "anchor": "y",
         "domain": [
          0,
          1
         ],
         "title": {
          "text": "Lipid"
         }
        },
        "yaxis": {
         "anchor": "x",
         "domain": [
          0,
          1
         ],
         "title": {
          "text": "Ratios"
         }
        }
       }
      },
      "text/html": [
       "<div>                            <div id=\"9c2a3a00-7d4e-4f01-bd1a-773a4ff687c6\" class=\"plotly-graph-div\" style=\"height:525px; width:100%;\"></div>            <script type=\"text/javascript\">                require([\"plotly\"], function(Plotly) {                    window.PLOTLYENV=window.PLOTLYENV || {};                                    if (document.getElementById(\"9c2a3a00-7d4e-4f01-bd1a-773a4ff687c6\")) {                    Plotly.newPlot(                        \"9c2a3a00-7d4e-4f01-bd1a-773a4ff687c6\",                        [{\"customdata\": [[\"DOD93 5xFAD F4 Diencephalon \"], [\"DOD93 5xFAD F4 Diencephalon \"], [\"DOD93 5xFAD F4 Diencephalon \"], [\"DOD93 5xFAD F4 Diencephalon \"], [\"DOD93 5xFAD F4 Diencephalon \"], [\"DOD93 5xFAD F4 Diencephalon \"], [\"DOD93 5xFAD F4 Diencephalon \"], [\"DOD93 5xFAD F4 Diencephalon \"], [\"DOD93 5xFAD F4 Diencephalon \"], [\"DOD93 5xFAD F4 Diencephalon \"], [\"DOD93 5xFAD F4 Diencephalon \"], [\"DOD93 5xFAD F4 Diencephalon \"], [\"DOD93 5xFAD F4 Diencephalon \"], [\"DOD93 5xFAD F4 Diencephalon \"], [\"DOD93 5xFAD F4 Diencephalon \"], [\"DOD93 5xFAD F4 Diencephalon \"], [\"DOD93 5xFAD F4 Diencephalon \"], [\"DOD93 5xFAD F4 Diencephalon \"]], \"hovertemplate\": \"Person=Caitlin<br>Lipid=%{x}<br>Ratios=%{y}<br>Sample_ID=%{customdata[0]}<extra></extra>\", \"legendgroup\": \"Caitlin\", \"marker\": {\"color\": \"#636efa\", \"symbol\": \"circle\"}, \"mode\": \"markers\", \"name\": \"Caitlin\", \"orientation\": \"v\", \"showlegend\": true, \"type\": \"scatter\", \"x\": [\"TG 50:1\", \"TG 50:2\", \"TG 50:3\", \"TG 52:2\", \"TG 52:3\", \"TG 52:4\", \"TG 54:3\", \"TG 54:4\", \"TG 54:5\", \"TG 50:1\", \"TG 50:2\", \"TG 50:3\", \"TG 52:2\", \"TG 52:3\", \"TG 52:4\", \"TG 54:3\", \"TG 54:4\", \"TG 54:5\"], \"xaxis\": \"x\", \"y\": [2.0046844085080786, 1.9238847981245661, null, 4.3776455233724345, 3.532118946788613, null, 4.778272241566666, 1.9435391132576956, 3.2249871252220705, 2.0046844085080786, 1.9238847981245661, null, 4.3776455233724345, 3.532118946788613, null, 4.778272241566666, 1.9435391132576956, 3.2249871252220705], \"yaxis\": \"y\"}],                        {\"legend\": {\"title\": {\"text\": \"Person\"}, \"tracegroupgap\": 0}, \"template\": {\"data\": {\"bar\": [{\"error_x\": {\"color\": \"#2a3f5f\"}, \"error_y\": {\"color\": \"#2a3f5f\"}, \"marker\": {\"line\": {\"color\": \"#E5ECF6\", \"width\": 0.5}}, \"type\": \"bar\"}], \"barpolar\": [{\"marker\": {\"line\": {\"color\": \"#E5ECF6\", \"width\": 0.5}}, \"type\": \"barpolar\"}], \"carpet\": [{\"aaxis\": {\"endlinecolor\": \"#2a3f5f\", \"gridcolor\": \"white\", \"linecolor\": \"white\", \"minorgridcolor\": \"white\", \"startlinecolor\": \"#2a3f5f\"}, \"baxis\": {\"endlinecolor\": \"#2a3f5f\", \"gridcolor\": \"white\", \"linecolor\": \"white\", \"minorgridcolor\": \"white\", \"startlinecolor\": \"#2a3f5f\"}, \"type\": \"carpet\"}], \"choropleth\": [{\"colorbar\": {\"outlinewidth\": 0, \"ticks\": \"\"}, \"type\": \"choropleth\"}], \"contour\": [{\"colorbar\": {\"outlinewidth\": 0, \"ticks\": \"\"}, \"colorscale\": [[0.0, \"#0d0887\"], [0.1111111111111111, \"#46039f\"], [0.2222222222222222, \"#7201a8\"], [0.3333333333333333, \"#9c179e\"], [0.4444444444444444, \"#bd3786\"], [0.5555555555555556, \"#d8576b\"], [0.6666666666666666, \"#ed7953\"], [0.7777777777777778, \"#fb9f3a\"], [0.8888888888888888, \"#fdca26\"], [1.0, \"#f0f921\"]], \"type\": \"contour\"}], \"contourcarpet\": [{\"colorbar\": {\"outlinewidth\": 0, \"ticks\": \"\"}, \"type\": \"contourcarpet\"}], \"heatmap\": [{\"colorbar\": {\"outlinewidth\": 0, \"ticks\": \"\"}, \"colorscale\": [[0.0, \"#0d0887\"], [0.1111111111111111, \"#46039f\"], [0.2222222222222222, \"#7201a8\"], [0.3333333333333333, \"#9c179e\"], [0.4444444444444444, \"#bd3786\"], [0.5555555555555556, \"#d8576b\"], [0.6666666666666666, \"#ed7953\"], [0.7777777777777778, \"#fb9f3a\"], [0.8888888888888888, \"#fdca26\"], [1.0, \"#f0f921\"]], \"type\": \"heatmap\"}], \"heatmapgl\": [{\"colorbar\": {\"outlinewidth\": 0, \"ticks\": \"\"}, \"colorscale\": [[0.0, \"#0d0887\"], [0.1111111111111111, \"#46039f\"], [0.2222222222222222, \"#7201a8\"], [0.3333333333333333, \"#9c179e\"], [0.4444444444444444, \"#bd3786\"], [0.5555555555555556, \"#d8576b\"], [0.6666666666666666, \"#ed7953\"], [0.7777777777777778, \"#fb9f3a\"], [0.8888888888888888, \"#fdca26\"], [1.0, \"#f0f921\"]], \"type\": \"heatmapgl\"}], \"histogram\": [{\"marker\": {\"colorbar\": {\"outlinewidth\": 0, \"ticks\": \"\"}}, \"type\": \"histogram\"}], \"histogram2d\": [{\"colorbar\": {\"outlinewidth\": 0, \"ticks\": \"\"}, \"colorscale\": [[0.0, \"#0d0887\"], [0.1111111111111111, \"#46039f\"], [0.2222222222222222, \"#7201a8\"], [0.3333333333333333, \"#9c179e\"], [0.4444444444444444, \"#bd3786\"], [0.5555555555555556, \"#d8576b\"], [0.6666666666666666, \"#ed7953\"], [0.7777777777777778, \"#fb9f3a\"], [0.8888888888888888, \"#fdca26\"], [1.0, \"#f0f921\"]], \"type\": \"histogram2d\"}], \"histogram2dcontour\": [{\"colorbar\": {\"outlinewidth\": 0, \"ticks\": \"\"}, \"colorscale\": [[0.0, \"#0d0887\"], [0.1111111111111111, \"#46039f\"], [0.2222222222222222, \"#7201a8\"], [0.3333333333333333, \"#9c179e\"], [0.4444444444444444, \"#bd3786\"], [0.5555555555555556, \"#d8576b\"], [0.6666666666666666, \"#ed7953\"], [0.7777777777777778, \"#fb9f3a\"], [0.8888888888888888, \"#fdca26\"], [1.0, \"#f0f921\"]], \"type\": \"histogram2dcontour\"}], \"mesh3d\": [{\"colorbar\": {\"outlinewidth\": 0, \"ticks\": \"\"}, \"type\": \"mesh3d\"}], \"parcoords\": [{\"line\": {\"colorbar\": {\"outlinewidth\": 0, \"ticks\": \"\"}}, \"type\": \"parcoords\"}], \"pie\": [{\"automargin\": true, \"type\": \"pie\"}], \"scatter\": [{\"marker\": {\"colorbar\": {\"outlinewidth\": 0, \"ticks\": \"\"}}, \"type\": \"scatter\"}], \"scatter3d\": [{\"line\": {\"colorbar\": {\"outlinewidth\": 0, \"ticks\": \"\"}}, \"marker\": {\"colorbar\": {\"outlinewidth\": 0, \"ticks\": \"\"}}, \"type\": \"scatter3d\"}], \"scattercarpet\": [{\"marker\": {\"colorbar\": {\"outlinewidth\": 0, \"ticks\": \"\"}}, \"type\": \"scattercarpet\"}], \"scattergeo\": [{\"marker\": {\"colorbar\": {\"outlinewidth\": 0, \"ticks\": \"\"}}, \"type\": \"scattergeo\"}], \"scattergl\": [{\"marker\": {\"colorbar\": {\"outlinewidth\": 0, \"ticks\": \"\"}}, \"type\": \"scattergl\"}], \"scattermapbox\": [{\"marker\": {\"colorbar\": {\"outlinewidth\": 0, \"ticks\": \"\"}}, \"type\": \"scattermapbox\"}], \"scatterpolar\": [{\"marker\": {\"colorbar\": {\"outlinewidth\": 0, \"ticks\": \"\"}}, \"type\": \"scatterpolar\"}], \"scatterpolargl\": [{\"marker\": {\"colorbar\": {\"outlinewidth\": 0, \"ticks\": \"\"}}, \"type\": \"scatterpolargl\"}], \"scatterternary\": [{\"marker\": {\"colorbar\": {\"outlinewidth\": 0, \"ticks\": \"\"}}, \"type\": \"scatterternary\"}], \"surface\": [{\"colorbar\": {\"outlinewidth\": 0, \"ticks\": \"\"}, \"colorscale\": [[0.0, \"#0d0887\"], [0.1111111111111111, \"#46039f\"], [0.2222222222222222, \"#7201a8\"], [0.3333333333333333, \"#9c179e\"], [0.4444444444444444, \"#bd3786\"], [0.5555555555555556, \"#d8576b\"], [0.6666666666666666, \"#ed7953\"], [0.7777777777777778, \"#fb9f3a\"], [0.8888888888888888, \"#fdca26\"], [1.0, \"#f0f921\"]], \"type\": \"surface\"}], \"table\": [{\"cells\": {\"fill\": {\"color\": \"#EBF0F8\"}, \"line\": {\"color\": \"white\"}}, \"header\": {\"fill\": {\"color\": \"#C8D4E3\"}, \"line\": {\"color\": \"white\"}}, \"type\": \"table\"}]}, \"layout\": {\"annotationdefaults\": {\"arrowcolor\": \"#2a3f5f\", \"arrowhead\": 0, \"arrowwidth\": 1}, \"coloraxis\": {\"colorbar\": {\"outlinewidth\": 0, \"ticks\": \"\"}}, \"colorscale\": {\"diverging\": [[0, \"#8e0152\"], [0.1, \"#c51b7d\"], [0.2, \"#de77ae\"], [0.3, \"#f1b6da\"], [0.4, \"#fde0ef\"], [0.5, \"#f7f7f7\"], [0.6, \"#e6f5d0\"], [0.7, \"#b8e186\"], [0.8, \"#7fbc41\"], [0.9, \"#4d9221\"], [1, \"#276419\"]], \"sequential\": [[0.0, \"#0d0887\"], [0.1111111111111111, \"#46039f\"], [0.2222222222222222, \"#7201a8\"], [0.3333333333333333, \"#9c179e\"], [0.4444444444444444, \"#bd3786\"], [0.5555555555555556, \"#d8576b\"], [0.6666666666666666, \"#ed7953\"], [0.7777777777777778, \"#fb9f3a\"], [0.8888888888888888, \"#fdca26\"], [1.0, \"#f0f921\"]], \"sequentialminus\": [[0.0, \"#0d0887\"], [0.1111111111111111, \"#46039f\"], [0.2222222222222222, \"#7201a8\"], [0.3333333333333333, \"#9c179e\"], [0.4444444444444444, \"#bd3786\"], [0.5555555555555556, \"#d8576b\"], [0.6666666666666666, \"#ed7953\"], [0.7777777777777778, \"#fb9f3a\"], [0.8888888888888888, \"#fdca26\"], [1.0, \"#f0f921\"]]}, \"colorway\": [\"#636efa\", \"#EF553B\", \"#00cc96\", \"#ab63fa\", \"#FFA15A\", \"#19d3f3\", \"#FF6692\", \"#B6E880\", \"#FF97FF\", \"#FECB52\"], \"font\": {\"color\": \"#2a3f5f\"}, \"geo\": {\"bgcolor\": \"white\", \"lakecolor\": \"white\", \"landcolor\": \"#E5ECF6\", \"showlakes\": true, \"showland\": true, \"subunitcolor\": \"white\"}, \"hoverlabel\": {\"align\": \"left\"}, \"hovermode\": \"closest\", \"mapbox\": {\"style\": \"light\"}, \"paper_bgcolor\": \"white\", \"plot_bgcolor\": \"#E5ECF6\", \"polar\": {\"angularaxis\": {\"gridcolor\": \"white\", \"linecolor\": \"white\", \"ticks\": \"\"}, \"bgcolor\": \"#E5ECF6\", \"radialaxis\": {\"gridcolor\": \"white\", \"linecolor\": \"white\", \"ticks\": \"\"}}, \"scene\": {\"xaxis\": {\"backgroundcolor\": \"#E5ECF6\", \"gridcolor\": \"white\", \"gridwidth\": 2, \"linecolor\": \"white\", \"showbackground\": true, \"ticks\": \"\", \"zerolinecolor\": \"white\"}, \"yaxis\": {\"backgroundcolor\": \"#E5ECF6\", \"gridcolor\": \"white\", \"gridwidth\": 2, \"linecolor\": \"white\", \"showbackground\": true, \"ticks\": \"\", \"zerolinecolor\": \"white\"}, \"zaxis\": {\"backgroundcolor\": \"#E5ECF6\", \"gridcolor\": \"white\", \"gridwidth\": 2, \"linecolor\": \"white\", \"showbackground\": true, \"ticks\": \"\", \"zerolinecolor\": \"white\"}}, \"shapedefaults\": {\"line\": {\"color\": \"#2a3f5f\"}}, \"ternary\": {\"aaxis\": {\"gridcolor\": \"white\", \"linecolor\": \"white\", \"ticks\": \"\"}, \"baxis\": {\"gridcolor\": \"white\", \"linecolor\": \"white\", \"ticks\": \"\"}, \"bgcolor\": \"#E5ECF6\", \"caxis\": {\"gridcolor\": \"white\", \"linecolor\": \"white\", \"ticks\": \"\"}}, \"title\": {\"x\": 0.05}, \"xaxis\": {\"automargin\": true, \"gridcolor\": \"white\", \"linecolor\": \"white\", \"ticks\": \"\", \"title\": {\"standoff\": 15}, \"zerolinecolor\": \"white\", \"zerolinewidth\": 2}, \"yaxis\": {\"automargin\": true, \"gridcolor\": \"white\", \"linecolor\": \"white\", \"ticks\": \"\", \"title\": {\"standoff\": 15}, \"zerolinecolor\": \"white\", \"zerolinewidth\": 2}}}, \"title\": {\"text\": \"Lipid vs Ratios for ID: DIE, ID_2: DOD93, ID_3: F4\"}, \"xaxis\": {\"anchor\": \"y\", \"domain\": [0.0, 1.0], \"title\": {\"text\": \"Lipid\"}}, \"yaxis\": {\"anchor\": \"x\", \"domain\": [0.0, 1.0], \"title\": {\"text\": \"Ratios\"}}},                        {\"responsive\": true}                    ).then(function(){\n",
       "                            \n",
       "var gd = document.getElementById('9c2a3a00-7d4e-4f01-bd1a-773a4ff687c6');\n",
       "var x = new MutationObserver(function (mutations, observer) {{\n",
       "        var display = window.getComputedStyle(gd).display;\n",
       "        if (!display || display === 'none') {{\n",
       "            console.log([gd, 'removed!']);\n",
       "            Plotly.purge(gd);\n",
       "            observer.disconnect();\n",
       "        }}\n",
       "}});\n",
       "\n",
       "// Listen for the removal of the full notebook cells\n",
       "var notebookContainer = gd.closest('#notebook-container');\n",
       "if (notebookContainer) {{\n",
       "    x.observe(notebookContainer, {childList: true});\n",
       "}}\n",
       "\n",
       "// Listen for the clearing of the current output cell\n",
       "var outputEl = gd.closest('.output');\n",
       "if (outputEl) {{\n",
       "    x.observe(outputEl, {childList: true});\n",
       "}}\n",
       "\n",
       "                        })                };                });            </script>        </div>"
      ]
     },
     "metadata": {},
     "output_type": "display_data"
    },
    {
     "data": {
      "application/vnd.plotly.v1+json": {
       "config": {
        "plotlyServerURL": "https://plot.ly"
       },
       "data": [
        {
         "customdata": [
          [
           "DOD94 WT F3 Hippocampus"
          ],
          [
           "DOD94 WT F3 Hippocampus"
          ],
          [
           "DOD94 WT F3 Hippocampus"
          ],
          [
           "DOD94 WT F3 Hippocampus"
          ],
          [
           "DOD94 WT F3 Hippocampus"
          ],
          [
           "DOD94 WT F3 Hippocampus"
          ],
          [
           "DOD94 WT F3 Hippocampus"
          ],
          [
           "DOD94 WT F3 Hippocampus"
          ],
          [
           "DOD94 WT F3 Hippocampus"
          ]
         ],
         "hovertemplate": "Person=Caitlin<br>Lipid=%{x}<br>Ratios=%{y}<br>Sample_ID=%{customdata[0]}<extra></extra>",
         "legendgroup": "Caitlin",
         "marker": {
          "color": "#636efa",
          "symbol": "circle"
         },
         "mode": "markers",
         "name": "Caitlin",
         "orientation": "v",
         "showlegend": true,
         "type": "scatter",
         "x": [
          "TG 50:1",
          "TG 50:2",
          "TG 50:3",
          "TG 52:2",
          "TG 52:3",
          "TG 52:4",
          "TG 54:3",
          "TG 54:4",
          "TG 54:5"
         ],
         "xaxis": "x",
         "y": [
          4.702885909968975,
          1.3293839396079512,
          null,
          5.43494316451606,
          5.8530336662967075,
          null,
          4.452414653093336,
          null,
          null
         ],
         "yaxis": "y"
        }
       ],
       "layout": {
        "legend": {
         "title": {
          "text": "Person"
         },
         "tracegroupgap": 0
        },
        "template": {
         "data": {
          "bar": [
           {
            "error_x": {
             "color": "#2a3f5f"
            },
            "error_y": {
             "color": "#2a3f5f"
            },
            "marker": {
             "line": {
              "color": "#E5ECF6",
              "width": 0.5
             }
            },
            "type": "bar"
           }
          ],
          "barpolar": [
           {
            "marker": {
             "line": {
              "color": "#E5ECF6",
              "width": 0.5
             }
            },
            "type": "barpolar"
           }
          ],
          "carpet": [
           {
            "aaxis": {
             "endlinecolor": "#2a3f5f",
             "gridcolor": "white",
             "linecolor": "white",
             "minorgridcolor": "white",
             "startlinecolor": "#2a3f5f"
            },
            "baxis": {
             "endlinecolor": "#2a3f5f",
             "gridcolor": "white",
             "linecolor": "white",
             "minorgridcolor": "white",
             "startlinecolor": "#2a3f5f"
            },
            "type": "carpet"
           }
          ],
          "choropleth": [
           {
            "colorbar": {
             "outlinewidth": 0,
             "ticks": ""
            },
            "type": "choropleth"
           }
          ],
          "contour": [
           {
            "colorbar": {
             "outlinewidth": 0,
             "ticks": ""
            },
            "colorscale": [
             [
              0,
              "#0d0887"
             ],
             [
              0.1111111111111111,
              "#46039f"
             ],
             [
              0.2222222222222222,
              "#7201a8"
             ],
             [
              0.3333333333333333,
              "#9c179e"
             ],
             [
              0.4444444444444444,
              "#bd3786"
             ],
             [
              0.5555555555555556,
              "#d8576b"
             ],
             [
              0.6666666666666666,
              "#ed7953"
             ],
             [
              0.7777777777777778,
              "#fb9f3a"
             ],
             [
              0.8888888888888888,
              "#fdca26"
             ],
             [
              1,
              "#f0f921"
             ]
            ],
            "type": "contour"
           }
          ],
          "contourcarpet": [
           {
            "colorbar": {
             "outlinewidth": 0,
             "ticks": ""
            },
            "type": "contourcarpet"
           }
          ],
          "heatmap": [
           {
            "colorbar": {
             "outlinewidth": 0,
             "ticks": ""
            },
            "colorscale": [
             [
              0,
              "#0d0887"
             ],
             [
              0.1111111111111111,
              "#46039f"
             ],
             [
              0.2222222222222222,
              "#7201a8"
             ],
             [
              0.3333333333333333,
              "#9c179e"
             ],
             [
              0.4444444444444444,
              "#bd3786"
             ],
             [
              0.5555555555555556,
              "#d8576b"
             ],
             [
              0.6666666666666666,
              "#ed7953"
             ],
             [
              0.7777777777777778,
              "#fb9f3a"
             ],
             [
              0.8888888888888888,
              "#fdca26"
             ],
             [
              1,
              "#f0f921"
             ]
            ],
            "type": "heatmap"
           }
          ],
          "heatmapgl": [
           {
            "colorbar": {
             "outlinewidth": 0,
             "ticks": ""
            },
            "colorscale": [
             [
              0,
              "#0d0887"
             ],
             [
              0.1111111111111111,
              "#46039f"
             ],
             [
              0.2222222222222222,
              "#7201a8"
             ],
             [
              0.3333333333333333,
              "#9c179e"
             ],
             [
              0.4444444444444444,
              "#bd3786"
             ],
             [
              0.5555555555555556,
              "#d8576b"
             ],
             [
              0.6666666666666666,
              "#ed7953"
             ],
             [
              0.7777777777777778,
              "#fb9f3a"
             ],
             [
              0.8888888888888888,
              "#fdca26"
             ],
             [
              1,
              "#f0f921"
             ]
            ],
            "type": "heatmapgl"
           }
          ],
          "histogram": [
           {
            "marker": {
             "colorbar": {
              "outlinewidth": 0,
              "ticks": ""
             }
            },
            "type": "histogram"
           }
          ],
          "histogram2d": [
           {
            "colorbar": {
             "outlinewidth": 0,
             "ticks": ""
            },
            "colorscale": [
             [
              0,
              "#0d0887"
             ],
             [
              0.1111111111111111,
              "#46039f"
             ],
             [
              0.2222222222222222,
              "#7201a8"
             ],
             [
              0.3333333333333333,
              "#9c179e"
             ],
             [
              0.4444444444444444,
              "#bd3786"
             ],
             [
              0.5555555555555556,
              "#d8576b"
             ],
             [
              0.6666666666666666,
              "#ed7953"
             ],
             [
              0.7777777777777778,
              "#fb9f3a"
             ],
             [
              0.8888888888888888,
              "#fdca26"
             ],
             [
              1,
              "#f0f921"
             ]
            ],
            "type": "histogram2d"
           }
          ],
          "histogram2dcontour": [
           {
            "colorbar": {
             "outlinewidth": 0,
             "ticks": ""
            },
            "colorscale": [
             [
              0,
              "#0d0887"
             ],
             [
              0.1111111111111111,
              "#46039f"
             ],
             [
              0.2222222222222222,
              "#7201a8"
             ],
             [
              0.3333333333333333,
              "#9c179e"
             ],
             [
              0.4444444444444444,
              "#bd3786"
             ],
             [
              0.5555555555555556,
              "#d8576b"
             ],
             [
              0.6666666666666666,
              "#ed7953"
             ],
             [
              0.7777777777777778,
              "#fb9f3a"
             ],
             [
              0.8888888888888888,
              "#fdca26"
             ],
             [
              1,
              "#f0f921"
             ]
            ],
            "type": "histogram2dcontour"
           }
          ],
          "mesh3d": [
           {
            "colorbar": {
             "outlinewidth": 0,
             "ticks": ""
            },
            "type": "mesh3d"
           }
          ],
          "parcoords": [
           {
            "line": {
             "colorbar": {
              "outlinewidth": 0,
              "ticks": ""
             }
            },
            "type": "parcoords"
           }
          ],
          "pie": [
           {
            "automargin": true,
            "type": "pie"
           }
          ],
          "scatter": [
           {
            "marker": {
             "colorbar": {
              "outlinewidth": 0,
              "ticks": ""
             }
            },
            "type": "scatter"
           }
          ],
          "scatter3d": [
           {
            "line": {
             "colorbar": {
              "outlinewidth": 0,
              "ticks": ""
             }
            },
            "marker": {
             "colorbar": {
              "outlinewidth": 0,
              "ticks": ""
             }
            },
            "type": "scatter3d"
           }
          ],
          "scattercarpet": [
           {
            "marker": {
             "colorbar": {
              "outlinewidth": 0,
              "ticks": ""
             }
            },
            "type": "scattercarpet"
           }
          ],
          "scattergeo": [
           {
            "marker": {
             "colorbar": {
              "outlinewidth": 0,
              "ticks": ""
             }
            },
            "type": "scattergeo"
           }
          ],
          "scattergl": [
           {
            "marker": {
             "colorbar": {
              "outlinewidth": 0,
              "ticks": ""
             }
            },
            "type": "scattergl"
           }
          ],
          "scattermapbox": [
           {
            "marker": {
             "colorbar": {
              "outlinewidth": 0,
              "ticks": ""
             }
            },
            "type": "scattermapbox"
           }
          ],
          "scatterpolar": [
           {
            "marker": {
             "colorbar": {
              "outlinewidth": 0,
              "ticks": ""
             }
            },
            "type": "scatterpolar"
           }
          ],
          "scatterpolargl": [
           {
            "marker": {
             "colorbar": {
              "outlinewidth": 0,
              "ticks": ""
             }
            },
            "type": "scatterpolargl"
           }
          ],
          "scatterternary": [
           {
            "marker": {
             "colorbar": {
              "outlinewidth": 0,
              "ticks": ""
             }
            },
            "type": "scatterternary"
           }
          ],
          "surface": [
           {
            "colorbar": {
             "outlinewidth": 0,
             "ticks": ""
            },
            "colorscale": [
             [
              0,
              "#0d0887"
             ],
             [
              0.1111111111111111,
              "#46039f"
             ],
             [
              0.2222222222222222,
              "#7201a8"
             ],
             [
              0.3333333333333333,
              "#9c179e"
             ],
             [
              0.4444444444444444,
              "#bd3786"
             ],
             [
              0.5555555555555556,
              "#d8576b"
             ],
             [
              0.6666666666666666,
              "#ed7953"
             ],
             [
              0.7777777777777778,
              "#fb9f3a"
             ],
             [
              0.8888888888888888,
              "#fdca26"
             ],
             [
              1,
              "#f0f921"
             ]
            ],
            "type": "surface"
           }
          ],
          "table": [
           {
            "cells": {
             "fill": {
              "color": "#EBF0F8"
             },
             "line": {
              "color": "white"
             }
            },
            "header": {
             "fill": {
              "color": "#C8D4E3"
             },
             "line": {
              "color": "white"
             }
            },
            "type": "table"
           }
          ]
         },
         "layout": {
          "annotationdefaults": {
           "arrowcolor": "#2a3f5f",
           "arrowhead": 0,
           "arrowwidth": 1
          },
          "coloraxis": {
           "colorbar": {
            "outlinewidth": 0,
            "ticks": ""
           }
          },
          "colorscale": {
           "diverging": [
            [
             0,
             "#8e0152"
            ],
            [
             0.1,
             "#c51b7d"
            ],
            [
             0.2,
             "#de77ae"
            ],
            [
             0.3,
             "#f1b6da"
            ],
            [
             0.4,
             "#fde0ef"
            ],
            [
             0.5,
             "#f7f7f7"
            ],
            [
             0.6,
             "#e6f5d0"
            ],
            [
             0.7,
             "#b8e186"
            ],
            [
             0.8,
             "#7fbc41"
            ],
            [
             0.9,
             "#4d9221"
            ],
            [
             1,
             "#276419"
            ]
           ],
           "sequential": [
            [
             0,
             "#0d0887"
            ],
            [
             0.1111111111111111,
             "#46039f"
            ],
            [
             0.2222222222222222,
             "#7201a8"
            ],
            [
             0.3333333333333333,
             "#9c179e"
            ],
            [
             0.4444444444444444,
             "#bd3786"
            ],
            [
             0.5555555555555556,
             "#d8576b"
            ],
            [
             0.6666666666666666,
             "#ed7953"
            ],
            [
             0.7777777777777778,
             "#fb9f3a"
            ],
            [
             0.8888888888888888,
             "#fdca26"
            ],
            [
             1,
             "#f0f921"
            ]
           ],
           "sequentialminus": [
            [
             0,
             "#0d0887"
            ],
            [
             0.1111111111111111,
             "#46039f"
            ],
            [
             0.2222222222222222,
             "#7201a8"
            ],
            [
             0.3333333333333333,
             "#9c179e"
            ],
            [
             0.4444444444444444,
             "#bd3786"
            ],
            [
             0.5555555555555556,
             "#d8576b"
            ],
            [
             0.6666666666666666,
             "#ed7953"
            ],
            [
             0.7777777777777778,
             "#fb9f3a"
            ],
            [
             0.8888888888888888,
             "#fdca26"
            ],
            [
             1,
             "#f0f921"
            ]
           ]
          },
          "colorway": [
           "#636efa",
           "#EF553B",
           "#00cc96",
           "#ab63fa",
           "#FFA15A",
           "#19d3f3",
           "#FF6692",
           "#B6E880",
           "#FF97FF",
           "#FECB52"
          ],
          "font": {
           "color": "#2a3f5f"
          },
          "geo": {
           "bgcolor": "white",
           "lakecolor": "white",
           "landcolor": "#E5ECF6",
           "showlakes": true,
           "showland": true,
           "subunitcolor": "white"
          },
          "hoverlabel": {
           "align": "left"
          },
          "hovermode": "closest",
          "mapbox": {
           "style": "light"
          },
          "paper_bgcolor": "white",
          "plot_bgcolor": "#E5ECF6",
          "polar": {
           "angularaxis": {
            "gridcolor": "white",
            "linecolor": "white",
            "ticks": ""
           },
           "bgcolor": "#E5ECF6",
           "radialaxis": {
            "gridcolor": "white",
            "linecolor": "white",
            "ticks": ""
           }
          },
          "scene": {
           "xaxis": {
            "backgroundcolor": "#E5ECF6",
            "gridcolor": "white",
            "gridwidth": 2,
            "linecolor": "white",
            "showbackground": true,
            "ticks": "",
            "zerolinecolor": "white"
           },
           "yaxis": {
            "backgroundcolor": "#E5ECF6",
            "gridcolor": "white",
            "gridwidth": 2,
            "linecolor": "white",
            "showbackground": true,
            "ticks": "",
            "zerolinecolor": "white"
           },
           "zaxis": {
            "backgroundcolor": "#E5ECF6",
            "gridcolor": "white",
            "gridwidth": 2,
            "linecolor": "white",
            "showbackground": true,
            "ticks": "",
            "zerolinecolor": "white"
           }
          },
          "shapedefaults": {
           "line": {
            "color": "#2a3f5f"
           }
          },
          "ternary": {
           "aaxis": {
            "gridcolor": "white",
            "linecolor": "white",
            "ticks": ""
           },
           "baxis": {
            "gridcolor": "white",
            "linecolor": "white",
            "ticks": ""
           },
           "bgcolor": "#E5ECF6",
           "caxis": {
            "gridcolor": "white",
            "linecolor": "white",
            "ticks": ""
           }
          },
          "title": {
           "x": 0.05
          },
          "xaxis": {
           "automargin": true,
           "gridcolor": "white",
           "linecolor": "white",
           "ticks": "",
           "title": {
            "standoff": 15
           },
           "zerolinecolor": "white",
           "zerolinewidth": 2
          },
          "yaxis": {
           "automargin": true,
           "gridcolor": "white",
           "linecolor": "white",
           "ticks": "",
           "title": {
            "standoff": 15
           },
           "zerolinecolor": "white",
           "zerolinewidth": 2
          }
         }
        },
        "title": {
         "text": "Lipid vs Ratios for ID: HIP, ID_2: DOD94, ID_3: F3"
        },
        "xaxis": {
         "anchor": "y",
         "domain": [
          0,
          1
         ],
         "title": {
          "text": "Lipid"
         }
        },
        "yaxis": {
         "anchor": "x",
         "domain": [
          0,
          1
         ],
         "title": {
          "text": "Ratios"
         }
        }
       }
      },
      "text/html": [
       "<div>                            <div id=\"9068a6ec-5ac7-4dfa-9606-5830ae84462c\" class=\"plotly-graph-div\" style=\"height:525px; width:100%;\"></div>            <script type=\"text/javascript\">                require([\"plotly\"], function(Plotly) {                    window.PLOTLYENV=window.PLOTLYENV || {};                                    if (document.getElementById(\"9068a6ec-5ac7-4dfa-9606-5830ae84462c\")) {                    Plotly.newPlot(                        \"9068a6ec-5ac7-4dfa-9606-5830ae84462c\",                        [{\"customdata\": [[\"DOD94 WT F3 Hippocampus\"], [\"DOD94 WT F3 Hippocampus\"], [\"DOD94 WT F3 Hippocampus\"], [\"DOD94 WT F3 Hippocampus\"], [\"DOD94 WT F3 Hippocampus\"], [\"DOD94 WT F3 Hippocampus\"], [\"DOD94 WT F3 Hippocampus\"], [\"DOD94 WT F3 Hippocampus\"], [\"DOD94 WT F3 Hippocampus\"]], \"hovertemplate\": \"Person=Caitlin<br>Lipid=%{x}<br>Ratios=%{y}<br>Sample_ID=%{customdata[0]}<extra></extra>\", \"legendgroup\": \"Caitlin\", \"marker\": {\"color\": \"#636efa\", \"symbol\": \"circle\"}, \"mode\": \"markers\", \"name\": \"Caitlin\", \"orientation\": \"v\", \"showlegend\": true, \"type\": \"scatter\", \"x\": [\"TG 50:1\", \"TG 50:2\", \"TG 50:3\", \"TG 52:2\", \"TG 52:3\", \"TG 52:4\", \"TG 54:3\", \"TG 54:4\", \"TG 54:5\"], \"xaxis\": \"x\", \"y\": [4.702885909968975, 1.3293839396079512, null, 5.43494316451606, 5.8530336662967075, null, 4.452414653093336, null, null], \"yaxis\": \"y\"}],                        {\"legend\": {\"title\": {\"text\": \"Person\"}, \"tracegroupgap\": 0}, \"template\": {\"data\": {\"bar\": [{\"error_x\": {\"color\": \"#2a3f5f\"}, \"error_y\": {\"color\": \"#2a3f5f\"}, \"marker\": {\"line\": {\"color\": \"#E5ECF6\", \"width\": 0.5}}, \"type\": \"bar\"}], \"barpolar\": [{\"marker\": {\"line\": {\"color\": \"#E5ECF6\", \"width\": 0.5}}, \"type\": \"barpolar\"}], \"carpet\": [{\"aaxis\": {\"endlinecolor\": \"#2a3f5f\", \"gridcolor\": \"white\", \"linecolor\": \"white\", \"minorgridcolor\": \"white\", \"startlinecolor\": \"#2a3f5f\"}, \"baxis\": {\"endlinecolor\": \"#2a3f5f\", \"gridcolor\": \"white\", \"linecolor\": \"white\", \"minorgridcolor\": \"white\", \"startlinecolor\": \"#2a3f5f\"}, \"type\": \"carpet\"}], \"choropleth\": [{\"colorbar\": {\"outlinewidth\": 0, \"ticks\": \"\"}, \"type\": \"choropleth\"}], \"contour\": [{\"colorbar\": {\"outlinewidth\": 0, \"ticks\": \"\"}, \"colorscale\": [[0.0, \"#0d0887\"], [0.1111111111111111, \"#46039f\"], [0.2222222222222222, \"#7201a8\"], [0.3333333333333333, \"#9c179e\"], [0.4444444444444444, \"#bd3786\"], [0.5555555555555556, \"#d8576b\"], [0.6666666666666666, \"#ed7953\"], [0.7777777777777778, \"#fb9f3a\"], [0.8888888888888888, \"#fdca26\"], [1.0, \"#f0f921\"]], \"type\": \"contour\"}], \"contourcarpet\": [{\"colorbar\": {\"outlinewidth\": 0, \"ticks\": \"\"}, \"type\": \"contourcarpet\"}], \"heatmap\": [{\"colorbar\": {\"outlinewidth\": 0, \"ticks\": \"\"}, \"colorscale\": [[0.0, \"#0d0887\"], [0.1111111111111111, \"#46039f\"], [0.2222222222222222, \"#7201a8\"], [0.3333333333333333, \"#9c179e\"], [0.4444444444444444, \"#bd3786\"], [0.5555555555555556, \"#d8576b\"], [0.6666666666666666, \"#ed7953\"], [0.7777777777777778, \"#fb9f3a\"], [0.8888888888888888, \"#fdca26\"], [1.0, \"#f0f921\"]], \"type\": \"heatmap\"}], \"heatmapgl\": [{\"colorbar\": {\"outlinewidth\": 0, \"ticks\": \"\"}, \"colorscale\": [[0.0, \"#0d0887\"], [0.1111111111111111, \"#46039f\"], [0.2222222222222222, \"#7201a8\"], [0.3333333333333333, \"#9c179e\"], [0.4444444444444444, \"#bd3786\"], [0.5555555555555556, \"#d8576b\"], [0.6666666666666666, \"#ed7953\"], [0.7777777777777778, \"#fb9f3a\"], [0.8888888888888888, \"#fdca26\"], [1.0, \"#f0f921\"]], \"type\": \"heatmapgl\"}], \"histogram\": [{\"marker\": {\"colorbar\": {\"outlinewidth\": 0, \"ticks\": \"\"}}, \"type\": \"histogram\"}], \"histogram2d\": [{\"colorbar\": {\"outlinewidth\": 0, \"ticks\": \"\"}, \"colorscale\": [[0.0, \"#0d0887\"], [0.1111111111111111, \"#46039f\"], [0.2222222222222222, \"#7201a8\"], [0.3333333333333333, \"#9c179e\"], [0.4444444444444444, \"#bd3786\"], [0.5555555555555556, \"#d8576b\"], [0.6666666666666666, \"#ed7953\"], [0.7777777777777778, \"#fb9f3a\"], [0.8888888888888888, \"#fdca26\"], [1.0, \"#f0f921\"]], \"type\": \"histogram2d\"}], \"histogram2dcontour\": [{\"colorbar\": {\"outlinewidth\": 0, \"ticks\": \"\"}, \"colorscale\": [[0.0, \"#0d0887\"], [0.1111111111111111, \"#46039f\"], [0.2222222222222222, \"#7201a8\"], [0.3333333333333333, \"#9c179e\"], [0.4444444444444444, \"#bd3786\"], [0.5555555555555556, \"#d8576b\"], [0.6666666666666666, \"#ed7953\"], [0.7777777777777778, \"#fb9f3a\"], [0.8888888888888888, \"#fdca26\"], [1.0, \"#f0f921\"]], \"type\": \"histogram2dcontour\"}], \"mesh3d\": [{\"colorbar\": {\"outlinewidth\": 0, \"ticks\": \"\"}, \"type\": \"mesh3d\"}], \"parcoords\": [{\"line\": {\"colorbar\": {\"outlinewidth\": 0, \"ticks\": \"\"}}, \"type\": \"parcoords\"}], \"pie\": [{\"automargin\": true, \"type\": \"pie\"}], \"scatter\": [{\"marker\": {\"colorbar\": {\"outlinewidth\": 0, \"ticks\": \"\"}}, \"type\": \"scatter\"}], \"scatter3d\": [{\"line\": {\"colorbar\": {\"outlinewidth\": 0, \"ticks\": \"\"}}, \"marker\": {\"colorbar\": {\"outlinewidth\": 0, \"ticks\": \"\"}}, \"type\": \"scatter3d\"}], \"scattercarpet\": [{\"marker\": {\"colorbar\": {\"outlinewidth\": 0, \"ticks\": \"\"}}, \"type\": \"scattercarpet\"}], \"scattergeo\": [{\"marker\": {\"colorbar\": {\"outlinewidth\": 0, \"ticks\": \"\"}}, \"type\": \"scattergeo\"}], \"scattergl\": [{\"marker\": {\"colorbar\": {\"outlinewidth\": 0, \"ticks\": \"\"}}, \"type\": \"scattergl\"}], \"scattermapbox\": [{\"marker\": {\"colorbar\": {\"outlinewidth\": 0, \"ticks\": \"\"}}, \"type\": \"scattermapbox\"}], \"scatterpolar\": [{\"marker\": {\"colorbar\": {\"outlinewidth\": 0, \"ticks\": \"\"}}, \"type\": \"scatterpolar\"}], \"scatterpolargl\": [{\"marker\": {\"colorbar\": {\"outlinewidth\": 0, \"ticks\": \"\"}}, \"type\": \"scatterpolargl\"}], \"scatterternary\": [{\"marker\": {\"colorbar\": {\"outlinewidth\": 0, \"ticks\": \"\"}}, \"type\": \"scatterternary\"}], \"surface\": [{\"colorbar\": {\"outlinewidth\": 0, \"ticks\": \"\"}, \"colorscale\": [[0.0, \"#0d0887\"], [0.1111111111111111, \"#46039f\"], [0.2222222222222222, \"#7201a8\"], [0.3333333333333333, \"#9c179e\"], [0.4444444444444444, \"#bd3786\"], [0.5555555555555556, \"#d8576b\"], [0.6666666666666666, \"#ed7953\"], [0.7777777777777778, \"#fb9f3a\"], [0.8888888888888888, \"#fdca26\"], [1.0, \"#f0f921\"]], \"type\": \"surface\"}], \"table\": [{\"cells\": {\"fill\": {\"color\": \"#EBF0F8\"}, \"line\": {\"color\": \"white\"}}, \"header\": {\"fill\": {\"color\": \"#C8D4E3\"}, \"line\": {\"color\": \"white\"}}, \"type\": \"table\"}]}, \"layout\": {\"annotationdefaults\": {\"arrowcolor\": \"#2a3f5f\", \"arrowhead\": 0, \"arrowwidth\": 1}, \"coloraxis\": {\"colorbar\": {\"outlinewidth\": 0, \"ticks\": \"\"}}, \"colorscale\": {\"diverging\": [[0, \"#8e0152\"], [0.1, \"#c51b7d\"], [0.2, \"#de77ae\"], [0.3, \"#f1b6da\"], [0.4, \"#fde0ef\"], [0.5, \"#f7f7f7\"], [0.6, \"#e6f5d0\"], [0.7, \"#b8e186\"], [0.8, \"#7fbc41\"], [0.9, \"#4d9221\"], [1, \"#276419\"]], \"sequential\": [[0.0, \"#0d0887\"], [0.1111111111111111, \"#46039f\"], [0.2222222222222222, \"#7201a8\"], [0.3333333333333333, \"#9c179e\"], [0.4444444444444444, \"#bd3786\"], [0.5555555555555556, \"#d8576b\"], [0.6666666666666666, \"#ed7953\"], [0.7777777777777778, \"#fb9f3a\"], [0.8888888888888888, \"#fdca26\"], [1.0, \"#f0f921\"]], \"sequentialminus\": [[0.0, \"#0d0887\"], [0.1111111111111111, \"#46039f\"], [0.2222222222222222, \"#7201a8\"], [0.3333333333333333, \"#9c179e\"], [0.4444444444444444, \"#bd3786\"], [0.5555555555555556, \"#d8576b\"], [0.6666666666666666, \"#ed7953\"], [0.7777777777777778, \"#fb9f3a\"], [0.8888888888888888, \"#fdca26\"], [1.0, \"#f0f921\"]]}, \"colorway\": [\"#636efa\", \"#EF553B\", \"#00cc96\", \"#ab63fa\", \"#FFA15A\", \"#19d3f3\", \"#FF6692\", \"#B6E880\", \"#FF97FF\", \"#FECB52\"], \"font\": {\"color\": \"#2a3f5f\"}, \"geo\": {\"bgcolor\": \"white\", \"lakecolor\": \"white\", \"landcolor\": \"#E5ECF6\", \"showlakes\": true, \"showland\": true, \"subunitcolor\": \"white\"}, \"hoverlabel\": {\"align\": \"left\"}, \"hovermode\": \"closest\", \"mapbox\": {\"style\": \"light\"}, \"paper_bgcolor\": \"white\", \"plot_bgcolor\": \"#E5ECF6\", \"polar\": {\"angularaxis\": {\"gridcolor\": \"white\", \"linecolor\": \"white\", \"ticks\": \"\"}, \"bgcolor\": \"#E5ECF6\", \"radialaxis\": {\"gridcolor\": \"white\", \"linecolor\": \"white\", \"ticks\": \"\"}}, \"scene\": {\"xaxis\": {\"backgroundcolor\": \"#E5ECF6\", \"gridcolor\": \"white\", \"gridwidth\": 2, \"linecolor\": \"white\", \"showbackground\": true, \"ticks\": \"\", \"zerolinecolor\": \"white\"}, \"yaxis\": {\"backgroundcolor\": \"#E5ECF6\", \"gridcolor\": \"white\", \"gridwidth\": 2, \"linecolor\": \"white\", \"showbackground\": true, \"ticks\": \"\", \"zerolinecolor\": \"white\"}, \"zaxis\": {\"backgroundcolor\": \"#E5ECF6\", \"gridcolor\": \"white\", \"gridwidth\": 2, \"linecolor\": \"white\", \"showbackground\": true, \"ticks\": \"\", \"zerolinecolor\": \"white\"}}, \"shapedefaults\": {\"line\": {\"color\": \"#2a3f5f\"}}, \"ternary\": {\"aaxis\": {\"gridcolor\": \"white\", \"linecolor\": \"white\", \"ticks\": \"\"}, \"baxis\": {\"gridcolor\": \"white\", \"linecolor\": \"white\", \"ticks\": \"\"}, \"bgcolor\": \"#E5ECF6\", \"caxis\": {\"gridcolor\": \"white\", \"linecolor\": \"white\", \"ticks\": \"\"}}, \"title\": {\"x\": 0.05}, \"xaxis\": {\"automargin\": true, \"gridcolor\": \"white\", \"linecolor\": \"white\", \"ticks\": \"\", \"title\": {\"standoff\": 15}, \"zerolinecolor\": \"white\", \"zerolinewidth\": 2}, \"yaxis\": {\"automargin\": true, \"gridcolor\": \"white\", \"linecolor\": \"white\", \"ticks\": \"\", \"title\": {\"standoff\": 15}, \"zerolinecolor\": \"white\", \"zerolinewidth\": 2}}}, \"title\": {\"text\": \"Lipid vs Ratios for ID: HIP, ID_2: DOD94, ID_3: F3\"}, \"xaxis\": {\"anchor\": \"y\", \"domain\": [0.0, 1.0], \"title\": {\"text\": \"Lipid\"}}, \"yaxis\": {\"anchor\": \"x\", \"domain\": [0.0, 1.0], \"title\": {\"text\": \"Ratios\"}}},                        {\"responsive\": true}                    ).then(function(){\n",
       "                            \n",
       "var gd = document.getElementById('9068a6ec-5ac7-4dfa-9606-5830ae84462c');\n",
       "var x = new MutationObserver(function (mutations, observer) {{\n",
       "        var display = window.getComputedStyle(gd).display;\n",
       "        if (!display || display === 'none') {{\n",
       "            console.log([gd, 'removed!']);\n",
       "            Plotly.purge(gd);\n",
       "            observer.disconnect();\n",
       "        }}\n",
       "}});\n",
       "\n",
       "// Listen for the removal of the full notebook cells\n",
       "var notebookContainer = gd.closest('#notebook-container');\n",
       "if (notebookContainer) {{\n",
       "    x.observe(notebookContainer, {childList: true});\n",
       "}}\n",
       "\n",
       "// Listen for the clearing of the current output cell\n",
       "var outputEl = gd.closest('.output');\n",
       "if (outputEl) {{\n",
       "    x.observe(outputEl, {childList: true});\n",
       "}}\n",
       "\n",
       "                        })                };                });            </script>        </div>"
      ]
     },
     "metadata": {},
     "output_type": "display_data"
    },
    {
     "data": {
      "application/vnd.plotly.v1+json": {
       "config": {
        "plotlyServerURL": "https://plot.ly"
       },
       "data": [
        {
         "customdata": [
          [
           "DOD94 WT F3 Cortex"
          ],
          [
           "DOD94 WT F3 Cortex"
          ],
          [
           "DOD94 WT F3 Cortex"
          ],
          [
           "DOD94 WT F3 Cortex"
          ],
          [
           "DOD94 WT F3 Cortex"
          ],
          [
           "DOD94 WT F3 Cortex"
          ],
          [
           "DOD94 WT F3 Cortex"
          ],
          [
           "DOD94 WT F3 Cortex"
          ],
          [
           "DOD94 WT F3 Cortex"
          ]
         ],
         "hovertemplate": "Person=Caitlin<br>Lipid=%{x}<br>Ratios=%{y}<br>Sample_ID=%{customdata[0]}<extra></extra>",
         "legendgroup": "Caitlin",
         "marker": {
          "color": "#636efa",
          "symbol": "circle"
         },
         "mode": "markers",
         "name": "Caitlin",
         "orientation": "v",
         "showlegend": true,
         "type": "scatter",
         "x": [
          "TG 50:1",
          "TG 50:2",
          "TG 50:3",
          "TG 52:2",
          "TG 52:3",
          "TG 52:4",
          "TG 54:3",
          "TG 54:4",
          "TG 54:5"
         ],
         "xaxis": "x",
         "y": [
          7.753458578013586,
          null,
          null,
          12.491625473145302,
          null,
          null,
          8.724612388508124,
          5.016530963147707,
          null
         ],
         "yaxis": "y"
        }
       ],
       "layout": {
        "legend": {
         "title": {
          "text": "Person"
         },
         "tracegroupgap": 0
        },
        "template": {
         "data": {
          "bar": [
           {
            "error_x": {
             "color": "#2a3f5f"
            },
            "error_y": {
             "color": "#2a3f5f"
            },
            "marker": {
             "line": {
              "color": "#E5ECF6",
              "width": 0.5
             }
            },
            "type": "bar"
           }
          ],
          "barpolar": [
           {
            "marker": {
             "line": {
              "color": "#E5ECF6",
              "width": 0.5
             }
            },
            "type": "barpolar"
           }
          ],
          "carpet": [
           {
            "aaxis": {
             "endlinecolor": "#2a3f5f",
             "gridcolor": "white",
             "linecolor": "white",
             "minorgridcolor": "white",
             "startlinecolor": "#2a3f5f"
            },
            "baxis": {
             "endlinecolor": "#2a3f5f",
             "gridcolor": "white",
             "linecolor": "white",
             "minorgridcolor": "white",
             "startlinecolor": "#2a3f5f"
            },
            "type": "carpet"
           }
          ],
          "choropleth": [
           {
            "colorbar": {
             "outlinewidth": 0,
             "ticks": ""
            },
            "type": "choropleth"
           }
          ],
          "contour": [
           {
            "colorbar": {
             "outlinewidth": 0,
             "ticks": ""
            },
            "colorscale": [
             [
              0,
              "#0d0887"
             ],
             [
              0.1111111111111111,
              "#46039f"
             ],
             [
              0.2222222222222222,
              "#7201a8"
             ],
             [
              0.3333333333333333,
              "#9c179e"
             ],
             [
              0.4444444444444444,
              "#bd3786"
             ],
             [
              0.5555555555555556,
              "#d8576b"
             ],
             [
              0.6666666666666666,
              "#ed7953"
             ],
             [
              0.7777777777777778,
              "#fb9f3a"
             ],
             [
              0.8888888888888888,
              "#fdca26"
             ],
             [
              1,
              "#f0f921"
             ]
            ],
            "type": "contour"
           }
          ],
          "contourcarpet": [
           {
            "colorbar": {
             "outlinewidth": 0,
             "ticks": ""
            },
            "type": "contourcarpet"
           }
          ],
          "heatmap": [
           {
            "colorbar": {
             "outlinewidth": 0,
             "ticks": ""
            },
            "colorscale": [
             [
              0,
              "#0d0887"
             ],
             [
              0.1111111111111111,
              "#46039f"
             ],
             [
              0.2222222222222222,
              "#7201a8"
             ],
             [
              0.3333333333333333,
              "#9c179e"
             ],
             [
              0.4444444444444444,
              "#bd3786"
             ],
             [
              0.5555555555555556,
              "#d8576b"
             ],
             [
              0.6666666666666666,
              "#ed7953"
             ],
             [
              0.7777777777777778,
              "#fb9f3a"
             ],
             [
              0.8888888888888888,
              "#fdca26"
             ],
             [
              1,
              "#f0f921"
             ]
            ],
            "type": "heatmap"
           }
          ],
          "heatmapgl": [
           {
            "colorbar": {
             "outlinewidth": 0,
             "ticks": ""
            },
            "colorscale": [
             [
              0,
              "#0d0887"
             ],
             [
              0.1111111111111111,
              "#46039f"
             ],
             [
              0.2222222222222222,
              "#7201a8"
             ],
             [
              0.3333333333333333,
              "#9c179e"
             ],
             [
              0.4444444444444444,
              "#bd3786"
             ],
             [
              0.5555555555555556,
              "#d8576b"
             ],
             [
              0.6666666666666666,
              "#ed7953"
             ],
             [
              0.7777777777777778,
              "#fb9f3a"
             ],
             [
              0.8888888888888888,
              "#fdca26"
             ],
             [
              1,
              "#f0f921"
             ]
            ],
            "type": "heatmapgl"
           }
          ],
          "histogram": [
           {
            "marker": {
             "colorbar": {
              "outlinewidth": 0,
              "ticks": ""
             }
            },
            "type": "histogram"
           }
          ],
          "histogram2d": [
           {
            "colorbar": {
             "outlinewidth": 0,
             "ticks": ""
            },
            "colorscale": [
             [
              0,
              "#0d0887"
             ],
             [
              0.1111111111111111,
              "#46039f"
             ],
             [
              0.2222222222222222,
              "#7201a8"
             ],
             [
              0.3333333333333333,
              "#9c179e"
             ],
             [
              0.4444444444444444,
              "#bd3786"
             ],
             [
              0.5555555555555556,
              "#d8576b"
             ],
             [
              0.6666666666666666,
              "#ed7953"
             ],
             [
              0.7777777777777778,
              "#fb9f3a"
             ],
             [
              0.8888888888888888,
              "#fdca26"
             ],
             [
              1,
              "#f0f921"
             ]
            ],
            "type": "histogram2d"
           }
          ],
          "histogram2dcontour": [
           {
            "colorbar": {
             "outlinewidth": 0,
             "ticks": ""
            },
            "colorscale": [
             [
              0,
              "#0d0887"
             ],
             [
              0.1111111111111111,
              "#46039f"
             ],
             [
              0.2222222222222222,
              "#7201a8"
             ],
             [
              0.3333333333333333,
              "#9c179e"
             ],
             [
              0.4444444444444444,
              "#bd3786"
             ],
             [
              0.5555555555555556,
              "#d8576b"
             ],
             [
              0.6666666666666666,
              "#ed7953"
             ],
             [
              0.7777777777777778,
              "#fb9f3a"
             ],
             [
              0.8888888888888888,
              "#fdca26"
             ],
             [
              1,
              "#f0f921"
             ]
            ],
            "type": "histogram2dcontour"
           }
          ],
          "mesh3d": [
           {
            "colorbar": {
             "outlinewidth": 0,
             "ticks": ""
            },
            "type": "mesh3d"
           }
          ],
          "parcoords": [
           {
            "line": {
             "colorbar": {
              "outlinewidth": 0,
              "ticks": ""
             }
            },
            "type": "parcoords"
           }
          ],
          "pie": [
           {
            "automargin": true,
            "type": "pie"
           }
          ],
          "scatter": [
           {
            "marker": {
             "colorbar": {
              "outlinewidth": 0,
              "ticks": ""
             }
            },
            "type": "scatter"
           }
          ],
          "scatter3d": [
           {
            "line": {
             "colorbar": {
              "outlinewidth": 0,
              "ticks": ""
             }
            },
            "marker": {
             "colorbar": {
              "outlinewidth": 0,
              "ticks": ""
             }
            },
            "type": "scatter3d"
           }
          ],
          "scattercarpet": [
           {
            "marker": {
             "colorbar": {
              "outlinewidth": 0,
              "ticks": ""
             }
            },
            "type": "scattercarpet"
           }
          ],
          "scattergeo": [
           {
            "marker": {
             "colorbar": {
              "outlinewidth": 0,
              "ticks": ""
             }
            },
            "type": "scattergeo"
           }
          ],
          "scattergl": [
           {
            "marker": {
             "colorbar": {
              "outlinewidth": 0,
              "ticks": ""
             }
            },
            "type": "scattergl"
           }
          ],
          "scattermapbox": [
           {
            "marker": {
             "colorbar": {
              "outlinewidth": 0,
              "ticks": ""
             }
            },
            "type": "scattermapbox"
           }
          ],
          "scatterpolar": [
           {
            "marker": {
             "colorbar": {
              "outlinewidth": 0,
              "ticks": ""
             }
            },
            "type": "scatterpolar"
           }
          ],
          "scatterpolargl": [
           {
            "marker": {
             "colorbar": {
              "outlinewidth": 0,
              "ticks": ""
             }
            },
            "type": "scatterpolargl"
           }
          ],
          "scatterternary": [
           {
            "marker": {
             "colorbar": {
              "outlinewidth": 0,
              "ticks": ""
             }
            },
            "type": "scatterternary"
           }
          ],
          "surface": [
           {
            "colorbar": {
             "outlinewidth": 0,
             "ticks": ""
            },
            "colorscale": [
             [
              0,
              "#0d0887"
             ],
             [
              0.1111111111111111,
              "#46039f"
             ],
             [
              0.2222222222222222,
              "#7201a8"
             ],
             [
              0.3333333333333333,
              "#9c179e"
             ],
             [
              0.4444444444444444,
              "#bd3786"
             ],
             [
              0.5555555555555556,
              "#d8576b"
             ],
             [
              0.6666666666666666,
              "#ed7953"
             ],
             [
              0.7777777777777778,
              "#fb9f3a"
             ],
             [
              0.8888888888888888,
              "#fdca26"
             ],
             [
              1,
              "#f0f921"
             ]
            ],
            "type": "surface"
           }
          ],
          "table": [
           {
            "cells": {
             "fill": {
              "color": "#EBF0F8"
             },
             "line": {
              "color": "white"
             }
            },
            "header": {
             "fill": {
              "color": "#C8D4E3"
             },
             "line": {
              "color": "white"
             }
            },
            "type": "table"
           }
          ]
         },
         "layout": {
          "annotationdefaults": {
           "arrowcolor": "#2a3f5f",
           "arrowhead": 0,
           "arrowwidth": 1
          },
          "coloraxis": {
           "colorbar": {
            "outlinewidth": 0,
            "ticks": ""
           }
          },
          "colorscale": {
           "diverging": [
            [
             0,
             "#8e0152"
            ],
            [
             0.1,
             "#c51b7d"
            ],
            [
             0.2,
             "#de77ae"
            ],
            [
             0.3,
             "#f1b6da"
            ],
            [
             0.4,
             "#fde0ef"
            ],
            [
             0.5,
             "#f7f7f7"
            ],
            [
             0.6,
             "#e6f5d0"
            ],
            [
             0.7,
             "#b8e186"
            ],
            [
             0.8,
             "#7fbc41"
            ],
            [
             0.9,
             "#4d9221"
            ],
            [
             1,
             "#276419"
            ]
           ],
           "sequential": [
            [
             0,
             "#0d0887"
            ],
            [
             0.1111111111111111,
             "#46039f"
            ],
            [
             0.2222222222222222,
             "#7201a8"
            ],
            [
             0.3333333333333333,
             "#9c179e"
            ],
            [
             0.4444444444444444,
             "#bd3786"
            ],
            [
             0.5555555555555556,
             "#d8576b"
            ],
            [
             0.6666666666666666,
             "#ed7953"
            ],
            [
             0.7777777777777778,
             "#fb9f3a"
            ],
            [
             0.8888888888888888,
             "#fdca26"
            ],
            [
             1,
             "#f0f921"
            ]
           ],
           "sequentialminus": [
            [
             0,
             "#0d0887"
            ],
            [
             0.1111111111111111,
             "#46039f"
            ],
            [
             0.2222222222222222,
             "#7201a8"
            ],
            [
             0.3333333333333333,
             "#9c179e"
            ],
            [
             0.4444444444444444,
             "#bd3786"
            ],
            [
             0.5555555555555556,
             "#d8576b"
            ],
            [
             0.6666666666666666,
             "#ed7953"
            ],
            [
             0.7777777777777778,
             "#fb9f3a"
            ],
            [
             0.8888888888888888,
             "#fdca26"
            ],
            [
             1,
             "#f0f921"
            ]
           ]
          },
          "colorway": [
           "#636efa",
           "#EF553B",
           "#00cc96",
           "#ab63fa",
           "#FFA15A",
           "#19d3f3",
           "#FF6692",
           "#B6E880",
           "#FF97FF",
           "#FECB52"
          ],
          "font": {
           "color": "#2a3f5f"
          },
          "geo": {
           "bgcolor": "white",
           "lakecolor": "white",
           "landcolor": "#E5ECF6",
           "showlakes": true,
           "showland": true,
           "subunitcolor": "white"
          },
          "hoverlabel": {
           "align": "left"
          },
          "hovermode": "closest",
          "mapbox": {
           "style": "light"
          },
          "paper_bgcolor": "white",
          "plot_bgcolor": "#E5ECF6",
          "polar": {
           "angularaxis": {
            "gridcolor": "white",
            "linecolor": "white",
            "ticks": ""
           },
           "bgcolor": "#E5ECF6",
           "radialaxis": {
            "gridcolor": "white",
            "linecolor": "white",
            "ticks": ""
           }
          },
          "scene": {
           "xaxis": {
            "backgroundcolor": "#E5ECF6",
            "gridcolor": "white",
            "gridwidth": 2,
            "linecolor": "white",
            "showbackground": true,
            "ticks": "",
            "zerolinecolor": "white"
           },
           "yaxis": {
            "backgroundcolor": "#E5ECF6",
            "gridcolor": "white",
            "gridwidth": 2,
            "linecolor": "white",
            "showbackground": true,
            "ticks": "",
            "zerolinecolor": "white"
           },
           "zaxis": {
            "backgroundcolor": "#E5ECF6",
            "gridcolor": "white",
            "gridwidth": 2,
            "linecolor": "white",
            "showbackground": true,
            "ticks": "",
            "zerolinecolor": "white"
           }
          },
          "shapedefaults": {
           "line": {
            "color": "#2a3f5f"
           }
          },
          "ternary": {
           "aaxis": {
            "gridcolor": "white",
            "linecolor": "white",
            "ticks": ""
           },
           "baxis": {
            "gridcolor": "white",
            "linecolor": "white",
            "ticks": ""
           },
           "bgcolor": "#E5ECF6",
           "caxis": {
            "gridcolor": "white",
            "linecolor": "white",
            "ticks": ""
           }
          },
          "title": {
           "x": 0.05
          },
          "xaxis": {
           "automargin": true,
           "gridcolor": "white",
           "linecolor": "white",
           "ticks": "",
           "title": {
            "standoff": 15
           },
           "zerolinecolor": "white",
           "zerolinewidth": 2
          },
          "yaxis": {
           "automargin": true,
           "gridcolor": "white",
           "linecolor": "white",
           "ticks": "",
           "title": {
            "standoff": 15
           },
           "zerolinecolor": "white",
           "zerolinewidth": 2
          }
         }
        },
        "title": {
         "text": "Lipid vs Ratios for ID: COR, ID_2: DOD94, ID_3: F3"
        },
        "xaxis": {
         "anchor": "y",
         "domain": [
          0,
          1
         ],
         "title": {
          "text": "Lipid"
         }
        },
        "yaxis": {
         "anchor": "x",
         "domain": [
          0,
          1
         ],
         "title": {
          "text": "Ratios"
         }
        }
       }
      },
      "text/html": [
       "<div>                            <div id=\"9ec79cc1-1427-4597-a648-83d8da1a612e\" class=\"plotly-graph-div\" style=\"height:525px; width:100%;\"></div>            <script type=\"text/javascript\">                require([\"plotly\"], function(Plotly) {                    window.PLOTLYENV=window.PLOTLYENV || {};                                    if (document.getElementById(\"9ec79cc1-1427-4597-a648-83d8da1a612e\")) {                    Plotly.newPlot(                        \"9ec79cc1-1427-4597-a648-83d8da1a612e\",                        [{\"customdata\": [[\"DOD94 WT F3 Cortex\"], [\"DOD94 WT F3 Cortex\"], [\"DOD94 WT F3 Cortex\"], [\"DOD94 WT F3 Cortex\"], [\"DOD94 WT F3 Cortex\"], [\"DOD94 WT F3 Cortex\"], [\"DOD94 WT F3 Cortex\"], [\"DOD94 WT F3 Cortex\"], [\"DOD94 WT F3 Cortex\"]], \"hovertemplate\": \"Person=Caitlin<br>Lipid=%{x}<br>Ratios=%{y}<br>Sample_ID=%{customdata[0]}<extra></extra>\", \"legendgroup\": \"Caitlin\", \"marker\": {\"color\": \"#636efa\", \"symbol\": \"circle\"}, \"mode\": \"markers\", \"name\": \"Caitlin\", \"orientation\": \"v\", \"showlegend\": true, \"type\": \"scatter\", \"x\": [\"TG 50:1\", \"TG 50:2\", \"TG 50:3\", \"TG 52:2\", \"TG 52:3\", \"TG 52:4\", \"TG 54:3\", \"TG 54:4\", \"TG 54:5\"], \"xaxis\": \"x\", \"y\": [7.753458578013586, null, null, 12.491625473145302, null, null, 8.724612388508124, 5.016530963147707, null], \"yaxis\": \"y\"}],                        {\"legend\": {\"title\": {\"text\": \"Person\"}, \"tracegroupgap\": 0}, \"template\": {\"data\": {\"bar\": [{\"error_x\": {\"color\": \"#2a3f5f\"}, \"error_y\": {\"color\": \"#2a3f5f\"}, \"marker\": {\"line\": {\"color\": \"#E5ECF6\", \"width\": 0.5}}, \"type\": \"bar\"}], \"barpolar\": [{\"marker\": {\"line\": {\"color\": \"#E5ECF6\", \"width\": 0.5}}, \"type\": \"barpolar\"}], \"carpet\": [{\"aaxis\": {\"endlinecolor\": \"#2a3f5f\", \"gridcolor\": \"white\", \"linecolor\": \"white\", \"minorgridcolor\": \"white\", \"startlinecolor\": \"#2a3f5f\"}, \"baxis\": {\"endlinecolor\": \"#2a3f5f\", \"gridcolor\": \"white\", \"linecolor\": \"white\", \"minorgridcolor\": \"white\", \"startlinecolor\": \"#2a3f5f\"}, \"type\": \"carpet\"}], \"choropleth\": [{\"colorbar\": {\"outlinewidth\": 0, \"ticks\": \"\"}, \"type\": \"choropleth\"}], \"contour\": [{\"colorbar\": {\"outlinewidth\": 0, \"ticks\": \"\"}, \"colorscale\": [[0.0, \"#0d0887\"], [0.1111111111111111, \"#46039f\"], [0.2222222222222222, \"#7201a8\"], [0.3333333333333333, \"#9c179e\"], [0.4444444444444444, \"#bd3786\"], [0.5555555555555556, \"#d8576b\"], [0.6666666666666666, \"#ed7953\"], [0.7777777777777778, \"#fb9f3a\"], [0.8888888888888888, \"#fdca26\"], [1.0, \"#f0f921\"]], \"type\": \"contour\"}], \"contourcarpet\": [{\"colorbar\": {\"outlinewidth\": 0, \"ticks\": \"\"}, \"type\": \"contourcarpet\"}], \"heatmap\": [{\"colorbar\": {\"outlinewidth\": 0, \"ticks\": \"\"}, \"colorscale\": [[0.0, \"#0d0887\"], [0.1111111111111111, \"#46039f\"], [0.2222222222222222, \"#7201a8\"], [0.3333333333333333, \"#9c179e\"], [0.4444444444444444, \"#bd3786\"], [0.5555555555555556, \"#d8576b\"], [0.6666666666666666, \"#ed7953\"], [0.7777777777777778, \"#fb9f3a\"], [0.8888888888888888, \"#fdca26\"], [1.0, \"#f0f921\"]], \"type\": \"heatmap\"}], \"heatmapgl\": [{\"colorbar\": {\"outlinewidth\": 0, \"ticks\": \"\"}, \"colorscale\": [[0.0, \"#0d0887\"], [0.1111111111111111, \"#46039f\"], [0.2222222222222222, \"#7201a8\"], [0.3333333333333333, \"#9c179e\"], [0.4444444444444444, \"#bd3786\"], [0.5555555555555556, \"#d8576b\"], [0.6666666666666666, \"#ed7953\"], [0.7777777777777778, \"#fb9f3a\"], [0.8888888888888888, \"#fdca26\"], [1.0, \"#f0f921\"]], \"type\": \"heatmapgl\"}], \"histogram\": [{\"marker\": {\"colorbar\": {\"outlinewidth\": 0, \"ticks\": \"\"}}, \"type\": \"histogram\"}], \"histogram2d\": [{\"colorbar\": {\"outlinewidth\": 0, \"ticks\": \"\"}, \"colorscale\": [[0.0, \"#0d0887\"], [0.1111111111111111, \"#46039f\"], [0.2222222222222222, \"#7201a8\"], [0.3333333333333333, \"#9c179e\"], [0.4444444444444444, \"#bd3786\"], [0.5555555555555556, \"#d8576b\"], [0.6666666666666666, \"#ed7953\"], [0.7777777777777778, \"#fb9f3a\"], [0.8888888888888888, \"#fdca26\"], [1.0, \"#f0f921\"]], \"type\": \"histogram2d\"}], \"histogram2dcontour\": [{\"colorbar\": {\"outlinewidth\": 0, \"ticks\": \"\"}, \"colorscale\": [[0.0, \"#0d0887\"], [0.1111111111111111, \"#46039f\"], [0.2222222222222222, \"#7201a8\"], [0.3333333333333333, \"#9c179e\"], [0.4444444444444444, \"#bd3786\"], [0.5555555555555556, \"#d8576b\"], [0.6666666666666666, \"#ed7953\"], [0.7777777777777778, \"#fb9f3a\"], [0.8888888888888888, \"#fdca26\"], [1.0, \"#f0f921\"]], \"type\": \"histogram2dcontour\"}], \"mesh3d\": [{\"colorbar\": {\"outlinewidth\": 0, \"ticks\": \"\"}, \"type\": \"mesh3d\"}], \"parcoords\": [{\"line\": {\"colorbar\": {\"outlinewidth\": 0, \"ticks\": \"\"}}, \"type\": \"parcoords\"}], \"pie\": [{\"automargin\": true, \"type\": \"pie\"}], \"scatter\": [{\"marker\": {\"colorbar\": {\"outlinewidth\": 0, \"ticks\": \"\"}}, \"type\": \"scatter\"}], \"scatter3d\": [{\"line\": {\"colorbar\": {\"outlinewidth\": 0, \"ticks\": \"\"}}, \"marker\": {\"colorbar\": {\"outlinewidth\": 0, \"ticks\": \"\"}}, \"type\": \"scatter3d\"}], \"scattercarpet\": [{\"marker\": {\"colorbar\": {\"outlinewidth\": 0, \"ticks\": \"\"}}, \"type\": \"scattercarpet\"}], \"scattergeo\": [{\"marker\": {\"colorbar\": {\"outlinewidth\": 0, \"ticks\": \"\"}}, \"type\": \"scattergeo\"}], \"scattergl\": [{\"marker\": {\"colorbar\": {\"outlinewidth\": 0, \"ticks\": \"\"}}, \"type\": \"scattergl\"}], \"scattermapbox\": [{\"marker\": {\"colorbar\": {\"outlinewidth\": 0, \"ticks\": \"\"}}, \"type\": \"scattermapbox\"}], \"scatterpolar\": [{\"marker\": {\"colorbar\": {\"outlinewidth\": 0, \"ticks\": \"\"}}, \"type\": \"scatterpolar\"}], \"scatterpolargl\": [{\"marker\": {\"colorbar\": {\"outlinewidth\": 0, \"ticks\": \"\"}}, \"type\": \"scatterpolargl\"}], \"scatterternary\": [{\"marker\": {\"colorbar\": {\"outlinewidth\": 0, \"ticks\": \"\"}}, \"type\": \"scatterternary\"}], \"surface\": [{\"colorbar\": {\"outlinewidth\": 0, \"ticks\": \"\"}, \"colorscale\": [[0.0, \"#0d0887\"], [0.1111111111111111, \"#46039f\"], [0.2222222222222222, \"#7201a8\"], [0.3333333333333333, \"#9c179e\"], [0.4444444444444444, \"#bd3786\"], [0.5555555555555556, \"#d8576b\"], [0.6666666666666666, \"#ed7953\"], [0.7777777777777778, \"#fb9f3a\"], [0.8888888888888888, \"#fdca26\"], [1.0, \"#f0f921\"]], \"type\": \"surface\"}], \"table\": [{\"cells\": {\"fill\": {\"color\": \"#EBF0F8\"}, \"line\": {\"color\": \"white\"}}, \"header\": {\"fill\": {\"color\": \"#C8D4E3\"}, \"line\": {\"color\": \"white\"}}, \"type\": \"table\"}]}, \"layout\": {\"annotationdefaults\": {\"arrowcolor\": \"#2a3f5f\", \"arrowhead\": 0, \"arrowwidth\": 1}, \"coloraxis\": {\"colorbar\": {\"outlinewidth\": 0, \"ticks\": \"\"}}, \"colorscale\": {\"diverging\": [[0, \"#8e0152\"], [0.1, \"#c51b7d\"], [0.2, \"#de77ae\"], [0.3, \"#f1b6da\"], [0.4, \"#fde0ef\"], [0.5, \"#f7f7f7\"], [0.6, \"#e6f5d0\"], [0.7, \"#b8e186\"], [0.8, \"#7fbc41\"], [0.9, \"#4d9221\"], [1, \"#276419\"]], \"sequential\": [[0.0, \"#0d0887\"], [0.1111111111111111, \"#46039f\"], [0.2222222222222222, \"#7201a8\"], [0.3333333333333333, \"#9c179e\"], [0.4444444444444444, \"#bd3786\"], [0.5555555555555556, \"#d8576b\"], [0.6666666666666666, \"#ed7953\"], [0.7777777777777778, \"#fb9f3a\"], [0.8888888888888888, \"#fdca26\"], [1.0, \"#f0f921\"]], \"sequentialminus\": [[0.0, \"#0d0887\"], [0.1111111111111111, \"#46039f\"], [0.2222222222222222, \"#7201a8\"], [0.3333333333333333, \"#9c179e\"], [0.4444444444444444, \"#bd3786\"], [0.5555555555555556, \"#d8576b\"], [0.6666666666666666, \"#ed7953\"], [0.7777777777777778, \"#fb9f3a\"], [0.8888888888888888, \"#fdca26\"], [1.0, \"#f0f921\"]]}, \"colorway\": [\"#636efa\", \"#EF553B\", \"#00cc96\", \"#ab63fa\", \"#FFA15A\", \"#19d3f3\", \"#FF6692\", \"#B6E880\", \"#FF97FF\", \"#FECB52\"], \"font\": {\"color\": \"#2a3f5f\"}, \"geo\": {\"bgcolor\": \"white\", \"lakecolor\": \"white\", \"landcolor\": \"#E5ECF6\", \"showlakes\": true, \"showland\": true, \"subunitcolor\": \"white\"}, \"hoverlabel\": {\"align\": \"left\"}, \"hovermode\": \"closest\", \"mapbox\": {\"style\": \"light\"}, \"paper_bgcolor\": \"white\", \"plot_bgcolor\": \"#E5ECF6\", \"polar\": {\"angularaxis\": {\"gridcolor\": \"white\", \"linecolor\": \"white\", \"ticks\": \"\"}, \"bgcolor\": \"#E5ECF6\", \"radialaxis\": {\"gridcolor\": \"white\", \"linecolor\": \"white\", \"ticks\": \"\"}}, \"scene\": {\"xaxis\": {\"backgroundcolor\": \"#E5ECF6\", \"gridcolor\": \"white\", \"gridwidth\": 2, \"linecolor\": \"white\", \"showbackground\": true, \"ticks\": \"\", \"zerolinecolor\": \"white\"}, \"yaxis\": {\"backgroundcolor\": \"#E5ECF6\", \"gridcolor\": \"white\", \"gridwidth\": 2, \"linecolor\": \"white\", \"showbackground\": true, \"ticks\": \"\", \"zerolinecolor\": \"white\"}, \"zaxis\": {\"backgroundcolor\": \"#E5ECF6\", \"gridcolor\": \"white\", \"gridwidth\": 2, \"linecolor\": \"white\", \"showbackground\": true, \"ticks\": \"\", \"zerolinecolor\": \"white\"}}, \"shapedefaults\": {\"line\": {\"color\": \"#2a3f5f\"}}, \"ternary\": {\"aaxis\": {\"gridcolor\": \"white\", \"linecolor\": \"white\", \"ticks\": \"\"}, \"baxis\": {\"gridcolor\": \"white\", \"linecolor\": \"white\", \"ticks\": \"\"}, \"bgcolor\": \"#E5ECF6\", \"caxis\": {\"gridcolor\": \"white\", \"linecolor\": \"white\", \"ticks\": \"\"}}, \"title\": {\"x\": 0.05}, \"xaxis\": {\"automargin\": true, \"gridcolor\": \"white\", \"linecolor\": \"white\", \"ticks\": \"\", \"title\": {\"standoff\": 15}, \"zerolinecolor\": \"white\", \"zerolinewidth\": 2}, \"yaxis\": {\"automargin\": true, \"gridcolor\": \"white\", \"linecolor\": \"white\", \"ticks\": \"\", \"title\": {\"standoff\": 15}, \"zerolinecolor\": \"white\", \"zerolinewidth\": 2}}}, \"title\": {\"text\": \"Lipid vs Ratios for ID: COR, ID_2: DOD94, ID_3: F3\"}, \"xaxis\": {\"anchor\": \"y\", \"domain\": [0.0, 1.0], \"title\": {\"text\": \"Lipid\"}}, \"yaxis\": {\"anchor\": \"x\", \"domain\": [0.0, 1.0], \"title\": {\"text\": \"Ratios\"}}},                        {\"responsive\": true}                    ).then(function(){\n",
       "                            \n",
       "var gd = document.getElementById('9ec79cc1-1427-4597-a648-83d8da1a612e');\n",
       "var x = new MutationObserver(function (mutations, observer) {{\n",
       "        var display = window.getComputedStyle(gd).display;\n",
       "        if (!display || display === 'none') {{\n",
       "            console.log([gd, 'removed!']);\n",
       "            Plotly.purge(gd);\n",
       "            observer.disconnect();\n",
       "        }}\n",
       "}});\n",
       "\n",
       "// Listen for the removal of the full notebook cells\n",
       "var notebookContainer = gd.closest('#notebook-container');\n",
       "if (notebookContainer) {{\n",
       "    x.observe(notebookContainer, {childList: true});\n",
       "}}\n",
       "\n",
       "// Listen for the clearing of the current output cell\n",
       "var outputEl = gd.closest('.output');\n",
       "if (outputEl) {{\n",
       "    x.observe(outputEl, {childList: true});\n",
       "}}\n",
       "\n",
       "                        })                };                });            </script>        </div>"
      ]
     },
     "metadata": {},
     "output_type": "display_data"
    },
    {
     "data": {
      "application/vnd.plotly.v1+json": {
       "config": {
        "plotlyServerURL": "https://plot.ly"
       },
       "data": [
        {
         "customdata": [
          [
           "DOD94 WT F3 Cerebellum"
          ],
          [
           "DOD94 WT F3 Cerebellum"
          ],
          [
           "DOD94 WT F3 Cerebellum"
          ],
          [
           "DOD94 WT F3 Cerebellum"
          ],
          [
           "DOD94 WT F3 Cerebellum"
          ],
          [
           "DOD94 WT F3 Cerebellum"
          ],
          [
           "DOD94 WT F3 Cerebellum"
          ],
          [
           "DOD94 WT F3 Cerebellum"
          ],
          [
           "DOD94 WT F3 Cerebellum"
          ]
         ],
         "hovertemplate": "Person=Caitlin<br>Lipid=%{x}<br>Ratios=%{y}<br>Sample_ID=%{customdata[0]}<extra></extra>",
         "legendgroup": "Caitlin",
         "marker": {
          "color": "#636efa",
          "symbol": "circle"
         },
         "mode": "markers",
         "name": "Caitlin",
         "orientation": "v",
         "showlegend": true,
         "type": "scatter",
         "x": [
          "TG 50:1",
          "TG 50:2",
          "TG 50:3",
          "TG 52:2",
          "TG 52:3",
          "TG 52:4",
          "TG 54:3",
          "TG 54:4",
          "TG 54:5"
         ],
         "xaxis": "x",
         "y": [
          2.5673822533068336,
          1.552179937027989,
          null,
          6.7751810425279375,
          null,
          null,
          8.040801708450015,
          null,
          null
         ],
         "yaxis": "y"
        }
       ],
       "layout": {
        "legend": {
         "title": {
          "text": "Person"
         },
         "tracegroupgap": 0
        },
        "template": {
         "data": {
          "bar": [
           {
            "error_x": {
             "color": "#2a3f5f"
            },
            "error_y": {
             "color": "#2a3f5f"
            },
            "marker": {
             "line": {
              "color": "#E5ECF6",
              "width": 0.5
             }
            },
            "type": "bar"
           }
          ],
          "barpolar": [
           {
            "marker": {
             "line": {
              "color": "#E5ECF6",
              "width": 0.5
             }
            },
            "type": "barpolar"
           }
          ],
          "carpet": [
           {
            "aaxis": {
             "endlinecolor": "#2a3f5f",
             "gridcolor": "white",
             "linecolor": "white",
             "minorgridcolor": "white",
             "startlinecolor": "#2a3f5f"
            },
            "baxis": {
             "endlinecolor": "#2a3f5f",
             "gridcolor": "white",
             "linecolor": "white",
             "minorgridcolor": "white",
             "startlinecolor": "#2a3f5f"
            },
            "type": "carpet"
           }
          ],
          "choropleth": [
           {
            "colorbar": {
             "outlinewidth": 0,
             "ticks": ""
            },
            "type": "choropleth"
           }
          ],
          "contour": [
           {
            "colorbar": {
             "outlinewidth": 0,
             "ticks": ""
            },
            "colorscale": [
             [
              0,
              "#0d0887"
             ],
             [
              0.1111111111111111,
              "#46039f"
             ],
             [
              0.2222222222222222,
              "#7201a8"
             ],
             [
              0.3333333333333333,
              "#9c179e"
             ],
             [
              0.4444444444444444,
              "#bd3786"
             ],
             [
              0.5555555555555556,
              "#d8576b"
             ],
             [
              0.6666666666666666,
              "#ed7953"
             ],
             [
              0.7777777777777778,
              "#fb9f3a"
             ],
             [
              0.8888888888888888,
              "#fdca26"
             ],
             [
              1,
              "#f0f921"
             ]
            ],
            "type": "contour"
           }
          ],
          "contourcarpet": [
           {
            "colorbar": {
             "outlinewidth": 0,
             "ticks": ""
            },
            "type": "contourcarpet"
           }
          ],
          "heatmap": [
           {
            "colorbar": {
             "outlinewidth": 0,
             "ticks": ""
            },
            "colorscale": [
             [
              0,
              "#0d0887"
             ],
             [
              0.1111111111111111,
              "#46039f"
             ],
             [
              0.2222222222222222,
              "#7201a8"
             ],
             [
              0.3333333333333333,
              "#9c179e"
             ],
             [
              0.4444444444444444,
              "#bd3786"
             ],
             [
              0.5555555555555556,
              "#d8576b"
             ],
             [
              0.6666666666666666,
              "#ed7953"
             ],
             [
              0.7777777777777778,
              "#fb9f3a"
             ],
             [
              0.8888888888888888,
              "#fdca26"
             ],
             [
              1,
              "#f0f921"
             ]
            ],
            "type": "heatmap"
           }
          ],
          "heatmapgl": [
           {
            "colorbar": {
             "outlinewidth": 0,
             "ticks": ""
            },
            "colorscale": [
             [
              0,
              "#0d0887"
             ],
             [
              0.1111111111111111,
              "#46039f"
             ],
             [
              0.2222222222222222,
              "#7201a8"
             ],
             [
              0.3333333333333333,
              "#9c179e"
             ],
             [
              0.4444444444444444,
              "#bd3786"
             ],
             [
              0.5555555555555556,
              "#d8576b"
             ],
             [
              0.6666666666666666,
              "#ed7953"
             ],
             [
              0.7777777777777778,
              "#fb9f3a"
             ],
             [
              0.8888888888888888,
              "#fdca26"
             ],
             [
              1,
              "#f0f921"
             ]
            ],
            "type": "heatmapgl"
           }
          ],
          "histogram": [
           {
            "marker": {
             "colorbar": {
              "outlinewidth": 0,
              "ticks": ""
             }
            },
            "type": "histogram"
           }
          ],
          "histogram2d": [
           {
            "colorbar": {
             "outlinewidth": 0,
             "ticks": ""
            },
            "colorscale": [
             [
              0,
              "#0d0887"
             ],
             [
              0.1111111111111111,
              "#46039f"
             ],
             [
              0.2222222222222222,
              "#7201a8"
             ],
             [
              0.3333333333333333,
              "#9c179e"
             ],
             [
              0.4444444444444444,
              "#bd3786"
             ],
             [
              0.5555555555555556,
              "#d8576b"
             ],
             [
              0.6666666666666666,
              "#ed7953"
             ],
             [
              0.7777777777777778,
              "#fb9f3a"
             ],
             [
              0.8888888888888888,
              "#fdca26"
             ],
             [
              1,
              "#f0f921"
             ]
            ],
            "type": "histogram2d"
           }
          ],
          "histogram2dcontour": [
           {
            "colorbar": {
             "outlinewidth": 0,
             "ticks": ""
            },
            "colorscale": [
             [
              0,
              "#0d0887"
             ],
             [
              0.1111111111111111,
              "#46039f"
             ],
             [
              0.2222222222222222,
              "#7201a8"
             ],
             [
              0.3333333333333333,
              "#9c179e"
             ],
             [
              0.4444444444444444,
              "#bd3786"
             ],
             [
              0.5555555555555556,
              "#d8576b"
             ],
             [
              0.6666666666666666,
              "#ed7953"
             ],
             [
              0.7777777777777778,
              "#fb9f3a"
             ],
             [
              0.8888888888888888,
              "#fdca26"
             ],
             [
              1,
              "#f0f921"
             ]
            ],
            "type": "histogram2dcontour"
           }
          ],
          "mesh3d": [
           {
            "colorbar": {
             "outlinewidth": 0,
             "ticks": ""
            },
            "type": "mesh3d"
           }
          ],
          "parcoords": [
           {
            "line": {
             "colorbar": {
              "outlinewidth": 0,
              "ticks": ""
             }
            },
            "type": "parcoords"
           }
          ],
          "pie": [
           {
            "automargin": true,
            "type": "pie"
           }
          ],
          "scatter": [
           {
            "marker": {
             "colorbar": {
              "outlinewidth": 0,
              "ticks": ""
             }
            },
            "type": "scatter"
           }
          ],
          "scatter3d": [
           {
            "line": {
             "colorbar": {
              "outlinewidth": 0,
              "ticks": ""
             }
            },
            "marker": {
             "colorbar": {
              "outlinewidth": 0,
              "ticks": ""
             }
            },
            "type": "scatter3d"
           }
          ],
          "scattercarpet": [
           {
            "marker": {
             "colorbar": {
              "outlinewidth": 0,
              "ticks": ""
             }
            },
            "type": "scattercarpet"
           }
          ],
          "scattergeo": [
           {
            "marker": {
             "colorbar": {
              "outlinewidth": 0,
              "ticks": ""
             }
            },
            "type": "scattergeo"
           }
          ],
          "scattergl": [
           {
            "marker": {
             "colorbar": {
              "outlinewidth": 0,
              "ticks": ""
             }
            },
            "type": "scattergl"
           }
          ],
          "scattermapbox": [
           {
            "marker": {
             "colorbar": {
              "outlinewidth": 0,
              "ticks": ""
             }
            },
            "type": "scattermapbox"
           }
          ],
          "scatterpolar": [
           {
            "marker": {
             "colorbar": {
              "outlinewidth": 0,
              "ticks": ""
             }
            },
            "type": "scatterpolar"
           }
          ],
          "scatterpolargl": [
           {
            "marker": {
             "colorbar": {
              "outlinewidth": 0,
              "ticks": ""
             }
            },
            "type": "scatterpolargl"
           }
          ],
          "scatterternary": [
           {
            "marker": {
             "colorbar": {
              "outlinewidth": 0,
              "ticks": ""
             }
            },
            "type": "scatterternary"
           }
          ],
          "surface": [
           {
            "colorbar": {
             "outlinewidth": 0,
             "ticks": ""
            },
            "colorscale": [
             [
              0,
              "#0d0887"
             ],
             [
              0.1111111111111111,
              "#46039f"
             ],
             [
              0.2222222222222222,
              "#7201a8"
             ],
             [
              0.3333333333333333,
              "#9c179e"
             ],
             [
              0.4444444444444444,
              "#bd3786"
             ],
             [
              0.5555555555555556,
              "#d8576b"
             ],
             [
              0.6666666666666666,
              "#ed7953"
             ],
             [
              0.7777777777777778,
              "#fb9f3a"
             ],
             [
              0.8888888888888888,
              "#fdca26"
             ],
             [
              1,
              "#f0f921"
             ]
            ],
            "type": "surface"
           }
          ],
          "table": [
           {
            "cells": {
             "fill": {
              "color": "#EBF0F8"
             },
             "line": {
              "color": "white"
             }
            },
            "header": {
             "fill": {
              "color": "#C8D4E3"
             },
             "line": {
              "color": "white"
             }
            },
            "type": "table"
           }
          ]
         },
         "layout": {
          "annotationdefaults": {
           "arrowcolor": "#2a3f5f",
           "arrowhead": 0,
           "arrowwidth": 1
          },
          "coloraxis": {
           "colorbar": {
            "outlinewidth": 0,
            "ticks": ""
           }
          },
          "colorscale": {
           "diverging": [
            [
             0,
             "#8e0152"
            ],
            [
             0.1,
             "#c51b7d"
            ],
            [
             0.2,
             "#de77ae"
            ],
            [
             0.3,
             "#f1b6da"
            ],
            [
             0.4,
             "#fde0ef"
            ],
            [
             0.5,
             "#f7f7f7"
            ],
            [
             0.6,
             "#e6f5d0"
            ],
            [
             0.7,
             "#b8e186"
            ],
            [
             0.8,
             "#7fbc41"
            ],
            [
             0.9,
             "#4d9221"
            ],
            [
             1,
             "#276419"
            ]
           ],
           "sequential": [
            [
             0,
             "#0d0887"
            ],
            [
             0.1111111111111111,
             "#46039f"
            ],
            [
             0.2222222222222222,
             "#7201a8"
            ],
            [
             0.3333333333333333,
             "#9c179e"
            ],
            [
             0.4444444444444444,
             "#bd3786"
            ],
            [
             0.5555555555555556,
             "#d8576b"
            ],
            [
             0.6666666666666666,
             "#ed7953"
            ],
            [
             0.7777777777777778,
             "#fb9f3a"
            ],
            [
             0.8888888888888888,
             "#fdca26"
            ],
            [
             1,
             "#f0f921"
            ]
           ],
           "sequentialminus": [
            [
             0,
             "#0d0887"
            ],
            [
             0.1111111111111111,
             "#46039f"
            ],
            [
             0.2222222222222222,
             "#7201a8"
            ],
            [
             0.3333333333333333,
             "#9c179e"
            ],
            [
             0.4444444444444444,
             "#bd3786"
            ],
            [
             0.5555555555555556,
             "#d8576b"
            ],
            [
             0.6666666666666666,
             "#ed7953"
            ],
            [
             0.7777777777777778,
             "#fb9f3a"
            ],
            [
             0.8888888888888888,
             "#fdca26"
            ],
            [
             1,
             "#f0f921"
            ]
           ]
          },
          "colorway": [
           "#636efa",
           "#EF553B",
           "#00cc96",
           "#ab63fa",
           "#FFA15A",
           "#19d3f3",
           "#FF6692",
           "#B6E880",
           "#FF97FF",
           "#FECB52"
          ],
          "font": {
           "color": "#2a3f5f"
          },
          "geo": {
           "bgcolor": "white",
           "lakecolor": "white",
           "landcolor": "#E5ECF6",
           "showlakes": true,
           "showland": true,
           "subunitcolor": "white"
          },
          "hoverlabel": {
           "align": "left"
          },
          "hovermode": "closest",
          "mapbox": {
           "style": "light"
          },
          "paper_bgcolor": "white",
          "plot_bgcolor": "#E5ECF6",
          "polar": {
           "angularaxis": {
            "gridcolor": "white",
            "linecolor": "white",
            "ticks": ""
           },
           "bgcolor": "#E5ECF6",
           "radialaxis": {
            "gridcolor": "white",
            "linecolor": "white",
            "ticks": ""
           }
          },
          "scene": {
           "xaxis": {
            "backgroundcolor": "#E5ECF6",
            "gridcolor": "white",
            "gridwidth": 2,
            "linecolor": "white",
            "showbackground": true,
            "ticks": "",
            "zerolinecolor": "white"
           },
           "yaxis": {
            "backgroundcolor": "#E5ECF6",
            "gridcolor": "white",
            "gridwidth": 2,
            "linecolor": "white",
            "showbackground": true,
            "ticks": "",
            "zerolinecolor": "white"
           },
           "zaxis": {
            "backgroundcolor": "#E5ECF6",
            "gridcolor": "white",
            "gridwidth": 2,
            "linecolor": "white",
            "showbackground": true,
            "ticks": "",
            "zerolinecolor": "white"
           }
          },
          "shapedefaults": {
           "line": {
            "color": "#2a3f5f"
           }
          },
          "ternary": {
           "aaxis": {
            "gridcolor": "white",
            "linecolor": "white",
            "ticks": ""
           },
           "baxis": {
            "gridcolor": "white",
            "linecolor": "white",
            "ticks": ""
           },
           "bgcolor": "#E5ECF6",
           "caxis": {
            "gridcolor": "white",
            "linecolor": "white",
            "ticks": ""
           }
          },
          "title": {
           "x": 0.05
          },
          "xaxis": {
           "automargin": true,
           "gridcolor": "white",
           "linecolor": "white",
           "ticks": "",
           "title": {
            "standoff": 15
           },
           "zerolinecolor": "white",
           "zerolinewidth": 2
          },
          "yaxis": {
           "automargin": true,
           "gridcolor": "white",
           "linecolor": "white",
           "ticks": "",
           "title": {
            "standoff": 15
           },
           "zerolinecolor": "white",
           "zerolinewidth": 2
          }
         }
        },
        "title": {
         "text": "Lipid vs Ratios for ID: CER, ID_2: DOD94, ID_3: F3"
        },
        "xaxis": {
         "anchor": "y",
         "domain": [
          0,
          1
         ],
         "title": {
          "text": "Lipid"
         }
        },
        "yaxis": {
         "anchor": "x",
         "domain": [
          0,
          1
         ],
         "title": {
          "text": "Ratios"
         }
        }
       }
      },
      "text/html": [
       "<div>                            <div id=\"98aec13e-c2b0-4820-99fc-3df6b113c4b0\" class=\"plotly-graph-div\" style=\"height:525px; width:100%;\"></div>            <script type=\"text/javascript\">                require([\"plotly\"], function(Plotly) {                    window.PLOTLYENV=window.PLOTLYENV || {};                                    if (document.getElementById(\"98aec13e-c2b0-4820-99fc-3df6b113c4b0\")) {                    Plotly.newPlot(                        \"98aec13e-c2b0-4820-99fc-3df6b113c4b0\",                        [{\"customdata\": [[\"DOD94 WT F3 Cerebellum\"], [\"DOD94 WT F3 Cerebellum\"], [\"DOD94 WT F3 Cerebellum\"], [\"DOD94 WT F3 Cerebellum\"], [\"DOD94 WT F3 Cerebellum\"], [\"DOD94 WT F3 Cerebellum\"], [\"DOD94 WT F3 Cerebellum\"], [\"DOD94 WT F3 Cerebellum\"], [\"DOD94 WT F3 Cerebellum\"]], \"hovertemplate\": \"Person=Caitlin<br>Lipid=%{x}<br>Ratios=%{y}<br>Sample_ID=%{customdata[0]}<extra></extra>\", \"legendgroup\": \"Caitlin\", \"marker\": {\"color\": \"#636efa\", \"symbol\": \"circle\"}, \"mode\": \"markers\", \"name\": \"Caitlin\", \"orientation\": \"v\", \"showlegend\": true, \"type\": \"scatter\", \"x\": [\"TG 50:1\", \"TG 50:2\", \"TG 50:3\", \"TG 52:2\", \"TG 52:3\", \"TG 52:4\", \"TG 54:3\", \"TG 54:4\", \"TG 54:5\"], \"xaxis\": \"x\", \"y\": [2.5673822533068336, 1.552179937027989, null, 6.7751810425279375, null, null, 8.040801708450015, null, null], \"yaxis\": \"y\"}],                        {\"legend\": {\"title\": {\"text\": \"Person\"}, \"tracegroupgap\": 0}, \"template\": {\"data\": {\"bar\": [{\"error_x\": {\"color\": \"#2a3f5f\"}, \"error_y\": {\"color\": \"#2a3f5f\"}, \"marker\": {\"line\": {\"color\": \"#E5ECF6\", \"width\": 0.5}}, \"type\": \"bar\"}], \"barpolar\": [{\"marker\": {\"line\": {\"color\": \"#E5ECF6\", \"width\": 0.5}}, \"type\": \"barpolar\"}], \"carpet\": [{\"aaxis\": {\"endlinecolor\": \"#2a3f5f\", \"gridcolor\": \"white\", \"linecolor\": \"white\", \"minorgridcolor\": \"white\", \"startlinecolor\": \"#2a3f5f\"}, \"baxis\": {\"endlinecolor\": \"#2a3f5f\", \"gridcolor\": \"white\", \"linecolor\": \"white\", \"minorgridcolor\": \"white\", \"startlinecolor\": \"#2a3f5f\"}, \"type\": \"carpet\"}], \"choropleth\": [{\"colorbar\": {\"outlinewidth\": 0, \"ticks\": \"\"}, \"type\": \"choropleth\"}], \"contour\": [{\"colorbar\": {\"outlinewidth\": 0, \"ticks\": \"\"}, \"colorscale\": [[0.0, \"#0d0887\"], [0.1111111111111111, \"#46039f\"], [0.2222222222222222, \"#7201a8\"], [0.3333333333333333, \"#9c179e\"], [0.4444444444444444, \"#bd3786\"], [0.5555555555555556, \"#d8576b\"], [0.6666666666666666, \"#ed7953\"], [0.7777777777777778, \"#fb9f3a\"], [0.8888888888888888, \"#fdca26\"], [1.0, \"#f0f921\"]], \"type\": \"contour\"}], \"contourcarpet\": [{\"colorbar\": {\"outlinewidth\": 0, \"ticks\": \"\"}, \"type\": \"contourcarpet\"}], \"heatmap\": [{\"colorbar\": {\"outlinewidth\": 0, \"ticks\": \"\"}, \"colorscale\": [[0.0, \"#0d0887\"], [0.1111111111111111, \"#46039f\"], [0.2222222222222222, \"#7201a8\"], [0.3333333333333333, \"#9c179e\"], [0.4444444444444444, \"#bd3786\"], [0.5555555555555556, \"#d8576b\"], [0.6666666666666666, \"#ed7953\"], [0.7777777777777778, \"#fb9f3a\"], [0.8888888888888888, \"#fdca26\"], [1.0, \"#f0f921\"]], \"type\": \"heatmap\"}], \"heatmapgl\": [{\"colorbar\": {\"outlinewidth\": 0, \"ticks\": \"\"}, \"colorscale\": [[0.0, \"#0d0887\"], [0.1111111111111111, \"#46039f\"], [0.2222222222222222, \"#7201a8\"], [0.3333333333333333, \"#9c179e\"], [0.4444444444444444, \"#bd3786\"], [0.5555555555555556, \"#d8576b\"], [0.6666666666666666, \"#ed7953\"], [0.7777777777777778, \"#fb9f3a\"], [0.8888888888888888, \"#fdca26\"], [1.0, \"#f0f921\"]], \"type\": \"heatmapgl\"}], \"histogram\": [{\"marker\": {\"colorbar\": {\"outlinewidth\": 0, \"ticks\": \"\"}}, \"type\": \"histogram\"}], \"histogram2d\": [{\"colorbar\": {\"outlinewidth\": 0, \"ticks\": \"\"}, \"colorscale\": [[0.0, \"#0d0887\"], [0.1111111111111111, \"#46039f\"], [0.2222222222222222, \"#7201a8\"], [0.3333333333333333, \"#9c179e\"], [0.4444444444444444, \"#bd3786\"], [0.5555555555555556, \"#d8576b\"], [0.6666666666666666, \"#ed7953\"], [0.7777777777777778, \"#fb9f3a\"], [0.8888888888888888, \"#fdca26\"], [1.0, \"#f0f921\"]], \"type\": \"histogram2d\"}], \"histogram2dcontour\": [{\"colorbar\": {\"outlinewidth\": 0, \"ticks\": \"\"}, \"colorscale\": [[0.0, \"#0d0887\"], [0.1111111111111111, \"#46039f\"], [0.2222222222222222, \"#7201a8\"], [0.3333333333333333, \"#9c179e\"], [0.4444444444444444, \"#bd3786\"], [0.5555555555555556, \"#d8576b\"], [0.6666666666666666, \"#ed7953\"], [0.7777777777777778, \"#fb9f3a\"], [0.8888888888888888, \"#fdca26\"], [1.0, \"#f0f921\"]], \"type\": \"histogram2dcontour\"}], \"mesh3d\": [{\"colorbar\": {\"outlinewidth\": 0, \"ticks\": \"\"}, \"type\": \"mesh3d\"}], \"parcoords\": [{\"line\": {\"colorbar\": {\"outlinewidth\": 0, \"ticks\": \"\"}}, \"type\": \"parcoords\"}], \"pie\": [{\"automargin\": true, \"type\": \"pie\"}], \"scatter\": [{\"marker\": {\"colorbar\": {\"outlinewidth\": 0, \"ticks\": \"\"}}, \"type\": \"scatter\"}], \"scatter3d\": [{\"line\": {\"colorbar\": {\"outlinewidth\": 0, \"ticks\": \"\"}}, \"marker\": {\"colorbar\": {\"outlinewidth\": 0, \"ticks\": \"\"}}, \"type\": \"scatter3d\"}], \"scattercarpet\": [{\"marker\": {\"colorbar\": {\"outlinewidth\": 0, \"ticks\": \"\"}}, \"type\": \"scattercarpet\"}], \"scattergeo\": [{\"marker\": {\"colorbar\": {\"outlinewidth\": 0, \"ticks\": \"\"}}, \"type\": \"scattergeo\"}], \"scattergl\": [{\"marker\": {\"colorbar\": {\"outlinewidth\": 0, \"ticks\": \"\"}}, \"type\": \"scattergl\"}], \"scattermapbox\": [{\"marker\": {\"colorbar\": {\"outlinewidth\": 0, \"ticks\": \"\"}}, \"type\": \"scattermapbox\"}], \"scatterpolar\": [{\"marker\": {\"colorbar\": {\"outlinewidth\": 0, \"ticks\": \"\"}}, \"type\": \"scatterpolar\"}], \"scatterpolargl\": [{\"marker\": {\"colorbar\": {\"outlinewidth\": 0, \"ticks\": \"\"}}, \"type\": \"scatterpolargl\"}], \"scatterternary\": [{\"marker\": {\"colorbar\": {\"outlinewidth\": 0, \"ticks\": \"\"}}, \"type\": \"scatterternary\"}], \"surface\": [{\"colorbar\": {\"outlinewidth\": 0, \"ticks\": \"\"}, \"colorscale\": [[0.0, \"#0d0887\"], [0.1111111111111111, \"#46039f\"], [0.2222222222222222, \"#7201a8\"], [0.3333333333333333, \"#9c179e\"], [0.4444444444444444, \"#bd3786\"], [0.5555555555555556, \"#d8576b\"], [0.6666666666666666, \"#ed7953\"], [0.7777777777777778, \"#fb9f3a\"], [0.8888888888888888, \"#fdca26\"], [1.0, \"#f0f921\"]], \"type\": \"surface\"}], \"table\": [{\"cells\": {\"fill\": {\"color\": \"#EBF0F8\"}, \"line\": {\"color\": \"white\"}}, \"header\": {\"fill\": {\"color\": \"#C8D4E3\"}, \"line\": {\"color\": \"white\"}}, \"type\": \"table\"}]}, \"layout\": {\"annotationdefaults\": {\"arrowcolor\": \"#2a3f5f\", \"arrowhead\": 0, \"arrowwidth\": 1}, \"coloraxis\": {\"colorbar\": {\"outlinewidth\": 0, \"ticks\": \"\"}}, \"colorscale\": {\"diverging\": [[0, \"#8e0152\"], [0.1, \"#c51b7d\"], [0.2, \"#de77ae\"], [0.3, \"#f1b6da\"], [0.4, \"#fde0ef\"], [0.5, \"#f7f7f7\"], [0.6, \"#e6f5d0\"], [0.7, \"#b8e186\"], [0.8, \"#7fbc41\"], [0.9, \"#4d9221\"], [1, \"#276419\"]], \"sequential\": [[0.0, \"#0d0887\"], [0.1111111111111111, \"#46039f\"], [0.2222222222222222, \"#7201a8\"], [0.3333333333333333, \"#9c179e\"], [0.4444444444444444, \"#bd3786\"], [0.5555555555555556, \"#d8576b\"], [0.6666666666666666, \"#ed7953\"], [0.7777777777777778, \"#fb9f3a\"], [0.8888888888888888, \"#fdca26\"], [1.0, \"#f0f921\"]], \"sequentialminus\": [[0.0, \"#0d0887\"], [0.1111111111111111, \"#46039f\"], [0.2222222222222222, \"#7201a8\"], [0.3333333333333333, \"#9c179e\"], [0.4444444444444444, \"#bd3786\"], [0.5555555555555556, \"#d8576b\"], [0.6666666666666666, \"#ed7953\"], [0.7777777777777778, \"#fb9f3a\"], [0.8888888888888888, \"#fdca26\"], [1.0, \"#f0f921\"]]}, \"colorway\": [\"#636efa\", \"#EF553B\", \"#00cc96\", \"#ab63fa\", \"#FFA15A\", \"#19d3f3\", \"#FF6692\", \"#B6E880\", \"#FF97FF\", \"#FECB52\"], \"font\": {\"color\": \"#2a3f5f\"}, \"geo\": {\"bgcolor\": \"white\", \"lakecolor\": \"white\", \"landcolor\": \"#E5ECF6\", \"showlakes\": true, \"showland\": true, \"subunitcolor\": \"white\"}, \"hoverlabel\": {\"align\": \"left\"}, \"hovermode\": \"closest\", \"mapbox\": {\"style\": \"light\"}, \"paper_bgcolor\": \"white\", \"plot_bgcolor\": \"#E5ECF6\", \"polar\": {\"angularaxis\": {\"gridcolor\": \"white\", \"linecolor\": \"white\", \"ticks\": \"\"}, \"bgcolor\": \"#E5ECF6\", \"radialaxis\": {\"gridcolor\": \"white\", \"linecolor\": \"white\", \"ticks\": \"\"}}, \"scene\": {\"xaxis\": {\"backgroundcolor\": \"#E5ECF6\", \"gridcolor\": \"white\", \"gridwidth\": 2, \"linecolor\": \"white\", \"showbackground\": true, \"ticks\": \"\", \"zerolinecolor\": \"white\"}, \"yaxis\": {\"backgroundcolor\": \"#E5ECF6\", \"gridcolor\": \"white\", \"gridwidth\": 2, \"linecolor\": \"white\", \"showbackground\": true, \"ticks\": \"\", \"zerolinecolor\": \"white\"}, \"zaxis\": {\"backgroundcolor\": \"#E5ECF6\", \"gridcolor\": \"white\", \"gridwidth\": 2, \"linecolor\": \"white\", \"showbackground\": true, \"ticks\": \"\", \"zerolinecolor\": \"white\"}}, \"shapedefaults\": {\"line\": {\"color\": \"#2a3f5f\"}}, \"ternary\": {\"aaxis\": {\"gridcolor\": \"white\", \"linecolor\": \"white\", \"ticks\": \"\"}, \"baxis\": {\"gridcolor\": \"white\", \"linecolor\": \"white\", \"ticks\": \"\"}, \"bgcolor\": \"#E5ECF6\", \"caxis\": {\"gridcolor\": \"white\", \"linecolor\": \"white\", \"ticks\": \"\"}}, \"title\": {\"x\": 0.05}, \"xaxis\": {\"automargin\": true, \"gridcolor\": \"white\", \"linecolor\": \"white\", \"ticks\": \"\", \"title\": {\"standoff\": 15}, \"zerolinecolor\": \"white\", \"zerolinewidth\": 2}, \"yaxis\": {\"automargin\": true, \"gridcolor\": \"white\", \"linecolor\": \"white\", \"ticks\": \"\", \"title\": {\"standoff\": 15}, \"zerolinecolor\": \"white\", \"zerolinewidth\": 2}}}, \"title\": {\"text\": \"Lipid vs Ratios for ID: CER, ID_2: DOD94, ID_3: F3\"}, \"xaxis\": {\"anchor\": \"y\", \"domain\": [0.0, 1.0], \"title\": {\"text\": \"Lipid\"}}, \"yaxis\": {\"anchor\": \"x\", \"domain\": [0.0, 1.0], \"title\": {\"text\": \"Ratios\"}}},                        {\"responsive\": true}                    ).then(function(){\n",
       "                            \n",
       "var gd = document.getElementById('98aec13e-c2b0-4820-99fc-3df6b113c4b0');\n",
       "var x = new MutationObserver(function (mutations, observer) {{\n",
       "        var display = window.getComputedStyle(gd).display;\n",
       "        if (!display || display === 'none') {{\n",
       "            console.log([gd, 'removed!']);\n",
       "            Plotly.purge(gd);\n",
       "            observer.disconnect();\n",
       "        }}\n",
       "}});\n",
       "\n",
       "// Listen for the removal of the full notebook cells\n",
       "var notebookContainer = gd.closest('#notebook-container');\n",
       "if (notebookContainer) {{\n",
       "    x.observe(notebookContainer, {childList: true});\n",
       "}}\n",
       "\n",
       "// Listen for the clearing of the current output cell\n",
       "var outputEl = gd.closest('.output');\n",
       "if (outputEl) {{\n",
       "    x.observe(outputEl, {childList: true});\n",
       "}}\n",
       "\n",
       "                        })                };                });            </script>        </div>"
      ]
     },
     "metadata": {},
     "output_type": "display_data"
    },
    {
     "data": {
      "application/vnd.plotly.v1+json": {
       "config": {
        "plotlyServerURL": "https://plot.ly"
       },
       "data": [
        {
         "customdata": [
          [
           "DOD94 WT F3 Diencephalon"
          ],
          [
           "DOD94 WT F3 Diencephalon"
          ],
          [
           "DOD94 WT F3 Diencephalon"
          ],
          [
           "DOD94 WT F3 Diencephalon"
          ],
          [
           "DOD94 WT F3 Diencephalon"
          ],
          [
           "DOD94 WT F3 Diencephalon"
          ],
          [
           "DOD94 WT F3 Diencephalon"
          ],
          [
           "DOD94 WT F3 Diencephalon"
          ],
          [
           "DOD94 WT F3 Diencephalon"
          ]
         ],
         "hovertemplate": "Person=Caitlin<br>Lipid=%{x}<br>Ratios=%{y}<br>Sample_ID=%{customdata[0]}<extra></extra>",
         "legendgroup": "Caitlin",
         "marker": {
          "color": "#636efa",
          "symbol": "circle"
         },
         "mode": "markers",
         "name": "Caitlin",
         "orientation": "v",
         "showlegend": true,
         "type": "scatter",
         "x": [
          "TG 50:1",
          "TG 50:2",
          "TG 50:3",
          "TG 52:2",
          "TG 52:3",
          "TG 52:4",
          "TG 54:3",
          "TG 54:4",
          "TG 54:5"
         ],
         "xaxis": "x",
         "y": [
          6.675669783968783,
          null,
          null,
          6.766047946743192,
          3.8920671134014713,
          null,
          5.852539429120896,
          8.511117880855037,
          null
         ],
         "yaxis": "y"
        }
       ],
       "layout": {
        "legend": {
         "title": {
          "text": "Person"
         },
         "tracegroupgap": 0
        },
        "template": {
         "data": {
          "bar": [
           {
            "error_x": {
             "color": "#2a3f5f"
            },
            "error_y": {
             "color": "#2a3f5f"
            },
            "marker": {
             "line": {
              "color": "#E5ECF6",
              "width": 0.5
             }
            },
            "type": "bar"
           }
          ],
          "barpolar": [
           {
            "marker": {
             "line": {
              "color": "#E5ECF6",
              "width": 0.5
             }
            },
            "type": "barpolar"
           }
          ],
          "carpet": [
           {
            "aaxis": {
             "endlinecolor": "#2a3f5f",
             "gridcolor": "white",
             "linecolor": "white",
             "minorgridcolor": "white",
             "startlinecolor": "#2a3f5f"
            },
            "baxis": {
             "endlinecolor": "#2a3f5f",
             "gridcolor": "white",
             "linecolor": "white",
             "minorgridcolor": "white",
             "startlinecolor": "#2a3f5f"
            },
            "type": "carpet"
           }
          ],
          "choropleth": [
           {
            "colorbar": {
             "outlinewidth": 0,
             "ticks": ""
            },
            "type": "choropleth"
           }
          ],
          "contour": [
           {
            "colorbar": {
             "outlinewidth": 0,
             "ticks": ""
            },
            "colorscale": [
             [
              0,
              "#0d0887"
             ],
             [
              0.1111111111111111,
              "#46039f"
             ],
             [
              0.2222222222222222,
              "#7201a8"
             ],
             [
              0.3333333333333333,
              "#9c179e"
             ],
             [
              0.4444444444444444,
              "#bd3786"
             ],
             [
              0.5555555555555556,
              "#d8576b"
             ],
             [
              0.6666666666666666,
              "#ed7953"
             ],
             [
              0.7777777777777778,
              "#fb9f3a"
             ],
             [
              0.8888888888888888,
              "#fdca26"
             ],
             [
              1,
              "#f0f921"
             ]
            ],
            "type": "contour"
           }
          ],
          "contourcarpet": [
           {
            "colorbar": {
             "outlinewidth": 0,
             "ticks": ""
            },
            "type": "contourcarpet"
           }
          ],
          "heatmap": [
           {
            "colorbar": {
             "outlinewidth": 0,
             "ticks": ""
            },
            "colorscale": [
             [
              0,
              "#0d0887"
             ],
             [
              0.1111111111111111,
              "#46039f"
             ],
             [
              0.2222222222222222,
              "#7201a8"
             ],
             [
              0.3333333333333333,
              "#9c179e"
             ],
             [
              0.4444444444444444,
              "#bd3786"
             ],
             [
              0.5555555555555556,
              "#d8576b"
             ],
             [
              0.6666666666666666,
              "#ed7953"
             ],
             [
              0.7777777777777778,
              "#fb9f3a"
             ],
             [
              0.8888888888888888,
              "#fdca26"
             ],
             [
              1,
              "#f0f921"
             ]
            ],
            "type": "heatmap"
           }
          ],
          "heatmapgl": [
           {
            "colorbar": {
             "outlinewidth": 0,
             "ticks": ""
            },
            "colorscale": [
             [
              0,
              "#0d0887"
             ],
             [
              0.1111111111111111,
              "#46039f"
             ],
             [
              0.2222222222222222,
              "#7201a8"
             ],
             [
              0.3333333333333333,
              "#9c179e"
             ],
             [
              0.4444444444444444,
              "#bd3786"
             ],
             [
              0.5555555555555556,
              "#d8576b"
             ],
             [
              0.6666666666666666,
              "#ed7953"
             ],
             [
              0.7777777777777778,
              "#fb9f3a"
             ],
             [
              0.8888888888888888,
              "#fdca26"
             ],
             [
              1,
              "#f0f921"
             ]
            ],
            "type": "heatmapgl"
           }
          ],
          "histogram": [
           {
            "marker": {
             "colorbar": {
              "outlinewidth": 0,
              "ticks": ""
             }
            },
            "type": "histogram"
           }
          ],
          "histogram2d": [
           {
            "colorbar": {
             "outlinewidth": 0,
             "ticks": ""
            },
            "colorscale": [
             [
              0,
              "#0d0887"
             ],
             [
              0.1111111111111111,
              "#46039f"
             ],
             [
              0.2222222222222222,
              "#7201a8"
             ],
             [
              0.3333333333333333,
              "#9c179e"
             ],
             [
              0.4444444444444444,
              "#bd3786"
             ],
             [
              0.5555555555555556,
              "#d8576b"
             ],
             [
              0.6666666666666666,
              "#ed7953"
             ],
             [
              0.7777777777777778,
              "#fb9f3a"
             ],
             [
              0.8888888888888888,
              "#fdca26"
             ],
             [
              1,
              "#f0f921"
             ]
            ],
            "type": "histogram2d"
           }
          ],
          "histogram2dcontour": [
           {
            "colorbar": {
             "outlinewidth": 0,
             "ticks": ""
            },
            "colorscale": [
             [
              0,
              "#0d0887"
             ],
             [
              0.1111111111111111,
              "#46039f"
             ],
             [
              0.2222222222222222,
              "#7201a8"
             ],
             [
              0.3333333333333333,
              "#9c179e"
             ],
             [
              0.4444444444444444,
              "#bd3786"
             ],
             [
              0.5555555555555556,
              "#d8576b"
             ],
             [
              0.6666666666666666,
              "#ed7953"
             ],
             [
              0.7777777777777778,
              "#fb9f3a"
             ],
             [
              0.8888888888888888,
              "#fdca26"
             ],
             [
              1,
              "#f0f921"
             ]
            ],
            "type": "histogram2dcontour"
           }
          ],
          "mesh3d": [
           {
            "colorbar": {
             "outlinewidth": 0,
             "ticks": ""
            },
            "type": "mesh3d"
           }
          ],
          "parcoords": [
           {
            "line": {
             "colorbar": {
              "outlinewidth": 0,
              "ticks": ""
             }
            },
            "type": "parcoords"
           }
          ],
          "pie": [
           {
            "automargin": true,
            "type": "pie"
           }
          ],
          "scatter": [
           {
            "marker": {
             "colorbar": {
              "outlinewidth": 0,
              "ticks": ""
             }
            },
            "type": "scatter"
           }
          ],
          "scatter3d": [
           {
            "line": {
             "colorbar": {
              "outlinewidth": 0,
              "ticks": ""
             }
            },
            "marker": {
             "colorbar": {
              "outlinewidth": 0,
              "ticks": ""
             }
            },
            "type": "scatter3d"
           }
          ],
          "scattercarpet": [
           {
            "marker": {
             "colorbar": {
              "outlinewidth": 0,
              "ticks": ""
             }
            },
            "type": "scattercarpet"
           }
          ],
          "scattergeo": [
           {
            "marker": {
             "colorbar": {
              "outlinewidth": 0,
              "ticks": ""
             }
            },
            "type": "scattergeo"
           }
          ],
          "scattergl": [
           {
            "marker": {
             "colorbar": {
              "outlinewidth": 0,
              "ticks": ""
             }
            },
            "type": "scattergl"
           }
          ],
          "scattermapbox": [
           {
            "marker": {
             "colorbar": {
              "outlinewidth": 0,
              "ticks": ""
             }
            },
            "type": "scattermapbox"
           }
          ],
          "scatterpolar": [
           {
            "marker": {
             "colorbar": {
              "outlinewidth": 0,
              "ticks": ""
             }
            },
            "type": "scatterpolar"
           }
          ],
          "scatterpolargl": [
           {
            "marker": {
             "colorbar": {
              "outlinewidth": 0,
              "ticks": ""
             }
            },
            "type": "scatterpolargl"
           }
          ],
          "scatterternary": [
           {
            "marker": {
             "colorbar": {
              "outlinewidth": 0,
              "ticks": ""
             }
            },
            "type": "scatterternary"
           }
          ],
          "surface": [
           {
            "colorbar": {
             "outlinewidth": 0,
             "ticks": ""
            },
            "colorscale": [
             [
              0,
              "#0d0887"
             ],
             [
              0.1111111111111111,
              "#46039f"
             ],
             [
              0.2222222222222222,
              "#7201a8"
             ],
             [
              0.3333333333333333,
              "#9c179e"
             ],
             [
              0.4444444444444444,
              "#bd3786"
             ],
             [
              0.5555555555555556,
              "#d8576b"
             ],
             [
              0.6666666666666666,
              "#ed7953"
             ],
             [
              0.7777777777777778,
              "#fb9f3a"
             ],
             [
              0.8888888888888888,
              "#fdca26"
             ],
             [
              1,
              "#f0f921"
             ]
            ],
            "type": "surface"
           }
          ],
          "table": [
           {
            "cells": {
             "fill": {
              "color": "#EBF0F8"
             },
             "line": {
              "color": "white"
             }
            },
            "header": {
             "fill": {
              "color": "#C8D4E3"
             },
             "line": {
              "color": "white"
             }
            },
            "type": "table"
           }
          ]
         },
         "layout": {
          "annotationdefaults": {
           "arrowcolor": "#2a3f5f",
           "arrowhead": 0,
           "arrowwidth": 1
          },
          "coloraxis": {
           "colorbar": {
            "outlinewidth": 0,
            "ticks": ""
           }
          },
          "colorscale": {
           "diverging": [
            [
             0,
             "#8e0152"
            ],
            [
             0.1,
             "#c51b7d"
            ],
            [
             0.2,
             "#de77ae"
            ],
            [
             0.3,
             "#f1b6da"
            ],
            [
             0.4,
             "#fde0ef"
            ],
            [
             0.5,
             "#f7f7f7"
            ],
            [
             0.6,
             "#e6f5d0"
            ],
            [
             0.7,
             "#b8e186"
            ],
            [
             0.8,
             "#7fbc41"
            ],
            [
             0.9,
             "#4d9221"
            ],
            [
             1,
             "#276419"
            ]
           ],
           "sequential": [
            [
             0,
             "#0d0887"
            ],
            [
             0.1111111111111111,
             "#46039f"
            ],
            [
             0.2222222222222222,
             "#7201a8"
            ],
            [
             0.3333333333333333,
             "#9c179e"
            ],
            [
             0.4444444444444444,
             "#bd3786"
            ],
            [
             0.5555555555555556,
             "#d8576b"
            ],
            [
             0.6666666666666666,
             "#ed7953"
            ],
            [
             0.7777777777777778,
             "#fb9f3a"
            ],
            [
             0.8888888888888888,
             "#fdca26"
            ],
            [
             1,
             "#f0f921"
            ]
           ],
           "sequentialminus": [
            [
             0,
             "#0d0887"
            ],
            [
             0.1111111111111111,
             "#46039f"
            ],
            [
             0.2222222222222222,
             "#7201a8"
            ],
            [
             0.3333333333333333,
             "#9c179e"
            ],
            [
             0.4444444444444444,
             "#bd3786"
            ],
            [
             0.5555555555555556,
             "#d8576b"
            ],
            [
             0.6666666666666666,
             "#ed7953"
            ],
            [
             0.7777777777777778,
             "#fb9f3a"
            ],
            [
             0.8888888888888888,
             "#fdca26"
            ],
            [
             1,
             "#f0f921"
            ]
           ]
          },
          "colorway": [
           "#636efa",
           "#EF553B",
           "#00cc96",
           "#ab63fa",
           "#FFA15A",
           "#19d3f3",
           "#FF6692",
           "#B6E880",
           "#FF97FF",
           "#FECB52"
          ],
          "font": {
           "color": "#2a3f5f"
          },
          "geo": {
           "bgcolor": "white",
           "lakecolor": "white",
           "landcolor": "#E5ECF6",
           "showlakes": true,
           "showland": true,
           "subunitcolor": "white"
          },
          "hoverlabel": {
           "align": "left"
          },
          "hovermode": "closest",
          "mapbox": {
           "style": "light"
          },
          "paper_bgcolor": "white",
          "plot_bgcolor": "#E5ECF6",
          "polar": {
           "angularaxis": {
            "gridcolor": "white",
            "linecolor": "white",
            "ticks": ""
           },
           "bgcolor": "#E5ECF6",
           "radialaxis": {
            "gridcolor": "white",
            "linecolor": "white",
            "ticks": ""
           }
          },
          "scene": {
           "xaxis": {
            "backgroundcolor": "#E5ECF6",
            "gridcolor": "white",
            "gridwidth": 2,
            "linecolor": "white",
            "showbackground": true,
            "ticks": "",
            "zerolinecolor": "white"
           },
           "yaxis": {
            "backgroundcolor": "#E5ECF6",
            "gridcolor": "white",
            "gridwidth": 2,
            "linecolor": "white",
            "showbackground": true,
            "ticks": "",
            "zerolinecolor": "white"
           },
           "zaxis": {
            "backgroundcolor": "#E5ECF6",
            "gridcolor": "white",
            "gridwidth": 2,
            "linecolor": "white",
            "showbackground": true,
            "ticks": "",
            "zerolinecolor": "white"
           }
          },
          "shapedefaults": {
           "line": {
            "color": "#2a3f5f"
           }
          },
          "ternary": {
           "aaxis": {
            "gridcolor": "white",
            "linecolor": "white",
            "ticks": ""
           },
           "baxis": {
            "gridcolor": "white",
            "linecolor": "white",
            "ticks": ""
           },
           "bgcolor": "#E5ECF6",
           "caxis": {
            "gridcolor": "white",
            "linecolor": "white",
            "ticks": ""
           }
          },
          "title": {
           "x": 0.05
          },
          "xaxis": {
           "automargin": true,
           "gridcolor": "white",
           "linecolor": "white",
           "ticks": "",
           "title": {
            "standoff": 15
           },
           "zerolinecolor": "white",
           "zerolinewidth": 2
          },
          "yaxis": {
           "automargin": true,
           "gridcolor": "white",
           "linecolor": "white",
           "ticks": "",
           "title": {
            "standoff": 15
           },
           "zerolinecolor": "white",
           "zerolinewidth": 2
          }
         }
        },
        "title": {
         "text": "Lipid vs Ratios for ID: DIE, ID_2: DOD94, ID_3: F3"
        },
        "xaxis": {
         "anchor": "y",
         "domain": [
          0,
          1
         ],
         "title": {
          "text": "Lipid"
         }
        },
        "yaxis": {
         "anchor": "x",
         "domain": [
          0,
          1
         ],
         "title": {
          "text": "Ratios"
         }
        }
       }
      },
      "text/html": [
       "<div>                            <div id=\"aaedf078-f727-47fb-a6dc-60929aae0d6f\" class=\"plotly-graph-div\" style=\"height:525px; width:100%;\"></div>            <script type=\"text/javascript\">                require([\"plotly\"], function(Plotly) {                    window.PLOTLYENV=window.PLOTLYENV || {};                                    if (document.getElementById(\"aaedf078-f727-47fb-a6dc-60929aae0d6f\")) {                    Plotly.newPlot(                        \"aaedf078-f727-47fb-a6dc-60929aae0d6f\",                        [{\"customdata\": [[\"DOD94 WT F3 Diencephalon\"], [\"DOD94 WT F3 Diencephalon\"], [\"DOD94 WT F3 Diencephalon\"], [\"DOD94 WT F3 Diencephalon\"], [\"DOD94 WT F3 Diencephalon\"], [\"DOD94 WT F3 Diencephalon\"], [\"DOD94 WT F3 Diencephalon\"], [\"DOD94 WT F3 Diencephalon\"], [\"DOD94 WT F3 Diencephalon\"]], \"hovertemplate\": \"Person=Caitlin<br>Lipid=%{x}<br>Ratios=%{y}<br>Sample_ID=%{customdata[0]}<extra></extra>\", \"legendgroup\": \"Caitlin\", \"marker\": {\"color\": \"#636efa\", \"symbol\": \"circle\"}, \"mode\": \"markers\", \"name\": \"Caitlin\", \"orientation\": \"v\", \"showlegend\": true, \"type\": \"scatter\", \"x\": [\"TG 50:1\", \"TG 50:2\", \"TG 50:3\", \"TG 52:2\", \"TG 52:3\", \"TG 52:4\", \"TG 54:3\", \"TG 54:4\", \"TG 54:5\"], \"xaxis\": \"x\", \"y\": [6.675669783968783, null, null, 6.766047946743192, 3.8920671134014713, null, 5.852539429120896, 8.511117880855037, null], \"yaxis\": \"y\"}],                        {\"legend\": {\"title\": {\"text\": \"Person\"}, \"tracegroupgap\": 0}, \"template\": {\"data\": {\"bar\": [{\"error_x\": {\"color\": \"#2a3f5f\"}, \"error_y\": {\"color\": \"#2a3f5f\"}, \"marker\": {\"line\": {\"color\": \"#E5ECF6\", \"width\": 0.5}}, \"type\": \"bar\"}], \"barpolar\": [{\"marker\": {\"line\": {\"color\": \"#E5ECF6\", \"width\": 0.5}}, \"type\": \"barpolar\"}], \"carpet\": [{\"aaxis\": {\"endlinecolor\": \"#2a3f5f\", \"gridcolor\": \"white\", \"linecolor\": \"white\", \"minorgridcolor\": \"white\", \"startlinecolor\": \"#2a3f5f\"}, \"baxis\": {\"endlinecolor\": \"#2a3f5f\", \"gridcolor\": \"white\", \"linecolor\": \"white\", \"minorgridcolor\": \"white\", \"startlinecolor\": \"#2a3f5f\"}, \"type\": \"carpet\"}], \"choropleth\": [{\"colorbar\": {\"outlinewidth\": 0, \"ticks\": \"\"}, \"type\": \"choropleth\"}], \"contour\": [{\"colorbar\": {\"outlinewidth\": 0, \"ticks\": \"\"}, \"colorscale\": [[0.0, \"#0d0887\"], [0.1111111111111111, \"#46039f\"], [0.2222222222222222, \"#7201a8\"], [0.3333333333333333, \"#9c179e\"], [0.4444444444444444, \"#bd3786\"], [0.5555555555555556, \"#d8576b\"], [0.6666666666666666, \"#ed7953\"], [0.7777777777777778, \"#fb9f3a\"], [0.8888888888888888, \"#fdca26\"], [1.0, \"#f0f921\"]], \"type\": \"contour\"}], \"contourcarpet\": [{\"colorbar\": {\"outlinewidth\": 0, \"ticks\": \"\"}, \"type\": \"contourcarpet\"}], \"heatmap\": [{\"colorbar\": {\"outlinewidth\": 0, \"ticks\": \"\"}, \"colorscale\": [[0.0, \"#0d0887\"], [0.1111111111111111, \"#46039f\"], [0.2222222222222222, \"#7201a8\"], [0.3333333333333333, \"#9c179e\"], [0.4444444444444444, \"#bd3786\"], [0.5555555555555556, \"#d8576b\"], [0.6666666666666666, \"#ed7953\"], [0.7777777777777778, \"#fb9f3a\"], [0.8888888888888888, \"#fdca26\"], [1.0, \"#f0f921\"]], \"type\": \"heatmap\"}], \"heatmapgl\": [{\"colorbar\": {\"outlinewidth\": 0, \"ticks\": \"\"}, \"colorscale\": [[0.0, \"#0d0887\"], [0.1111111111111111, \"#46039f\"], [0.2222222222222222, \"#7201a8\"], [0.3333333333333333, \"#9c179e\"], [0.4444444444444444, \"#bd3786\"], [0.5555555555555556, \"#d8576b\"], [0.6666666666666666, \"#ed7953\"], [0.7777777777777778, \"#fb9f3a\"], [0.8888888888888888, \"#fdca26\"], [1.0, \"#f0f921\"]], \"type\": \"heatmapgl\"}], \"histogram\": [{\"marker\": {\"colorbar\": {\"outlinewidth\": 0, \"ticks\": \"\"}}, \"type\": \"histogram\"}], \"histogram2d\": [{\"colorbar\": {\"outlinewidth\": 0, \"ticks\": \"\"}, \"colorscale\": [[0.0, \"#0d0887\"], [0.1111111111111111, \"#46039f\"], [0.2222222222222222, \"#7201a8\"], [0.3333333333333333, \"#9c179e\"], [0.4444444444444444, \"#bd3786\"], [0.5555555555555556, \"#d8576b\"], [0.6666666666666666, \"#ed7953\"], [0.7777777777777778, \"#fb9f3a\"], [0.8888888888888888, \"#fdca26\"], [1.0, \"#f0f921\"]], \"type\": \"histogram2d\"}], \"histogram2dcontour\": [{\"colorbar\": {\"outlinewidth\": 0, \"ticks\": \"\"}, \"colorscale\": [[0.0, \"#0d0887\"], [0.1111111111111111, \"#46039f\"], [0.2222222222222222, \"#7201a8\"], [0.3333333333333333, \"#9c179e\"], [0.4444444444444444, \"#bd3786\"], [0.5555555555555556, \"#d8576b\"], [0.6666666666666666, \"#ed7953\"], [0.7777777777777778, \"#fb9f3a\"], [0.8888888888888888, \"#fdca26\"], [1.0, \"#f0f921\"]], \"type\": \"histogram2dcontour\"}], \"mesh3d\": [{\"colorbar\": {\"outlinewidth\": 0, \"ticks\": \"\"}, \"type\": \"mesh3d\"}], \"parcoords\": [{\"line\": {\"colorbar\": {\"outlinewidth\": 0, \"ticks\": \"\"}}, \"type\": \"parcoords\"}], \"pie\": [{\"automargin\": true, \"type\": \"pie\"}], \"scatter\": [{\"marker\": {\"colorbar\": {\"outlinewidth\": 0, \"ticks\": \"\"}}, \"type\": \"scatter\"}], \"scatter3d\": [{\"line\": {\"colorbar\": {\"outlinewidth\": 0, \"ticks\": \"\"}}, \"marker\": {\"colorbar\": {\"outlinewidth\": 0, \"ticks\": \"\"}}, \"type\": \"scatter3d\"}], \"scattercarpet\": [{\"marker\": {\"colorbar\": {\"outlinewidth\": 0, \"ticks\": \"\"}}, \"type\": \"scattercarpet\"}], \"scattergeo\": [{\"marker\": {\"colorbar\": {\"outlinewidth\": 0, \"ticks\": \"\"}}, \"type\": \"scattergeo\"}], \"scattergl\": [{\"marker\": {\"colorbar\": {\"outlinewidth\": 0, \"ticks\": \"\"}}, \"type\": \"scattergl\"}], \"scattermapbox\": [{\"marker\": {\"colorbar\": {\"outlinewidth\": 0, \"ticks\": \"\"}}, \"type\": \"scattermapbox\"}], \"scatterpolar\": [{\"marker\": {\"colorbar\": {\"outlinewidth\": 0, \"ticks\": \"\"}}, \"type\": \"scatterpolar\"}], \"scatterpolargl\": [{\"marker\": {\"colorbar\": {\"outlinewidth\": 0, \"ticks\": \"\"}}, \"type\": \"scatterpolargl\"}], \"scatterternary\": [{\"marker\": {\"colorbar\": {\"outlinewidth\": 0, \"ticks\": \"\"}}, \"type\": \"scatterternary\"}], \"surface\": [{\"colorbar\": {\"outlinewidth\": 0, \"ticks\": \"\"}, \"colorscale\": [[0.0, \"#0d0887\"], [0.1111111111111111, \"#46039f\"], [0.2222222222222222, \"#7201a8\"], [0.3333333333333333, \"#9c179e\"], [0.4444444444444444, \"#bd3786\"], [0.5555555555555556, \"#d8576b\"], [0.6666666666666666, \"#ed7953\"], [0.7777777777777778, \"#fb9f3a\"], [0.8888888888888888, \"#fdca26\"], [1.0, \"#f0f921\"]], \"type\": \"surface\"}], \"table\": [{\"cells\": {\"fill\": {\"color\": \"#EBF0F8\"}, \"line\": {\"color\": \"white\"}}, \"header\": {\"fill\": {\"color\": \"#C8D4E3\"}, \"line\": {\"color\": \"white\"}}, \"type\": \"table\"}]}, \"layout\": {\"annotationdefaults\": {\"arrowcolor\": \"#2a3f5f\", \"arrowhead\": 0, \"arrowwidth\": 1}, \"coloraxis\": {\"colorbar\": {\"outlinewidth\": 0, \"ticks\": \"\"}}, \"colorscale\": {\"diverging\": [[0, \"#8e0152\"], [0.1, \"#c51b7d\"], [0.2, \"#de77ae\"], [0.3, \"#f1b6da\"], [0.4, \"#fde0ef\"], [0.5, \"#f7f7f7\"], [0.6, \"#e6f5d0\"], [0.7, \"#b8e186\"], [0.8, \"#7fbc41\"], [0.9, \"#4d9221\"], [1, \"#276419\"]], \"sequential\": [[0.0, \"#0d0887\"], [0.1111111111111111, \"#46039f\"], [0.2222222222222222, \"#7201a8\"], [0.3333333333333333, \"#9c179e\"], [0.4444444444444444, \"#bd3786\"], [0.5555555555555556, \"#d8576b\"], [0.6666666666666666, \"#ed7953\"], [0.7777777777777778, \"#fb9f3a\"], [0.8888888888888888, \"#fdca26\"], [1.0, \"#f0f921\"]], \"sequentialminus\": [[0.0, \"#0d0887\"], [0.1111111111111111, \"#46039f\"], [0.2222222222222222, \"#7201a8\"], [0.3333333333333333, \"#9c179e\"], [0.4444444444444444, \"#bd3786\"], [0.5555555555555556, \"#d8576b\"], [0.6666666666666666, \"#ed7953\"], [0.7777777777777778, \"#fb9f3a\"], [0.8888888888888888, \"#fdca26\"], [1.0, \"#f0f921\"]]}, \"colorway\": [\"#636efa\", \"#EF553B\", \"#00cc96\", \"#ab63fa\", \"#FFA15A\", \"#19d3f3\", \"#FF6692\", \"#B6E880\", \"#FF97FF\", \"#FECB52\"], \"font\": {\"color\": \"#2a3f5f\"}, \"geo\": {\"bgcolor\": \"white\", \"lakecolor\": \"white\", \"landcolor\": \"#E5ECF6\", \"showlakes\": true, \"showland\": true, \"subunitcolor\": \"white\"}, \"hoverlabel\": {\"align\": \"left\"}, \"hovermode\": \"closest\", \"mapbox\": {\"style\": \"light\"}, \"paper_bgcolor\": \"white\", \"plot_bgcolor\": \"#E5ECF6\", \"polar\": {\"angularaxis\": {\"gridcolor\": \"white\", \"linecolor\": \"white\", \"ticks\": \"\"}, \"bgcolor\": \"#E5ECF6\", \"radialaxis\": {\"gridcolor\": \"white\", \"linecolor\": \"white\", \"ticks\": \"\"}}, \"scene\": {\"xaxis\": {\"backgroundcolor\": \"#E5ECF6\", \"gridcolor\": \"white\", \"gridwidth\": 2, \"linecolor\": \"white\", \"showbackground\": true, \"ticks\": \"\", \"zerolinecolor\": \"white\"}, \"yaxis\": {\"backgroundcolor\": \"#E5ECF6\", \"gridcolor\": \"white\", \"gridwidth\": 2, \"linecolor\": \"white\", \"showbackground\": true, \"ticks\": \"\", \"zerolinecolor\": \"white\"}, \"zaxis\": {\"backgroundcolor\": \"#E5ECF6\", \"gridcolor\": \"white\", \"gridwidth\": 2, \"linecolor\": \"white\", \"showbackground\": true, \"ticks\": \"\", \"zerolinecolor\": \"white\"}}, \"shapedefaults\": {\"line\": {\"color\": \"#2a3f5f\"}}, \"ternary\": {\"aaxis\": {\"gridcolor\": \"white\", \"linecolor\": \"white\", \"ticks\": \"\"}, \"baxis\": {\"gridcolor\": \"white\", \"linecolor\": \"white\", \"ticks\": \"\"}, \"bgcolor\": \"#E5ECF6\", \"caxis\": {\"gridcolor\": \"white\", \"linecolor\": \"white\", \"ticks\": \"\"}}, \"title\": {\"x\": 0.05}, \"xaxis\": {\"automargin\": true, \"gridcolor\": \"white\", \"linecolor\": \"white\", \"ticks\": \"\", \"title\": {\"standoff\": 15}, \"zerolinecolor\": \"white\", \"zerolinewidth\": 2}, \"yaxis\": {\"automargin\": true, \"gridcolor\": \"white\", \"linecolor\": \"white\", \"ticks\": \"\", \"title\": {\"standoff\": 15}, \"zerolinecolor\": \"white\", \"zerolinewidth\": 2}}}, \"title\": {\"text\": \"Lipid vs Ratios for ID: DIE, ID_2: DOD94, ID_3: F3\"}, \"xaxis\": {\"anchor\": \"y\", \"domain\": [0.0, 1.0], \"title\": {\"text\": \"Lipid\"}}, \"yaxis\": {\"anchor\": \"x\", \"domain\": [0.0, 1.0], \"title\": {\"text\": \"Ratios\"}}},                        {\"responsive\": true}                    ).then(function(){\n",
       "                            \n",
       "var gd = document.getElementById('aaedf078-f727-47fb-a6dc-60929aae0d6f');\n",
       "var x = new MutationObserver(function (mutations, observer) {{\n",
       "        var display = window.getComputedStyle(gd).display;\n",
       "        if (!display || display === 'none') {{\n",
       "            console.log([gd, 'removed!']);\n",
       "            Plotly.purge(gd);\n",
       "            observer.disconnect();\n",
       "        }}\n",
       "}});\n",
       "\n",
       "// Listen for the removal of the full notebook cells\n",
       "var notebookContainer = gd.closest('#notebook-container');\n",
       "if (notebookContainer) {{\n",
       "    x.observe(notebookContainer, {childList: true});\n",
       "}}\n",
       "\n",
       "// Listen for the clearing of the current output cell\n",
       "var outputEl = gd.closest('.output');\n",
       "if (outputEl) {{\n",
       "    x.observe(outputEl, {childList: true});\n",
       "}}\n",
       "\n",
       "                        })                };                });            </script>        </div>"
      ]
     },
     "metadata": {},
     "output_type": "display_data"
    },
    {
     "data": {
      "application/vnd.plotly.v1+json": {
       "config": {
        "plotlyServerURL": "https://plot.ly"
       },
       "data": [
        {
         "customdata": [
          [
           "FAD 184 F4 WT Cerebellum  "
          ],
          [
           "FAD 184 F4 WT Cerebellum  "
          ],
          [
           "FAD 184 F4 WT Cerebellum  "
          ],
          [
           "FAD 184 F4 WT Cerebellum  "
          ],
          [
           "FAD 184 F4 WT Cerebellum  "
          ],
          [
           "FAD 184 F4 WT Cerebellum  "
          ],
          [
           "FAD 184 F4 WT Cerebellum  "
          ],
          [
           "FAD 184 F4 WT Cerebellum  "
          ],
          [
           "FAD 184 F4 WT Cerebellum  "
          ]
         ],
         "hovertemplate": "Person=Caitlin<br>Lipid=%{x}<br>Ratios=%{y}<br>Sample_ID=%{customdata[0]}<extra></extra>",
         "legendgroup": "Caitlin",
         "marker": {
          "color": "#636efa",
          "symbol": "circle"
         },
         "mode": "markers",
         "name": "Caitlin",
         "orientation": "v",
         "showlegend": true,
         "type": "scatter",
         "x": [
          "TG 50:1",
          "TG 50:2",
          "TG 50:3",
          "TG 52:2",
          "TG 52:3",
          "TG 52:4",
          "TG 54:3",
          "TG 54:4",
          "TG 54:5"
         ],
         "xaxis": "x",
         "y": [
          3.49545456530909,
          null,
          null,
          6.406091338878414,
          6.942424349275127,
          null,
          7.4404292993334735,
          null,
          null
         ],
         "yaxis": "y"
        }
       ],
       "layout": {
        "legend": {
         "title": {
          "text": "Person"
         },
         "tracegroupgap": 0
        },
        "template": {
         "data": {
          "bar": [
           {
            "error_x": {
             "color": "#2a3f5f"
            },
            "error_y": {
             "color": "#2a3f5f"
            },
            "marker": {
             "line": {
              "color": "#E5ECF6",
              "width": 0.5
             }
            },
            "type": "bar"
           }
          ],
          "barpolar": [
           {
            "marker": {
             "line": {
              "color": "#E5ECF6",
              "width": 0.5
             }
            },
            "type": "barpolar"
           }
          ],
          "carpet": [
           {
            "aaxis": {
             "endlinecolor": "#2a3f5f",
             "gridcolor": "white",
             "linecolor": "white",
             "minorgridcolor": "white",
             "startlinecolor": "#2a3f5f"
            },
            "baxis": {
             "endlinecolor": "#2a3f5f",
             "gridcolor": "white",
             "linecolor": "white",
             "minorgridcolor": "white",
             "startlinecolor": "#2a3f5f"
            },
            "type": "carpet"
           }
          ],
          "choropleth": [
           {
            "colorbar": {
             "outlinewidth": 0,
             "ticks": ""
            },
            "type": "choropleth"
           }
          ],
          "contour": [
           {
            "colorbar": {
             "outlinewidth": 0,
             "ticks": ""
            },
            "colorscale": [
             [
              0,
              "#0d0887"
             ],
             [
              0.1111111111111111,
              "#46039f"
             ],
             [
              0.2222222222222222,
              "#7201a8"
             ],
             [
              0.3333333333333333,
              "#9c179e"
             ],
             [
              0.4444444444444444,
              "#bd3786"
             ],
             [
              0.5555555555555556,
              "#d8576b"
             ],
             [
              0.6666666666666666,
              "#ed7953"
             ],
             [
              0.7777777777777778,
              "#fb9f3a"
             ],
             [
              0.8888888888888888,
              "#fdca26"
             ],
             [
              1,
              "#f0f921"
             ]
            ],
            "type": "contour"
           }
          ],
          "contourcarpet": [
           {
            "colorbar": {
             "outlinewidth": 0,
             "ticks": ""
            },
            "type": "contourcarpet"
           }
          ],
          "heatmap": [
           {
            "colorbar": {
             "outlinewidth": 0,
             "ticks": ""
            },
            "colorscale": [
             [
              0,
              "#0d0887"
             ],
             [
              0.1111111111111111,
              "#46039f"
             ],
             [
              0.2222222222222222,
              "#7201a8"
             ],
             [
              0.3333333333333333,
              "#9c179e"
             ],
             [
              0.4444444444444444,
              "#bd3786"
             ],
             [
              0.5555555555555556,
              "#d8576b"
             ],
             [
              0.6666666666666666,
              "#ed7953"
             ],
             [
              0.7777777777777778,
              "#fb9f3a"
             ],
             [
              0.8888888888888888,
              "#fdca26"
             ],
             [
              1,
              "#f0f921"
             ]
            ],
            "type": "heatmap"
           }
          ],
          "heatmapgl": [
           {
            "colorbar": {
             "outlinewidth": 0,
             "ticks": ""
            },
            "colorscale": [
             [
              0,
              "#0d0887"
             ],
             [
              0.1111111111111111,
              "#46039f"
             ],
             [
              0.2222222222222222,
              "#7201a8"
             ],
             [
              0.3333333333333333,
              "#9c179e"
             ],
             [
              0.4444444444444444,
              "#bd3786"
             ],
             [
              0.5555555555555556,
              "#d8576b"
             ],
             [
              0.6666666666666666,
              "#ed7953"
             ],
             [
              0.7777777777777778,
              "#fb9f3a"
             ],
             [
              0.8888888888888888,
              "#fdca26"
             ],
             [
              1,
              "#f0f921"
             ]
            ],
            "type": "heatmapgl"
           }
          ],
          "histogram": [
           {
            "marker": {
             "colorbar": {
              "outlinewidth": 0,
              "ticks": ""
             }
            },
            "type": "histogram"
           }
          ],
          "histogram2d": [
           {
            "colorbar": {
             "outlinewidth": 0,
             "ticks": ""
            },
            "colorscale": [
             [
              0,
              "#0d0887"
             ],
             [
              0.1111111111111111,
              "#46039f"
             ],
             [
              0.2222222222222222,
              "#7201a8"
             ],
             [
              0.3333333333333333,
              "#9c179e"
             ],
             [
              0.4444444444444444,
              "#bd3786"
             ],
             [
              0.5555555555555556,
              "#d8576b"
             ],
             [
              0.6666666666666666,
              "#ed7953"
             ],
             [
              0.7777777777777778,
              "#fb9f3a"
             ],
             [
              0.8888888888888888,
              "#fdca26"
             ],
             [
              1,
              "#f0f921"
             ]
            ],
            "type": "histogram2d"
           }
          ],
          "histogram2dcontour": [
           {
            "colorbar": {
             "outlinewidth": 0,
             "ticks": ""
            },
            "colorscale": [
             [
              0,
              "#0d0887"
             ],
             [
              0.1111111111111111,
              "#46039f"
             ],
             [
              0.2222222222222222,
              "#7201a8"
             ],
             [
              0.3333333333333333,
              "#9c179e"
             ],
             [
              0.4444444444444444,
              "#bd3786"
             ],
             [
              0.5555555555555556,
              "#d8576b"
             ],
             [
              0.6666666666666666,
              "#ed7953"
             ],
             [
              0.7777777777777778,
              "#fb9f3a"
             ],
             [
              0.8888888888888888,
              "#fdca26"
             ],
             [
              1,
              "#f0f921"
             ]
            ],
            "type": "histogram2dcontour"
           }
          ],
          "mesh3d": [
           {
            "colorbar": {
             "outlinewidth": 0,
             "ticks": ""
            },
            "type": "mesh3d"
           }
          ],
          "parcoords": [
           {
            "line": {
             "colorbar": {
              "outlinewidth": 0,
              "ticks": ""
             }
            },
            "type": "parcoords"
           }
          ],
          "pie": [
           {
            "automargin": true,
            "type": "pie"
           }
          ],
          "scatter": [
           {
            "marker": {
             "colorbar": {
              "outlinewidth": 0,
              "ticks": ""
             }
            },
            "type": "scatter"
           }
          ],
          "scatter3d": [
           {
            "line": {
             "colorbar": {
              "outlinewidth": 0,
              "ticks": ""
             }
            },
            "marker": {
             "colorbar": {
              "outlinewidth": 0,
              "ticks": ""
             }
            },
            "type": "scatter3d"
           }
          ],
          "scattercarpet": [
           {
            "marker": {
             "colorbar": {
              "outlinewidth": 0,
              "ticks": ""
             }
            },
            "type": "scattercarpet"
           }
          ],
          "scattergeo": [
           {
            "marker": {
             "colorbar": {
              "outlinewidth": 0,
              "ticks": ""
             }
            },
            "type": "scattergeo"
           }
          ],
          "scattergl": [
           {
            "marker": {
             "colorbar": {
              "outlinewidth": 0,
              "ticks": ""
             }
            },
            "type": "scattergl"
           }
          ],
          "scattermapbox": [
           {
            "marker": {
             "colorbar": {
              "outlinewidth": 0,
              "ticks": ""
             }
            },
            "type": "scattermapbox"
           }
          ],
          "scatterpolar": [
           {
            "marker": {
             "colorbar": {
              "outlinewidth": 0,
              "ticks": ""
             }
            },
            "type": "scatterpolar"
           }
          ],
          "scatterpolargl": [
           {
            "marker": {
             "colorbar": {
              "outlinewidth": 0,
              "ticks": ""
             }
            },
            "type": "scatterpolargl"
           }
          ],
          "scatterternary": [
           {
            "marker": {
             "colorbar": {
              "outlinewidth": 0,
              "ticks": ""
             }
            },
            "type": "scatterternary"
           }
          ],
          "surface": [
           {
            "colorbar": {
             "outlinewidth": 0,
             "ticks": ""
            },
            "colorscale": [
             [
              0,
              "#0d0887"
             ],
             [
              0.1111111111111111,
              "#46039f"
             ],
             [
              0.2222222222222222,
              "#7201a8"
             ],
             [
              0.3333333333333333,
              "#9c179e"
             ],
             [
              0.4444444444444444,
              "#bd3786"
             ],
             [
              0.5555555555555556,
              "#d8576b"
             ],
             [
              0.6666666666666666,
              "#ed7953"
             ],
             [
              0.7777777777777778,
              "#fb9f3a"
             ],
             [
              0.8888888888888888,
              "#fdca26"
             ],
             [
              1,
              "#f0f921"
             ]
            ],
            "type": "surface"
           }
          ],
          "table": [
           {
            "cells": {
             "fill": {
              "color": "#EBF0F8"
             },
             "line": {
              "color": "white"
             }
            },
            "header": {
             "fill": {
              "color": "#C8D4E3"
             },
             "line": {
              "color": "white"
             }
            },
            "type": "table"
           }
          ]
         },
         "layout": {
          "annotationdefaults": {
           "arrowcolor": "#2a3f5f",
           "arrowhead": 0,
           "arrowwidth": 1
          },
          "coloraxis": {
           "colorbar": {
            "outlinewidth": 0,
            "ticks": ""
           }
          },
          "colorscale": {
           "diverging": [
            [
             0,
             "#8e0152"
            ],
            [
             0.1,
             "#c51b7d"
            ],
            [
             0.2,
             "#de77ae"
            ],
            [
             0.3,
             "#f1b6da"
            ],
            [
             0.4,
             "#fde0ef"
            ],
            [
             0.5,
             "#f7f7f7"
            ],
            [
             0.6,
             "#e6f5d0"
            ],
            [
             0.7,
             "#b8e186"
            ],
            [
             0.8,
             "#7fbc41"
            ],
            [
             0.9,
             "#4d9221"
            ],
            [
             1,
             "#276419"
            ]
           ],
           "sequential": [
            [
             0,
             "#0d0887"
            ],
            [
             0.1111111111111111,
             "#46039f"
            ],
            [
             0.2222222222222222,
             "#7201a8"
            ],
            [
             0.3333333333333333,
             "#9c179e"
            ],
            [
             0.4444444444444444,
             "#bd3786"
            ],
            [
             0.5555555555555556,
             "#d8576b"
            ],
            [
             0.6666666666666666,
             "#ed7953"
            ],
            [
             0.7777777777777778,
             "#fb9f3a"
            ],
            [
             0.8888888888888888,
             "#fdca26"
            ],
            [
             1,
             "#f0f921"
            ]
           ],
           "sequentialminus": [
            [
             0,
             "#0d0887"
            ],
            [
             0.1111111111111111,
             "#46039f"
            ],
            [
             0.2222222222222222,
             "#7201a8"
            ],
            [
             0.3333333333333333,
             "#9c179e"
            ],
            [
             0.4444444444444444,
             "#bd3786"
            ],
            [
             0.5555555555555556,
             "#d8576b"
            ],
            [
             0.6666666666666666,
             "#ed7953"
            ],
            [
             0.7777777777777778,
             "#fb9f3a"
            ],
            [
             0.8888888888888888,
             "#fdca26"
            ],
            [
             1,
             "#f0f921"
            ]
           ]
          },
          "colorway": [
           "#636efa",
           "#EF553B",
           "#00cc96",
           "#ab63fa",
           "#FFA15A",
           "#19d3f3",
           "#FF6692",
           "#B6E880",
           "#FF97FF",
           "#FECB52"
          ],
          "font": {
           "color": "#2a3f5f"
          },
          "geo": {
           "bgcolor": "white",
           "lakecolor": "white",
           "landcolor": "#E5ECF6",
           "showlakes": true,
           "showland": true,
           "subunitcolor": "white"
          },
          "hoverlabel": {
           "align": "left"
          },
          "hovermode": "closest",
          "mapbox": {
           "style": "light"
          },
          "paper_bgcolor": "white",
          "plot_bgcolor": "#E5ECF6",
          "polar": {
           "angularaxis": {
            "gridcolor": "white",
            "linecolor": "white",
            "ticks": ""
           },
           "bgcolor": "#E5ECF6",
           "radialaxis": {
            "gridcolor": "white",
            "linecolor": "white",
            "ticks": ""
           }
          },
          "scene": {
           "xaxis": {
            "backgroundcolor": "#E5ECF6",
            "gridcolor": "white",
            "gridwidth": 2,
            "linecolor": "white",
            "showbackground": true,
            "ticks": "",
            "zerolinecolor": "white"
           },
           "yaxis": {
            "backgroundcolor": "#E5ECF6",
            "gridcolor": "white",
            "gridwidth": 2,
            "linecolor": "white",
            "showbackground": true,
            "ticks": "",
            "zerolinecolor": "white"
           },
           "zaxis": {
            "backgroundcolor": "#E5ECF6",
            "gridcolor": "white",
            "gridwidth": 2,
            "linecolor": "white",
            "showbackground": true,
            "ticks": "",
            "zerolinecolor": "white"
           }
          },
          "shapedefaults": {
           "line": {
            "color": "#2a3f5f"
           }
          },
          "ternary": {
           "aaxis": {
            "gridcolor": "white",
            "linecolor": "white",
            "ticks": ""
           },
           "baxis": {
            "gridcolor": "white",
            "linecolor": "white",
            "ticks": ""
           },
           "bgcolor": "#E5ECF6",
           "caxis": {
            "gridcolor": "white",
            "linecolor": "white",
            "ticks": ""
           }
          },
          "title": {
           "x": 0.05
          },
          "xaxis": {
           "automargin": true,
           "gridcolor": "white",
           "linecolor": "white",
           "ticks": "",
           "title": {
            "standoff": 15
           },
           "zerolinecolor": "white",
           "zerolinewidth": 2
          },
          "yaxis": {
           "automargin": true,
           "gridcolor": "white",
           "linecolor": "white",
           "ticks": "",
           "title": {
            "standoff": 15
           },
           "zerolinecolor": "white",
           "zerolinewidth": 2
          }
         }
        },
        "title": {
         "text": "Lipid vs Ratios for ID: CER, ID_2: UNKNOWN, ID_3: F4"
        },
        "xaxis": {
         "anchor": "y",
         "domain": [
          0,
          1
         ],
         "title": {
          "text": "Lipid"
         }
        },
        "yaxis": {
         "anchor": "x",
         "domain": [
          0,
          1
         ],
         "title": {
          "text": "Ratios"
         }
        }
       }
      },
      "text/html": [
       "<div>                            <div id=\"22c759e0-fb3b-4753-861e-515383945b68\" class=\"plotly-graph-div\" style=\"height:525px; width:100%;\"></div>            <script type=\"text/javascript\">                require([\"plotly\"], function(Plotly) {                    window.PLOTLYENV=window.PLOTLYENV || {};                                    if (document.getElementById(\"22c759e0-fb3b-4753-861e-515383945b68\")) {                    Plotly.newPlot(                        \"22c759e0-fb3b-4753-861e-515383945b68\",                        [{\"customdata\": [[\"FAD 184 F4 WT Cerebellum  \"], [\"FAD 184 F4 WT Cerebellum  \"], [\"FAD 184 F4 WT Cerebellum  \"], [\"FAD 184 F4 WT Cerebellum  \"], [\"FAD 184 F4 WT Cerebellum  \"], [\"FAD 184 F4 WT Cerebellum  \"], [\"FAD 184 F4 WT Cerebellum  \"], [\"FAD 184 F4 WT Cerebellum  \"], [\"FAD 184 F4 WT Cerebellum  \"]], \"hovertemplate\": \"Person=Caitlin<br>Lipid=%{x}<br>Ratios=%{y}<br>Sample_ID=%{customdata[0]}<extra></extra>\", \"legendgroup\": \"Caitlin\", \"marker\": {\"color\": \"#636efa\", \"symbol\": \"circle\"}, \"mode\": \"markers\", \"name\": \"Caitlin\", \"orientation\": \"v\", \"showlegend\": true, \"type\": \"scatter\", \"x\": [\"TG 50:1\", \"TG 50:2\", \"TG 50:3\", \"TG 52:2\", \"TG 52:3\", \"TG 52:4\", \"TG 54:3\", \"TG 54:4\", \"TG 54:5\"], \"xaxis\": \"x\", \"y\": [3.49545456530909, null, null, 6.406091338878414, 6.942424349275127, null, 7.4404292993334735, null, null], \"yaxis\": \"y\"}],                        {\"legend\": {\"title\": {\"text\": \"Person\"}, \"tracegroupgap\": 0}, \"template\": {\"data\": {\"bar\": [{\"error_x\": {\"color\": \"#2a3f5f\"}, \"error_y\": {\"color\": \"#2a3f5f\"}, \"marker\": {\"line\": {\"color\": \"#E5ECF6\", \"width\": 0.5}}, \"type\": \"bar\"}], \"barpolar\": [{\"marker\": {\"line\": {\"color\": \"#E5ECF6\", \"width\": 0.5}}, \"type\": \"barpolar\"}], \"carpet\": [{\"aaxis\": {\"endlinecolor\": \"#2a3f5f\", \"gridcolor\": \"white\", \"linecolor\": \"white\", \"minorgridcolor\": \"white\", \"startlinecolor\": \"#2a3f5f\"}, \"baxis\": {\"endlinecolor\": \"#2a3f5f\", \"gridcolor\": \"white\", \"linecolor\": \"white\", \"minorgridcolor\": \"white\", \"startlinecolor\": \"#2a3f5f\"}, \"type\": \"carpet\"}], \"choropleth\": [{\"colorbar\": {\"outlinewidth\": 0, \"ticks\": \"\"}, \"type\": \"choropleth\"}], \"contour\": [{\"colorbar\": {\"outlinewidth\": 0, \"ticks\": \"\"}, \"colorscale\": [[0.0, \"#0d0887\"], [0.1111111111111111, \"#46039f\"], [0.2222222222222222, \"#7201a8\"], [0.3333333333333333, \"#9c179e\"], [0.4444444444444444, \"#bd3786\"], [0.5555555555555556, \"#d8576b\"], [0.6666666666666666, \"#ed7953\"], [0.7777777777777778, \"#fb9f3a\"], [0.8888888888888888, \"#fdca26\"], [1.0, \"#f0f921\"]], \"type\": \"contour\"}], \"contourcarpet\": [{\"colorbar\": {\"outlinewidth\": 0, \"ticks\": \"\"}, \"type\": \"contourcarpet\"}], \"heatmap\": [{\"colorbar\": {\"outlinewidth\": 0, \"ticks\": \"\"}, \"colorscale\": [[0.0, \"#0d0887\"], [0.1111111111111111, \"#46039f\"], [0.2222222222222222, \"#7201a8\"], [0.3333333333333333, \"#9c179e\"], [0.4444444444444444, \"#bd3786\"], [0.5555555555555556, \"#d8576b\"], [0.6666666666666666, \"#ed7953\"], [0.7777777777777778, \"#fb9f3a\"], [0.8888888888888888, \"#fdca26\"], [1.0, \"#f0f921\"]], \"type\": \"heatmap\"}], \"heatmapgl\": [{\"colorbar\": {\"outlinewidth\": 0, \"ticks\": \"\"}, \"colorscale\": [[0.0, \"#0d0887\"], [0.1111111111111111, \"#46039f\"], [0.2222222222222222, \"#7201a8\"], [0.3333333333333333, \"#9c179e\"], [0.4444444444444444, \"#bd3786\"], [0.5555555555555556, \"#d8576b\"], [0.6666666666666666, \"#ed7953\"], [0.7777777777777778, \"#fb9f3a\"], [0.8888888888888888, \"#fdca26\"], [1.0, \"#f0f921\"]], \"type\": \"heatmapgl\"}], \"histogram\": [{\"marker\": {\"colorbar\": {\"outlinewidth\": 0, \"ticks\": \"\"}}, \"type\": \"histogram\"}], \"histogram2d\": [{\"colorbar\": {\"outlinewidth\": 0, \"ticks\": \"\"}, \"colorscale\": [[0.0, \"#0d0887\"], [0.1111111111111111, \"#46039f\"], [0.2222222222222222, \"#7201a8\"], [0.3333333333333333, \"#9c179e\"], [0.4444444444444444, \"#bd3786\"], [0.5555555555555556, \"#d8576b\"], [0.6666666666666666, \"#ed7953\"], [0.7777777777777778, \"#fb9f3a\"], [0.8888888888888888, \"#fdca26\"], [1.0, \"#f0f921\"]], \"type\": \"histogram2d\"}], \"histogram2dcontour\": [{\"colorbar\": {\"outlinewidth\": 0, \"ticks\": \"\"}, \"colorscale\": [[0.0, \"#0d0887\"], [0.1111111111111111, \"#46039f\"], [0.2222222222222222, \"#7201a8\"], [0.3333333333333333, \"#9c179e\"], [0.4444444444444444, \"#bd3786\"], [0.5555555555555556, \"#d8576b\"], [0.6666666666666666, \"#ed7953\"], [0.7777777777777778, \"#fb9f3a\"], [0.8888888888888888, \"#fdca26\"], [1.0, \"#f0f921\"]], \"type\": \"histogram2dcontour\"}], \"mesh3d\": [{\"colorbar\": {\"outlinewidth\": 0, \"ticks\": \"\"}, \"type\": \"mesh3d\"}], \"parcoords\": [{\"line\": {\"colorbar\": {\"outlinewidth\": 0, \"ticks\": \"\"}}, \"type\": \"parcoords\"}], \"pie\": [{\"automargin\": true, \"type\": \"pie\"}], \"scatter\": [{\"marker\": {\"colorbar\": {\"outlinewidth\": 0, \"ticks\": \"\"}}, \"type\": \"scatter\"}], \"scatter3d\": [{\"line\": {\"colorbar\": {\"outlinewidth\": 0, \"ticks\": \"\"}}, \"marker\": {\"colorbar\": {\"outlinewidth\": 0, \"ticks\": \"\"}}, \"type\": \"scatter3d\"}], \"scattercarpet\": [{\"marker\": {\"colorbar\": {\"outlinewidth\": 0, \"ticks\": \"\"}}, \"type\": \"scattercarpet\"}], \"scattergeo\": [{\"marker\": {\"colorbar\": {\"outlinewidth\": 0, \"ticks\": \"\"}}, \"type\": \"scattergeo\"}], \"scattergl\": [{\"marker\": {\"colorbar\": {\"outlinewidth\": 0, \"ticks\": \"\"}}, \"type\": \"scattergl\"}], \"scattermapbox\": [{\"marker\": {\"colorbar\": {\"outlinewidth\": 0, \"ticks\": \"\"}}, \"type\": \"scattermapbox\"}], \"scatterpolar\": [{\"marker\": {\"colorbar\": {\"outlinewidth\": 0, \"ticks\": \"\"}}, \"type\": \"scatterpolar\"}], \"scatterpolargl\": [{\"marker\": {\"colorbar\": {\"outlinewidth\": 0, \"ticks\": \"\"}}, \"type\": \"scatterpolargl\"}], \"scatterternary\": [{\"marker\": {\"colorbar\": {\"outlinewidth\": 0, \"ticks\": \"\"}}, \"type\": \"scatterternary\"}], \"surface\": [{\"colorbar\": {\"outlinewidth\": 0, \"ticks\": \"\"}, \"colorscale\": [[0.0, \"#0d0887\"], [0.1111111111111111, \"#46039f\"], [0.2222222222222222, \"#7201a8\"], [0.3333333333333333, \"#9c179e\"], [0.4444444444444444, \"#bd3786\"], [0.5555555555555556, \"#d8576b\"], [0.6666666666666666, \"#ed7953\"], [0.7777777777777778, \"#fb9f3a\"], [0.8888888888888888, \"#fdca26\"], [1.0, \"#f0f921\"]], \"type\": \"surface\"}], \"table\": [{\"cells\": {\"fill\": {\"color\": \"#EBF0F8\"}, \"line\": {\"color\": \"white\"}}, \"header\": {\"fill\": {\"color\": \"#C8D4E3\"}, \"line\": {\"color\": \"white\"}}, \"type\": \"table\"}]}, \"layout\": {\"annotationdefaults\": {\"arrowcolor\": \"#2a3f5f\", \"arrowhead\": 0, \"arrowwidth\": 1}, \"coloraxis\": {\"colorbar\": {\"outlinewidth\": 0, \"ticks\": \"\"}}, \"colorscale\": {\"diverging\": [[0, \"#8e0152\"], [0.1, \"#c51b7d\"], [0.2, \"#de77ae\"], [0.3, \"#f1b6da\"], [0.4, \"#fde0ef\"], [0.5, \"#f7f7f7\"], [0.6, \"#e6f5d0\"], [0.7, \"#b8e186\"], [0.8, \"#7fbc41\"], [0.9, \"#4d9221\"], [1, \"#276419\"]], \"sequential\": [[0.0, \"#0d0887\"], [0.1111111111111111, \"#46039f\"], [0.2222222222222222, \"#7201a8\"], [0.3333333333333333, \"#9c179e\"], [0.4444444444444444, \"#bd3786\"], [0.5555555555555556, \"#d8576b\"], [0.6666666666666666, \"#ed7953\"], [0.7777777777777778, \"#fb9f3a\"], [0.8888888888888888, \"#fdca26\"], [1.0, \"#f0f921\"]], \"sequentialminus\": [[0.0, \"#0d0887\"], [0.1111111111111111, \"#46039f\"], [0.2222222222222222, \"#7201a8\"], [0.3333333333333333, \"#9c179e\"], [0.4444444444444444, \"#bd3786\"], [0.5555555555555556, \"#d8576b\"], [0.6666666666666666, \"#ed7953\"], [0.7777777777777778, \"#fb9f3a\"], [0.8888888888888888, \"#fdca26\"], [1.0, \"#f0f921\"]]}, \"colorway\": [\"#636efa\", \"#EF553B\", \"#00cc96\", \"#ab63fa\", \"#FFA15A\", \"#19d3f3\", \"#FF6692\", \"#B6E880\", \"#FF97FF\", \"#FECB52\"], \"font\": {\"color\": \"#2a3f5f\"}, \"geo\": {\"bgcolor\": \"white\", \"lakecolor\": \"white\", \"landcolor\": \"#E5ECF6\", \"showlakes\": true, \"showland\": true, \"subunitcolor\": \"white\"}, \"hoverlabel\": {\"align\": \"left\"}, \"hovermode\": \"closest\", \"mapbox\": {\"style\": \"light\"}, \"paper_bgcolor\": \"white\", \"plot_bgcolor\": \"#E5ECF6\", \"polar\": {\"angularaxis\": {\"gridcolor\": \"white\", \"linecolor\": \"white\", \"ticks\": \"\"}, \"bgcolor\": \"#E5ECF6\", \"radialaxis\": {\"gridcolor\": \"white\", \"linecolor\": \"white\", \"ticks\": \"\"}}, \"scene\": {\"xaxis\": {\"backgroundcolor\": \"#E5ECF6\", \"gridcolor\": \"white\", \"gridwidth\": 2, \"linecolor\": \"white\", \"showbackground\": true, \"ticks\": \"\", \"zerolinecolor\": \"white\"}, \"yaxis\": {\"backgroundcolor\": \"#E5ECF6\", \"gridcolor\": \"white\", \"gridwidth\": 2, \"linecolor\": \"white\", \"showbackground\": true, \"ticks\": \"\", \"zerolinecolor\": \"white\"}, \"zaxis\": {\"backgroundcolor\": \"#E5ECF6\", \"gridcolor\": \"white\", \"gridwidth\": 2, \"linecolor\": \"white\", \"showbackground\": true, \"ticks\": \"\", \"zerolinecolor\": \"white\"}}, \"shapedefaults\": {\"line\": {\"color\": \"#2a3f5f\"}}, \"ternary\": {\"aaxis\": {\"gridcolor\": \"white\", \"linecolor\": \"white\", \"ticks\": \"\"}, \"baxis\": {\"gridcolor\": \"white\", \"linecolor\": \"white\", \"ticks\": \"\"}, \"bgcolor\": \"#E5ECF6\", \"caxis\": {\"gridcolor\": \"white\", \"linecolor\": \"white\", \"ticks\": \"\"}}, \"title\": {\"x\": 0.05}, \"xaxis\": {\"automargin\": true, \"gridcolor\": \"white\", \"linecolor\": \"white\", \"ticks\": \"\", \"title\": {\"standoff\": 15}, \"zerolinecolor\": \"white\", \"zerolinewidth\": 2}, \"yaxis\": {\"automargin\": true, \"gridcolor\": \"white\", \"linecolor\": \"white\", \"ticks\": \"\", \"title\": {\"standoff\": 15}, \"zerolinecolor\": \"white\", \"zerolinewidth\": 2}}}, \"title\": {\"text\": \"Lipid vs Ratios for ID: CER, ID_2: UNKNOWN, ID_3: F4\"}, \"xaxis\": {\"anchor\": \"y\", \"domain\": [0.0, 1.0], \"title\": {\"text\": \"Lipid\"}}, \"yaxis\": {\"anchor\": \"x\", \"domain\": [0.0, 1.0], \"title\": {\"text\": \"Ratios\"}}},                        {\"responsive\": true}                    ).then(function(){\n",
       "                            \n",
       "var gd = document.getElementById('22c759e0-fb3b-4753-861e-515383945b68');\n",
       "var x = new MutationObserver(function (mutations, observer) {{\n",
       "        var display = window.getComputedStyle(gd).display;\n",
       "        if (!display || display === 'none') {{\n",
       "            console.log([gd, 'removed!']);\n",
       "            Plotly.purge(gd);\n",
       "            observer.disconnect();\n",
       "        }}\n",
       "}});\n",
       "\n",
       "// Listen for the removal of the full notebook cells\n",
       "var notebookContainer = gd.closest('#notebook-container');\n",
       "if (notebookContainer) {{\n",
       "    x.observe(notebookContainer, {childList: true});\n",
       "}}\n",
       "\n",
       "// Listen for the clearing of the current output cell\n",
       "var outputEl = gd.closest('.output');\n",
       "if (outputEl) {{\n",
       "    x.observe(outputEl, {childList: true});\n",
       "}}\n",
       "\n",
       "                        })                };                });            </script>        </div>"
      ]
     },
     "metadata": {},
     "output_type": "display_data"
    },
    {
     "data": {
      "application/vnd.plotly.v1+json": {
       "config": {
        "plotlyServerURL": "https://plot.ly"
       },
       "data": [
        {
         "customdata": [
          [
           "TailoredTAG18-1_O3off_Blank50ACN50IPA_v4_020723"
          ],
          [
           "TailoredTAG18-1_O3off_Blank50ACN50IPA_v4_020723"
          ],
          [
           "TailoredTAG18-1_O3off_Blank50ACN50IPA_v4_020723"
          ],
          [
           "TailoredTAG18-1_O3off_Blank50ACN50IPA_v4_020723"
          ],
          [
           "TailoredTAG18-1_O3off_Blank50ACN50IPA_v4_020723"
          ],
          [
           "TailoredTAG18-1_O3off_Blank50ACN50IPA_v4_020723"
          ],
          [
           "TailoredTAG18-1_O3off_Blank50ACN50IPA_v4_020723"
          ],
          [
           "TailoredTAG18-1_O3off_Blank50ACN50IPA_v4_020723"
          ],
          [
           "TailoredTAG18-1_O3off_Blank50ACN50IPA_v4_020723"
          ],
          [
           "TailoredTAG18-1_O3off_Blank50ACN50IPA_v4_020723"
          ],
          [
           "TailoredTAG18-1_O3off_Blank50ACN50IPA_v4_020723"
          ],
          [
           "TailoredTAG18-1_O3off_Blank50ACN50IPA_v4_020723"
          ],
          [
           "TailoredTAG18-1_O3off_Blank50ACN50IPA_v4_020723"
          ],
          [
           "TailoredTAG18-1_O3off_Blank50ACN50IPA_v4_020723"
          ],
          [
           "TailoredTAG18-1_O3off_Blank50ACN50IPA_v4_020723"
          ],
          [
           "TailoredTAG18-1_O3off_Blank50ACN50IPA_v4_020723"
          ],
          [
           "TailoredTAG18-1_O3off_Blank50ACN50IPA_v4_020723"
          ],
          [
           "TailoredTAG18-1_O3off_Blank50ACN50IPA_v4_020723"
          ],
          [
           "TailoredTAG18-1_O3off_Blank50ACN50IPA_v4_020723"
          ],
          [
           "TailoredTAG18-1_O3off_Blank50ACN50IPA_v4_020723"
          ],
          [
           "TailoredTAG18-1_O3off_Blank50ACN50IPA_v4_020723"
          ],
          [
           "TailoredTAG18-1_O3off_Blank50ACN50IPA_v4_020723"
          ],
          [
           "TailoredTAG18-1_O3off_Blank50ACN50IPA_v4_020723"
          ],
          [
           "TailoredTAG18-1_O3off_Blank50ACN50IPA_v4_020723"
          ],
          [
           "TailoredTAG18-1_O3off_Blank50ACN50IPA_v4_020723"
          ],
          [
           "TailoredTAG18-1_O3off_Blank50ACN50IPA_v4_020723"
          ],
          [
           "TailoredTAG18-1_O3off_Blank50ACN50IPA_v4_020723"
          ],
          [
           "TailoredTAG18-1_O3off_Blank50ACN50IPA_v4_020723"
          ],
          [
           "TailoredTAG18-1_O3off_Blank50ACN50IPA_v4_020723"
          ],
          [
           "TailoredTAG18-1_O3off_Blank50ACN50IPA_v4_020723"
          ],
          [
           "TailoredTAG18-1_O3off_Blank50ACN50IPA_v4_020723"
          ],
          [
           "TailoredTAG18-1_O3off_Blank50ACN50IPA_v4_020723"
          ],
          [
           "TailoredTAG18-1_O3off_CrudeCanola0.0005mgmL_020723"
          ],
          [
           "TailoredTAG18-1_O3off_CrudeCanola0.0005mgmL_020723"
          ],
          [
           "TailoredTAG18-1_O3off_CrudeCanola0.0005mgmL_020723"
          ],
          [
           "TailoredTAG18-1_O3off_CrudeCanola0.0005mgmL_020723"
          ],
          [
           "TailoredTAG18-1_O3off_CrudeCanola0.0005mgmL_020723"
          ],
          [
           "TailoredTAG18-1_O3off_CrudeCanola0.0005mgmL_020723"
          ],
          [
           "TailoredTAG18-1_O3off_CrudeCanola0.0005mgmL_020723"
          ],
          [
           "TailoredTAG18-1_O3off_CrudeCanola0.0005mgmL_020723"
          ],
          [
           "TailoredTAG18-1_O3off_CrudeCanola0.0005mgmL_020723"
          ],
          [
           "TailoredTAG18-1_O3off_CrudeCanola0.0005mgmL_020723"
          ],
          [
           "TailoredTAG18-1_O3off_CrudeCanola0.0005mgmL_020723"
          ],
          [
           "TailoredTAG18-1_O3off_CrudeCanola0.0005mgmL_020723"
          ],
          [
           "TailoredTAG18-1_O3off_CrudeCanola0.0005mgmL_020723"
          ],
          [
           "TailoredTAG18-1_O3off_CrudeCanola0.0005mgmL_020723"
          ],
          [
           "TailoredTAG18-1_O3off_CrudeCanola0.0005mgmL_020723"
          ],
          [
           "TailoredTAG18-1_O3off_CrudeCanola0.0005mgmL_020723"
          ],
          [
           "TailoredTAG18-1_O3off_CrudeCanola0.0005mgmL_020723"
          ],
          [
           "TailoredTAG18-1_O3off_CrudeCanola0.0005mgmL_020723"
          ],
          [
           "TailoredTAG18-1_O3off_CrudeCanola0.0005mgmL_020723"
          ],
          [
           "TailoredTAG18-1_O3off_CrudeCanola0.0005mgmL_020723"
          ],
          [
           "TailoredTAG18-1_O3off_CrudeCanola0.0005mgmL_020723"
          ],
          [
           "TailoredTAG18-1_O3off_CrudeCanola0.0005mgmL_020723"
          ],
          [
           "TailoredTAG18-1_O3off_CrudeCanola0.0005mgmL_020723"
          ],
          [
           "TailoredTAG18-1_O3off_CrudeCanola0.0005mgmL_020723"
          ],
          [
           "TailoredTAG18-1_O3off_CrudeCanola0.0005mgmL_020723"
          ],
          [
           "TailoredTAG18-1_O3off_CrudeCanola0.0005mgmL_020723"
          ],
          [
           "TailoredTAG18-1_O3off_CrudeCanola0.0005mgmL_020723"
          ],
          [
           "TailoredTAG18-1_O3off_CrudeCanola0.0005mgmL_020723"
          ],
          [
           "TailoredTAG18-1_O3off_CrudeCanola0.0005mgmL_020723"
          ],
          [
           "TailoredTAG18-1_O3off_CrudeCanola0.0005mgmL_020723"
          ],
          [
           "TailoredTAG18-1_O3off_CrudeCanola0.0005mgmL_020723"
          ],
          [
           "TailoredTAG18-1_O3off_CrudeCanola0.0005mgmL_020723"
          ],
          [
           "TailoredTAG18-1_O3off_DegummedCanola0.0005mgmL_020723"
          ],
          [
           "TailoredTAG18-1_O3off_DegummedCanola0.0005mgmL_020723"
          ],
          [
           "TailoredTAG18-1_O3off_DegummedCanola0.0005mgmL_020723"
          ],
          [
           "TailoredTAG18-1_O3off_DegummedCanola0.0005mgmL_020723"
          ],
          [
           "TailoredTAG18-1_O3off_DegummedCanola0.0005mgmL_020723"
          ],
          [
           "TailoredTAG18-1_O3off_DegummedCanola0.0005mgmL_020723"
          ],
          [
           "TailoredTAG18-1_O3off_DegummedCanola0.0005mgmL_020723"
          ],
          [
           "TailoredTAG18-1_O3off_DegummedCanola0.0005mgmL_020723"
          ],
          [
           "TailoredTAG18-1_O3off_DegummedCanola0.0005mgmL_020723"
          ],
          [
           "TailoredTAG18-1_O3off_DegummedCanola0.0005mgmL_020723"
          ],
          [
           "TailoredTAG18-1_O3off_DegummedCanola0.0005mgmL_020723"
          ],
          [
           "TailoredTAG18-1_O3off_DegummedCanola0.0005mgmL_020723"
          ],
          [
           "TailoredTAG18-1_O3off_DegummedCanola0.0005mgmL_020723"
          ],
          [
           "TailoredTAG18-1_O3off_DegummedCanola0.0005mgmL_020723"
          ],
          [
           "TailoredTAG18-1_O3off_DegummedCanola0.0005mgmL_020723"
          ],
          [
           "TailoredTAG18-1_O3off_DegummedCanola0.0005mgmL_020723"
          ],
          [
           "TailoredTAG18-1_O3off_DegummedCanola0.0005mgmL_020723"
          ],
          [
           "TailoredTAG18-1_O3off_DegummedCanola0.0005mgmL_020723"
          ],
          [
           "TailoredTAG18-1_O3off_DegummedCanola0.0005mgmL_020723"
          ],
          [
           "TailoredTAG18-1_O3off_DegummedCanola0.0005mgmL_020723"
          ],
          [
           "TailoredTAG18-1_O3off_DegummedCanola0.0005mgmL_020723"
          ],
          [
           "TailoredTAG18-1_O3off_DegummedCanola0.0005mgmL_020723"
          ],
          [
           "TailoredTAG18-1_O3off_DegummedCanola0.0005mgmL_020723"
          ],
          [
           "TailoredTAG18-1_O3off_DegummedCanola0.0005mgmL_020723"
          ],
          [
           "TailoredTAG18-1_O3off_DegummedCanola0.0005mgmL_020723"
          ],
          [
           "TailoredTAG18-1_O3off_DegummedCanola0.0005mgmL_020723"
          ],
          [
           "TailoredTAG18-1_O3off_DegummedCanola0.0005mgmL_020723"
          ],
          [
           "TailoredTAG18-1_O3off_DegummedCanola0.0005mgmL_020723"
          ],
          [
           "TailoredTAG18-1_O3off_DegummedCanola0.0005mgmL_020723"
          ],
          [
           "TailoredTAG18-1_O3off_DegummedCanola0.0005mgmL_020723"
          ],
          [
           "TailoredTAG18-1_O3off_DegummedCanola0.0005mgmL_020723"
          ],
          [
           "TailoredTAG18-1_O3off_DegummedCanola0.0005mgmL_020723"
          ],
          [
           "TailoredTAG18-1_O3off_RBDCanola0.0005mgmL_020723"
          ],
          [
           "TailoredTAG18-1_O3off_RBDCanola0.0005mgmL_020723"
          ],
          [
           "TailoredTAG18-1_O3off_RBDCanola0.0005mgmL_020723"
          ],
          [
           "TailoredTAG18-1_O3off_RBDCanola0.0005mgmL_020723"
          ],
          [
           "TailoredTAG18-1_O3off_RBDCanola0.0005mgmL_020723"
          ],
          [
           "TailoredTAG18-1_O3off_RBDCanola0.0005mgmL_020723"
          ],
          [
           "TailoredTAG18-1_O3off_RBDCanola0.0005mgmL_020723"
          ],
          [
           "TailoredTAG18-1_O3off_RBDCanola0.0005mgmL_020723"
          ],
          [
           "TailoredTAG18-1_O3off_RBDCanola0.0005mgmL_020723"
          ],
          [
           "TailoredTAG18-1_O3off_RBDCanola0.0005mgmL_020723"
          ],
          [
           "TailoredTAG18-1_O3off_RBDCanola0.0005mgmL_020723"
          ],
          [
           "TailoredTAG18-1_O3off_RBDCanola0.0005mgmL_020723"
          ],
          [
           "TailoredTAG18-1_O3off_RBDCanola0.0005mgmL_020723"
          ],
          [
           "TailoredTAG18-1_O3off_RBDCanola0.0005mgmL_020723"
          ],
          [
           "TailoredTAG18-1_O3off_RBDCanola0.0005mgmL_020723"
          ],
          [
           "TailoredTAG18-1_O3off_RBDCanola0.0005mgmL_020723"
          ],
          [
           "TailoredTAG18-1_O3off_RBDCanola0.0005mgmL_020723"
          ],
          [
           "TailoredTAG18-1_O3off_RBDCanola0.0005mgmL_020723"
          ],
          [
           "TailoredTAG18-1_O3off_RBDCanola0.0005mgmL_020723"
          ],
          [
           "TailoredTAG18-1_O3off_RBDCanola0.0005mgmL_020723"
          ],
          [
           "TailoredTAG18-1_O3off_RBDCanola0.0005mgmL_020723"
          ],
          [
           "TailoredTAG18-1_O3off_RBDCanola0.0005mgmL_020723"
          ],
          [
           "TailoredTAG18-1_O3off_RBDCanola0.0005mgmL_020723"
          ],
          [
           "TailoredTAG18-1_O3off_RBDCanola0.0005mgmL_020723"
          ],
          [
           "TailoredTAG18-1_O3off_RBDCanola0.0005mgmL_020723"
          ],
          [
           "TailoredTAG18-1_O3off_RBDCanola0.0005mgmL_020723"
          ],
          [
           "TailoredTAG18-1_O3off_RBDCanola0.0005mgmL_020723"
          ],
          [
           "TailoredTAG18-1_O3off_RBDCanola0.0005mgmL_020723"
          ],
          [
           "TailoredTAG18-1_O3off_RBDCanola0.0005mgmL_020723"
          ],
          [
           "TailoredTAG18-1_O3off_RBDCanola0.0005mgmL_020723"
          ],
          [
           "TailoredTAG18-1_O3off_RBDCanola0.0005mgmL_020723"
          ],
          [
           "TailoredTAG18-1_O3off_RBDCanola0.0005mgmL_020723"
          ],
          [
           "TailoredTAG18-1_O3on_Blank50ACN50IPA_v4_020723"
          ],
          [
           "TailoredTAG18-1_O3on_Blank50ACN50IPA_v4_020723"
          ],
          [
           "TailoredTAG18-1_O3on_Blank50ACN50IPA_v4_020723"
          ],
          [
           "TailoredTAG18-1_O3on_Blank50ACN50IPA_v4_020723"
          ],
          [
           "TailoredTAG18-1_O3on_Blank50ACN50IPA_v4_020723"
          ],
          [
           "TailoredTAG18-1_O3on_Blank50ACN50IPA_v4_020723"
          ],
          [
           "TailoredTAG18-1_O3on_Blank50ACN50IPA_v4_020723"
          ],
          [
           "TailoredTAG18-1_O3on_Blank50ACN50IPA_v4_020723"
          ],
          [
           "TailoredTAG18-1_O3on_Blank50ACN50IPA_v4_020723"
          ],
          [
           "TailoredTAG18-1_O3on_Blank50ACN50IPA_v4_020723"
          ],
          [
           "TailoredTAG18-1_O3on_Blank50ACN50IPA_v4_020723"
          ],
          [
           "TailoredTAG18-1_O3on_Blank50ACN50IPA_v4_020723"
          ],
          [
           "TailoredTAG18-1_O3on_Blank50ACN50IPA_v4_020723"
          ],
          [
           "TailoredTAG18-1_O3on_Blank50ACN50IPA_v4_020723"
          ],
          [
           "TailoredTAG18-1_O3on_Blank50ACN50IPA_v4_020723"
          ],
          [
           "TailoredTAG18-1_O3on_Blank50ACN50IPA_v4_020723"
          ],
          [
           "TailoredTAG18-1_O3on_Blank50ACN50IPA_v4_020723"
          ],
          [
           "TailoredTAG18-1_O3on_Blank50ACN50IPA_v4_020723"
          ],
          [
           "TailoredTAG18-1_O3on_Blank50ACN50IPA_v4_020723"
          ],
          [
           "TailoredTAG18-1_O3on_Blank50ACN50IPA_v4_020723"
          ],
          [
           "TailoredTAG18-1_O3on_Blank50ACN50IPA_v4_020723"
          ],
          [
           "TailoredTAG18-1_O3on_Blank50ACN50IPA_v4_020723"
          ],
          [
           "TailoredTAG18-1_O3on_Blank50ACN50IPA_v4_020723"
          ],
          [
           "TailoredTAG18-1_O3on_Blank50ACN50IPA_v4_020723"
          ],
          [
           "TailoredTAG18-1_O3on_Blank50ACN50IPA_v4_020723"
          ],
          [
           "TailoredTAG18-1_O3on_Blank50ACN50IPA_v4_020723"
          ],
          [
           "TailoredTAG18-1_O3on_Blank50ACN50IPA_v4_020723"
          ],
          [
           "TailoredTAG18-1_O3on_Blank50ACN50IPA_v4_020723"
          ],
          [
           "TailoredTAG18-1_O3on_Blank50ACN50IPA_v4_020723"
          ],
          [
           "TailoredTAG18-1_O3on_Blank50ACN50IPA_v4_020723"
          ],
          [
           "TailoredTAG18-1_O3on_Blank50ACN50IPA_v4_020723"
          ],
          [
           "TailoredTAG18-1_O3on_Blank50ACN50IPA_v4_020723"
          ],
          [
           "TailoredTAG18-1_O3on_CrudeCanola0.0005mgmL_020723"
          ],
          [
           "TailoredTAG18-1_O3on_CrudeCanola0.0005mgmL_020723"
          ],
          [
           "TailoredTAG18-1_O3on_CrudeCanola0.0005mgmL_020723"
          ],
          [
           "TailoredTAG18-1_O3on_CrudeCanola0.0005mgmL_020723"
          ],
          [
           "TailoredTAG18-1_O3on_CrudeCanola0.0005mgmL_020723"
          ],
          [
           "TailoredTAG18-1_O3on_CrudeCanola0.0005mgmL_020723"
          ],
          [
           "TailoredTAG18-1_O3on_CrudeCanola0.0005mgmL_020723"
          ],
          [
           "TailoredTAG18-1_O3on_CrudeCanola0.0005mgmL_020723"
          ],
          [
           "TailoredTAG18-1_O3on_CrudeCanola0.0005mgmL_020723"
          ],
          [
           "TailoredTAG18-1_O3on_CrudeCanola0.0005mgmL_020723"
          ],
          [
           "TailoredTAG18-1_O3on_CrudeCanola0.0005mgmL_020723"
          ],
          [
           "TailoredTAG18-1_O3on_CrudeCanola0.0005mgmL_020723"
          ],
          [
           "TailoredTAG18-1_O3on_CrudeCanola0.0005mgmL_020723"
          ],
          [
           "TailoredTAG18-1_O3on_CrudeCanola0.0005mgmL_020723"
          ],
          [
           "TailoredTAG18-1_O3on_CrudeCanola0.0005mgmL_020723"
          ],
          [
           "TailoredTAG18-1_O3on_CrudeCanola0.0005mgmL_020723"
          ],
          [
           "TailoredTAG18-1_O3on_CrudeCanola0.0005mgmL_020723"
          ],
          [
           "TailoredTAG18-1_O3on_CrudeCanola0.0005mgmL_020723"
          ],
          [
           "TailoredTAG18-1_O3on_CrudeCanola0.0005mgmL_020723"
          ],
          [
           "TailoredTAG18-1_O3on_CrudeCanola0.0005mgmL_020723"
          ],
          [
           "TailoredTAG18-1_O3on_CrudeCanola0.0005mgmL_020723"
          ],
          [
           "TailoredTAG18-1_O3on_CrudeCanola0.0005mgmL_020723"
          ],
          [
           "TailoredTAG18-1_O3on_CrudeCanola0.0005mgmL_020723"
          ],
          [
           "TailoredTAG18-1_O3on_CrudeCanola0.0005mgmL_020723"
          ],
          [
           "TailoredTAG18-1_O3on_CrudeCanola0.0005mgmL_020723"
          ],
          [
           "TailoredTAG18-1_O3on_CrudeCanola0.0005mgmL_020723"
          ],
          [
           "TailoredTAG18-1_O3on_CrudeCanola0.0005mgmL_020723"
          ],
          [
           "TailoredTAG18-1_O3on_CrudeCanola0.0005mgmL_020723"
          ],
          [
           "TailoredTAG18-1_O3on_CrudeCanola0.0005mgmL_020723"
          ],
          [
           "TailoredTAG18-1_O3on_CrudeCanola0.0005mgmL_020723"
          ],
          [
           "TailoredTAG18-1_O3on_CrudeCanola0.0005mgmL_020723"
          ],
          [
           "TailoredTAG18-1_O3on_CrudeCanola0.0005mgmL_020723"
          ],
          [
           "TailoredTAG18-1_O3on_DegummedCanola0.0005mgmL_020723"
          ],
          [
           "TailoredTAG18-1_O3on_DegummedCanola0.0005mgmL_020723"
          ],
          [
           "TailoredTAG18-1_O3on_DegummedCanola0.0005mgmL_020723"
          ],
          [
           "TailoredTAG18-1_O3on_DegummedCanola0.0005mgmL_020723"
          ],
          [
           "TailoredTAG18-1_O3on_DegummedCanola0.0005mgmL_020723"
          ],
          [
           "TailoredTAG18-1_O3on_DegummedCanola0.0005mgmL_020723"
          ],
          [
           "TailoredTAG18-1_O3on_DegummedCanola0.0005mgmL_020723"
          ],
          [
           "TailoredTAG18-1_O3on_DegummedCanola0.0005mgmL_020723"
          ],
          [
           "TailoredTAG18-1_O3on_DegummedCanola0.0005mgmL_020723"
          ],
          [
           "TailoredTAG18-1_O3on_DegummedCanola0.0005mgmL_020723"
          ],
          [
           "TailoredTAG18-1_O3on_DegummedCanola0.0005mgmL_020723"
          ],
          [
           "TailoredTAG18-1_O3on_DegummedCanola0.0005mgmL_020723"
          ],
          [
           "TailoredTAG18-1_O3on_DegummedCanola0.0005mgmL_020723"
          ],
          [
           "TailoredTAG18-1_O3on_DegummedCanola0.0005mgmL_020723"
          ],
          [
           "TailoredTAG18-1_O3on_DegummedCanola0.0005mgmL_020723"
          ],
          [
           "TailoredTAG18-1_O3on_DegummedCanola0.0005mgmL_020723"
          ],
          [
           "TailoredTAG18-1_O3on_DegummedCanola0.0005mgmL_020723"
          ],
          [
           "TailoredTAG18-1_O3on_DegummedCanola0.0005mgmL_020723"
          ],
          [
           "TailoredTAG18-1_O3on_DegummedCanola0.0005mgmL_020723"
          ],
          [
           "TailoredTAG18-1_O3on_DegummedCanola0.0005mgmL_020723"
          ],
          [
           "TailoredTAG18-1_O3on_DegummedCanola0.0005mgmL_020723"
          ],
          [
           "TailoredTAG18-1_O3on_DegummedCanola0.0005mgmL_020723"
          ],
          [
           "TailoredTAG18-1_O3on_DegummedCanola0.0005mgmL_020723"
          ],
          [
           "TailoredTAG18-1_O3on_DegummedCanola0.0005mgmL_020723"
          ],
          [
           "TailoredTAG18-1_O3on_DegummedCanola0.0005mgmL_020723"
          ],
          [
           "TailoredTAG18-1_O3on_DegummedCanola0.0005mgmL_020723"
          ],
          [
           "TailoredTAG18-1_O3on_DegummedCanola0.0005mgmL_020723"
          ],
          [
           "TailoredTAG18-1_O3on_DegummedCanola0.0005mgmL_020723"
          ],
          [
           "TailoredTAG18-1_O3on_DegummedCanola0.0005mgmL_020723"
          ],
          [
           "TailoredTAG18-1_O3on_DegummedCanola0.0005mgmL_020723"
          ],
          [
           "TailoredTAG18-1_O3on_DegummedCanola0.0005mgmL_020723"
          ],
          [
           "TailoredTAG18-1_O3on_DegummedCanola0.0005mgmL_020723"
          ],
          [
           "TailoredTAG18-1_O3on_RBDCanola0.0005mgmL_020723"
          ],
          [
           "TailoredTAG18-1_O3on_RBDCanola0.0005mgmL_020723"
          ],
          [
           "TailoredTAG18-1_O3on_RBDCanola0.0005mgmL_020723"
          ],
          [
           "TailoredTAG18-1_O3on_RBDCanola0.0005mgmL_020723"
          ],
          [
           "TailoredTAG18-1_O3on_RBDCanola0.0005mgmL_020723"
          ],
          [
           "TailoredTAG18-1_O3on_RBDCanola0.0005mgmL_020723"
          ],
          [
           "TailoredTAG18-1_O3on_RBDCanola0.0005mgmL_020723"
          ],
          [
           "TailoredTAG18-1_O3on_RBDCanola0.0005mgmL_020723"
          ],
          [
           "TailoredTAG18-1_O3on_RBDCanola0.0005mgmL_020723"
          ],
          [
           "TailoredTAG18-1_O3on_RBDCanola0.0005mgmL_020723"
          ],
          [
           "TailoredTAG18-1_O3on_RBDCanola0.0005mgmL_020723"
          ],
          [
           "TailoredTAG18-1_O3on_RBDCanola0.0005mgmL_020723"
          ],
          [
           "TailoredTAG18-1_O3on_RBDCanola0.0005mgmL_020723"
          ],
          [
           "TailoredTAG18-1_O3on_RBDCanola0.0005mgmL_020723"
          ],
          [
           "TailoredTAG18-1_O3on_RBDCanola0.0005mgmL_020723"
          ],
          [
           "TailoredTAG18-1_O3on_RBDCanola0.0005mgmL_020723"
          ],
          [
           "TailoredTAG18-1_O3on_RBDCanola0.0005mgmL_020723"
          ],
          [
           "TailoredTAG18-1_O3on_RBDCanola0.0005mgmL_020723"
          ],
          [
           "TailoredTAG18-1_O3on_RBDCanola0.0005mgmL_020723"
          ],
          [
           "TailoredTAG18-1_O3on_RBDCanola0.0005mgmL_020723"
          ],
          [
           "TailoredTAG18-1_O3on_RBDCanola0.0005mgmL_020723"
          ],
          [
           "TailoredTAG18-1_O3on_RBDCanola0.0005mgmL_020723"
          ],
          [
           "TailoredTAG18-1_O3on_RBDCanola0.0005mgmL_020723"
          ],
          [
           "TailoredTAG18-1_O3on_RBDCanola0.0005mgmL_020723"
          ],
          [
           "TailoredTAG18-1_O3on_RBDCanola0.0005mgmL_020723"
          ],
          [
           "TailoredTAG18-1_O3on_RBDCanola0.0005mgmL_020723"
          ],
          [
           "TailoredTAG18-1_O3on_RBDCanola0.0005mgmL_020723"
          ],
          [
           "TailoredTAG18-1_O3on_RBDCanola0.0005mgmL_020723"
          ],
          [
           "TailoredTAG18-1_O3on_RBDCanola0.0005mgmL_020723"
          ],
          [
           "TailoredTAG18-1_O3on_RBDCanola0.0005mgmL_020723"
          ],
          [
           "TailoredTAG18-1_O3on_RBDCanola0.0005mgmL_020723"
          ],
          [
           "TailoredTAG18-1_O3on_RBDCanola0.0005mgmL_020723"
          ]
         ],
         "hovertemplate": "Person=Me<br>Lipid=%{x}<br>Ratios=%{y}<br>Sample_ID=%{customdata[0]}<extra></extra>",
         "legendgroup": "Me",
         "marker": {
          "color": "#636efa",
          "symbol": "circle"
         },
         "mode": "markers",
         "name": "Me",
         "orientation": "v",
         "showlegend": true,
         "type": "scatter",
         "x": [
          "TG 52:2",
          "TG 52:2",
          "TG 52:2",
          "TG 52:3",
          "TG 52:3",
          "TG 52:3",
          "TG 53:0",
          "TG 53:0",
          "TG 53:0",
          "TG 54:2",
          "TG 54:2",
          "TG 54:2",
          "TG 54:3",
          "TG 54:3",
          "TG 54:3",
          "TG 54:4",
          "TG 54:4",
          "TG 54:4",
          "TG 52:4",
          "TG 52:4",
          "TG 52:4",
          "TG 52:5",
          "TG 52:5",
          "TG 52:5",
          "TG 52:6",
          "TG 52:6",
          "TG 54:5",
          "TG 54:5",
          "TG 54:5",
          "TG 54:6",
          "TG 54:6",
          "TG 54:6",
          "TG 52:2",
          "TG 52:2",
          "TG 52:2",
          "TG 52:3",
          "TG 52:3",
          "TG 52:3",
          "TG 53:0",
          "TG 53:0",
          "TG 53:0",
          "TG 54:2",
          "TG 54:2",
          "TG 54:2",
          "TG 54:3",
          "TG 54:3",
          "TG 54:3",
          "TG 54:4",
          "TG 54:4",
          "TG 54:4",
          "TG 52:4",
          "TG 52:4",
          "TG 52:4",
          "TG 52:5",
          "TG 52:5",
          "TG 52:5",
          "TG 52:6",
          "TG 52:6",
          "TG 54:5",
          "TG 54:5",
          "TG 54:5",
          "TG 54:6",
          "TG 54:6",
          "TG 54:6",
          "TG 52:2",
          "TG 52:2",
          "TG 52:2",
          "TG 52:3",
          "TG 52:3",
          "TG 52:3",
          "TG 53:0",
          "TG 53:0",
          "TG 53:0",
          "TG 54:2",
          "TG 54:2",
          "TG 54:2",
          "TG 54:3",
          "TG 54:3",
          "TG 54:3",
          "TG 54:4",
          "TG 54:4",
          "TG 54:4",
          "TG 52:4",
          "TG 52:4",
          "TG 52:4",
          "TG 52:5",
          "TG 52:5",
          "TG 52:5",
          "TG 52:6",
          "TG 52:6",
          "TG 54:5",
          "TG 54:5",
          "TG 54:5",
          "TG 54:6",
          "TG 54:6",
          "TG 54:6",
          "TG 52:2",
          "TG 52:2",
          "TG 52:2",
          "TG 52:3",
          "TG 52:3",
          "TG 52:3",
          "TG 53:0",
          "TG 53:0",
          "TG 53:0",
          "TG 54:2",
          "TG 54:2",
          "TG 54:2",
          "TG 54:3",
          "TG 54:3",
          "TG 54:3",
          "TG 54:4",
          "TG 54:4",
          "TG 54:4",
          "TG 52:4",
          "TG 52:4",
          "TG 52:4",
          "TG 52:5",
          "TG 52:5",
          "TG 52:5",
          "TG 52:6",
          "TG 52:6",
          "TG 54:5",
          "TG 54:5",
          "TG 54:5",
          "TG 54:6",
          "TG 54:6",
          "TG 54:6",
          "TG 52:2",
          "TG 52:2",
          "TG 52:2",
          "TG 52:3",
          "TG 52:3",
          "TG 52:3",
          "TG 53:0",
          "TG 53:0",
          "TG 53:0",
          "TG 54:2",
          "TG 54:2",
          "TG 54:2",
          "TG 54:3",
          "TG 54:3",
          "TG 54:3",
          "TG 54:4",
          "TG 54:4",
          "TG 54:4",
          "TG 52:4",
          "TG 52:4",
          "TG 52:4",
          "TG 52:5",
          "TG 52:5",
          "TG 52:5",
          "TG 52:6",
          "TG 52:6",
          "TG 54:5",
          "TG 54:5",
          "TG 54:5",
          "TG 54:6",
          "TG 54:6",
          "TG 54:6",
          "TG 52:2",
          "TG 52:2",
          "TG 52:2",
          "TG 52:3",
          "TG 52:3",
          "TG 52:3",
          "TG 53:0",
          "TG 53:0",
          "TG 53:0",
          "TG 54:2",
          "TG 54:2",
          "TG 54:2",
          "TG 54:3",
          "TG 54:3",
          "TG 54:3",
          "TG 54:4",
          "TG 54:4",
          "TG 54:4",
          "TG 52:4",
          "TG 52:4",
          "TG 52:4",
          "TG 52:5",
          "TG 52:5",
          "TG 52:5",
          "TG 52:6",
          "TG 52:6",
          "TG 54:5",
          "TG 54:5",
          "TG 54:5",
          "TG 54:6",
          "TG 54:6",
          "TG 54:6",
          "TG 52:2",
          "TG 52:2",
          "TG 52:2",
          "TG 52:3",
          "TG 52:3",
          "TG 52:3",
          "TG 53:0",
          "TG 53:0",
          "TG 53:0",
          "TG 54:2",
          "TG 54:2",
          "TG 54:2",
          "TG 54:3",
          "TG 54:3",
          "TG 54:3",
          "TG 54:4",
          "TG 54:4",
          "TG 54:4",
          "TG 52:4",
          "TG 52:4",
          "TG 52:4",
          "TG 52:5",
          "TG 52:5",
          "TG 52:5",
          "TG 52:6",
          "TG 52:6",
          "TG 54:5",
          "TG 54:5",
          "TG 54:5",
          "TG 54:6",
          "TG 54:6",
          "TG 54:6",
          "TG 52:2",
          "TG 52:2",
          "TG 52:2",
          "TG 52:3",
          "TG 52:3",
          "TG 52:3",
          "TG 53:0",
          "TG 53:0",
          "TG 53:0",
          "TG 54:2",
          "TG 54:2",
          "TG 54:2",
          "TG 54:3",
          "TG 54:3",
          "TG 54:3",
          "TG 54:4",
          "TG 54:4",
          "TG 54:4",
          "TG 52:4",
          "TG 52:4",
          "TG 52:4",
          "TG 52:5",
          "TG 52:5",
          "TG 52:5",
          "TG 52:6",
          "TG 52:6",
          "TG 54:5",
          "TG 54:5",
          "TG 54:5",
          "TG 54:6",
          "TG 54:6",
          "TG 54:6"
         ],
         "xaxis": "x",
         "y": [
          1.2878692646134506,
          null,
          null,
          1.7647058823529411,
          null,
          null,
          1.4452631578947368,
          null,
          null,
          1.587708066581306,
          null,
          null,
          1.3487789605510332,
          null,
          null,
          1.5936030103480714,
          null,
          null,
          1.5395513577331759,
          null,
          null,
          1.7980769230769231,
          null,
          null,
          null,
          null,
          1.802375296912114,
          null,
          null,
          1.6570625439212932,
          null,
          null,
          0.8010840108401084,
          null,
          null,
          0.8321891685736079,
          null,
          null,
          0.8784403669724771,
          null,
          null,
          1.2611073137388926,
          null,
          null,
          1.7137254901960783,
          null,
          null,
          1.3308687615526802,
          null,
          null,
          0.9453703703703704,
          null,
          null,
          0.6743455497382199,
          null,
          null,
          null,
          null,
          3.7934458788480634,
          null,
          null,
          1.3337110481586403,
          null,
          null,
          1.3872549019607843,
          null,
          null,
          0.94316052467208,
          null,
          null,
          1.1987647389107243,
          null,
          null,
          0.5679012345679012,
          null,
          null,
          1.5794743429286608,
          null,
          null,
          1.3756063756063757,
          null,
          null,
          1.8189300411522633,
          null,
          null,
          1.2634238787113077,
          null,
          null,
          null,
          null,
          0.938908659549229,
          null,
          null,
          3.5097847358121332,
          null,
          null,
          0.8253105590062112,
          null,
          null,
          0.9343971631205674,
          null,
          null,
          0.9361888111888111,
          null,
          null,
          0.09917609917609918,
          null,
          null,
          0.602135231316726,
          null,
          null,
          1.66914749661705,
          null,
          null,
          0.5792460478313741,
          null,
          null,
          1.267524115755627,
          null,
          null,
          null,
          null,
          1.1570810142238714,
          null,
          null,
          2.081818181818182,
          null,
          null,
          0.9116792562463684,
          null,
          null,
          1.0264227642276422,
          null,
          null,
          2.4557291666666665,
          null,
          null,
          0.12713304277166285,
          null,
          null,
          0.7576028622540251,
          null,
          null,
          1.2766484878532474,
          null,
          null,
          0.7029360967184801,
          null,
          null,
          0.6274121721919842,
          null,
          null,
          null,
          null,
          1.3278580814717478,
          null,
          null,
          0.9428918590522479,
          null,
          null,
          0.2727012317387568,
          null,
          null,
          2.2414910858995136,
          null,
          null,
          13.294213973799126,
          null,
          null,
          0.06865965188317436,
          null,
          null,
          0.018114825090647525,
          null,
          null,
          0.06445569418423885,
          null,
          null,
          0.6273015873015872,
          null,
          null,
          1.0650887573964498,
          null,
          null,
          null,
          null,
          0.5682285244554048,
          null,
          null,
          6.7584118438761775,
          null,
          null,
          3.0925666199158486,
          null,
          null,
          0.5693827160493827,
          null,
          null,
          0.8494492044063647,
          null,
          null,
          0.6025708289611752,
          null,
          null,
          0.06549159120310478,
          null,
          null,
          0.039615553495633504,
          null,
          null,
          2.4899894625922023,
          null,
          null,
          0.39183673469387753,
          null,
          null,
          null,
          null,
          0.210464662241312,
          null,
          null,
          2.0660377358490565,
          null,
          null,
          9.647686832740213,
          null,
          null,
          2.8586345381526104,
          null,
          null,
          1.9625641025641025,
          null,
          null,
          0.09338208703339093,
          null,
          null,
          0.6353661648379688,
          null,
          null,
          0.033654735173689075,
          null,
          null,
          0.7244897959183674,
          null,
          null,
          1.6098360655737705,
          null,
          null,
          null,
          null,
          0.03208157662515933,
          null,
          null,
          0.15790106389373085,
          null,
          null
         ],
         "yaxis": "y"
        }
       ],
       "layout": {
        "legend": {
         "title": {
          "text": "Person"
         },
         "tracegroupgap": 0
        },
        "template": {
         "data": {
          "bar": [
           {
            "error_x": {
             "color": "#2a3f5f"
            },
            "error_y": {
             "color": "#2a3f5f"
            },
            "marker": {
             "line": {
              "color": "#E5ECF6",
              "width": 0.5
             }
            },
            "type": "bar"
           }
          ],
          "barpolar": [
           {
            "marker": {
             "line": {
              "color": "#E5ECF6",
              "width": 0.5
             }
            },
            "type": "barpolar"
           }
          ],
          "carpet": [
           {
            "aaxis": {
             "endlinecolor": "#2a3f5f",
             "gridcolor": "white",
             "linecolor": "white",
             "minorgridcolor": "white",
             "startlinecolor": "#2a3f5f"
            },
            "baxis": {
             "endlinecolor": "#2a3f5f",
             "gridcolor": "white",
             "linecolor": "white",
             "minorgridcolor": "white",
             "startlinecolor": "#2a3f5f"
            },
            "type": "carpet"
           }
          ],
          "choropleth": [
           {
            "colorbar": {
             "outlinewidth": 0,
             "ticks": ""
            },
            "type": "choropleth"
           }
          ],
          "contour": [
           {
            "colorbar": {
             "outlinewidth": 0,
             "ticks": ""
            },
            "colorscale": [
             [
              0,
              "#0d0887"
             ],
             [
              0.1111111111111111,
              "#46039f"
             ],
             [
              0.2222222222222222,
              "#7201a8"
             ],
             [
              0.3333333333333333,
              "#9c179e"
             ],
             [
              0.4444444444444444,
              "#bd3786"
             ],
             [
              0.5555555555555556,
              "#d8576b"
             ],
             [
              0.6666666666666666,
              "#ed7953"
             ],
             [
              0.7777777777777778,
              "#fb9f3a"
             ],
             [
              0.8888888888888888,
              "#fdca26"
             ],
             [
              1,
              "#f0f921"
             ]
            ],
            "type": "contour"
           }
          ],
          "contourcarpet": [
           {
            "colorbar": {
             "outlinewidth": 0,
             "ticks": ""
            },
            "type": "contourcarpet"
           }
          ],
          "heatmap": [
           {
            "colorbar": {
             "outlinewidth": 0,
             "ticks": ""
            },
            "colorscale": [
             [
              0,
              "#0d0887"
             ],
             [
              0.1111111111111111,
              "#46039f"
             ],
             [
              0.2222222222222222,
              "#7201a8"
             ],
             [
              0.3333333333333333,
              "#9c179e"
             ],
             [
              0.4444444444444444,
              "#bd3786"
             ],
             [
              0.5555555555555556,
              "#d8576b"
             ],
             [
              0.6666666666666666,
              "#ed7953"
             ],
             [
              0.7777777777777778,
              "#fb9f3a"
             ],
             [
              0.8888888888888888,
              "#fdca26"
             ],
             [
              1,
              "#f0f921"
             ]
            ],
            "type": "heatmap"
           }
          ],
          "heatmapgl": [
           {
            "colorbar": {
             "outlinewidth": 0,
             "ticks": ""
            },
            "colorscale": [
             [
              0,
              "#0d0887"
             ],
             [
              0.1111111111111111,
              "#46039f"
             ],
             [
              0.2222222222222222,
              "#7201a8"
             ],
             [
              0.3333333333333333,
              "#9c179e"
             ],
             [
              0.4444444444444444,
              "#bd3786"
             ],
             [
              0.5555555555555556,
              "#d8576b"
             ],
             [
              0.6666666666666666,
              "#ed7953"
             ],
             [
              0.7777777777777778,
              "#fb9f3a"
             ],
             [
              0.8888888888888888,
              "#fdca26"
             ],
             [
              1,
              "#f0f921"
             ]
            ],
            "type": "heatmapgl"
           }
          ],
          "histogram": [
           {
            "marker": {
             "colorbar": {
              "outlinewidth": 0,
              "ticks": ""
             }
            },
            "type": "histogram"
           }
          ],
          "histogram2d": [
           {
            "colorbar": {
             "outlinewidth": 0,
             "ticks": ""
            },
            "colorscale": [
             [
              0,
              "#0d0887"
             ],
             [
              0.1111111111111111,
              "#46039f"
             ],
             [
              0.2222222222222222,
              "#7201a8"
             ],
             [
              0.3333333333333333,
              "#9c179e"
             ],
             [
              0.4444444444444444,
              "#bd3786"
             ],
             [
              0.5555555555555556,
              "#d8576b"
             ],
             [
              0.6666666666666666,
              "#ed7953"
             ],
             [
              0.7777777777777778,
              "#fb9f3a"
             ],
             [
              0.8888888888888888,
              "#fdca26"
             ],
             [
              1,
              "#f0f921"
             ]
            ],
            "type": "histogram2d"
           }
          ],
          "histogram2dcontour": [
           {
            "colorbar": {
             "outlinewidth": 0,
             "ticks": ""
            },
            "colorscale": [
             [
              0,
              "#0d0887"
             ],
             [
              0.1111111111111111,
              "#46039f"
             ],
             [
              0.2222222222222222,
              "#7201a8"
             ],
             [
              0.3333333333333333,
              "#9c179e"
             ],
             [
              0.4444444444444444,
              "#bd3786"
             ],
             [
              0.5555555555555556,
              "#d8576b"
             ],
             [
              0.6666666666666666,
              "#ed7953"
             ],
             [
              0.7777777777777778,
              "#fb9f3a"
             ],
             [
              0.8888888888888888,
              "#fdca26"
             ],
             [
              1,
              "#f0f921"
             ]
            ],
            "type": "histogram2dcontour"
           }
          ],
          "mesh3d": [
           {
            "colorbar": {
             "outlinewidth": 0,
             "ticks": ""
            },
            "type": "mesh3d"
           }
          ],
          "parcoords": [
           {
            "line": {
             "colorbar": {
              "outlinewidth": 0,
              "ticks": ""
             }
            },
            "type": "parcoords"
           }
          ],
          "pie": [
           {
            "automargin": true,
            "type": "pie"
           }
          ],
          "scatter": [
           {
            "marker": {
             "colorbar": {
              "outlinewidth": 0,
              "ticks": ""
             }
            },
            "type": "scatter"
           }
          ],
          "scatter3d": [
           {
            "line": {
             "colorbar": {
              "outlinewidth": 0,
              "ticks": ""
             }
            },
            "marker": {
             "colorbar": {
              "outlinewidth": 0,
              "ticks": ""
             }
            },
            "type": "scatter3d"
           }
          ],
          "scattercarpet": [
           {
            "marker": {
             "colorbar": {
              "outlinewidth": 0,
              "ticks": ""
             }
            },
            "type": "scattercarpet"
           }
          ],
          "scattergeo": [
           {
            "marker": {
             "colorbar": {
              "outlinewidth": 0,
              "ticks": ""
             }
            },
            "type": "scattergeo"
           }
          ],
          "scattergl": [
           {
            "marker": {
             "colorbar": {
              "outlinewidth": 0,
              "ticks": ""
             }
            },
            "type": "scattergl"
           }
          ],
          "scattermapbox": [
           {
            "marker": {
             "colorbar": {
              "outlinewidth": 0,
              "ticks": ""
             }
            },
            "type": "scattermapbox"
           }
          ],
          "scatterpolar": [
           {
            "marker": {
             "colorbar": {
              "outlinewidth": 0,
              "ticks": ""
             }
            },
            "type": "scatterpolar"
           }
          ],
          "scatterpolargl": [
           {
            "marker": {
             "colorbar": {
              "outlinewidth": 0,
              "ticks": ""
             }
            },
            "type": "scatterpolargl"
           }
          ],
          "scatterternary": [
           {
            "marker": {
             "colorbar": {
              "outlinewidth": 0,
              "ticks": ""
             }
            },
            "type": "scatterternary"
           }
          ],
          "surface": [
           {
            "colorbar": {
             "outlinewidth": 0,
             "ticks": ""
            },
            "colorscale": [
             [
              0,
              "#0d0887"
             ],
             [
              0.1111111111111111,
              "#46039f"
             ],
             [
              0.2222222222222222,
              "#7201a8"
             ],
             [
              0.3333333333333333,
              "#9c179e"
             ],
             [
              0.4444444444444444,
              "#bd3786"
             ],
             [
              0.5555555555555556,
              "#d8576b"
             ],
             [
              0.6666666666666666,
              "#ed7953"
             ],
             [
              0.7777777777777778,
              "#fb9f3a"
             ],
             [
              0.8888888888888888,
              "#fdca26"
             ],
             [
              1,
              "#f0f921"
             ]
            ],
            "type": "surface"
           }
          ],
          "table": [
           {
            "cells": {
             "fill": {
              "color": "#EBF0F8"
             },
             "line": {
              "color": "white"
             }
            },
            "header": {
             "fill": {
              "color": "#C8D4E3"
             },
             "line": {
              "color": "white"
             }
            },
            "type": "table"
           }
          ]
         },
         "layout": {
          "annotationdefaults": {
           "arrowcolor": "#2a3f5f",
           "arrowhead": 0,
           "arrowwidth": 1
          },
          "coloraxis": {
           "colorbar": {
            "outlinewidth": 0,
            "ticks": ""
           }
          },
          "colorscale": {
           "diverging": [
            [
             0,
             "#8e0152"
            ],
            [
             0.1,
             "#c51b7d"
            ],
            [
             0.2,
             "#de77ae"
            ],
            [
             0.3,
             "#f1b6da"
            ],
            [
             0.4,
             "#fde0ef"
            ],
            [
             0.5,
             "#f7f7f7"
            ],
            [
             0.6,
             "#e6f5d0"
            ],
            [
             0.7,
             "#b8e186"
            ],
            [
             0.8,
             "#7fbc41"
            ],
            [
             0.9,
             "#4d9221"
            ],
            [
             1,
             "#276419"
            ]
           ],
           "sequential": [
            [
             0,
             "#0d0887"
            ],
            [
             0.1111111111111111,
             "#46039f"
            ],
            [
             0.2222222222222222,
             "#7201a8"
            ],
            [
             0.3333333333333333,
             "#9c179e"
            ],
            [
             0.4444444444444444,
             "#bd3786"
            ],
            [
             0.5555555555555556,
             "#d8576b"
            ],
            [
             0.6666666666666666,
             "#ed7953"
            ],
            [
             0.7777777777777778,
             "#fb9f3a"
            ],
            [
             0.8888888888888888,
             "#fdca26"
            ],
            [
             1,
             "#f0f921"
            ]
           ],
           "sequentialminus": [
            [
             0,
             "#0d0887"
            ],
            [
             0.1111111111111111,
             "#46039f"
            ],
            [
             0.2222222222222222,
             "#7201a8"
            ],
            [
             0.3333333333333333,
             "#9c179e"
            ],
            [
             0.4444444444444444,
             "#bd3786"
            ],
            [
             0.5555555555555556,
             "#d8576b"
            ],
            [
             0.6666666666666666,
             "#ed7953"
            ],
            [
             0.7777777777777778,
             "#fb9f3a"
            ],
            [
             0.8888888888888888,
             "#fdca26"
            ],
            [
             1,
             "#f0f921"
            ]
           ]
          },
          "colorway": [
           "#636efa",
           "#EF553B",
           "#00cc96",
           "#ab63fa",
           "#FFA15A",
           "#19d3f3",
           "#FF6692",
           "#B6E880",
           "#FF97FF",
           "#FECB52"
          ],
          "font": {
           "color": "#2a3f5f"
          },
          "geo": {
           "bgcolor": "white",
           "lakecolor": "white",
           "landcolor": "#E5ECF6",
           "showlakes": true,
           "showland": true,
           "subunitcolor": "white"
          },
          "hoverlabel": {
           "align": "left"
          },
          "hovermode": "closest",
          "mapbox": {
           "style": "light"
          },
          "paper_bgcolor": "white",
          "plot_bgcolor": "#E5ECF6",
          "polar": {
           "angularaxis": {
            "gridcolor": "white",
            "linecolor": "white",
            "ticks": ""
           },
           "bgcolor": "#E5ECF6",
           "radialaxis": {
            "gridcolor": "white",
            "linecolor": "white",
            "ticks": ""
           }
          },
          "scene": {
           "xaxis": {
            "backgroundcolor": "#E5ECF6",
            "gridcolor": "white",
            "gridwidth": 2,
            "linecolor": "white",
            "showbackground": true,
            "ticks": "",
            "zerolinecolor": "white"
           },
           "yaxis": {
            "backgroundcolor": "#E5ECF6",
            "gridcolor": "white",
            "gridwidth": 2,
            "linecolor": "white",
            "showbackground": true,
            "ticks": "",
            "zerolinecolor": "white"
           },
           "zaxis": {
            "backgroundcolor": "#E5ECF6",
            "gridcolor": "white",
            "gridwidth": 2,
            "linecolor": "white",
            "showbackground": true,
            "ticks": "",
            "zerolinecolor": "white"
           }
          },
          "shapedefaults": {
           "line": {
            "color": "#2a3f5f"
           }
          },
          "ternary": {
           "aaxis": {
            "gridcolor": "white",
            "linecolor": "white",
            "ticks": ""
           },
           "baxis": {
            "gridcolor": "white",
            "linecolor": "white",
            "ticks": ""
           },
           "bgcolor": "#E5ECF6",
           "caxis": {
            "gridcolor": "white",
            "linecolor": "white",
            "ticks": ""
           }
          },
          "title": {
           "x": 0.05
          },
          "xaxis": {
           "automargin": true,
           "gridcolor": "white",
           "linecolor": "white",
           "ticks": "",
           "title": {
            "standoff": 15
           },
           "zerolinecolor": "white",
           "zerolinewidth": 2
          },
          "yaxis": {
           "automargin": true,
           "gridcolor": "white",
           "linecolor": "white",
           "ticks": "",
           "title": {
            "standoff": 15
           },
           "zerolinecolor": "white",
           "zerolinewidth": 2
          }
         }
        },
        "title": {
         "text": "Lipid vs Ratios for ID: UNKNOWN, ID_2: UNKNOWN, ID_3: UNKNOWN"
        },
        "xaxis": {
         "anchor": "y",
         "domain": [
          0,
          1
         ],
         "title": {
          "text": "Lipid"
         }
        },
        "yaxis": {
         "anchor": "x",
         "domain": [
          0,
          1
         ],
         "title": {
          "text": "Ratios"
         }
        }
       }
      },
      "text/html": [
       "<div>                            <div id=\"b696f87c-3f4a-4bf1-bd50-2286adbb8deb\" class=\"plotly-graph-div\" style=\"height:525px; width:100%;\"></div>            <script type=\"text/javascript\">                require([\"plotly\"], function(Plotly) {                    window.PLOTLYENV=window.PLOTLYENV || {};                                    if (document.getElementById(\"b696f87c-3f4a-4bf1-bd50-2286adbb8deb\")) {                    Plotly.newPlot(                        \"b696f87c-3f4a-4bf1-bd50-2286adbb8deb\",                        [{\"customdata\": [[\"TailoredTAG18-1_O3off_Blank50ACN50IPA_v4_020723\"], [\"TailoredTAG18-1_O3off_Blank50ACN50IPA_v4_020723\"], [\"TailoredTAG18-1_O3off_Blank50ACN50IPA_v4_020723\"], [\"TailoredTAG18-1_O3off_Blank50ACN50IPA_v4_020723\"], [\"TailoredTAG18-1_O3off_Blank50ACN50IPA_v4_020723\"], [\"TailoredTAG18-1_O3off_Blank50ACN50IPA_v4_020723\"], [\"TailoredTAG18-1_O3off_Blank50ACN50IPA_v4_020723\"], [\"TailoredTAG18-1_O3off_Blank50ACN50IPA_v4_020723\"], [\"TailoredTAG18-1_O3off_Blank50ACN50IPA_v4_020723\"], [\"TailoredTAG18-1_O3off_Blank50ACN50IPA_v4_020723\"], [\"TailoredTAG18-1_O3off_Blank50ACN50IPA_v4_020723\"], [\"TailoredTAG18-1_O3off_Blank50ACN50IPA_v4_020723\"], [\"TailoredTAG18-1_O3off_Blank50ACN50IPA_v4_020723\"], [\"TailoredTAG18-1_O3off_Blank50ACN50IPA_v4_020723\"], [\"TailoredTAG18-1_O3off_Blank50ACN50IPA_v4_020723\"], [\"TailoredTAG18-1_O3off_Blank50ACN50IPA_v4_020723\"], [\"TailoredTAG18-1_O3off_Blank50ACN50IPA_v4_020723\"], [\"TailoredTAG18-1_O3off_Blank50ACN50IPA_v4_020723\"], [\"TailoredTAG18-1_O3off_Blank50ACN50IPA_v4_020723\"], [\"TailoredTAG18-1_O3off_Blank50ACN50IPA_v4_020723\"], [\"TailoredTAG18-1_O3off_Blank50ACN50IPA_v4_020723\"], [\"TailoredTAG18-1_O3off_Blank50ACN50IPA_v4_020723\"], [\"TailoredTAG18-1_O3off_Blank50ACN50IPA_v4_020723\"], [\"TailoredTAG18-1_O3off_Blank50ACN50IPA_v4_020723\"], [\"TailoredTAG18-1_O3off_Blank50ACN50IPA_v4_020723\"], [\"TailoredTAG18-1_O3off_Blank50ACN50IPA_v4_020723\"], [\"TailoredTAG18-1_O3off_Blank50ACN50IPA_v4_020723\"], [\"TailoredTAG18-1_O3off_Blank50ACN50IPA_v4_020723\"], [\"TailoredTAG18-1_O3off_Blank50ACN50IPA_v4_020723\"], [\"TailoredTAG18-1_O3off_Blank50ACN50IPA_v4_020723\"], [\"TailoredTAG18-1_O3off_Blank50ACN50IPA_v4_020723\"], [\"TailoredTAG18-1_O3off_Blank50ACN50IPA_v4_020723\"], [\"TailoredTAG18-1_O3off_CrudeCanola0.0005mgmL_020723\"], [\"TailoredTAG18-1_O3off_CrudeCanola0.0005mgmL_020723\"], [\"TailoredTAG18-1_O3off_CrudeCanola0.0005mgmL_020723\"], [\"TailoredTAG18-1_O3off_CrudeCanola0.0005mgmL_020723\"], [\"TailoredTAG18-1_O3off_CrudeCanola0.0005mgmL_020723\"], [\"TailoredTAG18-1_O3off_CrudeCanola0.0005mgmL_020723\"], [\"TailoredTAG18-1_O3off_CrudeCanola0.0005mgmL_020723\"], [\"TailoredTAG18-1_O3off_CrudeCanola0.0005mgmL_020723\"], [\"TailoredTAG18-1_O3off_CrudeCanola0.0005mgmL_020723\"], [\"TailoredTAG18-1_O3off_CrudeCanola0.0005mgmL_020723\"], [\"TailoredTAG18-1_O3off_CrudeCanola0.0005mgmL_020723\"], [\"TailoredTAG18-1_O3off_CrudeCanola0.0005mgmL_020723\"], [\"TailoredTAG18-1_O3off_CrudeCanola0.0005mgmL_020723\"], [\"TailoredTAG18-1_O3off_CrudeCanola0.0005mgmL_020723\"], [\"TailoredTAG18-1_O3off_CrudeCanola0.0005mgmL_020723\"], [\"TailoredTAG18-1_O3off_CrudeCanola0.0005mgmL_020723\"], [\"TailoredTAG18-1_O3off_CrudeCanola0.0005mgmL_020723\"], [\"TailoredTAG18-1_O3off_CrudeCanola0.0005mgmL_020723\"], [\"TailoredTAG18-1_O3off_CrudeCanola0.0005mgmL_020723\"], [\"TailoredTAG18-1_O3off_CrudeCanola0.0005mgmL_020723\"], [\"TailoredTAG18-1_O3off_CrudeCanola0.0005mgmL_020723\"], [\"TailoredTAG18-1_O3off_CrudeCanola0.0005mgmL_020723\"], [\"TailoredTAG18-1_O3off_CrudeCanola0.0005mgmL_020723\"], [\"TailoredTAG18-1_O3off_CrudeCanola0.0005mgmL_020723\"], [\"TailoredTAG18-1_O3off_CrudeCanola0.0005mgmL_020723\"], [\"TailoredTAG18-1_O3off_CrudeCanola0.0005mgmL_020723\"], [\"TailoredTAG18-1_O3off_CrudeCanola0.0005mgmL_020723\"], [\"TailoredTAG18-1_O3off_CrudeCanola0.0005mgmL_020723\"], [\"TailoredTAG18-1_O3off_CrudeCanola0.0005mgmL_020723\"], [\"TailoredTAG18-1_O3off_CrudeCanola0.0005mgmL_020723\"], [\"TailoredTAG18-1_O3off_CrudeCanola0.0005mgmL_020723\"], [\"TailoredTAG18-1_O3off_CrudeCanola0.0005mgmL_020723\"], [\"TailoredTAG18-1_O3off_DegummedCanola0.0005mgmL_020723\"], [\"TailoredTAG18-1_O3off_DegummedCanola0.0005mgmL_020723\"], [\"TailoredTAG18-1_O3off_DegummedCanola0.0005mgmL_020723\"], [\"TailoredTAG18-1_O3off_DegummedCanola0.0005mgmL_020723\"], [\"TailoredTAG18-1_O3off_DegummedCanola0.0005mgmL_020723\"], [\"TailoredTAG18-1_O3off_DegummedCanola0.0005mgmL_020723\"], [\"TailoredTAG18-1_O3off_DegummedCanola0.0005mgmL_020723\"], [\"TailoredTAG18-1_O3off_DegummedCanola0.0005mgmL_020723\"], [\"TailoredTAG18-1_O3off_DegummedCanola0.0005mgmL_020723\"], [\"TailoredTAG18-1_O3off_DegummedCanola0.0005mgmL_020723\"], [\"TailoredTAG18-1_O3off_DegummedCanola0.0005mgmL_020723\"], [\"TailoredTAG18-1_O3off_DegummedCanola0.0005mgmL_020723\"], [\"TailoredTAG18-1_O3off_DegummedCanola0.0005mgmL_020723\"], [\"TailoredTAG18-1_O3off_DegummedCanola0.0005mgmL_020723\"], [\"TailoredTAG18-1_O3off_DegummedCanola0.0005mgmL_020723\"], [\"TailoredTAG18-1_O3off_DegummedCanola0.0005mgmL_020723\"], [\"TailoredTAG18-1_O3off_DegummedCanola0.0005mgmL_020723\"], [\"TailoredTAG18-1_O3off_DegummedCanola0.0005mgmL_020723\"], [\"TailoredTAG18-1_O3off_DegummedCanola0.0005mgmL_020723\"], [\"TailoredTAG18-1_O3off_DegummedCanola0.0005mgmL_020723\"], [\"TailoredTAG18-1_O3off_DegummedCanola0.0005mgmL_020723\"], [\"TailoredTAG18-1_O3off_DegummedCanola0.0005mgmL_020723\"], [\"TailoredTAG18-1_O3off_DegummedCanola0.0005mgmL_020723\"], [\"TailoredTAG18-1_O3off_DegummedCanola0.0005mgmL_020723\"], [\"TailoredTAG18-1_O3off_DegummedCanola0.0005mgmL_020723\"], [\"TailoredTAG18-1_O3off_DegummedCanola0.0005mgmL_020723\"], [\"TailoredTAG18-1_O3off_DegummedCanola0.0005mgmL_020723\"], [\"TailoredTAG18-1_O3off_DegummedCanola0.0005mgmL_020723\"], [\"TailoredTAG18-1_O3off_DegummedCanola0.0005mgmL_020723\"], [\"TailoredTAG18-1_O3off_DegummedCanola0.0005mgmL_020723\"], [\"TailoredTAG18-1_O3off_DegummedCanola0.0005mgmL_020723\"], [\"TailoredTAG18-1_O3off_DegummedCanola0.0005mgmL_020723\"], [\"TailoredTAG18-1_O3off_RBDCanola0.0005mgmL_020723\"], [\"TailoredTAG18-1_O3off_RBDCanola0.0005mgmL_020723\"], [\"TailoredTAG18-1_O3off_RBDCanola0.0005mgmL_020723\"], [\"TailoredTAG18-1_O3off_RBDCanola0.0005mgmL_020723\"], [\"TailoredTAG18-1_O3off_RBDCanola0.0005mgmL_020723\"], [\"TailoredTAG18-1_O3off_RBDCanola0.0005mgmL_020723\"], [\"TailoredTAG18-1_O3off_RBDCanola0.0005mgmL_020723\"], [\"TailoredTAG18-1_O3off_RBDCanola0.0005mgmL_020723\"], [\"TailoredTAG18-1_O3off_RBDCanola0.0005mgmL_020723\"], [\"TailoredTAG18-1_O3off_RBDCanola0.0005mgmL_020723\"], [\"TailoredTAG18-1_O3off_RBDCanola0.0005mgmL_020723\"], [\"TailoredTAG18-1_O3off_RBDCanola0.0005mgmL_020723\"], [\"TailoredTAG18-1_O3off_RBDCanola0.0005mgmL_020723\"], [\"TailoredTAG18-1_O3off_RBDCanola0.0005mgmL_020723\"], [\"TailoredTAG18-1_O3off_RBDCanola0.0005mgmL_020723\"], [\"TailoredTAG18-1_O3off_RBDCanola0.0005mgmL_020723\"], [\"TailoredTAG18-1_O3off_RBDCanola0.0005mgmL_020723\"], [\"TailoredTAG18-1_O3off_RBDCanola0.0005mgmL_020723\"], [\"TailoredTAG18-1_O3off_RBDCanola0.0005mgmL_020723\"], [\"TailoredTAG18-1_O3off_RBDCanola0.0005mgmL_020723\"], [\"TailoredTAG18-1_O3off_RBDCanola0.0005mgmL_020723\"], [\"TailoredTAG18-1_O3off_RBDCanola0.0005mgmL_020723\"], [\"TailoredTAG18-1_O3off_RBDCanola0.0005mgmL_020723\"], [\"TailoredTAG18-1_O3off_RBDCanola0.0005mgmL_020723\"], [\"TailoredTAG18-1_O3off_RBDCanola0.0005mgmL_020723\"], [\"TailoredTAG18-1_O3off_RBDCanola0.0005mgmL_020723\"], [\"TailoredTAG18-1_O3off_RBDCanola0.0005mgmL_020723\"], [\"TailoredTAG18-1_O3off_RBDCanola0.0005mgmL_020723\"], [\"TailoredTAG18-1_O3off_RBDCanola0.0005mgmL_020723\"], [\"TailoredTAG18-1_O3off_RBDCanola0.0005mgmL_020723\"], [\"TailoredTAG18-1_O3off_RBDCanola0.0005mgmL_020723\"], [\"TailoredTAG18-1_O3off_RBDCanola0.0005mgmL_020723\"], [\"TailoredTAG18-1_O3on_Blank50ACN50IPA_v4_020723\"], [\"TailoredTAG18-1_O3on_Blank50ACN50IPA_v4_020723\"], [\"TailoredTAG18-1_O3on_Blank50ACN50IPA_v4_020723\"], [\"TailoredTAG18-1_O3on_Blank50ACN50IPA_v4_020723\"], [\"TailoredTAG18-1_O3on_Blank50ACN50IPA_v4_020723\"], [\"TailoredTAG18-1_O3on_Blank50ACN50IPA_v4_020723\"], [\"TailoredTAG18-1_O3on_Blank50ACN50IPA_v4_020723\"], [\"TailoredTAG18-1_O3on_Blank50ACN50IPA_v4_020723\"], [\"TailoredTAG18-1_O3on_Blank50ACN50IPA_v4_020723\"], [\"TailoredTAG18-1_O3on_Blank50ACN50IPA_v4_020723\"], [\"TailoredTAG18-1_O3on_Blank50ACN50IPA_v4_020723\"], [\"TailoredTAG18-1_O3on_Blank50ACN50IPA_v4_020723\"], [\"TailoredTAG18-1_O3on_Blank50ACN50IPA_v4_020723\"], [\"TailoredTAG18-1_O3on_Blank50ACN50IPA_v4_020723\"], [\"TailoredTAG18-1_O3on_Blank50ACN50IPA_v4_020723\"], [\"TailoredTAG18-1_O3on_Blank50ACN50IPA_v4_020723\"], [\"TailoredTAG18-1_O3on_Blank50ACN50IPA_v4_020723\"], [\"TailoredTAG18-1_O3on_Blank50ACN50IPA_v4_020723\"], [\"TailoredTAG18-1_O3on_Blank50ACN50IPA_v4_020723\"], [\"TailoredTAG18-1_O3on_Blank50ACN50IPA_v4_020723\"], [\"TailoredTAG18-1_O3on_Blank50ACN50IPA_v4_020723\"], [\"TailoredTAG18-1_O3on_Blank50ACN50IPA_v4_020723\"], [\"TailoredTAG18-1_O3on_Blank50ACN50IPA_v4_020723\"], [\"TailoredTAG18-1_O3on_Blank50ACN50IPA_v4_020723\"], [\"TailoredTAG18-1_O3on_Blank50ACN50IPA_v4_020723\"], [\"TailoredTAG18-1_O3on_Blank50ACN50IPA_v4_020723\"], [\"TailoredTAG18-1_O3on_Blank50ACN50IPA_v4_020723\"], [\"TailoredTAG18-1_O3on_Blank50ACN50IPA_v4_020723\"], [\"TailoredTAG18-1_O3on_Blank50ACN50IPA_v4_020723\"], [\"TailoredTAG18-1_O3on_Blank50ACN50IPA_v4_020723\"], [\"TailoredTAG18-1_O3on_Blank50ACN50IPA_v4_020723\"], [\"TailoredTAG18-1_O3on_Blank50ACN50IPA_v4_020723\"], [\"TailoredTAG18-1_O3on_CrudeCanola0.0005mgmL_020723\"], [\"TailoredTAG18-1_O3on_CrudeCanola0.0005mgmL_020723\"], [\"TailoredTAG18-1_O3on_CrudeCanola0.0005mgmL_020723\"], [\"TailoredTAG18-1_O3on_CrudeCanola0.0005mgmL_020723\"], [\"TailoredTAG18-1_O3on_CrudeCanola0.0005mgmL_020723\"], [\"TailoredTAG18-1_O3on_CrudeCanola0.0005mgmL_020723\"], [\"TailoredTAG18-1_O3on_CrudeCanola0.0005mgmL_020723\"], [\"TailoredTAG18-1_O3on_CrudeCanola0.0005mgmL_020723\"], [\"TailoredTAG18-1_O3on_CrudeCanola0.0005mgmL_020723\"], [\"TailoredTAG18-1_O3on_CrudeCanola0.0005mgmL_020723\"], [\"TailoredTAG18-1_O3on_CrudeCanola0.0005mgmL_020723\"], [\"TailoredTAG18-1_O3on_CrudeCanola0.0005mgmL_020723\"], [\"TailoredTAG18-1_O3on_CrudeCanola0.0005mgmL_020723\"], [\"TailoredTAG18-1_O3on_CrudeCanola0.0005mgmL_020723\"], [\"TailoredTAG18-1_O3on_CrudeCanola0.0005mgmL_020723\"], [\"TailoredTAG18-1_O3on_CrudeCanola0.0005mgmL_020723\"], [\"TailoredTAG18-1_O3on_CrudeCanola0.0005mgmL_020723\"], [\"TailoredTAG18-1_O3on_CrudeCanola0.0005mgmL_020723\"], [\"TailoredTAG18-1_O3on_CrudeCanola0.0005mgmL_020723\"], [\"TailoredTAG18-1_O3on_CrudeCanola0.0005mgmL_020723\"], [\"TailoredTAG18-1_O3on_CrudeCanola0.0005mgmL_020723\"], [\"TailoredTAG18-1_O3on_CrudeCanola0.0005mgmL_020723\"], [\"TailoredTAG18-1_O3on_CrudeCanola0.0005mgmL_020723\"], [\"TailoredTAG18-1_O3on_CrudeCanola0.0005mgmL_020723\"], [\"TailoredTAG18-1_O3on_CrudeCanola0.0005mgmL_020723\"], [\"TailoredTAG18-1_O3on_CrudeCanola0.0005mgmL_020723\"], [\"TailoredTAG18-1_O3on_CrudeCanola0.0005mgmL_020723\"], [\"TailoredTAG18-1_O3on_CrudeCanola0.0005mgmL_020723\"], [\"TailoredTAG18-1_O3on_CrudeCanola0.0005mgmL_020723\"], [\"TailoredTAG18-1_O3on_CrudeCanola0.0005mgmL_020723\"], [\"TailoredTAG18-1_O3on_CrudeCanola0.0005mgmL_020723\"], [\"TailoredTAG18-1_O3on_CrudeCanola0.0005mgmL_020723\"], [\"TailoredTAG18-1_O3on_DegummedCanola0.0005mgmL_020723\"], [\"TailoredTAG18-1_O3on_DegummedCanola0.0005mgmL_020723\"], [\"TailoredTAG18-1_O3on_DegummedCanola0.0005mgmL_020723\"], [\"TailoredTAG18-1_O3on_DegummedCanola0.0005mgmL_020723\"], [\"TailoredTAG18-1_O3on_DegummedCanola0.0005mgmL_020723\"], [\"TailoredTAG18-1_O3on_DegummedCanola0.0005mgmL_020723\"], [\"TailoredTAG18-1_O3on_DegummedCanola0.0005mgmL_020723\"], [\"TailoredTAG18-1_O3on_DegummedCanola0.0005mgmL_020723\"], [\"TailoredTAG18-1_O3on_DegummedCanola0.0005mgmL_020723\"], [\"TailoredTAG18-1_O3on_DegummedCanola0.0005mgmL_020723\"], [\"TailoredTAG18-1_O3on_DegummedCanola0.0005mgmL_020723\"], [\"TailoredTAG18-1_O3on_DegummedCanola0.0005mgmL_020723\"], [\"TailoredTAG18-1_O3on_DegummedCanola0.0005mgmL_020723\"], [\"TailoredTAG18-1_O3on_DegummedCanola0.0005mgmL_020723\"], [\"TailoredTAG18-1_O3on_DegummedCanola0.0005mgmL_020723\"], [\"TailoredTAG18-1_O3on_DegummedCanola0.0005mgmL_020723\"], [\"TailoredTAG18-1_O3on_DegummedCanola0.0005mgmL_020723\"], [\"TailoredTAG18-1_O3on_DegummedCanola0.0005mgmL_020723\"], [\"TailoredTAG18-1_O3on_DegummedCanola0.0005mgmL_020723\"], [\"TailoredTAG18-1_O3on_DegummedCanola0.0005mgmL_020723\"], [\"TailoredTAG18-1_O3on_DegummedCanola0.0005mgmL_020723\"], [\"TailoredTAG18-1_O3on_DegummedCanola0.0005mgmL_020723\"], [\"TailoredTAG18-1_O3on_DegummedCanola0.0005mgmL_020723\"], [\"TailoredTAG18-1_O3on_DegummedCanola0.0005mgmL_020723\"], [\"TailoredTAG18-1_O3on_DegummedCanola0.0005mgmL_020723\"], [\"TailoredTAG18-1_O3on_DegummedCanola0.0005mgmL_020723\"], [\"TailoredTAG18-1_O3on_DegummedCanola0.0005mgmL_020723\"], [\"TailoredTAG18-1_O3on_DegummedCanola0.0005mgmL_020723\"], [\"TailoredTAG18-1_O3on_DegummedCanola0.0005mgmL_020723\"], [\"TailoredTAG18-1_O3on_DegummedCanola0.0005mgmL_020723\"], [\"TailoredTAG18-1_O3on_DegummedCanola0.0005mgmL_020723\"], [\"TailoredTAG18-1_O3on_DegummedCanola0.0005mgmL_020723\"], [\"TailoredTAG18-1_O3on_RBDCanola0.0005mgmL_020723\"], [\"TailoredTAG18-1_O3on_RBDCanola0.0005mgmL_020723\"], [\"TailoredTAG18-1_O3on_RBDCanola0.0005mgmL_020723\"], [\"TailoredTAG18-1_O3on_RBDCanola0.0005mgmL_020723\"], [\"TailoredTAG18-1_O3on_RBDCanola0.0005mgmL_020723\"], [\"TailoredTAG18-1_O3on_RBDCanola0.0005mgmL_020723\"], [\"TailoredTAG18-1_O3on_RBDCanola0.0005mgmL_020723\"], [\"TailoredTAG18-1_O3on_RBDCanola0.0005mgmL_020723\"], [\"TailoredTAG18-1_O3on_RBDCanola0.0005mgmL_020723\"], [\"TailoredTAG18-1_O3on_RBDCanola0.0005mgmL_020723\"], [\"TailoredTAG18-1_O3on_RBDCanola0.0005mgmL_020723\"], [\"TailoredTAG18-1_O3on_RBDCanola0.0005mgmL_020723\"], [\"TailoredTAG18-1_O3on_RBDCanola0.0005mgmL_020723\"], [\"TailoredTAG18-1_O3on_RBDCanola0.0005mgmL_020723\"], [\"TailoredTAG18-1_O3on_RBDCanola0.0005mgmL_020723\"], [\"TailoredTAG18-1_O3on_RBDCanola0.0005mgmL_020723\"], [\"TailoredTAG18-1_O3on_RBDCanola0.0005mgmL_020723\"], [\"TailoredTAG18-1_O3on_RBDCanola0.0005mgmL_020723\"], [\"TailoredTAG18-1_O3on_RBDCanola0.0005mgmL_020723\"], [\"TailoredTAG18-1_O3on_RBDCanola0.0005mgmL_020723\"], [\"TailoredTAG18-1_O3on_RBDCanola0.0005mgmL_020723\"], [\"TailoredTAG18-1_O3on_RBDCanola0.0005mgmL_020723\"], [\"TailoredTAG18-1_O3on_RBDCanola0.0005mgmL_020723\"], [\"TailoredTAG18-1_O3on_RBDCanola0.0005mgmL_020723\"], [\"TailoredTAG18-1_O3on_RBDCanola0.0005mgmL_020723\"], [\"TailoredTAG18-1_O3on_RBDCanola0.0005mgmL_020723\"], [\"TailoredTAG18-1_O3on_RBDCanola0.0005mgmL_020723\"], [\"TailoredTAG18-1_O3on_RBDCanola0.0005mgmL_020723\"], [\"TailoredTAG18-1_O3on_RBDCanola0.0005mgmL_020723\"], [\"TailoredTAG18-1_O3on_RBDCanola0.0005mgmL_020723\"], [\"TailoredTAG18-1_O3on_RBDCanola0.0005mgmL_020723\"], [\"TailoredTAG18-1_O3on_RBDCanola0.0005mgmL_020723\"]], \"hovertemplate\": \"Person=Me<br>Lipid=%{x}<br>Ratios=%{y}<br>Sample_ID=%{customdata[0]}<extra></extra>\", \"legendgroup\": \"Me\", \"marker\": {\"color\": \"#636efa\", \"symbol\": \"circle\"}, \"mode\": \"markers\", \"name\": \"Me\", \"orientation\": \"v\", \"showlegend\": true, \"type\": \"scatter\", \"x\": [\"TG 52:2\", \"TG 52:2\", \"TG 52:2\", \"TG 52:3\", \"TG 52:3\", \"TG 52:3\", \"TG 53:0\", \"TG 53:0\", \"TG 53:0\", \"TG 54:2\", \"TG 54:2\", \"TG 54:2\", \"TG 54:3\", \"TG 54:3\", \"TG 54:3\", \"TG 54:4\", \"TG 54:4\", \"TG 54:4\", \"TG 52:4\", \"TG 52:4\", \"TG 52:4\", \"TG 52:5\", \"TG 52:5\", \"TG 52:5\", \"TG 52:6\", \"TG 52:6\", \"TG 54:5\", \"TG 54:5\", \"TG 54:5\", \"TG 54:6\", \"TG 54:6\", \"TG 54:6\", \"TG 52:2\", \"TG 52:2\", \"TG 52:2\", \"TG 52:3\", \"TG 52:3\", \"TG 52:3\", \"TG 53:0\", \"TG 53:0\", \"TG 53:0\", \"TG 54:2\", \"TG 54:2\", \"TG 54:2\", \"TG 54:3\", \"TG 54:3\", \"TG 54:3\", \"TG 54:4\", \"TG 54:4\", \"TG 54:4\", \"TG 52:4\", \"TG 52:4\", \"TG 52:4\", \"TG 52:5\", \"TG 52:5\", \"TG 52:5\", \"TG 52:6\", \"TG 52:6\", \"TG 54:5\", \"TG 54:5\", \"TG 54:5\", \"TG 54:6\", \"TG 54:6\", \"TG 54:6\", \"TG 52:2\", \"TG 52:2\", \"TG 52:2\", \"TG 52:3\", \"TG 52:3\", \"TG 52:3\", \"TG 53:0\", \"TG 53:0\", \"TG 53:0\", \"TG 54:2\", \"TG 54:2\", \"TG 54:2\", \"TG 54:3\", \"TG 54:3\", \"TG 54:3\", \"TG 54:4\", \"TG 54:4\", \"TG 54:4\", \"TG 52:4\", \"TG 52:4\", \"TG 52:4\", \"TG 52:5\", \"TG 52:5\", \"TG 52:5\", \"TG 52:6\", \"TG 52:6\", \"TG 54:5\", \"TG 54:5\", \"TG 54:5\", \"TG 54:6\", \"TG 54:6\", \"TG 54:6\", \"TG 52:2\", \"TG 52:2\", \"TG 52:2\", \"TG 52:3\", \"TG 52:3\", \"TG 52:3\", \"TG 53:0\", \"TG 53:0\", \"TG 53:0\", \"TG 54:2\", \"TG 54:2\", \"TG 54:2\", \"TG 54:3\", \"TG 54:3\", \"TG 54:3\", \"TG 54:4\", \"TG 54:4\", \"TG 54:4\", \"TG 52:4\", \"TG 52:4\", \"TG 52:4\", \"TG 52:5\", \"TG 52:5\", \"TG 52:5\", \"TG 52:6\", \"TG 52:6\", \"TG 54:5\", \"TG 54:5\", \"TG 54:5\", \"TG 54:6\", \"TG 54:6\", \"TG 54:6\", \"TG 52:2\", \"TG 52:2\", \"TG 52:2\", \"TG 52:3\", \"TG 52:3\", \"TG 52:3\", \"TG 53:0\", \"TG 53:0\", \"TG 53:0\", \"TG 54:2\", \"TG 54:2\", \"TG 54:2\", \"TG 54:3\", \"TG 54:3\", \"TG 54:3\", \"TG 54:4\", \"TG 54:4\", \"TG 54:4\", \"TG 52:4\", \"TG 52:4\", \"TG 52:4\", \"TG 52:5\", \"TG 52:5\", \"TG 52:5\", \"TG 52:6\", \"TG 52:6\", \"TG 54:5\", \"TG 54:5\", \"TG 54:5\", \"TG 54:6\", \"TG 54:6\", \"TG 54:6\", \"TG 52:2\", \"TG 52:2\", \"TG 52:2\", \"TG 52:3\", \"TG 52:3\", \"TG 52:3\", \"TG 53:0\", \"TG 53:0\", \"TG 53:0\", \"TG 54:2\", \"TG 54:2\", \"TG 54:2\", \"TG 54:3\", \"TG 54:3\", \"TG 54:3\", \"TG 54:4\", \"TG 54:4\", \"TG 54:4\", \"TG 52:4\", \"TG 52:4\", \"TG 52:4\", \"TG 52:5\", \"TG 52:5\", \"TG 52:5\", \"TG 52:6\", \"TG 52:6\", \"TG 54:5\", \"TG 54:5\", \"TG 54:5\", \"TG 54:6\", \"TG 54:6\", \"TG 54:6\", \"TG 52:2\", \"TG 52:2\", \"TG 52:2\", \"TG 52:3\", \"TG 52:3\", \"TG 52:3\", \"TG 53:0\", \"TG 53:0\", \"TG 53:0\", \"TG 54:2\", \"TG 54:2\", \"TG 54:2\", \"TG 54:3\", \"TG 54:3\", \"TG 54:3\", \"TG 54:4\", \"TG 54:4\", \"TG 54:4\", \"TG 52:4\", \"TG 52:4\", \"TG 52:4\", \"TG 52:5\", \"TG 52:5\", \"TG 52:5\", \"TG 52:6\", \"TG 52:6\", \"TG 54:5\", \"TG 54:5\", \"TG 54:5\", \"TG 54:6\", \"TG 54:6\", \"TG 54:6\", \"TG 52:2\", \"TG 52:2\", \"TG 52:2\", \"TG 52:3\", \"TG 52:3\", \"TG 52:3\", \"TG 53:0\", \"TG 53:0\", \"TG 53:0\", \"TG 54:2\", \"TG 54:2\", \"TG 54:2\", \"TG 54:3\", \"TG 54:3\", \"TG 54:3\", \"TG 54:4\", \"TG 54:4\", \"TG 54:4\", \"TG 52:4\", \"TG 52:4\", \"TG 52:4\", \"TG 52:5\", \"TG 52:5\", \"TG 52:5\", \"TG 52:6\", \"TG 52:6\", \"TG 54:5\", \"TG 54:5\", \"TG 54:5\", \"TG 54:6\", \"TG 54:6\", \"TG 54:6\"], \"xaxis\": \"x\", \"y\": [1.2878692646134506, null, null, 1.7647058823529411, null, null, 1.4452631578947368, null, null, 1.587708066581306, null, null, 1.3487789605510332, null, null, 1.5936030103480714, null, null, 1.5395513577331759, null, null, 1.7980769230769231, null, null, null, null, 1.802375296912114, null, null, 1.6570625439212932, null, null, 0.8010840108401084, null, null, 0.8321891685736079, null, null, 0.8784403669724771, null, null, 1.2611073137388926, null, null, 1.7137254901960783, null, null, 1.3308687615526802, null, null, 0.9453703703703704, null, null, 0.6743455497382199, null, null, null, null, 3.7934458788480634, null, null, 1.3337110481586403, null, null, 1.3872549019607843, null, null, 0.94316052467208, null, null, 1.1987647389107243, null, null, 0.5679012345679012, null, null, 1.5794743429286608, null, null, 1.3756063756063757, null, null, 1.8189300411522633, null, null, 1.2634238787113077, null, null, null, null, 0.938908659549229, null, null, 3.5097847358121332, null, null, 0.8253105590062112, null, null, 0.9343971631205674, null, null, 0.9361888111888111, null, null, 0.09917609917609918, null, null, 0.602135231316726, null, null, 1.66914749661705, null, null, 0.5792460478313741, null, null, 1.267524115755627, null, null, null, null, 1.1570810142238714, null, null, 2.081818181818182, null, null, 0.9116792562463684, null, null, 1.0264227642276422, null, null, 2.4557291666666665, null, null, 0.12713304277166285, null, null, 0.7576028622540251, null, null, 1.2766484878532474, null, null, 0.7029360967184801, null, null, 0.6274121721919842, null, null, null, null, 1.3278580814717478, null, null, 0.9428918590522479, null, null, 0.2727012317387568, null, null, 2.2414910858995136, null, null, 13.294213973799126, null, null, 0.06865965188317436, null, null, 0.018114825090647525, null, null, 0.06445569418423885, null, null, 0.6273015873015872, null, null, 1.0650887573964498, null, null, null, null, 0.5682285244554048, null, null, 6.7584118438761775, null, null, 3.0925666199158486, null, null, 0.5693827160493827, null, null, 0.8494492044063647, null, null, 0.6025708289611752, null, null, 0.06549159120310478, null, null, 0.039615553495633504, null, null, 2.4899894625922023, null, null, 0.39183673469387753, null, null, null, null, 0.210464662241312, null, null, 2.0660377358490565, null, null, 9.647686832740213, null, null, 2.8586345381526104, null, null, 1.9625641025641025, null, null, 0.09338208703339093, null, null, 0.6353661648379688, null, null, 0.033654735173689075, null, null, 0.7244897959183674, null, null, 1.6098360655737705, null, null, null, null, 0.03208157662515933, null, null, 0.15790106389373085, null, null], \"yaxis\": \"y\"}],                        {\"legend\": {\"title\": {\"text\": \"Person\"}, \"tracegroupgap\": 0}, \"template\": {\"data\": {\"bar\": [{\"error_x\": {\"color\": \"#2a3f5f\"}, \"error_y\": {\"color\": \"#2a3f5f\"}, \"marker\": {\"line\": {\"color\": \"#E5ECF6\", \"width\": 0.5}}, \"type\": \"bar\"}], \"barpolar\": [{\"marker\": {\"line\": {\"color\": \"#E5ECF6\", \"width\": 0.5}}, \"type\": \"barpolar\"}], \"carpet\": [{\"aaxis\": {\"endlinecolor\": \"#2a3f5f\", \"gridcolor\": \"white\", \"linecolor\": \"white\", \"minorgridcolor\": \"white\", \"startlinecolor\": \"#2a3f5f\"}, \"baxis\": {\"endlinecolor\": \"#2a3f5f\", \"gridcolor\": \"white\", \"linecolor\": \"white\", \"minorgridcolor\": \"white\", \"startlinecolor\": \"#2a3f5f\"}, \"type\": \"carpet\"}], \"choropleth\": [{\"colorbar\": {\"outlinewidth\": 0, \"ticks\": \"\"}, \"type\": \"choropleth\"}], \"contour\": [{\"colorbar\": {\"outlinewidth\": 0, \"ticks\": \"\"}, \"colorscale\": [[0.0, \"#0d0887\"], [0.1111111111111111, \"#46039f\"], [0.2222222222222222, \"#7201a8\"], [0.3333333333333333, \"#9c179e\"], [0.4444444444444444, \"#bd3786\"], [0.5555555555555556, \"#d8576b\"], [0.6666666666666666, \"#ed7953\"], [0.7777777777777778, \"#fb9f3a\"], [0.8888888888888888, \"#fdca26\"], [1.0, \"#f0f921\"]], \"type\": \"contour\"}], \"contourcarpet\": [{\"colorbar\": {\"outlinewidth\": 0, \"ticks\": \"\"}, \"type\": \"contourcarpet\"}], \"heatmap\": [{\"colorbar\": {\"outlinewidth\": 0, \"ticks\": \"\"}, \"colorscale\": [[0.0, \"#0d0887\"], [0.1111111111111111, \"#46039f\"], [0.2222222222222222, \"#7201a8\"], [0.3333333333333333, \"#9c179e\"], [0.4444444444444444, \"#bd3786\"], [0.5555555555555556, \"#d8576b\"], [0.6666666666666666, \"#ed7953\"], [0.7777777777777778, \"#fb9f3a\"], [0.8888888888888888, \"#fdca26\"], [1.0, \"#f0f921\"]], \"type\": \"heatmap\"}], \"heatmapgl\": [{\"colorbar\": {\"outlinewidth\": 0, \"ticks\": \"\"}, \"colorscale\": [[0.0, \"#0d0887\"], [0.1111111111111111, \"#46039f\"], [0.2222222222222222, \"#7201a8\"], [0.3333333333333333, \"#9c179e\"], [0.4444444444444444, \"#bd3786\"], [0.5555555555555556, \"#d8576b\"], [0.6666666666666666, \"#ed7953\"], [0.7777777777777778, \"#fb9f3a\"], [0.8888888888888888, \"#fdca26\"], [1.0, \"#f0f921\"]], \"type\": \"heatmapgl\"}], \"histogram\": [{\"marker\": {\"colorbar\": {\"outlinewidth\": 0, \"ticks\": \"\"}}, \"type\": \"histogram\"}], \"histogram2d\": [{\"colorbar\": {\"outlinewidth\": 0, \"ticks\": \"\"}, \"colorscale\": [[0.0, \"#0d0887\"], [0.1111111111111111, \"#46039f\"], [0.2222222222222222, \"#7201a8\"], [0.3333333333333333, \"#9c179e\"], [0.4444444444444444, \"#bd3786\"], [0.5555555555555556, \"#d8576b\"], [0.6666666666666666, \"#ed7953\"], [0.7777777777777778, \"#fb9f3a\"], [0.8888888888888888, \"#fdca26\"], [1.0, \"#f0f921\"]], \"type\": \"histogram2d\"}], \"histogram2dcontour\": [{\"colorbar\": {\"outlinewidth\": 0, \"ticks\": \"\"}, \"colorscale\": [[0.0, \"#0d0887\"], [0.1111111111111111, \"#46039f\"], [0.2222222222222222, \"#7201a8\"], [0.3333333333333333, \"#9c179e\"], [0.4444444444444444, \"#bd3786\"], [0.5555555555555556, \"#d8576b\"], [0.6666666666666666, \"#ed7953\"], [0.7777777777777778, \"#fb9f3a\"], [0.8888888888888888, \"#fdca26\"], [1.0, \"#f0f921\"]], \"type\": \"histogram2dcontour\"}], \"mesh3d\": [{\"colorbar\": {\"outlinewidth\": 0, \"ticks\": \"\"}, \"type\": \"mesh3d\"}], \"parcoords\": [{\"line\": {\"colorbar\": {\"outlinewidth\": 0, \"ticks\": \"\"}}, \"type\": \"parcoords\"}], \"pie\": [{\"automargin\": true, \"type\": \"pie\"}], \"scatter\": [{\"marker\": {\"colorbar\": {\"outlinewidth\": 0, \"ticks\": \"\"}}, \"type\": \"scatter\"}], \"scatter3d\": [{\"line\": {\"colorbar\": {\"outlinewidth\": 0, \"ticks\": \"\"}}, \"marker\": {\"colorbar\": {\"outlinewidth\": 0, \"ticks\": \"\"}}, \"type\": \"scatter3d\"}], \"scattercarpet\": [{\"marker\": {\"colorbar\": {\"outlinewidth\": 0, \"ticks\": \"\"}}, \"type\": \"scattercarpet\"}], \"scattergeo\": [{\"marker\": {\"colorbar\": {\"outlinewidth\": 0, \"ticks\": \"\"}}, \"type\": \"scattergeo\"}], \"scattergl\": [{\"marker\": {\"colorbar\": {\"outlinewidth\": 0, \"ticks\": \"\"}}, \"type\": \"scattergl\"}], \"scattermapbox\": [{\"marker\": {\"colorbar\": {\"outlinewidth\": 0, \"ticks\": \"\"}}, \"type\": \"scattermapbox\"}], \"scatterpolar\": [{\"marker\": {\"colorbar\": {\"outlinewidth\": 0, \"ticks\": \"\"}}, \"type\": \"scatterpolar\"}], \"scatterpolargl\": [{\"marker\": {\"colorbar\": {\"outlinewidth\": 0, \"ticks\": \"\"}}, \"type\": \"scatterpolargl\"}], \"scatterternary\": [{\"marker\": {\"colorbar\": {\"outlinewidth\": 0, \"ticks\": \"\"}}, \"type\": \"scatterternary\"}], \"surface\": [{\"colorbar\": {\"outlinewidth\": 0, \"ticks\": \"\"}, \"colorscale\": [[0.0, \"#0d0887\"], [0.1111111111111111, \"#46039f\"], [0.2222222222222222, \"#7201a8\"], [0.3333333333333333, \"#9c179e\"], [0.4444444444444444, \"#bd3786\"], [0.5555555555555556, \"#d8576b\"], [0.6666666666666666, \"#ed7953\"], [0.7777777777777778, \"#fb9f3a\"], [0.8888888888888888, \"#fdca26\"], [1.0, \"#f0f921\"]], \"type\": \"surface\"}], \"table\": [{\"cells\": {\"fill\": {\"color\": \"#EBF0F8\"}, \"line\": {\"color\": \"white\"}}, \"header\": {\"fill\": {\"color\": \"#C8D4E3\"}, \"line\": {\"color\": \"white\"}}, \"type\": \"table\"}]}, \"layout\": {\"annotationdefaults\": {\"arrowcolor\": \"#2a3f5f\", \"arrowhead\": 0, \"arrowwidth\": 1}, \"coloraxis\": {\"colorbar\": {\"outlinewidth\": 0, \"ticks\": \"\"}}, \"colorscale\": {\"diverging\": [[0, \"#8e0152\"], [0.1, \"#c51b7d\"], [0.2, \"#de77ae\"], [0.3, \"#f1b6da\"], [0.4, \"#fde0ef\"], [0.5, \"#f7f7f7\"], [0.6, \"#e6f5d0\"], [0.7, \"#b8e186\"], [0.8, \"#7fbc41\"], [0.9, \"#4d9221\"], [1, \"#276419\"]], \"sequential\": [[0.0, \"#0d0887\"], [0.1111111111111111, \"#46039f\"], [0.2222222222222222, \"#7201a8\"], [0.3333333333333333, \"#9c179e\"], [0.4444444444444444, \"#bd3786\"], [0.5555555555555556, \"#d8576b\"], [0.6666666666666666, \"#ed7953\"], [0.7777777777777778, \"#fb9f3a\"], [0.8888888888888888, \"#fdca26\"], [1.0, \"#f0f921\"]], \"sequentialminus\": [[0.0, \"#0d0887\"], [0.1111111111111111, \"#46039f\"], [0.2222222222222222, \"#7201a8\"], [0.3333333333333333, \"#9c179e\"], [0.4444444444444444, \"#bd3786\"], [0.5555555555555556, \"#d8576b\"], [0.6666666666666666, \"#ed7953\"], [0.7777777777777778, \"#fb9f3a\"], [0.8888888888888888, \"#fdca26\"], [1.0, \"#f0f921\"]]}, \"colorway\": [\"#636efa\", \"#EF553B\", \"#00cc96\", \"#ab63fa\", \"#FFA15A\", \"#19d3f3\", \"#FF6692\", \"#B6E880\", \"#FF97FF\", \"#FECB52\"], \"font\": {\"color\": \"#2a3f5f\"}, \"geo\": {\"bgcolor\": \"white\", \"lakecolor\": \"white\", \"landcolor\": \"#E5ECF6\", \"showlakes\": true, \"showland\": true, \"subunitcolor\": \"white\"}, \"hoverlabel\": {\"align\": \"left\"}, \"hovermode\": \"closest\", \"mapbox\": {\"style\": \"light\"}, \"paper_bgcolor\": \"white\", \"plot_bgcolor\": \"#E5ECF6\", \"polar\": {\"angularaxis\": {\"gridcolor\": \"white\", \"linecolor\": \"white\", \"ticks\": \"\"}, \"bgcolor\": \"#E5ECF6\", \"radialaxis\": {\"gridcolor\": \"white\", \"linecolor\": \"white\", \"ticks\": \"\"}}, \"scene\": {\"xaxis\": {\"backgroundcolor\": \"#E5ECF6\", \"gridcolor\": \"white\", \"gridwidth\": 2, \"linecolor\": \"white\", \"showbackground\": true, \"ticks\": \"\", \"zerolinecolor\": \"white\"}, \"yaxis\": {\"backgroundcolor\": \"#E5ECF6\", \"gridcolor\": \"white\", \"gridwidth\": 2, \"linecolor\": \"white\", \"showbackground\": true, \"ticks\": \"\", \"zerolinecolor\": \"white\"}, \"zaxis\": {\"backgroundcolor\": \"#E5ECF6\", \"gridcolor\": \"white\", \"gridwidth\": 2, \"linecolor\": \"white\", \"showbackground\": true, \"ticks\": \"\", \"zerolinecolor\": \"white\"}}, \"shapedefaults\": {\"line\": {\"color\": \"#2a3f5f\"}}, \"ternary\": {\"aaxis\": {\"gridcolor\": \"white\", \"linecolor\": \"white\", \"ticks\": \"\"}, \"baxis\": {\"gridcolor\": \"white\", \"linecolor\": \"white\", \"ticks\": \"\"}, \"bgcolor\": \"#E5ECF6\", \"caxis\": {\"gridcolor\": \"white\", \"linecolor\": \"white\", \"ticks\": \"\"}}, \"title\": {\"x\": 0.05}, \"xaxis\": {\"automargin\": true, \"gridcolor\": \"white\", \"linecolor\": \"white\", \"ticks\": \"\", \"title\": {\"standoff\": 15}, \"zerolinecolor\": \"white\", \"zerolinewidth\": 2}, \"yaxis\": {\"automargin\": true, \"gridcolor\": \"white\", \"linecolor\": \"white\", \"ticks\": \"\", \"title\": {\"standoff\": 15}, \"zerolinecolor\": \"white\", \"zerolinewidth\": 2}}}, \"title\": {\"text\": \"Lipid vs Ratios for ID: UNKNOWN, ID_2: UNKNOWN, ID_3: UNKNOWN\"}, \"xaxis\": {\"anchor\": \"y\", \"domain\": [0.0, 1.0], \"title\": {\"text\": \"Lipid\"}}, \"yaxis\": {\"anchor\": \"x\", \"domain\": [0.0, 1.0], \"title\": {\"text\": \"Ratios\"}}},                        {\"responsive\": true}                    ).then(function(){\n",
       "                            \n",
       "var gd = document.getElementById('b696f87c-3f4a-4bf1-bd50-2286adbb8deb');\n",
       "var x = new MutationObserver(function (mutations, observer) {{\n",
       "        var display = window.getComputedStyle(gd).display;\n",
       "        if (!display || display === 'none') {{\n",
       "            console.log([gd, 'removed!']);\n",
       "            Plotly.purge(gd);\n",
       "            observer.disconnect();\n",
       "        }}\n",
       "}});\n",
       "\n",
       "// Listen for the removal of the full notebook cells\n",
       "var notebookContainer = gd.closest('#notebook-container');\n",
       "if (notebookContainer) {{\n",
       "    x.observe(notebookContainer, {childList: true});\n",
       "}}\n",
       "\n",
       "// Listen for the clearing of the current output cell\n",
       "var outputEl = gd.closest('.output');\n",
       "if (outputEl) {{\n",
       "    x.observe(outputEl, {childList: true});\n",
       "}}\n",
       "\n",
       "                        })                };                });            </script>        </div>"
      ]
     },
     "metadata": {},
     "output_type": "display_data"
    }
   ],
   "source": [
    "import plotly.express as px\n",
    "save_dir = \"Projects/04_29_23/Plots/validation/\"\n",
    "# Fill NaN values in the 'ID', 'ID_2', and 'ID_3' columns with a default value\n",
    "validation['ID'] = validation['ID'].fillna('UNKNOWN')\n",
    "validation['ID_2'] = validation['ID_2'].fillna('UNKNOWN')\n",
    "validation['ID_3'] = validation['ID_3'].fillna('UNKNOWN')\n",
    "\n",
    "# Loop through unique combinations of ID, ID_2, and ID_3\n",
    "unique_ids = validation[['ID', 'ID_2', 'ID_3']].drop_duplicates().values\n",
    "\n",
    "for id1, id2, id3 in unique_ids:\n",
    "    # Filter the DataFrame for the current ID, ID_2, and ID_3\n",
    "    filtered_df = validation[(validation['ID'] == id1) & (validation['ID_2'] == id2) & (validation['ID_3'] == id3)]\n",
    "\n",
    "    # Create scatter plot for the current ID, ID_2, and ID_3\n",
    "    fig = px.scatter(filtered_df, x=\"Lipid\", y=\"Ratios\", color=\"Person\",\n",
    "                     title=f\"Lipid vs Ratios for ID: {id1}, ID_2: {id2}, ID_3: {id3}\",\n",
    "                     labels={\"Lipid\": \"Lipid\", \"Ratios\": \"Ratios\"},\n",
    "                     hover_data=[\"Sample_ID\"])\n",
    "    # Save the figure as PNG\n",
    "    save_path = os.path.join(save_dir, f\"plot_{id1}_{id2}_{id3}.png\")\n",
    "    fig.write_image(save_path, format='png')\n",
    "\n",
    "    # Display the figure\n",
    "    fig.show()\n"
   ]
  }
 ],
 "metadata": {
  "kernelspec": {
   "display_name": "pymzml",
   "language": "python",
   "name": "python3"
  },
  "language_info": {
   "codemirror_mode": {
    "name": "ipython",
    "version": 3
   },
   "file_extension": ".py",
   "mimetype": "text/x-python",
   "name": "python",
   "nbconvert_exporter": "python",
   "pygments_lexer": "ipython3",
   "version": "3.9.15"
  },
  "orig_nbformat": 4
 },
 "nbformat": 4,
 "nbformat_minor": 2
}
