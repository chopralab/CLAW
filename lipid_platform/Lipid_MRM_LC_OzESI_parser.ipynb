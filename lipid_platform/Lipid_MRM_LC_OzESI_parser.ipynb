{
 "cells": [
  {
   "attachments": {},
   "cell_type": "markdown",
   "metadata": {},
   "source": [
    "# Automated Multiple Reaction Monitoring (MRM)-profiling and Ozone Electrospray Ionizaton (OzESI)-MRM Informatics Platform for High-throughput Lipidomics\n",
    "\n",
    "\n",
    "In this jupyter notebook you will automate the data analysis of the lipidome. This is a challenging problem to perform manually due to the diverse nature of lipids and the many potential isomers. In this notebook you will analyze mzML files containing data from lipid MRMs, with ozone off and ozone on. The goal is to identify possible double-bond locations in a lipid, in this case a TAG (triacylglycerols)."
   ]
  },
  {
   "cell_type": "code",
   "execution_count": 1,
   "metadata": {},
   "outputs": [],
   "source": [
    "from IPython.display import Image"
   ]
  },
  {
   "attachments": {},
   "cell_type": "markdown",
   "metadata": {},
   "source": [
    "![title](Figures/agilent_lcms.png)\n",
    "\n",
    "The examples shown here were run on an Agilent 6495C Triple Quadrupole LC/MS (example shown above) that has been connected to an ozone line (not shown in picture) for ozoneolysis of lipids."
   ]
  },
  {
   "attachments": {},
   "cell_type": "markdown",
   "metadata": {},
   "source": [
    "![title](Figures/TAG_example.png)\n",
    "Here is an example of a TAG. Notice how many possibilities there are for locations of one double-bond there could be and how convoluted the analysis can become! This image is obtained from LipidMaps.org"
   ]
  },
  {
   "attachments": {},
   "cell_type": "markdown",
   "metadata": {},
   "source": [
    "Import all necessary libraries"
   ]
  },
  {
   "cell_type": "code",
   "execution_count": 2,
   "metadata": {},
   "outputs": [
    {
     "name": "stdout",
     "output_type": "stream",
     "text": [
      "No module named 'ms_deisotope._c.averagine' averagine\n",
      "No module named 'ms_deisotope._c.scoring'\n",
      "No module named 'ms_deisotope._c.deconvoluter_base'\n",
      "No module named 'ms_deisotope._c.deconvoluter_base'\n",
      "No module named 'ms_deisotope._c.deconvoluter_base'\n"
     ]
    },
    {
     "name": "stderr",
     "output_type": "stream",
     "text": [
      "/home/sanjay/anaconda3/envs/pymzml/lib/python3.9/site-packages/tqdm/auto.py:21: TqdmWarning: IProgress not found. Please update jupyter and ipywidgets. See https://ipywidgets.readthedocs.io/en/stable/user_install.html\n",
      "  from .autonotebook import tqdm as notebook_tqdm\n"
     ]
    }
   ],
   "source": [
    "#Import all the necessary libraries\n",
    "import pymzml\n",
    "import csv\n",
    "import os\n",
    "import pandas as pd\n",
    "import numpy as np\n",
    "import math\n",
    "from matplotlib import pyplot as plt\n",
    "import re\n",
    "import plotly.express as px\n",
    "from scipy.signal import find_peaks\n",
    "import matplotlib.pyplot as plt\n",
    "#import visualization libraries\n",
    "import umap\n",
    "import matplotlib.pyplot as plt\n",
    "import seaborn as sns\n",
    "import plotly.graph_objects as go"
   ]
  },
  {
   "attachments": {},
   "cell_type": "markdown",
   "metadata": {},
   "source": [
    "MAKE CLASSES FOR EACH LIPID"
   ]
  },
  {
   "cell_type": "code",
   "execution_count": 3,
   "metadata": {},
   "outputs": [
    {
     "name": "stderr",
     "output_type": "stream",
     "text": [
      "/tmp/ipykernel_378/2289239920.py:8: SettingWithCopyWarning: \n",
      "A value is trying to be set on a copy of a slice from a DataFrame.\n",
      "Try using .loc[row_indexer,col_indexer] = value instead\n",
      "\n",
      "See the caveats in the documentation: https://pandas.pydata.org/pandas-docs/stable/user_guide/indexing.html#returning-a-view-versus-a-copy\n",
      "  mrm_list_offical['Parent_Ion'] = np.floor(mrm_list_offical['Parent_Ion'].round(1))\n",
      "/tmp/ipykernel_378/2289239920.py:9: SettingWithCopyWarning: \n",
      "A value is trying to be set on a copy of a slice from a DataFrame.\n",
      "Try using .loc[row_indexer,col_indexer] = value instead\n",
      "\n",
      "See the caveats in the documentation: https://pandas.pydata.org/pandas-docs/stable/user_guide/indexing.html#returning-a-view-versus-a-copy\n",
      "  mrm_list_offical['Product_Ion'] = np.floor(mrm_list_offical['Product_Ion'].round(1))\n",
      "/tmp/ipykernel_378/2289239920.py:11: SettingWithCopyWarning: \n",
      "A value is trying to be set on a copy of a slice from a DataFrame.\n",
      "Try using .loc[row_indexer,col_indexer] = value instead\n",
      "\n",
      "See the caveats in the documentation: https://pandas.pydata.org/pandas-docs/stable/user_guide/indexing.html#returning-a-view-versus-a-copy\n",
      "  mrm_list_offical['Transition'] = mrm_list_offical['Parent_Ion'].astype(str) + ' -> ' + mrm_list_offical['Product_Ion'].astype(str)\n"
     ]
    },
    {
     "data": {
      "text/html": [
       "<div>\n",
       "<style scoped>\n",
       "    .dataframe tbody tr th:only-of-type {\n",
       "        vertical-align: middle;\n",
       "    }\n",
       "\n",
       "    .dataframe tbody tr th {\n",
       "        vertical-align: top;\n",
       "    }\n",
       "\n",
       "    .dataframe thead th {\n",
       "        text-align: right;\n",
       "    }\n",
       "</style>\n",
       "<table border=\"1\" class=\"dataframe\">\n",
       "  <thead>\n",
       "    <tr style=\"text-align: right;\">\n",
       "      <th></th>\n",
       "      <th>Lipid</th>\n",
       "      <th>Parent_Ion</th>\n",
       "      <th>Product_Ion</th>\n",
       "      <th>Class</th>\n",
       "      <th>Transition</th>\n",
       "    </tr>\n",
       "  </thead>\n",
       "  <tbody>\n",
       "    <tr>\n",
       "      <th>3264</th>\n",
       "      <td>STD_15:0-18:1(d7) PI (NH4 Salt)</td>\n",
       "      <td>847.0</td>\n",
       "      <td>570.0</td>\n",
       "      <td>STD_15:0-18:1(d7) PI (NH4 Salt)</td>\n",
       "      <td>847.0 -&gt; 570.0</td>\n",
       "    </tr>\n",
       "    <tr>\n",
       "      <th>3265</th>\n",
       "      <td>STD_15:0-18:1(d7) PS (Na Salt)</td>\n",
       "      <td>755.0</td>\n",
       "      <td>570.0</td>\n",
       "      <td>STD_15:0-18:1(d7) PS (Na Salt)</td>\n",
       "      <td>755.0 -&gt; 570.0</td>\n",
       "    </tr>\n",
       "    <tr>\n",
       "      <th>3266</th>\n",
       "      <td>STD_15:0-18:1(d7)-15:0 TAG</td>\n",
       "      <td>829.0</td>\n",
       "      <td>570.0</td>\n",
       "      <td>STD_15:0-18:1(d7)-15:0 TAG</td>\n",
       "      <td>829.0 -&gt; 570.0</td>\n",
       "    </tr>\n",
       "    <tr>\n",
       "      <th>3267</th>\n",
       "      <td>STD_18:1(d7) Chol Ester</td>\n",
       "      <td>675.0</td>\n",
       "      <td>369.0</td>\n",
       "      <td>STD_18:1(d7) Chol Ester</td>\n",
       "      <td>675.0 -&gt; 369.0</td>\n",
       "    </tr>\n",
       "    <tr>\n",
       "      <th>3268</th>\n",
       "      <td>STD_d18:1-18:1(d9) SM</td>\n",
       "      <td>738.0</td>\n",
       "      <td>184.0</td>\n",
       "      <td>STD_d18:1-18:1(d9) SM</td>\n",
       "      <td>738.0 -&gt; 184.0</td>\n",
       "    </tr>\n",
       "  </tbody>\n",
       "</table>\n",
       "</div>"
      ],
      "text/plain": [
       "                                Lipid  Parent_Ion  Product_Ion  \\\n",
       "3264  STD_15:0-18:1(d7) PI (NH4 Salt)       847.0        570.0   \n",
       "3265   STD_15:0-18:1(d7) PS (Na Salt)       755.0        570.0   \n",
       "3266       STD_15:0-18:1(d7)-15:0 TAG       829.0        570.0   \n",
       "3267          STD_18:1(d7) Chol Ester       675.0        369.0   \n",
       "3268            STD_d18:1-18:1(d9) SM       738.0        184.0   \n",
       "\n",
       "                                Class      Transition  \n",
       "3264  STD_15:0-18:1(d7) PI (NH4 Salt)  847.0 -> 570.0  \n",
       "3265   STD_15:0-18:1(d7) PS (Na Salt)  755.0 -> 570.0  \n",
       "3266       STD_15:0-18:1(d7)-15:0 TAG  829.0 -> 570.0  \n",
       "3267          STD_18:1(d7) Chol Ester  675.0 -> 369.0  \n",
       "3268            STD_d18:1-18:1(d9) SM  738.0 -> 184.0  "
      ]
     },
     "execution_count": 3,
     "metadata": {},
     "output_type": "execute_result"
    }
   ],
   "source": [
    "\n",
    "def read_mrm_list(filename):\n",
    "    mrm_list_new = pd.read_excel(filename, sheet_name=None)\n",
    "    mrm_list_new = pd.concat(mrm_list_new, ignore_index=True)\n",
    "    mrm_list_offical = mrm_list_new[['Compound Name', 'Parent Ion', 'Product Ion', 'Class']]\n",
    "    # Add underscore to middle of columns names\n",
    "    mrm_list_offical.columns = mrm_list_offical.columns.str.replace(' ', '_')\n",
    "    # Round Parent Ion and Product Ion to 1 decimal place\n",
    "    mrm_list_offical['Parent_Ion'] = np.floor(mrm_list_offical['Parent_Ion'].round(1))\n",
    "    mrm_list_offical['Product_Ion'] = np.floor(mrm_list_offical['Product_Ion'].round(1))\n",
    "    # Create transition column by combining Parent Ion and Product Ion with arrow between numbers\n",
    "    mrm_list_offical['Transition'] = mrm_list_offical['Parent_Ion'].astype(str) + ' -> ' + mrm_list_offical['Product_Ion'].astype(str)\n",
    "    # Change column compound name to lipid\n",
    "    mrm_list_offical = mrm_list_offical.rename(columns={'Compound_Name': 'Lipid'})\n",
    "    # Make a column called Class match lipid column to lipid types\n",
    "    return mrm_list_offical\n",
    "\n",
    "mrm_database = read_mrm_list('lipid_database/Lipid_Database.xlsx')\n",
    "mrm_database.tail()"
   ]
  },
  {
   "cell_type": "code",
   "execution_count": 4,
   "metadata": {},
   "outputs": [
    {
     "name": "stdout",
     "output_type": "stream",
     "text": [
      "['PC' 'PE' 'SM' 'Cer' 'CAR' 'TAG' 'DAG' 'PS' 'PI' 'PG' 'CE' 'FA'\n",
      " 'STD 15:0-18:1-d7 DG' 'STD 18:1 (d7) Lyso PC' 'STD 18:1 (d7) Lyso PE'\n",
      " 'STD 18:1(d7) MAG' 'STD C15 ceramide-D7' 'STD_15:0-18:1(d7) PC'\n",
      " 'STD_15:0-18:1(d7) PE' 'STD_15:0-18:1(d7) PG (Na Salt)'\n",
      " 'STD_15:0-18:1(d7) PI (NH4 Salt)' 'STD_15:0-18:1(d7) PS (Na Salt)'\n",
      " 'STD_15:0-18:1(d7)-15:0 TAG' 'STD_18:1(d7) Chol Ester'\n",
      " 'STD_d18:1-18:1(d9) SM']\n"
     ]
    }
   ],
   "source": [
    "list_of_lipid_classes = mrm_database['Class'].unique()\n",
    "print(list_of_lipid_classes)"
   ]
  },
  {
   "attachments": {},
   "cell_type": "markdown",
   "metadata": {},
   "source": [
    "Load mzML file and convert to pandas dataframe and csv file. |\n",
    "Columns = Q1, Q3, Intensity, Transition, Lipid, Class  |\n",
    "Parsed data is also stored as csv file in data_csv"
   ]
  },
  {
   "cell_type": "code",
   "execution_count": 5,
   "metadata": {},
   "outputs": [
    {
     "name": "stdout",
     "output_type": "stream",
     "text": [
      "TailoredTAG18-1_O3off_RBDCanola0.0005mgmL_020723 (1).mzML\n",
      "Spectrum # =  None\n",
      "Chromatogram # = 36\n"
     ]
    },
    {
     "name": "stderr",
     "output_type": "stream",
     "text": [
      "/tmp/ipykernel_378/3115214185.py:86: FutureWarning: The frame.append method is deprecated and will be removed from pandas in a future version. Use pandas.concat instead.\n",
      "  df = df.append(df_all, ignore_index=True)\n"
     ]
    }
   ],
   "source": [
    "#Create for loop to load all mzml files from the data folder into the run object from pymzml reader function and store in pandas dataframe\n",
    "#Create empty dictionary to store all the data\n",
    "df_OzESI = pd.DataFrame(columns=['Lipid','Parent_Ion','Product_Ion','Intensity','Retention_Time','Transition','Class','Sample_ID'])\n",
    "\n",
    "###\n",
    "OzESI_time = {}\n",
    "###\n",
    "\n",
    "data_folder = os.listdir('./data_mzml/canola/test1/') #Path to the mzml files\n",
    "path_to_mzml_files = './data_mzml/canola/test1/' #Path to the mzml files\n",
    "#data_dict = {} #Empty dictionary to store all the data\n",
    "df = pd.DataFrame(columns=['Lipid','Parent_Ion','Product_Ion','Intensity','Transition','Class','Sample_ID'])\n",
    "#Create a similar for loop, except store all data in a single pandas dataframe\n",
    "df_all = pd.DataFrame(columns=['Lipid','Parent_Ion','Product_Ion','Intensity','Transition','Class','Sample_ID']) #Create empty pandas dataframe to store the data\n",
    "#df_all = pd.DataFrame(columns=['Q1','Q3','Intensity','Transition','Lipid','Class']) #Create empty pandas dataframe to store the data\n",
    "for file in data_folder:\n",
    "        if file.endswith('.mzML'):\n",
    "                print(file)\n",
    "                run = pymzml.run.Reader(path_to_mzml_files+file, skip_chromatogram=False) #Load the mzml file into the run object\n",
    "                print('Spectrum # = ',run.get_spectrum_count())\n",
    "                print('Chromatogram # =',run.get_chromatogram_count())\n",
    "\n",
    "\n",
    "                \n",
    "                #create pandas dataframe to store the data with the columns Parent Ion, Product Ion, Intensity, Transition Lipid and Class\n",
    "                #df_sample = pd.DataFrame(columns=['Parent_Ion','Product_Ion','Intensity','Transition','Lipid','Class']) #Create empty pandas dataframe to store the data\n",
    "                #df_sample = pd.DataFrame(columns=['Q1','Q3','Intensity','Transition','Lipid','Class']) #Create empty pandas dataframe to store the data\n",
    "                q1_mz = 0 #Create empty variables to store the Q1 and Q3 m/z values\n",
    "                q3_mz = 0\n",
    "                count = 0 #Create a counter to keep track of the number of transitions\n",
    "                for spectrum in run:\n",
    "                        \n",
    "                        #get the retention time of the spectrum\n",
    "                        ###\n",
    "                        # if isinstance(spectrum,pymzml.spec.Chromatogram):\n",
    "                        #         for time, intensity in spectrum.peaks():\n",
    "                        #                 #print(time, intensity)\n",
    "                        #                 OzESI_time[time] = intensity\n",
    "                        ###\n",
    "\n",
    "                        for element in spectrum.ID.split(' '):\n",
    "                                #print('element',element)\n",
    "                                intensity_store = np.array([])\n",
    "                                if 'Q1' in element:\n",
    "                                        #print('Q1',element)\n",
    "                                        q1 = element.split('=')\n",
    "                                        #print('q1',q1[1])\n",
    "                                        q1_mz= np.floor(round(float(q1[1]),1))\n",
    "                                        # print('q1',q1)\n",
    "                                \n",
    "                                if 'Q3' in element:\n",
    "                                        #print('Q3',element)\n",
    "                                        q3 = element.split('=')\n",
    "                                        #print('q3',q3[1])\n",
    "                                        q3_mz=np.floor(round(float(q3[1]),1))\n",
    "                                        # print('q3',q3)\n",
    "                                        # df_sample.loc[count,'Q1'] = q1_mz\n",
    "                                        # df_sample.loc[count,'Q3'] = q3_mz\n",
    "                                        \n",
    "                                        for mz,intensity in spectrum.peaks(): #Get the m/z and intensity values from the spectrum\n",
    "                                                intensity_store = np.append(intensity_store,intensity) #Store the intensity values in an array\n",
    "                                                \n",
    "                        \n",
    "                                \n",
    "                                if 'Q3' in element:\n",
    "                                        # print(intensity_sum)\n",
    "                                        intensity_sum = np.sum(intensity_store) #Sum the intensity values\n",
    "                                        df_all.loc[count,'Parent_Ion'] = q1_mz #Store the Q1 and Q3 m/z values in the pandas dataframe\n",
    "                                        df_all.loc[count,'Product_Ion'] = q3_mz\n",
    "                                        #round the Q1 and Q3 m/z values to 1 decimal places\n",
    "                                        df_all.loc[count,'Parent_Ion'] = np.floor(round(df_all.loc[count,'Parent_Ion'],1))\n",
    "                                        df_all.loc[count,'Product_Ion'] = np.floor(round(df_all.loc[count,'Product_Ion'],1))\n",
    "                                        df_all.loc[count,'Intensity'] = np.floor(round(intensity_sum,1)) #Store the intensity values in the pandas dataframe\n",
    "                                        df_all.loc[count,'Transition'] = str(q1_mz)+ ' -> '+ str(q3_mz) #Store the transition values in the pandas dataframe\n",
    "                                        #add file name to Sample_ID column without the mzmL extension\n",
    "                                        df_all.loc[count,'Sample_ID'] = file[:-5]\n",
    "\n",
    "                                        #get the retention time of the spectrum\n",
    "                                        ###\n",
    "                                        if isinstance(spectrum,pymzml.spec.Chromatogram):\n",
    "                                                for time, intensity in spectrum.peaks():\n",
    "                                                        OzESI_time[time] = np.floor(round(intensity)), q1_mz, q3_mz\n",
    "                                        ###\n",
    "                                        count+=1\n",
    "        #append df_all to df_all2\n",
    "        df = df.append(df_all, ignore_index=True)"
   ]
  },
  {
   "cell_type": "code",
   "execution_count": 6,
   "metadata": {},
   "outputs": [
    {
     "name": "stdout",
     "output_type": "stream",
     "text": [
      "70827\n",
      "[(0.015933333333333334, (835.0, 760.0, 571.0)), (0.032233333333333336, (1140.0, 760.0, 571.0)), (0.04855, (1183.0, 760.0, 571.0))]\n",
      "Dataframe 5 largest: \n",
      "        Retention_Time  intensity  Parent_Ion  Product_Ion\n",
      "67529           16.24  1646316.0       902.0        603.0\n",
      "67528           16.23  1615759.0       902.0        603.0\n",
      "67527           16.21  1465953.0       902.0        603.0\n",
      "67530           16.26  1418221.0       902.0        603.0\n",
      "67526           16.19  1161112.0       902.0        603.0\n",
      "Sorted dataframe dropped duplicates 5 largest:\n",
      "        Retention_Time  intensity  Parent_Ion  Product_Ion      Transition\n",
      "67529           16.24  1646316.0       902.0        603.0  902.0 -> 603.0\n",
      "65264           14.32   565836.0       900.0        601.0  900.0 -> 601.0\n",
      "56797           16.29   188293.0       876.0        577.0  876.0 -> 577.0\n",
      "63011           12.59   160993.0       898.0        599.0  898.0 -> 599.0\n",
      "69675           16.23   153436.0       904.0        605.0  904.0 -> 605.0\n",
      "54532           14.37    57446.0       874.0        575.0  874.0 -> 575.0\n",
      "60752           10.77    40080.0       896.0        597.0  896.0 -> 597.0\n",
      "52276           12.59    12987.0       872.0        573.0  872.0 -> 573.0\n",
      "58507            9.17     8938.0       894.0        595.0  894.0 -> 595.0\n",
      "16606           25.84     5236.0       788.0        599.0  788.0 -> 599.0\n",
      "[54532 56797 63011 65264 67529 69675]\n"
     ]
    },
    {
     "data": {
      "image/png": "[encoded data removed]",
      "text/plain": [
       "<Figure size 640x480 with 1 Axes>"
      ]
     },
     "metadata": {},
     "output_type": "display_data"
    },
    {
     "data": {
      "image/png": "[encoded data removed]",
      "text/plain": [
       "<Figure size 640x480 with 1 Axes>"
      ]
     },
     "metadata": {},
     "output_type": "display_data"
    }
   ],
   "source": [
    "\n",
    "\n",
    "#length of OzESI_time\n",
    "print(len(OzESI_time))\n",
    "#example of structure \n",
    "print(list(OzESI_time.items())[:3])\n",
    "OzESI_rt_df = pd.DataFrame(list(OzESI_time.items()), columns=['Retention_Time', 'intensity'])\n",
    "#split intensity column into three columns intensity, Parent_Ion and Product_Ion\n",
    "OzESI_rt_df[['intensity','Parent_Ion','Product_Ion']] = pd.DataFrame(OzESI_rt_df['intensity'].tolist(), index=OzESI_rt_df.index)\n",
    "#round retention Retention_Time to 1 decimal place\n",
    "OzESI_rt_df['Retention_Time'] = round(OzESI_rt_df['Retention_Time'],2)\n",
    "print('Dataframe 5 largest: \\n', OzESI_rt_df.nlargest(5, 'intensity'))\n",
    "#Create a column called Transition with the Parent_Ion and Product_Ion\n",
    "OzESI_rt_df['Transition'] = OzESI_rt_df['Parent_Ion'].astype(str) + ' -> ' + OzESI_rt_df['Product_Ion'].astype(str)\n",
    "\n",
    "#print 5 largest values in intensity column and their Parent_Ion and Product_Ion\n",
    "OzESI_rt_df_sorted = OzESI_rt_df.sort_values(['intensity'], ascending=False).drop_duplicates(['Parent_Ion','Product_Ion']).sort_index()\n",
    "print('Sorted dataframe dropped duplicates 5 largest:\\n',OzESI_rt_df_sorted.nlargest(10, 'intensity'))\n",
    "OzESI_rt_df_top = OzESI_rt_df_sorted.nlargest(10, 'intensity')\n",
    "\n",
    "\n",
    "\n",
    "#find peaks from OzESI_rt_df dataframe\n",
    "peaks, _ = find_peaks(OzESI_rt_df['intensity'], height=0.5e5,distance=1000)\n",
    "print(peaks)\n",
    "plt.plot(OzESI_rt_df['Retention_Time'] ,OzESI_rt_df['intensity'])\n",
    "plt.ylabel('Intensity')\n",
    "plt.xlabel('Retention Time')\n",
    "plt.title('OzESI LC Chromatogram')\n",
    "plt.show()\n",
    "plt.plot(OzESI_rt_df['intensity'])\n",
    "plt.plot(peaks, OzESI_rt_df['intensity'][peaks], \"x\")\n",
    "plt.show()"
   ]
  },
  {
   "cell_type": "code",
   "execution_count": 7,
   "metadata": {},
   "outputs": [
    {
     "data": {
      "text/plain": [
       "(35, 7)"
      ]
     },
     "execution_count": 7,
     "metadata": {},
     "output_type": "execute_result"
    }
   ],
   "source": [
    "df.shape"
   ]
  },
  {
   "cell_type": "code",
   "execution_count": 8,
   "metadata": {},
   "outputs": [
    {
     "name": "stdout",
     "output_type": "stream",
     "text": [
      "       Retention_Time  intensity  Parent_Ion  Product_Ion      Transition\n",
      "67529           16.24  1646316.0       902.0        603.0  902.0 -> 603.0\n",
      "65264           14.32   565836.0       900.0        601.0  900.0 -> 601.0\n",
      "56797           16.29   188293.0       876.0        577.0  876.0 -> 577.0\n",
      "63011           12.59   160993.0       898.0        599.0  898.0 -> 599.0\n",
      "69675           16.23   153436.0       904.0        605.0  904.0 -> 605.0\n",
      "54532           14.37    57446.0       874.0        575.0  874.0 -> 575.0\n",
      "60752           10.77    40080.0       896.0        597.0  896.0 -> 597.0\n",
      "52276           12.59    12987.0       872.0        573.0  872.0 -> 573.0\n",
      "58507            9.17     8938.0       894.0        595.0  894.0 -> 595.0\n",
      "16606           25.84     5236.0       788.0        599.0  788.0 -> 599.0\n"
     ]
    },
    {
     "data": {
      "text/html": [
       "<div>\n",
       "<style scoped>\n",
       "    .dataframe tbody tr th:only-of-type {\n",
       "        vertical-align: middle;\n",
       "    }\n",
       "\n",
       "    .dataframe tbody tr th {\n",
       "        vertical-align: top;\n",
       "    }\n",
       "\n",
       "    .dataframe thead th {\n",
       "        text-align: right;\n",
       "    }\n",
       "</style>\n",
       "<table border=\"1\" class=\"dataframe\">\n",
       "  <thead>\n",
       "    <tr style=\"text-align: right;\">\n",
       "      <th></th>\n",
       "      <th>Lipid</th>\n",
       "      <th>Parent_Ion</th>\n",
       "      <th>Product_Ion</th>\n",
       "      <th>Intensity</th>\n",
       "      <th>Transition</th>\n",
       "      <th>Class</th>\n",
       "      <th>Sample_ID</th>\n",
       "      <th>Retention_Time</th>\n",
       "      <th>Intensity_OzESI</th>\n",
       "    </tr>\n",
       "  </thead>\n",
       "  <tbody>\n",
       "    <tr>\n",
       "      <th>0</th>\n",
       "      <td>NaN</td>\n",
       "      <td>760.0</td>\n",
       "      <td>571.0</td>\n",
       "      <td>3508930.0</td>\n",
       "      <td>760.0 -&gt; 571.0</td>\n",
       "      <td>NaN</td>\n",
       "      <td>TailoredTAG18-1_O3off_RBDCanola0.0005mgmL_0207...</td>\n",
       "      <td>NaN</td>\n",
       "      <td>NaN</td>\n",
       "    </tr>\n",
       "    <tr>\n",
       "      <th>1</th>\n",
       "      <td>NaN</td>\n",
       "      <td>762.0</td>\n",
       "      <td>573.0</td>\n",
       "      <td>4454522.0</td>\n",
       "      <td>762.0 -&gt; 573.0</td>\n",
       "      <td>NaN</td>\n",
       "      <td>TailoredTAG18-1_O3off_RBDCanola0.0005mgmL_0207...</td>\n",
       "      <td>NaN</td>\n",
       "      <td>NaN</td>\n",
       "    </tr>\n",
       "    <tr>\n",
       "      <th>2</th>\n",
       "      <td>NaN</td>\n",
       "      <td>764.0</td>\n",
       "      <td>575.0</td>\n",
       "      <td>3342623.0</td>\n",
       "      <td>764.0 -&gt; 575.0</td>\n",
       "      <td>NaN</td>\n",
       "      <td>TailoredTAG18-1_O3off_RBDCanola0.0005mgmL_0207...</td>\n",
       "      <td>NaN</td>\n",
       "      <td>NaN</td>\n",
       "    </tr>\n",
       "    <tr>\n",
       "      <th>3</th>\n",
       "      <td>NaN</td>\n",
       "      <td>766.0</td>\n",
       "      <td>577.0</td>\n",
       "      <td>3270586.0</td>\n",
       "      <td>766.0 -&gt; 577.0</td>\n",
       "      <td>NaN</td>\n",
       "      <td>TailoredTAG18-1_O3off_RBDCanola0.0005mgmL_0207...</td>\n",
       "      <td>NaN</td>\n",
       "      <td>NaN</td>\n",
       "    </tr>\n",
       "    <tr>\n",
       "      <th>4</th>\n",
       "      <td>NaN</td>\n",
       "      <td>782.0</td>\n",
       "      <td>593.0</td>\n",
       "      <td>2358947.0</td>\n",
       "      <td>782.0 -&gt; 593.0</td>\n",
       "      <td>NaN</td>\n",
       "      <td>TailoredTAG18-1_O3off_RBDCanola0.0005mgmL_0207...</td>\n",
       "      <td>NaN</td>\n",
       "      <td>NaN</td>\n",
       "    </tr>\n",
       "    <tr>\n",
       "      <th>5</th>\n",
       "      <td>NaN</td>\n",
       "      <td>784.0</td>\n",
       "      <td>595.0</td>\n",
       "      <td>2304902.0</td>\n",
       "      <td>784.0 -&gt; 595.0</td>\n",
       "      <td>NaN</td>\n",
       "      <td>TailoredTAG18-1_O3off_RBDCanola0.0005mgmL_0207...</td>\n",
       "      <td>NaN</td>\n",
       "      <td>NaN</td>\n",
       "    </tr>\n",
       "    <tr>\n",
       "      <th>6</th>\n",
       "      <td>NaN</td>\n",
       "      <td>786.0</td>\n",
       "      <td>569.0</td>\n",
       "      <td>1702709.0</td>\n",
       "      <td>786.0 -&gt; 569.0</td>\n",
       "      <td>NaN</td>\n",
       "      <td>TailoredTAG18-1_O3off_RBDCanola0.0005mgmL_0207...</td>\n",
       "      <td>NaN</td>\n",
       "      <td>NaN</td>\n",
       "    </tr>\n",
       "    <tr>\n",
       "      <th>7</th>\n",
       "      <td>NaN</td>\n",
       "      <td>786.0</td>\n",
       "      <td>597.0</td>\n",
       "      <td>3260273.0</td>\n",
       "      <td>786.0 -&gt; 597.0</td>\n",
       "      <td>NaN</td>\n",
       "      <td>TailoredTAG18-1_O3off_RBDCanola0.0005mgmL_0207...</td>\n",
       "      <td>NaN</td>\n",
       "      <td>NaN</td>\n",
       "    </tr>\n",
       "    <tr>\n",
       "      <th>8</th>\n",
       "      <td>NaN</td>\n",
       "      <td>788.0</td>\n",
       "      <td>571.0</td>\n",
       "      <td>1629241.0</td>\n",
       "      <td>788.0 -&gt; 571.0</td>\n",
       "      <td>NaN</td>\n",
       "      <td>TailoredTAG18-1_O3off_RBDCanola0.0005mgmL_0207...</td>\n",
       "      <td>NaN</td>\n",
       "      <td>NaN</td>\n",
       "    </tr>\n",
       "    <tr>\n",
       "      <th>9</th>\n",
       "      <td>NaN</td>\n",
       "      <td>788.0</td>\n",
       "      <td>599.0</td>\n",
       "      <td>6129489.0</td>\n",
       "      <td>788.0 -&gt; 599.0</td>\n",
       "      <td>NaN</td>\n",
       "      <td>TailoredTAG18-1_O3off_RBDCanola0.0005mgmL_0207...</td>\n",
       "      <td>25.84</td>\n",
       "      <td>5236.0</td>\n",
       "    </tr>\n",
       "    <tr>\n",
       "      <th>10</th>\n",
       "      <td>NaN</td>\n",
       "      <td>790.0</td>\n",
       "      <td>601.0</td>\n",
       "      <td>2584182.0</td>\n",
       "      <td>790.0 -&gt; 601.0</td>\n",
       "      <td>NaN</td>\n",
       "      <td>TailoredTAG18-1_O3off_RBDCanola0.0005mgmL_0207...</td>\n",
       "      <td>NaN</td>\n",
       "      <td>NaN</td>\n",
       "    </tr>\n",
       "    <tr>\n",
       "      <th>11</th>\n",
       "      <td>NaN</td>\n",
       "      <td>790.0</td>\n",
       "      <td>573.0</td>\n",
       "      <td>2510903.0</td>\n",
       "      <td>790.0 -&gt; 573.0</td>\n",
       "      <td>NaN</td>\n",
       "      <td>TailoredTAG18-1_O3off_RBDCanola0.0005mgmL_0207...</td>\n",
       "      <td>NaN</td>\n",
       "      <td>NaN</td>\n",
       "    </tr>\n",
       "    <tr>\n",
       "      <th>12</th>\n",
       "      <td>NaN</td>\n",
       "      <td>792.0</td>\n",
       "      <td>603.0</td>\n",
       "      <td>3311812.0</td>\n",
       "      <td>792.0 -&gt; 603.0</td>\n",
       "      <td>NaN</td>\n",
       "      <td>TailoredTAG18-1_O3off_RBDCanola0.0005mgmL_0207...</td>\n",
       "      <td>NaN</td>\n",
       "      <td>NaN</td>\n",
       "    </tr>\n",
       "    <tr>\n",
       "      <th>13</th>\n",
       "      <td>NaN</td>\n",
       "      <td>792.0</td>\n",
       "      <td>575.0</td>\n",
       "      <td>1778559.0</td>\n",
       "      <td>792.0 -&gt; 575.0</td>\n",
       "      <td>NaN</td>\n",
       "      <td>TailoredTAG18-1_O3off_RBDCanola0.0005mgmL_0207...</td>\n",
       "      <td>NaN</td>\n",
       "      <td>NaN</td>\n",
       "    </tr>\n",
       "    <tr>\n",
       "      <th>14</th>\n",
       "      <td>NaN</td>\n",
       "      <td>794.0</td>\n",
       "      <td>605.0</td>\n",
       "      <td>4324463.0</td>\n",
       "      <td>794.0 -&gt; 605.0</td>\n",
       "      <td>NaN</td>\n",
       "      <td>TailoredTAG18-1_O3off_RBDCanola0.0005mgmL_0207...</td>\n",
       "      <td>NaN</td>\n",
       "      <td>NaN</td>\n",
       "    </tr>\n",
       "    <tr>\n",
       "      <th>15</th>\n",
       "      <td>NaN</td>\n",
       "      <td>794.0</td>\n",
       "      <td>577.0</td>\n",
       "      <td>2595165.0</td>\n",
       "      <td>794.0 -&gt; 577.0</td>\n",
       "      <td>NaN</td>\n",
       "      <td>TailoredTAG18-1_O3off_RBDCanola0.0005mgmL_0207...</td>\n",
       "      <td>NaN</td>\n",
       "      <td>NaN</td>\n",
       "    </tr>\n",
       "    <tr>\n",
       "      <th>16</th>\n",
       "      <td>NaN</td>\n",
       "      <td>796.0</td>\n",
       "      <td>579.0</td>\n",
       "      <td>2730220.0</td>\n",
       "      <td>796.0 -&gt; 579.0</td>\n",
       "      <td>NaN</td>\n",
       "      <td>TailoredTAG18-1_O3off_RBDCanola0.0005mgmL_0207...</td>\n",
       "      <td>NaN</td>\n",
       "      <td>NaN</td>\n",
       "    </tr>\n",
       "    <tr>\n",
       "      <th>17</th>\n",
       "      <td>NaN</td>\n",
       "      <td>812.0</td>\n",
       "      <td>595.0</td>\n",
       "      <td>1487197.0</td>\n",
       "      <td>812.0 -&gt; 595.0</td>\n",
       "      <td>NaN</td>\n",
       "      <td>TailoredTAG18-1_O3off_RBDCanola0.0005mgmL_0207...</td>\n",
       "      <td>NaN</td>\n",
       "      <td>NaN</td>\n",
       "    </tr>\n",
       "    <tr>\n",
       "      <th>18</th>\n",
       "      <td>NaN</td>\n",
       "      <td>814.0</td>\n",
       "      <td>597.0</td>\n",
       "      <td>1833394.0</td>\n",
       "      <td>814.0 -&gt; 597.0</td>\n",
       "      <td>NaN</td>\n",
       "      <td>TailoredTAG18-1_O3off_RBDCanola0.0005mgmL_0207...</td>\n",
       "      <td>NaN</td>\n",
       "      <td>NaN</td>\n",
       "    </tr>\n",
       "    <tr>\n",
       "      <th>19</th>\n",
       "      <td>NaN</td>\n",
       "      <td>816.0</td>\n",
       "      <td>599.0</td>\n",
       "      <td>2668018.0</td>\n",
       "      <td>816.0 -&gt; 599.0</td>\n",
       "      <td>NaN</td>\n",
       "      <td>TailoredTAG18-1_O3off_RBDCanola0.0005mgmL_0207...</td>\n",
       "      <td>NaN</td>\n",
       "      <td>NaN</td>\n",
       "    </tr>\n",
       "    <tr>\n",
       "      <th>20</th>\n",
       "      <td>NaN</td>\n",
       "      <td>818.0</td>\n",
       "      <td>601.0</td>\n",
       "      <td>1527511.0</td>\n",
       "      <td>818.0 -&gt; 601.0</td>\n",
       "      <td>NaN</td>\n",
       "      <td>TailoredTAG18-1_O3off_RBDCanola0.0005mgmL_0207...</td>\n",
       "      <td>NaN</td>\n",
       "      <td>NaN</td>\n",
       "    </tr>\n",
       "    <tr>\n",
       "      <th>21</th>\n",
       "      <td>NaN</td>\n",
       "      <td>820.0</td>\n",
       "      <td>603.0</td>\n",
       "      <td>2749749.0</td>\n",
       "      <td>820.0 -&gt; 603.0</td>\n",
       "      <td>NaN</td>\n",
       "      <td>TailoredTAG18-1_O3off_RBDCanola0.0005mgmL_0207...</td>\n",
       "      <td>NaN</td>\n",
       "      <td>NaN</td>\n",
       "    </tr>\n",
       "    <tr>\n",
       "      <th>22</th>\n",
       "      <td>NaN</td>\n",
       "      <td>822.0</td>\n",
       "      <td>605.0</td>\n",
       "      <td>2444892.0</td>\n",
       "      <td>822.0 -&gt; 605.0</td>\n",
       "      <td>NaN</td>\n",
       "      <td>TailoredTAG18-1_O3off_RBDCanola0.0005mgmL_0207...</td>\n",
       "      <td>NaN</td>\n",
       "      <td>NaN</td>\n",
       "    </tr>\n",
       "    <tr>\n",
       "      <th>23</th>\n",
       "      <td>NaN</td>\n",
       "      <td>868.0</td>\n",
       "      <td>569.0</td>\n",
       "      <td>2147589.0</td>\n",
       "      <td>868.0 -&gt; 569.0</td>\n",
       "      <td>NaN</td>\n",
       "      <td>TailoredTAG18-1_O3off_RBDCanola0.0005mgmL_0207...</td>\n",
       "      <td>NaN</td>\n",
       "      <td>NaN</td>\n",
       "    </tr>\n",
       "    <tr>\n",
       "      <th>24</th>\n",
       "      <td>NaN</td>\n",
       "      <td>868.0</td>\n",
       "      <td>569.0</td>\n",
       "      <td>2077466.0</td>\n",
       "      <td>868.0 -&gt; 569.0</td>\n",
       "      <td>NaN</td>\n",
       "      <td>TailoredTAG18-1_O3off_RBDCanola0.0005mgmL_0207...</td>\n",
       "      <td>NaN</td>\n",
       "      <td>NaN</td>\n",
       "    </tr>\n",
       "    <tr>\n",
       "      <th>25</th>\n",
       "      <td>NaN</td>\n",
       "      <td>870.0</td>\n",
       "      <td>571.0</td>\n",
       "      <td>3446471.0</td>\n",
       "      <td>870.0 -&gt; 571.0</td>\n",
       "      <td>NaN</td>\n",
       "      <td>TailoredTAG18-1_O3off_RBDCanola0.0005mgmL_0207...</td>\n",
       "      <td>NaN</td>\n",
       "      <td>NaN</td>\n",
       "    </tr>\n",
       "    <tr>\n",
       "      <th>26</th>\n",
       "      <td>NaN</td>\n",
       "      <td>872.0</td>\n",
       "      <td>573.0</td>\n",
       "      <td>3569656.0</td>\n",
       "      <td>872.0 -&gt; 573.0</td>\n",
       "      <td>NaN</td>\n",
       "      <td>TailoredTAG18-1_O3off_RBDCanola0.0005mgmL_0207...</td>\n",
       "      <td>12.59</td>\n",
       "      <td>12987.0</td>\n",
       "    </tr>\n",
       "    <tr>\n",
       "      <th>27</th>\n",
       "      <td>NaN</td>\n",
       "      <td>874.0</td>\n",
       "      <td>575.0</td>\n",
       "      <td>20658623.0</td>\n",
       "      <td>874.0 -&gt; 575.0</td>\n",
       "      <td>NaN</td>\n",
       "      <td>TailoredTAG18-1_O3off_RBDCanola0.0005mgmL_0207...</td>\n",
       "      <td>14.37</td>\n",
       "      <td>57446.0</td>\n",
       "    </tr>\n",
       "    <tr>\n",
       "      <th>28</th>\n",
       "      <td>NaN</td>\n",
       "      <td>876.0</td>\n",
       "      <td>577.0</td>\n",
       "      <td>26769009.0</td>\n",
       "      <td>876.0 -&gt; 577.0</td>\n",
       "      <td>NaN</td>\n",
       "      <td>TailoredTAG18-1_O3off_RBDCanola0.0005mgmL_0207...</td>\n",
       "      <td>16.29</td>\n",
       "      <td>188293.0</td>\n",
       "    </tr>\n",
       "    <tr>\n",
       "      <th>29</th>\n",
       "      <td>NaN</td>\n",
       "      <td>894.0</td>\n",
       "      <td>595.0</td>\n",
       "      <td>4333085.0</td>\n",
       "      <td>894.0 -&gt; 595.0</td>\n",
       "      <td>NaN</td>\n",
       "      <td>TailoredTAG18-1_O3off_RBDCanola0.0005mgmL_0207...</td>\n",
       "      <td>9.17</td>\n",
       "      <td>8938.0</td>\n",
       "    </tr>\n",
       "    <tr>\n",
       "      <th>30</th>\n",
       "      <td>NaN</td>\n",
       "      <td>896.0</td>\n",
       "      <td>597.0</td>\n",
       "      <td>3145901.0</td>\n",
       "      <td>896.0 -&gt; 597.0</td>\n",
       "      <td>NaN</td>\n",
       "      <td>TailoredTAG18-1_O3off_RBDCanola0.0005mgmL_0207...</td>\n",
       "      <td>10.77</td>\n",
       "      <td>40080.0</td>\n",
       "    </tr>\n",
       "    <tr>\n",
       "      <th>31</th>\n",
       "      <td>NaN</td>\n",
       "      <td>898.0</td>\n",
       "      <td>599.0</td>\n",
       "      <td>12535827.0</td>\n",
       "      <td>898.0 -&gt; 599.0</td>\n",
       "      <td>NaN</td>\n",
       "      <td>TailoredTAG18-1_O3off_RBDCanola0.0005mgmL_0207...</td>\n",
       "      <td>12.59</td>\n",
       "      <td>160993.0</td>\n",
       "    </tr>\n",
       "    <tr>\n",
       "      <th>32</th>\n",
       "      <td>NaN</td>\n",
       "      <td>900.0</td>\n",
       "      <td>601.0</td>\n",
       "      <td>14229465.0</td>\n",
       "      <td>900.0 -&gt; 601.0</td>\n",
       "      <td>NaN</td>\n",
       "      <td>TailoredTAG18-1_O3off_RBDCanola0.0005mgmL_0207...</td>\n",
       "      <td>14.32</td>\n",
       "      <td>565836.0</td>\n",
       "    </tr>\n",
       "    <tr>\n",
       "      <th>33</th>\n",
       "      <td>NaN</td>\n",
       "      <td>902.0</td>\n",
       "      <td>603.0</td>\n",
       "      <td>34867382.0</td>\n",
       "      <td>902.0 -&gt; 603.0</td>\n",
       "      <td>NaN</td>\n",
       "      <td>TailoredTAG18-1_O3off_RBDCanola0.0005mgmL_0207...</td>\n",
       "      <td>16.24</td>\n",
       "      <td>1646316.0</td>\n",
       "    </tr>\n",
       "    <tr>\n",
       "      <th>34</th>\n",
       "      <td>NaN</td>\n",
       "      <td>904.0</td>\n",
       "      <td>605.0</td>\n",
       "      <td>12858486.0</td>\n",
       "      <td>904.0 -&gt; 605.0</td>\n",
       "      <td>NaN</td>\n",
       "      <td>TailoredTAG18-1_O3off_RBDCanola0.0005mgmL_0207...</td>\n",
       "      <td>16.23</td>\n",
       "      <td>153436.0</td>\n",
       "    </tr>\n",
       "  </tbody>\n",
       "</table>\n",
       "</div>"
      ],
      "text/plain": [
       "   Lipid Parent_Ion Product_Ion   Intensity      Transition Class  \\\n",
       "0    NaN      760.0       571.0   3508930.0  760.0 -> 571.0   NaN   \n",
       "1    NaN      762.0       573.0   4454522.0  762.0 -> 573.0   NaN   \n",
       "2    NaN      764.0       575.0   3342623.0  764.0 -> 575.0   NaN   \n",
       "3    NaN      766.0       577.0   3270586.0  766.0 -> 577.0   NaN   \n",
       "4    NaN      782.0       593.0   2358947.0  782.0 -> 593.0   NaN   \n",
       "5    NaN      784.0       595.0   2304902.0  784.0 -> 595.0   NaN   \n",
       "6    NaN      786.0       569.0   1702709.0  786.0 -> 569.0   NaN   \n",
       "7    NaN      786.0       597.0   3260273.0  786.0 -> 597.0   NaN   \n",
       "8    NaN      788.0       571.0   1629241.0  788.0 -> 571.0   NaN   \n",
       "9    NaN      788.0       599.0   6129489.0  788.0 -> 599.0   NaN   \n",
       "10   NaN      790.0       601.0   2584182.0  790.0 -> 601.0   NaN   \n",
       "11   NaN      790.0       573.0   2510903.0  790.0 -> 573.0   NaN   \n",
       "12   NaN      792.0       603.0   3311812.0  792.0 -> 603.0   NaN   \n",
       "13   NaN      792.0       575.0   1778559.0  792.0 -> 575.0   NaN   \n",
       "14   NaN      794.0       605.0   4324463.0  794.0 -> 605.0   NaN   \n",
       "15   NaN      794.0       577.0   2595165.0  794.0 -> 577.0   NaN   \n",
       "16   NaN      796.0       579.0   2730220.0  796.0 -> 579.0   NaN   \n",
       "17   NaN      812.0       595.0   1487197.0  812.0 -> 595.0   NaN   \n",
       "18   NaN      814.0       597.0   1833394.0  814.0 -> 597.0   NaN   \n",
       "19   NaN      816.0       599.0   2668018.0  816.0 -> 599.0   NaN   \n",
       "20   NaN      818.0       601.0   1527511.0  818.0 -> 601.0   NaN   \n",
       "21   NaN      820.0       603.0   2749749.0  820.0 -> 603.0   NaN   \n",
       "22   NaN      822.0       605.0   2444892.0  822.0 -> 605.0   NaN   \n",
       "23   NaN      868.0       569.0   2147589.0  868.0 -> 569.0   NaN   \n",
       "24   NaN      868.0       569.0   2077466.0  868.0 -> 569.0   NaN   \n",
       "25   NaN      870.0       571.0   3446471.0  870.0 -> 571.0   NaN   \n",
       "26   NaN      872.0       573.0   3569656.0  872.0 -> 573.0   NaN   \n",
       "27   NaN      874.0       575.0  20658623.0  874.0 -> 575.0   NaN   \n",
       "28   NaN      876.0       577.0  26769009.0  876.0 -> 577.0   NaN   \n",
       "29   NaN      894.0       595.0   4333085.0  894.0 -> 595.0   NaN   \n",
       "30   NaN      896.0       597.0   3145901.0  896.0 -> 597.0   NaN   \n",
       "31   NaN      898.0       599.0  12535827.0  898.0 -> 599.0   NaN   \n",
       "32   NaN      900.0       601.0  14229465.0  900.0 -> 601.0   NaN   \n",
       "33   NaN      902.0       603.0  34867382.0  902.0 -> 603.0   NaN   \n",
       "34   NaN      904.0       605.0  12858486.0  904.0 -> 605.0   NaN   \n",
       "\n",
       "                                            Sample_ID  Retention_Time  \\\n",
       "0   TailoredTAG18-1_O3off_RBDCanola0.0005mgmL_0207...             NaN   \n",
       "1   TailoredTAG18-1_O3off_RBDCanola0.0005mgmL_0207...             NaN   \n",
       "2   TailoredTAG18-1_O3off_RBDCanola0.0005mgmL_0207...             NaN   \n",
       "3   TailoredTAG18-1_O3off_RBDCanola0.0005mgmL_0207...             NaN   \n",
       "4   TailoredTAG18-1_O3off_RBDCanola0.0005mgmL_0207...             NaN   \n",
       "5   TailoredTAG18-1_O3off_RBDCanola0.0005mgmL_0207...             NaN   \n",
       "6   TailoredTAG18-1_O3off_RBDCanola0.0005mgmL_0207...             NaN   \n",
       "7   TailoredTAG18-1_O3off_RBDCanola0.0005mgmL_0207...             NaN   \n",
       "8   TailoredTAG18-1_O3off_RBDCanola0.0005mgmL_0207...             NaN   \n",
       "9   TailoredTAG18-1_O3off_RBDCanola0.0005mgmL_0207...           25.84   \n",
       "10  TailoredTAG18-1_O3off_RBDCanola0.0005mgmL_0207...             NaN   \n",
       "11  TailoredTAG18-1_O3off_RBDCanola0.0005mgmL_0207...             NaN   \n",
       "12  TailoredTAG18-1_O3off_RBDCanola0.0005mgmL_0207...             NaN   \n",
       "13  TailoredTAG18-1_O3off_RBDCanola0.0005mgmL_0207...             NaN   \n",
       "14  TailoredTAG18-1_O3off_RBDCanola0.0005mgmL_0207...             NaN   \n",
       "15  TailoredTAG18-1_O3off_RBDCanola0.0005mgmL_0207...             NaN   \n",
       "16  TailoredTAG18-1_O3off_RBDCanola0.0005mgmL_0207...             NaN   \n",
       "17  TailoredTAG18-1_O3off_RBDCanola0.0005mgmL_0207...             NaN   \n",
       "18  TailoredTAG18-1_O3off_RBDCanola0.0005mgmL_0207...             NaN   \n",
       "19  TailoredTAG18-1_O3off_RBDCanola0.0005mgmL_0207...             NaN   \n",
       "20  TailoredTAG18-1_O3off_RBDCanola0.0005mgmL_0207...             NaN   \n",
       "21  TailoredTAG18-1_O3off_RBDCanola0.0005mgmL_0207...             NaN   \n",
       "22  TailoredTAG18-1_O3off_RBDCanola0.0005mgmL_0207...             NaN   \n",
       "23  TailoredTAG18-1_O3off_RBDCanola0.0005mgmL_0207...             NaN   \n",
       "24  TailoredTAG18-1_O3off_RBDCanola0.0005mgmL_0207...             NaN   \n",
       "25  TailoredTAG18-1_O3off_RBDCanola0.0005mgmL_0207...             NaN   \n",
       "26  TailoredTAG18-1_O3off_RBDCanola0.0005mgmL_0207...           12.59   \n",
       "27  TailoredTAG18-1_O3off_RBDCanola0.0005mgmL_0207...           14.37   \n",
       "28  TailoredTAG18-1_O3off_RBDCanola0.0005mgmL_0207...           16.29   \n",
       "29  TailoredTAG18-1_O3off_RBDCanola0.0005mgmL_0207...            9.17   \n",
       "30  TailoredTAG18-1_O3off_RBDCanola0.0005mgmL_0207...           10.77   \n",
       "31  TailoredTAG18-1_O3off_RBDCanola0.0005mgmL_0207...           12.59   \n",
       "32  TailoredTAG18-1_O3off_RBDCanola0.0005mgmL_0207...           14.32   \n",
       "33  TailoredTAG18-1_O3off_RBDCanola0.0005mgmL_0207...           16.24   \n",
       "34  TailoredTAG18-1_O3off_RBDCanola0.0005mgmL_0207...           16.23   \n",
       "\n",
       "    Intensity_OzESI  \n",
       "0               NaN  \n",
       "1               NaN  \n",
       "2               NaN  \n",
       "3               NaN  \n",
       "4               NaN  \n",
       "5               NaN  \n",
       "6               NaN  \n",
       "7               NaN  \n",
       "8               NaN  \n",
       "9            5236.0  \n",
       "10              NaN  \n",
       "11              NaN  \n",
       "12              NaN  \n",
       "13              NaN  \n",
       "14              NaN  \n",
       "15              NaN  \n",
       "16              NaN  \n",
       "17              NaN  \n",
       "18              NaN  \n",
       "19              NaN  \n",
       "20              NaN  \n",
       "21              NaN  \n",
       "22              NaN  \n",
       "23              NaN  \n",
       "24              NaN  \n",
       "25              NaN  \n",
       "26          12987.0  \n",
       "27          57446.0  \n",
       "28         188293.0  \n",
       "29           8938.0  \n",
       "30          40080.0  \n",
       "31         160993.0  \n",
       "32         565836.0  \n",
       "33        1646316.0  \n",
       "34         153436.0  "
      ]
     },
     "execution_count": 8,
     "metadata": {},
     "output_type": "execute_result"
    }
   ],
   "source": [
    "# df.tail(5) #Print the pandas dataframe\n",
    "#add column for Retention_Time\n",
    "df['Retention_Time'] = None\n",
    "df['Intensity_OzESI'] = None\n",
    "\n",
    "# #if transition is in OzESI_rt_df_top then add the time to the df\n",
    "# for i in range(len(df)):\n",
    "#     for j in range(len(OzESI_rt_df_top)):\n",
    "#         if df.loc[i,'Transition'] == OzESI_rt_df_top.loc[j,'Transition']:\n",
    "#             df.loc[i,'Retention_Time'] = OzESI_rt_df_top.loc[j,'time']\n",
    "#             #print(df.loc[i,'Retention_Time'])\n",
    "\n",
    "# Create a dictionary to map transitions to retention times\n",
    "transitions_to_rt = dict(zip(OzESI_rt_df_top['Transition'], OzESI_rt_df_top['Retention_Time']))\n",
    "\n",
    "\n",
    "# Use the map function to add retention times to the dataframe\n",
    "df['Retention_Time'] = df['Transition'].map(transitions_to_rt)\n",
    "transitions_to_rt = dict(zip(OzESI_rt_df_top['Transition'], OzESI_rt_df_top['intensity']))\n",
    "df['Intensity_OzESI'] = df['Transition'].map(transitions_to_rt)\n",
    "\n",
    "    \n",
    "print(OzESI_rt_df_top)\n",
    "df.head(None)"
   ]
  },
  {
   "cell_type": "code",
   "execution_count": 9,
   "metadata": {},
   "outputs": [
    {
     "data": {
      "text/html": [
       "<div>\n",
       "<style scoped>\n",
       "    .dataframe tbody tr th:only-of-type {\n",
       "        vertical-align: middle;\n",
       "    }\n",
       "\n",
       "    .dataframe tbody tr th {\n",
       "        vertical-align: top;\n",
       "    }\n",
       "\n",
       "    .dataframe thead th {\n",
       "        text-align: right;\n",
       "    }\n",
       "</style>\n",
       "<table border=\"1\" class=\"dataframe\">\n",
       "  <thead>\n",
       "    <tr style=\"text-align: right;\">\n",
       "      <th></th>\n",
       "      <th>DB_Position</th>\n",
       "      <th>Aldehyde_Ion</th>\n",
       "    </tr>\n",
       "  </thead>\n",
       "  <tbody>\n",
       "    <tr>\n",
       "      <th>3</th>\n",
       "      <td>3</td>\n",
       "      <td>26</td>\n",
       "    </tr>\n",
       "    <tr>\n",
       "      <th>4</th>\n",
       "      <td>4</td>\n",
       "      <td>40</td>\n",
       "    </tr>\n",
       "    <tr>\n",
       "      <th>5</th>\n",
       "      <td>5</td>\n",
       "      <td>54</td>\n",
       "    </tr>\n",
       "    <tr>\n",
       "      <th>6</th>\n",
       "      <td>6</td>\n",
       "      <td>68</td>\n",
       "    </tr>\n",
       "    <tr>\n",
       "      <th>7</th>\n",
       "      <td>7</td>\n",
       "      <td>82</td>\n",
       "    </tr>\n",
       "    <tr>\n",
       "      <th>8</th>\n",
       "      <td>8</td>\n",
       "      <td>96</td>\n",
       "    </tr>\n",
       "    <tr>\n",
       "      <th>9</th>\n",
       "      <td>9</td>\n",
       "      <td>110</td>\n",
       "    </tr>\n",
       "    <tr>\n",
       "      <th>10</th>\n",
       "      <td>10</td>\n",
       "      <td>124</td>\n",
       "    </tr>\n",
       "    <tr>\n",
       "      <th>11</th>\n",
       "      <td>11</td>\n",
       "      <td>138</td>\n",
       "    </tr>\n",
       "    <tr>\n",
       "      <th>12</th>\n",
       "      <td>12</td>\n",
       "      <td>152</td>\n",
       "    </tr>\n",
       "    <tr>\n",
       "      <th>13</th>\n",
       "      <td>13</td>\n",
       "      <td>166</td>\n",
       "    </tr>\n",
       "    <tr>\n",
       "      <th>14</th>\n",
       "      <td>14</td>\n",
       "      <td>180</td>\n",
       "    </tr>\n",
       "    <tr>\n",
       "      <th>15</th>\n",
       "      <td>15</td>\n",
       "      <td>194</td>\n",
       "    </tr>\n",
       "    <tr>\n",
       "      <th>16</th>\n",
       "      <td>16</td>\n",
       "      <td>208</td>\n",
       "    </tr>\n",
       "    <tr>\n",
       "      <th>17</th>\n",
       "      <td>17</td>\n",
       "      <td>222</td>\n",
       "    </tr>\n",
       "    <tr>\n",
       "      <th>18</th>\n",
       "      <td>18</td>\n",
       "      <td>236</td>\n",
       "    </tr>\n",
       "    <tr>\n",
       "      <th>19</th>\n",
       "      <td>19</td>\n",
       "      <td>250</td>\n",
       "    </tr>\n",
       "    <tr>\n",
       "      <th>20</th>\n",
       "      <td>20</td>\n",
       "      <td>264</td>\n",
       "    </tr>\n",
       "  </tbody>\n",
       "</table>\n",
       "</div>"
      ],
      "text/plain": [
       "   DB_Position Aldehyde_Ion\n",
       "3            3           26\n",
       "4            4           40\n",
       "5            5           54\n",
       "6            6           68\n",
       "7            7           82\n",
       "8            8           96\n",
       "9            9          110\n",
       "10          10          124\n",
       "11          11          138\n",
       "12          12          152\n",
       "13          13          166\n",
       "14          14          180\n",
       "15          15          194\n",
       "16          16          208\n",
       "17          17          222\n",
       "18          18          236\n",
       "19          19          250\n",
       "20          20          264"
      ]
     },
     "execution_count": 9,
     "metadata": {},
     "output_type": "execute_result"
    }
   ],
   "source": [
    "\n",
    "df_OzESI = pd.DataFrame(columns=['DB_Position','Aldehyde_Ion'])\n",
    "\n",
    "for i in range(3,21):\n",
    "    df_OzESI.loc[i,'DB_Position'] = i\n",
    "    df_OzESI.loc[i,'Aldehyde_Ion'] = 26 + (14 * (i-3))\n",
    "\n",
    "df_OzESI.head(25)\n"
   ]
  },
  {
   "cell_type": "code",
   "execution_count": 10,
   "metadata": {},
   "outputs": [
    {
     "name": "stdout",
     "output_type": "stream",
     "text": [
      "(35, 9)\n",
      "(35, 14)\n"
     ]
    },
    {
     "data": {
      "text/html": [
       "<div>\n",
       "<style scoped>\n",
       "    .dataframe tbody tr th:only-of-type {\n",
       "        vertical-align: middle;\n",
       "    }\n",
       "\n",
       "    .dataframe tbody tr th {\n",
       "        vertical-align: top;\n",
       "    }\n",
       "\n",
       "    .dataframe thead th {\n",
       "        text-align: right;\n",
       "    }\n",
       "</style>\n",
       "<table border=\"1\" class=\"dataframe\">\n",
       "  <thead>\n",
       "    <tr style=\"text-align: right;\">\n",
       "      <th></th>\n",
       "      <th>Lipid</th>\n",
       "      <th>Parent_Ion</th>\n",
       "      <th>Product_Ion</th>\n",
       "      <th>Intensity</th>\n",
       "      <th>Transition</th>\n",
       "      <th>Class</th>\n",
       "      <th>Sample_ID</th>\n",
       "      <th>Retention_Time</th>\n",
       "      <th>Intensity_OzESI</th>\n",
       "      <th>n-3</th>\n",
       "      <th>n-5</th>\n",
       "      <th>n-7</th>\n",
       "      <th>n-9</th>\n",
       "      <th>n-11</th>\n",
       "    </tr>\n",
       "  </thead>\n",
       "  <tbody>\n",
       "    <tr>\n",
       "      <th>0</th>\n",
       "      <td>NaN</td>\n",
       "      <td>760.0</td>\n",
       "      <td>571.0</td>\n",
       "      <td>3508930.0</td>\n",
       "      <td>760.0 -&gt; 571.0</td>\n",
       "      <td>NaN</td>\n",
       "      <td>TailoredTAG18-1_O3off_RBDCanola0.0005mgmL_0207...</td>\n",
       "      <td>NaN</td>\n",
       "      <td>NaN</td>\n",
       "      <td>734.0</td>\n",
       "      <td>706.0</td>\n",
       "      <td>678.0</td>\n",
       "      <td>650.0</td>\n",
       "      <td>622.0</td>\n",
       "    </tr>\n",
       "    <tr>\n",
       "      <th>1</th>\n",
       "      <td>NaN</td>\n",
       "      <td>762.0</td>\n",
       "      <td>573.0</td>\n",
       "      <td>4454522.0</td>\n",
       "      <td>762.0 -&gt; 573.0</td>\n",
       "      <td>NaN</td>\n",
       "      <td>TailoredTAG18-1_O3off_RBDCanola0.0005mgmL_0207...</td>\n",
       "      <td>NaN</td>\n",
       "      <td>NaN</td>\n",
       "      <td>736.0</td>\n",
       "      <td>708.0</td>\n",
       "      <td>680.0</td>\n",
       "      <td>652.0</td>\n",
       "      <td>624.0</td>\n",
       "    </tr>\n",
       "    <tr>\n",
       "      <th>2</th>\n",
       "      <td>NaN</td>\n",
       "      <td>764.0</td>\n",
       "      <td>575.0</td>\n",
       "      <td>3342623.0</td>\n",
       "      <td>764.0 -&gt; 575.0</td>\n",
       "      <td>NaN</td>\n",
       "      <td>TailoredTAG18-1_O3off_RBDCanola0.0005mgmL_0207...</td>\n",
       "      <td>NaN</td>\n",
       "      <td>NaN</td>\n",
       "      <td>738.0</td>\n",
       "      <td>710.0</td>\n",
       "      <td>682.0</td>\n",
       "      <td>654.0</td>\n",
       "      <td>626.0</td>\n",
       "    </tr>\n",
       "    <tr>\n",
       "      <th>3</th>\n",
       "      <td>NaN</td>\n",
       "      <td>766.0</td>\n",
       "      <td>577.0</td>\n",
       "      <td>3270586.0</td>\n",
       "      <td>766.0 -&gt; 577.0</td>\n",
       "      <td>NaN</td>\n",
       "      <td>TailoredTAG18-1_O3off_RBDCanola0.0005mgmL_0207...</td>\n",
       "      <td>NaN</td>\n",
       "      <td>NaN</td>\n",
       "      <td>740.0</td>\n",
       "      <td>712.0</td>\n",
       "      <td>684.0</td>\n",
       "      <td>656.0</td>\n",
       "      <td>628.0</td>\n",
       "    </tr>\n",
       "    <tr>\n",
       "      <th>4</th>\n",
       "      <td>NaN</td>\n",
       "      <td>782.0</td>\n",
       "      <td>593.0</td>\n",
       "      <td>2358947.0</td>\n",
       "      <td>782.0 -&gt; 593.0</td>\n",
       "      <td>NaN</td>\n",
       "      <td>TailoredTAG18-1_O3off_RBDCanola0.0005mgmL_0207...</td>\n",
       "      <td>NaN</td>\n",
       "      <td>NaN</td>\n",
       "      <td>756.0</td>\n",
       "      <td>728.0</td>\n",
       "      <td>700.0</td>\n",
       "      <td>672.0</td>\n",
       "      <td>644.0</td>\n",
       "    </tr>\n",
       "    <tr>\n",
       "      <th>5</th>\n",
       "      <td>NaN</td>\n",
       "      <td>784.0</td>\n",
       "      <td>595.0</td>\n",
       "      <td>2304902.0</td>\n",
       "      <td>784.0 -&gt; 595.0</td>\n",
       "      <td>NaN</td>\n",
       "      <td>TailoredTAG18-1_O3off_RBDCanola0.0005mgmL_0207...</td>\n",
       "      <td>NaN</td>\n",
       "      <td>NaN</td>\n",
       "      <td>758.0</td>\n",
       "      <td>730.0</td>\n",
       "      <td>702.0</td>\n",
       "      <td>674.0</td>\n",
       "      <td>646.0</td>\n",
       "    </tr>\n",
       "    <tr>\n",
       "      <th>6</th>\n",
       "      <td>NaN</td>\n",
       "      <td>786.0</td>\n",
       "      <td>569.0</td>\n",
       "      <td>1702709.0</td>\n",
       "      <td>786.0 -&gt; 569.0</td>\n",
       "      <td>NaN</td>\n",
       "      <td>TailoredTAG18-1_O3off_RBDCanola0.0005mgmL_0207...</td>\n",
       "      <td>NaN</td>\n",
       "      <td>NaN</td>\n",
       "      <td>760.0</td>\n",
       "      <td>732.0</td>\n",
       "      <td>704.0</td>\n",
       "      <td>676.0</td>\n",
       "      <td>648.0</td>\n",
       "    </tr>\n",
       "    <tr>\n",
       "      <th>7</th>\n",
       "      <td>NaN</td>\n",
       "      <td>786.0</td>\n",
       "      <td>597.0</td>\n",
       "      <td>3260273.0</td>\n",
       "      <td>786.0 -&gt; 597.0</td>\n",
       "      <td>NaN</td>\n",
       "      <td>TailoredTAG18-1_O3off_RBDCanola0.0005mgmL_0207...</td>\n",
       "      <td>NaN</td>\n",
       "      <td>NaN</td>\n",
       "      <td>760.0</td>\n",
       "      <td>732.0</td>\n",
       "      <td>704.0</td>\n",
       "      <td>676.0</td>\n",
       "      <td>648.0</td>\n",
       "    </tr>\n",
       "    <tr>\n",
       "      <th>8</th>\n",
       "      <td>NaN</td>\n",
       "      <td>788.0</td>\n",
       "      <td>571.0</td>\n",
       "      <td>1629241.0</td>\n",
       "      <td>788.0 -&gt; 571.0</td>\n",
       "      <td>NaN</td>\n",
       "      <td>TailoredTAG18-1_O3off_RBDCanola0.0005mgmL_0207...</td>\n",
       "      <td>NaN</td>\n",
       "      <td>NaN</td>\n",
       "      <td>762.0</td>\n",
       "      <td>734.0</td>\n",
       "      <td>706.0</td>\n",
       "      <td>678.0</td>\n",
       "      <td>650.0</td>\n",
       "    </tr>\n",
       "    <tr>\n",
       "      <th>9</th>\n",
       "      <td>NaN</td>\n",
       "      <td>788.0</td>\n",
       "      <td>599.0</td>\n",
       "      <td>6129489.0</td>\n",
       "      <td>788.0 -&gt; 599.0</td>\n",
       "      <td>NaN</td>\n",
       "      <td>TailoredTAG18-1_O3off_RBDCanola0.0005mgmL_0207...</td>\n",
       "      <td>25.84</td>\n",
       "      <td>5236.0</td>\n",
       "      <td>762.0</td>\n",
       "      <td>734.0</td>\n",
       "      <td>706.0</td>\n",
       "      <td>678.0</td>\n",
       "      <td>650.0</td>\n",
       "    </tr>\n",
       "    <tr>\n",
       "      <th>10</th>\n",
       "      <td>NaN</td>\n",
       "      <td>790.0</td>\n",
       "      <td>601.0</td>\n",
       "      <td>2584182.0</td>\n",
       "      <td>790.0 -&gt; 601.0</td>\n",
       "      <td>NaN</td>\n",
       "      <td>TailoredTAG18-1_O3off_RBDCanola0.0005mgmL_0207...</td>\n",
       "      <td>NaN</td>\n",
       "      <td>NaN</td>\n",
       "      <td>764.0</td>\n",
       "      <td>736.0</td>\n",
       "      <td>708.0</td>\n",
       "      <td>680.0</td>\n",
       "      <td>652.0</td>\n",
       "    </tr>\n",
       "    <tr>\n",
       "      <th>11</th>\n",
       "      <td>NaN</td>\n",
       "      <td>790.0</td>\n",
       "      <td>573.0</td>\n",
       "      <td>2510903.0</td>\n",
       "      <td>790.0 -&gt; 573.0</td>\n",
       "      <td>NaN</td>\n",
       "      <td>TailoredTAG18-1_O3off_RBDCanola0.0005mgmL_0207...</td>\n",
       "      <td>NaN</td>\n",
       "      <td>NaN</td>\n",
       "      <td>764.0</td>\n",
       "      <td>736.0</td>\n",
       "      <td>708.0</td>\n",
       "      <td>680.0</td>\n",
       "      <td>652.0</td>\n",
       "    </tr>\n",
       "    <tr>\n",
       "      <th>12</th>\n",
       "      <td>NaN</td>\n",
       "      <td>792.0</td>\n",
       "      <td>603.0</td>\n",
       "      <td>3311812.0</td>\n",
       "      <td>792.0 -&gt; 603.0</td>\n",
       "      <td>NaN</td>\n",
       "      <td>TailoredTAG18-1_O3off_RBDCanola0.0005mgmL_0207...</td>\n",
       "      <td>NaN</td>\n",
       "      <td>NaN</td>\n",
       "      <td>766.0</td>\n",
       "      <td>738.0</td>\n",
       "      <td>710.0</td>\n",
       "      <td>682.0</td>\n",
       "      <td>654.0</td>\n",
       "    </tr>\n",
       "    <tr>\n",
       "      <th>13</th>\n",
       "      <td>NaN</td>\n",
       "      <td>792.0</td>\n",
       "      <td>575.0</td>\n",
       "      <td>1778559.0</td>\n",
       "      <td>792.0 -&gt; 575.0</td>\n",
       "      <td>NaN</td>\n",
       "      <td>TailoredTAG18-1_O3off_RBDCanola0.0005mgmL_0207...</td>\n",
       "      <td>NaN</td>\n",
       "      <td>NaN</td>\n",
       "      <td>766.0</td>\n",
       "      <td>738.0</td>\n",
       "      <td>710.0</td>\n",
       "      <td>682.0</td>\n",
       "      <td>654.0</td>\n",
       "    </tr>\n",
       "    <tr>\n",
       "      <th>14</th>\n",
       "      <td>NaN</td>\n",
       "      <td>794.0</td>\n",
       "      <td>605.0</td>\n",
       "      <td>4324463.0</td>\n",
       "      <td>794.0 -&gt; 605.0</td>\n",
       "      <td>NaN</td>\n",
       "      <td>TailoredTAG18-1_O3off_RBDCanola0.0005mgmL_0207...</td>\n",
       "      <td>NaN</td>\n",
       "      <td>NaN</td>\n",
       "      <td>768.0</td>\n",
       "      <td>740.0</td>\n",
       "      <td>712.0</td>\n",
       "      <td>684.0</td>\n",
       "      <td>656.0</td>\n",
       "    </tr>\n",
       "    <tr>\n",
       "      <th>15</th>\n",
       "      <td>NaN</td>\n",
       "      <td>794.0</td>\n",
       "      <td>577.0</td>\n",
       "      <td>2595165.0</td>\n",
       "      <td>794.0 -&gt; 577.0</td>\n",
       "      <td>NaN</td>\n",
       "      <td>TailoredTAG18-1_O3off_RBDCanola0.0005mgmL_0207...</td>\n",
       "      <td>NaN</td>\n",
       "      <td>NaN</td>\n",
       "      <td>768.0</td>\n",
       "      <td>740.0</td>\n",
       "      <td>712.0</td>\n",
       "      <td>684.0</td>\n",
       "      <td>656.0</td>\n",
       "    </tr>\n",
       "    <tr>\n",
       "      <th>16</th>\n",
       "      <td>NaN</td>\n",
       "      <td>796.0</td>\n",
       "      <td>579.0</td>\n",
       "      <td>2730220.0</td>\n",
       "      <td>796.0 -&gt; 579.0</td>\n",
       "      <td>NaN</td>\n",
       "      <td>TailoredTAG18-1_O3off_RBDCanola0.0005mgmL_0207...</td>\n",
       "      <td>NaN</td>\n",
       "      <td>NaN</td>\n",
       "      <td>770.0</td>\n",
       "      <td>742.0</td>\n",
       "      <td>714.0</td>\n",
       "      <td>686.0</td>\n",
       "      <td>658.0</td>\n",
       "    </tr>\n",
       "    <tr>\n",
       "      <th>17</th>\n",
       "      <td>NaN</td>\n",
       "      <td>812.0</td>\n",
       "      <td>595.0</td>\n",
       "      <td>1487197.0</td>\n",
       "      <td>812.0 -&gt; 595.0</td>\n",
       "      <td>NaN</td>\n",
       "      <td>TailoredTAG18-1_O3off_RBDCanola0.0005mgmL_0207...</td>\n",
       "      <td>NaN</td>\n",
       "      <td>NaN</td>\n",
       "      <td>786.0</td>\n",
       "      <td>758.0</td>\n",
       "      <td>730.0</td>\n",
       "      <td>702.0</td>\n",
       "      <td>674.0</td>\n",
       "    </tr>\n",
       "    <tr>\n",
       "      <th>18</th>\n",
       "      <td>NaN</td>\n",
       "      <td>814.0</td>\n",
       "      <td>597.0</td>\n",
       "      <td>1833394.0</td>\n",
       "      <td>814.0 -&gt; 597.0</td>\n",
       "      <td>NaN</td>\n",
       "      <td>TailoredTAG18-1_O3off_RBDCanola0.0005mgmL_0207...</td>\n",
       "      <td>NaN</td>\n",
       "      <td>NaN</td>\n",
       "      <td>788.0</td>\n",
       "      <td>760.0</td>\n",
       "      <td>732.0</td>\n",
       "      <td>704.0</td>\n",
       "      <td>676.0</td>\n",
       "    </tr>\n",
       "    <tr>\n",
       "      <th>19</th>\n",
       "      <td>NaN</td>\n",
       "      <td>816.0</td>\n",
       "      <td>599.0</td>\n",
       "      <td>2668018.0</td>\n",
       "      <td>816.0 -&gt; 599.0</td>\n",
       "      <td>NaN</td>\n",
       "      <td>TailoredTAG18-1_O3off_RBDCanola0.0005mgmL_0207...</td>\n",
       "      <td>NaN</td>\n",
       "      <td>NaN</td>\n",
       "      <td>790.0</td>\n",
       "      <td>762.0</td>\n",
       "      <td>734.0</td>\n",
       "      <td>706.0</td>\n",
       "      <td>678.0</td>\n",
       "    </tr>\n",
       "    <tr>\n",
       "      <th>20</th>\n",
       "      <td>NaN</td>\n",
       "      <td>818.0</td>\n",
       "      <td>601.0</td>\n",
       "      <td>1527511.0</td>\n",
       "      <td>818.0 -&gt; 601.0</td>\n",
       "      <td>NaN</td>\n",
       "      <td>TailoredTAG18-1_O3off_RBDCanola0.0005mgmL_0207...</td>\n",
       "      <td>NaN</td>\n",
       "      <td>NaN</td>\n",
       "      <td>792.0</td>\n",
       "      <td>764.0</td>\n",
       "      <td>736.0</td>\n",
       "      <td>708.0</td>\n",
       "      <td>680.0</td>\n",
       "    </tr>\n",
       "    <tr>\n",
       "      <th>21</th>\n",
       "      <td>NaN</td>\n",
       "      <td>820.0</td>\n",
       "      <td>603.0</td>\n",
       "      <td>2749749.0</td>\n",
       "      <td>820.0 -&gt; 603.0</td>\n",
       "      <td>NaN</td>\n",
       "      <td>TailoredTAG18-1_O3off_RBDCanola0.0005mgmL_0207...</td>\n",
       "      <td>NaN</td>\n",
       "      <td>NaN</td>\n",
       "      <td>794.0</td>\n",
       "      <td>766.0</td>\n",
       "      <td>738.0</td>\n",
       "      <td>710.0</td>\n",
       "      <td>682.0</td>\n",
       "    </tr>\n",
       "    <tr>\n",
       "      <th>22</th>\n",
       "      <td>NaN</td>\n",
       "      <td>822.0</td>\n",
       "      <td>605.0</td>\n",
       "      <td>2444892.0</td>\n",
       "      <td>822.0 -&gt; 605.0</td>\n",
       "      <td>NaN</td>\n",
       "      <td>TailoredTAG18-1_O3off_RBDCanola0.0005mgmL_0207...</td>\n",
       "      <td>NaN</td>\n",
       "      <td>NaN</td>\n",
       "      <td>796.0</td>\n",
       "      <td>768.0</td>\n",
       "      <td>740.0</td>\n",
       "      <td>712.0</td>\n",
       "      <td>684.0</td>\n",
       "    </tr>\n",
       "    <tr>\n",
       "      <th>23</th>\n",
       "      <td>NaN</td>\n",
       "      <td>868.0</td>\n",
       "      <td>569.0</td>\n",
       "      <td>2147589.0</td>\n",
       "      <td>868.0 -&gt; 569.0</td>\n",
       "      <td>NaN</td>\n",
       "      <td>TailoredTAG18-1_O3off_RBDCanola0.0005mgmL_0207...</td>\n",
       "      <td>NaN</td>\n",
       "      <td>NaN</td>\n",
       "      <td>842.0</td>\n",
       "      <td>814.0</td>\n",
       "      <td>786.0</td>\n",
       "      <td>758.0</td>\n",
       "      <td>730.0</td>\n",
       "    </tr>\n",
       "    <tr>\n",
       "      <th>24</th>\n",
       "      <td>NaN</td>\n",
       "      <td>868.0</td>\n",
       "      <td>569.0</td>\n",
       "      <td>2077466.0</td>\n",
       "      <td>868.0 -&gt; 569.0</td>\n",
       "      <td>NaN</td>\n",
       "      <td>TailoredTAG18-1_O3off_RBDCanola0.0005mgmL_0207...</td>\n",
       "      <td>NaN</td>\n",
       "      <td>NaN</td>\n",
       "      <td>842.0</td>\n",
       "      <td>814.0</td>\n",
       "      <td>786.0</td>\n",
       "      <td>758.0</td>\n",
       "      <td>730.0</td>\n",
       "    </tr>\n",
       "  </tbody>\n",
       "</table>\n",
       "</div>"
      ],
      "text/plain": [
       "   Lipid Parent_Ion Product_Ion  Intensity      Transition Class  \\\n",
       "0    NaN      760.0       571.0  3508930.0  760.0 -> 571.0   NaN   \n",
       "1    NaN      762.0       573.0  4454522.0  762.0 -> 573.0   NaN   \n",
       "2    NaN      764.0       575.0  3342623.0  764.0 -> 575.0   NaN   \n",
       "3    NaN      766.0       577.0  3270586.0  766.0 -> 577.0   NaN   \n",
       "4    NaN      782.0       593.0  2358947.0  782.0 -> 593.0   NaN   \n",
       "5    NaN      784.0       595.0  2304902.0  784.0 -> 595.0   NaN   \n",
       "6    NaN      786.0       569.0  1702709.0  786.0 -> 569.0   NaN   \n",
       "7    NaN      786.0       597.0  3260273.0  786.0 -> 597.0   NaN   \n",
       "8    NaN      788.0       571.0  1629241.0  788.0 -> 571.0   NaN   \n",
       "9    NaN      788.0       599.0  6129489.0  788.0 -> 599.0   NaN   \n",
       "10   NaN      790.0       601.0  2584182.0  790.0 -> 601.0   NaN   \n",
       "11   NaN      790.0       573.0  2510903.0  790.0 -> 573.0   NaN   \n",
       "12   NaN      792.0       603.0  3311812.0  792.0 -> 603.0   NaN   \n",
       "13   NaN      792.0       575.0  1778559.0  792.0 -> 575.0   NaN   \n",
       "14   NaN      794.0       605.0  4324463.0  794.0 -> 605.0   NaN   \n",
       "15   NaN      794.0       577.0  2595165.0  794.0 -> 577.0   NaN   \n",
       "16   NaN      796.0       579.0  2730220.0  796.0 -> 579.0   NaN   \n",
       "17   NaN      812.0       595.0  1487197.0  812.0 -> 595.0   NaN   \n",
       "18   NaN      814.0       597.0  1833394.0  814.0 -> 597.0   NaN   \n",
       "19   NaN      816.0       599.0  2668018.0  816.0 -> 599.0   NaN   \n",
       "20   NaN      818.0       601.0  1527511.0  818.0 -> 601.0   NaN   \n",
       "21   NaN      820.0       603.0  2749749.0  820.0 -> 603.0   NaN   \n",
       "22   NaN      822.0       605.0  2444892.0  822.0 -> 605.0   NaN   \n",
       "23   NaN      868.0       569.0  2147589.0  868.0 -> 569.0   NaN   \n",
       "24   NaN      868.0       569.0  2077466.0  868.0 -> 569.0   NaN   \n",
       "\n",
       "                                            Sample_ID  Retention_Time  \\\n",
       "0   TailoredTAG18-1_O3off_RBDCanola0.0005mgmL_0207...             NaN   \n",
       "1   TailoredTAG18-1_O3off_RBDCanola0.0005mgmL_0207...             NaN   \n",
       "2   TailoredTAG18-1_O3off_RBDCanola0.0005mgmL_0207...             NaN   \n",
       "3   TailoredTAG18-1_O3off_RBDCanola0.0005mgmL_0207...             NaN   \n",
       "4   TailoredTAG18-1_O3off_RBDCanola0.0005mgmL_0207...             NaN   \n",
       "5   TailoredTAG18-1_O3off_RBDCanola0.0005mgmL_0207...             NaN   \n",
       "6   TailoredTAG18-1_O3off_RBDCanola0.0005mgmL_0207...             NaN   \n",
       "7   TailoredTAG18-1_O3off_RBDCanola0.0005mgmL_0207...             NaN   \n",
       "8   TailoredTAG18-1_O3off_RBDCanola0.0005mgmL_0207...             NaN   \n",
       "9   TailoredTAG18-1_O3off_RBDCanola0.0005mgmL_0207...           25.84   \n",
       "10  TailoredTAG18-1_O3off_RBDCanola0.0005mgmL_0207...             NaN   \n",
       "11  TailoredTAG18-1_O3off_RBDCanola0.0005mgmL_0207...             NaN   \n",
       "12  TailoredTAG18-1_O3off_RBDCanola0.0005mgmL_0207...             NaN   \n",
       "13  TailoredTAG18-1_O3off_RBDCanola0.0005mgmL_0207...             NaN   \n",
       "14  TailoredTAG18-1_O3off_RBDCanola0.0005mgmL_0207...             NaN   \n",
       "15  TailoredTAG18-1_O3off_RBDCanola0.0005mgmL_0207...             NaN   \n",
       "16  TailoredTAG18-1_O3off_RBDCanola0.0005mgmL_0207...             NaN   \n",
       "17  TailoredTAG18-1_O3off_RBDCanola0.0005mgmL_0207...             NaN   \n",
       "18  TailoredTAG18-1_O3off_RBDCanola0.0005mgmL_0207...             NaN   \n",
       "19  TailoredTAG18-1_O3off_RBDCanola0.0005mgmL_0207...             NaN   \n",
       "20  TailoredTAG18-1_O3off_RBDCanola0.0005mgmL_0207...             NaN   \n",
       "21  TailoredTAG18-1_O3off_RBDCanola0.0005mgmL_0207...             NaN   \n",
       "22  TailoredTAG18-1_O3off_RBDCanola0.0005mgmL_0207...             NaN   \n",
       "23  TailoredTAG18-1_O3off_RBDCanola0.0005mgmL_0207...             NaN   \n",
       "24  TailoredTAG18-1_O3off_RBDCanola0.0005mgmL_0207...             NaN   \n",
       "\n",
       "    Intensity_OzESI    n-3    n-5    n-7    n-9   n-11  \n",
       "0               NaN  734.0  706.0  678.0  650.0  622.0  \n",
       "1               NaN  736.0  708.0  680.0  652.0  624.0  \n",
       "2               NaN  738.0  710.0  682.0  654.0  626.0  \n",
       "3               NaN  740.0  712.0  684.0  656.0  628.0  \n",
       "4               NaN  756.0  728.0  700.0  672.0  644.0  \n",
       "5               NaN  758.0  730.0  702.0  674.0  646.0  \n",
       "6               NaN  760.0  732.0  704.0  676.0  648.0  \n",
       "7               NaN  760.0  732.0  704.0  676.0  648.0  \n",
       "8               NaN  762.0  734.0  706.0  678.0  650.0  \n",
       "9            5236.0  762.0  734.0  706.0  678.0  650.0  \n",
       "10              NaN  764.0  736.0  708.0  680.0  652.0  \n",
       "11              NaN  764.0  736.0  708.0  680.0  652.0  \n",
       "12              NaN  766.0  738.0  710.0  682.0  654.0  \n",
       "13              NaN  766.0  738.0  710.0  682.0  654.0  \n",
       "14              NaN  768.0  740.0  712.0  684.0  656.0  \n",
       "15              NaN  768.0  740.0  712.0  684.0  656.0  \n",
       "16              NaN  770.0  742.0  714.0  686.0  658.0  \n",
       "17              NaN  786.0  758.0  730.0  702.0  674.0  \n",
       "18              NaN  788.0  760.0  732.0  704.0  676.0  \n",
       "19              NaN  790.0  762.0  734.0  706.0  678.0  \n",
       "20              NaN  792.0  764.0  736.0  708.0  680.0  \n",
       "21              NaN  794.0  766.0  738.0  710.0  682.0  \n",
       "22              NaN  796.0  768.0  740.0  712.0  684.0  \n",
       "23              NaN  842.0  814.0  786.0  758.0  730.0  \n",
       "24              NaN  842.0  814.0  786.0  758.0  730.0  "
      ]
     },
     "execution_count": 10,
     "metadata": {},
     "output_type": "execute_result"
    }
   ],
   "source": [
    "print(df.shape)\n",
    "OzESI_list = [3,5,7,9,11]\n",
    "starting_column = 9\n",
    "last_column = 14\n",
    "#create columns in found list called n-# based on the numbers in OzESI_list\n",
    "for i in OzESI_list:\n",
    "    df['n-' + str(i)] = ''\n",
    "# print(df.head(5))\n",
    "print(df.shape)\n",
    "# Parent_Ion - Aldehyde_Ion *\n",
    "\n",
    "# Subtract the aldehyde ion from the parent ion with the corresponding DB position and add the result to the found_list dataframe\n",
    "for i in range(3,len(df_OzESI)):\n",
    "    for j in range(len(df)):\n",
    "        #if df_OzESI.loc[i,'DB_Position']:\n",
    "        for k in range(starting_column,last_column):\n",
    "            if df_OzESI.loc[i,'DB_Position'] == OzESI_list[k-starting_column]:\n",
    "                df.iloc[j,k] = df.iloc[j,1] - df_OzESI.loc[i,'Aldehyde_Ion']\n",
    "\n",
    "# for i, row in df_OzESI.iloc[3:].iterrows():\n",
    "#     mask = df_OzESI['DB_Position'] == row['DB_Position']\n",
    "#     found_list.loc[mask, OzESI_list] = found_list.loc[mask, ['Parent_Ion']].sub(row['Aldehyde_Ion'] - 1)\n",
    "\n",
    "        \n",
    "df.head(25)"
   ]
  },
  {
   "cell_type": "code",
   "execution_count": null,
   "metadata": {},
   "outputs": [],
   "source": []
  },
  {
   "attachments": {},
   "cell_type": "markdown",
   "metadata": {},
   "source": [
    "Load MRM transitions from csv file to pandas dataframe. This list will be used to identify the possible lipids in our sample."
   ]
  },
  {
   "cell_type": "code",
   "execution_count": 12,
   "metadata": {},
   "outputs": [
    {
     "data": {
      "text/html": [
       "<div>\n",
       "<style scoped>\n",
       "    .dataframe tbody tr th:only-of-type {\n",
       "        vertical-align: middle;\n",
       "    }\n",
       "\n",
       "    .dataframe tbody tr th {\n",
       "        vertical-align: top;\n",
       "    }\n",
       "\n",
       "    .dataframe thead th {\n",
       "        text-align: right;\n",
       "    }\n",
       "</style>\n",
       "<table border=\"1\" class=\"dataframe\">\n",
       "  <thead>\n",
       "    <tr style=\"text-align: right;\">\n",
       "      <th></th>\n",
       "      <th>Lipid</th>\n",
       "      <th>Parent_Ion</th>\n",
       "      <th>Product_Ion</th>\n",
       "      <th>Intensity</th>\n",
       "      <th>Transition</th>\n",
       "      <th>Class</th>\n",
       "      <th>Sample_ID</th>\n",
       "      <th>Retention_Time</th>\n",
       "      <th>Intensity_OzESI</th>\n",
       "      <th>n-3</th>\n",
       "      <th>n-5</th>\n",
       "      <th>n-7</th>\n",
       "      <th>n-9</th>\n",
       "      <th>n-11</th>\n",
       "    </tr>\n",
       "  </thead>\n",
       "  <tbody>\n",
       "    <tr>\n",
       "      <th>0</th>\n",
       "      <td>PG(34:4)</td>\n",
       "      <td>760.0</td>\n",
       "      <td>571.0</td>\n",
       "      <td>3508930.0</td>\n",
       "      <td>760.0 -&gt; 571.0</td>\n",
       "      <td>PG</td>\n",
       "      <td>TailoredTAG18-1_O3off_RBDCanola0.0005mgmL_0207...</td>\n",
       "      <td>NaN</td>\n",
       "      <td>NaN</td>\n",
       "      <td>734.0</td>\n",
       "      <td>706.0</td>\n",
       "      <td>678.0</td>\n",
       "      <td>650.0</td>\n",
       "      <td>622.0</td>\n",
       "    </tr>\n",
       "    <tr>\n",
       "      <th>1</th>\n",
       "      <td>PG(34:3),PG(P-35:2)</td>\n",
       "      <td>762.0</td>\n",
       "      <td>573.0</td>\n",
       "      <td>4454522.0</td>\n",
       "      <td>762.0 -&gt; 573.0</td>\n",
       "      <td>PG</td>\n",
       "      <td>TailoredTAG18-1_O3off_RBDCanola0.0005mgmL_0207...</td>\n",
       "      <td>NaN</td>\n",
       "      <td>NaN</td>\n",
       "      <td>736.0</td>\n",
       "      <td>708.0</td>\n",
       "      <td>680.0</td>\n",
       "      <td>652.0</td>\n",
       "      <td>624.0</td>\n",
       "    </tr>\n",
       "    <tr>\n",
       "      <th>2</th>\n",
       "      <td>PG(O-35:2),PG(P-35:1)</td>\n",
       "      <td>764.0</td>\n",
       "      <td>575.0</td>\n",
       "      <td>3342623.0</td>\n",
       "      <td>764.0 -&gt; 575.0</td>\n",
       "      <td>PG</td>\n",
       "      <td>TailoredTAG18-1_O3off_RBDCanola0.0005mgmL_0207...</td>\n",
       "      <td>NaN</td>\n",
       "      <td>NaN</td>\n",
       "      <td>738.0</td>\n",
       "      <td>710.0</td>\n",
       "      <td>682.0</td>\n",
       "      <td>654.0</td>\n",
       "      <td>626.0</td>\n",
       "    </tr>\n",
       "    <tr>\n",
       "      <th>3</th>\n",
       "      <td>PG(O-35:1),PG(P-35:0)</td>\n",
       "      <td>766.0</td>\n",
       "      <td>577.0</td>\n",
       "      <td>3270586.0</td>\n",
       "      <td>766.0 -&gt; 577.0</td>\n",
       "      <td>PG</td>\n",
       "      <td>TailoredTAG18-1_O3off_RBDCanola0.0005mgmL_0207...</td>\n",
       "      <td>NaN</td>\n",
       "      <td>NaN</td>\n",
       "      <td>740.0</td>\n",
       "      <td>712.0</td>\n",
       "      <td>684.0</td>\n",
       "      <td>656.0</td>\n",
       "      <td>628.0</td>\n",
       "    </tr>\n",
       "    <tr>\n",
       "      <th>4</th>\n",
       "      <td>PG(36:7),PG(35:0),PG(O-36:0)</td>\n",
       "      <td>782.0</td>\n",
       "      <td>593.0</td>\n",
       "      <td>2358947.0</td>\n",
       "      <td>782.0 -&gt; 593.0</td>\n",
       "      <td>PG</td>\n",
       "      <td>TailoredTAG18-1_O3off_RBDCanola0.0005mgmL_0207...</td>\n",
       "      <td>NaN</td>\n",
       "      <td>NaN</td>\n",
       "      <td>756.0</td>\n",
       "      <td>728.0</td>\n",
       "      <td>700.0</td>\n",
       "      <td>672.0</td>\n",
       "      <td>644.0</td>\n",
       "    </tr>\n",
       "    <tr>\n",
       "      <th>5</th>\n",
       "      <td>PG(36:6)</td>\n",
       "      <td>784.0</td>\n",
       "      <td>595.0</td>\n",
       "      <td>2304902.0</td>\n",
       "      <td>784.0 -&gt; 595.0</td>\n",
       "      <td>PG</td>\n",
       "      <td>TailoredTAG18-1_O3off_RBDCanola0.0005mgmL_0207...</td>\n",
       "      <td>NaN</td>\n",
       "      <td>NaN</td>\n",
       "      <td>758.0</td>\n",
       "      <td>730.0</td>\n",
       "      <td>702.0</td>\n",
       "      <td>674.0</td>\n",
       "      <td>646.0</td>\n",
       "    </tr>\n",
       "    <tr>\n",
       "      <th>6</th>\n",
       "      <td>NaN</td>\n",
       "      <td>786.0</td>\n",
       "      <td>569.0</td>\n",
       "      <td>1702709.0</td>\n",
       "      <td>786.0 -&gt; 569.0</td>\n",
       "      <td>NaN</td>\n",
       "      <td>TailoredTAG18-1_O3off_RBDCanola0.0005mgmL_0207...</td>\n",
       "      <td>NaN</td>\n",
       "      <td>NaN</td>\n",
       "      <td>760.0</td>\n",
       "      <td>732.0</td>\n",
       "      <td>704.0</td>\n",
       "      <td>676.0</td>\n",
       "      <td>648.0</td>\n",
       "    </tr>\n",
       "    <tr>\n",
       "      <th>7</th>\n",
       "      <td>PG(36:5)</td>\n",
       "      <td>786.0</td>\n",
       "      <td>597.0</td>\n",
       "      <td>3260273.0</td>\n",
       "      <td>786.0 -&gt; 597.0</td>\n",
       "      <td>PG</td>\n",
       "      <td>TailoredTAG18-1_O3off_RBDCanola0.0005mgmL_0207...</td>\n",
       "      <td>NaN</td>\n",
       "      <td>NaN</td>\n",
       "      <td>760.0</td>\n",
       "      <td>732.0</td>\n",
       "      <td>704.0</td>\n",
       "      <td>676.0</td>\n",
       "      <td>648.0</td>\n",
       "    </tr>\n",
       "    <tr>\n",
       "      <th>8</th>\n",
       "      <td>NaN</td>\n",
       "      <td>788.0</td>\n",
       "      <td>571.0</td>\n",
       "      <td>1629241.0</td>\n",
       "      <td>788.0 -&gt; 571.0</td>\n",
       "      <td>NaN</td>\n",
       "      <td>TailoredTAG18-1_O3off_RBDCanola0.0005mgmL_0207...</td>\n",
       "      <td>NaN</td>\n",
       "      <td>NaN</td>\n",
       "      <td>762.0</td>\n",
       "      <td>734.0</td>\n",
       "      <td>706.0</td>\n",
       "      <td>678.0</td>\n",
       "      <td>650.0</td>\n",
       "    </tr>\n",
       "    <tr>\n",
       "      <th>9</th>\n",
       "      <td>PG(36:4)</td>\n",
       "      <td>788.0</td>\n",
       "      <td>599.0</td>\n",
       "      <td>6129489.0</td>\n",
       "      <td>788.0 -&gt; 599.0</td>\n",
       "      <td>PG</td>\n",
       "      <td>TailoredTAG18-1_O3off_RBDCanola0.0005mgmL_0207...</td>\n",
       "      <td>25.84</td>\n",
       "      <td>5236.0</td>\n",
       "      <td>762.0</td>\n",
       "      <td>734.0</td>\n",
       "      <td>706.0</td>\n",
       "      <td>678.0</td>\n",
       "      <td>650.0</td>\n",
       "    </tr>\n",
       "    <tr>\n",
       "      <th>10</th>\n",
       "      <td>PG(36:3),PG(P-37:2)</td>\n",
       "      <td>790.0</td>\n",
       "      <td>601.0</td>\n",
       "      <td>2584182.0</td>\n",
       "      <td>790.0 -&gt; 601.0</td>\n",
       "      <td>PG</td>\n",
       "      <td>TailoredTAG18-1_O3off_RBDCanola0.0005mgmL_0207...</td>\n",
       "      <td>NaN</td>\n",
       "      <td>NaN</td>\n",
       "      <td>764.0</td>\n",
       "      <td>736.0</td>\n",
       "      <td>708.0</td>\n",
       "      <td>680.0</td>\n",
       "      <td>652.0</td>\n",
       "    </tr>\n",
       "    <tr>\n",
       "      <th>11</th>\n",
       "      <td>NaN</td>\n",
       "      <td>790.0</td>\n",
       "      <td>573.0</td>\n",
       "      <td>2510903.0</td>\n",
       "      <td>790.0 -&gt; 573.0</td>\n",
       "      <td>NaN</td>\n",
       "      <td>TailoredTAG18-1_O3off_RBDCanola0.0005mgmL_0207...</td>\n",
       "      <td>NaN</td>\n",
       "      <td>NaN</td>\n",
       "      <td>764.0</td>\n",
       "      <td>736.0</td>\n",
       "      <td>708.0</td>\n",
       "      <td>680.0</td>\n",
       "      <td>652.0</td>\n",
       "    </tr>\n",
       "    <tr>\n",
       "      <th>12</th>\n",
       "      <td>PG(O-37:2),PG(P-37:1)</td>\n",
       "      <td>792.0</td>\n",
       "      <td>603.0</td>\n",
       "      <td>3311812.0</td>\n",
       "      <td>792.0 -&gt; 603.0</td>\n",
       "      <td>PG</td>\n",
       "      <td>TailoredTAG18-1_O3off_RBDCanola0.0005mgmL_0207...</td>\n",
       "      <td>NaN</td>\n",
       "      <td>NaN</td>\n",
       "      <td>766.0</td>\n",
       "      <td>738.0</td>\n",
       "      <td>710.0</td>\n",
       "      <td>682.0</td>\n",
       "      <td>654.0</td>\n",
       "    </tr>\n",
       "    <tr>\n",
       "      <th>13</th>\n",
       "      <td>NaN</td>\n",
       "      <td>792.0</td>\n",
       "      <td>575.0</td>\n",
       "      <td>1778559.0</td>\n",
       "      <td>792.0 -&gt; 575.0</td>\n",
       "      <td>NaN</td>\n",
       "      <td>TailoredTAG18-1_O3off_RBDCanola0.0005mgmL_0207...</td>\n",
       "      <td>NaN</td>\n",
       "      <td>NaN</td>\n",
       "      <td>766.0</td>\n",
       "      <td>738.0</td>\n",
       "      <td>710.0</td>\n",
       "      <td>682.0</td>\n",
       "      <td>654.0</td>\n",
       "    </tr>\n",
       "    <tr>\n",
       "      <th>14</th>\n",
       "      <td>PG(36:1),PG(O-37:1),PG(P-37:0)</td>\n",
       "      <td>794.0</td>\n",
       "      <td>605.0</td>\n",
       "      <td>4324463.0</td>\n",
       "      <td>794.0 -&gt; 605.0</td>\n",
       "      <td>PG</td>\n",
       "      <td>TailoredTAG18-1_O3off_RBDCanola0.0005mgmL_0207...</td>\n",
       "      <td>NaN</td>\n",
       "      <td>NaN</td>\n",
       "      <td>768.0</td>\n",
       "      <td>740.0</td>\n",
       "      <td>712.0</td>\n",
       "      <td>684.0</td>\n",
       "      <td>656.0</td>\n",
       "    </tr>\n",
       "    <tr>\n",
       "      <th>15</th>\n",
       "      <td>NaN</td>\n",
       "      <td>794.0</td>\n",
       "      <td>577.0</td>\n",
       "      <td>2595165.0</td>\n",
       "      <td>794.0 -&gt; 577.0</td>\n",
       "      <td>NaN</td>\n",
       "      <td>TailoredTAG18-1_O3off_RBDCanola0.0005mgmL_0207...</td>\n",
       "      <td>NaN</td>\n",
       "      <td>NaN</td>\n",
       "      <td>768.0</td>\n",
       "      <td>740.0</td>\n",
       "      <td>712.0</td>\n",
       "      <td>684.0</td>\n",
       "      <td>656.0</td>\n",
       "    </tr>\n",
       "    <tr>\n",
       "      <th>16</th>\n",
       "      <td>NaN</td>\n",
       "      <td>796.0</td>\n",
       "      <td>579.0</td>\n",
       "      <td>2730220.0</td>\n",
       "      <td>796.0 -&gt; 579.0</td>\n",
       "      <td>NaN</td>\n",
       "      <td>TailoredTAG18-1_O3off_RBDCanola0.0005mgmL_0207...</td>\n",
       "      <td>NaN</td>\n",
       "      <td>NaN</td>\n",
       "      <td>770.0</td>\n",
       "      <td>742.0</td>\n",
       "      <td>714.0</td>\n",
       "      <td>686.0</td>\n",
       "      <td>658.0</td>\n",
       "    </tr>\n",
       "    <tr>\n",
       "      <th>17</th>\n",
       "      <td>NaN</td>\n",
       "      <td>812.0</td>\n",
       "      <td>595.0</td>\n",
       "      <td>1487197.0</td>\n",
       "      <td>812.0 -&gt; 595.0</td>\n",
       "      <td>NaN</td>\n",
       "      <td>TailoredTAG18-1_O3off_RBDCanola0.0005mgmL_0207...</td>\n",
       "      <td>NaN</td>\n",
       "      <td>NaN</td>\n",
       "      <td>786.0</td>\n",
       "      <td>758.0</td>\n",
       "      <td>730.0</td>\n",
       "      <td>702.0</td>\n",
       "      <td>674.0</td>\n",
       "    </tr>\n",
       "    <tr>\n",
       "      <th>18</th>\n",
       "      <td>NaN</td>\n",
       "      <td>814.0</td>\n",
       "      <td>597.0</td>\n",
       "      <td>1833394.0</td>\n",
       "      <td>814.0 -&gt; 597.0</td>\n",
       "      <td>NaN</td>\n",
       "      <td>TailoredTAG18-1_O3off_RBDCanola0.0005mgmL_0207...</td>\n",
       "      <td>NaN</td>\n",
       "      <td>NaN</td>\n",
       "      <td>788.0</td>\n",
       "      <td>760.0</td>\n",
       "      <td>732.0</td>\n",
       "      <td>704.0</td>\n",
       "      <td>676.0</td>\n",
       "    </tr>\n",
       "    <tr>\n",
       "      <th>19</th>\n",
       "      <td>NaN</td>\n",
       "      <td>816.0</td>\n",
       "      <td>599.0</td>\n",
       "      <td>2668018.0</td>\n",
       "      <td>816.0 -&gt; 599.0</td>\n",
       "      <td>NaN</td>\n",
       "      <td>TailoredTAG18-1_O3off_RBDCanola0.0005mgmL_0207...</td>\n",
       "      <td>NaN</td>\n",
       "      <td>NaN</td>\n",
       "      <td>790.0</td>\n",
       "      <td>762.0</td>\n",
       "      <td>734.0</td>\n",
       "      <td>706.0</td>\n",
       "      <td>678.0</td>\n",
       "    </tr>\n",
       "    <tr>\n",
       "      <th>20</th>\n",
       "      <td>NaN</td>\n",
       "      <td>818.0</td>\n",
       "      <td>601.0</td>\n",
       "      <td>1527511.0</td>\n",
       "      <td>818.0 -&gt; 601.0</td>\n",
       "      <td>NaN</td>\n",
       "      <td>TailoredTAG18-1_O3off_RBDCanola0.0005mgmL_0207...</td>\n",
       "      <td>NaN</td>\n",
       "      <td>NaN</td>\n",
       "      <td>792.0</td>\n",
       "      <td>764.0</td>\n",
       "      <td>736.0</td>\n",
       "      <td>708.0</td>\n",
       "      <td>680.0</td>\n",
       "    </tr>\n",
       "    <tr>\n",
       "      <th>21</th>\n",
       "      <td>NaN</td>\n",
       "      <td>820.0</td>\n",
       "      <td>603.0</td>\n",
       "      <td>2749749.0</td>\n",
       "      <td>820.0 -&gt; 603.0</td>\n",
       "      <td>NaN</td>\n",
       "      <td>TailoredTAG18-1_O3off_RBDCanola0.0005mgmL_0207...</td>\n",
       "      <td>NaN</td>\n",
       "      <td>NaN</td>\n",
       "      <td>794.0</td>\n",
       "      <td>766.0</td>\n",
       "      <td>738.0</td>\n",
       "      <td>710.0</td>\n",
       "      <td>682.0</td>\n",
       "    </tr>\n",
       "    <tr>\n",
       "      <th>22</th>\n",
       "      <td>NaN</td>\n",
       "      <td>822.0</td>\n",
       "      <td>605.0</td>\n",
       "      <td>2444892.0</td>\n",
       "      <td>822.0 -&gt; 605.0</td>\n",
       "      <td>NaN</td>\n",
       "      <td>TailoredTAG18-1_O3off_RBDCanola0.0005mgmL_0207...</td>\n",
       "      <td>NaN</td>\n",
       "      <td>NaN</td>\n",
       "      <td>796.0</td>\n",
       "      <td>768.0</td>\n",
       "      <td>740.0</td>\n",
       "      <td>712.0</td>\n",
       "      <td>684.0</td>\n",
       "    </tr>\n",
       "    <tr>\n",
       "      <th>23</th>\n",
       "      <td>[TG(52:6)]_FA18:1</td>\n",
       "      <td>868.0</td>\n",
       "      <td>569.0</td>\n",
       "      <td>2147589.0</td>\n",
       "      <td>868.0 -&gt; 569.0</td>\n",
       "      <td>TAG</td>\n",
       "      <td>TailoredTAG18-1_O3off_RBDCanola0.0005mgmL_0207...</td>\n",
       "      <td>NaN</td>\n",
       "      <td>NaN</td>\n",
       "      <td>842.0</td>\n",
       "      <td>814.0</td>\n",
       "      <td>786.0</td>\n",
       "      <td>758.0</td>\n",
       "      <td>730.0</td>\n",
       "    </tr>\n",
       "    <tr>\n",
       "      <th>24</th>\n",
       "      <td>[TG(52:6)]_FA18:1</td>\n",
       "      <td>868.0</td>\n",
       "      <td>569.0</td>\n",
       "      <td>2077466.0</td>\n",
       "      <td>868.0 -&gt; 569.0</td>\n",
       "      <td>TAG</td>\n",
       "      <td>TailoredTAG18-1_O3off_RBDCanola0.0005mgmL_0207...</td>\n",
       "      <td>NaN</td>\n",
       "      <td>NaN</td>\n",
       "      <td>842.0</td>\n",
       "      <td>814.0</td>\n",
       "      <td>786.0</td>\n",
       "      <td>758.0</td>\n",
       "      <td>730.0</td>\n",
       "    </tr>\n",
       "  </tbody>\n",
       "</table>\n",
       "</div>"
      ],
      "text/plain": [
       "                             Lipid Parent_Ion Product_Ion  Intensity  \\\n",
       "0                         PG(34:4)      760.0       571.0  3508930.0   \n",
       "1              PG(34:3),PG(P-35:2)      762.0       573.0  4454522.0   \n",
       "2            PG(O-35:2),PG(P-35:1)      764.0       575.0  3342623.0   \n",
       "3            PG(O-35:1),PG(P-35:0)      766.0       577.0  3270586.0   \n",
       "4     PG(36:7),PG(35:0),PG(O-36:0)      782.0       593.0  2358947.0   \n",
       "5                         PG(36:6)      784.0       595.0  2304902.0   \n",
       "6                              NaN      786.0       569.0  1702709.0   \n",
       "7                         PG(36:5)      786.0       597.0  3260273.0   \n",
       "8                              NaN      788.0       571.0  1629241.0   \n",
       "9                         PG(36:4)      788.0       599.0  6129489.0   \n",
       "10             PG(36:3),PG(P-37:2)      790.0       601.0  2584182.0   \n",
       "11                             NaN      790.0       573.0  2510903.0   \n",
       "12           PG(O-37:2),PG(P-37:1)      792.0       603.0  3311812.0   \n",
       "13                             NaN      792.0       575.0  1778559.0   \n",
       "14  PG(36:1),PG(O-37:1),PG(P-37:0)      794.0       605.0  4324463.0   \n",
       "15                             NaN      794.0       577.0  2595165.0   \n",
       "16                             NaN      796.0       579.0  2730220.0   \n",
       "17                             NaN      812.0       595.0  1487197.0   \n",
       "18                             NaN      814.0       597.0  1833394.0   \n",
       "19                             NaN      816.0       599.0  2668018.0   \n",
       "20                             NaN      818.0       601.0  1527511.0   \n",
       "21                             NaN      820.0       603.0  2749749.0   \n",
       "22                             NaN      822.0       605.0  2444892.0   \n",
       "23               [TG(52:6)]_FA18:1      868.0       569.0  2147589.0   \n",
       "24               [TG(52:6)]_FA18:1      868.0       569.0  2077466.0   \n",
       "\n",
       "        Transition Class                                          Sample_ID  \\\n",
       "0   760.0 -> 571.0    PG  TailoredTAG18-1_O3off_RBDCanola0.0005mgmL_0207...   \n",
       "1   762.0 -> 573.0    PG  TailoredTAG18-1_O3off_RBDCanola0.0005mgmL_0207...   \n",
       "2   764.0 -> 575.0    PG  TailoredTAG18-1_O3off_RBDCanola0.0005mgmL_0207...   \n",
       "3   766.0 -> 577.0    PG  TailoredTAG18-1_O3off_RBDCanola0.0005mgmL_0207...   \n",
       "4   782.0 -> 593.0    PG  TailoredTAG18-1_O3off_RBDCanola0.0005mgmL_0207...   \n",
       "5   784.0 -> 595.0    PG  TailoredTAG18-1_O3off_RBDCanola0.0005mgmL_0207...   \n",
       "6   786.0 -> 569.0   NaN  TailoredTAG18-1_O3off_RBDCanola0.0005mgmL_0207...   \n",
       "7   786.0 -> 597.0    PG  TailoredTAG18-1_O3off_RBDCanola0.0005mgmL_0207...   \n",
       "8   788.0 -> 571.0   NaN  TailoredTAG18-1_O3off_RBDCanola0.0005mgmL_0207...   \n",
       "9   788.0 -> 599.0    PG  TailoredTAG18-1_O3off_RBDCanola0.0005mgmL_0207...   \n",
       "10  790.0 -> 601.0    PG  TailoredTAG18-1_O3off_RBDCanola0.0005mgmL_0207...   \n",
       "11  790.0 -> 573.0   NaN  TailoredTAG18-1_O3off_RBDCanola0.0005mgmL_0207...   \n",
       "12  792.0 -> 603.0    PG  TailoredTAG18-1_O3off_RBDCanola0.0005mgmL_0207...   \n",
       "13  792.0 -> 575.0   NaN  TailoredTAG18-1_O3off_RBDCanola0.0005mgmL_0207...   \n",
       "14  794.0 -> 605.0    PG  TailoredTAG18-1_O3off_RBDCanola0.0005mgmL_0207...   \n",
       "15  794.0 -> 577.0   NaN  TailoredTAG18-1_O3off_RBDCanola0.0005mgmL_0207...   \n",
       "16  796.0 -> 579.0   NaN  TailoredTAG18-1_O3off_RBDCanola0.0005mgmL_0207...   \n",
       "17  812.0 -> 595.0   NaN  TailoredTAG18-1_O3off_RBDCanola0.0005mgmL_0207...   \n",
       "18  814.0 -> 597.0   NaN  TailoredTAG18-1_O3off_RBDCanola0.0005mgmL_0207...   \n",
       "19  816.0 -> 599.0   NaN  TailoredTAG18-1_O3off_RBDCanola0.0005mgmL_0207...   \n",
       "20  818.0 -> 601.0   NaN  TailoredTAG18-1_O3off_RBDCanola0.0005mgmL_0207...   \n",
       "21  820.0 -> 603.0   NaN  TailoredTAG18-1_O3off_RBDCanola0.0005mgmL_0207...   \n",
       "22  822.0 -> 605.0   NaN  TailoredTAG18-1_O3off_RBDCanola0.0005mgmL_0207...   \n",
       "23  868.0 -> 569.0   TAG  TailoredTAG18-1_O3off_RBDCanola0.0005mgmL_0207...   \n",
       "24  868.0 -> 569.0   TAG  TailoredTAG18-1_O3off_RBDCanola0.0005mgmL_0207...   \n",
       "\n",
       "    Retention_Time  Intensity_OzESI    n-3    n-5    n-7    n-9   n-11  \n",
       "0              NaN              NaN  734.0  706.0  678.0  650.0  622.0  \n",
       "1              NaN              NaN  736.0  708.0  680.0  652.0  624.0  \n",
       "2              NaN              NaN  738.0  710.0  682.0  654.0  626.0  \n",
       "3              NaN              NaN  740.0  712.0  684.0  656.0  628.0  \n",
       "4              NaN              NaN  756.0  728.0  700.0  672.0  644.0  \n",
       "5              NaN              NaN  758.0  730.0  702.0  674.0  646.0  \n",
       "6              NaN              NaN  760.0  732.0  704.0  676.0  648.0  \n",
       "7              NaN              NaN  760.0  732.0  704.0  676.0  648.0  \n",
       "8              NaN              NaN  762.0  734.0  706.0  678.0  650.0  \n",
       "9            25.84           5236.0  762.0  734.0  706.0  678.0  650.0  \n",
       "10             NaN              NaN  764.0  736.0  708.0  680.0  652.0  \n",
       "11             NaN              NaN  764.0  736.0  708.0  680.0  652.0  \n",
       "12             NaN              NaN  766.0  738.0  710.0  682.0  654.0  \n",
       "13             NaN              NaN  766.0  738.0  710.0  682.0  654.0  \n",
       "14             NaN              NaN  768.0  740.0  712.0  684.0  656.0  \n",
       "15             NaN              NaN  768.0  740.0  712.0  684.0  656.0  \n",
       "16             NaN              NaN  770.0  742.0  714.0  686.0  658.0  \n",
       "17             NaN              NaN  786.0  758.0  730.0  702.0  674.0  \n",
       "18             NaN              NaN  788.0  760.0  732.0  704.0  676.0  \n",
       "19             NaN              NaN  790.0  762.0  734.0  706.0  678.0  \n",
       "20             NaN              NaN  792.0  764.0  736.0  708.0  680.0  \n",
       "21             NaN              NaN  794.0  766.0  738.0  710.0  682.0  \n",
       "22             NaN              NaN  796.0  768.0  740.0  712.0  684.0  \n",
       "23             NaN              NaN  842.0  814.0  786.0  758.0  730.0  \n",
       "24             NaN              NaN  842.0  814.0  786.0  758.0  730.0  "
      ]
     },
     "execution_count": 12,
     "metadata": {},
     "output_type": "execute_result"
    }
   ],
   "source": [
    "# create a dictionary to store the matching parent/product ion pairs and their corresponding lipids and classes\n",
    "ion_dict = {}\n",
    "for index, row in mrm_database.iterrows():\n",
    "    ion_dict[(row['Parent_Ion'], row['Product_Ion'])] = (row['Lipid'], row['Class'])\n",
    "\n",
    "# create empty columns for Lipid and Class\n",
    "df['Lipid'] = np.nan\n",
    "df['Class'] = np.nan\n",
    "\n",
    "# loop through the rows in df and check if the corresponding parent/product ion pair exists in ion_dict\n",
    "for index, row in df.iterrows():\n",
    "    if (row['Parent_Ion'], row['Product_Ion']) in ion_dict:\n",
    "        df.at[index, 'Lipid'] = ion_dict[(row['Parent_Ion'], row['Product_Ion'])][0]\n",
    "        df.at[index, 'Class'] = ion_dict[(row['Parent_Ion'], row['Product_Ion'])][1]\n",
    "\n",
    "# # drop rows with NaN values\n",
    "# df_matching = df.dropna(subset=['Lipid'])\n",
    "# df_matching = df_matching.reset_index(drop=True)\n",
    "df.head(25)"
   ]
  },
  {
   "cell_type": "code",
   "execution_count": 13,
   "metadata": {},
   "outputs": [
    {
     "name": "stdout",
     "output_type": "stream",
     "text": [
      "object\n",
      "object\n"
     ]
    },
    {
     "data": {
      "text/html": [
       "<div>\n",
       "<style scoped>\n",
       "    .dataframe tbody tr th:only-of-type {\n",
       "        vertical-align: middle;\n",
       "    }\n",
       "\n",
       "    .dataframe tbody tr th {\n",
       "        vertical-align: top;\n",
       "    }\n",
       "\n",
       "    .dataframe thead th {\n",
       "        text-align: right;\n",
       "    }\n",
       "</style>\n",
       "<table border=\"1\" class=\"dataframe\">\n",
       "  <thead>\n",
       "    <tr style=\"text-align: right;\">\n",
       "      <th></th>\n",
       "      <th>Lipid</th>\n",
       "      <th>Parent_Ion</th>\n",
       "      <th>Product_Ion</th>\n",
       "      <th>Intensity</th>\n",
       "      <th>Transition</th>\n",
       "      <th>Class</th>\n",
       "      <th>Sample_ID</th>\n",
       "      <th>Retention_Time</th>\n",
       "      <th>Intensity_OzESI</th>\n",
       "      <th>n-3</th>\n",
       "      <th>n-5</th>\n",
       "      <th>n-7</th>\n",
       "      <th>n-9</th>\n",
       "      <th>n-11</th>\n",
       "    </tr>\n",
       "  </thead>\n",
       "  <tbody>\n",
       "    <tr>\n",
       "      <th>0</th>\n",
       "      <td>PG(34:4)</td>\n",
       "      <td>760.0</td>\n",
       "      <td>571.0</td>\n",
       "      <td>3508930.0</td>\n",
       "      <td>760.0 -&gt; 571.0</td>\n",
       "      <td>PG</td>\n",
       "      <td>TailoredTAG18-1_O3off_RBDCanola0.0005mgmL_0207...</td>\n",
       "      <td>NaN</td>\n",
       "      <td>NaN</td>\n",
       "      <td>734.0</td>\n",
       "      <td>706.0</td>\n",
       "      <td>678.0</td>\n",
       "      <td>650.0</td>\n",
       "      <td>622.0</td>\n",
       "    </tr>\n",
       "    <tr>\n",
       "      <th>1</th>\n",
       "      <td>PG(34:3),PG(P-35:2)</td>\n",
       "      <td>762.0</td>\n",
       "      <td>573.0</td>\n",
       "      <td>4454522.0</td>\n",
       "      <td>762.0 -&gt; 573.0</td>\n",
       "      <td>PG</td>\n",
       "      <td>TailoredTAG18-1_O3off_RBDCanola0.0005mgmL_0207...</td>\n",
       "      <td>NaN</td>\n",
       "      <td>NaN</td>\n",
       "      <td>736.0</td>\n",
       "      <td>708.0</td>\n",
       "      <td>680.0</td>\n",
       "      <td>652.0</td>\n",
       "      <td>624.0</td>\n",
       "    </tr>\n",
       "    <tr>\n",
       "      <th>2</th>\n",
       "      <td>PG(O-35:2),PG(P-35:1)</td>\n",
       "      <td>764.0</td>\n",
       "      <td>575.0</td>\n",
       "      <td>3342623.0</td>\n",
       "      <td>764.0 -&gt; 575.0</td>\n",
       "      <td>PG</td>\n",
       "      <td>TailoredTAG18-1_O3off_RBDCanola0.0005mgmL_0207...</td>\n",
       "      <td>NaN</td>\n",
       "      <td>NaN</td>\n",
       "      <td>738.0</td>\n",
       "      <td>710.0</td>\n",
       "      <td>682.0</td>\n",
       "      <td>654.0</td>\n",
       "      <td>626.0</td>\n",
       "    </tr>\n",
       "    <tr>\n",
       "      <th>3</th>\n",
       "      <td>PG(O-35:1),PG(P-35:0)</td>\n",
       "      <td>766.0</td>\n",
       "      <td>577.0</td>\n",
       "      <td>3270586.0</td>\n",
       "      <td>766.0 -&gt; 577.0</td>\n",
       "      <td>PG</td>\n",
       "      <td>TailoredTAG18-1_O3off_RBDCanola0.0005mgmL_0207...</td>\n",
       "      <td>NaN</td>\n",
       "      <td>NaN</td>\n",
       "      <td>740.0</td>\n",
       "      <td>712.0</td>\n",
       "      <td>684.0</td>\n",
       "      <td>656.0</td>\n",
       "      <td>628.0</td>\n",
       "    </tr>\n",
       "    <tr>\n",
       "      <th>4</th>\n",
       "      <td>PG(36:7),PG(35:0),PG(O-36:0)</td>\n",
       "      <td>782.0</td>\n",
       "      <td>593.0</td>\n",
       "      <td>2358947.0</td>\n",
       "      <td>782.0 -&gt; 593.0</td>\n",
       "      <td>PG</td>\n",
       "      <td>TailoredTAG18-1_O3off_RBDCanola0.0005mgmL_0207...</td>\n",
       "      <td>NaN</td>\n",
       "      <td>NaN</td>\n",
       "      <td>756.0</td>\n",
       "      <td>728.0</td>\n",
       "      <td>700.0</td>\n",
       "      <td>672.0</td>\n",
       "      <td>644.0</td>\n",
       "    </tr>\n",
       "    <tr>\n",
       "      <th>5</th>\n",
       "      <td>PG(36:6)</td>\n",
       "      <td>784.0</td>\n",
       "      <td>595.0</td>\n",
       "      <td>2304902.0</td>\n",
       "      <td>784.0 -&gt; 595.0</td>\n",
       "      <td>PG</td>\n",
       "      <td>TailoredTAG18-1_O3off_RBDCanola0.0005mgmL_0207...</td>\n",
       "      <td>NaN</td>\n",
       "      <td>NaN</td>\n",
       "      <td>758.0</td>\n",
       "      <td>730.0</td>\n",
       "      <td>702.0</td>\n",
       "      <td>674.0</td>\n",
       "      <td>646.0</td>\n",
       "    </tr>\n",
       "    <tr>\n",
       "      <th>6</th>\n",
       "      <td>n-7 [TG(52:6)]_FA18:1</td>\n",
       "      <td>786.0</td>\n",
       "      <td>569.0</td>\n",
       "      <td>1702709.0</td>\n",
       "      <td>786.0 -&gt; 569.0</td>\n",
       "      <td>NaN</td>\n",
       "      <td>TailoredTAG18-1_O3off_RBDCanola0.0005mgmL_0207...</td>\n",
       "      <td>NaN</td>\n",
       "      <td>NaN</td>\n",
       "      <td>760.0</td>\n",
       "      <td>732.0</td>\n",
       "      <td>704.0</td>\n",
       "      <td>676.0</td>\n",
       "      <td>648.0</td>\n",
       "    </tr>\n",
       "    <tr>\n",
       "      <th>7</th>\n",
       "      <td>PG(36:5)</td>\n",
       "      <td>786.0</td>\n",
       "      <td>597.0</td>\n",
       "      <td>3260273.0</td>\n",
       "      <td>786.0 -&gt; 597.0</td>\n",
       "      <td>PG</td>\n",
       "      <td>TailoredTAG18-1_O3off_RBDCanola0.0005mgmL_0207...</td>\n",
       "      <td>NaN</td>\n",
       "      <td>NaN</td>\n",
       "      <td>760.0</td>\n",
       "      <td>732.0</td>\n",
       "      <td>704.0</td>\n",
       "      <td>676.0</td>\n",
       "      <td>648.0</td>\n",
       "    </tr>\n",
       "    <tr>\n",
       "      <th>8</th>\n",
       "      <td>n-7 [TG(52:5)]_FA18:1</td>\n",
       "      <td>788.0</td>\n",
       "      <td>571.0</td>\n",
       "      <td>1629241.0</td>\n",
       "      <td>788.0 -&gt; 571.0</td>\n",
       "      <td>NaN</td>\n",
       "      <td>TailoredTAG18-1_O3off_RBDCanola0.0005mgmL_0207...</td>\n",
       "      <td>NaN</td>\n",
       "      <td>NaN</td>\n",
       "      <td>762.0</td>\n",
       "      <td>734.0</td>\n",
       "      <td>706.0</td>\n",
       "      <td>678.0</td>\n",
       "      <td>650.0</td>\n",
       "    </tr>\n",
       "    <tr>\n",
       "      <th>9</th>\n",
       "      <td>PG(36:4)</td>\n",
       "      <td>788.0</td>\n",
       "      <td>599.0</td>\n",
       "      <td>6129489.0</td>\n",
       "      <td>788.0 -&gt; 599.0</td>\n",
       "      <td>PG</td>\n",
       "      <td>TailoredTAG18-1_O3off_RBDCanola0.0005mgmL_0207...</td>\n",
       "      <td>25.84</td>\n",
       "      <td>5236.0</td>\n",
       "      <td>762.0</td>\n",
       "      <td>734.0</td>\n",
       "      <td>706.0</td>\n",
       "      <td>678.0</td>\n",
       "      <td>650.0</td>\n",
       "    </tr>\n",
       "    <tr>\n",
       "      <th>10</th>\n",
       "      <td>PG(36:3),PG(P-37:2)</td>\n",
       "      <td>790.0</td>\n",
       "      <td>601.0</td>\n",
       "      <td>2584182.0</td>\n",
       "      <td>790.0 -&gt; 601.0</td>\n",
       "      <td>PG</td>\n",
       "      <td>TailoredTAG18-1_O3off_RBDCanola0.0005mgmL_0207...</td>\n",
       "      <td>NaN</td>\n",
       "      <td>NaN</td>\n",
       "      <td>764.0</td>\n",
       "      <td>736.0</td>\n",
       "      <td>708.0</td>\n",
       "      <td>680.0</td>\n",
       "      <td>652.0</td>\n",
       "    </tr>\n",
       "    <tr>\n",
       "      <th>11</th>\n",
       "      <td>n-7 [TG(52:4)]_FA18:1</td>\n",
       "      <td>790.0</td>\n",
       "      <td>573.0</td>\n",
       "      <td>2510903.0</td>\n",
       "      <td>790.0 -&gt; 573.0</td>\n",
       "      <td>NaN</td>\n",
       "      <td>TailoredTAG18-1_O3off_RBDCanola0.0005mgmL_0207...</td>\n",
       "      <td>NaN</td>\n",
       "      <td>NaN</td>\n",
       "      <td>764.0</td>\n",
       "      <td>736.0</td>\n",
       "      <td>708.0</td>\n",
       "      <td>680.0</td>\n",
       "      <td>652.0</td>\n",
       "    </tr>\n",
       "    <tr>\n",
       "      <th>12</th>\n",
       "      <td>PG(O-37:2),PG(P-37:1)</td>\n",
       "      <td>792.0</td>\n",
       "      <td>603.0</td>\n",
       "      <td>3311812.0</td>\n",
       "      <td>792.0 -&gt; 603.0</td>\n",
       "      <td>PG</td>\n",
       "      <td>TailoredTAG18-1_O3off_RBDCanola0.0005mgmL_0207...</td>\n",
       "      <td>NaN</td>\n",
       "      <td>NaN</td>\n",
       "      <td>766.0</td>\n",
       "      <td>738.0</td>\n",
       "      <td>710.0</td>\n",
       "      <td>682.0</td>\n",
       "      <td>654.0</td>\n",
       "    </tr>\n",
       "    <tr>\n",
       "      <th>13</th>\n",
       "      <td>n-7 [TG(53:10),TG(52:3)]_FA18:1</td>\n",
       "      <td>792.0</td>\n",
       "      <td>575.0</td>\n",
       "      <td>1778559.0</td>\n",
       "      <td>792.0 -&gt; 575.0</td>\n",
       "      <td>NaN</td>\n",
       "      <td>TailoredTAG18-1_O3off_RBDCanola0.0005mgmL_0207...</td>\n",
       "      <td>NaN</td>\n",
       "      <td>NaN</td>\n",
       "      <td>766.0</td>\n",
       "      <td>738.0</td>\n",
       "      <td>710.0</td>\n",
       "      <td>682.0</td>\n",
       "      <td>654.0</td>\n",
       "    </tr>\n",
       "    <tr>\n",
       "      <th>14</th>\n",
       "      <td>PG(36:1),PG(O-37:1),PG(P-37:0)</td>\n",
       "      <td>794.0</td>\n",
       "      <td>605.0</td>\n",
       "      <td>4324463.0</td>\n",
       "      <td>794.0 -&gt; 605.0</td>\n",
       "      <td>PG</td>\n",
       "      <td>TailoredTAG18-1_O3off_RBDCanola0.0005mgmL_0207...</td>\n",
       "      <td>NaN</td>\n",
       "      <td>NaN</td>\n",
       "      <td>768.0</td>\n",
       "      <td>740.0</td>\n",
       "      <td>712.0</td>\n",
       "      <td>684.0</td>\n",
       "      <td>656.0</td>\n",
       "    </tr>\n",
       "    <tr>\n",
       "      <th>15</th>\n",
       "      <td>n-7 [TG(53:9),TG(52:2)]_FA18:1</td>\n",
       "      <td>794.0</td>\n",
       "      <td>577.0</td>\n",
       "      <td>2595165.0</td>\n",
       "      <td>794.0 -&gt; 577.0</td>\n",
       "      <td>NaN</td>\n",
       "      <td>TailoredTAG18-1_O3off_RBDCanola0.0005mgmL_0207...</td>\n",
       "      <td>NaN</td>\n",
       "      <td>NaN</td>\n",
       "      <td>768.0</td>\n",
       "      <td>740.0</td>\n",
       "      <td>712.0</td>\n",
       "      <td>684.0</td>\n",
       "      <td>656.0</td>\n",
       "    </tr>\n",
       "    <tr>\n",
       "      <th>16</th>\n",
       "      <td>NaN</td>\n",
       "      <td>796.0</td>\n",
       "      <td>579.0</td>\n",
       "      <td>2730220.0</td>\n",
       "      <td>796.0 -&gt; 579.0</td>\n",
       "      <td>NaN</td>\n",
       "      <td>TailoredTAG18-1_O3off_RBDCanola0.0005mgmL_0207...</td>\n",
       "      <td>NaN</td>\n",
       "      <td>NaN</td>\n",
       "      <td>770.0</td>\n",
       "      <td>742.0</td>\n",
       "      <td>714.0</td>\n",
       "      <td>686.0</td>\n",
       "      <td>658.0</td>\n",
       "    </tr>\n",
       "    <tr>\n",
       "      <th>17</th>\n",
       "      <td>n-7 [TG(54:7),TG(53:0)]_FA18:1</td>\n",
       "      <td>812.0</td>\n",
       "      <td>595.0</td>\n",
       "      <td>1487197.0</td>\n",
       "      <td>812.0 -&gt; 595.0</td>\n",
       "      <td>NaN</td>\n",
       "      <td>TailoredTAG18-1_O3off_RBDCanola0.0005mgmL_0207...</td>\n",
       "      <td>NaN</td>\n",
       "      <td>NaN</td>\n",
       "      <td>786.0</td>\n",
       "      <td>758.0</td>\n",
       "      <td>730.0</td>\n",
       "      <td>702.0</td>\n",
       "      <td>674.0</td>\n",
       "    </tr>\n",
       "    <tr>\n",
       "      <th>18</th>\n",
       "      <td>n-5 [TG(52:6)]_FA18:1</td>\n",
       "      <td>814.0</td>\n",
       "      <td>597.0</td>\n",
       "      <td>1833394.0</td>\n",
       "      <td>814.0 -&gt; 597.0</td>\n",
       "      <td>NaN</td>\n",
       "      <td>TailoredTAG18-1_O3off_RBDCanola0.0005mgmL_0207...</td>\n",
       "      <td>NaN</td>\n",
       "      <td>NaN</td>\n",
       "      <td>788.0</td>\n",
       "      <td>760.0</td>\n",
       "      <td>732.0</td>\n",
       "      <td>704.0</td>\n",
       "      <td>676.0</td>\n",
       "    </tr>\n",
       "    <tr>\n",
       "      <th>19</th>\n",
       "      <td>n-5 [TG(52:5)]_FA18:1</td>\n",
       "      <td>816.0</td>\n",
       "      <td>599.0</td>\n",
       "      <td>2668018.0</td>\n",
       "      <td>816.0 -&gt; 599.0</td>\n",
       "      <td>NaN</td>\n",
       "      <td>TailoredTAG18-1_O3off_RBDCanola0.0005mgmL_0207...</td>\n",
       "      <td>NaN</td>\n",
       "      <td>NaN</td>\n",
       "      <td>790.0</td>\n",
       "      <td>762.0</td>\n",
       "      <td>734.0</td>\n",
       "      <td>706.0</td>\n",
       "      <td>678.0</td>\n",
       "    </tr>\n",
       "    <tr>\n",
       "      <th>20</th>\n",
       "      <td>n-5 [TG(52:4)]_FA18:1</td>\n",
       "      <td>818.0</td>\n",
       "      <td>601.0</td>\n",
       "      <td>1527511.0</td>\n",
       "      <td>818.0 -&gt; 601.0</td>\n",
       "      <td>NaN</td>\n",
       "      <td>TailoredTAG18-1_O3off_RBDCanola0.0005mgmL_0207...</td>\n",
       "      <td>NaN</td>\n",
       "      <td>NaN</td>\n",
       "      <td>792.0</td>\n",
       "      <td>764.0</td>\n",
       "      <td>736.0</td>\n",
       "      <td>708.0</td>\n",
       "      <td>680.0</td>\n",
       "    </tr>\n",
       "    <tr>\n",
       "      <th>21</th>\n",
       "      <td>n-5 [TG(53:10),TG(52:3)]_FA18:1</td>\n",
       "      <td>820.0</td>\n",
       "      <td>603.0</td>\n",
       "      <td>2749749.0</td>\n",
       "      <td>820.0 -&gt; 603.0</td>\n",
       "      <td>NaN</td>\n",
       "      <td>TailoredTAG18-1_O3off_RBDCanola0.0005mgmL_0207...</td>\n",
       "      <td>NaN</td>\n",
       "      <td>NaN</td>\n",
       "      <td>794.0</td>\n",
       "      <td>766.0</td>\n",
       "      <td>738.0</td>\n",
       "      <td>710.0</td>\n",
       "      <td>682.0</td>\n",
       "    </tr>\n",
       "    <tr>\n",
       "      <th>22</th>\n",
       "      <td>n-5 [TG(53:9),TG(52:2)]_FA18:1</td>\n",
       "      <td>822.0</td>\n",
       "      <td>605.0</td>\n",
       "      <td>2444892.0</td>\n",
       "      <td>822.0 -&gt; 605.0</td>\n",
       "      <td>NaN</td>\n",
       "      <td>TailoredTAG18-1_O3off_RBDCanola0.0005mgmL_0207...</td>\n",
       "      <td>NaN</td>\n",
       "      <td>NaN</td>\n",
       "      <td>796.0</td>\n",
       "      <td>768.0</td>\n",
       "      <td>740.0</td>\n",
       "      <td>712.0</td>\n",
       "      <td>684.0</td>\n",
       "    </tr>\n",
       "    <tr>\n",
       "      <th>23</th>\n",
       "      <td>[TG(52:6)]_FA18:1</td>\n",
       "      <td>868.0</td>\n",
       "      <td>569.0</td>\n",
       "      <td>2147589.0</td>\n",
       "      <td>868.0 -&gt; 569.0</td>\n",
       "      <td>TAG</td>\n",
       "      <td>TailoredTAG18-1_O3off_RBDCanola0.0005mgmL_0207...</td>\n",
       "      <td>NaN</td>\n",
       "      <td>NaN</td>\n",
       "      <td>842.0</td>\n",
       "      <td>814.0</td>\n",
       "      <td>786.0</td>\n",
       "      <td>758.0</td>\n",
       "      <td>730.0</td>\n",
       "    </tr>\n",
       "    <tr>\n",
       "      <th>24</th>\n",
       "      <td>[TG(52:6)]_FA18:1</td>\n",
       "      <td>868.0</td>\n",
       "      <td>569.0</td>\n",
       "      <td>2077466.0</td>\n",
       "      <td>868.0 -&gt; 569.0</td>\n",
       "      <td>TAG</td>\n",
       "      <td>TailoredTAG18-1_O3off_RBDCanola0.0005mgmL_0207...</td>\n",
       "      <td>NaN</td>\n",
       "      <td>NaN</td>\n",
       "      <td>842.0</td>\n",
       "      <td>814.0</td>\n",
       "      <td>786.0</td>\n",
       "      <td>758.0</td>\n",
       "      <td>730.0</td>\n",
       "    </tr>\n",
       "    <tr>\n",
       "      <th>25</th>\n",
       "      <td>[TG(52:5)]_FA18:1</td>\n",
       "      <td>870.0</td>\n",
       "      <td>571.0</td>\n",
       "      <td>3446471.0</td>\n",
       "      <td>870.0 -&gt; 571.0</td>\n",
       "      <td>TAG</td>\n",
       "      <td>TailoredTAG18-1_O3off_RBDCanola0.0005mgmL_0207...</td>\n",
       "      <td>NaN</td>\n",
       "      <td>NaN</td>\n",
       "      <td>844.0</td>\n",
       "      <td>816.0</td>\n",
       "      <td>788.0</td>\n",
       "      <td>760.0</td>\n",
       "      <td>732.0</td>\n",
       "    </tr>\n",
       "    <tr>\n",
       "      <th>26</th>\n",
       "      <td>[TG(52:4)]_FA18:1</td>\n",
       "      <td>872.0</td>\n",
       "      <td>573.0</td>\n",
       "      <td>3569656.0</td>\n",
       "      <td>872.0 -&gt; 573.0</td>\n",
       "      <td>TAG</td>\n",
       "      <td>TailoredTAG18-1_O3off_RBDCanola0.0005mgmL_0207...</td>\n",
       "      <td>12.59</td>\n",
       "      <td>12987.0</td>\n",
       "      <td>846.0</td>\n",
       "      <td>818.0</td>\n",
       "      <td>790.0</td>\n",
       "      <td>762.0</td>\n",
       "      <td>734.0</td>\n",
       "    </tr>\n",
       "    <tr>\n",
       "      <th>27</th>\n",
       "      <td>[TG(53:10),TG(52:3)]_FA18:1</td>\n",
       "      <td>874.0</td>\n",
       "      <td>575.0</td>\n",
       "      <td>20658623.0</td>\n",
       "      <td>874.0 -&gt; 575.0</td>\n",
       "      <td>TAG</td>\n",
       "      <td>TailoredTAG18-1_O3off_RBDCanola0.0005mgmL_0207...</td>\n",
       "      <td>14.37</td>\n",
       "      <td>57446.0</td>\n",
       "      <td>848.0</td>\n",
       "      <td>820.0</td>\n",
       "      <td>792.0</td>\n",
       "      <td>764.0</td>\n",
       "      <td>736.0</td>\n",
       "    </tr>\n",
       "    <tr>\n",
       "      <th>28</th>\n",
       "      <td>[TG(53:9),TG(52:2)]_FA18:1</td>\n",
       "      <td>876.0</td>\n",
       "      <td>577.0</td>\n",
       "      <td>26769009.0</td>\n",
       "      <td>876.0 -&gt; 577.0</td>\n",
       "      <td>TAG</td>\n",
       "      <td>TailoredTAG18-1_O3off_RBDCanola0.0005mgmL_0207...</td>\n",
       "      <td>16.29</td>\n",
       "      <td>188293.0</td>\n",
       "      <td>850.0</td>\n",
       "      <td>822.0</td>\n",
       "      <td>794.0</td>\n",
       "      <td>766.0</td>\n",
       "      <td>738.0</td>\n",
       "    </tr>\n",
       "    <tr>\n",
       "      <th>29</th>\n",
       "      <td>[TG(54:7),TG(53:0)]_FA18:1</td>\n",
       "      <td>894.0</td>\n",
       "      <td>595.0</td>\n",
       "      <td>4333085.0</td>\n",
       "      <td>894.0 -&gt; 595.0</td>\n",
       "      <td>TAG</td>\n",
       "      <td>TailoredTAG18-1_O3off_RBDCanola0.0005mgmL_0207...</td>\n",
       "      <td>9.17</td>\n",
       "      <td>8938.0</td>\n",
       "      <td>868.0</td>\n",
       "      <td>840.0</td>\n",
       "      <td>812.0</td>\n",
       "      <td>784.0</td>\n",
       "      <td>756.0</td>\n",
       "    </tr>\n",
       "    <tr>\n",
       "      <th>30</th>\n",
       "      <td>[TG(54:6)]_FA18:1</td>\n",
       "      <td>896.0</td>\n",
       "      <td>597.0</td>\n",
       "      <td>3145901.0</td>\n",
       "      <td>896.0 -&gt; 597.0</td>\n",
       "      <td>TAG</td>\n",
       "      <td>TailoredTAG18-1_O3off_RBDCanola0.0005mgmL_0207...</td>\n",
       "      <td>10.77</td>\n",
       "      <td>40080.0</td>\n",
       "      <td>870.0</td>\n",
       "      <td>842.0</td>\n",
       "      <td>814.0</td>\n",
       "      <td>786.0</td>\n",
       "      <td>758.0</td>\n",
       "    </tr>\n",
       "    <tr>\n",
       "      <th>31</th>\n",
       "      <td>[TG(54:5)]_FA18:1</td>\n",
       "      <td>898.0</td>\n",
       "      <td>599.0</td>\n",
       "      <td>12535827.0</td>\n",
       "      <td>898.0 -&gt; 599.0</td>\n",
       "      <td>TAG</td>\n",
       "      <td>TailoredTAG18-1_O3off_RBDCanola0.0005mgmL_0207...</td>\n",
       "      <td>12.59</td>\n",
       "      <td>160993.0</td>\n",
       "      <td>872.0</td>\n",
       "      <td>844.0</td>\n",
       "      <td>816.0</td>\n",
       "      <td>788.0</td>\n",
       "      <td>760.0</td>\n",
       "    </tr>\n",
       "    <tr>\n",
       "      <th>32</th>\n",
       "      <td>[TG(55:11),TG(54:4)]_FA18:1</td>\n",
       "      <td>900.0</td>\n",
       "      <td>601.0</td>\n",
       "      <td>14229465.0</td>\n",
       "      <td>900.0 -&gt; 601.0</td>\n",
       "      <td>TAG</td>\n",
       "      <td>TailoredTAG18-1_O3off_RBDCanola0.0005mgmL_0207...</td>\n",
       "      <td>14.32</td>\n",
       "      <td>565836.0</td>\n",
       "      <td>874.0</td>\n",
       "      <td>846.0</td>\n",
       "      <td>818.0</td>\n",
       "      <td>790.0</td>\n",
       "      <td>762.0</td>\n",
       "    </tr>\n",
       "    <tr>\n",
       "      <th>33</th>\n",
       "      <td>[TG(55:10),TG(54:3)]_FA18:1</td>\n",
       "      <td>902.0</td>\n",
       "      <td>603.0</td>\n",
       "      <td>34867382.0</td>\n",
       "      <td>902.0 -&gt; 603.0</td>\n",
       "      <td>TAG</td>\n",
       "      <td>TailoredTAG18-1_O3off_RBDCanola0.0005mgmL_0207...</td>\n",
       "      <td>16.24</td>\n",
       "      <td>1646316.0</td>\n",
       "      <td>876.0</td>\n",
       "      <td>848.0</td>\n",
       "      <td>820.0</td>\n",
       "      <td>792.0</td>\n",
       "      <td>764.0</td>\n",
       "    </tr>\n",
       "    <tr>\n",
       "      <th>34</th>\n",
       "      <td>[TG(55:9),TG(54:2)]_FA18:1</td>\n",
       "      <td>904.0</td>\n",
       "      <td>605.0</td>\n",
       "      <td>12858486.0</td>\n",
       "      <td>904.0 -&gt; 605.0</td>\n",
       "      <td>TAG</td>\n",
       "      <td>TailoredTAG18-1_O3off_RBDCanola0.0005mgmL_0207...</td>\n",
       "      <td>16.23</td>\n",
       "      <td>153436.0</td>\n",
       "      <td>878.0</td>\n",
       "      <td>850.0</td>\n",
       "      <td>822.0</td>\n",
       "      <td>794.0</td>\n",
       "      <td>766.0</td>\n",
       "    </tr>\n",
       "  </tbody>\n",
       "</table>\n",
       "</div>"
      ],
      "text/plain": [
       "                              Lipid  Parent_Ion Product_Ion   Intensity  \\\n",
       "0                          PG(34:4)       760.0       571.0   3508930.0   \n",
       "1               PG(34:3),PG(P-35:2)       762.0       573.0   4454522.0   \n",
       "2             PG(O-35:2),PG(P-35:1)       764.0       575.0   3342623.0   \n",
       "3             PG(O-35:1),PG(P-35:0)       766.0       577.0   3270586.0   \n",
       "4      PG(36:7),PG(35:0),PG(O-36:0)       782.0       593.0   2358947.0   \n",
       "5                          PG(36:6)       784.0       595.0   2304902.0   \n",
       "6             n-7 [TG(52:6)]_FA18:1       786.0       569.0   1702709.0   \n",
       "7                          PG(36:5)       786.0       597.0   3260273.0   \n",
       "8             n-7 [TG(52:5)]_FA18:1       788.0       571.0   1629241.0   \n",
       "9                          PG(36:4)       788.0       599.0   6129489.0   \n",
       "10              PG(36:3),PG(P-37:2)       790.0       601.0   2584182.0   \n",
       "11            n-7 [TG(52:4)]_FA18:1       790.0       573.0   2510903.0   \n",
       "12            PG(O-37:2),PG(P-37:1)       792.0       603.0   3311812.0   \n",
       "13  n-7 [TG(53:10),TG(52:3)]_FA18:1       792.0       575.0   1778559.0   \n",
       "14   PG(36:1),PG(O-37:1),PG(P-37:0)       794.0       605.0   4324463.0   \n",
       "15   n-7 [TG(53:9),TG(52:2)]_FA18:1       794.0       577.0   2595165.0   \n",
       "16                              NaN       796.0       579.0   2730220.0   \n",
       "17   n-7 [TG(54:7),TG(53:0)]_FA18:1       812.0       595.0   1487197.0   \n",
       "18            n-5 [TG(52:6)]_FA18:1       814.0       597.0   1833394.0   \n",
       "19            n-5 [TG(52:5)]_FA18:1       816.0       599.0   2668018.0   \n",
       "20            n-5 [TG(52:4)]_FA18:1       818.0       601.0   1527511.0   \n",
       "21  n-5 [TG(53:10),TG(52:3)]_FA18:1       820.0       603.0   2749749.0   \n",
       "22   n-5 [TG(53:9),TG(52:2)]_FA18:1       822.0       605.0   2444892.0   \n",
       "23                [TG(52:6)]_FA18:1       868.0       569.0   2147589.0   \n",
       "24                [TG(52:6)]_FA18:1       868.0       569.0   2077466.0   \n",
       "25                [TG(52:5)]_FA18:1       870.0       571.0   3446471.0   \n",
       "26                [TG(52:4)]_FA18:1       872.0       573.0   3569656.0   \n",
       "27      [TG(53:10),TG(52:3)]_FA18:1       874.0       575.0  20658623.0   \n",
       "28       [TG(53:9),TG(52:2)]_FA18:1       876.0       577.0  26769009.0   \n",
       "29       [TG(54:7),TG(53:0)]_FA18:1       894.0       595.0   4333085.0   \n",
       "30                [TG(54:6)]_FA18:1       896.0       597.0   3145901.0   \n",
       "31                [TG(54:5)]_FA18:1       898.0       599.0  12535827.0   \n",
       "32      [TG(55:11),TG(54:4)]_FA18:1       900.0       601.0  14229465.0   \n",
       "33      [TG(55:10),TG(54:3)]_FA18:1       902.0       603.0  34867382.0   \n",
       "34       [TG(55:9),TG(54:2)]_FA18:1       904.0       605.0  12858486.0   \n",
       "\n",
       "        Transition Class                                          Sample_ID  \\\n",
       "0   760.0 -> 571.0    PG  TailoredTAG18-1_O3off_RBDCanola0.0005mgmL_0207...   \n",
       "1   762.0 -> 573.0    PG  TailoredTAG18-1_O3off_RBDCanola0.0005mgmL_0207...   \n",
       "2   764.0 -> 575.0    PG  TailoredTAG18-1_O3off_RBDCanola0.0005mgmL_0207...   \n",
       "3   766.0 -> 577.0    PG  TailoredTAG18-1_O3off_RBDCanola0.0005mgmL_0207...   \n",
       "4   782.0 -> 593.0    PG  TailoredTAG18-1_O3off_RBDCanola0.0005mgmL_0207...   \n",
       "5   784.0 -> 595.0    PG  TailoredTAG18-1_O3off_RBDCanola0.0005mgmL_0207...   \n",
       "6   786.0 -> 569.0   NaN  TailoredTAG18-1_O3off_RBDCanola0.0005mgmL_0207...   \n",
       "7   786.0 -> 597.0    PG  TailoredTAG18-1_O3off_RBDCanola0.0005mgmL_0207...   \n",
       "8   788.0 -> 571.0   NaN  TailoredTAG18-1_O3off_RBDCanola0.0005mgmL_0207...   \n",
       "9   788.0 -> 599.0    PG  TailoredTAG18-1_O3off_RBDCanola0.0005mgmL_0207...   \n",
       "10  790.0 -> 601.0    PG  TailoredTAG18-1_O3off_RBDCanola0.0005mgmL_0207...   \n",
       "11  790.0 -> 573.0   NaN  TailoredTAG18-1_O3off_RBDCanola0.0005mgmL_0207...   \n",
       "12  792.0 -> 603.0    PG  TailoredTAG18-1_O3off_RBDCanola0.0005mgmL_0207...   \n",
       "13  792.0 -> 575.0   NaN  TailoredTAG18-1_O3off_RBDCanola0.0005mgmL_0207...   \n",
       "14  794.0 -> 605.0    PG  TailoredTAG18-1_O3off_RBDCanola0.0005mgmL_0207...   \n",
       "15  794.0 -> 577.0   NaN  TailoredTAG18-1_O3off_RBDCanola0.0005mgmL_0207...   \n",
       "16  796.0 -> 579.0   NaN  TailoredTAG18-1_O3off_RBDCanola0.0005mgmL_0207...   \n",
       "17  812.0 -> 595.0   NaN  TailoredTAG18-1_O3off_RBDCanola0.0005mgmL_0207...   \n",
       "18  814.0 -> 597.0   NaN  TailoredTAG18-1_O3off_RBDCanola0.0005mgmL_0207...   \n",
       "19  816.0 -> 599.0   NaN  TailoredTAG18-1_O3off_RBDCanola0.0005mgmL_0207...   \n",
       "20  818.0 -> 601.0   NaN  TailoredTAG18-1_O3off_RBDCanola0.0005mgmL_0207...   \n",
       "21  820.0 -> 603.0   NaN  TailoredTAG18-1_O3off_RBDCanola0.0005mgmL_0207...   \n",
       "22  822.0 -> 605.0   NaN  TailoredTAG18-1_O3off_RBDCanola0.0005mgmL_0207...   \n",
       "23  868.0 -> 569.0   TAG  TailoredTAG18-1_O3off_RBDCanola0.0005mgmL_0207...   \n",
       "24  868.0 -> 569.0   TAG  TailoredTAG18-1_O3off_RBDCanola0.0005mgmL_0207...   \n",
       "25  870.0 -> 571.0   TAG  TailoredTAG18-1_O3off_RBDCanola0.0005mgmL_0207...   \n",
       "26  872.0 -> 573.0   TAG  TailoredTAG18-1_O3off_RBDCanola0.0005mgmL_0207...   \n",
       "27  874.0 -> 575.0   TAG  TailoredTAG18-1_O3off_RBDCanola0.0005mgmL_0207...   \n",
       "28  876.0 -> 577.0   TAG  TailoredTAG18-1_O3off_RBDCanola0.0005mgmL_0207...   \n",
       "29  894.0 -> 595.0   TAG  TailoredTAG18-1_O3off_RBDCanola0.0005mgmL_0207...   \n",
       "30  896.0 -> 597.0   TAG  TailoredTAG18-1_O3off_RBDCanola0.0005mgmL_0207...   \n",
       "31  898.0 -> 599.0   TAG  TailoredTAG18-1_O3off_RBDCanola0.0005mgmL_0207...   \n",
       "32  900.0 -> 601.0   TAG  TailoredTAG18-1_O3off_RBDCanola0.0005mgmL_0207...   \n",
       "33  902.0 -> 603.0   TAG  TailoredTAG18-1_O3off_RBDCanola0.0005mgmL_0207...   \n",
       "34  904.0 -> 605.0   TAG  TailoredTAG18-1_O3off_RBDCanola0.0005mgmL_0207...   \n",
       "\n",
       "    Retention_Time  Intensity_OzESI    n-3    n-5    n-7    n-9   n-11  \n",
       "0              NaN              NaN  734.0  706.0  678.0  650.0  622.0  \n",
       "1              NaN              NaN  736.0  708.0  680.0  652.0  624.0  \n",
       "2              NaN              NaN  738.0  710.0  682.0  654.0  626.0  \n",
       "3              NaN              NaN  740.0  712.0  684.0  656.0  628.0  \n",
       "4              NaN              NaN  756.0  728.0  700.0  672.0  644.0  \n",
       "5              NaN              NaN  758.0  730.0  702.0  674.0  646.0  \n",
       "6              NaN              NaN  760.0  732.0  704.0  676.0  648.0  \n",
       "7              NaN              NaN  760.0  732.0  704.0  676.0  648.0  \n",
       "8              NaN              NaN  762.0  734.0  706.0  678.0  650.0  \n",
       "9            25.84           5236.0  762.0  734.0  706.0  678.0  650.0  \n",
       "10             NaN              NaN  764.0  736.0  708.0  680.0  652.0  \n",
       "11             NaN              NaN  764.0  736.0  708.0  680.0  652.0  \n",
       "12             NaN              NaN  766.0  738.0  710.0  682.0  654.0  \n",
       "13             NaN              NaN  766.0  738.0  710.0  682.0  654.0  \n",
       "14             NaN              NaN  768.0  740.0  712.0  684.0  656.0  \n",
       "15             NaN              NaN  768.0  740.0  712.0  684.0  656.0  \n",
       "16             NaN              NaN  770.0  742.0  714.0  686.0  658.0  \n",
       "17             NaN              NaN  786.0  758.0  730.0  702.0  674.0  \n",
       "18             NaN              NaN  788.0  760.0  732.0  704.0  676.0  \n",
       "19             NaN              NaN  790.0  762.0  734.0  706.0  678.0  \n",
       "20             NaN              NaN  792.0  764.0  736.0  708.0  680.0  \n",
       "21             NaN              NaN  794.0  766.0  738.0  710.0  682.0  \n",
       "22             NaN              NaN  796.0  768.0  740.0  712.0  684.0  \n",
       "23             NaN              NaN  842.0  814.0  786.0  758.0  730.0  \n",
       "24             NaN              NaN  842.0  814.0  786.0  758.0  730.0  \n",
       "25             NaN              NaN  844.0  816.0  788.0  760.0  732.0  \n",
       "26           12.59          12987.0  846.0  818.0  790.0  762.0  734.0  \n",
       "27           14.37          57446.0  848.0  820.0  792.0  764.0  736.0  \n",
       "28           16.29         188293.0  850.0  822.0  794.0  766.0  738.0  \n",
       "29            9.17           8938.0  868.0  840.0  812.0  784.0  756.0  \n",
       "30           10.77          40080.0  870.0  842.0  814.0  786.0  758.0  \n",
       "31           12.59         160993.0  872.0  844.0  816.0  788.0  760.0  \n",
       "32           14.32         565836.0  874.0  846.0  818.0  790.0  762.0  \n",
       "33           16.24        1646316.0  876.0  848.0  820.0  792.0  764.0  \n",
       "34           16.23         153436.0  878.0  850.0  822.0  794.0  766.0  "
      ]
     },
     "execution_count": 13,
     "metadata": {},
     "output_type": "execute_result"
    }
   ],
   "source": [
    "df_test = df.copy()\n",
    "df_test['Parent_Ion'] = df_test['Parent_Ion'].astype(float)\n",
    "#Convert all n-# columns to float\n",
    "for i in OzESI_list:\n",
    "    df_test['n-' + str(i)] = df_test['n-' + str(i)].astype(float)\n",
    "\n",
    "# print(df_test[['Parent_Ion','n-3']].dtypes)\n",
    "print(df['Parent_Ion'].dtypes)\n",
    "print(df['n-3'].dtypes)\n",
    "\n",
    "# def replace_lipid(row):\n",
    "#     if pd.isna(row['Lipid']):\n",
    "#         parent_ion = row['Parent_Ion']\n",
    "#         if parent_ion == row['n-3']:\n",
    "#             row['Lipid'] = 'n-3'\n",
    "#         elif parent_ion == row['n-5']:\n",
    "#             return 'n-5'\n",
    "#         elif parent_ion == row['n-7']:\n",
    "#             return 'n-7'\n",
    "#         elif parent_ion == row['n-9']:\n",
    "#             return 'n-9'\n",
    "#         elif parent_ion == row['n-11']:\n",
    "#             return 'n-11'\n",
    "#         else:\n",
    "#             return np.nan\n",
    "#     else:\n",
    "#         return row['Lipid']\n",
    "\n",
    "\n",
    "#search for n-# in Parent_Ion and add the corresponding lipid to the Lipid column\n",
    "for i in range(len(df_test)):\n",
    "    for j in range(len(df_test)):\n",
    "        if pd.isna(df_test.loc[i,'Lipid']):\n",
    "            parent_ion = df_test.loc[i,'Parent_Ion']\n",
    "            if parent_ion == df_test.loc[j,'n-3'] and isinstance(df_test.loc[j,'Lipid'], str):\n",
    "                df_test.loc[i,'Lipid'] = 'n-3 ' + (df_test.loc[j,'Lipid'])\n",
    "\n",
    "            elif parent_ion == df_test.loc[j,'n-5'] and isinstance(df_test.loc[j,'Lipid'], str):\n",
    "                df_test.loc[i,'Lipid'] = 'n-5 ' + (df_test.loc[j,'Lipid'])\n",
    "            elif parent_ion == df_test.loc[j,'n-7'] and isinstance(df_test.loc[j,'Lipid'], str):\n",
    "                df_test.loc[i,'Lipid'] = 'n-7 ' + (df_test.loc[j,'Lipid'])\n",
    "            elif parent_ion == df_test.loc[j,'n-9'] and isinstance(df_test.loc[j,'Lipid'], str):\n",
    "                df_test.loc[i,'Lipid'] = 'n-9 ' + (df_test.loc[j,'Lipid'])\n",
    "            elif parent_ion == df_test.loc[j,'n-11'] and isinstance(df_test.loc[j,'Lipid'], str):\n",
    "                df_test.loc[i,'Lipid'] = 'n-11 '+ (df_test.loc[j,'Lipid'])\n",
    "            else:\n",
    "                pass\n",
    "                # df_test.loc[i,'Lipid'] = np.nan\n",
    "# Apply the function to each row of the dataframe\n",
    "\n",
    "\n",
    "\n",
    "\n",
    "\n",
    "# df_test['Lipid'] = df_test.apply(replace_lipid,axis=1)\n",
    "# Print the updated dataframe\n",
    "df_test.head(None)"
   ]
  },
  {
   "cell_type": "code",
   "execution_count": 190,
   "metadata": {},
   "outputs": [
    {
     "data": {
      "text/html": [
       "<div>\n",
       "<style scoped>\n",
       "    .dataframe tbody tr th:only-of-type {\n",
       "        vertical-align: middle;\n",
       "    }\n",
       "\n",
       "    .dataframe tbody tr th {\n",
       "        vertical-align: top;\n",
       "    }\n",
       "\n",
       "    .dataframe thead th {\n",
       "        text-align: right;\n",
       "    }\n",
       "</style>\n",
       "<table border=\"1\" class=\"dataframe\">\n",
       "  <thead>\n",
       "    <tr style=\"text-align: right;\">\n",
       "      <th></th>\n",
       "      <th>Lipid</th>\n",
       "      <th>Parent_Ion</th>\n",
       "      <th>Product_Ion</th>\n",
       "      <th>Intensity</th>\n",
       "      <th>Transition</th>\n",
       "      <th>Class</th>\n",
       "      <th>Sample_ID</th>\n",
       "      <th>Retention_Time</th>\n",
       "      <th>Intensity_OzESI</th>\n",
       "      <th>n-3</th>\n",
       "      <th>n-5</th>\n",
       "      <th>n-7</th>\n",
       "      <th>n-9</th>\n",
       "      <th>n-11</th>\n",
       "    </tr>\n",
       "  </thead>\n",
       "  <tbody>\n",
       "    <tr>\n",
       "      <th>0</th>\n",
       "      <td>PG(34:4)</td>\n",
       "      <td>760.0</td>\n",
       "      <td>571.0</td>\n",
       "      <td>3508930.0</td>\n",
       "      <td>760.0 -&gt; 571.0</td>\n",
       "      <td>PG</td>\n",
       "      <td>TailoredTAG18-1_O3off_RBDCanola0.0005mgmL_0207...</td>\n",
       "      <td>NaN</td>\n",
       "      <td>NaN</td>\n",
       "      <td>734.0</td>\n",
       "      <td>706.0</td>\n",
       "      <td>678.0</td>\n",
       "      <td>650.0</td>\n",
       "      <td>622.0</td>\n",
       "    </tr>\n",
       "    <tr>\n",
       "      <th>1</th>\n",
       "      <td>PG(34:3),PG(P-35:2)</td>\n",
       "      <td>762.0</td>\n",
       "      <td>573.0</td>\n",
       "      <td>4454522.0</td>\n",
       "      <td>762.0 -&gt; 573.0</td>\n",
       "      <td>PG</td>\n",
       "      <td>TailoredTAG18-1_O3off_RBDCanola0.0005mgmL_0207...</td>\n",
       "      <td>NaN</td>\n",
       "      <td>NaN</td>\n",
       "      <td>736.0</td>\n",
       "      <td>708.0</td>\n",
       "      <td>680.0</td>\n",
       "      <td>652.0</td>\n",
       "      <td>624.0</td>\n",
       "    </tr>\n",
       "    <tr>\n",
       "      <th>2</th>\n",
       "      <td>PG(O-35:2),PG(P-35:1)</td>\n",
       "      <td>764.0</td>\n",
       "      <td>575.0</td>\n",
       "      <td>3342623.0</td>\n",
       "      <td>764.0 -&gt; 575.0</td>\n",
       "      <td>PG</td>\n",
       "      <td>TailoredTAG18-1_O3off_RBDCanola0.0005mgmL_0207...</td>\n",
       "      <td>NaN</td>\n",
       "      <td>NaN</td>\n",
       "      <td>738.0</td>\n",
       "      <td>710.0</td>\n",
       "      <td>682.0</td>\n",
       "      <td>654.0</td>\n",
       "      <td>626.0</td>\n",
       "    </tr>\n",
       "    <tr>\n",
       "      <th>3</th>\n",
       "      <td>PG(O-35:1),PG(P-35:0)</td>\n",
       "      <td>766.0</td>\n",
       "      <td>577.0</td>\n",
       "      <td>3270586.0</td>\n",
       "      <td>766.0 -&gt; 577.0</td>\n",
       "      <td>PG</td>\n",
       "      <td>TailoredTAG18-1_O3off_RBDCanola0.0005mgmL_0207...</td>\n",
       "      <td>NaN</td>\n",
       "      <td>NaN</td>\n",
       "      <td>740.0</td>\n",
       "      <td>712.0</td>\n",
       "      <td>684.0</td>\n",
       "      <td>656.0</td>\n",
       "      <td>628.0</td>\n",
       "    </tr>\n",
       "    <tr>\n",
       "      <th>4</th>\n",
       "      <td>PG(36:7),PG(35:0),PG(O-36:0)</td>\n",
       "      <td>782.0</td>\n",
       "      <td>593.0</td>\n",
       "      <td>2358947.0</td>\n",
       "      <td>782.0 -&gt; 593.0</td>\n",
       "      <td>PG</td>\n",
       "      <td>TailoredTAG18-1_O3off_RBDCanola0.0005mgmL_0207...</td>\n",
       "      <td>NaN</td>\n",
       "      <td>NaN</td>\n",
       "      <td>756.0</td>\n",
       "      <td>728.0</td>\n",
       "      <td>700.0</td>\n",
       "      <td>672.0</td>\n",
       "      <td>644.0</td>\n",
       "    </tr>\n",
       "    <tr>\n",
       "      <th>5</th>\n",
       "      <td>PG(36:6)</td>\n",
       "      <td>784.0</td>\n",
       "      <td>595.0</td>\n",
       "      <td>2304902.0</td>\n",
       "      <td>784.0 -&gt; 595.0</td>\n",
       "      <td>PG</td>\n",
       "      <td>TailoredTAG18-1_O3off_RBDCanola0.0005mgmL_0207...</td>\n",
       "      <td>NaN</td>\n",
       "      <td>NaN</td>\n",
       "      <td>758.0</td>\n",
       "      <td>730.0</td>\n",
       "      <td>702.0</td>\n",
       "      <td>674.0</td>\n",
       "      <td>646.0</td>\n",
       "    </tr>\n",
       "    <tr>\n",
       "      <th>6</th>\n",
       "      <td>n-7 [TG(52:6)]_FA18:1</td>\n",
       "      <td>786.0</td>\n",
       "      <td>569.0</td>\n",
       "      <td>1702709.0</td>\n",
       "      <td>786.0 -&gt; 569.0</td>\n",
       "      <td>NaN</td>\n",
       "      <td>TailoredTAG18-1_O3off_RBDCanola0.0005mgmL_0207...</td>\n",
       "      <td>NaN</td>\n",
       "      <td>NaN</td>\n",
       "      <td>760.0</td>\n",
       "      <td>732.0</td>\n",
       "      <td>704.0</td>\n",
       "      <td>676.0</td>\n",
       "      <td>648.0</td>\n",
       "    </tr>\n",
       "    <tr>\n",
       "      <th>7</th>\n",
       "      <td>PG(36:5)</td>\n",
       "      <td>786.0</td>\n",
       "      <td>597.0</td>\n",
       "      <td>3260273.0</td>\n",
       "      <td>786.0 -&gt; 597.0</td>\n",
       "      <td>PG</td>\n",
       "      <td>TailoredTAG18-1_O3off_RBDCanola0.0005mgmL_0207...</td>\n",
       "      <td>NaN</td>\n",
       "      <td>NaN</td>\n",
       "      <td>760.0</td>\n",
       "      <td>732.0</td>\n",
       "      <td>704.0</td>\n",
       "      <td>676.0</td>\n",
       "      <td>648.0</td>\n",
       "    </tr>\n",
       "    <tr>\n",
       "      <th>8</th>\n",
       "      <td>n-7 [TG(52:5)]_FA18:1</td>\n",
       "      <td>788.0</td>\n",
       "      <td>571.0</td>\n",
       "      <td>1629241.0</td>\n",
       "      <td>788.0 -&gt; 571.0</td>\n",
       "      <td>NaN</td>\n",
       "      <td>TailoredTAG18-1_O3off_RBDCanola0.0005mgmL_0207...</td>\n",
       "      <td>NaN</td>\n",
       "      <td>NaN</td>\n",
       "      <td>762.0</td>\n",
       "      <td>734.0</td>\n",
       "      <td>706.0</td>\n",
       "      <td>678.0</td>\n",
       "      <td>650.0</td>\n",
       "    </tr>\n",
       "    <tr>\n",
       "      <th>9</th>\n",
       "      <td>PG(36:4)</td>\n",
       "      <td>788.0</td>\n",
       "      <td>599.0</td>\n",
       "      <td>6129489.0</td>\n",
       "      <td>788.0 -&gt; 599.0</td>\n",
       "      <td>PG</td>\n",
       "      <td>TailoredTAG18-1_O3off_RBDCanola0.0005mgmL_0207...</td>\n",
       "      <td>25.84</td>\n",
       "      <td>5236.0</td>\n",
       "      <td>762.0</td>\n",
       "      <td>734.0</td>\n",
       "      <td>706.0</td>\n",
       "      <td>678.0</td>\n",
       "      <td>650.0</td>\n",
       "    </tr>\n",
       "    <tr>\n",
       "      <th>10</th>\n",
       "      <td>PG(36:3),PG(P-37:2)</td>\n",
       "      <td>790.0</td>\n",
       "      <td>601.0</td>\n",
       "      <td>2584182.0</td>\n",
       "      <td>790.0 -&gt; 601.0</td>\n",
       "      <td>PG</td>\n",
       "      <td>TailoredTAG18-1_O3off_RBDCanola0.0005mgmL_0207...</td>\n",
       "      <td>NaN</td>\n",
       "      <td>NaN</td>\n",
       "      <td>764.0</td>\n",
       "      <td>736.0</td>\n",
       "      <td>708.0</td>\n",
       "      <td>680.0</td>\n",
       "      <td>652.0</td>\n",
       "    </tr>\n",
       "    <tr>\n",
       "      <th>11</th>\n",
       "      <td>n-7 [TG(52:4)]_FA18:1</td>\n",
       "      <td>790.0</td>\n",
       "      <td>573.0</td>\n",
       "      <td>2510903.0</td>\n",
       "      <td>790.0 -&gt; 573.0</td>\n",
       "      <td>NaN</td>\n",
       "      <td>TailoredTAG18-1_O3off_RBDCanola0.0005mgmL_0207...</td>\n",
       "      <td>NaN</td>\n",
       "      <td>NaN</td>\n",
       "      <td>764.0</td>\n",
       "      <td>736.0</td>\n",
       "      <td>708.0</td>\n",
       "      <td>680.0</td>\n",
       "      <td>652.0</td>\n",
       "    </tr>\n",
       "    <tr>\n",
       "      <th>12</th>\n",
       "      <td>PG(O-37:2),PG(P-37:1)</td>\n",
       "      <td>792.0</td>\n",
       "      <td>603.0</td>\n",
       "      <td>3311812.0</td>\n",
       "      <td>792.0 -&gt; 603.0</td>\n",
       "      <td>PG</td>\n",
       "      <td>TailoredTAG18-1_O3off_RBDCanola0.0005mgmL_0207...</td>\n",
       "      <td>NaN</td>\n",
       "      <td>NaN</td>\n",
       "      <td>766.0</td>\n",
       "      <td>738.0</td>\n",
       "      <td>710.0</td>\n",
       "      <td>682.0</td>\n",
       "      <td>654.0</td>\n",
       "    </tr>\n",
       "    <tr>\n",
       "      <th>13</th>\n",
       "      <td>n-7 [TG(53:10),TG(52:3)]_FA18:1</td>\n",
       "      <td>792.0</td>\n",
       "      <td>575.0</td>\n",
       "      <td>1778559.0</td>\n",
       "      <td>792.0 -&gt; 575.0</td>\n",
       "      <td>NaN</td>\n",
       "      <td>TailoredTAG18-1_O3off_RBDCanola0.0005mgmL_0207...</td>\n",
       "      <td>NaN</td>\n",
       "      <td>NaN</td>\n",
       "      <td>766.0</td>\n",
       "      <td>738.0</td>\n",
       "      <td>710.0</td>\n",
       "      <td>682.0</td>\n",
       "      <td>654.0</td>\n",
       "    </tr>\n",
       "    <tr>\n",
       "      <th>14</th>\n",
       "      <td>PG(36:1),PG(O-37:1),PG(P-37:0)</td>\n",
       "      <td>794.0</td>\n",
       "      <td>605.0</td>\n",
       "      <td>4324463.0</td>\n",
       "      <td>794.0 -&gt; 605.0</td>\n",
       "      <td>PG</td>\n",
       "      <td>TailoredTAG18-1_O3off_RBDCanola0.0005mgmL_0207...</td>\n",
       "      <td>NaN</td>\n",
       "      <td>NaN</td>\n",
       "      <td>768.0</td>\n",
       "      <td>740.0</td>\n",
       "      <td>712.0</td>\n",
       "      <td>684.0</td>\n",
       "      <td>656.0</td>\n",
       "    </tr>\n",
       "    <tr>\n",
       "      <th>15</th>\n",
       "      <td>n-7 [TG(53:9),TG(52:2)]_FA18:1</td>\n",
       "      <td>794.0</td>\n",
       "      <td>577.0</td>\n",
       "      <td>2595165.0</td>\n",
       "      <td>794.0 -&gt; 577.0</td>\n",
       "      <td>NaN</td>\n",
       "      <td>TailoredTAG18-1_O3off_RBDCanola0.0005mgmL_0207...</td>\n",
       "      <td>NaN</td>\n",
       "      <td>NaN</td>\n",
       "      <td>768.0</td>\n",
       "      <td>740.0</td>\n",
       "      <td>712.0</td>\n",
       "      <td>684.0</td>\n",
       "      <td>656.0</td>\n",
       "    </tr>\n",
       "    <tr>\n",
       "      <th>16</th>\n",
       "      <td>NaN</td>\n",
       "      <td>796.0</td>\n",
       "      <td>579.0</td>\n",
       "      <td>2730220.0</td>\n",
       "      <td>796.0 -&gt; 579.0</td>\n",
       "      <td>NaN</td>\n",
       "      <td>TailoredTAG18-1_O3off_RBDCanola0.0005mgmL_0207...</td>\n",
       "      <td>NaN</td>\n",
       "      <td>NaN</td>\n",
       "      <td>770.0</td>\n",
       "      <td>742.0</td>\n",
       "      <td>714.0</td>\n",
       "      <td>686.0</td>\n",
       "      <td>658.0</td>\n",
       "    </tr>\n",
       "    <tr>\n",
       "      <th>17</th>\n",
       "      <td>n-7 [TG(54:7),TG(53:0)]_FA18:1</td>\n",
       "      <td>812.0</td>\n",
       "      <td>595.0</td>\n",
       "      <td>1487197.0</td>\n",
       "      <td>812.0 -&gt; 595.0</td>\n",
       "      <td>NaN</td>\n",
       "      <td>TailoredTAG18-1_O3off_RBDCanola0.0005mgmL_0207...</td>\n",
       "      <td>NaN</td>\n",
       "      <td>NaN</td>\n",
       "      <td>786.0</td>\n",
       "      <td>758.0</td>\n",
       "      <td>730.0</td>\n",
       "      <td>702.0</td>\n",
       "      <td>674.0</td>\n",
       "    </tr>\n",
       "    <tr>\n",
       "      <th>18</th>\n",
       "      <td>n-5 [TG(52:6)]_FA18:1</td>\n",
       "      <td>814.0</td>\n",
       "      <td>597.0</td>\n",
       "      <td>1833394.0</td>\n",
       "      <td>814.0 -&gt; 597.0</td>\n",
       "      <td>NaN</td>\n",
       "      <td>TailoredTAG18-1_O3off_RBDCanola0.0005mgmL_0207...</td>\n",
       "      <td>NaN</td>\n",
       "      <td>NaN</td>\n",
       "      <td>788.0</td>\n",
       "      <td>760.0</td>\n",
       "      <td>732.0</td>\n",
       "      <td>704.0</td>\n",
       "      <td>676.0</td>\n",
       "    </tr>\n",
       "    <tr>\n",
       "      <th>19</th>\n",
       "      <td>n-5 [TG(52:5)]_FA18:1</td>\n",
       "      <td>816.0</td>\n",
       "      <td>599.0</td>\n",
       "      <td>2668018.0</td>\n",
       "      <td>816.0 -&gt; 599.0</td>\n",
       "      <td>NaN</td>\n",
       "      <td>TailoredTAG18-1_O3off_RBDCanola0.0005mgmL_0207...</td>\n",
       "      <td>NaN</td>\n",
       "      <td>NaN</td>\n",
       "      <td>790.0</td>\n",
       "      <td>762.0</td>\n",
       "      <td>734.0</td>\n",
       "      <td>706.0</td>\n",
       "      <td>678.0</td>\n",
       "    </tr>\n",
       "    <tr>\n",
       "      <th>20</th>\n",
       "      <td>n-5 [TG(52:4)]_FA18:1</td>\n",
       "      <td>818.0</td>\n",
       "      <td>601.0</td>\n",
       "      <td>1527511.0</td>\n",
       "      <td>818.0 -&gt; 601.0</td>\n",
       "      <td>NaN</td>\n",
       "      <td>TailoredTAG18-1_O3off_RBDCanola0.0005mgmL_0207...</td>\n",
       "      <td>NaN</td>\n",
       "      <td>NaN</td>\n",
       "      <td>792.0</td>\n",
       "      <td>764.0</td>\n",
       "      <td>736.0</td>\n",
       "      <td>708.0</td>\n",
       "      <td>680.0</td>\n",
       "    </tr>\n",
       "    <tr>\n",
       "      <th>21</th>\n",
       "      <td>n-5 [TG(53:10),TG(52:3)]_FA18:1</td>\n",
       "      <td>820.0</td>\n",
       "      <td>603.0</td>\n",
       "      <td>2749749.0</td>\n",
       "      <td>820.0 -&gt; 603.0</td>\n",
       "      <td>NaN</td>\n",
       "      <td>TailoredTAG18-1_O3off_RBDCanola0.0005mgmL_0207...</td>\n",
       "      <td>NaN</td>\n",
       "      <td>NaN</td>\n",
       "      <td>794.0</td>\n",
       "      <td>766.0</td>\n",
       "      <td>738.0</td>\n",
       "      <td>710.0</td>\n",
       "      <td>682.0</td>\n",
       "    </tr>\n",
       "    <tr>\n",
       "      <th>22</th>\n",
       "      <td>n-5 [TG(53:9),TG(52:2)]_FA18:1</td>\n",
       "      <td>822.0</td>\n",
       "      <td>605.0</td>\n",
       "      <td>2444892.0</td>\n",
       "      <td>822.0 -&gt; 605.0</td>\n",
       "      <td>NaN</td>\n",
       "      <td>TailoredTAG18-1_O3off_RBDCanola0.0005mgmL_0207...</td>\n",
       "      <td>NaN</td>\n",
       "      <td>NaN</td>\n",
       "      <td>796.0</td>\n",
       "      <td>768.0</td>\n",
       "      <td>740.0</td>\n",
       "      <td>712.0</td>\n",
       "      <td>684.0</td>\n",
       "    </tr>\n",
       "    <tr>\n",
       "      <th>23</th>\n",
       "      <td>[TG(52:6)]_FA18:1</td>\n",
       "      <td>868.0</td>\n",
       "      <td>569.0</td>\n",
       "      <td>2147589.0</td>\n",
       "      <td>868.0 -&gt; 569.0</td>\n",
       "      <td>TAG</td>\n",
       "      <td>TailoredTAG18-1_O3off_RBDCanola0.0005mgmL_0207...</td>\n",
       "      <td>NaN</td>\n",
       "      <td>NaN</td>\n",
       "      <td>842.0</td>\n",
       "      <td>814.0</td>\n",
       "      <td>786.0</td>\n",
       "      <td>758.0</td>\n",
       "      <td>730.0</td>\n",
       "    </tr>\n",
       "    <tr>\n",
       "      <th>24</th>\n",
       "      <td>[TG(52:6)]_FA18:1</td>\n",
       "      <td>868.0</td>\n",
       "      <td>569.0</td>\n",
       "      <td>2077466.0</td>\n",
       "      <td>868.0 -&gt; 569.0</td>\n",
       "      <td>TAG</td>\n",
       "      <td>TailoredTAG18-1_O3off_RBDCanola0.0005mgmL_0207...</td>\n",
       "      <td>NaN</td>\n",
       "      <td>NaN</td>\n",
       "      <td>842.0</td>\n",
       "      <td>814.0</td>\n",
       "      <td>786.0</td>\n",
       "      <td>758.0</td>\n",
       "      <td>730.0</td>\n",
       "    </tr>\n",
       "    <tr>\n",
       "      <th>25</th>\n",
       "      <td>[TG(52:5)]_FA18:1</td>\n",
       "      <td>870.0</td>\n",
       "      <td>571.0</td>\n",
       "      <td>3446471.0</td>\n",
       "      <td>870.0 -&gt; 571.0</td>\n",
       "      <td>TAG</td>\n",
       "      <td>TailoredTAG18-1_O3off_RBDCanola0.0005mgmL_0207...</td>\n",
       "      <td>NaN</td>\n",
       "      <td>NaN</td>\n",
       "      <td>844.0</td>\n",
       "      <td>816.0</td>\n",
       "      <td>788.0</td>\n",
       "      <td>760.0</td>\n",
       "      <td>732.0</td>\n",
       "    </tr>\n",
       "    <tr>\n",
       "      <th>26</th>\n",
       "      <td>[TG(52:4)]_FA18:1</td>\n",
       "      <td>872.0</td>\n",
       "      <td>573.0</td>\n",
       "      <td>3569656.0</td>\n",
       "      <td>872.0 -&gt; 573.0</td>\n",
       "      <td>TAG</td>\n",
       "      <td>TailoredTAG18-1_O3off_RBDCanola0.0005mgmL_0207...</td>\n",
       "      <td>12.59</td>\n",
       "      <td>12987.0</td>\n",
       "      <td>846.0</td>\n",
       "      <td>818.0</td>\n",
       "      <td>790.0</td>\n",
       "      <td>762.0</td>\n",
       "      <td>734.0</td>\n",
       "    </tr>\n",
       "    <tr>\n",
       "      <th>27</th>\n",
       "      <td>[TG(53:10),TG(52:3)]_FA18:1</td>\n",
       "      <td>874.0</td>\n",
       "      <td>575.0</td>\n",
       "      <td>20658623.0</td>\n",
       "      <td>874.0 -&gt; 575.0</td>\n",
       "      <td>TAG</td>\n",
       "      <td>TailoredTAG18-1_O3off_RBDCanola0.0005mgmL_0207...</td>\n",
       "      <td>14.37</td>\n",
       "      <td>57446.0</td>\n",
       "      <td>848.0</td>\n",
       "      <td>820.0</td>\n",
       "      <td>792.0</td>\n",
       "      <td>764.0</td>\n",
       "      <td>736.0</td>\n",
       "    </tr>\n",
       "    <tr>\n",
       "      <th>28</th>\n",
       "      <td>[TG(53:9),TG(52:2)]_FA18:1</td>\n",
       "      <td>876.0</td>\n",
       "      <td>577.0</td>\n",
       "      <td>26769009.0</td>\n",
       "      <td>876.0 -&gt; 577.0</td>\n",
       "      <td>TAG</td>\n",
       "      <td>TailoredTAG18-1_O3off_RBDCanola0.0005mgmL_0207...</td>\n",
       "      <td>16.29</td>\n",
       "      <td>188293.0</td>\n",
       "      <td>850.0</td>\n",
       "      <td>822.0</td>\n",
       "      <td>794.0</td>\n",
       "      <td>766.0</td>\n",
       "      <td>738.0</td>\n",
       "    </tr>\n",
       "    <tr>\n",
       "      <th>29</th>\n",
       "      <td>[TG(54:7),TG(53:0)]_FA18:1</td>\n",
       "      <td>894.0</td>\n",
       "      <td>595.0</td>\n",
       "      <td>4333085.0</td>\n",
       "      <td>894.0 -&gt; 595.0</td>\n",
       "      <td>TAG</td>\n",
       "      <td>TailoredTAG18-1_O3off_RBDCanola0.0005mgmL_0207...</td>\n",
       "      <td>9.17</td>\n",
       "      <td>8938.0</td>\n",
       "      <td>868.0</td>\n",
       "      <td>840.0</td>\n",
       "      <td>812.0</td>\n",
       "      <td>784.0</td>\n",
       "      <td>756.0</td>\n",
       "    </tr>\n",
       "    <tr>\n",
       "      <th>30</th>\n",
       "      <td>[TG(54:6)]_FA18:1</td>\n",
       "      <td>896.0</td>\n",
       "      <td>597.0</td>\n",
       "      <td>3145901.0</td>\n",
       "      <td>896.0 -&gt; 597.0</td>\n",
       "      <td>TAG</td>\n",
       "      <td>TailoredTAG18-1_O3off_RBDCanola0.0005mgmL_0207...</td>\n",
       "      <td>10.77</td>\n",
       "      <td>40080.0</td>\n",
       "      <td>870.0</td>\n",
       "      <td>842.0</td>\n",
       "      <td>814.0</td>\n",
       "      <td>786.0</td>\n",
       "      <td>758.0</td>\n",
       "    </tr>\n",
       "    <tr>\n",
       "      <th>31</th>\n",
       "      <td>[TG(54:5)]_FA18:1</td>\n",
       "      <td>898.0</td>\n",
       "      <td>599.0</td>\n",
       "      <td>12535827.0</td>\n",
       "      <td>898.0 -&gt; 599.0</td>\n",
       "      <td>TAG</td>\n",
       "      <td>TailoredTAG18-1_O3off_RBDCanola0.0005mgmL_0207...</td>\n",
       "      <td>12.59</td>\n",
       "      <td>160993.0</td>\n",
       "      <td>872.0</td>\n",
       "      <td>844.0</td>\n",
       "      <td>816.0</td>\n",
       "      <td>788.0</td>\n",
       "      <td>760.0</td>\n",
       "    </tr>\n",
       "    <tr>\n",
       "      <th>32</th>\n",
       "      <td>[TG(55:11),TG(54:4)]_FA18:1</td>\n",
       "      <td>900.0</td>\n",
       "      <td>601.0</td>\n",
       "      <td>14229465.0</td>\n",
       "      <td>900.0 -&gt; 601.0</td>\n",
       "      <td>TAG</td>\n",
       "      <td>TailoredTAG18-1_O3off_RBDCanola0.0005mgmL_0207...</td>\n",
       "      <td>14.32</td>\n",
       "      <td>565836.0</td>\n",
       "      <td>874.0</td>\n",
       "      <td>846.0</td>\n",
       "      <td>818.0</td>\n",
       "      <td>790.0</td>\n",
       "      <td>762.0</td>\n",
       "    </tr>\n",
       "    <tr>\n",
       "      <th>33</th>\n",
       "      <td>[TG(55:10),TG(54:3)]_FA18:1</td>\n",
       "      <td>902.0</td>\n",
       "      <td>603.0</td>\n",
       "      <td>34867382.0</td>\n",
       "      <td>902.0 -&gt; 603.0</td>\n",
       "      <td>TAG</td>\n",
       "      <td>TailoredTAG18-1_O3off_RBDCanola0.0005mgmL_0207...</td>\n",
       "      <td>16.24</td>\n",
       "      <td>1646316.0</td>\n",
       "      <td>876.0</td>\n",
       "      <td>848.0</td>\n",
       "      <td>820.0</td>\n",
       "      <td>792.0</td>\n",
       "      <td>764.0</td>\n",
       "    </tr>\n",
       "    <tr>\n",
       "      <th>34</th>\n",
       "      <td>[TG(55:9),TG(54:2)]_FA18:1</td>\n",
       "      <td>904.0</td>\n",
       "      <td>605.0</td>\n",
       "      <td>12858486.0</td>\n",
       "      <td>904.0 -&gt; 605.0</td>\n",
       "      <td>TAG</td>\n",
       "      <td>TailoredTAG18-1_O3off_RBDCanola0.0005mgmL_0207...</td>\n",
       "      <td>16.23</td>\n",
       "      <td>153436.0</td>\n",
       "      <td>878.0</td>\n",
       "      <td>850.0</td>\n",
       "      <td>822.0</td>\n",
       "      <td>794.0</td>\n",
       "      <td>766.0</td>\n",
       "    </tr>\n",
       "  </tbody>\n",
       "</table>\n",
       "</div>"
      ],
      "text/plain": [
       "                              Lipid  Parent_Ion Product_Ion   Intensity  \\\n",
       "0                          PG(34:4)       760.0       571.0   3508930.0   \n",
       "1               PG(34:3),PG(P-35:2)       762.0       573.0   4454522.0   \n",
       "2             PG(O-35:2),PG(P-35:1)       764.0       575.0   3342623.0   \n",
       "3             PG(O-35:1),PG(P-35:0)       766.0       577.0   3270586.0   \n",
       "4      PG(36:7),PG(35:0),PG(O-36:0)       782.0       593.0   2358947.0   \n",
       "5                          PG(36:6)       784.0       595.0   2304902.0   \n",
       "6             n-7 [TG(52:6)]_FA18:1       786.0       569.0   1702709.0   \n",
       "7                          PG(36:5)       786.0       597.0   3260273.0   \n",
       "8             n-7 [TG(52:5)]_FA18:1       788.0       571.0   1629241.0   \n",
       "9                          PG(36:4)       788.0       599.0   6129489.0   \n",
       "10              PG(36:3),PG(P-37:2)       790.0       601.0   2584182.0   \n",
       "11            n-7 [TG(52:4)]_FA18:1       790.0       573.0   2510903.0   \n",
       "12            PG(O-37:2),PG(P-37:1)       792.0       603.0   3311812.0   \n",
       "13  n-7 [TG(53:10),TG(52:3)]_FA18:1       792.0       575.0   1778559.0   \n",
       "14   PG(36:1),PG(O-37:1),PG(P-37:0)       794.0       605.0   4324463.0   \n",
       "15   n-7 [TG(53:9),TG(52:2)]_FA18:1       794.0       577.0   2595165.0   \n",
       "16                              NaN       796.0       579.0   2730220.0   \n",
       "17   n-7 [TG(54:7),TG(53:0)]_FA18:1       812.0       595.0   1487197.0   \n",
       "18            n-5 [TG(52:6)]_FA18:1       814.0       597.0   1833394.0   \n",
       "19            n-5 [TG(52:5)]_FA18:1       816.0       599.0   2668018.0   \n",
       "20            n-5 [TG(52:4)]_FA18:1       818.0       601.0   1527511.0   \n",
       "21  n-5 [TG(53:10),TG(52:3)]_FA18:1       820.0       603.0   2749749.0   \n",
       "22   n-5 [TG(53:9),TG(52:2)]_FA18:1       822.0       605.0   2444892.0   \n",
       "23                [TG(52:6)]_FA18:1       868.0       569.0   2147589.0   \n",
       "24                [TG(52:6)]_FA18:1       868.0       569.0   2077466.0   \n",
       "25                [TG(52:5)]_FA18:1       870.0       571.0   3446471.0   \n",
       "26                [TG(52:4)]_FA18:1       872.0       573.0   3569656.0   \n",
       "27      [TG(53:10),TG(52:3)]_FA18:1       874.0       575.0  20658623.0   \n",
       "28       [TG(53:9),TG(52:2)]_FA18:1       876.0       577.0  26769009.0   \n",
       "29       [TG(54:7),TG(53:0)]_FA18:1       894.0       595.0   4333085.0   \n",
       "30                [TG(54:6)]_FA18:1       896.0       597.0   3145901.0   \n",
       "31                [TG(54:5)]_FA18:1       898.0       599.0  12535827.0   \n",
       "32      [TG(55:11),TG(54:4)]_FA18:1       900.0       601.0  14229465.0   \n",
       "33      [TG(55:10),TG(54:3)]_FA18:1       902.0       603.0  34867382.0   \n",
       "34       [TG(55:9),TG(54:2)]_FA18:1       904.0       605.0  12858486.0   \n",
       "\n",
       "        Transition Class                                          Sample_ID  \\\n",
       "0   760.0 -> 571.0    PG  TailoredTAG18-1_O3off_RBDCanola0.0005mgmL_0207...   \n",
       "1   762.0 -> 573.0    PG  TailoredTAG18-1_O3off_RBDCanola0.0005mgmL_0207...   \n",
       "2   764.0 -> 575.0    PG  TailoredTAG18-1_O3off_RBDCanola0.0005mgmL_0207...   \n",
       "3   766.0 -> 577.0    PG  TailoredTAG18-1_O3off_RBDCanola0.0005mgmL_0207...   \n",
       "4   782.0 -> 593.0    PG  TailoredTAG18-1_O3off_RBDCanola0.0005mgmL_0207...   \n",
       "5   784.0 -> 595.0    PG  TailoredTAG18-1_O3off_RBDCanola0.0005mgmL_0207...   \n",
       "6   786.0 -> 569.0   NaN  TailoredTAG18-1_O3off_RBDCanola0.0005mgmL_0207...   \n",
       "7   786.0 -> 597.0    PG  TailoredTAG18-1_O3off_RBDCanola0.0005mgmL_0207...   \n",
       "8   788.0 -> 571.0   NaN  TailoredTAG18-1_O3off_RBDCanola0.0005mgmL_0207...   \n",
       "9   788.0 -> 599.0    PG  TailoredTAG18-1_O3off_RBDCanola0.0005mgmL_0207...   \n",
       "10  790.0 -> 601.0    PG  TailoredTAG18-1_O3off_RBDCanola0.0005mgmL_0207...   \n",
       "11  790.0 -> 573.0   NaN  TailoredTAG18-1_O3off_RBDCanola0.0005mgmL_0207...   \n",
       "12  792.0 -> 603.0    PG  TailoredTAG18-1_O3off_RBDCanola0.0005mgmL_0207...   \n",
       "13  792.0 -> 575.0   NaN  TailoredTAG18-1_O3off_RBDCanola0.0005mgmL_0207...   \n",
       "14  794.0 -> 605.0    PG  TailoredTAG18-1_O3off_RBDCanola0.0005mgmL_0207...   \n",
       "15  794.0 -> 577.0   NaN  TailoredTAG18-1_O3off_RBDCanola0.0005mgmL_0207...   \n",
       "16  796.0 -> 579.0   NaN  TailoredTAG18-1_O3off_RBDCanola0.0005mgmL_0207...   \n",
       "17  812.0 -> 595.0   NaN  TailoredTAG18-1_O3off_RBDCanola0.0005mgmL_0207...   \n",
       "18  814.0 -> 597.0   NaN  TailoredTAG18-1_O3off_RBDCanola0.0005mgmL_0207...   \n",
       "19  816.0 -> 599.0   NaN  TailoredTAG18-1_O3off_RBDCanola0.0005mgmL_0207...   \n",
       "20  818.0 -> 601.0   NaN  TailoredTAG18-1_O3off_RBDCanola0.0005mgmL_0207...   \n",
       "21  820.0 -> 603.0   NaN  TailoredTAG18-1_O3off_RBDCanola0.0005mgmL_0207...   \n",
       "22  822.0 -> 605.0   NaN  TailoredTAG18-1_O3off_RBDCanola0.0005mgmL_0207...   \n",
       "23  868.0 -> 569.0   TAG  TailoredTAG18-1_O3off_RBDCanola0.0005mgmL_0207...   \n",
       "24  868.0 -> 569.0   TAG  TailoredTAG18-1_O3off_RBDCanola0.0005mgmL_0207...   \n",
       "25  870.0 -> 571.0   TAG  TailoredTAG18-1_O3off_RBDCanola0.0005mgmL_0207...   \n",
       "26  872.0 -> 573.0   TAG  TailoredTAG18-1_O3off_RBDCanola0.0005mgmL_0207...   \n",
       "27  874.0 -> 575.0   TAG  TailoredTAG18-1_O3off_RBDCanola0.0005mgmL_0207...   \n",
       "28  876.0 -> 577.0   TAG  TailoredTAG18-1_O3off_RBDCanola0.0005mgmL_0207...   \n",
       "29  894.0 -> 595.0   TAG  TailoredTAG18-1_O3off_RBDCanola0.0005mgmL_0207...   \n",
       "30  896.0 -> 597.0   TAG  TailoredTAG18-1_O3off_RBDCanola0.0005mgmL_0207...   \n",
       "31  898.0 -> 599.0   TAG  TailoredTAG18-1_O3off_RBDCanola0.0005mgmL_0207...   \n",
       "32  900.0 -> 601.0   TAG  TailoredTAG18-1_O3off_RBDCanola0.0005mgmL_0207...   \n",
       "33  902.0 -> 603.0   TAG  TailoredTAG18-1_O3off_RBDCanola0.0005mgmL_0207...   \n",
       "34  904.0 -> 605.0   TAG  TailoredTAG18-1_O3off_RBDCanola0.0005mgmL_0207...   \n",
       "\n",
       "    Retention_Time  Intensity_OzESI    n-3    n-5    n-7    n-9   n-11  \n",
       "0              NaN              NaN  734.0  706.0  678.0  650.0  622.0  \n",
       "1              NaN              NaN  736.0  708.0  680.0  652.0  624.0  \n",
       "2              NaN              NaN  738.0  710.0  682.0  654.0  626.0  \n",
       "3              NaN              NaN  740.0  712.0  684.0  656.0  628.0  \n",
       "4              NaN              NaN  756.0  728.0  700.0  672.0  644.0  \n",
       "5              NaN              NaN  758.0  730.0  702.0  674.0  646.0  \n",
       "6              NaN              NaN  760.0  732.0  704.0  676.0  648.0  \n",
       "7              NaN              NaN  760.0  732.0  704.0  676.0  648.0  \n",
       "8              NaN              NaN  762.0  734.0  706.0  678.0  650.0  \n",
       "9            25.84           5236.0  762.0  734.0  706.0  678.0  650.0  \n",
       "10             NaN              NaN  764.0  736.0  708.0  680.0  652.0  \n",
       "11             NaN              NaN  764.0  736.0  708.0  680.0  652.0  \n",
       "12             NaN              NaN  766.0  738.0  710.0  682.0  654.0  \n",
       "13             NaN              NaN  766.0  738.0  710.0  682.0  654.0  \n",
       "14             NaN              NaN  768.0  740.0  712.0  684.0  656.0  \n",
       "15             NaN              NaN  768.0  740.0  712.0  684.0  656.0  \n",
       "16             NaN              NaN  770.0  742.0  714.0  686.0  658.0  \n",
       "17             NaN              NaN  786.0  758.0  730.0  702.0  674.0  \n",
       "18             NaN              NaN  788.0  760.0  732.0  704.0  676.0  \n",
       "19             NaN              NaN  790.0  762.0  734.0  706.0  678.0  \n",
       "20             NaN              NaN  792.0  764.0  736.0  708.0  680.0  \n",
       "21             NaN              NaN  794.0  766.0  738.0  710.0  682.0  \n",
       "22             NaN              NaN  796.0  768.0  740.0  712.0  684.0  \n",
       "23             NaN              NaN  842.0  814.0  786.0  758.0  730.0  \n",
       "24             NaN              NaN  842.0  814.0  786.0  758.0  730.0  \n",
       "25             NaN              NaN  844.0  816.0  788.0  760.0  732.0  \n",
       "26           12.59          12987.0  846.0  818.0  790.0  762.0  734.0  \n",
       "27           14.37          57446.0  848.0  820.0  792.0  764.0  736.0  \n",
       "28           16.29         188293.0  850.0  822.0  794.0  766.0  738.0  \n",
       "29            9.17           8938.0  868.0  840.0  812.0  784.0  756.0  \n",
       "30           10.77          40080.0  870.0  842.0  814.0  786.0  758.0  \n",
       "31           12.59         160993.0  872.0  844.0  816.0  788.0  760.0  \n",
       "32           14.32         565836.0  874.0  846.0  818.0  790.0  762.0  \n",
       "33           16.24        1646316.0  876.0  848.0  820.0  792.0  764.0  \n",
       "34           16.23         153436.0  878.0  850.0  822.0  794.0  766.0  "
      ]
     },
     "execution_count": 190,
     "metadata": {},
     "output_type": "execute_result"
    }
   ],
   "source": [
    "df.head(None)"
   ]
  },
  {
   "cell_type": "code",
   "execution_count": 76,
   "metadata": {},
   "outputs": [
    {
     "data": {
      "text/html": [
       "<div>\n",
       "<style scoped>\n",
       "    .dataframe tbody tr th:only-of-type {\n",
       "        vertical-align: middle;\n",
       "    }\n",
       "\n",
       "    .dataframe tbody tr th {\n",
       "        vertical-align: top;\n",
       "    }\n",
       "\n",
       "    .dataframe thead th {\n",
       "        text-align: right;\n",
       "    }\n",
       "</style>\n",
       "<table border=\"1\" class=\"dataframe\">\n",
       "  <thead>\n",
       "    <tr style=\"text-align: right;\">\n",
       "      <th></th>\n",
       "      <th>Lipid</th>\n",
       "      <th>Parent_Ion</th>\n",
       "      <th>Product_Ion</th>\n",
       "      <th>Intensity</th>\n",
       "      <th>Transition</th>\n",
       "      <th>Class</th>\n",
       "      <th>Sample_ID</th>\n",
       "      <th>Retention_Time</th>\n",
       "      <th>Intensity_OzESI</th>\n",
       "      <th>n-3</th>\n",
       "      <th>n-5</th>\n",
       "      <th>n-7</th>\n",
       "      <th>n-9</th>\n",
       "      <th>n-11</th>\n",
       "    </tr>\n",
       "  </thead>\n",
       "  <tbody>\n",
       "    <tr>\n",
       "      <th>0</th>\n",
       "      <td>PG(34:4)</td>\n",
       "      <td>760.0</td>\n",
       "      <td>571.0</td>\n",
       "      <td>3508930.0</td>\n",
       "      <td>760.0 -&gt; 571.0</td>\n",
       "      <td>PG</td>\n",
       "      <td>TailoredTAG18-1_O3off_RBDCanola0.0005mgmL_0207...</td>\n",
       "      <td>NaN</td>\n",
       "      <td>NaN</td>\n",
       "      <td>734.0</td>\n",
       "      <td>706.0</td>\n",
       "      <td>678.0</td>\n",
       "      <td>650.0</td>\n",
       "      <td>622.0</td>\n",
       "    </tr>\n",
       "    <tr>\n",
       "      <th>1</th>\n",
       "      <td>PG(34:3),PG(P-35:2)</td>\n",
       "      <td>762.0</td>\n",
       "      <td>573.0</td>\n",
       "      <td>4454522.0</td>\n",
       "      <td>762.0 -&gt; 573.0</td>\n",
       "      <td>PG</td>\n",
       "      <td>TailoredTAG18-1_O3off_RBDCanola0.0005mgmL_0207...</td>\n",
       "      <td>NaN</td>\n",
       "      <td>NaN</td>\n",
       "      <td>736.0</td>\n",
       "      <td>708.0</td>\n",
       "      <td>680.0</td>\n",
       "      <td>652.0</td>\n",
       "      <td>624.0</td>\n",
       "    </tr>\n",
       "    <tr>\n",
       "      <th>2</th>\n",
       "      <td>PG(O-35:2),PG(P-35:1)</td>\n",
       "      <td>764.0</td>\n",
       "      <td>575.0</td>\n",
       "      <td>3342623.0</td>\n",
       "      <td>764.0 -&gt; 575.0</td>\n",
       "      <td>PG</td>\n",
       "      <td>TailoredTAG18-1_O3off_RBDCanola0.0005mgmL_0207...</td>\n",
       "      <td>NaN</td>\n",
       "      <td>NaN</td>\n",
       "      <td>738.0</td>\n",
       "      <td>710.0</td>\n",
       "      <td>682.0</td>\n",
       "      <td>654.0</td>\n",
       "      <td>626.0</td>\n",
       "    </tr>\n",
       "    <tr>\n",
       "      <th>3</th>\n",
       "      <td>PG(O-35:1),PG(P-35:0)</td>\n",
       "      <td>766.0</td>\n",
       "      <td>577.0</td>\n",
       "      <td>3270586.0</td>\n",
       "      <td>766.0 -&gt; 577.0</td>\n",
       "      <td>PG</td>\n",
       "      <td>TailoredTAG18-1_O3off_RBDCanola0.0005mgmL_0207...</td>\n",
       "      <td>NaN</td>\n",
       "      <td>NaN</td>\n",
       "      <td>740.0</td>\n",
       "      <td>712.0</td>\n",
       "      <td>684.0</td>\n",
       "      <td>656.0</td>\n",
       "      <td>628.0</td>\n",
       "    </tr>\n",
       "    <tr>\n",
       "      <th>4</th>\n",
       "      <td>PG(36:7),PG(35:0),PG(O-36:0)</td>\n",
       "      <td>782.0</td>\n",
       "      <td>593.0</td>\n",
       "      <td>2358947.0</td>\n",
       "      <td>782.0 -&gt; 593.0</td>\n",
       "      <td>PG</td>\n",
       "      <td>TailoredTAG18-1_O3off_RBDCanola0.0005mgmL_0207...</td>\n",
       "      <td>NaN</td>\n",
       "      <td>NaN</td>\n",
       "      <td>756.0</td>\n",
       "      <td>728.0</td>\n",
       "      <td>700.0</td>\n",
       "      <td>672.0</td>\n",
       "      <td>644.0</td>\n",
       "    </tr>\n",
       "    <tr>\n",
       "      <th>5</th>\n",
       "      <td>PG(36:6)</td>\n",
       "      <td>784.0</td>\n",
       "      <td>595.0</td>\n",
       "      <td>2304902.0</td>\n",
       "      <td>784.0 -&gt; 595.0</td>\n",
       "      <td>PG</td>\n",
       "      <td>TailoredTAG18-1_O3off_RBDCanola0.0005mgmL_0207...</td>\n",
       "      <td>NaN</td>\n",
       "      <td>NaN</td>\n",
       "      <td>758.0</td>\n",
       "      <td>730.0</td>\n",
       "      <td>702.0</td>\n",
       "      <td>674.0</td>\n",
       "      <td>646.0</td>\n",
       "    </tr>\n",
       "    <tr>\n",
       "      <th>6</th>\n",
       "      <td>PG(36:5)</td>\n",
       "      <td>786.0</td>\n",
       "      <td>597.0</td>\n",
       "      <td>3260273.0</td>\n",
       "      <td>786.0 -&gt; 597.0</td>\n",
       "      <td>PG</td>\n",
       "      <td>TailoredTAG18-1_O3off_RBDCanola0.0005mgmL_0207...</td>\n",
       "      <td>NaN</td>\n",
       "      <td>NaN</td>\n",
       "      <td>760.0</td>\n",
       "      <td>732.0</td>\n",
       "      <td>704.0</td>\n",
       "      <td>676.0</td>\n",
       "      <td>648.0</td>\n",
       "    </tr>\n",
       "    <tr>\n",
       "      <th>7</th>\n",
       "      <td>PG(36:4)</td>\n",
       "      <td>788.0</td>\n",
       "      <td>599.0</td>\n",
       "      <td>6129489.0</td>\n",
       "      <td>788.0 -&gt; 599.0</td>\n",
       "      <td>PG</td>\n",
       "      <td>TailoredTAG18-1_O3off_RBDCanola0.0005mgmL_0207...</td>\n",
       "      <td>25.84</td>\n",
       "      <td>5236.0</td>\n",
       "      <td>762.0</td>\n",
       "      <td>734.0</td>\n",
       "      <td>706.0</td>\n",
       "      <td>678.0</td>\n",
       "      <td>650.0</td>\n",
       "    </tr>\n",
       "    <tr>\n",
       "      <th>8</th>\n",
       "      <td>PG(36:3),PG(P-37:2)</td>\n",
       "      <td>790.0</td>\n",
       "      <td>601.0</td>\n",
       "      <td>2584182.0</td>\n",
       "      <td>790.0 -&gt; 601.0</td>\n",
       "      <td>PG</td>\n",
       "      <td>TailoredTAG18-1_O3off_RBDCanola0.0005mgmL_0207...</td>\n",
       "      <td>NaN</td>\n",
       "      <td>NaN</td>\n",
       "      <td>764.0</td>\n",
       "      <td>736.0</td>\n",
       "      <td>708.0</td>\n",
       "      <td>680.0</td>\n",
       "      <td>652.0</td>\n",
       "    </tr>\n",
       "    <tr>\n",
       "      <th>9</th>\n",
       "      <td>PG(O-37:2),PG(P-37:1)</td>\n",
       "      <td>792.0</td>\n",
       "      <td>603.0</td>\n",
       "      <td>3311812.0</td>\n",
       "      <td>792.0 -&gt; 603.0</td>\n",
       "      <td>PG</td>\n",
       "      <td>TailoredTAG18-1_O3off_RBDCanola0.0005mgmL_0207...</td>\n",
       "      <td>NaN</td>\n",
       "      <td>NaN</td>\n",
       "      <td>766.0</td>\n",
       "      <td>738.0</td>\n",
       "      <td>710.0</td>\n",
       "      <td>682.0</td>\n",
       "      <td>654.0</td>\n",
       "    </tr>\n",
       "    <tr>\n",
       "      <th>10</th>\n",
       "      <td>PG(36:1),PG(O-37:1),PG(P-37:0)</td>\n",
       "      <td>794.0</td>\n",
       "      <td>605.0</td>\n",
       "      <td>4324463.0</td>\n",
       "      <td>794.0 -&gt; 605.0</td>\n",
       "      <td>PG</td>\n",
       "      <td>TailoredTAG18-1_O3off_RBDCanola0.0005mgmL_0207...</td>\n",
       "      <td>NaN</td>\n",
       "      <td>NaN</td>\n",
       "      <td>768.0</td>\n",
       "      <td>740.0</td>\n",
       "      <td>712.0</td>\n",
       "      <td>684.0</td>\n",
       "      <td>656.0</td>\n",
       "    </tr>\n",
       "    <tr>\n",
       "      <th>11</th>\n",
       "      <td>[TG(52:6)]_FA18:1</td>\n",
       "      <td>868.0</td>\n",
       "      <td>569.0</td>\n",
       "      <td>2147589.0</td>\n",
       "      <td>868.0 -&gt; 569.0</td>\n",
       "      <td>TAG</td>\n",
       "      <td>TailoredTAG18-1_O3off_RBDCanola0.0005mgmL_0207...</td>\n",
       "      <td>NaN</td>\n",
       "      <td>NaN</td>\n",
       "      <td>842.0</td>\n",
       "      <td>814.0</td>\n",
       "      <td>786.0</td>\n",
       "      <td>758.0</td>\n",
       "      <td>730.0</td>\n",
       "    </tr>\n",
       "    <tr>\n",
       "      <th>12</th>\n",
       "      <td>[TG(52:6)]_FA18:1</td>\n",
       "      <td>868.0</td>\n",
       "      <td>569.0</td>\n",
       "      <td>2077466.0</td>\n",
       "      <td>868.0 -&gt; 569.0</td>\n",
       "      <td>TAG</td>\n",
       "      <td>TailoredTAG18-1_O3off_RBDCanola0.0005mgmL_0207...</td>\n",
       "      <td>NaN</td>\n",
       "      <td>NaN</td>\n",
       "      <td>842.0</td>\n",
       "      <td>814.0</td>\n",
       "      <td>786.0</td>\n",
       "      <td>758.0</td>\n",
       "      <td>730.0</td>\n",
       "    </tr>\n",
       "    <tr>\n",
       "      <th>13</th>\n",
       "      <td>[TG(52:5)]_FA18:1</td>\n",
       "      <td>870.0</td>\n",
       "      <td>571.0</td>\n",
       "      <td>3446471.0</td>\n",
       "      <td>870.0 -&gt; 571.0</td>\n",
       "      <td>TAG</td>\n",
       "      <td>TailoredTAG18-1_O3off_RBDCanola0.0005mgmL_0207...</td>\n",
       "      <td>NaN</td>\n",
       "      <td>NaN</td>\n",
       "      <td>844.0</td>\n",
       "      <td>816.0</td>\n",
       "      <td>788.0</td>\n",
       "      <td>760.0</td>\n",
       "      <td>732.0</td>\n",
       "    </tr>\n",
       "    <tr>\n",
       "      <th>14</th>\n",
       "      <td>[TG(52:4)]_FA18:1</td>\n",
       "      <td>872.0</td>\n",
       "      <td>573.0</td>\n",
       "      <td>3569656.0</td>\n",
       "      <td>872.0 -&gt; 573.0</td>\n",
       "      <td>TAG</td>\n",
       "      <td>TailoredTAG18-1_O3off_RBDCanola0.0005mgmL_0207...</td>\n",
       "      <td>12.59</td>\n",
       "      <td>12987.0</td>\n",
       "      <td>846.0</td>\n",
       "      <td>818.0</td>\n",
       "      <td>790.0</td>\n",
       "      <td>762.0</td>\n",
       "      <td>734.0</td>\n",
       "    </tr>\n",
       "    <tr>\n",
       "      <th>15</th>\n",
       "      <td>[TG(53:10),TG(52:3)]_FA18:1</td>\n",
       "      <td>874.0</td>\n",
       "      <td>575.0</td>\n",
       "      <td>20658623.0</td>\n",
       "      <td>874.0 -&gt; 575.0</td>\n",
       "      <td>TAG</td>\n",
       "      <td>TailoredTAG18-1_O3off_RBDCanola0.0005mgmL_0207...</td>\n",
       "      <td>14.37</td>\n",
       "      <td>57446.0</td>\n",
       "      <td>848.0</td>\n",
       "      <td>820.0</td>\n",
       "      <td>792.0</td>\n",
       "      <td>764.0</td>\n",
       "      <td>736.0</td>\n",
       "    </tr>\n",
       "    <tr>\n",
       "      <th>16</th>\n",
       "      <td>[TG(53:9),TG(52:2)]_FA18:1</td>\n",
       "      <td>876.0</td>\n",
       "      <td>577.0</td>\n",
       "      <td>26769009.0</td>\n",
       "      <td>876.0 -&gt; 577.0</td>\n",
       "      <td>TAG</td>\n",
       "      <td>TailoredTAG18-1_O3off_RBDCanola0.0005mgmL_0207...</td>\n",
       "      <td>16.29</td>\n",
       "      <td>188293.0</td>\n",
       "      <td>850.0</td>\n",
       "      <td>822.0</td>\n",
       "      <td>794.0</td>\n",
       "      <td>766.0</td>\n",
       "      <td>738.0</td>\n",
       "    </tr>\n",
       "    <tr>\n",
       "      <th>17</th>\n",
       "      <td>[TG(54:7),TG(53:0)]_FA18:1</td>\n",
       "      <td>894.0</td>\n",
       "      <td>595.0</td>\n",
       "      <td>4333085.0</td>\n",
       "      <td>894.0 -&gt; 595.0</td>\n",
       "      <td>TAG</td>\n",
       "      <td>TailoredTAG18-1_O3off_RBDCanola0.0005mgmL_0207...</td>\n",
       "      <td>9.17</td>\n",
       "      <td>8938.0</td>\n",
       "      <td>868.0</td>\n",
       "      <td>840.0</td>\n",
       "      <td>812.0</td>\n",
       "      <td>784.0</td>\n",
       "      <td>756.0</td>\n",
       "    </tr>\n",
       "    <tr>\n",
       "      <th>18</th>\n",
       "      <td>[TG(54:6)]_FA18:1</td>\n",
       "      <td>896.0</td>\n",
       "      <td>597.0</td>\n",
       "      <td>3145901.0</td>\n",
       "      <td>896.0 -&gt; 597.0</td>\n",
       "      <td>TAG</td>\n",
       "      <td>TailoredTAG18-1_O3off_RBDCanola0.0005mgmL_0207...</td>\n",
       "      <td>10.77</td>\n",
       "      <td>40080.0</td>\n",
       "      <td>870.0</td>\n",
       "      <td>842.0</td>\n",
       "      <td>814.0</td>\n",
       "      <td>786.0</td>\n",
       "      <td>758.0</td>\n",
       "    </tr>\n",
       "    <tr>\n",
       "      <th>19</th>\n",
       "      <td>[TG(54:5)]_FA18:1</td>\n",
       "      <td>898.0</td>\n",
       "      <td>599.0</td>\n",
       "      <td>12535827.0</td>\n",
       "      <td>898.0 -&gt; 599.0</td>\n",
       "      <td>TAG</td>\n",
       "      <td>TailoredTAG18-1_O3off_RBDCanola0.0005mgmL_0207...</td>\n",
       "      <td>12.59</td>\n",
       "      <td>160993.0</td>\n",
       "      <td>872.0</td>\n",
       "      <td>844.0</td>\n",
       "      <td>816.0</td>\n",
       "      <td>788.0</td>\n",
       "      <td>760.0</td>\n",
       "    </tr>\n",
       "    <tr>\n",
       "      <th>20</th>\n",
       "      <td>[TG(55:11),TG(54:4)]_FA18:1</td>\n",
       "      <td>900.0</td>\n",
       "      <td>601.0</td>\n",
       "      <td>14229465.0</td>\n",
       "      <td>900.0 -&gt; 601.0</td>\n",
       "      <td>TAG</td>\n",
       "      <td>TailoredTAG18-1_O3off_RBDCanola0.0005mgmL_0207...</td>\n",
       "      <td>14.32</td>\n",
       "      <td>565836.0</td>\n",
       "      <td>874.0</td>\n",
       "      <td>846.0</td>\n",
       "      <td>818.0</td>\n",
       "      <td>790.0</td>\n",
       "      <td>762.0</td>\n",
       "    </tr>\n",
       "    <tr>\n",
       "      <th>21</th>\n",
       "      <td>[TG(55:10),TG(54:3)]_FA18:1</td>\n",
       "      <td>902.0</td>\n",
       "      <td>603.0</td>\n",
       "      <td>34867382.0</td>\n",
       "      <td>902.0 -&gt; 603.0</td>\n",
       "      <td>TAG</td>\n",
       "      <td>TailoredTAG18-1_O3off_RBDCanola0.0005mgmL_0207...</td>\n",
       "      <td>16.24</td>\n",
       "      <td>1646316.0</td>\n",
       "      <td>876.0</td>\n",
       "      <td>848.0</td>\n",
       "      <td>820.0</td>\n",
       "      <td>792.0</td>\n",
       "      <td>764.0</td>\n",
       "    </tr>\n",
       "    <tr>\n",
       "      <th>22</th>\n",
       "      <td>[TG(55:9),TG(54:2)]_FA18:1</td>\n",
       "      <td>904.0</td>\n",
       "      <td>605.0</td>\n",
       "      <td>12858486.0</td>\n",
       "      <td>904.0 -&gt; 605.0</td>\n",
       "      <td>TAG</td>\n",
       "      <td>TailoredTAG18-1_O3off_RBDCanola0.0005mgmL_0207...</td>\n",
       "      <td>16.23</td>\n",
       "      <td>153436.0</td>\n",
       "      <td>878.0</td>\n",
       "      <td>850.0</td>\n",
       "      <td>822.0</td>\n",
       "      <td>794.0</td>\n",
       "      <td>766.0</td>\n",
       "    </tr>\n",
       "  </tbody>\n",
       "</table>\n",
       "</div>"
      ],
      "text/plain": [
       "                             Lipid Parent_Ion Product_Ion   Intensity  \\\n",
       "0                         PG(34:4)      760.0       571.0   3508930.0   \n",
       "1              PG(34:3),PG(P-35:2)      762.0       573.0   4454522.0   \n",
       "2            PG(O-35:2),PG(P-35:1)      764.0       575.0   3342623.0   \n",
       "3            PG(O-35:1),PG(P-35:0)      766.0       577.0   3270586.0   \n",
       "4     PG(36:7),PG(35:0),PG(O-36:0)      782.0       593.0   2358947.0   \n",
       "5                         PG(36:6)      784.0       595.0   2304902.0   \n",
       "6                         PG(36:5)      786.0       597.0   3260273.0   \n",
       "7                         PG(36:4)      788.0       599.0   6129489.0   \n",
       "8              PG(36:3),PG(P-37:2)      790.0       601.0   2584182.0   \n",
       "9            PG(O-37:2),PG(P-37:1)      792.0       603.0   3311812.0   \n",
       "10  PG(36:1),PG(O-37:1),PG(P-37:0)      794.0       605.0   4324463.0   \n",
       "11               [TG(52:6)]_FA18:1      868.0       569.0   2147589.0   \n",
       "12               [TG(52:6)]_FA18:1      868.0       569.0   2077466.0   \n",
       "13               [TG(52:5)]_FA18:1      870.0       571.0   3446471.0   \n",
       "14               [TG(52:4)]_FA18:1      872.0       573.0   3569656.0   \n",
       "15     [TG(53:10),TG(52:3)]_FA18:1      874.0       575.0  20658623.0   \n",
       "16      [TG(53:9),TG(52:2)]_FA18:1      876.0       577.0  26769009.0   \n",
       "17      [TG(54:7),TG(53:0)]_FA18:1      894.0       595.0   4333085.0   \n",
       "18               [TG(54:6)]_FA18:1      896.0       597.0   3145901.0   \n",
       "19               [TG(54:5)]_FA18:1      898.0       599.0  12535827.0   \n",
       "20     [TG(55:11),TG(54:4)]_FA18:1      900.0       601.0  14229465.0   \n",
       "21     [TG(55:10),TG(54:3)]_FA18:1      902.0       603.0  34867382.0   \n",
       "22      [TG(55:9),TG(54:2)]_FA18:1      904.0       605.0  12858486.0   \n",
       "\n",
       "        Transition Class                                          Sample_ID  \\\n",
       "0   760.0 -> 571.0    PG  TailoredTAG18-1_O3off_RBDCanola0.0005mgmL_0207...   \n",
       "1   762.0 -> 573.0    PG  TailoredTAG18-1_O3off_RBDCanola0.0005mgmL_0207...   \n",
       "2   764.0 -> 575.0    PG  TailoredTAG18-1_O3off_RBDCanola0.0005mgmL_0207...   \n",
       "3   766.0 -> 577.0    PG  TailoredTAG18-1_O3off_RBDCanola0.0005mgmL_0207...   \n",
       "4   782.0 -> 593.0    PG  TailoredTAG18-1_O3off_RBDCanola0.0005mgmL_0207...   \n",
       "5   784.0 -> 595.0    PG  TailoredTAG18-1_O3off_RBDCanola0.0005mgmL_0207...   \n",
       "6   786.0 -> 597.0    PG  TailoredTAG18-1_O3off_RBDCanola0.0005mgmL_0207...   \n",
       "7   788.0 -> 599.0    PG  TailoredTAG18-1_O3off_RBDCanola0.0005mgmL_0207...   \n",
       "8   790.0 -> 601.0    PG  TailoredTAG18-1_O3off_RBDCanola0.0005mgmL_0207...   \n",
       "9   792.0 -> 603.0    PG  TailoredTAG18-1_O3off_RBDCanola0.0005mgmL_0207...   \n",
       "10  794.0 -> 605.0    PG  TailoredTAG18-1_O3off_RBDCanola0.0005mgmL_0207...   \n",
       "11  868.0 -> 569.0   TAG  TailoredTAG18-1_O3off_RBDCanola0.0005mgmL_0207...   \n",
       "12  868.0 -> 569.0   TAG  TailoredTAG18-1_O3off_RBDCanola0.0005mgmL_0207...   \n",
       "13  870.0 -> 571.0   TAG  TailoredTAG18-1_O3off_RBDCanola0.0005mgmL_0207...   \n",
       "14  872.0 -> 573.0   TAG  TailoredTAG18-1_O3off_RBDCanola0.0005mgmL_0207...   \n",
       "15  874.0 -> 575.0   TAG  TailoredTAG18-1_O3off_RBDCanola0.0005mgmL_0207...   \n",
       "16  876.0 -> 577.0   TAG  TailoredTAG18-1_O3off_RBDCanola0.0005mgmL_0207...   \n",
       "17  894.0 -> 595.0   TAG  TailoredTAG18-1_O3off_RBDCanola0.0005mgmL_0207...   \n",
       "18  896.0 -> 597.0   TAG  TailoredTAG18-1_O3off_RBDCanola0.0005mgmL_0207...   \n",
       "19  898.0 -> 599.0   TAG  TailoredTAG18-1_O3off_RBDCanola0.0005mgmL_0207...   \n",
       "20  900.0 -> 601.0   TAG  TailoredTAG18-1_O3off_RBDCanola0.0005mgmL_0207...   \n",
       "21  902.0 -> 603.0   TAG  TailoredTAG18-1_O3off_RBDCanola0.0005mgmL_0207...   \n",
       "22  904.0 -> 605.0   TAG  TailoredTAG18-1_O3off_RBDCanola0.0005mgmL_0207...   \n",
       "\n",
       "    Retention_Time  Intensity_OzESI    n-3    n-5    n-7    n-9   n-11  \n",
       "0              NaN              NaN  734.0  706.0  678.0  650.0  622.0  \n",
       "1              NaN              NaN  736.0  708.0  680.0  652.0  624.0  \n",
       "2              NaN              NaN  738.0  710.0  682.0  654.0  626.0  \n",
       "3              NaN              NaN  740.0  712.0  684.0  656.0  628.0  \n",
       "4              NaN              NaN  756.0  728.0  700.0  672.0  644.0  \n",
       "5              NaN              NaN  758.0  730.0  702.0  674.0  646.0  \n",
       "6              NaN              NaN  760.0  732.0  704.0  676.0  648.0  \n",
       "7            25.84           5236.0  762.0  734.0  706.0  678.0  650.0  \n",
       "8              NaN              NaN  764.0  736.0  708.0  680.0  652.0  \n",
       "9              NaN              NaN  766.0  738.0  710.0  682.0  654.0  \n",
       "10             NaN              NaN  768.0  740.0  712.0  684.0  656.0  \n",
       "11             NaN              NaN  842.0  814.0  786.0  758.0  730.0  \n",
       "12             NaN              NaN  842.0  814.0  786.0  758.0  730.0  \n",
       "13             NaN              NaN  844.0  816.0  788.0  760.0  732.0  \n",
       "14           12.59          12987.0  846.0  818.0  790.0  762.0  734.0  \n",
       "15           14.37          57446.0  848.0  820.0  792.0  764.0  736.0  \n",
       "16           16.29         188293.0  850.0  822.0  794.0  766.0  738.0  \n",
       "17            9.17           8938.0  868.0  840.0  812.0  784.0  756.0  \n",
       "18           10.77          40080.0  870.0  842.0  814.0  786.0  758.0  \n",
       "19           12.59         160993.0  872.0  844.0  816.0  788.0  760.0  \n",
       "20           14.32         565836.0  874.0  846.0  818.0  790.0  762.0  \n",
       "21           16.24        1646316.0  876.0  848.0  820.0  792.0  764.0  \n",
       "22           16.23         153436.0  878.0  850.0  822.0  794.0  766.0  "
      ]
     },
     "execution_count": 76,
     "metadata": {},
     "output_type": "execute_result"
    }
   ],
   "source": [
    "df_matching.head(None)"
   ]
  },
  {
   "cell_type": "code",
   "execution_count": 126,
   "metadata": {},
   "outputs": [
    {
     "data": {
      "text/html": [
       "<div>\n",
       "<style scoped>\n",
       "    .dataframe tbody tr th:only-of-type {\n",
       "        vertical-align: middle;\n",
       "    }\n",
       "\n",
       "    .dataframe tbody tr th {\n",
       "        vertical-align: top;\n",
       "    }\n",
       "\n",
       "    .dataframe thead th {\n",
       "        text-align: right;\n",
       "    }\n",
       "</style>\n",
       "<table border=\"1\" class=\"dataframe\">\n",
       "  <thead>\n",
       "    <tr style=\"text-align: right;\">\n",
       "      <th></th>\n",
       "      <th>Lipid</th>\n",
       "      <th>Parent_Ion</th>\n",
       "      <th>Product_Ion</th>\n",
       "      <th>Intensity</th>\n",
       "      <th>Transition</th>\n",
       "      <th>Class</th>\n",
       "      <th>Sample_ID</th>\n",
       "      <th>Retention_Time</th>\n",
       "      <th>Intensity_OzESI</th>\n",
       "    </tr>\n",
       "  </thead>\n",
       "  <tbody>\n",
       "    <tr>\n",
       "      <th>28</th>\n",
       "      <td>[TG(53:9),TG(52:2)]_FA18:1</td>\n",
       "      <td>876.0</td>\n",
       "      <td>577.0</td>\n",
       "      <td>26769009.0</td>\n",
       "      <td>876.0 -&gt; 577.0</td>\n",
       "      <td>TAG</td>\n",
       "      <td>TailoredTAG18-1_O3off_RBDCanola0.0005mgmL_0207...</td>\n",
       "      <td>16.29</td>\n",
       "      <td>188293.0</td>\n",
       "    </tr>\n",
       "    <tr>\n",
       "      <th>31</th>\n",
       "      <td>[TG(54:5)]_FA18:1</td>\n",
       "      <td>898.0</td>\n",
       "      <td>599.0</td>\n",
       "      <td>12535827.0</td>\n",
       "      <td>898.0 -&gt; 599.0</td>\n",
       "      <td>TAG</td>\n",
       "      <td>TailoredTAG18-1_O3off_RBDCanola0.0005mgmL_0207...</td>\n",
       "      <td>12.59</td>\n",
       "      <td>160993.0</td>\n",
       "    </tr>\n",
       "    <tr>\n",
       "      <th>32</th>\n",
       "      <td>[TG(55:11),TG(54:4)]_FA18:1</td>\n",
       "      <td>900.0</td>\n",
       "      <td>601.0</td>\n",
       "      <td>14229465.0</td>\n",
       "      <td>900.0 -&gt; 601.0</td>\n",
       "      <td>TAG</td>\n",
       "      <td>TailoredTAG18-1_O3off_RBDCanola0.0005mgmL_0207...</td>\n",
       "      <td>14.32</td>\n",
       "      <td>565836.0</td>\n",
       "    </tr>\n",
       "    <tr>\n",
       "      <th>33</th>\n",
       "      <td>[TG(55:10),TG(54:3)]_FA18:1</td>\n",
       "      <td>902.0</td>\n",
       "      <td>603.0</td>\n",
       "      <td>34867382.0</td>\n",
       "      <td>902.0 -&gt; 603.0</td>\n",
       "      <td>TAG</td>\n",
       "      <td>TailoredTAG18-1_O3off_RBDCanola0.0005mgmL_0207...</td>\n",
       "      <td>16.24</td>\n",
       "      <td>1646316.0</td>\n",
       "    </tr>\n",
       "    <tr>\n",
       "      <th>34</th>\n",
       "      <td>[TG(55:9),TG(54:2)]_FA18:1</td>\n",
       "      <td>904.0</td>\n",
       "      <td>605.0</td>\n",
       "      <td>12858486.0</td>\n",
       "      <td>904.0 -&gt; 605.0</td>\n",
       "      <td>TAG</td>\n",
       "      <td>TailoredTAG18-1_O3off_RBDCanola0.0005mgmL_0207...</td>\n",
       "      <td>16.23</td>\n",
       "      <td>153436.0</td>\n",
       "    </tr>\n",
       "  </tbody>\n",
       "</table>\n",
       "</div>"
      ],
      "text/plain": [
       "                          Lipid Parent_Ion Product_Ion   Intensity  \\\n",
       "28   [TG(53:9),TG(52:2)]_FA18:1      876.0       577.0  26769009.0   \n",
       "31            [TG(54:5)]_FA18:1      898.0       599.0  12535827.0   \n",
       "32  [TG(55:11),TG(54:4)]_FA18:1      900.0       601.0  14229465.0   \n",
       "33  [TG(55:10),TG(54:3)]_FA18:1      902.0       603.0  34867382.0   \n",
       "34   [TG(55:9),TG(54:2)]_FA18:1      904.0       605.0  12858486.0   \n",
       "\n",
       "        Transition Class                                          Sample_ID  \\\n",
       "28  876.0 -> 577.0   TAG  TailoredTAG18-1_O3off_RBDCanola0.0005mgmL_0207...   \n",
       "31  898.0 -> 599.0   TAG  TailoredTAG18-1_O3off_RBDCanola0.0005mgmL_0207...   \n",
       "32  900.0 -> 601.0   TAG  TailoredTAG18-1_O3off_RBDCanola0.0005mgmL_0207...   \n",
       "33  902.0 -> 603.0   TAG  TailoredTAG18-1_O3off_RBDCanola0.0005mgmL_0207...   \n",
       "34  904.0 -> 605.0   TAG  TailoredTAG18-1_O3off_RBDCanola0.0005mgmL_0207...   \n",
       "\n",
       "    Retention_Time  Intensity_OzESI  \n",
       "28           16.29         188293.0  \n",
       "31           12.59         160993.0  \n",
       "32           14.32         565836.0  \n",
       "33           16.24        1646316.0  \n",
       "34           16.23         153436.0  "
      ]
     },
     "execution_count": 126,
     "metadata": {},
     "output_type": "execute_result"
    }
   ],
   "source": [
    "#for loop to check if that file already exists and if it does then add a number to the end of the file name so data is not overwritten\n",
    "name_of_folder = 'canola'\n",
    "name_of_file = 'canola'\n",
    "\n",
    "\n",
    "for i in range(5):\n",
    "    if not os.path.isfile('data_results/data/data_matching/'+name_of_folder+'/'+name_of_file+'_{}.xlsx'.format(i)):\n",
    "        df_matching.to_excel('data_results/data/data_matching/'+name_of_folder+'/'+name_of_file+'_{}.xlsx'.format(i), index=False)\n",
    "        break\n",
    "    elif not os.path.isfile('data_results/data/data_matching/'+name_of_folder+'/'+name_of_file+'_{}.xlsx'.format(i)):\n",
    "        df_matching.to_excel('data_results/data/data_matching/'+name_of_folder+'/'+name_of_file+'_{}.xlsx'.format(i), index=False)\n",
    "        break\n",
    "    else:\n",
    "        pass\n",
    "df_matching.tail(5)"
   ]
  },
  {
   "cell_type": "code",
   "execution_count": 128,
   "metadata": {},
   "outputs": [
    {
     "data": {
      "application/vnd.plotly.v1+json": {
       "config": {
        "plotlyServerURL": "https://plot.ly"
       },
       "data": [
        {
         "alignmentgroup": "True",
         "customdata": [
          [
           "[TG(53:9),TG(52:2)]_FA18:1",
           "TAG"
          ]
         ],
         "hovertemplate": "Lipid=%{customdata[0]}<br>Transition=%{x}<br>Intensity=%{y}<br>Class=%{customdata[1]}<extra></extra>",
         "legendgroup": "[TG(53:9),TG(52:2)]_FA18:1",
         "marker": {
          "color": "#636efa"
         },
         "name": "[TG(53:9),TG(52:2)]_FA18:1",
         "offsetgroup": "[TG(53:9),TG(52:2)]_FA18:1",
         "orientation": "v",
         "showlegend": true,
         "textposition": "auto",
         "type": "bar",
         "x": [
          "876.0 -> 577.0"
         ],
         "xaxis": "x",
         "y": [
          26769009
         ],
         "yaxis": "y"
        },
        {
         "alignmentgroup": "True",
         "customdata": [
          [
           "[TG(54:5)]_FA18:1",
           "TAG"
          ]
         ],
         "hovertemplate": "Lipid=%{customdata[0]}<br>Transition=%{x}<br>Intensity=%{y}<br>Class=%{customdata[1]}<extra></extra>",
         "legendgroup": "[TG(54:5)]_FA18:1",
         "marker": {
          "color": "#EF553B"
         },
         "name": "[TG(54:5)]_FA18:1",
         "offsetgroup": "[TG(54:5)]_FA18:1",
         "orientation": "v",
         "showlegend": true,
         "textposition": "auto",
         "type": "bar",
         "x": [
          "898.0 -> 599.0"
         ],
         "xaxis": "x",
         "y": [
          12535827
         ],
         "yaxis": "y"
        },
        {
         "alignmentgroup": "True",
         "customdata": [
          [
           "[TG(55:11),TG(54:4)]_FA18:1",
           "TAG"
          ]
         ],
         "hovertemplate": "Lipid=%{customdata[0]}<br>Transition=%{x}<br>Intensity=%{y}<br>Class=%{customdata[1]}<extra></extra>",
         "legendgroup": "[TG(55:11),TG(54:4)]_FA18:1",
         "marker": {
          "color": "#00cc96"
         },
         "name": "[TG(55:11),TG(54:4)]_FA18:1",
         "offsetgroup": "[TG(55:11),TG(54:4)]_FA18:1",
         "orientation": "v",
         "showlegend": true,
         "textposition": "auto",
         "type": "bar",
         "x": [
          "900.0 -> 601.0"
         ],
         "xaxis": "x",
         "y": [
          14229465
         ],
         "yaxis": "y"
        },
        {
         "alignmentgroup": "True",
         "customdata": [
          [
           "[TG(55:10),TG(54:3)]_FA18:1",
           "TAG"
          ]
         ],
         "hovertemplate": "Lipid=%{customdata[0]}<br>Transition=%{x}<br>Intensity=%{y}<br>Class=%{customdata[1]}<extra></extra>",
         "legendgroup": "[TG(55:10),TG(54:3)]_FA18:1",
         "marker": {
          "color": "#ab63fa"
         },
         "name": "[TG(55:10),TG(54:3)]_FA18:1",
         "offsetgroup": "[TG(55:10),TG(54:3)]_FA18:1",
         "orientation": "v",
         "showlegend": true,
         "textposition": "auto",
         "type": "bar",
         "x": [
          "902.0 -> 603.0"
         ],
         "xaxis": "x",
         "y": [
          34867382
         ],
         "yaxis": "y"
        },
        {
         "alignmentgroup": "True",
         "customdata": [
          [
           "[TG(55:9),TG(54:2)]_FA18:1",
           "TAG"
          ]
         ],
         "hovertemplate": "Lipid=%{customdata[0]}<br>Transition=%{x}<br>Intensity=%{y}<br>Class=%{customdata[1]}<extra></extra>",
         "legendgroup": "[TG(55:9),TG(54:2)]_FA18:1",
         "marker": {
          "color": "#FFA15A"
         },
         "name": "[TG(55:9),TG(54:2)]_FA18:1",
         "offsetgroup": "[TG(55:9),TG(54:2)]_FA18:1",
         "orientation": "v",
         "showlegend": true,
         "textposition": "auto",
         "type": "bar",
         "x": [
          "904.0 -> 605.0"
         ],
         "xaxis": "x",
         "y": [
          12858486
         ],
         "yaxis": "y"
        }
       ],
       "layout": {
        "barmode": "relative",
        "legend": {
         "title": {
          "text": "Lipid"
         },
         "tracegroupgap": 0
        },
        "margin": {
         "t": 60
        },
        "template": {
         "data": {
          "bar": [
           {
            "error_x": {
             "color": "#2a3f5f"
            },
            "error_y": {
             "color": "#2a3f5f"
            },
            "marker": {
             "line": {
              "color": "#E5ECF6",
              "width": 0.5
             }
            },
            "type": "bar"
           }
          ],
          "barpolar": [
           {
            "marker": {
             "line": {
              "color": "#E5ECF6",
              "width": 0.5
             }
            },
            "type": "barpolar"
           }
          ],
          "carpet": [
           {
            "aaxis": {
             "endlinecolor": "#2a3f5f",
             "gridcolor": "white",
             "linecolor": "white",
             "minorgridcolor": "white",
             "startlinecolor": "#2a3f5f"
            },
            "baxis": {
             "endlinecolor": "#2a3f5f",
             "gridcolor": "white",
             "linecolor": "white",
             "minorgridcolor": "white",
             "startlinecolor": "#2a3f5f"
            },
            "type": "carpet"
           }
          ],
          "choropleth": [
           {
            "colorbar": {
             "outlinewidth": 0,
             "ticks": ""
            },
            "type": "choropleth"
           }
          ],
          "contour": [
           {
            "colorbar": {
             "outlinewidth": 0,
             "ticks": ""
            },
            "colorscale": [
             [
              0,
              "#0d0887"
             ],
             [
              0.1111111111111111,
              "#46039f"
             ],
             [
              0.2222222222222222,
              "#7201a8"
             ],
             [
              0.3333333333333333,
              "#9c179e"
             ],
             [
              0.4444444444444444,
              "#bd3786"
             ],
             [
              0.5555555555555556,
              "#d8576b"
             ],
             [
              0.6666666666666666,
              "#ed7953"
             ],
             [
              0.7777777777777778,
              "#fb9f3a"
             ],
             [
              0.8888888888888888,
              "#fdca26"
             ],
             [
              1,
              "#f0f921"
             ]
            ],
            "type": "contour"
           }
          ],
          "contourcarpet": [
           {
            "colorbar": {
             "outlinewidth": 0,
             "ticks": ""
            },
            "type": "contourcarpet"
           }
          ],
          "heatmap": [
           {
            "colorbar": {
             "outlinewidth": 0,
             "ticks": ""
            },
            "colorscale": [
             [
              0,
              "#0d0887"
             ],
             [
              0.1111111111111111,
              "#46039f"
             ],
             [
              0.2222222222222222,
              "#7201a8"
             ],
             [
              0.3333333333333333,
              "#9c179e"
             ],
             [
              0.4444444444444444,
              "#bd3786"
             ],
             [
              0.5555555555555556,
              "#d8576b"
             ],
             [
              0.6666666666666666,
              "#ed7953"
             ],
             [
              0.7777777777777778,
              "#fb9f3a"
             ],
             [
              0.8888888888888888,
              "#fdca26"
             ],
             [
              1,
              "#f0f921"
             ]
            ],
            "type": "heatmap"
           }
          ],
          "heatmapgl": [
           {
            "colorbar": {
             "outlinewidth": 0,
             "ticks": ""
            },
            "colorscale": [
             [
              0,
              "#0d0887"
             ],
             [
              0.1111111111111111,
              "#46039f"
             ],
             [
              0.2222222222222222,
              "#7201a8"
             ],
             [
              0.3333333333333333,
              "#9c179e"
             ],
             [
              0.4444444444444444,
              "#bd3786"
             ],
             [
              0.5555555555555556,
              "#d8576b"
             ],
             [
              0.6666666666666666,
              "#ed7953"
             ],
             [
              0.7777777777777778,
              "#fb9f3a"
             ],
             [
              0.8888888888888888,
              "#fdca26"
             ],
             [
              1,
              "#f0f921"
             ]
            ],
            "type": "heatmapgl"
           }
          ],
          "histogram": [
           {
            "marker": {
             "colorbar": {
              "outlinewidth": 0,
              "ticks": ""
             }
            },
            "type": "histogram"
           }
          ],
          "histogram2d": [
           {
            "colorbar": {
             "outlinewidth": 0,
             "ticks": ""
            },
            "colorscale": [
             [
              0,
              "#0d0887"
             ],
             [
              0.1111111111111111,
              "#46039f"
             ],
             [
              0.2222222222222222,
              "#7201a8"
             ],
             [
              0.3333333333333333,
              "#9c179e"
             ],
             [
              0.4444444444444444,
              "#bd3786"
             ],
             [
              0.5555555555555556,
              "#d8576b"
             ],
             [
              0.6666666666666666,
              "#ed7953"
             ],
             [
              0.7777777777777778,
              "#fb9f3a"
             ],
             [
              0.8888888888888888,
              "#fdca26"
             ],
             [
              1,
              "#f0f921"
             ]
            ],
            "type": "histogram2d"
           }
          ],
          "histogram2dcontour": [
           {
            "colorbar": {
             "outlinewidth": 0,
             "ticks": ""
            },
            "colorscale": [
             [
              0,
              "#0d0887"
             ],
             [
              0.1111111111111111,
              "#46039f"
             ],
             [
              0.2222222222222222,
              "#7201a8"
             ],
             [
              0.3333333333333333,
              "#9c179e"
             ],
             [
              0.4444444444444444,
              "#bd3786"
             ],
             [
              0.5555555555555556,
              "#d8576b"
             ],
             [
              0.6666666666666666,
              "#ed7953"
             ],
             [
              0.7777777777777778,
              "#fb9f3a"
             ],
             [
              0.8888888888888888,
              "#fdca26"
             ],
             [
              1,
              "#f0f921"
             ]
            ],
            "type": "histogram2dcontour"
           }
          ],
          "mesh3d": [
           {
            "colorbar": {
             "outlinewidth": 0,
             "ticks": ""
            },
            "type": "mesh3d"
           }
          ],
          "parcoords": [
           {
            "line": {
             "colorbar": {
              "outlinewidth": 0,
              "ticks": ""
             }
            },
            "type": "parcoords"
           }
          ],
          "pie": [
           {
            "automargin": true,
            "type": "pie"
           }
          ],
          "scatter": [
           {
            "marker": {
             "colorbar": {
              "outlinewidth": 0,
              "ticks": ""
             }
            },
            "type": "scatter"
           }
          ],
          "scatter3d": [
           {
            "line": {
             "colorbar": {
              "outlinewidth": 0,
              "ticks": ""
             }
            },
            "marker": {
             "colorbar": {
              "outlinewidth": 0,
              "ticks": ""
             }
            },
            "type": "scatter3d"
           }
          ],
          "scattercarpet": [
           {
            "marker": {
             "colorbar": {
              "outlinewidth": 0,
              "ticks": ""
             }
            },
            "type": "scattercarpet"
           }
          ],
          "scattergeo": [
           {
            "marker": {
             "colorbar": {
              "outlinewidth": 0,
              "ticks": ""
             }
            },
            "type": "scattergeo"
           }
          ],
          "scattergl": [
           {
            "marker": {
             "colorbar": {
              "outlinewidth": 0,
              "ticks": ""
             }
            },
            "type": "scattergl"
           }
          ],
          "scattermapbox": [
           {
            "marker": {
             "colorbar": {
              "outlinewidth": 0,
              "ticks": ""
             }
            },
            "type": "scattermapbox"
           }
          ],
          "scatterpolar": [
           {
            "marker": {
             "colorbar": {
              "outlinewidth": 0,
              "ticks": ""
             }
            },
            "type": "scatterpolar"
           }
          ],
          "scatterpolargl": [
           {
            "marker": {
             "colorbar": {
              "outlinewidth": 0,
              "ticks": ""
             }
            },
            "type": "scatterpolargl"
           }
          ],
          "scatterternary": [
           {
            "marker": {
             "colorbar": {
              "outlinewidth": 0,
              "ticks": ""
             }
            },
            "type": "scatterternary"
           }
          ],
          "surface": [
           {
            "colorbar": {
             "outlinewidth": 0,
             "ticks": ""
            },
            "colorscale": [
             [
              0,
              "#0d0887"
             ],
             [
              0.1111111111111111,
              "#46039f"
             ],
             [
              0.2222222222222222,
              "#7201a8"
             ],
             [
              0.3333333333333333,
              "#9c179e"
             ],
             [
              0.4444444444444444,
              "#bd3786"
             ],
             [
              0.5555555555555556,
              "#d8576b"
             ],
             [
              0.6666666666666666,
              "#ed7953"
             ],
             [
              0.7777777777777778,
              "#fb9f3a"
             ],
             [
              0.8888888888888888,
              "#fdca26"
             ],
             [
              1,
              "#f0f921"
             ]
            ],
            "type": "surface"
           }
          ],
          "table": [
           {
            "cells": {
             "fill": {
              "color": "#EBF0F8"
             },
             "line": {
              "color": "white"
             }
            },
            "header": {
             "fill": {
              "color": "#C8D4E3"
             },
             "line": {
              "color": "white"
             }
            },
            "type": "table"
           }
          ]
         },
         "layout": {
          "annotationdefaults": {
           "arrowcolor": "#2a3f5f",
           "arrowhead": 0,
           "arrowwidth": 1
          },
          "coloraxis": {
           "colorbar": {
            "outlinewidth": 0,
            "ticks": ""
           }
          },
          "colorscale": {
           "diverging": [
            [
             0,
             "#8e0152"
            ],
            [
             0.1,
             "#c51b7d"
            ],
            [
             0.2,
             "#de77ae"
            ],
            [
             0.3,
             "#f1b6da"
            ],
            [
             0.4,
             "#fde0ef"
            ],
            [
             0.5,
             "#f7f7f7"
            ],
            [
             0.6,
             "#e6f5d0"
            ],
            [
             0.7,
             "#b8e186"
            ],
            [
             0.8,
             "#7fbc41"
            ],
            [
             0.9,
             "#4d9221"
            ],
            [
             1,
             "#276419"
            ]
           ],
           "sequential": [
            [
             0,
             "#0d0887"
            ],
            [
             0.1111111111111111,
             "#46039f"
            ],
            [
             0.2222222222222222,
             "#7201a8"
            ],
            [
             0.3333333333333333,
             "#9c179e"
            ],
            [
             0.4444444444444444,
             "#bd3786"
            ],
            [
             0.5555555555555556,
             "#d8576b"
            ],
            [
             0.6666666666666666,
             "#ed7953"
            ],
            [
             0.7777777777777778,
             "#fb9f3a"
            ],
            [
             0.8888888888888888,
             "#fdca26"
            ],
            [
             1,
             "#f0f921"
            ]
           ],
           "sequentialminus": [
            [
             0,
             "#0d0887"
            ],
            [
             0.1111111111111111,
             "#46039f"
            ],
            [
             0.2222222222222222,
             "#7201a8"
            ],
            [
             0.3333333333333333,
             "#9c179e"
            ],
            [
             0.4444444444444444,
             "#bd3786"
            ],
            [
             0.5555555555555556,
             "#d8576b"
            ],
            [
             0.6666666666666666,
             "#ed7953"
            ],
            [
             0.7777777777777778,
             "#fb9f3a"
            ],
            [
             0.8888888888888888,
             "#fdca26"
            ],
            [
             1,
             "#f0f921"
            ]
           ]
          },
          "colorway": [
           "#636efa",
           "#EF553B",
           "#00cc96",
           "#ab63fa",
           "#FFA15A",
           "#19d3f3",
           "#FF6692",
           "#B6E880",
           "#FF97FF",
           "#FECB52"
          ],
          "font": {
           "color": "#2a3f5f"
          },
          "geo": {
           "bgcolor": "white",
           "lakecolor": "white",
           "landcolor": "#E5ECF6",
           "showlakes": true,
           "showland": true,
           "subunitcolor": "white"
          },
          "hoverlabel": {
           "align": "left"
          },
          "hovermode": "closest",
          "mapbox": {
           "style": "light"
          },
          "paper_bgcolor": "white",
          "plot_bgcolor": "#E5ECF6",
          "polar": {
           "angularaxis": {
            "gridcolor": "white",
            "linecolor": "white",
            "ticks": ""
           },
           "bgcolor": "#E5ECF6",
           "radialaxis": {
            "gridcolor": "white",
            "linecolor": "white",
            "ticks": ""
           }
          },
          "scene": {
           "xaxis": {
            "backgroundcolor": "#E5ECF6",
            "gridcolor": "white",
            "gridwidth": 2,
            "linecolor": "white",
            "showbackground": true,
            "ticks": "",
            "zerolinecolor": "white"
           },
           "yaxis": {
            "backgroundcolor": "#E5ECF6",
            "gridcolor": "white",
            "gridwidth": 2,
            "linecolor": "white",
            "showbackground": true,
            "ticks": "",
            "zerolinecolor": "white"
           },
           "zaxis": {
            "backgroundcolor": "#E5ECF6",
            "gridcolor": "white",
            "gridwidth": 2,
            "linecolor": "white",
            "showbackground": true,
            "ticks": "",
            "zerolinecolor": "white"
           }
          },
          "shapedefaults": {
           "line": {
            "color": "#2a3f5f"
           }
          },
          "ternary": {
           "aaxis": {
            "gridcolor": "white",
            "linecolor": "white",
            "ticks": ""
           },
           "baxis": {
            "gridcolor": "white",
            "linecolor": "white",
            "ticks": ""
           },
           "bgcolor": "#E5ECF6",
           "caxis": {
            "gridcolor": "white",
            "linecolor": "white",
            "ticks": ""
           }
          },
          "title": {
           "x": 0.05
          },
          "xaxis": {
           "automargin": true,
           "gridcolor": "white",
           "linecolor": "white",
           "ticks": "",
           "title": {
            "standoff": 15
           },
           "zerolinecolor": "white",
           "zerolinewidth": 2
          },
          "yaxis": {
           "automargin": true,
           "gridcolor": "white",
           "linecolor": "white",
           "ticks": "",
           "title": {
            "standoff": 15
           },
           "zerolinecolor": "white",
           "zerolinewidth": 2
          }
         }
        },
        "title": {
         "text": "MRM Intensity"
        },
        "xaxis": {
         "anchor": "y",
         "domain": [
          0,
          1
         ],
         "title": {
          "text": "Transition"
         }
        },
        "yaxis": {
         "anchor": "x",
         "domain": [
          0,
          1
         ],
         "title": {
          "text": "Intensity"
         }
        }
       }
      },
      "text/html": [
       "<div>                            <div id=\"cae6fb8b-5f99-4544-a1ec-c861eca71947\" class=\"plotly-graph-div\" style=\"height:525px; width:100%;\"></div>            <script type=\"text/javascript\">                require([\"plotly\"], function(Plotly) {                    window.PLOTLYENV=window.PLOTLYENV || {};                                    if (document.getElementById(\"cae6fb8b-5f99-4544-a1ec-c861eca71947\")) {                    Plotly.newPlot(                        \"cae6fb8b-5f99-4544-a1ec-c861eca71947\",                        [{\"alignmentgroup\": \"True\", \"customdata\": [[\"[TG(53:9),TG(52:2)]_FA18:1\", \"TAG\"]], \"hovertemplate\": \"Lipid=%{customdata[0]}<br>Transition=%{x}<br>Intensity=%{y}<br>Class=%{customdata[1]}<extra></extra>\", \"legendgroup\": \"[TG(53:9),TG(52:2)]_FA18:1\", \"marker\": {\"color\": \"#636efa\"}, \"name\": \"[TG(53:9),TG(52:2)]_FA18:1\", \"offsetgroup\": \"[TG(53:9),TG(52:2)]_FA18:1\", \"orientation\": \"v\", \"showlegend\": true, \"textposition\": \"auto\", \"type\": \"bar\", \"x\": [\"876.0 -> 577.0\"], \"xaxis\": \"x\", \"y\": [26769009.0], \"yaxis\": \"y\"}, {\"alignmentgroup\": \"True\", \"customdata\": [[\"[TG(54:5)]_FA18:1\", \"TAG\"]], \"hovertemplate\": \"Lipid=%{customdata[0]}<br>Transition=%{x}<br>Intensity=%{y}<br>Class=%{customdata[1]}<extra></extra>\", \"legendgroup\": \"[TG(54:5)]_FA18:1\", \"marker\": {\"color\": \"#EF553B\"}, \"name\": \"[TG(54:5)]_FA18:1\", \"offsetgroup\": \"[TG(54:5)]_FA18:1\", \"orientation\": \"v\", \"showlegend\": true, \"textposition\": \"auto\", \"type\": \"bar\", \"x\": [\"898.0 -> 599.0\"], \"xaxis\": \"x\", \"y\": [12535827.0], \"yaxis\": \"y\"}, {\"alignmentgroup\": \"True\", \"customdata\": [[\"[TG(55:11),TG(54:4)]_FA18:1\", \"TAG\"]], \"hovertemplate\": \"Lipid=%{customdata[0]}<br>Transition=%{x}<br>Intensity=%{y}<br>Class=%{customdata[1]}<extra></extra>\", \"legendgroup\": \"[TG(55:11),TG(54:4)]_FA18:1\", \"marker\": {\"color\": \"#00cc96\"}, \"name\": \"[TG(55:11),TG(54:4)]_FA18:1\", \"offsetgroup\": \"[TG(55:11),TG(54:4)]_FA18:1\", \"orientation\": \"v\", \"showlegend\": true, \"textposition\": \"auto\", \"type\": \"bar\", \"x\": [\"900.0 -> 601.0\"], \"xaxis\": \"x\", \"y\": [14229465.0], \"yaxis\": \"y\"}, {\"alignmentgroup\": \"True\", \"customdata\": [[\"[TG(55:10),TG(54:3)]_FA18:1\", \"TAG\"]], \"hovertemplate\": \"Lipid=%{customdata[0]}<br>Transition=%{x}<br>Intensity=%{y}<br>Class=%{customdata[1]}<extra></extra>\", \"legendgroup\": \"[TG(55:10),TG(54:3)]_FA18:1\", \"marker\": {\"color\": \"#ab63fa\"}, \"name\": \"[TG(55:10),TG(54:3)]_FA18:1\", \"offsetgroup\": \"[TG(55:10),TG(54:3)]_FA18:1\", \"orientation\": \"v\", \"showlegend\": true, \"textposition\": \"auto\", \"type\": \"bar\", \"x\": [\"902.0 -> 603.0\"], \"xaxis\": \"x\", \"y\": [34867382.0], \"yaxis\": \"y\"}, {\"alignmentgroup\": \"True\", \"customdata\": [[\"[TG(55:9),TG(54:2)]_FA18:1\", \"TAG\"]], \"hovertemplate\": \"Lipid=%{customdata[0]}<br>Transition=%{x}<br>Intensity=%{y}<br>Class=%{customdata[1]}<extra></extra>\", \"legendgroup\": \"[TG(55:9),TG(54:2)]_FA18:1\", \"marker\": {\"color\": \"#FFA15A\"}, \"name\": \"[TG(55:9),TG(54:2)]_FA18:1\", \"offsetgroup\": \"[TG(55:9),TG(54:2)]_FA18:1\", \"orientation\": \"v\", \"showlegend\": true, \"textposition\": \"auto\", \"type\": \"bar\", \"x\": [\"904.0 -> 605.0\"], \"xaxis\": \"x\", \"y\": [12858486.0], \"yaxis\": \"y\"}],                        {\"barmode\": \"relative\", \"legend\": {\"title\": {\"text\": \"Lipid\"}, \"tracegroupgap\": 0}, \"margin\": {\"t\": 60}, \"template\": {\"data\": {\"bar\": [{\"error_x\": {\"color\": \"#2a3f5f\"}, \"error_y\": {\"color\": \"#2a3f5f\"}, \"marker\": {\"line\": {\"color\": \"#E5ECF6\", \"width\": 0.5}}, \"type\": \"bar\"}], \"barpolar\": [{\"marker\": {\"line\": {\"color\": \"#E5ECF6\", \"width\": 0.5}}, \"type\": \"barpolar\"}], \"carpet\": [{\"aaxis\": {\"endlinecolor\": \"#2a3f5f\", \"gridcolor\": \"white\", \"linecolor\": \"white\", \"minorgridcolor\": \"white\", \"startlinecolor\": \"#2a3f5f\"}, \"baxis\": {\"endlinecolor\": \"#2a3f5f\", \"gridcolor\": \"white\", \"linecolor\": \"white\", \"minorgridcolor\": \"white\", \"startlinecolor\": \"#2a3f5f\"}, \"type\": \"carpet\"}], \"choropleth\": [{\"colorbar\": {\"outlinewidth\": 0, \"ticks\": \"\"}, \"type\": \"choropleth\"}], \"contour\": [{\"colorbar\": {\"outlinewidth\": 0, \"ticks\": \"\"}, \"colorscale\": [[0.0, \"#0d0887\"], [0.1111111111111111, \"#46039f\"], [0.2222222222222222, \"#7201a8\"], [0.3333333333333333, \"#9c179e\"], [0.4444444444444444, \"#bd3786\"], [0.5555555555555556, \"#d8576b\"], [0.6666666666666666, \"#ed7953\"], [0.7777777777777778, \"#fb9f3a\"], [0.8888888888888888, \"#fdca26\"], [1.0, \"#f0f921\"]], \"type\": \"contour\"}], \"contourcarpet\": [{\"colorbar\": {\"outlinewidth\": 0, \"ticks\": \"\"}, \"type\": \"contourcarpet\"}], \"heatmap\": [{\"colorbar\": {\"outlinewidth\": 0, \"ticks\": \"\"}, \"colorscale\": [[0.0, \"#0d0887\"], [0.1111111111111111, \"#46039f\"], [0.2222222222222222, \"#7201a8\"], [0.3333333333333333, \"#9c179e\"], [0.4444444444444444, \"#bd3786\"], [0.5555555555555556, \"#d8576b\"], [0.6666666666666666, \"#ed7953\"], [0.7777777777777778, \"#fb9f3a\"], [0.8888888888888888, \"#fdca26\"], [1.0, \"#f0f921\"]], \"type\": \"heatmap\"}], \"heatmapgl\": [{\"colorbar\": {\"outlinewidth\": 0, \"ticks\": \"\"}, \"colorscale\": [[0.0, \"#0d0887\"], [0.1111111111111111, \"#46039f\"], [0.2222222222222222, \"#7201a8\"], [0.3333333333333333, \"#9c179e\"], [0.4444444444444444, \"#bd3786\"], [0.5555555555555556, \"#d8576b\"], [0.6666666666666666, \"#ed7953\"], [0.7777777777777778, \"#fb9f3a\"], [0.8888888888888888, \"#fdca26\"], [1.0, \"#f0f921\"]], \"type\": \"heatmapgl\"}], \"histogram\": [{\"marker\": {\"colorbar\": {\"outlinewidth\": 0, \"ticks\": \"\"}}, \"type\": \"histogram\"}], \"histogram2d\": [{\"colorbar\": {\"outlinewidth\": 0, \"ticks\": \"\"}, \"colorscale\": [[0.0, \"#0d0887\"], [0.1111111111111111, \"#46039f\"], [0.2222222222222222, \"#7201a8\"], [0.3333333333333333, \"#9c179e\"], [0.4444444444444444, \"#bd3786\"], [0.5555555555555556, \"#d8576b\"], [0.6666666666666666, \"#ed7953\"], [0.7777777777777778, \"#fb9f3a\"], [0.8888888888888888, \"#fdca26\"], [1.0, \"#f0f921\"]], \"type\": \"histogram2d\"}], \"histogram2dcontour\": [{\"colorbar\": {\"outlinewidth\": 0, \"ticks\": \"\"}, \"colorscale\": [[0.0, \"#0d0887\"], [0.1111111111111111, \"#46039f\"], [0.2222222222222222, \"#7201a8\"], [0.3333333333333333, \"#9c179e\"], [0.4444444444444444, \"#bd3786\"], [0.5555555555555556, \"#d8576b\"], [0.6666666666666666, \"#ed7953\"], [0.7777777777777778, \"#fb9f3a\"], [0.8888888888888888, \"#fdca26\"], [1.0, \"#f0f921\"]], \"type\": \"histogram2dcontour\"}], \"mesh3d\": [{\"colorbar\": {\"outlinewidth\": 0, \"ticks\": \"\"}, \"type\": \"mesh3d\"}], \"parcoords\": [{\"line\": {\"colorbar\": {\"outlinewidth\": 0, \"ticks\": \"\"}}, \"type\": \"parcoords\"}], \"pie\": [{\"automargin\": true, \"type\": \"pie\"}], \"scatter\": [{\"marker\": {\"colorbar\": {\"outlinewidth\": 0, \"ticks\": \"\"}}, \"type\": \"scatter\"}], \"scatter3d\": [{\"line\": {\"colorbar\": {\"outlinewidth\": 0, \"ticks\": \"\"}}, \"marker\": {\"colorbar\": {\"outlinewidth\": 0, \"ticks\": \"\"}}, \"type\": \"scatter3d\"}], \"scattercarpet\": [{\"marker\": {\"colorbar\": {\"outlinewidth\": 0, \"ticks\": \"\"}}, \"type\": \"scattercarpet\"}], \"scattergeo\": [{\"marker\": {\"colorbar\": {\"outlinewidth\": 0, \"ticks\": \"\"}}, \"type\": \"scattergeo\"}], \"scattergl\": [{\"marker\": {\"colorbar\": {\"outlinewidth\": 0, \"ticks\": \"\"}}, \"type\": \"scattergl\"}], \"scattermapbox\": [{\"marker\": {\"colorbar\": {\"outlinewidth\": 0, \"ticks\": \"\"}}, \"type\": \"scattermapbox\"}], \"scatterpolar\": [{\"marker\": {\"colorbar\": {\"outlinewidth\": 0, \"ticks\": \"\"}}, \"type\": \"scatterpolar\"}], \"scatterpolargl\": [{\"marker\": {\"colorbar\": {\"outlinewidth\": 0, \"ticks\": \"\"}}, \"type\": \"scatterpolargl\"}], \"scatterternary\": [{\"marker\": {\"colorbar\": {\"outlinewidth\": 0, \"ticks\": \"\"}}, \"type\": \"scatterternary\"}], \"surface\": [{\"colorbar\": {\"outlinewidth\": 0, \"ticks\": \"\"}, \"colorscale\": [[0.0, \"#0d0887\"], [0.1111111111111111, \"#46039f\"], [0.2222222222222222, \"#7201a8\"], [0.3333333333333333, \"#9c179e\"], [0.4444444444444444, \"#bd3786\"], [0.5555555555555556, \"#d8576b\"], [0.6666666666666666, \"#ed7953\"], [0.7777777777777778, \"#fb9f3a\"], [0.8888888888888888, \"#fdca26\"], [1.0, \"#f0f921\"]], \"type\": \"surface\"}], \"table\": [{\"cells\": {\"fill\": {\"color\": \"#EBF0F8\"}, \"line\": {\"color\": \"white\"}}, \"header\": {\"fill\": {\"color\": \"#C8D4E3\"}, \"line\": {\"color\": \"white\"}}, \"type\": \"table\"}]}, \"layout\": {\"annotationdefaults\": {\"arrowcolor\": \"#2a3f5f\", \"arrowhead\": 0, \"arrowwidth\": 1}, \"coloraxis\": {\"colorbar\": {\"outlinewidth\": 0, \"ticks\": \"\"}}, \"colorscale\": {\"diverging\": [[0, \"#8e0152\"], [0.1, \"#c51b7d\"], [0.2, \"#de77ae\"], [0.3, \"#f1b6da\"], [0.4, \"#fde0ef\"], [0.5, \"#f7f7f7\"], [0.6, \"#e6f5d0\"], [0.7, \"#b8e186\"], [0.8, \"#7fbc41\"], [0.9, \"#4d9221\"], [1, \"#276419\"]], \"sequential\": [[0.0, \"#0d0887\"], [0.1111111111111111, \"#46039f\"], [0.2222222222222222, \"#7201a8\"], [0.3333333333333333, \"#9c179e\"], [0.4444444444444444, \"#bd3786\"], [0.5555555555555556, \"#d8576b\"], [0.6666666666666666, \"#ed7953\"], [0.7777777777777778, \"#fb9f3a\"], [0.8888888888888888, \"#fdca26\"], [1.0, \"#f0f921\"]], \"sequentialminus\": [[0.0, \"#0d0887\"], [0.1111111111111111, \"#46039f\"], [0.2222222222222222, \"#7201a8\"], [0.3333333333333333, \"#9c179e\"], [0.4444444444444444, \"#bd3786\"], [0.5555555555555556, \"#d8576b\"], [0.6666666666666666, \"#ed7953\"], [0.7777777777777778, \"#fb9f3a\"], [0.8888888888888888, \"#fdca26\"], [1.0, \"#f0f921\"]]}, \"colorway\": [\"#636efa\", \"#EF553B\", \"#00cc96\", \"#ab63fa\", \"#FFA15A\", \"#19d3f3\", \"#FF6692\", \"#B6E880\", \"#FF97FF\", \"#FECB52\"], \"font\": {\"color\": \"#2a3f5f\"}, \"geo\": {\"bgcolor\": \"white\", \"lakecolor\": \"white\", \"landcolor\": \"#E5ECF6\", \"showlakes\": true, \"showland\": true, \"subunitcolor\": \"white\"}, \"hoverlabel\": {\"align\": \"left\"}, \"hovermode\": \"closest\", \"mapbox\": {\"style\": \"light\"}, \"paper_bgcolor\": \"white\", \"plot_bgcolor\": \"#E5ECF6\", \"polar\": {\"angularaxis\": {\"gridcolor\": \"white\", \"linecolor\": \"white\", \"ticks\": \"\"}, \"bgcolor\": \"#E5ECF6\", \"radialaxis\": {\"gridcolor\": \"white\", \"linecolor\": \"white\", \"ticks\": \"\"}}, \"scene\": {\"xaxis\": {\"backgroundcolor\": \"#E5ECF6\", \"gridcolor\": \"white\", \"gridwidth\": 2, \"linecolor\": \"white\", \"showbackground\": true, \"ticks\": \"\", \"zerolinecolor\": \"white\"}, \"yaxis\": {\"backgroundcolor\": \"#E5ECF6\", \"gridcolor\": \"white\", \"gridwidth\": 2, \"linecolor\": \"white\", \"showbackground\": true, \"ticks\": \"\", \"zerolinecolor\": \"white\"}, \"zaxis\": {\"backgroundcolor\": \"#E5ECF6\", \"gridcolor\": \"white\", \"gridwidth\": 2, \"linecolor\": \"white\", \"showbackground\": true, \"ticks\": \"\", \"zerolinecolor\": \"white\"}}, \"shapedefaults\": {\"line\": {\"color\": \"#2a3f5f\"}}, \"ternary\": {\"aaxis\": {\"gridcolor\": \"white\", \"linecolor\": \"white\", \"ticks\": \"\"}, \"baxis\": {\"gridcolor\": \"white\", \"linecolor\": \"white\", \"ticks\": \"\"}, \"bgcolor\": \"#E5ECF6\", \"caxis\": {\"gridcolor\": \"white\", \"linecolor\": \"white\", \"ticks\": \"\"}}, \"title\": {\"x\": 0.05}, \"xaxis\": {\"automargin\": true, \"gridcolor\": \"white\", \"linecolor\": \"white\", \"ticks\": \"\", \"title\": {\"standoff\": 15}, \"zerolinecolor\": \"white\", \"zerolinewidth\": 2}, \"yaxis\": {\"automargin\": true, \"gridcolor\": \"white\", \"linecolor\": \"white\", \"ticks\": \"\", \"title\": {\"standoff\": 15}, \"zerolinecolor\": \"white\", \"zerolinewidth\": 2}}}, \"title\": {\"text\": \"MRM Intensity\"}, \"xaxis\": {\"anchor\": \"y\", \"domain\": [0.0, 1.0], \"title\": {\"text\": \"Transition\"}}, \"yaxis\": {\"anchor\": \"x\", \"domain\": [0.0, 1.0], \"title\": {\"text\": \"Intensity\"}}},                        {\"responsive\": true}                    ).then(function(){\n",
       "                            \n",
       "var gd = document.getElementById('cae6fb8b-5f99-4544-a1ec-c861eca71947');\n",
       "var x = new MutationObserver(function (mutations, observer) {{\n",
       "        var display = window.getComputedStyle(gd).display;\n",
       "        if (!display || display === 'none') {{\n",
       "            console.log([gd, 'removed!']);\n",
       "            Plotly.purge(gd);\n",
       "            observer.disconnect();\n",
       "        }}\n",
       "}});\n",
       "\n",
       "// Listen for the removal of the full notebook cells\n",
       "var notebookContainer = gd.closest('#notebook-container');\n",
       "if (notebookContainer) {{\n",
       "    x.observe(notebookContainer, {childList: true});\n",
       "}}\n",
       "\n",
       "// Listen for the clearing of the current output cell\n",
       "var outputEl = gd.closest('.output');\n",
       "if (outputEl) {{\n",
       "    x.observe(outputEl, {childList: true});\n",
       "}}\n",
       "\n",
       "                        })                };                });            </script>        </div>"
      ]
     },
     "metadata": {},
     "output_type": "display_data"
    },
    {
     "data": {
      "application/vnd.plotly.v1+json": {
       "config": {
        "plotlyServerURL": "https://plot.ly"
       },
       "data": [
        {
         "alignmentgroup": "True",
         "customdata": [
          [
           "[TG(53:9),TG(52:2)]_FA18:1",
           "TAG"
          ]
         ],
         "hovertemplate": "Lipid=%{customdata[0]}<br>Transition=%{x}<br>Intensity_OzESI=%{y}<br>Class=%{customdata[1]}<extra></extra>",
         "legendgroup": "[TG(53:9),TG(52:2)]_FA18:1",
         "marker": {
          "color": "#636efa"
         },
         "name": "[TG(53:9),TG(52:2)]_FA18:1",
         "offsetgroup": "[TG(53:9),TG(52:2)]_FA18:1",
         "orientation": "v",
         "showlegend": true,
         "textposition": "auto",
         "type": "bar",
         "x": [
          "876.0 -> 577.0"
         ],
         "xaxis": "x",
         "y": [
          188293
         ],
         "yaxis": "y"
        },
        {
         "alignmentgroup": "True",
         "customdata": [
          [
           "[TG(54:5)]_FA18:1",
           "TAG"
          ]
         ],
         "hovertemplate": "Lipid=%{customdata[0]}<br>Transition=%{x}<br>Intensity_OzESI=%{y}<br>Class=%{customdata[1]}<extra></extra>",
         "legendgroup": "[TG(54:5)]_FA18:1",
         "marker": {
          "color": "#EF553B"
         },
         "name": "[TG(54:5)]_FA18:1",
         "offsetgroup": "[TG(54:5)]_FA18:1",
         "orientation": "v",
         "showlegend": true,
         "textposition": "auto",
         "type": "bar",
         "x": [
          "898.0 -> 599.0"
         ],
         "xaxis": "x",
         "y": [
          160993
         ],
         "yaxis": "y"
        },
        {
         "alignmentgroup": "True",
         "customdata": [
          [
           "[TG(55:11),TG(54:4)]_FA18:1",
           "TAG"
          ]
         ],
         "hovertemplate": "Lipid=%{customdata[0]}<br>Transition=%{x}<br>Intensity_OzESI=%{y}<br>Class=%{customdata[1]}<extra></extra>",
         "legendgroup": "[TG(55:11),TG(54:4)]_FA18:1",
         "marker": {
          "color": "#00cc96"
         },
         "name": "[TG(55:11),TG(54:4)]_FA18:1",
         "offsetgroup": "[TG(55:11),TG(54:4)]_FA18:1",
         "orientation": "v",
         "showlegend": true,
         "textposition": "auto",
         "type": "bar",
         "x": [
          "900.0 -> 601.0"
         ],
         "xaxis": "x",
         "y": [
          565836
         ],
         "yaxis": "y"
        },
        {
         "alignmentgroup": "True",
         "customdata": [
          [
           "[TG(55:10),TG(54:3)]_FA18:1",
           "TAG"
          ]
         ],
         "hovertemplate": "Lipid=%{customdata[0]}<br>Transition=%{x}<br>Intensity_OzESI=%{y}<br>Class=%{customdata[1]}<extra></extra>",
         "legendgroup": "[TG(55:10),TG(54:3)]_FA18:1",
         "marker": {
          "color": "#ab63fa"
         },
         "name": "[TG(55:10),TG(54:3)]_FA18:1",
         "offsetgroup": "[TG(55:10),TG(54:3)]_FA18:1",
         "orientation": "v",
         "showlegend": true,
         "textposition": "auto",
         "type": "bar",
         "x": [
          "902.0 -> 603.0"
         ],
         "xaxis": "x",
         "y": [
          1646316
         ],
         "yaxis": "y"
        },
        {
         "alignmentgroup": "True",
         "customdata": [
          [
           "[TG(55:9),TG(54:2)]_FA18:1",
           "TAG"
          ]
         ],
         "hovertemplate": "Lipid=%{customdata[0]}<br>Transition=%{x}<br>Intensity_OzESI=%{y}<br>Class=%{customdata[1]}<extra></extra>",
         "legendgroup": "[TG(55:9),TG(54:2)]_FA18:1",
         "marker": {
          "color": "#FFA15A"
         },
         "name": "[TG(55:9),TG(54:2)]_FA18:1",
         "offsetgroup": "[TG(55:9),TG(54:2)]_FA18:1",
         "orientation": "v",
         "showlegend": true,
         "textposition": "auto",
         "type": "bar",
         "x": [
          "904.0 -> 605.0"
         ],
         "xaxis": "x",
         "y": [
          153436
         ],
         "yaxis": "y"
        }
       ],
       "layout": {
        "barmode": "relative",
        "legend": {
         "title": {
          "text": "Lipid"
         },
         "tracegroupgap": 0
        },
        "margin": {
         "t": 60
        },
        "template": {
         "data": {
          "bar": [
           {
            "error_x": {
             "color": "#2a3f5f"
            },
            "error_y": {
             "color": "#2a3f5f"
            },
            "marker": {
             "line": {
              "color": "#E5ECF6",
              "width": 0.5
             }
            },
            "type": "bar"
           }
          ],
          "barpolar": [
           {
            "marker": {
             "line": {
              "color": "#E5ECF6",
              "width": 0.5
             }
            },
            "type": "barpolar"
           }
          ],
          "carpet": [
           {
            "aaxis": {
             "endlinecolor": "#2a3f5f",
             "gridcolor": "white",
             "linecolor": "white",
             "minorgridcolor": "white",
             "startlinecolor": "#2a3f5f"
            },
            "baxis": {
             "endlinecolor": "#2a3f5f",
             "gridcolor": "white",
             "linecolor": "white",
             "minorgridcolor": "white",
             "startlinecolor": "#2a3f5f"
            },
            "type": "carpet"
           }
          ],
          "choropleth": [
           {
            "colorbar": {
             "outlinewidth": 0,
             "ticks": ""
            },
            "type": "choropleth"
           }
          ],
          "contour": [
           {
            "colorbar": {
             "outlinewidth": 0,
             "ticks": ""
            },
            "colorscale": [
             [
              0,
              "#0d0887"
             ],
             [
              0.1111111111111111,
              "#46039f"
             ],
             [
              0.2222222222222222,
              "#7201a8"
             ],
             [
              0.3333333333333333,
              "#9c179e"
             ],
             [
              0.4444444444444444,
              "#bd3786"
             ],
             [
              0.5555555555555556,
              "#d8576b"
             ],
             [
              0.6666666666666666,
              "#ed7953"
             ],
             [
              0.7777777777777778,
              "#fb9f3a"
             ],
             [
              0.8888888888888888,
              "#fdca26"
             ],
             [
              1,
              "#f0f921"
             ]
            ],
            "type": "contour"
           }
          ],
          "contourcarpet": [
           {
            "colorbar": {
             "outlinewidth": 0,
             "ticks": ""
            },
            "type": "contourcarpet"
           }
          ],
          "heatmap": [
           {
            "colorbar": {
             "outlinewidth": 0,
             "ticks": ""
            },
            "colorscale": [
             [
              0,
              "#0d0887"
             ],
             [
              0.1111111111111111,
              "#46039f"
             ],
             [
              0.2222222222222222,
              "#7201a8"
             ],
             [
              0.3333333333333333,
              "#9c179e"
             ],
             [
              0.4444444444444444,
              "#bd3786"
             ],
             [
              0.5555555555555556,
              "#d8576b"
             ],
             [
              0.6666666666666666,
              "#ed7953"
             ],
             [
              0.7777777777777778,
              "#fb9f3a"
             ],
             [
              0.8888888888888888,
              "#fdca26"
             ],
             [
              1,
              "#f0f921"
             ]
            ],
            "type": "heatmap"
           }
          ],
          "heatmapgl": [
           {
            "colorbar": {
             "outlinewidth": 0,
             "ticks": ""
            },
            "colorscale": [
             [
              0,
              "#0d0887"
             ],
             [
              0.1111111111111111,
              "#46039f"
             ],
             [
              0.2222222222222222,
              "#7201a8"
             ],
             [
              0.3333333333333333,
              "#9c179e"
             ],
             [
              0.4444444444444444,
              "#bd3786"
             ],
             [
              0.5555555555555556,
              "#d8576b"
             ],
             [
              0.6666666666666666,
              "#ed7953"
             ],
             [
              0.7777777777777778,
              "#fb9f3a"
             ],
             [
              0.8888888888888888,
              "#fdca26"
             ],
             [
              1,
              "#f0f921"
             ]
            ],
            "type": "heatmapgl"
           }
          ],
          "histogram": [
           {
            "marker": {
             "colorbar": {
              "outlinewidth": 0,
              "ticks": ""
             }
            },
            "type": "histogram"
           }
          ],
          "histogram2d": [
           {
            "colorbar": {
             "outlinewidth": 0,
             "ticks": ""
            },
            "colorscale": [
             [
              0,
              "#0d0887"
             ],
             [
              0.1111111111111111,
              "#46039f"
             ],
             [
              0.2222222222222222,
              "#7201a8"
             ],
             [
              0.3333333333333333,
              "#9c179e"
             ],
             [
              0.4444444444444444,
              "#bd3786"
             ],
             [
              0.5555555555555556,
              "#d8576b"
             ],
             [
              0.6666666666666666,
              "#ed7953"
             ],
             [
              0.7777777777777778,
              "#fb9f3a"
             ],
             [
              0.8888888888888888,
              "#fdca26"
             ],
             [
              1,
              "#f0f921"
             ]
            ],
            "type": "histogram2d"
           }
          ],
          "histogram2dcontour": [
           {
            "colorbar": {
             "outlinewidth": 0,
             "ticks": ""
            },
            "colorscale": [
             [
              0,
              "#0d0887"
             ],
             [
              0.1111111111111111,
              "#46039f"
             ],
             [
              0.2222222222222222,
              "#7201a8"
             ],
             [
              0.3333333333333333,
              "#9c179e"
             ],
             [
              0.4444444444444444,
              "#bd3786"
             ],
             [
              0.5555555555555556,
              "#d8576b"
             ],
             [
              0.6666666666666666,
              "#ed7953"
             ],
             [
              0.7777777777777778,
              "#fb9f3a"
             ],
             [
              0.8888888888888888,
              "#fdca26"
             ],
             [
              1,
              "#f0f921"
             ]
            ],
            "type": "histogram2dcontour"
           }
          ],
          "mesh3d": [
           {
            "colorbar": {
             "outlinewidth": 0,
             "ticks": ""
            },
            "type": "mesh3d"
           }
          ],
          "parcoords": [
           {
            "line": {
             "colorbar": {
              "outlinewidth": 0,
              "ticks": ""
             }
            },
            "type": "parcoords"
           }
          ],
          "pie": [
           {
            "automargin": true,
            "type": "pie"
           }
          ],
          "scatter": [
           {
            "marker": {
             "colorbar": {
              "outlinewidth": 0,
              "ticks": ""
             }
            },
            "type": "scatter"
           }
          ],
          "scatter3d": [
           {
            "line": {
             "colorbar": {
              "outlinewidth": 0,
              "ticks": ""
             }
            },
            "marker": {
             "colorbar": {
              "outlinewidth": 0,
              "ticks": ""
             }
            },
            "type": "scatter3d"
           }
          ],
          "scattercarpet": [
           {
            "marker": {
             "colorbar": {
              "outlinewidth": 0,
              "ticks": ""
             }
            },
            "type": "scattercarpet"
           }
          ],
          "scattergeo": [
           {
            "marker": {
             "colorbar": {
              "outlinewidth": 0,
              "ticks": ""
             }
            },
            "type": "scattergeo"
           }
          ],
          "scattergl": [
           {
            "marker": {
             "colorbar": {
              "outlinewidth": 0,
              "ticks": ""
             }
            },
            "type": "scattergl"
           }
          ],
          "scattermapbox": [
           {
            "marker": {
             "colorbar": {
              "outlinewidth": 0,
              "ticks": ""
             }
            },
            "type": "scattermapbox"
           }
          ],
          "scatterpolar": [
           {
            "marker": {
             "colorbar": {
              "outlinewidth": 0,
              "ticks": ""
             }
            },
            "type": "scatterpolar"
           }
          ],
          "scatterpolargl": [
           {
            "marker": {
             "colorbar": {
              "outlinewidth": 0,
              "ticks": ""
             }
            },
            "type": "scatterpolargl"
           }
          ],
          "scatterternary": [
           {
            "marker": {
             "colorbar": {
              "outlinewidth": 0,
              "ticks": ""
             }
            },
            "type": "scatterternary"
           }
          ],
          "surface": [
           {
            "colorbar": {
             "outlinewidth": 0,
             "ticks": ""
            },
            "colorscale": [
             [
              0,
              "#0d0887"
             ],
             [
              0.1111111111111111,
              "#46039f"
             ],
             [
              0.2222222222222222,
              "#7201a8"
             ],
             [
              0.3333333333333333,
              "#9c179e"
             ],
             [
              0.4444444444444444,
              "#bd3786"
             ],
             [
              0.5555555555555556,
              "#d8576b"
             ],
             [
              0.6666666666666666,
              "#ed7953"
             ],
             [
              0.7777777777777778,
              "#fb9f3a"
             ],
             [
              0.8888888888888888,
              "#fdca26"
             ],
             [
              1,
              "#f0f921"
             ]
            ],
            "type": "surface"
           }
          ],
          "table": [
           {
            "cells": {
             "fill": {
              "color": "#EBF0F8"
             },
             "line": {
              "color": "white"
             }
            },
            "header": {
             "fill": {
              "color": "#C8D4E3"
             },
             "line": {
              "color": "white"
             }
            },
            "type": "table"
           }
          ]
         },
         "layout": {
          "annotationdefaults": {
           "arrowcolor": "#2a3f5f",
           "arrowhead": 0,
           "arrowwidth": 1
          },
          "coloraxis": {
           "colorbar": {
            "outlinewidth": 0,
            "ticks": ""
           }
          },
          "colorscale": {
           "diverging": [
            [
             0,
             "#8e0152"
            ],
            [
             0.1,
             "#c51b7d"
            ],
            [
             0.2,
             "#de77ae"
            ],
            [
             0.3,
             "#f1b6da"
            ],
            [
             0.4,
             "#fde0ef"
            ],
            [
             0.5,
             "#f7f7f7"
            ],
            [
             0.6,
             "#e6f5d0"
            ],
            [
             0.7,
             "#b8e186"
            ],
            [
             0.8,
             "#7fbc41"
            ],
            [
             0.9,
             "#4d9221"
            ],
            [
             1,
             "#276419"
            ]
           ],
           "sequential": [
            [
             0,
             "#0d0887"
            ],
            [
             0.1111111111111111,
             "#46039f"
            ],
            [
             0.2222222222222222,
             "#7201a8"
            ],
            [
             0.3333333333333333,
             "#9c179e"
            ],
            [
             0.4444444444444444,
             "#bd3786"
            ],
            [
             0.5555555555555556,
             "#d8576b"
            ],
            [
             0.6666666666666666,
             "#ed7953"
            ],
            [
             0.7777777777777778,
             "#fb9f3a"
            ],
            [
             0.8888888888888888,
             "#fdca26"
            ],
            [
             1,
             "#f0f921"
            ]
           ],
           "sequentialminus": [
            [
             0,
             "#0d0887"
            ],
            [
             0.1111111111111111,
             "#46039f"
            ],
            [
             0.2222222222222222,
             "#7201a8"
            ],
            [
             0.3333333333333333,
             "#9c179e"
            ],
            [
             0.4444444444444444,
             "#bd3786"
            ],
            [
             0.5555555555555556,
             "#d8576b"
            ],
            [
             0.6666666666666666,
             "#ed7953"
            ],
            [
             0.7777777777777778,
             "#fb9f3a"
            ],
            [
             0.8888888888888888,
             "#fdca26"
            ],
            [
             1,
             "#f0f921"
            ]
           ]
          },
          "colorway": [
           "#636efa",
           "#EF553B",
           "#00cc96",
           "#ab63fa",
           "#FFA15A",
           "#19d3f3",
           "#FF6692",
           "#B6E880",
           "#FF97FF",
           "#FECB52"
          ],
          "font": {
           "color": "#2a3f5f"
          },
          "geo": {
           "bgcolor": "white",
           "lakecolor": "white",
           "landcolor": "#E5ECF6",
           "showlakes": true,
           "showland": true,
           "subunitcolor": "white"
          },
          "hoverlabel": {
           "align": "left"
          },
          "hovermode": "closest",
          "mapbox": {
           "style": "light"
          },
          "paper_bgcolor": "white",
          "plot_bgcolor": "#E5ECF6",
          "polar": {
           "angularaxis": {
            "gridcolor": "white",
            "linecolor": "white",
            "ticks": ""
           },
           "bgcolor": "#E5ECF6",
           "radialaxis": {
            "gridcolor": "white",
            "linecolor": "white",
            "ticks": ""
           }
          },
          "scene": {
           "xaxis": {
            "backgroundcolor": "#E5ECF6",
            "gridcolor": "white",
            "gridwidth": 2,
            "linecolor": "white",
            "showbackground": true,
            "ticks": "",
            "zerolinecolor": "white"
           },
           "yaxis": {
            "backgroundcolor": "#E5ECF6",
            "gridcolor": "white",
            "gridwidth": 2,
            "linecolor": "white",
            "showbackground": true,
            "ticks": "",
            "zerolinecolor": "white"
           },
           "zaxis": {
            "backgroundcolor": "#E5ECF6",
            "gridcolor": "white",
            "gridwidth": 2,
            "linecolor": "white",
            "showbackground": true,
            "ticks": "",
            "zerolinecolor": "white"
           }
          },
          "shapedefaults": {
           "line": {
            "color": "#2a3f5f"
           }
          },
          "ternary": {
           "aaxis": {
            "gridcolor": "white",
            "linecolor": "white",
            "ticks": ""
           },
           "baxis": {
            "gridcolor": "white",
            "linecolor": "white",
            "ticks": ""
           },
           "bgcolor": "#E5ECF6",
           "caxis": {
            "gridcolor": "white",
            "linecolor": "white",
            "ticks": ""
           }
          },
          "title": {
           "x": 0.05
          },
          "xaxis": {
           "automargin": true,
           "gridcolor": "white",
           "linecolor": "white",
           "ticks": "",
           "title": {
            "standoff": 15
           },
           "zerolinecolor": "white",
           "zerolinewidth": 2
          },
          "yaxis": {
           "automargin": true,
           "gridcolor": "white",
           "linecolor": "white",
           "ticks": "",
           "title": {
            "standoff": 15
           },
           "zerolinecolor": "white",
           "zerolinewidth": 2
          }
         }
        },
        "title": {
         "text": "LC OzESI Intensity"
        },
        "xaxis": {
         "anchor": "y",
         "domain": [
          0,
          1
         ],
         "title": {
          "text": "Transition"
         }
        },
        "yaxis": {
         "anchor": "x",
         "domain": [
          0,
          1
         ],
         "title": {
          "text": "Intensity_OzESI"
         }
        }
       }
      },
      "text/html": [
       "<div>                            <div id=\"d3c2c206-5067-4fd7-8bc8-ce71e1056350\" class=\"plotly-graph-div\" style=\"height:525px; width:100%;\"></div>            <script type=\"text/javascript\">                require([\"plotly\"], function(Plotly) {                    window.PLOTLYENV=window.PLOTLYENV || {};                                    if (document.getElementById(\"d3c2c206-5067-4fd7-8bc8-ce71e1056350\")) {                    Plotly.newPlot(                        \"d3c2c206-5067-4fd7-8bc8-ce71e1056350\",                        [{\"alignmentgroup\": \"True\", \"customdata\": [[\"[TG(53:9),TG(52:2)]_FA18:1\", \"TAG\"]], \"hovertemplate\": \"Lipid=%{customdata[0]}<br>Transition=%{x}<br>Intensity_OzESI=%{y}<br>Class=%{customdata[1]}<extra></extra>\", \"legendgroup\": \"[TG(53:9),TG(52:2)]_FA18:1\", \"marker\": {\"color\": \"#636efa\"}, \"name\": \"[TG(53:9),TG(52:2)]_FA18:1\", \"offsetgroup\": \"[TG(53:9),TG(52:2)]_FA18:1\", \"orientation\": \"v\", \"showlegend\": true, \"textposition\": \"auto\", \"type\": \"bar\", \"x\": [\"876.0 -> 577.0\"], \"xaxis\": \"x\", \"y\": [188293.0], \"yaxis\": \"y\"}, {\"alignmentgroup\": \"True\", \"customdata\": [[\"[TG(54:5)]_FA18:1\", \"TAG\"]], \"hovertemplate\": \"Lipid=%{customdata[0]}<br>Transition=%{x}<br>Intensity_OzESI=%{y}<br>Class=%{customdata[1]}<extra></extra>\", \"legendgroup\": \"[TG(54:5)]_FA18:1\", \"marker\": {\"color\": \"#EF553B\"}, \"name\": \"[TG(54:5)]_FA18:1\", \"offsetgroup\": \"[TG(54:5)]_FA18:1\", \"orientation\": \"v\", \"showlegend\": true, \"textposition\": \"auto\", \"type\": \"bar\", \"x\": [\"898.0 -> 599.0\"], \"xaxis\": \"x\", \"y\": [160993.0], \"yaxis\": \"y\"}, {\"alignmentgroup\": \"True\", \"customdata\": [[\"[TG(55:11),TG(54:4)]_FA18:1\", \"TAG\"]], \"hovertemplate\": \"Lipid=%{customdata[0]}<br>Transition=%{x}<br>Intensity_OzESI=%{y}<br>Class=%{customdata[1]}<extra></extra>\", \"legendgroup\": \"[TG(55:11),TG(54:4)]_FA18:1\", \"marker\": {\"color\": \"#00cc96\"}, \"name\": \"[TG(55:11),TG(54:4)]_FA18:1\", \"offsetgroup\": \"[TG(55:11),TG(54:4)]_FA18:1\", \"orientation\": \"v\", \"showlegend\": true, \"textposition\": \"auto\", \"type\": \"bar\", \"x\": [\"900.0 -> 601.0\"], \"xaxis\": \"x\", \"y\": [565836.0], \"yaxis\": \"y\"}, {\"alignmentgroup\": \"True\", \"customdata\": [[\"[TG(55:10),TG(54:3)]_FA18:1\", \"TAG\"]], \"hovertemplate\": \"Lipid=%{customdata[0]}<br>Transition=%{x}<br>Intensity_OzESI=%{y}<br>Class=%{customdata[1]}<extra></extra>\", \"legendgroup\": \"[TG(55:10),TG(54:3)]_FA18:1\", \"marker\": {\"color\": \"#ab63fa\"}, \"name\": \"[TG(55:10),TG(54:3)]_FA18:1\", \"offsetgroup\": \"[TG(55:10),TG(54:3)]_FA18:1\", \"orientation\": \"v\", \"showlegend\": true, \"textposition\": \"auto\", \"type\": \"bar\", \"x\": [\"902.0 -> 603.0\"], \"xaxis\": \"x\", \"y\": [1646316.0], \"yaxis\": \"y\"}, {\"alignmentgroup\": \"True\", \"customdata\": [[\"[TG(55:9),TG(54:2)]_FA18:1\", \"TAG\"]], \"hovertemplate\": \"Lipid=%{customdata[0]}<br>Transition=%{x}<br>Intensity_OzESI=%{y}<br>Class=%{customdata[1]}<extra></extra>\", \"legendgroup\": \"[TG(55:9),TG(54:2)]_FA18:1\", \"marker\": {\"color\": \"#FFA15A\"}, \"name\": \"[TG(55:9),TG(54:2)]_FA18:1\", \"offsetgroup\": \"[TG(55:9),TG(54:2)]_FA18:1\", \"orientation\": \"v\", \"showlegend\": true, \"textposition\": \"auto\", \"type\": \"bar\", \"x\": [\"904.0 -> 605.0\"], \"xaxis\": \"x\", \"y\": [153436.0], \"yaxis\": \"y\"}],                        {\"barmode\": \"relative\", \"legend\": {\"title\": {\"text\": \"Lipid\"}, \"tracegroupgap\": 0}, \"margin\": {\"t\": 60}, \"template\": {\"data\": {\"bar\": [{\"error_x\": {\"color\": \"#2a3f5f\"}, \"error_y\": {\"color\": \"#2a3f5f\"}, \"marker\": {\"line\": {\"color\": \"#E5ECF6\", \"width\": 0.5}}, \"type\": \"bar\"}], \"barpolar\": [{\"marker\": {\"line\": {\"color\": \"#E5ECF6\", \"width\": 0.5}}, \"type\": \"barpolar\"}], \"carpet\": [{\"aaxis\": {\"endlinecolor\": \"#2a3f5f\", \"gridcolor\": \"white\", \"linecolor\": \"white\", \"minorgridcolor\": \"white\", \"startlinecolor\": \"#2a3f5f\"}, \"baxis\": {\"endlinecolor\": \"#2a3f5f\", \"gridcolor\": \"white\", \"linecolor\": \"white\", \"minorgridcolor\": \"white\", \"startlinecolor\": \"#2a3f5f\"}, \"type\": \"carpet\"}], \"choropleth\": [{\"colorbar\": {\"outlinewidth\": 0, \"ticks\": \"\"}, \"type\": \"choropleth\"}], \"contour\": [{\"colorbar\": {\"outlinewidth\": 0, \"ticks\": \"\"}, \"colorscale\": [[0.0, \"#0d0887\"], [0.1111111111111111, \"#46039f\"], [0.2222222222222222, \"#7201a8\"], [0.3333333333333333, \"#9c179e\"], [0.4444444444444444, \"#bd3786\"], [0.5555555555555556, \"#d8576b\"], [0.6666666666666666, \"#ed7953\"], [0.7777777777777778, \"#fb9f3a\"], [0.8888888888888888, \"#fdca26\"], [1.0, \"#f0f921\"]], \"type\": \"contour\"}], \"contourcarpet\": [{\"colorbar\": {\"outlinewidth\": 0, \"ticks\": \"\"}, \"type\": \"contourcarpet\"}], \"heatmap\": [{\"colorbar\": {\"outlinewidth\": 0, \"ticks\": \"\"}, \"colorscale\": [[0.0, \"#0d0887\"], [0.1111111111111111, \"#46039f\"], [0.2222222222222222, \"#7201a8\"], [0.3333333333333333, \"#9c179e\"], [0.4444444444444444, \"#bd3786\"], [0.5555555555555556, \"#d8576b\"], [0.6666666666666666, \"#ed7953\"], [0.7777777777777778, \"#fb9f3a\"], [0.8888888888888888, \"#fdca26\"], [1.0, \"#f0f921\"]], \"type\": \"heatmap\"}], \"heatmapgl\": [{\"colorbar\": {\"outlinewidth\": 0, \"ticks\": \"\"}, \"colorscale\": [[0.0, \"#0d0887\"], [0.1111111111111111, \"#46039f\"], [0.2222222222222222, \"#7201a8\"], [0.3333333333333333, \"#9c179e\"], [0.4444444444444444, \"#bd3786\"], [0.5555555555555556, \"#d8576b\"], [0.6666666666666666, \"#ed7953\"], [0.7777777777777778, \"#fb9f3a\"], [0.8888888888888888, \"#fdca26\"], [1.0, \"#f0f921\"]], \"type\": \"heatmapgl\"}], \"histogram\": [{\"marker\": {\"colorbar\": {\"outlinewidth\": 0, \"ticks\": \"\"}}, \"type\": \"histogram\"}], \"histogram2d\": [{\"colorbar\": {\"outlinewidth\": 0, \"ticks\": \"\"}, \"colorscale\": [[0.0, \"#0d0887\"], [0.1111111111111111, \"#46039f\"], [0.2222222222222222, \"#7201a8\"], [0.3333333333333333, \"#9c179e\"], [0.4444444444444444, \"#bd3786\"], [0.5555555555555556, \"#d8576b\"], [0.6666666666666666, \"#ed7953\"], [0.7777777777777778, \"#fb9f3a\"], [0.8888888888888888, \"#fdca26\"], [1.0, \"#f0f921\"]], \"type\": \"histogram2d\"}], \"histogram2dcontour\": [{\"colorbar\": {\"outlinewidth\": 0, \"ticks\": \"\"}, \"colorscale\": [[0.0, \"#0d0887\"], [0.1111111111111111, \"#46039f\"], [0.2222222222222222, \"#7201a8\"], [0.3333333333333333, \"#9c179e\"], [0.4444444444444444, \"#bd3786\"], [0.5555555555555556, \"#d8576b\"], [0.6666666666666666, \"#ed7953\"], [0.7777777777777778, \"#fb9f3a\"], [0.8888888888888888, \"#fdca26\"], [1.0, \"#f0f921\"]], \"type\": \"histogram2dcontour\"}], \"mesh3d\": [{\"colorbar\": {\"outlinewidth\": 0, \"ticks\": \"\"}, \"type\": \"mesh3d\"}], \"parcoords\": [{\"line\": {\"colorbar\": {\"outlinewidth\": 0, \"ticks\": \"\"}}, \"type\": \"parcoords\"}], \"pie\": [{\"automargin\": true, \"type\": \"pie\"}], \"scatter\": [{\"marker\": {\"colorbar\": {\"outlinewidth\": 0, \"ticks\": \"\"}}, \"type\": \"scatter\"}], \"scatter3d\": [{\"line\": {\"colorbar\": {\"outlinewidth\": 0, \"ticks\": \"\"}}, \"marker\": {\"colorbar\": {\"outlinewidth\": 0, \"ticks\": \"\"}}, \"type\": \"scatter3d\"}], \"scattercarpet\": [{\"marker\": {\"colorbar\": {\"outlinewidth\": 0, \"ticks\": \"\"}}, \"type\": \"scattercarpet\"}], \"scattergeo\": [{\"marker\": {\"colorbar\": {\"outlinewidth\": 0, \"ticks\": \"\"}}, \"type\": \"scattergeo\"}], \"scattergl\": [{\"marker\": {\"colorbar\": {\"outlinewidth\": 0, \"ticks\": \"\"}}, \"type\": \"scattergl\"}], \"scattermapbox\": [{\"marker\": {\"colorbar\": {\"outlinewidth\": 0, \"ticks\": \"\"}}, \"type\": \"scattermapbox\"}], \"scatterpolar\": [{\"marker\": {\"colorbar\": {\"outlinewidth\": 0, \"ticks\": \"\"}}, \"type\": \"scatterpolar\"}], \"scatterpolargl\": [{\"marker\": {\"colorbar\": {\"outlinewidth\": 0, \"ticks\": \"\"}}, \"type\": \"scatterpolargl\"}], \"scatterternary\": [{\"marker\": {\"colorbar\": {\"outlinewidth\": 0, \"ticks\": \"\"}}, \"type\": \"scatterternary\"}], \"surface\": [{\"colorbar\": {\"outlinewidth\": 0, \"ticks\": \"\"}, \"colorscale\": [[0.0, \"#0d0887\"], [0.1111111111111111, \"#46039f\"], [0.2222222222222222, \"#7201a8\"], [0.3333333333333333, \"#9c179e\"], [0.4444444444444444, \"#bd3786\"], [0.5555555555555556, \"#d8576b\"], [0.6666666666666666, \"#ed7953\"], [0.7777777777777778, \"#fb9f3a\"], [0.8888888888888888, \"#fdca26\"], [1.0, \"#f0f921\"]], \"type\": \"surface\"}], \"table\": [{\"cells\": {\"fill\": {\"color\": \"#EBF0F8\"}, \"line\": {\"color\": \"white\"}}, \"header\": {\"fill\": {\"color\": \"#C8D4E3\"}, \"line\": {\"color\": \"white\"}}, \"type\": \"table\"}]}, \"layout\": {\"annotationdefaults\": {\"arrowcolor\": \"#2a3f5f\", \"arrowhead\": 0, \"arrowwidth\": 1}, \"coloraxis\": {\"colorbar\": {\"outlinewidth\": 0, \"ticks\": \"\"}}, \"colorscale\": {\"diverging\": [[0, \"#8e0152\"], [0.1, \"#c51b7d\"], [0.2, \"#de77ae\"], [0.3, \"#f1b6da\"], [0.4, \"#fde0ef\"], [0.5, \"#f7f7f7\"], [0.6, \"#e6f5d0\"], [0.7, \"#b8e186\"], [0.8, \"#7fbc41\"], [0.9, \"#4d9221\"], [1, \"#276419\"]], \"sequential\": [[0.0, \"#0d0887\"], [0.1111111111111111, \"#46039f\"], [0.2222222222222222, \"#7201a8\"], [0.3333333333333333, \"#9c179e\"], [0.4444444444444444, \"#bd3786\"], [0.5555555555555556, \"#d8576b\"], [0.6666666666666666, \"#ed7953\"], [0.7777777777777778, \"#fb9f3a\"], [0.8888888888888888, \"#fdca26\"], [1.0, \"#f0f921\"]], \"sequentialminus\": [[0.0, \"#0d0887\"], [0.1111111111111111, \"#46039f\"], [0.2222222222222222, \"#7201a8\"], [0.3333333333333333, \"#9c179e\"], [0.4444444444444444, \"#bd3786\"], [0.5555555555555556, \"#d8576b\"], [0.6666666666666666, \"#ed7953\"], [0.7777777777777778, \"#fb9f3a\"], [0.8888888888888888, \"#fdca26\"], [1.0, \"#f0f921\"]]}, \"colorway\": [\"#636efa\", \"#EF553B\", \"#00cc96\", \"#ab63fa\", \"#FFA15A\", \"#19d3f3\", \"#FF6692\", \"#B6E880\", \"#FF97FF\", \"#FECB52\"], \"font\": {\"color\": \"#2a3f5f\"}, \"geo\": {\"bgcolor\": \"white\", \"lakecolor\": \"white\", \"landcolor\": \"#E5ECF6\", \"showlakes\": true, \"showland\": true, \"subunitcolor\": \"white\"}, \"hoverlabel\": {\"align\": \"left\"}, \"hovermode\": \"closest\", \"mapbox\": {\"style\": \"light\"}, \"paper_bgcolor\": \"white\", \"plot_bgcolor\": \"#E5ECF6\", \"polar\": {\"angularaxis\": {\"gridcolor\": \"white\", \"linecolor\": \"white\", \"ticks\": \"\"}, \"bgcolor\": \"#E5ECF6\", \"radialaxis\": {\"gridcolor\": \"white\", \"linecolor\": \"white\", \"ticks\": \"\"}}, \"scene\": {\"xaxis\": {\"backgroundcolor\": \"#E5ECF6\", \"gridcolor\": \"white\", \"gridwidth\": 2, \"linecolor\": \"white\", \"showbackground\": true, \"ticks\": \"\", \"zerolinecolor\": \"white\"}, \"yaxis\": {\"backgroundcolor\": \"#E5ECF6\", \"gridcolor\": \"white\", \"gridwidth\": 2, \"linecolor\": \"white\", \"showbackground\": true, \"ticks\": \"\", \"zerolinecolor\": \"white\"}, \"zaxis\": {\"backgroundcolor\": \"#E5ECF6\", \"gridcolor\": \"white\", \"gridwidth\": 2, \"linecolor\": \"white\", \"showbackground\": true, \"ticks\": \"\", \"zerolinecolor\": \"white\"}}, \"shapedefaults\": {\"line\": {\"color\": \"#2a3f5f\"}}, \"ternary\": {\"aaxis\": {\"gridcolor\": \"white\", \"linecolor\": \"white\", \"ticks\": \"\"}, \"baxis\": {\"gridcolor\": \"white\", \"linecolor\": \"white\", \"ticks\": \"\"}, \"bgcolor\": \"#E5ECF6\", \"caxis\": {\"gridcolor\": \"white\", \"linecolor\": \"white\", \"ticks\": \"\"}}, \"title\": {\"x\": 0.05}, \"xaxis\": {\"automargin\": true, \"gridcolor\": \"white\", \"linecolor\": \"white\", \"ticks\": \"\", \"title\": {\"standoff\": 15}, \"zerolinecolor\": \"white\", \"zerolinewidth\": 2}, \"yaxis\": {\"automargin\": true, \"gridcolor\": \"white\", \"linecolor\": \"white\", \"ticks\": \"\", \"title\": {\"standoff\": 15}, \"zerolinecolor\": \"white\", \"zerolinewidth\": 2}}}, \"title\": {\"text\": \"LC OzESI Intensity\"}, \"xaxis\": {\"anchor\": \"y\", \"domain\": [0.0, 1.0], \"title\": {\"text\": \"Transition\"}}, \"yaxis\": {\"anchor\": \"x\", \"domain\": [0.0, 1.0], \"title\": {\"text\": \"Intensity_OzESI\"}}},                        {\"responsive\": true}                    ).then(function(){\n",
       "                            \n",
       "var gd = document.getElementById('d3c2c206-5067-4fd7-8bc8-ce71e1056350');\n",
       "var x = new MutationObserver(function (mutations, observer) {{\n",
       "        var display = window.getComputedStyle(gd).display;\n",
       "        if (!display || display === 'none') {{\n",
       "            console.log([gd, 'removed!']);\n",
       "            Plotly.purge(gd);\n",
       "            observer.disconnect();\n",
       "        }}\n",
       "}});\n",
       "\n",
       "// Listen for the removal of the full notebook cells\n",
       "var notebookContainer = gd.closest('#notebook-container');\n",
       "if (notebookContainer) {{\n",
       "    x.observe(notebookContainer, {childList: true});\n",
       "}}\n",
       "\n",
       "// Listen for the clearing of the current output cell\n",
       "var outputEl = gd.closest('.output');\n",
       "if (outputEl) {{\n",
       "    x.observe(outputEl, {childList: true});\n",
       "}}\n",
       "\n",
       "                        })                };                });            </script>        </div>"
      ]
     },
     "metadata": {},
     "output_type": "display_data"
    },
    {
     "data": {
      "application/vnd.plotly.v1+json": {
       "config": {
        "plotlyServerURL": "https://plot.ly"
       },
       "data": [
        {
         "colorscale": [
          [
           0,
           "#440154"
          ],
          [
           0.1111111111111111,
           "#482878"
          ],
          [
           0.2222222222222222,
           "#3e4989"
          ],
          [
           0.3333333333333333,
           "#31688e"
          ],
          [
           0.4444444444444444,
           "#26828e"
          ],
          [
           0.5555555555555556,
           "#1f9e89"
          ],
          [
           0.6666666666666666,
           "#35b779"
          ],
          [
           0.7777777777777778,
           "#6ece58"
          ],
          [
           0.8888888888888888,
           "#b5de2b"
          ],
          [
           1,
           "#fde725"
          ]
         ],
         "type": "heatmap",
         "x": [
          "[TG(53:9),TG(52:2)]_FA18:1",
          "[TG(54:5)]_FA18:1",
          "[TG(55:11),TG(54:4)]_FA18:1",
          "[TG(55:10),TG(54:3)]_FA18:1",
          "[TG(55:9),TG(54:2)]_FA18:1"
         ],
         "y": [
          "TAG",
          "TAG",
          "TAG",
          "TAG",
          "TAG"
         ],
         "z": [
          26769009,
          12535827,
          14229465,
          34867382,
          12858486
         ]
        }
       ],
       "layout": {
        "template": {
         "data": {
          "bar": [
           {
            "error_x": {
             "color": "#2a3f5f"
            },
            "error_y": {
             "color": "#2a3f5f"
            },
            "marker": {
             "line": {
              "color": "#E5ECF6",
              "width": 0.5
             }
            },
            "type": "bar"
           }
          ],
          "barpolar": [
           {
            "marker": {
             "line": {
              "color": "#E5ECF6",
              "width": 0.5
             }
            },
            "type": "barpolar"
           }
          ],
          "carpet": [
           {
            "aaxis": {
             "endlinecolor": "#2a3f5f",
             "gridcolor": "white",
             "linecolor": "white",
             "minorgridcolor": "white",
             "startlinecolor": "#2a3f5f"
            },
            "baxis": {
             "endlinecolor": "#2a3f5f",
             "gridcolor": "white",
             "linecolor": "white",
             "minorgridcolor": "white",
             "startlinecolor": "#2a3f5f"
            },
            "type": "carpet"
           }
          ],
          "choropleth": [
           {
            "colorbar": {
             "outlinewidth": 0,
             "ticks": ""
            },
            "type": "choropleth"
           }
          ],
          "contour": [
           {
            "colorbar": {
             "outlinewidth": 0,
             "ticks": ""
            },
            "colorscale": [
             [
              0,
              "#0d0887"
             ],
             [
              0.1111111111111111,
              "#46039f"
             ],
             [
              0.2222222222222222,
              "#7201a8"
             ],
             [
              0.3333333333333333,
              "#9c179e"
             ],
             [
              0.4444444444444444,
              "#bd3786"
             ],
             [
              0.5555555555555556,
              "#d8576b"
             ],
             [
              0.6666666666666666,
              "#ed7953"
             ],
             [
              0.7777777777777778,
              "#fb9f3a"
             ],
             [
              0.8888888888888888,
              "#fdca26"
             ],
             [
              1,
              "#f0f921"
             ]
            ],
            "type": "contour"
           }
          ],
          "contourcarpet": [
           {
            "colorbar": {
             "outlinewidth": 0,
             "ticks": ""
            },
            "type": "contourcarpet"
           }
          ],
          "heatmap": [
           {
            "colorbar": {
             "outlinewidth": 0,
             "ticks": ""
            },
            "colorscale": [
             [
              0,
              "#0d0887"
             ],
             [
              0.1111111111111111,
              "#46039f"
             ],
             [
              0.2222222222222222,
              "#7201a8"
             ],
             [
              0.3333333333333333,
              "#9c179e"
             ],
             [
              0.4444444444444444,
              "#bd3786"
             ],
             [
              0.5555555555555556,
              "#d8576b"
             ],
             [
              0.6666666666666666,
              "#ed7953"
             ],
             [
              0.7777777777777778,
              "#fb9f3a"
             ],
             [
              0.8888888888888888,
              "#fdca26"
             ],
             [
              1,
              "#f0f921"
             ]
            ],
            "type": "heatmap"
           }
          ],
          "heatmapgl": [
           {
            "colorbar": {
             "outlinewidth": 0,
             "ticks": ""
            },
            "colorscale": [
             [
              0,
              "#0d0887"
             ],
             [
              0.1111111111111111,
              "#46039f"
             ],
             [
              0.2222222222222222,
              "#7201a8"
             ],
             [
              0.3333333333333333,
              "#9c179e"
             ],
             [
              0.4444444444444444,
              "#bd3786"
             ],
             [
              0.5555555555555556,
              "#d8576b"
             ],
             [
              0.6666666666666666,
              "#ed7953"
             ],
             [
              0.7777777777777778,
              "#fb9f3a"
             ],
             [
              0.8888888888888888,
              "#fdca26"
             ],
             [
              1,
              "#f0f921"
             ]
            ],
            "type": "heatmapgl"
           }
          ],
          "histogram": [
           {
            "marker": {
             "colorbar": {
              "outlinewidth": 0,
              "ticks": ""
             }
            },
            "type": "histogram"
           }
          ],
          "histogram2d": [
           {
            "colorbar": {
             "outlinewidth": 0,
             "ticks": ""
            },
            "colorscale": [
             [
              0,
              "#0d0887"
             ],
             [
              0.1111111111111111,
              "#46039f"
             ],
             [
              0.2222222222222222,
              "#7201a8"
             ],
             [
              0.3333333333333333,
              "#9c179e"
             ],
             [
              0.4444444444444444,
              "#bd3786"
             ],
             [
              0.5555555555555556,
              "#d8576b"
             ],
             [
              0.6666666666666666,
              "#ed7953"
             ],
             [
              0.7777777777777778,
              "#fb9f3a"
             ],
             [
              0.8888888888888888,
              "#fdca26"
             ],
             [
              1,
              "#f0f921"
             ]
            ],
            "type": "histogram2d"
           }
          ],
          "histogram2dcontour": [
           {
            "colorbar": {
             "outlinewidth": 0,
             "ticks": ""
            },
            "colorscale": [
             [
              0,
              "#0d0887"
             ],
             [
              0.1111111111111111,
              "#46039f"
             ],
             [
              0.2222222222222222,
              "#7201a8"
             ],
             [
              0.3333333333333333,
              "#9c179e"
             ],
             [
              0.4444444444444444,
              "#bd3786"
             ],
             [
              0.5555555555555556,
              "#d8576b"
             ],
             [
              0.6666666666666666,
              "#ed7953"
             ],
             [
              0.7777777777777778,
              "#fb9f3a"
             ],
             [
              0.8888888888888888,
              "#fdca26"
             ],
             [
              1,
              "#f0f921"
             ]
            ],
            "type": "histogram2dcontour"
           }
          ],
          "mesh3d": [
           {
            "colorbar": {
             "outlinewidth": 0,
             "ticks": ""
            },
            "type": "mesh3d"
           }
          ],
          "parcoords": [
           {
            "line": {
             "colorbar": {
              "outlinewidth": 0,
              "ticks": ""
             }
            },
            "type": "parcoords"
           }
          ],
          "pie": [
           {
            "automargin": true,
            "type": "pie"
           }
          ],
          "scatter": [
           {
            "marker": {
             "colorbar": {
              "outlinewidth": 0,
              "ticks": ""
             }
            },
            "type": "scatter"
           }
          ],
          "scatter3d": [
           {
            "line": {
             "colorbar": {
              "outlinewidth": 0,
              "ticks": ""
             }
            },
            "marker": {
             "colorbar": {
              "outlinewidth": 0,
              "ticks": ""
             }
            },
            "type": "scatter3d"
           }
          ],
          "scattercarpet": [
           {
            "marker": {
             "colorbar": {
              "outlinewidth": 0,
              "ticks": ""
             }
            },
            "type": "scattercarpet"
           }
          ],
          "scattergeo": [
           {
            "marker": {
             "colorbar": {
              "outlinewidth": 0,
              "ticks": ""
             }
            },
            "type": "scattergeo"
           }
          ],
          "scattergl": [
           {
            "marker": {
             "colorbar": {
              "outlinewidth": 0,
              "ticks": ""
             }
            },
            "type": "scattergl"
           }
          ],
          "scattermapbox": [
           {
            "marker": {
             "colorbar": {
              "outlinewidth": 0,
              "ticks": ""
             }
            },
            "type": "scattermapbox"
           }
          ],
          "scatterpolar": [
           {
            "marker": {
             "colorbar": {
              "outlinewidth": 0,
              "ticks": ""
             }
            },
            "type": "scatterpolar"
           }
          ],
          "scatterpolargl": [
           {
            "marker": {
             "colorbar": {
              "outlinewidth": 0,
              "ticks": ""
             }
            },
            "type": "scatterpolargl"
           }
          ],
          "scatterternary": [
           {
            "marker": {
             "colorbar": {
              "outlinewidth": 0,
              "ticks": ""
             }
            },
            "type": "scatterternary"
           }
          ],
          "surface": [
           {
            "colorbar": {
             "outlinewidth": 0,
             "ticks": ""
            },
            "colorscale": [
             [
              0,
              "#0d0887"
             ],
             [
              0.1111111111111111,
              "#46039f"
             ],
             [
              0.2222222222222222,
              "#7201a8"
             ],
             [
              0.3333333333333333,
              "#9c179e"
             ],
             [
              0.4444444444444444,
              "#bd3786"
             ],
             [
              0.5555555555555556,
              "#d8576b"
             ],
             [
              0.6666666666666666,
              "#ed7953"
             ],
             [
              0.7777777777777778,
              "#fb9f3a"
             ],
             [
              0.8888888888888888,
              "#fdca26"
             ],
             [
              1,
              "#f0f921"
             ]
            ],
            "type": "surface"
           }
          ],
          "table": [
           {
            "cells": {
             "fill": {
              "color": "#EBF0F8"
             },
             "line": {
              "color": "white"
             }
            },
            "header": {
             "fill": {
              "color": "#C8D4E3"
             },
             "line": {
              "color": "white"
             }
            },
            "type": "table"
           }
          ]
         },
         "layout": {
          "annotationdefaults": {
           "arrowcolor": "#2a3f5f",
           "arrowhead": 0,
           "arrowwidth": 1
          },
          "coloraxis": {
           "colorbar": {
            "outlinewidth": 0,
            "ticks": ""
           }
          },
          "colorscale": {
           "diverging": [
            [
             0,
             "#8e0152"
            ],
            [
             0.1,
             "#c51b7d"
            ],
            [
             0.2,
             "#de77ae"
            ],
            [
             0.3,
             "#f1b6da"
            ],
            [
             0.4,
             "#fde0ef"
            ],
            [
             0.5,
             "#f7f7f7"
            ],
            [
             0.6,
             "#e6f5d0"
            ],
            [
             0.7,
             "#b8e186"
            ],
            [
             0.8,
             "#7fbc41"
            ],
            [
             0.9,
             "#4d9221"
            ],
            [
             1,
             "#276419"
            ]
           ],
           "sequential": [
            [
             0,
             "#0d0887"
            ],
            [
             0.1111111111111111,
             "#46039f"
            ],
            [
             0.2222222222222222,
             "#7201a8"
            ],
            [
             0.3333333333333333,
             "#9c179e"
            ],
            [
             0.4444444444444444,
             "#bd3786"
            ],
            [
             0.5555555555555556,
             "#d8576b"
            ],
            [
             0.6666666666666666,
             "#ed7953"
            ],
            [
             0.7777777777777778,
             "#fb9f3a"
            ],
            [
             0.8888888888888888,
             "#fdca26"
            ],
            [
             1,
             "#f0f921"
            ]
           ],
           "sequentialminus": [
            [
             0,
             "#0d0887"
            ],
            [
             0.1111111111111111,
             "#46039f"
            ],
            [
             0.2222222222222222,
             "#7201a8"
            ],
            [
             0.3333333333333333,
             "#9c179e"
            ],
            [
             0.4444444444444444,
             "#bd3786"
            ],
            [
             0.5555555555555556,
             "#d8576b"
            ],
            [
             0.6666666666666666,
             "#ed7953"
            ],
            [
             0.7777777777777778,
             "#fb9f3a"
            ],
            [
             0.8888888888888888,
             "#fdca26"
            ],
            [
             1,
             "#f0f921"
            ]
           ]
          },
          "colorway": [
           "#636efa",
           "#EF553B",
           "#00cc96",
           "#ab63fa",
           "#FFA15A",
           "#19d3f3",
           "#FF6692",
           "#B6E880",
           "#FF97FF",
           "#FECB52"
          ],
          "font": {
           "color": "#2a3f5f"
          },
          "geo": {
           "bgcolor": "white",
           "lakecolor": "white",
           "landcolor": "#E5ECF6",
           "showlakes": true,
           "showland": true,
           "subunitcolor": "white"
          },
          "hoverlabel": {
           "align": "left"
          },
          "hovermode": "closest",
          "mapbox": {
           "style": "light"
          },
          "paper_bgcolor": "white",
          "plot_bgcolor": "#E5ECF6",
          "polar": {
           "angularaxis": {
            "gridcolor": "white",
            "linecolor": "white",
            "ticks": ""
           },
           "bgcolor": "#E5ECF6",
           "radialaxis": {
            "gridcolor": "white",
            "linecolor": "white",
            "ticks": ""
           }
          },
          "scene": {
           "xaxis": {
            "backgroundcolor": "#E5ECF6",
            "gridcolor": "white",
            "gridwidth": 2,
            "linecolor": "white",
            "showbackground": true,
            "ticks": "",
            "zerolinecolor": "white"
           },
           "yaxis": {
            "backgroundcolor": "#E5ECF6",
            "gridcolor": "white",
            "gridwidth": 2,
            "linecolor": "white",
            "showbackground": true,
            "ticks": "",
            "zerolinecolor": "white"
           },
           "zaxis": {
            "backgroundcolor": "#E5ECF6",
            "gridcolor": "white",
            "gridwidth": 2,
            "linecolor": "white",
            "showbackground": true,
            "ticks": "",
            "zerolinecolor": "white"
           }
          },
          "shapedefaults": {
           "line": {
            "color": "#2a3f5f"
           }
          },
          "ternary": {
           "aaxis": {
            "gridcolor": "white",
            "linecolor": "white",
            "ticks": ""
           },
           "baxis": {
            "gridcolor": "white",
            "linecolor": "white",
            "ticks": ""
           },
           "bgcolor": "#E5ECF6",
           "caxis": {
            "gridcolor": "white",
            "linecolor": "white",
            "ticks": ""
           }
          },
          "title": {
           "x": 0.05
          },
          "xaxis": {
           "automargin": true,
           "gridcolor": "white",
           "linecolor": "white",
           "ticks": "",
           "title": {
            "standoff": 15
           },
           "zerolinecolor": "white",
           "zerolinewidth": 2
          },
          "yaxis": {
           "automargin": true,
           "gridcolor": "white",
           "linecolor": "white",
           "ticks": "",
           "title": {
            "standoff": 15
           },
           "zerolinecolor": "white",
           "zerolinewidth": 2
          }
         }
        }
       }
      },
      "text/html": [
       "<div>                            <div id=\"dcd05377-a69b-412d-bb9f-07e098ecc13a\" class=\"plotly-graph-div\" style=\"height:525px; width:100%;\"></div>            <script type=\"text/javascript\">                require([\"plotly\"], function(Plotly) {                    window.PLOTLYENV=window.PLOTLYENV || {};                                    if (document.getElementById(\"dcd05377-a69b-412d-bb9f-07e098ecc13a\")) {                    Plotly.newPlot(                        \"dcd05377-a69b-412d-bb9f-07e098ecc13a\",                        [{\"colorscale\": [[0.0, \"#440154\"], [0.1111111111111111, \"#482878\"], [0.2222222222222222, \"#3e4989\"], [0.3333333333333333, \"#31688e\"], [0.4444444444444444, \"#26828e\"], [0.5555555555555556, \"#1f9e89\"], [0.6666666666666666, \"#35b779\"], [0.7777777777777778, \"#6ece58\"], [0.8888888888888888, \"#b5de2b\"], [1.0, \"#fde725\"]], \"type\": \"heatmap\", \"x\": [\"[TG(53:9),TG(52:2)]_FA18:1\", \"[TG(54:5)]_FA18:1\", \"[TG(55:11),TG(54:4)]_FA18:1\", \"[TG(55:10),TG(54:3)]_FA18:1\", \"[TG(55:9),TG(54:2)]_FA18:1\"], \"y\": [\"TAG\", \"TAG\", \"TAG\", \"TAG\", \"TAG\"], \"z\": [26769009.0, 12535827.0, 14229465.0, 34867382.0, 12858486.0]}],                        {\"template\": {\"data\": {\"bar\": [{\"error_x\": {\"color\": \"#2a3f5f\"}, \"error_y\": {\"color\": \"#2a3f5f\"}, \"marker\": {\"line\": {\"color\": \"#E5ECF6\", \"width\": 0.5}}, \"type\": \"bar\"}], \"barpolar\": [{\"marker\": {\"line\": {\"color\": \"#E5ECF6\", \"width\": 0.5}}, \"type\": \"barpolar\"}], \"carpet\": [{\"aaxis\": {\"endlinecolor\": \"#2a3f5f\", \"gridcolor\": \"white\", \"linecolor\": \"white\", \"minorgridcolor\": \"white\", \"startlinecolor\": \"#2a3f5f\"}, \"baxis\": {\"endlinecolor\": \"#2a3f5f\", \"gridcolor\": \"white\", \"linecolor\": \"white\", \"minorgridcolor\": \"white\", \"startlinecolor\": \"#2a3f5f\"}, \"type\": \"carpet\"}], \"choropleth\": [{\"colorbar\": {\"outlinewidth\": 0, \"ticks\": \"\"}, \"type\": \"choropleth\"}], \"contour\": [{\"colorbar\": {\"outlinewidth\": 0, \"ticks\": \"\"}, \"colorscale\": [[0.0, \"#0d0887\"], [0.1111111111111111, \"#46039f\"], [0.2222222222222222, \"#7201a8\"], [0.3333333333333333, \"#9c179e\"], [0.4444444444444444, \"#bd3786\"], [0.5555555555555556, \"#d8576b\"], [0.6666666666666666, \"#ed7953\"], [0.7777777777777778, \"#fb9f3a\"], [0.8888888888888888, \"#fdca26\"], [1.0, \"#f0f921\"]], \"type\": \"contour\"}], \"contourcarpet\": [{\"colorbar\": {\"outlinewidth\": 0, \"ticks\": \"\"}, \"type\": \"contourcarpet\"}], \"heatmap\": [{\"colorbar\": {\"outlinewidth\": 0, \"ticks\": \"\"}, \"colorscale\": [[0.0, \"#0d0887\"], [0.1111111111111111, \"#46039f\"], [0.2222222222222222, \"#7201a8\"], [0.3333333333333333, \"#9c179e\"], [0.4444444444444444, \"#bd3786\"], [0.5555555555555556, \"#d8576b\"], [0.6666666666666666, \"#ed7953\"], [0.7777777777777778, \"#fb9f3a\"], [0.8888888888888888, \"#fdca26\"], [1.0, \"#f0f921\"]], \"type\": \"heatmap\"}], \"heatmapgl\": [{\"colorbar\": {\"outlinewidth\": 0, \"ticks\": \"\"}, \"colorscale\": [[0.0, \"#0d0887\"], [0.1111111111111111, \"#46039f\"], [0.2222222222222222, \"#7201a8\"], [0.3333333333333333, \"#9c179e\"], [0.4444444444444444, \"#bd3786\"], [0.5555555555555556, \"#d8576b\"], [0.6666666666666666, \"#ed7953\"], [0.7777777777777778, \"#fb9f3a\"], [0.8888888888888888, \"#fdca26\"], [1.0, \"#f0f921\"]], \"type\": \"heatmapgl\"}], \"histogram\": [{\"marker\": {\"colorbar\": {\"outlinewidth\": 0, \"ticks\": \"\"}}, \"type\": \"histogram\"}], \"histogram2d\": [{\"colorbar\": {\"outlinewidth\": 0, \"ticks\": \"\"}, \"colorscale\": [[0.0, \"#0d0887\"], [0.1111111111111111, \"#46039f\"], [0.2222222222222222, \"#7201a8\"], [0.3333333333333333, \"#9c179e\"], [0.4444444444444444, \"#bd3786\"], [0.5555555555555556, \"#d8576b\"], [0.6666666666666666, \"#ed7953\"], [0.7777777777777778, \"#fb9f3a\"], [0.8888888888888888, \"#fdca26\"], [1.0, \"#f0f921\"]], \"type\": \"histogram2d\"}], \"histogram2dcontour\": [{\"colorbar\": {\"outlinewidth\": 0, \"ticks\": \"\"}, \"colorscale\": [[0.0, \"#0d0887\"], [0.1111111111111111, \"#46039f\"], [0.2222222222222222, \"#7201a8\"], [0.3333333333333333, \"#9c179e\"], [0.4444444444444444, \"#bd3786\"], [0.5555555555555556, \"#d8576b\"], [0.6666666666666666, \"#ed7953\"], [0.7777777777777778, \"#fb9f3a\"], [0.8888888888888888, \"#fdca26\"], [1.0, \"#f0f921\"]], \"type\": \"histogram2dcontour\"}], \"mesh3d\": [{\"colorbar\": {\"outlinewidth\": 0, \"ticks\": \"\"}, \"type\": \"mesh3d\"}], \"parcoords\": [{\"line\": {\"colorbar\": {\"outlinewidth\": 0, \"ticks\": \"\"}}, \"type\": \"parcoords\"}], \"pie\": [{\"automargin\": true, \"type\": \"pie\"}], \"scatter\": [{\"marker\": {\"colorbar\": {\"outlinewidth\": 0, \"ticks\": \"\"}}, \"type\": \"scatter\"}], \"scatter3d\": [{\"line\": {\"colorbar\": {\"outlinewidth\": 0, \"ticks\": \"\"}}, \"marker\": {\"colorbar\": {\"outlinewidth\": 0, \"ticks\": \"\"}}, \"type\": \"scatter3d\"}], \"scattercarpet\": [{\"marker\": {\"colorbar\": {\"outlinewidth\": 0, \"ticks\": \"\"}}, \"type\": \"scattercarpet\"}], \"scattergeo\": [{\"marker\": {\"colorbar\": {\"outlinewidth\": 0, \"ticks\": \"\"}}, \"type\": \"scattergeo\"}], \"scattergl\": [{\"marker\": {\"colorbar\": {\"outlinewidth\": 0, \"ticks\": \"\"}}, \"type\": \"scattergl\"}], \"scattermapbox\": [{\"marker\": {\"colorbar\": {\"outlinewidth\": 0, \"ticks\": \"\"}}, \"type\": \"scattermapbox\"}], \"scatterpolar\": [{\"marker\": {\"colorbar\": {\"outlinewidth\": 0, \"ticks\": \"\"}}, \"type\": \"scatterpolar\"}], \"scatterpolargl\": [{\"marker\": {\"colorbar\": {\"outlinewidth\": 0, \"ticks\": \"\"}}, \"type\": \"scatterpolargl\"}], \"scatterternary\": [{\"marker\": {\"colorbar\": {\"outlinewidth\": 0, \"ticks\": \"\"}}, \"type\": \"scatterternary\"}], \"surface\": [{\"colorbar\": {\"outlinewidth\": 0, \"ticks\": \"\"}, \"colorscale\": [[0.0, \"#0d0887\"], [0.1111111111111111, \"#46039f\"], [0.2222222222222222, \"#7201a8\"], [0.3333333333333333, \"#9c179e\"], [0.4444444444444444, \"#bd3786\"], [0.5555555555555556, \"#d8576b\"], [0.6666666666666666, \"#ed7953\"], [0.7777777777777778, \"#fb9f3a\"], [0.8888888888888888, \"#fdca26\"], [1.0, \"#f0f921\"]], \"type\": \"surface\"}], \"table\": [{\"cells\": {\"fill\": {\"color\": \"#EBF0F8\"}, \"line\": {\"color\": \"white\"}}, \"header\": {\"fill\": {\"color\": \"#C8D4E3\"}, \"line\": {\"color\": \"white\"}}, \"type\": \"table\"}]}, \"layout\": {\"annotationdefaults\": {\"arrowcolor\": \"#2a3f5f\", \"arrowhead\": 0, \"arrowwidth\": 1}, \"coloraxis\": {\"colorbar\": {\"outlinewidth\": 0, \"ticks\": \"\"}}, \"colorscale\": {\"diverging\": [[0, \"#8e0152\"], [0.1, \"#c51b7d\"], [0.2, \"#de77ae\"], [0.3, \"#f1b6da\"], [0.4, \"#fde0ef\"], [0.5, \"#f7f7f7\"], [0.6, \"#e6f5d0\"], [0.7, \"#b8e186\"], [0.8, \"#7fbc41\"], [0.9, \"#4d9221\"], [1, \"#276419\"]], \"sequential\": [[0.0, \"#0d0887\"], [0.1111111111111111, \"#46039f\"], [0.2222222222222222, \"#7201a8\"], [0.3333333333333333, \"#9c179e\"], [0.4444444444444444, \"#bd3786\"], [0.5555555555555556, \"#d8576b\"], [0.6666666666666666, \"#ed7953\"], [0.7777777777777778, \"#fb9f3a\"], [0.8888888888888888, \"#fdca26\"], [1.0, \"#f0f921\"]], \"sequentialminus\": [[0.0, \"#0d0887\"], [0.1111111111111111, \"#46039f\"], [0.2222222222222222, \"#7201a8\"], [0.3333333333333333, \"#9c179e\"], [0.4444444444444444, \"#bd3786\"], [0.5555555555555556, \"#d8576b\"], [0.6666666666666666, \"#ed7953\"], [0.7777777777777778, \"#fb9f3a\"], [0.8888888888888888, \"#fdca26\"], [1.0, \"#f0f921\"]]}, \"colorway\": [\"#636efa\", \"#EF553B\", \"#00cc96\", \"#ab63fa\", \"#FFA15A\", \"#19d3f3\", \"#FF6692\", \"#B6E880\", \"#FF97FF\", \"#FECB52\"], \"font\": {\"color\": \"#2a3f5f\"}, \"geo\": {\"bgcolor\": \"white\", \"lakecolor\": \"white\", \"landcolor\": \"#E5ECF6\", \"showlakes\": true, \"showland\": true, \"subunitcolor\": \"white\"}, \"hoverlabel\": {\"align\": \"left\"}, \"hovermode\": \"closest\", \"mapbox\": {\"style\": \"light\"}, \"paper_bgcolor\": \"white\", \"plot_bgcolor\": \"#E5ECF6\", \"polar\": {\"angularaxis\": {\"gridcolor\": \"white\", \"linecolor\": \"white\", \"ticks\": \"\"}, \"bgcolor\": \"#E5ECF6\", \"radialaxis\": {\"gridcolor\": \"white\", \"linecolor\": \"white\", \"ticks\": \"\"}}, \"scene\": {\"xaxis\": {\"backgroundcolor\": \"#E5ECF6\", \"gridcolor\": \"white\", \"gridwidth\": 2, \"linecolor\": \"white\", \"showbackground\": true, \"ticks\": \"\", \"zerolinecolor\": \"white\"}, \"yaxis\": {\"backgroundcolor\": \"#E5ECF6\", \"gridcolor\": \"white\", \"gridwidth\": 2, \"linecolor\": \"white\", \"showbackground\": true, \"ticks\": \"\", \"zerolinecolor\": \"white\"}, \"zaxis\": {\"backgroundcolor\": \"#E5ECF6\", \"gridcolor\": \"white\", \"gridwidth\": 2, \"linecolor\": \"white\", \"showbackground\": true, \"ticks\": \"\", \"zerolinecolor\": \"white\"}}, \"shapedefaults\": {\"line\": {\"color\": \"#2a3f5f\"}}, \"ternary\": {\"aaxis\": {\"gridcolor\": \"white\", \"linecolor\": \"white\", \"ticks\": \"\"}, \"baxis\": {\"gridcolor\": \"white\", \"linecolor\": \"white\", \"ticks\": \"\"}, \"bgcolor\": \"#E5ECF6\", \"caxis\": {\"gridcolor\": \"white\", \"linecolor\": \"white\", \"ticks\": \"\"}}, \"title\": {\"x\": 0.05}, \"xaxis\": {\"automargin\": true, \"gridcolor\": \"white\", \"linecolor\": \"white\", \"ticks\": \"\", \"title\": {\"standoff\": 15}, \"zerolinecolor\": \"white\", \"zerolinewidth\": 2}, \"yaxis\": {\"automargin\": true, \"gridcolor\": \"white\", \"linecolor\": \"white\", \"ticks\": \"\", \"title\": {\"standoff\": 15}, \"zerolinecolor\": \"white\", \"zerolinewidth\": 2}}}},                        {\"responsive\": true}                    ).then(function(){\n",
       "                            \n",
       "var gd = document.getElementById('dcd05377-a69b-412d-bb9f-07e098ecc13a');\n",
       "var x = new MutationObserver(function (mutations, observer) {{\n",
       "        var display = window.getComputedStyle(gd).display;\n",
       "        if (!display || display === 'none') {{\n",
       "            console.log([gd, 'removed!']);\n",
       "            Plotly.purge(gd);\n",
       "            observer.disconnect();\n",
       "        }}\n",
       "}});\n",
       "\n",
       "// Listen for the removal of the full notebook cells\n",
       "var notebookContainer = gd.closest('#notebook-container');\n",
       "if (notebookContainer) {{\n",
       "    x.observe(notebookContainer, {childList: true});\n",
       "}}\n",
       "\n",
       "// Listen for the clearing of the current output cell\n",
       "var outputEl = gd.closest('.output');\n",
       "if (outputEl) {{\n",
       "    x.observe(outputEl, {childList: true});\n",
       "}}\n",
       "\n",
       "                        })                };                });            </script>        </div>"
      ]
     },
     "metadata": {},
     "output_type": "display_data"
    }
   ],
   "source": [
    "#plot transition versus intensity of df_matching\n",
    "fig = px.bar(df_matching, x=\"Transition\", y=\"Intensity\", color=\"Lipid\", hover_data=['Lipid','Class'])\n",
    "fig.update_layout(\n",
    "      title_text=\"MRM Intensity\")\n",
    "fig.show()\n",
    "\n",
    "#plot transition versus intensity of df_matching\n",
    "fig = px.bar(df_matching, x=\"Transition\", y=\"Intensity_OzESI\", color=\"Lipid\", hover_data=['Lipid','Class'])\n",
    "fig.update_layout(\n",
    "      title_text=\"LC OzESI Intensity\")\n",
    "\n",
    "fig.show()\n",
    "\n",
    "\n",
    "\n",
    "# #plot lipid class versus intensity of df_matching in a bar chart\n",
    "# fig = px.bar(df_matching, x=\"Class\", y=\"Intensity\", color=\"Class\", hover_data=['Lipid','Class'])\n",
    "# fig.show()\n",
    "# #plot lipid class versus intensity of df_matching in a pie chart\n",
    "# fig = px.pie(df_matching, values='Intensity', names='Class', title='Lipid Class')\n",
    "# fig.show()\n",
    "#make a plotly heatmap of the intensity of each transition in each sample\n",
    "fig = go.Figure(data=go.Heatmap(\n",
    "                     z=df_matching['Intensity'],\n",
    "                        x=df_matching['Lipid'],\n",
    "                        y=df_matching['Class'],\n",
    "                        colorscale='Viridis'))\n",
    "fig.show()\n",
    "\n",
    "# #plot sample ID versus intensity of df_matching\n",
    "# fig = px.bar(df_matching, x=\"Sample_ID\", y=\"Intensity\", color=\"Sample_ID\", hover_data=['Lipid','Class'])\n",
    "# fig.show()\n",
    "# #plot sample ID versus intensity of df_matching in a pie chart\n",
    "# fig = px.pie(df_matching, values='Intensity', names='Sample_ID', title='Sample ID')\n",
    "# fig.show()"
   ]
  },
  {
   "cell_type": "code",
   "execution_count": null,
   "metadata": {},
   "outputs": [],
   "source": []
  }
 ],
 "metadata": {
  "kernelspec": {
   "display_name": "pymzml",
   "language": "python",
   "name": "python3"
  },
  "language_info": {
   "codemirror_mode": {
    "name": "ipython",
    "version": 3
   },
   "file_extension": ".py",
   "mimetype": "text/x-python",
   "name": "python",
   "nbconvert_exporter": "python",
   "pygments_lexer": "ipython3",
   "version": "3.9.15"
  },
  "orig_nbformat": 4,
  "vscode": {
   "interpreter": {
    "hash": "7f59e923a9cab402a21ecdd8c8501a7d121113b28792a99acb445fcdcb4f42c3"
   }
  }
 },
 "nbformat": 4,
 "nbformat_minor": 2
}
