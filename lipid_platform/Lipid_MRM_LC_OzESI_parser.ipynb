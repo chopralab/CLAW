{
 "cells": [
  {
   "attachments": {},
   "cell_type": "markdown",
   "metadata": {},
   "source": [
    "# Automated Multiple Reaction Monitoring (MRM)-profiling and Ozone Electrospray Ionizaton (OzESI)-MRM Informatics Platform for High-throughput Lipidomics\n",
    "\n",
    "\n",
    "In this jupyter notebook you will automate the data analysis of the lipidome. This is a challenging problem to perform manually due to the diverse nature of lipids and the many potential isomers. In this notebook you will analyze mzML files containing data from lipid MRMs, with ozone off and ozone on. The goal is to identify possible double-bond locations in a lipid, in this case a TAG (triacylglycerols)."
   ]
  },
  {
   "cell_type": "code",
   "execution_count": 1,
   "metadata": {},
   "outputs": [],
   "source": [
    "from IPython.display import Image"
   ]
  },
  {
   "attachments": {},
   "cell_type": "markdown",
   "metadata": {},
   "source": [
    "![title](Figures/agilent_lcms.png)\n",
    "\n",
    "The examples shown here were run on an Agilent 6495C Triple Quadrupole LC/MS (example shown above) that has been connected to an ozone line (not shown in picture) for ozoneolysis of lipids."
   ]
  },
  {
   "attachments": {},
   "cell_type": "markdown",
   "metadata": {},
   "source": [
    "![title](Figures/TAG_example.png)\n",
    "Here is an example of a TAG. Notice how many possibilities there are for locations of one double-bond there could be and how convoluted the analysis can become! This image is obtained from LipidMaps.org"
   ]
  },
  {
   "attachments": {},
   "cell_type": "markdown",
   "metadata": {},
   "source": [
    "Import all necessary libraries"
   ]
  },
  {
   "cell_type": "code",
   "execution_count": 2,
   "metadata": {},
   "outputs": [
    {
     "name": "stdout",
     "output_type": "stream",
     "text": [
      "No module named 'ms_deisotope._c.averagine' averagine\n",
      "No module named 'ms_deisotope._c.scoring'\n",
      "No module named 'ms_deisotope._c.deconvoluter_base'\n",
      "No module named 'ms_deisotope._c.deconvoluter_base'\n",
      "No module named 'ms_deisotope._c.deconvoluter_base'\n"
     ]
    }
   ],
   "source": [
    "#Import all the necessary libraries\n",
    "import pymzml\n",
    "import csv\n",
    "import os\n",
    "import pandas as pd\n",
    "import numpy as np\n",
    "import math\n",
    "from matplotlib import pyplot as plt\n",
    "import re\n",
    "import plotly.express as px\n",
    "from collections import defaultdict\n",
    "\n"
   ]
  },
  {
   "cell_type": "code",
   "execution_count": 3,
   "metadata": {},
   "outputs": [],
   "source": [
    "###Importing Variables for all functions\n",
    "\n",
    "data_base_name_location = 'lipid_database/Lipid_Database.xlsx'####Lipid database with Standard Carnitines\n",
    "mzml_folder = './data_mzml/04-29-2023_mzml/test/'\n",
    "tolerance = 0.3\n",
    "remove_std = True\n",
    "\n",
    "# Example usage:\n",
    "folder_name_to_save = 'TEST_04-29-2023_v3'\n",
    "file_name_to_save = 'TEST_04-29-2023_v3'\n",
    "save_data= True\n",
    "\n",
    "\n",
    "\n"
   ]
  },
  {
   "attachments": {},
   "cell_type": "markdown",
   "metadata": {},
   "source": [
    "Lipid MRM Parsing and Matching Functions"
   ]
  },
  {
   "cell_type": "code",
   "execution_count": 6,
   "metadata": {
    "scrolled": true
   },
   "outputs": [],
   "source": [
    "\n",
    "###All functions\n",
    "\n",
    "#Function to read in MRM database\n",
    "#Option to remove STDs from database##Not finished need option to use another database with no qualitative ACs\n",
    "\n",
    "\n",
    "def read_mrm_list(filename,remove_std = True):\n",
    "    mrm_list_new = pd.read_excel(filename, sheet_name=None)\n",
    "    mrm_list_new = pd.concat(mrm_list_new, ignore_index=True)\n",
    "    mrm_list_offical = mrm_list_new[['Compound Name', 'Parent Ion', 'Product Ion', 'Class']]\n",
    "    # Add underscore to middle of columns names\n",
    "    mrm_list_offical.columns = mrm_list_offical.columns.str.replace(' ', '_')\n",
    "    # Round Parent Ion and Product Ion to 1 decimal place\n",
    "    mrm_list_offical['Parent_Ion'] = np.round(mrm_list_offical['Parent_Ion'],1)\n",
    "    mrm_list_offical['Product_Ion'] = np.round(mrm_list_offical['Product_Ion'],1)\n",
    "    # Create transition column by combining Parent Ion and Product Ion with arrow between numbers\n",
    "    mrm_list_offical['Transition'] = mrm_list_offical['Parent_Ion'].astype(str) + ' -> ' + mrm_list_offical['Product_Ion'].astype(str)\n",
    "    # Change column compound name to lipid\n",
    "    mrm_list_offical = mrm_list_offical.rename(columns={'Compound_Name': 'Lipid'})\n",
    "    # Make a column called Class match lipid column to lipid types\n",
    "    if remove_std == True:\n",
    "        lipid_class = mrm_list_offical['Class'].unique()\n",
    "        lipid_class_to_keep = ['PS','PG','CE','PC', 'DAG', 'PE', 'TAG', 'FA', 'Cer', 'CAR', 'PI','SM']\n",
    "        mrm_list_offical = mrm_list_offical[mrm_list_offical['Class'].isin(lipid_class_to_keep)]\n",
    "    return mrm_list_offical\n",
    "\n",
    "#OzESI\n",
    "OzESI_time = {}\n",
    "def mzml_parser(file_name):\n",
    "    df = pd.DataFrame(columns=['Lipid','Parent_Ion','Product_Ion','Intensity','Transition','Class','Sample_ID'])\n",
    "    data_folder = os.listdir(file_name) #Path to the mzml files\n",
    "    data_folder.sort()\n",
    "    path_to_mzml_files = file_name\n",
    "\n",
    "    \n",
    "    \n",
    "\n",
    "    for file in data_folder:\n",
    "            if file.endswith('.mzML'):\n",
    "\n",
    "                    run = pymzml.run.Reader(path_to_mzml_files+file, skip_chromatogram=False) #Load the mzml file into the run object\n",
    "\n",
    "\n",
    "\n",
    "                    df_all = pd.DataFrame(columns=['Lipid','Parent_Ion','Product_Ion','Intensity','Transition','Class','Sample_ID']) #Create empty pandas dataframe to store the data\n",
    "\n",
    "                    #create pandas dataframe to store the data with the columns Parent Ion, Product Ion, Intensity, Transition Lipid and Class\n",
    "                   \n",
    "                    q1_mz = 0 #Create empty variables to store the Q1 and Q3 m/z values\n",
    "                    q3_mz = 0\n",
    "                    count = 0 #Create a counter to keep track of the number of transitions\n",
    "                    for spectrum in run:\n",
    "                        if isinstance(spectrum, pymzml.spec.Chromatogram):\n",
    "                            for time, intensity in spectrum.peaks():\n",
    "                                OzESI_time[time] = np.round(intensity), q1_mz, q3_mz\n",
    "\n",
    "                            for element in spectrum.ID.split(' '):\n",
    "                                    intensity_store = np.array([])\n",
    "                                    if 'Q1' in element:\n",
    "                                            q1 = element.split('=')\n",
    "                                            q1_mz= np.round((float(q1[1])),1)\n",
    "\n",
    "                                    if 'Q3' in element:\n",
    "                                \n",
    "                                            q3 = element.split('=')\n",
    "  \n",
    "                                            q3_mz=np.round(float(q3[1]),1)\n",
    "\n",
    "\n",
    "                                            for mz,intensity in spectrum.peaks(): #Get the m/z and intensity values from the spectrum\n",
    "                                                    intensity_store = np.append(intensity_store,intensity) #Store the intensity values in an array\n",
    "\n",
    "\n",
    "\n",
    "                                    if 'Q3' in element:\n",
    "                                            # print(intensity_sum)\n",
    "                                            intensity_sum = np.sum(intensity_store) #Sum the intensity values\n",
    "                                            df_all.loc[count,'Parent_Ion'] = q1_mz #Store the Q1 and Q3 m/z values in the pandas dataframe\n",
    "                                            df_all.loc[count,'Product_Ion'] = q3_mz\n",
    "                                            #round the Q1 and Q3 m/z values to 1 decimal places\n",
    "                                            df_all.loc[count,'Parent_Ion'] = np.round(df_all.loc[count,'Parent_Ion'],1)\n",
    "                                            df_all.loc[count,'Product_Ion'] = np.round(df_all.loc[count,'Product_Ion'],1)\n",
    "                                            df_all.loc[count,'Intensity'] = intensity_sum #Store the intensity values in the pandas dataframe\n",
    "                                            df_all.loc[count,'Transition'] = str(q1_mz)+ ' -> '+ str(q3_mz) #Store the transition values in the pandas dataframe\n",
    "                                            #add file name to Sample_ID column without the mzmL extension\n",
    "                                            df_all.loc[count,'Sample_ID'] = file[:-5]\n",
    "                                            count+=1\n",
    "\n",
    "            #append df_all to df\n",
    "            df = df.append(df_all, ignore_index=True)\n",
    "    return df\n",
    "\n",
    "# Function to create an ion dictionary from an MRM database DataFrame\n",
    "def create_ion_dict(mrm_database):\n",
    "    ion_dict = defaultdict(list)\n",
    "    # Iterate through the rows of the MRM database DataFrame\n",
    "    for index, row in mrm_database.iterrows():\n",
    "        # Add a tuple with Lipid and Class to the ion dictionary using Parent_Ion and Product_Ion as the key\n",
    "        ion_dict[(row['Parent_Ion'], row['Product_Ion'])].append((row['Lipid'], row['Class']))\n",
    "    return ion_dict\n",
    "\n",
    "# Function to check if the absolute difference between two values is within a given tolerance\n",
    "def within_tolerance(a, b, tolerance=0.1):\n",
    "    return abs(a - b) <= tolerance\n",
    "\n",
    "# Function to match the ions in a DataFrame row with the ions in an ion dictionary\n",
    "def match_ions(row, ion_dict, tolerance=0.1):\n",
    "    ions = (row['Parent_Ion'], row['Product_Ion'])\n",
    "    matched_lipids = []\n",
    "    matched_classes = []\n",
    "\n",
    "    # Iterate through the ion dictionary\n",
    "    for key, value in ion_dict.items():\n",
    "        # Check if both the Parent_Ion and Product_Ion values are within the specified tolerance\n",
    "        if within_tolerance(ions[0], key[0], tolerance) and within_tolerance(ions[1], key[1], tolerance):\n",
    "            # If within tolerance, extend the matched_lipids and matched_classes lists with the corresponding values\n",
    "            matched_lipids.extend([match[0] for match in value])\n",
    "            matched_classes.extend([match[1] for match in value])\n",
    "\n",
    "    # If any matches were found, update the Lipid and Class columns in the row\n",
    "    if matched_lipids and matched_classes:\n",
    "        row['Lipid'] = ' | '.join(matched_lipids)\n",
    "        row['Class'] = ' | '.join(matched_classes)\n",
    "\n",
    "    return row\n",
    "\n",
    "####Combined functions for Matching\n",
    "\n",
    "def match_lipids_parser(mrm_database,df, tolerance=0.3):\n",
    "    ion_dict = create_ion_dict(mrm_database)\n",
    "    # Assuming you have the df DataFrame to apply the match_ions function\n",
    "    df_matched = df.apply(lambda row: match_ions(row, ion_dict=ion_dict, tolerance=tolerance), axis=1)\n",
    "\n",
    "\n",
    "    # df_matched = df_matched.dropna()\n",
    "    \n",
    "    return df_matched\n",
    "\n",
    "\n",
    "def save_dataframe(df, folder_name, file_name, max_attempts=5):\n",
    "    folder_path = f'data_results/data/data_matching/{folder_name}'\n",
    "    os.makedirs(folder_path, exist_ok=True)\n",
    "\n",
    "    for i in range(max_attempts):\n",
    "        file_path = f'{folder_path}/{file_name}.csv'\n",
    "        if not os.path.isfile(file_path):\n",
    "            df.to_csv(file_path, index=False)\n",
    "            print(f\"Saved DataFrame to {file_path}\")\n",
    "            break\n",
    "    else:\n",
    "        print(f\"Failed to save DataFrame after {max_attempts} attempts.\")\n",
    "        return None\n",
    "\n",
    "\n",
    "def full_parse(data_base_name_location,mzml_folder, folder_name_to_save, file_name_to_save,tolerance,remove_std = True,\n",
    "               save_data=False):\n",
    "    mrm_database = read_mrm_list(data_base_name_location,remove_std=remove_std)\n",
    "    df = mzml_parser(mzml_folder)\n",
    "    df_matched = match_lipids_parser(mrm_database,df, tolerance=tolerance)\n",
    "    \n",
    "    if save_data == True:\n",
    "        \n",
    "        save_dataframe(df_matched, folder_name_to_save, file_name_to_save)\n",
    "\n",
    "    return df_matched\n",
    "\n",
    "\n",
    "\n"
   ]
  },
  {
   "attachments": {},
   "cell_type": "markdown",
   "metadata": {},
   "source": [
    "Run all Lipid MRM functions"
   ]
  },
  {
   "cell_type": "code",
   "execution_count": 7,
   "metadata": {},
   "outputs": [
    {
     "name": "stderr",
     "output_type": "stream",
     "text": [
      "/tmp/ipykernel_25532/2674365659.py:14: SettingWithCopyWarning: \n",
      "A value is trying to be set on a copy of a slice from a DataFrame.\n",
      "Try using .loc[row_indexer,col_indexer] = value instead\n",
      "\n",
      "See the caveats in the documentation: https://pandas.pydata.org/pandas-docs/stable/user_guide/indexing.html#returning-a-view-versus-a-copy\n",
      "  mrm_list_offical['Parent_Ion'] = np.round(mrm_list_offical['Parent_Ion'],1)\n",
      "/tmp/ipykernel_25532/2674365659.py:15: SettingWithCopyWarning: \n",
      "A value is trying to be set on a copy of a slice from a DataFrame.\n",
      "Try using .loc[row_indexer,col_indexer] = value instead\n",
      "\n",
      "See the caveats in the documentation: https://pandas.pydata.org/pandas-docs/stable/user_guide/indexing.html#returning-a-view-versus-a-copy\n",
      "  mrm_list_offical['Product_Ion'] = np.round(mrm_list_offical['Product_Ion'],1)\n",
      "/tmp/ipykernel_25532/2674365659.py:17: SettingWithCopyWarning: \n",
      "A value is trying to be set on a copy of a slice from a DataFrame.\n",
      "Try using .loc[row_indexer,col_indexer] = value instead\n",
      "\n",
      "See the caveats in the documentation: https://pandas.pydata.org/pandas-docs/stable/user_guide/indexing.html#returning-a-view-versus-a-copy\n",
      "  mrm_list_offical['Transition'] = mrm_list_offical['Parent_Ion'].astype(str) + ' -> ' + mrm_list_offical['Product_Ion'].astype(str)\n",
      "/tmp/ipykernel_25532/2674365659.py:90: FutureWarning: The frame.append method is deprecated and will be removed from pandas in a future version. Use pandas.concat instead.\n",
      "  df = df.append(df_all, ignore_index=True)\n",
      "/tmp/ipykernel_25532/2674365659.py:90: FutureWarning: The frame.append method is deprecated and will be removed from pandas in a future version. Use pandas.concat instead.\n",
      "  df = df.append(df_all, ignore_index=True)\n",
      "/tmp/ipykernel_25532/2674365659.py:90: FutureWarning: The frame.append method is deprecated and will be removed from pandas in a future version. Use pandas.concat instead.\n",
      "  df = df.append(df_all, ignore_index=True)\n"
     ]
    },
    {
     "name": "stdout",
     "output_type": "stream",
     "text": [
      "Failed to save DataFrame after 5 attempts.\n"
     ]
    },
    {
     "name": "stderr",
     "output_type": "stream",
     "text": [
      "/tmp/ipykernel_25532/2674365659.py:90: FutureWarning: The frame.append method is deprecated and will be removed from pandas in a future version. Use pandas.concat instead.\n",
      "  df = df.append(df_all, ignore_index=True)\n"
     ]
    }
   ],
   "source": [
    "df_matched = full_parse(data_base_name_location,mzml_folder, folder_name_to_save, \n",
    "                        file_name_to_save,tolerance, remove_std = remove_std,save_data=save_data)\n",
    "\n"
   ]
  },
  {
   "attachments": {},
   "cell_type": "markdown",
   "metadata": {},
   "source": [
    "LC OzESI Lipid Parsing and Retention Time Functions"
   ]
  },
  {
   "cell_type": "code",
   "execution_count": 12,
   "metadata": {},
   "outputs": [],
   "source": [
    "\n",
    "\n",
    "def process_chromatogram(OzESI_time):\n",
    "    # Create dataframe from OzESI_time dictionary\n",
    "    OzESI_rt_df = pd.DataFrame(list(OzESI_time.items()), columns=['Retention_Time', 'intensity'])\n",
    "    \n",
    "    # Split intensity column into three columns intensity, Parent_Ion and Product_Ion\n",
    "    OzESI_rt_df[['intensity','Parent_Ion','Product_Ion']] = pd.DataFrame(OzESI_rt_df['intensity'].tolist(), index=OzESI_rt_df.index)\n",
    "    \n",
    "    # Round retention Retention_Time to 1 decimal place\n",
    "    OzESI_rt_df['Retention_Time'] = round(OzESI_rt_df['Retention_Time'], 2)\n",
    "    \n",
    "    \n",
    "    # Create a column called Transition with the Parent_Ion and Product_Ion\n",
    "    OzESI_rt_df['Transition'] = OzESI_rt_df['Parent_Ion'].astype(str) + ' -> ' + OzESI_rt_df['Product_Ion'].astype(str)\n",
    "    \n",
    "    # Sort dataframe by intensity, drop duplicates, and find the 10 largest values\n",
    "    OzESI_rt_df_sorted = OzESI_rt_df.sort_values(['intensity'], ascending=False).drop_duplicates(['Parent_Ion','Product_Ion']).sort_index()\n",
    "    OzESI_rt_df_top = OzESI_rt_df_sorted.nlargest(10, 'intensity')\n",
    "\n",
    "    print('OzESI 10 largest: \\n', OzESI_rt_df_top)\n",
    "    \n",
    "    # # Find peaks in the intensity column and plot the chromatogram\n",
    "    # peaks, _ = find_peaks(OzESI_rt_df['intensity'], height=0.5e5,distance=1000)\n",
    "    # plt.plot(OzESI_rt_df['Retention_Time'] ,OzESI_rt_df['intensity'])\n",
    "    # plt.plot(OzESI_rt_df.iloc[peaks]['Retention_Time'], OzESI_rt_df.iloc[peaks]['intensity'], \"x\")\n",
    "    # plt.ylabel('Intensity')\n",
    "    # plt.xlabel('Retention Time')\n",
    "    # plt.title('OzESI LC Chromatogram')\n",
    "    # plt.show()\n",
    "    \n",
    "    return OzESI_rt_df_top\n",
    "\n",
    "def add_rt_intensity(df, OzESI_rt_df_top):\n",
    "    # Create a dictionary to map transitions to retention times and intensities\n",
    "    transitions_to_rt = dict(zip(OzESI_rt_df_top['Transition'], OzESI_rt_df_top['Retention_Time']))\n",
    "    transitions_to_intensity = dict(zip(OzESI_rt_df_top['Transition'], OzESI_rt_df_top['intensity']))\n",
    "    \n",
    "    # Use the map function to add retention times and intensities to the dataframe\n",
    "    df['Retention_Time'] = df['Transition'].map(transitions_to_rt)\n",
    "    df['Intensity_OzESI'] = df['Transition'].map(transitions_to_intensity)\n",
    "    \n",
    "    return df\n",
    "\n",
    "def create_aldehyde_ion_dataframe():\n",
    "    # Create a pandas dataframe with columns for DB_Position and Aldehyde_Ion\n",
    "    df_OzESI = pd.DataFrame(columns=['DB_Position','Aldehyde_Ion'])\n",
    "\n",
    "    # Loop over the range of DB_Position values and calculate the corresponding Aldehyde_Ion values\n",
    "    for i in range(3, 21):\n",
    "        df_OzESI.loc[i,'DB_Position'] = i\n",
    "        df_OzESI.loc[i,'Aldehyde_Ion'] = 26 + (14 * (i-3))\n",
    "\n",
    "    # Print the first 25 rows of the dataframe\n",
    "    # print(df_OzESI.head(25))\n",
    "\n",
    "    # Return the dataframe\n",
    "    return df_OzESI\n",
    "\n",
    "OzESI_list = [3,5,7,9,11]\n",
    "def calculate_n_minus_values(df_matched, df_OzESI, OzESI_list=[3,5,7,9,11], starting_column=9, last_column=14):\n",
    "    \"\"\"\n",
    "    Given a pandas dataframe df and a dataframe df_OzESI containing DB_Position and Aldehyde_Ion values,\n",
    "    calculates the n-i values for each i in OzESI_list by subtracting the corresponding Aldehyde_Ion value\n",
    "    from the Parent_Ion column in df and storing the result in new columns named 'n-i' in df.\n",
    "    The starting_column and last_column parameters specify the range of columns in which the n-i values should be stored.\n",
    "    \"\"\"\n",
    "    # Create new columns in df for n-i values\n",
    "    for i in OzESI_list:\n",
    "        df_matched[f\"n-{i}\"] = df_matched[\"Parent_Ion\"] - df_OzESI.loc[df_OzESI[\"DB_Position\"] == i, \"Aldehyde_Ion\"].values[0]\n",
    "    \n",
    "    # Print the shape of the dataframe and return it\n",
    "    # print(df_matched.shape)\n",
    "    return df_matched\n",
    "\n",
    "\n",
    "# OzESI_rt_df_top = process_chromatogram(OzESI_time)\n"
   ]
  },
  {
   "attachments": {},
   "cell_type": "markdown",
   "metadata": {},
   "source": [
    "Pipeline to run all LC OzESI functions"
   ]
  },
  {
   "cell_type": "code",
   "execution_count": 13,
   "metadata": {},
   "outputs": [
    {
     "name": "stdout",
     "output_type": "stream",
     "text": [
      "OzESI 10 largest: \n",
      "         Retention_Time   intensity  Parent_Ion  Product_Ion      Transition\n",
      "50245            18.73  61029498.0       902.8        603.6  902.8 -> 603.6\n",
      "4185             14.99    467244.0       874.8        575.6  874.8 -> 575.6\n",
      "4114             14.74    322487.0       900.8        601.6  900.8 -> 601.6\n",
      "4222             15.13    128296.0       848.8        549.6  848.8 -> 549.6\n",
      "3846             13.78     78707.0       872.8        573.6  872.8 -> 573.6\n",
      "3849             13.79     69875.0       846.8        547.6  846.8 -> 547.6\n",
      "3809             13.65     55862.0       898.8        599.6  898.8 -> 599.6\n",
      "4133             14.81     20192.0       766.7        549.6  766.7 -> 549.6\n",
      "138890            5.11     17718.0       696.6        549.6  696.6 -> 549.6\n",
      "4093             14.66     15985.0       792.7        575.6  792.7 -> 575.6\n"
     ]
    },
    {
     "data": {
      "text/html": [
       "<div>\n",
       "<style scoped>\n",
       "    .dataframe tbody tr th:only-of-type {\n",
       "        vertical-align: middle;\n",
       "    }\n",
       "\n",
       "    .dataframe tbody tr th {\n",
       "        vertical-align: top;\n",
       "    }\n",
       "\n",
       "    .dataframe thead th {\n",
       "        text-align: right;\n",
       "    }\n",
       "</style>\n",
       "<table border=\"1\" class=\"dataframe\">\n",
       "  <thead>\n",
       "    <tr style=\"text-align: right;\">\n",
       "      <th></th>\n",
       "      <th>Lipid</th>\n",
       "      <th>Parent_Ion</th>\n",
       "      <th>Product_Ion</th>\n",
       "      <th>Intensity</th>\n",
       "      <th>Transition</th>\n",
       "      <th>Class</th>\n",
       "      <th>Sample_ID</th>\n",
       "      <th>Retention_Time</th>\n",
       "      <th>Intensity_OzESI</th>\n",
       "      <th>n-3</th>\n",
       "      <th>n-5</th>\n",
       "      <th>n-7</th>\n",
       "      <th>n-9</th>\n",
       "      <th>n-11</th>\n",
       "    </tr>\n",
       "  </thead>\n",
       "  <tbody>\n",
       "    <tr>\n",
       "      <th>134</th>\n",
       "      <td>NaN</td>\n",
       "      <td>820.8</td>\n",
       "      <td>603.6</td>\n",
       "      <td>5.509860e+04</td>\n",
       "      <td>820.8 -&gt; 603.6</td>\n",
       "      <td>NaN</td>\n",
       "      <td>FAD189_M2-5xFAD-cerebTG18-1_o3on</td>\n",
       "      <td>NaN</td>\n",
       "      <td>NaN</td>\n",
       "      <td>794.8</td>\n",
       "      <td>766.8</td>\n",
       "      <td>738.8</td>\n",
       "      <td>710.8</td>\n",
       "      <td>682.8</td>\n",
       "    </tr>\n",
       "    <tr>\n",
       "      <th>135</th>\n",
       "      <td>[TG(50:3)]_FA18:1</td>\n",
       "      <td>846.8</td>\n",
       "      <td>547.6</td>\n",
       "      <td>1.421504e+05</td>\n",
       "      <td>846.8 -&gt; 547.6</td>\n",
       "      <td>TAG</td>\n",
       "      <td>FAD189_M2-5xFAD-cerebTG18-1_o3on</td>\n",
       "      <td>13.79</td>\n",
       "      <td>69875.0</td>\n",
       "      <td>820.8</td>\n",
       "      <td>792.8</td>\n",
       "      <td>764.8</td>\n",
       "      <td>736.8</td>\n",
       "      <td>708.8</td>\n",
       "    </tr>\n",
       "    <tr>\n",
       "      <th>136</th>\n",
       "      <td>[TG(51:9),TG(50:2)]_FA18:1</td>\n",
       "      <td>848.8</td>\n",
       "      <td>549.6</td>\n",
       "      <td>4.675840e+05</td>\n",
       "      <td>848.8 -&gt; 549.6</td>\n",
       "      <td>TAG</td>\n",
       "      <td>FAD189_M2-5xFAD-cerebTG18-1_o3on</td>\n",
       "      <td>15.13</td>\n",
       "      <td>128296.0</td>\n",
       "      <td>822.8</td>\n",
       "      <td>794.8</td>\n",
       "      <td>766.8</td>\n",
       "      <td>738.8</td>\n",
       "      <td>710.8</td>\n",
       "    </tr>\n",
       "    <tr>\n",
       "      <th>137</th>\n",
       "      <td>[TG(51:8),TG(50:1)]_FA18:1</td>\n",
       "      <td>850.8</td>\n",
       "      <td>551.6</td>\n",
       "      <td>7.433079e+05</td>\n",
       "      <td>850.8 -&gt; 551.6</td>\n",
       "      <td>TAG</td>\n",
       "      <td>FAD189_M2-5xFAD-cerebTG18-1_o3on</td>\n",
       "      <td>NaN</td>\n",
       "      <td>NaN</td>\n",
       "      <td>824.8</td>\n",
       "      <td>796.8</td>\n",
       "      <td>768.8</td>\n",
       "      <td>740.8</td>\n",
       "      <td>712.8</td>\n",
       "    </tr>\n",
       "    <tr>\n",
       "      <th>138</th>\n",
       "      <td>[TG(52:4)]_FA18:1</td>\n",
       "      <td>872.8</td>\n",
       "      <td>573.6</td>\n",
       "      <td>8.369461e+04</td>\n",
       "      <td>872.8 -&gt; 573.6</td>\n",
       "      <td>TAG</td>\n",
       "      <td>FAD189_M2-5xFAD-cerebTG18-1_o3on</td>\n",
       "      <td>13.78</td>\n",
       "      <td>78707.0</td>\n",
       "      <td>846.8</td>\n",
       "      <td>818.8</td>\n",
       "      <td>790.8</td>\n",
       "      <td>762.8</td>\n",
       "      <td>734.8</td>\n",
       "    </tr>\n",
       "    <tr>\n",
       "      <th>139</th>\n",
       "      <td>[TG(53:10),TG(52:3)]_FA18:1</td>\n",
       "      <td>874.8</td>\n",
       "      <td>575.6</td>\n",
       "      <td>4.096324e+05</td>\n",
       "      <td>874.8 -&gt; 575.6</td>\n",
       "      <td>TAG</td>\n",
       "      <td>FAD189_M2-5xFAD-cerebTG18-1_o3on</td>\n",
       "      <td>14.99</td>\n",
       "      <td>467244.0</td>\n",
       "      <td>848.8</td>\n",
       "      <td>820.8</td>\n",
       "      <td>792.8</td>\n",
       "      <td>764.8</td>\n",
       "      <td>736.8</td>\n",
       "    </tr>\n",
       "    <tr>\n",
       "      <th>140</th>\n",
       "      <td>[TG(53:9),TG(52:2)]_FA18:1</td>\n",
       "      <td>876.8</td>\n",
       "      <td>577.6</td>\n",
       "      <td>1.942159e+06</td>\n",
       "      <td>876.8 -&gt; 577.6</td>\n",
       "      <td>TAG</td>\n",
       "      <td>FAD189_M2-5xFAD-cerebTG18-1_o3on</td>\n",
       "      <td>NaN</td>\n",
       "      <td>NaN</td>\n",
       "      <td>850.8</td>\n",
       "      <td>822.8</td>\n",
       "      <td>794.8</td>\n",
       "      <td>766.8</td>\n",
       "      <td>738.8</td>\n",
       "    </tr>\n",
       "    <tr>\n",
       "      <th>141</th>\n",
       "      <td>[TG(54:5)]_FA18:1</td>\n",
       "      <td>898.8</td>\n",
       "      <td>599.6</td>\n",
       "      <td>9.046281e+04</td>\n",
       "      <td>898.8 -&gt; 599.6</td>\n",
       "      <td>TAG</td>\n",
       "      <td>FAD189_M2-5xFAD-cerebTG18-1_o3on</td>\n",
       "      <td>13.65</td>\n",
       "      <td>55862.0</td>\n",
       "      <td>872.8</td>\n",
       "      <td>844.8</td>\n",
       "      <td>816.8</td>\n",
       "      <td>788.8</td>\n",
       "      <td>760.8</td>\n",
       "    </tr>\n",
       "    <tr>\n",
       "      <th>142</th>\n",
       "      <td>[TG(55:11),TG(54:4)]_FA18:1</td>\n",
       "      <td>900.8</td>\n",
       "      <td>601.6</td>\n",
       "      <td>2.408274e+05</td>\n",
       "      <td>900.8 -&gt; 601.6</td>\n",
       "      <td>TAG</td>\n",
       "      <td>FAD189_M2-5xFAD-cerebTG18-1_o3on</td>\n",
       "      <td>14.74</td>\n",
       "      <td>322487.0</td>\n",
       "      <td>874.8</td>\n",
       "      <td>846.8</td>\n",
       "      <td>818.8</td>\n",
       "      <td>790.8</td>\n",
       "      <td>762.8</td>\n",
       "    </tr>\n",
       "    <tr>\n",
       "      <th>143</th>\n",
       "      <td>[TG(55:10),TG(54:3)]_FA18:1</td>\n",
       "      <td>902.8</td>\n",
       "      <td>603.6</td>\n",
       "      <td>9.619961e+05</td>\n",
       "      <td>902.8 -&gt; 603.6</td>\n",
       "      <td>TAG</td>\n",
       "      <td>FAD189_M2-5xFAD-cerebTG18-1_o3on</td>\n",
       "      <td>18.73</td>\n",
       "      <td>61029498.0</td>\n",
       "      <td>876.8</td>\n",
       "      <td>848.8</td>\n",
       "      <td>820.8</td>\n",
       "      <td>792.8</td>\n",
       "      <td>764.8</td>\n",
       "    </tr>\n",
       "  </tbody>\n",
       "</table>\n",
       "</div>"
      ],
      "text/plain": [
       "                           Lipid  Parent_Ion  Product_Ion     Intensity  \\\n",
       "134                          NaN       820.8        603.6  5.509860e+04   \n",
       "135            [TG(50:3)]_FA18:1       846.8        547.6  1.421504e+05   \n",
       "136   [TG(51:9),TG(50:2)]_FA18:1       848.8        549.6  4.675840e+05   \n",
       "137   [TG(51:8),TG(50:1)]_FA18:1       850.8        551.6  7.433079e+05   \n",
       "138            [TG(52:4)]_FA18:1       872.8        573.6  8.369461e+04   \n",
       "139  [TG(53:10),TG(52:3)]_FA18:1       874.8        575.6  4.096324e+05   \n",
       "140   [TG(53:9),TG(52:2)]_FA18:1       876.8        577.6  1.942159e+06   \n",
       "141            [TG(54:5)]_FA18:1       898.8        599.6  9.046281e+04   \n",
       "142  [TG(55:11),TG(54:4)]_FA18:1       900.8        601.6  2.408274e+05   \n",
       "143  [TG(55:10),TG(54:3)]_FA18:1       902.8        603.6  9.619961e+05   \n",
       "\n",
       "         Transition Class                         Sample_ID  Retention_Time  \\\n",
       "134  820.8 -> 603.6   NaN  FAD189_M2-5xFAD-cerebTG18-1_o3on             NaN   \n",
       "135  846.8 -> 547.6   TAG  FAD189_M2-5xFAD-cerebTG18-1_o3on           13.79   \n",
       "136  848.8 -> 549.6   TAG  FAD189_M2-5xFAD-cerebTG18-1_o3on           15.13   \n",
       "137  850.8 -> 551.6   TAG  FAD189_M2-5xFAD-cerebTG18-1_o3on             NaN   \n",
       "138  872.8 -> 573.6   TAG  FAD189_M2-5xFAD-cerebTG18-1_o3on           13.78   \n",
       "139  874.8 -> 575.6   TAG  FAD189_M2-5xFAD-cerebTG18-1_o3on           14.99   \n",
       "140  876.8 -> 577.6   TAG  FAD189_M2-5xFAD-cerebTG18-1_o3on             NaN   \n",
       "141  898.8 -> 599.6   TAG  FAD189_M2-5xFAD-cerebTG18-1_o3on           13.65   \n",
       "142  900.8 -> 601.6   TAG  FAD189_M2-5xFAD-cerebTG18-1_o3on           14.74   \n",
       "143  902.8 -> 603.6   TAG  FAD189_M2-5xFAD-cerebTG18-1_o3on           18.73   \n",
       "\n",
       "     Intensity_OzESI    n-3    n-5    n-7    n-9   n-11  \n",
       "134              NaN  794.8  766.8  738.8  710.8  682.8  \n",
       "135          69875.0  820.8  792.8  764.8  736.8  708.8  \n",
       "136         128296.0  822.8  794.8  766.8  738.8  710.8  \n",
       "137              NaN  824.8  796.8  768.8  740.8  712.8  \n",
       "138          78707.0  846.8  818.8  790.8  762.8  734.8  \n",
       "139         467244.0  848.8  820.8  792.8  764.8  736.8  \n",
       "140              NaN  850.8  822.8  794.8  766.8  738.8  \n",
       "141          55862.0  872.8  844.8  816.8  788.8  760.8  \n",
       "142         322487.0  874.8  846.8  818.8  790.8  762.8  \n",
       "143       61029498.0  876.8  848.8  820.8  792.8  764.8  "
      ]
     },
     "execution_count": 13,
     "metadata": {},
     "output_type": "execute_result"
    }
   ],
   "source": [
    "#OzESI_list = [3,5,7,9,11]\n",
    "def df_OzESI_pipeline(df, OzESI_time, OzESI_list=[3,5,7,9,11]):\n",
    "    # Process chromatogram\n",
    "    OzESI_rt_df_top = process_chromatogram(OzESI_time)\n",
    "    \n",
    "    df_OzESI = create_aldehyde_ion_dataframe()\n",
    "    # Add retention time and intensity to dataframe\n",
    "    df_processed = add_rt_intensity(df, OzESI_rt_df_top)\n",
    "    # Calculate n-minus values\n",
    "    df_processed = calculate_n_minus_values(df_processed, df_OzESI, OzESI_list, starting_column=9, last_column=14)\n",
    "    \n",
    "    return df_processed\n",
    "df_OzESI_processed = df_OzESI_pipeline(df_matched, OzESI_time)\n",
    "df_OzESI_processed.tail(10)"
   ]
  },
  {
   "attachments": {},
   "cell_type": "markdown",
   "metadata": {},
   "source": [
    "OzESI n-# lipid matching"
   ]
  },
  {
   "cell_type": "code",
   "execution_count": 30,
   "metadata": {},
   "outputs": [
    {
     "name": "stdout",
     "output_type": "stream",
     "text": [
      "n-7 17\n",
      "[TG(51:8),TG(50:1)]_FA18:1 768.8\n",
      "n-7 20\n",
      "[TG(52:4)]_FA18:1 790.8\n",
      "n-7 24\n",
      "[TG(54:5)]_FA18:1 816.8\n",
      "n-7 53\n",
      "[TG(51:8),TG(50:1)]_FA18:1 768.8\n",
      "n-7 60\n",
      "[TG(54:5)]_FA18:1 816.8\n",
      "n-7 89\n",
      "[TG(51:8),TG(50:1)]_FA18:1 768.8\n",
      "n-7 96\n",
      "[TG(54:5)]_FA18:1 816.8\n",
      "n-7 125\n",
      "[TG(51:8),TG(50:1)]_FA18:1 768.8\n",
      "n-7 132\n",
      "[TG(54:5)]_FA18:1 816.8\n"
     ]
    },
    {
     "data": {
      "text/html": [
       "<div>\n",
       "<style scoped>\n",
       "    .dataframe tbody tr th:only-of-type {\n",
       "        vertical-align: middle;\n",
       "    }\n",
       "\n",
       "    .dataframe tbody tr th {\n",
       "        vertical-align: top;\n",
       "    }\n",
       "\n",
       "    .dataframe thead th {\n",
       "        text-align: right;\n",
       "    }\n",
       "</style>\n",
       "<table border=\"1\" class=\"dataframe\">\n",
       "  <thead>\n",
       "    <tr style=\"text-align: right;\">\n",
       "      <th></th>\n",
       "      <th>Lipid</th>\n",
       "      <th>Parent_Ion</th>\n",
       "      <th>Product_Ion</th>\n",
       "      <th>Intensity</th>\n",
       "      <th>Transition</th>\n",
       "      <th>Class</th>\n",
       "      <th>Sample_ID</th>\n",
       "      <th>Retention_Time</th>\n",
       "      <th>Intensity_OzESI</th>\n",
       "      <th>n-3</th>\n",
       "      <th>n-5</th>\n",
       "      <th>n-7</th>\n",
       "      <th>n-9</th>\n",
       "      <th>n-11</th>\n",
       "    </tr>\n",
       "  </thead>\n",
       "  <tbody>\n",
       "    <tr>\n",
       "      <th>8</th>\n",
       "      <td>n-9 [TG(51:8),TG(50:1)]_FA18:1</td>\n",
       "      <td>740.8</td>\n",
       "      <td>551.6</td>\n",
       "      <td>6.763187e+05</td>\n",
       "      <td>740.8 -&gt; 551.6</td>\n",
       "      <td>NaN</td>\n",
       "      <td>DOD93_F4-5xFAD-Cereb_TG18-1_o2only</td>\n",
       "      <td>NaN</td>\n",
       "      <td>NaN</td>\n",
       "      <td>714.8</td>\n",
       "      <td>686.8</td>\n",
       "      <td>658.8</td>\n",
       "      <td>630.8</td>\n",
       "      <td>602.8</td>\n",
       "    </tr>\n",
       "    <tr>\n",
       "      <th>17</th>\n",
       "      <td>n-7 [TG(51:8),TG(50:1)]_FA18:1</td>\n",
       "      <td>768.8</td>\n",
       "      <td>551.6</td>\n",
       "      <td>5.531090e+05</td>\n",
       "      <td>768.8 -&gt; 551.6</td>\n",
       "      <td>NaN</td>\n",
       "      <td>DOD93_F4-5xFAD-Cereb_TG18-1_o2only</td>\n",
       "      <td>NaN</td>\n",
       "      <td>NaN</td>\n",
       "      <td>742.8</td>\n",
       "      <td>714.8</td>\n",
       "      <td>686.8</td>\n",
       "      <td>658.8</td>\n",
       "      <td>630.8</td>\n",
       "    </tr>\n",
       "    <tr>\n",
       "      <th>18</th>\n",
       "      <td>n-9 [TG(54:5)]_FA18:1</td>\n",
       "      <td>788.8</td>\n",
       "      <td>599.6</td>\n",
       "      <td>1.979925e+05</td>\n",
       "      <td>788.8 -&gt; 599.6</td>\n",
       "      <td>NaN</td>\n",
       "      <td>DOD93_F4-5xFAD-Cereb_TG18-1_o2only</td>\n",
       "      <td>NaN</td>\n",
       "      <td>NaN</td>\n",
       "      <td>762.8</td>\n",
       "      <td>734.8</td>\n",
       "      <td>706.8</td>\n",
       "      <td>678.8</td>\n",
       "      <td>650.8</td>\n",
       "    </tr>\n",
       "    <tr>\n",
       "      <th>20</th>\n",
       "      <td>n-7 [TG(52:4)]_FA18:1</td>\n",
       "      <td>790.8</td>\n",
       "      <td>601.6</td>\n",
       "      <td>1.738255e+05</td>\n",
       "      <td>790.8 -&gt; 601.6</td>\n",
       "      <td>NaN</td>\n",
       "      <td>DOD93_F4-5xFAD-Cereb_TG18-1_o2only</td>\n",
       "      <td>NaN</td>\n",
       "      <td>NaN</td>\n",
       "      <td>764.8</td>\n",
       "      <td>736.8</td>\n",
       "      <td>708.8</td>\n",
       "      <td>680.8</td>\n",
       "      <td>652.8</td>\n",
       "    </tr>\n",
       "    <tr>\n",
       "      <th>22</th>\n",
       "      <td>n-5 [TG(50:3)]_FA18:1</td>\n",
       "      <td>792.8</td>\n",
       "      <td>603.6</td>\n",
       "      <td>5.834245e+05</td>\n",
       "      <td>792.8 -&gt; 603.6</td>\n",
       "      <td>NaN</td>\n",
       "      <td>DOD93_F4-5xFAD-Cereb_TG18-1_o2only</td>\n",
       "      <td>NaN</td>\n",
       "      <td>NaN</td>\n",
       "      <td>766.8</td>\n",
       "      <td>738.8</td>\n",
       "      <td>710.8</td>\n",
       "      <td>682.8</td>\n",
       "      <td>654.8</td>\n",
       "    </tr>\n",
       "    <tr>\n",
       "      <th>24</th>\n",
       "      <td>n-7 [TG(54:5)]_FA18:1</td>\n",
       "      <td>816.8</td>\n",
       "      <td>599.6</td>\n",
       "      <td>9.140759e+04</td>\n",
       "      <td>816.8 -&gt; 599.6</td>\n",
       "      <td>NaN</td>\n",
       "      <td>DOD93_F4-5xFAD-Cereb_TG18-1_o2only</td>\n",
       "      <td>NaN</td>\n",
       "      <td>NaN</td>\n",
       "      <td>790.8</td>\n",
       "      <td>762.8</td>\n",
       "      <td>734.8</td>\n",
       "      <td>706.8</td>\n",
       "      <td>678.8</td>\n",
       "    </tr>\n",
       "    <tr>\n",
       "      <th>25</th>\n",
       "      <td>n-5 [TG(52:4)]_FA18:1</td>\n",
       "      <td>818.8</td>\n",
       "      <td>601.6</td>\n",
       "      <td>1.435897e+05</td>\n",
       "      <td>818.8 -&gt; 601.6</td>\n",
       "      <td>NaN</td>\n",
       "      <td>DOD93_F4-5xFAD-Cereb_TG18-1_o2only</td>\n",
       "      <td>NaN</td>\n",
       "      <td>NaN</td>\n",
       "      <td>792.8</td>\n",
       "      <td>764.8</td>\n",
       "      <td>736.8</td>\n",
       "      <td>708.8</td>\n",
       "      <td>680.8</td>\n",
       "    </tr>\n",
       "    <tr>\n",
       "      <th>26</th>\n",
       "      <td>n-3 [TG(50:3)]_FA18:1</td>\n",
       "      <td>820.8</td>\n",
       "      <td>603.6</td>\n",
       "      <td>5.121471e+05</td>\n",
       "      <td>820.8 -&gt; 603.6</td>\n",
       "      <td>NaN</td>\n",
       "      <td>DOD93_F4-5xFAD-Cereb_TG18-1_o2only</td>\n",
       "      <td>NaN</td>\n",
       "      <td>NaN</td>\n",
       "      <td>794.8</td>\n",
       "      <td>766.8</td>\n",
       "      <td>738.8</td>\n",
       "      <td>710.8</td>\n",
       "      <td>682.8</td>\n",
       "    </tr>\n",
       "    <tr>\n",
       "      <th>27</th>\n",
       "      <td>[TG(50:3)]_FA18:1</td>\n",
       "      <td>846.8</td>\n",
       "      <td>547.6</td>\n",
       "      <td>1.867125e+06</td>\n",
       "      <td>846.8 -&gt; 547.6</td>\n",
       "      <td>TAG</td>\n",
       "      <td>DOD93_F4-5xFAD-Cereb_TG18-1_o2only</td>\n",
       "      <td>13.79</td>\n",
       "      <td>69875.0</td>\n",
       "      <td>820.8</td>\n",
       "      <td>792.8</td>\n",
       "      <td>764.8</td>\n",
       "      <td>736.8</td>\n",
       "      <td>708.8</td>\n",
       "    </tr>\n",
       "    <tr>\n",
       "      <th>28</th>\n",
       "      <td>[TG(51:9),TG(50:2)]_FA18:1</td>\n",
       "      <td>848.8</td>\n",
       "      <td>549.6</td>\n",
       "      <td>9.221320e+06</td>\n",
       "      <td>848.8 -&gt; 549.6</td>\n",
       "      <td>TAG</td>\n",
       "      <td>DOD93_F4-5xFAD-Cereb_TG18-1_o2only</td>\n",
       "      <td>15.13</td>\n",
       "      <td>128296.0</td>\n",
       "      <td>822.8</td>\n",
       "      <td>794.8</td>\n",
       "      <td>766.8</td>\n",
       "      <td>738.8</td>\n",
       "      <td>710.8</td>\n",
       "    </tr>\n",
       "    <tr>\n",
       "      <th>29</th>\n",
       "      <td>[TG(51:8),TG(50:1)]_FA18:1</td>\n",
       "      <td>850.8</td>\n",
       "      <td>551.6</td>\n",
       "      <td>2.642686e+07</td>\n",
       "      <td>850.8 -&gt; 551.6</td>\n",
       "      <td>TAG</td>\n",
       "      <td>DOD93_F4-5xFAD-Cereb_TG18-1_o2only</td>\n",
       "      <td>NaN</td>\n",
       "      <td>NaN</td>\n",
       "      <td>824.8</td>\n",
       "      <td>796.8</td>\n",
       "      <td>768.8</td>\n",
       "      <td>740.8</td>\n",
       "      <td>712.8</td>\n",
       "    </tr>\n",
       "    <tr>\n",
       "      <th>30</th>\n",
       "      <td>[TG(52:4)]_FA18:1</td>\n",
       "      <td>872.8</td>\n",
       "      <td>573.6</td>\n",
       "      <td>2.726686e+06</td>\n",
       "      <td>872.8 -&gt; 573.6</td>\n",
       "      <td>TAG</td>\n",
       "      <td>DOD93_F4-5xFAD-Cereb_TG18-1_o2only</td>\n",
       "      <td>13.78</td>\n",
       "      <td>78707.0</td>\n",
       "      <td>846.8</td>\n",
       "      <td>818.8</td>\n",
       "      <td>790.8</td>\n",
       "      <td>762.8</td>\n",
       "      <td>734.8</td>\n",
       "    </tr>\n",
       "    <tr>\n",
       "      <th>31</th>\n",
       "      <td>[TG(53:10),TG(52:3)]_FA18:1</td>\n",
       "      <td>874.8</td>\n",
       "      <td>575.6</td>\n",
       "      <td>2.228625e+07</td>\n",
       "      <td>874.8 -&gt; 575.6</td>\n",
       "      <td>TAG</td>\n",
       "      <td>DOD93_F4-5xFAD-Cereb_TG18-1_o2only</td>\n",
       "      <td>14.99</td>\n",
       "      <td>467244.0</td>\n",
       "      <td>848.8</td>\n",
       "      <td>820.8</td>\n",
       "      <td>792.8</td>\n",
       "      <td>764.8</td>\n",
       "      <td>736.8</td>\n",
       "    </tr>\n",
       "    <tr>\n",
       "      <th>32</th>\n",
       "      <td>[TG(53:9),TG(52:2)]_FA18:1</td>\n",
       "      <td>876.8</td>\n",
       "      <td>577.6</td>\n",
       "      <td>5.144882e+07</td>\n",
       "      <td>876.8 -&gt; 577.6</td>\n",
       "      <td>TAG</td>\n",
       "      <td>DOD93_F4-5xFAD-Cereb_TG18-1_o2only</td>\n",
       "      <td>NaN</td>\n",
       "      <td>NaN</td>\n",
       "      <td>850.8</td>\n",
       "      <td>822.8</td>\n",
       "      <td>794.8</td>\n",
       "      <td>766.8</td>\n",
       "      <td>738.8</td>\n",
       "    </tr>\n",
       "    <tr>\n",
       "      <th>33</th>\n",
       "      <td>[TG(54:5)]_FA18:1</td>\n",
       "      <td>898.8</td>\n",
       "      <td>599.6</td>\n",
       "      <td>9.637367e+06</td>\n",
       "      <td>898.8 -&gt; 599.6</td>\n",
       "      <td>TAG</td>\n",
       "      <td>DOD93_F4-5xFAD-Cereb_TG18-1_o2only</td>\n",
       "      <td>13.65</td>\n",
       "      <td>55862.0</td>\n",
       "      <td>872.8</td>\n",
       "      <td>844.8</td>\n",
       "      <td>816.8</td>\n",
       "      <td>788.8</td>\n",
       "      <td>760.8</td>\n",
       "    </tr>\n",
       "    <tr>\n",
       "      <th>34</th>\n",
       "      <td>[TG(55:11),TG(54:4)]_FA18:1</td>\n",
       "      <td>900.8</td>\n",
       "      <td>601.6</td>\n",
       "      <td>2.223195e+07</td>\n",
       "      <td>900.8 -&gt; 601.6</td>\n",
       "      <td>TAG</td>\n",
       "      <td>DOD93_F4-5xFAD-Cereb_TG18-1_o2only</td>\n",
       "      <td>14.74</td>\n",
       "      <td>322487.0</td>\n",
       "      <td>874.8</td>\n",
       "      <td>846.8</td>\n",
       "      <td>818.8</td>\n",
       "      <td>790.8</td>\n",
       "      <td>762.8</td>\n",
       "    </tr>\n",
       "    <tr>\n",
       "      <th>35</th>\n",
       "      <td>[TG(55:10),TG(54:3)]_FA18:1</td>\n",
       "      <td>902.8</td>\n",
       "      <td>603.6</td>\n",
       "      <td>3.777517e+07</td>\n",
       "      <td>902.8 -&gt; 603.6</td>\n",
       "      <td>TAG</td>\n",
       "      <td>DOD93_F4-5xFAD-Cereb_TG18-1_o2only</td>\n",
       "      <td>18.73</td>\n",
       "      <td>61029498.0</td>\n",
       "      <td>876.8</td>\n",
       "      <td>848.8</td>\n",
       "      <td>820.8</td>\n",
       "      <td>792.8</td>\n",
       "      <td>764.8</td>\n",
       "    </tr>\n",
       "    <tr>\n",
       "      <th>44</th>\n",
       "      <td>n-9 [TG(51:8),TG(50:1)]_FA18:1</td>\n",
       "      <td>740.8</td>\n",
       "      <td>551.6</td>\n",
       "      <td>3.894566e+05</td>\n",
       "      <td>740.8 -&gt; 551.6</td>\n",
       "      <td>NaN</td>\n",
       "      <td>DOD94-F4-5xFAD-hippo_TG18-1_o2only</td>\n",
       "      <td>NaN</td>\n",
       "      <td>NaN</td>\n",
       "      <td>714.8</td>\n",
       "      <td>686.8</td>\n",
       "      <td>658.8</td>\n",
       "      <td>630.8</td>\n",
       "      <td>602.8</td>\n",
       "    </tr>\n",
       "    <tr>\n",
       "      <th>53</th>\n",
       "      <td>n-7 [TG(51:8),TG(50:1)]_FA18:1</td>\n",
       "      <td>768.8</td>\n",
       "      <td>551.6</td>\n",
       "      <td>3.130422e+05</td>\n",
       "      <td>768.8 -&gt; 551.6</td>\n",
       "      <td>NaN</td>\n",
       "      <td>DOD94-F4-5xFAD-hippo_TG18-1_o2only</td>\n",
       "      <td>NaN</td>\n",
       "      <td>NaN</td>\n",
       "      <td>742.8</td>\n",
       "      <td>714.8</td>\n",
       "      <td>686.8</td>\n",
       "      <td>658.8</td>\n",
       "      <td>630.8</td>\n",
       "    </tr>\n",
       "    <tr>\n",
       "      <th>54</th>\n",
       "      <td>n-9 [TG(54:5)]_FA18:1</td>\n",
       "      <td>788.8</td>\n",
       "      <td>599.6</td>\n",
       "      <td>1.242812e+05</td>\n",
       "      <td>788.8 -&gt; 599.6</td>\n",
       "      <td>NaN</td>\n",
       "      <td>DOD94-F4-5xFAD-hippo_TG18-1_o2only</td>\n",
       "      <td>NaN</td>\n",
       "      <td>NaN</td>\n",
       "      <td>762.8</td>\n",
       "      <td>734.8</td>\n",
       "      <td>706.8</td>\n",
       "      <td>678.8</td>\n",
       "      <td>650.8</td>\n",
       "    </tr>\n",
       "    <tr>\n",
       "      <th>56</th>\n",
       "      <td>n-3 n-7 [TG(54:5)]_FA18:1</td>\n",
       "      <td>790.8</td>\n",
       "      <td>601.6</td>\n",
       "      <td>9.177333e+04</td>\n",
       "      <td>790.8 -&gt; 601.6</td>\n",
       "      <td>NaN</td>\n",
       "      <td>DOD94-F4-5xFAD-hippo_TG18-1_o2only</td>\n",
       "      <td>NaN</td>\n",
       "      <td>NaN</td>\n",
       "      <td>764.8</td>\n",
       "      <td>736.8</td>\n",
       "      <td>708.8</td>\n",
       "      <td>680.8</td>\n",
       "      <td>652.8</td>\n",
       "    </tr>\n",
       "    <tr>\n",
       "      <th>58</th>\n",
       "      <td>n-3 n-5 [TG(52:4)]_FA18:1</td>\n",
       "      <td>792.8</td>\n",
       "      <td>603.6</td>\n",
       "      <td>1.980765e+05</td>\n",
       "      <td>792.8 -&gt; 603.6</td>\n",
       "      <td>NaN</td>\n",
       "      <td>DOD94-F4-5xFAD-hippo_TG18-1_o2only</td>\n",
       "      <td>NaN</td>\n",
       "      <td>NaN</td>\n",
       "      <td>766.8</td>\n",
       "      <td>738.8</td>\n",
       "      <td>710.8</td>\n",
       "      <td>682.8</td>\n",
       "      <td>654.8</td>\n",
       "    </tr>\n",
       "    <tr>\n",
       "      <th>60</th>\n",
       "      <td>n-7 [TG(54:5)]_FA18:1</td>\n",
       "      <td>816.8</td>\n",
       "      <td>599.6</td>\n",
       "      <td>5.895944e+04</td>\n",
       "      <td>816.8 -&gt; 599.6</td>\n",
       "      <td>NaN</td>\n",
       "      <td>DOD94-F4-5xFAD-hippo_TG18-1_o2only</td>\n",
       "      <td>NaN</td>\n",
       "      <td>NaN</td>\n",
       "      <td>790.8</td>\n",
       "      <td>762.8</td>\n",
       "      <td>734.8</td>\n",
       "      <td>706.8</td>\n",
       "      <td>678.8</td>\n",
       "    </tr>\n",
       "    <tr>\n",
       "      <th>61</th>\n",
       "      <td>n-5 [TG(52:4)]_FA18:1</td>\n",
       "      <td>818.8</td>\n",
       "      <td>601.6</td>\n",
       "      <td>6.129654e+04</td>\n",
       "      <td>818.8 -&gt; 601.6</td>\n",
       "      <td>NaN</td>\n",
       "      <td>DOD94-F4-5xFAD-hippo_TG18-1_o2only</td>\n",
       "      <td>NaN</td>\n",
       "      <td>NaN</td>\n",
       "      <td>792.8</td>\n",
       "      <td>764.8</td>\n",
       "      <td>736.8</td>\n",
       "      <td>708.8</td>\n",
       "      <td>680.8</td>\n",
       "    </tr>\n",
       "    <tr>\n",
       "      <th>62</th>\n",
       "      <td>n-3 [TG(50:3)]_FA18:1</td>\n",
       "      <td>820.8</td>\n",
       "      <td>603.6</td>\n",
       "      <td>1.324718e+05</td>\n",
       "      <td>820.8 -&gt; 603.6</td>\n",
       "      <td>NaN</td>\n",
       "      <td>DOD94-F4-5xFAD-hippo_TG18-1_o2only</td>\n",
       "      <td>NaN</td>\n",
       "      <td>NaN</td>\n",
       "      <td>794.8</td>\n",
       "      <td>766.8</td>\n",
       "      <td>738.8</td>\n",
       "      <td>710.8</td>\n",
       "      <td>682.8</td>\n",
       "    </tr>\n",
       "    <tr>\n",
       "      <th>63</th>\n",
       "      <td>[TG(50:3)]_FA18:1</td>\n",
       "      <td>846.8</td>\n",
       "      <td>547.6</td>\n",
       "      <td>5.247269e+05</td>\n",
       "      <td>846.8 -&gt; 547.6</td>\n",
       "      <td>TAG</td>\n",
       "      <td>DOD94-F4-5xFAD-hippo_TG18-1_o2only</td>\n",
       "      <td>13.79</td>\n",
       "      <td>69875.0</td>\n",
       "      <td>820.8</td>\n",
       "      <td>792.8</td>\n",
       "      <td>764.8</td>\n",
       "      <td>736.8</td>\n",
       "      <td>708.8</td>\n",
       "    </tr>\n",
       "    <tr>\n",
       "      <th>64</th>\n",
       "      <td>[TG(51:9),TG(50:2)]_FA18:1</td>\n",
       "      <td>848.8</td>\n",
       "      <td>549.6</td>\n",
       "      <td>2.780015e+06</td>\n",
       "      <td>848.8 -&gt; 549.6</td>\n",
       "      <td>TAG</td>\n",
       "      <td>DOD94-F4-5xFAD-hippo_TG18-1_o2only</td>\n",
       "      <td>15.13</td>\n",
       "      <td>128296.0</td>\n",
       "      <td>822.8</td>\n",
       "      <td>794.8</td>\n",
       "      <td>766.8</td>\n",
       "      <td>738.8</td>\n",
       "      <td>710.8</td>\n",
       "    </tr>\n",
       "    <tr>\n",
       "      <th>65</th>\n",
       "      <td>[TG(51:8),TG(50:1)]_FA18:1</td>\n",
       "      <td>850.8</td>\n",
       "      <td>551.6</td>\n",
       "      <td>5.568291e+06</td>\n",
       "      <td>850.8 -&gt; 551.6</td>\n",
       "      <td>TAG</td>\n",
       "      <td>DOD94-F4-5xFAD-hippo_TG18-1_o2only</td>\n",
       "      <td>NaN</td>\n",
       "      <td>NaN</td>\n",
       "      <td>824.8</td>\n",
       "      <td>796.8</td>\n",
       "      <td>768.8</td>\n",
       "      <td>740.8</td>\n",
       "      <td>712.8</td>\n",
       "    </tr>\n",
       "    <tr>\n",
       "      <th>66</th>\n",
       "      <td>[TG(52:4)]_FA18:1</td>\n",
       "      <td>872.8</td>\n",
       "      <td>573.6</td>\n",
       "      <td>3.205664e+05</td>\n",
       "      <td>872.8 -&gt; 573.6</td>\n",
       "      <td>TAG</td>\n",
       "      <td>DOD94-F4-5xFAD-hippo_TG18-1_o2only</td>\n",
       "      <td>13.78</td>\n",
       "      <td>78707.0</td>\n",
       "      <td>846.8</td>\n",
       "      <td>818.8</td>\n",
       "      <td>790.8</td>\n",
       "      <td>762.8</td>\n",
       "      <td>734.8</td>\n",
       "    </tr>\n",
       "    <tr>\n",
       "      <th>67</th>\n",
       "      <td>[TG(53:10),TG(52:3)]_FA18:1</td>\n",
       "      <td>874.8</td>\n",
       "      <td>575.6</td>\n",
       "      <td>3.625196e+06</td>\n",
       "      <td>874.8 -&gt; 575.6</td>\n",
       "      <td>TAG</td>\n",
       "      <td>DOD94-F4-5xFAD-hippo_TG18-1_o2only</td>\n",
       "      <td>14.99</td>\n",
       "      <td>467244.0</td>\n",
       "      <td>848.8</td>\n",
       "      <td>820.8</td>\n",
       "      <td>792.8</td>\n",
       "      <td>764.8</td>\n",
       "      <td>736.8</td>\n",
       "    </tr>\n",
       "    <tr>\n",
       "      <th>68</th>\n",
       "      <td>[TG(53:9),TG(52:2)]_FA18:1</td>\n",
       "      <td>876.8</td>\n",
       "      <td>577.6</td>\n",
       "      <td>1.591732e+07</td>\n",
       "      <td>876.8 -&gt; 577.6</td>\n",
       "      <td>TAG</td>\n",
       "      <td>DOD94-F4-5xFAD-hippo_TG18-1_o2only</td>\n",
       "      <td>NaN</td>\n",
       "      <td>NaN</td>\n",
       "      <td>850.8</td>\n",
       "      <td>822.8</td>\n",
       "      <td>794.8</td>\n",
       "      <td>766.8</td>\n",
       "      <td>738.8</td>\n",
       "    </tr>\n",
       "    <tr>\n",
       "      <th>69</th>\n",
       "      <td>[TG(54:5)]_FA18:1</td>\n",
       "      <td>898.8</td>\n",
       "      <td>599.6</td>\n",
       "      <td>8.353259e+05</td>\n",
       "      <td>898.8 -&gt; 599.6</td>\n",
       "      <td>TAG</td>\n",
       "      <td>DOD94-F4-5xFAD-hippo_TG18-1_o2only</td>\n",
       "      <td>13.65</td>\n",
       "      <td>55862.0</td>\n",
       "      <td>872.8</td>\n",
       "      <td>844.8</td>\n",
       "      <td>816.8</td>\n",
       "      <td>788.8</td>\n",
       "      <td>760.8</td>\n",
       "    </tr>\n",
       "    <tr>\n",
       "      <th>70</th>\n",
       "      <td>[TG(55:11),TG(54:4)]_FA18:1</td>\n",
       "      <td>900.8</td>\n",
       "      <td>601.6</td>\n",
       "      <td>2.563902e+06</td>\n",
       "      <td>900.8 -&gt; 601.6</td>\n",
       "      <td>TAG</td>\n",
       "      <td>DOD94-F4-5xFAD-hippo_TG18-1_o2only</td>\n",
       "      <td>14.74</td>\n",
       "      <td>322487.0</td>\n",
       "      <td>874.8</td>\n",
       "      <td>846.8</td>\n",
       "      <td>818.8</td>\n",
       "      <td>790.8</td>\n",
       "      <td>762.8</td>\n",
       "    </tr>\n",
       "    <tr>\n",
       "      <th>71</th>\n",
       "      <td>[TG(55:10),TG(54:3)]_FA18:1</td>\n",
       "      <td>902.8</td>\n",
       "      <td>603.6</td>\n",
       "      <td>8.728052e+06</td>\n",
       "      <td>902.8 -&gt; 603.6</td>\n",
       "      <td>TAG</td>\n",
       "      <td>DOD94-F4-5xFAD-hippo_TG18-1_o2only</td>\n",
       "      <td>18.73</td>\n",
       "      <td>61029498.0</td>\n",
       "      <td>876.8</td>\n",
       "      <td>848.8</td>\n",
       "      <td>820.8</td>\n",
       "      <td>792.8</td>\n",
       "      <td>764.8</td>\n",
       "    </tr>\n",
       "    <tr>\n",
       "      <th>80</th>\n",
       "      <td>n-9 [TG(51:8),TG(50:1)]_FA18:1</td>\n",
       "      <td>740.8</td>\n",
       "      <td>551.6</td>\n",
       "      <td>2.087550e+05</td>\n",
       "      <td>740.8 -&gt; 551.6</td>\n",
       "      <td>NaN</td>\n",
       "      <td>FAD185-M1-5xFAD-hippo_TG18-1_o2only</td>\n",
       "      <td>NaN</td>\n",
       "      <td>NaN</td>\n",
       "      <td>714.8</td>\n",
       "      <td>686.8</td>\n",
       "      <td>658.8</td>\n",
       "      <td>630.8</td>\n",
       "      <td>602.8</td>\n",
       "    </tr>\n",
       "    <tr>\n",
       "      <th>89</th>\n",
       "      <td>n-7 [TG(51:8),TG(50:1)]_FA18:1</td>\n",
       "      <td>768.8</td>\n",
       "      <td>551.6</td>\n",
       "      <td>1.725389e+05</td>\n",
       "      <td>768.8 -&gt; 551.6</td>\n",
       "      <td>NaN</td>\n",
       "      <td>FAD185-M1-5xFAD-hippo_TG18-1_o2only</td>\n",
       "      <td>NaN</td>\n",
       "      <td>NaN</td>\n",
       "      <td>742.8</td>\n",
       "      <td>714.8</td>\n",
       "      <td>686.8</td>\n",
       "      <td>658.8</td>\n",
       "      <td>630.8</td>\n",
       "    </tr>\n",
       "    <tr>\n",
       "      <th>90</th>\n",
       "      <td>n-9 [TG(54:5)]_FA18:1</td>\n",
       "      <td>788.8</td>\n",
       "      <td>599.6</td>\n",
       "      <td>4.115802e+04</td>\n",
       "      <td>788.8 -&gt; 599.6</td>\n",
       "      <td>NaN</td>\n",
       "      <td>FAD185-M1-5xFAD-hippo_TG18-1_o2only</td>\n",
       "      <td>NaN</td>\n",
       "      <td>NaN</td>\n",
       "      <td>762.8</td>\n",
       "      <td>734.8</td>\n",
       "      <td>706.8</td>\n",
       "      <td>678.8</td>\n",
       "      <td>650.8</td>\n",
       "    </tr>\n",
       "    <tr>\n",
       "      <th>92</th>\n",
       "      <td>n-3 n-7 [TG(54:5)]_FA18:1</td>\n",
       "      <td>790.8</td>\n",
       "      <td>601.6</td>\n",
       "      <td>4.584176e+04</td>\n",
       "      <td>790.8 -&gt; 601.6</td>\n",
       "      <td>NaN</td>\n",
       "      <td>FAD185-M1-5xFAD-hippo_TG18-1_o2only</td>\n",
       "      <td>NaN</td>\n",
       "      <td>NaN</td>\n",
       "      <td>764.8</td>\n",
       "      <td>736.8</td>\n",
       "      <td>708.8</td>\n",
       "      <td>680.8</td>\n",
       "      <td>652.8</td>\n",
       "    </tr>\n",
       "    <tr>\n",
       "      <th>94</th>\n",
       "      <td>n-3 n-5 [TG(52:4)]_FA18:1</td>\n",
       "      <td>792.8</td>\n",
       "      <td>603.6</td>\n",
       "      <td>9.297987e+04</td>\n",
       "      <td>792.8 -&gt; 603.6</td>\n",
       "      <td>NaN</td>\n",
       "      <td>FAD185-M1-5xFAD-hippo_TG18-1_o2only</td>\n",
       "      <td>NaN</td>\n",
       "      <td>NaN</td>\n",
       "      <td>766.8</td>\n",
       "      <td>738.8</td>\n",
       "      <td>710.8</td>\n",
       "      <td>682.8</td>\n",
       "      <td>654.8</td>\n",
       "    </tr>\n",
       "    <tr>\n",
       "      <th>96</th>\n",
       "      <td>n-7 [TG(54:5)]_FA18:1</td>\n",
       "      <td>816.8</td>\n",
       "      <td>599.6</td>\n",
       "      <td>3.360196e+04</td>\n",
       "      <td>816.8 -&gt; 599.6</td>\n",
       "      <td>NaN</td>\n",
       "      <td>FAD185-M1-5xFAD-hippo_TG18-1_o2only</td>\n",
       "      <td>NaN</td>\n",
       "      <td>NaN</td>\n",
       "      <td>790.8</td>\n",
       "      <td>762.8</td>\n",
       "      <td>734.8</td>\n",
       "      <td>706.8</td>\n",
       "      <td>678.8</td>\n",
       "    </tr>\n",
       "    <tr>\n",
       "      <th>97</th>\n",
       "      <td>n-5 [TG(52:4)]_FA18:1</td>\n",
       "      <td>818.8</td>\n",
       "      <td>601.6</td>\n",
       "      <td>3.449056e+04</td>\n",
       "      <td>818.8 -&gt; 601.6</td>\n",
       "      <td>NaN</td>\n",
       "      <td>FAD185-M1-5xFAD-hippo_TG18-1_o2only</td>\n",
       "      <td>NaN</td>\n",
       "      <td>NaN</td>\n",
       "      <td>792.8</td>\n",
       "      <td>764.8</td>\n",
       "      <td>736.8</td>\n",
       "      <td>708.8</td>\n",
       "      <td>680.8</td>\n",
       "    </tr>\n",
       "    <tr>\n",
       "      <th>98</th>\n",
       "      <td>n-3 [TG(50:3)]_FA18:1</td>\n",
       "      <td>820.8</td>\n",
       "      <td>603.6</td>\n",
       "      <td>6.178894e+04</td>\n",
       "      <td>820.8 -&gt; 603.6</td>\n",
       "      <td>NaN</td>\n",
       "      <td>FAD185-M1-5xFAD-hippo_TG18-1_o2only</td>\n",
       "      <td>NaN</td>\n",
       "      <td>NaN</td>\n",
       "      <td>794.8</td>\n",
       "      <td>766.8</td>\n",
       "      <td>738.8</td>\n",
       "      <td>710.8</td>\n",
       "      <td>682.8</td>\n",
       "    </tr>\n",
       "    <tr>\n",
       "      <th>99</th>\n",
       "      <td>[TG(50:3)]_FA18:1</td>\n",
       "      <td>846.8</td>\n",
       "      <td>547.6</td>\n",
       "      <td>2.521077e+05</td>\n",
       "      <td>846.8 -&gt; 547.6</td>\n",
       "      <td>TAG</td>\n",
       "      <td>FAD185-M1-5xFAD-hippo_TG18-1_o2only</td>\n",
       "      <td>13.79</td>\n",
       "      <td>69875.0</td>\n",
       "      <td>820.8</td>\n",
       "      <td>792.8</td>\n",
       "      <td>764.8</td>\n",
       "      <td>736.8</td>\n",
       "      <td>708.8</td>\n",
       "    </tr>\n",
       "    <tr>\n",
       "      <th>100</th>\n",
       "      <td>[TG(51:9),TG(50:2)]_FA18:1</td>\n",
       "      <td>848.8</td>\n",
       "      <td>549.6</td>\n",
       "      <td>1.024702e+06</td>\n",
       "      <td>848.8 -&gt; 549.6</td>\n",
       "      <td>TAG</td>\n",
       "      <td>FAD185-M1-5xFAD-hippo_TG18-1_o2only</td>\n",
       "      <td>15.13</td>\n",
       "      <td>128296.0</td>\n",
       "      <td>822.8</td>\n",
       "      <td>794.8</td>\n",
       "      <td>766.8</td>\n",
       "      <td>738.8</td>\n",
       "      <td>710.8</td>\n",
       "    </tr>\n",
       "    <tr>\n",
       "      <th>101</th>\n",
       "      <td>[TG(51:8),TG(50:1)]_FA18:1</td>\n",
       "      <td>850.8</td>\n",
       "      <td>551.6</td>\n",
       "      <td>1.571957e+06</td>\n",
       "      <td>850.8 -&gt; 551.6</td>\n",
       "      <td>TAG</td>\n",
       "      <td>FAD185-M1-5xFAD-hippo_TG18-1_o2only</td>\n",
       "      <td>NaN</td>\n",
       "      <td>NaN</td>\n",
       "      <td>824.8</td>\n",
       "      <td>796.8</td>\n",
       "      <td>768.8</td>\n",
       "      <td>740.8</td>\n",
       "      <td>712.8</td>\n",
       "    </tr>\n",
       "    <tr>\n",
       "      <th>102</th>\n",
       "      <td>[TG(52:4)]_FA18:1</td>\n",
       "      <td>872.8</td>\n",
       "      <td>573.6</td>\n",
       "      <td>1.491063e+05</td>\n",
       "      <td>872.8 -&gt; 573.6</td>\n",
       "      <td>TAG</td>\n",
       "      <td>FAD185-M1-5xFAD-hippo_TG18-1_o2only</td>\n",
       "      <td>13.78</td>\n",
       "      <td>78707.0</td>\n",
       "      <td>846.8</td>\n",
       "      <td>818.8</td>\n",
       "      <td>790.8</td>\n",
       "      <td>762.8</td>\n",
       "      <td>734.8</td>\n",
       "    </tr>\n",
       "    <tr>\n",
       "      <th>103</th>\n",
       "      <td>[TG(53:10),TG(52:3)]_FA18:1</td>\n",
       "      <td>874.8</td>\n",
       "      <td>575.6</td>\n",
       "      <td>1.136399e+06</td>\n",
       "      <td>874.8 -&gt; 575.6</td>\n",
       "      <td>TAG</td>\n",
       "      <td>FAD185-M1-5xFAD-hippo_TG18-1_o2only</td>\n",
       "      <td>14.99</td>\n",
       "      <td>467244.0</td>\n",
       "      <td>848.8</td>\n",
       "      <td>820.8</td>\n",
       "      <td>792.8</td>\n",
       "      <td>764.8</td>\n",
       "      <td>736.8</td>\n",
       "    </tr>\n",
       "    <tr>\n",
       "      <th>104</th>\n",
       "      <td>[TG(53:9),TG(52:2)]_FA18:1</td>\n",
       "      <td>876.8</td>\n",
       "      <td>577.6</td>\n",
       "      <td>5.148773e+06</td>\n",
       "      <td>876.8 -&gt; 577.6</td>\n",
       "      <td>TAG</td>\n",
       "      <td>FAD185-M1-5xFAD-hippo_TG18-1_o2only</td>\n",
       "      <td>NaN</td>\n",
       "      <td>NaN</td>\n",
       "      <td>850.8</td>\n",
       "      <td>822.8</td>\n",
       "      <td>794.8</td>\n",
       "      <td>766.8</td>\n",
       "      <td>738.8</td>\n",
       "    </tr>\n",
       "    <tr>\n",
       "      <th>105</th>\n",
       "      <td>[TG(54:5)]_FA18:1</td>\n",
       "      <td>898.8</td>\n",
       "      <td>599.6</td>\n",
       "      <td>2.117767e+05</td>\n",
       "      <td>898.8 -&gt; 599.6</td>\n",
       "      <td>TAG</td>\n",
       "      <td>FAD185-M1-5xFAD-hippo_TG18-1_o2only</td>\n",
       "      <td>13.65</td>\n",
       "      <td>55862.0</td>\n",
       "      <td>872.8</td>\n",
       "      <td>844.8</td>\n",
       "      <td>816.8</td>\n",
       "      <td>788.8</td>\n",
       "      <td>760.8</td>\n",
       "    </tr>\n",
       "    <tr>\n",
       "      <th>106</th>\n",
       "      <td>[TG(55:11),TG(54:4)]_FA18:1</td>\n",
       "      <td>900.8</td>\n",
       "      <td>601.6</td>\n",
       "      <td>6.729949e+05</td>\n",
       "      <td>900.8 -&gt; 601.6</td>\n",
       "      <td>TAG</td>\n",
       "      <td>FAD185-M1-5xFAD-hippo_TG18-1_o2only</td>\n",
       "      <td>14.74</td>\n",
       "      <td>322487.0</td>\n",
       "      <td>874.8</td>\n",
       "      <td>846.8</td>\n",
       "      <td>818.8</td>\n",
       "      <td>790.8</td>\n",
       "      <td>762.8</td>\n",
       "    </tr>\n",
       "    <tr>\n",
       "      <th>107</th>\n",
       "      <td>[TG(55:10),TG(54:3)]_FA18:1</td>\n",
       "      <td>902.8</td>\n",
       "      <td>603.6</td>\n",
       "      <td>2.601031e+06</td>\n",
       "      <td>902.8 -&gt; 603.6</td>\n",
       "      <td>TAG</td>\n",
       "      <td>FAD185-M1-5xFAD-hippo_TG18-1_o2only</td>\n",
       "      <td>18.73</td>\n",
       "      <td>61029498.0</td>\n",
       "      <td>876.8</td>\n",
       "      <td>848.8</td>\n",
       "      <td>820.8</td>\n",
       "      <td>792.8</td>\n",
       "      <td>764.8</td>\n",
       "    </tr>\n",
       "    <tr>\n",
       "      <th>116</th>\n",
       "      <td>n-9 [TG(51:8),TG(50:1)]_FA18:1</td>\n",
       "      <td>740.8</td>\n",
       "      <td>551.6</td>\n",
       "      <td>2.259481e+05</td>\n",
       "      <td>740.8 -&gt; 551.6</td>\n",
       "      <td>NaN</td>\n",
       "      <td>FAD189_M2-5xFAD-cerebTG18-1_o3on</td>\n",
       "      <td>NaN</td>\n",
       "      <td>NaN</td>\n",
       "      <td>714.8</td>\n",
       "      <td>686.8</td>\n",
       "      <td>658.8</td>\n",
       "      <td>630.8</td>\n",
       "      <td>602.8</td>\n",
       "    </tr>\n",
       "    <tr>\n",
       "      <th>125</th>\n",
       "      <td>n-7 [TG(51:8),TG(50:1)]_FA18:1</td>\n",
       "      <td>768.8</td>\n",
       "      <td>551.6</td>\n",
       "      <td>1.769281e+05</td>\n",
       "      <td>768.8 -&gt; 551.6</td>\n",
       "      <td>NaN</td>\n",
       "      <td>FAD189_M2-5xFAD-cerebTG18-1_o3on</td>\n",
       "      <td>NaN</td>\n",
       "      <td>NaN</td>\n",
       "      <td>742.8</td>\n",
       "      <td>714.8</td>\n",
       "      <td>686.8</td>\n",
       "      <td>658.8</td>\n",
       "      <td>630.8</td>\n",
       "    </tr>\n",
       "    <tr>\n",
       "      <th>126</th>\n",
       "      <td>n-9 [TG(54:5)]_FA18:1</td>\n",
       "      <td>788.8</td>\n",
       "      <td>599.6</td>\n",
       "      <td>4.532898e+04</td>\n",
       "      <td>788.8 -&gt; 599.6</td>\n",
       "      <td>NaN</td>\n",
       "      <td>FAD189_M2-5xFAD-cerebTG18-1_o3on</td>\n",
       "      <td>NaN</td>\n",
       "      <td>NaN</td>\n",
       "      <td>762.8</td>\n",
       "      <td>734.8</td>\n",
       "      <td>706.8</td>\n",
       "      <td>678.8</td>\n",
       "      <td>650.8</td>\n",
       "    </tr>\n",
       "    <tr>\n",
       "      <th>128</th>\n",
       "      <td>n-3 n-7 [TG(54:5)]_FA18:1</td>\n",
       "      <td>790.8</td>\n",
       "      <td>601.6</td>\n",
       "      <td>5.248346e+04</td>\n",
       "      <td>790.8 -&gt; 601.6</td>\n",
       "      <td>NaN</td>\n",
       "      <td>FAD189_M2-5xFAD-cerebTG18-1_o3on</td>\n",
       "      <td>NaN</td>\n",
       "      <td>NaN</td>\n",
       "      <td>764.8</td>\n",
       "      <td>736.8</td>\n",
       "      <td>708.8</td>\n",
       "      <td>680.8</td>\n",
       "      <td>652.8</td>\n",
       "    </tr>\n",
       "    <tr>\n",
       "      <th>130</th>\n",
       "      <td>n-3 n-5 [TG(52:4)]_FA18:1</td>\n",
       "      <td>792.8</td>\n",
       "      <td>603.6</td>\n",
       "      <td>1.204137e+05</td>\n",
       "      <td>792.8 -&gt; 603.6</td>\n",
       "      <td>NaN</td>\n",
       "      <td>FAD189_M2-5xFAD-cerebTG18-1_o3on</td>\n",
       "      <td>NaN</td>\n",
       "      <td>NaN</td>\n",
       "      <td>766.8</td>\n",
       "      <td>738.8</td>\n",
       "      <td>710.8</td>\n",
       "      <td>682.8</td>\n",
       "      <td>654.8</td>\n",
       "    </tr>\n",
       "    <tr>\n",
       "      <th>132</th>\n",
       "      <td>n-7 [TG(54:5)]_FA18:1</td>\n",
       "      <td>816.8</td>\n",
       "      <td>599.6</td>\n",
       "      <td>3.403240e+04</td>\n",
       "      <td>816.8 -&gt; 599.6</td>\n",
       "      <td>NaN</td>\n",
       "      <td>FAD189_M2-5xFAD-cerebTG18-1_o3on</td>\n",
       "      <td>NaN</td>\n",
       "      <td>NaN</td>\n",
       "      <td>790.8</td>\n",
       "      <td>762.8</td>\n",
       "      <td>734.8</td>\n",
       "      <td>706.8</td>\n",
       "      <td>678.8</td>\n",
       "    </tr>\n",
       "    <tr>\n",
       "      <th>133</th>\n",
       "      <td>n-5 [TG(52:4)]_FA18:1</td>\n",
       "      <td>818.8</td>\n",
       "      <td>601.6</td>\n",
       "      <td>3.437424e+04</td>\n",
       "      <td>818.8 -&gt; 601.6</td>\n",
       "      <td>NaN</td>\n",
       "      <td>FAD189_M2-5xFAD-cerebTG18-1_o3on</td>\n",
       "      <td>NaN</td>\n",
       "      <td>NaN</td>\n",
       "      <td>792.8</td>\n",
       "      <td>764.8</td>\n",
       "      <td>736.8</td>\n",
       "      <td>708.8</td>\n",
       "      <td>680.8</td>\n",
       "    </tr>\n",
       "    <tr>\n",
       "      <th>134</th>\n",
       "      <td>n-3 [TG(50:3)]_FA18:1</td>\n",
       "      <td>820.8</td>\n",
       "      <td>603.6</td>\n",
       "      <td>5.509860e+04</td>\n",
       "      <td>820.8 -&gt; 603.6</td>\n",
       "      <td>NaN</td>\n",
       "      <td>FAD189_M2-5xFAD-cerebTG18-1_o3on</td>\n",
       "      <td>NaN</td>\n",
       "      <td>NaN</td>\n",
       "      <td>794.8</td>\n",
       "      <td>766.8</td>\n",
       "      <td>738.8</td>\n",
       "      <td>710.8</td>\n",
       "      <td>682.8</td>\n",
       "    </tr>\n",
       "    <tr>\n",
       "      <th>135</th>\n",
       "      <td>[TG(50:3)]_FA18:1</td>\n",
       "      <td>846.8</td>\n",
       "      <td>547.6</td>\n",
       "      <td>1.421504e+05</td>\n",
       "      <td>846.8 -&gt; 547.6</td>\n",
       "      <td>TAG</td>\n",
       "      <td>FAD189_M2-5xFAD-cerebTG18-1_o3on</td>\n",
       "      <td>13.79</td>\n",
       "      <td>69875.0</td>\n",
       "      <td>820.8</td>\n",
       "      <td>792.8</td>\n",
       "      <td>764.8</td>\n",
       "      <td>736.8</td>\n",
       "      <td>708.8</td>\n",
       "    </tr>\n",
       "    <tr>\n",
       "      <th>136</th>\n",
       "      <td>[TG(51:9),TG(50:2)]_FA18:1</td>\n",
       "      <td>848.8</td>\n",
       "      <td>549.6</td>\n",
       "      <td>4.675840e+05</td>\n",
       "      <td>848.8 -&gt; 549.6</td>\n",
       "      <td>TAG</td>\n",
       "      <td>FAD189_M2-5xFAD-cerebTG18-1_o3on</td>\n",
       "      <td>15.13</td>\n",
       "      <td>128296.0</td>\n",
       "      <td>822.8</td>\n",
       "      <td>794.8</td>\n",
       "      <td>766.8</td>\n",
       "      <td>738.8</td>\n",
       "      <td>710.8</td>\n",
       "    </tr>\n",
       "    <tr>\n",
       "      <th>137</th>\n",
       "      <td>[TG(51:8),TG(50:1)]_FA18:1</td>\n",
       "      <td>850.8</td>\n",
       "      <td>551.6</td>\n",
       "      <td>7.433079e+05</td>\n",
       "      <td>850.8 -&gt; 551.6</td>\n",
       "      <td>TAG</td>\n",
       "      <td>FAD189_M2-5xFAD-cerebTG18-1_o3on</td>\n",
       "      <td>NaN</td>\n",
       "      <td>NaN</td>\n",
       "      <td>824.8</td>\n",
       "      <td>796.8</td>\n",
       "      <td>768.8</td>\n",
       "      <td>740.8</td>\n",
       "      <td>712.8</td>\n",
       "    </tr>\n",
       "    <tr>\n",
       "      <th>138</th>\n",
       "      <td>[TG(52:4)]_FA18:1</td>\n",
       "      <td>872.8</td>\n",
       "      <td>573.6</td>\n",
       "      <td>8.369461e+04</td>\n",
       "      <td>872.8 -&gt; 573.6</td>\n",
       "      <td>TAG</td>\n",
       "      <td>FAD189_M2-5xFAD-cerebTG18-1_o3on</td>\n",
       "      <td>13.78</td>\n",
       "      <td>78707.0</td>\n",
       "      <td>846.8</td>\n",
       "      <td>818.8</td>\n",
       "      <td>790.8</td>\n",
       "      <td>762.8</td>\n",
       "      <td>734.8</td>\n",
       "    </tr>\n",
       "    <tr>\n",
       "      <th>139</th>\n",
       "      <td>[TG(53:10),TG(52:3)]_FA18:1</td>\n",
       "      <td>874.8</td>\n",
       "      <td>575.6</td>\n",
       "      <td>4.096324e+05</td>\n",
       "      <td>874.8 -&gt; 575.6</td>\n",
       "      <td>TAG</td>\n",
       "      <td>FAD189_M2-5xFAD-cerebTG18-1_o3on</td>\n",
       "      <td>14.99</td>\n",
       "      <td>467244.0</td>\n",
       "      <td>848.8</td>\n",
       "      <td>820.8</td>\n",
       "      <td>792.8</td>\n",
       "      <td>764.8</td>\n",
       "      <td>736.8</td>\n",
       "    </tr>\n",
       "    <tr>\n",
       "      <th>140</th>\n",
       "      <td>[TG(53:9),TG(52:2)]_FA18:1</td>\n",
       "      <td>876.8</td>\n",
       "      <td>577.6</td>\n",
       "      <td>1.942159e+06</td>\n",
       "      <td>876.8 -&gt; 577.6</td>\n",
       "      <td>TAG</td>\n",
       "      <td>FAD189_M2-5xFAD-cerebTG18-1_o3on</td>\n",
       "      <td>NaN</td>\n",
       "      <td>NaN</td>\n",
       "      <td>850.8</td>\n",
       "      <td>822.8</td>\n",
       "      <td>794.8</td>\n",
       "      <td>766.8</td>\n",
       "      <td>738.8</td>\n",
       "    </tr>\n",
       "    <tr>\n",
       "      <th>141</th>\n",
       "      <td>[TG(54:5)]_FA18:1</td>\n",
       "      <td>898.8</td>\n",
       "      <td>599.6</td>\n",
       "      <td>9.046281e+04</td>\n",
       "      <td>898.8 -&gt; 599.6</td>\n",
       "      <td>TAG</td>\n",
       "      <td>FAD189_M2-5xFAD-cerebTG18-1_o3on</td>\n",
       "      <td>13.65</td>\n",
       "      <td>55862.0</td>\n",
       "      <td>872.8</td>\n",
       "      <td>844.8</td>\n",
       "      <td>816.8</td>\n",
       "      <td>788.8</td>\n",
       "      <td>760.8</td>\n",
       "    </tr>\n",
       "    <tr>\n",
       "      <th>142</th>\n",
       "      <td>[TG(55:11),TG(54:4)]_FA18:1</td>\n",
       "      <td>900.8</td>\n",
       "      <td>601.6</td>\n",
       "      <td>2.408274e+05</td>\n",
       "      <td>900.8 -&gt; 601.6</td>\n",
       "      <td>TAG</td>\n",
       "      <td>FAD189_M2-5xFAD-cerebTG18-1_o3on</td>\n",
       "      <td>14.74</td>\n",
       "      <td>322487.0</td>\n",
       "      <td>874.8</td>\n",
       "      <td>846.8</td>\n",
       "      <td>818.8</td>\n",
       "      <td>790.8</td>\n",
       "      <td>762.8</td>\n",
       "    </tr>\n",
       "    <tr>\n",
       "      <th>143</th>\n",
       "      <td>[TG(55:10),TG(54:3)]_FA18:1</td>\n",
       "      <td>902.8</td>\n",
       "      <td>603.6</td>\n",
       "      <td>9.619961e+05</td>\n",
       "      <td>902.8 -&gt; 603.6</td>\n",
       "      <td>TAG</td>\n",
       "      <td>FAD189_M2-5xFAD-cerebTG18-1_o3on</td>\n",
       "      <td>18.73</td>\n",
       "      <td>61029498.0</td>\n",
       "      <td>876.8</td>\n",
       "      <td>848.8</td>\n",
       "      <td>820.8</td>\n",
       "      <td>792.8</td>\n",
       "      <td>764.8</td>\n",
       "    </tr>\n",
       "  </tbody>\n",
       "</table>\n",
       "</div>"
      ],
      "text/plain": [
       "                              Lipid  Parent_Ion  Product_Ion     Intensity  \\\n",
       "8    n-9 [TG(51:8),TG(50:1)]_FA18:1       740.8        551.6  6.763187e+05   \n",
       "17   n-7 [TG(51:8),TG(50:1)]_FA18:1       768.8        551.6  5.531090e+05   \n",
       "18            n-9 [TG(54:5)]_FA18:1       788.8        599.6  1.979925e+05   \n",
       "20            n-7 [TG(52:4)]_FA18:1       790.8        601.6  1.738255e+05   \n",
       "22            n-5 [TG(50:3)]_FA18:1       792.8        603.6  5.834245e+05   \n",
       "24            n-7 [TG(54:5)]_FA18:1       816.8        599.6  9.140759e+04   \n",
       "25            n-5 [TG(52:4)]_FA18:1       818.8        601.6  1.435897e+05   \n",
       "26            n-3 [TG(50:3)]_FA18:1       820.8        603.6  5.121471e+05   \n",
       "27                [TG(50:3)]_FA18:1       846.8        547.6  1.867125e+06   \n",
       "28       [TG(51:9),TG(50:2)]_FA18:1       848.8        549.6  9.221320e+06   \n",
       "29       [TG(51:8),TG(50:1)]_FA18:1       850.8        551.6  2.642686e+07   \n",
       "30                [TG(52:4)]_FA18:1       872.8        573.6  2.726686e+06   \n",
       "31      [TG(53:10),TG(52:3)]_FA18:1       874.8        575.6  2.228625e+07   \n",
       "32       [TG(53:9),TG(52:2)]_FA18:1       876.8        577.6  5.144882e+07   \n",
       "33                [TG(54:5)]_FA18:1       898.8        599.6  9.637367e+06   \n",
       "34      [TG(55:11),TG(54:4)]_FA18:1       900.8        601.6  2.223195e+07   \n",
       "35      [TG(55:10),TG(54:3)]_FA18:1       902.8        603.6  3.777517e+07   \n",
       "44   n-9 [TG(51:8),TG(50:1)]_FA18:1       740.8        551.6  3.894566e+05   \n",
       "53   n-7 [TG(51:8),TG(50:1)]_FA18:1       768.8        551.6  3.130422e+05   \n",
       "54            n-9 [TG(54:5)]_FA18:1       788.8        599.6  1.242812e+05   \n",
       "56        n-3 n-7 [TG(54:5)]_FA18:1       790.8        601.6  9.177333e+04   \n",
       "58        n-3 n-5 [TG(52:4)]_FA18:1       792.8        603.6  1.980765e+05   \n",
       "60            n-7 [TG(54:5)]_FA18:1       816.8        599.6  5.895944e+04   \n",
       "61            n-5 [TG(52:4)]_FA18:1       818.8        601.6  6.129654e+04   \n",
       "62            n-3 [TG(50:3)]_FA18:1       820.8        603.6  1.324718e+05   \n",
       "63                [TG(50:3)]_FA18:1       846.8        547.6  5.247269e+05   \n",
       "64       [TG(51:9),TG(50:2)]_FA18:1       848.8        549.6  2.780015e+06   \n",
       "65       [TG(51:8),TG(50:1)]_FA18:1       850.8        551.6  5.568291e+06   \n",
       "66                [TG(52:4)]_FA18:1       872.8        573.6  3.205664e+05   \n",
       "67      [TG(53:10),TG(52:3)]_FA18:1       874.8        575.6  3.625196e+06   \n",
       "68       [TG(53:9),TG(52:2)]_FA18:1       876.8        577.6  1.591732e+07   \n",
       "69                [TG(54:5)]_FA18:1       898.8        599.6  8.353259e+05   \n",
       "70      [TG(55:11),TG(54:4)]_FA18:1       900.8        601.6  2.563902e+06   \n",
       "71      [TG(55:10),TG(54:3)]_FA18:1       902.8        603.6  8.728052e+06   \n",
       "80   n-9 [TG(51:8),TG(50:1)]_FA18:1       740.8        551.6  2.087550e+05   \n",
       "89   n-7 [TG(51:8),TG(50:1)]_FA18:1       768.8        551.6  1.725389e+05   \n",
       "90            n-9 [TG(54:5)]_FA18:1       788.8        599.6  4.115802e+04   \n",
       "92        n-3 n-7 [TG(54:5)]_FA18:1       790.8        601.6  4.584176e+04   \n",
       "94        n-3 n-5 [TG(52:4)]_FA18:1       792.8        603.6  9.297987e+04   \n",
       "96            n-7 [TG(54:5)]_FA18:1       816.8        599.6  3.360196e+04   \n",
       "97            n-5 [TG(52:4)]_FA18:1       818.8        601.6  3.449056e+04   \n",
       "98            n-3 [TG(50:3)]_FA18:1       820.8        603.6  6.178894e+04   \n",
       "99                [TG(50:3)]_FA18:1       846.8        547.6  2.521077e+05   \n",
       "100      [TG(51:9),TG(50:2)]_FA18:1       848.8        549.6  1.024702e+06   \n",
       "101      [TG(51:8),TG(50:1)]_FA18:1       850.8        551.6  1.571957e+06   \n",
       "102               [TG(52:4)]_FA18:1       872.8        573.6  1.491063e+05   \n",
       "103     [TG(53:10),TG(52:3)]_FA18:1       874.8        575.6  1.136399e+06   \n",
       "104      [TG(53:9),TG(52:2)]_FA18:1       876.8        577.6  5.148773e+06   \n",
       "105               [TG(54:5)]_FA18:1       898.8        599.6  2.117767e+05   \n",
       "106     [TG(55:11),TG(54:4)]_FA18:1       900.8        601.6  6.729949e+05   \n",
       "107     [TG(55:10),TG(54:3)]_FA18:1       902.8        603.6  2.601031e+06   \n",
       "116  n-9 [TG(51:8),TG(50:1)]_FA18:1       740.8        551.6  2.259481e+05   \n",
       "125  n-7 [TG(51:8),TG(50:1)]_FA18:1       768.8        551.6  1.769281e+05   \n",
       "126           n-9 [TG(54:5)]_FA18:1       788.8        599.6  4.532898e+04   \n",
       "128       n-3 n-7 [TG(54:5)]_FA18:1       790.8        601.6  5.248346e+04   \n",
       "130       n-3 n-5 [TG(52:4)]_FA18:1       792.8        603.6  1.204137e+05   \n",
       "132           n-7 [TG(54:5)]_FA18:1       816.8        599.6  3.403240e+04   \n",
       "133           n-5 [TG(52:4)]_FA18:1       818.8        601.6  3.437424e+04   \n",
       "134           n-3 [TG(50:3)]_FA18:1       820.8        603.6  5.509860e+04   \n",
       "135               [TG(50:3)]_FA18:1       846.8        547.6  1.421504e+05   \n",
       "136      [TG(51:9),TG(50:2)]_FA18:1       848.8        549.6  4.675840e+05   \n",
       "137      [TG(51:8),TG(50:1)]_FA18:1       850.8        551.6  7.433079e+05   \n",
       "138               [TG(52:4)]_FA18:1       872.8        573.6  8.369461e+04   \n",
       "139     [TG(53:10),TG(52:3)]_FA18:1       874.8        575.6  4.096324e+05   \n",
       "140      [TG(53:9),TG(52:2)]_FA18:1       876.8        577.6  1.942159e+06   \n",
       "141               [TG(54:5)]_FA18:1       898.8        599.6  9.046281e+04   \n",
       "142     [TG(55:11),TG(54:4)]_FA18:1       900.8        601.6  2.408274e+05   \n",
       "143     [TG(55:10),TG(54:3)]_FA18:1       902.8        603.6  9.619961e+05   \n",
       "\n",
       "         Transition Class                            Sample_ID  \\\n",
       "8    740.8 -> 551.6   NaN   DOD93_F4-5xFAD-Cereb_TG18-1_o2only   \n",
       "17   768.8 -> 551.6   NaN   DOD93_F4-5xFAD-Cereb_TG18-1_o2only   \n",
       "18   788.8 -> 599.6   NaN   DOD93_F4-5xFAD-Cereb_TG18-1_o2only   \n",
       "20   790.8 -> 601.6   NaN   DOD93_F4-5xFAD-Cereb_TG18-1_o2only   \n",
       "22   792.8 -> 603.6   NaN   DOD93_F4-5xFAD-Cereb_TG18-1_o2only   \n",
       "24   816.8 -> 599.6   NaN   DOD93_F4-5xFAD-Cereb_TG18-1_o2only   \n",
       "25   818.8 -> 601.6   NaN   DOD93_F4-5xFAD-Cereb_TG18-1_o2only   \n",
       "26   820.8 -> 603.6   NaN   DOD93_F4-5xFAD-Cereb_TG18-1_o2only   \n",
       "27   846.8 -> 547.6   TAG   DOD93_F4-5xFAD-Cereb_TG18-1_o2only   \n",
       "28   848.8 -> 549.6   TAG   DOD93_F4-5xFAD-Cereb_TG18-1_o2only   \n",
       "29   850.8 -> 551.6   TAG   DOD93_F4-5xFAD-Cereb_TG18-1_o2only   \n",
       "30   872.8 -> 573.6   TAG   DOD93_F4-5xFAD-Cereb_TG18-1_o2only   \n",
       "31   874.8 -> 575.6   TAG   DOD93_F4-5xFAD-Cereb_TG18-1_o2only   \n",
       "32   876.8 -> 577.6   TAG   DOD93_F4-5xFAD-Cereb_TG18-1_o2only   \n",
       "33   898.8 -> 599.6   TAG   DOD93_F4-5xFAD-Cereb_TG18-1_o2only   \n",
       "34   900.8 -> 601.6   TAG   DOD93_F4-5xFAD-Cereb_TG18-1_o2only   \n",
       "35   902.8 -> 603.6   TAG   DOD93_F4-5xFAD-Cereb_TG18-1_o2only   \n",
       "44   740.8 -> 551.6   NaN   DOD94-F4-5xFAD-hippo_TG18-1_o2only   \n",
       "53   768.8 -> 551.6   NaN   DOD94-F4-5xFAD-hippo_TG18-1_o2only   \n",
       "54   788.8 -> 599.6   NaN   DOD94-F4-5xFAD-hippo_TG18-1_o2only   \n",
       "56   790.8 -> 601.6   NaN   DOD94-F4-5xFAD-hippo_TG18-1_o2only   \n",
       "58   792.8 -> 603.6   NaN   DOD94-F4-5xFAD-hippo_TG18-1_o2only   \n",
       "60   816.8 -> 599.6   NaN   DOD94-F4-5xFAD-hippo_TG18-1_o2only   \n",
       "61   818.8 -> 601.6   NaN   DOD94-F4-5xFAD-hippo_TG18-1_o2only   \n",
       "62   820.8 -> 603.6   NaN   DOD94-F4-5xFAD-hippo_TG18-1_o2only   \n",
       "63   846.8 -> 547.6   TAG   DOD94-F4-5xFAD-hippo_TG18-1_o2only   \n",
       "64   848.8 -> 549.6   TAG   DOD94-F4-5xFAD-hippo_TG18-1_o2only   \n",
       "65   850.8 -> 551.6   TAG   DOD94-F4-5xFAD-hippo_TG18-1_o2only   \n",
       "66   872.8 -> 573.6   TAG   DOD94-F4-5xFAD-hippo_TG18-1_o2only   \n",
       "67   874.8 -> 575.6   TAG   DOD94-F4-5xFAD-hippo_TG18-1_o2only   \n",
       "68   876.8 -> 577.6   TAG   DOD94-F4-5xFAD-hippo_TG18-1_o2only   \n",
       "69   898.8 -> 599.6   TAG   DOD94-F4-5xFAD-hippo_TG18-1_o2only   \n",
       "70   900.8 -> 601.6   TAG   DOD94-F4-5xFAD-hippo_TG18-1_o2only   \n",
       "71   902.8 -> 603.6   TAG   DOD94-F4-5xFAD-hippo_TG18-1_o2only   \n",
       "80   740.8 -> 551.6   NaN  FAD185-M1-5xFAD-hippo_TG18-1_o2only   \n",
       "89   768.8 -> 551.6   NaN  FAD185-M1-5xFAD-hippo_TG18-1_o2only   \n",
       "90   788.8 -> 599.6   NaN  FAD185-M1-5xFAD-hippo_TG18-1_o2only   \n",
       "92   790.8 -> 601.6   NaN  FAD185-M1-5xFAD-hippo_TG18-1_o2only   \n",
       "94   792.8 -> 603.6   NaN  FAD185-M1-5xFAD-hippo_TG18-1_o2only   \n",
       "96   816.8 -> 599.6   NaN  FAD185-M1-5xFAD-hippo_TG18-1_o2only   \n",
       "97   818.8 -> 601.6   NaN  FAD185-M1-5xFAD-hippo_TG18-1_o2only   \n",
       "98   820.8 -> 603.6   NaN  FAD185-M1-5xFAD-hippo_TG18-1_o2only   \n",
       "99   846.8 -> 547.6   TAG  FAD185-M1-5xFAD-hippo_TG18-1_o2only   \n",
       "100  848.8 -> 549.6   TAG  FAD185-M1-5xFAD-hippo_TG18-1_o2only   \n",
       "101  850.8 -> 551.6   TAG  FAD185-M1-5xFAD-hippo_TG18-1_o2only   \n",
       "102  872.8 -> 573.6   TAG  FAD185-M1-5xFAD-hippo_TG18-1_o2only   \n",
       "103  874.8 -> 575.6   TAG  FAD185-M1-5xFAD-hippo_TG18-1_o2only   \n",
       "104  876.8 -> 577.6   TAG  FAD185-M1-5xFAD-hippo_TG18-1_o2only   \n",
       "105  898.8 -> 599.6   TAG  FAD185-M1-5xFAD-hippo_TG18-1_o2only   \n",
       "106  900.8 -> 601.6   TAG  FAD185-M1-5xFAD-hippo_TG18-1_o2only   \n",
       "107  902.8 -> 603.6   TAG  FAD185-M1-5xFAD-hippo_TG18-1_o2only   \n",
       "116  740.8 -> 551.6   NaN     FAD189_M2-5xFAD-cerebTG18-1_o3on   \n",
       "125  768.8 -> 551.6   NaN     FAD189_M2-5xFAD-cerebTG18-1_o3on   \n",
       "126  788.8 -> 599.6   NaN     FAD189_M2-5xFAD-cerebTG18-1_o3on   \n",
       "128  790.8 -> 601.6   NaN     FAD189_M2-5xFAD-cerebTG18-1_o3on   \n",
       "130  792.8 -> 603.6   NaN     FAD189_M2-5xFAD-cerebTG18-1_o3on   \n",
       "132  816.8 -> 599.6   NaN     FAD189_M2-5xFAD-cerebTG18-1_o3on   \n",
       "133  818.8 -> 601.6   NaN     FAD189_M2-5xFAD-cerebTG18-1_o3on   \n",
       "134  820.8 -> 603.6   NaN     FAD189_M2-5xFAD-cerebTG18-1_o3on   \n",
       "135  846.8 -> 547.6   TAG     FAD189_M2-5xFAD-cerebTG18-1_o3on   \n",
       "136  848.8 -> 549.6   TAG     FAD189_M2-5xFAD-cerebTG18-1_o3on   \n",
       "137  850.8 -> 551.6   TAG     FAD189_M2-5xFAD-cerebTG18-1_o3on   \n",
       "138  872.8 -> 573.6   TAG     FAD189_M2-5xFAD-cerebTG18-1_o3on   \n",
       "139  874.8 -> 575.6   TAG     FAD189_M2-5xFAD-cerebTG18-1_o3on   \n",
       "140  876.8 -> 577.6   TAG     FAD189_M2-5xFAD-cerebTG18-1_o3on   \n",
       "141  898.8 -> 599.6   TAG     FAD189_M2-5xFAD-cerebTG18-1_o3on   \n",
       "142  900.8 -> 601.6   TAG     FAD189_M2-5xFAD-cerebTG18-1_o3on   \n",
       "143  902.8 -> 603.6   TAG     FAD189_M2-5xFAD-cerebTG18-1_o3on   \n",
       "\n",
       "     Retention_Time  Intensity_OzESI    n-3    n-5    n-7    n-9   n-11  \n",
       "8               NaN              NaN  714.8  686.8  658.8  630.8  602.8  \n",
       "17              NaN              NaN  742.8  714.8  686.8  658.8  630.8  \n",
       "18              NaN              NaN  762.8  734.8  706.8  678.8  650.8  \n",
       "20              NaN              NaN  764.8  736.8  708.8  680.8  652.8  \n",
       "22              NaN              NaN  766.8  738.8  710.8  682.8  654.8  \n",
       "24              NaN              NaN  790.8  762.8  734.8  706.8  678.8  \n",
       "25              NaN              NaN  792.8  764.8  736.8  708.8  680.8  \n",
       "26              NaN              NaN  794.8  766.8  738.8  710.8  682.8  \n",
       "27            13.79          69875.0  820.8  792.8  764.8  736.8  708.8  \n",
       "28            15.13         128296.0  822.8  794.8  766.8  738.8  710.8  \n",
       "29              NaN              NaN  824.8  796.8  768.8  740.8  712.8  \n",
       "30            13.78          78707.0  846.8  818.8  790.8  762.8  734.8  \n",
       "31            14.99         467244.0  848.8  820.8  792.8  764.8  736.8  \n",
       "32              NaN              NaN  850.8  822.8  794.8  766.8  738.8  \n",
       "33            13.65          55862.0  872.8  844.8  816.8  788.8  760.8  \n",
       "34            14.74         322487.0  874.8  846.8  818.8  790.8  762.8  \n",
       "35            18.73       61029498.0  876.8  848.8  820.8  792.8  764.8  \n",
       "44              NaN              NaN  714.8  686.8  658.8  630.8  602.8  \n",
       "53              NaN              NaN  742.8  714.8  686.8  658.8  630.8  \n",
       "54              NaN              NaN  762.8  734.8  706.8  678.8  650.8  \n",
       "56              NaN              NaN  764.8  736.8  708.8  680.8  652.8  \n",
       "58              NaN              NaN  766.8  738.8  710.8  682.8  654.8  \n",
       "60              NaN              NaN  790.8  762.8  734.8  706.8  678.8  \n",
       "61              NaN              NaN  792.8  764.8  736.8  708.8  680.8  \n",
       "62              NaN              NaN  794.8  766.8  738.8  710.8  682.8  \n",
       "63            13.79          69875.0  820.8  792.8  764.8  736.8  708.8  \n",
       "64            15.13         128296.0  822.8  794.8  766.8  738.8  710.8  \n",
       "65              NaN              NaN  824.8  796.8  768.8  740.8  712.8  \n",
       "66            13.78          78707.0  846.8  818.8  790.8  762.8  734.8  \n",
       "67            14.99         467244.0  848.8  820.8  792.8  764.8  736.8  \n",
       "68              NaN              NaN  850.8  822.8  794.8  766.8  738.8  \n",
       "69            13.65          55862.0  872.8  844.8  816.8  788.8  760.8  \n",
       "70            14.74         322487.0  874.8  846.8  818.8  790.8  762.8  \n",
       "71            18.73       61029498.0  876.8  848.8  820.8  792.8  764.8  \n",
       "80              NaN              NaN  714.8  686.8  658.8  630.8  602.8  \n",
       "89              NaN              NaN  742.8  714.8  686.8  658.8  630.8  \n",
       "90              NaN              NaN  762.8  734.8  706.8  678.8  650.8  \n",
       "92              NaN              NaN  764.8  736.8  708.8  680.8  652.8  \n",
       "94              NaN              NaN  766.8  738.8  710.8  682.8  654.8  \n",
       "96              NaN              NaN  790.8  762.8  734.8  706.8  678.8  \n",
       "97              NaN              NaN  792.8  764.8  736.8  708.8  680.8  \n",
       "98              NaN              NaN  794.8  766.8  738.8  710.8  682.8  \n",
       "99            13.79          69875.0  820.8  792.8  764.8  736.8  708.8  \n",
       "100           15.13         128296.0  822.8  794.8  766.8  738.8  710.8  \n",
       "101             NaN              NaN  824.8  796.8  768.8  740.8  712.8  \n",
       "102           13.78          78707.0  846.8  818.8  790.8  762.8  734.8  \n",
       "103           14.99         467244.0  848.8  820.8  792.8  764.8  736.8  \n",
       "104             NaN              NaN  850.8  822.8  794.8  766.8  738.8  \n",
       "105           13.65          55862.0  872.8  844.8  816.8  788.8  760.8  \n",
       "106           14.74         322487.0  874.8  846.8  818.8  790.8  762.8  \n",
       "107           18.73       61029498.0  876.8  848.8  820.8  792.8  764.8  \n",
       "116             NaN              NaN  714.8  686.8  658.8  630.8  602.8  \n",
       "125             NaN              NaN  742.8  714.8  686.8  658.8  630.8  \n",
       "126             NaN              NaN  762.8  734.8  706.8  678.8  650.8  \n",
       "128             NaN              NaN  764.8  736.8  708.8  680.8  652.8  \n",
       "130             NaN              NaN  766.8  738.8  710.8  682.8  654.8  \n",
       "132             NaN              NaN  790.8  762.8  734.8  706.8  678.8  \n",
       "133             NaN              NaN  792.8  764.8  736.8  708.8  680.8  \n",
       "134             NaN              NaN  794.8  766.8  738.8  710.8  682.8  \n",
       "135           13.79          69875.0  820.8  792.8  764.8  736.8  708.8  \n",
       "136           15.13         128296.0  822.8  794.8  766.8  738.8  710.8  \n",
       "137             NaN              NaN  824.8  796.8  768.8  740.8  712.8  \n",
       "138           13.78          78707.0  846.8  818.8  790.8  762.8  734.8  \n",
       "139           14.99         467244.0  848.8  820.8  792.8  764.8  736.8  \n",
       "140             NaN              NaN  850.8  822.8  794.8  766.8  738.8  \n",
       "141           13.65          55862.0  872.8  844.8  816.8  788.8  760.8  \n",
       "142           14.74         322487.0  874.8  846.8  818.8  790.8  762.8  \n",
       "143           18.73       61029498.0  876.8  848.8  820.8  792.8  764.8  "
      ]
     },
     "execution_count": 30,
     "metadata": {},
     "output_type": "execute_result"
    }
   ],
   "source": [
    "### Not working \n",
    "#Supposed to add n-# and lipid name to lipid column, see github for previous working version\n",
    "OzESI_list = [3,5,7,9,11]\n",
    "def add_lipid_info(df_OzESI_processed, OzESI_list):\n",
    "    # Create a copy of the original dataframe\n",
    "    df_test = df_matched.copy()\n",
    "    \n",
    "    # Convert Parent_Ion column to float\n",
    "    df_test['Parent_Ion'] = df_test['Parent_Ion'].astype(float)\n",
    "    \n",
    "    # Convert all n-# columns to float\n",
    "    for i in OzESI_list:\n",
    "        df_test['n-' + str(i)] = df_test['n-' + str(i)].astype(float)\n",
    "    \n",
    "    # Search for n-# in Parent_Ion and add the corresponding lipid to the Lipid column\n",
    "    for i in range(len(df_test)):\n",
    "        for j in range(len(df_test)):\n",
    "            if pd.isna(df_test.loc[i,'Lipid']):\n",
    "                # print(i,j)\n",
    "                parent_ion = df_test.loc[i,'Parent_Ion']\n",
    "                if parent_ion == df_test.loc[j,'n-3'] and isinstance(df_test.loc[j,'Lipid'], str):\n",
    "                    df_test.loc[i,'Lipid'] = 'n-3 ' + (df_test.loc[j,'Lipid'])\n",
    "                elif parent_ion == df_test.loc[j,'n-5'] and isinstance(df_test.loc[j,'Lipid'], str):\n",
    "                    df_test.loc[i,'Lipid'] = 'n-5 ' + (df_test.loc[j,'Lipid'])\n",
    "                elif parent_ion == df_test.loc[j,'n-7'] and isinstance(df_test.loc[j,'Lipid'], str):\n",
    "                    print('n-7', i)\n",
    "                    print(df_test.loc[j,'Lipid'],parent_ion)\n",
    "                    df_test.loc[i,'Lipid'] = 'n-7 ' + (df_test.loc[j,'Lipid'])\n",
    "                elif parent_ion == df_test.loc[j,'n-9'] and isinstance(df_test.loc[j,'Lipid'], str):\n",
    "                    df_test.loc[i,'Lipid'] = 'n-9 ' + (df_test.loc[j,'Lipid'])\n",
    "                elif parent_ion == df_test.loc[j,'n-11'] and isinstance(df_test.loc[j,'Lipid'], str):\n",
    "                    df_test.loc[i,'Lipid'] = 'n-11 '+ (df_test.loc[j,'Lipid'])\n",
    "                else:\n",
    "                    pass\n",
    "    df_test.dropna(subset=['Lipid'], inplace=True)\n",
    "    return df_test\n",
    "\n",
    "pd.set_option('display.max_rows', None)\n",
    "df_test = add_lipid_info(df_OzESI_processed, OzESI_list)\n",
    "df_test.head(None)"
   ]
  },
  {
   "attachments": {},
   "cell_type": "markdown",
   "metadata": {},
   "source": [
    "Plotting Functions"
   ]
  },
  {
   "cell_type": "code",
   "execution_count": 22,
   "metadata": {},
   "outputs": [
    {
     "name": "stderr",
     "output_type": "stream",
     "text": [
      "/home/sanjay/anaconda3/envs/pymzml/lib/python3.9/site-packages/tqdm/auto.py:21: TqdmWarning: IProgress not found. Please update jupyter and ipywidgets. See https://ipywidgets.readthedocs.io/en/stable/user_install.html\n",
      "  from .autonotebook import tqdm as notebook_tqdm\n"
     ]
    }
   ],
   "source": [
    "#import visualization libraries\n",
    "import umap\n",
    "import matplotlib.pyplot as plt\n",
    "import seaborn as sns\n",
    "import plotly.express as px\n",
    "import plotly.graph_objects as go"
   ]
  },
  {
   "cell_type": "code",
   "execution_count": 25,
   "metadata": {},
   "outputs": [
    {
     "data": {
      "application/vnd.plotly.v1+json": {
       "config": {
        "plotlyServerURL": "https://plot.ly"
       },
       "data": [
        {
         "alignmentgroup": "True",
         "customdata": [
          [
           "[TG(37:0)]_FA14:0",
           "TAG"
          ]
         ],
         "hovertemplate": "Lipid=%{customdata[0]}<br>Transition=%{x}<br>Intensity=%{y}<br>Class=%{customdata[1]}<extra></extra>",
         "legendgroup": "[TG(37:0)]_FA14:0",
         "marker": {
          "color": "#636efa"
         },
         "name": "[TG(37:0)]_FA14:0",
         "offsetgroup": "[TG(37:0)]_FA14:0",
         "orientation": "v",
         "showlegend": true,
         "textposition": "auto",
         "type": "bar",
         "x": [
          "670.6 -> 425.4"
         ],
         "xaxis": "x",
         "y": [
          45072.822998046875
         ],
         "yaxis": "y"
        },
        {
         "alignmentgroup": "True",
         "customdata": [
          [
           "[TG(38:1)]_FA14:0",
           "TAG"
          ]
         ],
         "hovertemplate": "Lipid=%{customdata[0]}<br>Transition=%{x}<br>Intensity=%{y}<br>Class=%{customdata[1]}<extra></extra>",
         "legendgroup": "[TG(38:1)]_FA14:0",
         "marker": {
          "color": "#EF553B"
         },
         "name": "[TG(38:1)]_FA14:0",
         "offsetgroup": "[TG(38:1)]_FA14:0",
         "orientation": "v",
         "showlegend": true,
         "textposition": "auto",
         "type": "bar",
         "x": [
          "682.6 -> 437.4"
         ],
         "xaxis": "x",
         "y": [
          64211.844482421875
         ],
         "yaxis": "y"
        },
        {
         "alignmentgroup": "True",
         "customdata": [
          [
           "[TG(38:0)]_FA14:0",
           "TAG"
          ]
         ],
         "hovertemplate": "Lipid=%{customdata[0]}<br>Transition=%{x}<br>Intensity=%{y}<br>Class=%{customdata[1]}<extra></extra>",
         "legendgroup": "[TG(38:0)]_FA14:0",
         "marker": {
          "color": "#00cc96"
         },
         "name": "[TG(38:0)]_FA14:0",
         "offsetgroup": "[TG(38:0)]_FA14:0",
         "orientation": "v",
         "showlegend": true,
         "textposition": "auto",
         "type": "bar",
         "x": [
          "684.6 -> 439.4"
         ],
         "xaxis": "x",
         "y": [
          237300.73681640625
         ],
         "yaxis": "y"
        },
        {
         "alignmentgroup": "True",
         "customdata": [
          [
           "[TG(39:1)]_FA14:0",
           "TAG"
          ]
         ],
         "hovertemplate": "Lipid=%{customdata[0]}<br>Transition=%{x}<br>Intensity=%{y}<br>Class=%{customdata[1]}<extra></extra>",
         "legendgroup": "[TG(39:1)]_FA14:0",
         "marker": {
          "color": "#ab63fa"
         },
         "name": "[TG(39:1)]_FA14:0",
         "offsetgroup": "[TG(39:1)]_FA14:0",
         "orientation": "v",
         "showlegend": true,
         "textposition": "auto",
         "type": "bar",
         "x": [
          "696.6 -> 451.4"
         ],
         "xaxis": "x",
         "y": [
          27744.182037353516
         ],
         "yaxis": "y"
        },
        {
         "alignmentgroup": "True",
         "customdata": [
          [
           "[TG(39:0)]_FA14:0",
           "TAG"
          ]
         ],
         "hovertemplate": "Lipid=%{customdata[0]}<br>Transition=%{x}<br>Intensity=%{y}<br>Class=%{customdata[1]}<extra></extra>",
         "legendgroup": "[TG(39:0)]_FA14:0",
         "marker": {
          "color": "#FFA15A"
         },
         "name": "[TG(39:0)]_FA14:0",
         "offsetgroup": "[TG(39:0)]_FA14:0",
         "orientation": "v",
         "showlegend": true,
         "textposition": "auto",
         "type": "bar",
         "x": [
          "698.6 -> 453.4"
         ],
         "xaxis": "x",
         "y": [
          37315.48260498047
         ],
         "yaxis": "y"
        },
        {
         "alignmentgroup": "True",
         "customdata": [
          [
           "[TG(40:2)]_FA14:0",
           "TAG"
          ]
         ],
         "hovertemplate": "Lipid=%{customdata[0]}<br>Transition=%{x}<br>Intensity=%{y}<br>Class=%{customdata[1]}<extra></extra>",
         "legendgroup": "[TG(40:2)]_FA14:0",
         "marker": {
          "color": "#19d3f3"
         },
         "name": "[TG(40:2)]_FA14:0",
         "offsetgroup": "[TG(40:2)]_FA14:0",
         "orientation": "v",
         "showlegend": true,
         "textposition": "auto",
         "type": "bar",
         "x": [
          "708.6 -> 463.4"
         ],
         "xaxis": "x",
         "y": [
          24415.261688232422
         ],
         "yaxis": "y"
        },
        {
         "alignmentgroup": "True",
         "customdata": [
          [
           "[TG(40:1)]_FA14:0",
           "TAG"
          ]
         ],
         "hovertemplate": "Lipid=%{customdata[0]}<br>Transition=%{x}<br>Intensity=%{y}<br>Class=%{customdata[1]}<extra></extra>",
         "legendgroup": "[TG(40:1)]_FA14:0",
         "marker": {
          "color": "#FF6692"
         },
         "name": "[TG(40:1)]_FA14:0",
         "offsetgroup": "[TG(40:1)]_FA14:0",
         "orientation": "v",
         "showlegend": true,
         "textposition": "auto",
         "type": "bar",
         "x": [
          "710.6 -> 465.4"
         ],
         "xaxis": "x",
         "y": [
          34708.20263671875
         ],
         "yaxis": "y"
        },
        {
         "alignmentgroup": "True",
         "customdata": [
          [
           "[TG(40:0)]_FA14:0",
           "TAG"
          ]
         ],
         "hovertemplate": "Lipid=%{customdata[0]}<br>Transition=%{x}<br>Intensity=%{y}<br>Class=%{customdata[1]}<extra></extra>",
         "legendgroup": "[TG(40:0)]_FA14:0",
         "marker": {
          "color": "#B6E880"
         },
         "name": "[TG(40:0)]_FA14:0",
         "offsetgroup": "[TG(40:0)]_FA14:0",
         "orientation": "v",
         "showlegend": true,
         "textposition": "auto",
         "type": "bar",
         "x": [
          "712.6 -> 467.4"
         ],
         "xaxis": "x",
         "y": [
          155327.89086914062
         ],
         "yaxis": "y"
        },
        {
         "alignmentgroup": "True",
         "customdata": [
          [
           "[TG(41:2)]_FA14:0",
           "TAG"
          ]
         ],
         "hovertemplate": "Lipid=%{customdata[0]}<br>Transition=%{x}<br>Intensity=%{y}<br>Class=%{customdata[1]}<extra></extra>",
         "legendgroup": "[TG(41:2)]_FA14:0",
         "marker": {
          "color": "#FF97FF"
         },
         "name": "[TG(41:2)]_FA14:0",
         "offsetgroup": "[TG(41:2)]_FA14:0",
         "orientation": "v",
         "showlegend": true,
         "textposition": "auto",
         "type": "bar",
         "x": [
          "722.6 -> 477.4"
         ],
         "xaxis": "x",
         "y": [
          20373.861602783203
         ],
         "yaxis": "y"
        },
        {
         "alignmentgroup": "True",
         "customdata": [
          [
           "[TG(41:1)]_FA14:0",
           "TAG"
          ]
         ],
         "hovertemplate": "Lipid=%{customdata[0]}<br>Transition=%{x}<br>Intensity=%{y}<br>Class=%{customdata[1]}<extra></extra>",
         "legendgroup": "[TG(41:1)]_FA14:0",
         "marker": {
          "color": "#FECB52"
         },
         "name": "[TG(41:1)]_FA14:0",
         "offsetgroup": "[TG(41:1)]_FA14:0",
         "orientation": "v",
         "showlegend": true,
         "textposition": "auto",
         "type": "bar",
         "x": [
          "724.6 -> 479.4"
         ],
         "xaxis": "x",
         "y": [
          19893.661392211914
         ],
         "yaxis": "y"
        },
        {
         "alignmentgroup": "True",
         "customdata": [
          [
           "[TG(41:0)]_FA14:0",
           "TAG"
          ]
         ],
         "hovertemplate": "Lipid=%{customdata[0]}<br>Transition=%{x}<br>Intensity=%{y}<br>Class=%{customdata[1]}<extra></extra>",
         "legendgroup": "[TG(41:0)]_FA14:0",
         "marker": {
          "color": "#636efa"
         },
         "name": "[TG(41:0)]_FA14:0",
         "offsetgroup": "[TG(41:0)]_FA14:0",
         "orientation": "v",
         "showlegend": true,
         "textposition": "auto",
         "type": "bar",
         "x": [
          "726.7 -> 481.5"
         ],
         "xaxis": "x",
         "y": [
          26466.401824951172
         ],
         "yaxis": "y"
        },
        {
         "alignmentgroup": "True",
         "customdata": [
          [
           "[TG(42:4)]_FA14:0",
           "TAG"
          ]
         ],
         "hovertemplate": "Lipid=%{customdata[0]}<br>Transition=%{x}<br>Intensity=%{y}<br>Class=%{customdata[1]}<extra></extra>",
         "legendgroup": "[TG(42:4)]_FA14:0",
         "marker": {
          "color": "#EF553B"
         },
         "name": "[TG(42:4)]_FA14:0",
         "offsetgroup": "[TG(42:4)]_FA14:0",
         "orientation": "v",
         "showlegend": true,
         "textposition": "auto",
         "type": "bar",
         "x": [
          "732.6 -> 487.4"
         ],
         "xaxis": "x",
         "y": [
          15374.68115234375
         ],
         "yaxis": "y"
        },
        {
         "alignmentgroup": "True",
         "customdata": [
          [
           "[TG(42:3)]_FA14:0",
           "TAG"
          ]
         ],
         "hovertemplate": "Lipid=%{customdata[0]}<br>Transition=%{x}<br>Intensity=%{y}<br>Class=%{customdata[1]}<extra></extra>",
         "legendgroup": "[TG(42:3)]_FA14:0",
         "marker": {
          "color": "#00cc96"
         },
         "name": "[TG(42:3)]_FA14:0",
         "offsetgroup": "[TG(42:3)]_FA14:0",
         "orientation": "v",
         "showlegend": true,
         "textposition": "auto",
         "type": "bar",
         "x": [
          "734.6 -> 489.4"
         ],
         "xaxis": "x",
         "y": [
          19889.30142211914
         ],
         "yaxis": "y"
        },
        {
         "alignmentgroup": "True",
         "customdata": [
          [
           "[TG(42:2)]_FA14:0",
           "TAG"
          ]
         ],
         "hovertemplate": "Lipid=%{customdata[0]}<br>Transition=%{x}<br>Intensity=%{y}<br>Class=%{customdata[1]}<extra></extra>",
         "legendgroup": "[TG(42:2)]_FA14:0",
         "marker": {
          "color": "#ab63fa"
         },
         "name": "[TG(42:2)]_FA14:0",
         "offsetgroup": "[TG(42:2)]_FA14:0",
         "orientation": "v",
         "showlegend": true,
         "textposition": "auto",
         "type": "bar",
         "x": [
          "736.6 -> 491.4"
         ],
         "xaxis": "x",
         "y": [
          17753.80108642578
         ],
         "yaxis": "y"
        },
        {
         "alignmentgroup": "True",
         "customdata": [
          [
           "[TG(42:1)]_FA14:0",
           "TAG"
          ]
         ],
         "hovertemplate": "Lipid=%{customdata[0]}<br>Transition=%{x}<br>Intensity=%{y}<br>Class=%{customdata[1]}<extra></extra>",
         "legendgroup": "[TG(42:1)]_FA14:0",
         "marker": {
          "color": "#FFA15A"
         },
         "name": "[TG(42:1)]_FA14:0",
         "offsetgroup": "[TG(42:1)]_FA14:0",
         "orientation": "v",
         "showlegend": true,
         "textposition": "auto",
         "type": "bar",
         "x": [
          "738.7 -> 493.5"
         ],
         "xaxis": "x",
         "y": [
          131865.6494140625
         ],
         "yaxis": "y"
        },
        {
         "alignmentgroup": "True",
         "customdata": [
          [
           "[TG(42:0)]_FA14:0",
           "TAG"
          ]
         ],
         "hovertemplate": "Lipid=%{customdata[0]}<br>Transition=%{x}<br>Intensity=%{y}<br>Class=%{customdata[1]}<extra></extra>",
         "legendgroup": "[TG(42:0)]_FA14:0",
         "marker": {
          "color": "#19d3f3"
         },
         "name": "[TG(42:0)]_FA14:0",
         "offsetgroup": "[TG(42:0)]_FA14:0",
         "orientation": "v",
         "showlegend": true,
         "textposition": "auto",
         "type": "bar",
         "x": [
          "740.7 -> 495.5"
         ],
         "xaxis": "x",
         "y": [
          94824.94689941406
         ],
         "yaxis": "y"
        },
        {
         "alignmentgroup": "True",
         "customdata": [
          [
           "[TG(43:4)]_FA14:0",
           "TAG"
          ]
         ],
         "hovertemplate": "Lipid=%{customdata[0]}<br>Transition=%{x}<br>Intensity=%{y}<br>Class=%{customdata[1]}<extra></extra>",
         "legendgroup": "[TG(43:4)]_FA14:0",
         "marker": {
          "color": "#FF6692"
         },
         "name": "[TG(43:4)]_FA14:0",
         "offsetgroup": "[TG(43:4)]_FA14:0",
         "orientation": "v",
         "showlegend": true,
         "textposition": "auto",
         "type": "bar",
         "x": [
          "746.6 -> 501.4"
         ],
         "xaxis": "x",
         "y": [
          16791.481231689453
         ],
         "yaxis": "y"
        },
        {
         "alignmentgroup": "True",
         "customdata": [
          [
           "[TG(43:3)]_FA14:0",
           "TAG"
          ]
         ],
         "hovertemplate": "Lipid=%{customdata[0]}<br>Transition=%{x}<br>Intensity=%{y}<br>Class=%{customdata[1]}<extra></extra>",
         "legendgroup": "[TG(43:3)]_FA14:0",
         "marker": {
          "color": "#B6E880"
         },
         "name": "[TG(43:3)]_FA14:0",
         "offsetgroup": "[TG(43:3)]_FA14:0",
         "orientation": "v",
         "showlegend": true,
         "textposition": "auto",
         "type": "bar",
         "x": [
          "748.6 -> 503.4"
         ],
         "xaxis": "x",
         "y": [
          63030.504150390625
         ],
         "yaxis": "y"
        },
        {
         "alignmentgroup": "True",
         "customdata": [
          [
           "[TG(43:2)]_FA14:0",
           "TAG"
          ]
         ],
         "hovertemplate": "Lipid=%{customdata[0]}<br>Transition=%{x}<br>Intensity=%{y}<br>Class=%{customdata[1]}<extra></extra>",
         "legendgroup": "[TG(43:2)]_FA14:0",
         "marker": {
          "color": "#FF97FF"
         },
         "name": "[TG(43:2)]_FA14:0",
         "offsetgroup": "[TG(43:2)]_FA14:0",
         "orientation": "v",
         "showlegend": true,
         "textposition": "auto",
         "type": "bar",
         "x": [
          "750.7 -> 505.5"
         ],
         "xaxis": "x",
         "y": [
          26622.84196472168
         ],
         "yaxis": "y"
        },
        {
         "alignmentgroup": "True",
         "customdata": [
          [
           "[TG(43:1)]_FA14:0",
           "TAG"
          ]
         ],
         "hovertemplate": "Lipid=%{customdata[0]}<br>Transition=%{x}<br>Intensity=%{y}<br>Class=%{customdata[1]}<extra></extra>",
         "legendgroup": "[TG(43:1)]_FA14:0",
         "marker": {
          "color": "#FECB52"
         },
         "name": "[TG(43:1)]_FA14:0",
         "offsetgroup": "[TG(43:1)]_FA14:0",
         "orientation": "v",
         "showlegend": true,
         "textposition": "auto",
         "type": "bar",
         "x": [
          "752.7 -> 507.5"
         ],
         "xaxis": "x",
         "y": [
          28583.40203857422
         ],
         "yaxis": "y"
        },
        {
         "alignmentgroup": "True",
         "customdata": [
          [
           "[TG(43:0)]_FA14:0",
           "TAG"
          ]
         ],
         "hovertemplate": "Lipid=%{customdata[0]}<br>Transition=%{x}<br>Intensity=%{y}<br>Class=%{customdata[1]}<extra></extra>",
         "legendgroup": "[TG(43:0)]_FA14:0",
         "marker": {
          "color": "#636efa"
         },
         "name": "[TG(43:0)]_FA14:0",
         "offsetgroup": "[TG(43:0)]_FA14:0",
         "orientation": "v",
         "showlegend": true,
         "textposition": "auto",
         "type": "bar",
         "x": [
          "754.7 -> 509.5"
         ],
         "xaxis": "x",
         "y": [
          29018.08203125
         ],
         "yaxis": "y"
        },
        {
         "alignmentgroup": "True",
         "customdata": [
          [
           "[TG(44:5)]_FA14:0",
           "TAG"
          ]
         ],
         "hovertemplate": "Lipid=%{customdata[0]}<br>Transition=%{x}<br>Intensity=%{y}<br>Class=%{customdata[1]}<extra></extra>",
         "legendgroup": "[TG(44:5)]_FA14:0",
         "marker": {
          "color": "#EF553B"
         },
         "name": "[TG(44:5)]_FA14:0",
         "offsetgroup": "[TG(44:5)]_FA14:0",
         "orientation": "v",
         "showlegend": true,
         "textposition": "auto",
         "type": "bar",
         "x": [
          "758.6 -> 513.4"
         ],
         "xaxis": "x",
         "y": [
          17620.081260681152
         ],
         "yaxis": "y"
        },
        {
         "alignmentgroup": "True",
         "customdata": [
          [
           "[TG(44:4)]_FA14:0",
           "TAG"
          ]
         ],
         "hovertemplate": "Lipid=%{customdata[0]}<br>Transition=%{x}<br>Intensity=%{y}<br>Class=%{customdata[1]}<extra></extra>",
         "legendgroup": "[TG(44:4)]_FA14:0",
         "marker": {
          "color": "#00cc96"
         },
         "name": "[TG(44:4)]_FA14:0",
         "offsetgroup": "[TG(44:4)]_FA14:0",
         "orientation": "v",
         "showlegend": true,
         "textposition": "auto",
         "type": "bar",
         "x": [
          "760.6 -> 515.4"
         ],
         "xaxis": "x",
         "y": [
          15765.661041259766
         ],
         "yaxis": "y"
        },
        {
         "alignmentgroup": "True",
         "customdata": [
          [
           "[TG(44:3)]_FA14:0",
           "TAG"
          ]
         ],
         "hovertemplate": "Lipid=%{customdata[0]}<br>Transition=%{x}<br>Intensity=%{y}<br>Class=%{customdata[1]}<extra></extra>",
         "legendgroup": "[TG(44:3)]_FA14:0",
         "marker": {
          "color": "#ab63fa"
         },
         "name": "[TG(44:3)]_FA14:0",
         "offsetgroup": "[TG(44:3)]_FA14:0",
         "orientation": "v",
         "showlegend": true,
         "textposition": "auto",
         "type": "bar",
         "x": [
          "762.7 -> 517.5"
         ],
         "xaxis": "x",
         "y": [
          18071.14141845703
         ],
         "yaxis": "y"
        },
        {
         "alignmentgroup": "True",
         "customdata": [
          [
           "[TG(44:2)]_FA14:0",
           "TAG"
          ]
         ],
         "hovertemplate": "Lipid=%{customdata[0]}<br>Transition=%{x}<br>Intensity=%{y}<br>Class=%{customdata[1]}<extra></extra>",
         "legendgroup": "[TG(44:2)]_FA14:0",
         "marker": {
          "color": "#FFA15A"
         },
         "name": "[TG(44:2)]_FA14:0",
         "offsetgroup": "[TG(44:2)]_FA14:0",
         "orientation": "v",
         "showlegend": true,
         "textposition": "auto",
         "type": "bar",
         "x": [
          "764.7 -> 519.5"
         ],
         "xaxis": "x",
         "y": [
          39169.32312011719
         ],
         "yaxis": "y"
        },
        {
         "alignmentgroup": "True",
         "customdata": [
          [
           "[TG(44:1)]_FA14:0",
           "TAG"
          ]
         ],
         "hovertemplate": "Lipid=%{customdata[0]}<br>Transition=%{x}<br>Intensity=%{y}<br>Class=%{customdata[1]}<extra></extra>",
         "legendgroup": "[TG(44:1)]_FA14:0",
         "marker": {
          "color": "#19d3f3"
         },
         "name": "[TG(44:1)]_FA14:0",
         "offsetgroup": "[TG(44:1)]_FA14:0",
         "orientation": "v",
         "showlegend": true,
         "textposition": "auto",
         "type": "bar",
         "x": [
          "766.7 -> 521.5"
         ],
         "xaxis": "x",
         "y": [
          31882.602020263672
         ],
         "yaxis": "y"
        },
        {
         "alignmentgroup": "True",
         "customdata": [
          [
           "[TG(44:0),TG(O-45:0)]_FA14:0",
           "TAG"
          ]
         ],
         "hovertemplate": "Lipid=%{customdata[0]}<br>Transition=%{x}<br>Intensity=%{y}<br>Class=%{customdata[1]}<extra></extra>",
         "legendgroup": "[TG(44:0),TG(O-45:0)]_FA14:0",
         "marker": {
          "color": "#FF6692"
         },
         "name": "[TG(44:0),TG(O-45:0)]_FA14:0",
         "offsetgroup": "[TG(44:0),TG(O-45:0)]_FA14:0",
         "orientation": "v",
         "showlegend": true,
         "textposition": "auto",
         "type": "bar",
         "x": [
          "768.7 -> 523.5"
         ],
         "xaxis": "x",
         "y": [
          72722.04577636719
         ],
         "yaxis": "y"
        },
        {
         "alignmentgroup": "True",
         "customdata": [
          [
           "[TG(45:5)]_FA14:0",
           "TAG"
          ]
         ],
         "hovertemplate": "Lipid=%{customdata[0]}<br>Transition=%{x}<br>Intensity=%{y}<br>Class=%{customdata[1]}<extra></extra>",
         "legendgroup": "[TG(45:5)]_FA14:0",
         "marker": {
          "color": "#B6E880"
         },
         "name": "[TG(45:5)]_FA14:0",
         "offsetgroup": "[TG(45:5)]_FA14:0",
         "orientation": "v",
         "showlegend": true,
         "textposition": "auto",
         "type": "bar",
         "x": [
          "772.6 -> 527.4"
         ],
         "xaxis": "x",
         "y": [
          18579.66111755371
         ],
         "yaxis": "y"
        },
        {
         "alignmentgroup": "True",
         "customdata": [
          [
           "[TG(45:4)]_FA14:0",
           "TAG"
          ]
         ],
         "hovertemplate": "Lipid=%{customdata[0]}<br>Transition=%{x}<br>Intensity=%{y}<br>Class=%{customdata[1]}<extra></extra>",
         "legendgroup": "[TG(45:4)]_FA14:0",
         "marker": {
          "color": "#FF97FF"
         },
         "name": "[TG(45:4)]_FA14:0",
         "offsetgroup": "[TG(45:4)]_FA14:0",
         "orientation": "v",
         "showlegend": true,
         "textposition": "auto",
         "type": "bar",
         "x": [
          "774.7 -> 529.5"
         ],
         "xaxis": "x",
         "y": [
          21398.161346435547
         ],
         "yaxis": "y"
        },
        {
         "alignmentgroup": "True",
         "customdata": [
          [
           "[TG(45:3)]_FA14:0",
           "TAG"
          ]
         ],
         "hovertemplate": "Lipid=%{customdata[0]}<br>Transition=%{x}<br>Intensity=%{y}<br>Class=%{customdata[1]}<extra></extra>",
         "legendgroup": "[TG(45:3)]_FA14:0",
         "marker": {
          "color": "#FECB52"
         },
         "name": "[TG(45:3)]_FA14:0",
         "offsetgroup": "[TG(45:3)]_FA14:0",
         "orientation": "v",
         "showlegend": true,
         "textposition": "auto",
         "type": "bar",
         "x": [
          "776.7 -> 531.5"
         ],
         "xaxis": "x",
         "y": [
          18318.621307373047
         ],
         "yaxis": "y"
        },
        {
         "alignmentgroup": "True",
         "customdata": [
          [
           "[TG(45:2)]_FA14:0",
           "TAG"
          ]
         ],
         "hovertemplate": "Lipid=%{customdata[0]}<br>Transition=%{x}<br>Intensity=%{y}<br>Class=%{customdata[1]}<extra></extra>",
         "legendgroup": "[TG(45:2)]_FA14:0",
         "marker": {
          "color": "#636efa"
         },
         "name": "[TG(45:2)]_FA14:0",
         "offsetgroup": "[TG(45:2)]_FA14:0",
         "orientation": "v",
         "showlegend": true,
         "textposition": "auto",
         "type": "bar",
         "x": [
          "778.7 -> 533.5"
         ],
         "xaxis": "x",
         "y": [
          16532.841232299805
         ],
         "yaxis": "y"
        },
        {
         "alignmentgroup": "True",
         "customdata": [
          [
           "[TG(45:1)]_FA14:0",
           "TAG"
          ]
         ],
         "hovertemplate": "Lipid=%{customdata[0]}<br>Transition=%{x}<br>Intensity=%{y}<br>Class=%{customdata[1]}<extra></extra>",
         "legendgroup": "[TG(45:1)]_FA14:0",
         "marker": {
          "color": "#EF553B"
         },
         "name": "[TG(45:1)]_FA14:0",
         "offsetgroup": "[TG(45:1)]_FA14:0",
         "orientation": "v",
         "showlegend": true,
         "textposition": "auto",
         "type": "bar",
         "x": [
          "780.7 -> 535.5"
         ],
         "xaxis": "x",
         "y": [
          70729.62463378906
         ],
         "yaxis": "y"
        },
        {
         "alignmentgroup": "True",
         "customdata": [
          [
           "[TG(45:0)]_FA14:0",
           "TAG"
          ]
         ],
         "hovertemplate": "Lipid=%{customdata[0]}<br>Transition=%{x}<br>Intensity=%{y}<br>Class=%{customdata[1]}<extra></extra>",
         "legendgroup": "[TG(45:0)]_FA14:0",
         "marker": {
          "color": "#00cc96"
         },
         "name": "[TG(45:0)]_FA14:0",
         "offsetgroup": "[TG(45:0)]_FA14:0",
         "orientation": "v",
         "showlegend": true,
         "textposition": "auto",
         "type": "bar",
         "x": [
          "782.7 -> 537.5"
         ],
         "xaxis": "x",
         "y": [
          46782.86340332031
         ],
         "yaxis": "y"
        },
        {
         "alignmentgroup": "True",
         "customdata": [
          [
           "[TG(46:6)]_FA14:0",
           "TAG"
          ]
         ],
         "hovertemplate": "Lipid=%{customdata[0]}<br>Transition=%{x}<br>Intensity=%{y}<br>Class=%{customdata[1]}<extra></extra>",
         "legendgroup": "[TG(46:6)]_FA14:0",
         "marker": {
          "color": "#ab63fa"
         },
         "name": "[TG(46:6)]_FA14:0",
         "offsetgroup": "[TG(46:6)]_FA14:0",
         "orientation": "v",
         "showlegend": true,
         "textposition": "auto",
         "type": "bar",
         "x": [
          "784.6 -> 539.4"
         ],
         "xaxis": "x",
         "y": [
          20436.341217041016
         ],
         "yaxis": "y"
        },
        {
         "alignmentgroup": "True",
         "customdata": [
          [
           "[TG(46:5)]_FA14:0",
           "TAG"
          ]
         ],
         "hovertemplate": "Lipid=%{customdata[0]}<br>Transition=%{x}<br>Intensity=%{y}<br>Class=%{customdata[1]}<extra></extra>",
         "legendgroup": "[TG(46:5)]_FA14:0",
         "marker": {
          "color": "#FFA15A"
         },
         "name": "[TG(46:5)]_FA14:0",
         "offsetgroup": "[TG(46:5)]_FA14:0",
         "orientation": "v",
         "showlegend": true,
         "textposition": "auto",
         "type": "bar",
         "x": [
          "786.7 -> 541.5"
         ],
         "xaxis": "x",
         "y": [
          20286.141387939453
         ],
         "yaxis": "y"
        },
        {
         "alignmentgroup": "True",
         "customdata": [
          [
           "[TG(46:4)]_FA14:0",
           "TAG"
          ]
         ],
         "hovertemplate": "Lipid=%{customdata[0]}<br>Transition=%{x}<br>Intensity=%{y}<br>Class=%{customdata[1]}<extra></extra>",
         "legendgroup": "[TG(46:4)]_FA14:0",
         "marker": {
          "color": "#19d3f3"
         },
         "name": "[TG(46:4)]_FA14:0",
         "offsetgroup": "[TG(46:4)]_FA14:0",
         "orientation": "v",
         "showlegend": true,
         "textposition": "auto",
         "type": "bar",
         "x": [
          "788.7 -> 543.5"
         ],
         "xaxis": "x",
         "y": [
          18562.861236572266
         ],
         "yaxis": "y"
        },
        {
         "alignmentgroup": "True",
         "customdata": [
          [
           "[TG(46:3)]_FA14:0",
           "TAG"
          ]
         ],
         "hovertemplate": "Lipid=%{customdata[0]}<br>Transition=%{x}<br>Intensity=%{y}<br>Class=%{customdata[1]}<extra></extra>",
         "legendgroup": "[TG(46:3)]_FA14:0",
         "marker": {
          "color": "#FF6692"
         },
         "name": "[TG(46:3)]_FA14:0",
         "offsetgroup": "[TG(46:3)]_FA14:0",
         "orientation": "v",
         "showlegend": true,
         "textposition": "auto",
         "type": "bar",
         "x": [
          "790.7 -> 545.5"
         ],
         "xaxis": "x",
         "y": [
          20631.881439208984
         ],
         "yaxis": "y"
        },
        {
         "alignmentgroup": "True",
         "customdata": [
          [
           "[TG(46:2)]_FA14:0",
           "TAG"
          ]
         ],
         "hovertemplate": "Lipid=%{customdata[0]}<br>Transition=%{x}<br>Intensity=%{y}<br>Class=%{customdata[1]}<extra></extra>",
         "legendgroup": "[TG(46:2)]_FA14:0",
         "marker": {
          "color": "#B6E880"
         },
         "name": "[TG(46:2)]_FA14:0",
         "offsetgroup": "[TG(46:2)]_FA14:0",
         "orientation": "v",
         "showlegend": true,
         "textposition": "auto",
         "type": "bar",
         "x": [
          "792.7 -> 547.5"
         ],
         "xaxis": "x",
         "y": [
          44036.763610839844
         ],
         "yaxis": "y"
        },
        {
         "alignmentgroup": "True",
         "customdata": [
          [
           "[TG(46:1)]_FA14:0",
           "TAG"
          ]
         ],
         "hovertemplate": "Lipid=%{customdata[0]}<br>Transition=%{x}<br>Intensity=%{y}<br>Class=%{customdata[1]}<extra></extra>",
         "legendgroup": "[TG(46:1)]_FA14:0",
         "marker": {
          "color": "#FF97FF"
         },
         "name": "[TG(46:1)]_FA14:0",
         "offsetgroup": "[TG(46:1)]_FA14:0",
         "orientation": "v",
         "showlegend": true,
         "textposition": "auto",
         "type": "bar",
         "x": [
          "794.7 -> 549.5"
         ],
         "xaxis": "x",
         "y": [
          68736.06512451172
         ],
         "yaxis": "y"
        },
        {
         "alignmentgroup": "True",
         "customdata": [
          [
           "[TG(46:0)]_FA14:0",
           "TAG"
          ]
         ],
         "hovertemplate": "Lipid=%{customdata[0]}<br>Transition=%{x}<br>Intensity=%{y}<br>Class=%{customdata[1]}<extra></extra>",
         "legendgroup": "[TG(46:0)]_FA14:0",
         "marker": {
          "color": "#FECB52"
         },
         "name": "[TG(46:0)]_FA14:0",
         "offsetgroup": "[TG(46:0)]_FA14:0",
         "orientation": "v",
         "showlegend": true,
         "textposition": "auto",
         "type": "bar",
         "x": [
          "796.7 -> 551.5"
         ],
         "xaxis": "x",
         "y": [
          84029.40625
         ],
         "yaxis": "y"
        },
        {
         "alignmentgroup": "True",
         "customdata": [
          [
           "[TG(47:6)]_FA14:0",
           "TAG"
          ]
         ],
         "hovertemplate": "Lipid=%{customdata[0]}<br>Transition=%{x}<br>Intensity=%{y}<br>Class=%{customdata[1]}<extra></extra>",
         "legendgroup": "[TG(47:6)]_FA14:0",
         "marker": {
          "color": "#636efa"
         },
         "name": "[TG(47:6)]_FA14:0",
         "offsetgroup": "[TG(47:6)]_FA14:0",
         "orientation": "v",
         "showlegend": true,
         "textposition": "auto",
         "type": "bar",
         "x": [
          "798.7 -> 553.5"
         ],
         "xaxis": "x",
         "y": [
          26131.921813964844
         ],
         "yaxis": "y"
        },
        {
         "alignmentgroup": "True",
         "customdata": [
          [
           "[TG(47:5)]_FA14:0",
           "TAG"
          ]
         ],
         "hovertemplate": "Lipid=%{customdata[0]}<br>Transition=%{x}<br>Intensity=%{y}<br>Class=%{customdata[1]}<extra></extra>",
         "legendgroup": "[TG(47:5)]_FA14:0",
         "marker": {
          "color": "#EF553B"
         },
         "name": "[TG(47:5)]_FA14:0",
         "offsetgroup": "[TG(47:5)]_FA14:0",
         "orientation": "v",
         "showlegend": true,
         "textposition": "auto",
         "type": "bar",
         "x": [
          "800.7 -> 555.5"
         ],
         "xaxis": "x",
         "y": [
          20985.38151550293
         ],
         "yaxis": "y"
        },
        {
         "alignmentgroup": "True",
         "customdata": [
          [
           "[TG(47:4)]_FA14:0",
           "TAG"
          ]
         ],
         "hovertemplate": "Lipid=%{customdata[0]}<br>Transition=%{x}<br>Intensity=%{y}<br>Class=%{customdata[1]}<extra></extra>",
         "legendgroup": "[TG(47:4)]_FA14:0",
         "marker": {
          "color": "#00cc96"
         },
         "name": "[TG(47:4)]_FA14:0",
         "offsetgroup": "[TG(47:4)]_FA14:0",
         "orientation": "v",
         "showlegend": true,
         "textposition": "auto",
         "type": "bar",
         "x": [
          "802.7 -> 557.5"
         ],
         "xaxis": "x",
         "y": [
          18959.501403808594
         ],
         "yaxis": "y"
        },
        {
         "alignmentgroup": "True",
         "customdata": [
          [
           "[TG(47:3)]_FA14:0",
           "TAG"
          ]
         ],
         "hovertemplate": "Lipid=%{customdata[0]}<br>Transition=%{x}<br>Intensity=%{y}<br>Class=%{customdata[1]}<extra></extra>",
         "legendgroup": "[TG(47:3)]_FA14:0",
         "marker": {
          "color": "#ab63fa"
         },
         "name": "[TG(47:3)]_FA14:0",
         "offsetgroup": "[TG(47:3)]_FA14:0",
         "orientation": "v",
         "showlegend": true,
         "textposition": "auto",
         "type": "bar",
         "x": [
          "804.7 -> 559.5"
         ],
         "xaxis": "x",
         "y": [
          21987.14175415039
         ],
         "yaxis": "y"
        },
        {
         "alignmentgroup": "True",
         "customdata": [
          [
           "[TG(47:2)]_FA14:0",
           "TAG"
          ]
         ],
         "hovertemplate": "Lipid=%{customdata[0]}<br>Transition=%{x}<br>Intensity=%{y}<br>Class=%{customdata[1]}<extra></extra>",
         "legendgroup": "[TG(47:2)]_FA14:0",
         "marker": {
          "color": "#FFA15A"
         },
         "name": "[TG(47:2)]_FA14:0",
         "offsetgroup": "[TG(47:2)]_FA14:0",
         "orientation": "v",
         "showlegend": true,
         "textposition": "auto",
         "type": "bar",
         "x": [
          "806.7 -> 561.5"
         ],
         "xaxis": "x",
         "y": [
          24136.061737060547
         ],
         "yaxis": "y"
        },
        {
         "alignmentgroup": "True",
         "customdata": [
          [
           "[TG(48:8),TG(47:1)]_FA14:0",
           "TAG"
          ]
         ],
         "hovertemplate": "Lipid=%{customdata[0]}<br>Transition=%{x}<br>Intensity=%{y}<br>Class=%{customdata[1]}<extra></extra>",
         "legendgroup": "[TG(48:8),TG(47:1)]_FA14:0",
         "marker": {
          "color": "#19d3f3"
         },
         "name": "[TG(48:8),TG(47:1)]_FA14:0",
         "offsetgroup": "[TG(48:8),TG(47:1)]_FA14:0",
         "orientation": "v",
         "showlegend": true,
         "textposition": "auto",
         "type": "bar",
         "x": [
          "808.7 -> 563.5"
         ],
         "xaxis": "x",
         "y": [
          31395.762451171875
         ],
         "yaxis": "y"
        },
        {
         "alignmentgroup": "True",
         "customdata": [
          [
           "[TG(48:7),TG(47:0)]_FA14:0",
           "TAG"
          ]
         ],
         "hovertemplate": "Lipid=%{customdata[0]}<br>Transition=%{x}<br>Intensity=%{y}<br>Class=%{customdata[1]}<extra></extra>",
         "legendgroup": "[TG(48:7),TG(47:0)]_FA14:0",
         "marker": {
          "color": "#FF6692"
         },
         "name": "[TG(48:7),TG(47:0)]_FA14:0",
         "offsetgroup": "[TG(48:7),TG(47:0)]_FA14:0",
         "orientation": "v",
         "showlegend": true,
         "textposition": "auto",
         "type": "bar",
         "x": [
          "810.8 -> 565.6"
         ],
         "xaxis": "x",
         "y": [
          35014.362396240234
         ],
         "yaxis": "y"
        },
        {
         "alignmentgroup": "True",
         "customdata": [
          [
           "[TG(48:6)]_FA14:0",
           "TAG"
          ]
         ],
         "hovertemplate": "Lipid=%{customdata[0]}<br>Transition=%{x}<br>Intensity=%{y}<br>Class=%{customdata[1]}<extra></extra>",
         "legendgroup": "[TG(48:6)]_FA14:0",
         "marker": {
          "color": "#B6E880"
         },
         "name": "[TG(48:6)]_FA14:0",
         "offsetgroup": "[TG(48:6)]_FA14:0",
         "orientation": "v",
         "showlegend": true,
         "textposition": "auto",
         "type": "bar",
         "x": [
          "812.7 -> 567.5"
         ],
         "xaxis": "x",
         "y": [
          51366.403381347656
         ],
         "yaxis": "y"
        },
        {
         "alignmentgroup": "True",
         "customdata": [
          [
           "[TG(48:5)]_FA14:0",
           "TAG"
          ]
         ],
         "hovertemplate": "Lipid=%{customdata[0]}<br>Transition=%{x}<br>Intensity=%{y}<br>Class=%{customdata[1]}<extra></extra>",
         "legendgroup": "[TG(48:5)]_FA14:0",
         "marker": {
          "color": "#FF97FF"
         },
         "name": "[TG(48:5)]_FA14:0",
         "offsetgroup": "[TG(48:5)]_FA14:0",
         "orientation": "v",
         "showlegend": true,
         "textposition": "auto",
         "type": "bar",
         "x": [
          "814.7 -> 569.5"
         ],
         "xaxis": "x",
         "y": [
          25303.261779785156
         ],
         "yaxis": "y"
        },
        {
         "alignmentgroup": "True",
         "customdata": [
          [
           "[TG(48:4)]_FA14:0",
           "TAG"
          ]
         ],
         "hovertemplate": "Lipid=%{customdata[0]}<br>Transition=%{x}<br>Intensity=%{y}<br>Class=%{customdata[1]}<extra></extra>",
         "legendgroup": "[TG(48:4)]_FA14:0",
         "marker": {
          "color": "#FECB52"
         },
         "name": "[TG(48:4)]_FA14:0",
         "offsetgroup": "[TG(48:4)]_FA14:0",
         "orientation": "v",
         "showlegend": true,
         "textposition": "auto",
         "type": "bar",
         "x": [
          "816.7 -> 571.5"
         ],
         "xaxis": "x",
         "y": [
          23539.601623535156
         ],
         "yaxis": "y"
        },
        {
         "alignmentgroup": "True",
         "customdata": [
          [
           "[TG(48:3)]_FA14:0",
           "TAG"
          ]
         ],
         "hovertemplate": "Lipid=%{customdata[0]}<br>Transition=%{x}<br>Intensity=%{y}<br>Class=%{customdata[1]}<extra></extra>",
         "legendgroup": "[TG(48:3)]_FA14:0",
         "marker": {
          "color": "#636efa"
         },
         "name": "[TG(48:3)]_FA14:0",
         "offsetgroup": "[TG(48:3)]_FA14:0",
         "orientation": "v",
         "showlegend": true,
         "textposition": "auto",
         "type": "bar",
         "x": [
          "818.7 -> 573.5"
         ],
         "xaxis": "x",
         "y": [
          82808.48538208008
         ],
         "yaxis": "y"
        },
        {
         "alignmentgroup": "True",
         "customdata": [
          [
           "[TG(48:2)]_FA14:0",
           "TAG"
          ]
         ],
         "hovertemplate": "Lipid=%{customdata[0]}<br>Transition=%{x}<br>Intensity=%{y}<br>Class=%{customdata[1]}<extra></extra>",
         "legendgroup": "[TG(48:2)]_FA14:0",
         "marker": {
          "color": "#EF553B"
         },
         "name": "[TG(48:2)]_FA14:0",
         "offsetgroup": "[TG(48:2)]_FA14:0",
         "orientation": "v",
         "showlegend": true,
         "textposition": "auto",
         "type": "bar",
         "x": [
          "820.7 -> 575.5"
         ],
         "xaxis": "x",
         "y": [
          286373.7007446289
         ],
         "yaxis": "y"
        },
        {
         "alignmentgroup": "True",
         "customdata": [
          [
           "[TG(49:8),TG(48:1)]_FA14:0",
           "TAG"
          ]
         ],
         "hovertemplate": "Lipid=%{customdata[0]}<br>Transition=%{x}<br>Intensity=%{y}<br>Class=%{customdata[1]}<extra></extra>",
         "legendgroup": "[TG(49:8),TG(48:1)]_FA14:0",
         "marker": {
          "color": "#00cc96"
         },
         "name": "[TG(49:8),TG(48:1)]_FA14:0",
         "offsetgroup": "[TG(49:8),TG(48:1)]_FA14:0",
         "orientation": "v",
         "showlegend": true,
         "textposition": "auto",
         "type": "bar",
         "x": [
          "822.8 -> 577.6"
         ],
         "xaxis": "x",
         "y": [
          333579.6123046875
         ],
         "yaxis": "y"
        },
        {
         "alignmentgroup": "True",
         "customdata": [
          [
           "[TG(49:7),TG(48:0)]_FA14:0",
           "TAG"
          ]
         ],
         "hovertemplate": "Lipid=%{customdata[0]}<br>Transition=%{x}<br>Intensity=%{y}<br>Class=%{customdata[1]}<extra></extra>",
         "legendgroup": "[TG(49:7),TG(48:0)]_FA14:0",
         "marker": {
          "color": "#ab63fa"
         },
         "name": "[TG(49:7),TG(48:0)]_FA14:0",
         "offsetgroup": "[TG(49:7),TG(48:0)]_FA14:0",
         "orientation": "v",
         "showlegend": true,
         "textposition": "auto",
         "type": "bar",
         "x": [
          "824.8 -> 579.6"
         ],
         "xaxis": "x",
         "y": [
          80859.20629882812
         ],
         "yaxis": "y"
        },
        {
         "alignmentgroup": "True",
         "customdata": [
          [
           "[TG(49:6)]_FA14:0",
           "TAG"
          ]
         ],
         "hovertemplate": "Lipid=%{customdata[0]}<br>Transition=%{x}<br>Intensity=%{y}<br>Class=%{customdata[1]}<extra></extra>",
         "legendgroup": "[TG(49:6)]_FA14:0",
         "marker": {
          "color": "#FFA15A"
         },
         "name": "[TG(49:6)]_FA14:0",
         "offsetgroup": "[TG(49:6)]_FA14:0",
         "orientation": "v",
         "showlegend": true,
         "textposition": "auto",
         "type": "bar",
         "x": [
          "826.7 -> 581.5"
         ],
         "xaxis": "x",
         "y": [
          29734.44223022461
         ],
         "yaxis": "y"
        },
        {
         "alignmentgroup": "True",
         "customdata": [
          [
           "[TG(49:5)]_FA14:0",
           "TAG"
          ]
         ],
         "hovertemplate": "Lipid=%{customdata[0]}<br>Transition=%{x}<br>Intensity=%{y}<br>Class=%{customdata[1]}<extra></extra>",
         "legendgroup": "[TG(49:5)]_FA14:0",
         "marker": {
          "color": "#19d3f3"
         },
         "name": "[TG(49:5)]_FA14:0",
         "offsetgroup": "[TG(49:5)]_FA14:0",
         "orientation": "v",
         "showlegend": true,
         "textposition": "auto",
         "type": "bar",
         "x": [
          "828.7 -> 583.5"
         ],
         "xaxis": "x",
         "y": [
          22083.261352539062
         ],
         "yaxis": "y"
        },
        {
         "alignmentgroup": "True",
         "customdata": [
          [
           "STD_15:0-18:1(d7)-15:0 TAG",
           "STD_15:0-18:1(d7)-15:0 TAG"
          ]
         ],
         "hovertemplate": "Lipid=%{customdata[0]}<br>Transition=%{x}<br>Intensity=%{y}<br>Class=%{customdata[1]}<extra></extra>",
         "legendgroup": "STD_15:0-18:1(d7)-15:0 TAG",
         "marker": {
          "color": "#FF6692"
         },
         "name": "STD_15:0-18:1(d7)-15:0 TAG",
         "offsetgroup": "STD_15:0-18:1(d7)-15:0 TAG",
         "orientation": "v",
         "showlegend": true,
         "textposition": "auto",
         "type": "bar",
         "x": [
          "829.8 -> 570.4"
         ],
         "xaxis": "x",
         "y": [
          33835.302642822266
         ],
         "yaxis": "y"
        },
        {
         "alignmentgroup": "True",
         "customdata": [
          [
           "[TG(49:4)]_FA14:0",
           "TAG"
          ]
         ],
         "hovertemplate": "Lipid=%{customdata[0]}<br>Transition=%{x}<br>Intensity=%{y}<br>Class=%{customdata[1]}<extra></extra>",
         "legendgroup": "[TG(49:4)]_FA14:0",
         "marker": {
          "color": "#B6E880"
         },
         "name": "[TG(49:4)]_FA14:0",
         "offsetgroup": "[TG(49:4)]_FA14:0",
         "orientation": "v",
         "showlegend": true,
         "textposition": "auto",
         "type": "bar",
         "x": [
          "830.7 -> 585.5"
         ],
         "xaxis": "x",
         "y": [
          22096.821563720703
         ],
         "yaxis": "y"
        },
        {
         "alignmentgroup": "True",
         "customdata": [
          [
           "[TG(49:3)]_FA14:0",
           "TAG"
          ]
         ],
         "hovertemplate": "Lipid=%{customdata[0]}<br>Transition=%{x}<br>Intensity=%{y}<br>Class=%{customdata[1]}<extra></extra>",
         "legendgroup": "[TG(49:3)]_FA14:0",
         "marker": {
          "color": "#FF97FF"
         },
         "name": "[TG(49:3)]_FA14:0",
         "offsetgroup": "[TG(49:3)]_FA14:0",
         "orientation": "v",
         "showlegend": true,
         "textposition": "auto",
         "type": "bar",
         "x": [
          "832.7 -> 587.5"
         ],
         "xaxis": "x",
         "y": [
          26063.061752319336
         ],
         "yaxis": "y"
        },
        {
         "alignmentgroup": "True",
         "customdata": [
          [
           "[TG(50:9),TG(49:2)]_FA14:0",
           "TAG"
          ]
         ],
         "hovertemplate": "Lipid=%{customdata[0]}<br>Transition=%{x}<br>Intensity=%{y}<br>Class=%{customdata[1]}<extra></extra>",
         "legendgroup": "[TG(50:9),TG(49:2)]_FA14:0",
         "marker": {
          "color": "#FECB52"
         },
         "name": "[TG(50:9),TG(49:2)]_FA14:0",
         "offsetgroup": "[TG(50:9),TG(49:2)]_FA14:0",
         "orientation": "v",
         "showlegend": true,
         "textposition": "auto",
         "type": "bar",
         "x": [
          "834.8 -> 589.6"
         ],
         "xaxis": "x",
         "y": [
          29320.561981201172
         ],
         "yaxis": "y"
        },
        {
         "alignmentgroup": "True",
         "customdata": [
          [
           "[TG(50:8),TG(49:1)]_FA14:0",
           "TAG"
          ]
         ],
         "hovertemplate": "Lipid=%{customdata[0]}<br>Transition=%{x}<br>Intensity=%{y}<br>Class=%{customdata[1]}<extra></extra>",
         "legendgroup": "[TG(50:8),TG(49:1)]_FA14:0",
         "marker": {
          "color": "#636efa"
         },
         "name": "[TG(50:8),TG(49:1)]_FA14:0",
         "offsetgroup": "[TG(50:8),TG(49:1)]_FA14:0",
         "orientation": "v",
         "showlegend": true,
         "textposition": "auto",
         "type": "bar",
         "x": [
          "836.8 -> 591.6"
         ],
         "xaxis": "x",
         "y": [
          37507.4225769043
         ],
         "yaxis": "y"
        },
        {
         "alignmentgroup": "True",
         "customdata": [
          [
           "[TG(50:7),TG(49:0)]_FA14:0",
           "TAG"
          ]
         ],
         "hovertemplate": "Lipid=%{customdata[0]}<br>Transition=%{x}<br>Intensity=%{y}<br>Class=%{customdata[1]}<extra></extra>",
         "legendgroup": "[TG(50:7),TG(49:0)]_FA14:0",
         "marker": {
          "color": "#EF553B"
         },
         "name": "[TG(50:7),TG(49:0)]_FA14:0",
         "offsetgroup": "[TG(50:7),TG(49:0)]_FA14:0",
         "orientation": "v",
         "showlegend": true,
         "textposition": "auto",
         "type": "bar",
         "x": [
          "838.8 -> 593.6"
         ],
         "xaxis": "x",
         "y": [
          34488.222259521484
         ],
         "yaxis": "y"
        },
        {
         "alignmentgroup": "True",
         "customdata": [
          [
           "[TG(50:6)]_FA14:0",
           "TAG"
          ]
         ],
         "hovertemplate": "Lipid=%{customdata[0]}<br>Transition=%{x}<br>Intensity=%{y}<br>Class=%{customdata[1]}<extra></extra>",
         "legendgroup": "[TG(50:6)]_FA14:0",
         "marker": {
          "color": "#00cc96"
         },
         "name": "[TG(50:6)]_FA14:0",
         "offsetgroup": "[TG(50:6)]_FA14:0",
         "orientation": "v",
         "showlegend": true,
         "textposition": "auto",
         "type": "bar",
         "x": [
          "840.7 -> 595.5"
         ],
         "xaxis": "x",
         "y": [
          29315.282165527344
         ],
         "yaxis": "y"
        },
        {
         "alignmentgroup": "True",
         "customdata": [
          [
           "[TG(50:5)]_FA14:0",
           "TAG"
          ]
         ],
         "hovertemplate": "Lipid=%{customdata[0]}<br>Transition=%{x}<br>Intensity=%{y}<br>Class=%{customdata[1]}<extra></extra>",
         "legendgroup": "[TG(50:5)]_FA14:0",
         "marker": {
          "color": "#ab63fa"
         },
         "name": "[TG(50:5)]_FA14:0",
         "offsetgroup": "[TG(50:5)]_FA14:0",
         "orientation": "v",
         "showlegend": true,
         "textposition": "auto",
         "type": "bar",
         "x": [
          "842.7 -> 597.5"
         ],
         "xaxis": "x",
         "y": [
          35932.222259521484
         ],
         "yaxis": "y"
        },
        {
         "alignmentgroup": "True",
         "customdata": [
          [
           "[TG(50:4)]_FA14:0",
           "TAG"
          ]
         ],
         "hovertemplate": "Lipid=%{customdata[0]}<br>Transition=%{x}<br>Intensity=%{y}<br>Class=%{customdata[1]}<extra></extra>",
         "legendgroup": "[TG(50:4)]_FA14:0",
         "marker": {
          "color": "#FFA15A"
         },
         "name": "[TG(50:4)]_FA14:0",
         "offsetgroup": "[TG(50:4)]_FA14:0",
         "orientation": "v",
         "showlegend": true,
         "textposition": "auto",
         "type": "bar",
         "x": [
          "844.7 -> 599.5"
         ],
         "xaxis": "x",
         "y": [
          126118.92807006836
         ],
         "yaxis": "y"
        },
        {
         "alignmentgroup": "True",
         "customdata": [
          [
           "[TG(50:3)]_FA14:0",
           "TAG"
          ]
         ],
         "hovertemplate": "Lipid=%{customdata[0]}<br>Transition=%{x}<br>Intensity=%{y}<br>Class=%{customdata[1]}<extra></extra>",
         "legendgroup": "[TG(50:3)]_FA14:0",
         "marker": {
          "color": "#19d3f3"
         },
         "name": "[TG(50:3)]_FA14:0",
         "offsetgroup": "[TG(50:3)]_FA14:0",
         "orientation": "v",
         "showlegend": true,
         "textposition": "auto",
         "type": "bar",
         "x": [
          "846.8 -> 601.6"
         ],
         "xaxis": "x",
         "y": [
          432169.33502197266
         ],
         "yaxis": "y"
        },
        {
         "alignmentgroup": "True",
         "customdata": [
          [
           "[TG(51:9),TG(50:2)]_FA14:0",
           "TAG"
          ]
         ],
         "hovertemplate": "Lipid=%{customdata[0]}<br>Transition=%{x}<br>Intensity=%{y}<br>Class=%{customdata[1]}<extra></extra>",
         "legendgroup": "[TG(51:9),TG(50:2)]_FA14:0",
         "marker": {
          "color": "#FF6692"
         },
         "name": "[TG(51:9),TG(50:2)]_FA14:0",
         "offsetgroup": "[TG(51:9),TG(50:2)]_FA14:0",
         "orientation": "v",
         "showlegend": true,
         "textposition": "auto",
         "type": "bar",
         "x": [
          "848.8 -> 603.6"
         ],
         "xaxis": "x",
         "y": [
          501185.328125
         ],
         "yaxis": "y"
        },
        {
         "alignmentgroup": "True",
         "customdata": [
          [
           "[TG(51:8),TG(50:1)]_FA14:0",
           "TAG"
          ]
         ],
         "hovertemplate": "Lipid=%{customdata[0]}<br>Transition=%{x}<br>Intensity=%{y}<br>Class=%{customdata[1]}<extra></extra>",
         "legendgroup": "[TG(51:8),TG(50:1)]_FA14:0",
         "marker": {
          "color": "#B6E880"
         },
         "name": "[TG(51:8),TG(50:1)]_FA14:0",
         "offsetgroup": "[TG(51:8),TG(50:1)]_FA14:0",
         "orientation": "v",
         "showlegend": true,
         "textposition": "auto",
         "type": "bar",
         "x": [
          "850.8 -> 605.6"
         ],
         "xaxis": "x",
         "y": [
          86953.32531738281
         ],
         "yaxis": "y"
        },
        {
         "alignmentgroup": "True",
         "customdata": [
          [
           "[TG(51:7),TG(50:0)]_FA14:0",
           "TAG"
          ]
         ],
         "hovertemplate": "Lipid=%{customdata[0]}<br>Transition=%{x}<br>Intensity=%{y}<br>Class=%{customdata[1]}<extra></extra>",
         "legendgroup": "[TG(51:7),TG(50:0)]_FA14:0",
         "marker": {
          "color": "#FF97FF"
         },
         "name": "[TG(51:7),TG(50:0)]_FA14:0",
         "offsetgroup": "[TG(51:7),TG(50:0)]_FA14:0",
         "orientation": "v",
         "showlegend": true,
         "textposition": "auto",
         "type": "bar",
         "x": [
          "852.8 -> 607.6"
         ],
         "xaxis": "x",
         "y": [
          36228.10238647461
         ],
         "yaxis": "y"
        },
        {
         "alignmentgroup": "True",
         "customdata": [
          [
           "[TG(51:6)]_FA14:0",
           "TAG"
          ]
         ],
         "hovertemplate": "Lipid=%{customdata[0]}<br>Transition=%{x}<br>Intensity=%{y}<br>Class=%{customdata[1]}<extra></extra>",
         "legendgroup": "[TG(51:6)]_FA14:0",
         "marker": {
          "color": "#FECB52"
         },
         "name": "[TG(51:6)]_FA14:0",
         "offsetgroup": "[TG(51:6)]_FA14:0",
         "orientation": "v",
         "showlegend": true,
         "textposition": "auto",
         "type": "bar",
         "x": [
          "854.7 -> 609.5"
         ],
         "xaxis": "x",
         "y": [
          49931.743591308594
         ],
         "yaxis": "y"
        },
        {
         "alignmentgroup": "True",
         "customdata": [
          [
           "[TG(51:5)]_FA14:0",
           "TAG"
          ]
         ],
         "hovertemplate": "Lipid=%{customdata[0]}<br>Transition=%{x}<br>Intensity=%{y}<br>Class=%{customdata[1]}<extra></extra>",
         "legendgroup": "[TG(51:5)]_FA14:0",
         "marker": {
          "color": "#636efa"
         },
         "name": "[TG(51:5)]_FA14:0",
         "offsetgroup": "[TG(51:5)]_FA14:0",
         "orientation": "v",
         "showlegend": true,
         "textposition": "auto",
         "type": "bar",
         "x": [
          "856.7 -> 611.5"
         ],
         "xaxis": "x",
         "y": [
          23814.681854248047
         ],
         "yaxis": "y"
        },
        {
         "alignmentgroup": "True",
         "customdata": [
          [
           "[TG(51:4)]_FA14:0",
           "TAG"
          ]
         ],
         "hovertemplate": "Lipid=%{customdata[0]}<br>Transition=%{x}<br>Intensity=%{y}<br>Class=%{customdata[1]}<extra></extra>",
         "legendgroup": "[TG(51:4)]_FA14:0",
         "marker": {
          "color": "#EF553B"
         },
         "name": "[TG(51:4)]_FA14:0",
         "offsetgroup": "[TG(51:4)]_FA14:0",
         "orientation": "v",
         "showlegend": true,
         "textposition": "auto",
         "type": "bar",
         "x": [
          "858.8 -> 613.6"
         ],
         "xaxis": "x",
         "y": [
          23092.781524658203
         ],
         "yaxis": "y"
        },
        {
         "alignmentgroup": "True",
         "customdata": [
          [
           "[TG(52:10),TG(51:3)]_FA14:0",
           "TAG"
          ]
         ],
         "hovertemplate": "Lipid=%{customdata[0]}<br>Transition=%{x}<br>Intensity=%{y}<br>Class=%{customdata[1]}<extra></extra>",
         "legendgroup": "[TG(52:10),TG(51:3)]_FA14:0",
         "marker": {
          "color": "#00cc96"
         },
         "name": "[TG(52:10),TG(51:3)]_FA14:0",
         "offsetgroup": "[TG(52:10),TG(51:3)]_FA14:0",
         "orientation": "v",
         "showlegend": true,
         "textposition": "auto",
         "type": "bar",
         "x": [
          "860.8 -> 615.6"
         ],
         "xaxis": "x",
         "y": [
          28172.081909179688
         ],
         "yaxis": "y"
        },
        {
         "alignmentgroup": "True",
         "customdata": [
          [
           "[TG(52:9),TG(51:2)]_FA14:0",
           "TAG"
          ]
         ],
         "hovertemplate": "Lipid=%{customdata[0]}<br>Transition=%{x}<br>Intensity=%{y}<br>Class=%{customdata[1]}<extra></extra>",
         "legendgroup": "[TG(52:9),TG(51:2)]_FA14:0",
         "marker": {
          "color": "#ab63fa"
         },
         "name": "[TG(52:9),TG(51:2)]_FA14:0",
         "offsetgroup": "[TG(52:9),TG(51:2)]_FA14:0",
         "orientation": "v",
         "showlegend": true,
         "textposition": "auto",
         "type": "bar",
         "x": [
          "862.8 -> 617.6"
         ],
         "xaxis": "x",
         "y": [
          41892.44287109375
         ],
         "yaxis": "y"
        },
        {
         "alignmentgroup": "True",
         "customdata": [
          [
           "[TG(52:8),TG(51:1)]_FA14:0",
           "TAG"
          ]
         ],
         "hovertemplate": "Lipid=%{customdata[0]}<br>Transition=%{x}<br>Intensity=%{y}<br>Class=%{customdata[1]}<extra></extra>",
         "legendgroup": "[TG(52:8),TG(51:1)]_FA14:0",
         "marker": {
          "color": "#FFA15A"
         },
         "name": "[TG(52:8),TG(51:1)]_FA14:0",
         "offsetgroup": "[TG(52:8),TG(51:1)]_FA14:0",
         "orientation": "v",
         "showlegend": true,
         "textposition": "auto",
         "type": "bar",
         "x": [
          "864.8 -> 619.6"
         ],
         "xaxis": "x",
         "y": [
          46549.702728271484
         ],
         "yaxis": "y"
        },
        {
         "alignmentgroup": "True",
         "customdata": [
          [
           "[TG(52:7),TG(51:0)]_FA14:0",
           "TAG"
          ]
         ],
         "hovertemplate": "Lipid=%{customdata[0]}<br>Transition=%{x}<br>Intensity=%{y}<br>Class=%{customdata[1]}<extra></extra>",
         "legendgroup": "[TG(52:7),TG(51:0)]_FA14:0",
         "marker": {
          "color": "#19d3f3"
         },
         "name": "[TG(52:7),TG(51:0)]_FA14:0",
         "offsetgroup": "[TG(52:7),TG(51:0)]_FA14:0",
         "orientation": "v",
         "showlegend": true,
         "textposition": "auto",
         "type": "bar",
         "x": [
          "866.8 -> 621.6"
         ],
         "xaxis": "x",
         "y": [
          34083.9026184082
         ],
         "yaxis": "y"
        },
        {
         "alignmentgroup": "True",
         "customdata": [
          [
           "[TG(52:6)]_FA14:0",
           "TAG"
          ]
         ],
         "hovertemplate": "Lipid=%{customdata[0]}<br>Transition=%{x}<br>Intensity=%{y}<br>Class=%{customdata[1]}<extra></extra>",
         "legendgroup": "[TG(52:6)]_FA14:0",
         "marker": {
          "color": "#FF6692"
         },
         "name": "[TG(52:6)]_FA14:0",
         "offsetgroup": "[TG(52:6)]_FA14:0",
         "orientation": "v",
         "showlegend": true,
         "textposition": "auto",
         "type": "bar",
         "x": [
          "868.7 -> 623.5"
         ],
         "xaxis": "x",
         "y": [
          40384.46292114258
         ],
         "yaxis": "y"
        },
        {
         "alignmentgroup": "True",
         "customdata": [
          [
           "[TG(52:5)]_FA14:0",
           "TAG"
          ]
         ],
         "hovertemplate": "Lipid=%{customdata[0]}<br>Transition=%{x}<br>Intensity=%{y}<br>Class=%{customdata[1]}<extra></extra>",
         "legendgroup": "[TG(52:5)]_FA14:0",
         "marker": {
          "color": "#B6E880"
         },
         "name": "[TG(52:5)]_FA14:0",
         "offsetgroup": "[TG(52:5)]_FA14:0",
         "orientation": "v",
         "showlegend": true,
         "textposition": "auto",
         "type": "bar",
         "x": [
          "870.8 -> 625.6"
         ],
         "xaxis": "x",
         "y": [
          44110.603759765625
         ],
         "yaxis": "y"
        },
        {
         "alignmentgroup": "True",
         "customdata": [
          [
           "[TG(52:4)]_FA14:0",
           "TAG"
          ]
         ],
         "hovertemplate": "Lipid=%{customdata[0]}<br>Transition=%{x}<br>Intensity=%{y}<br>Class=%{customdata[1]}<extra></extra>",
         "legendgroup": "[TG(52:4)]_FA14:0",
         "marker": {
          "color": "#FF97FF"
         },
         "name": "[TG(52:4)]_FA14:0",
         "offsetgroup": "[TG(52:4)]_FA14:0",
         "orientation": "v",
         "showlegend": true,
         "textposition": "auto",
         "type": "bar",
         "x": [
          "872.8 -> 627.6"
         ],
         "xaxis": "x",
         "y": [
          42770.922912597656
         ],
         "yaxis": "y"
        },
        {
         "alignmentgroup": "True",
         "customdata": [
          [
           "[TG(53:10),TG(52:3)]_FA14:0",
           "TAG"
          ]
         ],
         "hovertemplate": "Lipid=%{customdata[0]}<br>Transition=%{x}<br>Intensity=%{y}<br>Class=%{customdata[1]}<extra></extra>",
         "legendgroup": "[TG(53:10),TG(52:3)]_FA14:0",
         "marker": {
          "color": "#FECB52"
         },
         "name": "[TG(53:10),TG(52:3)]_FA14:0",
         "offsetgroup": "[TG(53:10),TG(52:3)]_FA14:0",
         "orientation": "v",
         "showlegend": true,
         "textposition": "auto",
         "type": "bar",
         "x": [
          "874.8 -> 629.6"
         ],
         "xaxis": "x",
         "y": [
          53848.18371582031
         ],
         "yaxis": "y"
        },
        {
         "alignmentgroup": "True",
         "customdata": [
          [
           "[TG(53:9),TG(52:2)]_FA14:0",
           "TAG"
          ]
         ],
         "hovertemplate": "Lipid=%{customdata[0]}<br>Transition=%{x}<br>Intensity=%{y}<br>Class=%{customdata[1]}<extra></extra>",
         "legendgroup": "[TG(53:9),TG(52:2)]_FA14:0",
         "marker": {
          "color": "#636efa"
         },
         "name": "[TG(53:9),TG(52:2)]_FA14:0",
         "offsetgroup": "[TG(53:9),TG(52:2)]_FA14:0",
         "orientation": "v",
         "showlegend": true,
         "textposition": "auto",
         "type": "bar",
         "x": [
          "876.8 -> 631.6"
         ],
         "xaxis": "x",
         "y": [
          56664.44418334961
         ],
         "yaxis": "y"
        },
        {
         "alignmentgroup": "True",
         "customdata": [
          [
           "[TG(53:8),TG(52:1)]_FA14:0",
           "TAG"
          ]
         ],
         "hovertemplate": "Lipid=%{customdata[0]}<br>Transition=%{x}<br>Intensity=%{y}<br>Class=%{customdata[1]}<extra></extra>",
         "legendgroup": "[TG(53:8),TG(52:1)]_FA14:0",
         "marker": {
          "color": "#EF553B"
         },
         "name": "[TG(53:8),TG(52:1)]_FA14:0",
         "offsetgroup": "[TG(53:8),TG(52:1)]_FA14:0",
         "orientation": "v",
         "showlegend": true,
         "textposition": "auto",
         "type": "bar",
         "x": [
          "878.8 -> 633.6"
         ],
         "xaxis": "x",
         "y": [
          47311.622985839844
         ],
         "yaxis": "y"
        },
        {
         "alignmentgroup": "True",
         "customdata": [
          [
           "[TG(53:7),TG(52:0)]_FA14:0",
           "TAG"
          ]
         ],
         "hovertemplate": "Lipid=%{customdata[0]}<br>Transition=%{x}<br>Intensity=%{y}<br>Class=%{customdata[1]}<extra></extra>",
         "legendgroup": "[TG(53:7),TG(52:0)]_FA14:0",
         "marker": {
          "color": "#00cc96"
         },
         "name": "[TG(53:7),TG(52:0)]_FA14:0",
         "offsetgroup": "[TG(53:7),TG(52:0)]_FA14:0",
         "orientation": "v",
         "showlegend": true,
         "textposition": "auto",
         "type": "bar",
         "x": [
          "880.8 -> 635.6"
         ],
         "xaxis": "x",
         "y": [
          30805.982299804688
         ],
         "yaxis": "y"
        },
        {
         "alignmentgroup": "True",
         "customdata": [
          [
           "[TG(53:6)]_FA14:0",
           "TAG"
          ]
         ],
         "hovertemplate": "Lipid=%{customdata[0]}<br>Transition=%{x}<br>Intensity=%{y}<br>Class=%{customdata[1]}<extra></extra>",
         "legendgroup": "[TG(53:6)]_FA14:0",
         "marker": {
          "color": "#ab63fa"
         },
         "name": "[TG(53:6)]_FA14:0",
         "offsetgroup": "[TG(53:6)]_FA14:0",
         "orientation": "v",
         "showlegend": true,
         "textposition": "auto",
         "type": "bar",
         "x": [
          "882.8 -> 637.6"
         ],
         "xaxis": "x",
         "y": [
          26174.721771240234
         ],
         "yaxis": "y"
        },
        {
         "alignmentgroup": "True",
         "customdata": [
          [
           "[TG(54:12),TG(53:5)]_FA14:0",
           "TAG"
          ]
         ],
         "hovertemplate": "Lipid=%{customdata[0]}<br>Transition=%{x}<br>Intensity=%{y}<br>Class=%{customdata[1]}<extra></extra>",
         "legendgroup": "[TG(54:12),TG(53:5)]_FA14:0",
         "marker": {
          "color": "#FFA15A"
         },
         "name": "[TG(54:12),TG(53:5)]_FA14:0",
         "offsetgroup": "[TG(54:12),TG(53:5)]_FA14:0",
         "orientation": "v",
         "showlegend": true,
         "textposition": "auto",
         "type": "bar",
         "x": [
          "884.8 -> 639.6"
         ],
         "xaxis": "x",
         "y": [
          25399.10171508789
         ],
         "yaxis": "y"
        },
        {
         "alignmentgroup": "True",
         "customdata": [
          [
           "[TG(54:11),TG(53:4)]_FA14:0",
           "TAG"
          ]
         ],
         "hovertemplate": "Lipid=%{customdata[0]}<br>Transition=%{x}<br>Intensity=%{y}<br>Class=%{customdata[1]}<extra></extra>",
         "legendgroup": "[TG(54:11),TG(53:4)]_FA14:0",
         "marker": {
          "color": "#19d3f3"
         },
         "name": "[TG(54:11),TG(53:4)]_FA14:0",
         "offsetgroup": "[TG(54:11),TG(53:4)]_FA14:0",
         "orientation": "v",
         "showlegend": true,
         "textposition": "auto",
         "type": "bar",
         "x": [
          "886.8 -> 641.6"
         ],
         "xaxis": "x",
         "y": [
          25004.141693115234
         ],
         "yaxis": "y"
        },
        {
         "alignmentgroup": "True",
         "customdata": [
          [
           "[TG(54:10),TG(53:3)]_FA14:0",
           "TAG"
          ]
         ],
         "hovertemplate": "Lipid=%{customdata[0]}<br>Transition=%{x}<br>Intensity=%{y}<br>Class=%{customdata[1]}<extra></extra>",
         "legendgroup": "[TG(54:10),TG(53:3)]_FA14:0",
         "marker": {
          "color": "#FF6692"
         },
         "name": "[TG(54:10),TG(53:3)]_FA14:0",
         "offsetgroup": "[TG(54:10),TG(53:3)]_FA14:0",
         "orientation": "v",
         "showlegend": true,
         "textposition": "auto",
         "type": "bar",
         "x": [
          "888.8 -> 643.6"
         ],
         "xaxis": "x",
         "y": [
          31147.182556152344
         ],
         "yaxis": "y"
        },
        {
         "alignmentgroup": "True",
         "customdata": [
          [
           "[TG(54:9),TG(53:2)]_FA14:0",
           "TAG"
          ]
         ],
         "hovertemplate": "Lipid=%{customdata[0]}<br>Transition=%{x}<br>Intensity=%{y}<br>Class=%{customdata[1]}<extra></extra>",
         "legendgroup": "[TG(54:9),TG(53:2)]_FA14:0",
         "marker": {
          "color": "#B6E880"
         },
         "name": "[TG(54:9),TG(53:2)]_FA14:0",
         "offsetgroup": "[TG(54:9),TG(53:2)]_FA14:0",
         "orientation": "v",
         "showlegend": true,
         "textposition": "auto",
         "type": "bar",
         "x": [
          "890.8 -> 645.6"
         ],
         "xaxis": "x",
         "y": [
          38980.08303833008
         ],
         "yaxis": "y"
        },
        {
         "alignmentgroup": "True",
         "customdata": [
          [
           "[TG(54:8),TG(53:1)]_FA14:0",
           "TAG"
          ]
         ],
         "hovertemplate": "Lipid=%{customdata[0]}<br>Transition=%{x}<br>Intensity=%{y}<br>Class=%{customdata[1]}<extra></extra>",
         "legendgroup": "[TG(54:8),TG(53:1)]_FA14:0",
         "marker": {
          "color": "#FF97FF"
         },
         "name": "[TG(54:8),TG(53:1)]_FA14:0",
         "offsetgroup": "[TG(54:8),TG(53:1)]_FA14:0",
         "orientation": "v",
         "showlegend": true,
         "textposition": "auto",
         "type": "bar",
         "x": [
          "892.8 -> 647.6"
         ],
         "xaxis": "x",
         "y": [
          46906.80307006836
         ],
         "yaxis": "y"
        },
        {
         "alignmentgroup": "True",
         "customdata": [
          [
           "[TG(54:7),TG(53:0)]_FA14:0",
           "TAG"
          ]
         ],
         "hovertemplate": "Lipid=%{customdata[0]}<br>Transition=%{x}<br>Intensity=%{y}<br>Class=%{customdata[1]}<extra></extra>",
         "legendgroup": "[TG(54:7),TG(53:0)]_FA14:0",
         "marker": {
          "color": "#FECB52"
         },
         "name": "[TG(54:7),TG(53:0)]_FA14:0",
         "offsetgroup": "[TG(54:7),TG(53:0)]_FA14:0",
         "orientation": "v",
         "showlegend": true,
         "textposition": "auto",
         "type": "bar",
         "x": [
          "894.8 -> 649.6"
         ],
         "xaxis": "x",
         "y": [
          38897.4231262207
         ],
         "yaxis": "y"
        },
        {
         "alignmentgroup": "True",
         "customdata": [
          [
           "[TG(54:6)]_FA14:0",
           "TAG"
          ]
         ],
         "hovertemplate": "Lipid=%{customdata[0]}<br>Transition=%{x}<br>Intensity=%{y}<br>Class=%{customdata[1]}<extra></extra>",
         "legendgroup": "[TG(54:6)]_FA14:0",
         "marker": {
          "color": "#636efa"
         },
         "name": "[TG(54:6)]_FA14:0",
         "offsetgroup": "[TG(54:6)]_FA14:0",
         "orientation": "v",
         "showlegend": true,
         "textposition": "auto",
         "type": "bar",
         "x": [
          "896.8 -> 651.6"
         ],
         "xaxis": "x",
         "y": [
          73665.94470214844
         ],
         "yaxis": "y"
        },
        {
         "alignmentgroup": "True",
         "customdata": [
          [
           "[TG(54:5)]_FA14:0",
           "TAG"
          ]
         ],
         "hovertemplate": "Lipid=%{customdata[0]}<br>Transition=%{x}<br>Intensity=%{y}<br>Class=%{customdata[1]}<extra></extra>",
         "legendgroup": "[TG(54:5)]_FA14:0",
         "marker": {
          "color": "#EF553B"
         },
         "name": "[TG(54:5)]_FA14:0",
         "offsetgroup": "[TG(54:5)]_FA14:0",
         "orientation": "v",
         "showlegend": true,
         "textposition": "auto",
         "type": "bar",
         "x": [
          "898.8 -> 653.6"
         ],
         "xaxis": "x",
         "y": [
          41898.76268005371
         ],
         "yaxis": "y"
        },
        {
         "alignmentgroup": "True",
         "customdata": [
          [
           "[TG(55:11),TG(54:4)]_FA14:0",
           "TAG"
          ]
         ],
         "hovertemplate": "Lipid=%{customdata[0]}<br>Transition=%{x}<br>Intensity=%{y}<br>Class=%{customdata[1]}<extra></extra>",
         "legendgroup": "[TG(55:11),TG(54:4)]_FA14:0",
         "marker": {
          "color": "#00cc96"
         },
         "name": "[TG(55:11),TG(54:4)]_FA14:0",
         "offsetgroup": "[TG(55:11),TG(54:4)]_FA14:0",
         "orientation": "v",
         "showlegend": true,
         "textposition": "auto",
         "type": "bar",
         "x": [
          "900.8 -> 655.6"
         ],
         "xaxis": "x",
         "y": [
          28414.301971435547
         ],
         "yaxis": "y"
        },
        {
         "alignmentgroup": "True",
         "customdata": [
          [
           "[TG(55:10),TG(54:3)]_FA14:0",
           "TAG"
          ]
         ],
         "hovertemplate": "Lipid=%{customdata[0]}<br>Transition=%{x}<br>Intensity=%{y}<br>Class=%{customdata[1]}<extra></extra>",
         "legendgroup": "[TG(55:10),TG(54:3)]_FA14:0",
         "marker": {
          "color": "#ab63fa"
         },
         "name": "[TG(55:10),TG(54:3)]_FA14:0",
         "offsetgroup": "[TG(55:10),TG(54:3)]_FA14:0",
         "orientation": "v",
         "showlegend": true,
         "textposition": "auto",
         "type": "bar",
         "x": [
          "902.8 -> 657.6"
         ],
         "xaxis": "x",
         "y": [
          30718.442108154297
         ],
         "yaxis": "y"
        },
        {
         "alignmentgroup": "True",
         "customdata": [
          [
           "[TG(55:9),TG(54:2)]_FA14:0",
           "TAG"
          ]
         ],
         "hovertemplate": "Lipid=%{customdata[0]}<br>Transition=%{x}<br>Intensity=%{y}<br>Class=%{customdata[1]}<extra></extra>",
         "legendgroup": "[TG(55:9),TG(54:2)]_FA14:0",
         "marker": {
          "color": "#FFA15A"
         },
         "name": "[TG(55:9),TG(54:2)]_FA14:0",
         "offsetgroup": "[TG(55:9),TG(54:2)]_FA14:0",
         "orientation": "v",
         "showlegend": true,
         "textposition": "auto",
         "type": "bar",
         "x": [
          "904.8 -> 659.6"
         ],
         "xaxis": "x",
         "y": [
          33424.282623291016
         ],
         "yaxis": "y"
        },
        {
         "alignmentgroup": "True",
         "customdata": [
          [
           "[TG(55:8),TG(54:1)]_FA14:0",
           "TAG"
          ]
         ],
         "hovertemplate": "Lipid=%{customdata[0]}<br>Transition=%{x}<br>Intensity=%{y}<br>Class=%{customdata[1]}<extra></extra>",
         "legendgroup": "[TG(55:8),TG(54:1)]_FA14:0",
         "marker": {
          "color": "#19d3f3"
         },
         "name": "[TG(55:8),TG(54:1)]_FA14:0",
         "offsetgroup": "[TG(55:8),TG(54:1)]_FA14:0",
         "orientation": "v",
         "showlegend": true,
         "textposition": "auto",
         "type": "bar",
         "x": [
          "906.8 -> 661.6"
         ],
         "xaxis": "x",
         "y": [
          29007.38198852539
         ],
         "yaxis": "y"
        },
        {
         "alignmentgroup": "True",
         "customdata": [
          [
           "[TG(55:7),TG(54:0)]_FA14:0",
           "TAG"
          ]
         ],
         "hovertemplate": "Lipid=%{customdata[0]}<br>Transition=%{x}<br>Intensity=%{y}<br>Class=%{customdata[1]}<extra></extra>",
         "legendgroup": "[TG(55:7),TG(54:0)]_FA14:0",
         "marker": {
          "color": "#FF6692"
         },
         "name": "[TG(55:7),TG(54:0)]_FA14:0",
         "offsetgroup": "[TG(55:7),TG(54:0)]_FA14:0",
         "orientation": "v",
         "showlegend": true,
         "textposition": "auto",
         "type": "bar",
         "x": [
          "908.9 -> 663.7"
         ],
         "xaxis": "x",
         "y": [
          35497.86260986328
         ],
         "yaxis": "y"
        },
        {
         "alignmentgroup": "True",
         "customdata": [
          [
           "[TG(56:13),TG(55:6)]_FA14:0",
           "TAG"
          ]
         ],
         "hovertemplate": "Lipid=%{customdata[0]}<br>Transition=%{x}<br>Intensity=%{y}<br>Class=%{customdata[1]}<extra></extra>",
         "legendgroup": "[TG(56:13),TG(55:6)]_FA14:0",
         "marker": {
          "color": "#B6E880"
         },
         "name": "[TG(56:13),TG(55:6)]_FA14:0",
         "offsetgroup": "[TG(56:13),TG(55:6)]_FA14:0",
         "orientation": "v",
         "showlegend": true,
         "textposition": "auto",
         "type": "bar",
         "x": [
          "910.8 -> 665.6"
         ],
         "xaxis": "x",
         "y": [
          26408.881866455078
         ],
         "yaxis": "y"
        },
        {
         "alignmentgroup": "True",
         "customdata": [
          [
           "[TG(56:12),TG(55:5)]_FA14:0",
           "TAG"
          ]
         ],
         "hovertemplate": "Lipid=%{customdata[0]}<br>Transition=%{x}<br>Intensity=%{y}<br>Class=%{customdata[1]}<extra></extra>",
         "legendgroup": "[TG(56:12),TG(55:5)]_FA14:0",
         "marker": {
          "color": "#FF97FF"
         },
         "name": "[TG(56:12),TG(55:5)]_FA14:0",
         "offsetgroup": "[TG(56:12),TG(55:5)]_FA14:0",
         "orientation": "v",
         "showlegend": true,
         "textposition": "auto",
         "type": "bar",
         "x": [
          "912.8 -> 667.6"
         ],
         "xaxis": "x",
         "y": [
          22494.82162475586
         ],
         "yaxis": "y"
        },
        {
         "alignmentgroup": "True",
         "customdata": [
          [
           "[TG(56:11),TG(55:4)]_FA14:0",
           "TAG"
          ]
         ],
         "hovertemplate": "Lipid=%{customdata[0]}<br>Transition=%{x}<br>Intensity=%{y}<br>Class=%{customdata[1]}<extra></extra>",
         "legendgroup": "[TG(56:11),TG(55:4)]_FA14:0",
         "marker": {
          "color": "#FECB52"
         },
         "name": "[TG(56:11),TG(55:4)]_FA14:0",
         "offsetgroup": "[TG(56:11),TG(55:4)]_FA14:0",
         "orientation": "v",
         "showlegend": true,
         "textposition": "auto",
         "type": "bar",
         "x": [
          "914.8 -> 669.6"
         ],
         "xaxis": "x",
         "y": [
          25690.061798095703
         ],
         "yaxis": "y"
        },
        {
         "alignmentgroup": "True",
         "customdata": [
          [
           "[TG(56:10),TG(55:3)]_FA14:0",
           "TAG"
          ]
         ],
         "hovertemplate": "Lipid=%{customdata[0]}<br>Transition=%{x}<br>Intensity=%{y}<br>Class=%{customdata[1]}<extra></extra>",
         "legendgroup": "[TG(56:10),TG(55:3)]_FA14:0",
         "marker": {
          "color": "#636efa"
         },
         "name": "[TG(56:10),TG(55:3)]_FA14:0",
         "offsetgroup": "[TG(56:10),TG(55:3)]_FA14:0",
         "orientation": "v",
         "showlegend": true,
         "textposition": "auto",
         "type": "bar",
         "x": [
          "916.8 -> 671.6"
         ],
         "xaxis": "x",
         "y": [
          29631.141998291016
         ],
         "yaxis": "y"
        },
        {
         "alignmentgroup": "True",
         "customdata": [
          [
           "[TG(56:9),TG(55:2)]_FA14:0",
           "TAG"
          ]
         ],
         "hovertemplate": "Lipid=%{customdata[0]}<br>Transition=%{x}<br>Intensity=%{y}<br>Class=%{customdata[1]}<extra></extra>",
         "legendgroup": "[TG(56:9),TG(55:2)]_FA14:0",
         "marker": {
          "color": "#EF553B"
         },
         "name": "[TG(56:9),TG(55:2)]_FA14:0",
         "offsetgroup": "[TG(56:9),TG(55:2)]_FA14:0",
         "orientation": "v",
         "showlegend": true,
         "textposition": "auto",
         "type": "bar",
         "x": [
          "918.8 -> 673.6"
         ],
         "xaxis": "x",
         "y": [
          33327.52235412598
         ],
         "yaxis": "y"
        },
        {
         "alignmentgroup": "True",
         "customdata": [
          [
           "[TG(56:8),TG(55:1)]_FA14:0",
           "TAG"
          ]
         ],
         "hovertemplate": "Lipid=%{customdata[0]}<br>Transition=%{x}<br>Intensity=%{y}<br>Class=%{customdata[1]}<extra></extra>",
         "legendgroup": "[TG(56:8),TG(55:1)]_FA14:0",
         "marker": {
          "color": "#00cc96"
         },
         "name": "[TG(56:8),TG(55:1)]_FA14:0",
         "offsetgroup": "[TG(56:8),TG(55:1)]_FA14:0",
         "orientation": "v",
         "showlegend": true,
         "textposition": "auto",
         "type": "bar",
         "x": [
          "920.9 -> 675.7"
         ],
         "xaxis": "x",
         "y": [
          29645.14239501953
         ],
         "yaxis": "y"
        },
        {
         "alignmentgroup": "True",
         "customdata": [
          [
           "[TG(56:7),TG(55:0)]_FA14:0",
           "TAG"
          ]
         ],
         "hovertemplate": "Lipid=%{customdata[0]}<br>Transition=%{x}<br>Intensity=%{y}<br>Class=%{customdata[1]}<extra></extra>",
         "legendgroup": "[TG(56:7),TG(55:0)]_FA14:0",
         "marker": {
          "color": "#ab63fa"
         },
         "name": "[TG(56:7),TG(55:0)]_FA14:0",
         "offsetgroup": "[TG(56:7),TG(55:0)]_FA14:0",
         "orientation": "v",
         "showlegend": true,
         "textposition": "auto",
         "type": "bar",
         "x": [
          "922.9 -> 677.7"
         ],
         "xaxis": "x",
         "y": [
          23936.88168334961
         ],
         "yaxis": "y"
        },
        {
         "alignmentgroup": "True",
         "customdata": [
          [
           "[TG(56:6)]_FA14:0",
           "TAG"
          ]
         ],
         "hovertemplate": "Lipid=%{customdata[0]}<br>Transition=%{x}<br>Intensity=%{y}<br>Class=%{customdata[1]}<extra></extra>",
         "legendgroup": "[TG(56:6)]_FA14:0",
         "marker": {
          "color": "#FFA15A"
         },
         "name": "[TG(56:6)]_FA14:0",
         "offsetgroup": "[TG(56:6)]_FA14:0",
         "orientation": "v",
         "showlegend": true,
         "textposition": "auto",
         "type": "bar",
         "x": [
          "924.8 -> 679.6"
         ],
         "xaxis": "x",
         "y": [
          21959.361694335938
         ],
         "yaxis": "y"
        },
        {
         "alignmentgroup": "True",
         "customdata": [
          [
           "[TG(57:12),TG(56:5)]_FA14:0",
           "TAG"
          ]
         ],
         "hovertemplate": "Lipid=%{customdata[0]}<br>Transition=%{x}<br>Intensity=%{y}<br>Class=%{customdata[1]}<extra></extra>",
         "legendgroup": "[TG(57:12),TG(56:5)]_FA14:0",
         "marker": {
          "color": "#19d3f3"
         },
         "name": "[TG(57:12),TG(56:5)]_FA14:0",
         "offsetgroup": "[TG(57:12),TG(56:5)]_FA14:0",
         "orientation": "v",
         "showlegend": true,
         "textposition": "auto",
         "type": "bar",
         "x": [
          "926.8 -> 681.6"
         ],
         "xaxis": "x",
         "y": [
          20401.881622314453
         ],
         "yaxis": "y"
        },
        {
         "alignmentgroup": "True",
         "customdata": [
          [
           "[TG(57:11),TG(56:4)]_FA14:0",
           "TAG"
          ]
         ],
         "hovertemplate": "Lipid=%{customdata[0]}<br>Transition=%{x}<br>Intensity=%{y}<br>Class=%{customdata[1]}<extra></extra>",
         "legendgroup": "[TG(57:11),TG(56:4)]_FA14:0",
         "marker": {
          "color": "#FF6692"
         },
         "name": "[TG(57:11),TG(56:4)]_FA14:0",
         "offsetgroup": "[TG(57:11),TG(56:4)]_FA14:0",
         "orientation": "v",
         "showlegend": true,
         "textposition": "auto",
         "type": "bar",
         "x": [
          "928.8 -> 683.6"
         ],
         "xaxis": "x",
         "y": [
          20398.84147644043
         ],
         "yaxis": "y"
        },
        {
         "alignmentgroup": "True",
         "customdata": [
          [
           "[TG(57:10),TG(56:3)]_FA14:0",
           "TAG"
          ]
         ],
         "hovertemplate": "Lipid=%{customdata[0]}<br>Transition=%{x}<br>Intensity=%{y}<br>Class=%{customdata[1]}<extra></extra>",
         "legendgroup": "[TG(57:10),TG(56:3)]_FA14:0",
         "marker": {
          "color": "#B6E880"
         },
         "name": "[TG(57:10),TG(56:3)]_FA14:0",
         "offsetgroup": "[TG(57:10),TG(56:3)]_FA14:0",
         "orientation": "v",
         "showlegend": true,
         "textposition": "auto",
         "type": "bar",
         "x": [
          "930.8 -> 685.6"
         ],
         "xaxis": "x",
         "y": [
          25416.421936035156
         ],
         "yaxis": "y"
        },
        {
         "alignmentgroup": "True",
         "customdata": [
          [
           "[TG(57:9),TG(56:2)]_FA14:0",
           "TAG"
          ]
         ],
         "hovertemplate": "Lipid=%{customdata[0]}<br>Transition=%{x}<br>Intensity=%{y}<br>Class=%{customdata[1]}<extra></extra>",
         "legendgroup": "[TG(57:9),TG(56:2)]_FA14:0",
         "marker": {
          "color": "#FF97FF"
         },
         "name": "[TG(57:9),TG(56:2)]_FA14:0",
         "offsetgroup": "[TG(57:9),TG(56:2)]_FA14:0",
         "orientation": "v",
         "showlegend": true,
         "textposition": "auto",
         "type": "bar",
         "x": [
          "932.9 -> 687.7"
         ],
         "xaxis": "x",
         "y": [
          22382.361602783203
         ],
         "yaxis": "y"
        },
        {
         "alignmentgroup": "True",
         "customdata": [
          [
           "[TG(57:8),TG(56:1)]_FA14:0",
           "TAG"
          ]
         ],
         "hovertemplate": "Lipid=%{customdata[0]}<br>Transition=%{x}<br>Intensity=%{y}<br>Class=%{customdata[1]}<extra></extra>",
         "legendgroup": "[TG(57:8),TG(56:1)]_FA14:0",
         "marker": {
          "color": "#FECB52"
         },
         "name": "[TG(57:8),TG(56:1)]_FA14:0",
         "offsetgroup": "[TG(57:8),TG(56:1)]_FA14:0",
         "orientation": "v",
         "showlegend": true,
         "textposition": "auto",
         "type": "bar",
         "x": [
          "934.9 -> 689.7"
         ],
         "xaxis": "x",
         "y": [
          19609.461395263672
         ],
         "yaxis": "y"
        },
        {
         "alignmentgroup": "True",
         "customdata": [
          [
           "[TG(58:14),TG(57:7),TG(56:0)]_FA14:0",
           "TAG"
          ]
         ],
         "hovertemplate": "Lipid=%{customdata[0]}<br>Transition=%{x}<br>Intensity=%{y}<br>Class=%{customdata[1]}<extra></extra>",
         "legendgroup": "[TG(58:14),TG(57:7),TG(56:0)]_FA14:0",
         "marker": {
          "color": "#636efa"
         },
         "name": "[TG(58:14),TG(57:7),TG(56:0)]_FA14:0",
         "offsetgroup": "[TG(58:14),TG(57:7),TG(56:0)]_FA14:0",
         "orientation": "v",
         "showlegend": true,
         "textposition": "auto",
         "type": "bar",
         "x": [
          "936.9 -> 691.7"
         ],
         "xaxis": "x",
         "y": [
          22338.061492919922
         ],
         "yaxis": "y"
        },
        {
         "alignmentgroup": "True",
         "customdata": [
          [
           "[TG(58:13),TG(57:6)]_FA14:0",
           "TAG"
          ]
         ],
         "hovertemplate": "Lipid=%{customdata[0]}<br>Transition=%{x}<br>Intensity=%{y}<br>Class=%{customdata[1]}<extra></extra>",
         "legendgroup": "[TG(58:13),TG(57:6)]_FA14:0",
         "marker": {
          "color": "#EF553B"
         },
         "name": "[TG(58:13),TG(57:6)]_FA14:0",
         "offsetgroup": "[TG(58:13),TG(57:6)]_FA14:0",
         "orientation": "v",
         "showlegend": true,
         "textposition": "auto",
         "type": "bar",
         "x": [
          "938.8 -> 693.6"
         ],
         "xaxis": "x",
         "y": [
          29575.44204711914
         ],
         "yaxis": "y"
        },
        {
         "alignmentgroup": "True",
         "customdata": [
          [
           "[TG(58:12),TG(57:5)]_FA14:0",
           "TAG"
          ]
         ],
         "hovertemplate": "Lipid=%{customdata[0]}<br>Transition=%{x}<br>Intensity=%{y}<br>Class=%{customdata[1]}<extra></extra>",
         "legendgroup": "[TG(58:12),TG(57:5)]_FA14:0",
         "marker": {
          "color": "#00cc96"
         },
         "name": "[TG(58:12),TG(57:5)]_FA14:0",
         "offsetgroup": "[TG(58:12),TG(57:5)]_FA14:0",
         "orientation": "v",
         "showlegend": true,
         "textposition": "auto",
         "type": "bar",
         "x": [
          "940.8 -> 695.6"
         ],
         "xaxis": "x",
         "y": [
          20122.321487426758
         ],
         "yaxis": "y"
        },
        {
         "alignmentgroup": "True",
         "customdata": [
          [
           "[TG(58:11),TG(57:4)]_FA14:0",
           "TAG"
          ]
         ],
         "hovertemplate": "Lipid=%{customdata[0]}<br>Transition=%{x}<br>Intensity=%{y}<br>Class=%{customdata[1]}<extra></extra>",
         "legendgroup": "[TG(58:11),TG(57:4)]_FA14:0",
         "marker": {
          "color": "#ab63fa"
         },
         "name": "[TG(58:11),TG(57:4)]_FA14:0",
         "offsetgroup": "[TG(58:11),TG(57:4)]_FA14:0",
         "orientation": "v",
         "showlegend": true,
         "textposition": "auto",
         "type": "bar",
         "x": [
          "942.8 -> 697.6"
         ],
         "xaxis": "x",
         "y": [
          20873.68148803711
         ],
         "yaxis": "y"
        },
        {
         "alignmentgroup": "True",
         "customdata": [
          [
           "[TG(58:10),TG(57:3)]_FA14:0",
           "TAG"
          ]
         ],
         "hovertemplate": "Lipid=%{customdata[0]}<br>Transition=%{x}<br>Intensity=%{y}<br>Class=%{customdata[1]}<extra></extra>",
         "legendgroup": "[TG(58:10),TG(57:3)]_FA14:0",
         "marker": {
          "color": "#FFA15A"
         },
         "name": "[TG(58:10),TG(57:3)]_FA14:0",
         "offsetgroup": "[TG(58:10),TG(57:3)]_FA14:0",
         "orientation": "v",
         "showlegend": true,
         "textposition": "auto",
         "type": "bar",
         "x": [
          "944.9 -> 699.7"
         ],
         "xaxis": "x",
         "y": [
          20475.001525878906
         ],
         "yaxis": "y"
        },
        {
         "alignmentgroup": "True",
         "customdata": [
          [
           "[TG(58:9),TG(57:2)]_FA14:0",
           "TAG"
          ]
         ],
         "hovertemplate": "Lipid=%{customdata[0]}<br>Transition=%{x}<br>Intensity=%{y}<br>Class=%{customdata[1]}<extra></extra>",
         "legendgroup": "[TG(58:9),TG(57:2)]_FA14:0",
         "marker": {
          "color": "#19d3f3"
         },
         "name": "[TG(58:9),TG(57:2)]_FA14:0",
         "offsetgroup": "[TG(58:9),TG(57:2)]_FA14:0",
         "orientation": "v",
         "showlegend": true,
         "textposition": "auto",
         "type": "bar",
         "x": [
          "946.9 -> 701.7"
         ],
         "xaxis": "x",
         "y": [
          19687.661422729492
         ],
         "yaxis": "y"
        },
        {
         "alignmentgroup": "True",
         "customdata": [
          [
           "[TG(58:8),TG(57:1)]_FA14:0",
           "TAG"
          ]
         ],
         "hovertemplate": "Lipid=%{customdata[0]}<br>Transition=%{x}<br>Intensity=%{y}<br>Class=%{customdata[1]}<extra></extra>",
         "legendgroup": "[TG(58:8),TG(57:1)]_FA14:0",
         "marker": {
          "color": "#FF6692"
         },
         "name": "[TG(58:8),TG(57:1)]_FA14:0",
         "offsetgroup": "[TG(58:8),TG(57:1)]_FA14:0",
         "orientation": "v",
         "showlegend": true,
         "textposition": "auto",
         "type": "bar",
         "x": [
          "948.9 -> 703.7"
         ],
         "xaxis": "x",
         "y": [
          17986.1212310791
         ],
         "yaxis": "y"
        },
        {
         "alignmentgroup": "True",
         "customdata": [
          [
           "[TG(58:7),TG(57:0)]_FA14:0",
           "TAG"
          ]
         ],
         "hovertemplate": "Lipid=%{customdata[0]}<br>Transition=%{x}<br>Intensity=%{y}<br>Class=%{customdata[1]}<extra></extra>",
         "legendgroup": "[TG(58:7),TG(57:0)]_FA14:0",
         "marker": {
          "color": "#B6E880"
         },
         "name": "[TG(58:7),TG(57:0)]_FA14:0",
         "offsetgroup": "[TG(58:7),TG(57:0)]_FA14:0",
         "orientation": "v",
         "showlegend": true,
         "textposition": "auto",
         "type": "bar",
         "x": [
          "950.9 -> 705.7"
         ],
         "xaxis": "x",
         "y": [
          16909.581176757812
         ],
         "yaxis": "y"
        },
        {
         "alignmentgroup": "True",
         "customdata": [
          [
           "[TG(59:13),TG(58:6)]_FA14:0",
           "TAG"
          ]
         ],
         "hovertemplate": "Lipid=%{customdata[0]}<br>Transition=%{x}<br>Intensity=%{y}<br>Class=%{customdata[1]}<extra></extra>",
         "legendgroup": "[TG(59:13),TG(58:6)]_FA14:0",
         "marker": {
          "color": "#FF97FF"
         },
         "name": "[TG(59:13),TG(58:6)]_FA14:0",
         "offsetgroup": "[TG(59:13),TG(58:6)]_FA14:0",
         "orientation": "v",
         "showlegend": true,
         "textposition": "auto",
         "type": "bar",
         "x": [
          "952.8 -> 707.6"
         ],
         "xaxis": "x",
         "y": [
          17760.02130126953
         ],
         "yaxis": "y"
        },
        {
         "alignmentgroup": "True",
         "customdata": [
          [
           "[TG(59:12),TG(58:5)]_FA14:0",
           "TAG"
          ]
         ],
         "hovertemplate": "Lipid=%{customdata[0]}<br>Transition=%{x}<br>Intensity=%{y}<br>Class=%{customdata[1]}<extra></extra>",
         "legendgroup": "[TG(59:12),TG(58:5)]_FA14:0",
         "marker": {
          "color": "#FECB52"
         },
         "name": "[TG(59:12),TG(58:5)]_FA14:0",
         "offsetgroup": "[TG(59:12),TG(58:5)]_FA14:0",
         "orientation": "v",
         "showlegend": true,
         "textposition": "auto",
         "type": "bar",
         "x": [
          "954.8 -> 709.6"
         ],
         "xaxis": "x",
         "y": [
          17154.881271362305
         ],
         "yaxis": "y"
        },
        {
         "alignmentgroup": "True",
         "customdata": [
          [
           "[TG(59:11),TG(58:4)]_FA14:0",
           "TAG"
          ]
         ],
         "hovertemplate": "Lipid=%{customdata[0]}<br>Transition=%{x}<br>Intensity=%{y}<br>Class=%{customdata[1]}<extra></extra>",
         "legendgroup": "[TG(59:11),TG(58:4)]_FA14:0",
         "marker": {
          "color": "#636efa"
         },
         "name": "[TG(59:11),TG(58:4)]_FA14:0",
         "offsetgroup": "[TG(59:11),TG(58:4)]_FA14:0",
         "orientation": "v",
         "showlegend": true,
         "textposition": "auto",
         "type": "bar",
         "x": [
          "956.9 -> 711.7"
         ],
         "xaxis": "x",
         "y": [
          17369.481216430664
         ],
         "yaxis": "y"
        },
        {
         "alignmentgroup": "True",
         "customdata": [
          [
           "[TG(59:10),TG(58:3)]_FA14:0",
           "TAG"
          ]
         ],
         "hovertemplate": "Lipid=%{customdata[0]}<br>Transition=%{x}<br>Intensity=%{y}<br>Class=%{customdata[1]}<extra></extra>",
         "legendgroup": "[TG(59:10),TG(58:3)]_FA14:0",
         "marker": {
          "color": "#EF553B"
         },
         "name": "[TG(59:10),TG(58:3)]_FA14:0",
         "offsetgroup": "[TG(59:10),TG(58:3)]_FA14:0",
         "orientation": "v",
         "showlegend": true,
         "textposition": "auto",
         "type": "bar",
         "x": [
          "958.9 -> 713.7"
         ],
         "xaxis": "x",
         "y": [
          17000.50129699707
         ],
         "yaxis": "y"
        },
        {
         "alignmentgroup": "True",
         "customdata": [
          [
           "[TG(59:9),TG(58:2)]_FA14:0",
           "TAG"
          ]
         ],
         "hovertemplate": "Lipid=%{customdata[0]}<br>Transition=%{x}<br>Intensity=%{y}<br>Class=%{customdata[1]}<extra></extra>",
         "legendgroup": "[TG(59:9),TG(58:2)]_FA14:0",
         "marker": {
          "color": "#00cc96"
         },
         "name": "[TG(59:9),TG(58:2)]_FA14:0",
         "offsetgroup": "[TG(59:9),TG(58:2)]_FA14:0",
         "orientation": "v",
         "showlegend": true,
         "textposition": "auto",
         "type": "bar",
         "x": [
          "960.9 -> 715.7"
         ],
         "xaxis": "x",
         "y": [
          14471.141006469727
         ],
         "yaxis": "y"
        },
        {
         "alignmentgroup": "True",
         "customdata": [
          [
           "[TG(60:15),TG(59:8),TG(58:1)]_FA14:0",
           "TAG"
          ]
         ],
         "hovertemplate": "Lipid=%{customdata[0]}<br>Transition=%{x}<br>Intensity=%{y}<br>Class=%{customdata[1]}<extra></extra>",
         "legendgroup": "[TG(60:15),TG(59:8),TG(58:1)]_FA14:0",
         "marker": {
          "color": "#ab63fa"
         },
         "name": "[TG(60:15),TG(59:8),TG(58:1)]_FA14:0",
         "offsetgroup": "[TG(60:15),TG(59:8),TG(58:1)]_FA14:0",
         "orientation": "v",
         "showlegend": true,
         "textposition": "auto",
         "type": "bar",
         "x": [
          "962.9 -> 717.7"
         ],
         "xaxis": "x",
         "y": [
          17327.96128845215
         ],
         "yaxis": "y"
        },
        {
         "alignmentgroup": "True",
         "customdata": [
          [
           "[TG(60:14),TG(59:7),TG(58:0)]_FA14:0",
           "TAG"
          ]
         ],
         "hovertemplate": "Lipid=%{customdata[0]}<br>Transition=%{x}<br>Intensity=%{y}<br>Class=%{customdata[1]}<extra></extra>",
         "legendgroup": "[TG(60:14),TG(59:7),TG(58:0)]_FA14:0",
         "marker": {
          "color": "#FFA15A"
         },
         "name": "[TG(60:14),TG(59:7),TG(58:0)]_FA14:0",
         "offsetgroup": "[TG(60:14),TG(59:7),TG(58:0)]_FA14:0",
         "orientation": "v",
         "showlegend": true,
         "textposition": "auto",
         "type": "bar",
         "x": [
          "964.9 -> 719.7"
         ],
         "xaxis": "x",
         "y": [
          15586.361099243164
         ],
         "yaxis": "y"
        },
        {
         "alignmentgroup": "True",
         "customdata": [
          [
           "[TG(60:13),TG(59:6)]_FA14:0",
           "TAG"
          ]
         ],
         "hovertemplate": "Lipid=%{customdata[0]}<br>Transition=%{x}<br>Intensity=%{y}<br>Class=%{customdata[1]}<extra></extra>",
         "legendgroup": "[TG(60:13),TG(59:6)]_FA14:0",
         "marker": {
          "color": "#19d3f3"
         },
         "name": "[TG(60:13),TG(59:6)]_FA14:0",
         "offsetgroup": "[TG(60:13),TG(59:6)]_FA14:0",
         "orientation": "v",
         "showlegend": true,
         "textposition": "auto",
         "type": "bar",
         "x": [
          "966.8 -> 721.6"
         ],
         "xaxis": "x",
         "y": [
          15192.34105682373
         ],
         "yaxis": "y"
        },
        {
         "alignmentgroup": "True",
         "customdata": [
          [
           "[TG(60:12),TG(59:5)]_FA14:0",
           "TAG"
          ]
         ],
         "hovertemplate": "Lipid=%{customdata[0]}<br>Transition=%{x}<br>Intensity=%{y}<br>Class=%{customdata[1]}<extra></extra>",
         "legendgroup": "[TG(60:12),TG(59:5)]_FA14:0",
         "marker": {
          "color": "#FF6692"
         },
         "name": "[TG(60:12),TG(59:5)]_FA14:0",
         "offsetgroup": "[TG(60:12),TG(59:5)]_FA14:0",
         "orientation": "v",
         "showlegend": true,
         "textposition": "auto",
         "type": "bar",
         "x": [
          "968.9 -> 723.7"
         ],
         "xaxis": "x",
         "y": [
          16057.961143493652
         ],
         "yaxis": "y"
        },
        {
         "alignmentgroup": "True",
         "customdata": [
          [
           "[TG(60:11),TG(59:4)]_FA14:0",
           "TAG"
          ]
         ],
         "hovertemplate": "Lipid=%{customdata[0]}<br>Transition=%{x}<br>Intensity=%{y}<br>Class=%{customdata[1]}<extra></extra>",
         "legendgroup": "[TG(60:11),TG(59:4)]_FA14:0",
         "marker": {
          "color": "#B6E880"
         },
         "name": "[TG(60:11),TG(59:4)]_FA14:0",
         "offsetgroup": "[TG(60:11),TG(59:4)]_FA14:0",
         "orientation": "v",
         "showlegend": true,
         "textposition": "auto",
         "type": "bar",
         "x": [
          "970.9 -> 725.7"
         ],
         "xaxis": "x",
         "y": [
          29432.862243652344
         ],
         "yaxis": "y"
        },
        {
         "alignmentgroup": "True",
         "customdata": [
          [
           "[TG(60:10),TG(59:3)]_FA14:0",
           "TAG"
          ]
         ],
         "hovertemplate": "Lipid=%{customdata[0]}<br>Transition=%{x}<br>Intensity=%{y}<br>Class=%{customdata[1]}<extra></extra>",
         "legendgroup": "[TG(60:10),TG(59:3)]_FA14:0",
         "marker": {
          "color": "#FF97FF"
         },
         "name": "[TG(60:10),TG(59:3)]_FA14:0",
         "offsetgroup": "[TG(60:10),TG(59:3)]_FA14:0",
         "orientation": "v",
         "showlegend": true,
         "textposition": "auto",
         "type": "bar",
         "x": [
          "972.9 -> 727.7"
         ],
         "xaxis": "x",
         "y": [
          21032.461456298828
         ],
         "yaxis": "y"
        },
        {
         "alignmentgroup": "True",
         "customdata": [
          [
           "[TG(60:9),TG(59:2)]_FA14:0",
           "TAG"
          ]
         ],
         "hovertemplate": "Lipid=%{customdata[0]}<br>Transition=%{x}<br>Intensity=%{y}<br>Class=%{customdata[1]}<extra></extra>",
         "legendgroup": "[TG(60:9),TG(59:2)]_FA14:0",
         "marker": {
          "color": "#FECB52"
         },
         "name": "[TG(60:9),TG(59:2)]_FA14:0",
         "offsetgroup": "[TG(60:9),TG(59:2)]_FA14:0",
         "orientation": "v",
         "showlegend": true,
         "textposition": "auto",
         "type": "bar",
         "x": [
          "974.9 -> 729.7"
         ],
         "xaxis": "x",
         "y": [
          15778.50112915039
         ],
         "yaxis": "y"
        },
        {
         "alignmentgroup": "True",
         "customdata": [
          [
           "[TG(60:8),TG(59:1)]_FA14:0",
           "TAG"
          ]
         ],
         "hovertemplate": "Lipid=%{customdata[0]}<br>Transition=%{x}<br>Intensity=%{y}<br>Class=%{customdata[1]}<extra></extra>",
         "legendgroup": "[TG(60:8),TG(59:1)]_FA14:0",
         "marker": {
          "color": "#636efa"
         },
         "name": "[TG(60:8),TG(59:1)]_FA14:0",
         "offsetgroup": "[TG(60:8),TG(59:1)]_FA14:0",
         "orientation": "v",
         "showlegend": true,
         "textposition": "auto",
         "type": "bar",
         "x": [
          "976.9 -> 731.7"
         ],
         "xaxis": "x",
         "y": [
          13972.840942382812
         ],
         "yaxis": "y"
        },
        {
         "alignmentgroup": "True",
         "customdata": [
          [
           "[TG(61:14),TG(60:7),TG(59:0)]_FA14:0",
           "TAG"
          ]
         ],
         "hovertemplate": "Lipid=%{customdata[0]}<br>Transition=%{x}<br>Intensity=%{y}<br>Class=%{customdata[1]}<extra></extra>",
         "legendgroup": "[TG(61:14),TG(60:7),TG(59:0)]_FA14:0",
         "marker": {
          "color": "#EF553B"
         },
         "name": "[TG(61:14),TG(60:7),TG(59:0)]_FA14:0",
         "offsetgroup": "[TG(61:14),TG(60:7),TG(59:0)]_FA14:0",
         "orientation": "v",
         "showlegend": true,
         "textposition": "auto",
         "type": "bar",
         "x": [
          "978.9 -> 733.7"
         ],
         "xaxis": "x",
         "y": [
          15361.26107788086
         ],
         "yaxis": "y"
        },
        {
         "alignmentgroup": "True",
         "customdata": [
          [
           "[TG(61:13),TG(60:6)]_FA14:0",
           "TAG"
          ]
         ],
         "hovertemplate": "Lipid=%{customdata[0]}<br>Transition=%{x}<br>Intensity=%{y}<br>Class=%{customdata[1]}<extra></extra>",
         "legendgroup": "[TG(61:13),TG(60:6)]_FA14:0",
         "marker": {
          "color": "#00cc96"
         },
         "name": "[TG(61:13),TG(60:6)]_FA14:0",
         "offsetgroup": "[TG(61:13),TG(60:6)]_FA14:0",
         "orientation": "v",
         "showlegend": true,
         "textposition": "auto",
         "type": "bar",
         "x": [
          "980.9 -> 735.7"
         ],
         "xaxis": "x",
         "y": [
          14665.92106628418
         ],
         "yaxis": "y"
        },
        {
         "alignmentgroup": "True",
         "customdata": [
          [
           "[TG(61:12),TG(60:5)]_FA14:0",
           "TAG"
          ]
         ],
         "hovertemplate": "Lipid=%{customdata[0]}<br>Transition=%{x}<br>Intensity=%{y}<br>Class=%{customdata[1]}<extra></extra>",
         "legendgroup": "[TG(61:12),TG(60:5)]_FA14:0",
         "marker": {
          "color": "#ab63fa"
         },
         "name": "[TG(61:12),TG(60:5)]_FA14:0",
         "offsetgroup": "[TG(61:12),TG(60:5)]_FA14:0",
         "orientation": "v",
         "showlegend": true,
         "textposition": "auto",
         "type": "bar",
         "x": [
          "982.9 -> 737.7"
         ],
         "xaxis": "x",
         "y": [
          12983.740997314453
         ],
         "yaxis": "y"
        },
        {
         "alignmentgroup": "True",
         "customdata": [
          [
           "[TG(61:11),TG(60:4)]_FA14:0",
           "TAG"
          ]
         ],
         "hovertemplate": "Lipid=%{customdata[0]}<br>Transition=%{x}<br>Intensity=%{y}<br>Class=%{customdata[1]}<extra></extra>",
         "legendgroup": "[TG(61:11),TG(60:4)]_FA14:0",
         "marker": {
          "color": "#FFA15A"
         },
         "name": "[TG(61:11),TG(60:4)]_FA14:0",
         "offsetgroup": "[TG(61:11),TG(60:4)]_FA14:0",
         "orientation": "v",
         "showlegend": true,
         "textposition": "auto",
         "type": "bar",
         "x": [
          "984.9 -> 739.7"
         ],
         "xaxis": "x",
         "y": [
          16507.40118408203
         ],
         "yaxis": "y"
        },
        {
         "alignmentgroup": "True",
         "customdata": [
          [
           "[TG(61:10),TG(60:3)]_FA14:0",
           "TAG"
          ]
         ],
         "hovertemplate": "Lipid=%{customdata[0]}<br>Transition=%{x}<br>Intensity=%{y}<br>Class=%{customdata[1]}<extra></extra>",
         "legendgroup": "[TG(61:10),TG(60:3)]_FA14:0",
         "marker": {
          "color": "#19d3f3"
         },
         "name": "[TG(61:10),TG(60:3)]_FA14:0",
         "offsetgroup": "[TG(61:10),TG(60:3)]_FA14:0",
         "orientation": "v",
         "showlegend": true,
         "textposition": "auto",
         "type": "bar",
         "x": [
          "986.9 -> 741.7"
         ],
         "xaxis": "x",
         "y": [
          15164.080978393555
         ],
         "yaxis": "y"
        },
        {
         "alignmentgroup": "True",
         "customdata": [
          [
           "[TG(62:16),TG(61:9),TG(60:2)]_FA14:0",
           "TAG"
          ]
         ],
         "hovertemplate": "Lipid=%{customdata[0]}<br>Transition=%{x}<br>Intensity=%{y}<br>Class=%{customdata[1]}<extra></extra>",
         "legendgroup": "[TG(62:16),TG(61:9),TG(60:2)]_FA14:0",
         "marker": {
          "color": "#FF6692"
         },
         "name": "[TG(62:16),TG(61:9),TG(60:2)]_FA14:0",
         "offsetgroup": "[TG(62:16),TG(61:9),TG(60:2)]_FA14:0",
         "orientation": "v",
         "showlegend": true,
         "textposition": "auto",
         "type": "bar",
         "x": [
          "988.9 -> 743.7"
         ],
         "xaxis": "x",
         "y": [
          16115.021049499512
         ],
         "yaxis": "y"
        },
        {
         "alignmentgroup": "True",
         "customdata": [
          [
           "[TG(62:15),TG(61:8),TG(60:1)]_FA14:0",
           "TAG"
          ]
         ],
         "hovertemplate": "Lipid=%{customdata[0]}<br>Transition=%{x}<br>Intensity=%{y}<br>Class=%{customdata[1]}<extra></extra>",
         "legendgroup": "[TG(62:15),TG(61:8),TG(60:1)]_FA14:0",
         "marker": {
          "color": "#B6E880"
         },
         "name": "[TG(62:15),TG(61:8),TG(60:1)]_FA14:0",
         "offsetgroup": "[TG(62:15),TG(61:8),TG(60:1)]_FA14:0",
         "orientation": "v",
         "showlegend": true,
         "textposition": "auto",
         "type": "bar",
         "x": [
          "990.9 -> 745.7"
         ],
         "xaxis": "x",
         "y": [
          14670.80093383789
         ],
         "yaxis": "y"
        },
        {
         "alignmentgroup": "True",
         "customdata": [
          [
           "[TG(62:14),TG(61:7),TG(60:0)]_FA14:0",
           "TAG"
          ]
         ],
         "hovertemplate": "Lipid=%{customdata[0]}<br>Transition=%{x}<br>Intensity=%{y}<br>Class=%{customdata[1]}<extra></extra>",
         "legendgroup": "[TG(62:14),TG(61:7),TG(60:0)]_FA14:0",
         "marker": {
          "color": "#FF97FF"
         },
         "name": "[TG(62:14),TG(61:7),TG(60:0)]_FA14:0",
         "offsetgroup": "[TG(62:14),TG(61:7),TG(60:0)]_FA14:0",
         "orientation": "v",
         "showlegend": true,
         "textposition": "auto",
         "type": "bar",
         "x": [
          "993.0 -> 747.8"
         ],
         "xaxis": "x",
         "y": [
          11676.520835876465
         ],
         "yaxis": "y"
        },
        {
         "alignmentgroup": "True",
         "customdata": [
          [
           "[TG(62:13),TG(61:6)]_FA14:0",
           "TAG"
          ]
         ],
         "hovertemplate": "Lipid=%{customdata[0]}<br>Transition=%{x}<br>Intensity=%{y}<br>Class=%{customdata[1]}<extra></extra>",
         "legendgroup": "[TG(62:13),TG(61:6)]_FA14:0",
         "marker": {
          "color": "#FECB52"
         },
         "name": "[TG(62:13),TG(61:6)]_FA14:0",
         "offsetgroup": "[TG(62:13),TG(61:6)]_FA14:0",
         "orientation": "v",
         "showlegend": true,
         "textposition": "auto",
         "type": "bar",
         "x": [
          "994.9 -> 749.7"
         ],
         "xaxis": "x",
         "y": [
          12641.240867614746
         ],
         "yaxis": "y"
        },
        {
         "alignmentgroup": "True",
         "customdata": [
          [
           "[TG(62:12),TG(61:5)]_FA14:0",
           "TAG"
          ]
         ],
         "hovertemplate": "Lipid=%{customdata[0]}<br>Transition=%{x}<br>Intensity=%{y}<br>Class=%{customdata[1]}<extra></extra>",
         "legendgroup": "[TG(62:12),TG(61:5)]_FA14:0",
         "marker": {
          "color": "#636efa"
         },
         "name": "[TG(62:12),TG(61:5)]_FA14:0",
         "offsetgroup": "[TG(62:12),TG(61:5)]_FA14:0",
         "orientation": "v",
         "showlegend": true,
         "textposition": "auto",
         "type": "bar",
         "x": [
          "996.9 -> 751.7"
         ],
         "xaxis": "x",
         "y": [
          14229.900955200195
         ],
         "yaxis": "y"
        },
        {
         "alignmentgroup": "True",
         "customdata": [
          [
           "[TG(62:11),TG(61:4)]_FA14:0",
           "TAG"
          ]
         ],
         "hovertemplate": "Lipid=%{customdata[0]}<br>Transition=%{x}<br>Intensity=%{y}<br>Class=%{customdata[1]}<extra></extra>",
         "legendgroup": "[TG(62:11),TG(61:4)]_FA14:0",
         "marker": {
          "color": "#EF553B"
         },
         "name": "[TG(62:11),TG(61:4)]_FA14:0",
         "offsetgroup": "[TG(62:11),TG(61:4)]_FA14:0",
         "orientation": "v",
         "showlegend": true,
         "textposition": "auto",
         "type": "bar",
         "x": [
          "998.9 -> 753.7"
         ],
         "xaxis": "x",
         "y": [
          14026.561004638672
         ],
         "yaxis": "y"
        },
        {
         "alignmentgroup": "True",
         "customdata": [
          [
           "[TG(62:10),TG(61:3)]_FA14:0",
           "TAG"
          ]
         ],
         "hovertemplate": "Lipid=%{customdata[0]}<br>Transition=%{x}<br>Intensity=%{y}<br>Class=%{customdata[1]}<extra></extra>",
         "legendgroup": "[TG(62:10),TG(61:3)]_FA14:0",
         "marker": {
          "color": "#00cc96"
         },
         "name": "[TG(62:10),TG(61:3)]_FA14:0",
         "offsetgroup": "[TG(62:10),TG(61:3)]_FA14:0",
         "orientation": "v",
         "showlegend": true,
         "textposition": "auto",
         "type": "bar",
         "x": [
          "1000.9 -> 755.7"
         ],
         "xaxis": "x",
         "y": [
          13990.720977783203
         ],
         "yaxis": "y"
        },
        {
         "alignmentgroup": "True",
         "customdata": [
          [
           "[TG(62:9),TG(61:2)]_FA14:0",
           "TAG"
          ]
         ],
         "hovertemplate": "Lipid=%{customdata[0]}<br>Transition=%{x}<br>Intensity=%{y}<br>Class=%{customdata[1]}<extra></extra>",
         "legendgroup": "[TG(62:9),TG(61:2)]_FA14:0",
         "marker": {
          "color": "#ab63fa"
         },
         "name": "[TG(62:9),TG(61:2)]_FA14:0",
         "offsetgroup": "[TG(62:9),TG(61:2)]_FA14:0",
         "orientation": "v",
         "showlegend": true,
         "textposition": "auto",
         "type": "bar",
         "x": [
          "1002.9 -> 757.7"
         ],
         "xaxis": "x",
         "y": [
          14917.441131591797
         ],
         "yaxis": "y"
        },
        {
         "alignmentgroup": "True",
         "customdata": [
          [
           "[TG(62:8),TG(61:1)]_FA14:0",
           "TAG"
          ]
         ],
         "hovertemplate": "Lipid=%{customdata[0]}<br>Transition=%{x}<br>Intensity=%{y}<br>Class=%{customdata[1]}<extra></extra>",
         "legendgroup": "[TG(62:8),TG(61:1)]_FA14:0",
         "marker": {
          "color": "#FFA15A"
         },
         "name": "[TG(62:8),TG(61:1)]_FA14:0",
         "offsetgroup": "[TG(62:8),TG(61:1)]_FA14:0",
         "orientation": "v",
         "showlegend": true,
         "textposition": "auto",
         "type": "bar",
         "x": [
          "1005.0 -> 759.8"
         ],
         "xaxis": "x",
         "y": [
          14691.960952758789
         ],
         "yaxis": "y"
        },
        {
         "alignmentgroup": "True",
         "customdata": [
          [
           "[TG(62:7),TG(61:0)]_FA14:0",
           "TAG"
          ]
         ],
         "hovertemplate": "Lipid=%{customdata[0]}<br>Transition=%{x}<br>Intensity=%{y}<br>Class=%{customdata[1]}<extra></extra>",
         "legendgroup": "[TG(62:7),TG(61:0)]_FA14:0",
         "marker": {
          "color": "#19d3f3"
         },
         "name": "[TG(62:7),TG(61:0)]_FA14:0",
         "offsetgroup": "[TG(62:7),TG(61:0)]_FA14:0",
         "orientation": "v",
         "showlegend": true,
         "textposition": "auto",
         "type": "bar",
         "x": [
          "1007.0 -> 761.8"
         ],
         "xaxis": "x",
         "y": [
          12988.200942993164
         ],
         "yaxis": "y"
        },
        {
         "alignmentgroup": "True",
         "customdata": [
          [
           "[TG(63:13),TG(62:6)]_FA14:0",
           "TAG"
          ]
         ],
         "hovertemplate": "Lipid=%{customdata[0]}<br>Transition=%{x}<br>Intensity=%{y}<br>Class=%{customdata[1]}<extra></extra>",
         "legendgroup": "[TG(63:13),TG(62:6)]_FA14:0",
         "marker": {
          "color": "#FF6692"
         },
         "name": "[TG(63:13),TG(62:6)]_FA14:0",
         "offsetgroup": "[TG(63:13),TG(62:6)]_FA14:0",
         "orientation": "v",
         "showlegend": true,
         "textposition": "auto",
         "type": "bar",
         "x": [
          "1008.9 -> 763.7"
         ],
         "xaxis": "x",
         "y": [
          13342.720916748047
         ],
         "yaxis": "y"
        },
        {
         "alignmentgroup": "True",
         "customdata": [
          [
           "[TG(63:12),TG(62:5)]_FA14:0",
           "TAG"
          ]
         ],
         "hovertemplate": "Lipid=%{customdata[0]}<br>Transition=%{x}<br>Intensity=%{y}<br>Class=%{customdata[1]}<extra></extra>",
         "legendgroup": "[TG(63:12),TG(62:5)]_FA14:0",
         "marker": {
          "color": "#B6E880"
         },
         "name": "[TG(63:12),TG(62:5)]_FA14:0",
         "offsetgroup": "[TG(63:12),TG(62:5)]_FA14:0",
         "orientation": "v",
         "showlegend": true,
         "textposition": "auto",
         "type": "bar",
         "x": [
          "1010.9 -> 765.7"
         ],
         "xaxis": "x",
         "y": [
          14266.48112487793
         ],
         "yaxis": "y"
        },
        {
         "alignmentgroup": "True",
         "customdata": [
          [
           "[TG(63:11),TG(62:4)]_FA14:0",
           "TAG"
          ]
         ],
         "hovertemplate": "Lipid=%{customdata[0]}<br>Transition=%{x}<br>Intensity=%{y}<br>Class=%{customdata[1]}<extra></extra>",
         "legendgroup": "[TG(63:11),TG(62:4)]_FA14:0",
         "marker": {
          "color": "#FF97FF"
         },
         "name": "[TG(63:11),TG(62:4)]_FA14:0",
         "offsetgroup": "[TG(63:11),TG(62:4)]_FA14:0",
         "orientation": "v",
         "showlegend": true,
         "textposition": "auto",
         "type": "bar",
         "x": [
          "1012.9 -> 767.7"
         ],
         "xaxis": "x",
         "y": [
          13126.080932617188
         ],
         "yaxis": "y"
        },
        {
         "alignmentgroup": "True",
         "customdata": [
          [
           "[TG(64:17),TG(63:10),TG(62:3)]_FA14:0",
           "TAG"
          ]
         ],
         "hovertemplate": "Lipid=%{customdata[0]}<br>Transition=%{x}<br>Intensity=%{y}<br>Class=%{customdata[1]}<extra></extra>",
         "legendgroup": "[TG(64:17),TG(63:10),TG(62:3)]_FA14:0",
         "marker": {
          "color": "#FECB52"
         },
         "name": "[TG(64:17),TG(63:10),TG(62:3)]_FA14:0",
         "offsetgroup": "[TG(64:17),TG(63:10),TG(62:3)]_FA14:0",
         "orientation": "v",
         "showlegend": true,
         "textposition": "auto",
         "type": "bar",
         "x": [
          "1014.9 -> 769.7"
         ],
         "xaxis": "x",
         "y": [
          13007.560943603516
         ],
         "yaxis": "y"
        },
        {
         "alignmentgroup": "True",
         "customdata": [
          [
           "[TG(64:16),TG(63:9),TG(62:2)]_FA14:0",
           "TAG"
          ]
         ],
         "hovertemplate": "Lipid=%{customdata[0]}<br>Transition=%{x}<br>Intensity=%{y}<br>Class=%{customdata[1]}<extra></extra>",
         "legendgroup": "[TG(64:16),TG(63:9),TG(62:2)]_FA14:0",
         "marker": {
          "color": "#636efa"
         },
         "name": "[TG(64:16),TG(63:9),TG(62:2)]_FA14:0",
         "offsetgroup": "[TG(64:16),TG(63:9),TG(62:2)]_FA14:0",
         "orientation": "v",
         "showlegend": true,
         "textposition": "auto",
         "type": "bar",
         "x": [
          "1017.0 -> 771.8"
         ],
         "xaxis": "x",
         "y": [
          15978.181114196777
         ],
         "yaxis": "y"
        },
        {
         "alignmentgroup": "True",
         "customdata": [
          [
           "[TG(64:15),TG(63:8),TG(62:1)]_FA14:0",
           "TAG"
          ]
         ],
         "hovertemplate": "Lipid=%{customdata[0]}<br>Transition=%{x}<br>Intensity=%{y}<br>Class=%{customdata[1]}<extra></extra>",
         "legendgroup": "[TG(64:15),TG(63:8),TG(62:1)]_FA14:0",
         "marker": {
          "color": "#EF553B"
         },
         "name": "[TG(64:15),TG(63:8),TG(62:1)]_FA14:0",
         "offsetgroup": "[TG(64:15),TG(63:8),TG(62:1)]_FA14:0",
         "orientation": "v",
         "showlegend": true,
         "textposition": "auto",
         "type": "bar",
         "x": [
          "1019.0 -> 773.8"
         ],
         "xaxis": "x",
         "y": [
          14954.541114807129
         ],
         "yaxis": "y"
        },
        {
         "alignmentgroup": "True",
         "customdata": [
          [
           "[TG(64:14),TG(63:7),TG(62:0)]_FA14:0",
           "TAG"
          ]
         ],
         "hovertemplate": "Lipid=%{customdata[0]}<br>Transition=%{x}<br>Intensity=%{y}<br>Class=%{customdata[1]}<extra></extra>",
         "legendgroup": "[TG(64:14),TG(63:7),TG(62:0)]_FA14:0",
         "marker": {
          "color": "#00cc96"
         },
         "name": "[TG(64:14),TG(63:7),TG(62:0)]_FA14:0",
         "offsetgroup": "[TG(64:14),TG(63:7),TG(62:0)]_FA14:0",
         "orientation": "v",
         "showlegend": true,
         "textposition": "auto",
         "type": "bar",
         "x": [
          "1021.0 -> 775.8"
         ],
         "xaxis": "x",
         "y": [
          12710.70083618164
         ],
         "yaxis": "y"
        },
        {
         "alignmentgroup": "True",
         "customdata": [
          [
           "[TG(64:13),TG(63:6)]_FA14:0",
           "TAG"
          ]
         ],
         "hovertemplate": "Lipid=%{customdata[0]}<br>Transition=%{x}<br>Intensity=%{y}<br>Class=%{customdata[1]}<extra></extra>",
         "legendgroup": "[TG(64:13),TG(63:6)]_FA14:0",
         "marker": {
          "color": "#ab63fa"
         },
         "name": "[TG(64:13),TG(63:6)]_FA14:0",
         "offsetgroup": "[TG(64:13),TG(63:6)]_FA14:0",
         "orientation": "v",
         "showlegend": true,
         "textposition": "auto",
         "type": "bar",
         "x": [
          "1022.9 -> 777.7"
         ],
         "xaxis": "x",
         "y": [
          14045.280990600586
         ],
         "yaxis": "y"
        },
        {
         "alignmentgroup": "True",
         "customdata": [
          [
           "[TG(64:12),TG(63:5)]_FA14:0",
           "TAG"
          ]
         ],
         "hovertemplate": "Lipid=%{customdata[0]}<br>Transition=%{x}<br>Intensity=%{y}<br>Class=%{customdata[1]}<extra></extra>",
         "legendgroup": "[TG(64:12),TG(63:5)]_FA14:0",
         "marker": {
          "color": "#FFA15A"
         },
         "name": "[TG(64:12),TG(63:5)]_FA14:0",
         "offsetgroup": "[TG(64:12),TG(63:5)]_FA14:0",
         "orientation": "v",
         "showlegend": true,
         "textposition": "auto",
         "type": "bar",
         "x": [
          "1024.9 -> 779.7"
         ],
         "xaxis": "x",
         "y": [
          14086.260986328125
         ],
         "yaxis": "y"
        },
        {
         "alignmentgroup": "True",
         "customdata": [
          [
           "[TG(64:11),TG(63:4)]_FA14:0",
           "TAG"
          ]
         ],
         "hovertemplate": "Lipid=%{customdata[0]}<br>Transition=%{x}<br>Intensity=%{y}<br>Class=%{customdata[1]}<extra></extra>",
         "legendgroup": "[TG(64:11),TG(63:4)]_FA14:0",
         "marker": {
          "color": "#19d3f3"
         },
         "name": "[TG(64:11),TG(63:4)]_FA14:0",
         "offsetgroup": "[TG(64:11),TG(63:4)]_FA14:0",
         "orientation": "v",
         "showlegend": true,
         "textposition": "auto",
         "type": "bar",
         "x": [
          "1026.9 -> 781.7"
         ],
         "xaxis": "x",
         "y": [
          12927.800796508789
         ],
         "yaxis": "y"
        },
        {
         "alignmentgroup": "True",
         "customdata": [
          [
           "[TG(64:10),TG(63:3)]_FA14:0",
           "TAG"
          ]
         ],
         "hovertemplate": "Lipid=%{customdata[0]}<br>Transition=%{x}<br>Intensity=%{y}<br>Class=%{customdata[1]}<extra></extra>",
         "legendgroup": "[TG(64:10),TG(63:3)]_FA14:0",
         "marker": {
          "color": "#FF6692"
         },
         "name": "[TG(64:10),TG(63:3)]_FA14:0",
         "offsetgroup": "[TG(64:10),TG(63:3)]_FA14:0",
         "orientation": "v",
         "showlegend": true,
         "textposition": "auto",
         "type": "bar",
         "x": [
          "1029.0 -> 783.8"
         ],
         "xaxis": "x",
         "y": [
          10637.140739440918
         ],
         "yaxis": "y"
        },
        {
         "alignmentgroup": "True",
         "customdata": [
          [
           "[TG(64:9),TG(63:2)]_FA14:0",
           "TAG"
          ]
         ],
         "hovertemplate": "Lipid=%{customdata[0]}<br>Transition=%{x}<br>Intensity=%{y}<br>Class=%{customdata[1]}<extra></extra>",
         "legendgroup": "[TG(64:9),TG(63:2)]_FA14:0",
         "marker": {
          "color": "#B6E880"
         },
         "name": "[TG(64:9),TG(63:2)]_FA14:0",
         "offsetgroup": "[TG(64:9),TG(63:2)]_FA14:0",
         "orientation": "v",
         "showlegend": true,
         "textposition": "auto",
         "type": "bar",
         "x": [
          "1031.0 -> 785.8"
         ],
         "xaxis": "x",
         "y": [
          13033.880912780762
         ],
         "yaxis": "y"
        },
        {
         "alignmentgroup": "True",
         "customdata": [
          [
           "[TG(64:8),TG(63:1)]_FA14:0",
           "TAG"
          ]
         ],
         "hovertemplate": "Lipid=%{customdata[0]}<br>Transition=%{x}<br>Intensity=%{y}<br>Class=%{customdata[1]}<extra></extra>",
         "legendgroup": "[TG(64:8),TG(63:1)]_FA14:0",
         "marker": {
          "color": "#FF97FF"
         },
         "name": "[TG(64:8),TG(63:1)]_FA14:0",
         "offsetgroup": "[TG(64:8),TG(63:1)]_FA14:0",
         "orientation": "v",
         "showlegend": true,
         "textposition": "auto",
         "type": "bar",
         "x": [
          "1033.0 -> 787.8"
         ],
         "xaxis": "x",
         "y": [
          13134.800857543945
         ],
         "yaxis": "y"
        },
        {
         "alignmentgroup": "True",
         "customdata": [
          [
           "[TG(64:7),TG(63:0)]_FA14:0",
           "TAG"
          ]
         ],
         "hovertemplate": "Lipid=%{customdata[0]}<br>Transition=%{x}<br>Intensity=%{y}<br>Class=%{customdata[1]}<extra></extra>",
         "legendgroup": "[TG(64:7),TG(63:0)]_FA14:0",
         "marker": {
          "color": "#FECB52"
         },
         "name": "[TG(64:7),TG(63:0)]_FA14:0",
         "offsetgroup": "[TG(64:7),TG(63:0)]_FA14:0",
         "orientation": "v",
         "showlegend": true,
         "textposition": "auto",
         "type": "bar",
         "x": [
          "1035.0 -> 789.8"
         ],
         "xaxis": "x",
         "y": [
          12264.380752563477
         ],
         "yaxis": "y"
        },
        {
         "alignmentgroup": "True",
         "customdata": [
          [
           "[TG(64:6)]_FA14:0",
           "TAG"
          ]
         ],
         "hovertemplate": "Lipid=%{customdata[0]}<br>Transition=%{x}<br>Intensity=%{y}<br>Class=%{customdata[1]}<extra></extra>",
         "legendgroup": "[TG(64:6)]_FA14:0",
         "marker": {
          "color": "#636efa"
         },
         "name": "[TG(64:6)]_FA14:0",
         "offsetgroup": "[TG(64:6)]_FA14:0",
         "orientation": "v",
         "showlegend": true,
         "textposition": "auto",
         "type": "bar",
         "x": [
          "1036.9 -> 791.7"
         ],
         "xaxis": "x",
         "y": [
          13273.14094543457
         ],
         "yaxis": "y"
        },
        {
         "alignmentgroup": "True",
         "customdata": [
          [
           "[TG(65:12),TG(64:5)]_FA14:0",
           "TAG"
          ]
         ],
         "hovertemplate": "Lipid=%{customdata[0]}<br>Transition=%{x}<br>Intensity=%{y}<br>Class=%{customdata[1]}<extra></extra>",
         "legendgroup": "[TG(65:12),TG(64:5)]_FA14:0",
         "marker": {
          "color": "#EF553B"
         },
         "name": "[TG(65:12),TG(64:5)]_FA14:0",
         "offsetgroup": "[TG(65:12),TG(64:5)]_FA14:0",
         "orientation": "v",
         "showlegend": true,
         "textposition": "auto",
         "type": "bar",
         "x": [
          "1038.9 -> 793.7"
         ],
         "xaxis": "x",
         "y": [
          20100.661331176758
         ],
         "yaxis": "y"
        },
        {
         "alignmentgroup": "True",
         "customdata": [
          [
           "[TG(66:18),TG(65:11),TG(64:4)]_FA14:0",
           "TAG"
          ]
         ],
         "hovertemplate": "Lipid=%{customdata[0]}<br>Transition=%{x}<br>Intensity=%{y}<br>Class=%{customdata[1]}<extra></extra>",
         "legendgroup": "[TG(66:18),TG(65:11),TG(64:4)]_FA14:0",
         "marker": {
          "color": "#00cc96"
         },
         "name": "[TG(66:18),TG(65:11),TG(64:4)]_FA14:0",
         "offsetgroup": "[TG(66:18),TG(65:11),TG(64:4)]_FA14:0",
         "orientation": "v",
         "showlegend": true,
         "textposition": "auto",
         "type": "bar",
         "x": [
          "1041.0 -> 795.8"
         ],
         "xaxis": "x",
         "y": [
          12335.680953979492
         ],
         "yaxis": "y"
        },
        {
         "alignmentgroup": "True",
         "customdata": [
          [
           "[TG(66:17),TG(65:10),TG(64:3)]_FA14:0",
           "TAG"
          ]
         ],
         "hovertemplate": "Lipid=%{customdata[0]}<br>Transition=%{x}<br>Intensity=%{y}<br>Class=%{customdata[1]}<extra></extra>",
         "legendgroup": "[TG(66:17),TG(65:10),TG(64:3)]_FA14:0",
         "marker": {
          "color": "#ab63fa"
         },
         "name": "[TG(66:17),TG(65:10),TG(64:3)]_FA14:0",
         "offsetgroup": "[TG(66:17),TG(65:10),TG(64:3)]_FA14:0",
         "orientation": "v",
         "showlegend": true,
         "textposition": "auto",
         "type": "bar",
         "x": [
          "1043.0 -> 797.8"
         ],
         "xaxis": "x",
         "y": [
          12561.440925598145
         ],
         "yaxis": "y"
        },
        {
         "alignmentgroup": "True",
         "customdata": [
          [
           "[TG(66:16),TG(65:9),TG(64:2)]_FA14:0",
           "TAG"
          ]
         ],
         "hovertemplate": "Lipid=%{customdata[0]}<br>Transition=%{x}<br>Intensity=%{y}<br>Class=%{customdata[1]}<extra></extra>",
         "legendgroup": "[TG(66:16),TG(65:9),TG(64:2)]_FA14:0",
         "marker": {
          "color": "#FFA15A"
         },
         "name": "[TG(66:16),TG(65:9),TG(64:2)]_FA14:0",
         "offsetgroup": "[TG(66:16),TG(65:9),TG(64:2)]_FA14:0",
         "orientation": "v",
         "showlegend": true,
         "textposition": "auto",
         "type": "bar",
         "x": [
          "1045.0 -> 799.8"
         ],
         "xaxis": "x",
         "y": [
          19396.041259765625
         ],
         "yaxis": "y"
        },
        {
         "alignmentgroup": "True",
         "customdata": [
          [
           "[TG(66:15),TG(65:8),TG(64:1)]_FA14:0",
           "TAG"
          ]
         ],
         "hovertemplate": "Lipid=%{customdata[0]}<br>Transition=%{x}<br>Intensity=%{y}<br>Class=%{customdata[1]}<extra></extra>",
         "legendgroup": "[TG(66:15),TG(65:8),TG(64:1)]_FA14:0",
         "marker": {
          "color": "#19d3f3"
         },
         "name": "[TG(66:15),TG(65:8),TG(64:1)]_FA14:0",
         "offsetgroup": "[TG(66:15),TG(65:8),TG(64:1)]_FA14:0",
         "orientation": "v",
         "showlegend": true,
         "textposition": "auto",
         "type": "bar",
         "x": [
          "1047.0 -> 801.8"
         ],
         "xaxis": "x",
         "y": [
          15101.360977172852
         ],
         "yaxis": "y"
        },
        {
         "alignmentgroup": "True",
         "customdata": [
          [
           "[TG(66:14),TG(65:7),TG(64:0)]_FA14:0",
           "TAG"
          ]
         ],
         "hovertemplate": "Lipid=%{customdata[0]}<br>Transition=%{x}<br>Intensity=%{y}<br>Class=%{customdata[1]}<extra></extra>",
         "legendgroup": "[TG(66:14),TG(65:7),TG(64:0)]_FA14:0",
         "marker": {
          "color": "#FF6692"
         },
         "name": "[TG(66:14),TG(65:7),TG(64:0)]_FA14:0",
         "offsetgroup": "[TG(66:14),TG(65:7),TG(64:0)]_FA14:0",
         "orientation": "v",
         "showlegend": true,
         "textposition": "auto",
         "type": "bar",
         "x": [
          "1049.0 -> 803.8"
         ],
         "xaxis": "x",
         "y": [
          15476.981079101562
         ],
         "yaxis": "y"
        },
        {
         "alignmentgroup": "True",
         "customdata": [
          [
           "[TG(66:13),TG(65:6)]_FA14:0",
           "TAG"
          ]
         ],
         "hovertemplate": "Lipid=%{customdata[0]}<br>Transition=%{x}<br>Intensity=%{y}<br>Class=%{customdata[1]}<extra></extra>",
         "legendgroup": "[TG(66:13),TG(65:6)]_FA14:0",
         "marker": {
          "color": "#B6E880"
         },
         "name": "[TG(66:13),TG(65:6)]_FA14:0",
         "offsetgroup": "[TG(66:13),TG(65:6)]_FA14:0",
         "orientation": "v",
         "showlegend": true,
         "textposition": "auto",
         "type": "bar",
         "x": [
          "1050.9 -> 805.7"
         ],
         "xaxis": "x",
         "y": [
          10396.680717468262
         ],
         "yaxis": "y"
        },
        {
         "alignmentgroup": "True",
         "customdata": [
          [
           "[TG(66:12),TG(65:5)]_FA14:0",
           "TAG"
          ]
         ],
         "hovertemplate": "Lipid=%{customdata[0]}<br>Transition=%{x}<br>Intensity=%{y}<br>Class=%{customdata[1]}<extra></extra>",
         "legendgroup": "[TG(66:12),TG(65:5)]_FA14:0",
         "marker": {
          "color": "#FF97FF"
         },
         "name": "[TG(66:12),TG(65:5)]_FA14:0",
         "offsetgroup": "[TG(66:12),TG(65:5)]_FA14:0",
         "orientation": "v",
         "showlegend": true,
         "textposition": "auto",
         "type": "bar",
         "x": [
          "1053.0 -> 807.8"
         ],
         "xaxis": "x",
         "y": [
          12281.800918579102
         ],
         "yaxis": "y"
        },
        {
         "alignmentgroup": "True",
         "customdata": [
          [
           "[TG(66:11),TG(65:4)]_FA14:0",
           "TAG"
          ]
         ],
         "hovertemplate": "Lipid=%{customdata[0]}<br>Transition=%{x}<br>Intensity=%{y}<br>Class=%{customdata[1]}<extra></extra>",
         "legendgroup": "[TG(66:11),TG(65:4)]_FA14:0",
         "marker": {
          "color": "#FECB52"
         },
         "name": "[TG(66:11),TG(65:4)]_FA14:0",
         "offsetgroup": "[TG(66:11),TG(65:4)]_FA14:0",
         "orientation": "v",
         "showlegend": true,
         "textposition": "auto",
         "type": "bar",
         "x": [
          "1055.0 -> 809.8"
         ],
         "xaxis": "x",
         "y": [
          12049.680938720703
         ],
         "yaxis": "y"
        },
        {
         "alignmentgroup": "True",
         "customdata": [
          [
           "[TG(66:10),TG(65:3)]_FA14:0",
           "TAG"
          ]
         ],
         "hovertemplate": "Lipid=%{customdata[0]}<br>Transition=%{x}<br>Intensity=%{y}<br>Class=%{customdata[1]}<extra></extra>",
         "legendgroup": "[TG(66:10),TG(65:3)]_FA14:0",
         "marker": {
          "color": "#636efa"
         },
         "name": "[TG(66:10),TG(65:3)]_FA14:0",
         "offsetgroup": "[TG(66:10),TG(65:3)]_FA14:0",
         "orientation": "v",
         "showlegend": true,
         "textposition": "auto",
         "type": "bar",
         "x": [
          "1057.0 -> 811.8"
         ],
         "xaxis": "x",
         "y": [
          11546.020881652832
         ],
         "yaxis": "y"
        },
        {
         "alignmentgroup": "True",
         "customdata": [
          [
           "[TG(66:9),TG(65:2)]_FA14:0",
           "TAG"
          ]
         ],
         "hovertemplate": "Lipid=%{customdata[0]}<br>Transition=%{x}<br>Intensity=%{y}<br>Class=%{customdata[1]}<extra></extra>",
         "legendgroup": "[TG(66:9),TG(65:2)]_FA14:0",
         "marker": {
          "color": "#EF553B"
         },
         "name": "[TG(66:9),TG(65:2)]_FA14:0",
         "offsetgroup": "[TG(66:9),TG(65:2)]_FA14:0",
         "orientation": "v",
         "showlegend": true,
         "textposition": "auto",
         "type": "bar",
         "x": [
          "1059.0 -> 813.8"
         ],
         "xaxis": "x",
         "y": [
          13140.541000366211
         ],
         "yaxis": "y"
        },
        {
         "alignmentgroup": "True",
         "customdata": [
          [
           "[TG(66:8),TG(65:1)]_FA14:0",
           "TAG"
          ]
         ],
         "hovertemplate": "Lipid=%{customdata[0]}<br>Transition=%{x}<br>Intensity=%{y}<br>Class=%{customdata[1]}<extra></extra>",
         "legendgroup": "[TG(66:8),TG(65:1)]_FA14:0",
         "marker": {
          "color": "#00cc96"
         },
         "name": "[TG(66:8),TG(65:1)]_FA14:0",
         "offsetgroup": "[TG(66:8),TG(65:1)]_FA14:0",
         "orientation": "v",
         "showlegend": true,
         "textposition": "auto",
         "type": "bar",
         "x": [
          "1061.0 -> 815.8"
         ],
         "xaxis": "x",
         "y": [
          14803.141014099121
         ],
         "yaxis": "y"
        },
        {
         "alignmentgroup": "True",
         "customdata": [
          [
           "[TG(66:7)]_FA14:0",
           "TAG"
          ]
         ],
         "hovertemplate": "Lipid=%{customdata[0]}<br>Transition=%{x}<br>Intensity=%{y}<br>Class=%{customdata[1]}<extra></extra>",
         "legendgroup": "[TG(66:7)]_FA14:0",
         "marker": {
          "color": "#ab63fa"
         },
         "name": "[TG(66:7)]_FA14:0",
         "offsetgroup": "[TG(66:7)]_FA14:0",
         "orientation": "v",
         "showlegend": true,
         "textposition": "auto",
         "type": "bar",
         "x": [
          "1062.9 -> 817.7"
         ],
         "xaxis": "x",
         "y": [
          13260.220840454102
         ],
         "yaxis": "y"
        },
        {
         "alignmentgroup": "True",
         "customdata": [
          [
           "[TG(65:0)]_FA14:0",
           "TAG"
          ]
         ],
         "hovertemplate": "Lipid=%{customdata[0]}<br>Transition=%{x}<br>Intensity=%{y}<br>Class=%{customdata[1]}<extra></extra>",
         "legendgroup": "[TG(65:0)]_FA14:0",
         "marker": {
          "color": "#FFA15A"
         },
         "name": "[TG(65:0)]_FA14:0",
         "offsetgroup": "[TG(65:0)]_FA14:0",
         "orientation": "v",
         "showlegend": true,
         "textposition": "auto",
         "type": "bar",
         "x": [
          "1063.0 -> 817.8"
         ],
         "xaxis": "x",
         "y": [
          15204.641082763672
         ],
         "yaxis": "y"
        },
        {
         "alignmentgroup": "True",
         "customdata": [
          [
           "[TG(66:6)]_FA14:0",
           "TAG"
          ]
         ],
         "hovertemplate": "Lipid=%{customdata[0]}<br>Transition=%{x}<br>Intensity=%{y}<br>Class=%{customdata[1]}<extra></extra>",
         "legendgroup": "[TG(66:6)]_FA14:0",
         "marker": {
          "color": "#19d3f3"
         },
         "name": "[TG(66:6)]_FA14:0",
         "offsetgroup": "[TG(66:6)]_FA14:0",
         "orientation": "v",
         "showlegend": true,
         "textposition": "auto",
         "type": "bar",
         "x": [
          "1065.0 -> 819.8"
         ],
         "xaxis": "x",
         "y": [
          11739.30093383789
         ],
         "yaxis": "y"
        },
        {
         "alignmentgroup": "True",
         "customdata": [
          [
           "[TG(66:5)]_FA14:0",
           "TAG"
          ]
         ],
         "hovertemplate": "Lipid=%{customdata[0]}<br>Transition=%{x}<br>Intensity=%{y}<br>Class=%{customdata[1]}<extra></extra>",
         "legendgroup": "[TG(66:5)]_FA14:0",
         "marker": {
          "color": "#FF6692"
         },
         "name": "[TG(66:5)]_FA14:0",
         "offsetgroup": "[TG(66:5)]_FA14:0",
         "orientation": "v",
         "showlegend": true,
         "textposition": "auto",
         "type": "bar",
         "x": [
          "1067.0 -> 821.8"
         ],
         "xaxis": "x",
         "y": [
          10289.58073425293
         ],
         "yaxis": "y"
        },
        {
         "alignmentgroup": "True",
         "customdata": [
          [
           "[TG(66:4)]_FA14:0",
           "TAG"
          ]
         ],
         "hovertemplate": "Lipid=%{customdata[0]}<br>Transition=%{x}<br>Intensity=%{y}<br>Class=%{customdata[1]}<extra></extra>",
         "legendgroup": "[TG(66:4)]_FA14:0",
         "marker": {
          "color": "#B6E880"
         },
         "name": "[TG(66:4)]_FA14:0",
         "offsetgroup": "[TG(66:4)]_FA14:0",
         "orientation": "v",
         "showlegend": true,
         "textposition": "auto",
         "type": "bar",
         "x": [
          "1069.0 -> 823.8"
         ],
         "xaxis": "x",
         "y": [
          11749.400787353516
         ],
         "yaxis": "y"
        },
        {
         "alignmentgroup": "True",
         "customdata": [
          [
           "[TG(66:3)]_FA14:0",
           "TAG"
          ]
         ],
         "hovertemplate": "Lipid=%{customdata[0]}<br>Transition=%{x}<br>Intensity=%{y}<br>Class=%{customdata[1]}<extra></extra>",
         "legendgroup": "[TG(66:3)]_FA14:0",
         "marker": {
          "color": "#FF97FF"
         },
         "name": "[TG(66:3)]_FA14:0",
         "offsetgroup": "[TG(66:3)]_FA14:0",
         "orientation": "v",
         "showlegend": true,
         "textposition": "auto",
         "type": "bar",
         "x": [
          "1071.0 -> 825.8"
         ],
         "xaxis": "x",
         "y": [
          12457.700866699219
         ],
         "yaxis": "y"
        },
        {
         "alignmentgroup": "True",
         "customdata": [
          [
           "[TG(66:2)]_FA14:0",
           "TAG"
          ]
         ],
         "hovertemplate": "Lipid=%{customdata[0]}<br>Transition=%{x}<br>Intensity=%{y}<br>Class=%{customdata[1]}<extra></extra>",
         "legendgroup": "[TG(66:2)]_FA14:0",
         "marker": {
          "color": "#FECB52"
         },
         "name": "[TG(66:2)]_FA14:0",
         "offsetgroup": "[TG(66:2)]_FA14:0",
         "orientation": "v",
         "showlegend": true,
         "textposition": "auto",
         "type": "bar",
         "x": [
          "1073.0 -> 827.8"
         ],
         "xaxis": "x",
         "y": [
          11174.560779571533
         ],
         "yaxis": "y"
        },
        {
         "alignmentgroup": "True",
         "customdata": [
          [
           "[TG(66:1)]_FA14:0",
           "TAG"
          ]
         ],
         "hovertemplate": "Lipid=%{customdata[0]}<br>Transition=%{x}<br>Intensity=%{y}<br>Class=%{customdata[1]}<extra></extra>",
         "legendgroup": "[TG(66:1)]_FA14:0",
         "marker": {
          "color": "#636efa"
         },
         "name": "[TG(66:1)]_FA14:0",
         "offsetgroup": "[TG(66:1)]_FA14:0",
         "orientation": "v",
         "showlegend": true,
         "textposition": "auto",
         "type": "bar",
         "x": [
          "1075.0 -> 829.8"
         ],
         "xaxis": "x",
         "y": [
          12249.820945739746
         ],
         "yaxis": "y"
        }
       ],
       "layout": {
        "barmode": "relative",
        "legend": {
         "title": {
          "text": "Lipid"
         },
         "tracegroupgap": 0
        },
        "margin": {
         "t": 60
        },
        "template": {
         "data": {
          "bar": [
           {
            "error_x": {
             "color": "#2a3f5f"
            },
            "error_y": {
             "color": "#2a3f5f"
            },
            "marker": {
             "line": {
              "color": "#E5ECF6",
              "width": 0.5
             }
            },
            "type": "bar"
           }
          ],
          "barpolar": [
           {
            "marker": {
             "line": {
              "color": "#E5ECF6",
              "width": 0.5
             }
            },
            "type": "barpolar"
           }
          ],
          "carpet": [
           {
            "aaxis": {
             "endlinecolor": "#2a3f5f",
             "gridcolor": "white",
             "linecolor": "white",
             "minorgridcolor": "white",
             "startlinecolor": "#2a3f5f"
            },
            "baxis": {
             "endlinecolor": "#2a3f5f",
             "gridcolor": "white",
             "linecolor": "white",
             "minorgridcolor": "white",
             "startlinecolor": "#2a3f5f"
            },
            "type": "carpet"
           }
          ],
          "choropleth": [
           {
            "colorbar": {
             "outlinewidth": 0,
             "ticks": ""
            },
            "type": "choropleth"
           }
          ],
          "contour": [
           {
            "colorbar": {
             "outlinewidth": 0,
             "ticks": ""
            },
            "colorscale": [
             [
              0,
              "#0d0887"
             ],
             [
              0.1111111111111111,
              "#46039f"
             ],
             [
              0.2222222222222222,
              "#7201a8"
             ],
             [
              0.3333333333333333,
              "#9c179e"
             ],
             [
              0.4444444444444444,
              "#bd3786"
             ],
             [
              0.5555555555555556,
              "#d8576b"
             ],
             [
              0.6666666666666666,
              "#ed7953"
             ],
             [
              0.7777777777777778,
              "#fb9f3a"
             ],
             [
              0.8888888888888888,
              "#fdca26"
             ],
             [
              1,
              "#f0f921"
             ]
            ],
            "type": "contour"
           }
          ],
          "contourcarpet": [
           {
            "colorbar": {
             "outlinewidth": 0,
             "ticks": ""
            },
            "type": "contourcarpet"
           }
          ],
          "heatmap": [
           {
            "colorbar": {
             "outlinewidth": 0,
             "ticks": ""
            },
            "colorscale": [
             [
              0,
              "#0d0887"
             ],
             [
              0.1111111111111111,
              "#46039f"
             ],
             [
              0.2222222222222222,
              "#7201a8"
             ],
             [
              0.3333333333333333,
              "#9c179e"
             ],
             [
              0.4444444444444444,
              "#bd3786"
             ],
             [
              0.5555555555555556,
              "#d8576b"
             ],
             [
              0.6666666666666666,
              "#ed7953"
             ],
             [
              0.7777777777777778,
              "#fb9f3a"
             ],
             [
              0.8888888888888888,
              "#fdca26"
             ],
             [
              1,
              "#f0f921"
             ]
            ],
            "type": "heatmap"
           }
          ],
          "heatmapgl": [
           {
            "colorbar": {
             "outlinewidth": 0,
             "ticks": ""
            },
            "colorscale": [
             [
              0,
              "#0d0887"
             ],
             [
              0.1111111111111111,
              "#46039f"
             ],
             [
              0.2222222222222222,
              "#7201a8"
             ],
             [
              0.3333333333333333,
              "#9c179e"
             ],
             [
              0.4444444444444444,
              "#bd3786"
             ],
             [
              0.5555555555555556,
              "#d8576b"
             ],
             [
              0.6666666666666666,
              "#ed7953"
             ],
             [
              0.7777777777777778,
              "#fb9f3a"
             ],
             [
              0.8888888888888888,
              "#fdca26"
             ],
             [
              1,
              "#f0f921"
             ]
            ],
            "type": "heatmapgl"
           }
          ],
          "histogram": [
           {
            "marker": {
             "colorbar": {
              "outlinewidth": 0,
              "ticks": ""
             }
            },
            "type": "histogram"
           }
          ],
          "histogram2d": [
           {
            "colorbar": {
             "outlinewidth": 0,
             "ticks": ""
            },
            "colorscale": [
             [
              0,
              "#0d0887"
             ],
             [
              0.1111111111111111,
              "#46039f"
             ],
             [
              0.2222222222222222,
              "#7201a8"
             ],
             [
              0.3333333333333333,
              "#9c179e"
             ],
             [
              0.4444444444444444,
              "#bd3786"
             ],
             [
              0.5555555555555556,
              "#d8576b"
             ],
             [
              0.6666666666666666,
              "#ed7953"
             ],
             [
              0.7777777777777778,
              "#fb9f3a"
             ],
             [
              0.8888888888888888,
              "#fdca26"
             ],
             [
              1,
              "#f0f921"
             ]
            ],
            "type": "histogram2d"
           }
          ],
          "histogram2dcontour": [
           {
            "colorbar": {
             "outlinewidth": 0,
             "ticks": ""
            },
            "colorscale": [
             [
              0,
              "#0d0887"
             ],
             [
              0.1111111111111111,
              "#46039f"
             ],
             [
              0.2222222222222222,
              "#7201a8"
             ],
             [
              0.3333333333333333,
              "#9c179e"
             ],
             [
              0.4444444444444444,
              "#bd3786"
             ],
             [
              0.5555555555555556,
              "#d8576b"
             ],
             [
              0.6666666666666666,
              "#ed7953"
             ],
             [
              0.7777777777777778,
              "#fb9f3a"
             ],
             [
              0.8888888888888888,
              "#fdca26"
             ],
             [
              1,
              "#f0f921"
             ]
            ],
            "type": "histogram2dcontour"
           }
          ],
          "mesh3d": [
           {
            "colorbar": {
             "outlinewidth": 0,
             "ticks": ""
            },
            "type": "mesh3d"
           }
          ],
          "parcoords": [
           {
            "line": {
             "colorbar": {
              "outlinewidth": 0,
              "ticks": ""
             }
            },
            "type": "parcoords"
           }
          ],
          "pie": [
           {
            "automargin": true,
            "type": "pie"
           }
          ],
          "scatter": [
           {
            "marker": {
             "colorbar": {
              "outlinewidth": 0,
              "ticks": ""
             }
            },
            "type": "scatter"
           }
          ],
          "scatter3d": [
           {
            "line": {
             "colorbar": {
              "outlinewidth": 0,
              "ticks": ""
             }
            },
            "marker": {
             "colorbar": {
              "outlinewidth": 0,
              "ticks": ""
             }
            },
            "type": "scatter3d"
           }
          ],
          "scattercarpet": [
           {
            "marker": {
             "colorbar": {
              "outlinewidth": 0,
              "ticks": ""
             }
            },
            "type": "scattercarpet"
           }
          ],
          "scattergeo": [
           {
            "marker": {
             "colorbar": {
              "outlinewidth": 0,
              "ticks": ""
             }
            },
            "type": "scattergeo"
           }
          ],
          "scattergl": [
           {
            "marker": {
             "colorbar": {
              "outlinewidth": 0,
              "ticks": ""
             }
            },
            "type": "scattergl"
           }
          ],
          "scattermapbox": [
           {
            "marker": {
             "colorbar": {
              "outlinewidth": 0,
              "ticks": ""
             }
            },
            "type": "scattermapbox"
           }
          ],
          "scatterpolar": [
           {
            "marker": {
             "colorbar": {
              "outlinewidth": 0,
              "ticks": ""
             }
            },
            "type": "scatterpolar"
           }
          ],
          "scatterpolargl": [
           {
            "marker": {
             "colorbar": {
              "outlinewidth": 0,
              "ticks": ""
             }
            },
            "type": "scatterpolargl"
           }
          ],
          "scatterternary": [
           {
            "marker": {
             "colorbar": {
              "outlinewidth": 0,
              "ticks": ""
             }
            },
            "type": "scatterternary"
           }
          ],
          "surface": [
           {
            "colorbar": {
             "outlinewidth": 0,
             "ticks": ""
            },
            "colorscale": [
             [
              0,
              "#0d0887"
             ],
             [
              0.1111111111111111,
              "#46039f"
             ],
             [
              0.2222222222222222,
              "#7201a8"
             ],
             [
              0.3333333333333333,
              "#9c179e"
             ],
             [
              0.4444444444444444,
              "#bd3786"
             ],
             [
              0.5555555555555556,
              "#d8576b"
             ],
             [
              0.6666666666666666,
              "#ed7953"
             ],
             [
              0.7777777777777778,
              "#fb9f3a"
             ],
             [
              0.8888888888888888,
              "#fdca26"
             ],
             [
              1,
              "#f0f921"
             ]
            ],
            "type": "surface"
           }
          ],
          "table": [
           {
            "cells": {
             "fill": {
              "color": "#EBF0F8"
             },
             "line": {
              "color": "white"
             }
            },
            "header": {
             "fill": {
              "color": "#C8D4E3"
             },
             "line": {
              "color": "white"
             }
            },
            "type": "table"
           }
          ]
         },
         "layout": {
          "annotationdefaults": {
           "arrowcolor": "#2a3f5f",
           "arrowhead": 0,
           "arrowwidth": 1
          },
          "coloraxis": {
           "colorbar": {
            "outlinewidth": 0,
            "ticks": ""
           }
          },
          "colorscale": {
           "diverging": [
            [
             0,
             "#8e0152"
            ],
            [
             0.1,
             "#c51b7d"
            ],
            [
             0.2,
             "#de77ae"
            ],
            [
             0.3,
             "#f1b6da"
            ],
            [
             0.4,
             "#fde0ef"
            ],
            [
             0.5,
             "#f7f7f7"
            ],
            [
             0.6,
             "#e6f5d0"
            ],
            [
             0.7,
             "#b8e186"
            ],
            [
             0.8,
             "#7fbc41"
            ],
            [
             0.9,
             "#4d9221"
            ],
            [
             1,
             "#276419"
            ]
           ],
           "sequential": [
            [
             0,
             "#0d0887"
            ],
            [
             0.1111111111111111,
             "#46039f"
            ],
            [
             0.2222222222222222,
             "#7201a8"
            ],
            [
             0.3333333333333333,
             "#9c179e"
            ],
            [
             0.4444444444444444,
             "#bd3786"
            ],
            [
             0.5555555555555556,
             "#d8576b"
            ],
            [
             0.6666666666666666,
             "#ed7953"
            ],
            [
             0.7777777777777778,
             "#fb9f3a"
            ],
            [
             0.8888888888888888,
             "#fdca26"
            ],
            [
             1,
             "#f0f921"
            ]
           ],
           "sequentialminus": [
            [
             0,
             "#0d0887"
            ],
            [
             0.1111111111111111,
             "#46039f"
            ],
            [
             0.2222222222222222,
             "#7201a8"
            ],
            [
             0.3333333333333333,
             "#9c179e"
            ],
            [
             0.4444444444444444,
             "#bd3786"
            ],
            [
             0.5555555555555556,
             "#d8576b"
            ],
            [
             0.6666666666666666,
             "#ed7953"
            ],
            [
             0.7777777777777778,
             "#fb9f3a"
            ],
            [
             0.8888888888888888,
             "#fdca26"
            ],
            [
             1,
             "#f0f921"
            ]
           ]
          },
          "colorway": [
           "#636efa",
           "#EF553B",
           "#00cc96",
           "#ab63fa",
           "#FFA15A",
           "#19d3f3",
           "#FF6692",
           "#B6E880",
           "#FF97FF",
           "#FECB52"
          ],
          "font": {
           "color": "#2a3f5f"
          },
          "geo": {
           "bgcolor": "white",
           "lakecolor": "white",
           "landcolor": "#E5ECF6",
           "showlakes": true,
           "showland": true,
           "subunitcolor": "white"
          },
          "hoverlabel": {
           "align": "left"
          },
          "hovermode": "closest",
          "mapbox": {
           "style": "light"
          },
          "paper_bgcolor": "white",
          "plot_bgcolor": "#E5ECF6",
          "polar": {
           "angularaxis": {
            "gridcolor": "white",
            "linecolor": "white",
            "ticks": ""
           },
           "bgcolor": "#E5ECF6",
           "radialaxis": {
            "gridcolor": "white",
            "linecolor": "white",
            "ticks": ""
           }
          },
          "scene": {
           "xaxis": {
            "backgroundcolor": "#E5ECF6",
            "gridcolor": "white",
            "gridwidth": 2,
            "linecolor": "white",
            "showbackground": true,
            "ticks": "",
            "zerolinecolor": "white"
           },
           "yaxis": {
            "backgroundcolor": "#E5ECF6",
            "gridcolor": "white",
            "gridwidth": 2,
            "linecolor": "white",
            "showbackground": true,
            "ticks": "",
            "zerolinecolor": "white"
           },
           "zaxis": {
            "backgroundcolor": "#E5ECF6",
            "gridcolor": "white",
            "gridwidth": 2,
            "linecolor": "white",
            "showbackground": true,
            "ticks": "",
            "zerolinecolor": "white"
           }
          },
          "shapedefaults": {
           "line": {
            "color": "#2a3f5f"
           }
          },
          "ternary": {
           "aaxis": {
            "gridcolor": "white",
            "linecolor": "white",
            "ticks": ""
           },
           "baxis": {
            "gridcolor": "white",
            "linecolor": "white",
            "ticks": ""
           },
           "bgcolor": "#E5ECF6",
           "caxis": {
            "gridcolor": "white",
            "linecolor": "white",
            "ticks": ""
           }
          },
          "title": {
           "x": 0.05
          },
          "xaxis": {
           "automargin": true,
           "gridcolor": "white",
           "linecolor": "white",
           "ticks": "",
           "title": {
            "standoff": 15
           },
           "zerolinecolor": "white",
           "zerolinewidth": 2
          },
          "yaxis": {
           "automargin": true,
           "gridcolor": "white",
           "linecolor": "white",
           "ticks": "",
           "title": {
            "standoff": 15
           },
           "zerolinecolor": "white",
           "zerolinewidth": 2
          }
         }
        },
        "xaxis": {
         "anchor": "y",
         "domain": [
          0,
          1
         ],
         "title": {
          "text": "Transition"
         }
        },
        "yaxis": {
         "anchor": "x",
         "domain": [
          0,
          1
         ],
         "title": {
          "text": "Intensity"
         }
        }
       }
      },
      "text/html": [
       "<div>                            <div id=\"21cdd450-6c0e-4e23-85e8-67f36a3f4ac2\" class=\"plotly-graph-div\" style=\"height:525px; width:100%;\"></div>            <script type=\"text/javascript\">                require([\"plotly\"], function(Plotly) {                    window.PLOTLYENV=window.PLOTLYENV || {};                                    if (document.getElementById(\"21cdd450-6c0e-4e23-85e8-67f36a3f4ac2\")) {                    Plotly.newPlot(                        \"21cdd450-6c0e-4e23-85e8-67f36a3f4ac2\",                        [{\"alignmentgroup\": \"True\", \"customdata\": [[\"[TG(37:0)]_FA14:0\", \"TAG\"]], \"hovertemplate\": \"Lipid=%{customdata[0]}<br>Transition=%{x}<br>Intensity=%{y}<br>Class=%{customdata[1]}<extra></extra>\", \"legendgroup\": \"[TG(37:0)]_FA14:0\", \"marker\": {\"color\": \"#636efa\"}, \"name\": \"[TG(37:0)]_FA14:0\", \"offsetgroup\": \"[TG(37:0)]_FA14:0\", \"orientation\": \"v\", \"showlegend\": true, \"textposition\": \"auto\", \"type\": \"bar\", \"x\": [\"670.6 -> 425.4\"], \"xaxis\": \"x\", \"y\": [45072.822998046875], \"yaxis\": \"y\"}, {\"alignmentgroup\": \"True\", \"customdata\": [[\"[TG(38:1)]_FA14:0\", \"TAG\"]], \"hovertemplate\": \"Lipid=%{customdata[0]}<br>Transition=%{x}<br>Intensity=%{y}<br>Class=%{customdata[1]}<extra></extra>\", \"legendgroup\": \"[TG(38:1)]_FA14:0\", \"marker\": {\"color\": \"#EF553B\"}, \"name\": \"[TG(38:1)]_FA14:0\", \"offsetgroup\": \"[TG(38:1)]_FA14:0\", \"orientation\": \"v\", \"showlegend\": true, \"textposition\": \"auto\", \"type\": \"bar\", \"x\": [\"682.6 -> 437.4\"], \"xaxis\": \"x\", \"y\": [64211.844482421875], \"yaxis\": \"y\"}, {\"alignmentgroup\": \"True\", \"customdata\": [[\"[TG(38:0)]_FA14:0\", \"TAG\"]], \"hovertemplate\": \"Lipid=%{customdata[0]}<br>Transition=%{x}<br>Intensity=%{y}<br>Class=%{customdata[1]}<extra></extra>\", \"legendgroup\": \"[TG(38:0)]_FA14:0\", \"marker\": {\"color\": \"#00cc96\"}, \"name\": \"[TG(38:0)]_FA14:0\", \"offsetgroup\": \"[TG(38:0)]_FA14:0\", \"orientation\": \"v\", \"showlegend\": true, \"textposition\": \"auto\", \"type\": \"bar\", \"x\": [\"684.6 -> 439.4\"], \"xaxis\": \"x\", \"y\": [237300.73681640625], \"yaxis\": \"y\"}, {\"alignmentgroup\": \"True\", \"customdata\": [[\"[TG(39:1)]_FA14:0\", \"TAG\"]], \"hovertemplate\": \"Lipid=%{customdata[0]}<br>Transition=%{x}<br>Intensity=%{y}<br>Class=%{customdata[1]}<extra></extra>\", \"legendgroup\": \"[TG(39:1)]_FA14:0\", \"marker\": {\"color\": \"#ab63fa\"}, \"name\": \"[TG(39:1)]_FA14:0\", \"offsetgroup\": \"[TG(39:1)]_FA14:0\", \"orientation\": \"v\", \"showlegend\": true, \"textposition\": \"auto\", \"type\": \"bar\", \"x\": [\"696.6 -> 451.4\"], \"xaxis\": \"x\", \"y\": [27744.182037353516], \"yaxis\": \"y\"}, {\"alignmentgroup\": \"True\", \"customdata\": [[\"[TG(39:0)]_FA14:0\", \"TAG\"]], \"hovertemplate\": \"Lipid=%{customdata[0]}<br>Transition=%{x}<br>Intensity=%{y}<br>Class=%{customdata[1]}<extra></extra>\", \"legendgroup\": \"[TG(39:0)]_FA14:0\", \"marker\": {\"color\": \"#FFA15A\"}, \"name\": \"[TG(39:0)]_FA14:0\", \"offsetgroup\": \"[TG(39:0)]_FA14:0\", \"orientation\": \"v\", \"showlegend\": true, \"textposition\": \"auto\", \"type\": \"bar\", \"x\": [\"698.6 -> 453.4\"], \"xaxis\": \"x\", \"y\": [37315.48260498047], \"yaxis\": \"y\"}, {\"alignmentgroup\": \"True\", \"customdata\": [[\"[TG(40:2)]_FA14:0\", \"TAG\"]], \"hovertemplate\": \"Lipid=%{customdata[0]}<br>Transition=%{x}<br>Intensity=%{y}<br>Class=%{customdata[1]}<extra></extra>\", \"legendgroup\": \"[TG(40:2)]_FA14:0\", \"marker\": {\"color\": \"#19d3f3\"}, \"name\": \"[TG(40:2)]_FA14:0\", \"offsetgroup\": \"[TG(40:2)]_FA14:0\", \"orientation\": \"v\", \"showlegend\": true, \"textposition\": \"auto\", \"type\": \"bar\", \"x\": [\"708.6 -> 463.4\"], \"xaxis\": \"x\", \"y\": [24415.261688232422], \"yaxis\": \"y\"}, {\"alignmentgroup\": \"True\", \"customdata\": [[\"[TG(40:1)]_FA14:0\", \"TAG\"]], \"hovertemplate\": \"Lipid=%{customdata[0]}<br>Transition=%{x}<br>Intensity=%{y}<br>Class=%{customdata[1]}<extra></extra>\", \"legendgroup\": \"[TG(40:1)]_FA14:0\", \"marker\": {\"color\": \"#FF6692\"}, \"name\": \"[TG(40:1)]_FA14:0\", \"offsetgroup\": \"[TG(40:1)]_FA14:0\", \"orientation\": \"v\", \"showlegend\": true, \"textposition\": \"auto\", \"type\": \"bar\", \"x\": [\"710.6 -> 465.4\"], \"xaxis\": \"x\", \"y\": [34708.20263671875], \"yaxis\": \"y\"}, {\"alignmentgroup\": \"True\", \"customdata\": [[\"[TG(40:0)]_FA14:0\", \"TAG\"]], \"hovertemplate\": \"Lipid=%{customdata[0]}<br>Transition=%{x}<br>Intensity=%{y}<br>Class=%{customdata[1]}<extra></extra>\", \"legendgroup\": \"[TG(40:0)]_FA14:0\", \"marker\": {\"color\": \"#B6E880\"}, \"name\": \"[TG(40:0)]_FA14:0\", \"offsetgroup\": \"[TG(40:0)]_FA14:0\", \"orientation\": \"v\", \"showlegend\": true, \"textposition\": \"auto\", \"type\": \"bar\", \"x\": [\"712.6 -> 467.4\"], \"xaxis\": \"x\", \"y\": [155327.89086914062], \"yaxis\": \"y\"}, {\"alignmentgroup\": \"True\", \"customdata\": [[\"[TG(41:2)]_FA14:0\", \"TAG\"]], \"hovertemplate\": \"Lipid=%{customdata[0]}<br>Transition=%{x}<br>Intensity=%{y}<br>Class=%{customdata[1]}<extra></extra>\", \"legendgroup\": \"[TG(41:2)]_FA14:0\", \"marker\": {\"color\": \"#FF97FF\"}, \"name\": \"[TG(41:2)]_FA14:0\", \"offsetgroup\": \"[TG(41:2)]_FA14:0\", \"orientation\": \"v\", \"showlegend\": true, \"textposition\": \"auto\", \"type\": \"bar\", \"x\": [\"722.6 -> 477.4\"], \"xaxis\": \"x\", \"y\": [20373.861602783203], \"yaxis\": \"y\"}, {\"alignmentgroup\": \"True\", \"customdata\": [[\"[TG(41:1)]_FA14:0\", \"TAG\"]], \"hovertemplate\": \"Lipid=%{customdata[0]}<br>Transition=%{x}<br>Intensity=%{y}<br>Class=%{customdata[1]}<extra></extra>\", \"legendgroup\": \"[TG(41:1)]_FA14:0\", \"marker\": {\"color\": \"#FECB52\"}, \"name\": \"[TG(41:1)]_FA14:0\", \"offsetgroup\": \"[TG(41:1)]_FA14:0\", \"orientation\": \"v\", \"showlegend\": true, \"textposition\": \"auto\", \"type\": \"bar\", \"x\": [\"724.6 -> 479.4\"], \"xaxis\": \"x\", \"y\": [19893.661392211914], \"yaxis\": \"y\"}, {\"alignmentgroup\": \"True\", \"customdata\": [[\"[TG(41:0)]_FA14:0\", \"TAG\"]], \"hovertemplate\": \"Lipid=%{customdata[0]}<br>Transition=%{x}<br>Intensity=%{y}<br>Class=%{customdata[1]}<extra></extra>\", \"legendgroup\": \"[TG(41:0)]_FA14:0\", \"marker\": {\"color\": \"#636efa\"}, \"name\": \"[TG(41:0)]_FA14:0\", \"offsetgroup\": \"[TG(41:0)]_FA14:0\", \"orientation\": \"v\", \"showlegend\": true, \"textposition\": \"auto\", \"type\": \"bar\", \"x\": [\"726.7 -> 481.5\"], \"xaxis\": \"x\", \"y\": [26466.401824951172], \"yaxis\": \"y\"}, {\"alignmentgroup\": \"True\", \"customdata\": [[\"[TG(42:4)]_FA14:0\", \"TAG\"]], \"hovertemplate\": \"Lipid=%{customdata[0]}<br>Transition=%{x}<br>Intensity=%{y}<br>Class=%{customdata[1]}<extra></extra>\", \"legendgroup\": \"[TG(42:4)]_FA14:0\", \"marker\": {\"color\": \"#EF553B\"}, \"name\": \"[TG(42:4)]_FA14:0\", \"offsetgroup\": \"[TG(42:4)]_FA14:0\", \"orientation\": \"v\", \"showlegend\": true, \"textposition\": \"auto\", \"type\": \"bar\", \"x\": [\"732.6 -> 487.4\"], \"xaxis\": \"x\", \"y\": [15374.68115234375], \"yaxis\": \"y\"}, {\"alignmentgroup\": \"True\", \"customdata\": [[\"[TG(42:3)]_FA14:0\", \"TAG\"]], \"hovertemplate\": \"Lipid=%{customdata[0]}<br>Transition=%{x}<br>Intensity=%{y}<br>Class=%{customdata[1]}<extra></extra>\", \"legendgroup\": \"[TG(42:3)]_FA14:0\", \"marker\": {\"color\": \"#00cc96\"}, \"name\": \"[TG(42:3)]_FA14:0\", \"offsetgroup\": \"[TG(42:3)]_FA14:0\", \"orientation\": \"v\", \"showlegend\": true, \"textposition\": \"auto\", \"type\": \"bar\", \"x\": [\"734.6 -> 489.4\"], \"xaxis\": \"x\", \"y\": [19889.30142211914], \"yaxis\": \"y\"}, {\"alignmentgroup\": \"True\", \"customdata\": [[\"[TG(42:2)]_FA14:0\", \"TAG\"]], \"hovertemplate\": \"Lipid=%{customdata[0]}<br>Transition=%{x}<br>Intensity=%{y}<br>Class=%{customdata[1]}<extra></extra>\", \"legendgroup\": \"[TG(42:2)]_FA14:0\", \"marker\": {\"color\": \"#ab63fa\"}, \"name\": \"[TG(42:2)]_FA14:0\", \"offsetgroup\": \"[TG(42:2)]_FA14:0\", \"orientation\": \"v\", \"showlegend\": true, \"textposition\": \"auto\", \"type\": \"bar\", \"x\": [\"736.6 -> 491.4\"], \"xaxis\": \"x\", \"y\": [17753.80108642578], \"yaxis\": \"y\"}, {\"alignmentgroup\": \"True\", \"customdata\": [[\"[TG(42:1)]_FA14:0\", \"TAG\"]], \"hovertemplate\": \"Lipid=%{customdata[0]}<br>Transition=%{x}<br>Intensity=%{y}<br>Class=%{customdata[1]}<extra></extra>\", \"legendgroup\": \"[TG(42:1)]_FA14:0\", \"marker\": {\"color\": \"#FFA15A\"}, \"name\": \"[TG(42:1)]_FA14:0\", \"offsetgroup\": \"[TG(42:1)]_FA14:0\", \"orientation\": \"v\", \"showlegend\": true, \"textposition\": \"auto\", \"type\": \"bar\", \"x\": [\"738.7 -> 493.5\"], \"xaxis\": \"x\", \"y\": [131865.6494140625], \"yaxis\": \"y\"}, {\"alignmentgroup\": \"True\", \"customdata\": [[\"[TG(42:0)]_FA14:0\", \"TAG\"]], \"hovertemplate\": \"Lipid=%{customdata[0]}<br>Transition=%{x}<br>Intensity=%{y}<br>Class=%{customdata[1]}<extra></extra>\", \"legendgroup\": \"[TG(42:0)]_FA14:0\", \"marker\": {\"color\": \"#19d3f3\"}, \"name\": \"[TG(42:0)]_FA14:0\", \"offsetgroup\": \"[TG(42:0)]_FA14:0\", \"orientation\": \"v\", \"showlegend\": true, \"textposition\": \"auto\", \"type\": \"bar\", \"x\": [\"740.7 -> 495.5\"], \"xaxis\": \"x\", \"y\": [94824.94689941406], \"yaxis\": \"y\"}, {\"alignmentgroup\": \"True\", \"customdata\": [[\"[TG(43:4)]_FA14:0\", \"TAG\"]], \"hovertemplate\": \"Lipid=%{customdata[0]}<br>Transition=%{x}<br>Intensity=%{y}<br>Class=%{customdata[1]}<extra></extra>\", \"legendgroup\": \"[TG(43:4)]_FA14:0\", \"marker\": {\"color\": \"#FF6692\"}, \"name\": \"[TG(43:4)]_FA14:0\", \"offsetgroup\": \"[TG(43:4)]_FA14:0\", \"orientation\": \"v\", \"showlegend\": true, \"textposition\": \"auto\", \"type\": \"bar\", \"x\": [\"746.6 -> 501.4\"], \"xaxis\": \"x\", \"y\": [16791.481231689453], \"yaxis\": \"y\"}, {\"alignmentgroup\": \"True\", \"customdata\": [[\"[TG(43:3)]_FA14:0\", \"TAG\"]], \"hovertemplate\": \"Lipid=%{customdata[0]}<br>Transition=%{x}<br>Intensity=%{y}<br>Class=%{customdata[1]}<extra></extra>\", \"legendgroup\": \"[TG(43:3)]_FA14:0\", \"marker\": {\"color\": \"#B6E880\"}, \"name\": \"[TG(43:3)]_FA14:0\", \"offsetgroup\": \"[TG(43:3)]_FA14:0\", \"orientation\": \"v\", \"showlegend\": true, \"textposition\": \"auto\", \"type\": \"bar\", \"x\": [\"748.6 -> 503.4\"], \"xaxis\": \"x\", \"y\": [63030.504150390625], \"yaxis\": \"y\"}, {\"alignmentgroup\": \"True\", \"customdata\": [[\"[TG(43:2)]_FA14:0\", \"TAG\"]], \"hovertemplate\": \"Lipid=%{customdata[0]}<br>Transition=%{x}<br>Intensity=%{y}<br>Class=%{customdata[1]}<extra></extra>\", \"legendgroup\": \"[TG(43:2)]_FA14:0\", \"marker\": {\"color\": \"#FF97FF\"}, \"name\": \"[TG(43:2)]_FA14:0\", \"offsetgroup\": \"[TG(43:2)]_FA14:0\", \"orientation\": \"v\", \"showlegend\": true, \"textposition\": \"auto\", \"type\": \"bar\", \"x\": [\"750.7 -> 505.5\"], \"xaxis\": \"x\", \"y\": [26622.84196472168], \"yaxis\": \"y\"}, {\"alignmentgroup\": \"True\", \"customdata\": [[\"[TG(43:1)]_FA14:0\", \"TAG\"]], \"hovertemplate\": \"Lipid=%{customdata[0]}<br>Transition=%{x}<br>Intensity=%{y}<br>Class=%{customdata[1]}<extra></extra>\", \"legendgroup\": \"[TG(43:1)]_FA14:0\", \"marker\": {\"color\": \"#FECB52\"}, \"name\": \"[TG(43:1)]_FA14:0\", \"offsetgroup\": \"[TG(43:1)]_FA14:0\", \"orientation\": \"v\", \"showlegend\": true, \"textposition\": \"auto\", \"type\": \"bar\", \"x\": [\"752.7 -> 507.5\"], \"xaxis\": \"x\", \"y\": [28583.40203857422], \"yaxis\": \"y\"}, {\"alignmentgroup\": \"True\", \"customdata\": [[\"[TG(43:0)]_FA14:0\", \"TAG\"]], \"hovertemplate\": \"Lipid=%{customdata[0]}<br>Transition=%{x}<br>Intensity=%{y}<br>Class=%{customdata[1]}<extra></extra>\", \"legendgroup\": \"[TG(43:0)]_FA14:0\", \"marker\": {\"color\": \"#636efa\"}, \"name\": \"[TG(43:0)]_FA14:0\", \"offsetgroup\": \"[TG(43:0)]_FA14:0\", \"orientation\": \"v\", \"showlegend\": true, \"textposition\": \"auto\", \"type\": \"bar\", \"x\": [\"754.7 -> 509.5\"], \"xaxis\": \"x\", \"y\": [29018.08203125], \"yaxis\": \"y\"}, {\"alignmentgroup\": \"True\", \"customdata\": [[\"[TG(44:5)]_FA14:0\", \"TAG\"]], \"hovertemplate\": \"Lipid=%{customdata[0]}<br>Transition=%{x}<br>Intensity=%{y}<br>Class=%{customdata[1]}<extra></extra>\", \"legendgroup\": \"[TG(44:5)]_FA14:0\", \"marker\": {\"color\": \"#EF553B\"}, \"name\": \"[TG(44:5)]_FA14:0\", \"offsetgroup\": \"[TG(44:5)]_FA14:0\", \"orientation\": \"v\", \"showlegend\": true, \"textposition\": \"auto\", \"type\": \"bar\", \"x\": [\"758.6 -> 513.4\"], \"xaxis\": \"x\", \"y\": [17620.081260681152], \"yaxis\": \"y\"}, {\"alignmentgroup\": \"True\", \"customdata\": [[\"[TG(44:4)]_FA14:0\", \"TAG\"]], \"hovertemplate\": \"Lipid=%{customdata[0]}<br>Transition=%{x}<br>Intensity=%{y}<br>Class=%{customdata[1]}<extra></extra>\", \"legendgroup\": \"[TG(44:4)]_FA14:0\", \"marker\": {\"color\": \"#00cc96\"}, \"name\": \"[TG(44:4)]_FA14:0\", \"offsetgroup\": \"[TG(44:4)]_FA14:0\", \"orientation\": \"v\", \"showlegend\": true, \"textposition\": \"auto\", \"type\": \"bar\", \"x\": [\"760.6 -> 515.4\"], \"xaxis\": \"x\", \"y\": [15765.661041259766], \"yaxis\": \"y\"}, {\"alignmentgroup\": \"True\", \"customdata\": [[\"[TG(44:3)]_FA14:0\", \"TAG\"]], \"hovertemplate\": \"Lipid=%{customdata[0]}<br>Transition=%{x}<br>Intensity=%{y}<br>Class=%{customdata[1]}<extra></extra>\", \"legendgroup\": \"[TG(44:3)]_FA14:0\", \"marker\": {\"color\": \"#ab63fa\"}, \"name\": \"[TG(44:3)]_FA14:0\", \"offsetgroup\": \"[TG(44:3)]_FA14:0\", \"orientation\": \"v\", \"showlegend\": true, \"textposition\": \"auto\", \"type\": \"bar\", \"x\": [\"762.7 -> 517.5\"], \"xaxis\": \"x\", \"y\": [18071.14141845703], \"yaxis\": \"y\"}, {\"alignmentgroup\": \"True\", \"customdata\": [[\"[TG(44:2)]_FA14:0\", \"TAG\"]], \"hovertemplate\": \"Lipid=%{customdata[0]}<br>Transition=%{x}<br>Intensity=%{y}<br>Class=%{customdata[1]}<extra></extra>\", \"legendgroup\": \"[TG(44:2)]_FA14:0\", \"marker\": {\"color\": \"#FFA15A\"}, \"name\": \"[TG(44:2)]_FA14:0\", \"offsetgroup\": \"[TG(44:2)]_FA14:0\", \"orientation\": \"v\", \"showlegend\": true, \"textposition\": \"auto\", \"type\": \"bar\", \"x\": [\"764.7 -> 519.5\"], \"xaxis\": \"x\", \"y\": [39169.32312011719], \"yaxis\": \"y\"}, {\"alignmentgroup\": \"True\", \"customdata\": [[\"[TG(44:1)]_FA14:0\", \"TAG\"]], \"hovertemplate\": \"Lipid=%{customdata[0]}<br>Transition=%{x}<br>Intensity=%{y}<br>Class=%{customdata[1]}<extra></extra>\", \"legendgroup\": \"[TG(44:1)]_FA14:0\", \"marker\": {\"color\": \"#19d3f3\"}, \"name\": \"[TG(44:1)]_FA14:0\", \"offsetgroup\": \"[TG(44:1)]_FA14:0\", \"orientation\": \"v\", \"showlegend\": true, \"textposition\": \"auto\", \"type\": \"bar\", \"x\": [\"766.7 -> 521.5\"], \"xaxis\": \"x\", \"y\": [31882.602020263672], \"yaxis\": \"y\"}, {\"alignmentgroup\": \"True\", \"customdata\": [[\"[TG(44:0),TG(O-45:0)]_FA14:0\", \"TAG\"]], \"hovertemplate\": \"Lipid=%{customdata[0]}<br>Transition=%{x}<br>Intensity=%{y}<br>Class=%{customdata[1]}<extra></extra>\", \"legendgroup\": \"[TG(44:0),TG(O-45:0)]_FA14:0\", \"marker\": {\"color\": \"#FF6692\"}, \"name\": \"[TG(44:0),TG(O-45:0)]_FA14:0\", \"offsetgroup\": \"[TG(44:0),TG(O-45:0)]_FA14:0\", \"orientation\": \"v\", \"showlegend\": true, \"textposition\": \"auto\", \"type\": \"bar\", \"x\": [\"768.7 -> 523.5\"], \"xaxis\": \"x\", \"y\": [72722.04577636719], \"yaxis\": \"y\"}, {\"alignmentgroup\": \"True\", \"customdata\": [[\"[TG(45:5)]_FA14:0\", \"TAG\"]], \"hovertemplate\": \"Lipid=%{customdata[0]}<br>Transition=%{x}<br>Intensity=%{y}<br>Class=%{customdata[1]}<extra></extra>\", \"legendgroup\": \"[TG(45:5)]_FA14:0\", \"marker\": {\"color\": \"#B6E880\"}, \"name\": \"[TG(45:5)]_FA14:0\", \"offsetgroup\": \"[TG(45:5)]_FA14:0\", \"orientation\": \"v\", \"showlegend\": true, \"textposition\": \"auto\", \"type\": \"bar\", \"x\": [\"772.6 -> 527.4\"], \"xaxis\": \"x\", \"y\": [18579.66111755371], \"yaxis\": \"y\"}, {\"alignmentgroup\": \"True\", \"customdata\": [[\"[TG(45:4)]_FA14:0\", \"TAG\"]], \"hovertemplate\": \"Lipid=%{customdata[0]}<br>Transition=%{x}<br>Intensity=%{y}<br>Class=%{customdata[1]}<extra></extra>\", \"legendgroup\": \"[TG(45:4)]_FA14:0\", \"marker\": {\"color\": \"#FF97FF\"}, \"name\": \"[TG(45:4)]_FA14:0\", \"offsetgroup\": \"[TG(45:4)]_FA14:0\", \"orientation\": \"v\", \"showlegend\": true, \"textposition\": \"auto\", \"type\": \"bar\", \"x\": [\"774.7 -> 529.5\"], \"xaxis\": \"x\", \"y\": [21398.161346435547], \"yaxis\": \"y\"}, {\"alignmentgroup\": \"True\", \"customdata\": [[\"[TG(45:3)]_FA14:0\", \"TAG\"]], \"hovertemplate\": \"Lipid=%{customdata[0]}<br>Transition=%{x}<br>Intensity=%{y}<br>Class=%{customdata[1]}<extra></extra>\", \"legendgroup\": \"[TG(45:3)]_FA14:0\", \"marker\": {\"color\": \"#FECB52\"}, \"name\": \"[TG(45:3)]_FA14:0\", \"offsetgroup\": \"[TG(45:3)]_FA14:0\", \"orientation\": \"v\", \"showlegend\": true, \"textposition\": \"auto\", \"type\": \"bar\", \"x\": [\"776.7 -> 531.5\"], \"xaxis\": \"x\", \"y\": [18318.621307373047], \"yaxis\": \"y\"}, {\"alignmentgroup\": \"True\", \"customdata\": [[\"[TG(45:2)]_FA14:0\", \"TAG\"]], \"hovertemplate\": \"Lipid=%{customdata[0]}<br>Transition=%{x}<br>Intensity=%{y}<br>Class=%{customdata[1]}<extra></extra>\", \"legendgroup\": \"[TG(45:2)]_FA14:0\", \"marker\": {\"color\": \"#636efa\"}, \"name\": \"[TG(45:2)]_FA14:0\", \"offsetgroup\": \"[TG(45:2)]_FA14:0\", \"orientation\": \"v\", \"showlegend\": true, \"textposition\": \"auto\", \"type\": \"bar\", \"x\": [\"778.7 -> 533.5\"], \"xaxis\": \"x\", \"y\": [16532.841232299805], \"yaxis\": \"y\"}, {\"alignmentgroup\": \"True\", \"customdata\": [[\"[TG(45:1)]_FA14:0\", \"TAG\"]], \"hovertemplate\": \"Lipid=%{customdata[0]}<br>Transition=%{x}<br>Intensity=%{y}<br>Class=%{customdata[1]}<extra></extra>\", \"legendgroup\": \"[TG(45:1)]_FA14:0\", \"marker\": {\"color\": \"#EF553B\"}, \"name\": \"[TG(45:1)]_FA14:0\", \"offsetgroup\": \"[TG(45:1)]_FA14:0\", \"orientation\": \"v\", \"showlegend\": true, \"textposition\": \"auto\", \"type\": \"bar\", \"x\": [\"780.7 -> 535.5\"], \"xaxis\": \"x\", \"y\": [70729.62463378906], \"yaxis\": \"y\"}, {\"alignmentgroup\": \"True\", \"customdata\": [[\"[TG(45:0)]_FA14:0\", \"TAG\"]], \"hovertemplate\": \"Lipid=%{customdata[0]}<br>Transition=%{x}<br>Intensity=%{y}<br>Class=%{customdata[1]}<extra></extra>\", \"legendgroup\": \"[TG(45:0)]_FA14:0\", \"marker\": {\"color\": \"#00cc96\"}, \"name\": \"[TG(45:0)]_FA14:0\", \"offsetgroup\": \"[TG(45:0)]_FA14:0\", \"orientation\": \"v\", \"showlegend\": true, \"textposition\": \"auto\", \"type\": \"bar\", \"x\": [\"782.7 -> 537.5\"], \"xaxis\": \"x\", \"y\": [46782.86340332031], \"yaxis\": \"y\"}, {\"alignmentgroup\": \"True\", \"customdata\": [[\"[TG(46:6)]_FA14:0\", \"TAG\"]], \"hovertemplate\": \"Lipid=%{customdata[0]}<br>Transition=%{x}<br>Intensity=%{y}<br>Class=%{customdata[1]}<extra></extra>\", \"legendgroup\": \"[TG(46:6)]_FA14:0\", \"marker\": {\"color\": \"#ab63fa\"}, \"name\": \"[TG(46:6)]_FA14:0\", \"offsetgroup\": \"[TG(46:6)]_FA14:0\", \"orientation\": \"v\", \"showlegend\": true, \"textposition\": \"auto\", \"type\": \"bar\", \"x\": [\"784.6 -> 539.4\"], \"xaxis\": \"x\", \"y\": [20436.341217041016], \"yaxis\": \"y\"}, {\"alignmentgroup\": \"True\", \"customdata\": [[\"[TG(46:5)]_FA14:0\", \"TAG\"]], \"hovertemplate\": \"Lipid=%{customdata[0]}<br>Transition=%{x}<br>Intensity=%{y}<br>Class=%{customdata[1]}<extra></extra>\", \"legendgroup\": \"[TG(46:5)]_FA14:0\", \"marker\": {\"color\": \"#FFA15A\"}, \"name\": \"[TG(46:5)]_FA14:0\", \"offsetgroup\": \"[TG(46:5)]_FA14:0\", \"orientation\": \"v\", \"showlegend\": true, \"textposition\": \"auto\", \"type\": \"bar\", \"x\": [\"786.7 -> 541.5\"], \"xaxis\": \"x\", \"y\": [20286.141387939453], \"yaxis\": \"y\"}, {\"alignmentgroup\": \"True\", \"customdata\": [[\"[TG(46:4)]_FA14:0\", \"TAG\"]], \"hovertemplate\": \"Lipid=%{customdata[0]}<br>Transition=%{x}<br>Intensity=%{y}<br>Class=%{customdata[1]}<extra></extra>\", \"legendgroup\": \"[TG(46:4)]_FA14:0\", \"marker\": {\"color\": \"#19d3f3\"}, \"name\": \"[TG(46:4)]_FA14:0\", \"offsetgroup\": \"[TG(46:4)]_FA14:0\", \"orientation\": \"v\", \"showlegend\": true, \"textposition\": \"auto\", \"type\": \"bar\", \"x\": [\"788.7 -> 543.5\"], \"xaxis\": \"x\", \"y\": [18562.861236572266], \"yaxis\": \"y\"}, {\"alignmentgroup\": \"True\", \"customdata\": [[\"[TG(46:3)]_FA14:0\", \"TAG\"]], \"hovertemplate\": \"Lipid=%{customdata[0]}<br>Transition=%{x}<br>Intensity=%{y}<br>Class=%{customdata[1]}<extra></extra>\", \"legendgroup\": \"[TG(46:3)]_FA14:0\", \"marker\": {\"color\": \"#FF6692\"}, \"name\": \"[TG(46:3)]_FA14:0\", \"offsetgroup\": \"[TG(46:3)]_FA14:0\", \"orientation\": \"v\", \"showlegend\": true, \"textposition\": \"auto\", \"type\": \"bar\", \"x\": [\"790.7 -> 545.5\"], \"xaxis\": \"x\", \"y\": [20631.881439208984], \"yaxis\": \"y\"}, {\"alignmentgroup\": \"True\", \"customdata\": [[\"[TG(46:2)]_FA14:0\", \"TAG\"]], \"hovertemplate\": \"Lipid=%{customdata[0]}<br>Transition=%{x}<br>Intensity=%{y}<br>Class=%{customdata[1]}<extra></extra>\", \"legendgroup\": \"[TG(46:2)]_FA14:0\", \"marker\": {\"color\": \"#B6E880\"}, \"name\": \"[TG(46:2)]_FA14:0\", \"offsetgroup\": \"[TG(46:2)]_FA14:0\", \"orientation\": \"v\", \"showlegend\": true, \"textposition\": \"auto\", \"type\": \"bar\", \"x\": [\"792.7 -> 547.5\"], \"xaxis\": \"x\", \"y\": [44036.763610839844], \"yaxis\": \"y\"}, {\"alignmentgroup\": \"True\", \"customdata\": [[\"[TG(46:1)]_FA14:0\", \"TAG\"]], \"hovertemplate\": \"Lipid=%{customdata[0]}<br>Transition=%{x}<br>Intensity=%{y}<br>Class=%{customdata[1]}<extra></extra>\", \"legendgroup\": \"[TG(46:1)]_FA14:0\", \"marker\": {\"color\": \"#FF97FF\"}, \"name\": \"[TG(46:1)]_FA14:0\", \"offsetgroup\": \"[TG(46:1)]_FA14:0\", \"orientation\": \"v\", \"showlegend\": true, \"textposition\": \"auto\", \"type\": \"bar\", \"x\": [\"794.7 -> 549.5\"], \"xaxis\": \"x\", \"y\": [68736.06512451172], \"yaxis\": \"y\"}, {\"alignmentgroup\": \"True\", \"customdata\": [[\"[TG(46:0)]_FA14:0\", \"TAG\"]], \"hovertemplate\": \"Lipid=%{customdata[0]}<br>Transition=%{x}<br>Intensity=%{y}<br>Class=%{customdata[1]}<extra></extra>\", \"legendgroup\": \"[TG(46:0)]_FA14:0\", \"marker\": {\"color\": \"#FECB52\"}, \"name\": \"[TG(46:0)]_FA14:0\", \"offsetgroup\": \"[TG(46:0)]_FA14:0\", \"orientation\": \"v\", \"showlegend\": true, \"textposition\": \"auto\", \"type\": \"bar\", \"x\": [\"796.7 -> 551.5\"], \"xaxis\": \"x\", \"y\": [84029.40625], \"yaxis\": \"y\"}, {\"alignmentgroup\": \"True\", \"customdata\": [[\"[TG(47:6)]_FA14:0\", \"TAG\"]], \"hovertemplate\": \"Lipid=%{customdata[0]}<br>Transition=%{x}<br>Intensity=%{y}<br>Class=%{customdata[1]}<extra></extra>\", \"legendgroup\": \"[TG(47:6)]_FA14:0\", \"marker\": {\"color\": \"#636efa\"}, \"name\": \"[TG(47:6)]_FA14:0\", \"offsetgroup\": \"[TG(47:6)]_FA14:0\", \"orientation\": \"v\", \"showlegend\": true, \"textposition\": \"auto\", \"type\": \"bar\", \"x\": [\"798.7 -> 553.5\"], \"xaxis\": \"x\", \"y\": [26131.921813964844], \"yaxis\": \"y\"}, {\"alignmentgroup\": \"True\", \"customdata\": [[\"[TG(47:5)]_FA14:0\", \"TAG\"]], \"hovertemplate\": \"Lipid=%{customdata[0]}<br>Transition=%{x}<br>Intensity=%{y}<br>Class=%{customdata[1]}<extra></extra>\", \"legendgroup\": \"[TG(47:5)]_FA14:0\", \"marker\": {\"color\": \"#EF553B\"}, \"name\": \"[TG(47:5)]_FA14:0\", \"offsetgroup\": \"[TG(47:5)]_FA14:0\", \"orientation\": \"v\", \"showlegend\": true, \"textposition\": \"auto\", \"type\": \"bar\", \"x\": [\"800.7 -> 555.5\"], \"xaxis\": \"x\", \"y\": [20985.38151550293], \"yaxis\": \"y\"}, {\"alignmentgroup\": \"True\", \"customdata\": [[\"[TG(47:4)]_FA14:0\", \"TAG\"]], \"hovertemplate\": \"Lipid=%{customdata[0]}<br>Transition=%{x}<br>Intensity=%{y}<br>Class=%{customdata[1]}<extra></extra>\", \"legendgroup\": \"[TG(47:4)]_FA14:0\", \"marker\": {\"color\": \"#00cc96\"}, \"name\": \"[TG(47:4)]_FA14:0\", \"offsetgroup\": \"[TG(47:4)]_FA14:0\", \"orientation\": \"v\", \"showlegend\": true, \"textposition\": \"auto\", \"type\": \"bar\", \"x\": [\"802.7 -> 557.5\"], \"xaxis\": \"x\", \"y\": [18959.501403808594], \"yaxis\": \"y\"}, {\"alignmentgroup\": \"True\", \"customdata\": [[\"[TG(47:3)]_FA14:0\", \"TAG\"]], \"hovertemplate\": \"Lipid=%{customdata[0]}<br>Transition=%{x}<br>Intensity=%{y}<br>Class=%{customdata[1]}<extra></extra>\", \"legendgroup\": \"[TG(47:3)]_FA14:0\", \"marker\": {\"color\": \"#ab63fa\"}, \"name\": \"[TG(47:3)]_FA14:0\", \"offsetgroup\": \"[TG(47:3)]_FA14:0\", \"orientation\": \"v\", \"showlegend\": true, \"textposition\": \"auto\", \"type\": \"bar\", \"x\": [\"804.7 -> 559.5\"], \"xaxis\": \"x\", \"y\": [21987.14175415039], \"yaxis\": \"y\"}, {\"alignmentgroup\": \"True\", \"customdata\": [[\"[TG(47:2)]_FA14:0\", \"TAG\"]], \"hovertemplate\": \"Lipid=%{customdata[0]}<br>Transition=%{x}<br>Intensity=%{y}<br>Class=%{customdata[1]}<extra></extra>\", \"legendgroup\": \"[TG(47:2)]_FA14:0\", \"marker\": {\"color\": \"#FFA15A\"}, \"name\": \"[TG(47:2)]_FA14:0\", \"offsetgroup\": \"[TG(47:2)]_FA14:0\", \"orientation\": \"v\", \"showlegend\": true, \"textposition\": \"auto\", \"type\": \"bar\", \"x\": [\"806.7 -> 561.5\"], \"xaxis\": \"x\", \"y\": [24136.061737060547], \"yaxis\": \"y\"}, {\"alignmentgroup\": \"True\", \"customdata\": [[\"[TG(48:8),TG(47:1)]_FA14:0\", \"TAG\"]], \"hovertemplate\": \"Lipid=%{customdata[0]}<br>Transition=%{x}<br>Intensity=%{y}<br>Class=%{customdata[1]}<extra></extra>\", \"legendgroup\": \"[TG(48:8),TG(47:1)]_FA14:0\", \"marker\": {\"color\": \"#19d3f3\"}, \"name\": \"[TG(48:8),TG(47:1)]_FA14:0\", \"offsetgroup\": \"[TG(48:8),TG(47:1)]_FA14:0\", \"orientation\": \"v\", \"showlegend\": true, \"textposition\": \"auto\", \"type\": \"bar\", \"x\": [\"808.7 -> 563.5\"], \"xaxis\": \"x\", \"y\": [31395.762451171875], \"yaxis\": \"y\"}, {\"alignmentgroup\": \"True\", \"customdata\": [[\"[TG(48:7),TG(47:0)]_FA14:0\", \"TAG\"]], \"hovertemplate\": \"Lipid=%{customdata[0]}<br>Transition=%{x}<br>Intensity=%{y}<br>Class=%{customdata[1]}<extra></extra>\", \"legendgroup\": \"[TG(48:7),TG(47:0)]_FA14:0\", \"marker\": {\"color\": \"#FF6692\"}, \"name\": \"[TG(48:7),TG(47:0)]_FA14:0\", \"offsetgroup\": \"[TG(48:7),TG(47:0)]_FA14:0\", \"orientation\": \"v\", \"showlegend\": true, \"textposition\": \"auto\", \"type\": \"bar\", \"x\": [\"810.8 -> 565.6\"], \"xaxis\": \"x\", \"y\": [35014.362396240234], \"yaxis\": \"y\"}, {\"alignmentgroup\": \"True\", \"customdata\": [[\"[TG(48:6)]_FA14:0\", \"TAG\"]], \"hovertemplate\": \"Lipid=%{customdata[0]}<br>Transition=%{x}<br>Intensity=%{y}<br>Class=%{customdata[1]}<extra></extra>\", \"legendgroup\": \"[TG(48:6)]_FA14:0\", \"marker\": {\"color\": \"#B6E880\"}, \"name\": \"[TG(48:6)]_FA14:0\", \"offsetgroup\": \"[TG(48:6)]_FA14:0\", \"orientation\": \"v\", \"showlegend\": true, \"textposition\": \"auto\", \"type\": \"bar\", \"x\": [\"812.7 -> 567.5\"], \"xaxis\": \"x\", \"y\": [51366.403381347656], \"yaxis\": \"y\"}, {\"alignmentgroup\": \"True\", \"customdata\": [[\"[TG(48:5)]_FA14:0\", \"TAG\"]], \"hovertemplate\": \"Lipid=%{customdata[0]}<br>Transition=%{x}<br>Intensity=%{y}<br>Class=%{customdata[1]}<extra></extra>\", \"legendgroup\": \"[TG(48:5)]_FA14:0\", \"marker\": {\"color\": \"#FF97FF\"}, \"name\": \"[TG(48:5)]_FA14:0\", \"offsetgroup\": \"[TG(48:5)]_FA14:0\", \"orientation\": \"v\", \"showlegend\": true, \"textposition\": \"auto\", \"type\": \"bar\", \"x\": [\"814.7 -> 569.5\"], \"xaxis\": \"x\", \"y\": [25303.261779785156], \"yaxis\": \"y\"}, {\"alignmentgroup\": \"True\", \"customdata\": [[\"[TG(48:4)]_FA14:0\", \"TAG\"]], \"hovertemplate\": \"Lipid=%{customdata[0]}<br>Transition=%{x}<br>Intensity=%{y}<br>Class=%{customdata[1]}<extra></extra>\", \"legendgroup\": \"[TG(48:4)]_FA14:0\", \"marker\": {\"color\": \"#FECB52\"}, \"name\": \"[TG(48:4)]_FA14:0\", \"offsetgroup\": \"[TG(48:4)]_FA14:0\", \"orientation\": \"v\", \"showlegend\": true, \"textposition\": \"auto\", \"type\": \"bar\", \"x\": [\"816.7 -> 571.5\"], \"xaxis\": \"x\", \"y\": [23539.601623535156], \"yaxis\": \"y\"}, {\"alignmentgroup\": \"True\", \"customdata\": [[\"[TG(48:3)]_FA14:0\", \"TAG\"]], \"hovertemplate\": \"Lipid=%{customdata[0]}<br>Transition=%{x}<br>Intensity=%{y}<br>Class=%{customdata[1]}<extra></extra>\", \"legendgroup\": \"[TG(48:3)]_FA14:0\", \"marker\": {\"color\": \"#636efa\"}, \"name\": \"[TG(48:3)]_FA14:0\", \"offsetgroup\": \"[TG(48:3)]_FA14:0\", \"orientation\": \"v\", \"showlegend\": true, \"textposition\": \"auto\", \"type\": \"bar\", \"x\": [\"818.7 -> 573.5\"], \"xaxis\": \"x\", \"y\": [82808.48538208008], \"yaxis\": \"y\"}, {\"alignmentgroup\": \"True\", \"customdata\": [[\"[TG(48:2)]_FA14:0\", \"TAG\"]], \"hovertemplate\": \"Lipid=%{customdata[0]}<br>Transition=%{x}<br>Intensity=%{y}<br>Class=%{customdata[1]}<extra></extra>\", \"legendgroup\": \"[TG(48:2)]_FA14:0\", \"marker\": {\"color\": \"#EF553B\"}, \"name\": \"[TG(48:2)]_FA14:0\", \"offsetgroup\": \"[TG(48:2)]_FA14:0\", \"orientation\": \"v\", \"showlegend\": true, \"textposition\": \"auto\", \"type\": \"bar\", \"x\": [\"820.7 -> 575.5\"], \"xaxis\": \"x\", \"y\": [286373.7007446289], \"yaxis\": \"y\"}, {\"alignmentgroup\": \"True\", \"customdata\": [[\"[TG(49:8),TG(48:1)]_FA14:0\", \"TAG\"]], \"hovertemplate\": \"Lipid=%{customdata[0]}<br>Transition=%{x}<br>Intensity=%{y}<br>Class=%{customdata[1]}<extra></extra>\", \"legendgroup\": \"[TG(49:8),TG(48:1)]_FA14:0\", \"marker\": {\"color\": \"#00cc96\"}, \"name\": \"[TG(49:8),TG(48:1)]_FA14:0\", \"offsetgroup\": \"[TG(49:8),TG(48:1)]_FA14:0\", \"orientation\": \"v\", \"showlegend\": true, \"textposition\": \"auto\", \"type\": \"bar\", \"x\": [\"822.8 -> 577.6\"], \"xaxis\": \"x\", \"y\": [333579.6123046875], \"yaxis\": \"y\"}, {\"alignmentgroup\": \"True\", \"customdata\": [[\"[TG(49:7),TG(48:0)]_FA14:0\", \"TAG\"]], \"hovertemplate\": \"Lipid=%{customdata[0]}<br>Transition=%{x}<br>Intensity=%{y}<br>Class=%{customdata[1]}<extra></extra>\", \"legendgroup\": \"[TG(49:7),TG(48:0)]_FA14:0\", \"marker\": {\"color\": \"#ab63fa\"}, \"name\": \"[TG(49:7),TG(48:0)]_FA14:0\", \"offsetgroup\": \"[TG(49:7),TG(48:0)]_FA14:0\", \"orientation\": \"v\", \"showlegend\": true, \"textposition\": \"auto\", \"type\": \"bar\", \"x\": [\"824.8 -> 579.6\"], \"xaxis\": \"x\", \"y\": [80859.20629882812], \"yaxis\": \"y\"}, {\"alignmentgroup\": \"True\", \"customdata\": [[\"[TG(49:6)]_FA14:0\", \"TAG\"]], \"hovertemplate\": \"Lipid=%{customdata[0]}<br>Transition=%{x}<br>Intensity=%{y}<br>Class=%{customdata[1]}<extra></extra>\", \"legendgroup\": \"[TG(49:6)]_FA14:0\", \"marker\": {\"color\": \"#FFA15A\"}, \"name\": \"[TG(49:6)]_FA14:0\", \"offsetgroup\": \"[TG(49:6)]_FA14:0\", \"orientation\": \"v\", \"showlegend\": true, \"textposition\": \"auto\", \"type\": \"bar\", \"x\": [\"826.7 -> 581.5\"], \"xaxis\": \"x\", \"y\": [29734.44223022461], \"yaxis\": \"y\"}, {\"alignmentgroup\": \"True\", \"customdata\": [[\"[TG(49:5)]_FA14:0\", \"TAG\"]], \"hovertemplate\": \"Lipid=%{customdata[0]}<br>Transition=%{x}<br>Intensity=%{y}<br>Class=%{customdata[1]}<extra></extra>\", \"legendgroup\": \"[TG(49:5)]_FA14:0\", \"marker\": {\"color\": \"#19d3f3\"}, \"name\": \"[TG(49:5)]_FA14:0\", \"offsetgroup\": \"[TG(49:5)]_FA14:0\", \"orientation\": \"v\", \"showlegend\": true, \"textposition\": \"auto\", \"type\": \"bar\", \"x\": [\"828.7 -> 583.5\"], \"xaxis\": \"x\", \"y\": [22083.261352539062], \"yaxis\": \"y\"}, {\"alignmentgroup\": \"True\", \"customdata\": [[\"STD_15:0-18:1(d7)-15:0 TAG\", \"STD_15:0-18:1(d7)-15:0 TAG\"]], \"hovertemplate\": \"Lipid=%{customdata[0]}<br>Transition=%{x}<br>Intensity=%{y}<br>Class=%{customdata[1]}<extra></extra>\", \"legendgroup\": \"STD_15:0-18:1(d7)-15:0 TAG\", \"marker\": {\"color\": \"#FF6692\"}, \"name\": \"STD_15:0-18:1(d7)-15:0 TAG\", \"offsetgroup\": \"STD_15:0-18:1(d7)-15:0 TAG\", \"orientation\": \"v\", \"showlegend\": true, \"textposition\": \"auto\", \"type\": \"bar\", \"x\": [\"829.8 -> 570.4\"], \"xaxis\": \"x\", \"y\": [33835.302642822266], \"yaxis\": \"y\"}, {\"alignmentgroup\": \"True\", \"customdata\": [[\"[TG(49:4)]_FA14:0\", \"TAG\"]], \"hovertemplate\": \"Lipid=%{customdata[0]}<br>Transition=%{x}<br>Intensity=%{y}<br>Class=%{customdata[1]}<extra></extra>\", \"legendgroup\": \"[TG(49:4)]_FA14:0\", \"marker\": {\"color\": \"#B6E880\"}, \"name\": \"[TG(49:4)]_FA14:0\", \"offsetgroup\": \"[TG(49:4)]_FA14:0\", \"orientation\": \"v\", \"showlegend\": true, \"textposition\": \"auto\", \"type\": \"bar\", \"x\": [\"830.7 -> 585.5\"], \"xaxis\": \"x\", \"y\": [22096.821563720703], \"yaxis\": \"y\"}, {\"alignmentgroup\": \"True\", \"customdata\": [[\"[TG(49:3)]_FA14:0\", \"TAG\"]], \"hovertemplate\": \"Lipid=%{customdata[0]}<br>Transition=%{x}<br>Intensity=%{y}<br>Class=%{customdata[1]}<extra></extra>\", \"legendgroup\": \"[TG(49:3)]_FA14:0\", \"marker\": {\"color\": \"#FF97FF\"}, \"name\": \"[TG(49:3)]_FA14:0\", \"offsetgroup\": \"[TG(49:3)]_FA14:0\", \"orientation\": \"v\", \"showlegend\": true, \"textposition\": \"auto\", \"type\": \"bar\", \"x\": [\"832.7 -> 587.5\"], \"xaxis\": \"x\", \"y\": [26063.061752319336], \"yaxis\": \"y\"}, {\"alignmentgroup\": \"True\", \"customdata\": [[\"[TG(50:9),TG(49:2)]_FA14:0\", \"TAG\"]], \"hovertemplate\": \"Lipid=%{customdata[0]}<br>Transition=%{x}<br>Intensity=%{y}<br>Class=%{customdata[1]}<extra></extra>\", \"legendgroup\": \"[TG(50:9),TG(49:2)]_FA14:0\", \"marker\": {\"color\": \"#FECB52\"}, \"name\": \"[TG(50:9),TG(49:2)]_FA14:0\", \"offsetgroup\": \"[TG(50:9),TG(49:2)]_FA14:0\", \"orientation\": \"v\", \"showlegend\": true, \"textposition\": \"auto\", \"type\": \"bar\", \"x\": [\"834.8 -> 589.6\"], \"xaxis\": \"x\", \"y\": [29320.561981201172], \"yaxis\": \"y\"}, {\"alignmentgroup\": \"True\", \"customdata\": [[\"[TG(50:8),TG(49:1)]_FA14:0\", \"TAG\"]], \"hovertemplate\": \"Lipid=%{customdata[0]}<br>Transition=%{x}<br>Intensity=%{y}<br>Class=%{customdata[1]}<extra></extra>\", \"legendgroup\": \"[TG(50:8),TG(49:1)]_FA14:0\", \"marker\": {\"color\": \"#636efa\"}, \"name\": \"[TG(50:8),TG(49:1)]_FA14:0\", \"offsetgroup\": \"[TG(50:8),TG(49:1)]_FA14:0\", \"orientation\": \"v\", \"showlegend\": true, \"textposition\": \"auto\", \"type\": \"bar\", \"x\": [\"836.8 -> 591.6\"], \"xaxis\": \"x\", \"y\": [37507.4225769043], \"yaxis\": \"y\"}, {\"alignmentgroup\": \"True\", \"customdata\": [[\"[TG(50:7),TG(49:0)]_FA14:0\", \"TAG\"]], \"hovertemplate\": \"Lipid=%{customdata[0]}<br>Transition=%{x}<br>Intensity=%{y}<br>Class=%{customdata[1]}<extra></extra>\", \"legendgroup\": \"[TG(50:7),TG(49:0)]_FA14:0\", \"marker\": {\"color\": \"#EF553B\"}, \"name\": \"[TG(50:7),TG(49:0)]_FA14:0\", \"offsetgroup\": \"[TG(50:7),TG(49:0)]_FA14:0\", \"orientation\": \"v\", \"showlegend\": true, \"textposition\": \"auto\", \"type\": \"bar\", \"x\": [\"838.8 -> 593.6\"], \"xaxis\": \"x\", \"y\": [34488.222259521484], \"yaxis\": \"y\"}, {\"alignmentgroup\": \"True\", \"customdata\": [[\"[TG(50:6)]_FA14:0\", \"TAG\"]], \"hovertemplate\": \"Lipid=%{customdata[0]}<br>Transition=%{x}<br>Intensity=%{y}<br>Class=%{customdata[1]}<extra></extra>\", \"legendgroup\": \"[TG(50:6)]_FA14:0\", \"marker\": {\"color\": \"#00cc96\"}, \"name\": \"[TG(50:6)]_FA14:0\", \"offsetgroup\": \"[TG(50:6)]_FA14:0\", \"orientation\": \"v\", \"showlegend\": true, \"textposition\": \"auto\", \"type\": \"bar\", \"x\": [\"840.7 -> 595.5\"], \"xaxis\": \"x\", \"y\": [29315.282165527344], \"yaxis\": \"y\"}, {\"alignmentgroup\": \"True\", \"customdata\": [[\"[TG(50:5)]_FA14:0\", \"TAG\"]], \"hovertemplate\": \"Lipid=%{customdata[0]}<br>Transition=%{x}<br>Intensity=%{y}<br>Class=%{customdata[1]}<extra></extra>\", \"legendgroup\": \"[TG(50:5)]_FA14:0\", \"marker\": {\"color\": \"#ab63fa\"}, \"name\": \"[TG(50:5)]_FA14:0\", \"offsetgroup\": \"[TG(50:5)]_FA14:0\", \"orientation\": \"v\", \"showlegend\": true, \"textposition\": \"auto\", \"type\": \"bar\", \"x\": [\"842.7 -> 597.5\"], \"xaxis\": \"x\", \"y\": [35932.222259521484], \"yaxis\": \"y\"}, {\"alignmentgroup\": \"True\", \"customdata\": [[\"[TG(50:4)]_FA14:0\", \"TAG\"]], \"hovertemplate\": \"Lipid=%{customdata[0]}<br>Transition=%{x}<br>Intensity=%{y}<br>Class=%{customdata[1]}<extra></extra>\", \"legendgroup\": \"[TG(50:4)]_FA14:0\", \"marker\": {\"color\": \"#FFA15A\"}, \"name\": \"[TG(50:4)]_FA14:0\", \"offsetgroup\": \"[TG(50:4)]_FA14:0\", \"orientation\": \"v\", \"showlegend\": true, \"textposition\": \"auto\", \"type\": \"bar\", \"x\": [\"844.7 -> 599.5\"], \"xaxis\": \"x\", \"y\": [126118.92807006836], \"yaxis\": \"y\"}, {\"alignmentgroup\": \"True\", \"customdata\": [[\"[TG(50:3)]_FA14:0\", \"TAG\"]], \"hovertemplate\": \"Lipid=%{customdata[0]}<br>Transition=%{x}<br>Intensity=%{y}<br>Class=%{customdata[1]}<extra></extra>\", \"legendgroup\": \"[TG(50:3)]_FA14:0\", \"marker\": {\"color\": \"#19d3f3\"}, \"name\": \"[TG(50:3)]_FA14:0\", \"offsetgroup\": \"[TG(50:3)]_FA14:0\", \"orientation\": \"v\", \"showlegend\": true, \"textposition\": \"auto\", \"type\": \"bar\", \"x\": [\"846.8 -> 601.6\"], \"xaxis\": \"x\", \"y\": [432169.33502197266], \"yaxis\": \"y\"}, {\"alignmentgroup\": \"True\", \"customdata\": [[\"[TG(51:9),TG(50:2)]_FA14:0\", \"TAG\"]], \"hovertemplate\": \"Lipid=%{customdata[0]}<br>Transition=%{x}<br>Intensity=%{y}<br>Class=%{customdata[1]}<extra></extra>\", \"legendgroup\": \"[TG(51:9),TG(50:2)]_FA14:0\", \"marker\": {\"color\": \"#FF6692\"}, \"name\": \"[TG(51:9),TG(50:2)]_FA14:0\", \"offsetgroup\": \"[TG(51:9),TG(50:2)]_FA14:0\", \"orientation\": \"v\", \"showlegend\": true, \"textposition\": \"auto\", \"type\": \"bar\", \"x\": [\"848.8 -> 603.6\"], \"xaxis\": \"x\", \"y\": [501185.328125], \"yaxis\": \"y\"}, {\"alignmentgroup\": \"True\", \"customdata\": [[\"[TG(51:8),TG(50:1)]_FA14:0\", \"TAG\"]], \"hovertemplate\": \"Lipid=%{customdata[0]}<br>Transition=%{x}<br>Intensity=%{y}<br>Class=%{customdata[1]}<extra></extra>\", \"legendgroup\": \"[TG(51:8),TG(50:1)]_FA14:0\", \"marker\": {\"color\": \"#B6E880\"}, \"name\": \"[TG(51:8),TG(50:1)]_FA14:0\", \"offsetgroup\": \"[TG(51:8),TG(50:1)]_FA14:0\", \"orientation\": \"v\", \"showlegend\": true, \"textposition\": \"auto\", \"type\": \"bar\", \"x\": [\"850.8 -> 605.6\"], \"xaxis\": \"x\", \"y\": [86953.32531738281], \"yaxis\": \"y\"}, {\"alignmentgroup\": \"True\", \"customdata\": [[\"[TG(51:7),TG(50:0)]_FA14:0\", \"TAG\"]], \"hovertemplate\": \"Lipid=%{customdata[0]}<br>Transition=%{x}<br>Intensity=%{y}<br>Class=%{customdata[1]}<extra></extra>\", \"legendgroup\": \"[TG(51:7),TG(50:0)]_FA14:0\", \"marker\": {\"color\": \"#FF97FF\"}, \"name\": \"[TG(51:7),TG(50:0)]_FA14:0\", \"offsetgroup\": \"[TG(51:7),TG(50:0)]_FA14:0\", \"orientation\": \"v\", \"showlegend\": true, \"textposition\": \"auto\", \"type\": \"bar\", \"x\": [\"852.8 -> 607.6\"], \"xaxis\": \"x\", \"y\": [36228.10238647461], \"yaxis\": \"y\"}, {\"alignmentgroup\": \"True\", \"customdata\": [[\"[TG(51:6)]_FA14:0\", \"TAG\"]], \"hovertemplate\": \"Lipid=%{customdata[0]}<br>Transition=%{x}<br>Intensity=%{y}<br>Class=%{customdata[1]}<extra></extra>\", \"legendgroup\": \"[TG(51:6)]_FA14:0\", \"marker\": {\"color\": \"#FECB52\"}, \"name\": \"[TG(51:6)]_FA14:0\", \"offsetgroup\": \"[TG(51:6)]_FA14:0\", \"orientation\": \"v\", \"showlegend\": true, \"textposition\": \"auto\", \"type\": \"bar\", \"x\": [\"854.7 -> 609.5\"], \"xaxis\": \"x\", \"y\": [49931.743591308594], \"yaxis\": \"y\"}, {\"alignmentgroup\": \"True\", \"customdata\": [[\"[TG(51:5)]_FA14:0\", \"TAG\"]], \"hovertemplate\": \"Lipid=%{customdata[0]}<br>Transition=%{x}<br>Intensity=%{y}<br>Class=%{customdata[1]}<extra></extra>\", \"legendgroup\": \"[TG(51:5)]_FA14:0\", \"marker\": {\"color\": \"#636efa\"}, \"name\": \"[TG(51:5)]_FA14:0\", \"offsetgroup\": \"[TG(51:5)]_FA14:0\", \"orientation\": \"v\", \"showlegend\": true, \"textposition\": \"auto\", \"type\": \"bar\", \"x\": [\"856.7 -> 611.5\"], \"xaxis\": \"x\", \"y\": [23814.681854248047], \"yaxis\": \"y\"}, {\"alignmentgroup\": \"True\", \"customdata\": [[\"[TG(51:4)]_FA14:0\", \"TAG\"]], \"hovertemplate\": \"Lipid=%{customdata[0]}<br>Transition=%{x}<br>Intensity=%{y}<br>Class=%{customdata[1]}<extra></extra>\", \"legendgroup\": \"[TG(51:4)]_FA14:0\", \"marker\": {\"color\": \"#EF553B\"}, \"name\": \"[TG(51:4)]_FA14:0\", \"offsetgroup\": \"[TG(51:4)]_FA14:0\", \"orientation\": \"v\", \"showlegend\": true, \"textposition\": \"auto\", \"type\": \"bar\", \"x\": [\"858.8 -> 613.6\"], \"xaxis\": \"x\", \"y\": [23092.781524658203], \"yaxis\": \"y\"}, {\"alignmentgroup\": \"True\", \"customdata\": [[\"[TG(52:10),TG(51:3)]_FA14:0\", \"TAG\"]], \"hovertemplate\": \"Lipid=%{customdata[0]}<br>Transition=%{x}<br>Intensity=%{y}<br>Class=%{customdata[1]}<extra></extra>\", \"legendgroup\": \"[TG(52:10),TG(51:3)]_FA14:0\", \"marker\": {\"color\": \"#00cc96\"}, \"name\": \"[TG(52:10),TG(51:3)]_FA14:0\", \"offsetgroup\": \"[TG(52:10),TG(51:3)]_FA14:0\", \"orientation\": \"v\", \"showlegend\": true, \"textposition\": \"auto\", \"type\": \"bar\", \"x\": [\"860.8 -> 615.6\"], \"xaxis\": \"x\", \"y\": [28172.081909179688], \"yaxis\": \"y\"}, {\"alignmentgroup\": \"True\", \"customdata\": [[\"[TG(52:9),TG(51:2)]_FA14:0\", \"TAG\"]], \"hovertemplate\": \"Lipid=%{customdata[0]}<br>Transition=%{x}<br>Intensity=%{y}<br>Class=%{customdata[1]}<extra></extra>\", \"legendgroup\": \"[TG(52:9),TG(51:2)]_FA14:0\", \"marker\": {\"color\": \"#ab63fa\"}, \"name\": \"[TG(52:9),TG(51:2)]_FA14:0\", \"offsetgroup\": \"[TG(52:9),TG(51:2)]_FA14:0\", \"orientation\": \"v\", \"showlegend\": true, \"textposition\": \"auto\", \"type\": \"bar\", \"x\": [\"862.8 -> 617.6\"], \"xaxis\": \"x\", \"y\": [41892.44287109375], \"yaxis\": \"y\"}, {\"alignmentgroup\": \"True\", \"customdata\": [[\"[TG(52:8),TG(51:1)]_FA14:0\", \"TAG\"]], \"hovertemplate\": \"Lipid=%{customdata[0]}<br>Transition=%{x}<br>Intensity=%{y}<br>Class=%{customdata[1]}<extra></extra>\", \"legendgroup\": \"[TG(52:8),TG(51:1)]_FA14:0\", \"marker\": {\"color\": \"#FFA15A\"}, \"name\": \"[TG(52:8),TG(51:1)]_FA14:0\", \"offsetgroup\": \"[TG(52:8),TG(51:1)]_FA14:0\", \"orientation\": \"v\", \"showlegend\": true, \"textposition\": \"auto\", \"type\": \"bar\", \"x\": [\"864.8 -> 619.6\"], \"xaxis\": \"x\", \"y\": [46549.702728271484], \"yaxis\": \"y\"}, {\"alignmentgroup\": \"True\", \"customdata\": [[\"[TG(52:7),TG(51:0)]_FA14:0\", \"TAG\"]], \"hovertemplate\": \"Lipid=%{customdata[0]}<br>Transition=%{x}<br>Intensity=%{y}<br>Class=%{customdata[1]}<extra></extra>\", \"legendgroup\": \"[TG(52:7),TG(51:0)]_FA14:0\", \"marker\": {\"color\": \"#19d3f3\"}, \"name\": \"[TG(52:7),TG(51:0)]_FA14:0\", \"offsetgroup\": \"[TG(52:7),TG(51:0)]_FA14:0\", \"orientation\": \"v\", \"showlegend\": true, \"textposition\": \"auto\", \"type\": \"bar\", \"x\": [\"866.8 -> 621.6\"], \"xaxis\": \"x\", \"y\": [34083.9026184082], \"yaxis\": \"y\"}, {\"alignmentgroup\": \"True\", \"customdata\": [[\"[TG(52:6)]_FA14:0\", \"TAG\"]], \"hovertemplate\": \"Lipid=%{customdata[0]}<br>Transition=%{x}<br>Intensity=%{y}<br>Class=%{customdata[1]}<extra></extra>\", \"legendgroup\": \"[TG(52:6)]_FA14:0\", \"marker\": {\"color\": \"#FF6692\"}, \"name\": \"[TG(52:6)]_FA14:0\", \"offsetgroup\": \"[TG(52:6)]_FA14:0\", \"orientation\": \"v\", \"showlegend\": true, \"textposition\": \"auto\", \"type\": \"bar\", \"x\": [\"868.7 -> 623.5\"], \"xaxis\": \"x\", \"y\": [40384.46292114258], \"yaxis\": \"y\"}, {\"alignmentgroup\": \"True\", \"customdata\": [[\"[TG(52:5)]_FA14:0\", \"TAG\"]], \"hovertemplate\": \"Lipid=%{customdata[0]}<br>Transition=%{x}<br>Intensity=%{y}<br>Class=%{customdata[1]}<extra></extra>\", \"legendgroup\": \"[TG(52:5)]_FA14:0\", \"marker\": {\"color\": \"#B6E880\"}, \"name\": \"[TG(52:5)]_FA14:0\", \"offsetgroup\": \"[TG(52:5)]_FA14:0\", \"orientation\": \"v\", \"showlegend\": true, \"textposition\": \"auto\", \"type\": \"bar\", \"x\": [\"870.8 -> 625.6\"], \"xaxis\": \"x\", \"y\": [44110.603759765625], \"yaxis\": \"y\"}, {\"alignmentgroup\": \"True\", \"customdata\": [[\"[TG(52:4)]_FA14:0\", \"TAG\"]], \"hovertemplate\": \"Lipid=%{customdata[0]}<br>Transition=%{x}<br>Intensity=%{y}<br>Class=%{customdata[1]}<extra></extra>\", \"legendgroup\": \"[TG(52:4)]_FA14:0\", \"marker\": {\"color\": \"#FF97FF\"}, \"name\": \"[TG(52:4)]_FA14:0\", \"offsetgroup\": \"[TG(52:4)]_FA14:0\", \"orientation\": \"v\", \"showlegend\": true, \"textposition\": \"auto\", \"type\": \"bar\", \"x\": [\"872.8 -> 627.6\"], \"xaxis\": \"x\", \"y\": [42770.922912597656], \"yaxis\": \"y\"}, {\"alignmentgroup\": \"True\", \"customdata\": [[\"[TG(53:10),TG(52:3)]_FA14:0\", \"TAG\"]], \"hovertemplate\": \"Lipid=%{customdata[0]}<br>Transition=%{x}<br>Intensity=%{y}<br>Class=%{customdata[1]}<extra></extra>\", \"legendgroup\": \"[TG(53:10),TG(52:3)]_FA14:0\", \"marker\": {\"color\": \"#FECB52\"}, \"name\": \"[TG(53:10),TG(52:3)]_FA14:0\", \"offsetgroup\": \"[TG(53:10),TG(52:3)]_FA14:0\", \"orientation\": \"v\", \"showlegend\": true, \"textposition\": \"auto\", \"type\": \"bar\", \"x\": [\"874.8 -> 629.6\"], \"xaxis\": \"x\", \"y\": [53848.18371582031], \"yaxis\": \"y\"}, {\"alignmentgroup\": \"True\", \"customdata\": [[\"[TG(53:9),TG(52:2)]_FA14:0\", \"TAG\"]], \"hovertemplate\": \"Lipid=%{customdata[0]}<br>Transition=%{x}<br>Intensity=%{y}<br>Class=%{customdata[1]}<extra></extra>\", \"legendgroup\": \"[TG(53:9),TG(52:2)]_FA14:0\", \"marker\": {\"color\": \"#636efa\"}, \"name\": \"[TG(53:9),TG(52:2)]_FA14:0\", \"offsetgroup\": \"[TG(53:9),TG(52:2)]_FA14:0\", \"orientation\": \"v\", \"showlegend\": true, \"textposition\": \"auto\", \"type\": \"bar\", \"x\": [\"876.8 -> 631.6\"], \"xaxis\": \"x\", \"y\": [56664.44418334961], \"yaxis\": \"y\"}, {\"alignmentgroup\": \"True\", \"customdata\": [[\"[TG(53:8),TG(52:1)]_FA14:0\", \"TAG\"]], \"hovertemplate\": \"Lipid=%{customdata[0]}<br>Transition=%{x}<br>Intensity=%{y}<br>Class=%{customdata[1]}<extra></extra>\", \"legendgroup\": \"[TG(53:8),TG(52:1)]_FA14:0\", \"marker\": {\"color\": \"#EF553B\"}, \"name\": \"[TG(53:8),TG(52:1)]_FA14:0\", \"offsetgroup\": \"[TG(53:8),TG(52:1)]_FA14:0\", \"orientation\": \"v\", \"showlegend\": true, \"textposition\": \"auto\", \"type\": \"bar\", \"x\": [\"878.8 -> 633.6\"], \"xaxis\": \"x\", \"y\": [47311.622985839844], \"yaxis\": \"y\"}, {\"alignmentgroup\": \"True\", \"customdata\": [[\"[TG(53:7),TG(52:0)]_FA14:0\", \"TAG\"]], \"hovertemplate\": \"Lipid=%{customdata[0]}<br>Transition=%{x}<br>Intensity=%{y}<br>Class=%{customdata[1]}<extra></extra>\", \"legendgroup\": \"[TG(53:7),TG(52:0)]_FA14:0\", \"marker\": {\"color\": \"#00cc96\"}, \"name\": \"[TG(53:7),TG(52:0)]_FA14:0\", \"offsetgroup\": \"[TG(53:7),TG(52:0)]_FA14:0\", \"orientation\": \"v\", \"showlegend\": true, \"textposition\": \"auto\", \"type\": \"bar\", \"x\": [\"880.8 -> 635.6\"], \"xaxis\": \"x\", \"y\": [30805.982299804688], \"yaxis\": \"y\"}, {\"alignmentgroup\": \"True\", \"customdata\": [[\"[TG(53:6)]_FA14:0\", \"TAG\"]], \"hovertemplate\": \"Lipid=%{customdata[0]}<br>Transition=%{x}<br>Intensity=%{y}<br>Class=%{customdata[1]}<extra></extra>\", \"legendgroup\": \"[TG(53:6)]_FA14:0\", \"marker\": {\"color\": \"#ab63fa\"}, \"name\": \"[TG(53:6)]_FA14:0\", \"offsetgroup\": \"[TG(53:6)]_FA14:0\", \"orientation\": \"v\", \"showlegend\": true, \"textposition\": \"auto\", \"type\": \"bar\", \"x\": [\"882.8 -> 637.6\"], \"xaxis\": \"x\", \"y\": [26174.721771240234], \"yaxis\": \"y\"}, {\"alignmentgroup\": \"True\", \"customdata\": [[\"[TG(54:12),TG(53:5)]_FA14:0\", \"TAG\"]], \"hovertemplate\": \"Lipid=%{customdata[0]}<br>Transition=%{x}<br>Intensity=%{y}<br>Class=%{customdata[1]}<extra></extra>\", \"legendgroup\": \"[TG(54:12),TG(53:5)]_FA14:0\", \"marker\": {\"color\": \"#FFA15A\"}, \"name\": \"[TG(54:12),TG(53:5)]_FA14:0\", \"offsetgroup\": \"[TG(54:12),TG(53:5)]_FA14:0\", \"orientation\": \"v\", \"showlegend\": true, \"textposition\": \"auto\", \"type\": \"bar\", \"x\": [\"884.8 -> 639.6\"], \"xaxis\": \"x\", \"y\": [25399.10171508789], \"yaxis\": \"y\"}, {\"alignmentgroup\": \"True\", \"customdata\": [[\"[TG(54:11),TG(53:4)]_FA14:0\", \"TAG\"]], \"hovertemplate\": \"Lipid=%{customdata[0]}<br>Transition=%{x}<br>Intensity=%{y}<br>Class=%{customdata[1]}<extra></extra>\", \"legendgroup\": \"[TG(54:11),TG(53:4)]_FA14:0\", \"marker\": {\"color\": \"#19d3f3\"}, \"name\": \"[TG(54:11),TG(53:4)]_FA14:0\", \"offsetgroup\": \"[TG(54:11),TG(53:4)]_FA14:0\", \"orientation\": \"v\", \"showlegend\": true, \"textposition\": \"auto\", \"type\": \"bar\", \"x\": [\"886.8 -> 641.6\"], \"xaxis\": \"x\", \"y\": [25004.141693115234], \"yaxis\": \"y\"}, {\"alignmentgroup\": \"True\", \"customdata\": [[\"[TG(54:10),TG(53:3)]_FA14:0\", \"TAG\"]], \"hovertemplate\": \"Lipid=%{customdata[0]}<br>Transition=%{x}<br>Intensity=%{y}<br>Class=%{customdata[1]}<extra></extra>\", \"legendgroup\": \"[TG(54:10),TG(53:3)]_FA14:0\", \"marker\": {\"color\": \"#FF6692\"}, \"name\": \"[TG(54:10),TG(53:3)]_FA14:0\", \"offsetgroup\": \"[TG(54:10),TG(53:3)]_FA14:0\", \"orientation\": \"v\", \"showlegend\": true, \"textposition\": \"auto\", \"type\": \"bar\", \"x\": [\"888.8 -> 643.6\"], \"xaxis\": \"x\", \"y\": [31147.182556152344], \"yaxis\": \"y\"}, {\"alignmentgroup\": \"True\", \"customdata\": [[\"[TG(54:9),TG(53:2)]_FA14:0\", \"TAG\"]], \"hovertemplate\": \"Lipid=%{customdata[0]}<br>Transition=%{x}<br>Intensity=%{y}<br>Class=%{customdata[1]}<extra></extra>\", \"legendgroup\": \"[TG(54:9),TG(53:2)]_FA14:0\", \"marker\": {\"color\": \"#B6E880\"}, \"name\": \"[TG(54:9),TG(53:2)]_FA14:0\", \"offsetgroup\": \"[TG(54:9),TG(53:2)]_FA14:0\", \"orientation\": \"v\", \"showlegend\": true, \"textposition\": \"auto\", \"type\": \"bar\", \"x\": [\"890.8 -> 645.6\"], \"xaxis\": \"x\", \"y\": [38980.08303833008], \"yaxis\": \"y\"}, {\"alignmentgroup\": \"True\", \"customdata\": [[\"[TG(54:8),TG(53:1)]_FA14:0\", \"TAG\"]], \"hovertemplate\": \"Lipid=%{customdata[0]}<br>Transition=%{x}<br>Intensity=%{y}<br>Class=%{customdata[1]}<extra></extra>\", \"legendgroup\": \"[TG(54:8),TG(53:1)]_FA14:0\", \"marker\": {\"color\": \"#FF97FF\"}, \"name\": \"[TG(54:8),TG(53:1)]_FA14:0\", \"offsetgroup\": \"[TG(54:8),TG(53:1)]_FA14:0\", \"orientation\": \"v\", \"showlegend\": true, \"textposition\": \"auto\", \"type\": \"bar\", \"x\": [\"892.8 -> 647.6\"], \"xaxis\": \"x\", \"y\": [46906.80307006836], \"yaxis\": \"y\"}, {\"alignmentgroup\": \"True\", \"customdata\": [[\"[TG(54:7),TG(53:0)]_FA14:0\", \"TAG\"]], \"hovertemplate\": \"Lipid=%{customdata[0]}<br>Transition=%{x}<br>Intensity=%{y}<br>Class=%{customdata[1]}<extra></extra>\", \"legendgroup\": \"[TG(54:7),TG(53:0)]_FA14:0\", \"marker\": {\"color\": \"#FECB52\"}, \"name\": \"[TG(54:7),TG(53:0)]_FA14:0\", \"offsetgroup\": \"[TG(54:7),TG(53:0)]_FA14:0\", \"orientation\": \"v\", \"showlegend\": true, \"textposition\": \"auto\", \"type\": \"bar\", \"x\": [\"894.8 -> 649.6\"], \"xaxis\": \"x\", \"y\": [38897.4231262207], \"yaxis\": \"y\"}, {\"alignmentgroup\": \"True\", \"customdata\": [[\"[TG(54:6)]_FA14:0\", \"TAG\"]], \"hovertemplate\": \"Lipid=%{customdata[0]}<br>Transition=%{x}<br>Intensity=%{y}<br>Class=%{customdata[1]}<extra></extra>\", \"legendgroup\": \"[TG(54:6)]_FA14:0\", \"marker\": {\"color\": \"#636efa\"}, \"name\": \"[TG(54:6)]_FA14:0\", \"offsetgroup\": \"[TG(54:6)]_FA14:0\", \"orientation\": \"v\", \"showlegend\": true, \"textposition\": \"auto\", \"type\": \"bar\", \"x\": [\"896.8 -> 651.6\"], \"xaxis\": \"x\", \"y\": [73665.94470214844], \"yaxis\": \"y\"}, {\"alignmentgroup\": \"True\", \"customdata\": [[\"[TG(54:5)]_FA14:0\", \"TAG\"]], \"hovertemplate\": \"Lipid=%{customdata[0]}<br>Transition=%{x}<br>Intensity=%{y}<br>Class=%{customdata[1]}<extra></extra>\", \"legendgroup\": \"[TG(54:5)]_FA14:0\", \"marker\": {\"color\": \"#EF553B\"}, \"name\": \"[TG(54:5)]_FA14:0\", \"offsetgroup\": \"[TG(54:5)]_FA14:0\", \"orientation\": \"v\", \"showlegend\": true, \"textposition\": \"auto\", \"type\": \"bar\", \"x\": [\"898.8 -> 653.6\"], \"xaxis\": \"x\", \"y\": [41898.76268005371], \"yaxis\": \"y\"}, {\"alignmentgroup\": \"True\", \"customdata\": [[\"[TG(55:11),TG(54:4)]_FA14:0\", \"TAG\"]], \"hovertemplate\": \"Lipid=%{customdata[0]}<br>Transition=%{x}<br>Intensity=%{y}<br>Class=%{customdata[1]}<extra></extra>\", \"legendgroup\": \"[TG(55:11),TG(54:4)]_FA14:0\", \"marker\": {\"color\": \"#00cc96\"}, \"name\": \"[TG(55:11),TG(54:4)]_FA14:0\", \"offsetgroup\": \"[TG(55:11),TG(54:4)]_FA14:0\", \"orientation\": \"v\", \"showlegend\": true, \"textposition\": \"auto\", \"type\": \"bar\", \"x\": [\"900.8 -> 655.6\"], \"xaxis\": \"x\", \"y\": [28414.301971435547], \"yaxis\": \"y\"}, {\"alignmentgroup\": \"True\", \"customdata\": [[\"[TG(55:10),TG(54:3)]_FA14:0\", \"TAG\"]], \"hovertemplate\": \"Lipid=%{customdata[0]}<br>Transition=%{x}<br>Intensity=%{y}<br>Class=%{customdata[1]}<extra></extra>\", \"legendgroup\": \"[TG(55:10),TG(54:3)]_FA14:0\", \"marker\": {\"color\": \"#ab63fa\"}, \"name\": \"[TG(55:10),TG(54:3)]_FA14:0\", \"offsetgroup\": \"[TG(55:10),TG(54:3)]_FA14:0\", \"orientation\": \"v\", \"showlegend\": true, \"textposition\": \"auto\", \"type\": \"bar\", \"x\": [\"902.8 -> 657.6\"], \"xaxis\": \"x\", \"y\": [30718.442108154297], \"yaxis\": \"y\"}, {\"alignmentgroup\": \"True\", \"customdata\": [[\"[TG(55:9),TG(54:2)]_FA14:0\", \"TAG\"]], \"hovertemplate\": \"Lipid=%{customdata[0]}<br>Transition=%{x}<br>Intensity=%{y}<br>Class=%{customdata[1]}<extra></extra>\", \"legendgroup\": \"[TG(55:9),TG(54:2)]_FA14:0\", \"marker\": {\"color\": \"#FFA15A\"}, \"name\": \"[TG(55:9),TG(54:2)]_FA14:0\", \"offsetgroup\": \"[TG(55:9),TG(54:2)]_FA14:0\", \"orientation\": \"v\", \"showlegend\": true, \"textposition\": \"auto\", \"type\": \"bar\", \"x\": [\"904.8 -> 659.6\"], \"xaxis\": \"x\", \"y\": [33424.282623291016], \"yaxis\": \"y\"}, {\"alignmentgroup\": \"True\", \"customdata\": [[\"[TG(55:8),TG(54:1)]_FA14:0\", \"TAG\"]], \"hovertemplate\": \"Lipid=%{customdata[0]}<br>Transition=%{x}<br>Intensity=%{y}<br>Class=%{customdata[1]}<extra></extra>\", \"legendgroup\": \"[TG(55:8),TG(54:1)]_FA14:0\", \"marker\": {\"color\": \"#19d3f3\"}, \"name\": \"[TG(55:8),TG(54:1)]_FA14:0\", \"offsetgroup\": \"[TG(55:8),TG(54:1)]_FA14:0\", \"orientation\": \"v\", \"showlegend\": true, \"textposition\": \"auto\", \"type\": \"bar\", \"x\": [\"906.8 -> 661.6\"], \"xaxis\": \"x\", \"y\": [29007.38198852539], \"yaxis\": \"y\"}, {\"alignmentgroup\": \"True\", \"customdata\": [[\"[TG(55:7),TG(54:0)]_FA14:0\", \"TAG\"]], \"hovertemplate\": \"Lipid=%{customdata[0]}<br>Transition=%{x}<br>Intensity=%{y}<br>Class=%{customdata[1]}<extra></extra>\", \"legendgroup\": \"[TG(55:7),TG(54:0)]_FA14:0\", \"marker\": {\"color\": \"#FF6692\"}, \"name\": \"[TG(55:7),TG(54:0)]_FA14:0\", \"offsetgroup\": \"[TG(55:7),TG(54:0)]_FA14:0\", \"orientation\": \"v\", \"showlegend\": true, \"textposition\": \"auto\", \"type\": \"bar\", \"x\": [\"908.9 -> 663.7\"], \"xaxis\": \"x\", \"y\": [35497.86260986328], \"yaxis\": \"y\"}, {\"alignmentgroup\": \"True\", \"customdata\": [[\"[TG(56:13),TG(55:6)]_FA14:0\", \"TAG\"]], \"hovertemplate\": \"Lipid=%{customdata[0]}<br>Transition=%{x}<br>Intensity=%{y}<br>Class=%{customdata[1]}<extra></extra>\", \"legendgroup\": \"[TG(56:13),TG(55:6)]_FA14:0\", \"marker\": {\"color\": \"#B6E880\"}, \"name\": \"[TG(56:13),TG(55:6)]_FA14:0\", \"offsetgroup\": \"[TG(56:13),TG(55:6)]_FA14:0\", \"orientation\": \"v\", \"showlegend\": true, \"textposition\": \"auto\", \"type\": \"bar\", \"x\": [\"910.8 -> 665.6\"], \"xaxis\": \"x\", \"y\": [26408.881866455078], \"yaxis\": \"y\"}, {\"alignmentgroup\": \"True\", \"customdata\": [[\"[TG(56:12),TG(55:5)]_FA14:0\", \"TAG\"]], \"hovertemplate\": \"Lipid=%{customdata[0]}<br>Transition=%{x}<br>Intensity=%{y}<br>Class=%{customdata[1]}<extra></extra>\", \"legendgroup\": \"[TG(56:12),TG(55:5)]_FA14:0\", \"marker\": {\"color\": \"#FF97FF\"}, \"name\": \"[TG(56:12),TG(55:5)]_FA14:0\", \"offsetgroup\": \"[TG(56:12),TG(55:5)]_FA14:0\", \"orientation\": \"v\", \"showlegend\": true, \"textposition\": \"auto\", \"type\": \"bar\", \"x\": [\"912.8 -> 667.6\"], \"xaxis\": \"x\", \"y\": [22494.82162475586], \"yaxis\": \"y\"}, {\"alignmentgroup\": \"True\", \"customdata\": [[\"[TG(56:11),TG(55:4)]_FA14:0\", \"TAG\"]], \"hovertemplate\": \"Lipid=%{customdata[0]}<br>Transition=%{x}<br>Intensity=%{y}<br>Class=%{customdata[1]}<extra></extra>\", \"legendgroup\": \"[TG(56:11),TG(55:4)]_FA14:0\", \"marker\": {\"color\": \"#FECB52\"}, \"name\": \"[TG(56:11),TG(55:4)]_FA14:0\", \"offsetgroup\": \"[TG(56:11),TG(55:4)]_FA14:0\", \"orientation\": \"v\", \"showlegend\": true, \"textposition\": \"auto\", \"type\": \"bar\", \"x\": [\"914.8 -> 669.6\"], \"xaxis\": \"x\", \"y\": [25690.061798095703], \"yaxis\": \"y\"}, {\"alignmentgroup\": \"True\", \"customdata\": [[\"[TG(56:10),TG(55:3)]_FA14:0\", \"TAG\"]], \"hovertemplate\": \"Lipid=%{customdata[0]}<br>Transition=%{x}<br>Intensity=%{y}<br>Class=%{customdata[1]}<extra></extra>\", \"legendgroup\": \"[TG(56:10),TG(55:3)]_FA14:0\", \"marker\": {\"color\": \"#636efa\"}, \"name\": \"[TG(56:10),TG(55:3)]_FA14:0\", \"offsetgroup\": \"[TG(56:10),TG(55:3)]_FA14:0\", \"orientation\": \"v\", \"showlegend\": true, \"textposition\": \"auto\", \"type\": \"bar\", \"x\": [\"916.8 -> 671.6\"], \"xaxis\": \"x\", \"y\": [29631.141998291016], \"yaxis\": \"y\"}, {\"alignmentgroup\": \"True\", \"customdata\": [[\"[TG(56:9),TG(55:2)]_FA14:0\", \"TAG\"]], \"hovertemplate\": \"Lipid=%{customdata[0]}<br>Transition=%{x}<br>Intensity=%{y}<br>Class=%{customdata[1]}<extra></extra>\", \"legendgroup\": \"[TG(56:9),TG(55:2)]_FA14:0\", \"marker\": {\"color\": \"#EF553B\"}, \"name\": \"[TG(56:9),TG(55:2)]_FA14:0\", \"offsetgroup\": \"[TG(56:9),TG(55:2)]_FA14:0\", \"orientation\": \"v\", \"showlegend\": true, \"textposition\": \"auto\", \"type\": \"bar\", \"x\": [\"918.8 -> 673.6\"], \"xaxis\": \"x\", \"y\": [33327.52235412598], \"yaxis\": \"y\"}, {\"alignmentgroup\": \"True\", \"customdata\": [[\"[TG(56:8),TG(55:1)]_FA14:0\", \"TAG\"]], \"hovertemplate\": \"Lipid=%{customdata[0]}<br>Transition=%{x}<br>Intensity=%{y}<br>Class=%{customdata[1]}<extra></extra>\", \"legendgroup\": \"[TG(56:8),TG(55:1)]_FA14:0\", \"marker\": {\"color\": \"#00cc96\"}, \"name\": \"[TG(56:8),TG(55:1)]_FA14:0\", \"offsetgroup\": \"[TG(56:8),TG(55:1)]_FA14:0\", \"orientation\": \"v\", \"showlegend\": true, \"textposition\": \"auto\", \"type\": \"bar\", \"x\": [\"920.9 -> 675.7\"], \"xaxis\": \"x\", \"y\": [29645.14239501953], \"yaxis\": \"y\"}, {\"alignmentgroup\": \"True\", \"customdata\": [[\"[TG(56:7),TG(55:0)]_FA14:0\", \"TAG\"]], \"hovertemplate\": \"Lipid=%{customdata[0]}<br>Transition=%{x}<br>Intensity=%{y}<br>Class=%{customdata[1]}<extra></extra>\", \"legendgroup\": \"[TG(56:7),TG(55:0)]_FA14:0\", \"marker\": {\"color\": \"#ab63fa\"}, \"name\": \"[TG(56:7),TG(55:0)]_FA14:0\", \"offsetgroup\": \"[TG(56:7),TG(55:0)]_FA14:0\", \"orientation\": \"v\", \"showlegend\": true, \"textposition\": \"auto\", \"type\": \"bar\", \"x\": [\"922.9 -> 677.7\"], \"xaxis\": \"x\", \"y\": [23936.88168334961], \"yaxis\": \"y\"}, {\"alignmentgroup\": \"True\", \"customdata\": [[\"[TG(56:6)]_FA14:0\", \"TAG\"]], \"hovertemplate\": \"Lipid=%{customdata[0]}<br>Transition=%{x}<br>Intensity=%{y}<br>Class=%{customdata[1]}<extra></extra>\", \"legendgroup\": \"[TG(56:6)]_FA14:0\", \"marker\": {\"color\": \"#FFA15A\"}, \"name\": \"[TG(56:6)]_FA14:0\", \"offsetgroup\": \"[TG(56:6)]_FA14:0\", \"orientation\": \"v\", \"showlegend\": true, \"textposition\": \"auto\", \"type\": \"bar\", \"x\": [\"924.8 -> 679.6\"], \"xaxis\": \"x\", \"y\": [21959.361694335938], \"yaxis\": \"y\"}, {\"alignmentgroup\": \"True\", \"customdata\": [[\"[TG(57:12),TG(56:5)]_FA14:0\", \"TAG\"]], \"hovertemplate\": \"Lipid=%{customdata[0]}<br>Transition=%{x}<br>Intensity=%{y}<br>Class=%{customdata[1]}<extra></extra>\", \"legendgroup\": \"[TG(57:12),TG(56:5)]_FA14:0\", \"marker\": {\"color\": \"#19d3f3\"}, \"name\": \"[TG(57:12),TG(56:5)]_FA14:0\", \"offsetgroup\": \"[TG(57:12),TG(56:5)]_FA14:0\", \"orientation\": \"v\", \"showlegend\": true, \"textposition\": \"auto\", \"type\": \"bar\", \"x\": [\"926.8 -> 681.6\"], \"xaxis\": \"x\", \"y\": [20401.881622314453], \"yaxis\": \"y\"}, {\"alignmentgroup\": \"True\", \"customdata\": [[\"[TG(57:11),TG(56:4)]_FA14:0\", \"TAG\"]], \"hovertemplate\": \"Lipid=%{customdata[0]}<br>Transition=%{x}<br>Intensity=%{y}<br>Class=%{customdata[1]}<extra></extra>\", \"legendgroup\": \"[TG(57:11),TG(56:4)]_FA14:0\", \"marker\": {\"color\": \"#FF6692\"}, \"name\": \"[TG(57:11),TG(56:4)]_FA14:0\", \"offsetgroup\": \"[TG(57:11),TG(56:4)]_FA14:0\", \"orientation\": \"v\", \"showlegend\": true, \"textposition\": \"auto\", \"type\": \"bar\", \"x\": [\"928.8 -> 683.6\"], \"xaxis\": \"x\", \"y\": [20398.84147644043], \"yaxis\": \"y\"}, {\"alignmentgroup\": \"True\", \"customdata\": [[\"[TG(57:10),TG(56:3)]_FA14:0\", \"TAG\"]], \"hovertemplate\": \"Lipid=%{customdata[0]}<br>Transition=%{x}<br>Intensity=%{y}<br>Class=%{customdata[1]}<extra></extra>\", \"legendgroup\": \"[TG(57:10),TG(56:3)]_FA14:0\", \"marker\": {\"color\": \"#B6E880\"}, \"name\": \"[TG(57:10),TG(56:3)]_FA14:0\", \"offsetgroup\": \"[TG(57:10),TG(56:3)]_FA14:0\", \"orientation\": \"v\", \"showlegend\": true, \"textposition\": \"auto\", \"type\": \"bar\", \"x\": [\"930.8 -> 685.6\"], \"xaxis\": \"x\", \"y\": [25416.421936035156], \"yaxis\": \"y\"}, {\"alignmentgroup\": \"True\", \"customdata\": [[\"[TG(57:9),TG(56:2)]_FA14:0\", \"TAG\"]], \"hovertemplate\": \"Lipid=%{customdata[0]}<br>Transition=%{x}<br>Intensity=%{y}<br>Class=%{customdata[1]}<extra></extra>\", \"legendgroup\": \"[TG(57:9),TG(56:2)]_FA14:0\", \"marker\": {\"color\": \"#FF97FF\"}, \"name\": \"[TG(57:9),TG(56:2)]_FA14:0\", \"offsetgroup\": \"[TG(57:9),TG(56:2)]_FA14:0\", \"orientation\": \"v\", \"showlegend\": true, \"textposition\": \"auto\", \"type\": \"bar\", \"x\": [\"932.9 -> 687.7\"], \"xaxis\": \"x\", \"y\": [22382.361602783203], \"yaxis\": \"y\"}, {\"alignmentgroup\": \"True\", \"customdata\": [[\"[TG(57:8),TG(56:1)]_FA14:0\", \"TAG\"]], \"hovertemplate\": \"Lipid=%{customdata[0]}<br>Transition=%{x}<br>Intensity=%{y}<br>Class=%{customdata[1]}<extra></extra>\", \"legendgroup\": \"[TG(57:8),TG(56:1)]_FA14:0\", \"marker\": {\"color\": \"#FECB52\"}, \"name\": \"[TG(57:8),TG(56:1)]_FA14:0\", \"offsetgroup\": \"[TG(57:8),TG(56:1)]_FA14:0\", \"orientation\": \"v\", \"showlegend\": true, \"textposition\": \"auto\", \"type\": \"bar\", \"x\": [\"934.9 -> 689.7\"], \"xaxis\": \"x\", \"y\": [19609.461395263672], \"yaxis\": \"y\"}, {\"alignmentgroup\": \"True\", \"customdata\": [[\"[TG(58:14),TG(57:7),TG(56:0)]_FA14:0\", \"TAG\"]], \"hovertemplate\": \"Lipid=%{customdata[0]}<br>Transition=%{x}<br>Intensity=%{y}<br>Class=%{customdata[1]}<extra></extra>\", \"legendgroup\": \"[TG(58:14),TG(57:7),TG(56:0)]_FA14:0\", \"marker\": {\"color\": \"#636efa\"}, \"name\": \"[TG(58:14),TG(57:7),TG(56:0)]_FA14:0\", \"offsetgroup\": \"[TG(58:14),TG(57:7),TG(56:0)]_FA14:0\", \"orientation\": \"v\", \"showlegend\": true, \"textposition\": \"auto\", \"type\": \"bar\", \"x\": [\"936.9 -> 691.7\"], \"xaxis\": \"x\", \"y\": [22338.061492919922], \"yaxis\": \"y\"}, {\"alignmentgroup\": \"True\", \"customdata\": [[\"[TG(58:13),TG(57:6)]_FA14:0\", \"TAG\"]], \"hovertemplate\": \"Lipid=%{customdata[0]}<br>Transition=%{x}<br>Intensity=%{y}<br>Class=%{customdata[1]}<extra></extra>\", \"legendgroup\": \"[TG(58:13),TG(57:6)]_FA14:0\", \"marker\": {\"color\": \"#EF553B\"}, \"name\": \"[TG(58:13),TG(57:6)]_FA14:0\", \"offsetgroup\": \"[TG(58:13),TG(57:6)]_FA14:0\", \"orientation\": \"v\", \"showlegend\": true, \"textposition\": \"auto\", \"type\": \"bar\", \"x\": [\"938.8 -> 693.6\"], \"xaxis\": \"x\", \"y\": [29575.44204711914], \"yaxis\": \"y\"}, {\"alignmentgroup\": \"True\", \"customdata\": [[\"[TG(58:12),TG(57:5)]_FA14:0\", \"TAG\"]], \"hovertemplate\": \"Lipid=%{customdata[0]}<br>Transition=%{x}<br>Intensity=%{y}<br>Class=%{customdata[1]}<extra></extra>\", \"legendgroup\": \"[TG(58:12),TG(57:5)]_FA14:0\", \"marker\": {\"color\": \"#00cc96\"}, \"name\": \"[TG(58:12),TG(57:5)]_FA14:0\", \"offsetgroup\": \"[TG(58:12),TG(57:5)]_FA14:0\", \"orientation\": \"v\", \"showlegend\": true, \"textposition\": \"auto\", \"type\": \"bar\", \"x\": [\"940.8 -> 695.6\"], \"xaxis\": \"x\", \"y\": [20122.321487426758], \"yaxis\": \"y\"}, {\"alignmentgroup\": \"True\", \"customdata\": [[\"[TG(58:11),TG(57:4)]_FA14:0\", \"TAG\"]], \"hovertemplate\": \"Lipid=%{customdata[0]}<br>Transition=%{x}<br>Intensity=%{y}<br>Class=%{customdata[1]}<extra></extra>\", \"legendgroup\": \"[TG(58:11),TG(57:4)]_FA14:0\", \"marker\": {\"color\": \"#ab63fa\"}, \"name\": \"[TG(58:11),TG(57:4)]_FA14:0\", \"offsetgroup\": \"[TG(58:11),TG(57:4)]_FA14:0\", \"orientation\": \"v\", \"showlegend\": true, \"textposition\": \"auto\", \"type\": \"bar\", \"x\": [\"942.8 -> 697.6\"], \"xaxis\": \"x\", \"y\": [20873.68148803711], \"yaxis\": \"y\"}, {\"alignmentgroup\": \"True\", \"customdata\": [[\"[TG(58:10),TG(57:3)]_FA14:0\", \"TAG\"]], \"hovertemplate\": \"Lipid=%{customdata[0]}<br>Transition=%{x}<br>Intensity=%{y}<br>Class=%{customdata[1]}<extra></extra>\", \"legendgroup\": \"[TG(58:10),TG(57:3)]_FA14:0\", \"marker\": {\"color\": \"#FFA15A\"}, \"name\": \"[TG(58:10),TG(57:3)]_FA14:0\", \"offsetgroup\": \"[TG(58:10),TG(57:3)]_FA14:0\", \"orientation\": \"v\", \"showlegend\": true, \"textposition\": \"auto\", \"type\": \"bar\", \"x\": [\"944.9 -> 699.7\"], \"xaxis\": \"x\", \"y\": [20475.001525878906], \"yaxis\": \"y\"}, {\"alignmentgroup\": \"True\", \"customdata\": [[\"[TG(58:9),TG(57:2)]_FA14:0\", \"TAG\"]], \"hovertemplate\": \"Lipid=%{customdata[0]}<br>Transition=%{x}<br>Intensity=%{y}<br>Class=%{customdata[1]}<extra></extra>\", \"legendgroup\": \"[TG(58:9),TG(57:2)]_FA14:0\", \"marker\": {\"color\": \"#19d3f3\"}, \"name\": \"[TG(58:9),TG(57:2)]_FA14:0\", \"offsetgroup\": \"[TG(58:9),TG(57:2)]_FA14:0\", \"orientation\": \"v\", \"showlegend\": true, \"textposition\": \"auto\", \"type\": \"bar\", \"x\": [\"946.9 -> 701.7\"], \"xaxis\": \"x\", \"y\": [19687.661422729492], \"yaxis\": \"y\"}, {\"alignmentgroup\": \"True\", \"customdata\": [[\"[TG(58:8),TG(57:1)]_FA14:0\", \"TAG\"]], \"hovertemplate\": \"Lipid=%{customdata[0]}<br>Transition=%{x}<br>Intensity=%{y}<br>Class=%{customdata[1]}<extra></extra>\", \"legendgroup\": \"[TG(58:8),TG(57:1)]_FA14:0\", \"marker\": {\"color\": \"#FF6692\"}, \"name\": \"[TG(58:8),TG(57:1)]_FA14:0\", \"offsetgroup\": \"[TG(58:8),TG(57:1)]_FA14:0\", \"orientation\": \"v\", \"showlegend\": true, \"textposition\": \"auto\", \"type\": \"bar\", \"x\": [\"948.9 -> 703.7\"], \"xaxis\": \"x\", \"y\": [17986.1212310791], \"yaxis\": \"y\"}, {\"alignmentgroup\": \"True\", \"customdata\": [[\"[TG(58:7),TG(57:0)]_FA14:0\", \"TAG\"]], \"hovertemplate\": \"Lipid=%{customdata[0]}<br>Transition=%{x}<br>Intensity=%{y}<br>Class=%{customdata[1]}<extra></extra>\", \"legendgroup\": \"[TG(58:7),TG(57:0)]_FA14:0\", \"marker\": {\"color\": \"#B6E880\"}, \"name\": \"[TG(58:7),TG(57:0)]_FA14:0\", \"offsetgroup\": \"[TG(58:7),TG(57:0)]_FA14:0\", \"orientation\": \"v\", \"showlegend\": true, \"textposition\": \"auto\", \"type\": \"bar\", \"x\": [\"950.9 -> 705.7\"], \"xaxis\": \"x\", \"y\": [16909.581176757812], \"yaxis\": \"y\"}, {\"alignmentgroup\": \"True\", \"customdata\": [[\"[TG(59:13),TG(58:6)]_FA14:0\", \"TAG\"]], \"hovertemplate\": \"Lipid=%{customdata[0]}<br>Transition=%{x}<br>Intensity=%{y}<br>Class=%{customdata[1]}<extra></extra>\", \"legendgroup\": \"[TG(59:13),TG(58:6)]_FA14:0\", \"marker\": {\"color\": \"#FF97FF\"}, \"name\": \"[TG(59:13),TG(58:6)]_FA14:0\", \"offsetgroup\": \"[TG(59:13),TG(58:6)]_FA14:0\", \"orientation\": \"v\", \"showlegend\": true, \"textposition\": \"auto\", \"type\": \"bar\", \"x\": [\"952.8 -> 707.6\"], \"xaxis\": \"x\", \"y\": [17760.02130126953], \"yaxis\": \"y\"}, {\"alignmentgroup\": \"True\", \"customdata\": [[\"[TG(59:12),TG(58:5)]_FA14:0\", \"TAG\"]], \"hovertemplate\": \"Lipid=%{customdata[0]}<br>Transition=%{x}<br>Intensity=%{y}<br>Class=%{customdata[1]}<extra></extra>\", \"legendgroup\": \"[TG(59:12),TG(58:5)]_FA14:0\", \"marker\": {\"color\": \"#FECB52\"}, \"name\": \"[TG(59:12),TG(58:5)]_FA14:0\", \"offsetgroup\": \"[TG(59:12),TG(58:5)]_FA14:0\", \"orientation\": \"v\", \"showlegend\": true, \"textposition\": \"auto\", \"type\": \"bar\", \"x\": [\"954.8 -> 709.6\"], \"xaxis\": \"x\", \"y\": [17154.881271362305], \"yaxis\": \"y\"}, {\"alignmentgroup\": \"True\", \"customdata\": [[\"[TG(59:11),TG(58:4)]_FA14:0\", \"TAG\"]], \"hovertemplate\": \"Lipid=%{customdata[0]}<br>Transition=%{x}<br>Intensity=%{y}<br>Class=%{customdata[1]}<extra></extra>\", \"legendgroup\": \"[TG(59:11),TG(58:4)]_FA14:0\", \"marker\": {\"color\": \"#636efa\"}, \"name\": \"[TG(59:11),TG(58:4)]_FA14:0\", \"offsetgroup\": \"[TG(59:11),TG(58:4)]_FA14:0\", \"orientation\": \"v\", \"showlegend\": true, \"textposition\": \"auto\", \"type\": \"bar\", \"x\": [\"956.9 -> 711.7\"], \"xaxis\": \"x\", \"y\": [17369.481216430664], \"yaxis\": \"y\"}, {\"alignmentgroup\": \"True\", \"customdata\": [[\"[TG(59:10),TG(58:3)]_FA14:0\", \"TAG\"]], \"hovertemplate\": \"Lipid=%{customdata[0]}<br>Transition=%{x}<br>Intensity=%{y}<br>Class=%{customdata[1]}<extra></extra>\", \"legendgroup\": \"[TG(59:10),TG(58:3)]_FA14:0\", \"marker\": {\"color\": \"#EF553B\"}, \"name\": \"[TG(59:10),TG(58:3)]_FA14:0\", \"offsetgroup\": \"[TG(59:10),TG(58:3)]_FA14:0\", \"orientation\": \"v\", \"showlegend\": true, \"textposition\": \"auto\", \"type\": \"bar\", \"x\": [\"958.9 -> 713.7\"], \"xaxis\": \"x\", \"y\": [17000.50129699707], \"yaxis\": \"y\"}, {\"alignmentgroup\": \"True\", \"customdata\": [[\"[TG(59:9),TG(58:2)]_FA14:0\", \"TAG\"]], \"hovertemplate\": \"Lipid=%{customdata[0]}<br>Transition=%{x}<br>Intensity=%{y}<br>Class=%{customdata[1]}<extra></extra>\", \"legendgroup\": \"[TG(59:9),TG(58:2)]_FA14:0\", \"marker\": {\"color\": \"#00cc96\"}, \"name\": \"[TG(59:9),TG(58:2)]_FA14:0\", \"offsetgroup\": \"[TG(59:9),TG(58:2)]_FA14:0\", \"orientation\": \"v\", \"showlegend\": true, \"textposition\": \"auto\", \"type\": \"bar\", \"x\": [\"960.9 -> 715.7\"], \"xaxis\": \"x\", \"y\": [14471.141006469727], \"yaxis\": \"y\"}, {\"alignmentgroup\": \"True\", \"customdata\": [[\"[TG(60:15),TG(59:8),TG(58:1)]_FA14:0\", \"TAG\"]], \"hovertemplate\": \"Lipid=%{customdata[0]}<br>Transition=%{x}<br>Intensity=%{y}<br>Class=%{customdata[1]}<extra></extra>\", \"legendgroup\": \"[TG(60:15),TG(59:8),TG(58:1)]_FA14:0\", \"marker\": {\"color\": \"#ab63fa\"}, \"name\": \"[TG(60:15),TG(59:8),TG(58:1)]_FA14:0\", \"offsetgroup\": \"[TG(60:15),TG(59:8),TG(58:1)]_FA14:0\", \"orientation\": \"v\", \"showlegend\": true, \"textposition\": \"auto\", \"type\": \"bar\", \"x\": [\"962.9 -> 717.7\"], \"xaxis\": \"x\", \"y\": [17327.96128845215], \"yaxis\": \"y\"}, {\"alignmentgroup\": \"True\", \"customdata\": [[\"[TG(60:14),TG(59:7),TG(58:0)]_FA14:0\", \"TAG\"]], \"hovertemplate\": \"Lipid=%{customdata[0]}<br>Transition=%{x}<br>Intensity=%{y}<br>Class=%{customdata[1]}<extra></extra>\", \"legendgroup\": \"[TG(60:14),TG(59:7),TG(58:0)]_FA14:0\", \"marker\": {\"color\": \"#FFA15A\"}, \"name\": \"[TG(60:14),TG(59:7),TG(58:0)]_FA14:0\", \"offsetgroup\": \"[TG(60:14),TG(59:7),TG(58:0)]_FA14:0\", \"orientation\": \"v\", \"showlegend\": true, \"textposition\": \"auto\", \"type\": \"bar\", \"x\": [\"964.9 -> 719.7\"], \"xaxis\": \"x\", \"y\": [15586.361099243164], \"yaxis\": \"y\"}, {\"alignmentgroup\": \"True\", \"customdata\": [[\"[TG(60:13),TG(59:6)]_FA14:0\", \"TAG\"]], \"hovertemplate\": \"Lipid=%{customdata[0]}<br>Transition=%{x}<br>Intensity=%{y}<br>Class=%{customdata[1]}<extra></extra>\", \"legendgroup\": \"[TG(60:13),TG(59:6)]_FA14:0\", \"marker\": {\"color\": \"#19d3f3\"}, \"name\": \"[TG(60:13),TG(59:6)]_FA14:0\", \"offsetgroup\": \"[TG(60:13),TG(59:6)]_FA14:0\", \"orientation\": \"v\", \"showlegend\": true, \"textposition\": \"auto\", \"type\": \"bar\", \"x\": [\"966.8 -> 721.6\"], \"xaxis\": \"x\", \"y\": [15192.34105682373], \"yaxis\": \"y\"}, {\"alignmentgroup\": \"True\", \"customdata\": [[\"[TG(60:12),TG(59:5)]_FA14:0\", \"TAG\"]], \"hovertemplate\": \"Lipid=%{customdata[0]}<br>Transition=%{x}<br>Intensity=%{y}<br>Class=%{customdata[1]}<extra></extra>\", \"legendgroup\": \"[TG(60:12),TG(59:5)]_FA14:0\", \"marker\": {\"color\": \"#FF6692\"}, \"name\": \"[TG(60:12),TG(59:5)]_FA14:0\", \"offsetgroup\": \"[TG(60:12),TG(59:5)]_FA14:0\", \"orientation\": \"v\", \"showlegend\": true, \"textposition\": \"auto\", \"type\": \"bar\", \"x\": [\"968.9 -> 723.7\"], \"xaxis\": \"x\", \"y\": [16057.961143493652], \"yaxis\": \"y\"}, {\"alignmentgroup\": \"True\", \"customdata\": [[\"[TG(60:11),TG(59:4)]_FA14:0\", \"TAG\"]], \"hovertemplate\": \"Lipid=%{customdata[0]}<br>Transition=%{x}<br>Intensity=%{y}<br>Class=%{customdata[1]}<extra></extra>\", \"legendgroup\": \"[TG(60:11),TG(59:4)]_FA14:0\", \"marker\": {\"color\": \"#B6E880\"}, \"name\": \"[TG(60:11),TG(59:4)]_FA14:0\", \"offsetgroup\": \"[TG(60:11),TG(59:4)]_FA14:0\", \"orientation\": \"v\", \"showlegend\": true, \"textposition\": \"auto\", \"type\": \"bar\", \"x\": [\"970.9 -> 725.7\"], \"xaxis\": \"x\", \"y\": [29432.862243652344], \"yaxis\": \"y\"}, {\"alignmentgroup\": \"True\", \"customdata\": [[\"[TG(60:10),TG(59:3)]_FA14:0\", \"TAG\"]], \"hovertemplate\": \"Lipid=%{customdata[0]}<br>Transition=%{x}<br>Intensity=%{y}<br>Class=%{customdata[1]}<extra></extra>\", \"legendgroup\": \"[TG(60:10),TG(59:3)]_FA14:0\", \"marker\": {\"color\": \"#FF97FF\"}, \"name\": \"[TG(60:10),TG(59:3)]_FA14:0\", \"offsetgroup\": \"[TG(60:10),TG(59:3)]_FA14:0\", \"orientation\": \"v\", \"showlegend\": true, \"textposition\": \"auto\", \"type\": \"bar\", \"x\": [\"972.9 -> 727.7\"], \"xaxis\": \"x\", \"y\": [21032.461456298828], \"yaxis\": \"y\"}, {\"alignmentgroup\": \"True\", \"customdata\": [[\"[TG(60:9),TG(59:2)]_FA14:0\", \"TAG\"]], \"hovertemplate\": \"Lipid=%{customdata[0]}<br>Transition=%{x}<br>Intensity=%{y}<br>Class=%{customdata[1]}<extra></extra>\", \"legendgroup\": \"[TG(60:9),TG(59:2)]_FA14:0\", \"marker\": {\"color\": \"#FECB52\"}, \"name\": \"[TG(60:9),TG(59:2)]_FA14:0\", \"offsetgroup\": \"[TG(60:9),TG(59:2)]_FA14:0\", \"orientation\": \"v\", \"showlegend\": true, \"textposition\": \"auto\", \"type\": \"bar\", \"x\": [\"974.9 -> 729.7\"], \"xaxis\": \"x\", \"y\": [15778.50112915039], \"yaxis\": \"y\"}, {\"alignmentgroup\": \"True\", \"customdata\": [[\"[TG(60:8),TG(59:1)]_FA14:0\", \"TAG\"]], \"hovertemplate\": \"Lipid=%{customdata[0]}<br>Transition=%{x}<br>Intensity=%{y}<br>Class=%{customdata[1]}<extra></extra>\", \"legendgroup\": \"[TG(60:8),TG(59:1)]_FA14:0\", \"marker\": {\"color\": \"#636efa\"}, \"name\": \"[TG(60:8),TG(59:1)]_FA14:0\", \"offsetgroup\": \"[TG(60:8),TG(59:1)]_FA14:0\", \"orientation\": \"v\", \"showlegend\": true, \"textposition\": \"auto\", \"type\": \"bar\", \"x\": [\"976.9 -> 731.7\"], \"xaxis\": \"x\", \"y\": [13972.840942382812], \"yaxis\": \"y\"}, {\"alignmentgroup\": \"True\", \"customdata\": [[\"[TG(61:14),TG(60:7),TG(59:0)]_FA14:0\", \"TAG\"]], \"hovertemplate\": \"Lipid=%{customdata[0]}<br>Transition=%{x}<br>Intensity=%{y}<br>Class=%{customdata[1]}<extra></extra>\", \"legendgroup\": \"[TG(61:14),TG(60:7),TG(59:0)]_FA14:0\", \"marker\": {\"color\": \"#EF553B\"}, \"name\": \"[TG(61:14),TG(60:7),TG(59:0)]_FA14:0\", \"offsetgroup\": \"[TG(61:14),TG(60:7),TG(59:0)]_FA14:0\", \"orientation\": \"v\", \"showlegend\": true, \"textposition\": \"auto\", \"type\": \"bar\", \"x\": [\"978.9 -> 733.7\"], \"xaxis\": \"x\", \"y\": [15361.26107788086], \"yaxis\": \"y\"}, {\"alignmentgroup\": \"True\", \"customdata\": [[\"[TG(61:13),TG(60:6)]_FA14:0\", \"TAG\"]], \"hovertemplate\": \"Lipid=%{customdata[0]}<br>Transition=%{x}<br>Intensity=%{y}<br>Class=%{customdata[1]}<extra></extra>\", \"legendgroup\": \"[TG(61:13),TG(60:6)]_FA14:0\", \"marker\": {\"color\": \"#00cc96\"}, \"name\": \"[TG(61:13),TG(60:6)]_FA14:0\", \"offsetgroup\": \"[TG(61:13),TG(60:6)]_FA14:0\", \"orientation\": \"v\", \"showlegend\": true, \"textposition\": \"auto\", \"type\": \"bar\", \"x\": [\"980.9 -> 735.7\"], \"xaxis\": \"x\", \"y\": [14665.92106628418], \"yaxis\": \"y\"}, {\"alignmentgroup\": \"True\", \"customdata\": [[\"[TG(61:12),TG(60:5)]_FA14:0\", \"TAG\"]], \"hovertemplate\": \"Lipid=%{customdata[0]}<br>Transition=%{x}<br>Intensity=%{y}<br>Class=%{customdata[1]}<extra></extra>\", \"legendgroup\": \"[TG(61:12),TG(60:5)]_FA14:0\", \"marker\": {\"color\": \"#ab63fa\"}, \"name\": \"[TG(61:12),TG(60:5)]_FA14:0\", \"offsetgroup\": \"[TG(61:12),TG(60:5)]_FA14:0\", \"orientation\": \"v\", \"showlegend\": true, \"textposition\": \"auto\", \"type\": \"bar\", \"x\": [\"982.9 -> 737.7\"], \"xaxis\": \"x\", \"y\": [12983.740997314453], \"yaxis\": \"y\"}, {\"alignmentgroup\": \"True\", \"customdata\": [[\"[TG(61:11),TG(60:4)]_FA14:0\", \"TAG\"]], \"hovertemplate\": \"Lipid=%{customdata[0]}<br>Transition=%{x}<br>Intensity=%{y}<br>Class=%{customdata[1]}<extra></extra>\", \"legendgroup\": \"[TG(61:11),TG(60:4)]_FA14:0\", \"marker\": {\"color\": \"#FFA15A\"}, \"name\": \"[TG(61:11),TG(60:4)]_FA14:0\", \"offsetgroup\": \"[TG(61:11),TG(60:4)]_FA14:0\", \"orientation\": \"v\", \"showlegend\": true, \"textposition\": \"auto\", \"type\": \"bar\", \"x\": [\"984.9 -> 739.7\"], \"xaxis\": \"x\", \"y\": [16507.40118408203], \"yaxis\": \"y\"}, {\"alignmentgroup\": \"True\", \"customdata\": [[\"[TG(61:10),TG(60:3)]_FA14:0\", \"TAG\"]], \"hovertemplate\": \"Lipid=%{customdata[0]}<br>Transition=%{x}<br>Intensity=%{y}<br>Class=%{customdata[1]}<extra></extra>\", \"legendgroup\": \"[TG(61:10),TG(60:3)]_FA14:0\", \"marker\": {\"color\": \"#19d3f3\"}, \"name\": \"[TG(61:10),TG(60:3)]_FA14:0\", \"offsetgroup\": \"[TG(61:10),TG(60:3)]_FA14:0\", \"orientation\": \"v\", \"showlegend\": true, \"textposition\": \"auto\", \"type\": \"bar\", \"x\": [\"986.9 -> 741.7\"], \"xaxis\": \"x\", \"y\": [15164.080978393555], \"yaxis\": \"y\"}, {\"alignmentgroup\": \"True\", \"customdata\": [[\"[TG(62:16),TG(61:9),TG(60:2)]_FA14:0\", \"TAG\"]], \"hovertemplate\": \"Lipid=%{customdata[0]}<br>Transition=%{x}<br>Intensity=%{y}<br>Class=%{customdata[1]}<extra></extra>\", \"legendgroup\": \"[TG(62:16),TG(61:9),TG(60:2)]_FA14:0\", \"marker\": {\"color\": \"#FF6692\"}, \"name\": \"[TG(62:16),TG(61:9),TG(60:2)]_FA14:0\", \"offsetgroup\": \"[TG(62:16),TG(61:9),TG(60:2)]_FA14:0\", \"orientation\": \"v\", \"showlegend\": true, \"textposition\": \"auto\", \"type\": \"bar\", \"x\": [\"988.9 -> 743.7\"], \"xaxis\": \"x\", \"y\": [16115.021049499512], \"yaxis\": \"y\"}, {\"alignmentgroup\": \"True\", \"customdata\": [[\"[TG(62:15),TG(61:8),TG(60:1)]_FA14:0\", \"TAG\"]], \"hovertemplate\": \"Lipid=%{customdata[0]}<br>Transition=%{x}<br>Intensity=%{y}<br>Class=%{customdata[1]}<extra></extra>\", \"legendgroup\": \"[TG(62:15),TG(61:8),TG(60:1)]_FA14:0\", \"marker\": {\"color\": \"#B6E880\"}, \"name\": \"[TG(62:15),TG(61:8),TG(60:1)]_FA14:0\", \"offsetgroup\": \"[TG(62:15),TG(61:8),TG(60:1)]_FA14:0\", \"orientation\": \"v\", \"showlegend\": true, \"textposition\": \"auto\", \"type\": \"bar\", \"x\": [\"990.9 -> 745.7\"], \"xaxis\": \"x\", \"y\": [14670.80093383789], \"yaxis\": \"y\"}, {\"alignmentgroup\": \"True\", \"customdata\": [[\"[TG(62:14),TG(61:7),TG(60:0)]_FA14:0\", \"TAG\"]], \"hovertemplate\": \"Lipid=%{customdata[0]}<br>Transition=%{x}<br>Intensity=%{y}<br>Class=%{customdata[1]}<extra></extra>\", \"legendgroup\": \"[TG(62:14),TG(61:7),TG(60:0)]_FA14:0\", \"marker\": {\"color\": \"#FF97FF\"}, \"name\": \"[TG(62:14),TG(61:7),TG(60:0)]_FA14:0\", \"offsetgroup\": \"[TG(62:14),TG(61:7),TG(60:0)]_FA14:0\", \"orientation\": \"v\", \"showlegend\": true, \"textposition\": \"auto\", \"type\": \"bar\", \"x\": [\"993.0 -> 747.8\"], \"xaxis\": \"x\", \"y\": [11676.520835876465], \"yaxis\": \"y\"}, {\"alignmentgroup\": \"True\", \"customdata\": [[\"[TG(62:13),TG(61:6)]_FA14:0\", \"TAG\"]], \"hovertemplate\": \"Lipid=%{customdata[0]}<br>Transition=%{x}<br>Intensity=%{y}<br>Class=%{customdata[1]}<extra></extra>\", \"legendgroup\": \"[TG(62:13),TG(61:6)]_FA14:0\", \"marker\": {\"color\": \"#FECB52\"}, \"name\": \"[TG(62:13),TG(61:6)]_FA14:0\", \"offsetgroup\": \"[TG(62:13),TG(61:6)]_FA14:0\", \"orientation\": \"v\", \"showlegend\": true, \"textposition\": \"auto\", \"type\": \"bar\", \"x\": [\"994.9 -> 749.7\"], \"xaxis\": \"x\", \"y\": [12641.240867614746], \"yaxis\": \"y\"}, {\"alignmentgroup\": \"True\", \"customdata\": [[\"[TG(62:12),TG(61:5)]_FA14:0\", \"TAG\"]], \"hovertemplate\": \"Lipid=%{customdata[0]}<br>Transition=%{x}<br>Intensity=%{y}<br>Class=%{customdata[1]}<extra></extra>\", \"legendgroup\": \"[TG(62:12),TG(61:5)]_FA14:0\", \"marker\": {\"color\": \"#636efa\"}, \"name\": \"[TG(62:12),TG(61:5)]_FA14:0\", \"offsetgroup\": \"[TG(62:12),TG(61:5)]_FA14:0\", \"orientation\": \"v\", \"showlegend\": true, \"textposition\": \"auto\", \"type\": \"bar\", \"x\": [\"996.9 -> 751.7\"], \"xaxis\": \"x\", \"y\": [14229.900955200195], \"yaxis\": \"y\"}, {\"alignmentgroup\": \"True\", \"customdata\": [[\"[TG(62:11),TG(61:4)]_FA14:0\", \"TAG\"]], \"hovertemplate\": \"Lipid=%{customdata[0]}<br>Transition=%{x}<br>Intensity=%{y}<br>Class=%{customdata[1]}<extra></extra>\", \"legendgroup\": \"[TG(62:11),TG(61:4)]_FA14:0\", \"marker\": {\"color\": \"#EF553B\"}, \"name\": \"[TG(62:11),TG(61:4)]_FA14:0\", \"offsetgroup\": \"[TG(62:11),TG(61:4)]_FA14:0\", \"orientation\": \"v\", \"showlegend\": true, \"textposition\": \"auto\", \"type\": \"bar\", \"x\": [\"998.9 -> 753.7\"], \"xaxis\": \"x\", \"y\": [14026.561004638672], \"yaxis\": \"y\"}, {\"alignmentgroup\": \"True\", \"customdata\": [[\"[TG(62:10),TG(61:3)]_FA14:0\", \"TAG\"]], \"hovertemplate\": \"Lipid=%{customdata[0]}<br>Transition=%{x}<br>Intensity=%{y}<br>Class=%{customdata[1]}<extra></extra>\", \"legendgroup\": \"[TG(62:10),TG(61:3)]_FA14:0\", \"marker\": {\"color\": \"#00cc96\"}, \"name\": \"[TG(62:10),TG(61:3)]_FA14:0\", \"offsetgroup\": \"[TG(62:10),TG(61:3)]_FA14:0\", \"orientation\": \"v\", \"showlegend\": true, \"textposition\": \"auto\", \"type\": \"bar\", \"x\": [\"1000.9 -> 755.7\"], \"xaxis\": \"x\", \"y\": [13990.720977783203], \"yaxis\": \"y\"}, {\"alignmentgroup\": \"True\", \"customdata\": [[\"[TG(62:9),TG(61:2)]_FA14:0\", \"TAG\"]], \"hovertemplate\": \"Lipid=%{customdata[0]}<br>Transition=%{x}<br>Intensity=%{y}<br>Class=%{customdata[1]}<extra></extra>\", \"legendgroup\": \"[TG(62:9),TG(61:2)]_FA14:0\", \"marker\": {\"color\": \"#ab63fa\"}, \"name\": \"[TG(62:9),TG(61:2)]_FA14:0\", \"offsetgroup\": \"[TG(62:9),TG(61:2)]_FA14:0\", \"orientation\": \"v\", \"showlegend\": true, \"textposition\": \"auto\", \"type\": \"bar\", \"x\": [\"1002.9 -> 757.7\"], \"xaxis\": \"x\", \"y\": [14917.441131591797], \"yaxis\": \"y\"}, {\"alignmentgroup\": \"True\", \"customdata\": [[\"[TG(62:8),TG(61:1)]_FA14:0\", \"TAG\"]], \"hovertemplate\": \"Lipid=%{customdata[0]}<br>Transition=%{x}<br>Intensity=%{y}<br>Class=%{customdata[1]}<extra></extra>\", \"legendgroup\": \"[TG(62:8),TG(61:1)]_FA14:0\", \"marker\": {\"color\": \"#FFA15A\"}, \"name\": \"[TG(62:8),TG(61:1)]_FA14:0\", \"offsetgroup\": \"[TG(62:8),TG(61:1)]_FA14:0\", \"orientation\": \"v\", \"showlegend\": true, \"textposition\": \"auto\", \"type\": \"bar\", \"x\": [\"1005.0 -> 759.8\"], \"xaxis\": \"x\", \"y\": [14691.960952758789], \"yaxis\": \"y\"}, {\"alignmentgroup\": \"True\", \"customdata\": [[\"[TG(62:7),TG(61:0)]_FA14:0\", \"TAG\"]], \"hovertemplate\": \"Lipid=%{customdata[0]}<br>Transition=%{x}<br>Intensity=%{y}<br>Class=%{customdata[1]}<extra></extra>\", \"legendgroup\": \"[TG(62:7),TG(61:0)]_FA14:0\", \"marker\": {\"color\": \"#19d3f3\"}, \"name\": \"[TG(62:7),TG(61:0)]_FA14:0\", \"offsetgroup\": \"[TG(62:7),TG(61:0)]_FA14:0\", \"orientation\": \"v\", \"showlegend\": true, \"textposition\": \"auto\", \"type\": \"bar\", \"x\": [\"1007.0 -> 761.8\"], \"xaxis\": \"x\", \"y\": [12988.200942993164], \"yaxis\": \"y\"}, {\"alignmentgroup\": \"True\", \"customdata\": [[\"[TG(63:13),TG(62:6)]_FA14:0\", \"TAG\"]], \"hovertemplate\": \"Lipid=%{customdata[0]}<br>Transition=%{x}<br>Intensity=%{y}<br>Class=%{customdata[1]}<extra></extra>\", \"legendgroup\": \"[TG(63:13),TG(62:6)]_FA14:0\", \"marker\": {\"color\": \"#FF6692\"}, \"name\": \"[TG(63:13),TG(62:6)]_FA14:0\", \"offsetgroup\": \"[TG(63:13),TG(62:6)]_FA14:0\", \"orientation\": \"v\", \"showlegend\": true, \"textposition\": \"auto\", \"type\": \"bar\", \"x\": [\"1008.9 -> 763.7\"], \"xaxis\": \"x\", \"y\": [13342.720916748047], \"yaxis\": \"y\"}, {\"alignmentgroup\": \"True\", \"customdata\": [[\"[TG(63:12),TG(62:5)]_FA14:0\", \"TAG\"]], \"hovertemplate\": \"Lipid=%{customdata[0]}<br>Transition=%{x}<br>Intensity=%{y}<br>Class=%{customdata[1]}<extra></extra>\", \"legendgroup\": \"[TG(63:12),TG(62:5)]_FA14:0\", \"marker\": {\"color\": \"#B6E880\"}, \"name\": \"[TG(63:12),TG(62:5)]_FA14:0\", \"offsetgroup\": \"[TG(63:12),TG(62:5)]_FA14:0\", \"orientation\": \"v\", \"showlegend\": true, \"textposition\": \"auto\", \"type\": \"bar\", \"x\": [\"1010.9 -> 765.7\"], \"xaxis\": \"x\", \"y\": [14266.48112487793], \"yaxis\": \"y\"}, {\"alignmentgroup\": \"True\", \"customdata\": [[\"[TG(63:11),TG(62:4)]_FA14:0\", \"TAG\"]], \"hovertemplate\": \"Lipid=%{customdata[0]}<br>Transition=%{x}<br>Intensity=%{y}<br>Class=%{customdata[1]}<extra></extra>\", \"legendgroup\": \"[TG(63:11),TG(62:4)]_FA14:0\", \"marker\": {\"color\": \"#FF97FF\"}, \"name\": \"[TG(63:11),TG(62:4)]_FA14:0\", \"offsetgroup\": \"[TG(63:11),TG(62:4)]_FA14:0\", \"orientation\": \"v\", \"showlegend\": true, \"textposition\": \"auto\", \"type\": \"bar\", \"x\": [\"1012.9 -> 767.7\"], \"xaxis\": \"x\", \"y\": [13126.080932617188], \"yaxis\": \"y\"}, {\"alignmentgroup\": \"True\", \"customdata\": [[\"[TG(64:17),TG(63:10),TG(62:3)]_FA14:0\", \"TAG\"]], \"hovertemplate\": \"Lipid=%{customdata[0]}<br>Transition=%{x}<br>Intensity=%{y}<br>Class=%{customdata[1]}<extra></extra>\", \"legendgroup\": \"[TG(64:17),TG(63:10),TG(62:3)]_FA14:0\", \"marker\": {\"color\": \"#FECB52\"}, \"name\": \"[TG(64:17),TG(63:10),TG(62:3)]_FA14:0\", \"offsetgroup\": \"[TG(64:17),TG(63:10),TG(62:3)]_FA14:0\", \"orientation\": \"v\", \"showlegend\": true, \"textposition\": \"auto\", \"type\": \"bar\", \"x\": [\"1014.9 -> 769.7\"], \"xaxis\": \"x\", \"y\": [13007.560943603516], \"yaxis\": \"y\"}, {\"alignmentgroup\": \"True\", \"customdata\": [[\"[TG(64:16),TG(63:9),TG(62:2)]_FA14:0\", \"TAG\"]], \"hovertemplate\": \"Lipid=%{customdata[0]}<br>Transition=%{x}<br>Intensity=%{y}<br>Class=%{customdata[1]}<extra></extra>\", \"legendgroup\": \"[TG(64:16),TG(63:9),TG(62:2)]_FA14:0\", \"marker\": {\"color\": \"#636efa\"}, \"name\": \"[TG(64:16),TG(63:9),TG(62:2)]_FA14:0\", \"offsetgroup\": \"[TG(64:16),TG(63:9),TG(62:2)]_FA14:0\", \"orientation\": \"v\", \"showlegend\": true, \"textposition\": \"auto\", \"type\": \"bar\", \"x\": [\"1017.0 -> 771.8\"], \"xaxis\": \"x\", \"y\": [15978.181114196777], \"yaxis\": \"y\"}, {\"alignmentgroup\": \"True\", \"customdata\": [[\"[TG(64:15),TG(63:8),TG(62:1)]_FA14:0\", \"TAG\"]], \"hovertemplate\": \"Lipid=%{customdata[0]}<br>Transition=%{x}<br>Intensity=%{y}<br>Class=%{customdata[1]}<extra></extra>\", \"legendgroup\": \"[TG(64:15),TG(63:8),TG(62:1)]_FA14:0\", \"marker\": {\"color\": \"#EF553B\"}, \"name\": \"[TG(64:15),TG(63:8),TG(62:1)]_FA14:0\", \"offsetgroup\": \"[TG(64:15),TG(63:8),TG(62:1)]_FA14:0\", \"orientation\": \"v\", \"showlegend\": true, \"textposition\": \"auto\", \"type\": \"bar\", \"x\": [\"1019.0 -> 773.8\"], \"xaxis\": \"x\", \"y\": [14954.541114807129], \"yaxis\": \"y\"}, {\"alignmentgroup\": \"True\", \"customdata\": [[\"[TG(64:14),TG(63:7),TG(62:0)]_FA14:0\", \"TAG\"]], \"hovertemplate\": \"Lipid=%{customdata[0]}<br>Transition=%{x}<br>Intensity=%{y}<br>Class=%{customdata[1]}<extra></extra>\", \"legendgroup\": \"[TG(64:14),TG(63:7),TG(62:0)]_FA14:0\", \"marker\": {\"color\": \"#00cc96\"}, \"name\": \"[TG(64:14),TG(63:7),TG(62:0)]_FA14:0\", \"offsetgroup\": \"[TG(64:14),TG(63:7),TG(62:0)]_FA14:0\", \"orientation\": \"v\", \"showlegend\": true, \"textposition\": \"auto\", \"type\": \"bar\", \"x\": [\"1021.0 -> 775.8\"], \"xaxis\": \"x\", \"y\": [12710.70083618164], \"yaxis\": \"y\"}, {\"alignmentgroup\": \"True\", \"customdata\": [[\"[TG(64:13),TG(63:6)]_FA14:0\", \"TAG\"]], \"hovertemplate\": \"Lipid=%{customdata[0]}<br>Transition=%{x}<br>Intensity=%{y}<br>Class=%{customdata[1]}<extra></extra>\", \"legendgroup\": \"[TG(64:13),TG(63:6)]_FA14:0\", \"marker\": {\"color\": \"#ab63fa\"}, \"name\": \"[TG(64:13),TG(63:6)]_FA14:0\", \"offsetgroup\": \"[TG(64:13),TG(63:6)]_FA14:0\", \"orientation\": \"v\", \"showlegend\": true, \"textposition\": \"auto\", \"type\": \"bar\", \"x\": [\"1022.9 -> 777.7\"], \"xaxis\": \"x\", \"y\": [14045.280990600586], \"yaxis\": \"y\"}, {\"alignmentgroup\": \"True\", \"customdata\": [[\"[TG(64:12),TG(63:5)]_FA14:0\", \"TAG\"]], \"hovertemplate\": \"Lipid=%{customdata[0]}<br>Transition=%{x}<br>Intensity=%{y}<br>Class=%{customdata[1]}<extra></extra>\", \"legendgroup\": \"[TG(64:12),TG(63:5)]_FA14:0\", \"marker\": {\"color\": \"#FFA15A\"}, \"name\": \"[TG(64:12),TG(63:5)]_FA14:0\", \"offsetgroup\": \"[TG(64:12),TG(63:5)]_FA14:0\", \"orientation\": \"v\", \"showlegend\": true, \"textposition\": \"auto\", \"type\": \"bar\", \"x\": [\"1024.9 -> 779.7\"], \"xaxis\": \"x\", \"y\": [14086.260986328125], \"yaxis\": \"y\"}, {\"alignmentgroup\": \"True\", \"customdata\": [[\"[TG(64:11),TG(63:4)]_FA14:0\", \"TAG\"]], \"hovertemplate\": \"Lipid=%{customdata[0]}<br>Transition=%{x}<br>Intensity=%{y}<br>Class=%{customdata[1]}<extra></extra>\", \"legendgroup\": \"[TG(64:11),TG(63:4)]_FA14:0\", \"marker\": {\"color\": \"#19d3f3\"}, \"name\": \"[TG(64:11),TG(63:4)]_FA14:0\", \"offsetgroup\": \"[TG(64:11),TG(63:4)]_FA14:0\", \"orientation\": \"v\", \"showlegend\": true, \"textposition\": \"auto\", \"type\": \"bar\", \"x\": [\"1026.9 -> 781.7\"], \"xaxis\": \"x\", \"y\": [12927.800796508789], \"yaxis\": \"y\"}, {\"alignmentgroup\": \"True\", \"customdata\": [[\"[TG(64:10),TG(63:3)]_FA14:0\", \"TAG\"]], \"hovertemplate\": \"Lipid=%{customdata[0]}<br>Transition=%{x}<br>Intensity=%{y}<br>Class=%{customdata[1]}<extra></extra>\", \"legendgroup\": \"[TG(64:10),TG(63:3)]_FA14:0\", \"marker\": {\"color\": \"#FF6692\"}, \"name\": \"[TG(64:10),TG(63:3)]_FA14:0\", \"offsetgroup\": \"[TG(64:10),TG(63:3)]_FA14:0\", \"orientation\": \"v\", \"showlegend\": true, \"textposition\": \"auto\", \"type\": \"bar\", \"x\": [\"1029.0 -> 783.8\"], \"xaxis\": \"x\", \"y\": [10637.140739440918], \"yaxis\": \"y\"}, {\"alignmentgroup\": \"True\", \"customdata\": [[\"[TG(64:9),TG(63:2)]_FA14:0\", \"TAG\"]], \"hovertemplate\": \"Lipid=%{customdata[0]}<br>Transition=%{x}<br>Intensity=%{y}<br>Class=%{customdata[1]}<extra></extra>\", \"legendgroup\": \"[TG(64:9),TG(63:2)]_FA14:0\", \"marker\": {\"color\": \"#B6E880\"}, \"name\": \"[TG(64:9),TG(63:2)]_FA14:0\", \"offsetgroup\": \"[TG(64:9),TG(63:2)]_FA14:0\", \"orientation\": \"v\", \"showlegend\": true, \"textposition\": \"auto\", \"type\": \"bar\", \"x\": [\"1031.0 -> 785.8\"], \"xaxis\": \"x\", \"y\": [13033.880912780762], \"yaxis\": \"y\"}, {\"alignmentgroup\": \"True\", \"customdata\": [[\"[TG(64:8),TG(63:1)]_FA14:0\", \"TAG\"]], \"hovertemplate\": \"Lipid=%{customdata[0]}<br>Transition=%{x}<br>Intensity=%{y}<br>Class=%{customdata[1]}<extra></extra>\", \"legendgroup\": \"[TG(64:8),TG(63:1)]_FA14:0\", \"marker\": {\"color\": \"#FF97FF\"}, \"name\": \"[TG(64:8),TG(63:1)]_FA14:0\", \"offsetgroup\": \"[TG(64:8),TG(63:1)]_FA14:0\", \"orientation\": \"v\", \"showlegend\": true, \"textposition\": \"auto\", \"type\": \"bar\", \"x\": [\"1033.0 -> 787.8\"], \"xaxis\": \"x\", \"y\": [13134.800857543945], \"yaxis\": \"y\"}, {\"alignmentgroup\": \"True\", \"customdata\": [[\"[TG(64:7),TG(63:0)]_FA14:0\", \"TAG\"]], \"hovertemplate\": \"Lipid=%{customdata[0]}<br>Transition=%{x}<br>Intensity=%{y}<br>Class=%{customdata[1]}<extra></extra>\", \"legendgroup\": \"[TG(64:7),TG(63:0)]_FA14:0\", \"marker\": {\"color\": \"#FECB52\"}, \"name\": \"[TG(64:7),TG(63:0)]_FA14:0\", \"offsetgroup\": \"[TG(64:7),TG(63:0)]_FA14:0\", \"orientation\": \"v\", \"showlegend\": true, \"textposition\": \"auto\", \"type\": \"bar\", \"x\": [\"1035.0 -> 789.8\"], \"xaxis\": \"x\", \"y\": [12264.380752563477], \"yaxis\": \"y\"}, {\"alignmentgroup\": \"True\", \"customdata\": [[\"[TG(64:6)]_FA14:0\", \"TAG\"]], \"hovertemplate\": \"Lipid=%{customdata[0]}<br>Transition=%{x}<br>Intensity=%{y}<br>Class=%{customdata[1]}<extra></extra>\", \"legendgroup\": \"[TG(64:6)]_FA14:0\", \"marker\": {\"color\": \"#636efa\"}, \"name\": \"[TG(64:6)]_FA14:0\", \"offsetgroup\": \"[TG(64:6)]_FA14:0\", \"orientation\": \"v\", \"showlegend\": true, \"textposition\": \"auto\", \"type\": \"bar\", \"x\": [\"1036.9 -> 791.7\"], \"xaxis\": \"x\", \"y\": [13273.14094543457], \"yaxis\": \"y\"}, {\"alignmentgroup\": \"True\", \"customdata\": [[\"[TG(65:12),TG(64:5)]_FA14:0\", \"TAG\"]], \"hovertemplate\": \"Lipid=%{customdata[0]}<br>Transition=%{x}<br>Intensity=%{y}<br>Class=%{customdata[1]}<extra></extra>\", \"legendgroup\": \"[TG(65:12),TG(64:5)]_FA14:0\", \"marker\": {\"color\": \"#EF553B\"}, \"name\": \"[TG(65:12),TG(64:5)]_FA14:0\", \"offsetgroup\": \"[TG(65:12),TG(64:5)]_FA14:0\", \"orientation\": \"v\", \"showlegend\": true, \"textposition\": \"auto\", \"type\": \"bar\", \"x\": [\"1038.9 -> 793.7\"], \"xaxis\": \"x\", \"y\": [20100.661331176758], \"yaxis\": \"y\"}, {\"alignmentgroup\": \"True\", \"customdata\": [[\"[TG(66:18),TG(65:11),TG(64:4)]_FA14:0\", \"TAG\"]], \"hovertemplate\": \"Lipid=%{customdata[0]}<br>Transition=%{x}<br>Intensity=%{y}<br>Class=%{customdata[1]}<extra></extra>\", \"legendgroup\": \"[TG(66:18),TG(65:11),TG(64:4)]_FA14:0\", \"marker\": {\"color\": \"#00cc96\"}, \"name\": \"[TG(66:18),TG(65:11),TG(64:4)]_FA14:0\", \"offsetgroup\": \"[TG(66:18),TG(65:11),TG(64:4)]_FA14:0\", \"orientation\": \"v\", \"showlegend\": true, \"textposition\": \"auto\", \"type\": \"bar\", \"x\": [\"1041.0 -> 795.8\"], \"xaxis\": \"x\", \"y\": [12335.680953979492], \"yaxis\": \"y\"}, {\"alignmentgroup\": \"True\", \"customdata\": [[\"[TG(66:17),TG(65:10),TG(64:3)]_FA14:0\", \"TAG\"]], \"hovertemplate\": \"Lipid=%{customdata[0]}<br>Transition=%{x}<br>Intensity=%{y}<br>Class=%{customdata[1]}<extra></extra>\", \"legendgroup\": \"[TG(66:17),TG(65:10),TG(64:3)]_FA14:0\", \"marker\": {\"color\": \"#ab63fa\"}, \"name\": \"[TG(66:17),TG(65:10),TG(64:3)]_FA14:0\", \"offsetgroup\": \"[TG(66:17),TG(65:10),TG(64:3)]_FA14:0\", \"orientation\": \"v\", \"showlegend\": true, \"textposition\": \"auto\", \"type\": \"bar\", \"x\": [\"1043.0 -> 797.8\"], \"xaxis\": \"x\", \"y\": [12561.440925598145], \"yaxis\": \"y\"}, {\"alignmentgroup\": \"True\", \"customdata\": [[\"[TG(66:16),TG(65:9),TG(64:2)]_FA14:0\", \"TAG\"]], \"hovertemplate\": \"Lipid=%{customdata[0]}<br>Transition=%{x}<br>Intensity=%{y}<br>Class=%{customdata[1]}<extra></extra>\", \"legendgroup\": \"[TG(66:16),TG(65:9),TG(64:2)]_FA14:0\", \"marker\": {\"color\": \"#FFA15A\"}, \"name\": \"[TG(66:16),TG(65:9),TG(64:2)]_FA14:0\", \"offsetgroup\": \"[TG(66:16),TG(65:9),TG(64:2)]_FA14:0\", \"orientation\": \"v\", \"showlegend\": true, \"textposition\": \"auto\", \"type\": \"bar\", \"x\": [\"1045.0 -> 799.8\"], \"xaxis\": \"x\", \"y\": [19396.041259765625], \"yaxis\": \"y\"}, {\"alignmentgroup\": \"True\", \"customdata\": [[\"[TG(66:15),TG(65:8),TG(64:1)]_FA14:0\", \"TAG\"]], \"hovertemplate\": \"Lipid=%{customdata[0]}<br>Transition=%{x}<br>Intensity=%{y}<br>Class=%{customdata[1]}<extra></extra>\", \"legendgroup\": \"[TG(66:15),TG(65:8),TG(64:1)]_FA14:0\", \"marker\": {\"color\": \"#19d3f3\"}, \"name\": \"[TG(66:15),TG(65:8),TG(64:1)]_FA14:0\", \"offsetgroup\": \"[TG(66:15),TG(65:8),TG(64:1)]_FA14:0\", \"orientation\": \"v\", \"showlegend\": true, \"textposition\": \"auto\", \"type\": \"bar\", \"x\": [\"1047.0 -> 801.8\"], \"xaxis\": \"x\", \"y\": [15101.360977172852], \"yaxis\": \"y\"}, {\"alignmentgroup\": \"True\", \"customdata\": [[\"[TG(66:14),TG(65:7),TG(64:0)]_FA14:0\", \"TAG\"]], \"hovertemplate\": \"Lipid=%{customdata[0]}<br>Transition=%{x}<br>Intensity=%{y}<br>Class=%{customdata[1]}<extra></extra>\", \"legendgroup\": \"[TG(66:14),TG(65:7),TG(64:0)]_FA14:0\", \"marker\": {\"color\": \"#FF6692\"}, \"name\": \"[TG(66:14),TG(65:7),TG(64:0)]_FA14:0\", \"offsetgroup\": \"[TG(66:14),TG(65:7),TG(64:0)]_FA14:0\", \"orientation\": \"v\", \"showlegend\": true, \"textposition\": \"auto\", \"type\": \"bar\", \"x\": [\"1049.0 -> 803.8\"], \"xaxis\": \"x\", \"y\": [15476.981079101562], \"yaxis\": \"y\"}, {\"alignmentgroup\": \"True\", \"customdata\": [[\"[TG(66:13),TG(65:6)]_FA14:0\", \"TAG\"]], \"hovertemplate\": \"Lipid=%{customdata[0]}<br>Transition=%{x}<br>Intensity=%{y}<br>Class=%{customdata[1]}<extra></extra>\", \"legendgroup\": \"[TG(66:13),TG(65:6)]_FA14:0\", \"marker\": {\"color\": \"#B6E880\"}, \"name\": \"[TG(66:13),TG(65:6)]_FA14:0\", \"offsetgroup\": \"[TG(66:13),TG(65:6)]_FA14:0\", \"orientation\": \"v\", \"showlegend\": true, \"textposition\": \"auto\", \"type\": \"bar\", \"x\": [\"1050.9 -> 805.7\"], \"xaxis\": \"x\", \"y\": [10396.680717468262], \"yaxis\": \"y\"}, {\"alignmentgroup\": \"True\", \"customdata\": [[\"[TG(66:12),TG(65:5)]_FA14:0\", \"TAG\"]], \"hovertemplate\": \"Lipid=%{customdata[0]}<br>Transition=%{x}<br>Intensity=%{y}<br>Class=%{customdata[1]}<extra></extra>\", \"legendgroup\": \"[TG(66:12),TG(65:5)]_FA14:0\", \"marker\": {\"color\": \"#FF97FF\"}, \"name\": \"[TG(66:12),TG(65:5)]_FA14:0\", \"offsetgroup\": \"[TG(66:12),TG(65:5)]_FA14:0\", \"orientation\": \"v\", \"showlegend\": true, \"textposition\": \"auto\", \"type\": \"bar\", \"x\": [\"1053.0 -> 807.8\"], \"xaxis\": \"x\", \"y\": [12281.800918579102], \"yaxis\": \"y\"}, {\"alignmentgroup\": \"True\", \"customdata\": [[\"[TG(66:11),TG(65:4)]_FA14:0\", \"TAG\"]], \"hovertemplate\": \"Lipid=%{customdata[0]}<br>Transition=%{x}<br>Intensity=%{y}<br>Class=%{customdata[1]}<extra></extra>\", \"legendgroup\": \"[TG(66:11),TG(65:4)]_FA14:0\", \"marker\": {\"color\": \"#FECB52\"}, \"name\": \"[TG(66:11),TG(65:4)]_FA14:0\", \"offsetgroup\": \"[TG(66:11),TG(65:4)]_FA14:0\", \"orientation\": \"v\", \"showlegend\": true, \"textposition\": \"auto\", \"type\": \"bar\", \"x\": [\"1055.0 -> 809.8\"], \"xaxis\": \"x\", \"y\": [12049.680938720703], \"yaxis\": \"y\"}, {\"alignmentgroup\": \"True\", \"customdata\": [[\"[TG(66:10),TG(65:3)]_FA14:0\", \"TAG\"]], \"hovertemplate\": \"Lipid=%{customdata[0]}<br>Transition=%{x}<br>Intensity=%{y}<br>Class=%{customdata[1]}<extra></extra>\", \"legendgroup\": \"[TG(66:10),TG(65:3)]_FA14:0\", \"marker\": {\"color\": \"#636efa\"}, \"name\": \"[TG(66:10),TG(65:3)]_FA14:0\", \"offsetgroup\": \"[TG(66:10),TG(65:3)]_FA14:0\", \"orientation\": \"v\", \"showlegend\": true, \"textposition\": \"auto\", \"type\": \"bar\", \"x\": [\"1057.0 -> 811.8\"], \"xaxis\": \"x\", \"y\": [11546.020881652832], \"yaxis\": \"y\"}, {\"alignmentgroup\": \"True\", \"customdata\": [[\"[TG(66:9),TG(65:2)]_FA14:0\", \"TAG\"]], \"hovertemplate\": \"Lipid=%{customdata[0]}<br>Transition=%{x}<br>Intensity=%{y}<br>Class=%{customdata[1]}<extra></extra>\", \"legendgroup\": \"[TG(66:9),TG(65:2)]_FA14:0\", \"marker\": {\"color\": \"#EF553B\"}, \"name\": \"[TG(66:9),TG(65:2)]_FA14:0\", \"offsetgroup\": \"[TG(66:9),TG(65:2)]_FA14:0\", \"orientation\": \"v\", \"showlegend\": true, \"textposition\": \"auto\", \"type\": \"bar\", \"x\": [\"1059.0 -> 813.8\"], \"xaxis\": \"x\", \"y\": [13140.541000366211], \"yaxis\": \"y\"}, {\"alignmentgroup\": \"True\", \"customdata\": [[\"[TG(66:8),TG(65:1)]_FA14:0\", \"TAG\"]], \"hovertemplate\": \"Lipid=%{customdata[0]}<br>Transition=%{x}<br>Intensity=%{y}<br>Class=%{customdata[1]}<extra></extra>\", \"legendgroup\": \"[TG(66:8),TG(65:1)]_FA14:0\", \"marker\": {\"color\": \"#00cc96\"}, \"name\": \"[TG(66:8),TG(65:1)]_FA14:0\", \"offsetgroup\": \"[TG(66:8),TG(65:1)]_FA14:0\", \"orientation\": \"v\", \"showlegend\": true, \"textposition\": \"auto\", \"type\": \"bar\", \"x\": [\"1061.0 -> 815.8\"], \"xaxis\": \"x\", \"y\": [14803.141014099121], \"yaxis\": \"y\"}, {\"alignmentgroup\": \"True\", \"customdata\": [[\"[TG(66:7)]_FA14:0\", \"TAG\"]], \"hovertemplate\": \"Lipid=%{customdata[0]}<br>Transition=%{x}<br>Intensity=%{y}<br>Class=%{customdata[1]}<extra></extra>\", \"legendgroup\": \"[TG(66:7)]_FA14:0\", \"marker\": {\"color\": \"#ab63fa\"}, \"name\": \"[TG(66:7)]_FA14:0\", \"offsetgroup\": \"[TG(66:7)]_FA14:0\", \"orientation\": \"v\", \"showlegend\": true, \"textposition\": \"auto\", \"type\": \"bar\", \"x\": [\"1062.9 -> 817.7\"], \"xaxis\": \"x\", \"y\": [13260.220840454102], \"yaxis\": \"y\"}, {\"alignmentgroup\": \"True\", \"customdata\": [[\"[TG(65:0)]_FA14:0\", \"TAG\"]], \"hovertemplate\": \"Lipid=%{customdata[0]}<br>Transition=%{x}<br>Intensity=%{y}<br>Class=%{customdata[1]}<extra></extra>\", \"legendgroup\": \"[TG(65:0)]_FA14:0\", \"marker\": {\"color\": \"#FFA15A\"}, \"name\": \"[TG(65:0)]_FA14:0\", \"offsetgroup\": \"[TG(65:0)]_FA14:0\", \"orientation\": \"v\", \"showlegend\": true, \"textposition\": \"auto\", \"type\": \"bar\", \"x\": [\"1063.0 -> 817.8\"], \"xaxis\": \"x\", \"y\": [15204.641082763672], \"yaxis\": \"y\"}, {\"alignmentgroup\": \"True\", \"customdata\": [[\"[TG(66:6)]_FA14:0\", \"TAG\"]], \"hovertemplate\": \"Lipid=%{customdata[0]}<br>Transition=%{x}<br>Intensity=%{y}<br>Class=%{customdata[1]}<extra></extra>\", \"legendgroup\": \"[TG(66:6)]_FA14:0\", \"marker\": {\"color\": \"#19d3f3\"}, \"name\": \"[TG(66:6)]_FA14:0\", \"offsetgroup\": \"[TG(66:6)]_FA14:0\", \"orientation\": \"v\", \"showlegend\": true, \"textposition\": \"auto\", \"type\": \"bar\", \"x\": [\"1065.0 -> 819.8\"], \"xaxis\": \"x\", \"y\": [11739.30093383789], \"yaxis\": \"y\"}, {\"alignmentgroup\": \"True\", \"customdata\": [[\"[TG(66:5)]_FA14:0\", \"TAG\"]], \"hovertemplate\": \"Lipid=%{customdata[0]}<br>Transition=%{x}<br>Intensity=%{y}<br>Class=%{customdata[1]}<extra></extra>\", \"legendgroup\": \"[TG(66:5)]_FA14:0\", \"marker\": {\"color\": \"#FF6692\"}, \"name\": \"[TG(66:5)]_FA14:0\", \"offsetgroup\": \"[TG(66:5)]_FA14:0\", \"orientation\": \"v\", \"showlegend\": true, \"textposition\": \"auto\", \"type\": \"bar\", \"x\": [\"1067.0 -> 821.8\"], \"xaxis\": \"x\", \"y\": [10289.58073425293], \"yaxis\": \"y\"}, {\"alignmentgroup\": \"True\", \"customdata\": [[\"[TG(66:4)]_FA14:0\", \"TAG\"]], \"hovertemplate\": \"Lipid=%{customdata[0]}<br>Transition=%{x}<br>Intensity=%{y}<br>Class=%{customdata[1]}<extra></extra>\", \"legendgroup\": \"[TG(66:4)]_FA14:0\", \"marker\": {\"color\": \"#B6E880\"}, \"name\": \"[TG(66:4)]_FA14:0\", \"offsetgroup\": \"[TG(66:4)]_FA14:0\", \"orientation\": \"v\", \"showlegend\": true, \"textposition\": \"auto\", \"type\": \"bar\", \"x\": [\"1069.0 -> 823.8\"], \"xaxis\": \"x\", \"y\": [11749.400787353516], \"yaxis\": \"y\"}, {\"alignmentgroup\": \"True\", \"customdata\": [[\"[TG(66:3)]_FA14:0\", \"TAG\"]], \"hovertemplate\": \"Lipid=%{customdata[0]}<br>Transition=%{x}<br>Intensity=%{y}<br>Class=%{customdata[1]}<extra></extra>\", \"legendgroup\": \"[TG(66:3)]_FA14:0\", \"marker\": {\"color\": \"#FF97FF\"}, \"name\": \"[TG(66:3)]_FA14:0\", \"offsetgroup\": \"[TG(66:3)]_FA14:0\", \"orientation\": \"v\", \"showlegend\": true, \"textposition\": \"auto\", \"type\": \"bar\", \"x\": [\"1071.0 -> 825.8\"], \"xaxis\": \"x\", \"y\": [12457.700866699219], \"yaxis\": \"y\"}, {\"alignmentgroup\": \"True\", \"customdata\": [[\"[TG(66:2)]_FA14:0\", \"TAG\"]], \"hovertemplate\": \"Lipid=%{customdata[0]}<br>Transition=%{x}<br>Intensity=%{y}<br>Class=%{customdata[1]}<extra></extra>\", \"legendgroup\": \"[TG(66:2)]_FA14:0\", \"marker\": {\"color\": \"#FECB52\"}, \"name\": \"[TG(66:2)]_FA14:0\", \"offsetgroup\": \"[TG(66:2)]_FA14:0\", \"orientation\": \"v\", \"showlegend\": true, \"textposition\": \"auto\", \"type\": \"bar\", \"x\": [\"1073.0 -> 827.8\"], \"xaxis\": \"x\", \"y\": [11174.560779571533], \"yaxis\": \"y\"}, {\"alignmentgroup\": \"True\", \"customdata\": [[\"[TG(66:1)]_FA14:0\", \"TAG\"]], \"hovertemplate\": \"Lipid=%{customdata[0]}<br>Transition=%{x}<br>Intensity=%{y}<br>Class=%{customdata[1]}<extra></extra>\", \"legendgroup\": \"[TG(66:1)]_FA14:0\", \"marker\": {\"color\": \"#636efa\"}, \"name\": \"[TG(66:1)]_FA14:0\", \"offsetgroup\": \"[TG(66:1)]_FA14:0\", \"orientation\": \"v\", \"showlegend\": true, \"textposition\": \"auto\", \"type\": \"bar\", \"x\": [\"1075.0 -> 829.8\"], \"xaxis\": \"x\", \"y\": [12249.820945739746], \"yaxis\": \"y\"}],                        {\"barmode\": \"relative\", \"legend\": {\"title\": {\"text\": \"Lipid\"}, \"tracegroupgap\": 0}, \"margin\": {\"t\": 60}, \"template\": {\"data\": {\"bar\": [{\"error_x\": {\"color\": \"#2a3f5f\"}, \"error_y\": {\"color\": \"#2a3f5f\"}, \"marker\": {\"line\": {\"color\": \"#E5ECF6\", \"width\": 0.5}}, \"type\": \"bar\"}], \"barpolar\": [{\"marker\": {\"line\": {\"color\": \"#E5ECF6\", \"width\": 0.5}}, \"type\": \"barpolar\"}], \"carpet\": [{\"aaxis\": {\"endlinecolor\": \"#2a3f5f\", \"gridcolor\": \"white\", \"linecolor\": \"white\", \"minorgridcolor\": \"white\", \"startlinecolor\": \"#2a3f5f\"}, \"baxis\": {\"endlinecolor\": \"#2a3f5f\", \"gridcolor\": \"white\", \"linecolor\": \"white\", \"minorgridcolor\": \"white\", \"startlinecolor\": \"#2a3f5f\"}, \"type\": \"carpet\"}], \"choropleth\": [{\"colorbar\": {\"outlinewidth\": 0, \"ticks\": \"\"}, \"type\": \"choropleth\"}], \"contour\": [{\"colorbar\": {\"outlinewidth\": 0, \"ticks\": \"\"}, \"colorscale\": [[0.0, \"#0d0887\"], [0.1111111111111111, \"#46039f\"], [0.2222222222222222, \"#7201a8\"], [0.3333333333333333, \"#9c179e\"], [0.4444444444444444, \"#bd3786\"], [0.5555555555555556, \"#d8576b\"], [0.6666666666666666, \"#ed7953\"], [0.7777777777777778, \"#fb9f3a\"], [0.8888888888888888, \"#fdca26\"], [1.0, \"#f0f921\"]], \"type\": \"contour\"}], \"contourcarpet\": [{\"colorbar\": {\"outlinewidth\": 0, \"ticks\": \"\"}, \"type\": \"contourcarpet\"}], \"heatmap\": [{\"colorbar\": {\"outlinewidth\": 0, \"ticks\": \"\"}, \"colorscale\": [[0.0, \"#0d0887\"], [0.1111111111111111, \"#46039f\"], [0.2222222222222222, \"#7201a8\"], [0.3333333333333333, \"#9c179e\"], [0.4444444444444444, \"#bd3786\"], [0.5555555555555556, \"#d8576b\"], [0.6666666666666666, \"#ed7953\"], [0.7777777777777778, \"#fb9f3a\"], [0.8888888888888888, \"#fdca26\"], [1.0, \"#f0f921\"]], \"type\": \"heatmap\"}], \"heatmapgl\": [{\"colorbar\": {\"outlinewidth\": 0, \"ticks\": \"\"}, \"colorscale\": [[0.0, \"#0d0887\"], [0.1111111111111111, \"#46039f\"], [0.2222222222222222, \"#7201a8\"], [0.3333333333333333, \"#9c179e\"], [0.4444444444444444, \"#bd3786\"], [0.5555555555555556, \"#d8576b\"], [0.6666666666666666, \"#ed7953\"], [0.7777777777777778, \"#fb9f3a\"], [0.8888888888888888, \"#fdca26\"], [1.0, \"#f0f921\"]], \"type\": \"heatmapgl\"}], \"histogram\": [{\"marker\": {\"colorbar\": {\"outlinewidth\": 0, \"ticks\": \"\"}}, \"type\": \"histogram\"}], \"histogram2d\": [{\"colorbar\": {\"outlinewidth\": 0, \"ticks\": \"\"}, \"colorscale\": [[0.0, \"#0d0887\"], [0.1111111111111111, \"#46039f\"], [0.2222222222222222, \"#7201a8\"], [0.3333333333333333, \"#9c179e\"], [0.4444444444444444, \"#bd3786\"], [0.5555555555555556, \"#d8576b\"], [0.6666666666666666, \"#ed7953\"], [0.7777777777777778, \"#fb9f3a\"], [0.8888888888888888, \"#fdca26\"], [1.0, \"#f0f921\"]], \"type\": \"histogram2d\"}], \"histogram2dcontour\": [{\"colorbar\": {\"outlinewidth\": 0, \"ticks\": \"\"}, \"colorscale\": [[0.0, \"#0d0887\"], [0.1111111111111111, \"#46039f\"], [0.2222222222222222, \"#7201a8\"], [0.3333333333333333, \"#9c179e\"], [0.4444444444444444, \"#bd3786\"], [0.5555555555555556, \"#d8576b\"], [0.6666666666666666, \"#ed7953\"], [0.7777777777777778, \"#fb9f3a\"], [0.8888888888888888, \"#fdca26\"], [1.0, \"#f0f921\"]], \"type\": \"histogram2dcontour\"}], \"mesh3d\": [{\"colorbar\": {\"outlinewidth\": 0, \"ticks\": \"\"}, \"type\": \"mesh3d\"}], \"parcoords\": [{\"line\": {\"colorbar\": {\"outlinewidth\": 0, \"ticks\": \"\"}}, \"type\": \"parcoords\"}], \"pie\": [{\"automargin\": true, \"type\": \"pie\"}], \"scatter\": [{\"marker\": {\"colorbar\": {\"outlinewidth\": 0, \"ticks\": \"\"}}, \"type\": \"scatter\"}], \"scatter3d\": [{\"line\": {\"colorbar\": {\"outlinewidth\": 0, \"ticks\": \"\"}}, \"marker\": {\"colorbar\": {\"outlinewidth\": 0, \"ticks\": \"\"}}, \"type\": \"scatter3d\"}], \"scattercarpet\": [{\"marker\": {\"colorbar\": {\"outlinewidth\": 0, \"ticks\": \"\"}}, \"type\": \"scattercarpet\"}], \"scattergeo\": [{\"marker\": {\"colorbar\": {\"outlinewidth\": 0, \"ticks\": \"\"}}, \"type\": \"scattergeo\"}], \"scattergl\": [{\"marker\": {\"colorbar\": {\"outlinewidth\": 0, \"ticks\": \"\"}}, \"type\": \"scattergl\"}], \"scattermapbox\": [{\"marker\": {\"colorbar\": {\"outlinewidth\": 0, \"ticks\": \"\"}}, \"type\": \"scattermapbox\"}], \"scatterpolar\": [{\"marker\": {\"colorbar\": {\"outlinewidth\": 0, \"ticks\": \"\"}}, \"type\": \"scatterpolar\"}], \"scatterpolargl\": [{\"marker\": {\"colorbar\": {\"outlinewidth\": 0, \"ticks\": \"\"}}, \"type\": \"scatterpolargl\"}], \"scatterternary\": [{\"marker\": {\"colorbar\": {\"outlinewidth\": 0, \"ticks\": \"\"}}, \"type\": \"scatterternary\"}], \"surface\": [{\"colorbar\": {\"outlinewidth\": 0, \"ticks\": \"\"}, \"colorscale\": [[0.0, \"#0d0887\"], [0.1111111111111111, \"#46039f\"], [0.2222222222222222, \"#7201a8\"], [0.3333333333333333, \"#9c179e\"], [0.4444444444444444, \"#bd3786\"], [0.5555555555555556, \"#d8576b\"], [0.6666666666666666, \"#ed7953\"], [0.7777777777777778, \"#fb9f3a\"], [0.8888888888888888, \"#fdca26\"], [1.0, \"#f0f921\"]], \"type\": \"surface\"}], \"table\": [{\"cells\": {\"fill\": {\"color\": \"#EBF0F8\"}, \"line\": {\"color\": \"white\"}}, \"header\": {\"fill\": {\"color\": \"#C8D4E3\"}, \"line\": {\"color\": \"white\"}}, \"type\": \"table\"}]}, \"layout\": {\"annotationdefaults\": {\"arrowcolor\": \"#2a3f5f\", \"arrowhead\": 0, \"arrowwidth\": 1}, \"coloraxis\": {\"colorbar\": {\"outlinewidth\": 0, \"ticks\": \"\"}}, \"colorscale\": {\"diverging\": [[0, \"#8e0152\"], [0.1, \"#c51b7d\"], [0.2, \"#de77ae\"], [0.3, \"#f1b6da\"], [0.4, \"#fde0ef\"], [0.5, \"#f7f7f7\"], [0.6, \"#e6f5d0\"], [0.7, \"#b8e186\"], [0.8, \"#7fbc41\"], [0.9, \"#4d9221\"], [1, \"#276419\"]], \"sequential\": [[0.0, \"#0d0887\"], [0.1111111111111111, \"#46039f\"], [0.2222222222222222, \"#7201a8\"], [0.3333333333333333, \"#9c179e\"], [0.4444444444444444, \"#bd3786\"], [0.5555555555555556, \"#d8576b\"], [0.6666666666666666, \"#ed7953\"], [0.7777777777777778, \"#fb9f3a\"], [0.8888888888888888, \"#fdca26\"], [1.0, \"#f0f921\"]], \"sequentialminus\": [[0.0, \"#0d0887\"], [0.1111111111111111, \"#46039f\"], [0.2222222222222222, \"#7201a8\"], [0.3333333333333333, \"#9c179e\"], [0.4444444444444444, \"#bd3786\"], [0.5555555555555556, \"#d8576b\"], [0.6666666666666666, \"#ed7953\"], [0.7777777777777778, \"#fb9f3a\"], [0.8888888888888888, \"#fdca26\"], [1.0, \"#f0f921\"]]}, \"colorway\": [\"#636efa\", \"#EF553B\", \"#00cc96\", \"#ab63fa\", \"#FFA15A\", \"#19d3f3\", \"#FF6692\", \"#B6E880\", \"#FF97FF\", \"#FECB52\"], \"font\": {\"color\": \"#2a3f5f\"}, \"geo\": {\"bgcolor\": \"white\", \"lakecolor\": \"white\", \"landcolor\": \"#E5ECF6\", \"showlakes\": true, \"showland\": true, \"subunitcolor\": \"white\"}, \"hoverlabel\": {\"align\": \"left\"}, \"hovermode\": \"closest\", \"mapbox\": {\"style\": \"light\"}, \"paper_bgcolor\": \"white\", \"plot_bgcolor\": \"#E5ECF6\", \"polar\": {\"angularaxis\": {\"gridcolor\": \"white\", \"linecolor\": \"white\", \"ticks\": \"\"}, \"bgcolor\": \"#E5ECF6\", \"radialaxis\": {\"gridcolor\": \"white\", \"linecolor\": \"white\", \"ticks\": \"\"}}, \"scene\": {\"xaxis\": {\"backgroundcolor\": \"#E5ECF6\", \"gridcolor\": \"white\", \"gridwidth\": 2, \"linecolor\": \"white\", \"showbackground\": true, \"ticks\": \"\", \"zerolinecolor\": \"white\"}, \"yaxis\": {\"backgroundcolor\": \"#E5ECF6\", \"gridcolor\": \"white\", \"gridwidth\": 2, \"linecolor\": \"white\", \"showbackground\": true, \"ticks\": \"\", \"zerolinecolor\": \"white\"}, \"zaxis\": {\"backgroundcolor\": \"#E5ECF6\", \"gridcolor\": \"white\", \"gridwidth\": 2, \"linecolor\": \"white\", \"showbackground\": true, \"ticks\": \"\", \"zerolinecolor\": \"white\"}}, \"shapedefaults\": {\"line\": {\"color\": \"#2a3f5f\"}}, \"ternary\": {\"aaxis\": {\"gridcolor\": \"white\", \"linecolor\": \"white\", \"ticks\": \"\"}, \"baxis\": {\"gridcolor\": \"white\", \"linecolor\": \"white\", \"ticks\": \"\"}, \"bgcolor\": \"#E5ECF6\", \"caxis\": {\"gridcolor\": \"white\", \"linecolor\": \"white\", \"ticks\": \"\"}}, \"title\": {\"x\": 0.05}, \"xaxis\": {\"automargin\": true, \"gridcolor\": \"white\", \"linecolor\": \"white\", \"ticks\": \"\", \"title\": {\"standoff\": 15}, \"zerolinecolor\": \"white\", \"zerolinewidth\": 2}, \"yaxis\": {\"automargin\": true, \"gridcolor\": \"white\", \"linecolor\": \"white\", \"ticks\": \"\", \"title\": {\"standoff\": 15}, \"zerolinecolor\": \"white\", \"zerolinewidth\": 2}}}, \"xaxis\": {\"anchor\": \"y\", \"domain\": [0.0, 1.0], \"title\": {\"text\": \"Transition\"}}, \"yaxis\": {\"anchor\": \"x\", \"domain\": [0.0, 1.0], \"title\": {\"text\": \"Intensity\"}}},                        {\"responsive\": true}                    ).then(function(){\n",
       "                            \n",
       "var gd = document.getElementById('21cdd450-6c0e-4e23-85e8-67f36a3f4ac2');\n",
       "var x = new MutationObserver(function (mutations, observer) {{\n",
       "        var display = window.getComputedStyle(gd).display;\n",
       "        if (!display || display === 'none') {{\n",
       "            console.log([gd, 'removed!']);\n",
       "            Plotly.purge(gd);\n",
       "            observer.disconnect();\n",
       "        }}\n",
       "}});\n",
       "\n",
       "// Listen for the removal of the full notebook cells\n",
       "var notebookContainer = gd.closest('#notebook-container');\n",
       "if (notebookContainer) {{\n",
       "    x.observe(notebookContainer, {childList: true});\n",
       "}}\n",
       "\n",
       "// Listen for the clearing of the current output cell\n",
       "var outputEl = gd.closest('.output');\n",
       "if (outputEl) {{\n",
       "    x.observe(outputEl, {childList: true});\n",
       "}}\n",
       "\n",
       "                        })                };                });            </script>        </div>"
      ]
     },
     "metadata": {},
     "output_type": "display_data"
    },
    {
     "data": {
      "application/vnd.plotly.v1+json": {
       "config": {
        "plotlyServerURL": "https://plot.ly"
       },
       "data": [
        {
         "alignmentgroup": "True",
         "customdata": [
          [
           "[TG(37:0)]_FA14:0",
           "TAG"
          ],
          [
           "[TG(38:1)]_FA14:0",
           "TAG"
          ],
          [
           "[TG(38:0)]_FA14:0",
           "TAG"
          ],
          [
           "[TG(39:1)]_FA14:0",
           "TAG"
          ],
          [
           "[TG(39:0)]_FA14:0",
           "TAG"
          ],
          [
           "[TG(40:2)]_FA14:0",
           "TAG"
          ],
          [
           "[TG(40:1)]_FA14:0",
           "TAG"
          ],
          [
           "[TG(40:0)]_FA14:0",
           "TAG"
          ],
          [
           "[TG(41:2)]_FA14:0",
           "TAG"
          ],
          [
           "[TG(41:1)]_FA14:0",
           "TAG"
          ],
          [
           "[TG(41:0)]_FA14:0",
           "TAG"
          ],
          [
           "[TG(42:4)]_FA14:0",
           "TAG"
          ],
          [
           "[TG(42:3)]_FA14:0",
           "TAG"
          ],
          [
           "[TG(42:2)]_FA14:0",
           "TAG"
          ],
          [
           "[TG(42:1)]_FA14:0",
           "TAG"
          ],
          [
           "[TG(42:0)]_FA14:0",
           "TAG"
          ],
          [
           "[TG(43:4)]_FA14:0",
           "TAG"
          ],
          [
           "[TG(43:3)]_FA14:0",
           "TAG"
          ],
          [
           "[TG(43:2)]_FA14:0",
           "TAG"
          ],
          [
           "[TG(43:1)]_FA14:0",
           "TAG"
          ],
          [
           "[TG(43:0)]_FA14:0",
           "TAG"
          ],
          [
           "[TG(44:5)]_FA14:0",
           "TAG"
          ],
          [
           "[TG(44:4)]_FA14:0",
           "TAG"
          ],
          [
           "[TG(44:3)]_FA14:0",
           "TAG"
          ],
          [
           "[TG(44:2)]_FA14:0",
           "TAG"
          ],
          [
           "[TG(44:1)]_FA14:0",
           "TAG"
          ],
          [
           "[TG(44:0),TG(O-45:0)]_FA14:0",
           "TAG"
          ],
          [
           "[TG(45:5)]_FA14:0",
           "TAG"
          ],
          [
           "[TG(45:4)]_FA14:0",
           "TAG"
          ],
          [
           "[TG(45:3)]_FA14:0",
           "TAG"
          ],
          [
           "[TG(45:2)]_FA14:0",
           "TAG"
          ],
          [
           "[TG(45:1)]_FA14:0",
           "TAG"
          ],
          [
           "[TG(45:0)]_FA14:0",
           "TAG"
          ],
          [
           "[TG(46:6)]_FA14:0",
           "TAG"
          ],
          [
           "[TG(46:5)]_FA14:0",
           "TAG"
          ],
          [
           "[TG(46:4)]_FA14:0",
           "TAG"
          ],
          [
           "[TG(46:3)]_FA14:0",
           "TAG"
          ],
          [
           "[TG(46:2)]_FA14:0",
           "TAG"
          ],
          [
           "[TG(46:1)]_FA14:0",
           "TAG"
          ],
          [
           "[TG(46:0)]_FA14:0",
           "TAG"
          ],
          [
           "[TG(47:6)]_FA14:0",
           "TAG"
          ],
          [
           "[TG(47:5)]_FA14:0",
           "TAG"
          ],
          [
           "[TG(47:4)]_FA14:0",
           "TAG"
          ],
          [
           "[TG(47:3)]_FA14:0",
           "TAG"
          ],
          [
           "[TG(47:2)]_FA14:0",
           "TAG"
          ],
          [
           "[TG(48:8),TG(47:1)]_FA14:0",
           "TAG"
          ],
          [
           "[TG(48:7),TG(47:0)]_FA14:0",
           "TAG"
          ],
          [
           "[TG(48:6)]_FA14:0",
           "TAG"
          ],
          [
           "[TG(48:5)]_FA14:0",
           "TAG"
          ],
          [
           "[TG(48:4)]_FA14:0",
           "TAG"
          ],
          [
           "[TG(48:3)]_FA14:0",
           "TAG"
          ],
          [
           "[TG(48:2)]_FA14:0",
           "TAG"
          ],
          [
           "[TG(49:8),TG(48:1)]_FA14:0",
           "TAG"
          ],
          [
           "[TG(49:7),TG(48:0)]_FA14:0",
           "TAG"
          ],
          [
           "[TG(49:6)]_FA14:0",
           "TAG"
          ],
          [
           "[TG(49:5)]_FA14:0",
           "TAG"
          ],
          [
           "[TG(49:4)]_FA14:0",
           "TAG"
          ],
          [
           "[TG(49:3)]_FA14:0",
           "TAG"
          ],
          [
           "[TG(50:9),TG(49:2)]_FA14:0",
           "TAG"
          ],
          [
           "[TG(50:8),TG(49:1)]_FA14:0",
           "TAG"
          ],
          [
           "[TG(50:7),TG(49:0)]_FA14:0",
           "TAG"
          ],
          [
           "[TG(50:6)]_FA14:0",
           "TAG"
          ],
          [
           "[TG(50:5)]_FA14:0",
           "TAG"
          ],
          [
           "[TG(50:4)]_FA14:0",
           "TAG"
          ],
          [
           "[TG(50:3)]_FA14:0",
           "TAG"
          ],
          [
           "[TG(51:9),TG(50:2)]_FA14:0",
           "TAG"
          ],
          [
           "[TG(51:8),TG(50:1)]_FA14:0",
           "TAG"
          ],
          [
           "[TG(51:7),TG(50:0)]_FA14:0",
           "TAG"
          ],
          [
           "[TG(51:6)]_FA14:0",
           "TAG"
          ],
          [
           "[TG(51:5)]_FA14:0",
           "TAG"
          ],
          [
           "[TG(51:4)]_FA14:0",
           "TAG"
          ],
          [
           "[TG(52:10),TG(51:3)]_FA14:0",
           "TAG"
          ],
          [
           "[TG(52:9),TG(51:2)]_FA14:0",
           "TAG"
          ],
          [
           "[TG(52:8),TG(51:1)]_FA14:0",
           "TAG"
          ],
          [
           "[TG(52:7),TG(51:0)]_FA14:0",
           "TAG"
          ],
          [
           "[TG(52:6)]_FA14:0",
           "TAG"
          ],
          [
           "[TG(52:5)]_FA14:0",
           "TAG"
          ],
          [
           "[TG(52:4)]_FA14:0",
           "TAG"
          ],
          [
           "[TG(53:10),TG(52:3)]_FA14:0",
           "TAG"
          ],
          [
           "[TG(53:9),TG(52:2)]_FA14:0",
           "TAG"
          ],
          [
           "[TG(53:8),TG(52:1)]_FA14:0",
           "TAG"
          ],
          [
           "[TG(53:7),TG(52:0)]_FA14:0",
           "TAG"
          ],
          [
           "[TG(53:6)]_FA14:0",
           "TAG"
          ],
          [
           "[TG(54:12),TG(53:5)]_FA14:0",
           "TAG"
          ],
          [
           "[TG(54:11),TG(53:4)]_FA14:0",
           "TAG"
          ],
          [
           "[TG(54:10),TG(53:3)]_FA14:0",
           "TAG"
          ],
          [
           "[TG(54:9),TG(53:2)]_FA14:0",
           "TAG"
          ],
          [
           "[TG(54:8),TG(53:1)]_FA14:0",
           "TAG"
          ],
          [
           "[TG(54:7),TG(53:0)]_FA14:0",
           "TAG"
          ],
          [
           "[TG(54:6)]_FA14:0",
           "TAG"
          ],
          [
           "[TG(54:5)]_FA14:0",
           "TAG"
          ],
          [
           "[TG(55:11),TG(54:4)]_FA14:0",
           "TAG"
          ],
          [
           "[TG(55:10),TG(54:3)]_FA14:0",
           "TAG"
          ],
          [
           "[TG(55:9),TG(54:2)]_FA14:0",
           "TAG"
          ],
          [
           "[TG(55:8),TG(54:1)]_FA14:0",
           "TAG"
          ],
          [
           "[TG(55:7),TG(54:0)]_FA14:0",
           "TAG"
          ],
          [
           "[TG(56:13),TG(55:6)]_FA14:0",
           "TAG"
          ],
          [
           "[TG(56:12),TG(55:5)]_FA14:0",
           "TAG"
          ],
          [
           "[TG(56:11),TG(55:4)]_FA14:0",
           "TAG"
          ],
          [
           "[TG(56:10),TG(55:3)]_FA14:0",
           "TAG"
          ],
          [
           "[TG(56:9),TG(55:2)]_FA14:0",
           "TAG"
          ],
          [
           "[TG(56:8),TG(55:1)]_FA14:0",
           "TAG"
          ],
          [
           "[TG(56:7),TG(55:0)]_FA14:0",
           "TAG"
          ],
          [
           "[TG(56:6)]_FA14:0",
           "TAG"
          ],
          [
           "[TG(57:12),TG(56:5)]_FA14:0",
           "TAG"
          ],
          [
           "[TG(57:11),TG(56:4)]_FA14:0",
           "TAG"
          ],
          [
           "[TG(57:10),TG(56:3)]_FA14:0",
           "TAG"
          ],
          [
           "[TG(57:9),TG(56:2)]_FA14:0",
           "TAG"
          ],
          [
           "[TG(57:8),TG(56:1)]_FA14:0",
           "TAG"
          ],
          [
           "[TG(58:14),TG(57:7),TG(56:0)]_FA14:0",
           "TAG"
          ],
          [
           "[TG(58:13),TG(57:6)]_FA14:0",
           "TAG"
          ],
          [
           "[TG(58:12),TG(57:5)]_FA14:0",
           "TAG"
          ],
          [
           "[TG(58:11),TG(57:4)]_FA14:0",
           "TAG"
          ],
          [
           "[TG(58:10),TG(57:3)]_FA14:0",
           "TAG"
          ],
          [
           "[TG(58:9),TG(57:2)]_FA14:0",
           "TAG"
          ],
          [
           "[TG(58:8),TG(57:1)]_FA14:0",
           "TAG"
          ],
          [
           "[TG(58:7),TG(57:0)]_FA14:0",
           "TAG"
          ],
          [
           "[TG(59:13),TG(58:6)]_FA14:0",
           "TAG"
          ],
          [
           "[TG(59:12),TG(58:5)]_FA14:0",
           "TAG"
          ],
          [
           "[TG(59:11),TG(58:4)]_FA14:0",
           "TAG"
          ],
          [
           "[TG(59:10),TG(58:3)]_FA14:0",
           "TAG"
          ],
          [
           "[TG(59:9),TG(58:2)]_FA14:0",
           "TAG"
          ],
          [
           "[TG(60:15),TG(59:8),TG(58:1)]_FA14:0",
           "TAG"
          ],
          [
           "[TG(60:14),TG(59:7),TG(58:0)]_FA14:0",
           "TAG"
          ],
          [
           "[TG(60:13),TG(59:6)]_FA14:0",
           "TAG"
          ],
          [
           "[TG(60:12),TG(59:5)]_FA14:0",
           "TAG"
          ],
          [
           "[TG(60:11),TG(59:4)]_FA14:0",
           "TAG"
          ],
          [
           "[TG(60:10),TG(59:3)]_FA14:0",
           "TAG"
          ],
          [
           "[TG(60:9),TG(59:2)]_FA14:0",
           "TAG"
          ],
          [
           "[TG(60:8),TG(59:1)]_FA14:0",
           "TAG"
          ],
          [
           "[TG(61:14),TG(60:7),TG(59:0)]_FA14:0",
           "TAG"
          ],
          [
           "[TG(61:13),TG(60:6)]_FA14:0",
           "TAG"
          ],
          [
           "[TG(61:12),TG(60:5)]_FA14:0",
           "TAG"
          ],
          [
           "[TG(61:11),TG(60:4)]_FA14:0",
           "TAG"
          ],
          [
           "[TG(61:10),TG(60:3)]_FA14:0",
           "TAG"
          ],
          [
           "[TG(62:16),TG(61:9),TG(60:2)]_FA14:0",
           "TAG"
          ],
          [
           "[TG(62:15),TG(61:8),TG(60:1)]_FA14:0",
           "TAG"
          ],
          [
           "[TG(62:14),TG(61:7),TG(60:0)]_FA14:0",
           "TAG"
          ],
          [
           "[TG(62:13),TG(61:6)]_FA14:0",
           "TAG"
          ],
          [
           "[TG(62:12),TG(61:5)]_FA14:0",
           "TAG"
          ],
          [
           "[TG(62:11),TG(61:4)]_FA14:0",
           "TAG"
          ],
          [
           "[TG(62:10),TG(61:3)]_FA14:0",
           "TAG"
          ],
          [
           "[TG(62:9),TG(61:2)]_FA14:0",
           "TAG"
          ],
          [
           "[TG(62:8),TG(61:1)]_FA14:0",
           "TAG"
          ],
          [
           "[TG(62:7),TG(61:0)]_FA14:0",
           "TAG"
          ],
          [
           "[TG(63:13),TG(62:6)]_FA14:0",
           "TAG"
          ],
          [
           "[TG(63:12),TG(62:5)]_FA14:0",
           "TAG"
          ],
          [
           "[TG(63:11),TG(62:4)]_FA14:0",
           "TAG"
          ],
          [
           "[TG(64:17),TG(63:10),TG(62:3)]_FA14:0",
           "TAG"
          ],
          [
           "[TG(64:16),TG(63:9),TG(62:2)]_FA14:0",
           "TAG"
          ],
          [
           "[TG(64:15),TG(63:8),TG(62:1)]_FA14:0",
           "TAG"
          ],
          [
           "[TG(64:14),TG(63:7),TG(62:0)]_FA14:0",
           "TAG"
          ],
          [
           "[TG(64:13),TG(63:6)]_FA14:0",
           "TAG"
          ],
          [
           "[TG(64:12),TG(63:5)]_FA14:0",
           "TAG"
          ],
          [
           "[TG(64:11),TG(63:4)]_FA14:0",
           "TAG"
          ],
          [
           "[TG(64:10),TG(63:3)]_FA14:0",
           "TAG"
          ],
          [
           "[TG(64:9),TG(63:2)]_FA14:0",
           "TAG"
          ],
          [
           "[TG(64:8),TG(63:1)]_FA14:0",
           "TAG"
          ],
          [
           "[TG(64:7),TG(63:0)]_FA14:0",
           "TAG"
          ],
          [
           "[TG(64:6)]_FA14:0",
           "TAG"
          ],
          [
           "[TG(65:12),TG(64:5)]_FA14:0",
           "TAG"
          ],
          [
           "[TG(66:18),TG(65:11),TG(64:4)]_FA14:0",
           "TAG"
          ],
          [
           "[TG(66:17),TG(65:10),TG(64:3)]_FA14:0",
           "TAG"
          ],
          [
           "[TG(66:16),TG(65:9),TG(64:2)]_FA14:0",
           "TAG"
          ],
          [
           "[TG(66:15),TG(65:8),TG(64:1)]_FA14:0",
           "TAG"
          ],
          [
           "[TG(66:14),TG(65:7),TG(64:0)]_FA14:0",
           "TAG"
          ],
          [
           "[TG(66:13),TG(65:6)]_FA14:0",
           "TAG"
          ],
          [
           "[TG(66:12),TG(65:5)]_FA14:0",
           "TAG"
          ],
          [
           "[TG(66:11),TG(65:4)]_FA14:0",
           "TAG"
          ],
          [
           "[TG(66:10),TG(65:3)]_FA14:0",
           "TAG"
          ],
          [
           "[TG(66:9),TG(65:2)]_FA14:0",
           "TAG"
          ],
          [
           "[TG(66:8),TG(65:1)]_FA14:0",
           "TAG"
          ],
          [
           "[TG(66:7)]_FA14:0",
           "TAG"
          ],
          [
           "[TG(65:0)]_FA14:0",
           "TAG"
          ],
          [
           "[TG(66:6)]_FA14:0",
           "TAG"
          ],
          [
           "[TG(66:5)]_FA14:0",
           "TAG"
          ],
          [
           "[TG(66:4)]_FA14:0",
           "TAG"
          ],
          [
           "[TG(66:3)]_FA14:0",
           "TAG"
          ],
          [
           "[TG(66:2)]_FA14:0",
           "TAG"
          ],
          [
           "[TG(66:1)]_FA14:0",
           "TAG"
          ]
         ],
         "hovertemplate": "Class=%{customdata[1]}<br>Intensity=%{y}<br>Lipid=%{customdata[0]}<extra></extra>",
         "legendgroup": "TAG",
         "marker": {
          "color": "#636efa"
         },
         "name": "TAG",
         "offsetgroup": "TAG",
         "orientation": "v",
         "showlegend": true,
         "textposition": "auto",
         "type": "bar",
         "x": [
          "TAG",
          "TAG",
          "TAG",
          "TAG",
          "TAG",
          "TAG",
          "TAG",
          "TAG",
          "TAG",
          "TAG",
          "TAG",
          "TAG",
          "TAG",
          "TAG",
          "TAG",
          "TAG",
          "TAG",
          "TAG",
          "TAG",
          "TAG",
          "TAG",
          "TAG",
          "TAG",
          "TAG",
          "TAG",
          "TAG",
          "TAG",
          "TAG",
          "TAG",
          "TAG",
          "TAG",
          "TAG",
          "TAG",
          "TAG",
          "TAG",
          "TAG",
          "TAG",
          "TAG",
          "TAG",
          "TAG",
          "TAG",
          "TAG",
          "TAG",
          "TAG",
          "TAG",
          "TAG",
          "TAG",
          "TAG",
          "TAG",
          "TAG",
          "TAG",
          "TAG",
          "TAG",
          "TAG",
          "TAG",
          "TAG",
          "TAG",
          "TAG",
          "TAG",
          "TAG",
          "TAG",
          "TAG",
          "TAG",
          "TAG",
          "TAG",
          "TAG",
          "TAG",
          "TAG",
          "TAG",
          "TAG",
          "TAG",
          "TAG",
          "TAG",
          "TAG",
          "TAG",
          "TAG",
          "TAG",
          "TAG",
          "TAG",
          "TAG",
          "TAG",
          "TAG",
          "TAG",
          "TAG",
          "TAG",
          "TAG",
          "TAG",
          "TAG",
          "TAG",
          "TAG",
          "TAG",
          "TAG",
          "TAG",
          "TAG",
          "TAG",
          "TAG",
          "TAG",
          "TAG",
          "TAG",
          "TAG",
          "TAG",
          "TAG",
          "TAG",
          "TAG",
          "TAG",
          "TAG",
          "TAG",
          "TAG",
          "TAG",
          "TAG",
          "TAG",
          "TAG",
          "TAG",
          "TAG",
          "TAG",
          "TAG",
          "TAG",
          "TAG",
          "TAG",
          "TAG",
          "TAG",
          "TAG",
          "TAG",
          "TAG",
          "TAG",
          "TAG",
          "TAG",
          "TAG",
          "TAG",
          "TAG",
          "TAG",
          "TAG",
          "TAG",
          "TAG",
          "TAG",
          "TAG",
          "TAG",
          "TAG",
          "TAG",
          "TAG",
          "TAG",
          "TAG",
          "TAG",
          "TAG",
          "TAG",
          "TAG",
          "TAG",
          "TAG",
          "TAG",
          "TAG",
          "TAG",
          "TAG",
          "TAG",
          "TAG",
          "TAG",
          "TAG",
          "TAG",
          "TAG",
          "TAG",
          "TAG",
          "TAG",
          "TAG",
          "TAG",
          "TAG",
          "TAG",
          "TAG",
          "TAG",
          "TAG",
          "TAG",
          "TAG",
          "TAG",
          "TAG",
          "TAG",
          "TAG",
          "TAG",
          "TAG",
          "TAG",
          "TAG",
          "TAG",
          "TAG"
         ],
         "xaxis": "x",
         "y": [
          45072.822998046875,
          64211.844482421875,
          237300.73681640625,
          27744.182037353516,
          37315.48260498047,
          24415.261688232422,
          34708.20263671875,
          155327.89086914062,
          20373.861602783203,
          19893.661392211914,
          26466.401824951172,
          15374.68115234375,
          19889.30142211914,
          17753.80108642578,
          131865.6494140625,
          94824.94689941406,
          16791.481231689453,
          63030.504150390625,
          26622.84196472168,
          28583.40203857422,
          29018.08203125,
          17620.081260681152,
          15765.661041259766,
          18071.14141845703,
          39169.32312011719,
          31882.602020263672,
          72722.04577636719,
          18579.66111755371,
          21398.161346435547,
          18318.621307373047,
          16532.841232299805,
          70729.62463378906,
          46782.86340332031,
          20436.341217041016,
          20286.141387939453,
          18562.861236572266,
          20631.881439208984,
          44036.763610839844,
          68736.06512451172,
          84029.40625,
          26131.921813964844,
          20985.38151550293,
          18959.501403808594,
          21987.14175415039,
          24136.061737060547,
          31395.762451171875,
          35014.362396240234,
          51366.403381347656,
          25303.261779785156,
          23539.601623535156,
          82808.48538208008,
          286373.7007446289,
          333579.6123046875,
          80859.20629882812,
          29734.44223022461,
          22083.261352539062,
          22096.821563720703,
          26063.061752319336,
          29320.561981201172,
          37507.4225769043,
          34488.222259521484,
          29315.282165527344,
          35932.222259521484,
          126118.92807006836,
          432169.33502197266,
          501185.328125,
          86953.32531738281,
          36228.10238647461,
          49931.743591308594,
          23814.681854248047,
          23092.781524658203,
          28172.081909179688,
          41892.44287109375,
          46549.702728271484,
          34083.9026184082,
          40384.46292114258,
          44110.603759765625,
          42770.922912597656,
          53848.18371582031,
          56664.44418334961,
          47311.622985839844,
          30805.982299804688,
          26174.721771240234,
          25399.10171508789,
          25004.141693115234,
          31147.182556152344,
          38980.08303833008,
          46906.80307006836,
          38897.4231262207,
          73665.94470214844,
          41898.76268005371,
          28414.301971435547,
          30718.442108154297,
          33424.282623291016,
          29007.38198852539,
          35497.86260986328,
          26408.881866455078,
          22494.82162475586,
          25690.061798095703,
          29631.141998291016,
          33327.52235412598,
          29645.14239501953,
          23936.88168334961,
          21959.361694335938,
          20401.881622314453,
          20398.84147644043,
          25416.421936035156,
          22382.361602783203,
          19609.461395263672,
          22338.061492919922,
          29575.44204711914,
          20122.321487426758,
          20873.68148803711,
          20475.001525878906,
          19687.661422729492,
          17986.1212310791,
          16909.581176757812,
          17760.02130126953,
          17154.881271362305,
          17369.481216430664,
          17000.50129699707,
          14471.141006469727,
          17327.96128845215,
          15586.361099243164,
          15192.34105682373,
          16057.961143493652,
          29432.862243652344,
          21032.461456298828,
          15778.50112915039,
          13972.840942382812,
          15361.26107788086,
          14665.92106628418,
          12983.740997314453,
          16507.40118408203,
          15164.080978393555,
          16115.021049499512,
          14670.80093383789,
          11676.520835876465,
          12641.240867614746,
          14229.900955200195,
          14026.561004638672,
          13990.720977783203,
          14917.441131591797,
          14691.960952758789,
          12988.200942993164,
          13342.720916748047,
          14266.48112487793,
          13126.080932617188,
          13007.560943603516,
          15978.181114196777,
          14954.541114807129,
          12710.70083618164,
          14045.280990600586,
          14086.260986328125,
          12927.800796508789,
          10637.140739440918,
          13033.880912780762,
          13134.800857543945,
          12264.380752563477,
          13273.14094543457,
          20100.661331176758,
          12335.680953979492,
          12561.440925598145,
          19396.041259765625,
          15101.360977172852,
          15476.981079101562,
          10396.680717468262,
          12281.800918579102,
          12049.680938720703,
          11546.020881652832,
          13140.541000366211,
          14803.141014099121,
          13260.220840454102,
          15204.641082763672,
          11739.30093383789,
          10289.58073425293,
          11749.400787353516,
          12457.700866699219,
          11174.560779571533,
          12249.820945739746
         ],
         "yaxis": "y"
        },
        {
         "alignmentgroup": "True",
         "customdata": [
          [
           "STD_15:0-18:1(d7)-15:0 TAG",
           "STD_15:0-18:1(d7)-15:0 TAG"
          ]
         ],
         "hovertemplate": "Class=%{customdata[1]}<br>Intensity=%{y}<br>Lipid=%{customdata[0]}<extra></extra>",
         "legendgroup": "STD_15:0-18:1(d7)-15:0 TAG",
         "marker": {
          "color": "#EF553B"
         },
         "name": "STD_15:0-18:1(d7)-15:0 TAG",
         "offsetgroup": "STD_15:0-18:1(d7)-15:0 TAG",
         "orientation": "v",
         "showlegend": true,
         "textposition": "auto",
         "type": "bar",
         "x": [
          "STD_15:0-18:1(d7)-15:0 TAG"
         ],
         "xaxis": "x",
         "y": [
          33835.302642822266
         ],
         "yaxis": "y"
        }
       ],
       "layout": {
        "barmode": "relative",
        "legend": {
         "title": {
          "text": "Class"
         },
         "tracegroupgap": 0
        },
        "margin": {
         "t": 60
        },
        "template": {
         "data": {
          "bar": [
           {
            "error_x": {
             "color": "#2a3f5f"
            },
            "error_y": {
             "color": "#2a3f5f"
            },
            "marker": {
             "line": {
              "color": "#E5ECF6",
              "width": 0.5
             }
            },
            "type": "bar"
           }
          ],
          "barpolar": [
           {
            "marker": {
             "line": {
              "color": "#E5ECF6",
              "width": 0.5
             }
            },
            "type": "barpolar"
           }
          ],
          "carpet": [
           {
            "aaxis": {
             "endlinecolor": "#2a3f5f",
             "gridcolor": "white",
             "linecolor": "white",
             "minorgridcolor": "white",
             "startlinecolor": "#2a3f5f"
            },
            "baxis": {
             "endlinecolor": "#2a3f5f",
             "gridcolor": "white",
             "linecolor": "white",
             "minorgridcolor": "white",
             "startlinecolor": "#2a3f5f"
            },
            "type": "carpet"
           }
          ],
          "choropleth": [
           {
            "colorbar": {
             "outlinewidth": 0,
             "ticks": ""
            },
            "type": "choropleth"
           }
          ],
          "contour": [
           {
            "colorbar": {
             "outlinewidth": 0,
             "ticks": ""
            },
            "colorscale": [
             [
              0,
              "#0d0887"
             ],
             [
              0.1111111111111111,
              "#46039f"
             ],
             [
              0.2222222222222222,
              "#7201a8"
             ],
             [
              0.3333333333333333,
              "#9c179e"
             ],
             [
              0.4444444444444444,
              "#bd3786"
             ],
             [
              0.5555555555555556,
              "#d8576b"
             ],
             [
              0.6666666666666666,
              "#ed7953"
             ],
             [
              0.7777777777777778,
              "#fb9f3a"
             ],
             [
              0.8888888888888888,
              "#fdca26"
             ],
             [
              1,
              "#f0f921"
             ]
            ],
            "type": "contour"
           }
          ],
          "contourcarpet": [
           {
            "colorbar": {
             "outlinewidth": 0,
             "ticks": ""
            },
            "type": "contourcarpet"
           }
          ],
          "heatmap": [
           {
            "colorbar": {
             "outlinewidth": 0,
             "ticks": ""
            },
            "colorscale": [
             [
              0,
              "#0d0887"
             ],
             [
              0.1111111111111111,
              "#46039f"
             ],
             [
              0.2222222222222222,
              "#7201a8"
             ],
             [
              0.3333333333333333,
              "#9c179e"
             ],
             [
              0.4444444444444444,
              "#bd3786"
             ],
             [
              0.5555555555555556,
              "#d8576b"
             ],
             [
              0.6666666666666666,
              "#ed7953"
             ],
             [
              0.7777777777777778,
              "#fb9f3a"
             ],
             [
              0.8888888888888888,
              "#fdca26"
             ],
             [
              1,
              "#f0f921"
             ]
            ],
            "type": "heatmap"
           }
          ],
          "heatmapgl": [
           {
            "colorbar": {
             "outlinewidth": 0,
             "ticks": ""
            },
            "colorscale": [
             [
              0,
              "#0d0887"
             ],
             [
              0.1111111111111111,
              "#46039f"
             ],
             [
              0.2222222222222222,
              "#7201a8"
             ],
             [
              0.3333333333333333,
              "#9c179e"
             ],
             [
              0.4444444444444444,
              "#bd3786"
             ],
             [
              0.5555555555555556,
              "#d8576b"
             ],
             [
              0.6666666666666666,
              "#ed7953"
             ],
             [
              0.7777777777777778,
              "#fb9f3a"
             ],
             [
              0.8888888888888888,
              "#fdca26"
             ],
             [
              1,
              "#f0f921"
             ]
            ],
            "type": "heatmapgl"
           }
          ],
          "histogram": [
           {
            "marker": {
             "colorbar": {
              "outlinewidth": 0,
              "ticks": ""
             }
            },
            "type": "histogram"
           }
          ],
          "histogram2d": [
           {
            "colorbar": {
             "outlinewidth": 0,
             "ticks": ""
            },
            "colorscale": [
             [
              0,
              "#0d0887"
             ],
             [
              0.1111111111111111,
              "#46039f"
             ],
             [
              0.2222222222222222,
              "#7201a8"
             ],
             [
              0.3333333333333333,
              "#9c179e"
             ],
             [
              0.4444444444444444,
              "#bd3786"
             ],
             [
              0.5555555555555556,
              "#d8576b"
             ],
             [
              0.6666666666666666,
              "#ed7953"
             ],
             [
              0.7777777777777778,
              "#fb9f3a"
             ],
             [
              0.8888888888888888,
              "#fdca26"
             ],
             [
              1,
              "#f0f921"
             ]
            ],
            "type": "histogram2d"
           }
          ],
          "histogram2dcontour": [
           {
            "colorbar": {
             "outlinewidth": 0,
             "ticks": ""
            },
            "colorscale": [
             [
              0,
              "#0d0887"
             ],
             [
              0.1111111111111111,
              "#46039f"
             ],
             [
              0.2222222222222222,
              "#7201a8"
             ],
             [
              0.3333333333333333,
              "#9c179e"
             ],
             [
              0.4444444444444444,
              "#bd3786"
             ],
             [
              0.5555555555555556,
              "#d8576b"
             ],
             [
              0.6666666666666666,
              "#ed7953"
             ],
             [
              0.7777777777777778,
              "#fb9f3a"
             ],
             [
              0.8888888888888888,
              "#fdca26"
             ],
             [
              1,
              "#f0f921"
             ]
            ],
            "type": "histogram2dcontour"
           }
          ],
          "mesh3d": [
           {
            "colorbar": {
             "outlinewidth": 0,
             "ticks": ""
            },
            "type": "mesh3d"
           }
          ],
          "parcoords": [
           {
            "line": {
             "colorbar": {
              "outlinewidth": 0,
              "ticks": ""
             }
            },
            "type": "parcoords"
           }
          ],
          "pie": [
           {
            "automargin": true,
            "type": "pie"
           }
          ],
          "scatter": [
           {
            "marker": {
             "colorbar": {
              "outlinewidth": 0,
              "ticks": ""
             }
            },
            "type": "scatter"
           }
          ],
          "scatter3d": [
           {
            "line": {
             "colorbar": {
              "outlinewidth": 0,
              "ticks": ""
             }
            },
            "marker": {
             "colorbar": {
              "outlinewidth": 0,
              "ticks": ""
             }
            },
            "type": "scatter3d"
           }
          ],
          "scattercarpet": [
           {
            "marker": {
             "colorbar": {
              "outlinewidth": 0,
              "ticks": ""
             }
            },
            "type": "scattercarpet"
           }
          ],
          "scattergeo": [
           {
            "marker": {
             "colorbar": {
              "outlinewidth": 0,
              "ticks": ""
             }
            },
            "type": "scattergeo"
           }
          ],
          "scattergl": [
           {
            "marker": {
             "colorbar": {
              "outlinewidth": 0,
              "ticks": ""
             }
            },
            "type": "scattergl"
           }
          ],
          "scattermapbox": [
           {
            "marker": {
             "colorbar": {
              "outlinewidth": 0,
              "ticks": ""
             }
            },
            "type": "scattermapbox"
           }
          ],
          "scatterpolar": [
           {
            "marker": {
             "colorbar": {
              "outlinewidth": 0,
              "ticks": ""
             }
            },
            "type": "scatterpolar"
           }
          ],
          "scatterpolargl": [
           {
            "marker": {
             "colorbar": {
              "outlinewidth": 0,
              "ticks": ""
             }
            },
            "type": "scatterpolargl"
           }
          ],
          "scatterternary": [
           {
            "marker": {
             "colorbar": {
              "outlinewidth": 0,
              "ticks": ""
             }
            },
            "type": "scatterternary"
           }
          ],
          "surface": [
           {
            "colorbar": {
             "outlinewidth": 0,
             "ticks": ""
            },
            "colorscale": [
             [
              0,
              "#0d0887"
             ],
             [
              0.1111111111111111,
              "#46039f"
             ],
             [
              0.2222222222222222,
              "#7201a8"
             ],
             [
              0.3333333333333333,
              "#9c179e"
             ],
             [
              0.4444444444444444,
              "#bd3786"
             ],
             [
              0.5555555555555556,
              "#d8576b"
             ],
             [
              0.6666666666666666,
              "#ed7953"
             ],
             [
              0.7777777777777778,
              "#fb9f3a"
             ],
             [
              0.8888888888888888,
              "#fdca26"
             ],
             [
              1,
              "#f0f921"
             ]
            ],
            "type": "surface"
           }
          ],
          "table": [
           {
            "cells": {
             "fill": {
              "color": "#EBF0F8"
             },
             "line": {
              "color": "white"
             }
            },
            "header": {
             "fill": {
              "color": "#C8D4E3"
             },
             "line": {
              "color": "white"
             }
            },
            "type": "table"
           }
          ]
         },
         "layout": {
          "annotationdefaults": {
           "arrowcolor": "#2a3f5f",
           "arrowhead": 0,
           "arrowwidth": 1
          },
          "coloraxis": {
           "colorbar": {
            "outlinewidth": 0,
            "ticks": ""
           }
          },
          "colorscale": {
           "diverging": [
            [
             0,
             "#8e0152"
            ],
            [
             0.1,
             "#c51b7d"
            ],
            [
             0.2,
             "#de77ae"
            ],
            [
             0.3,
             "#f1b6da"
            ],
            [
             0.4,
             "#fde0ef"
            ],
            [
             0.5,
             "#f7f7f7"
            ],
            [
             0.6,
             "#e6f5d0"
            ],
            [
             0.7,
             "#b8e186"
            ],
            [
             0.8,
             "#7fbc41"
            ],
            [
             0.9,
             "#4d9221"
            ],
            [
             1,
             "#276419"
            ]
           ],
           "sequential": [
            [
             0,
             "#0d0887"
            ],
            [
             0.1111111111111111,
             "#46039f"
            ],
            [
             0.2222222222222222,
             "#7201a8"
            ],
            [
             0.3333333333333333,
             "#9c179e"
            ],
            [
             0.4444444444444444,
             "#bd3786"
            ],
            [
             0.5555555555555556,
             "#d8576b"
            ],
            [
             0.6666666666666666,
             "#ed7953"
            ],
            [
             0.7777777777777778,
             "#fb9f3a"
            ],
            [
             0.8888888888888888,
             "#fdca26"
            ],
            [
             1,
             "#f0f921"
            ]
           ],
           "sequentialminus": [
            [
             0,
             "#0d0887"
            ],
            [
             0.1111111111111111,
             "#46039f"
            ],
            [
             0.2222222222222222,
             "#7201a8"
            ],
            [
             0.3333333333333333,
             "#9c179e"
            ],
            [
             0.4444444444444444,
             "#bd3786"
            ],
            [
             0.5555555555555556,
             "#d8576b"
            ],
            [
             0.6666666666666666,
             "#ed7953"
            ],
            [
             0.7777777777777778,
             "#fb9f3a"
            ],
            [
             0.8888888888888888,
             "#fdca26"
            ],
            [
             1,
             "#f0f921"
            ]
           ]
          },
          "colorway": [
           "#636efa",
           "#EF553B",
           "#00cc96",
           "#ab63fa",
           "#FFA15A",
           "#19d3f3",
           "#FF6692",
           "#B6E880",
           "#FF97FF",
           "#FECB52"
          ],
          "font": {
           "color": "#2a3f5f"
          },
          "geo": {
           "bgcolor": "white",
           "lakecolor": "white",
           "landcolor": "#E5ECF6",
           "showlakes": true,
           "showland": true,
           "subunitcolor": "white"
          },
          "hoverlabel": {
           "align": "left"
          },
          "hovermode": "closest",
          "mapbox": {
           "style": "light"
          },
          "paper_bgcolor": "white",
          "plot_bgcolor": "#E5ECF6",
          "polar": {
           "angularaxis": {
            "gridcolor": "white",
            "linecolor": "white",
            "ticks": ""
           },
           "bgcolor": "#E5ECF6",
           "radialaxis": {
            "gridcolor": "white",
            "linecolor": "white",
            "ticks": ""
           }
          },
          "scene": {
           "xaxis": {
            "backgroundcolor": "#E5ECF6",
            "gridcolor": "white",
            "gridwidth": 2,
            "linecolor": "white",
            "showbackground": true,
            "ticks": "",
            "zerolinecolor": "white"
           },
           "yaxis": {
            "backgroundcolor": "#E5ECF6",
            "gridcolor": "white",
            "gridwidth": 2,
            "linecolor": "white",
            "showbackground": true,
            "ticks": "",
            "zerolinecolor": "white"
           },
           "zaxis": {
            "backgroundcolor": "#E5ECF6",
            "gridcolor": "white",
            "gridwidth": 2,
            "linecolor": "white",
            "showbackground": true,
            "ticks": "",
            "zerolinecolor": "white"
           }
          },
          "shapedefaults": {
           "line": {
            "color": "#2a3f5f"
           }
          },
          "ternary": {
           "aaxis": {
            "gridcolor": "white",
            "linecolor": "white",
            "ticks": ""
           },
           "baxis": {
            "gridcolor": "white",
            "linecolor": "white",
            "ticks": ""
           },
           "bgcolor": "#E5ECF6",
           "caxis": {
            "gridcolor": "white",
            "linecolor": "white",
            "ticks": ""
           }
          },
          "title": {
           "x": 0.05
          },
          "xaxis": {
           "automargin": true,
           "gridcolor": "white",
           "linecolor": "white",
           "ticks": "",
           "title": {
            "standoff": 15
           },
           "zerolinecolor": "white",
           "zerolinewidth": 2
          },
          "yaxis": {
           "automargin": true,
           "gridcolor": "white",
           "linecolor": "white",
           "ticks": "",
           "title": {
            "standoff": 15
           },
           "zerolinecolor": "white",
           "zerolinewidth": 2
          }
         }
        },
        "xaxis": {
         "anchor": "y",
         "categoryarray": [
          "TAG",
          "STD_15:0-18:1(d7)-15:0 TAG"
         ],
         "categoryorder": "array",
         "domain": [
          0,
          1
         ],
         "title": {
          "text": "Class"
         }
        },
        "yaxis": {
         "anchor": "x",
         "domain": [
          0,
          1
         ],
         "title": {
          "text": "Intensity"
         }
        }
       }
      },
      "text/html": [
       "<div>                            <div id=\"c19b4ed5-0ffc-473d-8c25-2240ebd32810\" class=\"plotly-graph-div\" style=\"height:525px; width:100%;\"></div>            <script type=\"text/javascript\">                require([\"plotly\"], function(Plotly) {                    window.PLOTLYENV=window.PLOTLYENV || {};                                    if (document.getElementById(\"c19b4ed5-0ffc-473d-8c25-2240ebd32810\")) {                    Plotly.newPlot(                        \"c19b4ed5-0ffc-473d-8c25-2240ebd32810\",                        [{\"alignmentgroup\": \"True\", \"customdata\": [[\"[TG(37:0)]_FA14:0\", \"TAG\"], [\"[TG(38:1)]_FA14:0\", \"TAG\"], [\"[TG(38:0)]_FA14:0\", \"TAG\"], [\"[TG(39:1)]_FA14:0\", \"TAG\"], [\"[TG(39:0)]_FA14:0\", \"TAG\"], [\"[TG(40:2)]_FA14:0\", \"TAG\"], [\"[TG(40:1)]_FA14:0\", \"TAG\"], [\"[TG(40:0)]_FA14:0\", \"TAG\"], [\"[TG(41:2)]_FA14:0\", \"TAG\"], [\"[TG(41:1)]_FA14:0\", \"TAG\"], [\"[TG(41:0)]_FA14:0\", \"TAG\"], [\"[TG(42:4)]_FA14:0\", \"TAG\"], [\"[TG(42:3)]_FA14:0\", \"TAG\"], [\"[TG(42:2)]_FA14:0\", \"TAG\"], [\"[TG(42:1)]_FA14:0\", \"TAG\"], [\"[TG(42:0)]_FA14:0\", \"TAG\"], [\"[TG(43:4)]_FA14:0\", \"TAG\"], [\"[TG(43:3)]_FA14:0\", \"TAG\"], [\"[TG(43:2)]_FA14:0\", \"TAG\"], [\"[TG(43:1)]_FA14:0\", \"TAG\"], [\"[TG(43:0)]_FA14:0\", \"TAG\"], [\"[TG(44:5)]_FA14:0\", \"TAG\"], [\"[TG(44:4)]_FA14:0\", \"TAG\"], [\"[TG(44:3)]_FA14:0\", \"TAG\"], [\"[TG(44:2)]_FA14:0\", \"TAG\"], [\"[TG(44:1)]_FA14:0\", \"TAG\"], [\"[TG(44:0),TG(O-45:0)]_FA14:0\", \"TAG\"], [\"[TG(45:5)]_FA14:0\", \"TAG\"], [\"[TG(45:4)]_FA14:0\", \"TAG\"], [\"[TG(45:3)]_FA14:0\", \"TAG\"], [\"[TG(45:2)]_FA14:0\", \"TAG\"], [\"[TG(45:1)]_FA14:0\", \"TAG\"], [\"[TG(45:0)]_FA14:0\", \"TAG\"], [\"[TG(46:6)]_FA14:0\", \"TAG\"], [\"[TG(46:5)]_FA14:0\", \"TAG\"], [\"[TG(46:4)]_FA14:0\", \"TAG\"], [\"[TG(46:3)]_FA14:0\", \"TAG\"], [\"[TG(46:2)]_FA14:0\", \"TAG\"], [\"[TG(46:1)]_FA14:0\", \"TAG\"], [\"[TG(46:0)]_FA14:0\", \"TAG\"], [\"[TG(47:6)]_FA14:0\", \"TAG\"], [\"[TG(47:5)]_FA14:0\", \"TAG\"], [\"[TG(47:4)]_FA14:0\", \"TAG\"], [\"[TG(47:3)]_FA14:0\", \"TAG\"], [\"[TG(47:2)]_FA14:0\", \"TAG\"], [\"[TG(48:8),TG(47:1)]_FA14:0\", \"TAG\"], [\"[TG(48:7),TG(47:0)]_FA14:0\", \"TAG\"], [\"[TG(48:6)]_FA14:0\", \"TAG\"], [\"[TG(48:5)]_FA14:0\", \"TAG\"], [\"[TG(48:4)]_FA14:0\", \"TAG\"], [\"[TG(48:3)]_FA14:0\", \"TAG\"], [\"[TG(48:2)]_FA14:0\", \"TAG\"], [\"[TG(49:8),TG(48:1)]_FA14:0\", \"TAG\"], [\"[TG(49:7),TG(48:0)]_FA14:0\", \"TAG\"], [\"[TG(49:6)]_FA14:0\", \"TAG\"], [\"[TG(49:5)]_FA14:0\", \"TAG\"], [\"[TG(49:4)]_FA14:0\", \"TAG\"], [\"[TG(49:3)]_FA14:0\", \"TAG\"], [\"[TG(50:9),TG(49:2)]_FA14:0\", \"TAG\"], [\"[TG(50:8),TG(49:1)]_FA14:0\", \"TAG\"], [\"[TG(50:7),TG(49:0)]_FA14:0\", \"TAG\"], [\"[TG(50:6)]_FA14:0\", \"TAG\"], [\"[TG(50:5)]_FA14:0\", \"TAG\"], [\"[TG(50:4)]_FA14:0\", \"TAG\"], [\"[TG(50:3)]_FA14:0\", \"TAG\"], [\"[TG(51:9),TG(50:2)]_FA14:0\", \"TAG\"], [\"[TG(51:8),TG(50:1)]_FA14:0\", \"TAG\"], [\"[TG(51:7),TG(50:0)]_FA14:0\", \"TAG\"], [\"[TG(51:6)]_FA14:0\", \"TAG\"], [\"[TG(51:5)]_FA14:0\", \"TAG\"], [\"[TG(51:4)]_FA14:0\", \"TAG\"], [\"[TG(52:10),TG(51:3)]_FA14:0\", \"TAG\"], [\"[TG(52:9),TG(51:2)]_FA14:0\", \"TAG\"], [\"[TG(52:8),TG(51:1)]_FA14:0\", \"TAG\"], [\"[TG(52:7),TG(51:0)]_FA14:0\", \"TAG\"], [\"[TG(52:6)]_FA14:0\", \"TAG\"], [\"[TG(52:5)]_FA14:0\", \"TAG\"], [\"[TG(52:4)]_FA14:0\", \"TAG\"], [\"[TG(53:10),TG(52:3)]_FA14:0\", \"TAG\"], [\"[TG(53:9),TG(52:2)]_FA14:0\", \"TAG\"], [\"[TG(53:8),TG(52:1)]_FA14:0\", \"TAG\"], [\"[TG(53:7),TG(52:0)]_FA14:0\", \"TAG\"], [\"[TG(53:6)]_FA14:0\", \"TAG\"], [\"[TG(54:12),TG(53:5)]_FA14:0\", \"TAG\"], [\"[TG(54:11),TG(53:4)]_FA14:0\", \"TAG\"], [\"[TG(54:10),TG(53:3)]_FA14:0\", \"TAG\"], [\"[TG(54:9),TG(53:2)]_FA14:0\", \"TAG\"], [\"[TG(54:8),TG(53:1)]_FA14:0\", \"TAG\"], [\"[TG(54:7),TG(53:0)]_FA14:0\", \"TAG\"], [\"[TG(54:6)]_FA14:0\", \"TAG\"], [\"[TG(54:5)]_FA14:0\", \"TAG\"], [\"[TG(55:11),TG(54:4)]_FA14:0\", \"TAG\"], [\"[TG(55:10),TG(54:3)]_FA14:0\", \"TAG\"], [\"[TG(55:9),TG(54:2)]_FA14:0\", \"TAG\"], [\"[TG(55:8),TG(54:1)]_FA14:0\", \"TAG\"], [\"[TG(55:7),TG(54:0)]_FA14:0\", \"TAG\"], [\"[TG(56:13),TG(55:6)]_FA14:0\", \"TAG\"], [\"[TG(56:12),TG(55:5)]_FA14:0\", \"TAG\"], [\"[TG(56:11),TG(55:4)]_FA14:0\", \"TAG\"], [\"[TG(56:10),TG(55:3)]_FA14:0\", \"TAG\"], [\"[TG(56:9),TG(55:2)]_FA14:0\", \"TAG\"], [\"[TG(56:8),TG(55:1)]_FA14:0\", \"TAG\"], [\"[TG(56:7),TG(55:0)]_FA14:0\", \"TAG\"], [\"[TG(56:6)]_FA14:0\", \"TAG\"], [\"[TG(57:12),TG(56:5)]_FA14:0\", \"TAG\"], [\"[TG(57:11),TG(56:4)]_FA14:0\", \"TAG\"], [\"[TG(57:10),TG(56:3)]_FA14:0\", \"TAG\"], [\"[TG(57:9),TG(56:2)]_FA14:0\", \"TAG\"], [\"[TG(57:8),TG(56:1)]_FA14:0\", \"TAG\"], [\"[TG(58:14),TG(57:7),TG(56:0)]_FA14:0\", \"TAG\"], [\"[TG(58:13),TG(57:6)]_FA14:0\", \"TAG\"], [\"[TG(58:12),TG(57:5)]_FA14:0\", \"TAG\"], [\"[TG(58:11),TG(57:4)]_FA14:0\", \"TAG\"], [\"[TG(58:10),TG(57:3)]_FA14:0\", \"TAG\"], [\"[TG(58:9),TG(57:2)]_FA14:0\", \"TAG\"], [\"[TG(58:8),TG(57:1)]_FA14:0\", \"TAG\"], [\"[TG(58:7),TG(57:0)]_FA14:0\", \"TAG\"], [\"[TG(59:13),TG(58:6)]_FA14:0\", \"TAG\"], [\"[TG(59:12),TG(58:5)]_FA14:0\", \"TAG\"], [\"[TG(59:11),TG(58:4)]_FA14:0\", \"TAG\"], [\"[TG(59:10),TG(58:3)]_FA14:0\", \"TAG\"], [\"[TG(59:9),TG(58:2)]_FA14:0\", \"TAG\"], [\"[TG(60:15),TG(59:8),TG(58:1)]_FA14:0\", \"TAG\"], [\"[TG(60:14),TG(59:7),TG(58:0)]_FA14:0\", \"TAG\"], [\"[TG(60:13),TG(59:6)]_FA14:0\", \"TAG\"], [\"[TG(60:12),TG(59:5)]_FA14:0\", \"TAG\"], [\"[TG(60:11),TG(59:4)]_FA14:0\", \"TAG\"], [\"[TG(60:10),TG(59:3)]_FA14:0\", \"TAG\"], [\"[TG(60:9),TG(59:2)]_FA14:0\", \"TAG\"], [\"[TG(60:8),TG(59:1)]_FA14:0\", \"TAG\"], [\"[TG(61:14),TG(60:7),TG(59:0)]_FA14:0\", \"TAG\"], [\"[TG(61:13),TG(60:6)]_FA14:0\", \"TAG\"], [\"[TG(61:12),TG(60:5)]_FA14:0\", \"TAG\"], [\"[TG(61:11),TG(60:4)]_FA14:0\", \"TAG\"], [\"[TG(61:10),TG(60:3)]_FA14:0\", \"TAG\"], [\"[TG(62:16),TG(61:9),TG(60:2)]_FA14:0\", \"TAG\"], [\"[TG(62:15),TG(61:8),TG(60:1)]_FA14:0\", \"TAG\"], [\"[TG(62:14),TG(61:7),TG(60:0)]_FA14:0\", \"TAG\"], [\"[TG(62:13),TG(61:6)]_FA14:0\", \"TAG\"], [\"[TG(62:12),TG(61:5)]_FA14:0\", \"TAG\"], [\"[TG(62:11),TG(61:4)]_FA14:0\", \"TAG\"], [\"[TG(62:10),TG(61:3)]_FA14:0\", \"TAG\"], [\"[TG(62:9),TG(61:2)]_FA14:0\", \"TAG\"], [\"[TG(62:8),TG(61:1)]_FA14:0\", \"TAG\"], [\"[TG(62:7),TG(61:0)]_FA14:0\", \"TAG\"], [\"[TG(63:13),TG(62:6)]_FA14:0\", \"TAG\"], [\"[TG(63:12),TG(62:5)]_FA14:0\", \"TAG\"], [\"[TG(63:11),TG(62:4)]_FA14:0\", \"TAG\"], [\"[TG(64:17),TG(63:10),TG(62:3)]_FA14:0\", \"TAG\"], [\"[TG(64:16),TG(63:9),TG(62:2)]_FA14:0\", \"TAG\"], [\"[TG(64:15),TG(63:8),TG(62:1)]_FA14:0\", \"TAG\"], [\"[TG(64:14),TG(63:7),TG(62:0)]_FA14:0\", \"TAG\"], [\"[TG(64:13),TG(63:6)]_FA14:0\", \"TAG\"], [\"[TG(64:12),TG(63:5)]_FA14:0\", \"TAG\"], [\"[TG(64:11),TG(63:4)]_FA14:0\", \"TAG\"], [\"[TG(64:10),TG(63:3)]_FA14:0\", \"TAG\"], [\"[TG(64:9),TG(63:2)]_FA14:0\", \"TAG\"], [\"[TG(64:8),TG(63:1)]_FA14:0\", \"TAG\"], [\"[TG(64:7),TG(63:0)]_FA14:0\", \"TAG\"], [\"[TG(64:6)]_FA14:0\", \"TAG\"], [\"[TG(65:12),TG(64:5)]_FA14:0\", \"TAG\"], [\"[TG(66:18),TG(65:11),TG(64:4)]_FA14:0\", \"TAG\"], [\"[TG(66:17),TG(65:10),TG(64:3)]_FA14:0\", \"TAG\"], [\"[TG(66:16),TG(65:9),TG(64:2)]_FA14:0\", \"TAG\"], [\"[TG(66:15),TG(65:8),TG(64:1)]_FA14:0\", \"TAG\"], [\"[TG(66:14),TG(65:7),TG(64:0)]_FA14:0\", \"TAG\"], [\"[TG(66:13),TG(65:6)]_FA14:0\", \"TAG\"], [\"[TG(66:12),TG(65:5)]_FA14:0\", \"TAG\"], [\"[TG(66:11),TG(65:4)]_FA14:0\", \"TAG\"], [\"[TG(66:10),TG(65:3)]_FA14:0\", \"TAG\"], [\"[TG(66:9),TG(65:2)]_FA14:0\", \"TAG\"], [\"[TG(66:8),TG(65:1)]_FA14:0\", \"TAG\"], [\"[TG(66:7)]_FA14:0\", \"TAG\"], [\"[TG(65:0)]_FA14:0\", \"TAG\"], [\"[TG(66:6)]_FA14:0\", \"TAG\"], [\"[TG(66:5)]_FA14:0\", \"TAG\"], [\"[TG(66:4)]_FA14:0\", \"TAG\"], [\"[TG(66:3)]_FA14:0\", \"TAG\"], [\"[TG(66:2)]_FA14:0\", \"TAG\"], [\"[TG(66:1)]_FA14:0\", \"TAG\"]], \"hovertemplate\": \"Class=%{customdata[1]}<br>Intensity=%{y}<br>Lipid=%{customdata[0]}<extra></extra>\", \"legendgroup\": \"TAG\", \"marker\": {\"color\": \"#636efa\"}, \"name\": \"TAG\", \"offsetgroup\": \"TAG\", \"orientation\": \"v\", \"showlegend\": true, \"textposition\": \"auto\", \"type\": \"bar\", \"x\": [\"TAG\", \"TAG\", \"TAG\", \"TAG\", \"TAG\", \"TAG\", \"TAG\", \"TAG\", \"TAG\", \"TAG\", \"TAG\", \"TAG\", \"TAG\", \"TAG\", \"TAG\", \"TAG\", \"TAG\", \"TAG\", \"TAG\", \"TAG\", \"TAG\", \"TAG\", \"TAG\", \"TAG\", \"TAG\", \"TAG\", \"TAG\", \"TAG\", \"TAG\", \"TAG\", \"TAG\", \"TAG\", \"TAG\", \"TAG\", \"TAG\", \"TAG\", \"TAG\", \"TAG\", \"TAG\", \"TAG\", \"TAG\", \"TAG\", \"TAG\", \"TAG\", \"TAG\", \"TAG\", \"TAG\", \"TAG\", \"TAG\", \"TAG\", \"TAG\", \"TAG\", \"TAG\", \"TAG\", \"TAG\", \"TAG\", \"TAG\", \"TAG\", \"TAG\", \"TAG\", \"TAG\", \"TAG\", \"TAG\", \"TAG\", \"TAG\", \"TAG\", \"TAG\", \"TAG\", \"TAG\", \"TAG\", \"TAG\", \"TAG\", \"TAG\", \"TAG\", \"TAG\", \"TAG\", \"TAG\", \"TAG\", \"TAG\", \"TAG\", \"TAG\", \"TAG\", \"TAG\", \"TAG\", \"TAG\", \"TAG\", \"TAG\", \"TAG\", \"TAG\", \"TAG\", \"TAG\", \"TAG\", \"TAG\", \"TAG\", \"TAG\", \"TAG\", \"TAG\", \"TAG\", \"TAG\", \"TAG\", \"TAG\", \"TAG\", \"TAG\", \"TAG\", \"TAG\", \"TAG\", \"TAG\", \"TAG\", \"TAG\", \"TAG\", \"TAG\", \"TAG\", \"TAG\", \"TAG\", \"TAG\", \"TAG\", \"TAG\", \"TAG\", \"TAG\", \"TAG\", \"TAG\", \"TAG\", \"TAG\", \"TAG\", \"TAG\", \"TAG\", \"TAG\", \"TAG\", \"TAG\", \"TAG\", \"TAG\", \"TAG\", \"TAG\", \"TAG\", \"TAG\", \"TAG\", \"TAG\", \"TAG\", \"TAG\", \"TAG\", \"TAG\", \"TAG\", \"TAG\", \"TAG\", \"TAG\", \"TAG\", \"TAG\", \"TAG\", \"TAG\", \"TAG\", \"TAG\", \"TAG\", \"TAG\", \"TAG\", \"TAG\", \"TAG\", \"TAG\", \"TAG\", \"TAG\", \"TAG\", \"TAG\", \"TAG\", \"TAG\", \"TAG\", \"TAG\", \"TAG\", \"TAG\", \"TAG\", \"TAG\", \"TAG\", \"TAG\", \"TAG\", \"TAG\", \"TAG\", \"TAG\", \"TAG\", \"TAG\", \"TAG\", \"TAG\", \"TAG\"], \"xaxis\": \"x\", \"y\": [45072.822998046875, 64211.844482421875, 237300.73681640625, 27744.182037353516, 37315.48260498047, 24415.261688232422, 34708.20263671875, 155327.89086914062, 20373.861602783203, 19893.661392211914, 26466.401824951172, 15374.68115234375, 19889.30142211914, 17753.80108642578, 131865.6494140625, 94824.94689941406, 16791.481231689453, 63030.504150390625, 26622.84196472168, 28583.40203857422, 29018.08203125, 17620.081260681152, 15765.661041259766, 18071.14141845703, 39169.32312011719, 31882.602020263672, 72722.04577636719, 18579.66111755371, 21398.161346435547, 18318.621307373047, 16532.841232299805, 70729.62463378906, 46782.86340332031, 20436.341217041016, 20286.141387939453, 18562.861236572266, 20631.881439208984, 44036.763610839844, 68736.06512451172, 84029.40625, 26131.921813964844, 20985.38151550293, 18959.501403808594, 21987.14175415039, 24136.061737060547, 31395.762451171875, 35014.362396240234, 51366.403381347656, 25303.261779785156, 23539.601623535156, 82808.48538208008, 286373.7007446289, 333579.6123046875, 80859.20629882812, 29734.44223022461, 22083.261352539062, 22096.821563720703, 26063.061752319336, 29320.561981201172, 37507.4225769043, 34488.222259521484, 29315.282165527344, 35932.222259521484, 126118.92807006836, 432169.33502197266, 501185.328125, 86953.32531738281, 36228.10238647461, 49931.743591308594, 23814.681854248047, 23092.781524658203, 28172.081909179688, 41892.44287109375, 46549.702728271484, 34083.9026184082, 40384.46292114258, 44110.603759765625, 42770.922912597656, 53848.18371582031, 56664.44418334961, 47311.622985839844, 30805.982299804688, 26174.721771240234, 25399.10171508789, 25004.141693115234, 31147.182556152344, 38980.08303833008, 46906.80307006836, 38897.4231262207, 73665.94470214844, 41898.76268005371, 28414.301971435547, 30718.442108154297, 33424.282623291016, 29007.38198852539, 35497.86260986328, 26408.881866455078, 22494.82162475586, 25690.061798095703, 29631.141998291016, 33327.52235412598, 29645.14239501953, 23936.88168334961, 21959.361694335938, 20401.881622314453, 20398.84147644043, 25416.421936035156, 22382.361602783203, 19609.461395263672, 22338.061492919922, 29575.44204711914, 20122.321487426758, 20873.68148803711, 20475.001525878906, 19687.661422729492, 17986.1212310791, 16909.581176757812, 17760.02130126953, 17154.881271362305, 17369.481216430664, 17000.50129699707, 14471.141006469727, 17327.96128845215, 15586.361099243164, 15192.34105682373, 16057.961143493652, 29432.862243652344, 21032.461456298828, 15778.50112915039, 13972.840942382812, 15361.26107788086, 14665.92106628418, 12983.740997314453, 16507.40118408203, 15164.080978393555, 16115.021049499512, 14670.80093383789, 11676.520835876465, 12641.240867614746, 14229.900955200195, 14026.561004638672, 13990.720977783203, 14917.441131591797, 14691.960952758789, 12988.200942993164, 13342.720916748047, 14266.48112487793, 13126.080932617188, 13007.560943603516, 15978.181114196777, 14954.541114807129, 12710.70083618164, 14045.280990600586, 14086.260986328125, 12927.800796508789, 10637.140739440918, 13033.880912780762, 13134.800857543945, 12264.380752563477, 13273.14094543457, 20100.661331176758, 12335.680953979492, 12561.440925598145, 19396.041259765625, 15101.360977172852, 15476.981079101562, 10396.680717468262, 12281.800918579102, 12049.680938720703, 11546.020881652832, 13140.541000366211, 14803.141014099121, 13260.220840454102, 15204.641082763672, 11739.30093383789, 10289.58073425293, 11749.400787353516, 12457.700866699219, 11174.560779571533, 12249.820945739746], \"yaxis\": \"y\"}, {\"alignmentgroup\": \"True\", \"customdata\": [[\"STD_15:0-18:1(d7)-15:0 TAG\", \"STD_15:0-18:1(d7)-15:0 TAG\"]], \"hovertemplate\": \"Class=%{customdata[1]}<br>Intensity=%{y}<br>Lipid=%{customdata[0]}<extra></extra>\", \"legendgroup\": \"STD_15:0-18:1(d7)-15:0 TAG\", \"marker\": {\"color\": \"#EF553B\"}, \"name\": \"STD_15:0-18:1(d7)-15:0 TAG\", \"offsetgroup\": \"STD_15:0-18:1(d7)-15:0 TAG\", \"orientation\": \"v\", \"showlegend\": true, \"textposition\": \"auto\", \"type\": \"bar\", \"x\": [\"STD_15:0-18:1(d7)-15:0 TAG\"], \"xaxis\": \"x\", \"y\": [33835.302642822266], \"yaxis\": \"y\"}],                        {\"barmode\": \"relative\", \"legend\": {\"title\": {\"text\": \"Class\"}, \"tracegroupgap\": 0}, \"margin\": {\"t\": 60}, \"template\": {\"data\": {\"bar\": [{\"error_x\": {\"color\": \"#2a3f5f\"}, \"error_y\": {\"color\": \"#2a3f5f\"}, \"marker\": {\"line\": {\"color\": \"#E5ECF6\", \"width\": 0.5}}, \"type\": \"bar\"}], \"barpolar\": [{\"marker\": {\"line\": {\"color\": \"#E5ECF6\", \"width\": 0.5}}, \"type\": \"barpolar\"}], \"carpet\": [{\"aaxis\": {\"endlinecolor\": \"#2a3f5f\", \"gridcolor\": \"white\", \"linecolor\": \"white\", \"minorgridcolor\": \"white\", \"startlinecolor\": \"#2a3f5f\"}, \"baxis\": {\"endlinecolor\": \"#2a3f5f\", \"gridcolor\": \"white\", \"linecolor\": \"white\", \"minorgridcolor\": \"white\", \"startlinecolor\": \"#2a3f5f\"}, \"type\": \"carpet\"}], \"choropleth\": [{\"colorbar\": {\"outlinewidth\": 0, \"ticks\": \"\"}, \"type\": \"choropleth\"}], \"contour\": [{\"colorbar\": {\"outlinewidth\": 0, \"ticks\": \"\"}, \"colorscale\": [[0.0, \"#0d0887\"], [0.1111111111111111, \"#46039f\"], [0.2222222222222222, \"#7201a8\"], [0.3333333333333333, \"#9c179e\"], [0.4444444444444444, \"#bd3786\"], [0.5555555555555556, \"#d8576b\"], [0.6666666666666666, \"#ed7953\"], [0.7777777777777778, \"#fb9f3a\"], [0.8888888888888888, \"#fdca26\"], [1.0, \"#f0f921\"]], \"type\": \"contour\"}], \"contourcarpet\": [{\"colorbar\": {\"outlinewidth\": 0, \"ticks\": \"\"}, \"type\": \"contourcarpet\"}], \"heatmap\": [{\"colorbar\": {\"outlinewidth\": 0, \"ticks\": \"\"}, \"colorscale\": [[0.0, \"#0d0887\"], [0.1111111111111111, \"#46039f\"], [0.2222222222222222, \"#7201a8\"], [0.3333333333333333, \"#9c179e\"], [0.4444444444444444, \"#bd3786\"], [0.5555555555555556, \"#d8576b\"], [0.6666666666666666, \"#ed7953\"], [0.7777777777777778, \"#fb9f3a\"], [0.8888888888888888, \"#fdca26\"], [1.0, \"#f0f921\"]], \"type\": \"heatmap\"}], \"heatmapgl\": [{\"colorbar\": {\"outlinewidth\": 0, \"ticks\": \"\"}, \"colorscale\": [[0.0, \"#0d0887\"], [0.1111111111111111, \"#46039f\"], [0.2222222222222222, \"#7201a8\"], [0.3333333333333333, \"#9c179e\"], [0.4444444444444444, \"#bd3786\"], [0.5555555555555556, \"#d8576b\"], [0.6666666666666666, \"#ed7953\"], [0.7777777777777778, \"#fb9f3a\"], [0.8888888888888888, \"#fdca26\"], [1.0, \"#f0f921\"]], \"type\": \"heatmapgl\"}], \"histogram\": [{\"marker\": {\"colorbar\": {\"outlinewidth\": 0, \"ticks\": \"\"}}, \"type\": \"histogram\"}], \"histogram2d\": [{\"colorbar\": {\"outlinewidth\": 0, \"ticks\": \"\"}, \"colorscale\": [[0.0, \"#0d0887\"], [0.1111111111111111, \"#46039f\"], [0.2222222222222222, \"#7201a8\"], [0.3333333333333333, \"#9c179e\"], [0.4444444444444444, \"#bd3786\"], [0.5555555555555556, \"#d8576b\"], [0.6666666666666666, \"#ed7953\"], [0.7777777777777778, \"#fb9f3a\"], [0.8888888888888888, \"#fdca26\"], [1.0, \"#f0f921\"]], \"type\": \"histogram2d\"}], \"histogram2dcontour\": [{\"colorbar\": {\"outlinewidth\": 0, \"ticks\": \"\"}, \"colorscale\": [[0.0, \"#0d0887\"], [0.1111111111111111, \"#46039f\"], [0.2222222222222222, \"#7201a8\"], [0.3333333333333333, \"#9c179e\"], [0.4444444444444444, \"#bd3786\"], [0.5555555555555556, \"#d8576b\"], [0.6666666666666666, \"#ed7953\"], [0.7777777777777778, \"#fb9f3a\"], [0.8888888888888888, \"#fdca26\"], [1.0, \"#f0f921\"]], \"type\": \"histogram2dcontour\"}], \"mesh3d\": [{\"colorbar\": {\"outlinewidth\": 0, \"ticks\": \"\"}, \"type\": \"mesh3d\"}], \"parcoords\": [{\"line\": {\"colorbar\": {\"outlinewidth\": 0, \"ticks\": \"\"}}, \"type\": \"parcoords\"}], \"pie\": [{\"automargin\": true, \"type\": \"pie\"}], \"scatter\": [{\"marker\": {\"colorbar\": {\"outlinewidth\": 0, \"ticks\": \"\"}}, \"type\": \"scatter\"}], \"scatter3d\": [{\"line\": {\"colorbar\": {\"outlinewidth\": 0, \"ticks\": \"\"}}, \"marker\": {\"colorbar\": {\"outlinewidth\": 0, \"ticks\": \"\"}}, \"type\": \"scatter3d\"}], \"scattercarpet\": [{\"marker\": {\"colorbar\": {\"outlinewidth\": 0, \"ticks\": \"\"}}, \"type\": \"scattercarpet\"}], \"scattergeo\": [{\"marker\": {\"colorbar\": {\"outlinewidth\": 0, \"ticks\": \"\"}}, \"type\": \"scattergeo\"}], \"scattergl\": [{\"marker\": {\"colorbar\": {\"outlinewidth\": 0, \"ticks\": \"\"}}, \"type\": \"scattergl\"}], \"scattermapbox\": [{\"marker\": {\"colorbar\": {\"outlinewidth\": 0, \"ticks\": \"\"}}, \"type\": \"scattermapbox\"}], \"scatterpolar\": [{\"marker\": {\"colorbar\": {\"outlinewidth\": 0, \"ticks\": \"\"}}, \"type\": \"scatterpolar\"}], \"scatterpolargl\": [{\"marker\": {\"colorbar\": {\"outlinewidth\": 0, \"ticks\": \"\"}}, \"type\": \"scatterpolargl\"}], \"scatterternary\": [{\"marker\": {\"colorbar\": {\"outlinewidth\": 0, \"ticks\": \"\"}}, \"type\": \"scatterternary\"}], \"surface\": [{\"colorbar\": {\"outlinewidth\": 0, \"ticks\": \"\"}, \"colorscale\": [[0.0, \"#0d0887\"], [0.1111111111111111, \"#46039f\"], [0.2222222222222222, \"#7201a8\"], [0.3333333333333333, \"#9c179e\"], [0.4444444444444444, \"#bd3786\"], [0.5555555555555556, \"#d8576b\"], [0.6666666666666666, \"#ed7953\"], [0.7777777777777778, \"#fb9f3a\"], [0.8888888888888888, \"#fdca26\"], [1.0, \"#f0f921\"]], \"type\": \"surface\"}], \"table\": [{\"cells\": {\"fill\": {\"color\": \"#EBF0F8\"}, \"line\": {\"color\": \"white\"}}, \"header\": {\"fill\": {\"color\": \"#C8D4E3\"}, \"line\": {\"color\": \"white\"}}, \"type\": \"table\"}]}, \"layout\": {\"annotationdefaults\": {\"arrowcolor\": \"#2a3f5f\", \"arrowhead\": 0, \"arrowwidth\": 1}, \"coloraxis\": {\"colorbar\": {\"outlinewidth\": 0, \"ticks\": \"\"}}, \"colorscale\": {\"diverging\": [[0, \"#8e0152\"], [0.1, \"#c51b7d\"], [0.2, \"#de77ae\"], [0.3, \"#f1b6da\"], [0.4, \"#fde0ef\"], [0.5, \"#f7f7f7\"], [0.6, \"#e6f5d0\"], [0.7, \"#b8e186\"], [0.8, \"#7fbc41\"], [0.9, \"#4d9221\"], [1, \"#276419\"]], \"sequential\": [[0.0, \"#0d0887\"], [0.1111111111111111, \"#46039f\"], [0.2222222222222222, \"#7201a8\"], [0.3333333333333333, \"#9c179e\"], [0.4444444444444444, \"#bd3786\"], [0.5555555555555556, \"#d8576b\"], [0.6666666666666666, \"#ed7953\"], [0.7777777777777778, \"#fb9f3a\"], [0.8888888888888888, \"#fdca26\"], [1.0, \"#f0f921\"]], \"sequentialminus\": [[0.0, \"#0d0887\"], [0.1111111111111111, \"#46039f\"], [0.2222222222222222, \"#7201a8\"], [0.3333333333333333, \"#9c179e\"], [0.4444444444444444, \"#bd3786\"], [0.5555555555555556, \"#d8576b\"], [0.6666666666666666, \"#ed7953\"], [0.7777777777777778, \"#fb9f3a\"], [0.8888888888888888, \"#fdca26\"], [1.0, \"#f0f921\"]]}, \"colorway\": [\"#636efa\", \"#EF553B\", \"#00cc96\", \"#ab63fa\", \"#FFA15A\", \"#19d3f3\", \"#FF6692\", \"#B6E880\", \"#FF97FF\", \"#FECB52\"], \"font\": {\"color\": \"#2a3f5f\"}, \"geo\": {\"bgcolor\": \"white\", \"lakecolor\": \"white\", \"landcolor\": \"#E5ECF6\", \"showlakes\": true, \"showland\": true, \"subunitcolor\": \"white\"}, \"hoverlabel\": {\"align\": \"left\"}, \"hovermode\": \"closest\", \"mapbox\": {\"style\": \"light\"}, \"paper_bgcolor\": \"white\", \"plot_bgcolor\": \"#E5ECF6\", \"polar\": {\"angularaxis\": {\"gridcolor\": \"white\", \"linecolor\": \"white\", \"ticks\": \"\"}, \"bgcolor\": \"#E5ECF6\", \"radialaxis\": {\"gridcolor\": \"white\", \"linecolor\": \"white\", \"ticks\": \"\"}}, \"scene\": {\"xaxis\": {\"backgroundcolor\": \"#E5ECF6\", \"gridcolor\": \"white\", \"gridwidth\": 2, \"linecolor\": \"white\", \"showbackground\": true, \"ticks\": \"\", \"zerolinecolor\": \"white\"}, \"yaxis\": {\"backgroundcolor\": \"#E5ECF6\", \"gridcolor\": \"white\", \"gridwidth\": 2, \"linecolor\": \"white\", \"showbackground\": true, \"ticks\": \"\", \"zerolinecolor\": \"white\"}, \"zaxis\": {\"backgroundcolor\": \"#E5ECF6\", \"gridcolor\": \"white\", \"gridwidth\": 2, \"linecolor\": \"white\", \"showbackground\": true, \"ticks\": \"\", \"zerolinecolor\": \"white\"}}, \"shapedefaults\": {\"line\": {\"color\": \"#2a3f5f\"}}, \"ternary\": {\"aaxis\": {\"gridcolor\": \"white\", \"linecolor\": \"white\", \"ticks\": \"\"}, \"baxis\": {\"gridcolor\": \"white\", \"linecolor\": \"white\", \"ticks\": \"\"}, \"bgcolor\": \"#E5ECF6\", \"caxis\": {\"gridcolor\": \"white\", \"linecolor\": \"white\", \"ticks\": \"\"}}, \"title\": {\"x\": 0.05}, \"xaxis\": {\"automargin\": true, \"gridcolor\": \"white\", \"linecolor\": \"white\", \"ticks\": \"\", \"title\": {\"standoff\": 15}, \"zerolinecolor\": \"white\", \"zerolinewidth\": 2}, \"yaxis\": {\"automargin\": true, \"gridcolor\": \"white\", \"linecolor\": \"white\", \"ticks\": \"\", \"title\": {\"standoff\": 15}, \"zerolinecolor\": \"white\", \"zerolinewidth\": 2}}}, \"xaxis\": {\"anchor\": \"y\", \"categoryarray\": [\"TAG\", \"STD_15:0-18:1(d7)-15:0 TAG\"], \"categoryorder\": \"array\", \"domain\": [0.0, 1.0], \"title\": {\"text\": \"Class\"}}, \"yaxis\": {\"anchor\": \"x\", \"domain\": [0.0, 1.0], \"title\": {\"text\": \"Intensity\"}}},                        {\"responsive\": true}                    ).then(function(){\n",
       "                            \n",
       "var gd = document.getElementById('c19b4ed5-0ffc-473d-8c25-2240ebd32810');\n",
       "var x = new MutationObserver(function (mutations, observer) {{\n",
       "        var display = window.getComputedStyle(gd).display;\n",
       "        if (!display || display === 'none') {{\n",
       "            console.log([gd, 'removed!']);\n",
       "            Plotly.purge(gd);\n",
       "            observer.disconnect();\n",
       "        }}\n",
       "}});\n",
       "\n",
       "// Listen for the removal of the full notebook cells\n",
       "var notebookContainer = gd.closest('#notebook-container');\n",
       "if (notebookContainer) {{\n",
       "    x.observe(notebookContainer, {childList: true});\n",
       "}}\n",
       "\n",
       "// Listen for the clearing of the current output cell\n",
       "var outputEl = gd.closest('.output');\n",
       "if (outputEl) {{\n",
       "    x.observe(outputEl, {childList: true});\n",
       "}}\n",
       "\n",
       "                        })                };                });            </script>        </div>"
      ]
     },
     "metadata": {},
     "output_type": "display_data"
    },
    {
     "data": {
      "application/vnd.plotly.v1+json": {
       "config": {
        "plotlyServerURL": "https://plot.ly"
       },
       "data": [
        {
         "domain": {
          "x": [
           0,
           1
          ],
          "y": [
           0,
           1
          ]
         },
         "hovertemplate": "Class=%{label}<br>Intensity=%{value}<extra></extra>",
         "labels": [
          "TAG",
          "TAG",
          "TAG",
          "TAG",
          "TAG",
          "TAG",
          "TAG",
          "TAG",
          "TAG",
          "TAG",
          "TAG",
          "TAG",
          "TAG",
          "TAG",
          "TAG",
          "TAG",
          "TAG",
          "TAG",
          "TAG",
          "TAG",
          "TAG",
          "TAG",
          "TAG",
          "TAG",
          "TAG",
          "TAG",
          "TAG",
          "TAG",
          "TAG",
          "TAG",
          "TAG",
          "TAG",
          "TAG",
          "TAG",
          "TAG",
          "TAG",
          "TAG",
          "TAG",
          "TAG",
          "TAG",
          "TAG",
          "TAG",
          "TAG",
          "TAG",
          "TAG",
          "TAG",
          "TAG",
          "TAG",
          "TAG",
          "TAG",
          "TAG",
          "TAG",
          "TAG",
          "TAG",
          "TAG",
          "TAG",
          "STD_15:0-18:1(d7)-15:0 TAG",
          "TAG",
          "TAG",
          "TAG",
          "TAG",
          "TAG",
          "TAG",
          "TAG",
          "TAG",
          "TAG",
          "TAG",
          "TAG",
          "TAG",
          "TAG",
          "TAG",
          "TAG",
          "TAG",
          "TAG",
          "TAG",
          "TAG",
          "TAG",
          "TAG",
          "TAG",
          "TAG",
          "TAG",
          "TAG",
          "TAG",
          "TAG",
          "TAG",
          "TAG",
          "TAG",
          "TAG",
          "TAG",
          "TAG",
          "TAG",
          "TAG",
          "TAG",
          "TAG",
          "TAG",
          "TAG",
          "TAG",
          "TAG",
          "TAG",
          "TAG",
          "TAG",
          "TAG",
          "TAG",
          "TAG",
          "TAG",
          "TAG",
          "TAG",
          "TAG",
          "TAG",
          "TAG",
          "TAG",
          "TAG",
          "TAG",
          "TAG",
          "TAG",
          "TAG",
          "TAG",
          "TAG",
          "TAG",
          "TAG",
          "TAG",
          "TAG",
          "TAG",
          "TAG",
          "TAG",
          "TAG",
          "TAG",
          "TAG",
          "TAG",
          "TAG",
          "TAG",
          "TAG",
          "TAG",
          "TAG",
          "TAG",
          "TAG",
          "TAG",
          "TAG",
          "TAG",
          "TAG",
          "TAG",
          "TAG",
          "TAG",
          "TAG",
          "TAG",
          "TAG",
          "TAG",
          "TAG",
          "TAG",
          "TAG",
          "TAG",
          "TAG",
          "TAG",
          "TAG",
          "TAG",
          "TAG",
          "TAG",
          "TAG",
          "TAG",
          "TAG",
          "TAG",
          "TAG",
          "TAG",
          "TAG",
          "TAG",
          "TAG",
          "TAG",
          "TAG",
          "TAG",
          "TAG",
          "TAG",
          "TAG",
          "TAG",
          "TAG",
          "TAG",
          "TAG",
          "TAG",
          "TAG",
          "TAG",
          "TAG",
          "TAG"
         ],
         "legendgroup": "",
         "name": "",
         "showlegend": true,
         "type": "pie",
         "values": [
          45072.822998046875,
          64211.844482421875,
          237300.73681640625,
          27744.182037353516,
          37315.48260498047,
          24415.261688232422,
          34708.20263671875,
          155327.89086914062,
          20373.861602783203,
          19893.661392211914,
          26466.401824951172,
          15374.68115234375,
          19889.30142211914,
          17753.80108642578,
          131865.6494140625,
          94824.94689941406,
          16791.481231689453,
          63030.504150390625,
          26622.84196472168,
          28583.40203857422,
          29018.08203125,
          17620.081260681152,
          15765.661041259766,
          18071.14141845703,
          39169.32312011719,
          31882.602020263672,
          72722.04577636719,
          18579.66111755371,
          21398.161346435547,
          18318.621307373047,
          16532.841232299805,
          70729.62463378906,
          46782.86340332031,
          20436.341217041016,
          20286.141387939453,
          18562.861236572266,
          20631.881439208984,
          44036.763610839844,
          68736.06512451172,
          84029.40625,
          26131.921813964844,
          20985.38151550293,
          18959.501403808594,
          21987.14175415039,
          24136.061737060547,
          31395.762451171875,
          35014.362396240234,
          51366.403381347656,
          25303.261779785156,
          23539.601623535156,
          82808.48538208008,
          286373.7007446289,
          333579.6123046875,
          80859.20629882812,
          29734.44223022461,
          22083.261352539062,
          33835.302642822266,
          22096.821563720703,
          26063.061752319336,
          29320.561981201172,
          37507.4225769043,
          34488.222259521484,
          29315.282165527344,
          35932.222259521484,
          126118.92807006836,
          432169.33502197266,
          501185.328125,
          86953.32531738281,
          36228.10238647461,
          49931.743591308594,
          23814.681854248047,
          23092.781524658203,
          28172.081909179688,
          41892.44287109375,
          46549.702728271484,
          34083.9026184082,
          40384.46292114258,
          44110.603759765625,
          42770.922912597656,
          53848.18371582031,
          56664.44418334961,
          47311.622985839844,
          30805.982299804688,
          26174.721771240234,
          25399.10171508789,
          25004.141693115234,
          31147.182556152344,
          38980.08303833008,
          46906.80307006836,
          38897.4231262207,
          73665.94470214844,
          41898.76268005371,
          28414.301971435547,
          30718.442108154297,
          33424.282623291016,
          29007.38198852539,
          35497.86260986328,
          26408.881866455078,
          22494.82162475586,
          25690.061798095703,
          29631.141998291016,
          33327.52235412598,
          29645.14239501953,
          23936.88168334961,
          21959.361694335938,
          20401.881622314453,
          20398.84147644043,
          25416.421936035156,
          22382.361602783203,
          19609.461395263672,
          22338.061492919922,
          29575.44204711914,
          20122.321487426758,
          20873.68148803711,
          20475.001525878906,
          19687.661422729492,
          17986.1212310791,
          16909.581176757812,
          17760.02130126953,
          17154.881271362305,
          17369.481216430664,
          17000.50129699707,
          14471.141006469727,
          17327.96128845215,
          15586.361099243164,
          15192.34105682373,
          16057.961143493652,
          29432.862243652344,
          21032.461456298828,
          15778.50112915039,
          13972.840942382812,
          15361.26107788086,
          14665.92106628418,
          12983.740997314453,
          16507.40118408203,
          15164.080978393555,
          16115.021049499512,
          14670.80093383789,
          11676.520835876465,
          12641.240867614746,
          14229.900955200195,
          14026.561004638672,
          13990.720977783203,
          14917.441131591797,
          14691.960952758789,
          12988.200942993164,
          13342.720916748047,
          14266.48112487793,
          13126.080932617188,
          13007.560943603516,
          15978.181114196777,
          14954.541114807129,
          12710.70083618164,
          14045.280990600586,
          14086.260986328125,
          12927.800796508789,
          10637.140739440918,
          13033.880912780762,
          13134.800857543945,
          12264.380752563477,
          13273.14094543457,
          20100.661331176758,
          12335.680953979492,
          12561.440925598145,
          19396.041259765625,
          15101.360977172852,
          15476.981079101562,
          10396.680717468262,
          12281.800918579102,
          12049.680938720703,
          11546.020881652832,
          13140.541000366211,
          14803.141014099121,
          13260.220840454102,
          15204.641082763672,
          11739.30093383789,
          10289.58073425293,
          11749.400787353516,
          12457.700866699219,
          11174.560779571533,
          12249.820945739746
         ]
        }
       ],
       "layout": {
        "legend": {
         "tracegroupgap": 0
        },
        "template": {
         "data": {
          "bar": [
           {
            "error_x": {
             "color": "#2a3f5f"
            },
            "error_y": {
             "color": "#2a3f5f"
            },
            "marker": {
             "line": {
              "color": "#E5ECF6",
              "width": 0.5
             }
            },
            "type": "bar"
           }
          ],
          "barpolar": [
           {
            "marker": {
             "line": {
              "color": "#E5ECF6",
              "width": 0.5
             }
            },
            "type": "barpolar"
           }
          ],
          "carpet": [
           {
            "aaxis": {
             "endlinecolor": "#2a3f5f",
             "gridcolor": "white",
             "linecolor": "white",
             "minorgridcolor": "white",
             "startlinecolor": "#2a3f5f"
            },
            "baxis": {
             "endlinecolor": "#2a3f5f",
             "gridcolor": "white",
             "linecolor": "white",
             "minorgridcolor": "white",
             "startlinecolor": "#2a3f5f"
            },
            "type": "carpet"
           }
          ],
          "choropleth": [
           {
            "colorbar": {
             "outlinewidth": 0,
             "ticks": ""
            },
            "type": "choropleth"
           }
          ],
          "contour": [
           {
            "colorbar": {
             "outlinewidth": 0,
             "ticks": ""
            },
            "colorscale": [
             [
              0,
              "#0d0887"
             ],
             [
              0.1111111111111111,
              "#46039f"
             ],
             [
              0.2222222222222222,
              "#7201a8"
             ],
             [
              0.3333333333333333,
              "#9c179e"
             ],
             [
              0.4444444444444444,
              "#bd3786"
             ],
             [
              0.5555555555555556,
              "#d8576b"
             ],
             [
              0.6666666666666666,
              "#ed7953"
             ],
             [
              0.7777777777777778,
              "#fb9f3a"
             ],
             [
              0.8888888888888888,
              "#fdca26"
             ],
             [
              1,
              "#f0f921"
             ]
            ],
            "type": "contour"
           }
          ],
          "contourcarpet": [
           {
            "colorbar": {
             "outlinewidth": 0,
             "ticks": ""
            },
            "type": "contourcarpet"
           }
          ],
          "heatmap": [
           {
            "colorbar": {
             "outlinewidth": 0,
             "ticks": ""
            },
            "colorscale": [
             [
              0,
              "#0d0887"
             ],
             [
              0.1111111111111111,
              "#46039f"
             ],
             [
              0.2222222222222222,
              "#7201a8"
             ],
             [
              0.3333333333333333,
              "#9c179e"
             ],
             [
              0.4444444444444444,
              "#bd3786"
             ],
             [
              0.5555555555555556,
              "#d8576b"
             ],
             [
              0.6666666666666666,
              "#ed7953"
             ],
             [
              0.7777777777777778,
              "#fb9f3a"
             ],
             [
              0.8888888888888888,
              "#fdca26"
             ],
             [
              1,
              "#f0f921"
             ]
            ],
            "type": "heatmap"
           }
          ],
          "heatmapgl": [
           {
            "colorbar": {
             "outlinewidth": 0,
             "ticks": ""
            },
            "colorscale": [
             [
              0,
              "#0d0887"
             ],
             [
              0.1111111111111111,
              "#46039f"
             ],
             [
              0.2222222222222222,
              "#7201a8"
             ],
             [
              0.3333333333333333,
              "#9c179e"
             ],
             [
              0.4444444444444444,
              "#bd3786"
             ],
             [
              0.5555555555555556,
              "#d8576b"
             ],
             [
              0.6666666666666666,
              "#ed7953"
             ],
             [
              0.7777777777777778,
              "#fb9f3a"
             ],
             [
              0.8888888888888888,
              "#fdca26"
             ],
             [
              1,
              "#f0f921"
             ]
            ],
            "type": "heatmapgl"
           }
          ],
          "histogram": [
           {
            "marker": {
             "colorbar": {
              "outlinewidth": 0,
              "ticks": ""
             }
            },
            "type": "histogram"
           }
          ],
          "histogram2d": [
           {
            "colorbar": {
             "outlinewidth": 0,
             "ticks": ""
            },
            "colorscale": [
             [
              0,
              "#0d0887"
             ],
             [
              0.1111111111111111,
              "#46039f"
             ],
             [
              0.2222222222222222,
              "#7201a8"
             ],
             [
              0.3333333333333333,
              "#9c179e"
             ],
             [
              0.4444444444444444,
              "#bd3786"
             ],
             [
              0.5555555555555556,
              "#d8576b"
             ],
             [
              0.6666666666666666,
              "#ed7953"
             ],
             [
              0.7777777777777778,
              "#fb9f3a"
             ],
             [
              0.8888888888888888,
              "#fdca26"
             ],
             [
              1,
              "#f0f921"
             ]
            ],
            "type": "histogram2d"
           }
          ],
          "histogram2dcontour": [
           {
            "colorbar": {
             "outlinewidth": 0,
             "ticks": ""
            },
            "colorscale": [
             [
              0,
              "#0d0887"
             ],
             [
              0.1111111111111111,
              "#46039f"
             ],
             [
              0.2222222222222222,
              "#7201a8"
             ],
             [
              0.3333333333333333,
              "#9c179e"
             ],
             [
              0.4444444444444444,
              "#bd3786"
             ],
             [
              0.5555555555555556,
              "#d8576b"
             ],
             [
              0.6666666666666666,
              "#ed7953"
             ],
             [
              0.7777777777777778,
              "#fb9f3a"
             ],
             [
              0.8888888888888888,
              "#fdca26"
             ],
             [
              1,
              "#f0f921"
             ]
            ],
            "type": "histogram2dcontour"
           }
          ],
          "mesh3d": [
           {
            "colorbar": {
             "outlinewidth": 0,
             "ticks": ""
            },
            "type": "mesh3d"
           }
          ],
          "parcoords": [
           {
            "line": {
             "colorbar": {
              "outlinewidth": 0,
              "ticks": ""
             }
            },
            "type": "parcoords"
           }
          ],
          "pie": [
           {
            "automargin": true,
            "type": "pie"
           }
          ],
          "scatter": [
           {
            "marker": {
             "colorbar": {
              "outlinewidth": 0,
              "ticks": ""
             }
            },
            "type": "scatter"
           }
          ],
          "scatter3d": [
           {
            "line": {
             "colorbar": {
              "outlinewidth": 0,
              "ticks": ""
             }
            },
            "marker": {
             "colorbar": {
              "outlinewidth": 0,
              "ticks": ""
             }
            },
            "type": "scatter3d"
           }
          ],
          "scattercarpet": [
           {
            "marker": {
             "colorbar": {
              "outlinewidth": 0,
              "ticks": ""
             }
            },
            "type": "scattercarpet"
           }
          ],
          "scattergeo": [
           {
            "marker": {
             "colorbar": {
              "outlinewidth": 0,
              "ticks": ""
             }
            },
            "type": "scattergeo"
           }
          ],
          "scattergl": [
           {
            "marker": {
             "colorbar": {
              "outlinewidth": 0,
              "ticks": ""
             }
            },
            "type": "scattergl"
           }
          ],
          "scattermapbox": [
           {
            "marker": {
             "colorbar": {
              "outlinewidth": 0,
              "ticks": ""
             }
            },
            "type": "scattermapbox"
           }
          ],
          "scatterpolar": [
           {
            "marker": {
             "colorbar": {
              "outlinewidth": 0,
              "ticks": ""
             }
            },
            "type": "scatterpolar"
           }
          ],
          "scatterpolargl": [
           {
            "marker": {
             "colorbar": {
              "outlinewidth": 0,
              "ticks": ""
             }
            },
            "type": "scatterpolargl"
           }
          ],
          "scatterternary": [
           {
            "marker": {
             "colorbar": {
              "outlinewidth": 0,
              "ticks": ""
             }
            },
            "type": "scatterternary"
           }
          ],
          "surface": [
           {
            "colorbar": {
             "outlinewidth": 0,
             "ticks": ""
            },
            "colorscale": [
             [
              0,
              "#0d0887"
             ],
             [
              0.1111111111111111,
              "#46039f"
             ],
             [
              0.2222222222222222,
              "#7201a8"
             ],
             [
              0.3333333333333333,
              "#9c179e"
             ],
             [
              0.4444444444444444,
              "#bd3786"
             ],
             [
              0.5555555555555556,
              "#d8576b"
             ],
             [
              0.6666666666666666,
              "#ed7953"
             ],
             [
              0.7777777777777778,
              "#fb9f3a"
             ],
             [
              0.8888888888888888,
              "#fdca26"
             ],
             [
              1,
              "#f0f921"
             ]
            ],
            "type": "surface"
           }
          ],
          "table": [
           {
            "cells": {
             "fill": {
              "color": "#EBF0F8"
             },
             "line": {
              "color": "white"
             }
            },
            "header": {
             "fill": {
              "color": "#C8D4E3"
             },
             "line": {
              "color": "white"
             }
            },
            "type": "table"
           }
          ]
         },
         "layout": {
          "annotationdefaults": {
           "arrowcolor": "#2a3f5f",
           "arrowhead": 0,
           "arrowwidth": 1
          },
          "coloraxis": {
           "colorbar": {
            "outlinewidth": 0,
            "ticks": ""
           }
          },
          "colorscale": {
           "diverging": [
            [
             0,
             "#8e0152"
            ],
            [
             0.1,
             "#c51b7d"
            ],
            [
             0.2,
             "#de77ae"
            ],
            [
             0.3,
             "#f1b6da"
            ],
            [
             0.4,
             "#fde0ef"
            ],
            [
             0.5,
             "#f7f7f7"
            ],
            [
             0.6,
             "#e6f5d0"
            ],
            [
             0.7,
             "#b8e186"
            ],
            [
             0.8,
             "#7fbc41"
            ],
            [
             0.9,
             "#4d9221"
            ],
            [
             1,
             "#276419"
            ]
           ],
           "sequential": [
            [
             0,
             "#0d0887"
            ],
            [
             0.1111111111111111,
             "#46039f"
            ],
            [
             0.2222222222222222,
             "#7201a8"
            ],
            [
             0.3333333333333333,
             "#9c179e"
            ],
            [
             0.4444444444444444,
             "#bd3786"
            ],
            [
             0.5555555555555556,
             "#d8576b"
            ],
            [
             0.6666666666666666,
             "#ed7953"
            ],
            [
             0.7777777777777778,
             "#fb9f3a"
            ],
            [
             0.8888888888888888,
             "#fdca26"
            ],
            [
             1,
             "#f0f921"
            ]
           ],
           "sequentialminus": [
            [
             0,
             "#0d0887"
            ],
            [
             0.1111111111111111,
             "#46039f"
            ],
            [
             0.2222222222222222,
             "#7201a8"
            ],
            [
             0.3333333333333333,
             "#9c179e"
            ],
            [
             0.4444444444444444,
             "#bd3786"
            ],
            [
             0.5555555555555556,
             "#d8576b"
            ],
            [
             0.6666666666666666,
             "#ed7953"
            ],
            [
             0.7777777777777778,
             "#fb9f3a"
            ],
            [
             0.8888888888888888,
             "#fdca26"
            ],
            [
             1,
             "#f0f921"
            ]
           ]
          },
          "colorway": [
           "#636efa",
           "#EF553B",
           "#00cc96",
           "#ab63fa",
           "#FFA15A",
           "#19d3f3",
           "#FF6692",
           "#B6E880",
           "#FF97FF",
           "#FECB52"
          ],
          "font": {
           "color": "#2a3f5f"
          },
          "geo": {
           "bgcolor": "white",
           "lakecolor": "white",
           "landcolor": "#E5ECF6",
           "showlakes": true,
           "showland": true,
           "subunitcolor": "white"
          },
          "hoverlabel": {
           "align": "left"
          },
          "hovermode": "closest",
          "mapbox": {
           "style": "light"
          },
          "paper_bgcolor": "white",
          "plot_bgcolor": "#E5ECF6",
          "polar": {
           "angularaxis": {
            "gridcolor": "white",
            "linecolor": "white",
            "ticks": ""
           },
           "bgcolor": "#E5ECF6",
           "radialaxis": {
            "gridcolor": "white",
            "linecolor": "white",
            "ticks": ""
           }
          },
          "scene": {
           "xaxis": {
            "backgroundcolor": "#E5ECF6",
            "gridcolor": "white",
            "gridwidth": 2,
            "linecolor": "white",
            "showbackground": true,
            "ticks": "",
            "zerolinecolor": "white"
           },
           "yaxis": {
            "backgroundcolor": "#E5ECF6",
            "gridcolor": "white",
            "gridwidth": 2,
            "linecolor": "white",
            "showbackground": true,
            "ticks": "",
            "zerolinecolor": "white"
           },
           "zaxis": {
            "backgroundcolor": "#E5ECF6",
            "gridcolor": "white",
            "gridwidth": 2,
            "linecolor": "white",
            "showbackground": true,
            "ticks": "",
            "zerolinecolor": "white"
           }
          },
          "shapedefaults": {
           "line": {
            "color": "#2a3f5f"
           }
          },
          "ternary": {
           "aaxis": {
            "gridcolor": "white",
            "linecolor": "white",
            "ticks": ""
           },
           "baxis": {
            "gridcolor": "white",
            "linecolor": "white",
            "ticks": ""
           },
           "bgcolor": "#E5ECF6",
           "caxis": {
            "gridcolor": "white",
            "linecolor": "white",
            "ticks": ""
           }
          },
          "title": {
           "x": 0.05
          },
          "xaxis": {
           "automargin": true,
           "gridcolor": "white",
           "linecolor": "white",
           "ticks": "",
           "title": {
            "standoff": 15
           },
           "zerolinecolor": "white",
           "zerolinewidth": 2
          },
          "yaxis": {
           "automargin": true,
           "gridcolor": "white",
           "linecolor": "white",
           "ticks": "",
           "title": {
            "standoff": 15
           },
           "zerolinecolor": "white",
           "zerolinewidth": 2
          }
         }
        },
        "title": {
         "text": "Lipid Class"
        }
       }
      },
      "text/html": [
       "<div>                            <div id=\"7f0a9241-a460-41ec-b19d-81e6a49d218f\" class=\"plotly-graph-div\" style=\"height:525px; width:100%;\"></div>            <script type=\"text/javascript\">                require([\"plotly\"], function(Plotly) {                    window.PLOTLYENV=window.PLOTLYENV || {};                                    if (document.getElementById(\"7f0a9241-a460-41ec-b19d-81e6a49d218f\")) {                    Plotly.newPlot(                        \"7f0a9241-a460-41ec-b19d-81e6a49d218f\",                        [{\"domain\": {\"x\": [0.0, 1.0], \"y\": [0.0, 1.0]}, \"hovertemplate\": \"Class=%{label}<br>Intensity=%{value}<extra></extra>\", \"labels\": [\"TAG\", \"TAG\", \"TAG\", \"TAG\", \"TAG\", \"TAG\", \"TAG\", \"TAG\", \"TAG\", \"TAG\", \"TAG\", \"TAG\", \"TAG\", \"TAG\", \"TAG\", \"TAG\", \"TAG\", \"TAG\", \"TAG\", \"TAG\", \"TAG\", \"TAG\", \"TAG\", \"TAG\", \"TAG\", \"TAG\", \"TAG\", \"TAG\", \"TAG\", \"TAG\", \"TAG\", \"TAG\", \"TAG\", \"TAG\", \"TAG\", \"TAG\", \"TAG\", \"TAG\", \"TAG\", \"TAG\", \"TAG\", \"TAG\", \"TAG\", \"TAG\", \"TAG\", \"TAG\", \"TAG\", \"TAG\", \"TAG\", \"TAG\", \"TAG\", \"TAG\", \"TAG\", \"TAG\", \"TAG\", \"TAG\", \"STD_15:0-18:1(d7)-15:0 TAG\", \"TAG\", \"TAG\", \"TAG\", \"TAG\", \"TAG\", \"TAG\", \"TAG\", \"TAG\", \"TAG\", \"TAG\", \"TAG\", \"TAG\", \"TAG\", \"TAG\", \"TAG\", \"TAG\", \"TAG\", \"TAG\", \"TAG\", \"TAG\", \"TAG\", \"TAG\", \"TAG\", \"TAG\", \"TAG\", \"TAG\", \"TAG\", \"TAG\", \"TAG\", \"TAG\", \"TAG\", \"TAG\", \"TAG\", \"TAG\", \"TAG\", \"TAG\", \"TAG\", \"TAG\", \"TAG\", \"TAG\", \"TAG\", \"TAG\", \"TAG\", \"TAG\", \"TAG\", \"TAG\", \"TAG\", \"TAG\", \"TAG\", \"TAG\", \"TAG\", \"TAG\", \"TAG\", \"TAG\", \"TAG\", \"TAG\", \"TAG\", \"TAG\", \"TAG\", \"TAG\", \"TAG\", \"TAG\", \"TAG\", \"TAG\", \"TAG\", \"TAG\", \"TAG\", \"TAG\", \"TAG\", \"TAG\", \"TAG\", \"TAG\", \"TAG\", \"TAG\", \"TAG\", \"TAG\", \"TAG\", \"TAG\", \"TAG\", \"TAG\", \"TAG\", \"TAG\", \"TAG\", \"TAG\", \"TAG\", \"TAG\", \"TAG\", \"TAG\", \"TAG\", \"TAG\", \"TAG\", \"TAG\", \"TAG\", \"TAG\", \"TAG\", \"TAG\", \"TAG\", \"TAG\", \"TAG\", \"TAG\", \"TAG\", \"TAG\", \"TAG\", \"TAG\", \"TAG\", \"TAG\", \"TAG\", \"TAG\", \"TAG\", \"TAG\", \"TAG\", \"TAG\", \"TAG\", \"TAG\", \"TAG\", \"TAG\", \"TAG\", \"TAG\", \"TAG\", \"TAG\", \"TAG\", \"TAG\", \"TAG\", \"TAG\"], \"legendgroup\": \"\", \"name\": \"\", \"showlegend\": true, \"type\": \"pie\", \"values\": [45072.822998046875, 64211.844482421875, 237300.73681640625, 27744.182037353516, 37315.48260498047, 24415.261688232422, 34708.20263671875, 155327.89086914062, 20373.861602783203, 19893.661392211914, 26466.401824951172, 15374.68115234375, 19889.30142211914, 17753.80108642578, 131865.6494140625, 94824.94689941406, 16791.481231689453, 63030.504150390625, 26622.84196472168, 28583.40203857422, 29018.08203125, 17620.081260681152, 15765.661041259766, 18071.14141845703, 39169.32312011719, 31882.602020263672, 72722.04577636719, 18579.66111755371, 21398.161346435547, 18318.621307373047, 16532.841232299805, 70729.62463378906, 46782.86340332031, 20436.341217041016, 20286.141387939453, 18562.861236572266, 20631.881439208984, 44036.763610839844, 68736.06512451172, 84029.40625, 26131.921813964844, 20985.38151550293, 18959.501403808594, 21987.14175415039, 24136.061737060547, 31395.762451171875, 35014.362396240234, 51366.403381347656, 25303.261779785156, 23539.601623535156, 82808.48538208008, 286373.7007446289, 333579.6123046875, 80859.20629882812, 29734.44223022461, 22083.261352539062, 33835.302642822266, 22096.821563720703, 26063.061752319336, 29320.561981201172, 37507.4225769043, 34488.222259521484, 29315.282165527344, 35932.222259521484, 126118.92807006836, 432169.33502197266, 501185.328125, 86953.32531738281, 36228.10238647461, 49931.743591308594, 23814.681854248047, 23092.781524658203, 28172.081909179688, 41892.44287109375, 46549.702728271484, 34083.9026184082, 40384.46292114258, 44110.603759765625, 42770.922912597656, 53848.18371582031, 56664.44418334961, 47311.622985839844, 30805.982299804688, 26174.721771240234, 25399.10171508789, 25004.141693115234, 31147.182556152344, 38980.08303833008, 46906.80307006836, 38897.4231262207, 73665.94470214844, 41898.76268005371, 28414.301971435547, 30718.442108154297, 33424.282623291016, 29007.38198852539, 35497.86260986328, 26408.881866455078, 22494.82162475586, 25690.061798095703, 29631.141998291016, 33327.52235412598, 29645.14239501953, 23936.88168334961, 21959.361694335938, 20401.881622314453, 20398.84147644043, 25416.421936035156, 22382.361602783203, 19609.461395263672, 22338.061492919922, 29575.44204711914, 20122.321487426758, 20873.68148803711, 20475.001525878906, 19687.661422729492, 17986.1212310791, 16909.581176757812, 17760.02130126953, 17154.881271362305, 17369.481216430664, 17000.50129699707, 14471.141006469727, 17327.96128845215, 15586.361099243164, 15192.34105682373, 16057.961143493652, 29432.862243652344, 21032.461456298828, 15778.50112915039, 13972.840942382812, 15361.26107788086, 14665.92106628418, 12983.740997314453, 16507.40118408203, 15164.080978393555, 16115.021049499512, 14670.80093383789, 11676.520835876465, 12641.240867614746, 14229.900955200195, 14026.561004638672, 13990.720977783203, 14917.441131591797, 14691.960952758789, 12988.200942993164, 13342.720916748047, 14266.48112487793, 13126.080932617188, 13007.560943603516, 15978.181114196777, 14954.541114807129, 12710.70083618164, 14045.280990600586, 14086.260986328125, 12927.800796508789, 10637.140739440918, 13033.880912780762, 13134.800857543945, 12264.380752563477, 13273.14094543457, 20100.661331176758, 12335.680953979492, 12561.440925598145, 19396.041259765625, 15101.360977172852, 15476.981079101562, 10396.680717468262, 12281.800918579102, 12049.680938720703, 11546.020881652832, 13140.541000366211, 14803.141014099121, 13260.220840454102, 15204.641082763672, 11739.30093383789, 10289.58073425293, 11749.400787353516, 12457.700866699219, 11174.560779571533, 12249.820945739746]}],                        {\"legend\": {\"tracegroupgap\": 0}, \"template\": {\"data\": {\"bar\": [{\"error_x\": {\"color\": \"#2a3f5f\"}, \"error_y\": {\"color\": \"#2a3f5f\"}, \"marker\": {\"line\": {\"color\": \"#E5ECF6\", \"width\": 0.5}}, \"type\": \"bar\"}], \"barpolar\": [{\"marker\": {\"line\": {\"color\": \"#E5ECF6\", \"width\": 0.5}}, \"type\": \"barpolar\"}], \"carpet\": [{\"aaxis\": {\"endlinecolor\": \"#2a3f5f\", \"gridcolor\": \"white\", \"linecolor\": \"white\", \"minorgridcolor\": \"white\", \"startlinecolor\": \"#2a3f5f\"}, \"baxis\": {\"endlinecolor\": \"#2a3f5f\", \"gridcolor\": \"white\", \"linecolor\": \"white\", \"minorgridcolor\": \"white\", \"startlinecolor\": \"#2a3f5f\"}, \"type\": \"carpet\"}], \"choropleth\": [{\"colorbar\": {\"outlinewidth\": 0, \"ticks\": \"\"}, \"type\": \"choropleth\"}], \"contour\": [{\"colorbar\": {\"outlinewidth\": 0, \"ticks\": \"\"}, \"colorscale\": [[0.0, \"#0d0887\"], [0.1111111111111111, \"#46039f\"], [0.2222222222222222, \"#7201a8\"], [0.3333333333333333, \"#9c179e\"], [0.4444444444444444, \"#bd3786\"], [0.5555555555555556, \"#d8576b\"], [0.6666666666666666, \"#ed7953\"], [0.7777777777777778, \"#fb9f3a\"], [0.8888888888888888, \"#fdca26\"], [1.0, \"#f0f921\"]], \"type\": \"contour\"}], \"contourcarpet\": [{\"colorbar\": {\"outlinewidth\": 0, \"ticks\": \"\"}, \"type\": \"contourcarpet\"}], \"heatmap\": [{\"colorbar\": {\"outlinewidth\": 0, \"ticks\": \"\"}, \"colorscale\": [[0.0, \"#0d0887\"], [0.1111111111111111, \"#46039f\"], [0.2222222222222222, \"#7201a8\"], [0.3333333333333333, \"#9c179e\"], [0.4444444444444444, \"#bd3786\"], [0.5555555555555556, \"#d8576b\"], [0.6666666666666666, \"#ed7953\"], [0.7777777777777778, \"#fb9f3a\"], [0.8888888888888888, \"#fdca26\"], [1.0, \"#f0f921\"]], \"type\": \"heatmap\"}], \"heatmapgl\": [{\"colorbar\": {\"outlinewidth\": 0, \"ticks\": \"\"}, \"colorscale\": [[0.0, \"#0d0887\"], [0.1111111111111111, \"#46039f\"], [0.2222222222222222, \"#7201a8\"], [0.3333333333333333, \"#9c179e\"], [0.4444444444444444, \"#bd3786\"], [0.5555555555555556, \"#d8576b\"], [0.6666666666666666, \"#ed7953\"], [0.7777777777777778, \"#fb9f3a\"], [0.8888888888888888, \"#fdca26\"], [1.0, \"#f0f921\"]], \"type\": \"heatmapgl\"}], \"histogram\": [{\"marker\": {\"colorbar\": {\"outlinewidth\": 0, \"ticks\": \"\"}}, \"type\": \"histogram\"}], \"histogram2d\": [{\"colorbar\": {\"outlinewidth\": 0, \"ticks\": \"\"}, \"colorscale\": [[0.0, \"#0d0887\"], [0.1111111111111111, \"#46039f\"], [0.2222222222222222, \"#7201a8\"], [0.3333333333333333, \"#9c179e\"], [0.4444444444444444, \"#bd3786\"], [0.5555555555555556, \"#d8576b\"], [0.6666666666666666, \"#ed7953\"], [0.7777777777777778, \"#fb9f3a\"], [0.8888888888888888, \"#fdca26\"], [1.0, \"#f0f921\"]], \"type\": \"histogram2d\"}], \"histogram2dcontour\": [{\"colorbar\": {\"outlinewidth\": 0, \"ticks\": \"\"}, \"colorscale\": [[0.0, \"#0d0887\"], [0.1111111111111111, \"#46039f\"], [0.2222222222222222, \"#7201a8\"], [0.3333333333333333, \"#9c179e\"], [0.4444444444444444, \"#bd3786\"], [0.5555555555555556, \"#d8576b\"], [0.6666666666666666, \"#ed7953\"], [0.7777777777777778, \"#fb9f3a\"], [0.8888888888888888, \"#fdca26\"], [1.0, \"#f0f921\"]], \"type\": \"histogram2dcontour\"}], \"mesh3d\": [{\"colorbar\": {\"outlinewidth\": 0, \"ticks\": \"\"}, \"type\": \"mesh3d\"}], \"parcoords\": [{\"line\": {\"colorbar\": {\"outlinewidth\": 0, \"ticks\": \"\"}}, \"type\": \"parcoords\"}], \"pie\": [{\"automargin\": true, \"type\": \"pie\"}], \"scatter\": [{\"marker\": {\"colorbar\": {\"outlinewidth\": 0, \"ticks\": \"\"}}, \"type\": \"scatter\"}], \"scatter3d\": [{\"line\": {\"colorbar\": {\"outlinewidth\": 0, \"ticks\": \"\"}}, \"marker\": {\"colorbar\": {\"outlinewidth\": 0, \"ticks\": \"\"}}, \"type\": \"scatter3d\"}], \"scattercarpet\": [{\"marker\": {\"colorbar\": {\"outlinewidth\": 0, \"ticks\": \"\"}}, \"type\": \"scattercarpet\"}], \"scattergeo\": [{\"marker\": {\"colorbar\": {\"outlinewidth\": 0, \"ticks\": \"\"}}, \"type\": \"scattergeo\"}], \"scattergl\": [{\"marker\": {\"colorbar\": {\"outlinewidth\": 0, \"ticks\": \"\"}}, \"type\": \"scattergl\"}], \"scattermapbox\": [{\"marker\": {\"colorbar\": {\"outlinewidth\": 0, \"ticks\": \"\"}}, \"type\": \"scattermapbox\"}], \"scatterpolar\": [{\"marker\": {\"colorbar\": {\"outlinewidth\": 0, \"ticks\": \"\"}}, \"type\": \"scatterpolar\"}], \"scatterpolargl\": [{\"marker\": {\"colorbar\": {\"outlinewidth\": 0, \"ticks\": \"\"}}, \"type\": \"scatterpolargl\"}], \"scatterternary\": [{\"marker\": {\"colorbar\": {\"outlinewidth\": 0, \"ticks\": \"\"}}, \"type\": \"scatterternary\"}], \"surface\": [{\"colorbar\": {\"outlinewidth\": 0, \"ticks\": \"\"}, \"colorscale\": [[0.0, \"#0d0887\"], [0.1111111111111111, \"#46039f\"], [0.2222222222222222, \"#7201a8\"], [0.3333333333333333, \"#9c179e\"], [0.4444444444444444, \"#bd3786\"], [0.5555555555555556, \"#d8576b\"], [0.6666666666666666, \"#ed7953\"], [0.7777777777777778, \"#fb9f3a\"], [0.8888888888888888, \"#fdca26\"], [1.0, \"#f0f921\"]], \"type\": \"surface\"}], \"table\": [{\"cells\": {\"fill\": {\"color\": \"#EBF0F8\"}, \"line\": {\"color\": \"white\"}}, \"header\": {\"fill\": {\"color\": \"#C8D4E3\"}, \"line\": {\"color\": \"white\"}}, \"type\": \"table\"}]}, \"layout\": {\"annotationdefaults\": {\"arrowcolor\": \"#2a3f5f\", \"arrowhead\": 0, \"arrowwidth\": 1}, \"coloraxis\": {\"colorbar\": {\"outlinewidth\": 0, \"ticks\": \"\"}}, \"colorscale\": {\"diverging\": [[0, \"#8e0152\"], [0.1, \"#c51b7d\"], [0.2, \"#de77ae\"], [0.3, \"#f1b6da\"], [0.4, \"#fde0ef\"], [0.5, \"#f7f7f7\"], [0.6, \"#e6f5d0\"], [0.7, \"#b8e186\"], [0.8, \"#7fbc41\"], [0.9, \"#4d9221\"], [1, \"#276419\"]], \"sequential\": [[0.0, \"#0d0887\"], [0.1111111111111111, \"#46039f\"], [0.2222222222222222, \"#7201a8\"], [0.3333333333333333, \"#9c179e\"], [0.4444444444444444, \"#bd3786\"], [0.5555555555555556, \"#d8576b\"], [0.6666666666666666, \"#ed7953\"], [0.7777777777777778, \"#fb9f3a\"], [0.8888888888888888, \"#fdca26\"], [1.0, \"#f0f921\"]], \"sequentialminus\": [[0.0, \"#0d0887\"], [0.1111111111111111, \"#46039f\"], [0.2222222222222222, \"#7201a8\"], [0.3333333333333333, \"#9c179e\"], [0.4444444444444444, \"#bd3786\"], [0.5555555555555556, \"#d8576b\"], [0.6666666666666666, \"#ed7953\"], [0.7777777777777778, \"#fb9f3a\"], [0.8888888888888888, \"#fdca26\"], [1.0, \"#f0f921\"]]}, \"colorway\": [\"#636efa\", \"#EF553B\", \"#00cc96\", \"#ab63fa\", \"#FFA15A\", \"#19d3f3\", \"#FF6692\", \"#B6E880\", \"#FF97FF\", \"#FECB52\"], \"font\": {\"color\": \"#2a3f5f\"}, \"geo\": {\"bgcolor\": \"white\", \"lakecolor\": \"white\", \"landcolor\": \"#E5ECF6\", \"showlakes\": true, \"showland\": true, \"subunitcolor\": \"white\"}, \"hoverlabel\": {\"align\": \"left\"}, \"hovermode\": \"closest\", \"mapbox\": {\"style\": \"light\"}, \"paper_bgcolor\": \"white\", \"plot_bgcolor\": \"#E5ECF6\", \"polar\": {\"angularaxis\": {\"gridcolor\": \"white\", \"linecolor\": \"white\", \"ticks\": \"\"}, \"bgcolor\": \"#E5ECF6\", \"radialaxis\": {\"gridcolor\": \"white\", \"linecolor\": \"white\", \"ticks\": \"\"}}, \"scene\": {\"xaxis\": {\"backgroundcolor\": \"#E5ECF6\", \"gridcolor\": \"white\", \"gridwidth\": 2, \"linecolor\": \"white\", \"showbackground\": true, \"ticks\": \"\", \"zerolinecolor\": \"white\"}, \"yaxis\": {\"backgroundcolor\": \"#E5ECF6\", \"gridcolor\": \"white\", \"gridwidth\": 2, \"linecolor\": \"white\", \"showbackground\": true, \"ticks\": \"\", \"zerolinecolor\": \"white\"}, \"zaxis\": {\"backgroundcolor\": \"#E5ECF6\", \"gridcolor\": \"white\", \"gridwidth\": 2, \"linecolor\": \"white\", \"showbackground\": true, \"ticks\": \"\", \"zerolinecolor\": \"white\"}}, \"shapedefaults\": {\"line\": {\"color\": \"#2a3f5f\"}}, \"ternary\": {\"aaxis\": {\"gridcolor\": \"white\", \"linecolor\": \"white\", \"ticks\": \"\"}, \"baxis\": {\"gridcolor\": \"white\", \"linecolor\": \"white\", \"ticks\": \"\"}, \"bgcolor\": \"#E5ECF6\", \"caxis\": {\"gridcolor\": \"white\", \"linecolor\": \"white\", \"ticks\": \"\"}}, \"title\": {\"x\": 0.05}, \"xaxis\": {\"automargin\": true, \"gridcolor\": \"white\", \"linecolor\": \"white\", \"ticks\": \"\", \"title\": {\"standoff\": 15}, \"zerolinecolor\": \"white\", \"zerolinewidth\": 2}, \"yaxis\": {\"automargin\": true, \"gridcolor\": \"white\", \"linecolor\": \"white\", \"ticks\": \"\", \"title\": {\"standoff\": 15}, \"zerolinecolor\": \"white\", \"zerolinewidth\": 2}}}, \"title\": {\"text\": \"Lipid Class\"}},                        {\"responsive\": true}                    ).then(function(){\n",
       "                            \n",
       "var gd = document.getElementById('7f0a9241-a460-41ec-b19d-81e6a49d218f');\n",
       "var x = new MutationObserver(function (mutations, observer) {{\n",
       "        var display = window.getComputedStyle(gd).display;\n",
       "        if (!display || display === 'none') {{\n",
       "            console.log([gd, 'removed!']);\n",
       "            Plotly.purge(gd);\n",
       "            observer.disconnect();\n",
       "        }}\n",
       "}});\n",
       "\n",
       "// Listen for the removal of the full notebook cells\n",
       "var notebookContainer = gd.closest('#notebook-container');\n",
       "if (notebookContainer) {{\n",
       "    x.observe(notebookContainer, {childList: true});\n",
       "}}\n",
       "\n",
       "// Listen for the clearing of the current output cell\n",
       "var outputEl = gd.closest('.output');\n",
       "if (outputEl) {{\n",
       "    x.observe(outputEl, {childList: true});\n",
       "}}\n",
       "\n",
       "                        })                };                });            </script>        </div>"
      ]
     },
     "metadata": {},
     "output_type": "display_data"
    },
    {
     "data": {
      "application/vnd.plotly.v1+json": {
       "config": {
        "plotlyServerURL": "https://plot.ly"
       },
       "data": [
        {
         "colorscale": [
          [
           0,
           "#440154"
          ],
          [
           0.1111111111111111,
           "#482878"
          ],
          [
           0.2222222222222222,
           "#3e4989"
          ],
          [
           0.3333333333333333,
           "#31688e"
          ],
          [
           0.4444444444444444,
           "#26828e"
          ],
          [
           0.5555555555555556,
           "#1f9e89"
          ],
          [
           0.6666666666666666,
           "#35b779"
          ],
          [
           0.7777777777777778,
           "#6ece58"
          ],
          [
           0.8888888888888888,
           "#b5de2b"
          ],
          [
           1,
           "#fde725"
          ]
         ],
         "type": "heatmap",
         "x": [
          "[TG(37:0)]_FA14:0",
          "[TG(38:1)]_FA14:0",
          "[TG(38:0)]_FA14:0",
          "[TG(39:1)]_FA14:0",
          "[TG(39:0)]_FA14:0",
          "[TG(40:2)]_FA14:0",
          "[TG(40:1)]_FA14:0",
          "[TG(40:0)]_FA14:0",
          "[TG(41:2)]_FA14:0",
          "[TG(41:1)]_FA14:0",
          "[TG(41:0)]_FA14:0",
          "[TG(42:4)]_FA14:0",
          "[TG(42:3)]_FA14:0",
          "[TG(42:2)]_FA14:0",
          "[TG(42:1)]_FA14:0",
          "[TG(42:0)]_FA14:0",
          "[TG(43:4)]_FA14:0",
          "[TG(43:3)]_FA14:0",
          "[TG(43:2)]_FA14:0",
          "[TG(43:1)]_FA14:0",
          "[TG(43:0)]_FA14:0",
          "[TG(44:5)]_FA14:0",
          "[TG(44:4)]_FA14:0",
          "[TG(44:3)]_FA14:0",
          "[TG(44:2)]_FA14:0",
          "[TG(44:1)]_FA14:0",
          "[TG(44:0),TG(O-45:0)]_FA14:0",
          "[TG(45:5)]_FA14:0",
          "[TG(45:4)]_FA14:0",
          "[TG(45:3)]_FA14:0",
          "[TG(45:2)]_FA14:0",
          "[TG(45:1)]_FA14:0",
          "[TG(45:0)]_FA14:0",
          "[TG(46:6)]_FA14:0",
          "[TG(46:5)]_FA14:0",
          "[TG(46:4)]_FA14:0",
          "[TG(46:3)]_FA14:0",
          "[TG(46:2)]_FA14:0",
          "[TG(46:1)]_FA14:0",
          "[TG(46:0)]_FA14:0",
          "[TG(47:6)]_FA14:0",
          "[TG(47:5)]_FA14:0",
          "[TG(47:4)]_FA14:0",
          "[TG(47:3)]_FA14:0",
          "[TG(47:2)]_FA14:0",
          "[TG(48:8),TG(47:1)]_FA14:0",
          "[TG(48:7),TG(47:0)]_FA14:0",
          "[TG(48:6)]_FA14:0",
          "[TG(48:5)]_FA14:0",
          "[TG(48:4)]_FA14:0",
          "[TG(48:3)]_FA14:0",
          "[TG(48:2)]_FA14:0",
          "[TG(49:8),TG(48:1)]_FA14:0",
          "[TG(49:7),TG(48:0)]_FA14:0",
          "[TG(49:6)]_FA14:0",
          "[TG(49:5)]_FA14:0",
          "STD_15:0-18:1(d7)-15:0 TAG",
          "[TG(49:4)]_FA14:0",
          "[TG(49:3)]_FA14:0",
          "[TG(50:9),TG(49:2)]_FA14:0",
          "[TG(50:8),TG(49:1)]_FA14:0",
          "[TG(50:7),TG(49:0)]_FA14:0",
          "[TG(50:6)]_FA14:0",
          "[TG(50:5)]_FA14:0",
          "[TG(50:4)]_FA14:0",
          "[TG(50:3)]_FA14:0",
          "[TG(51:9),TG(50:2)]_FA14:0",
          "[TG(51:8),TG(50:1)]_FA14:0",
          "[TG(51:7),TG(50:0)]_FA14:0",
          "[TG(51:6)]_FA14:0",
          "[TG(51:5)]_FA14:0",
          "[TG(51:4)]_FA14:0",
          "[TG(52:10),TG(51:3)]_FA14:0",
          "[TG(52:9),TG(51:2)]_FA14:0",
          "[TG(52:8),TG(51:1)]_FA14:0",
          "[TG(52:7),TG(51:0)]_FA14:0",
          "[TG(52:6)]_FA14:0",
          "[TG(52:5)]_FA14:0",
          "[TG(52:4)]_FA14:0",
          "[TG(53:10),TG(52:3)]_FA14:0",
          "[TG(53:9),TG(52:2)]_FA14:0",
          "[TG(53:8),TG(52:1)]_FA14:0",
          "[TG(53:7),TG(52:0)]_FA14:0",
          "[TG(53:6)]_FA14:0",
          "[TG(54:12),TG(53:5)]_FA14:0",
          "[TG(54:11),TG(53:4)]_FA14:0",
          "[TG(54:10),TG(53:3)]_FA14:0",
          "[TG(54:9),TG(53:2)]_FA14:0",
          "[TG(54:8),TG(53:1)]_FA14:0",
          "[TG(54:7),TG(53:0)]_FA14:0",
          "[TG(54:6)]_FA14:0",
          "[TG(54:5)]_FA14:0",
          "[TG(55:11),TG(54:4)]_FA14:0",
          "[TG(55:10),TG(54:3)]_FA14:0",
          "[TG(55:9),TG(54:2)]_FA14:0",
          "[TG(55:8),TG(54:1)]_FA14:0",
          "[TG(55:7),TG(54:0)]_FA14:0",
          "[TG(56:13),TG(55:6)]_FA14:0",
          "[TG(56:12),TG(55:5)]_FA14:0",
          "[TG(56:11),TG(55:4)]_FA14:0",
          "[TG(56:10),TG(55:3)]_FA14:0",
          "[TG(56:9),TG(55:2)]_FA14:0",
          "[TG(56:8),TG(55:1)]_FA14:0",
          "[TG(56:7),TG(55:0)]_FA14:0",
          "[TG(56:6)]_FA14:0",
          "[TG(57:12),TG(56:5)]_FA14:0",
          "[TG(57:11),TG(56:4)]_FA14:0",
          "[TG(57:10),TG(56:3)]_FA14:0",
          "[TG(57:9),TG(56:2)]_FA14:0",
          "[TG(57:8),TG(56:1)]_FA14:0",
          "[TG(58:14),TG(57:7),TG(56:0)]_FA14:0",
          "[TG(58:13),TG(57:6)]_FA14:0",
          "[TG(58:12),TG(57:5)]_FA14:0",
          "[TG(58:11),TG(57:4)]_FA14:0",
          "[TG(58:10),TG(57:3)]_FA14:0",
          "[TG(58:9),TG(57:2)]_FA14:0",
          "[TG(58:8),TG(57:1)]_FA14:0",
          "[TG(58:7),TG(57:0)]_FA14:0",
          "[TG(59:13),TG(58:6)]_FA14:0",
          "[TG(59:12),TG(58:5)]_FA14:0",
          "[TG(59:11),TG(58:4)]_FA14:0",
          "[TG(59:10),TG(58:3)]_FA14:0",
          "[TG(59:9),TG(58:2)]_FA14:0",
          "[TG(60:15),TG(59:8),TG(58:1)]_FA14:0",
          "[TG(60:14),TG(59:7),TG(58:0)]_FA14:0",
          "[TG(60:13),TG(59:6)]_FA14:0",
          "[TG(60:12),TG(59:5)]_FA14:0",
          "[TG(60:11),TG(59:4)]_FA14:0",
          "[TG(60:10),TG(59:3)]_FA14:0",
          "[TG(60:9),TG(59:2)]_FA14:0",
          "[TG(60:8),TG(59:1)]_FA14:0",
          "[TG(61:14),TG(60:7),TG(59:0)]_FA14:0",
          "[TG(61:13),TG(60:6)]_FA14:0",
          "[TG(61:12),TG(60:5)]_FA14:0",
          "[TG(61:11),TG(60:4)]_FA14:0",
          "[TG(61:10),TG(60:3)]_FA14:0",
          "[TG(62:16),TG(61:9),TG(60:2)]_FA14:0",
          "[TG(62:15),TG(61:8),TG(60:1)]_FA14:0",
          "[TG(62:14),TG(61:7),TG(60:0)]_FA14:0",
          "[TG(62:13),TG(61:6)]_FA14:0",
          "[TG(62:12),TG(61:5)]_FA14:0",
          "[TG(62:11),TG(61:4)]_FA14:0",
          "[TG(62:10),TG(61:3)]_FA14:0",
          "[TG(62:9),TG(61:2)]_FA14:0",
          "[TG(62:8),TG(61:1)]_FA14:0",
          "[TG(62:7),TG(61:0)]_FA14:0",
          "[TG(63:13),TG(62:6)]_FA14:0",
          "[TG(63:12),TG(62:5)]_FA14:0",
          "[TG(63:11),TG(62:4)]_FA14:0",
          "[TG(64:17),TG(63:10),TG(62:3)]_FA14:0",
          "[TG(64:16),TG(63:9),TG(62:2)]_FA14:0",
          "[TG(64:15),TG(63:8),TG(62:1)]_FA14:0",
          "[TG(64:14),TG(63:7),TG(62:0)]_FA14:0",
          "[TG(64:13),TG(63:6)]_FA14:0",
          "[TG(64:12),TG(63:5)]_FA14:0",
          "[TG(64:11),TG(63:4)]_FA14:0",
          "[TG(64:10),TG(63:3)]_FA14:0",
          "[TG(64:9),TG(63:2)]_FA14:0",
          "[TG(64:8),TG(63:1)]_FA14:0",
          "[TG(64:7),TG(63:0)]_FA14:0",
          "[TG(64:6)]_FA14:0",
          "[TG(65:12),TG(64:5)]_FA14:0",
          "[TG(66:18),TG(65:11),TG(64:4)]_FA14:0",
          "[TG(66:17),TG(65:10),TG(64:3)]_FA14:0",
          "[TG(66:16),TG(65:9),TG(64:2)]_FA14:0",
          "[TG(66:15),TG(65:8),TG(64:1)]_FA14:0",
          "[TG(66:14),TG(65:7),TG(64:0)]_FA14:0",
          "[TG(66:13),TG(65:6)]_FA14:0",
          "[TG(66:12),TG(65:5)]_FA14:0",
          "[TG(66:11),TG(65:4)]_FA14:0",
          "[TG(66:10),TG(65:3)]_FA14:0",
          "[TG(66:9),TG(65:2)]_FA14:0",
          "[TG(66:8),TG(65:1)]_FA14:0",
          "[TG(66:7)]_FA14:0",
          "[TG(65:0)]_FA14:0",
          "[TG(66:6)]_FA14:0",
          "[TG(66:5)]_FA14:0",
          "[TG(66:4)]_FA14:0",
          "[TG(66:3)]_FA14:0",
          "[TG(66:2)]_FA14:0",
          "[TG(66:1)]_FA14:0"
         ],
         "y": [
          "TAG",
          "TAG",
          "TAG",
          "TAG",
          "TAG",
          "TAG",
          "TAG",
          "TAG",
          "TAG",
          "TAG",
          "TAG",
          "TAG",
          "TAG",
          "TAG",
          "TAG",
          "TAG",
          "TAG",
          "TAG",
          "TAG",
          "TAG",
          "TAG",
          "TAG",
          "TAG",
          "TAG",
          "TAG",
          "TAG",
          "TAG",
          "TAG",
          "TAG",
          "TAG",
          "TAG",
          "TAG",
          "TAG",
          "TAG",
          "TAG",
          "TAG",
          "TAG",
          "TAG",
          "TAG",
          "TAG",
          "TAG",
          "TAG",
          "TAG",
          "TAG",
          "TAG",
          "TAG",
          "TAG",
          "TAG",
          "TAG",
          "TAG",
          "TAG",
          "TAG",
          "TAG",
          "TAG",
          "TAG",
          "TAG",
          "STD_15:0-18:1(d7)-15:0 TAG",
          "TAG",
          "TAG",
          "TAG",
          "TAG",
          "TAG",
          "TAG",
          "TAG",
          "TAG",
          "TAG",
          "TAG",
          "TAG",
          "TAG",
          "TAG",
          "TAG",
          "TAG",
          "TAG",
          "TAG",
          "TAG",
          "TAG",
          "TAG",
          "TAG",
          "TAG",
          "TAG",
          "TAG",
          "TAG",
          "TAG",
          "TAG",
          "TAG",
          "TAG",
          "TAG",
          "TAG",
          "TAG",
          "TAG",
          "TAG",
          "TAG",
          "TAG",
          "TAG",
          "TAG",
          "TAG",
          "TAG",
          "TAG",
          "TAG",
          "TAG",
          "TAG",
          "TAG",
          "TAG",
          "TAG",
          "TAG",
          "TAG",
          "TAG",
          "TAG",
          "TAG",
          "TAG",
          "TAG",
          "TAG",
          "TAG",
          "TAG",
          "TAG",
          "TAG",
          "TAG",
          "TAG",
          "TAG",
          "TAG",
          "TAG",
          "TAG",
          "TAG",
          "TAG",
          "TAG",
          "TAG",
          "TAG",
          "TAG",
          "TAG",
          "TAG",
          "TAG",
          "TAG",
          "TAG",
          "TAG",
          "TAG",
          "TAG",
          "TAG",
          "TAG",
          "TAG",
          "TAG",
          "TAG",
          "TAG",
          "TAG",
          "TAG",
          "TAG",
          "TAG",
          "TAG",
          "TAG",
          "TAG",
          "TAG",
          "TAG",
          "TAG",
          "TAG",
          "TAG",
          "TAG",
          "TAG",
          "TAG",
          "TAG",
          "TAG",
          "TAG",
          "TAG",
          "TAG",
          "TAG",
          "TAG",
          "TAG",
          "TAG",
          "TAG",
          "TAG",
          "TAG",
          "TAG",
          "TAG",
          "TAG",
          "TAG",
          "TAG",
          "TAG",
          "TAG",
          "TAG",
          "TAG",
          "TAG",
          "TAG",
          "TAG"
         ],
         "z": [
          45072.822998046875,
          64211.844482421875,
          237300.73681640625,
          27744.182037353516,
          37315.48260498047,
          24415.261688232422,
          34708.20263671875,
          155327.89086914062,
          20373.861602783203,
          19893.661392211914,
          26466.401824951172,
          15374.68115234375,
          19889.30142211914,
          17753.80108642578,
          131865.6494140625,
          94824.94689941406,
          16791.481231689453,
          63030.504150390625,
          26622.84196472168,
          28583.40203857422,
          29018.08203125,
          17620.081260681152,
          15765.661041259766,
          18071.14141845703,
          39169.32312011719,
          31882.602020263672,
          72722.04577636719,
          18579.66111755371,
          21398.161346435547,
          18318.621307373047,
          16532.841232299805,
          70729.62463378906,
          46782.86340332031,
          20436.341217041016,
          20286.141387939453,
          18562.861236572266,
          20631.881439208984,
          44036.763610839844,
          68736.06512451172,
          84029.40625,
          26131.921813964844,
          20985.38151550293,
          18959.501403808594,
          21987.14175415039,
          24136.061737060547,
          31395.762451171875,
          35014.362396240234,
          51366.403381347656,
          25303.261779785156,
          23539.601623535156,
          82808.48538208008,
          286373.7007446289,
          333579.6123046875,
          80859.20629882812,
          29734.44223022461,
          22083.261352539062,
          33835.302642822266,
          22096.821563720703,
          26063.061752319336,
          29320.561981201172,
          37507.4225769043,
          34488.222259521484,
          29315.282165527344,
          35932.222259521484,
          126118.92807006836,
          432169.33502197266,
          501185.328125,
          86953.32531738281,
          36228.10238647461,
          49931.743591308594,
          23814.681854248047,
          23092.781524658203,
          28172.081909179688,
          41892.44287109375,
          46549.702728271484,
          34083.9026184082,
          40384.46292114258,
          44110.603759765625,
          42770.922912597656,
          53848.18371582031,
          56664.44418334961,
          47311.622985839844,
          30805.982299804688,
          26174.721771240234,
          25399.10171508789,
          25004.141693115234,
          31147.182556152344,
          38980.08303833008,
          46906.80307006836,
          38897.4231262207,
          73665.94470214844,
          41898.76268005371,
          28414.301971435547,
          30718.442108154297,
          33424.282623291016,
          29007.38198852539,
          35497.86260986328,
          26408.881866455078,
          22494.82162475586,
          25690.061798095703,
          29631.141998291016,
          33327.52235412598,
          29645.14239501953,
          23936.88168334961,
          21959.361694335938,
          20401.881622314453,
          20398.84147644043,
          25416.421936035156,
          22382.361602783203,
          19609.461395263672,
          22338.061492919922,
          29575.44204711914,
          20122.321487426758,
          20873.68148803711,
          20475.001525878906,
          19687.661422729492,
          17986.1212310791,
          16909.581176757812,
          17760.02130126953,
          17154.881271362305,
          17369.481216430664,
          17000.50129699707,
          14471.141006469727,
          17327.96128845215,
          15586.361099243164,
          15192.34105682373,
          16057.961143493652,
          29432.862243652344,
          21032.461456298828,
          15778.50112915039,
          13972.840942382812,
          15361.26107788086,
          14665.92106628418,
          12983.740997314453,
          16507.40118408203,
          15164.080978393555,
          16115.021049499512,
          14670.80093383789,
          11676.520835876465,
          12641.240867614746,
          14229.900955200195,
          14026.561004638672,
          13990.720977783203,
          14917.441131591797,
          14691.960952758789,
          12988.200942993164,
          13342.720916748047,
          14266.48112487793,
          13126.080932617188,
          13007.560943603516,
          15978.181114196777,
          14954.541114807129,
          12710.70083618164,
          14045.280990600586,
          14086.260986328125,
          12927.800796508789,
          10637.140739440918,
          13033.880912780762,
          13134.800857543945,
          12264.380752563477,
          13273.14094543457,
          20100.661331176758,
          12335.680953979492,
          12561.440925598145,
          19396.041259765625,
          15101.360977172852,
          15476.981079101562,
          10396.680717468262,
          12281.800918579102,
          12049.680938720703,
          11546.020881652832,
          13140.541000366211,
          14803.141014099121,
          13260.220840454102,
          15204.641082763672,
          11739.30093383789,
          10289.58073425293,
          11749.400787353516,
          12457.700866699219,
          11174.560779571533,
          12249.820945739746
         ]
        }
       ],
       "layout": {
        "template": {
         "data": {
          "bar": [
           {
            "error_x": {
             "color": "#2a3f5f"
            },
            "error_y": {
             "color": "#2a3f5f"
            },
            "marker": {
             "line": {
              "color": "#E5ECF6",
              "width": 0.5
             }
            },
            "type": "bar"
           }
          ],
          "barpolar": [
           {
            "marker": {
             "line": {
              "color": "#E5ECF6",
              "width": 0.5
             }
            },
            "type": "barpolar"
           }
          ],
          "carpet": [
           {
            "aaxis": {
             "endlinecolor": "#2a3f5f",
             "gridcolor": "white",
             "linecolor": "white",
             "minorgridcolor": "white",
             "startlinecolor": "#2a3f5f"
            },
            "baxis": {
             "endlinecolor": "#2a3f5f",
             "gridcolor": "white",
             "linecolor": "white",
             "minorgridcolor": "white",
             "startlinecolor": "#2a3f5f"
            },
            "type": "carpet"
           }
          ],
          "choropleth": [
           {
            "colorbar": {
             "outlinewidth": 0,
             "ticks": ""
            },
            "type": "choropleth"
           }
          ],
          "contour": [
           {
            "colorbar": {
             "outlinewidth": 0,
             "ticks": ""
            },
            "colorscale": [
             [
              0,
              "#0d0887"
             ],
             [
              0.1111111111111111,
              "#46039f"
             ],
             [
              0.2222222222222222,
              "#7201a8"
             ],
             [
              0.3333333333333333,
              "#9c179e"
             ],
             [
              0.4444444444444444,
              "#bd3786"
             ],
             [
              0.5555555555555556,
              "#d8576b"
             ],
             [
              0.6666666666666666,
              "#ed7953"
             ],
             [
              0.7777777777777778,
              "#fb9f3a"
             ],
             [
              0.8888888888888888,
              "#fdca26"
             ],
             [
              1,
              "#f0f921"
             ]
            ],
            "type": "contour"
           }
          ],
          "contourcarpet": [
           {
            "colorbar": {
             "outlinewidth": 0,
             "ticks": ""
            },
            "type": "contourcarpet"
           }
          ],
          "heatmap": [
           {
            "colorbar": {
             "outlinewidth": 0,
             "ticks": ""
            },
            "colorscale": [
             [
              0,
              "#0d0887"
             ],
             [
              0.1111111111111111,
              "#46039f"
             ],
             [
              0.2222222222222222,
              "#7201a8"
             ],
             [
              0.3333333333333333,
              "#9c179e"
             ],
             [
              0.4444444444444444,
              "#bd3786"
             ],
             [
              0.5555555555555556,
              "#d8576b"
             ],
             [
              0.6666666666666666,
              "#ed7953"
             ],
             [
              0.7777777777777778,
              "#fb9f3a"
             ],
             [
              0.8888888888888888,
              "#fdca26"
             ],
             [
              1,
              "#f0f921"
             ]
            ],
            "type": "heatmap"
           }
          ],
          "heatmapgl": [
           {
            "colorbar": {
             "outlinewidth": 0,
             "ticks": ""
            },
            "colorscale": [
             [
              0,
              "#0d0887"
             ],
             [
              0.1111111111111111,
              "#46039f"
             ],
             [
              0.2222222222222222,
              "#7201a8"
             ],
             [
              0.3333333333333333,
              "#9c179e"
             ],
             [
              0.4444444444444444,
              "#bd3786"
             ],
             [
              0.5555555555555556,
              "#d8576b"
             ],
             [
              0.6666666666666666,
              "#ed7953"
             ],
             [
              0.7777777777777778,
              "#fb9f3a"
             ],
             [
              0.8888888888888888,
              "#fdca26"
             ],
             [
              1,
              "#f0f921"
             ]
            ],
            "type": "heatmapgl"
           }
          ],
          "histogram": [
           {
            "marker": {
             "colorbar": {
              "outlinewidth": 0,
              "ticks": ""
             }
            },
            "type": "histogram"
           }
          ],
          "histogram2d": [
           {
            "colorbar": {
             "outlinewidth": 0,
             "ticks": ""
            },
            "colorscale": [
             [
              0,
              "#0d0887"
             ],
             [
              0.1111111111111111,
              "#46039f"
             ],
             [
              0.2222222222222222,
              "#7201a8"
             ],
             [
              0.3333333333333333,
              "#9c179e"
             ],
             [
              0.4444444444444444,
              "#bd3786"
             ],
             [
              0.5555555555555556,
              "#d8576b"
             ],
             [
              0.6666666666666666,
              "#ed7953"
             ],
             [
              0.7777777777777778,
              "#fb9f3a"
             ],
             [
              0.8888888888888888,
              "#fdca26"
             ],
             [
              1,
              "#f0f921"
             ]
            ],
            "type": "histogram2d"
           }
          ],
          "histogram2dcontour": [
           {
            "colorbar": {
             "outlinewidth": 0,
             "ticks": ""
            },
            "colorscale": [
             [
              0,
              "#0d0887"
             ],
             [
              0.1111111111111111,
              "#46039f"
             ],
             [
              0.2222222222222222,
              "#7201a8"
             ],
             [
              0.3333333333333333,
              "#9c179e"
             ],
             [
              0.4444444444444444,
              "#bd3786"
             ],
             [
              0.5555555555555556,
              "#d8576b"
             ],
             [
              0.6666666666666666,
              "#ed7953"
             ],
             [
              0.7777777777777778,
              "#fb9f3a"
             ],
             [
              0.8888888888888888,
              "#fdca26"
             ],
             [
              1,
              "#f0f921"
             ]
            ],
            "type": "histogram2dcontour"
           }
          ],
          "mesh3d": [
           {
            "colorbar": {
             "outlinewidth": 0,
             "ticks": ""
            },
            "type": "mesh3d"
           }
          ],
          "parcoords": [
           {
            "line": {
             "colorbar": {
              "outlinewidth": 0,
              "ticks": ""
             }
            },
            "type": "parcoords"
           }
          ],
          "pie": [
           {
            "automargin": true,
            "type": "pie"
           }
          ],
          "scatter": [
           {
            "marker": {
             "colorbar": {
              "outlinewidth": 0,
              "ticks": ""
             }
            },
            "type": "scatter"
           }
          ],
          "scatter3d": [
           {
            "line": {
             "colorbar": {
              "outlinewidth": 0,
              "ticks": ""
             }
            },
            "marker": {
             "colorbar": {
              "outlinewidth": 0,
              "ticks": ""
             }
            },
            "type": "scatter3d"
           }
          ],
          "scattercarpet": [
           {
            "marker": {
             "colorbar": {
              "outlinewidth": 0,
              "ticks": ""
             }
            },
            "type": "scattercarpet"
           }
          ],
          "scattergeo": [
           {
            "marker": {
             "colorbar": {
              "outlinewidth": 0,
              "ticks": ""
             }
            },
            "type": "scattergeo"
           }
          ],
          "scattergl": [
           {
            "marker": {
             "colorbar": {
              "outlinewidth": 0,
              "ticks": ""
             }
            },
            "type": "scattergl"
           }
          ],
          "scattermapbox": [
           {
            "marker": {
             "colorbar": {
              "outlinewidth": 0,
              "ticks": ""
             }
            },
            "type": "scattermapbox"
           }
          ],
          "scatterpolar": [
           {
            "marker": {
             "colorbar": {
              "outlinewidth": 0,
              "ticks": ""
             }
            },
            "type": "scatterpolar"
           }
          ],
          "scatterpolargl": [
           {
            "marker": {
             "colorbar": {
              "outlinewidth": 0,
              "ticks": ""
             }
            },
            "type": "scatterpolargl"
           }
          ],
          "scatterternary": [
           {
            "marker": {
             "colorbar": {
              "outlinewidth": 0,
              "ticks": ""
             }
            },
            "type": "scatterternary"
           }
          ],
          "surface": [
           {
            "colorbar": {
             "outlinewidth": 0,
             "ticks": ""
            },
            "colorscale": [
             [
              0,
              "#0d0887"
             ],
             [
              0.1111111111111111,
              "#46039f"
             ],
             [
              0.2222222222222222,
              "#7201a8"
             ],
             [
              0.3333333333333333,
              "#9c179e"
             ],
             [
              0.4444444444444444,
              "#bd3786"
             ],
             [
              0.5555555555555556,
              "#d8576b"
             ],
             [
              0.6666666666666666,
              "#ed7953"
             ],
             [
              0.7777777777777778,
              "#fb9f3a"
             ],
             [
              0.8888888888888888,
              "#fdca26"
             ],
             [
              1,
              "#f0f921"
             ]
            ],
            "type": "surface"
           }
          ],
          "table": [
           {
            "cells": {
             "fill": {
              "color": "#EBF0F8"
             },
             "line": {
              "color": "white"
             }
            },
            "header": {
             "fill": {
              "color": "#C8D4E3"
             },
             "line": {
              "color": "white"
             }
            },
            "type": "table"
           }
          ]
         },
         "layout": {
          "annotationdefaults": {
           "arrowcolor": "#2a3f5f",
           "arrowhead": 0,
           "arrowwidth": 1
          },
          "coloraxis": {
           "colorbar": {
            "outlinewidth": 0,
            "ticks": ""
           }
          },
          "colorscale": {
           "diverging": [
            [
             0,
             "#8e0152"
            ],
            [
             0.1,
             "#c51b7d"
            ],
            [
             0.2,
             "#de77ae"
            ],
            [
             0.3,
             "#f1b6da"
            ],
            [
             0.4,
             "#fde0ef"
            ],
            [
             0.5,
             "#f7f7f7"
            ],
            [
             0.6,
             "#e6f5d0"
            ],
            [
             0.7,
             "#b8e186"
            ],
            [
             0.8,
             "#7fbc41"
            ],
            [
             0.9,
             "#4d9221"
            ],
            [
             1,
             "#276419"
            ]
           ],
           "sequential": [
            [
             0,
             "#0d0887"
            ],
            [
             0.1111111111111111,
             "#46039f"
            ],
            [
             0.2222222222222222,
             "#7201a8"
            ],
            [
             0.3333333333333333,
             "#9c179e"
            ],
            [
             0.4444444444444444,
             "#bd3786"
            ],
            [
             0.5555555555555556,
             "#d8576b"
            ],
            [
             0.6666666666666666,
             "#ed7953"
            ],
            [
             0.7777777777777778,
             "#fb9f3a"
            ],
            [
             0.8888888888888888,
             "#fdca26"
            ],
            [
             1,
             "#f0f921"
            ]
           ],
           "sequentialminus": [
            [
             0,
             "#0d0887"
            ],
            [
             0.1111111111111111,
             "#46039f"
            ],
            [
             0.2222222222222222,
             "#7201a8"
            ],
            [
             0.3333333333333333,
             "#9c179e"
            ],
            [
             0.4444444444444444,
             "#bd3786"
            ],
            [
             0.5555555555555556,
             "#d8576b"
            ],
            [
             0.6666666666666666,
             "#ed7953"
            ],
            [
             0.7777777777777778,
             "#fb9f3a"
            ],
            [
             0.8888888888888888,
             "#fdca26"
            ],
            [
             1,
             "#f0f921"
            ]
           ]
          },
          "colorway": [
           "#636efa",
           "#EF553B",
           "#00cc96",
           "#ab63fa",
           "#FFA15A",
           "#19d3f3",
           "#FF6692",
           "#B6E880",
           "#FF97FF",
           "#FECB52"
          ],
          "font": {
           "color": "#2a3f5f"
          },
          "geo": {
           "bgcolor": "white",
           "lakecolor": "white",
           "landcolor": "#E5ECF6",
           "showlakes": true,
           "showland": true,
           "subunitcolor": "white"
          },
          "hoverlabel": {
           "align": "left"
          },
          "hovermode": "closest",
          "mapbox": {
           "style": "light"
          },
          "paper_bgcolor": "white",
          "plot_bgcolor": "#E5ECF6",
          "polar": {
           "angularaxis": {
            "gridcolor": "white",
            "linecolor": "white",
            "ticks": ""
           },
           "bgcolor": "#E5ECF6",
           "radialaxis": {
            "gridcolor": "white",
            "linecolor": "white",
            "ticks": ""
           }
          },
          "scene": {
           "xaxis": {
            "backgroundcolor": "#E5ECF6",
            "gridcolor": "white",
            "gridwidth": 2,
            "linecolor": "white",
            "showbackground": true,
            "ticks": "",
            "zerolinecolor": "white"
           },
           "yaxis": {
            "backgroundcolor": "#E5ECF6",
            "gridcolor": "white",
            "gridwidth": 2,
            "linecolor": "white",
            "showbackground": true,
            "ticks": "",
            "zerolinecolor": "white"
           },
           "zaxis": {
            "backgroundcolor": "#E5ECF6",
            "gridcolor": "white",
            "gridwidth": 2,
            "linecolor": "white",
            "showbackground": true,
            "ticks": "",
            "zerolinecolor": "white"
           }
          },
          "shapedefaults": {
           "line": {
            "color": "#2a3f5f"
           }
          },
          "ternary": {
           "aaxis": {
            "gridcolor": "white",
            "linecolor": "white",
            "ticks": ""
           },
           "baxis": {
            "gridcolor": "white",
            "linecolor": "white",
            "ticks": ""
           },
           "bgcolor": "#E5ECF6",
           "caxis": {
            "gridcolor": "white",
            "linecolor": "white",
            "ticks": ""
           }
          },
          "title": {
           "x": 0.05
          },
          "xaxis": {
           "automargin": true,
           "gridcolor": "white",
           "linecolor": "white",
           "ticks": "",
           "title": {
            "standoff": 15
           },
           "zerolinecolor": "white",
           "zerolinewidth": 2
          },
          "yaxis": {
           "automargin": true,
           "gridcolor": "white",
           "linecolor": "white",
           "ticks": "",
           "title": {
            "standoff": 15
           },
           "zerolinecolor": "white",
           "zerolinewidth": 2
          }
         }
        }
       }
      },
      "text/html": [
       "<div>                            <div id=\"40ba56ab-b18c-4ecd-b880-f929f44d385b\" class=\"plotly-graph-div\" style=\"height:525px; width:100%;\"></div>            <script type=\"text/javascript\">                require([\"plotly\"], function(Plotly) {                    window.PLOTLYENV=window.PLOTLYENV || {};                                    if (document.getElementById(\"40ba56ab-b18c-4ecd-b880-f929f44d385b\")) {                    Plotly.newPlot(                        \"40ba56ab-b18c-4ecd-b880-f929f44d385b\",                        [{\"colorscale\": [[0.0, \"#440154\"], [0.1111111111111111, \"#482878\"], [0.2222222222222222, \"#3e4989\"], [0.3333333333333333, \"#31688e\"], [0.4444444444444444, \"#26828e\"], [0.5555555555555556, \"#1f9e89\"], [0.6666666666666666, \"#35b779\"], [0.7777777777777778, \"#6ece58\"], [0.8888888888888888, \"#b5de2b\"], [1.0, \"#fde725\"]], \"type\": \"heatmap\", \"x\": [\"[TG(37:0)]_FA14:0\", \"[TG(38:1)]_FA14:0\", \"[TG(38:0)]_FA14:0\", \"[TG(39:1)]_FA14:0\", \"[TG(39:0)]_FA14:0\", \"[TG(40:2)]_FA14:0\", \"[TG(40:1)]_FA14:0\", \"[TG(40:0)]_FA14:0\", \"[TG(41:2)]_FA14:0\", \"[TG(41:1)]_FA14:0\", \"[TG(41:0)]_FA14:0\", \"[TG(42:4)]_FA14:0\", \"[TG(42:3)]_FA14:0\", \"[TG(42:2)]_FA14:0\", \"[TG(42:1)]_FA14:0\", \"[TG(42:0)]_FA14:0\", \"[TG(43:4)]_FA14:0\", \"[TG(43:3)]_FA14:0\", \"[TG(43:2)]_FA14:0\", \"[TG(43:1)]_FA14:0\", \"[TG(43:0)]_FA14:0\", \"[TG(44:5)]_FA14:0\", \"[TG(44:4)]_FA14:0\", \"[TG(44:3)]_FA14:0\", \"[TG(44:2)]_FA14:0\", \"[TG(44:1)]_FA14:0\", \"[TG(44:0),TG(O-45:0)]_FA14:0\", \"[TG(45:5)]_FA14:0\", \"[TG(45:4)]_FA14:0\", \"[TG(45:3)]_FA14:0\", \"[TG(45:2)]_FA14:0\", \"[TG(45:1)]_FA14:0\", \"[TG(45:0)]_FA14:0\", \"[TG(46:6)]_FA14:0\", \"[TG(46:5)]_FA14:0\", \"[TG(46:4)]_FA14:0\", \"[TG(46:3)]_FA14:0\", \"[TG(46:2)]_FA14:0\", \"[TG(46:1)]_FA14:0\", \"[TG(46:0)]_FA14:0\", \"[TG(47:6)]_FA14:0\", \"[TG(47:5)]_FA14:0\", \"[TG(47:4)]_FA14:0\", \"[TG(47:3)]_FA14:0\", \"[TG(47:2)]_FA14:0\", \"[TG(48:8),TG(47:1)]_FA14:0\", \"[TG(48:7),TG(47:0)]_FA14:0\", \"[TG(48:6)]_FA14:0\", \"[TG(48:5)]_FA14:0\", \"[TG(48:4)]_FA14:0\", \"[TG(48:3)]_FA14:0\", \"[TG(48:2)]_FA14:0\", \"[TG(49:8),TG(48:1)]_FA14:0\", \"[TG(49:7),TG(48:0)]_FA14:0\", \"[TG(49:6)]_FA14:0\", \"[TG(49:5)]_FA14:0\", \"STD_15:0-18:1(d7)-15:0 TAG\", \"[TG(49:4)]_FA14:0\", \"[TG(49:3)]_FA14:0\", \"[TG(50:9),TG(49:2)]_FA14:0\", \"[TG(50:8),TG(49:1)]_FA14:0\", \"[TG(50:7),TG(49:0)]_FA14:0\", \"[TG(50:6)]_FA14:0\", \"[TG(50:5)]_FA14:0\", \"[TG(50:4)]_FA14:0\", \"[TG(50:3)]_FA14:0\", \"[TG(51:9),TG(50:2)]_FA14:0\", \"[TG(51:8),TG(50:1)]_FA14:0\", \"[TG(51:7),TG(50:0)]_FA14:0\", \"[TG(51:6)]_FA14:0\", \"[TG(51:5)]_FA14:0\", \"[TG(51:4)]_FA14:0\", \"[TG(52:10),TG(51:3)]_FA14:0\", \"[TG(52:9),TG(51:2)]_FA14:0\", \"[TG(52:8),TG(51:1)]_FA14:0\", \"[TG(52:7),TG(51:0)]_FA14:0\", \"[TG(52:6)]_FA14:0\", \"[TG(52:5)]_FA14:0\", \"[TG(52:4)]_FA14:0\", \"[TG(53:10),TG(52:3)]_FA14:0\", \"[TG(53:9),TG(52:2)]_FA14:0\", \"[TG(53:8),TG(52:1)]_FA14:0\", \"[TG(53:7),TG(52:0)]_FA14:0\", \"[TG(53:6)]_FA14:0\", \"[TG(54:12),TG(53:5)]_FA14:0\", \"[TG(54:11),TG(53:4)]_FA14:0\", \"[TG(54:10),TG(53:3)]_FA14:0\", \"[TG(54:9),TG(53:2)]_FA14:0\", \"[TG(54:8),TG(53:1)]_FA14:0\", \"[TG(54:7),TG(53:0)]_FA14:0\", \"[TG(54:6)]_FA14:0\", \"[TG(54:5)]_FA14:0\", \"[TG(55:11),TG(54:4)]_FA14:0\", \"[TG(55:10),TG(54:3)]_FA14:0\", \"[TG(55:9),TG(54:2)]_FA14:0\", \"[TG(55:8),TG(54:1)]_FA14:0\", \"[TG(55:7),TG(54:0)]_FA14:0\", \"[TG(56:13),TG(55:6)]_FA14:0\", \"[TG(56:12),TG(55:5)]_FA14:0\", \"[TG(56:11),TG(55:4)]_FA14:0\", \"[TG(56:10),TG(55:3)]_FA14:0\", \"[TG(56:9),TG(55:2)]_FA14:0\", \"[TG(56:8),TG(55:1)]_FA14:0\", \"[TG(56:7),TG(55:0)]_FA14:0\", \"[TG(56:6)]_FA14:0\", \"[TG(57:12),TG(56:5)]_FA14:0\", \"[TG(57:11),TG(56:4)]_FA14:0\", \"[TG(57:10),TG(56:3)]_FA14:0\", \"[TG(57:9),TG(56:2)]_FA14:0\", \"[TG(57:8),TG(56:1)]_FA14:0\", \"[TG(58:14),TG(57:7),TG(56:0)]_FA14:0\", \"[TG(58:13),TG(57:6)]_FA14:0\", \"[TG(58:12),TG(57:5)]_FA14:0\", \"[TG(58:11),TG(57:4)]_FA14:0\", \"[TG(58:10),TG(57:3)]_FA14:0\", \"[TG(58:9),TG(57:2)]_FA14:0\", \"[TG(58:8),TG(57:1)]_FA14:0\", \"[TG(58:7),TG(57:0)]_FA14:0\", \"[TG(59:13),TG(58:6)]_FA14:0\", \"[TG(59:12),TG(58:5)]_FA14:0\", \"[TG(59:11),TG(58:4)]_FA14:0\", \"[TG(59:10),TG(58:3)]_FA14:0\", \"[TG(59:9),TG(58:2)]_FA14:0\", \"[TG(60:15),TG(59:8),TG(58:1)]_FA14:0\", \"[TG(60:14),TG(59:7),TG(58:0)]_FA14:0\", \"[TG(60:13),TG(59:6)]_FA14:0\", \"[TG(60:12),TG(59:5)]_FA14:0\", \"[TG(60:11),TG(59:4)]_FA14:0\", \"[TG(60:10),TG(59:3)]_FA14:0\", \"[TG(60:9),TG(59:2)]_FA14:0\", \"[TG(60:8),TG(59:1)]_FA14:0\", \"[TG(61:14),TG(60:7),TG(59:0)]_FA14:0\", \"[TG(61:13),TG(60:6)]_FA14:0\", \"[TG(61:12),TG(60:5)]_FA14:0\", \"[TG(61:11),TG(60:4)]_FA14:0\", \"[TG(61:10),TG(60:3)]_FA14:0\", \"[TG(62:16),TG(61:9),TG(60:2)]_FA14:0\", \"[TG(62:15),TG(61:8),TG(60:1)]_FA14:0\", \"[TG(62:14),TG(61:7),TG(60:0)]_FA14:0\", \"[TG(62:13),TG(61:6)]_FA14:0\", \"[TG(62:12),TG(61:5)]_FA14:0\", \"[TG(62:11),TG(61:4)]_FA14:0\", \"[TG(62:10),TG(61:3)]_FA14:0\", \"[TG(62:9),TG(61:2)]_FA14:0\", \"[TG(62:8),TG(61:1)]_FA14:0\", \"[TG(62:7),TG(61:0)]_FA14:0\", \"[TG(63:13),TG(62:6)]_FA14:0\", \"[TG(63:12),TG(62:5)]_FA14:0\", \"[TG(63:11),TG(62:4)]_FA14:0\", \"[TG(64:17),TG(63:10),TG(62:3)]_FA14:0\", \"[TG(64:16),TG(63:9),TG(62:2)]_FA14:0\", \"[TG(64:15),TG(63:8),TG(62:1)]_FA14:0\", \"[TG(64:14),TG(63:7),TG(62:0)]_FA14:0\", \"[TG(64:13),TG(63:6)]_FA14:0\", \"[TG(64:12),TG(63:5)]_FA14:0\", \"[TG(64:11),TG(63:4)]_FA14:0\", \"[TG(64:10),TG(63:3)]_FA14:0\", \"[TG(64:9),TG(63:2)]_FA14:0\", \"[TG(64:8),TG(63:1)]_FA14:0\", \"[TG(64:7),TG(63:0)]_FA14:0\", \"[TG(64:6)]_FA14:0\", \"[TG(65:12),TG(64:5)]_FA14:0\", \"[TG(66:18),TG(65:11),TG(64:4)]_FA14:0\", \"[TG(66:17),TG(65:10),TG(64:3)]_FA14:0\", \"[TG(66:16),TG(65:9),TG(64:2)]_FA14:0\", \"[TG(66:15),TG(65:8),TG(64:1)]_FA14:0\", \"[TG(66:14),TG(65:7),TG(64:0)]_FA14:0\", \"[TG(66:13),TG(65:6)]_FA14:0\", \"[TG(66:12),TG(65:5)]_FA14:0\", \"[TG(66:11),TG(65:4)]_FA14:0\", \"[TG(66:10),TG(65:3)]_FA14:0\", \"[TG(66:9),TG(65:2)]_FA14:0\", \"[TG(66:8),TG(65:1)]_FA14:0\", \"[TG(66:7)]_FA14:0\", \"[TG(65:0)]_FA14:0\", \"[TG(66:6)]_FA14:0\", \"[TG(66:5)]_FA14:0\", \"[TG(66:4)]_FA14:0\", \"[TG(66:3)]_FA14:0\", \"[TG(66:2)]_FA14:0\", \"[TG(66:1)]_FA14:0\"], \"y\": [\"TAG\", \"TAG\", \"TAG\", \"TAG\", \"TAG\", \"TAG\", \"TAG\", \"TAG\", \"TAG\", \"TAG\", \"TAG\", \"TAG\", \"TAG\", \"TAG\", \"TAG\", \"TAG\", \"TAG\", \"TAG\", \"TAG\", \"TAG\", \"TAG\", \"TAG\", \"TAG\", \"TAG\", \"TAG\", \"TAG\", \"TAG\", \"TAG\", \"TAG\", \"TAG\", \"TAG\", \"TAG\", \"TAG\", \"TAG\", \"TAG\", \"TAG\", \"TAG\", \"TAG\", \"TAG\", \"TAG\", \"TAG\", \"TAG\", \"TAG\", \"TAG\", \"TAG\", \"TAG\", \"TAG\", \"TAG\", \"TAG\", \"TAG\", \"TAG\", \"TAG\", \"TAG\", \"TAG\", \"TAG\", \"TAG\", \"STD_15:0-18:1(d7)-15:0 TAG\", \"TAG\", \"TAG\", \"TAG\", \"TAG\", \"TAG\", \"TAG\", \"TAG\", \"TAG\", \"TAG\", \"TAG\", \"TAG\", \"TAG\", \"TAG\", \"TAG\", \"TAG\", \"TAG\", \"TAG\", \"TAG\", \"TAG\", \"TAG\", \"TAG\", \"TAG\", \"TAG\", \"TAG\", \"TAG\", \"TAG\", \"TAG\", \"TAG\", \"TAG\", \"TAG\", \"TAG\", \"TAG\", \"TAG\", \"TAG\", \"TAG\", \"TAG\", \"TAG\", \"TAG\", \"TAG\", \"TAG\", \"TAG\", \"TAG\", \"TAG\", \"TAG\", \"TAG\", \"TAG\", \"TAG\", \"TAG\", \"TAG\", \"TAG\", \"TAG\", \"TAG\", \"TAG\", \"TAG\", \"TAG\", \"TAG\", \"TAG\", \"TAG\", \"TAG\", \"TAG\", \"TAG\", \"TAG\", \"TAG\", \"TAG\", \"TAG\", \"TAG\", \"TAG\", \"TAG\", \"TAG\", \"TAG\", \"TAG\", \"TAG\", \"TAG\", \"TAG\", \"TAG\", \"TAG\", \"TAG\", \"TAG\", \"TAG\", \"TAG\", \"TAG\", \"TAG\", \"TAG\", \"TAG\", \"TAG\", \"TAG\", \"TAG\", \"TAG\", \"TAG\", \"TAG\", \"TAG\", \"TAG\", \"TAG\", \"TAG\", \"TAG\", \"TAG\", \"TAG\", \"TAG\", \"TAG\", \"TAG\", \"TAG\", \"TAG\", \"TAG\", \"TAG\", \"TAG\", \"TAG\", \"TAG\", \"TAG\", \"TAG\", \"TAG\", \"TAG\", \"TAG\", \"TAG\", \"TAG\", \"TAG\", \"TAG\", \"TAG\", \"TAG\", \"TAG\", \"TAG\", \"TAG\", \"TAG\", \"TAG\", \"TAG\"], \"z\": [45072.822998046875, 64211.844482421875, 237300.73681640625, 27744.182037353516, 37315.48260498047, 24415.261688232422, 34708.20263671875, 155327.89086914062, 20373.861602783203, 19893.661392211914, 26466.401824951172, 15374.68115234375, 19889.30142211914, 17753.80108642578, 131865.6494140625, 94824.94689941406, 16791.481231689453, 63030.504150390625, 26622.84196472168, 28583.40203857422, 29018.08203125, 17620.081260681152, 15765.661041259766, 18071.14141845703, 39169.32312011719, 31882.602020263672, 72722.04577636719, 18579.66111755371, 21398.161346435547, 18318.621307373047, 16532.841232299805, 70729.62463378906, 46782.86340332031, 20436.341217041016, 20286.141387939453, 18562.861236572266, 20631.881439208984, 44036.763610839844, 68736.06512451172, 84029.40625, 26131.921813964844, 20985.38151550293, 18959.501403808594, 21987.14175415039, 24136.061737060547, 31395.762451171875, 35014.362396240234, 51366.403381347656, 25303.261779785156, 23539.601623535156, 82808.48538208008, 286373.7007446289, 333579.6123046875, 80859.20629882812, 29734.44223022461, 22083.261352539062, 33835.302642822266, 22096.821563720703, 26063.061752319336, 29320.561981201172, 37507.4225769043, 34488.222259521484, 29315.282165527344, 35932.222259521484, 126118.92807006836, 432169.33502197266, 501185.328125, 86953.32531738281, 36228.10238647461, 49931.743591308594, 23814.681854248047, 23092.781524658203, 28172.081909179688, 41892.44287109375, 46549.702728271484, 34083.9026184082, 40384.46292114258, 44110.603759765625, 42770.922912597656, 53848.18371582031, 56664.44418334961, 47311.622985839844, 30805.982299804688, 26174.721771240234, 25399.10171508789, 25004.141693115234, 31147.182556152344, 38980.08303833008, 46906.80307006836, 38897.4231262207, 73665.94470214844, 41898.76268005371, 28414.301971435547, 30718.442108154297, 33424.282623291016, 29007.38198852539, 35497.86260986328, 26408.881866455078, 22494.82162475586, 25690.061798095703, 29631.141998291016, 33327.52235412598, 29645.14239501953, 23936.88168334961, 21959.361694335938, 20401.881622314453, 20398.84147644043, 25416.421936035156, 22382.361602783203, 19609.461395263672, 22338.061492919922, 29575.44204711914, 20122.321487426758, 20873.68148803711, 20475.001525878906, 19687.661422729492, 17986.1212310791, 16909.581176757812, 17760.02130126953, 17154.881271362305, 17369.481216430664, 17000.50129699707, 14471.141006469727, 17327.96128845215, 15586.361099243164, 15192.34105682373, 16057.961143493652, 29432.862243652344, 21032.461456298828, 15778.50112915039, 13972.840942382812, 15361.26107788086, 14665.92106628418, 12983.740997314453, 16507.40118408203, 15164.080978393555, 16115.021049499512, 14670.80093383789, 11676.520835876465, 12641.240867614746, 14229.900955200195, 14026.561004638672, 13990.720977783203, 14917.441131591797, 14691.960952758789, 12988.200942993164, 13342.720916748047, 14266.48112487793, 13126.080932617188, 13007.560943603516, 15978.181114196777, 14954.541114807129, 12710.70083618164, 14045.280990600586, 14086.260986328125, 12927.800796508789, 10637.140739440918, 13033.880912780762, 13134.800857543945, 12264.380752563477, 13273.14094543457, 20100.661331176758, 12335.680953979492, 12561.440925598145, 19396.041259765625, 15101.360977172852, 15476.981079101562, 10396.680717468262, 12281.800918579102, 12049.680938720703, 11546.020881652832, 13140.541000366211, 14803.141014099121, 13260.220840454102, 15204.641082763672, 11739.30093383789, 10289.58073425293, 11749.400787353516, 12457.700866699219, 11174.560779571533, 12249.820945739746]}],                        {\"template\": {\"data\": {\"bar\": [{\"error_x\": {\"color\": \"#2a3f5f\"}, \"error_y\": {\"color\": \"#2a3f5f\"}, \"marker\": {\"line\": {\"color\": \"#E5ECF6\", \"width\": 0.5}}, \"type\": \"bar\"}], \"barpolar\": [{\"marker\": {\"line\": {\"color\": \"#E5ECF6\", \"width\": 0.5}}, \"type\": \"barpolar\"}], \"carpet\": [{\"aaxis\": {\"endlinecolor\": \"#2a3f5f\", \"gridcolor\": \"white\", \"linecolor\": \"white\", \"minorgridcolor\": \"white\", \"startlinecolor\": \"#2a3f5f\"}, \"baxis\": {\"endlinecolor\": \"#2a3f5f\", \"gridcolor\": \"white\", \"linecolor\": \"white\", \"minorgridcolor\": \"white\", \"startlinecolor\": \"#2a3f5f\"}, \"type\": \"carpet\"}], \"choropleth\": [{\"colorbar\": {\"outlinewidth\": 0, \"ticks\": \"\"}, \"type\": \"choropleth\"}], \"contour\": [{\"colorbar\": {\"outlinewidth\": 0, \"ticks\": \"\"}, \"colorscale\": [[0.0, \"#0d0887\"], [0.1111111111111111, \"#46039f\"], [0.2222222222222222, \"#7201a8\"], [0.3333333333333333, \"#9c179e\"], [0.4444444444444444, \"#bd3786\"], [0.5555555555555556, \"#d8576b\"], [0.6666666666666666, \"#ed7953\"], [0.7777777777777778, \"#fb9f3a\"], [0.8888888888888888, \"#fdca26\"], [1.0, \"#f0f921\"]], \"type\": \"contour\"}], \"contourcarpet\": [{\"colorbar\": {\"outlinewidth\": 0, \"ticks\": \"\"}, \"type\": \"contourcarpet\"}], \"heatmap\": [{\"colorbar\": {\"outlinewidth\": 0, \"ticks\": \"\"}, \"colorscale\": [[0.0, \"#0d0887\"], [0.1111111111111111, \"#46039f\"], [0.2222222222222222, \"#7201a8\"], [0.3333333333333333, \"#9c179e\"], [0.4444444444444444, \"#bd3786\"], [0.5555555555555556, \"#d8576b\"], [0.6666666666666666, \"#ed7953\"], [0.7777777777777778, \"#fb9f3a\"], [0.8888888888888888, \"#fdca26\"], [1.0, \"#f0f921\"]], \"type\": \"heatmap\"}], \"heatmapgl\": [{\"colorbar\": {\"outlinewidth\": 0, \"ticks\": \"\"}, \"colorscale\": [[0.0, \"#0d0887\"], [0.1111111111111111, \"#46039f\"], [0.2222222222222222, \"#7201a8\"], [0.3333333333333333, \"#9c179e\"], [0.4444444444444444, \"#bd3786\"], [0.5555555555555556, \"#d8576b\"], [0.6666666666666666, \"#ed7953\"], [0.7777777777777778, \"#fb9f3a\"], [0.8888888888888888, \"#fdca26\"], [1.0, \"#f0f921\"]], \"type\": \"heatmapgl\"}], \"histogram\": [{\"marker\": {\"colorbar\": {\"outlinewidth\": 0, \"ticks\": \"\"}}, \"type\": \"histogram\"}], \"histogram2d\": [{\"colorbar\": {\"outlinewidth\": 0, \"ticks\": \"\"}, \"colorscale\": [[0.0, \"#0d0887\"], [0.1111111111111111, \"#46039f\"], [0.2222222222222222, \"#7201a8\"], [0.3333333333333333, \"#9c179e\"], [0.4444444444444444, \"#bd3786\"], [0.5555555555555556, \"#d8576b\"], [0.6666666666666666, \"#ed7953\"], [0.7777777777777778, \"#fb9f3a\"], [0.8888888888888888, \"#fdca26\"], [1.0, \"#f0f921\"]], \"type\": \"histogram2d\"}], \"histogram2dcontour\": [{\"colorbar\": {\"outlinewidth\": 0, \"ticks\": \"\"}, \"colorscale\": [[0.0, \"#0d0887\"], [0.1111111111111111, \"#46039f\"], [0.2222222222222222, \"#7201a8\"], [0.3333333333333333, \"#9c179e\"], [0.4444444444444444, \"#bd3786\"], [0.5555555555555556, \"#d8576b\"], [0.6666666666666666, \"#ed7953\"], [0.7777777777777778, \"#fb9f3a\"], [0.8888888888888888, \"#fdca26\"], [1.0, \"#f0f921\"]], \"type\": \"histogram2dcontour\"}], \"mesh3d\": [{\"colorbar\": {\"outlinewidth\": 0, \"ticks\": \"\"}, \"type\": \"mesh3d\"}], \"parcoords\": [{\"line\": {\"colorbar\": {\"outlinewidth\": 0, \"ticks\": \"\"}}, \"type\": \"parcoords\"}], \"pie\": [{\"automargin\": true, \"type\": \"pie\"}], \"scatter\": [{\"marker\": {\"colorbar\": {\"outlinewidth\": 0, \"ticks\": \"\"}}, \"type\": \"scatter\"}], \"scatter3d\": [{\"line\": {\"colorbar\": {\"outlinewidth\": 0, \"ticks\": \"\"}}, \"marker\": {\"colorbar\": {\"outlinewidth\": 0, \"ticks\": \"\"}}, \"type\": \"scatter3d\"}], \"scattercarpet\": [{\"marker\": {\"colorbar\": {\"outlinewidth\": 0, \"ticks\": \"\"}}, \"type\": \"scattercarpet\"}], \"scattergeo\": [{\"marker\": {\"colorbar\": {\"outlinewidth\": 0, \"ticks\": \"\"}}, \"type\": \"scattergeo\"}], \"scattergl\": [{\"marker\": {\"colorbar\": {\"outlinewidth\": 0, \"ticks\": \"\"}}, \"type\": \"scattergl\"}], \"scattermapbox\": [{\"marker\": {\"colorbar\": {\"outlinewidth\": 0, \"ticks\": \"\"}}, \"type\": \"scattermapbox\"}], \"scatterpolar\": [{\"marker\": {\"colorbar\": {\"outlinewidth\": 0, \"ticks\": \"\"}}, \"type\": \"scatterpolar\"}], \"scatterpolargl\": [{\"marker\": {\"colorbar\": {\"outlinewidth\": 0, \"ticks\": \"\"}}, \"type\": \"scatterpolargl\"}], \"scatterternary\": [{\"marker\": {\"colorbar\": {\"outlinewidth\": 0, \"ticks\": \"\"}}, \"type\": \"scatterternary\"}], \"surface\": [{\"colorbar\": {\"outlinewidth\": 0, \"ticks\": \"\"}, \"colorscale\": [[0.0, \"#0d0887\"], [0.1111111111111111, \"#46039f\"], [0.2222222222222222, \"#7201a8\"], [0.3333333333333333, \"#9c179e\"], [0.4444444444444444, \"#bd3786\"], [0.5555555555555556, \"#d8576b\"], [0.6666666666666666, \"#ed7953\"], [0.7777777777777778, \"#fb9f3a\"], [0.8888888888888888, \"#fdca26\"], [1.0, \"#f0f921\"]], \"type\": \"surface\"}], \"table\": [{\"cells\": {\"fill\": {\"color\": \"#EBF0F8\"}, \"line\": {\"color\": \"white\"}}, \"header\": {\"fill\": {\"color\": \"#C8D4E3\"}, \"line\": {\"color\": \"white\"}}, \"type\": \"table\"}]}, \"layout\": {\"annotationdefaults\": {\"arrowcolor\": \"#2a3f5f\", \"arrowhead\": 0, \"arrowwidth\": 1}, \"coloraxis\": {\"colorbar\": {\"outlinewidth\": 0, \"ticks\": \"\"}}, \"colorscale\": {\"diverging\": [[0, \"#8e0152\"], [0.1, \"#c51b7d\"], [0.2, \"#de77ae\"], [0.3, \"#f1b6da\"], [0.4, \"#fde0ef\"], [0.5, \"#f7f7f7\"], [0.6, \"#e6f5d0\"], [0.7, \"#b8e186\"], [0.8, \"#7fbc41\"], [0.9, \"#4d9221\"], [1, \"#276419\"]], \"sequential\": [[0.0, \"#0d0887\"], [0.1111111111111111, \"#46039f\"], [0.2222222222222222, \"#7201a8\"], [0.3333333333333333, \"#9c179e\"], [0.4444444444444444, \"#bd3786\"], [0.5555555555555556, \"#d8576b\"], [0.6666666666666666, \"#ed7953\"], [0.7777777777777778, \"#fb9f3a\"], [0.8888888888888888, \"#fdca26\"], [1.0, \"#f0f921\"]], \"sequentialminus\": [[0.0, \"#0d0887\"], [0.1111111111111111, \"#46039f\"], [0.2222222222222222, \"#7201a8\"], [0.3333333333333333, \"#9c179e\"], [0.4444444444444444, \"#bd3786\"], [0.5555555555555556, \"#d8576b\"], [0.6666666666666666, \"#ed7953\"], [0.7777777777777778, \"#fb9f3a\"], [0.8888888888888888, \"#fdca26\"], [1.0, \"#f0f921\"]]}, \"colorway\": [\"#636efa\", \"#EF553B\", \"#00cc96\", \"#ab63fa\", \"#FFA15A\", \"#19d3f3\", \"#FF6692\", \"#B6E880\", \"#FF97FF\", \"#FECB52\"], \"font\": {\"color\": \"#2a3f5f\"}, \"geo\": {\"bgcolor\": \"white\", \"lakecolor\": \"white\", \"landcolor\": \"#E5ECF6\", \"showlakes\": true, \"showland\": true, \"subunitcolor\": \"white\"}, \"hoverlabel\": {\"align\": \"left\"}, \"hovermode\": \"closest\", \"mapbox\": {\"style\": \"light\"}, \"paper_bgcolor\": \"white\", \"plot_bgcolor\": \"#E5ECF6\", \"polar\": {\"angularaxis\": {\"gridcolor\": \"white\", \"linecolor\": \"white\", \"ticks\": \"\"}, \"bgcolor\": \"#E5ECF6\", \"radialaxis\": {\"gridcolor\": \"white\", \"linecolor\": \"white\", \"ticks\": \"\"}}, \"scene\": {\"xaxis\": {\"backgroundcolor\": \"#E5ECF6\", \"gridcolor\": \"white\", \"gridwidth\": 2, \"linecolor\": \"white\", \"showbackground\": true, \"ticks\": \"\", \"zerolinecolor\": \"white\"}, \"yaxis\": {\"backgroundcolor\": \"#E5ECF6\", \"gridcolor\": \"white\", \"gridwidth\": 2, \"linecolor\": \"white\", \"showbackground\": true, \"ticks\": \"\", \"zerolinecolor\": \"white\"}, \"zaxis\": {\"backgroundcolor\": \"#E5ECF6\", \"gridcolor\": \"white\", \"gridwidth\": 2, \"linecolor\": \"white\", \"showbackground\": true, \"ticks\": \"\", \"zerolinecolor\": \"white\"}}, \"shapedefaults\": {\"line\": {\"color\": \"#2a3f5f\"}}, \"ternary\": {\"aaxis\": {\"gridcolor\": \"white\", \"linecolor\": \"white\", \"ticks\": \"\"}, \"baxis\": {\"gridcolor\": \"white\", \"linecolor\": \"white\", \"ticks\": \"\"}, \"bgcolor\": \"#E5ECF6\", \"caxis\": {\"gridcolor\": \"white\", \"linecolor\": \"white\", \"ticks\": \"\"}}, \"title\": {\"x\": 0.05}, \"xaxis\": {\"automargin\": true, \"gridcolor\": \"white\", \"linecolor\": \"white\", \"ticks\": \"\", \"title\": {\"standoff\": 15}, \"zerolinecolor\": \"white\", \"zerolinewidth\": 2}, \"yaxis\": {\"automargin\": true, \"gridcolor\": \"white\", \"linecolor\": \"white\", \"ticks\": \"\", \"title\": {\"standoff\": 15}, \"zerolinecolor\": \"white\", \"zerolinewidth\": 2}}}},                        {\"responsive\": true}                    ).then(function(){\n",
       "                            \n",
       "var gd = document.getElementById('40ba56ab-b18c-4ecd-b880-f929f44d385b');\n",
       "var x = new MutationObserver(function (mutations, observer) {{\n",
       "        var display = window.getComputedStyle(gd).display;\n",
       "        if (!display || display === 'none') {{\n",
       "            console.log([gd, 'removed!']);\n",
       "            Plotly.purge(gd);\n",
       "            observer.disconnect();\n",
       "        }}\n",
       "}});\n",
       "\n",
       "// Listen for the removal of the full notebook cells\n",
       "var notebookContainer = gd.closest('#notebook-container');\n",
       "if (notebookContainer) {{\n",
       "    x.observe(notebookContainer, {childList: true});\n",
       "}}\n",
       "\n",
       "// Listen for the clearing of the current output cell\n",
       "var outputEl = gd.closest('.output');\n",
       "if (outputEl) {{\n",
       "    x.observe(outputEl, {childList: true});\n",
       "}}\n",
       "\n",
       "                        })                };                });            </script>        </div>"
      ]
     },
     "metadata": {},
     "output_type": "display_data"
    }
   ],
   "source": [
    "#Plotting functions\n",
    "\n",
    "def plot_transition_vs_intensity(df):\n",
    "    fig = px.bar(df, x=\"Transition\", y=\"Intensity\", color=\"Lipid\", hover_data=['Lipid', 'Class'])\n",
    "    fig.show()\n",
    "\n",
    "def plot_class_vs_intensity_bar(df):\n",
    "    fig = px.bar(df, x=\"Class\", y=\"Intensity\", color=\"Class\", hover_data=['Lipid', 'Class'])\n",
    "    fig.show()\n",
    "\n",
    "def plot_class_vs_intensity_pie(df):\n",
    "    fig = px.pie(df, values='Intensity', names='Class', title='Lipid Class')\n",
    "    fig.show()\n",
    "\n",
    "def plot_intensity_heatmap(df):\n",
    "    fig = go.Figure(data=go.Heatmap(\n",
    "        z=df['Intensity'],\n",
    "        x=df['Lipid'],\n",
    "        y=df['Class'],\n",
    "        colorscale='Viridis'))\n",
    "    fig.show()\n",
    "\n",
    "# Example usage:\n",
    "# Assuming you have the df_matching DataFrame\n",
    "plot_transition_vs_intensity(df_matched)\n",
    "plot_class_vs_intensity_bar(df_matched)\n",
    "plot_class_vs_intensity_pie(df_matched)\n",
    "plot_intensity_heatmap(df_matched)\n"
   ]
  },
  {
   "cell_type": "code",
   "execution_count": null,
   "metadata": {},
   "outputs": [],
   "source": []
  }
 ],
 "metadata": {
  "kernelspec": {
   "display_name": "Python 3 (ipykernel)",
   "language": "python",
   "name": "python3"
  },
  "language_info": {
   "codemirror_mode": {
    "name": "ipython",
    "version": 3
   },
   "file_extension": ".py",
   "mimetype": "text/x-python",
   "name": "python",
   "nbconvert_exporter": "python",
   "pygments_lexer": "ipython3",
   "version": "3.9.15"
  },
  "vscode": {
   "interpreter": {
    "hash": "7f59e923a9cab402a21ecdd8c8501a7d121113b28792a99acb445fcdcb4f42c3"
   }
  }
 },
 "nbformat": 4,
 "nbformat_minor": 2
}
