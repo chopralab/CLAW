{
 "cells": [
  {
   "attachments": {},
   "cell_type": "markdown",
   "metadata": {},
   "source": [
    "# Automated Multiple Reaction Monitoring (MRM)-profiling and Ozone Electrospray Ionizaton (OzESI)-MRM Informatics Platform for High-throughput Lipidomics\n",
    "\n",
    "\n",
    "In this jupyter notebook you will automate the data analysis of the lipidome. This is a challenging problem to perform manually due to the diverse nature of lipids and the many potential isomers. In this notebook you will analyze mzML files containing data from lipid MRMs, with ozone off and ozone on. The goal is to identify possible double-bond locations in a lipid, in this case a TAG (triacylglycerols)."
   ]
  },
  {
   "cell_type": "code",
   "execution_count": 1,
   "metadata": {},
   "outputs": [],
   "source": [
    "from IPython.display import Image"
   ]
  },
  {
   "attachments": {},
   "cell_type": "markdown",
   "metadata": {},
   "source": [
    "![title](Figures/agilent_lcms.png)\n",
    "\n",
    "The examples shown here were run on an Agilent 6495C Triple Quadrupole LC/MS (example shown above) that has been connected to an ozone line (not shown in picture) for ozoneolysis of lipids."
   ]
  },
  {
   "attachments": {},
   "cell_type": "markdown",
   "metadata": {},
   "source": [
    "![title](Figures/TAG_example.png)\n",
    "Here is an example of a TAG. Notice how many possibilities there are for locations of one double-bond there could be and how convoluted the analysis can become! This image is obtained from LipidMaps.org"
   ]
  },
  {
   "attachments": {},
   "cell_type": "markdown",
   "metadata": {},
   "source": [
    "Import all necessary libraries"
   ]
  },
  {
   "cell_type": "code",
   "execution_count": 2,
   "metadata": {},
   "outputs": [
    {
     "name": "stdout",
     "output_type": "stream",
     "text": [
      "No module named 'ms_deisotope._c.averagine' averagine\n",
      "No module named 'ms_deisotope._c.scoring'\n",
      "No module named 'ms_deisotope._c.deconvoluter_base'\n",
      "No module named 'ms_deisotope._c.deconvoluter_base'\n",
      "No module named 'ms_deisotope._c.deconvoluter_base'\n"
     ]
    },
    {
     "ename": "KeyboardInterrupt",
     "evalue": "",
     "output_type": "error",
     "traceback": [
      "\u001b[0;31m---------------------------------------------------------------------------\u001b[0m",
      "\u001b[0;31mKeyboardInterrupt\u001b[0m                         Traceback (most recent call last)",
      "\u001b[1;32m/home/sanjay/github/Home/lipid_platform/Lipidomics/pymzml/pymzml_beta_v1 copy.ipynb Cell 6\u001b[0m in \u001b[0;36m2\n\u001b[1;32m      <a href='vscode-notebook-cell://wsl%2Bubuntu-20.04/home/sanjay/github/Home/lipid_platform/Lipidomics/pymzml/pymzml_beta_v1%20copy.ipynb#W5sdnNjb2RlLXJlbW90ZQ%3D%3D?line=0'>1</a>\u001b[0m \u001b[39m#Import all the necessary libraries\u001b[39;00m\n\u001b[0;32m----> <a href='vscode-notebook-cell://wsl%2Bubuntu-20.04/home/sanjay/github/Home/lipid_platform/Lipidomics/pymzml/pymzml_beta_v1%20copy.ipynb#W5sdnNjb2RlLXJlbW90ZQ%3D%3D?line=1'>2</a>\u001b[0m \u001b[39mimport\u001b[39;00m \u001b[39mpymzml\u001b[39;00m\n\u001b[1;32m      <a href='vscode-notebook-cell://wsl%2Bubuntu-20.04/home/sanjay/github/Home/lipid_platform/Lipidomics/pymzml/pymzml_beta_v1%20copy.ipynb#W5sdnNjb2RlLXJlbW90ZQ%3D%3D?line=2'>3</a>\u001b[0m \u001b[39mimport\u001b[39;00m \u001b[39mcsv\u001b[39;00m\n\u001b[1;32m      <a href='vscode-notebook-cell://wsl%2Bubuntu-20.04/home/sanjay/github/Home/lipid_platform/Lipidomics/pymzml/pymzml_beta_v1%20copy.ipynb#W5sdnNjb2RlLXJlbW90ZQ%3D%3D?line=3'>4</a>\u001b[0m \u001b[39mimport\u001b[39;00m \u001b[39mos\u001b[39;00m\n",
      "File \u001b[0;32m~/anaconda3/envs/pymzml/lib/python3.9/site-packages/pymzml-2.5.2-py3.9.egg/pymzml/__init__.py:41\u001b[0m\n\u001b[1;32m     38\u001b[0m     __version__ \u001b[39m=\u001b[39m version_file\u001b[39m.\u001b[39mread()\u001b[39m.\u001b[39mstrip()\n\u001b[1;32m     40\u001b[0m \u001b[39m# Imports of individual modules\u001b[39;00m\n\u001b[0;32m---> 41\u001b[0m \u001b[39mimport\u001b[39;00m \u001b[39mpymzml\u001b[39;00m\u001b[39m.\u001b[39;00m\u001b[39mrun\u001b[39;00m\n\u001b[1;32m     42\u001b[0m \u001b[39mimport\u001b[39;00m \u001b[39mpymzml\u001b[39;00m\u001b[39m.\u001b[39;00m\u001b[39mspec\u001b[39;00m\n\u001b[1;32m     43\u001b[0m \u001b[39mfrom\u001b[39;00m \u001b[39mpymzml\u001b[39;00m\u001b[39m.\u001b[39;00m\u001b[39mspec\u001b[39;00m \u001b[39mimport\u001b[39;00m MSDecoder\n",
      "File \u001b[0;32m~/anaconda3/envs/pymzml/lib/python3.9/site-packages/pymzml-2.5.2-py3.9.egg/pymzml/run.py:48\u001b[0m\n\u001b[1;32m     45\u001b[0m \u001b[39mfrom\u001b[39;00m \u001b[39mio\u001b[39;00m \u001b[39mimport\u001b[39;00m BytesIO\n\u001b[1;32m     46\u001b[0m \u001b[39mfrom\u001b[39;00m \u001b[39mpathlib\u001b[39;00m \u001b[39mimport\u001b[39;00m Path\n\u001b[0;32m---> 48\u001b[0m \u001b[39mfrom\u001b[39;00m \u001b[39m.\u001b[39;00m \u001b[39mimport\u001b[39;00m spec\n\u001b[1;32m     49\u001b[0m \u001b[39mfrom\u001b[39;00m \u001b[39m.\u001b[39;00m \u001b[39mimport\u001b[39;00m obo\n\u001b[1;32m     50\u001b[0m \u001b[39mfrom\u001b[39;00m \u001b[39m.\u001b[39;00m \u001b[39mimport\u001b[39;00m regex_patterns\n",
      "File \u001b[0;32m~/anaconda3/envs/pymzml/lib/python3.9/site-packages/pymzml-2.5.2-py3.9.egg/pymzml/spec.py:60\u001b[0m\n\u001b[1;32m     58\u001b[0m \u001b[39mtry\u001b[39;00m:\n\u001b[1;32m     59\u001b[0m     DECON_DEP \u001b[39m=\u001b[39m \u001b[39mTrue\u001b[39;00m\n\u001b[0;32m---> 60\u001b[0m     \u001b[39mfrom\u001b[39;00m \u001b[39mms_deisotope\u001b[39;00m\u001b[39m.\u001b[39;00m\u001b[39mdeconvolution\u001b[39;00m \u001b[39mimport\u001b[39;00m deconvolute_peaks\n\u001b[1;32m     61\u001b[0m     \u001b[39mfrom\u001b[39;00m \u001b[39mms_peak_picker\u001b[39;00m \u001b[39mimport\u001b[39;00m simple_peak\n\u001b[1;32m     62\u001b[0m \u001b[39mexcept\u001b[39;00m (\u001b[39mImportError\u001b[39;00m, \u001b[39mModuleNotFoundError\u001b[39;00m) \u001b[39mas\u001b[39;00m e:\n",
      "File \u001b[0;32m~/anaconda3/envs/pymzml/lib/python3.9/site-packages/ms_deisotope/__init__.py:27\u001b[0m\n\u001b[1;32m     25\u001b[0m \u001b[39mfrom\u001b[39;00m \u001b[39m.\u001b[39;00m\u001b[39mscoring\u001b[39;00m \u001b[39mimport\u001b[39;00m MSDeconVFitter, PenalizedMSDeconVFitter, DistinctPatternFitter, IsotopicFitRecord\n\u001b[1;32m     26\u001b[0m \u001b[39mfrom\u001b[39;00m \u001b[39m.\u001b[39;00m\u001b[39mpeak_set\u001b[39;00m \u001b[39mimport\u001b[39;00m DeconvolutedPeak, DeconvolutedPeakSet, DeconvolutedPeakSolution\n\u001b[0;32m---> 27\u001b[0m \u001b[39mfrom\u001b[39;00m \u001b[39m.\u001b[39;00m\u001b[39mprocessor\u001b[39;00m \u001b[39mimport\u001b[39;00m ScanProcessor\n\u001b[1;32m     28\u001b[0m \u001b[39mfrom\u001b[39;00m \u001b[39m.\u001b[39;00m\u001b[39mdata_source\u001b[39;00m \u001b[39mimport\u001b[39;00m MzMLLoader, MzXMLLoader, MSFileLoader\n\u001b[1;32m     31\u001b[0m \u001b[39mdef\u001b[39;00m \u001b[39mget_include\u001b[39m():\n",
      "File \u001b[0;32m~/anaconda3/envs/pymzml/lib/python3.9/site-packages/ms_deisotope/processor.py:52\u001b[0m\n\u001b[1;32m     50\u001b[0m \u001b[39mfrom\u001b[39;00m \u001b[39m.\u001b[39;00m\u001b[39mscoring\u001b[39;00m \u001b[39mimport\u001b[39;00m PenalizedMSDeconVFitter, MSDeconVFitter\n\u001b[1;32m     51\u001b[0m \u001b[39mfrom\u001b[39;00m \u001b[39m.\u001b[39;00m\u001b[39mdeconvolution\u001b[39;00m \u001b[39mimport\u001b[39;00m deconvolute_peaks\n\u001b[0;32m---> 52\u001b[0m \u001b[39mfrom\u001b[39;00m \u001b[39m.\u001b[39;00m\u001b[39mdata_source\u001b[39;00m \u001b[39mimport\u001b[39;00m MSFileLoader, ScanIterator\n\u001b[1;32m     53\u001b[0m \u001b[39mfrom\u001b[39;00m \u001b[39m.\u001b[39;00m\u001b[39mdata_source\u001b[39;00m\u001b[39m.\u001b[39;00m\u001b[39mcommon\u001b[39;00m \u001b[39mimport\u001b[39;00m Scan, ScanBunch, ChargeNotProvided\n\u001b[1;32m     54\u001b[0m \u001b[39mfrom\u001b[39;00m \u001b[39m.\u001b[39;00m\u001b[39mutils\u001b[39;00m \u001b[39mimport\u001b[39;00m Base\n",
      "File \u001b[0;32m~/anaconda3/envs/pymzml/lib/python3.9/site-packages/ms_deisotope/data_source/__init__.py:1\u001b[0m\n\u001b[0;32m----> 1\u001b[0m \u001b[39mfrom\u001b[39;00m \u001b[39m.\u001b[39;00m\u001b[39minfer_type\u001b[39;00m \u001b[39mimport\u001b[39;00m MSFileLoader\n\u001b[1;32m      2\u001b[0m \u001b[39mfrom\u001b[39;00m \u001b[39m.\u001b[39;00m\u001b[39mmzml\u001b[39;00m \u001b[39mimport\u001b[39;00m MzMLLoader\n\u001b[1;32m      3\u001b[0m \u001b[39mfrom\u001b[39;00m \u001b[39m.\u001b[39;00m\u001b[39mmzxml\u001b[39;00m \u001b[39mimport\u001b[39;00m MzXMLLoader\n",
      "File \u001b[0;32m~/anaconda3/envs/pymzml/lib/python3.9/site-packages/ms_deisotope/data_source/infer_type.py:2\u001b[0m\n\u001b[1;32m      1\u001b[0m \u001b[39mimport\u001b[39;00m \u001b[39mos\u001b[39;00m\n\u001b[0;32m----> 2\u001b[0m \u001b[39mfrom\u001b[39;00m \u001b[39m.\u001b[39;00m\u001b[39mmzml\u001b[39;00m \u001b[39mimport\u001b[39;00m MzMLLoader\n\u001b[1;32m      3\u001b[0m \u001b[39mfrom\u001b[39;00m \u001b[39m.\u001b[39;00m\u001b[39mmzxml\u001b[39;00m \u001b[39mimport\u001b[39;00m MzXMLLoader\n\u001b[1;32m      4\u001b[0m \u001b[39mfrom\u001b[39;00m \u001b[39m.\u001b[39;00m\u001b[39mmgf\u001b[39;00m \u001b[39mimport\u001b[39;00m MGFLoader\n",
      "File \u001b[0;32m~/anaconda3/envs/pymzml/lib/python3.9/site-packages/ms_deisotope/data_source/mzml.py:12\u001b[0m\n\u001b[1;32m      9\u001b[0m \u001b[39mfrom\u001b[39;00m \u001b[39msix\u001b[39;00m \u001b[39mimport\u001b[39;00m string_types \u001b[39mas\u001b[39;00m basestring\n\u001b[1;32m     11\u001b[0m \u001b[39mimport\u001b[39;00m \u001b[39mnumpy\u001b[39;00m \u001b[39mas\u001b[39;00m \u001b[39mnp\u001b[39;00m\n\u001b[0;32m---> 12\u001b[0m \u001b[39mfrom\u001b[39;00m \u001b[39mpyteomics\u001b[39;00m \u001b[39mimport\u001b[39;00m mzml\n\u001b[1;32m     13\u001b[0m \u001b[39mfrom\u001b[39;00m \u001b[39mpyteomics\u001b[39;00m\u001b[39m.\u001b[39;00m\u001b[39mauxiliary\u001b[39;00m \u001b[39mimport\u001b[39;00m unitfloat\n\u001b[1;32m     14\u001b[0m \u001b[39mfrom\u001b[39;00m \u001b[39m.\u001b[39;00m\u001b[39mcommon\u001b[39;00m \u001b[39mimport\u001b[39;00m (\n\u001b[1;32m     15\u001b[0m     PrecursorInformation, ScanDataSource,\n\u001b[1;32m     16\u001b[0m     ChargeNotProvided, ActivationInformation,\n\u001b[0;32m   (...)\u001b[0m\n\u001b[1;32m     19\u001b[0m     FileInformation, SourceFile, MultipleActivationInformation,\n\u001b[1;32m     20\u001b[0m     ScanFileMetadataBase)\n",
      "File \u001b[0;32m~/anaconda3/envs/pymzml/lib/python3.9/site-packages/pyteomics/mzml.py:82\u001b[0m\n\u001b[1;32m     80\u001b[0m \u001b[39mimport\u001b[39;00m \u001b[39mwarnings\u001b[39;00m\n\u001b[1;32m     81\u001b[0m \u001b[39mimport\u001b[39;00m \u001b[39mnumpy\u001b[39;00m \u001b[39mas\u001b[39;00m \u001b[39mnp\u001b[39;00m\n\u001b[0;32m---> 82\u001b[0m \u001b[39mfrom\u001b[39;00m \u001b[39m.\u001b[39;00m \u001b[39mimport\u001b[39;00m xml, auxiliary \u001b[39mas\u001b[39;00m aux, _schema_defaults\n\u001b[1;32m     83\u001b[0m \u001b[39mfrom\u001b[39;00m \u001b[39m.\u001b[39;00m\u001b[39mxml\u001b[39;00m \u001b[39mimport\u001b[39;00m etree\n\u001b[1;32m     85\u001b[0m NON_STANDARD_DATA_ARRAY \u001b[39m=\u001b[39m \u001b[39m'\u001b[39m\u001b[39mnon-standard data array\u001b[39m\u001b[39m'\u001b[39m\n",
      "File \u001b[0;32m~/anaconda3/envs/pymzml/lib/python3.9/site-packages/pyteomics/xml.py:39\u001b[0m\n\u001b[1;32m     36\u001b[0m \u001b[39mfrom\u001b[39;00m \u001b[39mlxml\u001b[39;00m \u001b[39mimport\u001b[39;00m etree\n\u001b[1;32m     37\u001b[0m \u001b[39mimport\u001b[39;00m \u001b[39mnumpy\u001b[39;00m \u001b[39mas\u001b[39;00m \u001b[39mnp\u001b[39;00m\n\u001b[0;32m---> 39\u001b[0m \u001b[39mfrom\u001b[39;00m \u001b[39m.\u001b[39;00m\u001b[39mauxiliary\u001b[39;00m \u001b[39mimport\u001b[39;00m FileReader, PyteomicsError, basestring, _file_obj, HierarchicalOffsetIndex\n\u001b[1;32m     40\u001b[0m \u001b[39mfrom\u001b[39;00m \u001b[39m.\u001b[39;00m\u001b[39mauxiliary\u001b[39;00m \u001b[39mimport\u001b[39;00m unitint, unitfloat, unitstr, cvstr\n\u001b[1;32m     41\u001b[0m \u001b[39mfrom\u001b[39;00m \u001b[39m.\u001b[39;00m\u001b[39mauxiliary\u001b[39;00m \u001b[39mimport\u001b[39;00m _keepstate_method \u001b[39mas\u001b[39;00m _keepstate\n",
      "File \u001b[0;32m~/anaconda3/envs/pymzml/lib/python3.9/site-packages/pyteomics/auxiliary/__init__.py:6\u001b[0m\n\u001b[1;32m      3\u001b[0m \u001b[39mexcept\u001b[39;00m \u001b[39mNameError\u001b[39;00m:\n\u001b[1;32m      4\u001b[0m     basestring \u001b[39m=\u001b[39m (\u001b[39mstr\u001b[39m, \u001b[39mbytes\u001b[39m)\n\u001b[0;32m----> 6\u001b[0m \u001b[39mfrom\u001b[39;00m \u001b[39m.\u001b[39;00m\u001b[39mpatch\u001b[39;00m \u001b[39mimport\u001b[39;00m Version \u001b[39mas\u001b[39;00m _Version\n\u001b[1;32m      8\u001b[0m \u001b[39mfrom\u001b[39;00m \u001b[39m.\u001b[39;00m\u001b[39mstructures\u001b[39;00m \u001b[39mimport\u001b[39;00m (\n\u001b[1;32m      9\u001b[0m     PyteomicsError, Charge, ChargeList,\n\u001b[1;32m     10\u001b[0m     _parse_charge, _parse_ion, BasicComposition,\n\u001b[1;32m     11\u001b[0m     unitfloat, unitint, unitstr, cvstr,\n\u001b[1;32m     12\u001b[0m     cvquery)\n\u001b[1;32m     14\u001b[0m \u001b[39mfrom\u001b[39;00m \u001b[39m.\u001b[39;00m\u001b[39mconstants\u001b[39;00m \u001b[39mimport\u001b[39;00m _nist_mass\n",
      "File \u001b[0;32m~/anaconda3/envs/pymzml/lib/python3.9/site-packages/pyteomics/auxiliary/patch.py:7\u001b[0m\n\u001b[1;32m      4\u001b[0m     \u001b[39mfrom\u001b[39;00m \u001b[39mdistutils\u001b[39;00m\u001b[39m.\u001b[39;00m\u001b[39mversion\u001b[39;00m \u001b[39mimport\u001b[39;00m LooseVersion \u001b[39mas\u001b[39;00m Version\n\u001b[1;32m      6\u001b[0m \u001b[39mtry\u001b[39;00m:\n\u001b[0;32m----> 7\u001b[0m     \u001b[39mimport\u001b[39;00m \u001b[39mpandas\u001b[39;00m \u001b[39mas\u001b[39;00m \u001b[39mpd\u001b[39;00m\n\u001b[1;32m      8\u001b[0m \u001b[39mexcept\u001b[39;00m \u001b[39mImportError\u001b[39;00m:\n\u001b[1;32m      9\u001b[0m     pd \u001b[39m=\u001b[39m \u001b[39mNone\u001b[39;00m\n",
      "File \u001b[0;32m~/anaconda3/envs/pymzml/lib/python3.9/site-packages/pandas/__init__.py:48\u001b[0m\n\u001b[1;32m     45\u001b[0m \u001b[39m# let init-time option registration happen\u001b[39;00m\n\u001b[1;32m     46\u001b[0m \u001b[39mimport\u001b[39;00m \u001b[39mpandas\u001b[39;00m\u001b[39m.\u001b[39;00m\u001b[39mcore\u001b[39;00m\u001b[39m.\u001b[39;00m\u001b[39mconfig_init\u001b[39;00m  \u001b[39m# pyright: ignore # noqa:F401\u001b[39;00m\n\u001b[0;32m---> 48\u001b[0m \u001b[39mfrom\u001b[39;00m \u001b[39mpandas\u001b[39;00m\u001b[39m.\u001b[39;00m\u001b[39mcore\u001b[39;00m\u001b[39m.\u001b[39;00m\u001b[39mapi\u001b[39;00m \u001b[39mimport\u001b[39;00m (\n\u001b[1;32m     49\u001b[0m     \u001b[39m# dtype\u001b[39;00m\n\u001b[1;32m     50\u001b[0m     ArrowDtype,\n\u001b[1;32m     51\u001b[0m     Int8Dtype,\n\u001b[1;32m     52\u001b[0m     Int16Dtype,\n\u001b[1;32m     53\u001b[0m     Int32Dtype,\n\u001b[1;32m     54\u001b[0m     Int64Dtype,\n\u001b[1;32m     55\u001b[0m     UInt8Dtype,\n\u001b[1;32m     56\u001b[0m     UInt16Dtype,\n\u001b[1;32m     57\u001b[0m     UInt32Dtype,\n\u001b[1;32m     58\u001b[0m     UInt64Dtype,\n\u001b[1;32m     59\u001b[0m     Float32Dtype,\n\u001b[1;32m     60\u001b[0m     Float64Dtype,\n\u001b[1;32m     61\u001b[0m     CategoricalDtype,\n\u001b[1;32m     62\u001b[0m     PeriodDtype,\n\u001b[1;32m     63\u001b[0m     IntervalDtype,\n\u001b[1;32m     64\u001b[0m     DatetimeTZDtype,\n\u001b[1;32m     65\u001b[0m     StringDtype,\n\u001b[1;32m     66\u001b[0m     BooleanDtype,\n\u001b[1;32m     67\u001b[0m     \u001b[39m# missing\u001b[39;00m\n\u001b[1;32m     68\u001b[0m     NA,\n\u001b[1;32m     69\u001b[0m     isna,\n\u001b[1;32m     70\u001b[0m     isnull,\n\u001b[1;32m     71\u001b[0m     notna,\n\u001b[1;32m     72\u001b[0m     notnull,\n\u001b[1;32m     73\u001b[0m     \u001b[39m# indexes\u001b[39;00m\n\u001b[1;32m     74\u001b[0m     Index,\n\u001b[1;32m     75\u001b[0m     CategoricalIndex,\n\u001b[1;32m     76\u001b[0m     RangeIndex,\n\u001b[1;32m     77\u001b[0m     MultiIndex,\n\u001b[1;32m     78\u001b[0m     IntervalIndex,\n\u001b[1;32m     79\u001b[0m     TimedeltaIndex,\n\u001b[1;32m     80\u001b[0m     DatetimeIndex,\n\u001b[1;32m     81\u001b[0m     PeriodIndex,\n\u001b[1;32m     82\u001b[0m     IndexSlice,\n\u001b[1;32m     83\u001b[0m     \u001b[39m# tseries\u001b[39;00m\n\u001b[1;32m     84\u001b[0m     NaT,\n\u001b[1;32m     85\u001b[0m     Period,\n\u001b[1;32m     86\u001b[0m     period_range,\n\u001b[1;32m     87\u001b[0m     Timedelta,\n\u001b[1;32m     88\u001b[0m     timedelta_range,\n\u001b[1;32m     89\u001b[0m     Timestamp,\n\u001b[1;32m     90\u001b[0m     date_range,\n\u001b[1;32m     91\u001b[0m     bdate_range,\n\u001b[1;32m     92\u001b[0m     Interval,\n\u001b[1;32m     93\u001b[0m     interval_range,\n\u001b[1;32m     94\u001b[0m     DateOffset,\n\u001b[1;32m     95\u001b[0m     \u001b[39m# conversion\u001b[39;00m\n\u001b[1;32m     96\u001b[0m     to_numeric,\n\u001b[1;32m     97\u001b[0m     to_datetime,\n\u001b[1;32m     98\u001b[0m     to_timedelta,\n\u001b[1;32m     99\u001b[0m     \u001b[39m# misc\u001b[39;00m\n\u001b[1;32m    100\u001b[0m     Flags,\n\u001b[1;32m    101\u001b[0m     Grouper,\n\u001b[1;32m    102\u001b[0m     factorize,\n\u001b[1;32m    103\u001b[0m     unique,\n\u001b[1;32m    104\u001b[0m     value_counts,\n\u001b[1;32m    105\u001b[0m     NamedAgg,\n\u001b[1;32m    106\u001b[0m     array,\n\u001b[1;32m    107\u001b[0m     Categorical,\n\u001b[1;32m    108\u001b[0m     set_eng_float_format,\n\u001b[1;32m    109\u001b[0m     Series,\n\u001b[1;32m    110\u001b[0m     DataFrame,\n\u001b[1;32m    111\u001b[0m )\n\u001b[1;32m    113\u001b[0m \u001b[39mfrom\u001b[39;00m \u001b[39mpandas\u001b[39;00m\u001b[39m.\u001b[39;00m\u001b[39mcore\u001b[39;00m\u001b[39m.\u001b[39;00m\u001b[39marrays\u001b[39;00m\u001b[39m.\u001b[39;00m\u001b[39msparse\u001b[39;00m \u001b[39mimport\u001b[39;00m SparseDtype\n\u001b[1;32m    115\u001b[0m \u001b[39mfrom\u001b[39;00m \u001b[39mpandas\u001b[39;00m\u001b[39m.\u001b[39;00m\u001b[39mtseries\u001b[39;00m\u001b[39m.\u001b[39;00m\u001b[39mapi\u001b[39;00m \u001b[39mimport\u001b[39;00m infer_freq\n",
      "File \u001b[0;32m~/anaconda3/envs/pymzml/lib/python3.9/site-packages/pandas/core/api.py:22\u001b[0m\n\u001b[1;32m      9\u001b[0m \u001b[39mfrom\u001b[39;00m \u001b[39mpandas\u001b[39;00m\u001b[39m.\u001b[39;00m\u001b[39mcore\u001b[39;00m\u001b[39m.\u001b[39;00m\u001b[39mdtypes\u001b[39;00m\u001b[39m.\u001b[39;00m\u001b[39mdtypes\u001b[39;00m \u001b[39mimport\u001b[39;00m (\n\u001b[1;32m     10\u001b[0m     CategoricalDtype,\n\u001b[1;32m     11\u001b[0m     DatetimeTZDtype,\n\u001b[1;32m     12\u001b[0m     IntervalDtype,\n\u001b[1;32m     13\u001b[0m     PeriodDtype,\n\u001b[1;32m     14\u001b[0m )\n\u001b[1;32m     15\u001b[0m \u001b[39mfrom\u001b[39;00m \u001b[39mpandas\u001b[39;00m\u001b[39m.\u001b[39;00m\u001b[39mcore\u001b[39;00m\u001b[39m.\u001b[39;00m\u001b[39mdtypes\u001b[39;00m\u001b[39m.\u001b[39;00m\u001b[39mmissing\u001b[39;00m \u001b[39mimport\u001b[39;00m (\n\u001b[1;32m     16\u001b[0m     isna,\n\u001b[1;32m     17\u001b[0m     isnull,\n\u001b[1;32m     18\u001b[0m     notna,\n\u001b[1;32m     19\u001b[0m     notnull,\n\u001b[1;32m     20\u001b[0m )\n\u001b[0;32m---> 22\u001b[0m \u001b[39mfrom\u001b[39;00m \u001b[39mpandas\u001b[39;00m\u001b[39m.\u001b[39;00m\u001b[39mcore\u001b[39;00m\u001b[39m.\u001b[39;00m\u001b[39malgorithms\u001b[39;00m \u001b[39mimport\u001b[39;00m (\n\u001b[1;32m     23\u001b[0m     factorize,\n\u001b[1;32m     24\u001b[0m     unique,\n\u001b[1;32m     25\u001b[0m     value_counts,\n\u001b[1;32m     26\u001b[0m )\n\u001b[1;32m     27\u001b[0m \u001b[39mfrom\u001b[39;00m \u001b[39mpandas\u001b[39;00m\u001b[39m.\u001b[39;00m\u001b[39mcore\u001b[39;00m\u001b[39m.\u001b[39;00m\u001b[39marrays\u001b[39;00m \u001b[39mimport\u001b[39;00m Categorical\n\u001b[1;32m     28\u001b[0m \u001b[39mfrom\u001b[39;00m \u001b[39mpandas\u001b[39;00m\u001b[39m.\u001b[39;00m\u001b[39mcore\u001b[39;00m\u001b[39m.\u001b[39;00m\u001b[39marrays\u001b[39;00m\u001b[39m.\u001b[39;00m\u001b[39marrow\u001b[39;00m \u001b[39mimport\u001b[39;00m ArrowDtype\n",
      "File \u001b[0;32m<frozen importlib._bootstrap>:1007\u001b[0m, in \u001b[0;36m_find_and_load\u001b[0;34m(name, import_)\u001b[0m\n",
      "File \u001b[0;32m<frozen importlib._bootstrap>:986\u001b[0m, in \u001b[0;36m_find_and_load_unlocked\u001b[0;34m(name, import_)\u001b[0m\n",
      "File \u001b[0;32m<frozen importlib._bootstrap>:680\u001b[0m, in \u001b[0;36m_load_unlocked\u001b[0;34m(spec)\u001b[0m\n",
      "File \u001b[0;32m<frozen importlib._bootstrap_external>:846\u001b[0m, in \u001b[0;36mexec_module\u001b[0;34m(self, module)\u001b[0m\n",
      "File \u001b[0;32m<frozen importlib._bootstrap_external>:978\u001b[0m, in \u001b[0;36mget_code\u001b[0;34m(self, fullname)\u001b[0m\n",
      "File \u001b[0;32m<frozen importlib._bootstrap_external>:647\u001b[0m, in \u001b[0;36m_compile_bytecode\u001b[0;34m(data, name, bytecode_path, source_path)\u001b[0m\n",
      "\u001b[0;31mKeyboardInterrupt\u001b[0m: "
     ]
    }
   ],
   "source": [
    "#Import all the necessary libraries\n",
    "import pymzml\n",
    "import csv\n",
    "import os\n",
    "import pandas as pd\n",
    "import numpy as np\n",
    "import math\n",
    "from matplotlib import pyplot as plt\n",
    "import re\n",
    "import plotly.express as px"
   ]
  },
  {
   "cell_type": "code",
   "execution_count": null,
   "metadata": {},
   "outputs": [],
   "source": [
    "#Make a list of all folder names in data_mzml\n",
    "folder_names_data_mzml = os.listdir('data_mzml')\n",
    "print(folder_names_data_mzml)\n",
    "#Make a list of all folder names in data_mzml/fly_1-11-23\n",
    "folder_name = os.listdir('data_mzml/03-03-23')\n",
    "print(folder_name)\n"
   ]
  },
  {
   "attachments": {},
   "cell_type": "markdown",
   "metadata": {},
   "source": [
    "MAKE CLASSES FOR EACH LIPID"
   ]
  },
  {
   "cell_type": "code",
   "execution_count": null,
   "metadata": {},
   "outputs": [],
   "source": [
    "mrm_list_new = pd.read_excel('SUPPLE_2.XLS')\n",
    "lipid_types = [\"CE\",\"TAG\",\"CER\",\"FFA\",\"PC\",\"PE\",\"PG\",\"PI\",\"SM\",\"AC\"]\n",
    "\n",
    "#loop through all sheets in SUPPLE_2.XLS and make a df of Compound Name, Parent Ion, and Product Ion\n",
    "mrm_list_new = pd.read_excel('SUPPLE_2.XLS', sheet_name = None)\n",
    "mrm_list_new = pd.concat(mrm_list_new, ignore_index=True)\n",
    "mrm_list_offical = mrm_list_new[['Compound Name', 'Parent Ion', 'Product Ion']]\n",
    "#Add underscore to middle of columns names\n",
    "mrm_list_offical.columns = mrm_list_offical.columns.str.replace(' ', '_')\n",
    "#round Parent Ion and Product Ion to 1 decimal place\n",
    "mrm_list_offical['Parent_Ion'] = np.floor(mrm_list_offical['Parent_Ion'].round(1))\n",
    "mrm_list_offical['Product_Ion'] = np.floor(mrm_list_offical['Product_Ion'].round(1))\n",
    "#create transition column by combining Parent Ion and Product Ion with arrow between numbers\n",
    "mrm_list_offical['Transition'] = mrm_list_offical['Parent_Ion'].astype(str) + ' -> ' + mrm_list_offical['Product_Ion'].astype(str)\n",
    "#change column compound name to lipid\n",
    "mrm_list_offical = mrm_list_offical.rename(columns={'Compound_Name': 'Lipid'})\n",
    "#make a column called Class match lipid column to lipid types\n",
    "\n",
    "\n",
    "mrm_list_offical['Class'] = mrm_list_offical['Lipid'].str.extract('([a-zA-Z]+)')\n",
    "#if Class = O or omega, then change to Cer\n",
    "mrm_list_offical['Class'] = mrm_list_offical['Class'].replace(['O','omega'], 'Cer')\n",
    "#if TG then change to TAG\n",
    "mrm_list_offical['Class'] = mrm_list_offical['Class'].replace('TG', 'TAG')\n",
    "#make a column called Lipid Name match lipid column to lipid types\n",
    "#If STD then use Compound Name as class\n",
    "mrm_list_offical['Class'] = np.where(mrm_list_offical['Lipid'].str.contains('STD'), mrm_list_offical['Lipid'], mrm_list_offical['Class'])\n",
    "#mrm_list_offical['Class'] = mrm_list_offical['Lipid'].str.extract('([A-Z]+)')\n",
    "#make a column called Lipid Name match lipid column to lipid types\n",
    "pd.set_option('display.max_rows', None)\n",
    "print(mrm_list_offical.head(None))\n"
   ]
  },
  {
   "cell_type": "code",
   "execution_count": null,
   "metadata": {},
   "outputs": [],
   "source": [
    "list_of_lipid_classes = mrm_list_offical['Class'].unique()\n",
    "print(list_of_lipid_classes)"
   ]
  },
  {
   "attachments": {},
   "cell_type": "markdown",
   "metadata": {},
   "source": [
    "Load mzML file and convert to pandas dataframe and csv file. |\n",
    "Columns = Q1, Q3, Intensity, Transition, Lipid, Class  |\n",
    "Dataframes are stored in a dictionary called data_dict |\n",
    "Key = mzml file name from /data_mzml folder |\n",
    "Value = Pandas dataframe of data |\n",
    "Parsed data is also stored as csv file in data_csv"
   ]
  },
  {
   "cell_type": "code",
   "execution_count": null,
   "metadata": {},
   "outputs": [],
   "source": [
    "#Create for loop to load all mzml files from the data folder into the run object from pymzml reader function and store in pandas dataframe\n",
    "#Create empty dictionary to store all the data\n",
    "data_folder = os.listdir('./data_mzml/03-13-23/all/') #Path to the mzml files\n",
    "path_to_mzml_files = './data_mzml/03-13-23/all/' #Path to the mzml files\n",
    "data_dict = {} #Empty dictionary to store all the data\n",
    "\n",
    "#Create name of pandas dataframe based off of the mzml file name\n",
    "for file in data_folder:\n",
    "    if file.endswith('.mzML'):\n",
    "        print(file)\n",
    "        run = pymzml.run.Reader(path_to_mzml_files+file, skip_chromatogram=False) #Load the mzml file into the run object\n",
    "        print('Spectrum # = ',run.get_spectrum_count())\n",
    "        print('Chromatogram # =',run.get_chromatogram_count())\n",
    "        #create pandas dataframe to store the data with the columns Parent Ion, Product Ion, Intensity, Transition Lipid and Class\n",
    "        df_sample = pd.DataFrame(columns=['Parent_Ion','Product_Ion','Intensity','Transition','Lipid','Class']) #Create empty pandas dataframe to store the data\n",
    "        #df_sample = pd.DataFrame(columns=['Q1','Q3','Intensity','Transition','Lipid','Class']) #Create empty pandas dataframe to store the data\n",
    "        q1_mz = 0 #Create empty variables to store the Q1 and Q3 m/z values\n",
    "        q3_mz = 0\n",
    "        count = 0 #Create a counter to keep track of the number of transitions\n",
    "        for spectrum in run:\n",
    "            for element in spectrum.ID.split(' '):\n",
    "                    # print('element',element)\n",
    "                    intensity_store = np.array([])\n",
    "                    if 'Q1' in element:\n",
    "                            #print('Q1',element)\n",
    "                            q1 = element.split('=')\n",
    "                            #print('q1',q1[1])\n",
    "                            q1_mz= np.floor(round(float(q1[1]),1))\n",
    "                            # print('q1',q1)\n",
    "                    \n",
    "                    if 'Q3' in element:\n",
    "                            # print('Q3',element)\n",
    "                            q3 = element.split('=')\n",
    "                            #print('q3',q3[1])\n",
    "                            q3_mz=np.floor(round(float(q3[1]),1))\n",
    "                            # print('q3',q3)\n",
    "                            # df_sample.loc[count,'Q1'] = q1_mz\n",
    "                            # df_sample.loc[count,'Q3'] = q3_mz\n",
    "                            \n",
    "                            for mz,intensity in spectrum.peaks(): #Get the m/z and intensity values from the spectrum\n",
    "                                    intensity_store = np.append(intensity_store,intensity) #Store the intensity values in an array\n",
    "        \n",
    "                    \n",
    "                    if 'Q3' in element:\n",
    "                        # print(intensity_sum)\n",
    "                            intensity_sum = np.sum(intensity_store) #Sum the intensity values\n",
    "                            df_sample.loc[count,'Parent_Ion'] = q1_mz #Store the Q1 and Q3 m/z values in the pandas dataframe\n",
    "                            df_sample.loc[count,'Product_Ion'] = q3_mz\n",
    "                            #round the Q1 and Q3 m/z values to 1 decimal places\n",
    "                            df_sample.loc[count,'Parent_Ion'] = np.floor(round(df_sample.loc[count,'Parent_Ion'],1))\n",
    "                            df_sample.loc[count,'Product_Ion'] = np.floor(round(df_sample.loc[count,'Product_Ion'],1))\n",
    "                            df_sample.loc[count,'Intensity'] = intensity_sum #Store the intensity values in the pandas dataframe\n",
    "                            df_sample.loc[count,'Transition'] = str(q1_mz)+ ' -> '+ str(q3_mz) #Store the transition values in the pandas dataframe\n",
    "                            count+=1 \n",
    "        data_dict[file] = df_sample #Store the pandas dataframe in the dictionary\n",
    "        df_sample.to_csv('./data_csv/'+file+'.csv') #Save the data as a csv file in the data_csv folder\n",
    "        print(df_sample.head())\n",
    "\n",
    "print(data_dict.keys())"
   ]
  },
  {
   "attachments": {},
   "cell_type": "markdown",
   "metadata": {},
   "source": [
    "Confirm dictionary has properly stored all mzml files as key (mzml file name) and value (df of file contents). We can now see all mzml files from the data folder have been parsed into pandas dataframe and each df has been stored in a dictionary for easy access."
   ]
  },
  {
   "cell_type": "code",
   "execution_count": null,
   "metadata": {},
   "outputs": [],
   "source": [
    "#Print out key value pairs of the dictionary to confirm data is correct \n",
    "for key,value in data_dict.items():\n",
    "    print(key)\n",
    "    print(value.head())\n",
    "    print(value)\n",
    "\n",
    "#Sort keys in the dictionary\n",
    "sorted_keys = sorted(data_dict.keys())\n",
    "data_dict = {key:data_dict[key] for key in sorted_keys}\n",
    "print(data_dict.keys())"
   ]
  },
  {
   "attachments": {},
   "cell_type": "markdown",
   "metadata": {},
   "source": [
    "Load MRM transitions from csv file to pandas dataframe. This list will be used to identify the possible lipids in our sample."
   ]
  },
  {
   "cell_type": "code",
   "execution_count": null,
   "metadata": {},
   "outputs": [],
   "source": [
    "# #list of MRM to pandas dataframe\n",
    "\n",
    "# # Open Lipid File\n",
    "# lipid_file_mrm = pd.read_csv('List_MRMs.csv', on_bad_lines='skip', sep='\\t', header=None)\n",
    "# #Create Headers for the dataframe\n",
    "# headers = ['Lipid','Transition']\n",
    "# lipid_file_mrm.columns = headers #Assign headers to the dataframe\n",
    "\n",
    "# #split the transition column into Q1, Arrow, Q3\n",
    "# start = lipid_file_mrm.Transition.str.split(expand=True) #Split the transition column into Q1, Arrow, Q3\n",
    "# start.columns = ['Q1','Arrow','Q3'] #Assign the column names to the new dataframe\n",
    "# transitions_headers = ['Q1','Arrow','Q3'] #Create a list of the column names\n",
    "\n",
    "# #Create a new dataframe of mrm transitions with columns = Lipids and Q1, Q3\n",
    "# df_mrm= pd.DataFrame(columns=['Lipid','Q1','Q3','Transition']) #Create a new dataframe of mrm transitions with columns = Lipids and Q1, Q3\n",
    "# df_mrm['Lipid'] = lipid_file_mrm['Lipid'] #Assign the Lipid column from the lipid_file_mrm to the new dataframe\n",
    "# df_mrm['Q1'] = start['Q1'] #    Assign the Q1 column from the start dataframe to the new dataframe\n",
    "# df_mrm['Q3'] = start['Q3'] #    Assign the Q3 column from the start dataframe to the new dataframe\n",
    "# #change the Q1 and Q3 columns to float\n",
    "# df_mrm['Q1'] = df_mrm['Q1'].astype(float)\n",
    "# df_mrm['Q3'] = df_mrm['Q3'].astype(float)\n",
    "# #round the Q1 and Q3 m/z values to 1 decimal places\n",
    "# df_mrm['Q1'] = np.floor(round(df_mrm['Q1'],1))\n",
    "# df_mrm['Q3'] = np.floor(round(df_mrm['Q3'],1))\n",
    "# #Change column name Q1 to Parent_Ion and Q3 to Product_Ion\n",
    "\n",
    "\n",
    "# #For loop to create the transition column from the Q1 and Q3 columns\n",
    "# for index in range(len(df_mrm)):\n",
    "#     df_mrm.loc[index,'Transition'] = str(df_mrm.loc[index,'Q1']) + ' -> ' + str(df_mrm.loc[index,'Q3'])\n",
    "\n",
    "# df_mrm.rename(columns={'Q1':'Parent_Ion'}, inplace=True)\n",
    "# df_mrm.rename(columns={'Q3':'Product_Ion'}, inplace=True)\n",
    "# #df_mrm['Transition'] = lipid_file_mrm['Transition'] #Assign the Transition column from the lipid_file_mrm to the new dataframe\n",
    "\n",
    "\n",
    "\n",
    "# df_mrm.head()"
   ]
  },
  {
   "cell_type": "code",
   "execution_count": null,
   "metadata": {},
   "outputs": [],
   "source": [
    "#Create dictionary to store matching transitions from df_mrm\n",
    "\n",
    "matching_dic = {} #dictionary to store matching transitions\n",
    "matching_dic2 = {}\n",
    "\n",
    "# #loop through each sample dataframe in data_dict\n",
    "# for key, value in data_dict.items():\n",
    "#     #print(value.iloc[0:,:])\n",
    "#     df_current = pd.DataFrame(columns=['Parent_Ion','Product_Ion','Intensity','Transition','Lipid','Class']) #create a new dataframe for each sample\n",
    "#     #loop through each transition in the sample dataframe\n",
    "#     for index in range(len(value)):\n",
    "        \n",
    "#         #Match Q1 and Q3 values in df_mrm to Q1 and Q3 values in value\n",
    "#         for row in range(len(df_mrm)):\n",
    "#             if df_mrm.loc[row,'Parent_Ion'] == value.iloc[index,0] and df_mrm.loc[row,'Product_Ion'] == value.iloc[index,1]:\n",
    "#                 value.loc[index,'Lipid'] = df_mrm.loc[row,'Lipid']\n",
    "#                 df_current = df_current.append(value.iloc[index,:]) #add the transition to the new dataframe\n",
    "                \n",
    "\n",
    "#     matching_dic[key] = df_current #add the new dataframe to the matching_dic dictionary\n",
    "\n",
    "#do the same thing with mrm_list_offical and save to matching_dic2\n",
    "for key, value in data_dict.items():\n",
    "    #print(value.iloc[0:,:])\n",
    "    df_current = pd.DataFrame(columns=['Parent_Ion','Product_Ion','Intensity','Transition','Lipid','Class']) #create a new dataframe for each sample\n",
    "    #loop through each transition in the sample dataframe\n",
    "    for index in range(len(value)):\n",
    "        \n",
    "        #Match Q1 and Q3 values in df_mrm to Q1 and Q3 values in value\n",
    "        for row in range(len(mrm_list_offical)):\n",
    "            if mrm_list_offical.loc[row,'Parent_Ion'] == value.iloc[index,0] and mrm_list_offical.loc[row,'Product_Ion'] == value.iloc[index,1]:\n",
    "                value.loc[index,'Lipid'] = mrm_list_offical.loc[row,'Lipid']\n",
    "                value.loc[index,'Class'] = mrm_list_offical.loc[row,'Class']\n",
    "                df_current = df_current.append(value.iloc[index,:]) #add the transition to the new dataframe\n",
    "                \n",
    "\n",
    "    matching_dic[key] = df_current #add the new dataframe to the matching_dic dictionary"
   ]
  },
  {
   "attachments": {},
   "cell_type": "markdown",
   "metadata": {},
   "source": []
  },
  {
   "cell_type": "code",
   "execution_count": null,
   "metadata": {},
   "outputs": [],
   "source": [
    "print(mrm_list_offical.head())"
   ]
  },
  {
   "cell_type": "code",
   "execution_count": null,
   "metadata": {},
   "outputs": [],
   "source": [
    "# for key, value in matching_dic.items():\n",
    "#     if value.empty:\n",
    "#         print(key, 'is empty')\n",
    "#     else:\n",
    "#         print(key)\n",
    "#         print(value.head())\n",
    "#         print('_____________________________________________________________')"
   ]
  },
  {
   "cell_type": "code",
   "execution_count": null,
   "metadata": {},
   "outputs": [],
   "source": [
    "# for key, value in matching_dic.items():\n",
    "#     if value.empty:\n",
    "#         print(key, 'is empty')\n",
    "#     else:\n",
    "#         print(key)\n",
    "#         print(value.head())\n",
    "#         print(value)\n",
    "#         print('_____________________________________________________________')"
   ]
  },
  {
   "cell_type": "code",
   "execution_count": null,
   "metadata": {},
   "outputs": [],
   "source": [
    "#Save each dataframe from the matching_dic dictionary to an excel file in the data_results/data/data_matching folder\n",
    "# for key, value in matching_dic.items():\n",
    "#     if value.empty:\n",
    "#         print(key, 'is empty')\n",
    "#     else:\n",
    "#         value.to_excel('data_results/data/data_matching/' + key + '.xlsx', index=False)\n",
    "#         print(key, 'saved')\n",
    "#         print('_____________________________________________________________')"
   ]
  },
  {
   "cell_type": "code",
   "execution_count": null,
   "metadata": {},
   "outputs": [],
   "source": [
    "# # print(data_dict['test_sample'])\n",
    "# # print(matching_dic['test_sample'])\n",
    "\n",
    "# #iterate through each dataframe in matching dict and add the lipid and class to the dataframe from df_mrm\n",
    "# for key, value in matching_dic.items():\n",
    "#     for index in range(len(value)): #iterate through each row in the dataframe\n",
    "#         lipid = df_mrm.loc[df_mrm['Transition'] == value.iloc[index,3], 'Lipid'].iloc[0] #get the lipid from df_mrm\n",
    "#         matching_dic[key].loc[index,'Lipid'] = lipid #add the lipid to the dataframe\n",
    "\n",
    "\n",
    "# #print(matching_dic['test_sample'])\n",
    "# print(matching_dic)"
   ]
  },
  {
   "cell_type": "code",
   "execution_count": null,
   "metadata": {},
   "outputs": [],
   "source": [
    "# # #Create for loop to store all processed dataframes with intensity > 20% max intensity in data_results/data folder\n",
    "# # for key, value in data_dict.items():\n",
    "# #     if value.empty:\n",
    "# #         continue\n",
    "# #     else:\n",
    "# #         value.to_csv('./data_results/data/data_filtered/'+key+'.csv') #Save the data as a csv file\n",
    "# #         print(value.head())\n",
    "\n",
    "# for key, value in matching_dic.items():\n",
    "#     if value.empty:\n",
    "#         continue\n",
    "#     else:\n",
    "#         value.to_csv('./data_results/data/data_matching/fly_03_08_23/TAG/'+key+'.csv') #Save the data as a csv file\n",
    "#         print(value.head())\n"
   ]
  },
  {
   "cell_type": "code",
   "execution_count": null,
   "metadata": {},
   "outputs": [],
   "source": [
    "#import visualization libraries\n",
    "import umap\n",
    "import matplotlib.pyplot as plt\n",
    "import seaborn as sns\n",
    "import plotly.express as px\n",
    "import plotly.graph_objects as go"
   ]
  },
  {
   "cell_type": "code",
   "execution_count": null,
   "metadata": {},
   "outputs": [],
   "source": [
    "# #Plotting Transition vs Intensity for each sample in matching_dic with color = Lipid\n",
    "\n",
    "# for key,value in matching_dic.items():\n",
    "#     if value.empty:\n",
    "#         print(key, 'is empty')\n",
    "#         pass\n",
    "#     else:\n",
    "#         fig = px.bar(value,title=key, x='Transition', y='Intensity',color='Lipid')\n",
    "#         fig.show()\n",
    "\n",
    "# # fig = px.bar(matching_dic['test_sample'],title='test_sample', x='Transition', y='Intensity', color='Lipid')\n",
    "# # fig.show()"
   ]
  },
  {
   "cell_type": "code",
   "execution_count": null,
   "metadata": {},
   "outputs": [],
   "source": [
    "#create a for loop to store all the plots in data_results/plots/plots_matching folder\n",
    "# folder_name_plots = '03-13-23'\n",
    "# for key, value in matching_dic.items():\n",
    "#     if value.empty:\n",
    "#         continue\n",
    "#     else:\n",
    "#         fig = px.bar(value,title=key, x='Transition', y='Intensity',color='Lipid')\n",
    "#         fig.show()\n",
    "#         fig.write_image(\"./data_results/plots/plots_matching/{}\"+key+\".png\".format(folder_name_plots))\n",
    "#         #fig.write_image(\"./data_results/plots/plots_matching/\"+key+\".pdf\")\n",
    "#         print('_____________________________________________________________')"
   ]
  },
  {
   "cell_type": "code",
   "execution_count": null,
   "metadata": {},
   "outputs": [],
   "source": [
    "################\n",
    "#BLANK SUBTRACTION\n",
    "################\n",
    "# #data_dict['TAG1_Blank.mzML'].head()\n",
    "# #Create for loop and subtract the blank intensity from the sample intensity\n",
    "# data_dict_blanks_subtracted = {}\n",
    "# for key,value in data_dict.items():\n",
    "#     if 'Blank' in key:\n",
    "#         #print(key)\n",
    "#         blank = value #Store the blank data in a variable\n",
    "# for key,value in data_dict.items():\n",
    "#     if 'Blank' not in key:\n",
    "#         #print(key)\n",
    "#         sample = value #Store the sample data in a variable\n",
    "#         sample['Intensity'] = sample['Intensity'] - blank['Intensity'] #Subtract the blank intensity from the sample intensity\n",
    "#         data_dict_blanks_subtracted[key] = sample #Store the new sample data in the dictionary\n",
    "#         #plot transition intensities\n",
    "#         # fig = px.bar(sample, x=\"Transition\", y=\"Intensity\", title=key)\n",
    "#         # fig.show()\n",
    "\n",
    "# #create the same for loop but remove the negative values\n",
    "# for key,value in data_dict.items():\n",
    "#     if 'Blank' not in key:\n",
    "#         print(key)\n",
    "#         #sample = value #Store the sample data in a variable\n",
    "#         #sample['Intensity'] = sample['Intensity'] - blank['Intensity'] #Subtract the blank intensity from the sample intensity\n",
    "#         #Remove the negative values\n",
    "#         sample['Intensity'] = sample['Intensity'].apply(lambda x: 0 if x < 0 else x)\n",
    "\n",
    "\n",
    "#         #plot transition intensities\n",
    "#         # for i in range(len(value)):\n",
    "#         #     if value['Intensity'][i] < 0.2*max(value['Intensity']):\n",
    "#         #         value.drop(i,inplace=True)\n",
    "#         # fig = px.bar(sample, x=\"Transition\", y=\"Intensity\",color='Lipid' ,title=key)\n",
    "#         fig.show()"
   ]
  },
  {
   "cell_type": "code",
   "execution_count": null,
   "metadata": {},
   "outputs": [],
   "source": [
    "#create a new df that subtracts the TAG1_BlankN1 from each sample\n",
    "#subtract intensity column of the blank from each sample\n",
    "# data_dict_blanks_subtracted = {}\n",
    "# #print(data_dict_blanks_subtracted)\n",
    "# for key, value in data_dict.items():\n",
    "#     #data_dict_blanks_subtracted[key] = data_dict[key].subtract(data_dict['TAG1_Blank_N1_03082023.mzML'], axis=1) #subtract the blank from each sample\n",
    "# #     for i in range(len(value)):\n",
    "# #         if value['Intensity'][i] < 0.2*max(value['Intensity']):\n",
    "# #                 value.drop(i,inplace=True)\n",
    "#         fig = px.bar(value,title=key, x='Transition',y='Intensity',color='Lipid',range_y= [0.2*max(value['Intensity']),max(value['Intensity'])])\n",
    "#         fig.show()\n",
    "#         # print(key)\n",
    "\n",
    "# for key, value in data_dict.items():\n",
    "#     print(key)"
   ]
  },
  {
   "cell_type": "code",
   "execution_count": null,
   "metadata": {},
   "outputs": [],
   "source": [
    "#Plot intensity vs class for each sample\n",
    "# for key, value in data_dict.items():\n",
    "#     if value.empty:\n",
    "#         continue\n",
    "#     else:\n",
    "#         fig = px.bar(value,title=key, x='Class', y='Intensity',color='Lipid')\n",
    "#         fig.show()\n",
    "#         print('_____________________________________________________________')"
   ]
  },
  {
   "cell_type": "code",
   "execution_count": null,
   "metadata": {},
   "outputs": [],
   "source": [
    "# #make a pie chart of intensity vs class for each sample\n",
    "# for key, value in data_dict.items():\n",
    "#     if value.empty:\n",
    "#         continue\n",
    "#     else:\n",
    "#         fig = px.pie(value, values='Intensity', names='Class', title=key)\n",
    "#         fig.show()\n",
    "#         print('_____________________________________________________________')\n",
    "\n",
    "#make a pie chart of intensity vs lipid for each sample\n",
    "# for key, value in data_dict.items():\n",
    "#     if value.empty:\n",
    "#         continue\n",
    "#     else:\n",
    "#         fig = px.pie(value, values='Intensity', names='Lipid', title=key)\n",
    "#         fig.show()\n",
    "#         print('_____________________________________________________________')"
   ]
  }
 ],
 "metadata": {
  "kernelspec": {
   "display_name": "pymzml",
   "language": "python",
   "name": "python3"
  },
  "language_info": {
   "codemirror_mode": {
    "name": "ipython",
    "version": 3
   },
   "file_extension": ".py",
   "mimetype": "text/x-python",
   "name": "python",
   "nbconvert_exporter": "python",
   "pygments_lexer": "ipython3",
   "version": "3.9.15"
  },
  "orig_nbformat": 4,
  "vscode": {
   "interpreter": {
    "hash": "7f59e923a9cab402a21ecdd8c8501a7d121113b28792a99acb445fcdcb4f42c3"
   }
  }
 },
 "nbformat": 4,
 "nbformat_minor": 2
}
