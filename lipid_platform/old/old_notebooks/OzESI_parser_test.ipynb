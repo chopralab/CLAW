{
 "cells": [
  {
   "attachments": {},
   "cell_type": "markdown",
   "metadata": {},
   "source": [
    "Jupyter Notebook for Selecting Lipid MRMs and OzESIs after a Neutral Loss Scan"
   ]
  },
  {
   "cell_type": "code",
   "execution_count": 2,
   "metadata": {},
   "outputs": [
    {
     "name": "stdout",
     "output_type": "stream",
     "text": [
      "No module named 'ms_deisotope._c.averagine' averagine\n",
      "No module named 'ms_deisotope._c.scoring'\n",
      "No module named 'ms_deisotope._c.deconvoluter_base'\n",
      "No module named 'ms_deisotope._c.deconvoluter_base'\n",
      "No module named 'ms_deisotope._c.deconvoluter_base'\n"
     ]
    }
   ],
   "source": [
    "#Import all the necessary libraries\n",
    "import pymzml\n",
    "import csv\n",
    "import os\n",
    "import pandas as pd\n",
    "import numpy as np\n",
    "import math\n",
    "from matplotlib import pyplot as plt\n",
    "import re\n",
    "import plotly.express as px\n",
    "from IPython.display import Image"
   ]
  },
  {
   "attachments": {},
   "cell_type": "markdown",
   "metadata": {},
   "source": [
    "First perform a neutral loss scan and obtain pecursor ion m/z values and the neutral loss. Upload an excel spreadsheet with these values listed in two columns."
   ]
  },
  {
   "attachments": {},
   "cell_type": "markdown",
   "metadata": {},
   "source": [
    "![title](Figures/search_list.png)"
   ]
  },
  {
   "attachments": {},
   "cell_type": "markdown",
   "metadata": {},
   "source": [
    "A database of known lipid MRMs will be parsed and matched. And the rule-based method for OzESI will be used. \n"
   ]
  },
  {
   "attachments": {},
   "cell_type": "markdown",
   "metadata": {},
   "source": [
    "![title](Figures/OzESI_results.png)"
   ]
  },
  {
   "attachments": {},
   "cell_type": "markdown",
   "metadata": {},
   "source": [
    "Load MRM databases 1: SUPPLE_2.XLS and 2:ListMRMs.csv, and then save as a pandas dataframe. "
   ]
  },
  {
   "cell_type": "code",
   "execution_count": 8,
   "metadata": {},
   "outputs": [
    {
     "name": "stderr",
     "output_type": "stream",
     "text": [
      "/tmp/ipykernel_848/1191973850.py:9: SettingWithCopyWarning: \n",
      "A value is trying to be set on a copy of a slice from a DataFrame.\n",
      "Try using .loc[row_indexer,col_indexer] = value instead\n",
      "\n",
      "See the caveats in the documentation: https://pandas.pydata.org/pandas-docs/stable/user_guide/indexing.html#returning-a-view-versus-a-copy\n",
      "  mrm_list_offical.loc[:, 'Parent_Ion'] = mrm_list_offical['Parent_Ion'].round(0)\n",
      "/tmp/ipykernel_848/1191973850.py:10: SettingWithCopyWarning: \n",
      "A value is trying to be set on a copy of a slice from a DataFrame.\n",
      "Try using .loc[row_indexer,col_indexer] = value instead\n",
      "\n",
      "See the caveats in the documentation: https://pandas.pydata.org/pandas-docs/stable/user_guide/indexing.html#returning-a-view-versus-a-copy\n",
      "  mrm_list_offical.loc[:, 'Product_Ion'] = mrm_list_offical['Product_Ion'].round(0)\n",
      "/tmp/ipykernel_848/1191973850.py:12: SettingWithCopyWarning: \n",
      "A value is trying to be set on a copy of a slice from a DataFrame.\n",
      "Try using .loc[row_indexer,col_indexer] = value instead\n",
      "\n",
      "See the caveats in the documentation: https://pandas.pydata.org/pandas-docs/stable/user_guide/indexing.html#returning-a-view-versus-a-copy\n",
      "  mrm_list_offical.loc[:, 'Transition'] = mrm_list_offical['Parent_Ion'].astype(str) + ' -> ' + mrm_list_offical['Product_Ion'].astype(str)\n"
     ]
    },
    {
     "data": {
      "text/html": [
       "<div>\n",
       "<style scoped>\n",
       "    .dataframe tbody tr th:only-of-type {\n",
       "        vertical-align: middle;\n",
       "    }\n",
       "\n",
       "    .dataframe tbody tr th {\n",
       "        vertical-align: top;\n",
       "    }\n",
       "\n",
       "    .dataframe thead th {\n",
       "        text-align: right;\n",
       "    }\n",
       "</style>\n",
       "<table border=\"1\" class=\"dataframe\">\n",
       "  <thead>\n",
       "    <tr style=\"text-align: right;\">\n",
       "      <th></th>\n",
       "      <th>Lipid</th>\n",
       "      <th>Parent_Ion</th>\n",
       "      <th>Product_Ion</th>\n",
       "      <th>Transition</th>\n",
       "    </tr>\n",
       "  </thead>\n",
       "  <tbody>\n",
       "    <tr>\n",
       "      <th>3264</th>\n",
       "      <td>STD_15:0-18:1(d7) PI (NH4 Salt)</td>\n",
       "      <td>848.0</td>\n",
       "      <td>570.0</td>\n",
       "      <td>848.0 -&gt; 570.0</td>\n",
       "    </tr>\n",
       "    <tr>\n",
       "      <th>3265</th>\n",
       "      <td>STD_15:0-18:1(d7) PS (Na Salt)</td>\n",
       "      <td>756.0</td>\n",
       "      <td>570.0</td>\n",
       "      <td>756.0 -&gt; 570.0</td>\n",
       "    </tr>\n",
       "    <tr>\n",
       "      <th>3266</th>\n",
       "      <td>STD_15:0-18:1(d7)-15:0 TAG</td>\n",
       "      <td>830.0</td>\n",
       "      <td>570.0</td>\n",
       "      <td>830.0 -&gt; 570.0</td>\n",
       "    </tr>\n",
       "    <tr>\n",
       "      <th>3267</th>\n",
       "      <td>STD_18:1(d7) Chol Ester</td>\n",
       "      <td>676.0</td>\n",
       "      <td>369.0</td>\n",
       "      <td>676.0 -&gt; 369.0</td>\n",
       "    </tr>\n",
       "    <tr>\n",
       "      <th>3268</th>\n",
       "      <td>STD_d18:1-18:1(d9) SM</td>\n",
       "      <td>739.0</td>\n",
       "      <td>184.0</td>\n",
       "      <td>739.0 -&gt; 184.0</td>\n",
       "    </tr>\n",
       "  </tbody>\n",
       "</table>\n",
       "</div>"
      ],
      "text/plain": [
       "                                Lipid  Parent_Ion  Product_Ion      Transition\n",
       "3264  STD_15:0-18:1(d7) PI (NH4 Salt)       848.0        570.0  848.0 -> 570.0\n",
       "3265   STD_15:0-18:1(d7) PS (Na Salt)       756.0        570.0  756.0 -> 570.0\n",
       "3266       STD_15:0-18:1(d7)-15:0 TAG       830.0        570.0  830.0 -> 570.0\n",
       "3267          STD_18:1(d7) Chol Ester       676.0        369.0  676.0 -> 369.0\n",
       "3268            STD_d18:1-18:1(d9) SM       739.0        184.0  739.0 -> 184.0"
      ]
     },
     "execution_count": 8,
     "metadata": {},
     "output_type": "execute_result"
    }
   ],
   "source": [
    "# #loop through all sheets in SUPPLE_2.XLS and make a df of Compound Name, Parent Ion, and Product Ion\n",
    "mrm_list_new = pd.read_excel('lipid_database/Lipid_Database.xlsx', sheet_name = None)\n",
    "mrm_list_new = pd.concat(mrm_list_new, ignore_index=True)\n",
    "mrm_list_offical = mrm_list_new[['Compound Name', 'Parent Ion', 'Product Ion']]\n",
    "#mrm_list_official = mrm_list_new.loc[:, ['Compound Name', 'Parent Ion', 'Product Ion']]\n",
    "#Add underscore to middle of columns names\n",
    "mrm_list_offical.columns = mrm_list_offical.columns.str.replace(' ', '_')\n",
    "#round the Parent Ion and Product Ion to 1 decimal place\n",
    "mrm_list_offical.loc[:, 'Parent_Ion'] = mrm_list_offical['Parent_Ion'].round(0)\n",
    "mrm_list_offical.loc[:, 'Product_Ion'] = mrm_list_offical['Product_Ion'].round(0)\n",
    "# Create transition column by combining Parent Ion and Product Ion with arrow between numbers\n",
    "mrm_list_offical.loc[:, 'Transition'] = mrm_list_offical['Parent_Ion'].astype(str) + ' -> ' + mrm_list_offical['Product_Ion'].astype(str)\n",
    "# Change column compound name to lipid\n",
    "mrm_list_offical= mrm_list_offical.rename(columns={'Compound_Name': 'Lipid'})\n",
    "mrm_database = mrm_list_offical\n",
    "\n",
    "\n",
    "\n",
    "# # print(mrm_list_offical.head(25))\n",
    "# # print(df_mrm.head(25))\n",
    "\n",
    "# def read_mrm_list(filename):\n",
    "#     mrm_list_new = pd.read_excel(filename, sheet_name=None)\n",
    "#     mrm_list_new = pd.concat(mrm_list_new, ignore_index=True)\n",
    "#     mrm_list_offical = mrm_list_new[['Compound Name', 'Parent Ion', 'Product Ion', 'Class']]\n",
    "#     # Add underscore to middle of columns names\n",
    "#     mrm_list_offical.columns = mrm_list_offical.columns.str.replace(' ', '_')\n",
    "#     # Round Parent Ion and Product Ion to 1 decimal place\n",
    "#     mrm_list_offical['Parent_Ion'] = np.floor(mrm_list_offical['Parent_Ion'].round(0))\n",
    "#     mrm_list_offical['Product_Ion'] = np.floor(mrm_list_offical['Product_Ion'].round(0))\n",
    "#     # Create transition column by combining Parent Ion and Product Ion with arrow between numbers\n",
    "#     mrm_list_offical['Transition'] = mrm_list_offical['Parent_Ion'].astype(str) + ' -> ' + mrm_list_offical['Product_Ion'].astype(str)\n",
    "#     # Change column compound name to lipid\n",
    "#     mrm_list_offical = mrm_list_offical.rename(columns={'Compound_Name': 'Lipid'})\n",
    "#     # Make a column called Class match lipid column to lipid types\n",
    "#     return mrm_list_offical\n",
    "\n",
    "# mrm_database = read_mrm_list('lipid_database/Lipid_Database.xlsx')\n",
    "mrm_database.tail()"
   ]
  },
  {
   "attachments": {},
   "cell_type": "markdown",
   "metadata": {},
   "source": [
    "Input search list excel sheet as discussed in the introduction. Save the data into a dataframe and then search the databases for matches and output them into a found_list dataframe. "
   ]
  },
  {
   "cell_type": "code",
   "execution_count": 9,
   "metadata": {},
   "outputs": [
    {
     "name": "stdout",
     "output_type": "stream",
     "text": [
      "   Parent_Ion  neutral_loss\n",
      "0       846.8         299.2\n",
      "1       848.8         299.2\n",
      "2       850.9         299.2\n",
      "3       870.8         299.2\n",
      "4       872.8         299.2\n",
      "5       874.8         299.2\n",
      "6       876.8         299.2\n",
      "7       878.9         299.2\n",
      "8       896.9         299.2\n",
      "9       898.9         299.2\n",
      "   Parent_Ion  neutral_loss  Product_Ion\n",
      "0       847.0         299.2        548.0\n",
      "1       849.0         299.2        550.0\n",
      "2       851.0         299.2        552.0\n",
      "3       871.0         299.2        572.0\n",
      "4       873.0         299.2        574.0\n"
     ]
    },
    {
     "name": "stderr",
     "output_type": "stream",
     "text": [
      "/tmp/ipykernel_848/897860761.py:15: FutureWarning: The frame.append method is deprecated and will be removed from pandas in a future version. Use pandas.concat instead.\n",
      "  found_list = found_list.append(mrm_list_offical.loc[i,:])\n",
      "/tmp/ipykernel_848/897860761.py:15: FutureWarning: The frame.append method is deprecated and will be removed from pandas in a future version. Use pandas.concat instead.\n",
      "  found_list = found_list.append(mrm_list_offical.loc[i,:])\n",
      "/tmp/ipykernel_848/897860761.py:15: FutureWarning: The frame.append method is deprecated and will be removed from pandas in a future version. Use pandas.concat instead.\n",
      "  found_list = found_list.append(mrm_list_offical.loc[i,:])\n",
      "/tmp/ipykernel_848/897860761.py:15: FutureWarning: The frame.append method is deprecated and will be removed from pandas in a future version. Use pandas.concat instead.\n",
      "  found_list = found_list.append(mrm_list_offical.loc[i,:])\n",
      "/tmp/ipykernel_848/897860761.py:15: FutureWarning: The frame.append method is deprecated and will be removed from pandas in a future version. Use pandas.concat instead.\n",
      "  found_list = found_list.append(mrm_list_offical.loc[i,:])\n",
      "/tmp/ipykernel_848/897860761.py:15: FutureWarning: The frame.append method is deprecated and will be removed from pandas in a future version. Use pandas.concat instead.\n",
      "  found_list = found_list.append(mrm_list_offical.loc[i,:])\n"
     ]
    },
    {
     "data": {
      "text/html": [
       "<div>\n",
       "<style scoped>\n",
       "    .dataframe tbody tr th:only-of-type {\n",
       "        vertical-align: middle;\n",
       "    }\n",
       "\n",
       "    .dataframe tbody tr th {\n",
       "        vertical-align: top;\n",
       "    }\n",
       "\n",
       "    .dataframe thead th {\n",
       "        text-align: right;\n",
       "    }\n",
       "</style>\n",
       "<table border=\"1\" class=\"dataframe\">\n",
       "  <thead>\n",
       "    <tr style=\"text-align: right;\">\n",
       "      <th></th>\n",
       "      <th>Lipid</th>\n",
       "      <th>Parent_Ion</th>\n",
       "      <th>Product_Ion</th>\n",
       "      <th>Transition</th>\n",
       "    </tr>\n",
       "  </thead>\n",
       "  <tbody>\n",
       "    <tr>\n",
       "      <th>1360</th>\n",
       "      <td>[TG(53:8),TG(52:1)]_FA18:1</td>\n",
       "      <td>879.0</td>\n",
       "      <td>580.0</td>\n",
       "      <td>879.0 -&gt; 580.0</td>\n",
       "    </tr>\n",
       "    <tr>\n",
       "      <th>1361</th>\n",
       "      <td>[TG(53:9),TG(52:2)]_FA18:1</td>\n",
       "      <td>877.0</td>\n",
       "      <td>578.0</td>\n",
       "      <td>877.0 -&gt; 578.0</td>\n",
       "    </tr>\n",
       "    <tr>\n",
       "      <th>1369</th>\n",
       "      <td>[TG(57:10),TG(56:3)]_FA18:1</td>\n",
       "      <td>931.0</td>\n",
       "      <td>632.0</td>\n",
       "      <td>931.0 -&gt; 632.0</td>\n",
       "    </tr>\n",
       "    <tr>\n",
       "      <th>1444</th>\n",
       "      <td>[TG(55:10),TG(54:3)]_FA18:1</td>\n",
       "      <td>903.0</td>\n",
       "      <td>604.0</td>\n",
       "      <td>903.0 -&gt; 604.0</td>\n",
       "    </tr>\n",
       "    <tr>\n",
       "      <th>1445</th>\n",
       "      <td>[TG(55:11),TG(54:4)]_FA18:1</td>\n",
       "      <td>901.0</td>\n",
       "      <td>602.0</td>\n",
       "      <td>901.0 -&gt; 602.0</td>\n",
       "    </tr>\n",
       "    <tr>\n",
       "      <th>1447</th>\n",
       "      <td>[TG(55:9),TG(54:2)]_FA18:1</td>\n",
       "      <td>905.0</td>\n",
       "      <td>606.0</td>\n",
       "      <td>905.0 -&gt; 606.0</td>\n",
       "    </tr>\n",
       "  </tbody>\n",
       "</table>\n",
       "</div>"
      ],
      "text/plain": [
       "                            Lipid  Parent_Ion  Product_Ion      Transition\n",
       "1360   [TG(53:8),TG(52:1)]_FA18:1       879.0        580.0  879.0 -> 580.0\n",
       "1361   [TG(53:9),TG(52:2)]_FA18:1       877.0        578.0  877.0 -> 578.0\n",
       "1369  [TG(57:10),TG(56:3)]_FA18:1       931.0        632.0  931.0 -> 632.0\n",
       "1444  [TG(55:10),TG(54:3)]_FA18:1       903.0        604.0  903.0 -> 604.0\n",
       "1445  [TG(55:11),TG(54:4)]_FA18:1       901.0        602.0  901.0 -> 602.0\n",
       "1447   [TG(55:9),TG(54:2)]_FA18:1       905.0        606.0  905.0 -> 606.0"
      ]
     },
     "execution_count": 9,
     "metadata": {},
     "output_type": "execute_result"
    }
   ],
   "source": [
    "search_list = pd.read_excel('./data_OzESI/search/Practice_LiverLD_MUFAs_2.xlsx')\n",
    "found_list = pd.DataFrame(columns=['Lipid','Parent_Ion','Product_Ion','Transition'])\n",
    "print(search_list.head(10))\n",
    "search_list['Product_Ion'] = search_list['Parent_Ion'] - search_list['neutral_loss']\n",
    "#Round search list columns to 0 deciaml places\n",
    "search_list['Parent_Ion'] = search_list['Parent_Ion'].round(0)\n",
    "search_list['Product_Ion'] = search_list['Product_Ion'].round(0)\n",
    "\n",
    "print(search_list.head())\n",
    "\n",
    "#Search for matches between mrm_list_offical and search_list for Parent Ion and Product Ion\n",
    "for i in range(len(mrm_list_offical)):\n",
    "    for j in range(len(search_list)):\n",
    "        if mrm_list_offical.loc[i,'Parent_Ion'] == search_list.loc[j,'Parent_Ion'] and mrm_list_offical.loc[i,'Product_Ion'] == search_list.loc[j,'Product_Ion']:\n",
    "            found_list = found_list.append(mrm_list_offical.loc[i,:])\n",
    "\n",
    "\n",
    "\n",
    "# found_list.to_excel('./data_OzESI/data_csv/found_list.xlsx', index=False)      \n",
    "found_list.head(25)"
   ]
  },
  {
   "attachments": {},
   "cell_type": "markdown",
   "metadata": {},
   "source": [
    "Create a dataframe of DB_position and aldehyde ion based off lipid rules. Save in dataframe df_OzESI"
   ]
  },
  {
   "cell_type": "code",
   "execution_count": 10,
   "metadata": {},
   "outputs": [
    {
     "data": {
      "text/html": [
       "<div>\n",
       "<style scoped>\n",
       "    .dataframe tbody tr th:only-of-type {\n",
       "        vertical-align: middle;\n",
       "    }\n",
       "\n",
       "    .dataframe tbody tr th {\n",
       "        vertical-align: top;\n",
       "    }\n",
       "\n",
       "    .dataframe thead th {\n",
       "        text-align: right;\n",
       "    }\n",
       "</style>\n",
       "<table border=\"1\" class=\"dataframe\">\n",
       "  <thead>\n",
       "    <tr style=\"text-align: right;\">\n",
       "      <th></th>\n",
       "      <th>DB_Position</th>\n",
       "      <th>Aldehyde_Ion</th>\n",
       "    </tr>\n",
       "  </thead>\n",
       "  <tbody>\n",
       "    <tr>\n",
       "      <th>3</th>\n",
       "      <td>3</td>\n",
       "      <td>26</td>\n",
       "    </tr>\n",
       "    <tr>\n",
       "      <th>4</th>\n",
       "      <td>4</td>\n",
       "      <td>40</td>\n",
       "    </tr>\n",
       "    <tr>\n",
       "      <th>5</th>\n",
       "      <td>5</td>\n",
       "      <td>54</td>\n",
       "    </tr>\n",
       "    <tr>\n",
       "      <th>6</th>\n",
       "      <td>6</td>\n",
       "      <td>68</td>\n",
       "    </tr>\n",
       "    <tr>\n",
       "      <th>7</th>\n",
       "      <td>7</td>\n",
       "      <td>82</td>\n",
       "    </tr>\n",
       "    <tr>\n",
       "      <th>8</th>\n",
       "      <td>8</td>\n",
       "      <td>96</td>\n",
       "    </tr>\n",
       "    <tr>\n",
       "      <th>9</th>\n",
       "      <td>9</td>\n",
       "      <td>110</td>\n",
       "    </tr>\n",
       "    <tr>\n",
       "      <th>10</th>\n",
       "      <td>10</td>\n",
       "      <td>124</td>\n",
       "    </tr>\n",
       "    <tr>\n",
       "      <th>11</th>\n",
       "      <td>11</td>\n",
       "      <td>138</td>\n",
       "    </tr>\n",
       "    <tr>\n",
       "      <th>12</th>\n",
       "      <td>12</td>\n",
       "      <td>152</td>\n",
       "    </tr>\n",
       "    <tr>\n",
       "      <th>13</th>\n",
       "      <td>13</td>\n",
       "      <td>166</td>\n",
       "    </tr>\n",
       "    <tr>\n",
       "      <th>14</th>\n",
       "      <td>14</td>\n",
       "      <td>180</td>\n",
       "    </tr>\n",
       "    <tr>\n",
       "      <th>15</th>\n",
       "      <td>15</td>\n",
       "      <td>194</td>\n",
       "    </tr>\n",
       "    <tr>\n",
       "      <th>16</th>\n",
       "      <td>16</td>\n",
       "      <td>208</td>\n",
       "    </tr>\n",
       "    <tr>\n",
       "      <th>17</th>\n",
       "      <td>17</td>\n",
       "      <td>222</td>\n",
       "    </tr>\n",
       "    <tr>\n",
       "      <th>18</th>\n",
       "      <td>18</td>\n",
       "      <td>236</td>\n",
       "    </tr>\n",
       "    <tr>\n",
       "      <th>19</th>\n",
       "      <td>19</td>\n",
       "      <td>250</td>\n",
       "    </tr>\n",
       "    <tr>\n",
       "      <th>20</th>\n",
       "      <td>20</td>\n",
       "      <td>264</td>\n",
       "    </tr>\n",
       "  </tbody>\n",
       "</table>\n",
       "</div>"
      ],
      "text/plain": [
       "   DB_Position Aldehyde_Ion\n",
       "3            3           26\n",
       "4            4           40\n",
       "5            5           54\n",
       "6            6           68\n",
       "7            7           82\n",
       "8            8           96\n",
       "9            9          110\n",
       "10          10          124\n",
       "11          11          138\n",
       "12          12          152\n",
       "13          13          166\n",
       "14          14          180\n",
       "15          15          194\n",
       "16          16          208\n",
       "17          17          222\n",
       "18          18          236\n",
       "19          19          250\n",
       "20          20          264"
      ]
     },
     "execution_count": 10,
     "metadata": {},
     "output_type": "execute_result"
    }
   ],
   "source": [
    "df_OzESI = pd.DataFrame(columns=['DB_Position','Aldehyde_Ion'])\n",
    "\n",
    "for i in range(3,21):\n",
    "    df_OzESI.loc[i,'DB_Position'] = i\n",
    "    df_OzESI.loc[i,'Aldehyde_Ion'] = 26 + (14 * (i-3))\n",
    "\n",
    "df_OzESI.head(25)\n"
   ]
  },
  {
   "attachments": {},
   "cell_type": "markdown",
   "metadata": {},
   "source": [
    "Input the requested OzESI n# in the OzESI_list. Based off the previously found data in the found_list, the script will provide the correct m/z value with each n# for each lipid in the found list dataframe"
   ]
  },
  {
   "cell_type": "code",
   "execution_count": 11,
   "metadata": {},
   "outputs": [
    {
     "name": "stdout",
     "output_type": "stream",
     "text": [
      "                            Lipid  Parent_Ion  Product_Ion      Transition  \\\n",
      "1360   [TG(53:8),TG(52:1)]_FA18:1       879.0        580.0  879.0 -> 580.0   \n",
      "1361   [TG(53:9),TG(52:2)]_FA18:1       877.0        578.0  877.0 -> 578.0   \n",
      "1369  [TG(57:10),TG(56:3)]_FA18:1       931.0        632.0  931.0 -> 632.0   \n",
      "1444  [TG(55:10),TG(54:3)]_FA18:1       903.0        604.0  903.0 -> 604.0   \n",
      "1445  [TG(55:11),TG(54:4)]_FA18:1       901.0        602.0  901.0 -> 602.0   \n",
      "1447   [TG(55:9),TG(54:2)]_FA18:1       905.0        606.0  905.0 -> 606.0   \n",
      "\n",
      "     n-7 n-9 n-11  \n",
      "1360               \n",
      "1361               \n",
      "1369               \n",
      "1444               \n",
      "1445               \n",
      "1447               \n"
     ]
    },
    {
     "data": {
      "text/html": [
       "<div>\n",
       "<style scoped>\n",
       "    .dataframe tbody tr th:only-of-type {\n",
       "        vertical-align: middle;\n",
       "    }\n",
       "\n",
       "    .dataframe tbody tr th {\n",
       "        vertical-align: top;\n",
       "    }\n",
       "\n",
       "    .dataframe thead th {\n",
       "        text-align: right;\n",
       "    }\n",
       "</style>\n",
       "<table border=\"1\" class=\"dataframe\">\n",
       "  <thead>\n",
       "    <tr style=\"text-align: right;\">\n",
       "      <th></th>\n",
       "      <th>Lipid</th>\n",
       "      <th>Parent_Ion</th>\n",
       "      <th>Product_Ion</th>\n",
       "      <th>Transition</th>\n",
       "      <th>n-7</th>\n",
       "      <th>n-9</th>\n",
       "      <th>n-11</th>\n",
       "    </tr>\n",
       "  </thead>\n",
       "  <tbody>\n",
       "    <tr>\n",
       "      <th>1360</th>\n",
       "      <td>[TG(53:8),TG(52:1)]_FA18:1</td>\n",
       "      <td>879.0</td>\n",
       "      <td>580.0</td>\n",
       "      <td>879.0 -&gt; 580.0</td>\n",
       "      <td>798.0</td>\n",
       "      <td>770.0</td>\n",
       "      <td>742.0</td>\n",
       "    </tr>\n",
       "    <tr>\n",
       "      <th>1361</th>\n",
       "      <td>[TG(53:9),TG(52:2)]_FA18:1</td>\n",
       "      <td>877.0</td>\n",
       "      <td>578.0</td>\n",
       "      <td>877.0 -&gt; 578.0</td>\n",
       "      <td>796.0</td>\n",
       "      <td>768.0</td>\n",
       "      <td>740.0</td>\n",
       "    </tr>\n",
       "    <tr>\n",
       "      <th>1369</th>\n",
       "      <td>[TG(57:10),TG(56:3)]_FA18:1</td>\n",
       "      <td>931.0</td>\n",
       "      <td>632.0</td>\n",
       "      <td>931.0 -&gt; 632.0</td>\n",
       "      <td>850.0</td>\n",
       "      <td>822.0</td>\n",
       "      <td>794.0</td>\n",
       "    </tr>\n",
       "    <tr>\n",
       "      <th>1444</th>\n",
       "      <td>[TG(55:10),TG(54:3)]_FA18:1</td>\n",
       "      <td>903.0</td>\n",
       "      <td>604.0</td>\n",
       "      <td>903.0 -&gt; 604.0</td>\n",
       "      <td>822.0</td>\n",
       "      <td>794.0</td>\n",
       "      <td>766.0</td>\n",
       "    </tr>\n",
       "    <tr>\n",
       "      <th>1445</th>\n",
       "      <td>[TG(55:11),TG(54:4)]_FA18:1</td>\n",
       "      <td>901.0</td>\n",
       "      <td>602.0</td>\n",
       "      <td>901.0 -&gt; 602.0</td>\n",
       "      <td>820.0</td>\n",
       "      <td>792.0</td>\n",
       "      <td>764.0</td>\n",
       "    </tr>\n",
       "    <tr>\n",
       "      <th>1447</th>\n",
       "      <td>[TG(55:9),TG(54:2)]_FA18:1</td>\n",
       "      <td>905.0</td>\n",
       "      <td>606.0</td>\n",
       "      <td>905.0 -&gt; 606.0</td>\n",
       "      <td>824.0</td>\n",
       "      <td>796.0</td>\n",
       "      <td>768.0</td>\n",
       "    </tr>\n",
       "  </tbody>\n",
       "</table>\n",
       "</div>"
      ],
      "text/plain": [
       "                            Lipid  Parent_Ion  Product_Ion      Transition  \\\n",
       "1360   [TG(53:8),TG(52:1)]_FA18:1       879.0        580.0  879.0 -> 580.0   \n",
       "1361   [TG(53:9),TG(52:2)]_FA18:1       877.0        578.0  877.0 -> 578.0   \n",
       "1369  [TG(57:10),TG(56:3)]_FA18:1       931.0        632.0  931.0 -> 632.0   \n",
       "1444  [TG(55:10),TG(54:3)]_FA18:1       903.0        604.0  903.0 -> 604.0   \n",
       "1445  [TG(55:11),TG(54:4)]_FA18:1       901.0        602.0  901.0 -> 602.0   \n",
       "1447   [TG(55:9),TG(54:2)]_FA18:1       905.0        606.0  905.0 -> 606.0   \n",
       "\n",
       "        n-7    n-9   n-11  \n",
       "1360  798.0  770.0  742.0  \n",
       "1361  796.0  768.0  740.0  \n",
       "1369  850.0  822.0  794.0  \n",
       "1444  822.0  794.0  766.0  \n",
       "1445  820.0  792.0  764.0  \n",
       "1447  824.0  796.0  768.0  "
      ]
     },
     "execution_count": 11,
     "metadata": {},
     "output_type": "execute_result"
    }
   ],
   "source": [
    "OzESI_list = [7,9,11]\n",
    "#create columns in found list called n-# based on the numbers in OzESI_list\n",
    "for i in OzESI_list:\n",
    "    found_list['n-' + str(i)] = ''\n",
    "print(found_list.head(25))\n",
    "\n",
    "# Parent_Ion - Aldehyde_Ion *\n",
    "\n",
    "# Subtract the aldehyde ion from the parent ion with the corresponding DB position and add the result to the found_list dataframe\n",
    "for i in range(3,len(df_OzESI)):\n",
    "    for j in range(len(found_list)):\n",
    "        #if df_OzESI.loc[i,'DB_Position']:\n",
    "        for k in range(4,7):\n",
    "            if df_OzESI.loc[i,'DB_Position'] == OzESI_list[k-4]:\n",
    "                found_list.iloc[j,k] = found_list.iloc[j,1] - df_OzESI.loc[i,'Aldehyde_Ion'] + 1\n",
    "\n",
    "        \n",
    "found_list.head(25)"
   ]
  },
  {
   "cell_type": "code",
   "execution_count": 18,
   "metadata": {},
   "outputs": [
    {
     "name": "stdout",
     "output_type": "stream",
     "text": [
      "float64\n",
      "object\n",
      "float64\n",
      "float64\n",
      "float64\n"
     ]
    },
    {
     "name": "stderr",
     "output_type": "stream",
     "text": [
      "/tmp/ipykernel_848/799680419.py:7: FutureWarning: In a future version, `df.iloc[:, i] = newvals` will attempt to set the values inplace instead of always setting a new array. To retain the old behavior, use either `df[df.columns[i]] = newvals` or, if columns are non-unique, `df.isetitem(i, newvals)`\n",
      "  found_list.iloc[:,i] = found_list.iloc[:,i].astype('float64')\n"
     ]
    }
   ],
   "source": [
    "#print datatype of Parent_Ion column and n-7 column\n",
    "print(found_list['Parent_Ion'].dtypes)\n",
    "print(found_list['n-7'].dtypes)\n",
    "\n",
    "#change datatype of all n-# columns to float64\n",
    "for i in range(4,7):\n",
    "    found_list.iloc[:,i] = found_list.iloc[:,i].astype('float64')\n",
    "\n",
    "print(found_list['Parent_Ion'].dtypes)\n",
    "print(found_list['n-7'].dtypes)\n",
    "print(found_list['Product_Ion'].dtypes)\n",
    "\n"
   ]
  },
  {
   "cell_type": "code",
   "execution_count": 19,
   "metadata": {},
   "outputs": [
    {
     "name": "stdout",
     "output_type": "stream",
     "text": [
      "float64\n",
      "float64\n"
     ]
    }
   ],
   "source": [
    "print(found_list['n-7'].dtypes)\n",
    "print(found_list['Product_Ion'].dtypes)"
   ]
  },
  {
   "attachments": {},
   "cell_type": "markdown",
   "metadata": {},
   "source": [
    "Save the dataframe as an excel sheet that can be downloaded and given back to the mass spec chemist"
   ]
  },
  {
   "cell_type": "code",
   "execution_count": 8,
   "metadata": {},
   "outputs": [],
   "source": [
    "from datetime import date\n",
    "i = 0\n",
    "while i < 100:\n",
    "    if not os.path.exists('./data_OzESI/data_excel/OzESI_Selections_{}_.xlsx'.format(date.today())):\n",
    "        found_list.to_excel('./data_OzESI/data_excel/OzESI_Selections_{}_.xlsx'.format(date.today()), index=False)\n",
    "        break\n",
    "    elif not os.path.exists('./data_OzESI/data_excel/OzESI_Selections_{}_'.format(date.today()) + str(i) + '.xlsx'):\n",
    "        found_list.to_excel('./data_OzESI/data_excel/OzESI_Selections_{}_'.format(date.today()) + str(i) + '.xlsx', index=False)\n",
    "        break\n",
    "    else:\n",
    "        i += 1\n"
   ]
  },
  {
   "cell_type": "code",
   "execution_count": 65,
   "metadata": {},
   "outputs": [
    {
     "data": {
      "text/html": [
       "<div>\n",
       "<style scoped>\n",
       "    .dataframe tbody tr th:only-of-type {\n",
       "        vertical-align: middle;\n",
       "    }\n",
       "\n",
       "    .dataframe tbody tr th {\n",
       "        vertical-align: top;\n",
       "    }\n",
       "\n",
       "    .dataframe thead th {\n",
       "        text-align: right;\n",
       "    }\n",
       "</style>\n",
       "<table border=\"1\" class=\"dataframe\">\n",
       "  <thead>\n",
       "    <tr style=\"text-align: right;\">\n",
       "      <th></th>\n",
       "      <th>Lipid</th>\n",
       "      <th>Parent_Ion</th>\n",
       "      <th>Product_Ion</th>\n",
       "      <th>Class</th>\n",
       "      <th>Transition</th>\n",
       "    </tr>\n",
       "  </thead>\n",
       "  <tbody>\n",
       "  </tbody>\n",
       "</table>\n",
       "</div>"
      ],
      "text/plain": [
       "Empty DataFrame\n",
       "Columns: [Lipid, Parent_Ion, Product_Ion, Class, Transition]\n",
       "Index: []"
      ]
     },
     "execution_count": 65,
     "metadata": {},
     "output_type": "execute_result"
    }
   ],
   "source": [
    "matching_list = pd.DataFrame(columns=['Lipid','Parent_Ion','Product_Ion','Class','Transition'])\n",
    "\n",
    "#if n-7 and product ion are the same for different lipids, add them to the matching list\n",
    "for i in range(len(found_list)):\n",
    "    for j in range(len(found_list)):\n",
    "        if found_list.iloc[i,5] == found_list.iloc[j,2] and i != j:\n",
    "            matching_list = matching_list.append(found_list.iloc[i,:])\n",
    "\n",
    "matching_list.head(25)"
   ]
  },
  {
   "cell_type": "code",
   "execution_count": 20,
   "metadata": {},
   "outputs": [
    {
     "name": "stdout",
     "output_type": "stream",
     "text": [
      "                            Lipid  Parent_Ion  Product_Ion      Transition  \\\n",
      "1360   [TG(53:8),TG(52:1)]_FA18:1       879.0        580.0  879.0 -> 580.0   \n",
      "1361   [TG(53:9),TG(52:2)]_FA18:1       877.0        578.0  877.0 -> 578.0   \n",
      "1369  [TG(57:10),TG(56:3)]_FA18:1       931.0        632.0  931.0 -> 632.0   \n",
      "1444  [TG(55:10),TG(54:3)]_FA18:1       903.0        604.0  903.0 -> 604.0   \n",
      "1445  [TG(55:11),TG(54:4)]_FA18:1       901.0        602.0  901.0 -> 602.0   \n",
      "1447   [TG(55:9),TG(54:2)]_FA18:1       905.0        606.0  905.0 -> 606.0   \n",
      "\n",
      "        n-7    n-9   n-11  \n",
      "1360  798.0  770.0  742.0  \n",
      "1361  796.0  768.0  740.0  \n",
      "1369  850.0  822.0  794.0  \n",
      "1444  822.0  794.0  766.0  \n",
      "1445  820.0  792.0  764.0  \n",
      "1447  824.0  796.0  768.0  \n",
      "{}\n"
     ]
    }
   ],
   "source": [
    "# Group the DataFrame by 'Product_Ion' and 'n-7'\n",
    "grouped = found_list.groupby(['Product_Ion', 'n-7'])\n",
    "print(grouped.tail())\n",
    "\n",
    "# Create an empty dictionary to store the matching lipids\n",
    "matching_lipids = {}\n",
    "\n",
    "# Iterate over the groups\n",
    "for group_name, group_df in grouped:\n",
    "    # Get the list of lipids in the group\n",
    "    lipids = list(group_df['Lipid'])\n",
    "    \n",
    "    # Check if there are multiple lipids in the group\n",
    "    if len(lipids) > 1:\n",
    "        # Add the lipids to the matching_lipids dictionary\n",
    "        matching_lipids[group_name] = lipids\n",
    "\n",
    "# Print the matching lipids\n",
    "print(matching_lipids)\n"
   ]
  },
  {
   "cell_type": "code",
   "execution_count": 14,
   "metadata": {},
   "outputs": [
    {
     "name": "stdout",
     "output_type": "stream",
     "text": [
      "{}\n"
     ]
    }
   ],
   "source": [
    "# Group the DataFrame by 'Product_Ion' and 'n-7'\n",
    "grouped = found_list.groupby(['Product_Ion', 'n-11'])\n",
    "# print(grouped.tail())\n",
    "# Create an empty dictionary to store the matching lipids\n",
    "matching_lipids = {}\n",
    "\n",
    "# Iterate over the groups\n",
    "for group_name, group_df in grouped:\n",
    "    # Get the list of lipids in the group\n",
    "    lipids = list(group_df['Lipid'])\n",
    "    \n",
    "    # Check if there are multiple lipids in the group\n",
    "    if len(lipids) > 1:\n",
    "        # Add the lipids to the matching_lipids dictionary\n",
    "        matching_lipids[group_name] = lipids\n",
    "\n",
    "# Print the matching lipids\n",
    "print(matching_lipids)"
   ]
  },
  {
   "cell_type": "code",
   "execution_count": 73,
   "metadata": {},
   "outputs": [
    {
     "name": "stdout",
     "output_type": "stream",
     "text": [
      "Empty DataFrame\n",
      "Columns: [Product_Ion, n-7, Matching_Lipids]\n",
      "Index: []\n"
     ]
    }
   ],
   "source": [
    "# Group the DataFrame by 'Product_Ion' and 'n-7'\n",
    "grouped = found_list.groupby(['Product_Ion', 'n-7'])\n",
    "\n",
    "# Create an empty DataFrame to store the matching lipids\n",
    "matching_lipids_df = pd.DataFrame(columns=['Product_Ion', 'n-7', 'Matching_Lipids'])\n",
    "\n",
    "# Iterate over the groups\n",
    "for group_name, group_df in grouped:\n",
    "    # Get the list of lipids in the group\n",
    "    lipids = list(group_df['Lipid'])\n",
    "    \n",
    "    # Check if there are multiple lipids in the group\n",
    "    if len(lipids) > 1:\n",
    "        # Add the group to the matching_lipids_df DataFrame\n",
    "        matching_lipids_df = matching_lipids_df.append({\n",
    "            'Product_Ion': group_name[0],\n",
    "            'n-7': group_name[1],\n",
    "            'Matching_Lipids': lipids\n",
    "        }, ignore_index=True)\n",
    "\n",
    "# Print the matching lipids DataFrame\n",
    "print(matching_lipids_df.head(25))\n",
    "matching_lipids_df.to_excel('./data_OzESI/data_excel/FA 18:1.xlsx', index=False)\n"
   ]
  },
  {
   "cell_type": "code",
   "execution_count": 24,
   "metadata": {},
   "outputs": [
    {
     "name": "stderr",
     "output_type": "stream",
     "text": [
      "/tmp/ipykernel_31304/4196542277.py:15: FutureWarning: The frame.append method is deprecated and will be removed from pandas in a future version. Use pandas.concat instead.\n",
      "  matching_lipids_df = matching_lipids_df.append({\n",
      "/tmp/ipykernel_31304/4196542277.py:15: FutureWarning: The frame.append method is deprecated and will be removed from pandas in a future version. Use pandas.concat instead.\n",
      "  matching_lipids_df = matching_lipids_df.append({\n",
      "/tmp/ipykernel_31304/4196542277.py:15: FutureWarning: The frame.append method is deprecated and will be removed from pandas in a future version. Use pandas.concat instead.\n",
      "  matching_lipids_df = matching_lipids_df.append({\n",
      "/tmp/ipykernel_31304/4196542277.py:15: FutureWarning: The frame.append method is deprecated and will be removed from pandas in a future version. Use pandas.concat instead.\n",
      "  matching_lipids_df = matching_lipids_df.append({\n",
      "/tmp/ipykernel_31304/4196542277.py:15: FutureWarning: The frame.append method is deprecated and will be removed from pandas in a future version. Use pandas.concat instead.\n",
      "  matching_lipids_df = matching_lipids_df.append({\n",
      "/tmp/ipykernel_31304/4196542277.py:15: FutureWarning: The frame.append method is deprecated and will be removed from pandas in a future version. Use pandas.concat instead.\n",
      "  matching_lipids_df = matching_lipids_df.append({\n"
     ]
    }
   ],
   "source": [
    "# Group the DataFrame by 'Product_Ion' and 'n-7'\n",
    "grouped = found_list.groupby(['Product_Ion', 'n-11'])\n",
    "\n",
    "# Create an empty DataFrame to store the matching lipids\n",
    "matching_lipids_df = pd.DataFrame(columns=['Product_Ion', 'n-11', 'Matching_Lipids'])\n",
    "\n",
    "# Iterate over the groups\n",
    "for group_name, group_df in grouped:\n",
    "    # Get the list of lipids in the group\n",
    "    lipids = list(group_df['Lipid'])\n",
    "    \n",
    "    # Check if there are multiple lipids in the group\n",
    "    if len(lipids) > 1:\n",
    "        # Add the group to the matching_lipids_df DataFrame\n",
    "        matching_lipids_df = matching_lipids_df.append({\n",
    "            'Product_Ion': group_name[0],\n",
    "            'n-11': group_name[1],\n",
    "            'Matching_Lipids': lipids\n",
    "        }, ignore_index=True)\n",
    "\n",
    "# Print the matching lipids DataFrame\n",
    "matching_lipids_df.head(25)\n",
    "matching_lipids_df.to_excel('./data_OzESI/data_excel/FA 20:1.xlsx', index=False)\n"
   ]
  }
 ],
 "metadata": {
  "kernelspec": {
   "display_name": "pymzml",
   "language": "python",
   "name": "python3"
  },
  "language_info": {
   "codemirror_mode": {
    "name": "ipython",
    "version": 3
   },
   "file_extension": ".py",
   "mimetype": "text/x-python",
   "name": "python",
   "nbconvert_exporter": "python",
   "pygments_lexer": "ipython3",
   "version": "3.9.15"
  },
  "orig_nbformat": 4,
  "vscode": {
   "interpreter": {
    "hash": "7f59e923a9cab402a21ecdd8c8501a7d121113b28792a99acb445fcdcb4f42c3"
   }
  }
 },
 "nbformat": 4,
 "nbformat_minor": 2
}
