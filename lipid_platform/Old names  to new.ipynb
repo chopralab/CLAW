{
 "cells": [
  {
   "cell_type": "code",
   "execution_count": 65,
   "id": "154e626a",
   "metadata": {},
   "outputs": [],
   "source": [
    "import pandas as pd\n",
    "import matplotlib.pyplot as plt\n",
    "import os\n",
    "import pymzml\n",
    "import csv\n",
    "import os\n",
    "import pandas as pd\n",
    "import numpy as np\n",
    "import math\n",
    "from matplotlib import pyplot as plt\n",
    "import re\n",
    "import plotly.express as px\n",
    "from collections import defaultdict\n",
    "\n",
    "import plotly.io as pio\n",
    "import json\n",
    "import plotly.graph_objs as go\n",
    "import matplotlib.colors as mcolors\n",
    "\n",
    "import json\n",
    "import ipywidgets as widgets\n",
    "from IPython.display import display\n",
    "\n",
    "import warnings\n",
    "from IPython.display import display, Image, clear_output\n",
    "import time\n",
    "from NO_AVERAGE_SCRIPTS import full_parse\n",
    "from NO_AVERAGE_SCRIPTS import filter_dataframe\n",
    "from NO_AVERAGE_SCRIPTS import hex_to_rgba_hex\n",
    "from NO_AVERAGE_SCRIPTS import json_to_string\n",
    "from NO_AVERAGE_SCRIPTS import prep_edge_R\n",
    "\n",
    "from NO_AVERAGE_SCRIPTS import make_pie_chart_no_replicates\n",
    "\n",
    "from NO_AVERAGE_SCRIPTS import average_pie_chart_no_repeats\n",
    "\n",
    "from NO_AVERAGE_SCRIPTS import make_bar_plot_comparisons\n",
    "\n",
    "\n",
    "\n"
   ]
  },
  {
   "cell_type": "code",
   "execution_count": 89,
   "id": "40a486b1",
   "metadata": {},
   "outputs": [],
   "source": [
    "df_old = pd.read_csv(\"Old_Only_14_tolerance.csv\")\n",
    "df_new = pd.read_csv(\"New_Only_14_tolerance.csv\")\n",
    "df_common = pd.read_csv(\"Common_14_tolerance.csv\")"
   ]
  },
  {
   "cell_type": "code",
   "execution_count": 90,
   "id": "8fcbb7fd",
   "metadata": {},
   "outputs": [
    {
     "data": {
      "text/plain": [
       "['Unnamed: 0', 'Class', 'Transition', 'Lipid']"
      ]
     },
     "execution_count": 90,
     "metadata": {},
     "output_type": "execute_result"
    }
   ],
   "source": [
    "list(df_new)"
   ]
  },
  {
   "cell_type": "code",
   "execution_count": 91,
   "id": "d8db111d",
   "metadata": {},
   "outputs": [
    {
     "name": "stdout",
     "output_type": "stream",
     "text": [
      "LPE(12:0) | PE(12:0)\n",
      "PC(O-44:5)\n",
      "LPG(17:1) | PG(P-18:0)\n"
     ]
    }
   ],
   "source": [
    "def change_lipid_names(input_string):\n",
    "    # Split the string into individual lipids\n",
    "    lipid_names = input_string.split('|')\n",
    "\n",
    "    # Function to change individual lipid name\n",
    "    def change_lipid_name(lipid_name):\n",
    "        lipid_name = lipid_name.strip()\n",
    "\n",
    "        # Remove \"Lyso_\" and add \"L\" before class name\n",
    "        if lipid_name.startswith(\"Lyso_\"):\n",
    "            lipid_name = \"L\" + lipid_name[5:]\n",
    "#         print(lipid_name)\n",
    "        # Find and replace 'o' or 'p' after any character with 'O-' or 'P-'\n",
    "        if \"o(\" in lipid_name:\n",
    "            lipid_name = lipid_name.replace(\"o(\", \"(O-\")\n",
    "        if \"p(\" in lipid_name:\n",
    "            lipid_name = lipid_name.replace(\"p(\", \"(P-\")        \n",
    "        if \"o (\" in lipid_name:\n",
    "            lipid_name = lipid_name.replace(\"o (\", \"(O-\")\n",
    "        if \"p (\" in lipid_name:\n",
    "            lipid_name = lipid_name.replace(\"p (\", \"(P-\")        \n",
    "\n",
    "        # Remove any white spaces before or after '('\n",
    "        lipid_name = lipid_name.replace(\" (\", \"(\").replace(\"( \", \"(\")\n",
    "\n",
    "        return lipid_name\n",
    "\n",
    "    # Change each lipid name\n",
    "    lipid_names = [change_lipid_name(lipid_name) for lipid_name in lipid_names]\n",
    "\n",
    "    # Join lipid names back into one string\n",
    "    output_string = ' | '.join(lipid_names)\n",
    "\n",
    "    return output_string\n",
    "\n",
    "# Test the function\n",
    "print(change_lipid_names(\"Lyso_PE(12:0) | PE (12:0)\"))  # Should print \"LPE(12:0)|PE(12:0)\"\n",
    "print(change_lipid_names(\"PCo(44:5)\"))  # Should print \"PC(O-44:5)\"\n",
    "print(change_lipid_names(\"Lyso_PG(17:1) | PGp (18:0)\"))  # Should print \"LPG(17:1)|PG(P-18:0)\"\n"
   ]
  },
  {
   "cell_type": "code",
   "execution_count": 92,
   "id": "79c1af3b",
   "metadata": {},
   "outputs": [
    {
     "name": "stdout",
     "output_type": "stream",
     "text": [
      "[TG(48:3)]_FA18:0\n",
      "[TG(48:3)]_FA18:1\n"
     ]
    }
   ],
   "source": [
    "def change_TG_format(lipid_name):\n",
    "    # Split the string by \"_\"\n",
    "    parts = lipid_name.split('_')\n",
    "    \n",
    "    # Remove any white spaces from the parts\n",
    "    parts = [part.replace(' ', '') for part in parts]\n",
    "\n",
    "    # Change \"TAG\" to \"TG\" and add brackets\n",
    "    parts[0] = parts[0].replace(\"TAG\", \"[TG\")\n",
    "\n",
    "    # Add closing bracket to the first part\n",
    "    parts[0] = parts[0] + \"]\"\n",
    "\n",
    "    # Join the parts back together with an underscore\n",
    "    lipid_name = '_'.join(parts)\n",
    "\n",
    "    return lipid_name\n",
    "\n",
    "# Test the function\n",
    "print(change_TG_format(\"TAG(48:3)_FA 18:0\"))  # Should print \"[TG(48:3)]_FA18:0\"\n",
    "print(change_TG_format(\"TAG(48:3)_FA 18:1\"))  # Should print \"[TG(48:3)]_FA18:1\""
   ]
  },
  {
   "cell_type": "code",
   "execution_count": 93,
   "id": "5529043c",
   "metadata": {},
   "outputs": [],
   "source": [
    "classes = ['PG', 'PI', 'PS', 'PC', 'PI',\"PE\"]\n",
    "\n",
    "df_old.loc[df_old['Class'].isin(classes), 'Lipid'] = df_old.loc[df_old['Class'].isin(classes), 'Lipid'].apply(change_lipid_names)\n",
    "\n",
    "\n",
    "# classes2 = [\"TAG\"]\n",
    "# df_old.loc[df['Class'].isin(classes2), 'Lipid'] = df_old.loc[df['Class'].isin(classes2), 'Lipid'].apply(change_TG_format)\n",
    "# print(df_old)"
   ]
  },
  {
   "cell_type": "code",
   "execution_count": 94,
   "id": "d8512930",
   "metadata": {},
   "outputs": [
    {
     "name": "stdout",
     "output_type": "stream",
     "text": [
      "     Unnamed: 0 Class      Transition  \\\n",
      "0             3   CAR   374.2 -> 85.1   \n",
      "1             4   CAR   384.3 -> 85.1   \n",
      "2             5   CAR   388.3 -> 85.1   \n",
      "3             9   CAR   402.3 -> 85.1   \n",
      "4            10   CAR   412.3 -> 85.1   \n",
      "..          ...   ...             ...   \n",
      "798        1492   TAG  990.9 -> 693.9   \n",
      "799        1493   TAG  992.9 -> 663.9   \n",
      "800        1494   TAG  992.9 -> 671.9   \n",
      "801        1495   TAG  992.9 -> 693.9   \n",
      "802        1496   TAG  992.9 -> 695.9   \n",
      "\n",
      "                                                 Lipid  \n",
      "0                    O-(11-carboxyundecanoyl)carnitine  \n",
      "1           (5Z,8Z)-3-hydroxytetradecadienoylcarnitine  \n",
      "2    2-Hydroxymyristoylcarnitine, 3-hydroxytetradec...  \n",
      "3                   O-(13-carboxytridecanoyl)carnitine  \n",
      "4           (9Z,12Z)-3-hydroxyhexadecadienoylcarnitine  \n",
      "..                                                 ...  \n",
      "798                                  [TG(60:1)]_FA18:2  \n",
      "799                                  [TG(60:0)]_FA20:0  \n",
      "800                                  [TG(60:0)]_FA20:4  \n",
      "801                                  [TG(60:0)]_FA18:1  \n",
      "802                                  [TG(60:0)]_FA18:2  \n",
      "\n",
      "[803 rows x 4 columns]\n"
     ]
    }
   ],
   "source": [
    "classes2 = [\"TAG\"]\n",
    "df_old.loc[df_old['Class'].isin(classes2), 'Lipid'] = df_old.loc[df_old['Class'].isin(classes2), 'Lipid'].apply(change_TG_format)\n",
    "\n",
    "print(df_old)"
   ]
  },
  {
   "cell_type": "code",
   "execution_count": 105,
   "id": "46918c25",
   "metadata": {},
   "outputs": [
    {
     "name": "stdout",
     "output_type": "stream",
     "text": [
      "420    [TG(48:3)]_FA18:0\n",
      "421    [TG(48:3)]_FA18:1\n",
      "422    [TG(48:3)]_FA16:0\n",
      "423    [TG(48:3)]_FA16:1\n",
      "424    [TG(48:2)]_FA18:0\n",
      "             ...        \n",
      "798    [TG(60:1)]_FA18:2\n",
      "799    [TG(60:0)]_FA20:0\n",
      "800    [TG(60:0)]_FA20:4\n",
      "801    [TG(60:0)]_FA18:1\n",
      "802    [TG(60:0)]_FA18:2\n",
      "Name: Lipid, Length: 383, dtype: object\n"
     ]
    }
   ],
   "source": [
    "print(df_old[df_old['Class'] == 'TAG']['Lipid'])"
   ]
  },
  {
   "cell_type": "code",
   "execution_count": 96,
   "id": "c20dfc72",
   "metadata": {},
   "outputs": [
    {
     "data": {
      "text/plain": [
       "['Unnamed: 0', 'Class', 'Transition', 'Lipid']"
      ]
     },
     "execution_count": 96,
     "metadata": {},
     "output_type": "execute_result"
    }
   ],
   "source": [
    "list(df_new)"
   ]
  },
  {
   "cell_type": "code",
   "execution_count": 102,
   "id": "3157092e",
   "metadata": {},
   "outputs": [
    {
     "name": "stdout",
     "output_type": "stream",
     "text": [
      "     Unnamed: 0 Class      Transition                  Lipid  \\\n",
      "73          227    PC  494.3 -> 184.1              LPC(16:1)   \n",
      "74          238    PC  534.3 -> 184.1              LPC(19:2)   \n",
      "75          305    PC  774.6 -> 184.1             PC(O-36:1)   \n",
      "76          306    PC  776.5 -> 184.1               PC(36:7)   \n",
      "77          319    PC  790.6 -> 184.1   PC(36:0); PC(P-38:6)   \n",
      "..          ...   ...             ...                    ...   \n",
      "415        1087    PS  848.6 -> 663.6   PS(P-42:6)|PS(40:0)    \n",
      "416        1091    PS  854.6 -> 669.6             PS(O-42:4)   \n",
      "417        1093    PS  856.6 -> 671.6             PS(P-42:2)   \n",
      "418        1094    PS  858.5 -> 673.5               PS(42:9)   \n",
      "419        1096    PS  860.5 -> 675.5               PS(42:8)   \n",
      "\n",
      "                   LipidSet  IsInNew  \n",
      "73              {LPC(16:1)}    False  \n",
      "74              {LPC(19:2)}    False  \n",
      "75             {PC(O-36:1)}    False  \n",
      "76               {PC(36:7)}    False  \n",
      "77   {PC(36:0); PC(P-38:6)}    False  \n",
      "..                      ...      ...  \n",
      "415  {PS(P-42:6), PS(40:0)}    False  \n",
      "416            {PS(O-42:4)}    False  \n",
      "417            {PS(P-42:2)}    False  \n",
      "418              {PS(42:9)}    False  \n",
      "419              {PS(42:8)}    False  \n",
      "\n",
      "[179 rows x 6 columns]\n"
     ]
    }
   ],
   "source": [
    "def get_lipid_set(lipid_string):\n",
    "    # Split the string into individual lipids and remove leading/trailing whitespaces\n",
    "    lipid_list = [lipid.strip() for lipid in lipid_string.split('|')]\n",
    "    # Return a set of lipids\n",
    "    return set(lipid_list)\n",
    "\n",
    "# Select specific classes\n",
    "classes = ['PG', 'PI', 'PS', 'PC', 'PI',\"PE\"]\n",
    "df_old_filtered = df_old[df_old['Class'].isin(classes)]\n",
    "df_new_filtered = df_new[df_new['Class'].isin(classes)]\n",
    "\n",
    "# Normalize Lipid column in both filtered dataframes\n",
    "df_old_filtered['LipidSet'] = df_old_filtered['Lipid'].apply(get_lipid_set)\n",
    "df_new_filtered['LipidSet'] = df_new_filtered['Lipid'].apply(get_lipid_set)\n",
    "\n",
    "# Concatenate all 'LipidSet's in df_new_filtered into one set\n",
    "df_new_all_lipids = set.union(*df_new_filtered['LipidSet'].tolist())\n",
    "\n",
    "# Check if any lipid from each 'LipidSet' in df_old_filtered is in df_new_all_lipids\n",
    "df_old_filtered['IsInNew'] = df_old_filtered['LipidSet'].apply(lambda x: any(lipid in df_new_all_lipids for lipid in x))\n",
    "\n",
    "# Filter rows where 'IsInNew' is False\n",
    "df_missing = df_old_filtered[~df_old_filtered['IsInNew']]\n",
    "\n",
    "print(df_missing)"
   ]
  },
  {
   "cell_type": "code",
   "execution_count": null,
   "id": "2f290d77",
   "metadata": {},
   "outputs": [],
   "source": []
  },
  {
   "cell_type": "code",
   "execution_count": 103,
   "id": "deaa03c0",
   "metadata": {},
   "outputs": [
    {
     "data": {
      "text/plain": [
       "179"
      ]
     },
     "execution_count": 103,
     "metadata": {},
     "output_type": "execute_result"
    }
   ],
   "source": [
    "len(df_missing)"
   ]
  },
  {
   "cell_type": "code",
   "execution_count": 104,
   "id": "57eca8b7",
   "metadata": {},
   "outputs": [],
   "source": [
    "df_missing.to_csv(\"Missing from New thats in old PC_PI_PS_PG_PE.csv\")"
   ]
  },
  {
   "cell_type": "code",
   "execution_count": null,
   "id": "c609b0e9",
   "metadata": {},
   "outputs": [],
   "source": []
  },
  {
   "cell_type": "code",
   "execution_count": 110,
   "id": "f3b8d3dc",
   "metadata": {},
   "outputs": [
    {
     "ename": "IndexError",
     "evalue": "list index out of range",
     "output_type": "error",
     "traceback": [
      "\u001b[0;31m---------------------------------------------------------------------------\u001b[0m",
      "\u001b[0;31mIndexError\u001b[0m                                Traceback (most recent call last)",
      "Cell \u001b[0;32mIn [110], line 19\u001b[0m\n\u001b[1;32m     17\u001b[0m \u001b[38;5;66;03m# Apply get_tag_info function to Lipid column in both dataframes\u001b[39;00m\n\u001b[1;32m     18\u001b[0m df_old_filtered[\u001b[38;5;124m'\u001b[39m\u001b[38;5;124mTagInfo\u001b[39m\u001b[38;5;124m'\u001b[39m] \u001b[38;5;241m=\u001b[39m df_old_filtered[\u001b[38;5;124m'\u001b[39m\u001b[38;5;124mLipid\u001b[39m\u001b[38;5;124m'\u001b[39m]\u001b[38;5;241m.\u001b[39mapply(get_tag_info)\n\u001b[0;32m---> 19\u001b[0m df_new_filtered[\u001b[38;5;124m'\u001b[39m\u001b[38;5;124mTagInfo\u001b[39m\u001b[38;5;124m'\u001b[39m] \u001b[38;5;241m=\u001b[39m \u001b[43mdf_new_filtered\u001b[49m\u001b[43m[\u001b[49m\u001b[38;5;124;43m'\u001b[39;49m\u001b[38;5;124;43mLipid\u001b[39;49m\u001b[38;5;124;43m'\u001b[39;49m\u001b[43m]\u001b[49m\u001b[38;5;241;43m.\u001b[39;49m\u001b[43mapply\u001b[49m\u001b[43m(\u001b[49m\u001b[43mget_tag_info\u001b[49m\u001b[43m)\u001b[49m\n\u001b[1;32m     21\u001b[0m missing_rows \u001b[38;5;241m=\u001b[39m []\n\u001b[1;32m     23\u001b[0m \u001b[38;5;66;03m# Loop through each row in df_old_filtered\u001b[39;00m\n",
      "File \u001b[0;32m~/.conda/envs/cent7/2020.11-py38/lipid_parser2/lib/python3.9/site-packages/pandas/core/series.py:4771\u001b[0m, in \u001b[0;36mSeries.apply\u001b[0;34m(self, func, convert_dtype, args, **kwargs)\u001b[0m\n\u001b[1;32m   4661\u001b[0m \u001b[38;5;28;01mdef\u001b[39;00m \u001b[38;5;21mapply\u001b[39m(\n\u001b[1;32m   4662\u001b[0m     \u001b[38;5;28mself\u001b[39m,\n\u001b[1;32m   4663\u001b[0m     func: AggFuncType,\n\u001b[0;32m   (...)\u001b[0m\n\u001b[1;32m   4666\u001b[0m     \u001b[38;5;241m*\u001b[39m\u001b[38;5;241m*\u001b[39mkwargs,\n\u001b[1;32m   4667\u001b[0m ) \u001b[38;5;241m-\u001b[39m\u001b[38;5;241m>\u001b[39m DataFrame \u001b[38;5;241m|\u001b[39m Series:\n\u001b[1;32m   4668\u001b[0m     \u001b[38;5;124;03m\"\"\"\u001b[39;00m\n\u001b[1;32m   4669\u001b[0m \u001b[38;5;124;03m    Invoke function on values of Series.\u001b[39;00m\n\u001b[1;32m   4670\u001b[0m \n\u001b[0;32m   (...)\u001b[0m\n\u001b[1;32m   4769\u001b[0m \u001b[38;5;124;03m    dtype: float64\u001b[39;00m\n\u001b[1;32m   4770\u001b[0m \u001b[38;5;124;03m    \"\"\"\u001b[39;00m\n\u001b[0;32m-> 4771\u001b[0m     \u001b[38;5;28;01mreturn\u001b[39;00m \u001b[43mSeriesApply\u001b[49m\u001b[43m(\u001b[49m\u001b[38;5;28;43mself\u001b[39;49m\u001b[43m,\u001b[49m\u001b[43m \u001b[49m\u001b[43mfunc\u001b[49m\u001b[43m,\u001b[49m\u001b[43m \u001b[49m\u001b[43mconvert_dtype\u001b[49m\u001b[43m,\u001b[49m\u001b[43m \u001b[49m\u001b[43margs\u001b[49m\u001b[43m,\u001b[49m\u001b[43m \u001b[49m\u001b[43mkwargs\u001b[49m\u001b[43m)\u001b[49m\u001b[38;5;241;43m.\u001b[39;49m\u001b[43mapply\u001b[49m\u001b[43m(\u001b[49m\u001b[43m)\u001b[49m\n",
      "File \u001b[0;32m~/.conda/envs/cent7/2020.11-py38/lipid_parser2/lib/python3.9/site-packages/pandas/core/apply.py:1105\u001b[0m, in \u001b[0;36mSeriesApply.apply\u001b[0;34m(self)\u001b[0m\n\u001b[1;32m   1102\u001b[0m     \u001b[38;5;28;01mreturn\u001b[39;00m \u001b[38;5;28mself\u001b[39m\u001b[38;5;241m.\u001b[39mapply_str()\n\u001b[1;32m   1104\u001b[0m \u001b[38;5;66;03m# self.f is Callable\u001b[39;00m\n\u001b[0;32m-> 1105\u001b[0m \u001b[38;5;28;01mreturn\u001b[39;00m \u001b[38;5;28;43mself\u001b[39;49m\u001b[38;5;241;43m.\u001b[39;49m\u001b[43mapply_standard\u001b[49m\u001b[43m(\u001b[49m\u001b[43m)\u001b[49m\n",
      "File \u001b[0;32m~/.conda/envs/cent7/2020.11-py38/lipid_parser2/lib/python3.9/site-packages/pandas/core/apply.py:1156\u001b[0m, in \u001b[0;36mSeriesApply.apply_standard\u001b[0;34m(self)\u001b[0m\n\u001b[1;32m   1154\u001b[0m     \u001b[38;5;28;01melse\u001b[39;00m:\n\u001b[1;32m   1155\u001b[0m         values \u001b[38;5;241m=\u001b[39m obj\u001b[38;5;241m.\u001b[39mastype(\u001b[38;5;28mobject\u001b[39m)\u001b[38;5;241m.\u001b[39m_values\n\u001b[0;32m-> 1156\u001b[0m         mapped \u001b[38;5;241m=\u001b[39m \u001b[43mlib\u001b[49m\u001b[38;5;241;43m.\u001b[39;49m\u001b[43mmap_infer\u001b[49m\u001b[43m(\u001b[49m\n\u001b[1;32m   1157\u001b[0m \u001b[43m            \u001b[49m\u001b[43mvalues\u001b[49m\u001b[43m,\u001b[49m\n\u001b[1;32m   1158\u001b[0m \u001b[43m            \u001b[49m\u001b[43mf\u001b[49m\u001b[43m,\u001b[49m\n\u001b[1;32m   1159\u001b[0m \u001b[43m            \u001b[49m\u001b[43mconvert\u001b[49m\u001b[38;5;241;43m=\u001b[39;49m\u001b[38;5;28;43mself\u001b[39;49m\u001b[38;5;241;43m.\u001b[39;49m\u001b[43mconvert_dtype\u001b[49m\u001b[43m,\u001b[49m\n\u001b[1;32m   1160\u001b[0m \u001b[43m        \u001b[49m\u001b[43m)\u001b[49m\n\u001b[1;32m   1162\u001b[0m \u001b[38;5;28;01mif\u001b[39;00m \u001b[38;5;28mlen\u001b[39m(mapped) \u001b[38;5;129;01mand\u001b[39;00m \u001b[38;5;28misinstance\u001b[39m(mapped[\u001b[38;5;241m0\u001b[39m], ABCSeries):\n\u001b[1;32m   1163\u001b[0m     \u001b[38;5;66;03m# GH#43986 Need to do list(mapped) in order to get treated as nested\u001b[39;00m\n\u001b[1;32m   1164\u001b[0m     \u001b[38;5;66;03m#  See also GH#25959 regarding EA support\u001b[39;00m\n\u001b[1;32m   1165\u001b[0m     \u001b[38;5;28;01mreturn\u001b[39;00m obj\u001b[38;5;241m.\u001b[39m_constructor_expanddim(\u001b[38;5;28mlist\u001b[39m(mapped), index\u001b[38;5;241m=\u001b[39mobj\u001b[38;5;241m.\u001b[39mindex)\n",
      "File \u001b[0;32m~/.conda/envs/cent7/2020.11-py38/lipid_parser2/lib/python3.9/site-packages/pandas/_libs/lib.pyx:2918\u001b[0m, in \u001b[0;36mpandas._libs.lib.map_infer\u001b[0;34m()\u001b[0m\n",
      "Cell \u001b[0;32mIn [110], line 8\u001b[0m, in \u001b[0;36mget_tag_info\u001b[0;34m(tag_string)\u001b[0m\n\u001b[1;32m      5\u001b[0m tags \u001b[38;5;241m=\u001b[39m tag_parts[\u001b[38;5;241m0\u001b[39m]\n\u001b[1;32m      7\u001b[0m \u001b[38;5;66;03m# Find all TAGs within brackets and split by '|'\u001b[39;00m\n\u001b[0;32m----> 8\u001b[0m tag_set \u001b[38;5;241m=\u001b[39m \u001b[38;5;28mset\u001b[39m(\u001b[43mre\u001b[49m\u001b[38;5;241;43m.\u001b[39;49m\u001b[43mfindall\u001b[49m\u001b[43m(\u001b[49m\u001b[38;5;124;43m'\u001b[39;49m\u001b[38;5;124;43m\\\u001b[39;49m\u001b[38;5;124;43m[(.*?)\u001b[39;49m\u001b[38;5;124;43m\\\u001b[39;49m\u001b[38;5;124;43m]\u001b[39;49m\u001b[38;5;124;43m'\u001b[39;49m\u001b[43m,\u001b[49m\u001b[43m \u001b[49m\u001b[43mtags\u001b[49m\u001b[43m)\u001b[49m\u001b[43m[\u001b[49m\u001b[38;5;241;43m0\u001b[39;49m\u001b[43m]\u001b[49m\u001b[38;5;241m.\u001b[39msplit(\u001b[38;5;124m'\u001b[39m\u001b[38;5;124m|\u001b[39m\u001b[38;5;124m'\u001b[39m))\n\u001b[1;32m     10\u001b[0m \u001b[38;5;28;01mreturn\u001b[39;00m (tag_set, fa)\n",
      "\u001b[0;31mIndexError\u001b[0m: list index out of range"
     ]
    }
   ],
   "source": [
    "def get_tag_info(tag_string):\n",
    "    # Split TAG and FA\n",
    "    tag_parts = tag_string.split('_')\n",
    "    fa = tag_parts[1] if len(tag_parts) > 1 else None\n",
    "    tags = tag_parts[0]\n",
    "    \n",
    "    # Find all TAGs within brackets and split by '|'\n",
    "    tag_set = set(re.findall('\\[(.*?)\\]', tags)[0].split('|'))\n",
    "\n",
    "    return (tag_set, fa)\n",
    "\n",
    "# Select TAG class\n",
    "classes = ['TAG']\n",
    "df_old_filtered = df_old[df_old['Class'].isin(classes)].copy()\n",
    "df_new_filtered = df_new[df_new['Class'].isin(classes)].copy()\n",
    "\n",
    "# Apply get_tag_info function to Lipid column in both dataframes\n",
    "df_old_filtered['TagInfo'] = df_old_filtered['Lipid'].apply(get_tag_info)\n",
    "df_new_filtered['TagInfo'] = df_new_filtered['Lipid'].apply(get_tag_info)\n",
    "\n",
    "missing_rows = []\n",
    "\n",
    "# Loop through each row in df_old_filtered\n",
    "for idx, row in df_old_filtered.iterrows():\n",
    "    tag_set_old, fa_old = row['TagInfo']\n",
    "    \n",
    "    # Check each row in df_new_filtered\n",
    "    for _, row_new in df_new_filtered.iterrows():\n",
    "        tag_set_new, fa_new = row_new['TagInfo']\n",
    "        \n",
    "        # Check if any TAG from df_old is in df_new and if the FA is the same\n",
    "        if any(tag in tag_set_new for tag in tag_set_old) and fa_old == fa_new:\n",
    "            break\n",
    "    else:\n",
    "        missing_rows.append(row)\n",
    "\n",
    "# Create a dataframe for the missing rows\n",
    "df_missing = pd.DataFrame(missing_rows)\n",
    "\n",
    "print(df_missing)\n"
   ]
  },
  {
   "cell_type": "code",
   "execution_count": 107,
   "id": "65991669",
   "metadata": {},
   "outputs": [],
   "source": [
    "df_missing.to_csv(\"Missing from New thats in old TG.csv\")"
   ]
  },
  {
   "cell_type": "code",
   "execution_count": null,
   "id": "5551dd9b",
   "metadata": {},
   "outputs": [],
   "source": []
  }
 ],
 "metadata": {
  "kernelspec": {
   "display_name": "Python 3 (ipykernel)",
   "language": "python",
   "name": "python3"
  },
  "language_info": {
   "codemirror_mode": {
    "name": "ipython",
    "version": 3
   },
   "file_extension": ".py",
   "mimetype": "text/x-python",
   "name": "python",
   "nbconvert_exporter": "python",
   "pygments_lexer": "ipython3",
   "version": "3.9.15"
  }
 },
 "nbformat": 4,
 "nbformat_minor": 5
}
