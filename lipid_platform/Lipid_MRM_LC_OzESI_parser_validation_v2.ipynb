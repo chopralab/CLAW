{
 "cells": [
  {
   "cell_type": "code",
   "execution_count": 1,
   "metadata": {},
   "outputs": [],
   "source": [
    "from IPython.display import Image"
   ]
  },
  {
   "cell_type": "code",
   "execution_count": 9,
   "metadata": {},
   "outputs": [],
   "source": [
    "#Import all the necessary libraries\n",
    "import pymzml\n",
    "import csv\n",
    "import os\n",
    "import pandas as pd\n",
    "import numpy as np\n",
    "import math\n",
    "from matplotlib import pyplot as plt\n",
    "import re\n",
    "import plotly.express as px\n",
    "from collections import defaultdict\n",
    "from scipy.signal import find_peaks\n"
   ]
  },
  {
   "cell_type": "code",
   "execution_count": 3,
   "metadata": {},
   "outputs": [],
   "source": [
    "###Importing Variables for all functions\n",
    "\n",
    "data_base_name_location = 'lipid_database/Lipid_Database.xlsx'####Lipid database with Standard Carnitines\n",
    "mzml_folder = './data_mzml/04-29-2023_mzml/test_oz_1/'\n",
    "tolerance = 0.3\n",
    "remove_std = True\n",
    "\n",
    "# Example usage:\n",
    "folder_name_to_save = 'TEST_04-29-2023_validation_test_1'\n",
    "file_name_to_save = 'TEST_04-29-2023_validation_test_1'\n",
    "save_data= True\n",
    "\n",
    "\n",
    "\n"
   ]
  },
  {
   "cell_type": "code",
   "execution_count": 19,
   "metadata": {},
   "outputs": [],
   "source": [
    "\n",
    "###All functions\n",
    "\n",
    "#Function to read in MRM database\n",
    "#Option to remove STDs from database##Not finished need option to use another database with no qualitative ACs\n",
    "\n",
    "\n",
    "def read_mrm_list(filename,remove_std = True):\n",
    "    mrm_list_new = pd.read_excel(filename, sheet_name=None)\n",
    "    mrm_list_new = pd.concat(mrm_list_new, ignore_index=True)\n",
    "    mrm_list_offical = mrm_list_new[['Compound Name', 'Parent Ion', 'Product Ion', 'Class']]\n",
    "    # Add underscore to middle of columns names\n",
    "    mrm_list_offical.columns = mrm_list_offical.columns.str.replace(' ', '_')\n",
    "    # Round Parent Ion and Product Ion to 1 decimal place\n",
    "    mrm_list_offical['Parent_Ion'] = np.round(mrm_list_offical['Parent_Ion'],1)\n",
    "    mrm_list_offical['Product_Ion'] = np.round(mrm_list_offical['Product_Ion'],1)\n",
    "    # Create transition column by combining Parent Ion and Product Ion with arrow between numbers\n",
    "    mrm_list_offical['Transition'] = mrm_list_offical['Parent_Ion'].astype(str) + ' -> ' + mrm_list_offical['Product_Ion'].astype(str)\n",
    "    # Change column compound name to lipid\n",
    "    mrm_list_offical = mrm_list_offical.rename(columns={'Compound_Name': 'Lipid'})\n",
    "    # Make a column called Class match lipid column to lipid types\n",
    "    if remove_std == True:\n",
    "        lipid_class = mrm_list_offical['Class'].unique()\n",
    "        lipid_class_to_keep = ['PS','PG','CE','PC', 'DAG', 'PE', 'TAG', 'FA', 'Cer', 'CAR', 'PI','SM']\n",
    "        mrm_list_offical = mrm_list_offical[mrm_list_offical['Class'].isin(lipid_class_to_keep)]\n",
    "    return mrm_list_offical\n",
    "\n",
    "#OzESI\n",
    "OzESI_time = {}\n",
    "def mzml_parser(file_name):\n",
    "    df = pd.DataFrame(columns=['Lipid','Parent_Ion','Product_Ion','Intensity','Transition','Class','Sample_ID'])\n",
    "    data_folder = os.listdir(file_name) #Path to the mzml files\n",
    "    data_folder.sort()\n",
    "    path_to_mzml_files = file_name\n",
    "\n",
    "    \n",
    "    \n",
    "\n",
    "    for file in data_folder:\n",
    "            if file.endswith('.mzML'):\n",
    "\n",
    "                    run = pymzml.run.Reader(path_to_mzml_files+file, skip_chromatogram=False) #Load the mzml file into the run object\n",
    "\n",
    "\n",
    "\n",
    "                    df_all = pd.DataFrame(columns=['Lipid','Parent_Ion','Product_Ion','Intensity','Transition','Class','Sample_ID']) #Create empty pandas dataframe to store the data\n",
    "\n",
    "                    #create pandas dataframe to store the data with the columns Parent Ion, Product Ion, Intensity, Transition Lipid and Class\n",
    "                   \n",
    "                    q1_mz = 0 #Create empty variables to store the Q1 and Q3 m/z values\n",
    "                    q3_mz = 0\n",
    "                    count = 0 #Create a counter to keep track of the number of transitions\n",
    "                    for spectrum in run:\n",
    "                        if isinstance(spectrum, pymzml.spec.Chromatogram):\n",
    "                            for time, intensity in spectrum.peaks():\n",
    "                                OzESI_time[time] = np.round(intensity), q1_mz, q3_mz\n",
    "\n",
    "                            for element in spectrum.ID.split(' '):\n",
    "                                    intensity_store = np.array([])\n",
    "                                    if 'Q1' in element:\n",
    "                                            q1 = element.split('=')\n",
    "                                            q1_mz= np.round((float(q1[1])),1)\n",
    "\n",
    "                                    if 'Q3' in element:\n",
    "                                \n",
    "                                            q3 = element.split('=')\n",
    "  \n",
    "                                            q3_mz=np.round(float(q3[1]),1)\n",
    "\n",
    "\n",
    "                                            for mz,intensity in spectrum.peaks(): #Get the m/z and intensity values from the spectrum\n",
    "                                                    intensity_store = np.append(intensity_store,intensity) #Store the intensity values in an array\n",
    "\n",
    "\n",
    "\n",
    "                                    if 'Q3' in element:\n",
    "                                            # print(intensity_sum)\n",
    "                                            intensity_sum = np.sum(intensity_store) #Sum the intensity values\n",
    "                                            df_all.loc[count,'Parent_Ion'] = q1_mz #Store the Q1 and Q3 m/z values in the pandas dataframe\n",
    "                                            df_all.loc[count,'Product_Ion'] = q3_mz\n",
    "                                            #round the Q1 and Q3 m/z values to 1 decimal places\n",
    "                                            df_all.loc[count,'Parent_Ion'] = np.round(df_all.loc[count,'Parent_Ion'],1)\n",
    "                                            df_all.loc[count,'Product_Ion'] = np.round(df_all.loc[count,'Product_Ion'],1)\n",
    "                                            df_all.loc[count,'Intensity'] = intensity_sum #Store the intensity values in the pandas dataframe\n",
    "                                            df_all.loc[count,'Transition'] = str(q1_mz)+ ' -> '+ str(q3_mz) #Store the transition values in the pandas dataframe\n",
    "                                            #add file name to Sample_ID column without the mzmL extension\n",
    "                                            df_all.loc[count,'Sample_ID'] = file[:-5]\n",
    "                                            count+=1\n",
    "\n",
    "            #append df_all to df\n",
    "            df = df.append(df_all, ignore_index=True)\n",
    "    return df\n",
    "\n",
    "# Function to create an ion dictionary from an MRM database DataFrame\n",
    "def create_ion_dict(mrm_database):\n",
    "    ion_dict = defaultdict(list)\n",
    "    # Iterate through the rows of the MRM database DataFrame\n",
    "    for index, row in mrm_database.iterrows():\n",
    "        # Add a tuple with Lipid and Class to the ion dictionary using Parent_Ion and Product_Ion as the key\n",
    "        ion_dict[(row['Parent_Ion'], row['Product_Ion'])].append((row['Lipid'], row['Class']))\n",
    "    return ion_dict\n",
    "\n",
    "# Function to check if the absolute difference between two values is within a given tolerance\n",
    "def within_tolerance(a, b, tolerance=0.1):\n",
    "    return abs(a - b) <= tolerance\n",
    "\n",
    "# Function to match the ions in a DataFrame row with the ions in an ion dictionary\n",
    "def match_ions(row, ion_dict, tolerance=0.1):\n",
    "    ions = (row['Parent_Ion'], row['Product_Ion'])\n",
    "    matched_lipids = []\n",
    "    matched_classes = []\n",
    "\n",
    "    # Iterate through the ion dictionary\n",
    "    for key, value in ion_dict.items():\n",
    "        # Check if both the Parent_Ion and Product_Ion values are within the specified tolerance\n",
    "        if within_tolerance(ions[0], key[0], tolerance) and within_tolerance(ions[1], key[1], tolerance):\n",
    "            # If within tolerance, extend the matched_lipids and matched_classes lists with the corresponding values\n",
    "            matched_lipids.extend([match[0] for match in value])\n",
    "            matched_classes.extend([match[1] for match in value])\n",
    "\n",
    "    # If any matches were found, update the Lipid and Class columns in the row\n",
    "    if matched_lipids and matched_classes:\n",
    "        row['Lipid'] = ' | '.join(matched_lipids)\n",
    "        row['Class'] = ' | '.join(matched_classes)\n",
    "\n",
    "    return row\n",
    "\n",
    "####Combined functions for Matching\n",
    "\n",
    "def match_lipids_parser(mrm_database,df, tolerance=0.3):\n",
    "    ion_dict = create_ion_dict(mrm_database)\n",
    "    # Assuming you have the df DataFrame to apply the match_ions function\n",
    "    df_matched = df.apply(lambda row: match_ions(row, ion_dict=ion_dict, tolerance=tolerance), axis=1)\n",
    "\n",
    "\n",
    "    # df_matched = df_matched.dropna()\n",
    "    \n",
    "    return df_matched\n",
    "\n",
    "\n",
    "def save_dataframe(df, folder_name, file_name, max_attempts=5):\n",
    "    folder_path = f'data_results/data/data_matching/{folder_name}'\n",
    "    os.makedirs(folder_path, exist_ok=True)\n",
    "\n",
    "    for i in range(max_attempts):\n",
    "        file_path = f'{folder_path}/{file_name}.csv'\n",
    "        if not os.path.isfile(file_path):\n",
    "            df.to_csv(file_path, index=False)\n",
    "            print(f\"Saved DataFrame to {file_path}\")\n",
    "            break\n",
    "    else:\n",
    "        print(f\"Failed to save DataFrame after {max_attempts} attempts.\")\n",
    "        return None\n",
    "\n",
    "\n",
    "def full_parse(data_base_name_location,mzml_folder, folder_name_to_save, file_name_to_save,tolerance,remove_std = True,\n",
    "               save_data=False):\n",
    "    mrm_database = read_mrm_list(data_base_name_location,remove_std=remove_std)\n",
    "    df = mzml_parser(mzml_folder)\n",
    "    df_matched = match_lipids_parser(mrm_database,df, tolerance=tolerance)\n",
    "    \n",
    "    if save_data == True:\n",
    "        \n",
    "        save_dataframe(df_matched, folder_name_to_save, file_name_to_save)\n",
    "\n",
    "    return df_matched\n",
    "\n",
    "\n",
    "\n"
   ]
  },
  {
   "cell_type": "code",
   "execution_count": 20,
   "metadata": {},
   "outputs": [
    {
     "name": "stderr",
     "output_type": "stream",
     "text": [
      "/tmp/ipykernel_25991/2674365659.py:14: SettingWithCopyWarning: \n",
      "A value is trying to be set on a copy of a slice from a DataFrame.\n",
      "Try using .loc[row_indexer,col_indexer] = value instead\n",
      "\n",
      "See the caveats in the documentation: https://pandas.pydata.org/pandas-docs/stable/user_guide/indexing.html#returning-a-view-versus-a-copy\n",
      "  mrm_list_offical['Parent_Ion'] = np.round(mrm_list_offical['Parent_Ion'],1)\n",
      "/tmp/ipykernel_25991/2674365659.py:15: SettingWithCopyWarning: \n",
      "A value is trying to be set on a copy of a slice from a DataFrame.\n",
      "Try using .loc[row_indexer,col_indexer] = value instead\n",
      "\n",
      "See the caveats in the documentation: https://pandas.pydata.org/pandas-docs/stable/user_guide/indexing.html#returning-a-view-versus-a-copy\n",
      "  mrm_list_offical['Product_Ion'] = np.round(mrm_list_offical['Product_Ion'],1)\n",
      "/tmp/ipykernel_25991/2674365659.py:17: SettingWithCopyWarning: \n",
      "A value is trying to be set on a copy of a slice from a DataFrame.\n",
      "Try using .loc[row_indexer,col_indexer] = value instead\n",
      "\n",
      "See the caveats in the documentation: https://pandas.pydata.org/pandas-docs/stable/user_guide/indexing.html#returning-a-view-versus-a-copy\n",
      "  mrm_list_offical['Transition'] = mrm_list_offical['Parent_Ion'].astype(str) + ' -> ' + mrm_list_offical['Product_Ion'].astype(str)\n"
     ]
    },
    {
     "name": "stdout",
     "output_type": "stream",
     "text": [
      "Failed to save DataFrame after 5 attempts.\n"
     ]
    },
    {
     "name": "stderr",
     "output_type": "stream",
     "text": [
      "/tmp/ipykernel_25991/2674365659.py:90: FutureWarning: The frame.append method is deprecated and will be removed from pandas in a future version. Use pandas.concat instead.\n",
      "  df = df.append(df_all, ignore_index=True)\n"
     ]
    }
   ],
   "source": [
    "df_matched = full_parse(data_base_name_location,mzml_folder, folder_name_to_save, \n",
    "                        file_name_to_save,tolerance, remove_std = remove_std,save_data=save_data)\n",
    "\n"
   ]
  },
  {
   "cell_type": "code",
   "execution_count": 23,
   "metadata": {},
   "outputs": [
    {
     "name": "stdout",
     "output_type": "stream",
     "text": [
      "  Lipid  Parent_Ion  Product_Ion     Intensity      Transition Class  \\\n",
      "0   NaN       694.6        547.6  2.567996e+05  694.6 -> 547.6   NaN   \n",
      "1   NaN       696.6        549.6  2.185144e+05  696.6 -> 549.6   NaN   \n",
      "2   NaN       698.7        551.6  6.608002e+06  698.7 -> 551.6   NaN   \n",
      "3   NaN       720.6        573.6  7.330655e+04  720.6 -> 573.6   NaN   \n",
      "4   NaN       722.6        575.6  1.428391e+05  722.6 -> 575.6   NaN   \n",
      "\n",
      "                          Sample_ID  \n",
      "0  DOD93_F4-5xFAD-Cereb_TG18-1_o3on  \n",
      "1  DOD93_F4-5xFAD-Cereb_TG18-1_o3on  \n",
      "2  DOD93_F4-5xFAD-Cereb_TG18-1_o3on  \n",
      "3  DOD93_F4-5xFAD-Cereb_TG18-1_o3on  \n",
      "4  DOD93_F4-5xFAD-Cereb_TG18-1_o3on  \n",
      "[(0.00011666666666666667, (151.0, 900.8, 601.6)), (0.0035, (150.0, 898.8, 599.6)), (0.006883333333333333, (244.0, 876.8, 577.6)), (0.010283333333333334, (185.0, 874.8, 575.6)), (0.013666666666666667, (165.0, 872.8, 573.6))]\n"
     ]
    }
   ],
   "source": [
    "print(df_matched.head())\n",
    "#print first 5 values of OzESI_time\n",
    "print(list(OzESI_time.items())[:5])"
   ]
  },
  {
   "cell_type": "code",
   "execution_count": 122,
   "metadata": {},
   "outputs": [],
   "source": [
    "\n",
    "\n",
    "def process_chromatogram(OzESI_time):\n",
    "    # Create dataframe from OzESI_time dictionary\n",
    "    OzESI_rt_df = pd.DataFrame(list(OzESI_time.items()), columns=['Retention_Time', 'intensity'])\n",
    "    \n",
    "    # Split intensity column into three columns intensity, Parent_Ion and Product_Ion\n",
    "    OzESI_rt_df[['intensity','Parent_Ion','Product_Ion']] = pd.DataFrame(OzESI_rt_df['intensity'].tolist(), index=OzESI_rt_df.index)\n",
    "    \n",
    "    # Round retention Retention_Time to 1 decimal place\n",
    "    OzESI_rt_df['Retention_Time'] = round(OzESI_rt_df['Retention_Time'], 2)\n",
    "    \n",
    "    # Create a column called Transition with the Parent_Ion and Product_Ion\n",
    "    OzESI_rt_df['Transition'] = OzESI_rt_df['Parent_Ion'].astype(str) + ' -> ' + OzESI_rt_df['Product_Ion'].astype(str)\n",
    "    \n",
    "    ########### HARDCODED TO DROP RETENTION TIMES BELOW 7 SECONDS ############\n",
    "    #drop Rention_Time below 10.5 seconds and above 15.5 seconds\n",
    "    OzESI_rt_df = OzESI_rt_df[OzESI_rt_df['Retention_Time'] > 10.5]\n",
    "    OzESI_rt_df = OzESI_rt_df[OzESI_rt_df['Retention_Time'] < 15.5]\n",
    "\n",
    "    # Get the top 10 records for each 'Transition' based on 'intensity'\n",
    "    OzESI_rt_df_top = OzESI_rt_df.groupby('Transition').apply(lambda x: x.nlargest(10, 'intensity')).reset_index(drop=True)\n",
    "\n",
    "    print('OzESI 10 largest per transition: \\n', OzESI_rt_df_top)\n",
    "\n",
    "    # peaks, _ = find_peaks(OzESI_rt_df['intensity'], height=0.5e5,distance=1000)\n",
    "    # plt.scatter(OzESI_rt_df['Retention_Time'] ,OzESI_rt_df['intensity'])\n",
    "    # plt.scatter(OzESI_rt_df.iloc[peaks]['Retention_Time'], OzESI_rt_df.iloc[peaks]['intensity'], \"x\")\n",
    "    # plt.ylabel('Intensity')\n",
    "    # plt.xlabel('Retention Time')\n",
    "    # plt.title('OzESI LC Chromatogram')\n",
    "    # plt.show()\n",
    "    \n",
    "    return OzESI_rt_df_top\n",
    "\n",
    "\n",
    "#     print(list(OzESI_time.items())[:5])\n",
    "#     df_OzESI_time = pd.DataFrame(list(OzESI_time.items()), columns=['Time', 'Intensity'])\n",
    "#     print('11111\\n',df_OzESI_time.head())\n",
    "#     #convert intensity column to a string\n",
    "#     df_OzESI_time['Intensity'] = df_OzESI_time['Intensity'].astype(str)\n",
    "#     # Split the 'Intensity' column into three new columns\n",
    "#     df_OzESI_time[['Intensity', 'Parent_Ion', 'Product_Ion']] = df_OzESI_time['Intensity'].str.strip('()').str.split(',', expand=True).astype(float)\n",
    "#     #Convert Intensity_1, Parent_Ion and Product_Ion to float\n",
    "#     print('222222\\n',df_OzESI_time.head())\n",
    "#     df_OzESI_time['Intensity'] = df_OzESI_time['Intensity'].astype(float)\n",
    "\n",
    "#     #convert Product_Ion and Parent_Ion to string with -> in between\n",
    "#     df_OzESI_time['Product_Ion'] = df_OzESI_time['Product_Ion'].astype(str)\n",
    "#     df_OzESI_time['Parent_Ion'] = df_OzESI_time['Parent_Ion'].astype(str)\n",
    "#     df_OzESI_time['Transition'] = df_OzESI_time['Parent_Ion'].str.cat(df_OzESI_time['Product_Ion'],sep=' -> ')\n",
    "#     df_OzESI_time['Parent_Ion'] = df_OzESI_time['Parent_Ion'].astype(float)\n",
    "#     df_OzESI_time['Product_Ion'] = df_OzESI_time['Product_Ion'].astype(float)\n",
    "    \n",
    "#     #sort the dataframe by transition\n",
    "#     df_OzESI_time.sort_values(by=['Transition'], inplace=True)\n",
    "    \n",
    "#     df_2 = pd.DataFrame(columns=['Intensity', 'Retention_Time', 'Transition'])\n",
    "#     # Extract the intensity values from the DataFrame\n",
    "#     intensity_values = df_OzESI_time['Intensity'].values\n",
    "    \n",
    "#     # Find peaks in the intensity values\n",
    "#     peaks, _ = find_peaks(intensity_values)\n",
    "#     print('4444\\n',df_OzESI_time.head())\n",
    "#     # Get the peak values, time points, and transitions\n",
    "#     peak_values = intensity_values[peaks]\n",
    "#     print('5555\\n',df_OzESI_time.head())\n",
    "#     time_points = df_OzESI_time['Time'].values[peaks]\n",
    "#     print('6666\\n',df_OzESI_time.head())\n",
    "#     transitions = df_OzESI_time['Transition'].values[peaks]\n",
    "#     print('77777\\n',df_OzESI_time.head())\n",
    "    \n",
    "#     # Create a new DataFrame to store the peak information\n",
    "#     peak_df = pd.DataFrame({\n",
    "#         'Peak Value': peak_values,\n",
    "#         'Retention_Time': time_points,\n",
    "#         'Transition': transitions\n",
    "#     })\n",
    "    \n",
    "#     # Print the peaks and their corresponding time points\n",
    "#     for _, row in peak_df.iterrows():\n",
    "#         #print(f\"Peak value: {row['Peak Value']}, Time: {row['Time']}, Transition: {row['Transition']}\")\n",
    "#         df_2 = df_2.append({'Intensity': row['Peak Value'], 'Retention_Time': row['Retention_Time'], 'Transition': row['Transition']}, ignore_index=True)\n",
    "\n",
    "#     #sort the dataframe by transition\n",
    "#     df_2.sort_values(by=['Transition'], inplace=True)\n",
    "#     # Create dataframe from OzESI_rt_df\n",
    "#     OzESI_rt_df = df_2\n",
    "\n",
    "#     # Round retention Retention_Time to 1 decimal place\n",
    "#     OzESI_rt_df['Retention_Time'] = round(OzESI_rt_df['Retention_Time'], 2)\n",
    "    \n",
    "#     # Create a column called Transition with the Parent_Ion and Product_Ion\n",
    "#     OzESI_rt_df['Transition'] = OzESI_rt_df['Parent_Ion'].astype(str) + ' -> ' + OzESI_rt_df['Product_Ion'].astype(str)\n",
    "    \n",
    "# #     ########### HARDCODED TO DROP RETENTION TIMES BELOW 7 SECONDS ############\n",
    "#     #drop Rention_Time below 10.5 seconds and above 15.5 seconds\n",
    "#     OzESI_rt_df = OzESI_rt_df[OzESI_rt_df['Retention_Time'] > 10.5]\n",
    "#     OzESI_rt_df = OzESI_rt_df[OzESI_rt_df['Retention_Time'] < 15.5]\n",
    "\n",
    "#     # Sort the DataFrame by intensity in descending order\n",
    "#     OzESI_rt_df_sorted = OzESI_rt_df.sort_values(['intensity'], ascending=False)\n",
    "#     # Group the DataFrame by 'Parent_Ion' and 'Product_Ion'\n",
    "#     grouped_df = OzESI_rt_df_sorted.groupby(['Parent_Ion', 'Product_Ion'])\n",
    "\n",
    "#     # Create an empty DataFrame to store the top 5 values\n",
    "#     top_5_df = pd.DataFrame(columns=OzESI_rt_df.columns)\n",
    "\n",
    "#     # Iterate over each group\n",
    "#     for _, group in grouped_df:\n",
    "#         # Get the top 5 rows with the highest intensity\n",
    "#         top_5_rows = group.head(5)\n",
    "#         # Append the top 5 rows to the 'top_5_df'\n",
    "#         top_5_df = top_5_df.append(top_5_rows)\n",
    "\n",
    "#     # Sort the 'top_5_df' by the original index\n",
    "#     top_5_df.sort_index(inplace=True)\n",
    "\n",
    "# # Print the DataFrame with the top 5 values for each 'Parent_Ion' and 'Product_Ion'\n",
    "#     print('here is top 5\\n',top_5_df)\n",
    "#     OzESI_rt_df_top = top_5_df.nlargest(1000, 'intensity')\n",
    "#     #OzESI_rt_df_top = OzESI_rt_df_sorted.nlargest(1000, 'intensity')\n",
    "\n",
    "#     print('OzESI 10 largest: \\n', OzESI_rt_df_top)\n",
    "    \n",
    "# Find peaks in the intensity column and plot the chromatogram\n",
    "    # peaks, _ = find_peaks(OzESI_rt_df['intensity'], height=0.5e5,distance=1000)\n",
    "    # plt.plot(OzESI_rt_df['Retention_Time'] ,OzESI_rt_df['intensity'])\n",
    "    # plt.plot(OzESI_rt_df.iloc[peaks]['Retention_Time'], OzESI_rt_df.iloc[peaks]['intensity'], \"x\")\n",
    "    # plt.ylabel('Intensity')\n",
    "    # plt.xlabel('Retention Time')\n",
    "    # plt.title('OzESI LC Chromatogram')\n",
    "    # plt.show()\n",
    "    \n",
    "#     #return OzESI_rt_df_top\n",
    "\n",
    "######### OLD CODE##############\n",
    "# def add_rt_intensity(df, OzESI_rt_df_top):\n",
    "#     # Create a dictionary to map transitions to retention times and intensities\n",
    "#     transitions_to_rt = dict(zip(OzESI_rt_df_top['Transition'], OzESI_rt_df_top['Retention_Time']))\n",
    "#     transitions_to_intensity = dict(zip(OzESI_rt_df_top['Transition'], OzESI_rt_df_top['intensity']))\n",
    "#     # Use the map function to add retention times and intensities to the dataframe\n",
    "#     df['Retention_Time'] = df['Transition'].map(transitions_to_rt)\n",
    "#     df['Intensity_OzESI'] = df['Transition'].map(transitions_to_intensity)\n",
    "    \n",
    "#     return df\n",
    "\n",
    "# def add_rt_intensity(df, OzESI_rt_df_top):\n",
    "#     # Initialize an empty DataFrame to store the results\n",
    "#     new_df = pd.DataFrame()\n",
    "\n",
    "#     # Group by 'Transition' and iterate over the groups\n",
    "#     for name, group in OzESI_rt_df_top.groupby('Transition'):\n",
    "#         # Keep the top 10 values for each transition\n",
    "#         top_values = group.nlargest(10, 'intensity')\n",
    "\n",
    "#         # Append the top values DataFrame to the results DataFrame\n",
    "#         new_df = new_df.append(top_values, ignore_index=True)\n",
    "\n",
    "#     # Create dictionaries to map transitions to retention times and intensities\n",
    "#     transitions_to_rt = dict(zip(new_df['Transition'], new_df['Retention_Time']))\n",
    "#     transitions_to_intensity = dict(zip(new_df['Transition'], new_df['intensity']))\n",
    "\n",
    "#     # Use the map function to add retention times and intensities to the dataframe\n",
    "#     df['Retention_Time'] = df['Transition'].map(transitions_to_rt)\n",
    "#     df['Intensity_OzESI'] = df['Transition'].map(transitions_to_intensity)\n",
    "\n",
    "#     return df\n",
    "def add_rt_intensity(df, OzESI_rt_df_top):\n",
    "\n",
    "    #### STRING OF RETENTION TIMES\n",
    "    # Group by 'Transition' and get lists of retention times and intensities\n",
    "    transitions_to_rt = OzESI_rt_df_top.groupby('Transition')['Retention_Time'].apply(list).to_dict()\n",
    "    transitions_to_intensity = OzESI_rt_df_top.groupby('Transition')['intensity'].apply(list).to_dict()\n",
    "    \n",
    "    # Use the map function to add retention times and intensities to the dataframe as strings\n",
    "    df['Retention_Time'] = df['Transition'].map(transitions_to_rt).apply(lambda x: ', '.join(map(str, x)) if isinstance(x, list) else x)\n",
    "    df['Intensity_OzESI'] = df['Transition'].map(transitions_to_intensity).apply(lambda x: ', '.join(map(str, x)) if isinstance(x, list) else x)\n",
    "    \n",
    "\n",
    "    #MEAN OF RENETION TIMES\n",
    "    # Convert the 'Retention_Time' column from string of lists to lists of floats\n",
    "    df['Retention_Time'] = df['Retention_Time'].apply(lambda x: [float(i) for i in x.split(', ')] if isinstance(x, str) else x)\n",
    "\n",
    "    # Calculate the mean of 'Retention_Time' for each transition\n",
    "    df['Mean_Retention_Time'] = df['Retention_Time'].apply(np.mean)\n",
    "\n",
    "    # Convert the 'Intensity_OzESI' column from string of lists to lists of floats\n",
    "    df['Intensity_OzESI'] = df['Intensity_OzESI'].apply(lambda x: [float(i) for i in x.split(', ')] if isinstance(x, str) else x)\n",
    "\n",
    "    # Calculate the mean of 'Intensity_OzESI' for each transition\n",
    "    df['Mean_Intensity_OzESI'] = df['Intensity_OzESI'].apply(np.mean)\n",
    "\n",
    "    return df\n",
    "\n",
    "\n",
    "def create_aldehyde_ion_dataframe():\n",
    "    # Create a pandas dataframe with columns for DB_Position and Aldehyde_Ion\n",
    "    df_OzESI = pd.DataFrame(columns=['DB_Position','Aldehyde_Ion'])\n",
    "\n",
    "    # Loop over the range of DB_Position values and calculate the corresponding Aldehyde_Ion values\n",
    "    for i in range(3, 21):\n",
    "        df_OzESI.loc[i,'DB_Position'] = i\n",
    "        df_OzESI.loc[i,'Aldehyde_Ion'] = 26 + (14 * (i-3)) \n",
    "\n",
    "    # Print the first 25 rows of the dataframe\n",
    "    # print(df_OzESI.head(25))\n",
    "\n",
    "    # Return the dataframe\n",
    "    return df_OzESI\n",
    "\n",
    "#OzESI_list = [3,5,7,9,11]\n",
    "OzESI_list = [7,9,12]\n",
    "#def calculate_n_minus_values(df_matched, df_OzESI, OzESI_list=[3,5,7,9,11], starting_column=9, last_column=14):\n",
    "def calculate_n_minus_values(df_matched, df_OzESI, OzESI_list=[7,9,12], starting_column=9, last_column=14):\n",
    "    \"\"\"\n",
    "    Given a pandas dataframe df and a dataframe df_OzESI containing DB_Position and Aldehyde_Ion values,\n",
    "    calculates the n-i values for each i in OzESI_list by subtracting the corresponding Aldehyde_Ion value\n",
    "    from the Parent_Ion column in df and storing the result in new columns named 'n-i' in df.\n",
    "    The starting_column and last_column parameters specify the range of columns in which the n-i values should be stored.\n",
    "    \"\"\"\n",
    "    # Create new columns in df for n-i values\n",
    "    for i in OzESI_list:\n",
    "        df_matched[f\"n-{i}\"] = df_matched[\"Parent_Ion\"] - df_OzESI.loc[df_OzESI[\"DB_Position\"] == i, \"Aldehyde_Ion\"].values[0]\n",
    "    \n",
    "    # Print the shape of the dataframe and return it\n",
    "    # print(df_matched.shape)\n",
    "    return df_matched\n",
    "\n",
    "\n",
    "# OzESI_rt_df_top = process_chromatogram(OzESI_time)\n"
   ]
  },
  {
   "cell_type": "code",
   "execution_count": 123,
   "metadata": {},
   "outputs": [
    {
     "name": "stdout",
     "output_type": "stream",
     "text": [
      "OzESI 10 largest per transition: \n",
      "      Retention_Time   intensity  Parent_Ion  Product_Ion      Transition\n",
      "0             11.69      3903.0         0.0          0.0      0.0 -> 0.0\n",
      "1             11.57      1849.0         0.0          0.0      0.0 -> 0.0\n",
      "2             11.81      1517.0         0.0          0.0      0.0 -> 0.0\n",
      "3             11.94      1386.0         0.0          0.0      0.0 -> 0.0\n",
      "4             12.18      1227.0         0.0          0.0      0.0 -> 0.0\n",
      "..              ...         ...         ...          ...             ...\n",
      "345           15.49  49839999.0       902.8        603.6  902.8 -> 603.6\n",
      "346           15.49  49838501.0       902.8        603.6  902.8 -> 603.6\n",
      "347           15.49  49835999.0       902.8        603.6  902.8 -> 603.6\n",
      "348           15.49  49832001.0       902.8        603.6  902.8 -> 603.6\n",
      "349           15.49  49827499.0       902.8        603.6  902.8 -> 603.6\n",
      "\n",
      "[350 rows x 5 columns]\n"
     ]
    },
    {
     "ename": "ValueError",
     "evalue": "s must be a scalar, or float array-like with the same size as x and y",
     "output_type": "error",
     "traceback": [
      "\u001b[0;31m---------------------------------------------------------------------------\u001b[0m",
      "\u001b[0;31mValueError\u001b[0m                                Traceback (most recent call last)",
      "\u001b[1;32m/home/sanjay/github/lipids/Lipidomics/lipid_platform/Lipid_MRM_LC_OzESI_parser_validation_v2.ipynb Cell 8\u001b[0m in \u001b[0;36m1\n\u001b[1;32m     <a href='vscode-notebook-cell://wsl%2Bubuntu-20.04/home/sanjay/github/lipids/Lipidomics/lipid_platform/Lipid_MRM_LC_OzESI_parser_validation_v2.ipynb#W6sdnNjb2RlLXJlbW90ZQ%3D%3D?line=10'>11</a>\u001b[0m     df_processed \u001b[39m=\u001b[39m calculate_n_minus_values(df_processed, df_OzESI, OzESI_list, starting_column\u001b[39m=\u001b[39m\u001b[39m9\u001b[39m, last_column\u001b[39m=\u001b[39m\u001b[39m14\u001b[39m)\n\u001b[1;32m     <a href='vscode-notebook-cell://wsl%2Bubuntu-20.04/home/sanjay/github/lipids/Lipidomics/lipid_platform/Lipid_MRM_LC_OzESI_parser_validation_v2.ipynb#W6sdnNjb2RlLXJlbW90ZQ%3D%3D?line=12'>13</a>\u001b[0m     \u001b[39mreturn\u001b[39;00m df_processed\n\u001b[0;32m---> <a href='vscode-notebook-cell://wsl%2Bubuntu-20.04/home/sanjay/github/lipids/Lipidomics/lipid_platform/Lipid_MRM_LC_OzESI_parser_validation_v2.ipynb#W6sdnNjb2RlLXJlbW90ZQ%3D%3D?line=13'>14</a>\u001b[0m df_OzESI_processed \u001b[39m=\u001b[39m df_OzESI_pipeline(df_matched, OzESI_time)\n\u001b[1;32m     <a href='vscode-notebook-cell://wsl%2Bubuntu-20.04/home/sanjay/github/lipids/Lipidomics/lipid_platform/Lipid_MRM_LC_OzESI_parser_validation_v2.ipynb#W6sdnNjb2RlLXJlbW90ZQ%3D%3D?line=14'>15</a>\u001b[0m df_OzESI_processed\u001b[39m.\u001b[39mtail(\u001b[39m10\u001b[39m)\n",
      "\u001b[1;32m/home/sanjay/github/lipids/Lipidomics/lipid_platform/Lipid_MRM_LC_OzESI_parser_validation_v2.ipynb Cell 8\u001b[0m in \u001b[0;36m5\n\u001b[1;32m      <a href='vscode-notebook-cell://wsl%2Bubuntu-20.04/home/sanjay/github/lipids/Lipidomics/lipid_platform/Lipid_MRM_LC_OzESI_parser_validation_v2.ipynb#W6sdnNjb2RlLXJlbW90ZQ%3D%3D?line=2'>3</a>\u001b[0m \u001b[39mdef\u001b[39;00m \u001b[39mdf_OzESI_pipeline\u001b[39m(df, OzESI_time, OzESI_list\u001b[39m=\u001b[39m[\u001b[39m7\u001b[39m,\u001b[39m9\u001b[39m,\u001b[39m12\u001b[39m]):\n\u001b[1;32m      <a href='vscode-notebook-cell://wsl%2Bubuntu-20.04/home/sanjay/github/lipids/Lipidomics/lipid_platform/Lipid_MRM_LC_OzESI_parser_validation_v2.ipynb#W6sdnNjb2RlLXJlbW90ZQ%3D%3D?line=3'>4</a>\u001b[0m     \u001b[39m# Process chromatogram\u001b[39;00m\n\u001b[0;32m----> <a href='vscode-notebook-cell://wsl%2Bubuntu-20.04/home/sanjay/github/lipids/Lipidomics/lipid_platform/Lipid_MRM_LC_OzESI_parser_validation_v2.ipynb#W6sdnNjb2RlLXJlbW90ZQ%3D%3D?line=4'>5</a>\u001b[0m     OzESI_rt_df_top \u001b[39m=\u001b[39m process_chromatogram(OzESI_time)\n\u001b[1;32m      <a href='vscode-notebook-cell://wsl%2Bubuntu-20.04/home/sanjay/github/lipids/Lipidomics/lipid_platform/Lipid_MRM_LC_OzESI_parser_validation_v2.ipynb#W6sdnNjb2RlLXJlbW90ZQ%3D%3D?line=6'>7</a>\u001b[0m     df_OzESI \u001b[39m=\u001b[39m create_aldehyde_ion_dataframe()\n\u001b[1;32m      <a href='vscode-notebook-cell://wsl%2Bubuntu-20.04/home/sanjay/github/lipids/Lipidomics/lipid_platform/Lipid_MRM_LC_OzESI_parser_validation_v2.ipynb#W6sdnNjb2RlLXJlbW90ZQ%3D%3D?line=7'>8</a>\u001b[0m     \u001b[39m# Add retention time and intensity to dataframe\u001b[39;00m\n",
      "\u001b[1;32m/home/sanjay/github/lipids/Lipidomics/lipid_platform/Lipid_MRM_LC_OzESI_parser_validation_v2.ipynb Cell 8\u001b[0m in \u001b[0;36m2\n\u001b[1;32m     <a href='vscode-notebook-cell://wsl%2Bubuntu-20.04/home/sanjay/github/lipids/Lipidomics/lipid_platform/Lipid_MRM_LC_OzESI_parser_validation_v2.ipynb#W6sdnNjb2RlLXJlbW90ZQ%3D%3D?line=23'>24</a>\u001b[0m peaks, _ \u001b[39m=\u001b[39m find_peaks(OzESI_rt_df[\u001b[39m'\u001b[39m\u001b[39mintensity\u001b[39m\u001b[39m'\u001b[39m], height\u001b[39m=\u001b[39m\u001b[39m0.5e5\u001b[39m,distance\u001b[39m=\u001b[39m\u001b[39m1000\u001b[39m)\n\u001b[1;32m     <a href='vscode-notebook-cell://wsl%2Bubuntu-20.04/home/sanjay/github/lipids/Lipidomics/lipid_platform/Lipid_MRM_LC_OzESI_parser_validation_v2.ipynb#W6sdnNjb2RlLXJlbW90ZQ%3D%3D?line=24'>25</a>\u001b[0m plt\u001b[39m.\u001b[39mscatter(OzESI_rt_df[\u001b[39m'\u001b[39m\u001b[39mRetention_Time\u001b[39m\u001b[39m'\u001b[39m] ,OzESI_rt_df[\u001b[39m'\u001b[39m\u001b[39mintensity\u001b[39m\u001b[39m'\u001b[39m])\n\u001b[0;32m---> <a href='vscode-notebook-cell://wsl%2Bubuntu-20.04/home/sanjay/github/lipids/Lipidomics/lipid_platform/Lipid_MRM_LC_OzESI_parser_validation_v2.ipynb#W6sdnNjb2RlLXJlbW90ZQ%3D%3D?line=25'>26</a>\u001b[0m plt\u001b[39m.\u001b[39;49mscatter(OzESI_rt_df\u001b[39m.\u001b[39;49miloc[peaks][\u001b[39m'\u001b[39;49m\u001b[39mRetention_Time\u001b[39;49m\u001b[39m'\u001b[39;49m], OzESI_rt_df\u001b[39m.\u001b[39;49miloc[peaks][\u001b[39m'\u001b[39;49m\u001b[39mintensity\u001b[39;49m\u001b[39m'\u001b[39;49m], \u001b[39m\"\u001b[39;49m\u001b[39mx\u001b[39;49m\u001b[39m\"\u001b[39;49m)\n\u001b[1;32m     <a href='vscode-notebook-cell://wsl%2Bubuntu-20.04/home/sanjay/github/lipids/Lipidomics/lipid_platform/Lipid_MRM_LC_OzESI_parser_validation_v2.ipynb#W6sdnNjb2RlLXJlbW90ZQ%3D%3D?line=26'>27</a>\u001b[0m plt\u001b[39m.\u001b[39mylabel(\u001b[39m'\u001b[39m\u001b[39mIntensity\u001b[39m\u001b[39m'\u001b[39m)\n\u001b[1;32m     <a href='vscode-notebook-cell://wsl%2Bubuntu-20.04/home/sanjay/github/lipids/Lipidomics/lipid_platform/Lipid_MRM_LC_OzESI_parser_validation_v2.ipynb#W6sdnNjb2RlLXJlbW90ZQ%3D%3D?line=27'>28</a>\u001b[0m plt\u001b[39m.\u001b[39mxlabel(\u001b[39m'\u001b[39m\u001b[39mRetention Time\u001b[39m\u001b[39m'\u001b[39m)\n",
      "File \u001b[0;32m~/anaconda3/envs/pymzml/lib/python3.9/site-packages/matplotlib/pyplot.py:2790\u001b[0m, in \u001b[0;36mscatter\u001b[0;34m(x, y, s, c, marker, cmap, norm, vmin, vmax, alpha, linewidths, edgecolors, plotnonfinite, data, **kwargs)\u001b[0m\n\u001b[1;32m   2785\u001b[0m \u001b[39m@_copy_docstring_and_deprecators\u001b[39m(Axes\u001b[39m.\u001b[39mscatter)\n\u001b[1;32m   2786\u001b[0m \u001b[39mdef\u001b[39;00m \u001b[39mscatter\u001b[39m(\n\u001b[1;32m   2787\u001b[0m         x, y, s\u001b[39m=\u001b[39m\u001b[39mNone\u001b[39;00m, c\u001b[39m=\u001b[39m\u001b[39mNone\u001b[39;00m, marker\u001b[39m=\u001b[39m\u001b[39mNone\u001b[39;00m, cmap\u001b[39m=\u001b[39m\u001b[39mNone\u001b[39;00m, norm\u001b[39m=\u001b[39m\u001b[39mNone\u001b[39;00m,\n\u001b[1;32m   2788\u001b[0m         vmin\u001b[39m=\u001b[39m\u001b[39mNone\u001b[39;00m, vmax\u001b[39m=\u001b[39m\u001b[39mNone\u001b[39;00m, alpha\u001b[39m=\u001b[39m\u001b[39mNone\u001b[39;00m, linewidths\u001b[39m=\u001b[39m\u001b[39mNone\u001b[39;00m, \u001b[39m*\u001b[39m,\n\u001b[1;32m   2789\u001b[0m         edgecolors\u001b[39m=\u001b[39m\u001b[39mNone\u001b[39;00m, plotnonfinite\u001b[39m=\u001b[39m\u001b[39mFalse\u001b[39;00m, data\u001b[39m=\u001b[39m\u001b[39mNone\u001b[39;00m, \u001b[39m*\u001b[39m\u001b[39m*\u001b[39mkwargs):\n\u001b[0;32m-> 2790\u001b[0m     __ret \u001b[39m=\u001b[39m gca()\u001b[39m.\u001b[39;49mscatter(\n\u001b[1;32m   2791\u001b[0m         x, y, s\u001b[39m=\u001b[39;49ms, c\u001b[39m=\u001b[39;49mc, marker\u001b[39m=\u001b[39;49mmarker, cmap\u001b[39m=\u001b[39;49mcmap, norm\u001b[39m=\u001b[39;49mnorm,\n\u001b[1;32m   2792\u001b[0m         vmin\u001b[39m=\u001b[39;49mvmin, vmax\u001b[39m=\u001b[39;49mvmax, alpha\u001b[39m=\u001b[39;49malpha, linewidths\u001b[39m=\u001b[39;49mlinewidths,\n\u001b[1;32m   2793\u001b[0m         edgecolors\u001b[39m=\u001b[39;49medgecolors, plotnonfinite\u001b[39m=\u001b[39;49mplotnonfinite,\n\u001b[1;32m   2794\u001b[0m         \u001b[39m*\u001b[39;49m\u001b[39m*\u001b[39;49m({\u001b[39m\"\u001b[39;49m\u001b[39mdata\u001b[39;49m\u001b[39m\"\u001b[39;49m: data} \u001b[39mif\u001b[39;49;00m data \u001b[39mis\u001b[39;49;00m \u001b[39mnot\u001b[39;49;00m \u001b[39mNone\u001b[39;49;00m \u001b[39melse\u001b[39;49;00m {}), \u001b[39m*\u001b[39;49m\u001b[39m*\u001b[39;49mkwargs)\n\u001b[1;32m   2795\u001b[0m     sci(__ret)\n\u001b[1;32m   2796\u001b[0m     \u001b[39mreturn\u001b[39;00m __ret\n",
      "File \u001b[0;32m~/anaconda3/envs/pymzml/lib/python3.9/site-packages/matplotlib/__init__.py:1423\u001b[0m, in \u001b[0;36m_preprocess_data.<locals>.inner\u001b[0;34m(ax, data, *args, **kwargs)\u001b[0m\n\u001b[1;32m   1420\u001b[0m \u001b[39m@functools\u001b[39m\u001b[39m.\u001b[39mwraps(func)\n\u001b[1;32m   1421\u001b[0m \u001b[39mdef\u001b[39;00m \u001b[39minner\u001b[39m(ax, \u001b[39m*\u001b[39margs, data\u001b[39m=\u001b[39m\u001b[39mNone\u001b[39;00m, \u001b[39m*\u001b[39m\u001b[39m*\u001b[39mkwargs):\n\u001b[1;32m   1422\u001b[0m     \u001b[39mif\u001b[39;00m data \u001b[39mis\u001b[39;00m \u001b[39mNone\u001b[39;00m:\n\u001b[0;32m-> 1423\u001b[0m         \u001b[39mreturn\u001b[39;00m func(ax, \u001b[39m*\u001b[39;49m\u001b[39mmap\u001b[39;49m(sanitize_sequence, args), \u001b[39m*\u001b[39;49m\u001b[39m*\u001b[39;49mkwargs)\n\u001b[1;32m   1425\u001b[0m     bound \u001b[39m=\u001b[39m new_sig\u001b[39m.\u001b[39mbind(ax, \u001b[39m*\u001b[39margs, \u001b[39m*\u001b[39m\u001b[39m*\u001b[39mkwargs)\n\u001b[1;32m   1426\u001b[0m     auto_label \u001b[39m=\u001b[39m (bound\u001b[39m.\u001b[39marguments\u001b[39m.\u001b[39mget(label_namer)\n\u001b[1;32m   1427\u001b[0m                   \u001b[39mor\u001b[39;00m bound\u001b[39m.\u001b[39mkwargs\u001b[39m.\u001b[39mget(label_namer))\n",
      "File \u001b[0;32m~/anaconda3/envs/pymzml/lib/python3.9/site-packages/matplotlib/axes/_axes.py:4529\u001b[0m, in \u001b[0;36mAxes.scatter\u001b[0;34m(self, x, y, s, c, marker, cmap, norm, vmin, vmax, alpha, linewidths, edgecolors, plotnonfinite, **kwargs)\u001b[0m\n\u001b[1;32m   4525\u001b[0m s \u001b[39m=\u001b[39m np\u001b[39m.\u001b[39mma\u001b[39m.\u001b[39mravel(s)\n\u001b[1;32m   4526\u001b[0m \u001b[39mif\u001b[39;00m (\u001b[39mlen\u001b[39m(s) \u001b[39mnot\u001b[39;00m \u001b[39min\u001b[39;00m (\u001b[39m1\u001b[39m, x\u001b[39m.\u001b[39msize) \u001b[39mor\u001b[39;00m\n\u001b[1;32m   4527\u001b[0m         (\u001b[39mnot\u001b[39;00m np\u001b[39m.\u001b[39missubdtype(s\u001b[39m.\u001b[39mdtype, np\u001b[39m.\u001b[39mfloating) \u001b[39mand\u001b[39;00m\n\u001b[1;32m   4528\u001b[0m          \u001b[39mnot\u001b[39;00m np\u001b[39m.\u001b[39missubdtype(s\u001b[39m.\u001b[39mdtype, np\u001b[39m.\u001b[39minteger))):\n\u001b[0;32m-> 4529\u001b[0m     \u001b[39mraise\u001b[39;00m \u001b[39mValueError\u001b[39;00m(\n\u001b[1;32m   4530\u001b[0m         \u001b[39m\"\u001b[39m\u001b[39ms must be a scalar, \u001b[39m\u001b[39m\"\u001b[39m\n\u001b[1;32m   4531\u001b[0m         \u001b[39m\"\u001b[39m\u001b[39mor float array-like with the same size as x and y\u001b[39m\u001b[39m\"\u001b[39m)\n\u001b[1;32m   4533\u001b[0m \u001b[39m# get the original edgecolor the user passed before we normalize\u001b[39;00m\n\u001b[1;32m   4534\u001b[0m orig_edgecolor \u001b[39m=\u001b[39m edgecolors\n",
      "\u001b[0;31mValueError\u001b[0m: s must be a scalar, or float array-like with the same size as x and y"
     ]
    },
    {
     "data": {
      "image/png": "[encoded data removed]",
      "text/plain": [
       "<Figure size 640x480 with 1 Axes>"
      ]
     },
     "metadata": {},
     "output_type": "display_data"
    }
   ],
   "source": [
    "#OzESI_list = [3,5,7,9,11]\n",
    "#def df_OzESI_pipeline(df, OzESI_time, OzESI_list=[3,5,7,9,12]):\n",
    "def df_OzESI_pipeline(df, OzESI_time, OzESI_list=[7,9,12]):\n",
    "    # Process chromatogram\n",
    "    OzESI_rt_df_top = process_chromatogram(OzESI_time)\n",
    "    \n",
    "    df_OzESI = create_aldehyde_ion_dataframe()\n",
    "    # Add retention time and intensity to dataframe\n",
    "    df_processed = add_rt_intensity(df, OzESI_rt_df_top)\n",
    "    # Calculate n-minus values\n",
    "    df_processed = calculate_n_minus_values(df_processed, df_OzESI, OzESI_list, starting_column=9, last_column=14)\n",
    "    \n",
    "    return df_processed\n",
    "df_OzESI_processed = df_OzESI_pipeline(df_matched, OzESI_time)\n",
    "df_OzESI_processed.tail(10)"
   ]
  },
  {
   "cell_type": "code",
   "execution_count": 71,
   "metadata": {},
   "outputs": [
    {
     "data": {
      "text/html": [
       "<div>\n",
       "<style scoped>\n",
       "    .dataframe tbody tr th:only-of-type {\n",
       "        vertical-align: middle;\n",
       "    }\n",
       "\n",
       "    .dataframe tbody tr th {\n",
       "        vertical-align: top;\n",
       "    }\n",
       "\n",
       "    .dataframe thead th {\n",
       "        text-align: right;\n",
       "    }\n",
       "</style>\n",
       "<table border=\"1\" class=\"dataframe\">\n",
       "  <thead>\n",
       "    <tr style=\"text-align: right;\">\n",
       "      <th></th>\n",
       "      <th>Lipid</th>\n",
       "      <th>Parent_Ion</th>\n",
       "      <th>Product_Ion</th>\n",
       "      <th>Intensity</th>\n",
       "      <th>Transition</th>\n",
       "      <th>Class</th>\n",
       "      <th>Sample_ID</th>\n",
       "      <th>Retention_Time</th>\n",
       "      <th>Intensity_OzESI</th>\n",
       "      <th>n-7</th>\n",
       "      <th>n-9</th>\n",
       "      <th>n-12</th>\n",
       "      <th>Mean_Retention_Time</th>\n",
       "      <th>Mean_Intensity_OzESI</th>\n",
       "    </tr>\n",
       "  </thead>\n",
       "  <tbody>\n",
       "    <tr>\n",
       "      <th>0</th>\n",
       "      <td>NaN</td>\n",
       "      <td>694.6</td>\n",
       "      <td>547.6</td>\n",
       "      <td>2.567996e+05</td>\n",
       "      <td>694.6 -&gt; 547.6</td>\n",
       "      <td>NaN</td>\n",
       "      <td>DOD93_F4-5xFAD-Cereb_TG18-1_o3on</td>\n",
       "      <td>[12.91, 12.79, 13.03, 12.66, 13.39, 13.52, 13....</td>\n",
       "      <td>[18586.0, 9281.0, 4929.0, 4516.0, 4198.0, 3581...</td>\n",
       "      <td>612.6</td>\n",
       "      <td>584.6</td>\n",
       "      <td>542.6</td>\n",
       "      <td>12.895</td>\n",
       "      <td>5906.9</td>\n",
       "    </tr>\n",
       "    <tr>\n",
       "      <th>1</th>\n",
       "      <td>NaN</td>\n",
       "      <td>696.6</td>\n",
       "      <td>549.6</td>\n",
       "      <td>2.185144e+05</td>\n",
       "      <td>696.6 -&gt; 549.6</td>\n",
       "      <td>NaN</td>\n",
       "      <td>DOD93_F4-5xFAD-Cereb_TG18-1_o3on</td>\n",
       "      <td>[14.0, 14.12, 14.24, 13.88, 13.27, 13.63, 13.7...</td>\n",
       "      <td>[59211.0, 34814.0, 30287.0, 24331.0, 23284.0, ...</td>\n",
       "      <td>614.6</td>\n",
       "      <td>586.6</td>\n",
       "      <td>544.6</td>\n",
       "      <td>13.890</td>\n",
       "      <td>27905.7</td>\n",
       "    </tr>\n",
       "    <tr>\n",
       "      <th>2</th>\n",
       "      <td>NaN</td>\n",
       "      <td>698.7</td>\n",
       "      <td>551.6</td>\n",
       "      <td>6.608002e+06</td>\n",
       "      <td>698.7 -&gt; 551.6</td>\n",
       "      <td>NaN</td>\n",
       "      <td>DOD93_F4-5xFAD-Cereb_TG18-1_o3on</td>\n",
       "      <td>[13.63, 12.05, 11.93, 12.17, 14.24, 11.56, 14....</td>\n",
       "      <td>[590.0, 572.0, 571.0, 559.0, 545.0, 539.0, 530...</td>\n",
       "      <td>616.7</td>\n",
       "      <td>588.7</td>\n",
       "      <td>546.7</td>\n",
       "      <td>13.267</td>\n",
       "      <td>545.7</td>\n",
       "    </tr>\n",
       "    <tr>\n",
       "      <th>3</th>\n",
       "      <td>NaN</td>\n",
       "      <td>720.6</td>\n",
       "      <td>573.6</td>\n",
       "      <td>7.330655e+04</td>\n",
       "      <td>720.6 -&gt; 573.6</td>\n",
       "      <td>NaN</td>\n",
       "      <td>DOD93_F4-5xFAD-Cereb_TG18-1_o3on</td>\n",
       "      <td>[12.77, 12.65, 12.9, 13.38, 11.92, 13.02, 13.1...</td>\n",
       "      <td>[3643.0, 2200.0, 2173.0, 1857.0, 1720.0, 1517....</td>\n",
       "      <td>638.6</td>\n",
       "      <td>610.6</td>\n",
       "      <td>568.6</td>\n",
       "      <td>12.810</td>\n",
       "      <td>1839.9</td>\n",
       "    </tr>\n",
       "    <tr>\n",
       "      <th>4</th>\n",
       "      <td>NaN</td>\n",
       "      <td>722.6</td>\n",
       "      <td>575.6</td>\n",
       "      <td>1.428391e+05</td>\n",
       "      <td>722.6 -&gt; 575.6</td>\n",
       "      <td>NaN</td>\n",
       "      <td>DOD93_F4-5xFAD-Cereb_TG18-1_o3on</td>\n",
       "      <td>[13.99, 13.87, 13.02, 14.11, 13.14, 14.23, 13....</td>\n",
       "      <td>[15596.0, 15433.0, 11082.0, 8520.0, 6684.0, 54...</td>\n",
       "      <td>640.6</td>\n",
       "      <td>612.6</td>\n",
       "      <td>570.6</td>\n",
       "      <td>13.954</td>\n",
       "      <td>8052.7</td>\n",
       "    </tr>\n",
       "    <tr>\n",
       "      <th>5</th>\n",
       "      <td>NaN</td>\n",
       "      <td>724.7</td>\n",
       "      <td>577.6</td>\n",
       "      <td>5.815955e+05</td>\n",
       "      <td>724.7 -&gt; 577.6</td>\n",
       "      <td>NaN</td>\n",
       "      <td>DOD93_F4-5xFAD-Cereb_TG18-1_o3on</td>\n",
       "      <td>[12.52, 12.65, 12.77, 15.45, 15.08, 15.33, 12....</td>\n",
       "      <td>[9713.0, 5816.0, 5304.0, 4704.0, 4650.0, 4544....</td>\n",
       "      <td>642.7</td>\n",
       "      <td>614.7</td>\n",
       "      <td>572.7</td>\n",
       "      <td>13.658</td>\n",
       "      <td>5279.4</td>\n",
       "    </tr>\n",
       "    <tr>\n",
       "      <th>6</th>\n",
       "      <td>NaN</td>\n",
       "      <td>736.7</td>\n",
       "      <td>547.6</td>\n",
       "      <td>6.613184e+05</td>\n",
       "      <td>736.7 -&gt; 547.6</td>\n",
       "      <td>NaN</td>\n",
       "      <td>DOD93_F4-5xFAD-Cereb_TG18-1_o3on</td>\n",
       "      <td>[13.74, 13.86, 12.52, 13.98, 12.64, 13.62, 14....</td>\n",
       "      <td>[49935.0, 24015.0, 16103.0, 15897.0, 8576.0, 8...</td>\n",
       "      <td>654.7</td>\n",
       "      <td>626.7</td>\n",
       "      <td>584.7</td>\n",
       "      <td>13.482</td>\n",
       "      <td>14889.3</td>\n",
       "    </tr>\n",
       "    <tr>\n",
       "      <th>7</th>\n",
       "      <td>NaN</td>\n",
       "      <td>738.7</td>\n",
       "      <td>549.6</td>\n",
       "      <td>4.582103e+05</td>\n",
       "      <td>738.7 -&gt; 549.6</td>\n",
       "      <td>NaN</td>\n",
       "      <td>DOD93_F4-5xFAD-Cereb_TG18-1_o3on</td>\n",
       "      <td>[14.95, 15.08, 13.86, 13.98, 12.4, 15.2, 12.52...</td>\n",
       "      <td>[144069.0, 79761.0, 64890.0, 24855.0, 21974.0,...</td>\n",
       "      <td>656.7</td>\n",
       "      <td>628.7</td>\n",
       "      <td>586.7</td>\n",
       "      <td>13.919</td>\n",
       "      <td>41965.3</td>\n",
       "    </tr>\n",
       "    <tr>\n",
       "      <th>8</th>\n",
       "      <td>NaN</td>\n",
       "      <td>740.8</td>\n",
       "      <td>551.6</td>\n",
       "      <td>9.366814e+05</td>\n",
       "      <td>740.8 -&gt; 551.6</td>\n",
       "      <td>NaN</td>\n",
       "      <td>DOD93_F4-5xFAD-Cereb_TG18-1_o3on</td>\n",
       "      <td>[15.19, 11.42, 13.85, 10.81, 12.27, 11.3, 11.1...</td>\n",
       "      <td>[584.0, 496.0, 489.0, 485.0, 482.0, 476.0, 467...</td>\n",
       "      <td>658.8</td>\n",
       "      <td>630.8</td>\n",
       "      <td>588.8</td>\n",
       "      <td>12.563</td>\n",
       "      <td>483.7</td>\n",
       "    </tr>\n",
       "    <tr>\n",
       "      <th>9</th>\n",
       "      <td>NaN</td>\n",
       "      <td>746.8</td>\n",
       "      <td>599.6</td>\n",
       "      <td>1.976136e+05</td>\n",
       "      <td>746.8 -&gt; 599.6</td>\n",
       "      <td>NaN</td>\n",
       "      <td>DOD93_F4-5xFAD-Cereb_TG18-1_o3on</td>\n",
       "      <td>[11.78, 12.63, 13.73, 15.31, 12.88, 12.75, 12....</td>\n",
       "      <td>[985.0, 579.0, 537.0, 528.0, 512.0, 496.0, 482...</td>\n",
       "      <td>664.8</td>\n",
       "      <td>636.8</td>\n",
       "      <td>594.8</td>\n",
       "      <td>13.034</td>\n",
       "      <td>554.9</td>\n",
       "    </tr>\n",
       "    <tr>\n",
       "      <th>10</th>\n",
       "      <td>NaN</td>\n",
       "      <td>748.8</td>\n",
       "      <td>601.6</td>\n",
       "      <td>1.128153e+05</td>\n",
       "      <td>748.8 -&gt; 601.6</td>\n",
       "      <td>NaN</td>\n",
       "      <td>DOD93_F4-5xFAD-Cereb_TG18-1_o3on</td>\n",
       "      <td>[13.85, 13.97, 13.73, 12.99, 14.21, 12.87, 10....</td>\n",
       "      <td>[3845.0, 3193.0, 2624.0, 1952.0, 1749.0, 1742....</td>\n",
       "      <td>666.8</td>\n",
       "      <td>638.8</td>\n",
       "      <td>596.8</td>\n",
       "      <td>12.775</td>\n",
       "      <td>2150.6</td>\n",
       "    </tr>\n",
       "    <tr>\n",
       "      <th>11</th>\n",
       "      <td>NaN</td>\n",
       "      <td>750.8</td>\n",
       "      <td>603.6</td>\n",
       "      <td>5.757424e+05</td>\n",
       "      <td>750.8 -&gt; 603.6</td>\n",
       "      <td>NaN</td>\n",
       "      <td>DOD93_F4-5xFAD-Cereb_TG18-1_o3on</td>\n",
       "      <td>[12.5, 12.38, 12.63, 12.75, 13.36, 13.6, 12.87...</td>\n",
       "      <td>[4476.0, 3326.0, 3091.0, 1104.0, 946.0, 888.0,...</td>\n",
       "      <td>668.8</td>\n",
       "      <td>640.8</td>\n",
       "      <td>598.8</td>\n",
       "      <td>12.943</td>\n",
       "      <td>1717.9</td>\n",
       "    </tr>\n",
       "    <tr>\n",
       "      <th>12</th>\n",
       "      <td>NaN</td>\n",
       "      <td>762.7</td>\n",
       "      <td>573.6</td>\n",
       "      <td>1.173825e+05</td>\n",
       "      <td>762.7 -&gt; 573.6</td>\n",
       "      <td>NaN</td>\n",
       "      <td>DOD93_F4-5xFAD-Cereb_TG18-1_o3on</td>\n",
       "      <td>NaN</td>\n",
       "      <td>NaN</td>\n",
       "      <td>680.7</td>\n",
       "      <td>652.7</td>\n",
       "      <td>610.7</td>\n",
       "      <td>NaN</td>\n",
       "      <td>NaN</td>\n",
       "    </tr>\n",
       "    <tr>\n",
       "      <th>13</th>\n",
       "      <td>NaN</td>\n",
       "      <td>764.7</td>\n",
       "      <td>547.6</td>\n",
       "      <td>1.187571e+06</td>\n",
       "      <td>764.7 -&gt; 547.6</td>\n",
       "      <td>NaN</td>\n",
       "      <td>DOD93_F4-5xFAD-Cereb_TG18-1_o3on</td>\n",
       "      <td>[13.59, 13.72, 13.84, 12.62, 12.5, 13.96, 14.0...</td>\n",
       "      <td>[26821.0, 21714.0, 16608.0, 14136.0, 9047.0, 6...</td>\n",
       "      <td>682.7</td>\n",
       "      <td>654.7</td>\n",
       "      <td>612.7</td>\n",
       "      <td>13.436</td>\n",
       "      <td>10958.7</td>\n",
       "    </tr>\n",
       "    <tr>\n",
       "      <th>14</th>\n",
       "      <td>NaN</td>\n",
       "      <td>764.7</td>\n",
       "      <td>575.6</td>\n",
       "      <td>2.812500e+05</td>\n",
       "      <td>764.7 -&gt; 575.6</td>\n",
       "      <td>NaN</td>\n",
       "      <td>DOD93_F4-5xFAD-Cereb_TG18-1_o3on</td>\n",
       "      <td>NaN</td>\n",
       "      <td>NaN</td>\n",
       "      <td>682.7</td>\n",
       "      <td>654.7</td>\n",
       "      <td>612.7</td>\n",
       "      <td>NaN</td>\n",
       "      <td>NaN</td>\n",
       "    </tr>\n",
       "    <tr>\n",
       "      <th>15</th>\n",
       "      <td>NaN</td>\n",
       "      <td>766.7</td>\n",
       "      <td>549.6</td>\n",
       "      <td>3.307983e+05</td>\n",
       "      <td>766.7 -&gt; 549.6</td>\n",
       "      <td>NaN</td>\n",
       "      <td>DOD93_F4-5xFAD-Cereb_TG18-1_o3on</td>\n",
       "      <td>[14.81, 14.93, 15.05, 12.25, 13.83, 15.17, 15....</td>\n",
       "      <td>[266662.0, 126302.0, 54495.0, 29380.0, 27952.0...</td>\n",
       "      <td>684.7</td>\n",
       "      <td>656.7</td>\n",
       "      <td>614.7</td>\n",
       "      <td>14.355</td>\n",
       "      <td>60730.6</td>\n",
       "    </tr>\n",
       "    <tr>\n",
       "      <th>16</th>\n",
       "      <td>NaN</td>\n",
       "      <td>766.7</td>\n",
       "      <td>577.6</td>\n",
       "      <td>1.179938e+06</td>\n",
       "      <td>766.7 -&gt; 577.6</td>\n",
       "      <td>NaN</td>\n",
       "      <td>DOD93_F4-5xFAD-Cereb_TG18-1_o3on</td>\n",
       "      <td>[14.92, 15.05, 12.49, 12.85, 14.07, 13.95, 13....</td>\n",
       "      <td>[83299.0, 47615.0, 46779.0, 36260.0, 29677.0, ...</td>\n",
       "      <td>684.7</td>\n",
       "      <td>656.7</td>\n",
       "      <td>614.7</td>\n",
       "      <td>13.767</td>\n",
       "      <td>35084.5</td>\n",
       "    </tr>\n",
       "    <tr>\n",
       "      <th>17</th>\n",
       "      <td>NaN</td>\n",
       "      <td>768.8</td>\n",
       "      <td>551.6</td>\n",
       "      <td>7.723013e+05</td>\n",
       "      <td>768.8 -&gt; 551.6</td>\n",
       "      <td>NaN</td>\n",
       "      <td>DOD93_F4-5xFAD-Cereb_TG18-1_o3on</td>\n",
       "      <td>[12.36, 12.48, 12.61, 12.73, 11.87, 13.58, 13....</td>\n",
       "      <td>[8898.0, 8418.0, 2662.0, 947.0, 837.0, 800.0, ...</td>\n",
       "      <td>686.8</td>\n",
       "      <td>658.8</td>\n",
       "      <td>616.8</td>\n",
       "      <td>13.239</td>\n",
       "      <td>2552.2</td>\n",
       "    </tr>\n",
       "    <tr>\n",
       "      <th>18</th>\n",
       "      <td>NaN</td>\n",
       "      <td>788.8</td>\n",
       "      <td>599.6</td>\n",
       "      <td>1.482506e+05</td>\n",
       "      <td>788.8 -&gt; 599.6</td>\n",
       "      <td>NaN</td>\n",
       "      <td>DOD93_F4-5xFAD-Cereb_TG18-1_o3on</td>\n",
       "      <td>[12.48, 12.36, 12.6, 13.7, 13.58, 14.06, 13.82...</td>\n",
       "      <td>[1466.0, 1175.0, 1159.0, 1103.0, 729.0, 720.0,...</td>\n",
       "      <td>706.8</td>\n",
       "      <td>678.8</td>\n",
       "      <td>636.8</td>\n",
       "      <td>13.310</td>\n",
       "      <td>895.9</td>\n",
       "    </tr>\n",
       "    <tr>\n",
       "      <th>19</th>\n",
       "      <td>NaN</td>\n",
       "      <td>790.7</td>\n",
       "      <td>573.6</td>\n",
       "      <td>7.847697e+04</td>\n",
       "      <td>790.7 -&gt; 573.6</td>\n",
       "      <td>NaN</td>\n",
       "      <td>DOD93_F4-5xFAD-Cereb_TG18-1_o3on</td>\n",
       "      <td>[12.48, 12.36, 13.7, 13.57, 13.82, 12.6, 13.45...</td>\n",
       "      <td>[16153.0, 15505.0, 11831.0, 7760.0, 4674.0, 37...</td>\n",
       "      <td>708.7</td>\n",
       "      <td>680.7</td>\n",
       "      <td>638.7</td>\n",
       "      <td>13.416</td>\n",
       "      <td>6922.3</td>\n",
       "    </tr>\n",
       "    <tr>\n",
       "      <th>20</th>\n",
       "      <td>NaN</td>\n",
       "      <td>790.8</td>\n",
       "      <td>601.6</td>\n",
       "      <td>1.952738e+05</td>\n",
       "      <td>790.8 -&gt; 601.6</td>\n",
       "      <td>NaN</td>\n",
       "      <td>DOD93_F4-5xFAD-Cereb_TG18-1_o3on</td>\n",
       "      <td>[13.69, 13.57, 12.6, 11.5, 11.86, 13.81, 14.79...</td>\n",
       "      <td>[18782.0, 7161.0, 6130.0, 5377.0, 5245.0, 5106...</td>\n",
       "      <td>708.8</td>\n",
       "      <td>680.8</td>\n",
       "      <td>638.8</td>\n",
       "      <td>13.058</td>\n",
       "      <td>6204.2</td>\n",
       "    </tr>\n",
       "    <tr>\n",
       "      <th>21</th>\n",
       "      <td>NaN</td>\n",
       "      <td>792.7</td>\n",
       "      <td>575.6</td>\n",
       "      <td>1.903083e+05</td>\n",
       "      <td>792.7 -&gt; 575.6</td>\n",
       "      <td>NaN</td>\n",
       "      <td>DOD93_F4-5xFAD-Cereb_TG18-1_o3on</td>\n",
       "      <td>[14.66, 14.79, 13.57, 13.69, 14.91, 15.03, 15....</td>\n",
       "      <td>[116813.0, 84946.0, 55527.0, 30491.0, 25658.0,...</td>\n",
       "      <td>710.7</td>\n",
       "      <td>682.7</td>\n",
       "      <td>640.7</td>\n",
       "      <td>14.627</td>\n",
       "      <td>35540.3</td>\n",
       "    </tr>\n",
       "    <tr>\n",
       "      <th>22</th>\n",
       "      <td>NaN</td>\n",
       "      <td>792.8</td>\n",
       "      <td>603.6</td>\n",
       "      <td>7.489054e+05</td>\n",
       "      <td>792.8 -&gt; 603.6</td>\n",
       "      <td>NaN</td>\n",
       "      <td>DOD93_F4-5xFAD-Cereb_TG18-1_o3on</td>\n",
       "      <td>[14.78, 12.35, 12.22, 14.9, 13.81, 13.69, 13.9...</td>\n",
       "      <td>[98857.0, 50934.0, 40429.0, 35876.0, 28454.0, ...</td>\n",
       "      <td>710.8</td>\n",
       "      <td>682.8</td>\n",
       "      <td>640.8</td>\n",
       "      <td>13.625</td>\n",
       "      <td>35019.4</td>\n",
       "    </tr>\n",
       "    <tr>\n",
       "      <th>23</th>\n",
       "      <td>NaN</td>\n",
       "      <td>794.7</td>\n",
       "      <td>577.6</td>\n",
       "      <td>6.869375e+05</td>\n",
       "      <td>794.7 -&gt; 577.6</td>\n",
       "      <td>NaN</td>\n",
       "      <td>DOD93_F4-5xFAD-Cereb_TG18-1_o3on</td>\n",
       "      <td>[12.34, 12.46, 13.56, 13.07, 12.59, 13.44, 13....</td>\n",
       "      <td>[2962.0, 1809.0, 1240.0, 1184.0, 973.0, 788.0,...</td>\n",
       "      <td>712.7</td>\n",
       "      <td>684.7</td>\n",
       "      <td>642.7</td>\n",
       "      <td>13.097</td>\n",
       "      <td>1130.5</td>\n",
       "    </tr>\n",
       "    <tr>\n",
       "      <th>24</th>\n",
       "      <td>NaN</td>\n",
       "      <td>816.8</td>\n",
       "      <td>599.6</td>\n",
       "      <td>7.366929e+04</td>\n",
       "      <td>816.8 -&gt; 599.6</td>\n",
       "      <td>NaN</td>\n",
       "      <td>DOD93_F4-5xFAD-Cereb_TG18-1_o3on</td>\n",
       "      <td>[13.68, 12.46, 13.56, 11.36, 14.65, 13.43, 11....</td>\n",
       "      <td>[3524.0, 3097.0, 3028.0, 2994.0, 2649.0, 2531....</td>\n",
       "      <td>734.8</td>\n",
       "      <td>706.8</td>\n",
       "      <td>664.8</td>\n",
       "      <td>13.057</td>\n",
       "      <td>2554.9</td>\n",
       "    </tr>\n",
       "    <tr>\n",
       "      <th>25</th>\n",
       "      <td>NaN</td>\n",
       "      <td>818.8</td>\n",
       "      <td>601.6</td>\n",
       "      <td>1.200953e+05</td>\n",
       "      <td>818.8 -&gt; 601.6</td>\n",
       "      <td>NaN</td>\n",
       "      <td>DOD93_F4-5xFAD-Cereb_TG18-1_o3on</td>\n",
       "      <td>[14.65, 14.77, 12.58, 13.68, 12.21, 13.55, 12....</td>\n",
       "      <td>[25918.0, 15126.0, 9035.0, 8706.0, 7918.0, 768...</td>\n",
       "      <td>736.8</td>\n",
       "      <td>708.8</td>\n",
       "      <td>666.8</td>\n",
       "      <td>13.687</td>\n",
       "      <td>9597.7</td>\n",
       "    </tr>\n",
       "    <tr>\n",
       "      <th>26</th>\n",
       "      <td>NaN</td>\n",
       "      <td>820.8</td>\n",
       "      <td>603.6</td>\n",
       "      <td>4.014192e+05</td>\n",
       "      <td>820.8 -&gt; 603.6</td>\n",
       "      <td>NaN</td>\n",
       "      <td>DOD93_F4-5xFAD-Cereb_TG18-1_o3on</td>\n",
       "      <td>[12.58, 11.36, 12.45, 12.7, 12.82, 11.24, 13.9...</td>\n",
       "      <td>[72587.0, 37467.0, 28283.0, 28006.0, 22476.0, ...</td>\n",
       "      <td>738.8</td>\n",
       "      <td>710.8</td>\n",
       "      <td>668.8</td>\n",
       "      <td>12.833</td>\n",
       "      <td>28495.1</td>\n",
       "    </tr>\n",
       "    <tr>\n",
       "      <th>27</th>\n",
       "      <td>[TG(50:3)]_FA18:1</td>\n",
       "      <td>846.8</td>\n",
       "      <td>547.6</td>\n",
       "      <td>6.869138e+05</td>\n",
       "      <td>846.8 -&gt; 547.6</td>\n",
       "      <td>TAG</td>\n",
       "      <td>DOD93_F4-5xFAD-Cereb_TG18-1_o3on</td>\n",
       "      <td>[13.79, 13.91, 13.67, 14.03, 15.01, 15.13, 14....</td>\n",
       "      <td>[409651.0, 397892.0, 266762.0, 242014.0, 21388...</td>\n",
       "      <td>764.8</td>\n",
       "      <td>736.8</td>\n",
       "      <td>694.8</td>\n",
       "      <td>14.363</td>\n",
       "      <td>201896.1</td>\n",
       "    </tr>\n",
       "    <tr>\n",
       "      <th>28</th>\n",
       "      <td>[TG(51:9),TG(50:2)]_FA18:1</td>\n",
       "      <td>848.8</td>\n",
       "      <td>549.6</td>\n",
       "      <td>3.262575e+06</td>\n",
       "      <td>848.8 -&gt; 549.6</td>\n",
       "      <td>TAG</td>\n",
       "      <td>DOD93_F4-5xFAD-Cereb_TG18-1_o3on</td>\n",
       "      <td>[15.13, 15.01, 15.25, 14.88, 13.91, 15.49, 13....</td>\n",
       "      <td>[2236988.0, 2133766.0, 469327.0, 390090.0, 246...</td>\n",
       "      <td>766.8</td>\n",
       "      <td>738.8</td>\n",
       "      <td>696.8</td>\n",
       "      <td>14.713</td>\n",
       "      <td>627324.1</td>\n",
       "    </tr>\n",
       "    <tr>\n",
       "      <th>29</th>\n",
       "      <td>[TG(51:8),TG(50:1)]_FA18:1</td>\n",
       "      <td>850.8</td>\n",
       "      <td>551.6</td>\n",
       "      <td>8.906404e+06</td>\n",
       "      <td>850.8 -&gt; 551.6</td>\n",
       "      <td>TAG</td>\n",
       "      <td>DOD93_F4-5xFAD-Cereb_TG18-1_o3on</td>\n",
       "      <td>[12.57, 11.23, 11.47, 12.44, 12.69, 11.35, 12....</td>\n",
       "      <td>[159733.0, 86088.0, 70972.0, 67098.0, 36204.0,...</td>\n",
       "      <td>768.8</td>\n",
       "      <td>740.8</td>\n",
       "      <td>698.8</td>\n",
       "      <td>12.591</td>\n",
       "      <td>50922.2</td>\n",
       "    </tr>\n",
       "    <tr>\n",
       "      <th>30</th>\n",
       "      <td>[TG(52:4)]_FA18:1</td>\n",
       "      <td>872.8</td>\n",
       "      <td>573.6</td>\n",
       "      <td>7.219475e+05</td>\n",
       "      <td>872.8 -&gt; 573.6</td>\n",
       "      <td>TAG</td>\n",
       "      <td>DOD93_F4-5xFAD-Cereb_TG18-1_o3on</td>\n",
       "      <td>[13.66, 13.78, 13.9, 15.0, 14.88, 13.54, 14.02...</td>\n",
       "      <td>[928619.0, 844625.0, 549608.0, 234664.0, 14810...</td>\n",
       "      <td>790.8</td>\n",
       "      <td>762.8</td>\n",
       "      <td>720.8</td>\n",
       "      <td>13.964</td>\n",
       "      <td>324192.4</td>\n",
       "    </tr>\n",
       "    <tr>\n",
       "      <th>31</th>\n",
       "      <td>[TG(53:10),TG(52:3)]_FA18:1</td>\n",
       "      <td>874.8</td>\n",
       "      <td>575.6</td>\n",
       "      <td>4.364672e+06</td>\n",
       "      <td>874.8 -&gt; 575.6</td>\n",
       "      <td>TAG</td>\n",
       "      <td>DOD93_F4-5xFAD-Cereb_TG18-1_o3on</td>\n",
       "      <td>[14.99, 14.87, 14.75, 15.12, 13.65, 15.24, 13....</td>\n",
       "      <td>[4376154.0, 3191352.0, 1617697.0, 957348.0, 60...</td>\n",
       "      <td>792.8</td>\n",
       "      <td>764.8</td>\n",
       "      <td>722.8</td>\n",
       "      <td>14.714</td>\n",
       "      <td>1247825.6</td>\n",
       "    </tr>\n",
       "    <tr>\n",
       "      <th>32</th>\n",
       "      <td>[TG(53:9),TG(52:2)]_FA18:1</td>\n",
       "      <td>876.8</td>\n",
       "      <td>577.6</td>\n",
       "      <td>1.805685e+07</td>\n",
       "      <td>876.8 -&gt; 577.6</td>\n",
       "      <td>TAG</td>\n",
       "      <td>DOD93_F4-5xFAD-Cereb_TG18-1_o3on</td>\n",
       "      <td>[12.56, 12.43, 11.34, 11.21, 13.65, 12.68, 11....</td>\n",
       "      <td>[494143.0, 219512.0, 193831.0, 100034.0, 76176...</td>\n",
       "      <td>794.8</td>\n",
       "      <td>766.8</td>\n",
       "      <td>724.8</td>\n",
       "      <td>12.530</td>\n",
       "      <td>126430.9</td>\n",
       "    </tr>\n",
       "    <tr>\n",
       "      <th>33</th>\n",
       "      <td>[TG(54:5)]_FA18:1</td>\n",
       "      <td>898.8</td>\n",
       "      <td>599.6</td>\n",
       "      <td>1.673118e+06</td>\n",
       "      <td>898.8 -&gt; 599.6</td>\n",
       "      <td>TAG</td>\n",
       "      <td>DOD93_F4-5xFAD-Cereb_TG18-1_o3on</td>\n",
       "      <td>[13.65, 13.53, 13.77, 14.87, 12.55, 13.89, 11....</td>\n",
       "      <td>[797129.0, 599317.0, 433993.0, 137065.0, 11610...</td>\n",
       "      <td>816.8</td>\n",
       "      <td>788.8</td>\n",
       "      <td>746.8</td>\n",
       "      <td>13.197</td>\n",
       "      <td>257652.2</td>\n",
       "    </tr>\n",
       "    <tr>\n",
       "      <th>34</th>\n",
       "      <td>[TG(55:11),TG(54:4)]_FA18:1</td>\n",
       "      <td>900.8</td>\n",
       "      <td>601.6</td>\n",
       "      <td>3.305303e+06</td>\n",
       "      <td>900.8 -&gt; 601.6</td>\n",
       "      <td>TAG</td>\n",
       "      <td>DOD93_F4-5xFAD-Cereb_TG18-1_o3on</td>\n",
       "      <td>[14.74, 14.86, 14.98, 14.62, 13.64, 13.52, 15....</td>\n",
       "      <td>[2345724.0, 1759093.0, 668092.0, 602922.0, 360...</td>\n",
       "      <td>818.8</td>\n",
       "      <td>790.8</td>\n",
       "      <td>748.8</td>\n",
       "      <td>14.582</td>\n",
       "      <td>672236.1</td>\n",
       "    </tr>\n",
       "    <tr>\n",
       "      <th>35</th>\n",
       "      <td>[TG(55:10),TG(54:3)]_FA18:1</td>\n",
       "      <td>902.8</td>\n",
       "      <td>603.6</td>\n",
       "      <td>9.339795e+06</td>\n",
       "      <td>902.8 -&gt; 603.6</td>\n",
       "      <td>TAG</td>\n",
       "      <td>DOD93_F4-5xFAD-Cereb_TG18-1_o3on</td>\n",
       "      <td>[15.49, 15.49, 15.49, 15.49, 15.49, 15.49, 15....</td>\n",
       "      <td>[49847000.0, 49845999.0, 49844000.0, 49842999....</td>\n",
       "      <td>820.8</td>\n",
       "      <td>792.8</td>\n",
       "      <td>750.8</td>\n",
       "      <td>15.490</td>\n",
       "      <td>49839599.8</td>\n",
       "    </tr>\n",
       "  </tbody>\n",
       "</table>\n",
       "</div>"
      ],
      "text/plain": [
       "                          Lipid  Parent_Ion  Product_Ion     Intensity  \\\n",
       "0                           NaN       694.6        547.6  2.567996e+05   \n",
       "1                           NaN       696.6        549.6  2.185144e+05   \n",
       "2                           NaN       698.7        551.6  6.608002e+06   \n",
       "3                           NaN       720.6        573.6  7.330655e+04   \n",
       "4                           NaN       722.6        575.6  1.428391e+05   \n",
       "5                           NaN       724.7        577.6  5.815955e+05   \n",
       "6                           NaN       736.7        547.6  6.613184e+05   \n",
       "7                           NaN       738.7        549.6  4.582103e+05   \n",
       "8                           NaN       740.8        551.6  9.366814e+05   \n",
       "9                           NaN       746.8        599.6  1.976136e+05   \n",
       "10                          NaN       748.8        601.6  1.128153e+05   \n",
       "11                          NaN       750.8        603.6  5.757424e+05   \n",
       "12                          NaN       762.7        573.6  1.173825e+05   \n",
       "13                          NaN       764.7        547.6  1.187571e+06   \n",
       "14                          NaN       764.7        575.6  2.812500e+05   \n",
       "15                          NaN       766.7        549.6  3.307983e+05   \n",
       "16                          NaN       766.7        577.6  1.179938e+06   \n",
       "17                          NaN       768.8        551.6  7.723013e+05   \n",
       "18                          NaN       788.8        599.6  1.482506e+05   \n",
       "19                          NaN       790.7        573.6  7.847697e+04   \n",
       "20                          NaN       790.8        601.6  1.952738e+05   \n",
       "21                          NaN       792.7        575.6  1.903083e+05   \n",
       "22                          NaN       792.8        603.6  7.489054e+05   \n",
       "23                          NaN       794.7        577.6  6.869375e+05   \n",
       "24                          NaN       816.8        599.6  7.366929e+04   \n",
       "25                          NaN       818.8        601.6  1.200953e+05   \n",
       "26                          NaN       820.8        603.6  4.014192e+05   \n",
       "27            [TG(50:3)]_FA18:1       846.8        547.6  6.869138e+05   \n",
       "28   [TG(51:9),TG(50:2)]_FA18:1       848.8        549.6  3.262575e+06   \n",
       "29   [TG(51:8),TG(50:1)]_FA18:1       850.8        551.6  8.906404e+06   \n",
       "30            [TG(52:4)]_FA18:1       872.8        573.6  7.219475e+05   \n",
       "31  [TG(53:10),TG(52:3)]_FA18:1       874.8        575.6  4.364672e+06   \n",
       "32   [TG(53:9),TG(52:2)]_FA18:1       876.8        577.6  1.805685e+07   \n",
       "33            [TG(54:5)]_FA18:1       898.8        599.6  1.673118e+06   \n",
       "34  [TG(55:11),TG(54:4)]_FA18:1       900.8        601.6  3.305303e+06   \n",
       "35  [TG(55:10),TG(54:3)]_FA18:1       902.8        603.6  9.339795e+06   \n",
       "\n",
       "        Transition Class                         Sample_ID  \\\n",
       "0   694.6 -> 547.6   NaN  DOD93_F4-5xFAD-Cereb_TG18-1_o3on   \n",
       "1   696.6 -> 549.6   NaN  DOD93_F4-5xFAD-Cereb_TG18-1_o3on   \n",
       "2   698.7 -> 551.6   NaN  DOD93_F4-5xFAD-Cereb_TG18-1_o3on   \n",
       "3   720.6 -> 573.6   NaN  DOD93_F4-5xFAD-Cereb_TG18-1_o3on   \n",
       "4   722.6 -> 575.6   NaN  DOD93_F4-5xFAD-Cereb_TG18-1_o3on   \n",
       "5   724.7 -> 577.6   NaN  DOD93_F4-5xFAD-Cereb_TG18-1_o3on   \n",
       "6   736.7 -> 547.6   NaN  DOD93_F4-5xFAD-Cereb_TG18-1_o3on   \n",
       "7   738.7 -> 549.6   NaN  DOD93_F4-5xFAD-Cereb_TG18-1_o3on   \n",
       "8   740.8 -> 551.6   NaN  DOD93_F4-5xFAD-Cereb_TG18-1_o3on   \n",
       "9   746.8 -> 599.6   NaN  DOD93_F4-5xFAD-Cereb_TG18-1_o3on   \n",
       "10  748.8 -> 601.6   NaN  DOD93_F4-5xFAD-Cereb_TG18-1_o3on   \n",
       "11  750.8 -> 603.6   NaN  DOD93_F4-5xFAD-Cereb_TG18-1_o3on   \n",
       "12  762.7 -> 573.6   NaN  DOD93_F4-5xFAD-Cereb_TG18-1_o3on   \n",
       "13  764.7 -> 547.6   NaN  DOD93_F4-5xFAD-Cereb_TG18-1_o3on   \n",
       "14  764.7 -> 575.6   NaN  DOD93_F4-5xFAD-Cereb_TG18-1_o3on   \n",
       "15  766.7 -> 549.6   NaN  DOD93_F4-5xFAD-Cereb_TG18-1_o3on   \n",
       "16  766.7 -> 577.6   NaN  DOD93_F4-5xFAD-Cereb_TG18-1_o3on   \n",
       "17  768.8 -> 551.6   NaN  DOD93_F4-5xFAD-Cereb_TG18-1_o3on   \n",
       "18  788.8 -> 599.6   NaN  DOD93_F4-5xFAD-Cereb_TG18-1_o3on   \n",
       "19  790.7 -> 573.6   NaN  DOD93_F4-5xFAD-Cereb_TG18-1_o3on   \n",
       "20  790.8 -> 601.6   NaN  DOD93_F4-5xFAD-Cereb_TG18-1_o3on   \n",
       "21  792.7 -> 575.6   NaN  DOD93_F4-5xFAD-Cereb_TG18-1_o3on   \n",
       "22  792.8 -> 603.6   NaN  DOD93_F4-5xFAD-Cereb_TG18-1_o3on   \n",
       "23  794.7 -> 577.6   NaN  DOD93_F4-5xFAD-Cereb_TG18-1_o3on   \n",
       "24  816.8 -> 599.6   NaN  DOD93_F4-5xFAD-Cereb_TG18-1_o3on   \n",
       "25  818.8 -> 601.6   NaN  DOD93_F4-5xFAD-Cereb_TG18-1_o3on   \n",
       "26  820.8 -> 603.6   NaN  DOD93_F4-5xFAD-Cereb_TG18-1_o3on   \n",
       "27  846.8 -> 547.6   TAG  DOD93_F4-5xFAD-Cereb_TG18-1_o3on   \n",
       "28  848.8 -> 549.6   TAG  DOD93_F4-5xFAD-Cereb_TG18-1_o3on   \n",
       "29  850.8 -> 551.6   TAG  DOD93_F4-5xFAD-Cereb_TG18-1_o3on   \n",
       "30  872.8 -> 573.6   TAG  DOD93_F4-5xFAD-Cereb_TG18-1_o3on   \n",
       "31  874.8 -> 575.6   TAG  DOD93_F4-5xFAD-Cereb_TG18-1_o3on   \n",
       "32  876.8 -> 577.6   TAG  DOD93_F4-5xFAD-Cereb_TG18-1_o3on   \n",
       "33  898.8 -> 599.6   TAG  DOD93_F4-5xFAD-Cereb_TG18-1_o3on   \n",
       "34  900.8 -> 601.6   TAG  DOD93_F4-5xFAD-Cereb_TG18-1_o3on   \n",
       "35  902.8 -> 603.6   TAG  DOD93_F4-5xFAD-Cereb_TG18-1_o3on   \n",
       "\n",
       "                                       Retention_Time  \\\n",
       "0   [12.91, 12.79, 13.03, 12.66, 13.39, 13.52, 13....   \n",
       "1   [14.0, 14.12, 14.24, 13.88, 13.27, 13.63, 13.7...   \n",
       "2   [13.63, 12.05, 11.93, 12.17, 14.24, 11.56, 14....   \n",
       "3   [12.77, 12.65, 12.9, 13.38, 11.92, 13.02, 13.1...   \n",
       "4   [13.99, 13.87, 13.02, 14.11, 13.14, 14.23, 13....   \n",
       "5   [12.52, 12.65, 12.77, 15.45, 15.08, 15.33, 12....   \n",
       "6   [13.74, 13.86, 12.52, 13.98, 12.64, 13.62, 14....   \n",
       "7   [14.95, 15.08, 13.86, 13.98, 12.4, 15.2, 12.52...   \n",
       "8   [15.19, 11.42, 13.85, 10.81, 12.27, 11.3, 11.1...   \n",
       "9   [11.78, 12.63, 13.73, 15.31, 12.88, 12.75, 12....   \n",
       "10  [13.85, 13.97, 13.73, 12.99, 14.21, 12.87, 10....   \n",
       "11  [12.5, 12.38, 12.63, 12.75, 13.36, 13.6, 12.87...   \n",
       "12                                                NaN   \n",
       "13  [13.59, 13.72, 13.84, 12.62, 12.5, 13.96, 14.0...   \n",
       "14                                                NaN   \n",
       "15  [14.81, 14.93, 15.05, 12.25, 13.83, 15.17, 15....   \n",
       "16  [14.92, 15.05, 12.49, 12.85, 14.07, 13.95, 13....   \n",
       "17  [12.36, 12.48, 12.61, 12.73, 11.87, 13.58, 13....   \n",
       "18  [12.48, 12.36, 12.6, 13.7, 13.58, 14.06, 13.82...   \n",
       "19  [12.48, 12.36, 13.7, 13.57, 13.82, 12.6, 13.45...   \n",
       "20  [13.69, 13.57, 12.6, 11.5, 11.86, 13.81, 14.79...   \n",
       "21  [14.66, 14.79, 13.57, 13.69, 14.91, 15.03, 15....   \n",
       "22  [14.78, 12.35, 12.22, 14.9, 13.81, 13.69, 13.9...   \n",
       "23  [12.34, 12.46, 13.56, 13.07, 12.59, 13.44, 13....   \n",
       "24  [13.68, 12.46, 13.56, 11.36, 14.65, 13.43, 11....   \n",
       "25  [14.65, 14.77, 12.58, 13.68, 12.21, 13.55, 12....   \n",
       "26  [12.58, 11.36, 12.45, 12.7, 12.82, 11.24, 13.9...   \n",
       "27  [13.79, 13.91, 13.67, 14.03, 15.01, 15.13, 14....   \n",
       "28  [15.13, 15.01, 15.25, 14.88, 13.91, 15.49, 13....   \n",
       "29  [12.57, 11.23, 11.47, 12.44, 12.69, 11.35, 12....   \n",
       "30  [13.66, 13.78, 13.9, 15.0, 14.88, 13.54, 14.02...   \n",
       "31  [14.99, 14.87, 14.75, 15.12, 13.65, 15.24, 13....   \n",
       "32  [12.56, 12.43, 11.34, 11.21, 13.65, 12.68, 11....   \n",
       "33  [13.65, 13.53, 13.77, 14.87, 12.55, 13.89, 11....   \n",
       "34  [14.74, 14.86, 14.98, 14.62, 13.64, 13.52, 15....   \n",
       "35  [15.49, 15.49, 15.49, 15.49, 15.49, 15.49, 15....   \n",
       "\n",
       "                                      Intensity_OzESI    n-7    n-9   n-12  \\\n",
       "0   [18586.0, 9281.0, 4929.0, 4516.0, 4198.0, 3581...  612.6  584.6  542.6   \n",
       "1   [59211.0, 34814.0, 30287.0, 24331.0, 23284.0, ...  614.6  586.6  544.6   \n",
       "2   [590.0, 572.0, 571.0, 559.0, 545.0, 539.0, 530...  616.7  588.7  546.7   \n",
       "3   [3643.0, 2200.0, 2173.0, 1857.0, 1720.0, 1517....  638.6  610.6  568.6   \n",
       "4   [15596.0, 15433.0, 11082.0, 8520.0, 6684.0, 54...  640.6  612.6  570.6   \n",
       "5   [9713.0, 5816.0, 5304.0, 4704.0, 4650.0, 4544....  642.7  614.7  572.7   \n",
       "6   [49935.0, 24015.0, 16103.0, 15897.0, 8576.0, 8...  654.7  626.7  584.7   \n",
       "7   [144069.0, 79761.0, 64890.0, 24855.0, 21974.0,...  656.7  628.7  586.7   \n",
       "8   [584.0, 496.0, 489.0, 485.0, 482.0, 476.0, 467...  658.8  630.8  588.8   \n",
       "9   [985.0, 579.0, 537.0, 528.0, 512.0, 496.0, 482...  664.8  636.8  594.8   \n",
       "10  [3845.0, 3193.0, 2624.0, 1952.0, 1749.0, 1742....  666.8  638.8  596.8   \n",
       "11  [4476.0, 3326.0, 3091.0, 1104.0, 946.0, 888.0,...  668.8  640.8  598.8   \n",
       "12                                                NaN  680.7  652.7  610.7   \n",
       "13  [26821.0, 21714.0, 16608.0, 14136.0, 9047.0, 6...  682.7  654.7  612.7   \n",
       "14                                                NaN  682.7  654.7  612.7   \n",
       "15  [266662.0, 126302.0, 54495.0, 29380.0, 27952.0...  684.7  656.7  614.7   \n",
       "16  [83299.0, 47615.0, 46779.0, 36260.0, 29677.0, ...  684.7  656.7  614.7   \n",
       "17  [8898.0, 8418.0, 2662.0, 947.0, 837.0, 800.0, ...  686.8  658.8  616.8   \n",
       "18  [1466.0, 1175.0, 1159.0, 1103.0, 729.0, 720.0,...  706.8  678.8  636.8   \n",
       "19  [16153.0, 15505.0, 11831.0, 7760.0, 4674.0, 37...  708.7  680.7  638.7   \n",
       "20  [18782.0, 7161.0, 6130.0, 5377.0, 5245.0, 5106...  708.8  680.8  638.8   \n",
       "21  [116813.0, 84946.0, 55527.0, 30491.0, 25658.0,...  710.7  682.7  640.7   \n",
       "22  [98857.0, 50934.0, 40429.0, 35876.0, 28454.0, ...  710.8  682.8  640.8   \n",
       "23  [2962.0, 1809.0, 1240.0, 1184.0, 973.0, 788.0,...  712.7  684.7  642.7   \n",
       "24  [3524.0, 3097.0, 3028.0, 2994.0, 2649.0, 2531....  734.8  706.8  664.8   \n",
       "25  [25918.0, 15126.0, 9035.0, 8706.0, 7918.0, 768...  736.8  708.8  666.8   \n",
       "26  [72587.0, 37467.0, 28283.0, 28006.0, 22476.0, ...  738.8  710.8  668.8   \n",
       "27  [409651.0, 397892.0, 266762.0, 242014.0, 21388...  764.8  736.8  694.8   \n",
       "28  [2236988.0, 2133766.0, 469327.0, 390090.0, 246...  766.8  738.8  696.8   \n",
       "29  [159733.0, 86088.0, 70972.0, 67098.0, 36204.0,...  768.8  740.8  698.8   \n",
       "30  [928619.0, 844625.0, 549608.0, 234664.0, 14810...  790.8  762.8  720.8   \n",
       "31  [4376154.0, 3191352.0, 1617697.0, 957348.0, 60...  792.8  764.8  722.8   \n",
       "32  [494143.0, 219512.0, 193831.0, 100034.0, 76176...  794.8  766.8  724.8   \n",
       "33  [797129.0, 599317.0, 433993.0, 137065.0, 11610...  816.8  788.8  746.8   \n",
       "34  [2345724.0, 1759093.0, 668092.0, 602922.0, 360...  818.8  790.8  748.8   \n",
       "35  [49847000.0, 49845999.0, 49844000.0, 49842999....  820.8  792.8  750.8   \n",
       "\n",
       "    Mean_Retention_Time  Mean_Intensity_OzESI  \n",
       "0                12.895                5906.9  \n",
       "1                13.890               27905.7  \n",
       "2                13.267                 545.7  \n",
       "3                12.810                1839.9  \n",
       "4                13.954                8052.7  \n",
       "5                13.658                5279.4  \n",
       "6                13.482               14889.3  \n",
       "7                13.919               41965.3  \n",
       "8                12.563                 483.7  \n",
       "9                13.034                 554.9  \n",
       "10               12.775                2150.6  \n",
       "11               12.943                1717.9  \n",
       "12                  NaN                   NaN  \n",
       "13               13.436               10958.7  \n",
       "14                  NaN                   NaN  \n",
       "15               14.355               60730.6  \n",
       "16               13.767               35084.5  \n",
       "17               13.239                2552.2  \n",
       "18               13.310                 895.9  \n",
       "19               13.416                6922.3  \n",
       "20               13.058                6204.2  \n",
       "21               14.627               35540.3  \n",
       "22               13.625               35019.4  \n",
       "23               13.097                1130.5  \n",
       "24               13.057                2554.9  \n",
       "25               13.687                9597.7  \n",
       "26               12.833               28495.1  \n",
       "27               14.363              201896.1  \n",
       "28               14.713              627324.1  \n",
       "29               12.591               50922.2  \n",
       "30               13.964              324192.4  \n",
       "31               14.714             1247825.6  \n",
       "32               12.530              126430.9  \n",
       "33               13.197              257652.2  \n",
       "34               14.582              672236.1  \n",
       "35               15.490            49839599.8  "
      ]
     },
     "execution_count": 71,
     "metadata": {},
     "output_type": "execute_result"
    }
   ],
   "source": [
    "df_OzESI_processed.head(None)"
   ]
  },
  {
   "cell_type": "code",
   "execution_count": 72,
   "metadata": {},
   "outputs": [
    {
     "data": {
      "text/html": [
       "<div>\n",
       "<style scoped>\n",
       "    .dataframe tbody tr th:only-of-type {\n",
       "        vertical-align: middle;\n",
       "    }\n",
       "\n",
       "    .dataframe tbody tr th {\n",
       "        vertical-align: top;\n",
       "    }\n",
       "\n",
       "    .dataframe thead th {\n",
       "        text-align: right;\n",
       "    }\n",
       "</style>\n",
       "<table border=\"1\" class=\"dataframe\">\n",
       "  <thead>\n",
       "    <tr style=\"text-align: right;\">\n",
       "      <th></th>\n",
       "      <th>Lipid</th>\n",
       "      <th>Parent_Ion</th>\n",
       "      <th>Product_Ion</th>\n",
       "      <th>Intensity</th>\n",
       "      <th>Transition</th>\n",
       "      <th>Class</th>\n",
       "      <th>Sample_ID</th>\n",
       "      <th>Retention_Time</th>\n",
       "      <th>Intensity_OzESI</th>\n",
       "      <th>n-7</th>\n",
       "      <th>n-9</th>\n",
       "      <th>n-12</th>\n",
       "      <th>Mean_Retention_Time</th>\n",
       "      <th>Mean_Intensity_OzESI</th>\n",
       "    </tr>\n",
       "  </thead>\n",
       "  <tbody>\n",
       "    <tr>\n",
       "      <th>8</th>\n",
       "      <td>n-9 [TG(51:8),TG(50:1)]_FA18:1</td>\n",
       "      <td>740.8</td>\n",
       "      <td>551.6</td>\n",
       "      <td>9.366814e+05</td>\n",
       "      <td>740.8 -&gt; 551.6</td>\n",
       "      <td>NaN</td>\n",
       "      <td>DOD93_F4-5xFAD-Cereb_TG18-1_o3on</td>\n",
       "      <td>[15.19, 11.42, 13.85, 10.81, 12.27, 11.3, 11.1...</td>\n",
       "      <td>[584.0, 496.0, 489.0, 485.0, 482.0, 476.0, 467...</td>\n",
       "      <td>658.8</td>\n",
       "      <td>630.8</td>\n",
       "      <td>588.8</td>\n",
       "      <td>12.563</td>\n",
       "      <td>483.7</td>\n",
       "    </tr>\n",
       "    <tr>\n",
       "      <th>9</th>\n",
       "      <td>n-12 [TG(54:5)]_FA18:1</td>\n",
       "      <td>746.8</td>\n",
       "      <td>599.6</td>\n",
       "      <td>1.976136e+05</td>\n",
       "      <td>746.8 -&gt; 599.6</td>\n",
       "      <td>NaN</td>\n",
       "      <td>DOD93_F4-5xFAD-Cereb_TG18-1_o3on</td>\n",
       "      <td>[11.78, 12.63, 13.73, 15.31, 12.88, 12.75, 12....</td>\n",
       "      <td>[985.0, 579.0, 537.0, 528.0, 512.0, 496.0, 482...</td>\n",
       "      <td>664.8</td>\n",
       "      <td>636.8</td>\n",
       "      <td>594.8</td>\n",
       "      <td>13.034</td>\n",
       "      <td>554.9</td>\n",
       "    </tr>\n",
       "    <tr>\n",
       "      <th>10</th>\n",
       "      <td>n-12 [TG(55:11),TG(54:4)]_FA18:1</td>\n",
       "      <td>748.8</td>\n",
       "      <td>601.6</td>\n",
       "      <td>1.128153e+05</td>\n",
       "      <td>748.8 -&gt; 601.6</td>\n",
       "      <td>NaN</td>\n",
       "      <td>DOD93_F4-5xFAD-Cereb_TG18-1_o3on</td>\n",
       "      <td>[13.85, 13.97, 13.73, 12.99, 14.21, 12.87, 10....</td>\n",
       "      <td>[3845.0, 3193.0, 2624.0, 1952.0, 1749.0, 1742....</td>\n",
       "      <td>666.8</td>\n",
       "      <td>638.8</td>\n",
       "      <td>596.8</td>\n",
       "      <td>12.775</td>\n",
       "      <td>2150.6</td>\n",
       "    </tr>\n",
       "    <tr>\n",
       "      <th>11</th>\n",
       "      <td>n-12 [TG(55:10),TG(54:3)]_FA18:1</td>\n",
       "      <td>750.8</td>\n",
       "      <td>603.6</td>\n",
       "      <td>5.757424e+05</td>\n",
       "      <td>750.8 -&gt; 603.6</td>\n",
       "      <td>NaN</td>\n",
       "      <td>DOD93_F4-5xFAD-Cereb_TG18-1_o3on</td>\n",
       "      <td>[12.5, 12.38, 12.63, 12.75, 13.36, 13.6, 12.87...</td>\n",
       "      <td>[4476.0, 3326.0, 3091.0, 1104.0, 946.0, 888.0,...</td>\n",
       "      <td>668.8</td>\n",
       "      <td>640.8</td>\n",
       "      <td>598.8</td>\n",
       "      <td>12.943</td>\n",
       "      <td>1717.9</td>\n",
       "    </tr>\n",
       "    <tr>\n",
       "      <th>17</th>\n",
       "      <td>n-7 [TG(51:8),TG(50:1)]_FA18:1</td>\n",
       "      <td>768.8</td>\n",
       "      <td>551.6</td>\n",
       "      <td>7.723013e+05</td>\n",
       "      <td>768.8 -&gt; 551.6</td>\n",
       "      <td>NaN</td>\n",
       "      <td>DOD93_F4-5xFAD-Cereb_TG18-1_o3on</td>\n",
       "      <td>[12.36, 12.48, 12.61, 12.73, 11.87, 13.58, 13....</td>\n",
       "      <td>[8898.0, 8418.0, 2662.0, 947.0, 837.0, 800.0, ...</td>\n",
       "      <td>686.8</td>\n",
       "      <td>658.8</td>\n",
       "      <td>616.8</td>\n",
       "      <td>13.239</td>\n",
       "      <td>2552.2</td>\n",
       "    </tr>\n",
       "    <tr>\n",
       "      <th>18</th>\n",
       "      <td>n-9 [TG(54:5)]_FA18:1</td>\n",
       "      <td>788.8</td>\n",
       "      <td>599.6</td>\n",
       "      <td>1.482506e+05</td>\n",
       "      <td>788.8 -&gt; 599.6</td>\n",
       "      <td>NaN</td>\n",
       "      <td>DOD93_F4-5xFAD-Cereb_TG18-1_o3on</td>\n",
       "      <td>[12.48, 12.36, 12.6, 13.7, 13.58, 14.06, 13.82...</td>\n",
       "      <td>[1466.0, 1175.0, 1159.0, 1103.0, 729.0, 720.0,...</td>\n",
       "      <td>706.8</td>\n",
       "      <td>678.8</td>\n",
       "      <td>636.8</td>\n",
       "      <td>13.310</td>\n",
       "      <td>895.9</td>\n",
       "    </tr>\n",
       "    <tr>\n",
       "      <th>20</th>\n",
       "      <td>n-9 [TG(55:11),TG(54:4)]_FA18:1</td>\n",
       "      <td>790.8</td>\n",
       "      <td>601.6</td>\n",
       "      <td>1.952738e+05</td>\n",
       "      <td>790.8 -&gt; 601.6</td>\n",
       "      <td>NaN</td>\n",
       "      <td>DOD93_F4-5xFAD-Cereb_TG18-1_o3on</td>\n",
       "      <td>[13.69, 13.57, 12.6, 11.5, 11.86, 13.81, 14.79...</td>\n",
       "      <td>[18782.0, 7161.0, 6130.0, 5377.0, 5245.0, 5106...</td>\n",
       "      <td>708.8</td>\n",
       "      <td>680.8</td>\n",
       "      <td>638.8</td>\n",
       "      <td>13.058</td>\n",
       "      <td>6204.2</td>\n",
       "    </tr>\n",
       "    <tr>\n",
       "      <th>22</th>\n",
       "      <td>n-9 [TG(55:10),TG(54:3)]_FA18:1</td>\n",
       "      <td>792.8</td>\n",
       "      <td>603.6</td>\n",
       "      <td>7.489054e+05</td>\n",
       "      <td>792.8 -&gt; 603.6</td>\n",
       "      <td>NaN</td>\n",
       "      <td>DOD93_F4-5xFAD-Cereb_TG18-1_o3on</td>\n",
       "      <td>[14.78, 12.35, 12.22, 14.9, 13.81, 13.69, 13.9...</td>\n",
       "      <td>[98857.0, 50934.0, 40429.0, 35876.0, 28454.0, ...</td>\n",
       "      <td>710.8</td>\n",
       "      <td>682.8</td>\n",
       "      <td>640.8</td>\n",
       "      <td>13.625</td>\n",
       "      <td>35019.4</td>\n",
       "    </tr>\n",
       "    <tr>\n",
       "      <th>24</th>\n",
       "      <td>n-7 [TG(54:5)]_FA18:1</td>\n",
       "      <td>816.8</td>\n",
       "      <td>599.6</td>\n",
       "      <td>7.366929e+04</td>\n",
       "      <td>816.8 -&gt; 599.6</td>\n",
       "      <td>NaN</td>\n",
       "      <td>DOD93_F4-5xFAD-Cereb_TG18-1_o3on</td>\n",
       "      <td>[13.68, 12.46, 13.56, 11.36, 14.65, 13.43, 11....</td>\n",
       "      <td>[3524.0, 3097.0, 3028.0, 2994.0, 2649.0, 2531....</td>\n",
       "      <td>734.8</td>\n",
       "      <td>706.8</td>\n",
       "      <td>664.8</td>\n",
       "      <td>13.057</td>\n",
       "      <td>2554.9</td>\n",
       "    </tr>\n",
       "    <tr>\n",
       "      <th>25</th>\n",
       "      <td>n-7 [TG(55:11),TG(54:4)]_FA18:1</td>\n",
       "      <td>818.8</td>\n",
       "      <td>601.6</td>\n",
       "      <td>1.200953e+05</td>\n",
       "      <td>818.8 -&gt; 601.6</td>\n",
       "      <td>NaN</td>\n",
       "      <td>DOD93_F4-5xFAD-Cereb_TG18-1_o3on</td>\n",
       "      <td>[14.65, 14.77, 12.58, 13.68, 12.21, 13.55, 12....</td>\n",
       "      <td>[25918.0, 15126.0, 9035.0, 8706.0, 7918.0, 768...</td>\n",
       "      <td>736.8</td>\n",
       "      <td>708.8</td>\n",
       "      <td>666.8</td>\n",
       "      <td>13.687</td>\n",
       "      <td>9597.7</td>\n",
       "    </tr>\n",
       "    <tr>\n",
       "      <th>26</th>\n",
       "      <td>n-7 [TG(55:10),TG(54:3)]_FA18:1</td>\n",
       "      <td>820.8</td>\n",
       "      <td>603.6</td>\n",
       "      <td>4.014192e+05</td>\n",
       "      <td>820.8 -&gt; 603.6</td>\n",
       "      <td>NaN</td>\n",
       "      <td>DOD93_F4-5xFAD-Cereb_TG18-1_o3on</td>\n",
       "      <td>[12.58, 11.36, 12.45, 12.7, 12.82, 11.24, 13.9...</td>\n",
       "      <td>[72587.0, 37467.0, 28283.0, 28006.0, 22476.0, ...</td>\n",
       "      <td>738.8</td>\n",
       "      <td>710.8</td>\n",
       "      <td>668.8</td>\n",
       "      <td>12.833</td>\n",
       "      <td>28495.1</td>\n",
       "    </tr>\n",
       "    <tr>\n",
       "      <th>27</th>\n",
       "      <td>[TG(50:3)]_FA18:1</td>\n",
       "      <td>846.8</td>\n",
       "      <td>547.6</td>\n",
       "      <td>6.869138e+05</td>\n",
       "      <td>846.8 -&gt; 547.6</td>\n",
       "      <td>TAG</td>\n",
       "      <td>DOD93_F4-5xFAD-Cereb_TG18-1_o3on</td>\n",
       "      <td>[13.79, 13.91, 13.67, 14.03, 15.01, 15.13, 14....</td>\n",
       "      <td>[409651.0, 397892.0, 266762.0, 242014.0, 21388...</td>\n",
       "      <td>764.8</td>\n",
       "      <td>736.8</td>\n",
       "      <td>694.8</td>\n",
       "      <td>14.363</td>\n",
       "      <td>201896.1</td>\n",
       "    </tr>\n",
       "    <tr>\n",
       "      <th>28</th>\n",
       "      <td>[TG(51:9),TG(50:2)]_FA18:1</td>\n",
       "      <td>848.8</td>\n",
       "      <td>549.6</td>\n",
       "      <td>3.262575e+06</td>\n",
       "      <td>848.8 -&gt; 549.6</td>\n",
       "      <td>TAG</td>\n",
       "      <td>DOD93_F4-5xFAD-Cereb_TG18-1_o3on</td>\n",
       "      <td>[15.13, 15.01, 15.25, 14.88, 13.91, 15.49, 13....</td>\n",
       "      <td>[2236988.0, 2133766.0, 469327.0, 390090.0, 246...</td>\n",
       "      <td>766.8</td>\n",
       "      <td>738.8</td>\n",
       "      <td>696.8</td>\n",
       "      <td>14.713</td>\n",
       "      <td>627324.1</td>\n",
       "    </tr>\n",
       "    <tr>\n",
       "      <th>29</th>\n",
       "      <td>[TG(51:8),TG(50:1)]_FA18:1</td>\n",
       "      <td>850.8</td>\n",
       "      <td>551.6</td>\n",
       "      <td>8.906404e+06</td>\n",
       "      <td>850.8 -&gt; 551.6</td>\n",
       "      <td>TAG</td>\n",
       "      <td>DOD93_F4-5xFAD-Cereb_TG18-1_o3on</td>\n",
       "      <td>[12.57, 11.23, 11.47, 12.44, 12.69, 11.35, 12....</td>\n",
       "      <td>[159733.0, 86088.0, 70972.0, 67098.0, 36204.0,...</td>\n",
       "      <td>768.8</td>\n",
       "      <td>740.8</td>\n",
       "      <td>698.8</td>\n",
       "      <td>12.591</td>\n",
       "      <td>50922.2</td>\n",
       "    </tr>\n",
       "    <tr>\n",
       "      <th>30</th>\n",
       "      <td>[TG(52:4)]_FA18:1</td>\n",
       "      <td>872.8</td>\n",
       "      <td>573.6</td>\n",
       "      <td>7.219475e+05</td>\n",
       "      <td>872.8 -&gt; 573.6</td>\n",
       "      <td>TAG</td>\n",
       "      <td>DOD93_F4-5xFAD-Cereb_TG18-1_o3on</td>\n",
       "      <td>[13.66, 13.78, 13.9, 15.0, 14.88, 13.54, 14.02...</td>\n",
       "      <td>[928619.0, 844625.0, 549608.0, 234664.0, 14810...</td>\n",
       "      <td>790.8</td>\n",
       "      <td>762.8</td>\n",
       "      <td>720.8</td>\n",
       "      <td>13.964</td>\n",
       "      <td>324192.4</td>\n",
       "    </tr>\n",
       "    <tr>\n",
       "      <th>31</th>\n",
       "      <td>[TG(53:10),TG(52:3)]_FA18:1</td>\n",
       "      <td>874.8</td>\n",
       "      <td>575.6</td>\n",
       "      <td>4.364672e+06</td>\n",
       "      <td>874.8 -&gt; 575.6</td>\n",
       "      <td>TAG</td>\n",
       "      <td>DOD93_F4-5xFAD-Cereb_TG18-1_o3on</td>\n",
       "      <td>[14.99, 14.87, 14.75, 15.12, 13.65, 15.24, 13....</td>\n",
       "      <td>[4376154.0, 3191352.0, 1617697.0, 957348.0, 60...</td>\n",
       "      <td>792.8</td>\n",
       "      <td>764.8</td>\n",
       "      <td>722.8</td>\n",
       "      <td>14.714</td>\n",
       "      <td>1247825.6</td>\n",
       "    </tr>\n",
       "    <tr>\n",
       "      <th>32</th>\n",
       "      <td>[TG(53:9),TG(52:2)]_FA18:1</td>\n",
       "      <td>876.8</td>\n",
       "      <td>577.6</td>\n",
       "      <td>1.805685e+07</td>\n",
       "      <td>876.8 -&gt; 577.6</td>\n",
       "      <td>TAG</td>\n",
       "      <td>DOD93_F4-5xFAD-Cereb_TG18-1_o3on</td>\n",
       "      <td>[12.56, 12.43, 11.34, 11.21, 13.65, 12.68, 11....</td>\n",
       "      <td>[494143.0, 219512.0, 193831.0, 100034.0, 76176...</td>\n",
       "      <td>794.8</td>\n",
       "      <td>766.8</td>\n",
       "      <td>724.8</td>\n",
       "      <td>12.530</td>\n",
       "      <td>126430.9</td>\n",
       "    </tr>\n",
       "    <tr>\n",
       "      <th>33</th>\n",
       "      <td>[TG(54:5)]_FA18:1</td>\n",
       "      <td>898.8</td>\n",
       "      <td>599.6</td>\n",
       "      <td>1.673118e+06</td>\n",
       "      <td>898.8 -&gt; 599.6</td>\n",
       "      <td>TAG</td>\n",
       "      <td>DOD93_F4-5xFAD-Cereb_TG18-1_o3on</td>\n",
       "      <td>[13.65, 13.53, 13.77, 14.87, 12.55, 13.89, 11....</td>\n",
       "      <td>[797129.0, 599317.0, 433993.0, 137065.0, 11610...</td>\n",
       "      <td>816.8</td>\n",
       "      <td>788.8</td>\n",
       "      <td>746.8</td>\n",
       "      <td>13.197</td>\n",
       "      <td>257652.2</td>\n",
       "    </tr>\n",
       "    <tr>\n",
       "      <th>34</th>\n",
       "      <td>[TG(55:11),TG(54:4)]_FA18:1</td>\n",
       "      <td>900.8</td>\n",
       "      <td>601.6</td>\n",
       "      <td>3.305303e+06</td>\n",
       "      <td>900.8 -&gt; 601.6</td>\n",
       "      <td>TAG</td>\n",
       "      <td>DOD93_F4-5xFAD-Cereb_TG18-1_o3on</td>\n",
       "      <td>[14.74, 14.86, 14.98, 14.62, 13.64, 13.52, 15....</td>\n",
       "      <td>[2345724.0, 1759093.0, 668092.0, 602922.0, 360...</td>\n",
       "      <td>818.8</td>\n",
       "      <td>790.8</td>\n",
       "      <td>748.8</td>\n",
       "      <td>14.582</td>\n",
       "      <td>672236.1</td>\n",
       "    </tr>\n",
       "    <tr>\n",
       "      <th>35</th>\n",
       "      <td>[TG(55:10),TG(54:3)]_FA18:1</td>\n",
       "      <td>902.8</td>\n",
       "      <td>603.6</td>\n",
       "      <td>9.339795e+06</td>\n",
       "      <td>902.8 -&gt; 603.6</td>\n",
       "      <td>TAG</td>\n",
       "      <td>DOD93_F4-5xFAD-Cereb_TG18-1_o3on</td>\n",
       "      <td>[15.49, 15.49, 15.49, 15.49, 15.49, 15.49, 15....</td>\n",
       "      <td>[49847000.0, 49845999.0, 49844000.0, 49842999....</td>\n",
       "      <td>820.8</td>\n",
       "      <td>792.8</td>\n",
       "      <td>750.8</td>\n",
       "      <td>15.490</td>\n",
       "      <td>49839599.8</td>\n",
       "    </tr>\n",
       "  </tbody>\n",
       "</table>\n",
       "</div>"
      ],
      "text/plain": [
       "                               Lipid  Parent_Ion  Product_Ion     Intensity  \\\n",
       "8     n-9 [TG(51:8),TG(50:1)]_FA18:1       740.8        551.6  9.366814e+05   \n",
       "9             n-12 [TG(54:5)]_FA18:1       746.8        599.6  1.976136e+05   \n",
       "10  n-12 [TG(55:11),TG(54:4)]_FA18:1       748.8        601.6  1.128153e+05   \n",
       "11  n-12 [TG(55:10),TG(54:3)]_FA18:1       750.8        603.6  5.757424e+05   \n",
       "17    n-7 [TG(51:8),TG(50:1)]_FA18:1       768.8        551.6  7.723013e+05   \n",
       "18             n-9 [TG(54:5)]_FA18:1       788.8        599.6  1.482506e+05   \n",
       "20   n-9 [TG(55:11),TG(54:4)]_FA18:1       790.8        601.6  1.952738e+05   \n",
       "22   n-9 [TG(55:10),TG(54:3)]_FA18:1       792.8        603.6  7.489054e+05   \n",
       "24             n-7 [TG(54:5)]_FA18:1       816.8        599.6  7.366929e+04   \n",
       "25   n-7 [TG(55:11),TG(54:4)]_FA18:1       818.8        601.6  1.200953e+05   \n",
       "26   n-7 [TG(55:10),TG(54:3)]_FA18:1       820.8        603.6  4.014192e+05   \n",
       "27                 [TG(50:3)]_FA18:1       846.8        547.6  6.869138e+05   \n",
       "28        [TG(51:9),TG(50:2)]_FA18:1       848.8        549.6  3.262575e+06   \n",
       "29        [TG(51:8),TG(50:1)]_FA18:1       850.8        551.6  8.906404e+06   \n",
       "30                 [TG(52:4)]_FA18:1       872.8        573.6  7.219475e+05   \n",
       "31       [TG(53:10),TG(52:3)]_FA18:1       874.8        575.6  4.364672e+06   \n",
       "32        [TG(53:9),TG(52:2)]_FA18:1       876.8        577.6  1.805685e+07   \n",
       "33                 [TG(54:5)]_FA18:1       898.8        599.6  1.673118e+06   \n",
       "34       [TG(55:11),TG(54:4)]_FA18:1       900.8        601.6  3.305303e+06   \n",
       "35       [TG(55:10),TG(54:3)]_FA18:1       902.8        603.6  9.339795e+06   \n",
       "\n",
       "        Transition Class                         Sample_ID  \\\n",
       "8   740.8 -> 551.6   NaN  DOD93_F4-5xFAD-Cereb_TG18-1_o3on   \n",
       "9   746.8 -> 599.6   NaN  DOD93_F4-5xFAD-Cereb_TG18-1_o3on   \n",
       "10  748.8 -> 601.6   NaN  DOD93_F4-5xFAD-Cereb_TG18-1_o3on   \n",
       "11  750.8 -> 603.6   NaN  DOD93_F4-5xFAD-Cereb_TG18-1_o3on   \n",
       "17  768.8 -> 551.6   NaN  DOD93_F4-5xFAD-Cereb_TG18-1_o3on   \n",
       "18  788.8 -> 599.6   NaN  DOD93_F4-5xFAD-Cereb_TG18-1_o3on   \n",
       "20  790.8 -> 601.6   NaN  DOD93_F4-5xFAD-Cereb_TG18-1_o3on   \n",
       "22  792.8 -> 603.6   NaN  DOD93_F4-5xFAD-Cereb_TG18-1_o3on   \n",
       "24  816.8 -> 599.6   NaN  DOD93_F4-5xFAD-Cereb_TG18-1_o3on   \n",
       "25  818.8 -> 601.6   NaN  DOD93_F4-5xFAD-Cereb_TG18-1_o3on   \n",
       "26  820.8 -> 603.6   NaN  DOD93_F4-5xFAD-Cereb_TG18-1_o3on   \n",
       "27  846.8 -> 547.6   TAG  DOD93_F4-5xFAD-Cereb_TG18-1_o3on   \n",
       "28  848.8 -> 549.6   TAG  DOD93_F4-5xFAD-Cereb_TG18-1_o3on   \n",
       "29  850.8 -> 551.6   TAG  DOD93_F4-5xFAD-Cereb_TG18-1_o3on   \n",
       "30  872.8 -> 573.6   TAG  DOD93_F4-5xFAD-Cereb_TG18-1_o3on   \n",
       "31  874.8 -> 575.6   TAG  DOD93_F4-5xFAD-Cereb_TG18-1_o3on   \n",
       "32  876.8 -> 577.6   TAG  DOD93_F4-5xFAD-Cereb_TG18-1_o3on   \n",
       "33  898.8 -> 599.6   TAG  DOD93_F4-5xFAD-Cereb_TG18-1_o3on   \n",
       "34  900.8 -> 601.6   TAG  DOD93_F4-5xFAD-Cereb_TG18-1_o3on   \n",
       "35  902.8 -> 603.6   TAG  DOD93_F4-5xFAD-Cereb_TG18-1_o3on   \n",
       "\n",
       "                                       Retention_Time  \\\n",
       "8   [15.19, 11.42, 13.85, 10.81, 12.27, 11.3, 11.1...   \n",
       "9   [11.78, 12.63, 13.73, 15.31, 12.88, 12.75, 12....   \n",
       "10  [13.85, 13.97, 13.73, 12.99, 14.21, 12.87, 10....   \n",
       "11  [12.5, 12.38, 12.63, 12.75, 13.36, 13.6, 12.87...   \n",
       "17  [12.36, 12.48, 12.61, 12.73, 11.87, 13.58, 13....   \n",
       "18  [12.48, 12.36, 12.6, 13.7, 13.58, 14.06, 13.82...   \n",
       "20  [13.69, 13.57, 12.6, 11.5, 11.86, 13.81, 14.79...   \n",
       "22  [14.78, 12.35, 12.22, 14.9, 13.81, 13.69, 13.9...   \n",
       "24  [13.68, 12.46, 13.56, 11.36, 14.65, 13.43, 11....   \n",
       "25  [14.65, 14.77, 12.58, 13.68, 12.21, 13.55, 12....   \n",
       "26  [12.58, 11.36, 12.45, 12.7, 12.82, 11.24, 13.9...   \n",
       "27  [13.79, 13.91, 13.67, 14.03, 15.01, 15.13, 14....   \n",
       "28  [15.13, 15.01, 15.25, 14.88, 13.91, 15.49, 13....   \n",
       "29  [12.57, 11.23, 11.47, 12.44, 12.69, 11.35, 12....   \n",
       "30  [13.66, 13.78, 13.9, 15.0, 14.88, 13.54, 14.02...   \n",
       "31  [14.99, 14.87, 14.75, 15.12, 13.65, 15.24, 13....   \n",
       "32  [12.56, 12.43, 11.34, 11.21, 13.65, 12.68, 11....   \n",
       "33  [13.65, 13.53, 13.77, 14.87, 12.55, 13.89, 11....   \n",
       "34  [14.74, 14.86, 14.98, 14.62, 13.64, 13.52, 15....   \n",
       "35  [15.49, 15.49, 15.49, 15.49, 15.49, 15.49, 15....   \n",
       "\n",
       "                                      Intensity_OzESI    n-7    n-9   n-12  \\\n",
       "8   [584.0, 496.0, 489.0, 485.0, 482.0, 476.0, 467...  658.8  630.8  588.8   \n",
       "9   [985.0, 579.0, 537.0, 528.0, 512.0, 496.0, 482...  664.8  636.8  594.8   \n",
       "10  [3845.0, 3193.0, 2624.0, 1952.0, 1749.0, 1742....  666.8  638.8  596.8   \n",
       "11  [4476.0, 3326.0, 3091.0, 1104.0, 946.0, 888.0,...  668.8  640.8  598.8   \n",
       "17  [8898.0, 8418.0, 2662.0, 947.0, 837.0, 800.0, ...  686.8  658.8  616.8   \n",
       "18  [1466.0, 1175.0, 1159.0, 1103.0, 729.0, 720.0,...  706.8  678.8  636.8   \n",
       "20  [18782.0, 7161.0, 6130.0, 5377.0, 5245.0, 5106...  708.8  680.8  638.8   \n",
       "22  [98857.0, 50934.0, 40429.0, 35876.0, 28454.0, ...  710.8  682.8  640.8   \n",
       "24  [3524.0, 3097.0, 3028.0, 2994.0, 2649.0, 2531....  734.8  706.8  664.8   \n",
       "25  [25918.0, 15126.0, 9035.0, 8706.0, 7918.0, 768...  736.8  708.8  666.8   \n",
       "26  [72587.0, 37467.0, 28283.0, 28006.0, 22476.0, ...  738.8  710.8  668.8   \n",
       "27  [409651.0, 397892.0, 266762.0, 242014.0, 21388...  764.8  736.8  694.8   \n",
       "28  [2236988.0, 2133766.0, 469327.0, 390090.0, 246...  766.8  738.8  696.8   \n",
       "29  [159733.0, 86088.0, 70972.0, 67098.0, 36204.0,...  768.8  740.8  698.8   \n",
       "30  [928619.0, 844625.0, 549608.0, 234664.0, 14810...  790.8  762.8  720.8   \n",
       "31  [4376154.0, 3191352.0, 1617697.0, 957348.0, 60...  792.8  764.8  722.8   \n",
       "32  [494143.0, 219512.0, 193831.0, 100034.0, 76176...  794.8  766.8  724.8   \n",
       "33  [797129.0, 599317.0, 433993.0, 137065.0, 11610...  816.8  788.8  746.8   \n",
       "34  [2345724.0, 1759093.0, 668092.0, 602922.0, 360...  818.8  790.8  748.8   \n",
       "35  [49847000.0, 49845999.0, 49844000.0, 49842999....  820.8  792.8  750.8   \n",
       "\n",
       "    Mean_Retention_Time  Mean_Intensity_OzESI  \n",
       "8                12.563                 483.7  \n",
       "9                13.034                 554.9  \n",
       "10               12.775                2150.6  \n",
       "11               12.943                1717.9  \n",
       "17               13.239                2552.2  \n",
       "18               13.310                 895.9  \n",
       "20               13.058                6204.2  \n",
       "22               13.625               35019.4  \n",
       "24               13.057                2554.9  \n",
       "25               13.687                9597.7  \n",
       "26               12.833               28495.1  \n",
       "27               14.363              201896.1  \n",
       "28               14.713              627324.1  \n",
       "29               12.591               50922.2  \n",
       "30               13.964              324192.4  \n",
       "31               14.714             1247825.6  \n",
       "32               12.530              126430.9  \n",
       "33               13.197              257652.2  \n",
       "34               14.582              672236.1  \n",
       "35               15.490            49839599.8  "
      ]
     },
     "execution_count": 72,
     "metadata": {},
     "output_type": "execute_result"
    }
   ],
   "source": [
    "#### SECOND VERSION (working better)\n",
    "OzESI_list = [7, 9, 12]\n",
    "\n",
    "def add_lipid_info(df, OzESI_list):\n",
    "    df_test = df.copy()\n",
    "    \n",
    "    for i in OzESI_list:\n",
    "        df_test['n-' + str(i)] = df_test['n-' + str(i)].astype(float)\n",
    "    \n",
    "    for i in range(len(df_test)):\n",
    "        if pd.isna(df_test.loc[i, 'Lipid']):\n",
    "            parent_ion = df_test.loc[i, 'Parent_Ion']\n",
    "            \n",
    "            for j in range(len(df_test)):\n",
    "                if parent_ion == df_test.loc[j, 'n-7'] and isinstance(df_test.loc[j, 'Lipid'], str):\n",
    "                    df_test.loc[i, 'Lipid'] = 'n-7 ' + df_test.loc[j, 'Lipid']\n",
    "                elif parent_ion == df_test.loc[j, 'n-9'] and isinstance(df_test.loc[j, 'Lipid'], str):\n",
    "                    df_test.loc[i, 'Lipid'] = 'n-9 ' + df_test.loc[j, 'Lipid']\n",
    "                elif parent_ion == df_test.loc[j, 'n-12'] and isinstance(df_test.loc[j, 'Lipid'], str):\n",
    "                    df_test.loc[i, 'Lipid'] = 'n-12 ' + df_test.loc[j, 'Lipid']\n",
    "    \n",
    "    df_test.dropna(subset=['Lipid'], inplace=True)\n",
    "    return df_test\n",
    "\n",
    "df_test = add_lipid_info(df_OzESI_processed, OzESI_list)\n",
    "df_test.head(None)\n"
   ]
  },
  {
   "cell_type": "code",
   "execution_count": 73,
   "metadata": {},
   "outputs": [
    {
     "data": {
      "text/html": [
       "<div>\n",
       "<style scoped>\n",
       "    .dataframe tbody tr th:only-of-type {\n",
       "        vertical-align: middle;\n",
       "    }\n",
       "\n",
       "    .dataframe tbody tr th {\n",
       "        vertical-align: top;\n",
       "    }\n",
       "\n",
       "    .dataframe thead th {\n",
       "        text-align: right;\n",
       "    }\n",
       "</style>\n",
       "<table border=\"1\" class=\"dataframe\">\n",
       "  <thead>\n",
       "    <tr style=\"text-align: right;\">\n",
       "      <th></th>\n",
       "      <th>Lipid</th>\n",
       "      <th>Parent_Ion</th>\n",
       "      <th>Product_Ion</th>\n",
       "      <th>Intensity</th>\n",
       "      <th>Transition</th>\n",
       "      <th>Class</th>\n",
       "      <th>Sample_ID</th>\n",
       "      <th>Retention_Time</th>\n",
       "      <th>Intensity_OzESI</th>\n",
       "      <th>n-7</th>\n",
       "      <th>n-9</th>\n",
       "      <th>n-12</th>\n",
       "      <th>Mean_Retention_Time</th>\n",
       "      <th>Mean_Intensity_OzESI</th>\n",
       "    </tr>\n",
       "  </thead>\n",
       "  <tbody>\n",
       "    <tr>\n",
       "      <th>27</th>\n",
       "      <td>[TG(50:3)]_FA18:1</td>\n",
       "      <td>846.8</td>\n",
       "      <td>547.6</td>\n",
       "      <td>6.869138e+05</td>\n",
       "      <td>846.8 -&gt; 547.6</td>\n",
       "      <td>TAG</td>\n",
       "      <td>DOD93_F4-5xFAD-Cereb_TG18-1_o3on</td>\n",
       "      <td>[13.79, 13.91, 13.67, 14.03, 15.01, 15.13, 14....</td>\n",
       "      <td>[409651.0, 397892.0, 266762.0, 242014.0, 21388...</td>\n",
       "      <td>764.8</td>\n",
       "      <td>736.8</td>\n",
       "      <td>694.8</td>\n",
       "      <td>14.363</td>\n",
       "      <td>201896.1</td>\n",
       "    </tr>\n",
       "    <tr>\n",
       "      <th>28</th>\n",
       "      <td>[TG(51:9),TG(50:2)]_FA18:1</td>\n",
       "      <td>848.8</td>\n",
       "      <td>549.6</td>\n",
       "      <td>3.262575e+06</td>\n",
       "      <td>848.8 -&gt; 549.6</td>\n",
       "      <td>TAG</td>\n",
       "      <td>DOD93_F4-5xFAD-Cereb_TG18-1_o3on</td>\n",
       "      <td>[15.13, 15.01, 15.25, 14.88, 13.91, 15.49, 13....</td>\n",
       "      <td>[2236988.0, 2133766.0, 469327.0, 390090.0, 246...</td>\n",
       "      <td>766.8</td>\n",
       "      <td>738.8</td>\n",
       "      <td>696.8</td>\n",
       "      <td>14.713</td>\n",
       "      <td>627324.1</td>\n",
       "    </tr>\n",
       "    <tr>\n",
       "      <th>8</th>\n",
       "      <td>n-9 [TG(51:8),TG(50:1)]_FA18:1</td>\n",
       "      <td>740.8</td>\n",
       "      <td>551.6</td>\n",
       "      <td>9.366814e+05</td>\n",
       "      <td>740.8 -&gt; 551.6</td>\n",
       "      <td>NaN</td>\n",
       "      <td>DOD93_F4-5xFAD-Cereb_TG18-1_o3on</td>\n",
       "      <td>[15.19, 11.42, 13.85, 10.81, 12.27, 11.3, 11.1...</td>\n",
       "      <td>[584.0, 496.0, 489.0, 485.0, 482.0, 476.0, 467...</td>\n",
       "      <td>658.8</td>\n",
       "      <td>630.8</td>\n",
       "      <td>588.8</td>\n",
       "      <td>12.563</td>\n",
       "      <td>483.7</td>\n",
       "    </tr>\n",
       "    <tr>\n",
       "      <th>17</th>\n",
       "      <td>n-7 [TG(51:8),TG(50:1)]_FA18:1</td>\n",
       "      <td>768.8</td>\n",
       "      <td>551.6</td>\n",
       "      <td>7.723013e+05</td>\n",
       "      <td>768.8 -&gt; 551.6</td>\n",
       "      <td>NaN</td>\n",
       "      <td>DOD93_F4-5xFAD-Cereb_TG18-1_o3on</td>\n",
       "      <td>[12.36, 12.48, 12.61, 12.73, 11.87, 13.58, 13....</td>\n",
       "      <td>[8898.0, 8418.0, 2662.0, 947.0, 837.0, 800.0, ...</td>\n",
       "      <td>686.8</td>\n",
       "      <td>658.8</td>\n",
       "      <td>616.8</td>\n",
       "      <td>13.239</td>\n",
       "      <td>2552.2</td>\n",
       "    </tr>\n",
       "    <tr>\n",
       "      <th>29</th>\n",
       "      <td>[TG(51:8),TG(50:1)]_FA18:1</td>\n",
       "      <td>850.8</td>\n",
       "      <td>551.6</td>\n",
       "      <td>8.906404e+06</td>\n",
       "      <td>850.8 -&gt; 551.6</td>\n",
       "      <td>TAG</td>\n",
       "      <td>DOD93_F4-5xFAD-Cereb_TG18-1_o3on</td>\n",
       "      <td>[12.57, 11.23, 11.47, 12.44, 12.69, 11.35, 12....</td>\n",
       "      <td>[159733.0, 86088.0, 70972.0, 67098.0, 36204.0,...</td>\n",
       "      <td>768.8</td>\n",
       "      <td>740.8</td>\n",
       "      <td>698.8</td>\n",
       "      <td>12.591</td>\n",
       "      <td>50922.2</td>\n",
       "    </tr>\n",
       "    <tr>\n",
       "      <th>30</th>\n",
       "      <td>[TG(52:4)]_FA18:1</td>\n",
       "      <td>872.8</td>\n",
       "      <td>573.6</td>\n",
       "      <td>7.219475e+05</td>\n",
       "      <td>872.8 -&gt; 573.6</td>\n",
       "      <td>TAG</td>\n",
       "      <td>DOD93_F4-5xFAD-Cereb_TG18-1_o3on</td>\n",
       "      <td>[13.66, 13.78, 13.9, 15.0, 14.88, 13.54, 14.02...</td>\n",
       "      <td>[928619.0, 844625.0, 549608.0, 234664.0, 14810...</td>\n",
       "      <td>790.8</td>\n",
       "      <td>762.8</td>\n",
       "      <td>720.8</td>\n",
       "      <td>13.964</td>\n",
       "      <td>324192.4</td>\n",
       "    </tr>\n",
       "    <tr>\n",
       "      <th>31</th>\n",
       "      <td>[TG(53:10),TG(52:3)]_FA18:1</td>\n",
       "      <td>874.8</td>\n",
       "      <td>575.6</td>\n",
       "      <td>4.364672e+06</td>\n",
       "      <td>874.8 -&gt; 575.6</td>\n",
       "      <td>TAG</td>\n",
       "      <td>DOD93_F4-5xFAD-Cereb_TG18-1_o3on</td>\n",
       "      <td>[14.99, 14.87, 14.75, 15.12, 13.65, 15.24, 13....</td>\n",
       "      <td>[4376154.0, 3191352.0, 1617697.0, 957348.0, 60...</td>\n",
       "      <td>792.8</td>\n",
       "      <td>764.8</td>\n",
       "      <td>722.8</td>\n",
       "      <td>14.714</td>\n",
       "      <td>1247825.6</td>\n",
       "    </tr>\n",
       "    <tr>\n",
       "      <th>32</th>\n",
       "      <td>[TG(53:9),TG(52:2)]_FA18:1</td>\n",
       "      <td>876.8</td>\n",
       "      <td>577.6</td>\n",
       "      <td>1.805685e+07</td>\n",
       "      <td>876.8 -&gt; 577.6</td>\n",
       "      <td>TAG</td>\n",
       "      <td>DOD93_F4-5xFAD-Cereb_TG18-1_o3on</td>\n",
       "      <td>[12.56, 12.43, 11.34, 11.21, 13.65, 12.68, 11....</td>\n",
       "      <td>[494143.0, 219512.0, 193831.0, 100034.0, 76176...</td>\n",
       "      <td>794.8</td>\n",
       "      <td>766.8</td>\n",
       "      <td>724.8</td>\n",
       "      <td>12.530</td>\n",
       "      <td>126430.9</td>\n",
       "    </tr>\n",
       "    <tr>\n",
       "      <th>9</th>\n",
       "      <td>n-12 [TG(54:5)]_FA18:1</td>\n",
       "      <td>746.8</td>\n",
       "      <td>599.6</td>\n",
       "      <td>1.976136e+05</td>\n",
       "      <td>746.8 -&gt; 599.6</td>\n",
       "      <td>NaN</td>\n",
       "      <td>DOD93_F4-5xFAD-Cereb_TG18-1_o3on</td>\n",
       "      <td>[11.78, 12.63, 13.73, 15.31, 12.88, 12.75, 12....</td>\n",
       "      <td>[985.0, 579.0, 537.0, 528.0, 512.0, 496.0, 482...</td>\n",
       "      <td>664.8</td>\n",
       "      <td>636.8</td>\n",
       "      <td>594.8</td>\n",
       "      <td>13.034</td>\n",
       "      <td>554.9</td>\n",
       "    </tr>\n",
       "    <tr>\n",
       "      <th>33</th>\n",
       "      <td>[TG(54:5)]_FA18:1</td>\n",
       "      <td>898.8</td>\n",
       "      <td>599.6</td>\n",
       "      <td>1.673118e+06</td>\n",
       "      <td>898.8 -&gt; 599.6</td>\n",
       "      <td>TAG</td>\n",
       "      <td>DOD93_F4-5xFAD-Cereb_TG18-1_o3on</td>\n",
       "      <td>[13.65, 13.53, 13.77, 14.87, 12.55, 13.89, 11....</td>\n",
       "      <td>[797129.0, 599317.0, 433993.0, 137065.0, 11610...</td>\n",
       "      <td>816.8</td>\n",
       "      <td>788.8</td>\n",
       "      <td>746.8</td>\n",
       "      <td>13.197</td>\n",
       "      <td>257652.2</td>\n",
       "    </tr>\n",
       "    <tr>\n",
       "      <th>18</th>\n",
       "      <td>n-9 [TG(54:5)]_FA18:1</td>\n",
       "      <td>788.8</td>\n",
       "      <td>599.6</td>\n",
       "      <td>1.482506e+05</td>\n",
       "      <td>788.8 -&gt; 599.6</td>\n",
       "      <td>NaN</td>\n",
       "      <td>DOD93_F4-5xFAD-Cereb_TG18-1_o3on</td>\n",
       "      <td>[12.48, 12.36, 12.6, 13.7, 13.58, 14.06, 13.82...</td>\n",
       "      <td>[1466.0, 1175.0, 1159.0, 1103.0, 729.0, 720.0,...</td>\n",
       "      <td>706.8</td>\n",
       "      <td>678.8</td>\n",
       "      <td>636.8</td>\n",
       "      <td>13.310</td>\n",
       "      <td>895.9</td>\n",
       "    </tr>\n",
       "    <tr>\n",
       "      <th>24</th>\n",
       "      <td>n-7 [TG(54:5)]_FA18:1</td>\n",
       "      <td>816.8</td>\n",
       "      <td>599.6</td>\n",
       "      <td>7.366929e+04</td>\n",
       "      <td>816.8 -&gt; 599.6</td>\n",
       "      <td>NaN</td>\n",
       "      <td>DOD93_F4-5xFAD-Cereb_TG18-1_o3on</td>\n",
       "      <td>[13.68, 12.46, 13.56, 11.36, 14.65, 13.43, 11....</td>\n",
       "      <td>[3524.0, 3097.0, 3028.0, 2994.0, 2649.0, 2531....</td>\n",
       "      <td>734.8</td>\n",
       "      <td>706.8</td>\n",
       "      <td>664.8</td>\n",
       "      <td>13.057</td>\n",
       "      <td>2554.9</td>\n",
       "    </tr>\n",
       "    <tr>\n",
       "      <th>25</th>\n",
       "      <td>n-7 [TG(55:11),TG(54:4)]_FA18:1</td>\n",
       "      <td>818.8</td>\n",
       "      <td>601.6</td>\n",
       "      <td>1.200953e+05</td>\n",
       "      <td>818.8 -&gt; 601.6</td>\n",
       "      <td>NaN</td>\n",
       "      <td>DOD93_F4-5xFAD-Cereb_TG18-1_o3on</td>\n",
       "      <td>[14.65, 14.77, 12.58, 13.68, 12.21, 13.55, 12....</td>\n",
       "      <td>[25918.0, 15126.0, 9035.0, 8706.0, 7918.0, 768...</td>\n",
       "      <td>736.8</td>\n",
       "      <td>708.8</td>\n",
       "      <td>666.8</td>\n",
       "      <td>13.687</td>\n",
       "      <td>9597.7</td>\n",
       "    </tr>\n",
       "    <tr>\n",
       "      <th>34</th>\n",
       "      <td>[TG(55:11),TG(54:4)]_FA18:1</td>\n",
       "      <td>900.8</td>\n",
       "      <td>601.6</td>\n",
       "      <td>3.305303e+06</td>\n",
       "      <td>900.8 -&gt; 601.6</td>\n",
       "      <td>TAG</td>\n",
       "      <td>DOD93_F4-5xFAD-Cereb_TG18-1_o3on</td>\n",
       "      <td>[14.74, 14.86, 14.98, 14.62, 13.64, 13.52, 15....</td>\n",
       "      <td>[2345724.0, 1759093.0, 668092.0, 602922.0, 360...</td>\n",
       "      <td>818.8</td>\n",
       "      <td>790.8</td>\n",
       "      <td>748.8</td>\n",
       "      <td>14.582</td>\n",
       "      <td>672236.1</td>\n",
       "    </tr>\n",
       "    <tr>\n",
       "      <th>20</th>\n",
       "      <td>n-9 [TG(55:11),TG(54:4)]_FA18:1</td>\n",
       "      <td>790.8</td>\n",
       "      <td>601.6</td>\n",
       "      <td>1.952738e+05</td>\n",
       "      <td>790.8 -&gt; 601.6</td>\n",
       "      <td>NaN</td>\n",
       "      <td>DOD93_F4-5xFAD-Cereb_TG18-1_o3on</td>\n",
       "      <td>[13.69, 13.57, 12.6, 11.5, 11.86, 13.81, 14.79...</td>\n",
       "      <td>[18782.0, 7161.0, 6130.0, 5377.0, 5245.0, 5106...</td>\n",
       "      <td>708.8</td>\n",
       "      <td>680.8</td>\n",
       "      <td>638.8</td>\n",
       "      <td>13.058</td>\n",
       "      <td>6204.2</td>\n",
       "    </tr>\n",
       "    <tr>\n",
       "      <th>10</th>\n",
       "      <td>n-12 [TG(55:11),TG(54:4)]_FA18:1</td>\n",
       "      <td>748.8</td>\n",
       "      <td>601.6</td>\n",
       "      <td>1.128153e+05</td>\n",
       "      <td>748.8 -&gt; 601.6</td>\n",
       "      <td>NaN</td>\n",
       "      <td>DOD93_F4-5xFAD-Cereb_TG18-1_o3on</td>\n",
       "      <td>[13.85, 13.97, 13.73, 12.99, 14.21, 12.87, 10....</td>\n",
       "      <td>[3845.0, 3193.0, 2624.0, 1952.0, 1749.0, 1742....</td>\n",
       "      <td>666.8</td>\n",
       "      <td>638.8</td>\n",
       "      <td>596.8</td>\n",
       "      <td>12.775</td>\n",
       "      <td>2150.6</td>\n",
       "    </tr>\n",
       "    <tr>\n",
       "      <th>22</th>\n",
       "      <td>n-9 [TG(55:10),TG(54:3)]_FA18:1</td>\n",
       "      <td>792.8</td>\n",
       "      <td>603.6</td>\n",
       "      <td>7.489054e+05</td>\n",
       "      <td>792.8 -&gt; 603.6</td>\n",
       "      <td>NaN</td>\n",
       "      <td>DOD93_F4-5xFAD-Cereb_TG18-1_o3on</td>\n",
       "      <td>[14.78, 12.35, 12.22, 14.9, 13.81, 13.69, 13.9...</td>\n",
       "      <td>[98857.0, 50934.0, 40429.0, 35876.0, 28454.0, ...</td>\n",
       "      <td>710.8</td>\n",
       "      <td>682.8</td>\n",
       "      <td>640.8</td>\n",
       "      <td>13.625</td>\n",
       "      <td>35019.4</td>\n",
       "    </tr>\n",
       "    <tr>\n",
       "      <th>11</th>\n",
       "      <td>n-12 [TG(55:10),TG(54:3)]_FA18:1</td>\n",
       "      <td>750.8</td>\n",
       "      <td>603.6</td>\n",
       "      <td>5.757424e+05</td>\n",
       "      <td>750.8 -&gt; 603.6</td>\n",
       "      <td>NaN</td>\n",
       "      <td>DOD93_F4-5xFAD-Cereb_TG18-1_o3on</td>\n",
       "      <td>[12.5, 12.38, 12.63, 12.75, 13.36, 13.6, 12.87...</td>\n",
       "      <td>[4476.0, 3326.0, 3091.0, 1104.0, 946.0, 888.0,...</td>\n",
       "      <td>668.8</td>\n",
       "      <td>640.8</td>\n",
       "      <td>598.8</td>\n",
       "      <td>12.943</td>\n",
       "      <td>1717.9</td>\n",
       "    </tr>\n",
       "    <tr>\n",
       "      <th>26</th>\n",
       "      <td>n-7 [TG(55:10),TG(54:3)]_FA18:1</td>\n",
       "      <td>820.8</td>\n",
       "      <td>603.6</td>\n",
       "      <td>4.014192e+05</td>\n",
       "      <td>820.8 -&gt; 603.6</td>\n",
       "      <td>NaN</td>\n",
       "      <td>DOD93_F4-5xFAD-Cereb_TG18-1_o3on</td>\n",
       "      <td>[12.58, 11.36, 12.45, 12.7, 12.82, 11.24, 13.9...</td>\n",
       "      <td>[72587.0, 37467.0, 28283.0, 28006.0, 22476.0, ...</td>\n",
       "      <td>738.8</td>\n",
       "      <td>710.8</td>\n",
       "      <td>668.8</td>\n",
       "      <td>12.833</td>\n",
       "      <td>28495.1</td>\n",
       "    </tr>\n",
       "    <tr>\n",
       "      <th>35</th>\n",
       "      <td>[TG(55:10),TG(54:3)]_FA18:1</td>\n",
       "      <td>902.8</td>\n",
       "      <td>603.6</td>\n",
       "      <td>9.339795e+06</td>\n",
       "      <td>902.8 -&gt; 603.6</td>\n",
       "      <td>TAG</td>\n",
       "      <td>DOD93_F4-5xFAD-Cereb_TG18-1_o3on</td>\n",
       "      <td>[15.49, 15.49, 15.49, 15.49, 15.49, 15.49, 15....</td>\n",
       "      <td>[49847000.0, 49845999.0, 49844000.0, 49842999....</td>\n",
       "      <td>820.8</td>\n",
       "      <td>792.8</td>\n",
       "      <td>750.8</td>\n",
       "      <td>15.490</td>\n",
       "      <td>49839599.8</td>\n",
       "    </tr>\n",
       "  </tbody>\n",
       "</table>\n",
       "</div>"
      ],
      "text/plain": [
       "                               Lipid  Parent_Ion  Product_Ion     Intensity  \\\n",
       "27                 [TG(50:3)]_FA18:1       846.8        547.6  6.869138e+05   \n",
       "28        [TG(51:9),TG(50:2)]_FA18:1       848.8        549.6  3.262575e+06   \n",
       "8     n-9 [TG(51:8),TG(50:1)]_FA18:1       740.8        551.6  9.366814e+05   \n",
       "17    n-7 [TG(51:8),TG(50:1)]_FA18:1       768.8        551.6  7.723013e+05   \n",
       "29        [TG(51:8),TG(50:1)]_FA18:1       850.8        551.6  8.906404e+06   \n",
       "30                 [TG(52:4)]_FA18:1       872.8        573.6  7.219475e+05   \n",
       "31       [TG(53:10),TG(52:3)]_FA18:1       874.8        575.6  4.364672e+06   \n",
       "32        [TG(53:9),TG(52:2)]_FA18:1       876.8        577.6  1.805685e+07   \n",
       "9             n-12 [TG(54:5)]_FA18:1       746.8        599.6  1.976136e+05   \n",
       "33                 [TG(54:5)]_FA18:1       898.8        599.6  1.673118e+06   \n",
       "18             n-9 [TG(54:5)]_FA18:1       788.8        599.6  1.482506e+05   \n",
       "24             n-7 [TG(54:5)]_FA18:1       816.8        599.6  7.366929e+04   \n",
       "25   n-7 [TG(55:11),TG(54:4)]_FA18:1       818.8        601.6  1.200953e+05   \n",
       "34       [TG(55:11),TG(54:4)]_FA18:1       900.8        601.6  3.305303e+06   \n",
       "20   n-9 [TG(55:11),TG(54:4)]_FA18:1       790.8        601.6  1.952738e+05   \n",
       "10  n-12 [TG(55:11),TG(54:4)]_FA18:1       748.8        601.6  1.128153e+05   \n",
       "22   n-9 [TG(55:10),TG(54:3)]_FA18:1       792.8        603.6  7.489054e+05   \n",
       "11  n-12 [TG(55:10),TG(54:3)]_FA18:1       750.8        603.6  5.757424e+05   \n",
       "26   n-7 [TG(55:10),TG(54:3)]_FA18:1       820.8        603.6  4.014192e+05   \n",
       "35       [TG(55:10),TG(54:3)]_FA18:1       902.8        603.6  9.339795e+06   \n",
       "\n",
       "        Transition Class                         Sample_ID  \\\n",
       "27  846.8 -> 547.6   TAG  DOD93_F4-5xFAD-Cereb_TG18-1_o3on   \n",
       "28  848.8 -> 549.6   TAG  DOD93_F4-5xFAD-Cereb_TG18-1_o3on   \n",
       "8   740.8 -> 551.6   NaN  DOD93_F4-5xFAD-Cereb_TG18-1_o3on   \n",
       "17  768.8 -> 551.6   NaN  DOD93_F4-5xFAD-Cereb_TG18-1_o3on   \n",
       "29  850.8 -> 551.6   TAG  DOD93_F4-5xFAD-Cereb_TG18-1_o3on   \n",
       "30  872.8 -> 573.6   TAG  DOD93_F4-5xFAD-Cereb_TG18-1_o3on   \n",
       "31  874.8 -> 575.6   TAG  DOD93_F4-5xFAD-Cereb_TG18-1_o3on   \n",
       "32  876.8 -> 577.6   TAG  DOD93_F4-5xFAD-Cereb_TG18-1_o3on   \n",
       "9   746.8 -> 599.6   NaN  DOD93_F4-5xFAD-Cereb_TG18-1_o3on   \n",
       "33  898.8 -> 599.6   TAG  DOD93_F4-5xFAD-Cereb_TG18-1_o3on   \n",
       "18  788.8 -> 599.6   NaN  DOD93_F4-5xFAD-Cereb_TG18-1_o3on   \n",
       "24  816.8 -> 599.6   NaN  DOD93_F4-5xFAD-Cereb_TG18-1_o3on   \n",
       "25  818.8 -> 601.6   NaN  DOD93_F4-5xFAD-Cereb_TG18-1_o3on   \n",
       "34  900.8 -> 601.6   TAG  DOD93_F4-5xFAD-Cereb_TG18-1_o3on   \n",
       "20  790.8 -> 601.6   NaN  DOD93_F4-5xFAD-Cereb_TG18-1_o3on   \n",
       "10  748.8 -> 601.6   NaN  DOD93_F4-5xFAD-Cereb_TG18-1_o3on   \n",
       "22  792.8 -> 603.6   NaN  DOD93_F4-5xFAD-Cereb_TG18-1_o3on   \n",
       "11  750.8 -> 603.6   NaN  DOD93_F4-5xFAD-Cereb_TG18-1_o3on   \n",
       "26  820.8 -> 603.6   NaN  DOD93_F4-5xFAD-Cereb_TG18-1_o3on   \n",
       "35  902.8 -> 603.6   TAG  DOD93_F4-5xFAD-Cereb_TG18-1_o3on   \n",
       "\n",
       "                                       Retention_Time  \\\n",
       "27  [13.79, 13.91, 13.67, 14.03, 15.01, 15.13, 14....   \n",
       "28  [15.13, 15.01, 15.25, 14.88, 13.91, 15.49, 13....   \n",
       "8   [15.19, 11.42, 13.85, 10.81, 12.27, 11.3, 11.1...   \n",
       "17  [12.36, 12.48, 12.61, 12.73, 11.87, 13.58, 13....   \n",
       "29  [12.57, 11.23, 11.47, 12.44, 12.69, 11.35, 12....   \n",
       "30  [13.66, 13.78, 13.9, 15.0, 14.88, 13.54, 14.02...   \n",
       "31  [14.99, 14.87, 14.75, 15.12, 13.65, 15.24, 13....   \n",
       "32  [12.56, 12.43, 11.34, 11.21, 13.65, 12.68, 11....   \n",
       "9   [11.78, 12.63, 13.73, 15.31, 12.88, 12.75, 12....   \n",
       "33  [13.65, 13.53, 13.77, 14.87, 12.55, 13.89, 11....   \n",
       "18  [12.48, 12.36, 12.6, 13.7, 13.58, 14.06, 13.82...   \n",
       "24  [13.68, 12.46, 13.56, 11.36, 14.65, 13.43, 11....   \n",
       "25  [14.65, 14.77, 12.58, 13.68, 12.21, 13.55, 12....   \n",
       "34  [14.74, 14.86, 14.98, 14.62, 13.64, 13.52, 15....   \n",
       "20  [13.69, 13.57, 12.6, 11.5, 11.86, 13.81, 14.79...   \n",
       "10  [13.85, 13.97, 13.73, 12.99, 14.21, 12.87, 10....   \n",
       "22  [14.78, 12.35, 12.22, 14.9, 13.81, 13.69, 13.9...   \n",
       "11  [12.5, 12.38, 12.63, 12.75, 13.36, 13.6, 12.87...   \n",
       "26  [12.58, 11.36, 12.45, 12.7, 12.82, 11.24, 13.9...   \n",
       "35  [15.49, 15.49, 15.49, 15.49, 15.49, 15.49, 15....   \n",
       "\n",
       "                                      Intensity_OzESI    n-7    n-9   n-12  \\\n",
       "27  [409651.0, 397892.0, 266762.0, 242014.0, 21388...  764.8  736.8  694.8   \n",
       "28  [2236988.0, 2133766.0, 469327.0, 390090.0, 246...  766.8  738.8  696.8   \n",
       "8   [584.0, 496.0, 489.0, 485.0, 482.0, 476.0, 467...  658.8  630.8  588.8   \n",
       "17  [8898.0, 8418.0, 2662.0, 947.0, 837.0, 800.0, ...  686.8  658.8  616.8   \n",
       "29  [159733.0, 86088.0, 70972.0, 67098.0, 36204.0,...  768.8  740.8  698.8   \n",
       "30  [928619.0, 844625.0, 549608.0, 234664.0, 14810...  790.8  762.8  720.8   \n",
       "31  [4376154.0, 3191352.0, 1617697.0, 957348.0, 60...  792.8  764.8  722.8   \n",
       "32  [494143.0, 219512.0, 193831.0, 100034.0, 76176...  794.8  766.8  724.8   \n",
       "9   [985.0, 579.0, 537.0, 528.0, 512.0, 496.0, 482...  664.8  636.8  594.8   \n",
       "33  [797129.0, 599317.0, 433993.0, 137065.0, 11610...  816.8  788.8  746.8   \n",
       "18  [1466.0, 1175.0, 1159.0, 1103.0, 729.0, 720.0,...  706.8  678.8  636.8   \n",
       "24  [3524.0, 3097.0, 3028.0, 2994.0, 2649.0, 2531....  734.8  706.8  664.8   \n",
       "25  [25918.0, 15126.0, 9035.0, 8706.0, 7918.0, 768...  736.8  708.8  666.8   \n",
       "34  [2345724.0, 1759093.0, 668092.0, 602922.0, 360...  818.8  790.8  748.8   \n",
       "20  [18782.0, 7161.0, 6130.0, 5377.0, 5245.0, 5106...  708.8  680.8  638.8   \n",
       "10  [3845.0, 3193.0, 2624.0, 1952.0, 1749.0, 1742....  666.8  638.8  596.8   \n",
       "22  [98857.0, 50934.0, 40429.0, 35876.0, 28454.0, ...  710.8  682.8  640.8   \n",
       "11  [4476.0, 3326.0, 3091.0, 1104.0, 946.0, 888.0,...  668.8  640.8  598.8   \n",
       "26  [72587.0, 37467.0, 28283.0, 28006.0, 22476.0, ...  738.8  710.8  668.8   \n",
       "35  [49847000.0, 49845999.0, 49844000.0, 49842999....  820.8  792.8  750.8   \n",
       "\n",
       "    Mean_Retention_Time  Mean_Intensity_OzESI  \n",
       "27               14.363              201896.1  \n",
       "28               14.713              627324.1  \n",
       "8                12.563                 483.7  \n",
       "17               13.239                2552.2  \n",
       "29               12.591               50922.2  \n",
       "30               13.964              324192.4  \n",
       "31               14.714             1247825.6  \n",
       "32               12.530              126430.9  \n",
       "9                13.034                 554.9  \n",
       "33               13.197              257652.2  \n",
       "18               13.310                 895.9  \n",
       "24               13.057                2554.9  \n",
       "25               13.687                9597.7  \n",
       "34               14.582              672236.1  \n",
       "20               13.058                6204.2  \n",
       "10               12.775                2150.6  \n",
       "22               13.625               35019.4  \n",
       "11               12.943                1717.9  \n",
       "26               12.833               28495.1  \n",
       "35               15.490            49839599.8  "
      ]
     },
     "execution_count": 73,
     "metadata": {},
     "output_type": "execute_result"
    }
   ],
   "source": [
    "sorted_df = df_test.sort_values(by='Product_Ion')\n",
    "\n",
    "sorted_df.head(None)\n",
    "\n"
   ]
  },
  {
   "cell_type": "code",
   "execution_count": 76,
   "metadata": {},
   "outputs": [
    {
     "name": "stdout",
     "output_type": "stream",
     "text": [
      "                               Lipid  Mean_Retention_Time  \\\n",
      "27                 [TG(50:3)]_FA18:1               14.363   \n",
      "28        [TG(51:9),TG(50:2)]_FA18:1               14.713   \n",
      "8     n-9 [TG(51:8),TG(50:1)]_FA18:1               12.563   \n",
      "17    n-7 [TG(51:8),TG(50:1)]_FA18:1               13.239   \n",
      "29        [TG(51:8),TG(50:1)]_FA18:1               12.591   \n",
      "30                 [TG(52:4)]_FA18:1               13.964   \n",
      "31       [TG(53:10),TG(52:3)]_FA18:1               14.714   \n",
      "32        [TG(53:9),TG(52:2)]_FA18:1               12.530   \n",
      "9             n-12 [TG(54:5)]_FA18:1               13.034   \n",
      "33                 [TG(54:5)]_FA18:1               13.197   \n",
      "18             n-9 [TG(54:5)]_FA18:1               13.310   \n",
      "24             n-7 [TG(54:5)]_FA18:1               13.057   \n",
      "25   n-7 [TG(55:11),TG(54:4)]_FA18:1               13.687   \n",
      "34       [TG(55:11),TG(54:4)]_FA18:1               14.582   \n",
      "20   n-9 [TG(55:11),TG(54:4)]_FA18:1               13.058   \n",
      "10  n-12 [TG(55:11),TG(54:4)]_FA18:1               12.775   \n",
      "22   n-9 [TG(55:10),TG(54:3)]_FA18:1               13.625   \n",
      "11  n-12 [TG(55:10),TG(54:3)]_FA18:1               12.943   \n",
      "26   n-7 [TG(55:10),TG(54:3)]_FA18:1               12.833   \n",
      "35       [TG(55:10),TG(54:3)]_FA18:1               15.490   \n",
      "\n",
      "                                       Retention_Time  \n",
      "27  [13.79, 13.91, 13.67, 14.03, 15.01, 15.13, 14....  \n",
      "28  [15.13, 15.01, 15.25, 14.88, 13.91, 15.49, 13....  \n",
      "8   [15.19, 11.42, 13.85, 10.81, 12.27, 11.3, 11.1...  \n",
      "17  [12.36, 12.48, 12.61, 12.73, 11.87, 13.58, 13....  \n",
      "29  [12.57, 11.23, 11.47, 12.44, 12.69, 11.35, 12....  \n",
      "30  [13.66, 13.78, 13.9, 15.0, 14.88, 13.54, 14.02...  \n",
      "31  [14.99, 14.87, 14.75, 15.12, 13.65, 15.24, 13....  \n",
      "32  [12.56, 12.43, 11.34, 11.21, 13.65, 12.68, 11....  \n",
      "9   [11.78, 12.63, 13.73, 15.31, 12.88, 12.75, 12....  \n",
      "33  [13.65, 13.53, 13.77, 14.87, 12.55, 13.89, 11....  \n",
      "18  [12.48, 12.36, 12.6, 13.7, 13.58, 14.06, 13.82...  \n",
      "24  [13.68, 12.46, 13.56, 11.36, 14.65, 13.43, 11....  \n",
      "25  [14.65, 14.77, 12.58, 13.68, 12.21, 13.55, 12....  \n",
      "34  [14.74, 14.86, 14.98, 14.62, 13.64, 13.52, 15....  \n",
      "20  [13.69, 13.57, 12.6, 11.5, 11.86, 13.81, 14.79...  \n",
      "10  [13.85, 13.97, 13.73, 12.99, 14.21, 12.87, 10....  \n",
      "22  [14.78, 12.35, 12.22, 14.9, 13.81, 13.69, 13.9...  \n",
      "11  [12.5, 12.38, 12.63, 12.75, 13.36, 13.6, 12.87...  \n",
      "26  [12.58, 11.36, 12.45, 12.7, 12.82, 11.24, 13.9...  \n",
      "35  [15.49, 15.49, 15.49, 15.49, 15.49, 15.49, 15....  \n"
     ]
    }
   ],
   "source": [
    "print(sorted_df[['Lipid', 'Mean_Retention_Time','Retention_Time']])\n"
   ]
  },
  {
   "cell_type": "code",
   "execution_count": 78,
   "metadata": {},
   "outputs": [
    {
     "data": {
      "text/html": [
       "<div>\n",
       "<style scoped>\n",
       "    .dataframe tbody tr th:only-of-type {\n",
       "        vertical-align: middle;\n",
       "    }\n",
       "\n",
       "    .dataframe tbody tr th {\n",
       "        vertical-align: top;\n",
       "    }\n",
       "\n",
       "    .dataframe thead th {\n",
       "        text-align: right;\n",
       "    }\n",
       "</style>\n",
       "<table border=\"1\" class=\"dataframe\">\n",
       "  <thead>\n",
       "    <tr style=\"text-align: right;\">\n",
       "      <th></th>\n",
       "      <th>Lipid</th>\n",
       "      <th>Retention_Time</th>\n",
       "    </tr>\n",
       "  </thead>\n",
       "  <tbody>\n",
       "    <tr>\n",
       "      <th>27</th>\n",
       "      <td>[TG(50:3)]_FA18:1</td>\n",
       "      <td>[13.79, 13.91, 13.67, 14.03, 15.01, 15.13, 14....</td>\n",
       "    </tr>\n",
       "    <tr>\n",
       "      <th>28</th>\n",
       "      <td>[TG(51:9),TG(50:2)]_FA18:1</td>\n",
       "      <td>[15.13, 15.01, 15.25, 14.88, 13.91, 15.49, 13....</td>\n",
       "    </tr>\n",
       "    <tr>\n",
       "      <th>8</th>\n",
       "      <td>n-9 [TG(51:8),TG(50:1)]_FA18:1</td>\n",
       "      <td>[15.19, 11.42, 13.85, 10.81, 12.27, 11.3, 11.1...</td>\n",
       "    </tr>\n",
       "    <tr>\n",
       "      <th>17</th>\n",
       "      <td>n-7 [TG(51:8),TG(50:1)]_FA18:1</td>\n",
       "      <td>[12.36, 12.48, 12.61, 12.73, 11.87, 13.58, 13....</td>\n",
       "    </tr>\n",
       "    <tr>\n",
       "      <th>29</th>\n",
       "      <td>[TG(51:8),TG(50:1)]_FA18:1</td>\n",
       "      <td>[12.57, 11.23, 11.47, 12.44, 12.69, 11.35, 12....</td>\n",
       "    </tr>\n",
       "    <tr>\n",
       "      <th>30</th>\n",
       "      <td>[TG(52:4)]_FA18:1</td>\n",
       "      <td>[13.66, 13.78, 13.9, 15.0, 14.88, 13.54, 14.02...</td>\n",
       "    </tr>\n",
       "    <tr>\n",
       "      <th>31</th>\n",
       "      <td>[TG(53:10),TG(52:3)]_FA18:1</td>\n",
       "      <td>[14.99, 14.87, 14.75, 15.12, 13.65, 15.24, 13....</td>\n",
       "    </tr>\n",
       "    <tr>\n",
       "      <th>32</th>\n",
       "      <td>[TG(53:9),TG(52:2)]_FA18:1</td>\n",
       "      <td>[12.56, 12.43, 11.34, 11.21, 13.65, 12.68, 11....</td>\n",
       "    </tr>\n",
       "    <tr>\n",
       "      <th>9</th>\n",
       "      <td>n-12 [TG(54:5)]_FA18:1</td>\n",
       "      <td>[11.78, 12.63, 13.73, 15.31, 12.88, 12.75, 12....</td>\n",
       "    </tr>\n",
       "    <tr>\n",
       "      <th>33</th>\n",
       "      <td>[TG(54:5)]_FA18:1</td>\n",
       "      <td>[13.65, 13.53, 13.77, 14.87, 12.55, 13.89, 11....</td>\n",
       "    </tr>\n",
       "    <tr>\n",
       "      <th>18</th>\n",
       "      <td>n-9 [TG(54:5)]_FA18:1</td>\n",
       "      <td>[12.48, 12.36, 12.6, 13.7, 13.58, 14.06, 13.82...</td>\n",
       "    </tr>\n",
       "    <tr>\n",
       "      <th>24</th>\n",
       "      <td>n-7 [TG(54:5)]_FA18:1</td>\n",
       "      <td>[13.68, 12.46, 13.56, 11.36, 14.65, 13.43, 11....</td>\n",
       "    </tr>\n",
       "    <tr>\n",
       "      <th>25</th>\n",
       "      <td>n-7 [TG(55:11),TG(54:4)]_FA18:1</td>\n",
       "      <td>[14.65, 14.77, 12.58, 13.68, 12.21, 13.55, 12....</td>\n",
       "    </tr>\n",
       "    <tr>\n",
       "      <th>34</th>\n",
       "      <td>[TG(55:11),TG(54:4)]_FA18:1</td>\n",
       "      <td>[14.74, 14.86, 14.98, 14.62, 13.64, 13.52, 15....</td>\n",
       "    </tr>\n",
       "    <tr>\n",
       "      <th>20</th>\n",
       "      <td>n-9 [TG(55:11),TG(54:4)]_FA18:1</td>\n",
       "      <td>[13.69, 13.57, 12.6, 11.5, 11.86, 13.81, 14.79...</td>\n",
       "    </tr>\n",
       "    <tr>\n",
       "      <th>10</th>\n",
       "      <td>n-12 [TG(55:11),TG(54:4)]_FA18:1</td>\n",
       "      <td>[13.85, 13.97, 13.73, 12.99, 14.21, 12.87, 10....</td>\n",
       "    </tr>\n",
       "    <tr>\n",
       "      <th>22</th>\n",
       "      <td>n-9 [TG(55:10),TG(54:3)]_FA18:1</td>\n",
       "      <td>[14.78, 12.35, 12.22, 14.9, 13.81, 13.69, 13.9...</td>\n",
       "    </tr>\n",
       "    <tr>\n",
       "      <th>11</th>\n",
       "      <td>n-12 [TG(55:10),TG(54:3)]_FA18:1</td>\n",
       "      <td>[12.5, 12.38, 12.63, 12.75, 13.36, 13.6, 12.87...</td>\n",
       "    </tr>\n",
       "    <tr>\n",
       "      <th>26</th>\n",
       "      <td>n-7 [TG(55:10),TG(54:3)]_FA18:1</td>\n",
       "      <td>[12.58, 11.36, 12.45, 12.7, 12.82, 11.24, 13.9...</td>\n",
       "    </tr>\n",
       "    <tr>\n",
       "      <th>35</th>\n",
       "      <td>[TG(55:10),TG(54:3)]_FA18:1</td>\n",
       "      <td>[15.49, 15.49, 15.49, 15.49, 15.49, 15.49, 15....</td>\n",
       "    </tr>\n",
       "  </tbody>\n",
       "</table>\n",
       "</div>"
      ],
      "text/plain": [
       "                               Lipid  \\\n",
       "27                 [TG(50:3)]_FA18:1   \n",
       "28        [TG(51:9),TG(50:2)]_FA18:1   \n",
       "8     n-9 [TG(51:8),TG(50:1)]_FA18:1   \n",
       "17    n-7 [TG(51:8),TG(50:1)]_FA18:1   \n",
       "29        [TG(51:8),TG(50:1)]_FA18:1   \n",
       "30                 [TG(52:4)]_FA18:1   \n",
       "31       [TG(53:10),TG(52:3)]_FA18:1   \n",
       "32        [TG(53:9),TG(52:2)]_FA18:1   \n",
       "9             n-12 [TG(54:5)]_FA18:1   \n",
       "33                 [TG(54:5)]_FA18:1   \n",
       "18             n-9 [TG(54:5)]_FA18:1   \n",
       "24             n-7 [TG(54:5)]_FA18:1   \n",
       "25   n-7 [TG(55:11),TG(54:4)]_FA18:1   \n",
       "34       [TG(55:11),TG(54:4)]_FA18:1   \n",
       "20   n-9 [TG(55:11),TG(54:4)]_FA18:1   \n",
       "10  n-12 [TG(55:11),TG(54:4)]_FA18:1   \n",
       "22   n-9 [TG(55:10),TG(54:3)]_FA18:1   \n",
       "11  n-12 [TG(55:10),TG(54:3)]_FA18:1   \n",
       "26   n-7 [TG(55:10),TG(54:3)]_FA18:1   \n",
       "35       [TG(55:10),TG(54:3)]_FA18:1   \n",
       "\n",
       "                                       Retention_Time  \n",
       "27  [13.79, 13.91, 13.67, 14.03, 15.01, 15.13, 14....  \n",
       "28  [15.13, 15.01, 15.25, 14.88, 13.91, 15.49, 13....  \n",
       "8   [15.19, 11.42, 13.85, 10.81, 12.27, 11.3, 11.1...  \n",
       "17  [12.36, 12.48, 12.61, 12.73, 11.87, 13.58, 13....  \n",
       "29  [12.57, 11.23, 11.47, 12.44, 12.69, 11.35, 12....  \n",
       "30  [13.66, 13.78, 13.9, 15.0, 14.88, 13.54, 14.02...  \n",
       "31  [14.99, 14.87, 14.75, 15.12, 13.65, 15.24, 13....  \n",
       "32  [12.56, 12.43, 11.34, 11.21, 13.65, 12.68, 11....  \n",
       "9   [11.78, 12.63, 13.73, 15.31, 12.88, 12.75, 12....  \n",
       "33  [13.65, 13.53, 13.77, 14.87, 12.55, 13.89, 11....  \n",
       "18  [12.48, 12.36, 12.6, 13.7, 13.58, 14.06, 13.82...  \n",
       "24  [13.68, 12.46, 13.56, 11.36, 14.65, 13.43, 11....  \n",
       "25  [14.65, 14.77, 12.58, 13.68, 12.21, 13.55, 12....  \n",
       "34  [14.74, 14.86, 14.98, 14.62, 13.64, 13.52, 15....  \n",
       "20  [13.69, 13.57, 12.6, 11.5, 11.86, 13.81, 14.79...  \n",
       "10  [13.85, 13.97, 13.73, 12.99, 14.21, 12.87, 10....  \n",
       "22  [14.78, 12.35, 12.22, 14.9, 13.81, 13.69, 13.9...  \n",
       "11  [12.5, 12.38, 12.63, 12.75, 13.36, 13.6, 12.87...  \n",
       "26  [12.58, 11.36, 12.45, 12.7, 12.82, 11.24, 13.9...  \n",
       "35  [15.49, 15.49, 15.49, 15.49, 15.49, 15.49, 15....  "
      ]
     },
     "execution_count": 78,
     "metadata": {},
     "output_type": "execute_result"
    }
   ],
   "source": [
    "sorted_df[['Lipid', 'Retention_Time']].head(None)"
   ]
  },
  {
   "cell_type": "code",
   "execution_count": null,
   "metadata": {},
   "outputs": [],
   "source": []
  },
  {
   "cell_type": "code",
   "execution_count": 84,
   "metadata": {},
   "outputs": [
    {
     "name": "stdout",
     "output_type": "stream",
     "text": [
      "Lipid: [TG(50:3)]_FA18:1, Mean Retention Time: 14.363\n",
      "Retention Time: [13.79, 13.91, 13.67, 14.03, 15.01, 15.13, 14.16, 14.28, 14.4, 15.25]\n",
      "________________________________________________________________________________________\n",
      "Lipid: [TG(51:9),TG(50:2)]_FA18:1, Mean Retention Time: 14.713\n",
      "Retention Time: [15.13, 15.01, 15.25, 14.88, 13.91, 15.49, 13.79, 15.37, 14.03, 14.27]\n",
      "________________________________________________________________________________________\n",
      "Lipid: n-9 [TG(51:8),TG(50:1)]_FA18:1, Mean Retention Time: 12.562999999999999\n",
      "Retention Time: [15.19, 11.42, 13.85, 10.81, 12.27, 11.3, 11.17, 10.57, 14.1, 14.95]\n",
      "________________________________________________________________________________________\n",
      "Lipid: n-7 [TG(51:8),TG(50:1)]_FA18:1, Mean Retention Time: 13.239\n",
      "Retention Time: [12.36, 12.48, 12.61, 12.73, 11.87, 13.58, 13.95, 14.19, 13.7, 14.92]\n",
      "________________________________________________________________________________________\n",
      "Lipid: [TG(51:8),TG(50:1)]_FA18:1, Mean Retention Time: 12.591\n",
      "Retention Time: [12.57, 11.23, 11.47, 12.44, 12.69, 11.35, 12.81, 13.78, 13.91, 13.66]\n",
      "________________________________________________________________________________________\n",
      "Lipid: [TG(52:4)]_FA18:1, Mean Retention Time: 13.963999999999999\n",
      "Retention Time: [13.66, 13.78, 13.9, 15.0, 14.88, 13.54, 14.02, 14.27, 12.44, 14.15]\n",
      "________________________________________________________________________________________\n",
      "Lipid: [TG(53:10),TG(52:3)]_FA18:1, Mean Retention Time: 14.713999999999999\n",
      "Retention Time: [14.99, 14.87, 14.75, 15.12, 13.65, 15.24, 13.78, 15.36, 15.48, 13.9]\n",
      "________________________________________________________________________________________\n",
      "Lipid: [TG(53:9),TG(52:2)]_FA18:1, Mean Retention Time: 12.530000000000001\n",
      "Retention Time: [12.56, 12.43, 11.34, 11.21, 13.65, 12.68, 11.46, 13.77, 13.04, 13.16]\n",
      "________________________________________________________________________________________\n",
      "Lipid: n-12 [TG(54:5)]_FA18:1, Mean Retention Time: 13.034\n",
      "Retention Time: [11.78, 12.63, 13.73, 15.31, 12.88, 12.75, 12.51, 13.24, 13.85, 11.66]\n",
      "________________________________________________________________________________________\n",
      "Lipid: [TG(54:5)]_FA18:1, Mean Retention Time: 13.197\n",
      "Retention Time: [13.65, 13.53, 13.77, 14.87, 12.55, 13.89, 11.21, 11.33, 14.74, 12.43]\n",
      "________________________________________________________________________________________\n",
      "Lipid: n-9 [TG(54:5)]_FA18:1, Mean Retention Time: 13.310000000000002\n",
      "Retention Time: [12.48, 12.36, 12.6, 13.7, 13.58, 14.06, 13.82, 14.92, 13.46, 12.12]\n",
      "________________________________________________________________________________________\n",
      "Lipid: n-7 [TG(54:5)]_FA18:1, Mean Retention Time: 13.056999999999999\n",
      "Retention Time: [13.68, 12.46, 13.56, 11.36, 14.65, 13.43, 11.73, 12.58, 12.34, 14.78]\n",
      "________________________________________________________________________________________\n",
      "Lipid: n-7 [TG(55:11),TG(54:4)]_FA18:1, Mean Retention Time: 13.687000000000001\n",
      "Retention Time: [14.65, 14.77, 12.58, 13.68, 12.21, 13.55, 12.94, 14.89, 13.07, 14.53]\n",
      "________________________________________________________________________________________\n",
      "Lipid: [TG(55:11),TG(54:4)]_FA18:1, Mean Retention Time: 14.582000000000003\n",
      "Retention Time: [14.74, 14.86, 14.98, 14.62, 13.64, 13.52, 15.11, 15.23, 15.35, 13.77]\n",
      "________________________________________________________________________________________\n",
      "Lipid: n-9 [TG(55:11),TG(54:4)]_FA18:1, Mean Retention Time: 13.057999999999998\n",
      "Retention Time: [13.69, 13.57, 12.6, 11.5, 11.86, 13.81, 14.79, 12.47, 11.38, 14.91]\n",
      "________________________________________________________________________________________\n",
      "Lipid: n-12 [TG(55:11),TG(54:4)]_FA18:1, Mean Retention Time: 12.775\n",
      "Retention Time: [13.85, 13.97, 13.73, 12.99, 14.21, 12.87, 10.68, 10.8, 14.09, 10.56]\n",
      "________________________________________________________________________________________\n",
      "Lipid: n-9 [TG(55:10),TG(54:3)]_FA18:1, Mean Retention Time: 13.625\n",
      "Retention Time: [14.78, 12.35, 12.22, 14.9, 13.81, 13.69, 13.93, 12.71, 15.03, 12.83]\n",
      "________________________________________________________________________________________\n",
      "Lipid: n-12 [TG(55:10),TG(54:3)]_FA18:1, Mean Retention Time: 12.943000000000001\n",
      "Retention Time: [12.5, 12.38, 12.63, 12.75, 13.36, 13.6, 12.87, 12.99, 14.09, 12.26]\n",
      "________________________________________________________________________________________\n",
      "Lipid: n-7 [TG(55:10),TG(54:3)]_FA18:1, Mean Retention Time: 12.833000000000002\n",
      "Retention Time: [12.58, 11.36, 12.45, 12.7, 12.82, 11.24, 13.92, 13.79, 14.04, 13.43]\n",
      "________________________________________________________________________________________\n",
      "Lipid: [TG(55:10),TG(54:3)]_FA18:1, Mean Retention Time: 15.49\n",
      "Retention Time: [15.49, 15.49, 15.49, 15.49, 15.49, 15.49, 15.49, 15.49, 15.49, 15.49]\n",
      "________________________________________________________________________________________\n"
     ]
    }
   ],
   "source": [
    "# for index, row in sorted_df.iterrows():\n",
    "#     print(f\"Lipid: {row['Lipid']}, Mean Retention Time: {row['Mean_Retention_Time']}\")\n",
    "\n",
    "for index, row in sorted_df.iterrows():\n",
    "    print(f\"Lipid: {row['Lipid']}, Mean Retention Time: {row['Mean_Retention_Time']}\")\n",
    "    print(f\"Retention Time: {row['Retention_Time']}\")\n",
    "    print('________________________________________________________________________________________')"
   ]
  },
  {
   "cell_type": "code",
   "execution_count": 108,
   "metadata": {},
   "outputs": [
    {
     "data": {
      "text/html": [
       "<div>\n",
       "<style scoped>\n",
       "    .dataframe tbody tr th:only-of-type {\n",
       "        vertical-align: middle;\n",
       "    }\n",
       "\n",
       "    .dataframe tbody tr th {\n",
       "        vertical-align: top;\n",
       "    }\n",
       "\n",
       "    .dataframe thead th {\n",
       "        text-align: right;\n",
       "    }\n",
       "</style>\n",
       "<table border=\"1\" class=\"dataframe\">\n",
       "  <thead>\n",
       "    <tr style=\"text-align: right;\">\n",
       "      <th></th>\n",
       "      <th>Lipid</th>\n",
       "      <th>MRM Identity</th>\n",
       "      <th>MRM Transition</th>\n",
       "      <th>Retention Time</th>\n",
       "    </tr>\n",
       "  </thead>\n",
       "  <tbody>\n",
       "    <tr>\n",
       "      <th>0</th>\n",
       "      <td>TG 50:1</td>\n",
       "      <td>TG 50:1_FA 18:1n-9</td>\n",
       "      <td>740.8 -&gt; 551.6</td>\n",
       "      <td>15.1</td>\n",
       "    </tr>\n",
       "    <tr>\n",
       "      <th>1</th>\n",
       "      <td>TG 50:1</td>\n",
       "      <td>TG 50:1_FA 18:1n-7</td>\n",
       "      <td>768.8 -&gt; 551.6</td>\n",
       "      <td>15.1</td>\n",
       "    </tr>\n",
       "    <tr>\n",
       "      <th>2</th>\n",
       "      <td>TG 50:2</td>\n",
       "      <td>TG 50:2_FA 18:1n-9</td>\n",
       "      <td>740.8 -&gt; 549.6</td>\n",
       "      <td>13.8</td>\n",
       "    </tr>\n",
       "    <tr>\n",
       "      <th>3</th>\n",
       "      <td>TG 50:2</td>\n",
       "      <td>TG 50:2_FA 18:1n-7</td>\n",
       "      <td>768.8 -&gt; 549.6</td>\n",
       "      <td>13.8</td>\n",
       "    </tr>\n",
       "    <tr>\n",
       "      <th>4</th>\n",
       "      <td>TG 52:2</td>\n",
       "      <td>TG 52:2_FA 18:1n-9</td>\n",
       "      <td>766.8 -&gt; 577.6</td>\n",
       "      <td>14.9</td>\n",
       "    </tr>\n",
       "    <tr>\n",
       "      <th>5</th>\n",
       "      <td>TG 52:2</td>\n",
       "      <td>TG 52:2_FA 18:1n-7</td>\n",
       "      <td>794.8 -&gt; 577.6</td>\n",
       "      <td>15.0</td>\n",
       "    </tr>\n",
       "    <tr>\n",
       "      <th>6</th>\n",
       "      <td>TG 52:3</td>\n",
       "      <td>TG 52:3_FA 18:1n-12</td>\n",
       "      <td>722.7 -&gt; 575.6</td>\n",
       "      <td>NaN</td>\n",
       "    </tr>\n",
       "    <tr>\n",
       "      <th>7</th>\n",
       "      <td>TG 52:3</td>\n",
       "      <td>TG 52:3_FA 18:1n-9</td>\n",
       "      <td>764.8 -&gt; 575.6</td>\n",
       "      <td>13.7</td>\n",
       "    </tr>\n",
       "    <tr>\n",
       "      <th>8</th>\n",
       "      <td>TG 52:3</td>\n",
       "      <td>TG 52:3_FA 18:1n-7</td>\n",
       "      <td>792.8 -&gt; 575.6</td>\n",
       "      <td>13.7</td>\n",
       "    </tr>\n",
       "    <tr>\n",
       "      <th>9</th>\n",
       "      <td>TG 52:4</td>\n",
       "      <td>TG 52:4_FA 18:1n-9</td>\n",
       "      <td>762.8 -&gt; 573.6</td>\n",
       "      <td>12.5</td>\n",
       "    </tr>\n",
       "    <tr>\n",
       "      <th>10</th>\n",
       "      <td>TG 52:4</td>\n",
       "      <td>TG 52:4_FA 18:1n-7</td>\n",
       "      <td>790.8 -&gt; 573.6</td>\n",
       "      <td>12.5</td>\n",
       "    </tr>\n",
       "    <tr>\n",
       "      <th>11</th>\n",
       "      <td>TG 54:3</td>\n",
       "      <td>TG 54:3_FA 18:1n-9</td>\n",
       "      <td>792.8 -&gt; 603.6</td>\n",
       "      <td>14.9</td>\n",
       "    </tr>\n",
       "    <tr>\n",
       "      <th>12</th>\n",
       "      <td>TG 54:3</td>\n",
       "      <td>TG 54:3_FA 18:1n-7</td>\n",
       "      <td>820.8 -&gt; 603.6</td>\n",
       "      <td>14.8</td>\n",
       "    </tr>\n",
       "    <tr>\n",
       "      <th>13</th>\n",
       "      <td>TG 54:4</td>\n",
       "      <td>TG 54:4_FA 18:1n-9</td>\n",
       "      <td>790.8 -&gt; 601.6</td>\n",
       "      <td>13.6</td>\n",
       "    </tr>\n",
       "    <tr>\n",
       "      <th>14</th>\n",
       "      <td>TG 54:4</td>\n",
       "      <td>TG 54:4_FA 18:1n-7</td>\n",
       "      <td>818.8 -&gt; 601.6</td>\n",
       "      <td>13.7</td>\n",
       "    </tr>\n",
       "    <tr>\n",
       "      <th>15</th>\n",
       "      <td>TG 54:5</td>\n",
       "      <td>TG 54:5_FA 18:1n-7</td>\n",
       "      <td>816.8 -&gt; 599.6</td>\n",
       "      <td>12.6</td>\n",
       "    </tr>\n",
       "    <tr>\n",
       "      <th>16</th>\n",
       "      <td>TG 54:5</td>\n",
       "      <td>TG 54:5_FA 18:1n-9</td>\n",
       "      <td>788.8 -&gt; 599.6</td>\n",
       "      <td>12.6</td>\n",
       "    </tr>\n",
       "  </tbody>\n",
       "</table>\n",
       "</div>"
      ],
      "text/plain": [
       "      Lipid         MRM Identity  MRM Transition  Retention Time\n",
       "0   TG 50:1   TG 50:1_FA 18:1n-9  740.8 -> 551.6            15.1\n",
       "1   TG 50:1   TG 50:1_FA 18:1n-7  768.8 -> 551.6            15.1\n",
       "2   TG 50:2   TG 50:2_FA 18:1n-9  740.8 -> 549.6            13.8\n",
       "3   TG 50:2   TG 50:2_FA 18:1n-7  768.8 -> 549.6            13.8\n",
       "4   TG 52:2   TG 52:2_FA 18:1n-9  766.8 -> 577.6            14.9\n",
       "5   TG 52:2   TG 52:2_FA 18:1n-7  794.8 -> 577.6            15.0\n",
       "6   TG 52:3  TG 52:3_FA 18:1n-12  722.7 -> 575.6             NaN\n",
       "7   TG 52:3   TG 52:3_FA 18:1n-9  764.8 -> 575.6            13.7\n",
       "8   TG 52:3   TG 52:3_FA 18:1n-7  792.8 -> 575.6            13.7\n",
       "9   TG 52:4   TG 52:4_FA 18:1n-9  762.8 -> 573.6            12.5\n",
       "10  TG 52:4   TG 52:4_FA 18:1n-7  790.8 -> 573.6            12.5\n",
       "11  TG 54:3   TG 54:3_FA 18:1n-9  792.8 -> 603.6            14.9\n",
       "12  TG 54:3   TG 54:3_FA 18:1n-7  820.8 -> 603.6            14.8\n",
       "13  TG 54:4   TG 54:4_FA 18:1n-9  790.8 -> 601.6            13.6\n",
       "14  TG 54:4   TG 54:4_FA 18:1n-7  818.8 -> 601.6            13.7\n",
       "15  TG 54:5   TG 54:5_FA 18:1n-7  816.8 -> 599.6            12.6\n",
       "16  TG 54:5   TG 54:5_FA 18:1n-9  788.8 -> 599.6            12.6"
      ]
     },
     "execution_count": 108,
     "metadata": {},
     "output_type": "execute_result"
    }
   ],
   "source": [
    "data = {\n",
    "    \"Lipid\": [\"TG 50:1\", \"TG 50:1\", \"TG 50:2\", \"TG 50:2\", \"TG 52:2\", \"TG 52:2\", \"TG 52:3\", \"TG 52:3\", \"TG 52:3\", \"TG 52:4\", \"TG 52:4\", \"TG 54:3\", \"TG 54:3\", \"TG 54:4\", \"TG 54:4\", \"TG 54:5\", \"TG 54:5\"],\n",
    "    \"MRM Identity\": [\"TG 50:1_FA 18:1n-9\", \"TG 50:1_FA 18:1n-7\", \"TG 50:2_FA 18:1n-9\", \"TG 50:2_FA 18:1n-7\", \"TG 52:2_FA 18:1n-9\", \"TG 52:2_FA 18:1n-7\", \"TG 52:3_FA 18:1n-12\", \"TG 52:3_FA 18:1n-9\", \"TG 52:3_FA 18:1n-7\", \"TG 52:4_FA 18:1n-9\", \"TG 52:4_FA 18:1n-7\", \"TG 54:3_FA 18:1n-9\", \"TG 54:3_FA 18:1n-7\", \"TG 54:4_FA 18:1n-9\", \"TG 54:4_FA 18:1n-7\", \"TG 54:5_FA 18:1n-7\", \"TG 54:5_FA 18:1n-9\"],\n",
    "    \"MRM Transition\": [\"740.8 -> 551.6\", \"768.8 -> 551.6\", \"740.8 -> 549.6\", \"768.8 -> 549.6\", \"766.8 -> 577.6\", \"794.8 -> 577.6\", \"722.7 -> 575.6\", \"764.8 -> 575.6\", \"792.8 -> 575.6\", \"762.8 -> 573.6\", \"790.8 -> 573.6\", \"792.8 -> 603.6\", \"820.8 -> 603.6\", \"790.8 -> 601.6\", \"818.8 -> 601.6\", \"816.8 -> 599.6\", \"788.8 -> 599.6\"],\n",
    "    \"Retention Time\": [15.1, 15.1, 13.8, 13.8, 14.9, 15.0, np.nan, 13.7, 13.7, 12.5, 12.5, 14.9, 14.8, 13.6, 13.7, 12.6, 12.6]\n",
    "}\n",
    "\n",
    "C_df = pd.DataFrame(data)\n",
    "\n",
    "C_df.head(None)\n"
   ]
  },
  {
   "cell_type": "code",
   "execution_count": 114,
   "metadata": {},
   "outputs": [
    {
     "data": {
      "application/vnd.plotly.v1+json": {
       "config": {
        "plotlyServerURL": "https://plot.ly"
       },
       "data": [
        {
         "hovertext": [
          "TG 50:1"
         ],
         "marker": {
          "color": "red"
         },
         "mode": "markers",
         "name": "740.8 -> 551.6",
         "type": "scatter",
         "x": [
          "740.8 -> 551.6"
         ],
         "y": [
          15.1
         ]
        },
        {
         "hovertext": [
          "TG 50:1"
         ],
         "marker": {
          "color": "red"
         },
         "mode": "markers",
         "name": "768.8 -> 551.6",
         "type": "scatter",
         "x": [
          "768.8 -> 551.6"
         ],
         "y": [
          15.1
         ]
        },
        {
         "hovertext": [
          "TG 50:2"
         ],
         "marker": {
          "color": "red"
         },
         "mode": "markers",
         "name": "740.8 -> 549.6",
         "type": "scatter",
         "x": [
          "740.8 -> 549.6"
         ],
         "y": [
          13.8
         ]
        },
        {
         "hovertext": [
          "TG 50:2"
         ],
         "marker": {
          "color": "red"
         },
         "mode": "markers",
         "name": "768.8 -> 549.6",
         "type": "scatter",
         "x": [
          "768.8 -> 549.6"
         ],
         "y": [
          13.8
         ]
        },
        {
         "hovertext": [
          "TG 52:2"
         ],
         "marker": {
          "color": "red"
         },
         "mode": "markers",
         "name": "766.8 -> 577.6",
         "type": "scatter",
         "x": [
          "766.8 -> 577.6"
         ],
         "y": [
          14.9
         ]
        },
        {
         "hovertext": [
          "TG 52:2"
         ],
         "marker": {
          "color": "red"
         },
         "mode": "markers",
         "name": "794.8 -> 577.6",
         "type": "scatter",
         "x": [
          "794.8 -> 577.6"
         ],
         "y": [
          15
         ]
        },
        {
         "hovertext": [
          "TG 52:3"
         ],
         "marker": {
          "color": "red"
         },
         "mode": "markers",
         "name": "722.7 -> 575.6",
         "type": "scatter",
         "x": [
          "722.7 -> 575.6"
         ],
         "y": [
          null
         ]
        },
        {
         "hovertext": [
          "TG 52:3"
         ],
         "marker": {
          "color": "red"
         },
         "mode": "markers",
         "name": "764.8 -> 575.6",
         "type": "scatter",
         "x": [
          "764.8 -> 575.6"
         ],
         "y": [
          13.7
         ]
        },
        {
         "hovertext": [
          "TG 52:3"
         ],
         "marker": {
          "color": "red"
         },
         "mode": "markers",
         "name": "792.8 -> 575.6",
         "type": "scatter",
         "x": [
          "792.8 -> 575.6"
         ],
         "y": [
          13.7
         ]
        },
        {
         "hovertext": [
          "TG 52:4"
         ],
         "marker": {
          "color": "red"
         },
         "mode": "markers",
         "name": "762.8 -> 573.6",
         "type": "scatter",
         "x": [
          "762.8 -> 573.6"
         ],
         "y": [
          12.5
         ]
        },
        {
         "hovertext": [
          "TG 52:4"
         ],
         "marker": {
          "color": "red"
         },
         "mode": "markers",
         "name": "790.8 -> 573.6",
         "type": "scatter",
         "x": [
          "790.8 -> 573.6"
         ],
         "y": [
          12.5
         ]
        },
        {
         "hovertext": [
          "TG 54:3"
         ],
         "marker": {
          "color": "red"
         },
         "mode": "markers",
         "name": "792.8 -> 603.6",
         "type": "scatter",
         "x": [
          "792.8 -> 603.6"
         ],
         "y": [
          14.9
         ]
        },
        {
         "hovertext": [
          "TG 54:3"
         ],
         "marker": {
          "color": "red"
         },
         "mode": "markers",
         "name": "820.8 -> 603.6",
         "type": "scatter",
         "x": [
          "820.8 -> 603.6"
         ],
         "y": [
          14.8
         ]
        },
        {
         "hovertext": [
          "TG 54:4"
         ],
         "marker": {
          "color": "red"
         },
         "mode": "markers",
         "name": "790.8 -> 601.6",
         "type": "scatter",
         "x": [
          "790.8 -> 601.6"
         ],
         "y": [
          13.6
         ]
        },
        {
         "hovertext": [
          "TG 54:4"
         ],
         "marker": {
          "color": "red"
         },
         "mode": "markers",
         "name": "818.8 -> 601.6",
         "type": "scatter",
         "x": [
          "818.8 -> 601.6"
         ],
         "y": [
          13.7
         ]
        },
        {
         "hovertext": [
          "TG 54:5"
         ],
         "marker": {
          "color": "red"
         },
         "mode": "markers",
         "name": "816.8 -> 599.6",
         "type": "scatter",
         "x": [
          "816.8 -> 599.6"
         ],
         "y": [
          12.6
         ]
        },
        {
         "hovertext": [
          "TG 54:5"
         ],
         "marker": {
          "color": "red"
         },
         "mode": "markers",
         "name": "788.8 -> 599.6",
         "type": "scatter",
         "x": [
          "788.8 -> 599.6"
         ],
         "y": [
          12.6
         ]
        },
        {
         "hovertext": [
          "[TG(50:3)]_FA18:1"
         ],
         "marker": {
          "color": "blue"
         },
         "mode": "markers",
         "name": "846.8 -> 547.6",
         "type": "scatter",
         "x": [
          "846.8 -> 547.6"
         ],
         "y": [
          14.363
         ]
        },
        {
         "hovertext": [
          "[TG(51:9),TG(50:2)]_FA18:1"
         ],
         "marker": {
          "color": "blue"
         },
         "mode": "markers",
         "name": "848.8 -> 549.6",
         "type": "scatter",
         "x": [
          "848.8 -> 549.6"
         ],
         "y": [
          14.713
         ]
        },
        {
         "hovertext": [
          "n-9 [TG(51:8),TG(50:1)]_FA18:1"
         ],
         "marker": {
          "color": "blue"
         },
         "mode": "markers",
         "name": "740.8 -> 551.6",
         "type": "scatter",
         "x": [
          "740.8 -> 551.6"
         ],
         "y": [
          12.562999999999999
         ]
        },
        {
         "hovertext": [
          "n-7 [TG(51:8),TG(50:1)]_FA18:1"
         ],
         "marker": {
          "color": "blue"
         },
         "mode": "markers",
         "name": "768.8 -> 551.6",
         "type": "scatter",
         "x": [
          "768.8 -> 551.6"
         ],
         "y": [
          13.239
         ]
        },
        {
         "hovertext": [
          "[TG(51:8),TG(50:1)]_FA18:1"
         ],
         "marker": {
          "color": "blue"
         },
         "mode": "markers",
         "name": "850.8 -> 551.6",
         "type": "scatter",
         "x": [
          "850.8 -> 551.6"
         ],
         "y": [
          12.591
         ]
        },
        {
         "hovertext": [
          "[TG(52:4)]_FA18:1"
         ],
         "marker": {
          "color": "blue"
         },
         "mode": "markers",
         "name": "872.8 -> 573.6",
         "type": "scatter",
         "x": [
          "872.8 -> 573.6"
         ],
         "y": [
          13.963999999999999
         ]
        },
        {
         "hovertext": [
          "[TG(53:10),TG(52:3)]_FA18:1"
         ],
         "marker": {
          "color": "blue"
         },
         "mode": "markers",
         "name": "874.8 -> 575.6",
         "type": "scatter",
         "x": [
          "874.8 -> 575.6"
         ],
         "y": [
          14.713999999999999
         ]
        },
        {
         "hovertext": [
          "[TG(53:9),TG(52:2)]_FA18:1"
         ],
         "marker": {
          "color": "blue"
         },
         "mode": "markers",
         "name": "876.8 -> 577.6",
         "type": "scatter",
         "x": [
          "876.8 -> 577.6"
         ],
         "y": [
          12.530000000000001
         ]
        },
        {
         "hovertext": [
          "n-12 [TG(54:5)]_FA18:1"
         ],
         "marker": {
          "color": "blue"
         },
         "mode": "markers",
         "name": "746.8 -> 599.6",
         "type": "scatter",
         "x": [
          "746.8 -> 599.6"
         ],
         "y": [
          13.034
         ]
        },
        {
         "hovertext": [
          "[TG(54:5)]_FA18:1"
         ],
         "marker": {
          "color": "blue"
         },
         "mode": "markers",
         "name": "898.8 -> 599.6",
         "type": "scatter",
         "x": [
          "898.8 -> 599.6"
         ],
         "y": [
          13.197
         ]
        },
        {
         "hovertext": [
          "n-9 [TG(54:5)]_FA18:1"
         ],
         "marker": {
          "color": "blue"
         },
         "mode": "markers",
         "name": "788.8 -> 599.6",
         "type": "scatter",
         "x": [
          "788.8 -> 599.6"
         ],
         "y": [
          13.310000000000002
         ]
        },
        {
         "hovertext": [
          "n-7 [TG(54:5)]_FA18:1"
         ],
         "marker": {
          "color": "blue"
         },
         "mode": "markers",
         "name": "816.8 -> 599.6",
         "type": "scatter",
         "x": [
          "816.8 -> 599.6"
         ],
         "y": [
          13.056999999999999
         ]
        },
        {
         "hovertext": [
          "n-7 [TG(55:11),TG(54:4)]_FA18:1"
         ],
         "marker": {
          "color": "blue"
         },
         "mode": "markers",
         "name": "818.8 -> 601.6",
         "type": "scatter",
         "x": [
          "818.8 -> 601.6"
         ],
         "y": [
          13.687000000000001
         ]
        },
        {
         "hovertext": [
          "[TG(55:11),TG(54:4)]_FA18:1"
         ],
         "marker": {
          "color": "blue"
         },
         "mode": "markers",
         "name": "900.8 -> 601.6",
         "type": "scatter",
         "x": [
          "900.8 -> 601.6"
         ],
         "y": [
          14.582000000000003
         ]
        },
        {
         "hovertext": [
          "n-9 [TG(55:11),TG(54:4)]_FA18:1"
         ],
         "marker": {
          "color": "blue"
         },
         "mode": "markers",
         "name": "790.8 -> 601.6",
         "type": "scatter",
         "x": [
          "790.8 -> 601.6"
         ],
         "y": [
          13.057999999999998
         ]
        },
        {
         "hovertext": [
          "n-12 [TG(55:11),TG(54:4)]_FA18:1"
         ],
         "marker": {
          "color": "blue"
         },
         "mode": "markers",
         "name": "748.8 -> 601.6",
         "type": "scatter",
         "x": [
          "748.8 -> 601.6"
         ],
         "y": [
          12.775
         ]
        },
        {
         "hovertext": [
          "n-9 [TG(55:10),TG(54:3)]_FA18:1"
         ],
         "marker": {
          "color": "blue"
         },
         "mode": "markers",
         "name": "792.8 -> 603.6",
         "type": "scatter",
         "x": [
          "792.8 -> 603.6"
         ],
         "y": [
          13.625
         ]
        },
        {
         "hovertext": [
          "n-12 [TG(55:10),TG(54:3)]_FA18:1"
         ],
         "marker": {
          "color": "blue"
         },
         "mode": "markers",
         "name": "750.8 -> 603.6",
         "type": "scatter",
         "x": [
          "750.8 -> 603.6"
         ],
         "y": [
          12.943000000000001
         ]
        },
        {
         "hovertext": [
          "n-7 [TG(55:10),TG(54:3)]_FA18:1"
         ],
         "marker": {
          "color": "blue"
         },
         "mode": "markers",
         "name": "820.8 -> 603.6",
         "type": "scatter",
         "x": [
          "820.8 -> 603.6"
         ],
         "y": [
          12.833000000000002
         ]
        },
        {
         "hovertext": [
          "[TG(55:10),TG(54:3)]_FA18:1"
         ],
         "marker": {
          "color": "blue"
         },
         "mode": "markers",
         "name": "902.8 -> 603.6",
         "type": "scatter",
         "x": [
          "902.8 -> 603.6"
         ],
         "y": [
          15.49
         ]
        }
       ],
       "layout": {
        "template": {
         "data": {
          "bar": [
           {
            "error_x": {
             "color": "#2a3f5f"
            },
            "error_y": {
             "color": "#2a3f5f"
            },
            "marker": {
             "line": {
              "color": "#E5ECF6",
              "width": 0.5
             }
            },
            "type": "bar"
           }
          ],
          "barpolar": [
           {
            "marker": {
             "line": {
              "color": "#E5ECF6",
              "width": 0.5
             }
            },
            "type": "barpolar"
           }
          ],
          "carpet": [
           {
            "aaxis": {
             "endlinecolor": "#2a3f5f",
             "gridcolor": "white",
             "linecolor": "white",
             "minorgridcolor": "white",
             "startlinecolor": "#2a3f5f"
            },
            "baxis": {
             "endlinecolor": "#2a3f5f",
             "gridcolor": "white",
             "linecolor": "white",
             "minorgridcolor": "white",
             "startlinecolor": "#2a3f5f"
            },
            "type": "carpet"
           }
          ],
          "choropleth": [
           {
            "colorbar": {
             "outlinewidth": 0,
             "ticks": ""
            },
            "type": "choropleth"
           }
          ],
          "contour": [
           {
            "colorbar": {
             "outlinewidth": 0,
             "ticks": ""
            },
            "colorscale": [
             [
              0,
              "#0d0887"
             ],
             [
              0.1111111111111111,
              "#46039f"
             ],
             [
              0.2222222222222222,
              "#7201a8"
             ],
             [
              0.3333333333333333,
              "#9c179e"
             ],
             [
              0.4444444444444444,
              "#bd3786"
             ],
             [
              0.5555555555555556,
              "#d8576b"
             ],
             [
              0.6666666666666666,
              "#ed7953"
             ],
             [
              0.7777777777777778,
              "#fb9f3a"
             ],
             [
              0.8888888888888888,
              "#fdca26"
             ],
             [
              1,
              "#f0f921"
             ]
            ],
            "type": "contour"
           }
          ],
          "contourcarpet": [
           {
            "colorbar": {
             "outlinewidth": 0,
             "ticks": ""
            },
            "type": "contourcarpet"
           }
          ],
          "heatmap": [
           {
            "colorbar": {
             "outlinewidth": 0,
             "ticks": ""
            },
            "colorscale": [
             [
              0,
              "#0d0887"
             ],
             [
              0.1111111111111111,
              "#46039f"
             ],
             [
              0.2222222222222222,
              "#7201a8"
             ],
             [
              0.3333333333333333,
              "#9c179e"
             ],
             [
              0.4444444444444444,
              "#bd3786"
             ],
             [
              0.5555555555555556,
              "#d8576b"
             ],
             [
              0.6666666666666666,
              "#ed7953"
             ],
             [
              0.7777777777777778,
              "#fb9f3a"
             ],
             [
              0.8888888888888888,
              "#fdca26"
             ],
             [
              1,
              "#f0f921"
             ]
            ],
            "type": "heatmap"
           }
          ],
          "heatmapgl": [
           {
            "colorbar": {
             "outlinewidth": 0,
             "ticks": ""
            },
            "colorscale": [
             [
              0,
              "#0d0887"
             ],
             [
              0.1111111111111111,
              "#46039f"
             ],
             [
              0.2222222222222222,
              "#7201a8"
             ],
             [
              0.3333333333333333,
              "#9c179e"
             ],
             [
              0.4444444444444444,
              "#bd3786"
             ],
             [
              0.5555555555555556,
              "#d8576b"
             ],
             [
              0.6666666666666666,
              "#ed7953"
             ],
             [
              0.7777777777777778,
              "#fb9f3a"
             ],
             [
              0.8888888888888888,
              "#fdca26"
             ],
             [
              1,
              "#f0f921"
             ]
            ],
            "type": "heatmapgl"
           }
          ],
          "histogram": [
           {
            "marker": {
             "colorbar": {
              "outlinewidth": 0,
              "ticks": ""
             }
            },
            "type": "histogram"
           }
          ],
          "histogram2d": [
           {
            "colorbar": {
             "outlinewidth": 0,
             "ticks": ""
            },
            "colorscale": [
             [
              0,
              "#0d0887"
             ],
             [
              0.1111111111111111,
              "#46039f"
             ],
             [
              0.2222222222222222,
              "#7201a8"
             ],
             [
              0.3333333333333333,
              "#9c179e"
             ],
             [
              0.4444444444444444,
              "#bd3786"
             ],
             [
              0.5555555555555556,
              "#d8576b"
             ],
             [
              0.6666666666666666,
              "#ed7953"
             ],
             [
              0.7777777777777778,
              "#fb9f3a"
             ],
             [
              0.8888888888888888,
              "#fdca26"
             ],
             [
              1,
              "#f0f921"
             ]
            ],
            "type": "histogram2d"
           }
          ],
          "histogram2dcontour": [
           {
            "colorbar": {
             "outlinewidth": 0,
             "ticks": ""
            },
            "colorscale": [
             [
              0,
              "#0d0887"
             ],
             [
              0.1111111111111111,
              "#46039f"
             ],
             [
              0.2222222222222222,
              "#7201a8"
             ],
             [
              0.3333333333333333,
              "#9c179e"
             ],
             [
              0.4444444444444444,
              "#bd3786"
             ],
             [
              0.5555555555555556,
              "#d8576b"
             ],
             [
              0.6666666666666666,
              "#ed7953"
             ],
             [
              0.7777777777777778,
              "#fb9f3a"
             ],
             [
              0.8888888888888888,
              "#fdca26"
             ],
             [
              1,
              "#f0f921"
             ]
            ],
            "type": "histogram2dcontour"
           }
          ],
          "mesh3d": [
           {
            "colorbar": {
             "outlinewidth": 0,
             "ticks": ""
            },
            "type": "mesh3d"
           }
          ],
          "parcoords": [
           {
            "line": {
             "colorbar": {
              "outlinewidth": 0,
              "ticks": ""
             }
            },
            "type": "parcoords"
           }
          ],
          "pie": [
           {
            "automargin": true,
            "type": "pie"
           }
          ],
          "scatter": [
           {
            "marker": {
             "colorbar": {
              "outlinewidth": 0,
              "ticks": ""
             }
            },
            "type": "scatter"
           }
          ],
          "scatter3d": [
           {
            "line": {
             "colorbar": {
              "outlinewidth": 0,
              "ticks": ""
             }
            },
            "marker": {
             "colorbar": {
              "outlinewidth": 0,
              "ticks": ""
             }
            },
            "type": "scatter3d"
           }
          ],
          "scattercarpet": [
           {
            "marker": {
             "colorbar": {
              "outlinewidth": 0,
              "ticks": ""
             }
            },
            "type": "scattercarpet"
           }
          ],
          "scattergeo": [
           {
            "marker": {
             "colorbar": {
              "outlinewidth": 0,
              "ticks": ""
             }
            },
            "type": "scattergeo"
           }
          ],
          "scattergl": [
           {
            "marker": {
             "colorbar": {
              "outlinewidth": 0,
              "ticks": ""
             }
            },
            "type": "scattergl"
           }
          ],
          "scattermapbox": [
           {
            "marker": {
             "colorbar": {
              "outlinewidth": 0,
              "ticks": ""
             }
            },
            "type": "scattermapbox"
           }
          ],
          "scatterpolar": [
           {
            "marker": {
             "colorbar": {
              "outlinewidth": 0,
              "ticks": ""
             }
            },
            "type": "scatterpolar"
           }
          ],
          "scatterpolargl": [
           {
            "marker": {
             "colorbar": {
              "outlinewidth": 0,
              "ticks": ""
             }
            },
            "type": "scatterpolargl"
           }
          ],
          "scatterternary": [
           {
            "marker": {
             "colorbar": {
              "outlinewidth": 0,
              "ticks": ""
             }
            },
            "type": "scatterternary"
           }
          ],
          "surface": [
           {
            "colorbar": {
             "outlinewidth": 0,
             "ticks": ""
            },
            "colorscale": [
             [
              0,
              "#0d0887"
             ],
             [
              0.1111111111111111,
              "#46039f"
             ],
             [
              0.2222222222222222,
              "#7201a8"
             ],
             [
              0.3333333333333333,
              "#9c179e"
             ],
             [
              0.4444444444444444,
              "#bd3786"
             ],
             [
              0.5555555555555556,
              "#d8576b"
             ],
             [
              0.6666666666666666,
              "#ed7953"
             ],
             [
              0.7777777777777778,
              "#fb9f3a"
             ],
             [
              0.8888888888888888,
              "#fdca26"
             ],
             [
              1,
              "#f0f921"
             ]
            ],
            "type": "surface"
           }
          ],
          "table": [
           {
            "cells": {
             "fill": {
              "color": "#EBF0F8"
             },
             "line": {
              "color": "white"
             }
            },
            "header": {
             "fill": {
              "color": "#C8D4E3"
             },
             "line": {
              "color": "white"
             }
            },
            "type": "table"
           }
          ]
         },
         "layout": {
          "annotationdefaults": {
           "arrowcolor": "#2a3f5f",
           "arrowhead": 0,
           "arrowwidth": 1
          },
          "coloraxis": {
           "colorbar": {
            "outlinewidth": 0,
            "ticks": ""
           }
          },
          "colorscale": {
           "diverging": [
            [
             0,
             "#8e0152"
            ],
            [
             0.1,
             "#c51b7d"
            ],
            [
             0.2,
             "#de77ae"
            ],
            [
             0.3,
             "#f1b6da"
            ],
            [
             0.4,
             "#fde0ef"
            ],
            [
             0.5,
             "#f7f7f7"
            ],
            [
             0.6,
             "#e6f5d0"
            ],
            [
             0.7,
             "#b8e186"
            ],
            [
             0.8,
             "#7fbc41"
            ],
            [
             0.9,
             "#4d9221"
            ],
            [
             1,
             "#276419"
            ]
           ],
           "sequential": [
            [
             0,
             "#0d0887"
            ],
            [
             0.1111111111111111,
             "#46039f"
            ],
            [
             0.2222222222222222,
             "#7201a8"
            ],
            [
             0.3333333333333333,
             "#9c179e"
            ],
            [
             0.4444444444444444,
             "#bd3786"
            ],
            [
             0.5555555555555556,
             "#d8576b"
            ],
            [
             0.6666666666666666,
             "#ed7953"
            ],
            [
             0.7777777777777778,
             "#fb9f3a"
            ],
            [
             0.8888888888888888,
             "#fdca26"
            ],
            [
             1,
             "#f0f921"
            ]
           ],
           "sequentialminus": [
            [
             0,
             "#0d0887"
            ],
            [
             0.1111111111111111,
             "#46039f"
            ],
            [
             0.2222222222222222,
             "#7201a8"
            ],
            [
             0.3333333333333333,
             "#9c179e"
            ],
            [
             0.4444444444444444,
             "#bd3786"
            ],
            [
             0.5555555555555556,
             "#d8576b"
            ],
            [
             0.6666666666666666,
             "#ed7953"
            ],
            [
             0.7777777777777778,
             "#fb9f3a"
            ],
            [
             0.8888888888888888,
             "#fdca26"
            ],
            [
             1,
             "#f0f921"
            ]
           ]
          },
          "colorway": [
           "#636efa",
           "#EF553B",
           "#00cc96",
           "#ab63fa",
           "#FFA15A",
           "#19d3f3",
           "#FF6692",
           "#B6E880",
           "#FF97FF",
           "#FECB52"
          ],
          "font": {
           "color": "#2a3f5f"
          },
          "geo": {
           "bgcolor": "white",
           "lakecolor": "white",
           "landcolor": "#E5ECF6",
           "showlakes": true,
           "showland": true,
           "subunitcolor": "white"
          },
          "hoverlabel": {
           "align": "left"
          },
          "hovermode": "closest",
          "mapbox": {
           "style": "light"
          },
          "paper_bgcolor": "white",
          "plot_bgcolor": "#E5ECF6",
          "polar": {
           "angularaxis": {
            "gridcolor": "white",
            "linecolor": "white",
            "ticks": ""
           },
           "bgcolor": "#E5ECF6",
           "radialaxis": {
            "gridcolor": "white",
            "linecolor": "white",
            "ticks": ""
           }
          },
          "scene": {
           "xaxis": {
            "backgroundcolor": "#E5ECF6",
            "gridcolor": "white",
            "gridwidth": 2,
            "linecolor": "white",
            "showbackground": true,
            "ticks": "",
            "zerolinecolor": "white"
           },
           "yaxis": {
            "backgroundcolor": "#E5ECF6",
            "gridcolor": "white",
            "gridwidth": 2,
            "linecolor": "white",
            "showbackground": true,
            "ticks": "",
            "zerolinecolor": "white"
           },
           "zaxis": {
            "backgroundcolor": "#E5ECF6",
            "gridcolor": "white",
            "gridwidth": 2,
            "linecolor": "white",
            "showbackground": true,
            "ticks": "",
            "zerolinecolor": "white"
           }
          },
          "shapedefaults": {
           "line": {
            "color": "#2a3f5f"
           }
          },
          "ternary": {
           "aaxis": {
            "gridcolor": "white",
            "linecolor": "white",
            "ticks": ""
           },
           "baxis": {
            "gridcolor": "white",
            "linecolor": "white",
            "ticks": ""
           },
           "bgcolor": "#E5ECF6",
           "caxis": {
            "gridcolor": "white",
            "linecolor": "white",
            "ticks": ""
           }
          },
          "title": {
           "x": 0.05
          },
          "xaxis": {
           "automargin": true,
           "gridcolor": "white",
           "linecolor": "white",
           "ticks": "",
           "title": {
            "standoff": 15
           },
           "zerolinecolor": "white",
           "zerolinewidth": 2
          },
          "yaxis": {
           "automargin": true,
           "gridcolor": "white",
           "linecolor": "white",
           "ticks": "",
           "title": {
            "standoff": 15
           },
           "zerolinecolor": "white",
           "zerolinewidth": 2
          }
         }
        },
        "title": {
         "text": "Lipid vs. Retention Time"
        },
        "xaxis": {
         "title": {
          "text": "Lipid"
         }
        },
        "yaxis": {
         "title": {
          "text": "Retention Time"
         }
        }
       }
      },
      "text/html": [
       "<div>                            <div id=\"08d9c045-ee42-4c9f-afb3-58d179dde376\" class=\"plotly-graph-div\" style=\"height:525px; width:100%;\"></div>            <script type=\"text/javascript\">                require([\"plotly\"], function(Plotly) {                    window.PLOTLYENV=window.PLOTLYENV || {};                                    if (document.getElementById(\"08d9c045-ee42-4c9f-afb3-58d179dde376\")) {                    Plotly.newPlot(                        \"08d9c045-ee42-4c9f-afb3-58d179dde376\",                        [{\"hovertext\": [\"TG 50:1\"], \"marker\": {\"color\": \"red\"}, \"mode\": \"markers\", \"name\": \"740.8 -> 551.6\", \"type\": \"scatter\", \"x\": [\"740.8 -> 551.6\"], \"y\": [15.1]}, {\"hovertext\": [\"TG 50:1\"], \"marker\": {\"color\": \"red\"}, \"mode\": \"markers\", \"name\": \"768.8 -> 551.6\", \"type\": \"scatter\", \"x\": [\"768.8 -> 551.6\"], \"y\": [15.1]}, {\"hovertext\": [\"TG 50:2\"], \"marker\": {\"color\": \"red\"}, \"mode\": \"markers\", \"name\": \"740.8 -> 549.6\", \"type\": \"scatter\", \"x\": [\"740.8 -> 549.6\"], \"y\": [13.8]}, {\"hovertext\": [\"TG 50:2\"], \"marker\": {\"color\": \"red\"}, \"mode\": \"markers\", \"name\": \"768.8 -> 549.6\", \"type\": \"scatter\", \"x\": [\"768.8 -> 549.6\"], \"y\": [13.8]}, {\"hovertext\": [\"TG 52:2\"], \"marker\": {\"color\": \"red\"}, \"mode\": \"markers\", \"name\": \"766.8 -> 577.6\", \"type\": \"scatter\", \"x\": [\"766.8 -> 577.6\"], \"y\": [14.9]}, {\"hovertext\": [\"TG 52:2\"], \"marker\": {\"color\": \"red\"}, \"mode\": \"markers\", \"name\": \"794.8 -> 577.6\", \"type\": \"scatter\", \"x\": [\"794.8 -> 577.6\"], \"y\": [15.0]}, {\"hovertext\": [\"TG 52:3\"], \"marker\": {\"color\": \"red\"}, \"mode\": \"markers\", \"name\": \"722.7 -> 575.6\", \"type\": \"scatter\", \"x\": [\"722.7 -> 575.6\"], \"y\": [null]}, {\"hovertext\": [\"TG 52:3\"], \"marker\": {\"color\": \"red\"}, \"mode\": \"markers\", \"name\": \"764.8 -> 575.6\", \"type\": \"scatter\", \"x\": [\"764.8 -> 575.6\"], \"y\": [13.7]}, {\"hovertext\": [\"TG 52:3\"], \"marker\": {\"color\": \"red\"}, \"mode\": \"markers\", \"name\": \"792.8 -> 575.6\", \"type\": \"scatter\", \"x\": [\"792.8 -> 575.6\"], \"y\": [13.7]}, {\"hovertext\": [\"TG 52:4\"], \"marker\": {\"color\": \"red\"}, \"mode\": \"markers\", \"name\": \"762.8 -> 573.6\", \"type\": \"scatter\", \"x\": [\"762.8 -> 573.6\"], \"y\": [12.5]}, {\"hovertext\": [\"TG 52:4\"], \"marker\": {\"color\": \"red\"}, \"mode\": \"markers\", \"name\": \"790.8 -> 573.6\", \"type\": \"scatter\", \"x\": [\"790.8 -> 573.6\"], \"y\": [12.5]}, {\"hovertext\": [\"TG 54:3\"], \"marker\": {\"color\": \"red\"}, \"mode\": \"markers\", \"name\": \"792.8 -> 603.6\", \"type\": \"scatter\", \"x\": [\"792.8 -> 603.6\"], \"y\": [14.9]}, {\"hovertext\": [\"TG 54:3\"], \"marker\": {\"color\": \"red\"}, \"mode\": \"markers\", \"name\": \"820.8 -> 603.6\", \"type\": \"scatter\", \"x\": [\"820.8 -> 603.6\"], \"y\": [14.8]}, {\"hovertext\": [\"TG 54:4\"], \"marker\": {\"color\": \"red\"}, \"mode\": \"markers\", \"name\": \"790.8 -> 601.6\", \"type\": \"scatter\", \"x\": [\"790.8 -> 601.6\"], \"y\": [13.6]}, {\"hovertext\": [\"TG 54:4\"], \"marker\": {\"color\": \"red\"}, \"mode\": \"markers\", \"name\": \"818.8 -> 601.6\", \"type\": \"scatter\", \"x\": [\"818.8 -> 601.6\"], \"y\": [13.7]}, {\"hovertext\": [\"TG 54:5\"], \"marker\": {\"color\": \"red\"}, \"mode\": \"markers\", \"name\": \"816.8 -> 599.6\", \"type\": \"scatter\", \"x\": [\"816.8 -> 599.6\"], \"y\": [12.6]}, {\"hovertext\": [\"TG 54:5\"], \"marker\": {\"color\": \"red\"}, \"mode\": \"markers\", \"name\": \"788.8 -> 599.6\", \"type\": \"scatter\", \"x\": [\"788.8 -> 599.6\"], \"y\": [12.6]}, {\"hovertext\": [\"[TG(50:3)]_FA18:1\"], \"marker\": {\"color\": \"blue\"}, \"mode\": \"markers\", \"name\": \"846.8 -> 547.6\", \"type\": \"scatter\", \"x\": [\"846.8 -> 547.6\"], \"y\": [14.363]}, {\"hovertext\": [\"[TG(51:9),TG(50:2)]_FA18:1\"], \"marker\": {\"color\": \"blue\"}, \"mode\": \"markers\", \"name\": \"848.8 -> 549.6\", \"type\": \"scatter\", \"x\": [\"848.8 -> 549.6\"], \"y\": [14.713]}, {\"hovertext\": [\"n-9 [TG(51:8),TG(50:1)]_FA18:1\"], \"marker\": {\"color\": \"blue\"}, \"mode\": \"markers\", \"name\": \"740.8 -> 551.6\", \"type\": \"scatter\", \"x\": [\"740.8 -> 551.6\"], \"y\": [12.562999999999999]}, {\"hovertext\": [\"n-7 [TG(51:8),TG(50:1)]_FA18:1\"], \"marker\": {\"color\": \"blue\"}, \"mode\": \"markers\", \"name\": \"768.8 -> 551.6\", \"type\": \"scatter\", \"x\": [\"768.8 -> 551.6\"], \"y\": [13.239]}, {\"hovertext\": [\"[TG(51:8),TG(50:1)]_FA18:1\"], \"marker\": {\"color\": \"blue\"}, \"mode\": \"markers\", \"name\": \"850.8 -> 551.6\", \"type\": \"scatter\", \"x\": [\"850.8 -> 551.6\"], \"y\": [12.591]}, {\"hovertext\": [\"[TG(52:4)]_FA18:1\"], \"marker\": {\"color\": \"blue\"}, \"mode\": \"markers\", \"name\": \"872.8 -> 573.6\", \"type\": \"scatter\", \"x\": [\"872.8 -> 573.6\"], \"y\": [13.963999999999999]}, {\"hovertext\": [\"[TG(53:10),TG(52:3)]_FA18:1\"], \"marker\": {\"color\": \"blue\"}, \"mode\": \"markers\", \"name\": \"874.8 -> 575.6\", \"type\": \"scatter\", \"x\": [\"874.8 -> 575.6\"], \"y\": [14.713999999999999]}, {\"hovertext\": [\"[TG(53:9),TG(52:2)]_FA18:1\"], \"marker\": {\"color\": \"blue\"}, \"mode\": \"markers\", \"name\": \"876.8 -> 577.6\", \"type\": \"scatter\", \"x\": [\"876.8 -> 577.6\"], \"y\": [12.530000000000001]}, {\"hovertext\": [\"n-12 [TG(54:5)]_FA18:1\"], \"marker\": {\"color\": \"blue\"}, \"mode\": \"markers\", \"name\": \"746.8 -> 599.6\", \"type\": \"scatter\", \"x\": [\"746.8 -> 599.6\"], \"y\": [13.034]}, {\"hovertext\": [\"[TG(54:5)]_FA18:1\"], \"marker\": {\"color\": \"blue\"}, \"mode\": \"markers\", \"name\": \"898.8 -> 599.6\", \"type\": \"scatter\", \"x\": [\"898.8 -> 599.6\"], \"y\": [13.197]}, {\"hovertext\": [\"n-9 [TG(54:5)]_FA18:1\"], \"marker\": {\"color\": \"blue\"}, \"mode\": \"markers\", \"name\": \"788.8 -> 599.6\", \"type\": \"scatter\", \"x\": [\"788.8 -> 599.6\"], \"y\": [13.310000000000002]}, {\"hovertext\": [\"n-7 [TG(54:5)]_FA18:1\"], \"marker\": {\"color\": \"blue\"}, \"mode\": \"markers\", \"name\": \"816.8 -> 599.6\", \"type\": \"scatter\", \"x\": [\"816.8 -> 599.6\"], \"y\": [13.056999999999999]}, {\"hovertext\": [\"n-7 [TG(55:11),TG(54:4)]_FA18:1\"], \"marker\": {\"color\": \"blue\"}, \"mode\": \"markers\", \"name\": \"818.8 -> 601.6\", \"type\": \"scatter\", \"x\": [\"818.8 -> 601.6\"], \"y\": [13.687000000000001]}, {\"hovertext\": [\"[TG(55:11),TG(54:4)]_FA18:1\"], \"marker\": {\"color\": \"blue\"}, \"mode\": \"markers\", \"name\": \"900.8 -> 601.6\", \"type\": \"scatter\", \"x\": [\"900.8 -> 601.6\"], \"y\": [14.582000000000003]}, {\"hovertext\": [\"n-9 [TG(55:11),TG(54:4)]_FA18:1\"], \"marker\": {\"color\": \"blue\"}, \"mode\": \"markers\", \"name\": \"790.8 -> 601.6\", \"type\": \"scatter\", \"x\": [\"790.8 -> 601.6\"], \"y\": [13.057999999999998]}, {\"hovertext\": [\"n-12 [TG(55:11),TG(54:4)]_FA18:1\"], \"marker\": {\"color\": \"blue\"}, \"mode\": \"markers\", \"name\": \"748.8 -> 601.6\", \"type\": \"scatter\", \"x\": [\"748.8 -> 601.6\"], \"y\": [12.775]}, {\"hovertext\": [\"n-9 [TG(55:10),TG(54:3)]_FA18:1\"], \"marker\": {\"color\": \"blue\"}, \"mode\": \"markers\", \"name\": \"792.8 -> 603.6\", \"type\": \"scatter\", \"x\": [\"792.8 -> 603.6\"], \"y\": [13.625]}, {\"hovertext\": [\"n-12 [TG(55:10),TG(54:3)]_FA18:1\"], \"marker\": {\"color\": \"blue\"}, \"mode\": \"markers\", \"name\": \"750.8 -> 603.6\", \"type\": \"scatter\", \"x\": [\"750.8 -> 603.6\"], \"y\": [12.943000000000001]}, {\"hovertext\": [\"n-7 [TG(55:10),TG(54:3)]_FA18:1\"], \"marker\": {\"color\": \"blue\"}, \"mode\": \"markers\", \"name\": \"820.8 -> 603.6\", \"type\": \"scatter\", \"x\": [\"820.8 -> 603.6\"], \"y\": [12.833000000000002]}, {\"hovertext\": [\"[TG(55:10),TG(54:3)]_FA18:1\"], \"marker\": {\"color\": \"blue\"}, \"mode\": \"markers\", \"name\": \"902.8 -> 603.6\", \"type\": \"scatter\", \"x\": [\"902.8 -> 603.6\"], \"y\": [15.49]}],                        {\"template\": {\"data\": {\"bar\": [{\"error_x\": {\"color\": \"#2a3f5f\"}, \"error_y\": {\"color\": \"#2a3f5f\"}, \"marker\": {\"line\": {\"color\": \"#E5ECF6\", \"width\": 0.5}}, \"type\": \"bar\"}], \"barpolar\": [{\"marker\": {\"line\": {\"color\": \"#E5ECF6\", \"width\": 0.5}}, \"type\": \"barpolar\"}], \"carpet\": [{\"aaxis\": {\"endlinecolor\": \"#2a3f5f\", \"gridcolor\": \"white\", \"linecolor\": \"white\", \"minorgridcolor\": \"white\", \"startlinecolor\": \"#2a3f5f\"}, \"baxis\": {\"endlinecolor\": \"#2a3f5f\", \"gridcolor\": \"white\", \"linecolor\": \"white\", \"minorgridcolor\": \"white\", \"startlinecolor\": \"#2a3f5f\"}, \"type\": \"carpet\"}], \"choropleth\": [{\"colorbar\": {\"outlinewidth\": 0, \"ticks\": \"\"}, \"type\": \"choropleth\"}], \"contour\": [{\"colorbar\": {\"outlinewidth\": 0, \"ticks\": \"\"}, \"colorscale\": [[0.0, \"#0d0887\"], [0.1111111111111111, \"#46039f\"], [0.2222222222222222, \"#7201a8\"], [0.3333333333333333, \"#9c179e\"], [0.4444444444444444, \"#bd3786\"], [0.5555555555555556, \"#d8576b\"], [0.6666666666666666, \"#ed7953\"], [0.7777777777777778, \"#fb9f3a\"], [0.8888888888888888, \"#fdca26\"], [1.0, \"#f0f921\"]], \"type\": \"contour\"}], \"contourcarpet\": [{\"colorbar\": {\"outlinewidth\": 0, \"ticks\": \"\"}, \"type\": \"contourcarpet\"}], \"heatmap\": [{\"colorbar\": {\"outlinewidth\": 0, \"ticks\": \"\"}, \"colorscale\": [[0.0, \"#0d0887\"], [0.1111111111111111, \"#46039f\"], [0.2222222222222222, \"#7201a8\"], [0.3333333333333333, \"#9c179e\"], [0.4444444444444444, \"#bd3786\"], [0.5555555555555556, \"#d8576b\"], [0.6666666666666666, \"#ed7953\"], [0.7777777777777778, \"#fb9f3a\"], [0.8888888888888888, \"#fdca26\"], [1.0, \"#f0f921\"]], \"type\": \"heatmap\"}], \"heatmapgl\": [{\"colorbar\": {\"outlinewidth\": 0, \"ticks\": \"\"}, \"colorscale\": [[0.0, \"#0d0887\"], [0.1111111111111111, \"#46039f\"], [0.2222222222222222, \"#7201a8\"], [0.3333333333333333, \"#9c179e\"], [0.4444444444444444, \"#bd3786\"], [0.5555555555555556, \"#d8576b\"], [0.6666666666666666, \"#ed7953\"], [0.7777777777777778, \"#fb9f3a\"], [0.8888888888888888, \"#fdca26\"], [1.0, \"#f0f921\"]], \"type\": \"heatmapgl\"}], \"histogram\": [{\"marker\": {\"colorbar\": {\"outlinewidth\": 0, \"ticks\": \"\"}}, \"type\": \"histogram\"}], \"histogram2d\": [{\"colorbar\": {\"outlinewidth\": 0, \"ticks\": \"\"}, \"colorscale\": [[0.0, \"#0d0887\"], [0.1111111111111111, \"#46039f\"], [0.2222222222222222, \"#7201a8\"], [0.3333333333333333, \"#9c179e\"], [0.4444444444444444, \"#bd3786\"], [0.5555555555555556, \"#d8576b\"], [0.6666666666666666, \"#ed7953\"], [0.7777777777777778, \"#fb9f3a\"], [0.8888888888888888, \"#fdca26\"], [1.0, \"#f0f921\"]], \"type\": \"histogram2d\"}], \"histogram2dcontour\": [{\"colorbar\": {\"outlinewidth\": 0, \"ticks\": \"\"}, \"colorscale\": [[0.0, \"#0d0887\"], [0.1111111111111111, \"#46039f\"], [0.2222222222222222, \"#7201a8\"], [0.3333333333333333, \"#9c179e\"], [0.4444444444444444, \"#bd3786\"], [0.5555555555555556, \"#d8576b\"], [0.6666666666666666, \"#ed7953\"], [0.7777777777777778, \"#fb9f3a\"], [0.8888888888888888, \"#fdca26\"], [1.0, \"#f0f921\"]], \"type\": \"histogram2dcontour\"}], \"mesh3d\": [{\"colorbar\": {\"outlinewidth\": 0, \"ticks\": \"\"}, \"type\": \"mesh3d\"}], \"parcoords\": [{\"line\": {\"colorbar\": {\"outlinewidth\": 0, \"ticks\": \"\"}}, \"type\": \"parcoords\"}], \"pie\": [{\"automargin\": true, \"type\": \"pie\"}], \"scatter\": [{\"marker\": {\"colorbar\": {\"outlinewidth\": 0, \"ticks\": \"\"}}, \"type\": \"scatter\"}], \"scatter3d\": [{\"line\": {\"colorbar\": {\"outlinewidth\": 0, \"ticks\": \"\"}}, \"marker\": {\"colorbar\": {\"outlinewidth\": 0, \"ticks\": \"\"}}, \"type\": \"scatter3d\"}], \"scattercarpet\": [{\"marker\": {\"colorbar\": {\"outlinewidth\": 0, \"ticks\": \"\"}}, \"type\": \"scattercarpet\"}], \"scattergeo\": [{\"marker\": {\"colorbar\": {\"outlinewidth\": 0, \"ticks\": \"\"}}, \"type\": \"scattergeo\"}], \"scattergl\": [{\"marker\": {\"colorbar\": {\"outlinewidth\": 0, \"ticks\": \"\"}}, \"type\": \"scattergl\"}], \"scattermapbox\": [{\"marker\": {\"colorbar\": {\"outlinewidth\": 0, \"ticks\": \"\"}}, \"type\": \"scattermapbox\"}], \"scatterpolar\": [{\"marker\": {\"colorbar\": {\"outlinewidth\": 0, \"ticks\": \"\"}}, \"type\": \"scatterpolar\"}], \"scatterpolargl\": [{\"marker\": {\"colorbar\": {\"outlinewidth\": 0, \"ticks\": \"\"}}, \"type\": \"scatterpolargl\"}], \"scatterternary\": [{\"marker\": {\"colorbar\": {\"outlinewidth\": 0, \"ticks\": \"\"}}, \"type\": \"scatterternary\"}], \"surface\": [{\"colorbar\": {\"outlinewidth\": 0, \"ticks\": \"\"}, \"colorscale\": [[0.0, \"#0d0887\"], [0.1111111111111111, \"#46039f\"], [0.2222222222222222, \"#7201a8\"], [0.3333333333333333, \"#9c179e\"], [0.4444444444444444, \"#bd3786\"], [0.5555555555555556, \"#d8576b\"], [0.6666666666666666, \"#ed7953\"], [0.7777777777777778, \"#fb9f3a\"], [0.8888888888888888, \"#fdca26\"], [1.0, \"#f0f921\"]], \"type\": \"surface\"}], \"table\": [{\"cells\": {\"fill\": {\"color\": \"#EBF0F8\"}, \"line\": {\"color\": \"white\"}}, \"header\": {\"fill\": {\"color\": \"#C8D4E3\"}, \"line\": {\"color\": \"white\"}}, \"type\": \"table\"}]}, \"layout\": {\"annotationdefaults\": {\"arrowcolor\": \"#2a3f5f\", \"arrowhead\": 0, \"arrowwidth\": 1}, \"coloraxis\": {\"colorbar\": {\"outlinewidth\": 0, \"ticks\": \"\"}}, \"colorscale\": {\"diverging\": [[0, \"#8e0152\"], [0.1, \"#c51b7d\"], [0.2, \"#de77ae\"], [0.3, \"#f1b6da\"], [0.4, \"#fde0ef\"], [0.5, \"#f7f7f7\"], [0.6, \"#e6f5d0\"], [0.7, \"#b8e186\"], [0.8, \"#7fbc41\"], [0.9, \"#4d9221\"], [1, \"#276419\"]], \"sequential\": [[0.0, \"#0d0887\"], [0.1111111111111111, \"#46039f\"], [0.2222222222222222, \"#7201a8\"], [0.3333333333333333, \"#9c179e\"], [0.4444444444444444, \"#bd3786\"], [0.5555555555555556, \"#d8576b\"], [0.6666666666666666, \"#ed7953\"], [0.7777777777777778, \"#fb9f3a\"], [0.8888888888888888, \"#fdca26\"], [1.0, \"#f0f921\"]], \"sequentialminus\": [[0.0, \"#0d0887\"], [0.1111111111111111, \"#46039f\"], [0.2222222222222222, \"#7201a8\"], [0.3333333333333333, \"#9c179e\"], [0.4444444444444444, \"#bd3786\"], [0.5555555555555556, \"#d8576b\"], [0.6666666666666666, \"#ed7953\"], [0.7777777777777778, \"#fb9f3a\"], [0.8888888888888888, \"#fdca26\"], [1.0, \"#f0f921\"]]}, \"colorway\": [\"#636efa\", \"#EF553B\", \"#00cc96\", \"#ab63fa\", \"#FFA15A\", \"#19d3f3\", \"#FF6692\", \"#B6E880\", \"#FF97FF\", \"#FECB52\"], \"font\": {\"color\": \"#2a3f5f\"}, \"geo\": {\"bgcolor\": \"white\", \"lakecolor\": \"white\", \"landcolor\": \"#E5ECF6\", \"showlakes\": true, \"showland\": true, \"subunitcolor\": \"white\"}, \"hoverlabel\": {\"align\": \"left\"}, \"hovermode\": \"closest\", \"mapbox\": {\"style\": \"light\"}, \"paper_bgcolor\": \"white\", \"plot_bgcolor\": \"#E5ECF6\", \"polar\": {\"angularaxis\": {\"gridcolor\": \"white\", \"linecolor\": \"white\", \"ticks\": \"\"}, \"bgcolor\": \"#E5ECF6\", \"radialaxis\": {\"gridcolor\": \"white\", \"linecolor\": \"white\", \"ticks\": \"\"}}, \"scene\": {\"xaxis\": {\"backgroundcolor\": \"#E5ECF6\", \"gridcolor\": \"white\", \"gridwidth\": 2, \"linecolor\": \"white\", \"showbackground\": true, \"ticks\": \"\", \"zerolinecolor\": \"white\"}, \"yaxis\": {\"backgroundcolor\": \"#E5ECF6\", \"gridcolor\": \"white\", \"gridwidth\": 2, \"linecolor\": \"white\", \"showbackground\": true, \"ticks\": \"\", \"zerolinecolor\": \"white\"}, \"zaxis\": {\"backgroundcolor\": \"#E5ECF6\", \"gridcolor\": \"white\", \"gridwidth\": 2, \"linecolor\": \"white\", \"showbackground\": true, \"ticks\": \"\", \"zerolinecolor\": \"white\"}}, \"shapedefaults\": {\"line\": {\"color\": \"#2a3f5f\"}}, \"ternary\": {\"aaxis\": {\"gridcolor\": \"white\", \"linecolor\": \"white\", \"ticks\": \"\"}, \"baxis\": {\"gridcolor\": \"white\", \"linecolor\": \"white\", \"ticks\": \"\"}, \"bgcolor\": \"#E5ECF6\", \"caxis\": {\"gridcolor\": \"white\", \"linecolor\": \"white\", \"ticks\": \"\"}}, \"title\": {\"x\": 0.05}, \"xaxis\": {\"automargin\": true, \"gridcolor\": \"white\", \"linecolor\": \"white\", \"ticks\": \"\", \"title\": {\"standoff\": 15}, \"zerolinecolor\": \"white\", \"zerolinewidth\": 2}, \"yaxis\": {\"automargin\": true, \"gridcolor\": \"white\", \"linecolor\": \"white\", \"ticks\": \"\", \"title\": {\"standoff\": 15}, \"zerolinecolor\": \"white\", \"zerolinewidth\": 2}}}, \"title\": {\"text\": \"Lipid vs. Retention Time\"}, \"xaxis\": {\"title\": {\"text\": \"Lipid\"}}, \"yaxis\": {\"title\": {\"text\": \"Retention Time\"}}},                        {\"responsive\": true}                    ).then(function(){\n",
       "                            \n",
       "var gd = document.getElementById('08d9c045-ee42-4c9f-afb3-58d179dde376');\n",
       "var x = new MutationObserver(function (mutations, observer) {{\n",
       "        var display = window.getComputedStyle(gd).display;\n",
       "        if (!display || display === 'none') {{\n",
       "            console.log([gd, 'removed!']);\n",
       "            Plotly.purge(gd);\n",
       "            observer.disconnect();\n",
       "        }}\n",
       "}});\n",
       "\n",
       "// Listen for the removal of the full notebook cells\n",
       "var notebookContainer = gd.closest('#notebook-container');\n",
       "if (notebookContainer) {{\n",
       "    x.observe(notebookContainer, {childList: true});\n",
       "}}\n",
       "\n",
       "// Listen for the clearing of the current output cell\n",
       "var outputEl = gd.closest('.output');\n",
       "if (outputEl) {{\n",
       "    x.observe(outputEl, {childList: true});\n",
       "}}\n",
       "\n",
       "                        })                };                });            </script>        </div>"
      ]
     },
     "metadata": {},
     "output_type": "display_data"
    }
   ],
   "source": [
    "# import plotly.graph_objects as go\n",
    "\n",
    "# fig = go.Figure()\n",
    "\n",
    "# # For each unique transition in C_df, create a separate trace\n",
    "# for transition in C_df['MRM Transition'].unique():\n",
    "#     df = C_df[C_df['MRM Transition'] == transition]\n",
    "#     fig.add_trace(go.Scatter(\n",
    "#         y=df['Retention Time'], \n",
    "#         x=df['MRM Transition'],\n",
    "#         mode='markers',\n",
    "#         name=transition\n",
    "#     ))\n",
    "\n",
    "# # For each unique transition in sorted_df, create a separate trace\n",
    "# for transition in sorted_df['Transition'].unique():\n",
    "#     df = sorted_df[sorted_df['Transition'] == transition]\n",
    "#     fig.add_trace(go.Scatter(\n",
    "#         y=df['Mean_Retention_Time'], \n",
    "#         x=df['Transition'],\n",
    "#         mode='markers',\n",
    "#         name=transition\n",
    "#     ))\n",
    "\n",
    "# # Define the layout\n",
    "# fig.update_layout(\n",
    "#     title='Lipid vs. Retention Time',\n",
    "#     yaxis_title='Retention Time',\n",
    "#     xaxis_title='Lipid'\n",
    "# )\n",
    "\n",
    "# # Show the plot\n",
    "# fig.show()\n",
    "\n",
    "# import plotly.graph_objects as go\n",
    "\n",
    "# fig = go.Figure()\n",
    "\n",
    "# # For each unique transition in C_df, create a separate trace\n",
    "# for transition in C_df['MRM Transition'].unique():\n",
    "#     df = C_df[C_df['MRM Transition'] == transition]\n",
    "#     fig.add_trace(go.Scatter(\n",
    "#         y=df['Retention Time'], \n",
    "#         x=df['MRM Transition'],\n",
    "#         mode='markers',\n",
    "#         name=transition,\n",
    "#         marker=dict(color='red')  # Set color to red for C_df\n",
    "#     ))\n",
    "\n",
    "# # For each unique transition in sorted_df, create a separate trace\n",
    "# for transition in sorted_df['Transition'].unique():\n",
    "#     df = sorted_df[sorted_df['Transition'] == transition]\n",
    "#     fig.add_trace(go.Scatter(\n",
    "#         y=df['Mean_Retention_Time'], \n",
    "#         x=df['Transition'],\n",
    "#         mode='markers',\n",
    "#         name=transition,\n",
    "#         marker=dict(color='blue')  # Set color to blue for sorted_df\n",
    "#     ))\n",
    "\n",
    "# # Define the layout\n",
    "# fig.update_layout(\n",
    "#     title='Lipid vs. Retention Time',\n",
    "#     yaxis_title='Retention Time',\n",
    "#     xaxis_title='Lipid'\n",
    "# )\n",
    "\n",
    "# # Show the plot\n",
    "# fig.show()\n",
    "\n",
    "import plotly.graph_objects as go\n",
    "\n",
    "fig = go.Figure()\n",
    "\n",
    "# For each unique transition in C_df, create a separate trace\n",
    "for transition in C_df['MRM Transition'].unique():\n",
    "    df = C_df[C_df['MRM Transition'] == transition]\n",
    "    fig.add_trace(go.Scatter(\n",
    "        y=df['Retention Time'], \n",
    "        x=df['MRM Transition'],\n",
    "        mode='markers',\n",
    "        name=transition,\n",
    "        hovertext=df['Lipid'],\n",
    "        marker=dict(color='red')  # Set color to red for C_df\n",
    "    ))\n",
    "\n",
    "# For each unique transition in sorted_df, create a separate trace\n",
    "for transition in sorted_df['Transition'].unique():\n",
    "    df = sorted_df[sorted_df['Transition'] == transition]\n",
    "    fig.add_trace(go.Scatter(\n",
    "        y=df['Mean_Retention_Time'], \n",
    "        x=df['Transition'],\n",
    "        mode='markers',\n",
    "        name=transition,\n",
    "        hovertext=df['Lipid'],\n",
    "        marker=dict(color='blue')  # Set color to blue for sorted_df\n",
    "    ))\n",
    "\n",
    "# Define the layout\n",
    "fig.update_layout(\n",
    "    title='Lipid vs. Retention Time',\n",
    "    yaxis_title='Retention Time',\n",
    "    xaxis_title='Lipid'\n",
    ")\n",
    "\n",
    "# Show the plot\n",
    "fig.show()\n"
   ]
  }
 ],
 "metadata": {
  "kernelspec": {
   "display_name": "pymzml",
   "language": "python",
   "name": "python3"
  },
  "language_info": {
   "codemirror_mode": {
    "name": "ipython",
    "version": 3
   },
   "file_extension": ".py",
   "mimetype": "text/x-python",
   "name": "python",
   "nbconvert_exporter": "python",
   "pygments_lexer": "ipython3",
   "version": "3.9.15"
  },
  "orig_nbformat": 4
 },
 "nbformat": 4,
 "nbformat_minor": 2
}
