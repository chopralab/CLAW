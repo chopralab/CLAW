{
 "cells": [
  {
   "attachments": {},
   "cell_type": "markdown",
   "metadata": {},
   "source": [
    "Isotope Correction Notebook"
   ]
  },
  {
   "cell_type": "code",
   "execution_count": 1,
   "metadata": {},
   "outputs": [
    {
     "name": "stdout",
     "output_type": "stream",
     "text": [
      "No module named 'ms_deisotope._c.averagine' averagine\n",
      "No module named 'ms_deisotope._c.scoring'\n",
      "No module named 'ms_deisotope._c.deconvoluter_base'\n",
      "No module named 'ms_deisotope._c.deconvoluter_base'\n",
      "No module named 'ms_deisotope._c.deconvoluter_base'\n"
     ]
    }
   ],
   "source": [
    "#Import all the necessary libraries\n",
    "import pymzml\n",
    "import csv\n",
    "import os\n",
    "import pandas as pd\n",
    "import numpy as np\n",
    "import math\n",
    "from matplotlib import pyplot as plt\n",
    "import re\n",
    "import plotly.express as px\n",
    "from IPython.display import Image"
   ]
  },
  {
   "cell_type": "code",
   "execution_count": 64,
   "metadata": {},
   "outputs": [
    {
     "data": {
      "text/html": [
       "<div>\n",
       "<style scoped>\n",
       "    .dataframe tbody tr th:only-of-type {\n",
       "        vertical-align: middle;\n",
       "    }\n",
       "\n",
       "    .dataframe tbody tr th {\n",
       "        vertical-align: top;\n",
       "    }\n",
       "\n",
       "    .dataframe thead th {\n",
       "        text-align: right;\n",
       "    }\n",
       "</style>\n",
       "<table border=\"1\" class=\"dataframe\">\n",
       "  <thead>\n",
       "    <tr style=\"text-align: right;\">\n",
       "      <th></th>\n",
       "      <th>m/z</th>\n",
       "      <th>intensity</th>\n",
       "    </tr>\n",
       "  </thead>\n",
       "  <tbody>\n",
       "    <tr>\n",
       "      <th>0</th>\n",
       "      <td>700.0</td>\n",
       "      <td>41.899998</td>\n",
       "    </tr>\n",
       "    <tr>\n",
       "      <th>1</th>\n",
       "      <td>700.1</td>\n",
       "      <td>2612.440186</td>\n",
       "    </tr>\n",
       "    <tr>\n",
       "      <th>2</th>\n",
       "      <td>700.2</td>\n",
       "      <td>3349.796143</td>\n",
       "    </tr>\n",
       "    <tr>\n",
       "      <th>3</th>\n",
       "      <td>700.3</td>\n",
       "      <td>3049.846191</td>\n",
       "    </tr>\n",
       "    <tr>\n",
       "      <th>4</th>\n",
       "      <td>700.4</td>\n",
       "      <td>1930.580078</td>\n",
       "    </tr>\n",
       "  </tbody>\n",
       "</table>\n",
       "</div>"
      ],
      "text/plain": [
       "     m/z    intensity\n",
       "0  700.0    41.899998\n",
       "1  700.1  2612.440186\n",
       "2  700.2  3349.796143\n",
       "3  700.3  3049.846191\n",
       "4  700.4  1930.580078"
      ]
     },
     "execution_count": 64,
     "metadata": {},
     "output_type": "execute_result"
    }
   ],
   "source": [
    "test = pd.read_csv('data_OzESI/isotope/isotope_csv/RT 13.2_NL271.csv', skiprows=1)\n",
    "\n",
    "#change column X(Thomsons)) to m/z\n",
    "test['m/z'] = test.loc[:,'X(Thomsons)']\n",
    "test['intensity'] = test.loc[:,'Y(Counts)']\n",
    "test = test.drop(['X(Thomsons)'], axis=1)\n",
    "test = test.drop(['Y(Counts)'], axis=1)\n",
    "test = test.drop(['#Point'], axis=1)\n",
    "test.head()"
   ]
  },
  {
   "cell_type": "code",
   "execution_count": 66,
   "metadata": {},
   "outputs": [
    {
     "name": "stdout",
     "output_type": "stream",
     "text": [
      "        m/z     intensity\n",
      "1748  874.8  18602.994141\n"
     ]
    }
   ],
   "source": [
    "#find 874 in the m/z column\n",
    "#test.loc[test['m/z'] == 874.8]\n",
    "\n",
    "def find_mz_row(mz):\n",
    "    print(test.loc[test['m/z'] == mz])\n",
    "\n",
    "find_mz_row(874.8)"
   ]
  },
  {
   "cell_type": "code",
   "execution_count": 67,
   "metadata": {},
   "outputs": [],
   "source": [
    "#create a function that inputs the m/z value and intensity and outputs 3 m/z values and 3 intensities at 60% of the original intensity, 19.5% of the original intensity and 0.5% of the original intensity and 4% of the original intensity\n",
    "def isotope_correction(mz, intensity, dataframe):\n",
    "    mz1 = mz\n",
    "    mz2 = mz + 1\n",
    "    mz3 = mz + 2\n",
    "    mz4 = mz + 3\n",
    "    intensity1 = intensity\n",
    "    intensity2 = intensity * 0.609\n",
    "    intensity3 = intensity * 0.195\n",
    "    intensity4 = intensity * 0.042\n",
    "    isotope1 = 100\n",
    "    isotope2 = 60.9\n",
    "    isotope3 = 19.5\n",
    "    isotope4 = 4.2\n",
    "    print('mz1: ',mz1,'intensity1: ', float(intensity1.round(0)),  '\\nmz2: ', \n",
    "          mz2,'intensity2: ', float(intensity2.round(0)), '\\nmz3: ', \n",
    "          mz3,'intensity3: ', float(intensity3.round(0)), '\\nmz4: ', \n",
    "          mz4,    'intensity4: ', float(intensity4.round(0))\n",
    "    )\n",
    "    #append all the new values to the dataframe\n",
    "    dataframe.loc[len(dataframe)] = [mz1, intensity1.round(0), isotope1]\n",
    "    dataframe.loc[len(dataframe)] = [mz2, intensity2.round(0), isotope2]\n",
    "    dataframe.loc[len(dataframe)] = [mz3, intensity3.round(0), isotope3]\n",
    "    dataframe.loc[len(dataframe)] = [mz4, intensity4.round(0), isotope4]\n",
    "    return mz1, mz2, mz3, mz4, intensity1, intensity2, intensity3, intensity4"
   ]
  },
  {
   "cell_type": "code",
   "execution_count": 69,
   "metadata": {},
   "outputs": [
    {
     "name": "stdout",
     "output_type": "stream",
     "text": [
      "mz1:  874.8 intensity1:  18603.0 \n",
      "mz2:  875.8 intensity2:  11329.0 \n",
      "mz3:  876.8 intensity3:  3628.0 \n",
      "mz4:  877.8 intensity4:  781.0\n"
     ]
    },
    {
     "data": {
      "text/plain": [
       "(874.8,\n",
       " 875.8,\n",
       " 876.8,\n",
       " 877.8,\n",
       " 18602.994140625,\n",
       " 11329.223431640625,\n",
       " 3627.583857421875,\n",
       " 781.32575390625)"
      ]
     },
     "execution_count": 69,
     "metadata": {},
     "output_type": "execute_result"
    }
   ],
   "source": [
    "df = pd.DataFrame(columns=['m/z', 'intensity', 'Isotope %'])\n",
    "isotope_correction(test.iloc[1748,0], test.iloc[1748,1], df)"
   ]
  },
  {
   "cell_type": "code",
   "execution_count": 70,
   "metadata": {},
   "outputs": [
    {
     "data": {
      "text/html": [
       "<div>\n",
       "<style scoped>\n",
       "    .dataframe tbody tr th:only-of-type {\n",
       "        vertical-align: middle;\n",
       "    }\n",
       "\n",
       "    .dataframe tbody tr th {\n",
       "        vertical-align: top;\n",
       "    }\n",
       "\n",
       "    .dataframe thead th {\n",
       "        text-align: right;\n",
       "    }\n",
       "</style>\n",
       "<table border=\"1\" class=\"dataframe\">\n",
       "  <thead>\n",
       "    <tr style=\"text-align: right;\">\n",
       "      <th></th>\n",
       "      <th>m/z</th>\n",
       "      <th>intensity</th>\n",
       "      <th>Isotope %</th>\n",
       "    </tr>\n",
       "  </thead>\n",
       "  <tbody>\n",
       "    <tr>\n",
       "      <th>0</th>\n",
       "      <td>874.8</td>\n",
       "      <td>18603.0</td>\n",
       "      <td>100.0</td>\n",
       "    </tr>\n",
       "    <tr>\n",
       "      <th>1</th>\n",
       "      <td>875.8</td>\n",
       "      <td>11329.0</td>\n",
       "      <td>60.9</td>\n",
       "    </tr>\n",
       "    <tr>\n",
       "      <th>2</th>\n",
       "      <td>876.8</td>\n",
       "      <td>3628.0</td>\n",
       "      <td>19.5</td>\n",
       "    </tr>\n",
       "    <tr>\n",
       "      <th>3</th>\n",
       "      <td>877.8</td>\n",
       "      <td>781.0</td>\n",
       "      <td>4.2</td>\n",
       "    </tr>\n",
       "  </tbody>\n",
       "</table>\n",
       "</div>"
      ],
      "text/plain": [
       "     m/z  intensity  Isotope %\n",
       "0  874.8    18603.0      100.0\n",
       "1  875.8    11329.0       60.9\n",
       "2  876.8     3628.0       19.5\n",
       "3  877.8      781.0        4.2"
      ]
     },
     "execution_count": 70,
     "metadata": {},
     "output_type": "execute_result"
    }
   ],
   "source": [
    "df"
   ]
  },
  {
   "cell_type": "code",
   "execution_count": 71,
   "metadata": {},
   "outputs": [],
   "source": [
    "# Zm = [(Nc * 1.12) * (Nc * 1.12)/200 + No * 0.204)]/100 \n",
    "#Nc number of carbons\n",
    "#No number of oxygens\n",
    "\n",
    "def Zm(Nc,No):\n",
    "    Zm = ((Nc * 1.12) * (Nc * 1.12)/200 + No * 0.204)/100\n",
    "    return Zm"
   ]
  },
  {
   "cell_type": "code",
   "execution_count": 72,
   "metadata": {},
   "outputs": [
    {
     "data": {
      "text/plain": [
       "0.21601728"
      ]
     },
     "execution_count": 72,
     "metadata": {},
     "output_type": "execute_result"
    }
   ],
   "source": [
    "Zm(57,6)"
   ]
  }
 ],
 "metadata": {
  "kernelspec": {
   "display_name": "pymzml",
   "language": "python",
   "name": "python3"
  },
  "language_info": {
   "codemirror_mode": {
    "name": "ipython",
    "version": 3
   },
   "file_extension": ".py",
   "mimetype": "text/x-python",
   "name": "python",
   "nbconvert_exporter": "python",
   "pygments_lexer": "ipython3",
   "version": "3.9.15"
  },
  "orig_nbformat": 4
 },
 "nbformat": 4,
 "nbformat_minor": 2
}
