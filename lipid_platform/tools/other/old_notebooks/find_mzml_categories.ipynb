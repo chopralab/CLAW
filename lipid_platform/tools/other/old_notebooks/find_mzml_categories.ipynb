{
 "cells": [
  {
   "cell_type": "code",
   "execution_count": 1,
   "metadata": {},
   "outputs": [
    {
     "name": "stdout",
     "output_type": "stream",
     "text": [
      "{'Biology': ['cortex', 'dienc', 'cereb', 'hippo'], 'Genotype': ['5xFAD', 'WT'], 'Cage': ['FAD231', 'FAD259', 'FAD257', 'FAD263', 'FAD249', 'FAD246', 'FAD245'], 'Mouse': ['m2', 'm5', 'm1', 'm3', 'm4']}\n",
      "Group columns: ['Lipid', 'Sample_ID', 'Biology', 'Genotype', 'Mouse', 'Cage']\n"
     ]
    }
   ],
   "source": [
    "import os\n",
    "import re\n",
    "import pandas as pd\n",
    "\n",
    "def extract_details_from_filename(filename):\n",
    "    # Define the pattern to extract details from the filename\n",
    "    pattern = r'_(?P<Genotype>\\w+)-(?P<Mouse>m\\d+)-(?P<Biology>\\w+)-(?P<Cage>FAD\\d+)_'\n",
    "    match = re.search(pattern, filename)\n",
    "    if match:\n",
    "        return match.group('Genotype'), match.group('Mouse'), match.group('Biology'), match.group('Cage')\n",
    "    else:\n",
    "        return None, None, None, None\n",
    "\n",
    "def get_file_details(directory):\n",
    "    file_details = {'Biology': [], 'Genotype': [], 'Cage': [], 'Mouse': []}\n",
    "    \n",
    "    # Iterate through each file in the directory\n",
    "    for filename in os.listdir(directory):\n",
    "        if filename.endswith('.mzML'):\n",
    "            genotype, mouse, biology, cage = extract_details_from_filename(filename)\n",
    "            if all([genotype, mouse, biology, cage]):\n",
    "                file_details['Biology'].append(biology)\n",
    "                file_details['Genotype'].append(genotype)\n",
    "                file_details['Cage'].append(cage)\n",
    "                file_details['Mouse'].append(mouse)\n",
    "    \n",
    "    return file_details\n",
    "\n",
    "def main():\n",
    "    directory = 'Projects/AMP/AMP_OFF'  # Specify the directory here\n",
    "    file_details = get_file_details(directory)\n",
    "    \n",
    "    # Convert the details to a pandas DataFrame\n",
    "    df = pd.DataFrame(file_details)\n",
    "    \n",
    "    # Drop duplicates to get unique values\n",
    "    df_unique = df.drop_duplicates().reset_index(drop=True)\n",
    "    \n",
    "    # Create the dictionary of values similar to the example\n",
    "    new_columns = {\n",
    "        'Biology': df_unique['Biology'].unique().tolist(),\n",
    "        'Genotype': df_unique['Genotype'].unique().tolist(),\n",
    "        'Cage': df_unique['Cage'].unique().tolist(),\n",
    "        'Mouse': df_unique['Mouse'].unique().tolist()\n",
    "    }\n",
    "    \n",
    "    # Print the resulting dictionary\n",
    "    print(new_columns)\n",
    "    \n",
    "    # Define group columns\n",
    "    group_columns = ['Lipid', 'Sample_ID', 'Biology', 'Genotype', 'Mouse', 'Cage']\n",
    "    print(\"Group columns:\", group_columns)\n",
    "\n",
    "if __name__ == \"__main__\":\n",
    "    main()\n"
   ]
  }
 ],
 "metadata": {
  "kernelspec": {
   "display_name": "CLA",
   "language": "python",
   "name": "python3"
  },
  "language_info": {
   "codemirror_mode": {
    "name": "ipython",
    "version": 3
   },
   "file_extension": ".py",
   "mimetype": "text/x-python",
   "name": "python",
   "nbconvert_exporter": "python",
   "pygments_lexer": "ipython3",
   "version": "3.7.13"
  }
 },
 "nbformat": 4,
 "nbformat_minor": 2
}
