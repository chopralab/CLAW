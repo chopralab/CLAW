{
 "cells": [
  {
   "cell_type": "code",
   "execution_count": null,
   "metadata": {},
   "outputs": [],
   "source": [
    "import pandas as pd\n",
    "\n",
    "filepath = 'Genotype_5xFAD vs Genotype_WTBlank1_full.csv'\n",
    "savepath = 'test.csv'\n",
    "# Load the CSV file\n",
    "df = pd.read_csv('filepath')\n",
    "\n",
    "# Drop columns from 'Title1' to 'Blank_name'\n",
    "cols_to_drop = ['Title1', 'Title2', 'Title', 'length1', 'length2', 'Blank_name']\n",
    "df = df.drop(columns=cols_to_drop)\n",
    "\n",
    "# Save the modified DataFrame back to a CSV\n",
    "df.to_csv('savepath', index=False)\n"
   ]
  }
 ],
 "metadata": {
  "kernelspec": {
   "display_name": "pymzml",
   "language": "python",
   "name": "python3"
  },
  "language_info": {
   "name": "python",
   "version": "3.9.15"
  },
  "orig_nbformat": 4
 },
 "nbformat": 4,
 "nbformat_minor": 2
}
