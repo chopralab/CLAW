{
 "cells": [
  {
   "cell_type": "code",
   "execution_count": 2,
   "metadata": {},
   "outputs": [],
   "source": [
    "import os\n",
    "\n",
    "def rename_csv_files():\n",
    "    # Get all files in the current directory\n",
    "    files = os.listdir('.')\n",
    "\n",
    "    # Loop through each file\n",
    "    for filename in files:\n",
    "        # Check if the file is a CSV file and contains a colon\n",
    "        if filename.endswith('.csv') and ':' in filename:\n",
    "            # Replace colon with underscore\n",
    "            new_filename = filename.replace(':', '_')\n",
    "            # Rename the file\n",
    "            os.rename(filename, new_filename)\n",
    "            print(f\"Renamed '{filename}' to '{new_filename}'\")\n",
    "\n",
    "# Execute the function\n",
    "rename_csv_files()\n"
   ]
  }
 ],
 "metadata": {
  "kernelspec": {
   "display_name": "CLA",
   "language": "python",
   "name": "python3"
  },
  "language_info": {
   "codemirror_mode": {
    "name": "ipython",
    "version": 3
   },
   "file_extension": ".py",
   "mimetype": "text/x-python",
   "name": "python",
   "nbconvert_exporter": "python",
   "pygments_lexer": "ipython3",
   "version": "3.7.13"
  }
 },
 "nbformat": 4,
 "nbformat_minor": 2
}
