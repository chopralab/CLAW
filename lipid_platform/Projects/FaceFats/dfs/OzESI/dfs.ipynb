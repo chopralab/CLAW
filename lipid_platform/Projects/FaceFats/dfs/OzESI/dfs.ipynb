{
 "cells": [
  {
   "cell_type": "code",
   "execution_count": 2,
   "metadata": {},
   "outputs": [],
   "source": [
    "import pandas as pd\n",
    "\n",
    "# Load the CSV file into a DataFrame\n",
    "df = pd.read_csv('FaceFatsOzdf.csv')\n",
    "\n",
    "# Determine the number of rows in the DataFrame\n",
    "total_rows = len(df)\n",
    "\n",
    "# Calculate the size of each new DataFrame\n",
    "size = total_rows // 10\n",
    "remainder = total_rows % 10\n",
    "\n",
    "# Split the DataFrame into 10 new DataFrames and save them\n",
    "file_paths = []\n",
    "for i in range(10):\n",
    "    start_index = i * size\n",
    "    end_index = start_index + size if i < 9 else total_rows  # Last file includes the remainder\n",
    "    df_split = df.iloc[start_index:end_index]\n",
    "    file_name = f'1_{i+1}.csv'\n",
    "    df_split.to_csv(file_name, index=False)\n",
    "    file_paths.append(file_name)\n",
    "\n",
    "# file_paths contains the names of the saved files\n"
   ]
  }
 ],
 "metadata": {
  "kernelspec": {
   "display_name": "CLA",
   "language": "python",
   "name": "python3"
  },
  "language_info": {
   "codemirror_mode": {
    "name": "ipython",
    "version": 3
   },
   "file_extension": ".py",
   "mimetype": "text/x-python",
   "name": "python",
   "nbconvert_exporter": "python",
   "pygments_lexer": "ipython3",
   "version": "3.7.13"
  }
 },
 "nbformat": 4,
 "nbformat_minor": 2
}
