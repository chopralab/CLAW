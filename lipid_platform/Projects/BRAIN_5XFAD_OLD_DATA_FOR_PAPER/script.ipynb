{
 "cells": [
  {
   "cell_type": "code",
   "execution_count": 1,
   "metadata": {},
   "outputs": [
    {
     "name": "stdout",
     "output_type": "stream",
     "text": [
      "Files copied successfully!\n"
     ]
    }
   ],
   "source": [
    "import os\n",
    "import shutil\n",
    "\n",
    "# Source and destination directories\n",
    "src_dir = 'Pre_EdgeR'\n",
    "dest_dir = 'edgeR'\n",
    "\n",
    "# Create the destination directory if it doesn't exist\n",
    "if not os.path.exists(dest_dir):\n",
    "    os.makedirs(dest_dir)\n",
    "\n",
    "# Iterate over all files in the source directory\n",
    "for filename in os.listdir(src_dir):\n",
    "    # If the file name contains a colon, replace it with nothing\n",
    "    new_filename = filename.replace(':', '')\n",
    "    \n",
    "    # Copy the file to the destination directory with the new name\n",
    "    shutil.copy(os.path.join(src_dir, filename), os.path.join(dest_dir, new_filename))\n",
    "\n",
    "print(\"Files copied successfully!\")\n"
   ]
  }
 ],
 "metadata": {
  "kernelspec": {
   "display_name": "Python 3",
   "language": "python",
   "name": "python3"
  },
  "language_info": {
   "codemirror_mode": {
    "name": "ipython",
    "version": 3
   },
   "file_extension": ".py",
   "mimetype": "text/x-python",
   "name": "python",
   "nbconvert_exporter": "python",
   "pygments_lexer": "ipython3",
   "version": "3.8.17"
  }
 },
 "nbformat": 4,
 "nbformat_minor": 2
}
