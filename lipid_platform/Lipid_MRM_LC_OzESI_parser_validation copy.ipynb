{
 "cells": [
  {
   "attachments": {},
   "cell_type": "markdown",
   "metadata": {},
   "source": [
    "# Automated Multiple Reaction Monitoring (MRM)-profiling and Ozone Electrospray Ionizaton (OzESI)-MRM Informatics Platform for High-throughput Lipidomics\n",
    "\n",
    "\n",
    "In this jupyter notebook you will automate the data analysis of the lipidome. This is a challenging problem to perform manually due to the diverse nature of lipids and the many potential isomers. In this notebook you will analyze mzML files containing data from lipid MRMs, with ozone off and ozone on. The goal is to identify possible double-bond locations in a lipid, in this case a TAG (triacylglycerols)."
   ]
  },
  {
   "cell_type": "code",
   "execution_count": 121,
   "metadata": {},
   "outputs": [],
   "source": [
    "from IPython.display import Image"
   ]
  },
  {
   "attachments": {},
   "cell_type": "markdown",
   "metadata": {},
   "source": [
    "![title](Figures/agilent_lcms.png)\n",
    "\n",
    "The examples shown here were run on an Agilent 6495C Triple Quadrupole LC/MS (example shown above) that has been connected to an ozone line (not shown in picture) for ozoneolysis of lipids."
   ]
  },
  {
   "attachments": {},
   "cell_type": "markdown",
   "metadata": {},
   "source": [
    "![title](Figures/TAG_example.png)\n",
    "Here is an example of a TAG. Notice how many possibilities there are for locations of one double-bond there could be and how convoluted the analysis can become! This image is obtained from LipidMaps.org"
   ]
  },
  {
   "attachments": {},
   "cell_type": "markdown",
   "metadata": {},
   "source": [
    "Import all necessary libraries"
   ]
  },
  {
   "cell_type": "code",
   "execution_count": 122,
   "metadata": {},
   "outputs": [],
   "source": [
    "#Import all the necessary libraries\n",
    "import pymzml\n",
    "import csv\n",
    "import os\n",
    "import pandas as pd\n",
    "import numpy as np\n",
    "import math\n",
    "from matplotlib import pyplot as plt\n",
    "import re\n",
    "import plotly.express as px\n",
    "from collections import defaultdict\n",
    "\n"
   ]
  },
  {
   "cell_type": "code",
   "execution_count": 123,
   "metadata": {},
   "outputs": [],
   "source": [
    "###Importing Variables for all functions\n",
    "\n",
    "data_base_name_location = 'lipid_database/Lipid_Database.xlsx'####Lipid database with Standard Carnitines\n",
    "mzml_folder = './data_mzml/04-29-2023_mzml/test_oz_1/'\n",
    "tolerance = 0.3\n",
    "remove_std = True\n",
    "\n",
    "# Example usage:\n",
    "folder_name_to_save = 'TEST_04-29-2023_validation_test_1'\n",
    "file_name_to_save = 'TEST_04-29-2023_validation_test_1'\n",
    "save_data= True\n",
    "\n",
    "\n",
    "\n"
   ]
  },
  {
   "attachments": {},
   "cell_type": "markdown",
   "metadata": {},
   "source": [
    "Lipid MRM Parsing and Matching Functions"
   ]
  },
  {
   "cell_type": "code",
   "execution_count": 124,
   "metadata": {
    "scrolled": true
   },
   "outputs": [],
   "source": [
    "\n",
    "###All functions\n",
    "\n",
    "#Function to read in MRM database\n",
    "#Option to remove STDs from database##Not finished need option to use another database with no qualitative ACs\n",
    "\n",
    "\n",
    "def read_mrm_list(filename,remove_std = True):\n",
    "    mrm_list_new = pd.read_excel(filename, sheet_name=None)\n",
    "    mrm_list_new = pd.concat(mrm_list_new, ignore_index=True)\n",
    "    mrm_list_offical = mrm_list_new[['Compound Name', 'Parent Ion', 'Product Ion', 'Class']]\n",
    "    # Add underscore to middle of columns names\n",
    "    mrm_list_offical.columns = mrm_list_offical.columns.str.replace(' ', '_')\n",
    "    # Round Parent Ion and Product Ion to 1 decimal place\n",
    "    mrm_list_offical['Parent_Ion'] = np.round(mrm_list_offical['Parent_Ion'],1)\n",
    "    mrm_list_offical['Product_Ion'] = np.round(mrm_list_offical['Product_Ion'],1)\n",
    "    # Create transition column by combining Parent Ion and Product Ion with arrow between numbers\n",
    "    mrm_list_offical['Transition'] = mrm_list_offical['Parent_Ion'].astype(str) + ' -> ' + mrm_list_offical['Product_Ion'].astype(str)\n",
    "    # Change column compound name to lipid\n",
    "    mrm_list_offical = mrm_list_offical.rename(columns={'Compound_Name': 'Lipid'})\n",
    "    # Make a column called Class match lipid column to lipid types\n",
    "    if remove_std == True:\n",
    "        lipid_class = mrm_list_offical['Class'].unique()\n",
    "        lipid_class_to_keep = ['PS','PG','CE','PC', 'DAG', 'PE', 'TAG', 'FA', 'Cer', 'CAR', 'PI','SM']\n",
    "        mrm_list_offical = mrm_list_offical[mrm_list_offical['Class'].isin(lipid_class_to_keep)]\n",
    "    return mrm_list_offical\n",
    "\n",
    "#OzESI\n",
    "OzESI_time = {}\n",
    "def mzml_parser(file_name):\n",
    "    df = pd.DataFrame(columns=['Lipid','Parent_Ion','Product_Ion','Intensity','Transition','Class','Sample_ID'])\n",
    "    data_folder = os.listdir(file_name) #Path to the mzml files\n",
    "    data_folder.sort()\n",
    "    path_to_mzml_files = file_name\n",
    "\n",
    "    \n",
    "    \n",
    "\n",
    "    for file in data_folder:\n",
    "            if file.endswith('.mzML'):\n",
    "\n",
    "                    run = pymzml.run.Reader(path_to_mzml_files+file, skip_chromatogram=False) #Load the mzml file into the run object\n",
    "\n",
    "\n",
    "\n",
    "                    df_all = pd.DataFrame(columns=['Lipid','Parent_Ion','Product_Ion','Intensity','Transition','Class','Sample_ID']) #Create empty pandas dataframe to store the data\n",
    "\n",
    "                    #create pandas dataframe to store the data with the columns Parent Ion, Product Ion, Intensity, Transition Lipid and Class\n",
    "                   \n",
    "                    q1_mz = 0 #Create empty variables to store the Q1 and Q3 m/z values\n",
    "                    q3_mz = 0\n",
    "                    count = 0 #Create a counter to keep track of the number of transitions\n",
    "                    for spectrum in run:\n",
    "                        if isinstance(spectrum, pymzml.spec.Chromatogram):\n",
    "                            for time, intensity in spectrum.peaks():\n",
    "                                OzESI_time[time] = np.round(intensity), q1_mz, q3_mz\n",
    "\n",
    "                            for element in spectrum.ID.split(' '):\n",
    "                                    intensity_store = np.array([])\n",
    "                                    if 'Q1' in element:\n",
    "                                            q1 = element.split('=')\n",
    "                                            q1_mz= np.round((float(q1[1])),1)\n",
    "\n",
    "                                    if 'Q3' in element:\n",
    "                                \n",
    "                                            q3 = element.split('=')\n",
    "  \n",
    "                                            q3_mz=np.round(float(q3[1]),1)\n",
    "\n",
    "\n",
    "                                            for mz,intensity in spectrum.peaks(): #Get the m/z and intensity values from the spectrum\n",
    "                                                    intensity_store = np.append(intensity_store,intensity) #Store the intensity values in an array\n",
    "\n",
    "\n",
    "\n",
    "                                    if 'Q3' in element:\n",
    "                                            # print(intensity_sum)\n",
    "                                            intensity_sum = np.sum(intensity_store) #Sum the intensity values\n",
    "                                            df_all.loc[count,'Parent_Ion'] = q1_mz #Store the Q1 and Q3 m/z values in the pandas dataframe\n",
    "                                            df_all.loc[count,'Product_Ion'] = q3_mz\n",
    "                                            #round the Q1 and Q3 m/z values to 1 decimal places\n",
    "                                            df_all.loc[count,'Parent_Ion'] = np.round(df_all.loc[count,'Parent_Ion'],1)\n",
    "                                            df_all.loc[count,'Product_Ion'] = np.round(df_all.loc[count,'Product_Ion'],1)\n",
    "                                            df_all.loc[count,'Intensity'] = intensity_sum #Store the intensity values in the pandas dataframe\n",
    "                                            df_all.loc[count,'Transition'] = str(q1_mz)+ ' -> '+ str(q3_mz) #Store the transition values in the pandas dataframe\n",
    "                                            #add file name to Sample_ID column without the mzmL extension\n",
    "                                            df_all.loc[count,'Sample_ID'] = file[:-5]\n",
    "                                            count+=1\n",
    "\n",
    "            #append df_all to df\n",
    "            df = df.append(df_all, ignore_index=True)\n",
    "    return df\n",
    "\n",
    "# Function to create an ion dictionary from an MRM database DataFrame\n",
    "def create_ion_dict(mrm_database):\n",
    "    ion_dict = defaultdict(list)\n",
    "    # Iterate through the rows of the MRM database DataFrame\n",
    "    for index, row in mrm_database.iterrows():\n",
    "        # Add a tuple with Lipid and Class to the ion dictionary using Parent_Ion and Product_Ion as the key\n",
    "        ion_dict[(row['Parent_Ion'], row['Product_Ion'])].append((row['Lipid'], row['Class']))\n",
    "    return ion_dict\n",
    "\n",
    "# Function to check if the absolute difference between two values is within a given tolerance\n",
    "def within_tolerance(a, b, tolerance=0.1):\n",
    "    return abs(a - b) <= tolerance\n",
    "\n",
    "# Function to match the ions in a DataFrame row with the ions in an ion dictionary\n",
    "def match_ions(row, ion_dict, tolerance=0.1):\n",
    "    ions = (row['Parent_Ion'], row['Product_Ion'])\n",
    "    matched_lipids = []\n",
    "    matched_classes = []\n",
    "\n",
    "    # Iterate through the ion dictionary\n",
    "    for key, value in ion_dict.items():\n",
    "        # Check if both the Parent_Ion and Product_Ion values are within the specified tolerance\n",
    "        if within_tolerance(ions[0], key[0], tolerance) and within_tolerance(ions[1], key[1], tolerance):\n",
    "            # If within tolerance, extend the matched_lipids and matched_classes lists with the corresponding values\n",
    "            matched_lipids.extend([match[0] for match in value])\n",
    "            matched_classes.extend([match[1] for match in value])\n",
    "\n",
    "    # If any matches were found, update the Lipid and Class columns in the row\n",
    "    if matched_lipids and matched_classes:\n",
    "        row['Lipid'] = ' | '.join(matched_lipids)\n",
    "        row['Class'] = ' | '.join(matched_classes)\n",
    "\n",
    "    return row\n",
    "\n",
    "####Combined functions for Matching\n",
    "\n",
    "def match_lipids_parser(mrm_database,df, tolerance=0.3):\n",
    "    ion_dict = create_ion_dict(mrm_database)\n",
    "    # Assuming you have the df DataFrame to apply the match_ions function\n",
    "    df_matched = df.apply(lambda row: match_ions(row, ion_dict=ion_dict, tolerance=tolerance), axis=1)\n",
    "\n",
    "\n",
    "    # df_matched = df_matched.dropna()\n",
    "    \n",
    "    return df_matched\n",
    "\n",
    "\n",
    "def save_dataframe(df, folder_name, file_name, max_attempts=5):\n",
    "    folder_path = f'data_results/data/data_matching/{folder_name}'\n",
    "    os.makedirs(folder_path, exist_ok=True)\n",
    "\n",
    "    for i in range(max_attempts):\n",
    "        file_path = f'{folder_path}/{file_name}.csv'\n",
    "        if not os.path.isfile(file_path):\n",
    "            df.to_csv(file_path, index=False)\n",
    "            print(f\"Saved DataFrame to {file_path}\")\n",
    "            break\n",
    "    else:\n",
    "        print(f\"Failed to save DataFrame after {max_attempts} attempts.\")\n",
    "        return None\n",
    "\n",
    "\n",
    "def full_parse(data_base_name_location,mzml_folder, folder_name_to_save, file_name_to_save,tolerance,remove_std = True,\n",
    "               save_data=False):\n",
    "    mrm_database = read_mrm_list(data_base_name_location,remove_std=remove_std)\n",
    "    df = mzml_parser(mzml_folder)\n",
    "    df_matched = match_lipids_parser(mrm_database,df, tolerance=tolerance)\n",
    "    \n",
    "    if save_data == True:\n",
    "        \n",
    "        save_dataframe(df_matched, folder_name_to_save, file_name_to_save)\n",
    "\n",
    "    return df_matched\n",
    "\n",
    "\n",
    "\n"
   ]
  },
  {
   "cell_type": "code",
   "execution_count": 188,
   "metadata": {},
   "outputs": [
    {
     "name": "stdout",
     "output_type": "stream",
     "text": [
      "[(0.00011666666666666667, (151.0, 900.8, 601.6)), (0.0035, (150.0, 898.8, 599.6)), (0.006883333333333333, (244.0, 876.8, 577.6)), (0.010283333333333334, (185.0, 874.8, 575.6)), (0.013666666666666667, (165.0, 872.8, 573.6)), (0.01705, (319.0, 850.8, 551.6)), (0.020433333333333335, (311.0, 848.8, 549.6)), (0.023833333333333335, (312.0, 846.8, 547.6)), (0.027216666666666667, (276.0, 820.8, 603.6)), (0.030600000000000002, (196.0, 818.8, 601.6))]\n"
     ]
    },
    {
     "data": {
      "text/html": [
       "<div>\n",
       "<style scoped>\n",
       "    .dataframe tbody tr th:only-of-type {\n",
       "        vertical-align: middle;\n",
       "    }\n",
       "\n",
       "    .dataframe tbody tr th {\n",
       "        vertical-align: top;\n",
       "    }\n",
       "\n",
       "    .dataframe thead th {\n",
       "        text-align: right;\n",
       "    }\n",
       "</style>\n",
       "<table border=\"1\" class=\"dataframe\">\n",
       "  <thead>\n",
       "    <tr style=\"text-align: right;\">\n",
       "      <th></th>\n",
       "      <th>Time</th>\n",
       "      <th>Intensity_1</th>\n",
       "      <th>Parent_Ion</th>\n",
       "      <th>Product_Ion</th>\n",
       "      <th>Transition</th>\n",
       "    </tr>\n",
       "  </thead>\n",
       "  <tbody>\n",
       "    <tr>\n",
       "      <th>29148</th>\n",
       "      <td>10.014680</td>\n",
       "      <td>38935501.0</td>\n",
       "      <td>902.8</td>\n",
       "      <td>603.6</td>\n",
       "      <td>902.8 -&gt; 603.6</td>\n",
       "    </tr>\n",
       "    <tr>\n",
       "      <th>29149</th>\n",
       "      <td>10.015096</td>\n",
       "      <td>38935501.0</td>\n",
       "      <td>902.8</td>\n",
       "      <td>603.6</td>\n",
       "      <td>902.8 -&gt; 603.6</td>\n",
       "    </tr>\n",
       "    <tr>\n",
       "      <th>29150</th>\n",
       "      <td>10.015512</td>\n",
       "      <td>38935501.0</td>\n",
       "      <td>902.8</td>\n",
       "      <td>603.6</td>\n",
       "      <td>902.8 -&gt; 603.6</td>\n",
       "    </tr>\n",
       "    <tr>\n",
       "      <th>29151</th>\n",
       "      <td>10.015928</td>\n",
       "      <td>38932501.0</td>\n",
       "      <td>902.8</td>\n",
       "      <td>603.6</td>\n",
       "      <td>902.8 -&gt; 603.6</td>\n",
       "    </tr>\n",
       "    <tr>\n",
       "      <th>29152</th>\n",
       "      <td>10.016344</td>\n",
       "      <td>38916000.0</td>\n",
       "      <td>902.8</td>\n",
       "      <td>603.6</td>\n",
       "      <td>902.8 -&gt; 603.6</td>\n",
       "    </tr>\n",
       "    <tr>\n",
       "      <th>29153</th>\n",
       "      <td>10.016760</td>\n",
       "      <td>38916000.0</td>\n",
       "      <td>902.8</td>\n",
       "      <td>603.6</td>\n",
       "      <td>902.8 -&gt; 603.6</td>\n",
       "    </tr>\n",
       "    <tr>\n",
       "      <th>29154</th>\n",
       "      <td>10.017177</td>\n",
       "      <td>38922501.0</td>\n",
       "      <td>902.8</td>\n",
       "      <td>603.6</td>\n",
       "      <td>902.8 -&gt; 603.6</td>\n",
       "    </tr>\n",
       "    <tr>\n",
       "      <th>29141</th>\n",
       "      <td>10.011766</td>\n",
       "      <td>38946500.0</td>\n",
       "      <td>902.8</td>\n",
       "      <td>603.6</td>\n",
       "      <td>902.8 -&gt; 603.6</td>\n",
       "    </tr>\n",
       "    <tr>\n",
       "      <th>29188</th>\n",
       "      <td>10.031326</td>\n",
       "      <td>38936499.0</td>\n",
       "      <td>902.8</td>\n",
       "      <td>603.6</td>\n",
       "      <td>902.8 -&gt; 603.6</td>\n",
       "    </tr>\n",
       "    <tr>\n",
       "      <th>29701</th>\n",
       "      <td>10.244817</td>\n",
       "      <td>39326999.0</td>\n",
       "      <td>902.8</td>\n",
       "      <td>603.6</td>\n",
       "      <td>902.8 -&gt; 603.6</td>\n",
       "    </tr>\n",
       "  </tbody>\n",
       "</table>\n",
       "</div>"
      ],
      "text/plain": [
       "            Time  Intensity_1  Parent_Ion  Product_Ion      Transition\n",
       "29148  10.014680   38935501.0       902.8        603.6  902.8 -> 603.6\n",
       "29149  10.015096   38935501.0       902.8        603.6  902.8 -> 603.6\n",
       "29150  10.015512   38935501.0       902.8        603.6  902.8 -> 603.6\n",
       "29151  10.015928   38932501.0       902.8        603.6  902.8 -> 603.6\n",
       "29152  10.016344   38916000.0       902.8        603.6  902.8 -> 603.6\n",
       "29153  10.016760   38916000.0       902.8        603.6  902.8 -> 603.6\n",
       "29154  10.017177   38922501.0       902.8        603.6  902.8 -> 603.6\n",
       "29141  10.011766   38946500.0       902.8        603.6  902.8 -> 603.6\n",
       "29188  10.031326   38936499.0       902.8        603.6  902.8 -> 603.6\n",
       "29701  10.244817   39326999.0       902.8        603.6  902.8 -> 603.6"
      ]
     },
     "execution_count": 188,
     "metadata": {},
     "output_type": "execute_result"
    }
   ],
   "source": [
    "#print first 10 values in OzESI_time\n",
    "print(list(OzESI_time.items())[:10])\n",
    "#convert OzESI_time to a pandas dataframe\n",
    "df_OzESI_time = pd.DataFrame(list(OzESI_time.items()), columns=['Time', 'Intensity'])\n",
    "#convert intensity column to a string\n",
    "df_OzESI_time['Intensity'] = df_OzESI_time['Intensity'].astype(str)\n",
    "# Split the 'Intensity' column into three new columns\n",
    "df_OzESI_time[['Intensity_1', 'Parent_Ion', 'Product_Ion']] = df_OzESI_time['Intensity'].str.strip('()').str.split(',', expand=True).astype(float)\n",
    "#Convert Intensity_1, Parent_Ion and Product_Ion to float\n",
    "df_OzESI_time['Intensity_1'] = df_OzESI_time['Intensity_1'].astype(float)\n",
    "\n",
    "#convert Product_Ion and Parent_Ion to string with -> in between\n",
    "df_OzESI_time['Product_Ion'] = df_OzESI_time['Product_Ion'].astype(str)\n",
    "df_OzESI_time['Parent_Ion'] = df_OzESI_time['Parent_Ion'].astype(str)\n",
    "df_OzESI_time['Transition'] = df_OzESI_time['Parent_Ion'].str.cat(df_OzESI_time['Product_Ion'],sep=' -> ')\n",
    "df_OzESI_time['Parent_Ion'] = df_OzESI_time['Parent_Ion'].astype(float)\n",
    "df_OzESI_time['Product_Ion'] = df_OzESI_time['Product_Ion'].astype(float)\n",
    "\n",
    "#sort the dataframe by transition\n",
    "df_OzESI_time.sort_values(by=['Transition'], inplace=True)\n",
    "#Drop the Intensity column\n",
    "df_OzESI_time.drop('Intensity', axis=1, inplace=True)\n",
    "# # Drop the original 'Intensity' column\n",
    "# df_OzESI_time.drop('Intensity', axis=1, inplace=True)\n",
    "\n",
    "# #Drop intensities below 1000\n",
    "df_OzESI_time = df_OzESI_time[df_OzESI_time['Intensity_1'] > 1000]\n",
    "#drop time below 10 seconds\n",
    "df_OzESI_time = df_OzESI_time[df_OzESI_time['Time'] > 10]\n",
    "#drop time above 16.5 seconds\n",
    "df_OzESI_time = df_OzESI_time[df_OzESI_time['Time'] < 16.5]\n",
    "\n",
    "\n",
    "#split up the Intensity column into two columns, one for the intensity and one for the m/z values\n",
    "df_OzESI_time.tail(10)"
   ]
  },
  {
   "cell_type": "code",
   "execution_count": 189,
   "metadata": {},
   "outputs": [
    {
     "name": "stdout",
     "output_type": "stream",
     "text": [
      "Peak value: 3903.0, Time: 11.692066666666667\n",
      "Peak value: 1227.0, Time: 12.179366666666667\n",
      "Peak value: 1386.0, Time: 11.935716666666668\n",
      "Peak value: 4516.0, Time: 12.663300000000001\n",
      "Peak value: 3462.0, Time: 13.272433333333334\n",
      "Peak value: 3561.0, Time: 13.1506\n",
      "Peak value: 18586.0, Time: 12.90695\n",
      "Peak value: 9281.0, Time: 12.785116666666667\n",
      "Peak value: 3431.0, Time: 11.688683333333334\n",
      "Peak value: 3211.0, Time: 14.003383333333334\n",
      "Peak value: 1581.0, Time: 14.734366666666668\n",
      "Peak value: 1898.0, Time: 14.978016666666667\n",
      "Peak value: 2627.0, Time: 13.881566666666668\n",
      "Peak value: 2091.0, Time: 11.932333333333334\n",
      "Peak value: 4198.0, Time: 13.394266666666667\n",
      "Peak value: 3581.0, Time: 13.516083333333334\n",
      "Peak value: 2579.0, Time: 14.125216666666667\n",
      "Peak value: 18288.0, Time: 10.710683333333334\n",
      "Peak value: 21314.0, Time: 14.487316666666667\n",
      "Peak value: 21121.0, Time: 14.609150000000001\n",
      "Peak value: 20745.0, Time: 14.3655\n",
      "Peak value: 24331.0, Time: 13.878183333333334\n",
      "Peak value: 21054.0, Time: 15.09645\n",
      "Peak value: 19564.0, Time: 15.461933333333334\n",
      "Peak value: 21408.0, Time: 12.903566666666666\n",
      "Peak value: 20623.0, Time: 13.5127\n",
      "Peak value: 59211.0, Time: 14.000016666666667\n",
      "Peak value: 21102.0, Time: 12.41625\n",
      "Peak value: 34814.0, Time: 14.121833333333335\n",
      "Peak value: 23284.0, Time: 13.26905\n",
      "Peak value: 21533.0, Time: 13.756350000000001\n",
      "Peak value: 30287.0, Time: 14.243666666666668\n",
      "Peak value: 18786.0, Time: 13.025400000000001\n",
      "Peak value: 20917.0, Time: 13.147216666666667\n",
      "Peak value: 17400.0, Time: 16.071083333333334\n",
      "Peak value: 1857.0, Time: 13.384116666666667\n",
      "Peak value: 1111.0, Time: 13.627766666666668\n",
      "Peak value: 1332.0, Time: 13.993250000000002\n",
      "Peak value: 2200.0, Time: 12.65315\n",
      "Peak value: 2463.0, Time: 14.84265\n",
      "Peak value: 6684.0, Time: 13.137083333333335\n",
      "Peak value: 2426.0, Time: 12.893416666666667\n",
      "Peak value: 11082.0, Time: 13.01525\n",
      "Peak value: 2613.0, Time: 14.599\n",
      "Peak value: 3129.0, Time: 14.477183333333334\n",
      "Peak value: 4309.0, Time: 15.086316666666667\n",
      "Peak value: 4617.0, Time: 13.746216666666667\n",
      "Peak value: 8520.0, Time: 14.111683333333334\n",
      "Peak value: 2723.0, Time: 10.0914\n",
      "Peak value: 2892.0, Time: 11.187833333333334\n",
      "Peak value: 4254.0, Time: 13.380733333333334\n",
      "Peak value: 5456.0, Time: 14.233516666666667\n",
      "Peak value: 2944.0, Time: 14.355350000000001\n",
      "Peak value: 15596.0, Time: 13.989866666666668\n",
      "Peak value: 15433.0, Time: 13.868033333333335\n",
      "Peak value: 4576.0, Time: 14.964483333333334\n",
      "Peak value: 4544.0, Time: 15.326583333333334\n",
      "Peak value: 4491.0, Time: 14.839266666666667\n",
      "Peak value: 4464.0, Time: 16.05755\n",
      "Peak value: 4435.0, Time: 14.717450000000001\n",
      "Peak value: 3551.0, Time: 11.062633333333334\n",
      "Peak value: 4770.0, Time: 15.692066666666667\n",
      "Peak value: 4390.0, Time: 13.37735\n",
      "Peak value: 4443.0, Time: 14.9611\n",
      "Peak value: 4908.0, Time: 16.179366666666667\n",
      "Peak value: 4279.0, Time: 15.20475\n",
      "Peak value: 9713.0, Time: 12.524550000000001\n",
      "Peak value: 5816.0, Time: 12.646383333333334\n",
      "Peak value: 4650.0, Time: 15.082933333333335\n",
      "Peak value: 4400.0, Time: 14.230133333333335\n",
      "Peak value: 4648.0, Time: 15.8139\n",
      "Peak value: 4176.0, Time: 13.011866666666668\n",
      "Peak value: 4500.0, Time: 15.935716666666668\n",
      "Peak value: 4533.0, Time: 12.890033333333333\n",
      "Peak value: 2386.0, Time: 10.8156\n",
      "Peak value: 3915.0, Time: 10.20645\n",
      "Peak value: 4930.0, Time: 15.079550000000001\n",
      "Peak value: 4330.0, Time: 16.41965\n",
      "Peak value: 4832.0, Time: 15.810516666666667\n",
      "Peak value: 49935.0, Time: 13.739450000000001\n",
      "Peak value: 5811.0, Time: 13.373966666666668\n",
      "Peak value: 4133.0, Time: 15.445016666666668\n",
      "Peak value: 4252.0, Time: 14.470416666666667\n",
      "Peak value: 24015.0, Time: 13.861266666666667\n",
      "Peak value: 16103.0, Time: 12.521166666666668\n",
      "Peak value: 8576.0, Time: 12.643\n",
      "Peak value: 7091.0, Time: 14.104916666666668\n",
      "Peak value: 5029.0, Time: 12.886650000000001\n",
      "Peak value: 8572.0, Time: 13.617616666666667\n",
      "Peak value: 15897.0, Time: 13.9831\n",
      "Peak value: 7458.0, Time: 11.786833333333334\n",
      "Peak value: 9153.0, Time: 15.685300000000002\n",
      "Peak value: 12635.0, Time: 14.101533333333334\n",
      "Peak value: 10379.0, Time: 15.563466666666667\n",
      "Peak value: 144069.0, Time: 14.954333333333334\n",
      "Peak value: 21974.0, Time: 12.395966666666668\n",
      "Peak value: 10765.0, Time: 14.467033333333333\n",
      "Peak value: 15489.0, Time: 14.223366666666667\n",
      "Peak value: 7024.0, Time: 11.90865\n",
      "Peak value: 11321.0, Time: 13.736066666666668\n",
      "Peak value: 14334.0, Time: 11.665000000000001\n",
      "Peak value: 14444.0, Time: 15.319816666666668\n",
      "Peak value: 21505.0, Time: 15.197983333333333\n",
      "Peak value: 24855.0, Time: 13.979716666666667\n",
      "Peak value: 5202.0, Time: 11.299516666666667\n",
      "Peak value: 6245.0, Time: 14.710683333333334\n",
      "Peak value: 79761.0, Time: 15.076166666666667\n",
      "Peak value: 10621.0, Time: 14.832500000000001\n",
      "Peak value: 64890.0, Time: 13.857883333333334\n",
      "Peak value: 3845.0, Time: 13.847733333333334\n",
      "Peak value: 1240.0, Time: 13.604083333333334\n",
      "Peak value: 3193.0, Time: 13.969566666666667\n",
      "Peak value: 1749.0, Time: 14.213216666666668\n",
      "Peak value: 2624.0, Time: 13.725916666666667\n",
      "Peak value: 2481.0, Time: 10.192916666666667\n",
      "Peak value: 1840.0, Time: 10.436583333333333\n",
      "Peak value: 2336.0, Time: 10.071100000000001\n",
      "Peak value: 2048.0, Time: 10.31475\n",
      "Peak value: 1378.0, Time: 15.066016666666668\n",
      "Peak value: 1742.0, Time: 12.873116666666668\n",
      "Peak value: 1952.0, Time: 12.994950000000001\n",
      "Peak value: 1549.0, Time: 14.944183333333335\n",
      "Peak value: 4476.0, Time: 12.50425\n",
      "Peak value: 14136.0, Time: 12.619333333333334\n",
      "Peak value: 1710.0, Time: 13.106633333333335\n",
      "Peak value: 1693.0, Time: 12.984816666666667\n",
      "Peak value: 2319.0, Time: 14.934050000000001\n",
      "Peak value: 9047.0, Time: 12.4975\n",
      "Peak value: 1495.0, Time: 11.644716666666667\n",
      "Peak value: 3959.0, Time: 12.375666666666667\n",
      "Peak value: 2778.0, Time: 11.888366666666668\n",
      "Peak value: 16608.0, Time: 13.8376\n",
      "Peak value: 26821.0, Time: 13.593950000000001\n",
      "Peak value: 1867.0, Time: 15.177700000000002\n",
      "Peak value: 21714.0, Time: 13.715766666666667\n",
      "Peak value: 6310.0, Time: 13.959416666666668\n",
      "Peak value: 2065.0, Time: 15.299516666666667\n",
      "Peak value: 4029.0, Time: 14.203083333333334\n",
      "Peak value: 12953.0, Time: 15.65825\n",
      "Peak value: 29380.0, Time: 12.247083333333334\n",
      "Peak value: 27952.0, Time: 13.83085\n",
      "Peak value: 19077.0, Time: 13.709016666666667\n",
      "Peak value: 18378.0, Time: 13.099883333333334\n",
      "Peak value: 14839.0, Time: 15.536416666666668\n",
      "Peak value: 10203.0, Time: 13.587183333333334\n",
      "Peak value: 126302.0, Time: 14.927283333333333\n",
      "Peak value: 26918.0, Time: 15.170950000000001\n",
      "Peak value: 9652.0, Time: 16.023733333333332\n",
      "Peak value: 17594.0, Time: 15.4146\n",
      "Peak value: 54495.0, Time: 15.049116666666668\n",
      "Peak value: 12968.0, Time: 15.780083333333334\n",
      "Peak value: 9331.0, Time: 16.389216666666666\n",
      "Peak value: 11477.0, Time: 14.683633333333335\n",
      "Peak value: 11371.0, Time: 15.901916666666667\n",
      "Peak value: 20548.0, Time: 15.292766666666667\n",
      "Peak value: 266662.0, Time: 14.805466666666668\n",
      "Peak value: 29677.0, Time: 14.071116666666667\n",
      "Peak value: 27928.0, Time: 13.827466666666668\n",
      "Peak value: 46779.0, Time: 12.487366666666667\n",
      "Peak value: 19522.0, Time: 12.365533333333333\n",
      "Peak value: 5717.0, Time: 14.680250000000001\n",
      "Peak value: 3206.0, Time: 11.634566666666668\n",
      "Peak value: 5651.0, Time: 14.558433333333333\n",
      "Peak value: 14509.0, Time: 14.192933333333334\n",
      "Peak value: 47615.0, Time: 15.045733333333335\n",
      "Peak value: 11828.0, Time: 13.0965\n",
      "Peak value: 16212.0, Time: 12.974666666666668\n",
      "Peak value: 83299.0, Time: 14.923900000000001\n",
      "Peak value: 36260.0, Time: 12.852833333333335\n",
      "Peak value: 10928.0, Time: 12.731016666666667\n",
      "Peak value: 6440.0, Time: 15.654866666666667\n",
      "Peak value: 13437.0, Time: 16.02035\n",
      "Peak value: 8898.0, Time: 12.36215\n",
      "Peak value: 8418.0, Time: 12.483983333333335\n",
      "Peak value: 1466.0, Time: 12.480583333333334\n",
      "Peak value: 16153.0, Time: 12.4772\n",
      "Peak value: 3705.0, Time: 12.599033333333335\n",
      "Peak value: 1125.0, Time: 14.91375\n",
      "Peak value: 11831.0, Time: 13.695483333333334\n",
      "Peak value: 3690.0, Time: 13.451833333333335\n",
      "Peak value: 1728.0, Time: 14.182783333333335\n",
      "Peak value: 4674.0, Time: 13.817300000000001\n",
      "Peak value: 15505.0, Time: 12.355383333333334\n",
      "Peak value: 5245.0, Time: 11.864683333333334\n",
      "Peak value: 3732.0, Time: 12.473816666666668\n",
      "Peak value: 4350.0, Time: 14.788533333333334\n",
      "Peak value: 6130.0, Time: 12.595650000000001\n",
      "Peak value: 5377.0, Time: 11.4992\n",
      "Peak value: 5106.0, Time: 13.813916666666668\n",
      "Peak value: 1343.0, Time: 14.301233333333334\n",
      "Peak value: 2099.0, Time: 13.448450000000001\n",
      "Peak value: 1716.0, Time: 12.961133333333335\n",
      "Peak value: 18782.0, Time: 13.6921\n",
      "Peak value: 1906.0, Time: 15.032200000000001\n",
      "Peak value: 2208.0, Time: 12.839300000000001\n",
      "Peak value: 7161.0, Time: 13.570266666666667\n",
      "Peak value: 5029.0, Time: 15.394283333333334\n",
      "Peak value: 2791.0, Time: 12.348616666666667\n",
      "Peak value: 84946.0, Time: 14.785150000000002\n",
      "Peak value: 4555.0, Time: 14.541500000000001\n",
      "Peak value: 4675.0, Time: 15.8816\n",
      "Peak value: 55527.0, Time: 13.566883333333333\n",
      "Peak value: 3521.0, Time: 16.003433333333334\n",
      "Peak value: 30491.0, Time: 13.688716666666668\n",
      "Peak value: 116813.0, Time: 14.663333333333334\n",
      "Peak value: 6208.0, Time: 15.272466666666668\n",
      "Peak value: 4485.0, Time: 15.759783333333335\n",
      "Peak value: 2078.0, Time: 14.29785\n",
      "Peak value: 25658.0, Time: 14.906983333333335\n",
      "Peak value: 15213.0, Time: 15.028816666666668\n",
      "Peak value: 7127.0, Time: 13.810533333333334\n",
      "Peak value: 7756.0, Time: 14.65995\n",
      "Peak value: 7715.0, Time: 15.269083333333334\n",
      "Peak value: 23515.0, Time: 13.685333333333334\n",
      "Peak value: 35876.0, Time: 14.9036\n",
      "Peak value: 15030.0, Time: 15.878216666666667\n",
      "Peak value: 28454.0, Time: 13.80715\n",
      "Peak value: 19504.0, Time: 12.710700000000001\n",
      "Peak value: 98857.0, Time: 14.781766666666668\n",
      "Peak value: 50934.0, Time: 12.345233333333335\n",
      "Peak value: 11678.0, Time: 14.0508\n",
      "Peak value: 8962.0, Time: 13.198016666666668\n",
      "Peak value: 11025.0, Time: 15.756400000000001\n",
      "Peak value: 7483.0, Time: 12.46705\n",
      "Peak value: 40429.0, Time: 12.2234\n",
      "Peak value: 6493.0, Time: 15.3909\n",
      "Peak value: 2962.0, Time: 12.341833333333334\n",
      "Peak value: 3524.0, Time: 13.678550000000001\n",
      "Peak value: 3097.0, Time: 12.460283333333335\n",
      "Peak value: 2994.0, Time: 11.363833333333334\n",
      "Peak value: 1815.0, Time: 12.33845\n",
      "Peak value: 1567.0, Time: 14.775\n",
      "Peak value: 2649.0, Time: 14.653183333333335\n",
      "Peak value: 2326.0, Time: 11.729316666666668\n",
      "Peak value: 2455.0, Time: 13.431516666666667\n",
      "Peak value: 7918.0, Time: 12.21325\n",
      "Peak value: 25918.0, Time: 14.649783333333334\n",
      "Peak value: 3674.0, Time: 12.091416666666667\n",
      "Peak value: 4596.0, Time: 14.527966666666668\n",
      "Peak value: 3418.0, Time: 15.868066666666667\n",
      "Peak value: 2703.0, Time: 12.456900000000001\n",
      "Peak value: 5544.0, Time: 14.893450000000001\n",
      "Peak value: 9035.0, Time: 12.578716666666667\n",
      "Peak value: 3896.0, Time: 12.70055\n",
      "Peak value: 8706.0, Time: 13.675166666666668\n",
      "Peak value: 5040.0, Time: 15.746233333333334\n",
      "Peak value: 6782.0, Time: 12.944216666666668\n",
      "Peak value: 15126.0, Time: 14.771616666666667\n",
      "Peak value: 20504.0, Time: 13.793616666666667\n",
      "Peak value: 20614.0, Time: 13.915433333333334\n",
      "Peak value: 28283.0, Time: 12.453516666666667\n",
      "Peak value: 72587.0, Time: 12.575333333333335\n",
      "Peak value: 7184.0, Time: 14.89005\n",
      "Peak value: 5150.0, Time: 14.402750000000001\n",
      "Peak value: 28006.0, Time: 12.697166666666668\n",
      "Peak value: 6437.0, Time: 14.768233333333335\n",
      "Peak value: 6046.0, Time: 14.6464\n",
      "Peak value: 8078.0, Time: 11.478883333333334\n",
      "Peak value: 37467.0, Time: 11.357066666666666\n",
      "Peak value: 21906.0, Time: 11.235233333333333\n",
      "Peak value: 7722.0, Time: 14.280916666666668\n",
      "Peak value: 10704.0, Time: 13.184483333333334\n",
      "Peak value: 11503.0, Time: 13.3063\n",
      "Peak value: 14461.0, Time: 12.940816666666667\n",
      "Peak value: 22476.0, Time: 12.818983333333334\n",
      "Peak value: 6937.0, Time: 15.011883333333333\n",
      "Peak value: 104362.0, Time: 14.155700000000001\n",
      "Peak value: 213888.0, Time: 15.008500000000002\n",
      "Peak value: 67719.0, Time: 14.886666666666667\n",
      "Peak value: 51975.0, Time: 14.521183333333335\n",
      "Peak value: 95745.0, Time: 14.277533333333334\n",
      "Peak value: 42482.0, Time: 15.495800000000001\n",
      "Peak value: 242014.0, Time: 14.033883333333334\n",
      "Peak value: 5479.0, Time: 12.3283\n",
      "Peak value: 3287.0, Time: 12.206466666666667\n",
      "Peak value: 12751.0, Time: 12.937433333333335\n",
      "Peak value: 11645.0, Time: 12.8156\n",
      "Peak value: 21708.0, Time: 12.693783333333334\n",
      "Peak value: 9993.0, Time: 11.4755\n",
      "Peak value: 3290.0, Time: 12.08465\n",
      "Peak value: 3298.0, Time: 11.962816666666667\n",
      "Peak value: 409651.0, Time: 13.790216666666668\n",
      "Peak value: 47310.0, Time: 13.546566666666667\n",
      "Peak value: 2236988.0, Time: 15.126933333333334\n",
      "Peak value: 212367.0, Time: 15.370583333333334\n",
      "Peak value: 258104.0, Time: 16.34521666666667\n",
      "Peak value: 62798.0, Time: 14.76145\n",
      "Peak value: 2133766.0, Time: 15.005116666666668\n",
      "Peak value: 163590.0, Time: 15.61425\n",
      "Peak value: 469327.0, Time: 15.248766666666667\n",
      "Peak value: 224274.0, Time: 15.492416666666667\n",
      "Peak value: 208359.0, Time: 16.223383333333334\n",
      "Peak value: 390090.0, Time: 14.883283333333335\n",
      "Peak value: 102629.0, Time: 15.8579\n",
      "Peak value: 55953.0, Time: 12.446733333333334\n",
      "Peak value: 39642.0, Time: 14.152316666666668\n",
      "Peak value: 63374.0, Time: 14.27415\n",
      "Peak value: 13438.0, Time: 13.1777\n",
      "Peak value: 111466.0, Time: 16.467033333333333\n",
      "Peak value: 43125.0, Time: 14.517800000000001\n",
      "Peak value: 215457.0, Time: 13.786833333333334\n",
      "Peak value: 246212.0, Time: 13.908666666666667\n",
      "Peak value: 81386.0, Time: 14.030483333333335\n",
      "Peak value: 2704.0, Time: 16.220000000000002\n",
      "Peak value: 3292.0, Time: 15.854516666666667\n",
      "Peak value: 6359.0, Time: 14.0271\n",
      "Peak value: 36204.0, Time: 12.687000000000001\n",
      "Peak value: 86088.0, Time: 11.225083333333334\n",
      "Peak value: 31007.0, Time: 11.3469\n",
      "Peak value: 70972.0, Time: 11.468733333333335\n",
      "Peak value: 159733.0, Time: 12.565183333333334\n",
      "Peak value: 19564.0, Time: 12.808833333333334\n",
      "Peak value: 5477.0, Time: 13.174316666666668\n",
      "Peak value: 5827.0, Time: 10.372300000000001\n",
      "Peak value: 8426.0, Time: 12.930666666666667\n",
      "Peak value: 67098.0, Time: 12.44335\n",
      "Peak value: 6329.0, Time: 12.321516666666668\n",
      "Peak value: 13345.0, Time: 13.905283333333333\n",
      "Peak value: 148100.0, Time: 14.876516666666667\n",
      "Peak value: 12164.0, Time: 13.29275\n",
      "Peak value: 234664.0, Time: 14.998333333333335\n",
      "Peak value: 22871.0, Time: 15.97295\n",
      "Peak value: 83930.0, Time: 14.267383333333335\n",
      "Peak value: 46445.0, Time: 14.3892\n",
      "Peak value: 19922.0, Time: 16.460266666666666\n",
      "Peak value: 62018.0, Time: 12.561783333333334\n",
      "Peak value: 48094.0, Time: 14.754683333333334\n",
      "Peak value: 82523.0, Time: 12.439966666666667\n",
      "Peak value: 11340.0, Time: 12.80545\n",
      "Peak value: 2529.0, Time: 11.830833333333334\n",
      "Peak value: 41513.0, Time: 12.683616666666667\n",
      "Peak value: 144559.0, Time: 14.023716666666667\n",
      "Peak value: 549608.0, Time: 13.901883333333334\n",
      "Peak value: 928619.0, Time: 13.658233333333333\n",
      "Peak value: 29310.0, Time: 13.414583333333335\n",
      "Peak value: 38586.0, Time: 15.363816666666667\n",
      "Peak value: 438395.0, Time: 13.776683333333335\n",
      "Peak value: 199870.0, Time: 16.456883333333334\n",
      "Peak value: 347923.0, Time: 15.360433333333335\n",
      "Peak value: 608530.0, Time: 13.654850000000001\n",
      "Peak value: 1617697.0, Time: 14.7513\n",
      "Peak value: 164775.0, Time: 13.8985\n",
      "Peak value: 6184.0, Time: 12.071100000000001\n",
      "Peak value: 462506.0, Time: 15.2386\n",
      "Peak value: 313576.0, Time: 15.48225\n",
      "Peak value: 244103.0, Time: 16.335050000000003\n",
      "Peak value: 37919.0, Time: 13.533016666666667\n",
      "Peak value: 207730.0, Time: 15.725916666666667\n",
      "Peak value: 13020.0, Time: 13.411200000000001\n",
      "Peak value: 205338.0, Time: 15.847750000000001\n",
      "Peak value: 4376154.0, Time: 14.994950000000001\n",
      "Peak value: 704432.0, Time: 15.969566666666667\n",
      "Peak value: 864725.0, Time: 16.0914\n",
      "Peak value: 14538.0, Time: 12.802050000000001\n",
      "Peak value: 957348.0, Time: 15.116783333333334\n",
      "Peak value: 3191352.0, Time: 14.873116666666668\n",
      "Peak value: 22318.0, Time: 12.311366666666668\n",
      "Peak value: 76176.0, Time: 13.651466666666668\n",
      "Peak value: 28176.0, Time: 13.042333333333334\n",
      "Peak value: 494143.0, Time: 12.555016666666667\n",
      "Peak value: 33599.0, Time: 13.773283333333334\n",
      "Peak value: 219512.0, Time: 12.433183333333334\n",
      "Peak value: 6237.0, Time: 11.093083333333334\n",
      "Peak value: 3508.0, Time: 14.991566666666667\n",
      "Peak value: 193831.0, Time: 11.33675\n",
      "Peak value: 21960.0, Time: 10.240300000000001\n",
      "Peak value: 6011.0, Time: 10.362133333333334\n",
      "Peak value: 61506.0, Time: 10.118466666666666\n",
      "Peak value: 100034.0, Time: 11.214916666666667\n",
      "Peak value: 3054.0, Time: 14.626083333333334\n",
      "Peak value: 3561.0, Time: 11.945883333333335\n",
      "Peak value: 3915.0, Time: 12.189533333333333\n",
      "Peak value: 599317.0, Time: 13.526250000000001\n",
      "Peak value: 114572.0, Time: 13.891733333333335\n",
      "Peak value: 433993.0, Time: 13.7699\n",
      "Peak value: 17566.0, Time: 15.35365\n",
      "Peak value: 52392.0, Time: 14.01355\n",
      "Peak value: 797129.0, Time: 13.648066666666667\n",
      "Peak value: 22581.0, Time: 15.110000000000001\n",
      "Peak value: 116106.0, Time: 12.551633333333333\n",
      "Peak value: 102617.0, Time: 11.333350000000001\n",
      "Peak value: 13303.0, Time: 14.500866666666667\n",
      "Peak value: 26457.0, Time: 12.307966666666667\n",
      "Peak value: 71282.0, Time: 12.4298\n",
      "Peak value: 105906.0, Time: 11.211533333333334\n",
      "Peak value: 48281.0, Time: 14.257216666666668\n",
      "Peak value: 46880.0, Time: 14.988166666666668\n",
      "Peak value: 9242.0, Time: 16.328266666666668\n",
      "Peak value: 5141.0, Time: 12.795283333333334\n",
      "Peak value: 4313.0, Time: 12.917116666666667\n",
      "Peak value: 137065.0, Time: 14.86635\n",
      "Peak value: 2345724.0, Time: 14.741133333333334\n",
      "Peak value: 360401.0, Time: 13.644683333333335\n",
      "Peak value: 291789.0, Time: 13.522866666666667\n",
      "Peak value: 93869.0, Time: 15.593933333333334\n",
      "Peak value: 477402.0, Time: 15.837583333333335\n",
      "Peak value: 1969.0, Time: 10.477183333333334\n",
      "Peak value: 3403.0, Time: 13.279200000000001\n",
      "Peak value: 7018.0, Time: 11.208133333333334\n",
      "Peak value: 4508.0, Time: 12.913733333333333\n",
      "Peak value: 46387.0, Time: 12.426416666666666\n",
      "Peak value: 39237.0, Time: 12.548233333333334\n",
      "Peak value: 2428.0, Time: 11.695450000000001\n",
      "Peak value: 5243.0, Time: 11.4518\n",
      "Peak value: 51327002.0, Time: 16.018227070711706\n",
      "Peak value: 47986499.0, Time: 14.797208888893106\n",
      "Peak value: 47992999.0, Time: 14.798457373741591\n",
      "Peak value: 47993500.0, Time: 14.799705858590077\n",
      "Peak value: 48028000.0, Time: 14.800954343438562\n",
      "Peak value: 48020999.0, Time: 14.802202828287047\n",
      "Peak value: 48026501.0, Time: 14.806780606064827\n",
      "Peak value: 48028000.0, Time: 14.807196767680988\n",
      "Peak value: 47975000.0, Time: 14.782643232327445\n",
      "Peak value: 47973499.0, Time: 14.783475555559768\n",
      "Peak value: 47989499.0, Time: 14.784724040408253\n",
      "Peak value: 47981000.0, Time: 14.7863886868729\n",
      "Peak value: 47989499.0, Time: 14.794295757579974\n",
      "Peak value: 47992001.0, Time: 14.790550303034518\n",
      "Peak value: 47996500.0, Time: 14.791382626266842\n",
      "Peak value: 47982001.0, Time: 14.792214949499165\n",
      "Peak value: 47984000.0, Time: 14.788053333337547\n",
      "Peak value: 48020499.0, Time: 14.80761292929715\n",
      "Peak value: 48082501.0, Time: 14.823843232327459\n",
      "Peak value: 48085001.0, Time: 14.824675555559782\n",
      "Peak value: 48075500.0, Time: 14.825507878792106\n",
      "Peak value: 48079001.0, Time: 14.826756363640591\n",
      "Peak value: 48076001.0, Time: 14.827588686872915\n",
      "Peak value: 48101501.0, Time: 14.829253333337562\n",
      "Peak value: 48076999.0, Time: 14.830085656569885\n",
      "Peak value: 48082999.0, Time: 14.83133414141837\n",
      "Peak value: 48088501.0, Time: 14.832582626266856\n",
      "Peak value: 48073999.0, Time: 14.828004848489076\n",
      "Peak value: 48073999.0, Time: 14.821346262630488\n",
      "Peak value: 48034500.0, Time: 14.81010989899412\n",
      "Peak value: 48048001.0, Time: 14.811358383842606\n",
      "Peak value: 48064001.0, Time: 14.81219070707493\n",
      "Peak value: 48072501.0, Time: 14.820930101014326\n",
      "Peak value: 48060001.0, Time: 14.815103838388062\n",
      "Peak value: 48067999.0, Time: 14.816352323236547\n",
      "Peak value: 48066501.0, Time: 14.81718464646887\n",
      "Peak value: 48066501.0, Time: 14.818016969701194\n",
      "Peak value: 48076501.0, Time: 14.820097777782003\n",
      "Peak value: 48073499.0, Time: 14.833831111115341\n",
      "Peak value: 47889001.0, Time: 14.744356363640563\n",
      "Peak value: 47879501.0, Time: 14.745188686872886\n",
      "Peak value: 47891501.0, Time: 14.746437171721372\n",
      "Peak value: 47904501.0, Time: 14.747269494953695\n",
      "Peak value: 47901001.0, Time: 14.747685656569857\n",
      "Peak value: 47909500.0, Time: 14.749766464650666\n",
      "Peak value: 47910001.0, Time: 14.751014949499151\n",
      "Peak value: 47912000.0, Time: 14.752679595963798\n",
      "Peak value: 47918500.0, Time: 14.753511919196121\n",
      "Peak value: 47913501.0, Time: 14.753928080812283\n",
      "Peak value: 47854001.0, Time: 14.731039191923387\n",
      "Peak value: 47848499.0, Time: 14.73187151515571\n",
      "Peak value: 47851501.0, Time: 14.733120000004195\n",
      "Peak value: 47860501.0, Time: 14.741027070711269\n",
      "Peak value: 47857001.0, Time: 14.735200808085004\n",
      "Peak value: 47845499.0, Time: 14.73644929293349\n",
      "Peak value: 47859500.0, Time: 14.740194747478945\n",
      "Peak value: 47978000.0, Time: 14.780978585862798\n",
      "Peak value: 47957501.0, Time: 14.769326060610268\n",
      "Peak value: 47949500.0, Time: 14.773903838388048\n",
      "Peak value: 47950000.0, Time: 14.775984646468856\n",
      "Peak value: 47945499.0, Time: 14.77681696970118\n",
      "Peak value: 47978000.0, Time: 14.778481616165827\n",
      "Peak value: 47948499.0, Time: 14.780146262630474\n",
      "Peak value: 47945001.0, Time: 14.768077575761783\n",
      "Peak value: 47935001.0, Time: 14.757673535357739\n",
      "Peak value: 47923999.0, Time: 14.759754343438548\n",
      "Peak value: 47942499.0, Time: 14.767661414145621\n",
      "Peak value: 47930499.0, Time: 14.76266747475168\n",
      "Peak value: 47941000.0, Time: 14.764748282832489\n",
      "Peak value: 47941501.0, Time: 14.766412929297136\n",
      "Peak value: 48092499.0, Time: 14.834247272731503\n",
      "Peak value: 48187000.0, Time: 14.902497777782031\n",
      "Peak value: 48187500.0, Time: 14.903330101014355\n",
      "Peak value: 48174500.0, Time: 14.90707555555981\n",
      "Peak value: 48181000.0, Time: 14.907491717175972\n",
      "Peak value: 48190500.0, Time: 14.90915636364062\n",
      "Peak value: 48192499.0, Time: 14.909988686872943\n",
      "Peak value: 48189499.0, Time: 14.910821010105266\n",
      "Peak value: 48207999.0, Time: 14.912069494953752\n",
      "Peak value: 48213000.0, Time: 14.912901818186075\n",
      "Peak value: 48214001.0, Time: 14.913734141418399\n",
      "Peak value: 48166501.0, Time: 14.890845252529502\n",
      "Peak value: 48149500.0, Time: 14.891677575761825\n",
      "Peak value: 48167499.0, Time: 14.892509898994149\n",
      "Peak value: 48162500.0, Time: 14.893342222226472\n",
      "Peak value: 48182001.0, Time: 14.900833131317384\n",
      "Peak value: 48158499.0, Time: 14.895839191923443\n",
      "Peak value: 48164499.0, Time: 14.896671515155766\n",
      "Peak value: 48176001.0, Time: 14.899168484852737\n",
      "Peak value: 48167999.0, Time: 14.90000080808506\n",
      "Peak value: 48238000.0, Time: 14.929132121216384\n",
      "Peak value: 48260001.0, Time: 14.931212929297192\n",
      "Peak value: 48237500.0, Time: 14.93287757576184\n",
      "Peak value: 48234000.0, Time: 14.933709898994163\n",
      "Peak value: 48242499.0, Time: 14.934126060610325\n",
      "Peak value: 48251999.0, Time: 14.935790707074972\n",
      "Peak value: 48254999.0, Time: 14.936623030307295\n",
      "Peak value: 48257501.0, Time: 14.934542222226487\n",
      "Peak value: 48223001.0, Time: 14.927883636367898\n",
      "Peak value: 48229999.0, Time: 14.915398787883046\n",
      "Peak value: 48222000.0, Time: 14.917063434347693\n",
      "Peak value: 48220001.0, Time: 14.91872808081234\n",
      "Peak value: 48231000.0, Time: 14.919976565660825\n",
      "Peak value: 48225000.0, Time: 14.927467474751737\n",
      "Peak value: 48222501.0, Time: 14.92372202020628\n",
      "Peak value: 48226501.0, Time: 14.924554343438604\n",
      "Peak value: 48241000.0, Time: 14.925386666670928\n",
      "Peak value: 48235001.0, Time: 14.926635151519413\n",
      "Peak value: 48151001.0, Time: 14.88793212121637\n",
      "Peak value: 48110999.0, Time: 14.85006141414565\n",
      "Peak value: 48131000.0, Time: 14.851726060610297\n",
      "Peak value: 48108499.0, Time: 14.852974545458782\n",
      "Peak value: 48113501.0, Time: 14.848396767681002\n",
      "Peak value: 48101001.0, Time: 14.858384646468885\n",
      "Peak value: 48097501.0, Time: 14.859216969701208\n",
      "Peak value: 48100000.0, Time: 14.854639191923429\n",
      "Peak value: 48097501.0, Time: 14.847148282832517\n",
      "Peak value: 48119000.0, Time: 14.836744242428473\n",
      "Peak value: 48092001.0, Time: 14.84090585859009\n",
      "Peak value: 48085999.0, Time: 14.842570505054738\n",
      "Peak value: 48091501.0, Time: 14.843402828287061\n",
      "Peak value: 48087000.0, Time: 14.844235151519385\n",
      "Peak value: 48107001.0, Time: 14.84548363636787\n",
      "Peak value: 48110999.0, Time: 14.846732121216355\n",
      "Peak value: 48149500.0, Time: 14.887515959600208\n",
      "Peak value: 48101501.0, Time: 14.875447272731517\n",
      "Peak value: 48106500.0, Time: 14.87627959596384\n",
      "Peak value: 48104501.0, Time: 14.877528080812326\n",
      "Peak value: 48141501.0, Time: 14.879608888893134\n",
      "Peak value: 48123499.0, Time: 14.88085737374162\n",
      "Peak value: 48152499.0, Time: 14.882938181822428\n",
      "Peak value: 48146500.0, Time: 14.884602828287075\n",
      "Peak value: 48153500.0, Time: 14.886683636367884\n",
      "Peak value: 48110999.0, Time: 14.87378262626687\n",
      "Peak value: 48122501.0, Time: 14.863794747478988\n",
      "Peak value: 48118500.0, Time: 14.865043232327473\n",
      "Peak value: 48121500.0, Time: 14.86670787879212\n",
      "Peak value: 48127499.0, Time: 14.86920484848909\n",
      "Peak value: 48117001.0, Time: 14.867956363640605\n",
      "Peak value: 47844501.0, Time: 14.72729373737793\n",
      "Peak value: 47407999.0, Time: 14.582469494953639\n",
      "Peak value: 47416501.0, Time: 14.583717979802124\n",
      "Peak value: 47422000.0, Time: 14.585382626266771\n",
      "Peak value: 47422000.0, Time: 14.586214949499094\n",
      "Peak value: 47420999.0, Time: 14.587047272731418\n",
      "Peak value: 47441501.0, Time: 14.591208888893036\n",
      "Peak value: 47433499.0, Time: 14.593705858590006\n",
      "Peak value: 47367001.0, Time: 14.569984646468786\n",
      "Peak value: 47388501.0, Time: 14.580804848488992\n",
      "Peak value: 47382001.0, Time: 14.574978585862727\n",
      "Peak value: 47394000.0, Time: 14.57581090909505\n",
      "Peak value: 47385999.0, Time: 14.577059393943536\n",
      "Peak value: 47414999.0, Time: 14.578307878792021\n",
      "Peak value: 47381500.0, Time: 14.579140202024345\n",
      "Peak value: 47400000.0, Time: 14.579972525256668\n",
      "Peak value: 47478500.0, Time: 14.60868767677183\n",
      "Peak value: 47493500.0, Time: 14.610352323236476\n",
      "Peak value: 47491000.0, Time: 14.611600808084962\n",
      "Peak value: 47485001.0, Time: 14.61368161616577\n",
      "Peak value: 47486499.0, Time: 14.614097777781932\n",
      "Peak value: 47498999.0, Time: 14.61576242424658\n",
      "Peak value: 47502499.0, Time: 14.617427070711226\n",
      "Peak value: 47513501.0, Time: 14.618675555559712\n",
      "Peak value: 47513000.0, Time: 14.619507878792035\n",
      "Peak value: 47472000.0, Time: 14.607855353539506\n",
      "Peak value: 47456000.0, Time: 14.598283636367785\n",
      "Peak value: 47450500.0, Time: 14.599948282832433\n",
      "Peak value: 47461499.0, Time: 14.607439191923344\n",
      "Peak value: 47470499.0, Time: 14.602861414145565\n",
      "Peak value: 47463000.0, Time: 14.60660686869102\n",
      "Peak value: 47513000.0, Time: 14.620340202024359\n",
      "Peak value: 47257501.0, Time: 14.529200808084934\n",
      "Peak value: 47281000.0, Time: 14.53086545454958\n",
      "Peak value: 47273999.0, Time: 14.532113939398066\n",
      "Peak value: 47280499.0, Time: 14.53294626263039\n",
      "Peak value: 47276001.0, Time: 14.53544323232736\n",
      "Peak value: 47285001.0, Time: 14.536275555559683\n",
      "Peak value: 47285999.0, Time: 14.534610909095036\n",
      "Peak value: 47268500.0, Time: 14.517548282832404\n",
      "Peak value: 47260999.0, Time: 14.518380606064728\n",
      "Peak value: 47261499.0, Time: 14.519629090913213\n",
      "Peak value: 47266501.0, Time: 14.527536161620286\n",
      "Peak value: 47256000.0, Time: 14.52379070707483\n",
      "Peak value: 47274500.0, Time: 14.525039191923316\n",
      "Peak value: 47257999.0, Time: 14.526287676771801\n",
      "Peak value: 47349500.0, Time: 14.567487676771815\n",
      "Peak value: 47339499.0, Time: 14.557083636367771\n",
      "Peak value: 47332501.0, Time: 14.557915959600095\n",
      "Peak value: 47332999.0, Time: 14.559580606064742\n",
      "Peak value: 47344501.0, Time: 14.56166141414555\n",
      "Peak value: 47345001.0, Time: 14.56374222222636\n",
      "Peak value: 47353500.0, Time: 14.564574545458683\n",
      "Peak value: 47360001.0, Time: 14.565406868691007\n",
      "Peak value: 47348999.0, Time: 14.56623919192333\n",
      "Peak value: 47329501.0, Time: 14.5545866666708\n",
      "Peak value: 47278500.0, Time: 14.54251797980211\n",
      "Peak value: 47304501.0, Time: 14.543766464650595\n",
      "Peak value: 47304001.0, Time: 14.546263434347566\n",
      "Peak value: 47328000.0, Time: 14.554170505054639\n",
      "Peak value: 47326501.0, Time: 14.550841212125345\n",
      "Peak value: 47335501.0, Time: 14.551673535357668\n",
      "Peak value: 47320499.0, Time: 14.553338181822316\n",
      "Peak value: 47795999.0, Time: 14.690671515155696\n",
      "Peak value: 47794501.0, Time: 14.693168484852666\n",
      "Peak value: 47806000.0, Time: 14.695665454549637\n",
      "Peak value: 47807501.0, Time: 14.697746262630446\n",
      "Peak value: 47809500.0, Time: 14.69857858586277\n",
      "Peak value: 47814999.0, Time: 14.699827070711255\n",
      "Peak value: 47798999.0, Time: 14.700659393943578\n",
      "Peak value: 47731000.0, Time: 14.676105858590034\n",
      "Peak value: 47740500.0, Time: 14.67735434343852\n",
      "Peak value: 47747501.0, Time: 14.678186666670843\n",
      "Peak value: 47745001.0, Time: 14.679435151519328\n",
      "Peak value: 47778500.0, Time: 14.687758383842564\n",
      "Peak value: 47745001.0, Time: 14.68234828283246\n",
      "Peak value: 47754999.0, Time: 14.683180606064784\n",
      "Peak value: 47763000.0, Time: 14.684012929297108\n",
      "Peak value: 47759000.0, Time: 14.684845252529431\n",
      "Peak value: 47769000.0, Time: 14.685677575761755\n",
      "Peak value: 47770499.0, Time: 14.68692606061024\n",
      "Peak value: 47798999.0, Time: 14.70107555555974\n",
      "Peak value: 47845499.0, Time: 14.715641212125401\n",
      "Peak value: 47849500.0, Time: 14.71772202020621\n",
      "Peak value: 47864999.0, Time: 14.719386666670857\n",
      "Peak value: 47846500.0, Time: 14.720635151519343\n",
      "Peak value: 47856500.0, Time: 14.723964444448637\n",
      "Peak value: 47857999.0, Time: 14.72479676768096\n",
      "Peak value: 47849500.0, Time: 14.726045252529445\n",
      "Peak value: 47851001.0, Time: 14.726877575761769\n",
      "Peak value: 47836499.0, Time: 14.713976565660754\n",
      "Peak value: 47815500.0, Time: 14.703156363640549\n",
      "Peak value: 47826001.0, Time: 14.706901818186005\n",
      "Peak value: 47840500.0, Time: 14.714392727276916\n",
      "Peak value: 47842001.0, Time: 14.709398787882975\n",
      "Peak value: 47829501.0, Time: 14.711063434347622\n",
      "Peak value: 47820999.0, Time: 14.712311919196107\n",
      "Peak value: 47833499.0, Time: 14.713560404044593\n",
      "Peak value: 47728500.0, Time: 14.674025050509226\n",
      "Peak value: 47569501.0, Time: 14.636154343438506\n",
      "Peak value: 47591000.0, Time: 14.640315959600123\n",
      "Peak value: 47598001.0, Time: 14.641564444448608\n",
      "Peak value: 47612500.0, Time: 14.642812929297094\n",
      "Peak value: 47621500.0, Time: 14.644061414145579\n",
      "Peak value: 47628500.0, Time: 14.644893737377902\n",
      "Peak value: 47627499.0, Time: 14.645726060610226\n",
      "Peak value: 47624500.0, Time: 14.64655838384255\n",
      "Peak value: 47629501.0, Time: 14.646974545458711\n",
      "Peak value: 47567999.0, Time: 14.633657373741535\n",
      "Peak value: 47528000.0, Time: 14.623669494953653\n",
      "Peak value: 47533499.0, Time: 14.625750303034462\n",
      "Peak value: 47546500.0, Time: 14.634073535357697\n",
      "Peak value: 47550000.0, Time: 14.629495757579917\n",
      "Peak value: 47564499.0, Time: 14.63240888889305\n",
      "Peak value: 47626999.0, Time: 14.647806868691035\n",
      "Peak value: 47689999.0, Time: 14.662788686872858\n",
      "Peak value: 47698499.0, Time: 14.664037171721343\n",
      "Peak value: 47692001.0, Time: 14.665285656569829\n",
      "Peak value: 47695999.0, Time: 14.666534141418314\n",
      "Peak value: 47698999.0, Time: 14.661956363640535\n",
      "Peak value: 47723499.0, Time: 14.669447272731446\n",
      "Peak value: 47728000.0, Time: 14.673608888893064\n",
      "Peak value: 47698999.0, Time: 14.661540202024373\n",
      "Peak value: 47704501.0, Time: 14.66070787879205\n",
      "Peak value: 47629501.0, Time: 14.649471515155682\n",
      "Peak value: 47627499.0, Time: 14.650720000004167\n",
      "Peak value: 47649500.0, Time: 14.652384646468814\n",
      "Peak value: 47676501.0, Time: 14.656962424246593\n",
      "Peak value: 47699500.0, Time: 14.658210909095079\n",
      "Peak value: 47698999.0, Time: 14.659459393943564\n",
      "Peak value: 48245999.0, Time: 14.940368484852751\n",
      "Peak value: 48260501.0, Time: 14.941200808085075\n",
      "Peak value: 48988000.0, Time: 15.225023030307394\n",
      "Peak value: 48982501.0, Time: 15.227103838388203\n",
      "Peak value: 49001001.0, Time: 15.22876848485285\n",
      "Peak value: 48995499.0, Time: 15.229600808085173\n",
      "Peak value: 49023001.0, Time: 15.231681616165982\n",
      "Peak value: 49010501.0, Time: 15.232930101014468\n",
      "Peak value: 49015500.0, Time: 15.233762424246791\n",
      "Peak value: 48934500.0, Time: 15.21004121212557\n",
      "Peak value: 48942999.0, Time: 15.211705858590218\n",
      "Peak value: 48967001.0, Time: 15.220861414145777\n",
      "Peak value: 48966000.0, Time: 15.217532121216482\n",
      "Peak value: 48965500.0, Time: 15.218364444448806\n",
      "Peak value: 48966501.0, Time: 15.220029090913453\n",
      "Peak value: 49082999.0, Time: 15.250408888893261\n",
      "Peak value: 49098001.0, Time: 15.251241212125585\n",
      "Peak value: 49094501.0, Time: 15.252073535357908\n",
      "Peak value: 49098999.0, Time: 15.253738181822555\n",
      "Peak value: 49125500.0, Time: 15.257483636368011\n",
      "Peak value: 49140500.0, Time: 15.258732121216497\n",
      "Peak value: 49135999.0, Time: 15.259980606064982\n",
      "Peak value: 49082001.0, Time: 15.247079595963967\n",
      "Peak value: 49026001.0, Time: 15.236259393943762\n",
      "Peak value: 49042999.0, Time: 15.247495757580129\n",
      "Peak value: 49044501.0, Time: 15.241669494953864\n",
      "Peak value: 49042001.0, Time: 15.243334141418512\n",
      "Peak value: 49051501.0, Time: 15.244998787883159\n",
      "Peak value: 49047000.0, Time: 15.245831111115482\n",
      "Peak value: 49054999.0, Time: 15.246663434347806\n",
      "Peak value: 49132501.0, Time: 15.260396767681144\n",
      "Peak value: 48848001.0, Time: 15.170089696974042\n",
      "Peak value: 48842001.0, Time: 15.173835151519498\n",
      "Peak value: 48847000.0, Time: 15.175083636367983\n",
      "Peak value: 48840500.0, Time: 15.175915959600307\n",
      "Peak value: 48839999.0, Time: 15.17674828283263\n",
      "Peak value: 48837500.0, Time: 15.177580606064954\n",
      "Peak value: 48857501.0, Time: 15.178829090913439\n",
      "Peak value: 48861499.0, Time: 15.180077575761924\n",
      "Peak value: 48851501.0, Time: 15.180493737378086\n",
      "Peak value: 48863501.0, Time: 15.16717656566091\n",
      "Peak value: 48839001.0, Time: 15.15760484848919\n",
      "Peak value: 48817999.0, Time: 15.158853333337674\n",
      "Peak value: 48829501.0, Time: 15.160517979802322\n",
      "Peak value: 48838000.0, Time: 15.162182626266969\n",
      "Peak value: 48839001.0, Time: 15.163431111115454\n",
      "Peak value: 48845999.0, Time: 15.164263434347777\n",
      "Peak value: 48833499.0, Time: 15.165511919196263\n",
      "Peak value: 48837000.0, Time: 15.166760404044748\n",
      "Peak value: 48915500.0, Time: 15.2075442424286\n",
      "Peak value: 48879501.0, Time: 15.19547555555991\n",
      "Peak value: 48907999.0, Time: 15.197556363640718\n",
      "Peak value: 48904001.0, Time: 15.198804848489203\n",
      "Peak value: 48921500.0, Time: 15.200053333337689\n",
      "Peak value: 48913000.0, Time: 15.202134141418497\n",
      "Peak value: 48916000.0, Time: 15.202966464650821\n",
      "Peak value: 48917499.0, Time: 15.201301818186174\n",
      "Peak value: 48881500.0, Time: 15.194643232327586\n",
      "Peak value: 48886499.0, Time: 15.184239191923542\n",
      "Peak value: 48895499.0, Time: 15.185071515155865\n",
      "Peak value: 48897501.0, Time: 15.186736161620512\n",
      "Peak value: 48887000.0, Time: 15.194227070711424\n",
      "Peak value: 48892001.0, Time: 15.190481616165968\n",
      "Peak value: 48910001.0, Time: 15.191313939398292\n",
      "Peak value: 48887000.0, Time: 15.192562424246777\n",
      "Peak value: 49404001.0, Time: 15.329479595963996\n",
      "Peak value: 49398499.0, Time: 15.330311919196319\n",
      "Peak value: 49402499.0, Time: 15.331144242428643\n",
      "Peak value: 49417499.0, Time: 15.33280888889329\n",
      "Peak value: 49412000.0, Time: 15.333641212125613\n",
      "Peak value: 49426501.0, Time: 15.336138181822584\n",
      "Peak value: 49417499.0, Time: 15.340299797984201\n",
      "Peak value: 49354501.0, Time: 15.316578585862981\n",
      "Peak value: 49370999.0, Time: 15.317410909095305\n",
      "Peak value: 49365500.0, Time: 15.318243232327628\n",
      "Peak value: 49384500.0, Time: 15.319907878792275\n",
      "Peak value: 49402499.0, Time: 15.327814949499349\n",
      "Peak value: 49414499.0, Time: 15.324485656570054\n",
      "Peak value: 49391501.0, Time: 15.32573414141854\n",
      "Peak value: 49398001.0, Time: 15.326982626267025\n",
      "Peak value: 49478500.0, Time: 15.357362424246833\n",
      "Peak value: 49472000.0, Time: 15.358194747479157\n",
      "Peak value: 49475000.0, Time: 15.359443232327642\n",
      "Peak value: 49478000.0, Time: 15.360275555559966\n",
      "Peak value: 49498499.0, Time: 15.362356363640775\n",
      "Peak value: 49487000.0, Time: 15.363188686873098\n",
      "Peak value: 49501501.0, Time: 15.364437171721583\n",
      "Peak value: 49509000.0, Time: 15.365685656570069\n",
      "Peak value: 49515500.0, Time: 15.366517979802392\n",
      "Peak value: 49462000.0, Time: 15.354865454549863\n",
      "Peak value: 49441501.0, Time: 15.343629090913495\n",
      "Peak value: 49431500.0, Time: 15.344461414145819\n",
      "Peak value: 49432501.0, Time: 15.345709898994304\n",
      "Peak value: 49460501.0, Time: 15.354449292933701\n",
      "Peak value: 49433499.0, Time: 15.348623030307436\n",
      "Peak value: 49437500.0, Time: 15.350287676772084\n",
      "Peak value: 49459500.0, Time: 15.351536161620569\n",
      "Peak value: 49475000.0, Time: 15.352368484852892\n",
      "Peak value: 49460501.0, Time: 15.353200808085216\n",
      "Peak value: 49197501.0, Time: 15.275794747479129\n",
      "Peak value: 49194000.0, Time: 15.277459393943776\n",
      "Peak value: 49211499.0, Time: 15.279124040408423\n",
      "Peak value: 49205499.0, Time: 15.280372525256908\n",
      "Peak value: 49207501.0, Time: 15.281621010105393\n",
      "Peak value: 49235999.0, Time: 15.28328565657004\n",
      "Peak value: 49242999.0, Time: 15.28536646465085\n",
      "Peak value: 49238501.0, Time: 15.286614949499334\n",
      "Peak value: 49243500.0, Time: 15.287031111115496\n",
      "Peak value: 49154501.0, Time: 15.262893737378114\n",
      "Peak value: 49152499.0, Time: 15.263726060610438\n",
      "Peak value: 49157501.0, Time: 15.264974545458923\n",
      "Peak value: 49170999.0, Time: 15.265806868691246\n",
      "Peak value: 49169000.0, Time: 15.274130101014482\n",
      "Peak value: 49157999.0, Time: 15.268303838388217\n",
      "Peak value: 49164999.0, Time: 15.269552323236702\n",
      "Peak value: 49184500.0, Time: 15.273297777782158\n",
      "Peak value: 49296500.0, Time: 15.302429090913481\n",
      "Peak value: 49326501.0, Time: 15.30700686869126\n",
      "Peak value: 49345999.0, Time: 15.309503838388231\n",
      "Peak value: 49348499.0, Time: 15.311168484852878\n",
      "Peak value: 49351999.0, Time: 15.312833131317525\n",
      "Peak value: 49351999.0, Time: 15.313665454549849\n",
      "Peak value: 49265500.0, Time: 15.290776565660952\n",
      "Peak value: 49278500.0, Time: 15.291608888893276\n",
      "Peak value: 49261499.0, Time: 15.293273535357923\n",
      "Peak value: 49297000.0, Time: 15.295354343438731\n",
      "Peak value: 49295999.0, Time: 15.297018989903378\n",
      "Peak value: 49300500.0, Time: 15.298267474751864\n",
      "Peak value: 49299500.0, Time: 15.299515959600349\n",
      "Peak value: 48819000.0, Time: 15.154691717176057\n",
      "Peak value: 48470001.0, Time: 15.010283636367927\n",
      "Peak value: 48470001.0, Time: 15.01111595960025\n",
      "Peak value: 48485999.0, Time: 15.012780606064897\n",
      "Peak value: 48481000.0, Time: 15.01569373737803\n",
      "Peak value: 48490500.0, Time: 15.016942222226515\n",
      "Peak value: 48501001.0, Time: 15.017774545458838\n",
      "Peak value: 48504999.0, Time: 15.019439191923485\n",
      "Peak value: 48506000.0, Time: 15.020271515155809\n",
      "Peak value: 48465500.0, Time: 14.995717979802265\n",
      "Peak value: 48467999.0, Time: 14.996550303034589\n",
      "Peak value: 48464499.0, Time: 14.997798787883074\n",
      "Peak value: 48478000.0, Time: 14.99904727273156\n",
      "Peak value: 48474500.0, Time: 15.001960404044691\n",
      "Peak value: 48463501.0, Time: 15.002792727277015\n",
      "Peak value: 48471500.0, Time: 15.001128080812368\n",
      "Peak value: 48555499.0, Time: 15.036501818186117\n",
      "Peak value: 48548999.0, Time: 15.040247272731573\n",
      "Peak value: 48567001.0, Time: 15.04191191919622\n",
      "Peak value: 48573499.0, Time: 15.043160404044706\n",
      "Peak value: 48570001.0, Time: 15.044825050509353\n",
      "Peak value: 48589999.0, Time: 15.046489696974\n",
      "Peak value: 48554999.0, Time: 15.033588686872985\n",
      "Peak value: 48512500.0, Time: 15.024433131317426\n",
      "Peak value: 48541501.0, Time: 15.025681616165912\n",
      "Peak value: 48526001.0, Time: 15.026930101014397\n",
      "Peak value: 48534000.0, Time: 15.027346262630559\n",
      "Peak value: 48529501.0, Time: 15.028594747479044\n",
      "Peak value: 48532001.0, Time: 15.029427070711368\n",
      "Peak value: 48547501.0, Time: 15.030259393943691\n",
      "Peak value: 48554999.0, Time: 15.031507878792176\n",
      "Peak value: 48529001.0, Time: 15.032756363640662\n",
      "Peak value: 48572501.0, Time: 15.046905858590161\n",
      "Peak value: 48453500.0, Time: 14.993637171721456\n",
      "Peak value: 48323999.0, Time: 14.957014949499222\n",
      "Peak value: 48325500.0, Time: 14.958263434347707\n",
      "Peak value: 48329999.0, Time: 14.95909575758003\n",
      "Peak value: 48331000.0, Time: 14.959928080812354\n",
      "Peak value: 48334000.0, Time: 14.961592727277\n",
      "Peak value: 48340500.0, Time: 14.962425050509324\n",
      "Peak value: 48351501.0, Time: 14.964089696973971\n",
      "Peak value: 48353000.0, Time: 14.965338181822457\n",
      "Peak value: 48345499.0, Time: 14.966586666670942\n",
      "Peak value: 48351001.0, Time: 14.967002828287104\n",
      "Peak value: 48251999.0, Time: 14.94244929293356\n",
      "Peak value: 48258499.0, Time: 14.943281616165883\n",
      "Peak value: 48272000.0, Time: 14.944113939398207\n",
      "Peak value: 48267999.0, Time: 14.94494626263053\n",
      "Peak value: 48278000.0, Time: 14.945778585862854\n",
      "Peak value: 48291501.0, Time: 14.946610909095178\n",
      "Peak value: 48308499.0, Time: 14.95410181818609\n",
      "Peak value: 48288501.0, Time: 14.948691717175986\n",
      "Peak value: 48299500.0, Time: 14.950772525256795\n",
      "Peak value: 48306000.0, Time: 14.95202101010528\n",
      "Peak value: 48298001.0, Time: 14.952853333337604\n",
      "Peak value: 48451001.0, Time: 14.994053333337618\n",
      "Peak value: 48420001.0, Time: 14.981984646468927\n",
      "Peak value: 48432501.0, Time: 14.983649292933574\n",
      "Peak value: 48423001.0, Time: 14.985313939398221\n",
      "Peak value: 48446500.0, Time: 14.986978585862868\n",
      "Peak value: 48459000.0, Time: 14.990724040408324\n",
      "Peak value: 48465500.0, Time: 14.991556363640647\n",
      "Peak value: 48463501.0, Time: 14.992804848489133\n",
      "Peak value: 48410999.0, Time: 14.98032000000428\n",
      "Peak value: 48367999.0, Time: 14.969499797984074\n",
      "Peak value: 48414999.0, Time: 14.980736161620442\n",
      "Peak value: 48392999.0, Time: 14.975326060610339\n",
      "Peak value: 48399500.0, Time: 14.976158383842662\n",
      "Peak value: 48400000.0, Time: 14.976990707074986\n",
      "Peak value: 48407999.0, Time: 14.979071515155795\n",
      "Peak value: 48761499.0, Time: 15.116821010105337\n",
      "Peak value: 48781000.0, Time: 15.118485656569984\n",
      "Peak value: 48787000.0, Time: 15.11973414141847\n",
      "Peak value: 48763501.0, Time: 15.12472808081241\n",
      "Peak value: 48762000.0, Time: 15.126808888893219\n",
      "Peak value: 48753500.0, Time: 15.102255353539675\n",
      "Peak value: 48752499.0, Time: 15.10350383838816\n",
      "Peak value: 48753000.0, Time: 15.114324040408366\n",
      "Peak value: 48738501.0, Time: 15.108497777782102\n",
      "Peak value: 48746500.0, Time: 15.111827070711396\n",
      "Peak value: 48753500.0, Time: 15.11265939394372\n",
      "Peak value: 48753500.0, Time: 15.10808161616594\n",
      "Peak value: 48759000.0, Time: 15.127641212125543\n",
      "Peak value: 48774500.0, Time: 15.142623030307366\n",
      "Peak value: 48769501.0, Time: 15.143871515155851\n",
      "Peak value: 48781000.0, Time: 15.145120000004336\n",
      "Peak value: 48781500.0, Time: 15.14595232323666\n",
      "Peak value: 48801501.0, Time: 15.146784646468983\n",
      "Peak value: 48797501.0, Time: 15.147616969701307\n",
      "Peak value: 48814499.0, Time: 15.150113939398278\n",
      "Peak value: 48814499.0, Time: 15.150946262630601\n",
      "Peak value: 48814999.0, Time: 15.152610909095248\n",
      "Peak value: 48826999.0, Time: 15.153443232327572\n",
      "Peak value: 48767001.0, Time: 15.140542222226557\n",
      "Peak value: 48776501.0, Time: 15.129722020206351\n",
      "Peak value: 48792001.0, Time: 15.130970505054837\n",
      "Peak value: 48773001.0, Time: 15.132635151519484\n",
      "Peak value: 48779501.0, Time: 15.133467474751807\n",
      "Peak value: 48773999.0, Time: 15.135132121216454\n",
      "Peak value: 48791501.0, Time: 15.13638060606494\n",
      "Peak value: 48779999.0, Time: 15.134715959600292\n",
      "Peak value: 48742001.0, Time: 15.100590707075028\n",
      "Peak value: 48628000.0, Time: 15.062720000004308\n",
      "Peak value: 48650000.0, Time: 15.064384646468955\n",
      "Peak value: 48653000.0, Time: 15.065216969701279\n",
      "Peak value: 48644000.0, Time: 15.066465454549764\n",
      "Peak value: 48642001.0, Time: 15.068546262630573\n",
      "Peak value: 48660501.0, Time: 15.069378585862896\n",
      "Peak value: 48659000.0, Time: 15.07021090909522\n",
      "Peak value: 48654501.0, Time: 15.073124040408352\n",
      "Peak value: 48655499.0, Time: 15.073540202024514\n",
      "Peak value: 48597000.0, Time: 15.049818989903294\n",
      "Peak value: 48587500.0, Time: 15.050651313135617\n",
      "Peak value: 48589999.0, Time: 15.05148363636794\n",
      "Peak value: 48615500.0, Time: 15.0606391919235\n",
      "Peak value: 48629999.0, Time: 15.057726060610367\n",
      "Peak value: 48622501.0, Time: 15.05855838384269\n",
      "Peak value: 48616000.0, Time: 15.059806868691176\n",
      "Peak value: 48659500.0, Time: 15.074372525256837\n",
      "Peak value: 48722501.0, Time: 15.090602828287146\n",
      "Peak value: 48716000.0, Time: 15.09143515151947\n",
      "Peak value: 48718500.0, Time: 15.092267474751793\n",
      "Peak value: 48729001.0, Time: 15.09393212121644\n",
      "Peak value: 48742001.0, Time: 15.096012929297249\n",
      "Peak value: 48747501.0, Time: 15.097677575761896\n",
      "Peak value: 48747501.0, Time: 15.09850989899422\n",
      "Peak value: 48741000.0, Time: 15.100174545458867\n",
      "Peak value: 48663000.0, Time: 15.075621010105323\n",
      "Peak value: 48678500.0, Time: 15.076869494953808\n",
      "Peak value: 48680499.0, Time: 15.078534141418455\n",
      "Peak value: 48694501.0, Time: 15.080198787883102\n",
      "Peak value: 48710999.0, Time: 15.08227959596391\n",
      "Peak value: 48720499.0, Time: 15.083111919196234\n",
      "Peak value: 48692499.0, Time: 15.083944242428558\n",
      "Peak value: 48717499.0, Time: 15.084776565660881\n",
      "Peak value: 48717999.0, Time: 15.085608888893205\n",
      "Peak value: 48817001.0, Time: 15.154275555559895\n",
      "Peak value: 47245999.0, Time: 14.513802828286948\n",
      "Peak value: 46021500.0, Time: 13.942829090913015\n",
      "Peak value: 46016000.0, Time: 13.9440775757615\n",
      "Peak value: 46028000.0, Time: 13.944909898993824\n",
      "Peak value: 46029999.0, Time: 13.945742222226148\n",
      "Peak value: 46042001.0, Time: 13.947823030306957\n",
      "Peak value: 46032999.0, Time: 13.949071515155442\n",
      "Peak value: 46045499.0, Time: 13.951568484852412\n",
      "Peak value: 46019000.0, Time: 13.939915959599883\n",
      "Peak value: 46000000.0, Time: 13.929928080812001\n",
      "Peak value: 46003500.0, Time: 13.931592727276648\n",
      "Peak value: 45986499.0, Time: 13.932425050508972\n",
      "Peak value: 46020499.0, Time: 13.940332121216045\n",
      "Peak value: 45999500.0, Time: 13.93450585858978\n",
      "Peak value: 46005499.0, Time: 13.935754343438266\n",
      "Peak value: 46019501.0, Time: 13.93700282828675\n",
      "Peak value: 46017499.0, Time: 13.939499797983721\n",
      "Peak value: 46031000.0, Time: 13.953649292933221\n",
      "Peak value: 46031500.0, Time: 13.968214949498883\n",
      "Peak value: 46037000.0, Time: 13.96987959596353\n",
      "Peak value: 46034000.0, Time: 13.967798787882721\n",
      "Peak value: 46022000.0, Time: 13.97445737374131\n",
      "Peak value: 46013000.0, Time: 13.975705858589794\n",
      "Peak value: 46022000.0, Time: 13.977370505054441\n",
      "Peak value: 46038000.0, Time: 13.97945131313525\n",
      "Peak value: 46030499.0, Time: 13.954065454549383\n",
      "Peak value: 46034000.0, Time: 13.966550303034236\n",
      "Peak value: 46039999.0, Time: 13.957394747478677\n",
      "Peak value: 46035999.0, Time: 13.958643232327162\n",
      "Peak value: 46039001.0, Time: 13.959475555559486\n",
      "Peak value: 46022000.0, Time: 13.966966464650397\n",
      "Peak value: 46026999.0, Time: 13.961972525256456\n",
      "Peak value: 46017499.0, Time: 13.963221010104942\n",
      "Peak value: 46028500.0, Time: 13.964053333337265\n",
      "Peak value: 46029001.0, Time: 13.964885656569589\n",
      "Peak value: 46020999.0, Time: 13.966134141418074\n",
      "Peak value: 46037000.0, Time: 13.979867474751412\n",
      "Peak value: 45888000.0, Time: 13.890392727276634\n",
      "Peak value: 45892001.0, Time: 13.892473535357443\n",
      "Peak value: 45884500.0, Time: 13.893722020205928\n",
      "Peak value: 45878000.0, Time: 13.895802828286737\n",
      "Peak value: 45897000.0, Time: 13.89663515151906\n",
      "Peak value: 45911499.0, Time: 13.897467474751384\n",
      "Peak value: 45901001.0, Time: 13.898715959599869\n",
      "Peak value: 45893500.0, Time: 13.899964444448354\n",
      "Peak value: 45813501.0, Time: 13.875827070710972\n",
      "Peak value: 45834000.0, Time: 13.876659393943296\n",
      "Peak value: 45817999.0, Time: 13.87749171717562\n",
      "Peak value: 45839999.0, Time: 13.878324040407943\n",
      "Peak value: 45848001.0, Time: 13.879156363640266\n",
      "Peak value: 45867499.0, Time: 13.88706343434734\n",
      "Peak value: 45854001.0, Time: 13.881653333337237\n",
      "Peak value: 45842001.0, Time: 13.883317979801884\n",
      "Peak value: 45847000.0, Time: 13.884150303034207\n",
      "Peak value: 45842499.0, Time: 13.884982626266531\n",
      "Peak value: 45848499.0, Time: 13.885814949498855\n",
      "Peak value: 45982999.0, Time: 13.927014949498869\n",
      "Peak value: 45970999.0, Time: 13.916194747478663\n",
      "Peak value: 45975000.0, Time: 13.91785939394331\n",
      "Peak value: 45982999.0, Time: 13.918691717175633\n",
      "Peak value: 45963501.0, Time: 13.919524040407957\n",
      "Peak value: 45993500.0, Time: 13.923685656569575\n",
      "Peak value: 45992999.0, Time: 13.924517979801898\n",
      "Peak value: 45982999.0, Time: 13.925766464650383\n",
      "Peak value: 45981000.0, Time: 13.920772525256442\n",
      "Peak value: 45960999.0, Time: 13.914113939397854\n",
      "Peak value: 45912000.0, Time: 13.902461414145325\n",
      "Peak value: 45951001.0, Time: 13.907871515155428\n",
      "Peak value: 45950500.0, Time: 13.908703838387751\n",
      "Peak value: 45950000.0, Time: 13.909952323236237\n",
      "Peak value: 45962000.0, Time: 13.911616969700884\n",
      "Peak value: 45963501.0, Time: 13.912865454549369\n",
      "Peak value: 46035999.0, Time: 13.980699797983736\n",
      "Peak value: 46152499.0, Time: 14.048534141418102\n",
      "Peak value: 46156500.0, Time: 14.049782626266587\n",
      "Peak value: 46151999.0, Time: 14.050614949498911\n",
      "Peak value: 46157999.0, Time: 14.051863434347396\n",
      "Peak value: 46155499.0, Time: 14.05269575757972\n",
      "Peak value: 46157999.0, Time: 14.053528080812043\n",
      "Peak value: 46166501.0, Time: 14.05768969697366\n",
      "Peak value: 46164001.0, Time: 14.058938181822146\n",
      "Peak value: 46153000.0, Time: 14.05977050505447\n",
      "Peak value: 46159500.0, Time: 14.060186666670631\n",
      "Peak value: 46146500.0, Time: 14.046869494953455\n",
      "Peak value: 46132999.0, Time: 14.036465454549411\n",
      "Peak value: 46154001.0, Time: 14.047285656569617\n",
      "Peak value: 46124500.0, Time: 14.042291717175676\n",
      "Peak value: 46125000.0, Time: 14.043124040408\n",
      "Peak value: 46122000.0, Time: 14.043956363640323\n",
      "Peak value: 46137500.0, Time: 14.046037171721132\n",
      "Peak value: 46192499.0, Time: 14.075584646468617\n",
      "Peak value: 46193500.0, Time: 14.07641696970094\n",
      "Peak value: 46195001.0, Time: 14.078081616165587\n",
      "Peak value: 46204999.0, Time: 14.079746262630234\n",
      "Peak value: 46195001.0, Time: 14.080578585862558\n",
      "Peak value: 46203000.0, Time: 14.081827070711043\n",
      "Peak value: 46224500.0, Time: 14.083075555559528\n",
      "Peak value: 46214499.0, Time: 14.083907878791852\n",
      "Peak value: 46204501.0, Time: 14.08598868687266\n",
      "Peak value: 46190500.0, Time: 14.074336161620131\n",
      "Peak value: 46156500.0, Time: 14.062683636367602\n",
      "Peak value: 46173499.0, Time: 14.063932121216087\n",
      "Peak value: 46179999.0, Time: 14.06476444444841\n",
      "Peak value: 46189499.0, Time: 14.066012929296896\n",
      "Peak value: 46187000.0, Time: 14.068093737377705\n",
      "Peak value: 46189001.0, Time: 14.068926060610028\n",
      "Peak value: 46192999.0, Time: 14.070174545458514\n",
      "Peak value: 46192999.0, Time: 14.067677575761543\n",
      "Peak value: 46117499.0, Time: 14.033552323236279\n",
      "Peak value: 46042499.0, Time: 13.995265454549397\n",
      "Peak value: 46055499.0, Time: 13.996930101014044\n",
      "Peak value: 46070499.0, Time: 13.998594747478691\n",
      "Peak value: 46048999.0, Time: 14.000259393943338\n",
      "Peak value: 46064001.0, Time: 14.002756363640309\n",
      "Peak value: 46064499.0, Time: 14.0006755555595\n",
      "Peak value: 46025500.0, Time: 13.98194828283222\n",
      "Peak value: 46047501.0, Time: 13.983612929296868\n",
      "Peak value: 46064001.0, Time: 13.986109898993838\n",
      "Peak value: 46047501.0, Time: 13.990687676771618\n",
      "Peak value: 46043500.0, Time: 13.991936161620103\n",
      "Peak value: 46056000.0, Time: 14.006917979801926\n",
      "Peak value: 46103500.0, Time: 14.023980606064558\n",
      "Peak value: 46085501.0, Time: 14.025229090913044\n",
      "Peak value: 46099500.0, Time: 14.026061414145367\n",
      "Peak value: 46092001.0, Time: 14.021483636367588\n",
      "Peak value: 46094501.0, Time: 14.028558383842338\n",
      "Peak value: 46114001.0, Time: 14.031055353539308\n",
      "Peak value: 46112500.0, Time: 14.031887676771632\n",
      "Peak value: 46120001.0, Time: 14.032720000003955\n",
      "Peak value: 46073999.0, Time: 14.008998787882735\n",
      "Peak value: 46059500.0, Time: 14.009831111115059\n",
      "Peak value: 46076999.0, Time: 14.010663434347382\n",
      "Peak value: 46071500.0, Time: 14.01232808081203\n",
      "Peak value: 46095001.0, Time: 14.013160404044353\n",
      "Peak value: 46075500.0, Time: 14.014408888892838\n",
      "Peak value: 46095001.0, Time: 14.015657373741323\n",
      "Peak value: 46095001.0, Time: 14.016489696973647\n",
      "Peak value: 46085001.0, Time: 14.018154343438294\n",
      "Peak value: 46085999.0, Time: 14.018986666670617\n",
      "Peak value: 46079001.0, Time: 14.01981898990294\n",
      "Peak value: 46204501.0, Time: 14.086821010104984\n",
      "Peak value: 45520001.0, Time: 13.730170505054357\n",
      "Peak value: 45515500.0, Time: 13.73100282828668\n",
      "Peak value: 45528000.0, Time: 13.731835151519004\n",
      "Peak value: 45528000.0, Time: 13.73349979798365\n",
      "Peak value: 45534500.0, Time: 13.734748282832136\n",
      "Peak value: 45531000.0, Time: 13.735996767680621\n",
      "Peak value: 45528500.0, Time: 13.736829090912945\n",
      "Peak value: 45515500.0, Time: 13.739742222226077\n",
      "Peak value: 45514999.0, Time: 13.726425050508901\n",
      "Peak value: 45491000.0, Time: 13.715604848488695\n",
      "Peak value: 45490500.0, Time: 13.71685333333718\n",
      "Peak value: 45492001.0, Time: 13.717685656569504\n",
      "Peak value: 45495001.0, Time: 13.718517979801828\n",
      "Peak value: 45498001.0, Time: 13.719350303034151\n",
      "Peak value: 45510001.0, Time: 13.720182626266475\n",
      "Peak value: 45519000.0, Time: 13.72392808081193\n",
      "Peak value: 45504999.0, Time: 13.725176565660416\n",
      "Peak value: 45504001.0, Time: 13.720598787882636\n",
      "Peak value: 45515500.0, Time: 13.740158383842239\n",
      "Peak value: 45549500.0, Time: 13.758053333337195\n",
      "Peak value: 45532001.0, Time: 13.758885656569518\n",
      "Peak value: 45545999.0, Time: 13.760134141418003\n",
      "Peak value: 45539499.0, Time: 13.761382626266489\n",
      "Peak value: 45547000.0, Time: 13.762214949498812\n",
      "Peak value: 45554999.0, Time: 13.763047272731136\n",
      "Peak value: 45564999.0, Time: 13.764295757579621\n",
      "Peak value: 45565500.0, Time: 13.765544242428106\n",
      "Peak value: 45543500.0, Time: 13.753059393943253\n",
      "Peak value: 45529001.0, Time: 13.741823030306886\n",
      "Peak value: 45532999.0, Time: 13.743487676771533\n",
      "Peak value: 45541501.0, Time: 13.74515232323618\n",
      "Peak value: 45539001.0, Time: 13.745984646468504\n",
      "Peak value: 45542999.0, Time: 13.753475555559415\n",
      "Peak value: 45538000.0, Time: 13.74764929293315\n",
      "Peak value: 45541000.0, Time: 13.748481616165474\n",
      "Peak value: 45548499.0, Time: 13.750978585862445\n",
      "Peak value: 45548999.0, Time: 13.75222707071093\n",
      "Peak value: 45553500.0, Time: 13.76637656566043\n",
      "Peak value: 45489499.0, Time: 13.713107878791725\n",
      "Peak value: 45376999.0, Time: 13.676069494953328\n",
      "Peak value: 45379001.0, Time: 13.676901818185652\n",
      "Peak value: 45386499.0, Time: 13.67898262626646\n",
      "Peak value: 45388000.0, Time: 13.68106343434727\n",
      "Peak value: 45395001.0, Time: 13.683976565660402\n",
      "Peak value: 45410001.0, Time: 13.684808888892725\n",
      "Peak value: 45389999.0, Time: 13.68605737374121\n",
      "Peak value: 45404999.0, Time: 13.686473535357372\n",
      "Peak value: 45369000.0, Time: 13.663168484852314\n",
      "Peak value: 45354999.0, Time: 13.666081616165446\n",
      "Peak value: 45366000.0, Time: 13.66691393939777\n",
      "Peak value: 45354999.0, Time: 13.668162424246255\n",
      "Peak value: 45360501.0, Time: 13.668994747478578\n",
      "Peak value: 45361499.0, Time: 13.672740202024034\n",
      "Peak value: 45467999.0, Time: 13.713524040407886\n",
      "Peak value: 45453500.0, Time: 13.701871515155357\n",
      "Peak value: 45457999.0, Time: 13.70270383838768\n",
      "Peak value: 45478500.0, Time: 13.706449292933137\n",
      "Peak value: 45480499.0, Time: 13.706865454549298\n",
      "Peak value: 45479501.0, Time: 13.708530101013945\n",
      "Peak value: 45481000.0, Time: 13.709362424246269\n",
      "Peak value: 45479999.0, Time: 13.710194747478592\n",
      "Peak value: 45487000.0, Time: 13.711027070710916\n",
      "Peak value: 45495499.0, Time: 13.712275555559401\n",
      "Peak value: 45451001.0, Time: 13.699790707074548\n",
      "Peak value: 45427499.0, Time: 13.691051313135151\n",
      "Peak value: 45453500.0, Time: 13.70020686869071\n",
      "Peak value: 45437500.0, Time: 13.695212929296769\n",
      "Peak value: 45442999.0, Time: 13.696045252529093\n",
      "Peak value: 45447501.0, Time: 13.696877575761416\n",
      "Peak value: 45446500.0, Time: 13.698126060609901\n",
      "Peak value: 45557001.0, Time: 13.766792727276592\n",
      "Peak value: 45707501.0, Time: 13.83504323232712\n",
      "Peak value: 45719501.0, Time: 13.836291717175605\n",
      "Peak value: 45721500.0, Time: 13.840037171721061\n",
      "Peak value: 45728500.0, Time: 13.841701818185708\n",
      "Peak value: 45722501.0, Time: 13.842534141418032\n",
      "Peak value: 45737500.0, Time: 13.845031111115002\n",
      "Peak value: 45739999.0, Time: 13.845863434347326\n",
      "Peak value: 45738501.0, Time: 13.84669575757965\n",
      "Peak value: 45689001.0, Time: 13.823806868690752\n",
      "Peak value: 45697000.0, Time: 13.825055353539238\n",
      "Peak value: 45692499.0, Time: 13.825887676771561\n",
      "Peak value: 45716501.0, Time: 13.833794747478635\n",
      "Peak value: 45707501.0, Time: 13.828384646468532\n",
      "Peak value: 45694501.0, Time: 13.829216969700855\n",
      "Peak value: 45710001.0, Time: 13.830881616165502\n",
      "Peak value: 45723999.0, Time: 13.83254626263015\n",
      "Peak value: 45776999.0, Time: 13.862093737377634\n",
      "Peak value: 45799500.0, Time: 13.863758383842281\n",
      "Peak value: 45801001.0, Time: 13.864590707074605\n",
      "Peak value: 45792999.0, Time: 13.866671515155414\n",
      "Peak value: 45816000.0, Time: 13.86833616162006\n",
      "Peak value: 45817001.0, Time: 13.87291393939784\n",
      "Peak value: 45761499.0, Time: 13.860012929296825\n",
      "Peak value: 45743500.0, Time: 13.848776565660458\n",
      "Peak value: 45748001.0, Time: 13.849608888892782\n",
      "Peak value: 45753500.0, Time: 13.851273535357429\n",
      "Peak value: 45781000.0, Time: 13.860429090912987\n",
      "Peak value: 45766000.0, Time: 13.857099797983693\n",
      "Peak value: 45775000.0, Time: 13.857932121216017\n",
      "Peak value: 45770999.0, Time: 13.859180606064502\n",
      "Peak value: 45757001.0, Time: 13.85418666667056\n",
      "Peak value: 45686499.0, Time: 13.820061414145297\n",
      "Peak value: 45569501.0, Time: 13.782606868690738\n",
      "Peak value: 45587500.0, Time: 13.783439191923062\n",
      "Peak value: 45585001.0, Time: 13.784687676771547\n",
      "Peak value: 45591000.0, Time: 13.786352323236194\n",
      "Peak value: 45598001.0, Time: 13.791346262630135\n",
      "Peak value: 45600500.0, Time: 13.792178585862459\n",
      "Peak value: 45570001.0, Time: 13.768457373741239\n",
      "Peak value: 45566501.0, Time: 13.769289696973562\n",
      "Peak value: 45561499.0, Time: 13.770122020205886\n",
      "Peak value: 45562000.0, Time: 13.780109898993768\n",
      "Peak value: 45566501.0, Time: 13.775115959599827\n",
      "Peak value: 45573001.0, Time: 13.776364444448312\n",
      "Peak value: 45577499.0, Time: 13.777612929296797\n",
      "Peak value: 45567001.0, Time: 13.77844525252912\n",
      "Peak value: 45570999.0, Time: 13.779277575761444\n",
      "Peak value: 45642999.0, Time: 13.808408888892767\n",
      "Peak value: 45632501.0, Time: 13.809241212125091\n",
      "Peak value: 45642499.0, Time: 13.810073535357414\n",
      "Peak value: 45642001.0, Time: 13.8113220202059\n",
      "Peak value: 45653500.0, Time: 13.812570505054385\n",
      "Peak value: 45661499.0, Time: 13.813402828286709\n",
      "Peak value: 45660999.0, Time: 13.81381898990287\n",
      "Peak value: 45664499.0, Time: 13.815067474751356\n",
      "Peak value: 45664499.0, Time: 13.815899797983679\n",
      "Peak value: 45676999.0, Time: 13.817148282832164\n",
      "Peak value: 45661499.0, Time: 13.81839676768065\n",
      "Peak value: 45664499.0, Time: 13.819229090912973\n",
      "Peak value: 45607501.0, Time: 13.795924040407915\n",
      "Peak value: 45629999.0, Time: 13.797588686872562\n",
      "Peak value: 45619501.0, Time: 13.798421010104885\n",
      "Peak value: 45643500.0, Time: 13.79966949495337\n",
      "Peak value: 45619000.0, Time: 13.800501818185694\n",
      "Peak value: 45634500.0, Time: 13.80175030303418\n",
      "Peak value: 45617001.0, Time: 13.802998787882665\n",
      "Peak value: 49494000.0, Time: 15.367350303034716\n",
      "Peak value: 46985999.0, Time: 14.368562424246495\n",
      "Peak value: 46971500.0, Time: 14.370227070711142\n",
      "Peak value: 46973001.0, Time: 14.373556363640436\n",
      "Peak value: 46983499.0, Time: 14.374804848488921\n",
      "Peak value: 46978000.0, Time: 14.37688565656973\n",
      "Peak value: 46985001.0, Time: 14.377717979802053\n",
      "Peak value: 46977499.0, Time: 14.378966464650539\n",
      "Peak value: 46994000.0, Time: 14.380214949499024\n",
      "Peak value: 46977499.0, Time: 14.366897777781848\n",
      "Peak value: 46958499.0, Time: 14.357326060610127\n",
      "Peak value: 46960999.0, Time: 14.35815838384245\n",
      "Peak value: 46948999.0, Time: 14.359823030307098\n",
      "Peak value: 46969000.0, Time: 14.36731393939801\n",
      "Peak value: 46967001.0, Time: 14.363984646468715\n",
      "Peak value: 46971500.0, Time: 14.366065454549524\n",
      "Peak value: 47011499.0, Time: 14.395196767680847\n",
      "Peak value: 47033499.0, Time: 14.39602909091317\n",
      "Peak value: 47022501.0, Time: 14.396861414145494\n",
      "Peak value: 47020001.0, Time: 14.397693737377818\n",
      "Peak value: 47019000.0, Time: 14.399774545458627\n",
      "Peak value: 47023001.0, Time: 14.401439191923274\n",
      "Peak value: 47033499.0, Time: 14.40310383838792\n",
      "Peak value: 47037500.0, Time: 14.401023030307112\n",
      "Peak value: 47005499.0, Time: 14.3935321212162\n",
      "Peak value: 47001999.0, Time: 14.382711919195994\n",
      "Peak value: 47017999.0, Time: 14.38396040404448\n",
      "Peak value: 47023001.0, Time: 14.38645737374145\n",
      "Peak value: 47014999.0, Time: 14.390618989903068\n",
      "Peak value: 47021500.0, Time: 14.393115959600038\n",
      "Peak value: 47029999.0, Time: 14.406849292933376\n",
      "Peak value: 46864001.0, Time: 14.316126060610113\n",
      "Peak value: 46868500.0, Time: 14.316958383842437\n",
      "Peak value: 46857999.0, Time: 14.318206868690922\n",
      "Peak value: 46889499.0, Time: 14.319871515155569\n",
      "Peak value: 46904999.0, Time: 14.324449292933348\n",
      "Peak value: 46909000.0, Time: 14.325281616165672\n",
      "Peak value: 46884000.0, Time: 14.326946262630319\n",
      "Peak value: 46798499.0, Time: 14.302392727276775\n",
      "Peak value: 46815500.0, Time: 14.306554343438393\n",
      "Peak value: 46841000.0, Time: 14.307386666670716\n",
      "Peak value: 46838000.0, Time: 14.309051313135363\n",
      "Peak value: 46830499.0, Time: 14.310299797983848\n",
      "Peak value: 46834500.0, Time: 14.311964444448495\n",
      "Peak value: 46856500.0, Time: 14.312796767680819\n",
      "Peak value: 46946500.0, Time: 14.353996767680833\n",
      "Peak value: 46920499.0, Time: 14.341928080812142\n",
      "Peak value: 46919000.0, Time: 14.342760404044466\n",
      "Peak value: 46916000.0, Time: 14.34359272727679\n",
      "Peak value: 46926999.0, Time: 14.344425050509113\n",
      "Peak value: 46929501.0, Time: 14.346505858589921\n",
      "Peak value: 46933499.0, Time: 14.348170505054568\n",
      "Peak value: 46934000.0, Time: 14.350251313135377\n",
      "Peak value: 46953500.0, Time: 14.3510836363677\n",
      "Peak value: 46942499.0, Time: 14.352332121216186\n",
      "Peak value: 46942001.0, Time: 14.35316444444851\n",
      "Peak value: 46914001.0, Time: 14.340263434347495\n",
      "Peak value: 46888501.0, Time: 14.32944323232729\n",
      "Peak value: 46910999.0, Time: 14.330275555559613\n",
      "Peak value: 46901001.0, Time: 14.332356363640422\n",
      "Peak value: 46920001.0, Time: 14.340679595963657\n",
      "Peak value: 46926001.0, Time: 14.336101818185877\n",
      "Peak value: 46913000.0, Time: 14.339847272731333\n",
      "Peak value: 47034500.0, Time: 14.407265454549538\n",
      "Peak value: 47143500.0, Time: 14.475515959600067\n",
      "Peak value: 47159500.0, Time: 14.476764444448552\n",
      "Peak value: 47167999.0, Time: 14.478429090913199\n",
      "Peak value: 47158499.0, Time: 14.480509898994008\n",
      "Peak value: 47172501.0, Time: 14.48092606061017\n",
      "Peak value: 47178500.0, Time: 14.482174545458655\n",
      "Peak value: 47165500.0, Time: 14.483006868690978\n",
      "Peak value: 47187000.0, Time: 14.483839191923302\n",
      "Peak value: 47185501.0, Time: 14.484671515155625\n",
      "Peak value: 47184500.0, Time: 14.486336161620272\n",
      "Peak value: 47175500.0, Time: 14.487168484852596\n",
      "Peak value: 47148499.0, Time: 14.46219878788289\n",
      "Peak value: 47142999.0, Time: 14.463863434347537\n",
      "Peak value: 47148499.0, Time: 14.46677656566067\n",
      "Peak value: 47137500.0, Time: 14.468441212125317\n",
      "Peak value: 47147501.0, Time: 14.470105858589964\n",
      "Peak value: 47163501.0, Time: 14.468025050509155\n",
      "Peak value: 47216501.0, Time: 14.50215030303442\n",
      "Peak value: 47219000.0, Time: 14.503398787882904\n",
      "Peak value: 47219000.0, Time: 14.501734141418257\n",
      "Peak value: 47217999.0, Time: 14.509225050509169\n",
      "Peak value: 47226501.0, Time: 14.510057373741493\n",
      "Peak value: 47223499.0, Time: 14.510889696973816\n",
      "Peak value: 47223499.0, Time: 14.51172202020614\n",
      "Peak value: 47242999.0, Time: 14.512554343438463\n",
      "Peak value: 47230499.0, Time: 14.513386666670787\n",
      "Peak value: 47214499.0, Time: 14.500485656569772\n",
      "Peak value: 47181500.0, Time: 14.49049777778189\n",
      "Peak value: 47212000.0, Time: 14.492578585862699\n",
      "Peak value: 47213501.0, Time: 14.494243232327346\n",
      "Peak value: 47207501.0, Time: 14.497156363640478\n",
      "Peak value: 47202499.0, Time: 14.497988686872802\n",
      "Peak value: 47198999.0, Time: 14.498821010105125\n",
      "Peak value: 47205499.0, Time: 14.494659393943508\n",
      "Peak value: 47122000.0, Time: 14.460534141418243\n",
      "Peak value: 47092999.0, Time: 14.423911919196009\n",
      "Peak value: 47087500.0, Time: 14.424744242428332\n",
      "Peak value: 47087500.0, Time: 14.425576565660656\n",
      "Peak value: 47088000.0, Time: 14.42682505050914\n",
      "Peak value: 47076999.0, Time: 14.428073535357626\n",
      "Peak value: 47087500.0, Time: 14.429322020206111\n",
      "Peak value: 47095001.0, Time: 14.430154343438435\n",
      "Peak value: 47098001.0, Time: 14.430986666670758\n",
      "Peak value: 47094000.0, Time: 14.432235151519244\n",
      "Peak value: 47091501.0, Time: 14.433483636367729\n",
      "Peak value: 47051999.0, Time: 14.408930101014185\n",
      "Peak value: 47044000.0, Time: 14.410594747478832\n",
      "Peak value: 47035999.0, Time: 14.411427070711156\n",
      "Peak value: 47055499.0, Time: 14.412675555559641\n",
      "Peak value: 47078000.0, Time: 14.420582626266714\n",
      "Peak value: 47066000.0, Time: 14.415588686872773\n",
      "Peak value: 47069000.0, Time: 14.416421010105097\n",
      "Peak value: 47072000.0, Time: 14.418085656569744\n",
      "Peak value: 47073999.0, Time: 14.419750303034391\n",
      "Peak value: 47102499.0, Time: 14.448881616165714\n",
      "Peak value: 47128000.0, Time: 14.450546262630361\n",
      "Peak value: 47137500.0, Time: 14.451794747478846\n",
      "Peak value: 47126001.0, Time: 14.453459393943493\n",
      "Peak value: 47121500.0, Time: 14.45720484848895\n",
      "Peak value: 47148001.0, Time: 14.458869494953596\n",
      "Peak value: 47122501.0, Time: 14.460117979802082\n",
      "Peak value: 47099500.0, Time: 14.4359806060647\n",
      "Peak value: 47109500.0, Time: 14.436812929297023\n",
      "Peak value: 47101999.0, Time: 14.44097454545864\n",
      "Peak value: 47092001.0, Time: 14.442223030307126\n",
      "Peak value: 47104999.0, Time: 14.44305535353945\n",
      "Peak value: 47116000.0, Time: 14.443887676771773\n",
      "Peak value: 47113000.0, Time: 14.44555232323642\n",
      "Peak value: 47117001.0, Time: 14.446384646468744\n",
      "Peak value: 46789999.0, Time: 14.300311919195966\n",
      "Peak value: 46397000.0, Time: 14.157984646468645\n",
      "Peak value: 46402499.0, Time: 14.158816969700968\n",
      "Peak value: 46412500.0, Time: 14.160065454549454\n",
      "Peak value: 46426501.0, Time: 14.1617301010141\n",
      "Peak value: 46414999.0, Time: 14.162562424246424\n",
      "Peak value: 46424500.0, Time: 14.163394747478748\n",
      "Peak value: 46434500.0, Time: 14.165475555559556\n",
      "Peak value: 46439499.0, Time: 14.16630787879188\n",
      "Peak value: 46435001.0, Time: 14.166724040408042\n",
      "Peak value: 46389001.0, Time: 14.153406868690865\n",
      "Peak value: 46347000.0, Time: 14.143002828286821\n",
      "Peak value: 46357501.0, Time: 14.144251313135307\n",
      "Peak value: 46360999.0, Time: 14.145915959599954\n",
      "Peak value: 46379501.0, Time: 14.153823030307027\n",
      "Peak value: 46379001.0, Time: 14.147996767680763\n",
      "Peak value: 46381000.0, Time: 14.14966141414541\n",
      "Peak value: 46373001.0, Time: 14.150493737377733\n",
      "Peak value: 46393500.0, Time: 14.152574545458542\n",
      "Peak value: 46427499.0, Time: 14.167140202024203\n",
      "Peak value: 46491501.0, Time: 14.182122020206027\n",
      "Peak value: 46489999.0, Time: 14.184202828286836\n",
      "Peak value: 46495499.0, Time: 14.185035151519159\n",
      "Peak value: 46485999.0, Time: 14.186699797983806\n",
      "Peak value: 46488501.0, Time: 14.190445252529262\n",
      "Peak value: 46520001.0, Time: 14.191277575761585\n",
      "Peak value: 46521500.0, Time: 14.192942222226232\n",
      "Peak value: 46473001.0, Time: 14.180873535357541\n",
      "Peak value: 46451999.0, Time: 14.169221010105012\n",
      "Peak value: 46445999.0, Time: 14.170469494953498\n",
      "Peak value: 46457501.0, Time: 14.18045737374138\n",
      "Peak value: 46473499.0, Time: 14.175047272731277\n",
      "Peak value: 46467999.0, Time: 14.1758795959636\n",
      "Peak value: 46465500.0, Time: 14.176711919195924\n",
      "Peak value: 46468500.0, Time: 14.177544242428247\n",
      "Peak value: 46472501.0, Time: 14.178376565660571\n",
      "Peak value: 46480499.0, Time: 14.179625050509056\n",
      "Peak value: 46515500.0, Time: 14.193358383842394\n",
      "Peak value: 46358499.0, Time: 14.14008969697369\n",
      "Peak value: 46251999.0, Time: 14.10263515151913\n",
      "Peak value: 46269000.0, Time: 14.103467474751454\n",
      "Peak value: 46260501.0, Time: 14.106796767680748\n",
      "Peak value: 46261499.0, Time: 14.10721292929691\n",
      "Peak value: 46282001.0, Time: 14.109293737377719\n",
      "Peak value: 46281500.0, Time: 14.110126060610042\n",
      "Peak value: 46276001.0, Time: 14.111374545458528\n",
      "Peak value: 46287500.0, Time: 14.113039191923175\n",
      "Peak value: 46303000.0, Time: 14.113455353539337\n",
      "Peak value: 46246500.0, Time: 14.10013818182216\n",
      "Peak value: 46234000.0, Time: 14.091398787882763\n",
      "Peak value: 46215500.0, Time: 14.092647272731249\n",
      "Peak value: 46242001.0, Time: 14.100554343438322\n",
      "Peak value: 46231500.0, Time: 14.094728080812057\n",
      "Peak value: 46239499.0, Time: 14.095976565660543\n",
      "Peak value: 46253000.0, Time: 14.098889696973675\n",
      "Peak value: 46254501.0, Time: 14.099722020205999\n",
      "Peak value: 46360001.0, Time: 14.14050585858985\n",
      "Peak value: 46316000.0, Time: 14.12843717172116\n",
      "Peak value: 46333499.0, Time: 14.129685656569645\n",
      "Peak value: 46323001.0, Time: 14.130517979801969\n",
      "Peak value: 46334000.0, Time: 14.132182626266616\n",
      "Peak value: 46349500.0, Time: 14.133431111115101\n",
      "Peak value: 46349500.0, Time: 14.133847272731263\n",
      "Peak value: 46347501.0, Time: 14.13551191919591\n",
      "Peak value: 46348001.0, Time: 14.136344242428233\n",
      "Peak value: 46357001.0, Time: 14.139673535357527\n",
      "Peak value: 46326001.0, Time: 14.127604848488836\n",
      "Peak value: 46306000.0, Time: 14.115952323236307\n",
      "Peak value: 46307001.0, Time: 14.117200808084792\n",
      "Peak value: 46309500.0, Time: 14.118033131317116\n",
      "Peak value: 46309500.0, Time: 14.119697777781763\n",
      "Peak value: 46329001.0, Time: 14.127188686872675\n",
      "Peak value: 46306000.0, Time: 14.12385939394338\n",
      "Peak value: 46332501.0, Time: 14.125107878791866\n",
      "Peak value: 46322000.0, Time: 14.126356363640351\n",
      "Peak value: 46526501.0, Time: 14.194190707074718\n",
      "Peak value: 46670999.0, Time: 14.262025050509084\n",
      "Peak value: 46682001.0, Time: 14.262857373741408\n",
      "Peak value: 46684000.0, Time: 14.264522020206055\n",
      "Peak value: 46689499.0, Time: 14.265354343438378\n",
      "Peak value: 46682501.0, Time: 14.267018989903026\n",
      "Peak value: 46703500.0, Time: 14.267435151519187\n",
      "Peak value: 46704001.0, Time: 14.269515959599996\n",
      "Peak value: 46714499.0, Time: 14.270764444448481\n",
      "Peak value: 46722501.0, Time: 14.271596767680805\n",
      "Peak value: 46727499.0, Time: 14.272429090913128\n",
      "Peak value: 46709500.0, Time: 14.273261414145452\n",
      "Peak value: 46716000.0, Time: 14.273677575761614\n",
      "Peak value: 46681500.0, Time: 14.260360404044437\n",
      "Peak value: 46667999.0, Time: 14.250372525256555\n",
      "Peak value: 46654501.0, Time: 14.251204848488879\n",
      "Peak value: 46666501.0, Time: 14.252453333337364\n",
      "Peak value: 46671500.0, Time: 14.2607765656606\n",
      "Peak value: 46673001.0, Time: 14.257447272731305\n",
      "Peak value: 46679501.0, Time: 14.258279595963629\n",
      "Peak value: 46682501.0, Time: 14.259111919195952\n",
      "Peak value: 46678000.0, Time: 14.259944242428276\n",
      "Peak value: 46794000.0, Time: 14.291156363640408\n",
      "Peak value: 46774500.0, Time: 14.291988686872731\n",
      "Peak value: 46771500.0, Time: 14.292821010105055\n",
      "Peak value: 46787000.0, Time: 14.293653333337378\n",
      "Peak value: 46785001.0, Time: 14.294901818185863\n",
      "Peak value: 46778500.0, Time: 14.295734141418187\n",
      "Peak value: 46787500.0, Time: 14.296982626266672\n",
      "Peak value: 46800500.0, Time: 14.297814949498996\n",
      "Peak value: 46795999.0, Time: 14.299895757579804\n",
      "Peak value: 46764999.0, Time: 14.287827070711113\n",
      "Peak value: 46743500.0, Time: 14.276590707074746\n",
      "Peak value: 46729999.0, Time: 14.278255353539393\n",
      "Peak value: 46745001.0, Time: 14.279087676771717\n",
      "Peak value: 46741000.0, Time: 14.27992000000404\n",
      "Peak value: 46763501.0, Time: 14.287410909094952\n",
      "Peak value: 46763000.0, Time: 14.282833131317172\n",
      "Peak value: 46764001.0, Time: 14.283665454549496\n",
      "Peak value: 46757501.0, Time: 14.285330101014143\n",
      "Peak value: 46769000.0, Time: 14.286162424246466\n",
      "Peak value: 46765500.0, Time: 14.281168484852525\n",
      "Peak value: 46648499.0, Time: 14.247043232327261\n",
      "Peak value: 46588000.0, Time: 14.20875636364038\n",
      "Peak value: 46576001.0, Time: 14.210004848488865\n",
      "Peak value: 46589499.0, Time: 14.21125333333735\n",
      "Peak value: 46584500.0, Time: 14.212085656569673\n",
      "Peak value: 46581000.0, Time: 14.207924040408056\n",
      "Peak value: 46580499.0, Time: 14.214582626266644\n",
      "Peak value: 46587000.0, Time: 14.215414949498967\n",
      "Peak value: 46592499.0, Time: 14.217079595963614\n",
      "Peak value: 46600500.0, Time: 14.218744242428262\n",
      "Peak value: 46535501.0, Time: 14.195439191923203\n",
      "Peak value: 46533499.0, Time: 14.196687676771688\n",
      "Peak value: 46529001.0, Time: 14.197936161620174\n",
      "Peak value: 46529001.0, Time: 14.198768484852497\n",
      "Peak value: 46551001.0, Time: 14.19960080808482\n",
      "Peak value: 46570999.0, Time: 14.207091717175732\n",
      "Peak value: 46554001.0, Time: 14.201265454549468\n",
      "Peak value: 46564499.0, Time: 14.203762424246438\n",
      "Peak value: 46567499.0, Time: 14.206259393943409\n",
      "Peak value: 46580499.0, Time: 14.220408888892909\n",
      "Peak value: 46614001.0, Time: 14.235390707074732\n",
      "Peak value: 46625000.0, Time: 14.236639191923217\n",
      "Peak value: 46625500.0, Time: 14.240384646468673\n",
      "Peak value: 46638501.0, Time: 14.241633131317158\n",
      "Peak value: 46647000.0, Time: 14.242881616165644\n",
      "Peak value: 46653500.0, Time: 14.24454626263029\n",
      "Peak value: 46648999.0, Time: 14.246210909094938\n",
      "Peak value: 46640500.0, Time: 14.241216969700996\n",
      "Peak value: 46623999.0, Time: 14.233726060610085\n",
      "Peak value: 46583499.0, Time: 14.224986666670688\n",
      "Peak value: 46604001.0, Time: 14.226651313135335\n",
      "Peak value: 46601001.0, Time: 14.228732121216144\n",
      "Peak value: 46615500.0, Time: 14.231229090913114\n",
      "Peak value: 49512000.0, Time: 15.36818262626704\n",
      "Peak value: 52801501.0, Time: 16.491818989903788\n",
      "Peak value: 52809497.0, Time: 16.493483636368435\n",
      "Peak value: 52801501.0, Time: 16.495980606065405\n",
      "Peak value: 52812500.0, Time: 16.49722909091389\n",
      "Peak value: 52812500.0, Time: 16.498893737378538\n",
      "Peak value: 52682001.0, Time: 16.450202828287612\n",
      "Peak value: 52689001.0, Time: 16.451035151519935\n",
      "Peak value: 52703003.0, Time: 16.45186747475226\n",
      "Peak value: 52706000.0, Time: 16.453115959600744\n",
      "Peak value: 52692499.0, Time: 16.45478060606539\n",
      "Peak value: 52706000.0, Time: 16.458109898994685\n",
      "Peak value: 52708002.0, Time: 16.45935838384317\n",
      "Peak value: 52706500.0, Time: 16.460606868691656\n",
      "Peak value: 52706500.0, Time: 16.46143919192398\n",
      "Peak value: 52684003.0, Time: 16.448122020206803\n",
      "Peak value: 52675000.0, Time: 16.436885656570436\n",
      "Peak value: 52684998.0, Time: 16.44063111111589\n",
      "Peak value: 52688000.0, Time: 16.448538181822965\n",
      "Peak value: 52674500.0, Time: 16.443128080812862\n",
      "Peak value: 52679999.0, Time: 16.444376565661347\n",
      "Peak value: 52691498.0, Time: 16.445625050509832\n",
      "Peak value: 52682001.0, Time: 16.44728969697448\n",
      "Peak value: 52783002.0, Time: 16.488489696974494\n",
      "Peak value: 52725500.0, Time: 16.476421010105803\n",
      "Peak value: 52738000.0, Time: 16.477253333338126\n",
      "Peak value: 52746503.0, Time: 16.47850181818661\n",
      "Peak value: 52757501.0, Time: 16.48016646465126\n",
      "Peak value: 52759497.0, Time: 16.481414949499744\n",
      "Peak value: 52753003.0, Time: 16.481831111115905\n",
      "Peak value: 52771503.0, Time: 16.484328080812876\n",
      "Peak value: 52774500.0, Time: 16.48557656566136\n",
      "Peak value: 52783502.0, Time: 16.486408888893685\n",
      "Peak value: 52779999.0, Time: 16.48765737374217\n",
      "Peak value: 52734998.0, Time: 16.47558868687348\n",
      "Peak value: 52722498.0, Time: 16.464768484853273\n",
      "Peak value: 52735999.0, Time: 16.465600808085597\n",
      "Peak value: 52715997.0, Time: 16.466849292934082\n",
      "Peak value: 52719000.0, Time: 16.475172525257317\n",
      "Peak value: 52731000.0, Time: 16.469762424247214\n",
      "Peak value: 52735999.0, Time: 16.474340202024994\n",
      "Peak value: 52675000.0, Time: 16.43563717172195\n",
      "Peak value: 52201001.0, Time: 16.29164525252998\n",
      "Peak value: 52189001.0, Time: 16.292893737378467\n",
      "Peak value: 52198999.0, Time: 16.294142222226952\n",
      "Peak value: 52202002.0, Time: 16.29622303030776\n",
      "Peak value: 52208502.0, Time: 16.297055353540085\n",
      "Peak value: 52218500.0, Time: 16.299136161620893\n",
      "Peak value: 52214502.0, Time: 16.30080080808554\n",
      "Peak value: 52229498.0, Time: 16.301216969701702\n",
      "Peak value: 52127502.0, Time: 16.27707959596432\n",
      "Peak value: 52132001.0, Time: 16.278744242428967\n",
      "Peak value: 52151001.0, Time: 16.280408888893614\n",
      "Peak value: 52169000.0, Time: 16.288315959600688\n",
      "Peak value: 52149500.0, Time: 16.283322020206747\n",
      "Peak value: 52181000.0, Time: 16.285402828287555\n",
      "Peak value: 52165503.0, Time: 16.287483636368364\n",
      "Peak value: 52221503.0, Time: 16.301633131317864\n",
      "Peak value: 52296997.0, Time: 16.31703111111585\n",
      "Peak value: 52304498.0, Time: 16.318695757580496\n",
      "Peak value: 52310498.0, Time: 16.321192727277467\n",
      "Peak value: 52328497.0, Time: 16.3241058585906\n",
      "Peak value: 52325500.0, Time: 16.324938181822922\n",
      "Peak value: 52326001.0, Time: 16.325770505055246\n",
      "Peak value: 52314502.0, Time: 16.32202505050979\n",
      "Peak value: 52278998.0, Time: 16.315366464651202\n",
      "Peak value: 52260999.0, Time: 16.307043232327967\n",
      "Peak value: 52284998.0, Time: 16.31495030303504\n",
      "Peak value: 52272498.0, Time: 16.309124040408776\n",
      "Peak value: 52284497.0, Time: 16.31037252525726\n",
      "Peak value: 52269501.0, Time: 16.311204848489584\n",
      "Peak value: 52276501.0, Time: 16.31245333333807\n",
      "Peak value: 52290503.0, Time: 16.314117979802717\n",
      "Peak value: 52332001.0, Time: 16.327851313136055\n",
      "Peak value: 52026001.0, Time: 16.240873535358247\n",
      "Peak value: 52023499.0, Time: 16.24170585859057\n",
      "Peak value: 52023999.0, Time: 16.242954343439056\n",
      "Peak value: 52027502.0, Time: 16.24378666667138\n",
      "Peak value: 52047498.0, Time: 16.245035151519865\n",
      "Peak value: 52037500.0, Time: 16.247115959600674\n",
      "Peak value: 52037500.0, Time: 16.247948282832997\n",
      "Peak value: 51994000.0, Time: 16.23463111111582\n",
      "Peak value: 51983502.0, Time: 16.223810909095615\n",
      "Peak value: 51977002.0, Time: 16.225475555560262\n",
      "Peak value: 51988000.0, Time: 16.226724040408747\n",
      "Peak value: 51998999.0, Time: 16.235047272731983\n",
      "Peak value: 51996503.0, Time: 16.23005333333804\n",
      "Peak value: 51990503.0, Time: 16.23171797980269\n",
      "Peak value: 51989001.0, Time: 16.232550303035012\n",
      "Peak value: 51984998.0, Time: 16.233382626267336\n",
      "Peak value: 51987000.0, Time: 16.23421494949966\n",
      "Peak value: 52137500.0, Time: 16.27499878788351\n",
      "Peak value: 52096997.0, Time: 16.26293010101482\n",
      "Peak value: 52101501.0, Time: 16.263762424247144\n",
      "Peak value: 52143500.0, Time: 16.26501090909563\n",
      "Peak value: 52112000.0, Time: 16.2675078787926\n",
      "Peak value: 52108502.0, Time: 16.268340202024923\n",
      "Peak value: 52121002.0, Time: 16.26958868687341\n",
      "Peak value: 52120001.0, Time: 16.273750303035026\n",
      "Peak value: 52096503.0, Time: 16.262097777782497\n",
      "Peak value: 52065503.0, Time: 16.250445252529968\n",
      "Peak value: 52064001.0, Time: 16.251693737378453\n",
      "Peak value: 52065503.0, Time: 16.252526060610776\n",
      "Peak value: 52077002.0, Time: 16.2533583838431\n",
      "Peak value: 52089001.0, Time: 16.261681616166335\n",
      "Peak value: 52077502.0, Time: 16.257520000004718\n",
      "Peak value: 52114502.0, Time: 16.260016969701688\n",
      "Peak value: 52320502.0, Time: 16.328267474752217\n",
      "Peak value: 52550500.0, Time: 16.396934141418907\n",
      "Peak value: 52542999.0, Time: 16.39776646465123\n",
      "Peak value: 52552502.0, Time: 16.399014949499715\n",
      "Peak value: 52569000.0, Time: 16.4002634343482\n",
      "Peak value: 52553998.0, Time: 16.401511919196686\n",
      "Peak value: 52561499.0, Time: 16.40276040404517\n",
      "Peak value: 52573999.0, Time: 16.40733818182295\n",
      "Peak value: 52497998.0, Time: 16.38361696970173\n",
      "Peak value: 52506500.0, Time: 16.385281616166377\n",
      "Peak value: 52531500.0, Time: 16.39526949495426\n",
      "Peak value: 52531500.0, Time: 16.39069171717648\n",
      "Peak value: 52552502.0, Time: 16.39277252525729\n",
      "Peak value: 52538000.0, Time: 16.394437171721936\n",
      "Peak value: 52572998.0, Time: 16.408586666671436\n",
      "Peak value: 52652002.0, Time: 16.424816969701745\n",
      "Peak value: 52636499.0, Time: 16.426897777782553\n",
      "Peak value: 52622998.0, Time: 16.427730101014877\n",
      "Peak value: 52641998.0, Time: 16.4285624242472\n",
      "Peak value: 52637500.0, Time: 16.43064323232801\n",
      "Peak value: 52668500.0, Time: 16.431891717176494\n",
      "Peak value: 52663501.0, Time: 16.432724040408818\n",
      "Peak value: 52652502.0, Time: 16.43355636364114\n",
      "Peak value: 52659497.0, Time: 16.434388686873465\n",
      "Peak value: 52628003.0, Time: 16.422320000004774\n",
      "Peak value: 52581500.0, Time: 16.411083636368407\n",
      "Peak value: 52592499.0, Time: 16.412332121216892\n",
      "Peak value: 52591498.0, Time: 16.413164444449215\n",
      "Peak value: 52596997.0, Time: 16.41399676768154\n",
      "Peak value: 52626001.0, Time: 16.421903838388612\n",
      "Peak value: 52606500.0, Time: 16.41649373737851\n",
      "Peak value: 52608502.0, Time: 16.417326060610833\n",
      "Peak value: 52609003.0, Time: 16.418158383843156\n",
      "Peak value: 52621997.0, Time: 16.42107151515629\n",
      "Peak value: 52375000.0, Time: 16.3436654545502\n",
      "Peak value: 52373999.0, Time: 16.346162424247172\n",
      "Peak value: 52365997.0, Time: 16.347410909095657\n",
      "Peak value: 52391498.0, Time: 16.349491717176466\n",
      "Peak value: 52398999.0, Time: 16.35032404040879\n",
      "Peak value: 52402002.0, Time: 16.351156363641113\n",
      "Peak value: 52403497.0, Time: 16.3524048484896\n",
      "Peak value: 52411499.0, Time: 16.354069494954246\n",
      "Peak value: 52414001.0, Time: 16.354485656570407\n",
      "Peak value: 52344501.0, Time: 16.329515959600702\n",
      "Peak value: 52331000.0, Time: 16.330764444449187\n",
      "Peak value: 52331000.0, Time: 16.332429090913834\n",
      "Peak value: 52340002.0, Time: 16.333261414146158\n",
      "Peak value: 52363000.0, Time: 16.341584646469393\n",
      "Peak value: 52344000.0, Time: 16.335758383843128\n",
      "Peak value: 52353998.0, Time: 16.34075232323707\n",
      "Peak value: 52461499.0, Time: 16.373629090913848\n",
      "Peak value: 52478003.0, Time: 16.37446141414617\n",
      "Peak value: 52476501.0, Time: 16.375293737378495\n",
      "Peak value: 52478003.0, Time: 16.376958383843142\n",
      "Peak value: 52478497.0, Time: 16.377790707075466\n",
      "Peak value: 52487500.0, Time: 16.37862303030779\n",
      "Peak value: 52478998.0, Time: 16.379455353540113\n",
      "Peak value: 52497498.0, Time: 16.380703838388598\n",
      "Peak value: 52443500.0, Time: 16.368635151519907\n",
      "Peak value: 52431500.0, Time: 16.35739878788354\n",
      "Peak value: 52419000.0, Time: 16.35989575758051\n",
      "Peak value: 52431000.0, Time: 16.361560404045157\n",
      "Peak value: 52436499.0, Time: 16.36239272727748\n",
      "Peak value: 52434003.0, Time: 16.364057373742128\n",
      "Peak value: 52432001.0, Time: 16.36488969697445\n",
      "Peak value: 52453998.0, Time: 16.3665543434391\n",
      "Peak value: 52682001.0, Time: 16.43522101010579\n",
      "Peak value: 50256500.0, Time: 15.650340202024712\n",
      "Peak value: 50254999.0, Time: 15.651172525257035\n",
      "Peak value: 50256500.0, Time: 15.652004848489359\n",
      "Peak value: 50270499.0, Time: 15.653253333337844\n",
      "Peak value: 50240500.0, Time: 15.655750303034814\n",
      "Peak value: 50240500.0, Time: 15.658663434347947\n",
      "Peak value: 50240500.0, Time: 15.654917979802491\n",
      "Peak value: 50244501.0, Time: 15.63577454545905\n",
      "Peak value: 50245001.0, Time: 15.637023030307535\n",
      "Peak value: 50242999.0, Time: 15.640768484852991\n",
      "Peak value: 50226501.0, Time: 15.643681616166123\n",
      "Peak value: 50229001.0, Time: 15.644513939398447\n",
      "Peak value: 50238501.0, Time: 15.64534626263077\n",
      "Peak value: 50235999.0, Time: 15.647010909095417\n",
      "Peak value: 50235001.0, Time: 15.661160404044917\n",
      "Peak value: 50250000.0, Time: 15.675726060610579\n",
      "Peak value: 50241501.0, Time: 15.676974545459064\n",
      "Peak value: 50245999.0, Time: 15.67822303030755\n",
      "Peak value: 50254501.0, Time: 15.679055353539873\n",
      "Peak value: 50253000.0, Time: 15.679887676772196\n",
      "Peak value: 50276001.0, Time: 15.682384646469167\n",
      "Peak value: 50273999.0, Time: 15.68321696970149\n",
      "Peak value: 50285999.0, Time: 15.684881616166138\n",
      "Peak value: 50278500.0, Time: 15.686130101014623\n",
      "Peak value: 50235501.0, Time: 15.674893737378255\n",
      "Peak value: 50244501.0, Time: 15.662825050509564\n",
      "Peak value: 50247501.0, Time: 15.664489696974211\n",
      "Peak value: 50253500.0, Time: 15.665738181822697\n",
      "Peak value: 50252499.0, Time: 15.666986666671182\n",
      "Peak value: 50256500.0, Time: 15.667818989903505\n",
      "Peak value: 50260999.0, Time: 15.669483636368152\n",
      "Peak value: 50261499.0, Time: 15.668235151519667\n",
      "Peak value: 50231500.0, Time: 15.634109898994403\n",
      "Peak value: 50139999.0, Time: 15.597487676772168\n",
      "Peak value: 50157001.0, Time: 15.598320000004492\n",
      "Peak value: 50154501.0, Time: 15.599568484852977\n",
      "Peak value: 50161499.0, Time: 15.6004008080853\n",
      "Peak value: 50177499.0, Time: 15.601233131317624\n",
      "Peak value: 50158499.0, Time: 15.60248161616611\n",
      "Peak value: 50164499.0, Time: 15.607059393943889\n",
      "Peak value: 50159000.0, Time: 15.60747555556005\n",
      "Peak value: 50108499.0, Time: 15.58375434343883\n",
      "Peak value: 50123999.0, Time: 15.585418989903477\n",
      "Peak value: 50125000.0, Time: 15.586667474751962\n",
      "Peak value: 50148999.0, Time: 15.594574545459036\n",
      "Peak value: 50142001.0, Time: 15.59082909091358\n",
      "Peak value: 50139999.0, Time: 15.592077575762065\n",
      "Peak value: 50146500.0, Time: 15.592909898994389\n",
      "Peak value: 50234000.0, Time: 15.634526060610565\n",
      "Peak value: 50198999.0, Time: 15.623705858590359\n",
      "Peak value: 50229001.0, Time: 15.624954343438844\n",
      "Peak value: 50216501.0, Time: 15.625786666671168\n",
      "Peak value: 50213501.0, Time: 15.626618989903491\n",
      "Peak value: 50221500.0, Time: 15.627451313135815\n",
      "Peak value: 50225000.0, Time: 15.627867474751977\n",
      "Peak value: 50211499.0, Time: 15.629532121216624\n",
      "Peak value: 50209000.0, Time: 15.630364444448947\n",
      "Peak value: 50229999.0, Time: 15.631612929297432\n",
      "Peak value: 50235501.0, Time: 15.632445252529756\n",
      "Peak value: 50257999.0, Time: 15.633693737378241\n",
      "Peak value: 50194000.0, Time: 15.62162505050955\n",
      "Peak value: 50172501.0, Time: 15.610388686873183\n",
      "Peak value: 50176999.0, Time: 15.611221010105506\n",
      "Peak value: 50192999.0, Time: 15.621208888893388\n",
      "Peak value: 50195499.0, Time: 15.615798787883286\n",
      "Peak value: 50178000.0, Time: 15.617463434347933\n",
      "Peak value: 50200500.0, Time: 15.619960404044903\n",
      "Peak value: 50553000.0, Time: 15.757709898994445\n",
      "Peak value: 50544000.0, Time: 15.759374545459092\n",
      "Peak value: 50536499.0, Time: 15.760206868691416\n",
      "Peak value: 50542999.0, Time: 15.76103919192374\n",
      "Peak value: 50542999.0, Time: 15.763120000004548\n",
      "Peak value: 50551001.0, Time: 15.763952323236872\n",
      "Peak value: 50539001.0, Time: 15.764784646469195\n",
      "Peak value: 50558499.0, Time: 15.765616969701519\n",
      "Peak value: 50573999.0, Time: 15.766449292933842\n",
      "Peak value: 50567499.0, Time: 15.767697777782328\n",
      "Peak value: 50482999.0, Time: 15.743144242428784\n",
      "Peak value: 50497000.0, Time: 15.744392727277269\n",
      "Peak value: 50495001.0, Time: 15.745225050509593\n",
      "Peak value: 50510001.0, Time: 15.746057373741916\n",
      "Peak value: 50497501.0, Time: 15.747305858590401\n",
      "Peak value: 50530499.0, Time: 15.754796767681313\n",
      "Peak value: 50516000.0, Time: 15.74938666667121\n",
      "Peak value: 50509000.0, Time: 15.751467474752019\n",
      "Peak value: 50520499.0, Time: 15.752715959600504\n",
      "Peak value: 50526001.0, Time: 15.75396444444899\n",
      "Peak value: 50630499.0, Time: 15.78267959596415\n",
      "Peak value: 50638501.0, Time: 15.783928080812636\n",
      "Peak value: 50639999.0, Time: 15.786425050509607\n",
      "Peak value: 50634000.0, Time: 15.787673535358092\n",
      "Peak value: 50664001.0, Time: 15.791418989903548\n",
      "Peak value: 50666501.0, Time: 15.792667474752033\n",
      "Peak value: 50666501.0, Time: 15.793915959600518\n",
      "Peak value: 50609500.0, Time: 15.781847272731827\n",
      "Peak value: 50597000.0, Time: 15.773940202024754\n",
      "Peak value: 50609500.0, Time: 15.774772525257077\n",
      "Peak value: 50593500.0, Time: 15.776021010105563\n",
      "Peak value: 50594000.0, Time: 15.777269494954048\n",
      "Peak value: 50616501.0, Time: 15.779350303034857\n",
      "Peak value: 50609500.0, Time: 15.780598787883342\n",
      "Peak value: 50482501.0, Time: 15.741479595964137\n",
      "Peak value: 50322000.0, Time: 15.703192727277255\n",
      "Peak value: 50331000.0, Time: 15.70693818182271\n",
      "Peak value: 50343500.0, Time: 15.709851313135843\n",
      "Peak value: 50354501.0, Time: 15.710683636368167\n",
      "Peak value: 50373499.0, Time: 15.712348282832814\n",
      "Peak value: 50372000.0, Time: 15.713596767681299\n",
      "Peak value: 50350500.0, Time: 15.71401292929746\n",
      "Peak value: 50274500.0, Time: 15.691540202024726\n",
      "Peak value: 50275500.0, Time: 15.69237252525705\n",
      "Peak value: 50301999.0, Time: 15.693621010105534\n",
      "Peak value: 50310999.0, Time: 15.701111919196446\n",
      "Peak value: 50288000.0, Time: 15.695701818186343\n",
      "Peak value: 50304501.0, Time: 15.699031111115637\n",
      "Peak value: 50300500.0, Time: 15.700279595964123\n",
      "Peak value: 50359500.0, Time: 15.714429090913622\n",
      "Peak value: 50400000.0, Time: 15.729410909095446\n",
      "Peak value: 50425000.0, Time: 15.731491717176254\n",
      "Peak value: 50434500.0, Time: 15.733156363640902\n",
      "Peak value: 50439499.0, Time: 15.734404848489387\n",
      "Peak value: 50424500.0, Time: 15.734821010105549\n",
      "Peak value: 50439999.0, Time: 15.736485656570196\n",
      "Peak value: 50441000.0, Time: 15.740231111115651\n",
      "Peak value: 50444000.0, Time: 15.73523717172171\n",
      "Peak value: 50407999.0, Time: 15.72816242424696\n",
      "Peak value: 50373999.0, Time: 15.716509898994431\n",
      "Peak value: 50386499.0, Time: 15.718174545459078\n",
      "Peak value: 50392499.0, Time: 15.719423030307563\n",
      "Peak value: 50385999.0, Time: 15.720255353539887\n",
      "Peak value: 50398001.0, Time: 15.724000808085343\n",
      "Peak value: 50396500.0, Time: 15.725249292933828\n",
      "Peak value: 50388501.0, Time: 15.727330101014637\n",
      "Peak value: 50657999.0, Time: 15.79433212121668\n",
      "Peak value: 49706000.0, Time: 15.43684929293373\n",
      "Peak value: 49702499.0, Time: 15.440594747479185\n",
      "Peak value: 49705499.0, Time: 15.442259393943832\n",
      "Peak value: 49713501.0, Time: 15.443091717176156\n",
      "Peak value: 49697000.0, Time: 15.445172525256964\n",
      "Peak value: 49722000.0, Time: 15.446837171721612\n",
      "Peak value: 49717999.0, Time: 15.447253333337773\n",
      "Peak value: 49675000.0, Time: 15.424780606065038\n",
      "Peak value: 49700000.0, Time: 15.434352323236759\n",
      "Peak value: 49674500.0, Time: 15.428526060610494\n",
      "Peak value: 49675000.0, Time: 15.430190707075141\n",
      "Peak value: 49703500.0, Time: 15.431855353539788\n",
      "Peak value: 49695499.0, Time: 15.432687676772112\n",
      "Peak value: 49676501.0, Time: 15.428109898994332\n",
      "Peak value: 49714999.0, Time: 15.447669494953935\n",
      "Peak value: 49717499.0, Time: 15.462651313135758\n",
      "Peak value: 49710999.0, Time: 15.463899797984244\n",
      "Peak value: 49739999.0, Time: 15.464732121216567\n",
      "Peak value: 49730499.0, Time: 15.465980606065052\n",
      "Peak value: 49734500.0, Time: 15.467229090913538\n",
      "Peak value: 49742001.0, Time: 15.4676452525297\n",
      "Peak value: 49745001.0, Time: 15.468893737378185\n",
      "Peak value: 49745499.0, Time: 15.473471515155964\n",
      "Peak value: 49725000.0, Time: 15.461402828287273\n",
      "Peak value: 49717499.0, Time: 15.44891797980242\n",
      "Peak value: 49735501.0, Time: 15.45099878788323\n",
      "Peak value: 49726501.0, Time: 15.451831111115553\n",
      "Peak value: 49712000.0, Time: 15.4534957575802\n",
      "Peak value: 49710001.0, Time: 15.460986666671111\n",
      "Peak value: 49712000.0, Time: 15.458073535357979\n",
      "Peak value: 49717001.0, Time: 15.458905858590303\n",
      "Peak value: 49719501.0, Time: 15.459738181822626\n",
      "Peak value: 49739499.0, Time: 15.473887676772126\n",
      "Peak value: 49552499.0, Time: 15.383580606065024\n",
      "Peak value: 49566000.0, Time: 15.386077575761995\n",
      "Peak value: 49545001.0, Time: 15.38732606061048\n",
      "Peak value: 49581500.0, Time: 15.391487676772098\n",
      "Peak value: 49557999.0, Time: 15.393568484852906\n",
      "Peak value: 49520499.0, Time: 15.369847272731686\n",
      "Peak value: 49523499.0, Time: 15.373592727277142\n",
      "Peak value: 49537000.0, Time: 15.381083636368054\n",
      "Peak value: 49532501.0, Time: 15.37567353535795\n",
      "Peak value: 49526001.0, Time: 15.377338181822598\n",
      "Peak value: 49538501.0, Time: 15.379002828287245\n",
      "Peak value: 49647501.0, Time: 15.421035151519582\n",
      "Peak value: 49630499.0, Time: 15.409798787883215\n",
      "Peak value: 49623499.0, Time: 15.410631111115539\n",
      "Peak value: 49625500.0, Time: 15.413128080812509\n",
      "Peak value: 49614001.0, Time: 15.40855030303473\n",
      "Peak value: 49635501.0, Time: 15.41562505050948\n",
      "Peak value: 49634000.0, Time: 15.417289696974127\n",
      "Peak value: 49639499.0, Time: 15.41812202020645\n",
      "Peak value: 49648999.0, Time: 15.420202828287259\n",
      "Peak value: 49617499.0, Time: 15.407301818186244\n",
      "Peak value: 49565500.0, Time: 15.3968977777822\n",
      "Peak value: 49569000.0, Time: 15.398146262630686\n",
      "Peak value: 49599500.0, Time: 15.399810909095333\n",
      "Peak value: 49595001.0, Time: 15.407717979802406\n",
      "Peak value: 49595001.0, Time: 15.403140202024627\n",
      "Peak value: 49613000.0, Time: 15.406885656570083\n",
      "Peak value: 49764001.0, Time: 15.474303838388288\n",
      "Peak value: 49993500.0, Time: 15.542554343438816\n",
      "Peak value: 49995001.0, Time: 15.544218989903463\n",
      "Peak value: 50001501.0, Time: 15.54588363636811\n",
      "Peak value: 50009500.0, Time: 15.546715959600434\n",
      "Peak value: 49995999.0, Time: 15.547548282832757\n",
      "Peak value: 50014499.0, Time: 15.548796767681242\n",
      "Peak value: 50004999.0, Time: 15.550877575762051\n",
      "Peak value: 50029001.0, Time: 15.552542222226698\n",
      "Peak value: 50031500.0, Time: 15.553374545459022\n",
      "Peak value: 50019501.0, Time: 15.54838060606508\n",
      "Peak value: 49992999.0, Time: 15.540889696974169\n",
      "Peak value: 49967001.0, Time: 15.530069494953963\n",
      "Peak value: 49979501.0, Time: 15.53173414141861\n",
      "Peak value: 49981500.0, Time: 15.532982626267096\n",
      "Peak value: 49994000.0, Time: 15.54130585859033\n",
      "Peak value: 49988000.0, Time: 15.535895757580228\n",
      "Peak value: 49998499.0, Time: 15.540473535358007\n",
      "Peak value: 50088000.0, Time: 15.569188686873169\n",
      "Peak value: 50114001.0, Time: 15.57418262626711\n",
      "Peak value: 50100000.0, Time: 15.574598787883271\n",
      "Peak value: 50099500.0, Time: 15.576263434347918\n",
      "Peak value: 50098999.0, Time: 15.577511919196404\n",
      "Peak value: 50100500.0, Time: 15.578760404044889\n",
      "Peak value: 50116000.0, Time: 15.580425050509536\n",
      "Peak value: 50073499.0, Time: 15.568356363640845\n",
      "Peak value: 50063501.0, Time: 15.557952323236801\n",
      "Peak value: 50057501.0, Time: 15.559200808085286\n",
      "Peak value: 50049500.0, Time: 15.56003313131761\n",
      "Peak value: 50093500.0, Time: 15.567940202024683\n",
      "Peak value: 50045001.0, Time: 15.56253010101458\n",
      "Peak value: 50079001.0, Time: 15.564194747479227\n",
      "Peak value: 50087000.0, Time: 15.565859393943875\n",
      "Peak value: 50088501.0, Time: 15.56710787879236\n",
      "Peak value: 49847000.0, Time: 15.49136646465092\n",
      "Peak value: 49842999.0, Time: 15.492198787883243\n",
      "Peak value: 49842001.0, Time: 15.49386343434789\n",
      "Peak value: 49857999.0, Time: 15.495111919196376\n",
      "Peak value: 49857999.0, Time: 15.495944242428699\n",
      "Peak value: 49853500.0, Time: 15.496776565661023\n",
      "Peak value: 49876999.0, Time: 15.499689696974155\n",
      "Peak value: 49860501.0, Time: 15.500522020206478\n",
      "Peak value: 49772501.0, Time: 15.476800808085258\n",
      "Peak value: 49760501.0, Time: 15.478881616166067\n",
      "Peak value: 49807999.0, Time: 15.487621010105464\n",
      "Peak value: 49777499.0, Time: 15.482210909095361\n",
      "Peak value: 49791000.0, Time: 15.483043232327685\n",
      "Peak value: 49793500.0, Time: 15.485540202024655\n",
      "Peak value: 49783499.0, Time: 15.48678868687314\n",
      "Peak value: 49882501.0, Time: 15.50093818182264\n",
      "Peak value: 49931500.0, Time: 15.515920000004463\n",
      "Peak value: 49929001.0, Time: 15.516752323236787\n",
      "Peak value: 49935501.0, Time: 15.518833131317596\n",
      "Peak value: 49938000.0, Time: 15.520913939398405\n",
      "Peak value: 49946500.0, Time: 15.523827070711537\n",
      "Peak value: 49947000.0, Time: 15.525075555560022\n",
      "Peak value: 49947501.0, Time: 15.525907878792346\n",
      "Peak value: 49957001.0, Time: 15.52674020202467\n",
      "Peak value: 49926001.0, Time: 15.514671515155978\n",
      "Peak value: 49876001.0, Time: 15.502602828287287\n",
      "Peak value: 49917999.0, Time: 15.507596767681228\n",
      "Peak value: 49923499.0, Time: 15.509261414145875\n",
      "Peak value: 49926501.0, Time: 15.510926060610522\n",
      "Peak value: 49918500.0, Time: 15.512174545459008\n",
      "Peak value: 49919501.0, Time: 15.513006868691331\n",
      "Peak value: 51971503.0, Time: 16.221730101014806\n",
      "Peak value: 51525500.0, Time: 16.077322020206676\n",
      "Peak value: 51533002.0, Time: 16.07857050505516\n",
      "Peak value: 51535498.0, Time: 16.079402828287485\n",
      "Peak value: 51540002.0, Time: 16.08065131313597\n",
      "Peak value: 51525500.0, Time: 16.082315959600617\n",
      "Peak value: 51545001.0, Time: 16.083980606065264\n",
      "Peak value: 51554498.0, Time: 16.084812929297588\n",
      "Peak value: 51546503.0, Time: 16.086061414146073\n",
      "Peak value: 51551501.0, Time: 16.086893737378396\n",
      "Peak value: 51546997.0, Time: 16.08772606061072\n",
      "Peak value: 51511499.0, Time: 16.074408888893544\n",
      "Peak value: 51452002.0, Time: 16.063588686873338\n",
      "Peak value: 51469000.0, Time: 16.06442101010566\n",
      "Peak value: 51467999.0, Time: 16.065669494954147\n",
      "Peak value: 51516998.0, Time: 16.074825050509705\n",
      "Peak value: 51495001.0, Time: 16.070247272731926\n",
      "Peak value: 51506000.0, Time: 16.073992727277382\n",
      "Peak value: 51602502.0, Time: 16.103124040408705\n",
      "Peak value: 51641998.0, Time: 16.107701818186484\n",
      "Peak value: 51636499.0, Time: 16.108117979802646\n",
      "Peak value: 51634998.0, Time: 16.10936646465113\n",
      "Peak value: 51658002.0, Time: 16.11103111111578\n",
      "Peak value: 51647998.0, Time: 16.112695757580425\n",
      "Peak value: 51651001.0, Time: 16.11394424242891\n",
      "Peak value: 51595001.0, Time: 16.101043232327896\n",
      "Peak value: 51565997.0, Time: 16.091055353540014\n",
      "Peak value: 51569501.0, Time: 16.091887676772338\n",
      "Peak value: 51572998.0, Time: 16.09272000000466\n",
      "Peak value: 51590503.0, Time: 16.101459393944058\n",
      "Peak value: 51582001.0, Time: 16.095633131317793\n",
      "Peak value: 51587500.0, Time: 16.09688161616628\n",
      "Peak value: 51590002.0, Time: 16.097713939398602\n",
      "Peak value: 51615002.0, Time: 16.09937858586325\n",
      "Peak value: 51654498.0, Time: 16.114360404045073\n",
      "Peak value: 51352002.0, Time: 16.02405333333797\n",
      "Peak value: 51350500.0, Time: 16.024885656570294\n",
      "Peak value: 51342499.0, Time: 16.025717979802618\n",
      "Peak value: 51350000.0, Time: 16.02655030303494\n",
      "Peak value: 51360999.0, Time: 16.027798787883427\n",
      "Peak value: 51357501.0, Time: 16.029047272731912\n",
      "Peak value: 51371002.0, Time: 16.030295757580397\n",
      "Peak value: 51372498.0, Time: 16.031544242428883\n",
      "Peak value: 51373499.0, Time: 16.03320888889353\n",
      "Peak value: 51367499.0, Time: 16.034457373742015\n",
      "Peak value: 51291998.0, Time: 16.00990383838847\n",
      "Peak value: 51289001.0, Time: 16.011152323236956\n",
      "Peak value: 51312500.0, Time: 16.01198464646928\n",
      "Peak value: 51314502.0, Time: 16.013649292933927\n",
      "Peak value: 51340503.0, Time: 16.021556363641\n",
      "Peak value: 51334003.0, Time: 16.01656242424706\n",
      "Peak value: 51325500.0, Time: 16.017810909095545\n",
      "Peak value: 51331000.0, Time: 16.01905939394403\n",
      "Peak value: 51342999.0, Time: 16.019891717176353\n",
      "Peak value: 51446997.0, Time: 16.06150787879253\n",
      "Peak value: 51417999.0, Time: 16.04985535354\n",
      "Peak value: 51423499.0, Time: 16.051103838388485\n",
      "Peak value: 51417999.0, Time: 16.052768484853132\n",
      "Peak value: 51423999.0, Time: 16.05443313131778\n",
      "Peak value: 51449500.0, Time: 16.058594747479397\n",
      "Peak value: 51447998.0, Time: 16.05942707071172\n",
      "Peak value: 51453998.0, Time: 16.060259393944044\n",
      "Peak value: 51427002.0, Time: 16.048606868691515\n",
      "Peak value: 51382501.0, Time: 16.036538181822824\n",
      "Peak value: 51392499.0, Time: 16.048190707075353\n",
      "Peak value: 51396997.0, Time: 16.043196767681412\n",
      "Peak value: 51394501.0, Time: 16.044445252529897\n",
      "Peak value: 51408002.0, Time: 16.045693737378382\n",
      "Peak value: 51414001.0, Time: 16.046942222226868\n",
      "Peak value: 51658502.0, Time: 16.114776565661234\n",
      "Peak value: 51843500.0, Time: 16.183443232327924\n",
      "Peak value: 51862500.0, Time: 16.185524040408733\n",
      "Peak value: 51853003.0, Time: 16.186356363641057\n",
      "Peak value: 51850000.0, Time: 16.188021010105704\n",
      "Peak value: 51865503.0, Time: 16.190934141418836\n",
      "Peak value: 51845502.0, Time: 16.19176646465116\n",
      "Peak value: 51862000.0, Time: 16.192598787883483\n",
      "Peak value: 51852502.0, Time: 16.19426343434813\n",
      "Peak value: 51832501.0, Time: 16.181362424247116\n",
      "Peak value: 51806000.0, Time: 16.170126060610748\n",
      "Peak value: 51800500.0, Time: 16.17303919192388\n",
      "Peak value: 51817499.0, Time: 16.174287676772366\n",
      "Peak value: 51824500.0, Time: 16.17512000000469\n",
      "Peak value: 51832501.0, Time: 16.176368484853175\n",
      "Peak value: 51825000.0, Time: 16.177200808085498\n",
      "Peak value: 51840002.0, Time: 16.178449292933983\n",
      "Peak value: 51827002.0, Time: 16.18011393939863\n",
      "Peak value: 51827002.0, Time: 16.180946262630954\n",
      "Peak value: 51903497.0, Time: 16.209661414146115\n",
      "Peak value: 51929498.0, Time: 16.211326060610762\n",
      "Peak value: 51925500.0, Time: 16.212158383843086\n",
      "Peak value: 51929999.0, Time: 16.21299070707541\n",
      "Peak value: 51940503.0, Time: 16.214239191923895\n",
      "Peak value: 51962000.0, Time: 16.215071515156218\n",
      "Peak value: 51963501.0, Time: 16.219233131317836\n",
      "Peak value: 51966998.0, Time: 16.220897777782483\n",
      "Peak value: 51937000.0, Time: 16.20882909091379\n",
      "Peak value: 51877502.0, Time: 16.197176565661263\n",
      "Peak value: 51888501.0, Time: 16.198008888893586\n",
      "Peak value: 51886499.0, Time: 16.19925737374207\n",
      "Peak value: 51876001.0, Time: 16.20092202020672\n",
      "Peak value: 51909998.0, Time: 16.20841292929763\n",
      "Peak value: 51876501.0, Time: 16.202586666671365\n",
      "Peak value: 51909497.0, Time: 16.207580606065306\n",
      "Peak value: 51726501.0, Time: 16.129758383843058\n",
      "Peak value: 51702002.0, Time: 16.131006868691543\n",
      "Peak value: 51706500.0, Time: 16.131839191923866\n",
      "Peak value: 51711499.0, Time: 16.13267151515619\n",
      "Peak value: 51712000.0, Time: 16.134336161620837\n",
      "Peak value: 51709003.0, Time: 16.134752323237\n",
      "Peak value: 51722498.0, Time: 16.136416969701646\n",
      "Peak value: 51735498.0, Time: 16.1401624242471\n",
      "Peak value: 51742499.0, Time: 16.140994747479425\n",
      "Peak value: 51659003.0, Time: 16.116857373742043\n",
      "Peak value: 51665002.0, Time: 16.117689696974367\n",
      "Peak value: 51666998.0, Time: 16.11852202020669\n",
      "Peak value: 51713501.0, Time: 16.12809373737841\n",
      "Peak value: 51690002.0, Time: 16.124348282832955\n",
      "Peak value: 51704999.0, Time: 16.126429090913764\n",
      "Peak value: 51682001.0, Time: 16.127261414146087\n",
      "Peak value: 51737000.0, Time: 16.141410909095587\n",
      "Peak value: 51784003.0, Time: 16.157225050509734\n",
      "Peak value: 51795502.0, Time: 16.15847353535822\n",
      "Peak value: 51794000.0, Time: 16.16097050505519\n",
      "Peak value: 51795502.0, Time: 16.161802828287513\n",
      "Peak value: 51815503.0, Time: 16.163051313136\n",
      "Peak value: 51796002.0, Time: 16.16596444444913\n",
      "Peak value: 51809497.0, Time: 16.167629090913778\n",
      "Peak value: 51746002.0, Time: 16.143491717176396\n",
      "Peak value: 51759003.0, Time: 16.14432404040872\n",
      "Peak value: 51739001.0, Time: 16.145156363641043\n",
      "Peak value: 51756000.0, Time: 16.146404848489528\n",
      "Peak value: 51762000.0, Time: 16.148069494954175\n",
      "Peak value: 51756500.0, Time: 16.150150303034984\n",
      "Peak value: 51773499.0, Time: 16.15181494949963\n",
      "Peak value: 51782001.0, Time: 16.152647272731954\n",
      "Peak value: 51779999.0, Time: 16.153479595964278\n",
      "Peak value: 51774500.0, Time: 16.1543119191966\n",
      "Peak value: 51282001.0, Time: 16.008655353539986\n",
      "Peak value: 50909000.0, Time: 15.863414949499532\n",
      "Peak value: 50917999.0, Time: 15.866328080812664\n",
      "Peak value: 50917001.0, Time: 15.867992727277311\n",
      "Peak value: 50929501.0, Time: 15.869241212125797\n",
      "Peak value: 50937000.0, Time: 15.873818989903576\n",
      "Peak value: 50945999.0, Time: 15.874235151519738\n",
      "Peak value: 50875500.0, Time: 15.849681616166194\n",
      "Peak value: 50875500.0, Time: 15.850513939398517\n",
      "Peak value: 50874500.0, Time: 15.851762424247003\n",
      "Peak value: 50867499.0, Time: 15.852594747479326\n",
      "Peak value: 50876001.0, Time: 15.85342707071165\n",
      "Peak value: 50904001.0, Time: 15.861334141418723\n",
      "Peak value: 50890500.0, Time: 15.85800484848943\n",
      "Peak value: 50903500.0, Time: 15.859669494954076\n",
      "Peak value: 50878000.0, Time: 15.8605018181864\n",
      "Peak value: 50950000.0, Time: 15.8746513131359\n",
      "Peak value: 51023999.0, Time: 15.890881616166208\n",
      "Peak value: 51022501.0, Time: 15.892962424247017\n",
      "Peak value: 51026501.0, Time: 15.894210909095502\n",
      "Peak value: 51029001.0, Time: 15.894627070711664\n",
      "Peak value: 51017001.0, Time: 15.896291717176311\n",
      "Peak value: 51024500.0, Time: 15.897124040408634\n",
      "Peak value: 51034000.0, Time: 15.899621010105605\n",
      "Peak value: 51026501.0, Time: 15.895043232327826\n",
      "Peak value: 51009000.0, Time: 15.888384646469238\n",
      "Peak value: 50975000.0, Time: 15.876315959600547\n",
      "Peak value: 50963501.0, Time: 15.87714828283287\n",
      "Peak value: 50967499.0, Time: 15.878396767681355\n",
      "Peak value: 50980499.0, Time: 15.879229090913679\n",
      "Peak value: 51007001.0, Time: 15.887968484853076\n",
      "Peak value: 50978500.0, Time: 15.882974545459135\n",
      "Peak value: 50975000.0, Time: 15.884639191923782\n",
      "Peak value: 50986499.0, Time: 15.885471515156105\n",
      "Peak value: 51001999.0, Time: 15.887136161620752\n",
      "Peak value: 51034000.0, Time: 15.90086949495409\n",
      "Peak value: 50870001.0, Time: 15.847600808085385\n",
      "Peak value: 50731500.0, Time: 15.81097858586315\n",
      "Peak value: 50745499.0, Time: 15.812643232327797\n",
      "Peak value: 50739001.0, Time: 15.814307878792444\n",
      "Peak value: 50757001.0, Time: 15.81555636364093\n",
      "Peak value: 50756500.0, Time: 15.816804848489415\n",
      "Peak value: 50743500.0, Time: 15.818885656570224\n",
      "Peak value: 50769501.0, Time: 15.82055030303487\n",
      "Peak value: 50772000.0, Time: 15.820966464651033\n",
      "Peak value: 50673999.0, Time: 15.797661414145974\n",
      "Peak value: 50688501.0, Time: 15.79890989899446\n",
      "Peak value: 50697000.0, Time: 15.799742222226783\n",
      "Peak value: 50692001.0, Time: 15.800574545459106\n",
      "Peak value: 50741000.0, Time: 15.808065454550018\n",
      "Peak value: 50689001.0, Time: 15.802655353539915\n",
      "Peak value: 50704501.0, Time: 15.806816969701533\n",
      "Peak value: 50865500.0, Time: 15.848016969701547\n",
      "Peak value: 50832999.0, Time: 15.840109898994474\n",
      "Peak value: 50834000.0, Time: 15.840942222226797\n",
      "Peak value: 50850000.0, Time: 15.841358383842959\n",
      "Peak value: 50867499.0, Time: 15.842606868691444\n",
      "Peak value: 50856000.0, Time: 15.844687676772253\n",
      "Peak value: 50860501.0, Time: 15.845520000004576\n",
      "Peak value: 50877499.0, Time: 15.8463523232369\n",
      "Peak value: 50870499.0, Time: 15.847184646469223\n",
      "Peak value: 50819000.0, Time: 15.835115959600532\n",
      "Peak value: 50793500.0, Time: 15.824295757580327\n",
      "Peak value: 50805499.0, Time: 15.825544242428812\n",
      "Peak value: 50834500.0, Time: 15.83469979798437\n",
      "Peak value: 50800500.0, Time: 15.829289696974268\n",
      "Peak value: 50807001.0, Time: 15.831370505055077\n",
      "Peak value: 50819000.0, Time: 15.8322028282874\n",
      "Peak value: 50810999.0, Time: 15.833867474752047\n",
      "Peak value: 51032501.0, Time: 15.901285656570252\n",
      "Peak value: 51186499.0, Time: 15.96953616162078\n",
      "Peak value: 51200500.0, Time: 15.973697777782398\n",
      "Peak value: 51205499.0, Time: 15.969120000004619\n",
      "Peak value: 51212500.0, Time: 15.976194747479369\n",
      "Peak value: 51197000.0, Time: 15.978275555560177\n",
      "Peak value: 51222498.0, Time: 15.979524040408663\n",
      "Peak value: 51216498.0, Time: 15.980772525257148\n",
      "Peak value: 51229999.0, Time: 15.98118868687331\n",
      "Peak value: 51185501.0, Time: 15.967871515156133\n",
      "Peak value: 51156500.0, Time: 15.958715959600575\n",
      "Peak value: 51159500.0, Time: 15.95996444444906\n",
      "Peak value: 51168500.0, Time: 15.960796767681384\n",
      "Peak value: 51182999.0, Time: 15.968287676772295\n",
      "Peak value: 51182999.0, Time: 15.964126060610678\n",
      "Peak value: 51185001.0, Time: 15.964958383843001\n",
      "Peak value: 51187500.0, Time: 15.965790707075325\n",
      "Peak value: 51189499.0, Time: 15.967455353539972\n",
      "Peak value: 51256500.0, Time: 15.997002828287457\n",
      "Peak value: 51272498.0, Time: 15.99783515151978\n",
      "Peak value: 51277502.0, Time: 15.999083636368265\n",
      "Peak value: 51278998.0, Time: 16.000748282832912\n",
      "Peak value: 51276001.0, Time: 16.001580606065236\n",
      "Peak value: 51294501.0, Time: 16.00282909091372\n",
      "Peak value: 51271503.0, Time: 16.006574545459177\n",
      "Peak value: 51276001.0, Time: 16.001996767681398\n",
      "Peak value: 51273999.0, Time: 15.99533818182281\n",
      "Peak value: 51231000.0, Time: 15.983269494954119\n",
      "Peak value: 51236499.0, Time: 15.984101818186442\n",
      "Peak value: 51245001.0, Time: 15.985350303034927\n",
      "Peak value: 51261499.0, Time: 15.994922020206648\n",
      "Peak value: 51254999.0, Time: 15.99076040404503\n",
      "Peak value: 51256000.0, Time: 15.991592727277354\n",
      "Peak value: 51253003.0, Time: 15.992425050509677\n",
      "Peak value: 51250000.0, Time: 15.993673535358162\n",
      "Peak value: 51104501.0, Time: 15.916683636368237\n",
      "Peak value: 51103000.0, Time: 15.917932121216722\n",
      "Peak value: 51095499.0, Time: 15.918764444449046\n",
      "Peak value: 51095999.0, Time: 15.915435151519752\n",
      "Peak value: 51095999.0, Time: 15.923758383842987\n",
      "Peak value: 51092999.0, Time: 15.92459070707531\n",
      "Peak value: 51097501.0, Time: 15.925423030307634\n",
      "Peak value: 51095499.0, Time: 15.927087676772281\n",
      "Peak value: 51045001.0, Time: 15.90336646465106\n",
      "Peak value: 51082501.0, Time: 15.90794424242884\n",
      "Peak value: 51071500.0, Time: 15.909608888893487\n",
      "Peak value: 51065500.0, Time: 15.910857373741973\n",
      "Peak value: 51059000.0, Time: 15.911689696974296\n",
      "Peak value: 51084500.0, Time: 15.912938181822781\n",
      "Peak value: 51095499.0, Time: 15.927920000004605\n",
      "Peak value: 51123001.0, Time: 15.942901818186428\n",
      "Peak value: 51142001.0, Time: 15.944150303034913\n",
      "Peak value: 51127499.0, Time: 15.944982626267237\n",
      "Peak value: 51147000.0, Time: 15.946647272731884\n",
      "Peak value: 51139499.0, Time: 15.94831191919653\n",
      "Peak value: 51156000.0, Time: 15.950808888893501\n",
      "Peak value: 51150000.0, Time: 15.951641212125825\n",
      "Peak value: 51150000.0, Time: 15.952473535358148\n",
      "Peak value: 51151501.0, Time: 15.953305858590472\n",
      "Peak value: 51096500.0, Time: 15.929584646469252\n",
      "Peak value: 51099500.0, Time: 15.930833131317737\n",
      "Peak value: 51112500.0, Time: 15.93166545455006\n",
      "Peak value: 51123999.0, Time: 15.932497777782384\n",
      "Peak value: 51111499.0, Time: 15.93374626263087\n",
      "Peak value: 51114999.0, Time: 15.934578585863193\n",
      "Peak value: 51113501.0, Time: 15.935410909095516\n",
      "Peak value: 51117999.0, Time: 15.937075555560163\n",
      "Peak value: 51116000.0, Time: 15.940404848489457\n",
      "Peak value: 51283002.0, Time: 16.008239191923824\n",
      "Peak value: 45346500.0, Time: 13.660671515155343\n",
      "Peak value: 45344000.0, Time: 13.65983919192302\n",
      "Peak value: 41010001.0, Time: 11.380522020205067\n",
      "Peak value: 41004501.0, Time: 11.38135434343739\n",
      "Peak value: 40994501.0, Time: 11.379689696972743\n",
      "Peak value: 41007001.0, Time: 11.387180606063655\n",
      "Peak value: 41003000.0, Time: 11.38842909091214\n",
      "Peak value: 41004001.0, Time: 11.389677575760626\n",
      "Peak value: 41004501.0, Time: 11.39050989899295\n",
      "Peak value: 41005499.0, Time: 11.38593212121517\n",
      "Peak value: 41007001.0, Time: 11.379273535356582\n",
      "Peak value: 41001999.0, Time: 11.368869494952538\n",
      "Peak value: 40993500.0, Time: 11.369701818184861\n",
      "Peak value: 41013501.0, Time: 11.371366464649508\n",
      "Peak value: 41009500.0, Time: 11.37885737374042\n",
      "Peak value: 41003500.0, Time: 11.373031111114155\n",
      "Peak value: 41017499.0, Time: 11.374695757578802\n",
      "Peak value: 41013501.0, Time: 11.375944242427288\n",
      "Peak value: 41005499.0, Time: 11.376776565659611\n",
      "Peak value: 41016000.0, Time: 11.377608888891935\n",
      "Peak value: 41011499.0, Time: 11.39300686868992\n",
      "Peak value: 41031000.0, Time: 11.408821010104067\n",
      "Peak value: 41032999.0, Time: 11.40965333333639\n",
      "Peak value: 41037500.0, Time: 11.410485656568714\n",
      "Peak value: 41031000.0, Time: 11.411734141417199\n",
      "Peak value: 41021500.0, Time: 11.412982626265684\n",
      "Peak value: 41035501.0, Time: 11.41423111111417\n",
      "Peak value: 41037000.0, Time: 11.417976565659625\n",
      "Peak value: 41019000.0, Time: 11.405907878790934\n",
      "Peak value: 41007501.0, Time: 11.393423030306082\n",
      "Peak value: 41020001.0, Time: 11.39550383838689\n",
      "Peak value: 41021500.0, Time: 11.39800080808386\n",
      "Peak value: 41016501.0, Time: 11.402162424245478\n",
      "Peak value: 41012000.0, Time: 11.402994747477802\n",
      "Peak value: 41017001.0, Time: 11.404243232326287\n",
      "Peak value: 41038000.0, Time: 11.418392727275787\n",
      "Peak value: 40949500.0, Time: 11.327669494952524\n",
      "Peak value: 40950000.0, Time: 11.32933414141717\n",
      "Peak value: 40966000.0, Time: 11.33141494949798\n",
      "Peak value: 40976999.0, Time: 11.335160404043435\n",
      "Peak value: 40969000.0, Time: 11.33640888889192\n",
      "Peak value: 40967999.0, Time: 11.338073535356568\n",
      "Peak value: 40908499.0, Time: 11.314352323235347\n",
      "Peak value: 40945999.0, Time: 11.31976242424545\n",
      "Peak value: 40936499.0, Time: 11.321010909093935\n",
      "Peak value: 40944000.0, Time: 11.321843232326259\n",
      "Peak value: 40948999.0, Time: 11.322675555558583\n",
      "Peak value: 40945001.0, Time: 11.324756363639391\n",
      "Peak value: 40995001.0, Time: 11.365540202023244\n",
      "Peak value: 40989001.0, Time: 11.353887676770714\n",
      "Peak value: 40994501.0, Time: 11.3551361616192\n",
      "Peak value: 40980499.0, Time: 11.357216969700008\n",
      "Peak value: 40982501.0, Time: 11.358465454548494\n",
      "Peak value: 40991501.0, Time: 11.358881616164656\n",
      "Peak value: 40998499.0, Time: 11.360546262629303\n",
      "Peak value: 41002499.0, Time: 11.361794747477788\n",
      "Peak value: 41001999.0, Time: 11.362627070710111\n",
      "Peak value: 40999500.0, Time: 11.363875555558597\n",
      "Peak value: 40990500.0, Time: 11.36470787879092\n",
      "Peak value: 40973499.0, Time: 11.35263919192223\n",
      "Peak value: 40964999.0, Time: 11.341818989902023\n",
      "Peak value: 40975000.0, Time: 11.343067474750509\n",
      "Peak value: 40970499.0, Time: 11.343899797982832\n",
      "Peak value: 40968500.0, Time: 11.345148282831317\n",
      "Peak value: 40995499.0, Time: 11.346812929295965\n",
      "Peak value: 40977499.0, Time: 11.347645252528288\n",
      "Peak value: 40970001.0, Time: 11.350974545457582\n",
      "Peak value: 41126001.0, Time: 11.486643232326315\n",
      "Peak value: 41120499.0, Time: 11.488307878790962\n",
      "Peak value: 41134500.0, Time: 11.489556363639448\n",
      "Peak value: 41129501.0, Time: 11.490804848487933\n",
      "Peak value: 41126501.0, Time: 11.492053333336418\n",
      "Peak value: 41152499.0, Time: 11.493301818184904\n",
      "Peak value: 41149500.0, Time: 11.494134141417227\n",
      "Peak value: 41148001.0, Time: 11.49496646464955\n",
      "Peak value: 41151001.0, Time: 11.495798787881874\n",
      "Peak value: 41154999.0, Time: 11.496631111114198\n",
      "Peak value: 41146500.0, Time: 11.498295757578845\n",
      "Peak value: 41097501.0, Time: 11.474158383841463\n",
      "Peak value: 41087000.0, Time: 11.475406868689948\n",
      "Peak value: 41104999.0, Time: 11.476239191922271\n",
      "Peak value: 41101501.0, Time: 11.477071515154595\n",
      "Peak value: 41126999.0, Time: 11.48539474747783\n",
      "Peak value: 41106000.0, Time: 11.479568484851566\n",
      "Peak value: 41122501.0, Time: 11.48081696970005\n",
      "Peak value: 41123999.0, Time: 11.484562424245507\n",
      "Peak value: 41183499.0, Time: 11.514109898992992\n",
      "Peak value: 41189999.0, Time: 11.51827151515461\n",
      "Peak value: 41204001.0, Time: 11.519520000003094\n",
      "Peak value: 41201501.0, Time: 11.52076848485158\n",
      "Peak value: 41214499.0, Time: 11.522016969700065\n",
      "Peak value: 41204999.0, Time: 11.522849292932388\n",
      "Peak value: 41209000.0, Time: 11.524513939397036\n",
      "Peak value: 41181000.0, Time: 11.512445252528344\n",
      "Peak value: 41160001.0, Time: 11.502873535356624\n",
      "Peak value: 41151999.0, Time: 11.50412202020511\n",
      "Peak value: 41179501.0, Time: 11.512029090912183\n",
      "Peak value: 41167001.0, Time: 11.506202828285918\n",
      "Peak value: 41162500.0, Time: 11.507035151518242\n",
      "Peak value: 41193500.0, Time: 11.509948282831374\n",
      "Peak value: 41182999.0, Time: 11.51119676767986\n",
      "Peak value: 41082501.0, Time: 11.472493737376816\n",
      "Peak value: 41084000.0, Time: 11.43545535353842\n",
      "Peak value: 41076501.0, Time: 11.437536161619228\n",
      "Peak value: 41071500.0, Time: 11.432958383841449\n",
      "Peak value: 41085999.0, Time: 11.44044929293236\n",
      "Peak value: 41084500.0, Time: 11.442530101013169\n",
      "Peak value: 41079999.0, Time: 11.443362424245493\n",
      "Peak value: 41075500.0, Time: 11.444610909093978\n",
      "Peak value: 41084500.0, Time: 11.44502707071014\n",
      "Peak value: 41050000.0, Time: 11.42130585858892\n",
      "Peak value: 41051999.0, Time: 11.422554343437405\n",
      "Peak value: 41044000.0, Time: 11.42380282828589\n",
      "Peak value: 41069000.0, Time: 11.432126060609125\n",
      "Peak value: 41066000.0, Time: 11.427548282831346\n",
      "Peak value: 41070001.0, Time: 11.42838060606367\n",
      "Peak value: 41058499.0, Time: 11.429629090912155\n",
      "Peak value: 41064499.0, Time: 11.431293737376802\n",
      "Peak value: 41076999.0, Time: 11.472077575760654\n",
      "Peak value: 41075500.0, Time: 11.460008888891963\n",
      "Peak value: 41088501.0, Time: 11.46167353535661\n",
      "Peak value: 41107501.0, Time: 11.462505858588933\n",
      "Peak value: 41092999.0, Time: 11.463338181821257\n",
      "Peak value: 41104999.0, Time: 11.464586666669742\n",
      "Peak value: 41092999.0, Time: 11.469164444447522\n",
      "Peak value: 41087000.0, Time: 11.470829090912169\n",
      "Peak value: 41082999.0, Time: 11.465835151518228\n",
      "Peak value: 41068500.0, Time: 11.45917656565964\n",
      "Peak value: 41087000.0, Time: 11.447107878790948\n",
      "Peak value: 41087000.0, Time: 11.448356363639434\n",
      "Peak value: 41081000.0, Time: 11.458760404043478\n",
      "Peak value: 41069501.0, Time: 11.452934141417213\n",
      "Peak value: 41079999.0, Time: 11.453766464649537\n",
      "Peak value: 41079999.0, Time: 11.45459878788186\n",
      "Peak value: 41086499.0, Time: 11.455431111114184\n",
      "Peak value: 41088000.0, Time: 11.45709575757883\n",
      "Peak value: 41066501.0, Time: 11.452517979801051\n",
      "Peak value: 40877499.0, Time: 11.311855353538377\n",
      "Peak value: 40653500.0, Time: 11.168695757578732\n",
      "Peak value: 40651001.0, Time: 11.17077656565954\n",
      "Peak value: 40653000.0, Time: 11.171608888891864\n",
      "Peak value: 40653000.0, Time: 11.174105858588835\n",
      "Peak value: 40663000.0, Time: 11.176186666669643\n",
      "Peak value: 40652499.0, Time: 11.17785131313429\n",
      "Peak value: 40662000.0, Time: 11.178267474750452\n",
      "Peak value: 40623499.0, Time: 11.155378585861556\n",
      "Peak value: 40609000.0, Time: 11.156210909093879\n",
      "Peak value: 40617999.0, Time: 11.157043232326203\n",
      "Peak value: 40638000.0, Time: 11.165366464649438\n",
      "Peak value: 40632001.0, Time: 11.159956363639335\n",
      "Peak value: 40639999.0, Time: 11.16120484848782\n",
      "Peak value: 40641000.0, Time: 11.162869494952467\n",
      "Peak value: 40638501.0, Time: 11.16370181818479\n",
      "Peak value: 40646500.0, Time: 11.159124040407011\n",
      "Peak value: 40662000.0, Time: 11.178683636366614\n",
      "Peak value: 40681500.0, Time: 11.193665454548437\n",
      "Peak value: 40681500.0, Time: 11.19449777778076\n",
      "Peak value: 40688000.0, Time: 11.195330101013084\n",
      "Peak value: 40695001.0, Time: 11.196994747477731\n",
      "Peak value: 40681000.0, Time: 11.197827070710055\n",
      "Peak value: 40683499.0, Time: 11.20157252525551\n",
      "Peak value: 40687000.0, Time: 11.203237171720158\n",
      "Peak value: 40704999.0, Time: 11.204485656568643\n",
      "Peak value: 40670999.0, Time: 11.192416969699952\n",
      "Peak value: 40667499.0, Time: 11.180348282831261\n",
      "Peak value: 40658499.0, Time: 11.181180606063585\n",
      "Peak value: 40674500.0, Time: 11.19200080808379\n",
      "Peak value: 40659500.0, Time: 11.186590707073687\n",
      "Peak value: 40673499.0, Time: 11.188255353538334\n",
      "Peak value: 40678500.0, Time: 11.189920000002981\n",
      "Peak value: 40678000.0, Time: 11.185758383841364\n",
      "Peak value: 40622000.0, Time: 11.1516331313161\n",
      "Peak value: 40556000.0, Time: 11.114594747477703\n",
      "Peak value: 40554501.0, Time: 11.118340202023159\n",
      "Peak value: 40576501.0, Time: 11.120421010103968\n",
      "Peak value: 40576001.0, Time: 11.122085656568615\n",
      "Peak value: 40572501.0, Time: 11.123750303033262\n",
      "Peak value: 40575500.0, Time: 11.124582626265585\n",
      "Peak value: 40560001.0, Time: 11.124998787881747\n",
      "Peak value: 40548001.0, Time: 11.11168161616457\n",
      "Peak value: 40561499.0, Time: 11.101693737376689\n",
      "Peak value: 40563501.0, Time: 11.103774545457497\n",
      "Peak value: 40561499.0, Time: 11.112097777780733\n",
      "Peak value: 40562500.0, Time: 11.107103838386791\n",
      "Peak value: 40547501.0, Time: 11.107936161619115\n",
      "Peak value: 40553000.0, Time: 11.108768484851439\n",
      "Peak value: 40552499.0, Time: 11.109600808083762\n",
      "Peak value: 40562500.0, Time: 11.111265454548409\n",
      "Peak value: 40611499.0, Time: 11.152049292932261\n",
      "Peak value: 40610999.0, Time: 11.140396767679732\n",
      "Peak value: 40601999.0, Time: 11.141645252528217\n",
      "Peak value: 40605499.0, Time: 11.142477575760541\n",
      "Peak value: 40601999.0, Time: 11.143309898992865\n",
      "Peak value: 40625000.0, Time: 11.144142222225188\n",
      "Peak value: 40623001.0, Time: 11.145390707073673\n",
      "Peak value: 40624500.0, Time: 11.147471515154482\n",
      "Peak value: 40617001.0, Time: 11.145806868689835\n",
      "Peak value: 40582999.0, Time: 11.139148282831247\n",
      "Peak value: 40589999.0, Time: 11.127495757578718\n",
      "Peak value: 40591000.0, Time: 11.128744242427203\n",
      "Peak value: 40576999.0, Time: 11.13040888889185\n",
      "Peak value: 40582001.0, Time: 11.131241212124174\n",
      "Peak value: 40590500.0, Time: 11.138732121215085\n",
      "Peak value: 40590500.0, Time: 11.135402828285791\n",
      "Peak value: 40592001.0, Time: 11.136651313134276\n",
      "Peak value: 40590500.0, Time: 11.137899797982762\n",
      "Peak value: 40689001.0, Time: 11.205734141417128\n",
      "Peak value: 40800000.0, Time: 11.273984646467657\n",
      "Peak value: 40807999.0, Time: 11.27481696969998\n",
      "Peak value: 40816000.0, Time: 11.275649292932304\n",
      "Peak value: 40803500.0, Time: 11.278562424245436\n",
      "Peak value: 40825500.0, Time: 11.278978585861598\n",
      "Peak value: 40826001.0, Time: 11.280227070710083\n",
      "Peak value: 40814499.0, Time: 11.281059393942407\n",
      "Peak value: 40835999.0, Time: 11.27939474747776\n",
      "Peak value: 40795001.0, Time: 11.261915959598966\n",
      "Peak value: 40801999.0, Time: 11.263164444447451\n",
      "Peak value: 40798001.0, Time: 11.263996767679775\n",
      "Peak value: 40789999.0, Time: 11.26524525252826\n",
      "Peak value: 40792001.0, Time: 11.268158383841392\n",
      "Peak value: 40805499.0, Time: 11.268990707073716\n",
      "Peak value: 40810999.0, Time: 11.271487676770686\n",
      "Peak value: 40884000.0, Time: 11.301451313134333\n",
      "Peak value: 40877499.0, Time: 11.302699797982818\n",
      "Peak value: 40882999.0, Time: 11.303532121215142\n",
      "Peak value: 40873499.0, Time: 11.304364444447465\n",
      "Peak value: 40906500.0, Time: 11.306445252528274\n",
      "Peak value: 40884000.0, Time: 11.307277575760597\n",
      "Peak value: 40917499.0, Time: 11.308526060609083\n",
      "Peak value: 40897501.0, Time: 11.309774545457568\n",
      "Peak value: 40901999.0, Time: 11.310606868689892\n",
      "Peak value: 40890500.0, Time: 11.306029090912112\n",
      "Peak value: 40876001.0, Time: 11.299370505053524\n",
      "Peak value: 40845001.0, Time: 11.287301818184833\n",
      "Peak value: 40844501.0, Time: 11.28896646464948\n",
      "Peak value: 40845499.0, Time: 11.289798787881804\n",
      "Peak value: 40849500.0, Time: 11.291047272730289\n",
      "Peak value: 40874500.0, Time: 11.298954343437362\n",
      "Peak value: 40872000.0, Time: 11.29354424242726\n",
      "Peak value: 40866501.0, Time: 11.295208888891906\n",
      "Peak value: 40867001.0, Time: 11.29604121212423\n",
      "Peak value: 40848999.0, Time: 11.297289696972715\n",
      "Peak value: 40869000.0, Time: 11.292711919194936\n",
      "Peak value: 40789001.0, Time: 11.258586666669672\n",
      "Peak value: 40728000.0, Time: 11.22029979798279\n",
      "Peak value: 40726001.0, Time: 11.221132121215113\n",
      "Peak value: 40733499.0, Time: 11.222380606063599\n",
      "Peak value: 40717999.0, Time: 11.223212929295922\n",
      "Peak value: 40720001.0, Time: 11.224045252528246\n",
      "Peak value: 40730499.0, Time: 11.219467474750466\n",
      "Peak value: 40731500.0, Time: 11.226126060609054\n",
      "Peak value: 40737500.0, Time: 11.226958383841378\n",
      "Peak value: 40740500.0, Time: 11.227790707073702\n",
      "Peak value: 40740500.0, Time: 11.229039191922187\n",
      "Peak value: 40741501.0, Time: 11.230703838386834\n",
      "Peak value: 40735501.0, Time: 11.231536161619157\n",
      "Peak value: 40697000.0, Time: 11.207398787881775\n",
      "Peak value: 40707999.0, Time: 11.208231111114099\n",
      "Peak value: 40695001.0, Time: 11.209479595962584\n",
      "Peak value: 40689001.0, Time: 11.21072808081107\n",
      "Peak value: 40719501.0, Time: 11.218635151518143\n",
      "Peak value: 40710999.0, Time: 11.212808888891878\n",
      "Peak value: 40712000.0, Time: 11.214057373740363\n",
      "Peak value: 40766000.0, Time: 11.246934141417142\n",
      "Peak value: 40770999.0, Time: 11.247766464649466\n",
      "Peak value: 40789499.0, Time: 11.251928080811084\n",
      "Peak value: 40782001.0, Time: 11.252344242427245\n",
      "Peak value: 40785999.0, Time: 11.254841212124216\n",
      "Peak value: 40794000.0, Time: 11.256089696972701\n",
      "Peak value: 40775000.0, Time: 11.252760404043407\n",
      "Peak value: 40788501.0, Time: 11.245685656568657\n",
      "Peak value: 40741501.0, Time: 11.234865454548451\n",
      "Peak value: 40748001.0, Time: 11.236113939396937\n",
      "Peak value: 40759500.0, Time: 11.237362424245422\n",
      "Peak value: 40767499.0, Time: 11.239027070710069\n",
      "Peak value: 40756500.0, Time: 11.239859393942393\n",
      "Peak value: 40767999.0, Time: 11.241107878790878\n",
      "Peak value: 40762000.0, Time: 11.242356363639363\n",
      "Peak value: 40760501.0, Time: 11.243188686871687\n",
      "Peak value: 40762000.0, Time: 11.24402101010401\n",
      "Peak value: 41184000.0, Time: 11.524930101013197\n",
      "Peak value: 41648001.0, Time: 11.807920000003193\n",
      "Peak value: 41643500.0, Time: 11.808752323235517\n",
      "Peak value: 41661499.0, Time: 11.810416969700164\n",
      "Peak value: 41668500.0, Time: 11.811665454548649\n",
      "Peak value: 41667001.0, Time: 11.812913939397134\n",
      "Peak value: 41679501.0, Time: 11.813746262629458\n",
      "Peak value: 41689499.0, Time: 11.814578585861781\n",
      "Peak value: 41680499.0, Time: 11.817907878791075\n",
      "Peak value: 41682001.0, Time: 11.818324040407237\n",
      "Peak value: 41635501.0, Time: 11.80500686869006\n",
      "Peak value: 41612000.0, Time: 11.793770505053693\n",
      "Peak value: 41606000.0, Time: 11.794602828286017\n",
      "Peak value: 41626999.0, Time: 11.796267474750664\n",
      "Peak value: 41614499.0, Time: 11.797932121215311\n",
      "Peak value: 41629999.0, Time: 11.805423030306223\n",
      "Peak value: 41639999.0, Time: 11.803342222225414\n",
      "Peak value: 41626999.0, Time: 11.8045907070739\n",
      "Peak value: 41734000.0, Time: 11.836635151518355\n",
      "Peak value: 41742499.0, Time: 11.83788363636684\n",
      "Peak value: 41728000.0, Time: 11.839548282831487\n",
      "Peak value: 41734500.0, Time: 11.841212929296134\n",
      "Peak value: 41748001.0, Time: 11.843709898993104\n",
      "Peak value: 41723999.0, Time: 11.831641212124413\n",
      "Peak value: 41706000.0, Time: 11.820404848488046\n",
      "Peak value: 41712000.0, Time: 11.822069494952693\n",
      "Peak value: 41705499.0, Time: 11.822901818185017\n",
      "Peak value: 41707501.0, Time: 11.824566464649664\n",
      "Peak value: 41716000.0, Time: 11.832057373740575\n",
      "Peak value: 41707999.0, Time: 11.827063434346634\n",
      "Peak value: 41701001.0, Time: 11.82831191919512\n",
      "Peak value: 41714999.0, Time: 11.829560404043605\n",
      "Peak value: 41723999.0, Time: 11.84495838384159\n",
      "Peak value: 41600500.0, Time: 11.791689696972885\n",
      "Peak value: 41577499.0, Time: 11.754235151518326\n",
      "Peak value: 41565500.0, Time: 11.75506747475065\n",
      "Peak value: 41570499.0, Time: 11.755899797982973\n",
      "Peak value: 41569000.0, Time: 11.757148282831459\n",
      "Peak value: 41569501.0, Time: 11.757980606063782\n",
      "Peak value: 41567499.0, Time: 11.760477575760753\n",
      "Peak value: 41572501.0, Time: 11.761726060609238\n",
      "Peak value: 41578500.0, Time: 11.762974545457723\n",
      "Peak value: 41573001.0, Time: 11.764223030306209\n",
      "Peak value: 41582999.0, Time: 11.765055353538532\n",
      "Peak value: 41549500.0, Time: 11.741334141417312\n",
      "Peak value: 41563501.0, Time: 11.74341494949812\n",
      "Peak value: 41560001.0, Time: 11.744663434346606\n",
      "Peak value: 41560999.0, Time: 11.74549575757893\n",
      "Peak value: 41565500.0, Time: 11.746744242427415\n",
      "Peak value: 41570999.0, Time: 11.7479927272759\n",
      "Peak value: 41564499.0, Time: 11.748825050508223\n",
      "Peak value: 41559500.0, Time: 11.750905858589032\n",
      "Peak value: 41609000.0, Time: 11.792105858589046\n",
      "Peak value: 41603500.0, Time: 11.780037171720355\n",
      "Peak value: 41595999.0, Time: 11.780869494952679\n",
      "Peak value: 41599500.0, Time: 11.781701818185002\n",
      "Peak value: 41589499.0, Time: 11.785031111114296\n",
      "Peak value: 41609500.0, Time: 11.787111919195105\n",
      "Peak value: 41612500.0, Time: 11.787944242427429\n",
      "Peak value: 41619501.0, Time: 11.788776565659752\n",
      "Peak value: 41618500.0, Time: 11.790857373740561\n",
      "Peak value: 41592499.0, Time: 11.779204848488032\n",
      "Peak value: 41566501.0, Time: 11.76921696970015\n",
      "Peak value: 41572000.0, Time: 11.770465454548635\n",
      "Peak value: 41585001.0, Time: 11.77878868687187\n",
      "Peak value: 41573499.0, Time: 11.772962424245605\n",
      "Peak value: 41570499.0, Time: 11.773794747477929\n",
      "Peak value: 41583499.0, Time: 11.774627070710252\n",
      "Peak value: 41581000.0, Time: 11.775459393942576\n",
      "Peak value: 41582001.0, Time: 11.776707878791061\n",
      "Peak value: 41590500.0, Time: 11.777956363639547\n",
      "Peak value: 41731000.0, Time: 11.845374545457751\n",
      "Peak value: 41812500.0, Time: 11.91362505050828\n",
      "Peak value: 41803000.0, Time: 11.914457373740603\n",
      "Peak value: 41817001.0, Time: 11.915289696972927\n",
      "Peak value: 41810001.0, Time: 11.918618989902221\n",
      "Peak value: 41812500.0, Time: 11.919867474750706\n",
      "Peak value: 41827499.0, Time: 11.921948282831515\n",
      "Peak value: 41824500.0, Time: 11.922780606063839\n",
      "Peak value: 41823001.0, Time: 11.924861414144647\n",
      "Peak value: 41813501.0, Time: 11.92527757576081\n",
      "Peak value: 41788000.0, Time: 11.903637171720398\n",
      "Peak value: 41770999.0, Time: 11.904885656568883\n",
      "Peak value: 41794000.0, Time: 11.912376565659795\n",
      "Peak value: 41793500.0, Time: 11.907798787882015\n",
      "Peak value: 41795999.0, Time: 11.908631111114339\n",
      "Peak value: 41809000.0, Time: 11.910711919195148\n",
      "Peak value: 41822000.0, Time: 11.911544242427471\n",
      "Peak value: 41870999.0, Time: 11.940675555558794\n",
      "Peak value: 41892001.0, Time: 11.94192404040728\n",
      "Peak value: 41901501.0, Time: 11.944837171720412\n",
      "Peak value: 41892499.0, Time: 11.946501818185059\n",
      "Peak value: 41900000.0, Time: 11.947750303033544\n",
      "Peak value: 41892499.0, Time: 11.948582626265868\n",
      "Peak value: 41916501.0, Time: 11.951495757579\n",
      "Peak value: 41867499.0, Time: 11.939427070710309\n",
      "Peak value: 41845001.0, Time: 11.92777454545778\n",
      "Peak value: 41835001.0, Time: 11.929023030306265\n",
      "Peak value: 41834500.0, Time: 11.929855353538589\n",
      "Peak value: 41840500.0, Time: 11.931103838387074\n",
      "Peak value: 41856500.0, Time: 11.939010909094147\n",
      "Peak value: 41864001.0, Time: 11.936930101013338\n",
      "Peak value: 41864499.0, Time: 11.937762424245662\n",
      "Peak value: 41770499.0, Time: 11.898643232326457\n",
      "Peak value: 41738501.0, Time: 11.860356363639575\n",
      "Peak value: 41739499.0, Time: 11.86160484848806\n",
      "Peak value: 41738501.0, Time: 11.863269494952707\n",
      "Peak value: 41748499.0, Time: 11.864517979801192\n",
      "Peak value: 41750500.0, Time: 11.865350303033516\n",
      "Peak value: 41735001.0, Time: 11.869928080811295\n",
      "Peak value: 41747501.0, Time: 11.865766464649678\n",
      "Peak value: 41723001.0, Time: 11.85910787879109\n",
      "Peak value: 41732999.0, Time: 11.84745535353856\n",
      "Peak value: 41732001.0, Time: 11.848703838387046\n",
      "Peak value: 41732501.0, Time: 11.849536161619369\n",
      "Peak value: 41729999.0, Time: 11.858691717174928\n",
      "Peak value: 41726001.0, Time: 11.853697777780987\n",
      "Peak value: 41739499.0, Time: 11.854946262629472\n",
      "Peak value: 41743500.0, Time: 11.855778585861795\n",
      "Peak value: 41734500.0, Time: 11.857859393942604\n",
      "Peak value: 41735501.0, Time: 11.872008888892104\n",
      "Peak value: 41765500.0, Time: 11.88740686869009\n",
      "Peak value: 41773499.0, Time: 11.889487676770898\n",
      "Peak value: 41778000.0, Time: 11.891984646467868\n",
      "Peak value: 41788501.0, Time: 11.893233131316354\n",
      "Peak value: 41789999.0, Time: 11.894897777781\n",
      "Peak value: 41777499.0, Time: 11.896562424245648\n",
      "Peak value: 41795499.0, Time: 11.898227070710295\n",
      "Peak value: 41734000.0, Time: 11.873673535356751\n",
      "Peak value: 41744501.0, Time: 11.875338181821398\n",
      "Peak value: 41737000.0, Time: 11.876170505053722\n",
      "Peak value: 41734000.0, Time: 11.877002828286045\n",
      "Peak value: 41756500.0, Time: 11.87825131313453\n",
      "Peak value: 41759000.0, Time: 11.879083636366854\n",
      "Peak value: 41753500.0, Time: 11.879915959599177\n",
      "Peak value: 41765500.0, Time: 11.88282909091231\n",
      "Peak value: 41744000.0, Time: 11.884493737376957\n",
      "Peak value: 41548999.0, Time: 11.73842101010418\n",
      "Peak value: 41329501.0, Time: 11.59401292929605\n",
      "Peak value: 41328000.0, Time: 11.594845252528373\n",
      "Peak value: 41326001.0, Time: 11.595677575760696\n",
      "Peak value: 41318500.0, Time: 11.596926060609182\n",
      "Peak value: 41329999.0, Time: 11.597758383841505\n",
      "Peak value: 41342999.0, Time: 11.598590707073829\n",
      "Peak value: 41352499.0, Time: 11.602752323235446\n",
      "Peak value: 41353500.0, Time: 11.60358464646777\n",
      "Peak value: 41342999.0, Time: 11.604416969700093\n",
      "Peak value: 41301501.0, Time: 11.580279595962711\n",
      "Peak value: 41289001.0, Time: 11.581528080811196\n",
      "Peak value: 41330499.0, Time: 11.59193212121524\n",
      "Peak value: 41323001.0, Time: 11.586105858588976\n",
      "Peak value: 41335501.0, Time: 11.587770505053623\n",
      "Peak value: 41320001.0, Time: 11.589851313134432\n",
      "Peak value: 41344501.0, Time: 11.590683636366755\n",
      "Peak value: 41384500.0, Time: 11.621895757578887\n",
      "Peak value: 41376999.0, Time: 11.623560404043534\n",
      "Peak value: 41372000.0, Time: 11.619398787881916\n",
      "Peak value: 41367001.0, Time: 11.626057373740505\n",
      "Peak value: 41382999.0, Time: 11.626889696972828\n",
      "Peak value: 41379501.0, Time: 11.628138181821313\n",
      "Peak value: 41376001.0, Time: 11.630218989902122\n",
      "Peak value: 41360501.0, Time: 11.625641212124343\n",
      "Peak value: 41362000.0, Time: 11.618982626265755\n",
      "Peak value: 41355499.0, Time: 11.606913939397064\n",
      "Peak value: 41361499.0, Time: 11.607746262629387\n",
      "Peak value: 41342001.0, Time: 11.60857858586171\n",
      "Peak value: 41360999.0, Time: 11.61065939394252\n",
      "Peak value: 41361499.0, Time: 11.618566464649593\n",
      "Peak value: 41363000.0, Time: 11.612740202023328\n",
      "Peak value: 41362000.0, Time: 11.613572525255652\n",
      "Peak value: 41360501.0, Time: 11.61773414141727\n",
      "Peak value: 41370001.0, Time: 11.631467474750607\n",
      "Peak value: 41238000.0, Time: 11.540328080811182\n",
      "Peak value: 41241000.0, Time: 11.541576565659668\n",
      "Peak value: 41248499.0, Time: 11.542825050508153\n",
      "Peak value: 41254001.0, Time: 11.543657373740476\n",
      "Peak value: 41247000.0, Time: 11.544905858588962\n",
      "Peak value: 41264999.0, Time: 11.546570505053609\n",
      "Peak value: 41261499.0, Time: 11.548235151518256\n",
      "Peak value: 41263501.0, Time: 11.551148282831388\n",
      "Peak value: 41264499.0, Time: 11.55156444444755\n",
      "Peak value: 41213000.0, Time: 11.527010909094006\n",
      "Peak value: 41204001.0, Time: 11.528675555558653\n",
      "Peak value: 41209500.0, Time: 11.529924040407138\n",
      "Peak value: 41208499.0, Time: 11.530756363639462\n",
      "Peak value: 41222000.0, Time: 11.538663434346535\n",
      "Peak value: 41230499.0, Time: 11.535750303033403\n",
      "Peak value: 41235501.0, Time: 11.536998787881888\n",
      "Peak value: 41231000.0, Time: 11.537831111114212\n",
      "Peak value: 41304999.0, Time: 11.578614949498064\n",
      "Peak value: 41276999.0, Time: 11.552812929296035\n",
      "Peak value: 41287000.0, Time: 11.569459393942505\n",
      "Peak value: 41270999.0, Time: 11.570291717174829\n",
      "Peak value: 41281500.0, Time: 11.571124040407152\n",
      "Peak value: 41285001.0, Time: 11.571956363639476\n",
      "Peak value: 41292001.0, Time: 11.573204848487961\n",
      "Peak value: 41290500.0, Time: 11.574453333336447\n",
      "Peak value: 41306000.0, Time: 11.577366464649579\n",
      "Peak value: 41271500.0, Time: 11.56571393939705\n",
      "Peak value: 41264499.0, Time: 11.553645252528359\n",
      "Peak value: 41257999.0, Time: 11.554477575760682\n",
      "Peak value: 41252499.0, Time: 11.555309898993006\n",
      "Peak value: 41251501.0, Time: 11.55614222222533\n",
      "Peak value: 41268500.0, Time: 11.557806868689976\n",
      "Peak value: 41267999.0, Time: 11.565297777780888\n",
      "Peak value: 41269000.0, Time: 11.559471515154623\n",
      "Peak value: 41273499.0, Time: 11.56113616161927\n",
      "Peak value: 41269000.0, Time: 11.562384646467756\n",
      "Peak value: 41272501.0, Time: 11.563216969700079\n",
      "Peak value: 41280499.0, Time: 11.564465454548564\n",
      "Peak value: 41390500.0, Time: 11.63188363636677\n",
      "Peak value: 41471500.0, Time: 11.70304727273043\n",
      "Peak value: 41466000.0, Time: 11.704711919195077\n",
      "Peak value: 41475000.0, Time: 11.706376565659724\n",
      "Peak value: 41473001.0, Time: 11.707208888892048\n",
      "Peak value: 41494501.0, Time: 11.709705858589018\n",
      "Peak value: 41485001.0, Time: 11.710954343437503\n",
      "Peak value: 41467999.0, Time: 11.711786666669827\n",
      "Peak value: 41460501.0, Time: 11.69846949495265\n",
      "Peak value: 41430499.0, Time: 11.687649292932445\n",
      "Peak value: 41430499.0, Time: 11.688481616164768\n",
      "Peak value: 41435501.0, Time: 11.689313939397092\n",
      "Peak value: 41432501.0, Time: 11.690146262629415\n",
      "Peak value: 41443500.0, Time: 11.6913947474779\n",
      "Peak value: 41454501.0, Time: 11.698885656568812\n",
      "Peak value: 41450000.0, Time: 11.69347555555871\n",
      "Peak value: 41453000.0, Time: 11.694724040407195\n",
      "Peak value: 41460501.0, Time: 11.695556363639518\n",
      "Peak value: 41472000.0, Time: 11.696388686871842\n",
      "Peak value: 41456500.0, Time: 11.697637171720327\n",
      "Peak value: 41523001.0, Time: 11.72676848485165\n",
      "Peak value: 41542001.0, Time: 11.728433131316297\n",
      "Peak value: 41535999.0, Time: 11.72926545454862\n",
      "Peak value: 41544501.0, Time: 11.730097777780944\n",
      "Peak value: 41545499.0, Time: 11.726352323235488\n",
      "Peak value: 41557501.0, Time: 11.735924040407209\n",
      "Peak value: 41551999.0, Time: 11.736756363639532\n",
      "Peak value: 41551501.0, Time: 11.737588686871856\n",
      "Peak value: 41548499.0, Time: 11.732594747477915\n",
      "Peak value: 41531500.0, Time: 11.725936161619327\n",
      "Peak value: 41490500.0, Time: 11.71469979798296\n",
      "Peak value: 41513000.0, Time: 11.725520000003165\n",
      "Peak value: 41515500.0, Time: 11.720109898993062\n",
      "Peak value: 41525500.0, Time: 11.72177454545771\n",
      "Peak value: 41542499.0, Time: 11.723023030306194\n",
      "Peak value: 41532999.0, Time: 11.72427151515468\n",
      "Peak value: 41407001.0, Time: 11.647281616164754\n",
      "Peak value: 41398499.0, Time: 11.648113939397078\n",
      "Peak value: 41410001.0, Time: 11.648946262629401\n",
      "Peak value: 41416501.0, Time: 11.646033131316269\n",
      "Peak value: 41401999.0, Time: 11.653940202023342\n",
      "Peak value: 41412500.0, Time: 11.654772525255666\n",
      "Peak value: 41413000.0, Time: 11.656021010104151\n",
      "Peak value: 41417999.0, Time: 11.657269494952637\n",
      "Peak value: 41401999.0, Time: 11.645616969700107\n",
      "Peak value: 41387000.0, Time: 11.636045252528387\n",
      "Peak value: 41390500.0, Time: 11.63687757576071\n",
      "Peak value: 41380499.0, Time: 11.637709898993034\n",
      "Peak value: 41392001.0, Time: 11.645200808083946\n",
      "Peak value: 41388000.0, Time: 11.639374545457681\n",
      "Peak value: 41382001.0, Time: 11.640623030306166\n",
      "Peak value: 41383499.0, Time: 11.64145535353849\n",
      "Peak value: 41389499.0, Time: 11.642703838386975\n",
      "Peak value: 41409000.0, Time: 11.64395232323546\n",
      "Peak value: 41407501.0, Time: 11.658517979801122\n",
      "Peak value: 41430499.0, Time: 11.673915959599107\n",
      "Peak value: 41429501.0, Time: 11.675580606063754\n",
      "Peak value: 41435001.0, Time: 11.67682909091224\n",
      "Peak value: 41441000.0, Time: 11.678077575760724\n",
      "Peak value: 41423999.0, Time: 11.673083636366783\n",
      "Peak value: 41444000.0, Time: 11.679742222225372\n",
      "Peak value: 41444501.0, Time: 11.680574545457695\n",
      "Peak value: 41447000.0, Time: 11.682239191922342\n",
      "Peak value: 41437000.0, Time: 11.684736161619313\n",
      "Peak value: 41422000.0, Time: 11.671835151518298\n",
      "Peak value: 41422501.0, Time: 11.661431111114254\n",
      "Peak value: 41425000.0, Time: 11.663095757578901\n",
      "Peak value: 41430499.0, Time: 11.664344242427386\n",
      "Peak value: 41424500.0, Time: 11.665592727275872\n",
      "Peak value: 41419000.0, Time: 11.670170505053651\n",
      "Peak value: 41558499.0, Time: 11.738837171720341\n",
      "Peak value: 39639001.0, Time: 10.528223030305785\n",
      "Peak value: 39639499.0, Time: 10.52947151515427\n",
      "Peak value: 39634500.0, Time: 10.531136161618917\n",
      "Peak value: 39640500.0, Time: 10.533633131315888\n",
      "Peak value: 39657501.0, Time: 10.534881616164373\n",
      "Peak value: 39632001.0, Time: 10.536962424245182\n",
      "Peak value: 39637000.0, Time: 10.537794747477506\n",
      "Peak value: 39625000.0, Time: 10.52447757576033\n",
      "Peak value: 39617499.0, Time: 10.51740282828558\n",
      "Peak value: 39618500.0, Time: 10.524893737376491\n",
      "Peak value: 39633499.0, Time: 10.519483636366388\n",
      "Peak value: 39635001.0, Time: 10.520315959598712\n",
      "Peak value: 39636499.0, Time: 10.521148282831035\n",
      "Peak value: 39634000.0, Time: 10.522812929295682\n",
      "Peak value: 39628000.0, Time: 10.523645252528006\n",
      "Peak value: 39634500.0, Time: 10.518651313134065\n",
      "Peak value: 39659500.0, Time: 10.55319272727549\n",
      "Peak value: 39673001.0, Time: 10.554025050507814\n",
      "Peak value: 39669000.0, Time: 10.5552735353563\n",
      "Peak value: 39666000.0, Time: 10.557354343437108\n",
      "Peak value: 39651501.0, Time: 10.552360404043167\n",
      "Peak value: 39678000.0, Time: 10.560683636366402\n",
      "Peak value: 39667999.0, Time: 10.561932121214888\n",
      "Peak value: 39679001.0, Time: 10.563180606063373\n",
      "Peak value: 39671500.0, Time: 10.564012929295696\n",
      "Peak value: 39654999.0, Time: 10.551944242427005\n",
      "Peak value: 39651001.0, Time: 10.539875555558314\n",
      "Peak value: 39660501.0, Time: 10.541956363639123\n",
      "Peak value: 39665500.0, Time: 10.54362101010377\n",
      "Peak value: 39670499.0, Time: 10.551528080810844\n",
      "Peak value: 39672501.0, Time: 10.545701818184579\n",
      "Peak value: 39674500.0, Time: 10.550279595962358\n",
      "Peak value: 39672000.0, Time: 10.564429090911858\n",
      "Peak value: 39622501.0, Time: 10.511160404043153\n",
      "Peak value: 39579999.0, Time: 10.474122020204756\n",
      "Peak value: 39584000.0, Time: 10.475370505053242\n",
      "Peak value: 39580499.0, Time: 10.476618989901727\n",
      "Peak value: 39579001.0, Time: 10.47745131313405\n",
      "Peak value: 39568500.0, Time: 10.478283636366374\n",
      "Peak value: 39587500.0, Time: 10.47953212121486\n",
      "Peak value: 39575500.0, Time: 10.482861414144153\n",
      "Peak value: 39573999.0, Time: 10.4845260606088\n",
      "Peak value: 39563000.0, Time: 10.459556363639095\n",
      "Peak value: 39556500.0, Time: 10.460388686871418\n",
      "Peak value: 39566501.0, Time: 10.462469494952227\n",
      "Peak value: 39557001.0, Time: 10.471625050507786\n",
      "Peak value: 39551001.0, Time: 10.466214949497683\n",
      "Peak value: 39567499.0, Time: 10.467463434346168\n",
      "Peak value: 39567001.0, Time: 10.468295757578492\n",
      "Peak value: 39564001.0, Time: 10.469128080810815\n",
      "Peak value: 39567001.0, Time: 10.469960404043139\n",
      "Peak value: 39557999.0, Time: 10.470792727275462\n",
      "Peak value: 39606000.0, Time: 10.511576565659315\n",
      "Peak value: 39589999.0, Time: 10.485774545457286\n",
      "Peak value: 39604501.0, Time: 10.50117252525527\n",
      "Peak value: 39607999.0, Time: 10.502004848487594\n",
      "Peak value: 39596500.0, Time: 10.503669494952241\n",
      "Peak value: 39594501.0, Time: 10.504501818184565\n",
      "Peak value: 39587500.0, Time: 10.504917979800727\n",
      "Peak value: 39608499.0, Time: 10.506582626265374\n",
      "Peak value: 39600500.0, Time: 10.507831111113859\n",
      "Peak value: 39621500.0, Time: 10.509911919194668\n",
      "Peak value: 39609500.0, Time: 10.510744242426991\n",
      "Peak value: 39587000.0, Time: 10.4986755555583\n",
      "Peak value: 39595499.0, Time: 10.487023030305771\n",
      "Peak value: 39600500.0, Time: 10.487855353538095\n",
      "Peak value: 39592499.0, Time: 10.489520000002742\n",
      "Peak value: 39576001.0, Time: 10.490352323235065\n",
      "Peak value: 39587000.0, Time: 10.498259393942138\n",
      "Peak value: 39602499.0, Time: 10.49368161616436\n",
      "Peak value: 39601999.0, Time: 10.494930101012844\n",
      "Peak value: 39609000.0, Time: 10.49617858586133\n",
      "Peak value: 39817001.0, Time: 10.633928080810872\n",
      "Peak value: 39820499.0, Time: 10.634760404043195\n",
      "Peak value: 39811499.0, Time: 10.635592727275519\n",
      "Peak value: 39814001.0, Time: 10.636841212124004\n",
      "Peak value: 39809500.0, Time: 10.637673535356328\n",
      "Peak value: 39814999.0, Time: 10.638505858588651\n",
      "Peak value: 39804501.0, Time: 10.639754343437136\n",
      "Peak value: 39823999.0, Time: 10.641002828285622\n",
      "Peak value: 39842999.0, Time: 10.642251313134107\n",
      "Peak value: 39831500.0, Time: 10.644332121214916\n",
      "Peak value: 39841501.0, Time: 10.644748282831078\n",
      "Peak value: 39768500.0, Time: 10.620194747477534\n",
      "Peak value: 39778500.0, Time: 10.621027070709857\n",
      "Peak value: 39785001.0, Time: 10.62185939394218\n",
      "Peak value: 39780499.0, Time: 10.623107878790666\n",
      "Peak value: 39801501.0, Time: 10.624356363639151\n",
      "Peak value: 39808499.0, Time: 10.631847272730063\n",
      "Peak value: 39814999.0, Time: 10.62643717171996\n",
      "Peak value: 39791000.0, Time: 10.627269494952284\n",
      "Peak value: 39801501.0, Time: 10.628101818184607\n",
      "Peak value: 39790500.0, Time: 10.629350303033092\n",
      "Peak value: 39805499.0, Time: 10.63101494949774\n",
      "Peak value: 39847000.0, Time: 10.64516444444724\n",
      "Peak value: 39866501.0, Time: 10.6597301010129\n",
      "Peak value: 39876501.0, Time: 10.660562424245224\n",
      "Peak value: 39881000.0, Time: 10.662227070709871\n",
      "Peak value: 39868500.0, Time: 10.663475555558357\n",
      "Peak value: 39889499.0, Time: 10.668469494952298\n",
      "Peak value: 39881500.0, Time: 10.669301818184621\n",
      "Peak value: 39882001.0, Time: 10.670134141416945\n",
      "Peak value: 39867999.0, Time: 10.665556363639165\n",
      "Peak value: 39864499.0, Time: 10.658897777780577\n",
      "Peak value: 39870999.0, Time: 10.650990707073504\n",
      "Peak value: 39878000.0, Time: 10.658481616164416\n",
      "Peak value: 39878000.0, Time: 10.652655353538151\n",
      "Peak value: 39873499.0, Time: 10.653487676770474\n",
      "Peak value: 39876501.0, Time: 10.654320000002798\n",
      "Peak value: 39876001.0, Time: 10.655152323235122\n",
      "Peak value: 39863501.0, Time: 10.655984646467445\n",
      "Peak value: 39862500.0, Time: 10.65223919192199\n",
      "Peak value: 39764001.0, Time: 10.618113939396725\n",
      "Peak value: 39729001.0, Time: 10.579827070709843\n",
      "Peak value: 39727499.0, Time: 10.584404848487623\n",
      "Peak value: 39726001.0, Time: 10.584821010103784\n",
      "Peak value: 39746500.0, Time: 10.58606949495227\n",
      "Peak value: 39729999.0, Time: 10.588150303033078\n",
      "Peak value: 39739999.0, Time: 10.589814949497725\n",
      "Peak value: 39715500.0, Time: 10.590647272730049\n",
      "Peak value: 39726999.0, Time: 10.59106343434621\n",
      "Peak value: 39674500.0, Time: 10.566509898992667\n",
      "Peak value: 39694501.0, Time: 10.56734222222499\n",
      "Peak value: 39703000.0, Time: 10.568174545457314\n",
      "Peak value: 39695001.0, Time: 10.569006868689637\n",
      "Peak value: 39701501.0, Time: 10.569839191921961\n",
      "Peak value: 39716000.0, Time: 10.578162424245196\n",
      "Peak value: 39694501.0, Time: 10.572336161618932\n",
      "Peak value: 39699500.0, Time: 10.574000808083579\n",
      "Peak value: 39714001.0, Time: 10.575249292932064\n",
      "Peak value: 39716000.0, Time: 10.57691393939671\n",
      "Peak value: 39723499.0, Time: 10.591479595962372\n",
      "Peak value: 39738000.0, Time: 10.592311919194696\n",
      "Peak value: 39748001.0, Time: 10.60729373737652\n",
      "Peak value: 39766000.0, Time: 10.608958383841166\n",
      "Peak value: 39754999.0, Time: 10.611039191921975\n",
      "Peak value: 39751001.0, Time: 10.611871515154299\n",
      "Peak value: 39754501.0, Time: 10.61686545454824\n",
      "Peak value: 39757999.0, Time: 10.617697777780563\n",
      "Peak value: 39744000.0, Time: 10.604796767679549\n",
      "Peak value: 39739999.0, Time: 10.593976565659343\n",
      "Peak value: 39734000.0, Time: 10.594808888891666\n",
      "Peak value: 39739999.0, Time: 10.596473535356314\n",
      "Peak value: 39750500.0, Time: 10.601467474750255\n",
      "Peak value: 39726501.0, Time: 10.603132121214902\n",
      "Peak value: 39729999.0, Time: 10.603964444447225\n",
      "Peak value: 39865500.0, Time: 10.67138262626543\n",
      "Peak value: 39545499.0, Time: 10.457891717174448\n",
      "Peak value: 39333499.0, Time: 10.313067474750156\n",
      "Peak value: 39332001.0, Time: 10.316812929295612\n",
      "Peak value: 39347000.0, Time: 10.318061414144097\n",
      "Peak value: 39348999.0, Time: 10.319309898992582\n",
      "Peak value: 39341501.0, Time: 10.320142222224906\n",
      "Peak value: 39346500.0, Time: 10.32097454545723\n",
      "Peak value: 39342499.0, Time: 10.321806868689553\n",
      "Peak value: 39334500.0, Time: 10.322639191921876\n",
      "Peak value: 39360001.0, Time: 10.318477575760259\n",
      "Peak value: 39358499.0, Time: 10.31181898990167\n",
      "Peak value: 39339999.0, Time: 10.29975030303298\n",
      "Peak value: 39345499.0, Time: 10.300582626265303\n",
      "Peak value: 39336499.0, Time: 10.301414949497627\n",
      "Peak value: 39334000.0, Time: 10.303079595962274\n",
      "Peak value: 39355499.0, Time: 10.311402828285509\n",
      "Peak value: 39344000.0, Time: 10.30682505050773\n",
      "Peak value: 39349500.0, Time: 10.308489696972376\n",
      "Peak value: 39352499.0, Time: 10.310154343437024\n",
      "Peak value: 39367001.0, Time: 10.324720000002685\n",
      "Peak value: 39385001.0, Time: 10.339701818184508\n",
      "Peak value: 39394000.0, Time: 10.340534141416832\n",
      "Peak value: 39394501.0, Time: 10.342198787881479\n",
      "Peak value: 39388000.0, Time: 10.343031111113802\n",
      "Peak value: 39397000.0, Time: 10.34469575757845\n",
      "Peak value: 39382001.0, Time: 10.34968969697239\n",
      "Peak value: 39382999.0, Time: 10.345111919194611\n",
      "Peak value: 39387500.0, Time: 10.338453333336023\n",
      "Peak value: 39344000.0, Time: 10.326800808083494\n",
      "Peak value: 39362500.0, Time: 10.328465454548141\n",
      "Peak value: 39368500.0, Time: 10.329297777780464\n",
      "Peak value: 39356500.0, Time: 10.338037171719861\n",
      "Peak value: 39354501.0, Time: 10.332627070709758\n",
      "Peak value: 39379001.0, Time: 10.333875555558244\n",
      "Peak value: 39368500.0, Time: 10.334707878790567\n",
      "Peak value: 39373001.0, Time: 10.33554020202289\n",
      "Peak value: 39369000.0, Time: 10.336788686871376\n",
      "Peak value: 39385999.0, Time: 10.350938181820876\n",
      "Peak value: 39341501.0, Time: 10.259382626265289\n",
      "Peak value: 39343500.0, Time: 10.261463434346098\n",
      "Peak value: 39337000.0, Time: 10.26437656565923\n",
      "Peak value: 39338000.0, Time: 10.266041212123877\n",
      "Peak value: 39348001.0, Time: 10.267705858588524\n",
      "Peak value: 39328000.0, Time: 10.268538181820848\n",
      "Peak value: 39332501.0, Time: 10.269370505053171\n",
      "Peak value: 39332001.0, Time: 10.270202828285495\n",
      "Peak value: 39350500.0, Time: 10.271035151517818\n",
      "Peak value: 39348001.0, Time: 10.257717979800642\n",
      "Peak value: 39328000.0, Time: 10.249394747477407\n",
      "Peak value: 39342001.0, Time: 10.25022707070973\n",
      "Peak value: 39344000.0, Time: 10.258134141416804\n",
      "Peak value: 39340500.0, Time: 10.2527240404067\n",
      "Peak value: 39335001.0, Time: 10.253972525255186\n",
      "Peak value: 39339499.0, Time: 10.25480484848751\n",
      "Peak value: 39322000.0, Time: 10.255637171719833\n",
      "Peak value: 39348499.0, Time: 10.25730181818448\n",
      "Peak value: 39332001.0, Time: 10.27145131313398\n",
      "Peak value: 39341501.0, Time: 10.286016969699642\n",
      "Peak value: 39327499.0, Time: 10.287265454548127\n",
      "Peak value: 39321500.0, Time: 10.288513939396612\n",
      "Peak value: 39325000.0, Time: 10.289346262628936\n",
      "Peak value: 39323001.0, Time: 10.29059474747742\n",
      "Peak value: 39335501.0, Time: 10.28560080808348\n",
      "Peak value: 39342499.0, Time: 10.293091717174391\n",
      "Peak value: 39348001.0, Time: 10.294756363639038\n",
      "Peak value: 39355499.0, Time: 10.295588686871362\n",
      "Peak value: 39332001.0, Time: 10.285184646467318\n",
      "Peak value: 39328000.0, Time: 10.272699797982465\n",
      "Peak value: 39343500.0, Time: 10.274364444447112\n",
      "Peak value: 39344000.0, Time: 10.27602909091176\n",
      "Peak value: 39332001.0, Time: 10.284768484851156\n",
      "Peak value: 39336499.0, Time: 10.279358383841053\n",
      "Peak value: 39334500.0, Time: 10.283520000002671\n",
      "Peak value: 39504501.0, Time: 10.420021010103728\n",
      "Peak value: 39495001.0, Time: 10.422101818184537\n",
      "Peak value: 39512000.0, Time: 10.424182626265345\n",
      "Peak value: 39508499.0, Time: 10.425014949497669\n",
      "Peak value: 39503000.0, Time: 10.426679595962316\n",
      "Peak value: 39512500.0, Time: 10.427928080810801\n",
      "Peak value: 39513000.0, Time: 10.430841212123934\n",
      "Peak value: 39514001.0, Time: 10.431257373740095\n",
      "Peak value: 39486499.0, Time: 10.417940202022919\n",
      "Peak value: 39470499.0, Time: 10.406703838386552\n",
      "Peak value: 39473499.0, Time: 10.408368484851199\n",
      "Peak value: 39487500.0, Time: 10.409616969699684\n",
      "Peak value: 39485999.0, Time: 10.41086545454817\n",
      "Peak value: 39488501.0, Time: 10.41835636363908\n",
      "Peak value: 39492499.0, Time: 10.412530101012816\n",
      "Peak value: 39487000.0, Time: 10.416275555558272\n",
      "Peak value: 39534500.0, Time: 10.446239191921919\n",
      "Peak value: 39535501.0, Time: 10.449984646467374\n",
      "Peak value: 39548001.0, Time: 10.445823030305757\n",
      "Peak value: 39547000.0, Time: 10.452481616164345\n",
      "Peak value: 39553500.0, Time: 10.454146262628992\n",
      "Peak value: 39562500.0, Time: 10.455810909093639\n",
      "Peak value: 39534000.0, Time: 10.456643232325963\n",
      "Peak value: 39542001.0, Time: 10.457475555558286\n",
      "Peak value: 39517999.0, Time: 10.445406868689595\n",
      "Peak value: 39517999.0, Time: 10.432922020204742\n",
      "Peak value: 39526501.0, Time: 10.435418989901713\n",
      "Peak value: 39519501.0, Time: 10.436251313134036\n",
      "Peak value: 39525500.0, Time: 10.43708363636636\n",
      "Peak value: 39530499.0, Time: 10.438332121214845\n",
      "Peak value: 39543500.0, Time: 10.43958060606333\n",
      "Peak value: 39535999.0, Time: 10.44166141414414\n",
      "Peak value: 39541501.0, Time: 10.443326060608786\n",
      "Peak value: 39417001.0, Time: 10.366336161618861\n",
      "Peak value: 39415500.0, Time: 10.367584646467346\n",
      "Peak value: 39429501.0, Time: 10.368833131315832\n",
      "Peak value: 39419000.0, Time: 10.369665454548155\n",
      "Peak value: 39427499.0, Time: 10.370497777780479\n",
      "Peak value: 39414499.0, Time: 10.365503838386537\n",
      "Peak value: 39435501.0, Time: 10.372162424245126\n",
      "Peak value: 39431000.0, Time: 10.372994747477449\n",
      "Peak value: 39436499.0, Time: 10.375075555558258\n",
      "Peak value: 39432001.0, Time: 10.375907878790581\n",
      "Peak value: 39438000.0, Time: 10.377156363639067\n",
      "Peak value: 39423001.0, Time: 10.377572525255228\n",
      "Peak value: 39400000.0, Time: 10.353435151517846\n",
      "Peak value: 39393500.0, Time: 10.355099797982493\n",
      "Peak value: 39392499.0, Time: 10.355932121214817\n",
      "Peak value: 39389499.0, Time: 10.35676444444714\n",
      "Peak value: 39412500.0, Time: 10.364671515154214\n",
      "Peak value: 39411499.0, Time: 10.360093737376435\n",
      "Peak value: 39413000.0, Time: 10.360926060608758\n",
      "Peak value: 39410501.0, Time: 10.362174545457243\n",
      "Peak value: 39410001.0, Time: 10.36383919192189\n",
      "Peak value: 39464499.0, Time: 10.393802828285537\n",
      "Peak value: 39463501.0, Time: 10.395051313134022\n",
      "Peak value: 39452499.0, Time: 10.397964444447155\n",
      "Peak value: 39469000.0, Time: 10.400461414144125\n",
      "Peak value: 39467001.0, Time: 10.401293737376449\n",
      "Peak value: 39470999.0, Time: 10.402542222224934\n",
      "Peak value: 39472501.0, Time: 10.403374545457257\n",
      "Peak value: 39447000.0, Time: 10.391305858588566\n",
      "Peak value: 39442499.0, Time: 10.382982626265331\n",
      "Peak value: 39445999.0, Time: 10.385479595962302\n",
      "Peak value: 39443500.0, Time: 10.386728080810787\n",
      "Peak value: 39444000.0, Time: 10.387976565659272\n",
      "Peak value: 39442001.0, Time: 10.388808888891596\n",
      "Peak value: 39451501.0, Time: 10.390057373740081\n",
      "Peak value: 41918500.0, Time: 11.951911919195162\n",
      "Peak value: 40410999.0, Time: 10.95312404040694\n",
      "Peak value: 40406500.0, Time: 10.955621010103911\n",
      "Peak value: 40400000.0, Time: 10.956869494952397\n",
      "Peak value: 40399500.0, Time: 10.958117979800882\n",
      "Peak value: 40400000.0, Time: 10.958534141417044\n",
      "Peak value: 40399500.0, Time: 10.96019878788169\n",
      "Peak value: 40403500.0, Time: 10.961863434346338\n",
      "Peak value: 40397501.0, Time: 10.963111919194823\n",
      "Peak value: 40415500.0, Time: 10.958950303033205\n",
      "Peak value: 40335501.0, Time: 10.94105535353825\n",
      "Peak value: 40371500.0, Time: 10.942303838386735\n",
      "Peak value: 40384500.0, Time: 10.951875555558455\n",
      "Peak value: 40372501.0, Time: 10.947297777780676\n",
      "Peak value: 40385999.0, Time: 10.951043232326132\n",
      "Peak value: 40423999.0, Time: 10.979758383841293\n",
      "Peak value: 40439499.0, Time: 10.981006868689779\n",
      "Peak value: 40455499.0, Time: 10.984752323235234\n",
      "Peak value: 40456500.0, Time: 10.986416969699881\n",
      "Peak value: 40454999.0, Time: 10.987249292932205\n",
      "Peak value: 40448499.0, Time: 10.988081616164528\n",
      "Peak value: 40453000.0, Time: 10.989330101013014\n",
      "Peak value: 40464499.0, Time: 10.990162424245337\n",
      "Peak value: 40423001.0, Time: 10.978093737376646\n",
      "Peak value: 40442499.0, Time: 10.968938181821088\n",
      "Peak value: 40439999.0, Time: 10.970186666669573\n",
      "Peak value: 40432501.0, Time: 10.971018989901896\n",
      "Peak value: 40429501.0, Time: 10.97185131313422\n",
      "Peak value: 40423001.0, Time: 10.973099797982705\n",
      "Peak value: 40420499.0, Time: 10.973932121215029\n",
      "Peak value: 40419501.0, Time: 10.974764444447352\n",
      "Peak value: 40439001.0, Time: 10.976429090912\n",
      "Peak value: 40438000.0, Time: 10.977677575760485\n",
      "Peak value: 40458499.0, Time: 10.991410909093823\n",
      "Peak value: 40335999.0, Time: 10.938142222225117\n",
      "Peak value: 40317999.0, Time: 10.901103838386721\n",
      "Peak value: 40328500.0, Time: 10.902352323235206\n",
      "Peak value: 40322501.0, Time: 10.904849292932177\n",
      "Peak value: 40314499.0, Time: 10.905265454548339\n",
      "Peak value: 40292999.0, Time: 10.906930101012986\n",
      "Peak value: 40285999.0, Time: 10.907762424245309\n",
      "Peak value: 40328500.0, Time: 10.909427070709956\n",
      "Peak value: 40314499.0, Time: 10.91025939394228\n",
      "Peak value: 40310001.0, Time: 10.911091717174603\n",
      "Peak value: 40333499.0, Time: 10.88653818182106\n",
      "Peak value: 40326001.0, Time: 10.887786666669545\n",
      "Peak value: 40331500.0, Time: 10.88903515151803\n",
      "Peak value: 40320999.0, Time: 10.889867474750353\n",
      "Peak value: 40328500.0, Time: 10.891115959598839\n",
      "Peak value: 40320499.0, Time: 10.891948282831162\n",
      "Peak value: 40317999.0, Time: 10.89361292929581\n",
      "Peak value: 40326001.0, Time: 10.894861414144295\n",
      "Peak value: 40312500.0, Time: 10.896526060608942\n",
      "Peak value: 40312500.0, Time: 10.897358383841265\n",
      "Peak value: 40332501.0, Time: 10.93855838384128\n",
      "Peak value: 40316000.0, Time: 10.926489696972588\n",
      "Peak value: 40331000.0, Time: 10.927738181821073\n",
      "Peak value: 40304999.0, Time: 10.930235151518044\n",
      "Peak value: 40329999.0, Time: 10.926073535356426\n",
      "Peak value: 40348499.0, Time: 10.934812929295823\n",
      "Peak value: 40363000.0, Time: 10.935645252528147\n",
      "Peak value: 40337000.0, Time: 10.937726060608956\n",
      "Peak value: 40321500.0, Time: 10.925657373740265\n",
      "Peak value: 40317001.0, Time: 10.913588686871574\n",
      "Peak value: 40305499.0, Time: 10.917750303033191\n",
      "Peak value: 40316000.0, Time: 10.925241212124103\n",
      "Peak value: 40303000.0, Time: 10.919414949497838\n",
      "Peak value: 40313000.0, Time: 10.920663434346324\n",
      "Peak value: 40322000.0, Time: 10.921911919194809\n",
      "Peak value: 40330499.0, Time: 10.922744242427132\n",
      "Peak value: 40328000.0, Time: 10.923576565659456\n",
      "Peak value: 40328500.0, Time: 10.92440888889178\n",
      "Peak value: 40450000.0, Time: 10.992243232326146\n",
      "Peak value: 40532501.0, Time: 11.060077575760513\n",
      "Peak value: 40532501.0, Time: 11.06174222222516\n",
      "Peak value: 40529501.0, Time: 11.062990707073645\n",
      "Peak value: 40529001.0, Time: 11.06423919192213\n",
      "Peak value: 40519501.0, Time: 11.066736161619101\n",
      "Peak value: 40529999.0, Time: 11.069233131316071\n",
      "Peak value: 40525500.0, Time: 11.070065454548395\n",
      "Peak value: 40535501.0, Time: 11.07131393939688\n",
      "Peak value: 40532999.0, Time: 11.071730101013042\n",
      "Peak value: 40512000.0, Time: 11.047176565659498\n",
      "Peak value: 40511499.0, Time: 11.051754343437278\n",
      "Peak value: 40517499.0, Time: 11.05217050505344\n",
      "Peak value: 40520499.0, Time: 11.053418989901925\n",
      "Peak value: 40504001.0, Time: 11.055083636366572\n",
      "Peak value: 40527499.0, Time: 11.056332121215057\n",
      "Peak value: 40515500.0, Time: 11.057996767679704\n",
      "Peak value: 40534000.0, Time: 11.072978585861527\n",
      "Peak value: 40529001.0, Time: 11.087128080811027\n",
      "Peak value: 40543500.0, Time: 11.089208888891836\n",
      "Peak value: 40532001.0, Time: 11.09004121212416\n",
      "Peak value: 40535001.0, Time: 11.091705858588806\n",
      "Peak value: 40545001.0, Time: 11.093370505053453\n",
      "Peak value: 40541501.0, Time: 11.0950351515181\n",
      "Peak value: 40556500.0, Time: 11.096283636366586\n",
      "Peak value: 40547000.0, Time: 11.097532121215071\n",
      "Peak value: 40528500.0, Time: 11.072562424245366\n",
      "Peak value: 40531000.0, Time: 11.073394747477689\n",
      "Peak value: 40527499.0, Time: 11.074227070710013\n",
      "Peak value: 40526501.0, Time: 11.075475555558498\n",
      "Peak value: 40537500.0, Time: 11.076724040406983\n",
      "Peak value: 40544501.0, Time: 11.077972525255468\n",
      "Peak value: 40534500.0, Time: 11.080053333336277\n",
      "Peak value: 40523999.0, Time: 11.081301818184762\n",
      "Peak value: 40528000.0, Time: 11.079221010103954\n",
      "Peak value: 40495499.0, Time: 11.04509575757869\n",
      "Peak value: 40445999.0, Time: 11.006808888891808\n",
      "Peak value: 40447501.0, Time: 11.008057373740293\n",
      "Peak value: 40445999.0, Time: 11.008889696972616\n",
      "Peak value: 40467999.0, Time: 11.010138181821102\n",
      "Peak value: 40459500.0, Time: 11.011386666669587\n",
      "Peak value: 40442001.0, Time: 11.011802828285749\n",
      "Peak value: 40469501.0, Time: 11.013883636366558\n",
      "Peak value: 40455499.0, Time: 11.017629090912013\n",
      "Peak value: 40459000.0, Time: 11.018045252528175\n",
      "Peak value: 40461499.0, Time: 10.994740202023117\n",
      "Peak value: 40453000.0, Time: 10.995988686871602\n",
      "Peak value: 40469501.0, Time: 10.997237171720087\n",
      "Peak value: 40448499.0, Time: 10.99806949495241\n",
      "Peak value: 40448499.0, Time: 10.999734141417058\n",
      "Peak value: 40452499.0, Time: 11.001814949497867\n",
      "Peak value: 40454001.0, Time: 11.00264727273019\n",
      "Peak value: 40454501.0, Time: 11.003479595962514\n",
      "Peak value: 40454501.0, Time: 11.004311919194837\n",
      "Peak value: 40473001.0, Time: 11.018461414144337\n",
      "Peak value: 40475000.0, Time: 11.01929373737666\n",
      "Peak value: 40475000.0, Time: 11.033859393942322\n",
      "Peak value: 40489001.0, Time: 11.035524040406969\n",
      "Peak value: 40482501.0, Time: 11.036356363639293\n",
      "Peak value: 40491501.0, Time: 11.037604848487778\n",
      "Peak value: 40475500.0, Time: 11.038437171720101\n",
      "Peak value: 40488501.0, Time: 11.039685656568587\n",
      "Peak value: 40476999.0, Time: 11.040934141417072\n",
      "Peak value: 40476001.0, Time: 11.042598787881719\n",
      "Peak value: 40494000.0, Time: 11.043431111114042\n",
      "Peak value: 40486499.0, Time: 11.044263434346366\n",
      "Peak value: 40498999.0, Time: 11.039269494952425\n",
      "Peak value: 40479999.0, Time: 11.019709898992822\n",
      "Peak value: 40473001.0, Time: 11.020958383841307\n",
      "Peak value: 40473001.0, Time: 11.022206868689793\n",
      "Peak value: 40473001.0, Time: 11.023455353538278\n",
      "Peak value: 40476001.0, Time: 11.024703838386763\n",
      "Peak value: 40469000.0, Time: 11.02636848485141\n",
      "Peak value: 40484500.0, Time: 11.028033131316057\n",
      "Peak value: 40478000.0, Time: 11.02886545454838\n",
      "Peak value: 40489001.0, Time: 11.029697777780704\n",
      "Peak value: 40479001.0, Time: 11.030530101013028\n",
      "Peak value: 40473999.0, Time: 11.031362424245351\n",
      "Peak value: 40326001.0, Time: 10.884873535356412\n",
      "Peak value: 40056000.0, Time: 10.740465454548282\n",
      "Peak value: 40062000.0, Time: 10.74254626262909\n",
      "Peak value: 40056500.0, Time: 10.7446270707099\n",
      "Peak value: 40056500.0, Time: 10.745875555558385\n",
      "Peak value: 40078500.0, Time: 10.750869494952326\n",
      "Peak value: 40082001.0, Time: 10.751285656568488\n",
      "Peak value: 40006500.0, Time: 10.727564444447268\n",
      "Peak value: 40018500.0, Time: 10.728812929295753\n",
      "Peak value: 40017499.0, Time: 10.729645252528076\n",
      "Peak value: 40042499.0, Time: 10.738384646467473\n",
      "Peak value: 40051501.0, Time: 10.734639191922017\n",
      "Peak value: 40054001.0, Time: 10.735887676770503\n",
      "Peak value: 40037500.0, Time: 10.73755232323515\n",
      "Peak value: 40093500.0, Time: 10.75170181818465\n",
      "Peak value: 40112000.0, Time: 10.76834828283112\n",
      "Peak value: 40110501.0, Time: 10.769180606063443\n",
      "Peak value: 40096500.0, Time: 10.770429090911929\n",
      "Peak value: 40088501.0, Time: 10.76585131313415\n",
      "Peak value: 40087500.0, Time: 10.772509898992737\n",
      "Peak value: 40095499.0, Time: 10.775006868689708\n",
      "Peak value: 40103500.0, Time: 10.775839191922032\n",
      "Peak value: 40114999.0, Time: 10.777503838386679\n",
      "Peak value: 40088000.0, Time: 10.765435151517988\n",
      "Peak value: 40105499.0, Time: 10.75419878788162\n",
      "Peak value: 40095001.0, Time: 10.755031111113944\n",
      "Peak value: 40089499.0, Time: 10.756279595962429\n",
      "Peak value: 40088000.0, Time: 10.765018989901826\n",
      "Peak value: 40087500.0, Time: 10.759608888891723\n",
      "Peak value: 40090500.0, Time: 10.760857373740208\n",
      "Peak value: 40086499.0, Time: 10.762938181821017\n",
      "Peak value: 40087000.0, Time: 10.764186666669502\n",
      "Peak value: 40098999.0, Time: 10.77792000000284\n",
      "Peak value: 39997501.0, Time: 10.724651313134135\n",
      "Peak value: 39926001.0, Time: 10.687196767679577\n",
      "Peak value: 39926501.0, Time: 10.688445252528062\n",
      "Peak value: 39910501.0, Time: 10.689693737376547\n",
      "Peak value: 39917001.0, Time: 10.690942222225033\n",
      "Peak value: 39937000.0, Time: 10.69260686868968\n",
      "Peak value: 39929001.0, Time: 10.693439191922003\n",
      "Peak value: 39942001.0, Time: 10.694687676770489\n",
      "Peak value: 39942999.0, Time: 10.695936161618974\n",
      "Peak value: 39932999.0, Time: 10.697600808083621\n",
      "Peak value: 39934000.0, Time: 10.698016969699783\n",
      "Peak value: 39885001.0, Time: 10.674295757578562\n",
      "Peak value: 39901001.0, Time: 10.67596040404321\n",
      "Peak value: 39912500.0, Time: 10.677208888891695\n",
      "Peak value: 39904001.0, Time: 10.685115959598768\n",
      "Peak value: 39895499.0, Time: 10.679705858588665\n",
      "Peak value: 39913000.0, Time: 10.683867474750283\n",
      "Peak value: 39988501.0, Time: 10.725067474750297\n",
      "Peak value: 40001001.0, Time: 10.717160404043224\n",
      "Peak value: 40008499.0, Time: 10.719657373740194\n",
      "Peak value: 40019000.0, Time: 10.72090585858868\n",
      "Peak value: 40011499.0, Time: 10.722986666669488\n",
      "Peak value: 40006500.0, Time: 10.71882505050787\n",
      "Peak value: 39979001.0, Time: 10.711334141416959\n",
      "Peak value: 39939001.0, Time: 10.700097777780591\n",
      "Peak value: 39957999.0, Time: 10.701346262629077\n",
      "Peak value: 39960501.0, Time: 10.702594747477562\n",
      "Peak value: 39968500.0, Time: 10.703427070709886\n",
      "Peak value: 39979999.0, Time: 10.71175030303312\n",
      "Peak value: 39952499.0, Time: 10.70675636363918\n",
      "Peak value: 39962000.0, Time: 10.708004848487665\n",
      "Peak value: 39981000.0, Time: 10.70925333333615\n",
      "Peak value: 39979501.0, Time: 10.710501818184635\n",
      "Peak value: 40119501.0, Time: 10.778336161619002\n",
      "Peak value: 40272501.0, Time: 10.851580606063472\n",
      "Peak value: 40285501.0, Time: 10.853245252528119\n",
      "Peak value: 40285501.0, Time: 10.854909898992766\n",
      "Peak value: 40282999.0, Time: 10.85574222222509\n",
      "Peak value: 40289499.0, Time: 10.856574545457413\n",
      "Peak value: 40276999.0, Time: 10.852412929295795\n",
      "Peak value: 40225500.0, Time: 10.83451797980084\n",
      "Peak value: 40236499.0, Time: 10.835350303033163\n",
      "Peak value: 40230499.0, Time: 10.837847272730134\n",
      "Peak value: 40245499.0, Time: 10.845338181821045\n",
      "Peak value: 40220499.0, Time: 10.840344242427104\n",
      "Peak value: 40235001.0, Time: 10.84159272727559\n",
      "Peak value: 40241501.0, Time: 10.843257373740236\n",
      "Peak value: 40226999.0, Time: 10.844505858588722\n",
      "Peak value: 40275500.0, Time: 10.873221010103883\n",
      "Peak value: 40282501.0, Time: 10.874053333336207\n",
      "Peak value: 40304501.0, Time: 10.875717979800854\n",
      "Peak value: 40300500.0, Time: 10.876550303033177\n",
      "Peak value: 40320001.0, Time: 10.8773826262655\n",
      "Peak value: 40327499.0, Time: 10.884041212124089\n",
      "Peak value: 40307999.0, Time: 10.871556363639236\n",
      "Peak value: 40276001.0, Time: 10.861152323235192\n",
      "Peak value: 40292999.0, Time: 10.861984646467516\n",
      "Peak value: 40279001.0, Time: 10.863233131316\n",
      "Peak value: 40307501.0, Time: 10.871972525255398\n",
      "Peak value: 40293500.0, Time: 10.867394747477618\n",
      "Peak value: 40301001.0, Time: 10.868643232326104\n",
      "Peak value: 40300000.0, Time: 10.869891717174589\n",
      "Peak value: 40294000.0, Time: 10.871140202023074\n",
      "Peak value: 40129001.0, Time: 10.794150303033149\n",
      "Peak value: 40144000.0, Time: 10.794982626265472\n",
      "Peak value: 40141000.0, Time: 10.796231111113958\n",
      "Peak value: 40148499.0, Time: 10.797895757578605\n",
      "Peak value: 40164999.0, Time: 10.800808888891737\n",
      "Peak value: 40170499.0, Time: 10.80164121212406\n",
      "Peak value: 40180499.0, Time: 10.802473535356384\n",
      "Peak value: 40160501.0, Time: 10.80372202020487\n",
      "Peak value: 40160501.0, Time: 10.804554343437193\n",
      "Peak value: 40129501.0, Time: 10.791237171720017\n",
      "Peak value: 40107501.0, Time: 10.78000080808365\n",
      "Peak value: 40126001.0, Time: 10.791653333336178\n",
      "Peak value: 40134000.0, Time: 10.786243232326076\n",
      "Peak value: 40135501.0, Time: 10.78749171717456\n",
      "Peak value: 40130499.0, Time: 10.788324040406884\n",
      "Peak value: 40126999.0, Time: 10.78957252525537\n",
      "Peak value: 40129001.0, Time: 10.790404848487693\n",
      "Peak value: 40208499.0, Time: 10.82036848485134\n",
      "Peak value: 40205499.0, Time: 10.821200808083663\n",
      "Peak value: 40185501.0, Time: 10.822449292932149\n",
      "Peak value: 40192999.0, Time: 10.823281616164472\n",
      "Peak value: 40207501.0, Time: 10.824113939396796\n",
      "Peak value: 40195001.0, Time: 10.824946262629119\n",
      "Peak value: 40189999.0, Time: 10.82536242424528\n",
      "Peak value: 40213000.0, Time: 10.827027070709928\n",
      "Peak value: 40212000.0, Time: 10.828275555558413\n",
      "Peak value: 40214499.0, Time: 10.82994020202306\n",
      "Peak value: 40212500.0, Time: 10.831188686871545\n",
      "Peak value: 40192001.0, Time: 10.819120000002854\n",
      "Peak value: 40192001.0, Time: 10.818287676770531\n",
      "Peak value: 40155499.0, Time: 10.806635151518002\n",
      "Peak value: 40154001.0, Time: 10.807467474750325\n",
      "Peak value: 40170999.0, Time: 10.809132121214972\n",
      "Peak value: 40167999.0, Time: 10.809964444447296\n",
      "Peak value: 40170999.0, Time: 10.811629090911943\n",
      "Peak value: 40167001.0, Time: 10.812461414144266\n",
      "Peak value: 40185999.0, Time: 10.817455353538207\n",
      "Peak value: 43789001.0, Time: 13.090530101013734\n",
      "Peak value: 43781500.0, Time: 13.091362424246057\n",
      "Peak value: 43800500.0, Time: 13.09219474747838\n",
      "Peak value: 43826501.0, Time: 13.09427555555919\n",
      "Peak value: 43829001.0, Time: 13.095107878791513\n",
      "Peak value: 43837500.0, Time: 13.096356363639998\n",
      "Peak value: 43828000.0, Time: 13.098021010104645\n",
      "Peak value: 43826501.0, Time: 13.098853333336969\n",
      "Peak value: 43822000.0, Time: 13.09926949495313\n",
      "Peak value: 43735999.0, Time: 13.075132121215749\n",
      "Peak value: 43729001.0, Time: 13.075964444448072\n",
      "Peak value: 43753500.0, Time: 13.076796767680396\n",
      "Peak value: 43754999.0, Time: 13.07804525252888\n",
      "Peak value: 43792999.0, Time: 13.086368484852116\n",
      "Peak value: 43773499.0, Time: 13.080958383842013\n",
      "Peak value: 43781000.0, Time: 13.081790707074337\n",
      "Peak value: 43788501.0, Time: 13.083455353538984\n",
      "Peak value: 43780499.0, Time: 13.084287676771307\n",
      "Peak value: 43785999.0, Time: 13.08512000000363\n",
      "Peak value: 43847501.0, Time: 13.099685656569292\n",
      "Peak value: 43906000.0, Time: 13.114251313134954\n",
      "Peak value: 43904501.0, Time: 13.115083636367277\n",
      "Peak value: 43916000.0, Time: 13.116332121215763\n",
      "Peak value: 43926001.0, Time: 13.11799676768041\n",
      "Peak value: 43923999.0, Time: 13.119245252528895\n",
      "Peak value: 43931500.0, Time: 13.119661414145057\n",
      "Peak value: 43938000.0, Time: 13.124239191922836\n",
      "Peak value: 43945999.0, Time: 13.120077575761218\n",
      "Peak value: 43898999.0, Time: 13.112586666670307\n",
      "Peak value: 43877499.0, Time: 13.102182626266263\n",
      "Peak value: 43880499.0, Time: 13.103014949498586\n",
      "Peak value: 43895001.0, Time: 13.113002828286469\n",
      "Peak value: 43882501.0, Time: 13.108008888892527\n",
      "Peak value: 43885501.0, Time: 13.109673535357175\n",
      "Peak value: 43894501.0, Time: 13.111338181821822\n",
      "Peak value: 43942999.0, Time: 13.125903838387483\n",
      "Peak value: 43950000.0, Time: 13.034764444448058\n",
      "Peak value: 43964999.0, Time: 13.035596767680381\n",
      "Peak value: 43960001.0, Time: 13.036429090912705\n",
      "Peak value: 43944000.0, Time: 13.033932121215734\n",
      "Peak value: 43956000.0, Time: 13.041423030306646\n",
      "Peak value: 43956000.0, Time: 13.043087676771293\n",
      "Peak value: 43797000.0, Time: 13.045168484852102\n",
      "Peak value: 43931500.0, Time: 13.04017454545816\n",
      "Peak value: 43943500.0, Time: 13.03268363636725\n",
      "Peak value: 43931000.0, Time: 13.025192727276337\n",
      "Peak value: 43935501.0, Time: 13.033099797983411\n",
      "Peak value: 43929001.0, Time: 13.027689696973308\n",
      "Peak value: 43938501.0, Time: 13.028938181821793\n",
      "Peak value: 43926001.0, Time: 13.029770505054117\n",
      "Peak value: 43950000.0, Time: 13.031435151518764\n",
      "Peak value: 43789001.0, Time: 13.046416969700587\n",
      "Peak value: 43730499.0, Time: 13.061814949498572\n",
      "Peak value: 43729001.0, Time: 13.062647272730896\n",
      "Peak value: 43738000.0, Time: 13.064728080811705\n",
      "Peak value: 43741501.0, Time: 13.065560404044028\n",
      "Peak value: 43747000.0, Time: 13.067641212124837\n",
      "Peak value: 43757501.0, Time: 13.06847353535716\n",
      "Peak value: 43778500.0, Time: 13.070138181821807\n",
      "Peak value: 43779501.0, Time: 13.046833131316749\n",
      "Peak value: 43765500.0, Time: 13.047665454549072\n",
      "Peak value: 43782999.0, Time: 13.04933010101372\n",
      "Peak value: 43787500.0, Time: 13.050162424246043\n",
      "Peak value: 43776501.0, Time: 13.051410909094528\n",
      "Peak value: 43803500.0, Time: 13.052243232326852\n",
      "Peak value: 43810999.0, Time: 13.053075555559175\n",
      "Peak value: 43695499.0, Time: 13.057653333336955\n",
      "Peak value: 43937500.0, Time: 13.126320000003645\n",
      "Peak value: 44232999.0, Time: 13.194986666670335\n",
      "Peak value: 44227499.0, Time: 13.19623515151882\n",
      "Peak value: 44223999.0, Time: 13.197483636367306\n",
      "Peak value: 44245499.0, Time: 13.199148282831953\n",
      "Peak value: 44240500.0, Time: 13.2008129292966\n",
      "Peak value: 44239001.0, Time: 13.202061414145085\n",
      "Peak value: 44248001.0, Time: 13.203726060609732\n",
      "Peak value: 44247501.0, Time: 13.20580686869054\n",
      "Peak value: 44248499.0, Time: 13.206223030306703\n",
      "Peak value: 44220499.0, Time: 13.192905858589526\n",
      "Peak value: 44184500.0, Time: 13.18208565656932\n",
      "Peak value: 44187500.0, Time: 13.184582626266291\n",
      "Peak value: 44195001.0, Time: 13.185414949498615\n",
      "Peak value: 44204501.0, Time: 13.193322020205688\n",
      "Peak value: 44207501.0, Time: 13.190408888892556\n",
      "Peak value: 44208499.0, Time: 13.191657373741041\n",
      "Peak value: 44312500.0, Time: 13.22453414141782\n",
      "Peak value: 44302499.0, Time: 13.226198787882467\n",
      "Peak value: 44303500.0, Time: 13.226614949498629\n",
      "Peak value: 44316000.0, Time: 13.229528080811761\n",
      "Peak value: 44319000.0, Time: 13.230776565660246\n",
      "Peak value: 44320499.0, Time: 13.23160888889257\n",
      "Peak value: 44290500.0, Time: 13.220372525256202\n",
      "Peak value: 44261499.0, Time: 13.208720000003673\n",
      "Peak value: 44270999.0, Time: 13.209552323235997\n",
      "Peak value: 44264499.0, Time: 13.210800808084482\n",
      "Peak value: 44276501.0, Time: 13.212049292932967\n",
      "Peak value: 44309500.0, Time: 13.21995636364004\n",
      "Peak value: 44282501.0, Time: 13.214130101013776\n",
      "Peak value: 44275000.0, Time: 13.2149624242461\n",
      "Peak value: 44296500.0, Time: 13.216210909094585\n",
      "Peak value: 44288000.0, Time: 13.21745939394307\n",
      "Peak value: 44295001.0, Time: 13.218707878791555\n",
      "Peak value: 44151999.0, Time: 13.17958868687235\n",
      "Peak value: 44012000.0, Time: 13.142134141417792\n",
      "Peak value: 44017499.0, Time: 13.143382626266277\n",
      "Peak value: 44032001.0, Time: 13.145463434347086\n",
      "Peak value: 44044000.0, Time: 13.14629575757941\n",
      "Peak value: 44045001.0, Time: 13.148376565660218\n",
      "Peak value: 44043500.0, Time: 13.149625050508703\n",
      "Peak value: 44053500.0, Time: 13.151705858589512\n",
      "Peak value: 44066501.0, Time: 13.152538181821836\n",
      "Peak value: 43960501.0, Time: 13.128816969700615\n",
      "Peak value: 43964499.0, Time: 13.129649292932939\n",
      "Peak value: 43969000.0, Time: 13.130481616165262\n",
      "Peak value: 43975000.0, Time: 13.131730101013748\n",
      "Peak value: 43989001.0, Time: 13.139637171720821\n",
      "Peak value: 43971500.0, Time: 13.134227070710718\n",
      "Peak value: 43995001.0, Time: 13.136307878791527\n",
      "Peak value: 43985999.0, Time: 13.138804848488498\n",
      "Peak value: 44070001.0, Time: 13.152954343437997\n",
      "Peak value: 44120001.0, Time: 13.16793616161982\n",
      "Peak value: 44137000.0, Time: 13.169184646468306\n",
      "Peak value: 44135001.0, Time: 13.172930101013762\n",
      "Peak value: 44146500.0, Time: 13.174594747478409\n",
      "Peak value: 44151001.0, Time: 13.175427070710732\n",
      "Peak value: 44150500.0, Time: 13.176259393943056\n",
      "Peak value: 44154999.0, Time: 13.177507878791541\n",
      "Peak value: 44161499.0, Time: 13.178756363640026\n",
      "Peak value: 44122000.0, Time: 13.166687676771335\n",
      "Peak value: 44087500.0, Time: 13.157532121215777\n",
      "Peak value: 44072501.0, Time: 13.159196767680424\n",
      "Peak value: 44082501.0, Time: 13.160029090912747\n",
      "Peak value: 44098001.0, Time: 13.161277575761233\n",
      "Peak value: 44101001.0, Time: 13.16294222222588\n",
      "Peak value: 44101001.0, Time: 13.163774545458203\n",
      "Peak value: 44112500.0, Time: 13.164606868690527\n",
      "Peak value: 44123499.0, Time: 13.16543919192285\n",
      "Peak value: 44310999.0, Time: 13.232857373741055\n",
      "Peak value: 43592001.0, Time: 12.874958383841943\n",
      "Peak value: 43606000.0, Time: 12.877871515155075\n",
      "Peak value: 43607501.0, Time: 12.879536161619722\n",
      "Peak value: 43598499.0, Time: 12.880784646468207\n",
      "Peak value: 43610501.0, Time: 12.88161696970053\n",
      "Peak value: 43615500.0, Time: 12.882449292932854\n",
      "Peak value: 43626501.0, Time: 12.883281616165178\n",
      "Peak value: 43610501.0, Time: 12.884530101013663\n",
      "Peak value: 43626999.0, Time: 12.885362424245987\n",
      "Peak value: 43630499.0, Time: 12.885778585862148\n",
      "Peak value: 43581000.0, Time: 12.872461414144972\n",
      "Peak value: 43588000.0, Time: 12.861641212124766\n",
      "Peak value: 43587000.0, Time: 12.862889696973252\n",
      "Peak value: 43583499.0, Time: 12.864554343437899\n",
      "Peak value: 43595999.0, Time: 12.865386666670222\n",
      "Peak value: 43593500.0, Time: 12.866218989902546\n",
      "Peak value: 43594000.0, Time: 12.867883636367193\n",
      "Peak value: 43616000.0, Time: 12.869132121215678\n",
      "Peak value: 43601501.0, Time: 12.869964444448001\n",
      "Peak value: 43588000.0, Time: 12.866635151518707\n",
      "Peak value: 43641000.0, Time: 12.901592727276295\n",
      "Peak value: 43650500.0, Time: 12.90284121212478\n",
      "Peak value: 43639999.0, Time: 12.903673535357104\n",
      "Peak value: 43648499.0, Time: 12.907835151518722\n",
      "Peak value: 43651501.0, Time: 12.908667474751045\n",
      "Peak value: 43653500.0, Time: 12.909499797983369\n",
      "Peak value: 43645001.0, Time: 12.911164444448016\n",
      "Peak value: 43659500.0, Time: 12.911996767680339\n",
      "Peak value: 43647000.0, Time: 12.899095757579325\n",
      "Peak value: 43620999.0, Time: 12.890356363639928\n",
      "Peak value: 43620001.0, Time: 12.891604848488413\n",
      "Peak value: 43639001.0, Time: 12.899511919195486\n",
      "Peak value: 43626001.0, Time: 12.894934141417707\n",
      "Peak value: 43631500.0, Time: 12.896182626266192\n",
      "Peak value: 43639999.0, Time: 12.897014949498516\n",
      "Peak value: 43642499.0, Time: 12.898263434347001\n",
      "Peak value: 43650500.0, Time: 12.9124129292965\n",
      "Peak value: 43545999.0, Time: 12.823770505054046\n",
      "Peak value: 43529999.0, Time: 12.82460282828637\n",
      "Peak value: 43554501.0, Time: 12.825851313134855\n",
      "Peak value: 43559000.0, Time: 12.82709979798334\n",
      "Peak value: 43554001.0, Time: 12.828764444447987\n",
      "Peak value: 43558499.0, Time: 12.82959676768031\n",
      "Peak value: 43552499.0, Time: 12.831261414144958\n",
      "Peak value: 43558499.0, Time: 12.832093737377281\n",
      "Peak value: 43545001.0, Time: 12.819192727276267\n",
      "Peak value: 43530499.0, Time: 12.808372525256061\n",
      "Peak value: 43523499.0, Time: 12.809621010104546\n",
      "Peak value: 43520499.0, Time: 12.81045333333687\n",
      "Peak value: 43534500.0, Time: 12.811701818185355\n",
      "Peak value: 43549500.0, Time: 12.819608888892429\n",
      "Peak value: 43535501.0, Time: 12.814198787882326\n",
      "Peak value: 43527499.0, Time: 12.81503111111465\n",
      "Peak value: 43533499.0, Time: 12.816279595963135\n",
      "Peak value: 43548001.0, Time: 12.817944242427782\n",
      "Peak value: 43548499.0, Time: 12.818776565660105\n",
      "Peak value: 43557999.0, Time: 12.859560404043958\n",
      "Peak value: 43567499.0, Time: 12.847491717175267\n",
      "Peak value: 43567499.0, Time: 12.84832404040759\n",
      "Peak value: 43576999.0, Time: 12.849156363639914\n",
      "Peak value: 43592499.0, Time: 12.850404848488399\n",
      "Peak value: 43603500.0, Time: 12.852069494953046\n",
      "Peak value: 43606500.0, Time: 12.85290181818537\n",
      "Peak value: 43573001.0, Time: 12.857479595963149\n",
      "Peak value: 43563501.0, Time: 12.858311919195472\n",
      "Peak value: 43610001.0, Time: 12.853317979801531\n",
      "Peak value: 43578000.0, Time: 12.84582707071062\n",
      "Peak value: 43562000.0, Time: 12.835423030306575\n",
      "Peak value: 43582999.0, Time: 12.83667151515506\n",
      "Peak value: 43560999.0, Time: 12.846243232326781\n",
      "Peak value: 43563501.0, Time: 12.840833131316678\n",
      "Peak value: 43567999.0, Time: 12.842081616165164\n",
      "Peak value: 43576501.0, Time: 12.842913939397487\n",
      "Peak value: 43562500.0, Time: 12.84374626262981\n",
      "Peak value: 43577499.0, Time: 12.844994747478296\n",
      "Peak value: 43664999.0, Time: 12.912829090912663\n",
      "Peak value: 43835501.0, Time: 12.981079595963191\n",
      "Peak value: 43842999.0, Time: 12.982328080811676\n",
      "Peak value: 43834500.0, Time: 12.984408888892485\n",
      "Peak value: 43845999.0, Time: 12.985241212124809\n",
      "Peak value: 43848999.0, Time: 12.986073535357132\n",
      "Peak value: 43848999.0, Time: 12.986489696973294\n",
      "Peak value: 43839999.0, Time: 12.99023515151875\n",
      "Peak value: 43861499.0, Time: 12.991067474751073\n",
      "Peak value: 43848499.0, Time: 12.991899797983397\n",
      "Peak value: 43863000.0, Time: 12.99273212121572\n",
      "Peak value: 43792499.0, Time: 12.968178585862177\n",
      "Peak value: 43792999.0, Time: 12.9690109090945\n",
      "Peak value: 43797501.0, Time: 12.970259393942985\n",
      "Peak value: 43824500.0, Time: 12.979831111114706\n",
      "Peak value: 43798499.0, Time: 12.974004848488441\n",
      "Peak value: 43809000.0, Time: 12.974837171720765\n",
      "Peak value: 43814999.0, Time: 12.975669494953088\n",
      "Peak value: 43809000.0, Time: 12.976501818185412\n",
      "Peak value: 43823999.0, Time: 12.977750303033897\n",
      "Peak value: 43815500.0, Time: 12.978998787882382\n",
      "Peak value: 43905499.0, Time: 13.007713939397544\n",
      "Peak value: 43912500.0, Time: 13.008546262629867\n",
      "Peak value: 43911499.0, Time: 13.010627070710676\n",
      "Peak value: 43924500.0, Time: 13.011875555559161\n",
      "Peak value: 43930499.0, Time: 13.012707878791485\n",
      "Peak value: 43926001.0, Time: 13.013124040407646\n",
      "Peak value: 43909500.0, Time: 13.014788686872294\n",
      "Peak value: 43929999.0, Time: 13.01645333333694\n",
      "Peak value: 43932999.0, Time: 13.018117979801588\n",
      "Peak value: 43897501.0, Time: 13.00688161616522\n",
      "Peak value: 43864001.0, Time: 12.995645252528853\n",
      "Peak value: 43864499.0, Time: 12.996477575761176\n",
      "Peak value: 43866501.0, Time: 12.998142222225823\n",
      "Peak value: 43874500.0, Time: 12.998974545458147\n",
      "Peak value: 43895999.0, Time: 13.006465454549058\n",
      "Peak value: 43875500.0, Time: 13.000639191922794\n",
      "Peak value: 43891501.0, Time: 13.00230383838744\n",
      "Peak value: 43900500.0, Time: 13.003552323235926\n",
      "Peak value: 43893500.0, Time: 13.005633131316735\n",
      "Peak value: 43791000.0, Time: 12.966097777781368\n",
      "Peak value: 43697000.0, Time: 12.928227070710648\n",
      "Peak value: 43691000.0, Time: 12.929475555559133\n",
      "Peak value: 43710999.0, Time: 12.930724040407618\n",
      "Peak value: 43710001.0, Time: 12.931556363639942\n",
      "Peak value: 43717999.0, Time: 12.932804848488427\n",
      "Peak value: 43721500.0, Time: 12.93571797980156\n",
      "Peak value: 43720499.0, Time: 12.936550303033883\n",
      "Peak value: 43732001.0, Time: 12.938631111114692\n",
      "Peak value: 43734000.0, Time: 12.939047272730853\n",
      "Peak value: 43698499.0, Time: 12.925730101013677\n",
      "Peak value: 43660001.0, Time: 12.914909898993471\n",
      "Peak value: 43669501.0, Time: 12.916158383841957\n",
      "Peak value: 43667001.0, Time: 12.91699070707428\n",
      "Peak value: 43664999.0, Time: 12.918239191922765\n",
      "Peak value: 43701999.0, Time: 12.926146262629839\n",
      "Peak value: 43685999.0, Time: 12.924481616165192\n",
      "Peak value: 43685501.0, Time: 12.925313939397515\n",
      "Peak value: 43776001.0, Time: 12.95735838384197\n",
      "Peak value: 43766000.0, Time: 12.958606868690456\n",
      "Peak value: 43760501.0, Time: 12.95943919192278\n",
      "Peak value: 43761499.0, Time: 12.961103838387427\n",
      "Peak value: 43778000.0, Time: 12.96193616161975\n",
      "Peak value: 43781000.0, Time: 12.963184646468235\n",
      "Peak value: 43781000.0, Time: 12.96443313131672\n",
      "Peak value: 43781000.0, Time: 12.965265454549044\n",
      "Peak value: 43776999.0, Time: 12.960271515155103\n",
      "Peak value: 43761499.0, Time: 12.952780606064191\n",
      "Peak value: 43729001.0, Time: 12.941544242427824\n",
      "Peak value: 43717999.0, Time: 12.94279272727631\n",
      "Peak value: 43729501.0, Time: 12.944041212124795\n",
      "Peak value: 43729501.0, Time: 12.94528969697328\n",
      "Peak value: 43739499.0, Time: 12.946538181821765\n",
      "Peak value: 43753000.0, Time: 12.948202828286412\n",
      "Peak value: 43742499.0, Time: 12.94986747475106\n",
      "Peak value: 43754001.0, Time: 12.951532121215706\n",
      "Peak value: 43941501.0, Time: 13.019782626266235\n",
      "Peak value: 44316501.0, Time: 13.233273535357217\n",
      "Peak value: 45092499.0, Time: 13.514598787882566\n",
      "Peak value: 45070999.0, Time: 13.515847272731051\n",
      "Peak value: 45089001.0, Time: 13.516679595963375\n",
      "Peak value: 45083499.0, Time: 13.51792808081186\n",
      "Peak value: 45098001.0, Time: 13.518760404044183\n",
      "Peak value: 45082999.0, Time: 13.520008888892669\n",
      "Peak value: 45095001.0, Time: 13.524170505054286\n",
      "Peak value: 45082001.0, Time: 13.525835151518933\n",
      "Peak value: 45075000.0, Time: 13.512934141417919\n",
      "Peak value: 45040500.0, Time: 13.501697777781551\n",
      "Peak value: 45047000.0, Time: 13.502946262630037\n",
      "Peak value: 45050500.0, Time: 13.50377858586236\n",
      "Peak value: 45085501.0, Time: 13.51335030303408\n",
      "Peak value: 45075000.0, Time: 13.507940202023978\n",
      "Peak value: 45072501.0, Time: 13.509188686872463\n",
      "Peak value: 45073499.0, Time: 13.510021010104786\n",
      "Peak value: 45064001.0, Time: 13.51085333333711\n",
      "Peak value: 45070499.0, Time: 13.512101818185595\n",
      "Peak value: 45078000.0, Time: 13.526667474751257\n",
      "Peak value: 45126999.0, Time: 13.54164929293308\n",
      "Peak value: 45115500.0, Time: 13.543730101013889\n",
      "Peak value: 45121500.0, Time: 13.544978585862374\n",
      "Peak value: 45114499.0, Time: 13.54622707071086\n",
      "Peak value: 45114999.0, Time: 13.546643232327021\n",
      "Peak value: 45129999.0, Time: 13.547891717175506\n",
      "Peak value: 45134500.0, Time: 13.549556363640153\n",
      "Peak value: 45135501.0, Time: 13.550388686872477\n",
      "Peak value: 45142999.0, Time: 13.551637171720962\n",
      "Peak value: 45098001.0, Time: 13.540400808084595\n",
      "Peak value: 45095999.0, Time: 13.528748282832066\n",
      "Peak value: 45083499.0, Time: 13.52999676768055\n",
      "Peak value: 45097000.0, Time: 13.531245252529036\n",
      "Peak value: 45091501.0, Time: 13.532493737377521\n",
      "Peak value: 45099500.0, Time: 13.533326060609845\n",
      "Peak value: 45101501.0, Time: 13.534990707074492\n",
      "Peak value: 45116501.0, Time: 13.536655353539139\n",
      "Peak value: 45096500.0, Time: 13.53915232323611\n",
      "Peak value: 45132501.0, Time: 13.552885656569448\n",
      "Peak value: 45045001.0, Time: 13.499616969700742\n",
      "Peak value: 44960001.0, Time: 13.462578585862346\n",
      "Peak value: 44970499.0, Time: 13.463827070710831\n",
      "Peak value: 44959000.0, Time: 13.465491717175478\n",
      "Peak value: 44957001.0, Time: 13.466324040407802\n",
      "Peak value: 44965500.0, Time: 13.467572525256287\n",
      "Peak value: 44949500.0, Time: 13.468821010104772\n",
      "Peak value: 44965500.0, Time: 13.469653333337096\n",
      "Peak value: 44967001.0, Time: 13.467156363640125\n",
      "Peak value: 44917499.0, Time: 13.44926141414517\n",
      "Peak value: 44920001.0, Time: 13.450926060609817\n",
      "Peak value: 44935501.0, Time: 13.45175838384214\n",
      "Peak value: 44929001.0, Time: 13.452590707074464\n",
      "Peak value: 44930499.0, Time: 13.460081616165375\n",
      "Peak value: 44959500.0, Time: 13.457168484852243\n",
      "Peak value: 44950500.0, Time: 13.459249292933052\n",
      "Peak value: 45035999.0, Time: 13.500033131316904\n",
      "Peak value: 45004001.0, Time: 13.490461414145184\n",
      "Peak value: 45021500.0, Time: 13.491709898993669\n",
      "Peak value: 45016000.0, Time: 13.492542222225993\n",
      "Peak value: 45004001.0, Time: 13.493374545458316\n",
      "Peak value: 45035501.0, Time: 13.495455353539125\n",
      "Peak value: 45031500.0, Time: 13.496287676771448\n",
      "Peak value: 45034500.0, Time: 13.497536161619934\n",
      "Peak value: 45029001.0, Time: 13.49920080808458\n",
      "Peak value: 44995999.0, Time: 13.48713212121589\n",
      "Peak value: 44988501.0, Time: 13.475895757579522\n",
      "Peak value: 44979501.0, Time: 13.476728080811846\n",
      "Peak value: 44978000.0, Time: 13.47756040404417\n",
      "Peak value: 44995499.0, Time: 13.478808888892654\n",
      "Peak value: 45003000.0, Time: 13.479641212124978\n",
      "Peak value: 44999500.0, Time: 13.48005737374114\n",
      "Peak value: 44985999.0, Time: 13.481722020205787\n",
      "Peak value: 44997501.0, Time: 13.482970505054272\n",
      "Peak value: 45004999.0, Time: 13.48463515151892\n",
      "Peak value: 45145499.0, Time: 13.55330181818561\n",
      "Peak value: 45276501.0, Time: 13.624049292933108\n",
      "Peak value: 45279001.0, Time: 13.625713939397755\n",
      "Peak value: 45278500.0, Time: 13.626546262630079\n",
      "Peak value: 45284500.0, Time: 13.62696242424624\n",
      "Peak value: 45284000.0, Time: 13.628627070710888\n",
      "Peak value: 45299500.0, Time: 13.629459393943211\n",
      "Peak value: 45288000.0, Time: 13.632788686872505\n",
      "Peak value: 45302499.0, Time: 13.633204848488667\n",
      "Peak value: 45282501.0, Time: 13.61988767677149\n",
      "Peak value: 45259500.0, Time: 13.609483636367447\n",
      "Peak value: 45252499.0, Time: 13.610732121215932\n",
      "Peak value: 45275500.0, Time: 13.612396767680579\n",
      "Peak value: 45266501.0, Time: 13.620303838387652\n",
      "Peak value: 45273999.0, Time: 13.615309898993711\n",
      "Peak value: 45280499.0, Time: 13.616558383842197\n",
      "Peak value: 45267001.0, Time: 13.618223030306844\n",
      "Peak value: 45269000.0, Time: 13.619055353539167\n",
      "Peak value: 45260999.0, Time: 13.614061414145226\n",
      "Peak value: 45307001.0, Time: 13.633621010104829\n",
      "Peak value: 45323999.0, Time: 13.64818666667049\n",
      "Peak value: 45337500.0, Time: 13.649851313135137\n",
      "Peak value: 45330499.0, Time: 13.65068363636746\n",
      "Peak value: 45340500.0, Time: 13.651932121215946\n",
      "Peak value: 45342499.0, Time: 13.653180606064431\n",
      "Peak value: 45346500.0, Time: 13.657342222226049\n",
      "Peak value: 45337000.0, Time: 13.658174545458373\n",
      "Peak value: 45353500.0, Time: 13.659423030306858\n",
      "Peak value: 45322501.0, Time: 13.646522020205843\n",
      "Peak value: 45314499.0, Time: 13.6361179798018\n",
      "Peak value: 45323999.0, Time: 13.646938181822005\n",
      "Peak value: 45317499.0, Time: 13.64111191919574\n",
      "Peak value: 45314001.0, Time: 13.641944242428064\n",
      "Peak value: 45324500.0, Time: 13.642776565660387\n",
      "Peak value: 45320499.0, Time: 13.644857373741196\n",
      "Peak value: 45319501.0, Time: 13.646105858589682\n",
      "Peak value: 45238000.0, Time: 13.606986666670476\n",
      "Peak value: 45163000.0, Time: 13.569532121215918\n",
      "Peak value: 45164499.0, Time: 13.572861414145212\n",
      "Peak value: 45165500.0, Time: 13.573277575761374\n",
      "Peak value: 45181000.0, Time: 13.57494222222602\n",
      "Peak value: 45173001.0, Time: 13.576190707074506\n",
      "Peak value: 45176501.0, Time: 13.577855353539153\n",
      "Peak value: 45178500.0, Time: 13.578687676771477\n",
      "Peak value: 45186499.0, Time: 13.5795200000038\n",
      "Peak value: 45141501.0, Time: 13.557047272731065\n",
      "Peak value: 45154999.0, Time: 13.55829575757955\n",
      "Peak value: 45154001.0, Time: 13.566618989902786\n",
      "Peak value: 45169000.0, Time: 13.562041212125006\n",
      "Peak value: 45153500.0, Time: 13.564122020205815\n",
      "Peak value: 45167001.0, Time: 13.565786666670462\n",
      "Peak value: 45187000.0, Time: 13.580352323236124\n",
      "Peak value: 45229999.0, Time: 13.594917979801785\n",
      "Peak value: 45243500.0, Time: 13.59616646465027\n",
      "Peak value: 45223499.0, Time: 13.596998787882594\n",
      "Peak value: 45220499.0, Time: 13.597831111114917\n",
      "Peak value: 45232999.0, Time: 13.598663434347241\n",
      "Peak value: 45238000.0, Time: 13.599495757579565\n",
      "Peak value: 45232501.0, Time: 13.600328080811888\n",
      "Peak value: 45238000.0, Time: 13.601992727276535\n",
      "Peak value: 45242999.0, Time: 13.602825050508859\n",
      "Peak value: 45242999.0, Time: 13.603657373741182\n",
      "Peak value: 45237000.0, Time: 13.606154343438153\n",
      "Peak value: 45217499.0, Time: 13.593253333337138\n",
      "Peak value: 45191000.0, Time: 13.581600808084609\n",
      "Peak value: 45210999.0, Time: 13.582433131316932\n",
      "Peak value: 45201001.0, Time: 13.58409777778158\n",
      "Peak value: 45188000.0, Time: 13.584930101013903\n",
      "Peak value: 45200000.0, Time: 13.585762424246226\n",
      "Peak value: 45217001.0, Time: 13.590340202024006\n",
      "Peak value: 45223499.0, Time: 13.592004848488653\n",
      "Peak value: 45228000.0, Time: 13.592837171720976\n",
      "Peak value: 44906500.0, Time: 13.446348282832037\n",
      "Peak value: 44473499.0, Time: 13.301940202023907\n",
      "Peak value: 44495999.0, Time: 13.303604848488554\n",
      "Peak value: 44482501.0, Time: 13.306101818185525\n",
      "Peak value: 44483499.0, Time: 13.306517979801686\n",
      "Peak value: 44486499.0, Time: 13.308182626266333\n",
      "Peak value: 44491000.0, Time: 13.309431111114819\n",
      "Peak value: 44520499.0, Time: 13.311511919195627\n",
      "Peak value: 44513501.0, Time: 13.312760404044113\n",
      "Peak value: 44453500.0, Time: 13.29070383838754\n",
      "Peak value: 44452499.0, Time: 13.291952323236025\n",
      "Peak value: 44464999.0, Time: 13.299859393943098\n",
      "Peak value: 44462000.0, Time: 13.294449292932995\n",
      "Peak value: 44464999.0, Time: 13.296113939397642\n",
      "Peak value: 44467999.0, Time: 13.296946262629966\n",
      "Peak value: 44458499.0, Time: 13.29777858586229\n",
      "Peak value: 44475000.0, Time: 13.298610909094613\n",
      "Peak value: 44514499.0, Time: 13.313176565660275\n",
      "Peak value: 44572000.0, Time: 13.328990707074421\n",
      "Peak value: 44569000.0, Time: 13.330239191922907\n",
      "Peak value: 44574500.0, Time: 13.331487676771392\n",
      "Peak value: 44576001.0, Time: 13.332736161619877\n",
      "Peak value: 44589999.0, Time: 13.334400808084524\n",
      "Peak value: 44584500.0, Time: 13.335233131316848\n",
      "Peak value: 44588000.0, Time: 13.336065454549171\n",
      "Peak value: 44603000.0, Time: 13.338978585862304\n",
      "Peak value: 44551001.0, Time: 13.326909898993613\n",
      "Peak value: 44517999.0, Time: 13.315257373741083\n",
      "Peak value: 44528000.0, Time: 13.316505858589569\n",
      "Peak value: 44529501.0, Time: 13.318170505054216\n",
      "Peak value: 44557501.0, Time: 13.32649373737745\n",
      "Peak value: 44534500.0, Time: 13.32399676768048\n",
      "Peak value: 44554501.0, Time: 13.325245252528966\n",
      "Peak value: 44604999.0, Time: 13.339394747478465\n",
      "Peak value: 44370499.0, Time: 13.250336161619849\n",
      "Peak value: 44366000.0, Time: 13.251584646468334\n",
      "Peak value: 44378500.0, Time: 13.25283313131682\n",
      "Peak value: 44382001.0, Time: 13.256994747478437\n",
      "Peak value: 44389499.0, Time: 13.258243232326922\n",
      "Peak value: 44391501.0, Time: 13.259075555559246\n",
      "Peak value: 44371500.0, Time: 13.259491717175408\n",
      "Peak value: 44363501.0, Time: 13.246174545458231\n",
      "Peak value: 44316501.0, Time: 13.235770505054187\n",
      "Peak value: 44317499.0, Time: 13.237018989902673\n",
      "Peak value: 44345499.0, Time: 13.246590707074393\n",
      "Peak value: 44321500.0, Time: 13.240764444448129\n",
      "Peak value: 44331500.0, Time: 13.242012929296614\n",
      "Peak value: 44339499.0, Time: 13.243261414145099\n",
      "Peak value: 44359500.0, Time: 13.245342222225908\n",
      "Peak value: 44445499.0, Time: 13.286542222225922\n",
      "Peak value: 44414499.0, Time: 13.274473535357231\n",
      "Peak value: 44415500.0, Time: 13.275305858589554\n",
      "Peak value: 44419501.0, Time: 13.276138181821878\n",
      "Peak value: 44435999.0, Time: 13.276970505054202\n",
      "Peak value: 44420999.0, Time: 13.277802828286525\n",
      "Peak value: 44429999.0, Time: 13.278635151518849\n",
      "Peak value: 44439001.0, Time: 13.279467474751172\n",
      "Peak value: 44437000.0, Time: 13.280715959599657\n",
      "Peak value: 44450000.0, Time: 13.281964444448143\n",
      "Peak value: 44439999.0, Time: 13.283212929296628\n",
      "Peak value: 44435999.0, Time: 13.284461414145113\n",
      "Peak value: 44439499.0, Time: 13.280299797983496\n",
      "Peak value: 44412500.0, Time: 13.273641212124907\n",
      "Peak value: 44389499.0, Time: 13.261572525256216\n",
      "Peak value: 44410999.0, Time: 13.263653333337025\n",
      "Peak value: 44393500.0, Time: 13.265734141417834\n",
      "Peak value: 44411499.0, Time: 13.273225050508746\n",
      "Peak value: 44414499.0, Time: 13.268231111114805\n",
      "Peak value: 44411499.0, Time: 13.270311919195613\n",
      "Peak value: 44409500.0, Time: 13.272392727276422\n",
      "Peak value: 44609000.0, Time: 13.340227070710789\n",
      "Peak value: 44784000.0, Time: 13.408061414145156\n",
      "Peak value: 44776501.0, Time: 13.409726060609803\n",
      "Peak value: 44795499.0, Time: 13.410974545458288\n",
      "Peak value: 44808499.0, Time: 13.413055353539097\n",
      "Peak value: 44803000.0, Time: 13.414720000003744\n",
      "Peak value: 44813000.0, Time: 13.415968484852229\n",
      "Peak value: 44816000.0, Time: 13.416800808084552\n",
      "Peak value: 44828000.0, Time: 13.417633131316876\n",
      "Peak value: 44806500.0, Time: 13.419297777781523\n",
      "Peak value: 44744501.0, Time: 13.395160404044141\n",
      "Peak value: 44754999.0, Time: 13.396408888892626\n",
      "Peak value: 44751999.0, Time: 13.397657373741112\n",
      "Peak value: 44757001.0, Time: 13.398905858589597\n",
      "Peak value: 44778500.0, Time: 13.40681292929667\n",
      "Peak value: 44766501.0, Time: 13.400986666670406\n",
      "Peak value: 44745001.0, Time: 13.40181898990273\n",
      "Peak value: 44770001.0, Time: 13.403483636367376\n",
      "Peak value: 44775500.0, Time: 13.405980606064347\n",
      "Peak value: 44859500.0, Time: 13.434695757579508\n",
      "Peak value: 44870999.0, Time: 13.436360404044155\n",
      "Peak value: 44885999.0, Time: 13.43968969697345\n",
      "Peak value: 44916000.0, Time: 13.440938181821934\n",
      "Peak value: 44905499.0, Time: 13.443435151518905\n",
      "Peak value: 44917999.0, Time: 13.445932121215876\n",
      "Peak value: 44855499.0, Time: 13.433031111114861\n",
      "Peak value: 44848499.0, Time: 13.424291717175464\n",
      "Peak value: 44858499.0, Time: 13.425124040407788\n",
      "Peak value: 44848999.0, Time: 13.426372525256273\n",
      "Peak value: 44855499.0, Time: 13.426788686872435\n",
      "Peak value: 44857501.0, Time: 13.429285656569405\n",
      "Peak value: 44865500.0, Time: 13.430117979801729\n",
      "Peak value: 44848499.0, Time: 13.430950303034052\n",
      "Peak value: 44864999.0, Time: 13.4326149494987\n",
      "Peak value: 44651501.0, Time: 13.35687353535726\n",
      "Peak value: 44651999.0, Time: 13.357705858589583\n",
      "Peak value: 44670999.0, Time: 13.35937050505423\n",
      "Peak value: 44659500.0, Time: 13.359786666670391\n",
      "Peak value: 44661499.0, Time: 13.361035151518877\n",
      "Peak value: 44661499.0, Time: 13.3618674747512\n",
      "Peak value: 44661499.0, Time: 13.362699797983524\n",
      "Peak value: 44672501.0, Time: 13.36436444444817\n",
      "Peak value: 44673001.0, Time: 13.365612929296656\n",
      "Peak value: 44670499.0, Time: 13.366029090912818\n",
      "Peak value: 44600500.0, Time: 13.34272404040776\n",
      "Peak value: 44610999.0, Time: 13.343556363640083\n",
      "Peak value: 44601501.0, Time: 13.344388686872406\n",
      "Peak value: 44624500.0, Time: 13.345637171720892\n",
      "Peak value: 44645999.0, Time: 13.353128080811803\n",
      "Peak value: 44639999.0, Time: 13.349382626266348\n",
      "Peak value: 44622000.0, Time: 13.350214949498671\n",
      "Peak value: 44631000.0, Time: 13.351463434347156\n",
      "Peak value: 44679501.0, Time: 13.366861414145141\n",
      "Peak value: 44694501.0, Time: 13.381427070710803\n",
      "Peak value: 44698999.0, Time: 13.382259393943126\n",
      "Peak value: 44717999.0, Time: 13.384340202023935\n",
      "Peak value: 44712500.0, Time: 13.385172525256259\n",
      "Peak value: 44707999.0, Time: 13.386004848488582\n",
      "Peak value: 44734500.0, Time: 13.391414949498685\n",
      "Peak value: 44732999.0, Time: 13.39266343434717\n",
      "Peak value: 44703000.0, Time: 13.380178585862318\n",
      "Peak value: 44655499.0, Time: 13.368526060609788\n",
      "Peak value: 44669501.0, Time: 13.369358383842112\n",
      "Peak value: 44660999.0, Time: 13.372687676771406\n",
      "Peak value: 44679501.0, Time: 13.374352323236053\n",
      "Peak value: 44693500.0, Time: 13.376433131316862\n",
      "Peak value: 44678000.0, Time: 13.377681616165347\n",
      "Peak value: 44687000.0, Time: 13.378930101013832\n",
      "Peak value: 44909000.0, Time: 13.446764444448199\n",
      "Peak value: 43531500.0, Time: 12.806707878791414\n",
      "Peak value: 42385001.0, Time: 12.239063434346775\n",
      "Peak value: 42368500.0, Time: 12.24031191919526\n",
      "Peak value: 42379501.0, Time: 12.241144242427584\n",
      "Peak value: 42381000.0, Time: 12.24239272727607\n",
      "Peak value: 42382001.0, Time: 12.243225050508393\n",
      "Peak value: 42398999.0, Time: 12.244473535356878\n",
      "Peak value: 42397501.0, Time: 12.245305858589202\n",
      "Peak value: 42377499.0, Time: 12.231988686872025\n",
      "Peak value: 42354999.0, Time: 12.22116848485182\n",
      "Peak value: 42366000.0, Time: 12.222000808084143\n",
      "Peak value: 42363000.0, Time: 12.223249292932628\n",
      "Peak value: 42372501.0, Time: 12.224913939397275\n",
      "Peak value: 42378500.0, Time: 12.232404848488187\n",
      "Peak value: 42362500.0, Time: 12.226578585861922\n",
      "Peak value: 42364001.0, Time: 12.227410909094246\n",
      "Peak value: 42380499.0, Time: 12.229075555558893\n",
      "Peak value: 42381500.0, Time: 12.229907878791217\n",
      "Peak value: 42386499.0, Time: 12.231156363639702\n",
      "Peak value: 42435999.0, Time: 12.260287676771025\n",
      "Peak value: 42449500.0, Time: 12.261120000003348\n",
      "Peak value: 42449500.0, Time: 12.261952323235672\n",
      "Peak value: 42448499.0, Time: 12.264449292932643\n",
      "Peak value: 42439001.0, Time: 12.265281616164966\n",
      "Peak value: 42457501.0, Time: 12.265697777781128\n",
      "Peak value: 42464999.0, Time: 12.266946262629613\n",
      "Peak value: 42458499.0, Time: 12.270275555558907\n",
      "Peak value: 42474500.0, Time: 12.27110787879123\n",
      "Peak value: 42432001.0, Time: 12.258623030306378\n",
      "Peak value: 42414999.0, Time: 12.24738666667001\n",
      "Peak value: 42412500.0, Time: 12.248635151518496\n",
      "Peak value: 42410999.0, Time: 12.250299797983143\n",
      "Peak value: 42423499.0, Time: 12.25903919192254\n",
      "Peak value: 42432001.0, Time: 12.25446141414476\n",
      "Peak value: 42431000.0, Time: 12.255709898993246\n",
      "Peak value: 42453500.0, Time: 12.258206868690216\n",
      "Peak value: 42476999.0, Time: 12.271940202023554\n",
      "Peak value: 42301501.0, Time: 12.181633131316453\n",
      "Peak value: 42294000.0, Time: 12.182465454548776\n",
      "Peak value: 42304999.0, Time: 12.1832977777811\n",
      "Peak value: 42297501.0, Time: 12.185378585861908\n",
      "Peak value: 42301001.0, Time: 12.187043232326555\n",
      "Peak value: 42303000.0, Time: 12.188707878791202\n",
      "Peak value: 42308499.0, Time: 12.189540202023526\n",
      "Peak value: 42311499.0, Time: 12.191621010104335\n",
      "Peak value: 42304001.0, Time: 12.192037171720497\n",
      "Peak value: 42292001.0, Time: 12.17872000000332\n",
      "Peak value: 42265500.0, Time: 12.170812929296247\n",
      "Peak value: 42273001.0, Time: 12.17164525252857\n",
      "Peak value: 42284500.0, Time: 12.179136161619482\n",
      "Peak value: 42285001.0, Time: 12.173309898993217\n",
      "Peak value: 42280499.0, Time: 12.17414222222554\n",
      "Peak value: 42298499.0, Time: 12.17622303030635\n",
      "Peak value: 42273499.0, Time: 12.177471515154835\n",
      "Peak value: 42353500.0, Time: 12.21908767677101\n",
      "Peak value: 42361499.0, Time: 12.207435151518482\n",
      "Peak value: 42360001.0, Time: 12.208267474750805\n",
      "Peak value: 42350500.0, Time: 12.20951595959929\n",
      "Peak value: 42365500.0, Time: 12.211180606063937\n",
      "Peak value: 42353000.0, Time: 12.212429090912423\n",
      "Peak value: 42364499.0, Time: 12.215758383841717\n",
      "Peak value: 42367001.0, Time: 12.21659070707404\n",
      "Peak value: 42344501.0, Time: 12.206186666669996\n",
      "Peak value: 42326001.0, Time: 12.193701818185144\n",
      "Peak value: 42323999.0, Time: 12.194950303033629\n",
      "Peak value: 42349500.0, Time: 12.195782626265952\n",
      "Peak value: 42337000.0, Time: 12.197031111114438\n",
      "Peak value: 42350500.0, Time: 12.19994424242757\n",
      "Peak value: 42343500.0, Time: 12.203689696973026\n",
      "Peak value: 42347501.0, Time: 12.20452202020535\n",
      "Peak value: 42467001.0, Time: 12.272356363639716\n",
      "Peak value: 42614999.0, Time: 12.340606868690244\n",
      "Peak value: 42617499.0, Time: 12.342687676771053\n",
      "Peak value: 42622501.0, Time: 12.343520000003377\n",
      "Peak value: 42629501.0, Time: 12.3443523232357\n",
      "Peak value: 42611499.0, Time: 12.345600808084185\n",
      "Peak value: 42642001.0, Time: 12.34684929293267\n",
      "Peak value: 42643500.0, Time: 12.347681616164994\n",
      "Peak value: 42629999.0, Time: 12.34893010101348\n",
      "Peak value: 42623999.0, Time: 12.349762424245803\n",
      "Peak value: 42638000.0, Time: 12.351843232326612\n",
      "Peak value: 42639001.0, Time: 12.352259393942774\n",
      "Peak value: 42577499.0, Time: 12.328122020205392\n",
      "Peak value: 42576999.0, Time: 12.328954343437715\n",
      "Peak value: 42588501.0, Time: 12.331035151518524\n",
      "Peak value: 42582001.0, Time: 12.331867474750847\n",
      "Peak value: 42604001.0, Time: 12.339358383841759\n",
      "Peak value: 42591501.0, Time: 12.333948282831656\n",
      "Peak value: 42601501.0, Time: 12.33727757576095\n",
      "Peak value: 42598001.0, Time: 12.338526060609436\n",
      "Peak value: 42681500.0, Time: 12.367241212124597\n",
      "Peak value: 42694501.0, Time: 12.371818989902376\n",
      "Peak value: 42698499.0, Time: 12.373483636367023\n",
      "Peak value: 42706000.0, Time: 12.37514828283167\n",
      "Peak value: 42710501.0, Time: 12.378477575760964\n",
      "Peak value: 42666000.0, Time: 12.36557656565995\n",
      "Peak value: 42655499.0, Time: 12.355172525255906\n",
      "Peak value: 42650000.0, Time: 12.357669494952876\n",
      "Peak value: 42660501.0, Time: 12.365992727276112\n",
      "Peak value: 42673499.0, Time: 12.360582626266009\n",
      "Peak value: 42668500.0, Time: 12.361414949498332\n",
      "Peak value: 42667999.0, Time: 12.362247272730656\n",
      "Peak value: 42684000.0, Time: 12.364328080811465\n",
      "Peak value: 42561499.0, Time: 12.325625050508421\n",
      "Peak value: 42524500.0, Time: 12.288170505053863\n",
      "Peak value: 42523499.0, Time: 12.289002828286186\n",
      "Peak value: 42525000.0, Time: 12.28983515151851\n",
      "Peak value: 42534500.0, Time: 12.291083636366995\n",
      "Peak value: 42532001.0, Time: 12.291915959599319\n",
      "Peak value: 42545001.0, Time: 12.293164444447804\n",
      "Peak value: 42535999.0, Time: 12.295245252528613\n",
      "Peak value: 42551501.0, Time: 12.296077575760936\n",
      "Peak value: 42542999.0, Time: 12.297326060609421\n",
      "Peak value: 42542999.0, Time: 12.292748282831642\n",
      "Peak value: 42475000.0, Time: 12.274021010104363\n",
      "Peak value: 42482501.0, Time: 12.275269494952848\n",
      "Peak value: 42493500.0, Time: 12.276101818185172\n",
      "Peak value: 42503000.0, Time: 12.27818262626598\n",
      "Peak value: 42508499.0, Time: 12.285673535356892\n",
      "Peak value: 42506000.0, Time: 12.281095757579113\n",
      "Peak value: 42510999.0, Time: 12.281928080811436\n",
      "Peak value: 42525500.0, Time: 12.283176565659922\n",
      "Peak value: 42507001.0, Time: 12.284841212124569\n",
      "Peak value: 42542499.0, Time: 12.298990707074068\n",
      "Peak value: 42542999.0, Time: 12.299823030306392\n",
      "Peak value: 42551999.0, Time: 12.314388686872054\n",
      "Peak value: 42551999.0, Time: 12.315221010104377\n",
      "Peak value: 42560999.0, Time: 12.316469494952862\n",
      "Peak value: 42548001.0, Time: 12.31355636363973\n",
      "Peak value: 42546500.0, Time: 12.321463434346803\n",
      "Peak value: 42548999.0, Time: 12.322295757579127\n",
      "Peak value: 42539001.0, Time: 12.32312808081145\n",
      "Peak value: 42540500.0, Time: 12.324376565659936\n",
      "Peak value: 42557501.0, Time: 12.32520888889226\n",
      "Peak value: 42554999.0, Time: 12.313140202023568\n",
      "Peak value: 42551999.0, Time: 12.300239191922554\n",
      "Peak value: 42535999.0, Time: 12.303152323235686\n",
      "Peak value: 42551001.0, Time: 12.306065454548818\n",
      "Peak value: 42542999.0, Time: 12.308146262629627\n",
      "Peak value: 42551001.0, Time: 12.309810909094274\n",
      "Peak value: 42542001.0, Time: 12.31105939394276\n",
      "Peak value: 42551999.0, Time: 12.311891717175083\n",
      "Peak value: 42698499.0, Time: 12.378893737377126\n",
      "Peak value: 42276999.0, Time: 12.165402828286144\n",
      "Peak value: 42070499.0, Time: 12.020578585861852\n",
      "Peak value: 42051001.0, Time: 12.021827070710337\n",
      "Peak value: 42073001.0, Time: 12.023075555558822\n",
      "Peak value: 42063000.0, Time: 12.025156363639631\n",
      "Peak value: 42082999.0, Time: 12.026404848488117\n",
      "Peak value: 42082501.0, Time: 12.02723717172044\n",
      "Peak value: 42070999.0, Time: 12.028901818185087\n",
      "Peak value: 42074500.0, Time: 12.030150303033572\n",
      "Peak value: 42073999.0, Time: 12.03181494949822\n",
      "Peak value: 42042001.0, Time: 12.007261414144676\n",
      "Peak value: 42054999.0, Time: 12.008926060609323\n",
      "Peak value: 42035999.0, Time: 12.010174545457808\n",
      "Peak value: 42054501.0, Time: 12.011839191922455\n",
      "Peak value: 42056000.0, Time: 12.01308767677094\n",
      "Peak value: 42060999.0, Time: 12.013920000003264\n",
      "Peak value: 42048499.0, Time: 12.01766545454872\n",
      "Peak value: 42114499.0, Time: 12.047212929296204\n",
      "Peak value: 42122501.0, Time: 12.048045252528528\n",
      "Peak value: 42115500.0, Time: 12.049709898993175\n",
      "Peak value: 42111499.0, Time: 12.051374545457822\n",
      "Peak value: 42113000.0, Time: 12.05345535353863\n",
      "Peak value: 42129501.0, Time: 12.054703838387116\n",
      "Peak value: 42122501.0, Time: 12.056368484851763\n",
      "Peak value: 42125000.0, Time: 12.057200808084087\n",
      "Peak value: 42100500.0, Time: 12.04596444444772\n",
      "Peak value: 42099500.0, Time: 12.037225050508322\n",
      "Peak value: 42110999.0, Time: 12.045548282831557\n",
      "Peak value: 42101999.0, Time: 12.040970505053778\n",
      "Peak value: 42118500.0, Time: 12.043051313134587\n",
      "Peak value: 42114499.0, Time: 12.044715959599234\n",
      "Peak value: 42128000.0, Time: 12.058449292932572\n",
      "Peak value: 41979001.0, Time: 11.97063919192244\n",
      "Peak value: 41984000.0, Time: 11.971471515154764\n",
      "Peak value: 41979999.0, Time: 11.972303838387088\n",
      "Peak value: 41981000.0, Time: 11.973552323235573\n",
      "Peak value: 41959500.0, Time: 11.974384646467897\n",
      "Peak value: 41998001.0, Time: 11.975633131316382\n",
      "Peak value: 41982001.0, Time: 11.976465454548705\n",
      "Peak value: 41982001.0, Time: 11.977297777781029\n",
      "Peak value: 42005499.0, Time: 11.978130101013353\n",
      "Peak value: 41958499.0, Time: 11.965229090912338\n",
      "Peak value: 41936499.0, Time: 11.955241212124456\n",
      "Peak value: 41952499.0, Time: 11.956489696972941\n",
      "Peak value: 41942001.0, Time: 11.958154343437588\n",
      "Peak value: 41966000.0, Time: 11.9656452525285\n",
      "Peak value: 41944501.0, Time: 11.959818989902235\n",
      "Peak value: 41950000.0, Time: 11.96106747475072\n",
      "Peak value: 41947000.0, Time: 11.961899797983044\n",
      "Peak value: 41953000.0, Time: 11.96314828283153\n",
      "Peak value: 41955499.0, Time: 11.963980606063853\n",
      "Peak value: 41954501.0, Time: 11.964812929296176\n",
      "Peak value: 42038000.0, Time: 12.005596767680029\n",
      "Peak value: 42031000.0, Time: 11.9939442424275\n",
      "Peak value: 42045001.0, Time: 11.995192727275985\n",
      "Peak value: 42044000.0, Time: 11.99644121212447\n",
      "Peak value: 42043500.0, Time: 11.997273535356793\n",
      "Peak value: 42053000.0, Time: 11.998522020205279\n",
      "Peak value: 42054501.0, Time: 12.003099797983058\n",
      "Peak value: 42059500.0, Time: 11.999354343437602\n",
      "Peak value: 42042001.0, Time: 11.992695757579014\n",
      "Peak value: 41997501.0, Time: 11.981043232326485\n",
      "Peak value: 41997501.0, Time: 11.981875555558808\n",
      "Peak value: 42056500.0, Time: 11.992279595962852\n",
      "Peak value: 42025500.0, Time: 11.98686949495275\n",
      "Peak value: 42029001.0, Time: 11.987701818185073\n",
      "Peak value: 42039499.0, Time: 11.988534141417396\n",
      "Peak value: 42037000.0, Time: 11.990198787882044\n",
      "Peak value: 42037500.0, Time: 11.991447272730529\n",
      "Peak value: 42129999.0, Time: 12.058865454548734\n",
      "Peak value: 42219000.0, Time: 12.128364444447747\n",
      "Peak value: 42217999.0, Time: 12.129196767680071\n",
      "Peak value: 42212000.0, Time: 12.130029090912394\n",
      "Peak value: 42218500.0, Time: 12.13127757576088\n",
      "Peak value: 42223999.0, Time: 12.133358383841689\n",
      "Peak value: 42231000.0, Time: 12.137103838387144\n",
      "Peak value: 42238000.0, Time: 12.13835232323563\n",
      "Peak value: 42226501.0, Time: 12.138768484851791\n",
      "Peak value: 42206500.0, Time: 12.113798787882086\n",
      "Peak value: 42212500.0, Time: 12.115047272730571\n",
      "Peak value: 42203000.0, Time: 12.116295757579056\n",
      "Peak value: 42197501.0, Time: 12.118376565659865\n",
      "Peak value: 42197501.0, Time: 12.119208888892189\n",
      "Peak value: 42195001.0, Time: 12.12170585858916\n",
      "Peak value: 42201501.0, Time: 12.122954343437645\n",
      "Peak value: 42214499.0, Time: 12.12420282828613\n",
      "Peak value: 42212500.0, Time: 12.113382626265924\n",
      "Peak value: 42264499.0, Time: 12.153750303033615\n",
      "Peak value: 42254999.0, Time: 12.1549987878821\n",
      "Peak value: 42273499.0, Time: 12.158328080811394\n",
      "Peak value: 42264001.0, Time: 12.153334141417453\n",
      "Peak value: 42262000.0, Time: 12.160408888892203\n",
      "Peak value: 42282999.0, Time: 12.16207353535685\n",
      "Peak value: 42275000.0, Time: 12.163322020205335\n",
      "Peak value: 42267499.0, Time: 12.15957656565988\n",
      "Peak value: 42263000.0, Time: 12.152917979801291\n",
      "Peak value: 42245499.0, Time: 12.141265454548762\n",
      "Peak value: 42250000.0, Time: 12.142513939397247\n",
      "Peak value: 42256000.0, Time: 12.143762424245732\n",
      "Peak value: 42247501.0, Time: 12.145010909094218\n",
      "Peak value: 42262000.0, Time: 12.15250181818513\n",
      "Peak value: 42260999.0, Time: 12.146675555558865\n",
      "Peak value: 42259500.0, Time: 12.148340202023512\n",
      "Peak value: 42265500.0, Time: 12.149172525255835\n",
      "Peak value: 42270999.0, Time: 12.150004848488159\n",
      "Peak value: 42260501.0, Time: 12.151669494952806\n",
      "Peak value: 42203500.0, Time: 12.1125503030336\n",
      "Peak value: 42170499.0, Time: 12.074263434346719\n",
      "Peak value: 42173001.0, Time: 12.076344242427528\n",
      "Peak value: 42164499.0, Time: 12.077176565659851\n",
      "Peak value: 42166000.0, Time: 12.078008888892175\n",
      "Peak value: 42162500.0, Time: 12.073014949498234\n",
      "Peak value: 42176501.0, Time: 12.080089696972983\n",
      "Peak value: 42187500.0, Time: 12.08175434343763\n",
      "Peak value: 42182501.0, Time: 12.083002828286116\n",
      "Peak value: 42167999.0, Time: 12.084251313134601\n",
      "Peak value: 42170001.0, Time: 12.072598787882072\n",
      "Peak value: 42143500.0, Time: 12.06053010101338\n",
      "Peak value: 42144000.0, Time: 12.062194747478028\n",
      "Peak value: 42157999.0, Time: 12.063027070710351\n",
      "Peak value: 42152499.0, Time: 12.063859393942675\n",
      "Peak value: 42159500.0, Time: 12.06510787879116\n",
      "Peak value: 42160001.0, Time: 12.070101818185101\n",
      "Peak value: 42160001.0, Time: 12.070934141417425\n",
      "Peak value: 42170999.0, Time: 12.100897777781071\n",
      "Peak value: 42172000.0, Time: 12.104227070710365\n",
      "Peak value: 42186499.0, Time: 12.10547555555885\n",
      "Peak value: 42193500.0, Time: 12.105891717175012\n",
      "Peak value: 42189499.0, Time: 12.10755636363966\n",
      "Peak value: 42195999.0, Time: 12.11005333333663\n",
      "Peak value: 42196500.0, Time: 12.110885656568954\n",
      "Peak value: 42204999.0, Time: 12.111717979801277\n",
      "Peak value: 42187500.0, Time: 12.098816969700263\n",
      "Peak value: 42153000.0, Time: 12.087996767680057\n",
      "Peak value: 42157999.0, Time: 12.08882909091238\n",
      "Peak value: 42171500.0, Time: 12.089661414144704\n",
      "Peak value: 42189999.0, Time: 12.09090989899319\n",
      "Peak value: 42178500.0, Time: 12.092574545457836\n",
      "Peak value: 42171500.0, Time: 12.09340686869016\n",
      "Peak value: 42179999.0, Time: 12.095071515154807\n",
      "Peak value: 42176001.0, Time: 12.096736161619454\n",
      "Peak value: 43529999.0, Time: 12.806291717175252\n",
      "Peak value: 43291501.0, Time: 12.66146747475096\n",
      "Peak value: 43289999.0, Time: 12.663132121215607\n",
      "Peak value: 43308499.0, Time: 12.664380606064093\n",
      "Peak value: 43287000.0, Time: 12.66604525252874\n",
      "Peak value: 43279501.0, Time: 12.667293737377225\n",
      "Peak value: 43303500.0, Time: 12.671871515155004\n",
      "Peak value: 43309000.0, Time: 12.672287676771166\n",
      "Peak value: 43271500.0, Time: 12.65897050505399\n",
      "Peak value: 43257001.0, Time: 12.648150303033784\n",
      "Peak value: 43257001.0, Time: 12.648982626266108\n",
      "Peak value: 43257999.0, Time: 12.649814949498431\n",
      "Peak value: 43266000.0, Time: 12.650647272730755\n",
      "Peak value: 43279001.0, Time: 12.659386666670152\n",
      "Peak value: 43284000.0, Time: 12.655641212124696\n",
      "Peak value: 43280499.0, Time: 12.657305858589343\n",
      "Peak value: 43279501.0, Time: 12.658554343437828\n",
      "Peak value: 43357999.0, Time: 12.688101818185313\n",
      "Peak value: 43370001.0, Time: 12.690598787882283\n",
      "Peak value: 43382999.0, Time: 12.691431111114607\n",
      "Peak value: 43366501.0, Time: 12.692679595963092\n",
      "Peak value: 43370499.0, Time: 12.69434424242774\n",
      "Peak value: 43382001.0, Time: 12.695592727276225\n",
      "Peak value: 43379999.0, Time: 12.697673535357033\n",
      "Peak value: 43368500.0, Time: 12.698505858589357\n",
      "Peak value: 43350000.0, Time: 12.686437171720666\n",
      "Peak value: 43312500.0, Time: 12.675200808084298\n",
      "Peak value: 43319000.0, Time: 12.676033131316622\n",
      "Peak value: 43314001.0, Time: 12.678530101013592\n",
      "Peak value: 43348499.0, Time: 12.686021010104504\n",
      "Peak value: 43322000.0, Time: 12.680610909094401\n",
      "Peak value: 43339499.0, Time: 12.681859393942887\n",
      "Peak value: 43345001.0, Time: 12.683940202023695\n",
      "Peak value: 43344501.0, Time: 12.68518868687218\n",
      "Peak value: 43373499.0, Time: 12.698922020205519\n",
      "Peak value: 43170499.0, Time: 12.60944727273074\n",
      "Peak value: 43178500.0, Time: 12.610695757579226\n",
      "Peak value: 43181000.0, Time: 12.61152808081155\n",
      "Peak value: 43184000.0, Time: 12.613608888892358\n",
      "Peak value: 43184000.0, Time: 12.614857373740843\n",
      "Peak value: 43182501.0, Time: 12.616105858589329\n",
      "Peak value: 43180499.0, Time: 12.616938181821652\n",
      "Peak value: 43193500.0, Time: 12.6186028282863\n",
      "Peak value: 43195001.0, Time: 12.619018989902461\n",
      "Peak value: 43173499.0, Time: 12.605701818185285\n",
      "Peak value: 43160001.0, Time: 12.594465454548917\n",
      "Peak value: 43135999.0, Time: 12.595713939397402\n",
      "Peak value: 43163000.0, Time: 12.596962424245888\n",
      "Peak value: 43157501.0, Time: 12.597794747478211\n",
      "Peak value: 43157001.0, Time: 12.598627070710535\n",
      "Peak value: 43164999.0, Time: 12.600291717175182\n",
      "Peak value: 43178000.0, Time: 12.604869494952961\n",
      "Peak value: 43245499.0, Time: 12.646069494952975\n",
      "Peak value: 43234500.0, Time: 12.634000808084284\n",
      "Peak value: 43236499.0, Time: 12.638162424245902\n",
      "Peak value: 43231000.0, Time: 12.639410909094387\n",
      "Peak value: 43244501.0, Time: 12.641491717175196\n",
      "Peak value: 43253000.0, Time: 12.643988686872166\n",
      "Peak value: 43250500.0, Time: 12.64482101010449\n",
      "Peak value: 43217001.0, Time: 12.632336161619637\n",
      "Peak value: 43210501.0, Time: 12.621515959599432\n",
      "Peak value: 43212500.0, Time: 12.62359676768024\n",
      "Peak value: 43202499.0, Time: 12.624845252528726\n",
      "Peak value: 43222000.0, Time: 12.632752323235799\n",
      "Peak value: 43209000.0, Time: 12.627342222225696\n",
      "Peak value: 43216000.0, Time: 12.628590707074181\n",
      "Peak value: 43217001.0, Time: 12.629423030306505\n",
      "Peak value: 43229501.0, Time: 12.631087676771152\n",
      "Peak value: 43378500.0, Time: 12.69933818182168\n",
      "Peak value: 43454999.0, Time: 12.767588686872209\n",
      "Peak value: 43441000.0, Time: 12.768421010104532\n",
      "Peak value: 43445999.0, Time: 12.769669494953018\n",
      "Peak value: 43439499.0, Time: 12.767172525256047\n",
      "Peak value: 43448001.0, Time: 12.77507959596312\n",
      "Peak value: 43435999.0, Time: 12.776744242427768\n",
      "Peak value: 43435001.0, Time: 12.777576565660091\n",
      "Peak value: 43441501.0, Time: 12.778408888892415\n",
      "Peak value: 43452499.0, Time: 12.766756363639885\n",
      "Peak value: 43435999.0, Time: 12.757600808084327\n",
      "Peak value: 43435001.0, Time: 12.758849292932812\n",
      "Peak value: 43429999.0, Time: 12.766340202023724\n",
      "Peak value: 43429001.0, Time: 12.760513939397459\n",
      "Peak value: 43439001.0, Time: 12.762178585862106\n",
      "Peak value: 43437500.0, Time: 12.763427070710591\n",
      "Peak value: 43441501.0, Time: 12.764675555559077\n",
      "Peak value: 43497000.0, Time: 12.794639191922723\n",
      "Peak value: 43497501.0, Time: 12.79630383838737\n",
      "Peak value: 43514499.0, Time: 12.797552323235855\n",
      "Peak value: 43516501.0, Time: 12.798384646468179\n",
      "Peak value: 43507501.0, Time: 12.799633131316664\n",
      "Peak value: 43526001.0, Time: 12.80088161616515\n",
      "Peak value: 43528000.0, Time: 12.802130101013635\n",
      "Peak value: 43526501.0, Time: 12.80337858586212\n",
      "Peak value: 43526999.0, Time: 12.805459393942929\n",
      "Peak value: 43476001.0, Time: 12.793390707074238\n",
      "Peak value: 43454999.0, Time: 12.78215434343787\n",
      "Peak value: 43467001.0, Time: 12.782986666670194\n",
      "Peak value: 43478500.0, Time: 12.783818989902517\n",
      "Peak value: 43469000.0, Time: 12.785067474751003\n",
      "Peak value: 43479501.0, Time: 12.792974545458076\n",
      "Peak value: 43481500.0, Time: 12.790477575761106\n",
      "Peak value: 43474500.0, Time: 12.79172606060959\n",
      "Peak value: 43472501.0, Time: 12.78673212121565\n",
      "Peak value: 43448001.0, Time: 12.752606868690386\n",
      "Peak value: 43417999.0, Time: 12.714736161619665\n",
      "Peak value: 43411499.0, Time: 12.71598464646815\n",
      "Peak value: 43412500.0, Time: 12.717233131316636\n",
      "Peak value: 43419000.0, Time: 12.71806545454896\n",
      "Peak value: 43423499.0, Time: 12.720146262629768\n",
      "Peak value: 43416000.0, Time: 12.724724040407548\n",
      "Peak value: 43420499.0, Time: 12.719730101013607\n",
      "Peak value: 43414001.0, Time: 12.712239191922695\n",
      "Peak value: 43382999.0, Time: 12.70141898990249\n",
      "Peak value: 43379001.0, Time: 12.702251313134813\n",
      "Peak value: 43408499.0, Time: 12.703499797983298\n",
      "Peak value: 43400500.0, Time: 12.712655353538857\n",
      "Peak value: 43396500.0, Time: 12.707245252528754\n",
      "Peak value: 43398999.0, Time: 12.709326060609563\n",
      "Peak value: 43400000.0, Time: 12.710158383841886\n",
      "Peak value: 43412500.0, Time: 12.711406868690371\n",
      "Peak value: 43406000.0, Time: 12.725972525256033\n",
      "Peak value: 43410501.0, Time: 12.740954343437856\n",
      "Peak value: 43410001.0, Time: 12.74178666667018\n",
      "Peak value: 43422000.0, Time: 12.743451313134827\n",
      "Peak value: 43412000.0, Time: 12.744699797983312\n",
      "Peak value: 43432999.0, Time: 12.745948282831797\n",
      "Peak value: 43424500.0, Time: 12.74636444444796\n",
      "Peak value: 43431500.0, Time: 12.747612929296444\n",
      "Peak value: 43429001.0, Time: 12.74886141414493\n",
      "Peak value: 43429501.0, Time: 12.749693737377253\n",
      "Peak value: 43419000.0, Time: 12.750526060609577\n",
      "Peak value: 43442499.0, Time: 12.752190707074224\n",
      "Peak value: 43409500.0, Time: 12.73928969697321\n",
      "Peak value: 43404501.0, Time: 12.72763717172068\n",
      "Peak value: 43429501.0, Time: 12.729301818185327\n",
      "Peak value: 43428500.0, Time: 12.730966464649974\n",
      "Peak value: 43439001.0, Time: 12.733463434346945\n",
      "Peak value: 43435999.0, Time: 12.734295757579268\n",
      "Peak value: 43432999.0, Time: 12.735544242427753\n",
      "Peak value: 43411499.0, Time: 12.7372088888924\n",
      "Peak value: 43151501.0, Time: 12.593216969700432\n",
      "Peak value: 42856000.0, Time: 12.447976565659978\n",
      "Peak value: 42860501.0, Time: 12.450057373740787\n",
      "Peak value: 42855499.0, Time: 12.446728080811493\n",
      "Peak value: 42860001.0, Time: 12.455051313134728\n",
      "Peak value: 42866501.0, Time: 12.45796444444786\n",
      "Peak value: 42854999.0, Time: 12.45297050505392\n",
      "Peak value: 42866000.0, Time: 12.445479595963008\n",
      "Peak value: 42835001.0, Time: 12.43424323232664\n",
      "Peak value: 42844000.0, Time: 12.437988686872096\n",
      "Peak value: 42879999.0, Time: 12.44589575757917\n",
      "Peak value: 42860001.0, Time: 12.440901818185228\n",
      "Peak value: 42870499.0, Time: 12.442566464649875\n",
      "Peak value: 42866000.0, Time: 12.443398787882199\n",
      "Peak value: 42860999.0, Time: 12.444231111114522\n",
      "Peak value: 42854999.0, Time: 12.445063434346846\n",
      "Peak value: 42895499.0, Time: 12.473778585862007\n",
      "Peak value: 42882001.0, Time: 12.47461090909433\n",
      "Peak value: 42907999.0, Time: 12.476275555558978\n",
      "Peak value: 42907501.0, Time: 12.477107878791301\n",
      "Peak value: 42913501.0, Time: 12.477940202023625\n",
      "Peak value: 42901001.0, Time: 12.47918868687211\n",
      "Peak value: 42931500.0, Time: 12.481269494952919\n",
      "Peak value: 42917999.0, Time: 12.482517979801404\n",
      "Peak value: 42918500.0, Time: 12.485014949498375\n",
      "Peak value: 42881500.0, Time: 12.472946262629684\n",
      "Peak value: 42866501.0, Time: 12.460877575760993\n",
      "Peak value: 42870999.0, Time: 12.461709898993316\n",
      "Peak value: 42875500.0, Time: 12.46254222222564\n",
      "Peak value: 42887500.0, Time: 12.463790707074125\n",
      "Peak value: 42901501.0, Time: 12.472530101013522\n",
      "Peak value: 42885999.0, Time: 12.467120000003419\n",
      "Peak value: 42882999.0, Time: 12.470865454548875\n",
      "Peak value: 42879501.0, Time: 12.471697777781198\n",
      "Peak value: 42919501.0, Time: 12.485431111114536\n",
      "Peak value: 42735501.0, Time: 12.395124040407435\n",
      "Peak value: 42739001.0, Time: 12.395956363639758\n",
      "Peak value: 42739999.0, Time: 12.396788686872082\n",
      "Peak value: 42739001.0, Time: 12.397621010104405\n",
      "Peak value: 42723999.0, Time: 12.39886949495289\n",
      "Peak value: 42741501.0, Time: 12.399285656569052\n",
      "Peak value: 42773999.0, Time: 12.404279595962993\n",
      "Peak value: 42770999.0, Time: 12.405111919195317\n",
      "Peak value: 42785001.0, Time: 12.405528080811479\n",
      "Peak value: 42714499.0, Time: 12.380974545457935\n",
      "Peak value: 42704501.0, Time: 12.38222303030642\n",
      "Peak value: 42709000.0, Time: 12.383055353538744\n",
      "Peak value: 42713501.0, Time: 12.392627070710464\n",
      "Peak value: 42723999.0, Time: 12.388049292932685\n",
      "Peak value: 42720999.0, Time: 12.389713939397332\n",
      "Peak value: 42728500.0, Time: 12.39179474747814\n",
      "Peak value: 42842499.0, Time: 12.432578585861993\n",
      "Peak value: 42831500.0, Time: 12.421758383841787\n",
      "Peak value: 42807001.0, Time: 12.42467151515492\n",
      "Peak value: 42807999.0, Time: 12.425503838387243\n",
      "Peak value: 42813501.0, Time: 12.425920000003405\n",
      "Peak value: 42813000.0, Time: 12.427584646468052\n",
      "Peak value: 42819501.0, Time: 12.42966545454886\n",
      "Peak value: 42827499.0, Time: 12.430497777781184\n",
      "Peak value: 42831000.0, Time: 12.43174626262967\n",
      "Peak value: 42795499.0, Time: 12.419677575760979\n",
      "Peak value: 42782501.0, Time: 12.407608888892288\n",
      "Peak value: 42785501.0, Time: 12.408857373740773\n",
      "Peak value: 42787000.0, Time: 12.410938181821582\n",
      "Peak value: 42810501.0, Time: 12.412602828286229\n",
      "Peak value: 42784500.0, Time: 12.414683636367037\n",
      "Peak value: 42788501.0, Time: 12.415932121215523\n",
      "Peak value: 43091000.0, Time: 12.55493010101355\n",
      "Peak value: 43096500.0, Time: 12.556178585862035\n",
      "Peak value: 43099500.0, Time: 12.557010909094359\n",
      "Peak value: 43100000.0, Time: 12.557843232326682\n",
      "Peak value: 43082501.0, Time: 12.559091717175168\n",
      "Peak value: 43100000.0, Time: 12.560756363639815\n",
      "Peak value: 43104501.0, Time: 12.561588686872138\n",
      "Peak value: 43114999.0, Time: 12.562837171720624\n",
      "Peak value: 43103500.0, Time: 12.564085656569109\n",
      "Peak value: 43110999.0, Time: 12.564917979801432\n",
      "Peak value: 43103000.0, Time: 12.559924040407491\n",
      "Peak value: 43070999.0, Time: 12.54327757576102\n",
      "Peak value: 43064001.0, Time: 12.544526060609506\n",
      "Peak value: 43076501.0, Time: 12.552849292932741\n",
      "Peak value: 43061499.0, Time: 12.547023030306477\n",
      "Peak value: 43060001.0, Time: 12.548271515154962\n",
      "Peak value: 43069501.0, Time: 12.549103838387285\n",
      "Peak value: 43064001.0, Time: 12.549936161619609\n",
      "Peak value: 43076001.0, Time: 12.550768484851933\n",
      "Peak value: 43073999.0, Time: 12.552016969700418\n",
      "Peak value: 43104001.0, Time: 12.566166464649918\n",
      "Peak value: 43131500.0, Time: 12.582396767680226\n",
      "Peak value: 43132999.0, Time: 12.58322909091255\n",
      "Peak value: 43142499.0, Time: 12.584061414144873\n",
      "Peak value: 43129501.0, Time: 12.58572606060952\n",
      "Peak value: 43132999.0, Time: 12.587806868690329\n",
      "Peak value: 43137500.0, Time: 12.589471515154976\n",
      "Peak value: 43145001.0, Time: 12.590720000003461\n",
      "Peak value: 43145499.0, Time: 12.591552323235785\n",
      "Peak value: 43134000.0, Time: 12.579899797983256\n",
      "Peak value: 43120499.0, Time: 12.571160404043859\n",
      "Peak value: 43125500.0, Time: 12.579483636367094\n",
      "Peak value: 43119501.0, Time: 12.574905858589315\n",
      "Peak value: 43122000.0, Time: 12.5761543434378\n",
      "Peak value: 43116000.0, Time: 12.576986666670123\n",
      "Peak value: 43116501.0, Time: 12.577818989902447\n",
      "Peak value: 43119501.0, Time: 12.57865131313477\n",
      "Peak value: 43039999.0, Time: 12.539532121215565\n",
      "Peak value: 42948999.0, Time: 12.504574545457977\n",
      "Peak value: 42942001.0, Time: 12.505823030306463\n",
      "Peak value: 42947000.0, Time: 12.507071515154948\n",
      "Peak value: 42959500.0, Time: 12.508736161619595\n",
      "Peak value: 42963501.0, Time: 12.50998464646808\n",
      "Peak value: 42960999.0, Time: 12.510816969700404\n",
      "Peak value: 42963501.0, Time: 12.511649292932727\n",
      "Peak value: 42979001.0, Time: 12.512065454548889\n",
      "Peak value: 42925500.0, Time: 12.487928080811507\n",
      "Peak value: 42928500.0, Time: 12.48876040404383\n",
      "Peak value: 42938501.0, Time: 12.489592727276154\n",
      "Peak value: 42922501.0, Time: 12.490425050508478\n",
      "Peak value: 42930499.0, Time: 12.499164444447874\n",
      "Peak value: 42930499.0, Time: 12.493754343437772\n",
      "Peak value: 42939999.0, Time: 12.495418989902419\n",
      "Peak value: 42945499.0, Time: 12.496251313134742\n",
      "Peak value: 42954001.0, Time: 12.49791595959939\n",
      "Peak value: 42996500.0, Time: 12.512897777781212\n",
      "Peak value: 43017499.0, Time: 12.52871191919536\n",
      "Peak value: 43027499.0, Time: 12.530792727276168\n",
      "Peak value: 43016000.0, Time: 12.532457373740815\n",
      "Peak value: 43026999.0, Time: 12.5337058585893\n",
      "Peak value: 43037500.0, Time: 12.537867474750918\n",
      "Peak value: 43036499.0, Time: 12.538699797983242\n",
      "Peak value: 43019501.0, Time: 12.52663111111455\n",
      "Peak value: 42989999.0, Time: 12.514978585862021\n",
      "Peak value: 42975000.0, Time: 12.516643232326668\n",
      "Peak value: 43004501.0, Time: 12.521221010104448\n",
      "Peak value: 43020001.0, Time: 12.522053333336771\n",
      "Peak value: 43005499.0, Time: 12.523717979801418\n",
      "Peak value: 45335999.0, Time: 13.660255353539181\n",
      "Peak value: 39325000.0, Time: 10.244400808083466\n",
      "Peak value: 39076501.0, Time: 10.099576565659174\n",
      "Peak value: 39073499.0, Time: 10.100825050507659\n",
      "Peak value: 39074500.0, Time: 10.101657373739982\n",
      "Peak value: 39072000.0, Time: 10.102905858588468\n",
      "Peak value: 39076999.0, Time: 10.104570505053115\n",
      "Peak value: 39081500.0, Time: 10.107067474750085\n",
      "Peak value: 39071500.0, Time: 10.10831595959857\n",
      "Peak value: 39078000.0, Time: 10.109980606063218\n",
      "Peak value: 39087000.0, Time: 10.110812929295541\n",
      "Peak value: 39047000.0, Time: 10.086675555558159\n",
      "Peak value: 39047000.0, Time: 10.087507878790483\n",
      "Peak value: 39068500.0, Time: 10.088756363638968\n",
      "Peak value: 39057999.0, Time: 10.097911919194527\n",
      "Peak value: 39046500.0, Time: 10.092917979800585\n",
      "Peak value: 39047501.0, Time: 10.09416646464907\n",
      "Peak value: 39060501.0, Time: 10.094998787881394\n",
      "Peak value: 39056500.0, Time: 10.097079595962203\n",
      "Peak value: 39077499.0, Time: 10.112061414144026\n",
      "Peak value: 39100500.0, Time: 10.12704323232585\n",
      "Peak value: 39111499.0, Time: 10.128707878790497\n",
      "Peak value: 39091501.0, Time: 10.130372525255144\n",
      "Peak value: 39092999.0, Time: 10.132453333335953\n",
      "Peak value: 39106000.0, Time: 10.134534141416761\n",
      "Peak value: 39101001.0, Time: 10.135366464649085\n",
      "Peak value: 39113000.0, Time: 10.136198787881408\n",
      "Peak value: 39088501.0, Time: 10.124130101012717\n",
      "Peak value: 39090500.0, Time: 10.115806868689482\n",
      "Peak value: 39082501.0, Time: 10.117055353537967\n",
      "Peak value: 39075000.0, Time: 10.12454626262888\n",
      "Peak value: 39089001.0, Time: 10.119136161618776\n",
      "Peak value: 39100500.0, Time: 10.1199684848511\n",
      "Peak value: 39096500.0, Time: 10.121633131315747\n",
      "Peak value: 39097000.0, Time: 10.122881616164232\n",
      "Peak value: 39094501.0, Time: 10.137447272729894\n",
      "Peak value: 38962500.0, Time: 10.049637171719763\n",
      "Peak value: 38960001.0, Time: 10.045475555558145\n",
      "Peak value: 38958499.0, Time: 10.052134141416733\n",
      "Peak value: 38969501.0, Time: 10.054214949497542\n",
      "Peak value: 38963501.0, Time: 10.055463434346027\n",
      "Peak value: 38982501.0, Time: 10.05629575757835\n",
      "Peak value: 38975000.0, Time: 10.057128080810674\n",
      "Peak value: 38964001.0, Time: 10.057544242426836\n",
      "Peak value: 38966501.0, Time: 10.04422707070966\n",
      "Peak value: 38945999.0, Time: 10.034239191921777\n",
      "Peak value: 38958499.0, Time: 10.035071515154101\n",
      "Peak value: 38964001.0, Time: 10.036320000002586\n",
      "Peak value: 38972000.0, Time: 10.044643232325821\n",
      "Peak value: 38972501.0, Time: 10.03964929293188\n",
      "Peak value: 38968500.0, Time: 10.040897777780366\n",
      "Peak value: 38959000.0, Time: 10.042146262628851\n",
      "Peak value: 38969501.0, Time: 10.042978585861174\n",
      "Peak value: 38957001.0, Time: 10.043810909093498\n",
      "Peak value: 39047501.0, Time: 10.08459474747735\n",
      "Peak value: 39017499.0, Time: 10.072942222224821\n",
      "Peak value: 39014001.0, Time: 10.074190707073306\n",
      "Peak value: 39007501.0, Time: 10.075439191921792\n",
      "Peak value: 39021500.0, Time: 10.076687676770277\n",
      "Peak value: 39019501.0, Time: 10.0775200000026\n",
      "Peak value: 39023001.0, Time: 10.078768484851086\n",
      "Peak value: 39023999.0, Time: 10.082513939396542\n",
      "Peak value: 39035999.0, Time: 10.083762424245027\n",
      "Peak value: 39005499.0, Time: 10.071693737376336\n",
      "Peak value: 38985999.0, Time: 10.060041212123807\n",
      "Peak value: 38999500.0, Time: 10.061289696972292\n",
      "Peak value: 38987000.0, Time: 10.062122020204615\n",
      "Peak value: 39004501.0, Time: 10.071277575760174\n",
      "Peak value: 38981000.0, Time: 10.06545131313391\n",
      "Peak value: 38997000.0, Time: 10.067115959598556\n",
      "Peak value: 38998999.0, Time: 10.06794828283088\n",
      "Peak value: 39004999.0, Time: 10.069196767679365\n",
      "Peak value: 39283499.0, Time: 10.206946262628907\n",
      "Peak value: 39270499.0, Time: 10.20777858586123\n",
      "Peak value: 39269501.0, Time: 10.209443232325878\n",
      "Peak value: 39280499.0, Time: 10.211107878790525\n",
      "Peak value: 39269000.0, Time: 10.211524040406687\n",
      "Peak value: 39285501.0, Time: 10.216101818184466\n",
      "Peak value: 39300500.0, Time: 10.21693414141679\n",
      "Peak value: 39299500.0, Time: 10.217766464649113\n",
      "Peak value: 39217001.0, Time: 10.19321292929557\n",
      "Peak value: 39220499.0, Time: 10.194045252527893\n",
      "Peak value: 39239499.0, Time: 10.194877575760216\n",
      "Peak value: 39247000.0, Time: 10.204865454548099\n",
      "Peak value: 39238000.0, Time: 10.199039191921834\n",
      "Peak value: 39260501.0, Time: 10.199871515154157\n",
      "Peak value: 39260001.0, Time: 10.201536161618804\n",
      "Peak value: 39257001.0, Time: 10.20278464646729\n",
      "Peak value: 39249500.0, Time: 10.204033131315775\n",
      "Peak value: 39317001.0, Time: 10.233164444447098\n",
      "Peak value: 39321500.0, Time: 10.233996767679422\n",
      "Peak value: 39320001.0, Time: 10.234829090911745\n",
      "Peak value: 39314999.0, Time: 10.236493737376392\n",
      "Peak value: 39320499.0, Time: 10.23815838384104\n",
      "Peak value: 39317499.0, Time: 10.239823030305686\n",
      "Peak value: 39334000.0, Time: 10.242320000002657\n",
      "Peak value: 39320499.0, Time: 10.24315232323498\n",
      "Peak value: 39315500.0, Time: 10.238574545457201\n",
      "Peak value: 39307999.0, Time: 10.220679595962245\n",
      "Peak value: 39304999.0, Time: 10.221511919194569\n",
      "Peak value: 39288000.0, Time: 10.222344242426892\n",
      "Peak value: 39307999.0, Time: 10.22400888889154\n",
      "Peak value: 39313501.0, Time: 10.231499797982451\n",
      "Peak value: 39320999.0, Time: 10.22650585858851\n",
      "Peak value: 39300000.0, Time: 10.228170505053157\n",
      "Peak value: 39311499.0, Time: 10.22900282828548\n",
      "Peak value: 39312000.0, Time: 10.230667474750128\n",
      "Peak value: 39217999.0, Time: 10.191548282830922\n",
      "Peak value: 39144501.0, Time: 10.154509898992526\n",
      "Peak value: 39141000.0, Time: 10.156174545457173\n",
      "Peak value: 39157001.0, Time: 10.157006868689496\n",
      "Peak value: 39138501.0, Time: 10.159087676770305\n",
      "Peak value: 39150500.0, Time: 10.161584646467276\n",
      "Peak value: 39142499.0, Time: 10.163249292931923\n",
      "Peak value: 39142999.0, Time: 10.164081616164246\n",
      "Peak value: 39139001.0, Time: 10.15076444444707\n",
      "Peak value: 39119501.0, Time: 10.14119272727535\n",
      "Peak value: 39120499.0, Time: 10.142441212123835\n",
      "Peak value: 39126999.0, Time: 10.143273535356158\n",
      "Peak value: 39149500.0, Time: 10.151180606063232\n",
      "Peak value: 39126501.0, Time: 10.145770505053129\n",
      "Peak value: 39129999.0, Time: 10.149515959598585\n",
      "Peak value: 39128500.0, Time: 10.150348282830908\n",
      "Peak value: 39205499.0, Time: 10.184473535356172\n",
      "Peak value: 39203000.0, Time: 10.184889696972334\n",
      "Peak value: 39201001.0, Time: 10.18613818182082\n",
      "Peak value: 39196500.0, Time: 10.186970505053143\n",
      "Peak value: 39201501.0, Time: 10.187802828285466\n",
      "Peak value: 39209000.0, Time: 10.189051313133952\n",
      "Peak value: 39224500.0, Time: 10.190299797982437\n",
      "Peak value: 39160501.0, Time: 10.178231111113746\n",
      "Peak value: 39142001.0, Time: 10.166994747477379\n",
      "Peak value: 39145499.0, Time: 10.168243232325864\n",
      "Peak value: 39162000.0, Time: 10.169491717174349\n",
      "Peak value: 39172501.0, Time: 10.170740202022834\n",
      "Peak value: 39160999.0, Time: 10.171572525255158\n",
      "Peak value: 39145999.0, Time: 10.173237171719805\n",
      "Peak value: 39179999.0, Time: 10.17448565656829\n",
      "Peak value: 39156500.0, Time: 10.176566464649099\n",
      "Peak value: 39172501.0, Time: 10.177398787881422\n",
      "Peak value: 38929999.0, Time: 10.000946262628837\n",
      "Peak value: 38948499.0, Time: 10.00177858586116\n",
      "Peak value: 38943500.0, Time: 10.004691717174293\n",
      "Peak value: 38928500.0, Time: 10.020089696972278\n",
      "Peak value: 38931000.0, Time: 10.020922020204601\n",
      "Peak value: 38936499.0, Time: 10.021754343436925\n",
      "Peak value: 38938501.0, Time: 10.023418989901572\n",
      "Peak value: 38952499.0, Time: 10.018841212123792\n",
      "Peak value: 38939499.0, Time: 10.025915959598542\n",
      "Peak value: 38954999.0, Time: 10.027164444447028\n",
      "Peak value: 38950000.0, Time: 10.028829090911675\n",
      "Peak value: 38951999.0, Time: 10.005107878790454\n",
      "Peak value: 38951999.0, Time: 10.005940202022778\n",
      "Peak value: 38938501.0, Time: 10.007188686871263\n",
      "Peak value: 38945001.0, Time: 10.008437171719748\n",
      "Peak value: 38944501.0, Time: 10.009269494952072\n",
      "Peak value: 38945001.0, Time: 10.010934141416719\n",
      "Peak value: 38944000.0, Time: 10.012182626265204\n",
      "Peak value: 38946500.0, Time: 10.011766464649043\n"
     ]
    }
   ],
   "source": [
    "import numpy as np\n",
    "from scipy.signal import find_peaks\n",
    "\n",
    "# Extract the intensity values from the DataFrame\n",
    "intensity_values = df_OzESI_time['Intensity_1'].values\n",
    "\n",
    "# Find peaks in the intensity values\n",
    "peaks, _ = find_peaks(intensity_values)\n",
    "\n",
    "# Get the peak values and their corresponding time points\n",
    "peak_values = intensity_values[peaks]\n",
    "time_points = df_OzESI_time['Time'].values[peaks]\n",
    "\n",
    "# Print the peaks and their corresponding time points\n",
    "for peak, time in zip(peak_values, time_points):\n",
    "    print(f\"Peak value: {peak}, Time: {time}\")\n"
   ]
  },
  {
   "cell_type": "code",
   "execution_count": 191,
   "metadata": {},
   "outputs": [],
   "source": [
    "import matplotlib.pyplot as plt\n",
    "from scipy.stats import norm\n",
    "from sklearn.mixture import GaussianMixture\n",
    "\n",
    "# Get the unique transitions in the DataFrame\n",
    "transitions = df_OzESI_time['Transition'].unique()\n",
    "\n",
    "peak_dict = {}\n",
    "\n",
    "# Iterate over each transition\n",
    "for transition in transitions:\n",
    "    # Filter the DataFrame for the current transition\n",
    "    transition_df = df_OzESI_time[df_OzESI_time['Transition'] == transition]\n",
    "\n",
    "    # Extract the intensity values for the current transition\n",
    "    intensity_values = transition_df['Intensity_1'].values.reshape(-1, 1)\n",
    "\n",
    "    # Fit Gaussian Mixture Model to the intensity values\n",
    "    gmm = GaussianMixture(n_components=1)\n",
    "    gmm.fit(intensity_values)\n",
    "\n",
    "    # Get the mean and standard deviation of the fitted Gaussian component\n",
    "    mean = gmm.means_[0][0]\n",
    "    std = np.sqrt(gmm.covariances_[0][0][0])\n",
    "\n",
    "    # Set the peak threshold as mean + 2 standard deviations (adjust as needed)\n",
    "    threshold = mean + 1 * std\n",
    "\n",
    "    # Find the indices of the intensity values that exceed the threshold\n",
    "    peak_indices = np.where(intensity_values > threshold)[0]\n",
    "\n",
    "    # Get the peak values and their corresponding time points\n",
    "    peak_values = intensity_values[peak_indices]\n",
    "    peak_time_points = transition_df['Time'].values[peak_indices]\n",
    "\n",
    "    # add the peak values and their corresponding time points to the dictionary\n",
    "    peak_dict[transition] = (peak_values, peak_time_points)\n",
    "\n",
    "\n",
    "    # # #Create a plot for the current transition\n",
    "    # plt.figure()\n",
    "    # plt.scatter(transition_df['Time'], transition_df['Intensity_1'], label='Intensity')\n",
    "    # plt.scatter(peak_time_points, peak_values, color='red', label='Peaks')\n",
    "    # plt.xlabel('Time')\n",
    "    # plt.ylabel('Intensity')\n",
    "    # plt.title(f'Peaks for Transition: {transition}')\n",
    "    # plt.legend()\n",
    "    # plt.show()\n",
    "\n",
    "# print(peak_dict)"
   ]
  },
  {
   "cell_type": "code",
   "execution_count": 174,
   "metadata": {},
   "outputs": [
    {
     "name": "stdout",
     "output_type": "stream",
     "text": [
      "[]\n"
     ]
    }
   ],
   "source": []
  },
  {
   "attachments": {},
   "cell_type": "markdown",
   "metadata": {},
   "source": [
    "Run all Lipid MRM functions"
   ]
  },
  {
   "cell_type": "code",
   "execution_count": 126,
   "metadata": {},
   "outputs": [
    {
     "name": "stderr",
     "output_type": "stream",
     "text": [
      "/tmp/ipykernel_1099/2674365659.py:14: SettingWithCopyWarning: \n",
      "A value is trying to be set on a copy of a slice from a DataFrame.\n",
      "Try using .loc[row_indexer,col_indexer] = value instead\n",
      "\n",
      "See the caveats in the documentation: https://pandas.pydata.org/pandas-docs/stable/user_guide/indexing.html#returning-a-view-versus-a-copy\n",
      "  mrm_list_offical['Parent_Ion'] = np.round(mrm_list_offical['Parent_Ion'],1)\n",
      "/tmp/ipykernel_1099/2674365659.py:15: SettingWithCopyWarning: \n",
      "A value is trying to be set on a copy of a slice from a DataFrame.\n",
      "Try using .loc[row_indexer,col_indexer] = value instead\n",
      "\n",
      "See the caveats in the documentation: https://pandas.pydata.org/pandas-docs/stable/user_guide/indexing.html#returning-a-view-versus-a-copy\n",
      "  mrm_list_offical['Product_Ion'] = np.round(mrm_list_offical['Product_Ion'],1)\n",
      "/tmp/ipykernel_1099/2674365659.py:17: SettingWithCopyWarning: \n",
      "A value is trying to be set on a copy of a slice from a DataFrame.\n",
      "Try using .loc[row_indexer,col_indexer] = value instead\n",
      "\n",
      "See the caveats in the documentation: https://pandas.pydata.org/pandas-docs/stable/user_guide/indexing.html#returning-a-view-versus-a-copy\n",
      "  mrm_list_offical['Transition'] = mrm_list_offical['Parent_Ion'].astype(str) + ' -> ' + mrm_list_offical['Product_Ion'].astype(str)\n"
     ]
    },
    {
     "name": "stdout",
     "output_type": "stream",
     "text": [
      "Failed to save DataFrame after 5 attempts.\n"
     ]
    },
    {
     "name": "stderr",
     "output_type": "stream",
     "text": [
      "/tmp/ipykernel_1099/2674365659.py:90: FutureWarning: The frame.append method is deprecated and will be removed from pandas in a future version. Use pandas.concat instead.\n",
      "  df = df.append(df_all, ignore_index=True)\n"
     ]
    }
   ],
   "source": [
    "df_matched = full_parse(data_base_name_location,mzml_folder, folder_name_to_save, \n",
    "                        file_name_to_save,tolerance, remove_std = remove_std,save_data=save_data)\n",
    "\n"
   ]
  },
  {
   "attachments": {},
   "cell_type": "markdown",
   "metadata": {},
   "source": [
    "LC OzESI Lipid Parsing and Retention Time Functions"
   ]
  },
  {
   "cell_type": "code",
   "execution_count": 195,
   "metadata": {},
   "outputs": [],
   "source": [
    "\n",
    "\n",
    "def process_chromatogram(OzESI_time):\n",
    "    # Create dataframe from OzESI_time dictionary\n",
    "    OzESI_rt_df = pd.DataFrame(list(OzESI_time.items()), columns=['Retention_Time', 'intensity'])\n",
    "    \n",
    "    # Split intensity column into three columns intensity, Parent_Ion and Product_Ion\n",
    "    OzESI_rt_df[['intensity','Parent_Ion','Product_Ion']] = pd.DataFrame(OzESI_rt_df['intensity'].tolist(), index=OzESI_rt_df.index)\n",
    "    \n",
    "    # Round retention Retention_Time to 1 decimal place\n",
    "    OzESI_rt_df['Retention_Time'] = round(OzESI_rt_df['Retention_Time'], 2)\n",
    "    \n",
    "    \n",
    "    # Create a column called Transition with the Parent_Ion and Product_Ion\n",
    "    OzESI_rt_df['Transition'] = OzESI_rt_df['Parent_Ion'].astype(str) + ' -> ' + OzESI_rt_df['Product_Ion'].astype(str)\n",
    "    \n",
    "    ########### HARDCODED TO DROP RETENTION TIMES BELOW 7 SECONDS ############\n",
    "    #drop Rention_Time below 10.5 seconds and above 15.5 seconds\n",
    "    OzESI_rt_df = OzESI_rt_df[OzESI_rt_df['Retention_Time'] > 10.5]\n",
    "    OzESI_rt_df = OzESI_rt_df[OzESI_rt_df['Retention_Time'] < 15.5]\n",
    "\n",
    "####################################\n",
    "###########################################\n",
    "###################################\n",
    "    # # Sort dataframe  and take the average retention time for each transition\n",
    "    # OzESI_rt_df['Retention_Time_Average'] = OzESI_rt_df.groupby('Transition')['Retention_Time'].transform('mean')\n",
    "    # print('OzESI_rt_df: \\n', OzESI_rt_df.head(10))\n",
    "\n",
    "\n",
    "    # Sort dataframe by intensity, drop duplicates, and find the 10 largest values\n",
    "   \n",
    "    \n",
    "\n",
    "    #OzESI_rt_df_sorted = OzESI_rt_df.sort_values(['intensity'], ascending=False).drop_duplicates(['Parent_Ion','Product_Ion']).sort_index()\n",
    "\n",
    "    # Sort the DataFrame by intensity in descending order\n",
    "    OzESI_rt_df_sorted = OzESI_rt_df.sort_values(['intensity'], ascending=False)\n",
    "    # Group the DataFrame by 'Parent_Ion' and 'Product_Ion'\n",
    "    grouped_df = OzESI_rt_df_sorted.groupby(['Parent_Ion', 'Product_Ion'])\n",
    "\n",
    "    # Create an empty DataFrame to store the top 5 values\n",
    "    top_5_df = pd.DataFrame(columns=OzESI_rt_df.columns)\n",
    "\n",
    "    # Iterate over each group\n",
    "    for _, group in grouped_df:\n",
    "        # Get the top 5 rows with the highest intensity\n",
    "        top_5_rows = group.head(5)\n",
    "        # Append the top 5 rows to the 'top_5_df'\n",
    "        top_5_df = top_5_df.append(top_5_rows)\n",
    "\n",
    "    # Sort the 'top_5_df' by the original index\n",
    "    top_5_df.sort_index(inplace=True)\n",
    "\n",
    "# Print the DataFrame with the top 5 values for each 'Parent_Ion' and 'Product_Ion'\n",
    "    print(top_5_df)\n",
    "    OzESI_rt_df_top = top_5_df.nlargest(1000, 'intensity')\n",
    "    #OzESI_rt_df_top = OzESI_rt_df_sorted.nlargest(1000, 'intensity')\n",
    "\n",
    "    print('OzESI 10 largest: \\n', OzESI_rt_df_top)\n",
    "    \n",
    "    # # Find peaks in the intensity column and plot the chromatogram\n",
    "    # peaks, _ = find_peaks(OzESI_rt_df['intensity'], height=0.5e5,distance=1000)\n",
    "    # plt.plot(OzESI_rt_df['Retention_Time'] ,OzESI_rt_df['intensity'])\n",
    "    # plt.plot(OzESI_rt_df.iloc[peaks]['Retention_Time'], OzESI_rt_df.iloc[peaks]['intensity'], \"x\")\n",
    "    # plt.ylabel('Intensity')\n",
    "    # plt.xlabel('Retention Time')\n",
    "    # plt.title('OzESI LC Chromatogram')\n",
    "    # plt.show()\n",
    "    \n",
    "    return OzESI_rt_df_top\n",
    "\n",
    "def add_rt_intensity(df, OzESI_rt_df_top):\n",
    "    # Create a dictionary to map transitions to retention times and intensities\n",
    "    transitions_to_rt = dict(zip(OzESI_rt_df_top['Transition'], OzESI_rt_df_top['Retention_Time']))\n",
    "    transitions_to_intensity = dict(zip(OzESI_rt_df_top['Transition'], OzESI_rt_df_top['intensity']))\n",
    "    \n",
    "    # Use the map function to add retention times and intensities to the dataframe\n",
    "    df['Retention_Time'] = df['Transition'].map(transitions_to_rt)\n",
    "    df['Intensity_OzESI'] = df['Transition'].map(transitions_to_intensity)\n",
    "    \n",
    "    return df\n",
    "\n",
    "def create_aldehyde_ion_dataframe():\n",
    "    # Create a pandas dataframe with columns for DB_Position and Aldehyde_Ion\n",
    "    df_OzESI = pd.DataFrame(columns=['DB_Position','Aldehyde_Ion'])\n",
    "\n",
    "    # Loop over the range of DB_Position values and calculate the corresponding Aldehyde_Ion values\n",
    "    for i in range(3, 21):\n",
    "        df_OzESI.loc[i,'DB_Position'] = i\n",
    "        df_OzESI.loc[i,'Aldehyde_Ion'] = 26 + (14 * (i-3)) \n",
    "\n",
    "    # Print the first 25 rows of the dataframe\n",
    "    # print(df_OzESI.head(25))\n",
    "\n",
    "    # Return the dataframe\n",
    "    return df_OzESI\n",
    "\n",
    "#OzESI_list = [3,5,7,9,11]\n",
    "OzESI_list = [7,9,12]\n",
    "#def calculate_n_minus_values(df_matched, df_OzESI, OzESI_list=[3,5,7,9,11], starting_column=9, last_column=14):\n",
    "def calculate_n_minus_values(df_matched, df_OzESI, OzESI_list=[7,9,12], starting_column=9, last_column=14):\n",
    "    \"\"\"\n",
    "    Given a pandas dataframe df and a dataframe df_OzESI containing DB_Position and Aldehyde_Ion values,\n",
    "    calculates the n-i values for each i in OzESI_list by subtracting the corresponding Aldehyde_Ion value\n",
    "    from the Parent_Ion column in df and storing the result in new columns named 'n-i' in df.\n",
    "    The starting_column and last_column parameters specify the range of columns in which the n-i values should be stored.\n",
    "    \"\"\"\n",
    "    # Create new columns in df for n-i values\n",
    "    for i in OzESI_list:\n",
    "        df_matched[f\"n-{i}\"] = df_matched[\"Parent_Ion\"] - df_OzESI.loc[df_OzESI[\"DB_Position\"] == i, \"Aldehyde_Ion\"].values[0]\n",
    "    \n",
    "    # Print the shape of the dataframe and return it\n",
    "    # print(df_matched.shape)\n",
    "    return df_matched\n",
    "\n",
    "\n",
    "# OzESI_rt_df_top = process_chromatogram(OzESI_time)\n"
   ]
  },
  {
   "attachments": {},
   "cell_type": "markdown",
   "metadata": {},
   "source": [
    "Pipeline to run all LC OzESI functions"
   ]
  },
  {
   "cell_type": "code",
   "execution_count": 197,
   "metadata": {},
   "outputs": [
    {
     "name": "stdout",
     "output_type": "stream",
     "text": [
      "       Retention_Time   intensity  Parent_Ion  Product_Ion      Transition\n",
      "3016            10.81       485.0       740.8        551.6  740.8 -> 551.6\n",
      "3130            11.21    100034.0       876.8        577.6  876.8 -> 577.6\n",
      "3133            11.23     86088.0       850.8        551.6  850.8 -> 551.6\n",
      "3164            11.34    193831.0       876.8        577.6  876.8 -> 577.6\n",
      "3170            11.36     37467.0       820.8        603.6  820.8 -> 603.6\n",
      "3172            11.36      2994.0       816.8        599.6  816.8 -> 599.6\n",
      "3186            11.42       496.0       740.8        551.6  740.8 -> 551.6\n",
      "3201            11.47     70972.0       850.8        551.6  850.8 -> 551.6\n",
      "3210            11.50      5377.0       790.8        601.6  790.8 -> 601.6\n",
      "3229            11.57      1849.0         0.0          0.0      0.0 -> 0.0\n",
      "3263            11.69      3903.0         0.0          0.0      0.0 -> 0.0\n",
      "3287            11.78       985.0       746.8        599.6  746.8 -> 599.6\n",
      "3297            11.81      1517.0         0.0          0.0      0.0 -> 0.0\n",
      "3312            11.86      5245.0       790.8        601.6  790.8 -> 601.6\n",
      "3315            11.87       837.0       768.8        551.6  768.8 -> 551.6\n",
      "3327            11.92      1720.0       720.6        573.6  720.6 -> 573.6\n",
      "3328            11.93       571.0       698.7        551.6  698.7 -> 551.6\n",
      "3331            11.94      1386.0         0.0          0.0      0.0 -> 0.0\n",
      "3362            12.05       572.0       698.7        551.6  698.7 -> 551.6\n",
      "3396            12.17       559.0       698.7        551.6  698.7 -> 551.6\n",
      "3399            12.18      1227.0         0.0          0.0      0.0 -> 0.0\n",
      "3409            12.21      7918.0       818.8        601.6  818.8 -> 601.6\n",
      "3412            12.22     40429.0       792.8        603.6  792.8 -> 603.6\n",
      "3419            12.25     29380.0       766.7        549.6  766.7 -> 549.6\n",
      "3424            12.27       482.0       740.8        551.6  740.8 -> 551.6\n",
      "3445            12.34      2962.0       794.7        577.6  794.7 -> 577.6\n",
      "3446            12.35     50934.0       792.8        603.6  792.8 -> 603.6\n",
      "3449            12.36     15505.0       790.7        573.6  790.7 -> 573.6\n",
      "3450            12.36      1175.0       788.8        599.6  788.8 -> 599.6\n",
      "3451            12.36      8898.0       768.8        551.6  768.8 -> 551.6\n",
      "3455            12.38      3326.0       750.8        603.6  750.8 -> 603.6\n",
      "3459            12.40     21974.0       738.7        549.6  738.7 -> 549.6\n",
      "3470            12.43    219512.0       876.8        577.6  876.8 -> 577.6\n",
      "3473            12.44     67098.0       850.8        551.6  850.8 -> 551.6\n",
      "3476            12.45     28283.0       820.8        603.6  820.8 -> 603.6\n",
      "3478            12.46      3097.0       816.8        599.6  816.8 -> 599.6\n",
      "3479            12.46      1809.0       794.7        577.6  794.7 -> 577.6\n",
      "3483            12.48     16153.0       790.7        573.6  790.7 -> 573.6\n",
      "3484            12.48      1466.0       788.8        599.6  788.8 -> 599.6\n",
      "3485            12.48      8418.0       768.8        551.6  768.8 -> 551.6\n",
      "3486            12.49     46779.0       766.7        577.6  766.7 -> 577.6\n",
      "3488            12.50      9047.0       764.7        547.6  764.7 -> 547.6\n",
      "3489            12.50      4476.0       750.8        603.6  750.8 -> 603.6\n",
      "3494            12.52     16103.0       736.7        547.6  736.7 -> 547.6\n",
      "3495            12.52      9713.0       724.7        577.6  724.7 -> 577.6\n",
      "3503            12.55    116106.0       898.8        599.6  898.8 -> 599.6\n",
      "3504            12.56    494143.0       876.8        577.6  876.8 -> 577.6\n",
      "3507            12.57    159733.0       850.8        551.6  850.8 -> 551.6\n",
      "3510            12.58     72587.0       820.8        603.6  820.8 -> 603.6\n",
      "3511            12.58      9035.0       818.8        601.6  818.8 -> 601.6\n",
      "3513            12.59       973.0       794.7        577.6  794.7 -> 577.6\n",
      "3516            12.60      6130.0       790.8        601.6  790.8 -> 601.6\n",
      "3518            12.60      1159.0       788.8        599.6  788.8 -> 599.6\n",
      "3519            12.61      2662.0       768.8        551.6  768.8 -> 551.6\n",
      "3522            12.62     14136.0       764.7        547.6  764.7 -> 547.6\n",
      "3523            12.63      3091.0       750.8        603.6  750.8 -> 603.6\n",
      "3525            12.63       579.0       746.8        599.6  746.8 -> 599.6\n",
      "3528            12.64      8576.0       736.7        547.6  736.7 -> 547.6\n",
      "3529            12.65      5816.0       724.7        577.6  724.7 -> 577.6\n",
      "3531            12.65      2200.0       720.6        573.6  720.6 -> 573.6\n",
      "3534            12.66      4516.0       694.6        547.6  694.6 -> 547.6\n",
      "3541            12.69     36204.0       850.8        551.6  850.8 -> 551.6\n",
      "3544            12.70     28006.0       820.8        603.6  820.8 -> 603.6\n",
      "3553            12.73       947.0       768.8        551.6  768.8 -> 551.6\n",
      "3557            12.75      1104.0       750.8        603.6  750.8 -> 603.6\n",
      "3563            12.77      5304.0       724.7        577.6  724.7 -> 577.6\n",
      "3565            12.77      3643.0       720.6        573.6  720.6 -> 573.6\n",
      "3568            12.79      9281.0       694.6        547.6  694.6 -> 547.6\n",
      "3578            12.82     22476.0       820.8        603.6  820.8 -> 603.6\n",
      "3588            12.85     36260.0       766.7        577.6  766.7 -> 577.6\n",
      "3593            12.88       512.0       746.8        599.6  746.8 -> 599.6\n",
      "3599            12.90      2173.0       720.6        573.6  720.6 -> 573.6\n",
      "3602            12.91     18586.0       694.6        547.6  694.6 -> 547.6\n",
      "3626            12.99      1952.0       748.8        601.6  748.8 -> 601.6\n",
      "3632            13.02     11082.0       722.6        575.6  722.6 -> 575.6\n",
      "3636            13.03      4929.0       694.6        547.6  694.6 -> 547.6\n",
      "3649            13.07      1184.0       794.7        577.6  794.7 -> 577.6\n",
      "3666            13.14      6684.0       722.6        575.6  722.6 -> 575.6\n",
      "3703            13.27     23284.0       696.6        549.6  696.6 -> 549.6\n",
      "3727            13.36       946.0       750.8        603.6  750.8 -> 603.6\n",
      "3735            13.38      1857.0       720.6        573.6  720.6 -> 573.6\n",
      "3738            13.39      4198.0       694.6        547.6  694.6 -> 547.6\n",
      "3775            13.53    599317.0       898.8        599.6  898.8 -> 599.6\n",
      "3784            13.56      3028.0       816.8        599.6  816.8 -> 599.6\n",
      "3785            13.56      1240.0       794.7        577.6  794.7 -> 577.6\n",
      "3787            13.57     55527.0       792.7        575.6  792.7 -> 575.6\n",
      "3788            13.57      7161.0       790.8        601.6  790.8 -> 601.6\n",
      "3789            13.57      7760.0       790.7        573.6  790.7 -> 573.6\n",
      "3790            13.58       729.0       788.8        599.6  788.8 -> 599.6\n",
      "3794            13.59     26821.0       764.7        547.6  764.7 -> 547.6\n",
      "3804            13.63       590.0       698.7        551.6  698.7 -> 551.6\n",
      "3808            13.64    360401.0       900.8        601.6  900.8 -> 601.6\n",
      "3809            13.65    797129.0       898.8        599.6  898.8 -> 599.6\n",
      "3810            13.65     76176.0       876.8        577.6  876.8 -> 577.6\n",
      "3811            13.65    608530.0       874.8        575.6  874.8 -> 575.6\n",
      "3812            13.66    928619.0       872.8        573.6  872.8 -> 573.6\n",
      "3815            13.67    266762.0       846.8        547.6  846.8 -> 547.6\n",
      "3817            13.68      8706.0       818.8        601.6  818.8 -> 601.6\n",
      "3818            13.68      3524.0       816.8        599.6  816.8 -> 599.6\n",
      "3821            13.69     30491.0       792.7        575.6  792.7 -> 575.6\n",
      "3822            13.69     18782.0       790.8        601.6  790.8 -> 601.6\n",
      "3823            13.70     11831.0       790.7        573.6  790.7 -> 573.6\n",
      "3824            13.70      1103.0       788.8        599.6  788.8 -> 599.6\n",
      "3828            13.72     21714.0       764.7        547.6  764.7 -> 547.6\n",
      "3830            13.73      2624.0       748.8        601.6  748.8 -> 601.6\n",
      "3831            13.73       537.0       746.8        599.6  746.8 -> 599.6\n",
      "3834            13.74     49935.0       736.7        547.6  736.7 -> 547.6\n",
      "3843            13.77    433993.0       898.8        599.6  898.8 -> 599.6\n",
      "3846            13.78    844625.0       872.8        573.6  872.8 -> 573.6\n",
      "3849            13.79    409651.0       846.8        547.6  846.8 -> 547.6\n",
      "3854            13.81     28454.0       792.8        603.6  792.8 -> 603.6\n",
      "3857            13.82      4674.0       790.7        573.6  790.7 -> 573.6\n",
      "3861            13.83     27952.0       766.7        549.6  766.7 -> 549.6\n",
      "3862            13.84     16608.0       764.7        547.6  764.7 -> 547.6\n",
      "3864            13.85      3845.0       748.8        601.6  748.8 -> 601.6\n",
      "3866            13.85       489.0       740.8        551.6  740.8 -> 551.6\n",
      "3867            13.86     64890.0       738.7        549.6  738.7 -> 549.6\n",
      "3868            13.86     24015.0       736.7        547.6  736.7 -> 547.6\n",
      "3870            13.87     15433.0       722.6        575.6  722.6 -> 575.6\n",
      "3873            13.88     24331.0       696.6        549.6  696.6 -> 549.6\n",
      "3880            13.90    549608.0       872.8        573.6  872.8 -> 573.6\n",
      "3882            13.91    246212.0       848.8        549.6  848.8 -> 549.6\n",
      "3883            13.91    397892.0       846.8        547.6  846.8 -> 547.6\n",
      "3898            13.97      3193.0       748.8        601.6  748.8 -> 601.6\n",
      "3901            13.98     24855.0       738.7        549.6  738.7 -> 549.6\n",
      "3902            13.98     15897.0       736.7        547.6  736.7 -> 547.6\n",
      "3904            13.99     15596.0       722.6        575.6  722.6 -> 575.6\n",
      "3907            14.00     59211.0       696.6        549.6  696.6 -> 549.6\n",
      "3917            14.03    242014.0       846.8        547.6  846.8 -> 547.6\n",
      "3928            14.07     29677.0       766.7        577.6  766.7 -> 577.6\n",
      "3938            14.11      8520.0       722.6        575.6  722.6 -> 575.6\n",
      "3941            14.12     34814.0       696.6        549.6  696.6 -> 549.6\n",
      "3966            14.21      1749.0       748.8        601.6  748.8 -> 601.6\n",
      "3974            14.24       545.0       698.7        551.6  698.7 -> 551.6\n",
      "3975            14.24     30287.0       696.6        549.6  696.6 -> 549.6\n",
      "4080            14.62    602922.0       900.8        601.6  900.8 -> 601.6\n",
      "4089            14.65     25918.0       818.8        601.6  818.8 -> 601.6\n",
      "4090            14.65      2649.0       816.8        599.6  816.8 -> 599.6\n",
      "4093            14.66    116813.0       792.7        575.6  792.7 -> 575.6\n",
      "4114            14.74   2345724.0       900.8        601.6  900.8 -> 601.6\n",
      "4117            14.75   1617697.0       874.8        575.6  874.8 -> 575.6\n",
      "4123            14.77     15126.0       818.8        601.6  818.8 -> 601.6\n",
      "4126            14.78     98857.0       792.8        603.6  792.8 -> 603.6\n",
      "4127            14.79     84946.0       792.7        575.6  792.7 -> 575.6\n",
      "4133            14.81    266662.0       766.7        549.6  766.7 -> 549.6\n",
      "4148            14.86   1759093.0       900.8        601.6  900.8 -> 601.6\n",
      "4149            14.87    137065.0       898.8        599.6  898.8 -> 599.6\n",
      "4151            14.87   3191352.0       874.8        575.6  874.8 -> 575.6\n",
      "4152            14.88    148100.0       872.8        573.6  872.8 -> 573.6\n",
      "4154            14.88    390090.0       848.8        549.6  848.8 -> 549.6\n",
      "4160            14.90     35876.0       792.8        603.6  792.8 -> 603.6\n",
      "4161            14.91     25658.0       792.7        575.6  792.7 -> 575.6\n",
      "4166            14.92     83299.0       766.7        577.6  766.7 -> 577.6\n",
      "4167            14.93    126302.0       766.7        549.6  766.7 -> 549.6\n",
      "4173            14.95    144069.0       738.7        549.6  738.7 -> 549.6\n",
      "4182            14.98    668092.0       900.8        601.6  900.8 -> 601.6\n",
      "4185            14.99   4376154.0       874.8        575.6  874.8 -> 575.6\n",
      "4186            15.00    234664.0       872.8        573.6  872.8 -> 573.6\n",
      "4188            15.01   2133766.0       848.8        549.6  848.8 -> 549.6\n",
      "4189            15.01    213888.0       846.8        547.6  846.8 -> 547.6\n",
      "4200            15.05     47615.0       766.7        577.6  766.7 -> 577.6\n",
      "4201            15.05     54495.0       766.7        549.6  766.7 -> 549.6\n",
      "4207            15.08     79761.0       738.7        549.6  738.7 -> 549.6\n",
      "4209            15.08      4650.0       724.7        577.6  724.7 -> 577.6\n",
      "4219            15.12    957348.0       874.8        575.6  874.8 -> 575.6\n",
      "4222            15.13   2236988.0       848.8        549.6  848.8 -> 549.6\n",
      "4240            15.19       584.0       740.8        551.6  740.8 -> 551.6\n",
      "4256            15.25    469327.0       848.8        549.6  848.8 -> 549.6\n",
      "4273            15.31       528.0       746.8        599.6  746.8 -> 599.6\n",
      "4311            15.45      4704.0       724.7        577.6  724.7 -> 577.6\n",
      "42308           15.49  49847000.0       902.8        603.6  902.8 -> 603.6\n",
      "42310           15.49  49842999.0       902.8        603.6  902.8 -> 603.6\n",
      "42314           15.49  49842001.0       902.8        603.6  902.8 -> 603.6\n",
      "42315           15.49  49844000.0       902.8        603.6  902.8 -> 603.6\n",
      "42316           15.49  49845999.0       902.8        603.6  902.8 -> 603.6\n",
      "OzESI 10 largest: \n",
      "        Retention_Time   intensity  Parent_Ion  Product_Ion      Transition\n",
      "42308           15.49  49847000.0       902.8        603.6  902.8 -> 603.6\n",
      "42316           15.49  49845999.0       902.8        603.6  902.8 -> 603.6\n",
      "42315           15.49  49844000.0       902.8        603.6  902.8 -> 603.6\n",
      "42310           15.49  49842999.0       902.8        603.6  902.8 -> 603.6\n",
      "42314           15.49  49842001.0       902.8        603.6  902.8 -> 603.6\n",
      "4185            14.99   4376154.0       874.8        575.6  874.8 -> 575.6\n",
      "4151            14.87   3191352.0       874.8        575.6  874.8 -> 575.6\n",
      "4114            14.74   2345724.0       900.8        601.6  900.8 -> 601.6\n",
      "4222            15.13   2236988.0       848.8        549.6  848.8 -> 549.6\n",
      "4188            15.01   2133766.0       848.8        549.6  848.8 -> 549.6\n",
      "4148            14.86   1759093.0       900.8        601.6  900.8 -> 601.6\n",
      "4117            14.75   1617697.0       874.8        575.6  874.8 -> 575.6\n",
      "4219            15.12    957348.0       874.8        575.6  874.8 -> 575.6\n",
      "3812            13.66    928619.0       872.8        573.6  872.8 -> 573.6\n",
      "3846            13.78    844625.0       872.8        573.6  872.8 -> 573.6\n",
      "3809            13.65    797129.0       898.8        599.6  898.8 -> 599.6\n",
      "4182            14.98    668092.0       900.8        601.6  900.8 -> 601.6\n",
      "3811            13.65    608530.0       874.8        575.6  874.8 -> 575.6\n",
      "4080            14.62    602922.0       900.8        601.6  900.8 -> 601.6\n",
      "3775            13.53    599317.0       898.8        599.6  898.8 -> 599.6\n",
      "3880            13.90    549608.0       872.8        573.6  872.8 -> 573.6\n",
      "3504            12.56    494143.0       876.8        577.6  876.8 -> 577.6\n",
      "4256            15.25    469327.0       848.8        549.6  848.8 -> 549.6\n",
      "3843            13.77    433993.0       898.8        599.6  898.8 -> 599.6\n",
      "3849            13.79    409651.0       846.8        547.6  846.8 -> 547.6\n",
      "3883            13.91    397892.0       846.8        547.6  846.8 -> 547.6\n",
      "4154            14.88    390090.0       848.8        549.6  848.8 -> 549.6\n",
      "3808            13.64    360401.0       900.8        601.6  900.8 -> 601.6\n",
      "3815            13.67    266762.0       846.8        547.6  846.8 -> 547.6\n",
      "4133            14.81    266662.0       766.7        549.6  766.7 -> 549.6\n",
      "3882            13.91    246212.0       848.8        549.6  848.8 -> 549.6\n",
      "3917            14.03    242014.0       846.8        547.6  846.8 -> 547.6\n",
      "4186            15.00    234664.0       872.8        573.6  872.8 -> 573.6\n",
      "3470            12.43    219512.0       876.8        577.6  876.8 -> 577.6\n",
      "4189            15.01    213888.0       846.8        547.6  846.8 -> 547.6\n",
      "3164            11.34    193831.0       876.8        577.6  876.8 -> 577.6\n",
      "3507            12.57    159733.0       850.8        551.6  850.8 -> 551.6\n",
      "4152            14.88    148100.0       872.8        573.6  872.8 -> 573.6\n",
      "4173            14.95    144069.0       738.7        549.6  738.7 -> 549.6\n",
      "4149            14.87    137065.0       898.8        599.6  898.8 -> 599.6\n",
      "4167            14.93    126302.0       766.7        549.6  766.7 -> 549.6\n",
      "4093            14.66    116813.0       792.7        575.6  792.7 -> 575.6\n",
      "3503            12.55    116106.0       898.8        599.6  898.8 -> 599.6\n",
      "3130            11.21    100034.0       876.8        577.6  876.8 -> 577.6\n",
      "4126            14.78     98857.0       792.8        603.6  792.8 -> 603.6\n",
      "3133            11.23     86088.0       850.8        551.6  850.8 -> 551.6\n",
      "4127            14.79     84946.0       792.7        575.6  792.7 -> 575.6\n",
      "4166            14.92     83299.0       766.7        577.6  766.7 -> 577.6\n",
      "4207            15.08     79761.0       738.7        549.6  738.7 -> 549.6\n",
      "3810            13.65     76176.0       876.8        577.6  876.8 -> 577.6\n",
      "3510            12.58     72587.0       820.8        603.6  820.8 -> 603.6\n",
      "3201            11.47     70972.0       850.8        551.6  850.8 -> 551.6\n",
      "3473            12.44     67098.0       850.8        551.6  850.8 -> 551.6\n",
      "3867            13.86     64890.0       738.7        549.6  738.7 -> 549.6\n",
      "3907            14.00     59211.0       696.6        549.6  696.6 -> 549.6\n",
      "3787            13.57     55527.0       792.7        575.6  792.7 -> 575.6\n",
      "4201            15.05     54495.0       766.7        549.6  766.7 -> 549.6\n",
      "3446            12.35     50934.0       792.8        603.6  792.8 -> 603.6\n",
      "3834            13.74     49935.0       736.7        547.6  736.7 -> 547.6\n",
      "4200            15.05     47615.0       766.7        577.6  766.7 -> 577.6\n",
      "3486            12.49     46779.0       766.7        577.6  766.7 -> 577.6\n",
      "3412            12.22     40429.0       792.8        603.6  792.8 -> 603.6\n",
      "3170            11.36     37467.0       820.8        603.6  820.8 -> 603.6\n",
      "3588            12.85     36260.0       766.7        577.6  766.7 -> 577.6\n",
      "3541            12.69     36204.0       850.8        551.6  850.8 -> 551.6\n",
      "4160            14.90     35876.0       792.8        603.6  792.8 -> 603.6\n",
      "3941            14.12     34814.0       696.6        549.6  696.6 -> 549.6\n",
      "3821            13.69     30491.0       792.7        575.6  792.7 -> 575.6\n",
      "3975            14.24     30287.0       696.6        549.6  696.6 -> 549.6\n",
      "3928            14.07     29677.0       766.7        577.6  766.7 -> 577.6\n",
      "3419            12.25     29380.0       766.7        549.6  766.7 -> 549.6\n",
      "3854            13.81     28454.0       792.8        603.6  792.8 -> 603.6\n",
      "3476            12.45     28283.0       820.8        603.6  820.8 -> 603.6\n",
      "3544            12.70     28006.0       820.8        603.6  820.8 -> 603.6\n",
      "3861            13.83     27952.0       766.7        549.6  766.7 -> 549.6\n",
      "3794            13.59     26821.0       764.7        547.6  764.7 -> 547.6\n",
      "4089            14.65     25918.0       818.8        601.6  818.8 -> 601.6\n",
      "4161            14.91     25658.0       792.7        575.6  792.7 -> 575.6\n",
      "3901            13.98     24855.0       738.7        549.6  738.7 -> 549.6\n",
      "3873            13.88     24331.0       696.6        549.6  696.6 -> 549.6\n",
      "3868            13.86     24015.0       736.7        547.6  736.7 -> 547.6\n",
      "3703            13.27     23284.0       696.6        549.6  696.6 -> 549.6\n",
      "3578            12.82     22476.0       820.8        603.6  820.8 -> 603.6\n",
      "3459            12.40     21974.0       738.7        549.6  738.7 -> 549.6\n",
      "3828            13.72     21714.0       764.7        547.6  764.7 -> 547.6\n",
      "3822            13.69     18782.0       790.8        601.6  790.8 -> 601.6\n",
      "3602            12.91     18586.0       694.6        547.6  694.6 -> 547.6\n",
      "3862            13.84     16608.0       764.7        547.6  764.7 -> 547.6\n",
      "3483            12.48     16153.0       790.7        573.6  790.7 -> 573.6\n",
      "3494            12.52     16103.0       736.7        547.6  736.7 -> 547.6\n",
      "3902            13.98     15897.0       736.7        547.6  736.7 -> 547.6\n",
      "3904            13.99     15596.0       722.6        575.6  722.6 -> 575.6\n",
      "3449            12.36     15505.0       790.7        573.6  790.7 -> 573.6\n",
      "3870            13.87     15433.0       722.6        575.6  722.6 -> 575.6\n",
      "4123            14.77     15126.0       818.8        601.6  818.8 -> 601.6\n",
      "3522            12.62     14136.0       764.7        547.6  764.7 -> 547.6\n",
      "3823            13.70     11831.0       790.7        573.6  790.7 -> 573.6\n",
      "3632            13.02     11082.0       722.6        575.6  722.6 -> 575.6\n",
      "3495            12.52      9713.0       724.7        577.6  724.7 -> 577.6\n",
      "3568            12.79      9281.0       694.6        547.6  694.6 -> 547.6\n",
      "3488            12.50      9047.0       764.7        547.6  764.7 -> 547.6\n",
      "3511            12.58      9035.0       818.8        601.6  818.8 -> 601.6\n",
      "3451            12.36      8898.0       768.8        551.6  768.8 -> 551.6\n",
      "3817            13.68      8706.0       818.8        601.6  818.8 -> 601.6\n",
      "3528            12.64      8576.0       736.7        547.6  736.7 -> 547.6\n",
      "3938            14.11      8520.0       722.6        575.6  722.6 -> 575.6\n",
      "3485            12.48      8418.0       768.8        551.6  768.8 -> 551.6\n",
      "3409            12.21      7918.0       818.8        601.6  818.8 -> 601.6\n",
      "3789            13.57      7760.0       790.7        573.6  790.7 -> 573.6\n",
      "3788            13.57      7161.0       790.8        601.6  790.8 -> 601.6\n",
      "3666            13.14      6684.0       722.6        575.6  722.6 -> 575.6\n",
      "3516            12.60      6130.0       790.8        601.6  790.8 -> 601.6\n",
      "3529            12.65      5816.0       724.7        577.6  724.7 -> 577.6\n",
      "3210            11.50      5377.0       790.8        601.6  790.8 -> 601.6\n",
      "3563            12.77      5304.0       724.7        577.6  724.7 -> 577.6\n",
      "3312            11.86      5245.0       790.8        601.6  790.8 -> 601.6\n",
      "3636            13.03      4929.0       694.6        547.6  694.6 -> 547.6\n",
      "4311            15.45      4704.0       724.7        577.6  724.7 -> 577.6\n",
      "3857            13.82      4674.0       790.7        573.6  790.7 -> 573.6\n",
      "4209            15.08      4650.0       724.7        577.6  724.7 -> 577.6\n",
      "3534            12.66      4516.0       694.6        547.6  694.6 -> 547.6\n",
      "3489            12.50      4476.0       750.8        603.6  750.8 -> 603.6\n",
      "3738            13.39      4198.0       694.6        547.6  694.6 -> 547.6\n",
      "3263            11.69      3903.0         0.0          0.0      0.0 -> 0.0\n",
      "3864            13.85      3845.0       748.8        601.6  748.8 -> 601.6\n",
      "3565            12.77      3643.0       720.6        573.6  720.6 -> 573.6\n",
      "3818            13.68      3524.0       816.8        599.6  816.8 -> 599.6\n",
      "3455            12.38      3326.0       750.8        603.6  750.8 -> 603.6\n",
      "3898            13.97      3193.0       748.8        601.6  748.8 -> 601.6\n",
      "3478            12.46      3097.0       816.8        599.6  816.8 -> 599.6\n",
      "3523            12.63      3091.0       750.8        603.6  750.8 -> 603.6\n",
      "3784            13.56      3028.0       816.8        599.6  816.8 -> 599.6\n",
      "3172            11.36      2994.0       816.8        599.6  816.8 -> 599.6\n",
      "3445            12.34      2962.0       794.7        577.6  794.7 -> 577.6\n",
      "3519            12.61      2662.0       768.8        551.6  768.8 -> 551.6\n",
      "4090            14.65      2649.0       816.8        599.6  816.8 -> 599.6\n",
      "3830            13.73      2624.0       748.8        601.6  748.8 -> 601.6\n",
      "3531            12.65      2200.0       720.6        573.6  720.6 -> 573.6\n",
      "3599            12.90      2173.0       720.6        573.6  720.6 -> 573.6\n",
      "3626            12.99      1952.0       748.8        601.6  748.8 -> 601.6\n",
      "3735            13.38      1857.0       720.6        573.6  720.6 -> 573.6\n",
      "3229            11.57      1849.0         0.0          0.0      0.0 -> 0.0\n",
      "3479            12.46      1809.0       794.7        577.6  794.7 -> 577.6\n",
      "3966            14.21      1749.0       748.8        601.6  748.8 -> 601.6\n",
      "3327            11.92      1720.0       720.6        573.6  720.6 -> 573.6\n",
      "3297            11.81      1517.0         0.0          0.0      0.0 -> 0.0\n",
      "3484            12.48      1466.0       788.8        599.6  788.8 -> 599.6\n",
      "3331            11.94      1386.0         0.0          0.0      0.0 -> 0.0\n",
      "3785            13.56      1240.0       794.7        577.6  794.7 -> 577.6\n",
      "3399            12.18      1227.0         0.0          0.0      0.0 -> 0.0\n",
      "3649            13.07      1184.0       794.7        577.6  794.7 -> 577.6\n",
      "3450            12.36      1175.0       788.8        599.6  788.8 -> 599.6\n",
      "3518            12.60      1159.0       788.8        599.6  788.8 -> 599.6\n",
      "3557            12.75      1104.0       750.8        603.6  750.8 -> 603.6\n",
      "3824            13.70      1103.0       788.8        599.6  788.8 -> 599.6\n",
      "3287            11.78       985.0       746.8        599.6  746.8 -> 599.6\n",
      "3513            12.59       973.0       794.7        577.6  794.7 -> 577.6\n",
      "3553            12.73       947.0       768.8        551.6  768.8 -> 551.6\n",
      "3727            13.36       946.0       750.8        603.6  750.8 -> 603.6\n",
      "3315            11.87       837.0       768.8        551.6  768.8 -> 551.6\n",
      "3790            13.58       729.0       788.8        599.6  788.8 -> 599.6\n",
      "3804            13.63       590.0       698.7        551.6  698.7 -> 551.6\n",
      "4240            15.19       584.0       740.8        551.6  740.8 -> 551.6\n",
      "3525            12.63       579.0       746.8        599.6  746.8 -> 599.6\n",
      "3362            12.05       572.0       698.7        551.6  698.7 -> 551.6\n",
      "3328            11.93       571.0       698.7        551.6  698.7 -> 551.6\n",
      "3396            12.17       559.0       698.7        551.6  698.7 -> 551.6\n",
      "3974            14.24       545.0       698.7        551.6  698.7 -> 551.6\n",
      "3831            13.73       537.0       746.8        599.6  746.8 -> 599.6\n",
      "4273            15.31       528.0       746.8        599.6  746.8 -> 599.6\n",
      "3593            12.88       512.0       746.8        599.6  746.8 -> 599.6\n",
      "3186            11.42       496.0       740.8        551.6  740.8 -> 551.6\n",
      "3866            13.85       489.0       740.8        551.6  740.8 -> 551.6\n",
      "3016            10.81       485.0       740.8        551.6  740.8 -> 551.6\n",
      "3424            12.27       482.0       740.8        551.6  740.8 -> 551.6\n"
     ]
    },
    {
     "name": "stderr",
     "output_type": "stream",
     "text": [
      "/tmp/ipykernel_1099/673206452.py:47: FutureWarning: The frame.append method is deprecated and will be removed from pandas in a future version. Use pandas.concat instead.\n",
      "  top_5_df = top_5_df.append(top_5_rows)\n",
      "/tmp/ipykernel_1099/673206452.py:47: FutureWarning: The frame.append method is deprecated and will be removed from pandas in a future version. Use pandas.concat instead.\n",
      "  top_5_df = top_5_df.append(top_5_rows)\n",
      "/tmp/ipykernel_1099/673206452.py:47: FutureWarning: The frame.append method is deprecated and will be removed from pandas in a future version. Use pandas.concat instead.\n",
      "  top_5_df = top_5_df.append(top_5_rows)\n",
      "/tmp/ipykernel_1099/673206452.py:47: FutureWarning: The frame.append method is deprecated and will be removed from pandas in a future version. Use pandas.concat instead.\n",
      "  top_5_df = top_5_df.append(top_5_rows)\n",
      "/tmp/ipykernel_1099/673206452.py:47: FutureWarning: The frame.append method is deprecated and will be removed from pandas in a future version. Use pandas.concat instead.\n",
      "  top_5_df = top_5_df.append(top_5_rows)\n",
      "/tmp/ipykernel_1099/673206452.py:47: FutureWarning: The frame.append method is deprecated and will be removed from pandas in a future version. Use pandas.concat instead.\n",
      "  top_5_df = top_5_df.append(top_5_rows)\n",
      "/tmp/ipykernel_1099/673206452.py:47: FutureWarning: The frame.append method is deprecated and will be removed from pandas in a future version. Use pandas.concat instead.\n",
      "  top_5_df = top_5_df.append(top_5_rows)\n",
      "/tmp/ipykernel_1099/673206452.py:47: FutureWarning: The frame.append method is deprecated and will be removed from pandas in a future version. Use pandas.concat instead.\n",
      "  top_5_df = top_5_df.append(top_5_rows)\n",
      "/tmp/ipykernel_1099/673206452.py:47: FutureWarning: The frame.append method is deprecated and will be removed from pandas in a future version. Use pandas.concat instead.\n",
      "  top_5_df = top_5_df.append(top_5_rows)\n",
      "/tmp/ipykernel_1099/673206452.py:47: FutureWarning: The frame.append method is deprecated and will be removed from pandas in a future version. Use pandas.concat instead.\n",
      "  top_5_df = top_5_df.append(top_5_rows)\n",
      "/tmp/ipykernel_1099/673206452.py:47: FutureWarning: The frame.append method is deprecated and will be removed from pandas in a future version. Use pandas.concat instead.\n",
      "  top_5_df = top_5_df.append(top_5_rows)\n",
      "/tmp/ipykernel_1099/673206452.py:47: FutureWarning: The frame.append method is deprecated and will be removed from pandas in a future version. Use pandas.concat instead.\n",
      "  top_5_df = top_5_df.append(top_5_rows)\n",
      "/tmp/ipykernel_1099/673206452.py:47: FutureWarning: The frame.append method is deprecated and will be removed from pandas in a future version. Use pandas.concat instead.\n",
      "  top_5_df = top_5_df.append(top_5_rows)\n",
      "/tmp/ipykernel_1099/673206452.py:47: FutureWarning: The frame.append method is deprecated and will be removed from pandas in a future version. Use pandas.concat instead.\n",
      "  top_5_df = top_5_df.append(top_5_rows)\n",
      "/tmp/ipykernel_1099/673206452.py:47: FutureWarning: The frame.append method is deprecated and will be removed from pandas in a future version. Use pandas.concat instead.\n",
      "  top_5_df = top_5_df.append(top_5_rows)\n",
      "/tmp/ipykernel_1099/673206452.py:47: FutureWarning: The frame.append method is deprecated and will be removed from pandas in a future version. Use pandas.concat instead.\n",
      "  top_5_df = top_5_df.append(top_5_rows)\n",
      "/tmp/ipykernel_1099/673206452.py:47: FutureWarning: The frame.append method is deprecated and will be removed from pandas in a future version. Use pandas.concat instead.\n",
      "  top_5_df = top_5_df.append(top_5_rows)\n",
      "/tmp/ipykernel_1099/673206452.py:47: FutureWarning: The frame.append method is deprecated and will be removed from pandas in a future version. Use pandas.concat instead.\n",
      "  top_5_df = top_5_df.append(top_5_rows)\n",
      "/tmp/ipykernel_1099/673206452.py:47: FutureWarning: The frame.append method is deprecated and will be removed from pandas in a future version. Use pandas.concat instead.\n",
      "  top_5_df = top_5_df.append(top_5_rows)\n",
      "/tmp/ipykernel_1099/673206452.py:47: FutureWarning: The frame.append method is deprecated and will be removed from pandas in a future version. Use pandas.concat instead.\n",
      "  top_5_df = top_5_df.append(top_5_rows)\n",
      "/tmp/ipykernel_1099/673206452.py:47: FutureWarning: The frame.append method is deprecated and will be removed from pandas in a future version. Use pandas.concat instead.\n",
      "  top_5_df = top_5_df.append(top_5_rows)\n",
      "/tmp/ipykernel_1099/673206452.py:47: FutureWarning: The frame.append method is deprecated and will be removed from pandas in a future version. Use pandas.concat instead.\n",
      "  top_5_df = top_5_df.append(top_5_rows)\n",
      "/tmp/ipykernel_1099/673206452.py:47: FutureWarning: The frame.append method is deprecated and will be removed from pandas in a future version. Use pandas.concat instead.\n",
      "  top_5_df = top_5_df.append(top_5_rows)\n",
      "/tmp/ipykernel_1099/673206452.py:47: FutureWarning: The frame.append method is deprecated and will be removed from pandas in a future version. Use pandas.concat instead.\n",
      "  top_5_df = top_5_df.append(top_5_rows)\n",
      "/tmp/ipykernel_1099/673206452.py:47: FutureWarning: The frame.append method is deprecated and will be removed from pandas in a future version. Use pandas.concat instead.\n",
      "  top_5_df = top_5_df.append(top_5_rows)\n",
      "/tmp/ipykernel_1099/673206452.py:47: FutureWarning: The frame.append method is deprecated and will be removed from pandas in a future version. Use pandas.concat instead.\n",
      "  top_5_df = top_5_df.append(top_5_rows)\n",
      "/tmp/ipykernel_1099/673206452.py:47: FutureWarning: The frame.append method is deprecated and will be removed from pandas in a future version. Use pandas.concat instead.\n",
      "  top_5_df = top_5_df.append(top_5_rows)\n",
      "/tmp/ipykernel_1099/673206452.py:47: FutureWarning: The frame.append method is deprecated and will be removed from pandas in a future version. Use pandas.concat instead.\n",
      "  top_5_df = top_5_df.append(top_5_rows)\n",
      "/tmp/ipykernel_1099/673206452.py:47: FutureWarning: The frame.append method is deprecated and will be removed from pandas in a future version. Use pandas.concat instead.\n",
      "  top_5_df = top_5_df.append(top_5_rows)\n",
      "/tmp/ipykernel_1099/673206452.py:47: FutureWarning: The frame.append method is deprecated and will be removed from pandas in a future version. Use pandas.concat instead.\n",
      "  top_5_df = top_5_df.append(top_5_rows)\n",
      "/tmp/ipykernel_1099/673206452.py:47: FutureWarning: The frame.append method is deprecated and will be removed from pandas in a future version. Use pandas.concat instead.\n",
      "  top_5_df = top_5_df.append(top_5_rows)\n",
      "/tmp/ipykernel_1099/673206452.py:47: FutureWarning: The frame.append method is deprecated and will be removed from pandas in a future version. Use pandas.concat instead.\n",
      "  top_5_df = top_5_df.append(top_5_rows)\n",
      "/tmp/ipykernel_1099/673206452.py:47: FutureWarning: The frame.append method is deprecated and will be removed from pandas in a future version. Use pandas.concat instead.\n",
      "  top_5_df = top_5_df.append(top_5_rows)\n",
      "/tmp/ipykernel_1099/673206452.py:47: FutureWarning: The frame.append method is deprecated and will be removed from pandas in a future version. Use pandas.concat instead.\n",
      "  top_5_df = top_5_df.append(top_5_rows)\n",
      "/tmp/ipykernel_1099/673206452.py:47: FutureWarning: The frame.append method is deprecated and will be removed from pandas in a future version. Use pandas.concat instead.\n",
      "  top_5_df = top_5_df.append(top_5_rows)\n"
     ]
    },
    {
     "data": {
      "text/html": [
       "<div>\n",
       "<style scoped>\n",
       "    .dataframe tbody tr th:only-of-type {\n",
       "        vertical-align: middle;\n",
       "    }\n",
       "\n",
       "    .dataframe tbody tr th {\n",
       "        vertical-align: top;\n",
       "    }\n",
       "\n",
       "    .dataframe thead th {\n",
       "        text-align: right;\n",
       "    }\n",
       "</style>\n",
       "<table border=\"1\" class=\"dataframe\">\n",
       "  <thead>\n",
       "    <tr style=\"text-align: right;\">\n",
       "      <th></th>\n",
       "      <th>Lipid</th>\n",
       "      <th>Parent_Ion</th>\n",
       "      <th>Product_Ion</th>\n",
       "      <th>Intensity</th>\n",
       "      <th>Transition</th>\n",
       "      <th>Class</th>\n",
       "      <th>Sample_ID</th>\n",
       "      <th>Retention_Time</th>\n",
       "      <th>Intensity_OzESI</th>\n",
       "      <th>n-7</th>\n",
       "      <th>n-9</th>\n",
       "      <th>n-12</th>\n",
       "    </tr>\n",
       "  </thead>\n",
       "  <tbody>\n",
       "    <tr>\n",
       "      <th>26</th>\n",
       "      <td>NaN</td>\n",
       "      <td>820.8</td>\n",
       "      <td>603.6</td>\n",
       "      <td>4.014192e+05</td>\n",
       "      <td>820.8 -&gt; 603.6</td>\n",
       "      <td>NaN</td>\n",
       "      <td>DOD93_F4-5xFAD-Cereb_TG18-1_o3on</td>\n",
       "      <td>12.82</td>\n",
       "      <td>22476.0</td>\n",
       "      <td>738.8</td>\n",
       "      <td>710.8</td>\n",
       "      <td>668.8</td>\n",
       "    </tr>\n",
       "    <tr>\n",
       "      <th>27</th>\n",
       "      <td>[TG(50:3)]_FA18:1</td>\n",
       "      <td>846.8</td>\n",
       "      <td>547.6</td>\n",
       "      <td>6.869138e+05</td>\n",
       "      <td>846.8 -&gt; 547.6</td>\n",
       "      <td>TAG</td>\n",
       "      <td>DOD93_F4-5xFAD-Cereb_TG18-1_o3on</td>\n",
       "      <td>15.01</td>\n",
       "      <td>213888.0</td>\n",
       "      <td>764.8</td>\n",
       "      <td>736.8</td>\n",
       "      <td>694.8</td>\n",
       "    </tr>\n",
       "    <tr>\n",
       "      <th>28</th>\n",
       "      <td>[TG(51:9),TG(50:2)]_FA18:1</td>\n",
       "      <td>848.8</td>\n",
       "      <td>549.6</td>\n",
       "      <td>3.262575e+06</td>\n",
       "      <td>848.8 -&gt; 549.6</td>\n",
       "      <td>TAG</td>\n",
       "      <td>DOD93_F4-5xFAD-Cereb_TG18-1_o3on</td>\n",
       "      <td>13.91</td>\n",
       "      <td>246212.0</td>\n",
       "      <td>766.8</td>\n",
       "      <td>738.8</td>\n",
       "      <td>696.8</td>\n",
       "    </tr>\n",
       "    <tr>\n",
       "      <th>29</th>\n",
       "      <td>[TG(51:8),TG(50:1)]_FA18:1</td>\n",
       "      <td>850.8</td>\n",
       "      <td>551.6</td>\n",
       "      <td>8.906404e+06</td>\n",
       "      <td>850.8 -&gt; 551.6</td>\n",
       "      <td>TAG</td>\n",
       "      <td>DOD93_F4-5xFAD-Cereb_TG18-1_o3on</td>\n",
       "      <td>12.69</td>\n",
       "      <td>36204.0</td>\n",
       "      <td>768.8</td>\n",
       "      <td>740.8</td>\n",
       "      <td>698.8</td>\n",
       "    </tr>\n",
       "    <tr>\n",
       "      <th>30</th>\n",
       "      <td>[TG(52:4)]_FA18:1</td>\n",
       "      <td>872.8</td>\n",
       "      <td>573.6</td>\n",
       "      <td>7.219475e+05</td>\n",
       "      <td>872.8 -&gt; 573.6</td>\n",
       "      <td>TAG</td>\n",
       "      <td>DOD93_F4-5xFAD-Cereb_TG18-1_o3on</td>\n",
       "      <td>14.88</td>\n",
       "      <td>148100.0</td>\n",
       "      <td>790.8</td>\n",
       "      <td>762.8</td>\n",
       "      <td>720.8</td>\n",
       "    </tr>\n",
       "    <tr>\n",
       "      <th>31</th>\n",
       "      <td>[TG(53:10),TG(52:3)]_FA18:1</td>\n",
       "      <td>874.8</td>\n",
       "      <td>575.6</td>\n",
       "      <td>4.364672e+06</td>\n",
       "      <td>874.8 -&gt; 575.6</td>\n",
       "      <td>TAG</td>\n",
       "      <td>DOD93_F4-5xFAD-Cereb_TG18-1_o3on</td>\n",
       "      <td>13.65</td>\n",
       "      <td>608530.0</td>\n",
       "      <td>792.8</td>\n",
       "      <td>764.8</td>\n",
       "      <td>722.8</td>\n",
       "    </tr>\n",
       "    <tr>\n",
       "      <th>32</th>\n",
       "      <td>[TG(53:9),TG(52:2)]_FA18:1</td>\n",
       "      <td>876.8</td>\n",
       "      <td>577.6</td>\n",
       "      <td>1.805685e+07</td>\n",
       "      <td>876.8 -&gt; 577.6</td>\n",
       "      <td>TAG</td>\n",
       "      <td>DOD93_F4-5xFAD-Cereb_TG18-1_o3on</td>\n",
       "      <td>13.65</td>\n",
       "      <td>76176.0</td>\n",
       "      <td>794.8</td>\n",
       "      <td>766.8</td>\n",
       "      <td>724.8</td>\n",
       "    </tr>\n",
       "    <tr>\n",
       "      <th>33</th>\n",
       "      <td>[TG(54:5)]_FA18:1</td>\n",
       "      <td>898.8</td>\n",
       "      <td>599.6</td>\n",
       "      <td>1.673118e+06</td>\n",
       "      <td>898.8 -&gt; 599.6</td>\n",
       "      <td>TAG</td>\n",
       "      <td>DOD93_F4-5xFAD-Cereb_TG18-1_o3on</td>\n",
       "      <td>12.55</td>\n",
       "      <td>116106.0</td>\n",
       "      <td>816.8</td>\n",
       "      <td>788.8</td>\n",
       "      <td>746.8</td>\n",
       "    </tr>\n",
       "    <tr>\n",
       "      <th>34</th>\n",
       "      <td>[TG(55:11),TG(54:4)]_FA18:1</td>\n",
       "      <td>900.8</td>\n",
       "      <td>601.6</td>\n",
       "      <td>3.305303e+06</td>\n",
       "      <td>900.8 -&gt; 601.6</td>\n",
       "      <td>TAG</td>\n",
       "      <td>DOD93_F4-5xFAD-Cereb_TG18-1_o3on</td>\n",
       "      <td>13.64</td>\n",
       "      <td>360401.0</td>\n",
       "      <td>818.8</td>\n",
       "      <td>790.8</td>\n",
       "      <td>748.8</td>\n",
       "    </tr>\n",
       "    <tr>\n",
       "      <th>35</th>\n",
       "      <td>[TG(55:10),TG(54:3)]_FA18:1</td>\n",
       "      <td>902.8</td>\n",
       "      <td>603.6</td>\n",
       "      <td>9.339795e+06</td>\n",
       "      <td>902.8 -&gt; 603.6</td>\n",
       "      <td>TAG</td>\n",
       "      <td>DOD93_F4-5xFAD-Cereb_TG18-1_o3on</td>\n",
       "      <td>15.49</td>\n",
       "      <td>49842001.0</td>\n",
       "      <td>820.8</td>\n",
       "      <td>792.8</td>\n",
       "      <td>750.8</td>\n",
       "    </tr>\n",
       "  </tbody>\n",
       "</table>\n",
       "</div>"
      ],
      "text/plain": [
       "                          Lipid  Parent_Ion  Product_Ion     Intensity  \\\n",
       "26                          NaN       820.8        603.6  4.014192e+05   \n",
       "27            [TG(50:3)]_FA18:1       846.8        547.6  6.869138e+05   \n",
       "28   [TG(51:9),TG(50:2)]_FA18:1       848.8        549.6  3.262575e+06   \n",
       "29   [TG(51:8),TG(50:1)]_FA18:1       850.8        551.6  8.906404e+06   \n",
       "30            [TG(52:4)]_FA18:1       872.8        573.6  7.219475e+05   \n",
       "31  [TG(53:10),TG(52:3)]_FA18:1       874.8        575.6  4.364672e+06   \n",
       "32   [TG(53:9),TG(52:2)]_FA18:1       876.8        577.6  1.805685e+07   \n",
       "33            [TG(54:5)]_FA18:1       898.8        599.6  1.673118e+06   \n",
       "34  [TG(55:11),TG(54:4)]_FA18:1       900.8        601.6  3.305303e+06   \n",
       "35  [TG(55:10),TG(54:3)]_FA18:1       902.8        603.6  9.339795e+06   \n",
       "\n",
       "        Transition Class                         Sample_ID  Retention_Time  \\\n",
       "26  820.8 -> 603.6   NaN  DOD93_F4-5xFAD-Cereb_TG18-1_o3on           12.82   \n",
       "27  846.8 -> 547.6   TAG  DOD93_F4-5xFAD-Cereb_TG18-1_o3on           15.01   \n",
       "28  848.8 -> 549.6   TAG  DOD93_F4-5xFAD-Cereb_TG18-1_o3on           13.91   \n",
       "29  850.8 -> 551.6   TAG  DOD93_F4-5xFAD-Cereb_TG18-1_o3on           12.69   \n",
       "30  872.8 -> 573.6   TAG  DOD93_F4-5xFAD-Cereb_TG18-1_o3on           14.88   \n",
       "31  874.8 -> 575.6   TAG  DOD93_F4-5xFAD-Cereb_TG18-1_o3on           13.65   \n",
       "32  876.8 -> 577.6   TAG  DOD93_F4-5xFAD-Cereb_TG18-1_o3on           13.65   \n",
       "33  898.8 -> 599.6   TAG  DOD93_F4-5xFAD-Cereb_TG18-1_o3on           12.55   \n",
       "34  900.8 -> 601.6   TAG  DOD93_F4-5xFAD-Cereb_TG18-1_o3on           13.64   \n",
       "35  902.8 -> 603.6   TAG  DOD93_F4-5xFAD-Cereb_TG18-1_o3on           15.49   \n",
       "\n",
       "    Intensity_OzESI    n-7    n-9   n-12  \n",
       "26          22476.0  738.8  710.8  668.8  \n",
       "27         213888.0  764.8  736.8  694.8  \n",
       "28         246212.0  766.8  738.8  696.8  \n",
       "29          36204.0  768.8  740.8  698.8  \n",
       "30         148100.0  790.8  762.8  720.8  \n",
       "31         608530.0  792.8  764.8  722.8  \n",
       "32          76176.0  794.8  766.8  724.8  \n",
       "33         116106.0  816.8  788.8  746.8  \n",
       "34         360401.0  818.8  790.8  748.8  \n",
       "35       49842001.0  820.8  792.8  750.8  "
      ]
     },
     "execution_count": 197,
     "metadata": {},
     "output_type": "execute_result"
    }
   ],
   "source": [
    "#OzESI_list = [3,5,7,9,11]\n",
    "#def df_OzESI_pipeline(df, OzESI_time, OzESI_list=[3,5,7,9,12]):\n",
    "def df_OzESI_pipeline(df, OzESI_time, OzESI_list=[7,9,12]):\n",
    "    # Process chromatogram\n",
    "    OzESI_rt_df_top = process_chromatogram(OzESI_time)\n",
    "    \n",
    "    df_OzESI = create_aldehyde_ion_dataframe()\n",
    "    # Add retention time and intensity to dataframe\n",
    "    df_processed = add_rt_intensity(df, OzESI_rt_df_top)\n",
    "    # Calculate n-minus values\n",
    "    df_processed = calculate_n_minus_values(df_processed, df_OzESI, OzESI_list, starting_column=9, last_column=14)\n",
    "    \n",
    "    return df_processed\n",
    "df_OzESI_processed = df_OzESI_pipeline(df_matched, OzESI_time)\n",
    "df_OzESI_processed.tail(10)"
   ]
  },
  {
   "cell_type": "code",
   "execution_count": 198,
   "metadata": {},
   "outputs": [
    {
     "data": {
      "text/html": [
       "<div>\n",
       "<style scoped>\n",
       "    .dataframe tbody tr th:only-of-type {\n",
       "        vertical-align: middle;\n",
       "    }\n",
       "\n",
       "    .dataframe tbody tr th {\n",
       "        vertical-align: top;\n",
       "    }\n",
       "\n",
       "    .dataframe thead th {\n",
       "        text-align: right;\n",
       "    }\n",
       "</style>\n",
       "<table border=\"1\" class=\"dataframe\">\n",
       "  <thead>\n",
       "    <tr style=\"text-align: right;\">\n",
       "      <th></th>\n",
       "      <th>Lipid</th>\n",
       "      <th>Parent_Ion</th>\n",
       "      <th>Product_Ion</th>\n",
       "      <th>Intensity</th>\n",
       "      <th>Transition</th>\n",
       "      <th>Class</th>\n",
       "      <th>Sample_ID</th>\n",
       "      <th>Retention_Time</th>\n",
       "      <th>Intensity_OzESI</th>\n",
       "      <th>n-7</th>\n",
       "      <th>n-9</th>\n",
       "      <th>n-12</th>\n",
       "    </tr>\n",
       "  </thead>\n",
       "  <tbody>\n",
       "    <tr>\n",
       "      <th>0</th>\n",
       "      <td>NaN</td>\n",
       "      <td>694.6</td>\n",
       "      <td>547.6</td>\n",
       "      <td>2.567996e+05</td>\n",
       "      <td>694.6 -&gt; 547.6</td>\n",
       "      <td>NaN</td>\n",
       "      <td>DOD93_F4-5xFAD-Cereb_TG18-1_o3on</td>\n",
       "      <td>13.39</td>\n",
       "      <td>4198.0</td>\n",
       "      <td>612.6</td>\n",
       "      <td>584.6</td>\n",
       "      <td>542.6</td>\n",
       "    </tr>\n",
       "    <tr>\n",
       "      <th>1</th>\n",
       "      <td>NaN</td>\n",
       "      <td>696.6</td>\n",
       "      <td>549.6</td>\n",
       "      <td>2.185144e+05</td>\n",
       "      <td>696.6 -&gt; 549.6</td>\n",
       "      <td>NaN</td>\n",
       "      <td>DOD93_F4-5xFAD-Cereb_TG18-1_o3on</td>\n",
       "      <td>13.27</td>\n",
       "      <td>23284.0</td>\n",
       "      <td>614.6</td>\n",
       "      <td>586.6</td>\n",
       "      <td>544.6</td>\n",
       "    </tr>\n",
       "    <tr>\n",
       "      <th>2</th>\n",
       "      <td>NaN</td>\n",
       "      <td>698.7</td>\n",
       "      <td>551.6</td>\n",
       "      <td>6.608002e+06</td>\n",
       "      <td>698.7 -&gt; 551.6</td>\n",
       "      <td>NaN</td>\n",
       "      <td>DOD93_F4-5xFAD-Cereb_TG18-1_o3on</td>\n",
       "      <td>14.24</td>\n",
       "      <td>545.0</td>\n",
       "      <td>616.7</td>\n",
       "      <td>588.7</td>\n",
       "      <td>546.7</td>\n",
       "    </tr>\n",
       "    <tr>\n",
       "      <th>3</th>\n",
       "      <td>NaN</td>\n",
       "      <td>720.6</td>\n",
       "      <td>573.6</td>\n",
       "      <td>7.330655e+04</td>\n",
       "      <td>720.6 -&gt; 573.6</td>\n",
       "      <td>NaN</td>\n",
       "      <td>DOD93_F4-5xFAD-Cereb_TG18-1_o3on</td>\n",
       "      <td>11.92</td>\n",
       "      <td>1720.0</td>\n",
       "      <td>638.6</td>\n",
       "      <td>610.6</td>\n",
       "      <td>568.6</td>\n",
       "    </tr>\n",
       "    <tr>\n",
       "      <th>4</th>\n",
       "      <td>NaN</td>\n",
       "      <td>722.6</td>\n",
       "      <td>575.6</td>\n",
       "      <td>1.428391e+05</td>\n",
       "      <td>722.6 -&gt; 575.6</td>\n",
       "      <td>NaN</td>\n",
       "      <td>DOD93_F4-5xFAD-Cereb_TG18-1_o3on</td>\n",
       "      <td>13.14</td>\n",
       "      <td>6684.0</td>\n",
       "      <td>640.6</td>\n",
       "      <td>612.6</td>\n",
       "      <td>570.6</td>\n",
       "    </tr>\n",
       "    <tr>\n",
       "      <th>5</th>\n",
       "      <td>NaN</td>\n",
       "      <td>724.7</td>\n",
       "      <td>577.6</td>\n",
       "      <td>5.815955e+05</td>\n",
       "      <td>724.7 -&gt; 577.6</td>\n",
       "      <td>NaN</td>\n",
       "      <td>DOD93_F4-5xFAD-Cereb_TG18-1_o3on</td>\n",
       "      <td>15.08</td>\n",
       "      <td>4650.0</td>\n",
       "      <td>642.7</td>\n",
       "      <td>614.7</td>\n",
       "      <td>572.7</td>\n",
       "    </tr>\n",
       "    <tr>\n",
       "      <th>6</th>\n",
       "      <td>NaN</td>\n",
       "      <td>736.7</td>\n",
       "      <td>547.6</td>\n",
       "      <td>6.613184e+05</td>\n",
       "      <td>736.7 -&gt; 547.6</td>\n",
       "      <td>NaN</td>\n",
       "      <td>DOD93_F4-5xFAD-Cereb_TG18-1_o3on</td>\n",
       "      <td>12.64</td>\n",
       "      <td>8576.0</td>\n",
       "      <td>654.7</td>\n",
       "      <td>626.7</td>\n",
       "      <td>584.7</td>\n",
       "    </tr>\n",
       "    <tr>\n",
       "      <th>7</th>\n",
       "      <td>NaN</td>\n",
       "      <td>738.7</td>\n",
       "      <td>549.6</td>\n",
       "      <td>4.582103e+05</td>\n",
       "      <td>738.7 -&gt; 549.6</td>\n",
       "      <td>NaN</td>\n",
       "      <td>DOD93_F4-5xFAD-Cereb_TG18-1_o3on</td>\n",
       "      <td>12.40</td>\n",
       "      <td>21974.0</td>\n",
       "      <td>656.7</td>\n",
       "      <td>628.7</td>\n",
       "      <td>586.7</td>\n",
       "    </tr>\n",
       "    <tr>\n",
       "      <th>8</th>\n",
       "      <td>NaN</td>\n",
       "      <td>740.8</td>\n",
       "      <td>551.6</td>\n",
       "      <td>9.366814e+05</td>\n",
       "      <td>740.8 -&gt; 551.6</td>\n",
       "      <td>NaN</td>\n",
       "      <td>DOD93_F4-5xFAD-Cereb_TG18-1_o3on</td>\n",
       "      <td>12.27</td>\n",
       "      <td>482.0</td>\n",
       "      <td>658.8</td>\n",
       "      <td>630.8</td>\n",
       "      <td>588.8</td>\n",
       "    </tr>\n",
       "    <tr>\n",
       "      <th>9</th>\n",
       "      <td>NaN</td>\n",
       "      <td>746.8</td>\n",
       "      <td>599.6</td>\n",
       "      <td>1.976136e+05</td>\n",
       "      <td>746.8 -&gt; 599.6</td>\n",
       "      <td>NaN</td>\n",
       "      <td>DOD93_F4-5xFAD-Cereb_TG18-1_o3on</td>\n",
       "      <td>12.88</td>\n",
       "      <td>512.0</td>\n",
       "      <td>664.8</td>\n",
       "      <td>636.8</td>\n",
       "      <td>594.8</td>\n",
       "    </tr>\n",
       "    <tr>\n",
       "      <th>10</th>\n",
       "      <td>NaN</td>\n",
       "      <td>748.8</td>\n",
       "      <td>601.6</td>\n",
       "      <td>1.128153e+05</td>\n",
       "      <td>748.8 -&gt; 601.6</td>\n",
       "      <td>NaN</td>\n",
       "      <td>DOD93_F4-5xFAD-Cereb_TG18-1_o3on</td>\n",
       "      <td>14.21</td>\n",
       "      <td>1749.0</td>\n",
       "      <td>666.8</td>\n",
       "      <td>638.8</td>\n",
       "      <td>596.8</td>\n",
       "    </tr>\n",
       "    <tr>\n",
       "      <th>11</th>\n",
       "      <td>NaN</td>\n",
       "      <td>750.8</td>\n",
       "      <td>603.6</td>\n",
       "      <td>5.757424e+05</td>\n",
       "      <td>750.8 -&gt; 603.6</td>\n",
       "      <td>NaN</td>\n",
       "      <td>DOD93_F4-5xFAD-Cereb_TG18-1_o3on</td>\n",
       "      <td>13.36</td>\n",
       "      <td>946.0</td>\n",
       "      <td>668.8</td>\n",
       "      <td>640.8</td>\n",
       "      <td>598.8</td>\n",
       "    </tr>\n",
       "    <tr>\n",
       "      <th>12</th>\n",
       "      <td>NaN</td>\n",
       "      <td>762.7</td>\n",
       "      <td>573.6</td>\n",
       "      <td>1.173825e+05</td>\n",
       "      <td>762.7 -&gt; 573.6</td>\n",
       "      <td>NaN</td>\n",
       "      <td>DOD93_F4-5xFAD-Cereb_TG18-1_o3on</td>\n",
       "      <td>NaN</td>\n",
       "      <td>NaN</td>\n",
       "      <td>680.7</td>\n",
       "      <td>652.7</td>\n",
       "      <td>610.7</td>\n",
       "    </tr>\n",
       "    <tr>\n",
       "      <th>13</th>\n",
       "      <td>NaN</td>\n",
       "      <td>764.7</td>\n",
       "      <td>547.6</td>\n",
       "      <td>1.187571e+06</td>\n",
       "      <td>764.7 -&gt; 547.6</td>\n",
       "      <td>NaN</td>\n",
       "      <td>DOD93_F4-5xFAD-Cereb_TG18-1_o3on</td>\n",
       "      <td>12.50</td>\n",
       "      <td>9047.0</td>\n",
       "      <td>682.7</td>\n",
       "      <td>654.7</td>\n",
       "      <td>612.7</td>\n",
       "    </tr>\n",
       "    <tr>\n",
       "      <th>14</th>\n",
       "      <td>NaN</td>\n",
       "      <td>764.7</td>\n",
       "      <td>575.6</td>\n",
       "      <td>2.812500e+05</td>\n",
       "      <td>764.7 -&gt; 575.6</td>\n",
       "      <td>NaN</td>\n",
       "      <td>DOD93_F4-5xFAD-Cereb_TG18-1_o3on</td>\n",
       "      <td>NaN</td>\n",
       "      <td>NaN</td>\n",
       "      <td>682.7</td>\n",
       "      <td>654.7</td>\n",
       "      <td>612.7</td>\n",
       "    </tr>\n",
       "    <tr>\n",
       "      <th>15</th>\n",
       "      <td>NaN</td>\n",
       "      <td>766.7</td>\n",
       "      <td>549.6</td>\n",
       "      <td>3.307983e+05</td>\n",
       "      <td>766.7 -&gt; 549.6</td>\n",
       "      <td>NaN</td>\n",
       "      <td>DOD93_F4-5xFAD-Cereb_TG18-1_o3on</td>\n",
       "      <td>13.83</td>\n",
       "      <td>27952.0</td>\n",
       "      <td>684.7</td>\n",
       "      <td>656.7</td>\n",
       "      <td>614.7</td>\n",
       "    </tr>\n",
       "    <tr>\n",
       "      <th>16</th>\n",
       "      <td>NaN</td>\n",
       "      <td>766.7</td>\n",
       "      <td>577.6</td>\n",
       "      <td>1.179938e+06</td>\n",
       "      <td>766.7 -&gt; 577.6</td>\n",
       "      <td>NaN</td>\n",
       "      <td>DOD93_F4-5xFAD-Cereb_TG18-1_o3on</td>\n",
       "      <td>14.07</td>\n",
       "      <td>29677.0</td>\n",
       "      <td>684.7</td>\n",
       "      <td>656.7</td>\n",
       "      <td>614.7</td>\n",
       "    </tr>\n",
       "    <tr>\n",
       "      <th>17</th>\n",
       "      <td>NaN</td>\n",
       "      <td>768.8</td>\n",
       "      <td>551.6</td>\n",
       "      <td>7.723013e+05</td>\n",
       "      <td>768.8 -&gt; 551.6</td>\n",
       "      <td>NaN</td>\n",
       "      <td>DOD93_F4-5xFAD-Cereb_TG18-1_o3on</td>\n",
       "      <td>11.87</td>\n",
       "      <td>837.0</td>\n",
       "      <td>686.8</td>\n",
       "      <td>658.8</td>\n",
       "      <td>616.8</td>\n",
       "    </tr>\n",
       "    <tr>\n",
       "      <th>18</th>\n",
       "      <td>NaN</td>\n",
       "      <td>788.8</td>\n",
       "      <td>599.6</td>\n",
       "      <td>1.482506e+05</td>\n",
       "      <td>788.8 -&gt; 599.6</td>\n",
       "      <td>NaN</td>\n",
       "      <td>DOD93_F4-5xFAD-Cereb_TG18-1_o3on</td>\n",
       "      <td>13.58</td>\n",
       "      <td>729.0</td>\n",
       "      <td>706.8</td>\n",
       "      <td>678.8</td>\n",
       "      <td>636.8</td>\n",
       "    </tr>\n",
       "    <tr>\n",
       "      <th>19</th>\n",
       "      <td>NaN</td>\n",
       "      <td>790.7</td>\n",
       "      <td>573.6</td>\n",
       "      <td>7.847697e+04</td>\n",
       "      <td>790.7 -&gt; 573.6</td>\n",
       "      <td>NaN</td>\n",
       "      <td>DOD93_F4-5xFAD-Cereb_TG18-1_o3on</td>\n",
       "      <td>13.82</td>\n",
       "      <td>4674.0</td>\n",
       "      <td>708.7</td>\n",
       "      <td>680.7</td>\n",
       "      <td>638.7</td>\n",
       "    </tr>\n",
       "    <tr>\n",
       "      <th>20</th>\n",
       "      <td>NaN</td>\n",
       "      <td>790.8</td>\n",
       "      <td>601.6</td>\n",
       "      <td>1.952738e+05</td>\n",
       "      <td>790.8 -&gt; 601.6</td>\n",
       "      <td>NaN</td>\n",
       "      <td>DOD93_F4-5xFAD-Cereb_TG18-1_o3on</td>\n",
       "      <td>11.86</td>\n",
       "      <td>5245.0</td>\n",
       "      <td>708.8</td>\n",
       "      <td>680.8</td>\n",
       "      <td>638.8</td>\n",
       "    </tr>\n",
       "    <tr>\n",
       "      <th>21</th>\n",
       "      <td>NaN</td>\n",
       "      <td>792.7</td>\n",
       "      <td>575.6</td>\n",
       "      <td>1.903083e+05</td>\n",
       "      <td>792.7 -&gt; 575.6</td>\n",
       "      <td>NaN</td>\n",
       "      <td>DOD93_F4-5xFAD-Cereb_TG18-1_o3on</td>\n",
       "      <td>14.91</td>\n",
       "      <td>25658.0</td>\n",
       "      <td>710.7</td>\n",
       "      <td>682.7</td>\n",
       "      <td>640.7</td>\n",
       "    </tr>\n",
       "    <tr>\n",
       "      <th>22</th>\n",
       "      <td>NaN</td>\n",
       "      <td>792.8</td>\n",
       "      <td>603.6</td>\n",
       "      <td>7.489054e+05</td>\n",
       "      <td>792.8 -&gt; 603.6</td>\n",
       "      <td>NaN</td>\n",
       "      <td>DOD93_F4-5xFAD-Cereb_TG18-1_o3on</td>\n",
       "      <td>13.81</td>\n",
       "      <td>28454.0</td>\n",
       "      <td>710.8</td>\n",
       "      <td>682.8</td>\n",
       "      <td>640.8</td>\n",
       "    </tr>\n",
       "    <tr>\n",
       "      <th>23</th>\n",
       "      <td>NaN</td>\n",
       "      <td>794.7</td>\n",
       "      <td>577.6</td>\n",
       "      <td>6.869375e+05</td>\n",
       "      <td>794.7 -&gt; 577.6</td>\n",
       "      <td>NaN</td>\n",
       "      <td>DOD93_F4-5xFAD-Cereb_TG18-1_o3on</td>\n",
       "      <td>12.59</td>\n",
       "      <td>973.0</td>\n",
       "      <td>712.7</td>\n",
       "      <td>684.7</td>\n",
       "      <td>642.7</td>\n",
       "    </tr>\n",
       "    <tr>\n",
       "      <th>24</th>\n",
       "      <td>NaN</td>\n",
       "      <td>816.8</td>\n",
       "      <td>599.6</td>\n",
       "      <td>7.366929e+04</td>\n",
       "      <td>816.8 -&gt; 599.6</td>\n",
       "      <td>NaN</td>\n",
       "      <td>DOD93_F4-5xFAD-Cereb_TG18-1_o3on</td>\n",
       "      <td>14.65</td>\n",
       "      <td>2649.0</td>\n",
       "      <td>734.8</td>\n",
       "      <td>706.8</td>\n",
       "      <td>664.8</td>\n",
       "    </tr>\n",
       "    <tr>\n",
       "      <th>25</th>\n",
       "      <td>NaN</td>\n",
       "      <td>818.8</td>\n",
       "      <td>601.6</td>\n",
       "      <td>1.200953e+05</td>\n",
       "      <td>818.8 -&gt; 601.6</td>\n",
       "      <td>NaN</td>\n",
       "      <td>DOD93_F4-5xFAD-Cereb_TG18-1_o3on</td>\n",
       "      <td>12.21</td>\n",
       "      <td>7918.0</td>\n",
       "      <td>736.8</td>\n",
       "      <td>708.8</td>\n",
       "      <td>666.8</td>\n",
       "    </tr>\n",
       "    <tr>\n",
       "      <th>26</th>\n",
       "      <td>NaN</td>\n",
       "      <td>820.8</td>\n",
       "      <td>603.6</td>\n",
       "      <td>4.014192e+05</td>\n",
       "      <td>820.8 -&gt; 603.6</td>\n",
       "      <td>NaN</td>\n",
       "      <td>DOD93_F4-5xFAD-Cereb_TG18-1_o3on</td>\n",
       "      <td>12.82</td>\n",
       "      <td>22476.0</td>\n",
       "      <td>738.8</td>\n",
       "      <td>710.8</td>\n",
       "      <td>668.8</td>\n",
       "    </tr>\n",
       "    <tr>\n",
       "      <th>27</th>\n",
       "      <td>[TG(50:3)]_FA18:1</td>\n",
       "      <td>846.8</td>\n",
       "      <td>547.6</td>\n",
       "      <td>6.869138e+05</td>\n",
       "      <td>846.8 -&gt; 547.6</td>\n",
       "      <td>TAG</td>\n",
       "      <td>DOD93_F4-5xFAD-Cereb_TG18-1_o3on</td>\n",
       "      <td>15.01</td>\n",
       "      <td>213888.0</td>\n",
       "      <td>764.8</td>\n",
       "      <td>736.8</td>\n",
       "      <td>694.8</td>\n",
       "    </tr>\n",
       "    <tr>\n",
       "      <th>28</th>\n",
       "      <td>[TG(51:9),TG(50:2)]_FA18:1</td>\n",
       "      <td>848.8</td>\n",
       "      <td>549.6</td>\n",
       "      <td>3.262575e+06</td>\n",
       "      <td>848.8 -&gt; 549.6</td>\n",
       "      <td>TAG</td>\n",
       "      <td>DOD93_F4-5xFAD-Cereb_TG18-1_o3on</td>\n",
       "      <td>13.91</td>\n",
       "      <td>246212.0</td>\n",
       "      <td>766.8</td>\n",
       "      <td>738.8</td>\n",
       "      <td>696.8</td>\n",
       "    </tr>\n",
       "    <tr>\n",
       "      <th>29</th>\n",
       "      <td>[TG(51:8),TG(50:1)]_FA18:1</td>\n",
       "      <td>850.8</td>\n",
       "      <td>551.6</td>\n",
       "      <td>8.906404e+06</td>\n",
       "      <td>850.8 -&gt; 551.6</td>\n",
       "      <td>TAG</td>\n",
       "      <td>DOD93_F4-5xFAD-Cereb_TG18-1_o3on</td>\n",
       "      <td>12.69</td>\n",
       "      <td>36204.0</td>\n",
       "      <td>768.8</td>\n",
       "      <td>740.8</td>\n",
       "      <td>698.8</td>\n",
       "    </tr>\n",
       "    <tr>\n",
       "      <th>30</th>\n",
       "      <td>[TG(52:4)]_FA18:1</td>\n",
       "      <td>872.8</td>\n",
       "      <td>573.6</td>\n",
       "      <td>7.219475e+05</td>\n",
       "      <td>872.8 -&gt; 573.6</td>\n",
       "      <td>TAG</td>\n",
       "      <td>DOD93_F4-5xFAD-Cereb_TG18-1_o3on</td>\n",
       "      <td>14.88</td>\n",
       "      <td>148100.0</td>\n",
       "      <td>790.8</td>\n",
       "      <td>762.8</td>\n",
       "      <td>720.8</td>\n",
       "    </tr>\n",
       "    <tr>\n",
       "      <th>31</th>\n",
       "      <td>[TG(53:10),TG(52:3)]_FA18:1</td>\n",
       "      <td>874.8</td>\n",
       "      <td>575.6</td>\n",
       "      <td>4.364672e+06</td>\n",
       "      <td>874.8 -&gt; 575.6</td>\n",
       "      <td>TAG</td>\n",
       "      <td>DOD93_F4-5xFAD-Cereb_TG18-1_o3on</td>\n",
       "      <td>13.65</td>\n",
       "      <td>608530.0</td>\n",
       "      <td>792.8</td>\n",
       "      <td>764.8</td>\n",
       "      <td>722.8</td>\n",
       "    </tr>\n",
       "    <tr>\n",
       "      <th>32</th>\n",
       "      <td>[TG(53:9),TG(52:2)]_FA18:1</td>\n",
       "      <td>876.8</td>\n",
       "      <td>577.6</td>\n",
       "      <td>1.805685e+07</td>\n",
       "      <td>876.8 -&gt; 577.6</td>\n",
       "      <td>TAG</td>\n",
       "      <td>DOD93_F4-5xFAD-Cereb_TG18-1_o3on</td>\n",
       "      <td>13.65</td>\n",
       "      <td>76176.0</td>\n",
       "      <td>794.8</td>\n",
       "      <td>766.8</td>\n",
       "      <td>724.8</td>\n",
       "    </tr>\n",
       "    <tr>\n",
       "      <th>33</th>\n",
       "      <td>[TG(54:5)]_FA18:1</td>\n",
       "      <td>898.8</td>\n",
       "      <td>599.6</td>\n",
       "      <td>1.673118e+06</td>\n",
       "      <td>898.8 -&gt; 599.6</td>\n",
       "      <td>TAG</td>\n",
       "      <td>DOD93_F4-5xFAD-Cereb_TG18-1_o3on</td>\n",
       "      <td>12.55</td>\n",
       "      <td>116106.0</td>\n",
       "      <td>816.8</td>\n",
       "      <td>788.8</td>\n",
       "      <td>746.8</td>\n",
       "    </tr>\n",
       "    <tr>\n",
       "      <th>34</th>\n",
       "      <td>[TG(55:11),TG(54:4)]_FA18:1</td>\n",
       "      <td>900.8</td>\n",
       "      <td>601.6</td>\n",
       "      <td>3.305303e+06</td>\n",
       "      <td>900.8 -&gt; 601.6</td>\n",
       "      <td>TAG</td>\n",
       "      <td>DOD93_F4-5xFAD-Cereb_TG18-1_o3on</td>\n",
       "      <td>13.64</td>\n",
       "      <td>360401.0</td>\n",
       "      <td>818.8</td>\n",
       "      <td>790.8</td>\n",
       "      <td>748.8</td>\n",
       "    </tr>\n",
       "    <tr>\n",
       "      <th>35</th>\n",
       "      <td>[TG(55:10),TG(54:3)]_FA18:1</td>\n",
       "      <td>902.8</td>\n",
       "      <td>603.6</td>\n",
       "      <td>9.339795e+06</td>\n",
       "      <td>902.8 -&gt; 603.6</td>\n",
       "      <td>TAG</td>\n",
       "      <td>DOD93_F4-5xFAD-Cereb_TG18-1_o3on</td>\n",
       "      <td>15.49</td>\n",
       "      <td>49842001.0</td>\n",
       "      <td>820.8</td>\n",
       "      <td>792.8</td>\n",
       "      <td>750.8</td>\n",
       "    </tr>\n",
       "  </tbody>\n",
       "</table>\n",
       "</div>"
      ],
      "text/plain": [
       "                          Lipid  Parent_Ion  Product_Ion     Intensity  \\\n",
       "0                           NaN       694.6        547.6  2.567996e+05   \n",
       "1                           NaN       696.6        549.6  2.185144e+05   \n",
       "2                           NaN       698.7        551.6  6.608002e+06   \n",
       "3                           NaN       720.6        573.6  7.330655e+04   \n",
       "4                           NaN       722.6        575.6  1.428391e+05   \n",
       "5                           NaN       724.7        577.6  5.815955e+05   \n",
       "6                           NaN       736.7        547.6  6.613184e+05   \n",
       "7                           NaN       738.7        549.6  4.582103e+05   \n",
       "8                           NaN       740.8        551.6  9.366814e+05   \n",
       "9                           NaN       746.8        599.6  1.976136e+05   \n",
       "10                          NaN       748.8        601.6  1.128153e+05   \n",
       "11                          NaN       750.8        603.6  5.757424e+05   \n",
       "12                          NaN       762.7        573.6  1.173825e+05   \n",
       "13                          NaN       764.7        547.6  1.187571e+06   \n",
       "14                          NaN       764.7        575.6  2.812500e+05   \n",
       "15                          NaN       766.7        549.6  3.307983e+05   \n",
       "16                          NaN       766.7        577.6  1.179938e+06   \n",
       "17                          NaN       768.8        551.6  7.723013e+05   \n",
       "18                          NaN       788.8        599.6  1.482506e+05   \n",
       "19                          NaN       790.7        573.6  7.847697e+04   \n",
       "20                          NaN       790.8        601.6  1.952738e+05   \n",
       "21                          NaN       792.7        575.6  1.903083e+05   \n",
       "22                          NaN       792.8        603.6  7.489054e+05   \n",
       "23                          NaN       794.7        577.6  6.869375e+05   \n",
       "24                          NaN       816.8        599.6  7.366929e+04   \n",
       "25                          NaN       818.8        601.6  1.200953e+05   \n",
       "26                          NaN       820.8        603.6  4.014192e+05   \n",
       "27            [TG(50:3)]_FA18:1       846.8        547.6  6.869138e+05   \n",
       "28   [TG(51:9),TG(50:2)]_FA18:1       848.8        549.6  3.262575e+06   \n",
       "29   [TG(51:8),TG(50:1)]_FA18:1       850.8        551.6  8.906404e+06   \n",
       "30            [TG(52:4)]_FA18:1       872.8        573.6  7.219475e+05   \n",
       "31  [TG(53:10),TG(52:3)]_FA18:1       874.8        575.6  4.364672e+06   \n",
       "32   [TG(53:9),TG(52:2)]_FA18:1       876.8        577.6  1.805685e+07   \n",
       "33            [TG(54:5)]_FA18:1       898.8        599.6  1.673118e+06   \n",
       "34  [TG(55:11),TG(54:4)]_FA18:1       900.8        601.6  3.305303e+06   \n",
       "35  [TG(55:10),TG(54:3)]_FA18:1       902.8        603.6  9.339795e+06   \n",
       "\n",
       "        Transition Class                         Sample_ID  Retention_Time  \\\n",
       "0   694.6 -> 547.6   NaN  DOD93_F4-5xFAD-Cereb_TG18-1_o3on           13.39   \n",
       "1   696.6 -> 549.6   NaN  DOD93_F4-5xFAD-Cereb_TG18-1_o3on           13.27   \n",
       "2   698.7 -> 551.6   NaN  DOD93_F4-5xFAD-Cereb_TG18-1_o3on           14.24   \n",
       "3   720.6 -> 573.6   NaN  DOD93_F4-5xFAD-Cereb_TG18-1_o3on           11.92   \n",
       "4   722.6 -> 575.6   NaN  DOD93_F4-5xFAD-Cereb_TG18-1_o3on           13.14   \n",
       "5   724.7 -> 577.6   NaN  DOD93_F4-5xFAD-Cereb_TG18-1_o3on           15.08   \n",
       "6   736.7 -> 547.6   NaN  DOD93_F4-5xFAD-Cereb_TG18-1_o3on           12.64   \n",
       "7   738.7 -> 549.6   NaN  DOD93_F4-5xFAD-Cereb_TG18-1_o3on           12.40   \n",
       "8   740.8 -> 551.6   NaN  DOD93_F4-5xFAD-Cereb_TG18-1_o3on           12.27   \n",
       "9   746.8 -> 599.6   NaN  DOD93_F4-5xFAD-Cereb_TG18-1_o3on           12.88   \n",
       "10  748.8 -> 601.6   NaN  DOD93_F4-5xFAD-Cereb_TG18-1_o3on           14.21   \n",
       "11  750.8 -> 603.6   NaN  DOD93_F4-5xFAD-Cereb_TG18-1_o3on           13.36   \n",
       "12  762.7 -> 573.6   NaN  DOD93_F4-5xFAD-Cereb_TG18-1_o3on             NaN   \n",
       "13  764.7 -> 547.6   NaN  DOD93_F4-5xFAD-Cereb_TG18-1_o3on           12.50   \n",
       "14  764.7 -> 575.6   NaN  DOD93_F4-5xFAD-Cereb_TG18-1_o3on             NaN   \n",
       "15  766.7 -> 549.6   NaN  DOD93_F4-5xFAD-Cereb_TG18-1_o3on           13.83   \n",
       "16  766.7 -> 577.6   NaN  DOD93_F4-5xFAD-Cereb_TG18-1_o3on           14.07   \n",
       "17  768.8 -> 551.6   NaN  DOD93_F4-5xFAD-Cereb_TG18-1_o3on           11.87   \n",
       "18  788.8 -> 599.6   NaN  DOD93_F4-5xFAD-Cereb_TG18-1_o3on           13.58   \n",
       "19  790.7 -> 573.6   NaN  DOD93_F4-5xFAD-Cereb_TG18-1_o3on           13.82   \n",
       "20  790.8 -> 601.6   NaN  DOD93_F4-5xFAD-Cereb_TG18-1_o3on           11.86   \n",
       "21  792.7 -> 575.6   NaN  DOD93_F4-5xFAD-Cereb_TG18-1_o3on           14.91   \n",
       "22  792.8 -> 603.6   NaN  DOD93_F4-5xFAD-Cereb_TG18-1_o3on           13.81   \n",
       "23  794.7 -> 577.6   NaN  DOD93_F4-5xFAD-Cereb_TG18-1_o3on           12.59   \n",
       "24  816.8 -> 599.6   NaN  DOD93_F4-5xFAD-Cereb_TG18-1_o3on           14.65   \n",
       "25  818.8 -> 601.6   NaN  DOD93_F4-5xFAD-Cereb_TG18-1_o3on           12.21   \n",
       "26  820.8 -> 603.6   NaN  DOD93_F4-5xFAD-Cereb_TG18-1_o3on           12.82   \n",
       "27  846.8 -> 547.6   TAG  DOD93_F4-5xFAD-Cereb_TG18-1_o3on           15.01   \n",
       "28  848.8 -> 549.6   TAG  DOD93_F4-5xFAD-Cereb_TG18-1_o3on           13.91   \n",
       "29  850.8 -> 551.6   TAG  DOD93_F4-5xFAD-Cereb_TG18-1_o3on           12.69   \n",
       "30  872.8 -> 573.6   TAG  DOD93_F4-5xFAD-Cereb_TG18-1_o3on           14.88   \n",
       "31  874.8 -> 575.6   TAG  DOD93_F4-5xFAD-Cereb_TG18-1_o3on           13.65   \n",
       "32  876.8 -> 577.6   TAG  DOD93_F4-5xFAD-Cereb_TG18-1_o3on           13.65   \n",
       "33  898.8 -> 599.6   TAG  DOD93_F4-5xFAD-Cereb_TG18-1_o3on           12.55   \n",
       "34  900.8 -> 601.6   TAG  DOD93_F4-5xFAD-Cereb_TG18-1_o3on           13.64   \n",
       "35  902.8 -> 603.6   TAG  DOD93_F4-5xFAD-Cereb_TG18-1_o3on           15.49   \n",
       "\n",
       "    Intensity_OzESI    n-7    n-9   n-12  \n",
       "0            4198.0  612.6  584.6  542.6  \n",
       "1           23284.0  614.6  586.6  544.6  \n",
       "2             545.0  616.7  588.7  546.7  \n",
       "3            1720.0  638.6  610.6  568.6  \n",
       "4            6684.0  640.6  612.6  570.6  \n",
       "5            4650.0  642.7  614.7  572.7  \n",
       "6            8576.0  654.7  626.7  584.7  \n",
       "7           21974.0  656.7  628.7  586.7  \n",
       "8             482.0  658.8  630.8  588.8  \n",
       "9             512.0  664.8  636.8  594.8  \n",
       "10           1749.0  666.8  638.8  596.8  \n",
       "11            946.0  668.8  640.8  598.8  \n",
       "12              NaN  680.7  652.7  610.7  \n",
       "13           9047.0  682.7  654.7  612.7  \n",
       "14              NaN  682.7  654.7  612.7  \n",
       "15          27952.0  684.7  656.7  614.7  \n",
       "16          29677.0  684.7  656.7  614.7  \n",
       "17            837.0  686.8  658.8  616.8  \n",
       "18            729.0  706.8  678.8  636.8  \n",
       "19           4674.0  708.7  680.7  638.7  \n",
       "20           5245.0  708.8  680.8  638.8  \n",
       "21          25658.0  710.7  682.7  640.7  \n",
       "22          28454.0  710.8  682.8  640.8  \n",
       "23            973.0  712.7  684.7  642.7  \n",
       "24           2649.0  734.8  706.8  664.8  \n",
       "25           7918.0  736.8  708.8  666.8  \n",
       "26          22476.0  738.8  710.8  668.8  \n",
       "27         213888.0  764.8  736.8  694.8  \n",
       "28         246212.0  766.8  738.8  696.8  \n",
       "29          36204.0  768.8  740.8  698.8  \n",
       "30         148100.0  790.8  762.8  720.8  \n",
       "31         608530.0  792.8  764.8  722.8  \n",
       "32          76176.0  794.8  766.8  724.8  \n",
       "33         116106.0  816.8  788.8  746.8  \n",
       "34         360401.0  818.8  790.8  748.8  \n",
       "35       49842001.0  820.8  792.8  750.8  "
      ]
     },
     "execution_count": 198,
     "metadata": {},
     "output_type": "execute_result"
    }
   ],
   "source": [
    "df_OzESI_processed.head(None)"
   ]
  },
  {
   "attachments": {},
   "cell_type": "markdown",
   "metadata": {},
   "source": [
    "OzESI n-# lipid matching"
   ]
  },
  {
   "cell_type": "code",
   "execution_count": 66,
   "metadata": {},
   "outputs": [
    {
     "name": "stdout",
     "output_type": "stream",
     "text": [
      "n-9 8 29\n",
      "[TG(51:8),TG(50:1)]_FA18:1 740.8\n",
      "[TG(51:8),TG(50:1)]_FA18:1 551.6\n",
      "12.57\n",
      "n-9 18 33\n",
      "[TG(54:5)]_FA18:1 788.8\n",
      "[TG(54:5)]_FA18:1 599.6\n",
      "13.65\n"
     ]
    },
    {
     "data": {
      "text/html": [
       "<div>\n",
       "<style scoped>\n",
       "    .dataframe tbody tr th:only-of-type {\n",
       "        vertical-align: middle;\n",
       "    }\n",
       "\n",
       "    .dataframe tbody tr th {\n",
       "        vertical-align: top;\n",
       "    }\n",
       "\n",
       "    .dataframe thead th {\n",
       "        text-align: right;\n",
       "    }\n",
       "</style>\n",
       "<table border=\"1\" class=\"dataframe\">\n",
       "  <thead>\n",
       "    <tr style=\"text-align: right;\">\n",
       "      <th></th>\n",
       "      <th>Lipid</th>\n",
       "      <th>Parent_Ion</th>\n",
       "      <th>Product_Ion</th>\n",
       "      <th>Intensity</th>\n",
       "      <th>Transition</th>\n",
       "      <th>Class</th>\n",
       "      <th>Sample_ID</th>\n",
       "      <th>Retention_Time</th>\n",
       "      <th>Intensity_OzESI</th>\n",
       "      <th>n-7</th>\n",
       "      <th>n-9</th>\n",
       "      <th>n-12</th>\n",
       "    </tr>\n",
       "  </thead>\n",
       "  <tbody>\n",
       "    <tr>\n",
       "      <th>8</th>\n",
       "      <td>n-9 [TG(51:8),TG(50:1)]_FA18:1</td>\n",
       "      <td>740.8</td>\n",
       "      <td>551.6</td>\n",
       "      <td>9.366814e+05</td>\n",
       "      <td>740.8 -&gt; 551.6</td>\n",
       "      <td>NaN</td>\n",
       "      <td>DOD93_F4-5xFAD-Cereb_TG18-1_o3on</td>\n",
       "      <td>5.94</td>\n",
       "      <td>18649.0</td>\n",
       "      <td>658.8</td>\n",
       "      <td>630.8</td>\n",
       "      <td>588.8</td>\n",
       "    </tr>\n",
       "    <tr>\n",
       "      <th>9</th>\n",
       "      <td>n-12 [TG(54:5)]_FA18:1</td>\n",
       "      <td>746.8</td>\n",
       "      <td>599.6</td>\n",
       "      <td>1.976136e+05</td>\n",
       "      <td>746.8 -&gt; 599.6</td>\n",
       "      <td>NaN</td>\n",
       "      <td>DOD93_F4-5xFAD-Cereb_TG18-1_o3on</td>\n",
       "      <td>6.42</td>\n",
       "      <td>3948.0</td>\n",
       "      <td>664.8</td>\n",
       "      <td>636.8</td>\n",
       "      <td>594.8</td>\n",
       "    </tr>\n",
       "    <tr>\n",
       "      <th>10</th>\n",
       "      <td>n-12 [TG(55:11),TG(54:4)]_FA18:1</td>\n",
       "      <td>748.8</td>\n",
       "      <td>601.6</td>\n",
       "      <td>1.128153e+05</td>\n",
       "      <td>748.8 -&gt; 601.6</td>\n",
       "      <td>NaN</td>\n",
       "      <td>DOD93_F4-5xFAD-Cereb_TG18-1_o3on</td>\n",
       "      <td>7.51</td>\n",
       "      <td>49650.0</td>\n",
       "      <td>666.8</td>\n",
       "      <td>638.8</td>\n",
       "      <td>596.8</td>\n",
       "    </tr>\n",
       "    <tr>\n",
       "      <th>11</th>\n",
       "      <td>n-12 [TG(55:10),TG(54:3)]_FA18:1</td>\n",
       "      <td>750.8</td>\n",
       "      <td>603.6</td>\n",
       "      <td>5.757424e+05</td>\n",
       "      <td>750.8 -&gt; 603.6</td>\n",
       "      <td>NaN</td>\n",
       "      <td>DOD93_F4-5xFAD-Cereb_TG18-1_o3on</td>\n",
       "      <td>12.50</td>\n",
       "      <td>4476.0</td>\n",
       "      <td>668.8</td>\n",
       "      <td>640.8</td>\n",
       "      <td>598.8</td>\n",
       "    </tr>\n",
       "    <tr>\n",
       "      <th>17</th>\n",
       "      <td>n-7 [TG(51:8),TG(50:1)]_FA18:1</td>\n",
       "      <td>768.8</td>\n",
       "      <td>551.6</td>\n",
       "      <td>7.723013e+05</td>\n",
       "      <td>768.8 -&gt; 551.6</td>\n",
       "      <td>NaN</td>\n",
       "      <td>DOD93_F4-5xFAD-Cereb_TG18-1_o3on</td>\n",
       "      <td>12.36</td>\n",
       "      <td>8898.0</td>\n",
       "      <td>686.8</td>\n",
       "      <td>658.8</td>\n",
       "      <td>616.8</td>\n",
       "    </tr>\n",
       "    <tr>\n",
       "      <th>18</th>\n",
       "      <td>n-9 [TG(54:5)]_FA18:1</td>\n",
       "      <td>788.8</td>\n",
       "      <td>599.6</td>\n",
       "      <td>1.482506e+05</td>\n",
       "      <td>788.8 -&gt; 599.6</td>\n",
       "      <td>NaN</td>\n",
       "      <td>DOD93_F4-5xFAD-Cereb_TG18-1_o3on</td>\n",
       "      <td>1.15</td>\n",
       "      <td>1688.0</td>\n",
       "      <td>706.8</td>\n",
       "      <td>678.8</td>\n",
       "      <td>636.8</td>\n",
       "    </tr>\n",
       "    <tr>\n",
       "      <th>20</th>\n",
       "      <td>n-7 [TG(52:4)]_FA18:1</td>\n",
       "      <td>790.8</td>\n",
       "      <td>601.6</td>\n",
       "      <td>1.952738e+05</td>\n",
       "      <td>790.8 -&gt; 601.6</td>\n",
       "      <td>NaN</td>\n",
       "      <td>DOD93_F4-5xFAD-Cereb_TG18-1_o3on</td>\n",
       "      <td>13.69</td>\n",
       "      <td>18782.0</td>\n",
       "      <td>708.8</td>\n",
       "      <td>680.8</td>\n",
       "      <td>638.8</td>\n",
       "    </tr>\n",
       "    <tr>\n",
       "      <th>22</th>\n",
       "      <td>n-7 [TG(53:10),TG(52:3)]_FA18:1</td>\n",
       "      <td>792.8</td>\n",
       "      <td>603.6</td>\n",
       "      <td>7.489054e+05</td>\n",
       "      <td>792.8 -&gt; 603.6</td>\n",
       "      <td>NaN</td>\n",
       "      <td>DOD93_F4-5xFAD-Cereb_TG18-1_o3on</td>\n",
       "      <td>14.78</td>\n",
       "      <td>98857.0</td>\n",
       "      <td>710.8</td>\n",
       "      <td>682.8</td>\n",
       "      <td>640.8</td>\n",
       "    </tr>\n",
       "    <tr>\n",
       "      <th>24</th>\n",
       "      <td>n-7 [TG(54:5)]_FA18:1</td>\n",
       "      <td>816.8</td>\n",
       "      <td>599.6</td>\n",
       "      <td>7.366929e+04</td>\n",
       "      <td>816.8 -&gt; 599.6</td>\n",
       "      <td>NaN</td>\n",
       "      <td>DOD93_F4-5xFAD-Cereb_TG18-1_o3on</td>\n",
       "      <td>7.10</td>\n",
       "      <td>5200.0</td>\n",
       "      <td>734.8</td>\n",
       "      <td>706.8</td>\n",
       "      <td>664.8</td>\n",
       "    </tr>\n",
       "    <tr>\n",
       "      <th>25</th>\n",
       "      <td>n-7 [TG(55:11),TG(54:4)]_FA18:1</td>\n",
       "      <td>818.8</td>\n",
       "      <td>601.6</td>\n",
       "      <td>1.200953e+05</td>\n",
       "      <td>818.8 -&gt; 601.6</td>\n",
       "      <td>NaN</td>\n",
       "      <td>DOD93_F4-5xFAD-Cereb_TG18-1_o3on</td>\n",
       "      <td>7.10</td>\n",
       "      <td>74176.0</td>\n",
       "      <td>736.8</td>\n",
       "      <td>708.8</td>\n",
       "      <td>666.8</td>\n",
       "    </tr>\n",
       "    <tr>\n",
       "      <th>26</th>\n",
       "      <td>n-7 [TG(55:10),TG(54:3)]_FA18:1</td>\n",
       "      <td>820.8</td>\n",
       "      <td>603.6</td>\n",
       "      <td>4.014192e+05</td>\n",
       "      <td>820.8 -&gt; 603.6</td>\n",
       "      <td>NaN</td>\n",
       "      <td>DOD93_F4-5xFAD-Cereb_TG18-1_o3on</td>\n",
       "      <td>12.58</td>\n",
       "      <td>72587.0</td>\n",
       "      <td>738.8</td>\n",
       "      <td>710.8</td>\n",
       "      <td>668.8</td>\n",
       "    </tr>\n",
       "    <tr>\n",
       "      <th>27</th>\n",
       "      <td>[TG(50:3)]_FA18:1</td>\n",
       "      <td>846.8</td>\n",
       "      <td>547.6</td>\n",
       "      <td>6.869138e+05</td>\n",
       "      <td>846.8 -&gt; 547.6</td>\n",
       "      <td>TAG</td>\n",
       "      <td>DOD93_F4-5xFAD-Cereb_TG18-1_o3on</td>\n",
       "      <td>13.79</td>\n",
       "      <td>409651.0</td>\n",
       "      <td>764.8</td>\n",
       "      <td>736.8</td>\n",
       "      <td>694.8</td>\n",
       "    </tr>\n",
       "    <tr>\n",
       "      <th>28</th>\n",
       "      <td>[TG(51:9),TG(50:2)]_FA18:1</td>\n",
       "      <td>848.8</td>\n",
       "      <td>549.6</td>\n",
       "      <td>3.262575e+06</td>\n",
       "      <td>848.8 -&gt; 549.6</td>\n",
       "      <td>TAG</td>\n",
       "      <td>DOD93_F4-5xFAD-Cereb_TG18-1_o3on</td>\n",
       "      <td>15.13</td>\n",
       "      <td>2236988.0</td>\n",
       "      <td>766.8</td>\n",
       "      <td>738.8</td>\n",
       "      <td>696.8</td>\n",
       "    </tr>\n",
       "    <tr>\n",
       "      <th>29</th>\n",
       "      <td>[TG(51:8),TG(50:1)]_FA18:1</td>\n",
       "      <td>850.8</td>\n",
       "      <td>551.6</td>\n",
       "      <td>8.906404e+06</td>\n",
       "      <td>850.8 -&gt; 551.6</td>\n",
       "      <td>TAG</td>\n",
       "      <td>DOD93_F4-5xFAD-Cereb_TG18-1_o3on</td>\n",
       "      <td>12.57</td>\n",
       "      <td>159733.0</td>\n",
       "      <td>768.8</td>\n",
       "      <td>740.8</td>\n",
       "      <td>698.8</td>\n",
       "    </tr>\n",
       "    <tr>\n",
       "      <th>30</th>\n",
       "      <td>[TG(52:4)]_FA18:1</td>\n",
       "      <td>872.8</td>\n",
       "      <td>573.6</td>\n",
       "      <td>7.219475e+05</td>\n",
       "      <td>872.8 -&gt; 573.6</td>\n",
       "      <td>TAG</td>\n",
       "      <td>DOD93_F4-5xFAD-Cereb_TG18-1_o3on</td>\n",
       "      <td>13.66</td>\n",
       "      <td>928619.0</td>\n",
       "      <td>790.8</td>\n",
       "      <td>762.8</td>\n",
       "      <td>720.8</td>\n",
       "    </tr>\n",
       "    <tr>\n",
       "      <th>31</th>\n",
       "      <td>[TG(53:10),TG(52:3)]_FA18:1</td>\n",
       "      <td>874.8</td>\n",
       "      <td>575.6</td>\n",
       "      <td>4.364672e+06</td>\n",
       "      <td>874.8 -&gt; 575.6</td>\n",
       "      <td>TAG</td>\n",
       "      <td>DOD93_F4-5xFAD-Cereb_TG18-1_o3on</td>\n",
       "      <td>14.99</td>\n",
       "      <td>4376154.0</td>\n",
       "      <td>792.8</td>\n",
       "      <td>764.8</td>\n",
       "      <td>722.8</td>\n",
       "    </tr>\n",
       "    <tr>\n",
       "      <th>32</th>\n",
       "      <td>[TG(53:9),TG(52:2)]_FA18:1</td>\n",
       "      <td>876.8</td>\n",
       "      <td>577.6</td>\n",
       "      <td>1.805685e+07</td>\n",
       "      <td>876.8 -&gt; 577.6</td>\n",
       "      <td>TAG</td>\n",
       "      <td>DOD93_F4-5xFAD-Cereb_TG18-1_o3on</td>\n",
       "      <td>12.56</td>\n",
       "      <td>494143.0</td>\n",
       "      <td>794.8</td>\n",
       "      <td>766.8</td>\n",
       "      <td>724.8</td>\n",
       "    </tr>\n",
       "    <tr>\n",
       "      <th>33</th>\n",
       "      <td>[TG(54:5)]_FA18:1</td>\n",
       "      <td>898.8</td>\n",
       "      <td>599.6</td>\n",
       "      <td>1.673118e+06</td>\n",
       "      <td>898.8 -&gt; 599.6</td>\n",
       "      <td>TAG</td>\n",
       "      <td>DOD93_F4-5xFAD-Cereb_TG18-1_o3on</td>\n",
       "      <td>13.65</td>\n",
       "      <td>797129.0</td>\n",
       "      <td>816.8</td>\n",
       "      <td>788.8</td>\n",
       "      <td>746.8</td>\n",
       "    </tr>\n",
       "    <tr>\n",
       "      <th>34</th>\n",
       "      <td>[TG(55:11),TG(54:4)]_FA18:1</td>\n",
       "      <td>900.8</td>\n",
       "      <td>601.6</td>\n",
       "      <td>3.305303e+06</td>\n",
       "      <td>900.8 -&gt; 601.6</td>\n",
       "      <td>TAG</td>\n",
       "      <td>DOD93_F4-5xFAD-Cereb_TG18-1_o3on</td>\n",
       "      <td>14.74</td>\n",
       "      <td>2345724.0</td>\n",
       "      <td>818.8</td>\n",
       "      <td>790.8</td>\n",
       "      <td>748.8</td>\n",
       "    </tr>\n",
       "    <tr>\n",
       "      <th>35</th>\n",
       "      <td>[TG(55:10),TG(54:3)]_FA18:1</td>\n",
       "      <td>902.8</td>\n",
       "      <td>603.6</td>\n",
       "      <td>9.339795e+06</td>\n",
       "      <td>902.8 -&gt; 603.6</td>\n",
       "      <td>TAG</td>\n",
       "      <td>DOD93_F4-5xFAD-Cereb_TG18-1_o3on</td>\n",
       "      <td>18.21</td>\n",
       "      <td>58840002.0</td>\n",
       "      <td>820.8</td>\n",
       "      <td>792.8</td>\n",
       "      <td>750.8</td>\n",
       "    </tr>\n",
       "  </tbody>\n",
       "</table>\n",
       "</div>"
      ],
      "text/plain": [
       "                               Lipid  Parent_Ion  Product_Ion     Intensity  \\\n",
       "8     n-9 [TG(51:8),TG(50:1)]_FA18:1       740.8        551.6  9.366814e+05   \n",
       "9             n-12 [TG(54:5)]_FA18:1       746.8        599.6  1.976136e+05   \n",
       "10  n-12 [TG(55:11),TG(54:4)]_FA18:1       748.8        601.6  1.128153e+05   \n",
       "11  n-12 [TG(55:10),TG(54:3)]_FA18:1       750.8        603.6  5.757424e+05   \n",
       "17    n-7 [TG(51:8),TG(50:1)]_FA18:1       768.8        551.6  7.723013e+05   \n",
       "18             n-9 [TG(54:5)]_FA18:1       788.8        599.6  1.482506e+05   \n",
       "20             n-7 [TG(52:4)]_FA18:1       790.8        601.6  1.952738e+05   \n",
       "22   n-7 [TG(53:10),TG(52:3)]_FA18:1       792.8        603.6  7.489054e+05   \n",
       "24             n-7 [TG(54:5)]_FA18:1       816.8        599.6  7.366929e+04   \n",
       "25   n-7 [TG(55:11),TG(54:4)]_FA18:1       818.8        601.6  1.200953e+05   \n",
       "26   n-7 [TG(55:10),TG(54:3)]_FA18:1       820.8        603.6  4.014192e+05   \n",
       "27                 [TG(50:3)]_FA18:1       846.8        547.6  6.869138e+05   \n",
       "28        [TG(51:9),TG(50:2)]_FA18:1       848.8        549.6  3.262575e+06   \n",
       "29        [TG(51:8),TG(50:1)]_FA18:1       850.8        551.6  8.906404e+06   \n",
       "30                 [TG(52:4)]_FA18:1       872.8        573.6  7.219475e+05   \n",
       "31       [TG(53:10),TG(52:3)]_FA18:1       874.8        575.6  4.364672e+06   \n",
       "32        [TG(53:9),TG(52:2)]_FA18:1       876.8        577.6  1.805685e+07   \n",
       "33                 [TG(54:5)]_FA18:1       898.8        599.6  1.673118e+06   \n",
       "34       [TG(55:11),TG(54:4)]_FA18:1       900.8        601.6  3.305303e+06   \n",
       "35       [TG(55:10),TG(54:3)]_FA18:1       902.8        603.6  9.339795e+06   \n",
       "\n",
       "        Transition Class                         Sample_ID  Retention_Time  \\\n",
       "8   740.8 -> 551.6   NaN  DOD93_F4-5xFAD-Cereb_TG18-1_o3on            5.94   \n",
       "9   746.8 -> 599.6   NaN  DOD93_F4-5xFAD-Cereb_TG18-1_o3on            6.42   \n",
       "10  748.8 -> 601.6   NaN  DOD93_F4-5xFAD-Cereb_TG18-1_o3on            7.51   \n",
       "11  750.8 -> 603.6   NaN  DOD93_F4-5xFAD-Cereb_TG18-1_o3on           12.50   \n",
       "17  768.8 -> 551.6   NaN  DOD93_F4-5xFAD-Cereb_TG18-1_o3on           12.36   \n",
       "18  788.8 -> 599.6   NaN  DOD93_F4-5xFAD-Cereb_TG18-1_o3on            1.15   \n",
       "20  790.8 -> 601.6   NaN  DOD93_F4-5xFAD-Cereb_TG18-1_o3on           13.69   \n",
       "22  792.8 -> 603.6   NaN  DOD93_F4-5xFAD-Cereb_TG18-1_o3on           14.78   \n",
       "24  816.8 -> 599.6   NaN  DOD93_F4-5xFAD-Cereb_TG18-1_o3on            7.10   \n",
       "25  818.8 -> 601.6   NaN  DOD93_F4-5xFAD-Cereb_TG18-1_o3on            7.10   \n",
       "26  820.8 -> 603.6   NaN  DOD93_F4-5xFAD-Cereb_TG18-1_o3on           12.58   \n",
       "27  846.8 -> 547.6   TAG  DOD93_F4-5xFAD-Cereb_TG18-1_o3on           13.79   \n",
       "28  848.8 -> 549.6   TAG  DOD93_F4-5xFAD-Cereb_TG18-1_o3on           15.13   \n",
       "29  850.8 -> 551.6   TAG  DOD93_F4-5xFAD-Cereb_TG18-1_o3on           12.57   \n",
       "30  872.8 -> 573.6   TAG  DOD93_F4-5xFAD-Cereb_TG18-1_o3on           13.66   \n",
       "31  874.8 -> 575.6   TAG  DOD93_F4-5xFAD-Cereb_TG18-1_o3on           14.99   \n",
       "32  876.8 -> 577.6   TAG  DOD93_F4-5xFAD-Cereb_TG18-1_o3on           12.56   \n",
       "33  898.8 -> 599.6   TAG  DOD93_F4-5xFAD-Cereb_TG18-1_o3on           13.65   \n",
       "34  900.8 -> 601.6   TAG  DOD93_F4-5xFAD-Cereb_TG18-1_o3on           14.74   \n",
       "35  902.8 -> 603.6   TAG  DOD93_F4-5xFAD-Cereb_TG18-1_o3on           18.21   \n",
       "\n",
       "    Intensity_OzESI    n-7    n-9   n-12  \n",
       "8           18649.0  658.8  630.8  588.8  \n",
       "9            3948.0  664.8  636.8  594.8  \n",
       "10          49650.0  666.8  638.8  596.8  \n",
       "11           4476.0  668.8  640.8  598.8  \n",
       "17           8898.0  686.8  658.8  616.8  \n",
       "18           1688.0  706.8  678.8  636.8  \n",
       "20          18782.0  708.8  680.8  638.8  \n",
       "22          98857.0  710.8  682.8  640.8  \n",
       "24           5200.0  734.8  706.8  664.8  \n",
       "25          74176.0  736.8  708.8  666.8  \n",
       "26          72587.0  738.8  710.8  668.8  \n",
       "27         409651.0  764.8  736.8  694.8  \n",
       "28        2236988.0  766.8  738.8  696.8  \n",
       "29         159733.0  768.8  740.8  698.8  \n",
       "30         928619.0  790.8  762.8  720.8  \n",
       "31        4376154.0  792.8  764.8  722.8  \n",
       "32         494143.0  794.8  766.8  724.8  \n",
       "33         797129.0  816.8  788.8  746.8  \n",
       "34        2345724.0  818.8  790.8  748.8  \n",
       "35       58840002.0  820.8  792.8  750.8  "
      ]
     },
     "execution_count": 66,
     "metadata": {},
     "output_type": "execute_result"
    }
   ],
   "source": [
    "# ### FIRST VERSION\n",
    "# #Supposed to add n-# and lipid name to lipid column, see github for previous working version\n",
    "# #OzESI_list = [3,5,7,9,12]\n",
    "# OzESI_list = [7,9,12]\n",
    "# def add_lipid_info(df_OzESI_processed, OzESI_list):\n",
    "#     # Create a copy of the original dataframe\n",
    "#     df_test = df_matched.copy()\n",
    "    \n",
    "#     # Convert Parent_Ion column to float\n",
    "#     df_test['Parent_Ion'] = df_test['Parent_Ion'].astype(float)\n",
    "    \n",
    "#     # Convert all n-# columns to float\n",
    "#     for i in OzESI_list:\n",
    "#         df_test['n-' + str(i)] = df_test['n-' + str(i)].astype(float)\n",
    "    \n",
    "#     # Search for n-# in Parent_Ion and add the corresponding lipid to the Lipid column\n",
    "#     for i in range(len(df_test)):\n",
    "#         for j in range(len(df_test)):\n",
    "#             if pd.isna(df_test.loc[i,'Lipid']):\n",
    "#                 # print(i,j)\n",
    "#                 parent_ion = df_test.loc[i,'Parent_Ion']\n",
    "#                 # if parent_ion == df_test.loc[j,'n-3'] and isinstance(df_test.loc[j,'Lipid'], str):\n",
    "#                 #     df_test.loc[i,'Lipid'] = 'n-3 ' + (df_test.loc[j,'Lipid'])\n",
    "#                 # elif parent_ion == df_test.loc[j,'n-5'] and isinstance(df_test.loc[j,'Lipid'], str):\n",
    "#                 #     df_test.loc[i,'Lipid'] = 'n-5 ' + (df_test.loc[j,'Lipid'])\n",
    "#                 if parent_ion == df_test.loc[j,'n-7'] and isinstance(df_test.loc[j,'Lipid'], str):\n",
    "#                     df_test.loc[i,'Lipid'] = 'n-7 ' + (df_test.loc[j,'Lipid'])\n",
    "#                 elif parent_ion == df_test.loc[j,'n-9'] and isinstance(df_test.loc[j,'Lipid'], str):\n",
    "#                     print('n-9', i, j)\n",
    "#                     print(df_test.loc[j,'Lipid'],parent_ion)\n",
    "#                     print(df_test.loc[j,'Lipid'],df_test.loc[j,'Product_Ion'])\n",
    "#                     #print retention time of that lipid\n",
    "#                     print(df_test.loc[j,'Retention_Time'])\n",
    "#                     df_test.loc[i,'Lipid'] = 'n-9 ' + (df_test.loc[j,'Lipid'])\n",
    "#                 elif parent_ion == df_test.loc[j,'n-12'] and isinstance(df_test.loc[j,'Lipid'], str):\n",
    "#                     df_test.loc[i,'Lipid'] = 'n-12 '+ (df_test.loc[j,'Lipid'])\n",
    "#                 else:\n",
    "#                     pass\n",
    "#     df_test.dropna(subset=['Lipid'], inplace=True)\n",
    "#     return df_test\n",
    "\n",
    "# pd.set_option('display.max_rows', None)\n",
    "# df_test = add_lipid_info(df_OzESI_processed, OzESI_list)\n",
    "# df_test.head(None)"
   ]
  },
  {
   "cell_type": "code",
   "execution_count": 98,
   "metadata": {},
   "outputs": [
    {
     "data": {
      "text/html": [
       "<div>\n",
       "<style scoped>\n",
       "    .dataframe tbody tr th:only-of-type {\n",
       "        vertical-align: middle;\n",
       "    }\n",
       "\n",
       "    .dataframe tbody tr th {\n",
       "        vertical-align: top;\n",
       "    }\n",
       "\n",
       "    .dataframe thead th {\n",
       "        text-align: right;\n",
       "    }\n",
       "</style>\n",
       "<table border=\"1\" class=\"dataframe\">\n",
       "  <thead>\n",
       "    <tr style=\"text-align: right;\">\n",
       "      <th></th>\n",
       "      <th>Lipid</th>\n",
       "      <th>Parent_Ion</th>\n",
       "      <th>Product_Ion</th>\n",
       "      <th>Intensity</th>\n",
       "      <th>Transition</th>\n",
       "      <th>Class</th>\n",
       "      <th>Sample_ID</th>\n",
       "      <th>Retention_Time</th>\n",
       "      <th>Intensity_OzESI</th>\n",
       "      <th>n-7</th>\n",
       "      <th>n-9</th>\n",
       "      <th>n-12</th>\n",
       "    </tr>\n",
       "  </thead>\n",
       "  <tbody>\n",
       "    <tr>\n",
       "      <th>8</th>\n",
       "      <td>n-9 [TG(51:8),TG(50:1)]_FA18:1</td>\n",
       "      <td>740.8</td>\n",
       "      <td>551.6</td>\n",
       "      <td>9.366814e+05</td>\n",
       "      <td>740.8 -&gt; 551.6</td>\n",
       "      <td>NaN</td>\n",
       "      <td>DOD93_F4-5xFAD-Cereb_TG18-1_o3on</td>\n",
       "      <td>15.19</td>\n",
       "      <td>584.0</td>\n",
       "      <td>658.8</td>\n",
       "      <td>630.8</td>\n",
       "      <td>588.8</td>\n",
       "    </tr>\n",
       "    <tr>\n",
       "      <th>9</th>\n",
       "      <td>n-12 [TG(54:5)]_FA18:1</td>\n",
       "      <td>746.8</td>\n",
       "      <td>599.6</td>\n",
       "      <td>1.976136e+05</td>\n",
       "      <td>746.8 -&gt; 599.6</td>\n",
       "      <td>NaN</td>\n",
       "      <td>DOD93_F4-5xFAD-Cereb_TG18-1_o3on</td>\n",
       "      <td>11.78</td>\n",
       "      <td>985.0</td>\n",
       "      <td>664.8</td>\n",
       "      <td>636.8</td>\n",
       "      <td>594.8</td>\n",
       "    </tr>\n",
       "    <tr>\n",
       "      <th>10</th>\n",
       "      <td>n-12 [TG(55:11),TG(54:4)]_FA18:1</td>\n",
       "      <td>748.8</td>\n",
       "      <td>601.6</td>\n",
       "      <td>1.128153e+05</td>\n",
       "      <td>748.8 -&gt; 601.6</td>\n",
       "      <td>NaN</td>\n",
       "      <td>DOD93_F4-5xFAD-Cereb_TG18-1_o3on</td>\n",
       "      <td>13.85</td>\n",
       "      <td>3845.0</td>\n",
       "      <td>666.8</td>\n",
       "      <td>638.8</td>\n",
       "      <td>596.8</td>\n",
       "    </tr>\n",
       "    <tr>\n",
       "      <th>11</th>\n",
       "      <td>n-12 [TG(55:10),TG(54:3)]_FA18:1</td>\n",
       "      <td>750.8</td>\n",
       "      <td>603.6</td>\n",
       "      <td>5.757424e+05</td>\n",
       "      <td>750.8 -&gt; 603.6</td>\n",
       "      <td>NaN</td>\n",
       "      <td>DOD93_F4-5xFAD-Cereb_TG18-1_o3on</td>\n",
       "      <td>12.50</td>\n",
       "      <td>4476.0</td>\n",
       "      <td>668.8</td>\n",
       "      <td>640.8</td>\n",
       "      <td>598.8</td>\n",
       "    </tr>\n",
       "    <tr>\n",
       "      <th>17</th>\n",
       "      <td>n-7 [TG(51:8),TG(50:1)]_FA18:1</td>\n",
       "      <td>768.8</td>\n",
       "      <td>551.6</td>\n",
       "      <td>7.723013e+05</td>\n",
       "      <td>768.8 -&gt; 551.6</td>\n",
       "      <td>NaN</td>\n",
       "      <td>DOD93_F4-5xFAD-Cereb_TG18-1_o3on</td>\n",
       "      <td>12.36</td>\n",
       "      <td>8898.0</td>\n",
       "      <td>686.8</td>\n",
       "      <td>658.8</td>\n",
       "      <td>616.8</td>\n",
       "    </tr>\n",
       "    <tr>\n",
       "      <th>18</th>\n",
       "      <td>n-9 [TG(54:5)]_FA18:1</td>\n",
       "      <td>788.8</td>\n",
       "      <td>599.6</td>\n",
       "      <td>1.482506e+05</td>\n",
       "      <td>788.8 -&gt; 599.6</td>\n",
       "      <td>NaN</td>\n",
       "      <td>DOD93_F4-5xFAD-Cereb_TG18-1_o3on</td>\n",
       "      <td>12.48</td>\n",
       "      <td>1466.0</td>\n",
       "      <td>706.8</td>\n",
       "      <td>678.8</td>\n",
       "      <td>636.8</td>\n",
       "    </tr>\n",
       "    <tr>\n",
       "      <th>20</th>\n",
       "      <td>n-9 [TG(55:11),TG(54:4)]_FA18:1</td>\n",
       "      <td>790.8</td>\n",
       "      <td>601.6</td>\n",
       "      <td>1.952738e+05</td>\n",
       "      <td>790.8 -&gt; 601.6</td>\n",
       "      <td>NaN</td>\n",
       "      <td>DOD93_F4-5xFAD-Cereb_TG18-1_o3on</td>\n",
       "      <td>13.69</td>\n",
       "      <td>18782.0</td>\n",
       "      <td>708.8</td>\n",
       "      <td>680.8</td>\n",
       "      <td>638.8</td>\n",
       "    </tr>\n",
       "    <tr>\n",
       "      <th>22</th>\n",
       "      <td>n-9 [TG(55:10),TG(54:3)]_FA18:1</td>\n",
       "      <td>792.8</td>\n",
       "      <td>603.6</td>\n",
       "      <td>7.489054e+05</td>\n",
       "      <td>792.8 -&gt; 603.6</td>\n",
       "      <td>NaN</td>\n",
       "      <td>DOD93_F4-5xFAD-Cereb_TG18-1_o3on</td>\n",
       "      <td>14.78</td>\n",
       "      <td>98857.0</td>\n",
       "      <td>710.8</td>\n",
       "      <td>682.8</td>\n",
       "      <td>640.8</td>\n",
       "    </tr>\n",
       "    <tr>\n",
       "      <th>24</th>\n",
       "      <td>n-7 [TG(54:5)]_FA18:1</td>\n",
       "      <td>816.8</td>\n",
       "      <td>599.6</td>\n",
       "      <td>7.366929e+04</td>\n",
       "      <td>816.8 -&gt; 599.6</td>\n",
       "      <td>NaN</td>\n",
       "      <td>DOD93_F4-5xFAD-Cereb_TG18-1_o3on</td>\n",
       "      <td>13.68</td>\n",
       "      <td>3524.0</td>\n",
       "      <td>734.8</td>\n",
       "      <td>706.8</td>\n",
       "      <td>664.8</td>\n",
       "    </tr>\n",
       "    <tr>\n",
       "      <th>25</th>\n",
       "      <td>n-7 [TG(55:11),TG(54:4)]_FA18:1</td>\n",
       "      <td>818.8</td>\n",
       "      <td>601.6</td>\n",
       "      <td>1.200953e+05</td>\n",
       "      <td>818.8 -&gt; 601.6</td>\n",
       "      <td>NaN</td>\n",
       "      <td>DOD93_F4-5xFAD-Cereb_TG18-1_o3on</td>\n",
       "      <td>14.65</td>\n",
       "      <td>25918.0</td>\n",
       "      <td>736.8</td>\n",
       "      <td>708.8</td>\n",
       "      <td>666.8</td>\n",
       "    </tr>\n",
       "    <tr>\n",
       "      <th>26</th>\n",
       "      <td>n-7 [TG(55:10),TG(54:3)]_FA18:1</td>\n",
       "      <td>820.8</td>\n",
       "      <td>603.6</td>\n",
       "      <td>4.014192e+05</td>\n",
       "      <td>820.8 -&gt; 603.6</td>\n",
       "      <td>NaN</td>\n",
       "      <td>DOD93_F4-5xFAD-Cereb_TG18-1_o3on</td>\n",
       "      <td>12.58</td>\n",
       "      <td>72587.0</td>\n",
       "      <td>738.8</td>\n",
       "      <td>710.8</td>\n",
       "      <td>668.8</td>\n",
       "    </tr>\n",
       "    <tr>\n",
       "      <th>27</th>\n",
       "      <td>[TG(50:3)]_FA18:1</td>\n",
       "      <td>846.8</td>\n",
       "      <td>547.6</td>\n",
       "      <td>6.869138e+05</td>\n",
       "      <td>846.8 -&gt; 547.6</td>\n",
       "      <td>TAG</td>\n",
       "      <td>DOD93_F4-5xFAD-Cereb_TG18-1_o3on</td>\n",
       "      <td>13.79</td>\n",
       "      <td>409651.0</td>\n",
       "      <td>764.8</td>\n",
       "      <td>736.8</td>\n",
       "      <td>694.8</td>\n",
       "    </tr>\n",
       "    <tr>\n",
       "      <th>28</th>\n",
       "      <td>[TG(51:9),TG(50:2)]_FA18:1</td>\n",
       "      <td>848.8</td>\n",
       "      <td>549.6</td>\n",
       "      <td>3.262575e+06</td>\n",
       "      <td>848.8 -&gt; 549.6</td>\n",
       "      <td>TAG</td>\n",
       "      <td>DOD93_F4-5xFAD-Cereb_TG18-1_o3on</td>\n",
       "      <td>15.13</td>\n",
       "      <td>2236988.0</td>\n",
       "      <td>766.8</td>\n",
       "      <td>738.8</td>\n",
       "      <td>696.8</td>\n",
       "    </tr>\n",
       "    <tr>\n",
       "      <th>29</th>\n",
       "      <td>[TG(51:8),TG(50:1)]_FA18:1</td>\n",
       "      <td>850.8</td>\n",
       "      <td>551.6</td>\n",
       "      <td>8.906404e+06</td>\n",
       "      <td>850.8 -&gt; 551.6</td>\n",
       "      <td>TAG</td>\n",
       "      <td>DOD93_F4-5xFAD-Cereb_TG18-1_o3on</td>\n",
       "      <td>12.57</td>\n",
       "      <td>159733.0</td>\n",
       "      <td>768.8</td>\n",
       "      <td>740.8</td>\n",
       "      <td>698.8</td>\n",
       "    </tr>\n",
       "    <tr>\n",
       "      <th>30</th>\n",
       "      <td>[TG(52:4)]_FA18:1</td>\n",
       "      <td>872.8</td>\n",
       "      <td>573.6</td>\n",
       "      <td>7.219475e+05</td>\n",
       "      <td>872.8 -&gt; 573.6</td>\n",
       "      <td>TAG</td>\n",
       "      <td>DOD93_F4-5xFAD-Cereb_TG18-1_o3on</td>\n",
       "      <td>13.66</td>\n",
       "      <td>928619.0</td>\n",
       "      <td>790.8</td>\n",
       "      <td>762.8</td>\n",
       "      <td>720.8</td>\n",
       "    </tr>\n",
       "    <tr>\n",
       "      <th>31</th>\n",
       "      <td>[TG(53:10),TG(52:3)]_FA18:1</td>\n",
       "      <td>874.8</td>\n",
       "      <td>575.6</td>\n",
       "      <td>4.364672e+06</td>\n",
       "      <td>874.8 -&gt; 575.6</td>\n",
       "      <td>TAG</td>\n",
       "      <td>DOD93_F4-5xFAD-Cereb_TG18-1_o3on</td>\n",
       "      <td>14.99</td>\n",
       "      <td>4376154.0</td>\n",
       "      <td>792.8</td>\n",
       "      <td>764.8</td>\n",
       "      <td>722.8</td>\n",
       "    </tr>\n",
       "    <tr>\n",
       "      <th>32</th>\n",
       "      <td>[TG(53:9),TG(52:2)]_FA18:1</td>\n",
       "      <td>876.8</td>\n",
       "      <td>577.6</td>\n",
       "      <td>1.805685e+07</td>\n",
       "      <td>876.8 -&gt; 577.6</td>\n",
       "      <td>TAG</td>\n",
       "      <td>DOD93_F4-5xFAD-Cereb_TG18-1_o3on</td>\n",
       "      <td>12.56</td>\n",
       "      <td>494143.0</td>\n",
       "      <td>794.8</td>\n",
       "      <td>766.8</td>\n",
       "      <td>724.8</td>\n",
       "    </tr>\n",
       "    <tr>\n",
       "      <th>33</th>\n",
       "      <td>[TG(54:5)]_FA18:1</td>\n",
       "      <td>898.8</td>\n",
       "      <td>599.6</td>\n",
       "      <td>1.673118e+06</td>\n",
       "      <td>898.8 -&gt; 599.6</td>\n",
       "      <td>TAG</td>\n",
       "      <td>DOD93_F4-5xFAD-Cereb_TG18-1_o3on</td>\n",
       "      <td>13.65</td>\n",
       "      <td>797129.0</td>\n",
       "      <td>816.8</td>\n",
       "      <td>788.8</td>\n",
       "      <td>746.8</td>\n",
       "    </tr>\n",
       "    <tr>\n",
       "      <th>34</th>\n",
       "      <td>[TG(55:11),TG(54:4)]_FA18:1</td>\n",
       "      <td>900.8</td>\n",
       "      <td>601.6</td>\n",
       "      <td>3.305303e+06</td>\n",
       "      <td>900.8 -&gt; 601.6</td>\n",
       "      <td>TAG</td>\n",
       "      <td>DOD93_F4-5xFAD-Cereb_TG18-1_o3on</td>\n",
       "      <td>14.74</td>\n",
       "      <td>2345724.0</td>\n",
       "      <td>818.8</td>\n",
       "      <td>790.8</td>\n",
       "      <td>748.8</td>\n",
       "    </tr>\n",
       "    <tr>\n",
       "      <th>35</th>\n",
       "      <td>[TG(55:10),TG(54:3)]_FA18:1</td>\n",
       "      <td>902.8</td>\n",
       "      <td>603.6</td>\n",
       "      <td>9.339795e+06</td>\n",
       "      <td>902.8 -&gt; 603.6</td>\n",
       "      <td>TAG</td>\n",
       "      <td>DOD93_F4-5xFAD-Cereb_TG18-1_o3on</td>\n",
       "      <td>15.49</td>\n",
       "      <td>49847000.0</td>\n",
       "      <td>820.8</td>\n",
       "      <td>792.8</td>\n",
       "      <td>750.8</td>\n",
       "    </tr>\n",
       "  </tbody>\n",
       "</table>\n",
       "</div>"
      ],
      "text/plain": [
       "                               Lipid  Parent_Ion  Product_Ion     Intensity  \\\n",
       "8     n-9 [TG(51:8),TG(50:1)]_FA18:1       740.8        551.6  9.366814e+05   \n",
       "9             n-12 [TG(54:5)]_FA18:1       746.8        599.6  1.976136e+05   \n",
       "10  n-12 [TG(55:11),TG(54:4)]_FA18:1       748.8        601.6  1.128153e+05   \n",
       "11  n-12 [TG(55:10),TG(54:3)]_FA18:1       750.8        603.6  5.757424e+05   \n",
       "17    n-7 [TG(51:8),TG(50:1)]_FA18:1       768.8        551.6  7.723013e+05   \n",
       "18             n-9 [TG(54:5)]_FA18:1       788.8        599.6  1.482506e+05   \n",
       "20   n-9 [TG(55:11),TG(54:4)]_FA18:1       790.8        601.6  1.952738e+05   \n",
       "22   n-9 [TG(55:10),TG(54:3)]_FA18:1       792.8        603.6  7.489054e+05   \n",
       "24             n-7 [TG(54:5)]_FA18:1       816.8        599.6  7.366929e+04   \n",
       "25   n-7 [TG(55:11),TG(54:4)]_FA18:1       818.8        601.6  1.200953e+05   \n",
       "26   n-7 [TG(55:10),TG(54:3)]_FA18:1       820.8        603.6  4.014192e+05   \n",
       "27                 [TG(50:3)]_FA18:1       846.8        547.6  6.869138e+05   \n",
       "28        [TG(51:9),TG(50:2)]_FA18:1       848.8        549.6  3.262575e+06   \n",
       "29        [TG(51:8),TG(50:1)]_FA18:1       850.8        551.6  8.906404e+06   \n",
       "30                 [TG(52:4)]_FA18:1       872.8        573.6  7.219475e+05   \n",
       "31       [TG(53:10),TG(52:3)]_FA18:1       874.8        575.6  4.364672e+06   \n",
       "32        [TG(53:9),TG(52:2)]_FA18:1       876.8        577.6  1.805685e+07   \n",
       "33                 [TG(54:5)]_FA18:1       898.8        599.6  1.673118e+06   \n",
       "34       [TG(55:11),TG(54:4)]_FA18:1       900.8        601.6  3.305303e+06   \n",
       "35       [TG(55:10),TG(54:3)]_FA18:1       902.8        603.6  9.339795e+06   \n",
       "\n",
       "        Transition Class                         Sample_ID  Retention_Time  \\\n",
       "8   740.8 -> 551.6   NaN  DOD93_F4-5xFAD-Cereb_TG18-1_o3on           15.19   \n",
       "9   746.8 -> 599.6   NaN  DOD93_F4-5xFAD-Cereb_TG18-1_o3on           11.78   \n",
       "10  748.8 -> 601.6   NaN  DOD93_F4-5xFAD-Cereb_TG18-1_o3on           13.85   \n",
       "11  750.8 -> 603.6   NaN  DOD93_F4-5xFAD-Cereb_TG18-1_o3on           12.50   \n",
       "17  768.8 -> 551.6   NaN  DOD93_F4-5xFAD-Cereb_TG18-1_o3on           12.36   \n",
       "18  788.8 -> 599.6   NaN  DOD93_F4-5xFAD-Cereb_TG18-1_o3on           12.48   \n",
       "20  790.8 -> 601.6   NaN  DOD93_F4-5xFAD-Cereb_TG18-1_o3on           13.69   \n",
       "22  792.8 -> 603.6   NaN  DOD93_F4-5xFAD-Cereb_TG18-1_o3on           14.78   \n",
       "24  816.8 -> 599.6   NaN  DOD93_F4-5xFAD-Cereb_TG18-1_o3on           13.68   \n",
       "25  818.8 -> 601.6   NaN  DOD93_F4-5xFAD-Cereb_TG18-1_o3on           14.65   \n",
       "26  820.8 -> 603.6   NaN  DOD93_F4-5xFAD-Cereb_TG18-1_o3on           12.58   \n",
       "27  846.8 -> 547.6   TAG  DOD93_F4-5xFAD-Cereb_TG18-1_o3on           13.79   \n",
       "28  848.8 -> 549.6   TAG  DOD93_F4-5xFAD-Cereb_TG18-1_o3on           15.13   \n",
       "29  850.8 -> 551.6   TAG  DOD93_F4-5xFAD-Cereb_TG18-1_o3on           12.57   \n",
       "30  872.8 -> 573.6   TAG  DOD93_F4-5xFAD-Cereb_TG18-1_o3on           13.66   \n",
       "31  874.8 -> 575.6   TAG  DOD93_F4-5xFAD-Cereb_TG18-1_o3on           14.99   \n",
       "32  876.8 -> 577.6   TAG  DOD93_F4-5xFAD-Cereb_TG18-1_o3on           12.56   \n",
       "33  898.8 -> 599.6   TAG  DOD93_F4-5xFAD-Cereb_TG18-1_o3on           13.65   \n",
       "34  900.8 -> 601.6   TAG  DOD93_F4-5xFAD-Cereb_TG18-1_o3on           14.74   \n",
       "35  902.8 -> 603.6   TAG  DOD93_F4-5xFAD-Cereb_TG18-1_o3on           15.49   \n",
       "\n",
       "    Intensity_OzESI    n-7    n-9   n-12  \n",
       "8             584.0  658.8  630.8  588.8  \n",
       "9             985.0  664.8  636.8  594.8  \n",
       "10           3845.0  666.8  638.8  596.8  \n",
       "11           4476.0  668.8  640.8  598.8  \n",
       "17           8898.0  686.8  658.8  616.8  \n",
       "18           1466.0  706.8  678.8  636.8  \n",
       "20          18782.0  708.8  680.8  638.8  \n",
       "22          98857.0  710.8  682.8  640.8  \n",
       "24           3524.0  734.8  706.8  664.8  \n",
       "25          25918.0  736.8  708.8  666.8  \n",
       "26          72587.0  738.8  710.8  668.8  \n",
       "27         409651.0  764.8  736.8  694.8  \n",
       "28        2236988.0  766.8  738.8  696.8  \n",
       "29         159733.0  768.8  740.8  698.8  \n",
       "30         928619.0  790.8  762.8  720.8  \n",
       "31        4376154.0  792.8  764.8  722.8  \n",
       "32         494143.0  794.8  766.8  724.8  \n",
       "33         797129.0  816.8  788.8  746.8  \n",
       "34        2345724.0  818.8  790.8  748.8  \n",
       "35       49847000.0  820.8  792.8  750.8  "
      ]
     },
     "execution_count": 98,
     "metadata": {},
     "output_type": "execute_result"
    }
   ],
   "source": [
    "#### SECOND VERSION (working better)\n",
    "OzESI_list = [7, 9, 12]\n",
    "\n",
    "def add_lipid_info(df, OzESI_list):\n",
    "    df_test = df.copy()\n",
    "    \n",
    "    for i in OzESI_list:\n",
    "        df_test['n-' + str(i)] = df_test['n-' + str(i)].astype(float)\n",
    "    \n",
    "    for i in range(len(df_test)):\n",
    "        if pd.isna(df_test.loc[i, 'Lipid']):\n",
    "            parent_ion = df_test.loc[i, 'Parent_Ion']\n",
    "            \n",
    "            for j in range(len(df_test)):\n",
    "                if parent_ion == df_test.loc[j, 'n-7'] and isinstance(df_test.loc[j, 'Lipid'], str):\n",
    "                    df_test.loc[i, 'Lipid'] = 'n-7 ' + df_test.loc[j, 'Lipid']\n",
    "                elif parent_ion == df_test.loc[j, 'n-9'] and isinstance(df_test.loc[j, 'Lipid'], str):\n",
    "                    df_test.loc[i, 'Lipid'] = 'n-9 ' + df_test.loc[j, 'Lipid']\n",
    "                elif parent_ion == df_test.loc[j, 'n-12'] and isinstance(df_test.loc[j, 'Lipid'], str):\n",
    "                    df_test.loc[i, 'Lipid'] = 'n-12 ' + df_test.loc[j, 'Lipid']\n",
    "    \n",
    "    df_test.dropna(subset=['Lipid'], inplace=True)\n",
    "    return df_test\n",
    "\n",
    "df_test = add_lipid_info(df_OzESI_processed, OzESI_list)\n",
    "df_test.head(None)\n"
   ]
  },
  {
   "cell_type": "code",
   "execution_count": 99,
   "metadata": {},
   "outputs": [
    {
     "data": {
      "text/html": [
       "<div>\n",
       "<style scoped>\n",
       "    .dataframe tbody tr th:only-of-type {\n",
       "        vertical-align: middle;\n",
       "    }\n",
       "\n",
       "    .dataframe tbody tr th {\n",
       "        vertical-align: top;\n",
       "    }\n",
       "\n",
       "    .dataframe thead th {\n",
       "        text-align: right;\n",
       "    }\n",
       "</style>\n",
       "<table border=\"1\" class=\"dataframe\">\n",
       "  <thead>\n",
       "    <tr style=\"text-align: right;\">\n",
       "      <th></th>\n",
       "      <th>Lipid</th>\n",
       "      <th>Parent_Ion</th>\n",
       "      <th>Product_Ion</th>\n",
       "      <th>Intensity</th>\n",
       "      <th>Transition</th>\n",
       "      <th>Class</th>\n",
       "      <th>Sample_ID</th>\n",
       "      <th>Retention_Time</th>\n",
       "      <th>Intensity_OzESI</th>\n",
       "      <th>n-7</th>\n",
       "      <th>n-9</th>\n",
       "      <th>n-12</th>\n",
       "    </tr>\n",
       "  </thead>\n",
       "  <tbody>\n",
       "    <tr>\n",
       "      <th>27</th>\n",
       "      <td>[TG(50:3)]_FA18:1</td>\n",
       "      <td>846.8</td>\n",
       "      <td>547.6</td>\n",
       "      <td>6.869138e+05</td>\n",
       "      <td>846.8 -&gt; 547.6</td>\n",
       "      <td>TAG</td>\n",
       "      <td>DOD93_F4-5xFAD-Cereb_TG18-1_o3on</td>\n",
       "      <td>13.79</td>\n",
       "      <td>409651.0</td>\n",
       "      <td>764.8</td>\n",
       "      <td>736.8</td>\n",
       "      <td>694.8</td>\n",
       "    </tr>\n",
       "    <tr>\n",
       "      <th>28</th>\n",
       "      <td>[TG(51:9),TG(50:2)]_FA18:1</td>\n",
       "      <td>848.8</td>\n",
       "      <td>549.6</td>\n",
       "      <td>3.262575e+06</td>\n",
       "      <td>848.8 -&gt; 549.6</td>\n",
       "      <td>TAG</td>\n",
       "      <td>DOD93_F4-5xFAD-Cereb_TG18-1_o3on</td>\n",
       "      <td>15.13</td>\n",
       "      <td>2236988.0</td>\n",
       "      <td>766.8</td>\n",
       "      <td>738.8</td>\n",
       "      <td>696.8</td>\n",
       "    </tr>\n",
       "    <tr>\n",
       "      <th>8</th>\n",
       "      <td>n-9 [TG(51:8),TG(50:1)]_FA18:1</td>\n",
       "      <td>740.8</td>\n",
       "      <td>551.6</td>\n",
       "      <td>9.366814e+05</td>\n",
       "      <td>740.8 -&gt; 551.6</td>\n",
       "      <td>NaN</td>\n",
       "      <td>DOD93_F4-5xFAD-Cereb_TG18-1_o3on</td>\n",
       "      <td>15.19</td>\n",
       "      <td>584.0</td>\n",
       "      <td>658.8</td>\n",
       "      <td>630.8</td>\n",
       "      <td>588.8</td>\n",
       "    </tr>\n",
       "    <tr>\n",
       "      <th>17</th>\n",
       "      <td>n-7 [TG(51:8),TG(50:1)]_FA18:1</td>\n",
       "      <td>768.8</td>\n",
       "      <td>551.6</td>\n",
       "      <td>7.723013e+05</td>\n",
       "      <td>768.8 -&gt; 551.6</td>\n",
       "      <td>NaN</td>\n",
       "      <td>DOD93_F4-5xFAD-Cereb_TG18-1_o3on</td>\n",
       "      <td>12.36</td>\n",
       "      <td>8898.0</td>\n",
       "      <td>686.8</td>\n",
       "      <td>658.8</td>\n",
       "      <td>616.8</td>\n",
       "    </tr>\n",
       "    <tr>\n",
       "      <th>29</th>\n",
       "      <td>[TG(51:8),TG(50:1)]_FA18:1</td>\n",
       "      <td>850.8</td>\n",
       "      <td>551.6</td>\n",
       "      <td>8.906404e+06</td>\n",
       "      <td>850.8 -&gt; 551.6</td>\n",
       "      <td>TAG</td>\n",
       "      <td>DOD93_F4-5xFAD-Cereb_TG18-1_o3on</td>\n",
       "      <td>12.57</td>\n",
       "      <td>159733.0</td>\n",
       "      <td>768.8</td>\n",
       "      <td>740.8</td>\n",
       "      <td>698.8</td>\n",
       "    </tr>\n",
       "    <tr>\n",
       "      <th>30</th>\n",
       "      <td>[TG(52:4)]_FA18:1</td>\n",
       "      <td>872.8</td>\n",
       "      <td>573.6</td>\n",
       "      <td>7.219475e+05</td>\n",
       "      <td>872.8 -&gt; 573.6</td>\n",
       "      <td>TAG</td>\n",
       "      <td>DOD93_F4-5xFAD-Cereb_TG18-1_o3on</td>\n",
       "      <td>13.66</td>\n",
       "      <td>928619.0</td>\n",
       "      <td>790.8</td>\n",
       "      <td>762.8</td>\n",
       "      <td>720.8</td>\n",
       "    </tr>\n",
       "    <tr>\n",
       "      <th>31</th>\n",
       "      <td>[TG(53:10),TG(52:3)]_FA18:1</td>\n",
       "      <td>874.8</td>\n",
       "      <td>575.6</td>\n",
       "      <td>4.364672e+06</td>\n",
       "      <td>874.8 -&gt; 575.6</td>\n",
       "      <td>TAG</td>\n",
       "      <td>DOD93_F4-5xFAD-Cereb_TG18-1_o3on</td>\n",
       "      <td>14.99</td>\n",
       "      <td>4376154.0</td>\n",
       "      <td>792.8</td>\n",
       "      <td>764.8</td>\n",
       "      <td>722.8</td>\n",
       "    </tr>\n",
       "    <tr>\n",
       "      <th>32</th>\n",
       "      <td>[TG(53:9),TG(52:2)]_FA18:1</td>\n",
       "      <td>876.8</td>\n",
       "      <td>577.6</td>\n",
       "      <td>1.805685e+07</td>\n",
       "      <td>876.8 -&gt; 577.6</td>\n",
       "      <td>TAG</td>\n",
       "      <td>DOD93_F4-5xFAD-Cereb_TG18-1_o3on</td>\n",
       "      <td>12.56</td>\n",
       "      <td>494143.0</td>\n",
       "      <td>794.8</td>\n",
       "      <td>766.8</td>\n",
       "      <td>724.8</td>\n",
       "    </tr>\n",
       "    <tr>\n",
       "      <th>9</th>\n",
       "      <td>n-12 [TG(54:5)]_FA18:1</td>\n",
       "      <td>746.8</td>\n",
       "      <td>599.6</td>\n",
       "      <td>1.976136e+05</td>\n",
       "      <td>746.8 -&gt; 599.6</td>\n",
       "      <td>NaN</td>\n",
       "      <td>DOD93_F4-5xFAD-Cereb_TG18-1_o3on</td>\n",
       "      <td>11.78</td>\n",
       "      <td>985.0</td>\n",
       "      <td>664.8</td>\n",
       "      <td>636.8</td>\n",
       "      <td>594.8</td>\n",
       "    </tr>\n",
       "    <tr>\n",
       "      <th>33</th>\n",
       "      <td>[TG(54:5)]_FA18:1</td>\n",
       "      <td>898.8</td>\n",
       "      <td>599.6</td>\n",
       "      <td>1.673118e+06</td>\n",
       "      <td>898.8 -&gt; 599.6</td>\n",
       "      <td>TAG</td>\n",
       "      <td>DOD93_F4-5xFAD-Cereb_TG18-1_o3on</td>\n",
       "      <td>13.65</td>\n",
       "      <td>797129.0</td>\n",
       "      <td>816.8</td>\n",
       "      <td>788.8</td>\n",
       "      <td>746.8</td>\n",
       "    </tr>\n",
       "    <tr>\n",
       "      <th>18</th>\n",
       "      <td>n-9 [TG(54:5)]_FA18:1</td>\n",
       "      <td>788.8</td>\n",
       "      <td>599.6</td>\n",
       "      <td>1.482506e+05</td>\n",
       "      <td>788.8 -&gt; 599.6</td>\n",
       "      <td>NaN</td>\n",
       "      <td>DOD93_F4-5xFAD-Cereb_TG18-1_o3on</td>\n",
       "      <td>12.48</td>\n",
       "      <td>1466.0</td>\n",
       "      <td>706.8</td>\n",
       "      <td>678.8</td>\n",
       "      <td>636.8</td>\n",
       "    </tr>\n",
       "    <tr>\n",
       "      <th>24</th>\n",
       "      <td>n-7 [TG(54:5)]_FA18:1</td>\n",
       "      <td>816.8</td>\n",
       "      <td>599.6</td>\n",
       "      <td>7.366929e+04</td>\n",
       "      <td>816.8 -&gt; 599.6</td>\n",
       "      <td>NaN</td>\n",
       "      <td>DOD93_F4-5xFAD-Cereb_TG18-1_o3on</td>\n",
       "      <td>13.68</td>\n",
       "      <td>3524.0</td>\n",
       "      <td>734.8</td>\n",
       "      <td>706.8</td>\n",
       "      <td>664.8</td>\n",
       "    </tr>\n",
       "    <tr>\n",
       "      <th>25</th>\n",
       "      <td>n-7 [TG(55:11),TG(54:4)]_FA18:1</td>\n",
       "      <td>818.8</td>\n",
       "      <td>601.6</td>\n",
       "      <td>1.200953e+05</td>\n",
       "      <td>818.8 -&gt; 601.6</td>\n",
       "      <td>NaN</td>\n",
       "      <td>DOD93_F4-5xFAD-Cereb_TG18-1_o3on</td>\n",
       "      <td>14.65</td>\n",
       "      <td>25918.0</td>\n",
       "      <td>736.8</td>\n",
       "      <td>708.8</td>\n",
       "      <td>666.8</td>\n",
       "    </tr>\n",
       "    <tr>\n",
       "      <th>34</th>\n",
       "      <td>[TG(55:11),TG(54:4)]_FA18:1</td>\n",
       "      <td>900.8</td>\n",
       "      <td>601.6</td>\n",
       "      <td>3.305303e+06</td>\n",
       "      <td>900.8 -&gt; 601.6</td>\n",
       "      <td>TAG</td>\n",
       "      <td>DOD93_F4-5xFAD-Cereb_TG18-1_o3on</td>\n",
       "      <td>14.74</td>\n",
       "      <td>2345724.0</td>\n",
       "      <td>818.8</td>\n",
       "      <td>790.8</td>\n",
       "      <td>748.8</td>\n",
       "    </tr>\n",
       "    <tr>\n",
       "      <th>20</th>\n",
       "      <td>n-9 [TG(55:11),TG(54:4)]_FA18:1</td>\n",
       "      <td>790.8</td>\n",
       "      <td>601.6</td>\n",
       "      <td>1.952738e+05</td>\n",
       "      <td>790.8 -&gt; 601.6</td>\n",
       "      <td>NaN</td>\n",
       "      <td>DOD93_F4-5xFAD-Cereb_TG18-1_o3on</td>\n",
       "      <td>13.69</td>\n",
       "      <td>18782.0</td>\n",
       "      <td>708.8</td>\n",
       "      <td>680.8</td>\n",
       "      <td>638.8</td>\n",
       "    </tr>\n",
       "    <tr>\n",
       "      <th>10</th>\n",
       "      <td>n-12 [TG(55:11),TG(54:4)]_FA18:1</td>\n",
       "      <td>748.8</td>\n",
       "      <td>601.6</td>\n",
       "      <td>1.128153e+05</td>\n",
       "      <td>748.8 -&gt; 601.6</td>\n",
       "      <td>NaN</td>\n",
       "      <td>DOD93_F4-5xFAD-Cereb_TG18-1_o3on</td>\n",
       "      <td>13.85</td>\n",
       "      <td>3845.0</td>\n",
       "      <td>666.8</td>\n",
       "      <td>638.8</td>\n",
       "      <td>596.8</td>\n",
       "    </tr>\n",
       "    <tr>\n",
       "      <th>22</th>\n",
       "      <td>n-9 [TG(55:10),TG(54:3)]_FA18:1</td>\n",
       "      <td>792.8</td>\n",
       "      <td>603.6</td>\n",
       "      <td>7.489054e+05</td>\n",
       "      <td>792.8 -&gt; 603.6</td>\n",
       "      <td>NaN</td>\n",
       "      <td>DOD93_F4-5xFAD-Cereb_TG18-1_o3on</td>\n",
       "      <td>14.78</td>\n",
       "      <td>98857.0</td>\n",
       "      <td>710.8</td>\n",
       "      <td>682.8</td>\n",
       "      <td>640.8</td>\n",
       "    </tr>\n",
       "    <tr>\n",
       "      <th>11</th>\n",
       "      <td>n-12 [TG(55:10),TG(54:3)]_FA18:1</td>\n",
       "      <td>750.8</td>\n",
       "      <td>603.6</td>\n",
       "      <td>5.757424e+05</td>\n",
       "      <td>750.8 -&gt; 603.6</td>\n",
       "      <td>NaN</td>\n",
       "      <td>DOD93_F4-5xFAD-Cereb_TG18-1_o3on</td>\n",
       "      <td>12.50</td>\n",
       "      <td>4476.0</td>\n",
       "      <td>668.8</td>\n",
       "      <td>640.8</td>\n",
       "      <td>598.8</td>\n",
       "    </tr>\n",
       "    <tr>\n",
       "      <th>26</th>\n",
       "      <td>n-7 [TG(55:10),TG(54:3)]_FA18:1</td>\n",
       "      <td>820.8</td>\n",
       "      <td>603.6</td>\n",
       "      <td>4.014192e+05</td>\n",
       "      <td>820.8 -&gt; 603.6</td>\n",
       "      <td>NaN</td>\n",
       "      <td>DOD93_F4-5xFAD-Cereb_TG18-1_o3on</td>\n",
       "      <td>12.58</td>\n",
       "      <td>72587.0</td>\n",
       "      <td>738.8</td>\n",
       "      <td>710.8</td>\n",
       "      <td>668.8</td>\n",
       "    </tr>\n",
       "    <tr>\n",
       "      <th>35</th>\n",
       "      <td>[TG(55:10),TG(54:3)]_FA18:1</td>\n",
       "      <td>902.8</td>\n",
       "      <td>603.6</td>\n",
       "      <td>9.339795e+06</td>\n",
       "      <td>902.8 -&gt; 603.6</td>\n",
       "      <td>TAG</td>\n",
       "      <td>DOD93_F4-5xFAD-Cereb_TG18-1_o3on</td>\n",
       "      <td>15.49</td>\n",
       "      <td>49847000.0</td>\n",
       "      <td>820.8</td>\n",
       "      <td>792.8</td>\n",
       "      <td>750.8</td>\n",
       "    </tr>\n",
       "  </tbody>\n",
       "</table>\n",
       "</div>"
      ],
      "text/plain": [
       "                               Lipid  Parent_Ion  Product_Ion     Intensity  \\\n",
       "27                 [TG(50:3)]_FA18:1       846.8        547.6  6.869138e+05   \n",
       "28        [TG(51:9),TG(50:2)]_FA18:1       848.8        549.6  3.262575e+06   \n",
       "8     n-9 [TG(51:8),TG(50:1)]_FA18:1       740.8        551.6  9.366814e+05   \n",
       "17    n-7 [TG(51:8),TG(50:1)]_FA18:1       768.8        551.6  7.723013e+05   \n",
       "29        [TG(51:8),TG(50:1)]_FA18:1       850.8        551.6  8.906404e+06   \n",
       "30                 [TG(52:4)]_FA18:1       872.8        573.6  7.219475e+05   \n",
       "31       [TG(53:10),TG(52:3)]_FA18:1       874.8        575.6  4.364672e+06   \n",
       "32        [TG(53:9),TG(52:2)]_FA18:1       876.8        577.6  1.805685e+07   \n",
       "9             n-12 [TG(54:5)]_FA18:1       746.8        599.6  1.976136e+05   \n",
       "33                 [TG(54:5)]_FA18:1       898.8        599.6  1.673118e+06   \n",
       "18             n-9 [TG(54:5)]_FA18:1       788.8        599.6  1.482506e+05   \n",
       "24             n-7 [TG(54:5)]_FA18:1       816.8        599.6  7.366929e+04   \n",
       "25   n-7 [TG(55:11),TG(54:4)]_FA18:1       818.8        601.6  1.200953e+05   \n",
       "34       [TG(55:11),TG(54:4)]_FA18:1       900.8        601.6  3.305303e+06   \n",
       "20   n-9 [TG(55:11),TG(54:4)]_FA18:1       790.8        601.6  1.952738e+05   \n",
       "10  n-12 [TG(55:11),TG(54:4)]_FA18:1       748.8        601.6  1.128153e+05   \n",
       "22   n-9 [TG(55:10),TG(54:3)]_FA18:1       792.8        603.6  7.489054e+05   \n",
       "11  n-12 [TG(55:10),TG(54:3)]_FA18:1       750.8        603.6  5.757424e+05   \n",
       "26   n-7 [TG(55:10),TG(54:3)]_FA18:1       820.8        603.6  4.014192e+05   \n",
       "35       [TG(55:10),TG(54:3)]_FA18:1       902.8        603.6  9.339795e+06   \n",
       "\n",
       "        Transition Class                         Sample_ID  Retention_Time  \\\n",
       "27  846.8 -> 547.6   TAG  DOD93_F4-5xFAD-Cereb_TG18-1_o3on           13.79   \n",
       "28  848.8 -> 549.6   TAG  DOD93_F4-5xFAD-Cereb_TG18-1_o3on           15.13   \n",
       "8   740.8 -> 551.6   NaN  DOD93_F4-5xFAD-Cereb_TG18-1_o3on           15.19   \n",
       "17  768.8 -> 551.6   NaN  DOD93_F4-5xFAD-Cereb_TG18-1_o3on           12.36   \n",
       "29  850.8 -> 551.6   TAG  DOD93_F4-5xFAD-Cereb_TG18-1_o3on           12.57   \n",
       "30  872.8 -> 573.6   TAG  DOD93_F4-5xFAD-Cereb_TG18-1_o3on           13.66   \n",
       "31  874.8 -> 575.6   TAG  DOD93_F4-5xFAD-Cereb_TG18-1_o3on           14.99   \n",
       "32  876.8 -> 577.6   TAG  DOD93_F4-5xFAD-Cereb_TG18-1_o3on           12.56   \n",
       "9   746.8 -> 599.6   NaN  DOD93_F4-5xFAD-Cereb_TG18-1_o3on           11.78   \n",
       "33  898.8 -> 599.6   TAG  DOD93_F4-5xFAD-Cereb_TG18-1_o3on           13.65   \n",
       "18  788.8 -> 599.6   NaN  DOD93_F4-5xFAD-Cereb_TG18-1_o3on           12.48   \n",
       "24  816.8 -> 599.6   NaN  DOD93_F4-5xFAD-Cereb_TG18-1_o3on           13.68   \n",
       "25  818.8 -> 601.6   NaN  DOD93_F4-5xFAD-Cereb_TG18-1_o3on           14.65   \n",
       "34  900.8 -> 601.6   TAG  DOD93_F4-5xFAD-Cereb_TG18-1_o3on           14.74   \n",
       "20  790.8 -> 601.6   NaN  DOD93_F4-5xFAD-Cereb_TG18-1_o3on           13.69   \n",
       "10  748.8 -> 601.6   NaN  DOD93_F4-5xFAD-Cereb_TG18-1_o3on           13.85   \n",
       "22  792.8 -> 603.6   NaN  DOD93_F4-5xFAD-Cereb_TG18-1_o3on           14.78   \n",
       "11  750.8 -> 603.6   NaN  DOD93_F4-5xFAD-Cereb_TG18-1_o3on           12.50   \n",
       "26  820.8 -> 603.6   NaN  DOD93_F4-5xFAD-Cereb_TG18-1_o3on           12.58   \n",
       "35  902.8 -> 603.6   TAG  DOD93_F4-5xFAD-Cereb_TG18-1_o3on           15.49   \n",
       "\n",
       "    Intensity_OzESI    n-7    n-9   n-12  \n",
       "27         409651.0  764.8  736.8  694.8  \n",
       "28        2236988.0  766.8  738.8  696.8  \n",
       "8             584.0  658.8  630.8  588.8  \n",
       "17           8898.0  686.8  658.8  616.8  \n",
       "29         159733.0  768.8  740.8  698.8  \n",
       "30         928619.0  790.8  762.8  720.8  \n",
       "31        4376154.0  792.8  764.8  722.8  \n",
       "32         494143.0  794.8  766.8  724.8  \n",
       "9             985.0  664.8  636.8  594.8  \n",
       "33         797129.0  816.8  788.8  746.8  \n",
       "18           1466.0  706.8  678.8  636.8  \n",
       "24           3524.0  734.8  706.8  664.8  \n",
       "25          25918.0  736.8  708.8  666.8  \n",
       "34        2345724.0  818.8  790.8  748.8  \n",
       "20          18782.0  708.8  680.8  638.8  \n",
       "10           3845.0  666.8  638.8  596.8  \n",
       "22          98857.0  710.8  682.8  640.8  \n",
       "11           4476.0  668.8  640.8  598.8  \n",
       "26          72587.0  738.8  710.8  668.8  \n",
       "35       49847000.0  820.8  792.8  750.8  "
      ]
     },
     "execution_count": 99,
     "metadata": {},
     "output_type": "execute_result"
    }
   ],
   "source": [
    "sorted_df = df_test.sort_values(by='Product_Ion')\n",
    "\n",
    "sorted_df.head(None)\n",
    "\n"
   ]
  },
  {
   "attachments": {},
   "cell_type": "markdown",
   "metadata": {},
   "source": [
    "Plotting Functions"
   ]
  },
  {
   "cell_type": "code",
   "execution_count": 22,
   "metadata": {},
   "outputs": [
    {
     "name": "stderr",
     "output_type": "stream",
     "text": [
      "/home/sanjay/anaconda3/envs/pymzml/lib/python3.9/site-packages/tqdm/auto.py:21: TqdmWarning: IProgress not found. Please update jupyter and ipywidgets. See https://ipywidgets.readthedocs.io/en/stable/user_install.html\n",
      "  from .autonotebook import tqdm as notebook_tqdm\n"
     ]
    }
   ],
   "source": [
    "#import visualization libraries\n",
    "import umap\n",
    "import matplotlib.pyplot as plt\n",
    "import seaborn as sns\n",
    "import plotly.express as px\n",
    "import plotly.graph_objects as go"
   ]
  },
  {
   "cell_type": "code",
   "execution_count": 25,
   "metadata": {},
   "outputs": [
    {
     "data": {
      "application/vnd.plotly.v1+json": {
       "config": {
        "plotlyServerURL": "https://plot.ly"
       },
       "data": [
        {
         "alignmentgroup": "True",
         "customdata": [
          [
           "[TG(37:0)]_FA14:0",
           "TAG"
          ]
         ],
         "hovertemplate": "Lipid=%{customdata[0]}<br>Transition=%{x}<br>Intensity=%{y}<br>Class=%{customdata[1]}<extra></extra>",
         "legendgroup": "[TG(37:0)]_FA14:0",
         "marker": {
          "color": "#636efa"
         },
         "name": "[TG(37:0)]_FA14:0",
         "offsetgroup": "[TG(37:0)]_FA14:0",
         "orientation": "v",
         "showlegend": true,
         "textposition": "auto",
         "type": "bar",
         "x": [
          "670.6 -> 425.4"
         ],
         "xaxis": "x",
         "y": [
          45072.822998046875
         ],
         "yaxis": "y"
        },
        {
         "alignmentgroup": "True",
         "customdata": [
          [
           "[TG(38:1)]_FA14:0",
           "TAG"
          ]
         ],
         "hovertemplate": "Lipid=%{customdata[0]}<br>Transition=%{x}<br>Intensity=%{y}<br>Class=%{customdata[1]}<extra></extra>",
         "legendgroup": "[TG(38:1)]_FA14:0",
         "marker": {
          "color": "#EF553B"
         },
         "name": "[TG(38:1)]_FA14:0",
         "offsetgroup": "[TG(38:1)]_FA14:0",
         "orientation": "v",
         "showlegend": true,
         "textposition": "auto",
         "type": "bar",
         "x": [
          "682.6 -> 437.4"
         ],
         "xaxis": "x",
         "y": [
          64211.844482421875
         ],
         "yaxis": "y"
        },
        {
         "alignmentgroup": "True",
         "customdata": [
          [
           "[TG(38:0)]_FA14:0",
           "TAG"
          ]
         ],
         "hovertemplate": "Lipid=%{customdata[0]}<br>Transition=%{x}<br>Intensity=%{y}<br>Class=%{customdata[1]}<extra></extra>",
         "legendgroup": "[TG(38:0)]_FA14:0",
         "marker": {
          "color": "#00cc96"
         },
         "name": "[TG(38:0)]_FA14:0",
         "offsetgroup": "[TG(38:0)]_FA14:0",
         "orientation": "v",
         "showlegend": true,
         "textposition": "auto",
         "type": "bar",
         "x": [
          "684.6 -> 439.4"
         ],
         "xaxis": "x",
         "y": [
          237300.73681640625
         ],
         "yaxis": "y"
        },
        {
         "alignmentgroup": "True",
         "customdata": [
          [
           "[TG(39:1)]_FA14:0",
           "TAG"
          ]
         ],
         "hovertemplate": "Lipid=%{customdata[0]}<br>Transition=%{x}<br>Intensity=%{y}<br>Class=%{customdata[1]}<extra></extra>",
         "legendgroup": "[TG(39:1)]_FA14:0",
         "marker": {
          "color": "#ab63fa"
         },
         "name": "[TG(39:1)]_FA14:0",
         "offsetgroup": "[TG(39:1)]_FA14:0",
         "orientation": "v",
         "showlegend": true,
         "textposition": "auto",
         "type": "bar",
         "x": [
          "696.6 -> 451.4"
         ],
         "xaxis": "x",
         "y": [
          27744.182037353516
         ],
         "yaxis": "y"
        },
        {
         "alignmentgroup": "True",
         "customdata": [
          [
           "[TG(39:0)]_FA14:0",
           "TAG"
          ]
         ],
         "hovertemplate": "Lipid=%{customdata[0]}<br>Transition=%{x}<br>Intensity=%{y}<br>Class=%{customdata[1]}<extra></extra>",
         "legendgroup": "[TG(39:0)]_FA14:0",
         "marker": {
          "color": "#FFA15A"
         },
         "name": "[TG(39:0)]_FA14:0",
         "offsetgroup": "[TG(39:0)]_FA14:0",
         "orientation": "v",
         "showlegend": true,
         "textposition": "auto",
         "type": "bar",
         "x": [
          "698.6 -> 453.4"
         ],
         "xaxis": "x",
         "y": [
          37315.48260498047
         ],
         "yaxis": "y"
        },
        {
         "alignmentgroup": "True",
         "customdata": [
          [
           "[TG(40:2)]_FA14:0",
           "TAG"
          ]
         ],
         "hovertemplate": "Lipid=%{customdata[0]}<br>Transition=%{x}<br>Intensity=%{y}<br>Class=%{customdata[1]}<extra></extra>",
         "legendgroup": "[TG(40:2)]_FA14:0",
         "marker": {
          "color": "#19d3f3"
         },
         "name": "[TG(40:2)]_FA14:0",
         "offsetgroup": "[TG(40:2)]_FA14:0",
         "orientation": "v",
         "showlegend": true,
         "textposition": "auto",
         "type": "bar",
         "x": [
          "708.6 -> 463.4"
         ],
         "xaxis": "x",
         "y": [
          24415.261688232422
         ],
         "yaxis": "y"
        },
        {
         "alignmentgroup": "True",
         "customdata": [
          [
           "[TG(40:1)]_FA14:0",
           "TAG"
          ]
         ],
         "hovertemplate": "Lipid=%{customdata[0]}<br>Transition=%{x}<br>Intensity=%{y}<br>Class=%{customdata[1]}<extra></extra>",
         "legendgroup": "[TG(40:1)]_FA14:0",
         "marker": {
          "color": "#FF6692"
         },
         "name": "[TG(40:1)]_FA14:0",
         "offsetgroup": "[TG(40:1)]_FA14:0",
         "orientation": "v",
         "showlegend": true,
         "textposition": "auto",
         "type": "bar",
         "x": [
          "710.6 -> 465.4"
         ],
         "xaxis": "x",
         "y": [
          34708.20263671875
         ],
         "yaxis": "y"
        },
        {
         "alignmentgroup": "True",
         "customdata": [
          [
           "[TG(40:0)]_FA14:0",
           "TAG"
          ]
         ],
         "hovertemplate": "Lipid=%{customdata[0]}<br>Transition=%{x}<br>Intensity=%{y}<br>Class=%{customdata[1]}<extra></extra>",
         "legendgroup": "[TG(40:0)]_FA14:0",
         "marker": {
          "color": "#B6E880"
         },
         "name": "[TG(40:0)]_FA14:0",
         "offsetgroup": "[TG(40:0)]_FA14:0",
         "orientation": "v",
         "showlegend": true,
         "textposition": "auto",
         "type": "bar",
         "x": [
          "712.6 -> 467.4"
         ],
         "xaxis": "x",
         "y": [
          155327.89086914062
         ],
         "yaxis": "y"
        },
        {
         "alignmentgroup": "True",
         "customdata": [
          [
           "[TG(41:2)]_FA14:0",
           "TAG"
          ]
         ],
         "hovertemplate": "Lipid=%{customdata[0]}<br>Transition=%{x}<br>Intensity=%{y}<br>Class=%{customdata[1]}<extra></extra>",
         "legendgroup": "[TG(41:2)]_FA14:0",
         "marker": {
          "color": "#FF97FF"
         },
         "name": "[TG(41:2)]_FA14:0",
         "offsetgroup": "[TG(41:2)]_FA14:0",
         "orientation": "v",
         "showlegend": true,
         "textposition": "auto",
         "type": "bar",
         "x": [
          "722.6 -> 477.4"
         ],
         "xaxis": "x",
         "y": [
          20373.861602783203
         ],
         "yaxis": "y"
        },
        {
         "alignmentgroup": "True",
         "customdata": [
          [
           "[TG(41:1)]_FA14:0",
           "TAG"
          ]
         ],
         "hovertemplate": "Lipid=%{customdata[0]}<br>Transition=%{x}<br>Intensity=%{y}<br>Class=%{customdata[1]}<extra></extra>",
         "legendgroup": "[TG(41:1)]_FA14:0",
         "marker": {
          "color": "#FECB52"
         },
         "name": "[TG(41:1)]_FA14:0",
         "offsetgroup": "[TG(41:1)]_FA14:0",
         "orientation": "v",
         "showlegend": true,
         "textposition": "auto",
         "type": "bar",
         "x": [
          "724.6 -> 479.4"
         ],
         "xaxis": "x",
         "y": [
          19893.661392211914
         ],
         "yaxis": "y"
        },
        {
         "alignmentgroup": "True",
         "customdata": [
          [
           "[TG(41:0)]_FA14:0",
           "TAG"
          ]
         ],
         "hovertemplate": "Lipid=%{customdata[0]}<br>Transition=%{x}<br>Intensity=%{y}<br>Class=%{customdata[1]}<extra></extra>",
         "legendgroup": "[TG(41:0)]_FA14:0",
         "marker": {
          "color": "#636efa"
         },
         "name": "[TG(41:0)]_FA14:0",
         "offsetgroup": "[TG(41:0)]_FA14:0",
         "orientation": "v",
         "showlegend": true,
         "textposition": "auto",
         "type": "bar",
         "x": [
          "726.7 -> 481.5"
         ],
         "xaxis": "x",
         "y": [
          26466.401824951172
         ],
         "yaxis": "y"
        },
        {
         "alignmentgroup": "True",
         "customdata": [
          [
           "[TG(42:4)]_FA14:0",
           "TAG"
          ]
         ],
         "hovertemplate": "Lipid=%{customdata[0]}<br>Transition=%{x}<br>Intensity=%{y}<br>Class=%{customdata[1]}<extra></extra>",
         "legendgroup": "[TG(42:4)]_FA14:0",
         "marker": {
          "color": "#EF553B"
         },
         "name": "[TG(42:4)]_FA14:0",
         "offsetgroup": "[TG(42:4)]_FA14:0",
         "orientation": "v",
         "showlegend": true,
         "textposition": "auto",
         "type": "bar",
         "x": [
          "732.6 -> 487.4"
         ],
         "xaxis": "x",
         "y": [
          15374.68115234375
         ],
         "yaxis": "y"
        },
        {
         "alignmentgroup": "True",
         "customdata": [
          [
           "[TG(42:3)]_FA14:0",
           "TAG"
          ]
         ],
         "hovertemplate": "Lipid=%{customdata[0]}<br>Transition=%{x}<br>Intensity=%{y}<br>Class=%{customdata[1]}<extra></extra>",
         "legendgroup": "[TG(42:3)]_FA14:0",
         "marker": {
          "color": "#00cc96"
         },
         "name": "[TG(42:3)]_FA14:0",
         "offsetgroup": "[TG(42:3)]_FA14:0",
         "orientation": "v",
         "showlegend": true,
         "textposition": "auto",
         "type": "bar",
         "x": [
          "734.6 -> 489.4"
         ],
         "xaxis": "x",
         "y": [
          19889.30142211914
         ],
         "yaxis": "y"
        },
        {
         "alignmentgroup": "True",
         "customdata": [
          [
           "[TG(42:2)]_FA14:0",
           "TAG"
          ]
         ],
         "hovertemplate": "Lipid=%{customdata[0]}<br>Transition=%{x}<br>Intensity=%{y}<br>Class=%{customdata[1]}<extra></extra>",
         "legendgroup": "[TG(42:2)]_FA14:0",
         "marker": {
          "color": "#ab63fa"
         },
         "name": "[TG(42:2)]_FA14:0",
         "offsetgroup": "[TG(42:2)]_FA14:0",
         "orientation": "v",
         "showlegend": true,
         "textposition": "auto",
         "type": "bar",
         "x": [
          "736.6 -> 491.4"
         ],
         "xaxis": "x",
         "y": [
          17753.80108642578
         ],
         "yaxis": "y"
        },
        {
         "alignmentgroup": "True",
         "customdata": [
          [
           "[TG(42:1)]_FA14:0",
           "TAG"
          ]
         ],
         "hovertemplate": "Lipid=%{customdata[0]}<br>Transition=%{x}<br>Intensity=%{y}<br>Class=%{customdata[1]}<extra></extra>",
         "legendgroup": "[TG(42:1)]_FA14:0",
         "marker": {
          "color": "#FFA15A"
         },
         "name": "[TG(42:1)]_FA14:0",
         "offsetgroup": "[TG(42:1)]_FA14:0",
         "orientation": "v",
         "showlegend": true,
         "textposition": "auto",
         "type": "bar",
         "x": [
          "738.7 -> 493.5"
         ],
         "xaxis": "x",
         "y": [
          131865.6494140625
         ],
         "yaxis": "y"
        },
        {
         "alignmentgroup": "True",
         "customdata": [
          [
           "[TG(42:0)]_FA14:0",
           "TAG"
          ]
         ],
         "hovertemplate": "Lipid=%{customdata[0]}<br>Transition=%{x}<br>Intensity=%{y}<br>Class=%{customdata[1]}<extra></extra>",
         "legendgroup": "[TG(42:0)]_FA14:0",
         "marker": {
          "color": "#19d3f3"
         },
         "name": "[TG(42:0)]_FA14:0",
         "offsetgroup": "[TG(42:0)]_FA14:0",
         "orientation": "v",
         "showlegend": true,
         "textposition": "auto",
         "type": "bar",
         "x": [
          "740.7 -> 495.5"
         ],
         "xaxis": "x",
         "y": [
          94824.94689941406
         ],
         "yaxis": "y"
        },
        {
         "alignmentgroup": "True",
         "customdata": [
          [
           "[TG(43:4)]_FA14:0",
           "TAG"
          ]
         ],
         "hovertemplate": "Lipid=%{customdata[0]}<br>Transition=%{x}<br>Intensity=%{y}<br>Class=%{customdata[1]}<extra></extra>",
         "legendgroup": "[TG(43:4)]_FA14:0",
         "marker": {
          "color": "#FF6692"
         },
         "name": "[TG(43:4)]_FA14:0",
         "offsetgroup": "[TG(43:4)]_FA14:0",
         "orientation": "v",
         "showlegend": true,
         "textposition": "auto",
         "type": "bar",
         "x": [
          "746.6 -> 501.4"
         ],
         "xaxis": "x",
         "y": [
          16791.481231689453
         ],
         "yaxis": "y"
        },
        {
         "alignmentgroup": "True",
         "customdata": [
          [
           "[TG(43:3)]_FA14:0",
           "TAG"
          ]
         ],
         "hovertemplate": "Lipid=%{customdata[0]}<br>Transition=%{x}<br>Intensity=%{y}<br>Class=%{customdata[1]}<extra></extra>",
         "legendgroup": "[TG(43:3)]_FA14:0",
         "marker": {
          "color": "#B6E880"
         },
         "name": "[TG(43:3)]_FA14:0",
         "offsetgroup": "[TG(43:3)]_FA14:0",
         "orientation": "v",
         "showlegend": true,
         "textposition": "auto",
         "type": "bar",
         "x": [
          "748.6 -> 503.4"
         ],
         "xaxis": "x",
         "y": [
          63030.504150390625
         ],
         "yaxis": "y"
        },
        {
         "alignmentgroup": "True",
         "customdata": [
          [
           "[TG(43:2)]_FA14:0",
           "TAG"
          ]
         ],
         "hovertemplate": "Lipid=%{customdata[0]}<br>Transition=%{x}<br>Intensity=%{y}<br>Class=%{customdata[1]}<extra></extra>",
         "legendgroup": "[TG(43:2)]_FA14:0",
         "marker": {
          "color": "#FF97FF"
         },
         "name": "[TG(43:2)]_FA14:0",
         "offsetgroup": "[TG(43:2)]_FA14:0",
         "orientation": "v",
         "showlegend": true,
         "textposition": "auto",
         "type": "bar",
         "x": [
          "750.7 -> 505.5"
         ],
         "xaxis": "x",
         "y": [
          26622.84196472168
         ],
         "yaxis": "y"
        },
        {
         "alignmentgroup": "True",
         "customdata": [
          [
           "[TG(43:1)]_FA14:0",
           "TAG"
          ]
         ],
         "hovertemplate": "Lipid=%{customdata[0]}<br>Transition=%{x}<br>Intensity=%{y}<br>Class=%{customdata[1]}<extra></extra>",
         "legendgroup": "[TG(43:1)]_FA14:0",
         "marker": {
          "color": "#FECB52"
         },
         "name": "[TG(43:1)]_FA14:0",
         "offsetgroup": "[TG(43:1)]_FA14:0",
         "orientation": "v",
         "showlegend": true,
         "textposition": "auto",
         "type": "bar",
         "x": [
          "752.7 -> 507.5"
         ],
         "xaxis": "x",
         "y": [
          28583.40203857422
         ],
         "yaxis": "y"
        },
        {
         "alignmentgroup": "True",
         "customdata": [
          [
           "[TG(43:0)]_FA14:0",
           "TAG"
          ]
         ],
         "hovertemplate": "Lipid=%{customdata[0]}<br>Transition=%{x}<br>Intensity=%{y}<br>Class=%{customdata[1]}<extra></extra>",
         "legendgroup": "[TG(43:0)]_FA14:0",
         "marker": {
          "color": "#636efa"
         },
         "name": "[TG(43:0)]_FA14:0",
         "offsetgroup": "[TG(43:0)]_FA14:0",
         "orientation": "v",
         "showlegend": true,
         "textposition": "auto",
         "type": "bar",
         "x": [
          "754.7 -> 509.5"
         ],
         "xaxis": "x",
         "y": [
          29018.08203125
         ],
         "yaxis": "y"
        },
        {
         "alignmentgroup": "True",
         "customdata": [
          [
           "[TG(44:5)]_FA14:0",
           "TAG"
          ]
         ],
         "hovertemplate": "Lipid=%{customdata[0]}<br>Transition=%{x}<br>Intensity=%{y}<br>Class=%{customdata[1]}<extra></extra>",
         "legendgroup": "[TG(44:5)]_FA14:0",
         "marker": {
          "color": "#EF553B"
         },
         "name": "[TG(44:5)]_FA14:0",
         "offsetgroup": "[TG(44:5)]_FA14:0",
         "orientation": "v",
         "showlegend": true,
         "textposition": "auto",
         "type": "bar",
         "x": [
          "758.6 -> 513.4"
         ],
         "xaxis": "x",
         "y": [
          17620.081260681152
         ],
         "yaxis": "y"
        },
        {
         "alignmentgroup": "True",
         "customdata": [
          [
           "[TG(44:4)]_FA14:0",
           "TAG"
          ]
         ],
         "hovertemplate": "Lipid=%{customdata[0]}<br>Transition=%{x}<br>Intensity=%{y}<br>Class=%{customdata[1]}<extra></extra>",
         "legendgroup": "[TG(44:4)]_FA14:0",
         "marker": {
          "color": "#00cc96"
         },
         "name": "[TG(44:4)]_FA14:0",
         "offsetgroup": "[TG(44:4)]_FA14:0",
         "orientation": "v",
         "showlegend": true,
         "textposition": "auto",
         "type": "bar",
         "x": [
          "760.6 -> 515.4"
         ],
         "xaxis": "x",
         "y": [
          15765.661041259766
         ],
         "yaxis": "y"
        },
        {
         "alignmentgroup": "True",
         "customdata": [
          [
           "[TG(44:3)]_FA14:0",
           "TAG"
          ]
         ],
         "hovertemplate": "Lipid=%{customdata[0]}<br>Transition=%{x}<br>Intensity=%{y}<br>Class=%{customdata[1]}<extra></extra>",
         "legendgroup": "[TG(44:3)]_FA14:0",
         "marker": {
          "color": "#ab63fa"
         },
         "name": "[TG(44:3)]_FA14:0",
         "offsetgroup": "[TG(44:3)]_FA14:0",
         "orientation": "v",
         "showlegend": true,
         "textposition": "auto",
         "type": "bar",
         "x": [
          "762.7 -> 517.5"
         ],
         "xaxis": "x",
         "y": [
          18071.14141845703
         ],
         "yaxis": "y"
        },
        {
         "alignmentgroup": "True",
         "customdata": [
          [
           "[TG(44:2)]_FA14:0",
           "TAG"
          ]
         ],
         "hovertemplate": "Lipid=%{customdata[0]}<br>Transition=%{x}<br>Intensity=%{y}<br>Class=%{customdata[1]}<extra></extra>",
         "legendgroup": "[TG(44:2)]_FA14:0",
         "marker": {
          "color": "#FFA15A"
         },
         "name": "[TG(44:2)]_FA14:0",
         "offsetgroup": "[TG(44:2)]_FA14:0",
         "orientation": "v",
         "showlegend": true,
         "textposition": "auto",
         "type": "bar",
         "x": [
          "764.7 -> 519.5"
         ],
         "xaxis": "x",
         "y": [
          39169.32312011719
         ],
         "yaxis": "y"
        },
        {
         "alignmentgroup": "True",
         "customdata": [
          [
           "[TG(44:1)]_FA14:0",
           "TAG"
          ]
         ],
         "hovertemplate": "Lipid=%{customdata[0]}<br>Transition=%{x}<br>Intensity=%{y}<br>Class=%{customdata[1]}<extra></extra>",
         "legendgroup": "[TG(44:1)]_FA14:0",
         "marker": {
          "color": "#19d3f3"
         },
         "name": "[TG(44:1)]_FA14:0",
         "offsetgroup": "[TG(44:1)]_FA14:0",
         "orientation": "v",
         "showlegend": true,
         "textposition": "auto",
         "type": "bar",
         "x": [
          "766.7 -> 521.5"
         ],
         "xaxis": "x",
         "y": [
          31882.602020263672
         ],
         "yaxis": "y"
        },
        {
         "alignmentgroup": "True",
         "customdata": [
          [
           "[TG(44:0),TG(O-45:0)]_FA14:0",
           "TAG"
          ]
         ],
         "hovertemplate": "Lipid=%{customdata[0]}<br>Transition=%{x}<br>Intensity=%{y}<br>Class=%{customdata[1]}<extra></extra>",
         "legendgroup": "[TG(44:0),TG(O-45:0)]_FA14:0",
         "marker": {
          "color": "#FF6692"
         },
         "name": "[TG(44:0),TG(O-45:0)]_FA14:0",
         "offsetgroup": "[TG(44:0),TG(O-45:0)]_FA14:0",
         "orientation": "v",
         "showlegend": true,
         "textposition": "auto",
         "type": "bar",
         "x": [
          "768.7 -> 523.5"
         ],
         "xaxis": "x",
         "y": [
          72722.04577636719
         ],
         "yaxis": "y"
        },
        {
         "alignmentgroup": "True",
         "customdata": [
          [
           "[TG(45:5)]_FA14:0",
           "TAG"
          ]
         ],
         "hovertemplate": "Lipid=%{customdata[0]}<br>Transition=%{x}<br>Intensity=%{y}<br>Class=%{customdata[1]}<extra></extra>",
         "legendgroup": "[TG(45:5)]_FA14:0",
         "marker": {
          "color": "#B6E880"
         },
         "name": "[TG(45:5)]_FA14:0",
         "offsetgroup": "[TG(45:5)]_FA14:0",
         "orientation": "v",
         "showlegend": true,
         "textposition": "auto",
         "type": "bar",
         "x": [
          "772.6 -> 527.4"
         ],
         "xaxis": "x",
         "y": [
          18579.66111755371
         ],
         "yaxis": "y"
        },
        {
         "alignmentgroup": "True",
         "customdata": [
          [
           "[TG(45:4)]_FA14:0",
           "TAG"
          ]
         ],
         "hovertemplate": "Lipid=%{customdata[0]}<br>Transition=%{x}<br>Intensity=%{y}<br>Class=%{customdata[1]}<extra></extra>",
         "legendgroup": "[TG(45:4)]_FA14:0",
         "marker": {
          "color": "#FF97FF"
         },
         "name": "[TG(45:4)]_FA14:0",
         "offsetgroup": "[TG(45:4)]_FA14:0",
         "orientation": "v",
         "showlegend": true,
         "textposition": "auto",
         "type": "bar",
         "x": [
          "774.7 -> 529.5"
         ],
         "xaxis": "x",
         "y": [
          21398.161346435547
         ],
         "yaxis": "y"
        },
        {
         "alignmentgroup": "True",
         "customdata": [
          [
           "[TG(45:3)]_FA14:0",
           "TAG"
          ]
         ],
         "hovertemplate": "Lipid=%{customdata[0]}<br>Transition=%{x}<br>Intensity=%{y}<br>Class=%{customdata[1]}<extra></extra>",
         "legendgroup": "[TG(45:3)]_FA14:0",
         "marker": {
          "color": "#FECB52"
         },
         "name": "[TG(45:3)]_FA14:0",
         "offsetgroup": "[TG(45:3)]_FA14:0",
         "orientation": "v",
         "showlegend": true,
         "textposition": "auto",
         "type": "bar",
         "x": [
          "776.7 -> 531.5"
         ],
         "xaxis": "x",
         "y": [
          18318.621307373047
         ],
         "yaxis": "y"
        },
        {
         "alignmentgroup": "True",
         "customdata": [
          [
           "[TG(45:2)]_FA14:0",
           "TAG"
          ]
         ],
         "hovertemplate": "Lipid=%{customdata[0]}<br>Transition=%{x}<br>Intensity=%{y}<br>Class=%{customdata[1]}<extra></extra>",
         "legendgroup": "[TG(45:2)]_FA14:0",
         "marker": {
          "color": "#636efa"
         },
         "name": "[TG(45:2)]_FA14:0",
         "offsetgroup": "[TG(45:2)]_FA14:0",
         "orientation": "v",
         "showlegend": true,
         "textposition": "auto",
         "type": "bar",
         "x": [
          "778.7 -> 533.5"
         ],
         "xaxis": "x",
         "y": [
          16532.841232299805
         ],
         "yaxis": "y"
        },
        {
         "alignmentgroup": "True",
         "customdata": [
          [
           "[TG(45:1)]_FA14:0",
           "TAG"
          ]
         ],
         "hovertemplate": "Lipid=%{customdata[0]}<br>Transition=%{x}<br>Intensity=%{y}<br>Class=%{customdata[1]}<extra></extra>",
         "legendgroup": "[TG(45:1)]_FA14:0",
         "marker": {
          "color": "#EF553B"
         },
         "name": "[TG(45:1)]_FA14:0",
         "offsetgroup": "[TG(45:1)]_FA14:0",
         "orientation": "v",
         "showlegend": true,
         "textposition": "auto",
         "type": "bar",
         "x": [
          "780.7 -> 535.5"
         ],
         "xaxis": "x",
         "y": [
          70729.62463378906
         ],
         "yaxis": "y"
        },
        {
         "alignmentgroup": "True",
         "customdata": [
          [
           "[TG(45:0)]_FA14:0",
           "TAG"
          ]
         ],
         "hovertemplate": "Lipid=%{customdata[0]}<br>Transition=%{x}<br>Intensity=%{y}<br>Class=%{customdata[1]}<extra></extra>",
         "legendgroup": "[TG(45:0)]_FA14:0",
         "marker": {
          "color": "#00cc96"
         },
         "name": "[TG(45:0)]_FA14:0",
         "offsetgroup": "[TG(45:0)]_FA14:0",
         "orientation": "v",
         "showlegend": true,
         "textposition": "auto",
         "type": "bar",
         "x": [
          "782.7 -> 537.5"
         ],
         "xaxis": "x",
         "y": [
          46782.86340332031
         ],
         "yaxis": "y"
        },
        {
         "alignmentgroup": "True",
         "customdata": [
          [
           "[TG(46:6)]_FA14:0",
           "TAG"
          ]
         ],
         "hovertemplate": "Lipid=%{customdata[0]}<br>Transition=%{x}<br>Intensity=%{y}<br>Class=%{customdata[1]}<extra></extra>",
         "legendgroup": "[TG(46:6)]_FA14:0",
         "marker": {
          "color": "#ab63fa"
         },
         "name": "[TG(46:6)]_FA14:0",
         "offsetgroup": "[TG(46:6)]_FA14:0",
         "orientation": "v",
         "showlegend": true,
         "textposition": "auto",
         "type": "bar",
         "x": [
          "784.6 -> 539.4"
         ],
         "xaxis": "x",
         "y": [
          20436.341217041016
         ],
         "yaxis": "y"
        },
        {
         "alignmentgroup": "True",
         "customdata": [
          [
           "[TG(46:5)]_FA14:0",
           "TAG"
          ]
         ],
         "hovertemplate": "Lipid=%{customdata[0]}<br>Transition=%{x}<br>Intensity=%{y}<br>Class=%{customdata[1]}<extra></extra>",
         "legendgroup": "[TG(46:5)]_FA14:0",
         "marker": {
          "color": "#FFA15A"
         },
         "name": "[TG(46:5)]_FA14:0",
         "offsetgroup": "[TG(46:5)]_FA14:0",
         "orientation": "v",
         "showlegend": true,
         "textposition": "auto",
         "type": "bar",
         "x": [
          "786.7 -> 541.5"
         ],
         "xaxis": "x",
         "y": [
          20286.141387939453
         ],
         "yaxis": "y"
        },
        {
         "alignmentgroup": "True",
         "customdata": [
          [
           "[TG(46:4)]_FA14:0",
           "TAG"
          ]
         ],
         "hovertemplate": "Lipid=%{customdata[0]}<br>Transition=%{x}<br>Intensity=%{y}<br>Class=%{customdata[1]}<extra></extra>",
         "legendgroup": "[TG(46:4)]_FA14:0",
         "marker": {
          "color": "#19d3f3"
         },
         "name": "[TG(46:4)]_FA14:0",
         "offsetgroup": "[TG(46:4)]_FA14:0",
         "orientation": "v",
         "showlegend": true,
         "textposition": "auto",
         "type": "bar",
         "x": [
          "788.7 -> 543.5"
         ],
         "xaxis": "x",
         "y": [
          18562.861236572266
         ],
         "yaxis": "y"
        },
        {
         "alignmentgroup": "True",
         "customdata": [
          [
           "[TG(46:3)]_FA14:0",
           "TAG"
          ]
         ],
         "hovertemplate": "Lipid=%{customdata[0]}<br>Transition=%{x}<br>Intensity=%{y}<br>Class=%{customdata[1]}<extra></extra>",
         "legendgroup": "[TG(46:3)]_FA14:0",
         "marker": {
          "color": "#FF6692"
         },
         "name": "[TG(46:3)]_FA14:0",
         "offsetgroup": "[TG(46:3)]_FA14:0",
         "orientation": "v",
         "showlegend": true,
         "textposition": "auto",
         "type": "bar",
         "x": [
          "790.7 -> 545.5"
         ],
         "xaxis": "x",
         "y": [
          20631.881439208984
         ],
         "yaxis": "y"
        },
        {
         "alignmentgroup": "True",
         "customdata": [
          [
           "[TG(46:2)]_FA14:0",
           "TAG"
          ]
         ],
         "hovertemplate": "Lipid=%{customdata[0]}<br>Transition=%{x}<br>Intensity=%{y}<br>Class=%{customdata[1]}<extra></extra>",
         "legendgroup": "[TG(46:2)]_FA14:0",
         "marker": {
          "color": "#B6E880"
         },
         "name": "[TG(46:2)]_FA14:0",
         "offsetgroup": "[TG(46:2)]_FA14:0",
         "orientation": "v",
         "showlegend": true,
         "textposition": "auto",
         "type": "bar",
         "x": [
          "792.7 -> 547.5"
         ],
         "xaxis": "x",
         "y": [
          44036.763610839844
         ],
         "yaxis": "y"
        },
        {
         "alignmentgroup": "True",
         "customdata": [
          [
           "[TG(46:1)]_FA14:0",
           "TAG"
          ]
         ],
         "hovertemplate": "Lipid=%{customdata[0]}<br>Transition=%{x}<br>Intensity=%{y}<br>Class=%{customdata[1]}<extra></extra>",
         "legendgroup": "[TG(46:1)]_FA14:0",
         "marker": {
          "color": "#FF97FF"
         },
         "name": "[TG(46:1)]_FA14:0",
         "offsetgroup": "[TG(46:1)]_FA14:0",
         "orientation": "v",
         "showlegend": true,
         "textposition": "auto",
         "type": "bar",
         "x": [
          "794.7 -> 549.5"
         ],
         "xaxis": "x",
         "y": [
          68736.06512451172
         ],
         "yaxis": "y"
        },
        {
         "alignmentgroup": "True",
         "customdata": [
          [
           "[TG(46:0)]_FA14:0",
           "TAG"
          ]
         ],
         "hovertemplate": "Lipid=%{customdata[0]}<br>Transition=%{x}<br>Intensity=%{y}<br>Class=%{customdata[1]}<extra></extra>",
         "legendgroup": "[TG(46:0)]_FA14:0",
         "marker": {
          "color": "#FECB52"
         },
         "name": "[TG(46:0)]_FA14:0",
         "offsetgroup": "[TG(46:0)]_FA14:0",
         "orientation": "v",
         "showlegend": true,
         "textposition": "auto",
         "type": "bar",
         "x": [
          "796.7 -> 551.5"
         ],
         "xaxis": "x",
         "y": [
          84029.40625
         ],
         "yaxis": "y"
        },
        {
         "alignmentgroup": "True",
         "customdata": [
          [
           "[TG(47:6)]_FA14:0",
           "TAG"
          ]
         ],
         "hovertemplate": "Lipid=%{customdata[0]}<br>Transition=%{x}<br>Intensity=%{y}<br>Class=%{customdata[1]}<extra></extra>",
         "legendgroup": "[TG(47:6)]_FA14:0",
         "marker": {
          "color": "#636efa"
         },
         "name": "[TG(47:6)]_FA14:0",
         "offsetgroup": "[TG(47:6)]_FA14:0",
         "orientation": "v",
         "showlegend": true,
         "textposition": "auto",
         "type": "bar",
         "x": [
          "798.7 -> 553.5"
         ],
         "xaxis": "x",
         "y": [
          26131.921813964844
         ],
         "yaxis": "y"
        },
        {
         "alignmentgroup": "True",
         "customdata": [
          [
           "[TG(47:5)]_FA14:0",
           "TAG"
          ]
         ],
         "hovertemplate": "Lipid=%{customdata[0]}<br>Transition=%{x}<br>Intensity=%{y}<br>Class=%{customdata[1]}<extra></extra>",
         "legendgroup": "[TG(47:5)]_FA14:0",
         "marker": {
          "color": "#EF553B"
         },
         "name": "[TG(47:5)]_FA14:0",
         "offsetgroup": "[TG(47:5)]_FA14:0",
         "orientation": "v",
         "showlegend": true,
         "textposition": "auto",
         "type": "bar",
         "x": [
          "800.7 -> 555.5"
         ],
         "xaxis": "x",
         "y": [
          20985.38151550293
         ],
         "yaxis": "y"
        },
        {
         "alignmentgroup": "True",
         "customdata": [
          [
           "[TG(47:4)]_FA14:0",
           "TAG"
          ]
         ],
         "hovertemplate": "Lipid=%{customdata[0]}<br>Transition=%{x}<br>Intensity=%{y}<br>Class=%{customdata[1]}<extra></extra>",
         "legendgroup": "[TG(47:4)]_FA14:0",
         "marker": {
          "color": "#00cc96"
         },
         "name": "[TG(47:4)]_FA14:0",
         "offsetgroup": "[TG(47:4)]_FA14:0",
         "orientation": "v",
         "showlegend": true,
         "textposition": "auto",
         "type": "bar",
         "x": [
          "802.7 -> 557.5"
         ],
         "xaxis": "x",
         "y": [
          18959.501403808594
         ],
         "yaxis": "y"
        },
        {
         "alignmentgroup": "True",
         "customdata": [
          [
           "[TG(47:3)]_FA14:0",
           "TAG"
          ]
         ],
         "hovertemplate": "Lipid=%{customdata[0]}<br>Transition=%{x}<br>Intensity=%{y}<br>Class=%{customdata[1]}<extra></extra>",
         "legendgroup": "[TG(47:3)]_FA14:0",
         "marker": {
          "color": "#ab63fa"
         },
         "name": "[TG(47:3)]_FA14:0",
         "offsetgroup": "[TG(47:3)]_FA14:0",
         "orientation": "v",
         "showlegend": true,
         "textposition": "auto",
         "type": "bar",
         "x": [
          "804.7 -> 559.5"
         ],
         "xaxis": "x",
         "y": [
          21987.14175415039
         ],
         "yaxis": "y"
        },
        {
         "alignmentgroup": "True",
         "customdata": [
          [
           "[TG(47:2)]_FA14:0",
           "TAG"
          ]
         ],
         "hovertemplate": "Lipid=%{customdata[0]}<br>Transition=%{x}<br>Intensity=%{y}<br>Class=%{customdata[1]}<extra></extra>",
         "legendgroup": "[TG(47:2)]_FA14:0",
         "marker": {
          "color": "#FFA15A"
         },
         "name": "[TG(47:2)]_FA14:0",
         "offsetgroup": "[TG(47:2)]_FA14:0",
         "orientation": "v",
         "showlegend": true,
         "textposition": "auto",
         "type": "bar",
         "x": [
          "806.7 -> 561.5"
         ],
         "xaxis": "x",
         "y": [
          24136.061737060547
         ],
         "yaxis": "y"
        },
        {
         "alignmentgroup": "True",
         "customdata": [
          [
           "[TG(48:8),TG(47:1)]_FA14:0",
           "TAG"
          ]
         ],
         "hovertemplate": "Lipid=%{customdata[0]}<br>Transition=%{x}<br>Intensity=%{y}<br>Class=%{customdata[1]}<extra></extra>",
         "legendgroup": "[TG(48:8),TG(47:1)]_FA14:0",
         "marker": {
          "color": "#19d3f3"
         },
         "name": "[TG(48:8),TG(47:1)]_FA14:0",
         "offsetgroup": "[TG(48:8),TG(47:1)]_FA14:0",
         "orientation": "v",
         "showlegend": true,
         "textposition": "auto",
         "type": "bar",
         "x": [
          "808.7 -> 563.5"
         ],
         "xaxis": "x",
         "y": [
          31395.762451171875
         ],
         "yaxis": "y"
        },
        {
         "alignmentgroup": "True",
         "customdata": [
          [
           "[TG(48:7),TG(47:0)]_FA14:0",
           "TAG"
          ]
         ],
         "hovertemplate": "Lipid=%{customdata[0]}<br>Transition=%{x}<br>Intensity=%{y}<br>Class=%{customdata[1]}<extra></extra>",
         "legendgroup": "[TG(48:7),TG(47:0)]_FA14:0",
         "marker": {
          "color": "#FF6692"
         },
         "name": "[TG(48:7),TG(47:0)]_FA14:0",
         "offsetgroup": "[TG(48:7),TG(47:0)]_FA14:0",
         "orientation": "v",
         "showlegend": true,
         "textposition": "auto",
         "type": "bar",
         "x": [
          "810.8 -> 565.6"
         ],
         "xaxis": "x",
         "y": [
          35014.362396240234
         ],
         "yaxis": "y"
        },
        {
         "alignmentgroup": "True",
         "customdata": [
          [
           "[TG(48:6)]_FA14:0",
           "TAG"
          ]
         ],
         "hovertemplate": "Lipid=%{customdata[0]}<br>Transition=%{x}<br>Intensity=%{y}<br>Class=%{customdata[1]}<extra></extra>",
         "legendgroup": "[TG(48:6)]_FA14:0",
         "marker": {
          "color": "#B6E880"
         },
         "name": "[TG(48:6)]_FA14:0",
         "offsetgroup": "[TG(48:6)]_FA14:0",
         "orientation": "v",
         "showlegend": true,
         "textposition": "auto",
         "type": "bar",
         "x": [
          "812.7 -> 567.5"
         ],
         "xaxis": "x",
         "y": [
          51366.403381347656
         ],
         "yaxis": "y"
        },
        {
         "alignmentgroup": "True",
         "customdata": [
          [
           "[TG(48:5)]_FA14:0",
           "TAG"
          ]
         ],
         "hovertemplate": "Lipid=%{customdata[0]}<br>Transition=%{x}<br>Intensity=%{y}<br>Class=%{customdata[1]}<extra></extra>",
         "legendgroup": "[TG(48:5)]_FA14:0",
         "marker": {
          "color": "#FF97FF"
         },
         "name": "[TG(48:5)]_FA14:0",
         "offsetgroup": "[TG(48:5)]_FA14:0",
         "orientation": "v",
         "showlegend": true,
         "textposition": "auto",
         "type": "bar",
         "x": [
          "814.7 -> 569.5"
         ],
         "xaxis": "x",
         "y": [
          25303.261779785156
         ],
         "yaxis": "y"
        },
        {
         "alignmentgroup": "True",
         "customdata": [
          [
           "[TG(48:4)]_FA14:0",
           "TAG"
          ]
         ],
         "hovertemplate": "Lipid=%{customdata[0]}<br>Transition=%{x}<br>Intensity=%{y}<br>Class=%{customdata[1]}<extra></extra>",
         "legendgroup": "[TG(48:4)]_FA14:0",
         "marker": {
          "color": "#FECB52"
         },
         "name": "[TG(48:4)]_FA14:0",
         "offsetgroup": "[TG(48:4)]_FA14:0",
         "orientation": "v",
         "showlegend": true,
         "textposition": "auto",
         "type": "bar",
         "x": [
          "816.7 -> 571.5"
         ],
         "xaxis": "x",
         "y": [
          23539.601623535156
         ],
         "yaxis": "y"
        },
        {
         "alignmentgroup": "True",
         "customdata": [
          [
           "[TG(48:3)]_FA14:0",
           "TAG"
          ]
         ],
         "hovertemplate": "Lipid=%{customdata[0]}<br>Transition=%{x}<br>Intensity=%{y}<br>Class=%{customdata[1]}<extra></extra>",
         "legendgroup": "[TG(48:3)]_FA14:0",
         "marker": {
          "color": "#636efa"
         },
         "name": "[TG(48:3)]_FA14:0",
         "offsetgroup": "[TG(48:3)]_FA14:0",
         "orientation": "v",
         "showlegend": true,
         "textposition": "auto",
         "type": "bar",
         "x": [
          "818.7 -> 573.5"
         ],
         "xaxis": "x",
         "y": [
          82808.48538208008
         ],
         "yaxis": "y"
        },
        {
         "alignmentgroup": "True",
         "customdata": [
          [
           "[TG(48:2)]_FA14:0",
           "TAG"
          ]
         ],
         "hovertemplate": "Lipid=%{customdata[0]}<br>Transition=%{x}<br>Intensity=%{y}<br>Class=%{customdata[1]}<extra></extra>",
         "legendgroup": "[TG(48:2)]_FA14:0",
         "marker": {
          "color": "#EF553B"
         },
         "name": "[TG(48:2)]_FA14:0",
         "offsetgroup": "[TG(48:2)]_FA14:0",
         "orientation": "v",
         "showlegend": true,
         "textposition": "auto",
         "type": "bar",
         "x": [
          "820.7 -> 575.5"
         ],
         "xaxis": "x",
         "y": [
          286373.7007446289
         ],
         "yaxis": "y"
        },
        {
         "alignmentgroup": "True",
         "customdata": [
          [
           "[TG(49:8),TG(48:1)]_FA14:0",
           "TAG"
          ]
         ],
         "hovertemplate": "Lipid=%{customdata[0]}<br>Transition=%{x}<br>Intensity=%{y}<br>Class=%{customdata[1]}<extra></extra>",
         "legendgroup": "[TG(49:8),TG(48:1)]_FA14:0",
         "marker": {
          "color": "#00cc96"
         },
         "name": "[TG(49:8),TG(48:1)]_FA14:0",
         "offsetgroup": "[TG(49:8),TG(48:1)]_FA14:0",
         "orientation": "v",
         "showlegend": true,
         "textposition": "auto",
         "type": "bar",
         "x": [
          "822.8 -> 577.6"
         ],
         "xaxis": "x",
         "y": [
          333579.6123046875
         ],
         "yaxis": "y"
        },
        {
         "alignmentgroup": "True",
         "customdata": [
          [
           "[TG(49:7),TG(48:0)]_FA14:0",
           "TAG"
          ]
         ],
         "hovertemplate": "Lipid=%{customdata[0]}<br>Transition=%{x}<br>Intensity=%{y}<br>Class=%{customdata[1]}<extra></extra>",
         "legendgroup": "[TG(49:7),TG(48:0)]_FA14:0",
         "marker": {
          "color": "#ab63fa"
         },
         "name": "[TG(49:7),TG(48:0)]_FA14:0",
         "offsetgroup": "[TG(49:7),TG(48:0)]_FA14:0",
         "orientation": "v",
         "showlegend": true,
         "textposition": "auto",
         "type": "bar",
         "x": [
          "824.8 -> 579.6"
         ],
         "xaxis": "x",
         "y": [
          80859.20629882812
         ],
         "yaxis": "y"
        },
        {
         "alignmentgroup": "True",
         "customdata": [
          [
           "[TG(49:6)]_FA14:0",
           "TAG"
          ]
         ],
         "hovertemplate": "Lipid=%{customdata[0]}<br>Transition=%{x}<br>Intensity=%{y}<br>Class=%{customdata[1]}<extra></extra>",
         "legendgroup": "[TG(49:6)]_FA14:0",
         "marker": {
          "color": "#FFA15A"
         },
         "name": "[TG(49:6)]_FA14:0",
         "offsetgroup": "[TG(49:6)]_FA14:0",
         "orientation": "v",
         "showlegend": true,
         "textposition": "auto",
         "type": "bar",
         "x": [
          "826.7 -> 581.5"
         ],
         "xaxis": "x",
         "y": [
          29734.44223022461
         ],
         "yaxis": "y"
        },
        {
         "alignmentgroup": "True",
         "customdata": [
          [
           "[TG(49:5)]_FA14:0",
           "TAG"
          ]
         ],
         "hovertemplate": "Lipid=%{customdata[0]}<br>Transition=%{x}<br>Intensity=%{y}<br>Class=%{customdata[1]}<extra></extra>",
         "legendgroup": "[TG(49:5)]_FA14:0",
         "marker": {
          "color": "#19d3f3"
         },
         "name": "[TG(49:5)]_FA14:0",
         "offsetgroup": "[TG(49:5)]_FA14:0",
         "orientation": "v",
         "showlegend": true,
         "textposition": "auto",
         "type": "bar",
         "x": [
          "828.7 -> 583.5"
         ],
         "xaxis": "x",
         "y": [
          22083.261352539062
         ],
         "yaxis": "y"
        },
        {
         "alignmentgroup": "True",
         "customdata": [
          [
           "STD_15:0-18:1(d7)-15:0 TAG",
           "STD_15:0-18:1(d7)-15:0 TAG"
          ]
         ],
         "hovertemplate": "Lipid=%{customdata[0]}<br>Transition=%{x}<br>Intensity=%{y}<br>Class=%{customdata[1]}<extra></extra>",
         "legendgroup": "STD_15:0-18:1(d7)-15:0 TAG",
         "marker": {
          "color": "#FF6692"
         },
         "name": "STD_15:0-18:1(d7)-15:0 TAG",
         "offsetgroup": "STD_15:0-18:1(d7)-15:0 TAG",
         "orientation": "v",
         "showlegend": true,
         "textposition": "auto",
         "type": "bar",
         "x": [
          "829.8 -> 570.4"
         ],
         "xaxis": "x",
         "y": [
          33835.302642822266
         ],
         "yaxis": "y"
        },
        {
         "alignmentgroup": "True",
         "customdata": [
          [
           "[TG(49:4)]_FA14:0",
           "TAG"
          ]
         ],
         "hovertemplate": "Lipid=%{customdata[0]}<br>Transition=%{x}<br>Intensity=%{y}<br>Class=%{customdata[1]}<extra></extra>",
         "legendgroup": "[TG(49:4)]_FA14:0",
         "marker": {
          "color": "#B6E880"
         },
         "name": "[TG(49:4)]_FA14:0",
         "offsetgroup": "[TG(49:4)]_FA14:0",
         "orientation": "v",
         "showlegend": true,
         "textposition": "auto",
         "type": "bar",
         "x": [
          "830.7 -> 585.5"
         ],
         "xaxis": "x",
         "y": [
          22096.821563720703
         ],
         "yaxis": "y"
        },
        {
         "alignmentgroup": "True",
         "customdata": [
          [
           "[TG(49:3)]_FA14:0",
           "TAG"
          ]
         ],
         "hovertemplate": "Lipid=%{customdata[0]}<br>Transition=%{x}<br>Intensity=%{y}<br>Class=%{customdata[1]}<extra></extra>",
         "legendgroup": "[TG(49:3)]_FA14:0",
         "marker": {
          "color": "#FF97FF"
         },
         "name": "[TG(49:3)]_FA14:0",
         "offsetgroup": "[TG(49:3)]_FA14:0",
         "orientation": "v",
         "showlegend": true,
         "textposition": "auto",
         "type": "bar",
         "x": [
          "832.7 -> 587.5"
         ],
         "xaxis": "x",
         "y": [
          26063.061752319336
         ],
         "yaxis": "y"
        },
        {
         "alignmentgroup": "True",
         "customdata": [
          [
           "[TG(50:9),TG(49:2)]_FA14:0",
           "TAG"
          ]
         ],
         "hovertemplate": "Lipid=%{customdata[0]}<br>Transition=%{x}<br>Intensity=%{y}<br>Class=%{customdata[1]}<extra></extra>",
         "legendgroup": "[TG(50:9),TG(49:2)]_FA14:0",
         "marker": {
          "color": "#FECB52"
         },
         "name": "[TG(50:9),TG(49:2)]_FA14:0",
         "offsetgroup": "[TG(50:9),TG(49:2)]_FA14:0",
         "orientation": "v",
         "showlegend": true,
         "textposition": "auto",
         "type": "bar",
         "x": [
          "834.8 -> 589.6"
         ],
         "xaxis": "x",
         "y": [
          29320.561981201172
         ],
         "yaxis": "y"
        },
        {
         "alignmentgroup": "True",
         "customdata": [
          [
           "[TG(50:8),TG(49:1)]_FA14:0",
           "TAG"
          ]
         ],
         "hovertemplate": "Lipid=%{customdata[0]}<br>Transition=%{x}<br>Intensity=%{y}<br>Class=%{customdata[1]}<extra></extra>",
         "legendgroup": "[TG(50:8),TG(49:1)]_FA14:0",
         "marker": {
          "color": "#636efa"
         },
         "name": "[TG(50:8),TG(49:1)]_FA14:0",
         "offsetgroup": "[TG(50:8),TG(49:1)]_FA14:0",
         "orientation": "v",
         "showlegend": true,
         "textposition": "auto",
         "type": "bar",
         "x": [
          "836.8 -> 591.6"
         ],
         "xaxis": "x",
         "y": [
          37507.4225769043
         ],
         "yaxis": "y"
        },
        {
         "alignmentgroup": "True",
         "customdata": [
          [
           "[TG(50:7),TG(49:0)]_FA14:0",
           "TAG"
          ]
         ],
         "hovertemplate": "Lipid=%{customdata[0]}<br>Transition=%{x}<br>Intensity=%{y}<br>Class=%{customdata[1]}<extra></extra>",
         "legendgroup": "[TG(50:7),TG(49:0)]_FA14:0",
         "marker": {
          "color": "#EF553B"
         },
         "name": "[TG(50:7),TG(49:0)]_FA14:0",
         "offsetgroup": "[TG(50:7),TG(49:0)]_FA14:0",
         "orientation": "v",
         "showlegend": true,
         "textposition": "auto",
         "type": "bar",
         "x": [
          "838.8 -> 593.6"
         ],
         "xaxis": "x",
         "y": [
          34488.222259521484
         ],
         "yaxis": "y"
        },
        {
         "alignmentgroup": "True",
         "customdata": [
          [
           "[TG(50:6)]_FA14:0",
           "TAG"
          ]
         ],
         "hovertemplate": "Lipid=%{customdata[0]}<br>Transition=%{x}<br>Intensity=%{y}<br>Class=%{customdata[1]}<extra></extra>",
         "legendgroup": "[TG(50:6)]_FA14:0",
         "marker": {
          "color": "#00cc96"
         },
         "name": "[TG(50:6)]_FA14:0",
         "offsetgroup": "[TG(50:6)]_FA14:0",
         "orientation": "v",
         "showlegend": true,
         "textposition": "auto",
         "type": "bar",
         "x": [
          "840.7 -> 595.5"
         ],
         "xaxis": "x",
         "y": [
          29315.282165527344
         ],
         "yaxis": "y"
        },
        {
         "alignmentgroup": "True",
         "customdata": [
          [
           "[TG(50:5)]_FA14:0",
           "TAG"
          ]
         ],
         "hovertemplate": "Lipid=%{customdata[0]}<br>Transition=%{x}<br>Intensity=%{y}<br>Class=%{customdata[1]}<extra></extra>",
         "legendgroup": "[TG(50:5)]_FA14:0",
         "marker": {
          "color": "#ab63fa"
         },
         "name": "[TG(50:5)]_FA14:0",
         "offsetgroup": "[TG(50:5)]_FA14:0",
         "orientation": "v",
         "showlegend": true,
         "textposition": "auto",
         "type": "bar",
         "x": [
          "842.7 -> 597.5"
         ],
         "xaxis": "x",
         "y": [
          35932.222259521484
         ],
         "yaxis": "y"
        },
        {
         "alignmentgroup": "True",
         "customdata": [
          [
           "[TG(50:4)]_FA14:0",
           "TAG"
          ]
         ],
         "hovertemplate": "Lipid=%{customdata[0]}<br>Transition=%{x}<br>Intensity=%{y}<br>Class=%{customdata[1]}<extra></extra>",
         "legendgroup": "[TG(50:4)]_FA14:0",
         "marker": {
          "color": "#FFA15A"
         },
         "name": "[TG(50:4)]_FA14:0",
         "offsetgroup": "[TG(50:4)]_FA14:0",
         "orientation": "v",
         "showlegend": true,
         "textposition": "auto",
         "type": "bar",
         "x": [
          "844.7 -> 599.5"
         ],
         "xaxis": "x",
         "y": [
          126118.92807006836
         ],
         "yaxis": "y"
        },
        {
         "alignmentgroup": "True",
         "customdata": [
          [
           "[TG(50:3)]_FA14:0",
           "TAG"
          ]
         ],
         "hovertemplate": "Lipid=%{customdata[0]}<br>Transition=%{x}<br>Intensity=%{y}<br>Class=%{customdata[1]}<extra></extra>",
         "legendgroup": "[TG(50:3)]_FA14:0",
         "marker": {
          "color": "#19d3f3"
         },
         "name": "[TG(50:3)]_FA14:0",
         "offsetgroup": "[TG(50:3)]_FA14:0",
         "orientation": "v",
         "showlegend": true,
         "textposition": "auto",
         "type": "bar",
         "x": [
          "846.8 -> 601.6"
         ],
         "xaxis": "x",
         "y": [
          432169.33502197266
         ],
         "yaxis": "y"
        },
        {
         "alignmentgroup": "True",
         "customdata": [
          [
           "[TG(51:9),TG(50:2)]_FA14:0",
           "TAG"
          ]
         ],
         "hovertemplate": "Lipid=%{customdata[0]}<br>Transition=%{x}<br>Intensity=%{y}<br>Class=%{customdata[1]}<extra></extra>",
         "legendgroup": "[TG(51:9),TG(50:2)]_FA14:0",
         "marker": {
          "color": "#FF6692"
         },
         "name": "[TG(51:9),TG(50:2)]_FA14:0",
         "offsetgroup": "[TG(51:9),TG(50:2)]_FA14:0",
         "orientation": "v",
         "showlegend": true,
         "textposition": "auto",
         "type": "bar",
         "x": [
          "848.8 -> 603.6"
         ],
         "xaxis": "x",
         "y": [
          501185.328125
         ],
         "yaxis": "y"
        },
        {
         "alignmentgroup": "True",
         "customdata": [
          [
           "[TG(51:8),TG(50:1)]_FA14:0",
           "TAG"
          ]
         ],
         "hovertemplate": "Lipid=%{customdata[0]}<br>Transition=%{x}<br>Intensity=%{y}<br>Class=%{customdata[1]}<extra></extra>",
         "legendgroup": "[TG(51:8),TG(50:1)]_FA14:0",
         "marker": {
          "color": "#B6E880"
         },
         "name": "[TG(51:8),TG(50:1)]_FA14:0",
         "offsetgroup": "[TG(51:8),TG(50:1)]_FA14:0",
         "orientation": "v",
         "showlegend": true,
         "textposition": "auto",
         "type": "bar",
         "x": [
          "850.8 -> 605.6"
         ],
         "xaxis": "x",
         "y": [
          86953.32531738281
         ],
         "yaxis": "y"
        },
        {
         "alignmentgroup": "True",
         "customdata": [
          [
           "[TG(51:7),TG(50:0)]_FA14:0",
           "TAG"
          ]
         ],
         "hovertemplate": "Lipid=%{customdata[0]}<br>Transition=%{x}<br>Intensity=%{y}<br>Class=%{customdata[1]}<extra></extra>",
         "legendgroup": "[TG(51:7),TG(50:0)]_FA14:0",
         "marker": {
          "color": "#FF97FF"
         },
         "name": "[TG(51:7),TG(50:0)]_FA14:0",
         "offsetgroup": "[TG(51:7),TG(50:0)]_FA14:0",
         "orientation": "v",
         "showlegend": true,
         "textposition": "auto",
         "type": "bar",
         "x": [
          "852.8 -> 607.6"
         ],
         "xaxis": "x",
         "y": [
          36228.10238647461
         ],
         "yaxis": "y"
        },
        {
         "alignmentgroup": "True",
         "customdata": [
          [
           "[TG(51:6)]_FA14:0",
           "TAG"
          ]
         ],
         "hovertemplate": "Lipid=%{customdata[0]}<br>Transition=%{x}<br>Intensity=%{y}<br>Class=%{customdata[1]}<extra></extra>",
         "legendgroup": "[TG(51:6)]_FA14:0",
         "marker": {
          "color": "#FECB52"
         },
         "name": "[TG(51:6)]_FA14:0",
         "offsetgroup": "[TG(51:6)]_FA14:0",
         "orientation": "v",
         "showlegend": true,
         "textposition": "auto",
         "type": "bar",
         "x": [
          "854.7 -> 609.5"
         ],
         "xaxis": "x",
         "y": [
          49931.743591308594
         ],
         "yaxis": "y"
        },
        {
         "alignmentgroup": "True",
         "customdata": [
          [
           "[TG(51:5)]_FA14:0",
           "TAG"
          ]
         ],
         "hovertemplate": "Lipid=%{customdata[0]}<br>Transition=%{x}<br>Intensity=%{y}<br>Class=%{customdata[1]}<extra></extra>",
         "legendgroup": "[TG(51:5)]_FA14:0",
         "marker": {
          "color": "#636efa"
         },
         "name": "[TG(51:5)]_FA14:0",
         "offsetgroup": "[TG(51:5)]_FA14:0",
         "orientation": "v",
         "showlegend": true,
         "textposition": "auto",
         "type": "bar",
         "x": [
          "856.7 -> 611.5"
         ],
         "xaxis": "x",
         "y": [
          23814.681854248047
         ],
         "yaxis": "y"
        },
        {
         "alignmentgroup": "True",
         "customdata": [
          [
           "[TG(51:4)]_FA14:0",
           "TAG"
          ]
         ],
         "hovertemplate": "Lipid=%{customdata[0]}<br>Transition=%{x}<br>Intensity=%{y}<br>Class=%{customdata[1]}<extra></extra>",
         "legendgroup": "[TG(51:4)]_FA14:0",
         "marker": {
          "color": "#EF553B"
         },
         "name": "[TG(51:4)]_FA14:0",
         "offsetgroup": "[TG(51:4)]_FA14:0",
         "orientation": "v",
         "showlegend": true,
         "textposition": "auto",
         "type": "bar",
         "x": [
          "858.8 -> 613.6"
         ],
         "xaxis": "x",
         "y": [
          23092.781524658203
         ],
         "yaxis": "y"
        },
        {
         "alignmentgroup": "True",
         "customdata": [
          [
           "[TG(52:10),TG(51:3)]_FA14:0",
           "TAG"
          ]
         ],
         "hovertemplate": "Lipid=%{customdata[0]}<br>Transition=%{x}<br>Intensity=%{y}<br>Class=%{customdata[1]}<extra></extra>",
         "legendgroup": "[TG(52:10),TG(51:3)]_FA14:0",
         "marker": {
          "color": "#00cc96"
         },
         "name": "[TG(52:10),TG(51:3)]_FA14:0",
         "offsetgroup": "[TG(52:10),TG(51:3)]_FA14:0",
         "orientation": "v",
         "showlegend": true,
         "textposition": "auto",
         "type": "bar",
         "x": [
          "860.8 -> 615.6"
         ],
         "xaxis": "x",
         "y": [
          28172.081909179688
         ],
         "yaxis": "y"
        },
        {
         "alignmentgroup": "True",
         "customdata": [
          [
           "[TG(52:9),TG(51:2)]_FA14:0",
           "TAG"
          ]
         ],
         "hovertemplate": "Lipid=%{customdata[0]}<br>Transition=%{x}<br>Intensity=%{y}<br>Class=%{customdata[1]}<extra></extra>",
         "legendgroup": "[TG(52:9),TG(51:2)]_FA14:0",
         "marker": {
          "color": "#ab63fa"
         },
         "name": "[TG(52:9),TG(51:2)]_FA14:0",
         "offsetgroup": "[TG(52:9),TG(51:2)]_FA14:0",
         "orientation": "v",
         "showlegend": true,
         "textposition": "auto",
         "type": "bar",
         "x": [
          "862.8 -> 617.6"
         ],
         "xaxis": "x",
         "y": [
          41892.44287109375
         ],
         "yaxis": "y"
        },
        {
         "alignmentgroup": "True",
         "customdata": [
          [
           "[TG(52:8),TG(51:1)]_FA14:0",
           "TAG"
          ]
         ],
         "hovertemplate": "Lipid=%{customdata[0]}<br>Transition=%{x}<br>Intensity=%{y}<br>Class=%{customdata[1]}<extra></extra>",
         "legendgroup": "[TG(52:8),TG(51:1)]_FA14:0",
         "marker": {
          "color": "#FFA15A"
         },
         "name": "[TG(52:8),TG(51:1)]_FA14:0",
         "offsetgroup": "[TG(52:8),TG(51:1)]_FA14:0",
         "orientation": "v",
         "showlegend": true,
         "textposition": "auto",
         "type": "bar",
         "x": [
          "864.8 -> 619.6"
         ],
         "xaxis": "x",
         "y": [
          46549.702728271484
         ],
         "yaxis": "y"
        },
        {
         "alignmentgroup": "True",
         "customdata": [
          [
           "[TG(52:7),TG(51:0)]_FA14:0",
           "TAG"
          ]
         ],
         "hovertemplate": "Lipid=%{customdata[0]}<br>Transition=%{x}<br>Intensity=%{y}<br>Class=%{customdata[1]}<extra></extra>",
         "legendgroup": "[TG(52:7),TG(51:0)]_FA14:0",
         "marker": {
          "color": "#19d3f3"
         },
         "name": "[TG(52:7),TG(51:0)]_FA14:0",
         "offsetgroup": "[TG(52:7),TG(51:0)]_FA14:0",
         "orientation": "v",
         "showlegend": true,
         "textposition": "auto",
         "type": "bar",
         "x": [
          "866.8 -> 621.6"
         ],
         "xaxis": "x",
         "y": [
          34083.9026184082
         ],
         "yaxis": "y"
        },
        {
         "alignmentgroup": "True",
         "customdata": [
          [
           "[TG(52:6)]_FA14:0",
           "TAG"
          ]
         ],
         "hovertemplate": "Lipid=%{customdata[0]}<br>Transition=%{x}<br>Intensity=%{y}<br>Class=%{customdata[1]}<extra></extra>",
         "legendgroup": "[TG(52:6)]_FA14:0",
         "marker": {
          "color": "#FF6692"
         },
         "name": "[TG(52:6)]_FA14:0",
         "offsetgroup": "[TG(52:6)]_FA14:0",
         "orientation": "v",
         "showlegend": true,
         "textposition": "auto",
         "type": "bar",
         "x": [
          "868.7 -> 623.5"
         ],
         "xaxis": "x",
         "y": [
          40384.46292114258
         ],
         "yaxis": "y"
        },
        {
         "alignmentgroup": "True",
         "customdata": [
          [
           "[TG(52:5)]_FA14:0",
           "TAG"
          ]
         ],
         "hovertemplate": "Lipid=%{customdata[0]}<br>Transition=%{x}<br>Intensity=%{y}<br>Class=%{customdata[1]}<extra></extra>",
         "legendgroup": "[TG(52:5)]_FA14:0",
         "marker": {
          "color": "#B6E880"
         },
         "name": "[TG(52:5)]_FA14:0",
         "offsetgroup": "[TG(52:5)]_FA14:0",
         "orientation": "v",
         "showlegend": true,
         "textposition": "auto",
         "type": "bar",
         "x": [
          "870.8 -> 625.6"
         ],
         "xaxis": "x",
         "y": [
          44110.603759765625
         ],
         "yaxis": "y"
        },
        {
         "alignmentgroup": "True",
         "customdata": [
          [
           "[TG(52:4)]_FA14:0",
           "TAG"
          ]
         ],
         "hovertemplate": "Lipid=%{customdata[0]}<br>Transition=%{x}<br>Intensity=%{y}<br>Class=%{customdata[1]}<extra></extra>",
         "legendgroup": "[TG(52:4)]_FA14:0",
         "marker": {
          "color": "#FF97FF"
         },
         "name": "[TG(52:4)]_FA14:0",
         "offsetgroup": "[TG(52:4)]_FA14:0",
         "orientation": "v",
         "showlegend": true,
         "textposition": "auto",
         "type": "bar",
         "x": [
          "872.8 -> 627.6"
         ],
         "xaxis": "x",
         "y": [
          42770.922912597656
         ],
         "yaxis": "y"
        },
        {
         "alignmentgroup": "True",
         "customdata": [
          [
           "[TG(53:10),TG(52:3)]_FA14:0",
           "TAG"
          ]
         ],
         "hovertemplate": "Lipid=%{customdata[0]}<br>Transition=%{x}<br>Intensity=%{y}<br>Class=%{customdata[1]}<extra></extra>",
         "legendgroup": "[TG(53:10),TG(52:3)]_FA14:0",
         "marker": {
          "color": "#FECB52"
         },
         "name": "[TG(53:10),TG(52:3)]_FA14:0",
         "offsetgroup": "[TG(53:10),TG(52:3)]_FA14:0",
         "orientation": "v",
         "showlegend": true,
         "textposition": "auto",
         "type": "bar",
         "x": [
          "874.8 -> 629.6"
         ],
         "xaxis": "x",
         "y": [
          53848.18371582031
         ],
         "yaxis": "y"
        },
        {
         "alignmentgroup": "True",
         "customdata": [
          [
           "[TG(53:9),TG(52:2)]_FA14:0",
           "TAG"
          ]
         ],
         "hovertemplate": "Lipid=%{customdata[0]}<br>Transition=%{x}<br>Intensity=%{y}<br>Class=%{customdata[1]}<extra></extra>",
         "legendgroup": "[TG(53:9),TG(52:2)]_FA14:0",
         "marker": {
          "color": "#636efa"
         },
         "name": "[TG(53:9),TG(52:2)]_FA14:0",
         "offsetgroup": "[TG(53:9),TG(52:2)]_FA14:0",
         "orientation": "v",
         "showlegend": true,
         "textposition": "auto",
         "type": "bar",
         "x": [
          "876.8 -> 631.6"
         ],
         "xaxis": "x",
         "y": [
          56664.44418334961
         ],
         "yaxis": "y"
        },
        {
         "alignmentgroup": "True",
         "customdata": [
          [
           "[TG(53:8),TG(52:1)]_FA14:0",
           "TAG"
          ]
         ],
         "hovertemplate": "Lipid=%{customdata[0]}<br>Transition=%{x}<br>Intensity=%{y}<br>Class=%{customdata[1]}<extra></extra>",
         "legendgroup": "[TG(53:8),TG(52:1)]_FA14:0",
         "marker": {
          "color": "#EF553B"
         },
         "name": "[TG(53:8),TG(52:1)]_FA14:0",
         "offsetgroup": "[TG(53:8),TG(52:1)]_FA14:0",
         "orientation": "v",
         "showlegend": true,
         "textposition": "auto",
         "type": "bar",
         "x": [
          "878.8 -> 633.6"
         ],
         "xaxis": "x",
         "y": [
          47311.622985839844
         ],
         "yaxis": "y"
        },
        {
         "alignmentgroup": "True",
         "customdata": [
          [
           "[TG(53:7),TG(52:0)]_FA14:0",
           "TAG"
          ]
         ],
         "hovertemplate": "Lipid=%{customdata[0]}<br>Transition=%{x}<br>Intensity=%{y}<br>Class=%{customdata[1]}<extra></extra>",
         "legendgroup": "[TG(53:7),TG(52:0)]_FA14:0",
         "marker": {
          "color": "#00cc96"
         },
         "name": "[TG(53:7),TG(52:0)]_FA14:0",
         "offsetgroup": "[TG(53:7),TG(52:0)]_FA14:0",
         "orientation": "v",
         "showlegend": true,
         "textposition": "auto",
         "type": "bar",
         "x": [
          "880.8 -> 635.6"
         ],
         "xaxis": "x",
         "y": [
          30805.982299804688
         ],
         "yaxis": "y"
        },
        {
         "alignmentgroup": "True",
         "customdata": [
          [
           "[TG(53:6)]_FA14:0",
           "TAG"
          ]
         ],
         "hovertemplate": "Lipid=%{customdata[0]}<br>Transition=%{x}<br>Intensity=%{y}<br>Class=%{customdata[1]}<extra></extra>",
         "legendgroup": "[TG(53:6)]_FA14:0",
         "marker": {
          "color": "#ab63fa"
         },
         "name": "[TG(53:6)]_FA14:0",
         "offsetgroup": "[TG(53:6)]_FA14:0",
         "orientation": "v",
         "showlegend": true,
         "textposition": "auto",
         "type": "bar",
         "x": [
          "882.8 -> 637.6"
         ],
         "xaxis": "x",
         "y": [
          26174.721771240234
         ],
         "yaxis": "y"
        },
        {
         "alignmentgroup": "True",
         "customdata": [
          [
           "[TG(54:12),TG(53:5)]_FA14:0",
           "TAG"
          ]
         ],
         "hovertemplate": "Lipid=%{customdata[0]}<br>Transition=%{x}<br>Intensity=%{y}<br>Class=%{customdata[1]}<extra></extra>",
         "legendgroup": "[TG(54:12),TG(53:5)]_FA14:0",
         "marker": {
          "color": "#FFA15A"
         },
         "name": "[TG(54:12),TG(53:5)]_FA14:0",
         "offsetgroup": "[TG(54:12),TG(53:5)]_FA14:0",
         "orientation": "v",
         "showlegend": true,
         "textposition": "auto",
         "type": "bar",
         "x": [
          "884.8 -> 639.6"
         ],
         "xaxis": "x",
         "y": [
          25399.10171508789
         ],
         "yaxis": "y"
        },
        {
         "alignmentgroup": "True",
         "customdata": [
          [
           "[TG(54:11),TG(53:4)]_FA14:0",
           "TAG"
          ]
         ],
         "hovertemplate": "Lipid=%{customdata[0]}<br>Transition=%{x}<br>Intensity=%{y}<br>Class=%{customdata[1]}<extra></extra>",
         "legendgroup": "[TG(54:11),TG(53:4)]_FA14:0",
         "marker": {
          "color": "#19d3f3"
         },
         "name": "[TG(54:11),TG(53:4)]_FA14:0",
         "offsetgroup": "[TG(54:11),TG(53:4)]_FA14:0",
         "orientation": "v",
         "showlegend": true,
         "textposition": "auto",
         "type": "bar",
         "x": [
          "886.8 -> 641.6"
         ],
         "xaxis": "x",
         "y": [
          25004.141693115234
         ],
         "yaxis": "y"
        },
        {
         "alignmentgroup": "True",
         "customdata": [
          [
           "[TG(54:10),TG(53:3)]_FA14:0",
           "TAG"
          ]
         ],
         "hovertemplate": "Lipid=%{customdata[0]}<br>Transition=%{x}<br>Intensity=%{y}<br>Class=%{customdata[1]}<extra></extra>",
         "legendgroup": "[TG(54:10),TG(53:3)]_FA14:0",
         "marker": {
          "color": "#FF6692"
         },
         "name": "[TG(54:10),TG(53:3)]_FA14:0",
         "offsetgroup": "[TG(54:10),TG(53:3)]_FA14:0",
         "orientation": "v",
         "showlegend": true,
         "textposition": "auto",
         "type": "bar",
         "x": [
          "888.8 -> 643.6"
         ],
         "xaxis": "x",
         "y": [
          31147.182556152344
         ],
         "yaxis": "y"
        },
        {
         "alignmentgroup": "True",
         "customdata": [
          [
           "[TG(54:9),TG(53:2)]_FA14:0",
           "TAG"
          ]
         ],
         "hovertemplate": "Lipid=%{customdata[0]}<br>Transition=%{x}<br>Intensity=%{y}<br>Class=%{customdata[1]}<extra></extra>",
         "legendgroup": "[TG(54:9),TG(53:2)]_FA14:0",
         "marker": {
          "color": "#B6E880"
         },
         "name": "[TG(54:9),TG(53:2)]_FA14:0",
         "offsetgroup": "[TG(54:9),TG(53:2)]_FA14:0",
         "orientation": "v",
         "showlegend": true,
         "textposition": "auto",
         "type": "bar",
         "x": [
          "890.8 -> 645.6"
         ],
         "xaxis": "x",
         "y": [
          38980.08303833008
         ],
         "yaxis": "y"
        },
        {
         "alignmentgroup": "True",
         "customdata": [
          [
           "[TG(54:8),TG(53:1)]_FA14:0",
           "TAG"
          ]
         ],
         "hovertemplate": "Lipid=%{customdata[0]}<br>Transition=%{x}<br>Intensity=%{y}<br>Class=%{customdata[1]}<extra></extra>",
         "legendgroup": "[TG(54:8),TG(53:1)]_FA14:0",
         "marker": {
          "color": "#FF97FF"
         },
         "name": "[TG(54:8),TG(53:1)]_FA14:0",
         "offsetgroup": "[TG(54:8),TG(53:1)]_FA14:0",
         "orientation": "v",
         "showlegend": true,
         "textposition": "auto",
         "type": "bar",
         "x": [
          "892.8 -> 647.6"
         ],
         "xaxis": "x",
         "y": [
          46906.80307006836
         ],
         "yaxis": "y"
        },
        {
         "alignmentgroup": "True",
         "customdata": [
          [
           "[TG(54:7),TG(53:0)]_FA14:0",
           "TAG"
          ]
         ],
         "hovertemplate": "Lipid=%{customdata[0]}<br>Transition=%{x}<br>Intensity=%{y}<br>Class=%{customdata[1]}<extra></extra>",
         "legendgroup": "[TG(54:7),TG(53:0)]_FA14:0",
         "marker": {
          "color": "#FECB52"
         },
         "name": "[TG(54:7),TG(53:0)]_FA14:0",
         "offsetgroup": "[TG(54:7),TG(53:0)]_FA14:0",
         "orientation": "v",
         "showlegend": true,
         "textposition": "auto",
         "type": "bar",
         "x": [
          "894.8 -> 649.6"
         ],
         "xaxis": "x",
         "y": [
          38897.4231262207
         ],
         "yaxis": "y"
        },
        {
         "alignmentgroup": "True",
         "customdata": [
          [
           "[TG(54:6)]_FA14:0",
           "TAG"
          ]
         ],
         "hovertemplate": "Lipid=%{customdata[0]}<br>Transition=%{x}<br>Intensity=%{y}<br>Class=%{customdata[1]}<extra></extra>",
         "legendgroup": "[TG(54:6)]_FA14:0",
         "marker": {
          "color": "#636efa"
         },
         "name": "[TG(54:6)]_FA14:0",
         "offsetgroup": "[TG(54:6)]_FA14:0",
         "orientation": "v",
         "showlegend": true,
         "textposition": "auto",
         "type": "bar",
         "x": [
          "896.8 -> 651.6"
         ],
         "xaxis": "x",
         "y": [
          73665.94470214844
         ],
         "yaxis": "y"
        },
        {
         "alignmentgroup": "True",
         "customdata": [
          [
           "[TG(54:5)]_FA14:0",
           "TAG"
          ]
         ],
         "hovertemplate": "Lipid=%{customdata[0]}<br>Transition=%{x}<br>Intensity=%{y}<br>Class=%{customdata[1]}<extra></extra>",
         "legendgroup": "[TG(54:5)]_FA14:0",
         "marker": {
          "color": "#EF553B"
         },
         "name": "[TG(54:5)]_FA14:0",
         "offsetgroup": "[TG(54:5)]_FA14:0",
         "orientation": "v",
         "showlegend": true,
         "textposition": "auto",
         "type": "bar",
         "x": [
          "898.8 -> 653.6"
         ],
         "xaxis": "x",
         "y": [
          41898.76268005371
         ],
         "yaxis": "y"
        },
        {
         "alignmentgroup": "True",
         "customdata": [
          [
           "[TG(55:11),TG(54:4)]_FA14:0",
           "TAG"
          ]
         ],
         "hovertemplate": "Lipid=%{customdata[0]}<br>Transition=%{x}<br>Intensity=%{y}<br>Class=%{customdata[1]}<extra></extra>",
         "legendgroup": "[TG(55:11),TG(54:4)]_FA14:0",
         "marker": {
          "color": "#00cc96"
         },
         "name": "[TG(55:11),TG(54:4)]_FA14:0",
         "offsetgroup": "[TG(55:11),TG(54:4)]_FA14:0",
         "orientation": "v",
         "showlegend": true,
         "textposition": "auto",
         "type": "bar",
         "x": [
          "900.8 -> 655.6"
         ],
         "xaxis": "x",
         "y": [
          28414.301971435547
         ],
         "yaxis": "y"
        },
        {
         "alignmentgroup": "True",
         "customdata": [
          [
           "[TG(55:10),TG(54:3)]_FA14:0",
           "TAG"
          ]
         ],
         "hovertemplate": "Lipid=%{customdata[0]}<br>Transition=%{x}<br>Intensity=%{y}<br>Class=%{customdata[1]}<extra></extra>",
         "legendgroup": "[TG(55:10),TG(54:3)]_FA14:0",
         "marker": {
          "color": "#ab63fa"
         },
         "name": "[TG(55:10),TG(54:3)]_FA14:0",
         "offsetgroup": "[TG(55:10),TG(54:3)]_FA14:0",
         "orientation": "v",
         "showlegend": true,
         "textposition": "auto",
         "type": "bar",
         "x": [
          "902.8 -> 657.6"
         ],
         "xaxis": "x",
         "y": [
          30718.442108154297
         ],
         "yaxis": "y"
        },
        {
         "alignmentgroup": "True",
         "customdata": [
          [
           "[TG(55:9),TG(54:2)]_FA14:0",
           "TAG"
          ]
         ],
         "hovertemplate": "Lipid=%{customdata[0]}<br>Transition=%{x}<br>Intensity=%{y}<br>Class=%{customdata[1]}<extra></extra>",
         "legendgroup": "[TG(55:9),TG(54:2)]_FA14:0",
         "marker": {
          "color": "#FFA15A"
         },
         "name": "[TG(55:9),TG(54:2)]_FA14:0",
         "offsetgroup": "[TG(55:9),TG(54:2)]_FA14:0",
         "orientation": "v",
         "showlegend": true,
         "textposition": "auto",
         "type": "bar",
         "x": [
          "904.8 -> 659.6"
         ],
         "xaxis": "x",
         "y": [
          33424.282623291016
         ],
         "yaxis": "y"
        },
        {
         "alignmentgroup": "True",
         "customdata": [
          [
           "[TG(55:8),TG(54:1)]_FA14:0",
           "TAG"
          ]
         ],
         "hovertemplate": "Lipid=%{customdata[0]}<br>Transition=%{x}<br>Intensity=%{y}<br>Class=%{customdata[1]}<extra></extra>",
         "legendgroup": "[TG(55:8),TG(54:1)]_FA14:0",
         "marker": {
          "color": "#19d3f3"
         },
         "name": "[TG(55:8),TG(54:1)]_FA14:0",
         "offsetgroup": "[TG(55:8),TG(54:1)]_FA14:0",
         "orientation": "v",
         "showlegend": true,
         "textposition": "auto",
         "type": "bar",
         "x": [
          "906.8 -> 661.6"
         ],
         "xaxis": "x",
         "y": [
          29007.38198852539
         ],
         "yaxis": "y"
        },
        {
         "alignmentgroup": "True",
         "customdata": [
          [
           "[TG(55:7),TG(54:0)]_FA14:0",
           "TAG"
          ]
         ],
         "hovertemplate": "Lipid=%{customdata[0]}<br>Transition=%{x}<br>Intensity=%{y}<br>Class=%{customdata[1]}<extra></extra>",
         "legendgroup": "[TG(55:7),TG(54:0)]_FA14:0",
         "marker": {
          "color": "#FF6692"
         },
         "name": "[TG(55:7),TG(54:0)]_FA14:0",
         "offsetgroup": "[TG(55:7),TG(54:0)]_FA14:0",
         "orientation": "v",
         "showlegend": true,
         "textposition": "auto",
         "type": "bar",
         "x": [
          "908.9 -> 663.7"
         ],
         "xaxis": "x",
         "y": [
          35497.86260986328
         ],
         "yaxis": "y"
        },
        {
         "alignmentgroup": "True",
         "customdata": [
          [
           "[TG(56:13),TG(55:6)]_FA14:0",
           "TAG"
          ]
         ],
         "hovertemplate": "Lipid=%{customdata[0]}<br>Transition=%{x}<br>Intensity=%{y}<br>Class=%{customdata[1]}<extra></extra>",
         "legendgroup": "[TG(56:13),TG(55:6)]_FA14:0",
         "marker": {
          "color": "#B6E880"
         },
         "name": "[TG(56:13),TG(55:6)]_FA14:0",
         "offsetgroup": "[TG(56:13),TG(55:6)]_FA14:0",
         "orientation": "v",
         "showlegend": true,
         "textposition": "auto",
         "type": "bar",
         "x": [
          "910.8 -> 665.6"
         ],
         "xaxis": "x",
         "y": [
          26408.881866455078
         ],
         "yaxis": "y"
        },
        {
         "alignmentgroup": "True",
         "customdata": [
          [
           "[TG(56:12),TG(55:5)]_FA14:0",
           "TAG"
          ]
         ],
         "hovertemplate": "Lipid=%{customdata[0]}<br>Transition=%{x}<br>Intensity=%{y}<br>Class=%{customdata[1]}<extra></extra>",
         "legendgroup": "[TG(56:12),TG(55:5)]_FA14:0",
         "marker": {
          "color": "#FF97FF"
         },
         "name": "[TG(56:12),TG(55:5)]_FA14:0",
         "offsetgroup": "[TG(56:12),TG(55:5)]_FA14:0",
         "orientation": "v",
         "showlegend": true,
         "textposition": "auto",
         "type": "bar",
         "x": [
          "912.8 -> 667.6"
         ],
         "xaxis": "x",
         "y": [
          22494.82162475586
         ],
         "yaxis": "y"
        },
        {
         "alignmentgroup": "True",
         "customdata": [
          [
           "[TG(56:11),TG(55:4)]_FA14:0",
           "TAG"
          ]
         ],
         "hovertemplate": "Lipid=%{customdata[0]}<br>Transition=%{x}<br>Intensity=%{y}<br>Class=%{customdata[1]}<extra></extra>",
         "legendgroup": "[TG(56:11),TG(55:4)]_FA14:0",
         "marker": {
          "color": "#FECB52"
         },
         "name": "[TG(56:11),TG(55:4)]_FA14:0",
         "offsetgroup": "[TG(56:11),TG(55:4)]_FA14:0",
         "orientation": "v",
         "showlegend": true,
         "textposition": "auto",
         "type": "bar",
         "x": [
          "914.8 -> 669.6"
         ],
         "xaxis": "x",
         "y": [
          25690.061798095703
         ],
         "yaxis": "y"
        },
        {
         "alignmentgroup": "True",
         "customdata": [
          [
           "[TG(56:10),TG(55:3)]_FA14:0",
           "TAG"
          ]
         ],
         "hovertemplate": "Lipid=%{customdata[0]}<br>Transition=%{x}<br>Intensity=%{y}<br>Class=%{customdata[1]}<extra></extra>",
         "legendgroup": "[TG(56:10),TG(55:3)]_FA14:0",
         "marker": {
          "color": "#636efa"
         },
         "name": "[TG(56:10),TG(55:3)]_FA14:0",
         "offsetgroup": "[TG(56:10),TG(55:3)]_FA14:0",
         "orientation": "v",
         "showlegend": true,
         "textposition": "auto",
         "type": "bar",
         "x": [
          "916.8 -> 671.6"
         ],
         "xaxis": "x",
         "y": [
          29631.141998291016
         ],
         "yaxis": "y"
        },
        {
         "alignmentgroup": "True",
         "customdata": [
          [
           "[TG(56:9),TG(55:2)]_FA14:0",
           "TAG"
          ]
         ],
         "hovertemplate": "Lipid=%{customdata[0]}<br>Transition=%{x}<br>Intensity=%{y}<br>Class=%{customdata[1]}<extra></extra>",
         "legendgroup": "[TG(56:9),TG(55:2)]_FA14:0",
         "marker": {
          "color": "#EF553B"
         },
         "name": "[TG(56:9),TG(55:2)]_FA14:0",
         "offsetgroup": "[TG(56:9),TG(55:2)]_FA14:0",
         "orientation": "v",
         "showlegend": true,
         "textposition": "auto",
         "type": "bar",
         "x": [
          "918.8 -> 673.6"
         ],
         "xaxis": "x",
         "y": [
          33327.52235412598
         ],
         "yaxis": "y"
        },
        {
         "alignmentgroup": "True",
         "customdata": [
          [
           "[TG(56:8),TG(55:1)]_FA14:0",
           "TAG"
          ]
         ],
         "hovertemplate": "Lipid=%{customdata[0]}<br>Transition=%{x}<br>Intensity=%{y}<br>Class=%{customdata[1]}<extra></extra>",
         "legendgroup": "[TG(56:8),TG(55:1)]_FA14:0",
         "marker": {
          "color": "#00cc96"
         },
         "name": "[TG(56:8),TG(55:1)]_FA14:0",
         "offsetgroup": "[TG(56:8),TG(55:1)]_FA14:0",
         "orientation": "v",
         "showlegend": true,
         "textposition": "auto",
         "type": "bar",
         "x": [
          "920.9 -> 675.7"
         ],
         "xaxis": "x",
         "y": [
          29645.14239501953
         ],
         "yaxis": "y"
        },
        {
         "alignmentgroup": "True",
         "customdata": [
          [
           "[TG(56:7),TG(55:0)]_FA14:0",
           "TAG"
          ]
         ],
         "hovertemplate": "Lipid=%{customdata[0]}<br>Transition=%{x}<br>Intensity=%{y}<br>Class=%{customdata[1]}<extra></extra>",
         "legendgroup": "[TG(56:7),TG(55:0)]_FA14:0",
         "marker": {
          "color": "#ab63fa"
         },
         "name": "[TG(56:7),TG(55:0)]_FA14:0",
         "offsetgroup": "[TG(56:7),TG(55:0)]_FA14:0",
         "orientation": "v",
         "showlegend": true,
         "textposition": "auto",
         "type": "bar",
         "x": [
          "922.9 -> 677.7"
         ],
         "xaxis": "x",
         "y": [
          23936.88168334961
         ],
         "yaxis": "y"
        },
        {
         "alignmentgroup": "True",
         "customdata": [
          [
           "[TG(56:6)]_FA14:0",
           "TAG"
          ]
         ],
         "hovertemplate": "Lipid=%{customdata[0]}<br>Transition=%{x}<br>Intensity=%{y}<br>Class=%{customdata[1]}<extra></extra>",
         "legendgroup": "[TG(56:6)]_FA14:0",
         "marker": {
          "color": "#FFA15A"
         },
         "name": "[TG(56:6)]_FA14:0",
         "offsetgroup": "[TG(56:6)]_FA14:0",
         "orientation": "v",
         "showlegend": true,
         "textposition": "auto",
         "type": "bar",
         "x": [
          "924.8 -> 679.6"
         ],
         "xaxis": "x",
         "y": [
          21959.361694335938
         ],
         "yaxis": "y"
        },
        {
         "alignmentgroup": "True",
         "customdata": [
          [
           "[TG(57:12),TG(56:5)]_FA14:0",
           "TAG"
          ]
         ],
         "hovertemplate": "Lipid=%{customdata[0]}<br>Transition=%{x}<br>Intensity=%{y}<br>Class=%{customdata[1]}<extra></extra>",
         "legendgroup": "[TG(57:12),TG(56:5)]_FA14:0",
         "marker": {
          "color": "#19d3f3"
         },
         "name": "[TG(57:12),TG(56:5)]_FA14:0",
         "offsetgroup": "[TG(57:12),TG(56:5)]_FA14:0",
         "orientation": "v",
         "showlegend": true,
         "textposition": "auto",
         "type": "bar",
         "x": [
          "926.8 -> 681.6"
         ],
         "xaxis": "x",
         "y": [
          20401.881622314453
         ],
         "yaxis": "y"
        },
        {
         "alignmentgroup": "True",
         "customdata": [
          [
           "[TG(57:11),TG(56:4)]_FA14:0",
           "TAG"
          ]
         ],
         "hovertemplate": "Lipid=%{customdata[0]}<br>Transition=%{x}<br>Intensity=%{y}<br>Class=%{customdata[1]}<extra></extra>",
         "legendgroup": "[TG(57:11),TG(56:4)]_FA14:0",
         "marker": {
          "color": "#FF6692"
         },
         "name": "[TG(57:11),TG(56:4)]_FA14:0",
         "offsetgroup": "[TG(57:11),TG(56:4)]_FA14:0",
         "orientation": "v",
         "showlegend": true,
         "textposition": "auto",
         "type": "bar",
         "x": [
          "928.8 -> 683.6"
         ],
         "xaxis": "x",
         "y": [
          20398.84147644043
         ],
         "yaxis": "y"
        },
        {
         "alignmentgroup": "True",
         "customdata": [
          [
           "[TG(57:10),TG(56:3)]_FA14:0",
           "TAG"
          ]
         ],
         "hovertemplate": "Lipid=%{customdata[0]}<br>Transition=%{x}<br>Intensity=%{y}<br>Class=%{customdata[1]}<extra></extra>",
         "legendgroup": "[TG(57:10),TG(56:3)]_FA14:0",
         "marker": {
          "color": "#B6E880"
         },
         "name": "[TG(57:10),TG(56:3)]_FA14:0",
         "offsetgroup": "[TG(57:10),TG(56:3)]_FA14:0",
         "orientation": "v",
         "showlegend": true,
         "textposition": "auto",
         "type": "bar",
         "x": [
          "930.8 -> 685.6"
         ],
         "xaxis": "x",
         "y": [
          25416.421936035156
         ],
         "yaxis": "y"
        },
        {
         "alignmentgroup": "True",
         "customdata": [
          [
           "[TG(57:9),TG(56:2)]_FA14:0",
           "TAG"
          ]
         ],
         "hovertemplate": "Lipid=%{customdata[0]}<br>Transition=%{x}<br>Intensity=%{y}<br>Class=%{customdata[1]}<extra></extra>",
         "legendgroup": "[TG(57:9),TG(56:2)]_FA14:0",
         "marker": {
          "color": "#FF97FF"
         },
         "name": "[TG(57:9),TG(56:2)]_FA14:0",
         "offsetgroup": "[TG(57:9),TG(56:2)]_FA14:0",
         "orientation": "v",
         "showlegend": true,
         "textposition": "auto",
         "type": "bar",
         "x": [
          "932.9 -> 687.7"
         ],
         "xaxis": "x",
         "y": [
          22382.361602783203
         ],
         "yaxis": "y"
        },
        {
         "alignmentgroup": "True",
         "customdata": [
          [
           "[TG(57:8),TG(56:1)]_FA14:0",
           "TAG"
          ]
         ],
         "hovertemplate": "Lipid=%{customdata[0]}<br>Transition=%{x}<br>Intensity=%{y}<br>Class=%{customdata[1]}<extra></extra>",
         "legendgroup": "[TG(57:8),TG(56:1)]_FA14:0",
         "marker": {
          "color": "#FECB52"
         },
         "name": "[TG(57:8),TG(56:1)]_FA14:0",
         "offsetgroup": "[TG(57:8),TG(56:1)]_FA14:0",
         "orientation": "v",
         "showlegend": true,
         "textposition": "auto",
         "type": "bar",
         "x": [
          "934.9 -> 689.7"
         ],
         "xaxis": "x",
         "y": [
          19609.461395263672
         ],
         "yaxis": "y"
        },
        {
         "alignmentgroup": "True",
         "customdata": [
          [
           "[TG(58:14),TG(57:7),TG(56:0)]_FA14:0",
           "TAG"
          ]
         ],
         "hovertemplate": "Lipid=%{customdata[0]}<br>Transition=%{x}<br>Intensity=%{y}<br>Class=%{customdata[1]}<extra></extra>",
         "legendgroup": "[TG(58:14),TG(57:7),TG(56:0)]_FA14:0",
         "marker": {
          "color": "#636efa"
         },
         "name": "[TG(58:14),TG(57:7),TG(56:0)]_FA14:0",
         "offsetgroup": "[TG(58:14),TG(57:7),TG(56:0)]_FA14:0",
         "orientation": "v",
         "showlegend": true,
         "textposition": "auto",
         "type": "bar",
         "x": [
          "936.9 -> 691.7"
         ],
         "xaxis": "x",
         "y": [
          22338.061492919922
         ],
         "yaxis": "y"
        },
        {
         "alignmentgroup": "True",
         "customdata": [
          [
           "[TG(58:13),TG(57:6)]_FA14:0",
           "TAG"
          ]
         ],
         "hovertemplate": "Lipid=%{customdata[0]}<br>Transition=%{x}<br>Intensity=%{y}<br>Class=%{customdata[1]}<extra></extra>",
         "legendgroup": "[TG(58:13),TG(57:6)]_FA14:0",
         "marker": {
          "color": "#EF553B"
         },
         "name": "[TG(58:13),TG(57:6)]_FA14:0",
         "offsetgroup": "[TG(58:13),TG(57:6)]_FA14:0",
         "orientation": "v",
         "showlegend": true,
         "textposition": "auto",
         "type": "bar",
         "x": [
          "938.8 -> 693.6"
         ],
         "xaxis": "x",
         "y": [
          29575.44204711914
         ],
         "yaxis": "y"
        },
        {
         "alignmentgroup": "True",
         "customdata": [
          [
           "[TG(58:12),TG(57:5)]_FA14:0",
           "TAG"
          ]
         ],
         "hovertemplate": "Lipid=%{customdata[0]}<br>Transition=%{x}<br>Intensity=%{y}<br>Class=%{customdata[1]}<extra></extra>",
         "legendgroup": "[TG(58:12),TG(57:5)]_FA14:0",
         "marker": {
          "color": "#00cc96"
         },
         "name": "[TG(58:12),TG(57:5)]_FA14:0",
         "offsetgroup": "[TG(58:12),TG(57:5)]_FA14:0",
         "orientation": "v",
         "showlegend": true,
         "textposition": "auto",
         "type": "bar",
         "x": [
          "940.8 -> 695.6"
         ],
         "xaxis": "x",
         "y": [
          20122.321487426758
         ],
         "yaxis": "y"
        },
        {
         "alignmentgroup": "True",
         "customdata": [
          [
           "[TG(58:11),TG(57:4)]_FA14:0",
           "TAG"
          ]
         ],
         "hovertemplate": "Lipid=%{customdata[0]}<br>Transition=%{x}<br>Intensity=%{y}<br>Class=%{customdata[1]}<extra></extra>",
         "legendgroup": "[TG(58:11),TG(57:4)]_FA14:0",
         "marker": {
          "color": "#ab63fa"
         },
         "name": "[TG(58:11),TG(57:4)]_FA14:0",
         "offsetgroup": "[TG(58:11),TG(57:4)]_FA14:0",
         "orientation": "v",
         "showlegend": true,
         "textposition": "auto",
         "type": "bar",
         "x": [
          "942.8 -> 697.6"
         ],
         "xaxis": "x",
         "y": [
          20873.68148803711
         ],
         "yaxis": "y"
        },
        {
         "alignmentgroup": "True",
         "customdata": [
          [
           "[TG(58:10),TG(57:3)]_FA14:0",
           "TAG"
          ]
         ],
         "hovertemplate": "Lipid=%{customdata[0]}<br>Transition=%{x}<br>Intensity=%{y}<br>Class=%{customdata[1]}<extra></extra>",
         "legendgroup": "[TG(58:10),TG(57:3)]_FA14:0",
         "marker": {
          "color": "#FFA15A"
         },
         "name": "[TG(58:10),TG(57:3)]_FA14:0",
         "offsetgroup": "[TG(58:10),TG(57:3)]_FA14:0",
         "orientation": "v",
         "showlegend": true,
         "textposition": "auto",
         "type": "bar",
         "x": [
          "944.9 -> 699.7"
         ],
         "xaxis": "x",
         "y": [
          20475.001525878906
         ],
         "yaxis": "y"
        },
        {
         "alignmentgroup": "True",
         "customdata": [
          [
           "[TG(58:9),TG(57:2)]_FA14:0",
           "TAG"
          ]
         ],
         "hovertemplate": "Lipid=%{customdata[0]}<br>Transition=%{x}<br>Intensity=%{y}<br>Class=%{customdata[1]}<extra></extra>",
         "legendgroup": "[TG(58:9),TG(57:2)]_FA14:0",
         "marker": {
          "color": "#19d3f3"
         },
         "name": "[TG(58:9),TG(57:2)]_FA14:0",
         "offsetgroup": "[TG(58:9),TG(57:2)]_FA14:0",
         "orientation": "v",
         "showlegend": true,
         "textposition": "auto",
         "type": "bar",
         "x": [
          "946.9 -> 701.7"
         ],
         "xaxis": "x",
         "y": [
          19687.661422729492
         ],
         "yaxis": "y"
        },
        {
         "alignmentgroup": "True",
         "customdata": [
          [
           "[TG(58:8),TG(57:1)]_FA14:0",
           "TAG"
          ]
         ],
         "hovertemplate": "Lipid=%{customdata[0]}<br>Transition=%{x}<br>Intensity=%{y}<br>Class=%{customdata[1]}<extra></extra>",
         "legendgroup": "[TG(58:8),TG(57:1)]_FA14:0",
         "marker": {
          "color": "#FF6692"
         },
         "name": "[TG(58:8),TG(57:1)]_FA14:0",
         "offsetgroup": "[TG(58:8),TG(57:1)]_FA14:0",
         "orientation": "v",
         "showlegend": true,
         "textposition": "auto",
         "type": "bar",
         "x": [
          "948.9 -> 703.7"
         ],
         "xaxis": "x",
         "y": [
          17986.1212310791
         ],
         "yaxis": "y"
        },
        {
         "alignmentgroup": "True",
         "customdata": [
          [
           "[TG(58:7),TG(57:0)]_FA14:0",
           "TAG"
          ]
         ],
         "hovertemplate": "Lipid=%{customdata[0]}<br>Transition=%{x}<br>Intensity=%{y}<br>Class=%{customdata[1]}<extra></extra>",
         "legendgroup": "[TG(58:7),TG(57:0)]_FA14:0",
         "marker": {
          "color": "#B6E880"
         },
         "name": "[TG(58:7),TG(57:0)]_FA14:0",
         "offsetgroup": "[TG(58:7),TG(57:0)]_FA14:0",
         "orientation": "v",
         "showlegend": true,
         "textposition": "auto",
         "type": "bar",
         "x": [
          "950.9 -> 705.7"
         ],
         "xaxis": "x",
         "y": [
          16909.581176757812
         ],
         "yaxis": "y"
        },
        {
         "alignmentgroup": "True",
         "customdata": [
          [
           "[TG(59:13),TG(58:6)]_FA14:0",
           "TAG"
          ]
         ],
         "hovertemplate": "Lipid=%{customdata[0]}<br>Transition=%{x}<br>Intensity=%{y}<br>Class=%{customdata[1]}<extra></extra>",
         "legendgroup": "[TG(59:13),TG(58:6)]_FA14:0",
         "marker": {
          "color": "#FF97FF"
         },
         "name": "[TG(59:13),TG(58:6)]_FA14:0",
         "offsetgroup": "[TG(59:13),TG(58:6)]_FA14:0",
         "orientation": "v",
         "showlegend": true,
         "textposition": "auto",
         "type": "bar",
         "x": [
          "952.8 -> 707.6"
         ],
         "xaxis": "x",
         "y": [
          17760.02130126953
         ],
         "yaxis": "y"
        },
        {
         "alignmentgroup": "True",
         "customdata": [
          [
           "[TG(59:12),TG(58:5)]_FA14:0",
           "TAG"
          ]
         ],
         "hovertemplate": "Lipid=%{customdata[0]}<br>Transition=%{x}<br>Intensity=%{y}<br>Class=%{customdata[1]}<extra></extra>",
         "legendgroup": "[TG(59:12),TG(58:5)]_FA14:0",
         "marker": {
          "color": "#FECB52"
         },
         "name": "[TG(59:12),TG(58:5)]_FA14:0",
         "offsetgroup": "[TG(59:12),TG(58:5)]_FA14:0",
         "orientation": "v",
         "showlegend": true,
         "textposition": "auto",
         "type": "bar",
         "x": [
          "954.8 -> 709.6"
         ],
         "xaxis": "x",
         "y": [
          17154.881271362305
         ],
         "yaxis": "y"
        },
        {
         "alignmentgroup": "True",
         "customdata": [
          [
           "[TG(59:11),TG(58:4)]_FA14:0",
           "TAG"
          ]
         ],
         "hovertemplate": "Lipid=%{customdata[0]}<br>Transition=%{x}<br>Intensity=%{y}<br>Class=%{customdata[1]}<extra></extra>",
         "legendgroup": "[TG(59:11),TG(58:4)]_FA14:0",
         "marker": {
          "color": "#636efa"
         },
         "name": "[TG(59:11),TG(58:4)]_FA14:0",
         "offsetgroup": "[TG(59:11),TG(58:4)]_FA14:0",
         "orientation": "v",
         "showlegend": true,
         "textposition": "auto",
         "type": "bar",
         "x": [
          "956.9 -> 711.7"
         ],
         "xaxis": "x",
         "y": [
          17369.481216430664
         ],
         "yaxis": "y"
        },
        {
         "alignmentgroup": "True",
         "customdata": [
          [
           "[TG(59:10),TG(58:3)]_FA14:0",
           "TAG"
          ]
         ],
         "hovertemplate": "Lipid=%{customdata[0]}<br>Transition=%{x}<br>Intensity=%{y}<br>Class=%{customdata[1]}<extra></extra>",
         "legendgroup": "[TG(59:10),TG(58:3)]_FA14:0",
         "marker": {
          "color": "#EF553B"
         },
         "name": "[TG(59:10),TG(58:3)]_FA14:0",
         "offsetgroup": "[TG(59:10),TG(58:3)]_FA14:0",
         "orientation": "v",
         "showlegend": true,
         "textposition": "auto",
         "type": "bar",
         "x": [
          "958.9 -> 713.7"
         ],
         "xaxis": "x",
         "y": [
          17000.50129699707
         ],
         "yaxis": "y"
        },
        {
         "alignmentgroup": "True",
         "customdata": [
          [
           "[TG(59:9),TG(58:2)]_FA14:0",
           "TAG"
          ]
         ],
         "hovertemplate": "Lipid=%{customdata[0]}<br>Transition=%{x}<br>Intensity=%{y}<br>Class=%{customdata[1]}<extra></extra>",
         "legendgroup": "[TG(59:9),TG(58:2)]_FA14:0",
         "marker": {
          "color": "#00cc96"
         },
         "name": "[TG(59:9),TG(58:2)]_FA14:0",
         "offsetgroup": "[TG(59:9),TG(58:2)]_FA14:0",
         "orientation": "v",
         "showlegend": true,
         "textposition": "auto",
         "type": "bar",
         "x": [
          "960.9 -> 715.7"
         ],
         "xaxis": "x",
         "y": [
          14471.141006469727
         ],
         "yaxis": "y"
        },
        {
         "alignmentgroup": "True",
         "customdata": [
          [
           "[TG(60:15),TG(59:8),TG(58:1)]_FA14:0",
           "TAG"
          ]
         ],
         "hovertemplate": "Lipid=%{customdata[0]}<br>Transition=%{x}<br>Intensity=%{y}<br>Class=%{customdata[1]}<extra></extra>",
         "legendgroup": "[TG(60:15),TG(59:8),TG(58:1)]_FA14:0",
         "marker": {
          "color": "#ab63fa"
         },
         "name": "[TG(60:15),TG(59:8),TG(58:1)]_FA14:0",
         "offsetgroup": "[TG(60:15),TG(59:8),TG(58:1)]_FA14:0",
         "orientation": "v",
         "showlegend": true,
         "textposition": "auto",
         "type": "bar",
         "x": [
          "962.9 -> 717.7"
         ],
         "xaxis": "x",
         "y": [
          17327.96128845215
         ],
         "yaxis": "y"
        },
        {
         "alignmentgroup": "True",
         "customdata": [
          [
           "[TG(60:14),TG(59:7),TG(58:0)]_FA14:0",
           "TAG"
          ]
         ],
         "hovertemplate": "Lipid=%{customdata[0]}<br>Transition=%{x}<br>Intensity=%{y}<br>Class=%{customdata[1]}<extra></extra>",
         "legendgroup": "[TG(60:14),TG(59:7),TG(58:0)]_FA14:0",
         "marker": {
          "color": "#FFA15A"
         },
         "name": "[TG(60:14),TG(59:7),TG(58:0)]_FA14:0",
         "offsetgroup": "[TG(60:14),TG(59:7),TG(58:0)]_FA14:0",
         "orientation": "v",
         "showlegend": true,
         "textposition": "auto",
         "type": "bar",
         "x": [
          "964.9 -> 719.7"
         ],
         "xaxis": "x",
         "y": [
          15586.361099243164
         ],
         "yaxis": "y"
        },
        {
         "alignmentgroup": "True",
         "customdata": [
          [
           "[TG(60:13),TG(59:6)]_FA14:0",
           "TAG"
          ]
         ],
         "hovertemplate": "Lipid=%{customdata[0]}<br>Transition=%{x}<br>Intensity=%{y}<br>Class=%{customdata[1]}<extra></extra>",
         "legendgroup": "[TG(60:13),TG(59:6)]_FA14:0",
         "marker": {
          "color": "#19d3f3"
         },
         "name": "[TG(60:13),TG(59:6)]_FA14:0",
         "offsetgroup": "[TG(60:13),TG(59:6)]_FA14:0",
         "orientation": "v",
         "showlegend": true,
         "textposition": "auto",
         "type": "bar",
         "x": [
          "966.8 -> 721.6"
         ],
         "xaxis": "x",
         "y": [
          15192.34105682373
         ],
         "yaxis": "y"
        },
        {
         "alignmentgroup": "True",
         "customdata": [
          [
           "[TG(60:12),TG(59:5)]_FA14:0",
           "TAG"
          ]
         ],
         "hovertemplate": "Lipid=%{customdata[0]}<br>Transition=%{x}<br>Intensity=%{y}<br>Class=%{customdata[1]}<extra></extra>",
         "legendgroup": "[TG(60:12),TG(59:5)]_FA14:0",
         "marker": {
          "color": "#FF6692"
         },
         "name": "[TG(60:12),TG(59:5)]_FA14:0",
         "offsetgroup": "[TG(60:12),TG(59:5)]_FA14:0",
         "orientation": "v",
         "showlegend": true,
         "textposition": "auto",
         "type": "bar",
         "x": [
          "968.9 -> 723.7"
         ],
         "xaxis": "x",
         "y": [
          16057.961143493652
         ],
         "yaxis": "y"
        },
        {
         "alignmentgroup": "True",
         "customdata": [
          [
           "[TG(60:11),TG(59:4)]_FA14:0",
           "TAG"
          ]
         ],
         "hovertemplate": "Lipid=%{customdata[0]}<br>Transition=%{x}<br>Intensity=%{y}<br>Class=%{customdata[1]}<extra></extra>",
         "legendgroup": "[TG(60:11),TG(59:4)]_FA14:0",
         "marker": {
          "color": "#B6E880"
         },
         "name": "[TG(60:11),TG(59:4)]_FA14:0",
         "offsetgroup": "[TG(60:11),TG(59:4)]_FA14:0",
         "orientation": "v",
         "showlegend": true,
         "textposition": "auto",
         "type": "bar",
         "x": [
          "970.9 -> 725.7"
         ],
         "xaxis": "x",
         "y": [
          29432.862243652344
         ],
         "yaxis": "y"
        },
        {
         "alignmentgroup": "True",
         "customdata": [
          [
           "[TG(60:10),TG(59:3)]_FA14:0",
           "TAG"
          ]
         ],
         "hovertemplate": "Lipid=%{customdata[0]}<br>Transition=%{x}<br>Intensity=%{y}<br>Class=%{customdata[1]}<extra></extra>",
         "legendgroup": "[TG(60:10),TG(59:3)]_FA14:0",
         "marker": {
          "color": "#FF97FF"
         },
         "name": "[TG(60:10),TG(59:3)]_FA14:0",
         "offsetgroup": "[TG(60:10),TG(59:3)]_FA14:0",
         "orientation": "v",
         "showlegend": true,
         "textposition": "auto",
         "type": "bar",
         "x": [
          "972.9 -> 727.7"
         ],
         "xaxis": "x",
         "y": [
          21032.461456298828
         ],
         "yaxis": "y"
        },
        {
         "alignmentgroup": "True",
         "customdata": [
          [
           "[TG(60:9),TG(59:2)]_FA14:0",
           "TAG"
          ]
         ],
         "hovertemplate": "Lipid=%{customdata[0]}<br>Transition=%{x}<br>Intensity=%{y}<br>Class=%{customdata[1]}<extra></extra>",
         "legendgroup": "[TG(60:9),TG(59:2)]_FA14:0",
         "marker": {
          "color": "#FECB52"
         },
         "name": "[TG(60:9),TG(59:2)]_FA14:0",
         "offsetgroup": "[TG(60:9),TG(59:2)]_FA14:0",
         "orientation": "v",
         "showlegend": true,
         "textposition": "auto",
         "type": "bar",
         "x": [
          "974.9 -> 729.7"
         ],
         "xaxis": "x",
         "y": [
          15778.50112915039
         ],
         "yaxis": "y"
        },
        {
         "alignmentgroup": "True",
         "customdata": [
          [
           "[TG(60:8),TG(59:1)]_FA14:0",
           "TAG"
          ]
         ],
         "hovertemplate": "Lipid=%{customdata[0]}<br>Transition=%{x}<br>Intensity=%{y}<br>Class=%{customdata[1]}<extra></extra>",
         "legendgroup": "[TG(60:8),TG(59:1)]_FA14:0",
         "marker": {
          "color": "#636efa"
         },
         "name": "[TG(60:8),TG(59:1)]_FA14:0",
         "offsetgroup": "[TG(60:8),TG(59:1)]_FA14:0",
         "orientation": "v",
         "showlegend": true,
         "textposition": "auto",
         "type": "bar",
         "x": [
          "976.9 -> 731.7"
         ],
         "xaxis": "x",
         "y": [
          13972.840942382812
         ],
         "yaxis": "y"
        },
        {
         "alignmentgroup": "True",
         "customdata": [
          [
           "[TG(61:14),TG(60:7),TG(59:0)]_FA14:0",
           "TAG"
          ]
         ],
         "hovertemplate": "Lipid=%{customdata[0]}<br>Transition=%{x}<br>Intensity=%{y}<br>Class=%{customdata[1]}<extra></extra>",
         "legendgroup": "[TG(61:14),TG(60:7),TG(59:0)]_FA14:0",
         "marker": {
          "color": "#EF553B"
         },
         "name": "[TG(61:14),TG(60:7),TG(59:0)]_FA14:0",
         "offsetgroup": "[TG(61:14),TG(60:7),TG(59:0)]_FA14:0",
         "orientation": "v",
         "showlegend": true,
         "textposition": "auto",
         "type": "bar",
         "x": [
          "978.9 -> 733.7"
         ],
         "xaxis": "x",
         "y": [
          15361.26107788086
         ],
         "yaxis": "y"
        },
        {
         "alignmentgroup": "True",
         "customdata": [
          [
           "[TG(61:13),TG(60:6)]_FA14:0",
           "TAG"
          ]
         ],
         "hovertemplate": "Lipid=%{customdata[0]}<br>Transition=%{x}<br>Intensity=%{y}<br>Class=%{customdata[1]}<extra></extra>",
         "legendgroup": "[TG(61:13),TG(60:6)]_FA14:0",
         "marker": {
          "color": "#00cc96"
         },
         "name": "[TG(61:13),TG(60:6)]_FA14:0",
         "offsetgroup": "[TG(61:13),TG(60:6)]_FA14:0",
         "orientation": "v",
         "showlegend": true,
         "textposition": "auto",
         "type": "bar",
         "x": [
          "980.9 -> 735.7"
         ],
         "xaxis": "x",
         "y": [
          14665.92106628418
         ],
         "yaxis": "y"
        },
        {
         "alignmentgroup": "True",
         "customdata": [
          [
           "[TG(61:12),TG(60:5)]_FA14:0",
           "TAG"
          ]
         ],
         "hovertemplate": "Lipid=%{customdata[0]}<br>Transition=%{x}<br>Intensity=%{y}<br>Class=%{customdata[1]}<extra></extra>",
         "legendgroup": "[TG(61:12),TG(60:5)]_FA14:0",
         "marker": {
          "color": "#ab63fa"
         },
         "name": "[TG(61:12),TG(60:5)]_FA14:0",
         "offsetgroup": "[TG(61:12),TG(60:5)]_FA14:0",
         "orientation": "v",
         "showlegend": true,
         "textposition": "auto",
         "type": "bar",
         "x": [
          "982.9 -> 737.7"
         ],
         "xaxis": "x",
         "y": [
          12983.740997314453
         ],
         "yaxis": "y"
        },
        {
         "alignmentgroup": "True",
         "customdata": [
          [
           "[TG(61:11),TG(60:4)]_FA14:0",
           "TAG"
          ]
         ],
         "hovertemplate": "Lipid=%{customdata[0]}<br>Transition=%{x}<br>Intensity=%{y}<br>Class=%{customdata[1]}<extra></extra>",
         "legendgroup": "[TG(61:11),TG(60:4)]_FA14:0",
         "marker": {
          "color": "#FFA15A"
         },
         "name": "[TG(61:11),TG(60:4)]_FA14:0",
         "offsetgroup": "[TG(61:11),TG(60:4)]_FA14:0",
         "orientation": "v",
         "showlegend": true,
         "textposition": "auto",
         "type": "bar",
         "x": [
          "984.9 -> 739.7"
         ],
         "xaxis": "x",
         "y": [
          16507.40118408203
         ],
         "yaxis": "y"
        },
        {
         "alignmentgroup": "True",
         "customdata": [
          [
           "[TG(61:10),TG(60:3)]_FA14:0",
           "TAG"
          ]
         ],
         "hovertemplate": "Lipid=%{customdata[0]}<br>Transition=%{x}<br>Intensity=%{y}<br>Class=%{customdata[1]}<extra></extra>",
         "legendgroup": "[TG(61:10),TG(60:3)]_FA14:0",
         "marker": {
          "color": "#19d3f3"
         },
         "name": "[TG(61:10),TG(60:3)]_FA14:0",
         "offsetgroup": "[TG(61:10),TG(60:3)]_FA14:0",
         "orientation": "v",
         "showlegend": true,
         "textposition": "auto",
         "type": "bar",
         "x": [
          "986.9 -> 741.7"
         ],
         "xaxis": "x",
         "y": [
          15164.080978393555
         ],
         "yaxis": "y"
        },
        {
         "alignmentgroup": "True",
         "customdata": [
          [
           "[TG(62:16),TG(61:9),TG(60:2)]_FA14:0",
           "TAG"
          ]
         ],
         "hovertemplate": "Lipid=%{customdata[0]}<br>Transition=%{x}<br>Intensity=%{y}<br>Class=%{customdata[1]}<extra></extra>",
         "legendgroup": "[TG(62:16),TG(61:9),TG(60:2)]_FA14:0",
         "marker": {
          "color": "#FF6692"
         },
         "name": "[TG(62:16),TG(61:9),TG(60:2)]_FA14:0",
         "offsetgroup": "[TG(62:16),TG(61:9),TG(60:2)]_FA14:0",
         "orientation": "v",
         "showlegend": true,
         "textposition": "auto",
         "type": "bar",
         "x": [
          "988.9 -> 743.7"
         ],
         "xaxis": "x",
         "y": [
          16115.021049499512
         ],
         "yaxis": "y"
        },
        {
         "alignmentgroup": "True",
         "customdata": [
          [
           "[TG(62:15),TG(61:8),TG(60:1)]_FA14:0",
           "TAG"
          ]
         ],
         "hovertemplate": "Lipid=%{customdata[0]}<br>Transition=%{x}<br>Intensity=%{y}<br>Class=%{customdata[1]}<extra></extra>",
         "legendgroup": "[TG(62:15),TG(61:8),TG(60:1)]_FA14:0",
         "marker": {
          "color": "#B6E880"
         },
         "name": "[TG(62:15),TG(61:8),TG(60:1)]_FA14:0",
         "offsetgroup": "[TG(62:15),TG(61:8),TG(60:1)]_FA14:0",
         "orientation": "v",
         "showlegend": true,
         "textposition": "auto",
         "type": "bar",
         "x": [
          "990.9 -> 745.7"
         ],
         "xaxis": "x",
         "y": [
          14670.80093383789
         ],
         "yaxis": "y"
        },
        {
         "alignmentgroup": "True",
         "customdata": [
          [
           "[TG(62:14),TG(61:7),TG(60:0)]_FA14:0",
           "TAG"
          ]
         ],
         "hovertemplate": "Lipid=%{customdata[0]}<br>Transition=%{x}<br>Intensity=%{y}<br>Class=%{customdata[1]}<extra></extra>",
         "legendgroup": "[TG(62:14),TG(61:7),TG(60:0)]_FA14:0",
         "marker": {
          "color": "#FF97FF"
         },
         "name": "[TG(62:14),TG(61:7),TG(60:0)]_FA14:0",
         "offsetgroup": "[TG(62:14),TG(61:7),TG(60:0)]_FA14:0",
         "orientation": "v",
         "showlegend": true,
         "textposition": "auto",
         "type": "bar",
         "x": [
          "993.0 -> 747.8"
         ],
         "xaxis": "x",
         "y": [
          11676.520835876465
         ],
         "yaxis": "y"
        },
        {
         "alignmentgroup": "True",
         "customdata": [
          [
           "[TG(62:13),TG(61:6)]_FA14:0",
           "TAG"
          ]
         ],
         "hovertemplate": "Lipid=%{customdata[0]}<br>Transition=%{x}<br>Intensity=%{y}<br>Class=%{customdata[1]}<extra></extra>",
         "legendgroup": "[TG(62:13),TG(61:6)]_FA14:0",
         "marker": {
          "color": "#FECB52"
         },
         "name": "[TG(62:13),TG(61:6)]_FA14:0",
         "offsetgroup": "[TG(62:13),TG(61:6)]_FA14:0",
         "orientation": "v",
         "showlegend": true,
         "textposition": "auto",
         "type": "bar",
         "x": [
          "994.9 -> 749.7"
         ],
         "xaxis": "x",
         "y": [
          12641.240867614746
         ],
         "yaxis": "y"
        },
        {
         "alignmentgroup": "True",
         "customdata": [
          [
           "[TG(62:12),TG(61:5)]_FA14:0",
           "TAG"
          ]
         ],
         "hovertemplate": "Lipid=%{customdata[0]}<br>Transition=%{x}<br>Intensity=%{y}<br>Class=%{customdata[1]}<extra></extra>",
         "legendgroup": "[TG(62:12),TG(61:5)]_FA14:0",
         "marker": {
          "color": "#636efa"
         },
         "name": "[TG(62:12),TG(61:5)]_FA14:0",
         "offsetgroup": "[TG(62:12),TG(61:5)]_FA14:0",
         "orientation": "v",
         "showlegend": true,
         "textposition": "auto",
         "type": "bar",
         "x": [
          "996.9 -> 751.7"
         ],
         "xaxis": "x",
         "y": [
          14229.900955200195
         ],
         "yaxis": "y"
        },
        {
         "alignmentgroup": "True",
         "customdata": [
          [
           "[TG(62:11),TG(61:4)]_FA14:0",
           "TAG"
          ]
         ],
         "hovertemplate": "Lipid=%{customdata[0]}<br>Transition=%{x}<br>Intensity=%{y}<br>Class=%{customdata[1]}<extra></extra>",
         "legendgroup": "[TG(62:11),TG(61:4)]_FA14:0",
         "marker": {
          "color": "#EF553B"
         },
         "name": "[TG(62:11),TG(61:4)]_FA14:0",
         "offsetgroup": "[TG(62:11),TG(61:4)]_FA14:0",
         "orientation": "v",
         "showlegend": true,
         "textposition": "auto",
         "type": "bar",
         "x": [
          "998.9 -> 753.7"
         ],
         "xaxis": "x",
         "y": [
          14026.561004638672
         ],
         "yaxis": "y"
        },
        {
         "alignmentgroup": "True",
         "customdata": [
          [
           "[TG(62:10),TG(61:3)]_FA14:0",
           "TAG"
          ]
         ],
         "hovertemplate": "Lipid=%{customdata[0]}<br>Transition=%{x}<br>Intensity=%{y}<br>Class=%{customdata[1]}<extra></extra>",
         "legendgroup": "[TG(62:10),TG(61:3)]_FA14:0",
         "marker": {
          "color": "#00cc96"
         },
         "name": "[TG(62:10),TG(61:3)]_FA14:0",
         "offsetgroup": "[TG(62:10),TG(61:3)]_FA14:0",
         "orientation": "v",
         "showlegend": true,
         "textposition": "auto",
         "type": "bar",
         "x": [
          "1000.9 -> 755.7"
         ],
         "xaxis": "x",
         "y": [
          13990.720977783203
         ],
         "yaxis": "y"
        },
        {
         "alignmentgroup": "True",
         "customdata": [
          [
           "[TG(62:9),TG(61:2)]_FA14:0",
           "TAG"
          ]
         ],
         "hovertemplate": "Lipid=%{customdata[0]}<br>Transition=%{x}<br>Intensity=%{y}<br>Class=%{customdata[1]}<extra></extra>",
         "legendgroup": "[TG(62:9),TG(61:2)]_FA14:0",
         "marker": {
          "color": "#ab63fa"
         },
         "name": "[TG(62:9),TG(61:2)]_FA14:0",
         "offsetgroup": "[TG(62:9),TG(61:2)]_FA14:0",
         "orientation": "v",
         "showlegend": true,
         "textposition": "auto",
         "type": "bar",
         "x": [
          "1002.9 -> 757.7"
         ],
         "xaxis": "x",
         "y": [
          14917.441131591797
         ],
         "yaxis": "y"
        },
        {
         "alignmentgroup": "True",
         "customdata": [
          [
           "[TG(62:8),TG(61:1)]_FA14:0",
           "TAG"
          ]
         ],
         "hovertemplate": "Lipid=%{customdata[0]}<br>Transition=%{x}<br>Intensity=%{y}<br>Class=%{customdata[1]}<extra></extra>",
         "legendgroup": "[TG(62:8),TG(61:1)]_FA14:0",
         "marker": {
          "color": "#FFA15A"
         },
         "name": "[TG(62:8),TG(61:1)]_FA14:0",
         "offsetgroup": "[TG(62:8),TG(61:1)]_FA14:0",
         "orientation": "v",
         "showlegend": true,
         "textposition": "auto",
         "type": "bar",
         "x": [
          "1005.0 -> 759.8"
         ],
         "xaxis": "x",
         "y": [
          14691.960952758789
         ],
         "yaxis": "y"
        },
        {
         "alignmentgroup": "True",
         "customdata": [
          [
           "[TG(62:7),TG(61:0)]_FA14:0",
           "TAG"
          ]
         ],
         "hovertemplate": "Lipid=%{customdata[0]}<br>Transition=%{x}<br>Intensity=%{y}<br>Class=%{customdata[1]}<extra></extra>",
         "legendgroup": "[TG(62:7),TG(61:0)]_FA14:0",
         "marker": {
          "color": "#19d3f3"
         },
         "name": "[TG(62:7),TG(61:0)]_FA14:0",
         "offsetgroup": "[TG(62:7),TG(61:0)]_FA14:0",
         "orientation": "v",
         "showlegend": true,
         "textposition": "auto",
         "type": "bar",
         "x": [
          "1007.0 -> 761.8"
         ],
         "xaxis": "x",
         "y": [
          12988.200942993164
         ],
         "yaxis": "y"
        },
        {
         "alignmentgroup": "True",
         "customdata": [
          [
           "[TG(63:13),TG(62:6)]_FA14:0",
           "TAG"
          ]
         ],
         "hovertemplate": "Lipid=%{customdata[0]}<br>Transition=%{x}<br>Intensity=%{y}<br>Class=%{customdata[1]}<extra></extra>",
         "legendgroup": "[TG(63:13),TG(62:6)]_FA14:0",
         "marker": {
          "color": "#FF6692"
         },
         "name": "[TG(63:13),TG(62:6)]_FA14:0",
         "offsetgroup": "[TG(63:13),TG(62:6)]_FA14:0",
         "orientation": "v",
         "showlegend": true,
         "textposition": "auto",
         "type": "bar",
         "x": [
          "1008.9 -> 763.7"
         ],
         "xaxis": "x",
         "y": [
          13342.720916748047
         ],
         "yaxis": "y"
        },
        {
         "alignmentgroup": "True",
         "customdata": [
          [
           "[TG(63:12),TG(62:5)]_FA14:0",
           "TAG"
          ]
         ],
         "hovertemplate": "Lipid=%{customdata[0]}<br>Transition=%{x}<br>Intensity=%{y}<br>Class=%{customdata[1]}<extra></extra>",
         "legendgroup": "[TG(63:12),TG(62:5)]_FA14:0",
         "marker": {
          "color": "#B6E880"
         },
         "name": "[TG(63:12),TG(62:5)]_FA14:0",
         "offsetgroup": "[TG(63:12),TG(62:5)]_FA14:0",
         "orientation": "v",
         "showlegend": true,
         "textposition": "auto",
         "type": "bar",
         "x": [
          "1010.9 -> 765.7"
         ],
         "xaxis": "x",
         "y": [
          14266.48112487793
         ],
         "yaxis": "y"
        },
        {
         "alignmentgroup": "True",
         "customdata": [
          [
           "[TG(63:11),TG(62:4)]_FA14:0",
           "TAG"
          ]
         ],
         "hovertemplate": "Lipid=%{customdata[0]}<br>Transition=%{x}<br>Intensity=%{y}<br>Class=%{customdata[1]}<extra></extra>",
         "legendgroup": "[TG(63:11),TG(62:4)]_FA14:0",
         "marker": {
          "color": "#FF97FF"
         },
         "name": "[TG(63:11),TG(62:4)]_FA14:0",
         "offsetgroup": "[TG(63:11),TG(62:4)]_FA14:0",
         "orientation": "v",
         "showlegend": true,
         "textposition": "auto",
         "type": "bar",
         "x": [
          "1012.9 -> 767.7"
         ],
         "xaxis": "x",
         "y": [
          13126.080932617188
         ],
         "yaxis": "y"
        },
        {
         "alignmentgroup": "True",
         "customdata": [
          [
           "[TG(64:17),TG(63:10),TG(62:3)]_FA14:0",
           "TAG"
          ]
         ],
         "hovertemplate": "Lipid=%{customdata[0]}<br>Transition=%{x}<br>Intensity=%{y}<br>Class=%{customdata[1]}<extra></extra>",
         "legendgroup": "[TG(64:17),TG(63:10),TG(62:3)]_FA14:0",
         "marker": {
          "color": "#FECB52"
         },
         "name": "[TG(64:17),TG(63:10),TG(62:3)]_FA14:0",
         "offsetgroup": "[TG(64:17),TG(63:10),TG(62:3)]_FA14:0",
         "orientation": "v",
         "showlegend": true,
         "textposition": "auto",
         "type": "bar",
         "x": [
          "1014.9 -> 769.7"
         ],
         "xaxis": "x",
         "y": [
          13007.560943603516
         ],
         "yaxis": "y"
        },
        {
         "alignmentgroup": "True",
         "customdata": [
          [
           "[TG(64:16),TG(63:9),TG(62:2)]_FA14:0",
           "TAG"
          ]
         ],
         "hovertemplate": "Lipid=%{customdata[0]}<br>Transition=%{x}<br>Intensity=%{y}<br>Class=%{customdata[1]}<extra></extra>",
         "legendgroup": "[TG(64:16),TG(63:9),TG(62:2)]_FA14:0",
         "marker": {
          "color": "#636efa"
         },
         "name": "[TG(64:16),TG(63:9),TG(62:2)]_FA14:0",
         "offsetgroup": "[TG(64:16),TG(63:9),TG(62:2)]_FA14:0",
         "orientation": "v",
         "showlegend": true,
         "textposition": "auto",
         "type": "bar",
         "x": [
          "1017.0 -> 771.8"
         ],
         "xaxis": "x",
         "y": [
          15978.181114196777
         ],
         "yaxis": "y"
        },
        {
         "alignmentgroup": "True",
         "customdata": [
          [
           "[TG(64:15),TG(63:8),TG(62:1)]_FA14:0",
           "TAG"
          ]
         ],
         "hovertemplate": "Lipid=%{customdata[0]}<br>Transition=%{x}<br>Intensity=%{y}<br>Class=%{customdata[1]}<extra></extra>",
         "legendgroup": "[TG(64:15),TG(63:8),TG(62:1)]_FA14:0",
         "marker": {
          "color": "#EF553B"
         },
         "name": "[TG(64:15),TG(63:8),TG(62:1)]_FA14:0",
         "offsetgroup": "[TG(64:15),TG(63:8),TG(62:1)]_FA14:0",
         "orientation": "v",
         "showlegend": true,
         "textposition": "auto",
         "type": "bar",
         "x": [
          "1019.0 -> 773.8"
         ],
         "xaxis": "x",
         "y": [
          14954.541114807129
         ],
         "yaxis": "y"
        },
        {
         "alignmentgroup": "True",
         "customdata": [
          [
           "[TG(64:14),TG(63:7),TG(62:0)]_FA14:0",
           "TAG"
          ]
         ],
         "hovertemplate": "Lipid=%{customdata[0]}<br>Transition=%{x}<br>Intensity=%{y}<br>Class=%{customdata[1]}<extra></extra>",
         "legendgroup": "[TG(64:14),TG(63:7),TG(62:0)]_FA14:0",
         "marker": {
          "color": "#00cc96"
         },
         "name": "[TG(64:14),TG(63:7),TG(62:0)]_FA14:0",
         "offsetgroup": "[TG(64:14),TG(63:7),TG(62:0)]_FA14:0",
         "orientation": "v",
         "showlegend": true,
         "textposition": "auto",
         "type": "bar",
         "x": [
          "1021.0 -> 775.8"
         ],
         "xaxis": "x",
         "y": [
          12710.70083618164
         ],
         "yaxis": "y"
        },
        {
         "alignmentgroup": "True",
         "customdata": [
          [
           "[TG(64:13),TG(63:6)]_FA14:0",
           "TAG"
          ]
         ],
         "hovertemplate": "Lipid=%{customdata[0]}<br>Transition=%{x}<br>Intensity=%{y}<br>Class=%{customdata[1]}<extra></extra>",
         "legendgroup": "[TG(64:13),TG(63:6)]_FA14:0",
         "marker": {
          "color": "#ab63fa"
         },
         "name": "[TG(64:13),TG(63:6)]_FA14:0",
         "offsetgroup": "[TG(64:13),TG(63:6)]_FA14:0",
         "orientation": "v",
         "showlegend": true,
         "textposition": "auto",
         "type": "bar",
         "x": [
          "1022.9 -> 777.7"
         ],
         "xaxis": "x",
         "y": [
          14045.280990600586
         ],
         "yaxis": "y"
        },
        {
         "alignmentgroup": "True",
         "customdata": [
          [
           "[TG(64:12),TG(63:5)]_FA14:0",
           "TAG"
          ]
         ],
         "hovertemplate": "Lipid=%{customdata[0]}<br>Transition=%{x}<br>Intensity=%{y}<br>Class=%{customdata[1]}<extra></extra>",
         "legendgroup": "[TG(64:12),TG(63:5)]_FA14:0",
         "marker": {
          "color": "#FFA15A"
         },
         "name": "[TG(64:12),TG(63:5)]_FA14:0",
         "offsetgroup": "[TG(64:12),TG(63:5)]_FA14:0",
         "orientation": "v",
         "showlegend": true,
         "textposition": "auto",
         "type": "bar",
         "x": [
          "1024.9 -> 779.7"
         ],
         "xaxis": "x",
         "y": [
          14086.260986328125
         ],
         "yaxis": "y"
        },
        {
         "alignmentgroup": "True",
         "customdata": [
          [
           "[TG(64:11),TG(63:4)]_FA14:0",
           "TAG"
          ]
         ],
         "hovertemplate": "Lipid=%{customdata[0]}<br>Transition=%{x}<br>Intensity=%{y}<br>Class=%{customdata[1]}<extra></extra>",
         "legendgroup": "[TG(64:11),TG(63:4)]_FA14:0",
         "marker": {
          "color": "#19d3f3"
         },
         "name": "[TG(64:11),TG(63:4)]_FA14:0",
         "offsetgroup": "[TG(64:11),TG(63:4)]_FA14:0",
         "orientation": "v",
         "showlegend": true,
         "textposition": "auto",
         "type": "bar",
         "x": [
          "1026.9 -> 781.7"
         ],
         "xaxis": "x",
         "y": [
          12927.800796508789
         ],
         "yaxis": "y"
        },
        {
         "alignmentgroup": "True",
         "customdata": [
          [
           "[TG(64:10),TG(63:3)]_FA14:0",
           "TAG"
          ]
         ],
         "hovertemplate": "Lipid=%{customdata[0]}<br>Transition=%{x}<br>Intensity=%{y}<br>Class=%{customdata[1]}<extra></extra>",
         "legendgroup": "[TG(64:10),TG(63:3)]_FA14:0",
         "marker": {
          "color": "#FF6692"
         },
         "name": "[TG(64:10),TG(63:3)]_FA14:0",
         "offsetgroup": "[TG(64:10),TG(63:3)]_FA14:0",
         "orientation": "v",
         "showlegend": true,
         "textposition": "auto",
         "type": "bar",
         "x": [
          "1029.0 -> 783.8"
         ],
         "xaxis": "x",
         "y": [
          10637.140739440918
         ],
         "yaxis": "y"
        },
        {
         "alignmentgroup": "True",
         "customdata": [
          [
           "[TG(64:9),TG(63:2)]_FA14:0",
           "TAG"
          ]
         ],
         "hovertemplate": "Lipid=%{customdata[0]}<br>Transition=%{x}<br>Intensity=%{y}<br>Class=%{customdata[1]}<extra></extra>",
         "legendgroup": "[TG(64:9),TG(63:2)]_FA14:0",
         "marker": {
          "color": "#B6E880"
         },
         "name": "[TG(64:9),TG(63:2)]_FA14:0",
         "offsetgroup": "[TG(64:9),TG(63:2)]_FA14:0",
         "orientation": "v",
         "showlegend": true,
         "textposition": "auto",
         "type": "bar",
         "x": [
          "1031.0 -> 785.8"
         ],
         "xaxis": "x",
         "y": [
          13033.880912780762
         ],
         "yaxis": "y"
        },
        {
         "alignmentgroup": "True",
         "customdata": [
          [
           "[TG(64:8),TG(63:1)]_FA14:0",
           "TAG"
          ]
         ],
         "hovertemplate": "Lipid=%{customdata[0]}<br>Transition=%{x}<br>Intensity=%{y}<br>Class=%{customdata[1]}<extra></extra>",
         "legendgroup": "[TG(64:8),TG(63:1)]_FA14:0",
         "marker": {
          "color": "#FF97FF"
         },
         "name": "[TG(64:8),TG(63:1)]_FA14:0",
         "offsetgroup": "[TG(64:8),TG(63:1)]_FA14:0",
         "orientation": "v",
         "showlegend": true,
         "textposition": "auto",
         "type": "bar",
         "x": [
          "1033.0 -> 787.8"
         ],
         "xaxis": "x",
         "y": [
          13134.800857543945
         ],
         "yaxis": "y"
        },
        {
         "alignmentgroup": "True",
         "customdata": [
          [
           "[TG(64:7),TG(63:0)]_FA14:0",
           "TAG"
          ]
         ],
         "hovertemplate": "Lipid=%{customdata[0]}<br>Transition=%{x}<br>Intensity=%{y}<br>Class=%{customdata[1]}<extra></extra>",
         "legendgroup": "[TG(64:7),TG(63:0)]_FA14:0",
         "marker": {
          "color": "#FECB52"
         },
         "name": "[TG(64:7),TG(63:0)]_FA14:0",
         "offsetgroup": "[TG(64:7),TG(63:0)]_FA14:0",
         "orientation": "v",
         "showlegend": true,
         "textposition": "auto",
         "type": "bar",
         "x": [
          "1035.0 -> 789.8"
         ],
         "xaxis": "x",
         "y": [
          12264.380752563477
         ],
         "yaxis": "y"
        },
        {
         "alignmentgroup": "True",
         "customdata": [
          [
           "[TG(64:6)]_FA14:0",
           "TAG"
          ]
         ],
         "hovertemplate": "Lipid=%{customdata[0]}<br>Transition=%{x}<br>Intensity=%{y}<br>Class=%{customdata[1]}<extra></extra>",
         "legendgroup": "[TG(64:6)]_FA14:0",
         "marker": {
          "color": "#636efa"
         },
         "name": "[TG(64:6)]_FA14:0",
         "offsetgroup": "[TG(64:6)]_FA14:0",
         "orientation": "v",
         "showlegend": true,
         "textposition": "auto",
         "type": "bar",
         "x": [
          "1036.9 -> 791.7"
         ],
         "xaxis": "x",
         "y": [
          13273.14094543457
         ],
         "yaxis": "y"
        },
        {
         "alignmentgroup": "True",
         "customdata": [
          [
           "[TG(65:12),TG(64:5)]_FA14:0",
           "TAG"
          ]
         ],
         "hovertemplate": "Lipid=%{customdata[0]}<br>Transition=%{x}<br>Intensity=%{y}<br>Class=%{customdata[1]}<extra></extra>",
         "legendgroup": "[TG(65:12),TG(64:5)]_FA14:0",
         "marker": {
          "color": "#EF553B"
         },
         "name": "[TG(65:12),TG(64:5)]_FA14:0",
         "offsetgroup": "[TG(65:12),TG(64:5)]_FA14:0",
         "orientation": "v",
         "showlegend": true,
         "textposition": "auto",
         "type": "bar",
         "x": [
          "1038.9 -> 793.7"
         ],
         "xaxis": "x",
         "y": [
          20100.661331176758
         ],
         "yaxis": "y"
        },
        {
         "alignmentgroup": "True",
         "customdata": [
          [
           "[TG(66:18),TG(65:11),TG(64:4)]_FA14:0",
           "TAG"
          ]
         ],
         "hovertemplate": "Lipid=%{customdata[0]}<br>Transition=%{x}<br>Intensity=%{y}<br>Class=%{customdata[1]}<extra></extra>",
         "legendgroup": "[TG(66:18),TG(65:11),TG(64:4)]_FA14:0",
         "marker": {
          "color": "#00cc96"
         },
         "name": "[TG(66:18),TG(65:11),TG(64:4)]_FA14:0",
         "offsetgroup": "[TG(66:18),TG(65:11),TG(64:4)]_FA14:0",
         "orientation": "v",
         "showlegend": true,
         "textposition": "auto",
         "type": "bar",
         "x": [
          "1041.0 -> 795.8"
         ],
         "xaxis": "x",
         "y": [
          12335.680953979492
         ],
         "yaxis": "y"
        },
        {
         "alignmentgroup": "True",
         "customdata": [
          [
           "[TG(66:17),TG(65:10),TG(64:3)]_FA14:0",
           "TAG"
          ]
         ],
         "hovertemplate": "Lipid=%{customdata[0]}<br>Transition=%{x}<br>Intensity=%{y}<br>Class=%{customdata[1]}<extra></extra>",
         "legendgroup": "[TG(66:17),TG(65:10),TG(64:3)]_FA14:0",
         "marker": {
          "color": "#ab63fa"
         },
         "name": "[TG(66:17),TG(65:10),TG(64:3)]_FA14:0",
         "offsetgroup": "[TG(66:17),TG(65:10),TG(64:3)]_FA14:0",
         "orientation": "v",
         "showlegend": true,
         "textposition": "auto",
         "type": "bar",
         "x": [
          "1043.0 -> 797.8"
         ],
         "xaxis": "x",
         "y": [
          12561.440925598145
         ],
         "yaxis": "y"
        },
        {
         "alignmentgroup": "True",
         "customdata": [
          [
           "[TG(66:16),TG(65:9),TG(64:2)]_FA14:0",
           "TAG"
          ]
         ],
         "hovertemplate": "Lipid=%{customdata[0]}<br>Transition=%{x}<br>Intensity=%{y}<br>Class=%{customdata[1]}<extra></extra>",
         "legendgroup": "[TG(66:16),TG(65:9),TG(64:2)]_FA14:0",
         "marker": {
          "color": "#FFA15A"
         },
         "name": "[TG(66:16),TG(65:9),TG(64:2)]_FA14:0",
         "offsetgroup": "[TG(66:16),TG(65:9),TG(64:2)]_FA14:0",
         "orientation": "v",
         "showlegend": true,
         "textposition": "auto",
         "type": "bar",
         "x": [
          "1045.0 -> 799.8"
         ],
         "xaxis": "x",
         "y": [
          19396.041259765625
         ],
         "yaxis": "y"
        },
        {
         "alignmentgroup": "True",
         "customdata": [
          [
           "[TG(66:15),TG(65:8),TG(64:1)]_FA14:0",
           "TAG"
          ]
         ],
         "hovertemplate": "Lipid=%{customdata[0]}<br>Transition=%{x}<br>Intensity=%{y}<br>Class=%{customdata[1]}<extra></extra>",
         "legendgroup": "[TG(66:15),TG(65:8),TG(64:1)]_FA14:0",
         "marker": {
          "color": "#19d3f3"
         },
         "name": "[TG(66:15),TG(65:8),TG(64:1)]_FA14:0",
         "offsetgroup": "[TG(66:15),TG(65:8),TG(64:1)]_FA14:0",
         "orientation": "v",
         "showlegend": true,
         "textposition": "auto",
         "type": "bar",
         "x": [
          "1047.0 -> 801.8"
         ],
         "xaxis": "x",
         "y": [
          15101.360977172852
         ],
         "yaxis": "y"
        },
        {
         "alignmentgroup": "True",
         "customdata": [
          [
           "[TG(66:14),TG(65:7),TG(64:0)]_FA14:0",
           "TAG"
          ]
         ],
         "hovertemplate": "Lipid=%{customdata[0]}<br>Transition=%{x}<br>Intensity=%{y}<br>Class=%{customdata[1]}<extra></extra>",
         "legendgroup": "[TG(66:14),TG(65:7),TG(64:0)]_FA14:0",
         "marker": {
          "color": "#FF6692"
         },
         "name": "[TG(66:14),TG(65:7),TG(64:0)]_FA14:0",
         "offsetgroup": "[TG(66:14),TG(65:7),TG(64:0)]_FA14:0",
         "orientation": "v",
         "showlegend": true,
         "textposition": "auto",
         "type": "bar",
         "x": [
          "1049.0 -> 803.8"
         ],
         "xaxis": "x",
         "y": [
          15476.981079101562
         ],
         "yaxis": "y"
        },
        {
         "alignmentgroup": "True",
         "customdata": [
          [
           "[TG(66:13),TG(65:6)]_FA14:0",
           "TAG"
          ]
         ],
         "hovertemplate": "Lipid=%{customdata[0]}<br>Transition=%{x}<br>Intensity=%{y}<br>Class=%{customdata[1]}<extra></extra>",
         "legendgroup": "[TG(66:13),TG(65:6)]_FA14:0",
         "marker": {
          "color": "#B6E880"
         },
         "name": "[TG(66:13),TG(65:6)]_FA14:0",
         "offsetgroup": "[TG(66:13),TG(65:6)]_FA14:0",
         "orientation": "v",
         "showlegend": true,
         "textposition": "auto",
         "type": "bar",
         "x": [
          "1050.9 -> 805.7"
         ],
         "xaxis": "x",
         "y": [
          10396.680717468262
         ],
         "yaxis": "y"
        },
        {
         "alignmentgroup": "True",
         "customdata": [
          [
           "[TG(66:12),TG(65:5)]_FA14:0",
           "TAG"
          ]
         ],
         "hovertemplate": "Lipid=%{customdata[0]}<br>Transition=%{x}<br>Intensity=%{y}<br>Class=%{customdata[1]}<extra></extra>",
         "legendgroup": "[TG(66:12),TG(65:5)]_FA14:0",
         "marker": {
          "color": "#FF97FF"
         },
         "name": "[TG(66:12),TG(65:5)]_FA14:0",
         "offsetgroup": "[TG(66:12),TG(65:5)]_FA14:0",
         "orientation": "v",
         "showlegend": true,
         "textposition": "auto",
         "type": "bar",
         "x": [
          "1053.0 -> 807.8"
         ],
         "xaxis": "x",
         "y": [
          12281.800918579102
         ],
         "yaxis": "y"
        },
        {
         "alignmentgroup": "True",
         "customdata": [
          [
           "[TG(66:11),TG(65:4)]_FA14:0",
           "TAG"
          ]
         ],
         "hovertemplate": "Lipid=%{customdata[0]}<br>Transition=%{x}<br>Intensity=%{y}<br>Class=%{customdata[1]}<extra></extra>",
         "legendgroup": "[TG(66:11),TG(65:4)]_FA14:0",
         "marker": {
          "color": "#FECB52"
         },
         "name": "[TG(66:11),TG(65:4)]_FA14:0",
         "offsetgroup": "[TG(66:11),TG(65:4)]_FA14:0",
         "orientation": "v",
         "showlegend": true,
         "textposition": "auto",
         "type": "bar",
         "x": [
          "1055.0 -> 809.8"
         ],
         "xaxis": "x",
         "y": [
          12049.680938720703
         ],
         "yaxis": "y"
        },
        {
         "alignmentgroup": "True",
         "customdata": [
          [
           "[TG(66:10),TG(65:3)]_FA14:0",
           "TAG"
          ]
         ],
         "hovertemplate": "Lipid=%{customdata[0]}<br>Transition=%{x}<br>Intensity=%{y}<br>Class=%{customdata[1]}<extra></extra>",
         "legendgroup": "[TG(66:10),TG(65:3)]_FA14:0",
         "marker": {
          "color": "#636efa"
         },
         "name": "[TG(66:10),TG(65:3)]_FA14:0",
         "offsetgroup": "[TG(66:10),TG(65:3)]_FA14:0",
         "orientation": "v",
         "showlegend": true,
         "textposition": "auto",
         "type": "bar",
         "x": [
          "1057.0 -> 811.8"
         ],
         "xaxis": "x",
         "y": [
          11546.020881652832
         ],
         "yaxis": "y"
        },
        {
         "alignmentgroup": "True",
         "customdata": [
          [
           "[TG(66:9),TG(65:2)]_FA14:0",
           "TAG"
          ]
         ],
         "hovertemplate": "Lipid=%{customdata[0]}<br>Transition=%{x}<br>Intensity=%{y}<br>Class=%{customdata[1]}<extra></extra>",
         "legendgroup": "[TG(66:9),TG(65:2)]_FA14:0",
         "marker": {
          "color": "#EF553B"
         },
         "name": "[TG(66:9),TG(65:2)]_FA14:0",
         "offsetgroup": "[TG(66:9),TG(65:2)]_FA14:0",
         "orientation": "v",
         "showlegend": true,
         "textposition": "auto",
         "type": "bar",
         "x": [
          "1059.0 -> 813.8"
         ],
         "xaxis": "x",
         "y": [
          13140.541000366211
         ],
         "yaxis": "y"
        },
        {
         "alignmentgroup": "True",
         "customdata": [
          [
           "[TG(66:8),TG(65:1)]_FA14:0",
           "TAG"
          ]
         ],
         "hovertemplate": "Lipid=%{customdata[0]}<br>Transition=%{x}<br>Intensity=%{y}<br>Class=%{customdata[1]}<extra></extra>",
         "legendgroup": "[TG(66:8),TG(65:1)]_FA14:0",
         "marker": {
          "color": "#00cc96"
         },
         "name": "[TG(66:8),TG(65:1)]_FA14:0",
         "offsetgroup": "[TG(66:8),TG(65:1)]_FA14:0",
         "orientation": "v",
         "showlegend": true,
         "textposition": "auto",
         "type": "bar",
         "x": [
          "1061.0 -> 815.8"
         ],
         "xaxis": "x",
         "y": [
          14803.141014099121
         ],
         "yaxis": "y"
        },
        {
         "alignmentgroup": "True",
         "customdata": [
          [
           "[TG(66:7)]_FA14:0",
           "TAG"
          ]
         ],
         "hovertemplate": "Lipid=%{customdata[0]}<br>Transition=%{x}<br>Intensity=%{y}<br>Class=%{customdata[1]}<extra></extra>",
         "legendgroup": "[TG(66:7)]_FA14:0",
         "marker": {
          "color": "#ab63fa"
         },
         "name": "[TG(66:7)]_FA14:0",
         "offsetgroup": "[TG(66:7)]_FA14:0",
         "orientation": "v",
         "showlegend": true,
         "textposition": "auto",
         "type": "bar",
         "x": [
          "1062.9 -> 817.7"
         ],
         "xaxis": "x",
         "y": [
          13260.220840454102
         ],
         "yaxis": "y"
        },
        {
         "alignmentgroup": "True",
         "customdata": [
          [
           "[TG(65:0)]_FA14:0",
           "TAG"
          ]
         ],
         "hovertemplate": "Lipid=%{customdata[0]}<br>Transition=%{x}<br>Intensity=%{y}<br>Class=%{customdata[1]}<extra></extra>",
         "legendgroup": "[TG(65:0)]_FA14:0",
         "marker": {
          "color": "#FFA15A"
         },
         "name": "[TG(65:0)]_FA14:0",
         "offsetgroup": "[TG(65:0)]_FA14:0",
         "orientation": "v",
         "showlegend": true,
         "textposition": "auto",
         "type": "bar",
         "x": [
          "1063.0 -> 817.8"
         ],
         "xaxis": "x",
         "y": [
          15204.641082763672
         ],
         "yaxis": "y"
        },
        {
         "alignmentgroup": "True",
         "customdata": [
          [
           "[TG(66:6)]_FA14:0",
           "TAG"
          ]
         ],
         "hovertemplate": "Lipid=%{customdata[0]}<br>Transition=%{x}<br>Intensity=%{y}<br>Class=%{customdata[1]}<extra></extra>",
         "legendgroup": "[TG(66:6)]_FA14:0",
         "marker": {
          "color": "#19d3f3"
         },
         "name": "[TG(66:6)]_FA14:0",
         "offsetgroup": "[TG(66:6)]_FA14:0",
         "orientation": "v",
         "showlegend": true,
         "textposition": "auto",
         "type": "bar",
         "x": [
          "1065.0 -> 819.8"
         ],
         "xaxis": "x",
         "y": [
          11739.30093383789
         ],
         "yaxis": "y"
        },
        {
         "alignmentgroup": "True",
         "customdata": [
          [
           "[TG(66:5)]_FA14:0",
           "TAG"
          ]
         ],
         "hovertemplate": "Lipid=%{customdata[0]}<br>Transition=%{x}<br>Intensity=%{y}<br>Class=%{customdata[1]}<extra></extra>",
         "legendgroup": "[TG(66:5)]_FA14:0",
         "marker": {
          "color": "#FF6692"
         },
         "name": "[TG(66:5)]_FA14:0",
         "offsetgroup": "[TG(66:5)]_FA14:0",
         "orientation": "v",
         "showlegend": true,
         "textposition": "auto",
         "type": "bar",
         "x": [
          "1067.0 -> 821.8"
         ],
         "xaxis": "x",
         "y": [
          10289.58073425293
         ],
         "yaxis": "y"
        },
        {
         "alignmentgroup": "True",
         "customdata": [
          [
           "[TG(66:4)]_FA14:0",
           "TAG"
          ]
         ],
         "hovertemplate": "Lipid=%{customdata[0]}<br>Transition=%{x}<br>Intensity=%{y}<br>Class=%{customdata[1]}<extra></extra>",
         "legendgroup": "[TG(66:4)]_FA14:0",
         "marker": {
          "color": "#B6E880"
         },
         "name": "[TG(66:4)]_FA14:0",
         "offsetgroup": "[TG(66:4)]_FA14:0",
         "orientation": "v",
         "showlegend": true,
         "textposition": "auto",
         "type": "bar",
         "x": [
          "1069.0 -> 823.8"
         ],
         "xaxis": "x",
         "y": [
          11749.400787353516
         ],
         "yaxis": "y"
        },
        {
         "alignmentgroup": "True",
         "customdata": [
          [
           "[TG(66:3)]_FA14:0",
           "TAG"
          ]
         ],
         "hovertemplate": "Lipid=%{customdata[0]}<br>Transition=%{x}<br>Intensity=%{y}<br>Class=%{customdata[1]}<extra></extra>",
         "legendgroup": "[TG(66:3)]_FA14:0",
         "marker": {
          "color": "#FF97FF"
         },
         "name": "[TG(66:3)]_FA14:0",
         "offsetgroup": "[TG(66:3)]_FA14:0",
         "orientation": "v",
         "showlegend": true,
         "textposition": "auto",
         "type": "bar",
         "x": [
          "1071.0 -> 825.8"
         ],
         "xaxis": "x",
         "y": [
          12457.700866699219
         ],
         "yaxis": "y"
        },
        {
         "alignmentgroup": "True",
         "customdata": [
          [
           "[TG(66:2)]_FA14:0",
           "TAG"
          ]
         ],
         "hovertemplate": "Lipid=%{customdata[0]}<br>Transition=%{x}<br>Intensity=%{y}<br>Class=%{customdata[1]}<extra></extra>",
         "legendgroup": "[TG(66:2)]_FA14:0",
         "marker": {
          "color": "#FECB52"
         },
         "name": "[TG(66:2)]_FA14:0",
         "offsetgroup": "[TG(66:2)]_FA14:0",
         "orientation": "v",
         "showlegend": true,
         "textposition": "auto",
         "type": "bar",
         "x": [
          "1073.0 -> 827.8"
         ],
         "xaxis": "x",
         "y": [
          11174.560779571533
         ],
         "yaxis": "y"
        },
        {
         "alignmentgroup": "True",
         "customdata": [
          [
           "[TG(66:1)]_FA14:0",
           "TAG"
          ]
         ],
         "hovertemplate": "Lipid=%{customdata[0]}<br>Transition=%{x}<br>Intensity=%{y}<br>Class=%{customdata[1]}<extra></extra>",
         "legendgroup": "[TG(66:1)]_FA14:0",
         "marker": {
          "color": "#636efa"
         },
         "name": "[TG(66:1)]_FA14:0",
         "offsetgroup": "[TG(66:1)]_FA14:0",
         "orientation": "v",
         "showlegend": true,
         "textposition": "auto",
         "type": "bar",
         "x": [
          "1075.0 -> 829.8"
         ],
         "xaxis": "x",
         "y": [
          12249.820945739746
         ],
         "yaxis": "y"
        }
       ],
       "layout": {
        "barmode": "relative",
        "legend": {
         "title": {
          "text": "Lipid"
         },
         "tracegroupgap": 0
        },
        "margin": {
         "t": 60
        },
        "template": {
         "data": {
          "bar": [
           {
            "error_x": {
             "color": "#2a3f5f"
            },
            "error_y": {
             "color": "#2a3f5f"
            },
            "marker": {
             "line": {
              "color": "#E5ECF6",
              "width": 0.5
             }
            },
            "type": "bar"
           }
          ],
          "barpolar": [
           {
            "marker": {
             "line": {
              "color": "#E5ECF6",
              "width": 0.5
             }
            },
            "type": "barpolar"
           }
          ],
          "carpet": [
           {
            "aaxis": {
             "endlinecolor": "#2a3f5f",
             "gridcolor": "white",
             "linecolor": "white",
             "minorgridcolor": "white",
             "startlinecolor": "#2a3f5f"
            },
            "baxis": {
             "endlinecolor": "#2a3f5f",
             "gridcolor": "white",
             "linecolor": "white",
             "minorgridcolor": "white",
             "startlinecolor": "#2a3f5f"
            },
            "type": "carpet"
           }
          ],
          "choropleth": [
           {
            "colorbar": {
             "outlinewidth": 0,
             "ticks": ""
            },
            "type": "choropleth"
           }
          ],
          "contour": [
           {
            "colorbar": {
             "outlinewidth": 0,
             "ticks": ""
            },
            "colorscale": [
             [
              0,
              "#0d0887"
             ],
             [
              0.1111111111111111,
              "#46039f"
             ],
             [
              0.2222222222222222,
              "#7201a8"
             ],
             [
              0.3333333333333333,
              "#9c179e"
             ],
             [
              0.4444444444444444,
              "#bd3786"
             ],
             [
              0.5555555555555556,
              "#d8576b"
             ],
             [
              0.6666666666666666,
              "#ed7953"
             ],
             [
              0.7777777777777778,
              "#fb9f3a"
             ],
             [
              0.8888888888888888,
              "#fdca26"
             ],
             [
              1,
              "#f0f921"
             ]
            ],
            "type": "contour"
           }
          ],
          "contourcarpet": [
           {
            "colorbar": {
             "outlinewidth": 0,
             "ticks": ""
            },
            "type": "contourcarpet"
           }
          ],
          "heatmap": [
           {
            "colorbar": {
             "outlinewidth": 0,
             "ticks": ""
            },
            "colorscale": [
             [
              0,
              "#0d0887"
             ],
             [
              0.1111111111111111,
              "#46039f"
             ],
             [
              0.2222222222222222,
              "#7201a8"
             ],
             [
              0.3333333333333333,
              "#9c179e"
             ],
             [
              0.4444444444444444,
              "#bd3786"
             ],
             [
              0.5555555555555556,
              "#d8576b"
             ],
             [
              0.6666666666666666,
              "#ed7953"
             ],
             [
              0.7777777777777778,
              "#fb9f3a"
             ],
             [
              0.8888888888888888,
              "#fdca26"
             ],
             [
              1,
              "#f0f921"
             ]
            ],
            "type": "heatmap"
           }
          ],
          "heatmapgl": [
           {
            "colorbar": {
             "outlinewidth": 0,
             "ticks": ""
            },
            "colorscale": [
             [
              0,
              "#0d0887"
             ],
             [
              0.1111111111111111,
              "#46039f"
             ],
             [
              0.2222222222222222,
              "#7201a8"
             ],
             [
              0.3333333333333333,
              "#9c179e"
             ],
             [
              0.4444444444444444,
              "#bd3786"
             ],
             [
              0.5555555555555556,
              "#d8576b"
             ],
             [
              0.6666666666666666,
              "#ed7953"
             ],
             [
              0.7777777777777778,
              "#fb9f3a"
             ],
             [
              0.8888888888888888,
              "#fdca26"
             ],
             [
              1,
              "#f0f921"
             ]
            ],
            "type": "heatmapgl"
           }
          ],
          "histogram": [
           {
            "marker": {
             "colorbar": {
              "outlinewidth": 0,
              "ticks": ""
             }
            },
            "type": "histogram"
           }
          ],
          "histogram2d": [
           {
            "colorbar": {
             "outlinewidth": 0,
             "ticks": ""
            },
            "colorscale": [
             [
              0,
              "#0d0887"
             ],
             [
              0.1111111111111111,
              "#46039f"
             ],
             [
              0.2222222222222222,
              "#7201a8"
             ],
             [
              0.3333333333333333,
              "#9c179e"
             ],
             [
              0.4444444444444444,
              "#bd3786"
             ],
             [
              0.5555555555555556,
              "#d8576b"
             ],
             [
              0.6666666666666666,
              "#ed7953"
             ],
             [
              0.7777777777777778,
              "#fb9f3a"
             ],
             [
              0.8888888888888888,
              "#fdca26"
             ],
             [
              1,
              "#f0f921"
             ]
            ],
            "type": "histogram2d"
           }
          ],
          "histogram2dcontour": [
           {
            "colorbar": {
             "outlinewidth": 0,
             "ticks": ""
            },
            "colorscale": [
             [
              0,
              "#0d0887"
             ],
             [
              0.1111111111111111,
              "#46039f"
             ],
             [
              0.2222222222222222,
              "#7201a8"
             ],
             [
              0.3333333333333333,
              "#9c179e"
             ],
             [
              0.4444444444444444,
              "#bd3786"
             ],
             [
              0.5555555555555556,
              "#d8576b"
             ],
             [
              0.6666666666666666,
              "#ed7953"
             ],
             [
              0.7777777777777778,
              "#fb9f3a"
             ],
             [
              0.8888888888888888,
              "#fdca26"
             ],
             [
              1,
              "#f0f921"
             ]
            ],
            "type": "histogram2dcontour"
           }
          ],
          "mesh3d": [
           {
            "colorbar": {
             "outlinewidth": 0,
             "ticks": ""
            },
            "type": "mesh3d"
           }
          ],
          "parcoords": [
           {
            "line": {
             "colorbar": {
              "outlinewidth": 0,
              "ticks": ""
             }
            },
            "type": "parcoords"
           }
          ],
          "pie": [
           {
            "automargin": true,
            "type": "pie"
           }
          ],
          "scatter": [
           {
            "marker": {
             "colorbar": {
              "outlinewidth": 0,
              "ticks": ""
             }
            },
            "type": "scatter"
           }
          ],
          "scatter3d": [
           {
            "line": {
             "colorbar": {
              "outlinewidth": 0,
              "ticks": ""
             }
            },
            "marker": {
             "colorbar": {
              "outlinewidth": 0,
              "ticks": ""
             }
            },
            "type": "scatter3d"
           }
          ],
          "scattercarpet": [
           {
            "marker": {
             "colorbar": {
              "outlinewidth": 0,
              "ticks": ""
             }
            },
            "type": "scattercarpet"
           }
          ],
          "scattergeo": [
           {
            "marker": {
             "colorbar": {
              "outlinewidth": 0,
              "ticks": ""
             }
            },
            "type": "scattergeo"
           }
          ],
          "scattergl": [
           {
            "marker": {
             "colorbar": {
              "outlinewidth": 0,
              "ticks": ""
             }
            },
            "type": "scattergl"
           }
          ],
          "scattermapbox": [
           {
            "marker": {
             "colorbar": {
              "outlinewidth": 0,
              "ticks": ""
             }
            },
            "type": "scattermapbox"
           }
          ],
          "scatterpolar": [
           {
            "marker": {
             "colorbar": {
              "outlinewidth": 0,
              "ticks": ""
             }
            },
            "type": "scatterpolar"
           }
          ],
          "scatterpolargl": [
           {
            "marker": {
             "colorbar": {
              "outlinewidth": 0,
              "ticks": ""
             }
            },
            "type": "scatterpolargl"
           }
          ],
          "scatterternary": [
           {
            "marker": {
             "colorbar": {
              "outlinewidth": 0,
              "ticks": ""
             }
            },
            "type": "scatterternary"
           }
          ],
          "surface": [
           {
            "colorbar": {
             "outlinewidth": 0,
             "ticks": ""
            },
            "colorscale": [
             [
              0,
              "#0d0887"
             ],
             [
              0.1111111111111111,
              "#46039f"
             ],
             [
              0.2222222222222222,
              "#7201a8"
             ],
             [
              0.3333333333333333,
              "#9c179e"
             ],
             [
              0.4444444444444444,
              "#bd3786"
             ],
             [
              0.5555555555555556,
              "#d8576b"
             ],
             [
              0.6666666666666666,
              "#ed7953"
             ],
             [
              0.7777777777777778,
              "#fb9f3a"
             ],
             [
              0.8888888888888888,
              "#fdca26"
             ],
             [
              1,
              "#f0f921"
             ]
            ],
            "type": "surface"
           }
          ],
          "table": [
           {
            "cells": {
             "fill": {
              "color": "#EBF0F8"
             },
             "line": {
              "color": "white"
             }
            },
            "header": {
             "fill": {
              "color": "#C8D4E3"
             },
             "line": {
              "color": "white"
             }
            },
            "type": "table"
           }
          ]
         },
         "layout": {
          "annotationdefaults": {
           "arrowcolor": "#2a3f5f",
           "arrowhead": 0,
           "arrowwidth": 1
          },
          "coloraxis": {
           "colorbar": {
            "outlinewidth": 0,
            "ticks": ""
           }
          },
          "colorscale": {
           "diverging": [
            [
             0,
             "#8e0152"
            ],
            [
             0.1,
             "#c51b7d"
            ],
            [
             0.2,
             "#de77ae"
            ],
            [
             0.3,
             "#f1b6da"
            ],
            [
             0.4,
             "#fde0ef"
            ],
            [
             0.5,
             "#f7f7f7"
            ],
            [
             0.6,
             "#e6f5d0"
            ],
            [
             0.7,
             "#b8e186"
            ],
            [
             0.8,
             "#7fbc41"
            ],
            [
             0.9,
             "#4d9221"
            ],
            [
             1,
             "#276419"
            ]
           ],
           "sequential": [
            [
             0,
             "#0d0887"
            ],
            [
             0.1111111111111111,
             "#46039f"
            ],
            [
             0.2222222222222222,
             "#7201a8"
            ],
            [
             0.3333333333333333,
             "#9c179e"
            ],
            [
             0.4444444444444444,
             "#bd3786"
            ],
            [
             0.5555555555555556,
             "#d8576b"
            ],
            [
             0.6666666666666666,
             "#ed7953"
            ],
            [
             0.7777777777777778,
             "#fb9f3a"
            ],
            [
             0.8888888888888888,
             "#fdca26"
            ],
            [
             1,
             "#f0f921"
            ]
           ],
           "sequentialminus": [
            [
             0,
             "#0d0887"
            ],
            [
             0.1111111111111111,
             "#46039f"
            ],
            [
             0.2222222222222222,
             "#7201a8"
            ],
            [
             0.3333333333333333,
             "#9c179e"
            ],
            [
             0.4444444444444444,
             "#bd3786"
            ],
            [
             0.5555555555555556,
             "#d8576b"
            ],
            [
             0.6666666666666666,
             "#ed7953"
            ],
            [
             0.7777777777777778,
             "#fb9f3a"
            ],
            [
             0.8888888888888888,
             "#fdca26"
            ],
            [
             1,
             "#f0f921"
            ]
           ]
          },
          "colorway": [
           "#636efa",
           "#EF553B",
           "#00cc96",
           "#ab63fa",
           "#FFA15A",
           "#19d3f3",
           "#FF6692",
           "#B6E880",
           "#FF97FF",
           "#FECB52"
          ],
          "font": {
           "color": "#2a3f5f"
          },
          "geo": {
           "bgcolor": "white",
           "lakecolor": "white",
           "landcolor": "#E5ECF6",
           "showlakes": true,
           "showland": true,
           "subunitcolor": "white"
          },
          "hoverlabel": {
           "align": "left"
          },
          "hovermode": "closest",
          "mapbox": {
           "style": "light"
          },
          "paper_bgcolor": "white",
          "plot_bgcolor": "#E5ECF6",
          "polar": {
           "angularaxis": {
            "gridcolor": "white",
            "linecolor": "white",
            "ticks": ""
           },
           "bgcolor": "#E5ECF6",
           "radialaxis": {
            "gridcolor": "white",
            "linecolor": "white",
            "ticks": ""
           }
          },
          "scene": {
           "xaxis": {
            "backgroundcolor": "#E5ECF6",
            "gridcolor": "white",
            "gridwidth": 2,
            "linecolor": "white",
            "showbackground": true,
            "ticks": "",
            "zerolinecolor": "white"
           },
           "yaxis": {
            "backgroundcolor": "#E5ECF6",
            "gridcolor": "white",
            "gridwidth": 2,
            "linecolor": "white",
            "showbackground": true,
            "ticks": "",
            "zerolinecolor": "white"
           },
           "zaxis": {
            "backgroundcolor": "#E5ECF6",
            "gridcolor": "white",
            "gridwidth": 2,
            "linecolor": "white",
            "showbackground": true,
            "ticks": "",
            "zerolinecolor": "white"
           }
          },
          "shapedefaults": {
           "line": {
            "color": "#2a3f5f"
           }
          },
          "ternary": {
           "aaxis": {
            "gridcolor": "white",
            "linecolor": "white",
            "ticks": ""
           },
           "baxis": {
            "gridcolor": "white",
            "linecolor": "white",
            "ticks": ""
           },
           "bgcolor": "#E5ECF6",
           "caxis": {
            "gridcolor": "white",
            "linecolor": "white",
            "ticks": ""
           }
          },
          "title": {
           "x": 0.05
          },
          "xaxis": {
           "automargin": true,
           "gridcolor": "white",
           "linecolor": "white",
           "ticks": "",
           "title": {
            "standoff": 15
           },
           "zerolinecolor": "white",
           "zerolinewidth": 2
          },
          "yaxis": {
           "automargin": true,
           "gridcolor": "white",
           "linecolor": "white",
           "ticks": "",
           "title": {
            "standoff": 15
           },
           "zerolinecolor": "white",
           "zerolinewidth": 2
          }
         }
        },
        "xaxis": {
         "anchor": "y",
         "domain": [
          0,
          1
         ],
         "title": {
          "text": "Transition"
         }
        },
        "yaxis": {
         "anchor": "x",
         "domain": [
          0,
          1
         ],
         "title": {
          "text": "Intensity"
         }
        }
       }
      },
      "text/html": [
       "<div>                            <div id=\"21cdd450-6c0e-4e23-85e8-67f36a3f4ac2\" class=\"plotly-graph-div\" style=\"height:525px; width:100%;\"></div>            <script type=\"text/javascript\">                require([\"plotly\"], function(Plotly) {                    window.PLOTLYENV=window.PLOTLYENV || {};                                    if (document.getElementById(\"21cdd450-6c0e-4e23-85e8-67f36a3f4ac2\")) {                    Plotly.newPlot(                        \"21cdd450-6c0e-4e23-85e8-67f36a3f4ac2\",                        [{\"alignmentgroup\": \"True\", \"customdata\": [[\"[TG(37:0)]_FA14:0\", \"TAG\"]], \"hovertemplate\": \"Lipid=%{customdata[0]}<br>Transition=%{x}<br>Intensity=%{y}<br>Class=%{customdata[1]}<extra></extra>\", \"legendgroup\": \"[TG(37:0)]_FA14:0\", \"marker\": {\"color\": \"#636efa\"}, \"name\": \"[TG(37:0)]_FA14:0\", \"offsetgroup\": \"[TG(37:0)]_FA14:0\", \"orientation\": \"v\", \"showlegend\": true, \"textposition\": \"auto\", \"type\": \"bar\", \"x\": [\"670.6 -> 425.4\"], \"xaxis\": \"x\", \"y\": [45072.822998046875], \"yaxis\": \"y\"}, {\"alignmentgroup\": \"True\", \"customdata\": [[\"[TG(38:1)]_FA14:0\", \"TAG\"]], \"hovertemplate\": \"Lipid=%{customdata[0]}<br>Transition=%{x}<br>Intensity=%{y}<br>Class=%{customdata[1]}<extra></extra>\", \"legendgroup\": \"[TG(38:1)]_FA14:0\", \"marker\": {\"color\": \"#EF553B\"}, \"name\": \"[TG(38:1)]_FA14:0\", \"offsetgroup\": \"[TG(38:1)]_FA14:0\", \"orientation\": \"v\", \"showlegend\": true, \"textposition\": \"auto\", \"type\": \"bar\", \"x\": [\"682.6 -> 437.4\"], \"xaxis\": \"x\", \"y\": [64211.844482421875], \"yaxis\": \"y\"}, {\"alignmentgroup\": \"True\", \"customdata\": [[\"[TG(38:0)]_FA14:0\", \"TAG\"]], \"hovertemplate\": \"Lipid=%{customdata[0]}<br>Transition=%{x}<br>Intensity=%{y}<br>Class=%{customdata[1]}<extra></extra>\", \"legendgroup\": \"[TG(38:0)]_FA14:0\", \"marker\": {\"color\": \"#00cc96\"}, \"name\": \"[TG(38:0)]_FA14:0\", \"offsetgroup\": \"[TG(38:0)]_FA14:0\", \"orientation\": \"v\", \"showlegend\": true, \"textposition\": \"auto\", \"type\": \"bar\", \"x\": [\"684.6 -> 439.4\"], \"xaxis\": \"x\", \"y\": [237300.73681640625], \"yaxis\": \"y\"}, {\"alignmentgroup\": \"True\", \"customdata\": [[\"[TG(39:1)]_FA14:0\", \"TAG\"]], \"hovertemplate\": \"Lipid=%{customdata[0]}<br>Transition=%{x}<br>Intensity=%{y}<br>Class=%{customdata[1]}<extra></extra>\", \"legendgroup\": \"[TG(39:1)]_FA14:0\", \"marker\": {\"color\": \"#ab63fa\"}, \"name\": \"[TG(39:1)]_FA14:0\", \"offsetgroup\": \"[TG(39:1)]_FA14:0\", \"orientation\": \"v\", \"showlegend\": true, \"textposition\": \"auto\", \"type\": \"bar\", \"x\": [\"696.6 -> 451.4\"], \"xaxis\": \"x\", \"y\": [27744.182037353516], \"yaxis\": \"y\"}, {\"alignmentgroup\": \"True\", \"customdata\": [[\"[TG(39:0)]_FA14:0\", \"TAG\"]], \"hovertemplate\": \"Lipid=%{customdata[0]}<br>Transition=%{x}<br>Intensity=%{y}<br>Class=%{customdata[1]}<extra></extra>\", \"legendgroup\": \"[TG(39:0)]_FA14:0\", \"marker\": {\"color\": \"#FFA15A\"}, \"name\": \"[TG(39:0)]_FA14:0\", \"offsetgroup\": \"[TG(39:0)]_FA14:0\", \"orientation\": \"v\", \"showlegend\": true, \"textposition\": \"auto\", \"type\": \"bar\", \"x\": [\"698.6 -> 453.4\"], \"xaxis\": \"x\", \"y\": [37315.48260498047], \"yaxis\": \"y\"}, {\"alignmentgroup\": \"True\", \"customdata\": [[\"[TG(40:2)]_FA14:0\", \"TAG\"]], \"hovertemplate\": \"Lipid=%{customdata[0]}<br>Transition=%{x}<br>Intensity=%{y}<br>Class=%{customdata[1]}<extra></extra>\", \"legendgroup\": \"[TG(40:2)]_FA14:0\", \"marker\": {\"color\": \"#19d3f3\"}, \"name\": \"[TG(40:2)]_FA14:0\", \"offsetgroup\": \"[TG(40:2)]_FA14:0\", \"orientation\": \"v\", \"showlegend\": true, \"textposition\": \"auto\", \"type\": \"bar\", \"x\": [\"708.6 -> 463.4\"], \"xaxis\": \"x\", \"y\": [24415.261688232422], \"yaxis\": \"y\"}, {\"alignmentgroup\": \"True\", \"customdata\": [[\"[TG(40:1)]_FA14:0\", \"TAG\"]], \"hovertemplate\": \"Lipid=%{customdata[0]}<br>Transition=%{x}<br>Intensity=%{y}<br>Class=%{customdata[1]}<extra></extra>\", \"legendgroup\": \"[TG(40:1)]_FA14:0\", \"marker\": {\"color\": \"#FF6692\"}, \"name\": \"[TG(40:1)]_FA14:0\", \"offsetgroup\": \"[TG(40:1)]_FA14:0\", \"orientation\": \"v\", \"showlegend\": true, \"textposition\": \"auto\", \"type\": \"bar\", \"x\": [\"710.6 -> 465.4\"], \"xaxis\": \"x\", \"y\": [34708.20263671875], \"yaxis\": \"y\"}, {\"alignmentgroup\": \"True\", \"customdata\": [[\"[TG(40:0)]_FA14:0\", \"TAG\"]], \"hovertemplate\": \"Lipid=%{customdata[0]}<br>Transition=%{x}<br>Intensity=%{y}<br>Class=%{customdata[1]}<extra></extra>\", \"legendgroup\": \"[TG(40:0)]_FA14:0\", \"marker\": {\"color\": \"#B6E880\"}, \"name\": \"[TG(40:0)]_FA14:0\", \"offsetgroup\": \"[TG(40:0)]_FA14:0\", \"orientation\": \"v\", \"showlegend\": true, \"textposition\": \"auto\", \"type\": \"bar\", \"x\": [\"712.6 -> 467.4\"], \"xaxis\": \"x\", \"y\": [155327.89086914062], \"yaxis\": \"y\"}, {\"alignmentgroup\": \"True\", \"customdata\": [[\"[TG(41:2)]_FA14:0\", \"TAG\"]], \"hovertemplate\": \"Lipid=%{customdata[0]}<br>Transition=%{x}<br>Intensity=%{y}<br>Class=%{customdata[1]}<extra></extra>\", \"legendgroup\": \"[TG(41:2)]_FA14:0\", \"marker\": {\"color\": \"#FF97FF\"}, \"name\": \"[TG(41:2)]_FA14:0\", \"offsetgroup\": \"[TG(41:2)]_FA14:0\", \"orientation\": \"v\", \"showlegend\": true, \"textposition\": \"auto\", \"type\": \"bar\", \"x\": [\"722.6 -> 477.4\"], \"xaxis\": \"x\", \"y\": [20373.861602783203], \"yaxis\": \"y\"}, {\"alignmentgroup\": \"True\", \"customdata\": [[\"[TG(41:1)]_FA14:0\", \"TAG\"]], \"hovertemplate\": \"Lipid=%{customdata[0]}<br>Transition=%{x}<br>Intensity=%{y}<br>Class=%{customdata[1]}<extra></extra>\", \"legendgroup\": \"[TG(41:1)]_FA14:0\", \"marker\": {\"color\": \"#FECB52\"}, \"name\": \"[TG(41:1)]_FA14:0\", \"offsetgroup\": \"[TG(41:1)]_FA14:0\", \"orientation\": \"v\", \"showlegend\": true, \"textposition\": \"auto\", \"type\": \"bar\", \"x\": [\"724.6 -> 479.4\"], \"xaxis\": \"x\", \"y\": [19893.661392211914], \"yaxis\": \"y\"}, {\"alignmentgroup\": \"True\", \"customdata\": [[\"[TG(41:0)]_FA14:0\", \"TAG\"]], \"hovertemplate\": \"Lipid=%{customdata[0]}<br>Transition=%{x}<br>Intensity=%{y}<br>Class=%{customdata[1]}<extra></extra>\", \"legendgroup\": \"[TG(41:0)]_FA14:0\", \"marker\": {\"color\": \"#636efa\"}, \"name\": \"[TG(41:0)]_FA14:0\", \"offsetgroup\": \"[TG(41:0)]_FA14:0\", \"orientation\": \"v\", \"showlegend\": true, \"textposition\": \"auto\", \"type\": \"bar\", \"x\": [\"726.7 -> 481.5\"], \"xaxis\": \"x\", \"y\": [26466.401824951172], \"yaxis\": \"y\"}, {\"alignmentgroup\": \"True\", \"customdata\": [[\"[TG(42:4)]_FA14:0\", \"TAG\"]], \"hovertemplate\": \"Lipid=%{customdata[0]}<br>Transition=%{x}<br>Intensity=%{y}<br>Class=%{customdata[1]}<extra></extra>\", \"legendgroup\": \"[TG(42:4)]_FA14:0\", \"marker\": {\"color\": \"#EF553B\"}, \"name\": \"[TG(42:4)]_FA14:0\", \"offsetgroup\": \"[TG(42:4)]_FA14:0\", \"orientation\": \"v\", \"showlegend\": true, \"textposition\": \"auto\", \"type\": \"bar\", \"x\": [\"732.6 -> 487.4\"], \"xaxis\": \"x\", \"y\": [15374.68115234375], \"yaxis\": \"y\"}, {\"alignmentgroup\": \"True\", \"customdata\": [[\"[TG(42:3)]_FA14:0\", \"TAG\"]], \"hovertemplate\": \"Lipid=%{customdata[0]}<br>Transition=%{x}<br>Intensity=%{y}<br>Class=%{customdata[1]}<extra></extra>\", \"legendgroup\": \"[TG(42:3)]_FA14:0\", \"marker\": {\"color\": \"#00cc96\"}, \"name\": \"[TG(42:3)]_FA14:0\", \"offsetgroup\": \"[TG(42:3)]_FA14:0\", \"orientation\": \"v\", \"showlegend\": true, \"textposition\": \"auto\", \"type\": \"bar\", \"x\": [\"734.6 -> 489.4\"], \"xaxis\": \"x\", \"y\": [19889.30142211914], \"yaxis\": \"y\"}, {\"alignmentgroup\": \"True\", \"customdata\": [[\"[TG(42:2)]_FA14:0\", \"TAG\"]], \"hovertemplate\": \"Lipid=%{customdata[0]}<br>Transition=%{x}<br>Intensity=%{y}<br>Class=%{customdata[1]}<extra></extra>\", \"legendgroup\": \"[TG(42:2)]_FA14:0\", \"marker\": {\"color\": \"#ab63fa\"}, \"name\": \"[TG(42:2)]_FA14:0\", \"offsetgroup\": \"[TG(42:2)]_FA14:0\", \"orientation\": \"v\", \"showlegend\": true, \"textposition\": \"auto\", \"type\": \"bar\", \"x\": [\"736.6 -> 491.4\"], \"xaxis\": \"x\", \"y\": [17753.80108642578], \"yaxis\": \"y\"}, {\"alignmentgroup\": \"True\", \"customdata\": [[\"[TG(42:1)]_FA14:0\", \"TAG\"]], \"hovertemplate\": \"Lipid=%{customdata[0]}<br>Transition=%{x}<br>Intensity=%{y}<br>Class=%{customdata[1]}<extra></extra>\", \"legendgroup\": \"[TG(42:1)]_FA14:0\", \"marker\": {\"color\": \"#FFA15A\"}, \"name\": \"[TG(42:1)]_FA14:0\", \"offsetgroup\": \"[TG(42:1)]_FA14:0\", \"orientation\": \"v\", \"showlegend\": true, \"textposition\": \"auto\", \"type\": \"bar\", \"x\": [\"738.7 -> 493.5\"], \"xaxis\": \"x\", \"y\": [131865.6494140625], \"yaxis\": \"y\"}, {\"alignmentgroup\": \"True\", \"customdata\": [[\"[TG(42:0)]_FA14:0\", \"TAG\"]], \"hovertemplate\": \"Lipid=%{customdata[0]}<br>Transition=%{x}<br>Intensity=%{y}<br>Class=%{customdata[1]}<extra></extra>\", \"legendgroup\": \"[TG(42:0)]_FA14:0\", \"marker\": {\"color\": \"#19d3f3\"}, \"name\": \"[TG(42:0)]_FA14:0\", \"offsetgroup\": \"[TG(42:0)]_FA14:0\", \"orientation\": \"v\", \"showlegend\": true, \"textposition\": \"auto\", \"type\": \"bar\", \"x\": [\"740.7 -> 495.5\"], \"xaxis\": \"x\", \"y\": [94824.94689941406], \"yaxis\": \"y\"}, {\"alignmentgroup\": \"True\", \"customdata\": [[\"[TG(43:4)]_FA14:0\", \"TAG\"]], \"hovertemplate\": \"Lipid=%{customdata[0]}<br>Transition=%{x}<br>Intensity=%{y}<br>Class=%{customdata[1]}<extra></extra>\", \"legendgroup\": \"[TG(43:4)]_FA14:0\", \"marker\": {\"color\": \"#FF6692\"}, \"name\": \"[TG(43:4)]_FA14:0\", \"offsetgroup\": \"[TG(43:4)]_FA14:0\", \"orientation\": \"v\", \"showlegend\": true, \"textposition\": \"auto\", \"type\": \"bar\", \"x\": [\"746.6 -> 501.4\"], \"xaxis\": \"x\", \"y\": [16791.481231689453], \"yaxis\": \"y\"}, {\"alignmentgroup\": \"True\", \"customdata\": [[\"[TG(43:3)]_FA14:0\", \"TAG\"]], \"hovertemplate\": \"Lipid=%{customdata[0]}<br>Transition=%{x}<br>Intensity=%{y}<br>Class=%{customdata[1]}<extra></extra>\", \"legendgroup\": \"[TG(43:3)]_FA14:0\", \"marker\": {\"color\": \"#B6E880\"}, \"name\": \"[TG(43:3)]_FA14:0\", \"offsetgroup\": \"[TG(43:3)]_FA14:0\", \"orientation\": \"v\", \"showlegend\": true, \"textposition\": \"auto\", \"type\": \"bar\", \"x\": [\"748.6 -> 503.4\"], \"xaxis\": \"x\", \"y\": [63030.504150390625], \"yaxis\": \"y\"}, {\"alignmentgroup\": \"True\", \"customdata\": [[\"[TG(43:2)]_FA14:0\", \"TAG\"]], \"hovertemplate\": \"Lipid=%{customdata[0]}<br>Transition=%{x}<br>Intensity=%{y}<br>Class=%{customdata[1]}<extra></extra>\", \"legendgroup\": \"[TG(43:2)]_FA14:0\", \"marker\": {\"color\": \"#FF97FF\"}, \"name\": \"[TG(43:2)]_FA14:0\", \"offsetgroup\": \"[TG(43:2)]_FA14:0\", \"orientation\": \"v\", \"showlegend\": true, \"textposition\": \"auto\", \"type\": \"bar\", \"x\": [\"750.7 -> 505.5\"], \"xaxis\": \"x\", \"y\": [26622.84196472168], \"yaxis\": \"y\"}, {\"alignmentgroup\": \"True\", \"customdata\": [[\"[TG(43:1)]_FA14:0\", \"TAG\"]], \"hovertemplate\": \"Lipid=%{customdata[0]}<br>Transition=%{x}<br>Intensity=%{y}<br>Class=%{customdata[1]}<extra></extra>\", \"legendgroup\": \"[TG(43:1)]_FA14:0\", \"marker\": {\"color\": \"#FECB52\"}, \"name\": \"[TG(43:1)]_FA14:0\", \"offsetgroup\": \"[TG(43:1)]_FA14:0\", \"orientation\": \"v\", \"showlegend\": true, \"textposition\": \"auto\", \"type\": \"bar\", \"x\": [\"752.7 -> 507.5\"], \"xaxis\": \"x\", \"y\": [28583.40203857422], \"yaxis\": \"y\"}, {\"alignmentgroup\": \"True\", \"customdata\": [[\"[TG(43:0)]_FA14:0\", \"TAG\"]], \"hovertemplate\": \"Lipid=%{customdata[0]}<br>Transition=%{x}<br>Intensity=%{y}<br>Class=%{customdata[1]}<extra></extra>\", \"legendgroup\": \"[TG(43:0)]_FA14:0\", \"marker\": {\"color\": \"#636efa\"}, \"name\": \"[TG(43:0)]_FA14:0\", \"offsetgroup\": \"[TG(43:0)]_FA14:0\", \"orientation\": \"v\", \"showlegend\": true, \"textposition\": \"auto\", \"type\": \"bar\", \"x\": [\"754.7 -> 509.5\"], \"xaxis\": \"x\", \"y\": [29018.08203125], \"yaxis\": \"y\"}, {\"alignmentgroup\": \"True\", \"customdata\": [[\"[TG(44:5)]_FA14:0\", \"TAG\"]], \"hovertemplate\": \"Lipid=%{customdata[0]}<br>Transition=%{x}<br>Intensity=%{y}<br>Class=%{customdata[1]}<extra></extra>\", \"legendgroup\": \"[TG(44:5)]_FA14:0\", \"marker\": {\"color\": \"#EF553B\"}, \"name\": \"[TG(44:5)]_FA14:0\", \"offsetgroup\": \"[TG(44:5)]_FA14:0\", \"orientation\": \"v\", \"showlegend\": true, \"textposition\": \"auto\", \"type\": \"bar\", \"x\": [\"758.6 -> 513.4\"], \"xaxis\": \"x\", \"y\": [17620.081260681152], \"yaxis\": \"y\"}, {\"alignmentgroup\": \"True\", \"customdata\": [[\"[TG(44:4)]_FA14:0\", \"TAG\"]], \"hovertemplate\": \"Lipid=%{customdata[0]}<br>Transition=%{x}<br>Intensity=%{y}<br>Class=%{customdata[1]}<extra></extra>\", \"legendgroup\": \"[TG(44:4)]_FA14:0\", \"marker\": {\"color\": \"#00cc96\"}, \"name\": \"[TG(44:4)]_FA14:0\", \"offsetgroup\": \"[TG(44:4)]_FA14:0\", \"orientation\": \"v\", \"showlegend\": true, \"textposition\": \"auto\", \"type\": \"bar\", \"x\": [\"760.6 -> 515.4\"], \"xaxis\": \"x\", \"y\": [15765.661041259766], \"yaxis\": \"y\"}, {\"alignmentgroup\": \"True\", \"customdata\": [[\"[TG(44:3)]_FA14:0\", \"TAG\"]], \"hovertemplate\": \"Lipid=%{customdata[0]}<br>Transition=%{x}<br>Intensity=%{y}<br>Class=%{customdata[1]}<extra></extra>\", \"legendgroup\": \"[TG(44:3)]_FA14:0\", \"marker\": {\"color\": \"#ab63fa\"}, \"name\": \"[TG(44:3)]_FA14:0\", \"offsetgroup\": \"[TG(44:3)]_FA14:0\", \"orientation\": \"v\", \"showlegend\": true, \"textposition\": \"auto\", \"type\": \"bar\", \"x\": [\"762.7 -> 517.5\"], \"xaxis\": \"x\", \"y\": [18071.14141845703], \"yaxis\": \"y\"}, {\"alignmentgroup\": \"True\", \"customdata\": [[\"[TG(44:2)]_FA14:0\", \"TAG\"]], \"hovertemplate\": \"Lipid=%{customdata[0]}<br>Transition=%{x}<br>Intensity=%{y}<br>Class=%{customdata[1]}<extra></extra>\", \"legendgroup\": \"[TG(44:2)]_FA14:0\", \"marker\": {\"color\": \"#FFA15A\"}, \"name\": \"[TG(44:2)]_FA14:0\", \"offsetgroup\": \"[TG(44:2)]_FA14:0\", \"orientation\": \"v\", \"showlegend\": true, \"textposition\": \"auto\", \"type\": \"bar\", \"x\": [\"764.7 -> 519.5\"], \"xaxis\": \"x\", \"y\": [39169.32312011719], \"yaxis\": \"y\"}, {\"alignmentgroup\": \"True\", \"customdata\": [[\"[TG(44:1)]_FA14:0\", \"TAG\"]], \"hovertemplate\": \"Lipid=%{customdata[0]}<br>Transition=%{x}<br>Intensity=%{y}<br>Class=%{customdata[1]}<extra></extra>\", \"legendgroup\": \"[TG(44:1)]_FA14:0\", \"marker\": {\"color\": \"#19d3f3\"}, \"name\": \"[TG(44:1)]_FA14:0\", \"offsetgroup\": \"[TG(44:1)]_FA14:0\", \"orientation\": \"v\", \"showlegend\": true, \"textposition\": \"auto\", \"type\": \"bar\", \"x\": [\"766.7 -> 521.5\"], \"xaxis\": \"x\", \"y\": [31882.602020263672], \"yaxis\": \"y\"}, {\"alignmentgroup\": \"True\", \"customdata\": [[\"[TG(44:0),TG(O-45:0)]_FA14:0\", \"TAG\"]], \"hovertemplate\": \"Lipid=%{customdata[0]}<br>Transition=%{x}<br>Intensity=%{y}<br>Class=%{customdata[1]}<extra></extra>\", \"legendgroup\": \"[TG(44:0),TG(O-45:0)]_FA14:0\", \"marker\": {\"color\": \"#FF6692\"}, \"name\": \"[TG(44:0),TG(O-45:0)]_FA14:0\", \"offsetgroup\": \"[TG(44:0),TG(O-45:0)]_FA14:0\", \"orientation\": \"v\", \"showlegend\": true, \"textposition\": \"auto\", \"type\": \"bar\", \"x\": [\"768.7 -> 523.5\"], \"xaxis\": \"x\", \"y\": [72722.04577636719], \"yaxis\": \"y\"}, {\"alignmentgroup\": \"True\", \"customdata\": [[\"[TG(45:5)]_FA14:0\", \"TAG\"]], \"hovertemplate\": \"Lipid=%{customdata[0]}<br>Transition=%{x}<br>Intensity=%{y}<br>Class=%{customdata[1]}<extra></extra>\", \"legendgroup\": \"[TG(45:5)]_FA14:0\", \"marker\": {\"color\": \"#B6E880\"}, \"name\": \"[TG(45:5)]_FA14:0\", \"offsetgroup\": \"[TG(45:5)]_FA14:0\", \"orientation\": \"v\", \"showlegend\": true, \"textposition\": \"auto\", \"type\": \"bar\", \"x\": [\"772.6 -> 527.4\"], \"xaxis\": \"x\", \"y\": [18579.66111755371], \"yaxis\": \"y\"}, {\"alignmentgroup\": \"True\", \"customdata\": [[\"[TG(45:4)]_FA14:0\", \"TAG\"]], \"hovertemplate\": \"Lipid=%{customdata[0]}<br>Transition=%{x}<br>Intensity=%{y}<br>Class=%{customdata[1]}<extra></extra>\", \"legendgroup\": \"[TG(45:4)]_FA14:0\", \"marker\": {\"color\": \"#FF97FF\"}, \"name\": \"[TG(45:4)]_FA14:0\", \"offsetgroup\": \"[TG(45:4)]_FA14:0\", \"orientation\": \"v\", \"showlegend\": true, \"textposition\": \"auto\", \"type\": \"bar\", \"x\": [\"774.7 -> 529.5\"], \"xaxis\": \"x\", \"y\": [21398.161346435547], \"yaxis\": \"y\"}, {\"alignmentgroup\": \"True\", \"customdata\": [[\"[TG(45:3)]_FA14:0\", \"TAG\"]], \"hovertemplate\": \"Lipid=%{customdata[0]}<br>Transition=%{x}<br>Intensity=%{y}<br>Class=%{customdata[1]}<extra></extra>\", \"legendgroup\": \"[TG(45:3)]_FA14:0\", \"marker\": {\"color\": \"#FECB52\"}, \"name\": \"[TG(45:3)]_FA14:0\", \"offsetgroup\": \"[TG(45:3)]_FA14:0\", \"orientation\": \"v\", \"showlegend\": true, \"textposition\": \"auto\", \"type\": \"bar\", \"x\": [\"776.7 -> 531.5\"], \"xaxis\": \"x\", \"y\": [18318.621307373047], \"yaxis\": \"y\"}, {\"alignmentgroup\": \"True\", \"customdata\": [[\"[TG(45:2)]_FA14:0\", \"TAG\"]], \"hovertemplate\": \"Lipid=%{customdata[0]}<br>Transition=%{x}<br>Intensity=%{y}<br>Class=%{customdata[1]}<extra></extra>\", \"legendgroup\": \"[TG(45:2)]_FA14:0\", \"marker\": {\"color\": \"#636efa\"}, \"name\": \"[TG(45:2)]_FA14:0\", \"offsetgroup\": \"[TG(45:2)]_FA14:0\", \"orientation\": \"v\", \"showlegend\": true, \"textposition\": \"auto\", \"type\": \"bar\", \"x\": [\"778.7 -> 533.5\"], \"xaxis\": \"x\", \"y\": [16532.841232299805], \"yaxis\": \"y\"}, {\"alignmentgroup\": \"True\", \"customdata\": [[\"[TG(45:1)]_FA14:0\", \"TAG\"]], \"hovertemplate\": \"Lipid=%{customdata[0]}<br>Transition=%{x}<br>Intensity=%{y}<br>Class=%{customdata[1]}<extra></extra>\", \"legendgroup\": \"[TG(45:1)]_FA14:0\", \"marker\": {\"color\": \"#EF553B\"}, \"name\": \"[TG(45:1)]_FA14:0\", \"offsetgroup\": \"[TG(45:1)]_FA14:0\", \"orientation\": \"v\", \"showlegend\": true, \"textposition\": \"auto\", \"type\": \"bar\", \"x\": [\"780.7 -> 535.5\"], \"xaxis\": \"x\", \"y\": [70729.62463378906], \"yaxis\": \"y\"}, {\"alignmentgroup\": \"True\", \"customdata\": [[\"[TG(45:0)]_FA14:0\", \"TAG\"]], \"hovertemplate\": \"Lipid=%{customdata[0]}<br>Transition=%{x}<br>Intensity=%{y}<br>Class=%{customdata[1]}<extra></extra>\", \"legendgroup\": \"[TG(45:0)]_FA14:0\", \"marker\": {\"color\": \"#00cc96\"}, \"name\": \"[TG(45:0)]_FA14:0\", \"offsetgroup\": \"[TG(45:0)]_FA14:0\", \"orientation\": \"v\", \"showlegend\": true, \"textposition\": \"auto\", \"type\": \"bar\", \"x\": [\"782.7 -> 537.5\"], \"xaxis\": \"x\", \"y\": [46782.86340332031], \"yaxis\": \"y\"}, {\"alignmentgroup\": \"True\", \"customdata\": [[\"[TG(46:6)]_FA14:0\", \"TAG\"]], \"hovertemplate\": \"Lipid=%{customdata[0]}<br>Transition=%{x}<br>Intensity=%{y}<br>Class=%{customdata[1]}<extra></extra>\", \"legendgroup\": \"[TG(46:6)]_FA14:0\", \"marker\": {\"color\": \"#ab63fa\"}, \"name\": \"[TG(46:6)]_FA14:0\", \"offsetgroup\": \"[TG(46:6)]_FA14:0\", \"orientation\": \"v\", \"showlegend\": true, \"textposition\": \"auto\", \"type\": \"bar\", \"x\": [\"784.6 -> 539.4\"], \"xaxis\": \"x\", \"y\": [20436.341217041016], \"yaxis\": \"y\"}, {\"alignmentgroup\": \"True\", \"customdata\": [[\"[TG(46:5)]_FA14:0\", \"TAG\"]], \"hovertemplate\": \"Lipid=%{customdata[0]}<br>Transition=%{x}<br>Intensity=%{y}<br>Class=%{customdata[1]}<extra></extra>\", \"legendgroup\": \"[TG(46:5)]_FA14:0\", \"marker\": {\"color\": \"#FFA15A\"}, \"name\": \"[TG(46:5)]_FA14:0\", \"offsetgroup\": \"[TG(46:5)]_FA14:0\", \"orientation\": \"v\", \"showlegend\": true, \"textposition\": \"auto\", \"type\": \"bar\", \"x\": [\"786.7 -> 541.5\"], \"xaxis\": \"x\", \"y\": [20286.141387939453], \"yaxis\": \"y\"}, {\"alignmentgroup\": \"True\", \"customdata\": [[\"[TG(46:4)]_FA14:0\", \"TAG\"]], \"hovertemplate\": \"Lipid=%{customdata[0]}<br>Transition=%{x}<br>Intensity=%{y}<br>Class=%{customdata[1]}<extra></extra>\", \"legendgroup\": \"[TG(46:4)]_FA14:0\", \"marker\": {\"color\": \"#19d3f3\"}, \"name\": \"[TG(46:4)]_FA14:0\", \"offsetgroup\": \"[TG(46:4)]_FA14:0\", \"orientation\": \"v\", \"showlegend\": true, \"textposition\": \"auto\", \"type\": \"bar\", \"x\": [\"788.7 -> 543.5\"], \"xaxis\": \"x\", \"y\": [18562.861236572266], \"yaxis\": \"y\"}, {\"alignmentgroup\": \"True\", \"customdata\": [[\"[TG(46:3)]_FA14:0\", \"TAG\"]], \"hovertemplate\": \"Lipid=%{customdata[0]}<br>Transition=%{x}<br>Intensity=%{y}<br>Class=%{customdata[1]}<extra></extra>\", \"legendgroup\": \"[TG(46:3)]_FA14:0\", \"marker\": {\"color\": \"#FF6692\"}, \"name\": \"[TG(46:3)]_FA14:0\", \"offsetgroup\": \"[TG(46:3)]_FA14:0\", \"orientation\": \"v\", \"showlegend\": true, \"textposition\": \"auto\", \"type\": \"bar\", \"x\": [\"790.7 -> 545.5\"], \"xaxis\": \"x\", \"y\": [20631.881439208984], \"yaxis\": \"y\"}, {\"alignmentgroup\": \"True\", \"customdata\": [[\"[TG(46:2)]_FA14:0\", \"TAG\"]], \"hovertemplate\": \"Lipid=%{customdata[0]}<br>Transition=%{x}<br>Intensity=%{y}<br>Class=%{customdata[1]}<extra></extra>\", \"legendgroup\": \"[TG(46:2)]_FA14:0\", \"marker\": {\"color\": \"#B6E880\"}, \"name\": \"[TG(46:2)]_FA14:0\", \"offsetgroup\": \"[TG(46:2)]_FA14:0\", \"orientation\": \"v\", \"showlegend\": true, \"textposition\": \"auto\", \"type\": \"bar\", \"x\": [\"792.7 -> 547.5\"], \"xaxis\": \"x\", \"y\": [44036.763610839844], \"yaxis\": \"y\"}, {\"alignmentgroup\": \"True\", \"customdata\": [[\"[TG(46:1)]_FA14:0\", \"TAG\"]], \"hovertemplate\": \"Lipid=%{customdata[0]}<br>Transition=%{x}<br>Intensity=%{y}<br>Class=%{customdata[1]}<extra></extra>\", \"legendgroup\": \"[TG(46:1)]_FA14:0\", \"marker\": {\"color\": \"#FF97FF\"}, \"name\": \"[TG(46:1)]_FA14:0\", \"offsetgroup\": \"[TG(46:1)]_FA14:0\", \"orientation\": \"v\", \"showlegend\": true, \"textposition\": \"auto\", \"type\": \"bar\", \"x\": [\"794.7 -> 549.5\"], \"xaxis\": \"x\", \"y\": [68736.06512451172], \"yaxis\": \"y\"}, {\"alignmentgroup\": \"True\", \"customdata\": [[\"[TG(46:0)]_FA14:0\", \"TAG\"]], \"hovertemplate\": \"Lipid=%{customdata[0]}<br>Transition=%{x}<br>Intensity=%{y}<br>Class=%{customdata[1]}<extra></extra>\", \"legendgroup\": \"[TG(46:0)]_FA14:0\", \"marker\": {\"color\": \"#FECB52\"}, \"name\": \"[TG(46:0)]_FA14:0\", \"offsetgroup\": \"[TG(46:0)]_FA14:0\", \"orientation\": \"v\", \"showlegend\": true, \"textposition\": \"auto\", \"type\": \"bar\", \"x\": [\"796.7 -> 551.5\"], \"xaxis\": \"x\", \"y\": [84029.40625], \"yaxis\": \"y\"}, {\"alignmentgroup\": \"True\", \"customdata\": [[\"[TG(47:6)]_FA14:0\", \"TAG\"]], \"hovertemplate\": \"Lipid=%{customdata[0]}<br>Transition=%{x}<br>Intensity=%{y}<br>Class=%{customdata[1]}<extra></extra>\", \"legendgroup\": \"[TG(47:6)]_FA14:0\", \"marker\": {\"color\": \"#636efa\"}, \"name\": \"[TG(47:6)]_FA14:0\", \"offsetgroup\": \"[TG(47:6)]_FA14:0\", \"orientation\": \"v\", \"showlegend\": true, \"textposition\": \"auto\", \"type\": \"bar\", \"x\": [\"798.7 -> 553.5\"], \"xaxis\": \"x\", \"y\": [26131.921813964844], \"yaxis\": \"y\"}, {\"alignmentgroup\": \"True\", \"customdata\": [[\"[TG(47:5)]_FA14:0\", \"TAG\"]], \"hovertemplate\": \"Lipid=%{customdata[0]}<br>Transition=%{x}<br>Intensity=%{y}<br>Class=%{customdata[1]}<extra></extra>\", \"legendgroup\": \"[TG(47:5)]_FA14:0\", \"marker\": {\"color\": \"#EF553B\"}, \"name\": \"[TG(47:5)]_FA14:0\", \"offsetgroup\": \"[TG(47:5)]_FA14:0\", \"orientation\": \"v\", \"showlegend\": true, \"textposition\": \"auto\", \"type\": \"bar\", \"x\": [\"800.7 -> 555.5\"], \"xaxis\": \"x\", \"y\": [20985.38151550293], \"yaxis\": \"y\"}, {\"alignmentgroup\": \"True\", \"customdata\": [[\"[TG(47:4)]_FA14:0\", \"TAG\"]], \"hovertemplate\": \"Lipid=%{customdata[0]}<br>Transition=%{x}<br>Intensity=%{y}<br>Class=%{customdata[1]}<extra></extra>\", \"legendgroup\": \"[TG(47:4)]_FA14:0\", \"marker\": {\"color\": \"#00cc96\"}, \"name\": \"[TG(47:4)]_FA14:0\", \"offsetgroup\": \"[TG(47:4)]_FA14:0\", \"orientation\": \"v\", \"showlegend\": true, \"textposition\": \"auto\", \"type\": \"bar\", \"x\": [\"802.7 -> 557.5\"], \"xaxis\": \"x\", \"y\": [18959.501403808594], \"yaxis\": \"y\"}, {\"alignmentgroup\": \"True\", \"customdata\": [[\"[TG(47:3)]_FA14:0\", \"TAG\"]], \"hovertemplate\": \"Lipid=%{customdata[0]}<br>Transition=%{x}<br>Intensity=%{y}<br>Class=%{customdata[1]}<extra></extra>\", \"legendgroup\": \"[TG(47:3)]_FA14:0\", \"marker\": {\"color\": \"#ab63fa\"}, \"name\": \"[TG(47:3)]_FA14:0\", \"offsetgroup\": \"[TG(47:3)]_FA14:0\", \"orientation\": \"v\", \"showlegend\": true, \"textposition\": \"auto\", \"type\": \"bar\", \"x\": [\"804.7 -> 559.5\"], \"xaxis\": \"x\", \"y\": [21987.14175415039], \"yaxis\": \"y\"}, {\"alignmentgroup\": \"True\", \"customdata\": [[\"[TG(47:2)]_FA14:0\", \"TAG\"]], \"hovertemplate\": \"Lipid=%{customdata[0]}<br>Transition=%{x}<br>Intensity=%{y}<br>Class=%{customdata[1]}<extra></extra>\", \"legendgroup\": \"[TG(47:2)]_FA14:0\", \"marker\": {\"color\": \"#FFA15A\"}, \"name\": \"[TG(47:2)]_FA14:0\", \"offsetgroup\": \"[TG(47:2)]_FA14:0\", \"orientation\": \"v\", \"showlegend\": true, \"textposition\": \"auto\", \"type\": \"bar\", \"x\": [\"806.7 -> 561.5\"], \"xaxis\": \"x\", \"y\": [24136.061737060547], \"yaxis\": \"y\"}, {\"alignmentgroup\": \"True\", \"customdata\": [[\"[TG(48:8),TG(47:1)]_FA14:0\", \"TAG\"]], \"hovertemplate\": \"Lipid=%{customdata[0]}<br>Transition=%{x}<br>Intensity=%{y}<br>Class=%{customdata[1]}<extra></extra>\", \"legendgroup\": \"[TG(48:8),TG(47:1)]_FA14:0\", \"marker\": {\"color\": \"#19d3f3\"}, \"name\": \"[TG(48:8),TG(47:1)]_FA14:0\", \"offsetgroup\": \"[TG(48:8),TG(47:1)]_FA14:0\", \"orientation\": \"v\", \"showlegend\": true, \"textposition\": \"auto\", \"type\": \"bar\", \"x\": [\"808.7 -> 563.5\"], \"xaxis\": \"x\", \"y\": [31395.762451171875], \"yaxis\": \"y\"}, {\"alignmentgroup\": \"True\", \"customdata\": [[\"[TG(48:7),TG(47:0)]_FA14:0\", \"TAG\"]], \"hovertemplate\": \"Lipid=%{customdata[0]}<br>Transition=%{x}<br>Intensity=%{y}<br>Class=%{customdata[1]}<extra></extra>\", \"legendgroup\": \"[TG(48:7),TG(47:0)]_FA14:0\", \"marker\": {\"color\": \"#FF6692\"}, \"name\": \"[TG(48:7),TG(47:0)]_FA14:0\", \"offsetgroup\": \"[TG(48:7),TG(47:0)]_FA14:0\", \"orientation\": \"v\", \"showlegend\": true, \"textposition\": \"auto\", \"type\": \"bar\", \"x\": [\"810.8 -> 565.6\"], \"xaxis\": \"x\", \"y\": [35014.362396240234], \"yaxis\": \"y\"}, {\"alignmentgroup\": \"True\", \"customdata\": [[\"[TG(48:6)]_FA14:0\", \"TAG\"]], \"hovertemplate\": \"Lipid=%{customdata[0]}<br>Transition=%{x}<br>Intensity=%{y}<br>Class=%{customdata[1]}<extra></extra>\", \"legendgroup\": \"[TG(48:6)]_FA14:0\", \"marker\": {\"color\": \"#B6E880\"}, \"name\": \"[TG(48:6)]_FA14:0\", \"offsetgroup\": \"[TG(48:6)]_FA14:0\", \"orientation\": \"v\", \"showlegend\": true, \"textposition\": \"auto\", \"type\": \"bar\", \"x\": [\"812.7 -> 567.5\"], \"xaxis\": \"x\", \"y\": [51366.403381347656], \"yaxis\": \"y\"}, {\"alignmentgroup\": \"True\", \"customdata\": [[\"[TG(48:5)]_FA14:0\", \"TAG\"]], \"hovertemplate\": \"Lipid=%{customdata[0]}<br>Transition=%{x}<br>Intensity=%{y}<br>Class=%{customdata[1]}<extra></extra>\", \"legendgroup\": \"[TG(48:5)]_FA14:0\", \"marker\": {\"color\": \"#FF97FF\"}, \"name\": \"[TG(48:5)]_FA14:0\", \"offsetgroup\": \"[TG(48:5)]_FA14:0\", \"orientation\": \"v\", \"showlegend\": true, \"textposition\": \"auto\", \"type\": \"bar\", \"x\": [\"814.7 -> 569.5\"], \"xaxis\": \"x\", \"y\": [25303.261779785156], \"yaxis\": \"y\"}, {\"alignmentgroup\": \"True\", \"customdata\": [[\"[TG(48:4)]_FA14:0\", \"TAG\"]], \"hovertemplate\": \"Lipid=%{customdata[0]}<br>Transition=%{x}<br>Intensity=%{y}<br>Class=%{customdata[1]}<extra></extra>\", \"legendgroup\": \"[TG(48:4)]_FA14:0\", \"marker\": {\"color\": \"#FECB52\"}, \"name\": \"[TG(48:4)]_FA14:0\", \"offsetgroup\": \"[TG(48:4)]_FA14:0\", \"orientation\": \"v\", \"showlegend\": true, \"textposition\": \"auto\", \"type\": \"bar\", \"x\": [\"816.7 -> 571.5\"], \"xaxis\": \"x\", \"y\": [23539.601623535156], \"yaxis\": \"y\"}, {\"alignmentgroup\": \"True\", \"customdata\": [[\"[TG(48:3)]_FA14:0\", \"TAG\"]], \"hovertemplate\": \"Lipid=%{customdata[0]}<br>Transition=%{x}<br>Intensity=%{y}<br>Class=%{customdata[1]}<extra></extra>\", \"legendgroup\": \"[TG(48:3)]_FA14:0\", \"marker\": {\"color\": \"#636efa\"}, \"name\": \"[TG(48:3)]_FA14:0\", \"offsetgroup\": \"[TG(48:3)]_FA14:0\", \"orientation\": \"v\", \"showlegend\": true, \"textposition\": \"auto\", \"type\": \"bar\", \"x\": [\"818.7 -> 573.5\"], \"xaxis\": \"x\", \"y\": [82808.48538208008], \"yaxis\": \"y\"}, {\"alignmentgroup\": \"True\", \"customdata\": [[\"[TG(48:2)]_FA14:0\", \"TAG\"]], \"hovertemplate\": \"Lipid=%{customdata[0]}<br>Transition=%{x}<br>Intensity=%{y}<br>Class=%{customdata[1]}<extra></extra>\", \"legendgroup\": \"[TG(48:2)]_FA14:0\", \"marker\": {\"color\": \"#EF553B\"}, \"name\": \"[TG(48:2)]_FA14:0\", \"offsetgroup\": \"[TG(48:2)]_FA14:0\", \"orientation\": \"v\", \"showlegend\": true, \"textposition\": \"auto\", \"type\": \"bar\", \"x\": [\"820.7 -> 575.5\"], \"xaxis\": \"x\", \"y\": [286373.7007446289], \"yaxis\": \"y\"}, {\"alignmentgroup\": \"True\", \"customdata\": [[\"[TG(49:8),TG(48:1)]_FA14:0\", \"TAG\"]], \"hovertemplate\": \"Lipid=%{customdata[0]}<br>Transition=%{x}<br>Intensity=%{y}<br>Class=%{customdata[1]}<extra></extra>\", \"legendgroup\": \"[TG(49:8),TG(48:1)]_FA14:0\", \"marker\": {\"color\": \"#00cc96\"}, \"name\": \"[TG(49:8),TG(48:1)]_FA14:0\", \"offsetgroup\": \"[TG(49:8),TG(48:1)]_FA14:0\", \"orientation\": \"v\", \"showlegend\": true, \"textposition\": \"auto\", \"type\": \"bar\", \"x\": [\"822.8 -> 577.6\"], \"xaxis\": \"x\", \"y\": [333579.6123046875], \"yaxis\": \"y\"}, {\"alignmentgroup\": \"True\", \"customdata\": [[\"[TG(49:7),TG(48:0)]_FA14:0\", \"TAG\"]], \"hovertemplate\": \"Lipid=%{customdata[0]}<br>Transition=%{x}<br>Intensity=%{y}<br>Class=%{customdata[1]}<extra></extra>\", \"legendgroup\": \"[TG(49:7),TG(48:0)]_FA14:0\", \"marker\": {\"color\": \"#ab63fa\"}, \"name\": \"[TG(49:7),TG(48:0)]_FA14:0\", \"offsetgroup\": \"[TG(49:7),TG(48:0)]_FA14:0\", \"orientation\": \"v\", \"showlegend\": true, \"textposition\": \"auto\", \"type\": \"bar\", \"x\": [\"824.8 -> 579.6\"], \"xaxis\": \"x\", \"y\": [80859.20629882812], \"yaxis\": \"y\"}, {\"alignmentgroup\": \"True\", \"customdata\": [[\"[TG(49:6)]_FA14:0\", \"TAG\"]], \"hovertemplate\": \"Lipid=%{customdata[0]}<br>Transition=%{x}<br>Intensity=%{y}<br>Class=%{customdata[1]}<extra></extra>\", \"legendgroup\": \"[TG(49:6)]_FA14:0\", \"marker\": {\"color\": \"#FFA15A\"}, \"name\": \"[TG(49:6)]_FA14:0\", \"offsetgroup\": \"[TG(49:6)]_FA14:0\", \"orientation\": \"v\", \"showlegend\": true, \"textposition\": \"auto\", \"type\": \"bar\", \"x\": [\"826.7 -> 581.5\"], \"xaxis\": \"x\", \"y\": [29734.44223022461], \"yaxis\": \"y\"}, {\"alignmentgroup\": \"True\", \"customdata\": [[\"[TG(49:5)]_FA14:0\", \"TAG\"]], \"hovertemplate\": \"Lipid=%{customdata[0]}<br>Transition=%{x}<br>Intensity=%{y}<br>Class=%{customdata[1]}<extra></extra>\", \"legendgroup\": \"[TG(49:5)]_FA14:0\", \"marker\": {\"color\": \"#19d3f3\"}, \"name\": \"[TG(49:5)]_FA14:0\", \"offsetgroup\": \"[TG(49:5)]_FA14:0\", \"orientation\": \"v\", \"showlegend\": true, \"textposition\": \"auto\", \"type\": \"bar\", \"x\": [\"828.7 -> 583.5\"], \"xaxis\": \"x\", \"y\": [22083.261352539062], \"yaxis\": \"y\"}, {\"alignmentgroup\": \"True\", \"customdata\": [[\"STD_15:0-18:1(d7)-15:0 TAG\", \"STD_15:0-18:1(d7)-15:0 TAG\"]], \"hovertemplate\": \"Lipid=%{customdata[0]}<br>Transition=%{x}<br>Intensity=%{y}<br>Class=%{customdata[1]}<extra></extra>\", \"legendgroup\": \"STD_15:0-18:1(d7)-15:0 TAG\", \"marker\": {\"color\": \"#FF6692\"}, \"name\": \"STD_15:0-18:1(d7)-15:0 TAG\", \"offsetgroup\": \"STD_15:0-18:1(d7)-15:0 TAG\", \"orientation\": \"v\", \"showlegend\": true, \"textposition\": \"auto\", \"type\": \"bar\", \"x\": [\"829.8 -> 570.4\"], \"xaxis\": \"x\", \"y\": [33835.302642822266], \"yaxis\": \"y\"}, {\"alignmentgroup\": \"True\", \"customdata\": [[\"[TG(49:4)]_FA14:0\", \"TAG\"]], \"hovertemplate\": \"Lipid=%{customdata[0]}<br>Transition=%{x}<br>Intensity=%{y}<br>Class=%{customdata[1]}<extra></extra>\", \"legendgroup\": \"[TG(49:4)]_FA14:0\", \"marker\": {\"color\": \"#B6E880\"}, \"name\": \"[TG(49:4)]_FA14:0\", \"offsetgroup\": \"[TG(49:4)]_FA14:0\", \"orientation\": \"v\", \"showlegend\": true, \"textposition\": \"auto\", \"type\": \"bar\", \"x\": [\"830.7 -> 585.5\"], \"xaxis\": \"x\", \"y\": [22096.821563720703], \"yaxis\": \"y\"}, {\"alignmentgroup\": \"True\", \"customdata\": [[\"[TG(49:3)]_FA14:0\", \"TAG\"]], \"hovertemplate\": \"Lipid=%{customdata[0]}<br>Transition=%{x}<br>Intensity=%{y}<br>Class=%{customdata[1]}<extra></extra>\", \"legendgroup\": \"[TG(49:3)]_FA14:0\", \"marker\": {\"color\": \"#FF97FF\"}, \"name\": \"[TG(49:3)]_FA14:0\", \"offsetgroup\": \"[TG(49:3)]_FA14:0\", \"orientation\": \"v\", \"showlegend\": true, \"textposition\": \"auto\", \"type\": \"bar\", \"x\": [\"832.7 -> 587.5\"], \"xaxis\": \"x\", \"y\": [26063.061752319336], \"yaxis\": \"y\"}, {\"alignmentgroup\": \"True\", \"customdata\": [[\"[TG(50:9),TG(49:2)]_FA14:0\", \"TAG\"]], \"hovertemplate\": \"Lipid=%{customdata[0]}<br>Transition=%{x}<br>Intensity=%{y}<br>Class=%{customdata[1]}<extra></extra>\", \"legendgroup\": \"[TG(50:9),TG(49:2)]_FA14:0\", \"marker\": {\"color\": \"#FECB52\"}, \"name\": \"[TG(50:9),TG(49:2)]_FA14:0\", \"offsetgroup\": \"[TG(50:9),TG(49:2)]_FA14:0\", \"orientation\": \"v\", \"showlegend\": true, \"textposition\": \"auto\", \"type\": \"bar\", \"x\": [\"834.8 -> 589.6\"], \"xaxis\": \"x\", \"y\": [29320.561981201172], \"yaxis\": \"y\"}, {\"alignmentgroup\": \"True\", \"customdata\": [[\"[TG(50:8),TG(49:1)]_FA14:0\", \"TAG\"]], \"hovertemplate\": \"Lipid=%{customdata[0]}<br>Transition=%{x}<br>Intensity=%{y}<br>Class=%{customdata[1]}<extra></extra>\", \"legendgroup\": \"[TG(50:8),TG(49:1)]_FA14:0\", \"marker\": {\"color\": \"#636efa\"}, \"name\": \"[TG(50:8),TG(49:1)]_FA14:0\", \"offsetgroup\": \"[TG(50:8),TG(49:1)]_FA14:0\", \"orientation\": \"v\", \"showlegend\": true, \"textposition\": \"auto\", \"type\": \"bar\", \"x\": [\"836.8 -> 591.6\"], \"xaxis\": \"x\", \"y\": [37507.4225769043], \"yaxis\": \"y\"}, {\"alignmentgroup\": \"True\", \"customdata\": [[\"[TG(50:7),TG(49:0)]_FA14:0\", \"TAG\"]], \"hovertemplate\": \"Lipid=%{customdata[0]}<br>Transition=%{x}<br>Intensity=%{y}<br>Class=%{customdata[1]}<extra></extra>\", \"legendgroup\": \"[TG(50:7),TG(49:0)]_FA14:0\", \"marker\": {\"color\": \"#EF553B\"}, \"name\": \"[TG(50:7),TG(49:0)]_FA14:0\", \"offsetgroup\": \"[TG(50:7),TG(49:0)]_FA14:0\", \"orientation\": \"v\", \"showlegend\": true, \"textposition\": \"auto\", \"type\": \"bar\", \"x\": [\"838.8 -> 593.6\"], \"xaxis\": \"x\", \"y\": [34488.222259521484], \"yaxis\": \"y\"}, {\"alignmentgroup\": \"True\", \"customdata\": [[\"[TG(50:6)]_FA14:0\", \"TAG\"]], \"hovertemplate\": \"Lipid=%{customdata[0]}<br>Transition=%{x}<br>Intensity=%{y}<br>Class=%{customdata[1]}<extra></extra>\", \"legendgroup\": \"[TG(50:6)]_FA14:0\", \"marker\": {\"color\": \"#00cc96\"}, \"name\": \"[TG(50:6)]_FA14:0\", \"offsetgroup\": \"[TG(50:6)]_FA14:0\", \"orientation\": \"v\", \"showlegend\": true, \"textposition\": \"auto\", \"type\": \"bar\", \"x\": [\"840.7 -> 595.5\"], \"xaxis\": \"x\", \"y\": [29315.282165527344], \"yaxis\": \"y\"}, {\"alignmentgroup\": \"True\", \"customdata\": [[\"[TG(50:5)]_FA14:0\", \"TAG\"]], \"hovertemplate\": \"Lipid=%{customdata[0]}<br>Transition=%{x}<br>Intensity=%{y}<br>Class=%{customdata[1]}<extra></extra>\", \"legendgroup\": \"[TG(50:5)]_FA14:0\", \"marker\": {\"color\": \"#ab63fa\"}, \"name\": \"[TG(50:5)]_FA14:0\", \"offsetgroup\": \"[TG(50:5)]_FA14:0\", \"orientation\": \"v\", \"showlegend\": true, \"textposition\": \"auto\", \"type\": \"bar\", \"x\": [\"842.7 -> 597.5\"], \"xaxis\": \"x\", \"y\": [35932.222259521484], \"yaxis\": \"y\"}, {\"alignmentgroup\": \"True\", \"customdata\": [[\"[TG(50:4)]_FA14:0\", \"TAG\"]], \"hovertemplate\": \"Lipid=%{customdata[0]}<br>Transition=%{x}<br>Intensity=%{y}<br>Class=%{customdata[1]}<extra></extra>\", \"legendgroup\": \"[TG(50:4)]_FA14:0\", \"marker\": {\"color\": \"#FFA15A\"}, \"name\": \"[TG(50:4)]_FA14:0\", \"offsetgroup\": \"[TG(50:4)]_FA14:0\", \"orientation\": \"v\", \"showlegend\": true, \"textposition\": \"auto\", \"type\": \"bar\", \"x\": [\"844.7 -> 599.5\"], \"xaxis\": \"x\", \"y\": [126118.92807006836], \"yaxis\": \"y\"}, {\"alignmentgroup\": \"True\", \"customdata\": [[\"[TG(50:3)]_FA14:0\", \"TAG\"]], \"hovertemplate\": \"Lipid=%{customdata[0]}<br>Transition=%{x}<br>Intensity=%{y}<br>Class=%{customdata[1]}<extra></extra>\", \"legendgroup\": \"[TG(50:3)]_FA14:0\", \"marker\": {\"color\": \"#19d3f3\"}, \"name\": \"[TG(50:3)]_FA14:0\", \"offsetgroup\": \"[TG(50:3)]_FA14:0\", \"orientation\": \"v\", \"showlegend\": true, \"textposition\": \"auto\", \"type\": \"bar\", \"x\": [\"846.8 -> 601.6\"], \"xaxis\": \"x\", \"y\": [432169.33502197266], \"yaxis\": \"y\"}, {\"alignmentgroup\": \"True\", \"customdata\": [[\"[TG(51:9),TG(50:2)]_FA14:0\", \"TAG\"]], \"hovertemplate\": \"Lipid=%{customdata[0]}<br>Transition=%{x}<br>Intensity=%{y}<br>Class=%{customdata[1]}<extra></extra>\", \"legendgroup\": \"[TG(51:9),TG(50:2)]_FA14:0\", \"marker\": {\"color\": \"#FF6692\"}, \"name\": \"[TG(51:9),TG(50:2)]_FA14:0\", \"offsetgroup\": \"[TG(51:9),TG(50:2)]_FA14:0\", \"orientation\": \"v\", \"showlegend\": true, \"textposition\": \"auto\", \"type\": \"bar\", \"x\": [\"848.8 -> 603.6\"], \"xaxis\": \"x\", \"y\": [501185.328125], \"yaxis\": \"y\"}, {\"alignmentgroup\": \"True\", \"customdata\": [[\"[TG(51:8),TG(50:1)]_FA14:0\", \"TAG\"]], \"hovertemplate\": \"Lipid=%{customdata[0]}<br>Transition=%{x}<br>Intensity=%{y}<br>Class=%{customdata[1]}<extra></extra>\", \"legendgroup\": \"[TG(51:8),TG(50:1)]_FA14:0\", \"marker\": {\"color\": \"#B6E880\"}, \"name\": \"[TG(51:8),TG(50:1)]_FA14:0\", \"offsetgroup\": \"[TG(51:8),TG(50:1)]_FA14:0\", \"orientation\": \"v\", \"showlegend\": true, \"textposition\": \"auto\", \"type\": \"bar\", \"x\": [\"850.8 -> 605.6\"], \"xaxis\": \"x\", \"y\": [86953.32531738281], \"yaxis\": \"y\"}, {\"alignmentgroup\": \"True\", \"customdata\": [[\"[TG(51:7),TG(50:0)]_FA14:0\", \"TAG\"]], \"hovertemplate\": \"Lipid=%{customdata[0]}<br>Transition=%{x}<br>Intensity=%{y}<br>Class=%{customdata[1]}<extra></extra>\", \"legendgroup\": \"[TG(51:7),TG(50:0)]_FA14:0\", \"marker\": {\"color\": \"#FF97FF\"}, \"name\": \"[TG(51:7),TG(50:0)]_FA14:0\", \"offsetgroup\": \"[TG(51:7),TG(50:0)]_FA14:0\", \"orientation\": \"v\", \"showlegend\": true, \"textposition\": \"auto\", \"type\": \"bar\", \"x\": [\"852.8 -> 607.6\"], \"xaxis\": \"x\", \"y\": [36228.10238647461], \"yaxis\": \"y\"}, {\"alignmentgroup\": \"True\", \"customdata\": [[\"[TG(51:6)]_FA14:0\", \"TAG\"]], \"hovertemplate\": \"Lipid=%{customdata[0]}<br>Transition=%{x}<br>Intensity=%{y}<br>Class=%{customdata[1]}<extra></extra>\", \"legendgroup\": \"[TG(51:6)]_FA14:0\", \"marker\": {\"color\": \"#FECB52\"}, \"name\": \"[TG(51:6)]_FA14:0\", \"offsetgroup\": \"[TG(51:6)]_FA14:0\", \"orientation\": \"v\", \"showlegend\": true, \"textposition\": \"auto\", \"type\": \"bar\", \"x\": [\"854.7 -> 609.5\"], \"xaxis\": \"x\", \"y\": [49931.743591308594], \"yaxis\": \"y\"}, {\"alignmentgroup\": \"True\", \"customdata\": [[\"[TG(51:5)]_FA14:0\", \"TAG\"]], \"hovertemplate\": \"Lipid=%{customdata[0]}<br>Transition=%{x}<br>Intensity=%{y}<br>Class=%{customdata[1]}<extra></extra>\", \"legendgroup\": \"[TG(51:5)]_FA14:0\", \"marker\": {\"color\": \"#636efa\"}, \"name\": \"[TG(51:5)]_FA14:0\", \"offsetgroup\": \"[TG(51:5)]_FA14:0\", \"orientation\": \"v\", \"showlegend\": true, \"textposition\": \"auto\", \"type\": \"bar\", \"x\": [\"856.7 -> 611.5\"], \"xaxis\": \"x\", \"y\": [23814.681854248047], \"yaxis\": \"y\"}, {\"alignmentgroup\": \"True\", \"customdata\": [[\"[TG(51:4)]_FA14:0\", \"TAG\"]], \"hovertemplate\": \"Lipid=%{customdata[0]}<br>Transition=%{x}<br>Intensity=%{y}<br>Class=%{customdata[1]}<extra></extra>\", \"legendgroup\": \"[TG(51:4)]_FA14:0\", \"marker\": {\"color\": \"#EF553B\"}, \"name\": \"[TG(51:4)]_FA14:0\", \"offsetgroup\": \"[TG(51:4)]_FA14:0\", \"orientation\": \"v\", \"showlegend\": true, \"textposition\": \"auto\", \"type\": \"bar\", \"x\": [\"858.8 -> 613.6\"], \"xaxis\": \"x\", \"y\": [23092.781524658203], \"yaxis\": \"y\"}, {\"alignmentgroup\": \"True\", \"customdata\": [[\"[TG(52:10),TG(51:3)]_FA14:0\", \"TAG\"]], \"hovertemplate\": \"Lipid=%{customdata[0]}<br>Transition=%{x}<br>Intensity=%{y}<br>Class=%{customdata[1]}<extra></extra>\", \"legendgroup\": \"[TG(52:10),TG(51:3)]_FA14:0\", \"marker\": {\"color\": \"#00cc96\"}, \"name\": \"[TG(52:10),TG(51:3)]_FA14:0\", \"offsetgroup\": \"[TG(52:10),TG(51:3)]_FA14:0\", \"orientation\": \"v\", \"showlegend\": true, \"textposition\": \"auto\", \"type\": \"bar\", \"x\": [\"860.8 -> 615.6\"], \"xaxis\": \"x\", \"y\": [28172.081909179688], \"yaxis\": \"y\"}, {\"alignmentgroup\": \"True\", \"customdata\": [[\"[TG(52:9),TG(51:2)]_FA14:0\", \"TAG\"]], \"hovertemplate\": \"Lipid=%{customdata[0]}<br>Transition=%{x}<br>Intensity=%{y}<br>Class=%{customdata[1]}<extra></extra>\", \"legendgroup\": \"[TG(52:9),TG(51:2)]_FA14:0\", \"marker\": {\"color\": \"#ab63fa\"}, \"name\": \"[TG(52:9),TG(51:2)]_FA14:0\", \"offsetgroup\": \"[TG(52:9),TG(51:2)]_FA14:0\", \"orientation\": \"v\", \"showlegend\": true, \"textposition\": \"auto\", \"type\": \"bar\", \"x\": [\"862.8 -> 617.6\"], \"xaxis\": \"x\", \"y\": [41892.44287109375], \"yaxis\": \"y\"}, {\"alignmentgroup\": \"True\", \"customdata\": [[\"[TG(52:8),TG(51:1)]_FA14:0\", \"TAG\"]], \"hovertemplate\": \"Lipid=%{customdata[0]}<br>Transition=%{x}<br>Intensity=%{y}<br>Class=%{customdata[1]}<extra></extra>\", \"legendgroup\": \"[TG(52:8),TG(51:1)]_FA14:0\", \"marker\": {\"color\": \"#FFA15A\"}, \"name\": \"[TG(52:8),TG(51:1)]_FA14:0\", \"offsetgroup\": \"[TG(52:8),TG(51:1)]_FA14:0\", \"orientation\": \"v\", \"showlegend\": true, \"textposition\": \"auto\", \"type\": \"bar\", \"x\": [\"864.8 -> 619.6\"], \"xaxis\": \"x\", \"y\": [46549.702728271484], \"yaxis\": \"y\"}, {\"alignmentgroup\": \"True\", \"customdata\": [[\"[TG(52:7),TG(51:0)]_FA14:0\", \"TAG\"]], \"hovertemplate\": \"Lipid=%{customdata[0]}<br>Transition=%{x}<br>Intensity=%{y}<br>Class=%{customdata[1]}<extra></extra>\", \"legendgroup\": \"[TG(52:7),TG(51:0)]_FA14:0\", \"marker\": {\"color\": \"#19d3f3\"}, \"name\": \"[TG(52:7),TG(51:0)]_FA14:0\", \"offsetgroup\": \"[TG(52:7),TG(51:0)]_FA14:0\", \"orientation\": \"v\", \"showlegend\": true, \"textposition\": \"auto\", \"type\": \"bar\", \"x\": [\"866.8 -> 621.6\"], \"xaxis\": \"x\", \"y\": [34083.9026184082], \"yaxis\": \"y\"}, {\"alignmentgroup\": \"True\", \"customdata\": [[\"[TG(52:6)]_FA14:0\", \"TAG\"]], \"hovertemplate\": \"Lipid=%{customdata[0]}<br>Transition=%{x}<br>Intensity=%{y}<br>Class=%{customdata[1]}<extra></extra>\", \"legendgroup\": \"[TG(52:6)]_FA14:0\", \"marker\": {\"color\": \"#FF6692\"}, \"name\": \"[TG(52:6)]_FA14:0\", \"offsetgroup\": \"[TG(52:6)]_FA14:0\", \"orientation\": \"v\", \"showlegend\": true, \"textposition\": \"auto\", \"type\": \"bar\", \"x\": [\"868.7 -> 623.5\"], \"xaxis\": \"x\", \"y\": [40384.46292114258], \"yaxis\": \"y\"}, {\"alignmentgroup\": \"True\", \"customdata\": [[\"[TG(52:5)]_FA14:0\", \"TAG\"]], \"hovertemplate\": \"Lipid=%{customdata[0]}<br>Transition=%{x}<br>Intensity=%{y}<br>Class=%{customdata[1]}<extra></extra>\", \"legendgroup\": \"[TG(52:5)]_FA14:0\", \"marker\": {\"color\": \"#B6E880\"}, \"name\": \"[TG(52:5)]_FA14:0\", \"offsetgroup\": \"[TG(52:5)]_FA14:0\", \"orientation\": \"v\", \"showlegend\": true, \"textposition\": \"auto\", \"type\": \"bar\", \"x\": [\"870.8 -> 625.6\"], \"xaxis\": \"x\", \"y\": [44110.603759765625], \"yaxis\": \"y\"}, {\"alignmentgroup\": \"True\", \"customdata\": [[\"[TG(52:4)]_FA14:0\", \"TAG\"]], \"hovertemplate\": \"Lipid=%{customdata[0]}<br>Transition=%{x}<br>Intensity=%{y}<br>Class=%{customdata[1]}<extra></extra>\", \"legendgroup\": \"[TG(52:4)]_FA14:0\", \"marker\": {\"color\": \"#FF97FF\"}, \"name\": \"[TG(52:4)]_FA14:0\", \"offsetgroup\": \"[TG(52:4)]_FA14:0\", \"orientation\": \"v\", \"showlegend\": true, \"textposition\": \"auto\", \"type\": \"bar\", \"x\": [\"872.8 -> 627.6\"], \"xaxis\": \"x\", \"y\": [42770.922912597656], \"yaxis\": \"y\"}, {\"alignmentgroup\": \"True\", \"customdata\": [[\"[TG(53:10),TG(52:3)]_FA14:0\", \"TAG\"]], \"hovertemplate\": \"Lipid=%{customdata[0]}<br>Transition=%{x}<br>Intensity=%{y}<br>Class=%{customdata[1]}<extra></extra>\", \"legendgroup\": \"[TG(53:10),TG(52:3)]_FA14:0\", \"marker\": {\"color\": \"#FECB52\"}, \"name\": \"[TG(53:10),TG(52:3)]_FA14:0\", \"offsetgroup\": \"[TG(53:10),TG(52:3)]_FA14:0\", \"orientation\": \"v\", \"showlegend\": true, \"textposition\": \"auto\", \"type\": \"bar\", \"x\": [\"874.8 -> 629.6\"], \"xaxis\": \"x\", \"y\": [53848.18371582031], \"yaxis\": \"y\"}, {\"alignmentgroup\": \"True\", \"customdata\": [[\"[TG(53:9),TG(52:2)]_FA14:0\", \"TAG\"]], \"hovertemplate\": \"Lipid=%{customdata[0]}<br>Transition=%{x}<br>Intensity=%{y}<br>Class=%{customdata[1]}<extra></extra>\", \"legendgroup\": \"[TG(53:9),TG(52:2)]_FA14:0\", \"marker\": {\"color\": \"#636efa\"}, \"name\": \"[TG(53:9),TG(52:2)]_FA14:0\", \"offsetgroup\": \"[TG(53:9),TG(52:2)]_FA14:0\", \"orientation\": \"v\", \"showlegend\": true, \"textposition\": \"auto\", \"type\": \"bar\", \"x\": [\"876.8 -> 631.6\"], \"xaxis\": \"x\", \"y\": [56664.44418334961], \"yaxis\": \"y\"}, {\"alignmentgroup\": \"True\", \"customdata\": [[\"[TG(53:8),TG(52:1)]_FA14:0\", \"TAG\"]], \"hovertemplate\": \"Lipid=%{customdata[0]}<br>Transition=%{x}<br>Intensity=%{y}<br>Class=%{customdata[1]}<extra></extra>\", \"legendgroup\": \"[TG(53:8),TG(52:1)]_FA14:0\", \"marker\": {\"color\": \"#EF553B\"}, \"name\": \"[TG(53:8),TG(52:1)]_FA14:0\", \"offsetgroup\": \"[TG(53:8),TG(52:1)]_FA14:0\", \"orientation\": \"v\", \"showlegend\": true, \"textposition\": \"auto\", \"type\": \"bar\", \"x\": [\"878.8 -> 633.6\"], \"xaxis\": \"x\", \"y\": [47311.622985839844], \"yaxis\": \"y\"}, {\"alignmentgroup\": \"True\", \"customdata\": [[\"[TG(53:7),TG(52:0)]_FA14:0\", \"TAG\"]], \"hovertemplate\": \"Lipid=%{customdata[0]}<br>Transition=%{x}<br>Intensity=%{y}<br>Class=%{customdata[1]}<extra></extra>\", \"legendgroup\": \"[TG(53:7),TG(52:0)]_FA14:0\", \"marker\": {\"color\": \"#00cc96\"}, \"name\": \"[TG(53:7),TG(52:0)]_FA14:0\", \"offsetgroup\": \"[TG(53:7),TG(52:0)]_FA14:0\", \"orientation\": \"v\", \"showlegend\": true, \"textposition\": \"auto\", \"type\": \"bar\", \"x\": [\"880.8 -> 635.6\"], \"xaxis\": \"x\", \"y\": [30805.982299804688], \"yaxis\": \"y\"}, {\"alignmentgroup\": \"True\", \"customdata\": [[\"[TG(53:6)]_FA14:0\", \"TAG\"]], \"hovertemplate\": \"Lipid=%{customdata[0]}<br>Transition=%{x}<br>Intensity=%{y}<br>Class=%{customdata[1]}<extra></extra>\", \"legendgroup\": \"[TG(53:6)]_FA14:0\", \"marker\": {\"color\": \"#ab63fa\"}, \"name\": \"[TG(53:6)]_FA14:0\", \"offsetgroup\": \"[TG(53:6)]_FA14:0\", \"orientation\": \"v\", \"showlegend\": true, \"textposition\": \"auto\", \"type\": \"bar\", \"x\": [\"882.8 -> 637.6\"], \"xaxis\": \"x\", \"y\": [26174.721771240234], \"yaxis\": \"y\"}, {\"alignmentgroup\": \"True\", \"customdata\": [[\"[TG(54:12),TG(53:5)]_FA14:0\", \"TAG\"]], \"hovertemplate\": \"Lipid=%{customdata[0]}<br>Transition=%{x}<br>Intensity=%{y}<br>Class=%{customdata[1]}<extra></extra>\", \"legendgroup\": \"[TG(54:12),TG(53:5)]_FA14:0\", \"marker\": {\"color\": \"#FFA15A\"}, \"name\": \"[TG(54:12),TG(53:5)]_FA14:0\", \"offsetgroup\": \"[TG(54:12),TG(53:5)]_FA14:0\", \"orientation\": \"v\", \"showlegend\": true, \"textposition\": \"auto\", \"type\": \"bar\", \"x\": [\"884.8 -> 639.6\"], \"xaxis\": \"x\", \"y\": [25399.10171508789], \"yaxis\": \"y\"}, {\"alignmentgroup\": \"True\", \"customdata\": [[\"[TG(54:11),TG(53:4)]_FA14:0\", \"TAG\"]], \"hovertemplate\": \"Lipid=%{customdata[0]}<br>Transition=%{x}<br>Intensity=%{y}<br>Class=%{customdata[1]}<extra></extra>\", \"legendgroup\": \"[TG(54:11),TG(53:4)]_FA14:0\", \"marker\": {\"color\": \"#19d3f3\"}, \"name\": \"[TG(54:11),TG(53:4)]_FA14:0\", \"offsetgroup\": \"[TG(54:11),TG(53:4)]_FA14:0\", \"orientation\": \"v\", \"showlegend\": true, \"textposition\": \"auto\", \"type\": \"bar\", \"x\": [\"886.8 -> 641.6\"], \"xaxis\": \"x\", \"y\": [25004.141693115234], \"yaxis\": \"y\"}, {\"alignmentgroup\": \"True\", \"customdata\": [[\"[TG(54:10),TG(53:3)]_FA14:0\", \"TAG\"]], \"hovertemplate\": \"Lipid=%{customdata[0]}<br>Transition=%{x}<br>Intensity=%{y}<br>Class=%{customdata[1]}<extra></extra>\", \"legendgroup\": \"[TG(54:10),TG(53:3)]_FA14:0\", \"marker\": {\"color\": \"#FF6692\"}, \"name\": \"[TG(54:10),TG(53:3)]_FA14:0\", \"offsetgroup\": \"[TG(54:10),TG(53:3)]_FA14:0\", \"orientation\": \"v\", \"showlegend\": true, \"textposition\": \"auto\", \"type\": \"bar\", \"x\": [\"888.8 -> 643.6\"], \"xaxis\": \"x\", \"y\": [31147.182556152344], \"yaxis\": \"y\"}, {\"alignmentgroup\": \"True\", \"customdata\": [[\"[TG(54:9),TG(53:2)]_FA14:0\", \"TAG\"]], \"hovertemplate\": \"Lipid=%{customdata[0]}<br>Transition=%{x}<br>Intensity=%{y}<br>Class=%{customdata[1]}<extra></extra>\", \"legendgroup\": \"[TG(54:9),TG(53:2)]_FA14:0\", \"marker\": {\"color\": \"#B6E880\"}, \"name\": \"[TG(54:9),TG(53:2)]_FA14:0\", \"offsetgroup\": \"[TG(54:9),TG(53:2)]_FA14:0\", \"orientation\": \"v\", \"showlegend\": true, \"textposition\": \"auto\", \"type\": \"bar\", \"x\": [\"890.8 -> 645.6\"], \"xaxis\": \"x\", \"y\": [38980.08303833008], \"yaxis\": \"y\"}, {\"alignmentgroup\": \"True\", \"customdata\": [[\"[TG(54:8),TG(53:1)]_FA14:0\", \"TAG\"]], \"hovertemplate\": \"Lipid=%{customdata[0]}<br>Transition=%{x}<br>Intensity=%{y}<br>Class=%{customdata[1]}<extra></extra>\", \"legendgroup\": \"[TG(54:8),TG(53:1)]_FA14:0\", \"marker\": {\"color\": \"#FF97FF\"}, \"name\": \"[TG(54:8),TG(53:1)]_FA14:0\", \"offsetgroup\": \"[TG(54:8),TG(53:1)]_FA14:0\", \"orientation\": \"v\", \"showlegend\": true, \"textposition\": \"auto\", \"type\": \"bar\", \"x\": [\"892.8 -> 647.6\"], \"xaxis\": \"x\", \"y\": [46906.80307006836], \"yaxis\": \"y\"}, {\"alignmentgroup\": \"True\", \"customdata\": [[\"[TG(54:7),TG(53:0)]_FA14:0\", \"TAG\"]], \"hovertemplate\": \"Lipid=%{customdata[0]}<br>Transition=%{x}<br>Intensity=%{y}<br>Class=%{customdata[1]}<extra></extra>\", \"legendgroup\": \"[TG(54:7),TG(53:0)]_FA14:0\", \"marker\": {\"color\": \"#FECB52\"}, \"name\": \"[TG(54:7),TG(53:0)]_FA14:0\", \"offsetgroup\": \"[TG(54:7),TG(53:0)]_FA14:0\", \"orientation\": \"v\", \"showlegend\": true, \"textposition\": \"auto\", \"type\": \"bar\", \"x\": [\"894.8 -> 649.6\"], \"xaxis\": \"x\", \"y\": [38897.4231262207], \"yaxis\": \"y\"}, {\"alignmentgroup\": \"True\", \"customdata\": [[\"[TG(54:6)]_FA14:0\", \"TAG\"]], \"hovertemplate\": \"Lipid=%{customdata[0]}<br>Transition=%{x}<br>Intensity=%{y}<br>Class=%{customdata[1]}<extra></extra>\", \"legendgroup\": \"[TG(54:6)]_FA14:0\", \"marker\": {\"color\": \"#636efa\"}, \"name\": \"[TG(54:6)]_FA14:0\", \"offsetgroup\": \"[TG(54:6)]_FA14:0\", \"orientation\": \"v\", \"showlegend\": true, \"textposition\": \"auto\", \"type\": \"bar\", \"x\": [\"896.8 -> 651.6\"], \"xaxis\": \"x\", \"y\": [73665.94470214844], \"yaxis\": \"y\"}, {\"alignmentgroup\": \"True\", \"customdata\": [[\"[TG(54:5)]_FA14:0\", \"TAG\"]], \"hovertemplate\": \"Lipid=%{customdata[0]}<br>Transition=%{x}<br>Intensity=%{y}<br>Class=%{customdata[1]}<extra></extra>\", \"legendgroup\": \"[TG(54:5)]_FA14:0\", \"marker\": {\"color\": \"#EF553B\"}, \"name\": \"[TG(54:5)]_FA14:0\", \"offsetgroup\": \"[TG(54:5)]_FA14:0\", \"orientation\": \"v\", \"showlegend\": true, \"textposition\": \"auto\", \"type\": \"bar\", \"x\": [\"898.8 -> 653.6\"], \"xaxis\": \"x\", \"y\": [41898.76268005371], \"yaxis\": \"y\"}, {\"alignmentgroup\": \"True\", \"customdata\": [[\"[TG(55:11),TG(54:4)]_FA14:0\", \"TAG\"]], \"hovertemplate\": \"Lipid=%{customdata[0]}<br>Transition=%{x}<br>Intensity=%{y}<br>Class=%{customdata[1]}<extra></extra>\", \"legendgroup\": \"[TG(55:11),TG(54:4)]_FA14:0\", \"marker\": {\"color\": \"#00cc96\"}, \"name\": \"[TG(55:11),TG(54:4)]_FA14:0\", \"offsetgroup\": \"[TG(55:11),TG(54:4)]_FA14:0\", \"orientation\": \"v\", \"showlegend\": true, \"textposition\": \"auto\", \"type\": \"bar\", \"x\": [\"900.8 -> 655.6\"], \"xaxis\": \"x\", \"y\": [28414.301971435547], \"yaxis\": \"y\"}, {\"alignmentgroup\": \"True\", \"customdata\": [[\"[TG(55:10),TG(54:3)]_FA14:0\", \"TAG\"]], \"hovertemplate\": \"Lipid=%{customdata[0]}<br>Transition=%{x}<br>Intensity=%{y}<br>Class=%{customdata[1]}<extra></extra>\", \"legendgroup\": \"[TG(55:10),TG(54:3)]_FA14:0\", \"marker\": {\"color\": \"#ab63fa\"}, \"name\": \"[TG(55:10),TG(54:3)]_FA14:0\", \"offsetgroup\": \"[TG(55:10),TG(54:3)]_FA14:0\", \"orientation\": \"v\", \"showlegend\": true, \"textposition\": \"auto\", \"type\": \"bar\", \"x\": [\"902.8 -> 657.6\"], \"xaxis\": \"x\", \"y\": [30718.442108154297], \"yaxis\": \"y\"}, {\"alignmentgroup\": \"True\", \"customdata\": [[\"[TG(55:9),TG(54:2)]_FA14:0\", \"TAG\"]], \"hovertemplate\": \"Lipid=%{customdata[0]}<br>Transition=%{x}<br>Intensity=%{y}<br>Class=%{customdata[1]}<extra></extra>\", \"legendgroup\": \"[TG(55:9),TG(54:2)]_FA14:0\", \"marker\": {\"color\": \"#FFA15A\"}, \"name\": \"[TG(55:9),TG(54:2)]_FA14:0\", \"offsetgroup\": \"[TG(55:9),TG(54:2)]_FA14:0\", \"orientation\": \"v\", \"showlegend\": true, \"textposition\": \"auto\", \"type\": \"bar\", \"x\": [\"904.8 -> 659.6\"], \"xaxis\": \"x\", \"y\": [33424.282623291016], \"yaxis\": \"y\"}, {\"alignmentgroup\": \"True\", \"customdata\": [[\"[TG(55:8),TG(54:1)]_FA14:0\", \"TAG\"]], \"hovertemplate\": \"Lipid=%{customdata[0]}<br>Transition=%{x}<br>Intensity=%{y}<br>Class=%{customdata[1]}<extra></extra>\", \"legendgroup\": \"[TG(55:8),TG(54:1)]_FA14:0\", \"marker\": {\"color\": \"#19d3f3\"}, \"name\": \"[TG(55:8),TG(54:1)]_FA14:0\", \"offsetgroup\": \"[TG(55:8),TG(54:1)]_FA14:0\", \"orientation\": \"v\", \"showlegend\": true, \"textposition\": \"auto\", \"type\": \"bar\", \"x\": [\"906.8 -> 661.6\"], \"xaxis\": \"x\", \"y\": [29007.38198852539], \"yaxis\": \"y\"}, {\"alignmentgroup\": \"True\", \"customdata\": [[\"[TG(55:7),TG(54:0)]_FA14:0\", \"TAG\"]], \"hovertemplate\": \"Lipid=%{customdata[0]}<br>Transition=%{x}<br>Intensity=%{y}<br>Class=%{customdata[1]}<extra></extra>\", \"legendgroup\": \"[TG(55:7),TG(54:0)]_FA14:0\", \"marker\": {\"color\": \"#FF6692\"}, \"name\": \"[TG(55:7),TG(54:0)]_FA14:0\", \"offsetgroup\": \"[TG(55:7),TG(54:0)]_FA14:0\", \"orientation\": \"v\", \"showlegend\": true, \"textposition\": \"auto\", \"type\": \"bar\", \"x\": [\"908.9 -> 663.7\"], \"xaxis\": \"x\", \"y\": [35497.86260986328], \"yaxis\": \"y\"}, {\"alignmentgroup\": \"True\", \"customdata\": [[\"[TG(56:13),TG(55:6)]_FA14:0\", \"TAG\"]], \"hovertemplate\": \"Lipid=%{customdata[0]}<br>Transition=%{x}<br>Intensity=%{y}<br>Class=%{customdata[1]}<extra></extra>\", \"legendgroup\": \"[TG(56:13),TG(55:6)]_FA14:0\", \"marker\": {\"color\": \"#B6E880\"}, \"name\": \"[TG(56:13),TG(55:6)]_FA14:0\", \"offsetgroup\": \"[TG(56:13),TG(55:6)]_FA14:0\", \"orientation\": \"v\", \"showlegend\": true, \"textposition\": \"auto\", \"type\": \"bar\", \"x\": [\"910.8 -> 665.6\"], \"xaxis\": \"x\", \"y\": [26408.881866455078], \"yaxis\": \"y\"}, {\"alignmentgroup\": \"True\", \"customdata\": [[\"[TG(56:12),TG(55:5)]_FA14:0\", \"TAG\"]], \"hovertemplate\": \"Lipid=%{customdata[0]}<br>Transition=%{x}<br>Intensity=%{y}<br>Class=%{customdata[1]}<extra></extra>\", \"legendgroup\": \"[TG(56:12),TG(55:5)]_FA14:0\", \"marker\": {\"color\": \"#FF97FF\"}, \"name\": \"[TG(56:12),TG(55:5)]_FA14:0\", \"offsetgroup\": \"[TG(56:12),TG(55:5)]_FA14:0\", \"orientation\": \"v\", \"showlegend\": true, \"textposition\": \"auto\", \"type\": \"bar\", \"x\": [\"912.8 -> 667.6\"], \"xaxis\": \"x\", \"y\": [22494.82162475586], \"yaxis\": \"y\"}, {\"alignmentgroup\": \"True\", \"customdata\": [[\"[TG(56:11),TG(55:4)]_FA14:0\", \"TAG\"]], \"hovertemplate\": \"Lipid=%{customdata[0]}<br>Transition=%{x}<br>Intensity=%{y}<br>Class=%{customdata[1]}<extra></extra>\", \"legendgroup\": \"[TG(56:11),TG(55:4)]_FA14:0\", \"marker\": {\"color\": \"#FECB52\"}, \"name\": \"[TG(56:11),TG(55:4)]_FA14:0\", \"offsetgroup\": \"[TG(56:11),TG(55:4)]_FA14:0\", \"orientation\": \"v\", \"showlegend\": true, \"textposition\": \"auto\", \"type\": \"bar\", \"x\": [\"914.8 -> 669.6\"], \"xaxis\": \"x\", \"y\": [25690.061798095703], \"yaxis\": \"y\"}, {\"alignmentgroup\": \"True\", \"customdata\": [[\"[TG(56:10),TG(55:3)]_FA14:0\", \"TAG\"]], \"hovertemplate\": \"Lipid=%{customdata[0]}<br>Transition=%{x}<br>Intensity=%{y}<br>Class=%{customdata[1]}<extra></extra>\", \"legendgroup\": \"[TG(56:10),TG(55:3)]_FA14:0\", \"marker\": {\"color\": \"#636efa\"}, \"name\": \"[TG(56:10),TG(55:3)]_FA14:0\", \"offsetgroup\": \"[TG(56:10),TG(55:3)]_FA14:0\", \"orientation\": \"v\", \"showlegend\": true, \"textposition\": \"auto\", \"type\": \"bar\", \"x\": [\"916.8 -> 671.6\"], \"xaxis\": \"x\", \"y\": [29631.141998291016], \"yaxis\": \"y\"}, {\"alignmentgroup\": \"True\", \"customdata\": [[\"[TG(56:9),TG(55:2)]_FA14:0\", \"TAG\"]], \"hovertemplate\": \"Lipid=%{customdata[0]}<br>Transition=%{x}<br>Intensity=%{y}<br>Class=%{customdata[1]}<extra></extra>\", \"legendgroup\": \"[TG(56:9),TG(55:2)]_FA14:0\", \"marker\": {\"color\": \"#EF553B\"}, \"name\": \"[TG(56:9),TG(55:2)]_FA14:0\", \"offsetgroup\": \"[TG(56:9),TG(55:2)]_FA14:0\", \"orientation\": \"v\", \"showlegend\": true, \"textposition\": \"auto\", \"type\": \"bar\", \"x\": [\"918.8 -> 673.6\"], \"xaxis\": \"x\", \"y\": [33327.52235412598], \"yaxis\": \"y\"}, {\"alignmentgroup\": \"True\", \"customdata\": [[\"[TG(56:8),TG(55:1)]_FA14:0\", \"TAG\"]], \"hovertemplate\": \"Lipid=%{customdata[0]}<br>Transition=%{x}<br>Intensity=%{y}<br>Class=%{customdata[1]}<extra></extra>\", \"legendgroup\": \"[TG(56:8),TG(55:1)]_FA14:0\", \"marker\": {\"color\": \"#00cc96\"}, \"name\": \"[TG(56:8),TG(55:1)]_FA14:0\", \"offsetgroup\": \"[TG(56:8),TG(55:1)]_FA14:0\", \"orientation\": \"v\", \"showlegend\": true, \"textposition\": \"auto\", \"type\": \"bar\", \"x\": [\"920.9 -> 675.7\"], \"xaxis\": \"x\", \"y\": [29645.14239501953], \"yaxis\": \"y\"}, {\"alignmentgroup\": \"True\", \"customdata\": [[\"[TG(56:7),TG(55:0)]_FA14:0\", \"TAG\"]], \"hovertemplate\": \"Lipid=%{customdata[0]}<br>Transition=%{x}<br>Intensity=%{y}<br>Class=%{customdata[1]}<extra></extra>\", \"legendgroup\": \"[TG(56:7),TG(55:0)]_FA14:0\", \"marker\": {\"color\": \"#ab63fa\"}, \"name\": \"[TG(56:7),TG(55:0)]_FA14:0\", \"offsetgroup\": \"[TG(56:7),TG(55:0)]_FA14:0\", \"orientation\": \"v\", \"showlegend\": true, \"textposition\": \"auto\", \"type\": \"bar\", \"x\": [\"922.9 -> 677.7\"], \"xaxis\": \"x\", \"y\": [23936.88168334961], \"yaxis\": \"y\"}, {\"alignmentgroup\": \"True\", \"customdata\": [[\"[TG(56:6)]_FA14:0\", \"TAG\"]], \"hovertemplate\": \"Lipid=%{customdata[0]}<br>Transition=%{x}<br>Intensity=%{y}<br>Class=%{customdata[1]}<extra></extra>\", \"legendgroup\": \"[TG(56:6)]_FA14:0\", \"marker\": {\"color\": \"#FFA15A\"}, \"name\": \"[TG(56:6)]_FA14:0\", \"offsetgroup\": \"[TG(56:6)]_FA14:0\", \"orientation\": \"v\", \"showlegend\": true, \"textposition\": \"auto\", \"type\": \"bar\", \"x\": [\"924.8 -> 679.6\"], \"xaxis\": \"x\", \"y\": [21959.361694335938], \"yaxis\": \"y\"}, {\"alignmentgroup\": \"True\", \"customdata\": [[\"[TG(57:12),TG(56:5)]_FA14:0\", \"TAG\"]], \"hovertemplate\": \"Lipid=%{customdata[0]}<br>Transition=%{x}<br>Intensity=%{y}<br>Class=%{customdata[1]}<extra></extra>\", \"legendgroup\": \"[TG(57:12),TG(56:5)]_FA14:0\", \"marker\": {\"color\": \"#19d3f3\"}, \"name\": \"[TG(57:12),TG(56:5)]_FA14:0\", \"offsetgroup\": \"[TG(57:12),TG(56:5)]_FA14:0\", \"orientation\": \"v\", \"showlegend\": true, \"textposition\": \"auto\", \"type\": \"bar\", \"x\": [\"926.8 -> 681.6\"], \"xaxis\": \"x\", \"y\": [20401.881622314453], \"yaxis\": \"y\"}, {\"alignmentgroup\": \"True\", \"customdata\": [[\"[TG(57:11),TG(56:4)]_FA14:0\", \"TAG\"]], \"hovertemplate\": \"Lipid=%{customdata[0]}<br>Transition=%{x}<br>Intensity=%{y}<br>Class=%{customdata[1]}<extra></extra>\", \"legendgroup\": \"[TG(57:11),TG(56:4)]_FA14:0\", \"marker\": {\"color\": \"#FF6692\"}, \"name\": \"[TG(57:11),TG(56:4)]_FA14:0\", \"offsetgroup\": \"[TG(57:11),TG(56:4)]_FA14:0\", \"orientation\": \"v\", \"showlegend\": true, \"textposition\": \"auto\", \"type\": \"bar\", \"x\": [\"928.8 -> 683.6\"], \"xaxis\": \"x\", \"y\": [20398.84147644043], \"yaxis\": \"y\"}, {\"alignmentgroup\": \"True\", \"customdata\": [[\"[TG(57:10),TG(56:3)]_FA14:0\", \"TAG\"]], \"hovertemplate\": \"Lipid=%{customdata[0]}<br>Transition=%{x}<br>Intensity=%{y}<br>Class=%{customdata[1]}<extra></extra>\", \"legendgroup\": \"[TG(57:10),TG(56:3)]_FA14:0\", \"marker\": {\"color\": \"#B6E880\"}, \"name\": \"[TG(57:10),TG(56:3)]_FA14:0\", \"offsetgroup\": \"[TG(57:10),TG(56:3)]_FA14:0\", \"orientation\": \"v\", \"showlegend\": true, \"textposition\": \"auto\", \"type\": \"bar\", \"x\": [\"930.8 -> 685.6\"], \"xaxis\": \"x\", \"y\": [25416.421936035156], \"yaxis\": \"y\"}, {\"alignmentgroup\": \"True\", \"customdata\": [[\"[TG(57:9),TG(56:2)]_FA14:0\", \"TAG\"]], \"hovertemplate\": \"Lipid=%{customdata[0]}<br>Transition=%{x}<br>Intensity=%{y}<br>Class=%{customdata[1]}<extra></extra>\", \"legendgroup\": \"[TG(57:9),TG(56:2)]_FA14:0\", \"marker\": {\"color\": \"#FF97FF\"}, \"name\": \"[TG(57:9),TG(56:2)]_FA14:0\", \"offsetgroup\": \"[TG(57:9),TG(56:2)]_FA14:0\", \"orientation\": \"v\", \"showlegend\": true, \"textposition\": \"auto\", \"type\": \"bar\", \"x\": [\"932.9 -> 687.7\"], \"xaxis\": \"x\", \"y\": [22382.361602783203], \"yaxis\": \"y\"}, {\"alignmentgroup\": \"True\", \"customdata\": [[\"[TG(57:8),TG(56:1)]_FA14:0\", \"TAG\"]], \"hovertemplate\": \"Lipid=%{customdata[0]}<br>Transition=%{x}<br>Intensity=%{y}<br>Class=%{customdata[1]}<extra></extra>\", \"legendgroup\": \"[TG(57:8),TG(56:1)]_FA14:0\", \"marker\": {\"color\": \"#FECB52\"}, \"name\": \"[TG(57:8),TG(56:1)]_FA14:0\", \"offsetgroup\": \"[TG(57:8),TG(56:1)]_FA14:0\", \"orientation\": \"v\", \"showlegend\": true, \"textposition\": \"auto\", \"type\": \"bar\", \"x\": [\"934.9 -> 689.7\"], \"xaxis\": \"x\", \"y\": [19609.461395263672], \"yaxis\": \"y\"}, {\"alignmentgroup\": \"True\", \"customdata\": [[\"[TG(58:14),TG(57:7),TG(56:0)]_FA14:0\", \"TAG\"]], \"hovertemplate\": \"Lipid=%{customdata[0]}<br>Transition=%{x}<br>Intensity=%{y}<br>Class=%{customdata[1]}<extra></extra>\", \"legendgroup\": \"[TG(58:14),TG(57:7),TG(56:0)]_FA14:0\", \"marker\": {\"color\": \"#636efa\"}, \"name\": \"[TG(58:14),TG(57:7),TG(56:0)]_FA14:0\", \"offsetgroup\": \"[TG(58:14),TG(57:7),TG(56:0)]_FA14:0\", \"orientation\": \"v\", \"showlegend\": true, \"textposition\": \"auto\", \"type\": \"bar\", \"x\": [\"936.9 -> 691.7\"], \"xaxis\": \"x\", \"y\": [22338.061492919922], \"yaxis\": \"y\"}, {\"alignmentgroup\": \"True\", \"customdata\": [[\"[TG(58:13),TG(57:6)]_FA14:0\", \"TAG\"]], \"hovertemplate\": \"Lipid=%{customdata[0]}<br>Transition=%{x}<br>Intensity=%{y}<br>Class=%{customdata[1]}<extra></extra>\", \"legendgroup\": \"[TG(58:13),TG(57:6)]_FA14:0\", \"marker\": {\"color\": \"#EF553B\"}, \"name\": \"[TG(58:13),TG(57:6)]_FA14:0\", \"offsetgroup\": \"[TG(58:13),TG(57:6)]_FA14:0\", \"orientation\": \"v\", \"showlegend\": true, \"textposition\": \"auto\", \"type\": \"bar\", \"x\": [\"938.8 -> 693.6\"], \"xaxis\": \"x\", \"y\": [29575.44204711914], \"yaxis\": \"y\"}, {\"alignmentgroup\": \"True\", \"customdata\": [[\"[TG(58:12),TG(57:5)]_FA14:0\", \"TAG\"]], \"hovertemplate\": \"Lipid=%{customdata[0]}<br>Transition=%{x}<br>Intensity=%{y}<br>Class=%{customdata[1]}<extra></extra>\", \"legendgroup\": \"[TG(58:12),TG(57:5)]_FA14:0\", \"marker\": {\"color\": \"#00cc96\"}, \"name\": \"[TG(58:12),TG(57:5)]_FA14:0\", \"offsetgroup\": \"[TG(58:12),TG(57:5)]_FA14:0\", \"orientation\": \"v\", \"showlegend\": true, \"textposition\": \"auto\", \"type\": \"bar\", \"x\": [\"940.8 -> 695.6\"], \"xaxis\": \"x\", \"y\": [20122.321487426758], \"yaxis\": \"y\"}, {\"alignmentgroup\": \"True\", \"customdata\": [[\"[TG(58:11),TG(57:4)]_FA14:0\", \"TAG\"]], \"hovertemplate\": \"Lipid=%{customdata[0]}<br>Transition=%{x}<br>Intensity=%{y}<br>Class=%{customdata[1]}<extra></extra>\", \"legendgroup\": \"[TG(58:11),TG(57:4)]_FA14:0\", \"marker\": {\"color\": \"#ab63fa\"}, \"name\": \"[TG(58:11),TG(57:4)]_FA14:0\", \"offsetgroup\": \"[TG(58:11),TG(57:4)]_FA14:0\", \"orientation\": \"v\", \"showlegend\": true, \"textposition\": \"auto\", \"type\": \"bar\", \"x\": [\"942.8 -> 697.6\"], \"xaxis\": \"x\", \"y\": [20873.68148803711], \"yaxis\": \"y\"}, {\"alignmentgroup\": \"True\", \"customdata\": [[\"[TG(58:10),TG(57:3)]_FA14:0\", \"TAG\"]], \"hovertemplate\": \"Lipid=%{customdata[0]}<br>Transition=%{x}<br>Intensity=%{y}<br>Class=%{customdata[1]}<extra></extra>\", \"legendgroup\": \"[TG(58:10),TG(57:3)]_FA14:0\", \"marker\": {\"color\": \"#FFA15A\"}, \"name\": \"[TG(58:10),TG(57:3)]_FA14:0\", \"offsetgroup\": \"[TG(58:10),TG(57:3)]_FA14:0\", \"orientation\": \"v\", \"showlegend\": true, \"textposition\": \"auto\", \"type\": \"bar\", \"x\": [\"944.9 -> 699.7\"], \"xaxis\": \"x\", \"y\": [20475.001525878906], \"yaxis\": \"y\"}, {\"alignmentgroup\": \"True\", \"customdata\": [[\"[TG(58:9),TG(57:2)]_FA14:0\", \"TAG\"]], \"hovertemplate\": \"Lipid=%{customdata[0]}<br>Transition=%{x}<br>Intensity=%{y}<br>Class=%{customdata[1]}<extra></extra>\", \"legendgroup\": \"[TG(58:9),TG(57:2)]_FA14:0\", \"marker\": {\"color\": \"#19d3f3\"}, \"name\": \"[TG(58:9),TG(57:2)]_FA14:0\", \"offsetgroup\": \"[TG(58:9),TG(57:2)]_FA14:0\", \"orientation\": \"v\", \"showlegend\": true, \"textposition\": \"auto\", \"type\": \"bar\", \"x\": [\"946.9 -> 701.7\"], \"xaxis\": \"x\", \"y\": [19687.661422729492], \"yaxis\": \"y\"}, {\"alignmentgroup\": \"True\", \"customdata\": [[\"[TG(58:8),TG(57:1)]_FA14:0\", \"TAG\"]], \"hovertemplate\": \"Lipid=%{customdata[0]}<br>Transition=%{x}<br>Intensity=%{y}<br>Class=%{customdata[1]}<extra></extra>\", \"legendgroup\": \"[TG(58:8),TG(57:1)]_FA14:0\", \"marker\": {\"color\": \"#FF6692\"}, \"name\": \"[TG(58:8),TG(57:1)]_FA14:0\", \"offsetgroup\": \"[TG(58:8),TG(57:1)]_FA14:0\", \"orientation\": \"v\", \"showlegend\": true, \"textposition\": \"auto\", \"type\": \"bar\", \"x\": [\"948.9 -> 703.7\"], \"xaxis\": \"x\", \"y\": [17986.1212310791], \"yaxis\": \"y\"}, {\"alignmentgroup\": \"True\", \"customdata\": [[\"[TG(58:7),TG(57:0)]_FA14:0\", \"TAG\"]], \"hovertemplate\": \"Lipid=%{customdata[0]}<br>Transition=%{x}<br>Intensity=%{y}<br>Class=%{customdata[1]}<extra></extra>\", \"legendgroup\": \"[TG(58:7),TG(57:0)]_FA14:0\", \"marker\": {\"color\": \"#B6E880\"}, \"name\": \"[TG(58:7),TG(57:0)]_FA14:0\", \"offsetgroup\": \"[TG(58:7),TG(57:0)]_FA14:0\", \"orientation\": \"v\", \"showlegend\": true, \"textposition\": \"auto\", \"type\": \"bar\", \"x\": [\"950.9 -> 705.7\"], \"xaxis\": \"x\", \"y\": [16909.581176757812], \"yaxis\": \"y\"}, {\"alignmentgroup\": \"True\", \"customdata\": [[\"[TG(59:13),TG(58:6)]_FA14:0\", \"TAG\"]], \"hovertemplate\": \"Lipid=%{customdata[0]}<br>Transition=%{x}<br>Intensity=%{y}<br>Class=%{customdata[1]}<extra></extra>\", \"legendgroup\": \"[TG(59:13),TG(58:6)]_FA14:0\", \"marker\": {\"color\": \"#FF97FF\"}, \"name\": \"[TG(59:13),TG(58:6)]_FA14:0\", \"offsetgroup\": \"[TG(59:13),TG(58:6)]_FA14:0\", \"orientation\": \"v\", \"showlegend\": true, \"textposition\": \"auto\", \"type\": \"bar\", \"x\": [\"952.8 -> 707.6\"], \"xaxis\": \"x\", \"y\": [17760.02130126953], \"yaxis\": \"y\"}, {\"alignmentgroup\": \"True\", \"customdata\": [[\"[TG(59:12),TG(58:5)]_FA14:0\", \"TAG\"]], \"hovertemplate\": \"Lipid=%{customdata[0]}<br>Transition=%{x}<br>Intensity=%{y}<br>Class=%{customdata[1]}<extra></extra>\", \"legendgroup\": \"[TG(59:12),TG(58:5)]_FA14:0\", \"marker\": {\"color\": \"#FECB52\"}, \"name\": \"[TG(59:12),TG(58:5)]_FA14:0\", \"offsetgroup\": \"[TG(59:12),TG(58:5)]_FA14:0\", \"orientation\": \"v\", \"showlegend\": true, \"textposition\": \"auto\", \"type\": \"bar\", \"x\": [\"954.8 -> 709.6\"], \"xaxis\": \"x\", \"y\": [17154.881271362305], \"yaxis\": \"y\"}, {\"alignmentgroup\": \"True\", \"customdata\": [[\"[TG(59:11),TG(58:4)]_FA14:0\", \"TAG\"]], \"hovertemplate\": \"Lipid=%{customdata[0]}<br>Transition=%{x}<br>Intensity=%{y}<br>Class=%{customdata[1]}<extra></extra>\", \"legendgroup\": \"[TG(59:11),TG(58:4)]_FA14:0\", \"marker\": {\"color\": \"#636efa\"}, \"name\": \"[TG(59:11),TG(58:4)]_FA14:0\", \"offsetgroup\": \"[TG(59:11),TG(58:4)]_FA14:0\", \"orientation\": \"v\", \"showlegend\": true, \"textposition\": \"auto\", \"type\": \"bar\", \"x\": [\"956.9 -> 711.7\"], \"xaxis\": \"x\", \"y\": [17369.481216430664], \"yaxis\": \"y\"}, {\"alignmentgroup\": \"True\", \"customdata\": [[\"[TG(59:10),TG(58:3)]_FA14:0\", \"TAG\"]], \"hovertemplate\": \"Lipid=%{customdata[0]}<br>Transition=%{x}<br>Intensity=%{y}<br>Class=%{customdata[1]}<extra></extra>\", \"legendgroup\": \"[TG(59:10),TG(58:3)]_FA14:0\", \"marker\": {\"color\": \"#EF553B\"}, \"name\": \"[TG(59:10),TG(58:3)]_FA14:0\", \"offsetgroup\": \"[TG(59:10),TG(58:3)]_FA14:0\", \"orientation\": \"v\", \"showlegend\": true, \"textposition\": \"auto\", \"type\": \"bar\", \"x\": [\"958.9 -> 713.7\"], \"xaxis\": \"x\", \"y\": [17000.50129699707], \"yaxis\": \"y\"}, {\"alignmentgroup\": \"True\", \"customdata\": [[\"[TG(59:9),TG(58:2)]_FA14:0\", \"TAG\"]], \"hovertemplate\": \"Lipid=%{customdata[0]}<br>Transition=%{x}<br>Intensity=%{y}<br>Class=%{customdata[1]}<extra></extra>\", \"legendgroup\": \"[TG(59:9),TG(58:2)]_FA14:0\", \"marker\": {\"color\": \"#00cc96\"}, \"name\": \"[TG(59:9),TG(58:2)]_FA14:0\", \"offsetgroup\": \"[TG(59:9),TG(58:2)]_FA14:0\", \"orientation\": \"v\", \"showlegend\": true, \"textposition\": \"auto\", \"type\": \"bar\", \"x\": [\"960.9 -> 715.7\"], \"xaxis\": \"x\", \"y\": [14471.141006469727], \"yaxis\": \"y\"}, {\"alignmentgroup\": \"True\", \"customdata\": [[\"[TG(60:15),TG(59:8),TG(58:1)]_FA14:0\", \"TAG\"]], \"hovertemplate\": \"Lipid=%{customdata[0]}<br>Transition=%{x}<br>Intensity=%{y}<br>Class=%{customdata[1]}<extra></extra>\", \"legendgroup\": \"[TG(60:15),TG(59:8),TG(58:1)]_FA14:0\", \"marker\": {\"color\": \"#ab63fa\"}, \"name\": \"[TG(60:15),TG(59:8),TG(58:1)]_FA14:0\", \"offsetgroup\": \"[TG(60:15),TG(59:8),TG(58:1)]_FA14:0\", \"orientation\": \"v\", \"showlegend\": true, \"textposition\": \"auto\", \"type\": \"bar\", \"x\": [\"962.9 -> 717.7\"], \"xaxis\": \"x\", \"y\": [17327.96128845215], \"yaxis\": \"y\"}, {\"alignmentgroup\": \"True\", \"customdata\": [[\"[TG(60:14),TG(59:7),TG(58:0)]_FA14:0\", \"TAG\"]], \"hovertemplate\": \"Lipid=%{customdata[0]}<br>Transition=%{x}<br>Intensity=%{y}<br>Class=%{customdata[1]}<extra></extra>\", \"legendgroup\": \"[TG(60:14),TG(59:7),TG(58:0)]_FA14:0\", \"marker\": {\"color\": \"#FFA15A\"}, \"name\": \"[TG(60:14),TG(59:7),TG(58:0)]_FA14:0\", \"offsetgroup\": \"[TG(60:14),TG(59:7),TG(58:0)]_FA14:0\", \"orientation\": \"v\", \"showlegend\": true, \"textposition\": \"auto\", \"type\": \"bar\", \"x\": [\"964.9 -> 719.7\"], \"xaxis\": \"x\", \"y\": [15586.361099243164], \"yaxis\": \"y\"}, {\"alignmentgroup\": \"True\", \"customdata\": [[\"[TG(60:13),TG(59:6)]_FA14:0\", \"TAG\"]], \"hovertemplate\": \"Lipid=%{customdata[0]}<br>Transition=%{x}<br>Intensity=%{y}<br>Class=%{customdata[1]}<extra></extra>\", \"legendgroup\": \"[TG(60:13),TG(59:6)]_FA14:0\", \"marker\": {\"color\": \"#19d3f3\"}, \"name\": \"[TG(60:13),TG(59:6)]_FA14:0\", \"offsetgroup\": \"[TG(60:13),TG(59:6)]_FA14:0\", \"orientation\": \"v\", \"showlegend\": true, \"textposition\": \"auto\", \"type\": \"bar\", \"x\": [\"966.8 -> 721.6\"], \"xaxis\": \"x\", \"y\": [15192.34105682373], \"yaxis\": \"y\"}, {\"alignmentgroup\": \"True\", \"customdata\": [[\"[TG(60:12),TG(59:5)]_FA14:0\", \"TAG\"]], \"hovertemplate\": \"Lipid=%{customdata[0]}<br>Transition=%{x}<br>Intensity=%{y}<br>Class=%{customdata[1]}<extra></extra>\", \"legendgroup\": \"[TG(60:12),TG(59:5)]_FA14:0\", \"marker\": {\"color\": \"#FF6692\"}, \"name\": \"[TG(60:12),TG(59:5)]_FA14:0\", \"offsetgroup\": \"[TG(60:12),TG(59:5)]_FA14:0\", \"orientation\": \"v\", \"showlegend\": true, \"textposition\": \"auto\", \"type\": \"bar\", \"x\": [\"968.9 -> 723.7\"], \"xaxis\": \"x\", \"y\": [16057.961143493652], \"yaxis\": \"y\"}, {\"alignmentgroup\": \"True\", \"customdata\": [[\"[TG(60:11),TG(59:4)]_FA14:0\", \"TAG\"]], \"hovertemplate\": \"Lipid=%{customdata[0]}<br>Transition=%{x}<br>Intensity=%{y}<br>Class=%{customdata[1]}<extra></extra>\", \"legendgroup\": \"[TG(60:11),TG(59:4)]_FA14:0\", \"marker\": {\"color\": \"#B6E880\"}, \"name\": \"[TG(60:11),TG(59:4)]_FA14:0\", \"offsetgroup\": \"[TG(60:11),TG(59:4)]_FA14:0\", \"orientation\": \"v\", \"showlegend\": true, \"textposition\": \"auto\", \"type\": \"bar\", \"x\": [\"970.9 -> 725.7\"], \"xaxis\": \"x\", \"y\": [29432.862243652344], \"yaxis\": \"y\"}, {\"alignmentgroup\": \"True\", \"customdata\": [[\"[TG(60:10),TG(59:3)]_FA14:0\", \"TAG\"]], \"hovertemplate\": \"Lipid=%{customdata[0]}<br>Transition=%{x}<br>Intensity=%{y}<br>Class=%{customdata[1]}<extra></extra>\", \"legendgroup\": \"[TG(60:10),TG(59:3)]_FA14:0\", \"marker\": {\"color\": \"#FF97FF\"}, \"name\": \"[TG(60:10),TG(59:3)]_FA14:0\", \"offsetgroup\": \"[TG(60:10),TG(59:3)]_FA14:0\", \"orientation\": \"v\", \"showlegend\": true, \"textposition\": \"auto\", \"type\": \"bar\", \"x\": [\"972.9 -> 727.7\"], \"xaxis\": \"x\", \"y\": [21032.461456298828], \"yaxis\": \"y\"}, {\"alignmentgroup\": \"True\", \"customdata\": [[\"[TG(60:9),TG(59:2)]_FA14:0\", \"TAG\"]], \"hovertemplate\": \"Lipid=%{customdata[0]}<br>Transition=%{x}<br>Intensity=%{y}<br>Class=%{customdata[1]}<extra></extra>\", \"legendgroup\": \"[TG(60:9),TG(59:2)]_FA14:0\", \"marker\": {\"color\": \"#FECB52\"}, \"name\": \"[TG(60:9),TG(59:2)]_FA14:0\", \"offsetgroup\": \"[TG(60:9),TG(59:2)]_FA14:0\", \"orientation\": \"v\", \"showlegend\": true, \"textposition\": \"auto\", \"type\": \"bar\", \"x\": [\"974.9 -> 729.7\"], \"xaxis\": \"x\", \"y\": [15778.50112915039], \"yaxis\": \"y\"}, {\"alignmentgroup\": \"True\", \"customdata\": [[\"[TG(60:8),TG(59:1)]_FA14:0\", \"TAG\"]], \"hovertemplate\": \"Lipid=%{customdata[0]}<br>Transition=%{x}<br>Intensity=%{y}<br>Class=%{customdata[1]}<extra></extra>\", \"legendgroup\": \"[TG(60:8),TG(59:1)]_FA14:0\", \"marker\": {\"color\": \"#636efa\"}, \"name\": \"[TG(60:8),TG(59:1)]_FA14:0\", \"offsetgroup\": \"[TG(60:8),TG(59:1)]_FA14:0\", \"orientation\": \"v\", \"showlegend\": true, \"textposition\": \"auto\", \"type\": \"bar\", \"x\": [\"976.9 -> 731.7\"], \"xaxis\": \"x\", \"y\": [13972.840942382812], \"yaxis\": \"y\"}, {\"alignmentgroup\": \"True\", \"customdata\": [[\"[TG(61:14),TG(60:7),TG(59:0)]_FA14:0\", \"TAG\"]], \"hovertemplate\": \"Lipid=%{customdata[0]}<br>Transition=%{x}<br>Intensity=%{y}<br>Class=%{customdata[1]}<extra></extra>\", \"legendgroup\": \"[TG(61:14),TG(60:7),TG(59:0)]_FA14:0\", \"marker\": {\"color\": \"#EF553B\"}, \"name\": \"[TG(61:14),TG(60:7),TG(59:0)]_FA14:0\", \"offsetgroup\": \"[TG(61:14),TG(60:7),TG(59:0)]_FA14:0\", \"orientation\": \"v\", \"showlegend\": true, \"textposition\": \"auto\", \"type\": \"bar\", \"x\": [\"978.9 -> 733.7\"], \"xaxis\": \"x\", \"y\": [15361.26107788086], \"yaxis\": \"y\"}, {\"alignmentgroup\": \"True\", \"customdata\": [[\"[TG(61:13),TG(60:6)]_FA14:0\", \"TAG\"]], \"hovertemplate\": \"Lipid=%{customdata[0]}<br>Transition=%{x}<br>Intensity=%{y}<br>Class=%{customdata[1]}<extra></extra>\", \"legendgroup\": \"[TG(61:13),TG(60:6)]_FA14:0\", \"marker\": {\"color\": \"#00cc96\"}, \"name\": \"[TG(61:13),TG(60:6)]_FA14:0\", \"offsetgroup\": \"[TG(61:13),TG(60:6)]_FA14:0\", \"orientation\": \"v\", \"showlegend\": true, \"textposition\": \"auto\", \"type\": \"bar\", \"x\": [\"980.9 -> 735.7\"], \"xaxis\": \"x\", \"y\": [14665.92106628418], \"yaxis\": \"y\"}, {\"alignmentgroup\": \"True\", \"customdata\": [[\"[TG(61:12),TG(60:5)]_FA14:0\", \"TAG\"]], \"hovertemplate\": \"Lipid=%{customdata[0]}<br>Transition=%{x}<br>Intensity=%{y}<br>Class=%{customdata[1]}<extra></extra>\", \"legendgroup\": \"[TG(61:12),TG(60:5)]_FA14:0\", \"marker\": {\"color\": \"#ab63fa\"}, \"name\": \"[TG(61:12),TG(60:5)]_FA14:0\", \"offsetgroup\": \"[TG(61:12),TG(60:5)]_FA14:0\", \"orientation\": \"v\", \"showlegend\": true, \"textposition\": \"auto\", \"type\": \"bar\", \"x\": [\"982.9 -> 737.7\"], \"xaxis\": \"x\", \"y\": [12983.740997314453], \"yaxis\": \"y\"}, {\"alignmentgroup\": \"True\", \"customdata\": [[\"[TG(61:11),TG(60:4)]_FA14:0\", \"TAG\"]], \"hovertemplate\": \"Lipid=%{customdata[0]}<br>Transition=%{x}<br>Intensity=%{y}<br>Class=%{customdata[1]}<extra></extra>\", \"legendgroup\": \"[TG(61:11),TG(60:4)]_FA14:0\", \"marker\": {\"color\": \"#FFA15A\"}, \"name\": \"[TG(61:11),TG(60:4)]_FA14:0\", \"offsetgroup\": \"[TG(61:11),TG(60:4)]_FA14:0\", \"orientation\": \"v\", \"showlegend\": true, \"textposition\": \"auto\", \"type\": \"bar\", \"x\": [\"984.9 -> 739.7\"], \"xaxis\": \"x\", \"y\": [16507.40118408203], \"yaxis\": \"y\"}, {\"alignmentgroup\": \"True\", \"customdata\": [[\"[TG(61:10),TG(60:3)]_FA14:0\", \"TAG\"]], \"hovertemplate\": \"Lipid=%{customdata[0]}<br>Transition=%{x}<br>Intensity=%{y}<br>Class=%{customdata[1]}<extra></extra>\", \"legendgroup\": \"[TG(61:10),TG(60:3)]_FA14:0\", \"marker\": {\"color\": \"#19d3f3\"}, \"name\": \"[TG(61:10),TG(60:3)]_FA14:0\", \"offsetgroup\": \"[TG(61:10),TG(60:3)]_FA14:0\", \"orientation\": \"v\", \"showlegend\": true, \"textposition\": \"auto\", \"type\": \"bar\", \"x\": [\"986.9 -> 741.7\"], \"xaxis\": \"x\", \"y\": [15164.080978393555], \"yaxis\": \"y\"}, {\"alignmentgroup\": \"True\", \"customdata\": [[\"[TG(62:16),TG(61:9),TG(60:2)]_FA14:0\", \"TAG\"]], \"hovertemplate\": \"Lipid=%{customdata[0]}<br>Transition=%{x}<br>Intensity=%{y}<br>Class=%{customdata[1]}<extra></extra>\", \"legendgroup\": \"[TG(62:16),TG(61:9),TG(60:2)]_FA14:0\", \"marker\": {\"color\": \"#FF6692\"}, \"name\": \"[TG(62:16),TG(61:9),TG(60:2)]_FA14:0\", \"offsetgroup\": \"[TG(62:16),TG(61:9),TG(60:2)]_FA14:0\", \"orientation\": \"v\", \"showlegend\": true, \"textposition\": \"auto\", \"type\": \"bar\", \"x\": [\"988.9 -> 743.7\"], \"xaxis\": \"x\", \"y\": [16115.021049499512], \"yaxis\": \"y\"}, {\"alignmentgroup\": \"True\", \"customdata\": [[\"[TG(62:15),TG(61:8),TG(60:1)]_FA14:0\", \"TAG\"]], \"hovertemplate\": \"Lipid=%{customdata[0]}<br>Transition=%{x}<br>Intensity=%{y}<br>Class=%{customdata[1]}<extra></extra>\", \"legendgroup\": \"[TG(62:15),TG(61:8),TG(60:1)]_FA14:0\", \"marker\": {\"color\": \"#B6E880\"}, \"name\": \"[TG(62:15),TG(61:8),TG(60:1)]_FA14:0\", \"offsetgroup\": \"[TG(62:15),TG(61:8),TG(60:1)]_FA14:0\", \"orientation\": \"v\", \"showlegend\": true, \"textposition\": \"auto\", \"type\": \"bar\", \"x\": [\"990.9 -> 745.7\"], \"xaxis\": \"x\", \"y\": [14670.80093383789], \"yaxis\": \"y\"}, {\"alignmentgroup\": \"True\", \"customdata\": [[\"[TG(62:14),TG(61:7),TG(60:0)]_FA14:0\", \"TAG\"]], \"hovertemplate\": \"Lipid=%{customdata[0]}<br>Transition=%{x}<br>Intensity=%{y}<br>Class=%{customdata[1]}<extra></extra>\", \"legendgroup\": \"[TG(62:14),TG(61:7),TG(60:0)]_FA14:0\", \"marker\": {\"color\": \"#FF97FF\"}, \"name\": \"[TG(62:14),TG(61:7),TG(60:0)]_FA14:0\", \"offsetgroup\": \"[TG(62:14),TG(61:7),TG(60:0)]_FA14:0\", \"orientation\": \"v\", \"showlegend\": true, \"textposition\": \"auto\", \"type\": \"bar\", \"x\": [\"993.0 -> 747.8\"], \"xaxis\": \"x\", \"y\": [11676.520835876465], \"yaxis\": \"y\"}, {\"alignmentgroup\": \"True\", \"customdata\": [[\"[TG(62:13),TG(61:6)]_FA14:0\", \"TAG\"]], \"hovertemplate\": \"Lipid=%{customdata[0]}<br>Transition=%{x}<br>Intensity=%{y}<br>Class=%{customdata[1]}<extra></extra>\", \"legendgroup\": \"[TG(62:13),TG(61:6)]_FA14:0\", \"marker\": {\"color\": \"#FECB52\"}, \"name\": \"[TG(62:13),TG(61:6)]_FA14:0\", \"offsetgroup\": \"[TG(62:13),TG(61:6)]_FA14:0\", \"orientation\": \"v\", \"showlegend\": true, \"textposition\": \"auto\", \"type\": \"bar\", \"x\": [\"994.9 -> 749.7\"], \"xaxis\": \"x\", \"y\": [12641.240867614746], \"yaxis\": \"y\"}, {\"alignmentgroup\": \"True\", \"customdata\": [[\"[TG(62:12),TG(61:5)]_FA14:0\", \"TAG\"]], \"hovertemplate\": \"Lipid=%{customdata[0]}<br>Transition=%{x}<br>Intensity=%{y}<br>Class=%{customdata[1]}<extra></extra>\", \"legendgroup\": \"[TG(62:12),TG(61:5)]_FA14:0\", \"marker\": {\"color\": \"#636efa\"}, \"name\": \"[TG(62:12),TG(61:5)]_FA14:0\", \"offsetgroup\": \"[TG(62:12),TG(61:5)]_FA14:0\", \"orientation\": \"v\", \"showlegend\": true, \"textposition\": \"auto\", \"type\": \"bar\", \"x\": [\"996.9 -> 751.7\"], \"xaxis\": \"x\", \"y\": [14229.900955200195], \"yaxis\": \"y\"}, {\"alignmentgroup\": \"True\", \"customdata\": [[\"[TG(62:11),TG(61:4)]_FA14:0\", \"TAG\"]], \"hovertemplate\": \"Lipid=%{customdata[0]}<br>Transition=%{x}<br>Intensity=%{y}<br>Class=%{customdata[1]}<extra></extra>\", \"legendgroup\": \"[TG(62:11),TG(61:4)]_FA14:0\", \"marker\": {\"color\": \"#EF553B\"}, \"name\": \"[TG(62:11),TG(61:4)]_FA14:0\", \"offsetgroup\": \"[TG(62:11),TG(61:4)]_FA14:0\", \"orientation\": \"v\", \"showlegend\": true, \"textposition\": \"auto\", \"type\": \"bar\", \"x\": [\"998.9 -> 753.7\"], \"xaxis\": \"x\", \"y\": [14026.561004638672], \"yaxis\": \"y\"}, {\"alignmentgroup\": \"True\", \"customdata\": [[\"[TG(62:10),TG(61:3)]_FA14:0\", \"TAG\"]], \"hovertemplate\": \"Lipid=%{customdata[0]}<br>Transition=%{x}<br>Intensity=%{y}<br>Class=%{customdata[1]}<extra></extra>\", \"legendgroup\": \"[TG(62:10),TG(61:3)]_FA14:0\", \"marker\": {\"color\": \"#00cc96\"}, \"name\": \"[TG(62:10),TG(61:3)]_FA14:0\", \"offsetgroup\": \"[TG(62:10),TG(61:3)]_FA14:0\", \"orientation\": \"v\", \"showlegend\": true, \"textposition\": \"auto\", \"type\": \"bar\", \"x\": [\"1000.9 -> 755.7\"], \"xaxis\": \"x\", \"y\": [13990.720977783203], \"yaxis\": \"y\"}, {\"alignmentgroup\": \"True\", \"customdata\": [[\"[TG(62:9),TG(61:2)]_FA14:0\", \"TAG\"]], \"hovertemplate\": \"Lipid=%{customdata[0]}<br>Transition=%{x}<br>Intensity=%{y}<br>Class=%{customdata[1]}<extra></extra>\", \"legendgroup\": \"[TG(62:9),TG(61:2)]_FA14:0\", \"marker\": {\"color\": \"#ab63fa\"}, \"name\": \"[TG(62:9),TG(61:2)]_FA14:0\", \"offsetgroup\": \"[TG(62:9),TG(61:2)]_FA14:0\", \"orientation\": \"v\", \"showlegend\": true, \"textposition\": \"auto\", \"type\": \"bar\", \"x\": [\"1002.9 -> 757.7\"], \"xaxis\": \"x\", \"y\": [14917.441131591797], \"yaxis\": \"y\"}, {\"alignmentgroup\": \"True\", \"customdata\": [[\"[TG(62:8),TG(61:1)]_FA14:0\", \"TAG\"]], \"hovertemplate\": \"Lipid=%{customdata[0]}<br>Transition=%{x}<br>Intensity=%{y}<br>Class=%{customdata[1]}<extra></extra>\", \"legendgroup\": \"[TG(62:8),TG(61:1)]_FA14:0\", \"marker\": {\"color\": \"#FFA15A\"}, \"name\": \"[TG(62:8),TG(61:1)]_FA14:0\", \"offsetgroup\": \"[TG(62:8),TG(61:1)]_FA14:0\", \"orientation\": \"v\", \"showlegend\": true, \"textposition\": \"auto\", \"type\": \"bar\", \"x\": [\"1005.0 -> 759.8\"], \"xaxis\": \"x\", \"y\": [14691.960952758789], \"yaxis\": \"y\"}, {\"alignmentgroup\": \"True\", \"customdata\": [[\"[TG(62:7),TG(61:0)]_FA14:0\", \"TAG\"]], \"hovertemplate\": \"Lipid=%{customdata[0]}<br>Transition=%{x}<br>Intensity=%{y}<br>Class=%{customdata[1]}<extra></extra>\", \"legendgroup\": \"[TG(62:7),TG(61:0)]_FA14:0\", \"marker\": {\"color\": \"#19d3f3\"}, \"name\": \"[TG(62:7),TG(61:0)]_FA14:0\", \"offsetgroup\": \"[TG(62:7),TG(61:0)]_FA14:0\", \"orientation\": \"v\", \"showlegend\": true, \"textposition\": \"auto\", \"type\": \"bar\", \"x\": [\"1007.0 -> 761.8\"], \"xaxis\": \"x\", \"y\": [12988.200942993164], \"yaxis\": \"y\"}, {\"alignmentgroup\": \"True\", \"customdata\": [[\"[TG(63:13),TG(62:6)]_FA14:0\", \"TAG\"]], \"hovertemplate\": \"Lipid=%{customdata[0]}<br>Transition=%{x}<br>Intensity=%{y}<br>Class=%{customdata[1]}<extra></extra>\", \"legendgroup\": \"[TG(63:13),TG(62:6)]_FA14:0\", \"marker\": {\"color\": \"#FF6692\"}, \"name\": \"[TG(63:13),TG(62:6)]_FA14:0\", \"offsetgroup\": \"[TG(63:13),TG(62:6)]_FA14:0\", \"orientation\": \"v\", \"showlegend\": true, \"textposition\": \"auto\", \"type\": \"bar\", \"x\": [\"1008.9 -> 763.7\"], \"xaxis\": \"x\", \"y\": [13342.720916748047], \"yaxis\": \"y\"}, {\"alignmentgroup\": \"True\", \"customdata\": [[\"[TG(63:12),TG(62:5)]_FA14:0\", \"TAG\"]], \"hovertemplate\": \"Lipid=%{customdata[0]}<br>Transition=%{x}<br>Intensity=%{y}<br>Class=%{customdata[1]}<extra></extra>\", \"legendgroup\": \"[TG(63:12),TG(62:5)]_FA14:0\", \"marker\": {\"color\": \"#B6E880\"}, \"name\": \"[TG(63:12),TG(62:5)]_FA14:0\", \"offsetgroup\": \"[TG(63:12),TG(62:5)]_FA14:0\", \"orientation\": \"v\", \"showlegend\": true, \"textposition\": \"auto\", \"type\": \"bar\", \"x\": [\"1010.9 -> 765.7\"], \"xaxis\": \"x\", \"y\": [14266.48112487793], \"yaxis\": \"y\"}, {\"alignmentgroup\": \"True\", \"customdata\": [[\"[TG(63:11),TG(62:4)]_FA14:0\", \"TAG\"]], \"hovertemplate\": \"Lipid=%{customdata[0]}<br>Transition=%{x}<br>Intensity=%{y}<br>Class=%{customdata[1]}<extra></extra>\", \"legendgroup\": \"[TG(63:11),TG(62:4)]_FA14:0\", \"marker\": {\"color\": \"#FF97FF\"}, \"name\": \"[TG(63:11),TG(62:4)]_FA14:0\", \"offsetgroup\": \"[TG(63:11),TG(62:4)]_FA14:0\", \"orientation\": \"v\", \"showlegend\": true, \"textposition\": \"auto\", \"type\": \"bar\", \"x\": [\"1012.9 -> 767.7\"], \"xaxis\": \"x\", \"y\": [13126.080932617188], \"yaxis\": \"y\"}, {\"alignmentgroup\": \"True\", \"customdata\": [[\"[TG(64:17),TG(63:10),TG(62:3)]_FA14:0\", \"TAG\"]], \"hovertemplate\": \"Lipid=%{customdata[0]}<br>Transition=%{x}<br>Intensity=%{y}<br>Class=%{customdata[1]}<extra></extra>\", \"legendgroup\": \"[TG(64:17),TG(63:10),TG(62:3)]_FA14:0\", \"marker\": {\"color\": \"#FECB52\"}, \"name\": \"[TG(64:17),TG(63:10),TG(62:3)]_FA14:0\", \"offsetgroup\": \"[TG(64:17),TG(63:10),TG(62:3)]_FA14:0\", \"orientation\": \"v\", \"showlegend\": true, \"textposition\": \"auto\", \"type\": \"bar\", \"x\": [\"1014.9 -> 769.7\"], \"xaxis\": \"x\", \"y\": [13007.560943603516], \"yaxis\": \"y\"}, {\"alignmentgroup\": \"True\", \"customdata\": [[\"[TG(64:16),TG(63:9),TG(62:2)]_FA14:0\", \"TAG\"]], \"hovertemplate\": \"Lipid=%{customdata[0]}<br>Transition=%{x}<br>Intensity=%{y}<br>Class=%{customdata[1]}<extra></extra>\", \"legendgroup\": \"[TG(64:16),TG(63:9),TG(62:2)]_FA14:0\", \"marker\": {\"color\": \"#636efa\"}, \"name\": \"[TG(64:16),TG(63:9),TG(62:2)]_FA14:0\", \"offsetgroup\": \"[TG(64:16),TG(63:9),TG(62:2)]_FA14:0\", \"orientation\": \"v\", \"showlegend\": true, \"textposition\": \"auto\", \"type\": \"bar\", \"x\": [\"1017.0 -> 771.8\"], \"xaxis\": \"x\", \"y\": [15978.181114196777], \"yaxis\": \"y\"}, {\"alignmentgroup\": \"True\", \"customdata\": [[\"[TG(64:15),TG(63:8),TG(62:1)]_FA14:0\", \"TAG\"]], \"hovertemplate\": \"Lipid=%{customdata[0]}<br>Transition=%{x}<br>Intensity=%{y}<br>Class=%{customdata[1]}<extra></extra>\", \"legendgroup\": \"[TG(64:15),TG(63:8),TG(62:1)]_FA14:0\", \"marker\": {\"color\": \"#EF553B\"}, \"name\": \"[TG(64:15),TG(63:8),TG(62:1)]_FA14:0\", \"offsetgroup\": \"[TG(64:15),TG(63:8),TG(62:1)]_FA14:0\", \"orientation\": \"v\", \"showlegend\": true, \"textposition\": \"auto\", \"type\": \"bar\", \"x\": [\"1019.0 -> 773.8\"], \"xaxis\": \"x\", \"y\": [14954.541114807129], \"yaxis\": \"y\"}, {\"alignmentgroup\": \"True\", \"customdata\": [[\"[TG(64:14),TG(63:7),TG(62:0)]_FA14:0\", \"TAG\"]], \"hovertemplate\": \"Lipid=%{customdata[0]}<br>Transition=%{x}<br>Intensity=%{y}<br>Class=%{customdata[1]}<extra></extra>\", \"legendgroup\": \"[TG(64:14),TG(63:7),TG(62:0)]_FA14:0\", \"marker\": {\"color\": \"#00cc96\"}, \"name\": \"[TG(64:14),TG(63:7),TG(62:0)]_FA14:0\", \"offsetgroup\": \"[TG(64:14),TG(63:7),TG(62:0)]_FA14:0\", \"orientation\": \"v\", \"showlegend\": true, \"textposition\": \"auto\", \"type\": \"bar\", \"x\": [\"1021.0 -> 775.8\"], \"xaxis\": \"x\", \"y\": [12710.70083618164], \"yaxis\": \"y\"}, {\"alignmentgroup\": \"True\", \"customdata\": [[\"[TG(64:13),TG(63:6)]_FA14:0\", \"TAG\"]], \"hovertemplate\": \"Lipid=%{customdata[0]}<br>Transition=%{x}<br>Intensity=%{y}<br>Class=%{customdata[1]}<extra></extra>\", \"legendgroup\": \"[TG(64:13),TG(63:6)]_FA14:0\", \"marker\": {\"color\": \"#ab63fa\"}, \"name\": \"[TG(64:13),TG(63:6)]_FA14:0\", \"offsetgroup\": \"[TG(64:13),TG(63:6)]_FA14:0\", \"orientation\": \"v\", \"showlegend\": true, \"textposition\": \"auto\", \"type\": \"bar\", \"x\": [\"1022.9 -> 777.7\"], \"xaxis\": \"x\", \"y\": [14045.280990600586], \"yaxis\": \"y\"}, {\"alignmentgroup\": \"True\", \"customdata\": [[\"[TG(64:12),TG(63:5)]_FA14:0\", \"TAG\"]], \"hovertemplate\": \"Lipid=%{customdata[0]}<br>Transition=%{x}<br>Intensity=%{y}<br>Class=%{customdata[1]}<extra></extra>\", \"legendgroup\": \"[TG(64:12),TG(63:5)]_FA14:0\", \"marker\": {\"color\": \"#FFA15A\"}, \"name\": \"[TG(64:12),TG(63:5)]_FA14:0\", \"offsetgroup\": \"[TG(64:12),TG(63:5)]_FA14:0\", \"orientation\": \"v\", \"showlegend\": true, \"textposition\": \"auto\", \"type\": \"bar\", \"x\": [\"1024.9 -> 779.7\"], \"xaxis\": \"x\", \"y\": [14086.260986328125], \"yaxis\": \"y\"}, {\"alignmentgroup\": \"True\", \"customdata\": [[\"[TG(64:11),TG(63:4)]_FA14:0\", \"TAG\"]], \"hovertemplate\": \"Lipid=%{customdata[0]}<br>Transition=%{x}<br>Intensity=%{y}<br>Class=%{customdata[1]}<extra></extra>\", \"legendgroup\": \"[TG(64:11),TG(63:4)]_FA14:0\", \"marker\": {\"color\": \"#19d3f3\"}, \"name\": \"[TG(64:11),TG(63:4)]_FA14:0\", \"offsetgroup\": \"[TG(64:11),TG(63:4)]_FA14:0\", \"orientation\": \"v\", \"showlegend\": true, \"textposition\": \"auto\", \"type\": \"bar\", \"x\": [\"1026.9 -> 781.7\"], \"xaxis\": \"x\", \"y\": [12927.800796508789], \"yaxis\": \"y\"}, {\"alignmentgroup\": \"True\", \"customdata\": [[\"[TG(64:10),TG(63:3)]_FA14:0\", \"TAG\"]], \"hovertemplate\": \"Lipid=%{customdata[0]}<br>Transition=%{x}<br>Intensity=%{y}<br>Class=%{customdata[1]}<extra></extra>\", \"legendgroup\": \"[TG(64:10),TG(63:3)]_FA14:0\", \"marker\": {\"color\": \"#FF6692\"}, \"name\": \"[TG(64:10),TG(63:3)]_FA14:0\", \"offsetgroup\": \"[TG(64:10),TG(63:3)]_FA14:0\", \"orientation\": \"v\", \"showlegend\": true, \"textposition\": \"auto\", \"type\": \"bar\", \"x\": [\"1029.0 -> 783.8\"], \"xaxis\": \"x\", \"y\": [10637.140739440918], \"yaxis\": \"y\"}, {\"alignmentgroup\": \"True\", \"customdata\": [[\"[TG(64:9),TG(63:2)]_FA14:0\", \"TAG\"]], \"hovertemplate\": \"Lipid=%{customdata[0]}<br>Transition=%{x}<br>Intensity=%{y}<br>Class=%{customdata[1]}<extra></extra>\", \"legendgroup\": \"[TG(64:9),TG(63:2)]_FA14:0\", \"marker\": {\"color\": \"#B6E880\"}, \"name\": \"[TG(64:9),TG(63:2)]_FA14:0\", \"offsetgroup\": \"[TG(64:9),TG(63:2)]_FA14:0\", \"orientation\": \"v\", \"showlegend\": true, \"textposition\": \"auto\", \"type\": \"bar\", \"x\": [\"1031.0 -> 785.8\"], \"xaxis\": \"x\", \"y\": [13033.880912780762], \"yaxis\": \"y\"}, {\"alignmentgroup\": \"True\", \"customdata\": [[\"[TG(64:8),TG(63:1)]_FA14:0\", \"TAG\"]], \"hovertemplate\": \"Lipid=%{customdata[0]}<br>Transition=%{x}<br>Intensity=%{y}<br>Class=%{customdata[1]}<extra></extra>\", \"legendgroup\": \"[TG(64:8),TG(63:1)]_FA14:0\", \"marker\": {\"color\": \"#FF97FF\"}, \"name\": \"[TG(64:8),TG(63:1)]_FA14:0\", \"offsetgroup\": \"[TG(64:8),TG(63:1)]_FA14:0\", \"orientation\": \"v\", \"showlegend\": true, \"textposition\": \"auto\", \"type\": \"bar\", \"x\": [\"1033.0 -> 787.8\"], \"xaxis\": \"x\", \"y\": [13134.800857543945], \"yaxis\": \"y\"}, {\"alignmentgroup\": \"True\", \"customdata\": [[\"[TG(64:7),TG(63:0)]_FA14:0\", \"TAG\"]], \"hovertemplate\": \"Lipid=%{customdata[0]}<br>Transition=%{x}<br>Intensity=%{y}<br>Class=%{customdata[1]}<extra></extra>\", \"legendgroup\": \"[TG(64:7),TG(63:0)]_FA14:0\", \"marker\": {\"color\": \"#FECB52\"}, \"name\": \"[TG(64:7),TG(63:0)]_FA14:0\", \"offsetgroup\": \"[TG(64:7),TG(63:0)]_FA14:0\", \"orientation\": \"v\", \"showlegend\": true, \"textposition\": \"auto\", \"type\": \"bar\", \"x\": [\"1035.0 -> 789.8\"], \"xaxis\": \"x\", \"y\": [12264.380752563477], \"yaxis\": \"y\"}, {\"alignmentgroup\": \"True\", \"customdata\": [[\"[TG(64:6)]_FA14:0\", \"TAG\"]], \"hovertemplate\": \"Lipid=%{customdata[0]}<br>Transition=%{x}<br>Intensity=%{y}<br>Class=%{customdata[1]}<extra></extra>\", \"legendgroup\": \"[TG(64:6)]_FA14:0\", \"marker\": {\"color\": \"#636efa\"}, \"name\": \"[TG(64:6)]_FA14:0\", \"offsetgroup\": \"[TG(64:6)]_FA14:0\", \"orientation\": \"v\", \"showlegend\": true, \"textposition\": \"auto\", \"type\": \"bar\", \"x\": [\"1036.9 -> 791.7\"], \"xaxis\": \"x\", \"y\": [13273.14094543457], \"yaxis\": \"y\"}, {\"alignmentgroup\": \"True\", \"customdata\": [[\"[TG(65:12),TG(64:5)]_FA14:0\", \"TAG\"]], \"hovertemplate\": \"Lipid=%{customdata[0]}<br>Transition=%{x}<br>Intensity=%{y}<br>Class=%{customdata[1]}<extra></extra>\", \"legendgroup\": \"[TG(65:12),TG(64:5)]_FA14:0\", \"marker\": {\"color\": \"#EF553B\"}, \"name\": \"[TG(65:12),TG(64:5)]_FA14:0\", \"offsetgroup\": \"[TG(65:12),TG(64:5)]_FA14:0\", \"orientation\": \"v\", \"showlegend\": true, \"textposition\": \"auto\", \"type\": \"bar\", \"x\": [\"1038.9 -> 793.7\"], \"xaxis\": \"x\", \"y\": [20100.661331176758], \"yaxis\": \"y\"}, {\"alignmentgroup\": \"True\", \"customdata\": [[\"[TG(66:18),TG(65:11),TG(64:4)]_FA14:0\", \"TAG\"]], \"hovertemplate\": \"Lipid=%{customdata[0]}<br>Transition=%{x}<br>Intensity=%{y}<br>Class=%{customdata[1]}<extra></extra>\", \"legendgroup\": \"[TG(66:18),TG(65:11),TG(64:4)]_FA14:0\", \"marker\": {\"color\": \"#00cc96\"}, \"name\": \"[TG(66:18),TG(65:11),TG(64:4)]_FA14:0\", \"offsetgroup\": \"[TG(66:18),TG(65:11),TG(64:4)]_FA14:0\", \"orientation\": \"v\", \"showlegend\": true, \"textposition\": \"auto\", \"type\": \"bar\", \"x\": [\"1041.0 -> 795.8\"], \"xaxis\": \"x\", \"y\": [12335.680953979492], \"yaxis\": \"y\"}, {\"alignmentgroup\": \"True\", \"customdata\": [[\"[TG(66:17),TG(65:10),TG(64:3)]_FA14:0\", \"TAG\"]], \"hovertemplate\": \"Lipid=%{customdata[0]}<br>Transition=%{x}<br>Intensity=%{y}<br>Class=%{customdata[1]}<extra></extra>\", \"legendgroup\": \"[TG(66:17),TG(65:10),TG(64:3)]_FA14:0\", \"marker\": {\"color\": \"#ab63fa\"}, \"name\": \"[TG(66:17),TG(65:10),TG(64:3)]_FA14:0\", \"offsetgroup\": \"[TG(66:17),TG(65:10),TG(64:3)]_FA14:0\", \"orientation\": \"v\", \"showlegend\": true, \"textposition\": \"auto\", \"type\": \"bar\", \"x\": [\"1043.0 -> 797.8\"], \"xaxis\": \"x\", \"y\": [12561.440925598145], \"yaxis\": \"y\"}, {\"alignmentgroup\": \"True\", \"customdata\": [[\"[TG(66:16),TG(65:9),TG(64:2)]_FA14:0\", \"TAG\"]], \"hovertemplate\": \"Lipid=%{customdata[0]}<br>Transition=%{x}<br>Intensity=%{y}<br>Class=%{customdata[1]}<extra></extra>\", \"legendgroup\": \"[TG(66:16),TG(65:9),TG(64:2)]_FA14:0\", \"marker\": {\"color\": \"#FFA15A\"}, \"name\": \"[TG(66:16),TG(65:9),TG(64:2)]_FA14:0\", \"offsetgroup\": \"[TG(66:16),TG(65:9),TG(64:2)]_FA14:0\", \"orientation\": \"v\", \"showlegend\": true, \"textposition\": \"auto\", \"type\": \"bar\", \"x\": [\"1045.0 -> 799.8\"], \"xaxis\": \"x\", \"y\": [19396.041259765625], \"yaxis\": \"y\"}, {\"alignmentgroup\": \"True\", \"customdata\": [[\"[TG(66:15),TG(65:8),TG(64:1)]_FA14:0\", \"TAG\"]], \"hovertemplate\": \"Lipid=%{customdata[0]}<br>Transition=%{x}<br>Intensity=%{y}<br>Class=%{customdata[1]}<extra></extra>\", \"legendgroup\": \"[TG(66:15),TG(65:8),TG(64:1)]_FA14:0\", \"marker\": {\"color\": \"#19d3f3\"}, \"name\": \"[TG(66:15),TG(65:8),TG(64:1)]_FA14:0\", \"offsetgroup\": \"[TG(66:15),TG(65:8),TG(64:1)]_FA14:0\", \"orientation\": \"v\", \"showlegend\": true, \"textposition\": \"auto\", \"type\": \"bar\", \"x\": [\"1047.0 -> 801.8\"], \"xaxis\": \"x\", \"y\": [15101.360977172852], \"yaxis\": \"y\"}, {\"alignmentgroup\": \"True\", \"customdata\": [[\"[TG(66:14),TG(65:7),TG(64:0)]_FA14:0\", \"TAG\"]], \"hovertemplate\": \"Lipid=%{customdata[0]}<br>Transition=%{x}<br>Intensity=%{y}<br>Class=%{customdata[1]}<extra></extra>\", \"legendgroup\": \"[TG(66:14),TG(65:7),TG(64:0)]_FA14:0\", \"marker\": {\"color\": \"#FF6692\"}, \"name\": \"[TG(66:14),TG(65:7),TG(64:0)]_FA14:0\", \"offsetgroup\": \"[TG(66:14),TG(65:7),TG(64:0)]_FA14:0\", \"orientation\": \"v\", \"showlegend\": true, \"textposition\": \"auto\", \"type\": \"bar\", \"x\": [\"1049.0 -> 803.8\"], \"xaxis\": \"x\", \"y\": [15476.981079101562], \"yaxis\": \"y\"}, {\"alignmentgroup\": \"True\", \"customdata\": [[\"[TG(66:13),TG(65:6)]_FA14:0\", \"TAG\"]], \"hovertemplate\": \"Lipid=%{customdata[0]}<br>Transition=%{x}<br>Intensity=%{y}<br>Class=%{customdata[1]}<extra></extra>\", \"legendgroup\": \"[TG(66:13),TG(65:6)]_FA14:0\", \"marker\": {\"color\": \"#B6E880\"}, \"name\": \"[TG(66:13),TG(65:6)]_FA14:0\", \"offsetgroup\": \"[TG(66:13),TG(65:6)]_FA14:0\", \"orientation\": \"v\", \"showlegend\": true, \"textposition\": \"auto\", \"type\": \"bar\", \"x\": [\"1050.9 -> 805.7\"], \"xaxis\": \"x\", \"y\": [10396.680717468262], \"yaxis\": \"y\"}, {\"alignmentgroup\": \"True\", \"customdata\": [[\"[TG(66:12),TG(65:5)]_FA14:0\", \"TAG\"]], \"hovertemplate\": \"Lipid=%{customdata[0]}<br>Transition=%{x}<br>Intensity=%{y}<br>Class=%{customdata[1]}<extra></extra>\", \"legendgroup\": \"[TG(66:12),TG(65:5)]_FA14:0\", \"marker\": {\"color\": \"#FF97FF\"}, \"name\": \"[TG(66:12),TG(65:5)]_FA14:0\", \"offsetgroup\": \"[TG(66:12),TG(65:5)]_FA14:0\", \"orientation\": \"v\", \"showlegend\": true, \"textposition\": \"auto\", \"type\": \"bar\", \"x\": [\"1053.0 -> 807.8\"], \"xaxis\": \"x\", \"y\": [12281.800918579102], \"yaxis\": \"y\"}, {\"alignmentgroup\": \"True\", \"customdata\": [[\"[TG(66:11),TG(65:4)]_FA14:0\", \"TAG\"]], \"hovertemplate\": \"Lipid=%{customdata[0]}<br>Transition=%{x}<br>Intensity=%{y}<br>Class=%{customdata[1]}<extra></extra>\", \"legendgroup\": \"[TG(66:11),TG(65:4)]_FA14:0\", \"marker\": {\"color\": \"#FECB52\"}, \"name\": \"[TG(66:11),TG(65:4)]_FA14:0\", \"offsetgroup\": \"[TG(66:11),TG(65:4)]_FA14:0\", \"orientation\": \"v\", \"showlegend\": true, \"textposition\": \"auto\", \"type\": \"bar\", \"x\": [\"1055.0 -> 809.8\"], \"xaxis\": \"x\", \"y\": [12049.680938720703], \"yaxis\": \"y\"}, {\"alignmentgroup\": \"True\", \"customdata\": [[\"[TG(66:10),TG(65:3)]_FA14:0\", \"TAG\"]], \"hovertemplate\": \"Lipid=%{customdata[0]}<br>Transition=%{x}<br>Intensity=%{y}<br>Class=%{customdata[1]}<extra></extra>\", \"legendgroup\": \"[TG(66:10),TG(65:3)]_FA14:0\", \"marker\": {\"color\": \"#636efa\"}, \"name\": \"[TG(66:10),TG(65:3)]_FA14:0\", \"offsetgroup\": \"[TG(66:10),TG(65:3)]_FA14:0\", \"orientation\": \"v\", \"showlegend\": true, \"textposition\": \"auto\", \"type\": \"bar\", \"x\": [\"1057.0 -> 811.8\"], \"xaxis\": \"x\", \"y\": [11546.020881652832], \"yaxis\": \"y\"}, {\"alignmentgroup\": \"True\", \"customdata\": [[\"[TG(66:9),TG(65:2)]_FA14:0\", \"TAG\"]], \"hovertemplate\": \"Lipid=%{customdata[0]}<br>Transition=%{x}<br>Intensity=%{y}<br>Class=%{customdata[1]}<extra></extra>\", \"legendgroup\": \"[TG(66:9),TG(65:2)]_FA14:0\", \"marker\": {\"color\": \"#EF553B\"}, \"name\": \"[TG(66:9),TG(65:2)]_FA14:0\", \"offsetgroup\": \"[TG(66:9),TG(65:2)]_FA14:0\", \"orientation\": \"v\", \"showlegend\": true, \"textposition\": \"auto\", \"type\": \"bar\", \"x\": [\"1059.0 -> 813.8\"], \"xaxis\": \"x\", \"y\": [13140.541000366211], \"yaxis\": \"y\"}, {\"alignmentgroup\": \"True\", \"customdata\": [[\"[TG(66:8),TG(65:1)]_FA14:0\", \"TAG\"]], \"hovertemplate\": \"Lipid=%{customdata[0]}<br>Transition=%{x}<br>Intensity=%{y}<br>Class=%{customdata[1]}<extra></extra>\", \"legendgroup\": \"[TG(66:8),TG(65:1)]_FA14:0\", \"marker\": {\"color\": \"#00cc96\"}, \"name\": \"[TG(66:8),TG(65:1)]_FA14:0\", \"offsetgroup\": \"[TG(66:8),TG(65:1)]_FA14:0\", \"orientation\": \"v\", \"showlegend\": true, \"textposition\": \"auto\", \"type\": \"bar\", \"x\": [\"1061.0 -> 815.8\"], \"xaxis\": \"x\", \"y\": [14803.141014099121], \"yaxis\": \"y\"}, {\"alignmentgroup\": \"True\", \"customdata\": [[\"[TG(66:7)]_FA14:0\", \"TAG\"]], \"hovertemplate\": \"Lipid=%{customdata[0]}<br>Transition=%{x}<br>Intensity=%{y}<br>Class=%{customdata[1]}<extra></extra>\", \"legendgroup\": \"[TG(66:7)]_FA14:0\", \"marker\": {\"color\": \"#ab63fa\"}, \"name\": \"[TG(66:7)]_FA14:0\", \"offsetgroup\": \"[TG(66:7)]_FA14:0\", \"orientation\": \"v\", \"showlegend\": true, \"textposition\": \"auto\", \"type\": \"bar\", \"x\": [\"1062.9 -> 817.7\"], \"xaxis\": \"x\", \"y\": [13260.220840454102], \"yaxis\": \"y\"}, {\"alignmentgroup\": \"True\", \"customdata\": [[\"[TG(65:0)]_FA14:0\", \"TAG\"]], \"hovertemplate\": \"Lipid=%{customdata[0]}<br>Transition=%{x}<br>Intensity=%{y}<br>Class=%{customdata[1]}<extra></extra>\", \"legendgroup\": \"[TG(65:0)]_FA14:0\", \"marker\": {\"color\": \"#FFA15A\"}, \"name\": \"[TG(65:0)]_FA14:0\", \"offsetgroup\": \"[TG(65:0)]_FA14:0\", \"orientation\": \"v\", \"showlegend\": true, \"textposition\": \"auto\", \"type\": \"bar\", \"x\": [\"1063.0 -> 817.8\"], \"xaxis\": \"x\", \"y\": [15204.641082763672], \"yaxis\": \"y\"}, {\"alignmentgroup\": \"True\", \"customdata\": [[\"[TG(66:6)]_FA14:0\", \"TAG\"]], \"hovertemplate\": \"Lipid=%{customdata[0]}<br>Transition=%{x}<br>Intensity=%{y}<br>Class=%{customdata[1]}<extra></extra>\", \"legendgroup\": \"[TG(66:6)]_FA14:0\", \"marker\": {\"color\": \"#19d3f3\"}, \"name\": \"[TG(66:6)]_FA14:0\", \"offsetgroup\": \"[TG(66:6)]_FA14:0\", \"orientation\": \"v\", \"showlegend\": true, \"textposition\": \"auto\", \"type\": \"bar\", \"x\": [\"1065.0 -> 819.8\"], \"xaxis\": \"x\", \"y\": [11739.30093383789], \"yaxis\": \"y\"}, {\"alignmentgroup\": \"True\", \"customdata\": [[\"[TG(66:5)]_FA14:0\", \"TAG\"]], \"hovertemplate\": \"Lipid=%{customdata[0]}<br>Transition=%{x}<br>Intensity=%{y}<br>Class=%{customdata[1]}<extra></extra>\", \"legendgroup\": \"[TG(66:5)]_FA14:0\", \"marker\": {\"color\": \"#FF6692\"}, \"name\": \"[TG(66:5)]_FA14:0\", \"offsetgroup\": \"[TG(66:5)]_FA14:0\", \"orientation\": \"v\", \"showlegend\": true, \"textposition\": \"auto\", \"type\": \"bar\", \"x\": [\"1067.0 -> 821.8\"], \"xaxis\": \"x\", \"y\": [10289.58073425293], \"yaxis\": \"y\"}, {\"alignmentgroup\": \"True\", \"customdata\": [[\"[TG(66:4)]_FA14:0\", \"TAG\"]], \"hovertemplate\": \"Lipid=%{customdata[0]}<br>Transition=%{x}<br>Intensity=%{y}<br>Class=%{customdata[1]}<extra></extra>\", \"legendgroup\": \"[TG(66:4)]_FA14:0\", \"marker\": {\"color\": \"#B6E880\"}, \"name\": \"[TG(66:4)]_FA14:0\", \"offsetgroup\": \"[TG(66:4)]_FA14:0\", \"orientation\": \"v\", \"showlegend\": true, \"textposition\": \"auto\", \"type\": \"bar\", \"x\": [\"1069.0 -> 823.8\"], \"xaxis\": \"x\", \"y\": [11749.400787353516], \"yaxis\": \"y\"}, {\"alignmentgroup\": \"True\", \"customdata\": [[\"[TG(66:3)]_FA14:0\", \"TAG\"]], \"hovertemplate\": \"Lipid=%{customdata[0]}<br>Transition=%{x}<br>Intensity=%{y}<br>Class=%{customdata[1]}<extra></extra>\", \"legendgroup\": \"[TG(66:3)]_FA14:0\", \"marker\": {\"color\": \"#FF97FF\"}, \"name\": \"[TG(66:3)]_FA14:0\", \"offsetgroup\": \"[TG(66:3)]_FA14:0\", \"orientation\": \"v\", \"showlegend\": true, \"textposition\": \"auto\", \"type\": \"bar\", \"x\": [\"1071.0 -> 825.8\"], \"xaxis\": \"x\", \"y\": [12457.700866699219], \"yaxis\": \"y\"}, {\"alignmentgroup\": \"True\", \"customdata\": [[\"[TG(66:2)]_FA14:0\", \"TAG\"]], \"hovertemplate\": \"Lipid=%{customdata[0]}<br>Transition=%{x}<br>Intensity=%{y}<br>Class=%{customdata[1]}<extra></extra>\", \"legendgroup\": \"[TG(66:2)]_FA14:0\", \"marker\": {\"color\": \"#FECB52\"}, \"name\": \"[TG(66:2)]_FA14:0\", \"offsetgroup\": \"[TG(66:2)]_FA14:0\", \"orientation\": \"v\", \"showlegend\": true, \"textposition\": \"auto\", \"type\": \"bar\", \"x\": [\"1073.0 -> 827.8\"], \"xaxis\": \"x\", \"y\": [11174.560779571533], \"yaxis\": \"y\"}, {\"alignmentgroup\": \"True\", \"customdata\": [[\"[TG(66:1)]_FA14:0\", \"TAG\"]], \"hovertemplate\": \"Lipid=%{customdata[0]}<br>Transition=%{x}<br>Intensity=%{y}<br>Class=%{customdata[1]}<extra></extra>\", \"legendgroup\": \"[TG(66:1)]_FA14:0\", \"marker\": {\"color\": \"#636efa\"}, \"name\": \"[TG(66:1)]_FA14:0\", \"offsetgroup\": \"[TG(66:1)]_FA14:0\", \"orientation\": \"v\", \"showlegend\": true, \"textposition\": \"auto\", \"type\": \"bar\", \"x\": [\"1075.0 -> 829.8\"], \"xaxis\": \"x\", \"y\": [12249.820945739746], \"yaxis\": \"y\"}],                        {\"barmode\": \"relative\", \"legend\": {\"title\": {\"text\": \"Lipid\"}, \"tracegroupgap\": 0}, \"margin\": {\"t\": 60}, \"template\": {\"data\": {\"bar\": [{\"error_x\": {\"color\": \"#2a3f5f\"}, \"error_y\": {\"color\": \"#2a3f5f\"}, \"marker\": {\"line\": {\"color\": \"#E5ECF6\", \"width\": 0.5}}, \"type\": \"bar\"}], \"barpolar\": [{\"marker\": {\"line\": {\"color\": \"#E5ECF6\", \"width\": 0.5}}, \"type\": \"barpolar\"}], \"carpet\": [{\"aaxis\": {\"endlinecolor\": \"#2a3f5f\", \"gridcolor\": \"white\", \"linecolor\": \"white\", \"minorgridcolor\": \"white\", \"startlinecolor\": \"#2a3f5f\"}, \"baxis\": {\"endlinecolor\": \"#2a3f5f\", \"gridcolor\": \"white\", \"linecolor\": \"white\", \"minorgridcolor\": \"white\", \"startlinecolor\": \"#2a3f5f\"}, \"type\": \"carpet\"}], \"choropleth\": [{\"colorbar\": {\"outlinewidth\": 0, \"ticks\": \"\"}, \"type\": \"choropleth\"}], \"contour\": [{\"colorbar\": {\"outlinewidth\": 0, \"ticks\": \"\"}, \"colorscale\": [[0.0, \"#0d0887\"], [0.1111111111111111, \"#46039f\"], [0.2222222222222222, \"#7201a8\"], [0.3333333333333333, \"#9c179e\"], [0.4444444444444444, \"#bd3786\"], [0.5555555555555556, \"#d8576b\"], [0.6666666666666666, \"#ed7953\"], [0.7777777777777778, \"#fb9f3a\"], [0.8888888888888888, \"#fdca26\"], [1.0, \"#f0f921\"]], \"type\": \"contour\"}], \"contourcarpet\": [{\"colorbar\": {\"outlinewidth\": 0, \"ticks\": \"\"}, \"type\": \"contourcarpet\"}], \"heatmap\": [{\"colorbar\": {\"outlinewidth\": 0, \"ticks\": \"\"}, \"colorscale\": [[0.0, \"#0d0887\"], [0.1111111111111111, \"#46039f\"], [0.2222222222222222, \"#7201a8\"], [0.3333333333333333, \"#9c179e\"], [0.4444444444444444, \"#bd3786\"], [0.5555555555555556, \"#d8576b\"], [0.6666666666666666, \"#ed7953\"], [0.7777777777777778, \"#fb9f3a\"], [0.8888888888888888, \"#fdca26\"], [1.0, \"#f0f921\"]], \"type\": \"heatmap\"}], \"heatmapgl\": [{\"colorbar\": {\"outlinewidth\": 0, \"ticks\": \"\"}, \"colorscale\": [[0.0, \"#0d0887\"], [0.1111111111111111, \"#46039f\"], [0.2222222222222222, \"#7201a8\"], [0.3333333333333333, \"#9c179e\"], [0.4444444444444444, \"#bd3786\"], [0.5555555555555556, \"#d8576b\"], [0.6666666666666666, \"#ed7953\"], [0.7777777777777778, \"#fb9f3a\"], [0.8888888888888888, \"#fdca26\"], [1.0, \"#f0f921\"]], \"type\": \"heatmapgl\"}], \"histogram\": [{\"marker\": {\"colorbar\": {\"outlinewidth\": 0, \"ticks\": \"\"}}, \"type\": \"histogram\"}], \"histogram2d\": [{\"colorbar\": {\"outlinewidth\": 0, \"ticks\": \"\"}, \"colorscale\": [[0.0, \"#0d0887\"], [0.1111111111111111, \"#46039f\"], [0.2222222222222222, \"#7201a8\"], [0.3333333333333333, \"#9c179e\"], [0.4444444444444444, \"#bd3786\"], [0.5555555555555556, \"#d8576b\"], [0.6666666666666666, \"#ed7953\"], [0.7777777777777778, \"#fb9f3a\"], [0.8888888888888888, \"#fdca26\"], [1.0, \"#f0f921\"]], \"type\": \"histogram2d\"}], \"histogram2dcontour\": [{\"colorbar\": {\"outlinewidth\": 0, \"ticks\": \"\"}, \"colorscale\": [[0.0, \"#0d0887\"], [0.1111111111111111, \"#46039f\"], [0.2222222222222222, \"#7201a8\"], [0.3333333333333333, \"#9c179e\"], [0.4444444444444444, \"#bd3786\"], [0.5555555555555556, \"#d8576b\"], [0.6666666666666666, \"#ed7953\"], [0.7777777777777778, \"#fb9f3a\"], [0.8888888888888888, \"#fdca26\"], [1.0, \"#f0f921\"]], \"type\": \"histogram2dcontour\"}], \"mesh3d\": [{\"colorbar\": {\"outlinewidth\": 0, \"ticks\": \"\"}, \"type\": \"mesh3d\"}], \"parcoords\": [{\"line\": {\"colorbar\": {\"outlinewidth\": 0, \"ticks\": \"\"}}, \"type\": \"parcoords\"}], \"pie\": [{\"automargin\": true, \"type\": \"pie\"}], \"scatter\": [{\"marker\": {\"colorbar\": {\"outlinewidth\": 0, \"ticks\": \"\"}}, \"type\": \"scatter\"}], \"scatter3d\": [{\"line\": {\"colorbar\": {\"outlinewidth\": 0, \"ticks\": \"\"}}, \"marker\": {\"colorbar\": {\"outlinewidth\": 0, \"ticks\": \"\"}}, \"type\": \"scatter3d\"}], \"scattercarpet\": [{\"marker\": {\"colorbar\": {\"outlinewidth\": 0, \"ticks\": \"\"}}, \"type\": \"scattercarpet\"}], \"scattergeo\": [{\"marker\": {\"colorbar\": {\"outlinewidth\": 0, \"ticks\": \"\"}}, \"type\": \"scattergeo\"}], \"scattergl\": [{\"marker\": {\"colorbar\": {\"outlinewidth\": 0, \"ticks\": \"\"}}, \"type\": \"scattergl\"}], \"scattermapbox\": [{\"marker\": {\"colorbar\": {\"outlinewidth\": 0, \"ticks\": \"\"}}, \"type\": \"scattermapbox\"}], \"scatterpolar\": [{\"marker\": {\"colorbar\": {\"outlinewidth\": 0, \"ticks\": \"\"}}, \"type\": \"scatterpolar\"}], \"scatterpolargl\": [{\"marker\": {\"colorbar\": {\"outlinewidth\": 0, \"ticks\": \"\"}}, \"type\": \"scatterpolargl\"}], \"scatterternary\": [{\"marker\": {\"colorbar\": {\"outlinewidth\": 0, \"ticks\": \"\"}}, \"type\": \"scatterternary\"}], \"surface\": [{\"colorbar\": {\"outlinewidth\": 0, \"ticks\": \"\"}, \"colorscale\": [[0.0, \"#0d0887\"], [0.1111111111111111, \"#46039f\"], [0.2222222222222222, \"#7201a8\"], [0.3333333333333333, \"#9c179e\"], [0.4444444444444444, \"#bd3786\"], [0.5555555555555556, \"#d8576b\"], [0.6666666666666666, \"#ed7953\"], [0.7777777777777778, \"#fb9f3a\"], [0.8888888888888888, \"#fdca26\"], [1.0, \"#f0f921\"]], \"type\": \"surface\"}], \"table\": [{\"cells\": {\"fill\": {\"color\": \"#EBF0F8\"}, \"line\": {\"color\": \"white\"}}, \"header\": {\"fill\": {\"color\": \"#C8D4E3\"}, \"line\": {\"color\": \"white\"}}, \"type\": \"table\"}]}, \"layout\": {\"annotationdefaults\": {\"arrowcolor\": \"#2a3f5f\", \"arrowhead\": 0, \"arrowwidth\": 1}, \"coloraxis\": {\"colorbar\": {\"outlinewidth\": 0, \"ticks\": \"\"}}, \"colorscale\": {\"diverging\": [[0, \"#8e0152\"], [0.1, \"#c51b7d\"], [0.2, \"#de77ae\"], [0.3, \"#f1b6da\"], [0.4, \"#fde0ef\"], [0.5, \"#f7f7f7\"], [0.6, \"#e6f5d0\"], [0.7, \"#b8e186\"], [0.8, \"#7fbc41\"], [0.9, \"#4d9221\"], [1, \"#276419\"]], \"sequential\": [[0.0, \"#0d0887\"], [0.1111111111111111, \"#46039f\"], [0.2222222222222222, \"#7201a8\"], [0.3333333333333333, \"#9c179e\"], [0.4444444444444444, \"#bd3786\"], [0.5555555555555556, \"#d8576b\"], [0.6666666666666666, \"#ed7953\"], [0.7777777777777778, \"#fb9f3a\"], [0.8888888888888888, \"#fdca26\"], [1.0, \"#f0f921\"]], \"sequentialminus\": [[0.0, \"#0d0887\"], [0.1111111111111111, \"#46039f\"], [0.2222222222222222, \"#7201a8\"], [0.3333333333333333, \"#9c179e\"], [0.4444444444444444, \"#bd3786\"], [0.5555555555555556, \"#d8576b\"], [0.6666666666666666, \"#ed7953\"], [0.7777777777777778, \"#fb9f3a\"], [0.8888888888888888, \"#fdca26\"], [1.0, \"#f0f921\"]]}, \"colorway\": [\"#636efa\", \"#EF553B\", \"#00cc96\", \"#ab63fa\", \"#FFA15A\", \"#19d3f3\", \"#FF6692\", \"#B6E880\", \"#FF97FF\", \"#FECB52\"], \"font\": {\"color\": \"#2a3f5f\"}, \"geo\": {\"bgcolor\": \"white\", \"lakecolor\": \"white\", \"landcolor\": \"#E5ECF6\", \"showlakes\": true, \"showland\": true, \"subunitcolor\": \"white\"}, \"hoverlabel\": {\"align\": \"left\"}, \"hovermode\": \"closest\", \"mapbox\": {\"style\": \"light\"}, \"paper_bgcolor\": \"white\", \"plot_bgcolor\": \"#E5ECF6\", \"polar\": {\"angularaxis\": {\"gridcolor\": \"white\", \"linecolor\": \"white\", \"ticks\": \"\"}, \"bgcolor\": \"#E5ECF6\", \"radialaxis\": {\"gridcolor\": \"white\", \"linecolor\": \"white\", \"ticks\": \"\"}}, \"scene\": {\"xaxis\": {\"backgroundcolor\": \"#E5ECF6\", \"gridcolor\": \"white\", \"gridwidth\": 2, \"linecolor\": \"white\", \"showbackground\": true, \"ticks\": \"\", \"zerolinecolor\": \"white\"}, \"yaxis\": {\"backgroundcolor\": \"#E5ECF6\", \"gridcolor\": \"white\", \"gridwidth\": 2, \"linecolor\": \"white\", \"showbackground\": true, \"ticks\": \"\", \"zerolinecolor\": \"white\"}, \"zaxis\": {\"backgroundcolor\": \"#E5ECF6\", \"gridcolor\": \"white\", \"gridwidth\": 2, \"linecolor\": \"white\", \"showbackground\": true, \"ticks\": \"\", \"zerolinecolor\": \"white\"}}, \"shapedefaults\": {\"line\": {\"color\": \"#2a3f5f\"}}, \"ternary\": {\"aaxis\": {\"gridcolor\": \"white\", \"linecolor\": \"white\", \"ticks\": \"\"}, \"baxis\": {\"gridcolor\": \"white\", \"linecolor\": \"white\", \"ticks\": \"\"}, \"bgcolor\": \"#E5ECF6\", \"caxis\": {\"gridcolor\": \"white\", \"linecolor\": \"white\", \"ticks\": \"\"}}, \"title\": {\"x\": 0.05}, \"xaxis\": {\"automargin\": true, \"gridcolor\": \"white\", \"linecolor\": \"white\", \"ticks\": \"\", \"title\": {\"standoff\": 15}, \"zerolinecolor\": \"white\", \"zerolinewidth\": 2}, \"yaxis\": {\"automargin\": true, \"gridcolor\": \"white\", \"linecolor\": \"white\", \"ticks\": \"\", \"title\": {\"standoff\": 15}, \"zerolinecolor\": \"white\", \"zerolinewidth\": 2}}}, \"xaxis\": {\"anchor\": \"y\", \"domain\": [0.0, 1.0], \"title\": {\"text\": \"Transition\"}}, \"yaxis\": {\"anchor\": \"x\", \"domain\": [0.0, 1.0], \"title\": {\"text\": \"Intensity\"}}},                        {\"responsive\": true}                    ).then(function(){\n",
       "                            \n",
       "var gd = document.getElementById('21cdd450-6c0e-4e23-85e8-67f36a3f4ac2');\n",
       "var x = new MutationObserver(function (mutations, observer) {{\n",
       "        var display = window.getComputedStyle(gd).display;\n",
       "        if (!display || display === 'none') {{\n",
       "            console.log([gd, 'removed!']);\n",
       "            Plotly.purge(gd);\n",
       "            observer.disconnect();\n",
       "        }}\n",
       "}});\n",
       "\n",
       "// Listen for the removal of the full notebook cells\n",
       "var notebookContainer = gd.closest('#notebook-container');\n",
       "if (notebookContainer) {{\n",
       "    x.observe(notebookContainer, {childList: true});\n",
       "}}\n",
       "\n",
       "// Listen for the clearing of the current output cell\n",
       "var outputEl = gd.closest('.output');\n",
       "if (outputEl) {{\n",
       "    x.observe(outputEl, {childList: true});\n",
       "}}\n",
       "\n",
       "                        })                };                });            </script>        </div>"
      ]
     },
     "metadata": {},
     "output_type": "display_data"
    },
    {
     "data": {
      "application/vnd.plotly.v1+json": {
       "config": {
        "plotlyServerURL": "https://plot.ly"
       },
       "data": [
        {
         "alignmentgroup": "True",
         "customdata": [
          [
           "[TG(37:0)]_FA14:0",
           "TAG"
          ],
          [
           "[TG(38:1)]_FA14:0",
           "TAG"
          ],
          [
           "[TG(38:0)]_FA14:0",
           "TAG"
          ],
          [
           "[TG(39:1)]_FA14:0",
           "TAG"
          ],
          [
           "[TG(39:0)]_FA14:0",
           "TAG"
          ],
          [
           "[TG(40:2)]_FA14:0",
           "TAG"
          ],
          [
           "[TG(40:1)]_FA14:0",
           "TAG"
          ],
          [
           "[TG(40:0)]_FA14:0",
           "TAG"
          ],
          [
           "[TG(41:2)]_FA14:0",
           "TAG"
          ],
          [
           "[TG(41:1)]_FA14:0",
           "TAG"
          ],
          [
           "[TG(41:0)]_FA14:0",
           "TAG"
          ],
          [
           "[TG(42:4)]_FA14:0",
           "TAG"
          ],
          [
           "[TG(42:3)]_FA14:0",
           "TAG"
          ],
          [
           "[TG(42:2)]_FA14:0",
           "TAG"
          ],
          [
           "[TG(42:1)]_FA14:0",
           "TAG"
          ],
          [
           "[TG(42:0)]_FA14:0",
           "TAG"
          ],
          [
           "[TG(43:4)]_FA14:0",
           "TAG"
          ],
          [
           "[TG(43:3)]_FA14:0",
           "TAG"
          ],
          [
           "[TG(43:2)]_FA14:0",
           "TAG"
          ],
          [
           "[TG(43:1)]_FA14:0",
           "TAG"
          ],
          [
           "[TG(43:0)]_FA14:0",
           "TAG"
          ],
          [
           "[TG(44:5)]_FA14:0",
           "TAG"
          ],
          [
           "[TG(44:4)]_FA14:0",
           "TAG"
          ],
          [
           "[TG(44:3)]_FA14:0",
           "TAG"
          ],
          [
           "[TG(44:2)]_FA14:0",
           "TAG"
          ],
          [
           "[TG(44:1)]_FA14:0",
           "TAG"
          ],
          [
           "[TG(44:0),TG(O-45:0)]_FA14:0",
           "TAG"
          ],
          [
           "[TG(45:5)]_FA14:0",
           "TAG"
          ],
          [
           "[TG(45:4)]_FA14:0",
           "TAG"
          ],
          [
           "[TG(45:3)]_FA14:0",
           "TAG"
          ],
          [
           "[TG(45:2)]_FA14:0",
           "TAG"
          ],
          [
           "[TG(45:1)]_FA14:0",
           "TAG"
          ],
          [
           "[TG(45:0)]_FA14:0",
           "TAG"
          ],
          [
           "[TG(46:6)]_FA14:0",
           "TAG"
          ],
          [
           "[TG(46:5)]_FA14:0",
           "TAG"
          ],
          [
           "[TG(46:4)]_FA14:0",
           "TAG"
          ],
          [
           "[TG(46:3)]_FA14:0",
           "TAG"
          ],
          [
           "[TG(46:2)]_FA14:0",
           "TAG"
          ],
          [
           "[TG(46:1)]_FA14:0",
           "TAG"
          ],
          [
           "[TG(46:0)]_FA14:0",
           "TAG"
          ],
          [
           "[TG(47:6)]_FA14:0",
           "TAG"
          ],
          [
           "[TG(47:5)]_FA14:0",
           "TAG"
          ],
          [
           "[TG(47:4)]_FA14:0",
           "TAG"
          ],
          [
           "[TG(47:3)]_FA14:0",
           "TAG"
          ],
          [
           "[TG(47:2)]_FA14:0",
           "TAG"
          ],
          [
           "[TG(48:8),TG(47:1)]_FA14:0",
           "TAG"
          ],
          [
           "[TG(48:7),TG(47:0)]_FA14:0",
           "TAG"
          ],
          [
           "[TG(48:6)]_FA14:0",
           "TAG"
          ],
          [
           "[TG(48:5)]_FA14:0",
           "TAG"
          ],
          [
           "[TG(48:4)]_FA14:0",
           "TAG"
          ],
          [
           "[TG(48:3)]_FA14:0",
           "TAG"
          ],
          [
           "[TG(48:2)]_FA14:0",
           "TAG"
          ],
          [
           "[TG(49:8),TG(48:1)]_FA14:0",
           "TAG"
          ],
          [
           "[TG(49:7),TG(48:0)]_FA14:0",
           "TAG"
          ],
          [
           "[TG(49:6)]_FA14:0",
           "TAG"
          ],
          [
           "[TG(49:5)]_FA14:0",
           "TAG"
          ],
          [
           "[TG(49:4)]_FA14:0",
           "TAG"
          ],
          [
           "[TG(49:3)]_FA14:0",
           "TAG"
          ],
          [
           "[TG(50:9),TG(49:2)]_FA14:0",
           "TAG"
          ],
          [
           "[TG(50:8),TG(49:1)]_FA14:0",
           "TAG"
          ],
          [
           "[TG(50:7),TG(49:0)]_FA14:0",
           "TAG"
          ],
          [
           "[TG(50:6)]_FA14:0",
           "TAG"
          ],
          [
           "[TG(50:5)]_FA14:0",
           "TAG"
          ],
          [
           "[TG(50:4)]_FA14:0",
           "TAG"
          ],
          [
           "[TG(50:3)]_FA14:0",
           "TAG"
          ],
          [
           "[TG(51:9),TG(50:2)]_FA14:0",
           "TAG"
          ],
          [
           "[TG(51:8),TG(50:1)]_FA14:0",
           "TAG"
          ],
          [
           "[TG(51:7),TG(50:0)]_FA14:0",
           "TAG"
          ],
          [
           "[TG(51:6)]_FA14:0",
           "TAG"
          ],
          [
           "[TG(51:5)]_FA14:0",
           "TAG"
          ],
          [
           "[TG(51:4)]_FA14:0",
           "TAG"
          ],
          [
           "[TG(52:10),TG(51:3)]_FA14:0",
           "TAG"
          ],
          [
           "[TG(52:9),TG(51:2)]_FA14:0",
           "TAG"
          ],
          [
           "[TG(52:8),TG(51:1)]_FA14:0",
           "TAG"
          ],
          [
           "[TG(52:7),TG(51:0)]_FA14:0",
           "TAG"
          ],
          [
           "[TG(52:6)]_FA14:0",
           "TAG"
          ],
          [
           "[TG(52:5)]_FA14:0",
           "TAG"
          ],
          [
           "[TG(52:4)]_FA14:0",
           "TAG"
          ],
          [
           "[TG(53:10),TG(52:3)]_FA14:0",
           "TAG"
          ],
          [
           "[TG(53:9),TG(52:2)]_FA14:0",
           "TAG"
          ],
          [
           "[TG(53:8),TG(52:1)]_FA14:0",
           "TAG"
          ],
          [
           "[TG(53:7),TG(52:0)]_FA14:0",
           "TAG"
          ],
          [
           "[TG(53:6)]_FA14:0",
           "TAG"
          ],
          [
           "[TG(54:12),TG(53:5)]_FA14:0",
           "TAG"
          ],
          [
           "[TG(54:11),TG(53:4)]_FA14:0",
           "TAG"
          ],
          [
           "[TG(54:10),TG(53:3)]_FA14:0",
           "TAG"
          ],
          [
           "[TG(54:9),TG(53:2)]_FA14:0",
           "TAG"
          ],
          [
           "[TG(54:8),TG(53:1)]_FA14:0",
           "TAG"
          ],
          [
           "[TG(54:7),TG(53:0)]_FA14:0",
           "TAG"
          ],
          [
           "[TG(54:6)]_FA14:0",
           "TAG"
          ],
          [
           "[TG(54:5)]_FA14:0",
           "TAG"
          ],
          [
           "[TG(55:11),TG(54:4)]_FA14:0",
           "TAG"
          ],
          [
           "[TG(55:10),TG(54:3)]_FA14:0",
           "TAG"
          ],
          [
           "[TG(55:9),TG(54:2)]_FA14:0",
           "TAG"
          ],
          [
           "[TG(55:8),TG(54:1)]_FA14:0",
           "TAG"
          ],
          [
           "[TG(55:7),TG(54:0)]_FA14:0",
           "TAG"
          ],
          [
           "[TG(56:13),TG(55:6)]_FA14:0",
           "TAG"
          ],
          [
           "[TG(56:12),TG(55:5)]_FA14:0",
           "TAG"
          ],
          [
           "[TG(56:11),TG(55:4)]_FA14:0",
           "TAG"
          ],
          [
           "[TG(56:10),TG(55:3)]_FA14:0",
           "TAG"
          ],
          [
           "[TG(56:9),TG(55:2)]_FA14:0",
           "TAG"
          ],
          [
           "[TG(56:8),TG(55:1)]_FA14:0",
           "TAG"
          ],
          [
           "[TG(56:7),TG(55:0)]_FA14:0",
           "TAG"
          ],
          [
           "[TG(56:6)]_FA14:0",
           "TAG"
          ],
          [
           "[TG(57:12),TG(56:5)]_FA14:0",
           "TAG"
          ],
          [
           "[TG(57:11),TG(56:4)]_FA14:0",
           "TAG"
          ],
          [
           "[TG(57:10),TG(56:3)]_FA14:0",
           "TAG"
          ],
          [
           "[TG(57:9),TG(56:2)]_FA14:0",
           "TAG"
          ],
          [
           "[TG(57:8),TG(56:1)]_FA14:0",
           "TAG"
          ],
          [
           "[TG(58:14),TG(57:7),TG(56:0)]_FA14:0",
           "TAG"
          ],
          [
           "[TG(58:13),TG(57:6)]_FA14:0",
           "TAG"
          ],
          [
           "[TG(58:12),TG(57:5)]_FA14:0",
           "TAG"
          ],
          [
           "[TG(58:11),TG(57:4)]_FA14:0",
           "TAG"
          ],
          [
           "[TG(58:10),TG(57:3)]_FA14:0",
           "TAG"
          ],
          [
           "[TG(58:9),TG(57:2)]_FA14:0",
           "TAG"
          ],
          [
           "[TG(58:8),TG(57:1)]_FA14:0",
           "TAG"
          ],
          [
           "[TG(58:7),TG(57:0)]_FA14:0",
           "TAG"
          ],
          [
           "[TG(59:13),TG(58:6)]_FA14:0",
           "TAG"
          ],
          [
           "[TG(59:12),TG(58:5)]_FA14:0",
           "TAG"
          ],
          [
           "[TG(59:11),TG(58:4)]_FA14:0",
           "TAG"
          ],
          [
           "[TG(59:10),TG(58:3)]_FA14:0",
           "TAG"
          ],
          [
           "[TG(59:9),TG(58:2)]_FA14:0",
           "TAG"
          ],
          [
           "[TG(60:15),TG(59:8),TG(58:1)]_FA14:0",
           "TAG"
          ],
          [
           "[TG(60:14),TG(59:7),TG(58:0)]_FA14:0",
           "TAG"
          ],
          [
           "[TG(60:13),TG(59:6)]_FA14:0",
           "TAG"
          ],
          [
           "[TG(60:12),TG(59:5)]_FA14:0",
           "TAG"
          ],
          [
           "[TG(60:11),TG(59:4)]_FA14:0",
           "TAG"
          ],
          [
           "[TG(60:10),TG(59:3)]_FA14:0",
           "TAG"
          ],
          [
           "[TG(60:9),TG(59:2)]_FA14:0",
           "TAG"
          ],
          [
           "[TG(60:8),TG(59:1)]_FA14:0",
           "TAG"
          ],
          [
           "[TG(61:14),TG(60:7),TG(59:0)]_FA14:0",
           "TAG"
          ],
          [
           "[TG(61:13),TG(60:6)]_FA14:0",
           "TAG"
          ],
          [
           "[TG(61:12),TG(60:5)]_FA14:0",
           "TAG"
          ],
          [
           "[TG(61:11),TG(60:4)]_FA14:0",
           "TAG"
          ],
          [
           "[TG(61:10),TG(60:3)]_FA14:0",
           "TAG"
          ],
          [
           "[TG(62:16),TG(61:9),TG(60:2)]_FA14:0",
           "TAG"
          ],
          [
           "[TG(62:15),TG(61:8),TG(60:1)]_FA14:0",
           "TAG"
          ],
          [
           "[TG(62:14),TG(61:7),TG(60:0)]_FA14:0",
           "TAG"
          ],
          [
           "[TG(62:13),TG(61:6)]_FA14:0",
           "TAG"
          ],
          [
           "[TG(62:12),TG(61:5)]_FA14:0",
           "TAG"
          ],
          [
           "[TG(62:11),TG(61:4)]_FA14:0",
           "TAG"
          ],
          [
           "[TG(62:10),TG(61:3)]_FA14:0",
           "TAG"
          ],
          [
           "[TG(62:9),TG(61:2)]_FA14:0",
           "TAG"
          ],
          [
           "[TG(62:8),TG(61:1)]_FA14:0",
           "TAG"
          ],
          [
           "[TG(62:7),TG(61:0)]_FA14:0",
           "TAG"
          ],
          [
           "[TG(63:13),TG(62:6)]_FA14:0",
           "TAG"
          ],
          [
           "[TG(63:12),TG(62:5)]_FA14:0",
           "TAG"
          ],
          [
           "[TG(63:11),TG(62:4)]_FA14:0",
           "TAG"
          ],
          [
           "[TG(64:17),TG(63:10),TG(62:3)]_FA14:0",
           "TAG"
          ],
          [
           "[TG(64:16),TG(63:9),TG(62:2)]_FA14:0",
           "TAG"
          ],
          [
           "[TG(64:15),TG(63:8),TG(62:1)]_FA14:0",
           "TAG"
          ],
          [
           "[TG(64:14),TG(63:7),TG(62:0)]_FA14:0",
           "TAG"
          ],
          [
           "[TG(64:13),TG(63:6)]_FA14:0",
           "TAG"
          ],
          [
           "[TG(64:12),TG(63:5)]_FA14:0",
           "TAG"
          ],
          [
           "[TG(64:11),TG(63:4)]_FA14:0",
           "TAG"
          ],
          [
           "[TG(64:10),TG(63:3)]_FA14:0",
           "TAG"
          ],
          [
           "[TG(64:9),TG(63:2)]_FA14:0",
           "TAG"
          ],
          [
           "[TG(64:8),TG(63:1)]_FA14:0",
           "TAG"
          ],
          [
           "[TG(64:7),TG(63:0)]_FA14:0",
           "TAG"
          ],
          [
           "[TG(64:6)]_FA14:0",
           "TAG"
          ],
          [
           "[TG(65:12),TG(64:5)]_FA14:0",
           "TAG"
          ],
          [
           "[TG(66:18),TG(65:11),TG(64:4)]_FA14:0",
           "TAG"
          ],
          [
           "[TG(66:17),TG(65:10),TG(64:3)]_FA14:0",
           "TAG"
          ],
          [
           "[TG(66:16),TG(65:9),TG(64:2)]_FA14:0",
           "TAG"
          ],
          [
           "[TG(66:15),TG(65:8),TG(64:1)]_FA14:0",
           "TAG"
          ],
          [
           "[TG(66:14),TG(65:7),TG(64:0)]_FA14:0",
           "TAG"
          ],
          [
           "[TG(66:13),TG(65:6)]_FA14:0",
           "TAG"
          ],
          [
           "[TG(66:12),TG(65:5)]_FA14:0",
           "TAG"
          ],
          [
           "[TG(66:11),TG(65:4)]_FA14:0",
           "TAG"
          ],
          [
           "[TG(66:10),TG(65:3)]_FA14:0",
           "TAG"
          ],
          [
           "[TG(66:9),TG(65:2)]_FA14:0",
           "TAG"
          ],
          [
           "[TG(66:8),TG(65:1)]_FA14:0",
           "TAG"
          ],
          [
           "[TG(66:7)]_FA14:0",
           "TAG"
          ],
          [
           "[TG(65:0)]_FA14:0",
           "TAG"
          ],
          [
           "[TG(66:6)]_FA14:0",
           "TAG"
          ],
          [
           "[TG(66:5)]_FA14:0",
           "TAG"
          ],
          [
           "[TG(66:4)]_FA14:0",
           "TAG"
          ],
          [
           "[TG(66:3)]_FA14:0",
           "TAG"
          ],
          [
           "[TG(66:2)]_FA14:0",
           "TAG"
          ],
          [
           "[TG(66:1)]_FA14:0",
           "TAG"
          ]
         ],
         "hovertemplate": "Class=%{customdata[1]}<br>Intensity=%{y}<br>Lipid=%{customdata[0]}<extra></extra>",
         "legendgroup": "TAG",
         "marker": {
          "color": "#636efa"
         },
         "name": "TAG",
         "offsetgroup": "TAG",
         "orientation": "v",
         "showlegend": true,
         "textposition": "auto",
         "type": "bar",
         "x": [
          "TAG",
          "TAG",
          "TAG",
          "TAG",
          "TAG",
          "TAG",
          "TAG",
          "TAG",
          "TAG",
          "TAG",
          "TAG",
          "TAG",
          "TAG",
          "TAG",
          "TAG",
          "TAG",
          "TAG",
          "TAG",
          "TAG",
          "TAG",
          "TAG",
          "TAG",
          "TAG",
          "TAG",
          "TAG",
          "TAG",
          "TAG",
          "TAG",
          "TAG",
          "TAG",
          "TAG",
          "TAG",
          "TAG",
          "TAG",
          "TAG",
          "TAG",
          "TAG",
          "TAG",
          "TAG",
          "TAG",
          "TAG",
          "TAG",
          "TAG",
          "TAG",
          "TAG",
          "TAG",
          "TAG",
          "TAG",
          "TAG",
          "TAG",
          "TAG",
          "TAG",
          "TAG",
          "TAG",
          "TAG",
          "TAG",
          "TAG",
          "TAG",
          "TAG",
          "TAG",
          "TAG",
          "TAG",
          "TAG",
          "TAG",
          "TAG",
          "TAG",
          "TAG",
          "TAG",
          "TAG",
          "TAG",
          "TAG",
          "TAG",
          "TAG",
          "TAG",
          "TAG",
          "TAG",
          "TAG",
          "TAG",
          "TAG",
          "TAG",
          "TAG",
          "TAG",
          "TAG",
          "TAG",
          "TAG",
          "TAG",
          "TAG",
          "TAG",
          "TAG",
          "TAG",
          "TAG",
          "TAG",
          "TAG",
          "TAG",
          "TAG",
          "TAG",
          "TAG",
          "TAG",
          "TAG",
          "TAG",
          "TAG",
          "TAG",
          "TAG",
          "TAG",
          "TAG",
          "TAG",
          "TAG",
          "TAG",
          "TAG",
          "TAG",
          "TAG",
          "TAG",
          "TAG",
          "TAG",
          "TAG",
          "TAG",
          "TAG",
          "TAG",
          "TAG",
          "TAG",
          "TAG",
          "TAG",
          "TAG",
          "TAG",
          "TAG",
          "TAG",
          "TAG",
          "TAG",
          "TAG",
          "TAG",
          "TAG",
          "TAG",
          "TAG",
          "TAG",
          "TAG",
          "TAG",
          "TAG",
          "TAG",
          "TAG",
          "TAG",
          "TAG",
          "TAG",
          "TAG",
          "TAG",
          "TAG",
          "TAG",
          "TAG",
          "TAG",
          "TAG",
          "TAG",
          "TAG",
          "TAG",
          "TAG",
          "TAG",
          "TAG",
          "TAG",
          "TAG",
          "TAG",
          "TAG",
          "TAG",
          "TAG",
          "TAG",
          "TAG",
          "TAG",
          "TAG",
          "TAG",
          "TAG",
          "TAG",
          "TAG",
          "TAG",
          "TAG",
          "TAG",
          "TAG",
          "TAG",
          "TAG",
          "TAG",
          "TAG",
          "TAG",
          "TAG",
          "TAG"
         ],
         "xaxis": "x",
         "y": [
          45072.822998046875,
          64211.844482421875,
          237300.73681640625,
          27744.182037353516,
          37315.48260498047,
          24415.261688232422,
          34708.20263671875,
          155327.89086914062,
          20373.861602783203,
          19893.661392211914,
          26466.401824951172,
          15374.68115234375,
          19889.30142211914,
          17753.80108642578,
          131865.6494140625,
          94824.94689941406,
          16791.481231689453,
          63030.504150390625,
          26622.84196472168,
          28583.40203857422,
          29018.08203125,
          17620.081260681152,
          15765.661041259766,
          18071.14141845703,
          39169.32312011719,
          31882.602020263672,
          72722.04577636719,
          18579.66111755371,
          21398.161346435547,
          18318.621307373047,
          16532.841232299805,
          70729.62463378906,
          46782.86340332031,
          20436.341217041016,
          20286.141387939453,
          18562.861236572266,
          20631.881439208984,
          44036.763610839844,
          68736.06512451172,
          84029.40625,
          26131.921813964844,
          20985.38151550293,
          18959.501403808594,
          21987.14175415039,
          24136.061737060547,
          31395.762451171875,
          35014.362396240234,
          51366.403381347656,
          25303.261779785156,
          23539.601623535156,
          82808.48538208008,
          286373.7007446289,
          333579.6123046875,
          80859.20629882812,
          29734.44223022461,
          22083.261352539062,
          22096.821563720703,
          26063.061752319336,
          29320.561981201172,
          37507.4225769043,
          34488.222259521484,
          29315.282165527344,
          35932.222259521484,
          126118.92807006836,
          432169.33502197266,
          501185.328125,
          86953.32531738281,
          36228.10238647461,
          49931.743591308594,
          23814.681854248047,
          23092.781524658203,
          28172.081909179688,
          41892.44287109375,
          46549.702728271484,
          34083.9026184082,
          40384.46292114258,
          44110.603759765625,
          42770.922912597656,
          53848.18371582031,
          56664.44418334961,
          47311.622985839844,
          30805.982299804688,
          26174.721771240234,
          25399.10171508789,
          25004.141693115234,
          31147.182556152344,
          38980.08303833008,
          46906.80307006836,
          38897.4231262207,
          73665.94470214844,
          41898.76268005371,
          28414.301971435547,
          30718.442108154297,
          33424.282623291016,
          29007.38198852539,
          35497.86260986328,
          26408.881866455078,
          22494.82162475586,
          25690.061798095703,
          29631.141998291016,
          33327.52235412598,
          29645.14239501953,
          23936.88168334961,
          21959.361694335938,
          20401.881622314453,
          20398.84147644043,
          25416.421936035156,
          22382.361602783203,
          19609.461395263672,
          22338.061492919922,
          29575.44204711914,
          20122.321487426758,
          20873.68148803711,
          20475.001525878906,
          19687.661422729492,
          17986.1212310791,
          16909.581176757812,
          17760.02130126953,
          17154.881271362305,
          17369.481216430664,
          17000.50129699707,
          14471.141006469727,
          17327.96128845215,
          15586.361099243164,
          15192.34105682373,
          16057.961143493652,
          29432.862243652344,
          21032.461456298828,
          15778.50112915039,
          13972.840942382812,
          15361.26107788086,
          14665.92106628418,
          12983.740997314453,
          16507.40118408203,
          15164.080978393555,
          16115.021049499512,
          14670.80093383789,
          11676.520835876465,
          12641.240867614746,
          14229.900955200195,
          14026.561004638672,
          13990.720977783203,
          14917.441131591797,
          14691.960952758789,
          12988.200942993164,
          13342.720916748047,
          14266.48112487793,
          13126.080932617188,
          13007.560943603516,
          15978.181114196777,
          14954.541114807129,
          12710.70083618164,
          14045.280990600586,
          14086.260986328125,
          12927.800796508789,
          10637.140739440918,
          13033.880912780762,
          13134.800857543945,
          12264.380752563477,
          13273.14094543457,
          20100.661331176758,
          12335.680953979492,
          12561.440925598145,
          19396.041259765625,
          15101.360977172852,
          15476.981079101562,
          10396.680717468262,
          12281.800918579102,
          12049.680938720703,
          11546.020881652832,
          13140.541000366211,
          14803.141014099121,
          13260.220840454102,
          15204.641082763672,
          11739.30093383789,
          10289.58073425293,
          11749.400787353516,
          12457.700866699219,
          11174.560779571533,
          12249.820945739746
         ],
         "yaxis": "y"
        },
        {
         "alignmentgroup": "True",
         "customdata": [
          [
           "STD_15:0-18:1(d7)-15:0 TAG",
           "STD_15:0-18:1(d7)-15:0 TAG"
          ]
         ],
         "hovertemplate": "Class=%{customdata[1]}<br>Intensity=%{y}<br>Lipid=%{customdata[0]}<extra></extra>",
         "legendgroup": "STD_15:0-18:1(d7)-15:0 TAG",
         "marker": {
          "color": "#EF553B"
         },
         "name": "STD_15:0-18:1(d7)-15:0 TAG",
         "offsetgroup": "STD_15:0-18:1(d7)-15:0 TAG",
         "orientation": "v",
         "showlegend": true,
         "textposition": "auto",
         "type": "bar",
         "x": [
          "STD_15:0-18:1(d7)-15:0 TAG"
         ],
         "xaxis": "x",
         "y": [
          33835.302642822266
         ],
         "yaxis": "y"
        }
       ],
       "layout": {
        "barmode": "relative",
        "legend": {
         "title": {
          "text": "Class"
         },
         "tracegroupgap": 0
        },
        "margin": {
         "t": 60
        },
        "template": {
         "data": {
          "bar": [
           {
            "error_x": {
             "color": "#2a3f5f"
            },
            "error_y": {
             "color": "#2a3f5f"
            },
            "marker": {
             "line": {
              "color": "#E5ECF6",
              "width": 0.5
             }
            },
            "type": "bar"
           }
          ],
          "barpolar": [
           {
            "marker": {
             "line": {
              "color": "#E5ECF6",
              "width": 0.5
             }
            },
            "type": "barpolar"
           }
          ],
          "carpet": [
           {
            "aaxis": {
             "endlinecolor": "#2a3f5f",
             "gridcolor": "white",
             "linecolor": "white",
             "minorgridcolor": "white",
             "startlinecolor": "#2a3f5f"
            },
            "baxis": {
             "endlinecolor": "#2a3f5f",
             "gridcolor": "white",
             "linecolor": "white",
             "minorgridcolor": "white",
             "startlinecolor": "#2a3f5f"
            },
            "type": "carpet"
           }
          ],
          "choropleth": [
           {
            "colorbar": {
             "outlinewidth": 0,
             "ticks": ""
            },
            "type": "choropleth"
           }
          ],
          "contour": [
           {
            "colorbar": {
             "outlinewidth": 0,
             "ticks": ""
            },
            "colorscale": [
             [
              0,
              "#0d0887"
             ],
             [
              0.1111111111111111,
              "#46039f"
             ],
             [
              0.2222222222222222,
              "#7201a8"
             ],
             [
              0.3333333333333333,
              "#9c179e"
             ],
             [
              0.4444444444444444,
              "#bd3786"
             ],
             [
              0.5555555555555556,
              "#d8576b"
             ],
             [
              0.6666666666666666,
              "#ed7953"
             ],
             [
              0.7777777777777778,
              "#fb9f3a"
             ],
             [
              0.8888888888888888,
              "#fdca26"
             ],
             [
              1,
              "#f0f921"
             ]
            ],
            "type": "contour"
           }
          ],
          "contourcarpet": [
           {
            "colorbar": {
             "outlinewidth": 0,
             "ticks": ""
            },
            "type": "contourcarpet"
           }
          ],
          "heatmap": [
           {
            "colorbar": {
             "outlinewidth": 0,
             "ticks": ""
            },
            "colorscale": [
             [
              0,
              "#0d0887"
             ],
             [
              0.1111111111111111,
              "#46039f"
             ],
             [
              0.2222222222222222,
              "#7201a8"
             ],
             [
              0.3333333333333333,
              "#9c179e"
             ],
             [
              0.4444444444444444,
              "#bd3786"
             ],
             [
              0.5555555555555556,
              "#d8576b"
             ],
             [
              0.6666666666666666,
              "#ed7953"
             ],
             [
              0.7777777777777778,
              "#fb9f3a"
             ],
             [
              0.8888888888888888,
              "#fdca26"
             ],
             [
              1,
              "#f0f921"
             ]
            ],
            "type": "heatmap"
           }
          ],
          "heatmapgl": [
           {
            "colorbar": {
             "outlinewidth": 0,
             "ticks": ""
            },
            "colorscale": [
             [
              0,
              "#0d0887"
             ],
             [
              0.1111111111111111,
              "#46039f"
             ],
             [
              0.2222222222222222,
              "#7201a8"
             ],
             [
              0.3333333333333333,
              "#9c179e"
             ],
             [
              0.4444444444444444,
              "#bd3786"
             ],
             [
              0.5555555555555556,
              "#d8576b"
             ],
             [
              0.6666666666666666,
              "#ed7953"
             ],
             [
              0.7777777777777778,
              "#fb9f3a"
             ],
             [
              0.8888888888888888,
              "#fdca26"
             ],
             [
              1,
              "#f0f921"
             ]
            ],
            "type": "heatmapgl"
           }
          ],
          "histogram": [
           {
            "marker": {
             "colorbar": {
              "outlinewidth": 0,
              "ticks": ""
             }
            },
            "type": "histogram"
           }
          ],
          "histogram2d": [
           {
            "colorbar": {
             "outlinewidth": 0,
             "ticks": ""
            },
            "colorscale": [
             [
              0,
              "#0d0887"
             ],
             [
              0.1111111111111111,
              "#46039f"
             ],
             [
              0.2222222222222222,
              "#7201a8"
             ],
             [
              0.3333333333333333,
              "#9c179e"
             ],
             [
              0.4444444444444444,
              "#bd3786"
             ],
             [
              0.5555555555555556,
              "#d8576b"
             ],
             [
              0.6666666666666666,
              "#ed7953"
             ],
             [
              0.7777777777777778,
              "#fb9f3a"
             ],
             [
              0.8888888888888888,
              "#fdca26"
             ],
             [
              1,
              "#f0f921"
             ]
            ],
            "type": "histogram2d"
           }
          ],
          "histogram2dcontour": [
           {
            "colorbar": {
             "outlinewidth": 0,
             "ticks": ""
            },
            "colorscale": [
             [
              0,
              "#0d0887"
             ],
             [
              0.1111111111111111,
              "#46039f"
             ],
             [
              0.2222222222222222,
              "#7201a8"
             ],
             [
              0.3333333333333333,
              "#9c179e"
             ],
             [
              0.4444444444444444,
              "#bd3786"
             ],
             [
              0.5555555555555556,
              "#d8576b"
             ],
             [
              0.6666666666666666,
              "#ed7953"
             ],
             [
              0.7777777777777778,
              "#fb9f3a"
             ],
             [
              0.8888888888888888,
              "#fdca26"
             ],
             [
              1,
              "#f0f921"
             ]
            ],
            "type": "histogram2dcontour"
           }
          ],
          "mesh3d": [
           {
            "colorbar": {
             "outlinewidth": 0,
             "ticks": ""
            },
            "type": "mesh3d"
           }
          ],
          "parcoords": [
           {
            "line": {
             "colorbar": {
              "outlinewidth": 0,
              "ticks": ""
             }
            },
            "type": "parcoords"
           }
          ],
          "pie": [
           {
            "automargin": true,
            "type": "pie"
           }
          ],
          "scatter": [
           {
            "marker": {
             "colorbar": {
              "outlinewidth": 0,
              "ticks": ""
             }
            },
            "type": "scatter"
           }
          ],
          "scatter3d": [
           {
            "line": {
             "colorbar": {
              "outlinewidth": 0,
              "ticks": ""
             }
            },
            "marker": {
             "colorbar": {
              "outlinewidth": 0,
              "ticks": ""
             }
            },
            "type": "scatter3d"
           }
          ],
          "scattercarpet": [
           {
            "marker": {
             "colorbar": {
              "outlinewidth": 0,
              "ticks": ""
             }
            },
            "type": "scattercarpet"
           }
          ],
          "scattergeo": [
           {
            "marker": {
             "colorbar": {
              "outlinewidth": 0,
              "ticks": ""
             }
            },
            "type": "scattergeo"
           }
          ],
          "scattergl": [
           {
            "marker": {
             "colorbar": {
              "outlinewidth": 0,
              "ticks": ""
             }
            },
            "type": "scattergl"
           }
          ],
          "scattermapbox": [
           {
            "marker": {
             "colorbar": {
              "outlinewidth": 0,
              "ticks": ""
             }
            },
            "type": "scattermapbox"
           }
          ],
          "scatterpolar": [
           {
            "marker": {
             "colorbar": {
              "outlinewidth": 0,
              "ticks": ""
             }
            },
            "type": "scatterpolar"
           }
          ],
          "scatterpolargl": [
           {
            "marker": {
             "colorbar": {
              "outlinewidth": 0,
              "ticks": ""
             }
            },
            "type": "scatterpolargl"
           }
          ],
          "scatterternary": [
           {
            "marker": {
             "colorbar": {
              "outlinewidth": 0,
              "ticks": ""
             }
            },
            "type": "scatterternary"
           }
          ],
          "surface": [
           {
            "colorbar": {
             "outlinewidth": 0,
             "ticks": ""
            },
            "colorscale": [
             [
              0,
              "#0d0887"
             ],
             [
              0.1111111111111111,
              "#46039f"
             ],
             [
              0.2222222222222222,
              "#7201a8"
             ],
             [
              0.3333333333333333,
              "#9c179e"
             ],
             [
              0.4444444444444444,
              "#bd3786"
             ],
             [
              0.5555555555555556,
              "#d8576b"
             ],
             [
              0.6666666666666666,
              "#ed7953"
             ],
             [
              0.7777777777777778,
              "#fb9f3a"
             ],
             [
              0.8888888888888888,
              "#fdca26"
             ],
             [
              1,
              "#f0f921"
             ]
            ],
            "type": "surface"
           }
          ],
          "table": [
           {
            "cells": {
             "fill": {
              "color": "#EBF0F8"
             },
             "line": {
              "color": "white"
             }
            },
            "header": {
             "fill": {
              "color": "#C8D4E3"
             },
             "line": {
              "color": "white"
             }
            },
            "type": "table"
           }
          ]
         },
         "layout": {
          "annotationdefaults": {
           "arrowcolor": "#2a3f5f",
           "arrowhead": 0,
           "arrowwidth": 1
          },
          "coloraxis": {
           "colorbar": {
            "outlinewidth": 0,
            "ticks": ""
           }
          },
          "colorscale": {
           "diverging": [
            [
             0,
             "#8e0152"
            ],
            [
             0.1,
             "#c51b7d"
            ],
            [
             0.2,
             "#de77ae"
            ],
            [
             0.3,
             "#f1b6da"
            ],
            [
             0.4,
             "#fde0ef"
            ],
            [
             0.5,
             "#f7f7f7"
            ],
            [
             0.6,
             "#e6f5d0"
            ],
            [
             0.7,
             "#b8e186"
            ],
            [
             0.8,
             "#7fbc41"
            ],
            [
             0.9,
             "#4d9221"
            ],
            [
             1,
             "#276419"
            ]
           ],
           "sequential": [
            [
             0,
             "#0d0887"
            ],
            [
             0.1111111111111111,
             "#46039f"
            ],
            [
             0.2222222222222222,
             "#7201a8"
            ],
            [
             0.3333333333333333,
             "#9c179e"
            ],
            [
             0.4444444444444444,
             "#bd3786"
            ],
            [
             0.5555555555555556,
             "#d8576b"
            ],
            [
             0.6666666666666666,
             "#ed7953"
            ],
            [
             0.7777777777777778,
             "#fb9f3a"
            ],
            [
             0.8888888888888888,
             "#fdca26"
            ],
            [
             1,
             "#f0f921"
            ]
           ],
           "sequentialminus": [
            [
             0,
             "#0d0887"
            ],
            [
             0.1111111111111111,
             "#46039f"
            ],
            [
             0.2222222222222222,
             "#7201a8"
            ],
            [
             0.3333333333333333,
             "#9c179e"
            ],
            [
             0.4444444444444444,
             "#bd3786"
            ],
            [
             0.5555555555555556,
             "#d8576b"
            ],
            [
             0.6666666666666666,
             "#ed7953"
            ],
            [
             0.7777777777777778,
             "#fb9f3a"
            ],
            [
             0.8888888888888888,
             "#fdca26"
            ],
            [
             1,
             "#f0f921"
            ]
           ]
          },
          "colorway": [
           "#636efa",
           "#EF553B",
           "#00cc96",
           "#ab63fa",
           "#FFA15A",
           "#19d3f3",
           "#FF6692",
           "#B6E880",
           "#FF97FF",
           "#FECB52"
          ],
          "font": {
           "color": "#2a3f5f"
          },
          "geo": {
           "bgcolor": "white",
           "lakecolor": "white",
           "landcolor": "#E5ECF6",
           "showlakes": true,
           "showland": true,
           "subunitcolor": "white"
          },
          "hoverlabel": {
           "align": "left"
          },
          "hovermode": "closest",
          "mapbox": {
           "style": "light"
          },
          "paper_bgcolor": "white",
          "plot_bgcolor": "#E5ECF6",
          "polar": {
           "angularaxis": {
            "gridcolor": "white",
            "linecolor": "white",
            "ticks": ""
           },
           "bgcolor": "#E5ECF6",
           "radialaxis": {
            "gridcolor": "white",
            "linecolor": "white",
            "ticks": ""
           }
          },
          "scene": {
           "xaxis": {
            "backgroundcolor": "#E5ECF6",
            "gridcolor": "white",
            "gridwidth": 2,
            "linecolor": "white",
            "showbackground": true,
            "ticks": "",
            "zerolinecolor": "white"
           },
           "yaxis": {
            "backgroundcolor": "#E5ECF6",
            "gridcolor": "white",
            "gridwidth": 2,
            "linecolor": "white",
            "showbackground": true,
            "ticks": "",
            "zerolinecolor": "white"
           },
           "zaxis": {
            "backgroundcolor": "#E5ECF6",
            "gridcolor": "white",
            "gridwidth": 2,
            "linecolor": "white",
            "showbackground": true,
            "ticks": "",
            "zerolinecolor": "white"
           }
          },
          "shapedefaults": {
           "line": {
            "color": "#2a3f5f"
           }
          },
          "ternary": {
           "aaxis": {
            "gridcolor": "white",
            "linecolor": "white",
            "ticks": ""
           },
           "baxis": {
            "gridcolor": "white",
            "linecolor": "white",
            "ticks": ""
           },
           "bgcolor": "#E5ECF6",
           "caxis": {
            "gridcolor": "white",
            "linecolor": "white",
            "ticks": ""
           }
          },
          "title": {
           "x": 0.05
          },
          "xaxis": {
           "automargin": true,
           "gridcolor": "white",
           "linecolor": "white",
           "ticks": "",
           "title": {
            "standoff": 15
           },
           "zerolinecolor": "white",
           "zerolinewidth": 2
          },
          "yaxis": {
           "automargin": true,
           "gridcolor": "white",
           "linecolor": "white",
           "ticks": "",
           "title": {
            "standoff": 15
           },
           "zerolinecolor": "white",
           "zerolinewidth": 2
          }
         }
        },
        "xaxis": {
         "anchor": "y",
         "categoryarray": [
          "TAG",
          "STD_15:0-18:1(d7)-15:0 TAG"
         ],
         "categoryorder": "array",
         "domain": [
          0,
          1
         ],
         "title": {
          "text": "Class"
         }
        },
        "yaxis": {
         "anchor": "x",
         "domain": [
          0,
          1
         ],
         "title": {
          "text": "Intensity"
         }
        }
       }
      },
      "text/html": [
       "<div>                            <div id=\"c19b4ed5-0ffc-473d-8c25-2240ebd32810\" class=\"plotly-graph-div\" style=\"height:525px; width:100%;\"></div>            <script type=\"text/javascript\">                require([\"plotly\"], function(Plotly) {                    window.PLOTLYENV=window.PLOTLYENV || {};                                    if (document.getElementById(\"c19b4ed5-0ffc-473d-8c25-2240ebd32810\")) {                    Plotly.newPlot(                        \"c19b4ed5-0ffc-473d-8c25-2240ebd32810\",                        [{\"alignmentgroup\": \"True\", \"customdata\": [[\"[TG(37:0)]_FA14:0\", \"TAG\"], [\"[TG(38:1)]_FA14:0\", \"TAG\"], [\"[TG(38:0)]_FA14:0\", \"TAG\"], [\"[TG(39:1)]_FA14:0\", \"TAG\"], [\"[TG(39:0)]_FA14:0\", \"TAG\"], [\"[TG(40:2)]_FA14:0\", \"TAG\"], [\"[TG(40:1)]_FA14:0\", \"TAG\"], [\"[TG(40:0)]_FA14:0\", \"TAG\"], [\"[TG(41:2)]_FA14:0\", \"TAG\"], [\"[TG(41:1)]_FA14:0\", \"TAG\"], [\"[TG(41:0)]_FA14:0\", \"TAG\"], [\"[TG(42:4)]_FA14:0\", \"TAG\"], [\"[TG(42:3)]_FA14:0\", \"TAG\"], [\"[TG(42:2)]_FA14:0\", \"TAG\"], [\"[TG(42:1)]_FA14:0\", \"TAG\"], [\"[TG(42:0)]_FA14:0\", \"TAG\"], [\"[TG(43:4)]_FA14:0\", \"TAG\"], [\"[TG(43:3)]_FA14:0\", \"TAG\"], [\"[TG(43:2)]_FA14:0\", \"TAG\"], [\"[TG(43:1)]_FA14:0\", \"TAG\"], [\"[TG(43:0)]_FA14:0\", \"TAG\"], [\"[TG(44:5)]_FA14:0\", \"TAG\"], [\"[TG(44:4)]_FA14:0\", \"TAG\"], [\"[TG(44:3)]_FA14:0\", \"TAG\"], [\"[TG(44:2)]_FA14:0\", \"TAG\"], [\"[TG(44:1)]_FA14:0\", \"TAG\"], [\"[TG(44:0),TG(O-45:0)]_FA14:0\", \"TAG\"], [\"[TG(45:5)]_FA14:0\", \"TAG\"], [\"[TG(45:4)]_FA14:0\", \"TAG\"], [\"[TG(45:3)]_FA14:0\", \"TAG\"], [\"[TG(45:2)]_FA14:0\", \"TAG\"], [\"[TG(45:1)]_FA14:0\", \"TAG\"], [\"[TG(45:0)]_FA14:0\", \"TAG\"], [\"[TG(46:6)]_FA14:0\", \"TAG\"], [\"[TG(46:5)]_FA14:0\", \"TAG\"], [\"[TG(46:4)]_FA14:0\", \"TAG\"], [\"[TG(46:3)]_FA14:0\", \"TAG\"], [\"[TG(46:2)]_FA14:0\", \"TAG\"], [\"[TG(46:1)]_FA14:0\", \"TAG\"], [\"[TG(46:0)]_FA14:0\", \"TAG\"], [\"[TG(47:6)]_FA14:0\", \"TAG\"], [\"[TG(47:5)]_FA14:0\", \"TAG\"], [\"[TG(47:4)]_FA14:0\", \"TAG\"], [\"[TG(47:3)]_FA14:0\", \"TAG\"], [\"[TG(47:2)]_FA14:0\", \"TAG\"], [\"[TG(48:8),TG(47:1)]_FA14:0\", \"TAG\"], [\"[TG(48:7),TG(47:0)]_FA14:0\", \"TAG\"], [\"[TG(48:6)]_FA14:0\", \"TAG\"], [\"[TG(48:5)]_FA14:0\", \"TAG\"], [\"[TG(48:4)]_FA14:0\", \"TAG\"], [\"[TG(48:3)]_FA14:0\", \"TAG\"], [\"[TG(48:2)]_FA14:0\", \"TAG\"], [\"[TG(49:8),TG(48:1)]_FA14:0\", \"TAG\"], [\"[TG(49:7),TG(48:0)]_FA14:0\", \"TAG\"], [\"[TG(49:6)]_FA14:0\", \"TAG\"], [\"[TG(49:5)]_FA14:0\", \"TAG\"], [\"[TG(49:4)]_FA14:0\", \"TAG\"], [\"[TG(49:3)]_FA14:0\", \"TAG\"], [\"[TG(50:9),TG(49:2)]_FA14:0\", \"TAG\"], [\"[TG(50:8),TG(49:1)]_FA14:0\", \"TAG\"], [\"[TG(50:7),TG(49:0)]_FA14:0\", \"TAG\"], [\"[TG(50:6)]_FA14:0\", \"TAG\"], [\"[TG(50:5)]_FA14:0\", \"TAG\"], [\"[TG(50:4)]_FA14:0\", \"TAG\"], [\"[TG(50:3)]_FA14:0\", \"TAG\"], [\"[TG(51:9),TG(50:2)]_FA14:0\", \"TAG\"], [\"[TG(51:8),TG(50:1)]_FA14:0\", \"TAG\"], [\"[TG(51:7),TG(50:0)]_FA14:0\", \"TAG\"], [\"[TG(51:6)]_FA14:0\", \"TAG\"], [\"[TG(51:5)]_FA14:0\", \"TAG\"], [\"[TG(51:4)]_FA14:0\", \"TAG\"], [\"[TG(52:10),TG(51:3)]_FA14:0\", \"TAG\"], [\"[TG(52:9),TG(51:2)]_FA14:0\", \"TAG\"], [\"[TG(52:8),TG(51:1)]_FA14:0\", \"TAG\"], [\"[TG(52:7),TG(51:0)]_FA14:0\", \"TAG\"], [\"[TG(52:6)]_FA14:0\", \"TAG\"], [\"[TG(52:5)]_FA14:0\", \"TAG\"], [\"[TG(52:4)]_FA14:0\", \"TAG\"], [\"[TG(53:10),TG(52:3)]_FA14:0\", \"TAG\"], [\"[TG(53:9),TG(52:2)]_FA14:0\", \"TAG\"], [\"[TG(53:8),TG(52:1)]_FA14:0\", \"TAG\"], [\"[TG(53:7),TG(52:0)]_FA14:0\", \"TAG\"], [\"[TG(53:6)]_FA14:0\", \"TAG\"], [\"[TG(54:12),TG(53:5)]_FA14:0\", \"TAG\"], [\"[TG(54:11),TG(53:4)]_FA14:0\", \"TAG\"], [\"[TG(54:10),TG(53:3)]_FA14:0\", \"TAG\"], [\"[TG(54:9),TG(53:2)]_FA14:0\", \"TAG\"], [\"[TG(54:8),TG(53:1)]_FA14:0\", \"TAG\"], [\"[TG(54:7),TG(53:0)]_FA14:0\", \"TAG\"], [\"[TG(54:6)]_FA14:0\", \"TAG\"], [\"[TG(54:5)]_FA14:0\", \"TAG\"], [\"[TG(55:11),TG(54:4)]_FA14:0\", \"TAG\"], [\"[TG(55:10),TG(54:3)]_FA14:0\", \"TAG\"], [\"[TG(55:9),TG(54:2)]_FA14:0\", \"TAG\"], [\"[TG(55:8),TG(54:1)]_FA14:0\", \"TAG\"], [\"[TG(55:7),TG(54:0)]_FA14:0\", \"TAG\"], [\"[TG(56:13),TG(55:6)]_FA14:0\", \"TAG\"], [\"[TG(56:12),TG(55:5)]_FA14:0\", \"TAG\"], [\"[TG(56:11),TG(55:4)]_FA14:0\", \"TAG\"], [\"[TG(56:10),TG(55:3)]_FA14:0\", \"TAG\"], [\"[TG(56:9),TG(55:2)]_FA14:0\", \"TAG\"], [\"[TG(56:8),TG(55:1)]_FA14:0\", \"TAG\"], [\"[TG(56:7),TG(55:0)]_FA14:0\", \"TAG\"], [\"[TG(56:6)]_FA14:0\", \"TAG\"], [\"[TG(57:12),TG(56:5)]_FA14:0\", \"TAG\"], [\"[TG(57:11),TG(56:4)]_FA14:0\", \"TAG\"], [\"[TG(57:10),TG(56:3)]_FA14:0\", \"TAG\"], [\"[TG(57:9),TG(56:2)]_FA14:0\", \"TAG\"], [\"[TG(57:8),TG(56:1)]_FA14:0\", \"TAG\"], [\"[TG(58:14),TG(57:7),TG(56:0)]_FA14:0\", \"TAG\"], [\"[TG(58:13),TG(57:6)]_FA14:0\", \"TAG\"], [\"[TG(58:12),TG(57:5)]_FA14:0\", \"TAG\"], [\"[TG(58:11),TG(57:4)]_FA14:0\", \"TAG\"], [\"[TG(58:10),TG(57:3)]_FA14:0\", \"TAG\"], [\"[TG(58:9),TG(57:2)]_FA14:0\", \"TAG\"], [\"[TG(58:8),TG(57:1)]_FA14:0\", \"TAG\"], [\"[TG(58:7),TG(57:0)]_FA14:0\", \"TAG\"], [\"[TG(59:13),TG(58:6)]_FA14:0\", \"TAG\"], [\"[TG(59:12),TG(58:5)]_FA14:0\", \"TAG\"], [\"[TG(59:11),TG(58:4)]_FA14:0\", \"TAG\"], [\"[TG(59:10),TG(58:3)]_FA14:0\", \"TAG\"], [\"[TG(59:9),TG(58:2)]_FA14:0\", \"TAG\"], [\"[TG(60:15),TG(59:8),TG(58:1)]_FA14:0\", \"TAG\"], [\"[TG(60:14),TG(59:7),TG(58:0)]_FA14:0\", \"TAG\"], [\"[TG(60:13),TG(59:6)]_FA14:0\", \"TAG\"], [\"[TG(60:12),TG(59:5)]_FA14:0\", \"TAG\"], [\"[TG(60:11),TG(59:4)]_FA14:0\", \"TAG\"], [\"[TG(60:10),TG(59:3)]_FA14:0\", \"TAG\"], [\"[TG(60:9),TG(59:2)]_FA14:0\", \"TAG\"], [\"[TG(60:8),TG(59:1)]_FA14:0\", \"TAG\"], [\"[TG(61:14),TG(60:7),TG(59:0)]_FA14:0\", \"TAG\"], [\"[TG(61:13),TG(60:6)]_FA14:0\", \"TAG\"], [\"[TG(61:12),TG(60:5)]_FA14:0\", \"TAG\"], [\"[TG(61:11),TG(60:4)]_FA14:0\", \"TAG\"], [\"[TG(61:10),TG(60:3)]_FA14:0\", \"TAG\"], [\"[TG(62:16),TG(61:9),TG(60:2)]_FA14:0\", \"TAG\"], [\"[TG(62:15),TG(61:8),TG(60:1)]_FA14:0\", \"TAG\"], [\"[TG(62:14),TG(61:7),TG(60:0)]_FA14:0\", \"TAG\"], [\"[TG(62:13),TG(61:6)]_FA14:0\", \"TAG\"], [\"[TG(62:12),TG(61:5)]_FA14:0\", \"TAG\"], [\"[TG(62:11),TG(61:4)]_FA14:0\", \"TAG\"], [\"[TG(62:10),TG(61:3)]_FA14:0\", \"TAG\"], [\"[TG(62:9),TG(61:2)]_FA14:0\", \"TAG\"], [\"[TG(62:8),TG(61:1)]_FA14:0\", \"TAG\"], [\"[TG(62:7),TG(61:0)]_FA14:0\", \"TAG\"], [\"[TG(63:13),TG(62:6)]_FA14:0\", \"TAG\"], [\"[TG(63:12),TG(62:5)]_FA14:0\", \"TAG\"], [\"[TG(63:11),TG(62:4)]_FA14:0\", \"TAG\"], [\"[TG(64:17),TG(63:10),TG(62:3)]_FA14:0\", \"TAG\"], [\"[TG(64:16),TG(63:9),TG(62:2)]_FA14:0\", \"TAG\"], [\"[TG(64:15),TG(63:8),TG(62:1)]_FA14:0\", \"TAG\"], [\"[TG(64:14),TG(63:7),TG(62:0)]_FA14:0\", \"TAG\"], [\"[TG(64:13),TG(63:6)]_FA14:0\", \"TAG\"], [\"[TG(64:12),TG(63:5)]_FA14:0\", \"TAG\"], [\"[TG(64:11),TG(63:4)]_FA14:0\", \"TAG\"], [\"[TG(64:10),TG(63:3)]_FA14:0\", \"TAG\"], [\"[TG(64:9),TG(63:2)]_FA14:0\", \"TAG\"], [\"[TG(64:8),TG(63:1)]_FA14:0\", \"TAG\"], [\"[TG(64:7),TG(63:0)]_FA14:0\", \"TAG\"], [\"[TG(64:6)]_FA14:0\", \"TAG\"], [\"[TG(65:12),TG(64:5)]_FA14:0\", \"TAG\"], [\"[TG(66:18),TG(65:11),TG(64:4)]_FA14:0\", \"TAG\"], [\"[TG(66:17),TG(65:10),TG(64:3)]_FA14:0\", \"TAG\"], [\"[TG(66:16),TG(65:9),TG(64:2)]_FA14:0\", \"TAG\"], [\"[TG(66:15),TG(65:8),TG(64:1)]_FA14:0\", \"TAG\"], [\"[TG(66:14),TG(65:7),TG(64:0)]_FA14:0\", \"TAG\"], [\"[TG(66:13),TG(65:6)]_FA14:0\", \"TAG\"], [\"[TG(66:12),TG(65:5)]_FA14:0\", \"TAG\"], [\"[TG(66:11),TG(65:4)]_FA14:0\", \"TAG\"], [\"[TG(66:10),TG(65:3)]_FA14:0\", \"TAG\"], [\"[TG(66:9),TG(65:2)]_FA14:0\", \"TAG\"], [\"[TG(66:8),TG(65:1)]_FA14:0\", \"TAG\"], [\"[TG(66:7)]_FA14:0\", \"TAG\"], [\"[TG(65:0)]_FA14:0\", \"TAG\"], [\"[TG(66:6)]_FA14:0\", \"TAG\"], [\"[TG(66:5)]_FA14:0\", \"TAG\"], [\"[TG(66:4)]_FA14:0\", \"TAG\"], [\"[TG(66:3)]_FA14:0\", \"TAG\"], [\"[TG(66:2)]_FA14:0\", \"TAG\"], [\"[TG(66:1)]_FA14:0\", \"TAG\"]], \"hovertemplate\": \"Class=%{customdata[1]}<br>Intensity=%{y}<br>Lipid=%{customdata[0]}<extra></extra>\", \"legendgroup\": \"TAG\", \"marker\": {\"color\": \"#636efa\"}, \"name\": \"TAG\", \"offsetgroup\": \"TAG\", \"orientation\": \"v\", \"showlegend\": true, \"textposition\": \"auto\", \"type\": \"bar\", \"x\": [\"TAG\", \"TAG\", \"TAG\", \"TAG\", \"TAG\", \"TAG\", \"TAG\", \"TAG\", \"TAG\", \"TAG\", \"TAG\", \"TAG\", \"TAG\", \"TAG\", \"TAG\", \"TAG\", \"TAG\", \"TAG\", \"TAG\", \"TAG\", \"TAG\", \"TAG\", \"TAG\", \"TAG\", \"TAG\", \"TAG\", \"TAG\", \"TAG\", \"TAG\", \"TAG\", \"TAG\", \"TAG\", \"TAG\", \"TAG\", \"TAG\", \"TAG\", \"TAG\", \"TAG\", \"TAG\", \"TAG\", \"TAG\", \"TAG\", \"TAG\", \"TAG\", \"TAG\", \"TAG\", \"TAG\", \"TAG\", \"TAG\", \"TAG\", \"TAG\", \"TAG\", \"TAG\", \"TAG\", \"TAG\", \"TAG\", \"TAG\", \"TAG\", \"TAG\", \"TAG\", \"TAG\", \"TAG\", \"TAG\", \"TAG\", \"TAG\", \"TAG\", \"TAG\", \"TAG\", \"TAG\", \"TAG\", \"TAG\", \"TAG\", \"TAG\", \"TAG\", \"TAG\", \"TAG\", \"TAG\", \"TAG\", \"TAG\", \"TAG\", \"TAG\", \"TAG\", \"TAG\", \"TAG\", \"TAG\", \"TAG\", \"TAG\", \"TAG\", \"TAG\", \"TAG\", \"TAG\", \"TAG\", \"TAG\", \"TAG\", \"TAG\", \"TAG\", \"TAG\", \"TAG\", \"TAG\", \"TAG\", \"TAG\", \"TAG\", \"TAG\", \"TAG\", \"TAG\", \"TAG\", \"TAG\", \"TAG\", \"TAG\", \"TAG\", \"TAG\", \"TAG\", \"TAG\", \"TAG\", \"TAG\", \"TAG\", \"TAG\", \"TAG\", \"TAG\", \"TAG\", \"TAG\", \"TAG\", \"TAG\", \"TAG\", \"TAG\", \"TAG\", \"TAG\", \"TAG\", \"TAG\", \"TAG\", \"TAG\", \"TAG\", \"TAG\", \"TAG\", \"TAG\", \"TAG\", \"TAG\", \"TAG\", \"TAG\", \"TAG\", \"TAG\", \"TAG\", \"TAG\", \"TAG\", \"TAG\", \"TAG\", \"TAG\", \"TAG\", \"TAG\", \"TAG\", \"TAG\", \"TAG\", \"TAG\", \"TAG\", \"TAG\", \"TAG\", \"TAG\", \"TAG\", \"TAG\", \"TAG\", \"TAG\", \"TAG\", \"TAG\", \"TAG\", \"TAG\", \"TAG\", \"TAG\", \"TAG\", \"TAG\", \"TAG\", \"TAG\", \"TAG\", \"TAG\", \"TAG\", \"TAG\", \"TAG\", \"TAG\", \"TAG\", \"TAG\", \"TAG\"], \"xaxis\": \"x\", \"y\": [45072.822998046875, 64211.844482421875, 237300.73681640625, 27744.182037353516, 37315.48260498047, 24415.261688232422, 34708.20263671875, 155327.89086914062, 20373.861602783203, 19893.661392211914, 26466.401824951172, 15374.68115234375, 19889.30142211914, 17753.80108642578, 131865.6494140625, 94824.94689941406, 16791.481231689453, 63030.504150390625, 26622.84196472168, 28583.40203857422, 29018.08203125, 17620.081260681152, 15765.661041259766, 18071.14141845703, 39169.32312011719, 31882.602020263672, 72722.04577636719, 18579.66111755371, 21398.161346435547, 18318.621307373047, 16532.841232299805, 70729.62463378906, 46782.86340332031, 20436.341217041016, 20286.141387939453, 18562.861236572266, 20631.881439208984, 44036.763610839844, 68736.06512451172, 84029.40625, 26131.921813964844, 20985.38151550293, 18959.501403808594, 21987.14175415039, 24136.061737060547, 31395.762451171875, 35014.362396240234, 51366.403381347656, 25303.261779785156, 23539.601623535156, 82808.48538208008, 286373.7007446289, 333579.6123046875, 80859.20629882812, 29734.44223022461, 22083.261352539062, 22096.821563720703, 26063.061752319336, 29320.561981201172, 37507.4225769043, 34488.222259521484, 29315.282165527344, 35932.222259521484, 126118.92807006836, 432169.33502197266, 501185.328125, 86953.32531738281, 36228.10238647461, 49931.743591308594, 23814.681854248047, 23092.781524658203, 28172.081909179688, 41892.44287109375, 46549.702728271484, 34083.9026184082, 40384.46292114258, 44110.603759765625, 42770.922912597656, 53848.18371582031, 56664.44418334961, 47311.622985839844, 30805.982299804688, 26174.721771240234, 25399.10171508789, 25004.141693115234, 31147.182556152344, 38980.08303833008, 46906.80307006836, 38897.4231262207, 73665.94470214844, 41898.76268005371, 28414.301971435547, 30718.442108154297, 33424.282623291016, 29007.38198852539, 35497.86260986328, 26408.881866455078, 22494.82162475586, 25690.061798095703, 29631.141998291016, 33327.52235412598, 29645.14239501953, 23936.88168334961, 21959.361694335938, 20401.881622314453, 20398.84147644043, 25416.421936035156, 22382.361602783203, 19609.461395263672, 22338.061492919922, 29575.44204711914, 20122.321487426758, 20873.68148803711, 20475.001525878906, 19687.661422729492, 17986.1212310791, 16909.581176757812, 17760.02130126953, 17154.881271362305, 17369.481216430664, 17000.50129699707, 14471.141006469727, 17327.96128845215, 15586.361099243164, 15192.34105682373, 16057.961143493652, 29432.862243652344, 21032.461456298828, 15778.50112915039, 13972.840942382812, 15361.26107788086, 14665.92106628418, 12983.740997314453, 16507.40118408203, 15164.080978393555, 16115.021049499512, 14670.80093383789, 11676.520835876465, 12641.240867614746, 14229.900955200195, 14026.561004638672, 13990.720977783203, 14917.441131591797, 14691.960952758789, 12988.200942993164, 13342.720916748047, 14266.48112487793, 13126.080932617188, 13007.560943603516, 15978.181114196777, 14954.541114807129, 12710.70083618164, 14045.280990600586, 14086.260986328125, 12927.800796508789, 10637.140739440918, 13033.880912780762, 13134.800857543945, 12264.380752563477, 13273.14094543457, 20100.661331176758, 12335.680953979492, 12561.440925598145, 19396.041259765625, 15101.360977172852, 15476.981079101562, 10396.680717468262, 12281.800918579102, 12049.680938720703, 11546.020881652832, 13140.541000366211, 14803.141014099121, 13260.220840454102, 15204.641082763672, 11739.30093383789, 10289.58073425293, 11749.400787353516, 12457.700866699219, 11174.560779571533, 12249.820945739746], \"yaxis\": \"y\"}, {\"alignmentgroup\": \"True\", \"customdata\": [[\"STD_15:0-18:1(d7)-15:0 TAG\", \"STD_15:0-18:1(d7)-15:0 TAG\"]], \"hovertemplate\": \"Class=%{customdata[1]}<br>Intensity=%{y}<br>Lipid=%{customdata[0]}<extra></extra>\", \"legendgroup\": \"STD_15:0-18:1(d7)-15:0 TAG\", \"marker\": {\"color\": \"#EF553B\"}, \"name\": \"STD_15:0-18:1(d7)-15:0 TAG\", \"offsetgroup\": \"STD_15:0-18:1(d7)-15:0 TAG\", \"orientation\": \"v\", \"showlegend\": true, \"textposition\": \"auto\", \"type\": \"bar\", \"x\": [\"STD_15:0-18:1(d7)-15:0 TAG\"], \"xaxis\": \"x\", \"y\": [33835.302642822266], \"yaxis\": \"y\"}],                        {\"barmode\": \"relative\", \"legend\": {\"title\": {\"text\": \"Class\"}, \"tracegroupgap\": 0}, \"margin\": {\"t\": 60}, \"template\": {\"data\": {\"bar\": [{\"error_x\": {\"color\": \"#2a3f5f\"}, \"error_y\": {\"color\": \"#2a3f5f\"}, \"marker\": {\"line\": {\"color\": \"#E5ECF6\", \"width\": 0.5}}, \"type\": \"bar\"}], \"barpolar\": [{\"marker\": {\"line\": {\"color\": \"#E5ECF6\", \"width\": 0.5}}, \"type\": \"barpolar\"}], \"carpet\": [{\"aaxis\": {\"endlinecolor\": \"#2a3f5f\", \"gridcolor\": \"white\", \"linecolor\": \"white\", \"minorgridcolor\": \"white\", \"startlinecolor\": \"#2a3f5f\"}, \"baxis\": {\"endlinecolor\": \"#2a3f5f\", \"gridcolor\": \"white\", \"linecolor\": \"white\", \"minorgridcolor\": \"white\", \"startlinecolor\": \"#2a3f5f\"}, \"type\": \"carpet\"}], \"choropleth\": [{\"colorbar\": {\"outlinewidth\": 0, \"ticks\": \"\"}, \"type\": \"choropleth\"}], \"contour\": [{\"colorbar\": {\"outlinewidth\": 0, \"ticks\": \"\"}, \"colorscale\": [[0.0, \"#0d0887\"], [0.1111111111111111, \"#46039f\"], [0.2222222222222222, \"#7201a8\"], [0.3333333333333333, \"#9c179e\"], [0.4444444444444444, \"#bd3786\"], [0.5555555555555556, \"#d8576b\"], [0.6666666666666666, \"#ed7953\"], [0.7777777777777778, \"#fb9f3a\"], [0.8888888888888888, \"#fdca26\"], [1.0, \"#f0f921\"]], \"type\": \"contour\"}], \"contourcarpet\": [{\"colorbar\": {\"outlinewidth\": 0, \"ticks\": \"\"}, \"type\": \"contourcarpet\"}], \"heatmap\": [{\"colorbar\": {\"outlinewidth\": 0, \"ticks\": \"\"}, \"colorscale\": [[0.0, \"#0d0887\"], [0.1111111111111111, \"#46039f\"], [0.2222222222222222, \"#7201a8\"], [0.3333333333333333, \"#9c179e\"], [0.4444444444444444, \"#bd3786\"], [0.5555555555555556, \"#d8576b\"], [0.6666666666666666, \"#ed7953\"], [0.7777777777777778, \"#fb9f3a\"], [0.8888888888888888, \"#fdca26\"], [1.0, \"#f0f921\"]], \"type\": \"heatmap\"}], \"heatmapgl\": [{\"colorbar\": {\"outlinewidth\": 0, \"ticks\": \"\"}, \"colorscale\": [[0.0, \"#0d0887\"], [0.1111111111111111, \"#46039f\"], [0.2222222222222222, \"#7201a8\"], [0.3333333333333333, \"#9c179e\"], [0.4444444444444444, \"#bd3786\"], [0.5555555555555556, \"#d8576b\"], [0.6666666666666666, \"#ed7953\"], [0.7777777777777778, \"#fb9f3a\"], [0.8888888888888888, \"#fdca26\"], [1.0, \"#f0f921\"]], \"type\": \"heatmapgl\"}], \"histogram\": [{\"marker\": {\"colorbar\": {\"outlinewidth\": 0, \"ticks\": \"\"}}, \"type\": \"histogram\"}], \"histogram2d\": [{\"colorbar\": {\"outlinewidth\": 0, \"ticks\": \"\"}, \"colorscale\": [[0.0, \"#0d0887\"], [0.1111111111111111, \"#46039f\"], [0.2222222222222222, \"#7201a8\"], [0.3333333333333333, \"#9c179e\"], [0.4444444444444444, \"#bd3786\"], [0.5555555555555556, \"#d8576b\"], [0.6666666666666666, \"#ed7953\"], [0.7777777777777778, \"#fb9f3a\"], [0.8888888888888888, \"#fdca26\"], [1.0, \"#f0f921\"]], \"type\": \"histogram2d\"}], \"histogram2dcontour\": [{\"colorbar\": {\"outlinewidth\": 0, \"ticks\": \"\"}, \"colorscale\": [[0.0, \"#0d0887\"], [0.1111111111111111, \"#46039f\"], [0.2222222222222222, \"#7201a8\"], [0.3333333333333333, \"#9c179e\"], [0.4444444444444444, \"#bd3786\"], [0.5555555555555556, \"#d8576b\"], [0.6666666666666666, \"#ed7953\"], [0.7777777777777778, \"#fb9f3a\"], [0.8888888888888888, \"#fdca26\"], [1.0, \"#f0f921\"]], \"type\": \"histogram2dcontour\"}], \"mesh3d\": [{\"colorbar\": {\"outlinewidth\": 0, \"ticks\": \"\"}, \"type\": \"mesh3d\"}], \"parcoords\": [{\"line\": {\"colorbar\": {\"outlinewidth\": 0, \"ticks\": \"\"}}, \"type\": \"parcoords\"}], \"pie\": [{\"automargin\": true, \"type\": \"pie\"}], \"scatter\": [{\"marker\": {\"colorbar\": {\"outlinewidth\": 0, \"ticks\": \"\"}}, \"type\": \"scatter\"}], \"scatter3d\": [{\"line\": {\"colorbar\": {\"outlinewidth\": 0, \"ticks\": \"\"}}, \"marker\": {\"colorbar\": {\"outlinewidth\": 0, \"ticks\": \"\"}}, \"type\": \"scatter3d\"}], \"scattercarpet\": [{\"marker\": {\"colorbar\": {\"outlinewidth\": 0, \"ticks\": \"\"}}, \"type\": \"scattercarpet\"}], \"scattergeo\": [{\"marker\": {\"colorbar\": {\"outlinewidth\": 0, \"ticks\": \"\"}}, \"type\": \"scattergeo\"}], \"scattergl\": [{\"marker\": {\"colorbar\": {\"outlinewidth\": 0, \"ticks\": \"\"}}, \"type\": \"scattergl\"}], \"scattermapbox\": [{\"marker\": {\"colorbar\": {\"outlinewidth\": 0, \"ticks\": \"\"}}, \"type\": \"scattermapbox\"}], \"scatterpolar\": [{\"marker\": {\"colorbar\": {\"outlinewidth\": 0, \"ticks\": \"\"}}, \"type\": \"scatterpolar\"}], \"scatterpolargl\": [{\"marker\": {\"colorbar\": {\"outlinewidth\": 0, \"ticks\": \"\"}}, \"type\": \"scatterpolargl\"}], \"scatterternary\": [{\"marker\": {\"colorbar\": {\"outlinewidth\": 0, \"ticks\": \"\"}}, \"type\": \"scatterternary\"}], \"surface\": [{\"colorbar\": {\"outlinewidth\": 0, \"ticks\": \"\"}, \"colorscale\": [[0.0, \"#0d0887\"], [0.1111111111111111, \"#46039f\"], [0.2222222222222222, \"#7201a8\"], [0.3333333333333333, \"#9c179e\"], [0.4444444444444444, \"#bd3786\"], [0.5555555555555556, \"#d8576b\"], [0.6666666666666666, \"#ed7953\"], [0.7777777777777778, \"#fb9f3a\"], [0.8888888888888888, \"#fdca26\"], [1.0, \"#f0f921\"]], \"type\": \"surface\"}], \"table\": [{\"cells\": {\"fill\": {\"color\": \"#EBF0F8\"}, \"line\": {\"color\": \"white\"}}, \"header\": {\"fill\": {\"color\": \"#C8D4E3\"}, \"line\": {\"color\": \"white\"}}, \"type\": \"table\"}]}, \"layout\": {\"annotationdefaults\": {\"arrowcolor\": \"#2a3f5f\", \"arrowhead\": 0, \"arrowwidth\": 1}, \"coloraxis\": {\"colorbar\": {\"outlinewidth\": 0, \"ticks\": \"\"}}, \"colorscale\": {\"diverging\": [[0, \"#8e0152\"], [0.1, \"#c51b7d\"], [0.2, \"#de77ae\"], [0.3, \"#f1b6da\"], [0.4, \"#fde0ef\"], [0.5, \"#f7f7f7\"], [0.6, \"#e6f5d0\"], [0.7, \"#b8e186\"], [0.8, \"#7fbc41\"], [0.9, \"#4d9221\"], [1, \"#276419\"]], \"sequential\": [[0.0, \"#0d0887\"], [0.1111111111111111, \"#46039f\"], [0.2222222222222222, \"#7201a8\"], [0.3333333333333333, \"#9c179e\"], [0.4444444444444444, \"#bd3786\"], [0.5555555555555556, \"#d8576b\"], [0.6666666666666666, \"#ed7953\"], [0.7777777777777778, \"#fb9f3a\"], [0.8888888888888888, \"#fdca26\"], [1.0, \"#f0f921\"]], \"sequentialminus\": [[0.0, \"#0d0887\"], [0.1111111111111111, \"#46039f\"], [0.2222222222222222, \"#7201a8\"], [0.3333333333333333, \"#9c179e\"], [0.4444444444444444, \"#bd3786\"], [0.5555555555555556, \"#d8576b\"], [0.6666666666666666, \"#ed7953\"], [0.7777777777777778, \"#fb9f3a\"], [0.8888888888888888, \"#fdca26\"], [1.0, \"#f0f921\"]]}, \"colorway\": [\"#636efa\", \"#EF553B\", \"#00cc96\", \"#ab63fa\", \"#FFA15A\", \"#19d3f3\", \"#FF6692\", \"#B6E880\", \"#FF97FF\", \"#FECB52\"], \"font\": {\"color\": \"#2a3f5f\"}, \"geo\": {\"bgcolor\": \"white\", \"lakecolor\": \"white\", \"landcolor\": \"#E5ECF6\", \"showlakes\": true, \"showland\": true, \"subunitcolor\": \"white\"}, \"hoverlabel\": {\"align\": \"left\"}, \"hovermode\": \"closest\", \"mapbox\": {\"style\": \"light\"}, \"paper_bgcolor\": \"white\", \"plot_bgcolor\": \"#E5ECF6\", \"polar\": {\"angularaxis\": {\"gridcolor\": \"white\", \"linecolor\": \"white\", \"ticks\": \"\"}, \"bgcolor\": \"#E5ECF6\", \"radialaxis\": {\"gridcolor\": \"white\", \"linecolor\": \"white\", \"ticks\": \"\"}}, \"scene\": {\"xaxis\": {\"backgroundcolor\": \"#E5ECF6\", \"gridcolor\": \"white\", \"gridwidth\": 2, \"linecolor\": \"white\", \"showbackground\": true, \"ticks\": \"\", \"zerolinecolor\": \"white\"}, \"yaxis\": {\"backgroundcolor\": \"#E5ECF6\", \"gridcolor\": \"white\", \"gridwidth\": 2, \"linecolor\": \"white\", \"showbackground\": true, \"ticks\": \"\", \"zerolinecolor\": \"white\"}, \"zaxis\": {\"backgroundcolor\": \"#E5ECF6\", \"gridcolor\": \"white\", \"gridwidth\": 2, \"linecolor\": \"white\", \"showbackground\": true, \"ticks\": \"\", \"zerolinecolor\": \"white\"}}, \"shapedefaults\": {\"line\": {\"color\": \"#2a3f5f\"}}, \"ternary\": {\"aaxis\": {\"gridcolor\": \"white\", \"linecolor\": \"white\", \"ticks\": \"\"}, \"baxis\": {\"gridcolor\": \"white\", \"linecolor\": \"white\", \"ticks\": \"\"}, \"bgcolor\": \"#E5ECF6\", \"caxis\": {\"gridcolor\": \"white\", \"linecolor\": \"white\", \"ticks\": \"\"}}, \"title\": {\"x\": 0.05}, \"xaxis\": {\"automargin\": true, \"gridcolor\": \"white\", \"linecolor\": \"white\", \"ticks\": \"\", \"title\": {\"standoff\": 15}, \"zerolinecolor\": \"white\", \"zerolinewidth\": 2}, \"yaxis\": {\"automargin\": true, \"gridcolor\": \"white\", \"linecolor\": \"white\", \"ticks\": \"\", \"title\": {\"standoff\": 15}, \"zerolinecolor\": \"white\", \"zerolinewidth\": 2}}}, \"xaxis\": {\"anchor\": \"y\", \"categoryarray\": [\"TAG\", \"STD_15:0-18:1(d7)-15:0 TAG\"], \"categoryorder\": \"array\", \"domain\": [0.0, 1.0], \"title\": {\"text\": \"Class\"}}, \"yaxis\": {\"anchor\": \"x\", \"domain\": [0.0, 1.0], \"title\": {\"text\": \"Intensity\"}}},                        {\"responsive\": true}                    ).then(function(){\n",
       "                            \n",
       "var gd = document.getElementById('c19b4ed5-0ffc-473d-8c25-2240ebd32810');\n",
       "var x = new MutationObserver(function (mutations, observer) {{\n",
       "        var display = window.getComputedStyle(gd).display;\n",
       "        if (!display || display === 'none') {{\n",
       "            console.log([gd, 'removed!']);\n",
       "            Plotly.purge(gd);\n",
       "            observer.disconnect();\n",
       "        }}\n",
       "}});\n",
       "\n",
       "// Listen for the removal of the full notebook cells\n",
       "var notebookContainer = gd.closest('#notebook-container');\n",
       "if (notebookContainer) {{\n",
       "    x.observe(notebookContainer, {childList: true});\n",
       "}}\n",
       "\n",
       "// Listen for the clearing of the current output cell\n",
       "var outputEl = gd.closest('.output');\n",
       "if (outputEl) {{\n",
       "    x.observe(outputEl, {childList: true});\n",
       "}}\n",
       "\n",
       "                        })                };                });            </script>        </div>"
      ]
     },
     "metadata": {},
     "output_type": "display_data"
    },
    {
     "data": {
      "application/vnd.plotly.v1+json": {
       "config": {
        "plotlyServerURL": "https://plot.ly"
       },
       "data": [
        {
         "domain": {
          "x": [
           0,
           1
          ],
          "y": [
           0,
           1
          ]
         },
         "hovertemplate": "Class=%{label}<br>Intensity=%{value}<extra></extra>",
         "labels": [
          "TAG",
          "TAG",
          "TAG",
          "TAG",
          "TAG",
          "TAG",
          "TAG",
          "TAG",
          "TAG",
          "TAG",
          "TAG",
          "TAG",
          "TAG",
          "TAG",
          "TAG",
          "TAG",
          "TAG",
          "TAG",
          "TAG",
          "TAG",
          "TAG",
          "TAG",
          "TAG",
          "TAG",
          "TAG",
          "TAG",
          "TAG",
          "TAG",
          "TAG",
          "TAG",
          "TAG",
          "TAG",
          "TAG",
          "TAG",
          "TAG",
          "TAG",
          "TAG",
          "TAG",
          "TAG",
          "TAG",
          "TAG",
          "TAG",
          "TAG",
          "TAG",
          "TAG",
          "TAG",
          "TAG",
          "TAG",
          "TAG",
          "TAG",
          "TAG",
          "TAG",
          "TAG",
          "TAG",
          "TAG",
          "TAG",
          "STD_15:0-18:1(d7)-15:0 TAG",
          "TAG",
          "TAG",
          "TAG",
          "TAG",
          "TAG",
          "TAG",
          "TAG",
          "TAG",
          "TAG",
          "TAG",
          "TAG",
          "TAG",
          "TAG",
          "TAG",
          "TAG",
          "TAG",
          "TAG",
          "TAG",
          "TAG",
          "TAG",
          "TAG",
          "TAG",
          "TAG",
          "TAG",
          "TAG",
          "TAG",
          "TAG",
          "TAG",
          "TAG",
          "TAG",
          "TAG",
          "TAG",
          "TAG",
          "TAG",
          "TAG",
          "TAG",
          "TAG",
          "TAG",
          "TAG",
          "TAG",
          "TAG",
          "TAG",
          "TAG",
          "TAG",
          "TAG",
          "TAG",
          "TAG",
          "TAG",
          "TAG",
          "TAG",
          "TAG",
          "TAG",
          "TAG",
          "TAG",
          "TAG",
          "TAG",
          "TAG",
          "TAG",
          "TAG",
          "TAG",
          "TAG",
          "TAG",
          "TAG",
          "TAG",
          "TAG",
          "TAG",
          "TAG",
          "TAG",
          "TAG",
          "TAG",
          "TAG",
          "TAG",
          "TAG",
          "TAG",
          "TAG",
          "TAG",
          "TAG",
          "TAG",
          "TAG",
          "TAG",
          "TAG",
          "TAG",
          "TAG",
          "TAG",
          "TAG",
          "TAG",
          "TAG",
          "TAG",
          "TAG",
          "TAG",
          "TAG",
          "TAG",
          "TAG",
          "TAG",
          "TAG",
          "TAG",
          "TAG",
          "TAG",
          "TAG",
          "TAG",
          "TAG",
          "TAG",
          "TAG",
          "TAG",
          "TAG",
          "TAG",
          "TAG",
          "TAG",
          "TAG",
          "TAG",
          "TAG",
          "TAG",
          "TAG",
          "TAG",
          "TAG",
          "TAG",
          "TAG",
          "TAG",
          "TAG",
          "TAG",
          "TAG",
          "TAG",
          "TAG",
          "TAG"
         ],
         "legendgroup": "",
         "name": "",
         "showlegend": true,
         "type": "pie",
         "values": [
          45072.822998046875,
          64211.844482421875,
          237300.73681640625,
          27744.182037353516,
          37315.48260498047,
          24415.261688232422,
          34708.20263671875,
          155327.89086914062,
          20373.861602783203,
          19893.661392211914,
          26466.401824951172,
          15374.68115234375,
          19889.30142211914,
          17753.80108642578,
          131865.6494140625,
          94824.94689941406,
          16791.481231689453,
          63030.504150390625,
          26622.84196472168,
          28583.40203857422,
          29018.08203125,
          17620.081260681152,
          15765.661041259766,
          18071.14141845703,
          39169.32312011719,
          31882.602020263672,
          72722.04577636719,
          18579.66111755371,
          21398.161346435547,
          18318.621307373047,
          16532.841232299805,
          70729.62463378906,
          46782.86340332031,
          20436.341217041016,
          20286.141387939453,
          18562.861236572266,
          20631.881439208984,
          44036.763610839844,
          68736.06512451172,
          84029.40625,
          26131.921813964844,
          20985.38151550293,
          18959.501403808594,
          21987.14175415039,
          24136.061737060547,
          31395.762451171875,
          35014.362396240234,
          51366.403381347656,
          25303.261779785156,
          23539.601623535156,
          82808.48538208008,
          286373.7007446289,
          333579.6123046875,
          80859.20629882812,
          29734.44223022461,
          22083.261352539062,
          33835.302642822266,
          22096.821563720703,
          26063.061752319336,
          29320.561981201172,
          37507.4225769043,
          34488.222259521484,
          29315.282165527344,
          35932.222259521484,
          126118.92807006836,
          432169.33502197266,
          501185.328125,
          86953.32531738281,
          36228.10238647461,
          49931.743591308594,
          23814.681854248047,
          23092.781524658203,
          28172.081909179688,
          41892.44287109375,
          46549.702728271484,
          34083.9026184082,
          40384.46292114258,
          44110.603759765625,
          42770.922912597656,
          53848.18371582031,
          56664.44418334961,
          47311.622985839844,
          30805.982299804688,
          26174.721771240234,
          25399.10171508789,
          25004.141693115234,
          31147.182556152344,
          38980.08303833008,
          46906.80307006836,
          38897.4231262207,
          73665.94470214844,
          41898.76268005371,
          28414.301971435547,
          30718.442108154297,
          33424.282623291016,
          29007.38198852539,
          35497.86260986328,
          26408.881866455078,
          22494.82162475586,
          25690.061798095703,
          29631.141998291016,
          33327.52235412598,
          29645.14239501953,
          23936.88168334961,
          21959.361694335938,
          20401.881622314453,
          20398.84147644043,
          25416.421936035156,
          22382.361602783203,
          19609.461395263672,
          22338.061492919922,
          29575.44204711914,
          20122.321487426758,
          20873.68148803711,
          20475.001525878906,
          19687.661422729492,
          17986.1212310791,
          16909.581176757812,
          17760.02130126953,
          17154.881271362305,
          17369.481216430664,
          17000.50129699707,
          14471.141006469727,
          17327.96128845215,
          15586.361099243164,
          15192.34105682373,
          16057.961143493652,
          29432.862243652344,
          21032.461456298828,
          15778.50112915039,
          13972.840942382812,
          15361.26107788086,
          14665.92106628418,
          12983.740997314453,
          16507.40118408203,
          15164.080978393555,
          16115.021049499512,
          14670.80093383789,
          11676.520835876465,
          12641.240867614746,
          14229.900955200195,
          14026.561004638672,
          13990.720977783203,
          14917.441131591797,
          14691.960952758789,
          12988.200942993164,
          13342.720916748047,
          14266.48112487793,
          13126.080932617188,
          13007.560943603516,
          15978.181114196777,
          14954.541114807129,
          12710.70083618164,
          14045.280990600586,
          14086.260986328125,
          12927.800796508789,
          10637.140739440918,
          13033.880912780762,
          13134.800857543945,
          12264.380752563477,
          13273.14094543457,
          20100.661331176758,
          12335.680953979492,
          12561.440925598145,
          19396.041259765625,
          15101.360977172852,
          15476.981079101562,
          10396.680717468262,
          12281.800918579102,
          12049.680938720703,
          11546.020881652832,
          13140.541000366211,
          14803.141014099121,
          13260.220840454102,
          15204.641082763672,
          11739.30093383789,
          10289.58073425293,
          11749.400787353516,
          12457.700866699219,
          11174.560779571533,
          12249.820945739746
         ]
        }
       ],
       "layout": {
        "legend": {
         "tracegroupgap": 0
        },
        "template": {
         "data": {
          "bar": [
           {
            "error_x": {
             "color": "#2a3f5f"
            },
            "error_y": {
             "color": "#2a3f5f"
            },
            "marker": {
             "line": {
              "color": "#E5ECF6",
              "width": 0.5
             }
            },
            "type": "bar"
           }
          ],
          "barpolar": [
           {
            "marker": {
             "line": {
              "color": "#E5ECF6",
              "width": 0.5
             }
            },
            "type": "barpolar"
           }
          ],
          "carpet": [
           {
            "aaxis": {
             "endlinecolor": "#2a3f5f",
             "gridcolor": "white",
             "linecolor": "white",
             "minorgridcolor": "white",
             "startlinecolor": "#2a3f5f"
            },
            "baxis": {
             "endlinecolor": "#2a3f5f",
             "gridcolor": "white",
             "linecolor": "white",
             "minorgridcolor": "white",
             "startlinecolor": "#2a3f5f"
            },
            "type": "carpet"
           }
          ],
          "choropleth": [
           {
            "colorbar": {
             "outlinewidth": 0,
             "ticks": ""
            },
            "type": "choropleth"
           }
          ],
          "contour": [
           {
            "colorbar": {
             "outlinewidth": 0,
             "ticks": ""
            },
            "colorscale": [
             [
              0,
              "#0d0887"
             ],
             [
              0.1111111111111111,
              "#46039f"
             ],
             [
              0.2222222222222222,
              "#7201a8"
             ],
             [
              0.3333333333333333,
              "#9c179e"
             ],
             [
              0.4444444444444444,
              "#bd3786"
             ],
             [
              0.5555555555555556,
              "#d8576b"
             ],
             [
              0.6666666666666666,
              "#ed7953"
             ],
             [
              0.7777777777777778,
              "#fb9f3a"
             ],
             [
              0.8888888888888888,
              "#fdca26"
             ],
             [
              1,
              "#f0f921"
             ]
            ],
            "type": "contour"
           }
          ],
          "contourcarpet": [
           {
            "colorbar": {
             "outlinewidth": 0,
             "ticks": ""
            },
            "type": "contourcarpet"
           }
          ],
          "heatmap": [
           {
            "colorbar": {
             "outlinewidth": 0,
             "ticks": ""
            },
            "colorscale": [
             [
              0,
              "#0d0887"
             ],
             [
              0.1111111111111111,
              "#46039f"
             ],
             [
              0.2222222222222222,
              "#7201a8"
             ],
             [
              0.3333333333333333,
              "#9c179e"
             ],
             [
              0.4444444444444444,
              "#bd3786"
             ],
             [
              0.5555555555555556,
              "#d8576b"
             ],
             [
              0.6666666666666666,
              "#ed7953"
             ],
             [
              0.7777777777777778,
              "#fb9f3a"
             ],
             [
              0.8888888888888888,
              "#fdca26"
             ],
             [
              1,
              "#f0f921"
             ]
            ],
            "type": "heatmap"
           }
          ],
          "heatmapgl": [
           {
            "colorbar": {
             "outlinewidth": 0,
             "ticks": ""
            },
            "colorscale": [
             [
              0,
              "#0d0887"
             ],
             [
              0.1111111111111111,
              "#46039f"
             ],
             [
              0.2222222222222222,
              "#7201a8"
             ],
             [
              0.3333333333333333,
              "#9c179e"
             ],
             [
              0.4444444444444444,
              "#bd3786"
             ],
             [
              0.5555555555555556,
              "#d8576b"
             ],
             [
              0.6666666666666666,
              "#ed7953"
             ],
             [
              0.7777777777777778,
              "#fb9f3a"
             ],
             [
              0.8888888888888888,
              "#fdca26"
             ],
             [
              1,
              "#f0f921"
             ]
            ],
            "type": "heatmapgl"
           }
          ],
          "histogram": [
           {
            "marker": {
             "colorbar": {
              "outlinewidth": 0,
              "ticks": ""
             }
            },
            "type": "histogram"
           }
          ],
          "histogram2d": [
           {
            "colorbar": {
             "outlinewidth": 0,
             "ticks": ""
            },
            "colorscale": [
             [
              0,
              "#0d0887"
             ],
             [
              0.1111111111111111,
              "#46039f"
             ],
             [
              0.2222222222222222,
              "#7201a8"
             ],
             [
              0.3333333333333333,
              "#9c179e"
             ],
             [
              0.4444444444444444,
              "#bd3786"
             ],
             [
              0.5555555555555556,
              "#d8576b"
             ],
             [
              0.6666666666666666,
              "#ed7953"
             ],
             [
              0.7777777777777778,
              "#fb9f3a"
             ],
             [
              0.8888888888888888,
              "#fdca26"
             ],
             [
              1,
              "#f0f921"
             ]
            ],
            "type": "histogram2d"
           }
          ],
          "histogram2dcontour": [
           {
            "colorbar": {
             "outlinewidth": 0,
             "ticks": ""
            },
            "colorscale": [
             [
              0,
              "#0d0887"
             ],
             [
              0.1111111111111111,
              "#46039f"
             ],
             [
              0.2222222222222222,
              "#7201a8"
             ],
             [
              0.3333333333333333,
              "#9c179e"
             ],
             [
              0.4444444444444444,
              "#bd3786"
             ],
             [
              0.5555555555555556,
              "#d8576b"
             ],
             [
              0.6666666666666666,
              "#ed7953"
             ],
             [
              0.7777777777777778,
              "#fb9f3a"
             ],
             [
              0.8888888888888888,
              "#fdca26"
             ],
             [
              1,
              "#f0f921"
             ]
            ],
            "type": "histogram2dcontour"
           }
          ],
          "mesh3d": [
           {
            "colorbar": {
             "outlinewidth": 0,
             "ticks": ""
            },
            "type": "mesh3d"
           }
          ],
          "parcoords": [
           {
            "line": {
             "colorbar": {
              "outlinewidth": 0,
              "ticks": ""
             }
            },
            "type": "parcoords"
           }
          ],
          "pie": [
           {
            "automargin": true,
            "type": "pie"
           }
          ],
          "scatter": [
           {
            "marker": {
             "colorbar": {
              "outlinewidth": 0,
              "ticks": ""
             }
            },
            "type": "scatter"
           }
          ],
          "scatter3d": [
           {
            "line": {
             "colorbar": {
              "outlinewidth": 0,
              "ticks": ""
             }
            },
            "marker": {
             "colorbar": {
              "outlinewidth": 0,
              "ticks": ""
             }
            },
            "type": "scatter3d"
           }
          ],
          "scattercarpet": [
           {
            "marker": {
             "colorbar": {
              "outlinewidth": 0,
              "ticks": ""
             }
            },
            "type": "scattercarpet"
           }
          ],
          "scattergeo": [
           {
            "marker": {
             "colorbar": {
              "outlinewidth": 0,
              "ticks": ""
             }
            },
            "type": "scattergeo"
           }
          ],
          "scattergl": [
           {
            "marker": {
             "colorbar": {
              "outlinewidth": 0,
              "ticks": ""
             }
            },
            "type": "scattergl"
           }
          ],
          "scattermapbox": [
           {
            "marker": {
             "colorbar": {
              "outlinewidth": 0,
              "ticks": ""
             }
            },
            "type": "scattermapbox"
           }
          ],
          "scatterpolar": [
           {
            "marker": {
             "colorbar": {
              "outlinewidth": 0,
              "ticks": ""
             }
            },
            "type": "scatterpolar"
           }
          ],
          "scatterpolargl": [
           {
            "marker": {
             "colorbar": {
              "outlinewidth": 0,
              "ticks": ""
             }
            },
            "type": "scatterpolargl"
           }
          ],
          "scatterternary": [
           {
            "marker": {
             "colorbar": {
              "outlinewidth": 0,
              "ticks": ""
             }
            },
            "type": "scatterternary"
           }
          ],
          "surface": [
           {
            "colorbar": {
             "outlinewidth": 0,
             "ticks": ""
            },
            "colorscale": [
             [
              0,
              "#0d0887"
             ],
             [
              0.1111111111111111,
              "#46039f"
             ],
             [
              0.2222222222222222,
              "#7201a8"
             ],
             [
              0.3333333333333333,
              "#9c179e"
             ],
             [
              0.4444444444444444,
              "#bd3786"
             ],
             [
              0.5555555555555556,
              "#d8576b"
             ],
             [
              0.6666666666666666,
              "#ed7953"
             ],
             [
              0.7777777777777778,
              "#fb9f3a"
             ],
             [
              0.8888888888888888,
              "#fdca26"
             ],
             [
              1,
              "#f0f921"
             ]
            ],
            "type": "surface"
           }
          ],
          "table": [
           {
            "cells": {
             "fill": {
              "color": "#EBF0F8"
             },
             "line": {
              "color": "white"
             }
            },
            "header": {
             "fill": {
              "color": "#C8D4E3"
             },
             "line": {
              "color": "white"
             }
            },
            "type": "table"
           }
          ]
         },
         "layout": {
          "annotationdefaults": {
           "arrowcolor": "#2a3f5f",
           "arrowhead": 0,
           "arrowwidth": 1
          },
          "coloraxis": {
           "colorbar": {
            "outlinewidth": 0,
            "ticks": ""
           }
          },
          "colorscale": {
           "diverging": [
            [
             0,
             "#8e0152"
            ],
            [
             0.1,
             "#c51b7d"
            ],
            [
             0.2,
             "#de77ae"
            ],
            [
             0.3,
             "#f1b6da"
            ],
            [
             0.4,
             "#fde0ef"
            ],
            [
             0.5,
             "#f7f7f7"
            ],
            [
             0.6,
             "#e6f5d0"
            ],
            [
             0.7,
             "#b8e186"
            ],
            [
             0.8,
             "#7fbc41"
            ],
            [
             0.9,
             "#4d9221"
            ],
            [
             1,
             "#276419"
            ]
           ],
           "sequential": [
            [
             0,
             "#0d0887"
            ],
            [
             0.1111111111111111,
             "#46039f"
            ],
            [
             0.2222222222222222,
             "#7201a8"
            ],
            [
             0.3333333333333333,
             "#9c179e"
            ],
            [
             0.4444444444444444,
             "#bd3786"
            ],
            [
             0.5555555555555556,
             "#d8576b"
            ],
            [
             0.6666666666666666,
             "#ed7953"
            ],
            [
             0.7777777777777778,
             "#fb9f3a"
            ],
            [
             0.8888888888888888,
             "#fdca26"
            ],
            [
             1,
             "#f0f921"
            ]
           ],
           "sequentialminus": [
            [
             0,
             "#0d0887"
            ],
            [
             0.1111111111111111,
             "#46039f"
            ],
            [
             0.2222222222222222,
             "#7201a8"
            ],
            [
             0.3333333333333333,
             "#9c179e"
            ],
            [
             0.4444444444444444,
             "#bd3786"
            ],
            [
             0.5555555555555556,
             "#d8576b"
            ],
            [
             0.6666666666666666,
             "#ed7953"
            ],
            [
             0.7777777777777778,
             "#fb9f3a"
            ],
            [
             0.8888888888888888,
             "#fdca26"
            ],
            [
             1,
             "#f0f921"
            ]
           ]
          },
          "colorway": [
           "#636efa",
           "#EF553B",
           "#00cc96",
           "#ab63fa",
           "#FFA15A",
           "#19d3f3",
           "#FF6692",
           "#B6E880",
           "#FF97FF",
           "#FECB52"
          ],
          "font": {
           "color": "#2a3f5f"
          },
          "geo": {
           "bgcolor": "white",
           "lakecolor": "white",
           "landcolor": "#E5ECF6",
           "showlakes": true,
           "showland": true,
           "subunitcolor": "white"
          },
          "hoverlabel": {
           "align": "left"
          },
          "hovermode": "closest",
          "mapbox": {
           "style": "light"
          },
          "paper_bgcolor": "white",
          "plot_bgcolor": "#E5ECF6",
          "polar": {
           "angularaxis": {
            "gridcolor": "white",
            "linecolor": "white",
            "ticks": ""
           },
           "bgcolor": "#E5ECF6",
           "radialaxis": {
            "gridcolor": "white",
            "linecolor": "white",
            "ticks": ""
           }
          },
          "scene": {
           "xaxis": {
            "backgroundcolor": "#E5ECF6",
            "gridcolor": "white",
            "gridwidth": 2,
            "linecolor": "white",
            "showbackground": true,
            "ticks": "",
            "zerolinecolor": "white"
           },
           "yaxis": {
            "backgroundcolor": "#E5ECF6",
            "gridcolor": "white",
            "gridwidth": 2,
            "linecolor": "white",
            "showbackground": true,
            "ticks": "",
            "zerolinecolor": "white"
           },
           "zaxis": {
            "backgroundcolor": "#E5ECF6",
            "gridcolor": "white",
            "gridwidth": 2,
            "linecolor": "white",
            "showbackground": true,
            "ticks": "",
            "zerolinecolor": "white"
           }
          },
          "shapedefaults": {
           "line": {
            "color": "#2a3f5f"
           }
          },
          "ternary": {
           "aaxis": {
            "gridcolor": "white",
            "linecolor": "white",
            "ticks": ""
           },
           "baxis": {
            "gridcolor": "white",
            "linecolor": "white",
            "ticks": ""
           },
           "bgcolor": "#E5ECF6",
           "caxis": {
            "gridcolor": "white",
            "linecolor": "white",
            "ticks": ""
           }
          },
          "title": {
           "x": 0.05
          },
          "xaxis": {
           "automargin": true,
           "gridcolor": "white",
           "linecolor": "white",
           "ticks": "",
           "title": {
            "standoff": 15
           },
           "zerolinecolor": "white",
           "zerolinewidth": 2
          },
          "yaxis": {
           "automargin": true,
           "gridcolor": "white",
           "linecolor": "white",
           "ticks": "",
           "title": {
            "standoff": 15
           },
           "zerolinecolor": "white",
           "zerolinewidth": 2
          }
         }
        },
        "title": {
         "text": "Lipid Class"
        }
       }
      },
      "text/html": [
       "<div>                            <div id=\"7f0a9241-a460-41ec-b19d-81e6a49d218f\" class=\"plotly-graph-div\" style=\"height:525px; width:100%;\"></div>            <script type=\"text/javascript\">                require([\"plotly\"], function(Plotly) {                    window.PLOTLYENV=window.PLOTLYENV || {};                                    if (document.getElementById(\"7f0a9241-a460-41ec-b19d-81e6a49d218f\")) {                    Plotly.newPlot(                        \"7f0a9241-a460-41ec-b19d-81e6a49d218f\",                        [{\"domain\": {\"x\": [0.0, 1.0], \"y\": [0.0, 1.0]}, \"hovertemplate\": \"Class=%{label}<br>Intensity=%{value}<extra></extra>\", \"labels\": [\"TAG\", \"TAG\", \"TAG\", \"TAG\", \"TAG\", \"TAG\", \"TAG\", \"TAG\", \"TAG\", \"TAG\", \"TAG\", \"TAG\", \"TAG\", \"TAG\", \"TAG\", \"TAG\", \"TAG\", \"TAG\", \"TAG\", \"TAG\", \"TAG\", \"TAG\", \"TAG\", \"TAG\", \"TAG\", \"TAG\", \"TAG\", \"TAG\", \"TAG\", \"TAG\", \"TAG\", \"TAG\", \"TAG\", \"TAG\", \"TAG\", \"TAG\", \"TAG\", \"TAG\", \"TAG\", \"TAG\", \"TAG\", \"TAG\", \"TAG\", \"TAG\", \"TAG\", \"TAG\", \"TAG\", \"TAG\", \"TAG\", \"TAG\", \"TAG\", \"TAG\", \"TAG\", \"TAG\", \"TAG\", \"TAG\", \"STD_15:0-18:1(d7)-15:0 TAG\", \"TAG\", \"TAG\", \"TAG\", \"TAG\", \"TAG\", \"TAG\", \"TAG\", \"TAG\", \"TAG\", \"TAG\", \"TAG\", \"TAG\", \"TAG\", \"TAG\", \"TAG\", \"TAG\", \"TAG\", \"TAG\", \"TAG\", \"TAG\", \"TAG\", \"TAG\", \"TAG\", \"TAG\", \"TAG\", \"TAG\", \"TAG\", \"TAG\", \"TAG\", \"TAG\", \"TAG\", \"TAG\", \"TAG\", \"TAG\", \"TAG\", \"TAG\", \"TAG\", \"TAG\", \"TAG\", \"TAG\", \"TAG\", \"TAG\", \"TAG\", \"TAG\", \"TAG\", \"TAG\", \"TAG\", \"TAG\", \"TAG\", \"TAG\", \"TAG\", \"TAG\", \"TAG\", \"TAG\", \"TAG\", \"TAG\", \"TAG\", \"TAG\", \"TAG\", \"TAG\", \"TAG\", \"TAG\", \"TAG\", \"TAG\", \"TAG\", \"TAG\", \"TAG\", \"TAG\", \"TAG\", \"TAG\", \"TAG\", \"TAG\", \"TAG\", \"TAG\", \"TAG\", \"TAG\", \"TAG\", \"TAG\", \"TAG\", \"TAG\", \"TAG\", \"TAG\", \"TAG\", \"TAG\", \"TAG\", \"TAG\", \"TAG\", \"TAG\", \"TAG\", \"TAG\", \"TAG\", \"TAG\", \"TAG\", \"TAG\", \"TAG\", \"TAG\", \"TAG\", \"TAG\", \"TAG\", \"TAG\", \"TAG\", \"TAG\", \"TAG\", \"TAG\", \"TAG\", \"TAG\", \"TAG\", \"TAG\", \"TAG\", \"TAG\", \"TAG\", \"TAG\", \"TAG\", \"TAG\", \"TAG\", \"TAG\", \"TAG\", \"TAG\", \"TAG\", \"TAG\", \"TAG\", \"TAG\", \"TAG\", \"TAG\"], \"legendgroup\": \"\", \"name\": \"\", \"showlegend\": true, \"type\": \"pie\", \"values\": [45072.822998046875, 64211.844482421875, 237300.73681640625, 27744.182037353516, 37315.48260498047, 24415.261688232422, 34708.20263671875, 155327.89086914062, 20373.861602783203, 19893.661392211914, 26466.401824951172, 15374.68115234375, 19889.30142211914, 17753.80108642578, 131865.6494140625, 94824.94689941406, 16791.481231689453, 63030.504150390625, 26622.84196472168, 28583.40203857422, 29018.08203125, 17620.081260681152, 15765.661041259766, 18071.14141845703, 39169.32312011719, 31882.602020263672, 72722.04577636719, 18579.66111755371, 21398.161346435547, 18318.621307373047, 16532.841232299805, 70729.62463378906, 46782.86340332031, 20436.341217041016, 20286.141387939453, 18562.861236572266, 20631.881439208984, 44036.763610839844, 68736.06512451172, 84029.40625, 26131.921813964844, 20985.38151550293, 18959.501403808594, 21987.14175415039, 24136.061737060547, 31395.762451171875, 35014.362396240234, 51366.403381347656, 25303.261779785156, 23539.601623535156, 82808.48538208008, 286373.7007446289, 333579.6123046875, 80859.20629882812, 29734.44223022461, 22083.261352539062, 33835.302642822266, 22096.821563720703, 26063.061752319336, 29320.561981201172, 37507.4225769043, 34488.222259521484, 29315.282165527344, 35932.222259521484, 126118.92807006836, 432169.33502197266, 501185.328125, 86953.32531738281, 36228.10238647461, 49931.743591308594, 23814.681854248047, 23092.781524658203, 28172.081909179688, 41892.44287109375, 46549.702728271484, 34083.9026184082, 40384.46292114258, 44110.603759765625, 42770.922912597656, 53848.18371582031, 56664.44418334961, 47311.622985839844, 30805.982299804688, 26174.721771240234, 25399.10171508789, 25004.141693115234, 31147.182556152344, 38980.08303833008, 46906.80307006836, 38897.4231262207, 73665.94470214844, 41898.76268005371, 28414.301971435547, 30718.442108154297, 33424.282623291016, 29007.38198852539, 35497.86260986328, 26408.881866455078, 22494.82162475586, 25690.061798095703, 29631.141998291016, 33327.52235412598, 29645.14239501953, 23936.88168334961, 21959.361694335938, 20401.881622314453, 20398.84147644043, 25416.421936035156, 22382.361602783203, 19609.461395263672, 22338.061492919922, 29575.44204711914, 20122.321487426758, 20873.68148803711, 20475.001525878906, 19687.661422729492, 17986.1212310791, 16909.581176757812, 17760.02130126953, 17154.881271362305, 17369.481216430664, 17000.50129699707, 14471.141006469727, 17327.96128845215, 15586.361099243164, 15192.34105682373, 16057.961143493652, 29432.862243652344, 21032.461456298828, 15778.50112915039, 13972.840942382812, 15361.26107788086, 14665.92106628418, 12983.740997314453, 16507.40118408203, 15164.080978393555, 16115.021049499512, 14670.80093383789, 11676.520835876465, 12641.240867614746, 14229.900955200195, 14026.561004638672, 13990.720977783203, 14917.441131591797, 14691.960952758789, 12988.200942993164, 13342.720916748047, 14266.48112487793, 13126.080932617188, 13007.560943603516, 15978.181114196777, 14954.541114807129, 12710.70083618164, 14045.280990600586, 14086.260986328125, 12927.800796508789, 10637.140739440918, 13033.880912780762, 13134.800857543945, 12264.380752563477, 13273.14094543457, 20100.661331176758, 12335.680953979492, 12561.440925598145, 19396.041259765625, 15101.360977172852, 15476.981079101562, 10396.680717468262, 12281.800918579102, 12049.680938720703, 11546.020881652832, 13140.541000366211, 14803.141014099121, 13260.220840454102, 15204.641082763672, 11739.30093383789, 10289.58073425293, 11749.400787353516, 12457.700866699219, 11174.560779571533, 12249.820945739746]}],                        {\"legend\": {\"tracegroupgap\": 0}, \"template\": {\"data\": {\"bar\": [{\"error_x\": {\"color\": \"#2a3f5f\"}, \"error_y\": {\"color\": \"#2a3f5f\"}, \"marker\": {\"line\": {\"color\": \"#E5ECF6\", \"width\": 0.5}}, \"type\": \"bar\"}], \"barpolar\": [{\"marker\": {\"line\": {\"color\": \"#E5ECF6\", \"width\": 0.5}}, \"type\": \"barpolar\"}], \"carpet\": [{\"aaxis\": {\"endlinecolor\": \"#2a3f5f\", \"gridcolor\": \"white\", \"linecolor\": \"white\", \"minorgridcolor\": \"white\", \"startlinecolor\": \"#2a3f5f\"}, \"baxis\": {\"endlinecolor\": \"#2a3f5f\", \"gridcolor\": \"white\", \"linecolor\": \"white\", \"minorgridcolor\": \"white\", \"startlinecolor\": \"#2a3f5f\"}, \"type\": \"carpet\"}], \"choropleth\": [{\"colorbar\": {\"outlinewidth\": 0, \"ticks\": \"\"}, \"type\": \"choropleth\"}], \"contour\": [{\"colorbar\": {\"outlinewidth\": 0, \"ticks\": \"\"}, \"colorscale\": [[0.0, \"#0d0887\"], [0.1111111111111111, \"#46039f\"], [0.2222222222222222, \"#7201a8\"], [0.3333333333333333, \"#9c179e\"], [0.4444444444444444, \"#bd3786\"], [0.5555555555555556, \"#d8576b\"], [0.6666666666666666, \"#ed7953\"], [0.7777777777777778, \"#fb9f3a\"], [0.8888888888888888, \"#fdca26\"], [1.0, \"#f0f921\"]], \"type\": \"contour\"}], \"contourcarpet\": [{\"colorbar\": {\"outlinewidth\": 0, \"ticks\": \"\"}, \"type\": \"contourcarpet\"}], \"heatmap\": [{\"colorbar\": {\"outlinewidth\": 0, \"ticks\": \"\"}, \"colorscale\": [[0.0, \"#0d0887\"], [0.1111111111111111, \"#46039f\"], [0.2222222222222222, \"#7201a8\"], [0.3333333333333333, \"#9c179e\"], [0.4444444444444444, \"#bd3786\"], [0.5555555555555556, \"#d8576b\"], [0.6666666666666666, \"#ed7953\"], [0.7777777777777778, \"#fb9f3a\"], [0.8888888888888888, \"#fdca26\"], [1.0, \"#f0f921\"]], \"type\": \"heatmap\"}], \"heatmapgl\": [{\"colorbar\": {\"outlinewidth\": 0, \"ticks\": \"\"}, \"colorscale\": [[0.0, \"#0d0887\"], [0.1111111111111111, \"#46039f\"], [0.2222222222222222, \"#7201a8\"], [0.3333333333333333, \"#9c179e\"], [0.4444444444444444, \"#bd3786\"], [0.5555555555555556, \"#d8576b\"], [0.6666666666666666, \"#ed7953\"], [0.7777777777777778, \"#fb9f3a\"], [0.8888888888888888, \"#fdca26\"], [1.0, \"#f0f921\"]], \"type\": \"heatmapgl\"}], \"histogram\": [{\"marker\": {\"colorbar\": {\"outlinewidth\": 0, \"ticks\": \"\"}}, \"type\": \"histogram\"}], \"histogram2d\": [{\"colorbar\": {\"outlinewidth\": 0, \"ticks\": \"\"}, \"colorscale\": [[0.0, \"#0d0887\"], [0.1111111111111111, \"#46039f\"], [0.2222222222222222, \"#7201a8\"], [0.3333333333333333, \"#9c179e\"], [0.4444444444444444, \"#bd3786\"], [0.5555555555555556, \"#d8576b\"], [0.6666666666666666, \"#ed7953\"], [0.7777777777777778, \"#fb9f3a\"], [0.8888888888888888, \"#fdca26\"], [1.0, \"#f0f921\"]], \"type\": \"histogram2d\"}], \"histogram2dcontour\": [{\"colorbar\": {\"outlinewidth\": 0, \"ticks\": \"\"}, \"colorscale\": [[0.0, \"#0d0887\"], [0.1111111111111111, \"#46039f\"], [0.2222222222222222, \"#7201a8\"], [0.3333333333333333, \"#9c179e\"], [0.4444444444444444, \"#bd3786\"], [0.5555555555555556, \"#d8576b\"], [0.6666666666666666, \"#ed7953\"], [0.7777777777777778, \"#fb9f3a\"], [0.8888888888888888, \"#fdca26\"], [1.0, \"#f0f921\"]], \"type\": \"histogram2dcontour\"}], \"mesh3d\": [{\"colorbar\": {\"outlinewidth\": 0, \"ticks\": \"\"}, \"type\": \"mesh3d\"}], \"parcoords\": [{\"line\": {\"colorbar\": {\"outlinewidth\": 0, \"ticks\": \"\"}}, \"type\": \"parcoords\"}], \"pie\": [{\"automargin\": true, \"type\": \"pie\"}], \"scatter\": [{\"marker\": {\"colorbar\": {\"outlinewidth\": 0, \"ticks\": \"\"}}, \"type\": \"scatter\"}], \"scatter3d\": [{\"line\": {\"colorbar\": {\"outlinewidth\": 0, \"ticks\": \"\"}}, \"marker\": {\"colorbar\": {\"outlinewidth\": 0, \"ticks\": \"\"}}, \"type\": \"scatter3d\"}], \"scattercarpet\": [{\"marker\": {\"colorbar\": {\"outlinewidth\": 0, \"ticks\": \"\"}}, \"type\": \"scattercarpet\"}], \"scattergeo\": [{\"marker\": {\"colorbar\": {\"outlinewidth\": 0, \"ticks\": \"\"}}, \"type\": \"scattergeo\"}], \"scattergl\": [{\"marker\": {\"colorbar\": {\"outlinewidth\": 0, \"ticks\": \"\"}}, \"type\": \"scattergl\"}], \"scattermapbox\": [{\"marker\": {\"colorbar\": {\"outlinewidth\": 0, \"ticks\": \"\"}}, \"type\": \"scattermapbox\"}], \"scatterpolar\": [{\"marker\": {\"colorbar\": {\"outlinewidth\": 0, \"ticks\": \"\"}}, \"type\": \"scatterpolar\"}], \"scatterpolargl\": [{\"marker\": {\"colorbar\": {\"outlinewidth\": 0, \"ticks\": \"\"}}, \"type\": \"scatterpolargl\"}], \"scatterternary\": [{\"marker\": {\"colorbar\": {\"outlinewidth\": 0, \"ticks\": \"\"}}, \"type\": \"scatterternary\"}], \"surface\": [{\"colorbar\": {\"outlinewidth\": 0, \"ticks\": \"\"}, \"colorscale\": [[0.0, \"#0d0887\"], [0.1111111111111111, \"#46039f\"], [0.2222222222222222, \"#7201a8\"], [0.3333333333333333, \"#9c179e\"], [0.4444444444444444, \"#bd3786\"], [0.5555555555555556, \"#d8576b\"], [0.6666666666666666, \"#ed7953\"], [0.7777777777777778, \"#fb9f3a\"], [0.8888888888888888, \"#fdca26\"], [1.0, \"#f0f921\"]], \"type\": \"surface\"}], \"table\": [{\"cells\": {\"fill\": {\"color\": \"#EBF0F8\"}, \"line\": {\"color\": \"white\"}}, \"header\": {\"fill\": {\"color\": \"#C8D4E3\"}, \"line\": {\"color\": \"white\"}}, \"type\": \"table\"}]}, \"layout\": {\"annotationdefaults\": {\"arrowcolor\": \"#2a3f5f\", \"arrowhead\": 0, \"arrowwidth\": 1}, \"coloraxis\": {\"colorbar\": {\"outlinewidth\": 0, \"ticks\": \"\"}}, \"colorscale\": {\"diverging\": [[0, \"#8e0152\"], [0.1, \"#c51b7d\"], [0.2, \"#de77ae\"], [0.3, \"#f1b6da\"], [0.4, \"#fde0ef\"], [0.5, \"#f7f7f7\"], [0.6, \"#e6f5d0\"], [0.7, \"#b8e186\"], [0.8, \"#7fbc41\"], [0.9, \"#4d9221\"], [1, \"#276419\"]], \"sequential\": [[0.0, \"#0d0887\"], [0.1111111111111111, \"#46039f\"], [0.2222222222222222, \"#7201a8\"], [0.3333333333333333, \"#9c179e\"], [0.4444444444444444, \"#bd3786\"], [0.5555555555555556, \"#d8576b\"], [0.6666666666666666, \"#ed7953\"], [0.7777777777777778, \"#fb9f3a\"], [0.8888888888888888, \"#fdca26\"], [1.0, \"#f0f921\"]], \"sequentialminus\": [[0.0, \"#0d0887\"], [0.1111111111111111, \"#46039f\"], [0.2222222222222222, \"#7201a8\"], [0.3333333333333333, \"#9c179e\"], [0.4444444444444444, \"#bd3786\"], [0.5555555555555556, \"#d8576b\"], [0.6666666666666666, \"#ed7953\"], [0.7777777777777778, \"#fb9f3a\"], [0.8888888888888888, \"#fdca26\"], [1.0, \"#f0f921\"]]}, \"colorway\": [\"#636efa\", \"#EF553B\", \"#00cc96\", \"#ab63fa\", \"#FFA15A\", \"#19d3f3\", \"#FF6692\", \"#B6E880\", \"#FF97FF\", \"#FECB52\"], \"font\": {\"color\": \"#2a3f5f\"}, \"geo\": {\"bgcolor\": \"white\", \"lakecolor\": \"white\", \"landcolor\": \"#E5ECF6\", \"showlakes\": true, \"showland\": true, \"subunitcolor\": \"white\"}, \"hoverlabel\": {\"align\": \"left\"}, \"hovermode\": \"closest\", \"mapbox\": {\"style\": \"light\"}, \"paper_bgcolor\": \"white\", \"plot_bgcolor\": \"#E5ECF6\", \"polar\": {\"angularaxis\": {\"gridcolor\": \"white\", \"linecolor\": \"white\", \"ticks\": \"\"}, \"bgcolor\": \"#E5ECF6\", \"radialaxis\": {\"gridcolor\": \"white\", \"linecolor\": \"white\", \"ticks\": \"\"}}, \"scene\": {\"xaxis\": {\"backgroundcolor\": \"#E5ECF6\", \"gridcolor\": \"white\", \"gridwidth\": 2, \"linecolor\": \"white\", \"showbackground\": true, \"ticks\": \"\", \"zerolinecolor\": \"white\"}, \"yaxis\": {\"backgroundcolor\": \"#E5ECF6\", \"gridcolor\": \"white\", \"gridwidth\": 2, \"linecolor\": \"white\", \"showbackground\": true, \"ticks\": \"\", \"zerolinecolor\": \"white\"}, \"zaxis\": {\"backgroundcolor\": \"#E5ECF6\", \"gridcolor\": \"white\", \"gridwidth\": 2, \"linecolor\": \"white\", \"showbackground\": true, \"ticks\": \"\", \"zerolinecolor\": \"white\"}}, \"shapedefaults\": {\"line\": {\"color\": \"#2a3f5f\"}}, \"ternary\": {\"aaxis\": {\"gridcolor\": \"white\", \"linecolor\": \"white\", \"ticks\": \"\"}, \"baxis\": {\"gridcolor\": \"white\", \"linecolor\": \"white\", \"ticks\": \"\"}, \"bgcolor\": \"#E5ECF6\", \"caxis\": {\"gridcolor\": \"white\", \"linecolor\": \"white\", \"ticks\": \"\"}}, \"title\": {\"x\": 0.05}, \"xaxis\": {\"automargin\": true, \"gridcolor\": \"white\", \"linecolor\": \"white\", \"ticks\": \"\", \"title\": {\"standoff\": 15}, \"zerolinecolor\": \"white\", \"zerolinewidth\": 2}, \"yaxis\": {\"automargin\": true, \"gridcolor\": \"white\", \"linecolor\": \"white\", \"ticks\": \"\", \"title\": {\"standoff\": 15}, \"zerolinecolor\": \"white\", \"zerolinewidth\": 2}}}, \"title\": {\"text\": \"Lipid Class\"}},                        {\"responsive\": true}                    ).then(function(){\n",
       "                            \n",
       "var gd = document.getElementById('7f0a9241-a460-41ec-b19d-81e6a49d218f');\n",
       "var x = new MutationObserver(function (mutations, observer) {{\n",
       "        var display = window.getComputedStyle(gd).display;\n",
       "        if (!display || display === 'none') {{\n",
       "            console.log([gd, 'removed!']);\n",
       "            Plotly.purge(gd);\n",
       "            observer.disconnect();\n",
       "        }}\n",
       "}});\n",
       "\n",
       "// Listen for the removal of the full notebook cells\n",
       "var notebookContainer = gd.closest('#notebook-container');\n",
       "if (notebookContainer) {{\n",
       "    x.observe(notebookContainer, {childList: true});\n",
       "}}\n",
       "\n",
       "// Listen for the clearing of the current output cell\n",
       "var outputEl = gd.closest('.output');\n",
       "if (outputEl) {{\n",
       "    x.observe(outputEl, {childList: true});\n",
       "}}\n",
       "\n",
       "                        })                };                });            </script>        </div>"
      ]
     },
     "metadata": {},
     "output_type": "display_data"
    },
    {
     "data": {
      "application/vnd.plotly.v1+json": {
       "config": {
        "plotlyServerURL": "https://plot.ly"
       },
       "data": [
        {
         "colorscale": [
          [
           0,
           "#440154"
          ],
          [
           0.1111111111111111,
           "#482878"
          ],
          [
           0.2222222222222222,
           "#3e4989"
          ],
          [
           0.3333333333333333,
           "#31688e"
          ],
          [
           0.4444444444444444,
           "#26828e"
          ],
          [
           0.5555555555555556,
           "#1f9e89"
          ],
          [
           0.6666666666666666,
           "#35b779"
          ],
          [
           0.7777777777777778,
           "#6ece58"
          ],
          [
           0.8888888888888888,
           "#b5de2b"
          ],
          [
           1,
           "#fde725"
          ]
         ],
         "type": "heatmap",
         "x": [
          "[TG(37:0)]_FA14:0",
          "[TG(38:1)]_FA14:0",
          "[TG(38:0)]_FA14:0",
          "[TG(39:1)]_FA14:0",
          "[TG(39:0)]_FA14:0",
          "[TG(40:2)]_FA14:0",
          "[TG(40:1)]_FA14:0",
          "[TG(40:0)]_FA14:0",
          "[TG(41:2)]_FA14:0",
          "[TG(41:1)]_FA14:0",
          "[TG(41:0)]_FA14:0",
          "[TG(42:4)]_FA14:0",
          "[TG(42:3)]_FA14:0",
          "[TG(42:2)]_FA14:0",
          "[TG(42:1)]_FA14:0",
          "[TG(42:0)]_FA14:0",
          "[TG(43:4)]_FA14:0",
          "[TG(43:3)]_FA14:0",
          "[TG(43:2)]_FA14:0",
          "[TG(43:1)]_FA14:0",
          "[TG(43:0)]_FA14:0",
          "[TG(44:5)]_FA14:0",
          "[TG(44:4)]_FA14:0",
          "[TG(44:3)]_FA14:0",
          "[TG(44:2)]_FA14:0",
          "[TG(44:1)]_FA14:0",
          "[TG(44:0),TG(O-45:0)]_FA14:0",
          "[TG(45:5)]_FA14:0",
          "[TG(45:4)]_FA14:0",
          "[TG(45:3)]_FA14:0",
          "[TG(45:2)]_FA14:0",
          "[TG(45:1)]_FA14:0",
          "[TG(45:0)]_FA14:0",
          "[TG(46:6)]_FA14:0",
          "[TG(46:5)]_FA14:0",
          "[TG(46:4)]_FA14:0",
          "[TG(46:3)]_FA14:0",
          "[TG(46:2)]_FA14:0",
          "[TG(46:1)]_FA14:0",
          "[TG(46:0)]_FA14:0",
          "[TG(47:6)]_FA14:0",
          "[TG(47:5)]_FA14:0",
          "[TG(47:4)]_FA14:0",
          "[TG(47:3)]_FA14:0",
          "[TG(47:2)]_FA14:0",
          "[TG(48:8),TG(47:1)]_FA14:0",
          "[TG(48:7),TG(47:0)]_FA14:0",
          "[TG(48:6)]_FA14:0",
          "[TG(48:5)]_FA14:0",
          "[TG(48:4)]_FA14:0",
          "[TG(48:3)]_FA14:0",
          "[TG(48:2)]_FA14:0",
          "[TG(49:8),TG(48:1)]_FA14:0",
          "[TG(49:7),TG(48:0)]_FA14:0",
          "[TG(49:6)]_FA14:0",
          "[TG(49:5)]_FA14:0",
          "STD_15:0-18:1(d7)-15:0 TAG",
          "[TG(49:4)]_FA14:0",
          "[TG(49:3)]_FA14:0",
          "[TG(50:9),TG(49:2)]_FA14:0",
          "[TG(50:8),TG(49:1)]_FA14:0",
          "[TG(50:7),TG(49:0)]_FA14:0",
          "[TG(50:6)]_FA14:0",
          "[TG(50:5)]_FA14:0",
          "[TG(50:4)]_FA14:0",
          "[TG(50:3)]_FA14:0",
          "[TG(51:9),TG(50:2)]_FA14:0",
          "[TG(51:8),TG(50:1)]_FA14:0",
          "[TG(51:7),TG(50:0)]_FA14:0",
          "[TG(51:6)]_FA14:0",
          "[TG(51:5)]_FA14:0",
          "[TG(51:4)]_FA14:0",
          "[TG(52:10),TG(51:3)]_FA14:0",
          "[TG(52:9),TG(51:2)]_FA14:0",
          "[TG(52:8),TG(51:1)]_FA14:0",
          "[TG(52:7),TG(51:0)]_FA14:0",
          "[TG(52:6)]_FA14:0",
          "[TG(52:5)]_FA14:0",
          "[TG(52:4)]_FA14:0",
          "[TG(53:10),TG(52:3)]_FA14:0",
          "[TG(53:9),TG(52:2)]_FA14:0",
          "[TG(53:8),TG(52:1)]_FA14:0",
          "[TG(53:7),TG(52:0)]_FA14:0",
          "[TG(53:6)]_FA14:0",
          "[TG(54:12),TG(53:5)]_FA14:0",
          "[TG(54:11),TG(53:4)]_FA14:0",
          "[TG(54:10),TG(53:3)]_FA14:0",
          "[TG(54:9),TG(53:2)]_FA14:0",
          "[TG(54:8),TG(53:1)]_FA14:0",
          "[TG(54:7),TG(53:0)]_FA14:0",
          "[TG(54:6)]_FA14:0",
          "[TG(54:5)]_FA14:0",
          "[TG(55:11),TG(54:4)]_FA14:0",
          "[TG(55:10),TG(54:3)]_FA14:0",
          "[TG(55:9),TG(54:2)]_FA14:0",
          "[TG(55:8),TG(54:1)]_FA14:0",
          "[TG(55:7),TG(54:0)]_FA14:0",
          "[TG(56:13),TG(55:6)]_FA14:0",
          "[TG(56:12),TG(55:5)]_FA14:0",
          "[TG(56:11),TG(55:4)]_FA14:0",
          "[TG(56:10),TG(55:3)]_FA14:0",
          "[TG(56:9),TG(55:2)]_FA14:0",
          "[TG(56:8),TG(55:1)]_FA14:0",
          "[TG(56:7),TG(55:0)]_FA14:0",
          "[TG(56:6)]_FA14:0",
          "[TG(57:12),TG(56:5)]_FA14:0",
          "[TG(57:11),TG(56:4)]_FA14:0",
          "[TG(57:10),TG(56:3)]_FA14:0",
          "[TG(57:9),TG(56:2)]_FA14:0",
          "[TG(57:8),TG(56:1)]_FA14:0",
          "[TG(58:14),TG(57:7),TG(56:0)]_FA14:0",
          "[TG(58:13),TG(57:6)]_FA14:0",
          "[TG(58:12),TG(57:5)]_FA14:0",
          "[TG(58:11),TG(57:4)]_FA14:0",
          "[TG(58:10),TG(57:3)]_FA14:0",
          "[TG(58:9),TG(57:2)]_FA14:0",
          "[TG(58:8),TG(57:1)]_FA14:0",
          "[TG(58:7),TG(57:0)]_FA14:0",
          "[TG(59:13),TG(58:6)]_FA14:0",
          "[TG(59:12),TG(58:5)]_FA14:0",
          "[TG(59:11),TG(58:4)]_FA14:0",
          "[TG(59:10),TG(58:3)]_FA14:0",
          "[TG(59:9),TG(58:2)]_FA14:0",
          "[TG(60:15),TG(59:8),TG(58:1)]_FA14:0",
          "[TG(60:14),TG(59:7),TG(58:0)]_FA14:0",
          "[TG(60:13),TG(59:6)]_FA14:0",
          "[TG(60:12),TG(59:5)]_FA14:0",
          "[TG(60:11),TG(59:4)]_FA14:0",
          "[TG(60:10),TG(59:3)]_FA14:0",
          "[TG(60:9),TG(59:2)]_FA14:0",
          "[TG(60:8),TG(59:1)]_FA14:0",
          "[TG(61:14),TG(60:7),TG(59:0)]_FA14:0",
          "[TG(61:13),TG(60:6)]_FA14:0",
          "[TG(61:12),TG(60:5)]_FA14:0",
          "[TG(61:11),TG(60:4)]_FA14:0",
          "[TG(61:10),TG(60:3)]_FA14:0",
          "[TG(62:16),TG(61:9),TG(60:2)]_FA14:0",
          "[TG(62:15),TG(61:8),TG(60:1)]_FA14:0",
          "[TG(62:14),TG(61:7),TG(60:0)]_FA14:0",
          "[TG(62:13),TG(61:6)]_FA14:0",
          "[TG(62:12),TG(61:5)]_FA14:0",
          "[TG(62:11),TG(61:4)]_FA14:0",
          "[TG(62:10),TG(61:3)]_FA14:0",
          "[TG(62:9),TG(61:2)]_FA14:0",
          "[TG(62:8),TG(61:1)]_FA14:0",
          "[TG(62:7),TG(61:0)]_FA14:0",
          "[TG(63:13),TG(62:6)]_FA14:0",
          "[TG(63:12),TG(62:5)]_FA14:0",
          "[TG(63:11),TG(62:4)]_FA14:0",
          "[TG(64:17),TG(63:10),TG(62:3)]_FA14:0",
          "[TG(64:16),TG(63:9),TG(62:2)]_FA14:0",
          "[TG(64:15),TG(63:8),TG(62:1)]_FA14:0",
          "[TG(64:14),TG(63:7),TG(62:0)]_FA14:0",
          "[TG(64:13),TG(63:6)]_FA14:0",
          "[TG(64:12),TG(63:5)]_FA14:0",
          "[TG(64:11),TG(63:4)]_FA14:0",
          "[TG(64:10),TG(63:3)]_FA14:0",
          "[TG(64:9),TG(63:2)]_FA14:0",
          "[TG(64:8),TG(63:1)]_FA14:0",
          "[TG(64:7),TG(63:0)]_FA14:0",
          "[TG(64:6)]_FA14:0",
          "[TG(65:12),TG(64:5)]_FA14:0",
          "[TG(66:18),TG(65:11),TG(64:4)]_FA14:0",
          "[TG(66:17),TG(65:10),TG(64:3)]_FA14:0",
          "[TG(66:16),TG(65:9),TG(64:2)]_FA14:0",
          "[TG(66:15),TG(65:8),TG(64:1)]_FA14:0",
          "[TG(66:14),TG(65:7),TG(64:0)]_FA14:0",
          "[TG(66:13),TG(65:6)]_FA14:0",
          "[TG(66:12),TG(65:5)]_FA14:0",
          "[TG(66:11),TG(65:4)]_FA14:0",
          "[TG(66:10),TG(65:3)]_FA14:0",
          "[TG(66:9),TG(65:2)]_FA14:0",
          "[TG(66:8),TG(65:1)]_FA14:0",
          "[TG(66:7)]_FA14:0",
          "[TG(65:0)]_FA14:0",
          "[TG(66:6)]_FA14:0",
          "[TG(66:5)]_FA14:0",
          "[TG(66:4)]_FA14:0",
          "[TG(66:3)]_FA14:0",
          "[TG(66:2)]_FA14:0",
          "[TG(66:1)]_FA14:0"
         ],
         "y": [
          "TAG",
          "TAG",
          "TAG",
          "TAG",
          "TAG",
          "TAG",
          "TAG",
          "TAG",
          "TAG",
          "TAG",
          "TAG",
          "TAG",
          "TAG",
          "TAG",
          "TAG",
          "TAG",
          "TAG",
          "TAG",
          "TAG",
          "TAG",
          "TAG",
          "TAG",
          "TAG",
          "TAG",
          "TAG",
          "TAG",
          "TAG",
          "TAG",
          "TAG",
          "TAG",
          "TAG",
          "TAG",
          "TAG",
          "TAG",
          "TAG",
          "TAG",
          "TAG",
          "TAG",
          "TAG",
          "TAG",
          "TAG",
          "TAG",
          "TAG",
          "TAG",
          "TAG",
          "TAG",
          "TAG",
          "TAG",
          "TAG",
          "TAG",
          "TAG",
          "TAG",
          "TAG",
          "TAG",
          "TAG",
          "TAG",
          "STD_15:0-18:1(d7)-15:0 TAG",
          "TAG",
          "TAG",
          "TAG",
          "TAG",
          "TAG",
          "TAG",
          "TAG",
          "TAG",
          "TAG",
          "TAG",
          "TAG",
          "TAG",
          "TAG",
          "TAG",
          "TAG",
          "TAG",
          "TAG",
          "TAG",
          "TAG",
          "TAG",
          "TAG",
          "TAG",
          "TAG",
          "TAG",
          "TAG",
          "TAG",
          "TAG",
          "TAG",
          "TAG",
          "TAG",
          "TAG",
          "TAG",
          "TAG",
          "TAG",
          "TAG",
          "TAG",
          "TAG",
          "TAG",
          "TAG",
          "TAG",
          "TAG",
          "TAG",
          "TAG",
          "TAG",
          "TAG",
          "TAG",
          "TAG",
          "TAG",
          "TAG",
          "TAG",
          "TAG",
          "TAG",
          "TAG",
          "TAG",
          "TAG",
          "TAG",
          "TAG",
          "TAG",
          "TAG",
          "TAG",
          "TAG",
          "TAG",
          "TAG",
          "TAG",
          "TAG",
          "TAG",
          "TAG",
          "TAG",
          "TAG",
          "TAG",
          "TAG",
          "TAG",
          "TAG",
          "TAG",
          "TAG",
          "TAG",
          "TAG",
          "TAG",
          "TAG",
          "TAG",
          "TAG",
          "TAG",
          "TAG",
          "TAG",
          "TAG",
          "TAG",
          "TAG",
          "TAG",
          "TAG",
          "TAG",
          "TAG",
          "TAG",
          "TAG",
          "TAG",
          "TAG",
          "TAG",
          "TAG",
          "TAG",
          "TAG",
          "TAG",
          "TAG",
          "TAG",
          "TAG",
          "TAG",
          "TAG",
          "TAG",
          "TAG",
          "TAG",
          "TAG",
          "TAG",
          "TAG",
          "TAG",
          "TAG",
          "TAG",
          "TAG",
          "TAG",
          "TAG",
          "TAG",
          "TAG",
          "TAG",
          "TAG",
          "TAG",
          "TAG",
          "TAG"
         ],
         "z": [
          45072.822998046875,
          64211.844482421875,
          237300.73681640625,
          27744.182037353516,
          37315.48260498047,
          24415.261688232422,
          34708.20263671875,
          155327.89086914062,
          20373.861602783203,
          19893.661392211914,
          26466.401824951172,
          15374.68115234375,
          19889.30142211914,
          17753.80108642578,
          131865.6494140625,
          94824.94689941406,
          16791.481231689453,
          63030.504150390625,
          26622.84196472168,
          28583.40203857422,
          29018.08203125,
          17620.081260681152,
          15765.661041259766,
          18071.14141845703,
          39169.32312011719,
          31882.602020263672,
          72722.04577636719,
          18579.66111755371,
          21398.161346435547,
          18318.621307373047,
          16532.841232299805,
          70729.62463378906,
          46782.86340332031,
          20436.341217041016,
          20286.141387939453,
          18562.861236572266,
          20631.881439208984,
          44036.763610839844,
          68736.06512451172,
          84029.40625,
          26131.921813964844,
          20985.38151550293,
          18959.501403808594,
          21987.14175415039,
          24136.061737060547,
          31395.762451171875,
          35014.362396240234,
          51366.403381347656,
          25303.261779785156,
          23539.601623535156,
          82808.48538208008,
          286373.7007446289,
          333579.6123046875,
          80859.20629882812,
          29734.44223022461,
          22083.261352539062,
          33835.302642822266,
          22096.821563720703,
          26063.061752319336,
          29320.561981201172,
          37507.4225769043,
          34488.222259521484,
          29315.282165527344,
          35932.222259521484,
          126118.92807006836,
          432169.33502197266,
          501185.328125,
          86953.32531738281,
          36228.10238647461,
          49931.743591308594,
          23814.681854248047,
          23092.781524658203,
          28172.081909179688,
          41892.44287109375,
          46549.702728271484,
          34083.9026184082,
          40384.46292114258,
          44110.603759765625,
          42770.922912597656,
          53848.18371582031,
          56664.44418334961,
          47311.622985839844,
          30805.982299804688,
          26174.721771240234,
          25399.10171508789,
          25004.141693115234,
          31147.182556152344,
          38980.08303833008,
          46906.80307006836,
          38897.4231262207,
          73665.94470214844,
          41898.76268005371,
          28414.301971435547,
          30718.442108154297,
          33424.282623291016,
          29007.38198852539,
          35497.86260986328,
          26408.881866455078,
          22494.82162475586,
          25690.061798095703,
          29631.141998291016,
          33327.52235412598,
          29645.14239501953,
          23936.88168334961,
          21959.361694335938,
          20401.881622314453,
          20398.84147644043,
          25416.421936035156,
          22382.361602783203,
          19609.461395263672,
          22338.061492919922,
          29575.44204711914,
          20122.321487426758,
          20873.68148803711,
          20475.001525878906,
          19687.661422729492,
          17986.1212310791,
          16909.581176757812,
          17760.02130126953,
          17154.881271362305,
          17369.481216430664,
          17000.50129699707,
          14471.141006469727,
          17327.96128845215,
          15586.361099243164,
          15192.34105682373,
          16057.961143493652,
          29432.862243652344,
          21032.461456298828,
          15778.50112915039,
          13972.840942382812,
          15361.26107788086,
          14665.92106628418,
          12983.740997314453,
          16507.40118408203,
          15164.080978393555,
          16115.021049499512,
          14670.80093383789,
          11676.520835876465,
          12641.240867614746,
          14229.900955200195,
          14026.561004638672,
          13990.720977783203,
          14917.441131591797,
          14691.960952758789,
          12988.200942993164,
          13342.720916748047,
          14266.48112487793,
          13126.080932617188,
          13007.560943603516,
          15978.181114196777,
          14954.541114807129,
          12710.70083618164,
          14045.280990600586,
          14086.260986328125,
          12927.800796508789,
          10637.140739440918,
          13033.880912780762,
          13134.800857543945,
          12264.380752563477,
          13273.14094543457,
          20100.661331176758,
          12335.680953979492,
          12561.440925598145,
          19396.041259765625,
          15101.360977172852,
          15476.981079101562,
          10396.680717468262,
          12281.800918579102,
          12049.680938720703,
          11546.020881652832,
          13140.541000366211,
          14803.141014099121,
          13260.220840454102,
          15204.641082763672,
          11739.30093383789,
          10289.58073425293,
          11749.400787353516,
          12457.700866699219,
          11174.560779571533,
          12249.820945739746
         ]
        }
       ],
       "layout": {
        "template": {
         "data": {
          "bar": [
           {
            "error_x": {
             "color": "#2a3f5f"
            },
            "error_y": {
             "color": "#2a3f5f"
            },
            "marker": {
             "line": {
              "color": "#E5ECF6",
              "width": 0.5
             }
            },
            "type": "bar"
           }
          ],
          "barpolar": [
           {
            "marker": {
             "line": {
              "color": "#E5ECF6",
              "width": 0.5
             }
            },
            "type": "barpolar"
           }
          ],
          "carpet": [
           {
            "aaxis": {
             "endlinecolor": "#2a3f5f",
             "gridcolor": "white",
             "linecolor": "white",
             "minorgridcolor": "white",
             "startlinecolor": "#2a3f5f"
            },
            "baxis": {
             "endlinecolor": "#2a3f5f",
             "gridcolor": "white",
             "linecolor": "white",
             "minorgridcolor": "white",
             "startlinecolor": "#2a3f5f"
            },
            "type": "carpet"
           }
          ],
          "choropleth": [
           {
            "colorbar": {
             "outlinewidth": 0,
             "ticks": ""
            },
            "type": "choropleth"
           }
          ],
          "contour": [
           {
            "colorbar": {
             "outlinewidth": 0,
             "ticks": ""
            },
            "colorscale": [
             [
              0,
              "#0d0887"
             ],
             [
              0.1111111111111111,
              "#46039f"
             ],
             [
              0.2222222222222222,
              "#7201a8"
             ],
             [
              0.3333333333333333,
              "#9c179e"
             ],
             [
              0.4444444444444444,
              "#bd3786"
             ],
             [
              0.5555555555555556,
              "#d8576b"
             ],
             [
              0.6666666666666666,
              "#ed7953"
             ],
             [
              0.7777777777777778,
              "#fb9f3a"
             ],
             [
              0.8888888888888888,
              "#fdca26"
             ],
             [
              1,
              "#f0f921"
             ]
            ],
            "type": "contour"
           }
          ],
          "contourcarpet": [
           {
            "colorbar": {
             "outlinewidth": 0,
             "ticks": ""
            },
            "type": "contourcarpet"
           }
          ],
          "heatmap": [
           {
            "colorbar": {
             "outlinewidth": 0,
             "ticks": ""
            },
            "colorscale": [
             [
              0,
              "#0d0887"
             ],
             [
              0.1111111111111111,
              "#46039f"
             ],
             [
              0.2222222222222222,
              "#7201a8"
             ],
             [
              0.3333333333333333,
              "#9c179e"
             ],
             [
              0.4444444444444444,
              "#bd3786"
             ],
             [
              0.5555555555555556,
              "#d8576b"
             ],
             [
              0.6666666666666666,
              "#ed7953"
             ],
             [
              0.7777777777777778,
              "#fb9f3a"
             ],
             [
              0.8888888888888888,
              "#fdca26"
             ],
             [
              1,
              "#f0f921"
             ]
            ],
            "type": "heatmap"
           }
          ],
          "heatmapgl": [
           {
            "colorbar": {
             "outlinewidth": 0,
             "ticks": ""
            },
            "colorscale": [
             [
              0,
              "#0d0887"
             ],
             [
              0.1111111111111111,
              "#46039f"
             ],
             [
              0.2222222222222222,
              "#7201a8"
             ],
             [
              0.3333333333333333,
              "#9c179e"
             ],
             [
              0.4444444444444444,
              "#bd3786"
             ],
             [
              0.5555555555555556,
              "#d8576b"
             ],
             [
              0.6666666666666666,
              "#ed7953"
             ],
             [
              0.7777777777777778,
              "#fb9f3a"
             ],
             [
              0.8888888888888888,
              "#fdca26"
             ],
             [
              1,
              "#f0f921"
             ]
            ],
            "type": "heatmapgl"
           }
          ],
          "histogram": [
           {
            "marker": {
             "colorbar": {
              "outlinewidth": 0,
              "ticks": ""
             }
            },
            "type": "histogram"
           }
          ],
          "histogram2d": [
           {
            "colorbar": {
             "outlinewidth": 0,
             "ticks": ""
            },
            "colorscale": [
             [
              0,
              "#0d0887"
             ],
             [
              0.1111111111111111,
              "#46039f"
             ],
             [
              0.2222222222222222,
              "#7201a8"
             ],
             [
              0.3333333333333333,
              "#9c179e"
             ],
             [
              0.4444444444444444,
              "#bd3786"
             ],
             [
              0.5555555555555556,
              "#d8576b"
             ],
             [
              0.6666666666666666,
              "#ed7953"
             ],
             [
              0.7777777777777778,
              "#fb9f3a"
             ],
             [
              0.8888888888888888,
              "#fdca26"
             ],
             [
              1,
              "#f0f921"
             ]
            ],
            "type": "histogram2d"
           }
          ],
          "histogram2dcontour": [
           {
            "colorbar": {
             "outlinewidth": 0,
             "ticks": ""
            },
            "colorscale": [
             [
              0,
              "#0d0887"
             ],
             [
              0.1111111111111111,
              "#46039f"
             ],
             [
              0.2222222222222222,
              "#7201a8"
             ],
             [
              0.3333333333333333,
              "#9c179e"
             ],
             [
              0.4444444444444444,
              "#bd3786"
             ],
             [
              0.5555555555555556,
              "#d8576b"
             ],
             [
              0.6666666666666666,
              "#ed7953"
             ],
             [
              0.7777777777777778,
              "#fb9f3a"
             ],
             [
              0.8888888888888888,
              "#fdca26"
             ],
             [
              1,
              "#f0f921"
             ]
            ],
            "type": "histogram2dcontour"
           }
          ],
          "mesh3d": [
           {
            "colorbar": {
             "outlinewidth": 0,
             "ticks": ""
            },
            "type": "mesh3d"
           }
          ],
          "parcoords": [
           {
            "line": {
             "colorbar": {
              "outlinewidth": 0,
              "ticks": ""
             }
            },
            "type": "parcoords"
           }
          ],
          "pie": [
           {
            "automargin": true,
            "type": "pie"
           }
          ],
          "scatter": [
           {
            "marker": {
             "colorbar": {
              "outlinewidth": 0,
              "ticks": ""
             }
            },
            "type": "scatter"
           }
          ],
          "scatter3d": [
           {
            "line": {
             "colorbar": {
              "outlinewidth": 0,
              "ticks": ""
             }
            },
            "marker": {
             "colorbar": {
              "outlinewidth": 0,
              "ticks": ""
             }
            },
            "type": "scatter3d"
           }
          ],
          "scattercarpet": [
           {
            "marker": {
             "colorbar": {
              "outlinewidth": 0,
              "ticks": ""
             }
            },
            "type": "scattercarpet"
           }
          ],
          "scattergeo": [
           {
            "marker": {
             "colorbar": {
              "outlinewidth": 0,
              "ticks": ""
             }
            },
            "type": "scattergeo"
           }
          ],
          "scattergl": [
           {
            "marker": {
             "colorbar": {
              "outlinewidth": 0,
              "ticks": ""
             }
            },
            "type": "scattergl"
           }
          ],
          "scattermapbox": [
           {
            "marker": {
             "colorbar": {
              "outlinewidth": 0,
              "ticks": ""
             }
            },
            "type": "scattermapbox"
           }
          ],
          "scatterpolar": [
           {
            "marker": {
             "colorbar": {
              "outlinewidth": 0,
              "ticks": ""
             }
            },
            "type": "scatterpolar"
           }
          ],
          "scatterpolargl": [
           {
            "marker": {
             "colorbar": {
              "outlinewidth": 0,
              "ticks": ""
             }
            },
            "type": "scatterpolargl"
           }
          ],
          "scatterternary": [
           {
            "marker": {
             "colorbar": {
              "outlinewidth": 0,
              "ticks": ""
             }
            },
            "type": "scatterternary"
           }
          ],
          "surface": [
           {
            "colorbar": {
             "outlinewidth": 0,
             "ticks": ""
            },
            "colorscale": [
             [
              0,
              "#0d0887"
             ],
             [
              0.1111111111111111,
              "#46039f"
             ],
             [
              0.2222222222222222,
              "#7201a8"
             ],
             [
              0.3333333333333333,
              "#9c179e"
             ],
             [
              0.4444444444444444,
              "#bd3786"
             ],
             [
              0.5555555555555556,
              "#d8576b"
             ],
             [
              0.6666666666666666,
              "#ed7953"
             ],
             [
              0.7777777777777778,
              "#fb9f3a"
             ],
             [
              0.8888888888888888,
              "#fdca26"
             ],
             [
              1,
              "#f0f921"
             ]
            ],
            "type": "surface"
           }
          ],
          "table": [
           {
            "cells": {
             "fill": {
              "color": "#EBF0F8"
             },
             "line": {
              "color": "white"
             }
            },
            "header": {
             "fill": {
              "color": "#C8D4E3"
             },
             "line": {
              "color": "white"
             }
            },
            "type": "table"
           }
          ]
         },
         "layout": {
          "annotationdefaults": {
           "arrowcolor": "#2a3f5f",
           "arrowhead": 0,
           "arrowwidth": 1
          },
          "coloraxis": {
           "colorbar": {
            "outlinewidth": 0,
            "ticks": ""
           }
          },
          "colorscale": {
           "diverging": [
            [
             0,
             "#8e0152"
            ],
            [
             0.1,
             "#c51b7d"
            ],
            [
             0.2,
             "#de77ae"
            ],
            [
             0.3,
             "#f1b6da"
            ],
            [
             0.4,
             "#fde0ef"
            ],
            [
             0.5,
             "#f7f7f7"
            ],
            [
             0.6,
             "#e6f5d0"
            ],
            [
             0.7,
             "#b8e186"
            ],
            [
             0.8,
             "#7fbc41"
            ],
            [
             0.9,
             "#4d9221"
            ],
            [
             1,
             "#276419"
            ]
           ],
           "sequential": [
            [
             0,
             "#0d0887"
            ],
            [
             0.1111111111111111,
             "#46039f"
            ],
            [
             0.2222222222222222,
             "#7201a8"
            ],
            [
             0.3333333333333333,
             "#9c179e"
            ],
            [
             0.4444444444444444,
             "#bd3786"
            ],
            [
             0.5555555555555556,
             "#d8576b"
            ],
            [
             0.6666666666666666,
             "#ed7953"
            ],
            [
             0.7777777777777778,
             "#fb9f3a"
            ],
            [
             0.8888888888888888,
             "#fdca26"
            ],
            [
             1,
             "#f0f921"
            ]
           ],
           "sequentialminus": [
            [
             0,
             "#0d0887"
            ],
            [
             0.1111111111111111,
             "#46039f"
            ],
            [
             0.2222222222222222,
             "#7201a8"
            ],
            [
             0.3333333333333333,
             "#9c179e"
            ],
            [
             0.4444444444444444,
             "#bd3786"
            ],
            [
             0.5555555555555556,
             "#d8576b"
            ],
            [
             0.6666666666666666,
             "#ed7953"
            ],
            [
             0.7777777777777778,
             "#fb9f3a"
            ],
            [
             0.8888888888888888,
             "#fdca26"
            ],
            [
             1,
             "#f0f921"
            ]
           ]
          },
          "colorway": [
           "#636efa",
           "#EF553B",
           "#00cc96",
           "#ab63fa",
           "#FFA15A",
           "#19d3f3",
           "#FF6692",
           "#B6E880",
           "#FF97FF",
           "#FECB52"
          ],
          "font": {
           "color": "#2a3f5f"
          },
          "geo": {
           "bgcolor": "white",
           "lakecolor": "white",
           "landcolor": "#E5ECF6",
           "showlakes": true,
           "showland": true,
           "subunitcolor": "white"
          },
          "hoverlabel": {
           "align": "left"
          },
          "hovermode": "closest",
          "mapbox": {
           "style": "light"
          },
          "paper_bgcolor": "white",
          "plot_bgcolor": "#E5ECF6",
          "polar": {
           "angularaxis": {
            "gridcolor": "white",
            "linecolor": "white",
            "ticks": ""
           },
           "bgcolor": "#E5ECF6",
           "radialaxis": {
            "gridcolor": "white",
            "linecolor": "white",
            "ticks": ""
           }
          },
          "scene": {
           "xaxis": {
            "backgroundcolor": "#E5ECF6",
            "gridcolor": "white",
            "gridwidth": 2,
            "linecolor": "white",
            "showbackground": true,
            "ticks": "",
            "zerolinecolor": "white"
           },
           "yaxis": {
            "backgroundcolor": "#E5ECF6",
            "gridcolor": "white",
            "gridwidth": 2,
            "linecolor": "white",
            "showbackground": true,
            "ticks": "",
            "zerolinecolor": "white"
           },
           "zaxis": {
            "backgroundcolor": "#E5ECF6",
            "gridcolor": "white",
            "gridwidth": 2,
            "linecolor": "white",
            "showbackground": true,
            "ticks": "",
            "zerolinecolor": "white"
           }
          },
          "shapedefaults": {
           "line": {
            "color": "#2a3f5f"
           }
          },
          "ternary": {
           "aaxis": {
            "gridcolor": "white",
            "linecolor": "white",
            "ticks": ""
           },
           "baxis": {
            "gridcolor": "white",
            "linecolor": "white",
            "ticks": ""
           },
           "bgcolor": "#E5ECF6",
           "caxis": {
            "gridcolor": "white",
            "linecolor": "white",
            "ticks": ""
           }
          },
          "title": {
           "x": 0.05
          },
          "xaxis": {
           "automargin": true,
           "gridcolor": "white",
           "linecolor": "white",
           "ticks": "",
           "title": {
            "standoff": 15
           },
           "zerolinecolor": "white",
           "zerolinewidth": 2
          },
          "yaxis": {
           "automargin": true,
           "gridcolor": "white",
           "linecolor": "white",
           "ticks": "",
           "title": {
            "standoff": 15
           },
           "zerolinecolor": "white",
           "zerolinewidth": 2
          }
         }
        }
       }
      },
      "text/html": [
       "<div>                            <div id=\"40ba56ab-b18c-4ecd-b880-f929f44d385b\" class=\"plotly-graph-div\" style=\"height:525px; width:100%;\"></div>            <script type=\"text/javascript\">                require([\"plotly\"], function(Plotly) {                    window.PLOTLYENV=window.PLOTLYENV || {};                                    if (document.getElementById(\"40ba56ab-b18c-4ecd-b880-f929f44d385b\")) {                    Plotly.newPlot(                        \"40ba56ab-b18c-4ecd-b880-f929f44d385b\",                        [{\"colorscale\": [[0.0, \"#440154\"], [0.1111111111111111, \"#482878\"], [0.2222222222222222, \"#3e4989\"], [0.3333333333333333, \"#31688e\"], [0.4444444444444444, \"#26828e\"], [0.5555555555555556, \"#1f9e89\"], [0.6666666666666666, \"#35b779\"], [0.7777777777777778, \"#6ece58\"], [0.8888888888888888, \"#b5de2b\"], [1.0, \"#fde725\"]], \"type\": \"heatmap\", \"x\": [\"[TG(37:0)]_FA14:0\", \"[TG(38:1)]_FA14:0\", \"[TG(38:0)]_FA14:0\", \"[TG(39:1)]_FA14:0\", \"[TG(39:0)]_FA14:0\", \"[TG(40:2)]_FA14:0\", \"[TG(40:1)]_FA14:0\", \"[TG(40:0)]_FA14:0\", \"[TG(41:2)]_FA14:0\", \"[TG(41:1)]_FA14:0\", \"[TG(41:0)]_FA14:0\", \"[TG(42:4)]_FA14:0\", \"[TG(42:3)]_FA14:0\", \"[TG(42:2)]_FA14:0\", \"[TG(42:1)]_FA14:0\", \"[TG(42:0)]_FA14:0\", \"[TG(43:4)]_FA14:0\", \"[TG(43:3)]_FA14:0\", \"[TG(43:2)]_FA14:0\", \"[TG(43:1)]_FA14:0\", \"[TG(43:0)]_FA14:0\", \"[TG(44:5)]_FA14:0\", \"[TG(44:4)]_FA14:0\", \"[TG(44:3)]_FA14:0\", \"[TG(44:2)]_FA14:0\", \"[TG(44:1)]_FA14:0\", \"[TG(44:0),TG(O-45:0)]_FA14:0\", \"[TG(45:5)]_FA14:0\", \"[TG(45:4)]_FA14:0\", \"[TG(45:3)]_FA14:0\", \"[TG(45:2)]_FA14:0\", \"[TG(45:1)]_FA14:0\", \"[TG(45:0)]_FA14:0\", \"[TG(46:6)]_FA14:0\", \"[TG(46:5)]_FA14:0\", \"[TG(46:4)]_FA14:0\", \"[TG(46:3)]_FA14:0\", \"[TG(46:2)]_FA14:0\", \"[TG(46:1)]_FA14:0\", \"[TG(46:0)]_FA14:0\", \"[TG(47:6)]_FA14:0\", \"[TG(47:5)]_FA14:0\", \"[TG(47:4)]_FA14:0\", \"[TG(47:3)]_FA14:0\", \"[TG(47:2)]_FA14:0\", \"[TG(48:8),TG(47:1)]_FA14:0\", \"[TG(48:7),TG(47:0)]_FA14:0\", \"[TG(48:6)]_FA14:0\", \"[TG(48:5)]_FA14:0\", \"[TG(48:4)]_FA14:0\", \"[TG(48:3)]_FA14:0\", \"[TG(48:2)]_FA14:0\", \"[TG(49:8),TG(48:1)]_FA14:0\", \"[TG(49:7),TG(48:0)]_FA14:0\", \"[TG(49:6)]_FA14:0\", \"[TG(49:5)]_FA14:0\", \"STD_15:0-18:1(d7)-15:0 TAG\", \"[TG(49:4)]_FA14:0\", \"[TG(49:3)]_FA14:0\", \"[TG(50:9),TG(49:2)]_FA14:0\", \"[TG(50:8),TG(49:1)]_FA14:0\", \"[TG(50:7),TG(49:0)]_FA14:0\", \"[TG(50:6)]_FA14:0\", \"[TG(50:5)]_FA14:0\", \"[TG(50:4)]_FA14:0\", \"[TG(50:3)]_FA14:0\", \"[TG(51:9),TG(50:2)]_FA14:0\", \"[TG(51:8),TG(50:1)]_FA14:0\", \"[TG(51:7),TG(50:0)]_FA14:0\", \"[TG(51:6)]_FA14:0\", \"[TG(51:5)]_FA14:0\", \"[TG(51:4)]_FA14:0\", \"[TG(52:10),TG(51:3)]_FA14:0\", \"[TG(52:9),TG(51:2)]_FA14:0\", \"[TG(52:8),TG(51:1)]_FA14:0\", \"[TG(52:7),TG(51:0)]_FA14:0\", \"[TG(52:6)]_FA14:0\", \"[TG(52:5)]_FA14:0\", \"[TG(52:4)]_FA14:0\", \"[TG(53:10),TG(52:3)]_FA14:0\", \"[TG(53:9),TG(52:2)]_FA14:0\", \"[TG(53:8),TG(52:1)]_FA14:0\", \"[TG(53:7),TG(52:0)]_FA14:0\", \"[TG(53:6)]_FA14:0\", \"[TG(54:12),TG(53:5)]_FA14:0\", \"[TG(54:11),TG(53:4)]_FA14:0\", \"[TG(54:10),TG(53:3)]_FA14:0\", \"[TG(54:9),TG(53:2)]_FA14:0\", \"[TG(54:8),TG(53:1)]_FA14:0\", \"[TG(54:7),TG(53:0)]_FA14:0\", \"[TG(54:6)]_FA14:0\", \"[TG(54:5)]_FA14:0\", \"[TG(55:11),TG(54:4)]_FA14:0\", \"[TG(55:10),TG(54:3)]_FA14:0\", \"[TG(55:9),TG(54:2)]_FA14:0\", \"[TG(55:8),TG(54:1)]_FA14:0\", \"[TG(55:7),TG(54:0)]_FA14:0\", \"[TG(56:13),TG(55:6)]_FA14:0\", \"[TG(56:12),TG(55:5)]_FA14:0\", \"[TG(56:11),TG(55:4)]_FA14:0\", \"[TG(56:10),TG(55:3)]_FA14:0\", \"[TG(56:9),TG(55:2)]_FA14:0\", \"[TG(56:8),TG(55:1)]_FA14:0\", \"[TG(56:7),TG(55:0)]_FA14:0\", \"[TG(56:6)]_FA14:0\", \"[TG(57:12),TG(56:5)]_FA14:0\", \"[TG(57:11),TG(56:4)]_FA14:0\", \"[TG(57:10),TG(56:3)]_FA14:0\", \"[TG(57:9),TG(56:2)]_FA14:0\", \"[TG(57:8),TG(56:1)]_FA14:0\", \"[TG(58:14),TG(57:7),TG(56:0)]_FA14:0\", \"[TG(58:13),TG(57:6)]_FA14:0\", \"[TG(58:12),TG(57:5)]_FA14:0\", \"[TG(58:11),TG(57:4)]_FA14:0\", \"[TG(58:10),TG(57:3)]_FA14:0\", \"[TG(58:9),TG(57:2)]_FA14:0\", \"[TG(58:8),TG(57:1)]_FA14:0\", \"[TG(58:7),TG(57:0)]_FA14:0\", \"[TG(59:13),TG(58:6)]_FA14:0\", \"[TG(59:12),TG(58:5)]_FA14:0\", \"[TG(59:11),TG(58:4)]_FA14:0\", \"[TG(59:10),TG(58:3)]_FA14:0\", \"[TG(59:9),TG(58:2)]_FA14:0\", \"[TG(60:15),TG(59:8),TG(58:1)]_FA14:0\", \"[TG(60:14),TG(59:7),TG(58:0)]_FA14:0\", \"[TG(60:13),TG(59:6)]_FA14:0\", \"[TG(60:12),TG(59:5)]_FA14:0\", \"[TG(60:11),TG(59:4)]_FA14:0\", \"[TG(60:10),TG(59:3)]_FA14:0\", \"[TG(60:9),TG(59:2)]_FA14:0\", \"[TG(60:8),TG(59:1)]_FA14:0\", \"[TG(61:14),TG(60:7),TG(59:0)]_FA14:0\", \"[TG(61:13),TG(60:6)]_FA14:0\", \"[TG(61:12),TG(60:5)]_FA14:0\", \"[TG(61:11),TG(60:4)]_FA14:0\", \"[TG(61:10),TG(60:3)]_FA14:0\", \"[TG(62:16),TG(61:9),TG(60:2)]_FA14:0\", \"[TG(62:15),TG(61:8),TG(60:1)]_FA14:0\", \"[TG(62:14),TG(61:7),TG(60:0)]_FA14:0\", \"[TG(62:13),TG(61:6)]_FA14:0\", \"[TG(62:12),TG(61:5)]_FA14:0\", \"[TG(62:11),TG(61:4)]_FA14:0\", \"[TG(62:10),TG(61:3)]_FA14:0\", \"[TG(62:9),TG(61:2)]_FA14:0\", \"[TG(62:8),TG(61:1)]_FA14:0\", \"[TG(62:7),TG(61:0)]_FA14:0\", \"[TG(63:13),TG(62:6)]_FA14:0\", \"[TG(63:12),TG(62:5)]_FA14:0\", \"[TG(63:11),TG(62:4)]_FA14:0\", \"[TG(64:17),TG(63:10),TG(62:3)]_FA14:0\", \"[TG(64:16),TG(63:9),TG(62:2)]_FA14:0\", \"[TG(64:15),TG(63:8),TG(62:1)]_FA14:0\", \"[TG(64:14),TG(63:7),TG(62:0)]_FA14:0\", \"[TG(64:13),TG(63:6)]_FA14:0\", \"[TG(64:12),TG(63:5)]_FA14:0\", \"[TG(64:11),TG(63:4)]_FA14:0\", \"[TG(64:10),TG(63:3)]_FA14:0\", \"[TG(64:9),TG(63:2)]_FA14:0\", \"[TG(64:8),TG(63:1)]_FA14:0\", \"[TG(64:7),TG(63:0)]_FA14:0\", \"[TG(64:6)]_FA14:0\", \"[TG(65:12),TG(64:5)]_FA14:0\", \"[TG(66:18),TG(65:11),TG(64:4)]_FA14:0\", \"[TG(66:17),TG(65:10),TG(64:3)]_FA14:0\", \"[TG(66:16),TG(65:9),TG(64:2)]_FA14:0\", \"[TG(66:15),TG(65:8),TG(64:1)]_FA14:0\", \"[TG(66:14),TG(65:7),TG(64:0)]_FA14:0\", \"[TG(66:13),TG(65:6)]_FA14:0\", \"[TG(66:12),TG(65:5)]_FA14:0\", \"[TG(66:11),TG(65:4)]_FA14:0\", \"[TG(66:10),TG(65:3)]_FA14:0\", \"[TG(66:9),TG(65:2)]_FA14:0\", \"[TG(66:8),TG(65:1)]_FA14:0\", \"[TG(66:7)]_FA14:0\", \"[TG(65:0)]_FA14:0\", \"[TG(66:6)]_FA14:0\", \"[TG(66:5)]_FA14:0\", \"[TG(66:4)]_FA14:0\", \"[TG(66:3)]_FA14:0\", \"[TG(66:2)]_FA14:0\", \"[TG(66:1)]_FA14:0\"], \"y\": [\"TAG\", \"TAG\", \"TAG\", \"TAG\", \"TAG\", \"TAG\", \"TAG\", \"TAG\", \"TAG\", \"TAG\", \"TAG\", \"TAG\", \"TAG\", \"TAG\", \"TAG\", \"TAG\", \"TAG\", \"TAG\", \"TAG\", \"TAG\", \"TAG\", \"TAG\", \"TAG\", \"TAG\", \"TAG\", \"TAG\", \"TAG\", \"TAG\", \"TAG\", \"TAG\", \"TAG\", \"TAG\", \"TAG\", \"TAG\", \"TAG\", \"TAG\", \"TAG\", \"TAG\", \"TAG\", \"TAG\", \"TAG\", \"TAG\", \"TAG\", \"TAG\", \"TAG\", \"TAG\", \"TAG\", \"TAG\", \"TAG\", \"TAG\", \"TAG\", \"TAG\", \"TAG\", \"TAG\", \"TAG\", \"TAG\", \"STD_15:0-18:1(d7)-15:0 TAG\", \"TAG\", \"TAG\", \"TAG\", \"TAG\", \"TAG\", \"TAG\", \"TAG\", \"TAG\", \"TAG\", \"TAG\", \"TAG\", \"TAG\", \"TAG\", \"TAG\", \"TAG\", \"TAG\", \"TAG\", \"TAG\", \"TAG\", \"TAG\", \"TAG\", \"TAG\", \"TAG\", \"TAG\", \"TAG\", \"TAG\", \"TAG\", \"TAG\", \"TAG\", \"TAG\", \"TAG\", \"TAG\", \"TAG\", \"TAG\", \"TAG\", \"TAG\", \"TAG\", \"TAG\", \"TAG\", \"TAG\", \"TAG\", \"TAG\", \"TAG\", \"TAG\", \"TAG\", \"TAG\", \"TAG\", \"TAG\", \"TAG\", \"TAG\", \"TAG\", \"TAG\", \"TAG\", \"TAG\", \"TAG\", \"TAG\", \"TAG\", \"TAG\", \"TAG\", \"TAG\", \"TAG\", \"TAG\", \"TAG\", \"TAG\", \"TAG\", \"TAG\", \"TAG\", \"TAG\", \"TAG\", \"TAG\", \"TAG\", \"TAG\", \"TAG\", \"TAG\", \"TAG\", \"TAG\", \"TAG\", \"TAG\", \"TAG\", \"TAG\", \"TAG\", \"TAG\", \"TAG\", \"TAG\", \"TAG\", \"TAG\", \"TAG\", \"TAG\", \"TAG\", \"TAG\", \"TAG\", \"TAG\", \"TAG\", \"TAG\", \"TAG\", \"TAG\", \"TAG\", \"TAG\", \"TAG\", \"TAG\", \"TAG\", \"TAG\", \"TAG\", \"TAG\", \"TAG\", \"TAG\", \"TAG\", \"TAG\", \"TAG\", \"TAG\", \"TAG\", \"TAG\", \"TAG\", \"TAG\", \"TAG\", \"TAG\", \"TAG\", \"TAG\", \"TAG\", \"TAG\", \"TAG\", \"TAG\", \"TAG\", \"TAG\"], \"z\": [45072.822998046875, 64211.844482421875, 237300.73681640625, 27744.182037353516, 37315.48260498047, 24415.261688232422, 34708.20263671875, 155327.89086914062, 20373.861602783203, 19893.661392211914, 26466.401824951172, 15374.68115234375, 19889.30142211914, 17753.80108642578, 131865.6494140625, 94824.94689941406, 16791.481231689453, 63030.504150390625, 26622.84196472168, 28583.40203857422, 29018.08203125, 17620.081260681152, 15765.661041259766, 18071.14141845703, 39169.32312011719, 31882.602020263672, 72722.04577636719, 18579.66111755371, 21398.161346435547, 18318.621307373047, 16532.841232299805, 70729.62463378906, 46782.86340332031, 20436.341217041016, 20286.141387939453, 18562.861236572266, 20631.881439208984, 44036.763610839844, 68736.06512451172, 84029.40625, 26131.921813964844, 20985.38151550293, 18959.501403808594, 21987.14175415039, 24136.061737060547, 31395.762451171875, 35014.362396240234, 51366.403381347656, 25303.261779785156, 23539.601623535156, 82808.48538208008, 286373.7007446289, 333579.6123046875, 80859.20629882812, 29734.44223022461, 22083.261352539062, 33835.302642822266, 22096.821563720703, 26063.061752319336, 29320.561981201172, 37507.4225769043, 34488.222259521484, 29315.282165527344, 35932.222259521484, 126118.92807006836, 432169.33502197266, 501185.328125, 86953.32531738281, 36228.10238647461, 49931.743591308594, 23814.681854248047, 23092.781524658203, 28172.081909179688, 41892.44287109375, 46549.702728271484, 34083.9026184082, 40384.46292114258, 44110.603759765625, 42770.922912597656, 53848.18371582031, 56664.44418334961, 47311.622985839844, 30805.982299804688, 26174.721771240234, 25399.10171508789, 25004.141693115234, 31147.182556152344, 38980.08303833008, 46906.80307006836, 38897.4231262207, 73665.94470214844, 41898.76268005371, 28414.301971435547, 30718.442108154297, 33424.282623291016, 29007.38198852539, 35497.86260986328, 26408.881866455078, 22494.82162475586, 25690.061798095703, 29631.141998291016, 33327.52235412598, 29645.14239501953, 23936.88168334961, 21959.361694335938, 20401.881622314453, 20398.84147644043, 25416.421936035156, 22382.361602783203, 19609.461395263672, 22338.061492919922, 29575.44204711914, 20122.321487426758, 20873.68148803711, 20475.001525878906, 19687.661422729492, 17986.1212310791, 16909.581176757812, 17760.02130126953, 17154.881271362305, 17369.481216430664, 17000.50129699707, 14471.141006469727, 17327.96128845215, 15586.361099243164, 15192.34105682373, 16057.961143493652, 29432.862243652344, 21032.461456298828, 15778.50112915039, 13972.840942382812, 15361.26107788086, 14665.92106628418, 12983.740997314453, 16507.40118408203, 15164.080978393555, 16115.021049499512, 14670.80093383789, 11676.520835876465, 12641.240867614746, 14229.900955200195, 14026.561004638672, 13990.720977783203, 14917.441131591797, 14691.960952758789, 12988.200942993164, 13342.720916748047, 14266.48112487793, 13126.080932617188, 13007.560943603516, 15978.181114196777, 14954.541114807129, 12710.70083618164, 14045.280990600586, 14086.260986328125, 12927.800796508789, 10637.140739440918, 13033.880912780762, 13134.800857543945, 12264.380752563477, 13273.14094543457, 20100.661331176758, 12335.680953979492, 12561.440925598145, 19396.041259765625, 15101.360977172852, 15476.981079101562, 10396.680717468262, 12281.800918579102, 12049.680938720703, 11546.020881652832, 13140.541000366211, 14803.141014099121, 13260.220840454102, 15204.641082763672, 11739.30093383789, 10289.58073425293, 11749.400787353516, 12457.700866699219, 11174.560779571533, 12249.820945739746]}],                        {\"template\": {\"data\": {\"bar\": [{\"error_x\": {\"color\": \"#2a3f5f\"}, \"error_y\": {\"color\": \"#2a3f5f\"}, \"marker\": {\"line\": {\"color\": \"#E5ECF6\", \"width\": 0.5}}, \"type\": \"bar\"}], \"barpolar\": [{\"marker\": {\"line\": {\"color\": \"#E5ECF6\", \"width\": 0.5}}, \"type\": \"barpolar\"}], \"carpet\": [{\"aaxis\": {\"endlinecolor\": \"#2a3f5f\", \"gridcolor\": \"white\", \"linecolor\": \"white\", \"minorgridcolor\": \"white\", \"startlinecolor\": \"#2a3f5f\"}, \"baxis\": {\"endlinecolor\": \"#2a3f5f\", \"gridcolor\": \"white\", \"linecolor\": \"white\", \"minorgridcolor\": \"white\", \"startlinecolor\": \"#2a3f5f\"}, \"type\": \"carpet\"}], \"choropleth\": [{\"colorbar\": {\"outlinewidth\": 0, \"ticks\": \"\"}, \"type\": \"choropleth\"}], \"contour\": [{\"colorbar\": {\"outlinewidth\": 0, \"ticks\": \"\"}, \"colorscale\": [[0.0, \"#0d0887\"], [0.1111111111111111, \"#46039f\"], [0.2222222222222222, \"#7201a8\"], [0.3333333333333333, \"#9c179e\"], [0.4444444444444444, \"#bd3786\"], [0.5555555555555556, \"#d8576b\"], [0.6666666666666666, \"#ed7953\"], [0.7777777777777778, \"#fb9f3a\"], [0.8888888888888888, \"#fdca26\"], [1.0, \"#f0f921\"]], \"type\": \"contour\"}], \"contourcarpet\": [{\"colorbar\": {\"outlinewidth\": 0, \"ticks\": \"\"}, \"type\": \"contourcarpet\"}], \"heatmap\": [{\"colorbar\": {\"outlinewidth\": 0, \"ticks\": \"\"}, \"colorscale\": [[0.0, \"#0d0887\"], [0.1111111111111111, \"#46039f\"], [0.2222222222222222, \"#7201a8\"], [0.3333333333333333, \"#9c179e\"], [0.4444444444444444, \"#bd3786\"], [0.5555555555555556, \"#d8576b\"], [0.6666666666666666, \"#ed7953\"], [0.7777777777777778, \"#fb9f3a\"], [0.8888888888888888, \"#fdca26\"], [1.0, \"#f0f921\"]], \"type\": \"heatmap\"}], \"heatmapgl\": [{\"colorbar\": {\"outlinewidth\": 0, \"ticks\": \"\"}, \"colorscale\": [[0.0, \"#0d0887\"], [0.1111111111111111, \"#46039f\"], [0.2222222222222222, \"#7201a8\"], [0.3333333333333333, \"#9c179e\"], [0.4444444444444444, \"#bd3786\"], [0.5555555555555556, \"#d8576b\"], [0.6666666666666666, \"#ed7953\"], [0.7777777777777778, \"#fb9f3a\"], [0.8888888888888888, \"#fdca26\"], [1.0, \"#f0f921\"]], \"type\": \"heatmapgl\"}], \"histogram\": [{\"marker\": {\"colorbar\": {\"outlinewidth\": 0, \"ticks\": \"\"}}, \"type\": \"histogram\"}], \"histogram2d\": [{\"colorbar\": {\"outlinewidth\": 0, \"ticks\": \"\"}, \"colorscale\": [[0.0, \"#0d0887\"], [0.1111111111111111, \"#46039f\"], [0.2222222222222222, \"#7201a8\"], [0.3333333333333333, \"#9c179e\"], [0.4444444444444444, \"#bd3786\"], [0.5555555555555556, \"#d8576b\"], [0.6666666666666666, \"#ed7953\"], [0.7777777777777778, \"#fb9f3a\"], [0.8888888888888888, \"#fdca26\"], [1.0, \"#f0f921\"]], \"type\": \"histogram2d\"}], \"histogram2dcontour\": [{\"colorbar\": {\"outlinewidth\": 0, \"ticks\": \"\"}, \"colorscale\": [[0.0, \"#0d0887\"], [0.1111111111111111, \"#46039f\"], [0.2222222222222222, \"#7201a8\"], [0.3333333333333333, \"#9c179e\"], [0.4444444444444444, \"#bd3786\"], [0.5555555555555556, \"#d8576b\"], [0.6666666666666666, \"#ed7953\"], [0.7777777777777778, \"#fb9f3a\"], [0.8888888888888888, \"#fdca26\"], [1.0, \"#f0f921\"]], \"type\": \"histogram2dcontour\"}], \"mesh3d\": [{\"colorbar\": {\"outlinewidth\": 0, \"ticks\": \"\"}, \"type\": \"mesh3d\"}], \"parcoords\": [{\"line\": {\"colorbar\": {\"outlinewidth\": 0, \"ticks\": \"\"}}, \"type\": \"parcoords\"}], \"pie\": [{\"automargin\": true, \"type\": \"pie\"}], \"scatter\": [{\"marker\": {\"colorbar\": {\"outlinewidth\": 0, \"ticks\": \"\"}}, \"type\": \"scatter\"}], \"scatter3d\": [{\"line\": {\"colorbar\": {\"outlinewidth\": 0, \"ticks\": \"\"}}, \"marker\": {\"colorbar\": {\"outlinewidth\": 0, \"ticks\": \"\"}}, \"type\": \"scatter3d\"}], \"scattercarpet\": [{\"marker\": {\"colorbar\": {\"outlinewidth\": 0, \"ticks\": \"\"}}, \"type\": \"scattercarpet\"}], \"scattergeo\": [{\"marker\": {\"colorbar\": {\"outlinewidth\": 0, \"ticks\": \"\"}}, \"type\": \"scattergeo\"}], \"scattergl\": [{\"marker\": {\"colorbar\": {\"outlinewidth\": 0, \"ticks\": \"\"}}, \"type\": \"scattergl\"}], \"scattermapbox\": [{\"marker\": {\"colorbar\": {\"outlinewidth\": 0, \"ticks\": \"\"}}, \"type\": \"scattermapbox\"}], \"scatterpolar\": [{\"marker\": {\"colorbar\": {\"outlinewidth\": 0, \"ticks\": \"\"}}, \"type\": \"scatterpolar\"}], \"scatterpolargl\": [{\"marker\": {\"colorbar\": {\"outlinewidth\": 0, \"ticks\": \"\"}}, \"type\": \"scatterpolargl\"}], \"scatterternary\": [{\"marker\": {\"colorbar\": {\"outlinewidth\": 0, \"ticks\": \"\"}}, \"type\": \"scatterternary\"}], \"surface\": [{\"colorbar\": {\"outlinewidth\": 0, \"ticks\": \"\"}, \"colorscale\": [[0.0, \"#0d0887\"], [0.1111111111111111, \"#46039f\"], [0.2222222222222222, \"#7201a8\"], [0.3333333333333333, \"#9c179e\"], [0.4444444444444444, \"#bd3786\"], [0.5555555555555556, \"#d8576b\"], [0.6666666666666666, \"#ed7953\"], [0.7777777777777778, \"#fb9f3a\"], [0.8888888888888888, \"#fdca26\"], [1.0, \"#f0f921\"]], \"type\": \"surface\"}], \"table\": [{\"cells\": {\"fill\": {\"color\": \"#EBF0F8\"}, \"line\": {\"color\": \"white\"}}, \"header\": {\"fill\": {\"color\": \"#C8D4E3\"}, \"line\": {\"color\": \"white\"}}, \"type\": \"table\"}]}, \"layout\": {\"annotationdefaults\": {\"arrowcolor\": \"#2a3f5f\", \"arrowhead\": 0, \"arrowwidth\": 1}, \"coloraxis\": {\"colorbar\": {\"outlinewidth\": 0, \"ticks\": \"\"}}, \"colorscale\": {\"diverging\": [[0, \"#8e0152\"], [0.1, \"#c51b7d\"], [0.2, \"#de77ae\"], [0.3, \"#f1b6da\"], [0.4, \"#fde0ef\"], [0.5, \"#f7f7f7\"], [0.6, \"#e6f5d0\"], [0.7, \"#b8e186\"], [0.8, \"#7fbc41\"], [0.9, \"#4d9221\"], [1, \"#276419\"]], \"sequential\": [[0.0, \"#0d0887\"], [0.1111111111111111, \"#46039f\"], [0.2222222222222222, \"#7201a8\"], [0.3333333333333333, \"#9c179e\"], [0.4444444444444444, \"#bd3786\"], [0.5555555555555556, \"#d8576b\"], [0.6666666666666666, \"#ed7953\"], [0.7777777777777778, \"#fb9f3a\"], [0.8888888888888888, \"#fdca26\"], [1.0, \"#f0f921\"]], \"sequentialminus\": [[0.0, \"#0d0887\"], [0.1111111111111111, \"#46039f\"], [0.2222222222222222, \"#7201a8\"], [0.3333333333333333, \"#9c179e\"], [0.4444444444444444, \"#bd3786\"], [0.5555555555555556, \"#d8576b\"], [0.6666666666666666, \"#ed7953\"], [0.7777777777777778, \"#fb9f3a\"], [0.8888888888888888, \"#fdca26\"], [1.0, \"#f0f921\"]]}, \"colorway\": [\"#636efa\", \"#EF553B\", \"#00cc96\", \"#ab63fa\", \"#FFA15A\", \"#19d3f3\", \"#FF6692\", \"#B6E880\", \"#FF97FF\", \"#FECB52\"], \"font\": {\"color\": \"#2a3f5f\"}, \"geo\": {\"bgcolor\": \"white\", \"lakecolor\": \"white\", \"landcolor\": \"#E5ECF6\", \"showlakes\": true, \"showland\": true, \"subunitcolor\": \"white\"}, \"hoverlabel\": {\"align\": \"left\"}, \"hovermode\": \"closest\", \"mapbox\": {\"style\": \"light\"}, \"paper_bgcolor\": \"white\", \"plot_bgcolor\": \"#E5ECF6\", \"polar\": {\"angularaxis\": {\"gridcolor\": \"white\", \"linecolor\": \"white\", \"ticks\": \"\"}, \"bgcolor\": \"#E5ECF6\", \"radialaxis\": {\"gridcolor\": \"white\", \"linecolor\": \"white\", \"ticks\": \"\"}}, \"scene\": {\"xaxis\": {\"backgroundcolor\": \"#E5ECF6\", \"gridcolor\": \"white\", \"gridwidth\": 2, \"linecolor\": \"white\", \"showbackground\": true, \"ticks\": \"\", \"zerolinecolor\": \"white\"}, \"yaxis\": {\"backgroundcolor\": \"#E5ECF6\", \"gridcolor\": \"white\", \"gridwidth\": 2, \"linecolor\": \"white\", \"showbackground\": true, \"ticks\": \"\", \"zerolinecolor\": \"white\"}, \"zaxis\": {\"backgroundcolor\": \"#E5ECF6\", \"gridcolor\": \"white\", \"gridwidth\": 2, \"linecolor\": \"white\", \"showbackground\": true, \"ticks\": \"\", \"zerolinecolor\": \"white\"}}, \"shapedefaults\": {\"line\": {\"color\": \"#2a3f5f\"}}, \"ternary\": {\"aaxis\": {\"gridcolor\": \"white\", \"linecolor\": \"white\", \"ticks\": \"\"}, \"baxis\": {\"gridcolor\": \"white\", \"linecolor\": \"white\", \"ticks\": \"\"}, \"bgcolor\": \"#E5ECF6\", \"caxis\": {\"gridcolor\": \"white\", \"linecolor\": \"white\", \"ticks\": \"\"}}, \"title\": {\"x\": 0.05}, \"xaxis\": {\"automargin\": true, \"gridcolor\": \"white\", \"linecolor\": \"white\", \"ticks\": \"\", \"title\": {\"standoff\": 15}, \"zerolinecolor\": \"white\", \"zerolinewidth\": 2}, \"yaxis\": {\"automargin\": true, \"gridcolor\": \"white\", \"linecolor\": \"white\", \"ticks\": \"\", \"title\": {\"standoff\": 15}, \"zerolinecolor\": \"white\", \"zerolinewidth\": 2}}}},                        {\"responsive\": true}                    ).then(function(){\n",
       "                            \n",
       "var gd = document.getElementById('40ba56ab-b18c-4ecd-b880-f929f44d385b');\n",
       "var x = new MutationObserver(function (mutations, observer) {{\n",
       "        var display = window.getComputedStyle(gd).display;\n",
       "        if (!display || display === 'none') {{\n",
       "            console.log([gd, 'removed!']);\n",
       "            Plotly.purge(gd);\n",
       "            observer.disconnect();\n",
       "        }}\n",
       "}});\n",
       "\n",
       "// Listen for the removal of the full notebook cells\n",
       "var notebookContainer = gd.closest('#notebook-container');\n",
       "if (notebookContainer) {{\n",
       "    x.observe(notebookContainer, {childList: true});\n",
       "}}\n",
       "\n",
       "// Listen for the clearing of the current output cell\n",
       "var outputEl = gd.closest('.output');\n",
       "if (outputEl) {{\n",
       "    x.observe(outputEl, {childList: true});\n",
       "}}\n",
       "\n",
       "                        })                };                });            </script>        </div>"
      ]
     },
     "metadata": {},
     "output_type": "display_data"
    }
   ],
   "source": [
    "#Plotting functions\n",
    "\n",
    "def plot_transition_vs_intensity(df):\n",
    "    fig = px.bar(df, x=\"Transition\", y=\"Intensity\", color=\"Lipid\", hover_data=['Lipid', 'Class'])\n",
    "    fig.show()\n",
    "\n",
    "def plot_class_vs_intensity_bar(df):\n",
    "    fig = px.bar(df, x=\"Class\", y=\"Intensity\", color=\"Class\", hover_data=['Lipid', 'Class'])\n",
    "    fig.show()\n",
    "\n",
    "def plot_class_vs_intensity_pie(df):\n",
    "    fig = px.pie(df, values='Intensity', names='Class', title='Lipid Class')\n",
    "    fig.show()\n",
    "\n",
    "def plot_intensity_heatmap(df):\n",
    "    fig = go.Figure(data=go.Heatmap(\n",
    "        z=df['Intensity'],\n",
    "        x=df['Lipid'],\n",
    "        y=df['Class'],\n",
    "        colorscale='Viridis'))\n",
    "    fig.show()\n",
    "\n",
    "# Example usage:\n",
    "# Assuming you have the df_matching DataFrame\n",
    "plot_transition_vs_intensity(df_matched)\n",
    "plot_class_vs_intensity_bar(df_matched)\n",
    "plot_class_vs_intensity_pie(df_matched)\n",
    "plot_intensity_heatmap(df_matched)\n"
   ]
  },
  {
   "cell_type": "code",
   "execution_count": null,
   "metadata": {},
   "outputs": [],
   "source": []
  }
 ],
 "metadata": {
  "kernelspec": {
   "display_name": "Python 3 (ipykernel)",
   "language": "python",
   "name": "python3"
  },
  "language_info": {
   "codemirror_mode": {
    "name": "ipython",
    "version": 3
   },
   "file_extension": ".py",
   "mimetype": "text/x-python",
   "name": "python",
   "nbconvert_exporter": "python",
   "pygments_lexer": "ipython3",
   "version": "3.9.15"
  },
  "vscode": {
   "interpreter": {
    "hash": "7f59e923a9cab402a21ecdd8c8501a7d121113b28792a99acb445fcdcb4f42c3"
   }
  }
 },
 "nbformat": 4,
 "nbformat_minor": 2
}
