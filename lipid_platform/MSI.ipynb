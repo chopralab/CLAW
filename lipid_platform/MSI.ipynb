{
 "cells": [
  {
   "cell_type": "code",
   "execution_count": 8,
   "id": "9eb09b98",
   "metadata": {},
   "outputs": [
    {
     "name": "stderr",
     "output_type": "stream",
     "text": [
      "/tmp/ipykernel_81383/176259074.py:37: MatplotlibDeprecationWarning:\n",
      "\n",
      "The 'drawtype' parameter of __init__() was deprecated in Matplotlib 3.5 and will be removed two minor releases later. If any parameter follows 'drawtype', they should be passed as keyword, not positionally.\n",
      "\n"
     ]
    },
    {
     "data": {
      "application/vnd.jupyter.widget-view+json": {
       "model_id": "ca64128fd4bd4226abae08b6e042c0d1",
       "version_major": 2,
       "version_minor": 0
      },
      "image/png": "[encoded data removed]",
      "text/html": [
       "\n",
       "            <div style=\"display: inline-block;\">\n",
       "                <div class=\"jupyter-widgets widget-label\" style=\"text-align: center;\">\n",
       "                    Figure\n",
       "                </div>\n",
       "                <img src='data:image/png;base64,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' width=640.0/>\n",
       "            </div>\n",
       "        "
      ],
      "text/plain": [
       "Canvas(toolbar=Toolbar(toolitems=[('Home', 'Reset original view', 'home', 'home'), ('Back', 'Back to previous …"
      ]
     },
     "metadata": {},
     "output_type": "display_data"
    },
    {
     "data": {
      "application/vnd.jupyter.widget-view+json": {
       "model_id": "fe9ef53d2a8845aabd7a802183a9fea3",
       "version_major": 2,
       "version_minor": 0
      },
      "text/plain": [
       "Button(description='Calculate averages', style=ButtonStyle())"
      ]
     },
     "metadata": {},
     "output_type": "display_data"
    }
   ],
   "source": [
    "%matplotlib widget\n",
    "\n",
    "import numpy as np\n",
    "import matplotlib.pyplot as plt\n",
    "from matplotlib.widgets import RectangleSelector\n",
    "from ipywidgets import widgets\n",
    "\n",
    "# Let's consider a 3D numpy array for demonstration\n",
    "# For each (x, y), we have a 1D array of length 5\n",
    "data = np.random.rand(10, 10, 5)\n",
    "\n",
    "# Create a 2D projection by summing along the third dimension\n",
    "data_2d = data.sum(axis=2)\n",
    "\n",
    "fig, ax = plt.subplots()\n",
    "heatmap = ax.imshow(data_2d, cmap='viridis')\n",
    "\n",
    "coords = []\n",
    "\n",
    "def line_select_callback(eclick, erelease):\n",
    "    'eclick and erelease are matplotlib events at press and release.'\n",
    "    x1, y1 = int(round(eclick.xdata)), int(round(eclick.ydata))\n",
    "    x2, y2 = int(round(erelease.xdata)), int(round(erelease.ydata))\n",
    "    coords.append((x1, y1, x2, y2))\n",
    "    print(f'Selected points: {x1, y1, x2, y2}')\n",
    "\n",
    "def on_button_clicked(b):\n",
    "    global vector_\n",
    "    vector_ = []\n",
    "    for coord in coords:\n",
    "        x1, y1, x2, y2 = coord\n",
    "        selected_data = data[y1:y2, x1:x2].mean(axis=(0, 1))\n",
    "        vector_.append(selected_data)\n",
    "        print(f'Average for region ({x1}, {y1}, {x2}, {y2}): {selected_data}')\n",
    "\n",
    "# Draw rectangle regions\n",
    "rs = RectangleSelector(ax, line_select_callback,\n",
    "                       drawtype='box', useblit=True,\n",
    "                       button=[1, 3],  # don't use middle button\n",
    "                       minspanx=5, minspany=5,\n",
    "                       spancoords='pixels',\n",
    "                       interactive=True)\n",
    "plt.show()\n",
    "\n",
    "# Add a button that when clicked, will trigger the calculation of the averages\n",
    "button = widgets.Button(description=\"Calculate averages\")\n",
    "display(button)\n",
    "button.on_click(on_button_clicked)\n"
   ]
  },
  {
   "cell_type": "code",
   "execution_count": 6,
   "id": "525c6202",
   "metadata": {},
   "outputs": [
    {
     "name": "stdout",
     "output_type": "stream",
     "text": [
      "Collecting ipympl\n",
      "  Downloading ipympl-0.9.3-py2.py3-none-any.whl (511 kB)\n",
      "\u001b[2K     \u001b[38;2;114;156;31m━━━━━━━━━━━━━━━━━━━━━━━━━━━━━━━━━━━━━━\u001b[0m \u001b[32m511.6/511.6 kB\u001b[0m \u001b[31m10.7 MB/s\u001b[0m eta \u001b[36m0:00:00\u001b[0m[36m0:00:01\u001b[0m\n",
      "\u001b[?25hRequirement already satisfied: numpy in /home/cbeveri/.conda/envs/cent7/2020.11-py38/lipid_parser2/lib/python3.9/site-packages (from ipympl) (1.23.5)\n",
      "Requirement already satisfied: traitlets<6 in /home/cbeveri/.conda/envs/cent7/2020.11-py38/lipid_parser2/lib/python3.9/site-packages (from ipympl) (5.9.0)\n",
      "Requirement already satisfied: ipython-genutils in /home/cbeveri/.conda/envs/cent7/2020.11-py38/lipid_parser2/lib/python3.9/site-packages (from ipympl) (0.2.0)\n",
      "Requirement already satisfied: matplotlib<4,>=3.4.0 in /home/cbeveri/.conda/envs/cent7/2020.11-py38/lipid_parser2/lib/python3.9/site-packages (from ipympl) (3.6.2)\n",
      "Requirement already satisfied: ipywidgets<9,>=7.6.0 in /home/cbeveri/.conda/envs/cent7/2020.11-py38/lipid_parser2/lib/python3.9/site-packages (from ipympl) (8.0.6)\n",
      "Requirement already satisfied: pillow in /home/cbeveri/.conda/envs/cent7/2020.11-py38/lipid_parser2/lib/python3.9/site-packages (from ipympl) (9.4.0)\n",
      "Requirement already satisfied: ipython<9 in /home/cbeveri/.conda/envs/cent7/2020.11-py38/lipid_parser2/lib/python3.9/site-packages (from ipympl) (8.6.0)\n",
      "Requirement already satisfied: pickleshare in /home/cbeveri/.conda/envs/cent7/2020.11-py38/lipid_parser2/lib/python3.9/site-packages (from ipython<9->ipympl) (0.7.5)\n",
      "Requirement already satisfied: pygments>=2.4.0 in /home/cbeveri/.conda/envs/cent7/2020.11-py38/lipid_parser2/lib/python3.9/site-packages (from ipython<9->ipympl) (2.11.2)\n",
      "Requirement already satisfied: backcall in /home/cbeveri/.conda/envs/cent7/2020.11-py38/lipid_parser2/lib/python3.9/site-packages (from ipython<9->ipympl) (0.2.0)\n",
      "Requirement already satisfied: stack-data in /home/cbeveri/.conda/envs/cent7/2020.11-py38/lipid_parser2/lib/python3.9/site-packages (from ipython<9->ipympl) (0.2.0)\n",
      "Requirement already satisfied: pexpect>4.3 in /home/cbeveri/.conda/envs/cent7/2020.11-py38/lipid_parser2/lib/python3.9/site-packages (from ipython<9->ipympl) (4.8.0)\n",
      "Requirement already satisfied: matplotlib-inline in /home/cbeveri/.conda/envs/cent7/2020.11-py38/lipid_parser2/lib/python3.9/site-packages (from ipython<9->ipympl) (0.1.6)\n",
      "Requirement already satisfied: decorator in /home/cbeveri/.conda/envs/cent7/2020.11-py38/lipid_parser2/lib/python3.9/site-packages (from ipython<9->ipympl) (5.1.1)\n",
      "Requirement already satisfied: jedi>=0.16 in /home/cbeveri/.conda/envs/cent7/2020.11-py38/lipid_parser2/lib/python3.9/site-packages (from ipython<9->ipympl) (0.18.1)\n",
      "Requirement already satisfied: prompt-toolkit<3.1.0,>3.0.1 in /home/cbeveri/.conda/envs/cent7/2020.11-py38/lipid_parser2/lib/python3.9/site-packages (from ipython<9->ipympl) (3.0.38)\n",
      "Requirement already satisfied: ipykernel>=4.5.1 in /home/cbeveri/.conda/envs/cent7/2020.11-py38/lipid_parser2/lib/python3.9/site-packages (from ipywidgets<9,>=7.6.0->ipympl) (6.15.2)\n",
      "Requirement already satisfied: widgetsnbextension~=4.0.7 in /home/cbeveri/.conda/envs/cent7/2020.11-py38/lipid_parser2/lib/python3.9/site-packages (from ipywidgets<9,>=7.6.0->ipympl) (4.0.7)\n",
      "Requirement already satisfied: jupyterlab-widgets~=3.0.7 in /home/cbeveri/.conda/envs/cent7/2020.11-py38/lipid_parser2/lib/python3.9/site-packages (from ipywidgets<9,>=7.6.0->ipympl) (3.0.7)\n",
      "Requirement already satisfied: cycler>=0.10 in /home/cbeveri/.conda/envs/cent7/2020.11-py38/lipid_parser2/lib/python3.9/site-packages (from matplotlib<4,>=3.4.0->ipympl) (0.11.0)\n",
      "Requirement already satisfied: fonttools>=4.22.0 in /home/cbeveri/.conda/envs/cent7/2020.11-py38/lipid_parser2/lib/python3.9/site-packages (from matplotlib<4,>=3.4.0->ipympl) (4.38.0)\n",
      "Requirement already satisfied: contourpy>=1.0.1 in /home/cbeveri/.conda/envs/cent7/2020.11-py38/lipid_parser2/lib/python3.9/site-packages (from matplotlib<4,>=3.4.0->ipympl) (1.0.6)\n",
      "Requirement already satisfied: pyparsing>=2.2.1 in /home/cbeveri/.conda/envs/cent7/2020.11-py38/lipid_parser2/lib/python3.9/site-packages (from matplotlib<4,>=3.4.0->ipympl) (3.0.9)\n",
      "Requirement already satisfied: kiwisolver>=1.0.1 in /home/cbeveri/.conda/envs/cent7/2020.11-py38/lipid_parser2/lib/python3.9/site-packages (from matplotlib<4,>=3.4.0->ipympl) (1.4.4)\n",
      "Requirement already satisfied: packaging>=20.0 in /home/cbeveri/.conda/envs/cent7/2020.11-py38/lipid_parser2/lib/python3.9/site-packages (from matplotlib<4,>=3.4.0->ipympl) (22.0)\n",
      "Requirement already satisfied: python-dateutil>=2.7 in /home/cbeveri/.conda/envs/cent7/2020.11-py38/lipid_parser2/lib/python3.9/site-packages (from matplotlib<4,>=3.4.0->ipympl) (2.8.2)\n",
      "Requirement already satisfied: jupyter-client>=6.1.12 in /home/cbeveri/.conda/envs/cent7/2020.11-py38/lipid_parser2/lib/python3.9/site-packages (from ipykernel>=4.5.1->ipywidgets<9,>=7.6.0->ipympl) (7.4.7)\n",
      "Requirement already satisfied: nest-asyncio in /home/cbeveri/.conda/envs/cent7/2020.11-py38/lipid_parser2/lib/python3.9/site-packages (from ipykernel>=4.5.1->ipywidgets<9,>=7.6.0->ipympl) (1.5.5)\n",
      "Requirement already satisfied: psutil in /home/cbeveri/.conda/envs/cent7/2020.11-py38/lipid_parser2/lib/python3.9/site-packages (from ipykernel>=4.5.1->ipywidgets<9,>=7.6.0->ipympl) (5.9.0)\n",
      "Requirement already satisfied: debugpy>=1.0 in /home/cbeveri/.conda/envs/cent7/2020.11-py38/lipid_parser2/lib/python3.9/site-packages (from ipykernel>=4.5.1->ipywidgets<9,>=7.6.0->ipympl) (1.5.1)\n",
      "Requirement already satisfied: tornado>=6.1 in /home/cbeveri/.conda/envs/cent7/2020.11-py38/lipid_parser2/lib/python3.9/site-packages (from ipykernel>=4.5.1->ipywidgets<9,>=7.6.0->ipympl) (6.2)\n",
      "Requirement already satisfied: pyzmq>=17 in /home/cbeveri/.conda/envs/cent7/2020.11-py38/lipid_parser2/lib/python3.9/site-packages (from ipykernel>=4.5.1->ipywidgets<9,>=7.6.0->ipympl) (25.0.2)\n",
      "Requirement already satisfied: parso<0.9.0,>=0.8.0 in /home/cbeveri/.conda/envs/cent7/2020.11-py38/lipid_parser2/lib/python3.9/site-packages (from jedi>=0.16->ipython<9->ipympl) (0.8.3)\n",
      "Requirement already satisfied: ptyprocess>=0.5 in /home/cbeveri/.conda/envs/cent7/2020.11-py38/lipid_parser2/lib/python3.9/site-packages (from pexpect>4.3->ipython<9->ipympl) (0.7.0)\n",
      "Requirement already satisfied: wcwidth in /home/cbeveri/.conda/envs/cent7/2020.11-py38/lipid_parser2/lib/python3.9/site-packages (from prompt-toolkit<3.1.0,>3.0.1->ipython<9->ipympl) (0.2.5)\n",
      "Requirement already satisfied: six>=1.5 in /home/cbeveri/.conda/envs/cent7/2020.11-py38/lipid_parser2/lib/python3.9/site-packages (from python-dateutil>=2.7->matplotlib<4,>=3.4.0->ipympl) (1.16.0)\n",
      "Requirement already satisfied: asttokens in /home/cbeveri/.conda/envs/cent7/2020.11-py38/lipid_parser2/lib/python3.9/site-packages (from stack-data->ipython<9->ipympl) (2.0.5)\n",
      "Requirement already satisfied: pure-eval in /home/cbeveri/.conda/envs/cent7/2020.11-py38/lipid_parser2/lib/python3.9/site-packages (from stack-data->ipython<9->ipympl) (0.2.2)\n",
      "Requirement already satisfied: executing in /home/cbeveri/.conda/envs/cent7/2020.11-py38/lipid_parser2/lib/python3.9/site-packages (from stack-data->ipython<9->ipympl) (0.8.3)\n",
      "Requirement already satisfied: jupyter-core>=4.9.2 in /home/cbeveri/.conda/envs/cent7/2020.11-py38/lipid_parser2/lib/python3.9/site-packages (from jupyter-client>=6.1.12->ipykernel>=4.5.1->ipywidgets<9,>=7.6.0->ipympl) (5.3.0)\n",
      "Requirement already satisfied: entrypoints in /home/cbeveri/.conda/envs/cent7/2020.11-py38/lipid_parser2/lib/python3.9/site-packages (from jupyter-client>=6.1.12->ipykernel>=4.5.1->ipywidgets<9,>=7.6.0->ipympl) (0.4)\n",
      "Requirement already satisfied: platformdirs>=2.5 in /home/cbeveri/.conda/envs/cent7/2020.11-py38/lipid_parser2/lib/python3.9/site-packages (from jupyter-core>=4.9.2->jupyter-client>=6.1.12->ipykernel>=4.5.1->ipywidgets<9,>=7.6.0->ipympl) (2.6.2)\n",
      "Installing collected packages: ipympl\n",
      "Successfully installed ipympl-0.9.3\n"
     ]
    }
   ],
   "source": [
    "!pip install ipympl"
   ]
  },
  {
   "cell_type": "code",
   "execution_count": null,
   "id": "2b05c907",
   "metadata": {},
   "outputs": [],
   "source": []
  },
  {
   "cell_type": "code",
   "execution_count": null,
   "id": "897c1ec4",
   "metadata": {},
   "outputs": [],
   "source": []
  },
  {
   "cell_type": "code",
   "execution_count": null,
   "id": "2444778d",
   "metadata": {},
   "outputs": [],
   "source": []
  },
  {
   "cell_type": "code",
   "execution_count": null,
   "id": "50289947",
   "metadata": {},
   "outputs": [],
   "source": []
  }
 ],
 "metadata": {
  "kernelspec": {
   "display_name": "Python 3 (ipykernel)",
   "language": "python",
   "name": "python3"
  },
  "language_info": {
   "codemirror_mode": {
    "name": "ipython",
    "version": 3
   },
   "file_extension": ".py",
   "mimetype": "text/x-python",
   "name": "python",
   "nbconvert_exporter": "python",
   "pygments_lexer": "ipython3",
   "version": "3.9.15"
  }
 },
 "nbformat": 4,
 "nbformat_minor": 5
}
