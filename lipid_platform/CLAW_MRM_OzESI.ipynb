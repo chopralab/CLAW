{
 "cells": [
  {
   "cell_type": "code",
   "execution_count": 18,
   "metadata": {},
   "outputs": [],
   "source": [
    "from IPython.display import display, Image, clear_output"
   ]
  },
  {
   "cell_type": "markdown",
   "metadata": {},
   "source": [
    "# Comprehensive Lipidome Automation Workflow (CLAW)\n",
    "\n",
    "Welcome to CLAW_v2, a tool designed to facilitate and optimize the processing of lipidomic MRM data. This Jupyter notebook encapsulates a suite of tools that streamline the various stages of lipidomics data analysis.\n",
    "\n",
    "Our toolset enables users to efficiently process MRM data files in the mzML format. Upload a file and CLAW_v2 will parse the data into a structured Pandas dataframe. This dataframe includes critical information like sample_ID, MRM transition, and signal intensity. Furthermore, our tool aligns each MRM transition with a default or custom lipid_database for accurate and swift annotation.\n",
    "\n",
    "Moreover, CLAW_v2 is equipped with an OzESI option, a tool to elucidate the double bond location in lipid isomers. This feature allows users to input OzESI data and pinpoint the precise location of double bonds in isomeric lipids. Users have the flexibility to select which double bond locations they want to analyze. Following this, CLAW_v2 autonomously predicts potential m/z values and cross-references these predictions with sample data, ensuring a comprehensive and meticulous analysis.\n",
    "\n",
    "With automation at its core, CLAW_v2 eliminates the need for manual data processing, significantly reducing time expenditure. It is a robust and invaluable tool for handling large volumes of lipid MRM data, accelerating scientific discovery in the field of lipidomics."
   ]
  },
  {
   "cell_type": "code",
   "execution_count": 1,
   "metadata": {},
   "outputs": [
    {
     "name": "stdout",
     "output_type": "stream",
     "text": [
      "No module named 'ms_deisotope._c.averagine' averagine\n",
      "No module named 'ms_deisotope._c.scoring'\n",
      "No module named 'ms_deisotope._c.deconvoluter_base'\n",
      "No module named 'ms_deisotope._c.deconvoluter_base'\n",
      "No module named 'ms_deisotope._c.deconvoluter_base'\n"
     ]
    }
   ],
   "source": [
    "#Import all the necessary python libraries\n",
    "import pymzml\n",
    "import csv\n",
    "import os\n",
    "import pandas as pd\n",
    "import numpy as np\n",
    "import plotly.graph_objs as go\n",
    "import json\n",
    "\n",
    "#Import all the necessary CLAW_v2 libraries\n",
    "import create_directory\n",
    "import CLAW_v2"
   ]
  },
  {
   "cell_type": "markdown",
   "metadata": {},
   "source": [
    "## Directory and File Management\n",
    "For structured data management and efficient workflow, the system first ensures the presence of an output directory. If such a directory doesn't already exist, it will be created."
   ]
  },
  {
   "cell_type": "code",
   "execution_count": 2,
   "metadata": {},
   "outputs": [],
   "source": [
    "# # # Create the output directory if it doesn't exist\n",
    "# create_directory.create_project_folder()\n"
   ]
  },
  {
   "cell_type": "markdown",
   "metadata": {},
   "source": [
    "The name of the project (in this case 'test_py') is defined next. This is important as the created directory will bear this name, allowing users to manage and identify their data with ease.\n",
    "\n",
    "After the mzML files are uploaded to the designated mzML folder, the next block of code segregates these files based on their characteristics. More specifically, it filters the files and transfers them to respective folders named 'o3on' and 'o2only'."
   ]
  },
  {
   "cell_type": "code",
   "execution_count": 2,
   "metadata": {},
   "outputs": [
    {
     "name": "stdout",
     "output_type": "stream",
     "text": [
      "One or both of the destination directories 'Projects/canola/o3on' and 'Projects/canola/o2only' do not exist.\n"
     ]
    }
   ],
   "source": [
    "name_of_project = 'canola'\n",
    "#After you load mzml files to mzml folder. this will filter the files and move them to o3on and o2only folders\n",
    "create_directory.filter_o3mzml_files(name_of_project)"
   ]
  },
  {
   "cell_type": "markdown",
   "metadata": {},
   "source": [
    "## Pre-Parsing Setup\n",
    "The following block of code takes the preset variable values and uses them to parse the mzML files. The parsed data, including the sample ID, MRM transitions, and intensities, is stored in a pandas dataframe for easy manipulation and analysis.\n",
    "\n",
    "The function CLAW_v2.parsing_mzml_to_df takes several arguments. data_base_name_location is the location of the lipid database that contains information on lipid classes, fatty acid chains, and their corresponding MRM transitions. Project_Folder_data is the location of the mzML files for the samples to be analyzed. tolerance defines the acceptable range of deviation for the MRM transitions when matching them with the lipid database. The argument remove_std is a boolean that, when True, indicates to remove the MRM transitions that correspond to standards (internal or external) present in the samples.\n",
    "\n",
    "The function outputs a pandas dataframe (df) where each row corresponds to an MRM transition detected in a sample, and columns include the sample ID, MRM transition, and intensity of the transition, among other values."
   ]
  },
  {
   "cell_type": "code",
   "execution_count": 3,
   "metadata": {},
   "outputs": [
    {
     "name": "stdout",
     "output_type": "stream",
     "text": [
      "data_base_name_location: lipid_database/Lipid_Database.xlsx\n",
      "Project: ./Projects/\n",
      "Project_Name: canola\n",
      "Project_Folder_data: ./Projects/canola/mzml/o3on/\n",
      "Project_results: ./Projects/canola/results/\n",
      "file_name_to_save: canola\n",
      "tolerance: 0.3\n",
      "remove_std: True\n",
      "save_data: True\n"
     ]
    }
   ],
   "source": [
    "# Set default values\n",
    "data_base_name_location = 'lipid_database/Lipid_Database.xlsx'\n",
    "Project = './Projects/'\n",
    "Project_Name = 'canola'\n",
    "Project_Folder_data = Project + Project_Name + '/mzml/o3on/'\n",
    "Project_results = Project + Project_Name + '/results/'\n",
    "file_name_to_save = 'canola'\n",
    "tolerance = 0.3\n",
    "remove_std = True\n",
    "save_data = True\n",
    "\n",
    "# # Define the data frame to store the data\n",
    "# OzESI_time_df = pd.DataFrame(columns=['Lipid', 'Parent_Ion', 'Product_Ion', 'Intensity', 'Transition', 'Class', 'Sample_ID', 'Retention_Time', 'OzESI_Intensity'])\n",
    "# time_and_intensity_df = pd.DataFrame(columns=['Time', 'Intensity'])\n",
    "\n",
    "# Call pre_parsing_setup to initialize the variables\n",
    "data_base_name_location, Project_Folder_data, Project_results, file_name_to_save, tolerance, remove_std, save_data = CLAW_v2.pre_parsing_setup(data_base_name_location,\n",
    " Project, \n",
    " Project_Name, \n",
    " Project_Folder_data,\n",
    " Project_results, \n",
    " file_name_to_save, \n",
    " tolerance, \n",
    " remove_std,\n",
    " save_data)\n"
   ]
  },
  {
   "cell_type": "markdown",
   "metadata": {},
   "source": [
    "## CLAW_v2.full_parse()\n",
    "In this code, the `CLAW_v2.full_parse()` function is used to analyze the MRM data. It takes several parameters like the location of the lipid database, paths to the data and results folders, the name of the result files, and the tolerance for MRM transitions matching. The function returns two dataframes: `df_matched` that contains information about each detected lipid species and their corresponding MRM transitions, and `OzESI_time_df` which captures data related to OzESI-MS scans, including potential double bond locations of lipids. If `remove_std` is `True`, it removes MRM transitions related to standards from the dataframe, and if `save_data` is `True`, the dataframe is saved as a .csv file in the specified results folder."
   ]
  },
  {
   "cell_type": "code",
   "execution_count": 4,
   "metadata": {},
   "outputs": [],
   "source": [
    "time_and_intensity_df, master_df, OzESI_time_df = CLAW_v2.create_dataframes()\n",
    "\n"
   ]
  },
  {
   "cell_type": "code",
   "execution_count": 5,
   "metadata": {},
   "outputs": [
    {
     "name": "stderr",
     "output_type": "stream",
     "text": [
      "/home/sanjay/github/lipids/Lipidomics/lipid_platform/CLAW_v2.py:94: SettingWithCopyWarning: \n",
      "A value is trying to be set on a copy of a slice from a DataFrame.\n",
      "Try using .loc[row_indexer,col_indexer] = value instead\n",
      "\n",
      "See the caveats in the documentation: https://pandas.pydata.org/pandas-docs/stable/user_guide/indexing.html#returning-a-view-versus-a-copy\n",
      "  mrm_list_offical['Parent_Ion'] = np.round(mrm_list_offical['Parent_Ion'],1)\n",
      "/home/sanjay/github/lipids/Lipidomics/lipid_platform/CLAW_v2.py:95: SettingWithCopyWarning: \n",
      "A value is trying to be set on a copy of a slice from a DataFrame.\n",
      "Try using .loc[row_indexer,col_indexer] = value instead\n",
      "\n",
      "See the caveats in the documentation: https://pandas.pydata.org/pandas-docs/stable/user_guide/indexing.html#returning-a-view-versus-a-copy\n",
      "  mrm_list_offical['Product_Ion'] = np.round(mrm_list_offical['Product_Ion'],1)\n",
      "/home/sanjay/github/lipids/Lipidomics/lipid_platform/CLAW_v2.py:98: SettingWithCopyWarning: \n",
      "A value is trying to be set on a copy of a slice from a DataFrame.\n",
      "Try using .loc[row_indexer,col_indexer] = value instead\n",
      "\n",
      "See the caveats in the documentation: https://pandas.pydata.org/pandas-docs/stable/user_guide/indexing.html#returning-a-view-versus-a-copy\n",
      "  mrm_list_offical['Transition'] = mrm_list_offical['Parent_Ion'].astype(str) + ' -> ' + mrm_list_offical['Product_Ion'].astype(str)\n",
      "/home/sanjay/github/lipids/Lipidomics/lipid_platform/CLAW_v2.py:203: FutureWarning: The frame.append method is deprecated and will be removed from pandas in a future version. Use pandas.concat instead.\n",
      "  OzESI_time_df = OzESI_time_df.append(pd.DataFrame(ozesi_rows), ignore_index=True)\n",
      "/home/sanjay/github/lipids/Lipidomics/lipid_platform/CLAW_v2.py:204: FutureWarning: The frame.append method is deprecated and will be removed from pandas in a future version. Use pandas.concat instead.\n",
      "  master_df = master_df.append(df, ignore_index=True)\n"
     ]
    },
    {
     "name": "stdout",
     "output_type": "stream",
     "text": [
      "Finished parsing mzML file: ./Projects/canola/mzml/o3on/CrudeCanola_O3on_150gN3_02082023.mzML\n",
      "\n"
     ]
    },
    {
     "name": "stderr",
     "output_type": "stream",
     "text": [
      "/home/sanjay/github/lipids/Lipidomics/lipid_platform/CLAW_v2.py:203: FutureWarning: The frame.append method is deprecated and will be removed from pandas in a future version. Use pandas.concat instead.\n",
      "  OzESI_time_df = OzESI_time_df.append(pd.DataFrame(ozesi_rows), ignore_index=True)\n",
      "/home/sanjay/github/lipids/Lipidomics/lipid_platform/CLAW_v2.py:204: FutureWarning: The frame.append method is deprecated and will be removed from pandas in a future version. Use pandas.concat instead.\n",
      "  master_df = master_df.append(df, ignore_index=True)\n"
     ]
    },
    {
     "name": "stdout",
     "output_type": "stream",
     "text": [
      "Finished parsing mzML file: ./Projects/canola/mzml/o3on/DegummedCanola_O3on_150gN3_02082023.mzML\n",
      "\n",
      "Finished parsing mzML file: ./Projects/canola/mzml/o3on/RBDCanola_O3on_150gN3_02082023.mzML\n",
      "\n",
      "Finished parsing all mzML files\n",
      "\n"
     ]
    },
    {
     "name": "stderr",
     "output_type": "stream",
     "text": [
      "/home/sanjay/github/lipids/Lipidomics/lipid_platform/CLAW_v2.py:203: FutureWarning: The frame.append method is deprecated and will be removed from pandas in a future version. Use pandas.concat instead.\n",
      "  OzESI_time_df = OzESI_time_df.append(pd.DataFrame(ozesi_rows), ignore_index=True)\n",
      "/home/sanjay/github/lipids/Lipidomics/lipid_platform/CLAW_v2.py:204: FutureWarning: The frame.append method is deprecated and will be removed from pandas in a future version. Use pandas.concat instead.\n",
      "  master_df = master_df.append(df, ignore_index=True)\n"
     ]
    }
   ],
   "source": [
    "# Use the initialized variables as arguments to full_parse\n",
    "df_matched, OzESI_time_df = CLAW_v2.full_parse(data_base_name_location, \n",
    "                                               Project_Folder_data, \n",
    "                                               Project_results, \n",
    "                                               file_name_to_save, \n",
    "                                               tolerance, \n",
    "                                               remove_std=True, \n",
    "                                               save_data=False,\n",
    "                                               batch_processing=True)"
   ]
  },
  {
   "cell_type": "markdown",
   "metadata": {},
   "source": [
    "The `read_mrm_list()` function is first invoked to read the MRM database from the specified file location and return it as a pandas DataFrame `mrm_database`. Subsequently, the `match_lipids_parser()` function is called to match the detected lipids from the `OzESI_time_df` DataFrame, obtained from the OzESI-MS scans, with the known lipids in the `mrm_database` based on the MRM transitions within the specified `tolerance`. The result is saved in the `df_oz_matched` DataFrame, which now contains matched lipid species from the OzESI-MS data."
   ]
  },
  {
   "cell_type": "code",
   "execution_count": 7,
   "metadata": {},
   "outputs": [
    {
     "data": {
      "text/html": [
       "<div>\n",
       "<style scoped>\n",
       "    .dataframe tbody tr th:only-of-type {\n",
       "        vertical-align: middle;\n",
       "    }\n",
       "\n",
       "    .dataframe tbody tr th {\n",
       "        vertical-align: top;\n",
       "    }\n",
       "\n",
       "    .dataframe thead th {\n",
       "        text-align: right;\n",
       "    }\n",
       "</style>\n",
       "<table border=\"1\" class=\"dataframe\">\n",
       "  <thead>\n",
       "    <tr style=\"text-align: right;\">\n",
       "      <th></th>\n",
       "      <th>Parent_Ion</th>\n",
       "      <th>Product_Ion</th>\n",
       "      <th>Retention_Time</th>\n",
       "      <th>OzESI_Intensity</th>\n",
       "      <th>Sample_ID</th>\n",
       "      <th>Transition</th>\n",
       "    </tr>\n",
       "  </thead>\n",
       "  <tbody>\n",
       "    <tr>\n",
       "      <th>225352</th>\n",
       "      <td>904.8</td>\n",
       "      <td>605.6</td>\n",
       "      <td>34.931700</td>\n",
       "      <td>148.500015</td>\n",
       "      <td>RBDCanola_O3on_150gN3_02082023</td>\n",
       "      <td>904.8 -&gt; 605.6</td>\n",
       "    </tr>\n",
       "    <tr>\n",
       "      <th>225353</th>\n",
       "      <td>904.8</td>\n",
       "      <td>605.6</td>\n",
       "      <td>34.948000</td>\n",
       "      <td>131.800003</td>\n",
       "      <td>RBDCanola_O3on_150gN3_02082023</td>\n",
       "      <td>904.8 -&gt; 605.6</td>\n",
       "    </tr>\n",
       "    <tr>\n",
       "      <th>225354</th>\n",
       "      <td>904.8</td>\n",
       "      <td>605.6</td>\n",
       "      <td>34.964317</td>\n",
       "      <td>151.960007</td>\n",
       "      <td>RBDCanola_O3on_150gN3_02082023</td>\n",
       "      <td>904.8 -&gt; 605.6</td>\n",
       "    </tr>\n",
       "    <tr>\n",
       "      <th>225355</th>\n",
       "      <td>904.8</td>\n",
       "      <td>605.6</td>\n",
       "      <td>34.980617</td>\n",
       "      <td>137.700012</td>\n",
       "      <td>RBDCanola_O3on_150gN3_02082023</td>\n",
       "      <td>904.8 -&gt; 605.6</td>\n",
       "    </tr>\n",
       "    <tr>\n",
       "      <th>225356</th>\n",
       "      <td>904.8</td>\n",
       "      <td>605.6</td>\n",
       "      <td>34.996933</td>\n",
       "      <td>103.460007</td>\n",
       "      <td>RBDCanola_O3on_150gN3_02082023</td>\n",
       "      <td>904.8 -&gt; 605.6</td>\n",
       "    </tr>\n",
       "  </tbody>\n",
       "</table>\n",
       "</div>"
      ],
      "text/plain": [
       "        Parent_Ion  Product_Ion  Retention_Time  OzESI_Intensity  \\\n",
       "225352       904.8        605.6       34.931700       148.500015   \n",
       "225353       904.8        605.6       34.948000       131.800003   \n",
       "225354       904.8        605.6       34.964317       151.960007   \n",
       "225355       904.8        605.6       34.980617       137.700012   \n",
       "225356       904.8        605.6       34.996933       103.460007   \n",
       "\n",
       "                             Sample_ID      Transition  \n",
       "225352  RBDCanola_O3on_150gN3_02082023  904.8 -> 605.6  \n",
       "225353  RBDCanola_O3on_150gN3_02082023  904.8 -> 605.6  \n",
       "225354  RBDCanola_O3on_150gN3_02082023  904.8 -> 605.6  \n",
       "225355  RBDCanola_O3on_150gN3_02082023  904.8 -> 605.6  \n",
       "225356  RBDCanola_O3on_150gN3_02082023  904.8 -> 605.6  "
      ]
     },
     "execution_count": 7,
     "metadata": {},
     "output_type": "execute_result"
    }
   ],
   "source": [
    "# time_and_intensity_df = pd.DataFrame(columns=['Time', 'Intensity'])\n",
    "# master_df = pd.DataFrame(columns=['Parent_Ion', 'Product_Ion', 'Intensity', 'Transition', 'Sample_ID'])\n",
    "# OzESI_time_df = pd.DataFrame(columns=['Parent_Ion', 'Product_Ion', 'Retention_Time', 'OzESI_Intensity', 'Sample_ID', 'Transition'])\n",
    "\n",
    "\n",
    "time_and_intensity_df.head()\n",
    "master_df.head()\n",
    "OzESI_time_df.tail()"
   ]
  },
  {
   "cell_type": "code",
   "execution_count": 8,
   "metadata": {},
   "outputs": [
    {
     "name": "stderr",
     "output_type": "stream",
     "text": [
      "/home/sanjay/github/lipids/Lipidomics/lipid_platform/CLAW_v2.py:94: SettingWithCopyWarning: \n",
      "A value is trying to be set on a copy of a slice from a DataFrame.\n",
      "Try using .loc[row_indexer,col_indexer] = value instead\n",
      "\n",
      "See the caveats in the documentation: https://pandas.pydata.org/pandas-docs/stable/user_guide/indexing.html#returning-a-view-versus-a-copy\n",
      "  mrm_list_offical['Parent_Ion'] = np.round(mrm_list_offical['Parent_Ion'],1)\n",
      "/home/sanjay/github/lipids/Lipidomics/lipid_platform/CLAW_v2.py:95: SettingWithCopyWarning: \n",
      "A value is trying to be set on a copy of a slice from a DataFrame.\n",
      "Try using .loc[row_indexer,col_indexer] = value instead\n",
      "\n",
      "See the caveats in the documentation: https://pandas.pydata.org/pandas-docs/stable/user_guide/indexing.html#returning-a-view-versus-a-copy\n",
      "  mrm_list_offical['Product_Ion'] = np.round(mrm_list_offical['Product_Ion'],1)\n",
      "/home/sanjay/github/lipids/Lipidomics/lipid_platform/CLAW_v2.py:98: SettingWithCopyWarning: \n",
      "A value is trying to be set on a copy of a slice from a DataFrame.\n",
      "Try using .loc[row_indexer,col_indexer] = value instead\n",
      "\n",
      "See the caveats in the documentation: https://pandas.pydata.org/pandas-docs/stable/user_guide/indexing.html#returning-a-view-versus-a-copy\n",
      "  mrm_list_offical['Transition'] = mrm_list_offical['Parent_Ion'].astype(str) + ' -> ' + mrm_list_offical['Product_Ion'].astype(str)\n"
     ]
    }
   ],
   "source": [
    "mrm_database = CLAW_v2.read_mrm_list(data_base_name_location)\n",
    "df_oz_matched = CLAW_v2.match_lipids_parser(mrm_database, OzESI_time_df, tolerance)\n"
   ]
  },
  {
   "cell_type": "code",
   "execution_count": 9,
   "metadata": {},
   "outputs": [
    {
     "data": {
      "text/html": [
       "<div>\n",
       "<style scoped>\n",
       "    .dataframe tbody tr th:only-of-type {\n",
       "        vertical-align: middle;\n",
       "    }\n",
       "\n",
       "    .dataframe tbody tr th {\n",
       "        vertical-align: top;\n",
       "    }\n",
       "\n",
       "    .dataframe thead th {\n",
       "        text-align: right;\n",
       "    }\n",
       "</style>\n",
       "<table border=\"1\" class=\"dataframe\">\n",
       "  <thead>\n",
       "    <tr style=\"text-align: right;\">\n",
       "      <th></th>\n",
       "      <th>Class</th>\n",
       "      <th>Lipid</th>\n",
       "      <th>OzESI_Intensity</th>\n",
       "      <th>Parent_Ion</th>\n",
       "      <th>Product_Ion</th>\n",
       "      <th>Retention_Time</th>\n",
       "      <th>Sample_ID</th>\n",
       "      <th>Transition</th>\n",
       "    </tr>\n",
       "  </thead>\n",
       "  <tbody>\n",
       "    <tr>\n",
       "      <th>150238</th>\n",
       "      <td>NaN</td>\n",
       "      <td>NaN</td>\n",
       "      <td>96.220009</td>\n",
       "      <td>760.6</td>\n",
       "      <td>571.6</td>\n",
       "      <td>0.015933</td>\n",
       "      <td>RBDCanola_O3on_150gN3_02082023</td>\n",
       "      <td>760.6 -&gt; 571.6</td>\n",
       "    </tr>\n",
       "    <tr>\n",
       "      <th>150239</th>\n",
       "      <td>NaN</td>\n",
       "      <td>NaN</td>\n",
       "      <td>193.240021</td>\n",
       "      <td>760.6</td>\n",
       "      <td>571.6</td>\n",
       "      <td>0.032233</td>\n",
       "      <td>RBDCanola_O3on_150gN3_02082023</td>\n",
       "      <td>760.6 -&gt; 571.6</td>\n",
       "    </tr>\n",
       "    <tr>\n",
       "      <th>150240</th>\n",
       "      <td>NaN</td>\n",
       "      <td>NaN</td>\n",
       "      <td>206.660019</td>\n",
       "      <td>760.6</td>\n",
       "      <td>571.6</td>\n",
       "      <td>0.048550</td>\n",
       "      <td>RBDCanola_O3on_150gN3_02082023</td>\n",
       "      <td>760.6 -&gt; 571.6</td>\n",
       "    </tr>\n",
       "    <tr>\n",
       "      <th>150241</th>\n",
       "      <td>NaN</td>\n",
       "      <td>NaN</td>\n",
       "      <td>216.500015</td>\n",
       "      <td>760.6</td>\n",
       "      <td>571.6</td>\n",
       "      <td>0.064850</td>\n",
       "      <td>RBDCanola_O3on_150gN3_02082023</td>\n",
       "      <td>760.6 -&gt; 571.6</td>\n",
       "    </tr>\n",
       "    <tr>\n",
       "      <th>150242</th>\n",
       "      <td>NaN</td>\n",
       "      <td>NaN</td>\n",
       "      <td>170.640015</td>\n",
       "      <td>760.6</td>\n",
       "      <td>571.6</td>\n",
       "      <td>0.081167</td>\n",
       "      <td>RBDCanola_O3on_150gN3_02082023</td>\n",
       "      <td>760.6 -&gt; 571.6</td>\n",
       "    </tr>\n",
       "    <tr>\n",
       "      <th>...</th>\n",
       "      <td>...</td>\n",
       "      <td>...</td>\n",
       "      <td>...</td>\n",
       "      <td>...</td>\n",
       "      <td>...</td>\n",
       "      <td>...</td>\n",
       "      <td>...</td>\n",
       "      <td>...</td>\n",
       "    </tr>\n",
       "    <tr>\n",
       "      <th>225352</th>\n",
       "      <td>TAG</td>\n",
       "      <td>[TG(55:9),TG(54:2)]_FA18:1</td>\n",
       "      <td>148.500015</td>\n",
       "      <td>904.8</td>\n",
       "      <td>605.6</td>\n",
       "      <td>34.931700</td>\n",
       "      <td>RBDCanola_O3on_150gN3_02082023</td>\n",
       "      <td>904.8 -&gt; 605.6</td>\n",
       "    </tr>\n",
       "    <tr>\n",
       "      <th>225353</th>\n",
       "      <td>TAG</td>\n",
       "      <td>[TG(55:9),TG(54:2)]_FA18:1</td>\n",
       "      <td>131.800003</td>\n",
       "      <td>904.8</td>\n",
       "      <td>605.6</td>\n",
       "      <td>34.948000</td>\n",
       "      <td>RBDCanola_O3on_150gN3_02082023</td>\n",
       "      <td>904.8 -&gt; 605.6</td>\n",
       "    </tr>\n",
       "    <tr>\n",
       "      <th>225354</th>\n",
       "      <td>TAG</td>\n",
       "      <td>[TG(55:9),TG(54:2)]_FA18:1</td>\n",
       "      <td>151.960007</td>\n",
       "      <td>904.8</td>\n",
       "      <td>605.6</td>\n",
       "      <td>34.964317</td>\n",
       "      <td>RBDCanola_O3on_150gN3_02082023</td>\n",
       "      <td>904.8 -&gt; 605.6</td>\n",
       "    </tr>\n",
       "    <tr>\n",
       "      <th>225355</th>\n",
       "      <td>TAG</td>\n",
       "      <td>[TG(55:9),TG(54:2)]_FA18:1</td>\n",
       "      <td>137.700012</td>\n",
       "      <td>904.8</td>\n",
       "      <td>605.6</td>\n",
       "      <td>34.980617</td>\n",
       "      <td>RBDCanola_O3on_150gN3_02082023</td>\n",
       "      <td>904.8 -&gt; 605.6</td>\n",
       "    </tr>\n",
       "    <tr>\n",
       "      <th>225356</th>\n",
       "      <td>TAG</td>\n",
       "      <td>[TG(55:9),TG(54:2)]_FA18:1</td>\n",
       "      <td>103.460007</td>\n",
       "      <td>904.8</td>\n",
       "      <td>605.6</td>\n",
       "      <td>34.996933</td>\n",
       "      <td>RBDCanola_O3on_150gN3_02082023</td>\n",
       "      <td>904.8 -&gt; 605.6</td>\n",
       "    </tr>\n",
       "  </tbody>\n",
       "</table>\n",
       "<p>75119 rows × 8 columns</p>\n",
       "</div>"
      ],
      "text/plain": [
       "       Class                       Lipid  OzESI_Intensity  Parent_Ion  \\\n",
       "150238   NaN                         NaN        96.220009       760.6   \n",
       "150239   NaN                         NaN       193.240021       760.6   \n",
       "150240   NaN                         NaN       206.660019       760.6   \n",
       "150241   NaN                         NaN       216.500015       760.6   \n",
       "150242   NaN                         NaN       170.640015       760.6   \n",
       "...      ...                         ...              ...         ...   \n",
       "225352   TAG  [TG(55:9),TG(54:2)]_FA18:1       148.500015       904.8   \n",
       "225353   TAG  [TG(55:9),TG(54:2)]_FA18:1       131.800003       904.8   \n",
       "225354   TAG  [TG(55:9),TG(54:2)]_FA18:1       151.960007       904.8   \n",
       "225355   TAG  [TG(55:9),TG(54:2)]_FA18:1       137.700012       904.8   \n",
       "225356   TAG  [TG(55:9),TG(54:2)]_FA18:1       103.460007       904.8   \n",
       "\n",
       "        Product_Ion  Retention_Time                       Sample_ID  \\\n",
       "150238        571.6        0.015933  RBDCanola_O3on_150gN3_02082023   \n",
       "150239        571.6        0.032233  RBDCanola_O3on_150gN3_02082023   \n",
       "150240        571.6        0.048550  RBDCanola_O3on_150gN3_02082023   \n",
       "150241        571.6        0.064850  RBDCanola_O3on_150gN3_02082023   \n",
       "150242        571.6        0.081167  RBDCanola_O3on_150gN3_02082023   \n",
       "...             ...             ...                             ...   \n",
       "225352        605.6       34.931700  RBDCanola_O3on_150gN3_02082023   \n",
       "225353        605.6       34.948000  RBDCanola_O3on_150gN3_02082023   \n",
       "225354        605.6       34.964317  RBDCanola_O3on_150gN3_02082023   \n",
       "225355        605.6       34.980617  RBDCanola_O3on_150gN3_02082023   \n",
       "225356        605.6       34.996933  RBDCanola_O3on_150gN3_02082023   \n",
       "\n",
       "            Transition  \n",
       "150238  760.6 -> 571.6  \n",
       "150239  760.6 -> 571.6  \n",
       "150240  760.6 -> 571.6  \n",
       "150241  760.6 -> 571.6  \n",
       "150242  760.6 -> 571.6  \n",
       "...                ...  \n",
       "225352  904.8 -> 605.6  \n",
       "225353  904.8 -> 605.6  \n",
       "225354  904.8 -> 605.6  \n",
       "225355  904.8 -> 605.6  \n",
       "225356  904.8 -> 605.6  \n",
       "\n",
       "[75119 rows x 8 columns]"
      ]
     },
     "execution_count": 9,
     "metadata": {},
     "output_type": "execute_result"
    }
   ],
   "source": [
    "df_oz_matched[df_oz_matched['Sample_ID'].str.contains('RBD')].head(None)"
   ]
  },
  {
   "cell_type": "markdown",
   "metadata": {},
   "source": [
    "### Lipidomics Data Processing and Double-Bond Location Analysis\n",
    "\n",
    "The code block initiates the data refining process by filtering the retention time from the `df_oz_matched` DataFrame using the `filter_rt()` function and concatenating this DataFrame with `df_matched` via `concat_dataframes()`. The resulting DataFrame is then enriched by adding the positional isomers and lipid information for specified double bond positions (here, 7, 9, 12) through the `DB_Position_df()` and `add_lipid_info()` functions respectively. Following sorting by 'Sample_ID' and 'Product_Ion', the `calculate_intensity_ratio()` function is employed to calculate and append intensity ratios to the DataFrame. Afterward, lipid species in the 'Lipid' column are sorted by their second triacylglycerol (TG) components. Lastly, the `filter_highest_ratios()` function is used to filter and keep rows with the highest intensity ratios, resulting in a more concise and useful DataFrame `df_matched_6`."
   ]
  },
  {
   "cell_type": "code",
   "execution_count": 10,
   "metadata": {},
   "outputs": [
    {
     "name": "stderr",
     "output_type": "stream",
     "text": [
      "/home/sanjay/github/lipids/Lipidomics/lipid_platform/CLAW_v2.py:451: FutureWarning: The frame.append method is deprecated and will be removed from pandas in a future version. Use pandas.concat instead.\n",
      "  df_test_2 = df_test_2.append(appended_row, ignore_index=True)\n"
     ]
    }
   ],
   "source": [
    "filtered_df = CLAW_v2.filter_rt(df_oz_matched)\n",
    "# df_matched_2 = CLAW_v2.concat_dataframes(df_matched, filtered_df)\n",
    "df_matched_2 = filtered_df.copy()\n",
    "# Example usage:\n",
    "df_matched_2 = CLAW_v2.DB_Position_df(df_matched_2, OzESI_list=[7,9,12])\n",
    "\n",
    "#Make a new column for Labels of n-#\n",
    "df_matched_2['db_pos'] = ''\n",
    "OzESI_list = [7, 9, 12]\n",
    "\n",
    "# #Add lipid name to df_matched 3\n",
    "df_matched_3 = CLAW_v2.add_lipid_info(df_matched_2, OzESI_list, tolerance=0.3)\n",
    "\n",
    "df_matched_3_sorted = df_matched_3.sort_values(by=['Sample_ID','Product_Ion'])\n",
    "\n",
    "df_matched_4 = df_matched_3_sorted.copy()\n",
    "df_matched_4['Ratios'] = None\n",
    "\n",
    "\n",
    "df_matched_4 = CLAW_v2.calculate_intensity_ratio(df_matched_4)\n",
    "\n",
    "df_matched_5 = df_matched_4.copy()\n",
    "df_matched_5['Lipid'] = df_matched_5['Lipid'].apply(CLAW_v2.sort_by_second_tg)\n",
    "df_matched_6 = CLAW_v2.filter_highest_ratios(df_matched_5)\n"
   ]
  },
  {
   "cell_type": "code",
   "execution_count": 11,
   "metadata": {},
   "outputs": [
    {
     "name": "stdout",
     "output_type": "stream",
     "text": [
      "Lipid: [TG(54:6)]_FA18:1, Sample_ID: CrudeCanola_O3on_150gN3_02082023, db_pos: n-9, Ratios: 0.7435897435897436\n",
      "Lipid: [TG(54:6)]_FA18:1, Sample_ID: CrudeCanola_O3on_150gN3_02082023, db_pos: n-9, Ratios: 0.7435897435897436\n",
      "Lipid: [TG(54:6)]_FA18:1, Sample_ID: CrudeCanola_O3on_150gN3_02082023, db_pos: n-9, Ratios: 0.7435897435897436\n",
      "Lipid: [TG(52:5)]_FA18:1, Sample_ID: CrudeCanola_O3on_150gN3_02082023, db_pos: n-9, Ratios: 1.7387387387387387\n",
      "Lipid: [TG(52:5)]_FA18:1, Sample_ID: CrudeCanola_O3on_150gN3_02082023, db_pos: n-9, Ratios: 1.7387387387387387\n",
      "Lipid: [TG(52:5)]_FA18:1, Sample_ID: CrudeCanola_O3on_150gN3_02082023, db_pos: n-9, Ratios: 1.7387387387387387\n",
      "Lipid: [TG(54:5)]_FA18:1, Sample_ID: CrudeCanola_O3on_150gN3_02082023, db_pos: n-9, Ratios: 0.25874125874125875\n",
      "Lipid: [TG(54:5)]_FA18:1, Sample_ID: CrudeCanola_O3on_150gN3_02082023, db_pos: n-9, Ratios: 0.25874125874125875\n",
      "Lipid: [TG(54:5)]_FA18:1, Sample_ID: CrudeCanola_O3on_150gN3_02082023, db_pos: n-9, Ratios: 0.25874125874125875\n",
      "Lipid: [TG(52:4)]_FA18:1, Sample_ID: CrudeCanola_O3on_150gN3_02082023, db_pos: n-9, Ratios: 3.048780487804878\n",
      "Lipid: [TG(52:4)]_FA18:1, Sample_ID: CrudeCanola_O3on_150gN3_02082023, db_pos: n-9, Ratios: 3.048780487804878\n",
      "Lipid: [TG(52:4)]_FA18:1, Sample_ID: CrudeCanola_O3on_150gN3_02082023, db_pos: n-9, Ratios: 3.048780487804878\n",
      "Lipid: TG(54:4)]_FA18:1, Sample_ID: CrudeCanola_O3on_150gN3_02082023, db_pos: n-9, Ratios: 0.11179785493546628\n",
      "Lipid: TG(54:4)]_FA18:1, Sample_ID: CrudeCanola_O3on_150gN3_02082023, db_pos: n-9, Ratios: 0.11179785493546628\n",
      "Lipid: TG(54:4)]_FA18:1, Sample_ID: CrudeCanola_O3on_150gN3_02082023, db_pos: n-9, Ratios: 0.11179785493546628\n",
      "Lipid: TG(52:3)]_FA18:1, Sample_ID: CrudeCanola_O3on_150gN3_02082023, db_pos: n-9, Ratios: 3.1578947368421053\n",
      "Lipid: TG(52:3)]_FA18:1, Sample_ID: CrudeCanola_O3on_150gN3_02082023, db_pos: n-9, Ratios: 3.1578947368421053\n",
      "Lipid: TG(52:3)]_FA18:1, Sample_ID: CrudeCanola_O3on_150gN3_02082023, db_pos: n-9, Ratios: 3.1578947368421053\n",
      "Lipid: TG(54:3)]_FA18:1, Sample_ID: CrudeCanola_O3on_150gN3_02082023, db_pos: n-9, Ratios: 0.06301640870475969\n",
      "Lipid: TG(54:3)]_FA18:1, Sample_ID: CrudeCanola_O3on_150gN3_02082023, db_pos: n-9, Ratios: 0.06301640870475969\n",
      "Lipid: TG(54:3)]_FA18:1, Sample_ID: CrudeCanola_O3on_150gN3_02082023, db_pos: n-9, Ratios: 0.06301640870475969\n",
      "Lipid: TG(52:2)]_FA18:1, Sample_ID: CrudeCanola_O3on_150gN3_02082023, db_pos: n-9, Ratios: 4.234076015727392\n",
      "Lipid: TG(52:2)]_FA18:1, Sample_ID: CrudeCanola_O3on_150gN3_02082023, db_pos: n-9, Ratios: 4.234076015727392\n",
      "Lipid: TG(52:2)]_FA18:1, Sample_ID: CrudeCanola_O3on_150gN3_02082023, db_pos: n-9, Ratios: 4.234076015727392\n",
      "Lipid: TG(54:2)]_FA18:1, Sample_ID: CrudeCanola_O3on_150gN3_02082023, db_pos: n-9, Ratios: 1.4046391752577319\n",
      "Lipid: TG(54:2)]_FA18:1, Sample_ID: CrudeCanola_O3on_150gN3_02082023, db_pos: n-9, Ratios: 1.4046391752577319\n",
      "Lipid: TG(54:2)]_FA18:1, Sample_ID: CrudeCanola_O3on_150gN3_02082023, db_pos: n-9, Ratios: 1.4046391752577319\n",
      "Lipid: TG(53:0)]_FA18:1, Sample_ID: CrudeCanola_O3on_150gN3_02082023, db_pos: n-9, Ratios: 1.1283185840707965\n",
      "Lipid: TG(53:0)]_FA18:1, Sample_ID: CrudeCanola_O3on_150gN3_02082023, db_pos: n-9, Ratios: 1.1283185840707965\n",
      "Lipid: TG(53:0)]_FA18:1, Sample_ID: CrudeCanola_O3on_150gN3_02082023, db_pos: n-9, Ratios: 1.1283185840707965\n",
      "Lipid: [TG(54:6)]_FA18:1, Sample_ID: CrudeCanola_O3on_150gN3_02082023, db_pos: n-9, Ratios: 1.7362637362637363\n",
      "Lipid: [TG(54:6)]_FA18:1, Sample_ID: CrudeCanola_O3on_150gN3_02082023, db_pos: n-9, Ratios: 1.7362637362637363\n",
      "Lipid: [TG(54:6)]_FA18:1, Sample_ID: CrudeCanola_O3on_150gN3_02082023, db_pos: n-9, Ratios: 1.7362637362637363\n",
      "Lipid: [TG(54:5)]_FA18:1, Sample_ID: CrudeCanola_O3on_150gN3_02082023, db_pos: n-9, Ratios: 4.086247086247086\n",
      "Lipid: [TG(54:5)]_FA18:1, Sample_ID: CrudeCanola_O3on_150gN3_02082023, db_pos: n-9, Ratios: 4.086247086247086\n",
      "Lipid: [TG(54:5)]_FA18:1, Sample_ID: CrudeCanola_O3on_150gN3_02082023, db_pos: n-9, Ratios: 4.086247086247086\n",
      "Lipid: TG(54:4)]_FA18:1, Sample_ID: CrudeCanola_O3on_150gN3_02082023, db_pos: n-9, Ratios: 4.90838029449191\n",
      "Lipid: TG(54:4)]_FA18:1, Sample_ID: CrudeCanola_O3on_150gN3_02082023, db_pos: n-9, Ratios: 4.90838029449191\n",
      "Lipid: TG(54:4)]_FA18:1, Sample_ID: CrudeCanola_O3on_150gN3_02082023, db_pos: n-9, Ratios: 4.90838029449191\n",
      "Lipid: TG(54:3)]_FA18:1, Sample_ID: CrudeCanola_O3on_150gN3_02082023, db_pos: n-9, Ratios: 5.810543465611544\n",
      "Lipid: TG(54:3)]_FA18:1, Sample_ID: CrudeCanola_O3on_150gN3_02082023, db_pos: n-9, Ratios: 5.810543465611544\n",
      "Lipid: TG(54:3)]_FA18:1, Sample_ID: CrudeCanola_O3on_150gN3_02082023, db_pos: n-9, Ratios: 5.810543465611544\n",
      "Lipid: TG(54:2)]_FA18:1, Sample_ID: CrudeCanola_O3on_150gN3_02082023, db_pos: n-9, Ratios: 3.9351988217967597\n",
      "Lipid: TG(54:2)]_FA18:1, Sample_ID: CrudeCanola_O3on_150gN3_02082023, db_pos: n-9, Ratios: 3.9351988217967597\n",
      "Lipid: TG(54:2)]_FA18:1, Sample_ID: CrudeCanola_O3on_150gN3_02082023, db_pos: n-9, Ratios: 3.9351988217967597\n",
      "Lipid: [TG(54:6)]_FA18:1, Sample_ID: DegummedCanola_O3on_150gN3_02082023, db_pos: n-9, Ratios: 0.8032490974729242\n",
      "Lipid: [TG(54:6)]_FA18:1, Sample_ID: DegummedCanola_O3on_150gN3_02082023, db_pos: n-9, Ratios: 0.8032490974729242\n",
      "Lipid: [TG(54:6)]_FA18:1, Sample_ID: DegummedCanola_O3on_150gN3_02082023, db_pos: n-9, Ratios: 0.8032490974729242\n",
      "Lipid: [TG(52:5)]_FA18:1, Sample_ID: DegummedCanola_O3on_150gN3_02082023, db_pos: n-9, Ratios: 1.36272040302267\n",
      "Lipid: [TG(52:5)]_FA18:1, Sample_ID: DegummedCanola_O3on_150gN3_02082023, db_pos: n-9, Ratios: 1.36272040302267\n",
      "Lipid: [TG(52:5)]_FA18:1, Sample_ID: DegummedCanola_O3on_150gN3_02082023, db_pos: n-9, Ratios: 1.36272040302267\n",
      "Lipid: [TG(54:5)]_FA18:1, Sample_ID: DegummedCanola_O3on_150gN3_02082023, db_pos: n-9, Ratios: 0.37417530631479734\n",
      "Lipid: [TG(54:5)]_FA18:1, Sample_ID: DegummedCanola_O3on_150gN3_02082023, db_pos: n-9, Ratios: 0.37417530631479734\n",
      "Lipid: [TG(54:5)]_FA18:1, Sample_ID: DegummedCanola_O3on_150gN3_02082023, db_pos: n-9, Ratios: 0.37417530631479734\n",
      "Lipid: [TG(52:4)]_FA18:1, Sample_ID: DegummedCanola_O3on_150gN3_02082023, db_pos: n-9, Ratios: 2.9640625\n",
      "Lipid: [TG(52:4)]_FA18:1, Sample_ID: DegummedCanola_O3on_150gN3_02082023, db_pos: n-9, Ratios: 2.9640625\n",
      "Lipid: [TG(52:4)]_FA18:1, Sample_ID: DegummedCanola_O3on_150gN3_02082023, db_pos: n-9, Ratios: 2.9640625\n",
      "Lipid: TG(54:4)]_FA18:1, Sample_ID: DegummedCanola_O3on_150gN3_02082023, db_pos: n-9, Ratios: 0.18396090830698478\n",
      "Lipid: TG(54:4)]_FA18:1, Sample_ID: DegummedCanola_O3on_150gN3_02082023, db_pos: n-9, Ratios: 0.18396090830698478\n",
      "Lipid: TG(54:4)]_FA18:1, Sample_ID: DegummedCanola_O3on_150gN3_02082023, db_pos: n-9, Ratios: 0.18396090830698478\n",
      "Lipid: TG(52:3)]_FA18:1, Sample_ID: DegummedCanola_O3on_150gN3_02082023, db_pos: n-9, Ratios: 2.499476439790576\n",
      "Lipid: TG(52:3)]_FA18:1, Sample_ID: DegummedCanola_O3on_150gN3_02082023, db_pos: n-9, Ratios: 2.499476439790576\n",
      "Lipid: TG(52:3)]_FA18:1, Sample_ID: DegummedCanola_O3on_150gN3_02082023, db_pos: n-9, Ratios: 2.499476439790576\n",
      "Lipid: TG(54:3)]_FA18:1, Sample_ID: DegummedCanola_O3on_150gN3_02082023, db_pos: n-9, Ratios: 0.08854891052387576\n",
      "Lipid: TG(54:3)]_FA18:1, Sample_ID: DegummedCanola_O3on_150gN3_02082023, db_pos: n-9, Ratios: 0.08854891052387576\n",
      "Lipid: TG(54:3)]_FA18:1, Sample_ID: DegummedCanola_O3on_150gN3_02082023, db_pos: n-9, Ratios: 0.08854891052387576\n",
      "Lipid: TG(52:2)]_FA18:1, Sample_ID: DegummedCanola_O3on_150gN3_02082023, db_pos: n-9, Ratios: 4.312176165803109\n",
      "Lipid: TG(52:2)]_FA18:1, Sample_ID: DegummedCanola_O3on_150gN3_02082023, db_pos: n-9, Ratios: 4.312176165803109\n",
      "Lipid: TG(52:2)]_FA18:1, Sample_ID: DegummedCanola_O3on_150gN3_02082023, db_pos: n-9, Ratios: 4.312176165803109\n",
      "Lipid: TG(54:2)]_FA18:1, Sample_ID: DegummedCanola_O3on_150gN3_02082023, db_pos: n-9, Ratios: 1.7219330855018586\n",
      "Lipid: TG(54:2)]_FA18:1, Sample_ID: DegummedCanola_O3on_150gN3_02082023, db_pos: n-9, Ratios: 1.7219330855018586\n",
      "Lipid: TG(54:2)]_FA18:1, Sample_ID: DegummedCanola_O3on_150gN3_02082023, db_pos: n-9, Ratios: 1.7219330855018586\n",
      "Lipid: TG(53:0)]_FA18:1, Sample_ID: DegummedCanola_O3on_150gN3_02082023, db_pos: n-9, Ratios: 0.9185185185185185\n",
      "Lipid: TG(53:0)]_FA18:1, Sample_ID: DegummedCanola_O3on_150gN3_02082023, db_pos: n-9, Ratios: 0.9185185185185185\n",
      "Lipid: TG(53:0)]_FA18:1, Sample_ID: DegummedCanola_O3on_150gN3_02082023, db_pos: n-9, Ratios: 0.9185185185185185\n",
      "Lipid: [TG(54:6)]_FA18:1, Sample_ID: DegummedCanola_O3on_150gN3_02082023, db_pos: n-9, Ratios: 1.211191335740072\n",
      "Lipid: [TG(54:6)]_FA18:1, Sample_ID: DegummedCanola_O3on_150gN3_02082023, db_pos: n-9, Ratios: 1.211191335740072\n",
      "Lipid: [TG(54:6)]_FA18:1, Sample_ID: DegummedCanola_O3on_150gN3_02082023, db_pos: n-9, Ratios: 1.211191335740072\n",
      "Lipid: [TG(54:5)]_FA18:1, Sample_ID: DegummedCanola_O3on_150gN3_02082023, db_pos: n-9, Ratios: 3.827521206409048\n",
      "Lipid: [TG(54:5)]_FA18:1, Sample_ID: DegummedCanola_O3on_150gN3_02082023, db_pos: n-9, Ratios: 3.827521206409048\n",
      "Lipid: [TG(54:5)]_FA18:1, Sample_ID: DegummedCanola_O3on_150gN3_02082023, db_pos: n-9, Ratios: 3.827521206409048\n",
      "Lipid: TG(54:4)]_FA18:1, Sample_ID: DegummedCanola_O3on_150gN3_02082023, db_pos: n-9, Ratios: 4.065823512503593\n",
      "Lipid: TG(54:4)]_FA18:1, Sample_ID: DegummedCanola_O3on_150gN3_02082023, db_pos: n-9, Ratios: 4.065823512503593\n",
      "Lipid: TG(54:4)]_FA18:1, Sample_ID: DegummedCanola_O3on_150gN3_02082023, db_pos: n-9, Ratios: 4.065823512503593\n",
      "Lipid: TG(54:3)]_FA18:1, Sample_ID: DegummedCanola_O3on_150gN3_02082023, db_pos: n-9, Ratios: 5.7485396383866485\n",
      "Lipid: TG(54:3)]_FA18:1, Sample_ID: DegummedCanola_O3on_150gN3_02082023, db_pos: n-9, Ratios: 5.7485396383866485\n",
      "Lipid: TG(54:3)]_FA18:1, Sample_ID: DegummedCanola_O3on_150gN3_02082023, db_pos: n-9, Ratios: 5.7485396383866485\n",
      "Lipid: TG(54:2)]_FA18:1, Sample_ID: DegummedCanola_O3on_150gN3_02082023, db_pos: n-9, Ratios: 4.246096654275093\n",
      "Lipid: TG(54:2)]_FA18:1, Sample_ID: DegummedCanola_O3on_150gN3_02082023, db_pos: n-9, Ratios: 4.246096654275093\n",
      "Lipid: TG(54:2)]_FA18:1, Sample_ID: DegummedCanola_O3on_150gN3_02082023, db_pos: n-9, Ratios: 4.246096654275093\n",
      "Lipid: [TG(54:6)]_FA18:1, Sample_ID: RBDCanola_O3on_150gN3_02082023, db_pos: n-9, Ratios: 0.6872727272727273\n",
      "Lipid: [TG(54:6)]_FA18:1, Sample_ID: RBDCanola_O3on_150gN3_02082023, db_pos: n-9, Ratios: 0.6872727272727273\n",
      "Lipid: [TG(54:6)]_FA18:1, Sample_ID: RBDCanola_O3on_150gN3_02082023, db_pos: n-9, Ratios: 0.6872727272727273\n",
      "Lipid: [TG(52:5)]_FA18:1, Sample_ID: RBDCanola_O3on_150gN3_02082023, db_pos: n-9, Ratios: 1.3659942363112392\n",
      "Lipid: [TG(52:5)]_FA18:1, Sample_ID: RBDCanola_O3on_150gN3_02082023, db_pos: n-9, Ratios: 1.3659942363112392\n",
      "Lipid: [TG(52:5)]_FA18:1, Sample_ID: RBDCanola_O3on_150gN3_02082023, db_pos: n-9, Ratios: 1.3659942363112392\n",
      "Lipid: [TG(54:5)]_FA18:1, Sample_ID: RBDCanola_O3on_150gN3_02082023, db_pos: n-9, Ratios: 0.3894500561167228\n",
      "Lipid: [TG(54:5)]_FA18:1, Sample_ID: RBDCanola_O3on_150gN3_02082023, db_pos: n-9, Ratios: 0.3894500561167228\n",
      "Lipid: [TG(54:5)]_FA18:1, Sample_ID: RBDCanola_O3on_150gN3_02082023, db_pos: n-9, Ratios: 0.3894500561167228\n",
      "Lipid: [TG(52:4)]_FA18:1, Sample_ID: RBDCanola_O3on_150gN3_02082023, db_pos: n-9, Ratios: 2.676829268292683\n",
      "Lipid: [TG(52:4)]_FA18:1, Sample_ID: RBDCanola_O3on_150gN3_02082023, db_pos: n-9, Ratios: 2.676829268292683\n",
      "Lipid: [TG(52:4)]_FA18:1, Sample_ID: RBDCanola_O3on_150gN3_02082023, db_pos: n-9, Ratios: 2.676829268292683\n",
      "Lipid: TG(54:4)]_FA18:1, Sample_ID: RBDCanola_O3on_150gN3_02082023, db_pos: n-9, Ratios: 0.13820224719101123\n",
      "Lipid: TG(54:4)]_FA18:1, Sample_ID: RBDCanola_O3on_150gN3_02082023, db_pos: n-9, Ratios: 0.13820224719101123\n",
      "Lipid: TG(54:4)]_FA18:1, Sample_ID: RBDCanola_O3on_150gN3_02082023, db_pos: n-9, Ratios: 0.13820224719101123\n",
      "Lipid: TG(52:3)]_FA18:1, Sample_ID: RBDCanola_O3on_150gN3_02082023, db_pos: n-9, Ratios: 3.0693756194251733\n",
      "Lipid: TG(52:3)]_FA18:1, Sample_ID: RBDCanola_O3on_150gN3_02082023, db_pos: n-9, Ratios: 3.0693756194251733\n",
      "Lipid: TG(52:3)]_FA18:1, Sample_ID: RBDCanola_O3on_150gN3_02082023, db_pos: n-9, Ratios: 3.0693756194251733\n",
      "Lipid: TG(54:3)]_FA18:1, Sample_ID: RBDCanola_O3on_150gN3_02082023, db_pos: n-9, Ratios: 0.08571914025996093\n",
      "Lipid: TG(54:3)]_FA18:1, Sample_ID: RBDCanola_O3on_150gN3_02082023, db_pos: n-9, Ratios: 0.08571914025996093\n",
      "Lipid: TG(54:3)]_FA18:1, Sample_ID: RBDCanola_O3on_150gN3_02082023, db_pos: n-9, Ratios: 0.08571914025996093\n",
      "Lipid: TG(52:2)]_FA18:1, Sample_ID: RBDCanola_O3on_150gN3_02082023, db_pos: n-9, Ratios: 4.701375976199331\n",
      "Lipid: TG(52:2)]_FA18:1, Sample_ID: RBDCanola_O3on_150gN3_02082023, db_pos: n-9, Ratios: 4.701375976199331\n",
      "Lipid: TG(52:2)]_FA18:1, Sample_ID: RBDCanola_O3on_150gN3_02082023, db_pos: n-9, Ratios: 4.701375976199331\n",
      "Lipid: TG(54:2)]_FA18:1, Sample_ID: RBDCanola_O3on_150gN3_02082023, db_pos: n-9, Ratios: 1.558840579710145\n",
      "Lipid: TG(54:2)]_FA18:1, Sample_ID: RBDCanola_O3on_150gN3_02082023, db_pos: n-9, Ratios: 1.558840579710145\n",
      "Lipid: TG(54:2)]_FA18:1, Sample_ID: RBDCanola_O3on_150gN3_02082023, db_pos: n-9, Ratios: 1.558840579710145\n",
      "Lipid: TG(53:0)]_FA18:1, Sample_ID: RBDCanola_O3on_150gN3_02082023, db_pos: n-9, Ratios: 1.167420814479638\n",
      "Lipid: TG(53:0)]_FA18:1, Sample_ID: RBDCanola_O3on_150gN3_02082023, db_pos: n-9, Ratios: 1.167420814479638\n",
      "Lipid: TG(53:0)]_FA18:1, Sample_ID: RBDCanola_O3on_150gN3_02082023, db_pos: n-9, Ratios: 1.167420814479638\n",
      "Lipid: [TG(54:6)]_FA18:1, Sample_ID: RBDCanola_O3on_150gN3_02082023, db_pos: n-9, Ratios: 1.0672727272727274\n",
      "Lipid: [TG(54:6)]_FA18:1, Sample_ID: RBDCanola_O3on_150gN3_02082023, db_pos: n-9, Ratios: 1.0672727272727274\n",
      "Lipid: [TG(54:6)]_FA18:1, Sample_ID: RBDCanola_O3on_150gN3_02082023, db_pos: n-9, Ratios: 1.0672727272727274\n",
      "Lipid: [TG(54:5)]_FA18:1, Sample_ID: RBDCanola_O3on_150gN3_02082023, db_pos: n-9, Ratios: 3.8327721661054994\n",
      "Lipid: [TG(54:5)]_FA18:1, Sample_ID: RBDCanola_O3on_150gN3_02082023, db_pos: n-9, Ratios: 3.8327721661054994\n",
      "Lipid: [TG(54:5)]_FA18:1, Sample_ID: RBDCanola_O3on_150gN3_02082023, db_pos: n-9, Ratios: 3.8327721661054994\n",
      "Lipid: TG(54:4)]_FA18:1, Sample_ID: RBDCanola_O3on_150gN3_02082023, db_pos: n-9, Ratios: 4.974438202247191\n",
      "Lipid: TG(54:4)]_FA18:1, Sample_ID: RBDCanola_O3on_150gN3_02082023, db_pos: n-9, Ratios: 4.974438202247191\n",
      "Lipid: TG(54:4)]_FA18:1, Sample_ID: RBDCanola_O3on_150gN3_02082023, db_pos: n-9, Ratios: 4.974438202247191\n",
      "Lipid: TG(54:3)]_FA18:1, Sample_ID: RBDCanola_O3on_150gN3_02082023, db_pos: n-9, Ratios: 5.410415427746156\n",
      "Lipid: TG(54:3)]_FA18:1, Sample_ID: RBDCanola_O3on_150gN3_02082023, db_pos: n-9, Ratios: 5.410415427746156\n",
      "Lipid: TG(54:3)]_FA18:1, Sample_ID: RBDCanola_O3on_150gN3_02082023, db_pos: n-9, Ratios: 5.410415427746156\n",
      "Lipid: TG(54:2)]_FA18:1, Sample_ID: RBDCanola_O3on_150gN3_02082023, db_pos: n-9, Ratios: 3.1710144927536232\n",
      "Lipid: TG(54:2)]_FA18:1, Sample_ID: RBDCanola_O3on_150gN3_02082023, db_pos: n-9, Ratios: 3.1710144927536232\n",
      "Lipid: TG(54:2)]_FA18:1, Sample_ID: RBDCanola_O3on_150gN3_02082023, db_pos: n-9, Ratios: 3.1710144927536232\n"
     ]
    }
   ],
   "source": [
    "\n",
    "# Iterate through each row in the DataFrame\n",
    "for index, row in df_matched_5.iterrows():\n",
    "    # Extract Lipid, Sample_ID, Labels and Ratios from the row\n",
    "    lipid = row['Lipid']\n",
    "    sample_id = row['Sample_ID']\n",
    "    db_pos = row['db_pos']\n",
    "    ratios = row['Ratios']\n",
    "\n",
    "    # Check if ratios is not NaN\n",
    "    if not pd.isna(ratios):\n",
    "        # Print out the values\n",
    "        print(f'Lipid: {lipid}, Sample_ID: {sample_id}, db_pos: {db_pos}, Ratios: {ratios}')\n"
   ]
  },
  {
   "cell_type": "markdown",
   "metadata": {},
   "source": [
    "### Previewing Processed Lipidomics Data\n",
    "\n",
    "This cell provides a snapshot of the fully processed and enriched lipidomics data set. At this stage, the dataframe includes the integrated information of lipid identities, their specific double-bond locations, and other pertinent characteristics. This prepared data is now ready to be exported for subsequent exploratory and statistical analyses, including visualization and inferential statistics."
   ]
  },
  {
   "cell_type": "code",
   "execution_count": 12,
   "metadata": {},
   "outputs": [
    {
     "data": {
      "text/html": [
       "<div>\n",
       "<style scoped>\n",
       "    .dataframe tbody tr th:only-of-type {\n",
       "        vertical-align: middle;\n",
       "    }\n",
       "\n",
       "    .dataframe tbody tr th {\n",
       "        vertical-align: top;\n",
       "    }\n",
       "\n",
       "    .dataframe thead th {\n",
       "        text-align: right;\n",
       "    }\n",
       "</style>\n",
       "<table border=\"1\" class=\"dataframe\">\n",
       "  <thead>\n",
       "    <tr style=\"text-align: right;\">\n",
       "      <th></th>\n",
       "      <th>Class</th>\n",
       "      <th>Lipid</th>\n",
       "      <th>OzESI_Intensity</th>\n",
       "      <th>Parent_Ion</th>\n",
       "      <th>Product_Ion</th>\n",
       "      <th>Retention_Time</th>\n",
       "      <th>Sample_ID</th>\n",
       "      <th>Transition</th>\n",
       "      <th>n-7</th>\n",
       "      <th>n-9</th>\n",
       "      <th>n-12</th>\n",
       "      <th>db_pos</th>\n",
       "      <th>Ratios</th>\n",
       "    </tr>\n",
       "  </thead>\n",
       "  <tbody>\n",
       "    <tr>\n",
       "      <th>112</th>\n",
       "      <td>NaN</td>\n",
       "      <td>TG(52:2)]_FA18:1</td>\n",
       "      <td>16153.0</td>\n",
       "      <td>766.7</td>\n",
       "      <td>577.6</td>\n",
       "      <td>18.05</td>\n",
       "      <td>CrudeCanola_O3on_150gN3_02082023</td>\n",
       "      <td>766.7 -&gt; 577.6</td>\n",
       "      <td>684.7</td>\n",
       "      <td>656.7</td>\n",
       "      <td>614.7</td>\n",
       "      <td>n-9</td>\n",
       "      <td>4.234076</td>\n",
       "    </tr>\n",
       "    <tr>\n",
       "      <th>27</th>\n",
       "      <td>TAG</td>\n",
       "      <td>TG(52:2)]_FA18:1</td>\n",
       "      <td>102684.0</td>\n",
       "      <td>876.8</td>\n",
       "      <td>577.6</td>\n",
       "      <td>18.04</td>\n",
       "      <td>CrudeCanola_O3on_150gN3_02082023</td>\n",
       "      <td>876.8 -&gt; 577.6</td>\n",
       "      <td>794.8</td>\n",
       "      <td>766.8</td>\n",
       "      <td>724.8</td>\n",
       "      <td></td>\n",
       "      <td>NaN</td>\n",
       "    </tr>\n",
       "    <tr>\n",
       "      <th>171</th>\n",
       "      <td>NaN</td>\n",
       "      <td>TG(52:2)]_FA18:1</td>\n",
       "      <td>3815.0</td>\n",
       "      <td>794.7</td>\n",
       "      <td>577.6</td>\n",
       "      <td>18.05</td>\n",
       "      <td>CrudeCanola_O3on_150gN3_02082023</td>\n",
       "      <td>794.7 -&gt; 577.6</td>\n",
       "      <td>712.7</td>\n",
       "      <td>684.7</td>\n",
       "      <td>642.7</td>\n",
       "      <td>n-7</td>\n",
       "      <td>NaN</td>\n",
       "    </tr>\n",
       "    <tr>\n",
       "      <th>108</th>\n",
       "      <td>NaN</td>\n",
       "      <td>TG(52:3)]_FA18:1</td>\n",
       "      <td>3420.0</td>\n",
       "      <td>764.6</td>\n",
       "      <td>575.6</td>\n",
       "      <td>16.09</td>\n",
       "      <td>CrudeCanola_O3on_150gN3_02082023</td>\n",
       "      <td>764.6 -&gt; 575.6</td>\n",
       "      <td>682.6</td>\n",
       "      <td>654.6</td>\n",
       "      <td>612.6</td>\n",
       "      <td>n-9</td>\n",
       "      <td>3.157895</td>\n",
       "    </tr>\n",
       "    <tr>\n",
       "      <th>26</th>\n",
       "      <td>TAG</td>\n",
       "      <td>TG(52:3)]_FA18:1</td>\n",
       "      <td>22411.0</td>\n",
       "      <td>874.8</td>\n",
       "      <td>575.6</td>\n",
       "      <td>16.12</td>\n",
       "      <td>CrudeCanola_O3on_150gN3_02082023</td>\n",
       "      <td>874.8 -&gt; 575.6</td>\n",
       "      <td>792.8</td>\n",
       "      <td>764.8</td>\n",
       "      <td>722.8</td>\n",
       "      <td></td>\n",
       "      <td>NaN</td>\n",
       "    </tr>\n",
       "    <tr>\n",
       "      <th>...</th>\n",
       "      <td>...</td>\n",
       "      <td>...</td>\n",
       "      <td>...</td>\n",
       "      <td>...</td>\n",
       "      <td>...</td>\n",
       "      <td>...</td>\n",
       "      <td>...</td>\n",
       "      <td>...</td>\n",
       "      <td>...</td>\n",
       "      <td>...</td>\n",
       "      <td>...</td>\n",
       "      <td>...</td>\n",
       "      <td>...</td>\n",
       "    </tr>\n",
       "    <tr>\n",
       "      <th>98</th>\n",
       "      <td>TAG</td>\n",
       "      <td>[TG(54:5)]_FA18:1</td>\n",
       "      <td>12850.0</td>\n",
       "      <td>898.8</td>\n",
       "      <td>599.6</td>\n",
       "      <td>14.34</td>\n",
       "      <td>RBDCanola_O3on_150gN3_02082023</td>\n",
       "      <td>898.8 -&gt; 599.6</td>\n",
       "      <td>816.8</td>\n",
       "      <td>788.8</td>\n",
       "      <td>746.8</td>\n",
       "      <td></td>\n",
       "      <td>NaN</td>\n",
       "    </tr>\n",
       "    <tr>\n",
       "      <th>369</th>\n",
       "      <td>NaN</td>\n",
       "      <td>[TG(54:5)]_FA18:1</td>\n",
       "      <td>891.0</td>\n",
       "      <td>816.7</td>\n",
       "      <td>599.6</td>\n",
       "      <td>14.28</td>\n",
       "      <td>RBDCanola_O3on_150gN3_02082023</td>\n",
       "      <td>816.7 -&gt; 599.6</td>\n",
       "      <td>734.7</td>\n",
       "      <td>706.7</td>\n",
       "      <td>664.7</td>\n",
       "      <td>n-7</td>\n",
       "      <td>NaN</td>\n",
       "    </tr>\n",
       "    <tr>\n",
       "      <th>312</th>\n",
       "      <td>NaN</td>\n",
       "      <td>[TG(54:6)]_FA18:1</td>\n",
       "      <td>587.0</td>\n",
       "      <td>786.6</td>\n",
       "      <td>597.6</td>\n",
       "      <td>19.48</td>\n",
       "      <td>RBDCanola_O3on_150gN3_02082023</td>\n",
       "      <td>786.6 -&gt; 597.6</td>\n",
       "      <td>704.6</td>\n",
       "      <td>676.6</td>\n",
       "      <td>634.6</td>\n",
       "      <td>n-9</td>\n",
       "      <td>1.067273</td>\n",
       "    </tr>\n",
       "    <tr>\n",
       "      <th>97</th>\n",
       "      <td>TAG</td>\n",
       "      <td>[TG(54:6)]_FA18:1</td>\n",
       "      <td>1138.0</td>\n",
       "      <td>896.8</td>\n",
       "      <td>597.6</td>\n",
       "      <td>12.43</td>\n",
       "      <td>RBDCanola_O3on_150gN3_02082023</td>\n",
       "      <td>896.8 -&gt; 597.6</td>\n",
       "      <td>814.8</td>\n",
       "      <td>786.8</td>\n",
       "      <td>744.8</td>\n",
       "      <td></td>\n",
       "      <td>NaN</td>\n",
       "    </tr>\n",
       "    <tr>\n",
       "      <th>366</th>\n",
       "      <td>NaN</td>\n",
       "      <td>[TG(54:6)]_FA18:1</td>\n",
       "      <td>550.0</td>\n",
       "      <td>814.7</td>\n",
       "      <td>597.6</td>\n",
       "      <td>15.60</td>\n",
       "      <td>RBDCanola_O3on_150gN3_02082023</td>\n",
       "      <td>814.7 -&gt; 597.6</td>\n",
       "      <td>732.7</td>\n",
       "      <td>704.7</td>\n",
       "      <td>662.7</td>\n",
       "      <td>n-7</td>\n",
       "      <td>NaN</td>\n",
       "    </tr>\n",
       "  </tbody>\n",
       "</table>\n",
       "<p>96 rows × 13 columns</p>\n",
       "</div>"
      ],
      "text/plain": [
       "    Class              Lipid  OzESI_Intensity  Parent_Ion  Product_Ion  \\\n",
       "112   NaN   TG(52:2)]_FA18:1          16153.0       766.7        577.6   \n",
       "27    TAG   TG(52:2)]_FA18:1         102684.0       876.8        577.6   \n",
       "171   NaN   TG(52:2)]_FA18:1           3815.0       794.7        577.6   \n",
       "108   NaN   TG(52:3)]_FA18:1           3420.0       764.6        575.6   \n",
       "26    TAG   TG(52:3)]_FA18:1          22411.0       874.8        575.6   \n",
       "..    ...                ...              ...         ...          ...   \n",
       "98    TAG  [TG(54:5)]_FA18:1          12850.0       898.8        599.6   \n",
       "369   NaN  [TG(54:5)]_FA18:1            891.0       816.7        599.6   \n",
       "312   NaN  [TG(54:6)]_FA18:1            587.0       786.6        597.6   \n",
       "97    TAG  [TG(54:6)]_FA18:1           1138.0       896.8        597.6   \n",
       "366   NaN  [TG(54:6)]_FA18:1            550.0       814.7        597.6   \n",
       "\n",
       "     Retention_Time                         Sample_ID      Transition    n-7  \\\n",
       "112           18.05  CrudeCanola_O3on_150gN3_02082023  766.7 -> 577.6  684.7   \n",
       "27            18.04  CrudeCanola_O3on_150gN3_02082023  876.8 -> 577.6  794.8   \n",
       "171           18.05  CrudeCanola_O3on_150gN3_02082023  794.7 -> 577.6  712.7   \n",
       "108           16.09  CrudeCanola_O3on_150gN3_02082023  764.6 -> 575.6  682.6   \n",
       "26            16.12  CrudeCanola_O3on_150gN3_02082023  874.8 -> 575.6  792.8   \n",
       "..              ...                               ...             ...    ...   \n",
       "98            14.34    RBDCanola_O3on_150gN3_02082023  898.8 -> 599.6  816.8   \n",
       "369           14.28    RBDCanola_O3on_150gN3_02082023  816.7 -> 599.6  734.7   \n",
       "312           19.48    RBDCanola_O3on_150gN3_02082023  786.6 -> 597.6  704.6   \n",
       "97            12.43    RBDCanola_O3on_150gN3_02082023  896.8 -> 597.6  814.8   \n",
       "366           15.60    RBDCanola_O3on_150gN3_02082023  814.7 -> 597.6  732.7   \n",
       "\n",
       "       n-9   n-12 db_pos    Ratios  \n",
       "112  656.7  614.7    n-9  4.234076  \n",
       "27   766.8  724.8              NaN  \n",
       "171  684.7  642.7    n-7       NaN  \n",
       "108  654.6  612.6    n-9  3.157895  \n",
       "26   764.8  722.8              NaN  \n",
       "..     ...    ...    ...       ...  \n",
       "98   788.8  746.8              NaN  \n",
       "369  706.7  664.7    n-7       NaN  \n",
       "312  676.6  634.6    n-9  1.067273  \n",
       "97   786.8  744.8              NaN  \n",
       "366  704.7  662.7    n-7       NaN  \n",
       "\n",
       "[96 rows x 13 columns]"
      ]
     },
     "execution_count": 12,
     "metadata": {},
     "output_type": "execute_result"
    }
   ],
   "source": [
    "df_matched_6.head(None)\n",
    "# look at only RBD sample ID\n",
    "# df_matched_6[df_matched_6['Sample_ID'].str.contains('RBD')].head(None)"
   ]
  },
  {
   "attachments": {},
   "cell_type": "markdown",
   "metadata": {},
   "source": [
    "Visualizations"
   ]
  },
  {
   "cell_type": "code",
   "execution_count": 14,
   "metadata": {},
   "outputs": [
    {
     "data": {
      "application/vnd.plotly.v1+json": {
       "config": {
        "plotlyServerURL": "https://plot.ly"
       },
       "data": [
        {
         "alignmentgroup": "True",
         "hovertemplate": "Lipid=%{x}<br>Ratios=%{text}<extra></extra>",
         "legendgroup": "",
         "marker": {
          "color": [
           "blue",
           "blue",
           "blue",
           "blue",
           "blue",
           "blue",
           "purple",
           "purple",
           "purple",
           "green",
           "green",
           "green",
           "green",
           "green",
           "green",
           "green",
           "green",
           "green",
           "blue",
           "blue",
           "blue",
           "blue",
           "blue",
           "blue",
           "blue",
           "blue",
           "green",
           "green",
           "green",
           "green",
           "green",
           "green"
          ],
          "line": {
           "width": 0
          }
         },
         "name": "",
         "offsetgroup": "",
         "orientation": "v",
         "showlegend": false,
         "text": [
          4.234076015727392,
          null,
          null,
          3.1578947368421053,
          null,
          null,
          1.1283185840707965,
          null,
          null,
          3.9351988217967597,
          null,
          null,
          5.810543465611544,
          null,
          null,
          4.90838029449191,
          null,
          null,
          3.048780487804878,
          null,
          null,
          1.7387387387387387,
          null,
          null,
          null,
          null,
          4.086247086247086,
          null,
          null,
          1.7362637362637363,
          null,
          null
         ],
         "textposition": "auto",
         "texttemplate": "%{text:.2f}",
         "type": "bar",
         "x": [
          "TG(52:2)]_FA18:1",
          "TG(52:2)]_FA18:1",
          "TG(52:2)]_FA18:1",
          "TG(52:3)]_FA18:1",
          "TG(52:3)]_FA18:1",
          "TG(52:3)]_FA18:1",
          "TG(53:0)]_FA18:1",
          "TG(53:0)]_FA18:1",
          "TG(53:0)]_FA18:1",
          "TG(54:2)]_FA18:1",
          "TG(54:2)]_FA18:1",
          "TG(54:2)]_FA18:1",
          "TG(54:3)]_FA18:1",
          "TG(54:3)]_FA18:1",
          "TG(54:3)]_FA18:1",
          "TG(54:4)]_FA18:1",
          "TG(54:4)]_FA18:1",
          "TG(54:4)]_FA18:1",
          "[TG(52:4)]_FA18:1",
          "[TG(52:4)]_FA18:1",
          "[TG(52:4)]_FA18:1",
          "[TG(52:5)]_FA18:1",
          "[TG(52:5)]_FA18:1",
          "[TG(52:5)]_FA18:1",
          "[TG(52:6)]_FA18:1",
          "[TG(52:6)]_FA18:1",
          "[TG(54:5)]_FA18:1",
          "[TG(54:5)]_FA18:1",
          "[TG(54:5)]_FA18:1",
          "[TG(54:6)]_FA18:1",
          "[TG(54:6)]_FA18:1",
          "[TG(54:6)]_FA18:1"
         ],
         "xaxis": "x",
         "y": [
          4.234076015727392,
          null,
          null,
          3.1578947368421053,
          null,
          null,
          1.1283185840707965,
          null,
          null,
          3.9351988217967597,
          null,
          null,
          5.810543465611544,
          null,
          null,
          4.90838029449191,
          null,
          null,
          3.048780487804878,
          null,
          null,
          1.7387387387387387,
          null,
          null,
          null,
          null,
          4.086247086247086,
          null,
          null,
          1.7362637362637363,
          null,
          null
         ],
         "yaxis": "y"
        }
       ],
       "layout": {
        "barmode": "relative",
        "legend": {
         "itemsizing": "constant",
         "title": {
          "text": "Lipid Patterns"
         },
         "tracegroupgap": 50
        },
        "template": {
         "data": {
          "bar": [
           {
            "error_x": {
             "color": "#2a3f5f"
            },
            "error_y": {
             "color": "#2a3f5f"
            },
            "marker": {
             "line": {
              "color": "#E5ECF6",
              "width": 0.5
             }
            },
            "type": "bar"
           }
          ],
          "barpolar": [
           {
            "marker": {
             "line": {
              "color": "#E5ECF6",
              "width": 0.5
             }
            },
            "type": "barpolar"
           }
          ],
          "carpet": [
           {
            "aaxis": {
             "endlinecolor": "#2a3f5f",
             "gridcolor": "white",
             "linecolor": "white",
             "minorgridcolor": "white",
             "startlinecolor": "#2a3f5f"
            },
            "baxis": {
             "endlinecolor": "#2a3f5f",
             "gridcolor": "white",
             "linecolor": "white",
             "minorgridcolor": "white",
             "startlinecolor": "#2a3f5f"
            },
            "type": "carpet"
           }
          ],
          "choropleth": [
           {
            "colorbar": {
             "outlinewidth": 0,
             "ticks": ""
            },
            "type": "choropleth"
           }
          ],
          "contour": [
           {
            "colorbar": {
             "outlinewidth": 0,
             "ticks": ""
            },
            "colorscale": [
             [
              0,
              "#0d0887"
             ],
             [
              0.1111111111111111,
              "#46039f"
             ],
             [
              0.2222222222222222,
              "#7201a8"
             ],
             [
              0.3333333333333333,
              "#9c179e"
             ],
             [
              0.4444444444444444,
              "#bd3786"
             ],
             [
              0.5555555555555556,
              "#d8576b"
             ],
             [
              0.6666666666666666,
              "#ed7953"
             ],
             [
              0.7777777777777778,
              "#fb9f3a"
             ],
             [
              0.8888888888888888,
              "#fdca26"
             ],
             [
              1,
              "#f0f921"
             ]
            ],
            "type": "contour"
           }
          ],
          "contourcarpet": [
           {
            "colorbar": {
             "outlinewidth": 0,
             "ticks": ""
            },
            "type": "contourcarpet"
           }
          ],
          "heatmap": [
           {
            "colorbar": {
             "outlinewidth": 0,
             "ticks": ""
            },
            "colorscale": [
             [
              0,
              "#0d0887"
             ],
             [
              0.1111111111111111,
              "#46039f"
             ],
             [
              0.2222222222222222,
              "#7201a8"
             ],
             [
              0.3333333333333333,
              "#9c179e"
             ],
             [
              0.4444444444444444,
              "#bd3786"
             ],
             [
              0.5555555555555556,
              "#d8576b"
             ],
             [
              0.6666666666666666,
              "#ed7953"
             ],
             [
              0.7777777777777778,
              "#fb9f3a"
             ],
             [
              0.8888888888888888,
              "#fdca26"
             ],
             [
              1,
              "#f0f921"
             ]
            ],
            "type": "heatmap"
           }
          ],
          "heatmapgl": [
           {
            "colorbar": {
             "outlinewidth": 0,
             "ticks": ""
            },
            "colorscale": [
             [
              0,
              "#0d0887"
             ],
             [
              0.1111111111111111,
              "#46039f"
             ],
             [
              0.2222222222222222,
              "#7201a8"
             ],
             [
              0.3333333333333333,
              "#9c179e"
             ],
             [
              0.4444444444444444,
              "#bd3786"
             ],
             [
              0.5555555555555556,
              "#d8576b"
             ],
             [
              0.6666666666666666,
              "#ed7953"
             ],
             [
              0.7777777777777778,
              "#fb9f3a"
             ],
             [
              0.8888888888888888,
              "#fdca26"
             ],
             [
              1,
              "#f0f921"
             ]
            ],
            "type": "heatmapgl"
           }
          ],
          "histogram": [
           {
            "marker": {
             "colorbar": {
              "outlinewidth": 0,
              "ticks": ""
             }
            },
            "type": "histogram"
           }
          ],
          "histogram2d": [
           {
            "colorbar": {
             "outlinewidth": 0,
             "ticks": ""
            },
            "colorscale": [
             [
              0,
              "#0d0887"
             ],
             [
              0.1111111111111111,
              "#46039f"
             ],
             [
              0.2222222222222222,
              "#7201a8"
             ],
             [
              0.3333333333333333,
              "#9c179e"
             ],
             [
              0.4444444444444444,
              "#bd3786"
             ],
             [
              0.5555555555555556,
              "#d8576b"
             ],
             [
              0.6666666666666666,
              "#ed7953"
             ],
             [
              0.7777777777777778,
              "#fb9f3a"
             ],
             [
              0.8888888888888888,
              "#fdca26"
             ],
             [
              1,
              "#f0f921"
             ]
            ],
            "type": "histogram2d"
           }
          ],
          "histogram2dcontour": [
           {
            "colorbar": {
             "outlinewidth": 0,
             "ticks": ""
            },
            "colorscale": [
             [
              0,
              "#0d0887"
             ],
             [
              0.1111111111111111,
              "#46039f"
             ],
             [
              0.2222222222222222,
              "#7201a8"
             ],
             [
              0.3333333333333333,
              "#9c179e"
             ],
             [
              0.4444444444444444,
              "#bd3786"
             ],
             [
              0.5555555555555556,
              "#d8576b"
             ],
             [
              0.6666666666666666,
              "#ed7953"
             ],
             [
              0.7777777777777778,
              "#fb9f3a"
             ],
             [
              0.8888888888888888,
              "#fdca26"
             ],
             [
              1,
              "#f0f921"
             ]
            ],
            "type": "histogram2dcontour"
           }
          ],
          "mesh3d": [
           {
            "colorbar": {
             "outlinewidth": 0,
             "ticks": ""
            },
            "type": "mesh3d"
           }
          ],
          "parcoords": [
           {
            "line": {
             "colorbar": {
              "outlinewidth": 0,
              "ticks": ""
             }
            },
            "type": "parcoords"
           }
          ],
          "pie": [
           {
            "automargin": true,
            "type": "pie"
           }
          ],
          "scatter": [
           {
            "marker": {
             "colorbar": {
              "outlinewidth": 0,
              "ticks": ""
             }
            },
            "type": "scatter"
           }
          ],
          "scatter3d": [
           {
            "line": {
             "colorbar": {
              "outlinewidth": 0,
              "ticks": ""
             }
            },
            "marker": {
             "colorbar": {
              "outlinewidth": 0,
              "ticks": ""
             }
            },
            "type": "scatter3d"
           }
          ],
          "scattercarpet": [
           {
            "marker": {
             "colorbar": {
              "outlinewidth": 0,
              "ticks": ""
             }
            },
            "type": "scattercarpet"
           }
          ],
          "scattergeo": [
           {
            "marker": {
             "colorbar": {
              "outlinewidth": 0,
              "ticks": ""
             }
            },
            "type": "scattergeo"
           }
          ],
          "scattergl": [
           {
            "marker": {
             "colorbar": {
              "outlinewidth": 0,
              "ticks": ""
             }
            },
            "type": "scattergl"
           }
          ],
          "scattermapbox": [
           {
            "marker": {
             "colorbar": {
              "outlinewidth": 0,
              "ticks": ""
             }
            },
            "type": "scattermapbox"
           }
          ],
          "scatterpolar": [
           {
            "marker": {
             "colorbar": {
              "outlinewidth": 0,
              "ticks": ""
             }
            },
            "type": "scatterpolar"
           }
          ],
          "scatterpolargl": [
           {
            "marker": {
             "colorbar": {
              "outlinewidth": 0,
              "ticks": ""
             }
            },
            "type": "scatterpolargl"
           }
          ],
          "scatterternary": [
           {
            "marker": {
             "colorbar": {
              "outlinewidth": 0,
              "ticks": ""
             }
            },
            "type": "scatterternary"
           }
          ],
          "surface": [
           {
            "colorbar": {
             "outlinewidth": 0,
             "ticks": ""
            },
            "colorscale": [
             [
              0,
              "#0d0887"
             ],
             [
              0.1111111111111111,
              "#46039f"
             ],
             [
              0.2222222222222222,
              "#7201a8"
             ],
             [
              0.3333333333333333,
              "#9c179e"
             ],
             [
              0.4444444444444444,
              "#bd3786"
             ],
             [
              0.5555555555555556,
              "#d8576b"
             ],
             [
              0.6666666666666666,
              "#ed7953"
             ],
             [
              0.7777777777777778,
              "#fb9f3a"
             ],
             [
              0.8888888888888888,
              "#fdca26"
             ],
             [
              1,
              "#f0f921"
             ]
            ],
            "type": "surface"
           }
          ],
          "table": [
           {
            "cells": {
             "fill": {
              "color": "#EBF0F8"
             },
             "line": {
              "color": "white"
             }
            },
            "header": {
             "fill": {
              "color": "#C8D4E3"
             },
             "line": {
              "color": "white"
             }
            },
            "type": "table"
           }
          ]
         },
         "layout": {
          "annotationdefaults": {
           "arrowcolor": "#2a3f5f",
           "arrowhead": 0,
           "arrowwidth": 1
          },
          "coloraxis": {
           "colorbar": {
            "outlinewidth": 0,
            "ticks": ""
           }
          },
          "colorscale": {
           "diverging": [
            [
             0,
             "#8e0152"
            ],
            [
             0.1,
             "#c51b7d"
            ],
            [
             0.2,
             "#de77ae"
            ],
            [
             0.3,
             "#f1b6da"
            ],
            [
             0.4,
             "#fde0ef"
            ],
            [
             0.5,
             "#f7f7f7"
            ],
            [
             0.6,
             "#e6f5d0"
            ],
            [
             0.7,
             "#b8e186"
            ],
            [
             0.8,
             "#7fbc41"
            ],
            [
             0.9,
             "#4d9221"
            ],
            [
             1,
             "#276419"
            ]
           ],
           "sequential": [
            [
             0,
             "#0d0887"
            ],
            [
             0.1111111111111111,
             "#46039f"
            ],
            [
             0.2222222222222222,
             "#7201a8"
            ],
            [
             0.3333333333333333,
             "#9c179e"
            ],
            [
             0.4444444444444444,
             "#bd3786"
            ],
            [
             0.5555555555555556,
             "#d8576b"
            ],
            [
             0.6666666666666666,
             "#ed7953"
            ],
            [
             0.7777777777777778,
             "#fb9f3a"
            ],
            [
             0.8888888888888888,
             "#fdca26"
            ],
            [
             1,
             "#f0f921"
            ]
           ],
           "sequentialminus": [
            [
             0,
             "#0d0887"
            ],
            [
             0.1111111111111111,
             "#46039f"
            ],
            [
             0.2222222222222222,
             "#7201a8"
            ],
            [
             0.3333333333333333,
             "#9c179e"
            ],
            [
             0.4444444444444444,
             "#bd3786"
            ],
            [
             0.5555555555555556,
             "#d8576b"
            ],
            [
             0.6666666666666666,
             "#ed7953"
            ],
            [
             0.7777777777777778,
             "#fb9f3a"
            ],
            [
             0.8888888888888888,
             "#fdca26"
            ],
            [
             1,
             "#f0f921"
            ]
           ]
          },
          "colorway": [
           "#636efa",
           "#EF553B",
           "#00cc96",
           "#ab63fa",
           "#FFA15A",
           "#19d3f3",
           "#FF6692",
           "#B6E880",
           "#FF97FF",
           "#FECB52"
          ],
          "font": {
           "color": "#2a3f5f"
          },
          "geo": {
           "bgcolor": "white",
           "lakecolor": "white",
           "landcolor": "#E5ECF6",
           "showlakes": true,
           "showland": true,
           "subunitcolor": "white"
          },
          "hoverlabel": {
           "align": "left"
          },
          "hovermode": "closest",
          "mapbox": {
           "style": "light"
          },
          "paper_bgcolor": "white",
          "plot_bgcolor": "#E5ECF6",
          "polar": {
           "angularaxis": {
            "gridcolor": "white",
            "linecolor": "white",
            "ticks": ""
           },
           "bgcolor": "#E5ECF6",
           "radialaxis": {
            "gridcolor": "white",
            "linecolor": "white",
            "ticks": ""
           }
          },
          "scene": {
           "xaxis": {
            "backgroundcolor": "#E5ECF6",
            "gridcolor": "white",
            "gridwidth": 2,
            "linecolor": "white",
            "showbackground": true,
            "ticks": "",
            "zerolinecolor": "white"
           },
           "yaxis": {
            "backgroundcolor": "#E5ECF6",
            "gridcolor": "white",
            "gridwidth": 2,
            "linecolor": "white",
            "showbackground": true,
            "ticks": "",
            "zerolinecolor": "white"
           },
           "zaxis": {
            "backgroundcolor": "#E5ECF6",
            "gridcolor": "white",
            "gridwidth": 2,
            "linecolor": "white",
            "showbackground": true,
            "ticks": "",
            "zerolinecolor": "white"
           }
          },
          "shapedefaults": {
           "line": {
            "color": "#2a3f5f"
           }
          },
          "ternary": {
           "aaxis": {
            "gridcolor": "white",
            "linecolor": "white",
            "ticks": ""
           },
           "baxis": {
            "gridcolor": "white",
            "linecolor": "white",
            "ticks": ""
           },
           "bgcolor": "#E5ECF6",
           "caxis": {
            "gridcolor": "white",
            "linecolor": "white",
            "ticks": ""
           }
          },
          "title": {
           "x": 0.05
          },
          "xaxis": {
           "automargin": true,
           "gridcolor": "white",
           "linecolor": "white",
           "ticks": "",
           "title": {
            "standoff": 15
           },
           "zerolinecolor": "white",
           "zerolinewidth": 2
          },
          "yaxis": {
           "automargin": true,
           "gridcolor": "white",
           "linecolor": "white",
           "ticks": "",
           "title": {
            "standoff": 15
           },
           "zerolinecolor": "white",
           "zerolinewidth": 2
          }
         }
        },
        "title": {
         "font": {
          "size": 20
         },
         "text": "Sample_ID: CrudeCanola_O3on_150gN3_02082023"
        },
        "uniformtext": {
         "minsize": 18,
         "mode": "hide"
        },
        "xaxis": {
         "anchor": "y",
         "domain": [
          0,
          1
         ],
         "title": {
          "font": {
           "size": 16
          },
          "text": "Lipid"
         }
        },
        "yaxis": {
         "anchor": "x",
         "domain": [
          0,
          1
         ],
         "tickfont": {
          "size": 16
         },
         "title": {
          "font": {
           "size": 16
          },
          "text": "Ratios"
         }
        }
       }
      },
      "text/html": [
       "<div>                            <div id=\"755a1015-57ea-4a99-8a62-0a67ea8b82c3\" class=\"plotly-graph-div\" style=\"height:525px; width:100%;\"></div>            <script type=\"text/javascript\">                require([\"plotly\"], function(Plotly) {                    window.PLOTLYENV=window.PLOTLYENV || {};                                    if (document.getElementById(\"755a1015-57ea-4a99-8a62-0a67ea8b82c3\")) {                    Plotly.newPlot(                        \"755a1015-57ea-4a99-8a62-0a67ea8b82c3\",                        [{\"alignmentgroup\": \"True\", \"hovertemplate\": \"Lipid=%{x}<br>Ratios=%{text}<extra></extra>\", \"legendgroup\": \"\", \"marker\": {\"color\": [\"blue\", \"blue\", \"blue\", \"blue\", \"blue\", \"blue\", \"purple\", \"purple\", \"purple\", \"green\", \"green\", \"green\", \"green\", \"green\", \"green\", \"green\", \"green\", \"green\", \"blue\", \"blue\", \"blue\", \"blue\", \"blue\", \"blue\", \"blue\", \"blue\", \"green\", \"green\", \"green\", \"green\", \"green\", \"green\"], \"line\": {\"width\": 0}}, \"name\": \"\", \"offsetgroup\": \"\", \"orientation\": \"v\", \"showlegend\": false, \"text\": [4.234076015727392, null, null, 3.1578947368421053, null, null, 1.1283185840707965, null, null, 3.9351988217967597, null, null, 5.810543465611544, null, null, 4.90838029449191, null, null, 3.048780487804878, null, null, 1.7387387387387387, null, null, null, null, 4.086247086247086, null, null, 1.7362637362637363, null, null], \"textposition\": \"auto\", \"texttemplate\": \"%{text:.2f}\", \"type\": \"bar\", \"x\": [\"TG(52:2)]_FA18:1\", \"TG(52:2)]_FA18:1\", \"TG(52:2)]_FA18:1\", \"TG(52:3)]_FA18:1\", \"TG(52:3)]_FA18:1\", \"TG(52:3)]_FA18:1\", \"TG(53:0)]_FA18:1\", \"TG(53:0)]_FA18:1\", \"TG(53:0)]_FA18:1\", \"TG(54:2)]_FA18:1\", \"TG(54:2)]_FA18:1\", \"TG(54:2)]_FA18:1\", \"TG(54:3)]_FA18:1\", \"TG(54:3)]_FA18:1\", \"TG(54:3)]_FA18:1\", \"TG(54:4)]_FA18:1\", \"TG(54:4)]_FA18:1\", \"TG(54:4)]_FA18:1\", \"[TG(52:4)]_FA18:1\", \"[TG(52:4)]_FA18:1\", \"[TG(52:4)]_FA18:1\", \"[TG(52:5)]_FA18:1\", \"[TG(52:5)]_FA18:1\", \"[TG(52:5)]_FA18:1\", \"[TG(52:6)]_FA18:1\", \"[TG(52:6)]_FA18:1\", \"[TG(54:5)]_FA18:1\", \"[TG(54:5)]_FA18:1\", \"[TG(54:5)]_FA18:1\", \"[TG(54:6)]_FA18:1\", \"[TG(54:6)]_FA18:1\", \"[TG(54:6)]_FA18:1\"], \"xaxis\": \"x\", \"y\": [4.234076015727392, null, null, 3.1578947368421053, null, null, 1.1283185840707965, null, null, 3.9351988217967597, null, null, 5.810543465611544, null, null, 4.90838029449191, null, null, 3.048780487804878, null, null, 1.7387387387387387, null, null, null, null, 4.086247086247086, null, null, 1.7362637362637363, null, null], \"yaxis\": \"y\"}],                        {\"barmode\": \"relative\", \"legend\": {\"itemsizing\": \"constant\", \"title\": {\"text\": \"Lipid Patterns\"}, \"tracegroupgap\": 50}, \"template\": {\"data\": {\"bar\": [{\"error_x\": {\"color\": \"#2a3f5f\"}, \"error_y\": {\"color\": \"#2a3f5f\"}, \"marker\": {\"line\": {\"color\": \"#E5ECF6\", \"width\": 0.5}}, \"type\": \"bar\"}], \"barpolar\": [{\"marker\": {\"line\": {\"color\": \"#E5ECF6\", \"width\": 0.5}}, \"type\": \"barpolar\"}], \"carpet\": [{\"aaxis\": {\"endlinecolor\": \"#2a3f5f\", \"gridcolor\": \"white\", \"linecolor\": \"white\", \"minorgridcolor\": \"white\", \"startlinecolor\": \"#2a3f5f\"}, \"baxis\": {\"endlinecolor\": \"#2a3f5f\", \"gridcolor\": \"white\", \"linecolor\": \"white\", \"minorgridcolor\": \"white\", \"startlinecolor\": \"#2a3f5f\"}, \"type\": \"carpet\"}], \"choropleth\": [{\"colorbar\": {\"outlinewidth\": 0, \"ticks\": \"\"}, \"type\": \"choropleth\"}], \"contour\": [{\"colorbar\": {\"outlinewidth\": 0, \"ticks\": \"\"}, \"colorscale\": [[0.0, \"#0d0887\"], [0.1111111111111111, \"#46039f\"], [0.2222222222222222, \"#7201a8\"], [0.3333333333333333, \"#9c179e\"], [0.4444444444444444, \"#bd3786\"], [0.5555555555555556, \"#d8576b\"], [0.6666666666666666, \"#ed7953\"], [0.7777777777777778, \"#fb9f3a\"], [0.8888888888888888, \"#fdca26\"], [1.0, \"#f0f921\"]], \"type\": \"contour\"}], \"contourcarpet\": [{\"colorbar\": {\"outlinewidth\": 0, \"ticks\": \"\"}, \"type\": \"contourcarpet\"}], \"heatmap\": [{\"colorbar\": {\"outlinewidth\": 0, \"ticks\": \"\"}, \"colorscale\": [[0.0, \"#0d0887\"], [0.1111111111111111, \"#46039f\"], [0.2222222222222222, \"#7201a8\"], [0.3333333333333333, \"#9c179e\"], [0.4444444444444444, \"#bd3786\"], [0.5555555555555556, \"#d8576b\"], [0.6666666666666666, \"#ed7953\"], [0.7777777777777778, \"#fb9f3a\"], [0.8888888888888888, \"#fdca26\"], [1.0, \"#f0f921\"]], \"type\": \"heatmap\"}], \"heatmapgl\": [{\"colorbar\": {\"outlinewidth\": 0, \"ticks\": \"\"}, \"colorscale\": [[0.0, \"#0d0887\"], [0.1111111111111111, \"#46039f\"], [0.2222222222222222, \"#7201a8\"], [0.3333333333333333, \"#9c179e\"], [0.4444444444444444, \"#bd3786\"], [0.5555555555555556, \"#d8576b\"], [0.6666666666666666, \"#ed7953\"], [0.7777777777777778, \"#fb9f3a\"], [0.8888888888888888, \"#fdca26\"], [1.0, \"#f0f921\"]], \"type\": \"heatmapgl\"}], \"histogram\": [{\"marker\": {\"colorbar\": {\"outlinewidth\": 0, \"ticks\": \"\"}}, \"type\": \"histogram\"}], \"histogram2d\": [{\"colorbar\": {\"outlinewidth\": 0, \"ticks\": \"\"}, \"colorscale\": [[0.0, \"#0d0887\"], [0.1111111111111111, \"#46039f\"], [0.2222222222222222, \"#7201a8\"], [0.3333333333333333, \"#9c179e\"], [0.4444444444444444, \"#bd3786\"], [0.5555555555555556, \"#d8576b\"], [0.6666666666666666, \"#ed7953\"], [0.7777777777777778, \"#fb9f3a\"], [0.8888888888888888, \"#fdca26\"], [1.0, \"#f0f921\"]], \"type\": \"histogram2d\"}], \"histogram2dcontour\": [{\"colorbar\": {\"outlinewidth\": 0, \"ticks\": \"\"}, \"colorscale\": [[0.0, \"#0d0887\"], [0.1111111111111111, \"#46039f\"], [0.2222222222222222, \"#7201a8\"], [0.3333333333333333, \"#9c179e\"], [0.4444444444444444, \"#bd3786\"], [0.5555555555555556, \"#d8576b\"], [0.6666666666666666, \"#ed7953\"], [0.7777777777777778, \"#fb9f3a\"], [0.8888888888888888, \"#fdca26\"], [1.0, \"#f0f921\"]], \"type\": \"histogram2dcontour\"}], \"mesh3d\": [{\"colorbar\": {\"outlinewidth\": 0, \"ticks\": \"\"}, \"type\": \"mesh3d\"}], \"parcoords\": [{\"line\": {\"colorbar\": {\"outlinewidth\": 0, \"ticks\": \"\"}}, \"type\": \"parcoords\"}], \"pie\": [{\"automargin\": true, \"type\": \"pie\"}], \"scatter\": [{\"marker\": {\"colorbar\": {\"outlinewidth\": 0, \"ticks\": \"\"}}, \"type\": \"scatter\"}], \"scatter3d\": [{\"line\": {\"colorbar\": {\"outlinewidth\": 0, \"ticks\": \"\"}}, \"marker\": {\"colorbar\": {\"outlinewidth\": 0, \"ticks\": \"\"}}, \"type\": \"scatter3d\"}], \"scattercarpet\": [{\"marker\": {\"colorbar\": {\"outlinewidth\": 0, \"ticks\": \"\"}}, \"type\": \"scattercarpet\"}], \"scattergeo\": [{\"marker\": {\"colorbar\": {\"outlinewidth\": 0, \"ticks\": \"\"}}, \"type\": \"scattergeo\"}], \"scattergl\": [{\"marker\": {\"colorbar\": {\"outlinewidth\": 0, \"ticks\": \"\"}}, \"type\": \"scattergl\"}], \"scattermapbox\": [{\"marker\": {\"colorbar\": {\"outlinewidth\": 0, \"ticks\": \"\"}}, \"type\": \"scattermapbox\"}], \"scatterpolar\": [{\"marker\": {\"colorbar\": {\"outlinewidth\": 0, \"ticks\": \"\"}}, \"type\": \"scatterpolar\"}], \"scatterpolargl\": [{\"marker\": {\"colorbar\": {\"outlinewidth\": 0, \"ticks\": \"\"}}, \"type\": \"scatterpolargl\"}], \"scatterternary\": [{\"marker\": {\"colorbar\": {\"outlinewidth\": 0, \"ticks\": \"\"}}, \"type\": \"scatterternary\"}], \"surface\": [{\"colorbar\": {\"outlinewidth\": 0, \"ticks\": \"\"}, \"colorscale\": [[0.0, \"#0d0887\"], [0.1111111111111111, \"#46039f\"], [0.2222222222222222, \"#7201a8\"], [0.3333333333333333, \"#9c179e\"], [0.4444444444444444, \"#bd3786\"], [0.5555555555555556, \"#d8576b\"], [0.6666666666666666, \"#ed7953\"], [0.7777777777777778, \"#fb9f3a\"], [0.8888888888888888, \"#fdca26\"], [1.0, \"#f0f921\"]], \"type\": \"surface\"}], \"table\": [{\"cells\": {\"fill\": {\"color\": \"#EBF0F8\"}, \"line\": {\"color\": \"white\"}}, \"header\": {\"fill\": {\"color\": \"#C8D4E3\"}, \"line\": {\"color\": \"white\"}}, \"type\": \"table\"}]}, \"layout\": {\"annotationdefaults\": {\"arrowcolor\": \"#2a3f5f\", \"arrowhead\": 0, \"arrowwidth\": 1}, \"coloraxis\": {\"colorbar\": {\"outlinewidth\": 0, \"ticks\": \"\"}}, \"colorscale\": {\"diverging\": [[0, \"#8e0152\"], [0.1, \"#c51b7d\"], [0.2, \"#de77ae\"], [0.3, \"#f1b6da\"], [0.4, \"#fde0ef\"], [0.5, \"#f7f7f7\"], [0.6, \"#e6f5d0\"], [0.7, \"#b8e186\"], [0.8, \"#7fbc41\"], [0.9, \"#4d9221\"], [1, \"#276419\"]], \"sequential\": [[0.0, \"#0d0887\"], [0.1111111111111111, \"#46039f\"], [0.2222222222222222, \"#7201a8\"], [0.3333333333333333, \"#9c179e\"], [0.4444444444444444, \"#bd3786\"], [0.5555555555555556, \"#d8576b\"], [0.6666666666666666, \"#ed7953\"], [0.7777777777777778, \"#fb9f3a\"], [0.8888888888888888, \"#fdca26\"], [1.0, \"#f0f921\"]], \"sequentialminus\": [[0.0, \"#0d0887\"], [0.1111111111111111, \"#46039f\"], [0.2222222222222222, \"#7201a8\"], [0.3333333333333333, \"#9c179e\"], [0.4444444444444444, \"#bd3786\"], [0.5555555555555556, \"#d8576b\"], [0.6666666666666666, \"#ed7953\"], [0.7777777777777778, \"#fb9f3a\"], [0.8888888888888888, \"#fdca26\"], [1.0, \"#f0f921\"]]}, \"colorway\": [\"#636efa\", \"#EF553B\", \"#00cc96\", \"#ab63fa\", \"#FFA15A\", \"#19d3f3\", \"#FF6692\", \"#B6E880\", \"#FF97FF\", \"#FECB52\"], \"font\": {\"color\": \"#2a3f5f\"}, \"geo\": {\"bgcolor\": \"white\", \"lakecolor\": \"white\", \"landcolor\": \"#E5ECF6\", \"showlakes\": true, \"showland\": true, \"subunitcolor\": \"white\"}, \"hoverlabel\": {\"align\": \"left\"}, \"hovermode\": \"closest\", \"mapbox\": {\"style\": \"light\"}, \"paper_bgcolor\": \"white\", \"plot_bgcolor\": \"#E5ECF6\", \"polar\": {\"angularaxis\": {\"gridcolor\": \"white\", \"linecolor\": \"white\", \"ticks\": \"\"}, \"bgcolor\": \"#E5ECF6\", \"radialaxis\": {\"gridcolor\": \"white\", \"linecolor\": \"white\", \"ticks\": \"\"}}, \"scene\": {\"xaxis\": {\"backgroundcolor\": \"#E5ECF6\", \"gridcolor\": \"white\", \"gridwidth\": 2, \"linecolor\": \"white\", \"showbackground\": true, \"ticks\": \"\", \"zerolinecolor\": \"white\"}, \"yaxis\": {\"backgroundcolor\": \"#E5ECF6\", \"gridcolor\": \"white\", \"gridwidth\": 2, \"linecolor\": \"white\", \"showbackground\": true, \"ticks\": \"\", \"zerolinecolor\": \"white\"}, \"zaxis\": {\"backgroundcolor\": \"#E5ECF6\", \"gridcolor\": \"white\", \"gridwidth\": 2, \"linecolor\": \"white\", \"showbackground\": true, \"ticks\": \"\", \"zerolinecolor\": \"white\"}}, \"shapedefaults\": {\"line\": {\"color\": \"#2a3f5f\"}}, \"ternary\": {\"aaxis\": {\"gridcolor\": \"white\", \"linecolor\": \"white\", \"ticks\": \"\"}, \"baxis\": {\"gridcolor\": \"white\", \"linecolor\": \"white\", \"ticks\": \"\"}, \"bgcolor\": \"#E5ECF6\", \"caxis\": {\"gridcolor\": \"white\", \"linecolor\": \"white\", \"ticks\": \"\"}}, \"title\": {\"x\": 0.05}, \"xaxis\": {\"automargin\": true, \"gridcolor\": \"white\", \"linecolor\": \"white\", \"ticks\": \"\", \"title\": {\"standoff\": 15}, \"zerolinecolor\": \"white\", \"zerolinewidth\": 2}, \"yaxis\": {\"automargin\": true, \"gridcolor\": \"white\", \"linecolor\": \"white\", \"ticks\": \"\", \"title\": {\"standoff\": 15}, \"zerolinecolor\": \"white\", \"zerolinewidth\": 2}}}, \"title\": {\"font\": {\"size\": 20}, \"text\": \"Sample_ID: CrudeCanola_O3on_150gN3_02082023\"}, \"uniformtext\": {\"minsize\": 18, \"mode\": \"hide\"}, \"xaxis\": {\"anchor\": \"y\", \"domain\": [0.0, 1.0], \"title\": {\"font\": {\"size\": 16}, \"text\": \"Lipid\"}}, \"yaxis\": {\"anchor\": \"x\", \"domain\": [0.0, 1.0], \"tickfont\": {\"size\": 16}, \"title\": {\"font\": {\"size\": 16}, \"text\": \"Ratios\"}}},                        {\"responsive\": true}                    ).then(function(){\n",
       "                            \n",
       "var gd = document.getElementById('755a1015-57ea-4a99-8a62-0a67ea8b82c3');\n",
       "var x = new MutationObserver(function (mutations, observer) {{\n",
       "        var display = window.getComputedStyle(gd).display;\n",
       "        if (!display || display === 'none') {{\n",
       "            console.log([gd, 'removed!']);\n",
       "            Plotly.purge(gd);\n",
       "            observer.disconnect();\n",
       "        }}\n",
       "}});\n",
       "\n",
       "// Listen for the removal of the full notebook cells\n",
       "var notebookContainer = gd.closest('#notebook-container');\n",
       "if (notebookContainer) {{\n",
       "    x.observe(notebookContainer, {childList: true});\n",
       "}}\n",
       "\n",
       "// Listen for the clearing of the current output cell\n",
       "var outputEl = gd.closest('.output');\n",
       "if (outputEl) {{\n",
       "    x.observe(outputEl, {childList: true});\n",
       "}}\n",
       "\n",
       "                        })                };                });            </script>        </div>"
      ]
     },
     "metadata": {},
     "output_type": "display_data"
    },
    {
     "data": {
      "application/vnd.plotly.v1+json": {
       "config": {
        "plotlyServerURL": "https://plot.ly"
       },
       "data": [
        {
         "alignmentgroup": "True",
         "hovertemplate": "Lipid=%{x}<br>Ratios=%{text}<extra></extra>",
         "legendgroup": "",
         "marker": {
          "color": [
           "blue",
           "blue",
           "blue",
           "blue",
           "blue",
           "blue",
           "purple",
           "purple",
           "purple",
           "green",
           "green",
           "green",
           "green",
           "green",
           "green",
           "green",
           "green",
           "green",
           "blue",
           "blue",
           "blue",
           "blue",
           "blue",
           "blue",
           "blue",
           "blue",
           "green",
           "green",
           "green",
           "green",
           "green",
           "green"
          ],
          "line": {
           "width": 0
          }
         },
         "name": "",
         "offsetgroup": "",
         "orientation": "v",
         "showlegend": false,
         "text": [
          4.312176165803109,
          null,
          null,
          2.499476439790576,
          null,
          null,
          0.9185185185185185,
          null,
          null,
          4.246096654275093,
          null,
          null,
          5.7485396383866485,
          null,
          null,
          4.065823512503593,
          null,
          null,
          2.9640625,
          null,
          null,
          1.36272040302267,
          null,
          null,
          null,
          null,
          3.827521206409048,
          null,
          null,
          1.211191335740072,
          null,
          null
         ],
         "textposition": "auto",
         "texttemplate": "%{text:.2f}",
         "type": "bar",
         "x": [
          "TG(52:2)]_FA18:1",
          "TG(52:2)]_FA18:1",
          "TG(52:2)]_FA18:1",
          "TG(52:3)]_FA18:1",
          "TG(52:3)]_FA18:1",
          "TG(52:3)]_FA18:1",
          "TG(53:0)]_FA18:1",
          "TG(53:0)]_FA18:1",
          "TG(53:0)]_FA18:1",
          "TG(54:2)]_FA18:1",
          "TG(54:2)]_FA18:1",
          "TG(54:2)]_FA18:1",
          "TG(54:3)]_FA18:1",
          "TG(54:3)]_FA18:1",
          "TG(54:3)]_FA18:1",
          "TG(54:4)]_FA18:1",
          "TG(54:4)]_FA18:1",
          "TG(54:4)]_FA18:1",
          "[TG(52:4)]_FA18:1",
          "[TG(52:4)]_FA18:1",
          "[TG(52:4)]_FA18:1",
          "[TG(52:5)]_FA18:1",
          "[TG(52:5)]_FA18:1",
          "[TG(52:5)]_FA18:1",
          "[TG(52:6)]_FA18:1",
          "[TG(52:6)]_FA18:1",
          "[TG(54:5)]_FA18:1",
          "[TG(54:5)]_FA18:1",
          "[TG(54:5)]_FA18:1",
          "[TG(54:6)]_FA18:1",
          "[TG(54:6)]_FA18:1",
          "[TG(54:6)]_FA18:1"
         ],
         "xaxis": "x",
         "y": [
          4.312176165803109,
          null,
          null,
          2.499476439790576,
          null,
          null,
          0.9185185185185185,
          null,
          null,
          4.246096654275093,
          null,
          null,
          5.7485396383866485,
          null,
          null,
          4.065823512503593,
          null,
          null,
          2.9640625,
          null,
          null,
          1.36272040302267,
          null,
          null,
          null,
          null,
          3.827521206409048,
          null,
          null,
          1.211191335740072,
          null,
          null
         ],
         "yaxis": "y"
        }
       ],
       "layout": {
        "barmode": "relative",
        "legend": {
         "itemsizing": "constant",
         "title": {
          "text": "Lipid Patterns"
         },
         "tracegroupgap": 50
        },
        "template": {
         "data": {
          "bar": [
           {
            "error_x": {
             "color": "#2a3f5f"
            },
            "error_y": {
             "color": "#2a3f5f"
            },
            "marker": {
             "line": {
              "color": "#E5ECF6",
              "width": 0.5
             }
            },
            "type": "bar"
           }
          ],
          "barpolar": [
           {
            "marker": {
             "line": {
              "color": "#E5ECF6",
              "width": 0.5
             }
            },
            "type": "barpolar"
           }
          ],
          "carpet": [
           {
            "aaxis": {
             "endlinecolor": "#2a3f5f",
             "gridcolor": "white",
             "linecolor": "white",
             "minorgridcolor": "white",
             "startlinecolor": "#2a3f5f"
            },
            "baxis": {
             "endlinecolor": "#2a3f5f",
             "gridcolor": "white",
             "linecolor": "white",
             "minorgridcolor": "white",
             "startlinecolor": "#2a3f5f"
            },
            "type": "carpet"
           }
          ],
          "choropleth": [
           {
            "colorbar": {
             "outlinewidth": 0,
             "ticks": ""
            },
            "type": "choropleth"
           }
          ],
          "contour": [
           {
            "colorbar": {
             "outlinewidth": 0,
             "ticks": ""
            },
            "colorscale": [
             [
              0,
              "#0d0887"
             ],
             [
              0.1111111111111111,
              "#46039f"
             ],
             [
              0.2222222222222222,
              "#7201a8"
             ],
             [
              0.3333333333333333,
              "#9c179e"
             ],
             [
              0.4444444444444444,
              "#bd3786"
             ],
             [
              0.5555555555555556,
              "#d8576b"
             ],
             [
              0.6666666666666666,
              "#ed7953"
             ],
             [
              0.7777777777777778,
              "#fb9f3a"
             ],
             [
              0.8888888888888888,
              "#fdca26"
             ],
             [
              1,
              "#f0f921"
             ]
            ],
            "type": "contour"
           }
          ],
          "contourcarpet": [
           {
            "colorbar": {
             "outlinewidth": 0,
             "ticks": ""
            },
            "type": "contourcarpet"
           }
          ],
          "heatmap": [
           {
            "colorbar": {
             "outlinewidth": 0,
             "ticks": ""
            },
            "colorscale": [
             [
              0,
              "#0d0887"
             ],
             [
              0.1111111111111111,
              "#46039f"
             ],
             [
              0.2222222222222222,
              "#7201a8"
             ],
             [
              0.3333333333333333,
              "#9c179e"
             ],
             [
              0.4444444444444444,
              "#bd3786"
             ],
             [
              0.5555555555555556,
              "#d8576b"
             ],
             [
              0.6666666666666666,
              "#ed7953"
             ],
             [
              0.7777777777777778,
              "#fb9f3a"
             ],
             [
              0.8888888888888888,
              "#fdca26"
             ],
             [
              1,
              "#f0f921"
             ]
            ],
            "type": "heatmap"
           }
          ],
          "heatmapgl": [
           {
            "colorbar": {
             "outlinewidth": 0,
             "ticks": ""
            },
            "colorscale": [
             [
              0,
              "#0d0887"
             ],
             [
              0.1111111111111111,
              "#46039f"
             ],
             [
              0.2222222222222222,
              "#7201a8"
             ],
             [
              0.3333333333333333,
              "#9c179e"
             ],
             [
              0.4444444444444444,
              "#bd3786"
             ],
             [
              0.5555555555555556,
              "#d8576b"
             ],
             [
              0.6666666666666666,
              "#ed7953"
             ],
             [
              0.7777777777777778,
              "#fb9f3a"
             ],
             [
              0.8888888888888888,
              "#fdca26"
             ],
             [
              1,
              "#f0f921"
             ]
            ],
            "type": "heatmapgl"
           }
          ],
          "histogram": [
           {
            "marker": {
             "colorbar": {
              "outlinewidth": 0,
              "ticks": ""
             }
            },
            "type": "histogram"
           }
          ],
          "histogram2d": [
           {
            "colorbar": {
             "outlinewidth": 0,
             "ticks": ""
            },
            "colorscale": [
             [
              0,
              "#0d0887"
             ],
             [
              0.1111111111111111,
              "#46039f"
             ],
             [
              0.2222222222222222,
              "#7201a8"
             ],
             [
              0.3333333333333333,
              "#9c179e"
             ],
             [
              0.4444444444444444,
              "#bd3786"
             ],
             [
              0.5555555555555556,
              "#d8576b"
             ],
             [
              0.6666666666666666,
              "#ed7953"
             ],
             [
              0.7777777777777778,
              "#fb9f3a"
             ],
             [
              0.8888888888888888,
              "#fdca26"
             ],
             [
              1,
              "#f0f921"
             ]
            ],
            "type": "histogram2d"
           }
          ],
          "histogram2dcontour": [
           {
            "colorbar": {
             "outlinewidth": 0,
             "ticks": ""
            },
            "colorscale": [
             [
              0,
              "#0d0887"
             ],
             [
              0.1111111111111111,
              "#46039f"
             ],
             [
              0.2222222222222222,
              "#7201a8"
             ],
             [
              0.3333333333333333,
              "#9c179e"
             ],
             [
              0.4444444444444444,
              "#bd3786"
             ],
             [
              0.5555555555555556,
              "#d8576b"
             ],
             [
              0.6666666666666666,
              "#ed7953"
             ],
             [
              0.7777777777777778,
              "#fb9f3a"
             ],
             [
              0.8888888888888888,
              "#fdca26"
             ],
             [
              1,
              "#f0f921"
             ]
            ],
            "type": "histogram2dcontour"
           }
          ],
          "mesh3d": [
           {
            "colorbar": {
             "outlinewidth": 0,
             "ticks": ""
            },
            "type": "mesh3d"
           }
          ],
          "parcoords": [
           {
            "line": {
             "colorbar": {
              "outlinewidth": 0,
              "ticks": ""
             }
            },
            "type": "parcoords"
           }
          ],
          "pie": [
           {
            "automargin": true,
            "type": "pie"
           }
          ],
          "scatter": [
           {
            "marker": {
             "colorbar": {
              "outlinewidth": 0,
              "ticks": ""
             }
            },
            "type": "scatter"
           }
          ],
          "scatter3d": [
           {
            "line": {
             "colorbar": {
              "outlinewidth": 0,
              "ticks": ""
             }
            },
            "marker": {
             "colorbar": {
              "outlinewidth": 0,
              "ticks": ""
             }
            },
            "type": "scatter3d"
           }
          ],
          "scattercarpet": [
           {
            "marker": {
             "colorbar": {
              "outlinewidth": 0,
              "ticks": ""
             }
            },
            "type": "scattercarpet"
           }
          ],
          "scattergeo": [
           {
            "marker": {
             "colorbar": {
              "outlinewidth": 0,
              "ticks": ""
             }
            },
            "type": "scattergeo"
           }
          ],
          "scattergl": [
           {
            "marker": {
             "colorbar": {
              "outlinewidth": 0,
              "ticks": ""
             }
            },
            "type": "scattergl"
           }
          ],
          "scattermapbox": [
           {
            "marker": {
             "colorbar": {
              "outlinewidth": 0,
              "ticks": ""
             }
            },
            "type": "scattermapbox"
           }
          ],
          "scatterpolar": [
           {
            "marker": {
             "colorbar": {
              "outlinewidth": 0,
              "ticks": ""
             }
            },
            "type": "scatterpolar"
           }
          ],
          "scatterpolargl": [
           {
            "marker": {
             "colorbar": {
              "outlinewidth": 0,
              "ticks": ""
             }
            },
            "type": "scatterpolargl"
           }
          ],
          "scatterternary": [
           {
            "marker": {
             "colorbar": {
              "outlinewidth": 0,
              "ticks": ""
             }
            },
            "type": "scatterternary"
           }
          ],
          "surface": [
           {
            "colorbar": {
             "outlinewidth": 0,
             "ticks": ""
            },
            "colorscale": [
             [
              0,
              "#0d0887"
             ],
             [
              0.1111111111111111,
              "#46039f"
             ],
             [
              0.2222222222222222,
              "#7201a8"
             ],
             [
              0.3333333333333333,
              "#9c179e"
             ],
             [
              0.4444444444444444,
              "#bd3786"
             ],
             [
              0.5555555555555556,
              "#d8576b"
             ],
             [
              0.6666666666666666,
              "#ed7953"
             ],
             [
              0.7777777777777778,
              "#fb9f3a"
             ],
             [
              0.8888888888888888,
              "#fdca26"
             ],
             [
              1,
              "#f0f921"
             ]
            ],
            "type": "surface"
           }
          ],
          "table": [
           {
            "cells": {
             "fill": {
              "color": "#EBF0F8"
             },
             "line": {
              "color": "white"
             }
            },
            "header": {
             "fill": {
              "color": "#C8D4E3"
             },
             "line": {
              "color": "white"
             }
            },
            "type": "table"
           }
          ]
         },
         "layout": {
          "annotationdefaults": {
           "arrowcolor": "#2a3f5f",
           "arrowhead": 0,
           "arrowwidth": 1
          },
          "coloraxis": {
           "colorbar": {
            "outlinewidth": 0,
            "ticks": ""
           }
          },
          "colorscale": {
           "diverging": [
            [
             0,
             "#8e0152"
            ],
            [
             0.1,
             "#c51b7d"
            ],
            [
             0.2,
             "#de77ae"
            ],
            [
             0.3,
             "#f1b6da"
            ],
            [
             0.4,
             "#fde0ef"
            ],
            [
             0.5,
             "#f7f7f7"
            ],
            [
             0.6,
             "#e6f5d0"
            ],
            [
             0.7,
             "#b8e186"
            ],
            [
             0.8,
             "#7fbc41"
            ],
            [
             0.9,
             "#4d9221"
            ],
            [
             1,
             "#276419"
            ]
           ],
           "sequential": [
            [
             0,
             "#0d0887"
            ],
            [
             0.1111111111111111,
             "#46039f"
            ],
            [
             0.2222222222222222,
             "#7201a8"
            ],
            [
             0.3333333333333333,
             "#9c179e"
            ],
            [
             0.4444444444444444,
             "#bd3786"
            ],
            [
             0.5555555555555556,
             "#d8576b"
            ],
            [
             0.6666666666666666,
             "#ed7953"
            ],
            [
             0.7777777777777778,
             "#fb9f3a"
            ],
            [
             0.8888888888888888,
             "#fdca26"
            ],
            [
             1,
             "#f0f921"
            ]
           ],
           "sequentialminus": [
            [
             0,
             "#0d0887"
            ],
            [
             0.1111111111111111,
             "#46039f"
            ],
            [
             0.2222222222222222,
             "#7201a8"
            ],
            [
             0.3333333333333333,
             "#9c179e"
            ],
            [
             0.4444444444444444,
             "#bd3786"
            ],
            [
             0.5555555555555556,
             "#d8576b"
            ],
            [
             0.6666666666666666,
             "#ed7953"
            ],
            [
             0.7777777777777778,
             "#fb9f3a"
            ],
            [
             0.8888888888888888,
             "#fdca26"
            ],
            [
             1,
             "#f0f921"
            ]
           ]
          },
          "colorway": [
           "#636efa",
           "#EF553B",
           "#00cc96",
           "#ab63fa",
           "#FFA15A",
           "#19d3f3",
           "#FF6692",
           "#B6E880",
           "#FF97FF",
           "#FECB52"
          ],
          "font": {
           "color": "#2a3f5f"
          },
          "geo": {
           "bgcolor": "white",
           "lakecolor": "white",
           "landcolor": "#E5ECF6",
           "showlakes": true,
           "showland": true,
           "subunitcolor": "white"
          },
          "hoverlabel": {
           "align": "left"
          },
          "hovermode": "closest",
          "mapbox": {
           "style": "light"
          },
          "paper_bgcolor": "white",
          "plot_bgcolor": "#E5ECF6",
          "polar": {
           "angularaxis": {
            "gridcolor": "white",
            "linecolor": "white",
            "ticks": ""
           },
           "bgcolor": "#E5ECF6",
           "radialaxis": {
            "gridcolor": "white",
            "linecolor": "white",
            "ticks": ""
           }
          },
          "scene": {
           "xaxis": {
            "backgroundcolor": "#E5ECF6",
            "gridcolor": "white",
            "gridwidth": 2,
            "linecolor": "white",
            "showbackground": true,
            "ticks": "",
            "zerolinecolor": "white"
           },
           "yaxis": {
            "backgroundcolor": "#E5ECF6",
            "gridcolor": "white",
            "gridwidth": 2,
            "linecolor": "white",
            "showbackground": true,
            "ticks": "",
            "zerolinecolor": "white"
           },
           "zaxis": {
            "backgroundcolor": "#E5ECF6",
            "gridcolor": "white",
            "gridwidth": 2,
            "linecolor": "white",
            "showbackground": true,
            "ticks": "",
            "zerolinecolor": "white"
           }
          },
          "shapedefaults": {
           "line": {
            "color": "#2a3f5f"
           }
          },
          "ternary": {
           "aaxis": {
            "gridcolor": "white",
            "linecolor": "white",
            "ticks": ""
           },
           "baxis": {
            "gridcolor": "white",
            "linecolor": "white",
            "ticks": ""
           },
           "bgcolor": "#E5ECF6",
           "caxis": {
            "gridcolor": "white",
            "linecolor": "white",
            "ticks": ""
           }
          },
          "title": {
           "x": 0.05
          },
          "xaxis": {
           "automargin": true,
           "gridcolor": "white",
           "linecolor": "white",
           "ticks": "",
           "title": {
            "standoff": 15
           },
           "zerolinecolor": "white",
           "zerolinewidth": 2
          },
          "yaxis": {
           "automargin": true,
           "gridcolor": "white",
           "linecolor": "white",
           "ticks": "",
           "title": {
            "standoff": 15
           },
           "zerolinecolor": "white",
           "zerolinewidth": 2
          }
         }
        },
        "title": {
         "font": {
          "size": 20
         },
         "text": "Sample_ID: DegummedCanola_O3on_150gN3_02082023"
        },
        "uniformtext": {
         "minsize": 18,
         "mode": "hide"
        },
        "xaxis": {
         "anchor": "y",
         "domain": [
          0,
          1
         ],
         "title": {
          "font": {
           "size": 16
          },
          "text": "Lipid"
         }
        },
        "yaxis": {
         "anchor": "x",
         "domain": [
          0,
          1
         ],
         "tickfont": {
          "size": 16
         },
         "title": {
          "font": {
           "size": 16
          },
          "text": "Ratios"
         }
        }
       }
      },
      "text/html": [
       "<div>                            <div id=\"ee828e14-2ff3-468d-a3ce-3dd8be7c3747\" class=\"plotly-graph-div\" style=\"height:525px; width:100%;\"></div>            <script type=\"text/javascript\">                require([\"plotly\"], function(Plotly) {                    window.PLOTLYENV=window.PLOTLYENV || {};                                    if (document.getElementById(\"ee828e14-2ff3-468d-a3ce-3dd8be7c3747\")) {                    Plotly.newPlot(                        \"ee828e14-2ff3-468d-a3ce-3dd8be7c3747\",                        [{\"alignmentgroup\": \"True\", \"hovertemplate\": \"Lipid=%{x}<br>Ratios=%{text}<extra></extra>\", \"legendgroup\": \"\", \"marker\": {\"color\": [\"blue\", \"blue\", \"blue\", \"blue\", \"blue\", \"blue\", \"purple\", \"purple\", \"purple\", \"green\", \"green\", \"green\", \"green\", \"green\", \"green\", \"green\", \"green\", \"green\", \"blue\", \"blue\", \"blue\", \"blue\", \"blue\", \"blue\", \"blue\", \"blue\", \"green\", \"green\", \"green\", \"green\", \"green\", \"green\"], \"line\": {\"width\": 0}}, \"name\": \"\", \"offsetgroup\": \"\", \"orientation\": \"v\", \"showlegend\": false, \"text\": [4.312176165803109, null, null, 2.499476439790576, null, null, 0.9185185185185185, null, null, 4.246096654275093, null, null, 5.7485396383866485, null, null, 4.065823512503593, null, null, 2.9640625, null, null, 1.36272040302267, null, null, null, null, 3.827521206409048, null, null, 1.211191335740072, null, null], \"textposition\": \"auto\", \"texttemplate\": \"%{text:.2f}\", \"type\": \"bar\", \"x\": [\"TG(52:2)]_FA18:1\", \"TG(52:2)]_FA18:1\", \"TG(52:2)]_FA18:1\", \"TG(52:3)]_FA18:1\", \"TG(52:3)]_FA18:1\", \"TG(52:3)]_FA18:1\", \"TG(53:0)]_FA18:1\", \"TG(53:0)]_FA18:1\", \"TG(53:0)]_FA18:1\", \"TG(54:2)]_FA18:1\", \"TG(54:2)]_FA18:1\", \"TG(54:2)]_FA18:1\", \"TG(54:3)]_FA18:1\", \"TG(54:3)]_FA18:1\", \"TG(54:3)]_FA18:1\", \"TG(54:4)]_FA18:1\", \"TG(54:4)]_FA18:1\", \"TG(54:4)]_FA18:1\", \"[TG(52:4)]_FA18:1\", \"[TG(52:4)]_FA18:1\", \"[TG(52:4)]_FA18:1\", \"[TG(52:5)]_FA18:1\", \"[TG(52:5)]_FA18:1\", \"[TG(52:5)]_FA18:1\", \"[TG(52:6)]_FA18:1\", \"[TG(52:6)]_FA18:1\", \"[TG(54:5)]_FA18:1\", \"[TG(54:5)]_FA18:1\", \"[TG(54:5)]_FA18:1\", \"[TG(54:6)]_FA18:1\", \"[TG(54:6)]_FA18:1\", \"[TG(54:6)]_FA18:1\"], \"xaxis\": \"x\", \"y\": [4.312176165803109, null, null, 2.499476439790576, null, null, 0.9185185185185185, null, null, 4.246096654275093, null, null, 5.7485396383866485, null, null, 4.065823512503593, null, null, 2.9640625, null, null, 1.36272040302267, null, null, null, null, 3.827521206409048, null, null, 1.211191335740072, null, null], \"yaxis\": \"y\"}],                        {\"barmode\": \"relative\", \"legend\": {\"itemsizing\": \"constant\", \"title\": {\"text\": \"Lipid Patterns\"}, \"tracegroupgap\": 50}, \"template\": {\"data\": {\"bar\": [{\"error_x\": {\"color\": \"#2a3f5f\"}, \"error_y\": {\"color\": \"#2a3f5f\"}, \"marker\": {\"line\": {\"color\": \"#E5ECF6\", \"width\": 0.5}}, \"type\": \"bar\"}], \"barpolar\": [{\"marker\": {\"line\": {\"color\": \"#E5ECF6\", \"width\": 0.5}}, \"type\": \"barpolar\"}], \"carpet\": [{\"aaxis\": {\"endlinecolor\": \"#2a3f5f\", \"gridcolor\": \"white\", \"linecolor\": \"white\", \"minorgridcolor\": \"white\", \"startlinecolor\": \"#2a3f5f\"}, \"baxis\": {\"endlinecolor\": \"#2a3f5f\", \"gridcolor\": \"white\", \"linecolor\": \"white\", \"minorgridcolor\": \"white\", \"startlinecolor\": \"#2a3f5f\"}, \"type\": \"carpet\"}], \"choropleth\": [{\"colorbar\": {\"outlinewidth\": 0, \"ticks\": \"\"}, \"type\": \"choropleth\"}], \"contour\": [{\"colorbar\": {\"outlinewidth\": 0, \"ticks\": \"\"}, \"colorscale\": [[0.0, \"#0d0887\"], [0.1111111111111111, \"#46039f\"], [0.2222222222222222, \"#7201a8\"], [0.3333333333333333, \"#9c179e\"], [0.4444444444444444, \"#bd3786\"], [0.5555555555555556, \"#d8576b\"], [0.6666666666666666, \"#ed7953\"], [0.7777777777777778, \"#fb9f3a\"], [0.8888888888888888, \"#fdca26\"], [1.0, \"#f0f921\"]], \"type\": \"contour\"}], \"contourcarpet\": [{\"colorbar\": {\"outlinewidth\": 0, \"ticks\": \"\"}, \"type\": \"contourcarpet\"}], \"heatmap\": [{\"colorbar\": {\"outlinewidth\": 0, \"ticks\": \"\"}, \"colorscale\": [[0.0, \"#0d0887\"], [0.1111111111111111, \"#46039f\"], [0.2222222222222222, \"#7201a8\"], [0.3333333333333333, \"#9c179e\"], [0.4444444444444444, \"#bd3786\"], [0.5555555555555556, \"#d8576b\"], [0.6666666666666666, \"#ed7953\"], [0.7777777777777778, \"#fb9f3a\"], [0.8888888888888888, \"#fdca26\"], [1.0, \"#f0f921\"]], \"type\": \"heatmap\"}], \"heatmapgl\": [{\"colorbar\": {\"outlinewidth\": 0, \"ticks\": \"\"}, \"colorscale\": [[0.0, \"#0d0887\"], [0.1111111111111111, \"#46039f\"], [0.2222222222222222, \"#7201a8\"], [0.3333333333333333, \"#9c179e\"], [0.4444444444444444, \"#bd3786\"], [0.5555555555555556, \"#d8576b\"], [0.6666666666666666, \"#ed7953\"], [0.7777777777777778, \"#fb9f3a\"], [0.8888888888888888, \"#fdca26\"], [1.0, \"#f0f921\"]], \"type\": \"heatmapgl\"}], \"histogram\": [{\"marker\": {\"colorbar\": {\"outlinewidth\": 0, \"ticks\": \"\"}}, \"type\": \"histogram\"}], \"histogram2d\": [{\"colorbar\": {\"outlinewidth\": 0, \"ticks\": \"\"}, \"colorscale\": [[0.0, \"#0d0887\"], [0.1111111111111111, \"#46039f\"], [0.2222222222222222, \"#7201a8\"], [0.3333333333333333, \"#9c179e\"], [0.4444444444444444, \"#bd3786\"], [0.5555555555555556, \"#d8576b\"], [0.6666666666666666, \"#ed7953\"], [0.7777777777777778, \"#fb9f3a\"], [0.8888888888888888, \"#fdca26\"], [1.0, \"#f0f921\"]], \"type\": \"histogram2d\"}], \"histogram2dcontour\": [{\"colorbar\": {\"outlinewidth\": 0, \"ticks\": \"\"}, \"colorscale\": [[0.0, \"#0d0887\"], [0.1111111111111111, \"#46039f\"], [0.2222222222222222, \"#7201a8\"], [0.3333333333333333, \"#9c179e\"], [0.4444444444444444, \"#bd3786\"], [0.5555555555555556, \"#d8576b\"], [0.6666666666666666, \"#ed7953\"], [0.7777777777777778, \"#fb9f3a\"], [0.8888888888888888, \"#fdca26\"], [1.0, \"#f0f921\"]], \"type\": \"histogram2dcontour\"}], \"mesh3d\": [{\"colorbar\": {\"outlinewidth\": 0, \"ticks\": \"\"}, \"type\": \"mesh3d\"}], \"parcoords\": [{\"line\": {\"colorbar\": {\"outlinewidth\": 0, \"ticks\": \"\"}}, \"type\": \"parcoords\"}], \"pie\": [{\"automargin\": true, \"type\": \"pie\"}], \"scatter\": [{\"marker\": {\"colorbar\": {\"outlinewidth\": 0, \"ticks\": \"\"}}, \"type\": \"scatter\"}], \"scatter3d\": [{\"line\": {\"colorbar\": {\"outlinewidth\": 0, \"ticks\": \"\"}}, \"marker\": {\"colorbar\": {\"outlinewidth\": 0, \"ticks\": \"\"}}, \"type\": \"scatter3d\"}], \"scattercarpet\": [{\"marker\": {\"colorbar\": {\"outlinewidth\": 0, \"ticks\": \"\"}}, \"type\": \"scattercarpet\"}], \"scattergeo\": [{\"marker\": {\"colorbar\": {\"outlinewidth\": 0, \"ticks\": \"\"}}, \"type\": \"scattergeo\"}], \"scattergl\": [{\"marker\": {\"colorbar\": {\"outlinewidth\": 0, \"ticks\": \"\"}}, \"type\": \"scattergl\"}], \"scattermapbox\": [{\"marker\": {\"colorbar\": {\"outlinewidth\": 0, \"ticks\": \"\"}}, \"type\": \"scattermapbox\"}], \"scatterpolar\": [{\"marker\": {\"colorbar\": {\"outlinewidth\": 0, \"ticks\": \"\"}}, \"type\": \"scatterpolar\"}], \"scatterpolargl\": [{\"marker\": {\"colorbar\": {\"outlinewidth\": 0, \"ticks\": \"\"}}, \"type\": \"scatterpolargl\"}], \"scatterternary\": [{\"marker\": {\"colorbar\": {\"outlinewidth\": 0, \"ticks\": \"\"}}, \"type\": \"scatterternary\"}], \"surface\": [{\"colorbar\": {\"outlinewidth\": 0, \"ticks\": \"\"}, \"colorscale\": [[0.0, \"#0d0887\"], [0.1111111111111111, \"#46039f\"], [0.2222222222222222, \"#7201a8\"], [0.3333333333333333, \"#9c179e\"], [0.4444444444444444, \"#bd3786\"], [0.5555555555555556, \"#d8576b\"], [0.6666666666666666, \"#ed7953\"], [0.7777777777777778, \"#fb9f3a\"], [0.8888888888888888, \"#fdca26\"], [1.0, \"#f0f921\"]], \"type\": \"surface\"}], \"table\": [{\"cells\": {\"fill\": {\"color\": \"#EBF0F8\"}, \"line\": {\"color\": \"white\"}}, \"header\": {\"fill\": {\"color\": \"#C8D4E3\"}, \"line\": {\"color\": \"white\"}}, \"type\": \"table\"}]}, \"layout\": {\"annotationdefaults\": {\"arrowcolor\": \"#2a3f5f\", \"arrowhead\": 0, \"arrowwidth\": 1}, \"coloraxis\": {\"colorbar\": {\"outlinewidth\": 0, \"ticks\": \"\"}}, \"colorscale\": {\"diverging\": [[0, \"#8e0152\"], [0.1, \"#c51b7d\"], [0.2, \"#de77ae\"], [0.3, \"#f1b6da\"], [0.4, \"#fde0ef\"], [0.5, \"#f7f7f7\"], [0.6, \"#e6f5d0\"], [0.7, \"#b8e186\"], [0.8, \"#7fbc41\"], [0.9, \"#4d9221\"], [1, \"#276419\"]], \"sequential\": [[0.0, \"#0d0887\"], [0.1111111111111111, \"#46039f\"], [0.2222222222222222, \"#7201a8\"], [0.3333333333333333, \"#9c179e\"], [0.4444444444444444, \"#bd3786\"], [0.5555555555555556, \"#d8576b\"], [0.6666666666666666, \"#ed7953\"], [0.7777777777777778, \"#fb9f3a\"], [0.8888888888888888, \"#fdca26\"], [1.0, \"#f0f921\"]], \"sequentialminus\": [[0.0, \"#0d0887\"], [0.1111111111111111, \"#46039f\"], [0.2222222222222222, \"#7201a8\"], [0.3333333333333333, \"#9c179e\"], [0.4444444444444444, \"#bd3786\"], [0.5555555555555556, \"#d8576b\"], [0.6666666666666666, \"#ed7953\"], [0.7777777777777778, \"#fb9f3a\"], [0.8888888888888888, \"#fdca26\"], [1.0, \"#f0f921\"]]}, \"colorway\": [\"#636efa\", \"#EF553B\", \"#00cc96\", \"#ab63fa\", \"#FFA15A\", \"#19d3f3\", \"#FF6692\", \"#B6E880\", \"#FF97FF\", \"#FECB52\"], \"font\": {\"color\": \"#2a3f5f\"}, \"geo\": {\"bgcolor\": \"white\", \"lakecolor\": \"white\", \"landcolor\": \"#E5ECF6\", \"showlakes\": true, \"showland\": true, \"subunitcolor\": \"white\"}, \"hoverlabel\": {\"align\": \"left\"}, \"hovermode\": \"closest\", \"mapbox\": {\"style\": \"light\"}, \"paper_bgcolor\": \"white\", \"plot_bgcolor\": \"#E5ECF6\", \"polar\": {\"angularaxis\": {\"gridcolor\": \"white\", \"linecolor\": \"white\", \"ticks\": \"\"}, \"bgcolor\": \"#E5ECF6\", \"radialaxis\": {\"gridcolor\": \"white\", \"linecolor\": \"white\", \"ticks\": \"\"}}, \"scene\": {\"xaxis\": {\"backgroundcolor\": \"#E5ECF6\", \"gridcolor\": \"white\", \"gridwidth\": 2, \"linecolor\": \"white\", \"showbackground\": true, \"ticks\": \"\", \"zerolinecolor\": \"white\"}, \"yaxis\": {\"backgroundcolor\": \"#E5ECF6\", \"gridcolor\": \"white\", \"gridwidth\": 2, \"linecolor\": \"white\", \"showbackground\": true, \"ticks\": \"\", \"zerolinecolor\": \"white\"}, \"zaxis\": {\"backgroundcolor\": \"#E5ECF6\", \"gridcolor\": \"white\", \"gridwidth\": 2, \"linecolor\": \"white\", \"showbackground\": true, \"ticks\": \"\", \"zerolinecolor\": \"white\"}}, \"shapedefaults\": {\"line\": {\"color\": \"#2a3f5f\"}}, \"ternary\": {\"aaxis\": {\"gridcolor\": \"white\", \"linecolor\": \"white\", \"ticks\": \"\"}, \"baxis\": {\"gridcolor\": \"white\", \"linecolor\": \"white\", \"ticks\": \"\"}, \"bgcolor\": \"#E5ECF6\", \"caxis\": {\"gridcolor\": \"white\", \"linecolor\": \"white\", \"ticks\": \"\"}}, \"title\": {\"x\": 0.05}, \"xaxis\": {\"automargin\": true, \"gridcolor\": \"white\", \"linecolor\": \"white\", \"ticks\": \"\", \"title\": {\"standoff\": 15}, \"zerolinecolor\": \"white\", \"zerolinewidth\": 2}, \"yaxis\": {\"automargin\": true, \"gridcolor\": \"white\", \"linecolor\": \"white\", \"ticks\": \"\", \"title\": {\"standoff\": 15}, \"zerolinecolor\": \"white\", \"zerolinewidth\": 2}}}, \"title\": {\"font\": {\"size\": 20}, \"text\": \"Sample_ID: DegummedCanola_O3on_150gN3_02082023\"}, \"uniformtext\": {\"minsize\": 18, \"mode\": \"hide\"}, \"xaxis\": {\"anchor\": \"y\", \"domain\": [0.0, 1.0], \"title\": {\"font\": {\"size\": 16}, \"text\": \"Lipid\"}}, \"yaxis\": {\"anchor\": \"x\", \"domain\": [0.0, 1.0], \"tickfont\": {\"size\": 16}, \"title\": {\"font\": {\"size\": 16}, \"text\": \"Ratios\"}}},                        {\"responsive\": true}                    ).then(function(){\n",
       "                            \n",
       "var gd = document.getElementById('ee828e14-2ff3-468d-a3ce-3dd8be7c3747');\n",
       "var x = new MutationObserver(function (mutations, observer) {{\n",
       "        var display = window.getComputedStyle(gd).display;\n",
       "        if (!display || display === 'none') {{\n",
       "            console.log([gd, 'removed!']);\n",
       "            Plotly.purge(gd);\n",
       "            observer.disconnect();\n",
       "        }}\n",
       "}});\n",
       "\n",
       "// Listen for the removal of the full notebook cells\n",
       "var notebookContainer = gd.closest('#notebook-container');\n",
       "if (notebookContainer) {{\n",
       "    x.observe(notebookContainer, {childList: true});\n",
       "}}\n",
       "\n",
       "// Listen for the clearing of the current output cell\n",
       "var outputEl = gd.closest('.output');\n",
       "if (outputEl) {{\n",
       "    x.observe(outputEl, {childList: true});\n",
       "}}\n",
       "\n",
       "                        })                };                });            </script>        </div>"
      ]
     },
     "metadata": {},
     "output_type": "display_data"
    },
    {
     "data": {
      "application/vnd.plotly.v1+json": {
       "config": {
        "plotlyServerURL": "https://plot.ly"
       },
       "data": [
        {
         "alignmentgroup": "True",
         "hovertemplate": "Lipid=%{x}<br>Ratios=%{text}<extra></extra>",
         "legendgroup": "",
         "marker": {
          "color": [
           "blue",
           "blue",
           "blue",
           "blue",
           "blue",
           "blue",
           "purple",
           "purple",
           "purple",
           "green",
           "green",
           "green",
           "green",
           "green",
           "green",
           "green",
           "green",
           "green",
           "blue",
           "blue",
           "blue",
           "blue",
           "blue",
           "blue",
           "blue",
           "blue",
           "green",
           "green",
           "green",
           "green",
           "green",
           "green"
          ],
          "line": {
           "width": 0
          }
         },
         "name": "",
         "offsetgroup": "",
         "orientation": "v",
         "showlegend": false,
         "text": [
          4.701375976199331,
          null,
          null,
          3.0693756194251733,
          null,
          null,
          1.167420814479638,
          null,
          null,
          3.1710144927536232,
          null,
          null,
          5.410415427746156,
          null,
          null,
          4.974438202247191,
          null,
          null,
          2.676829268292683,
          null,
          null,
          1.3659942363112392,
          null,
          null,
          null,
          null,
          3.8327721661054994,
          null,
          null,
          1.0672727272727274,
          null,
          null
         ],
         "textposition": "auto",
         "texttemplate": "%{text:.2f}",
         "type": "bar",
         "x": [
          "TG(52:2)]_FA18:1",
          "TG(52:2)]_FA18:1",
          "TG(52:2)]_FA18:1",
          "TG(52:3)]_FA18:1",
          "TG(52:3)]_FA18:1",
          "TG(52:3)]_FA18:1",
          "TG(53:0)]_FA18:1",
          "TG(53:0)]_FA18:1",
          "TG(53:0)]_FA18:1",
          "TG(54:2)]_FA18:1",
          "TG(54:2)]_FA18:1",
          "TG(54:2)]_FA18:1",
          "TG(54:3)]_FA18:1",
          "TG(54:3)]_FA18:1",
          "TG(54:3)]_FA18:1",
          "TG(54:4)]_FA18:1",
          "TG(54:4)]_FA18:1",
          "TG(54:4)]_FA18:1",
          "[TG(52:4)]_FA18:1",
          "[TG(52:4)]_FA18:1",
          "[TG(52:4)]_FA18:1",
          "[TG(52:5)]_FA18:1",
          "[TG(52:5)]_FA18:1",
          "[TG(52:5)]_FA18:1",
          "[TG(52:6)]_FA18:1",
          "[TG(52:6)]_FA18:1",
          "[TG(54:5)]_FA18:1",
          "[TG(54:5)]_FA18:1",
          "[TG(54:5)]_FA18:1",
          "[TG(54:6)]_FA18:1",
          "[TG(54:6)]_FA18:1",
          "[TG(54:6)]_FA18:1"
         ],
         "xaxis": "x",
         "y": [
          4.701375976199331,
          null,
          null,
          3.0693756194251733,
          null,
          null,
          1.167420814479638,
          null,
          null,
          3.1710144927536232,
          null,
          null,
          5.410415427746156,
          null,
          null,
          4.974438202247191,
          null,
          null,
          2.676829268292683,
          null,
          null,
          1.3659942363112392,
          null,
          null,
          null,
          null,
          3.8327721661054994,
          null,
          null,
          1.0672727272727274,
          null,
          null
         ],
         "yaxis": "y"
        }
       ],
       "layout": {
        "barmode": "relative",
        "legend": {
         "itemsizing": "constant",
         "title": {
          "text": "Lipid Patterns"
         },
         "tracegroupgap": 50
        },
        "template": {
         "data": {
          "bar": [
           {
            "error_x": {
             "color": "#2a3f5f"
            },
            "error_y": {
             "color": "#2a3f5f"
            },
            "marker": {
             "line": {
              "color": "#E5ECF6",
              "width": 0.5
             }
            },
            "type": "bar"
           }
          ],
          "barpolar": [
           {
            "marker": {
             "line": {
              "color": "#E5ECF6",
              "width": 0.5
             }
            },
            "type": "barpolar"
           }
          ],
          "carpet": [
           {
            "aaxis": {
             "endlinecolor": "#2a3f5f",
             "gridcolor": "white",
             "linecolor": "white",
             "minorgridcolor": "white",
             "startlinecolor": "#2a3f5f"
            },
            "baxis": {
             "endlinecolor": "#2a3f5f",
             "gridcolor": "white",
             "linecolor": "white",
             "minorgridcolor": "white",
             "startlinecolor": "#2a3f5f"
            },
            "type": "carpet"
           }
          ],
          "choropleth": [
           {
            "colorbar": {
             "outlinewidth": 0,
             "ticks": ""
            },
            "type": "choropleth"
           }
          ],
          "contour": [
           {
            "colorbar": {
             "outlinewidth": 0,
             "ticks": ""
            },
            "colorscale": [
             [
              0,
              "#0d0887"
             ],
             [
              0.1111111111111111,
              "#46039f"
             ],
             [
              0.2222222222222222,
              "#7201a8"
             ],
             [
              0.3333333333333333,
              "#9c179e"
             ],
             [
              0.4444444444444444,
              "#bd3786"
             ],
             [
              0.5555555555555556,
              "#d8576b"
             ],
             [
              0.6666666666666666,
              "#ed7953"
             ],
             [
              0.7777777777777778,
              "#fb9f3a"
             ],
             [
              0.8888888888888888,
              "#fdca26"
             ],
             [
              1,
              "#f0f921"
             ]
            ],
            "type": "contour"
           }
          ],
          "contourcarpet": [
           {
            "colorbar": {
             "outlinewidth": 0,
             "ticks": ""
            },
            "type": "contourcarpet"
           }
          ],
          "heatmap": [
           {
            "colorbar": {
             "outlinewidth": 0,
             "ticks": ""
            },
            "colorscale": [
             [
              0,
              "#0d0887"
             ],
             [
              0.1111111111111111,
              "#46039f"
             ],
             [
              0.2222222222222222,
              "#7201a8"
             ],
             [
              0.3333333333333333,
              "#9c179e"
             ],
             [
              0.4444444444444444,
              "#bd3786"
             ],
             [
              0.5555555555555556,
              "#d8576b"
             ],
             [
              0.6666666666666666,
              "#ed7953"
             ],
             [
              0.7777777777777778,
              "#fb9f3a"
             ],
             [
              0.8888888888888888,
              "#fdca26"
             ],
             [
              1,
              "#f0f921"
             ]
            ],
            "type": "heatmap"
           }
          ],
          "heatmapgl": [
           {
            "colorbar": {
             "outlinewidth": 0,
             "ticks": ""
            },
            "colorscale": [
             [
              0,
              "#0d0887"
             ],
             [
              0.1111111111111111,
              "#46039f"
             ],
             [
              0.2222222222222222,
              "#7201a8"
             ],
             [
              0.3333333333333333,
              "#9c179e"
             ],
             [
              0.4444444444444444,
              "#bd3786"
             ],
             [
              0.5555555555555556,
              "#d8576b"
             ],
             [
              0.6666666666666666,
              "#ed7953"
             ],
             [
              0.7777777777777778,
              "#fb9f3a"
             ],
             [
              0.8888888888888888,
              "#fdca26"
             ],
             [
              1,
              "#f0f921"
             ]
            ],
            "type": "heatmapgl"
           }
          ],
          "histogram": [
           {
            "marker": {
             "colorbar": {
              "outlinewidth": 0,
              "ticks": ""
             }
            },
            "type": "histogram"
           }
          ],
          "histogram2d": [
           {
            "colorbar": {
             "outlinewidth": 0,
             "ticks": ""
            },
            "colorscale": [
             [
              0,
              "#0d0887"
             ],
             [
              0.1111111111111111,
              "#46039f"
             ],
             [
              0.2222222222222222,
              "#7201a8"
             ],
             [
              0.3333333333333333,
              "#9c179e"
             ],
             [
              0.4444444444444444,
              "#bd3786"
             ],
             [
              0.5555555555555556,
              "#d8576b"
             ],
             [
              0.6666666666666666,
              "#ed7953"
             ],
             [
              0.7777777777777778,
              "#fb9f3a"
             ],
             [
              0.8888888888888888,
              "#fdca26"
             ],
             [
              1,
              "#f0f921"
             ]
            ],
            "type": "histogram2d"
           }
          ],
          "histogram2dcontour": [
           {
            "colorbar": {
             "outlinewidth": 0,
             "ticks": ""
            },
            "colorscale": [
             [
              0,
              "#0d0887"
             ],
             [
              0.1111111111111111,
              "#46039f"
             ],
             [
              0.2222222222222222,
              "#7201a8"
             ],
             [
              0.3333333333333333,
              "#9c179e"
             ],
             [
              0.4444444444444444,
              "#bd3786"
             ],
             [
              0.5555555555555556,
              "#d8576b"
             ],
             [
              0.6666666666666666,
              "#ed7953"
             ],
             [
              0.7777777777777778,
              "#fb9f3a"
             ],
             [
              0.8888888888888888,
              "#fdca26"
             ],
             [
              1,
              "#f0f921"
             ]
            ],
            "type": "histogram2dcontour"
           }
          ],
          "mesh3d": [
           {
            "colorbar": {
             "outlinewidth": 0,
             "ticks": ""
            },
            "type": "mesh3d"
           }
          ],
          "parcoords": [
           {
            "line": {
             "colorbar": {
              "outlinewidth": 0,
              "ticks": ""
             }
            },
            "type": "parcoords"
           }
          ],
          "pie": [
           {
            "automargin": true,
            "type": "pie"
           }
          ],
          "scatter": [
           {
            "marker": {
             "colorbar": {
              "outlinewidth": 0,
              "ticks": ""
             }
            },
            "type": "scatter"
           }
          ],
          "scatter3d": [
           {
            "line": {
             "colorbar": {
              "outlinewidth": 0,
              "ticks": ""
             }
            },
            "marker": {
             "colorbar": {
              "outlinewidth": 0,
              "ticks": ""
             }
            },
            "type": "scatter3d"
           }
          ],
          "scattercarpet": [
           {
            "marker": {
             "colorbar": {
              "outlinewidth": 0,
              "ticks": ""
             }
            },
            "type": "scattercarpet"
           }
          ],
          "scattergeo": [
           {
            "marker": {
             "colorbar": {
              "outlinewidth": 0,
              "ticks": ""
             }
            },
            "type": "scattergeo"
           }
          ],
          "scattergl": [
           {
            "marker": {
             "colorbar": {
              "outlinewidth": 0,
              "ticks": ""
             }
            },
            "type": "scattergl"
           }
          ],
          "scattermapbox": [
           {
            "marker": {
             "colorbar": {
              "outlinewidth": 0,
              "ticks": ""
             }
            },
            "type": "scattermapbox"
           }
          ],
          "scatterpolar": [
           {
            "marker": {
             "colorbar": {
              "outlinewidth": 0,
              "ticks": ""
             }
            },
            "type": "scatterpolar"
           }
          ],
          "scatterpolargl": [
           {
            "marker": {
             "colorbar": {
              "outlinewidth": 0,
              "ticks": ""
             }
            },
            "type": "scatterpolargl"
           }
          ],
          "scatterternary": [
           {
            "marker": {
             "colorbar": {
              "outlinewidth": 0,
              "ticks": ""
             }
            },
            "type": "scatterternary"
           }
          ],
          "surface": [
           {
            "colorbar": {
             "outlinewidth": 0,
             "ticks": ""
            },
            "colorscale": [
             [
              0,
              "#0d0887"
             ],
             [
              0.1111111111111111,
              "#46039f"
             ],
             [
              0.2222222222222222,
              "#7201a8"
             ],
             [
              0.3333333333333333,
              "#9c179e"
             ],
             [
              0.4444444444444444,
              "#bd3786"
             ],
             [
              0.5555555555555556,
              "#d8576b"
             ],
             [
              0.6666666666666666,
              "#ed7953"
             ],
             [
              0.7777777777777778,
              "#fb9f3a"
             ],
             [
              0.8888888888888888,
              "#fdca26"
             ],
             [
              1,
              "#f0f921"
             ]
            ],
            "type": "surface"
           }
          ],
          "table": [
           {
            "cells": {
             "fill": {
              "color": "#EBF0F8"
             },
             "line": {
              "color": "white"
             }
            },
            "header": {
             "fill": {
              "color": "#C8D4E3"
             },
             "line": {
              "color": "white"
             }
            },
            "type": "table"
           }
          ]
         },
         "layout": {
          "annotationdefaults": {
           "arrowcolor": "#2a3f5f",
           "arrowhead": 0,
           "arrowwidth": 1
          },
          "coloraxis": {
           "colorbar": {
            "outlinewidth": 0,
            "ticks": ""
           }
          },
          "colorscale": {
           "diverging": [
            [
             0,
             "#8e0152"
            ],
            [
             0.1,
             "#c51b7d"
            ],
            [
             0.2,
             "#de77ae"
            ],
            [
             0.3,
             "#f1b6da"
            ],
            [
             0.4,
             "#fde0ef"
            ],
            [
             0.5,
             "#f7f7f7"
            ],
            [
             0.6,
             "#e6f5d0"
            ],
            [
             0.7,
             "#b8e186"
            ],
            [
             0.8,
             "#7fbc41"
            ],
            [
             0.9,
             "#4d9221"
            ],
            [
             1,
             "#276419"
            ]
           ],
           "sequential": [
            [
             0,
             "#0d0887"
            ],
            [
             0.1111111111111111,
             "#46039f"
            ],
            [
             0.2222222222222222,
             "#7201a8"
            ],
            [
             0.3333333333333333,
             "#9c179e"
            ],
            [
             0.4444444444444444,
             "#bd3786"
            ],
            [
             0.5555555555555556,
             "#d8576b"
            ],
            [
             0.6666666666666666,
             "#ed7953"
            ],
            [
             0.7777777777777778,
             "#fb9f3a"
            ],
            [
             0.8888888888888888,
             "#fdca26"
            ],
            [
             1,
             "#f0f921"
            ]
           ],
           "sequentialminus": [
            [
             0,
             "#0d0887"
            ],
            [
             0.1111111111111111,
             "#46039f"
            ],
            [
             0.2222222222222222,
             "#7201a8"
            ],
            [
             0.3333333333333333,
             "#9c179e"
            ],
            [
             0.4444444444444444,
             "#bd3786"
            ],
            [
             0.5555555555555556,
             "#d8576b"
            ],
            [
             0.6666666666666666,
             "#ed7953"
            ],
            [
             0.7777777777777778,
             "#fb9f3a"
            ],
            [
             0.8888888888888888,
             "#fdca26"
            ],
            [
             1,
             "#f0f921"
            ]
           ]
          },
          "colorway": [
           "#636efa",
           "#EF553B",
           "#00cc96",
           "#ab63fa",
           "#FFA15A",
           "#19d3f3",
           "#FF6692",
           "#B6E880",
           "#FF97FF",
           "#FECB52"
          ],
          "font": {
           "color": "#2a3f5f"
          },
          "geo": {
           "bgcolor": "white",
           "lakecolor": "white",
           "landcolor": "#E5ECF6",
           "showlakes": true,
           "showland": true,
           "subunitcolor": "white"
          },
          "hoverlabel": {
           "align": "left"
          },
          "hovermode": "closest",
          "mapbox": {
           "style": "light"
          },
          "paper_bgcolor": "white",
          "plot_bgcolor": "#E5ECF6",
          "polar": {
           "angularaxis": {
            "gridcolor": "white",
            "linecolor": "white",
            "ticks": ""
           },
           "bgcolor": "#E5ECF6",
           "radialaxis": {
            "gridcolor": "white",
            "linecolor": "white",
            "ticks": ""
           }
          },
          "scene": {
           "xaxis": {
            "backgroundcolor": "#E5ECF6",
            "gridcolor": "white",
            "gridwidth": 2,
            "linecolor": "white",
            "showbackground": true,
            "ticks": "",
            "zerolinecolor": "white"
           },
           "yaxis": {
            "backgroundcolor": "#E5ECF6",
            "gridcolor": "white",
            "gridwidth": 2,
            "linecolor": "white",
            "showbackground": true,
            "ticks": "",
            "zerolinecolor": "white"
           },
           "zaxis": {
            "backgroundcolor": "#E5ECF6",
            "gridcolor": "white",
            "gridwidth": 2,
            "linecolor": "white",
            "showbackground": true,
            "ticks": "",
            "zerolinecolor": "white"
           }
          },
          "shapedefaults": {
           "line": {
            "color": "#2a3f5f"
           }
          },
          "ternary": {
           "aaxis": {
            "gridcolor": "white",
            "linecolor": "white",
            "ticks": ""
           },
           "baxis": {
            "gridcolor": "white",
            "linecolor": "white",
            "ticks": ""
           },
           "bgcolor": "#E5ECF6",
           "caxis": {
            "gridcolor": "white",
            "linecolor": "white",
            "ticks": ""
           }
          },
          "title": {
           "x": 0.05
          },
          "xaxis": {
           "automargin": true,
           "gridcolor": "white",
           "linecolor": "white",
           "ticks": "",
           "title": {
            "standoff": 15
           },
           "zerolinecolor": "white",
           "zerolinewidth": 2
          },
          "yaxis": {
           "automargin": true,
           "gridcolor": "white",
           "linecolor": "white",
           "ticks": "",
           "title": {
            "standoff": 15
           },
           "zerolinecolor": "white",
           "zerolinewidth": 2
          }
         }
        },
        "title": {
         "font": {
          "size": 20
         },
         "text": "Sample_ID: RBDCanola_O3on_150gN3_02082023"
        },
        "uniformtext": {
         "minsize": 18,
         "mode": "hide"
        },
        "xaxis": {
         "anchor": "y",
         "domain": [
          0,
          1
         ],
         "title": {
          "font": {
           "size": 16
          },
          "text": "Lipid"
         }
        },
        "yaxis": {
         "anchor": "x",
         "domain": [
          0,
          1
         ],
         "tickfont": {
          "size": 16
         },
         "title": {
          "font": {
           "size": 16
          },
          "text": "Ratios"
         }
        }
       }
      },
      "text/html": [
       "<div>                            <div id=\"7fb116af-f797-43d6-ba08-85f9686fa9b2\" class=\"plotly-graph-div\" style=\"height:525px; width:100%;\"></div>            <script type=\"text/javascript\">                require([\"plotly\"], function(Plotly) {                    window.PLOTLYENV=window.PLOTLYENV || {};                                    if (document.getElementById(\"7fb116af-f797-43d6-ba08-85f9686fa9b2\")) {                    Plotly.newPlot(                        \"7fb116af-f797-43d6-ba08-85f9686fa9b2\",                        [{\"alignmentgroup\": \"True\", \"hovertemplate\": \"Lipid=%{x}<br>Ratios=%{text}<extra></extra>\", \"legendgroup\": \"\", \"marker\": {\"color\": [\"blue\", \"blue\", \"blue\", \"blue\", \"blue\", \"blue\", \"purple\", \"purple\", \"purple\", \"green\", \"green\", \"green\", \"green\", \"green\", \"green\", \"green\", \"green\", \"green\", \"blue\", \"blue\", \"blue\", \"blue\", \"blue\", \"blue\", \"blue\", \"blue\", \"green\", \"green\", \"green\", \"green\", \"green\", \"green\"], \"line\": {\"width\": 0}}, \"name\": \"\", \"offsetgroup\": \"\", \"orientation\": \"v\", \"showlegend\": false, \"text\": [4.701375976199331, null, null, 3.0693756194251733, null, null, 1.167420814479638, null, null, 3.1710144927536232, null, null, 5.410415427746156, null, null, 4.974438202247191, null, null, 2.676829268292683, null, null, 1.3659942363112392, null, null, null, null, 3.8327721661054994, null, null, 1.0672727272727274, null, null], \"textposition\": \"auto\", \"texttemplate\": \"%{text:.2f}\", \"type\": \"bar\", \"x\": [\"TG(52:2)]_FA18:1\", \"TG(52:2)]_FA18:1\", \"TG(52:2)]_FA18:1\", \"TG(52:3)]_FA18:1\", \"TG(52:3)]_FA18:1\", \"TG(52:3)]_FA18:1\", \"TG(53:0)]_FA18:1\", \"TG(53:0)]_FA18:1\", \"TG(53:0)]_FA18:1\", \"TG(54:2)]_FA18:1\", \"TG(54:2)]_FA18:1\", \"TG(54:2)]_FA18:1\", \"TG(54:3)]_FA18:1\", \"TG(54:3)]_FA18:1\", \"TG(54:3)]_FA18:1\", \"TG(54:4)]_FA18:1\", \"TG(54:4)]_FA18:1\", \"TG(54:4)]_FA18:1\", \"[TG(52:4)]_FA18:1\", \"[TG(52:4)]_FA18:1\", \"[TG(52:4)]_FA18:1\", \"[TG(52:5)]_FA18:1\", \"[TG(52:5)]_FA18:1\", \"[TG(52:5)]_FA18:1\", \"[TG(52:6)]_FA18:1\", \"[TG(52:6)]_FA18:1\", \"[TG(54:5)]_FA18:1\", \"[TG(54:5)]_FA18:1\", \"[TG(54:5)]_FA18:1\", \"[TG(54:6)]_FA18:1\", \"[TG(54:6)]_FA18:1\", \"[TG(54:6)]_FA18:1\"], \"xaxis\": \"x\", \"y\": [4.701375976199331, null, null, 3.0693756194251733, null, null, 1.167420814479638, null, null, 3.1710144927536232, null, null, 5.410415427746156, null, null, 4.974438202247191, null, null, 2.676829268292683, null, null, 1.3659942363112392, null, null, null, null, 3.8327721661054994, null, null, 1.0672727272727274, null, null], \"yaxis\": \"y\"}],                        {\"barmode\": \"relative\", \"legend\": {\"itemsizing\": \"constant\", \"title\": {\"text\": \"Lipid Patterns\"}, \"tracegroupgap\": 50}, \"template\": {\"data\": {\"bar\": [{\"error_x\": {\"color\": \"#2a3f5f\"}, \"error_y\": {\"color\": \"#2a3f5f\"}, \"marker\": {\"line\": {\"color\": \"#E5ECF6\", \"width\": 0.5}}, \"type\": \"bar\"}], \"barpolar\": [{\"marker\": {\"line\": {\"color\": \"#E5ECF6\", \"width\": 0.5}}, \"type\": \"barpolar\"}], \"carpet\": [{\"aaxis\": {\"endlinecolor\": \"#2a3f5f\", \"gridcolor\": \"white\", \"linecolor\": \"white\", \"minorgridcolor\": \"white\", \"startlinecolor\": \"#2a3f5f\"}, \"baxis\": {\"endlinecolor\": \"#2a3f5f\", \"gridcolor\": \"white\", \"linecolor\": \"white\", \"minorgridcolor\": \"white\", \"startlinecolor\": \"#2a3f5f\"}, \"type\": \"carpet\"}], \"choropleth\": [{\"colorbar\": {\"outlinewidth\": 0, \"ticks\": \"\"}, \"type\": \"choropleth\"}], \"contour\": [{\"colorbar\": {\"outlinewidth\": 0, \"ticks\": \"\"}, \"colorscale\": [[0.0, \"#0d0887\"], [0.1111111111111111, \"#46039f\"], [0.2222222222222222, \"#7201a8\"], [0.3333333333333333, \"#9c179e\"], [0.4444444444444444, \"#bd3786\"], [0.5555555555555556, \"#d8576b\"], [0.6666666666666666, \"#ed7953\"], [0.7777777777777778, \"#fb9f3a\"], [0.8888888888888888, \"#fdca26\"], [1.0, \"#f0f921\"]], \"type\": \"contour\"}], \"contourcarpet\": [{\"colorbar\": {\"outlinewidth\": 0, \"ticks\": \"\"}, \"type\": \"contourcarpet\"}], \"heatmap\": [{\"colorbar\": {\"outlinewidth\": 0, \"ticks\": \"\"}, \"colorscale\": [[0.0, \"#0d0887\"], [0.1111111111111111, \"#46039f\"], [0.2222222222222222, \"#7201a8\"], [0.3333333333333333, \"#9c179e\"], [0.4444444444444444, \"#bd3786\"], [0.5555555555555556, \"#d8576b\"], [0.6666666666666666, \"#ed7953\"], [0.7777777777777778, \"#fb9f3a\"], [0.8888888888888888, \"#fdca26\"], [1.0, \"#f0f921\"]], \"type\": \"heatmap\"}], \"heatmapgl\": [{\"colorbar\": {\"outlinewidth\": 0, \"ticks\": \"\"}, \"colorscale\": [[0.0, \"#0d0887\"], [0.1111111111111111, \"#46039f\"], [0.2222222222222222, \"#7201a8\"], [0.3333333333333333, \"#9c179e\"], [0.4444444444444444, \"#bd3786\"], [0.5555555555555556, \"#d8576b\"], [0.6666666666666666, \"#ed7953\"], [0.7777777777777778, \"#fb9f3a\"], [0.8888888888888888, \"#fdca26\"], [1.0, \"#f0f921\"]], \"type\": \"heatmapgl\"}], \"histogram\": [{\"marker\": {\"colorbar\": {\"outlinewidth\": 0, \"ticks\": \"\"}}, \"type\": \"histogram\"}], \"histogram2d\": [{\"colorbar\": {\"outlinewidth\": 0, \"ticks\": \"\"}, \"colorscale\": [[0.0, \"#0d0887\"], [0.1111111111111111, \"#46039f\"], [0.2222222222222222, \"#7201a8\"], [0.3333333333333333, \"#9c179e\"], [0.4444444444444444, \"#bd3786\"], [0.5555555555555556, \"#d8576b\"], [0.6666666666666666, \"#ed7953\"], [0.7777777777777778, \"#fb9f3a\"], [0.8888888888888888, \"#fdca26\"], [1.0, \"#f0f921\"]], \"type\": \"histogram2d\"}], \"histogram2dcontour\": [{\"colorbar\": {\"outlinewidth\": 0, \"ticks\": \"\"}, \"colorscale\": [[0.0, \"#0d0887\"], [0.1111111111111111, \"#46039f\"], [0.2222222222222222, \"#7201a8\"], [0.3333333333333333, \"#9c179e\"], [0.4444444444444444, \"#bd3786\"], [0.5555555555555556, \"#d8576b\"], [0.6666666666666666, \"#ed7953\"], [0.7777777777777778, \"#fb9f3a\"], [0.8888888888888888, \"#fdca26\"], [1.0, \"#f0f921\"]], \"type\": \"histogram2dcontour\"}], \"mesh3d\": [{\"colorbar\": {\"outlinewidth\": 0, \"ticks\": \"\"}, \"type\": \"mesh3d\"}], \"parcoords\": [{\"line\": {\"colorbar\": {\"outlinewidth\": 0, \"ticks\": \"\"}}, \"type\": \"parcoords\"}], \"pie\": [{\"automargin\": true, \"type\": \"pie\"}], \"scatter\": [{\"marker\": {\"colorbar\": {\"outlinewidth\": 0, \"ticks\": \"\"}}, \"type\": \"scatter\"}], \"scatter3d\": [{\"line\": {\"colorbar\": {\"outlinewidth\": 0, \"ticks\": \"\"}}, \"marker\": {\"colorbar\": {\"outlinewidth\": 0, \"ticks\": \"\"}}, \"type\": \"scatter3d\"}], \"scattercarpet\": [{\"marker\": {\"colorbar\": {\"outlinewidth\": 0, \"ticks\": \"\"}}, \"type\": \"scattercarpet\"}], \"scattergeo\": [{\"marker\": {\"colorbar\": {\"outlinewidth\": 0, \"ticks\": \"\"}}, \"type\": \"scattergeo\"}], \"scattergl\": [{\"marker\": {\"colorbar\": {\"outlinewidth\": 0, \"ticks\": \"\"}}, \"type\": \"scattergl\"}], \"scattermapbox\": [{\"marker\": {\"colorbar\": {\"outlinewidth\": 0, \"ticks\": \"\"}}, \"type\": \"scattermapbox\"}], \"scatterpolar\": [{\"marker\": {\"colorbar\": {\"outlinewidth\": 0, \"ticks\": \"\"}}, \"type\": \"scatterpolar\"}], \"scatterpolargl\": [{\"marker\": {\"colorbar\": {\"outlinewidth\": 0, \"ticks\": \"\"}}, \"type\": \"scatterpolargl\"}], \"scatterternary\": [{\"marker\": {\"colorbar\": {\"outlinewidth\": 0, \"ticks\": \"\"}}, \"type\": \"scatterternary\"}], \"surface\": [{\"colorbar\": {\"outlinewidth\": 0, \"ticks\": \"\"}, \"colorscale\": [[0.0, \"#0d0887\"], [0.1111111111111111, \"#46039f\"], [0.2222222222222222, \"#7201a8\"], [0.3333333333333333, \"#9c179e\"], [0.4444444444444444, \"#bd3786\"], [0.5555555555555556, \"#d8576b\"], [0.6666666666666666, \"#ed7953\"], [0.7777777777777778, \"#fb9f3a\"], [0.8888888888888888, \"#fdca26\"], [1.0, \"#f0f921\"]], \"type\": \"surface\"}], \"table\": [{\"cells\": {\"fill\": {\"color\": \"#EBF0F8\"}, \"line\": {\"color\": \"white\"}}, \"header\": {\"fill\": {\"color\": \"#C8D4E3\"}, \"line\": {\"color\": \"white\"}}, \"type\": \"table\"}]}, \"layout\": {\"annotationdefaults\": {\"arrowcolor\": \"#2a3f5f\", \"arrowhead\": 0, \"arrowwidth\": 1}, \"coloraxis\": {\"colorbar\": {\"outlinewidth\": 0, \"ticks\": \"\"}}, \"colorscale\": {\"diverging\": [[0, \"#8e0152\"], [0.1, \"#c51b7d\"], [0.2, \"#de77ae\"], [0.3, \"#f1b6da\"], [0.4, \"#fde0ef\"], [0.5, \"#f7f7f7\"], [0.6, \"#e6f5d0\"], [0.7, \"#b8e186\"], [0.8, \"#7fbc41\"], [0.9, \"#4d9221\"], [1, \"#276419\"]], \"sequential\": [[0.0, \"#0d0887\"], [0.1111111111111111, \"#46039f\"], [0.2222222222222222, \"#7201a8\"], [0.3333333333333333, \"#9c179e\"], [0.4444444444444444, \"#bd3786\"], [0.5555555555555556, \"#d8576b\"], [0.6666666666666666, \"#ed7953\"], [0.7777777777777778, \"#fb9f3a\"], [0.8888888888888888, \"#fdca26\"], [1.0, \"#f0f921\"]], \"sequentialminus\": [[0.0, \"#0d0887\"], [0.1111111111111111, \"#46039f\"], [0.2222222222222222, \"#7201a8\"], [0.3333333333333333, \"#9c179e\"], [0.4444444444444444, \"#bd3786\"], [0.5555555555555556, \"#d8576b\"], [0.6666666666666666, \"#ed7953\"], [0.7777777777777778, \"#fb9f3a\"], [0.8888888888888888, \"#fdca26\"], [1.0, \"#f0f921\"]]}, \"colorway\": [\"#636efa\", \"#EF553B\", \"#00cc96\", \"#ab63fa\", \"#FFA15A\", \"#19d3f3\", \"#FF6692\", \"#B6E880\", \"#FF97FF\", \"#FECB52\"], \"font\": {\"color\": \"#2a3f5f\"}, \"geo\": {\"bgcolor\": \"white\", \"lakecolor\": \"white\", \"landcolor\": \"#E5ECF6\", \"showlakes\": true, \"showland\": true, \"subunitcolor\": \"white\"}, \"hoverlabel\": {\"align\": \"left\"}, \"hovermode\": \"closest\", \"mapbox\": {\"style\": \"light\"}, \"paper_bgcolor\": \"white\", \"plot_bgcolor\": \"#E5ECF6\", \"polar\": {\"angularaxis\": {\"gridcolor\": \"white\", \"linecolor\": \"white\", \"ticks\": \"\"}, \"bgcolor\": \"#E5ECF6\", \"radialaxis\": {\"gridcolor\": \"white\", \"linecolor\": \"white\", \"ticks\": \"\"}}, \"scene\": {\"xaxis\": {\"backgroundcolor\": \"#E5ECF6\", \"gridcolor\": \"white\", \"gridwidth\": 2, \"linecolor\": \"white\", \"showbackground\": true, \"ticks\": \"\", \"zerolinecolor\": \"white\"}, \"yaxis\": {\"backgroundcolor\": \"#E5ECF6\", \"gridcolor\": \"white\", \"gridwidth\": 2, \"linecolor\": \"white\", \"showbackground\": true, \"ticks\": \"\", \"zerolinecolor\": \"white\"}, \"zaxis\": {\"backgroundcolor\": \"#E5ECF6\", \"gridcolor\": \"white\", \"gridwidth\": 2, \"linecolor\": \"white\", \"showbackground\": true, \"ticks\": \"\", \"zerolinecolor\": \"white\"}}, \"shapedefaults\": {\"line\": {\"color\": \"#2a3f5f\"}}, \"ternary\": {\"aaxis\": {\"gridcolor\": \"white\", \"linecolor\": \"white\", \"ticks\": \"\"}, \"baxis\": {\"gridcolor\": \"white\", \"linecolor\": \"white\", \"ticks\": \"\"}, \"bgcolor\": \"#E5ECF6\", \"caxis\": {\"gridcolor\": \"white\", \"linecolor\": \"white\", \"ticks\": \"\"}}, \"title\": {\"x\": 0.05}, \"xaxis\": {\"automargin\": true, \"gridcolor\": \"white\", \"linecolor\": \"white\", \"ticks\": \"\", \"title\": {\"standoff\": 15}, \"zerolinecolor\": \"white\", \"zerolinewidth\": 2}, \"yaxis\": {\"automargin\": true, \"gridcolor\": \"white\", \"linecolor\": \"white\", \"ticks\": \"\", \"title\": {\"standoff\": 15}, \"zerolinecolor\": \"white\", \"zerolinewidth\": 2}}}, \"title\": {\"font\": {\"size\": 20}, \"text\": \"Sample_ID: RBDCanola_O3on_150gN3_02082023\"}, \"uniformtext\": {\"minsize\": 18, \"mode\": \"hide\"}, \"xaxis\": {\"anchor\": \"y\", \"domain\": [0.0, 1.0], \"title\": {\"font\": {\"size\": 16}, \"text\": \"Lipid\"}}, \"yaxis\": {\"anchor\": \"x\", \"domain\": [0.0, 1.0], \"tickfont\": {\"size\": 16}, \"title\": {\"font\": {\"size\": 16}, \"text\": \"Ratios\"}}},                        {\"responsive\": true}                    ).then(function(){\n",
       "                            \n",
       "var gd = document.getElementById('7fb116af-f797-43d6-ba08-85f9686fa9b2');\n",
       "var x = new MutationObserver(function (mutations, observer) {{\n",
       "        var display = window.getComputedStyle(gd).display;\n",
       "        if (!display || display === 'none') {{\n",
       "            console.log([gd, 'removed!']);\n",
       "            Plotly.purge(gd);\n",
       "            observer.disconnect();\n",
       "        }}\n",
       "}});\n",
       "\n",
       "// Listen for the removal of the full notebook cells\n",
       "var notebookContainer = gd.closest('#notebook-container');\n",
       "if (notebookContainer) {{\n",
       "    x.observe(notebookContainer, {childList: true});\n",
       "}}\n",
       "\n",
       "// Listen for the clearing of the current output cell\n",
       "var outputEl = gd.closest('.output');\n",
       "if (outputEl) {{\n",
       "    x.observe(outputEl, {childList: true});\n",
       "}}\n",
       "\n",
       "                        })                };                });            </script>        </div>"
      ]
     },
     "metadata": {},
     "output_type": "display_data"
    }
   ],
   "source": [
    "import plotly.express as px\n",
    "import os\n",
    "\n",
    "# Create the \"Plots\" directory if it doesn't exist\n",
    "os.makedirs(\"Projects/canola/Plots/py_plots/\", exist_ok=True)\n",
    "project = 'Projects/canola/'\n",
    "plot_folder = 'Plots/py_plots/'\n",
    "\n",
    "\n",
    "# Define color mappings for Lipid patterns\n",
    "color_mapping = {\n",
    "    '50': 'red',\n",
    "    '51': 'brown',\n",
    "    '52': 'blue',\n",
    "    '53': 'purple',\n",
    "    '54': 'green',\n",
    "}\n",
    "\n",
    "# Get the unique Sample_IDs\n",
    "sample_ids = df_matched_6['Sample_ID'].unique()\n",
    "\n",
    "# Loop over the unique Sample_IDs\n",
    "for sample_id in sample_ids:\n",
    "    \n",
    "    # Filter the dataframe for the current Sample_ID\n",
    "    df_sample = df_matched_6[df_matched_6['Sample_ID'] == sample_id]\n",
    "    \n",
    "    # Assign colors to Lipids based on patterns\n",
    "    lipid_colors = []\n",
    "    for lipid in df_sample['Lipid']:\n",
    "        color = 'gray'  # Default color\n",
    "        for pattern, pattern_color in color_mapping.items():\n",
    "            if pattern in lipid:\n",
    "                color = pattern_color\n",
    "                break\n",
    "        lipid_colors.append(color)\n",
    "    \n",
    "    # Create the bar plot\n",
    "    fig = px.bar(df_sample, x='Lipid', y='Ratios', text='Ratios', title=f'Bar Plot for Sample_ID: {sample_id}',\n",
    "                 color_discrete_map=color_mapping)\n",
    "    \n",
    "    # Apply colors to the bars\n",
    "    fig.update_traces(\n",
    "        marker_color=lipid_colors,\n",
    "        texttemplate='%{text:.2f}',\n",
    "        textposition='auto',\n",
    "        marker_line_width=0\n",
    "    )\n",
    "    \n",
    "    # Customize the layout\n",
    "    fig.update_layout(\n",
    "        uniformtext_minsize=18,\n",
    "        uniformtext_mode='hide',\n",
    "        xaxis=dict(\n",
    "            title='Lipid',\n",
    "            titlefont=dict(size=16)\n",
    "        ),\n",
    "        yaxis=dict(\n",
    "            title='Ratios',\n",
    "            titlefont=dict(size=16),\n",
    "            tickfont=dict(size=16)  # Set the font size of y-axis labels\n",
    "        ),\n",
    "        legend=dict(\n",
    "            title='Lipid Patterns',\n",
    "            tracegroupgap=50,\n",
    "            itemsizing='constant'\n",
    "        ),\n",
    "        title=dict(\n",
    "            text=f'Sample_ID: {sample_id}',\n",
    "            font=dict(size=20)  # Set the title font size\n",
    "        )\n",
    "    )\n",
    "    # Save the plot as an image\n",
    "    file_name = f\"{project}{plot_folder}/plot_{sample_id}.png\"\n",
    "\n",
    "    # Check if the file already exists\n",
    "    index = 1\n",
    "    while os.path.exists(file_name):\n",
    "        file_name = f\"{project}{plot_folder}/plot_{sample_id}_{index}.png\"\n",
    "        index += 1\n",
    "\n",
    "    fig.write_image(file_name)\n",
    "    # Show plot\n",
    "    fig.show()\n"
   ]
  },
  {
   "cell_type": "code",
   "execution_count": 19,
   "metadata": {},
   "outputs": [],
   "source": [
    "import plot\n",
    "# Create the \"Plots\" directory if it doesn't exist\n",
    "os.makedirs(\"Projects/test_py/plots/ratios/\", exist_ok=True)\n",
    "project = 'Projects/test_py/'\n",
    "plot_folder = 'Plots/'\n",
    "df_plot = df_matched_6.copy()\n",
    "\n",
    "# Define color mappings for Lipid patterns\n",
    "color_mapping = {\n",
    "    '50': 'red',\n",
    "    '51': 'brown',\n",
    "    '52': 'blue',\n",
    "    '53': 'purple',\n",
    "    '54': 'green',\n",
    "}\n",
    "\n",
    "# Specify output directory\n",
    "output_directory = \"Projects/test_py/plots/ratios/\"\n",
    "\n",
    "plot.plot_ratios(df_plot, color_mapping, output_directory)"
   ]
  },
  {
   "cell_type": "code",
   "execution_count": 46,
   "metadata": {},
   "outputs": [],
   "source": [
    "##########################"
   ]
  },
  {
   "cell_type": "code",
   "execution_count": null,
   "metadata": {},
   "outputs": [],
   "source": []
  }
 ],
 "metadata": {
  "kernelspec": {
   "display_name": "pymzml",
   "language": "python",
   "name": "python3"
  },
  "language_info": {
   "codemirror_mode": {
    "name": "ipython",
    "version": 3
   },
   "file_extension": ".py",
   "mimetype": "text/x-python",
   "name": "python",
   "nbconvert_exporter": "python",
   "pygments_lexer": "ipython3",
   "version": "3.9.15"
  },
  "orig_nbformat": 4
 },
 "nbformat": 4,
 "nbformat_minor": 2
}
