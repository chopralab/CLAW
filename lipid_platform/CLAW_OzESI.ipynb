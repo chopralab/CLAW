{
 "cells": [
  {
   "cell_type": "code",
   "execution_count": 1,
   "metadata": {},
   "outputs": [],
   "source": [
    "from IPython.display import display, Image, clear_output"
   ]
  },
  {
   "cell_type": "markdown",
   "metadata": {},
   "source": [
    "# Comprehensive Lipidome Automation Workflow (CLAW)\n",
    "\n",
    "Welcome to CLAW, a tool designed to facilitate and optimize the processing of lipidomic MRM data. This Jupyter notebook encapsulates a suite of tools that streamline the various stages of lipidomics data analysis.\n",
    "\n",
    "Our toolset enables users to efficiently process MRM data files in the mzML format. Upload a file and CLAW will parse the data into a structured Pandas dataframe. This dataframe includes critical information like sample_ID, MRM transition, and signal intensity. Furthermore, our tool aligns each MRM transition with a default or custom lipid_database for accurate and swift annotation.\n",
    "\n",
    "Moreover, CLAW is equipped with an OzESI option, a tool to elucidate the double bond location in lipid isomers. This feature allows users to input OzESI data and pinpoint the precise location of double bonds in isomeric lipids. Users have the flexibility to select which double bond locations they want to analyze. Following this, CLAW autonomously predicts potential m/z values and cross-references these predictions with sample data, ensuring a comprehensive and meticulous analysis.\n",
    "\n",
    "With automation at its core, CLAW eliminates the need for manual data processing, significantly reducing time expenditure. It is a robust and invaluable tool for handling large volumes of lipid MRM data, accelerating scientific discovery in the field of lipidomics."
   ]
  },
  {
   "cell_type": "code",
   "execution_count": 2,
   "metadata": {},
   "outputs": [],
   "source": [
    "#Import all the necessary python libraries\n",
    "import pymzml\n",
    "import csv\n",
    "import os\n",
    "import pandas as pd\n",
    "import numpy as np\n",
    "import plotly.graph_objs as go\n",
    "import json\n",
    "\n",
    "#Import all the necessary CLAW libraries\n",
    "import create_directory\n",
    "import CLAW_OzESI"
   ]
  },
  {
   "cell_type": "markdown",
   "metadata": {},
   "source": [
    "## Directory and File Management\n",
    "For structured data management and efficient workflow, the system first ensures the presence of an output directory. If such a directory already exists you can skip this step."
   ]
  },
  {
   "cell_type": "code",
   "execution_count": 3,
   "metadata": {},
   "outputs": [],
   "source": [
    "# # Create the output directory. If it already exists you can skip this step.\n",
    "# create_directory.create_project_folder()\n"
   ]
  },
  {
   "cell_type": "markdown",
   "metadata": {},
   "source": [
    "The name of the project is defined next. This is important as the created directory will bear this name, allowing users to manage and identify their data with ease.\n",
    "\n",
    "After the mzML files are uploaded to the designated mzML folder, the next block of code segregates these files based on their characteristics. More specifically, it filters the files and transfers them to respective folders named 'o3on' and 'o2only'."
   ]
  },
  {
   "cell_type": "code",
   "execution_count": 4,
   "metadata": {},
   "outputs": [
    {
     "name": "stdout",
     "output_type": "stream",
     "text": [
      "One or both of the destination directories 'Projects/canola/o3on' and 'Projects/canola/o2only' do not exist.\n"
     ]
    }
   ],
   "source": [
    "name_of_project = 'canola'\n",
    "#After you load mzml files to mzml folder. this will filter the files and move them to o3on and o2only folders\n",
    "create_directory.filter_o3mzml_files(name_of_project)"
   ]
  },
  {
   "cell_type": "markdown",
   "metadata": {},
   "source": [
    "## Pre-Parsing Setup\n",
    "The following block of code takes the preset variable values and uses them to parse the mzML files. The parsed data, including the sample ID, MRM transitions, and intensities, is stored in a pandas dataframe for easy manipulation and analysis.\n",
    "\n",
    "The function CLAW.parsing_mzml_to_df takes several arguments. data_base_name_location is the location of the lipid database that contains information on lipid classes, fatty acid chains, and their corresponding MRM transitions. Project_Folder_data is the location of the mzML files for the samples to be analyzed. tolerance defines the acceptable range of deviation for the MRM transitions when matching them with the lipid database. The argument remove_std is a boolean that, when True, indicates to remove the MRM transitions that correspond to standards (internal or external) present in the samples.\n",
    "\n",
    "The function outputs a pandas dataframe (df) where each row corresponds to an MRM transition detected in a sample, and columns include the sample ID, MRM transition, and intensity of the transition, among other values."
   ]
  },
  {
   "cell_type": "code",
   "execution_count": 5,
   "metadata": {},
   "outputs": [
    {
     "name": "stdout",
     "output_type": "stream",
     "text": [
      "data_base_name_location: lipid_database/Lipid_Database.xlsx\n",
      "Project: ./Projects/\n",
      "Project_Name: canola\n",
      "Project_Folder_data: ./Projects/canola/mzml/\n",
      "Project_results: ./Projects/canola/results/\n",
      "file_name_to_save: canola\n",
      "tolerance: 0.3\n",
      "remove_std: True\n",
      "save_data: True\n"
     ]
    }
   ],
   "source": [
    "# Set default values\n",
    "data_base_name_location = 'lipid_database/Lipid_Database.xlsx'\n",
    "Project = './Projects/'\n",
    "Project_Name = 'canola'\n",
    "Project_Folder_data = Project + Project_Name + '/mzml/'\n",
    "Project_results = Project + Project_Name + '/results/'\n",
    "file_name_to_save = 'canola'\n",
    "tolerance = 0.3\n",
    "remove_std = True\n",
    "save_data = True\n",
    "\n",
    "# Call pre_parsing_setup to initialize the variables\n",
    "data_base_name_location, Project_Folder_data, Project_results, file_name_to_save, tolerance, remove_std, save_data = CLAW_OzESI.pre_parsing_setup(data_base_name_location,\n",
    " Project, \n",
    " Project_Name, \n",
    " Project_Folder_data,\n",
    " Project_results, \n",
    " file_name_to_save, \n",
    " tolerance, \n",
    " remove_std,\n",
    " save_data)\n"
   ]
  },
  {
   "cell_type": "markdown",
   "metadata": {},
   "source": [
    "Define the master dataframes where the data will be stored during the parsing step."
   ]
  },
  {
   "cell_type": "code",
   "execution_count": 6,
   "metadata": {},
   "outputs": [],
   "source": [
    "time_and_intensity_df, master_df, OzESI_time_df = CLAW_OzESI.create_analysis_dataframes()"
   ]
  },
  {
   "cell_type": "markdown",
   "metadata": {},
   "source": [
    "## CLAW.full_parse()\n",
    "In this code, the `CLAW.full_parse()` function is used to analyze the MRM data. It takes several parameters like the location of the lipid database, paths to the data and results folders, the name of the result files, and the tolerance for MRM transitions matching. The function returns two dataframes: `df_matched` that contains information about each detected lipid species and their corresponding MRM transitions, and `OzESI_time_df` which captures data related to OzESI-MS scans, including potential double bond locations of lipids. If `remove_std` is `True`, it removes MRM transitions related to standards from the dataframe, and if `save_data` is `True`, the dataframe is saved as a .csv file in the specified results folder."
   ]
  },
  {
   "cell_type": "code",
   "execution_count": 7,
   "metadata": {},
   "outputs": [
    {
     "name": "stderr",
     "output_type": "stream",
     "text": [
      "/home/iyer95/CLAW/CLAW/lipid_platform/CLAW_OzESI.py:103: SettingWithCopyWarning: \n",
      "A value is trying to be set on a copy of a slice from a DataFrame.\n",
      "Try using .loc[row_indexer,col_indexer] = value instead\n",
      "\n",
      "See the caveats in the documentation: https://pandas.pydata.org/pandas-docs/stable/user_guide/indexing.html#returning-a-view-versus-a-copy\n",
      "  lipid_MRM_data['Parent_Ion'] = np.round(lipid_MRM_data['Parent_Ion'], 1)\n",
      "/home/iyer95/CLAW/CLAW/lipid_platform/CLAW_OzESI.py:104: SettingWithCopyWarning: \n",
      "A value is trying to be set on a copy of a slice from a DataFrame.\n",
      "Try using .loc[row_indexer,col_indexer] = value instead\n",
      "\n",
      "See the caveats in the documentation: https://pandas.pydata.org/pandas-docs/stable/user_guide/indexing.html#returning-a-view-versus-a-copy\n",
      "  lipid_MRM_data['Product_Ion'] = np.round(lipid_MRM_data['Product_Ion'], 1)\n",
      "/home/iyer95/CLAW/CLAW/lipid_platform/CLAW_OzESI.py:105: SettingWithCopyWarning: \n",
      "A value is trying to be set on a copy of a slice from a DataFrame.\n",
      "Try using .loc[row_indexer,col_indexer] = value instead\n",
      "\n",
      "See the caveats in the documentation: https://pandas.pydata.org/pandas-docs/stable/user_guide/indexing.html#returning-a-view-versus-a-copy\n",
      "  lipid_MRM_data['Transition'] = lipid_MRM_data['Parent_Ion'].astype(str) + ' -> ' + lipid_MRM_data['Product_Ion'].astype(str)\n"
     ]
    },
    {
     "name": "stdout",
     "output_type": "stream",
     "text": [
      "Finished parsing mzML file: ./Projects/canola/mzml/CrudeCanola_O3on_150gN3_02082023.mzML\n",
      "\n",
      "Finished parsing mzML file: ./Projects/canola/mzml/DegummedCanola_O3on_150gN3_02082023.mzML\n",
      "\n",
      "Finished parsing mzML file: ./Projects/canola/mzml/RBDCanola_O3on_150gN3_02082023.mzML\n",
      "\n",
      "Finished parsing all mzML files\n",
      "\n"
     ]
    }
   ],
   "source": [
    "# Use the initialized variables as arguments to full_parse\n",
    "df_MRM, df_OzESI = CLAW_OzESI.full_parse(data_base_name_location, \n",
    "                                               Project_Folder_data, \n",
    "                                               Project_results, \n",
    "                                               file_name_to_save, \n",
    "                                               tolerance, \n",
    "                                               remove_std=True, \n",
    "                                               save_data=False,\n",
    "                                               batch_processing=True,\n",
    "                                               plot_chromatogram=True)"
   ]
  },
  {
   "cell_type": "code",
   "execution_count": 8,
   "metadata": {},
   "outputs": [
    {
     "data": {
      "text/html": [
       "<div>\n",
       "<style scoped>\n",
       "    .dataframe tbody tr th:only-of-type {\n",
       "        vertical-align: middle;\n",
       "    }\n",
       "\n",
       "    .dataframe tbody tr th {\n",
       "        vertical-align: top;\n",
       "    }\n",
       "\n",
       "    .dataframe thead th {\n",
       "        text-align: right;\n",
       "    }\n",
       "</style>\n",
       "<table border=\"1\" class=\"dataframe\">\n",
       "  <thead>\n",
       "    <tr style=\"text-align: right;\">\n",
       "      <th></th>\n",
       "      <th>Class</th>\n",
       "      <th>Intensity</th>\n",
       "      <th>Lipid</th>\n",
       "      <th>Parent_Ion</th>\n",
       "      <th>Product_Ion</th>\n",
       "      <th>Sample_ID</th>\n",
       "      <th>Transition</th>\n",
       "    </tr>\n",
       "  </thead>\n",
       "  <tbody>\n",
       "    <tr>\n",
       "      <th>0</th>\n",
       "      <td>NaN</td>\n",
       "      <td>5.451378e+05</td>\n",
       "      <td>NaN</td>\n",
       "      <td>760.6</td>\n",
       "      <td>571.596</td>\n",
       "      <td>CrudeCanola_O3on_150gN3_02082023</td>\n",
       "      <td>760.6 -&gt; 571.596</td>\n",
       "    </tr>\n",
       "    <tr>\n",
       "      <th>1</th>\n",
       "      <td>NaN</td>\n",
       "      <td>6.208219e+05</td>\n",
       "      <td>NaN</td>\n",
       "      <td>762.6</td>\n",
       "      <td>573.596</td>\n",
       "      <td>CrudeCanola_O3on_150gN3_02082023</td>\n",
       "      <td>762.6 -&gt; 573.596</td>\n",
       "    </tr>\n",
       "    <tr>\n",
       "      <th>2</th>\n",
       "      <td>NaN</td>\n",
       "      <td>9.441859e+05</td>\n",
       "      <td>NaN</td>\n",
       "      <td>764.6</td>\n",
       "      <td>575.596</td>\n",
       "      <td>CrudeCanola_O3on_150gN3_02082023</td>\n",
       "      <td>764.6 -&gt; 575.596</td>\n",
       "    </tr>\n",
       "    <tr>\n",
       "      <th>3</th>\n",
       "      <td>NaN</td>\n",
       "      <td>1.137434e+06</td>\n",
       "      <td>NaN</td>\n",
       "      <td>766.7</td>\n",
       "      <td>577.596</td>\n",
       "      <td>CrudeCanola_O3on_150gN3_02082023</td>\n",
       "      <td>766.7 -&gt; 577.596</td>\n",
       "    </tr>\n",
       "    <tr>\n",
       "      <th>4</th>\n",
       "      <td>NaN</td>\n",
       "      <td>5.900676e+05</td>\n",
       "      <td>NaN</td>\n",
       "      <td>782.6</td>\n",
       "      <td>593.596</td>\n",
       "      <td>CrudeCanola_O3on_150gN3_02082023</td>\n",
       "      <td>782.6 -&gt; 593.596</td>\n",
       "    </tr>\n",
       "    <tr>\n",
       "      <th>...</th>\n",
       "      <td>...</td>\n",
       "      <td>...</td>\n",
       "      <td>...</td>\n",
       "      <td>...</td>\n",
       "      <td>...</td>\n",
       "      <td>...</td>\n",
       "      <td>...</td>\n",
       "    </tr>\n",
       "    <tr>\n",
       "      <th>100</th>\n",
       "      <td>TAG</td>\n",
       "      <td>4.897507e+05</td>\n",
       "      <td>[TG(54:6)]_FA18:1</td>\n",
       "      <td>896.8</td>\n",
       "      <td>597.596</td>\n",
       "      <td>RBDCanola_O3on_150gN3_02082023</td>\n",
       "      <td>896.8 -&gt; 597.596</td>\n",
       "    </tr>\n",
       "    <tr>\n",
       "      <th>101</th>\n",
       "      <td>TAG</td>\n",
       "      <td>1.179904e+06</td>\n",
       "      <td>[TG(54:5)]_FA18:1</td>\n",
       "      <td>898.8</td>\n",
       "      <td>599.596</td>\n",
       "      <td>RBDCanola_O3on_150gN3_02082023</td>\n",
       "      <td>898.8 -&gt; 599.596</td>\n",
       "    </tr>\n",
       "    <tr>\n",
       "      <th>102</th>\n",
       "      <td>TAG</td>\n",
       "      <td>1.654774e+06</td>\n",
       "      <td>[TG(55:11),TG(54:4)]_FA18:1</td>\n",
       "      <td>900.8</td>\n",
       "      <td>601.596</td>\n",
       "      <td>RBDCanola_O3on_150gN3_02082023</td>\n",
       "      <td>900.8 -&gt; 601.596</td>\n",
       "    </tr>\n",
       "    <tr>\n",
       "      <th>103</th>\n",
       "      <td>TAG</td>\n",
       "      <td>5.234119e+06</td>\n",
       "      <td>[TG(55:10),TG(54:3)]_FA18:1</td>\n",
       "      <td>902.8</td>\n",
       "      <td>603.596</td>\n",
       "      <td>RBDCanola_O3on_150gN3_02082023</td>\n",
       "      <td>902.8 -&gt; 603.596</td>\n",
       "    </tr>\n",
       "    <tr>\n",
       "      <th>104</th>\n",
       "      <td>TAG</td>\n",
       "      <td>2.793856e+06</td>\n",
       "      <td>[TG(55:9),TG(54:2)]_FA18:1</td>\n",
       "      <td>904.8</td>\n",
       "      <td>605.596</td>\n",
       "      <td>RBDCanola_O3on_150gN3_02082023</td>\n",
       "      <td>904.8 -&gt; 605.596</td>\n",
       "    </tr>\n",
       "  </tbody>\n",
       "</table>\n",
       "<p>105 rows × 7 columns</p>\n",
       "</div>"
      ],
      "text/plain": [
       "    Class     Intensity                        Lipid  Parent_Ion  Product_Ion  \\\n",
       "0     NaN  5.451378e+05                          NaN       760.6      571.596   \n",
       "1     NaN  6.208219e+05                          NaN       762.6      573.596   \n",
       "2     NaN  9.441859e+05                          NaN       764.6      575.596   \n",
       "3     NaN  1.137434e+06                          NaN       766.7      577.596   \n",
       "4     NaN  5.900676e+05                          NaN       782.6      593.596   \n",
       "..    ...           ...                          ...         ...          ...   \n",
       "100   TAG  4.897507e+05            [TG(54:6)]_FA18:1       896.8      597.596   \n",
       "101   TAG  1.179904e+06            [TG(54:5)]_FA18:1       898.8      599.596   \n",
       "102   TAG  1.654774e+06  [TG(55:11),TG(54:4)]_FA18:1       900.8      601.596   \n",
       "103   TAG  5.234119e+06  [TG(55:10),TG(54:3)]_FA18:1       902.8      603.596   \n",
       "104   TAG  2.793856e+06   [TG(55:9),TG(54:2)]_FA18:1       904.8      605.596   \n",
       "\n",
       "                            Sample_ID        Transition  \n",
       "0    CrudeCanola_O3on_150gN3_02082023  760.6 -> 571.596  \n",
       "1    CrudeCanola_O3on_150gN3_02082023  762.6 -> 573.596  \n",
       "2    CrudeCanola_O3on_150gN3_02082023  764.6 -> 575.596  \n",
       "3    CrudeCanola_O3on_150gN3_02082023  766.7 -> 577.596  \n",
       "4    CrudeCanola_O3on_150gN3_02082023  782.6 -> 593.596  \n",
       "..                                ...               ...  \n",
       "100    RBDCanola_O3on_150gN3_02082023  896.8 -> 597.596  \n",
       "101    RBDCanola_O3on_150gN3_02082023  898.8 -> 599.596  \n",
       "102    RBDCanola_O3on_150gN3_02082023  900.8 -> 601.596  \n",
       "103    RBDCanola_O3on_150gN3_02082023  902.8 -> 603.596  \n",
       "104    RBDCanola_O3on_150gN3_02082023  904.8 -> 605.596  \n",
       "\n",
       "[105 rows x 7 columns]"
      ]
     },
     "execution_count": 8,
     "metadata": {},
     "output_type": "execute_result"
    }
   ],
   "source": [
    "df_MRM.head(None)"
   ]
  },
  {
   "cell_type": "markdown",
   "metadata": {},
   "source": [
    "The `read_mrm_list()` function is first invoked to read the MRM database from the specified file location and return it as a pandas DataFrame `mrm_database`. Subsequently, the `match_lipids_parser()` function is called to match the detected lipids from the `OzESI_time_df` DataFrame, obtained from the OzESI-MS scans, with the known lipids in the `mrm_database` based on the MRM transitions within the specified `tolerance`. The result is saved in the `df_oz_matched` DataFrame, which now contains matched lipid species from the OzESI-MS data."
   ]
  },
  {
   "cell_type": "code",
   "execution_count": 9,
   "metadata": {},
   "outputs": [
    {
     "name": "stderr",
     "output_type": "stream",
     "text": [
      "/home/iyer95/CLAW/CLAW/lipid_platform/CLAW_OzESI.py:103: SettingWithCopyWarning: \n",
      "A value is trying to be set on a copy of a slice from a DataFrame.\n",
      "Try using .loc[row_indexer,col_indexer] = value instead\n",
      "\n",
      "See the caveats in the documentation: https://pandas.pydata.org/pandas-docs/stable/user_guide/indexing.html#returning-a-view-versus-a-copy\n",
      "  lipid_MRM_data['Parent_Ion'] = np.round(lipid_MRM_data['Parent_Ion'], 1)\n",
      "/home/iyer95/CLAW/CLAW/lipid_platform/CLAW_OzESI.py:104: SettingWithCopyWarning: \n",
      "A value is trying to be set on a copy of a slice from a DataFrame.\n",
      "Try using .loc[row_indexer,col_indexer] = value instead\n",
      "\n",
      "See the caveats in the documentation: https://pandas.pydata.org/pandas-docs/stable/user_guide/indexing.html#returning-a-view-versus-a-copy\n",
      "  lipid_MRM_data['Product_Ion'] = np.round(lipid_MRM_data['Product_Ion'], 1)\n",
      "/home/iyer95/CLAW/CLAW/lipid_platform/CLAW_OzESI.py:105: SettingWithCopyWarning: \n",
      "A value is trying to be set on a copy of a slice from a DataFrame.\n",
      "Try using .loc[row_indexer,col_indexer] = value instead\n",
      "\n",
      "See the caveats in the documentation: https://pandas.pydata.org/pandas-docs/stable/user_guide/indexing.html#returning-a-view-versus-a-copy\n",
      "  lipid_MRM_data['Transition'] = lipid_MRM_data['Parent_Ion'].astype(str) + ' -> ' + lipid_MRM_data['Product_Ion'].astype(str)\n"
     ]
    }
   ],
   "source": [
    "mrm_database = CLAW_OzESI.read_mrm_list(data_base_name_location, deuterated=False)\n",
    "df_OzESI_matched = CLAW_OzESI.match_lipids_parser(mrm_database, df_OzESI, tolerance)\n"
   ]
  },
  {
   "cell_type": "markdown",
   "metadata": {},
   "source": [
    "### Confirm OzESI df before parsing data"
   ]
  },
  {
   "cell_type": "code",
   "execution_count": 10,
   "metadata": {},
   "outputs": [
    {
     "data": {
      "text/html": [
       "<div>\n",
       "<style scoped>\n",
       "    .dataframe tbody tr th:only-of-type {\n",
       "        vertical-align: middle;\n",
       "    }\n",
       "\n",
       "    .dataframe tbody tr th {\n",
       "        vertical-align: top;\n",
       "    }\n",
       "\n",
       "    .dataframe thead th {\n",
       "        text-align: right;\n",
       "    }\n",
       "</style>\n",
       "<table border=\"1\" class=\"dataframe\">\n",
       "  <thead>\n",
       "    <tr style=\"text-align: right;\">\n",
       "      <th></th>\n",
       "      <th>Class</th>\n",
       "      <th>Lipid</th>\n",
       "      <th>OzESI_Intensity</th>\n",
       "      <th>Parent_Ion</th>\n",
       "      <th>Product_Ion</th>\n",
       "      <th>Retention_Time</th>\n",
       "      <th>Sample_ID</th>\n",
       "      <th>Transition</th>\n",
       "    </tr>\n",
       "  </thead>\n",
       "  <tbody>\n",
       "    <tr>\n",
       "      <th>0</th>\n",
       "      <td>NaN</td>\n",
       "      <td>NaN</td>\n",
       "      <td>190.400009</td>\n",
       "      <td>760.6</td>\n",
       "      <td>571.596</td>\n",
       "      <td>0.015933</td>\n",
       "      <td>CrudeCanola_O3on_150gN3_02082023</td>\n",
       "      <td>760.6 -&gt; 571.596</td>\n",
       "    </tr>\n",
       "    <tr>\n",
       "      <th>1</th>\n",
       "      <td>NaN</td>\n",
       "      <td>NaN</td>\n",
       "      <td>147.420013</td>\n",
       "      <td>760.6</td>\n",
       "      <td>571.596</td>\n",
       "      <td>0.032233</td>\n",
       "      <td>CrudeCanola_O3on_150gN3_02082023</td>\n",
       "      <td>760.6 -&gt; 571.596</td>\n",
       "    </tr>\n",
       "    <tr>\n",
       "      <th>2</th>\n",
       "      <td>NaN</td>\n",
       "      <td>NaN</td>\n",
       "      <td>153.620010</td>\n",
       "      <td>760.6</td>\n",
       "      <td>571.596</td>\n",
       "      <td>0.048550</td>\n",
       "      <td>CrudeCanola_O3on_150gN3_02082023</td>\n",
       "      <td>760.6 -&gt; 571.596</td>\n",
       "    </tr>\n",
       "    <tr>\n",
       "      <th>3</th>\n",
       "      <td>NaN</td>\n",
       "      <td>NaN</td>\n",
       "      <td>200.080017</td>\n",
       "      <td>760.6</td>\n",
       "      <td>571.596</td>\n",
       "      <td>0.064850</td>\n",
       "      <td>CrudeCanola_O3on_150gN3_02082023</td>\n",
       "      <td>760.6 -&gt; 571.596</td>\n",
       "    </tr>\n",
       "    <tr>\n",
       "      <th>4</th>\n",
       "      <td>NaN</td>\n",
       "      <td>NaN</td>\n",
       "      <td>206.900009</td>\n",
       "      <td>760.6</td>\n",
       "      <td>571.596</td>\n",
       "      <td>0.081167</td>\n",
       "      <td>CrudeCanola_O3on_150gN3_02082023</td>\n",
       "      <td>760.6 -&gt; 571.596</td>\n",
       "    </tr>\n",
       "    <tr>\n",
       "      <th>...</th>\n",
       "      <td>...</td>\n",
       "      <td>...</td>\n",
       "      <td>...</td>\n",
       "      <td>...</td>\n",
       "      <td>...</td>\n",
       "      <td>...</td>\n",
       "      <td>...</td>\n",
       "      <td>...</td>\n",
       "    </tr>\n",
       "    <tr>\n",
       "      <th>225352</th>\n",
       "      <td>TAG</td>\n",
       "      <td>[TG(55:9),TG(54:2)]_FA18:1</td>\n",
       "      <td>148.500015</td>\n",
       "      <td>904.8</td>\n",
       "      <td>605.596</td>\n",
       "      <td>34.931700</td>\n",
       "      <td>RBDCanola_O3on_150gN3_02082023</td>\n",
       "      <td>904.8 -&gt; 605.596</td>\n",
       "    </tr>\n",
       "    <tr>\n",
       "      <th>225353</th>\n",
       "      <td>TAG</td>\n",
       "      <td>[TG(55:9),TG(54:2)]_FA18:1</td>\n",
       "      <td>131.800003</td>\n",
       "      <td>904.8</td>\n",
       "      <td>605.596</td>\n",
       "      <td>34.948000</td>\n",
       "      <td>RBDCanola_O3on_150gN3_02082023</td>\n",
       "      <td>904.8 -&gt; 605.596</td>\n",
       "    </tr>\n",
       "    <tr>\n",
       "      <th>225354</th>\n",
       "      <td>TAG</td>\n",
       "      <td>[TG(55:9),TG(54:2)]_FA18:1</td>\n",
       "      <td>151.960007</td>\n",
       "      <td>904.8</td>\n",
       "      <td>605.596</td>\n",
       "      <td>34.964317</td>\n",
       "      <td>RBDCanola_O3on_150gN3_02082023</td>\n",
       "      <td>904.8 -&gt; 605.596</td>\n",
       "    </tr>\n",
       "    <tr>\n",
       "      <th>225355</th>\n",
       "      <td>TAG</td>\n",
       "      <td>[TG(55:9),TG(54:2)]_FA18:1</td>\n",
       "      <td>137.700012</td>\n",
       "      <td>904.8</td>\n",
       "      <td>605.596</td>\n",
       "      <td>34.980617</td>\n",
       "      <td>RBDCanola_O3on_150gN3_02082023</td>\n",
       "      <td>904.8 -&gt; 605.596</td>\n",
       "    </tr>\n",
       "    <tr>\n",
       "      <th>225356</th>\n",
       "      <td>TAG</td>\n",
       "      <td>[TG(55:9),TG(54:2)]_FA18:1</td>\n",
       "      <td>103.460007</td>\n",
       "      <td>904.8</td>\n",
       "      <td>605.596</td>\n",
       "      <td>34.996933</td>\n",
       "      <td>RBDCanola_O3on_150gN3_02082023</td>\n",
       "      <td>904.8 -&gt; 605.596</td>\n",
       "    </tr>\n",
       "  </tbody>\n",
       "</table>\n",
       "<p>225357 rows × 8 columns</p>\n",
       "</div>"
      ],
      "text/plain": [
       "       Class                       Lipid  OzESI_Intensity  Parent_Ion  \\\n",
       "0        NaN                         NaN       190.400009       760.6   \n",
       "1        NaN                         NaN       147.420013       760.6   \n",
       "2        NaN                         NaN       153.620010       760.6   \n",
       "3        NaN                         NaN       200.080017       760.6   \n",
       "4        NaN                         NaN       206.900009       760.6   \n",
       "...      ...                         ...              ...         ...   \n",
       "225352   TAG  [TG(55:9),TG(54:2)]_FA18:1       148.500015       904.8   \n",
       "225353   TAG  [TG(55:9),TG(54:2)]_FA18:1       131.800003       904.8   \n",
       "225354   TAG  [TG(55:9),TG(54:2)]_FA18:1       151.960007       904.8   \n",
       "225355   TAG  [TG(55:9),TG(54:2)]_FA18:1       137.700012       904.8   \n",
       "225356   TAG  [TG(55:9),TG(54:2)]_FA18:1       103.460007       904.8   \n",
       "\n",
       "        Product_Ion  Retention_Time                         Sample_ID  \\\n",
       "0           571.596        0.015933  CrudeCanola_O3on_150gN3_02082023   \n",
       "1           571.596        0.032233  CrudeCanola_O3on_150gN3_02082023   \n",
       "2           571.596        0.048550  CrudeCanola_O3on_150gN3_02082023   \n",
       "3           571.596        0.064850  CrudeCanola_O3on_150gN3_02082023   \n",
       "4           571.596        0.081167  CrudeCanola_O3on_150gN3_02082023   \n",
       "...             ...             ...                               ...   \n",
       "225352      605.596       34.931700    RBDCanola_O3on_150gN3_02082023   \n",
       "225353      605.596       34.948000    RBDCanola_O3on_150gN3_02082023   \n",
       "225354      605.596       34.964317    RBDCanola_O3on_150gN3_02082023   \n",
       "225355      605.596       34.980617    RBDCanola_O3on_150gN3_02082023   \n",
       "225356      605.596       34.996933    RBDCanola_O3on_150gN3_02082023   \n",
       "\n",
       "              Transition  \n",
       "0       760.6 -> 571.596  \n",
       "1       760.6 -> 571.596  \n",
       "2       760.6 -> 571.596  \n",
       "3       760.6 -> 571.596  \n",
       "4       760.6 -> 571.596  \n",
       "...                  ...  \n",
       "225352  904.8 -> 605.596  \n",
       "225353  904.8 -> 605.596  \n",
       "225354  904.8 -> 605.596  \n",
       "225355  904.8 -> 605.596  \n",
       "225356  904.8 -> 605.596  \n",
       "\n",
       "[225357 rows x 8 columns]"
      ]
     },
     "execution_count": 10,
     "metadata": {},
     "output_type": "execute_result"
    }
   ],
   "source": [
    "df_OzESI_matched"
   ]
  },
  {
   "cell_type": "markdown",
   "metadata": {},
   "source": [
    "### Main Processing Section - Lipidomics Data Processing and Double-Bond Location Analysis\n",
    "\n",
    "The code block initiates the data refining process by filtering the retention time from the `df_oz_matched` DataFrame using the `filter_rt()` function and concatenating this DataFrame with `df_matched` via `concat_dataframes()`. The resulting DataFrame is then enriched by adding the positional isomers and lipid information for specified double bond positions (here, 7, 9, 12) through the `DB_Position_df()` and `add_lipid_info()` functions respectively. Following sorting by 'Sample_ID' and 'Product_Ion', the `calculate_intensity_ratio()` function is employed to calculate and append intensity ratios to the DataFrame. Afterward, lipid species in the 'Lipid' column are sorted by their second triacylglycerol (TG) components. Lastly, the `filter_highest_ratios()` function is used to filter and keep rows with the highest intensity ratios, resulting in a more concise and useful DataFrame `df_matched_6`."
   ]
  },
  {
   "cell_type": "code",
   "execution_count": 12,
   "metadata": {},
   "outputs": [
    {
     "name": "stdout",
     "output_type": "stream",
     "text": [
      "    Class                        Lipid  OzESI_Intensity  Parent_Ion  \\\n",
      "0     NaN                          NaN            579.0       760.6   \n",
      "1     NaN                          NaN           1875.0       762.6   \n",
      "2     NaN                          NaN           3420.0       764.6   \n",
      "3     NaN                          NaN          16153.0       766.7   \n",
      "4     NaN                          NaN            671.0       782.6   \n",
      "..    ...                          ...              ...         ...   \n",
      "97    TAG            [TG(54:6)]_FA18:1           1138.0       896.8   \n",
      "98    TAG            [TG(54:5)]_FA18:1          12850.0       898.8   \n",
      "99    TAG  [TG(55:11),TG(54:4)]_FA18:1          87513.0       900.8   \n",
      "100   TAG  [TG(55:10),TG(54:3)]_FA18:1         297883.0       902.8   \n",
      "101   TAG   [TG(55:9),TG(54:2)]_FA18:1          37838.0       904.8   \n",
      "\n",
      "     Product_Ion  Retention_Time                         Sample_ID  \\\n",
      "0        571.596           12.41  CrudeCanola_O3on_150gN3_02082023   \n",
      "1        573.596           14.30  CrudeCanola_O3on_150gN3_02082023   \n",
      "2        575.596           16.09  CrudeCanola_O3on_150gN3_02082023   \n",
      "3        577.596           18.05  CrudeCanola_O3on_150gN3_02082023   \n",
      "4        593.596           20.46  CrudeCanola_O3on_150gN3_02082023   \n",
      "..           ...             ...                               ...   \n",
      "97       597.596           12.43    RBDCanola_O3on_150gN3_02082023   \n",
      "98       599.596           14.34    RBDCanola_O3on_150gN3_02082023   \n",
      "99       601.596           16.11    RBDCanola_O3on_150gN3_02082023   \n",
      "100      603.596           18.02    RBDCanola_O3on_150gN3_02082023   \n",
      "101      605.596           20.04    RBDCanola_O3on_150gN3_02082023   \n",
      "\n",
      "           Transition  is_special_case    n-7    n-9   n-12  \n",
      "0    760.6 -> 571.596                0  678.6  650.6  608.6  \n",
      "1    762.6 -> 573.596                0  680.6  652.6  610.6  \n",
      "2    764.6 -> 575.596                0  682.6  654.6  612.6  \n",
      "3    766.7 -> 577.596                0  684.7  656.7  614.7  \n",
      "4    782.6 -> 593.596                0  700.6  672.6  630.6  \n",
      "..                ...              ...    ...    ...    ...  \n",
      "97   896.8 -> 597.596                0  814.8  786.8  744.8  \n",
      "98   898.8 -> 599.596                0  816.8  788.8  746.8  \n",
      "99   900.8 -> 601.596                0  818.8  790.8  748.8  \n",
      "100  902.8 -> 603.596                0  820.8  792.8  750.8  \n",
      "101  904.8 -> 605.596                0  822.8  794.8  752.8  \n",
      "\n",
      "[102 rows x 12 columns]\n"
     ]
    }
   ],
   "source": [
    "#Filter step 1\n",
    "df_OzESI_1_filtered = CLAW_OzESI.filter_rt(df_OzESI_matched, min_rt=10, max_rt=23, min_intensity=100)\n",
    "df_OzESI_1_filtered\n",
    "\n",
    "# Copy the filtered dataframe\n",
    "df_OzESI_1_filtered_copy = df_OzESI_1_filtered.copy()\n",
    "\n",
    "# Add double bond position\n",
    "df_OzESI_2_DB_pos = CLAW_OzESI.calculate_DB_Position(df_OzESI_1_filtered_copy, db_pos_list=[7,9,12])\n",
    "df_OzESI_2_DB_pos\n",
    "print(df_OzESI_2_DB_pos)\n",
    "#Make a new column for Labels of n-#\n",
    "df_OzESI_2_DB_pos['db_pos'] = ''\n",
    "db_pos_list = [7, 9, 12]\n",
    "# Match db position to the n-# label\n",
    "df_OzESI_3_DB_pos_matched = CLAW_OzESI.add_lipid_info(df_OzESI_2_DB_pos, db_pos_list, tolerance=0.3)\n",
    "df_OzESI_3_DB_pos_matched\n",
    "######\n",
    "\n",
    "# Sort OzESI data by Sample_ID and Product_Ion\n",
    "df_OzESI_3_DB_pos_sorted = df_OzESI_3_DB_pos_matched.sort_values(by=['Sample_ID','Product_Ion'])\n",
    "\n",
    "# Make a copy of the sorted dataframe\n",
    "df_OzESI_4_ratio = df_OzESI_3_DB_pos_sorted.copy()\n",
    "# Add a column for Ratios\n",
    "# df_OzESI_4_ratio['Ratio'] = None\n",
    "\n",
    "# Calculate Ratios\n",
    "df_OzESI_4_ratio = CLAW_OzESI.calculate_intensity_ratio(df_OzESI_4_ratio)\n",
    "\n",
    "# Make a copy, sort lipids ratios for Lipids. Save in final dataframe df_OzESI_ratio_final\n",
    "df_OzESI_4_ratio_sort = df_OzESI_4_ratio.copy()\n",
    "\n",
    "df_OzESI_4_ratio_sort['Lipid'] = df_OzESI_4_ratio_sort['Lipid'].apply(CLAW_OzESI.sort_by_second_tg)\n",
    "df_OzESI_5_ratio_final = CLAW_OzESI.filter_highest_ratio(df_OzESI_4_ratio_sort)\n",
    "df_OzESI_5_ratio_final.to_csv('Projects/canola/results/df_OzESI_5_ratio_21sep24.csv', index=False)\n"
   ]
  },
  {
   "cell_type": "markdown",
   "metadata": {},
   "source": [
    "# Final Dataframe Organization"
   ]
  },
  {
   "cell_type": "code",
   "execution_count": 13,
   "metadata": {},
   "outputs": [],
   "source": [
    "# # Unique Sample_IDs to iterate over\n",
    "# sample_ids = df_OzESI_1_filtered['Sample_ID'].unique()\n",
    "\n",
    "# # Define the transitions\n",
    "# transitions = ['794.6 -> 605.596', '904.8 -> 605.596', '822.7 -> 605.596']\n",
    "\n",
    "# # Iterate over each Sample_ID and transition to calculate the max intensity\n",
    "# for sample_id in sample_ids:\n",
    "#     print(f\"\\nProcessing for Sample_ID: {sample_id}\")\n",
    "    \n",
    "#     for transition in transitions:\n",
    "#         # Filter based on Sample_ID, Transition, and Retention_Time\n",
    "#         df_filtered = df_OzESI_1_filtered[(df_OzESI_1_filtered['Sample_ID'] == sample_id) & \n",
    "#                                        (df_OzESI_1_filtered['Transition'] == transition) & \n",
    "#                                        (df_OzESI_1_filtered['Retention_Time'].between(19.5, 20.5))]\n",
    "        \n",
    "#         if not df_filtered.empty:\n",
    "#             # Calculate max intensity and get the corresponding row with max intensity\n",
    "#             max_row = df_filtered.loc[df_filtered['OzESI_Intensity'].idxmax()]\n",
    "#             max_intensity = max_row['OzESI_Intensity']\n",
    "#             retention_time = max_row['Retention_Time']\n",
    "            \n",
    "#             # Print the max intensity and its corresponding Retention Time\n",
    "#             print(f\"Max OzESI_Intensity for {transition} in Sample_ID {sample_id}: {max_intensity}\")\n",
    "#             print(f\"Retention Time for Max Intensity: {retention_time}\")\n",
    "#         else:\n",
    "#             print(f\"No data found for {transition} in Sample_ID {sample_id} within the retention time range.\")\n"
   ]
  },
  {
   "cell_type": "markdown",
   "metadata": {},
   "source": [
    "### Previewing Processed Lipidomics Data\n",
    "\n",
    "This cell provides a snapshot of the fully processed and enriched lipidomics data set. At this stage, the dataframe includes the integrated information of lipid identities, their specific double-bond locations, and other pertinent characteristics. This prepared data is now ready to be exported for subsequent exploratory and statistical analyses, including visualization and deeper statistical analysis."
   ]
  },
  {
   "cell_type": "code",
   "execution_count": 15,
   "metadata": {},
   "outputs": [
    {
     "data": {
      "text/html": [
       "<div>\n",
       "<style scoped>\n",
       "    .dataframe tbody tr th:only-of-type {\n",
       "        vertical-align: middle;\n",
       "    }\n",
       "\n",
       "    .dataframe tbody tr th {\n",
       "        vertical-align: top;\n",
       "    }\n",
       "\n",
       "    .dataframe thead th {\n",
       "        text-align: right;\n",
       "    }\n",
       "</style>\n",
       "<table border=\"1\" class=\"dataframe\">\n",
       "  <thead>\n",
       "    <tr style=\"text-align: right;\">\n",
       "      <th></th>\n",
       "      <th>Class</th>\n",
       "      <th>Lipid</th>\n",
       "      <th>OzESI_Intensity</th>\n",
       "      <th>Precursor_Ion</th>\n",
       "      <th>Product_Ion</th>\n",
       "      <th>Retention_Time</th>\n",
       "      <th>Sample_ID</th>\n",
       "      <th>Transition</th>\n",
       "      <th>is_special_case</th>\n",
       "      <th>n-7</th>\n",
       "      <th>n-9</th>\n",
       "      <th>n-12</th>\n",
       "      <th>db_pos</th>\n",
       "      <th>Ratio</th>\n",
       "    </tr>\n",
       "  </thead>\n",
       "  <tbody>\n",
       "    <tr>\n",
       "      <th>111</th>\n",
       "      <td>NaN</td>\n",
       "      <td>TG(52:2)]_FA18:1</td>\n",
       "      <td>16153.0</td>\n",
       "      <td>766.7</td>\n",
       "      <td>577.596</td>\n",
       "      <td>18.05</td>\n",
       "      <td>CrudeCanola_O3on_150gN3_02082023</td>\n",
       "      <td>766.7 -&gt; 577.596</td>\n",
       "      <td>0</td>\n",
       "      <td>684.7</td>\n",
       "      <td>656.7</td>\n",
       "      <td>614.7</td>\n",
       "      <td>n-9</td>\n",
       "      <td>4.23</td>\n",
       "    </tr>\n",
       "    <tr>\n",
       "      <th>27</th>\n",
       "      <td>TG</td>\n",
       "      <td>TG(52:2)]_FA18:1</td>\n",
       "      <td>102684.0</td>\n",
       "      <td>876.8</td>\n",
       "      <td>577.596</td>\n",
       "      <td>18.04</td>\n",
       "      <td>CrudeCanola_O3on_150gN3_02082023</td>\n",
       "      <td>876.8 -&gt; 577.596</td>\n",
       "      <td>0</td>\n",
       "      <td>794.8</td>\n",
       "      <td>766.8</td>\n",
       "      <td>724.8</td>\n",
       "      <td></td>\n",
       "      <td>NaN</td>\n",
       "    </tr>\n",
       "    <tr>\n",
       "      <th>171</th>\n",
       "      <td>NaN</td>\n",
       "      <td>TG(52:2)]_FA18:1</td>\n",
       "      <td>3815.0</td>\n",
       "      <td>794.7</td>\n",
       "      <td>577.596</td>\n",
       "      <td>18.05</td>\n",
       "      <td>CrudeCanola_O3on_150gN3_02082023</td>\n",
       "      <td>794.7 -&gt; 577.596</td>\n",
       "      <td>0</td>\n",
       "      <td>712.7</td>\n",
       "      <td>684.7</td>\n",
       "      <td>642.7</td>\n",
       "      <td>n-7</td>\n",
       "      <td>NaN</td>\n",
       "    </tr>\n",
       "    <tr>\n",
       "      <th>108</th>\n",
       "      <td>NaN</td>\n",
       "      <td>TG(52:3)]_FA18:1</td>\n",
       "      <td>3420.0</td>\n",
       "      <td>764.6</td>\n",
       "      <td>575.596</td>\n",
       "      <td>16.09</td>\n",
       "      <td>CrudeCanola_O3on_150gN3_02082023</td>\n",
       "      <td>764.6 -&gt; 575.596</td>\n",
       "      <td>0</td>\n",
       "      <td>682.6</td>\n",
       "      <td>654.6</td>\n",
       "      <td>612.6</td>\n",
       "      <td>n-9</td>\n",
       "      <td>3.16</td>\n",
       "    </tr>\n",
       "    <tr>\n",
       "      <th>26</th>\n",
       "      <td>TG</td>\n",
       "      <td>TG(52:3)]_FA18:1</td>\n",
       "      <td>22411.0</td>\n",
       "      <td>874.8</td>\n",
       "      <td>575.596</td>\n",
       "      <td>16.12</td>\n",
       "      <td>CrudeCanola_O3on_150gN3_02082023</td>\n",
       "      <td>874.8 -&gt; 575.596</td>\n",
       "      <td>0</td>\n",
       "      <td>792.8</td>\n",
       "      <td>764.8</td>\n",
       "      <td>722.8</td>\n",
       "      <td></td>\n",
       "      <td>NaN</td>\n",
       "    </tr>\n",
       "    <tr>\n",
       "      <th>...</th>\n",
       "      <td>...</td>\n",
       "      <td>...</td>\n",
       "      <td>...</td>\n",
       "      <td>...</td>\n",
       "      <td>...</td>\n",
       "      <td>...</td>\n",
       "      <td>...</td>\n",
       "      <td>...</td>\n",
       "      <td>...</td>\n",
       "      <td>...</td>\n",
       "      <td>...</td>\n",
       "      <td>...</td>\n",
       "      <td>...</td>\n",
       "      <td>...</td>\n",
       "    </tr>\n",
       "    <tr>\n",
       "      <th>98</th>\n",
       "      <td>TG</td>\n",
       "      <td>[TG(54:5)]_FA18:1</td>\n",
       "      <td>12850.0</td>\n",
       "      <td>898.8</td>\n",
       "      <td>599.596</td>\n",
       "      <td>14.34</td>\n",
       "      <td>RBDCanola_O3on_150gN3_02082023</td>\n",
       "      <td>898.8 -&gt; 599.596</td>\n",
       "      <td>0</td>\n",
       "      <td>816.8</td>\n",
       "      <td>788.8</td>\n",
       "      <td>746.8</td>\n",
       "      <td></td>\n",
       "      <td>NaN</td>\n",
       "    </tr>\n",
       "    <tr>\n",
       "      <th>369</th>\n",
       "      <td>NaN</td>\n",
       "      <td>[TG(54:5)]_FA18:1</td>\n",
       "      <td>891.0</td>\n",
       "      <td>816.7</td>\n",
       "      <td>599.596</td>\n",
       "      <td>14.28</td>\n",
       "      <td>RBDCanola_O3on_150gN3_02082023</td>\n",
       "      <td>816.7 -&gt; 599.596</td>\n",
       "      <td>0</td>\n",
       "      <td>734.7</td>\n",
       "      <td>706.7</td>\n",
       "      <td>664.7</td>\n",
       "      <td>n-7</td>\n",
       "      <td>NaN</td>\n",
       "    </tr>\n",
       "    <tr>\n",
       "      <th>314</th>\n",
       "      <td>NaN</td>\n",
       "      <td>[TG(54:6)]_FA18:1</td>\n",
       "      <td>587.0</td>\n",
       "      <td>786.6</td>\n",
       "      <td>597.596</td>\n",
       "      <td>19.48</td>\n",
       "      <td>RBDCanola_O3on_150gN3_02082023</td>\n",
       "      <td>786.6 -&gt; 597.596</td>\n",
       "      <td>0</td>\n",
       "      <td>704.6</td>\n",
       "      <td>676.6</td>\n",
       "      <td>634.6</td>\n",
       "      <td>n-9</td>\n",
       "      <td>1.06</td>\n",
       "    </tr>\n",
       "    <tr>\n",
       "      <th>97</th>\n",
       "      <td>TG</td>\n",
       "      <td>[TG(54:6)]_FA18:1</td>\n",
       "      <td>1138.0</td>\n",
       "      <td>896.8</td>\n",
       "      <td>597.596</td>\n",
       "      <td>12.43</td>\n",
       "      <td>RBDCanola_O3on_150gN3_02082023</td>\n",
       "      <td>896.8 -&gt; 597.596</td>\n",
       "      <td>0</td>\n",
       "      <td>814.8</td>\n",
       "      <td>786.8</td>\n",
       "      <td>744.8</td>\n",
       "      <td></td>\n",
       "      <td>NaN</td>\n",
       "    </tr>\n",
       "    <tr>\n",
       "      <th>366</th>\n",
       "      <td>NaN</td>\n",
       "      <td>[TG(54:6)]_FA18:1</td>\n",
       "      <td>554.0</td>\n",
       "      <td>814.7</td>\n",
       "      <td>597.596</td>\n",
       "      <td>22.90</td>\n",
       "      <td>RBDCanola_O3on_150gN3_02082023</td>\n",
       "      <td>814.7 -&gt; 597.596</td>\n",
       "      <td>0</td>\n",
       "      <td>732.7</td>\n",
       "      <td>704.7</td>\n",
       "      <td>662.7</td>\n",
       "      <td>n-7</td>\n",
       "      <td>NaN</td>\n",
       "    </tr>\n",
       "  </tbody>\n",
       "</table>\n",
       "<p>96 rows × 14 columns</p>\n",
       "</div>"
      ],
      "text/plain": [
       "    Class              Lipid  OzESI_Intensity  Precursor_Ion  Product_Ion  \\\n",
       "111   NaN   TG(52:2)]_FA18:1          16153.0          766.7      577.596   \n",
       "27     TG   TG(52:2)]_FA18:1         102684.0          876.8      577.596   \n",
       "171   NaN   TG(52:2)]_FA18:1           3815.0          794.7      577.596   \n",
       "108   NaN   TG(52:3)]_FA18:1           3420.0          764.6      575.596   \n",
       "26     TG   TG(52:3)]_FA18:1          22411.0          874.8      575.596   \n",
       "..    ...                ...              ...            ...          ...   \n",
       "98     TG  [TG(54:5)]_FA18:1          12850.0          898.8      599.596   \n",
       "369   NaN  [TG(54:5)]_FA18:1            891.0          816.7      599.596   \n",
       "314   NaN  [TG(54:6)]_FA18:1            587.0          786.6      597.596   \n",
       "97     TG  [TG(54:6)]_FA18:1           1138.0          896.8      597.596   \n",
       "366   NaN  [TG(54:6)]_FA18:1            554.0          814.7      597.596   \n",
       "\n",
       "     Retention_Time                         Sample_ID        Transition  \\\n",
       "111           18.05  CrudeCanola_O3on_150gN3_02082023  766.7 -> 577.596   \n",
       "27            18.04  CrudeCanola_O3on_150gN3_02082023  876.8 -> 577.596   \n",
       "171           18.05  CrudeCanola_O3on_150gN3_02082023  794.7 -> 577.596   \n",
       "108           16.09  CrudeCanola_O3on_150gN3_02082023  764.6 -> 575.596   \n",
       "26            16.12  CrudeCanola_O3on_150gN3_02082023  874.8 -> 575.596   \n",
       "..              ...                               ...               ...   \n",
       "98            14.34    RBDCanola_O3on_150gN3_02082023  898.8 -> 599.596   \n",
       "369           14.28    RBDCanola_O3on_150gN3_02082023  816.7 -> 599.596   \n",
       "314           19.48    RBDCanola_O3on_150gN3_02082023  786.6 -> 597.596   \n",
       "97            12.43    RBDCanola_O3on_150gN3_02082023  896.8 -> 597.596   \n",
       "366           22.90    RBDCanola_O3on_150gN3_02082023  814.7 -> 597.596   \n",
       "\n",
       "     is_special_case    n-7    n-9   n-12 db_pos  Ratio  \n",
       "111                0  684.7  656.7  614.7    n-9   4.23  \n",
       "27                 0  794.8  766.8  724.8           NaN  \n",
       "171                0  712.7  684.7  642.7    n-7    NaN  \n",
       "108                0  682.6  654.6  612.6    n-9   3.16  \n",
       "26                 0  792.8  764.8  722.8           NaN  \n",
       "..               ...    ...    ...    ...    ...    ...  \n",
       "98                 0  816.8  788.8  746.8           NaN  \n",
       "369                0  734.7  706.7  664.7    n-7    NaN  \n",
       "314                0  704.6  676.6  634.6    n-9   1.06  \n",
       "97                 0  814.8  786.8  744.8           NaN  \n",
       "366                0  732.7  704.7  662.7    n-7    NaN  \n",
       "\n",
       "[96 rows x 14 columns]"
      ]
     },
     "execution_count": 15,
     "metadata": {},
     "output_type": "execute_result"
    }
   ],
   "source": [
    "\n",
    "# Replace TAG with TG and DAG with DG in 'Class' and 'Lipid' columns\n",
    "df_OzESI_5_ratio_final['Class'] = df_OzESI_5_ratio_final['Class'].replace({'TAG': 'TG', 'DAG': 'DG'})\n",
    "df_OzESI_5_ratio_final['Lipid'] = df_OzESI_5_ratio_final['Lipid'].str.replace('TAG', 'TG').str.replace('DAG', 'DG')\n",
    "\n",
    "# Rename the 'Parent_Ion' column to 'Precursor_Ion'\n",
    "df_OzESI_5_ratio_final = df_OzESI_5_ratio_final.rename(columns={'Parent_Ion': 'Precursor_Ion'})\n",
    "\n",
    "# Round the 'Ratio' column to 2 decimal places\n",
    "df_OzESI_5_ratio_final['Ratio'] = df_OzESI_5_ratio_final['Ratio'].round(2)\n",
    "\n",
    "\n",
    "\n",
    "#df_OzESI df to csv and excel file\n",
    "df_OzESI_5_ratio_final.to_csv('Projects/canola/results/CLAW_CanolaOil_OzESI_dataframe.csv', index=False)\n",
    "df_OzESI_5_ratio_final.to_excel('Projects/canola/results/CLAW_CanolaOil_OzESI_dataframe.xlsx', index=False)\n",
    "df_OzESI_5_ratio_final.head(None)"
   ]
  },
  {
   "cell_type": "markdown",
   "metadata": {},
   "source": [
    "### Convert to 3 seperate df for each sample type (Crude, degummed, RBD)"
   ]
  },
  {
   "cell_type": "code",
   "execution_count": 16,
   "metadata": {},
   "outputs": [
    {
     "name": "stdout",
     "output_type": "stream",
     "text": [
      "DataFrame for Sample_ID: CrudeCanola_O3on_150gN3_02082023\n",
      "   Class              Lipid  OzESI_Intensity  Precursor_Ion  Product_Ion  \\\n",
      "0    NaN   TG(52:2)]_FA18:1          16153.0          766.7      577.596   \n",
      "1     TG   TG(52:2)]_FA18:1         102684.0          876.8      577.596   \n",
      "2    NaN   TG(52:2)]_FA18:1           3815.0          794.7      577.596   \n",
      "3    NaN   TG(52:3)]_FA18:1           3420.0          764.6      575.596   \n",
      "4     TG   TG(52:3)]_FA18:1          22411.0          874.8      575.596   \n",
      "5    NaN   TG(52:3)]_FA18:1           1083.0          792.7      575.596   \n",
      "6    NaN   TG(53:0)]_FA18:1            551.0          784.6      595.596   \n",
      "7     TG   TG(53:0)]_FA18:1           2458.0          894.8      595.596   \n",
      "8    NaN   TG(53:0)]_FA18:1            488.0          812.7      595.596   \n",
      "9    NaN   TG(54:2)]_FA18:1          11693.0          794.6      605.596   \n",
      "10    TG   TG(54:2)]_FA18:1          64091.0          904.8      605.596   \n",
      "11   NaN   TG(54:2)]_FA18:1           2716.0          822.7      605.596   \n",
      "12   NaN   TG(54:3)]_FA18:1          99860.0          792.6      603.596   \n",
      "13    TG   TG(54:3)]_FA18:1         529919.0          902.8      603.596   \n",
      "14   NaN   TG(54:3)]_FA18:1          17186.0          820.7      603.596   \n",
      "15   NaN   TG(54:4)]_FA18:1          27001.0          790.6      601.596   \n",
      "16    TG   TG(54:4)]_FA18:1         154459.0          900.8      601.596   \n",
      "17   NaN   TG(54:4)]_FA18:1           5501.0          818.7      601.596   \n",
      "18   NaN  [TG(52:4)]_FA18:1           1875.0          762.6      573.596   \n",
      "19    TG  [TG(52:4)]_FA18:1          12424.0          872.8      573.596   \n",
      "20   NaN  [TG(52:4)]_FA18:1            615.0          790.7      573.596   \n",
      "21   NaN  [TG(52:5)]_FA18:1            579.0          760.6      571.596   \n",
      "22    TG  [TG(52:5)]_FA18:1           1658.0          870.8      571.596   \n",
      "23   NaN  [TG(52:5)]_FA18:1            333.0          788.6      571.596   \n",
      "24    TG  [TG(52:6)]_FA18:1            456.0          868.7      569.596   \n",
      "25   NaN  [TG(52:6)]_FA18:1            430.0          786.6      569.596   \n",
      "26   NaN  [TG(54:5)]_FA18:1           5259.0          788.6      599.596   \n",
      "27    TG  [TG(54:5)]_FA18:1          23352.0          898.8      599.596   \n",
      "28   NaN  [TG(54:5)]_FA18:1           1287.0          816.7      599.596   \n",
      "29   NaN  [TG(54:6)]_FA18:1            948.0          786.6      597.596   \n",
      "30    TG  [TG(54:6)]_FA18:1           3022.0          896.8      597.596   \n",
      "31   NaN  [TG(54:6)]_FA18:1            546.0          814.7      597.596   \n",
      "\n",
      "    Retention_Time                         Sample_ID        Transition  \\\n",
      "0            18.05  CrudeCanola_O3on_150gN3_02082023  766.7 -> 577.596   \n",
      "1            18.04  CrudeCanola_O3on_150gN3_02082023  876.8 -> 577.596   \n",
      "2            18.05  CrudeCanola_O3on_150gN3_02082023  794.7 -> 577.596   \n",
      "3            16.09  CrudeCanola_O3on_150gN3_02082023  764.6 -> 575.596   \n",
      "4            16.12  CrudeCanola_O3on_150gN3_02082023  874.8 -> 575.596   \n",
      "5            16.04  CrudeCanola_O3on_150gN3_02082023  792.7 -> 575.596   \n",
      "6            21.57  CrudeCanola_O3on_150gN3_02082023  784.6 -> 595.596   \n",
      "7            17.55  CrudeCanola_O3on_150gN3_02082023  894.8 -> 595.596   \n",
      "8            20.87  CrudeCanola_O3on_150gN3_02082023  812.7 -> 595.596   \n",
      "9            20.00  CrudeCanola_O3on_150gN3_02082023  794.6 -> 605.596   \n",
      "10           20.01  CrudeCanola_O3on_150gN3_02082023  904.8 -> 605.596   \n",
      "11           19.98  CrudeCanola_O3on_150gN3_02082023  822.7 -> 605.596   \n",
      "12           17.98  CrudeCanola_O3on_150gN3_02082023  792.6 -> 603.596   \n",
      "13           17.99  CrudeCanola_O3on_150gN3_02082023  902.8 -> 603.596   \n",
      "14           17.98  CrudeCanola_O3on_150gN3_02082023  820.7 -> 603.596   \n",
      "15           16.07  CrudeCanola_O3on_150gN3_02082023  790.6 -> 601.596   \n",
      "16           16.10  CrudeCanola_O3on_150gN3_02082023  900.8 -> 601.596   \n",
      "17           16.09  CrudeCanola_O3on_150gN3_02082023  818.7 -> 601.596   \n",
      "18           14.30  CrudeCanola_O3on_150gN3_02082023  762.6 -> 573.596   \n",
      "19           14.32  CrudeCanola_O3on_150gN3_02082023  872.8 -> 573.596   \n",
      "20           14.31  CrudeCanola_O3on_150gN3_02082023  790.7 -> 573.596   \n",
      "21           12.41  CrudeCanola_O3on_150gN3_02082023  760.6 -> 571.596   \n",
      "22           12.43  CrudeCanola_O3on_150gN3_02082023  870.8 -> 571.596   \n",
      "23           12.41  CrudeCanola_O3on_150gN3_02082023  788.6 -> 571.596   \n",
      "24           21.61  CrudeCanola_O3on_150gN3_02082023  868.7 -> 569.596   \n",
      "25           21.20  CrudeCanola_O3on_150gN3_02082023  786.6 -> 569.596   \n",
      "26           14.31  CrudeCanola_O3on_150gN3_02082023  788.6 -> 599.596   \n",
      "27           14.30  CrudeCanola_O3on_150gN3_02082023  898.8 -> 599.596   \n",
      "28           14.31  CrudeCanola_O3on_150gN3_02082023  816.7 -> 599.596   \n",
      "29           12.44  CrudeCanola_O3on_150gN3_02082023  786.6 -> 597.596   \n",
      "30           12.44  CrudeCanola_O3on_150gN3_02082023  896.8 -> 597.596   \n",
      "31           17.49  CrudeCanola_O3on_150gN3_02082023  814.7 -> 597.596   \n",
      "\n",
      "    is_special_case    n-7    n-9   n-12 db_pos  Ratio  \n",
      "0                 0  684.7  656.7  614.7    n-9   4.23  \n",
      "1                 0  794.8  766.8  724.8           NaN  \n",
      "2                 0  712.7  684.7  642.7    n-7    NaN  \n",
      "3                 0  682.6  654.6  612.6    n-9   3.16  \n",
      "4                 0  792.8  764.8  722.8           NaN  \n",
      "5                 0  710.7  682.7  640.7    n-7    NaN  \n",
      "6                 0  702.6  674.6  632.6    n-9   1.13  \n",
      "7                 0  812.8  784.8  742.8           NaN  \n",
      "8                 0  730.7  702.7  660.7    n-7    NaN  \n",
      "9                 0  712.6  684.6  642.6    n-9   4.31  \n",
      "10                0  822.8  794.8  752.8           NaN  \n",
      "11                0  740.7  712.7  670.7    n-7    NaN  \n",
      "12                0  710.6  682.6  640.6    n-9   5.81  \n",
      "13                0  820.8  792.8  750.8           NaN  \n",
      "14                0  738.7  710.7  668.7    n-7    NaN  \n",
      "15                0  708.6  680.6  638.6    n-9   4.91  \n",
      "16                0  818.8  790.8  748.8           NaN  \n",
      "17                0  736.7  708.7  666.7    n-7    NaN  \n",
      "18                0  680.6  652.6  610.6    n-9   3.05  \n",
      "19                0  790.8  762.8  720.8           NaN  \n",
      "20                0  708.7  680.7  638.7    n-7    NaN  \n",
      "21                0  678.6  650.6  608.6    n-9   1.74  \n",
      "22                0  788.8  760.8  718.8           NaN  \n",
      "23                0  706.6  678.6  636.6    n-7    NaN  \n",
      "24                0  786.7  758.7  716.7           NaN  \n",
      "25                0  704.6  676.6  634.6    n-7    NaN  \n",
      "26                0  706.6  678.6  636.6    n-9   4.09  \n",
      "27                0  816.8  788.8  746.8           NaN  \n",
      "28                0  734.7  706.7  664.7    n-7    NaN  \n",
      "29                0  704.6  676.6  634.6    n-9   1.74  \n",
      "30                0  814.8  786.8  744.8           NaN  \n",
      "31                0  732.7  704.7  662.7    n-7    NaN  \n",
      "\n",
      "DataFrame for Sample_ID: DegummedCanola_O3on_150gN3_02082023\n",
      "   Class              Lipid  OzESI_Intensity  Precursor_Ion  Product_Ion  \\\n",
      "0    NaN   TG(52:2)]_FA18:1           9987.0          766.7      577.596   \n",
      "1     TG   TG(52:2)]_FA18:1          48811.0          876.8      577.596   \n",
      "2    NaN   TG(52:2)]_FA18:1           2316.0          794.7      577.596   \n",
      "3    NaN   TG(52:3)]_FA18:1           2387.0          764.6      575.596   \n",
      "4     TG   TG(52:3)]_FA18:1           9940.0          874.8      575.596   \n",
      "5    NaN   TG(52:3)]_FA18:1            955.0          792.7      575.596   \n",
      "6    NaN   TG(53:0)]_FA18:1            691.0          784.6      595.596   \n",
      "7     TG   TG(53:0)]_FA18:1           2523.0          894.8      595.596   \n",
      "8    NaN   TG(53:0)]_FA18:1            641.0          812.7      595.596   \n",
      "9    NaN   TG(54:2)]_FA18:1           5166.0          794.6      605.596   \n",
      "10    TG   TG(54:2)]_FA18:1          22456.0          904.8      605.596   \n",
      "11   NaN   TG(54:2)]_FA18:1           1345.0          822.7      605.596   \n",
      "12   NaN   TG(54:3)]_FA18:1          61998.0          792.6      603.596   \n",
      "13    TG   TG(54:3)]_FA18:1         254776.0          902.8      603.596   \n",
      "14   NaN   TG(54:3)]_FA18:1          10785.0          820.7      603.596   \n",
      "15   NaN   TG(54:4)]_FA18:1          14145.0          790.6      601.596   \n",
      "16    TG   TG(54:4)]_FA18:1          65799.0          900.8      601.596   \n",
      "17   NaN   TG(54:4)]_FA18:1           3479.0          818.7      601.596   \n",
      "18   NaN  [TG(52:4)]_FA18:1           1897.0          762.6      573.596   \n",
      "19    TG  [TG(52:4)]_FA18:1           8600.0          872.8      573.596   \n",
      "20   NaN  [TG(52:4)]_FA18:1            640.0          790.7      573.596   \n",
      "21   NaN  [TG(52:5)]_FA18:1            541.0          760.6      571.596   \n",
      "22    TG  [TG(52:5)]_FA18:1            512.0          870.8      571.596   \n",
      "23   NaN  [TG(52:5)]_FA18:1            397.0          788.6      571.596   \n",
      "24    TG  [TG(52:6)]_FA18:1            462.0          868.7      569.596   \n",
      "25   NaN  [TG(52:6)]_FA18:1            445.0          786.6      569.596   \n",
      "26   NaN  [TG(54:5)]_FA18:1           4061.0          788.6      599.596   \n",
      "27    TG  [TG(54:5)]_FA18:1          13152.0          898.8      599.596   \n",
      "28   NaN  [TG(54:5)]_FA18:1           1061.0          816.7      599.596   \n",
      "29   NaN  [TG(54:6)]_FA18:1            671.0          786.6      597.596   \n",
      "30    TG  [TG(54:6)]_FA18:1            884.0          896.8      597.596   \n",
      "31   NaN  [TG(54:6)]_FA18:1            554.0          814.7      597.596   \n",
      "\n",
      "    Retention_Time                            Sample_ID        Transition  \\\n",
      "0            17.94  DegummedCanola_O3on_150gN3_02082023  766.7 -> 577.596   \n",
      "1            17.94  DegummedCanola_O3on_150gN3_02082023  876.8 -> 577.596   \n",
      "2            17.93  DegummedCanola_O3on_150gN3_02082023  794.7 -> 577.596   \n",
      "3            16.01  DegummedCanola_O3on_150gN3_02082023  764.6 -> 575.596   \n",
      "4            16.00  DegummedCanola_O3on_150gN3_02082023  874.8 -> 575.596   \n",
      "5            15.98  DegummedCanola_O3on_150gN3_02082023  792.7 -> 575.596   \n",
      "6            22.09  DegummedCanola_O3on_150gN3_02082023  784.6 -> 595.596   \n",
      "7            17.39  DegummedCanola_O3on_150gN3_02082023  894.8 -> 595.596   \n",
      "8            20.02  DegummedCanola_O3on_150gN3_02082023  812.7 -> 595.596   \n",
      "9            19.92  DegummedCanola_O3on_150gN3_02082023  794.6 -> 605.596   \n",
      "10           19.93  DegummedCanola_O3on_150gN3_02082023  904.8 -> 605.596   \n",
      "11           19.95  DegummedCanola_O3on_150gN3_02082023  822.7 -> 605.596   \n",
      "12           17.88  DegummedCanola_O3on_150gN3_02082023  792.6 -> 603.596   \n",
      "13           17.89  DegummedCanola_O3on_150gN3_02082023  902.8 -> 603.596   \n",
      "14           17.90  DegummedCanola_O3on_150gN3_02082023  820.7 -> 603.596   \n",
      "15           15.98  DegummedCanola_O3on_150gN3_02082023  790.6 -> 601.596   \n",
      "16           15.97  DegummedCanola_O3on_150gN3_02082023  900.8 -> 601.596   \n",
      "17           15.96  DegummedCanola_O3on_150gN3_02082023  818.7 -> 601.596   \n",
      "18           14.19  DegummedCanola_O3on_150gN3_02082023  762.6 -> 573.596   \n",
      "19           14.19  DegummedCanola_O3on_150gN3_02082023  872.8 -> 573.596   \n",
      "20           14.20  DegummedCanola_O3on_150gN3_02082023  790.7 -> 573.596   \n",
      "21           12.38  DegummedCanola_O3on_150gN3_02082023  760.6 -> 571.596   \n",
      "22           12.30  DegummedCanola_O3on_150gN3_02082023  870.8 -> 571.596   \n",
      "23           17.35  DegummedCanola_O3on_150gN3_02082023  788.6 -> 571.596   \n",
      "24           14.65  DegummedCanola_O3on_150gN3_02082023  868.7 -> 569.596   \n",
      "25           18.33  DegummedCanola_O3on_150gN3_02082023  786.6 -> 569.596   \n",
      "26           14.20  DegummedCanola_O3on_150gN3_02082023  788.6 -> 599.596   \n",
      "27           14.19  DegummedCanola_O3on_150gN3_02082023  898.8 -> 599.596   \n",
      "28           14.21  DegummedCanola_O3on_150gN3_02082023  816.7 -> 599.596   \n",
      "29           15.28  DegummedCanola_O3on_150gN3_02082023  786.6 -> 597.596   \n",
      "30           12.31  DegummedCanola_O3on_150gN3_02082023  896.8 -> 597.596   \n",
      "31           16.43  DegummedCanola_O3on_150gN3_02082023  814.7 -> 597.596   \n",
      "\n",
      "    is_special_case    n-7    n-9   n-12 db_pos  Ratio  \n",
      "0                 0  684.7  656.7  614.7    n-9   4.31  \n",
      "1                 0  794.8  766.8  724.8           NaN  \n",
      "2                 0  712.7  684.7  642.7    n-7    NaN  \n",
      "3                 0  682.6  654.6  612.6    n-9   2.50  \n",
      "4                 0  792.8  764.8  722.8           NaN  \n",
      "5                 0  710.7  682.7  640.7    n-7    NaN  \n",
      "6                 0  702.6  674.6  632.6    n-9   1.08  \n",
      "7                 0  812.8  784.8  742.8           NaN  \n",
      "8                 0  730.7  702.7  660.7    n-7    NaN  \n",
      "9                 1  712.6  684.6  642.6    n-9   3.84  \n",
      "10                0  822.8  794.8  752.8           NaN  \n",
      "11                0  740.7  712.7  670.7    n-7    NaN  \n",
      "12                0  710.6  682.6  640.6    n-9   5.75  \n",
      "13                0  820.8  792.8  750.8           NaN  \n",
      "14                0  738.7  710.7  668.7    n-7    NaN  \n",
      "15                0  708.6  680.6  638.6    n-9   4.07  \n",
      "16                0  818.8  790.8  748.8           NaN  \n",
      "17                0  736.7  708.7  666.7    n-7    NaN  \n",
      "18                0  680.6  652.6  610.6    n-9   2.96  \n",
      "19                0  790.8  762.8  720.8           NaN  \n",
      "20                0  708.7  680.7  638.7    n-7    NaN  \n",
      "21                0  678.6  650.6  608.6    n-9   1.36  \n",
      "22                0  788.8  760.8  718.8           NaN  \n",
      "23                0  706.6  678.6  636.6    n-7    NaN  \n",
      "24                0  786.7  758.7  716.7           NaN  \n",
      "25                0  704.6  676.6  634.6    n-7    NaN  \n",
      "26                0  706.6  678.6  636.6    n-9   3.83  \n",
      "27                0  816.8  788.8  746.8           NaN  \n",
      "28                0  734.7  706.7  664.7    n-7    NaN  \n",
      "29                0  704.6  676.6  634.6    n-9   1.21  \n",
      "30                0  814.8  786.8  744.8           NaN  \n",
      "31                0  732.7  704.7  662.7    n-7    NaN  \n",
      "\n",
      "DataFrame for Sample_ID: RBDCanola_O3on_150gN3_02082023\n",
      "   Class              Lipid  OzESI_Intensity  Precursor_Ion  Product_Ion  \\\n",
      "0    NaN   TG(52:2)]_FA18:1          12642.0          766.7      577.596   \n",
      "1     TG   TG(52:2)]_FA18:1          58976.0          876.8      577.596   \n",
      "2    NaN   TG(52:2)]_FA18:1           2689.0          794.7      577.596   \n",
      "3    NaN   TG(52:3)]_FA18:1           3097.0          764.6      575.596   \n",
      "4     TG   TG(52:3)]_FA18:1          13319.0          874.8      575.596   \n",
      "5    NaN   TG(52:3)]_FA18:1           1009.0          792.7      575.596   \n",
      "6    NaN   TG(53:0)]_FA18:1            586.0          784.6      595.596   \n",
      "7     TG   TG(53:0)]_FA18:1           2299.0          894.8      595.596   \n",
      "8    NaN   TG(53:0)]_FA18:1            444.0          812.7      595.596   \n",
      "9    NaN   TG(54:2)]_FA18:1           7721.0          794.6      605.596   \n",
      "10    TG   TG(54:2)]_FA18:1          37838.0          904.8      605.596   \n",
      "11   NaN   TG(54:2)]_FA18:1           1725.0          822.7      605.596   \n",
      "12   NaN   TG(54:3)]_FA18:1          63686.0          792.6      603.596   \n",
      "13    TG   TG(54:3)]_FA18:1         297883.0          902.8      603.596   \n",
      "14   NaN   TG(54:3)]_FA18:1          11771.0          820.7      603.596   \n",
      "15   NaN   TG(54:4)]_FA18:1          17709.0          790.6      601.596   \n",
      "16    TG   TG(54:4)]_FA18:1          87513.0          900.8      601.596   \n",
      "17   NaN   TG(54:4)]_FA18:1           3560.0          818.7      601.596   \n",
      "18   NaN  [TG(52:4)]_FA18:1           1317.0          762.6      573.596   \n",
      "19    TG  [TG(52:4)]_FA18:1           6939.0          872.8      573.596   \n",
      "20   NaN  [TG(52:4)]_FA18:1            492.0          790.7      573.596   \n",
      "21   NaN  [TG(52:5)]_FA18:1            526.0          760.6      571.596   \n",
      "22    TG  [TG(52:5)]_FA18:1            605.0          870.8      571.596   \n",
      "23   NaN  [TG(52:5)]_FA18:1            348.0          788.6      571.596   \n",
      "24    TG  [TG(52:6)]_FA18:1            462.0          868.7      569.596   \n",
      "25   NaN  [TG(52:6)]_FA18:1            426.0          786.6      569.596   \n",
      "26   NaN  [TG(54:5)]_FA18:1           3415.0          788.6      599.596   \n",
      "27    TG  [TG(54:5)]_FA18:1          12850.0          898.8      599.596   \n",
      "28   NaN  [TG(54:5)]_FA18:1            891.0          816.7      599.596   \n",
      "29   NaN  [TG(54:6)]_FA18:1            587.0          786.6      597.596   \n",
      "30    TG  [TG(54:6)]_FA18:1           1138.0          896.8      597.596   \n",
      "31   NaN  [TG(54:6)]_FA18:1            554.0          814.7      597.596   \n",
      "\n",
      "    Retention_Time                       Sample_ID        Transition  \\\n",
      "0            18.07  RBDCanola_O3on_150gN3_02082023  766.7 -> 577.596   \n",
      "1            18.09  RBDCanola_O3on_150gN3_02082023  876.8 -> 577.596   \n",
      "2            18.06  RBDCanola_O3on_150gN3_02082023  794.7 -> 577.596   \n",
      "3            16.16  RBDCanola_O3on_150gN3_02082023  764.6 -> 575.596   \n",
      "4            16.15  RBDCanola_O3on_150gN3_02082023  874.8 -> 575.596   \n",
      "5            16.07  RBDCanola_O3on_150gN3_02082023  792.7 -> 575.596   \n",
      "6            21.92  RBDCanola_O3on_150gN3_02082023  784.6 -> 595.596   \n",
      "7            17.39  RBDCanola_O3on_150gN3_02082023  894.8 -> 595.596   \n",
      "8            20.93  RBDCanola_O3on_150gN3_02082023  812.7 -> 595.596   \n",
      "9            20.04  RBDCanola_O3on_150gN3_02082023  794.6 -> 605.596   \n",
      "10           20.04  RBDCanola_O3on_150gN3_02082023  904.8 -> 605.596   \n",
      "11           19.98  RBDCanola_O3on_150gN3_02082023  822.7 -> 605.596   \n",
      "12           18.01  RBDCanola_O3on_150gN3_02082023  792.6 -> 603.596   \n",
      "13           18.02  RBDCanola_O3on_150gN3_02082023  902.8 -> 603.596   \n",
      "14           18.01  RBDCanola_O3on_150gN3_02082023  820.7 -> 603.596   \n",
      "15           16.12  RBDCanola_O3on_150gN3_02082023  790.6 -> 601.596   \n",
      "16           16.11  RBDCanola_O3on_150gN3_02082023  900.8 -> 601.596   \n",
      "17           16.10  RBDCanola_O3on_150gN3_02082023  818.7 -> 601.596   \n",
      "18           14.33  RBDCanola_O3on_150gN3_02082023  762.6 -> 573.596   \n",
      "19           14.34  RBDCanola_O3on_150gN3_02082023  872.8 -> 573.596   \n",
      "20           14.31  RBDCanola_O3on_150gN3_02082023  790.7 -> 573.596   \n",
      "21           22.02  RBDCanola_O3on_150gN3_02082023  760.6 -> 571.596   \n",
      "22           12.43  RBDCanola_O3on_150gN3_02082023  870.8 -> 571.596   \n",
      "23           21.85  RBDCanola_O3on_150gN3_02082023  788.6 -> 571.596   \n",
      "24           22.93  RBDCanola_O3on_150gN3_02082023  868.7 -> 569.596   \n",
      "25           21.69  RBDCanola_O3on_150gN3_02082023  786.6 -> 569.596   \n",
      "26           14.33  RBDCanola_O3on_150gN3_02082023  788.6 -> 599.596   \n",
      "27           14.34  RBDCanola_O3on_150gN3_02082023  898.8 -> 599.596   \n",
      "28           14.28  RBDCanola_O3on_150gN3_02082023  816.7 -> 599.596   \n",
      "29           19.48  RBDCanola_O3on_150gN3_02082023  786.6 -> 597.596   \n",
      "30           12.43  RBDCanola_O3on_150gN3_02082023  896.8 -> 597.596   \n",
      "31           22.90  RBDCanola_O3on_150gN3_02082023  814.7 -> 597.596   \n",
      "\n",
      "    is_special_case    n-7    n-9   n-12 db_pos  Ratio  \n",
      "0                 0  684.7  656.7  614.7    n-9   4.70  \n",
      "1                 0  794.8  766.8  724.8           NaN  \n",
      "2                 0  712.7  684.7  642.7    n-7    NaN  \n",
      "3                 0  682.6  654.6  612.6    n-9   3.07  \n",
      "4                 0  792.8  764.8  722.8           NaN  \n",
      "5                 0  710.7  682.7  640.7    n-7    NaN  \n",
      "6                 0  702.6  674.6  632.6    n-9   1.32  \n",
      "7                 0  812.8  784.8  742.8           NaN  \n",
      "8                 0  730.7  702.7  660.7    n-7    NaN  \n",
      "9                 0  712.6  684.6  642.6    n-9   4.48  \n",
      "10                0  822.8  794.8  752.8           NaN  \n",
      "11                0  740.7  712.7  670.7    n-7    NaN  \n",
      "12                0  710.6  682.6  640.6    n-9   5.41  \n",
      "13                0  820.8  792.8  750.8           NaN  \n",
      "14                0  738.7  710.7  668.7    n-7    NaN  \n",
      "15                0  708.6  680.6  638.6    n-9   4.97  \n",
      "16                0  818.8  790.8  748.8           NaN  \n",
      "17                0  736.7  708.7  666.7    n-7    NaN  \n",
      "18                0  680.6  652.6  610.6    n-9   2.68  \n",
      "19                0  790.8  762.8  720.8           NaN  \n",
      "20                0  708.7  680.7  638.7    n-7    NaN  \n",
      "21                0  678.6  650.6  608.6    n-9   1.51  \n",
      "22                0  788.8  760.8  718.8           NaN  \n",
      "23                0  706.6  678.6  636.6    n-7    NaN  \n",
      "24                0  786.7  758.7  716.7           NaN  \n",
      "25                0  704.6  676.6  634.6    n-7    NaN  \n",
      "26                0  706.6  678.6  636.6    n-9   3.83  \n",
      "27                0  816.8  788.8  746.8           NaN  \n",
      "28                0  734.7  706.7  664.7    n-7    NaN  \n",
      "29                0  704.6  676.6  634.6    n-9   1.06  \n",
      "30                0  814.8  786.8  744.8           NaN  \n",
      "31                0  732.7  704.7  662.7    n-7    NaN  \n"
     ]
    },
    {
     "data": {
      "text/html": [
       "<div>\n",
       "<style scoped>\n",
       "    .dataframe tbody tr th:only-of-type {\n",
       "        vertical-align: middle;\n",
       "    }\n",
       "\n",
       "    .dataframe tbody tr th {\n",
       "        vertical-align: top;\n",
       "    }\n",
       "\n",
       "    .dataframe thead th {\n",
       "        text-align: right;\n",
       "    }\n",
       "</style>\n",
       "<table border=\"1\" class=\"dataframe\">\n",
       "  <thead>\n",
       "    <tr style=\"text-align: right;\">\n",
       "      <th></th>\n",
       "      <th>Class</th>\n",
       "      <th>Lipid</th>\n",
       "      <th>OzESI_Intensity</th>\n",
       "      <th>Precursor_Ion</th>\n",
       "      <th>Product_Ion</th>\n",
       "      <th>Retention_Time</th>\n",
       "      <th>Sample_ID</th>\n",
       "      <th>Transition</th>\n",
       "      <th>is_special_case</th>\n",
       "      <th>n-7</th>\n",
       "      <th>n-9</th>\n",
       "      <th>n-12</th>\n",
       "      <th>db_pos</th>\n",
       "      <th>Ratio</th>\n",
       "    </tr>\n",
       "  </thead>\n",
       "  <tbody>\n",
       "    <tr>\n",
       "      <th>0</th>\n",
       "      <td>NaN</td>\n",
       "      <td>TG(52:2)]_FA18:1</td>\n",
       "      <td>12642.0</td>\n",
       "      <td>766.7</td>\n",
       "      <td>577.596</td>\n",
       "      <td>18.07</td>\n",
       "      <td>RBDCanola_O3on_150gN3_02082023</td>\n",
       "      <td>766.7 -&gt; 577.596</td>\n",
       "      <td>0</td>\n",
       "      <td>684.7</td>\n",
       "      <td>656.7</td>\n",
       "      <td>614.7</td>\n",
       "      <td>n-9</td>\n",
       "      <td>4.70</td>\n",
       "    </tr>\n",
       "    <tr>\n",
       "      <th>1</th>\n",
       "      <td>TG</td>\n",
       "      <td>TG(52:2)]_FA18:1</td>\n",
       "      <td>58976.0</td>\n",
       "      <td>876.8</td>\n",
       "      <td>577.596</td>\n",
       "      <td>18.09</td>\n",
       "      <td>RBDCanola_O3on_150gN3_02082023</td>\n",
       "      <td>876.8 -&gt; 577.596</td>\n",
       "      <td>0</td>\n",
       "      <td>794.8</td>\n",
       "      <td>766.8</td>\n",
       "      <td>724.8</td>\n",
       "      <td></td>\n",
       "      <td>NaN</td>\n",
       "    </tr>\n",
       "    <tr>\n",
       "      <th>2</th>\n",
       "      <td>NaN</td>\n",
       "      <td>TG(52:2)]_FA18:1</td>\n",
       "      <td>2689.0</td>\n",
       "      <td>794.7</td>\n",
       "      <td>577.596</td>\n",
       "      <td>18.06</td>\n",
       "      <td>RBDCanola_O3on_150gN3_02082023</td>\n",
       "      <td>794.7 -&gt; 577.596</td>\n",
       "      <td>0</td>\n",
       "      <td>712.7</td>\n",
       "      <td>684.7</td>\n",
       "      <td>642.7</td>\n",
       "      <td>n-7</td>\n",
       "      <td>NaN</td>\n",
       "    </tr>\n",
       "    <tr>\n",
       "      <th>3</th>\n",
       "      <td>NaN</td>\n",
       "      <td>TG(52:3)]_FA18:1</td>\n",
       "      <td>3097.0</td>\n",
       "      <td>764.6</td>\n",
       "      <td>575.596</td>\n",
       "      <td>16.16</td>\n",
       "      <td>RBDCanola_O3on_150gN3_02082023</td>\n",
       "      <td>764.6 -&gt; 575.596</td>\n",
       "      <td>0</td>\n",
       "      <td>682.6</td>\n",
       "      <td>654.6</td>\n",
       "      <td>612.6</td>\n",
       "      <td>n-9</td>\n",
       "      <td>3.07</td>\n",
       "    </tr>\n",
       "    <tr>\n",
       "      <th>4</th>\n",
       "      <td>TG</td>\n",
       "      <td>TG(52:3)]_FA18:1</td>\n",
       "      <td>13319.0</td>\n",
       "      <td>874.8</td>\n",
       "      <td>575.596</td>\n",
       "      <td>16.15</td>\n",
       "      <td>RBDCanola_O3on_150gN3_02082023</td>\n",
       "      <td>874.8 -&gt; 575.596</td>\n",
       "      <td>0</td>\n",
       "      <td>792.8</td>\n",
       "      <td>764.8</td>\n",
       "      <td>722.8</td>\n",
       "      <td></td>\n",
       "      <td>NaN</td>\n",
       "    </tr>\n",
       "    <tr>\n",
       "      <th>5</th>\n",
       "      <td>NaN</td>\n",
       "      <td>TG(52:3)]_FA18:1</td>\n",
       "      <td>1009.0</td>\n",
       "      <td>792.7</td>\n",
       "      <td>575.596</td>\n",
       "      <td>16.07</td>\n",
       "      <td>RBDCanola_O3on_150gN3_02082023</td>\n",
       "      <td>792.7 -&gt; 575.596</td>\n",
       "      <td>0</td>\n",
       "      <td>710.7</td>\n",
       "      <td>682.7</td>\n",
       "      <td>640.7</td>\n",
       "      <td>n-7</td>\n",
       "      <td>NaN</td>\n",
       "    </tr>\n",
       "    <tr>\n",
       "      <th>6</th>\n",
       "      <td>NaN</td>\n",
       "      <td>TG(53:0)]_FA18:1</td>\n",
       "      <td>586.0</td>\n",
       "      <td>784.6</td>\n",
       "      <td>595.596</td>\n",
       "      <td>21.92</td>\n",
       "      <td>RBDCanola_O3on_150gN3_02082023</td>\n",
       "      <td>784.6 -&gt; 595.596</td>\n",
       "      <td>0</td>\n",
       "      <td>702.6</td>\n",
       "      <td>674.6</td>\n",
       "      <td>632.6</td>\n",
       "      <td>n-9</td>\n",
       "      <td>1.32</td>\n",
       "    </tr>\n",
       "    <tr>\n",
       "      <th>7</th>\n",
       "      <td>TG</td>\n",
       "      <td>TG(53:0)]_FA18:1</td>\n",
       "      <td>2299.0</td>\n",
       "      <td>894.8</td>\n",
       "      <td>595.596</td>\n",
       "      <td>17.39</td>\n",
       "      <td>RBDCanola_O3on_150gN3_02082023</td>\n",
       "      <td>894.8 -&gt; 595.596</td>\n",
       "      <td>0</td>\n",
       "      <td>812.8</td>\n",
       "      <td>784.8</td>\n",
       "      <td>742.8</td>\n",
       "      <td></td>\n",
       "      <td>NaN</td>\n",
       "    </tr>\n",
       "    <tr>\n",
       "      <th>8</th>\n",
       "      <td>NaN</td>\n",
       "      <td>TG(53:0)]_FA18:1</td>\n",
       "      <td>444.0</td>\n",
       "      <td>812.7</td>\n",
       "      <td>595.596</td>\n",
       "      <td>20.93</td>\n",
       "      <td>RBDCanola_O3on_150gN3_02082023</td>\n",
       "      <td>812.7 -&gt; 595.596</td>\n",
       "      <td>0</td>\n",
       "      <td>730.7</td>\n",
       "      <td>702.7</td>\n",
       "      <td>660.7</td>\n",
       "      <td>n-7</td>\n",
       "      <td>NaN</td>\n",
       "    </tr>\n",
       "    <tr>\n",
       "      <th>9</th>\n",
       "      <td>NaN</td>\n",
       "      <td>TG(54:2)]_FA18:1</td>\n",
       "      <td>7721.0</td>\n",
       "      <td>794.6</td>\n",
       "      <td>605.596</td>\n",
       "      <td>20.04</td>\n",
       "      <td>RBDCanola_O3on_150gN3_02082023</td>\n",
       "      <td>794.6 -&gt; 605.596</td>\n",
       "      <td>0</td>\n",
       "      <td>712.6</td>\n",
       "      <td>684.6</td>\n",
       "      <td>642.6</td>\n",
       "      <td>n-9</td>\n",
       "      <td>4.48</td>\n",
       "    </tr>\n",
       "    <tr>\n",
       "      <th>10</th>\n",
       "      <td>TG</td>\n",
       "      <td>TG(54:2)]_FA18:1</td>\n",
       "      <td>37838.0</td>\n",
       "      <td>904.8</td>\n",
       "      <td>605.596</td>\n",
       "      <td>20.04</td>\n",
       "      <td>RBDCanola_O3on_150gN3_02082023</td>\n",
       "      <td>904.8 -&gt; 605.596</td>\n",
       "      <td>0</td>\n",
       "      <td>822.8</td>\n",
       "      <td>794.8</td>\n",
       "      <td>752.8</td>\n",
       "      <td></td>\n",
       "      <td>NaN</td>\n",
       "    </tr>\n",
       "    <tr>\n",
       "      <th>11</th>\n",
       "      <td>NaN</td>\n",
       "      <td>TG(54:2)]_FA18:1</td>\n",
       "      <td>1725.0</td>\n",
       "      <td>822.7</td>\n",
       "      <td>605.596</td>\n",
       "      <td>19.98</td>\n",
       "      <td>RBDCanola_O3on_150gN3_02082023</td>\n",
       "      <td>822.7 -&gt; 605.596</td>\n",
       "      <td>0</td>\n",
       "      <td>740.7</td>\n",
       "      <td>712.7</td>\n",
       "      <td>670.7</td>\n",
       "      <td>n-7</td>\n",
       "      <td>NaN</td>\n",
       "    </tr>\n",
       "    <tr>\n",
       "      <th>12</th>\n",
       "      <td>NaN</td>\n",
       "      <td>TG(54:3)]_FA18:1</td>\n",
       "      <td>63686.0</td>\n",
       "      <td>792.6</td>\n",
       "      <td>603.596</td>\n",
       "      <td>18.01</td>\n",
       "      <td>RBDCanola_O3on_150gN3_02082023</td>\n",
       "      <td>792.6 -&gt; 603.596</td>\n",
       "      <td>0</td>\n",
       "      <td>710.6</td>\n",
       "      <td>682.6</td>\n",
       "      <td>640.6</td>\n",
       "      <td>n-9</td>\n",
       "      <td>5.41</td>\n",
       "    </tr>\n",
       "    <tr>\n",
       "      <th>13</th>\n",
       "      <td>TG</td>\n",
       "      <td>TG(54:3)]_FA18:1</td>\n",
       "      <td>297883.0</td>\n",
       "      <td>902.8</td>\n",
       "      <td>603.596</td>\n",
       "      <td>18.02</td>\n",
       "      <td>RBDCanola_O3on_150gN3_02082023</td>\n",
       "      <td>902.8 -&gt; 603.596</td>\n",
       "      <td>0</td>\n",
       "      <td>820.8</td>\n",
       "      <td>792.8</td>\n",
       "      <td>750.8</td>\n",
       "      <td></td>\n",
       "      <td>NaN</td>\n",
       "    </tr>\n",
       "    <tr>\n",
       "      <th>14</th>\n",
       "      <td>NaN</td>\n",
       "      <td>TG(54:3)]_FA18:1</td>\n",
       "      <td>11771.0</td>\n",
       "      <td>820.7</td>\n",
       "      <td>603.596</td>\n",
       "      <td>18.01</td>\n",
       "      <td>RBDCanola_O3on_150gN3_02082023</td>\n",
       "      <td>820.7 -&gt; 603.596</td>\n",
       "      <td>0</td>\n",
       "      <td>738.7</td>\n",
       "      <td>710.7</td>\n",
       "      <td>668.7</td>\n",
       "      <td>n-7</td>\n",
       "      <td>NaN</td>\n",
       "    </tr>\n",
       "    <tr>\n",
       "      <th>15</th>\n",
       "      <td>NaN</td>\n",
       "      <td>TG(54:4)]_FA18:1</td>\n",
       "      <td>17709.0</td>\n",
       "      <td>790.6</td>\n",
       "      <td>601.596</td>\n",
       "      <td>16.12</td>\n",
       "      <td>RBDCanola_O3on_150gN3_02082023</td>\n",
       "      <td>790.6 -&gt; 601.596</td>\n",
       "      <td>0</td>\n",
       "      <td>708.6</td>\n",
       "      <td>680.6</td>\n",
       "      <td>638.6</td>\n",
       "      <td>n-9</td>\n",
       "      <td>4.97</td>\n",
       "    </tr>\n",
       "    <tr>\n",
       "      <th>16</th>\n",
       "      <td>TG</td>\n",
       "      <td>TG(54:4)]_FA18:1</td>\n",
       "      <td>87513.0</td>\n",
       "      <td>900.8</td>\n",
       "      <td>601.596</td>\n",
       "      <td>16.11</td>\n",
       "      <td>RBDCanola_O3on_150gN3_02082023</td>\n",
       "      <td>900.8 -&gt; 601.596</td>\n",
       "      <td>0</td>\n",
       "      <td>818.8</td>\n",
       "      <td>790.8</td>\n",
       "      <td>748.8</td>\n",
       "      <td></td>\n",
       "      <td>NaN</td>\n",
       "    </tr>\n",
       "    <tr>\n",
       "      <th>17</th>\n",
       "      <td>NaN</td>\n",
       "      <td>TG(54:4)]_FA18:1</td>\n",
       "      <td>3560.0</td>\n",
       "      <td>818.7</td>\n",
       "      <td>601.596</td>\n",
       "      <td>16.10</td>\n",
       "      <td>RBDCanola_O3on_150gN3_02082023</td>\n",
       "      <td>818.7 -&gt; 601.596</td>\n",
       "      <td>0</td>\n",
       "      <td>736.7</td>\n",
       "      <td>708.7</td>\n",
       "      <td>666.7</td>\n",
       "      <td>n-7</td>\n",
       "      <td>NaN</td>\n",
       "    </tr>\n",
       "    <tr>\n",
       "      <th>18</th>\n",
       "      <td>NaN</td>\n",
       "      <td>[TG(52:4)]_FA18:1</td>\n",
       "      <td>1317.0</td>\n",
       "      <td>762.6</td>\n",
       "      <td>573.596</td>\n",
       "      <td>14.33</td>\n",
       "      <td>RBDCanola_O3on_150gN3_02082023</td>\n",
       "      <td>762.6 -&gt; 573.596</td>\n",
       "      <td>0</td>\n",
       "      <td>680.6</td>\n",
       "      <td>652.6</td>\n",
       "      <td>610.6</td>\n",
       "      <td>n-9</td>\n",
       "      <td>2.68</td>\n",
       "    </tr>\n",
       "    <tr>\n",
       "      <th>19</th>\n",
       "      <td>TG</td>\n",
       "      <td>[TG(52:4)]_FA18:1</td>\n",
       "      <td>6939.0</td>\n",
       "      <td>872.8</td>\n",
       "      <td>573.596</td>\n",
       "      <td>14.34</td>\n",
       "      <td>RBDCanola_O3on_150gN3_02082023</td>\n",
       "      <td>872.8 -&gt; 573.596</td>\n",
       "      <td>0</td>\n",
       "      <td>790.8</td>\n",
       "      <td>762.8</td>\n",
       "      <td>720.8</td>\n",
       "      <td></td>\n",
       "      <td>NaN</td>\n",
       "    </tr>\n",
       "    <tr>\n",
       "      <th>20</th>\n",
       "      <td>NaN</td>\n",
       "      <td>[TG(52:4)]_FA18:1</td>\n",
       "      <td>492.0</td>\n",
       "      <td>790.7</td>\n",
       "      <td>573.596</td>\n",
       "      <td>14.31</td>\n",
       "      <td>RBDCanola_O3on_150gN3_02082023</td>\n",
       "      <td>790.7 -&gt; 573.596</td>\n",
       "      <td>0</td>\n",
       "      <td>708.7</td>\n",
       "      <td>680.7</td>\n",
       "      <td>638.7</td>\n",
       "      <td>n-7</td>\n",
       "      <td>NaN</td>\n",
       "    </tr>\n",
       "    <tr>\n",
       "      <th>21</th>\n",
       "      <td>NaN</td>\n",
       "      <td>[TG(52:5)]_FA18:1</td>\n",
       "      <td>526.0</td>\n",
       "      <td>760.6</td>\n",
       "      <td>571.596</td>\n",
       "      <td>22.02</td>\n",
       "      <td>RBDCanola_O3on_150gN3_02082023</td>\n",
       "      <td>760.6 -&gt; 571.596</td>\n",
       "      <td>0</td>\n",
       "      <td>678.6</td>\n",
       "      <td>650.6</td>\n",
       "      <td>608.6</td>\n",
       "      <td>n-9</td>\n",
       "      <td>1.51</td>\n",
       "    </tr>\n",
       "    <tr>\n",
       "      <th>22</th>\n",
       "      <td>TG</td>\n",
       "      <td>[TG(52:5)]_FA18:1</td>\n",
       "      <td>605.0</td>\n",
       "      <td>870.8</td>\n",
       "      <td>571.596</td>\n",
       "      <td>12.43</td>\n",
       "      <td>RBDCanola_O3on_150gN3_02082023</td>\n",
       "      <td>870.8 -&gt; 571.596</td>\n",
       "      <td>0</td>\n",
       "      <td>788.8</td>\n",
       "      <td>760.8</td>\n",
       "      <td>718.8</td>\n",
       "      <td></td>\n",
       "      <td>NaN</td>\n",
       "    </tr>\n",
       "    <tr>\n",
       "      <th>23</th>\n",
       "      <td>NaN</td>\n",
       "      <td>[TG(52:5)]_FA18:1</td>\n",
       "      <td>348.0</td>\n",
       "      <td>788.6</td>\n",
       "      <td>571.596</td>\n",
       "      <td>21.85</td>\n",
       "      <td>RBDCanola_O3on_150gN3_02082023</td>\n",
       "      <td>788.6 -&gt; 571.596</td>\n",
       "      <td>0</td>\n",
       "      <td>706.6</td>\n",
       "      <td>678.6</td>\n",
       "      <td>636.6</td>\n",
       "      <td>n-7</td>\n",
       "      <td>NaN</td>\n",
       "    </tr>\n",
       "    <tr>\n",
       "      <th>24</th>\n",
       "      <td>TG</td>\n",
       "      <td>[TG(52:6)]_FA18:1</td>\n",
       "      <td>462.0</td>\n",
       "      <td>868.7</td>\n",
       "      <td>569.596</td>\n",
       "      <td>22.93</td>\n",
       "      <td>RBDCanola_O3on_150gN3_02082023</td>\n",
       "      <td>868.7 -&gt; 569.596</td>\n",
       "      <td>0</td>\n",
       "      <td>786.7</td>\n",
       "      <td>758.7</td>\n",
       "      <td>716.7</td>\n",
       "      <td></td>\n",
       "      <td>NaN</td>\n",
       "    </tr>\n",
       "    <tr>\n",
       "      <th>25</th>\n",
       "      <td>NaN</td>\n",
       "      <td>[TG(52:6)]_FA18:1</td>\n",
       "      <td>426.0</td>\n",
       "      <td>786.6</td>\n",
       "      <td>569.596</td>\n",
       "      <td>21.69</td>\n",
       "      <td>RBDCanola_O3on_150gN3_02082023</td>\n",
       "      <td>786.6 -&gt; 569.596</td>\n",
       "      <td>0</td>\n",
       "      <td>704.6</td>\n",
       "      <td>676.6</td>\n",
       "      <td>634.6</td>\n",
       "      <td>n-7</td>\n",
       "      <td>NaN</td>\n",
       "    </tr>\n",
       "    <tr>\n",
       "      <th>26</th>\n",
       "      <td>NaN</td>\n",
       "      <td>[TG(54:5)]_FA18:1</td>\n",
       "      <td>3415.0</td>\n",
       "      <td>788.6</td>\n",
       "      <td>599.596</td>\n",
       "      <td>14.33</td>\n",
       "      <td>RBDCanola_O3on_150gN3_02082023</td>\n",
       "      <td>788.6 -&gt; 599.596</td>\n",
       "      <td>0</td>\n",
       "      <td>706.6</td>\n",
       "      <td>678.6</td>\n",
       "      <td>636.6</td>\n",
       "      <td>n-9</td>\n",
       "      <td>3.83</td>\n",
       "    </tr>\n",
       "    <tr>\n",
       "      <th>27</th>\n",
       "      <td>TG</td>\n",
       "      <td>[TG(54:5)]_FA18:1</td>\n",
       "      <td>12850.0</td>\n",
       "      <td>898.8</td>\n",
       "      <td>599.596</td>\n",
       "      <td>14.34</td>\n",
       "      <td>RBDCanola_O3on_150gN3_02082023</td>\n",
       "      <td>898.8 -&gt; 599.596</td>\n",
       "      <td>0</td>\n",
       "      <td>816.8</td>\n",
       "      <td>788.8</td>\n",
       "      <td>746.8</td>\n",
       "      <td></td>\n",
       "      <td>NaN</td>\n",
       "    </tr>\n",
       "    <tr>\n",
       "      <th>28</th>\n",
       "      <td>NaN</td>\n",
       "      <td>[TG(54:5)]_FA18:1</td>\n",
       "      <td>891.0</td>\n",
       "      <td>816.7</td>\n",
       "      <td>599.596</td>\n",
       "      <td>14.28</td>\n",
       "      <td>RBDCanola_O3on_150gN3_02082023</td>\n",
       "      <td>816.7 -&gt; 599.596</td>\n",
       "      <td>0</td>\n",
       "      <td>734.7</td>\n",
       "      <td>706.7</td>\n",
       "      <td>664.7</td>\n",
       "      <td>n-7</td>\n",
       "      <td>NaN</td>\n",
       "    </tr>\n",
       "    <tr>\n",
       "      <th>29</th>\n",
       "      <td>NaN</td>\n",
       "      <td>[TG(54:6)]_FA18:1</td>\n",
       "      <td>587.0</td>\n",
       "      <td>786.6</td>\n",
       "      <td>597.596</td>\n",
       "      <td>19.48</td>\n",
       "      <td>RBDCanola_O3on_150gN3_02082023</td>\n",
       "      <td>786.6 -&gt; 597.596</td>\n",
       "      <td>0</td>\n",
       "      <td>704.6</td>\n",
       "      <td>676.6</td>\n",
       "      <td>634.6</td>\n",
       "      <td>n-9</td>\n",
       "      <td>1.06</td>\n",
       "    </tr>\n",
       "    <tr>\n",
       "      <th>30</th>\n",
       "      <td>TG</td>\n",
       "      <td>[TG(54:6)]_FA18:1</td>\n",
       "      <td>1138.0</td>\n",
       "      <td>896.8</td>\n",
       "      <td>597.596</td>\n",
       "      <td>12.43</td>\n",
       "      <td>RBDCanola_O3on_150gN3_02082023</td>\n",
       "      <td>896.8 -&gt; 597.596</td>\n",
       "      <td>0</td>\n",
       "      <td>814.8</td>\n",
       "      <td>786.8</td>\n",
       "      <td>744.8</td>\n",
       "      <td></td>\n",
       "      <td>NaN</td>\n",
       "    </tr>\n",
       "    <tr>\n",
       "      <th>31</th>\n",
       "      <td>NaN</td>\n",
       "      <td>[TG(54:6)]_FA18:1</td>\n",
       "      <td>554.0</td>\n",
       "      <td>814.7</td>\n",
       "      <td>597.596</td>\n",
       "      <td>22.90</td>\n",
       "      <td>RBDCanola_O3on_150gN3_02082023</td>\n",
       "      <td>814.7 -&gt; 597.596</td>\n",
       "      <td>0</td>\n",
       "      <td>732.7</td>\n",
       "      <td>704.7</td>\n",
       "      <td>662.7</td>\n",
       "      <td>n-7</td>\n",
       "      <td>NaN</td>\n",
       "    </tr>\n",
       "  </tbody>\n",
       "</table>\n",
       "</div>"
      ],
      "text/plain": [
       "   Class              Lipid  OzESI_Intensity  Precursor_Ion  Product_Ion  \\\n",
       "0    NaN   TG(52:2)]_FA18:1          12642.0          766.7      577.596   \n",
       "1     TG   TG(52:2)]_FA18:1          58976.0          876.8      577.596   \n",
       "2    NaN   TG(52:2)]_FA18:1           2689.0          794.7      577.596   \n",
       "3    NaN   TG(52:3)]_FA18:1           3097.0          764.6      575.596   \n",
       "4     TG   TG(52:3)]_FA18:1          13319.0          874.8      575.596   \n",
       "5    NaN   TG(52:3)]_FA18:1           1009.0          792.7      575.596   \n",
       "6    NaN   TG(53:0)]_FA18:1            586.0          784.6      595.596   \n",
       "7     TG   TG(53:0)]_FA18:1           2299.0          894.8      595.596   \n",
       "8    NaN   TG(53:0)]_FA18:1            444.0          812.7      595.596   \n",
       "9    NaN   TG(54:2)]_FA18:1           7721.0          794.6      605.596   \n",
       "10    TG   TG(54:2)]_FA18:1          37838.0          904.8      605.596   \n",
       "11   NaN   TG(54:2)]_FA18:1           1725.0          822.7      605.596   \n",
       "12   NaN   TG(54:3)]_FA18:1          63686.0          792.6      603.596   \n",
       "13    TG   TG(54:3)]_FA18:1         297883.0          902.8      603.596   \n",
       "14   NaN   TG(54:3)]_FA18:1          11771.0          820.7      603.596   \n",
       "15   NaN   TG(54:4)]_FA18:1          17709.0          790.6      601.596   \n",
       "16    TG   TG(54:4)]_FA18:1          87513.0          900.8      601.596   \n",
       "17   NaN   TG(54:4)]_FA18:1           3560.0          818.7      601.596   \n",
       "18   NaN  [TG(52:4)]_FA18:1           1317.0          762.6      573.596   \n",
       "19    TG  [TG(52:4)]_FA18:1           6939.0          872.8      573.596   \n",
       "20   NaN  [TG(52:4)]_FA18:1            492.0          790.7      573.596   \n",
       "21   NaN  [TG(52:5)]_FA18:1            526.0          760.6      571.596   \n",
       "22    TG  [TG(52:5)]_FA18:1            605.0          870.8      571.596   \n",
       "23   NaN  [TG(52:5)]_FA18:1            348.0          788.6      571.596   \n",
       "24    TG  [TG(52:6)]_FA18:1            462.0          868.7      569.596   \n",
       "25   NaN  [TG(52:6)]_FA18:1            426.0          786.6      569.596   \n",
       "26   NaN  [TG(54:5)]_FA18:1           3415.0          788.6      599.596   \n",
       "27    TG  [TG(54:5)]_FA18:1          12850.0          898.8      599.596   \n",
       "28   NaN  [TG(54:5)]_FA18:1            891.0          816.7      599.596   \n",
       "29   NaN  [TG(54:6)]_FA18:1            587.0          786.6      597.596   \n",
       "30    TG  [TG(54:6)]_FA18:1           1138.0          896.8      597.596   \n",
       "31   NaN  [TG(54:6)]_FA18:1            554.0          814.7      597.596   \n",
       "\n",
       "    Retention_Time                       Sample_ID        Transition  \\\n",
       "0            18.07  RBDCanola_O3on_150gN3_02082023  766.7 -> 577.596   \n",
       "1            18.09  RBDCanola_O3on_150gN3_02082023  876.8 -> 577.596   \n",
       "2            18.06  RBDCanola_O3on_150gN3_02082023  794.7 -> 577.596   \n",
       "3            16.16  RBDCanola_O3on_150gN3_02082023  764.6 -> 575.596   \n",
       "4            16.15  RBDCanola_O3on_150gN3_02082023  874.8 -> 575.596   \n",
       "5            16.07  RBDCanola_O3on_150gN3_02082023  792.7 -> 575.596   \n",
       "6            21.92  RBDCanola_O3on_150gN3_02082023  784.6 -> 595.596   \n",
       "7            17.39  RBDCanola_O3on_150gN3_02082023  894.8 -> 595.596   \n",
       "8            20.93  RBDCanola_O3on_150gN3_02082023  812.7 -> 595.596   \n",
       "9            20.04  RBDCanola_O3on_150gN3_02082023  794.6 -> 605.596   \n",
       "10           20.04  RBDCanola_O3on_150gN3_02082023  904.8 -> 605.596   \n",
       "11           19.98  RBDCanola_O3on_150gN3_02082023  822.7 -> 605.596   \n",
       "12           18.01  RBDCanola_O3on_150gN3_02082023  792.6 -> 603.596   \n",
       "13           18.02  RBDCanola_O3on_150gN3_02082023  902.8 -> 603.596   \n",
       "14           18.01  RBDCanola_O3on_150gN3_02082023  820.7 -> 603.596   \n",
       "15           16.12  RBDCanola_O3on_150gN3_02082023  790.6 -> 601.596   \n",
       "16           16.11  RBDCanola_O3on_150gN3_02082023  900.8 -> 601.596   \n",
       "17           16.10  RBDCanola_O3on_150gN3_02082023  818.7 -> 601.596   \n",
       "18           14.33  RBDCanola_O3on_150gN3_02082023  762.6 -> 573.596   \n",
       "19           14.34  RBDCanola_O3on_150gN3_02082023  872.8 -> 573.596   \n",
       "20           14.31  RBDCanola_O3on_150gN3_02082023  790.7 -> 573.596   \n",
       "21           22.02  RBDCanola_O3on_150gN3_02082023  760.6 -> 571.596   \n",
       "22           12.43  RBDCanola_O3on_150gN3_02082023  870.8 -> 571.596   \n",
       "23           21.85  RBDCanola_O3on_150gN3_02082023  788.6 -> 571.596   \n",
       "24           22.93  RBDCanola_O3on_150gN3_02082023  868.7 -> 569.596   \n",
       "25           21.69  RBDCanola_O3on_150gN3_02082023  786.6 -> 569.596   \n",
       "26           14.33  RBDCanola_O3on_150gN3_02082023  788.6 -> 599.596   \n",
       "27           14.34  RBDCanola_O3on_150gN3_02082023  898.8 -> 599.596   \n",
       "28           14.28  RBDCanola_O3on_150gN3_02082023  816.7 -> 599.596   \n",
       "29           19.48  RBDCanola_O3on_150gN3_02082023  786.6 -> 597.596   \n",
       "30           12.43  RBDCanola_O3on_150gN3_02082023  896.8 -> 597.596   \n",
       "31           22.90  RBDCanola_O3on_150gN3_02082023  814.7 -> 597.596   \n",
       "\n",
       "    is_special_case    n-7    n-9   n-12 db_pos  Ratio  \n",
       "0                 0  684.7  656.7  614.7    n-9   4.70  \n",
       "1                 0  794.8  766.8  724.8           NaN  \n",
       "2                 0  712.7  684.7  642.7    n-7    NaN  \n",
       "3                 0  682.6  654.6  612.6    n-9   3.07  \n",
       "4                 0  792.8  764.8  722.8           NaN  \n",
       "5                 0  710.7  682.7  640.7    n-7    NaN  \n",
       "6                 0  702.6  674.6  632.6    n-9   1.32  \n",
       "7                 0  812.8  784.8  742.8           NaN  \n",
       "8                 0  730.7  702.7  660.7    n-7    NaN  \n",
       "9                 0  712.6  684.6  642.6    n-9   4.48  \n",
       "10                0  822.8  794.8  752.8           NaN  \n",
       "11                0  740.7  712.7  670.7    n-7    NaN  \n",
       "12                0  710.6  682.6  640.6    n-9   5.41  \n",
       "13                0  820.8  792.8  750.8           NaN  \n",
       "14                0  738.7  710.7  668.7    n-7    NaN  \n",
       "15                0  708.6  680.6  638.6    n-9   4.97  \n",
       "16                0  818.8  790.8  748.8           NaN  \n",
       "17                0  736.7  708.7  666.7    n-7    NaN  \n",
       "18                0  680.6  652.6  610.6    n-9   2.68  \n",
       "19                0  790.8  762.8  720.8           NaN  \n",
       "20                0  708.7  680.7  638.7    n-7    NaN  \n",
       "21                0  678.6  650.6  608.6    n-9   1.51  \n",
       "22                0  788.8  760.8  718.8           NaN  \n",
       "23                0  706.6  678.6  636.6    n-7    NaN  \n",
       "24                0  786.7  758.7  716.7           NaN  \n",
       "25                0  704.6  676.6  634.6    n-7    NaN  \n",
       "26                0  706.6  678.6  636.6    n-9   3.83  \n",
       "27                0  816.8  788.8  746.8           NaN  \n",
       "28                0  734.7  706.7  664.7    n-7    NaN  \n",
       "29                0  704.6  676.6  634.6    n-9   1.06  \n",
       "30                0  814.8  786.8  744.8           NaN  \n",
       "31                0  732.7  704.7  662.7    n-7    NaN  "
      ]
     },
     "execution_count": 16,
     "metadata": {},
     "output_type": "execute_result"
    }
   ],
   "source": [
    "# Get the unique Sample_IDs\n",
    "unique_sample_ids = df_OzESI_5_ratio_final['Sample_ID'].unique()\n",
    "\n",
    "# Create separate DataFrames for each Sample_ID\n",
    "df_sample1 = df_OzESI_5_ratio_final[df_OzESI_5_ratio_final['Sample_ID'] == unique_sample_ids[0]].reset_index(drop=True)\n",
    "df_sample2 = df_OzESI_5_ratio_final[df_OzESI_5_ratio_final['Sample_ID'] == unique_sample_ids[1]].reset_index(drop=True)\n",
    "df_sample3 = df_OzESI_5_ratio_final[df_OzESI_5_ratio_final['Sample_ID'] == unique_sample_ids[2]].reset_index(drop=True)\n",
    "\n",
    "# Optionally, print the DataFrames to verify\n",
    "print(\"DataFrame for Sample_ID:\", unique_sample_ids[0])\n",
    "print(df_sample1)\n",
    "\n",
    "print(\"\\nDataFrame for Sample_ID:\", unique_sample_ids[1])\n",
    "print(df_sample2)\n",
    "\n",
    "print(\"\\nDataFrame for Sample_ID:\", unique_sample_ids[2])\n",
    "print(df_sample3)\n",
    "\n",
    "unique_sample_ids = df_OzESI_5_ratio_final['Sample_ID'].unique()\n",
    "df_sample1 = df_OzESI_5_ratio_final[df_OzESI_5_ratio_final['Sample_ID'] == unique_sample_ids[0]].reset_index(drop=True)\n",
    "df_sample2 = df_OzESI_5_ratio_final[df_OzESI_5_ratio_final['Sample_ID'] == unique_sample_ids[1]].reset_index(drop=True)\n",
    "df_sample3 = df_OzESI_5_ratio_final[df_OzESI_5_ratio_final['Sample_ID'] == unique_sample_ids[2]].reset_index(drop=True)\n",
    "# Assuming your Sample_IDs are descriptive\n",
    "df_CrudeCanola = df_OzESI_5_ratio_final[df_OzESI_5_ratio_final['Sample_ID'] == 'CrudeCanola_O3on_150gN3_02082023'].reset_index(drop=True)\n",
    "df_RBDCanola = df_OzESI_5_ratio_final[df_OzESI_5_ratio_final['Sample_ID'] == 'RBDCanola_O3on_150gN3_02082023'].reset_index(drop=True)\n",
    "df_OtherSample = df_OzESI_5_ratio_final[df_OzESI_5_ratio_final['Sample_ID'] == 'YourThirdSampleID'].reset_index(drop=True)\n",
    "\n",
    "df_RBDCanola\n",
    "\n"
   ]
  },
  {
   "cell_type": "markdown",
   "metadata": {},
   "source": [
    "### Clean up df for plotting scripts"
   ]
  },
  {
   "cell_type": "code",
   "execution_count": 24,
   "metadata": {},
   "outputs": [
    {
     "data": {
      "text/html": [
       "<div>\n",
       "<style scoped>\n",
       "    .dataframe tbody tr th:only-of-type {\n",
       "        vertical-align: middle;\n",
       "    }\n",
       "\n",
       "    .dataframe tbody tr th {\n",
       "        vertical-align: top;\n",
       "    }\n",
       "\n",
       "    .dataframe thead th {\n",
       "        text-align: right;\n",
       "    }\n",
       "</style>\n",
       "<table border=\"1\" class=\"dataframe\">\n",
       "  <thead>\n",
       "    <tr style=\"text-align: right;\">\n",
       "      <th></th>\n",
       "      <th>Class</th>\n",
       "      <th>Lipid</th>\n",
       "      <th>OzESI_Intensity</th>\n",
       "      <th>Precursor_Ion</th>\n",
       "      <th>Product_Ion</th>\n",
       "      <th>Retention_Time</th>\n",
       "      <th>Sample_ID</th>\n",
       "      <th>Transition</th>\n",
       "      <th>is_special_case</th>\n",
       "      <th>n-7</th>\n",
       "      <th>n-9</th>\n",
       "      <th>n-12</th>\n",
       "      <th>db_pos</th>\n",
       "      <th>Ratio</th>\n",
       "    </tr>\n",
       "  </thead>\n",
       "  <tbody>\n",
       "    <tr>\n",
       "      <th>0</th>\n",
       "      <td>NaN</td>\n",
       "      <td>TG(52:2)</td>\n",
       "      <td>16153.0</td>\n",
       "      <td>766.7</td>\n",
       "      <td>577.596</td>\n",
       "      <td>18.05</td>\n",
       "      <td>CrudeCanola_O3on_150gN3_02082023</td>\n",
       "      <td>766.7 -&gt; 577.596</td>\n",
       "      <td>0</td>\n",
       "      <td>684.7</td>\n",
       "      <td>656.7</td>\n",
       "      <td>614.7</td>\n",
       "      <td>n-9</td>\n",
       "      <td>4.23</td>\n",
       "    </tr>\n",
       "    <tr>\n",
       "      <th>1</th>\n",
       "      <td>NaN</td>\n",
       "      <td>TG(52:3)</td>\n",
       "      <td>3420.0</td>\n",
       "      <td>764.6</td>\n",
       "      <td>575.596</td>\n",
       "      <td>16.09</td>\n",
       "      <td>CrudeCanola_O3on_150gN3_02082023</td>\n",
       "      <td>764.6 -&gt; 575.596</td>\n",
       "      <td>0</td>\n",
       "      <td>682.6</td>\n",
       "      <td>654.6</td>\n",
       "      <td>612.6</td>\n",
       "      <td>n-9</td>\n",
       "      <td>3.16</td>\n",
       "    </tr>\n",
       "    <tr>\n",
       "      <th>2</th>\n",
       "      <td>NaN</td>\n",
       "      <td>TG(52:4)</td>\n",
       "      <td>1875.0</td>\n",
       "      <td>762.6</td>\n",
       "      <td>573.596</td>\n",
       "      <td>14.30</td>\n",
       "      <td>CrudeCanola_O3on_150gN3_02082023</td>\n",
       "      <td>762.6 -&gt; 573.596</td>\n",
       "      <td>0</td>\n",
       "      <td>680.6</td>\n",
       "      <td>652.6</td>\n",
       "      <td>610.6</td>\n",
       "      <td>n-9</td>\n",
       "      <td>3.05</td>\n",
       "    </tr>\n",
       "    <tr>\n",
       "      <th>3</th>\n",
       "      <td>NaN</td>\n",
       "      <td>TG(54:2)</td>\n",
       "      <td>11693.0</td>\n",
       "      <td>794.6</td>\n",
       "      <td>605.596</td>\n",
       "      <td>20.00</td>\n",
       "      <td>CrudeCanola_O3on_150gN3_02082023</td>\n",
       "      <td>794.6 -&gt; 605.596</td>\n",
       "      <td>0</td>\n",
       "      <td>712.6</td>\n",
       "      <td>684.6</td>\n",
       "      <td>642.6</td>\n",
       "      <td>n-9</td>\n",
       "      <td>4.31</td>\n",
       "    </tr>\n",
       "    <tr>\n",
       "      <th>4</th>\n",
       "      <td>NaN</td>\n",
       "      <td>TG(54:3)</td>\n",
       "      <td>99860.0</td>\n",
       "      <td>792.6</td>\n",
       "      <td>603.596</td>\n",
       "      <td>17.98</td>\n",
       "      <td>CrudeCanola_O3on_150gN3_02082023</td>\n",
       "      <td>792.6 -&gt; 603.596</td>\n",
       "      <td>0</td>\n",
       "      <td>710.6</td>\n",
       "      <td>682.6</td>\n",
       "      <td>640.6</td>\n",
       "      <td>n-9</td>\n",
       "      <td>5.81</td>\n",
       "    </tr>\n",
       "    <tr>\n",
       "      <th>5</th>\n",
       "      <td>NaN</td>\n",
       "      <td>TG(54:4)</td>\n",
       "      <td>27001.0</td>\n",
       "      <td>790.6</td>\n",
       "      <td>601.596</td>\n",
       "      <td>16.07</td>\n",
       "      <td>CrudeCanola_O3on_150gN3_02082023</td>\n",
       "      <td>790.6 -&gt; 601.596</td>\n",
       "      <td>0</td>\n",
       "      <td>708.6</td>\n",
       "      <td>680.6</td>\n",
       "      <td>638.6</td>\n",
       "      <td>n-9</td>\n",
       "      <td>4.91</td>\n",
       "    </tr>\n",
       "    <tr>\n",
       "      <th>6</th>\n",
       "      <td>NaN</td>\n",
       "      <td>TG(54:5)</td>\n",
       "      <td>5259.0</td>\n",
       "      <td>788.6</td>\n",
       "      <td>599.596</td>\n",
       "      <td>14.31</td>\n",
       "      <td>CrudeCanola_O3on_150gN3_02082023</td>\n",
       "      <td>788.6 -&gt; 599.596</td>\n",
       "      <td>0</td>\n",
       "      <td>706.6</td>\n",
       "      <td>678.6</td>\n",
       "      <td>636.6</td>\n",
       "      <td>n-9</td>\n",
       "      <td>4.09</td>\n",
       "    </tr>\n",
       "  </tbody>\n",
       "</table>\n",
       "</div>"
      ],
      "text/plain": [
       "  Class     Lipid  OzESI_Intensity  Precursor_Ion  Product_Ion  \\\n",
       "0   NaN  TG(52:2)          16153.0          766.7      577.596   \n",
       "1   NaN  TG(52:3)           3420.0          764.6      575.596   \n",
       "2   NaN  TG(52:4)           1875.0          762.6      573.596   \n",
       "3   NaN  TG(54:2)          11693.0          794.6      605.596   \n",
       "4   NaN  TG(54:3)          99860.0          792.6      603.596   \n",
       "5   NaN  TG(54:4)          27001.0          790.6      601.596   \n",
       "6   NaN  TG(54:5)           5259.0          788.6      599.596   \n",
       "\n",
       "   Retention_Time                         Sample_ID        Transition  \\\n",
       "0           18.05  CrudeCanola_O3on_150gN3_02082023  766.7 -> 577.596   \n",
       "1           16.09  CrudeCanola_O3on_150gN3_02082023  764.6 -> 575.596   \n",
       "2           14.30  CrudeCanola_O3on_150gN3_02082023  762.6 -> 573.596   \n",
       "3           20.00  CrudeCanola_O3on_150gN3_02082023  794.6 -> 605.596   \n",
       "4           17.98  CrudeCanola_O3on_150gN3_02082023  792.6 -> 603.596   \n",
       "5           16.07  CrudeCanola_O3on_150gN3_02082023  790.6 -> 601.596   \n",
       "6           14.31  CrudeCanola_O3on_150gN3_02082023  788.6 -> 599.596   \n",
       "\n",
       "   is_special_case    n-7    n-9   n-12 db_pos  Ratio  \n",
       "0                0  684.7  656.7  614.7    n-9   4.23  \n",
       "1                0  682.6  654.6  612.6    n-9   3.16  \n",
       "2                0  680.6  652.6  610.6    n-9   3.05  \n",
       "3                0  712.6  684.6  642.6    n-9   4.31  \n",
       "4                0  710.6  682.6  640.6    n-9   5.81  \n",
       "5                0  708.6  680.6  638.6    n-9   4.91  \n",
       "6                0  706.6  678.6  636.6    n-9   4.09  "
      ]
     },
     "execution_count": 24,
     "metadata": {},
     "output_type": "execute_result"
    }
   ],
   "source": [
    "# Create DataFrames for each Sample_ID if not already done\n",
    "unique_sample_ids = df_OzESI_5_ratio_final['Sample_ID'].unique()\n",
    "\n",
    "df_sample1 = df_OzESI_5_ratio_final[df_OzESI_5_ratio_final['Sample_ID'] == unique_sample_ids[0]].reset_index(drop=True)\n",
    "df_sample2 = df_OzESI_5_ratio_final[df_OzESI_5_ratio_final['Sample_ID'] == unique_sample_ids[1]].reset_index(drop=True)\n",
    "df_sample3 = df_OzESI_5_ratio_final[df_OzESI_5_ratio_final['Sample_ID'] == unique_sample_ids[2]].reset_index(drop=True)\n",
    "\n",
    "# Filter rows where 'Ratio' is not NaN\n",
    "df_sample1_ratio = df_sample1[df_sample1['Ratio'].notna()].reset_index(drop=True)\n",
    "df_sample2_ratio = df_sample2[df_sample2['Ratio'].notna()].reset_index(drop=True)\n",
    "df_sample3_ratio = df_sample3[df_sample3['Ratio'].notna()].reset_index(drop=True)\n",
    "\n",
    "import re\n",
    "\n",
    "# Define the lipids to drop\n",
    "lipids_to_drop = ['TG(53:0)]_FA18:1', '[TG(54:6)]_FA18:1','[TG(52:5)]_FA18:1','TG(52:5)']\n",
    "\n",
    "# Function to extract 'TG(xx:x)' from the 'Lipid' column\n",
    "def extract_tg(lipid_str):\n",
    "    match = re.search(r'TG\\(\\d+:\\d+\\)', lipid_str)\n",
    "    if match:\n",
    "        return match.group(0)\n",
    "    else:\n",
    "        return lipid_str\n",
    "\n",
    "# Function to clean 'Lipid' column, drop specified lipids, and sort\n",
    "def process_dataframe(df, lipids_to_drop):\n",
    "    df = df.copy()\n",
    "    # Clean the 'Lipid' column\n",
    "    df['Lipid'] = df['Lipid'].apply(extract_tg)\n",
    "    # Drop specified lipids after cleaning\n",
    "    df = df[~df['Lipid'].isin(['TG(53:0)', 'TG(54:6)','TG(52:5)'])]\n",
    "    # Sort by 'Lipid' column\n",
    "    df = df.sort_values(by='Lipid').reset_index(drop=True)\n",
    "    return df\n",
    "\n",
    "# Process df_sample1_ratio\n",
    "df_sample1_ratio = process_dataframe(df_sample1_ratio, lipids_to_drop)\n",
    "\n",
    "# Process df_sample2_ratio\n",
    "df_sample2_ratio = process_dataframe(df_sample2_ratio, lipids_to_drop)\n",
    "\n",
    "# Process df_sample3_ratio\n",
    "df_sample3_ratio = process_dataframe(df_sample3_ratio, lipids_to_drop)\n",
    "\n",
    "\n",
    "df_sample1_ratio\n",
    "# df_sample2_ratio\n",
    "# df_sample3_ratio"
   ]
  },
  {
   "cell_type": "markdown",
   "metadata": {},
   "source": [
    "# Plotting Section"
   ]
  },
  {
   "cell_type": "code",
   "execution_count": 34,
   "metadata": {},
   "outputs": [
    {
     "data": {
      "image/png": "[encoded data removed]",
      "text/plain": [
       "<Figure size 1000x600 with 1 Axes>"
      ]
     },
     "metadata": {},
     "output_type": "display_data"
    },
    {
     "data": {
      "image/png": "[encoded data removed]",
      "text/plain": [
       "<Figure size 1000x600 with 1 Axes>"
      ]
     },
     "metadata": {},
     "output_type": "display_data"
    },
    {
     "data": {
      "image/png": "[encoded data removed]",
      "text/plain": [
       "<Figure size 1000x600 with 1 Axes>"
      ]
     },
     "metadata": {},
     "output_type": "display_data"
    }
   ],
   "source": [
    "# Import the function from your Python file\n",
    "from plot import plot_ratio_comparison\n",
    "\n",
    "# Assuming df_sample1_ratio, df_sample2_ratio, and df_sample3_ratio are already loaded\n",
    "\n",
    "# Plotting Crude comparison\n",
    "plot_ratio_comparison(df_sample1_ratio, 'Crude', 'Crude')\n",
    "\n",
    "# Plotting Degummed comparison\n",
    "plot_ratio_comparison(df_sample2_ratio, 'Degummed', 'Degummed')\n",
    "\n",
    "# Plotting RBD comparison\n",
    "plot_ratio_comparison(df_sample3_ratio, 'RBD', 'RBD')\n"
   ]
  },
  {
   "attachments": {},
   "cell_type": "markdown",
   "metadata": {},
   "source": [
    "### Lipidomic OzESI Data Visualization\n",
    "\n",
    "This section presents the visual representation of the lipidomic OzESI data, focusing on the ratio analysis of isomeric lipids based on their double bond location. By default, the visualization emphasizes the n-9/n-7 ratios, but the configuration can be tailored to accommodate any specific double bond location on a lipid. Select the directory where the plots will be saved."
   ]
  },
  {
   "cell_type": "code",
   "execution_count": 35,
   "metadata": {},
   "outputs": [],
   "source": [
    "from plot import process_and_plot\n",
    "\n",
    "# Define output directories for each sample\n",
    "project = 'Projects/canola/'\n",
    "plot_folder = 'plots/'\n",
    "\n",
    "output_directory_crude = os.path.join(project, plot_folder, 'crude')\n",
    "output_directory_degummed = os.path.join(project, plot_folder, 'degummed')\n",
    "output_directory_rbd = os.path.join(project, plot_folder, 'rbd')\n",
    "\n",
    "# Assuming df_sample1_ratio, df_sample2_ratio, and df_sample3_ratio are already loaded\n",
    "\n",
    "# Process and plot for each sample\n",
    "process_and_plot(df_sample1_ratio, 'Crude', output_directory_crude)\n",
    "process_and_plot(df_sample2_ratio, 'Degummed', output_directory_degummed)\n",
    "process_and_plot(df_sample3_ratio, 'RBD', output_directory_rbd)\n"
   ]
  },
  {
   "cell_type": "markdown",
   "metadata": {},
   "source": [
    "# Ratio Plot for Paper"
   ]
  },
  {
   "cell_type": "code",
   "execution_count": 36,
   "metadata": {},
   "outputs": [
    {
     "data": {
      "application/vnd.plotly.v1+json": {
       "config": {
        "plotlyServerURL": "https://plot.ly"
       },
       "data": [
        {
         "marker": {
          "color": "blue",
          "colorscale": [
           [
            0,
            "rgb(247,251,255)"
           ],
           [
            0.125,
            "rgb(222,235,247)"
           ],
           [
            0.25,
            "rgb(198,219,239)"
           ],
           [
            0.375,
            "rgb(158,202,225)"
           ],
           [
            0.5,
            "rgb(107,174,214)"
           ],
           [
            0.625,
            "rgb(66,146,198)"
           ],
           [
            0.75,
            "rgb(33,113,181)"
           ],
           [
            0.875,
            "rgb(8,81,156)"
           ],
           [
            1,
            "rgb(8,48,107)"
           ]
          ],
          "line": {
           "color": "darkblue",
           "width": 1
          }
         },
         "name": "Crude",
         "orientation": "h",
         "type": "bar",
         "x": [
          4.23,
          3.16,
          3.05,
          4.31,
          5.81,
          4.91,
          4.09
         ],
         "y": [
          "TG(52:2)",
          "TG(52:3)",
          "TG(52:4)",
          "TG(54:2)",
          "TG(54:3)",
          "TG(54:4)",
          "TG(54:5)"
         ]
        },
        {
         "marker": {
          "color": "red",
          "colorscale": [
           [
            0,
            "rgb(255,245,240)"
           ],
           [
            0.125,
            "rgb(254,224,210)"
           ],
           [
            0.25,
            "rgb(252,187,161)"
           ],
           [
            0.375,
            "rgb(252,146,114)"
           ],
           [
            0.5,
            "rgb(251,106,74)"
           ],
           [
            0.625,
            "rgb(239,59,44)"
           ],
           [
            0.75,
            "rgb(203,24,29)"
           ],
           [
            0.875,
            "rgb(165,15,21)"
           ],
           [
            1,
            "rgb(103,0,13)"
           ]
          ],
          "line": {
           "color": "darkred",
           "width": 1
          }
         },
         "name": "Degummed",
         "orientation": "h",
         "type": "bar",
         "x": [
          4.31,
          2.5,
          2.96,
          3.84,
          5.75,
          4.07,
          3.83
         ],
         "y": [
          "TG(52:2)",
          "TG(52:3)",
          "TG(52:4)",
          "TG(54:2)",
          "TG(54:3)",
          "TG(54:4)",
          "TG(54:5)"
         ]
        },
        {
         "marker": {
          "color": "LimeGreen",
          "colorscale": [
           [
            0,
            "rgb(247,252,245)"
           ],
           [
            0.125,
            "rgb(229,245,224)"
           ],
           [
            0.25,
            "rgb(199,233,192)"
           ],
           [
            0.375,
            "rgb(161,217,155)"
           ],
           [
            0.5,
            "rgb(116,196,118)"
           ],
           [
            0.625,
            "rgb(65,171,93)"
           ],
           [
            0.75,
            "rgb(35,139,69)"
           ],
           [
            0.875,
            "rgb(0,109,44)"
           ],
           [
            1,
            "rgb(0,68,27)"
           ]
          ],
          "line": {
           "color": "darkgreen",
           "width": 1
          }
         },
         "name": "RBD",
         "orientation": "h",
         "type": "bar",
         "x": [
          4.7,
          3.07,
          2.68,
          4.48,
          5.41,
          4.97,
          3.83
         ],
         "y": [
          "TG(52:2)",
          "TG(52:3)",
          "TG(52:4)",
          "TG(54:2)",
          "TG(54:3)",
          "TG(54:4)",
          "TG(54:5)"
         ]
        }
       ],
       "layout": {
        "barmode": "group",
        "height": 600,
        "legend": {
         "font": {
          "size": 20
         },
         "title": {
          "font": {
           "size": 24
          }
         },
         "traceorder": "reversed"
        },
        "template": {
         "data": {
          "bar": [
           {
            "error_x": {
             "color": "#2a3f5f"
            },
            "error_y": {
             "color": "#2a3f5f"
            },
            "marker": {
             "line": {
              "color": "#E5ECF6",
              "width": 0.5
             }
            },
            "type": "bar"
           }
          ],
          "barpolar": [
           {
            "marker": {
             "line": {
              "color": "#E5ECF6",
              "width": 0.5
             }
            },
            "type": "barpolar"
           }
          ],
          "carpet": [
           {
            "aaxis": {
             "endlinecolor": "#2a3f5f",
             "gridcolor": "white",
             "linecolor": "white",
             "minorgridcolor": "white",
             "startlinecolor": "#2a3f5f"
            },
            "baxis": {
             "endlinecolor": "#2a3f5f",
             "gridcolor": "white",
             "linecolor": "white",
             "minorgridcolor": "white",
             "startlinecolor": "#2a3f5f"
            },
            "type": "carpet"
           }
          ],
          "choropleth": [
           {
            "colorbar": {
             "outlinewidth": 0,
             "ticks": ""
            },
            "type": "choropleth"
           }
          ],
          "contour": [
           {
            "colorbar": {
             "outlinewidth": 0,
             "ticks": ""
            },
            "colorscale": [
             [
              0,
              "#0d0887"
             ],
             [
              0.1111111111111111,
              "#46039f"
             ],
             [
              0.2222222222222222,
              "#7201a8"
             ],
             [
              0.3333333333333333,
              "#9c179e"
             ],
             [
              0.4444444444444444,
              "#bd3786"
             ],
             [
              0.5555555555555556,
              "#d8576b"
             ],
             [
              0.6666666666666666,
              "#ed7953"
             ],
             [
              0.7777777777777778,
              "#fb9f3a"
             ],
             [
              0.8888888888888888,
              "#fdca26"
             ],
             [
              1,
              "#f0f921"
             ]
            ],
            "type": "contour"
           }
          ],
          "contourcarpet": [
           {
            "colorbar": {
             "outlinewidth": 0,
             "ticks": ""
            },
            "type": "contourcarpet"
           }
          ],
          "heatmap": [
           {
            "colorbar": {
             "outlinewidth": 0,
             "ticks": ""
            },
            "colorscale": [
             [
              0,
              "#0d0887"
             ],
             [
              0.1111111111111111,
              "#46039f"
             ],
             [
              0.2222222222222222,
              "#7201a8"
             ],
             [
              0.3333333333333333,
              "#9c179e"
             ],
             [
              0.4444444444444444,
              "#bd3786"
             ],
             [
              0.5555555555555556,
              "#d8576b"
             ],
             [
              0.6666666666666666,
              "#ed7953"
             ],
             [
              0.7777777777777778,
              "#fb9f3a"
             ],
             [
              0.8888888888888888,
              "#fdca26"
             ],
             [
              1,
              "#f0f921"
             ]
            ],
            "type": "heatmap"
           }
          ],
          "heatmapgl": [
           {
            "colorbar": {
             "outlinewidth": 0,
             "ticks": ""
            },
            "colorscale": [
             [
              0,
              "#0d0887"
             ],
             [
              0.1111111111111111,
              "#46039f"
             ],
             [
              0.2222222222222222,
              "#7201a8"
             ],
             [
              0.3333333333333333,
              "#9c179e"
             ],
             [
              0.4444444444444444,
              "#bd3786"
             ],
             [
              0.5555555555555556,
              "#d8576b"
             ],
             [
              0.6666666666666666,
              "#ed7953"
             ],
             [
              0.7777777777777778,
              "#fb9f3a"
             ],
             [
              0.8888888888888888,
              "#fdca26"
             ],
             [
              1,
              "#f0f921"
             ]
            ],
            "type": "heatmapgl"
           }
          ],
          "histogram": [
           {
            "marker": {
             "colorbar": {
              "outlinewidth": 0,
              "ticks": ""
             }
            },
            "type": "histogram"
           }
          ],
          "histogram2d": [
           {
            "colorbar": {
             "outlinewidth": 0,
             "ticks": ""
            },
            "colorscale": [
             [
              0,
              "#0d0887"
             ],
             [
              0.1111111111111111,
              "#46039f"
             ],
             [
              0.2222222222222222,
              "#7201a8"
             ],
             [
              0.3333333333333333,
              "#9c179e"
             ],
             [
              0.4444444444444444,
              "#bd3786"
             ],
             [
              0.5555555555555556,
              "#d8576b"
             ],
             [
              0.6666666666666666,
              "#ed7953"
             ],
             [
              0.7777777777777778,
              "#fb9f3a"
             ],
             [
              0.8888888888888888,
              "#fdca26"
             ],
             [
              1,
              "#f0f921"
             ]
            ],
            "type": "histogram2d"
           }
          ],
          "histogram2dcontour": [
           {
            "colorbar": {
             "outlinewidth": 0,
             "ticks": ""
            },
            "colorscale": [
             [
              0,
              "#0d0887"
             ],
             [
              0.1111111111111111,
              "#46039f"
             ],
             [
              0.2222222222222222,
              "#7201a8"
             ],
             [
              0.3333333333333333,
              "#9c179e"
             ],
             [
              0.4444444444444444,
              "#bd3786"
             ],
             [
              0.5555555555555556,
              "#d8576b"
             ],
             [
              0.6666666666666666,
              "#ed7953"
             ],
             [
              0.7777777777777778,
              "#fb9f3a"
             ],
             [
              0.8888888888888888,
              "#fdca26"
             ],
             [
              1,
              "#f0f921"
             ]
            ],
            "type": "histogram2dcontour"
           }
          ],
          "mesh3d": [
           {
            "colorbar": {
             "outlinewidth": 0,
             "ticks": ""
            },
            "type": "mesh3d"
           }
          ],
          "parcoords": [
           {
            "line": {
             "colorbar": {
              "outlinewidth": 0,
              "ticks": ""
             }
            },
            "type": "parcoords"
           }
          ],
          "pie": [
           {
            "automargin": true,
            "type": "pie"
           }
          ],
          "scatter": [
           {
            "marker": {
             "colorbar": {
              "outlinewidth": 0,
              "ticks": ""
             }
            },
            "type": "scatter"
           }
          ],
          "scatter3d": [
           {
            "line": {
             "colorbar": {
              "outlinewidth": 0,
              "ticks": ""
             }
            },
            "marker": {
             "colorbar": {
              "outlinewidth": 0,
              "ticks": ""
             }
            },
            "type": "scatter3d"
           }
          ],
          "scattercarpet": [
           {
            "marker": {
             "colorbar": {
              "outlinewidth": 0,
              "ticks": ""
             }
            },
            "type": "scattercarpet"
           }
          ],
          "scattergeo": [
           {
            "marker": {
             "colorbar": {
              "outlinewidth": 0,
              "ticks": ""
             }
            },
            "type": "scattergeo"
           }
          ],
          "scattergl": [
           {
            "marker": {
             "colorbar": {
              "outlinewidth": 0,
              "ticks": ""
             }
            },
            "type": "scattergl"
           }
          ],
          "scattermapbox": [
           {
            "marker": {
             "colorbar": {
              "outlinewidth": 0,
              "ticks": ""
             }
            },
            "type": "scattermapbox"
           }
          ],
          "scatterpolar": [
           {
            "marker": {
             "colorbar": {
              "outlinewidth": 0,
              "ticks": ""
             }
            },
            "type": "scatterpolar"
           }
          ],
          "scatterpolargl": [
           {
            "marker": {
             "colorbar": {
              "outlinewidth": 0,
              "ticks": ""
             }
            },
            "type": "scatterpolargl"
           }
          ],
          "scatterternary": [
           {
            "marker": {
             "colorbar": {
              "outlinewidth": 0,
              "ticks": ""
             }
            },
            "type": "scatterternary"
           }
          ],
          "surface": [
           {
            "colorbar": {
             "outlinewidth": 0,
             "ticks": ""
            },
            "colorscale": [
             [
              0,
              "#0d0887"
             ],
             [
              0.1111111111111111,
              "#46039f"
             ],
             [
              0.2222222222222222,
              "#7201a8"
             ],
             [
              0.3333333333333333,
              "#9c179e"
             ],
             [
              0.4444444444444444,
              "#bd3786"
             ],
             [
              0.5555555555555556,
              "#d8576b"
             ],
             [
              0.6666666666666666,
              "#ed7953"
             ],
             [
              0.7777777777777778,
              "#fb9f3a"
             ],
             [
              0.8888888888888888,
              "#fdca26"
             ],
             [
              1,
              "#f0f921"
             ]
            ],
            "type": "surface"
           }
          ],
          "table": [
           {
            "cells": {
             "fill": {
              "color": "#EBF0F8"
             },
             "line": {
              "color": "white"
             }
            },
            "header": {
             "fill": {
              "color": "#C8D4E3"
             },
             "line": {
              "color": "white"
             }
            },
            "type": "table"
           }
          ]
         },
         "layout": {
          "annotationdefaults": {
           "arrowcolor": "#2a3f5f",
           "arrowhead": 0,
           "arrowwidth": 1
          },
          "autotypenumbers": "strict",
          "coloraxis": {
           "colorbar": {
            "outlinewidth": 0,
            "ticks": ""
           }
          },
          "colorscale": {
           "diverging": [
            [
             0,
             "#8e0152"
            ],
            [
             0.1,
             "#c51b7d"
            ],
            [
             0.2,
             "#de77ae"
            ],
            [
             0.3,
             "#f1b6da"
            ],
            [
             0.4,
             "#fde0ef"
            ],
            [
             0.5,
             "#f7f7f7"
            ],
            [
             0.6,
             "#e6f5d0"
            ],
            [
             0.7,
             "#b8e186"
            ],
            [
             0.8,
             "#7fbc41"
            ],
            [
             0.9,
             "#4d9221"
            ],
            [
             1,
             "#276419"
            ]
           ],
           "sequential": [
            [
             0,
             "#0d0887"
            ],
            [
             0.1111111111111111,
             "#46039f"
            ],
            [
             0.2222222222222222,
             "#7201a8"
            ],
            [
             0.3333333333333333,
             "#9c179e"
            ],
            [
             0.4444444444444444,
             "#bd3786"
            ],
            [
             0.5555555555555556,
             "#d8576b"
            ],
            [
             0.6666666666666666,
             "#ed7953"
            ],
            [
             0.7777777777777778,
             "#fb9f3a"
            ],
            [
             0.8888888888888888,
             "#fdca26"
            ],
            [
             1,
             "#f0f921"
            ]
           ],
           "sequentialminus": [
            [
             0,
             "#0d0887"
            ],
            [
             0.1111111111111111,
             "#46039f"
            ],
            [
             0.2222222222222222,
             "#7201a8"
            ],
            [
             0.3333333333333333,
             "#9c179e"
            ],
            [
             0.4444444444444444,
             "#bd3786"
            ],
            [
             0.5555555555555556,
             "#d8576b"
            ],
            [
             0.6666666666666666,
             "#ed7953"
            ],
            [
             0.7777777777777778,
             "#fb9f3a"
            ],
            [
             0.8888888888888888,
             "#fdca26"
            ],
            [
             1,
             "#f0f921"
            ]
           ]
          },
          "colorway": [
           "#636efa",
           "#EF553B",
           "#00cc96",
           "#ab63fa",
           "#FFA15A",
           "#19d3f3",
           "#FF6692",
           "#B6E880",
           "#FF97FF",
           "#FECB52"
          ],
          "font": {
           "color": "#2a3f5f"
          },
          "geo": {
           "bgcolor": "white",
           "lakecolor": "white",
           "landcolor": "#E5ECF6",
           "showlakes": true,
           "showland": true,
           "subunitcolor": "white"
          },
          "hoverlabel": {
           "align": "left"
          },
          "hovermode": "closest",
          "mapbox": {
           "style": "light"
          },
          "paper_bgcolor": "white",
          "plot_bgcolor": "#E5ECF6",
          "polar": {
           "angularaxis": {
            "gridcolor": "white",
            "linecolor": "white",
            "ticks": ""
           },
           "bgcolor": "#E5ECF6",
           "radialaxis": {
            "gridcolor": "white",
            "linecolor": "white",
            "ticks": ""
           }
          },
          "scene": {
           "xaxis": {
            "backgroundcolor": "#E5ECF6",
            "gridcolor": "white",
            "gridwidth": 2,
            "linecolor": "white",
            "showbackground": true,
            "ticks": "",
            "zerolinecolor": "white"
           },
           "yaxis": {
            "backgroundcolor": "#E5ECF6",
            "gridcolor": "white",
            "gridwidth": 2,
            "linecolor": "white",
            "showbackground": true,
            "ticks": "",
            "zerolinecolor": "white"
           },
           "zaxis": {
            "backgroundcolor": "#E5ECF6",
            "gridcolor": "white",
            "gridwidth": 2,
            "linecolor": "white",
            "showbackground": true,
            "ticks": "",
            "zerolinecolor": "white"
           }
          },
          "shapedefaults": {
           "line": {
            "color": "#2a3f5f"
           }
          },
          "ternary": {
           "aaxis": {
            "gridcolor": "white",
            "linecolor": "white",
            "ticks": ""
           },
           "baxis": {
            "gridcolor": "white",
            "linecolor": "white",
            "ticks": ""
           },
           "bgcolor": "#E5ECF6",
           "caxis": {
            "gridcolor": "white",
            "linecolor": "white",
            "ticks": ""
           }
          },
          "title": {
           "x": 0.05
          },
          "xaxis": {
           "automargin": true,
           "gridcolor": "white",
           "linecolor": "white",
           "ticks": "",
           "title": {
            "standoff": 15
           },
           "zerolinecolor": "white",
           "zerolinewidth": 2
          },
          "yaxis": {
           "automargin": true,
           "gridcolor": "white",
           "linecolor": "white",
           "ticks": "",
           "title": {
            "standoff": 15
           },
           "zerolinecolor": "white",
           "zerolinewidth": 2
          }
         }
        },
        "title": {
         "font": {
          "size": 32
         },
         "text": "<b>Canola Oil TG Comparison Across Processing Steps<b>",
         "x": 0.5
        },
        "width": 1000,
        "xaxis": {
         "tickfont": {
          "family": "Arial Black",
          "size": 20
         },
         "title": {
          "font": {
           "size": 24
          },
          "text": "<i>n-9/n-7 FA 18:1 Isomer Ratio<i>"
         }
        },
        "yaxis": {
         "categoryorder": "category ascending",
         "tickfont": {
          "family": "Arial Black",
          "size": 20
         },
         "title": {
          "font": {
           "size": 24
          },
          "text": "<i>Lipid Structure<i>"
         }
        }
       }
      },
      "text/html": [
       "<div>                            <div id=\"a0aa72a0-36e9-499b-8fd4-d4aecf2e8150\" class=\"plotly-graph-div\" style=\"height:600px; width:1000px;\"></div>            <script type=\"text/javascript\">                require([\"plotly\"], function(Plotly) {                    window.PLOTLYENV=window.PLOTLYENV || {};                                    if (document.getElementById(\"a0aa72a0-36e9-499b-8fd4-d4aecf2e8150\")) {                    Plotly.newPlot(                        \"a0aa72a0-36e9-499b-8fd4-d4aecf2e8150\",                        [{\"marker\": {\"color\": \"blue\", \"colorscale\": [[0.0, \"rgb(247,251,255)\"], [0.125, \"rgb(222,235,247)\"], [0.25, \"rgb(198,219,239)\"], [0.375, \"rgb(158,202,225)\"], [0.5, \"rgb(107,174,214)\"], [0.625, \"rgb(66,146,198)\"], [0.75, \"rgb(33,113,181)\"], [0.875, \"rgb(8,81,156)\"], [1.0, \"rgb(8,48,107)\"]], \"line\": {\"color\": \"darkblue\", \"width\": 1}}, \"name\": \"Crude\", \"orientation\": \"h\", \"type\": \"bar\", \"x\": [4.23, 3.16, 3.05, 4.31, 5.81, 4.91, 4.09], \"y\": [\"TG(52:2)\", \"TG(52:3)\", \"TG(52:4)\", \"TG(54:2)\", \"TG(54:3)\", \"TG(54:4)\", \"TG(54:5)\"]}, {\"marker\": {\"color\": \"red\", \"colorscale\": [[0.0, \"rgb(255,245,240)\"], [0.125, \"rgb(254,224,210)\"], [0.25, \"rgb(252,187,161)\"], [0.375, \"rgb(252,146,114)\"], [0.5, \"rgb(251,106,74)\"], [0.625, \"rgb(239,59,44)\"], [0.75, \"rgb(203,24,29)\"], [0.875, \"rgb(165,15,21)\"], [1.0, \"rgb(103,0,13)\"]], \"line\": {\"color\": \"darkred\", \"width\": 1}}, \"name\": \"Degummed\", \"orientation\": \"h\", \"type\": \"bar\", \"x\": [4.31, 2.5, 2.96, 3.84, 5.75, 4.07, 3.83], \"y\": [\"TG(52:2)\", \"TG(52:3)\", \"TG(52:4)\", \"TG(54:2)\", \"TG(54:3)\", \"TG(54:4)\", \"TG(54:5)\"]}, {\"marker\": {\"color\": \"LimeGreen\", \"colorscale\": [[0.0, \"rgb(247,252,245)\"], [0.125, \"rgb(229,245,224)\"], [0.25, \"rgb(199,233,192)\"], [0.375, \"rgb(161,217,155)\"], [0.5, \"rgb(116,196,118)\"], [0.625, \"rgb(65,171,93)\"], [0.75, \"rgb(35,139,69)\"], [0.875, \"rgb(0,109,44)\"], [1.0, \"rgb(0,68,27)\"]], \"line\": {\"color\": \"darkgreen\", \"width\": 1}}, \"name\": \"RBD\", \"orientation\": \"h\", \"type\": \"bar\", \"x\": [4.7, 3.07, 2.68, 4.48, 5.41, 4.97, 3.83], \"y\": [\"TG(52:2)\", \"TG(52:3)\", \"TG(52:4)\", \"TG(54:2)\", \"TG(54:3)\", \"TG(54:4)\", \"TG(54:5)\"]}],                        {\"barmode\": \"group\", \"height\": 600, \"legend\": {\"font\": {\"size\": 20}, \"title\": {\"font\": {\"size\": 24}}, \"traceorder\": \"reversed\"}, \"template\": {\"data\": {\"bar\": [{\"error_x\": {\"color\": \"#2a3f5f\"}, \"error_y\": {\"color\": \"#2a3f5f\"}, \"marker\": {\"line\": {\"color\": \"#E5ECF6\", \"width\": 0.5}}, \"type\": \"bar\"}], \"barpolar\": [{\"marker\": {\"line\": {\"color\": \"#E5ECF6\", \"width\": 0.5}}, \"type\": \"barpolar\"}], \"carpet\": [{\"aaxis\": {\"endlinecolor\": \"#2a3f5f\", \"gridcolor\": \"white\", \"linecolor\": \"white\", \"minorgridcolor\": \"white\", \"startlinecolor\": \"#2a3f5f\"}, \"baxis\": {\"endlinecolor\": \"#2a3f5f\", \"gridcolor\": \"white\", \"linecolor\": \"white\", \"minorgridcolor\": \"white\", \"startlinecolor\": \"#2a3f5f\"}, \"type\": \"carpet\"}], \"choropleth\": [{\"colorbar\": {\"outlinewidth\": 0, \"ticks\": \"\"}, \"type\": \"choropleth\"}], \"contour\": [{\"colorbar\": {\"outlinewidth\": 0, \"ticks\": \"\"}, \"colorscale\": [[0.0, \"#0d0887\"], [0.1111111111111111, \"#46039f\"], [0.2222222222222222, \"#7201a8\"], [0.3333333333333333, \"#9c179e\"], [0.4444444444444444, \"#bd3786\"], [0.5555555555555556, \"#d8576b\"], [0.6666666666666666, \"#ed7953\"], [0.7777777777777778, \"#fb9f3a\"], [0.8888888888888888, \"#fdca26\"], [1.0, \"#f0f921\"]], \"type\": \"contour\"}], \"contourcarpet\": [{\"colorbar\": {\"outlinewidth\": 0, \"ticks\": \"\"}, \"type\": \"contourcarpet\"}], \"heatmap\": [{\"colorbar\": {\"outlinewidth\": 0, \"ticks\": \"\"}, \"colorscale\": [[0.0, \"#0d0887\"], [0.1111111111111111, \"#46039f\"], [0.2222222222222222, \"#7201a8\"], [0.3333333333333333, \"#9c179e\"], [0.4444444444444444, \"#bd3786\"], [0.5555555555555556, \"#d8576b\"], [0.6666666666666666, \"#ed7953\"], [0.7777777777777778, \"#fb9f3a\"], [0.8888888888888888, \"#fdca26\"], [1.0, \"#f0f921\"]], \"type\": \"heatmap\"}], \"heatmapgl\": [{\"colorbar\": {\"outlinewidth\": 0, \"ticks\": \"\"}, \"colorscale\": [[0.0, \"#0d0887\"], [0.1111111111111111, \"#46039f\"], [0.2222222222222222, \"#7201a8\"], [0.3333333333333333, \"#9c179e\"], [0.4444444444444444, \"#bd3786\"], [0.5555555555555556, \"#d8576b\"], [0.6666666666666666, \"#ed7953\"], [0.7777777777777778, \"#fb9f3a\"], [0.8888888888888888, \"#fdca26\"], [1.0, \"#f0f921\"]], \"type\": \"heatmapgl\"}], \"histogram\": [{\"marker\": {\"colorbar\": {\"outlinewidth\": 0, \"ticks\": \"\"}}, \"type\": \"histogram\"}], \"histogram2d\": [{\"colorbar\": {\"outlinewidth\": 0, \"ticks\": \"\"}, \"colorscale\": [[0.0, \"#0d0887\"], [0.1111111111111111, \"#46039f\"], [0.2222222222222222, \"#7201a8\"], [0.3333333333333333, \"#9c179e\"], [0.4444444444444444, \"#bd3786\"], [0.5555555555555556, \"#d8576b\"], [0.6666666666666666, \"#ed7953\"], [0.7777777777777778, \"#fb9f3a\"], [0.8888888888888888, \"#fdca26\"], [1.0, \"#f0f921\"]], \"type\": \"histogram2d\"}], \"histogram2dcontour\": [{\"colorbar\": {\"outlinewidth\": 0, \"ticks\": \"\"}, \"colorscale\": [[0.0, \"#0d0887\"], [0.1111111111111111, \"#46039f\"], [0.2222222222222222, \"#7201a8\"], [0.3333333333333333, \"#9c179e\"], [0.4444444444444444, \"#bd3786\"], [0.5555555555555556, \"#d8576b\"], [0.6666666666666666, \"#ed7953\"], [0.7777777777777778, \"#fb9f3a\"], [0.8888888888888888, \"#fdca26\"], [1.0, \"#f0f921\"]], \"type\": \"histogram2dcontour\"}], \"mesh3d\": [{\"colorbar\": {\"outlinewidth\": 0, \"ticks\": \"\"}, \"type\": \"mesh3d\"}], \"parcoords\": [{\"line\": {\"colorbar\": {\"outlinewidth\": 0, \"ticks\": \"\"}}, \"type\": \"parcoords\"}], \"pie\": [{\"automargin\": true, \"type\": \"pie\"}], \"scatter\": [{\"marker\": {\"colorbar\": {\"outlinewidth\": 0, \"ticks\": \"\"}}, \"type\": \"scatter\"}], \"scatter3d\": [{\"line\": {\"colorbar\": {\"outlinewidth\": 0, \"ticks\": \"\"}}, \"marker\": {\"colorbar\": {\"outlinewidth\": 0, \"ticks\": \"\"}}, \"type\": \"scatter3d\"}], \"scattercarpet\": [{\"marker\": {\"colorbar\": {\"outlinewidth\": 0, \"ticks\": \"\"}}, \"type\": \"scattercarpet\"}], \"scattergeo\": [{\"marker\": {\"colorbar\": {\"outlinewidth\": 0, \"ticks\": \"\"}}, \"type\": \"scattergeo\"}], \"scattergl\": [{\"marker\": {\"colorbar\": {\"outlinewidth\": 0, \"ticks\": \"\"}}, \"type\": \"scattergl\"}], \"scattermapbox\": [{\"marker\": {\"colorbar\": {\"outlinewidth\": 0, \"ticks\": \"\"}}, \"type\": \"scattermapbox\"}], \"scatterpolar\": [{\"marker\": {\"colorbar\": {\"outlinewidth\": 0, \"ticks\": \"\"}}, \"type\": \"scatterpolar\"}], \"scatterpolargl\": [{\"marker\": {\"colorbar\": {\"outlinewidth\": 0, \"ticks\": \"\"}}, \"type\": \"scatterpolargl\"}], \"scatterternary\": [{\"marker\": {\"colorbar\": {\"outlinewidth\": 0, \"ticks\": \"\"}}, \"type\": \"scatterternary\"}], \"surface\": [{\"colorbar\": {\"outlinewidth\": 0, \"ticks\": \"\"}, \"colorscale\": [[0.0, \"#0d0887\"], [0.1111111111111111, \"#46039f\"], [0.2222222222222222, \"#7201a8\"], [0.3333333333333333, \"#9c179e\"], [0.4444444444444444, \"#bd3786\"], [0.5555555555555556, \"#d8576b\"], [0.6666666666666666, \"#ed7953\"], [0.7777777777777778, \"#fb9f3a\"], [0.8888888888888888, \"#fdca26\"], [1.0, \"#f0f921\"]], \"type\": \"surface\"}], \"table\": [{\"cells\": {\"fill\": {\"color\": \"#EBF0F8\"}, \"line\": {\"color\": \"white\"}}, \"header\": {\"fill\": {\"color\": \"#C8D4E3\"}, \"line\": {\"color\": \"white\"}}, \"type\": \"table\"}]}, \"layout\": {\"annotationdefaults\": {\"arrowcolor\": \"#2a3f5f\", \"arrowhead\": 0, \"arrowwidth\": 1}, \"autotypenumbers\": \"strict\", \"coloraxis\": {\"colorbar\": {\"outlinewidth\": 0, \"ticks\": \"\"}}, \"colorscale\": {\"diverging\": [[0, \"#8e0152\"], [0.1, \"#c51b7d\"], [0.2, \"#de77ae\"], [0.3, \"#f1b6da\"], [0.4, \"#fde0ef\"], [0.5, \"#f7f7f7\"], [0.6, \"#e6f5d0\"], [0.7, \"#b8e186\"], [0.8, \"#7fbc41\"], [0.9, \"#4d9221\"], [1, \"#276419\"]], \"sequential\": [[0.0, \"#0d0887\"], [0.1111111111111111, \"#46039f\"], [0.2222222222222222, \"#7201a8\"], [0.3333333333333333, \"#9c179e\"], [0.4444444444444444, \"#bd3786\"], [0.5555555555555556, \"#d8576b\"], [0.6666666666666666, \"#ed7953\"], [0.7777777777777778, \"#fb9f3a\"], [0.8888888888888888, \"#fdca26\"], [1.0, \"#f0f921\"]], \"sequentialminus\": [[0.0, \"#0d0887\"], [0.1111111111111111, \"#46039f\"], [0.2222222222222222, \"#7201a8\"], [0.3333333333333333, \"#9c179e\"], [0.4444444444444444, \"#bd3786\"], [0.5555555555555556, \"#d8576b\"], [0.6666666666666666, \"#ed7953\"], [0.7777777777777778, \"#fb9f3a\"], [0.8888888888888888, \"#fdca26\"], [1.0, \"#f0f921\"]]}, \"colorway\": [\"#636efa\", \"#EF553B\", \"#00cc96\", \"#ab63fa\", \"#FFA15A\", \"#19d3f3\", \"#FF6692\", \"#B6E880\", \"#FF97FF\", \"#FECB52\"], \"font\": {\"color\": \"#2a3f5f\"}, \"geo\": {\"bgcolor\": \"white\", \"lakecolor\": \"white\", \"landcolor\": \"#E5ECF6\", \"showlakes\": true, \"showland\": true, \"subunitcolor\": \"white\"}, \"hoverlabel\": {\"align\": \"left\"}, \"hovermode\": \"closest\", \"mapbox\": {\"style\": \"light\"}, \"paper_bgcolor\": \"white\", \"plot_bgcolor\": \"#E5ECF6\", \"polar\": {\"angularaxis\": {\"gridcolor\": \"white\", \"linecolor\": \"white\", \"ticks\": \"\"}, \"bgcolor\": \"#E5ECF6\", \"radialaxis\": {\"gridcolor\": \"white\", \"linecolor\": \"white\", \"ticks\": \"\"}}, \"scene\": {\"xaxis\": {\"backgroundcolor\": \"#E5ECF6\", \"gridcolor\": \"white\", \"gridwidth\": 2, \"linecolor\": \"white\", \"showbackground\": true, \"ticks\": \"\", \"zerolinecolor\": \"white\"}, \"yaxis\": {\"backgroundcolor\": \"#E5ECF6\", \"gridcolor\": \"white\", \"gridwidth\": 2, \"linecolor\": \"white\", \"showbackground\": true, \"ticks\": \"\", \"zerolinecolor\": \"white\"}, \"zaxis\": {\"backgroundcolor\": \"#E5ECF6\", \"gridcolor\": \"white\", \"gridwidth\": 2, \"linecolor\": \"white\", \"showbackground\": true, \"ticks\": \"\", \"zerolinecolor\": \"white\"}}, \"shapedefaults\": {\"line\": {\"color\": \"#2a3f5f\"}}, \"ternary\": {\"aaxis\": {\"gridcolor\": \"white\", \"linecolor\": \"white\", \"ticks\": \"\"}, \"baxis\": {\"gridcolor\": \"white\", \"linecolor\": \"white\", \"ticks\": \"\"}, \"bgcolor\": \"#E5ECF6\", \"caxis\": {\"gridcolor\": \"white\", \"linecolor\": \"white\", \"ticks\": \"\"}}, \"title\": {\"x\": 0.05}, \"xaxis\": {\"automargin\": true, \"gridcolor\": \"white\", \"linecolor\": \"white\", \"ticks\": \"\", \"title\": {\"standoff\": 15}, \"zerolinecolor\": \"white\", \"zerolinewidth\": 2}, \"yaxis\": {\"automargin\": true, \"gridcolor\": \"white\", \"linecolor\": \"white\", \"ticks\": \"\", \"title\": {\"standoff\": 15}, \"zerolinecolor\": \"white\", \"zerolinewidth\": 2}}}, \"title\": {\"font\": {\"size\": 32}, \"text\": \"<b>Canola Oil TG Comparison Across Processing Steps<b>\", \"x\": 0.5}, \"width\": 1000, \"xaxis\": {\"tickfont\": {\"family\": \"Arial Black\", \"size\": 20}, \"title\": {\"font\": {\"size\": 24}, \"text\": \"<i>n-9/n-7 FA 18:1 Isomer Ratio<i>\"}}, \"yaxis\": {\"categoryorder\": \"category ascending\", \"tickfont\": {\"family\": \"Arial Black\", \"size\": 20}, \"title\": {\"font\": {\"size\": 24}, \"text\": \"<i>Lipid Structure<i>\"}}},                        {\"responsive\": true}                    ).then(function(){\n",
       "                            \n",
       "var gd = document.getElementById('a0aa72a0-36e9-499b-8fd4-d4aecf2e8150');\n",
       "var x = new MutationObserver(function (mutations, observer) {{\n",
       "        var display = window.getComputedStyle(gd).display;\n",
       "        if (!display || display === 'none') {{\n",
       "            console.log([gd, 'removed!']);\n",
       "            Plotly.purge(gd);\n",
       "            observer.disconnect();\n",
       "        }}\n",
       "}});\n",
       "\n",
       "// Listen for the removal of the full notebook cells\n",
       "var notebookContainer = gd.closest('#notebook-container');\n",
       "if (notebookContainer) {{\n",
       "    x.observe(notebookContainer, {childList: true});\n",
       "}}\n",
       "\n",
       "// Listen for the clearing of the current output cell\n",
       "var outputEl = gd.closest('.output');\n",
       "if (outputEl) {{\n",
       "    x.observe(outputEl, {childList: true});\n",
       "}}\n",
       "\n",
       "                        })                };                });            </script>        </div>"
      ]
     },
     "metadata": {},
     "output_type": "display_data"
    }
   ],
   "source": [
    "from plot import plot_canola_comparison\n",
    "\n",
    "# Assuming df_sample1_ratio, df_sample2_ratio, and df_sample3_ratio are already loaded\n",
    "\n",
    "# Plot and display the comparison\n",
    "plot_canola_comparison(df_sample1_ratio, df_sample2_ratio, df_sample3_ratio)\n",
    "\n",
    "# Alternatively, save the plot to a file\n",
    "# plot_canola_comparison(df_sample1_ratio, df_sample2_ratio, df_sample3_ratio, output_file=\"canola_comparison.png\")\n"
   ]
  }
 ],
 "metadata": {
  "kernelspec": {
   "display_name": "pymzml",
   "language": "python",
   "name": "python3"
  },
  "language_info": {
   "codemirror_mode": {
    "name": "ipython",
    "version": 3
   },
   "file_extension": ".py",
   "mimetype": "text/x-python",
   "name": "python",
   "nbconvert_exporter": "python",
   "pygments_lexer": "ipython3",
   "version": "3.7.13"
  },
  "orig_nbformat": 4
 },
 "nbformat": 4,
 "nbformat_minor": 2
}
