{
 "cells": [
  {
   "cell_type": "markdown",
   "metadata": {},
   "source": [
    "# Comprehensive Lipidome Automation Workflow (CLAW)\n",
    "\n",
    "Welcome to CLAW, a tool designed to facilitate and optimize the processing of lipidomic MRM data. This Jupyter notebook encapsulates a suite of tools that streamline the various stages of lipidomics data analysis.\n",
    "\n",
    "Our toolset enables users to efficiently process MRM data files in the mzML format. Upload a file and CLAW will parse the data into a structured Pandas dataframe. This dataframe includes critical information like sample_ID, MRM transition, and signal intensity. Furthermore, our tool aligns each MRM transition with a default or custom lipid_database for accurate and swift annotation.\n",
    "\n",
    "Moreover, CLAW is equipped with an OzESI option, a tool to elucidate the double bond location in lipid isomers. This feature allows users to input OzESI data and pinpoint the precise location of double bonds in isomeric lipids. Users have the flexibility to select which double bond locations they want to analyze. Following this, CLAW autonomously predicts potential m/z values and cross-references these predictions with sample data, ensuring a comprehensive and meticulous analysis.\n",
    "\n",
    "With automation at its core, CLAW eliminates the need for manual data processing, significantly reducing time expenditure. It is a robust and invaluable tool for handling large volumes of lipid MRM data, accelerating scientific discovery in the field of lipidomics."
   ]
  },
  {
   "cell_type": "markdown",
   "metadata": {},
   "source": [
    "Import all necessary libraries"
   ]
  },
  {
   "cell_type": "code",
   "execution_count": 1,
   "metadata": {},
   "outputs": [
    {
     "name": "stdout",
     "output_type": "stream",
     "text": [
      "No module named 'ms_deisotope._c.averagine' averagine\n",
      "No module named 'ms_deisotope._c.scoring'\n",
      "No module named 'ms_deisotope._c.deconvoluter_base'\n",
      "No module named 'ms_deisotope._c.deconvoluter_base'\n",
      "No module named 'ms_deisotope._c.deconvoluter_base'\n"
     ]
    }
   ],
   "source": [
    "# Standard library imports\n",
    "import csv\n",
    "import json\n",
    "import math\n",
    "import os\n",
    "import re\n",
    "import time\n",
    "import warnings\n",
    "\n",
    "# Third-party imports\n",
    "import ipywidgets as widgets\n",
    "import matplotlib.colors as mcolors\n",
    "import matplotlib.pyplot as plt\n",
    "import numpy as np\n",
    "import pandas as pd\n",
    "import plotly.express as px\n",
    "import plotly.graph_objs as go\n",
    "import plotly.io as pio\n",
    "import pymzml\n",
    "from IPython.display import Image, clear_output, display\n",
    "from collections import defaultdict\n",
    "\n",
    "# Custom Scripts\n",
    "from NO_AVERAGE_SCRIPTS import (average_pie_chart_no_repeats,\n",
    "                                filter_dataframe, full_parse,\n",
    "                                hex_to_rgba_hex, json_to_string,\n",
    "                                make_bar_plot_comparisons,\n",
    "                                make_pie_chart_no_replicates,\n",
    "                                prep_edge_R)\n",
    "\n",
    "# GUI tools\n",
    "from tools.GUI import (assign_blank, display_pair_widgets, filter_samples,\n",
    "                       folder_navigator, get_unique_json_objects, \n",
    "                       load_blank_name, load_data, load_data_labels, \n",
    "                       load_project_folder, remove_empty_entries)\n",
    "\n",
    "# Parsing tools\n",
    "from tools.parsing import add_suffix\n",
    "\n",
    "# Pre-folder path\n",
    "Pre_folder = './Projects/'\n"
   ]
  },
  {
   "cell_type": "code",
   "execution_count": 2,
   "metadata": {},
   "outputs": [],
   "source": [
    "# import os\n",
    "# import shutil\n",
    "\n",
    "# source_folder = \"Projects/liverLD_rerun/blank500\"\n",
    "# target_folder = \"Projects/liverLD_rerun/equisplash\"\n",
    "\n",
    "# # Ensure target folder exists\n",
    "# os.makedirs(target_folder, exist_ok=True)\n",
    "\n",
    "# for filename in os.listdir(source_folder):\n",
    "#     if \"equisplash\" in filename:\n",
    "#         source_path = os.path.join(source_folder, filename)\n",
    "#         target_path = os.path.join(target_folder, filename)\n",
    "        \n",
    "#         if os.path.isfile(source_path):\n",
    "#             print(f\"Moving file {filename} to {target_folder}\")\n",
    "#             shutil.move(source_path, target_path)\n",
    "#         else:\n",
    "#             print(f\"Skipped {filename}: not a file.\")\n"
   ]
  },
  {
   "cell_type": "code",
   "execution_count": 30,
   "metadata": {},
   "outputs": [
    {
     "name": "stdout",
     "output_type": "stream",
     "text": [
      "Number of files in folder Projects/liverLD_rerun/liverLDold: 120\n",
      "Number of files in folder Projects/liverLD_rerun/liverLDrerun: 120\n",
      "Number of files in folder Projects/liverLD_rerun/mzml: 240\n",
      "\n",
      "Prefixes in liverLDold not in liverLDrerun:\n",
      "TG226-DOD\n",
      "DG-181-FAD\n",
      "TG225-FAD\n",
      "TG181-DOD\n",
      "DG-161-DOD\n",
      "PI-FAD173-\n",
      "TG140-DOD\n",
      "PC-FAD173-\n",
      "PE-DOD73-5\n",
      "AC-FAD131-\n",
      "TG161-FAD\n",
      "TG160-FAD\n",
      "PC-DOD73-5\n",
      "TG183-DOD\n",
      "AC-FAD173-\n",
      "PI-DOD73-5\n",
      "PC-FAD131-\n",
      "PS-DOD73-5\n",
      "TG181-FAD\n",
      "DG-160-FAD\n",
      "TG182-FAD\n",
      "DG-160-DOD\n",
      "DG-161-FAD\n",
      "CE-DOD73-5\n",
      "PS-FAD131-\n",
      "TG225-DOD\n",
      "DG-182-FAD\n",
      "CER-DOD73-\n",
      "AC-DOD73-5\n",
      "TG183-FAD\n",
      "DG-180-DOD\n",
      "PE-FAD173-\n",
      "DG-181-DOD\n",
      "FFA-FAD131\n",
      "DG-180-FAD\n",
      "TG204-FAD\n",
      "DG-182-DOD\n",
      "FFA-FAD173\n",
      "TG180-DOD\n",
      "TG140-FAD\n",
      "PE-FAD131-\n",
      "CE-FAD131-\n",
      "TG226-FAD\n",
      "TG180-FAD\n",
      "PI-FAD131-\n",
      "PG-FAD131-\n",
      "TG160-DOD\n",
      "FFA-DOD73-\n",
      "PG-FAD173-\n",
      "TG204-DOD\n",
      "TG161-DOD\n",
      "TG182-DOD\n",
      "PG-DOD73-5\n",
      "CE-FAD173-\n",
      "PS-FAD173-\n",
      "\n",
      "Prefixes in liverLDrerun not in liverLDold:\n",
      "TG14-0-DOD\n",
      "PI-FAD131m\n",
      "DG18-2-DOD\n",
      "PG-FAD173m\n",
      "TG18-1-DOD\n",
      "TG18-1-FAD\n",
      "FA-FAD173m\n",
      "CER-DOD73m\n",
      "CE-FAD131m\n",
      "TG18-2-DOD\n",
      "TG22-6-FAD\n",
      "CE-DOD73m2\n",
      "TG18-2-FAD\n",
      "PE-DOD73m2\n",
      "TG16-1-FAD\n",
      "TG18-0-DOD\n",
      "DG18-1-DOD\n",
      "PG-FAD131m\n",
      "PS-FAD173m\n",
      "TG18-3-FAD\n",
      "PE-FAD173m\n",
      "PC-FAD131m\n",
      "FA-DOD73m2\n",
      "TG20-4-FAD\n",
      "TG22-6-DOD\n",
      "TG22-5-FAD\n",
      "PI-DOD73m2\n",
      "DG16-0-FAD\n",
      "PS-DOD73m2\n",
      "TG14-0-FAD\n",
      "DG16-1-FAD\n",
      "TG22-5-DOD\n",
      "DG18-0-FAD\n",
      "PE-FAD131m\n",
      "PC-FAD173m\n",
      "TG16-0-DOD\n",
      "TG18-0-FAD\n",
      "PC-DOD73m2\n",
      "DG16-1-DOD\n",
      "AC-DOD73m2\n",
      "DG16-0-DOD\n",
      "TG18-3-DOD\n",
      "CE-FAD173m\n",
      "AC-FAD131m\n",
      "PG-DOD73m2\n",
      "AC-FAD173m\n",
      "PI-FAD173m\n",
      "FA-FAD131m\n",
      "TG16-0-FAD\n",
      "DG18-1-FAD\n",
      "TG20-4-DOD\n",
      "DG18-2-FAD\n",
      "DG18-0-DOD\n",
      "TG16-1-DOD\n",
      "PS-FAD131m\n"
     ]
    }
   ],
   "source": [
    "# import os\n",
    "# import shutil\n",
    "\n",
    "# def normalize_name(name):\n",
    "#     return name.replace(\"_\", \"-\").replace(\"tag\", \"tg\").replace(\"TAG\", \"TG\")\n",
    "\n",
    "# def count_and_get_prefixes(folder_name, prefix_length):\n",
    "#     prefixes = set()\n",
    "#     count = 0\n",
    "#     notneeded_folder = \"Projects/liverLD_rerun/notneeded\"\n",
    "#     os.makedirs(notneeded_folder, exist_ok=True)\n",
    "#     try:\n",
    "#         for name in os.listdir(folder_name):\n",
    "#             full_path = os.path.join(folder_name, name)\n",
    "#             if os.path.isfile(full_path):\n",
    "#                 if \"equisplash\" in name or \"r Blank\" in name or \"blank\" in name or \"IPA\" in name:\n",
    "#                     shutil.move(full_path, os.path.join(notneeded_folder, name))\n",
    "#                 else:\n",
    "#                     prefixes.add(normalize_name(name[:prefix_length]))\n",
    "#                     count += 1\n",
    "#         return count, prefixes\n",
    "#     except FileNotFoundError:\n",
    "#         print(f\"Folder {folder_name} not found!\")\n",
    "#         return 0, set()\n",
    "\n",
    "# folders = ['Projects/liverLD_rerun/liverLDold', 'Projects/liverLD_rerun/liverLDrerun', 'Projects/liverLD_rerun/mzml']\n",
    "# prefix_length = 10\n",
    "\n",
    "# for folder in folders:\n",
    "#     count, prefixes = count_and_get_prefixes(folder, prefix_length)\n",
    "#     print(f\"Number of files in folder {folder}: {count}\")\n",
    "\n",
    "# liverLDold_count, liverLDold_prefixes = count_and_get_prefixes(folders[0], prefix_length)\n",
    "# liverLDrerun_count, liverLDrerun_prefixes = count_and_get_prefixes(folders[1], prefix_length)\n",
    "\n",
    "# non_matching_prefixes_liverLDold = liverLDold_prefixes - liverLDrerun_prefixes\n",
    "# non_matching_prefixes_liverLDrerun = liverLDrerun_prefixes - liverLDold_prefixes\n",
    "\n",
    "# print(\"\\nPrefixes in liverLDold not in liverLDrerun:\")\n",
    "# for prefix in non_matching_prefixes_liverLDold:\n",
    "#     print(prefix)\n",
    "\n",
    "# print(\"\\nPrefixes in liverLDrerun not in liverLDold:\")\n",
    "# for prefix in non_matching_prefixes_liverLDrerun:\n",
    "#     print(prefix)\n",
    "\n"
   ]
  },
  {
   "cell_type": "markdown",
   "metadata": {},
   "source": [
    "In the given Python code snippet, various parameters and flags are set which configure the execution of a lipidomic data parsing and visualization process. The name of the output file (file_name_to_save) is set to 'TEST' and an additional descriptor (extra_name) is assigned as 'Blank1'. The tolerance for acceptable error during data parsing is set to 0.1. Flags for whether to remove standard deviation values from the dataset (remove_std), whether to save the processed data (save_data), whether to load pre-existing parsed data (load_previously_parsed), and whether to utilize a custom dataset (custom_data) are all set to True"
   ]
  },
  {
   "cell_type": "code",
   "execution_count": 2,
   "metadata": {},
   "outputs": [],
   "source": [
    "file_name_to_save = 'TEST' # Specifies the output file name\n",
    "extra_name = \"Blank1\" # Additional descriptor for the output file\n",
    "tolerance = 0.1 # Acceptable error level for data parsing\n",
    "remove_std = True # Flag to decide if standard deviation values should be removed\n",
    "save_data= True # Flag to decide if processed data should be saved\n",
    "load_previously_parsed = False # Flag to decide if pre-existing parsed data should be loaded\n",
    "custom_data=True # Flag to decide if a custom dataset should be used"
   ]
  },
  {
   "cell_type": "markdown",
   "metadata": {},
   "source": [
    "**Project Organization and Data Preparation Summary**\n",
    "\n",
    "This section of the code primarily focuses on project organization, sample labelling, and data preparation. Initially, it employs a folder navigation system to manually select the desired project folder. It then loads the relevant files like mzml files, lipid database, and label file from their respective directories within the chosen project folder. Unique samples are identified and a 'blank sample' is assigned for further analysis. The label data is further refined by filtering the samples and removing unnecessary columns. Finally, it prepares a list of labels, inclusive of \"Class\" and \"Lipid\" for the subsequent steps of the analysis."
   ]
  },
  {
   "cell_type": "code",
   "execution_count": 3,
   "metadata": {
    "scrolled": false
   },
   "outputs": [
    {
     "data": {
      "application/vnd.jupyter.widget-view+json": {
       "model_id": "460a595ffe214e439cc5f6dd07a6ecb2",
       "version_major": 2,
       "version_minor": 0
      },
      "text/plain": [
       "Button(description='Navigate', style=ButtonStyle())"
      ]
     },
     "metadata": {},
     "output_type": "display_data"
    },
    {
     "data": {
      "application/vnd.jupyter.widget-view+json": {
       "model_id": "86f4aa550bf44175a1064dbd035fc06e",
       "version_major": 2,
       "version_minor": 0
      },
      "text/plain": [
       "Button(description='Select this folder', style=ButtonStyle())"
      ]
     },
     "metadata": {},
     "output_type": "display_data"
    },
    {
     "data": {
      "application/vnd.jupyter.widget-view+json": {
       "model_id": "5a3a8dea6df546dc8dc0776702427120",
       "version_major": 2,
       "version_minor": 0
      },
      "text/plain": [
       "Button(description='Select Current Folder', style=ButtonStyle())"
      ]
     },
     "metadata": {},
     "output_type": "display_data"
    },
    {
     "data": {
      "application/vnd.jupyter.widget-view+json": {
       "model_id": "8db1aa49ba08425fbb95e6b94bab890d",
       "version_major": 2,
       "version_minor": 0
      },
      "text/plain": [
       "Select(options=('/home/sanjay/github/lipids/Lipidomics/lipid_platform/Projects',), rows=10, value='/home/sanja…"
      ]
     },
     "metadata": {},
     "output_type": "display_data"
    },
    {
     "data": {
      "application/vnd.jupyter.widget-view+json": {
       "model_id": "03e06f46009544bdbe9ab4312d5c4ce3",
       "version_major": 2,
       "version_minor": 0
      },
      "text/plain": [
       "Output()"
      ]
     },
     "metadata": {},
     "output_type": "display_data"
    },
    {
     "data": {
      "application/vnd.jupyter.widget-view+json": {
       "model_id": "f643f5ae947d4f03992433326f9b42d5",
       "version_major": 2,
       "version_minor": 0
      },
      "text/plain": [
       "Dropdown(description='Samples', options=('FAD131-5xFAD-M1liver_033123', 'FAD131-5xFAD-M2liver_033123', 'FAD131…"
      ]
     },
     "metadata": {},
     "output_type": "display_data"
    },
    {
     "data": {
      "application/vnd.jupyter.widget-view+json": {
       "model_id": "7bbf9fae64664203b316faf37f62b8e3",
       "version_major": 2,
       "version_minor": 0
      },
      "text/plain": [
       "Button(description='Assign Blank', style=ButtonStyle())"
      ]
     },
     "metadata": {},
     "output_type": "display_data"
    },
    {
     "data": {
      "application/vnd.jupyter.widget-view+json": {
       "model_id": "176cecc4ad1f4d53a19b31f4936028de",
       "version_major": 2,
       "version_minor": 0
      },
      "text/plain": [
       "Output()"
      ]
     },
     "metadata": {},
     "output_type": "display_data"
    },
    {
     "data": {
      "application/vnd.jupyter.widget-view+json": {
       "model_id": "132fb33afe0e43dcbc93c446307f0d24",
       "version_major": 2,
       "version_minor": 0
      },
      "text/plain": [
       "SelectMultiple(description='Samples', index=(0,), options=('FAD131-5xFAD-M1liver_033123', 'FAD131-5xFAD-M2live…"
      ]
     },
     "metadata": {},
     "output_type": "display_data"
    },
    {
     "data": {
      "application/vnd.jupyter.widget-view+json": {
       "model_id": "0b4ef24288f94bfe8a73ce66fe539ae1",
       "version_major": 2,
       "version_minor": 0
      },
      "text/plain": [
       "Button(description='Filter Samples', style=ButtonStyle())"
      ]
     },
     "metadata": {},
     "output_type": "display_data"
    },
    {
     "data": {
      "application/vnd.jupyter.widget-view+json": {
       "model_id": "436a4eec72e74fc598c7cf9d815b145a",
       "version_major": 2,
       "version_minor": 0
      },
      "text/plain": [
       "Output()"
      ]
     },
     "metadata": {},
     "output_type": "display_data"
    }
   ],
   "source": [
    "# Launch a GUI to choose project folder\n",
    "folder_navigator()\n",
    "\n",
    "# Load selected project folder path and define various necessary paths for processed results, mzml files, etc. \n",
    "Project_Folder = load_project_folder()\n",
    "folder_name_to_save = Project_Folder + 'Processed Results/'\n",
    "data_base_name_location = 'lipid_database/Lipid_Database.xlsx'\n",
    "mzml_folder = Project_Folder + \"mzml/\"\n",
    "Pre_edge_r_path = Project_Folder + \"Pre_EdgeR/\"\n",
    "plots_2_save_path = Project_Folder + \"Plots/\"\n",
    "\n",
    "# Load labels from CSV file\n",
    "label_file = Project_Folder + \"Labels/labels.csv\"\n",
    "labels_df = pd.read_csv(label_file)\n",
    "\n",
    "# Determine the blank sample\n",
    "# Get unique sample names\n",
    "unique_samples = labels_df['Sample Name'].unique()\n",
    "# Launch a GUI to choose blank sample\n",
    "assign_blank(unique_samples)\n",
    "blank_name = load_blank_name()  # Load selected blank sample name\n",
    "\n",
    "# Filter samples using GUI\n",
    "filter_samples(labels_df)\n",
    "labels_df2 = load_data_labels()\n",
    "\n",
    "# Remove unnecessary columns \"Sample Name\" and \"Position\" from labels_df2\n",
    "labels_df2 = labels_df2.drop([\"Sample Name\",\"Position\"], axis=1)\n",
    "#labels_df2 = labels_df2.drop([\"Sample Name\"], axis=1)\n",
    "\n",
    "\n",
    "# Get the list of label names and extend it with 'Class' and 'Lipid'\n",
    "labels_list = list(labels_df)\n",
    "labels_list = labels_list + [\"Class\",\"Lipid\"]\n"
   ]
  },
  {
   "cell_type": "code",
   "execution_count": 9,
   "metadata": {},
   "outputs": [
    {
     "data": {
      "application/vnd.jupyter.widget-view+json": {
       "model_id": "4ba345aaf3074be5bf22efd98bfb462d",
       "version_major": 2,
       "version_minor": 0
      },
      "text/plain": [
       "HBox(children=(SelectMultiple(description='Genotype', options=('5xFAD',), value=()), SelectMultiple(descriptio…"
      ]
     },
     "metadata": {},
     "output_type": "display_data"
    },
    {
     "data": {
      "application/vnd.jupyter.widget-view+json": {
       "model_id": "559a2e2128db4750ac9be4a3c6679d90",
       "version_major": 2,
       "version_minor": 0
      },
      "text/plain": [
       "HBox(children=(SelectMultiple(description='Sex', options=('Male',), value=()), SelectMultiple(description='Sex…"
      ]
     },
     "metadata": {},
     "output_type": "display_data"
    },
    {
     "data": {
      "application/vnd.jupyter.widget-view+json": {
       "model_id": "d6bddb9795d541c48576e9cc242ef24a",
       "version_major": 2,
       "version_minor": 0
      },
      "text/plain": [
       "HBox(children=(SelectMultiple(description='Brain Region', options=('Liver',), value=()), SelectMultiple(descri…"
      ]
     },
     "metadata": {},
     "output_type": "display_data"
    },
    {
     "data": {
      "application/vnd.jupyter.widget-view+json": {
       "model_id": "f17d7db34c9141abab0b90ca47f0944d",
       "version_major": 2,
       "version_minor": 0
      },
      "text/plain": [
       "HBox(children=(SelectMultiple(description='Time Period', options=('Older Data', 'New Data'), value=()), Select…"
      ]
     },
     "metadata": {},
     "output_type": "display_data"
    },
    {
     "data": {
      "application/vnd.jupyter.widget-view+json": {
       "model_id": "d271f82680cd415cb98f330af6264f82",
       "version_major": 2,
       "version_minor": 0
      },
      "text/plain": [
       "HBox(children=(Button(description='Finish', style=ButtonStyle()), Button(description='Add more JSON pairs', st…"
      ]
     },
     "metadata": {},
     "output_type": "display_data"
    }
   ],
   "source": [
    "main_json = {col: labels_df2[col].unique().tolist() for col in labels_df2}\n",
    "\n",
    "display_pair_widgets(main_json)"
   ]
  },
  {
   "cell_type": "markdown",
   "metadata": {},
   "source": [
    "## Lipid Data Processing and Plotting\n",
    "The following code performs lipid data processing and generates various plots to visualize the results. It includes the loading and parsing of lipid data, custom class renaming, creation of pie and bar plots, data preparation for EdgeR processing, and executing the EdgeR processing through a bash script."
   ]
  },
  {
   "cell_type": "code",
   "execution_count": 4,
   "metadata": {
    "scrolled": false
   },
   "outputs": [
    {
     "name": "stdout",
     "output_type": "stream",
     "text": [
      "Your data is PURRing...\n",
      "      Lipid Parent_Ion Product_Ion      Intensity       Transition Class  \\\n",
      "0       NaN      162.2        60.1   19279.461304    162.2 -> 60.1   NaN   \n",
      "1       NaN      162.2        85.1   10812.780724    162.2 -> 85.1   NaN   \n",
      "2       NaN      204.1        60.1    9357.400673    204.1 -> 60.1   NaN   \n",
      "3       NaN      204.1        85.1  282737.480774    204.1 -> 85.1   NaN   \n",
      "4       NaN      216.1        60.1    45793.36293    216.1 -> 60.1   NaN   \n",
      "...     ...        ...         ...            ...              ...   ...   \n",
      "37216   NaN     1057.0       711.7    2364.060173  1057.0 -> 711.7   NaN   \n",
      "37217   NaN     1059.0       713.7    2350.440155  1059.0 -> 713.7   NaN   \n",
      "37218   NaN     1061.0       715.7    2404.540176  1061.0 -> 715.7   NaN   \n",
      "37219   NaN     1062.9       717.6    2352.060162  1062.9 -> 717.6   NaN   \n",
      "37220   NaN     1065.0       719.7    2349.180157  1065.0 -> 719.7   NaN   \n",
      "\n",
      "                                      Sample_ID  \n",
      "0      AC_Blank_500x_N1__liverLD__8_8_23 copy 2  \n",
      "1      AC_Blank_500x_N1__liverLD__8_8_23 copy 2  \n",
      "2      AC_Blank_500x_N1__liverLD__8_8_23 copy 2  \n",
      "3      AC_Blank_500x_N1__liverLD__8_8_23 copy 2  \n",
      "4      AC_Blank_500x_N1__liverLD__8_8_23 copy 2  \n",
      "...                                         ...  \n",
      "37216  TG22-6_FAD173m1_500x_N1__liverLD__8_8_23  \n",
      "37217  TG22-6_FAD173m1_500x_N1__liverLD__8_8_23  \n",
      "37218  TG22-6_FAD173m1_500x_N1__liverLD__8_8_23  \n",
      "37219  TG22-6_FAD173m1_500x_N1__liverLD__8_8_23  \n",
      "37220  TG22-6_FAD173m1_500x_N1__liverLD__8_8_23  \n",
      "\n",
      "[37221 rows x 7 columns]\n",
      "['Lipid', 'Parent_Ion', 'Product_Ion', 'Intensity', 'Transition', 'Class', 'Sample_ID']\n",
      "['Lipid', 'Parent_Ion', 'Product_Ion', 'Intensity', 'Transition', 'Class', 'Sample_ID']\n",
      "                                                   Lipid  Parent_Ion  \\\n",
      "41                     (5Z,8Z)-tetradecadienoylcarnitine       368.3   \n",
      "43                          cis-5-Tetradecenoylcarnitine       370.3   \n",
      "45        TetradecanoylcarnitineO-tetradecanoylcarnitine       372.3   \n",
      "47                     (7Z,10Z)-hexadecadienoylcarnitine       396.3   \n",
      "49     O-palmitoleoylcarnitine, trans-Hexadec-2-enoyl...       398.3   \n",
      "...                                                  ...         ...   \n",
      "19824                                          PS (44:5)       894.6   \n",
      "19825                                          PS (44:4)       896.6   \n",
      "19827                                          PS (44:2)       900.7   \n",
      "19828                                          PS (44:1)       902.7   \n",
      "19829                                          PS (44:0)       904.7   \n",
      "\n",
      "       Product_Ion     Intensity      Transition Class  \\\n",
      "41            85.1  26167.741920   368.3 -> 85.1    AC   \n",
      "43            85.1   8544.200676   370.3 -> 85.1    AC   \n",
      "45            85.1   8699.760612   372.3 -> 85.1    AC   \n",
      "47            85.1  22663.561638   396.3 -> 85.1    AC   \n",
      "49            85.1   7062.320530   398.3 -> 85.1    AC   \n",
      "...            ...           ...             ...   ...   \n",
      "19824        709.6   2001.840153  894.6 -> 709.6    PS   \n",
      "19825        711.6   2002.380142  896.6 -> 711.6    PS   \n",
      "19827        715.7   2002.720131  900.7 -> 715.7    PS   \n",
      "19828        717.7   2001.660149  902.7 -> 717.7    PS   \n",
      "19829        719.7   2000.240139  904.7 -> 719.7    PS   \n",
      "\n",
      "                                      Sample_ID  \\\n",
      "41     AC_Blank_500x_N1__liverLD__8_8_23 copy 2   \n",
      "43     AC_Blank_500x_N1__liverLD__8_8_23 copy 2   \n",
      "45     AC_Blank_500x_N1__liverLD__8_8_23 copy 2   \n",
      "47     AC_Blank_500x_N1__liverLD__8_8_23 copy 2   \n",
      "49     AC_Blank_500x_N1__liverLD__8_8_23 copy 2   \n",
      "...                                         ...   \n",
      "19824      PS_FAD173m1_500x_N1__liverLD__8_8_23   \n",
      "19825      PS_FAD173m1_500x_N1__liverLD__8_8_23   \n",
      "19827      PS_FAD173m1_500x_N1__liverLD__8_8_23   \n",
      "19828      PS_FAD173m1_500x_N1__liverLD__8_8_23   \n",
      "19829      PS_FAD173m1_500x_N1__liverLD__8_8_23   \n",
      "\n",
      "                             Sample Name Position Genotype    Sex  \\\n",
      "41        Blank_500x_N1__liverLD__8_8_23     TEST    blank  blank   \n",
      "43        Blank_500x_N1__liverLD__8_8_23     TEST    blank  blank   \n",
      "45        Blank_500x_N1__liverLD__8_8_23     TEST    blank  blank   \n",
      "47        Blank_500x_N1__liverLD__8_8_23     TEST    blank  blank   \n",
      "49        Blank_500x_N1__liverLD__8_8_23     TEST    blank  blank   \n",
      "...                                  ...      ...      ...    ...   \n",
      "19824  FAD173m1_500x_N1__liverLD__8_8_23     TEST    5xFAD   Male   \n",
      "19825  FAD173m1_500x_N1__liverLD__8_8_23     TEST    5xFAD   Male   \n",
      "19827  FAD173m1_500x_N1__liverLD__8_8_23     TEST    5xFAD   Male   \n",
      "19828  FAD173m1_500x_N1__liverLD__8_8_23     TEST    5xFAD   Male   \n",
      "19829  FAD173m1_500x_N1__liverLD__8_8_23     TEST    5xFAD   Male   \n",
      "\n",
      "      Brain Region Time Period method_type  \n",
      "41           blank   New Blank          AC  \n",
      "43           blank   New Blank          AC  \n",
      "45           blank   New Blank          AC  \n",
      "47           blank   New Blank          AC  \n",
      "49           blank   New Blank          AC  \n",
      "...            ...         ...         ...  \n",
      "19824        Liver    New Data          PS  \n",
      "19825        Liver    New Data          PS  \n",
      "19827        Liver    New Data          PS  \n",
      "19828        Liver    New Data          PS  \n",
      "19829        Liver    New Data          PS  \n",
      "\n",
      "[7471 rows x 14 columns]\n",
      "['Lipid', 'Parent_Ion', 'Product_Ion', 'Intensity', 'Transition', 'Class', 'Sample_ID', 'Sample Name', 'Position', 'Genotype', 'Sex', 'Brain Region', 'Time Period', 'method_type'] Labels\n",
      "                                                   Lipid  Parent_Ion  \\\n",
      "41                     (5Z,8Z)-tetradecadienoylcarnitine       368.3   \n",
      "43                          cis-5-Tetradecenoylcarnitine       370.3   \n",
      "45        TetradecanoylcarnitineO-tetradecanoylcarnitine       372.3   \n",
      "47                     (7Z,10Z)-hexadecadienoylcarnitine       396.3   \n",
      "49     O-palmitoleoylcarnitine, trans-Hexadec-2-enoyl...       398.3   \n",
      "...                                                  ...         ...   \n",
      "19824                                          PS (44:5)       894.6   \n",
      "19825                                          PS (44:4)       896.6   \n",
      "19827                                          PS (44:2)       900.7   \n",
      "19828                                          PS (44:1)       902.7   \n",
      "19829                                          PS (44:0)       904.7   \n",
      "\n",
      "       Product_Ion     Intensity      Transition Class  \\\n",
      "41            85.1  26167.741920   368.3 -> 85.1    AC   \n",
      "43            85.1   8544.200676   370.3 -> 85.1    AC   \n",
      "45            85.1   8699.760612   372.3 -> 85.1    AC   \n",
      "47            85.1  22663.561638   396.3 -> 85.1    AC   \n",
      "49            85.1   7062.320530   398.3 -> 85.1    AC   \n",
      "...            ...           ...             ...   ...   \n",
      "19824        709.6   2001.840153  894.6 -> 709.6    PS   \n",
      "19825        711.6   2002.380142  896.6 -> 711.6    PS   \n",
      "19827        715.7   2002.720131  900.7 -> 715.7    PS   \n",
      "19828        717.7   2001.660149  902.7 -> 717.7    PS   \n",
      "19829        719.7   2000.240139  904.7 -> 719.7    PS   \n",
      "\n",
      "                                      Sample_ID  \\\n",
      "41     AC_Blank_500x_N1__liverLD__8_8_23 copy 2   \n",
      "43     AC_Blank_500x_N1__liverLD__8_8_23 copy 2   \n",
      "45     AC_Blank_500x_N1__liverLD__8_8_23 copy 2   \n",
      "47     AC_Blank_500x_N1__liverLD__8_8_23 copy 2   \n",
      "49     AC_Blank_500x_N1__liverLD__8_8_23 copy 2   \n",
      "...                                         ...   \n",
      "19824      PS_FAD173m1_500x_N1__liverLD__8_8_23   \n",
      "19825      PS_FAD173m1_500x_N1__liverLD__8_8_23   \n",
      "19827      PS_FAD173m1_500x_N1__liverLD__8_8_23   \n",
      "19828      PS_FAD173m1_500x_N1__liverLD__8_8_23   \n",
      "19829      PS_FAD173m1_500x_N1__liverLD__8_8_23   \n",
      "\n",
      "                             Sample Name Position Genotype    Sex  \\\n",
      "41        Blank_500x_N1__liverLD__8_8_23     TEST    blank  blank   \n",
      "43        Blank_500x_N1__liverLD__8_8_23     TEST    blank  blank   \n",
      "45        Blank_500x_N1__liverLD__8_8_23     TEST    blank  blank   \n",
      "47        Blank_500x_N1__liverLD__8_8_23     TEST    blank  blank   \n",
      "49        Blank_500x_N1__liverLD__8_8_23     TEST    blank  blank   \n",
      "...                                  ...      ...      ...    ...   \n",
      "19824  FAD173m1_500x_N1__liverLD__8_8_23     TEST    5xFAD   Male   \n",
      "19825  FAD173m1_500x_N1__liverLD__8_8_23     TEST    5xFAD   Male   \n",
      "19827  FAD173m1_500x_N1__liverLD__8_8_23     TEST    5xFAD   Male   \n",
      "19828  FAD173m1_500x_N1__liverLD__8_8_23     TEST    5xFAD   Male   \n",
      "19829  FAD173m1_500x_N1__liverLD__8_8_23     TEST    5xFAD   Male   \n",
      "\n",
      "      Brain Region Time Period method_type  Blank Subtraction  \n",
      "41           blank   New Blank          AC                0.0  \n",
      "43           blank   New Blank          AC                0.0  \n",
      "45           blank   New Blank          AC                0.0  \n",
      "47           blank   New Blank          AC                0.0  \n",
      "49           blank   New Blank          AC                0.0  \n",
      "...            ...         ...         ...                ...  \n",
      "19824        Liver    New Data          PS                NaN  \n",
      "19825        Liver    New Data          PS                NaN  \n",
      "19827        Liver    New Data          PS                NaN  \n",
      "19828        Liver    New Data          PS                NaN  \n",
      "19829        Liver    New Data          PS                NaN  \n",
      "\n",
      "[7471 rows x 15 columns]\n",
      "['Lipid', 'Parent_Ion', 'Product_Ion', 'Intensity', 'Transition', 'Class', 'Sample_ID', 'Sample Name', 'Position', 'Genotype', 'Sex', 'Brain Region', 'Time Period', 'method_type', 'Blank Subtraction'] Blank Subtraction\n",
      "Failed to save DataFrame after 5 attempts.\n",
      "Data processing complete\n",
      "myjob.sh: line 3: $'\\r': command not found\n",
      "myjob.sh: line 4: $'\\r': command not found\n",
      "myjob.sh: line 5: module: command not found\n",
      "myjob.sh: line 6: $'\\r': command not found\n",
      "\u001b[?25h── \u001b[1mAttaching core tidyverse packages\u001b[22m ──────────────────────── tidyverse 2.0.0 ──\n",
      "\u001b[32m✔\u001b[39m \u001b[34mdplyr    \u001b[39m 1.1.2     \u001b[32m✔\u001b[39m \u001b[34mreadr    \u001b[39m 2.1.4\n",
      "\u001b[32m✔\u001b[39m \u001b[34mforcats  \u001b[39m 1.0.0     \u001b[32m✔\u001b[39m \u001b[34mstringr  \u001b[39m 1.5.0\n",
      "\u001b[32m✔\u001b[39m \u001b[34mggplot2  \u001b[39m 3.4.2     \u001b[32m✔\u001b[39m \u001b[34mtibble   \u001b[39m 3.2.1\n",
      "\u001b[32m✔\u001b[39m \u001b[34mlubridate\u001b[39m 1.9.2     \u001b[32m✔\u001b[39m \u001b[34mtidyr    \u001b[39m 1.3.0\n",
      "\u001b[32m✔\u001b[39m \u001b[34mpurrr    \u001b[39m 1.0.1     \n",
      "── \u001b[1mConflicts\u001b[22m ────────────────────────────────────────── tidyverse_conflicts() ──\n",
      "\u001b[31m✖\u001b[39m \u001b[34mdplyr\u001b[39m::\u001b[32marrange()\u001b[39m   masks \u001b[34mplyr\u001b[39m::arrange()\n",
      "\u001b[31m✖\u001b[39m \u001b[34mpurrr\u001b[39m::\u001b[32mcompact()\u001b[39m   masks \u001b[34mplyr\u001b[39m::compact()\n",
      "\u001b[31m✖\u001b[39m \u001b[34mdplyr\u001b[39m::\u001b[32mcount()\u001b[39m     masks \u001b[34mplyr\u001b[39m::count()\n",
      "\u001b[31m✖\u001b[39m \u001b[34mdplyr\u001b[39m::\u001b[32mdesc()\u001b[39m      masks \u001b[34mplyr\u001b[39m::desc()\n",
      "\u001b[31m✖\u001b[39m \u001b[34mdplyr\u001b[39m::\u001b[32mfailwith()\u001b[39m  masks \u001b[34mplyr\u001b[39m::failwith()\n",
      "\u001b[31m✖\u001b[39m \u001b[34mdplyr\u001b[39m::\u001b[32mfilter()\u001b[39m    masks \u001b[34mstats\u001b[39m::filter()\n",
      "\u001b[31m✖\u001b[39m \u001b[34mdplyr\u001b[39m::\u001b[32mid()\u001b[39m        masks \u001b[34mplyr\u001b[39m::id()\n",
      "\u001b[31m✖\u001b[39m \u001b[34mdplyr\u001b[39m::\u001b[32mlag()\u001b[39m       masks \u001b[34mstats\u001b[39m::lag()\n",
      "\u001b[31m✖\u001b[39m \u001b[34mdplyr\u001b[39m::\u001b[32mmutate()\u001b[39m    masks \u001b[34mplyr\u001b[39m::mutate()\n",
      "\u001b[31m✖\u001b[39m \u001b[34mdplyr\u001b[39m::\u001b[32mrename()\u001b[39m    masks \u001b[34mplyr\u001b[39m::rename()\n",
      "\u001b[31m✖\u001b[39m \u001b[34mdplyr\u001b[39m::\u001b[32msummarise()\u001b[39m masks \u001b[34mplyr\u001b[39m::summarise()\n",
      "\u001b[31m✖\u001b[39m \u001b[34mdplyr\u001b[39m::\u001b[32msummarize()\u001b[39m masks \u001b[34mplyr\u001b[39m::summarize()\n",
      "\u001b[36mℹ\u001b[39m Use the conflicted package (\u001b[3m\u001b[34m<http://conflicted.r-lib.org/>\u001b[39m\u001b[23m) to force all conflicts to become errors\n",
      "\u001b[?25h\u001b[?25hLoading required package: limma\n",
      "\u001b[?25h\u001b[?25h\u001b[?25h\u001b[?25h\n",
      "Attaching package: ‘reshape2’\n",
      "\n",
      "The following object is masked from ‘package:tidyr’:\n",
      "\n",
      "    smiths\n",
      "\n",
      "\u001b[?25h\u001b[?25h\u001b[?25h\u001b[?25h\u001b[?25h\n",
      "Attaching package: ‘scales’\n",
      "\n",
      "The following object is masked from ‘package:purrr’:\n",
      "\n",
      "    discard\n",
      "\n",
      "The following object is masked from ‘package:readr’:\n",
      "\n",
      "    col_factor\n",
      "\n",
      "\u001b[?25h\u001b[?25h\n",
      "Attaching package: ‘cowplot’\n",
      "\n",
      "The following object is masked from ‘package:lubridate’:\n",
      "\n",
      "    stamp\n",
      "\n",
      "\u001b[?25h\u001b[?25h[1] \"/home/sanjay/github/lipids/Lipidomics/lipid_platform\"\n",
      "\u001b[?25hWarning message:\n",
      "In readLines(\"Variable_Storage/folder_path.txt\") :\n",
      "  incomplete final line found on 'Variable_Storage/folder_path.txt'\n",
      "\u001b[?25h[1] \"/home/sanjay/github/lipids/Lipidomics/lipid_platform/Projects/liverLD_rerun/\"\n",
      "\u001b[?25h\u001b[?25h\u001b[?25h\u001b[?25h[1] NA\n",
      "\u001b[?25h\u001b[1mRows: \u001b[22m\u001b[34m616\u001b[39m \u001b[1mColumns: \u001b[22m\u001b[34m19\u001b[39m\n",
      "\u001b[36m──\u001b[39m \u001b[1mColumn specification\u001b[22m \u001b[36m────────────────────────────────────────────────────────\u001b[39m\n",
      "\u001b[1mDelimiter:\u001b[22m \",\"\n",
      "\u001b[31mchr\u001b[39m  (6): Lipid, Class, Title1, Title2, Title, Blank_name\n",
      "\u001b[32mdbl\u001b[39m (13): DOD73m2_500x_N1__liverLD__8_8_23, FAD131m1_500x_N1__liverLD__8_8_2...\n",
      "\n",
      "\u001b[36mℹ\u001b[39m Use `spec()` to retrieve the full column specification for this data.\n",
      "\u001b[36mℹ\u001b[39m Specify the column types or set `show_col_types = FALSE` to quiet this message.\n",
      "\u001b[1m\u001b[22mSaving 7 x 7 in image\n",
      "Picking joint bandwidth of 0.418\n",
      "Warning message:\n",
      "In makeContrasts(H = gr_exprGR1 - gr_exprGR2, levels = design_expr) :\n",
      "  Renaming (Intercept) to Intercept\n",
      "\u001b[?25h\u001b[?25h\u001b[?25h── \u001b[1mAttaching core tidyverse packages\u001b[22m ──────────────────────── tidyverse 2.0.0 ──\n",
      "\u001b[32m✔\u001b[39m \u001b[34mdplyr    \u001b[39m 1.1.2     \u001b[32m✔\u001b[39m \u001b[34mreadr    \u001b[39m 2.1.4\n",
      "\u001b[32m✔\u001b[39m \u001b[34mforcats  \u001b[39m 1.0.0     \u001b[32m✔\u001b[39m \u001b[34mstringr  \u001b[39m 1.5.0\n",
      "\u001b[32m✔\u001b[39m \u001b[34mggplot2  \u001b[39m 3.4.2     \u001b[32m✔\u001b[39m \u001b[34mtibble   \u001b[39m 3.2.1\n",
      "\u001b[32m✔\u001b[39m \u001b[34mlubridate\u001b[39m 1.9.2     \u001b[32m✔\u001b[39m \u001b[34mtidyr    \u001b[39m 1.3.0\n",
      "\u001b[32m✔\u001b[39m \u001b[34mpurrr    \u001b[39m 1.0.1     \n",
      "── \u001b[1mConflicts\u001b[22m ────────────────────────────────────────── tidyverse_conflicts() ──\n",
      "\u001b[31m✖\u001b[39m \u001b[34mdplyr\u001b[39m::\u001b[32marrange()\u001b[39m   masks \u001b[34mplyr\u001b[39m::arrange()\n",
      "\u001b[31m✖\u001b[39m \u001b[34mpurrr\u001b[39m::\u001b[32mcompact()\u001b[39m   masks \u001b[34mplyr\u001b[39m::compact()\n",
      "\u001b[31m✖\u001b[39m \u001b[34mdplyr\u001b[39m::\u001b[32mcount()\u001b[39m     masks \u001b[34mplyr\u001b[39m::count()\n",
      "\u001b[31m✖\u001b[39m \u001b[34mdplyr\u001b[39m::\u001b[32mdesc()\u001b[39m      masks \u001b[34mplyr\u001b[39m::desc()\n",
      "\u001b[31m✖\u001b[39m \u001b[34mdplyr\u001b[39m::\u001b[32mfailwith()\u001b[39m  masks \u001b[34mplyr\u001b[39m::failwith()\n",
      "\u001b[31m✖\u001b[39m \u001b[34mdplyr\u001b[39m::\u001b[32mfilter()\u001b[39m    masks \u001b[34mstats\u001b[39m::filter()\n",
      "\u001b[31m✖\u001b[39m \u001b[34mdplyr\u001b[39m::\u001b[32mid()\u001b[39m        masks \u001b[34mplyr\u001b[39m::id()\n",
      "\u001b[31m✖\u001b[39m \u001b[34mdplyr\u001b[39m::\u001b[32mlag()\u001b[39m       masks \u001b[34mstats\u001b[39m::lag()\n",
      "\u001b[31m✖\u001b[39m \u001b[34mdplyr\u001b[39m::\u001b[32mmutate()\u001b[39m    masks \u001b[34mplyr\u001b[39m::mutate()\n",
      "\u001b[31m✖\u001b[39m \u001b[34mdplyr\u001b[39m::\u001b[32mrename()\u001b[39m    masks \u001b[34mplyr\u001b[39m::rename()\n",
      "\u001b[31m✖\u001b[39m \u001b[34mdplyr\u001b[39m::\u001b[32msummarise()\u001b[39m masks \u001b[34mplyr\u001b[39m::summarise()\n",
      "\u001b[31m✖\u001b[39m \u001b[34mdplyr\u001b[39m::\u001b[32msummarize()\u001b[39m masks \u001b[34mplyr\u001b[39m::summarize()\n",
      "\u001b[36mℹ\u001b[39m Use the conflicted package (\u001b[3m\u001b[34m<http://conflicted.r-lib.org/>\u001b[39m\u001b[23m) to force all conflicts to become errors\n",
      "\u001b[?25h\u001b[?25hLoading required package: limma\n",
      "\u001b[?25h\u001b[?25h\u001b[?25h\u001b[?25h\n",
      "Attaching package: ‘reshape2’\n",
      "\n",
      "The following object is masked from ‘package:tidyr’:\n",
      "\n",
      "    smiths\n",
      "\n",
      "\u001b[?25h\u001b[?25h\u001b[?25h\u001b[?25h\u001b[?25h\n",
      "Attaching package: ‘scales’\n",
      "\n",
      "The following object is masked from ‘package:purrr’:\n",
      "\n",
      "    discard\n",
      "\n",
      "The following object is masked from ‘package:readr’:\n",
      "\n",
      "    col_factor\n",
      "\n",
      "\u001b[?25h\u001b[?25h\n",
      "Attaching package: ‘cowplot’\n",
      "\n",
      "The following object is masked from ‘package:lubridate’:\n",
      "\n",
      "    stamp\n",
      "\n",
      "\u001b[?25h\u001b[?25hWarning message:\n",
      "In readLines(\"Variable_Storage/folder_path.txt\") :\n",
      "  incomplete final line found on 'Variable_Storage/folder_path.txt'\n",
      "\u001b[?25h[1] \"/home/sanjay/github/lipids/Lipidomics/lipid_platform/Projects/liverLD_rerun/\"\n",
      "\u001b[?25h\u001b[?25h\u001b[?25h\u001b[1mRows: \u001b[22m\u001b[34m616\u001b[39m \u001b[1mColumns: \u001b[22m\u001b[34m19\u001b[39m\n",
      "\u001b[36m──\u001b[39m \u001b[1mColumn specification\u001b[22m \u001b[36m────────────────────────────────────────────────────────\u001b[39m\n",
      "\u001b[1mDelimiter:\u001b[22m \",\"\n",
      "\u001b[31mchr\u001b[39m  (6): Lipid, Class, Title1, Title2, Title, Blank_name\n",
      "\u001b[32mdbl\u001b[39m (13): DOD73m2_500x_N1__liverLD__8_8_23, FAD131m1_500x_N1__liverLD__8_8_2...\n",
      "\n",
      "\u001b[36mℹ\u001b[39m Use `spec()` to retrieve the full column specification for this data.\n",
      "\u001b[36mℹ\u001b[39m Specify the column types or set `show_col_types = FALSE` to quiet this message.\n",
      "\u001b[?25h\u001b[?25h"
     ]
    }
   ],
   "source": [
    "# Suppress warnings for a cleaner output\n",
    "warnings.filterwarnings('ignore')\n",
    "\n",
    "# Display a GIF as a visual cue for data loading process\n",
    "# gif = Image(filename='Figures/cat_gif.gif')  # replace 'your_gif.gif' with the path to your GIF\n",
    "# display(gif)\n",
    "print(\"Your data is PURRing...\")\n",
    "\n",
    "# Load preprocessed data if the flag is set to True, else parse raw data\n",
    "if load_previously_parsed:\n",
    "    df_matched = pd.read_csv(os.path.join(Project_Folder, \"Processed Results\", file_name_to_save+\".csv\"))\n",
    "else:\n",
    "    df_matched = full_parse(data_base_name_location, mzml_folder, folder_name_to_save, labels_df, blank_name, \n",
    "                            file_name_to_save, tolerance, custom_data=custom_data, remove_std=remove_std, save_data=save_data)\n",
    "print(\"Data processing complete\")\n",
    "\n",
    "# Class renaming for custom data\n",
    "if custom_data:\n",
    "    class_rename_dict = {'AC': 'CAR', 'FFA': 'FA', 'CE | CE': 'CE', 'PE | PE': 'PE', 'PG | PG': 'PG', \n",
    "                         'PG | PG | PG': 'PG', 'PI | PI': 'PI', 'PS | PS': 'PS','CER': 'Cer', 'TAG': 'TG',}\n",
    "    df_matched['Class'] = df_matched['Class'].replace(class_rename_dict)\n",
    "\n",
    "# Load comparison pairs for plotting and remove empty entries\n",
    "json_list_pairs = remove_empty_entries(load_data())\n",
    "# Get unique JSON objects for individual plotting\n",
    "json_list_singles = get_unique_json_objects(json_list_pairs)\n",
    "\n",
    "# Plotting section\n",
    "make_pie_chart_no_replicates(df_matched, plots_2_save_path, json_list_singles, labels_list, blank_name, extra_name)\n",
    "average_pie_chart_no_repeats(df_matched, plots_2_save_path, json_list_singles, labels_list, blank_name, extra_name)\n",
    "make_bar_plot_comparisons(df_matched, plots_2_save_path, json_list_pairs, labels_list, blank_name, extra_name)\n",
    "\n",
    "# Preparation for EdgeR processing\n",
    "labels_list += ['method_type', \"Transition\"]\n",
    "df_matched = add_suffix(df_matched)\n",
    "combined_df = prep_edge_R(df_matched, json_list_pairs, Pre_edge_r_path, blank_name, labels_list, extra_name)\n",
    "\n",
    "# Call bash script to run EdgeR processing\n",
    "!bash myjob.sh\n"
   ]
  },
  {
   "cell_type": "code",
   "execution_count": 8,
   "metadata": {},
   "outputs": [
    {
     "name": "stdout",
     "output_type": "stream",
     "text": [
      "myjob_v2.sh: line 3: $'\\r': command not found\n",
      "myjob_v2.sh: line 4: $'\\r': command not found\n",
      "myjob_v2.sh: line 5: module: command not found\n",
      "myjob_v2.sh: line 6: $'\\r': command not found\n",
      "Loading required package: ggplot2\n",
      "\u001b[?25h\u001b[?25h\u001b[?25h── \u001b[1mAttaching core tidyverse packages\u001b[22m ──────────────────────── tidyverse 2.0.0 ──\n",
      "\u001b[32m✔\u001b[39m \u001b[34mdplyr    \u001b[39m 1.1.2     \u001b[32m✔\u001b[39m \u001b[34mreadr    \u001b[39m 2.1.4\n",
      "\u001b[32m✔\u001b[39m \u001b[34mforcats  \u001b[39m 1.0.0     \u001b[32m✔\u001b[39m \u001b[34mstringr  \u001b[39m 1.5.0\n",
      "\u001b[32m✔\u001b[39m \u001b[34mlubridate\u001b[39m 1.9.2     \u001b[32m✔\u001b[39m \u001b[34mtibble   \u001b[39m 3.2.1\n",
      "\u001b[32m✔\u001b[39m \u001b[34mpurrr    \u001b[39m 1.0.1     \u001b[32m✔\u001b[39m \u001b[34mtidyr    \u001b[39m 1.3.0\n",
      "── \u001b[1mConflicts\u001b[22m ────────────────────────────────────────── tidyverse_conflicts() ──\n",
      "\u001b[31m✖\u001b[39m \u001b[34mdplyr\u001b[39m::\u001b[32marrange()\u001b[39m   masks \u001b[34mplyr\u001b[39m::arrange()\n",
      "\u001b[31m✖\u001b[39m \u001b[34mpurrr\u001b[39m::\u001b[32mcompact()\u001b[39m   masks \u001b[34mplyr\u001b[39m::compact()\n",
      "\u001b[31m✖\u001b[39m \u001b[34mdplyr\u001b[39m::\u001b[32mcount()\u001b[39m     masks \u001b[34mplyr\u001b[39m::count()\n",
      "\u001b[31m✖\u001b[39m \u001b[34mdplyr\u001b[39m::\u001b[32mdesc()\u001b[39m      masks \u001b[34mplyr\u001b[39m::desc()\n",
      "\u001b[31m✖\u001b[39m \u001b[34mdplyr\u001b[39m::\u001b[32mfailwith()\u001b[39m  masks \u001b[34mplyr\u001b[39m::failwith()\n",
      "\u001b[31m✖\u001b[39m \u001b[34mdplyr\u001b[39m::\u001b[32mfilter()\u001b[39m    masks \u001b[34mstats\u001b[39m::filter()\n",
      "\u001b[31m✖\u001b[39m \u001b[34mdplyr\u001b[39m::\u001b[32mid()\u001b[39m        masks \u001b[34mplyr\u001b[39m::id()\n",
      "\u001b[31m✖\u001b[39m \u001b[34mdplyr\u001b[39m::\u001b[32mlag()\u001b[39m       masks \u001b[34mstats\u001b[39m::lag()\n",
      "\u001b[31m✖\u001b[39m \u001b[34mdplyr\u001b[39m::\u001b[32mmutate()\u001b[39m    masks \u001b[34mplyr\u001b[39m::mutate()\n",
      "\u001b[31m✖\u001b[39m \u001b[34mdplyr\u001b[39m::\u001b[32mrename()\u001b[39m    masks \u001b[34mplyr\u001b[39m::rename()\n",
      "\u001b[31m✖\u001b[39m \u001b[34mdplyr\u001b[39m::\u001b[32msummarise()\u001b[39m masks \u001b[34mplyr\u001b[39m::summarise()\n",
      "\u001b[31m✖\u001b[39m \u001b[34mdplyr\u001b[39m::\u001b[32msummarize()\u001b[39m masks \u001b[34mplyr\u001b[39m::summarize()\n",
      "\u001b[36mℹ\u001b[39m Use the conflicted package (\u001b[3m\u001b[34m<http://conflicted.r-lib.org/>\u001b[39m\u001b[23m) to force all conflicts to become errors\n",
      "\u001b[?25h\u001b[?25h\u001b[?25h\u001b[?25h\u001b[?25h\u001b[?25h\u001b[?25h\u001b[?25h\u001b[?25h\n",
      "Attaching package: ‘scales’\n",
      "\n",
      "The following object is masked from ‘package:purrr’:\n",
      "\n",
      "    discard\n",
      "\n",
      "The following object is masked from ‘package:readr’:\n",
      "\n",
      "    col_factor\n",
      "\n",
      "\u001b[?25h\n",
      "Attaching package: ‘cowplot’\n",
      "\n",
      "The following object is masked from ‘package:lubridate’:\n",
      "\n",
      "    stamp\n",
      "\n",
      "\u001b[?25hError in library(ggExtra) : there is no package called ‘ggExtra’\n",
      "Execution halted\n",
      "\u001b[?25h\u001b[?25h── \u001b[1mAttaching core tidyverse packages\u001b[22m ──────────────────────── tidyverse 2.0.0 ──\n",
      "\u001b[32m✔\u001b[39m \u001b[34mdplyr    \u001b[39m 1.1.2     \u001b[32m✔\u001b[39m \u001b[34mreadr    \u001b[39m 2.1.4\n",
      "\u001b[32m✔\u001b[39m \u001b[34mforcats  \u001b[39m 1.0.0     \u001b[32m✔\u001b[39m \u001b[34mstringr  \u001b[39m 1.5.0\n",
      "\u001b[32m✔\u001b[39m \u001b[34mggplot2  \u001b[39m 3.4.2     \u001b[32m✔\u001b[39m \u001b[34mtibble   \u001b[39m 3.2.1\n",
      "\u001b[32m✔\u001b[39m \u001b[34mlubridate\u001b[39m 1.9.2     \u001b[32m✔\u001b[39m \u001b[34mtidyr    \u001b[39m 1.3.0\n",
      "\u001b[32m✔\u001b[39m \u001b[34mpurrr    \u001b[39m 1.0.1     \n",
      "── \u001b[1mConflicts\u001b[22m ────────────────────────────────────────── tidyverse_conflicts() ──\n",
      "\u001b[31m✖\u001b[39m \u001b[34mdplyr\u001b[39m::\u001b[32marrange()\u001b[39m   masks \u001b[34mplyr\u001b[39m::arrange()\n",
      "\u001b[31m✖\u001b[39m \u001b[34mpurrr\u001b[39m::\u001b[32mcompact()\u001b[39m   masks \u001b[34mplyr\u001b[39m::compact()\n",
      "\u001b[31m✖\u001b[39m \u001b[34mdplyr\u001b[39m::\u001b[32mcount()\u001b[39m     masks \u001b[34mplyr\u001b[39m::count()\n",
      "\u001b[31m✖\u001b[39m \u001b[34mdplyr\u001b[39m::\u001b[32mdesc()\u001b[39m      masks \u001b[34mplyr\u001b[39m::desc()\n",
      "\u001b[31m✖\u001b[39m \u001b[34mdplyr\u001b[39m::\u001b[32mfailwith()\u001b[39m  masks \u001b[34mplyr\u001b[39m::failwith()\n",
      "\u001b[31m✖\u001b[39m \u001b[34mdplyr\u001b[39m::\u001b[32mfilter()\u001b[39m    masks \u001b[34mstats\u001b[39m::filter()\n",
      "\u001b[31m✖\u001b[39m \u001b[34mdplyr\u001b[39m::\u001b[32mid()\u001b[39m        masks \u001b[34mplyr\u001b[39m::id()\n",
      "\u001b[31m✖\u001b[39m \u001b[34mdplyr\u001b[39m::\u001b[32mlag()\u001b[39m       masks \u001b[34mstats\u001b[39m::lag()\n",
      "\u001b[31m✖\u001b[39m \u001b[34mdplyr\u001b[39m::\u001b[32mmutate()\u001b[39m    masks \u001b[34mplyr\u001b[39m::mutate()\n",
      "\u001b[31m✖\u001b[39m \u001b[34mdplyr\u001b[39m::\u001b[32mrename()\u001b[39m    masks \u001b[34mplyr\u001b[39m::rename()\n",
      "\u001b[31m✖\u001b[39m \u001b[34mdplyr\u001b[39m::\u001b[32msummarise()\u001b[39m masks \u001b[34mplyr\u001b[39m::summarise()\n",
      "\u001b[31m✖\u001b[39m \u001b[34mdplyr\u001b[39m::\u001b[32msummarize()\u001b[39m masks \u001b[34mplyr\u001b[39m::summarize()\n",
      "\u001b[36mℹ\u001b[39m Use the conflicted package (\u001b[3m\u001b[34m<http://conflicted.r-lib.org/>\u001b[39m\u001b[23m) to force all conflicts to become errors\n",
      "\u001b[?25h\u001b[?25hLoading required package: limma\n",
      "\u001b[?25h\u001b[?25h\u001b[?25h\u001b[?25h\n",
      "Attaching package: ‘reshape2’\n",
      "\n",
      "The following object is masked from ‘package:tidyr’:\n",
      "\n",
      "    smiths\n",
      "\n",
      "\u001b[?25h\u001b[?25h\u001b[?25h\u001b[?25h\u001b[?25h\n",
      "Attaching package: ‘scales’\n",
      "\n",
      "The following object is masked from ‘package:purrr’:\n",
      "\n",
      "    discard\n",
      "\n",
      "The following object is masked from ‘package:readr’:\n",
      "\n",
      "    col_factor\n",
      "\n",
      "\u001b[?25h\u001b[?25h\n",
      "Attaching package: ‘cowplot’\n",
      "\n",
      "The following object is masked from ‘package:lubridate’:\n",
      "\n",
      "    stamp\n",
      "\n",
      "\u001b[?25h\u001b[?25hWarning message:\n",
      "In readLines(\"Variable_Storage/folder_path.txt\") :\n",
      "  incomplete final line found on 'Variable_Storage/folder_path.txt'\n",
      "\u001b[?25h[1] \"/home/sanjay/github/lipids/Lipidomics/lipid_platform/Projects/liverLD_rerun/\"\n",
      "\u001b[?25h\u001b[?25h\u001b[?25h\u001b[1mRows: \u001b[22m\u001b[34m616\u001b[39m \u001b[1mColumns: \u001b[22m\u001b[34m19\u001b[39m\n",
      "\u001b[36m──\u001b[39m \u001b[1mColumn specification\u001b[22m \u001b[36m────────────────────────────────────────────────────────\u001b[39m\n",
      "\u001b[1mDelimiter:\u001b[22m \",\"\n",
      "\u001b[31mchr\u001b[39m  (6): Lipid, Class, Title1, Title2, Title, Blank_name\n",
      "\u001b[32mdbl\u001b[39m (13): DOD73m2_500x_N1__liverLD__8_8_23_x, FAD131m1_500x_N1__liverLD__8_8...\n",
      "\n",
      "\u001b[36mℹ\u001b[39m Use `spec()` to retrieve the full column specification for this data.\n",
      "\u001b[36mℹ\u001b[39m Specify the column types or set `show_col_types = FALSE` to quiet this message.\n",
      "\u001b[1mRows: \u001b[22m\u001b[34m616\u001b[39m \u001b[1mColumns: \u001b[22m\u001b[34m19\u001b[39m\n",
      "\u001b[36m──\u001b[39m \u001b[1mColumn specification\u001b[22m \u001b[36m────────────────────────────────────────────────────────\u001b[39m\n",
      "\u001b[1mDelimiter:\u001b[22m \",\"\n",
      "\u001b[31mchr\u001b[39m  (6): Lipid, Class, Title1, Title2, Title, Blank_name\n",
      "\u001b[32mdbl\u001b[39m (13): DOD73-5xFAD-M2liver_033123, FAD131-5xFAD-M1liver_033123, FAD131-5x...\n",
      "\n",
      "\u001b[36mℹ\u001b[39m Use `spec()` to retrieve the full column specification for this data.\n",
      "\u001b[36mℹ\u001b[39m Specify the column types or set `show_col_types = FALSE` to quiet this message.\n",
      "\u001b[?25h\u001b[?25h"
     ]
    }
   ],
   "source": [
    "# Call bash script to run EdgeR processing\n",
    "!bash myjob_v2.sh"
   ]
  }
 ],
 "metadata": {
  "kernelspec": {
   "display_name": "Python 3 (ipykernel)",
   "language": "python",
   "name": "python3"
  },
  "language_info": {
   "codemirror_mode": {
    "name": "ipython",
    "version": 3
   },
   "file_extension": ".py",
   "mimetype": "text/x-python",
   "name": "python",
   "nbconvert_exporter": "python",
   "pygments_lexer": "ipython3",
   "version": "3.9.15"
  },
  "vscode": {
   "interpreter": {
    "hash": "7f59e923a9cab402a21ecdd8c8501a7d121113b28792a99acb445fcdcb4f42c3"
   }
  }
 },
 "nbformat": 4,
 "nbformat_minor": 2
}
