{
 "cells": [
  {
   "cell_type": "markdown",
   "metadata": {},
   "source": [
    "# Comprehensive Lipidome Automation Workflow (CLAW)\n",
    "\n",
    "Welcome to CLAW, a tool designed to facilitate and optimize the processing of lipidomic MRM data. This Jupyter notebook encapsulates a suite of tools that streamline the various stages of lipidomics data analysis.\n",
    "\n",
    "Our toolset enables users to efficiently process MRM data files in the mzML format. Upload a file and CLAW will parse the data into a structured Pandas dataframe. This dataframe includes critical information like sample_ID, MRM transition, and signal intensity. Furthermore, our tool aligns each MRM transition with a default or custom lipid_database for accurate and swift annotation.\n",
    "\n",
    "Moreover, CLAW is equipped with an OzESI option, a tool to elucidate the double bond location in lipid isomers. This feature allows users to input OzESI data and pinpoint the precise location of double bonds in isomeric lipids. Users have the flexibility to select which double bond locations they want to analyze. Following this, CLAW autonomously predicts potential m/z values and cross-references these predictions with sample data, ensuring a comprehensive and meticulous analysis.\n",
    "\n",
    "With automation at its core, CLAW eliminates the need for manual data processing, significantly reducing time expenditure. It is a robust and invaluable tool for handling large volumes of lipid MRM data, accelerating scientific discovery in the field of lipidomics."
   ]
  },
  {
   "cell_type": "markdown",
   "metadata": {},
   "source": [
    "Import all necessary libraries"
   ]
  },
  {
   "cell_type": "code",
   "execution_count": 1,
   "metadata": {},
   "outputs": [
    {
     "name": "stdout",
     "output_type": "stream",
     "text": [
      "No module named 'ms_deisotope._c.averagine' averagine\n",
      "No module named 'ms_deisotope._c.scoring'\n",
      "No module named 'ms_deisotope._c.deconvoluter_base'\n",
      "No module named 'ms_deisotope._c.deconvoluter_base'\n",
      "No module named 'ms_deisotope._c.deconvoluter_base'\n"
     ]
    }
   ],
   "source": [
    "# Standard library imports\n",
    "import csv\n",
    "import json\n",
    "import math\n",
    "import os\n",
    "import re\n",
    "import time\n",
    "import warnings\n",
    "\n",
    "# Third-party imports\n",
    "import ipywidgets as widgets\n",
    "import matplotlib.colors as mcolors\n",
    "import matplotlib.pyplot as plt\n",
    "import numpy as np\n",
    "import pandas as pd\n",
    "import plotly.express as px\n",
    "import plotly.graph_objs as go\n",
    "import plotly.io as pio\n",
    "import pymzml\n",
    "from IPython.display import Image, clear_output, display\n",
    "from collections import defaultdict\n",
    "\n",
    "# Custom Scripts\n",
    "from NO_AVERAGE_SCRIPTS import (average_pie_chart_no_repeats,\n",
    "                                filter_dataframe, full_parse,\n",
    "                                hex_to_rgba_hex, json_to_string,\n",
    "                                make_bar_plot_comparisons,\n",
    "                                make_pie_chart_no_replicates,\n",
    "                                prep_edge_R)\n",
    "\n",
    "# GUI tools\n",
    "from tools.GUI import (assign_blank, display_pair_widgets, filter_samples,\n",
    "                       folder_navigator, get_unique_json_objects, \n",
    "                       load_blank_name, load_data, load_data_labels, \n",
    "                       load_project_folder, remove_empty_entries)\n",
    "\n",
    "# Parsing tools\n",
    "from tools.parsing import add_suffix\n",
    "\n",
    "# Pre-folder path\n",
    "Pre_folder = './Projects/'\n"
   ]
  },
  {
   "cell_type": "code",
   "execution_count": 2,
   "metadata": {},
   "outputs": [
    {
     "name": "stdout",
     "output_type": "stream",
     "text": [
      "Number of files in folder Projects/BRAIN_5XFAD_OLD_DATA_FOR_PAPER/mzml: 397\n"
     ]
    }
   ],
   "source": [
    "import os\n",
    "import shutil\n",
    "\n",
    "def normalize_name(name):\n",
    "    return name.replace(\"_\", \"-\").replace(\"tag\", \"tg\").replace(\"TAG\", \"TG\")\n",
    "\n",
    "def count_and_get_prefixes(folder_name, prefix_length):\n",
    "    prefixes = set()\n",
    "    count = 0\n",
    "    notneeded_folder = 'Projects/BRAIN_5XFAD_OLD_DATA_FOR_PAPER/notneeded'\n",
    "    os.makedirs(notneeded_folder, exist_ok=True)\n",
    "    \n",
    "    try:\n",
    "        for name in os.listdir(folder_name):\n",
    "            full_path = os.path.join(folder_name, name)\n",
    "            if os.path.isfile(full_path):\n",
    "                \n",
    "                # This is the new snippet to rename the files\n",
    "                new_name = normalize_name(name)\n",
    "                if new_name != name:  # Check if the name has been changed\n",
    "                    new_full_path = os.path.join(folder_name, new_name)\n",
    "                    shutil.move(full_path, new_full_path)  # Rename the file\n",
    "                    name = new_name  # Update the name variable for subsequent use in this loop iteration\n",
    "                    full_path = new_full_path  # Similarly, update the full_path variable\n",
    "                \n",
    "                if \"equisplash\" in name or \"r Blank\" in name or \"blank\" in name or \"IPA\" in name:\n",
    "                    shutil.move(full_path, os.path.join(notneeded_folder, name))\n",
    "                else:\n",
    "                    prefixes.add(normalize_name(name[:prefix_length]))\n",
    "                    count += 1\n",
    "        return count, prefixes\n",
    "    except FileNotFoundError:\n",
    "        print(f\"Folder {folder_name} not found!\")\n",
    "        return 0, set()\n",
    "\n",
    "\n",
    "# The specific folder of interest\n",
    "folder_path = 'Projects/BRAIN_5XFAD_OLD_DATA_FOR_PAPER/mzml'\n",
    "\n",
    "# Assuming prefix_length is defined elsewhere in your script or you can set it here\n",
    "prefix_length = 10\n",
    "\n",
    "count, prefixes = count_and_get_prefixes(folder_path, prefix_length)\n",
    "print(f\"Number of files in folder {folder_path}: {count}\")\n"
   ]
  },
  {
   "cell_type": "markdown",
   "metadata": {},
   "source": [
    "In the given Python code snippet, various parameters and flags are set which configure the execution of a lipidomic data parsing and visualization process. The name of the output file (file_name_to_save) is set to 'TEST' and an additional descriptor (extra_name) is assigned as 'Blank1'. The tolerance for acceptable error during data parsing is set to 0.1. Flags for whether to remove standard deviation values from the dataset (remove_std), whether to save the processed data (save_data), whether to load pre-existing parsed data (load_previously_parsed), and whether to utilize a custom dataset (custom_data) are all set to True"
   ]
  },
  {
   "cell_type": "code",
   "execution_count": 2,
   "metadata": {},
   "outputs": [],
   "source": [
    "file_name_to_save = 'TEST' # Specifies the output file name\n",
    "extra_name = \"Blank1\" # Additional descriptor for the output file\n",
    "tolerance = 0.1 # Acceptable error level for data parsing\n",
    "remove_std = True # Flag to decide if standard deviation values should be removed\n",
    "save_data= True # Flag to decide if processed data should be saved\n",
    "load_previously_parsed = False # Flag to decide if pre-existing parsed data should be loaded\n",
    "custom_data=True # Flag to decide if a custom dataset should be used"
   ]
  },
  {
   "cell_type": "markdown",
   "metadata": {},
   "source": [
    "**Project Organization and Data Preparation Summary**\n",
    "\n",
    "This section of the code primarily focuses on project organization, sample labelling, and data preparation. Initially, it employs a folder navigation system to manually select the desired project folder. It then loads the relevant files like mzml files, lipid database, and label file from their respective directories within the chosen project folder. Unique samples are identified and a 'blank sample' is assigned for further analysis. The label data is further refined by filtering the samples and removing unnecessary columns. Finally, it prepares a list of labels, inclusive of \"Class\" and \"Lipid\" for the subsequent steps of the analysis."
   ]
  },
  {
   "cell_type": "code",
   "execution_count": 3,
   "metadata": {
    "scrolled": false
   },
   "outputs": [
    {
     "data": {
      "application/vnd.jupyter.widget-view+json": {
       "model_id": "addae8063e214e508fc97e1181e15cf6",
       "version_major": 2,
       "version_minor": 0
      },
      "text/plain": [
       "Button(description='Navigate', style=ButtonStyle())"
      ]
     },
     "metadata": {},
     "output_type": "display_data"
    },
    {
     "data": {
      "application/vnd.jupyter.widget-view+json": {
       "model_id": "c2fba3e290864689b56c1eead7b33779",
       "version_major": 2,
       "version_minor": 0
      },
      "text/plain": [
       "Button(description='Select this folder', style=ButtonStyle())"
      ]
     },
     "metadata": {},
     "output_type": "display_data"
    },
    {
     "data": {
      "application/vnd.jupyter.widget-view+json": {
       "model_id": "f508c7397b2c4ed8aa37118059ab70f4",
       "version_major": 2,
       "version_minor": 0
      },
      "text/plain": [
       "Button(description='Select Current Folder', style=ButtonStyle())"
      ]
     },
     "metadata": {},
     "output_type": "display_data"
    },
    {
     "data": {
      "application/vnd.jupyter.widget-view+json": {
       "model_id": "10d175778ddf475289b3db5bff305715",
       "version_major": 2,
       "version_minor": 0
      },
      "text/plain": [
       "Select(options=('/home/sanjay/github/lipids/Lipidomics/lipid_platform/Projects',), rows=10, value='/home/sanja…"
      ]
     },
     "metadata": {},
     "output_type": "display_data"
    },
    {
     "data": {
      "application/vnd.jupyter.widget-view+json": {
       "model_id": "6ab910a4fd4f445d95a6a46664193a16",
       "version_major": 2,
       "version_minor": 0
      },
      "text/plain": [
       "Output()"
      ]
     },
     "metadata": {},
     "output_type": "display_data"
    },
    {
     "data": {
      "application/vnd.jupyter.widget-view+json": {
       "model_id": "5119b1b5a71e46a6ae3996a6148dfbf3",
       "version_major": 2,
       "version_minor": 0
      },
      "text/plain": [
       "Dropdown(description='Samples', options=('10xBlank_01202023', 'Blank10x_01182023', 'Blank10x_01192023', 'DOD10…"
      ]
     },
     "metadata": {},
     "output_type": "display_data"
    },
    {
     "data": {
      "application/vnd.jupyter.widget-view+json": {
       "model_id": "3e0ce54559834f38a54f8f463544470c",
       "version_major": 2,
       "version_minor": 0
      },
      "text/plain": [
       "Button(description='Assign Blank', style=ButtonStyle())"
      ]
     },
     "metadata": {},
     "output_type": "display_data"
    },
    {
     "data": {
      "application/vnd.jupyter.widget-view+json": {
       "model_id": "dba3a64e6d6a48878b887474be4bc290",
       "version_major": 2,
       "version_minor": 0
      },
      "text/plain": [
       "Output()"
      ]
     },
     "metadata": {},
     "output_type": "display_data"
    },
    {
     "data": {
      "application/vnd.jupyter.widget-view+json": {
       "model_id": "27d19261790c41e29b5d05c6205d3f89",
       "version_major": 2,
       "version_minor": 0
      },
      "text/plain": [
       "SelectMultiple(description='Samples', index=(0,), options=('10xBlank_01202023', 'Blank10x_01182023', 'Blank10x…"
      ]
     },
     "metadata": {},
     "output_type": "display_data"
    },
    {
     "data": {
      "application/vnd.jupyter.widget-view+json": {
       "model_id": "34c140e65ca44193b88871f24478c4ee",
       "version_major": 2,
       "version_minor": 0
      },
      "text/plain": [
       "Button(description='Filter Samples', style=ButtonStyle())"
      ]
     },
     "metadata": {},
     "output_type": "display_data"
    },
    {
     "data": {
      "application/vnd.jupyter.widget-view+json": {
       "model_id": "2a5ac4072fef4398ba634df376a8db5d",
       "version_major": 2,
       "version_minor": 0
      },
      "text/plain": [
       "Output()"
      ]
     },
     "metadata": {},
     "output_type": "display_data"
    }
   ],
   "source": [
    "# Launch a GUI to choose project folder\n",
    "folder_navigator()\n",
    "\n",
    "# Load selected project folder path and define various necessary paths for processed results, mzml files, etc. \n",
    "Project_Folder = load_project_folder()\n",
    "folder_name_to_save = Project_Folder + 'Processed Results/'\n",
    "data_base_name_location = 'lipid_database/Lipid_Database.xlsx'\n",
    "mzml_folder = Project_Folder + \"mzml/\"\n",
    "Pre_edge_r_path = Project_Folder + \"Pre_EdgeR/\"\n",
    "plots_2_save_path = Project_Folder + \"Plots/\"\n",
    "\n",
    "# Load labels from CSV file\n",
    "label_file = Project_Folder + \"Labels/labels.csv\"\n",
    "labels_df = pd.read_csv(label_file)\n",
    "\n",
    "# Determine the blank sample\n",
    "# Get unique sample names\n",
    "unique_samples = labels_df['Sample Name'].unique()\n",
    "# Launch a GUI to choose blank sample\n",
    "assign_blank(unique_samples)\n",
    "blank_name = load_blank_name()  # Load selected blank sample name\n",
    "\n",
    "# Filter samples using GUI\n",
    "filter_samples(labels_df)\n",
    "labels_df2 = load_data_labels()\n",
    "\n",
    "# Remove unnecessary columns \"Sample Name\" and \"Position\" from labels_df2\n",
    "labels_df2 = labels_df2.drop([\"Sample Name\",\"Position\"], axis=1)\n",
    "#labels_df2 = labels_df2.drop([\"Sample Name\"], axis=1)\n",
    "\n",
    "\n",
    "# Get the list of label names and extend it with 'Class' and 'Lipid'\n",
    "labels_list = list(labels_df)\n",
    "labels_list = labels_list + [\"Class\",\"Lipid\"]\n"
   ]
  },
  {
   "cell_type": "code",
   "execution_count": 4,
   "metadata": {},
   "outputs": [
    {
     "data": {
      "application/vnd.jupyter.widget-view+json": {
       "model_id": "ea85dcc8c23c454b8a1df5aa7a3a96d2",
       "version_major": 2,
       "version_minor": 0
      },
      "text/plain": [
       "HBox(children=(SelectMultiple(description='Genotype', options=('WT', '5xFAD'), value=()), SelectMultiple(descr…"
      ]
     },
     "metadata": {},
     "output_type": "display_data"
    },
    {
     "data": {
      "application/vnd.jupyter.widget-view+json": {
       "model_id": "ca2a8626721b4975823dfecc0a315a56",
       "version_major": 2,
       "version_minor": 0
      },
      "text/plain": [
       "HBox(children=(SelectMultiple(description='Brain Region', options=('cerebellum', 'cortex', 'diencephalon', 'hi…"
      ]
     },
     "metadata": {},
     "output_type": "display_data"
    },
    {
     "data": {
      "application/vnd.jupyter.widget-view+json": {
       "model_id": "4ecc23fc069947579969d2897bc773cd",
       "version_major": 2,
       "version_minor": 0
      },
      "text/plain": [
       "HBox(children=(SelectMultiple(description='Sex', options=('Male',), value=()), SelectMultiple(description='Sex…"
      ]
     },
     "metadata": {},
     "output_type": "display_data"
    },
    {
     "data": {
      "application/vnd.jupyter.widget-view+json": {
       "model_id": "8ee3bee52979414692cd3799b60f23c4",
       "version_major": 2,
       "version_minor": 0
      },
      "text/plain": [
       "HBox(children=(Button(description='Finish', style=ButtonStyle()), Button(description='Add more JSON pairs', st…"
      ]
     },
     "metadata": {},
     "output_type": "display_data"
    }
   ],
   "source": [
    "main_json = {col: labels_df2[col].unique().tolist() for col in labels_df2}\n",
    "\n",
    "display_pair_widgets(main_json)"
   ]
  },
  {
   "cell_type": "markdown",
   "metadata": {},
   "source": [
    "## Lipid Data Processing and Plotting\n",
    "The following code performs lipid data processing and generates various plots to visualize the results. It includes the loading and parsing of lipid data, custom class renaming, creation of pie and bar plots, data preparation for EdgeR processing, and executing the EdgeR processing through a bash script."
   ]
  },
  {
   "cell_type": "code",
   "execution_count": 5,
   "metadata": {
    "scrolled": false
   },
   "outputs": [
    {
     "name": "stdout",
     "output_type": "stream",
     "text": [
      "Your data is PURRing...\n",
      "      Lipid Parent_Ion Product_Ion       Intensity      Transition Class  \\\n",
      "0       NaN      368.3        85.1   1785924.25415   368.3 -> 85.1   NaN   \n",
      "1       NaN      368.3       306.3    24784.382042  368.3 -> 306.3   NaN   \n",
      "2       NaN      370.3        85.1  1490543.856445   370.3 -> 85.1   NaN   \n",
      "3       NaN      370.3       308.3     5253.500408  370.3 -> 308.3   NaN   \n",
      "4       NaN      372.3        85.1  1480042.431885   372.3 -> 85.1   NaN   \n",
      "...     ...        ...         ...             ...             ...   ...   \n",
      "56912   NaN      990.9       693.9    18609.741333  990.9 -> 693.9   NaN   \n",
      "56913   NaN      992.9       663.9   113377.466042  992.9 -> 663.9   NaN   \n",
      "56914   NaN      992.9       671.9    15024.920998  992.9 -> 671.9   NaN   \n",
      "56915   NaN      992.9       693.9    17602.081253  992.9 -> 693.9   NaN   \n",
      "56916   NaN      992.9       695.9    14037.620884  992.9 -> 695.9   NaN   \n",
      "\n",
      "                               Sample_ID  \n",
      "0                   AC-10xBlank-01202023  \n",
      "1                   AC-10xBlank-01202023  \n",
      "2                   AC-10xBlank-01202023  \n",
      "3                   AC-10xBlank-01202023  \n",
      "4                   AC-10xBlank-01202023  \n",
      "...                                  ...  \n",
      "56912  TG2-M5FAD173-WT-Hippo10x-01192023  \n",
      "56913  TG2-M5FAD173-WT-Hippo10x-01192023  \n",
      "56914  TG2-M5FAD173-WT-Hippo10x-01192023  \n",
      "56915  TG2-M5FAD173-WT-Hippo10x-01192023  \n",
      "56916  TG2-M5FAD173-WT-Hippo10x-01192023  \n",
      "\n",
      "[56917 rows x 7 columns]\n",
      "['Lipid', 'Parent_Ion', 'Product_Ion', 'Intensity', 'Transition', 'Class', 'Sample_ID']\n",
      "['Lipid', 'Parent_Ion', 'Product_Ion', 'Intensity', 'Transition', 'Class', 'Sample_ID']\n",
      "                                                Lipid  Parent_Ion  \\\n",
      "0                   (5Z,8Z)-tetradecadienoylcarnitine       368.3   \n",
      "2                        cis-5-Tetradecenoylcarnitine       370.3   \n",
      "4      TetradecanoylcarnitineO-tetradecanoylcarnitine       372.3   \n",
      "6                   O-(11-carboxyundecanoyl)carnitine       374.2   \n",
      "8          (5Z,8Z)-3-hydroxytetradecadienoylcarnitine       384.3   \n",
      "...                                               ...         ...   \n",
      "56912                               TAG(60:1)_FA 18:2       990.9   \n",
      "56913                               TAG(60:0)_FA 20:0       992.9   \n",
      "56914                               TAG(60:0)_FA 20:4       992.9   \n",
      "56915                               TAG(60:0)_FA 18:1       992.9   \n",
      "56916                               TAG(60:0)_FA 18:2       992.9   \n",
      "\n",
      "       Product_Ion     Intensity      Transition Class  \\\n",
      "0             85.1  1.785924e+06   368.3 -> 85.1    AC   \n",
      "2             85.1  1.490544e+06   370.3 -> 85.1    AC   \n",
      "4             85.1  1.480042e+06   372.3 -> 85.1    AC   \n",
      "6             85.1  1.432418e+06   374.2 -> 85.1    AC   \n",
      "8             85.1  2.077580e+06   384.3 -> 85.1    AC   \n",
      "...            ...           ...             ...   ...   \n",
      "56912        693.9  1.860974e+04  990.9 -> 693.9   TAG   \n",
      "56913        663.9  1.133775e+05  992.9 -> 663.9   TAG   \n",
      "56914        671.9  1.502492e+04  992.9 -> 671.9   TAG   \n",
      "56915        693.9  1.760208e+04  992.9 -> 693.9   TAG   \n",
      "56916        695.9  1.403762e+04  992.9 -> 695.9   TAG   \n",
      "\n",
      "                               Sample_ID                        method_type  \n",
      "0                   AC-10xBlank-01202023               AC-10xBlank-01202023  \n",
      "2                   AC-10xBlank-01202023               AC-10xBlank-01202023  \n",
      "4                   AC-10xBlank-01202023               AC-10xBlank-01202023  \n",
      "6                   AC-10xBlank-01202023               AC-10xBlank-01202023  \n",
      "8                   AC-10xBlank-01202023               AC-10xBlank-01202023  \n",
      "...                                  ...                                ...  \n",
      "56912  TG2-M5FAD173-WT-Hippo10x-01192023  TG2-M5FAD173-WT-Hippo10x-01192023  \n",
      "56913  TG2-M5FAD173-WT-Hippo10x-01192023  TG2-M5FAD173-WT-Hippo10x-01192023  \n",
      "56914  TG2-M5FAD173-WT-Hippo10x-01192023  TG2-M5FAD173-WT-Hippo10x-01192023  \n",
      "56915  TG2-M5FAD173-WT-Hippo10x-01192023  TG2-M5FAD173-WT-Hippo10x-01192023  \n",
      "56916  TG2-M5FAD173-WT-Hippo10x-01192023  TG2-M5FAD173-WT-Hippo10x-01192023  \n",
      "\n",
      "[54735 rows x 8 columns]\n",
      "['Lipid', 'Parent_Ion', 'Product_Ion', 'Intensity', 'Transition', 'Class', 'Sample_ID', 'method_type'] Labels\n"
     ]
    },
    {
     "ename": "KeyError",
     "evalue": "'Sample Name'",
     "output_type": "error",
     "traceback": [
      "\u001b[0;31m---------------------------------------------------------------------------\u001b[0m",
      "\u001b[0;31mKeyError\u001b[0m                                  Traceback (most recent call last)",
      "File \u001b[0;32m~/anaconda3/envs/pymzml/lib/python3.9/site-packages/pandas/core/indexes/base.py:3803\u001b[0m, in \u001b[0;36mIndex.get_loc\u001b[0;34m(self, key, method, tolerance)\u001b[0m\n\u001b[1;32m   3802\u001b[0m \u001b[39mtry\u001b[39;00m:\n\u001b[0;32m-> 3803\u001b[0m     \u001b[39mreturn\u001b[39;00m \u001b[39mself\u001b[39;49m\u001b[39m.\u001b[39;49m_engine\u001b[39m.\u001b[39;49mget_loc(casted_key)\n\u001b[1;32m   3804\u001b[0m \u001b[39mexcept\u001b[39;00m \u001b[39mKeyError\u001b[39;00m \u001b[39mas\u001b[39;00m err:\n",
      "File \u001b[0;32m~/anaconda3/envs/pymzml/lib/python3.9/site-packages/pandas/_libs/index.pyx:138\u001b[0m, in \u001b[0;36mpandas._libs.index.IndexEngine.get_loc\u001b[0;34m()\u001b[0m\n",
      "File \u001b[0;32m~/anaconda3/envs/pymzml/lib/python3.9/site-packages/pandas/_libs/index.pyx:165\u001b[0m, in \u001b[0;36mpandas._libs.index.IndexEngine.get_loc\u001b[0;34m()\u001b[0m\n",
      "File \u001b[0;32mpandas/_libs/hashtable_class_helper.pxi:5745\u001b[0m, in \u001b[0;36mpandas._libs.hashtable.PyObjectHashTable.get_item\u001b[0;34m()\u001b[0m\n",
      "File \u001b[0;32mpandas/_libs/hashtable_class_helper.pxi:5753\u001b[0m, in \u001b[0;36mpandas._libs.hashtable.PyObjectHashTable.get_item\u001b[0;34m()\u001b[0m\n",
      "\u001b[0;31mKeyError\u001b[0m: 'Sample Name'",
      "\nThe above exception was the direct cause of the following exception:\n",
      "\u001b[0;31mKeyError\u001b[0m                                  Traceback (most recent call last)",
      "\u001b[1;32m/home/sanjay/github/lipids/Lipidomics/lipid_platform/Lipid_MRM_parser_v2.ipynb Cell 11\u001b[0m in \u001b[0;36m1\n\u001b[1;32m     <a href='vscode-notebook-cell://wsl%2Bubuntu-20.04/home/sanjay/github/lipids/Lipidomics/lipid_platform/Lipid_MRM_parser_v2.ipynb#X14sdnNjb2RlLXJlbW90ZQ%3D%3D?line=10'>11</a>\u001b[0m     df_matched \u001b[39m=\u001b[39m pd\u001b[39m.\u001b[39mread_csv(os\u001b[39m.\u001b[39mpath\u001b[39m.\u001b[39mjoin(Project_Folder, \u001b[39m\"\u001b[39m\u001b[39mProcessed Results\u001b[39m\u001b[39m\"\u001b[39m, file_name_to_save\u001b[39m+\u001b[39m\u001b[39m\"\u001b[39m\u001b[39m.csv\u001b[39m\u001b[39m\"\u001b[39m))\n\u001b[1;32m     <a href='vscode-notebook-cell://wsl%2Bubuntu-20.04/home/sanjay/github/lipids/Lipidomics/lipid_platform/Lipid_MRM_parser_v2.ipynb#X14sdnNjb2RlLXJlbW90ZQ%3D%3D?line=11'>12</a>\u001b[0m \u001b[39melse\u001b[39;00m:\n\u001b[0;32m---> <a href='vscode-notebook-cell://wsl%2Bubuntu-20.04/home/sanjay/github/lipids/Lipidomics/lipid_platform/Lipid_MRM_parser_v2.ipynb#X14sdnNjb2RlLXJlbW90ZQ%3D%3D?line=12'>13</a>\u001b[0m     df_matched \u001b[39m=\u001b[39m full_parse(data_base_name_location, mzml_folder, folder_name_to_save, labels_df, blank_name, \n\u001b[1;32m     <a href='vscode-notebook-cell://wsl%2Bubuntu-20.04/home/sanjay/github/lipids/Lipidomics/lipid_platform/Lipid_MRM_parser_v2.ipynb#X14sdnNjb2RlLXJlbW90ZQ%3D%3D?line=13'>14</a>\u001b[0m                             file_name_to_save, tolerance, custom_data\u001b[39m=\u001b[39;49mcustom_data, remove_std\u001b[39m=\u001b[39;49mremove_std, save_data\u001b[39m=\u001b[39;49msave_data)\n\u001b[1;32m     <a href='vscode-notebook-cell://wsl%2Bubuntu-20.04/home/sanjay/github/lipids/Lipidomics/lipid_platform/Lipid_MRM_parser_v2.ipynb#X14sdnNjb2RlLXJlbW90ZQ%3D%3D?line=14'>15</a>\u001b[0m \u001b[39mprint\u001b[39m(\u001b[39m\"\u001b[39m\u001b[39mData processing complete\u001b[39m\u001b[39m\"\u001b[39m)\n\u001b[1;32m     <a href='vscode-notebook-cell://wsl%2Bubuntu-20.04/home/sanjay/github/lipids/Lipidomics/lipid_platform/Lipid_MRM_parser_v2.ipynb#X14sdnNjb2RlLXJlbW90ZQ%3D%3D?line=16'>17</a>\u001b[0m \u001b[39m# Class renaming for custom data\u001b[39;00m\n",
      "File \u001b[0;32m~/github/lipids/Lipidomics/lipid_platform/NO_AVERAGE_SCRIPTS.py:1205\u001b[0m, in \u001b[0;36mfull_parse\u001b[0;34m(data_base_name_location, mzml_folder, folder_name_to_save, labels_df, blank_name, file_name_to_save, tolerance, custom_data, remove_std, save_data)\u001b[0m\n\u001b[1;32m   1201\u001b[0m \u001b[39mprint\u001b[39m((df_matched))\n\u001b[1;32m   1203\u001b[0m \u001b[39mprint\u001b[39m(\u001b[39mlist\u001b[39m(df_matched),\u001b[39m\"\u001b[39m\u001b[39mLabels\u001b[39m\u001b[39m\"\u001b[39m)\n\u001b[0;32m-> 1205\u001b[0m df_matched \u001b[39m=\u001b[39m subtract_blank(labels_df,df_matched,blank_name)\n\u001b[1;32m   1206\u001b[0m \u001b[39mprint\u001b[39m((df_matched))\n\u001b[1;32m   1208\u001b[0m \u001b[39mprint\u001b[39m(\u001b[39mlist\u001b[39m(df_matched),\u001b[39m\"\u001b[39m\u001b[39mBlank Subtraction\u001b[39m\u001b[39m\"\u001b[39m)\n",
      "File \u001b[0;32m~/github/lipids/Lipidomics/lipid_platform/NO_AVERAGE_SCRIPTS.py:427\u001b[0m, in \u001b[0;36msubtract_blank\u001b[0;34m(labels_df, matched_df, blank_name)\u001b[0m\n\u001b[1;32m    424\u001b[0m     matched_df \u001b[39m=\u001b[39m matched_df\u001b[39m.\u001b[39mdropna()\n\u001b[1;32m    426\u001b[0m     \u001b[39m###Subtracting the Blank\u001b[39;00m\n\u001b[0;32m--> 427\u001b[0m     blank_intensities_df \u001b[39m=\u001b[39m matched_df[matched_df[\u001b[39m'\u001b[39;49m\u001b[39mSample Name\u001b[39;49m\u001b[39m'\u001b[39;49m] \u001b[39m==\u001b[39m blank_name][[\u001b[39m'\u001b[39m\u001b[39mLipid\u001b[39m\u001b[39m'\u001b[39m,\u001b[39m\"\u001b[39m\u001b[39mTransition\u001b[39m\u001b[39m\"\u001b[39m, \u001b[39m'\u001b[39m\u001b[39mIntensity\u001b[39m\u001b[39m'\u001b[39m, \u001b[39m'\u001b[39m\u001b[39mmethod_type\u001b[39m\u001b[39m'\u001b[39m]]\n\u001b[1;32m    428\u001b[0m     blank_intensities_df\u001b[39m.\u001b[39mcolumns \u001b[39m=\u001b[39m [\u001b[39m'\u001b[39m\u001b[39mLipid\u001b[39m\u001b[39m'\u001b[39m,\u001b[39m\"\u001b[39m\u001b[39mTransition\u001b[39m\u001b[39m\"\u001b[39m, \u001b[39m'\u001b[39m\u001b[39mBlank_Intensity\u001b[39m\u001b[39m'\u001b[39m, \u001b[39m'\u001b[39m\u001b[39mmethod_type\u001b[39m\u001b[39m'\u001b[39m]\n\u001b[1;32m    431\u001b[0m \u001b[39m# Get the unique names in the Name column, excluding the blank_name\u001b[39;00m\n",
      "File \u001b[0;32m~/anaconda3/envs/pymzml/lib/python3.9/site-packages/pandas/core/frame.py:3805\u001b[0m, in \u001b[0;36mDataFrame.__getitem__\u001b[0;34m(self, key)\u001b[0m\n\u001b[1;32m   3803\u001b[0m \u001b[39mif\u001b[39;00m \u001b[39mself\u001b[39m\u001b[39m.\u001b[39mcolumns\u001b[39m.\u001b[39mnlevels \u001b[39m>\u001b[39m \u001b[39m1\u001b[39m:\n\u001b[1;32m   3804\u001b[0m     \u001b[39mreturn\u001b[39;00m \u001b[39mself\u001b[39m\u001b[39m.\u001b[39m_getitem_multilevel(key)\n\u001b[0;32m-> 3805\u001b[0m indexer \u001b[39m=\u001b[39m \u001b[39mself\u001b[39;49m\u001b[39m.\u001b[39;49mcolumns\u001b[39m.\u001b[39;49mget_loc(key)\n\u001b[1;32m   3806\u001b[0m \u001b[39mif\u001b[39;00m is_integer(indexer):\n\u001b[1;32m   3807\u001b[0m     indexer \u001b[39m=\u001b[39m [indexer]\n",
      "File \u001b[0;32m~/anaconda3/envs/pymzml/lib/python3.9/site-packages/pandas/core/indexes/base.py:3805\u001b[0m, in \u001b[0;36mIndex.get_loc\u001b[0;34m(self, key, method, tolerance)\u001b[0m\n\u001b[1;32m   3803\u001b[0m     \u001b[39mreturn\u001b[39;00m \u001b[39mself\u001b[39m\u001b[39m.\u001b[39m_engine\u001b[39m.\u001b[39mget_loc(casted_key)\n\u001b[1;32m   3804\u001b[0m \u001b[39mexcept\u001b[39;00m \u001b[39mKeyError\u001b[39;00m \u001b[39mas\u001b[39;00m err:\n\u001b[0;32m-> 3805\u001b[0m     \u001b[39mraise\u001b[39;00m \u001b[39mKeyError\u001b[39;00m(key) \u001b[39mfrom\u001b[39;00m \u001b[39merr\u001b[39;00m\n\u001b[1;32m   3806\u001b[0m \u001b[39mexcept\u001b[39;00m \u001b[39mTypeError\u001b[39;00m:\n\u001b[1;32m   3807\u001b[0m     \u001b[39m# If we have a listlike key, _check_indexing_error will raise\u001b[39;00m\n\u001b[1;32m   3808\u001b[0m     \u001b[39m#  InvalidIndexError. Otherwise we fall through and re-raise\u001b[39;00m\n\u001b[1;32m   3809\u001b[0m     \u001b[39m#  the TypeError.\u001b[39;00m\n\u001b[1;32m   3810\u001b[0m     \u001b[39mself\u001b[39m\u001b[39m.\u001b[39m_check_indexing_error(key)\n",
      "\u001b[0;31mKeyError\u001b[0m: 'Sample Name'"
     ]
    }
   ],
   "source": [
    "# Suppress warnings for a cleaner output\n",
    "warnings.filterwarnings('ignore')\n",
    "\n",
    "# Display a GIF as a visual cue for data loading process\n",
    "# gif = Image(filename='Figures/cat_gif.gif')  # replace 'your_gif.gif' with the path to your GIF\n",
    "# display(gif)\n",
    "print(\"Your data is PURRing...\")\n",
    "\n",
    "# Load preprocessed data if the flag is set to True, else parse raw data\n",
    "if load_previously_parsed:\n",
    "    df_matched = pd.read_csv(os.path.join(Project_Folder, \"Processed Results\", file_name_to_save+\".csv\"))\n",
    "else:\n",
    "    df_matched = full_parse(data_base_name_location, mzml_folder, folder_name_to_save, labels_df, blank_name, \n",
    "                            file_name_to_save, tolerance, custom_data=custom_data, remove_std=remove_std, save_data=save_data)\n",
    "print(\"Data processing complete\")\n",
    "\n",
    "# Class renaming for custom data\n",
    "if custom_data:\n",
    "    class_rename_dict = {'AC': 'CAR', 'FFA': 'FA', 'CE | CE': 'CE', 'PE | PE': 'PE', 'PG | PG': 'PG', \n",
    "                         'PG | PG | PG': 'PG', 'PI | PI': 'PI', 'PS | PS': 'PS','CER': 'Cer', 'TAG': 'TG',}\n",
    "    df_matched['Class'] = df_matched['Class'].replace(class_rename_dict)\n",
    "\n",
    "# Load comparison pairs for plotting and remove empty entries\n",
    "json_list_pairs = remove_empty_entries(load_data())\n",
    "# Get unique JSON objects for individual plotting\n",
    "json_list_singles = get_unique_json_objects(json_list_pairs)\n",
    "\n",
    "# # Plotting section\n",
    "# make_pie_chart_no_replicates(df_matched, plots_2_save_path, json_list_singles, labels_list, blank_name, extra_name)\n",
    "# average_pie_chart_no_repeats(df_matched, plots_2_save_path, json_list_singles, labels_list, blank_name, extra_name)\n",
    "# make_bar_plot_comparisons(df_matched, plots_2_save_path, json_list_pairs, labels_list, blank_name, extra_name)\n",
    "\n",
    "# Preparation for EdgeR processing\n",
    "labels_list += ['method_type', \"Transition\"]\n",
    "df_matched = add_suffix(df_matched)\n",
    "combined_df = prep_edge_R(df_matched, json_list_pairs, Pre_edge_r_path, blank_name, labels_list, extra_name)\n",
    "\n",
    "# Call bash script to run EdgeR processing\n",
    "!bash myjob.sh\n"
   ]
  },
  {
   "cell_type": "code",
   "execution_count": 6,
   "metadata": {},
   "outputs": [
    {
     "name": "stdout",
     "output_type": "stream",
     "text": [
      "['Sample Name', 'Position', 'Genotype', 'Brain Region', 'Sex']\n"
     ]
    },
    {
     "ename": "NameError",
     "evalue": "name 'df_matched' is not defined",
     "output_type": "error",
     "traceback": [
      "\u001b[0;31m---------------------------------------------------------------------------\u001b[0m",
      "\u001b[0;31mNameError\u001b[0m                                 Traceback (most recent call last)",
      "\u001b[1;32m/home/sanjay/github/lipids/Lipidomics/lipid_platform/Lipid_MRM_parser_v2.ipynb Cell 12\u001b[0m in \u001b[0;36m2\n\u001b[1;32m      <a href='vscode-notebook-cell://wsl%2Bubuntu-20.04/home/sanjay/github/lipids/Lipidomics/lipid_platform/Lipid_MRM_parser_v2.ipynb#X16sdnNjb2RlLXJlbW90ZQ%3D%3D?line=0'>1</a>\u001b[0m \u001b[39mprint\u001b[39m(\u001b[39mlist\u001b[39m(labels_df))\n\u001b[0;32m----> <a href='vscode-notebook-cell://wsl%2Bubuntu-20.04/home/sanjay/github/lipids/Lipidomics/lipid_platform/Lipid_MRM_parser_v2.ipynb#X16sdnNjb2RlLXJlbW90ZQ%3D%3D?line=1'>2</a>\u001b[0m \u001b[39mprint\u001b[39m(\u001b[39mlist\u001b[39m(df_matched))\n",
      "\u001b[0;31mNameError\u001b[0m: name 'df_matched' is not defined"
     ]
    }
   ],
   "source": [
    "print(list(labels_df))\n",
    "print(list(df_matched))"
   ]
  },
  {
   "cell_type": "code",
   "execution_count": 8,
   "metadata": {},
   "outputs": [
    {
     "name": "stdout",
     "output_type": "stream",
     "text": [
      "myjob_v2.sh: line 3: $'\\r': command not found\n",
      "myjob_v2.sh: line 4: $'\\r': command not found\n",
      "myjob_v2.sh: line 5: module: command not found\n",
      "myjob_v2.sh: line 6: $'\\r': command not found\n",
      "Loading required package: ggplot2\n",
      "\u001b[?25h\u001b[?25h\u001b[?25h── \u001b[1mAttaching core tidyverse packages\u001b[22m ──────────────────────── tidyverse 2.0.0 ──\n",
      "\u001b[32m✔\u001b[39m \u001b[34mdplyr    \u001b[39m 1.1.2     \u001b[32m✔\u001b[39m \u001b[34mreadr    \u001b[39m 2.1.4\n",
      "\u001b[32m✔\u001b[39m \u001b[34mforcats  \u001b[39m 1.0.0     \u001b[32m✔\u001b[39m \u001b[34mstringr  \u001b[39m 1.5.0\n",
      "\u001b[32m✔\u001b[39m \u001b[34mlubridate\u001b[39m 1.9.2     \u001b[32m✔\u001b[39m \u001b[34mtibble   \u001b[39m 3.2.1\n",
      "\u001b[32m✔\u001b[39m \u001b[34mpurrr    \u001b[39m 1.0.1     \u001b[32m✔\u001b[39m \u001b[34mtidyr    \u001b[39m 1.3.0\n",
      "── \u001b[1mConflicts\u001b[22m ────────────────────────────────────────── tidyverse_conflicts() ──\n",
      "\u001b[31m✖\u001b[39m \u001b[34mdplyr\u001b[39m::\u001b[32marrange()\u001b[39m   masks \u001b[34mplyr\u001b[39m::arrange()\n",
      "\u001b[31m✖\u001b[39m \u001b[34mpurrr\u001b[39m::\u001b[32mcompact()\u001b[39m   masks \u001b[34mplyr\u001b[39m::compact()\n",
      "\u001b[31m✖\u001b[39m \u001b[34mdplyr\u001b[39m::\u001b[32mcount()\u001b[39m     masks \u001b[34mplyr\u001b[39m::count()\n",
      "\u001b[31m✖\u001b[39m \u001b[34mdplyr\u001b[39m::\u001b[32mdesc()\u001b[39m      masks \u001b[34mplyr\u001b[39m::desc()\n",
      "\u001b[31m✖\u001b[39m \u001b[34mdplyr\u001b[39m::\u001b[32mfailwith()\u001b[39m  masks \u001b[34mplyr\u001b[39m::failwith()\n",
      "\u001b[31m✖\u001b[39m \u001b[34mdplyr\u001b[39m::\u001b[32mfilter()\u001b[39m    masks \u001b[34mstats\u001b[39m::filter()\n",
      "\u001b[31m✖\u001b[39m \u001b[34mdplyr\u001b[39m::\u001b[32mid()\u001b[39m        masks \u001b[34mplyr\u001b[39m::id()\n",
      "\u001b[31m✖\u001b[39m \u001b[34mdplyr\u001b[39m::\u001b[32mlag()\u001b[39m       masks \u001b[34mstats\u001b[39m::lag()\n",
      "\u001b[31m✖\u001b[39m \u001b[34mdplyr\u001b[39m::\u001b[32mmutate()\u001b[39m    masks \u001b[34mplyr\u001b[39m::mutate()\n",
      "\u001b[31m✖\u001b[39m \u001b[34mdplyr\u001b[39m::\u001b[32mrename()\u001b[39m    masks \u001b[34mplyr\u001b[39m::rename()\n",
      "\u001b[31m✖\u001b[39m \u001b[34mdplyr\u001b[39m::\u001b[32msummarise()\u001b[39m masks \u001b[34mplyr\u001b[39m::summarise()\n",
      "\u001b[31m✖\u001b[39m \u001b[34mdplyr\u001b[39m::\u001b[32msummarize()\u001b[39m masks \u001b[34mplyr\u001b[39m::summarize()\n",
      "\u001b[36mℹ\u001b[39m Use the conflicted package (\u001b[3m\u001b[34m<http://conflicted.r-lib.org/>\u001b[39m\u001b[23m) to force all conflicts to become errors\n",
      "\u001b[?25h\u001b[?25h\u001b[?25h\u001b[?25h\u001b[?25h\u001b[?25h\u001b[?25h\u001b[?25h\u001b[?25h\n",
      "Attaching package: ‘scales’\n",
      "\n",
      "The following object is masked from ‘package:purrr’:\n",
      "\n",
      "    discard\n",
      "\n",
      "The following object is masked from ‘package:readr’:\n",
      "\n",
      "    col_factor\n",
      "\n",
      "\u001b[?25h\n",
      "Attaching package: ‘cowplot’\n",
      "\n",
      "The following object is masked from ‘package:lubridate’:\n",
      "\n",
      "    stamp\n",
      "\n",
      "\u001b[?25hError in library(ggExtra) : there is no package called ‘ggExtra’\n",
      "Execution halted\n",
      "\u001b[?25h\u001b[?25h── \u001b[1mAttaching core tidyverse packages\u001b[22m ──────────────────────── tidyverse 2.0.0 ──\n",
      "\u001b[32m✔\u001b[39m \u001b[34mdplyr    \u001b[39m 1.1.2     \u001b[32m✔\u001b[39m \u001b[34mreadr    \u001b[39m 2.1.4\n",
      "\u001b[32m✔\u001b[39m \u001b[34mforcats  \u001b[39m 1.0.0     \u001b[32m✔\u001b[39m \u001b[34mstringr  \u001b[39m 1.5.0\n",
      "\u001b[32m✔\u001b[39m \u001b[34mggplot2  \u001b[39m 3.4.2     \u001b[32m✔\u001b[39m \u001b[34mtibble   \u001b[39m 3.2.1\n",
      "\u001b[32m✔\u001b[39m \u001b[34mlubridate\u001b[39m 1.9.2     \u001b[32m✔\u001b[39m \u001b[34mtidyr    \u001b[39m 1.3.0\n",
      "\u001b[32m✔\u001b[39m \u001b[34mpurrr    \u001b[39m 1.0.1     \n",
      "── \u001b[1mConflicts\u001b[22m ────────────────────────────────────────── tidyverse_conflicts() ──\n",
      "\u001b[31m✖\u001b[39m \u001b[34mdplyr\u001b[39m::\u001b[32marrange()\u001b[39m   masks \u001b[34mplyr\u001b[39m::arrange()\n",
      "\u001b[31m✖\u001b[39m \u001b[34mpurrr\u001b[39m::\u001b[32mcompact()\u001b[39m   masks \u001b[34mplyr\u001b[39m::compact()\n",
      "\u001b[31m✖\u001b[39m \u001b[34mdplyr\u001b[39m::\u001b[32mcount()\u001b[39m     masks \u001b[34mplyr\u001b[39m::count()\n",
      "\u001b[31m✖\u001b[39m \u001b[34mdplyr\u001b[39m::\u001b[32mdesc()\u001b[39m      masks \u001b[34mplyr\u001b[39m::desc()\n",
      "\u001b[31m✖\u001b[39m \u001b[34mdplyr\u001b[39m::\u001b[32mfailwith()\u001b[39m  masks \u001b[34mplyr\u001b[39m::failwith()\n",
      "\u001b[31m✖\u001b[39m \u001b[34mdplyr\u001b[39m::\u001b[32mfilter()\u001b[39m    masks \u001b[34mstats\u001b[39m::filter()\n",
      "\u001b[31m✖\u001b[39m \u001b[34mdplyr\u001b[39m::\u001b[32mid()\u001b[39m        masks \u001b[34mplyr\u001b[39m::id()\n",
      "\u001b[31m✖\u001b[39m \u001b[34mdplyr\u001b[39m::\u001b[32mlag()\u001b[39m       masks \u001b[34mstats\u001b[39m::lag()\n",
      "\u001b[31m✖\u001b[39m \u001b[34mdplyr\u001b[39m::\u001b[32mmutate()\u001b[39m    masks \u001b[34mplyr\u001b[39m::mutate()\n",
      "\u001b[31m✖\u001b[39m \u001b[34mdplyr\u001b[39m::\u001b[32mrename()\u001b[39m    masks \u001b[34mplyr\u001b[39m::rename()\n",
      "\u001b[31m✖\u001b[39m \u001b[34mdplyr\u001b[39m::\u001b[32msummarise()\u001b[39m masks \u001b[34mplyr\u001b[39m::summarise()\n",
      "\u001b[31m✖\u001b[39m \u001b[34mdplyr\u001b[39m::\u001b[32msummarize()\u001b[39m masks \u001b[34mplyr\u001b[39m::summarize()\n",
      "\u001b[36mℹ\u001b[39m Use the conflicted package (\u001b[3m\u001b[34m<http://conflicted.r-lib.org/>\u001b[39m\u001b[23m) to force all conflicts to become errors\n",
      "\u001b[?25h\u001b[?25hLoading required package: limma\n",
      "\u001b[?25h\u001b[?25h\u001b[?25h\u001b[?25h\n",
      "Attaching package: ‘reshape2’\n",
      "\n",
      "The following object is masked from ‘package:tidyr’:\n",
      "\n",
      "    smiths\n",
      "\n",
      "\u001b[?25h\u001b[?25h\u001b[?25h\u001b[?25h\u001b[?25h\n",
      "Attaching package: ‘scales’\n",
      "\n",
      "The following object is masked from ‘package:purrr’:\n",
      "\n",
      "    discard\n",
      "\n",
      "The following object is masked from ‘package:readr’:\n",
      "\n",
      "    col_factor\n",
      "\n",
      "\u001b[?25h\u001b[?25h\n",
      "Attaching package: ‘cowplot’\n",
      "\n",
      "The following object is masked from ‘package:lubridate’:\n",
      "\n",
      "    stamp\n",
      "\n",
      "\u001b[?25h\u001b[?25hWarning message:\n",
      "In readLines(\"Variable_Storage/folder_path.txt\") :\n",
      "  incomplete final line found on 'Variable_Storage/folder_path.txt'\n",
      "\u001b[?25h[1] \"/home/sanjay/github/lipids/Lipidomics/lipid_platform/Projects/liverLD_rerun/\"\n",
      "\u001b[?25h\u001b[?25h\u001b[?25h\u001b[1mRows: \u001b[22m\u001b[34m616\u001b[39m \u001b[1mColumns: \u001b[22m\u001b[34m19\u001b[39m\n",
      "\u001b[36m──\u001b[39m \u001b[1mColumn specification\u001b[22m \u001b[36m────────────────────────────────────────────────────────\u001b[39m\n",
      "\u001b[1mDelimiter:\u001b[22m \",\"\n",
      "\u001b[31mchr\u001b[39m  (6): Lipid, Class, Title1, Title2, Title, Blank_name\n",
      "\u001b[32mdbl\u001b[39m (13): DOD73m2_500x_N1__liverLD__8_8_23_x, FAD131m1_500x_N1__liverLD__8_8...\n",
      "\n",
      "\u001b[36mℹ\u001b[39m Use `spec()` to retrieve the full column specification for this data.\n",
      "\u001b[36mℹ\u001b[39m Specify the column types or set `show_col_types = FALSE` to quiet this message.\n",
      "\u001b[1mRows: \u001b[22m\u001b[34m616\u001b[39m \u001b[1mColumns: \u001b[22m\u001b[34m19\u001b[39m\n",
      "\u001b[36m──\u001b[39m \u001b[1mColumn specification\u001b[22m \u001b[36m────────────────────────────────────────────────────────\u001b[39m\n",
      "\u001b[1mDelimiter:\u001b[22m \",\"\n",
      "\u001b[31mchr\u001b[39m  (6): Lipid, Class, Title1, Title2, Title, Blank_name\n",
      "\u001b[32mdbl\u001b[39m (13): DOD73-5xFAD-M2liver_033123, FAD131-5xFAD-M1liver_033123, FAD131-5x...\n",
      "\n",
      "\u001b[36mℹ\u001b[39m Use `spec()` to retrieve the full column specification for this data.\n",
      "\u001b[36mℹ\u001b[39m Specify the column types or set `show_col_types = FALSE` to quiet this message.\n",
      "\u001b[?25h\u001b[?25h"
     ]
    }
   ],
   "source": [
    "# Call bash script to run EdgeR processing\n",
    "!bash myjob_v2.sh"
   ]
  }
 ],
 "metadata": {
  "kernelspec": {
   "display_name": "Python 3 (ipykernel)",
   "language": "python",
   "name": "python3"
  },
  "language_info": {
   "codemirror_mode": {
    "name": "ipython",
    "version": 3
   },
   "file_extension": ".py",
   "mimetype": "text/x-python",
   "name": "python",
   "nbconvert_exporter": "python",
   "pygments_lexer": "ipython3",
   "version": "3.9.15"
  },
  "vscode": {
   "interpreter": {
    "hash": "7f59e923a9cab402a21ecdd8c8501a7d121113b28792a99acb445fcdcb4f42c3"
   }
  }
 },
 "nbformat": 4,
 "nbformat_minor": 2
}
