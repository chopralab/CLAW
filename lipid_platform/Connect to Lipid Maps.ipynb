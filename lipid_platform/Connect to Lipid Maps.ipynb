{
 "cells": [
  {
   "cell_type": "code",
   "execution_count": 4,
   "id": "3bd04e88",
   "metadata": {},
   "outputs": [
    {
     "name": "stdout",
     "output_type": "stream",
     "text": [
      "input\t(13Z,16Z)-docosadienoylcarnitine\n",
      "regno\t45996\n",
      "lm_id\tLMFA07070012\n",
      "name\t(13Z,16Z)-docosadienoylcarnitine\n",
      "sys_name\t3-[(13Z,16Z)-docosa-13,16-dienoyloxy]-4-(trimethylazaniumyl)butanoate\n",
      "synonyms\t13-cis,16-cis-docosadienoylcarnitine;3-[(13Z,16Z)-docosa-13,16-dienoyloxy]-4-(trimethylammonio)butanoate\n",
      "abbrev\tCAR 22:2\n",
      "core\tFatty Acyls [FA]\n",
      "main_class\tFatty esters [FA07]\n",
      "sub_class\tFatty acyl carnitines [FA0707]\n",
      "exactmass\t479.397459\n",
      "formula\tC29H53NO4\n",
      "inchi\tInChI=1S/C29H53NO4/c1-5-6-7-8-9-10-11-12-13-14-15-16-17-18-19-20-21-22-23-24-29(33)34-27(25-28(31)32)26-30(2,3)4/h9-10,12-13,27H,5-8,11,14-26H2,1-4H3/b10-9-,13-12-\n",
      "inchi_key\tLDIMXAXYWUCEAM-UTJQPWESSA-N\n",
      "chebi_id\t73120\n",
      "pubchem_cid\t71464511\n",
      "smiles\tC(C([O-])=O)C(OC(CCCCCCCCCCC/C=C\\C/C=C\\CCCCC)=O)C[N+](C)(C)C\n",
      " \n",
      " \n",
      " \n",
      "input\tPC(30:2)\n",
      "regno\t28004\n",
      "lm_id\tLMGP01011614\n",
      "name\tPC(18:2(9Z,12Z)/12:0)\n",
      "sys_name\t1-(9Z,12Z-octadecadienoyl)-2-dodecanoyl-glycero-3-phosphocholine\n",
      "synonyms\tPC(30:2); PC(12:0_18:2)\n",
      "abbrev\tPC 30:2\n",
      "abbrev_chains\tPC 12:0_18:2\n",
      "core\tGlycerophospholipids [GP]\n",
      "main_class\tGlycerophosphocholines [GP01]\n",
      "sub_class\tDiacylglycerophosphocholines [GP0101]\n",
      "exactmass\t701.499557\n",
      "formula\tC38H72NO8P\n",
      "inchi\tInChI=1S/C38H72NO8P/c1-6-8-10-12-14-16-17-18-19-20-21-23-24-26-28-30-37(40)44-34-36(35-46-48(42,43)45-33-32-39(3,4)5)47-38(41)31-29-27-25-22-15-13-11-9-7-2/h14,16,18-19,36H,6-13,15,17,20-35H2,1-5H3/b16-14-,19-18-/t36-/m1/s1\n",
      "inchi_key\tBMXDYKARTZAUOS-QYZSMWKLSA-N\n",
      "pubchem_cid\t52922707\n",
      "smiles\t[C@](COP(=O)([O-])OCC[N+](C)(C)C)([H])(OC(CCCCCCCCCCC)=O)COC(CCCCCCC/C=C\\C/C=C\\CCCCC)=O\n",
      "\n",
      "input\tPC(30:2)\n",
      "regno\t27942\n",
      "lm_id\tLMGP01011552\n",
      "name\tPC(17:2(9Z,12Z)/13:0)\n",
      "sys_name\t1-(9Z,12Z-heptadecadienoyl)-2-tridecanoyl-glycero-3-phosphocholine\n",
      "synonyms\tPC(30:2); PC(13:0_17:2)\n",
      "abbrev\tPC 30:2\n",
      "abbrev_chains\tPC 13:0_17:2\n",
      "core\tGlycerophospholipids [GP]\n",
      "main_class\tGlycerophosphocholines [GP01]\n",
      "sub_class\tDiacylglycerophosphocholines [GP0101]\n",
      "exactmass\t701.499557\n",
      "formula\tC38H72NO8P\n",
      "inchi\tInChI=1S/C38H72NO8P/c1-6-8-10-12-14-16-18-19-20-21-23-24-26-28-30-37(40)44-34-36(35-46-48(42,43)45-33-32-39(3,4)5)47-38(41)31-29-27-25-22-17-15-13-11-9-7-2/h12,14,18-19,36H,6-11,13,15-17,20-35H2,1-5H3/b14-12-,19-18-/t36-/m1/s1\n",
      "inchi_key\tXTJRWWDMKMCQBR-LRJQWVAUSA-N\n",
      "pubchem_cid\t52922583\n",
      "smiles\t[C@](COP(=O)([O-])OCC[N+](C)(C)C)([H])(OC(CCCCCCCCCCCC)=O)COC(CCCCCCC/C=C\\C/C=C\\CCCC)=O\n",
      "\n",
      "input\tPC(30:2)\n",
      "regno\t27710\n",
      "lm_id\tLMGP01011323\n",
      "name\tPC(12:0/18:2(9Z,12Z))\n",
      "sys_name\t1-dodecanoyl-2-(9Z,12Z-octadecadienoyl)-glycero-3-phosphocholine\n",
      "synonyms\tPC(30:2); PC(12:0_18:2)\n",
      "abbrev\tPC 30:2\n",
      "abbrev_chains\tPC 12:0_18:2\n",
      "core\tGlycerophospholipids [GP]\n",
      "main_class\tGlycerophosphocholines [GP01]\n",
      "sub_class\tDiacylglycerophosphocholines [GP0101]\n",
      "exactmass\t701.499557\n",
      "formula\tC38H72NO8P\n",
      "inchi\tInChI=1S/C38H72NO8P/c1-6-8-10-12-14-16-17-18-19-20-21-23-25-27-29-31-38(41)47-36(35-46-48(42,43)45-33-32-39(3,4)5)34-44-37(40)30-28-26-24-22-15-13-11-9-7-2/h14,16,18-19,36H,6-13,15,17,20-35H2,1-5H3/b16-14-,19-18-/t36-/m1/s1\n",
      "inchi_key\tPXSRIASFTWIQOT-QYZSMWKLSA-N\n",
      "pubchem_cid\t52922128\n",
      "smiles\t[C@](COP(=O)([O-])OCC[N+](C)(C)C)([H])(OC(CCCCCCC/C=C\\C/C=C\\CCCCC)=O)COC(CCCCCCCCCCC)=O\n",
      "\n",
      "input\tPC(30:2)\n",
      "regno\t27732\n",
      "lm_id\tLMGP01011345\n",
      "name\tPC(13:0/17:2(9Z,12Z))\n",
      "sys_name\t1-tridecanoyl-2-(9Z,12Z-heptadecadienoyl)-glycero-3-phosphocholine\n",
      "synonyms\tPC(30:2); PC(13:0_17:2)\n",
      "abbrev\tPC 30:2\n",
      "abbrev_chains\tPC 13:0_17:2\n",
      "core\tGlycerophospholipids [GP]\n",
      "main_class\tGlycerophosphocholines [GP01]\n",
      "sub_class\tDiacylglycerophosphocholines [GP0101]\n",
      "exactmass\t701.499557\n",
      "formula\tC38H72NO8P\n",
      "inchi\tInChI=1S/C38H72NO8P/c1-6-8-10-12-14-16-18-19-20-21-23-25-27-29-31-38(41)47-36(35-46-48(42,43)45-33-32-39(3,4)5)34-44-37(40)30-28-26-24-22-17-15-13-11-9-7-2/h12,14,18-19,36H,6-11,13,15-17,20-35H2,1-5H3/b14-12-,19-18-/t36-/m1/s1\n",
      "inchi_key\tYSTGUAZVAJMSJZ-LRJQWVAUSA-N\n",
      "pubchem_cid\t52922172\n",
      "smiles\t[C@](COP(=O)([O-])OCC[N+](C)(C)C)([H])(OC(CCCCCCC/C=C\\C/C=C\\CCCC)=O)COC(CCCCCCCCCCCC)=O\n",
      "\n",
      "input\tPC(30:2)\n",
      "regno\t27824\n",
      "lm_id\tLMGP01011436\n",
      "name\tPC(15:1(9Z)/15:1(9Z))\n",
      "sys_name\t1,2-di-(9Z-pentadecenoyl)-sn-glycero-3-phosphocholine\n",
      "synonyms\tPC(30:2); PC(15:1_15:1)\n",
      "abbrev\tPC 30:2\n",
      "abbrev_chains\tPC 15:1_15:1\n",
      "core\tGlycerophospholipids [GP]\n",
      "main_class\tGlycerophosphocholines [GP01]\n",
      "sub_class\tDiacylglycerophosphocholines [GP0101]\n",
      "exactmass\t701.499557\n",
      "formula\tC38H72NO8P\n",
      "inchi\tInChI=1S/C38H72NO8P/c1-6-8-10-12-14-16-18-20-22-24-26-28-30-37(40)44-34-36(35-46-48(42,43)45-33-32-39(3,4)5)47-38(41)31-29-27-25-23-21-19-17-15-13-11-9-7-2/h14-17,36H,6-13,18-35H2,1-5H3/b16-14-,17-15-/t36-/m1/s1\n",
      "inchi_key\tBQTXNAKXHQSYOW-UYKOKAMASA-N\n",
      "pubchem_cid\t52922354\n",
      "smiles\t[C@](COP(=O)([O-])OCC[N+](C)(C)C)([H])(OC(CCCCCCC/C=C\\CCCCC)=O)COC(CCCCCCC/C=C\\CCCCC)=O\n",
      "\n",
      "input\tPC(30:2)\n",
      "regno\t27864\n",
      "lm_id\tLMGP01011476\n",
      "name\tPC(16:1(9Z)/14:1(9Z))\n",
      "sys_name\t1-(9Z-hexadecenoyl)-2-(9Z-tetradecenoyl)-glycero-3-phosphocholine\n",
      "synonyms\tPC(30:2); PC(14:1_16:1)\n",
      "abbrev\tPC 30:2\n",
      "abbrev_chains\tPC 14:1_16:1\n",
      "core\tGlycerophospholipids [GP]\n",
      "main_class\tGlycerophosphocholines [GP01]\n",
      "sub_class\tDiacylglycerophosphocholines [GP0101]\n",
      "exactmass\t701.499557\n",
      "formula\tC38H72NO8P\n",
      "inchi\tInChI=1S/C38H72NO8P/c1-6-8-10-12-14-16-18-19-21-22-24-26-28-30-37(40)44-34-36(35-46-48(42,43)45-33-32-39(3,4)5)47-38(41)31-29-27-25-23-20-17-15-13-11-9-7-2/h13,15-16,18,36H,6-12,14,17,19-35H2,1-5H3/b15-13-,18-16-/t36-/m1/s1\n",
      "inchi_key\tWEVWHXAKLAWWAP-KQGJYXFZSA-N\n",
      "hmdb_id\tHMDB0007999\n",
      "chebi_id\t86415\n",
      "pubchem_cid\t52922434\n",
      "smiles\t[C@](COP(=O)([O-])OCC[N+](C)(C)C)([H])(OC(CCCCCCC/C=C\\CCCC)=O)COC(CCCCCCC/C=C\\CCCCCC)=O\n",
      "\n",
      "input\tPC(30:2)\n",
      "regno\t27772\n",
      "lm_id\tLMGP01011385\n",
      "name\tPC(14:1(9Z)/16:1(9Z))\n",
      "sys_name\t1-(9Z-tetradecenoyl)-2-(9Z-hexadecenoyl)-glycero-3-phosphocholine\n",
      "synonyms\tPC(30:2); PC(14:1_16:1)\n",
      "abbrev\tPC 30:2\n",
      "abbrev_chains\tPC 14:1_16:1\n",
      "core\tGlycerophospholipids [GP]\n",
      "main_class\tGlycerophosphocholines [GP01]\n",
      "sub_class\tDiacylglycerophosphocholines [GP0101]\n",
      "exactmass\t701.499557\n",
      "formula\tC38H72NO8P\n",
      "inchi\tInChI=1S/C38H72NO8P/c1-6-8-10-12-14-16-18-19-21-23-25-27-29-31-38(41)47-36(35-46-48(42,43)45-33-32-39(3,4)5)34-44-37(40)30-28-26-24-22-20-17-15-13-11-9-7-2/h13,15-16,18,36H,6-12,14,17,19-35H2,1-5H3/b15-13-,18-16-/t36-/m1/s1\n",
      "inchi_key\tRUTXZOOOUKHIRR-KQGJYXFZSA-N\n",
      "hmdb_id\tHMDB0007903\n",
      "chebi_id\t88908\n",
      "pubchem_cid\t52922252\n",
      "smiles\t[C@](COP(=O)([O-])OCC[N+](C)(C)C)([H])(OC(CCCCCCC/C=C\\CCCCCC)=O)COC(CCCCCCC/C=C\\CCCC)=O\n",
      "<class 'str'>\n",
      "5426\n",
      " \n",
      " \n",
      "LPC 30:2 \n",
      "\n",
      "<class 'str'>\n",
      "0\n"
     ]
    }
   ],
   "source": [
    "import requests\n",
    "\n",
    "def get_lipid_id_from_name(lipid_name):\n",
    "    url = f\"https://www.lipidmaps.org/rest/compound/abbrev/{lipid_name}/all/txt\"\n",
    "\n",
    "    response = requests.get(url)\n",
    "\n",
    "    if response.status_code == 200:\n",
    "        return response.text.strip()  # remove leading/trailing whitespace\n",
    "    else:\n",
    "        return None\n",
    "\n",
    "lipid_name = \"(13Z,16Z)-docosadienoylcarnitine\"\n",
    "lipid_id = get_lipid_id_from_name(lipid_name)\n",
    "print(lipid_id)\n",
    "\n",
    "print(\" \")\n",
    "print(\" \")\n",
    "print(\" \")\n",
    "\n",
    "print(get_lipid_id_from_name(\"PC(30:2)\"))\n",
    "print(type(get_lipid_id_from_name(\"PC(30:2)\")))\n",
    "print(len(get_lipid_id_from_name(\"PC(30:2)\")))\n",
    "print(\" \")\n",
    "print(\" \")\n",
    "print(\"LPC 30:2 \")\n",
    "print(get_lipid_id_from_name(\"LPC(30:2)\"))\n",
    "print(type(get_lipid_id_from_name(\"LPC(30:2)\")))\n",
    "print(len(get_lipid_id_from_name(\"LPC(30:2)\")))\n",
    "\n",
    "\n"
   ]
  },
  {
   "cell_type": "code",
   "execution_count": 46,
   "id": "c9a1a93c",
   "metadata": {},
   "outputs": [
    {
     "name": "stdout",
     "output_type": "stream",
     "text": [
      "Molecular Formula: C6H12O6\n",
      "Molecular Weight: 180.16\n",
      "IUPAC Name: (3R,4S,5S,6R)-6-(hydroxymethyl)oxane-2,3,4,5-tetrol\n",
      "InChIKey: WQZGKKKJIJFFOK-GASJEMHNSA-N\n"
     ]
    }
   ],
   "source": [
    "##Pub Chem\n",
    "import requests\n",
    "import json\n",
    "\n",
    "def get_compound_info(compound_name):\n",
    "    base_url = \"https://pubchem.ncbi.nlm.nih.gov/rest/pug\"\n",
    "    compound_url = f\"{base_url}/compound/name/{compound_name}/property/MolecularFormula,MolecularWeight,IUPACName,InChIKey/JSON\"\n",
    "    response = requests.get(compound_url)\n",
    "    \n",
    "    if response.status_code == 200:\n",
    "        data = json.loads(response.text)\n",
    "        compound_info = data[\"PropertyTable\"][\"Properties\"][0]\n",
    "        return compound_info\n",
    "    else:\n",
    "        return None\n",
    "compound_name = \"glucose\"\n",
    "info = get_compound_info(compound_name)\n",
    "\n",
    "if info:\n",
    "    print(f\"Molecular Formula: {info['MolecularFormula']}\")\n",
    "    print(f\"Molecular Weight: {info['MolecularWeight']}\")\n",
    "    print(f\"IUPAC Name: {info['IUPACName']}\")\n",
    "    print(f\"InChIKey: {info['InChIKey']}\")\n",
    "else:\n",
    "    print(\"Compound not found\")"
   ]
  },
  {
   "cell_type": "code",
   "execution_count": 72,
   "id": "07e748de",
   "metadata": {},
   "outputs": [
    {
     "name": "stdout",
     "output_type": "stream",
     "text": [
      "Compound not found\n"
     ]
    }
   ],
   "source": [
    "compound_name = \"SM(d18:2/18:1)\"\n",
    "info = get_compound_info(compound_name)\n",
    "\n",
    "if info:\n",
    "    print(f\"Molecular Formula: {info['MolecularFormula']}\")\n",
    "    print(f\"Molecular Weight: {info['MolecularWeight']}\")\n",
    "    print(f\"IUPAC Name: {info['IUPACName']}\")\n",
    "    print(f\"InChIKey: {info['InChIKey']}\")\n",
    "\n",
    "else:\n",
    "    print(\"Compound not found\")"
   ]
  },
  {
   "cell_type": "code",
   "execution_count": 11,
   "id": "786aa60c",
   "metadata": {},
   "outputs": [
    {
     "data": {
      "text/plain": [
       "{'CID': 71464511,\n",
       " 'MolecularFormula': 'C29H53NO4',\n",
       " 'MolecularWeight': '479.7',\n",
       " 'InChIKey': 'LDIMXAXYWUCEAM-UTJQPWESSA-N',\n",
       " 'IUPACName': '3-[(13Z,16Z)-docosa-13,16-dienoyl]oxy-4-(trimethylazaniumyl)butanoate'}"
      ]
     },
     "execution_count": 11,
     "metadata": {},
     "output_type": "execute_result"
    }
   ],
   "source": [
    "info"
   ]
  },
  {
   "cell_type": "code",
   "execution_count": 56,
   "id": "81cd6fae",
   "metadata": {
    "scrolled": true
   },
   "outputs": [
    {
     "name": "stdout",
     "output_type": "stream",
     "text": [
      "{\"input\":\"LKVJOPDCAIFBQA-LIDFFMGZSA-N\",\"regno\":\"44504\",\"lm_id\":\"LMST01020057\",\"name\":\"16:1 Campesterol ester\",\"sys_name\":\"Campest-5-en-3beta-yl (7Z-hexadecenoate)\",\"core\":\"Sterols [ST]\",\"main_class\":\"Sterols [ST01]\",\"sub_class\":\"Cholesteryl esters [ST0102]\",\"exactmass\":\"636.584530\",\"formula\":\"C44H76O2\",\"inchi\":\"InChI=1S\\/C44H76O2\\/c1-8-9-10-11-12-13-14-15-16-17-18-19-20-21-42(45)46-37-28-30-43(6)36(32-37)24-25-38-40-27-26-39(44(40,7)31-29-41(38)43)35(5)23-22-34(4)33(2)3\\/h15-16,24,33-35,37-41H,8-14,17-23,25-32H2,1-7H3\\/b16-15-\\/t34-,35-,37+,38+,39-,40+,41+,43+,44-\\/m1\\/s1\",\"inchi_key\":\"LKVJOPDCAIFBQA-LIDFFMGZSA-N\",\"pubchem_cid\":\"70699306\",\"smiles\":\"C1[C@H](OC(=O)CCCCC\\/C=C\\\\CCCCCCCC)CC2=CC[C@@]3([H])[C@]4([H])CC[C@]([H])([C@]([H])(C)CC[C@@H](C)C(C)C)[C@@]4(C)CC[C@]3([H])[C@@]2(C)C1\"}\n"
     ]
    }
   ],
   "source": [
    "def get_lipid_info(inchikey):\n",
    "    base_url = \"http://www.lipidmaps.org/rest\"\n",
    "    lipid_url = f\"{base_url}/compound/inchi_key/{inchikey}/all/json\"\n",
    "\n",
    "    response = requests.get(lipid_url)\n",
    "    \n",
    "\n",
    "\n",
    "    if response.status_code == 200:\n",
    "        return response.text.strip()  # remove leading/trailing whitespace\n",
    "    else:\n",
    "        return None\n",
    "\n",
    "#Use the function:\n",
    "\n",
    "inchikey = \"LKVJOPDCAIFBQA-LIDFFMGZSA-N\"\n",
    "info = get_lipid_info(inchikey)\n",
    "\n",
    "print(info)"
   ]
  },
  {
   "cell_type": "code",
   "execution_count": null,
   "id": "f0e4dd98",
   "metadata": {},
   "outputs": [],
   "source": []
  },
  {
   "cell_type": "code",
   "execution_count": 58,
   "id": "7fe609fe",
   "metadata": {},
   "outputs": [
    {
     "name": "stdout",
     "output_type": "stream",
     "text": [
      "{\"input\":\"(13Z,16Z)-docosadienoylcarnitine\",\"regno\":\"45996\",\"lm_id\":\"LMFA07070012\",\"name\":\"(13Z,16Z)-docosadienoylcarnitine\",\"sys_name\":\"3-[(13Z,16Z)-docosa-13,16-dienoyloxy]-4-(trimethylazaniumyl)butanoate\",\"synonyms\":\"13-cis,16-cis-docosadienoylcarnitine;3-[(13Z,16Z)-docosa-13,16-dienoyloxy]-4-(trimethylammonio)butanoate\",\"abbrev\":\"CAR 22:2\",\"core\":\"Fatty Acyls [FA]\",\"main_class\":\"Fatty esters [FA07]\",\"sub_class\":\"Fatty acyl carnitines [FA0707]\",\"exactmass\":\"479.397459\",\"formula\":\"C29H53NO4\",\"inchi\":\"InChI=1S\\/C29H53NO4\\/c1-5-6-7-8-9-10-11-12-13-14-15-16-17-18-19-20-21-22-23-24-29(33)34-27(25-28(31)32)26-30(2,3)4\\/h9-10,12-13,27H,5-8,11,14-26H2,1-4H3\\/b10-9-,13-12-\",\"inchi_key\":\"LDIMXAXYWUCEAM-UTJQPWESSA-N\",\"chebi_id\":\"73120\",\"pubchem_cid\":\"71464511\",\"smiles\":\"C(C([O-])=O)C(OC(CCCCCCCCCCC\\/C=C\\\\C\\/C=C\\\\CCCCC)=O)C[N+](C)(C)C\"}\n",
      "[]\n"
     ]
    },
    {
     "data": {
      "text/plain": [
       "6061"
      ]
     },
     "execution_count": 58,
     "metadata": {},
     "output_type": "execute_result"
    }
   ],
   "source": [
    "import requests\n",
    "\n",
    "def get_lipid_id_from_name(lipid_name):\n",
    "    url = f\"https://www.lipidmaps.org/rest/compound/abbrev/{lipid_name}/all/json\"\n",
    "\n",
    "    response = requests.get(url)\n",
    "\n",
    "    if response.status_code == 200:\n",
    "        return response.text.strip()  # remove leading/trailing whitespace\n",
    "    else:\n",
    "        return None\n",
    "\n",
    "\n",
    "print(get_lipid_id_from_name(\"(13Z,16Z)-docosadienoylcarnitine\"))\n",
    "\n",
    "print(get_lipid_id_from_name(\"Cer(d20:0/26:0)\"))\n",
    "len(get_lipid_id_from_name(\"PC(30:2)\"))"
   ]
  },
  {
   "cell_type": "code",
   "execution_count": 27,
   "id": "02e6034b",
   "metadata": {},
   "outputs": [
    {
     "ename": "TypeError",
     "evalue": "string indices must be integers",
     "output_type": "error",
     "traceback": [
      "\u001b[0;31m---------------------------------------------------------------------------\u001b[0m",
      "\u001b[0;31mTypeError\u001b[0m                                 Traceback (most recent call last)",
      "Cell \u001b[0;32mIn [27], line 2\u001b[0m\n\u001b[1;32m      1\u001b[0m info \u001b[38;5;241m=\u001b[39m get_lipid_id_from_name(\u001b[38;5;124m\"\u001b[39m\u001b[38;5;124m(13Z,16Z)-docosadienoylcarnitine\u001b[39m\u001b[38;5;124m\"\u001b[39m)\n\u001b[0;32m----> 2\u001b[0m \u001b[38;5;28mprint\u001b[39m(\u001b[38;5;124mf\u001b[39m\u001b[38;5;124m\"\u001b[39m\u001b[38;5;124mMolecular Formula: \u001b[39m\u001b[38;5;132;01m{\u001b[39;00minfo[\u001b[38;5;124m'\u001b[39m\u001b[38;5;124mMolecularFormula\u001b[39m\u001b[38;5;124m'\u001b[39m]\u001b[38;5;132;01m}\u001b[39;00m\u001b[38;5;124m\"\u001b[39m)\n",
      "\u001b[0;31mTypeError\u001b[0m: string indices must be integers"
     ]
    }
   ],
   "source": [
    "info = get_lipid_id_from_name(\"(13Z,16Z)-docosadienoylcarnitine\")\n",
    "print(f\"Molecular Formula: {info['MolecularFormula']}\")"
   ]
  },
  {
   "cell_type": "code",
   "execution_count": 73,
   "id": "fca525cb",
   "metadata": {},
   "outputs": [
    {
     "name": "stdout",
     "output_type": "stream",
     "text": [
      "7\n",
      "[{'abbreviation': 'PC 30:2', 'core_class': 'Glycerophospholipids [GP]', 'main_class': 'Glycerophosphocholines [GP01]', 'sub_class': 'Diacylglycerophosphocholines [GP0101]', 'lm_id': 'LMGP01011323', 'name': 'PC(12:0/18:2(9Z,12Z))', 'sys_name': '1-dodecanoyl-2-(9Z,12Z-octadecadienoyl)-glycero-3-phosphocholine', 'inchi_key': 'PXSRIASFTWIQOT-QYZSMWKLSA-N', 'formula': 'C38H72NO8P', 'exact_mass': '701.499557', 'smiles': '[C@](COP(=O)([O-])OCC[N+](C)(C)C)([H])(OC(CCCCCCC/C=C\\\\C/C=C\\\\CCCCC)=O)COC(CCCCCCCCCCC)=O', 'pubchem_cid': '52922128', 'chebi_id': None}, {'abbreviation': 'PC 30:2', 'core_class': 'Glycerophospholipids [GP]', 'main_class': 'Glycerophosphocholines [GP01]', 'sub_class': 'Diacylglycerophosphocholines [GP0101]', 'lm_id': 'LMGP01011345', 'name': 'PC(13:0/17:2(9Z,12Z))', 'sys_name': '1-tridecanoyl-2-(9Z,12Z-heptadecadienoyl)-glycero-3-phosphocholine', 'inchi_key': 'YSTGUAZVAJMSJZ-LRJQWVAUSA-N', 'formula': 'C38H72NO8P', 'exact_mass': '701.499557', 'smiles': '[C@](COP(=O)([O-])OCC[N+](C)(C)C)([H])(OC(CCCCCCC/C=C\\\\C/C=C\\\\CCCC)=O)COC(CCCCCCCCCCCC)=O', 'pubchem_cid': '52922172', 'chebi_id': None}, {'abbreviation': 'PC 30:2', 'core_class': 'Glycerophospholipids [GP]', 'main_class': 'Glycerophosphocholines [GP01]', 'sub_class': 'Diacylglycerophosphocholines [GP0101]', 'lm_id': 'LMGP01011436', 'name': 'PC(15:1(9Z)/15:1(9Z))', 'sys_name': '1,2-di-(9Z-pentadecenoyl)-sn-glycero-3-phosphocholine', 'inchi_key': 'BQTXNAKXHQSYOW-UYKOKAMASA-N', 'formula': 'C38H72NO8P', 'exact_mass': '701.499557', 'smiles': '[C@](COP(=O)([O-])OCC[N+](C)(C)C)([H])(OC(CCCCCCC/C=C\\\\CCCCC)=O)COC(CCCCCCC/C=C\\\\CCCCC)=O', 'pubchem_cid': '52922354', 'chebi_id': None}, {'abbreviation': 'PC 30:2', 'core_class': 'Glycerophospholipids [GP]', 'main_class': 'Glycerophosphocholines [GP01]', 'sub_class': 'Diacylglycerophosphocholines [GP0101]', 'lm_id': 'LMGP01011476', 'name': 'PC(16:1(9Z)/14:1(9Z))', 'sys_name': '1-(9Z-hexadecenoyl)-2-(9Z-tetradecenoyl)-glycero-3-phosphocholine', 'inchi_key': 'WEVWHXAKLAWWAP-KQGJYXFZSA-N', 'formula': 'C38H72NO8P', 'exact_mass': '701.499557', 'smiles': '[C@](COP(=O)([O-])OCC[N+](C)(C)C)([H])(OC(CCCCCCC/C=C\\\\CCCC)=O)COC(CCCCCCC/C=C\\\\CCCCCC)=O', 'pubchem_cid': '52922434', 'chebi_id': '86415'}, {'abbreviation': 'PC 30:2', 'core_class': 'Glycerophospholipids [GP]', 'main_class': 'Glycerophosphocholines [GP01]', 'sub_class': 'Diacylglycerophosphocholines [GP0101]', 'lm_id': 'LMGP01011385', 'name': 'PC(14:1(9Z)/16:1(9Z))', 'sys_name': '1-(9Z-tetradecenoyl)-2-(9Z-hexadecenoyl)-glycero-3-phosphocholine', 'inchi_key': 'RUTXZOOOUKHIRR-KQGJYXFZSA-N', 'formula': 'C38H72NO8P', 'exact_mass': '701.499557', 'smiles': '[C@](COP(=O)([O-])OCC[N+](C)(C)C)([H])(OC(CCCCCCC/C=C\\\\CCCCCC)=O)COC(CCCCCCC/C=C\\\\CCCC)=O', 'pubchem_cid': '52922252', 'chebi_id': '88908'}, {'abbreviation': 'PC 30:2', 'core_class': 'Glycerophospholipids [GP]', 'main_class': 'Glycerophosphocholines [GP01]', 'sub_class': 'Diacylglycerophosphocholines [GP0101]', 'lm_id': 'LMGP01011614', 'name': 'PC(18:2(9Z,12Z)/12:0)', 'sys_name': '1-(9Z,12Z-octadecadienoyl)-2-dodecanoyl-glycero-3-phosphocholine', 'inchi_key': 'BMXDYKARTZAUOS-QYZSMWKLSA-N', 'formula': 'C38H72NO8P', 'exact_mass': '701.499557', 'smiles': '[C@](COP(=O)([O-])OCC[N+](C)(C)C)([H])(OC(CCCCCCCCCCC)=O)COC(CCCCCCC/C=C\\\\C/C=C\\\\CCCCC)=O', 'pubchem_cid': '52922707', 'chebi_id': None}, {'abbreviation': 'PC 30:2', 'core_class': 'Glycerophospholipids [GP]', 'main_class': 'Glycerophosphocholines [GP01]', 'sub_class': 'Diacylglycerophosphocholines [GP0101]', 'lm_id': 'LMGP01011552', 'name': 'PC(17:2(9Z,12Z)/13:0)', 'sys_name': '1-(9Z,12Z-heptadecadienoyl)-2-tridecanoyl-glycero-3-phosphocholine', 'inchi_key': 'XTJRWWDMKMCQBR-LRJQWVAUSA-N', 'formula': 'C38H72NO8P', 'exact_mass': '701.499557', 'smiles': '[C@](COP(=O)([O-])OCC[N+](C)(C)C)([H])(OC(CCCCCCCCCCCC)=O)COC(CCCCCCC/C=C\\\\C/C=C\\\\CCCC)=O', 'pubchem_cid': '52922583', 'chebi_id': None}]\n",
      "7\n",
      "4\n",
      "4\n",
      "[{'abbreviation': 'DG 44:6', 'core_class': 'Glycerolipids [GL]', 'main_class': 'Diradylglycerols [GL02]', 'sub_class': 'Diacylglycerols [GL0201]', 'lm_id': 'LMGL02010294', 'name': 'DG(22:0/22:6(4Z,7Z,10Z,13Z,16Z,19Z)/0:0)[iso2]', 'sys_name': '1-docosanoyl-2-(4Z,7Z,10Z,13Z,16Z,19Z-docosahexaenoyl)-sn-glycerol', 'inchi_key': 'PBRXTDVHOOTQOF-OSLKVGKFSA-N', 'formula': 'C47H80O5', 'exact_mass': '724.600575', 'smiles': 'OC[C@]([H])(OC(CC/C=C\\\\C/C=C\\\\C/C=C\\\\C/C=C\\\\C/C=C\\\\C/C=C\\\\CC)=O)COC(CCCCCCCCCCCCCCCCCCCCC)=O', 'pubchem_cid': '9543959', 'chebi_id': None}, {'abbreviation': 'DG 44:6', 'core_class': 'Glycerolipids [GL]', 'main_class': 'Diradylglycerols [GL02]', 'sub_class': 'Diacylglycerols [GL0201]', 'lm_id': 'LMGL02010293', 'name': 'DG(22:1(13Z)/22:5(7Z,10Z,13Z,16Z,19Z)/0:0)[iso2]', 'sys_name': '1-(13Z-docosenoyl)-2-(7Z,10Z,13Z,16Z,19Z-docosapentaenoyl)-sn-glycerol', 'inchi_key': 'PQWSGSBIIPRRHU-CEMPWXBKSA-N', 'formula': 'C47H80O5', 'exact_mass': '724.600575', 'smiles': 'OC[C@]([H])(OC(CCCCC/C=C\\\\C/C=C\\\\C/C=C\\\\C/C=C\\\\C/C=C\\\\CC)=O)COC(CCCCCCCCCCC/C=C\\\\CCCCCCCC)=O', 'pubchem_cid': '9543958', 'chebi_id': None}, {'abbreviation': 'DG 44:6', 'core_class': 'Glycerolipids [GL]', 'main_class': 'Diradylglycerols [GL02]', 'sub_class': 'Diacylglycerols [GL0201]', 'lm_id': 'LMGL02010282', 'name': 'DG(22:3(10Z,13Z,16Z)/22:3(10Z,13Z,16Z)/0:0)', 'sys_name': '1,2-di-(10Z,13Z,16Z-docosatrienoyl)-sn-glycerol', 'inchi_key': 'VOTXOWYKQAHLLY-YOMHLHNVSA-N', 'formula': 'C47H80O5', 'exact_mass': '724.600575', 'smiles': 'OC[C@]([H])(OC(CCCCCCCC/C=C\\\\C/C=C\\\\C/C=C\\\\CCCCC)=O)COC(CCCCCCCC/C=C\\\\C/C=C\\\\C/C=C\\\\CCCCC)=O', 'pubchem_cid': '9543947', 'chebi_id': None}, {'abbreviation': 'DG 44:6', 'core_class': 'Glycerolipids [GL]', 'main_class': 'Diradylglycerols [GL02]', 'sub_class': 'Diacylglycerols [GL0201]', 'lm_id': 'LMGL02010295', 'name': 'DG(22:2(13Z,16Z)/22:4(7Z,10Z,13Z,16Z)/0:0)[iso2]', 'sys_name': '1-(13Z,16Z-docosadienoyl)-2-(7Z,10Z,13Z,16Z-docosatetraenoyl)-sn-glycerol', 'inchi_key': 'ZCSNYIFMHKELAC-PWZZXBAASA-N', 'formula': 'C47H80O5', 'exact_mass': '724.600575', 'smiles': 'OC[C@]([H])(OC(CCCCC/C=C\\\\C/C=C\\\\C/C=C\\\\C/C=C\\\\CCCCC)=O)COC(CCCCCCCCCCC/C=C\\\\C/C=C\\\\CCCCC)=O', 'pubchem_cid': '9543960', 'chebi_id': None}]\n",
      "4\n"
     ]
    }
   ],
   "source": [
    "import json\n",
    "\n",
    "def process_data(json_text):\n",
    "    data = json.loads(json_text)\n",
    "    print(len(data))\n",
    "    results = []\n",
    "\n",
    "    if \"Row1\" in data:\n",
    "\n",
    "\n",
    "        for row_data_index in range(len(data)):\n",
    "            \n",
    "            string  = \"Row\"+str(row_data_index+1)\n",
    "            \n",
    "            row_data = data[string]\n",
    "            \n",
    "            result = {\n",
    "                \"abbreviation\": row_data.get(\"abbrev\"),\n",
    "                \"core_class\": row_data.get(\"core\"),\n",
    "                \"main_class\": row_data.get(\"main_class\"),\n",
    "                \"sub_class\": row_data.get(\"sub_class\"),\n",
    "                \"lm_id\": row_data.get(\"lm_id\"),\n",
    "                \"name\": row_data.get(\"name\"),\n",
    "                \"sys_name\": row_data.get(\"sys_name\"),\n",
    "                \"inchi_key\": row_data.get(\"inchi_key\"),\n",
    "                \"formula\": row_data.get(\"formula\"),\n",
    "                \"exact_mass\": row_data.get(\"exactmass\"),\n",
    "                \"smiles\": row_data.get(\"smiles\"),\n",
    "                \"pubchem_cid\": row_data.get(\"pubchem_cid\"),\n",
    "                \"chebi_id\": row_data.get(\"chebi_id\"),\n",
    "            }\n",
    "\n",
    "            results.append(result)\n",
    "\n",
    "    else:\n",
    "        result = {\n",
    "            \"abbreviation\": data.get(\"abbrev\"),\n",
    "            \"core_class\": data.get(\"core\"),\n",
    "            \"main_class\": data.get(\"main_class\"),\n",
    "            \"sub_class\": data.get(\"sub_class\"),\n",
    "            \"lm_id\": data.get(\"lm_id\"),\n",
    "            \"name\": data.get(\"name\"),\n",
    "            \"sys_name\": data.get(\"sys_name\"),\n",
    "            \"inchi_key\": data.get(\"inchi_key\"),\n",
    "            \"formula\": data.get(\"formula\"),\n",
    "            \"exact_mass\": data.get(\"exactmass\"),\n",
    "            \"smiles\": data.get(\"smiles\"),\n",
    "            \"pubchem_cid\": data.get(\"pubchem_cid\"),\n",
    "            \"chebi_id\": data.get(\"chebi_id\"),\n",
    "        }\n",
    "\n",
    "        results.append(result)\n",
    "        \n",
    "#         results.append(result)\n",
    "\n",
    "    return results\n",
    "\n",
    "json_text = get_lipid_id_from_name(\"PC(30:2)\")\n",
    "processed_data = process_data(json_text)\n",
    "\n",
    "print(processed_data)\n",
    "print(len(processed_data))\n",
    "json_text = get_lipid_id_from_name(\"DG(44:6)\")\n",
    "processed_data = process_data(json_text)\n",
    "print(len(processed_data))\n",
    "print(processed_data)\n",
    "print(len(processed_data))\n"
   ]
  },
  {
   "cell_type": "code",
   "execution_count": 71,
   "id": "b05c707a",
   "metadata": {},
   "outputs": [
    {
     "name": "stdout",
     "output_type": "stream",
     "text": [
      "[]\n"
     ]
    }
   ],
   "source": [
    "print(get_lipid_id_from_name(\"SM(d18:2/18:1)\"))"
   ]
  },
  {
   "cell_type": "code",
   "execution_count": null,
   "id": "096ca746",
   "metadata": {},
   "outputs": [],
   "source": [
    "##Ceramides dont work\n",
    "##Some TAGs are not in lipid maps same with DGs other classes apperar to be good\n",
    "### SM do not work"
   ]
  }
 ],
 "metadata": {
  "kernelspec": {
   "display_name": "Python 3 (ipykernel)",
   "language": "python",
   "name": "python3"
  },
  "language_info": {
   "codemirror_mode": {
    "name": "ipython",
    "version": 3
   },
   "file_extension": ".py",
   "mimetype": "text/x-python",
   "name": "python",
   "nbconvert_exporter": "python",
   "pygments_lexer": "ipython3",
   "version": "3.9.15"
  }
 },
 "nbformat": 4,
 "nbformat_minor": 5
}
