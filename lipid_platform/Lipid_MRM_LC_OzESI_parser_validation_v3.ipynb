{
 "cells": [
  {
   "cell_type": "code",
   "execution_count": 1,
   "metadata": {},
   "outputs": [],
   "source": [
    "from IPython.display import Image"
   ]
  },
  {
   "cell_type": "code",
   "execution_count": 2,
   "metadata": {},
   "outputs": [
    {
     "name": "stdout",
     "output_type": "stream",
     "text": [
      "No module named 'ms_deisotope._c.averagine' averagine\n",
      "No module named 'ms_deisotope._c.scoring'\n",
      "No module named 'ms_deisotope._c.deconvoluter_base'\n",
      "No module named 'ms_deisotope._c.deconvoluter_base'\n",
      "No module named 'ms_deisotope._c.deconvoluter_base'\n"
     ]
    }
   ],
   "source": [
    "#Import all the necessary libraries\n",
    "import pymzml\n",
    "import csv\n",
    "import os\n",
    "import pandas as pd\n",
    "import numpy as np\n",
    "import math\n",
    "from matplotlib import pyplot as plt\n",
    "import re\n",
    "import plotly.express as px\n",
    "from collections import defaultdict\n",
    "\n",
    "import plotly.io as pio\n",
    "import json\n",
    "import plotly.graph_objs as go\n",
    "import matplotlib.colors as mcolors\n",
    "\n",
    "import json\n",
    "import ipywidgets as widgets\n",
    "from IPython.display import display\n",
    "\n",
    "import warnings\n",
    "from IPython.display import display, Image, clear_output\n",
    "import time\n",
    "##Custom scripts\n",
    "from parsing_function import full_parse\n",
    "from parsing_function import filter_dataframe\n",
    "from parsing_function import hex_to_rgba_hex\n",
    "from parsing_function import json_to_string\n",
    "from parsing_function import prep_edge_R\n",
    "\n",
    "from plotting_functions import make_pie_chart_no_replicates\n",
    "\n",
    "from plotting_functions import average_pie_chart_no_repeats\n",
    "\n",
    "from plotting_functions import make_bar_plot_comparisons\n",
    "\n",
    "# dfdfplotting_functions\n"
   ]
  },
  {
   "cell_type": "code",
   "execution_count": 3,
   "metadata": {},
   "outputs": [],
   "source": [
    "#OLD WAY\n",
    "###Importing Variables for all functions\n",
    "\n",
    "data_base_name_location = 'lipid_database/Lipid_Database.xlsx'####Lipid database with Standard Carnitines\n",
    "mzml_folder = './data_mzml/04-29-2023_mzml/test_oz_1/'\n",
    "tolerance = 0.3\n",
    "remove_std = True\n",
    "\n",
    "# Example usage:\n",
    "folder_name_to_save = 'TEST_04-29-2023_validation_test_1'\n",
    "file_name_to_save = 'TEST_04-29-2023_validation_test_1'\n",
    "save_data= True\n",
    "\n",
    "\n",
    "# #NEW WAY\n",
    "# Pre_folder = './Projects/'\n",
    "# Project_Folder =Pre_folder + 'Brain_5xFAD/5_09_23/'\n",
    "# file_name_to_save = 'Brain_5xFAD_1_tolerance'\n",
    "\n",
    "\n",
    "# tolerance = 0.1\n",
    "# remove_std = True\n",
    "# save_data= True\n"
   ]
  },
  {
   "cell_type": "code",
   "execution_count": 4,
   "metadata": {},
   "outputs": [],
   "source": [
    "# folder_name_to_save = Project_Folder+ 'Processed Results/'\n",
    "# data_base_name_location = 'lipid_database/Lipid_Database.xlsx'\n",
    "# mzml_folder = Project_Folder +\"mzml/\"\n",
    "# Pre_edge_r_path = Project_Folder+\"Pre_EdgeR/\"\n",
    "# plots_2_save_path = Project_Folder+\"Plots/\"\n",
    "# label_file = Project_Folder+\"Labels/labels.csv\"\n",
    "\n",
    "# ##Labels DF and Labels List\n",
    "# labels_df = pd.read_csv(label_file)\n",
    "# labels_list = list(labels_df)\n",
    "# labels_list = labels_list +[\"Class\",\"Lipid\"]"
   ]
  },
  {
   "cell_type": "code",
   "execution_count": 5,
   "metadata": {},
   "outputs": [],
   "source": [
    "\n",
    "###All functions\n",
    "\n",
    "#Function to read in MRM database\n",
    "#Option to remove STDs from database##Not finished need option to use another database with no qualitative ACs\n",
    "\n",
    "\n",
    "def read_mrm_list(filename,remove_std = True):\n",
    "    mrm_list_new = pd.read_excel(filename, sheet_name=None)\n",
    "    mrm_list_new = pd.concat(mrm_list_new, ignore_index=True)\n",
    "    mrm_list_offical = mrm_list_new[['Compound Name', 'Parent Ion', 'Product Ion', 'Class']]\n",
    "    # Add underscore to middle of columns names\n",
    "    mrm_list_offical.columns = mrm_list_offical.columns.str.replace(' ', '_')\n",
    "    # Round Parent Ion and Product Ion to 1 decimal place\n",
    "    mrm_list_offical['Parent_Ion'] = np.round(mrm_list_offical['Parent_Ion'],1)\n",
    "    mrm_list_offical['Product_Ion'] = np.round(mrm_list_offical['Product_Ion'],1)\n",
    "    # Create transition column by combining Parent Ion and Product Ion with arrow between numbers\n",
    "    mrm_list_offical['Transition'] = mrm_list_offical['Parent_Ion'].astype(str) + ' -> ' + mrm_list_offical['Product_Ion'].astype(str)\n",
    "    # Change column compound name to lipid\n",
    "    mrm_list_offical = mrm_list_offical.rename(columns={'Compound_Name': 'Lipid'})\n",
    "    # Make a column called Class match lipid column to lipid types\n",
    "    if remove_std == True:\n",
    "        lipid_class = mrm_list_offical['Class'].unique()\n",
    "        lipid_class_to_keep = ['PS','PG','CE','PC', 'DAG', 'PE', 'TAG', 'FA', 'Cer', 'CAR', 'PI','SM']\n",
    "        mrm_list_offical = mrm_list_offical[mrm_list_offical['Class'].isin(lipid_class_to_keep)]\n",
    "    return mrm_list_offical\n",
    "\n",
    "#OzESI\n",
    "OzESI_time = {}\n",
    "def mzml_parser(file_name):\n",
    "    df = pd.DataFrame(columns=['Lipid','Parent_Ion','Product_Ion','Intensity','Transition','Class','Sample_ID'])\n",
    "    data_folder = os.listdir(file_name) #Path to the mzml files\n",
    "    data_folder.sort()\n",
    "    path_to_mzml_files = file_name\n",
    "\n",
    "\n",
    "    for file in data_folder:\n",
    "            if file.endswith('.mzML'):\n",
    "\n",
    "                    run = pymzml.run.Reader(path_to_mzml_files+file, skip_chromatogram=False) #Load the mzml file into the run object\n",
    "\n",
    "\n",
    "\n",
    "                    df_all = pd.DataFrame(columns=['Lipid','Parent_Ion','Product_Ion','Intensity','Transition','Class','Sample_ID']) #Create empty pandas dataframe to store the data\n",
    "\n",
    "                    #create pandas dataframe to store the data with the columns Parent Ion, Product Ion, Intensity, Transition Lipid and Class\n",
    "                   \n",
    "                    q1_mz = 0 #Create empty variables to store the Q1 and Q3 m/z values\n",
    "                    q3_mz = 0\n",
    "                    count = 0 #Create a counter to keep track of the number of transitions\n",
    "                    for spectrum in run:\n",
    "                        # if isinstance(spectrum, pymzml.spec.Chromatogram):\n",
    "                        #     for time, intensity in spectrum.peaks():\n",
    "                        #         OzESI_time[time] = np.round(intensity), q1_mz, q3_mz\n",
    "\n",
    "         \n",
    "\n",
    "                        for element in spectrum.ID.split(' '):\n",
    "                                intensity_store = np.array([])\n",
    "                                if 'Q1' in element:\n",
    "                                        q1 = element.split('=')\n",
    "                                        q1_mz= np.round((float(q1[1])),1)\n",
    "\n",
    "                                if 'Q3' in element:\n",
    "                            \n",
    "                                        q3 = element.split('=')\n",
    "\n",
    "                                        q3_mz=np.round(float(q3[1]),1)\n",
    "                                    #### OzESI (Key)time, ( Values) intensity and transitions stored in OzESI_time dictionary\n",
    "                                        for time, intensity in spectrum.peaks():\n",
    "                                            OzESI_time[time] = np.round(intensity), q1_mz, q3_mz\n",
    "\n",
    "                                        for mz,intensity in spectrum.peaks(): #Get the m/z and intensity values from the spectrum\n",
    "                                                intensity_store = np.append(intensity_store,intensity) #Store the intensity values in an array\n",
    "\n",
    "\n",
    "\n",
    "                                if 'Q3' in element:\n",
    "                                        # print(intensity_sum)\n",
    "                                        intensity_sum = np.sum(intensity_store) #Sum the intensity values\n",
    "                                        df_all.loc[count,'Parent_Ion'] = q1_mz #Store the Q1 and Q3 m/z values in the pandas dataframe\n",
    "                                        df_all.loc[count,'Product_Ion'] = q3_mz\n",
    "                                        #round the Q1 and Q3 m/z values to 1 decimal places\n",
    "                                        df_all.loc[count,'Parent_Ion'] = np.round(df_all.loc[count,'Parent_Ion'],1)\n",
    "                                        df_all.loc[count,'Product_Ion'] = np.round(df_all.loc[count,'Product_Ion'],1)\n",
    "                                        df_all.loc[count,'Intensity'] = intensity_sum #Store the intensity values in the pandas dataframe\n",
    "                                        df_all.loc[count,'Transition'] = str(q1_mz)+ ' -> '+ str(q3_mz) #Store the transition values in the pandas dataframe\n",
    "                                        #add file name to Sample_ID column without the mzmL extension\n",
    "                                        df_all.loc[count,'Sample_ID'] = file[:-5]\n",
    "                                        count+=1\n",
    "\n",
    "            #append df_all to df\n",
    "            df = df.append(df_all, ignore_index=True)\n",
    "    return df\n",
    "\n",
    "# Function to create an ion dictionary from an MRM database DataFrame\n",
    "def create_ion_dict(mrm_database):\n",
    "    ion_dict = defaultdict(list)\n",
    "    # Iterate through the rows of the MRM database DataFrame\n",
    "    for index, row in mrm_database.iterrows():\n",
    "        # Add a tuple with Lipid and Class to the ion dictionary using Parent_Ion and Product_Ion as the key\n",
    "        ion_dict[(row['Parent_Ion'], row['Product_Ion'])].append((row['Lipid'], row['Class']))\n",
    "    return ion_dict\n",
    "\n",
    "# Function to check if the absolute difference between two values is within a given tolerance\n",
    "def within_tolerance(a, b, tolerance=0.1):\n",
    "    return abs(a - b) <= tolerance\n",
    "\n",
    "# Function to match the ions in a DataFrame row with the ions in an ion dictionary\n",
    "def match_ions(row, ion_dict, tolerance=0.1):\n",
    "    ions = (row['Parent_Ion'], row['Product_Ion'])\n",
    "    matched_lipids = []\n",
    "    matched_classes = []\n",
    "\n",
    "    # Iterate through the ion dictionary\n",
    "    for key, value in ion_dict.items():\n",
    "        # Check if both the Parent_Ion and Product_Ion values are within the specified tolerance\n",
    "        if within_tolerance(ions[0], key[0], tolerance) and within_tolerance(ions[1], key[1], tolerance):\n",
    "            # If within tolerance, extend the matched_lipids and matched_classes lists with the corresponding values\n",
    "            matched_lipids.extend([match[0] for match in value])\n",
    "            matched_classes.extend([match[1] for match in value])\n",
    "\n",
    "    # If any matches were found, update the Lipid and Class columns in the row\n",
    "    if matched_lipids and matched_classes:\n",
    "        row['Lipid'] = ' | '.join(matched_lipids)\n",
    "        row['Class'] = ' | '.join(matched_classes)\n",
    "\n",
    "    return row\n",
    "\n",
    "####Combined functions for Matching\n",
    "\n",
    "def match_lipids_parser(mrm_database,df, tolerance=0.3):\n",
    "    ion_dict = create_ion_dict(mrm_database)\n",
    "    # Assuming you have the df DataFrame to apply the match_ions function\n",
    "    df_matched = df.apply(lambda row: match_ions(row, ion_dict=ion_dict, tolerance=tolerance), axis=1)\n",
    "\n",
    "\n",
    "    # df_matched = df_matched.dropna()\n",
    "    \n",
    "    return df_matched\n",
    "\n",
    "\n",
    "def save_dataframe(df, folder_name, file_name, max_attempts=5):\n",
    "    folder_path = f'data_results/data/data_matching/{folder_name}'\n",
    "    os.makedirs(folder_path, exist_ok=True)\n",
    "\n",
    "    for i in range(max_attempts):\n",
    "        file_path = f'{folder_path}/{file_name}.csv'\n",
    "        if not os.path.isfile(file_path):\n",
    "            df.to_csv(file_path, index=False)\n",
    "            print(f\"Saved DataFrame to {file_path}\")\n",
    "            break\n",
    "    else:\n",
    "        print(f\"Failed to save DataFrame after {max_attempts} attempts.\")\n",
    "        return None\n",
    "\n",
    "\n",
    "def full_parse(data_base_name_location,mzml_folder, folder_name_to_save, file_name_to_save,tolerance,remove_std = True,\n",
    "               save_data=False):\n",
    "    mrm_database = read_mrm_list(data_base_name_location,remove_std=remove_std)\n",
    "    df = mzml_parser(mzml_folder)\n",
    "    df_matched = match_lipids_parser(mrm_database,df, tolerance=tolerance)\n",
    "    \n",
    "    if save_data == True:\n",
    "        \n",
    "        save_dataframe(df_matched, folder_name_to_save, file_name_to_save)\n",
    "\n",
    "    return df_matched\n",
    "\n",
    "\n",
    "\n"
   ]
  },
  {
   "cell_type": "code",
   "execution_count": 6,
   "metadata": {},
   "outputs": [
    {
     "name": "stderr",
     "output_type": "stream",
     "text": [
      "/tmp/ipykernel_748/1466705664.py:14: SettingWithCopyWarning: \n",
      "A value is trying to be set on a copy of a slice from a DataFrame.\n",
      "Try using .loc[row_indexer,col_indexer] = value instead\n",
      "\n",
      "See the caveats in the documentation: https://pandas.pydata.org/pandas-docs/stable/user_guide/indexing.html#returning-a-view-versus-a-copy\n",
      "  mrm_list_offical['Parent_Ion'] = np.round(mrm_list_offical['Parent_Ion'],1)\n",
      "/tmp/ipykernel_748/1466705664.py:15: SettingWithCopyWarning: \n",
      "A value is trying to be set on a copy of a slice from a DataFrame.\n",
      "Try using .loc[row_indexer,col_indexer] = value instead\n",
      "\n",
      "See the caveats in the documentation: https://pandas.pydata.org/pandas-docs/stable/user_guide/indexing.html#returning-a-view-versus-a-copy\n",
      "  mrm_list_offical['Product_Ion'] = np.round(mrm_list_offical['Product_Ion'],1)\n",
      "/tmp/ipykernel_748/1466705664.py:17: SettingWithCopyWarning: \n",
      "A value is trying to be set on a copy of a slice from a DataFrame.\n",
      "Try using .loc[row_indexer,col_indexer] = value instead\n",
      "\n",
      "See the caveats in the documentation: https://pandas.pydata.org/pandas-docs/stable/user_guide/indexing.html#returning-a-view-versus-a-copy\n",
      "  mrm_list_offical['Transition'] = mrm_list_offical['Parent_Ion'].astype(str) + ' -> ' + mrm_list_offical['Product_Ion'].astype(str)\n",
      "/tmp/ipykernel_748/1466705664.py:92: FutureWarning: The frame.append method is deprecated and will be removed from pandas in a future version. Use pandas.concat instead.\n",
      "  df = df.append(df_all, ignore_index=True)\n"
     ]
    },
    {
     "name": "stdout",
     "output_type": "stream",
     "text": [
      "Failed to save DataFrame after 5 attempts.\n"
     ]
    }
   ],
   "source": [
    "df_matched = full_parse(data_base_name_location,mzml_folder, folder_name_to_save, \n",
    "                        file_name_to_save,tolerance, remove_std = remove_std,save_data=save_data)\n",
    "\n"
   ]
  },
  {
   "cell_type": "code",
   "execution_count": 7,
   "metadata": {},
   "outputs": [
    {
     "name": "stdout",
     "output_type": "stream",
     "text": [
      "  Lipid  Parent_Ion  Product_Ion     Intensity      Transition Class  \\\n",
      "0   NaN       694.6        547.6  2.567996e+05  694.6 -> 547.6   NaN   \n",
      "1   NaN       696.6        549.6  2.185144e+05  696.6 -> 549.6   NaN   \n",
      "2   NaN       698.7        551.6  6.608002e+06  698.7 -> 551.6   NaN   \n",
      "3   NaN       720.6        573.6  7.330655e+04  720.6 -> 573.6   NaN   \n",
      "4   NaN       722.6        575.6  1.428391e+05  722.6 -> 575.6   NaN   \n",
      "\n",
      "                          Sample_ID  \n",
      "0  DOD93_F4-5xFAD-Cereb_TG18-1_o3on  \n",
      "1  DOD93_F4-5xFAD-Cereb_TG18-1_o3on  \n",
      "2  DOD93_F4-5xFAD-Cereb_TG18-1_o3on  \n",
      "3  DOD93_F4-5xFAD-Cereb_TG18-1_o3on  \n",
      "4  DOD93_F4-5xFAD-Cereb_TG18-1_o3on  \n",
      "[(0.11853333333333334, (255.0, 694.6, 547.6)), (0.24036666666666667, (239.0, 694.6, 547.6)), (0.36218333333333336, (261.0, 694.6, 547.6)), (0.4840166666666667, (330.0, 694.6, 547.6)), (0.6058333333333333, (354.0, 694.6, 547.6))]\n"
     ]
    }
   ],
   "source": [
    "print(df_matched.head())\n",
    "#print first 5 values of OzESI_time\n",
    "print(list(OzESI_time.items())[:5])"
   ]
  },
  {
   "cell_type": "code",
   "execution_count": 8,
   "metadata": {},
   "outputs": [],
   "source": [
    "\n",
    "\n",
    "def process_chromatogram(OzESI_time):\n",
    "    # Create dataframe from OzESI_time dictionary\n",
    "    OzESI_rt_df = pd.DataFrame(list(OzESI_time.items()), columns=['Retention_Time', 'intensity'])\n",
    "    \n",
    "    # Split intensity column into three columns intensity, Parent_Ion and Product_Ion\n",
    "    OzESI_rt_df[['intensity','Parent_Ion','Product_Ion']] = pd.DataFrame(OzESI_rt_df['intensity'].tolist(), index=OzESI_rt_df.index)\n",
    "    \n",
    "    # Round retention Retention_Time to 1 decimal place\n",
    "    OzESI_rt_df['Retention_Time'] = round(OzESI_rt_df['Retention_Time'], 2)\n",
    "    \n",
    "    # Create a column called Transition with the Parent_Ion and Product_Ion\n",
    "    OzESI_rt_df['Transition'] = OzESI_rt_df['Parent_Ion'].astype(str) + ' -> ' + OzESI_rt_df['Product_Ion'].astype(str)\n",
    "    \n",
    "    ########### HARDCODED TO DROP RETENTION TIMES BELOW 7 SECONDS ############\n",
    "    #drop Rention_Time below 10.5 seconds and above 15.5 seconds\n",
    "    OzESI_rt_df = OzESI_rt_df[OzESI_rt_df['Retention_Time'] > 10.5]\n",
    "    OzESI_rt_df = OzESI_rt_df[OzESI_rt_df['Retention_Time'] < 15.5]\n",
    "\n",
    "    # Get the top 10 records for each 'Transition' based on 'intensity'\n",
    "    OzESI_rt_df_top = OzESI_rt_df.groupby('Transition').apply(lambda x: x.nlargest(1, 'intensity')).reset_index(drop=True)\n",
    "\n",
    "    print('OzESI 1 largest per transition: \\n', OzESI_rt_df_top)\n",
    "\n",
    "    # peaks, _ = find_peaks(OzESI_rt_df['intensity'], height=0.5e5,distance=1000)\n",
    "    # plt.scatter(OzESI_rt_df['Retention_Time'] ,OzESI_rt_df['intensity'])\n",
    "    # plt.scatter(OzESI_rt_df.iloc[peaks]['Retention_Time'], OzESI_rt_df.iloc[peaks]['intensity'], \"x\")\n",
    "    # plt.ylabel('Intensity')\n",
    "    # plt.xlabel('Retention Time')\n",
    "    # plt.title('OzESI LC Chromatogram')\n",
    "    # plt.show()\n",
    "    \n",
    "    return OzESI_rt_df_top\n",
    "\n",
    "\n",
    "#     print(list(OzESI_time.items())[:5])\n",
    "#     df_OzESI_time = pd.DataFrame(list(OzESI_time.items()), columns=['Time', 'Intensity'])\n",
    "#     print('11111\\n',df_OzESI_time.head())\n",
    "#     #convert intensity column to a string\n",
    "#     df_OzESI_time['Intensity'] = df_OzESI_time['Intensity'].astype(str)\n",
    "#     # Split the 'Intensity' column into three new columns\n",
    "#     df_OzESI_time[['Intensity', 'Parent_Ion', 'Product_Ion']] = df_OzESI_time['Intensity'].str.strip('()').str.split(',', expand=True).astype(float)\n",
    "#     #Convert Intensity_1, Parent_Ion and Product_Ion to float\n",
    "#     print('222222\\n',df_OzESI_time.head())\n",
    "#     df_OzESI_time['Intensity'] = df_OzESI_time['Intensity'].astype(float)\n",
    "\n",
    "#     #convert Product_Ion and Parent_Ion to string with -> in between\n",
    "#     df_OzESI_time['Product_Ion'] = df_OzESI_time['Product_Ion'].astype(str)\n",
    "#     df_OzESI_time['Parent_Ion'] = df_OzESI_time['Parent_Ion'].astype(str)\n",
    "#     df_OzESI_time['Transition'] = df_OzESI_time['Parent_Ion'].str.cat(df_OzESI_time['Product_Ion'],sep=' -> ')\n",
    "#     df_OzESI_time['Parent_Ion'] = df_OzESI_time['Parent_Ion'].astype(float)\n",
    "#     df_OzESI_time['Product_Ion'] = df_OzESI_time['Product_Ion'].astype(float)\n",
    "    \n",
    "#     #sort the dataframe by transition\n",
    "#     df_OzESI_time.sort_values(by=['Transition'], inplace=True)\n",
    "    \n",
    "#     df_2 = pd.DataFrame(columns=['Intensity', 'Retention_Time', 'Transition'])\n",
    "#     # Extract the intensity values from the DataFrame\n",
    "#     intensity_values = df_OzESI_time['Intensity'].values\n",
    "    \n",
    "#     # Find peaks in the intensity values\n",
    "#     peaks, _ = find_peaks(intensity_values)\n",
    "#     print('4444\\n',df_OzESI_time.head())\n",
    "#     # Get the peak values, time points, and transitions\n",
    "#     peak_values = intensity_values[peaks]\n",
    "#     print('5555\\n',df_OzESI_time.head())\n",
    "#     time_points = df_OzESI_time['Time'].values[peaks]\n",
    "#     print('6666\\n',df_OzESI_time.head())\n",
    "#     transitions = df_OzESI_time['Transition'].values[peaks]\n",
    "#     print('77777\\n',df_OzESI_time.head())\n",
    "    \n",
    "#     # Create a new DataFrame to store the peak information\n",
    "#     peak_df = pd.DataFrame({\n",
    "#         'Peak Value': peak_values,\n",
    "#         'Retention_Time': time_points,\n",
    "#         'Transition': transitions\n",
    "#     })\n",
    "    \n",
    "#     # Print the peaks and their corresponding time points\n",
    "#     for _, row in peak_df.iterrows():\n",
    "#         #print(f\"Peak value: {row['Peak Value']}, Time: {row['Time']}, Transition: {row['Transition']}\")\n",
    "#         df_2 = df_2.append({'Intensity': row['Peak Value'], 'Retention_Time': row['Retention_Time'], 'Transition': row['Transition']}, ignore_index=True)\n",
    "\n",
    "#     #sort the dataframe by transition\n",
    "#     df_2.sort_values(by=['Transition'], inplace=True)\n",
    "#     # Create dataframe from OzESI_rt_df\n",
    "#     OzESI_rt_df = df_2\n",
    "\n",
    "#     # Round retention Retention_Time to 1 decimal place\n",
    "#     OzESI_rt_df['Retention_Time'] = round(OzESI_rt_df['Retention_Time'], 2)\n",
    "    \n",
    "#     # Create a column called Transition with the Parent_Ion and Product_Ion\n",
    "#     OzESI_rt_df['Transition'] = OzESI_rt_df['Parent_Ion'].astype(str) + ' -> ' + OzESI_rt_df['Product_Ion'].astype(str)\n",
    "    \n",
    "# #     ########### HARDCODED TO DROP RETENTION TIMES BELOW 7 SECONDS ############\n",
    "#     #drop Rention_Time below 10.5 seconds and above 15.5 seconds\n",
    "#     OzESI_rt_df = OzESI_rt_df[OzESI_rt_df['Retention_Time'] > 10.5]\n",
    "#     OzESI_rt_df = OzESI_rt_df[OzESI_rt_df['Retention_Time'] < 15.5]\n",
    "\n",
    "#     # Sort the DataFrame by intensity in descending order\n",
    "#     OzESI_rt_df_sorted = OzESI_rt_df.sort_values(['intensity'], ascending=False)\n",
    "#     # Group the DataFrame by 'Parent_Ion' and 'Product_Ion'\n",
    "#     grouped_df = OzESI_rt_df_sorted.groupby(['Parent_Ion', 'Product_Ion'])\n",
    "\n",
    "#     # Create an empty DataFrame to store the top 5 values\n",
    "#     top_5_df = pd.DataFrame(columns=OzESI_rt_df.columns)\n",
    "\n",
    "#     # Iterate over each group\n",
    "#     for _, group in grouped_df:\n",
    "#         # Get the top 5 rows with the highest intensity\n",
    "#         top_5_rows = group.head(5)\n",
    "#         # Append the top 5 rows to the 'top_5_df'\n",
    "#         top_5_df = top_5_df.append(top_5_rows)\n",
    "\n",
    "#     # Sort the 'top_5_df' by the original index\n",
    "#     top_5_df.sort_index(inplace=True)\n",
    "\n",
    "# # Print the DataFrame with the top 5 values for each 'Parent_Ion' and 'Product_Ion'\n",
    "#     print('here is top 5\\n',top_5_df)\n",
    "#     OzESI_rt_df_top = top_5_df.nlargest(1000, 'intensity')\n",
    "#     #OzESI_rt_df_top = OzESI_rt_df_sorted.nlargest(1000, 'intensity')\n",
    "\n",
    "#     print('OzESI 10 largest: \\n', OzESI_rt_df_top)\n",
    "    \n",
    "# Find peaks in the intensity column and plot the chromatogram\n",
    "    # peaks, _ = find_peaks(OzESI_rt_df['intensity'], height=0.5e5,distance=1000)\n",
    "    # plt.plot(OzESI_rt_df['Retention_Time'] ,OzESI_rt_df['intensity'])\n",
    "    # plt.plot(OzESI_rt_df.iloc[peaks]['Retention_Time'], OzESI_rt_df.iloc[peaks]['intensity'], \"x\")\n",
    "    # plt.ylabel('Intensity')\n",
    "    # plt.xlabel('Retention Time')\n",
    "    # plt.title('OzESI LC Chromatogram')\n",
    "    # plt.show()\n",
    "    \n",
    "#     #return OzESI_rt_df_top\n",
    "\n",
    "######### OLD CODE##############\n",
    "# def add_rt_intensity(df, OzESI_rt_df_top):\n",
    "#     # Create a dictionary to map transitions to retention times and intensities\n",
    "#     transitions_to_rt = dict(zip(OzESI_rt_df_top['Transition'], OzESI_rt_df_top['Retention_Time']))\n",
    "#     transitions_to_intensity = dict(zip(OzESI_rt_df_top['Transition'], OzESI_rt_df_top['intensity']))\n",
    "#     # Use the map function to add retention times and intensities to the dataframe\n",
    "#     df['Retention_Time'] = df['Transition'].map(transitions_to_rt)\n",
    "#     df['Intensity_OzESI'] = df['Transition'].map(transitions_to_intensity)\n",
    "    \n",
    "#     return df\n",
    "\n",
    "# def add_rt_intensity(df, OzESI_rt_df_top):\n",
    "#     # Initialize an empty DataFrame to store the results\n",
    "#     new_df = pd.DataFrame()\n",
    "\n",
    "#     # Group by 'Transition' and iterate over the groups\n",
    "#     for name, group in OzESI_rt_df_top.groupby('Transition'):\n",
    "#         # Keep the top 10 values for each transition\n",
    "#         top_values = group.nlargest(10, 'intensity')\n",
    "\n",
    "#         # Append the top values DataFrame to the results DataFrame\n",
    "#         new_df = new_df.append(top_values, ignore_index=True)\n",
    "\n",
    "#     # Create dictionaries to map transitions to retention times and intensities\n",
    "#     transitions_to_rt = dict(zip(new_df['Transition'], new_df['Retention_Time']))\n",
    "#     transitions_to_intensity = dict(zip(new_df['Transition'], new_df['intensity']))\n",
    "\n",
    "#     # Use the map function to add retention times and intensities to the dataframe\n",
    "#     df['Retention_Time'] = df['Transition'].map(transitions_to_rt)\n",
    "#     df['Intensity_OzESI'] = df['Transition'].map(transitions_to_intensity)\n",
    "\n",
    "#     return df\n",
    "def add_rt_intensity(df, OzESI_rt_df_top):\n",
    "\n",
    "    #### STRING OF RETENTION TIMES\n",
    "    # Group by 'Transition' and get lists of retention times and intensities\n",
    "    transitions_to_rt = OzESI_rt_df_top.groupby('Transition')['Retention_Time'].apply(list).to_dict()\n",
    "    transitions_to_intensity = OzESI_rt_df_top.groupby('Transition')['intensity'].apply(list).to_dict()\n",
    "    \n",
    "    # Use the map function to add retention times and intensities to the dataframe as strings\n",
    "    df['Retention_Time'] = df['Transition'].map(transitions_to_rt).apply(lambda x: ', '.join(map(str, x)) if isinstance(x, list) else x)\n",
    "    df['Intensity_OzESI'] = df['Transition'].map(transitions_to_intensity).apply(lambda x: ', '.join(map(str, x)) if isinstance(x, list) else x)\n",
    "    \n",
    "\n",
    "    #MEAN OF RENETION TIMES\n",
    "    # Convert the 'Retention_Time' column from string of lists to lists of floats\n",
    "    df['Retention_Time'] = df['Retention_Time'].apply(lambda x: [float(i) for i in x.split(', ')] if isinstance(x, str) else x)\n",
    "\n",
    "    # Calculate the mean of 'Retention_Time' for each transition\n",
    "    df['Mean_Retention_Time'] = df['Retention_Time'].apply(np.mean).round(2)\n",
    "\n",
    "    # Convert the 'Intensity_OzESI' column from string of lists to lists of floats\n",
    "    df['Intensity_OzESI'] = df['Intensity_OzESI'].apply(lambda x: [float(i) for i in x.split(', ')] if isinstance(x, str) else x)\n",
    "\n",
    "    # Calculate the mean of 'Intensity_OzESI' for each transition\n",
    "    df['Mean_Intensity_OzESI'] = df['Intensity_OzESI'].apply(np.mean)\n",
    "\n",
    "    return df\n",
    "\n",
    "\n",
    "def create_aldehyde_ion_dataframe():\n",
    "    # Create a pandas dataframe with columns for DB_Position and Aldehyde_Ion\n",
    "    df_OzESI = pd.DataFrame(columns=['DB_Position','Aldehyde_Ion'])\n",
    "\n",
    "    # Loop over the range of DB_Position values and calculate the corresponding Aldehyde_Ion values\n",
    "    for i in range(3, 21):\n",
    "        df_OzESI.loc[i,'DB_Position'] = i\n",
    "        df_OzESI.loc[i,'Aldehyde_Ion'] = 26 + (14 * (i-3)) \n",
    "\n",
    "    # Print the first 25 rows of the dataframe\n",
    "    # print(df_OzESI.head(25))\n",
    "\n",
    "    # Return the dataframe\n",
    "    return df_OzESI\n",
    "\n",
    "#OzESI_list = [3,5,7,9,11]\n",
    "OzESI_list = [7,9,12]\n",
    "#def calculate_n_minus_values(df_matched, df_OzESI, OzESI_list=[3,5,7,9,11], starting_column=9, last_column=14):\n",
    "def calculate_n_minus_values(df_matched, df_OzESI, OzESI_list=[7,9,12], starting_column=9, last_column=14):\n",
    "    \"\"\"\n",
    "    Given a pandas dataframe df and a dataframe df_OzESI containing DB_Position and Aldehyde_Ion values,\n",
    "    calculates the n-i values for each i in OzESI_list by subtracting the corresponding Aldehyde_Ion value\n",
    "    from the Parent_Ion column in df and storing the result in new columns named 'n-i' in df.\n",
    "    The starting_column and last_column parameters specify the range of columns in which the n-i values should be stored.\n",
    "    \"\"\"\n",
    "    # Create new columns in df for n-i values\n",
    "    for i in OzESI_list:\n",
    "        df_matched[f\"n-{i}\"] = df_matched[\"Parent_Ion\"] - df_OzESI.loc[df_OzESI[\"DB_Position\"] == i, \"Aldehyde_Ion\"].values[0]\n",
    "    \n",
    "    # Print the shape of the dataframe and return it\n",
    "    # print(df_matched.shape)\n",
    "    return df_matched\n",
    "\n",
    "\n",
    "# OzESI_rt_df_top = process_chromatogram(OzESI_time)\n"
   ]
  },
  {
   "cell_type": "code",
   "execution_count": 9,
   "metadata": {},
   "outputs": [
    {
     "name": "stdout",
     "output_type": "stream",
     "text": [
      "OzESI 1 largest per transition: \n",
      "     Retention_Time  intensity  Parent_Ion  Product_Ion      Transition\n",
      "0            11.69     3903.0       694.6        547.6  694.6 -> 547.6\n",
      "1            12.91    18586.0       696.6        549.6  696.6 -> 549.6\n",
      "2            14.00    59211.0       698.7        551.6  698.7 -> 551.6\n",
      "3            13.63      590.0       720.6        573.6  720.6 -> 573.6\n",
      "4            12.77     3643.0       722.6        575.6  722.6 -> 575.6\n",
      "5            13.99    15596.0       724.7        577.6  724.7 -> 577.6\n",
      "6            12.52     9713.0       736.7        547.6  736.7 -> 547.6\n",
      "7            13.74    49935.0       738.7        549.6  738.7 -> 549.6\n",
      "8            14.95   144069.0       740.8        551.6  740.8 -> 551.6\n",
      "9            15.19      584.0       746.8        599.6  746.8 -> 599.6\n",
      "10           11.78      985.0       748.8        601.6  748.8 -> 601.6\n",
      "11           13.85     3845.0       750.8        603.6  750.8 -> 603.6\n",
      "12           12.50     4476.0       762.7        573.6  762.7 -> 573.6\n",
      "13           13.59    26821.0       764.7        575.6  764.7 -> 575.6\n",
      "14           14.81   266662.0       766.7        577.6  766.7 -> 577.6\n",
      "15           14.92    83299.0       768.8        551.6  768.8 -> 551.6\n",
      "16           12.36     8898.0       788.8        599.6  788.8 -> 599.6\n",
      "17           12.48     1466.0       790.7        573.6  790.7 -> 573.6\n",
      "18           12.48    16153.0       790.8        601.6  790.8 -> 601.6\n",
      "19           13.69    18782.0       792.7        575.6  792.7 -> 575.6\n",
      "20           14.66   116813.0       792.8        603.6  792.8 -> 603.6\n",
      "21           14.78    98857.0       794.7        577.6  794.7 -> 577.6\n",
      "22           12.34     2962.0       816.8        599.6  816.8 -> 599.6\n",
      "23           13.68     3524.0       818.8        601.6  818.8 -> 601.6\n",
      "24           14.65    25918.0       820.8        603.6  820.8 -> 603.6\n",
      "25           12.58    72587.0       846.8        547.6  846.8 -> 547.6\n",
      "26           13.79   409651.0       848.8        549.6  848.8 -> 549.6\n",
      "27           15.13  2236988.0       850.8        551.6  850.8 -> 551.6\n",
      "28           12.57   159733.0       872.8        573.6  872.8 -> 573.6\n",
      "29           13.66   928619.0       874.8        575.6  874.8 -> 575.6\n",
      "30           14.99  4376154.0       876.8        577.6  876.8 -> 577.6\n",
      "31           12.56   494143.0       898.8        599.6  898.8 -> 599.6\n",
      "32           13.65   797129.0       900.8        601.6  900.8 -> 601.6\n",
      "33           14.74  2345724.0       902.8        603.6  902.8 -> 603.6\n"
     ]
    },
    {
     "data": {
      "text/html": [
       "<div>\n",
       "<style scoped>\n",
       "    .dataframe tbody tr th:only-of-type {\n",
       "        vertical-align: middle;\n",
       "    }\n",
       "\n",
       "    .dataframe tbody tr th {\n",
       "        vertical-align: top;\n",
       "    }\n",
       "\n",
       "    .dataframe thead th {\n",
       "        text-align: right;\n",
       "    }\n",
       "</style>\n",
       "<table border=\"1\" class=\"dataframe\">\n",
       "  <thead>\n",
       "    <tr style=\"text-align: right;\">\n",
       "      <th></th>\n",
       "      <th>Lipid</th>\n",
       "      <th>Parent_Ion</th>\n",
       "      <th>Product_Ion</th>\n",
       "      <th>Intensity</th>\n",
       "      <th>Transition</th>\n",
       "      <th>Class</th>\n",
       "      <th>Sample_ID</th>\n",
       "      <th>Retention_Time</th>\n",
       "      <th>Intensity_OzESI</th>\n",
       "      <th>Mean_Retention_Time</th>\n",
       "      <th>Mean_Intensity_OzESI</th>\n",
       "      <th>n-7</th>\n",
       "      <th>n-9</th>\n",
       "      <th>n-12</th>\n",
       "    </tr>\n",
       "  </thead>\n",
       "  <tbody>\n",
       "    <tr>\n",
       "      <th>26</th>\n",
       "      <td>NaN</td>\n",
       "      <td>820.8</td>\n",
       "      <td>603.6</td>\n",
       "      <td>4.014192e+05</td>\n",
       "      <td>820.8 -&gt; 603.6</td>\n",
       "      <td>NaN</td>\n",
       "      <td>DOD93_F4-5xFAD-Cereb_TG18-1_o3on</td>\n",
       "      <td>[14.65]</td>\n",
       "      <td>[25918.0]</td>\n",
       "      <td>14.65</td>\n",
       "      <td>25918.0</td>\n",
       "      <td>738.8</td>\n",
       "      <td>710.8</td>\n",
       "      <td>668.8</td>\n",
       "    </tr>\n",
       "    <tr>\n",
       "      <th>27</th>\n",
       "      <td>[TG(50:3)]_FA18:1</td>\n",
       "      <td>846.8</td>\n",
       "      <td>547.6</td>\n",
       "      <td>6.869138e+05</td>\n",
       "      <td>846.8 -&gt; 547.6</td>\n",
       "      <td>TAG</td>\n",
       "      <td>DOD93_F4-5xFAD-Cereb_TG18-1_o3on</td>\n",
       "      <td>[12.58]</td>\n",
       "      <td>[72587.0]</td>\n",
       "      <td>12.58</td>\n",
       "      <td>72587.0</td>\n",
       "      <td>764.8</td>\n",
       "      <td>736.8</td>\n",
       "      <td>694.8</td>\n",
       "    </tr>\n",
       "    <tr>\n",
       "      <th>28</th>\n",
       "      <td>[TG(51:9),TG(50:2)]_FA18:1</td>\n",
       "      <td>848.8</td>\n",
       "      <td>549.6</td>\n",
       "      <td>3.262575e+06</td>\n",
       "      <td>848.8 -&gt; 549.6</td>\n",
       "      <td>TAG</td>\n",
       "      <td>DOD93_F4-5xFAD-Cereb_TG18-1_o3on</td>\n",
       "      <td>[13.79]</td>\n",
       "      <td>[409651.0]</td>\n",
       "      <td>13.79</td>\n",
       "      <td>409651.0</td>\n",
       "      <td>766.8</td>\n",
       "      <td>738.8</td>\n",
       "      <td>696.8</td>\n",
       "    </tr>\n",
       "    <tr>\n",
       "      <th>29</th>\n",
       "      <td>[TG(51:8),TG(50:1)]_FA18:1</td>\n",
       "      <td>850.8</td>\n",
       "      <td>551.6</td>\n",
       "      <td>8.906404e+06</td>\n",
       "      <td>850.8 -&gt; 551.6</td>\n",
       "      <td>TAG</td>\n",
       "      <td>DOD93_F4-5xFAD-Cereb_TG18-1_o3on</td>\n",
       "      <td>[15.13]</td>\n",
       "      <td>[2236988.0]</td>\n",
       "      <td>15.13</td>\n",
       "      <td>2236988.0</td>\n",
       "      <td>768.8</td>\n",
       "      <td>740.8</td>\n",
       "      <td>698.8</td>\n",
       "    </tr>\n",
       "    <tr>\n",
       "      <th>30</th>\n",
       "      <td>[TG(52:4)]_FA18:1</td>\n",
       "      <td>872.8</td>\n",
       "      <td>573.6</td>\n",
       "      <td>7.219475e+05</td>\n",
       "      <td>872.8 -&gt; 573.6</td>\n",
       "      <td>TAG</td>\n",
       "      <td>DOD93_F4-5xFAD-Cereb_TG18-1_o3on</td>\n",
       "      <td>[12.57]</td>\n",
       "      <td>[159733.0]</td>\n",
       "      <td>12.57</td>\n",
       "      <td>159733.0</td>\n",
       "      <td>790.8</td>\n",
       "      <td>762.8</td>\n",
       "      <td>720.8</td>\n",
       "    </tr>\n",
       "    <tr>\n",
       "      <th>31</th>\n",
       "      <td>[TG(53:10),TG(52:3)]_FA18:1</td>\n",
       "      <td>874.8</td>\n",
       "      <td>575.6</td>\n",
       "      <td>4.364672e+06</td>\n",
       "      <td>874.8 -&gt; 575.6</td>\n",
       "      <td>TAG</td>\n",
       "      <td>DOD93_F4-5xFAD-Cereb_TG18-1_o3on</td>\n",
       "      <td>[13.66]</td>\n",
       "      <td>[928619.0]</td>\n",
       "      <td>13.66</td>\n",
       "      <td>928619.0</td>\n",
       "      <td>792.8</td>\n",
       "      <td>764.8</td>\n",
       "      <td>722.8</td>\n",
       "    </tr>\n",
       "    <tr>\n",
       "      <th>32</th>\n",
       "      <td>[TG(53:9),TG(52:2)]_FA18:1</td>\n",
       "      <td>876.8</td>\n",
       "      <td>577.6</td>\n",
       "      <td>1.805685e+07</td>\n",
       "      <td>876.8 -&gt; 577.6</td>\n",
       "      <td>TAG</td>\n",
       "      <td>DOD93_F4-5xFAD-Cereb_TG18-1_o3on</td>\n",
       "      <td>[14.99]</td>\n",
       "      <td>[4376154.0]</td>\n",
       "      <td>14.99</td>\n",
       "      <td>4376154.0</td>\n",
       "      <td>794.8</td>\n",
       "      <td>766.8</td>\n",
       "      <td>724.8</td>\n",
       "    </tr>\n",
       "    <tr>\n",
       "      <th>33</th>\n",
       "      <td>[TG(54:5)]_FA18:1</td>\n",
       "      <td>898.8</td>\n",
       "      <td>599.6</td>\n",
       "      <td>1.673118e+06</td>\n",
       "      <td>898.8 -&gt; 599.6</td>\n",
       "      <td>TAG</td>\n",
       "      <td>DOD93_F4-5xFAD-Cereb_TG18-1_o3on</td>\n",
       "      <td>[12.56]</td>\n",
       "      <td>[494143.0]</td>\n",
       "      <td>12.56</td>\n",
       "      <td>494143.0</td>\n",
       "      <td>816.8</td>\n",
       "      <td>788.8</td>\n",
       "      <td>746.8</td>\n",
       "    </tr>\n",
       "    <tr>\n",
       "      <th>34</th>\n",
       "      <td>[TG(55:11),TG(54:4)]_FA18:1</td>\n",
       "      <td>900.8</td>\n",
       "      <td>601.6</td>\n",
       "      <td>3.305303e+06</td>\n",
       "      <td>900.8 -&gt; 601.6</td>\n",
       "      <td>TAG</td>\n",
       "      <td>DOD93_F4-5xFAD-Cereb_TG18-1_o3on</td>\n",
       "      <td>[13.65]</td>\n",
       "      <td>[797129.0]</td>\n",
       "      <td>13.65</td>\n",
       "      <td>797129.0</td>\n",
       "      <td>818.8</td>\n",
       "      <td>790.8</td>\n",
       "      <td>748.8</td>\n",
       "    </tr>\n",
       "    <tr>\n",
       "      <th>35</th>\n",
       "      <td>[TG(55:10),TG(54:3)]_FA18:1</td>\n",
       "      <td>902.8</td>\n",
       "      <td>603.6</td>\n",
       "      <td>9.339795e+06</td>\n",
       "      <td>902.8 -&gt; 603.6</td>\n",
       "      <td>TAG</td>\n",
       "      <td>DOD93_F4-5xFAD-Cereb_TG18-1_o3on</td>\n",
       "      <td>[14.74]</td>\n",
       "      <td>[2345724.0]</td>\n",
       "      <td>14.74</td>\n",
       "      <td>2345724.0</td>\n",
       "      <td>820.8</td>\n",
       "      <td>792.8</td>\n",
       "      <td>750.8</td>\n",
       "    </tr>\n",
       "  </tbody>\n",
       "</table>\n",
       "</div>"
      ],
      "text/plain": [
       "                          Lipid  Parent_Ion  Product_Ion     Intensity  \\\n",
       "26                          NaN       820.8        603.6  4.014192e+05   \n",
       "27            [TG(50:3)]_FA18:1       846.8        547.6  6.869138e+05   \n",
       "28   [TG(51:9),TG(50:2)]_FA18:1       848.8        549.6  3.262575e+06   \n",
       "29   [TG(51:8),TG(50:1)]_FA18:1       850.8        551.6  8.906404e+06   \n",
       "30            [TG(52:4)]_FA18:1       872.8        573.6  7.219475e+05   \n",
       "31  [TG(53:10),TG(52:3)]_FA18:1       874.8        575.6  4.364672e+06   \n",
       "32   [TG(53:9),TG(52:2)]_FA18:1       876.8        577.6  1.805685e+07   \n",
       "33            [TG(54:5)]_FA18:1       898.8        599.6  1.673118e+06   \n",
       "34  [TG(55:11),TG(54:4)]_FA18:1       900.8        601.6  3.305303e+06   \n",
       "35  [TG(55:10),TG(54:3)]_FA18:1       902.8        603.6  9.339795e+06   \n",
       "\n",
       "        Transition Class                         Sample_ID Retention_Time  \\\n",
       "26  820.8 -> 603.6   NaN  DOD93_F4-5xFAD-Cereb_TG18-1_o3on        [14.65]   \n",
       "27  846.8 -> 547.6   TAG  DOD93_F4-5xFAD-Cereb_TG18-1_o3on        [12.58]   \n",
       "28  848.8 -> 549.6   TAG  DOD93_F4-5xFAD-Cereb_TG18-1_o3on        [13.79]   \n",
       "29  850.8 -> 551.6   TAG  DOD93_F4-5xFAD-Cereb_TG18-1_o3on        [15.13]   \n",
       "30  872.8 -> 573.6   TAG  DOD93_F4-5xFAD-Cereb_TG18-1_o3on        [12.57]   \n",
       "31  874.8 -> 575.6   TAG  DOD93_F4-5xFAD-Cereb_TG18-1_o3on        [13.66]   \n",
       "32  876.8 -> 577.6   TAG  DOD93_F4-5xFAD-Cereb_TG18-1_o3on        [14.99]   \n",
       "33  898.8 -> 599.6   TAG  DOD93_F4-5xFAD-Cereb_TG18-1_o3on        [12.56]   \n",
       "34  900.8 -> 601.6   TAG  DOD93_F4-5xFAD-Cereb_TG18-1_o3on        [13.65]   \n",
       "35  902.8 -> 603.6   TAG  DOD93_F4-5xFAD-Cereb_TG18-1_o3on        [14.74]   \n",
       "\n",
       "   Intensity_OzESI  Mean_Retention_Time  Mean_Intensity_OzESI    n-7    n-9  \\\n",
       "26       [25918.0]                14.65               25918.0  738.8  710.8   \n",
       "27       [72587.0]                12.58               72587.0  764.8  736.8   \n",
       "28      [409651.0]                13.79              409651.0  766.8  738.8   \n",
       "29     [2236988.0]                15.13             2236988.0  768.8  740.8   \n",
       "30      [159733.0]                12.57              159733.0  790.8  762.8   \n",
       "31      [928619.0]                13.66              928619.0  792.8  764.8   \n",
       "32     [4376154.0]                14.99             4376154.0  794.8  766.8   \n",
       "33      [494143.0]                12.56              494143.0  816.8  788.8   \n",
       "34      [797129.0]                13.65              797129.0  818.8  790.8   \n",
       "35     [2345724.0]                14.74             2345724.0  820.8  792.8   \n",
       "\n",
       "     n-12  \n",
       "26  668.8  \n",
       "27  694.8  \n",
       "28  696.8  \n",
       "29  698.8  \n",
       "30  720.8  \n",
       "31  722.8  \n",
       "32  724.8  \n",
       "33  746.8  \n",
       "34  748.8  \n",
       "35  750.8  "
      ]
     },
     "execution_count": 9,
     "metadata": {},
     "output_type": "execute_result"
    }
   ],
   "source": [
    "#OzESI_list = [3,5,7,9,11]\n",
    "#def df_OzESI_pipeline(df, OzESI_time, OzESI_list=[3,5,7,9,12]):\n",
    "def df_OzESI_pipeline(df, OzESI_time, OzESI_list=[7,9,12]):\n",
    "    # Process chromatogram\n",
    "    OzESI_rt_df_top = process_chromatogram(OzESI_time)\n",
    "    \n",
    "    df_OzESI = create_aldehyde_ion_dataframe()\n",
    "    # Add retention time and intensity to dataframe\n",
    "    df_processed = add_rt_intensity(df, OzESI_rt_df_top)\n",
    "    # Calculate n-minus values\n",
    "    df_processed = calculate_n_minus_values(df_processed, df_OzESI, OzESI_list, starting_column=9, last_column=14)\n",
    "    \n",
    "    return df_processed\n",
    "df_OzESI_processed = df_OzESI_pipeline(df_matched, OzESI_time)\n",
    "df_OzESI_processed.tail(10)"
   ]
  },
  {
   "cell_type": "code",
   "execution_count": 10,
   "metadata": {},
   "outputs": [
    {
     "data": {
      "text/html": [
       "<div>\n",
       "<style scoped>\n",
       "    .dataframe tbody tr th:only-of-type {\n",
       "        vertical-align: middle;\n",
       "    }\n",
       "\n",
       "    .dataframe tbody tr th {\n",
       "        vertical-align: top;\n",
       "    }\n",
       "\n",
       "    .dataframe thead th {\n",
       "        text-align: right;\n",
       "    }\n",
       "</style>\n",
       "<table border=\"1\" class=\"dataframe\">\n",
       "  <thead>\n",
       "    <tr style=\"text-align: right;\">\n",
       "      <th></th>\n",
       "      <th>Lipid</th>\n",
       "      <th>Parent_Ion</th>\n",
       "      <th>Product_Ion</th>\n",
       "      <th>Intensity</th>\n",
       "      <th>Transition</th>\n",
       "      <th>Class</th>\n",
       "      <th>Sample_ID</th>\n",
       "      <th>Retention_Time</th>\n",
       "      <th>Intensity_OzESI</th>\n",
       "      <th>Mean_Retention_Time</th>\n",
       "      <th>Mean_Intensity_OzESI</th>\n",
       "      <th>n-7</th>\n",
       "      <th>n-9</th>\n",
       "      <th>n-12</th>\n",
       "    </tr>\n",
       "  </thead>\n",
       "  <tbody>\n",
       "    <tr>\n",
       "      <th>0</th>\n",
       "      <td>NaN</td>\n",
       "      <td>694.6</td>\n",
       "      <td>547.6</td>\n",
       "      <td>2.567996e+05</td>\n",
       "      <td>694.6 -&gt; 547.6</td>\n",
       "      <td>NaN</td>\n",
       "      <td>DOD93_F4-5xFAD-Cereb_TG18-1_o3on</td>\n",
       "      <td>[11.69]</td>\n",
       "      <td>[3903.0]</td>\n",
       "      <td>11.69</td>\n",
       "      <td>3903.0</td>\n",
       "      <td>612.6</td>\n",
       "      <td>584.6</td>\n",
       "      <td>542.6</td>\n",
       "    </tr>\n",
       "    <tr>\n",
       "      <th>1</th>\n",
       "      <td>NaN</td>\n",
       "      <td>696.6</td>\n",
       "      <td>549.6</td>\n",
       "      <td>2.185144e+05</td>\n",
       "      <td>696.6 -&gt; 549.6</td>\n",
       "      <td>NaN</td>\n",
       "      <td>DOD93_F4-5xFAD-Cereb_TG18-1_o3on</td>\n",
       "      <td>[12.91]</td>\n",
       "      <td>[18586.0]</td>\n",
       "      <td>12.91</td>\n",
       "      <td>18586.0</td>\n",
       "      <td>614.6</td>\n",
       "      <td>586.6</td>\n",
       "      <td>544.6</td>\n",
       "    </tr>\n",
       "    <tr>\n",
       "      <th>2</th>\n",
       "      <td>NaN</td>\n",
       "      <td>698.7</td>\n",
       "      <td>551.6</td>\n",
       "      <td>6.608002e+06</td>\n",
       "      <td>698.7 -&gt; 551.6</td>\n",
       "      <td>NaN</td>\n",
       "      <td>DOD93_F4-5xFAD-Cereb_TG18-1_o3on</td>\n",
       "      <td>[14.0]</td>\n",
       "      <td>[59211.0]</td>\n",
       "      <td>14.00</td>\n",
       "      <td>59211.0</td>\n",
       "      <td>616.7</td>\n",
       "      <td>588.7</td>\n",
       "      <td>546.7</td>\n",
       "    </tr>\n",
       "    <tr>\n",
       "      <th>3</th>\n",
       "      <td>NaN</td>\n",
       "      <td>720.6</td>\n",
       "      <td>573.6</td>\n",
       "      <td>7.330655e+04</td>\n",
       "      <td>720.6 -&gt; 573.6</td>\n",
       "      <td>NaN</td>\n",
       "      <td>DOD93_F4-5xFAD-Cereb_TG18-1_o3on</td>\n",
       "      <td>[13.63]</td>\n",
       "      <td>[590.0]</td>\n",
       "      <td>13.63</td>\n",
       "      <td>590.0</td>\n",
       "      <td>638.6</td>\n",
       "      <td>610.6</td>\n",
       "      <td>568.6</td>\n",
       "    </tr>\n",
       "    <tr>\n",
       "      <th>4</th>\n",
       "      <td>NaN</td>\n",
       "      <td>722.6</td>\n",
       "      <td>575.6</td>\n",
       "      <td>1.428391e+05</td>\n",
       "      <td>722.6 -&gt; 575.6</td>\n",
       "      <td>NaN</td>\n",
       "      <td>DOD93_F4-5xFAD-Cereb_TG18-1_o3on</td>\n",
       "      <td>[12.77]</td>\n",
       "      <td>[3643.0]</td>\n",
       "      <td>12.77</td>\n",
       "      <td>3643.0</td>\n",
       "      <td>640.6</td>\n",
       "      <td>612.6</td>\n",
       "      <td>570.6</td>\n",
       "    </tr>\n",
       "    <tr>\n",
       "      <th>5</th>\n",
       "      <td>NaN</td>\n",
       "      <td>724.7</td>\n",
       "      <td>577.6</td>\n",
       "      <td>5.815955e+05</td>\n",
       "      <td>724.7 -&gt; 577.6</td>\n",
       "      <td>NaN</td>\n",
       "      <td>DOD93_F4-5xFAD-Cereb_TG18-1_o3on</td>\n",
       "      <td>[13.99]</td>\n",
       "      <td>[15596.0]</td>\n",
       "      <td>13.99</td>\n",
       "      <td>15596.0</td>\n",
       "      <td>642.7</td>\n",
       "      <td>614.7</td>\n",
       "      <td>572.7</td>\n",
       "    </tr>\n",
       "    <tr>\n",
       "      <th>6</th>\n",
       "      <td>NaN</td>\n",
       "      <td>736.7</td>\n",
       "      <td>547.6</td>\n",
       "      <td>6.613184e+05</td>\n",
       "      <td>736.7 -&gt; 547.6</td>\n",
       "      <td>NaN</td>\n",
       "      <td>DOD93_F4-5xFAD-Cereb_TG18-1_o3on</td>\n",
       "      <td>[12.52]</td>\n",
       "      <td>[9713.0]</td>\n",
       "      <td>12.52</td>\n",
       "      <td>9713.0</td>\n",
       "      <td>654.7</td>\n",
       "      <td>626.7</td>\n",
       "      <td>584.7</td>\n",
       "    </tr>\n",
       "    <tr>\n",
       "      <th>7</th>\n",
       "      <td>NaN</td>\n",
       "      <td>738.7</td>\n",
       "      <td>549.6</td>\n",
       "      <td>4.582103e+05</td>\n",
       "      <td>738.7 -&gt; 549.6</td>\n",
       "      <td>NaN</td>\n",
       "      <td>DOD93_F4-5xFAD-Cereb_TG18-1_o3on</td>\n",
       "      <td>[13.74]</td>\n",
       "      <td>[49935.0]</td>\n",
       "      <td>13.74</td>\n",
       "      <td>49935.0</td>\n",
       "      <td>656.7</td>\n",
       "      <td>628.7</td>\n",
       "      <td>586.7</td>\n",
       "    </tr>\n",
       "    <tr>\n",
       "      <th>8</th>\n",
       "      <td>NaN</td>\n",
       "      <td>740.8</td>\n",
       "      <td>551.6</td>\n",
       "      <td>9.366814e+05</td>\n",
       "      <td>740.8 -&gt; 551.6</td>\n",
       "      <td>NaN</td>\n",
       "      <td>DOD93_F4-5xFAD-Cereb_TG18-1_o3on</td>\n",
       "      <td>[14.95]</td>\n",
       "      <td>[144069.0]</td>\n",
       "      <td>14.95</td>\n",
       "      <td>144069.0</td>\n",
       "      <td>658.8</td>\n",
       "      <td>630.8</td>\n",
       "      <td>588.8</td>\n",
       "    </tr>\n",
       "    <tr>\n",
       "      <th>9</th>\n",
       "      <td>NaN</td>\n",
       "      <td>746.8</td>\n",
       "      <td>599.6</td>\n",
       "      <td>1.976136e+05</td>\n",
       "      <td>746.8 -&gt; 599.6</td>\n",
       "      <td>NaN</td>\n",
       "      <td>DOD93_F4-5xFAD-Cereb_TG18-1_o3on</td>\n",
       "      <td>[15.19]</td>\n",
       "      <td>[584.0]</td>\n",
       "      <td>15.19</td>\n",
       "      <td>584.0</td>\n",
       "      <td>664.8</td>\n",
       "      <td>636.8</td>\n",
       "      <td>594.8</td>\n",
       "    </tr>\n",
       "    <tr>\n",
       "      <th>10</th>\n",
       "      <td>NaN</td>\n",
       "      <td>748.8</td>\n",
       "      <td>601.6</td>\n",
       "      <td>1.128153e+05</td>\n",
       "      <td>748.8 -&gt; 601.6</td>\n",
       "      <td>NaN</td>\n",
       "      <td>DOD93_F4-5xFAD-Cereb_TG18-1_o3on</td>\n",
       "      <td>[11.78]</td>\n",
       "      <td>[985.0]</td>\n",
       "      <td>11.78</td>\n",
       "      <td>985.0</td>\n",
       "      <td>666.8</td>\n",
       "      <td>638.8</td>\n",
       "      <td>596.8</td>\n",
       "    </tr>\n",
       "    <tr>\n",
       "      <th>11</th>\n",
       "      <td>NaN</td>\n",
       "      <td>750.8</td>\n",
       "      <td>603.6</td>\n",
       "      <td>5.757424e+05</td>\n",
       "      <td>750.8 -&gt; 603.6</td>\n",
       "      <td>NaN</td>\n",
       "      <td>DOD93_F4-5xFAD-Cereb_TG18-1_o3on</td>\n",
       "      <td>[13.85]</td>\n",
       "      <td>[3845.0]</td>\n",
       "      <td>13.85</td>\n",
       "      <td>3845.0</td>\n",
       "      <td>668.8</td>\n",
       "      <td>640.8</td>\n",
       "      <td>598.8</td>\n",
       "    </tr>\n",
       "    <tr>\n",
       "      <th>12</th>\n",
       "      <td>NaN</td>\n",
       "      <td>762.7</td>\n",
       "      <td>573.6</td>\n",
       "      <td>1.173825e+05</td>\n",
       "      <td>762.7 -&gt; 573.6</td>\n",
       "      <td>NaN</td>\n",
       "      <td>DOD93_F4-5xFAD-Cereb_TG18-1_o3on</td>\n",
       "      <td>[12.5]</td>\n",
       "      <td>[4476.0]</td>\n",
       "      <td>12.50</td>\n",
       "      <td>4476.0</td>\n",
       "      <td>680.7</td>\n",
       "      <td>652.7</td>\n",
       "      <td>610.7</td>\n",
       "    </tr>\n",
       "    <tr>\n",
       "      <th>13</th>\n",
       "      <td>NaN</td>\n",
       "      <td>764.7</td>\n",
       "      <td>547.6</td>\n",
       "      <td>1.187571e+06</td>\n",
       "      <td>764.7 -&gt; 547.6</td>\n",
       "      <td>NaN</td>\n",
       "      <td>DOD93_F4-5xFAD-Cereb_TG18-1_o3on</td>\n",
       "      <td>NaN</td>\n",
       "      <td>NaN</td>\n",
       "      <td>NaN</td>\n",
       "      <td>NaN</td>\n",
       "      <td>682.7</td>\n",
       "      <td>654.7</td>\n",
       "      <td>612.7</td>\n",
       "    </tr>\n",
       "    <tr>\n",
       "      <th>14</th>\n",
       "      <td>NaN</td>\n",
       "      <td>764.7</td>\n",
       "      <td>575.6</td>\n",
       "      <td>2.812500e+05</td>\n",
       "      <td>764.7 -&gt; 575.6</td>\n",
       "      <td>NaN</td>\n",
       "      <td>DOD93_F4-5xFAD-Cereb_TG18-1_o3on</td>\n",
       "      <td>[13.59]</td>\n",
       "      <td>[26821.0]</td>\n",
       "      <td>13.59</td>\n",
       "      <td>26821.0</td>\n",
       "      <td>682.7</td>\n",
       "      <td>654.7</td>\n",
       "      <td>612.7</td>\n",
       "    </tr>\n",
       "    <tr>\n",
       "      <th>15</th>\n",
       "      <td>NaN</td>\n",
       "      <td>766.7</td>\n",
       "      <td>549.6</td>\n",
       "      <td>3.307983e+05</td>\n",
       "      <td>766.7 -&gt; 549.6</td>\n",
       "      <td>NaN</td>\n",
       "      <td>DOD93_F4-5xFAD-Cereb_TG18-1_o3on</td>\n",
       "      <td>NaN</td>\n",
       "      <td>NaN</td>\n",
       "      <td>NaN</td>\n",
       "      <td>NaN</td>\n",
       "      <td>684.7</td>\n",
       "      <td>656.7</td>\n",
       "      <td>614.7</td>\n",
       "    </tr>\n",
       "    <tr>\n",
       "      <th>16</th>\n",
       "      <td>NaN</td>\n",
       "      <td>766.7</td>\n",
       "      <td>577.6</td>\n",
       "      <td>1.179938e+06</td>\n",
       "      <td>766.7 -&gt; 577.6</td>\n",
       "      <td>NaN</td>\n",
       "      <td>DOD93_F4-5xFAD-Cereb_TG18-1_o3on</td>\n",
       "      <td>[14.81]</td>\n",
       "      <td>[266662.0]</td>\n",
       "      <td>14.81</td>\n",
       "      <td>266662.0</td>\n",
       "      <td>684.7</td>\n",
       "      <td>656.7</td>\n",
       "      <td>614.7</td>\n",
       "    </tr>\n",
       "    <tr>\n",
       "      <th>17</th>\n",
       "      <td>NaN</td>\n",
       "      <td>768.8</td>\n",
       "      <td>551.6</td>\n",
       "      <td>7.723013e+05</td>\n",
       "      <td>768.8 -&gt; 551.6</td>\n",
       "      <td>NaN</td>\n",
       "      <td>DOD93_F4-5xFAD-Cereb_TG18-1_o3on</td>\n",
       "      <td>[14.92]</td>\n",
       "      <td>[83299.0]</td>\n",
       "      <td>14.92</td>\n",
       "      <td>83299.0</td>\n",
       "      <td>686.8</td>\n",
       "      <td>658.8</td>\n",
       "      <td>616.8</td>\n",
       "    </tr>\n",
       "    <tr>\n",
       "      <th>18</th>\n",
       "      <td>NaN</td>\n",
       "      <td>788.8</td>\n",
       "      <td>599.6</td>\n",
       "      <td>1.482506e+05</td>\n",
       "      <td>788.8 -&gt; 599.6</td>\n",
       "      <td>NaN</td>\n",
       "      <td>DOD93_F4-5xFAD-Cereb_TG18-1_o3on</td>\n",
       "      <td>[12.36]</td>\n",
       "      <td>[8898.0]</td>\n",
       "      <td>12.36</td>\n",
       "      <td>8898.0</td>\n",
       "      <td>706.8</td>\n",
       "      <td>678.8</td>\n",
       "      <td>636.8</td>\n",
       "    </tr>\n",
       "    <tr>\n",
       "      <th>19</th>\n",
       "      <td>NaN</td>\n",
       "      <td>790.7</td>\n",
       "      <td>573.6</td>\n",
       "      <td>7.847697e+04</td>\n",
       "      <td>790.7 -&gt; 573.6</td>\n",
       "      <td>NaN</td>\n",
       "      <td>DOD93_F4-5xFAD-Cereb_TG18-1_o3on</td>\n",
       "      <td>[12.48]</td>\n",
       "      <td>[1466.0]</td>\n",
       "      <td>12.48</td>\n",
       "      <td>1466.0</td>\n",
       "      <td>708.7</td>\n",
       "      <td>680.7</td>\n",
       "      <td>638.7</td>\n",
       "    </tr>\n",
       "    <tr>\n",
       "      <th>20</th>\n",
       "      <td>NaN</td>\n",
       "      <td>790.8</td>\n",
       "      <td>601.6</td>\n",
       "      <td>1.952738e+05</td>\n",
       "      <td>790.8 -&gt; 601.6</td>\n",
       "      <td>NaN</td>\n",
       "      <td>DOD93_F4-5xFAD-Cereb_TG18-1_o3on</td>\n",
       "      <td>[12.48]</td>\n",
       "      <td>[16153.0]</td>\n",
       "      <td>12.48</td>\n",
       "      <td>16153.0</td>\n",
       "      <td>708.8</td>\n",
       "      <td>680.8</td>\n",
       "      <td>638.8</td>\n",
       "    </tr>\n",
       "    <tr>\n",
       "      <th>21</th>\n",
       "      <td>NaN</td>\n",
       "      <td>792.7</td>\n",
       "      <td>575.6</td>\n",
       "      <td>1.903083e+05</td>\n",
       "      <td>792.7 -&gt; 575.6</td>\n",
       "      <td>NaN</td>\n",
       "      <td>DOD93_F4-5xFAD-Cereb_TG18-1_o3on</td>\n",
       "      <td>[13.69]</td>\n",
       "      <td>[18782.0]</td>\n",
       "      <td>13.69</td>\n",
       "      <td>18782.0</td>\n",
       "      <td>710.7</td>\n",
       "      <td>682.7</td>\n",
       "      <td>640.7</td>\n",
       "    </tr>\n",
       "    <tr>\n",
       "      <th>22</th>\n",
       "      <td>NaN</td>\n",
       "      <td>792.8</td>\n",
       "      <td>603.6</td>\n",
       "      <td>7.489054e+05</td>\n",
       "      <td>792.8 -&gt; 603.6</td>\n",
       "      <td>NaN</td>\n",
       "      <td>DOD93_F4-5xFAD-Cereb_TG18-1_o3on</td>\n",
       "      <td>[14.66]</td>\n",
       "      <td>[116813.0]</td>\n",
       "      <td>14.66</td>\n",
       "      <td>116813.0</td>\n",
       "      <td>710.8</td>\n",
       "      <td>682.8</td>\n",
       "      <td>640.8</td>\n",
       "    </tr>\n",
       "    <tr>\n",
       "      <th>23</th>\n",
       "      <td>NaN</td>\n",
       "      <td>794.7</td>\n",
       "      <td>577.6</td>\n",
       "      <td>6.869375e+05</td>\n",
       "      <td>794.7 -&gt; 577.6</td>\n",
       "      <td>NaN</td>\n",
       "      <td>DOD93_F4-5xFAD-Cereb_TG18-1_o3on</td>\n",
       "      <td>[14.78]</td>\n",
       "      <td>[98857.0]</td>\n",
       "      <td>14.78</td>\n",
       "      <td>98857.0</td>\n",
       "      <td>712.7</td>\n",
       "      <td>684.7</td>\n",
       "      <td>642.7</td>\n",
       "    </tr>\n",
       "    <tr>\n",
       "      <th>24</th>\n",
       "      <td>NaN</td>\n",
       "      <td>816.8</td>\n",
       "      <td>599.6</td>\n",
       "      <td>7.366929e+04</td>\n",
       "      <td>816.8 -&gt; 599.6</td>\n",
       "      <td>NaN</td>\n",
       "      <td>DOD93_F4-5xFAD-Cereb_TG18-1_o3on</td>\n",
       "      <td>[12.34]</td>\n",
       "      <td>[2962.0]</td>\n",
       "      <td>12.34</td>\n",
       "      <td>2962.0</td>\n",
       "      <td>734.8</td>\n",
       "      <td>706.8</td>\n",
       "      <td>664.8</td>\n",
       "    </tr>\n",
       "    <tr>\n",
       "      <th>25</th>\n",
       "      <td>NaN</td>\n",
       "      <td>818.8</td>\n",
       "      <td>601.6</td>\n",
       "      <td>1.200953e+05</td>\n",
       "      <td>818.8 -&gt; 601.6</td>\n",
       "      <td>NaN</td>\n",
       "      <td>DOD93_F4-5xFAD-Cereb_TG18-1_o3on</td>\n",
       "      <td>[13.68]</td>\n",
       "      <td>[3524.0]</td>\n",
       "      <td>13.68</td>\n",
       "      <td>3524.0</td>\n",
       "      <td>736.8</td>\n",
       "      <td>708.8</td>\n",
       "      <td>666.8</td>\n",
       "    </tr>\n",
       "    <tr>\n",
       "      <th>26</th>\n",
       "      <td>NaN</td>\n",
       "      <td>820.8</td>\n",
       "      <td>603.6</td>\n",
       "      <td>4.014192e+05</td>\n",
       "      <td>820.8 -&gt; 603.6</td>\n",
       "      <td>NaN</td>\n",
       "      <td>DOD93_F4-5xFAD-Cereb_TG18-1_o3on</td>\n",
       "      <td>[14.65]</td>\n",
       "      <td>[25918.0]</td>\n",
       "      <td>14.65</td>\n",
       "      <td>25918.0</td>\n",
       "      <td>738.8</td>\n",
       "      <td>710.8</td>\n",
       "      <td>668.8</td>\n",
       "    </tr>\n",
       "    <tr>\n",
       "      <th>27</th>\n",
       "      <td>[TG(50:3)]_FA18:1</td>\n",
       "      <td>846.8</td>\n",
       "      <td>547.6</td>\n",
       "      <td>6.869138e+05</td>\n",
       "      <td>846.8 -&gt; 547.6</td>\n",
       "      <td>TAG</td>\n",
       "      <td>DOD93_F4-5xFAD-Cereb_TG18-1_o3on</td>\n",
       "      <td>[12.58]</td>\n",
       "      <td>[72587.0]</td>\n",
       "      <td>12.58</td>\n",
       "      <td>72587.0</td>\n",
       "      <td>764.8</td>\n",
       "      <td>736.8</td>\n",
       "      <td>694.8</td>\n",
       "    </tr>\n",
       "    <tr>\n",
       "      <th>28</th>\n",
       "      <td>[TG(51:9),TG(50:2)]_FA18:1</td>\n",
       "      <td>848.8</td>\n",
       "      <td>549.6</td>\n",
       "      <td>3.262575e+06</td>\n",
       "      <td>848.8 -&gt; 549.6</td>\n",
       "      <td>TAG</td>\n",
       "      <td>DOD93_F4-5xFAD-Cereb_TG18-1_o3on</td>\n",
       "      <td>[13.79]</td>\n",
       "      <td>[409651.0]</td>\n",
       "      <td>13.79</td>\n",
       "      <td>409651.0</td>\n",
       "      <td>766.8</td>\n",
       "      <td>738.8</td>\n",
       "      <td>696.8</td>\n",
       "    </tr>\n",
       "    <tr>\n",
       "      <th>29</th>\n",
       "      <td>[TG(51:8),TG(50:1)]_FA18:1</td>\n",
       "      <td>850.8</td>\n",
       "      <td>551.6</td>\n",
       "      <td>8.906404e+06</td>\n",
       "      <td>850.8 -&gt; 551.6</td>\n",
       "      <td>TAG</td>\n",
       "      <td>DOD93_F4-5xFAD-Cereb_TG18-1_o3on</td>\n",
       "      <td>[15.13]</td>\n",
       "      <td>[2236988.0]</td>\n",
       "      <td>15.13</td>\n",
       "      <td>2236988.0</td>\n",
       "      <td>768.8</td>\n",
       "      <td>740.8</td>\n",
       "      <td>698.8</td>\n",
       "    </tr>\n",
       "    <tr>\n",
       "      <th>30</th>\n",
       "      <td>[TG(52:4)]_FA18:1</td>\n",
       "      <td>872.8</td>\n",
       "      <td>573.6</td>\n",
       "      <td>7.219475e+05</td>\n",
       "      <td>872.8 -&gt; 573.6</td>\n",
       "      <td>TAG</td>\n",
       "      <td>DOD93_F4-5xFAD-Cereb_TG18-1_o3on</td>\n",
       "      <td>[12.57]</td>\n",
       "      <td>[159733.0]</td>\n",
       "      <td>12.57</td>\n",
       "      <td>159733.0</td>\n",
       "      <td>790.8</td>\n",
       "      <td>762.8</td>\n",
       "      <td>720.8</td>\n",
       "    </tr>\n",
       "    <tr>\n",
       "      <th>31</th>\n",
       "      <td>[TG(53:10),TG(52:3)]_FA18:1</td>\n",
       "      <td>874.8</td>\n",
       "      <td>575.6</td>\n",
       "      <td>4.364672e+06</td>\n",
       "      <td>874.8 -&gt; 575.6</td>\n",
       "      <td>TAG</td>\n",
       "      <td>DOD93_F4-5xFAD-Cereb_TG18-1_o3on</td>\n",
       "      <td>[13.66]</td>\n",
       "      <td>[928619.0]</td>\n",
       "      <td>13.66</td>\n",
       "      <td>928619.0</td>\n",
       "      <td>792.8</td>\n",
       "      <td>764.8</td>\n",
       "      <td>722.8</td>\n",
       "    </tr>\n",
       "    <tr>\n",
       "      <th>32</th>\n",
       "      <td>[TG(53:9),TG(52:2)]_FA18:1</td>\n",
       "      <td>876.8</td>\n",
       "      <td>577.6</td>\n",
       "      <td>1.805685e+07</td>\n",
       "      <td>876.8 -&gt; 577.6</td>\n",
       "      <td>TAG</td>\n",
       "      <td>DOD93_F4-5xFAD-Cereb_TG18-1_o3on</td>\n",
       "      <td>[14.99]</td>\n",
       "      <td>[4376154.0]</td>\n",
       "      <td>14.99</td>\n",
       "      <td>4376154.0</td>\n",
       "      <td>794.8</td>\n",
       "      <td>766.8</td>\n",
       "      <td>724.8</td>\n",
       "    </tr>\n",
       "    <tr>\n",
       "      <th>33</th>\n",
       "      <td>[TG(54:5)]_FA18:1</td>\n",
       "      <td>898.8</td>\n",
       "      <td>599.6</td>\n",
       "      <td>1.673118e+06</td>\n",
       "      <td>898.8 -&gt; 599.6</td>\n",
       "      <td>TAG</td>\n",
       "      <td>DOD93_F4-5xFAD-Cereb_TG18-1_o3on</td>\n",
       "      <td>[12.56]</td>\n",
       "      <td>[494143.0]</td>\n",
       "      <td>12.56</td>\n",
       "      <td>494143.0</td>\n",
       "      <td>816.8</td>\n",
       "      <td>788.8</td>\n",
       "      <td>746.8</td>\n",
       "    </tr>\n",
       "    <tr>\n",
       "      <th>34</th>\n",
       "      <td>[TG(55:11),TG(54:4)]_FA18:1</td>\n",
       "      <td>900.8</td>\n",
       "      <td>601.6</td>\n",
       "      <td>3.305303e+06</td>\n",
       "      <td>900.8 -&gt; 601.6</td>\n",
       "      <td>TAG</td>\n",
       "      <td>DOD93_F4-5xFAD-Cereb_TG18-1_o3on</td>\n",
       "      <td>[13.65]</td>\n",
       "      <td>[797129.0]</td>\n",
       "      <td>13.65</td>\n",
       "      <td>797129.0</td>\n",
       "      <td>818.8</td>\n",
       "      <td>790.8</td>\n",
       "      <td>748.8</td>\n",
       "    </tr>\n",
       "    <tr>\n",
       "      <th>35</th>\n",
       "      <td>[TG(55:10),TG(54:3)]_FA18:1</td>\n",
       "      <td>902.8</td>\n",
       "      <td>603.6</td>\n",
       "      <td>9.339795e+06</td>\n",
       "      <td>902.8 -&gt; 603.6</td>\n",
       "      <td>TAG</td>\n",
       "      <td>DOD93_F4-5xFAD-Cereb_TG18-1_o3on</td>\n",
       "      <td>[14.74]</td>\n",
       "      <td>[2345724.0]</td>\n",
       "      <td>14.74</td>\n",
       "      <td>2345724.0</td>\n",
       "      <td>820.8</td>\n",
       "      <td>792.8</td>\n",
       "      <td>750.8</td>\n",
       "    </tr>\n",
       "  </tbody>\n",
       "</table>\n",
       "</div>"
      ],
      "text/plain": [
       "                          Lipid  Parent_Ion  Product_Ion     Intensity  \\\n",
       "0                           NaN       694.6        547.6  2.567996e+05   \n",
       "1                           NaN       696.6        549.6  2.185144e+05   \n",
       "2                           NaN       698.7        551.6  6.608002e+06   \n",
       "3                           NaN       720.6        573.6  7.330655e+04   \n",
       "4                           NaN       722.6        575.6  1.428391e+05   \n",
       "5                           NaN       724.7        577.6  5.815955e+05   \n",
       "6                           NaN       736.7        547.6  6.613184e+05   \n",
       "7                           NaN       738.7        549.6  4.582103e+05   \n",
       "8                           NaN       740.8        551.6  9.366814e+05   \n",
       "9                           NaN       746.8        599.6  1.976136e+05   \n",
       "10                          NaN       748.8        601.6  1.128153e+05   \n",
       "11                          NaN       750.8        603.6  5.757424e+05   \n",
       "12                          NaN       762.7        573.6  1.173825e+05   \n",
       "13                          NaN       764.7        547.6  1.187571e+06   \n",
       "14                          NaN       764.7        575.6  2.812500e+05   \n",
       "15                          NaN       766.7        549.6  3.307983e+05   \n",
       "16                          NaN       766.7        577.6  1.179938e+06   \n",
       "17                          NaN       768.8        551.6  7.723013e+05   \n",
       "18                          NaN       788.8        599.6  1.482506e+05   \n",
       "19                          NaN       790.7        573.6  7.847697e+04   \n",
       "20                          NaN       790.8        601.6  1.952738e+05   \n",
       "21                          NaN       792.7        575.6  1.903083e+05   \n",
       "22                          NaN       792.8        603.6  7.489054e+05   \n",
       "23                          NaN       794.7        577.6  6.869375e+05   \n",
       "24                          NaN       816.8        599.6  7.366929e+04   \n",
       "25                          NaN       818.8        601.6  1.200953e+05   \n",
       "26                          NaN       820.8        603.6  4.014192e+05   \n",
       "27            [TG(50:3)]_FA18:1       846.8        547.6  6.869138e+05   \n",
       "28   [TG(51:9),TG(50:2)]_FA18:1       848.8        549.6  3.262575e+06   \n",
       "29   [TG(51:8),TG(50:1)]_FA18:1       850.8        551.6  8.906404e+06   \n",
       "30            [TG(52:4)]_FA18:1       872.8        573.6  7.219475e+05   \n",
       "31  [TG(53:10),TG(52:3)]_FA18:1       874.8        575.6  4.364672e+06   \n",
       "32   [TG(53:9),TG(52:2)]_FA18:1       876.8        577.6  1.805685e+07   \n",
       "33            [TG(54:5)]_FA18:1       898.8        599.6  1.673118e+06   \n",
       "34  [TG(55:11),TG(54:4)]_FA18:1       900.8        601.6  3.305303e+06   \n",
       "35  [TG(55:10),TG(54:3)]_FA18:1       902.8        603.6  9.339795e+06   \n",
       "\n",
       "        Transition Class                         Sample_ID Retention_Time  \\\n",
       "0   694.6 -> 547.6   NaN  DOD93_F4-5xFAD-Cereb_TG18-1_o3on        [11.69]   \n",
       "1   696.6 -> 549.6   NaN  DOD93_F4-5xFAD-Cereb_TG18-1_o3on        [12.91]   \n",
       "2   698.7 -> 551.6   NaN  DOD93_F4-5xFAD-Cereb_TG18-1_o3on         [14.0]   \n",
       "3   720.6 -> 573.6   NaN  DOD93_F4-5xFAD-Cereb_TG18-1_o3on        [13.63]   \n",
       "4   722.6 -> 575.6   NaN  DOD93_F4-5xFAD-Cereb_TG18-1_o3on        [12.77]   \n",
       "5   724.7 -> 577.6   NaN  DOD93_F4-5xFAD-Cereb_TG18-1_o3on        [13.99]   \n",
       "6   736.7 -> 547.6   NaN  DOD93_F4-5xFAD-Cereb_TG18-1_o3on        [12.52]   \n",
       "7   738.7 -> 549.6   NaN  DOD93_F4-5xFAD-Cereb_TG18-1_o3on        [13.74]   \n",
       "8   740.8 -> 551.6   NaN  DOD93_F4-5xFAD-Cereb_TG18-1_o3on        [14.95]   \n",
       "9   746.8 -> 599.6   NaN  DOD93_F4-5xFAD-Cereb_TG18-1_o3on        [15.19]   \n",
       "10  748.8 -> 601.6   NaN  DOD93_F4-5xFAD-Cereb_TG18-1_o3on        [11.78]   \n",
       "11  750.8 -> 603.6   NaN  DOD93_F4-5xFAD-Cereb_TG18-1_o3on        [13.85]   \n",
       "12  762.7 -> 573.6   NaN  DOD93_F4-5xFAD-Cereb_TG18-1_o3on         [12.5]   \n",
       "13  764.7 -> 547.6   NaN  DOD93_F4-5xFAD-Cereb_TG18-1_o3on            NaN   \n",
       "14  764.7 -> 575.6   NaN  DOD93_F4-5xFAD-Cereb_TG18-1_o3on        [13.59]   \n",
       "15  766.7 -> 549.6   NaN  DOD93_F4-5xFAD-Cereb_TG18-1_o3on            NaN   \n",
       "16  766.7 -> 577.6   NaN  DOD93_F4-5xFAD-Cereb_TG18-1_o3on        [14.81]   \n",
       "17  768.8 -> 551.6   NaN  DOD93_F4-5xFAD-Cereb_TG18-1_o3on        [14.92]   \n",
       "18  788.8 -> 599.6   NaN  DOD93_F4-5xFAD-Cereb_TG18-1_o3on        [12.36]   \n",
       "19  790.7 -> 573.6   NaN  DOD93_F4-5xFAD-Cereb_TG18-1_o3on        [12.48]   \n",
       "20  790.8 -> 601.6   NaN  DOD93_F4-5xFAD-Cereb_TG18-1_o3on        [12.48]   \n",
       "21  792.7 -> 575.6   NaN  DOD93_F4-5xFAD-Cereb_TG18-1_o3on        [13.69]   \n",
       "22  792.8 -> 603.6   NaN  DOD93_F4-5xFAD-Cereb_TG18-1_o3on        [14.66]   \n",
       "23  794.7 -> 577.6   NaN  DOD93_F4-5xFAD-Cereb_TG18-1_o3on        [14.78]   \n",
       "24  816.8 -> 599.6   NaN  DOD93_F4-5xFAD-Cereb_TG18-1_o3on        [12.34]   \n",
       "25  818.8 -> 601.6   NaN  DOD93_F4-5xFAD-Cereb_TG18-1_o3on        [13.68]   \n",
       "26  820.8 -> 603.6   NaN  DOD93_F4-5xFAD-Cereb_TG18-1_o3on        [14.65]   \n",
       "27  846.8 -> 547.6   TAG  DOD93_F4-5xFAD-Cereb_TG18-1_o3on        [12.58]   \n",
       "28  848.8 -> 549.6   TAG  DOD93_F4-5xFAD-Cereb_TG18-1_o3on        [13.79]   \n",
       "29  850.8 -> 551.6   TAG  DOD93_F4-5xFAD-Cereb_TG18-1_o3on        [15.13]   \n",
       "30  872.8 -> 573.6   TAG  DOD93_F4-5xFAD-Cereb_TG18-1_o3on        [12.57]   \n",
       "31  874.8 -> 575.6   TAG  DOD93_F4-5xFAD-Cereb_TG18-1_o3on        [13.66]   \n",
       "32  876.8 -> 577.6   TAG  DOD93_F4-5xFAD-Cereb_TG18-1_o3on        [14.99]   \n",
       "33  898.8 -> 599.6   TAG  DOD93_F4-5xFAD-Cereb_TG18-1_o3on        [12.56]   \n",
       "34  900.8 -> 601.6   TAG  DOD93_F4-5xFAD-Cereb_TG18-1_o3on        [13.65]   \n",
       "35  902.8 -> 603.6   TAG  DOD93_F4-5xFAD-Cereb_TG18-1_o3on        [14.74]   \n",
       "\n",
       "   Intensity_OzESI  Mean_Retention_Time  Mean_Intensity_OzESI    n-7    n-9  \\\n",
       "0         [3903.0]                11.69                3903.0  612.6  584.6   \n",
       "1        [18586.0]                12.91               18586.0  614.6  586.6   \n",
       "2        [59211.0]                14.00               59211.0  616.7  588.7   \n",
       "3          [590.0]                13.63                 590.0  638.6  610.6   \n",
       "4         [3643.0]                12.77                3643.0  640.6  612.6   \n",
       "5        [15596.0]                13.99               15596.0  642.7  614.7   \n",
       "6         [9713.0]                12.52                9713.0  654.7  626.7   \n",
       "7        [49935.0]                13.74               49935.0  656.7  628.7   \n",
       "8       [144069.0]                14.95              144069.0  658.8  630.8   \n",
       "9          [584.0]                15.19                 584.0  664.8  636.8   \n",
       "10         [985.0]                11.78                 985.0  666.8  638.8   \n",
       "11        [3845.0]                13.85                3845.0  668.8  640.8   \n",
       "12        [4476.0]                12.50                4476.0  680.7  652.7   \n",
       "13             NaN                  NaN                   NaN  682.7  654.7   \n",
       "14       [26821.0]                13.59               26821.0  682.7  654.7   \n",
       "15             NaN                  NaN                   NaN  684.7  656.7   \n",
       "16      [266662.0]                14.81              266662.0  684.7  656.7   \n",
       "17       [83299.0]                14.92               83299.0  686.8  658.8   \n",
       "18        [8898.0]                12.36                8898.0  706.8  678.8   \n",
       "19        [1466.0]                12.48                1466.0  708.7  680.7   \n",
       "20       [16153.0]                12.48               16153.0  708.8  680.8   \n",
       "21       [18782.0]                13.69               18782.0  710.7  682.7   \n",
       "22      [116813.0]                14.66              116813.0  710.8  682.8   \n",
       "23       [98857.0]                14.78               98857.0  712.7  684.7   \n",
       "24        [2962.0]                12.34                2962.0  734.8  706.8   \n",
       "25        [3524.0]                13.68                3524.0  736.8  708.8   \n",
       "26       [25918.0]                14.65               25918.0  738.8  710.8   \n",
       "27       [72587.0]                12.58               72587.0  764.8  736.8   \n",
       "28      [409651.0]                13.79              409651.0  766.8  738.8   \n",
       "29     [2236988.0]                15.13             2236988.0  768.8  740.8   \n",
       "30      [159733.0]                12.57              159733.0  790.8  762.8   \n",
       "31      [928619.0]                13.66              928619.0  792.8  764.8   \n",
       "32     [4376154.0]                14.99             4376154.0  794.8  766.8   \n",
       "33      [494143.0]                12.56              494143.0  816.8  788.8   \n",
       "34      [797129.0]                13.65              797129.0  818.8  790.8   \n",
       "35     [2345724.0]                14.74             2345724.0  820.8  792.8   \n",
       "\n",
       "     n-12  \n",
       "0   542.6  \n",
       "1   544.6  \n",
       "2   546.7  \n",
       "3   568.6  \n",
       "4   570.6  \n",
       "5   572.7  \n",
       "6   584.7  \n",
       "7   586.7  \n",
       "8   588.8  \n",
       "9   594.8  \n",
       "10  596.8  \n",
       "11  598.8  \n",
       "12  610.7  \n",
       "13  612.7  \n",
       "14  612.7  \n",
       "15  614.7  \n",
       "16  614.7  \n",
       "17  616.8  \n",
       "18  636.8  \n",
       "19  638.7  \n",
       "20  638.8  \n",
       "21  640.7  \n",
       "22  640.8  \n",
       "23  642.7  \n",
       "24  664.8  \n",
       "25  666.8  \n",
       "26  668.8  \n",
       "27  694.8  \n",
       "28  696.8  \n",
       "29  698.8  \n",
       "30  720.8  \n",
       "31  722.8  \n",
       "32  724.8  \n",
       "33  746.8  \n",
       "34  748.8  \n",
       "35  750.8  "
      ]
     },
     "execution_count": 10,
     "metadata": {},
     "output_type": "execute_result"
    }
   ],
   "source": [
    "df_OzESI_processed.head(None)"
   ]
  },
  {
   "cell_type": "code",
   "execution_count": 11,
   "metadata": {},
   "outputs": [
    {
     "data": {
      "text/html": [
       "<div>\n",
       "<style scoped>\n",
       "    .dataframe tbody tr th:only-of-type {\n",
       "        vertical-align: middle;\n",
       "    }\n",
       "\n",
       "    .dataframe tbody tr th {\n",
       "        vertical-align: top;\n",
       "    }\n",
       "\n",
       "    .dataframe thead th {\n",
       "        text-align: right;\n",
       "    }\n",
       "</style>\n",
       "<table border=\"1\" class=\"dataframe\">\n",
       "  <thead>\n",
       "    <tr style=\"text-align: right;\">\n",
       "      <th></th>\n",
       "      <th>Lipid</th>\n",
       "      <th>Parent_Ion</th>\n",
       "      <th>Product_Ion</th>\n",
       "      <th>Intensity</th>\n",
       "      <th>Transition</th>\n",
       "      <th>Class</th>\n",
       "      <th>Sample_ID</th>\n",
       "      <th>Retention_Time</th>\n",
       "      <th>Intensity_OzESI</th>\n",
       "      <th>Mean_Retention_Time</th>\n",
       "      <th>Mean_Intensity_OzESI</th>\n",
       "      <th>n-7</th>\n",
       "      <th>n-9</th>\n",
       "      <th>n-12</th>\n",
       "    </tr>\n",
       "  </thead>\n",
       "  <tbody>\n",
       "    <tr>\n",
       "      <th>8</th>\n",
       "      <td>n-9 [TG(51:8),TG(50:1)]_FA18:1</td>\n",
       "      <td>740.8</td>\n",
       "      <td>551.6</td>\n",
       "      <td>9.366814e+05</td>\n",
       "      <td>740.8 -&gt; 551.6</td>\n",
       "      <td>NaN</td>\n",
       "      <td>DOD93_F4-5xFAD-Cereb_TG18-1_o3on</td>\n",
       "      <td>[14.95]</td>\n",
       "      <td>[144069.0]</td>\n",
       "      <td>14.95</td>\n",
       "      <td>144069.0</td>\n",
       "      <td>658.8</td>\n",
       "      <td>630.8</td>\n",
       "      <td>588.8</td>\n",
       "    </tr>\n",
       "    <tr>\n",
       "      <th>9</th>\n",
       "      <td>n-12 [TG(54:5)]_FA18:1</td>\n",
       "      <td>746.8</td>\n",
       "      <td>599.6</td>\n",
       "      <td>1.976136e+05</td>\n",
       "      <td>746.8 -&gt; 599.6</td>\n",
       "      <td>NaN</td>\n",
       "      <td>DOD93_F4-5xFAD-Cereb_TG18-1_o3on</td>\n",
       "      <td>[15.19]</td>\n",
       "      <td>[584.0]</td>\n",
       "      <td>15.19</td>\n",
       "      <td>584.0</td>\n",
       "      <td>664.8</td>\n",
       "      <td>636.8</td>\n",
       "      <td>594.8</td>\n",
       "    </tr>\n",
       "    <tr>\n",
       "      <th>10</th>\n",
       "      <td>n-12 [TG(55:11),TG(54:4)]_FA18:1</td>\n",
       "      <td>748.8</td>\n",
       "      <td>601.6</td>\n",
       "      <td>1.128153e+05</td>\n",
       "      <td>748.8 -&gt; 601.6</td>\n",
       "      <td>NaN</td>\n",
       "      <td>DOD93_F4-5xFAD-Cereb_TG18-1_o3on</td>\n",
       "      <td>[11.78]</td>\n",
       "      <td>[985.0]</td>\n",
       "      <td>11.78</td>\n",
       "      <td>985.0</td>\n",
       "      <td>666.8</td>\n",
       "      <td>638.8</td>\n",
       "      <td>596.8</td>\n",
       "    </tr>\n",
       "    <tr>\n",
       "      <th>11</th>\n",
       "      <td>n-12 [TG(55:10),TG(54:3)]_FA18:1</td>\n",
       "      <td>750.8</td>\n",
       "      <td>603.6</td>\n",
       "      <td>5.757424e+05</td>\n",
       "      <td>750.8 -&gt; 603.6</td>\n",
       "      <td>NaN</td>\n",
       "      <td>DOD93_F4-5xFAD-Cereb_TG18-1_o3on</td>\n",
       "      <td>[13.85]</td>\n",
       "      <td>[3845.0]</td>\n",
       "      <td>13.85</td>\n",
       "      <td>3845.0</td>\n",
       "      <td>668.8</td>\n",
       "      <td>640.8</td>\n",
       "      <td>598.8</td>\n",
       "    </tr>\n",
       "    <tr>\n",
       "      <th>17</th>\n",
       "      <td>n-7 [TG(51:8),TG(50:1)]_FA18:1</td>\n",
       "      <td>768.8</td>\n",
       "      <td>551.6</td>\n",
       "      <td>7.723013e+05</td>\n",
       "      <td>768.8 -&gt; 551.6</td>\n",
       "      <td>NaN</td>\n",
       "      <td>DOD93_F4-5xFAD-Cereb_TG18-1_o3on</td>\n",
       "      <td>[14.92]</td>\n",
       "      <td>[83299.0]</td>\n",
       "      <td>14.92</td>\n",
       "      <td>83299.0</td>\n",
       "      <td>686.8</td>\n",
       "      <td>658.8</td>\n",
       "      <td>616.8</td>\n",
       "    </tr>\n",
       "    <tr>\n",
       "      <th>18</th>\n",
       "      <td>n-9 [TG(54:5)]_FA18:1</td>\n",
       "      <td>788.8</td>\n",
       "      <td>599.6</td>\n",
       "      <td>1.482506e+05</td>\n",
       "      <td>788.8 -&gt; 599.6</td>\n",
       "      <td>NaN</td>\n",
       "      <td>DOD93_F4-5xFAD-Cereb_TG18-1_o3on</td>\n",
       "      <td>[12.36]</td>\n",
       "      <td>[8898.0]</td>\n",
       "      <td>12.36</td>\n",
       "      <td>8898.0</td>\n",
       "      <td>706.8</td>\n",
       "      <td>678.8</td>\n",
       "      <td>636.8</td>\n",
       "    </tr>\n",
       "    <tr>\n",
       "      <th>20</th>\n",
       "      <td>n-9 [TG(55:11),TG(54:4)]_FA18:1</td>\n",
       "      <td>790.8</td>\n",
       "      <td>601.6</td>\n",
       "      <td>1.952738e+05</td>\n",
       "      <td>790.8 -&gt; 601.6</td>\n",
       "      <td>NaN</td>\n",
       "      <td>DOD93_F4-5xFAD-Cereb_TG18-1_o3on</td>\n",
       "      <td>[12.48]</td>\n",
       "      <td>[16153.0]</td>\n",
       "      <td>12.48</td>\n",
       "      <td>16153.0</td>\n",
       "      <td>708.8</td>\n",
       "      <td>680.8</td>\n",
       "      <td>638.8</td>\n",
       "    </tr>\n",
       "    <tr>\n",
       "      <th>22</th>\n",
       "      <td>n-9 [TG(55:10),TG(54:3)]_FA18:1</td>\n",
       "      <td>792.8</td>\n",
       "      <td>603.6</td>\n",
       "      <td>7.489054e+05</td>\n",
       "      <td>792.8 -&gt; 603.6</td>\n",
       "      <td>NaN</td>\n",
       "      <td>DOD93_F4-5xFAD-Cereb_TG18-1_o3on</td>\n",
       "      <td>[14.66]</td>\n",
       "      <td>[116813.0]</td>\n",
       "      <td>14.66</td>\n",
       "      <td>116813.0</td>\n",
       "      <td>710.8</td>\n",
       "      <td>682.8</td>\n",
       "      <td>640.8</td>\n",
       "    </tr>\n",
       "    <tr>\n",
       "      <th>24</th>\n",
       "      <td>n-7 [TG(54:5)]_FA18:1</td>\n",
       "      <td>816.8</td>\n",
       "      <td>599.6</td>\n",
       "      <td>7.366929e+04</td>\n",
       "      <td>816.8 -&gt; 599.6</td>\n",
       "      <td>NaN</td>\n",
       "      <td>DOD93_F4-5xFAD-Cereb_TG18-1_o3on</td>\n",
       "      <td>[12.34]</td>\n",
       "      <td>[2962.0]</td>\n",
       "      <td>12.34</td>\n",
       "      <td>2962.0</td>\n",
       "      <td>734.8</td>\n",
       "      <td>706.8</td>\n",
       "      <td>664.8</td>\n",
       "    </tr>\n",
       "    <tr>\n",
       "      <th>25</th>\n",
       "      <td>n-7 [TG(55:11),TG(54:4)]_FA18:1</td>\n",
       "      <td>818.8</td>\n",
       "      <td>601.6</td>\n",
       "      <td>1.200953e+05</td>\n",
       "      <td>818.8 -&gt; 601.6</td>\n",
       "      <td>NaN</td>\n",
       "      <td>DOD93_F4-5xFAD-Cereb_TG18-1_o3on</td>\n",
       "      <td>[13.68]</td>\n",
       "      <td>[3524.0]</td>\n",
       "      <td>13.68</td>\n",
       "      <td>3524.0</td>\n",
       "      <td>736.8</td>\n",
       "      <td>708.8</td>\n",
       "      <td>666.8</td>\n",
       "    </tr>\n",
       "    <tr>\n",
       "      <th>26</th>\n",
       "      <td>n-7 [TG(55:10),TG(54:3)]_FA18:1</td>\n",
       "      <td>820.8</td>\n",
       "      <td>603.6</td>\n",
       "      <td>4.014192e+05</td>\n",
       "      <td>820.8 -&gt; 603.6</td>\n",
       "      <td>NaN</td>\n",
       "      <td>DOD93_F4-5xFAD-Cereb_TG18-1_o3on</td>\n",
       "      <td>[14.65]</td>\n",
       "      <td>[25918.0]</td>\n",
       "      <td>14.65</td>\n",
       "      <td>25918.0</td>\n",
       "      <td>738.8</td>\n",
       "      <td>710.8</td>\n",
       "      <td>668.8</td>\n",
       "    </tr>\n",
       "    <tr>\n",
       "      <th>27</th>\n",
       "      <td>[TG(50:3)]_FA18:1</td>\n",
       "      <td>846.8</td>\n",
       "      <td>547.6</td>\n",
       "      <td>6.869138e+05</td>\n",
       "      <td>846.8 -&gt; 547.6</td>\n",
       "      <td>TAG</td>\n",
       "      <td>DOD93_F4-5xFAD-Cereb_TG18-1_o3on</td>\n",
       "      <td>[12.58]</td>\n",
       "      <td>[72587.0]</td>\n",
       "      <td>12.58</td>\n",
       "      <td>72587.0</td>\n",
       "      <td>764.8</td>\n",
       "      <td>736.8</td>\n",
       "      <td>694.8</td>\n",
       "    </tr>\n",
       "    <tr>\n",
       "      <th>28</th>\n",
       "      <td>[TG(51:9),TG(50:2)]_FA18:1</td>\n",
       "      <td>848.8</td>\n",
       "      <td>549.6</td>\n",
       "      <td>3.262575e+06</td>\n",
       "      <td>848.8 -&gt; 549.6</td>\n",
       "      <td>TAG</td>\n",
       "      <td>DOD93_F4-5xFAD-Cereb_TG18-1_o3on</td>\n",
       "      <td>[13.79]</td>\n",
       "      <td>[409651.0]</td>\n",
       "      <td>13.79</td>\n",
       "      <td>409651.0</td>\n",
       "      <td>766.8</td>\n",
       "      <td>738.8</td>\n",
       "      <td>696.8</td>\n",
       "    </tr>\n",
       "    <tr>\n",
       "      <th>29</th>\n",
       "      <td>[TG(51:8),TG(50:1)]_FA18:1</td>\n",
       "      <td>850.8</td>\n",
       "      <td>551.6</td>\n",
       "      <td>8.906404e+06</td>\n",
       "      <td>850.8 -&gt; 551.6</td>\n",
       "      <td>TAG</td>\n",
       "      <td>DOD93_F4-5xFAD-Cereb_TG18-1_o3on</td>\n",
       "      <td>[15.13]</td>\n",
       "      <td>[2236988.0]</td>\n",
       "      <td>15.13</td>\n",
       "      <td>2236988.0</td>\n",
       "      <td>768.8</td>\n",
       "      <td>740.8</td>\n",
       "      <td>698.8</td>\n",
       "    </tr>\n",
       "    <tr>\n",
       "      <th>30</th>\n",
       "      <td>[TG(52:4)]_FA18:1</td>\n",
       "      <td>872.8</td>\n",
       "      <td>573.6</td>\n",
       "      <td>7.219475e+05</td>\n",
       "      <td>872.8 -&gt; 573.6</td>\n",
       "      <td>TAG</td>\n",
       "      <td>DOD93_F4-5xFAD-Cereb_TG18-1_o3on</td>\n",
       "      <td>[12.57]</td>\n",
       "      <td>[159733.0]</td>\n",
       "      <td>12.57</td>\n",
       "      <td>159733.0</td>\n",
       "      <td>790.8</td>\n",
       "      <td>762.8</td>\n",
       "      <td>720.8</td>\n",
       "    </tr>\n",
       "    <tr>\n",
       "      <th>31</th>\n",
       "      <td>[TG(53:10),TG(52:3)]_FA18:1</td>\n",
       "      <td>874.8</td>\n",
       "      <td>575.6</td>\n",
       "      <td>4.364672e+06</td>\n",
       "      <td>874.8 -&gt; 575.6</td>\n",
       "      <td>TAG</td>\n",
       "      <td>DOD93_F4-5xFAD-Cereb_TG18-1_o3on</td>\n",
       "      <td>[13.66]</td>\n",
       "      <td>[928619.0]</td>\n",
       "      <td>13.66</td>\n",
       "      <td>928619.0</td>\n",
       "      <td>792.8</td>\n",
       "      <td>764.8</td>\n",
       "      <td>722.8</td>\n",
       "    </tr>\n",
       "    <tr>\n",
       "      <th>32</th>\n",
       "      <td>[TG(53:9),TG(52:2)]_FA18:1</td>\n",
       "      <td>876.8</td>\n",
       "      <td>577.6</td>\n",
       "      <td>1.805685e+07</td>\n",
       "      <td>876.8 -&gt; 577.6</td>\n",
       "      <td>TAG</td>\n",
       "      <td>DOD93_F4-5xFAD-Cereb_TG18-1_o3on</td>\n",
       "      <td>[14.99]</td>\n",
       "      <td>[4376154.0]</td>\n",
       "      <td>14.99</td>\n",
       "      <td>4376154.0</td>\n",
       "      <td>794.8</td>\n",
       "      <td>766.8</td>\n",
       "      <td>724.8</td>\n",
       "    </tr>\n",
       "    <tr>\n",
       "      <th>33</th>\n",
       "      <td>[TG(54:5)]_FA18:1</td>\n",
       "      <td>898.8</td>\n",
       "      <td>599.6</td>\n",
       "      <td>1.673118e+06</td>\n",
       "      <td>898.8 -&gt; 599.6</td>\n",
       "      <td>TAG</td>\n",
       "      <td>DOD93_F4-5xFAD-Cereb_TG18-1_o3on</td>\n",
       "      <td>[12.56]</td>\n",
       "      <td>[494143.0]</td>\n",
       "      <td>12.56</td>\n",
       "      <td>494143.0</td>\n",
       "      <td>816.8</td>\n",
       "      <td>788.8</td>\n",
       "      <td>746.8</td>\n",
       "    </tr>\n",
       "    <tr>\n",
       "      <th>34</th>\n",
       "      <td>[TG(55:11),TG(54:4)]_FA18:1</td>\n",
       "      <td>900.8</td>\n",
       "      <td>601.6</td>\n",
       "      <td>3.305303e+06</td>\n",
       "      <td>900.8 -&gt; 601.6</td>\n",
       "      <td>TAG</td>\n",
       "      <td>DOD93_F4-5xFAD-Cereb_TG18-1_o3on</td>\n",
       "      <td>[13.65]</td>\n",
       "      <td>[797129.0]</td>\n",
       "      <td>13.65</td>\n",
       "      <td>797129.0</td>\n",
       "      <td>818.8</td>\n",
       "      <td>790.8</td>\n",
       "      <td>748.8</td>\n",
       "    </tr>\n",
       "    <tr>\n",
       "      <th>35</th>\n",
       "      <td>[TG(55:10),TG(54:3)]_FA18:1</td>\n",
       "      <td>902.8</td>\n",
       "      <td>603.6</td>\n",
       "      <td>9.339795e+06</td>\n",
       "      <td>902.8 -&gt; 603.6</td>\n",
       "      <td>TAG</td>\n",
       "      <td>DOD93_F4-5xFAD-Cereb_TG18-1_o3on</td>\n",
       "      <td>[14.74]</td>\n",
       "      <td>[2345724.0]</td>\n",
       "      <td>14.74</td>\n",
       "      <td>2345724.0</td>\n",
       "      <td>820.8</td>\n",
       "      <td>792.8</td>\n",
       "      <td>750.8</td>\n",
       "    </tr>\n",
       "  </tbody>\n",
       "</table>\n",
       "</div>"
      ],
      "text/plain": [
       "                               Lipid  Parent_Ion  Product_Ion     Intensity  \\\n",
       "8     n-9 [TG(51:8),TG(50:1)]_FA18:1       740.8        551.6  9.366814e+05   \n",
       "9             n-12 [TG(54:5)]_FA18:1       746.8        599.6  1.976136e+05   \n",
       "10  n-12 [TG(55:11),TG(54:4)]_FA18:1       748.8        601.6  1.128153e+05   \n",
       "11  n-12 [TG(55:10),TG(54:3)]_FA18:1       750.8        603.6  5.757424e+05   \n",
       "17    n-7 [TG(51:8),TG(50:1)]_FA18:1       768.8        551.6  7.723013e+05   \n",
       "18             n-9 [TG(54:5)]_FA18:1       788.8        599.6  1.482506e+05   \n",
       "20   n-9 [TG(55:11),TG(54:4)]_FA18:1       790.8        601.6  1.952738e+05   \n",
       "22   n-9 [TG(55:10),TG(54:3)]_FA18:1       792.8        603.6  7.489054e+05   \n",
       "24             n-7 [TG(54:5)]_FA18:1       816.8        599.6  7.366929e+04   \n",
       "25   n-7 [TG(55:11),TG(54:4)]_FA18:1       818.8        601.6  1.200953e+05   \n",
       "26   n-7 [TG(55:10),TG(54:3)]_FA18:1       820.8        603.6  4.014192e+05   \n",
       "27                 [TG(50:3)]_FA18:1       846.8        547.6  6.869138e+05   \n",
       "28        [TG(51:9),TG(50:2)]_FA18:1       848.8        549.6  3.262575e+06   \n",
       "29        [TG(51:8),TG(50:1)]_FA18:1       850.8        551.6  8.906404e+06   \n",
       "30                 [TG(52:4)]_FA18:1       872.8        573.6  7.219475e+05   \n",
       "31       [TG(53:10),TG(52:3)]_FA18:1       874.8        575.6  4.364672e+06   \n",
       "32        [TG(53:9),TG(52:2)]_FA18:1       876.8        577.6  1.805685e+07   \n",
       "33                 [TG(54:5)]_FA18:1       898.8        599.6  1.673118e+06   \n",
       "34       [TG(55:11),TG(54:4)]_FA18:1       900.8        601.6  3.305303e+06   \n",
       "35       [TG(55:10),TG(54:3)]_FA18:1       902.8        603.6  9.339795e+06   \n",
       "\n",
       "        Transition Class                         Sample_ID Retention_Time  \\\n",
       "8   740.8 -> 551.6   NaN  DOD93_F4-5xFAD-Cereb_TG18-1_o3on        [14.95]   \n",
       "9   746.8 -> 599.6   NaN  DOD93_F4-5xFAD-Cereb_TG18-1_o3on        [15.19]   \n",
       "10  748.8 -> 601.6   NaN  DOD93_F4-5xFAD-Cereb_TG18-1_o3on        [11.78]   \n",
       "11  750.8 -> 603.6   NaN  DOD93_F4-5xFAD-Cereb_TG18-1_o3on        [13.85]   \n",
       "17  768.8 -> 551.6   NaN  DOD93_F4-5xFAD-Cereb_TG18-1_o3on        [14.92]   \n",
       "18  788.8 -> 599.6   NaN  DOD93_F4-5xFAD-Cereb_TG18-1_o3on        [12.36]   \n",
       "20  790.8 -> 601.6   NaN  DOD93_F4-5xFAD-Cereb_TG18-1_o3on        [12.48]   \n",
       "22  792.8 -> 603.6   NaN  DOD93_F4-5xFAD-Cereb_TG18-1_o3on        [14.66]   \n",
       "24  816.8 -> 599.6   NaN  DOD93_F4-5xFAD-Cereb_TG18-1_o3on        [12.34]   \n",
       "25  818.8 -> 601.6   NaN  DOD93_F4-5xFAD-Cereb_TG18-1_o3on        [13.68]   \n",
       "26  820.8 -> 603.6   NaN  DOD93_F4-5xFAD-Cereb_TG18-1_o3on        [14.65]   \n",
       "27  846.8 -> 547.6   TAG  DOD93_F4-5xFAD-Cereb_TG18-1_o3on        [12.58]   \n",
       "28  848.8 -> 549.6   TAG  DOD93_F4-5xFAD-Cereb_TG18-1_o3on        [13.79]   \n",
       "29  850.8 -> 551.6   TAG  DOD93_F4-5xFAD-Cereb_TG18-1_o3on        [15.13]   \n",
       "30  872.8 -> 573.6   TAG  DOD93_F4-5xFAD-Cereb_TG18-1_o3on        [12.57]   \n",
       "31  874.8 -> 575.6   TAG  DOD93_F4-5xFAD-Cereb_TG18-1_o3on        [13.66]   \n",
       "32  876.8 -> 577.6   TAG  DOD93_F4-5xFAD-Cereb_TG18-1_o3on        [14.99]   \n",
       "33  898.8 -> 599.6   TAG  DOD93_F4-5xFAD-Cereb_TG18-1_o3on        [12.56]   \n",
       "34  900.8 -> 601.6   TAG  DOD93_F4-5xFAD-Cereb_TG18-1_o3on        [13.65]   \n",
       "35  902.8 -> 603.6   TAG  DOD93_F4-5xFAD-Cereb_TG18-1_o3on        [14.74]   \n",
       "\n",
       "   Intensity_OzESI  Mean_Retention_Time  Mean_Intensity_OzESI    n-7    n-9  \\\n",
       "8       [144069.0]                14.95              144069.0  658.8  630.8   \n",
       "9          [584.0]                15.19                 584.0  664.8  636.8   \n",
       "10         [985.0]                11.78                 985.0  666.8  638.8   \n",
       "11        [3845.0]                13.85                3845.0  668.8  640.8   \n",
       "17       [83299.0]                14.92               83299.0  686.8  658.8   \n",
       "18        [8898.0]                12.36                8898.0  706.8  678.8   \n",
       "20       [16153.0]                12.48               16153.0  708.8  680.8   \n",
       "22      [116813.0]                14.66              116813.0  710.8  682.8   \n",
       "24        [2962.0]                12.34                2962.0  734.8  706.8   \n",
       "25        [3524.0]                13.68                3524.0  736.8  708.8   \n",
       "26       [25918.0]                14.65               25918.0  738.8  710.8   \n",
       "27       [72587.0]                12.58               72587.0  764.8  736.8   \n",
       "28      [409651.0]                13.79              409651.0  766.8  738.8   \n",
       "29     [2236988.0]                15.13             2236988.0  768.8  740.8   \n",
       "30      [159733.0]                12.57              159733.0  790.8  762.8   \n",
       "31      [928619.0]                13.66              928619.0  792.8  764.8   \n",
       "32     [4376154.0]                14.99             4376154.0  794.8  766.8   \n",
       "33      [494143.0]                12.56              494143.0  816.8  788.8   \n",
       "34      [797129.0]                13.65              797129.0  818.8  790.8   \n",
       "35     [2345724.0]                14.74             2345724.0  820.8  792.8   \n",
       "\n",
       "     n-12  \n",
       "8   588.8  \n",
       "9   594.8  \n",
       "10  596.8  \n",
       "11  598.8  \n",
       "17  616.8  \n",
       "18  636.8  \n",
       "20  638.8  \n",
       "22  640.8  \n",
       "24  664.8  \n",
       "25  666.8  \n",
       "26  668.8  \n",
       "27  694.8  \n",
       "28  696.8  \n",
       "29  698.8  \n",
       "30  720.8  \n",
       "31  722.8  \n",
       "32  724.8  \n",
       "33  746.8  \n",
       "34  748.8  \n",
       "35  750.8  "
      ]
     },
     "execution_count": 11,
     "metadata": {},
     "output_type": "execute_result"
    }
   ],
   "source": [
    "#### SECOND VERSION (working better)\n",
    "OzESI_list = [7, 9, 12]\n",
    "\n",
    "def add_lipid_info(df, OzESI_list):\n",
    "    df_test = df.copy()\n",
    "    \n",
    "    for i in OzESI_list:\n",
    "        df_test['n-' + str(i)] = df_test['n-' + str(i)].astype(float)\n",
    "    \n",
    "    for i in range(len(df_test)):\n",
    "        if pd.isna(df_test.loc[i, 'Lipid']):\n",
    "            parent_ion = df_test.loc[i, 'Parent_Ion']\n",
    "            \n",
    "            for j in range(len(df_test)):\n",
    "                if parent_ion == df_test.loc[j, 'n-7'] and isinstance(df_test.loc[j, 'Lipid'], str):\n",
    "                    df_test.loc[i, 'Lipid'] = 'n-7 ' + df_test.loc[j, 'Lipid']\n",
    "                elif parent_ion == df_test.loc[j, 'n-9'] and isinstance(df_test.loc[j, 'Lipid'], str):\n",
    "                    df_test.loc[i, 'Lipid'] = 'n-9 ' + df_test.loc[j, 'Lipid']\n",
    "                elif parent_ion == df_test.loc[j, 'n-12'] and isinstance(df_test.loc[j, 'Lipid'], str):\n",
    "                    df_test.loc[i, 'Lipid'] = 'n-12 ' + df_test.loc[j, 'Lipid']\n",
    "    \n",
    "    df_test.dropna(subset=['Lipid'], inplace=True)\n",
    "    return df_test\n",
    "\n",
    "df_test = add_lipid_info(df_OzESI_processed, OzESI_list)\n",
    "df_test.head(None)\n"
   ]
  },
  {
   "cell_type": "code",
   "execution_count": 12,
   "metadata": {},
   "outputs": [
    {
     "data": {
      "text/html": [
       "<div>\n",
       "<style scoped>\n",
       "    .dataframe tbody tr th:only-of-type {\n",
       "        vertical-align: middle;\n",
       "    }\n",
       "\n",
       "    .dataframe tbody tr th {\n",
       "        vertical-align: top;\n",
       "    }\n",
       "\n",
       "    .dataframe thead th {\n",
       "        text-align: right;\n",
       "    }\n",
       "</style>\n",
       "<table border=\"1\" class=\"dataframe\">\n",
       "  <thead>\n",
       "    <tr style=\"text-align: right;\">\n",
       "      <th></th>\n",
       "      <th>Lipid</th>\n",
       "      <th>Parent_Ion</th>\n",
       "      <th>Product_Ion</th>\n",
       "      <th>Intensity</th>\n",
       "      <th>Transition</th>\n",
       "      <th>Class</th>\n",
       "      <th>Sample_ID</th>\n",
       "      <th>Retention_Time</th>\n",
       "      <th>Intensity_OzESI</th>\n",
       "      <th>Mean_Retention_Time</th>\n",
       "      <th>Mean_Intensity_OzESI</th>\n",
       "      <th>n-7</th>\n",
       "      <th>n-9</th>\n",
       "      <th>n-12</th>\n",
       "    </tr>\n",
       "  </thead>\n",
       "  <tbody>\n",
       "    <tr>\n",
       "      <th>27</th>\n",
       "      <td>[TG(50:3)]_FA18:1</td>\n",
       "      <td>846.8</td>\n",
       "      <td>547.6</td>\n",
       "      <td>6.869138e+05</td>\n",
       "      <td>846.8 -&gt; 547.6</td>\n",
       "      <td>TAG</td>\n",
       "      <td>DOD93_F4-5xFAD-Cereb_TG18-1_o3on</td>\n",
       "      <td>[12.58]</td>\n",
       "      <td>[72587.0]</td>\n",
       "      <td>12.58</td>\n",
       "      <td>72587.0</td>\n",
       "      <td>764.8</td>\n",
       "      <td>736.8</td>\n",
       "      <td>694.8</td>\n",
       "    </tr>\n",
       "    <tr>\n",
       "      <th>28</th>\n",
       "      <td>[TG(51:9),TG(50:2)]_FA18:1</td>\n",
       "      <td>848.8</td>\n",
       "      <td>549.6</td>\n",
       "      <td>3.262575e+06</td>\n",
       "      <td>848.8 -&gt; 549.6</td>\n",
       "      <td>TAG</td>\n",
       "      <td>DOD93_F4-5xFAD-Cereb_TG18-1_o3on</td>\n",
       "      <td>[13.79]</td>\n",
       "      <td>[409651.0]</td>\n",
       "      <td>13.79</td>\n",
       "      <td>409651.0</td>\n",
       "      <td>766.8</td>\n",
       "      <td>738.8</td>\n",
       "      <td>696.8</td>\n",
       "    </tr>\n",
       "    <tr>\n",
       "      <th>8</th>\n",
       "      <td>n-9 [TG(51:8),TG(50:1)]_FA18:1</td>\n",
       "      <td>740.8</td>\n",
       "      <td>551.6</td>\n",
       "      <td>9.366814e+05</td>\n",
       "      <td>740.8 -&gt; 551.6</td>\n",
       "      <td>NaN</td>\n",
       "      <td>DOD93_F4-5xFAD-Cereb_TG18-1_o3on</td>\n",
       "      <td>[14.95]</td>\n",
       "      <td>[144069.0]</td>\n",
       "      <td>14.95</td>\n",
       "      <td>144069.0</td>\n",
       "      <td>658.8</td>\n",
       "      <td>630.8</td>\n",
       "      <td>588.8</td>\n",
       "    </tr>\n",
       "    <tr>\n",
       "      <th>17</th>\n",
       "      <td>n-7 [TG(51:8),TG(50:1)]_FA18:1</td>\n",
       "      <td>768.8</td>\n",
       "      <td>551.6</td>\n",
       "      <td>7.723013e+05</td>\n",
       "      <td>768.8 -&gt; 551.6</td>\n",
       "      <td>NaN</td>\n",
       "      <td>DOD93_F4-5xFAD-Cereb_TG18-1_o3on</td>\n",
       "      <td>[14.92]</td>\n",
       "      <td>[83299.0]</td>\n",
       "      <td>14.92</td>\n",
       "      <td>83299.0</td>\n",
       "      <td>686.8</td>\n",
       "      <td>658.8</td>\n",
       "      <td>616.8</td>\n",
       "    </tr>\n",
       "    <tr>\n",
       "      <th>29</th>\n",
       "      <td>[TG(51:8),TG(50:1)]_FA18:1</td>\n",
       "      <td>850.8</td>\n",
       "      <td>551.6</td>\n",
       "      <td>8.906404e+06</td>\n",
       "      <td>850.8 -&gt; 551.6</td>\n",
       "      <td>TAG</td>\n",
       "      <td>DOD93_F4-5xFAD-Cereb_TG18-1_o3on</td>\n",
       "      <td>[15.13]</td>\n",
       "      <td>[2236988.0]</td>\n",
       "      <td>15.13</td>\n",
       "      <td>2236988.0</td>\n",
       "      <td>768.8</td>\n",
       "      <td>740.8</td>\n",
       "      <td>698.8</td>\n",
       "    </tr>\n",
       "    <tr>\n",
       "      <th>30</th>\n",
       "      <td>[TG(52:4)]_FA18:1</td>\n",
       "      <td>872.8</td>\n",
       "      <td>573.6</td>\n",
       "      <td>7.219475e+05</td>\n",
       "      <td>872.8 -&gt; 573.6</td>\n",
       "      <td>TAG</td>\n",
       "      <td>DOD93_F4-5xFAD-Cereb_TG18-1_o3on</td>\n",
       "      <td>[12.57]</td>\n",
       "      <td>[159733.0]</td>\n",
       "      <td>12.57</td>\n",
       "      <td>159733.0</td>\n",
       "      <td>790.8</td>\n",
       "      <td>762.8</td>\n",
       "      <td>720.8</td>\n",
       "    </tr>\n",
       "    <tr>\n",
       "      <th>31</th>\n",
       "      <td>[TG(53:10),TG(52:3)]_FA18:1</td>\n",
       "      <td>874.8</td>\n",
       "      <td>575.6</td>\n",
       "      <td>4.364672e+06</td>\n",
       "      <td>874.8 -&gt; 575.6</td>\n",
       "      <td>TAG</td>\n",
       "      <td>DOD93_F4-5xFAD-Cereb_TG18-1_o3on</td>\n",
       "      <td>[13.66]</td>\n",
       "      <td>[928619.0]</td>\n",
       "      <td>13.66</td>\n",
       "      <td>928619.0</td>\n",
       "      <td>792.8</td>\n",
       "      <td>764.8</td>\n",
       "      <td>722.8</td>\n",
       "    </tr>\n",
       "    <tr>\n",
       "      <th>32</th>\n",
       "      <td>[TG(53:9),TG(52:2)]_FA18:1</td>\n",
       "      <td>876.8</td>\n",
       "      <td>577.6</td>\n",
       "      <td>1.805685e+07</td>\n",
       "      <td>876.8 -&gt; 577.6</td>\n",
       "      <td>TAG</td>\n",
       "      <td>DOD93_F4-5xFAD-Cereb_TG18-1_o3on</td>\n",
       "      <td>[14.99]</td>\n",
       "      <td>[4376154.0]</td>\n",
       "      <td>14.99</td>\n",
       "      <td>4376154.0</td>\n",
       "      <td>794.8</td>\n",
       "      <td>766.8</td>\n",
       "      <td>724.8</td>\n",
       "    </tr>\n",
       "    <tr>\n",
       "      <th>9</th>\n",
       "      <td>n-12 [TG(54:5)]_FA18:1</td>\n",
       "      <td>746.8</td>\n",
       "      <td>599.6</td>\n",
       "      <td>1.976136e+05</td>\n",
       "      <td>746.8 -&gt; 599.6</td>\n",
       "      <td>NaN</td>\n",
       "      <td>DOD93_F4-5xFAD-Cereb_TG18-1_o3on</td>\n",
       "      <td>[15.19]</td>\n",
       "      <td>[584.0]</td>\n",
       "      <td>15.19</td>\n",
       "      <td>584.0</td>\n",
       "      <td>664.8</td>\n",
       "      <td>636.8</td>\n",
       "      <td>594.8</td>\n",
       "    </tr>\n",
       "    <tr>\n",
       "      <th>33</th>\n",
       "      <td>[TG(54:5)]_FA18:1</td>\n",
       "      <td>898.8</td>\n",
       "      <td>599.6</td>\n",
       "      <td>1.673118e+06</td>\n",
       "      <td>898.8 -&gt; 599.6</td>\n",
       "      <td>TAG</td>\n",
       "      <td>DOD93_F4-5xFAD-Cereb_TG18-1_o3on</td>\n",
       "      <td>[12.56]</td>\n",
       "      <td>[494143.0]</td>\n",
       "      <td>12.56</td>\n",
       "      <td>494143.0</td>\n",
       "      <td>816.8</td>\n",
       "      <td>788.8</td>\n",
       "      <td>746.8</td>\n",
       "    </tr>\n",
       "    <tr>\n",
       "      <th>18</th>\n",
       "      <td>n-9 [TG(54:5)]_FA18:1</td>\n",
       "      <td>788.8</td>\n",
       "      <td>599.6</td>\n",
       "      <td>1.482506e+05</td>\n",
       "      <td>788.8 -&gt; 599.6</td>\n",
       "      <td>NaN</td>\n",
       "      <td>DOD93_F4-5xFAD-Cereb_TG18-1_o3on</td>\n",
       "      <td>[12.36]</td>\n",
       "      <td>[8898.0]</td>\n",
       "      <td>12.36</td>\n",
       "      <td>8898.0</td>\n",
       "      <td>706.8</td>\n",
       "      <td>678.8</td>\n",
       "      <td>636.8</td>\n",
       "    </tr>\n",
       "    <tr>\n",
       "      <th>24</th>\n",
       "      <td>n-7 [TG(54:5)]_FA18:1</td>\n",
       "      <td>816.8</td>\n",
       "      <td>599.6</td>\n",
       "      <td>7.366929e+04</td>\n",
       "      <td>816.8 -&gt; 599.6</td>\n",
       "      <td>NaN</td>\n",
       "      <td>DOD93_F4-5xFAD-Cereb_TG18-1_o3on</td>\n",
       "      <td>[12.34]</td>\n",
       "      <td>[2962.0]</td>\n",
       "      <td>12.34</td>\n",
       "      <td>2962.0</td>\n",
       "      <td>734.8</td>\n",
       "      <td>706.8</td>\n",
       "      <td>664.8</td>\n",
       "    </tr>\n",
       "    <tr>\n",
       "      <th>25</th>\n",
       "      <td>n-7 [TG(55:11),TG(54:4)]_FA18:1</td>\n",
       "      <td>818.8</td>\n",
       "      <td>601.6</td>\n",
       "      <td>1.200953e+05</td>\n",
       "      <td>818.8 -&gt; 601.6</td>\n",
       "      <td>NaN</td>\n",
       "      <td>DOD93_F4-5xFAD-Cereb_TG18-1_o3on</td>\n",
       "      <td>[13.68]</td>\n",
       "      <td>[3524.0]</td>\n",
       "      <td>13.68</td>\n",
       "      <td>3524.0</td>\n",
       "      <td>736.8</td>\n",
       "      <td>708.8</td>\n",
       "      <td>666.8</td>\n",
       "    </tr>\n",
       "    <tr>\n",
       "      <th>34</th>\n",
       "      <td>[TG(55:11),TG(54:4)]_FA18:1</td>\n",
       "      <td>900.8</td>\n",
       "      <td>601.6</td>\n",
       "      <td>3.305303e+06</td>\n",
       "      <td>900.8 -&gt; 601.6</td>\n",
       "      <td>TAG</td>\n",
       "      <td>DOD93_F4-5xFAD-Cereb_TG18-1_o3on</td>\n",
       "      <td>[13.65]</td>\n",
       "      <td>[797129.0]</td>\n",
       "      <td>13.65</td>\n",
       "      <td>797129.0</td>\n",
       "      <td>818.8</td>\n",
       "      <td>790.8</td>\n",
       "      <td>748.8</td>\n",
       "    </tr>\n",
       "    <tr>\n",
       "      <th>20</th>\n",
       "      <td>n-9 [TG(55:11),TG(54:4)]_FA18:1</td>\n",
       "      <td>790.8</td>\n",
       "      <td>601.6</td>\n",
       "      <td>1.952738e+05</td>\n",
       "      <td>790.8 -&gt; 601.6</td>\n",
       "      <td>NaN</td>\n",
       "      <td>DOD93_F4-5xFAD-Cereb_TG18-1_o3on</td>\n",
       "      <td>[12.48]</td>\n",
       "      <td>[16153.0]</td>\n",
       "      <td>12.48</td>\n",
       "      <td>16153.0</td>\n",
       "      <td>708.8</td>\n",
       "      <td>680.8</td>\n",
       "      <td>638.8</td>\n",
       "    </tr>\n",
       "    <tr>\n",
       "      <th>10</th>\n",
       "      <td>n-12 [TG(55:11),TG(54:4)]_FA18:1</td>\n",
       "      <td>748.8</td>\n",
       "      <td>601.6</td>\n",
       "      <td>1.128153e+05</td>\n",
       "      <td>748.8 -&gt; 601.6</td>\n",
       "      <td>NaN</td>\n",
       "      <td>DOD93_F4-5xFAD-Cereb_TG18-1_o3on</td>\n",
       "      <td>[11.78]</td>\n",
       "      <td>[985.0]</td>\n",
       "      <td>11.78</td>\n",
       "      <td>985.0</td>\n",
       "      <td>666.8</td>\n",
       "      <td>638.8</td>\n",
       "      <td>596.8</td>\n",
       "    </tr>\n",
       "    <tr>\n",
       "      <th>22</th>\n",
       "      <td>n-9 [TG(55:10),TG(54:3)]_FA18:1</td>\n",
       "      <td>792.8</td>\n",
       "      <td>603.6</td>\n",
       "      <td>7.489054e+05</td>\n",
       "      <td>792.8 -&gt; 603.6</td>\n",
       "      <td>NaN</td>\n",
       "      <td>DOD93_F4-5xFAD-Cereb_TG18-1_o3on</td>\n",
       "      <td>[14.66]</td>\n",
       "      <td>[116813.0]</td>\n",
       "      <td>14.66</td>\n",
       "      <td>116813.0</td>\n",
       "      <td>710.8</td>\n",
       "      <td>682.8</td>\n",
       "      <td>640.8</td>\n",
       "    </tr>\n",
       "    <tr>\n",
       "      <th>11</th>\n",
       "      <td>n-12 [TG(55:10),TG(54:3)]_FA18:1</td>\n",
       "      <td>750.8</td>\n",
       "      <td>603.6</td>\n",
       "      <td>5.757424e+05</td>\n",
       "      <td>750.8 -&gt; 603.6</td>\n",
       "      <td>NaN</td>\n",
       "      <td>DOD93_F4-5xFAD-Cereb_TG18-1_o3on</td>\n",
       "      <td>[13.85]</td>\n",
       "      <td>[3845.0]</td>\n",
       "      <td>13.85</td>\n",
       "      <td>3845.0</td>\n",
       "      <td>668.8</td>\n",
       "      <td>640.8</td>\n",
       "      <td>598.8</td>\n",
       "    </tr>\n",
       "    <tr>\n",
       "      <th>26</th>\n",
       "      <td>n-7 [TG(55:10),TG(54:3)]_FA18:1</td>\n",
       "      <td>820.8</td>\n",
       "      <td>603.6</td>\n",
       "      <td>4.014192e+05</td>\n",
       "      <td>820.8 -&gt; 603.6</td>\n",
       "      <td>NaN</td>\n",
       "      <td>DOD93_F4-5xFAD-Cereb_TG18-1_o3on</td>\n",
       "      <td>[14.65]</td>\n",
       "      <td>[25918.0]</td>\n",
       "      <td>14.65</td>\n",
       "      <td>25918.0</td>\n",
       "      <td>738.8</td>\n",
       "      <td>710.8</td>\n",
       "      <td>668.8</td>\n",
       "    </tr>\n",
       "    <tr>\n",
       "      <th>35</th>\n",
       "      <td>[TG(55:10),TG(54:3)]_FA18:1</td>\n",
       "      <td>902.8</td>\n",
       "      <td>603.6</td>\n",
       "      <td>9.339795e+06</td>\n",
       "      <td>902.8 -&gt; 603.6</td>\n",
       "      <td>TAG</td>\n",
       "      <td>DOD93_F4-5xFAD-Cereb_TG18-1_o3on</td>\n",
       "      <td>[14.74]</td>\n",
       "      <td>[2345724.0]</td>\n",
       "      <td>14.74</td>\n",
       "      <td>2345724.0</td>\n",
       "      <td>820.8</td>\n",
       "      <td>792.8</td>\n",
       "      <td>750.8</td>\n",
       "    </tr>\n",
       "  </tbody>\n",
       "</table>\n",
       "</div>"
      ],
      "text/plain": [
       "                               Lipid  Parent_Ion  Product_Ion     Intensity  \\\n",
       "27                 [TG(50:3)]_FA18:1       846.8        547.6  6.869138e+05   \n",
       "28        [TG(51:9),TG(50:2)]_FA18:1       848.8        549.6  3.262575e+06   \n",
       "8     n-9 [TG(51:8),TG(50:1)]_FA18:1       740.8        551.6  9.366814e+05   \n",
       "17    n-7 [TG(51:8),TG(50:1)]_FA18:1       768.8        551.6  7.723013e+05   \n",
       "29        [TG(51:8),TG(50:1)]_FA18:1       850.8        551.6  8.906404e+06   \n",
       "30                 [TG(52:4)]_FA18:1       872.8        573.6  7.219475e+05   \n",
       "31       [TG(53:10),TG(52:3)]_FA18:1       874.8        575.6  4.364672e+06   \n",
       "32        [TG(53:9),TG(52:2)]_FA18:1       876.8        577.6  1.805685e+07   \n",
       "9             n-12 [TG(54:5)]_FA18:1       746.8        599.6  1.976136e+05   \n",
       "33                 [TG(54:5)]_FA18:1       898.8        599.6  1.673118e+06   \n",
       "18             n-9 [TG(54:5)]_FA18:1       788.8        599.6  1.482506e+05   \n",
       "24             n-7 [TG(54:5)]_FA18:1       816.8        599.6  7.366929e+04   \n",
       "25   n-7 [TG(55:11),TG(54:4)]_FA18:1       818.8        601.6  1.200953e+05   \n",
       "34       [TG(55:11),TG(54:4)]_FA18:1       900.8        601.6  3.305303e+06   \n",
       "20   n-9 [TG(55:11),TG(54:4)]_FA18:1       790.8        601.6  1.952738e+05   \n",
       "10  n-12 [TG(55:11),TG(54:4)]_FA18:1       748.8        601.6  1.128153e+05   \n",
       "22   n-9 [TG(55:10),TG(54:3)]_FA18:1       792.8        603.6  7.489054e+05   \n",
       "11  n-12 [TG(55:10),TG(54:3)]_FA18:1       750.8        603.6  5.757424e+05   \n",
       "26   n-7 [TG(55:10),TG(54:3)]_FA18:1       820.8        603.6  4.014192e+05   \n",
       "35       [TG(55:10),TG(54:3)]_FA18:1       902.8        603.6  9.339795e+06   \n",
       "\n",
       "        Transition Class                         Sample_ID Retention_Time  \\\n",
       "27  846.8 -> 547.6   TAG  DOD93_F4-5xFAD-Cereb_TG18-1_o3on        [12.58]   \n",
       "28  848.8 -> 549.6   TAG  DOD93_F4-5xFAD-Cereb_TG18-1_o3on        [13.79]   \n",
       "8   740.8 -> 551.6   NaN  DOD93_F4-5xFAD-Cereb_TG18-1_o3on        [14.95]   \n",
       "17  768.8 -> 551.6   NaN  DOD93_F4-5xFAD-Cereb_TG18-1_o3on        [14.92]   \n",
       "29  850.8 -> 551.6   TAG  DOD93_F4-5xFAD-Cereb_TG18-1_o3on        [15.13]   \n",
       "30  872.8 -> 573.6   TAG  DOD93_F4-5xFAD-Cereb_TG18-1_o3on        [12.57]   \n",
       "31  874.8 -> 575.6   TAG  DOD93_F4-5xFAD-Cereb_TG18-1_o3on        [13.66]   \n",
       "32  876.8 -> 577.6   TAG  DOD93_F4-5xFAD-Cereb_TG18-1_o3on        [14.99]   \n",
       "9   746.8 -> 599.6   NaN  DOD93_F4-5xFAD-Cereb_TG18-1_o3on        [15.19]   \n",
       "33  898.8 -> 599.6   TAG  DOD93_F4-5xFAD-Cereb_TG18-1_o3on        [12.56]   \n",
       "18  788.8 -> 599.6   NaN  DOD93_F4-5xFAD-Cereb_TG18-1_o3on        [12.36]   \n",
       "24  816.8 -> 599.6   NaN  DOD93_F4-5xFAD-Cereb_TG18-1_o3on        [12.34]   \n",
       "25  818.8 -> 601.6   NaN  DOD93_F4-5xFAD-Cereb_TG18-1_o3on        [13.68]   \n",
       "34  900.8 -> 601.6   TAG  DOD93_F4-5xFAD-Cereb_TG18-1_o3on        [13.65]   \n",
       "20  790.8 -> 601.6   NaN  DOD93_F4-5xFAD-Cereb_TG18-1_o3on        [12.48]   \n",
       "10  748.8 -> 601.6   NaN  DOD93_F4-5xFAD-Cereb_TG18-1_o3on        [11.78]   \n",
       "22  792.8 -> 603.6   NaN  DOD93_F4-5xFAD-Cereb_TG18-1_o3on        [14.66]   \n",
       "11  750.8 -> 603.6   NaN  DOD93_F4-5xFAD-Cereb_TG18-1_o3on        [13.85]   \n",
       "26  820.8 -> 603.6   NaN  DOD93_F4-5xFAD-Cereb_TG18-1_o3on        [14.65]   \n",
       "35  902.8 -> 603.6   TAG  DOD93_F4-5xFAD-Cereb_TG18-1_o3on        [14.74]   \n",
       "\n",
       "   Intensity_OzESI  Mean_Retention_Time  Mean_Intensity_OzESI    n-7    n-9  \\\n",
       "27       [72587.0]                12.58               72587.0  764.8  736.8   \n",
       "28      [409651.0]                13.79              409651.0  766.8  738.8   \n",
       "8       [144069.0]                14.95              144069.0  658.8  630.8   \n",
       "17       [83299.0]                14.92               83299.0  686.8  658.8   \n",
       "29     [2236988.0]                15.13             2236988.0  768.8  740.8   \n",
       "30      [159733.0]                12.57              159733.0  790.8  762.8   \n",
       "31      [928619.0]                13.66              928619.0  792.8  764.8   \n",
       "32     [4376154.0]                14.99             4376154.0  794.8  766.8   \n",
       "9          [584.0]                15.19                 584.0  664.8  636.8   \n",
       "33      [494143.0]                12.56              494143.0  816.8  788.8   \n",
       "18        [8898.0]                12.36                8898.0  706.8  678.8   \n",
       "24        [2962.0]                12.34                2962.0  734.8  706.8   \n",
       "25        [3524.0]                13.68                3524.0  736.8  708.8   \n",
       "34      [797129.0]                13.65              797129.0  818.8  790.8   \n",
       "20       [16153.0]                12.48               16153.0  708.8  680.8   \n",
       "10         [985.0]                11.78                 985.0  666.8  638.8   \n",
       "22      [116813.0]                14.66              116813.0  710.8  682.8   \n",
       "11        [3845.0]                13.85                3845.0  668.8  640.8   \n",
       "26       [25918.0]                14.65               25918.0  738.8  710.8   \n",
       "35     [2345724.0]                14.74             2345724.0  820.8  792.8   \n",
       "\n",
       "     n-12  \n",
       "27  694.8  \n",
       "28  696.8  \n",
       "8   588.8  \n",
       "17  616.8  \n",
       "29  698.8  \n",
       "30  720.8  \n",
       "31  722.8  \n",
       "32  724.8  \n",
       "9   594.8  \n",
       "33  746.8  \n",
       "18  636.8  \n",
       "24  664.8  \n",
       "25  666.8  \n",
       "34  748.8  \n",
       "20  638.8  \n",
       "10  596.8  \n",
       "22  640.8  \n",
       "11  598.8  \n",
       "26  668.8  \n",
       "35  750.8  "
      ]
     },
     "execution_count": 12,
     "metadata": {},
     "output_type": "execute_result"
    }
   ],
   "source": [
    "sorted_df = df_test.sort_values(by='Product_Ion')\n",
    "\n",
    "sorted_df.head(None)\n",
    "\n"
   ]
  },
  {
   "cell_type": "code",
   "execution_count": 13,
   "metadata": {},
   "outputs": [
    {
     "name": "stdout",
     "output_type": "stream",
     "text": [
      "                               Lipid  Mean_Retention_Time Retention_Time\n",
      "27                 [TG(50:3)]_FA18:1                12.58        [12.58]\n",
      "28        [TG(51:9),TG(50:2)]_FA18:1                13.79        [13.79]\n",
      "8     n-9 [TG(51:8),TG(50:1)]_FA18:1                14.95        [14.95]\n",
      "17    n-7 [TG(51:8),TG(50:1)]_FA18:1                14.92        [14.92]\n",
      "29        [TG(51:8),TG(50:1)]_FA18:1                15.13        [15.13]\n",
      "30                 [TG(52:4)]_FA18:1                12.57        [12.57]\n",
      "31       [TG(53:10),TG(52:3)]_FA18:1                13.66        [13.66]\n",
      "32        [TG(53:9),TG(52:2)]_FA18:1                14.99        [14.99]\n",
      "9             n-12 [TG(54:5)]_FA18:1                15.19        [15.19]\n",
      "33                 [TG(54:5)]_FA18:1                12.56        [12.56]\n",
      "18             n-9 [TG(54:5)]_FA18:1                12.36        [12.36]\n",
      "24             n-7 [TG(54:5)]_FA18:1                12.34        [12.34]\n",
      "25   n-7 [TG(55:11),TG(54:4)]_FA18:1                13.68        [13.68]\n",
      "34       [TG(55:11),TG(54:4)]_FA18:1                13.65        [13.65]\n",
      "20   n-9 [TG(55:11),TG(54:4)]_FA18:1                12.48        [12.48]\n",
      "10  n-12 [TG(55:11),TG(54:4)]_FA18:1                11.78        [11.78]\n",
      "22   n-9 [TG(55:10),TG(54:3)]_FA18:1                14.66        [14.66]\n",
      "11  n-12 [TG(55:10),TG(54:3)]_FA18:1                13.85        [13.85]\n",
      "26   n-7 [TG(55:10),TG(54:3)]_FA18:1                14.65        [14.65]\n",
      "35       [TG(55:10),TG(54:3)]_FA18:1                14.74        [14.74]\n"
     ]
    }
   ],
   "source": [
    "print(sorted_df[['Lipid', 'Mean_Retention_Time','Retention_Time']])\n"
   ]
  },
  {
   "cell_type": "code",
   "execution_count": 153,
   "metadata": {},
   "outputs": [
    {
     "data": {
      "text/html": [
       "<div>\n",
       "<style scoped>\n",
       "    .dataframe tbody tr th:only-of-type {\n",
       "        vertical-align: middle;\n",
       "    }\n",
       "\n",
       "    .dataframe tbody tr th {\n",
       "        vertical-align: top;\n",
       "    }\n",
       "\n",
       "    .dataframe thead th {\n",
       "        text-align: right;\n",
       "    }\n",
       "</style>\n",
       "<table border=\"1\" class=\"dataframe\">\n",
       "  <thead>\n",
       "    <tr style=\"text-align: right;\">\n",
       "      <th></th>\n",
       "      <th>Lipid</th>\n",
       "      <th>Retention_Time</th>\n",
       "    </tr>\n",
       "  </thead>\n",
       "  <tbody>\n",
       "    <tr>\n",
       "      <th>27</th>\n",
       "      <td>[TG(50:3)]_FA18:1</td>\n",
       "      <td>[12.58, 11.36, 12.45, 12.7, 12.82, 11.24, 13.9...</td>\n",
       "    </tr>\n",
       "    <tr>\n",
       "      <th>28</th>\n",
       "      <td>[TG(51:9),TG(50:2)]_FA18:1</td>\n",
       "      <td>[13.79, 13.91, 13.67, 14.03, 15.01, 15.13, 14....</td>\n",
       "    </tr>\n",
       "    <tr>\n",
       "      <th>8</th>\n",
       "      <td>n-9 [TG(51:8),TG(50:1)]_FA18:1</td>\n",
       "      <td>[14.95, 15.08, 13.86, 13.98, 12.4, 15.2, 12.52...</td>\n",
       "    </tr>\n",
       "    <tr>\n",
       "      <th>17</th>\n",
       "      <td>n-7 [TG(51:8),TG(50:1)]_FA18:1</td>\n",
       "      <td>[14.92, 15.05, 12.49, 12.85, 14.07, 13.95, 13....</td>\n",
       "    </tr>\n",
       "    <tr>\n",
       "      <th>29</th>\n",
       "      <td>[TG(51:8),TG(50:1)]_FA18:1</td>\n",
       "      <td>[15.13, 15.01, 15.25, 14.88, 13.91, 15.49, 13....</td>\n",
       "    </tr>\n",
       "    <tr>\n",
       "      <th>30</th>\n",
       "      <td>[TG(52:4)]_FA18:1</td>\n",
       "      <td>[12.57, 11.23, 11.47, 12.44, 12.69, 11.35, 12....</td>\n",
       "    </tr>\n",
       "    <tr>\n",
       "      <th>31</th>\n",
       "      <td>[TG(53:10),TG(52:3)]_FA18:1</td>\n",
       "      <td>[13.66, 13.78, 13.9, 15.0, 14.88, 13.54, 14.02...</td>\n",
       "    </tr>\n",
       "    <tr>\n",
       "      <th>32</th>\n",
       "      <td>[TG(53:9),TG(52:2)]_FA18:1</td>\n",
       "      <td>[14.99, 14.87, 14.75, 15.12, 13.65, 15.24, 13....</td>\n",
       "    </tr>\n",
       "    <tr>\n",
       "      <th>9</th>\n",
       "      <td>n-12 [TG(54:5)]_FA18:1</td>\n",
       "      <td>[15.19, 11.42, 13.85, 10.81, 12.27, 11.3, 11.1...</td>\n",
       "    </tr>\n",
       "    <tr>\n",
       "      <th>33</th>\n",
       "      <td>[TG(54:5)]_FA18:1</td>\n",
       "      <td>[12.56, 12.43, 11.34, 11.21, 13.65, 12.68, 11....</td>\n",
       "    </tr>\n",
       "    <tr>\n",
       "      <th>18</th>\n",
       "      <td>n-9 [TG(54:5)]_FA18:1</td>\n",
       "      <td>[12.36, 12.48, 12.61, 12.73, 11.87, 13.58, 13....</td>\n",
       "    </tr>\n",
       "    <tr>\n",
       "      <th>24</th>\n",
       "      <td>n-7 [TG(54:5)]_FA18:1</td>\n",
       "      <td>[12.34, 12.46, 13.56, 13.07, 12.59, 13.44, 13....</td>\n",
       "    </tr>\n",
       "    <tr>\n",
       "      <th>25</th>\n",
       "      <td>n-7 [TG(55:11),TG(54:4)]_FA18:1</td>\n",
       "      <td>[13.68, 12.46, 13.56, 11.36, 14.65, 13.43, 11....</td>\n",
       "    </tr>\n",
       "    <tr>\n",
       "      <th>34</th>\n",
       "      <td>[TG(55:11),TG(54:4)]_FA18:1</td>\n",
       "      <td>[13.65, 13.53, 13.77, 14.87, 12.55, 13.89, 11....</td>\n",
       "    </tr>\n",
       "    <tr>\n",
       "      <th>20</th>\n",
       "      <td>n-9 [TG(55:11),TG(54:4)]_FA18:1</td>\n",
       "      <td>[12.48, 12.36, 13.7, 13.57, 13.82, 12.6, 13.45...</td>\n",
       "    </tr>\n",
       "    <tr>\n",
       "      <th>10</th>\n",
       "      <td>n-12 [TG(55:11),TG(54:4)]_FA18:1</td>\n",
       "      <td>[11.78, 12.63, 13.73, 15.31, 12.88, 12.75, 12....</td>\n",
       "    </tr>\n",
       "    <tr>\n",
       "      <th>22</th>\n",
       "      <td>n-9 [TG(55:10),TG(54:3)]_FA18:1</td>\n",
       "      <td>[14.66, 14.79, 13.57, 13.69, 14.91, 15.03, 15....</td>\n",
       "    </tr>\n",
       "    <tr>\n",
       "      <th>11</th>\n",
       "      <td>n-12 [TG(55:10),TG(54:3)]_FA18:1</td>\n",
       "      <td>[13.85, 13.97, 13.73, 12.99, 14.21, 12.87, 10....</td>\n",
       "    </tr>\n",
       "    <tr>\n",
       "      <th>26</th>\n",
       "      <td>n-7 [TG(55:10),TG(54:3)]_FA18:1</td>\n",
       "      <td>[14.65, 14.77, 12.58, 13.68, 12.21, 13.55, 12....</td>\n",
       "    </tr>\n",
       "    <tr>\n",
       "      <th>35</th>\n",
       "      <td>[TG(55:10),TG(54:3)]_FA18:1</td>\n",
       "      <td>[14.74, 14.86, 14.98, 14.62, 13.64, 13.52, 15....</td>\n",
       "    </tr>\n",
       "  </tbody>\n",
       "</table>\n",
       "</div>"
      ],
      "text/plain": [
       "                               Lipid  \\\n",
       "27                 [TG(50:3)]_FA18:1   \n",
       "28        [TG(51:9),TG(50:2)]_FA18:1   \n",
       "8     n-9 [TG(51:8),TG(50:1)]_FA18:1   \n",
       "17    n-7 [TG(51:8),TG(50:1)]_FA18:1   \n",
       "29        [TG(51:8),TG(50:1)]_FA18:1   \n",
       "30                 [TG(52:4)]_FA18:1   \n",
       "31       [TG(53:10),TG(52:3)]_FA18:1   \n",
       "32        [TG(53:9),TG(52:2)]_FA18:1   \n",
       "9             n-12 [TG(54:5)]_FA18:1   \n",
       "33                 [TG(54:5)]_FA18:1   \n",
       "18             n-9 [TG(54:5)]_FA18:1   \n",
       "24             n-7 [TG(54:5)]_FA18:1   \n",
       "25   n-7 [TG(55:11),TG(54:4)]_FA18:1   \n",
       "34       [TG(55:11),TG(54:4)]_FA18:1   \n",
       "20   n-9 [TG(55:11),TG(54:4)]_FA18:1   \n",
       "10  n-12 [TG(55:11),TG(54:4)]_FA18:1   \n",
       "22   n-9 [TG(55:10),TG(54:3)]_FA18:1   \n",
       "11  n-12 [TG(55:10),TG(54:3)]_FA18:1   \n",
       "26   n-7 [TG(55:10),TG(54:3)]_FA18:1   \n",
       "35       [TG(55:10),TG(54:3)]_FA18:1   \n",
       "\n",
       "                                       Retention_Time  \n",
       "27  [12.58, 11.36, 12.45, 12.7, 12.82, 11.24, 13.9...  \n",
       "28  [13.79, 13.91, 13.67, 14.03, 15.01, 15.13, 14....  \n",
       "8   [14.95, 15.08, 13.86, 13.98, 12.4, 15.2, 12.52...  \n",
       "17  [14.92, 15.05, 12.49, 12.85, 14.07, 13.95, 13....  \n",
       "29  [15.13, 15.01, 15.25, 14.88, 13.91, 15.49, 13....  \n",
       "30  [12.57, 11.23, 11.47, 12.44, 12.69, 11.35, 12....  \n",
       "31  [13.66, 13.78, 13.9, 15.0, 14.88, 13.54, 14.02...  \n",
       "32  [14.99, 14.87, 14.75, 15.12, 13.65, 15.24, 13....  \n",
       "9   [15.19, 11.42, 13.85, 10.81, 12.27, 11.3, 11.1...  \n",
       "33  [12.56, 12.43, 11.34, 11.21, 13.65, 12.68, 11....  \n",
       "18  [12.36, 12.48, 12.61, 12.73, 11.87, 13.58, 13....  \n",
       "24  [12.34, 12.46, 13.56, 13.07, 12.59, 13.44, 13....  \n",
       "25  [13.68, 12.46, 13.56, 11.36, 14.65, 13.43, 11....  \n",
       "34  [13.65, 13.53, 13.77, 14.87, 12.55, 13.89, 11....  \n",
       "20  [12.48, 12.36, 13.7, 13.57, 13.82, 12.6, 13.45...  \n",
       "10  [11.78, 12.63, 13.73, 15.31, 12.88, 12.75, 12....  \n",
       "22  [14.66, 14.79, 13.57, 13.69, 14.91, 15.03, 15....  \n",
       "11  [13.85, 13.97, 13.73, 12.99, 14.21, 12.87, 10....  \n",
       "26  [14.65, 14.77, 12.58, 13.68, 12.21, 13.55, 12....  \n",
       "35  [14.74, 14.86, 14.98, 14.62, 13.64, 13.52, 15....  "
      ]
     },
     "execution_count": 153,
     "metadata": {},
     "output_type": "execute_result"
    }
   ],
   "source": [
    "sorted_df[['Lipid', 'Retention_Time']].head(None)"
   ]
  },
  {
   "cell_type": "code",
   "execution_count": null,
   "metadata": {},
   "outputs": [],
   "source": []
  },
  {
   "cell_type": "code",
   "execution_count": 154,
   "metadata": {},
   "outputs": [
    {
     "name": "stdout",
     "output_type": "stream",
     "text": [
      "Lipid: [TG(50:3)]_FA18:1, Mean Retention Time: 13.002\n",
      "Retention Time: [12.58, 11.36, 12.45, 12.7, 12.82, 11.24, 13.92, 13.79, 14.04, 13.43, 12.94, 13.31, 13.06, 13.67, 13.18, 14.16, 12.33, 13.55, 11.48, 14.28, 14.89, 15.01, 12.21, 14.77, 14.65, 12.09, 14.4, 15.38, 11.97, 14.52, 15.26, 15.13, 11.84, 11.72, 11.6, 11.11, 10.99, 10.75, 10.87, 10.63]\n",
      "________________________________________________________________________________________\n",
      "Lipid: [TG(51:9),TG(50:2)]_FA18:1, Mean Retention Time: 12.998000000000001\n",
      "Retention Time: [13.79, 13.91, 13.67, 14.03, 15.01, 15.13, 14.16, 14.28, 14.4, 15.25, 14.89, 14.52, 15.37, 14.64, 13.55, 14.76, 13.42, 13.3, 12.69, 13.18, 13.06, 12.57, 12.94, 12.45, 12.82, 11.48, 11.35, 12.33, 11.23, 11.96, 12.08, 12.21, 11.72, 11.84, 11.6, 10.62, 11.11, 10.74, 10.99, 10.87]\n",
      "________________________________________________________________________________________\n",
      "Lipid: n-9 [TG(51:8),TG(50:1)]_FA18:1, Mean Retention Time: 13.005121951219511\n",
      "Retention Time: [14.95, 15.08, 13.86, 13.98, 12.4, 15.2, 12.52, 14.22, 15.32, 11.66, 14.1, 15.44, 13.25, 13.74, 14.47, 14.83, 11.54, 11.79, 11.42, 12.15, 11.91, 13.37, 14.35, 14.59, 14.71, 13.13, 12.03, 13.49, 13.61, 12.27, 12.64, 11.3, 12.76, 13.01, 12.88, 10.69, 10.57, 10.81, 11.18, 11.06, 10.93]\n",
      "________________________________________________________________________________________\n",
      "Lipid: n-7 [TG(51:8),TG(50:1)]_FA18:1, Mean Retention Time: 12.974634146341465\n",
      "Retention Time: [14.92, 15.05, 12.49, 12.85, 14.07, 13.95, 13.83, 12.37, 12.97, 15.17, 14.19, 12.61, 13.1, 13.22, 13.46, 13.34, 12.73, 14.31, 13.71, 15.29, 13.58, 15.41, 14.8, 14.44, 14.68, 14.56, 12.24, 11.63, 12.0, 12.12, 11.51, 11.88, 11.39, 11.76, 11.27, 10.78, 11.15, 10.9, 10.66, 11.03, 10.54]\n",
      "________________________________________________________________________________________\n",
      "Lipid: [TG(51:8),TG(50:1)]_FA18:1, Mean Retention Time: 13.055853658536588\n",
      "Retention Time: [15.13, 15.01, 15.25, 14.88, 13.91, 15.49, 13.79, 15.37, 14.03, 14.27, 14.76, 12.45, 14.64, 14.52, 14.4, 14.15, 13.67, 12.57, 13.18, 13.42, 12.81, 13.54, 13.3, 12.93, 13.06, 12.69, 12.2, 12.32, 11.47, 10.86, 11.72, 11.35, 11.23, 10.74, 11.11, 12.08, 10.98, 11.96, 11.84, 10.62, 11.59]\n",
      "________________________________________________________________________________________\n",
      "Lipid: [TG(52:4)]_FA18:1, Mean Retention Time: 13.052926829268293\n",
      "Retention Time: [12.57, 11.23, 11.47, 12.44, 12.69, 11.35, 12.81, 13.78, 13.91, 13.66, 12.93, 13.05, 14.03, 12.32, 13.17, 13.42, 14.88, 14.27, 14.15, 13.54, 13.3, 14.76, 11.59, 15.0, 14.64, 15.12, 15.37, 14.51, 14.39, 15.25, 15.49, 12.2, 11.71, 11.96, 11.83, 11.1, 12.08, 10.98, 10.62, 10.86, 10.74]\n",
      "________________________________________________________________________________________\n",
      "Lipid: [TG(53:10),TG(52:3)]_FA18:1, Mean Retention Time: 13.049024390243902\n",
      "Retention Time: [13.66, 13.78, 13.9, 15.0, 14.88, 13.54, 14.02, 14.27, 12.44, 14.15, 15.12, 12.56, 14.75, 14.39, 15.24, 12.68, 15.36, 14.51, 15.49, 13.41, 14.63, 11.34, 13.17, 13.29, 12.81, 11.22, 13.05, 12.32, 11.47, 12.93, 11.59, 11.71, 12.2, 11.95, 11.83, 11.1, 12.07, 10.61, 10.86, 10.73, 10.98]\n",
      "________________________________________________________________________________________\n",
      "Lipid: [TG(53:9),TG(52:2)]_FA18:1, Mean Retention Time: 13.045365853658536\n",
      "Retention Time: [14.99, 14.87, 14.75, 15.12, 13.65, 15.24, 13.78, 15.36, 15.48, 13.9, 14.26, 14.02, 14.14, 14.63, 14.39, 14.51, 13.53, 12.68, 12.56, 13.05, 12.19, 12.31, 12.44, 11.46, 12.8, 13.41, 13.17, 13.29, 12.92, 12.07, 11.34, 11.22, 11.95, 11.71, 11.1, 11.83, 11.58, 10.73, 10.85, 10.97, 10.61]\n",
      "________________________________________________________________________________________\n",
      "Lipid: n-12 [TG(54:5)]_FA18:1, Mean Retention Time: 13.001951219512193\n",
      "Retention Time: [15.19, 11.42, 13.85, 10.81, 12.27, 11.3, 11.17, 10.57, 14.1, 14.95, 11.91, 12.39, 14.71, 15.32, 14.22, 12.15, 13.98, 11.66, 14.34, 15.07, 13.0, 11.05, 13.25, 14.46, 13.61, 12.03, 13.37, 11.78, 14.83, 12.88, 13.49, 15.44, 10.69, 10.93, 12.51, 14.59, 13.73, 12.64, 11.54, 13.12, 12.76]\n",
      "________________________________________________________________________________________\n",
      "Lipid: [TG(54:5)]_FA18:1, Mean Retention Time: 13.042682926829269\n",
      "Retention Time: [12.56, 12.43, 11.34, 11.21, 13.65, 12.68, 11.46, 13.77, 13.04, 13.16, 12.31, 12.8, 13.29, 13.9, 14.38, 14.26, 12.92, 13.41, 14.02, 13.53, 11.09, 14.14, 10.97, 12.19, 14.75, 11.95, 14.87, 14.99, 15.11, 11.58, 15.24, 15.36, 14.63, 15.48, 14.5, 11.82, 10.85, 12.07, 11.7, 10.61, 10.73]\n",
      "________________________________________________________________________________________\n",
      "Lipid: n-9 [TG(54:5)]_FA18:1, Mean Retention Time: 12.97121951219512\n",
      "Retention Time: [12.36, 12.48, 12.61, 12.73, 11.87, 13.58, 13.95, 14.19, 13.7, 14.92, 12.85, 12.0, 13.21, 13.46, 12.24, 13.09, 15.04, 15.29, 12.97, 13.34, 13.82, 14.31, 11.75, 14.07, 15.16, 11.63, 14.8, 11.02, 11.51, 10.53, 15.41, 11.14, 12.12, 10.9, 14.43, 14.68, 10.78, 14.56, 11.27, 10.66, 11.39]\n",
      "________________________________________________________________________________________\n",
      "Lipid: n-7 [TG(54:5)]_FA18:1, Mean Retention Time: 12.950975609756094\n",
      "Retention Time: [12.34, 12.46, 13.56, 13.07, 12.59, 13.44, 13.68, 14.17, 12.71, 12.95, 13.8, 15.02, 11.98, 13.93, 10.76, 12.1, 13.19, 13.32, 12.22, 11.85, 15.39, 15.27, 14.9, 11.25, 14.78, 10.51, 12.83, 11.49, 11.12, 14.05, 14.66, 10.64, 14.29, 15.14, 11.73, 11.0, 11.37, 11.61, 10.88, 14.53, 14.41]\n",
      "________________________________________________________________________________________\n",
      "Lipid: n-7 [TG(55:11),TG(54:4)]_FA18:1, Mean Retention Time: 12.947317073170732\n",
      "Retention Time: [13.68, 12.46, 13.56, 11.36, 14.65, 13.43, 11.73, 12.58, 12.34, 14.78, 13.8, 11.97, 11.49, 11.24, 11.85, 13.92, 14.04, 14.9, 11.61, 15.02, 12.22, 14.17, 12.83, 15.14, 12.7, 12.09, 11.12, 14.29, 13.07, 14.53, 13.19, 12.95, 15.26, 14.41, 11.0, 13.31, 15.38, 10.88, 10.51, 10.75, 10.63]\n",
      "________________________________________________________________________________________\n",
      "Lipid: [TG(55:11),TG(54:4)]_FA18:1, Mean Retention Time: 13.039024390243902\n",
      "Retention Time: [13.65, 13.53, 13.77, 14.87, 12.55, 13.89, 11.21, 11.33, 14.74, 12.43, 14.01, 14.26, 14.99, 14.14, 12.31, 13.4, 11.46, 15.11, 14.38, 15.35, 15.23, 14.62, 12.67, 15.48, 14.5, 13.04, 13.16, 12.8, 13.28, 12.92, 12.19, 11.09, 11.58, 10.97, 11.7, 11.94, 11.82, 10.85, 12.06, 10.72, 10.6]\n",
      "________________________________________________________________________________________\n",
      "Lipid: n-9 [TG(55:11),TG(54:4)]_FA18:1, Mean Retention Time: 12.964634146341465\n",
      "Retention Time: [12.48, 12.36, 13.7, 13.57, 13.82, 12.6, 13.45, 13.94, 14.18, 14.06, 11.75, 14.3, 14.67, 14.91, 14.79, 12.72, 15.28, 15.04, 14.43, 13.09, 12.84, 15.4, 12.23, 15.16, 14.55, 11.99, 13.33, 12.96, 10.77, 10.53, 10.89, 11.87, 11.5, 11.62, 11.14, 11.26, 13.21, 12.11, 11.38, 10.65, 11.02]\n",
      "________________________________________________________________________________________\n",
      "Lipid: n-12 [TG(55:11),TG(54:4)]_FA18:1, Mean Retention Time: 12.998048780487803\n",
      "Retention Time: [11.78, 12.63, 13.73, 15.31, 12.88, 12.75, 12.51, 13.24, 13.85, 11.66, 13.49, 10.56, 13.61, 12.02, 12.27, 13.36, 15.43, 14.09, 13.0, 13.97, 15.07, 14.22, 12.39, 11.05, 11.9, 13.12, 11.41, 10.93, 14.7, 11.29, 10.68, 14.34, 14.83, 12.15, 15.19, 14.46, 14.95, 11.54, 10.81, 14.58, 11.17]\n",
      "________________________________________________________________________________________\n",
      "Lipid: n-9 [TG(55:10),TG(54:3)]_FA18:1, Mean Retention Time: 12.957560975609756\n",
      "Retention Time: [14.66, 14.79, 13.57, 13.69, 14.91, 15.03, 15.15, 13.81, 15.27, 15.39, 14.54, 13.45, 13.93, 11.37, 12.23, 12.47, 14.18, 11.5, 12.59, 12.96, 12.1, 12.35, 14.05, 13.08, 11.25, 14.3, 11.13, 12.84, 11.62, 14.42, 12.71, 11.74, 13.32, 11.98, 11.01, 13.2, 11.86, 10.52, 10.76, 10.89, 10.64]\n",
      "________________________________________________________________________________________\n",
      "Lipid: n-12 [TG(55:10),TG(54:3)]_FA18:1, Mean Retention Time: 12.994878048780487\n",
      "Retention Time: [13.85, 13.97, 13.73, 12.99, 14.21, 12.87, 10.68, 10.8, 14.09, 10.56, 14.94, 11.41, 11.29, 14.82, 13.12, 15.07, 11.53, 11.05, 10.92, 11.17, 15.19, 13.6, 13.36, 15.31, 14.34, 15.43, 12.63, 12.75, 12.51, 13.48, 12.14, 13.24, 14.46, 12.26, 14.7, 11.65, 11.9, 14.58, 11.78, 12.02, 12.39]\n",
      "________________________________________________________________________________________\n",
      "Lipid: n-7 [TG(55:10),TG(54:3)]_FA18:1, Mean Retention Time: 12.94439024390244\n",
      "Retention Time: [14.65, 14.77, 12.58, 13.68, 12.21, 13.55, 12.94, 14.89, 13.07, 14.53, 13.8, 12.7, 13.92, 12.09, 15.02, 12.82, 12.34, 14.04, 12.46, 13.43, 14.16, 15.14, 13.19, 15.26, 14.28, 15.38, 13.31, 14.41, 11.97, 11.48, 11.36, 11.24, 11.85, 11.73, 10.99, 11.12, 11.6, 10.87, 10.51, 10.75, 10.63]\n",
      "________________________________________________________________________________________\n",
      "Lipid: [TG(55:10),TG(54:3)]_FA18:1, Mean Retention Time: 13.03536585365854\n",
      "Retention Time: [14.74, 14.86, 14.98, 14.62, 13.64, 13.52, 15.11, 15.23, 15.35, 13.77, 15.47, 12.43, 13.89, 12.55, 14.5, 14.25, 14.13, 14.01, 13.4, 14.38, 12.67, 11.33, 12.18, 11.21, 12.3, 11.45, 12.91, 12.79, 13.04, 13.16, 13.28, 12.06, 11.7, 11.09, 10.96, 10.84, 11.94, 10.72, 10.6, 11.82, 11.57]\n",
      "________________________________________________________________________________________\n"
     ]
    }
   ],
   "source": [
    "# for index, row in sorted_df.iterrows():\n",
    "#     print(f\"Lipid: {row['Lipid']}, Mean Retention Time: {row['Mean_Retention_Time']}\")\n",
    "\n",
    "for index, row in sorted_df.iterrows():\n",
    "    print(f\"Lipid: {row['Lipid']}, Mean Retention Time: {row['Mean_Retention_Time']}\")\n",
    "    print(f\"Retention Time: {row['Retention_Time']}\")\n",
    "    print('________________________________________________________________________________________')"
   ]
  },
  {
   "cell_type": "code",
   "execution_count": 155,
   "metadata": {},
   "outputs": [
    {
     "data": {
      "text/html": [
       "<div>\n",
       "<style scoped>\n",
       "    .dataframe tbody tr th:only-of-type {\n",
       "        vertical-align: middle;\n",
       "    }\n",
       "\n",
       "    .dataframe tbody tr th {\n",
       "        vertical-align: top;\n",
       "    }\n",
       "\n",
       "    .dataframe thead th {\n",
       "        text-align: right;\n",
       "    }\n",
       "</style>\n",
       "<table border=\"1\" class=\"dataframe\">\n",
       "  <thead>\n",
       "    <tr style=\"text-align: right;\">\n",
       "      <th></th>\n",
       "      <th>Lipid</th>\n",
       "      <th>MRM Identity</th>\n",
       "      <th>MRM Transition</th>\n",
       "      <th>Retention Time</th>\n",
       "    </tr>\n",
       "  </thead>\n",
       "  <tbody>\n",
       "    <tr>\n",
       "      <th>0</th>\n",
       "      <td>TG 50:1</td>\n",
       "      <td>TG 50:1_FA 18:1n-9</td>\n",
       "      <td>740.8 -&gt; 551.6</td>\n",
       "      <td>15.1</td>\n",
       "    </tr>\n",
       "    <tr>\n",
       "      <th>1</th>\n",
       "      <td>TG 50:1</td>\n",
       "      <td>TG 50:1_FA 18:1n-7</td>\n",
       "      <td>768.8 -&gt; 551.6</td>\n",
       "      <td>15.1</td>\n",
       "    </tr>\n",
       "    <tr>\n",
       "      <th>2</th>\n",
       "      <td>TG 50:2</td>\n",
       "      <td>TG 50:2_FA 18:1n-9</td>\n",
       "      <td>740.8 -&gt; 549.6</td>\n",
       "      <td>13.8</td>\n",
       "    </tr>\n",
       "    <tr>\n",
       "      <th>3</th>\n",
       "      <td>TG 50:2</td>\n",
       "      <td>TG 50:2_FA 18:1n-7</td>\n",
       "      <td>768.8 -&gt; 549.6</td>\n",
       "      <td>13.8</td>\n",
       "    </tr>\n",
       "    <tr>\n",
       "      <th>4</th>\n",
       "      <td>TG 52:2</td>\n",
       "      <td>TG 52:2_FA 18:1n-9</td>\n",
       "      <td>766.8 -&gt; 577.6</td>\n",
       "      <td>14.9</td>\n",
       "    </tr>\n",
       "    <tr>\n",
       "      <th>5</th>\n",
       "      <td>TG 52:2</td>\n",
       "      <td>TG 52:2_FA 18:1n-7</td>\n",
       "      <td>794.8 -&gt; 577.6</td>\n",
       "      <td>15.0</td>\n",
       "    </tr>\n",
       "    <tr>\n",
       "      <th>6</th>\n",
       "      <td>TG 52:3</td>\n",
       "      <td>TG 52:3_FA 18:1n-12</td>\n",
       "      <td>722.7 -&gt; 575.6</td>\n",
       "      <td>NaN</td>\n",
       "    </tr>\n",
       "    <tr>\n",
       "      <th>7</th>\n",
       "      <td>TG 52:3</td>\n",
       "      <td>TG 52:3_FA 18:1n-9</td>\n",
       "      <td>764.8 -&gt; 575.6</td>\n",
       "      <td>13.7</td>\n",
       "    </tr>\n",
       "    <tr>\n",
       "      <th>8</th>\n",
       "      <td>TG 52:3</td>\n",
       "      <td>TG 52:3_FA 18:1n-7</td>\n",
       "      <td>792.8 -&gt; 575.6</td>\n",
       "      <td>13.7</td>\n",
       "    </tr>\n",
       "    <tr>\n",
       "      <th>9</th>\n",
       "      <td>TG 52:4</td>\n",
       "      <td>TG 52:4_FA 18:1n-9</td>\n",
       "      <td>762.8 -&gt; 573.6</td>\n",
       "      <td>12.5</td>\n",
       "    </tr>\n",
       "    <tr>\n",
       "      <th>10</th>\n",
       "      <td>TG 52:4</td>\n",
       "      <td>TG 52:4_FA 18:1n-7</td>\n",
       "      <td>790.8 -&gt; 573.6</td>\n",
       "      <td>12.5</td>\n",
       "    </tr>\n",
       "    <tr>\n",
       "      <th>11</th>\n",
       "      <td>TG 54:3</td>\n",
       "      <td>TG 54:3_FA 18:1n-9</td>\n",
       "      <td>792.8 -&gt; 603.6</td>\n",
       "      <td>14.9</td>\n",
       "    </tr>\n",
       "    <tr>\n",
       "      <th>12</th>\n",
       "      <td>TG 54:3</td>\n",
       "      <td>TG 54:3_FA 18:1n-7</td>\n",
       "      <td>820.8 -&gt; 603.6</td>\n",
       "      <td>14.8</td>\n",
       "    </tr>\n",
       "    <tr>\n",
       "      <th>13</th>\n",
       "      <td>TG 54:4</td>\n",
       "      <td>TG 54:4_FA 18:1n-9</td>\n",
       "      <td>790.8 -&gt; 601.6</td>\n",
       "      <td>13.6</td>\n",
       "    </tr>\n",
       "    <tr>\n",
       "      <th>14</th>\n",
       "      <td>TG 54:4</td>\n",
       "      <td>TG 54:4_FA 18:1n-7</td>\n",
       "      <td>818.8 -&gt; 601.6</td>\n",
       "      <td>13.7</td>\n",
       "    </tr>\n",
       "    <tr>\n",
       "      <th>15</th>\n",
       "      <td>TG 54:5</td>\n",
       "      <td>TG 54:5_FA 18:1n-7</td>\n",
       "      <td>816.8 -&gt; 599.6</td>\n",
       "      <td>12.6</td>\n",
       "    </tr>\n",
       "    <tr>\n",
       "      <th>16</th>\n",
       "      <td>TG 54:5</td>\n",
       "      <td>TG 54:5_FA 18:1n-9</td>\n",
       "      <td>788.8 -&gt; 599.6</td>\n",
       "      <td>12.6</td>\n",
       "    </tr>\n",
       "  </tbody>\n",
       "</table>\n",
       "</div>"
      ],
      "text/plain": [
       "      Lipid         MRM Identity  MRM Transition  Retention Time\n",
       "0   TG 50:1   TG 50:1_FA 18:1n-9  740.8 -> 551.6            15.1\n",
       "1   TG 50:1   TG 50:1_FA 18:1n-7  768.8 -> 551.6            15.1\n",
       "2   TG 50:2   TG 50:2_FA 18:1n-9  740.8 -> 549.6            13.8\n",
       "3   TG 50:2   TG 50:2_FA 18:1n-7  768.8 -> 549.6            13.8\n",
       "4   TG 52:2   TG 52:2_FA 18:1n-9  766.8 -> 577.6            14.9\n",
       "5   TG 52:2   TG 52:2_FA 18:1n-7  794.8 -> 577.6            15.0\n",
       "6   TG 52:3  TG 52:3_FA 18:1n-12  722.7 -> 575.6             NaN\n",
       "7   TG 52:3   TG 52:3_FA 18:1n-9  764.8 -> 575.6            13.7\n",
       "8   TG 52:3   TG 52:3_FA 18:1n-7  792.8 -> 575.6            13.7\n",
       "9   TG 52:4   TG 52:4_FA 18:1n-9  762.8 -> 573.6            12.5\n",
       "10  TG 52:4   TG 52:4_FA 18:1n-7  790.8 -> 573.6            12.5\n",
       "11  TG 54:3   TG 54:3_FA 18:1n-9  792.8 -> 603.6            14.9\n",
       "12  TG 54:3   TG 54:3_FA 18:1n-7  820.8 -> 603.6            14.8\n",
       "13  TG 54:4   TG 54:4_FA 18:1n-9  790.8 -> 601.6            13.6\n",
       "14  TG 54:4   TG 54:4_FA 18:1n-7  818.8 -> 601.6            13.7\n",
       "15  TG 54:5   TG 54:5_FA 18:1n-7  816.8 -> 599.6            12.6\n",
       "16  TG 54:5   TG 54:5_FA 18:1n-9  788.8 -> 599.6            12.6"
      ]
     },
     "execution_count": 155,
     "metadata": {},
     "output_type": "execute_result"
    }
   ],
   "source": [
    "data = {\n",
    "    \"Lipid\": [\"TG 50:1\", \"TG 50:1\", \"TG 50:2\", \"TG 50:2\", \"TG 52:2\", \"TG 52:2\", \"TG 52:3\", \"TG 52:3\", \"TG 52:3\", \"TG 52:4\", \"TG 52:4\", \"TG 54:3\", \"TG 54:3\", \"TG 54:4\", \"TG 54:4\", \"TG 54:5\", \"TG 54:5\"],\n",
    "    \"MRM Identity\": [\"TG 50:1_FA 18:1n-9\", \"TG 50:1_FA 18:1n-7\", \"TG 50:2_FA 18:1n-9\", \"TG 50:2_FA 18:1n-7\", \"TG 52:2_FA 18:1n-9\", \"TG 52:2_FA 18:1n-7\", \"TG 52:3_FA 18:1n-12\", \"TG 52:3_FA 18:1n-9\", \"TG 52:3_FA 18:1n-7\", \"TG 52:4_FA 18:1n-9\", \"TG 52:4_FA 18:1n-7\", \"TG 54:3_FA 18:1n-9\", \"TG 54:3_FA 18:1n-7\", \"TG 54:4_FA 18:1n-9\", \"TG 54:4_FA 18:1n-7\", \"TG 54:5_FA 18:1n-7\", \"TG 54:5_FA 18:1n-9\"],\n",
    "    \"MRM Transition\": [\"740.8 -> 551.6\", \"768.8 -> 551.6\", \"740.8 -> 549.6\", \"768.8 -> 549.6\", \"766.8 -> 577.6\", \"794.8 -> 577.6\", \"722.7 -> 575.6\", \"764.8 -> 575.6\", \"792.8 -> 575.6\", \"762.8 -> 573.6\", \"790.8 -> 573.6\", \"792.8 -> 603.6\", \"820.8 -> 603.6\", \"790.8 -> 601.6\", \"818.8 -> 601.6\", \"816.8 -> 599.6\", \"788.8 -> 599.6\"],\n",
    "    \"Retention Time\": [15.1, 15.1, 13.8, 13.8, 14.9, 15.0, np.nan, 13.7, 13.7, 12.5, 12.5, 14.9, 14.8, 13.6, 13.7, 12.6, 12.6]\n",
    "}\n",
    "\n",
    "C_df = pd.DataFrame(data)\n",
    "\n",
    "C_df.head(None)\n"
   ]
  },
  {
   "cell_type": "code",
   "execution_count": 156,
   "metadata": {},
   "outputs": [
    {
     "data": {
      "application/vnd.plotly.v1+json": {
       "config": {
        "plotlyServerURL": "https://plot.ly"
       },
       "data": [
        {
         "hovertext": [
          "TG 50:1"
         ],
         "marker": {
          "color": "red"
         },
         "mode": "markers",
         "name": "740.8 -> 551.6",
         "type": "scatter",
         "x": [
          "740.8 -> 551.6"
         ],
         "y": [
          15.1
         ]
        },
        {
         "hovertext": [
          "TG 50:1"
         ],
         "marker": {
          "color": "red"
         },
         "mode": "markers",
         "name": "768.8 -> 551.6",
         "type": "scatter",
         "x": [
          "768.8 -> 551.6"
         ],
         "y": [
          15.1
         ]
        },
        {
         "hovertext": [
          "TG 50:2"
         ],
         "marker": {
          "color": "red"
         },
         "mode": "markers",
         "name": "740.8 -> 549.6",
         "type": "scatter",
         "x": [
          "740.8 -> 549.6"
         ],
         "y": [
          13.8
         ]
        },
        {
         "hovertext": [
          "TG 50:2"
         ],
         "marker": {
          "color": "red"
         },
         "mode": "markers",
         "name": "768.8 -> 549.6",
         "type": "scatter",
         "x": [
          "768.8 -> 549.6"
         ],
         "y": [
          13.8
         ]
        },
        {
         "hovertext": [
          "TG 52:2"
         ],
         "marker": {
          "color": "red"
         },
         "mode": "markers",
         "name": "766.8 -> 577.6",
         "type": "scatter",
         "x": [
          "766.8 -> 577.6"
         ],
         "y": [
          14.9
         ]
        },
        {
         "hovertext": [
          "TG 52:2"
         ],
         "marker": {
          "color": "red"
         },
         "mode": "markers",
         "name": "794.8 -> 577.6",
         "type": "scatter",
         "x": [
          "794.8 -> 577.6"
         ],
         "y": [
          15
         ]
        },
        {
         "hovertext": [
          "TG 52:3"
         ],
         "marker": {
          "color": "red"
         },
         "mode": "markers",
         "name": "722.7 -> 575.6",
         "type": "scatter",
         "x": [
          "722.7 -> 575.6"
         ],
         "y": [
          null
         ]
        },
        {
         "hovertext": [
          "TG 52:3"
         ],
         "marker": {
          "color": "red"
         },
         "mode": "markers",
         "name": "764.8 -> 575.6",
         "type": "scatter",
         "x": [
          "764.8 -> 575.6"
         ],
         "y": [
          13.7
         ]
        },
        {
         "hovertext": [
          "TG 52:3"
         ],
         "marker": {
          "color": "red"
         },
         "mode": "markers",
         "name": "792.8 -> 575.6",
         "type": "scatter",
         "x": [
          "792.8 -> 575.6"
         ],
         "y": [
          13.7
         ]
        },
        {
         "hovertext": [
          "TG 52:4"
         ],
         "marker": {
          "color": "red"
         },
         "mode": "markers",
         "name": "762.8 -> 573.6",
         "type": "scatter",
         "x": [
          "762.8 -> 573.6"
         ],
         "y": [
          12.5
         ]
        },
        {
         "hovertext": [
          "TG 52:4"
         ],
         "marker": {
          "color": "red"
         },
         "mode": "markers",
         "name": "790.8 -> 573.6",
         "type": "scatter",
         "x": [
          "790.8 -> 573.6"
         ],
         "y": [
          12.5
         ]
        },
        {
         "hovertext": [
          "TG 54:3"
         ],
         "marker": {
          "color": "red"
         },
         "mode": "markers",
         "name": "792.8 -> 603.6",
         "type": "scatter",
         "x": [
          "792.8 -> 603.6"
         ],
         "y": [
          14.9
         ]
        },
        {
         "hovertext": [
          "TG 54:3"
         ],
         "marker": {
          "color": "red"
         },
         "mode": "markers",
         "name": "820.8 -> 603.6",
         "type": "scatter",
         "x": [
          "820.8 -> 603.6"
         ],
         "y": [
          14.8
         ]
        },
        {
         "hovertext": [
          "TG 54:4"
         ],
         "marker": {
          "color": "red"
         },
         "mode": "markers",
         "name": "790.8 -> 601.6",
         "type": "scatter",
         "x": [
          "790.8 -> 601.6"
         ],
         "y": [
          13.6
         ]
        },
        {
         "hovertext": [
          "TG 54:4"
         ],
         "marker": {
          "color": "red"
         },
         "mode": "markers",
         "name": "818.8 -> 601.6",
         "type": "scatter",
         "x": [
          "818.8 -> 601.6"
         ],
         "y": [
          13.7
         ]
        },
        {
         "hovertext": [
          "TG 54:5"
         ],
         "marker": {
          "color": "red"
         },
         "mode": "markers",
         "name": "816.8 -> 599.6",
         "type": "scatter",
         "x": [
          "816.8 -> 599.6"
         ],
         "y": [
          12.6
         ]
        },
        {
         "hovertext": [
          "TG 54:5"
         ],
         "marker": {
          "color": "red"
         },
         "mode": "markers",
         "name": "788.8 -> 599.6",
         "type": "scatter",
         "x": [
          "788.8 -> 599.6"
         ],
         "y": [
          12.6
         ]
        },
        {
         "hovertext": [
          "[TG(50:3)]_FA18:1"
         ],
         "marker": {
          "color": "blue"
         },
         "mode": "markers",
         "name": "846.8 -> 547.6",
         "type": "scatter",
         "x": [
          "846.8 -> 547.6"
         ],
         "y": [
          13.002
         ]
        },
        {
         "hovertext": [
          "[TG(51:9),TG(50:2)]_FA18:1"
         ],
         "marker": {
          "color": "blue"
         },
         "mode": "markers",
         "name": "848.8 -> 549.6",
         "type": "scatter",
         "x": [
          "848.8 -> 549.6"
         ],
         "y": [
          12.998000000000001
         ]
        },
        {
         "hovertext": [
          "n-9 [TG(51:8),TG(50:1)]_FA18:1"
         ],
         "marker": {
          "color": "blue"
         },
         "mode": "markers",
         "name": "740.8 -> 551.6",
         "type": "scatter",
         "x": [
          "740.8 -> 551.6"
         ],
         "y": [
          13.005121951219511
         ]
        },
        {
         "hovertext": [
          "n-7 [TG(51:8),TG(50:1)]_FA18:1"
         ],
         "marker": {
          "color": "blue"
         },
         "mode": "markers",
         "name": "768.8 -> 551.6",
         "type": "scatter",
         "x": [
          "768.8 -> 551.6"
         ],
         "y": [
          12.974634146341465
         ]
        },
        {
         "hovertext": [
          "[TG(51:8),TG(50:1)]_FA18:1"
         ],
         "marker": {
          "color": "blue"
         },
         "mode": "markers",
         "name": "850.8 -> 551.6",
         "type": "scatter",
         "x": [
          "850.8 -> 551.6"
         ],
         "y": [
          13.055853658536588
         ]
        },
        {
         "hovertext": [
          "[TG(52:4)]_FA18:1"
         ],
         "marker": {
          "color": "blue"
         },
         "mode": "markers",
         "name": "872.8 -> 573.6",
         "type": "scatter",
         "x": [
          "872.8 -> 573.6"
         ],
         "y": [
          13.052926829268293
         ]
        },
        {
         "hovertext": [
          "[TG(53:10),TG(52:3)]_FA18:1"
         ],
         "marker": {
          "color": "blue"
         },
         "mode": "markers",
         "name": "874.8 -> 575.6",
         "type": "scatter",
         "x": [
          "874.8 -> 575.6"
         ],
         "y": [
          13.049024390243902
         ]
        },
        {
         "hovertext": [
          "[TG(53:9),TG(52:2)]_FA18:1"
         ],
         "marker": {
          "color": "blue"
         },
         "mode": "markers",
         "name": "876.8 -> 577.6",
         "type": "scatter",
         "x": [
          "876.8 -> 577.6"
         ],
         "y": [
          13.045365853658536
         ]
        },
        {
         "hovertext": [
          "n-12 [TG(54:5)]_FA18:1"
         ],
         "marker": {
          "color": "blue"
         },
         "mode": "markers",
         "name": "746.8 -> 599.6",
         "type": "scatter",
         "x": [
          "746.8 -> 599.6"
         ],
         "y": [
          13.001951219512193
         ]
        },
        {
         "hovertext": [
          "[TG(54:5)]_FA18:1"
         ],
         "marker": {
          "color": "blue"
         },
         "mode": "markers",
         "name": "898.8 -> 599.6",
         "type": "scatter",
         "x": [
          "898.8 -> 599.6"
         ],
         "y": [
          13.042682926829269
         ]
        },
        {
         "hovertext": [
          "n-9 [TG(54:5)]_FA18:1"
         ],
         "marker": {
          "color": "blue"
         },
         "mode": "markers",
         "name": "788.8 -> 599.6",
         "type": "scatter",
         "x": [
          "788.8 -> 599.6"
         ],
         "y": [
          12.97121951219512
         ]
        },
        {
         "hovertext": [
          "n-7 [TG(54:5)]_FA18:1"
         ],
         "marker": {
          "color": "blue"
         },
         "mode": "markers",
         "name": "816.8 -> 599.6",
         "type": "scatter",
         "x": [
          "816.8 -> 599.6"
         ],
         "y": [
          12.950975609756094
         ]
        },
        {
         "hovertext": [
          "n-7 [TG(55:11),TG(54:4)]_FA18:1"
         ],
         "marker": {
          "color": "blue"
         },
         "mode": "markers",
         "name": "818.8 -> 601.6",
         "type": "scatter",
         "x": [
          "818.8 -> 601.6"
         ],
         "y": [
          12.947317073170732
         ]
        },
        {
         "hovertext": [
          "[TG(55:11),TG(54:4)]_FA18:1"
         ],
         "marker": {
          "color": "blue"
         },
         "mode": "markers",
         "name": "900.8 -> 601.6",
         "type": "scatter",
         "x": [
          "900.8 -> 601.6"
         ],
         "y": [
          13.039024390243902
         ]
        },
        {
         "hovertext": [
          "n-9 [TG(55:11),TG(54:4)]_FA18:1"
         ],
         "marker": {
          "color": "blue"
         },
         "mode": "markers",
         "name": "790.8 -> 601.6",
         "type": "scatter",
         "x": [
          "790.8 -> 601.6"
         ],
         "y": [
          12.964634146341465
         ]
        },
        {
         "hovertext": [
          "n-12 [TG(55:11),TG(54:4)]_FA18:1"
         ],
         "marker": {
          "color": "blue"
         },
         "mode": "markers",
         "name": "748.8 -> 601.6",
         "type": "scatter",
         "x": [
          "748.8 -> 601.6"
         ],
         "y": [
          12.998048780487803
         ]
        },
        {
         "hovertext": [
          "n-9 [TG(55:10),TG(54:3)]_FA18:1"
         ],
         "marker": {
          "color": "blue"
         },
         "mode": "markers",
         "name": "792.8 -> 603.6",
         "type": "scatter",
         "x": [
          "792.8 -> 603.6"
         ],
         "y": [
          12.957560975609756
         ]
        },
        {
         "hovertext": [
          "n-12 [TG(55:10),TG(54:3)]_FA18:1"
         ],
         "marker": {
          "color": "blue"
         },
         "mode": "markers",
         "name": "750.8 -> 603.6",
         "type": "scatter",
         "x": [
          "750.8 -> 603.6"
         ],
         "y": [
          12.994878048780487
         ]
        },
        {
         "hovertext": [
          "n-7 [TG(55:10),TG(54:3)]_FA18:1"
         ],
         "marker": {
          "color": "blue"
         },
         "mode": "markers",
         "name": "820.8 -> 603.6",
         "type": "scatter",
         "x": [
          "820.8 -> 603.6"
         ],
         "y": [
          12.94439024390244
         ]
        },
        {
         "hovertext": [
          "[TG(55:10),TG(54:3)]_FA18:1"
         ],
         "marker": {
          "color": "blue"
         },
         "mode": "markers",
         "name": "902.8 -> 603.6",
         "type": "scatter",
         "x": [
          "902.8 -> 603.6"
         ],
         "y": [
          13.03536585365854
         ]
        }
       ],
       "layout": {
        "template": {
         "data": {
          "bar": [
           {
            "error_x": {
             "color": "#2a3f5f"
            },
            "error_y": {
             "color": "#2a3f5f"
            },
            "marker": {
             "line": {
              "color": "#E5ECF6",
              "width": 0.5
             }
            },
            "type": "bar"
           }
          ],
          "barpolar": [
           {
            "marker": {
             "line": {
              "color": "#E5ECF6",
              "width": 0.5
             }
            },
            "type": "barpolar"
           }
          ],
          "carpet": [
           {
            "aaxis": {
             "endlinecolor": "#2a3f5f",
             "gridcolor": "white",
             "linecolor": "white",
             "minorgridcolor": "white",
             "startlinecolor": "#2a3f5f"
            },
            "baxis": {
             "endlinecolor": "#2a3f5f",
             "gridcolor": "white",
             "linecolor": "white",
             "minorgridcolor": "white",
             "startlinecolor": "#2a3f5f"
            },
            "type": "carpet"
           }
          ],
          "choropleth": [
           {
            "colorbar": {
             "outlinewidth": 0,
             "ticks": ""
            },
            "type": "choropleth"
           }
          ],
          "contour": [
           {
            "colorbar": {
             "outlinewidth": 0,
             "ticks": ""
            },
            "colorscale": [
             [
              0,
              "#0d0887"
             ],
             [
              0.1111111111111111,
              "#46039f"
             ],
             [
              0.2222222222222222,
              "#7201a8"
             ],
             [
              0.3333333333333333,
              "#9c179e"
             ],
             [
              0.4444444444444444,
              "#bd3786"
             ],
             [
              0.5555555555555556,
              "#d8576b"
             ],
             [
              0.6666666666666666,
              "#ed7953"
             ],
             [
              0.7777777777777778,
              "#fb9f3a"
             ],
             [
              0.8888888888888888,
              "#fdca26"
             ],
             [
              1,
              "#f0f921"
             ]
            ],
            "type": "contour"
           }
          ],
          "contourcarpet": [
           {
            "colorbar": {
             "outlinewidth": 0,
             "ticks": ""
            },
            "type": "contourcarpet"
           }
          ],
          "heatmap": [
           {
            "colorbar": {
             "outlinewidth": 0,
             "ticks": ""
            },
            "colorscale": [
             [
              0,
              "#0d0887"
             ],
             [
              0.1111111111111111,
              "#46039f"
             ],
             [
              0.2222222222222222,
              "#7201a8"
             ],
             [
              0.3333333333333333,
              "#9c179e"
             ],
             [
              0.4444444444444444,
              "#bd3786"
             ],
             [
              0.5555555555555556,
              "#d8576b"
             ],
             [
              0.6666666666666666,
              "#ed7953"
             ],
             [
              0.7777777777777778,
              "#fb9f3a"
             ],
             [
              0.8888888888888888,
              "#fdca26"
             ],
             [
              1,
              "#f0f921"
             ]
            ],
            "type": "heatmap"
           }
          ],
          "heatmapgl": [
           {
            "colorbar": {
             "outlinewidth": 0,
             "ticks": ""
            },
            "colorscale": [
             [
              0,
              "#0d0887"
             ],
             [
              0.1111111111111111,
              "#46039f"
             ],
             [
              0.2222222222222222,
              "#7201a8"
             ],
             [
              0.3333333333333333,
              "#9c179e"
             ],
             [
              0.4444444444444444,
              "#bd3786"
             ],
             [
              0.5555555555555556,
              "#d8576b"
             ],
             [
              0.6666666666666666,
              "#ed7953"
             ],
             [
              0.7777777777777778,
              "#fb9f3a"
             ],
             [
              0.8888888888888888,
              "#fdca26"
             ],
             [
              1,
              "#f0f921"
             ]
            ],
            "type": "heatmapgl"
           }
          ],
          "histogram": [
           {
            "marker": {
             "colorbar": {
              "outlinewidth": 0,
              "ticks": ""
             }
            },
            "type": "histogram"
           }
          ],
          "histogram2d": [
           {
            "colorbar": {
             "outlinewidth": 0,
             "ticks": ""
            },
            "colorscale": [
             [
              0,
              "#0d0887"
             ],
             [
              0.1111111111111111,
              "#46039f"
             ],
             [
              0.2222222222222222,
              "#7201a8"
             ],
             [
              0.3333333333333333,
              "#9c179e"
             ],
             [
              0.4444444444444444,
              "#bd3786"
             ],
             [
              0.5555555555555556,
              "#d8576b"
             ],
             [
              0.6666666666666666,
              "#ed7953"
             ],
             [
              0.7777777777777778,
              "#fb9f3a"
             ],
             [
              0.8888888888888888,
              "#fdca26"
             ],
             [
              1,
              "#f0f921"
             ]
            ],
            "type": "histogram2d"
           }
          ],
          "histogram2dcontour": [
           {
            "colorbar": {
             "outlinewidth": 0,
             "ticks": ""
            },
            "colorscale": [
             [
              0,
              "#0d0887"
             ],
             [
              0.1111111111111111,
              "#46039f"
             ],
             [
              0.2222222222222222,
              "#7201a8"
             ],
             [
              0.3333333333333333,
              "#9c179e"
             ],
             [
              0.4444444444444444,
              "#bd3786"
             ],
             [
              0.5555555555555556,
              "#d8576b"
             ],
             [
              0.6666666666666666,
              "#ed7953"
             ],
             [
              0.7777777777777778,
              "#fb9f3a"
             ],
             [
              0.8888888888888888,
              "#fdca26"
             ],
             [
              1,
              "#f0f921"
             ]
            ],
            "type": "histogram2dcontour"
           }
          ],
          "mesh3d": [
           {
            "colorbar": {
             "outlinewidth": 0,
             "ticks": ""
            },
            "type": "mesh3d"
           }
          ],
          "parcoords": [
           {
            "line": {
             "colorbar": {
              "outlinewidth": 0,
              "ticks": ""
             }
            },
            "type": "parcoords"
           }
          ],
          "pie": [
           {
            "automargin": true,
            "type": "pie"
           }
          ],
          "scatter": [
           {
            "marker": {
             "colorbar": {
              "outlinewidth": 0,
              "ticks": ""
             }
            },
            "type": "scatter"
           }
          ],
          "scatter3d": [
           {
            "line": {
             "colorbar": {
              "outlinewidth": 0,
              "ticks": ""
             }
            },
            "marker": {
             "colorbar": {
              "outlinewidth": 0,
              "ticks": ""
             }
            },
            "type": "scatter3d"
           }
          ],
          "scattercarpet": [
           {
            "marker": {
             "colorbar": {
              "outlinewidth": 0,
              "ticks": ""
             }
            },
            "type": "scattercarpet"
           }
          ],
          "scattergeo": [
           {
            "marker": {
             "colorbar": {
              "outlinewidth": 0,
              "ticks": ""
             }
            },
            "type": "scattergeo"
           }
          ],
          "scattergl": [
           {
            "marker": {
             "colorbar": {
              "outlinewidth": 0,
              "ticks": ""
             }
            },
            "type": "scattergl"
           }
          ],
          "scattermapbox": [
           {
            "marker": {
             "colorbar": {
              "outlinewidth": 0,
              "ticks": ""
             }
            },
            "type": "scattermapbox"
           }
          ],
          "scatterpolar": [
           {
            "marker": {
             "colorbar": {
              "outlinewidth": 0,
              "ticks": ""
             }
            },
            "type": "scatterpolar"
           }
          ],
          "scatterpolargl": [
           {
            "marker": {
             "colorbar": {
              "outlinewidth": 0,
              "ticks": ""
             }
            },
            "type": "scatterpolargl"
           }
          ],
          "scatterternary": [
           {
            "marker": {
             "colorbar": {
              "outlinewidth": 0,
              "ticks": ""
             }
            },
            "type": "scatterternary"
           }
          ],
          "surface": [
           {
            "colorbar": {
             "outlinewidth": 0,
             "ticks": ""
            },
            "colorscale": [
             [
              0,
              "#0d0887"
             ],
             [
              0.1111111111111111,
              "#46039f"
             ],
             [
              0.2222222222222222,
              "#7201a8"
             ],
             [
              0.3333333333333333,
              "#9c179e"
             ],
             [
              0.4444444444444444,
              "#bd3786"
             ],
             [
              0.5555555555555556,
              "#d8576b"
             ],
             [
              0.6666666666666666,
              "#ed7953"
             ],
             [
              0.7777777777777778,
              "#fb9f3a"
             ],
             [
              0.8888888888888888,
              "#fdca26"
             ],
             [
              1,
              "#f0f921"
             ]
            ],
            "type": "surface"
           }
          ],
          "table": [
           {
            "cells": {
             "fill": {
              "color": "#EBF0F8"
             },
             "line": {
              "color": "white"
             }
            },
            "header": {
             "fill": {
              "color": "#C8D4E3"
             },
             "line": {
              "color": "white"
             }
            },
            "type": "table"
           }
          ]
         },
         "layout": {
          "annotationdefaults": {
           "arrowcolor": "#2a3f5f",
           "arrowhead": 0,
           "arrowwidth": 1
          },
          "coloraxis": {
           "colorbar": {
            "outlinewidth": 0,
            "ticks": ""
           }
          },
          "colorscale": {
           "diverging": [
            [
             0,
             "#8e0152"
            ],
            [
             0.1,
             "#c51b7d"
            ],
            [
             0.2,
             "#de77ae"
            ],
            [
             0.3,
             "#f1b6da"
            ],
            [
             0.4,
             "#fde0ef"
            ],
            [
             0.5,
             "#f7f7f7"
            ],
            [
             0.6,
             "#e6f5d0"
            ],
            [
             0.7,
             "#b8e186"
            ],
            [
             0.8,
             "#7fbc41"
            ],
            [
             0.9,
             "#4d9221"
            ],
            [
             1,
             "#276419"
            ]
           ],
           "sequential": [
            [
             0,
             "#0d0887"
            ],
            [
             0.1111111111111111,
             "#46039f"
            ],
            [
             0.2222222222222222,
             "#7201a8"
            ],
            [
             0.3333333333333333,
             "#9c179e"
            ],
            [
             0.4444444444444444,
             "#bd3786"
            ],
            [
             0.5555555555555556,
             "#d8576b"
            ],
            [
             0.6666666666666666,
             "#ed7953"
            ],
            [
             0.7777777777777778,
             "#fb9f3a"
            ],
            [
             0.8888888888888888,
             "#fdca26"
            ],
            [
             1,
             "#f0f921"
            ]
           ],
           "sequentialminus": [
            [
             0,
             "#0d0887"
            ],
            [
             0.1111111111111111,
             "#46039f"
            ],
            [
             0.2222222222222222,
             "#7201a8"
            ],
            [
             0.3333333333333333,
             "#9c179e"
            ],
            [
             0.4444444444444444,
             "#bd3786"
            ],
            [
             0.5555555555555556,
             "#d8576b"
            ],
            [
             0.6666666666666666,
             "#ed7953"
            ],
            [
             0.7777777777777778,
             "#fb9f3a"
            ],
            [
             0.8888888888888888,
             "#fdca26"
            ],
            [
             1,
             "#f0f921"
            ]
           ]
          },
          "colorway": [
           "#636efa",
           "#EF553B",
           "#00cc96",
           "#ab63fa",
           "#FFA15A",
           "#19d3f3",
           "#FF6692",
           "#B6E880",
           "#FF97FF",
           "#FECB52"
          ],
          "font": {
           "color": "#2a3f5f"
          },
          "geo": {
           "bgcolor": "white",
           "lakecolor": "white",
           "landcolor": "#E5ECF6",
           "showlakes": true,
           "showland": true,
           "subunitcolor": "white"
          },
          "hoverlabel": {
           "align": "left"
          },
          "hovermode": "closest",
          "mapbox": {
           "style": "light"
          },
          "paper_bgcolor": "white",
          "plot_bgcolor": "#E5ECF6",
          "polar": {
           "angularaxis": {
            "gridcolor": "white",
            "linecolor": "white",
            "ticks": ""
           },
           "bgcolor": "#E5ECF6",
           "radialaxis": {
            "gridcolor": "white",
            "linecolor": "white",
            "ticks": ""
           }
          },
          "scene": {
           "xaxis": {
            "backgroundcolor": "#E5ECF6",
            "gridcolor": "white",
            "gridwidth": 2,
            "linecolor": "white",
            "showbackground": true,
            "ticks": "",
            "zerolinecolor": "white"
           },
           "yaxis": {
            "backgroundcolor": "#E5ECF6",
            "gridcolor": "white",
            "gridwidth": 2,
            "linecolor": "white",
            "showbackground": true,
            "ticks": "",
            "zerolinecolor": "white"
           },
           "zaxis": {
            "backgroundcolor": "#E5ECF6",
            "gridcolor": "white",
            "gridwidth": 2,
            "linecolor": "white",
            "showbackground": true,
            "ticks": "",
            "zerolinecolor": "white"
           }
          },
          "shapedefaults": {
           "line": {
            "color": "#2a3f5f"
           }
          },
          "ternary": {
           "aaxis": {
            "gridcolor": "white",
            "linecolor": "white",
            "ticks": ""
           },
           "baxis": {
            "gridcolor": "white",
            "linecolor": "white",
            "ticks": ""
           },
           "bgcolor": "#E5ECF6",
           "caxis": {
            "gridcolor": "white",
            "linecolor": "white",
            "ticks": ""
           }
          },
          "title": {
           "x": 0.05
          },
          "xaxis": {
           "automargin": true,
           "gridcolor": "white",
           "linecolor": "white",
           "ticks": "",
           "title": {
            "standoff": 15
           },
           "zerolinecolor": "white",
           "zerolinewidth": 2
          },
          "yaxis": {
           "automargin": true,
           "gridcolor": "white",
           "linecolor": "white",
           "ticks": "",
           "title": {
            "standoff": 15
           },
           "zerolinecolor": "white",
           "zerolinewidth": 2
          }
         }
        },
        "title": {
         "text": "Lipid vs. Retention Time"
        },
        "xaxis": {
         "title": {
          "text": "Lipid"
         }
        },
        "yaxis": {
         "title": {
          "text": "Retention Time"
         }
        }
       }
      },
      "text/html": [
       "<div>                            <div id=\"2c8100e6-a9c9-4304-abcb-3f7601cd28dd\" class=\"plotly-graph-div\" style=\"height:525px; width:100%;\"></div>            <script type=\"text/javascript\">                require([\"plotly\"], function(Plotly) {                    window.PLOTLYENV=window.PLOTLYENV || {};                                    if (document.getElementById(\"2c8100e6-a9c9-4304-abcb-3f7601cd28dd\")) {                    Plotly.newPlot(                        \"2c8100e6-a9c9-4304-abcb-3f7601cd28dd\",                        [{\"hovertext\": [\"TG 50:1\"], \"marker\": {\"color\": \"red\"}, \"mode\": \"markers\", \"name\": \"740.8 -> 551.6\", \"type\": \"scatter\", \"x\": [\"740.8 -> 551.6\"], \"y\": [15.1]}, {\"hovertext\": [\"TG 50:1\"], \"marker\": {\"color\": \"red\"}, \"mode\": \"markers\", \"name\": \"768.8 -> 551.6\", \"type\": \"scatter\", \"x\": [\"768.8 -> 551.6\"], \"y\": [15.1]}, {\"hovertext\": [\"TG 50:2\"], \"marker\": {\"color\": \"red\"}, \"mode\": \"markers\", \"name\": \"740.8 -> 549.6\", \"type\": \"scatter\", \"x\": [\"740.8 -> 549.6\"], \"y\": [13.8]}, {\"hovertext\": [\"TG 50:2\"], \"marker\": {\"color\": \"red\"}, \"mode\": \"markers\", \"name\": \"768.8 -> 549.6\", \"type\": \"scatter\", \"x\": [\"768.8 -> 549.6\"], \"y\": [13.8]}, {\"hovertext\": [\"TG 52:2\"], \"marker\": {\"color\": \"red\"}, \"mode\": \"markers\", \"name\": \"766.8 -> 577.6\", \"type\": \"scatter\", \"x\": [\"766.8 -> 577.6\"], \"y\": [14.9]}, {\"hovertext\": [\"TG 52:2\"], \"marker\": {\"color\": \"red\"}, \"mode\": \"markers\", \"name\": \"794.8 -> 577.6\", \"type\": \"scatter\", \"x\": [\"794.8 -> 577.6\"], \"y\": [15.0]}, {\"hovertext\": [\"TG 52:3\"], \"marker\": {\"color\": \"red\"}, \"mode\": \"markers\", \"name\": \"722.7 -> 575.6\", \"type\": \"scatter\", \"x\": [\"722.7 -> 575.6\"], \"y\": [null]}, {\"hovertext\": [\"TG 52:3\"], \"marker\": {\"color\": \"red\"}, \"mode\": \"markers\", \"name\": \"764.8 -> 575.6\", \"type\": \"scatter\", \"x\": [\"764.8 -> 575.6\"], \"y\": [13.7]}, {\"hovertext\": [\"TG 52:3\"], \"marker\": {\"color\": \"red\"}, \"mode\": \"markers\", \"name\": \"792.8 -> 575.6\", \"type\": \"scatter\", \"x\": [\"792.8 -> 575.6\"], \"y\": [13.7]}, {\"hovertext\": [\"TG 52:4\"], \"marker\": {\"color\": \"red\"}, \"mode\": \"markers\", \"name\": \"762.8 -> 573.6\", \"type\": \"scatter\", \"x\": [\"762.8 -> 573.6\"], \"y\": [12.5]}, {\"hovertext\": [\"TG 52:4\"], \"marker\": {\"color\": \"red\"}, \"mode\": \"markers\", \"name\": \"790.8 -> 573.6\", \"type\": \"scatter\", \"x\": [\"790.8 -> 573.6\"], \"y\": [12.5]}, {\"hovertext\": [\"TG 54:3\"], \"marker\": {\"color\": \"red\"}, \"mode\": \"markers\", \"name\": \"792.8 -> 603.6\", \"type\": \"scatter\", \"x\": [\"792.8 -> 603.6\"], \"y\": [14.9]}, {\"hovertext\": [\"TG 54:3\"], \"marker\": {\"color\": \"red\"}, \"mode\": \"markers\", \"name\": \"820.8 -> 603.6\", \"type\": \"scatter\", \"x\": [\"820.8 -> 603.6\"], \"y\": [14.8]}, {\"hovertext\": [\"TG 54:4\"], \"marker\": {\"color\": \"red\"}, \"mode\": \"markers\", \"name\": \"790.8 -> 601.6\", \"type\": \"scatter\", \"x\": [\"790.8 -> 601.6\"], \"y\": [13.6]}, {\"hovertext\": [\"TG 54:4\"], \"marker\": {\"color\": \"red\"}, \"mode\": \"markers\", \"name\": \"818.8 -> 601.6\", \"type\": \"scatter\", \"x\": [\"818.8 -> 601.6\"], \"y\": [13.7]}, {\"hovertext\": [\"TG 54:5\"], \"marker\": {\"color\": \"red\"}, \"mode\": \"markers\", \"name\": \"816.8 -> 599.6\", \"type\": \"scatter\", \"x\": [\"816.8 -> 599.6\"], \"y\": [12.6]}, {\"hovertext\": [\"TG 54:5\"], \"marker\": {\"color\": \"red\"}, \"mode\": \"markers\", \"name\": \"788.8 -> 599.6\", \"type\": \"scatter\", \"x\": [\"788.8 -> 599.6\"], \"y\": [12.6]}, {\"hovertext\": [\"[TG(50:3)]_FA18:1\"], \"marker\": {\"color\": \"blue\"}, \"mode\": \"markers\", \"name\": \"846.8 -> 547.6\", \"type\": \"scatter\", \"x\": [\"846.8 -> 547.6\"], \"y\": [13.002]}, {\"hovertext\": [\"[TG(51:9),TG(50:2)]_FA18:1\"], \"marker\": {\"color\": \"blue\"}, \"mode\": \"markers\", \"name\": \"848.8 -> 549.6\", \"type\": \"scatter\", \"x\": [\"848.8 -> 549.6\"], \"y\": [12.998000000000001]}, {\"hovertext\": [\"n-9 [TG(51:8),TG(50:1)]_FA18:1\"], \"marker\": {\"color\": \"blue\"}, \"mode\": \"markers\", \"name\": \"740.8 -> 551.6\", \"type\": \"scatter\", \"x\": [\"740.8 -> 551.6\"], \"y\": [13.005121951219511]}, {\"hovertext\": [\"n-7 [TG(51:8),TG(50:1)]_FA18:1\"], \"marker\": {\"color\": \"blue\"}, \"mode\": \"markers\", \"name\": \"768.8 -> 551.6\", \"type\": \"scatter\", \"x\": [\"768.8 -> 551.6\"], \"y\": [12.974634146341465]}, {\"hovertext\": [\"[TG(51:8),TG(50:1)]_FA18:1\"], \"marker\": {\"color\": \"blue\"}, \"mode\": \"markers\", \"name\": \"850.8 -> 551.6\", \"type\": \"scatter\", \"x\": [\"850.8 -> 551.6\"], \"y\": [13.055853658536588]}, {\"hovertext\": [\"[TG(52:4)]_FA18:1\"], \"marker\": {\"color\": \"blue\"}, \"mode\": \"markers\", \"name\": \"872.8 -> 573.6\", \"type\": \"scatter\", \"x\": [\"872.8 -> 573.6\"], \"y\": [13.052926829268293]}, {\"hovertext\": [\"[TG(53:10),TG(52:3)]_FA18:1\"], \"marker\": {\"color\": \"blue\"}, \"mode\": \"markers\", \"name\": \"874.8 -> 575.6\", \"type\": \"scatter\", \"x\": [\"874.8 -> 575.6\"], \"y\": [13.049024390243902]}, {\"hovertext\": [\"[TG(53:9),TG(52:2)]_FA18:1\"], \"marker\": {\"color\": \"blue\"}, \"mode\": \"markers\", \"name\": \"876.8 -> 577.6\", \"type\": \"scatter\", \"x\": [\"876.8 -> 577.6\"], \"y\": [13.045365853658536]}, {\"hovertext\": [\"n-12 [TG(54:5)]_FA18:1\"], \"marker\": {\"color\": \"blue\"}, \"mode\": \"markers\", \"name\": \"746.8 -> 599.6\", \"type\": \"scatter\", \"x\": [\"746.8 -> 599.6\"], \"y\": [13.001951219512193]}, {\"hovertext\": [\"[TG(54:5)]_FA18:1\"], \"marker\": {\"color\": \"blue\"}, \"mode\": \"markers\", \"name\": \"898.8 -> 599.6\", \"type\": \"scatter\", \"x\": [\"898.8 -> 599.6\"], \"y\": [13.042682926829269]}, {\"hovertext\": [\"n-9 [TG(54:5)]_FA18:1\"], \"marker\": {\"color\": \"blue\"}, \"mode\": \"markers\", \"name\": \"788.8 -> 599.6\", \"type\": \"scatter\", \"x\": [\"788.8 -> 599.6\"], \"y\": [12.97121951219512]}, {\"hovertext\": [\"n-7 [TG(54:5)]_FA18:1\"], \"marker\": {\"color\": \"blue\"}, \"mode\": \"markers\", \"name\": \"816.8 -> 599.6\", \"type\": \"scatter\", \"x\": [\"816.8 -> 599.6\"], \"y\": [12.950975609756094]}, {\"hovertext\": [\"n-7 [TG(55:11),TG(54:4)]_FA18:1\"], \"marker\": {\"color\": \"blue\"}, \"mode\": \"markers\", \"name\": \"818.8 -> 601.6\", \"type\": \"scatter\", \"x\": [\"818.8 -> 601.6\"], \"y\": [12.947317073170732]}, {\"hovertext\": [\"[TG(55:11),TG(54:4)]_FA18:1\"], \"marker\": {\"color\": \"blue\"}, \"mode\": \"markers\", \"name\": \"900.8 -> 601.6\", \"type\": \"scatter\", \"x\": [\"900.8 -> 601.6\"], \"y\": [13.039024390243902]}, {\"hovertext\": [\"n-9 [TG(55:11),TG(54:4)]_FA18:1\"], \"marker\": {\"color\": \"blue\"}, \"mode\": \"markers\", \"name\": \"790.8 -> 601.6\", \"type\": \"scatter\", \"x\": [\"790.8 -> 601.6\"], \"y\": [12.964634146341465]}, {\"hovertext\": [\"n-12 [TG(55:11),TG(54:4)]_FA18:1\"], \"marker\": {\"color\": \"blue\"}, \"mode\": \"markers\", \"name\": \"748.8 -> 601.6\", \"type\": \"scatter\", \"x\": [\"748.8 -> 601.6\"], \"y\": [12.998048780487803]}, {\"hovertext\": [\"n-9 [TG(55:10),TG(54:3)]_FA18:1\"], \"marker\": {\"color\": \"blue\"}, \"mode\": \"markers\", \"name\": \"792.8 -> 603.6\", \"type\": \"scatter\", \"x\": [\"792.8 -> 603.6\"], \"y\": [12.957560975609756]}, {\"hovertext\": [\"n-12 [TG(55:10),TG(54:3)]_FA18:1\"], \"marker\": {\"color\": \"blue\"}, \"mode\": \"markers\", \"name\": \"750.8 -> 603.6\", \"type\": \"scatter\", \"x\": [\"750.8 -> 603.6\"], \"y\": [12.994878048780487]}, {\"hovertext\": [\"n-7 [TG(55:10),TG(54:3)]_FA18:1\"], \"marker\": {\"color\": \"blue\"}, \"mode\": \"markers\", \"name\": \"820.8 -> 603.6\", \"type\": \"scatter\", \"x\": [\"820.8 -> 603.6\"], \"y\": [12.94439024390244]}, {\"hovertext\": [\"[TG(55:10),TG(54:3)]_FA18:1\"], \"marker\": {\"color\": \"blue\"}, \"mode\": \"markers\", \"name\": \"902.8 -> 603.6\", \"type\": \"scatter\", \"x\": [\"902.8 -> 603.6\"], \"y\": [13.03536585365854]}],                        {\"template\": {\"data\": {\"bar\": [{\"error_x\": {\"color\": \"#2a3f5f\"}, \"error_y\": {\"color\": \"#2a3f5f\"}, \"marker\": {\"line\": {\"color\": \"#E5ECF6\", \"width\": 0.5}}, \"type\": \"bar\"}], \"barpolar\": [{\"marker\": {\"line\": {\"color\": \"#E5ECF6\", \"width\": 0.5}}, \"type\": \"barpolar\"}], \"carpet\": [{\"aaxis\": {\"endlinecolor\": \"#2a3f5f\", \"gridcolor\": \"white\", \"linecolor\": \"white\", \"minorgridcolor\": \"white\", \"startlinecolor\": \"#2a3f5f\"}, \"baxis\": {\"endlinecolor\": \"#2a3f5f\", \"gridcolor\": \"white\", \"linecolor\": \"white\", \"minorgridcolor\": \"white\", \"startlinecolor\": \"#2a3f5f\"}, \"type\": \"carpet\"}], \"choropleth\": [{\"colorbar\": {\"outlinewidth\": 0, \"ticks\": \"\"}, \"type\": \"choropleth\"}], \"contour\": [{\"colorbar\": {\"outlinewidth\": 0, \"ticks\": \"\"}, \"colorscale\": [[0.0, \"#0d0887\"], [0.1111111111111111, \"#46039f\"], [0.2222222222222222, \"#7201a8\"], [0.3333333333333333, \"#9c179e\"], [0.4444444444444444, \"#bd3786\"], [0.5555555555555556, \"#d8576b\"], [0.6666666666666666, \"#ed7953\"], [0.7777777777777778, \"#fb9f3a\"], [0.8888888888888888, \"#fdca26\"], [1.0, \"#f0f921\"]], \"type\": \"contour\"}], \"contourcarpet\": [{\"colorbar\": {\"outlinewidth\": 0, \"ticks\": \"\"}, \"type\": \"contourcarpet\"}], \"heatmap\": [{\"colorbar\": {\"outlinewidth\": 0, \"ticks\": \"\"}, \"colorscale\": [[0.0, \"#0d0887\"], [0.1111111111111111, \"#46039f\"], [0.2222222222222222, \"#7201a8\"], [0.3333333333333333, \"#9c179e\"], [0.4444444444444444, \"#bd3786\"], [0.5555555555555556, \"#d8576b\"], [0.6666666666666666, \"#ed7953\"], [0.7777777777777778, \"#fb9f3a\"], [0.8888888888888888, \"#fdca26\"], [1.0, \"#f0f921\"]], \"type\": \"heatmap\"}], \"heatmapgl\": [{\"colorbar\": {\"outlinewidth\": 0, \"ticks\": \"\"}, \"colorscale\": [[0.0, \"#0d0887\"], [0.1111111111111111, \"#46039f\"], [0.2222222222222222, \"#7201a8\"], [0.3333333333333333, \"#9c179e\"], [0.4444444444444444, \"#bd3786\"], [0.5555555555555556, \"#d8576b\"], [0.6666666666666666, \"#ed7953\"], [0.7777777777777778, \"#fb9f3a\"], [0.8888888888888888, \"#fdca26\"], [1.0, \"#f0f921\"]], \"type\": \"heatmapgl\"}], \"histogram\": [{\"marker\": {\"colorbar\": {\"outlinewidth\": 0, \"ticks\": \"\"}}, \"type\": \"histogram\"}], \"histogram2d\": [{\"colorbar\": {\"outlinewidth\": 0, \"ticks\": \"\"}, \"colorscale\": [[0.0, \"#0d0887\"], [0.1111111111111111, \"#46039f\"], [0.2222222222222222, \"#7201a8\"], [0.3333333333333333, \"#9c179e\"], [0.4444444444444444, \"#bd3786\"], [0.5555555555555556, \"#d8576b\"], [0.6666666666666666, \"#ed7953\"], [0.7777777777777778, \"#fb9f3a\"], [0.8888888888888888, \"#fdca26\"], [1.0, \"#f0f921\"]], \"type\": \"histogram2d\"}], \"histogram2dcontour\": [{\"colorbar\": {\"outlinewidth\": 0, \"ticks\": \"\"}, \"colorscale\": [[0.0, \"#0d0887\"], [0.1111111111111111, \"#46039f\"], [0.2222222222222222, \"#7201a8\"], [0.3333333333333333, \"#9c179e\"], [0.4444444444444444, \"#bd3786\"], [0.5555555555555556, \"#d8576b\"], [0.6666666666666666, \"#ed7953\"], [0.7777777777777778, \"#fb9f3a\"], [0.8888888888888888, \"#fdca26\"], [1.0, \"#f0f921\"]], \"type\": \"histogram2dcontour\"}], \"mesh3d\": [{\"colorbar\": {\"outlinewidth\": 0, \"ticks\": \"\"}, \"type\": \"mesh3d\"}], \"parcoords\": [{\"line\": {\"colorbar\": {\"outlinewidth\": 0, \"ticks\": \"\"}}, \"type\": \"parcoords\"}], \"pie\": [{\"automargin\": true, \"type\": \"pie\"}], \"scatter\": [{\"marker\": {\"colorbar\": {\"outlinewidth\": 0, \"ticks\": \"\"}}, \"type\": \"scatter\"}], \"scatter3d\": [{\"line\": {\"colorbar\": {\"outlinewidth\": 0, \"ticks\": \"\"}}, \"marker\": {\"colorbar\": {\"outlinewidth\": 0, \"ticks\": \"\"}}, \"type\": \"scatter3d\"}], \"scattercarpet\": [{\"marker\": {\"colorbar\": {\"outlinewidth\": 0, \"ticks\": \"\"}}, \"type\": \"scattercarpet\"}], \"scattergeo\": [{\"marker\": {\"colorbar\": {\"outlinewidth\": 0, \"ticks\": \"\"}}, \"type\": \"scattergeo\"}], \"scattergl\": [{\"marker\": {\"colorbar\": {\"outlinewidth\": 0, \"ticks\": \"\"}}, \"type\": \"scattergl\"}], \"scattermapbox\": [{\"marker\": {\"colorbar\": {\"outlinewidth\": 0, \"ticks\": \"\"}}, \"type\": \"scattermapbox\"}], \"scatterpolar\": [{\"marker\": {\"colorbar\": {\"outlinewidth\": 0, \"ticks\": \"\"}}, \"type\": \"scatterpolar\"}], \"scatterpolargl\": [{\"marker\": {\"colorbar\": {\"outlinewidth\": 0, \"ticks\": \"\"}}, \"type\": \"scatterpolargl\"}], \"scatterternary\": [{\"marker\": {\"colorbar\": {\"outlinewidth\": 0, \"ticks\": \"\"}}, \"type\": \"scatterternary\"}], \"surface\": [{\"colorbar\": {\"outlinewidth\": 0, \"ticks\": \"\"}, \"colorscale\": [[0.0, \"#0d0887\"], [0.1111111111111111, \"#46039f\"], [0.2222222222222222, \"#7201a8\"], [0.3333333333333333, \"#9c179e\"], [0.4444444444444444, \"#bd3786\"], [0.5555555555555556, \"#d8576b\"], [0.6666666666666666, \"#ed7953\"], [0.7777777777777778, \"#fb9f3a\"], [0.8888888888888888, \"#fdca26\"], [1.0, \"#f0f921\"]], \"type\": \"surface\"}], \"table\": [{\"cells\": {\"fill\": {\"color\": \"#EBF0F8\"}, \"line\": {\"color\": \"white\"}}, \"header\": {\"fill\": {\"color\": \"#C8D4E3\"}, \"line\": {\"color\": \"white\"}}, \"type\": \"table\"}]}, \"layout\": {\"annotationdefaults\": {\"arrowcolor\": \"#2a3f5f\", \"arrowhead\": 0, \"arrowwidth\": 1}, \"coloraxis\": {\"colorbar\": {\"outlinewidth\": 0, \"ticks\": \"\"}}, \"colorscale\": {\"diverging\": [[0, \"#8e0152\"], [0.1, \"#c51b7d\"], [0.2, \"#de77ae\"], [0.3, \"#f1b6da\"], [0.4, \"#fde0ef\"], [0.5, \"#f7f7f7\"], [0.6, \"#e6f5d0\"], [0.7, \"#b8e186\"], [0.8, \"#7fbc41\"], [0.9, \"#4d9221\"], [1, \"#276419\"]], \"sequential\": [[0.0, \"#0d0887\"], [0.1111111111111111, \"#46039f\"], [0.2222222222222222, \"#7201a8\"], [0.3333333333333333, \"#9c179e\"], [0.4444444444444444, \"#bd3786\"], [0.5555555555555556, \"#d8576b\"], [0.6666666666666666, \"#ed7953\"], [0.7777777777777778, \"#fb9f3a\"], [0.8888888888888888, \"#fdca26\"], [1.0, \"#f0f921\"]], \"sequentialminus\": [[0.0, \"#0d0887\"], [0.1111111111111111, \"#46039f\"], [0.2222222222222222, \"#7201a8\"], [0.3333333333333333, \"#9c179e\"], [0.4444444444444444, \"#bd3786\"], [0.5555555555555556, \"#d8576b\"], [0.6666666666666666, \"#ed7953\"], [0.7777777777777778, \"#fb9f3a\"], [0.8888888888888888, \"#fdca26\"], [1.0, \"#f0f921\"]]}, \"colorway\": [\"#636efa\", \"#EF553B\", \"#00cc96\", \"#ab63fa\", \"#FFA15A\", \"#19d3f3\", \"#FF6692\", \"#B6E880\", \"#FF97FF\", \"#FECB52\"], \"font\": {\"color\": \"#2a3f5f\"}, \"geo\": {\"bgcolor\": \"white\", \"lakecolor\": \"white\", \"landcolor\": \"#E5ECF6\", \"showlakes\": true, \"showland\": true, \"subunitcolor\": \"white\"}, \"hoverlabel\": {\"align\": \"left\"}, \"hovermode\": \"closest\", \"mapbox\": {\"style\": \"light\"}, \"paper_bgcolor\": \"white\", \"plot_bgcolor\": \"#E5ECF6\", \"polar\": {\"angularaxis\": {\"gridcolor\": \"white\", \"linecolor\": \"white\", \"ticks\": \"\"}, \"bgcolor\": \"#E5ECF6\", \"radialaxis\": {\"gridcolor\": \"white\", \"linecolor\": \"white\", \"ticks\": \"\"}}, \"scene\": {\"xaxis\": {\"backgroundcolor\": \"#E5ECF6\", \"gridcolor\": \"white\", \"gridwidth\": 2, \"linecolor\": \"white\", \"showbackground\": true, \"ticks\": \"\", \"zerolinecolor\": \"white\"}, \"yaxis\": {\"backgroundcolor\": \"#E5ECF6\", \"gridcolor\": \"white\", \"gridwidth\": 2, \"linecolor\": \"white\", \"showbackground\": true, \"ticks\": \"\", \"zerolinecolor\": \"white\"}, \"zaxis\": {\"backgroundcolor\": \"#E5ECF6\", \"gridcolor\": \"white\", \"gridwidth\": 2, \"linecolor\": \"white\", \"showbackground\": true, \"ticks\": \"\", \"zerolinecolor\": \"white\"}}, \"shapedefaults\": {\"line\": {\"color\": \"#2a3f5f\"}}, \"ternary\": {\"aaxis\": {\"gridcolor\": \"white\", \"linecolor\": \"white\", \"ticks\": \"\"}, \"baxis\": {\"gridcolor\": \"white\", \"linecolor\": \"white\", \"ticks\": \"\"}, \"bgcolor\": \"#E5ECF6\", \"caxis\": {\"gridcolor\": \"white\", \"linecolor\": \"white\", \"ticks\": \"\"}}, \"title\": {\"x\": 0.05}, \"xaxis\": {\"automargin\": true, \"gridcolor\": \"white\", \"linecolor\": \"white\", \"ticks\": \"\", \"title\": {\"standoff\": 15}, \"zerolinecolor\": \"white\", \"zerolinewidth\": 2}, \"yaxis\": {\"automargin\": true, \"gridcolor\": \"white\", \"linecolor\": \"white\", \"ticks\": \"\", \"title\": {\"standoff\": 15}, \"zerolinecolor\": \"white\", \"zerolinewidth\": 2}}}, \"title\": {\"text\": \"Lipid vs. Retention Time\"}, \"xaxis\": {\"title\": {\"text\": \"Lipid\"}}, \"yaxis\": {\"title\": {\"text\": \"Retention Time\"}}},                        {\"responsive\": true}                    ).then(function(){\n",
       "                            \n",
       "var gd = document.getElementById('2c8100e6-a9c9-4304-abcb-3f7601cd28dd');\n",
       "var x = new MutationObserver(function (mutations, observer) {{\n",
       "        var display = window.getComputedStyle(gd).display;\n",
       "        if (!display || display === 'none') {{\n",
       "            console.log([gd, 'removed!']);\n",
       "            Plotly.purge(gd);\n",
       "            observer.disconnect();\n",
       "        }}\n",
       "}});\n",
       "\n",
       "// Listen for the removal of the full notebook cells\n",
       "var notebookContainer = gd.closest('#notebook-container');\n",
       "if (notebookContainer) {{\n",
       "    x.observe(notebookContainer, {childList: true});\n",
       "}}\n",
       "\n",
       "// Listen for the clearing of the current output cell\n",
       "var outputEl = gd.closest('.output');\n",
       "if (outputEl) {{\n",
       "    x.observe(outputEl, {childList: true});\n",
       "}}\n",
       "\n",
       "                        })                };                });            </script>        </div>"
      ]
     },
     "metadata": {},
     "output_type": "display_data"
    }
   ],
   "source": [
    "# import plotly.graph_objects as go\n",
    "\n",
    "# fig = go.Figure()\n",
    "\n",
    "# # For each unique transition in C_df, create a separate trace\n",
    "# for transition in C_df['MRM Transition'].unique():\n",
    "#     df = C_df[C_df['MRM Transition'] == transition]\n",
    "#     fig.add_trace(go.Scatter(\n",
    "#         y=df['Retention Time'], \n",
    "#         x=df['MRM Transition'],\n",
    "#         mode='markers',\n",
    "#         name=transition\n",
    "#     ))\n",
    "\n",
    "# # For each unique transition in sorted_df, create a separate trace\n",
    "# for transition in sorted_df['Transition'].unique():\n",
    "#     df = sorted_df[sorted_df['Transition'] == transition]\n",
    "#     fig.add_trace(go.Scatter(\n",
    "#         y=df['Mean_Retention_Time'], \n",
    "#         x=df['Transition'],\n",
    "#         mode='markers',\n",
    "#         name=transition\n",
    "#     ))\n",
    "\n",
    "# # Define the layout\n",
    "# fig.update_layout(\n",
    "#     title='Lipid vs. Retention Time',\n",
    "#     yaxis_title='Retention Time',\n",
    "#     xaxis_title='Lipid'\n",
    "# )\n",
    "\n",
    "# # Show the plot\n",
    "# fig.show()\n",
    "\n",
    "# import plotly.graph_objects as go\n",
    "\n",
    "# fig = go.Figure()\n",
    "\n",
    "# # For each unique transition in C_df, create a separate trace\n",
    "# for transition in C_df['MRM Transition'].unique():\n",
    "#     df = C_df[C_df['MRM Transition'] == transition]\n",
    "#     fig.add_trace(go.Scatter(\n",
    "#         y=df['Retention Time'], \n",
    "#         x=df['MRM Transition'],\n",
    "#         mode='markers',\n",
    "#         name=transition,\n",
    "#         marker=dict(color='red')  # Set color to red for C_df\n",
    "#     ))\n",
    "\n",
    "# # For each unique transition in sorted_df, create a separate trace\n",
    "# for transition in sorted_df['Transition'].unique():\n",
    "#     df = sorted_df[sorted_df['Transition'] == transition]\n",
    "#     fig.add_trace(go.Scatter(\n",
    "#         y=df['Mean_Retention_Time'], \n",
    "#         x=df['Transition'],\n",
    "#         mode='markers',\n",
    "#         name=transition,\n",
    "#         marker=dict(color='blue')  # Set color to blue for sorted_df\n",
    "#     ))\n",
    "\n",
    "# # Define the layout\n",
    "# fig.update_layout(\n",
    "#     title='Lipid vs. Retention Time',\n",
    "#     yaxis_title='Retention Time',\n",
    "#     xaxis_title='Lipid'\n",
    "# )\n",
    "\n",
    "# # Show the plot\n",
    "# fig.show()\n",
    "\n",
    "import plotly.graph_objects as go\n",
    "\n",
    "fig = go.Figure()\n",
    "\n",
    "# For each unique transition in C_df, create a separate trace\n",
    "for transition in C_df['MRM Transition'].unique():\n",
    "    df = C_df[C_df['MRM Transition'] == transition]\n",
    "    fig.add_trace(go.Scatter(\n",
    "        y=df['Retention Time'], \n",
    "        x=df['MRM Transition'],\n",
    "        mode='markers',\n",
    "        name=transition,\n",
    "        hovertext=df['Lipid'],\n",
    "        marker=dict(color='red')  # Set color to red for C_df\n",
    "    ))\n",
    "\n",
    "# For each unique transition in sorted_df, create a separate trace\n",
    "for transition in sorted_df['Transition'].unique():\n",
    "    df = sorted_df[sorted_df['Transition'] == transition]\n",
    "    fig.add_trace(go.Scatter(\n",
    "        y=df['Mean_Retention_Time'], \n",
    "        x=df['Transition'],\n",
    "        mode='markers',\n",
    "        name=transition,\n",
    "        hovertext=df['Lipid'],\n",
    "        marker=dict(color='blue')  # Set color to blue for sorted_df\n",
    "    ))\n",
    "\n",
    "# Define the layout\n",
    "fig.update_layout(\n",
    "    title='Lipid vs. Retention Time',\n",
    "    yaxis_title='Retention Time',\n",
    "    xaxis_title='Lipid'\n",
    ")\n",
    "\n",
    "# Show the plot\n",
    "fig.show()\n"
   ]
  }
 ],
 "metadata": {
  "kernelspec": {
   "display_name": "pymzml",
   "language": "python",
   "name": "python3"
  },
  "language_info": {
   "codemirror_mode": {
    "name": "ipython",
    "version": 3
   },
   "file_extension": ".py",
   "mimetype": "text/x-python",
   "name": "python",
   "nbconvert_exporter": "python",
   "pygments_lexer": "ipython3",
   "version": "3.9.15"
  },
  "orig_nbformat": 4
 },
 "nbformat": 4,
 "nbformat_minor": 2
}
