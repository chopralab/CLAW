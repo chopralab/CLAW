{
 "cells": [
  {
   "cell_type": "markdown",
   "metadata": {},
   "source": [
    "<!-- ![title](Figures/cat2.png) -->\n",
    "# PURR Processing Utility for Rapid Results"
   ]
  },
  {
   "cell_type": "markdown",
   "metadata": {},
   "source": [
    "Import all necessary libraries"
   ]
  },
  {
   "cell_type": "code",
   "execution_count": 12,
   "metadata": {},
   "outputs": [],
   "source": [
    "#Import all the necessary libraries\n",
    "import pymzml\n",
    "import csv\n",
    "import os\n",
    "import pandas as pd\n",
    "import numpy as np\n",
    "import math\n",
    "from matplotlib import pyplot as plt\n",
    "import re\n",
    "import plotly.express as px\n",
    "from collections import defaultdict\n",
    "\n",
    "import plotly.io as pio\n",
    "import json\n",
    "import plotly.graph_objs as go\n",
    "import matplotlib.colors as mcolors\n",
    "\n",
    "import json\n",
    "import ipywidgets as widgets\n",
    "from IPython.display import display\n",
    "\n",
    "import warnings\n",
    "from IPython.display import display, Image, clear_output\n",
    "import time\n",
    "\n",
    "##Custom SCripts\n",
    "\n",
    "from NO_AVERAGE_SCRIPTS import full_parse\n",
    "from NO_AVERAGE_SCRIPTS import filter_dataframe\n",
    "from NO_AVERAGE_SCRIPTS import hex_to_rgba_hex\n",
    "from NO_AVERAGE_SCRIPTS import json_to_string\n",
    "from NO_AVERAGE_SCRIPTS import prep_edge_R\n",
    "\n",
    "from NO_AVERAGE_SCRIPTS import make_pie_chart_no_replicates\n",
    "\n",
    "from NO_AVERAGE_SCRIPTS import average_pie_chart_no_repeats\n",
    "\n",
    "from NO_AVERAGE_SCRIPTS import make_bar_plot_comparisons\n",
    "import os\n",
    "from IPython.display import display\n",
    "from ipywidgets import widgets\n",
    "# dfdfplotting_functions\n",
    "\n",
    "Pre_folder = './Projects/'\n",
    "\n",
    "\n",
    "from tools.GUI import assign_blank, load_blank_name\n",
    "from tools.GUI import folder_navigator, load_project_folder\n",
    "\n",
    "from tools.GUI import filter_samples, load_data_labels\n",
    "from tools.GUI import display_pair_widgets, load_data, remove_empty_entries, get_unique_json_objects\n",
    "\n",
    "\n",
    "from tools.parsing import add_suffix"
   ]
  },
  {
   "cell_type": "code",
   "execution_count": 13,
   "metadata": {},
   "outputs": [],
   "source": [
    "##Add a way to include a custom color scheme\n",
    "\n",
    "\n",
    "\n",
    "\n",
    "file_name_to_save = 'Daneman'\n",
    "\n",
    "extra_name = \"\"\n",
    "\n",
    "tolerance = 0.1\n",
    "remove_std = True\n",
    "save_data= True\n",
    "\n",
    "\n",
    "load_previously_parsed = False\n",
    "custom_data=True\n"
   ]
  },
  {
   "cell_type": "code",
   "execution_count": 14,
   "metadata": {
    "scrolled": false
   },
   "outputs": [
    {
     "data": {
      "application/vnd.jupyter.widget-view+json": {
       "model_id": "809c136b24604094b30b8110267f88ab",
       "version_major": 2,
       "version_minor": 0
      },
      "text/plain": [
       "Button(description='Navigate', style=ButtonStyle())"
      ]
     },
     "metadata": {},
     "output_type": "display_data"
    },
    {
     "data": {
      "application/vnd.jupyter.widget-view+json": {
       "model_id": "0595d198b7b549dda17cf8acff7f9a39",
       "version_major": 2,
       "version_minor": 0
      },
      "text/plain": [
       "Button(description='Select this folder', style=ButtonStyle())"
      ]
     },
     "metadata": {},
     "output_type": "display_data"
    },
    {
     "data": {
      "application/vnd.jupyter.widget-view+json": {
       "model_id": "7bd6e2d1c2774cca8ee66e78b94fd0d9",
       "version_major": 2,
       "version_minor": 0
      },
      "text/plain": [
       "Button(description='Select Current Folder', style=ButtonStyle())"
      ]
     },
     "metadata": {},
     "output_type": "display_data"
    },
    {
     "data": {
      "application/vnd.jupyter.widget-view+json": {
       "model_id": "569d43965b3341b0a41c3338aa86d92e",
       "version_major": 2,
       "version_minor": 0
      },
      "text/plain": [
       "Select(options=('/home/iyer95/CLAW/CLAW/lipid_platform/Projects',), rows=10, value='/home/iyer95/CLAW/CLAW/lip…"
      ]
     },
     "metadata": {},
     "output_type": "display_data"
    },
    {
     "data": {
      "application/vnd.jupyter.widget-view+json": {
       "model_id": "2fab508cd93b4093acf31c2a0442b0e5",
       "version_major": 2,
       "version_minor": 0
      },
      "text/plain": [
       "Output()"
      ]
     },
     "metadata": {},
     "output_type": "display_data"
    },
    {
     "data": {
      "application/vnd.jupyter.widget-view+json": {
       "model_id": "b0e0a7f190c142a387449bdf6130fee4",
       "version_major": 2,
       "version_minor": 0
      },
      "text/plain": [
       "Dropdown(description='Samples', options=('IPAblank_NA', 'BlankBrain_NA', 'C-1BrainF', 'C-2BrainF', 'C-3BrainF'…"
      ]
     },
     "metadata": {},
     "output_type": "display_data"
    },
    {
     "data": {
      "application/vnd.jupyter.widget-view+json": {
       "model_id": "cadcdef9b020481b90e0650584197bde",
       "version_major": 2,
       "version_minor": 0
      },
      "text/plain": [
       "Button(description='Assign Blank', style=ButtonStyle())"
      ]
     },
     "metadata": {},
     "output_type": "display_data"
    },
    {
     "data": {
      "application/vnd.jupyter.widget-view+json": {
       "model_id": "214da6af2a604e3489c993ffcaa3346e",
       "version_major": 2,
       "version_minor": 0
      },
      "text/plain": [
       "Output()"
      ]
     },
     "metadata": {},
     "output_type": "display_data"
    },
    {
     "data": {
      "application/vnd.jupyter.widget-view+json": {
       "model_id": "c8827503b6f649b38ec90ca64970a78a",
       "version_major": 2,
       "version_minor": 0
      },
      "text/plain": [
       "SelectMultiple(description='Samples', index=(0,), options=('IPAblank_NA', 'BlankBrain_NA', 'C-1BrainF', 'C-2Br…"
      ]
     },
     "metadata": {},
     "output_type": "display_data"
    },
    {
     "data": {
      "application/vnd.jupyter.widget-view+json": {
       "model_id": "ef0753a3c16649dfa9b619ee75b4eff1",
       "version_major": 2,
       "version_minor": 0
      },
      "text/plain": [
       "Button(description='Filter Samples', style=ButtonStyle())"
      ]
     },
     "metadata": {},
     "output_type": "display_data"
    },
    {
     "data": {
      "application/vnd.jupyter.widget-view+json": {
       "model_id": "eec9f947d5e74cf49d1b8334cf68bbdd",
       "version_major": 2,
       "version_minor": 0
      },
      "text/plain": [
       "Output()"
      ]
     },
     "metadata": {},
     "output_type": "display_data"
    }
   ],
   "source": [
    "\n",
    "folder_navigator()\n",
    "\n",
    "Project_Folder = load_project_folder()\n",
    "folder_name_to_save = Project_Folder+ 'Processed Results/'\n",
    "data_base_name_location = 'lipid_database/Lipid_Database.xlsx'\n",
    "mzml_folder = Project_Folder +\"mzml/\"\n",
    "Pre_edge_r_path = Project_Folder+\"Pre_EdgeR/\"\n",
    "plots_2_save_path = Project_Folder+\"Plots/\"\n",
    "label_file = Project_Folder+\"Labels/labels.csv\"\n",
    "labels_df = pd.read_csv(label_file)\n",
    "\n",
    "##determines blank\n",
    "unique_samples = labels_df['Sample Name'].unique()\n",
    "assign_blank(unique_samples)\n",
    "blank_name = load_blank_name()\n",
    "\n",
    "# Assuming labels_df is your DataFrame\n",
    "filter_samples(labels_df)\n",
    "labels_df2 = load_data_labels()\n",
    "labels_df2 = labels_df2.drop([\"Sample Name\",\"Position\"],axis=1)\n",
    "labels_list = list(labels_df)\n",
    "labels_list = labels_list +[\"Class\",\"Lipid\"]\n",
    "\n",
    "\n",
    "\n"
   ]
  },
  {
   "cell_type": "code",
   "execution_count": 4,
   "metadata": {},
   "outputs": [
    {
     "data": {
      "application/vnd.jupyter.widget-view+json": {
       "model_id": "350e023f3932467989786d3b07488d11",
       "version_major": 2,
       "version_minor": 0
      },
      "text/plain": [
       "HBox(children=(SelectMultiple(description='Name', options=('Blank', 'C-1', 'C-2', 'C-3', 'C-4', 'C-5', 'C-6', …"
      ]
     },
     "metadata": {},
     "output_type": "display_data"
    },
    {
     "data": {
      "application/vnd.jupyter.widget-view+json": {
       "model_id": "84605902e8254c10999b0ebbcae8d810",
       "version_major": 2,
       "version_minor": 0
      },
      "text/plain": [
       "HBox(children=(SelectMultiple(description='Type', options=('Brain', 'Liver', 'Retina', 'Plasma', 'BMV'), value…"
      ]
     },
     "metadata": {},
     "output_type": "display_data"
    },
    {
     "data": {
      "application/vnd.jupyter.widget-view+json": {
       "model_id": "3910169c5bf64d35907b0cb97f7e7f99",
       "version_major": 2,
       "version_minor": 0
      },
      "text/plain": [
       "HBox(children=(SelectMultiple(description='Sex', options=('_NA', 'F', 'M'), value=()), SelectMultiple(descript…"
      ]
     },
     "metadata": {},
     "output_type": "display_data"
    },
    {
     "data": {
      "application/vnd.jupyter.widget-view+json": {
       "model_id": "106b7cc842c74cfcb6a4ba46a9a7c20b",
       "version_major": 2,
       "version_minor": 0
      },
      "text/plain": [
       "HBox(children=(Button(description='Finish', style=ButtonStyle()), Button(description='Add more JSON pairs', st…"
      ]
     },
     "metadata": {},
     "output_type": "display_data"
    }
   ],
   "source": [
    "main_json = {col: labels_df2[col].unique().tolist() for col in labels_df2}\n",
    "\n",
    "display_pair_widgets(main_json)"
   ]
  },
  {
   "cell_type": "code",
   "execution_count": 15,
   "metadata": {
    "scrolled": false
   },
   "outputs": [
    {
     "name": "stdout",
     "output_type": "stream",
     "text": [
      "Your data is PURRing...\n",
      "     Lipid Parent_Ion Product_Ion    Intensity       Transition Class  \\\n",
      "0      NaN      784.6       439.3  2379.860168   784.6 -> 439.3   NaN   \n",
      "1      NaN      798.7       453.4  1664.840115   798.7 -> 453.4   NaN   \n",
      "2      NaN      808.7       463.4  2939.620201   808.7 -> 463.4   NaN   \n",
      "3      NaN      810.8       465.5  1760.820122   810.8 -> 465.5   NaN   \n",
      "4      NaN      812.7       467.4  1872.740131   812.7 -> 467.4   NaN   \n",
      "...    ...        ...         ...          ...              ...   ...   \n",
      "1633   NaN     1057.0       711.7  1544.300106  1057.0 -> 711.7   NaN   \n",
      "1634   NaN     1059.0       713.7  1589.820103  1059.0 -> 713.7   NaN   \n",
      "1635   NaN     1061.0       715.7  1544.080093  1061.0 -> 715.7   NaN   \n",
      "1636   NaN     1062.9       717.6  1543.940105  1062.9 -> 717.6   NaN   \n",
      "1637   NaN     1065.0       719.7  1544.680107  1065.0 -> 719.7   NaN   \n",
      "\n",
      "                                      Sample_ID  \n",
      "0     TAG22_6_E-4LiverM_N1_daneman_lab_11_21_23  \n",
      "1     TAG22_6_E-4LiverM_N1_daneman_lab_11_21_23  \n",
      "2     TAG22_6_E-4LiverM_N1_daneman_lab_11_21_23  \n",
      "3     TAG22_6_E-4LiverM_N1_daneman_lab_11_21_23  \n",
      "4     TAG22_6_E-4LiverM_N1_daneman_lab_11_21_23  \n",
      "...                                         ...  \n",
      "1633    TAG22_6_IPA1_NA_N1_daneman_lab_11_21_23  \n",
      "1634    TAG22_6_IPA1_NA_N1_daneman_lab_11_21_23  \n",
      "1635    TAG22_6_IPA1_NA_N1_daneman_lab_11_21_23  \n",
      "1636    TAG22_6_IPA1_NA_N1_daneman_lab_11_21_23  \n",
      "1637    TAG22_6_IPA1_NA_N1_daneman_lab_11_21_23  \n",
      "\n",
      "[1638 rows x 7 columns]\n",
      "['Lipid', 'Parent_Ion', 'Product_Ion', 'Intensity', 'Transition', 'Class', 'Sample_ID']\n",
      "['Lipid', 'Parent_Ion', 'Product_Ion', 'Intensity', 'Transition', 'Class', 'Sample_ID']\n",
      "Empty DataFrame\n",
      "Columns: [Lipid, Parent_Ion, Product_Ion, Intensity, Transition, Class, Sample_ID, method_type]\n",
      "Index: []\n",
      "['Lipid', 'Parent_Ion', 'Product_Ion', 'Intensity', 'Transition', 'Class', 'Sample_ID', 'method_type'] Labels\n"
     ]
    },
    {
     "ename": "KeyError",
     "evalue": "'Sample Name'",
     "output_type": "error",
     "traceback": [
      "\u001b[0;31m---------------------------------------------------------------------------\u001b[0m",
      "\u001b[0;31mKeyError\u001b[0m                                  Traceback (most recent call last)",
      "\u001b[0;32m~/.conda/envs/CLA/lib/python3.7/site-packages/pandas/core/indexes/base.py\u001b[0m in \u001b[0;36mget_loc\u001b[0;34m(self, key, method, tolerance)\u001b[0m\n\u001b[1;32m   3079\u001b[0m             \u001b[0;32mtry\u001b[0m\u001b[0;34m:\u001b[0m\u001b[0;34m\u001b[0m\u001b[0;34m\u001b[0m\u001b[0m\n\u001b[0;32m-> 3080\u001b[0;31m                 \u001b[0;32mreturn\u001b[0m \u001b[0mself\u001b[0m\u001b[0;34m.\u001b[0m\u001b[0m_engine\u001b[0m\u001b[0;34m.\u001b[0m\u001b[0mget_loc\u001b[0m\u001b[0;34m(\u001b[0m\u001b[0mcasted_key\u001b[0m\u001b[0;34m)\u001b[0m\u001b[0;34m\u001b[0m\u001b[0;34m\u001b[0m\u001b[0m\n\u001b[0m\u001b[1;32m   3081\u001b[0m             \u001b[0;32mexcept\u001b[0m \u001b[0mKeyError\u001b[0m \u001b[0;32mas\u001b[0m \u001b[0merr\u001b[0m\u001b[0;34m:\u001b[0m\u001b[0;34m\u001b[0m\u001b[0;34m\u001b[0m\u001b[0m\n",
      "\u001b[0;32mpandas/_libs/index.pyx\u001b[0m in \u001b[0;36mpandas._libs.index.IndexEngine.get_loc\u001b[0;34m()\u001b[0m\n",
      "\u001b[0;32mpandas/_libs/index.pyx\u001b[0m in \u001b[0;36mpandas._libs.index.IndexEngine.get_loc\u001b[0;34m()\u001b[0m\n",
      "\u001b[0;32mpandas/_libs/hashtable_class_helper.pxi\u001b[0m in \u001b[0;36mpandas._libs.hashtable.PyObjectHashTable.get_item\u001b[0;34m()\u001b[0m\n",
      "\u001b[0;32mpandas/_libs/hashtable_class_helper.pxi\u001b[0m in \u001b[0;36mpandas._libs.hashtable.PyObjectHashTable.get_item\u001b[0;34m()\u001b[0m\n",
      "\u001b[0;31mKeyError\u001b[0m: 'Sample Name'",
      "\nThe above exception was the direct cause of the following exception:\n",
      "\u001b[0;31mKeyError\u001b[0m                                  Traceback (most recent call last)",
      "\u001b[0;32m/tmp/ipykernel_108657/4116088808.py\u001b[0m in \u001b[0;36m<module>\u001b[0;34m\u001b[0m\n\u001b[1;32m     21\u001b[0m \u001b[0;32melse\u001b[0m\u001b[0;34m:\u001b[0m\u001b[0;34m\u001b[0m\u001b[0;34m\u001b[0m\u001b[0m\n\u001b[1;32m     22\u001b[0m     df_matched = full_parse(data_base_name_location,mzml_folder, folder_name_to_save,labels_df, blank_name, \n\u001b[0;32m---> 23\u001b[0;31m                             file_name_to_save,tolerance, custom_data = custom_data, remove_std = remove_std,save_data=save_data)\n\u001b[0m\u001b[1;32m     24\u001b[0m \u001b[0;34m\u001b[0m\u001b[0m\n\u001b[1;32m     25\u001b[0m \u001b[0mprint\u001b[0m\u001b[0;34m(\u001b[0m\u001b[0;34m\"Complete\"\u001b[0m\u001b[0;34m)\u001b[0m\u001b[0;34m\u001b[0m\u001b[0;34m\u001b[0m\u001b[0m\n",
      "\u001b[0;32m~/CLAW/CLAW/lipid_platform/NO_AVERAGE_SCRIPTS.py\u001b[0m in \u001b[0;36mfull_parse\u001b[0;34m(data_base_name_location, mzml_folder, folder_name_to_save, labels_df, blank_name, file_name_to_save, tolerance, custom_data, remove_std, save_data)\u001b[0m\n\u001b[1;32m   1203\u001b[0m     \u001b[0mprint\u001b[0m\u001b[0;34m(\u001b[0m\u001b[0mlist\u001b[0m\u001b[0;34m(\u001b[0m\u001b[0mdf_matched\u001b[0m\u001b[0;34m)\u001b[0m\u001b[0;34m,\u001b[0m\u001b[0;34m\"Labels\"\u001b[0m\u001b[0;34m)\u001b[0m\u001b[0;34m\u001b[0m\u001b[0;34m\u001b[0m\u001b[0m\n\u001b[1;32m   1204\u001b[0m \u001b[0;34m\u001b[0m\u001b[0m\n\u001b[0;32m-> 1205\u001b[0;31m     \u001b[0mdf_matched\u001b[0m \u001b[0;34m=\u001b[0m \u001b[0msubtract_blank\u001b[0m\u001b[0;34m(\u001b[0m\u001b[0mlabels_df\u001b[0m\u001b[0;34m,\u001b[0m\u001b[0mdf_matched\u001b[0m\u001b[0;34m,\u001b[0m\u001b[0mblank_name\u001b[0m\u001b[0;34m)\u001b[0m\u001b[0;34m\u001b[0m\u001b[0;34m\u001b[0m\u001b[0m\n\u001b[0m\u001b[1;32m   1206\u001b[0m     \u001b[0mprint\u001b[0m\u001b[0;34m(\u001b[0m\u001b[0;34m(\u001b[0m\u001b[0mdf_matched\u001b[0m\u001b[0;34m)\u001b[0m\u001b[0;34m)\u001b[0m\u001b[0;34m\u001b[0m\u001b[0;34m\u001b[0m\u001b[0m\n\u001b[1;32m   1207\u001b[0m \u001b[0;34m\u001b[0m\u001b[0m\n",
      "\u001b[0;32m~/CLAW/CLAW/lipid_platform/NO_AVERAGE_SCRIPTS.py\u001b[0m in \u001b[0;36msubtract_blank\u001b[0;34m(labels_df, matched_df, blank_name)\u001b[0m\n\u001b[1;32m    425\u001b[0m \u001b[0;34m\u001b[0m\u001b[0m\n\u001b[1;32m    426\u001b[0m     \u001b[0;31m###Subtracting the Blank\u001b[0m\u001b[0;34m\u001b[0m\u001b[0;34m\u001b[0m\u001b[0;34m\u001b[0m\u001b[0m\n\u001b[0;32m--> 427\u001b[0;31m     \u001b[0mblank_intensities_df\u001b[0m \u001b[0;34m=\u001b[0m \u001b[0mmatched_df\u001b[0m\u001b[0;34m[\u001b[0m\u001b[0mmatched_df\u001b[0m\u001b[0;34m[\u001b[0m\u001b[0;34m'Sample Name'\u001b[0m\u001b[0;34m]\u001b[0m \u001b[0;34m==\u001b[0m \u001b[0mblank_name\u001b[0m\u001b[0;34m]\u001b[0m\u001b[0;34m[\u001b[0m\u001b[0;34m[\u001b[0m\u001b[0;34m'Lipid'\u001b[0m\u001b[0;34m,\u001b[0m\u001b[0;34m\"Transition\"\u001b[0m\u001b[0;34m,\u001b[0m \u001b[0;34m'Intensity'\u001b[0m\u001b[0;34m,\u001b[0m \u001b[0;34m'method_type'\u001b[0m\u001b[0;34m]\u001b[0m\u001b[0;34m]\u001b[0m\u001b[0;34m\u001b[0m\u001b[0;34m\u001b[0m\u001b[0m\n\u001b[0m\u001b[1;32m    428\u001b[0m     \u001b[0mblank_intensities_df\u001b[0m\u001b[0;34m.\u001b[0m\u001b[0mcolumns\u001b[0m \u001b[0;34m=\u001b[0m \u001b[0;34m[\u001b[0m\u001b[0;34m'Lipid'\u001b[0m\u001b[0;34m,\u001b[0m\u001b[0;34m\"Transition\"\u001b[0m\u001b[0;34m,\u001b[0m \u001b[0;34m'Blank_Intensity'\u001b[0m\u001b[0;34m,\u001b[0m \u001b[0;34m'method_type'\u001b[0m\u001b[0;34m]\u001b[0m\u001b[0;34m\u001b[0m\u001b[0;34m\u001b[0m\u001b[0m\n\u001b[1;32m    429\u001b[0m \u001b[0;34m\u001b[0m\u001b[0m\n",
      "\u001b[0;32m~/.conda/envs/CLA/lib/python3.7/site-packages/pandas/core/frame.py\u001b[0m in \u001b[0;36m__getitem__\u001b[0;34m(self, key)\u001b[0m\n\u001b[1;32m   3022\u001b[0m             \u001b[0;32mif\u001b[0m \u001b[0mself\u001b[0m\u001b[0;34m.\u001b[0m\u001b[0mcolumns\u001b[0m\u001b[0;34m.\u001b[0m\u001b[0mnlevels\u001b[0m \u001b[0;34m>\u001b[0m \u001b[0;36m1\u001b[0m\u001b[0;34m:\u001b[0m\u001b[0;34m\u001b[0m\u001b[0;34m\u001b[0m\u001b[0m\n\u001b[1;32m   3023\u001b[0m                 \u001b[0;32mreturn\u001b[0m \u001b[0mself\u001b[0m\u001b[0;34m.\u001b[0m\u001b[0m_getitem_multilevel\u001b[0m\u001b[0;34m(\u001b[0m\u001b[0mkey\u001b[0m\u001b[0;34m)\u001b[0m\u001b[0;34m\u001b[0m\u001b[0;34m\u001b[0m\u001b[0m\n\u001b[0;32m-> 3024\u001b[0;31m             \u001b[0mindexer\u001b[0m \u001b[0;34m=\u001b[0m \u001b[0mself\u001b[0m\u001b[0;34m.\u001b[0m\u001b[0mcolumns\u001b[0m\u001b[0;34m.\u001b[0m\u001b[0mget_loc\u001b[0m\u001b[0;34m(\u001b[0m\u001b[0mkey\u001b[0m\u001b[0;34m)\u001b[0m\u001b[0;34m\u001b[0m\u001b[0;34m\u001b[0m\u001b[0m\n\u001b[0m\u001b[1;32m   3025\u001b[0m             \u001b[0;32mif\u001b[0m \u001b[0mis_integer\u001b[0m\u001b[0;34m(\u001b[0m\u001b[0mindexer\u001b[0m\u001b[0;34m)\u001b[0m\u001b[0;34m:\u001b[0m\u001b[0;34m\u001b[0m\u001b[0;34m\u001b[0m\u001b[0m\n\u001b[1;32m   3026\u001b[0m                 \u001b[0mindexer\u001b[0m \u001b[0;34m=\u001b[0m \u001b[0;34m[\u001b[0m\u001b[0mindexer\u001b[0m\u001b[0;34m]\u001b[0m\u001b[0;34m\u001b[0m\u001b[0;34m\u001b[0m\u001b[0m\n",
      "\u001b[0;32m~/.conda/envs/CLA/lib/python3.7/site-packages/pandas/core/indexes/base.py\u001b[0m in \u001b[0;36mget_loc\u001b[0;34m(self, key, method, tolerance)\u001b[0m\n\u001b[1;32m   3080\u001b[0m                 \u001b[0;32mreturn\u001b[0m \u001b[0mself\u001b[0m\u001b[0;34m.\u001b[0m\u001b[0m_engine\u001b[0m\u001b[0;34m.\u001b[0m\u001b[0mget_loc\u001b[0m\u001b[0;34m(\u001b[0m\u001b[0mcasted_key\u001b[0m\u001b[0;34m)\u001b[0m\u001b[0;34m\u001b[0m\u001b[0;34m\u001b[0m\u001b[0m\n\u001b[1;32m   3081\u001b[0m             \u001b[0;32mexcept\u001b[0m \u001b[0mKeyError\u001b[0m \u001b[0;32mas\u001b[0m \u001b[0merr\u001b[0m\u001b[0;34m:\u001b[0m\u001b[0;34m\u001b[0m\u001b[0;34m\u001b[0m\u001b[0m\n\u001b[0;32m-> 3082\u001b[0;31m                 \u001b[0;32mraise\u001b[0m \u001b[0mKeyError\u001b[0m\u001b[0;34m(\u001b[0m\u001b[0mkey\u001b[0m\u001b[0;34m)\u001b[0m \u001b[0;32mfrom\u001b[0m \u001b[0merr\u001b[0m\u001b[0;34m\u001b[0m\u001b[0;34m\u001b[0m\u001b[0m\n\u001b[0m\u001b[1;32m   3083\u001b[0m \u001b[0;34m\u001b[0m\u001b[0m\n\u001b[1;32m   3084\u001b[0m         \u001b[0;32mif\u001b[0m \u001b[0mtolerance\u001b[0m \u001b[0;32mis\u001b[0m \u001b[0;32mnot\u001b[0m \u001b[0;32mNone\u001b[0m\u001b[0;34m:\u001b[0m\u001b[0;34m\u001b[0m\u001b[0;34m\u001b[0m\u001b[0m\n",
      "\u001b[0;31mKeyError\u001b[0m: 'Sample Name'"
     ]
    }
   ],
   "source": [
    "# Ignore warnings\n",
    "warnings.filterwarnings('ignore')\n",
    "\n",
    "# # Display GIF\n",
    "# gif = Image(filename='Figures/cat_gif.gif') # replace 'your_gif.gif' with the path to your GIF\n",
    "# display(gif)\n",
    "\n",
    "print(\"Your data is PURRing...\")\n",
    "\n",
    "if load_previously_parsed == True:\n",
    "    df_matched = pd.read_csv(Project_Folder+\"Processed Results/\"+file_name_to_save+\".csv\")\n",
    "    \n",
    "\n",
    "    \n",
    "#     tag_values = ['TAG14', 'TAG16', 'TAG18', 'TAG20', 'TAG22']\n",
    "#     dag_values = ['DAG16', 'DAG18']\n",
    "\n",
    "#     df_matched.loc[df_matched['method_type'].isin(tag_values), 'Class'] = 'TAG'\n",
    "#     df_matched.loc[df_matched['method_type'].isin(dag_values), 'Class'] = 'DAG'\n",
    "    \n",
    "else:\n",
    "    df_matched = full_parse(data_base_name_location,mzml_folder, folder_name_to_save,labels_df, blank_name, \n",
    "                            file_name_to_save,tolerance, custom_data = custom_data, remove_std = remove_std,save_data=save_data)\n",
    "\n",
    "print(\"Complete\")\n",
    "\n",
    "# df_matched = add_labels(labels_df,df_matched)\n",
    "# merged_df = subtract_blank(labels_df,df_matched,remove_list,blank_name)\n",
    "df_matched\n",
    "if custom_data ==True: ###Need to fix for custom classes\n",
    "    df_matched['Class'] = df_matched['Class'].replace({'AC': 'CAR', 'FFA': 'FA', 'CE | CE': 'CE', 'PE | PE': 'PE', 'PG | PG': 'PG'\n",
    "                                                      , 'PG | PG | PG': 'PG', 'PI | PI': 'PI', 'PS | PS': 'PS','CER': 'Cer'})\n",
    "    \n",
    "\n",
    "\n",
    "\n",
    "\n",
    "json_list_pairs = load_data()\n",
    "json_list_pairs = remove_empty_entries(json_list_pairs)\n",
    "json_list_singles = get_unique_json_objects(json_list_pairs)\n",
    "print(json_list_pairs)\n",
    "print(json_list_singles)\n",
    "# make_pie_chart_no_replicates(df_matched,plots_2_save_path,json_list_singles,labels_list,blank_name,extra_name)\n",
    "# average_pie_chart_no_repeats(df_matched,plots_2_save_path,json_list_singles,labels_list,blank_name,extra_name)\n",
    "# make_bar_plot_comparisons(df_matched, plots_2_save_path, json_list_pairs,labels_list,blank_name,extra_name)\n",
    "labels_list = labels_list + ['method_type',\"Transition\"]\n",
    "df_matched = add_suffix(df_matched)\n",
    "print(df_matched)\n",
    "combined_df = prep_edge_R(df_matched,json_list_pairs,Pre_edge_r_path,blank_name,labels_list,extra_name)\n",
    "# !bash myjob.sh\n"
   ]
  },
  {
   "cell_type": "code",
   "execution_count": 23,
   "metadata": {},
   "outputs": [
    {
     "data": {
      "text/html": [
       "<div>\n",
       "<style scoped>\n",
       "    .dataframe tbody tr th:only-of-type {\n",
       "        vertical-align: middle;\n",
       "    }\n",
       "\n",
       "    .dataframe tbody tr th {\n",
       "        vertical-align: top;\n",
       "    }\n",
       "\n",
       "    .dataframe thead th {\n",
       "        text-align: right;\n",
       "    }\n",
       "</style>\n",
       "<table border=\"1\" class=\"dataframe\">\n",
       "  <thead>\n",
       "    <tr style=\"text-align: right;\">\n",
       "      <th></th>\n",
       "      <th>Lipid</th>\n",
       "      <th>Precursor_Ion</th>\n",
       "      <th>Product_Ion</th>\n",
       "      <th>Intensity</th>\n",
       "      <th>Transition</th>\n",
       "      <th>Class</th>\n",
       "      <th>Sample_ID</th>\n",
       "      <th>Genotype</th>\n",
       "      <th>Brain Region</th>\n",
       "      <th>Sex</th>\n",
       "      <th>Blank Subtraction</th>\n",
       "    </tr>\n",
       "  </thead>\n",
       "  <tbody>\n",
       "    <tr>\n",
       "      <th>4491</th>\n",
       "      <td>(5Z,8Z)-tetradecadienoylcarnitine</td>\n",
       "      <td>368.3</td>\n",
       "      <td>85.1</td>\n",
       "      <td>97017264.0</td>\n",
       "      <td>368.3 -&gt; 85.1</td>\n",
       "      <td>CAR</td>\n",
       "      <td>AC_DOD100-M1-WT-cerebellum10x_01202023</td>\n",
       "      <td>WT</td>\n",
       "      <td>cerebellum</td>\n",
       "      <td>Male</td>\n",
       "      <td>95231340.0</td>\n",
       "    </tr>\n",
       "    <tr>\n",
       "      <th>4492</th>\n",
       "      <td>cis-5-Tetradecenoylcarnitine</td>\n",
       "      <td>370.3</td>\n",
       "      <td>85.1</td>\n",
       "      <td>2996571.0</td>\n",
       "      <td>370.3 -&gt; 85.1</td>\n",
       "      <td>CAR</td>\n",
       "      <td>AC_DOD100-M1-WT-cerebellum10x_01202023</td>\n",
       "      <td>WT</td>\n",
       "      <td>cerebellum</td>\n",
       "      <td>Male</td>\n",
       "      <td>1506027.0</td>\n",
       "    </tr>\n",
       "    <tr>\n",
       "      <th>4493</th>\n",
       "      <td>TetradecanoylcarnitineO-tetradecanoylcarnitine</td>\n",
       "      <td>372.3</td>\n",
       "      <td>85.1</td>\n",
       "      <td>1358860.0</td>\n",
       "      <td>372.3 -&gt; 85.1</td>\n",
       "      <td>CAR</td>\n",
       "      <td>AC_DOD100-M1-WT-cerebellum10x_01202023</td>\n",
       "      <td>WT</td>\n",
       "      <td>cerebellum</td>\n",
       "      <td>Male</td>\n",
       "      <td>0.0</td>\n",
       "    </tr>\n",
       "    <tr>\n",
       "      <th>4494</th>\n",
       "      <td>O-(11-carboxyundecanoyl)carnitine</td>\n",
       "      <td>374.2</td>\n",
       "      <td>85.1</td>\n",
       "      <td>1636443.0</td>\n",
       "      <td>374.2 -&gt; 85.1</td>\n",
       "      <td>CAR</td>\n",
       "      <td>AC_DOD100-M1-WT-cerebellum10x_01202023</td>\n",
       "      <td>WT</td>\n",
       "      <td>cerebellum</td>\n",
       "      <td>Male</td>\n",
       "      <td>204025.0</td>\n",
       "    </tr>\n",
       "    <tr>\n",
       "      <th>4495</th>\n",
       "      <td>(5Z,8Z)-3-hydroxytetradecadienoylcarnitine</td>\n",
       "      <td>384.3</td>\n",
       "      <td>85.1</td>\n",
       "      <td>2215148.0</td>\n",
       "      <td>384.3 -&gt; 85.1</td>\n",
       "      <td>CAR</td>\n",
       "      <td>AC_DOD100-M1-WT-cerebellum10x_01202023</td>\n",
       "      <td>WT</td>\n",
       "      <td>cerebellum</td>\n",
       "      <td>Male</td>\n",
       "      <td>137568.0</td>\n",
       "    </tr>\n",
       "    <tr>\n",
       "      <th>...</th>\n",
       "      <td>...</td>\n",
       "      <td>...</td>\n",
       "      <td>...</td>\n",
       "      <td>...</td>\n",
       "      <td>...</td>\n",
       "      <td>...</td>\n",
       "      <td>...</td>\n",
       "      <td>...</td>\n",
       "      <td>...</td>\n",
       "      <td>...</td>\n",
       "      <td>...</td>\n",
       "    </tr>\n",
       "    <tr>\n",
       "      <th>50893</th>\n",
       "      <td>TG(60:1)_FA 18:2</td>\n",
       "      <td>990.9</td>\n",
       "      <td>693.9</td>\n",
       "      <td>18610.0</td>\n",
       "      <td>990.9 -&gt; 693.9</td>\n",
       "      <td>TG</td>\n",
       "      <td>TAG2_M5FAD173-WT-Hippo10x_01192023</td>\n",
       "      <td>WT</td>\n",
       "      <td>hippo</td>\n",
       "      <td>Male</td>\n",
       "      <td>0.0</td>\n",
       "    </tr>\n",
       "    <tr>\n",
       "      <th>50894</th>\n",
       "      <td>TG(60:0)_FA 20:0</td>\n",
       "      <td>992.9</td>\n",
       "      <td>663.9</td>\n",
       "      <td>113377.0</td>\n",
       "      <td>992.9 -&gt; 663.9</td>\n",
       "      <td>TG</td>\n",
       "      <td>TAG2_M5FAD173-WT-Hippo10x_01192023</td>\n",
       "      <td>WT</td>\n",
       "      <td>hippo</td>\n",
       "      <td>Male</td>\n",
       "      <td>6108.0</td>\n",
       "    </tr>\n",
       "    <tr>\n",
       "      <th>50895</th>\n",
       "      <td>TG(60:0)_FA 20:4</td>\n",
       "      <td>992.9</td>\n",
       "      <td>671.9</td>\n",
       "      <td>15025.0</td>\n",
       "      <td>992.9 -&gt; 671.9</td>\n",
       "      <td>TG</td>\n",
       "      <td>TAG2_M5FAD173-WT-Hippo10x_01192023</td>\n",
       "      <td>WT</td>\n",
       "      <td>hippo</td>\n",
       "      <td>Male</td>\n",
       "      <td>0.0</td>\n",
       "    </tr>\n",
       "    <tr>\n",
       "      <th>50896</th>\n",
       "      <td>TG(60:0)_FA 18:1</td>\n",
       "      <td>992.9</td>\n",
       "      <td>693.9</td>\n",
       "      <td>17602.0</td>\n",
       "      <td>992.9 -&gt; 693.9</td>\n",
       "      <td>TG</td>\n",
       "      <td>TAG2_M5FAD173-WT-Hippo10x_01192023</td>\n",
       "      <td>WT</td>\n",
       "      <td>hippo</td>\n",
       "      <td>Male</td>\n",
       "      <td>0.0</td>\n",
       "    </tr>\n",
       "    <tr>\n",
       "      <th>50897</th>\n",
       "      <td>TG(60:0)_FA 18:2</td>\n",
       "      <td>992.9</td>\n",
       "      <td>695.9</td>\n",
       "      <td>14038.0</td>\n",
       "      <td>992.9 -&gt; 695.9</td>\n",
       "      <td>TG</td>\n",
       "      <td>TAG2_M5FAD173-WT-Hippo10x_01192023</td>\n",
       "      <td>WT</td>\n",
       "      <td>hippo</td>\n",
       "      <td>Male</td>\n",
       "      <td>0.0</td>\n",
       "    </tr>\n",
       "  </tbody>\n",
       "</table>\n",
       "<p>46407 rows × 11 columns</p>\n",
       "</div>"
      ],
      "text/plain": [
       "                                                Lipid  Precursor_Ion  \\\n",
       "4491                (5Z,8Z)-tetradecadienoylcarnitine          368.3   \n",
       "4492                     cis-5-Tetradecenoylcarnitine          370.3   \n",
       "4493   TetradecanoylcarnitineO-tetradecanoylcarnitine          372.3   \n",
       "4494                O-(11-carboxyundecanoyl)carnitine          374.2   \n",
       "4495       (5Z,8Z)-3-hydroxytetradecadienoylcarnitine          384.3   \n",
       "...                                               ...            ...   \n",
       "50893                                TG(60:1)_FA 18:2          990.9   \n",
       "50894                                TG(60:0)_FA 20:0          992.9   \n",
       "50895                                TG(60:0)_FA 20:4          992.9   \n",
       "50896                                TG(60:0)_FA 18:1          992.9   \n",
       "50897                                TG(60:0)_FA 18:2          992.9   \n",
       "\n",
       "       Product_Ion   Intensity      Transition Class  \\\n",
       "4491          85.1  97017264.0   368.3 -> 85.1   CAR   \n",
       "4492          85.1   2996571.0   370.3 -> 85.1   CAR   \n",
       "4493          85.1   1358860.0   372.3 -> 85.1   CAR   \n",
       "4494          85.1   1636443.0   374.2 -> 85.1   CAR   \n",
       "4495          85.1   2215148.0   384.3 -> 85.1   CAR   \n",
       "...            ...         ...             ...   ...   \n",
       "50893        693.9     18610.0  990.9 -> 693.9    TG   \n",
       "50894        663.9    113377.0  992.9 -> 663.9    TG   \n",
       "50895        671.9     15025.0  992.9 -> 671.9    TG   \n",
       "50896        693.9     17602.0  992.9 -> 693.9    TG   \n",
       "50897        695.9     14038.0  992.9 -> 695.9    TG   \n",
       "\n",
       "                                    Sample_ID Genotype Brain Region   Sex  \\\n",
       "4491   AC_DOD100-M1-WT-cerebellum10x_01202023       WT   cerebellum  Male   \n",
       "4492   AC_DOD100-M1-WT-cerebellum10x_01202023       WT   cerebellum  Male   \n",
       "4493   AC_DOD100-M1-WT-cerebellum10x_01202023       WT   cerebellum  Male   \n",
       "4494   AC_DOD100-M1-WT-cerebellum10x_01202023       WT   cerebellum  Male   \n",
       "4495   AC_DOD100-M1-WT-cerebellum10x_01202023       WT   cerebellum  Male   \n",
       "...                                       ...      ...          ...   ...   \n",
       "50893      TAG2_M5FAD173-WT-Hippo10x_01192023       WT        hippo  Male   \n",
       "50894      TAG2_M5FAD173-WT-Hippo10x_01192023       WT        hippo  Male   \n",
       "50895      TAG2_M5FAD173-WT-Hippo10x_01192023       WT        hippo  Male   \n",
       "50896      TAG2_M5FAD173-WT-Hippo10x_01192023       WT        hippo  Male   \n",
       "50897      TAG2_M5FAD173-WT-Hippo10x_01192023       WT        hippo  Male   \n",
       "\n",
       "       Blank Subtraction  \n",
       "4491          95231340.0  \n",
       "4492           1506027.0  \n",
       "4493                 0.0  \n",
       "4494            204025.0  \n",
       "4495            137568.0  \n",
       "...                  ...  \n",
       "50893                0.0  \n",
       "50894             6108.0  \n",
       "50895                0.0  \n",
       "50896                0.0  \n",
       "50897                0.0  \n",
       "\n",
       "[46407 rows x 11 columns]"
      ]
     },
     "execution_count": 23,
     "metadata": {},
     "output_type": "execute_result"
    }
   ],
   "source": [
    "# # Drop the columns 'Position' and 'Sample Name'\n",
    "# df_matched = df_matched.drop(columns=['Position', 'Sample Name'])\n",
    "#drop method_type column\n",
    "# df_matched = df_matched.drop(columns=['method_type'])\n",
    "# df_matched = df_matched.rename(columns={'Parent_Ion': 'Precursor_Ion'})\n",
    "\n",
    "# # Replace \"TAG\" with \"TG\"\n",
    "# df_matched['Lipid'] = df_matched['Lipid'].str.replace('TAG', 'TG')\n",
    "\n",
    "# # Change values in the 'Class' column\n",
    "# df_matched['Class'] = df_matched['Class'].replace({'TAG': 'TG', 'DAG': 'DG'})\n",
    "\n",
    "# # Remove rows where 'Sample_ID' contains \"Blank\"\n",
    "# df_matched = df_matched[~df_matched['Sample_ID'].str.contains('Blank')]\n",
    "df_matched[\"Intensity\"] = df_matched[\"Intensity\"].round(0)\n",
    "df_matched[\"Blank Subtraction\"] = df_matched[\"Blank Subtraction\"].round(0)\n",
    "\n",
    "\n",
    "df_matched.head(None)"
   ]
  },
  {
   "cell_type": "code",
   "execution_count": 24,
   "metadata": {},
   "outputs": [],
   "source": [
    "df_matched.to_csv('CLAW_Brain_MRM.csv', index=False)\n",
    "df_matched.to_excel('CLAW_Brain_MRM.xlsx', index=False)"
   ]
  },
  {
   "cell_type": "code",
   "execution_count": null,
   "metadata": {},
   "outputs": [],
   "source": []
  }
 ],
 "metadata": {
  "kernelspec": {
   "display_name": "Python 3 (ipykernel)",
   "language": "python",
   "name": "python3"
  },
  "language_info": {
   "codemirror_mode": {
    "name": "ipython",
    "version": 3
   },
   "file_extension": ".py",
   "mimetype": "text/x-python",
   "name": "python",
   "nbconvert_exporter": "python",
   "pygments_lexer": "ipython3",
   "version": "3.7.13"
  },
  "vscode": {
   "interpreter": {
    "hash": "7f59e923a9cab402a21ecdd8c8501a7d121113b28792a99acb445fcdcb4f42c3"
   }
  }
 },
 "nbformat": 4,
 "nbformat_minor": 2
}
