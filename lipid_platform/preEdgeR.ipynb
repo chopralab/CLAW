{
 "cells": [
  {
   "cell_type": "code",
   "execution_count": 1,
   "metadata": {},
   "outputs": [],
   "source": [
    "import pandas as pd"
   ]
  },
  {
   "cell_type": "markdown",
   "metadata": {},
   "source": [
    "Prep Labels"
   ]
  },
  {
   "cell_type": "code",
   "execution_count": 4,
   "metadata": {},
   "outputs": [
    {
     "name": "stdout",
     "output_type": "stream",
     "text": [
      "                                             File Path               File Name\n",
      "0    Projects/DTRA/mzml/done/bsub_done/A-T4-0-BDL-r...         A-T4-0-BDL-r001\n",
      "1    Projects/DTRA/mzml/done/bsub_done/C-T4-8GEN-BD...      C-T4-8GEN-BDL-r003\n",
      "2    Projects/DTRA/mzml/done/bsub_done/B-T4-0-BDL-r...         B-T4-0-BDL-r002\n",
      "3    Projects/DTRA/mzml/done/bsub_done/Bsub-C-T6-0-...        Bsub-C-T6-0-r002\n",
      "4    Projects/DTRA/mzml/done/bsub_done/Bsub-A-T2-0-...        Bsub-A-T2-0-r002\n",
      "..                                                 ...                     ...\n",
      "103  Projects/DTRA/mzml/done/paeru_done/Paeru-A-T4-...   Paeru-A-T4-0-BDL-r001\n",
      "104  Projects/DTRA/mzml/done/paeru_done/Paeru-B-T4-...   Paeru-B-T4-0-BDL-r002\n",
      "105  Projects/DTRA/mzml/done/paeru_done/Paeru-A-T4-...  Paeru-A-T4-16-BDL-r003\n",
      "106  Projects/DTRA/mzml/done/paeru_done/Paeru-A-T0-...   Paeru-A-T0-0-BDL-r002\n",
      "107  Projects/DTRA/mzml/done/paeru_done/Paeru-B-T0-...   Paeru-B-T0-0-BDL-r001\n",
      "\n",
      "[108 rows x 2 columns]\n"
     ]
    }
   ],
   "source": [
    "import os\n",
    "import pandas as pd\n",
    "\n",
    "def list_files_in_directory(directory):\n",
    "    \"\"\"\n",
    "    List all files in the given directory and its subdirectories.\n",
    "    \"\"\"\n",
    "    file_list = []\n",
    "    for root, dirs, files in os.walk(directory):\n",
    "        for file in files:\n",
    "            file_list.append(os.path.join(root, file))\n",
    "    return file_list\n",
    "\n",
    "# Given directory paths\n",
    "directories = [\n",
    "    \"Projects/DTRA/mzml/done/bsub_done\",\n",
    "    \"Projects/DTRA/mzml/done/ecoli_done\",\n",
    "    \"Projects/DTRA/mzml/done/paeru_done\"\n",
    "]\n",
    "\n",
    "# Initialize an empty DataFrame\n",
    "df_files = pd.DataFrame(columns=[\"File Path\"])\n",
    "\n",
    "# Iterate over each directory and list files\n",
    "for directory in directories:\n",
    "    file_list = list_files_in_directory(directory)\n",
    "    df_temp = pd.DataFrame(file_list, columns=[\"File Path\"])\n",
    "    df_files = pd.concat([df_files, df_temp], ignore_index=True)\n",
    "\n",
    "# Process file paths to keep only the last part and remove the '.mzML' extension\n",
    "df_files['File Name'] = df_files['File Path'].apply(lambda x: os.path.splitext(os.path.basename(x))[0])\n",
    "\n",
    "# Display the DataFrame\n",
    "print(df_files)\n"
   ]
  },
  {
   "cell_type": "code",
   "execution_count": 5,
   "metadata": {},
   "outputs": [
    {
     "name": "stdout",
     "output_type": "stream",
     "text": [
      "DataFrame saved to files_list.csv\n"
     ]
    }
   ],
   "source": []
  },
  {
   "cell_type": "code",
   "execution_count": 7,
   "metadata": {},
   "outputs": [
    {
     "data": {
      "text/html": [
       "<div>\n",
       "<style scoped>\n",
       "    .dataframe tbody tr th:only-of-type {\n",
       "        vertical-align: middle;\n",
       "    }\n",
       "\n",
       "    .dataframe tbody tr th {\n",
       "        vertical-align: top;\n",
       "    }\n",
       "\n",
       "    .dataframe thead th {\n",
       "        text-align: right;\n",
       "    }\n",
       "</style>\n",
       "<table border=\"1\" class=\"dataframe\">\n",
       "  <thead>\n",
       "    <tr style=\"text-align: right;\">\n",
       "      <th></th>\n",
       "      <th>File Path</th>\n",
       "      <th>File Name</th>\n",
       "      <th>Time</th>\n",
       "      <th>Dose</th>\n",
       "      <th>Bacteria</th>\n",
       "    </tr>\n",
       "  </thead>\n",
       "  <tbody>\n",
       "    <tr>\n",
       "      <th>0</th>\n",
       "      <td>Projects/DTRA/mzml/done/bsub_done/A-T4-0-BDL-r...</td>\n",
       "      <td>A-T4-0-BDL-r001</td>\n",
       "      <td>T4</td>\n",
       "      <td>0</td>\n",
       "      <td>None</td>\n",
       "    </tr>\n",
       "    <tr>\n",
       "      <th>1</th>\n",
       "      <td>Projects/DTRA/mzml/done/bsub_done/C-T4-8GEN-BD...</td>\n",
       "      <td>C-T4-8GEN-BDL-r003</td>\n",
       "      <td>T4</td>\n",
       "      <td>None</td>\n",
       "      <td>None</td>\n",
       "    </tr>\n",
       "    <tr>\n",
       "      <th>2</th>\n",
       "      <td>Projects/DTRA/mzml/done/bsub_done/B-T4-0-BDL-r...</td>\n",
       "      <td>B-T4-0-BDL-r002</td>\n",
       "      <td>T4</td>\n",
       "      <td>0</td>\n",
       "      <td>None</td>\n",
       "    </tr>\n",
       "    <tr>\n",
       "      <th>3</th>\n",
       "      <td>Projects/DTRA/mzml/done/bsub_done/Bsub-C-T6-0-...</td>\n",
       "      <td>Bsub-C-T6-0-r002</td>\n",
       "      <td>T6</td>\n",
       "      <td>0</td>\n",
       "      <td>Bsub</td>\n",
       "    </tr>\n",
       "    <tr>\n",
       "      <th>4</th>\n",
       "      <td>Projects/DTRA/mzml/done/bsub_done/Bsub-A-T2-0-...</td>\n",
       "      <td>Bsub-A-T2-0-r002</td>\n",
       "      <td>T2</td>\n",
       "      <td>0</td>\n",
       "      <td>Bsub</td>\n",
       "    </tr>\n",
       "    <tr>\n",
       "      <th>...</th>\n",
       "      <td>...</td>\n",
       "      <td>...</td>\n",
       "      <td>...</td>\n",
       "      <td>...</td>\n",
       "      <td>...</td>\n",
       "    </tr>\n",
       "    <tr>\n",
       "      <th>103</th>\n",
       "      <td>Projects/DTRA/mzml/done/paeru_done/Paeru-A-T4-...</td>\n",
       "      <td>Paeru-A-T4-0-BDL-r001</td>\n",
       "      <td>T4</td>\n",
       "      <td>0</td>\n",
       "      <td>Paeru</td>\n",
       "    </tr>\n",
       "    <tr>\n",
       "      <th>104</th>\n",
       "      <td>Projects/DTRA/mzml/done/paeru_done/Paeru-B-T4-...</td>\n",
       "      <td>Paeru-B-T4-0-BDL-r002</td>\n",
       "      <td>T4</td>\n",
       "      <td>0</td>\n",
       "      <td>Paeru</td>\n",
       "    </tr>\n",
       "    <tr>\n",
       "      <th>105</th>\n",
       "      <td>Projects/DTRA/mzml/done/paeru_done/Paeru-A-T4-...</td>\n",
       "      <td>Paeru-A-T4-16-BDL-r003</td>\n",
       "      <td>T4</td>\n",
       "      <td>16</td>\n",
       "      <td>Paeru</td>\n",
       "    </tr>\n",
       "    <tr>\n",
       "      <th>106</th>\n",
       "      <td>Projects/DTRA/mzml/done/paeru_done/Paeru-A-T0-...</td>\n",
       "      <td>Paeru-A-T0-0-BDL-r002</td>\n",
       "      <td>T0</td>\n",
       "      <td>0</td>\n",
       "      <td>Paeru</td>\n",
       "    </tr>\n",
       "    <tr>\n",
       "      <th>107</th>\n",
       "      <td>Projects/DTRA/mzml/done/paeru_done/Paeru-B-T0-...</td>\n",
       "      <td>Paeru-B-T0-0-BDL-r001</td>\n",
       "      <td>T0</td>\n",
       "      <td>0</td>\n",
       "      <td>Paeru</td>\n",
       "    </tr>\n",
       "  </tbody>\n",
       "</table>\n",
       "<p>108 rows × 5 columns</p>\n",
       "</div>"
      ],
      "text/plain": [
       "                                             File Path  \\\n",
       "0    Projects/DTRA/mzml/done/bsub_done/A-T4-0-BDL-r...   \n",
       "1    Projects/DTRA/mzml/done/bsub_done/C-T4-8GEN-BD...   \n",
       "2    Projects/DTRA/mzml/done/bsub_done/B-T4-0-BDL-r...   \n",
       "3    Projects/DTRA/mzml/done/bsub_done/Bsub-C-T6-0-...   \n",
       "4    Projects/DTRA/mzml/done/bsub_done/Bsub-A-T2-0-...   \n",
       "..                                                 ...   \n",
       "103  Projects/DTRA/mzml/done/paeru_done/Paeru-A-T4-...   \n",
       "104  Projects/DTRA/mzml/done/paeru_done/Paeru-B-T4-...   \n",
       "105  Projects/DTRA/mzml/done/paeru_done/Paeru-A-T4-...   \n",
       "106  Projects/DTRA/mzml/done/paeru_done/Paeru-A-T0-...   \n",
       "107  Projects/DTRA/mzml/done/paeru_done/Paeru-B-T0-...   \n",
       "\n",
       "                  File Name Time  Dose Bacteria  \n",
       "0           A-T4-0-BDL-r001   T4     0     None  \n",
       "1        C-T4-8GEN-BDL-r003   T4  None     None  \n",
       "2           B-T4-0-BDL-r002   T4     0     None  \n",
       "3          Bsub-C-T6-0-r002   T6     0     Bsub  \n",
       "4          Bsub-A-T2-0-r002   T2     0     Bsub  \n",
       "..                      ...  ...   ...      ...  \n",
       "103   Paeru-A-T4-0-BDL-r001   T4     0    Paeru  \n",
       "104   Paeru-B-T4-0-BDL-r002   T4     0    Paeru  \n",
       "105  Paeru-A-T4-16-BDL-r003   T4    16    Paeru  \n",
       "106   Paeru-A-T0-0-BDL-r002   T0     0    Paeru  \n",
       "107   Paeru-B-T0-0-BDL-r001   T0     0    Paeru  \n",
       "\n",
       "[108 rows x 5 columns]"
      ]
     },
     "execution_count": 7,
     "metadata": {},
     "output_type": "execute_result"
    }
   ],
   "source": [
    "#Set time dose and baceria\n",
    "\n",
    "# Define the function to parse the sample name\n",
    "def parse_sample_name(sample_name):\n",
    "    # Initialize variables\n",
    "    time = None\n",
    "    dose = None\n",
    "    bacteria = None\n",
    "    \n",
    "    # Split the sample name on hyphens and underscores\n",
    "    parts = sample_name.replace('-', '_').split('_')\n",
    "    \n",
    "    # Loop through the parts to find time and dose\n",
    "    for part in parts:\n",
    "        # Check for bacteria\n",
    "        if part in ['Bsub', 'Ecoli', 'Paeru']:\n",
    "            bacteria = part\n",
    "        # Check for time and dose\n",
    "        if part.startswith('T'):\n",
    "            # The time is the part starting with 'T'\n",
    "            time = part\n",
    "            # The dose follows the time and is a number\n",
    "            dose_index = parts.index(part) + 1\n",
    "            if dose_index < len(parts) and parts[dose_index].isdigit():\n",
    "                dose = parts[dose_index]\n",
    "    \n",
    "    return pd.Series([time, dose, bacteria])\n",
    "\n",
    "# Apply the parsing function to each row in the DataFrame and assign the result to new columns\n",
    "df_files[['Time', 'Dose', 'Bacteria']] = df_files['File Path'].apply(lambda x: parse_sample_name(os.path.splitext(os.path.basename(x))[0]))\n",
    "\n",
    "# Display the first few rows of the DataFrame with the parsed columns\n",
    "df_files.head(None)\n"
   ]
  },
  {
   "cell_type": "code",
   "execution_count": 11,
   "metadata": {},
   "outputs": [],
   "source": [
    "#save df to csv\n",
    "# Save the DataFrame to a CSV file\n",
    "csv_file_path = \"DTRA.xlsx\"  # You can change the file path and name as needed\n",
    "# df_files.to_csv(csv_file_path, index=False)\n",
    "df_files.to_excel(csv_file_path, index=False)\n",
    "\n",
    "# print(f\"DataFrame saved to {csv_file_path}\")\n"
   ]
  },
  {
   "cell_type": "code",
   "execution_count": 12,
   "metadata": {},
   "outputs": [],
   "source": [
    "###"
   ]
  },
  {
   "cell_type": "code",
   "execution_count": 3,
   "metadata": {},
   "outputs": [
    {
     "ename": "ModuleNotFoundError",
     "evalue": "No module named 'scipy'",
     "output_type": "error",
     "traceback": [
      "\u001b[0;31m---------------------------------------------------------------------------\u001b[0m",
      "\u001b[0;31mModuleNotFoundError\u001b[0m                       Traceback (most recent call last)",
      "\u001b[1;32m/home/iyer95/CLAW/CLAW/lipid_platform/preEdgeR.ipynb Cell 8\u001b[0m line \u001b[0;36m3\n\u001b[1;32m      <a href='vscode-notebook-cell://ssh-remote%2B7b22686f73744e616d65223a2247696c6272657468227d/home/iyer95/CLAW/CLAW/lipid_platform/preEdgeR.ipynb#X25sdnNjb2RlLXJlbW90ZQ%3D%3D?line=0'>1</a>\u001b[0m \u001b[39mimport\u001b[39;00m \u001b[39mmatplotlib\u001b[39;00m\u001b[39m.\u001b[39;00m\u001b[39mpyplot\u001b[39;00m \u001b[39mas\u001b[39;00m \u001b[39mplt\u001b[39;00m\n\u001b[1;32m      <a href='vscode-notebook-cell://ssh-remote%2B7b22686f73744e616d65223a2247696c6272657468227d/home/iyer95/CLAW/CLAW/lipid_platform/preEdgeR.ipynb#X25sdnNjb2RlLXJlbW90ZQ%3D%3D?line=1'>2</a>\u001b[0m \u001b[39mimport\u001b[39;00m \u001b[39mnumpy\u001b[39;00m \u001b[39mas\u001b[39;00m \u001b[39mnp\u001b[39;00m\n\u001b[0;32m----> <a href='vscode-notebook-cell://ssh-remote%2B7b22686f73744e616d65223a2247696c6272657468227d/home/iyer95/CLAW/CLAW/lipid_platform/preEdgeR.ipynb#X25sdnNjb2RlLXJlbW90ZQ%3D%3D?line=2'>3</a>\u001b[0m \u001b[39mimport\u001b[39;00m \u001b[39mscipy\u001b[39;00m\u001b[39m.\u001b[39;00m\u001b[39mstats\u001b[39;00m \u001b[39mas\u001b[39;00m \u001b[39mstats\u001b[39;00m\n\u001b[1;32m      <a href='vscode-notebook-cell://ssh-remote%2B7b22686f73744e616d65223a2247696c6272657468227d/home/iyer95/CLAW/CLAW/lipid_platform/preEdgeR.ipynb#X25sdnNjb2RlLXJlbW90ZQ%3D%3D?line=4'>5</a>\u001b[0m \u001b[39m# Define parameters for Gaussian and Poisson distributions\u001b[39;00m\n\u001b[1;32m      <a href='vscode-notebook-cell://ssh-remote%2B7b22686f73744e616d65223a2247696c6272657468227d/home/iyer95/CLAW/CLAW/lipid_platform/preEdgeR.ipynb#X25sdnNjb2RlLXJlbW90ZQ%3D%3D?line=5'>6</a>\u001b[0m mean \u001b[39m=\u001b[39m \u001b[39m5\u001b[39m\n",
      "\u001b[0;31mModuleNotFoundError\u001b[0m: No module named 'scipy'"
     ]
    }
   ],
   "source": [
    "import matplotlib.pyplot as plt\n",
    "import numpy as np\n",
    "import scipy.stats as stats\n",
    "\n",
    "# Define parameters for Gaussian and Poisson distributions\n",
    "mean = 5\n",
    "variance = 5\n",
    "sigma = np.sqrt(variance)\n",
    "x_gaussian = np.linspace(0, 15, 100)\n",
    "x_poisson = np.arange(0, 16)\n",
    "\n",
    "# Generate the Gaussian (Normal) distribution\n",
    "gaussian_distribution = stats.norm.pdf(x_gaussian, mean, sigma)\n",
    "\n",
    "# Generate the Poisson distribution\n",
    "poisson_distribution = stats.poisson.pmf(x_poisson, mean)\n",
    "\n",
    "# Plotting both distributions\n",
    "plt.figure(figsize=(12, 6))\n",
    "\n",
    "# Gaussian Distribution\n",
    "plt.subplot(1, 2, 1)\n",
    "plt.plot(x_gaussian, gaussian_distribution, color=\"blue\")\n",
    "plt.title(\"Gaussian Distribution (Mean = 5, Variance = 5)\")\n",
    "plt.xlabel(\"Value\")\n",
    "plt.ylabel(\"Probability Density\")\n",
    "\n",
    "# Poisson Distribution\n",
    "plt.subplot(1, 2, 2)\n",
    "plt.stem(x_poisson, poisson_distribution, basefmt=\" \", use_line_collection=True)\n",
    "plt.title(\"Poisson Distribution (Mean = 5)\")\n",
    "plt.xlabel(\"Number of Events\")\n",
    "plt.ylabel(\"Probability\")\n",
    "\n",
    "plt.tight_layout()\n",
    "plt.show()\n"
   ]
  },
  {
   "cell_type": "markdown",
   "metadata": {},
   "source": [
    "Add time dose bacteria columns to data"
   ]
  },
  {
   "cell_type": "code",
   "execution_count": 5,
   "metadata": {},
   "outputs": [],
   "source": [
    "import pandas as pd\n",
    "\n",
    "labels_df = pd.read_csv('Projects/DTRA/Labels/labels.csv')\n",
    "df = pd.read_csv('Projects/DTRA/Processed Results/CLAW_DTRA_BsEcPa.csv')\n"
   ]
  },
  {
   "cell_type": "code",
   "execution_count": 6,
   "metadata": {},
   "outputs": [],
   "source": [
    "combined_df = pd.merge(df, labels_df[['Sample Name', 'Time', 'Dose', 'Bacteria']], on='Sample Name', how='left')\n"
   ]
  },
  {
   "cell_type": "code",
   "execution_count": 9,
   "metadata": {},
   "outputs": [],
   "source": [
    "combined_df.to_csv('Projects/DTRA/Processed Results/CLAW_DTRA_3bac.csv', index=False)\n"
   ]
  },
  {
   "cell_type": "markdown",
   "metadata": {},
   "source": [
    "Change : to _ in Pre_EdgeR csv names"
   ]
  },
  {
   "cell_type": "code",
   "execution_count": 2,
   "metadata": {},
   "outputs": [
    {
     "name": "stdout",
     "output_type": "stream",
     "text": [
      "Filenames updated successfully.\n"
     ]
    }
   ],
   "source": [
    "import os\n",
    "\n",
    "# Specify the directory containing the CSV files\n",
    "directory = 'Projects/DTRA/Pre_EdgeR/'\n",
    "\n",
    "# Loop through all files in the directory\n",
    "for filename in os.listdir(directory):\n",
    "    # Check if the file is a CSV file\n",
    "    if filename.endswith('.csv'):\n",
    "        # Create the new filename by replacing colons with underscores\n",
    "        new_filename = filename.replace(':', '_')\n",
    "        \n",
    "        # Rename the file\n",
    "        os.rename(os.path.join(directory, filename), os.path.join(directory, new_filename))\n",
    "\n",
    "print(\"Filenames updated successfully.\")\n"
   ]
  },
  {
   "cell_type": "markdown",
   "metadata": {},
   "source": [
    "Find all unique combos of parameters"
   ]
  },
  {
   "cell_type": "code",
   "execution_count": 1,
   "metadata": {},
   "outputs": [],
   "source": [
    "'''\n",
    "T0, 0, Bsub\n",
    "T2, 0, Bsub\n",
    "T4, 0, Bsub\n",
    "T6, 0, Bsub\n",
    "T2, 8, Bsub\n",
    "T4, 8, Bsub\n",
    "T6, 8, Bsub\n",
    "T2, 0, Ecoli\n",
    "T0, Un, Ecoli\n",
    "T2, Un, Ecoli\n",
    "T0, 0, Paeru\n",
    "T4, 0, Paeru\n",
    "T4, 16, Paeru\n",
    "'''"
   ]
  },
  {
   "cell_type": "markdown",
   "metadata": {},
   "source": [
    "Run PreEdgeR"
   ]
  },
  {
   "cell_type": "code",
   "execution_count": null,
   "metadata": {},
   "outputs": [],
   "source": [
    "from NO_AVERAGE_SCRIPTS import prep_edge_R\n",
    "import pandas as pd\n",
    "import numpy as np\n",
    "from IPython.display import display, Image, clear_output\n",
    "import warnings\n",
    "\n",
    "from tools.GUI import assign_blank, load_blank_name\n",
    "from tools.GUI import folder_navigator, load_project_folder\n",
    "from tools.GUI import filter_samples, load_data_labels\n",
    "from tools.GUI import display_pair_widgets, load_data, remove_empty_entries, get_unique_json_objects\n",
    "from tools.parsing import add_suffix\n",
    "\n"
   ]
  },
  {
   "cell_type": "code",
   "execution_count": null,
   "metadata": {},
   "outputs": [],
   "source": [
    "Pre_folder = './Projects/'\n",
    "\n",
    "##Add a way to include a custom color scheme\n",
    "\n",
    "\n",
    "\n",
    "\n",
    "file_name_to_save = 'TEST'\n",
    "\n",
    "extra_name = \"Blank1\"\n",
    "\n",
    "tolerance = 0.1\n",
    "remove_std = True\n",
    "save_data= True\n",
    "\n",
    "\n",
    "load_previously_parsed = False\n",
    "custom_data=True\n",
    "\n",
    "\n",
    "folder_navigator()\n",
    "\n",
    "Project_Folder = load_project_folder()\n",
    "folder_name_to_save = Project_Folder+ 'Processed Results/'\n",
    "data_base_name_location = 'lipid_database/Lipid_Database.xlsx'\n",
    "mzml_folder = Project_Folder +\"mzml/\"\n",
    "Pre_edge_r_path = Project_Folder+\"Pre_EdgeR/\"\n",
    "plots_2_save_path = Project_Folder+\"Plots/\"\n",
    "label_file = Project_Folder+\"Labels/labels.csv\"\n",
    "labels_df = pd.read_csv(label_file)\n",
    "\n",
    "##determines blank\n",
    "unique_samples = labels_df['Sample Name'].unique()\n",
    "assign_blank(unique_samples)\n",
    "blank_name = load_blank_name()\n",
    "\n",
    "# Assuming labels_df is your DataFrame\n",
    "filter_samples(labels_df)\n",
    "labels_df2 = load_data_labels()\n",
    "labels_df2 = labels_df2.drop([\"Sample Name\",\"Position\"],axis=1)\n",
    "labels_list = list(labels_df)\n",
    "labels_list = labels_list +[\"Class\",\"Lipid\"]\n",
    "\n",
    "\n",
    "\n"
   ]
  },
  {
   "cell_type": "code",
   "execution_count": 1,
   "metadata": {},
   "outputs": [
    {
     "ename": "NameError",
     "evalue": "name 'warnings' is not defined",
     "output_type": "error",
     "traceback": [
      "\u001b[0;31m---------------------------------------------------------------------------\u001b[0m",
      "\u001b[0;31mNameError\u001b[0m                                 Traceback (most recent call last)",
      "\u001b[1;32m/home/iyer95/CLAW/CLAW/lipid_platform/preEdgeR.ipynb Cell 11\u001b[0m line \u001b[0;36m2\n\u001b[1;32m      <a href='vscode-notebook-cell://ssh-remote%2B7b22686f73744e616d65223a2247696c6272657468227d/home/iyer95/CLAW/CLAW/lipid_platform/preEdgeR.ipynb#X10sdnNjb2RlLXJlbW90ZQ%3D%3D?line=0'>1</a>\u001b[0m \u001b[39m# Ignore warnings\u001b[39;00m\n\u001b[0;32m----> <a href='vscode-notebook-cell://ssh-remote%2B7b22686f73744e616d65223a2247696c6272657468227d/home/iyer95/CLAW/CLAW/lipid_platform/preEdgeR.ipynb#X10sdnNjb2RlLXJlbW90ZQ%3D%3D?line=1'>2</a>\u001b[0m warnings\u001b[39m.\u001b[39mfilterwarnings(\u001b[39m'\u001b[39m\u001b[39mignore\u001b[39m\u001b[39m'\u001b[39m)\n\u001b[1;32m      <a href='vscode-notebook-cell://ssh-remote%2B7b22686f73744e616d65223a2247696c6272657468227d/home/iyer95/CLAW/CLAW/lipid_platform/preEdgeR.ipynb#X10sdnNjb2RlLXJlbW90ZQ%3D%3D?line=3'>4</a>\u001b[0m \u001b[39m# # Display GIF\u001b[39;00m\n\u001b[1;32m      <a href='vscode-notebook-cell://ssh-remote%2B7b22686f73744e616d65223a2247696c6272657468227d/home/iyer95/CLAW/CLAW/lipid_platform/preEdgeR.ipynb#X10sdnNjb2RlLXJlbW90ZQ%3D%3D?line=4'>5</a>\u001b[0m \u001b[39m# gif = Image(filename='Figures/cat_gif.gif') # replace 'your_gif.gif' with the path to your GIF\u001b[39;00m\n\u001b[1;32m      <a href='vscode-notebook-cell://ssh-remote%2B7b22686f73744e616d65223a2247696c6272657468227d/home/iyer95/CLAW/CLAW/lipid_platform/preEdgeR.ipynb#X10sdnNjb2RlLXJlbW90ZQ%3D%3D?line=5'>6</a>\u001b[0m \u001b[39m# display(gif)\u001b[39;00m\n\u001b[1;32m      <a href='vscode-notebook-cell://ssh-remote%2B7b22686f73744e616d65223a2247696c6272657468227d/home/iyer95/CLAW/CLAW/lipid_platform/preEdgeR.ipynb#X10sdnNjb2RlLXJlbW90ZQ%3D%3D?line=7'>8</a>\u001b[0m \u001b[39mprint\u001b[39m(\u001b[39m\"\u001b[39m\u001b[39mYour data is PURRing...\u001b[39m\u001b[39m\"\u001b[39m)\n",
      "\u001b[0;31mNameError\u001b[0m: name 'warnings' is not defined"
     ]
    }
   ],
   "source": [
    "# Ignore warnings\n",
    "warnings.filterwarnings('ignore')\n",
    "\n",
    "# # Display GIF\n",
    "# gif = Image(filename='Figures/cat_gif.gif') # replace 'your_gif.gif' with the path to your GIF\n",
    "# display(gif)\n",
    "\n",
    "print(\"Your data is PURRing...\")\n",
    "\n",
    "if load_previously_parsed == True:\n",
    "    df_matched = pd.read_csv(Project_Folder+\"Processed Results/\"+file_name_to_save+\".csv\")\n",
    "    \n",
    "\n",
    "    \n",
    "else:\n",
    "    df_matched = full_parse(data_base_name_location,mzml_folder, folder_name_to_save,labels_df, blank_name, \n",
    "                            file_name_to_save,tolerance, custom_data = custom_data, remove_std = remove_std,save_data=save_data)\n",
    "\n",
    "print(\"Complete\")\n",
    "\n",
    "# df_matched = add_labels(labels_df,df_matched)\n",
    "# merged_df = subtract_blank(labels_df,df_matched,remove_list,blank_name)\n",
    "df_matched\n",
    "if custom_data ==True: ###Need to fix for custom classes\n",
    "    df_matched['Class'] = df_matched['Class'].replace({'AC': 'CAR', 'FFA': 'FA', 'CE | CE': 'CE', 'PE | PE': 'PE', 'PG | PG': 'PG'\n",
    "                                                      , 'PG | PG | PG': 'PG', 'PI | PI': 'PI', 'PS | PS': 'PS','CER': 'Cer'})\n",
    "    \n",
    "\n",
    "\n",
    "json_list_pairs = load_data()\n",
    "json_list_pairs = remove_empty_entries(json_list_pairs)\n",
    "json_list_singles = get_unique_json_objects(json_list_pairs)\n",
    "labels_list = labels_list + ['method_type',\"Transition\"]\n",
    "df_matched = add_suffix(df_matched)\n",
    "combined_df = prep_edge_R(df_matched,json_list_pairs,Pre_edge_r_path,blank_name,labels_list,extra_name)\n"
   ]
  }
 ],
 "metadata": {
  "kernelspec": {
   "display_name": "Python 3",
   "language": "python",
   "name": "python3"
  },
  "language_info": {
   "codemirror_mode": {
    "name": "ipython",
    "version": 3
   },
   "file_extension": ".py",
   "mimetype": "text/x-python",
   "name": "python",
   "nbconvert_exporter": "python",
   "pygments_lexer": "ipython3",
   "version": "3.9.18"
  }
 },
 "nbformat": 4,
 "nbformat_minor": 2
}
