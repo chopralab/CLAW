{
 "cells": [
  {
   "cell_type": "code",
   "execution_count": 1,
   "id": "6685a220",
   "metadata": {},
   "outputs": [
    {
     "name": "stdout",
     "output_type": "stream",
     "text": [
      "No module named 'ms_deisotope._c.averagine' averagine\n",
      "No module named 'ms_deisotope._c.scoring'\n",
      "No module named 'ms_deisotope._c.deconvoluter_base'\n",
      "No module named 'ms_deisotope._c.deconvoluter_base'\n",
      "No module named 'ms_deisotope._c.deconvoluter_base'\n"
     ]
    }
   ],
   "source": [
    "#Import all the necessary libraries\n",
    "import pymzml\n",
    "import csv\n",
    "import os\n",
    "import pandas as pd\n",
    "import numpy as np\n",
    "import math\n",
    "from matplotlib import pyplot as plt\n",
    "import re\n",
    "import plotly.express as px\n",
    "from collections import defaultdict\n",
    "\n",
    "import plotly.io as pio\n",
    "import json\n",
    "import plotly.graph_objs as go\n",
    "import matplotlib.colors as mcolors\n",
    "\n",
    "import json\n",
    "import ipywidgets as widgets\n",
    "from IPython.display import display\n",
    "\n",
    "import warnings\n",
    "from IPython.display import display, Image, clear_output\n",
    "import time\n",
    "##Custom scripts\n",
    "from parsing_function import full_parse\n",
    "from parsing_function import filter_dataframe\n",
    "from parsing_function import hex_to_rgba_hex\n",
    "from parsing_function import json_to_string\n",
    "from parsing_function import prep_edge_R\n",
    "\n",
    "from plotting_functions import make_pie_chart_no_replicates\n",
    "\n",
    "from plotting_functions import average_pie_chart_no_repeats\n",
    "\n",
    "from plotting_functions import make_bar_plot_comparisons\n",
    "\n",
    "# dfdfplotting_functions"
   ]
  },
  {
   "cell_type": "code",
   "execution_count": 2,
   "id": "773509d3",
   "metadata": {},
   "outputs": [],
   "source": [
    "\n",
    "\n",
    "Pre_folder = './Projects/'\n",
    "\n",
    "Project_Folder =Pre_folder + 'Burda_Lab/'\n",
    "file_name_to_save = 'Burda_1_tolerance'\n",
    "\n",
    "custom_data=True\n",
    "\n",
    "tolerance = 0.1\n",
    "remove_std = True\n",
    "save_data= True\n"
   ]
  },
  {
   "cell_type": "code",
   "execution_count": 3,
   "id": "d5dd4741",
   "metadata": {},
   "outputs": [],
   "source": [
    "\n",
    "folder_name_to_save = Project_Folder+ 'Processed Results/'\n",
    "data_base_name_location = 'lipid_database/Lipid_Database.xlsx'\n",
    "mzml_folder = Project_Folder +\"mzml/\"\n",
    "Pre_edge_r_path = Project_Folder+\"Pre_EdgeR/\"\n",
    "plots_2_save_path = Project_Folder+\"Plots/\"\n",
    "label_file = Project_Folder+\"Labels/labels.csv\"\n"
   ]
  },
  {
   "cell_type": "code",
   "execution_count": 4,
   "id": "db6fd542",
   "metadata": {},
   "outputs": [],
   "source": [
    "##Labels DF and Labels List\n",
    "labels_df = pd.read_csv(label_file)\n",
    "labels_list = list(labels_df)\n",
    "labels_list = labels_list +[\"Class\",\"Lipid\"]"
   ]
  },
  {
   "cell_type": "code",
   "execution_count": 7,
   "id": "72fe4bb1",
   "metadata": {},
   "outputs": [
    {
     "data": {
      "application/vnd.jupyter.widget-view+json": {
       "model_id": "889b5938c5f447919ef96ee85d7f36c6",
       "version_major": 2,
       "version_minor": 0
      },
      "text/plain": [
       "Dropdown(description='Samples', options=('AK0161', 'AK0170', 'AK0139', 'AK0200', 'AK0202', 'AK0204', 'AK0174',…"
      ]
     },
     "metadata": {},
     "output_type": "display_data"
    },
    {
     "data": {
      "application/vnd.jupyter.widget-view+json": {
       "model_id": "d7b0da28c7e243fe8e38b1992b713b57",
       "version_major": 2,
       "version_minor": 0
      },
      "text/plain": [
       "Button(description='Assign Blank', style=ButtonStyle())"
      ]
     },
     "metadata": {},
     "output_type": "display_data"
    },
    {
     "data": {
      "application/vnd.jupyter.widget-view+json": {
       "model_id": "cc2f124a4ff14fe7adb1470ad1a7a20d",
       "version_major": 2,
       "version_minor": 0
      },
      "text/plain": [
       "Output()"
      ]
     },
     "metadata": {},
     "output_type": "display_data"
    }
   ],
   "source": [
    "# Assuming labels_df is your DataFrame and 'Sample Name' is the column with instances you want to select from\n",
    "unique_samples = labels_df['Sample Name'].unique()\n",
    "\n",
    "# Create a dropdown selection widget with instances as options\n",
    "dropdown = widgets.Dropdown(\n",
    "    options=unique_samples,\n",
    "    value=unique_samples[0],  # default value\n",
    "    description='Samples',\n",
    "    disabled=False,\n",
    ")\n",
    "display(dropdown)\n",
    "\n",
    "# Create a button to perform the assignment\n",
    "button = widgets.Button(description=\"Assign Blank\")\n",
    "display(button)\n",
    "\n",
    "# Output widget to display the selected sample name\n",
    "output = widgets.Output()\n",
    "display(output)\n",
    "\n",
    "# Global variable to store the selected sample name\n",
    "global blank_name\n",
    "\n",
    "def on_button_clicked(b):\n",
    "    # Declare blank_name as global variable\n",
    "    global blank_name\n",
    "\n",
    "    # Assign the selected sample name to blank_name\n",
    "    blank_name = dropdown.value\n",
    "\n",
    "    # Display the selected sample name\n",
    "    with output:\n",
    "        output.clear_output()\n",
    "        print(f\"Blank is: {blank_name}\")\n",
    "\n",
    "button.on_click(on_button_clicked)"
   ]
  },
  {
   "cell_type": "code",
   "execution_count": 8,
   "id": "d9cfa621",
   "metadata": {},
   "outputs": [
    {
     "data": {
      "application/vnd.jupyter.widget-view+json": {
       "model_id": "720b699478eb4988a209bbb47e4c94f2",
       "version_major": 2,
       "version_minor": 0
      },
      "text/plain": [
       "SelectMultiple(description='Samples', index=(0,), options=('AK0161', 'AK0170', 'AK0139', 'AK0200', 'AK0202', '…"
      ]
     },
     "metadata": {},
     "output_type": "display_data"
    },
    {
     "data": {
      "application/vnd.jupyter.widget-view+json": {
       "model_id": "a520682152594187af18ce749e027ae6",
       "version_major": 2,
       "version_minor": 0
      },
      "text/plain": [
       "Button(description='Filter Samples', style=ButtonStyle())"
      ]
     },
     "metadata": {},
     "output_type": "display_data"
    },
    {
     "data": {
      "application/vnd.jupyter.widget-view+json": {
       "model_id": "b13feda731a84f759dc387c55c38d5f1",
       "version_major": 2,
       "version_minor": 0
      },
      "text/plain": [
       "Output()"
      ]
     },
     "metadata": {},
     "output_type": "display_data"
    }
   ],
   "source": [
    "\n",
    "# Assuming df is your DataFrame and 'Sample name' is the column with instances you want to filter\n",
    "unique_samples = labels_df['Sample Name'].unique()\n",
    "\n",
    "# Create a multiple selection widget with instances as options\n",
    "multi_select = widgets.SelectMultiple(\n",
    "    options=unique_samples,\n",
    "    value=[unique_samples[0]],  # default value\n",
    "    rows=len(unique_samples),\n",
    "    description='Samples',\n",
    "    disabled=False\n",
    ")\n",
    "display(multi_select)\n",
    "\n",
    "# Create a button to perform the filtering\n",
    "button = widgets.Button(description=\"Filter Samples\")\n",
    "display(button)\n",
    "\n",
    "# Output widget to display the resulting dataframe\n",
    "output = widgets.Output()\n",
    "display(output)\n",
    "\n",
    "# Global variable to store the new DataFrame\n",
    "global labels_df2\n",
    "\n",
    "def on_button_clicked(b):\n",
    "    # Declare labels_df2 as global variable\n",
    "    global labels_df2\n",
    "    \n",
    "    # Clear the current output\n",
    "    with output:\n",
    "        output.clear_output()\n",
    "        \n",
    "    # Filter dataframe to exclude the selection\n",
    "    labels_df2 = labels_df[~labels_df['Sample Name'].isin(multi_select.value)]\n",
    "    \n",
    "    # Display the new dataframe\n",
    "    with output:\n",
    "        display(labels_df2)\n",
    "\n",
    "button.on_click(on_button_clicked)"
   ]
  },
  {
   "cell_type": "code",
   "execution_count": 9,
   "id": "afe5f1c6",
   "metadata": {},
   "outputs": [],
   "source": [
    "labels_df2 = labels_df2.drop([\"Sample Name\",\"Position\"],axis=1)"
   ]
  },
  {
   "cell_type": "code",
   "execution_count": 10,
   "id": "cfcae3fd",
   "metadata": {},
   "outputs": [],
   "source": [
    "main_json = {col: labels_df2[col].unique().tolist() for col in labels_df2}"
   ]
  },
  {
   "cell_type": "code",
   "execution_count": 11,
   "id": "457a76bf",
   "metadata": {},
   "outputs": [
    {
     "data": {
      "text/plain": [
       "{'nickname': ['H_KO_1',\n",
       "  'H_KO_2',\n",
       "  'H_KO_3',\n",
       "  'H_KO_5',\n",
       "  'H_KO_6',\n",
       "  'H_KO_7',\n",
       "  'H_WT_1',\n",
       "  'H_WT_2',\n",
       "  'H_WT_3',\n",
       "  'H_WT_4',\n",
       "  'H_WT_6',\n",
       "  'I_KO_1',\n",
       "  'I_KO_2',\n",
       "  'I_KO_3',\n",
       "  'I_KO_4',\n",
       "  'I_KO_5',\n",
       "  'I_WT_1',\n",
       "  'I_WT_2',\n",
       "  'I_WT_3',\n",
       "  'I_WT_4',\n",
       "  'I_WT_5',\n",
       "  'I_WT_6'],\n",
       " 'Sex': ['M', 'F'],\n",
       " 'Genotype': ['cKO', 'WT'],\n",
       " 'time point': ['healthy', '28d ISCI']}"
      ]
     },
     "execution_count": 11,
     "metadata": {},
     "output_type": "execute_result"
    }
   ],
   "source": [
    "main_json"
   ]
  },
  {
   "cell_type": "code",
   "execution_count": 17,
   "id": "e20bb8ca",
   "metadata": {},
   "outputs": [],
   "source": [
    "# Agent imports\n",
    "from langchain.agents import create_json_agent, AgentExecutor, Tool\n",
    "from langchain.agents.agent_toolkits import JsonToolkit\n",
    "from langchain.agents.agent_toolkits.base import BaseToolkit\n",
    "\n",
    "# Tool imports\n",
    "from langchain.tools import BaseTool\n",
    "from langchain.tools.human.tool import HumanInputRun\n",
    "from langchain.tools.json.tool import JsonGetValueTool, JsonListKeysTool, JsonSpec\n",
    "from langchain.tools.json.tool import JsonSpec\n",
    "\n",
    "# LLM imports\n",
    "from langchain.chains import LLMChain\n",
    "from langchain.llms.openai import OpenAI\n",
    "from langchain.requests import TextRequestsWrapper\n",
    "\n",
    "# Managers\n",
    "from langchain.callbacks.manager import (\n",
    "    AsyncCallbackManagerForToolRun,\n",
    "    CallbackManagerForToolRun,\n",
    ")\n",
    "\n",
    "# Typing + other imports\n",
    "from typing import List, Optional, Callable\n",
    "import json\n",
    "import ast\n",
    "from pathlib import Path"
   ]
  },
  {
   "cell_type": "code",
   "execution_count": 31,
   "id": "f89f2139",
   "metadata": {},
   "outputs": [],
   "source": [
    "# Define custom tools\n",
    "class JsonFilterFromKeysTool(BaseTool):\n",
    "    \n",
    "\n",
    "    def filter_json_nested(self,json_dict, keys_string, values_string):\n",
    "        # Parse keys_string and values_string into lists\n",
    "        keys = ast.literal_eval(keys_string)\n",
    "        values = ast.literal_eval(values_string)\n",
    "\n",
    "        filtered_dict = {}\n",
    "        for k, v in json_dict.items():\n",
    "            # If key and value are in the respective lists, add to filtered_dict\n",
    "            if k in keys and v in values:\n",
    "                filtered_dict[k] = v\n",
    "            # If the value is a nested dictionary, filter the nested dictionary\n",
    "            elif isinstance(v, dict):\n",
    "                filtered_dict[k] = filter_json_nested(v, keys_string, values_string)\n",
    "        return filtered_dict\n",
    "\n",
    "    name=\"json_filter_json_from_lists\"\n",
    "    description = \"\"\"Can be used to filter a JSON at a provided path based on provided keys and values.\n",
    "        Before calling this you should be SURE that the path to this exists.\n",
    "        The input is an exact text representation of two Python lists spearated by a semi colon where first list is the keys  to filter on, and the second list is the values to filter on.\n",
    "    \"\"\"\n",
    "    spec: JsonSpec\n",
    "    \n",
    "    def _run(\n",
    "        self,\n",
    "        tool_input: str,\n",
    "        run_manager: Optional[CallbackManagerForToolRun] = None,\n",
    "    ) -> str:\n",
    "        return self.filter_json_nested(\n",
    "            self.spec.dict_,\n",
    "            tool_input.split(\";\")[0],\n",
    "            tool_input.split(\";\")[1]\n",
    "        )\n",
    "\n",
    "    async def _arun(\n",
    "        self,\n",
    "        tool_input: str,\n",
    "        run_manager: Optional[AsyncCallbackManagerForToolRun] = None,\n",
    "    ) -> str:\n",
    "        return self._run(tool_input)"
   ]
  },
  {
   "cell_type": "code",
   "execution_count": 32,
   "id": "a612f96a",
   "metadata": {},
   "outputs": [],
   "source": [
    "\n",
    "os.environ[\"OPENAI_API_KEY\"] = \"\"\n"
   ]
  },
  {
   "cell_type": "code",
   "execution_count": 33,
   "id": "097bc995",
   "metadata": {},
   "outputs": [],
   "source": [
    "# Define our custom tool kit\n",
    "json_spec = JsonSpec(dict_=main_json, max_value_length=4000)\n",
    "#json_toolkit = JsonToolkit(spec=json_spec)\n",
    "\n",
    "class CustomToolkit(BaseToolkit):\n",
    "      \n",
    "      spec: JsonSpec\n",
    "      \n",
    "      def get_tools(self) -> List[BaseTool]:\n",
    "          return [\n",
    "            JsonListKeysTool(spec=self.spec),\n",
    "            JsonGetValueTool(spec=self.spec),\n",
    "            JsonFilterFromKeysTool(spec=self.spec),\n",
    "            HumanInputRun()\n",
    "          ]\n",
    "\n",
    "custom_toolkit = CustomToolkit(spec=json_spec)"
   ]
  },
  {
   "cell_type": "code",
   "execution_count": null,
   "id": "b697cc0a",
   "metadata": {},
   "outputs": [],
   "source": []
  },
  {
   "cell_type": "code",
   "execution_count": null,
   "id": "590965a1",
   "metadata": {},
   "outputs": [],
   "source": []
  },
  {
   "cell_type": "code",
   "execution_count": null,
   "id": "1258a79a",
   "metadata": {},
   "outputs": [],
   "source": [
    "json_spec_list_keys  json_spec_get_value\n",
    "\n"
   ]
  },
  {
   "cell_type": "code",
   "execution_count": 51,
   "id": "dd86608c",
   "metadata": {},
   "outputs": [],
   "source": [
    "# Define our prompt prefix and suffixes\n",
    "\n",
    "prefix = \"\"\"You are an agent designed to interact with a JSON and the user and have several potential objectives.\n",
    "1. Provide the user with requested information on the JSON\n",
    "2. Create a new JSON based off of user input and a filtered version of the original JSON\n",
    "\n",
    "Your overall goal is to return a final answer by interacting with the user to create a new JSON object based on the original JSON.\n",
    "You should talk like a cat when responding, make sure to use lots of meows and replace words that sounds like meow with meow.\n",
    "\n",
    "You have access to the following tools which help you learn more about the JSON you are interacting with.\n",
    "Only use the below tools. Only use the information returned by the below tools to construct your final answer.\n",
    "Do not make up any information that is not contained in the JSON.\n",
    "\n",
    "Your input to JSON tool filter_json_nested will be two python lists A list of dictionary keys and a list of dictionary \n",
    "values. The user should be asked for these lists with repeated questions for clarification.\n",
    "Your input to JSON tools json_spec_list_keys and json_spec_get_value should be in the form of `data[\"key\"][0]` where `data` is the JSON blob you are interacting with, and the syntax used is Python. \n",
    "You should only use keys that you know for a fact exist. You must validate that a key exists by seeing it previously when calling `json_spec_list_keys`. \n",
    "If you have not seen a key in one of those responses, you cannot use it.\n",
    "You should only add one key at a time to the path. You cannot add multiple keys at once.\n",
    "If you encounter a \"KeyError\", go back to the previous key, look at the available keys, and try again.\n",
    "\n",
    "\n",
    "\n",
    "If the question does not seem to be related to the JSON, ask the user for guidance.\n",
    "Always begin your interaction with the `json_spec_list_keys` tool with input \"data\" to see what keys exist in the JSON.\n",
    "Always ask the user what they would like to do based on your objectives.\n",
    "If you do not know which key to use or need any clarification ask the user for guidance.\n",
    "\n",
    "Sometimes the keys the user provides will not be entirely correct.\n",
    "You may need to infer what keys they mean.\n",
    "\n",
    "Do not return your final answer until the user asks for it.\n",
    "\n",
    "Note that sometimes the value at a given path is large. In this case, you will get an error \"Value is a large dictionary, should explore its keys directly\".\n",
    "In this case, you should ALWAYS follow up by using the `json_spec_list_keys` tool to see what keys exist at that path.\n",
    "Do not simply refer the user to the JSON or a section of the JSON, as this is not a valid answer. Keep digging until you find the answer and explicitly return it.\n",
    "\"\"\"\n",
    "\n",
    "suffix = \"\"\"Begin!\"\n",
    "\n",
    "Remember to format your answers talking as a cat would.\n",
    "\n",
    "Question: {input}\n",
    "{agent_scratchpad}\"\"\""
   ]
  },
  {
   "cell_type": "code",
   "execution_count": 52,
   "id": "c070c98c",
   "metadata": {},
   "outputs": [],
   "source": [
    "# Build the agent executor\n",
    "json_agent_executor = create_json_agent(\n",
    "    llm=OpenAI(temperature=0),\n",
    "    prefix=prefix,\n",
    "    suffix=suffix,\n",
    "    toolkit=custom_toolkit,\n",
    "    verbose=True\n",
    ")"
   ]
  },
  {
   "cell_type": "code",
   "execution_count": 53,
   "id": "f3ccc078",
   "metadata": {},
   "outputs": [
    {
     "name": "stdout",
     "output_type": "stream",
     "text": [
      "\n",
      "\n",
      "\u001b[1m> Entering new AgentExecutor chain...\u001b[0m\n",
      "\u001b[32;1m\u001b[1;3mThought: I need to figure out what keys and values to filter on\n",
      "Action: json_spec_list_keys\n",
      "Action Input: data\u001b[0m\n",
      "Observation: \u001b[36;1m\u001b[1;3m['nickname', 'Sex', 'Genotype', 'time point']\u001b[0m\n",
      "Thought:"
     ]
    },
    {
     "name": "stderr",
     "output_type": "stream",
     "text": [
      "Retrying langchain.llms.openai.completion_with_retry.<locals>._completion_with_retry in 4.0 seconds as it raised RateLimitError: That model is currently overloaded with other requests. You can retry your request, or contact us through our help center at help.openai.com if the error persists. (Please include the request ID 6a01b211520242a2c4dac18de6af4c3f in your message.).\n"
     ]
    },
    {
     "name": "stdout",
     "output_type": "stream",
     "text": [
      "\u001b[32;1m\u001b[1;3m I need to ask the user what keys and values they want to filter on\n",
      "Action: Human\n",
      "Action Input: What keys and values would you like to filter on?\u001b[0m\n",
      "\n",
      "What keys and values would you like to filter on?\n",
      "Sex\n",
      "\n",
      "Observation: \u001b[31;1m\u001b[1;3mSex\u001b[0m\n",
      "Thought:\u001b[32;1m\u001b[1;3m I need to ask the user what values they want to filter on\n",
      "Action: Human\n",
      "Action Input: What values would you like to filter on?\u001b[0m\n",
      "\n",
      "What values would you like to filter on?\n",
      "K\n",
      "\n",
      "Observation: \u001b[31;1m\u001b[1;3mK\u001b[0m\n",
      "Thought:\u001b[32;1m\u001b[1;3m I now know the keys and values to filter on\n",
      "Action: json_filter_json_from_keys\n",
      "Action Input: ['Sex'], ['K']\u001b[0m"
     ]
    },
    {
     "ename": "IndexError",
     "evalue": "list index out of range",
     "output_type": "error",
     "traceback": [
      "\u001b[0;31m---------------------------------------------------------------------------\u001b[0m",
      "\u001b[0;31mIndexError\u001b[0m                                Traceback (most recent call last)",
      "Cell \u001b[0;32mIn [53], line 2\u001b[0m\n\u001b[1;32m      1\u001b[0m \u001b[38;5;66;03m# Initiate the agent executor run with an initial question\u001b[39;00m\n\u001b[0;32m----> 2\u001b[0m \u001b[43mjson_agent_executor\u001b[49m\u001b[38;5;241;43m.\u001b[39;49m\u001b[43mrun\u001b[49m\u001b[43m(\u001b[49m\u001b[38;5;124;43m\"\u001b[39;49m\u001b[38;5;124;43mHi, my name is Connor. Can you help me filter my JSON\u001b[39;49m\u001b[38;5;124;43m\"\u001b[39;49m\u001b[43m)\u001b[49m\n",
      "File \u001b[0;32m~/.conda/envs/cent7/2020.11-py38/lipid_parser2/lib/python3.9/site-packages/langchain/chains/base.py:236\u001b[0m, in \u001b[0;36mChain.run\u001b[0;34m(self, callbacks, *args, **kwargs)\u001b[0m\n\u001b[1;32m    234\u001b[0m     \u001b[38;5;28;01mif\u001b[39;00m \u001b[38;5;28mlen\u001b[39m(args) \u001b[38;5;241m!=\u001b[39m \u001b[38;5;241m1\u001b[39m:\n\u001b[1;32m    235\u001b[0m         \u001b[38;5;28;01mraise\u001b[39;00m \u001b[38;5;167;01mValueError\u001b[39;00m(\u001b[38;5;124m\"\u001b[39m\u001b[38;5;124m`run` supports only one positional argument.\u001b[39m\u001b[38;5;124m\"\u001b[39m)\n\u001b[0;32m--> 236\u001b[0m     \u001b[38;5;28;01mreturn\u001b[39;00m \u001b[38;5;28;43mself\u001b[39;49m\u001b[43m(\u001b[49m\u001b[43margs\u001b[49m\u001b[43m[\u001b[49m\u001b[38;5;241;43m0\u001b[39;49m\u001b[43m]\u001b[49m\u001b[43m,\u001b[49m\u001b[43m \u001b[49m\u001b[43mcallbacks\u001b[49m\u001b[38;5;241;43m=\u001b[39;49m\u001b[43mcallbacks\u001b[49m\u001b[43m)\u001b[49m[\u001b[38;5;28mself\u001b[39m\u001b[38;5;241m.\u001b[39moutput_keys[\u001b[38;5;241m0\u001b[39m]]\n\u001b[1;32m    238\u001b[0m \u001b[38;5;28;01mif\u001b[39;00m kwargs \u001b[38;5;129;01mand\u001b[39;00m \u001b[38;5;129;01mnot\u001b[39;00m args:\n\u001b[1;32m    239\u001b[0m     \u001b[38;5;28;01mreturn\u001b[39;00m \u001b[38;5;28mself\u001b[39m(kwargs, callbacks\u001b[38;5;241m=\u001b[39mcallbacks)[\u001b[38;5;28mself\u001b[39m\u001b[38;5;241m.\u001b[39moutput_keys[\u001b[38;5;241m0\u001b[39m]]\n",
      "File \u001b[0;32m~/.conda/envs/cent7/2020.11-py38/lipid_parser2/lib/python3.9/site-packages/langchain/chains/base.py:140\u001b[0m, in \u001b[0;36mChain.__call__\u001b[0;34m(self, inputs, return_only_outputs, callbacks)\u001b[0m\n\u001b[1;32m    138\u001b[0m \u001b[38;5;28;01mexcept\u001b[39;00m (\u001b[38;5;167;01mKeyboardInterrupt\u001b[39;00m, \u001b[38;5;167;01mException\u001b[39;00m) \u001b[38;5;28;01mas\u001b[39;00m e:\n\u001b[1;32m    139\u001b[0m     run_manager\u001b[38;5;241m.\u001b[39mon_chain_error(e)\n\u001b[0;32m--> 140\u001b[0m     \u001b[38;5;28;01mraise\u001b[39;00m e\n\u001b[1;32m    141\u001b[0m run_manager\u001b[38;5;241m.\u001b[39mon_chain_end(outputs)\n\u001b[1;32m    142\u001b[0m \u001b[38;5;28;01mreturn\u001b[39;00m \u001b[38;5;28mself\u001b[39m\u001b[38;5;241m.\u001b[39mprep_outputs(inputs, outputs, return_only_outputs)\n",
      "File \u001b[0;32m~/.conda/envs/cent7/2020.11-py38/lipid_parser2/lib/python3.9/site-packages/langchain/chains/base.py:134\u001b[0m, in \u001b[0;36mChain.__call__\u001b[0;34m(self, inputs, return_only_outputs, callbacks)\u001b[0m\n\u001b[1;32m    128\u001b[0m run_manager \u001b[38;5;241m=\u001b[39m callback_manager\u001b[38;5;241m.\u001b[39mon_chain_start(\n\u001b[1;32m    129\u001b[0m     {\u001b[38;5;124m\"\u001b[39m\u001b[38;5;124mname\u001b[39m\u001b[38;5;124m\"\u001b[39m: \u001b[38;5;28mself\u001b[39m\u001b[38;5;241m.\u001b[39m\u001b[38;5;18m__class__\u001b[39m\u001b[38;5;241m.\u001b[39m\u001b[38;5;18m__name__\u001b[39m},\n\u001b[1;32m    130\u001b[0m     inputs,\n\u001b[1;32m    131\u001b[0m )\n\u001b[1;32m    132\u001b[0m \u001b[38;5;28;01mtry\u001b[39;00m:\n\u001b[1;32m    133\u001b[0m     outputs \u001b[38;5;241m=\u001b[39m (\n\u001b[0;32m--> 134\u001b[0m         \u001b[38;5;28;43mself\u001b[39;49m\u001b[38;5;241;43m.\u001b[39;49m\u001b[43m_call\u001b[49m\u001b[43m(\u001b[49m\u001b[43minputs\u001b[49m\u001b[43m,\u001b[49m\u001b[43m \u001b[49m\u001b[43mrun_manager\u001b[49m\u001b[38;5;241;43m=\u001b[39;49m\u001b[43mrun_manager\u001b[49m\u001b[43m)\u001b[49m\n\u001b[1;32m    135\u001b[0m         \u001b[38;5;28;01mif\u001b[39;00m new_arg_supported\n\u001b[1;32m    136\u001b[0m         \u001b[38;5;28;01melse\u001b[39;00m \u001b[38;5;28mself\u001b[39m\u001b[38;5;241m.\u001b[39m_call(inputs)\n\u001b[1;32m    137\u001b[0m     )\n\u001b[1;32m    138\u001b[0m \u001b[38;5;28;01mexcept\u001b[39;00m (\u001b[38;5;167;01mKeyboardInterrupt\u001b[39;00m, \u001b[38;5;167;01mException\u001b[39;00m) \u001b[38;5;28;01mas\u001b[39;00m e:\n\u001b[1;32m    139\u001b[0m     run_manager\u001b[38;5;241m.\u001b[39mon_chain_error(e)\n",
      "File \u001b[0;32m~/.conda/envs/cent7/2020.11-py38/lipid_parser2/lib/python3.9/site-packages/langchain/agents/agent.py:951\u001b[0m, in \u001b[0;36mAgentExecutor._call\u001b[0;34m(self, inputs, run_manager)\u001b[0m\n\u001b[1;32m    949\u001b[0m \u001b[38;5;66;03m# We now enter the agent loop (until it returns something).\u001b[39;00m\n\u001b[1;32m    950\u001b[0m \u001b[38;5;28;01mwhile\u001b[39;00m \u001b[38;5;28mself\u001b[39m\u001b[38;5;241m.\u001b[39m_should_continue(iterations, time_elapsed):\n\u001b[0;32m--> 951\u001b[0m     next_step_output \u001b[38;5;241m=\u001b[39m \u001b[38;5;28;43mself\u001b[39;49m\u001b[38;5;241;43m.\u001b[39;49m\u001b[43m_take_next_step\u001b[49m\u001b[43m(\u001b[49m\n\u001b[1;32m    952\u001b[0m \u001b[43m        \u001b[49m\u001b[43mname_to_tool_map\u001b[49m\u001b[43m,\u001b[49m\n\u001b[1;32m    953\u001b[0m \u001b[43m        \u001b[49m\u001b[43mcolor_mapping\u001b[49m\u001b[43m,\u001b[49m\n\u001b[1;32m    954\u001b[0m \u001b[43m        \u001b[49m\u001b[43minputs\u001b[49m\u001b[43m,\u001b[49m\n\u001b[1;32m    955\u001b[0m \u001b[43m        \u001b[49m\u001b[43mintermediate_steps\u001b[49m\u001b[43m,\u001b[49m\n\u001b[1;32m    956\u001b[0m \u001b[43m        \u001b[49m\u001b[43mrun_manager\u001b[49m\u001b[38;5;241;43m=\u001b[39;49m\u001b[43mrun_manager\u001b[49m\u001b[43m,\u001b[49m\n\u001b[1;32m    957\u001b[0m \u001b[43m    \u001b[49m\u001b[43m)\u001b[49m\n\u001b[1;32m    958\u001b[0m     \u001b[38;5;28;01mif\u001b[39;00m \u001b[38;5;28misinstance\u001b[39m(next_step_output, AgentFinish):\n\u001b[1;32m    959\u001b[0m         \u001b[38;5;28;01mreturn\u001b[39;00m \u001b[38;5;28mself\u001b[39m\u001b[38;5;241m.\u001b[39m_return(\n\u001b[1;32m    960\u001b[0m             next_step_output, intermediate_steps, run_manager\u001b[38;5;241m=\u001b[39mrun_manager\n\u001b[1;32m    961\u001b[0m         )\n",
      "File \u001b[0;32m~/.conda/envs/cent7/2020.11-py38/lipid_parser2/lib/python3.9/site-packages/langchain/agents/agent.py:818\u001b[0m, in \u001b[0;36mAgentExecutor._take_next_step\u001b[0;34m(self, name_to_tool_map, color_mapping, inputs, intermediate_steps, run_manager)\u001b[0m\n\u001b[1;32m    816\u001b[0m         tool_run_kwargs[\u001b[38;5;124m\"\u001b[39m\u001b[38;5;124mllm_prefix\u001b[39m\u001b[38;5;124m\"\u001b[39m] \u001b[38;5;241m=\u001b[39m \u001b[38;5;124m\"\u001b[39m\u001b[38;5;124m\"\u001b[39m\n\u001b[1;32m    817\u001b[0m     \u001b[38;5;66;03m# We then call the tool on the tool input to get an observation\u001b[39;00m\n\u001b[0;32m--> 818\u001b[0m     observation \u001b[38;5;241m=\u001b[39m \u001b[43mtool\u001b[49m\u001b[38;5;241;43m.\u001b[39;49m\u001b[43mrun\u001b[49m\u001b[43m(\u001b[49m\n\u001b[1;32m    819\u001b[0m \u001b[43m        \u001b[49m\u001b[43magent_action\u001b[49m\u001b[38;5;241;43m.\u001b[39;49m\u001b[43mtool_input\u001b[49m\u001b[43m,\u001b[49m\n\u001b[1;32m    820\u001b[0m \u001b[43m        \u001b[49m\u001b[43mverbose\u001b[49m\u001b[38;5;241;43m=\u001b[39;49m\u001b[38;5;28;43mself\u001b[39;49m\u001b[38;5;241;43m.\u001b[39;49m\u001b[43mverbose\u001b[49m\u001b[43m,\u001b[49m\n\u001b[1;32m    821\u001b[0m \u001b[43m        \u001b[49m\u001b[43mcolor\u001b[49m\u001b[38;5;241;43m=\u001b[39;49m\u001b[43mcolor\u001b[49m\u001b[43m,\u001b[49m\n\u001b[1;32m    822\u001b[0m \u001b[43m        \u001b[49m\u001b[43mcallbacks\u001b[49m\u001b[38;5;241;43m=\u001b[39;49m\u001b[43mrun_manager\u001b[49m\u001b[38;5;241;43m.\u001b[39;49m\u001b[43mget_child\u001b[49m\u001b[43m(\u001b[49m\u001b[43m)\u001b[49m\u001b[43m \u001b[49m\u001b[38;5;28;43;01mif\u001b[39;49;00m\u001b[43m \u001b[49m\u001b[43mrun_manager\u001b[49m\u001b[43m \u001b[49m\u001b[38;5;28;43;01melse\u001b[39;49;00m\u001b[43m \u001b[49m\u001b[38;5;28;43;01mNone\u001b[39;49;00m\u001b[43m,\u001b[49m\n\u001b[1;32m    823\u001b[0m \u001b[43m        \u001b[49m\u001b[38;5;241;43m*\u001b[39;49m\u001b[38;5;241;43m*\u001b[39;49m\u001b[43mtool_run_kwargs\u001b[49m\u001b[43m,\u001b[49m\n\u001b[1;32m    824\u001b[0m \u001b[43m    \u001b[49m\u001b[43m)\u001b[49m\n\u001b[1;32m    825\u001b[0m \u001b[38;5;28;01melse\u001b[39;00m:\n\u001b[1;32m    826\u001b[0m     tool_run_kwargs \u001b[38;5;241m=\u001b[39m \u001b[38;5;28mself\u001b[39m\u001b[38;5;241m.\u001b[39magent\u001b[38;5;241m.\u001b[39mtool_run_logging_kwargs()\n",
      "File \u001b[0;32m~/.conda/envs/cent7/2020.11-py38/lipid_parser2/lib/python3.9/site-packages/langchain/tools/base.py:255\u001b[0m, in \u001b[0;36mBaseTool.run\u001b[0;34m(self, tool_input, verbose, start_color, color, callbacks, **kwargs)\u001b[0m\n\u001b[1;32m    253\u001b[0m \u001b[38;5;28;01mexcept\u001b[39;00m (\u001b[38;5;167;01mException\u001b[39;00m, \u001b[38;5;167;01mKeyboardInterrupt\u001b[39;00m) \u001b[38;5;28;01mas\u001b[39;00m e:\n\u001b[1;32m    254\u001b[0m     run_manager\u001b[38;5;241m.\u001b[39mon_tool_error(e)\n\u001b[0;32m--> 255\u001b[0m     \u001b[38;5;28;01mraise\u001b[39;00m e\n\u001b[1;32m    256\u001b[0m run_manager\u001b[38;5;241m.\u001b[39mon_tool_end(\u001b[38;5;28mstr\u001b[39m(observation), color\u001b[38;5;241m=\u001b[39mcolor, name\u001b[38;5;241m=\u001b[39m\u001b[38;5;28mself\u001b[39m\u001b[38;5;241m.\u001b[39mname, \u001b[38;5;241m*\u001b[39m\u001b[38;5;241m*\u001b[39mkwargs)\n\u001b[1;32m    257\u001b[0m \u001b[38;5;28;01mreturn\u001b[39;00m observation\n",
      "File \u001b[0;32m~/.conda/envs/cent7/2020.11-py38/lipid_parser2/lib/python3.9/site-packages/langchain/tools/base.py:249\u001b[0m, in \u001b[0;36mBaseTool.run\u001b[0;34m(self, tool_input, verbose, start_color, color, callbacks, **kwargs)\u001b[0m\n\u001b[1;32m    246\u001b[0m \u001b[38;5;28;01mtry\u001b[39;00m:\n\u001b[1;32m    247\u001b[0m     tool_args, tool_kwargs \u001b[38;5;241m=\u001b[39m \u001b[38;5;28mself\u001b[39m\u001b[38;5;241m.\u001b[39m_to_args_and_kwargs(parsed_input)\n\u001b[1;32m    248\u001b[0m     observation \u001b[38;5;241m=\u001b[39m (\n\u001b[0;32m--> 249\u001b[0m         \u001b[38;5;28;43mself\u001b[39;49m\u001b[38;5;241;43m.\u001b[39;49m\u001b[43m_run\u001b[49m\u001b[43m(\u001b[49m\u001b[38;5;241;43m*\u001b[39;49m\u001b[43mtool_args\u001b[49m\u001b[43m,\u001b[49m\u001b[43m \u001b[49m\u001b[43mrun_manager\u001b[49m\u001b[38;5;241;43m=\u001b[39;49m\u001b[43mrun_manager\u001b[49m\u001b[43m,\u001b[49m\u001b[43m \u001b[49m\u001b[38;5;241;43m*\u001b[39;49m\u001b[38;5;241;43m*\u001b[39;49m\u001b[43mtool_kwargs\u001b[49m\u001b[43m)\u001b[49m\n\u001b[1;32m    250\u001b[0m         \u001b[38;5;28;01mif\u001b[39;00m new_arg_supported\n\u001b[1;32m    251\u001b[0m         \u001b[38;5;28;01melse\u001b[39;00m \u001b[38;5;28mself\u001b[39m\u001b[38;5;241m.\u001b[39m_run(\u001b[38;5;241m*\u001b[39mtool_args, \u001b[38;5;241m*\u001b[39m\u001b[38;5;241m*\u001b[39mtool_kwargs)\n\u001b[1;32m    252\u001b[0m     )\n\u001b[1;32m    253\u001b[0m \u001b[38;5;28;01mexcept\u001b[39;00m (\u001b[38;5;167;01mException\u001b[39;00m, \u001b[38;5;167;01mKeyboardInterrupt\u001b[39;00m) \u001b[38;5;28;01mas\u001b[39;00m e:\n\u001b[1;32m    254\u001b[0m     run_manager\u001b[38;5;241m.\u001b[39mon_tool_error(e)\n",
      "Cell \u001b[0;32mIn [31], line 35\u001b[0m, in \u001b[0;36mJsonFilterFromKeysTool._run\u001b[0;34m(self, tool_input, run_manager)\u001b[0m\n\u001b[1;32m     27\u001b[0m \u001b[38;5;28;01mdef\u001b[39;00m \u001b[38;5;21m_run\u001b[39m(\n\u001b[1;32m     28\u001b[0m     \u001b[38;5;28mself\u001b[39m,\n\u001b[1;32m     29\u001b[0m     tool_input: \u001b[38;5;28mstr\u001b[39m,\n\u001b[1;32m     30\u001b[0m     run_manager: Optional[CallbackManagerForToolRun] \u001b[38;5;241m=\u001b[39m \u001b[38;5;28;01mNone\u001b[39;00m,\n\u001b[1;32m     31\u001b[0m ) \u001b[38;5;241m-\u001b[39m\u001b[38;5;241m>\u001b[39m \u001b[38;5;28mstr\u001b[39m:\n\u001b[1;32m     32\u001b[0m     \u001b[38;5;28;01mreturn\u001b[39;00m \u001b[38;5;28mself\u001b[39m\u001b[38;5;241m.\u001b[39mfilter_json_nested(\n\u001b[1;32m     33\u001b[0m         \u001b[38;5;28mself\u001b[39m\u001b[38;5;241m.\u001b[39mspec\u001b[38;5;241m.\u001b[39mdict_,\n\u001b[1;32m     34\u001b[0m         tool_input\u001b[38;5;241m.\u001b[39msplit(\u001b[38;5;124m\"\u001b[39m\u001b[38;5;124m;\u001b[39m\u001b[38;5;124m\"\u001b[39m)[\u001b[38;5;241m0\u001b[39m],\n\u001b[0;32m---> 35\u001b[0m         \u001b[43mtool_input\u001b[49m\u001b[38;5;241;43m.\u001b[39;49m\u001b[43msplit\u001b[49m\u001b[43m(\u001b[49m\u001b[38;5;124;43m\"\u001b[39;49m\u001b[38;5;124;43m;\u001b[39;49m\u001b[38;5;124;43m\"\u001b[39;49m\u001b[43m)\u001b[49m\u001b[43m[\u001b[49m\u001b[38;5;241;43m1\u001b[39;49m\u001b[43m]\u001b[49m\n\u001b[1;32m     36\u001b[0m     )\n",
      "\u001b[0;31mIndexError\u001b[0m: list index out of range"
     ]
    }
   ],
   "source": [
    "# Initiate the agent executor run with an initial question\n",
    "json_agent_executor.run(\"Hi, my name is Connor. Can you help me filter my JSON\")"
   ]
  },
  {
   "cell_type": "code",
   "execution_count": null,
   "id": "05da00f4",
   "metadata": {},
   "outputs": [],
   "source": []
  },
  {
   "cell_type": "code",
   "execution_count": 22,
   "id": "86f0eef7",
   "metadata": {},
   "outputs": [
    {
     "data": {
      "application/vnd.jupyter.widget-view+json": {
       "model_id": "0b83ddb548eb40feb01929716978d3b4",
       "version_major": 2,
       "version_minor": 0
      },
      "text/plain": [
       "HBox(children=(SelectMultiple(description='nickname', options=('H_KO_1', 'H_KO_2', 'H_KO_3', 'H_KO_5', 'H_KO_6…"
      ]
     },
     "metadata": {},
     "output_type": "display_data"
    },
    {
     "data": {
      "application/vnd.jupyter.widget-view+json": {
       "model_id": "3c268d0252e141f6845a0c77cf02ed43",
       "version_major": 2,
       "version_minor": 0
      },
      "text/plain": [
       "HBox(children=(SelectMultiple(description='Sex', options=('M', 'F'), value=()), SelectMultiple(description='Se…"
      ]
     },
     "metadata": {},
     "output_type": "display_data"
    },
    {
     "data": {
      "application/vnd.jupyter.widget-view+json": {
       "model_id": "6531e6dd7a524cf18dcae5668f4d62a6",
       "version_major": 2,
       "version_minor": 0
      },
      "text/plain": [
       "HBox(children=(SelectMultiple(description='Genotype', options=('cKO', 'WT'), value=()), SelectMultiple(descrip…"
      ]
     },
     "metadata": {},
     "output_type": "display_data"
    },
    {
     "data": {
      "application/vnd.jupyter.widget-view+json": {
       "model_id": "13fd9e2a8c924aaa81ff513748975948",
       "version_major": 2,
       "version_minor": 0
      },
      "text/plain": [
       "HBox(children=(SelectMultiple(description='time point', options=('healthy', '28d ISCI'), value=()), SelectMult…"
      ]
     },
     "metadata": {},
     "output_type": "display_data"
    },
    {
     "data": {
      "application/vnd.jupyter.widget-view+json": {
       "model_id": "658772d958ea477bb54f704c9410115f",
       "version_major": 2,
       "version_minor": 0
      },
      "text/plain": [
       "HBox(children=(Button(description='Finish', style=ButtonStyle()), Button(description='Add more JSON pairs', st…"
      ]
     },
     "metadata": {},
     "output_type": "display_data"
    },
    {
     "name": "stdout",
     "output_type": "stream",
     "text": [
      "Complete\n"
     ]
    }
   ],
   "source": [
    "# List to hold pairs of JSON objects\n",
    "json_list_pairs = []\n",
    "\n",
    "def remove_empty_entries(json_list_pairs):\n",
    "    cleaned_list_pairs = [\n",
    "        [\n",
    "            {key: value for key, value in pair_dict.items() if value} for pair_dict in pair\n",
    "        ] for pair in json_list_pairs\n",
    "    ]\n",
    "    return cleaned_list_pairs\n",
    "\n",
    "# Initialize widgets_dict1 and widgets_dict2 to be filled later\n",
    "widgets_dict1 = {}\n",
    "widgets_dict2 = {}\n",
    "\n",
    "# Create a function that displays the pair widgets\n",
    "def display_pair_widgets():\n",
    "    global widgets_dict1, widgets_dict2\n",
    "    widgets_dict1 = {key: widgets.SelectMultiple(options=value, description=key) for key, value in main_json.items()}\n",
    "    widgets_dict2 = {key: widgets.SelectMultiple(options=value, description=key) for key, value in main_json.items()}\n",
    "    \n",
    "    for key in main_json.keys():\n",
    "        display(widgets.HBox([widgets_dict1[key], widgets_dict2[key]]))\n",
    "\n",
    "display_pair_widgets()\n",
    "\n",
    "# Define what to do on 'Generate JSON files' button click\n",
    "def on_generate_clicked(b):\n",
    "    # Build new_json based on the values selected in the widgets\n",
    "    new_json1 = {key: list(widget.value) for key, widget in widgets_dict1.items()}\n",
    "    new_json2 = {key: list(widget.value) for key, widget in widgets_dict2.items()}\n",
    "\n",
    "    # Add new JSON objects to the list\n",
    "    pair = [new_json1, new_json2]\n",
    "    json_list_pairs.append(pair)\n",
    "    print(\"Complete\")\n",
    "    # Print the new JSON objects\n",
    "#     print(json.dumps(new_json1, indent=2))\n",
    "#     print(json.dumps(new_json2, indent=2))\n",
    "\n",
    "def on_add_more_clicked(b):\n",
    "    # Build new_json based on the values selected in the widgets\n",
    "    new_json1 = {key: list(widget.value) for key, widget in widgets_dict1.items()}\n",
    "    new_json2 = {key: list(widget.value) for key, widget in widgets_dict2.items()}\n",
    "\n",
    "    # Add new JSON objects to the list\n",
    "    pair = [new_json1, new_json2]\n",
    "    json_list_pairs.append(pair)\n",
    "    \n",
    "    # Clear current selection\n",
    "    for widget in widgets_dict1.values():\n",
    "        widget.value = []\n",
    "    for widget in widgets_dict2.values():\n",
    "        widget.value = []\n",
    "\n",
    "# Create the buttons\n",
    "generate_button = widgets.Button(description='Finish')\n",
    "generate_button.on_click(on_generate_clicked)\n",
    "\n",
    "add_more_button = widgets.Button(description='Add more JSON pairs')\n",
    "add_more_button.on_click(on_add_more_clicked)\n",
    "\n",
    "# Display the buttons\n",
    "display(widgets.HBox([generate_button, add_more_button]))"
   ]
  },
  {
   "cell_type": "code",
   "execution_count": 23,
   "id": "949597ec",
   "metadata": {},
   "outputs": [],
   "source": [
    "json_list_pairs = remove_empty_entries(json_list_pairs)\n"
   ]
  },
  {
   "cell_type": "code",
   "execution_count": 24,
   "id": "b2cd7bb1",
   "metadata": {},
   "outputs": [
    {
     "data": {
      "text/plain": [
       "[[{'Sex': ['F'], 'Genotype': ['cKO']}, {'Sex': ['F'], 'Genotype': ['WT']}]]"
      ]
     },
     "execution_count": 24,
     "metadata": {},
     "output_type": "execute_result"
    }
   ],
   "source": [
    "json_list_pairs"
   ]
  },
  {
   "cell_type": "code",
   "execution_count": null,
   "id": "37b71f21",
   "metadata": {},
   "outputs": [],
   "source": [
    "def get_unique_json_objects(json_list_pairs):\n",
    "    json_set = set()\n",
    "    for pair in json_list_pairs:\n",
    "        for json_obj in pair:\n",
    "            json_set.add(json.dumps(json_obj))\n",
    "    \n",
    "    json_list_singles = [json.loads(json_str) for json_str in json_set]\n",
    "    return json_list_singles"
   ]
  },
  {
   "cell_type": "code",
   "execution_count": null,
   "id": "78226d55",
   "metadata": {},
   "outputs": [],
   "source": [
    "json_list_singles = get_unique_json_objects(json_list_pairs)"
   ]
  },
  {
   "cell_type": "code",
   "execution_count": null,
   "id": "62557773",
   "metadata": {},
   "outputs": [],
   "source": []
  },
  {
   "cell_type": "code",
   "execution_count": null,
   "id": "4ad93dd7",
   "metadata": {},
   "outputs": [],
   "source": []
  }
 ],
 "metadata": {
  "kernelspec": {
   "display_name": "Python 3 (ipykernel)",
   "language": "python",
   "name": "python3"
  },
  "language_info": {
   "codemirror_mode": {
    "name": "ipython",
    "version": 3
   },
   "file_extension": ".py",
   "mimetype": "text/x-python",
   "name": "python",
   "nbconvert_exporter": "python",
   "pygments_lexer": "ipython3",
   "version": "3.9.15"
  }
 },
 "nbformat": 4,
 "nbformat_minor": 5
}
