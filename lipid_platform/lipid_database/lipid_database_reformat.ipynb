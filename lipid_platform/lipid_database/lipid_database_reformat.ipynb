{
 "cells": [
  {
   "cell_type": "code",
   "execution_count": 7,
   "metadata": {},
   "outputs": [
    {
     "name": "stdout",
     "output_type": "stream",
     "text": [
      "   Lipid  Parent_Ion  Product_Ion Class      Transition\n",
      "0  C12:0       199.2        199.2    FA  199.2 -> 199.2\n",
      "1  C12:1       197.2        197.2    FA  197.2 -> 197.2\n",
      "2  C14:0       227.3        227.3    FA  227.3 -> 227.3\n",
      "3  C14:1       225.2        225.2    FA  225.2 -> 225.2\n",
      "4  C15:0       241.3        241.3    FA  241.3 -> 241.3\n"
     ]
    }
   ],
   "source": [
    "import pandas as pd\n",
    "\n",
    "# Sample data loading\n",
    "df = pd.read_csv('Lipids_database_old.csv')\n",
    "\n",
    "# Dictionary with replacements\n",
    "replacements = {\n",
    "    'FFA': 'FA',\n",
    "    'TAG': 'TG',\n",
    "    'DAG': 'DG',\n",
    "    'AC': 'CAR'\n",
    "}\n",
    "\n",
    "# Replace items in the dataframe based on dictionary\n",
    "df['Class'] = df['Class'].replace(replacements)\n",
    "\n",
    "# To see the changes\n",
    "print(df.head())\n"
   ]
  },
  {
   "cell_type": "code",
   "execution_count": 8,
   "metadata": {},
   "outputs": [],
   "source": [
    "#updated_data to csv\n",
    "df.to_csv('CLAW_Lipid_MRM_Database.csv', index=False)"
   ]
  },
  {
   "cell_type": "code",
   "execution_count": null,
   "metadata": {},
   "outputs": [],
   "source": []
  }
 ],
 "metadata": {
  "kernelspec": {
   "display_name": "pymzml",
   "language": "python",
   "name": "python3"
  },
  "language_info": {
   "codemirror_mode": {
    "name": "ipython",
    "version": 3
   },
   "file_extension": ".py",
   "mimetype": "text/x-python",
   "name": "python",
   "nbconvert_exporter": "python",
   "pygments_lexer": "ipython3",
   "version": "3.9.15"
  },
  "orig_nbformat": 4
 },
 "nbformat": 4,
 "nbformat_minor": 2
}
