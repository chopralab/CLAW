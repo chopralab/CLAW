{
 "cells": [
  {
   "cell_type": "code",
   "execution_count": 17,
   "metadata": {},
   "outputs": [],
   "source": [
    "import pandas as pd\n",
    "\n",
    "# Read the data from the Excel file\n",
    "df = pd.read_excel(\"AMP_Database_OzOFF.xlsx\")\n",
    "\n",
    "# Sort the DataFrame by the \"Compound Name\" column\n",
    "df_sorted = df.sort_values(\"Compound Name\")\n",
    "\n",
    "# Save the sorted DataFrame as a new DataFrame\n",
    "sorted_data = df_sorted.copy()\n",
    "\n",
    "#fix the index\n",
    "sorted_data.reset_index(drop=True, inplace=True)\n",
    "# save the sorted data to a new Excel file\n",
    "sorted_data.to_excel(\"AMP_Database_OzOFF_sorted.xlsx\", index=False)"
   ]
  }
 ],
 "metadata": {
  "kernelspec": {
   "display_name": "CLA",
   "language": "python",
   "name": "python3"
  },
  "language_info": {
   "codemirror_mode": {
    "name": "ipython",
    "version": 3
   },
   "file_extension": ".py",
   "mimetype": "text/x-python",
   "name": "python",
   "nbconvert_exporter": "python",
   "pygments_lexer": "ipython3",
   "version": "3.7.13"
  }
 },
 "nbformat": 4,
 "nbformat_minor": 2
}
