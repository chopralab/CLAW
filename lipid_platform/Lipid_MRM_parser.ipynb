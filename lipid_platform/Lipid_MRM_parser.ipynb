{
 "cells": [
  {
   "cell_type": "markdown",
   "metadata": {},
   "source": [
    "<!-- ![title](Figures/cat2.png) -->\n",
    "# PURR Processing Utility for Rapid Results"
   ]
  },
  {
   "cell_type": "markdown",
   "metadata": {},
   "source": [
    "Import all necessary libraries"
   ]
  },
  {
   "cell_type": "code",
   "execution_count": 1,
   "metadata": {},
   "outputs": [],
   "source": [
    "#Import all the necessary libraries\n",
    "import pymzml\n",
    "import csv\n",
    "import os\n",
    "import pandas as pd\n",
    "import numpy as np\n",
    "import math\n",
    "from matplotlib import pyplot as plt\n",
    "import re\n",
    "import plotly.express as px\n",
    "from collections import defaultdict\n",
    "\n",
    "import plotly.io as pio\n",
    "import json\n",
    "import plotly.graph_objs as go\n",
    "import matplotlib.colors as mcolors\n",
    "\n",
    "import json\n",
    "import ipywidgets as widgets\n",
    "from IPython.display import display\n",
    "\n",
    "import warnings\n",
    "from IPython.display import display, Image, clear_output\n",
    "import time\n",
    "\n",
    "##Custom SCripts\n",
    "\n",
    "from NO_AVERAGE_SCRIPTS import full_parse\n",
    "from NO_AVERAGE_SCRIPTS import filter_dataframe\n",
    "from NO_AVERAGE_SCRIPTS import hex_to_rgba_hex\n",
    "from NO_AVERAGE_SCRIPTS import json_to_string\n",
    "from NO_AVERAGE_SCRIPTS import prep_edge_R\n",
    "\n",
    "from NO_AVERAGE_SCRIPTS import make_pie_chart_no_replicates\n",
    "\n",
    "from NO_AVERAGE_SCRIPTS import average_pie_chart_no_repeats\n",
    "\n",
    "from NO_AVERAGE_SCRIPTS import make_bar_plot_comparisons\n",
    "import os\n",
    "from IPython.display import display\n",
    "from ipywidgets import widgets\n",
    "# dfdfplotting_functions\n",
    "\n",
    "Pre_folder = './Projects/'\n",
    "\n",
    "\n",
    "from tools.GUI import assign_blank, load_blank_name\n",
    "from tools.GUI import folder_navigator, load_project_folder\n",
    "\n",
    "from tools.GUI import filter_samples, load_data_labels\n",
    "from tools.GUI import display_pair_widgets, load_data, remove_empty_entries, get_unique_json_objects\n",
    "\n",
    "\n",
    "from tools.parsing import add_suffix"
   ]
  },
  {
   "cell_type": "code",
   "execution_count": 2,
   "metadata": {},
   "outputs": [],
   "source": [
    "##Add a way to include a custom color scheme\n",
    "\n",
    "\n",
    "\n",
    "\n",
    "file_name_to_save = 'CLAW_DTRA_3bac'\n",
    "\n",
    "extra_name = \"\"\n",
    "\n",
    "tolerance = 0.1\n",
    "remove_std = True\n",
    "save_data= True\n",
    "\n",
    "\n",
    "load_previously_parsed = True\n",
    "custom_data=True\n"
   ]
  },
  {
   "cell_type": "code",
   "execution_count": 4,
   "metadata": {
    "scrolled": false
   },
   "outputs": [
    {
     "data": {
      "application/vnd.jupyter.widget-view+json": {
       "model_id": "e8218687f8514ec3b943833c7779078f",
       "version_major": 2,
       "version_minor": 0
      },
      "text/plain": [
       "Button(description='Navigate', style=ButtonStyle())"
      ]
     },
     "metadata": {},
     "output_type": "display_data"
    },
    {
     "data": {
      "application/vnd.jupyter.widget-view+json": {
       "model_id": "17a1137bba0442e493af21c424cf7a92",
       "version_major": 2,
       "version_minor": 0
      },
      "text/plain": [
       "Button(description='Select this folder', style=ButtonStyle())"
      ]
     },
     "metadata": {},
     "output_type": "display_data"
    },
    {
     "data": {
      "application/vnd.jupyter.widget-view+json": {
       "model_id": "a89151c1564746ee837bec5b58383784",
       "version_major": 2,
       "version_minor": 0
      },
      "text/plain": [
       "Button(description='Select Current Folder', style=ButtonStyle())"
      ]
     },
     "metadata": {},
     "output_type": "display_data"
    },
    {
     "data": {
      "application/vnd.jupyter.widget-view+json": {
       "model_id": "3f30a7f2eee64566bfdfbe5069afca48",
       "version_major": 2,
       "version_minor": 0
      },
      "text/plain": [
       "Select(options=('/home/iyer95/CLAW/CLAW/lipid_platform/Projects',), rows=10, value='/home/iyer95/CLAW/CLAW/lip…"
      ]
     },
     "metadata": {},
     "output_type": "display_data"
    },
    {
     "data": {
      "application/vnd.jupyter.widget-view+json": {
       "model_id": "8a8f67c9e4114989b764b0510dbcbbc4",
       "version_major": 2,
       "version_minor": 0
      },
      "text/plain": [
       "Output()"
      ]
     },
     "metadata": {},
     "output_type": "display_data"
    },
    {
     "data": {
      "application/vnd.jupyter.widget-view+json": {
       "model_id": "62dd3da5b3664cf5adfec233b52efed6",
       "version_major": 2,
       "version_minor": 0
      },
      "text/plain": [
       "Dropdown(description='Samples', options=('A-T4-0-BDL-r001', 'C-T4-8GEN-BDL-r003', 'B-T4-0-BDL-r002', 'Bsub-C-T…"
      ]
     },
     "metadata": {},
     "output_type": "display_data"
    },
    {
     "data": {
      "application/vnd.jupyter.widget-view+json": {
       "model_id": "c1e672531c3f44c6a1fb6642613d8445",
       "version_major": 2,
       "version_minor": 0
      },
      "text/plain": [
       "Button(description='Assign Blank', style=ButtonStyle())"
      ]
     },
     "metadata": {},
     "output_type": "display_data"
    },
    {
     "data": {
      "application/vnd.jupyter.widget-view+json": {
       "model_id": "1d49e33e219a4b7c977ef654c2effd22",
       "version_major": 2,
       "version_minor": 0
      },
      "text/plain": [
       "Output()"
      ]
     },
     "metadata": {},
     "output_type": "display_data"
    },
    {
     "data": {
      "application/vnd.jupyter.widget-view+json": {
       "model_id": "239b8c786eea45a29bbecd271f32691e",
       "version_major": 2,
       "version_minor": 0
      },
      "text/plain": [
       "SelectMultiple(description='Samples', index=(0,), options=('A-T4-0-BDL-r001', 'C-T4-8GEN-BDL-r003', 'B-T4-0-BD…"
      ]
     },
     "metadata": {},
     "output_type": "display_data"
    },
    {
     "data": {
      "application/vnd.jupyter.widget-view+json": {
       "model_id": "e3cbf886f40a486e98e4713c3dafc9bf",
       "version_major": 2,
       "version_minor": 0
      },
      "text/plain": [
       "Button(description='Filter Samples', style=ButtonStyle())"
      ]
     },
     "metadata": {},
     "output_type": "display_data"
    },
    {
     "data": {
      "application/vnd.jupyter.widget-view+json": {
       "model_id": "073abb0f6c1e4add85645d9b8a3f2870",
       "version_major": 2,
       "version_minor": 0
      },
      "text/plain": [
       "Output()"
      ]
     },
     "metadata": {},
     "output_type": "display_data"
    }
   ],
   "source": [
    "\n",
    "folder_navigator()\n",
    "\n",
    "Project_Folder = load_project_folder()\n",
    "folder_name_to_save = Project_Folder+ 'Processed Results/'\n",
    "data_base_name_location = 'lipid_database/Lipid_Database.xlsx'\n",
    "mzml_folder = Project_Folder +\"mzml/\"\n",
    "Pre_edge_r_path = Project_Folder+\"Pre_EdgeR/\"\n",
    "plots_2_save_path = Project_Folder+\"Plots/\"\n",
    "label_file = Project_Folder+\"Labels/labels.csv\"\n",
    "labels_df = pd.read_csv(label_file)\n",
    "\n",
    "##determines blank\n",
    "unique_samples = labels_df['Sample Name'].unique()\n",
    "assign_blank(unique_samples)\n",
    "blank_name = load_blank_name()\n",
    "\n",
    "# Assuming labels_df is your DataFrame\n",
    "filter_samples(labels_df)\n",
    "labels_df2 = load_data_labels()\n",
    "labels_df2 = labels_df2.drop([\"Sample Name\",\"Position\"],axis=1)\n",
    "labels_list = list(labels_df)\n",
    "labels_list = labels_list +[\"Class\",\"Lipid\"]\n",
    "\n",
    "\n",
    "\n"
   ]
  },
  {
   "cell_type": "code",
   "execution_count": 5,
   "metadata": {},
   "outputs": [
    {
     "data": {
      "application/vnd.jupyter.widget-view+json": {
       "model_id": "7d2a925f83134d7e93df7bd19dd2804a",
       "version_major": 2,
       "version_minor": 0
      },
      "text/plain": [
       "HBox(children=(SelectMultiple(description='Time', options=('T4', 'T6', 'T2', 'T0'), value=()), SelectMultiple(…"
      ]
     },
     "metadata": {},
     "output_type": "display_data"
    },
    {
     "data": {
      "application/vnd.jupyter.widget-view+json": {
       "model_id": "a39fa8b518a24aa1af5d34a476bf81bf",
       "version_major": 2,
       "version_minor": 0
      },
      "text/plain": [
       "HBox(children=(SelectMultiple(description='Dose', options=('8', '0', 'Un', '16'), value=()), SelectMultiple(de…"
      ]
     },
     "metadata": {},
     "output_type": "display_data"
    },
    {
     "data": {
      "application/vnd.jupyter.widget-view+json": {
       "model_id": "2361af4198b64c1687152de002a3dfc9",
       "version_major": 2,
       "version_minor": 0
      },
      "text/plain": [
       "HBox(children=(SelectMultiple(description='Bacteria', options=('Bsub', 'Ecoli', 'Paeru'), value=()), SelectMul…"
      ]
     },
     "metadata": {},
     "output_type": "display_data"
    },
    {
     "data": {
      "application/vnd.jupyter.widget-view+json": {
       "model_id": "25e6d736015d4153b2335ebdbf461a73",
       "version_major": 2,
       "version_minor": 0
      },
      "text/plain": [
       "HBox(children=(Button(description='Finish', style=ButtonStyle()), Button(description='Add more JSON pairs', st…"
      ]
     },
     "metadata": {},
     "output_type": "display_data"
    }
   ],
   "source": [
    "main_json = {col: labels_df2[col].unique().tolist() for col in labels_df2}\n",
    "\n",
    "display_pair_widgets(main_json)"
   ]
  },
  {
   "cell_type": "code",
   "execution_count": 6,
   "metadata": {
    "scrolled": false
   },
   "outputs": [
    {
     "name": "stdout",
     "output_type": "stream",
     "text": [
      "Your data is PURRing...\n",
      "Complete\n",
      "[[{'Time': ['T2'], 'Dose': ['8'], 'Bacteria': ['Bsub']}, {'Time': ['T0'], 'Dose': ['0'], 'Bacteria': ['Bsub']}], [{'Time': ['T2'], 'Dose': ['8'], 'Bacteria': ['Bsub']}, {'Time': ['T2'], 'Dose': ['0'], 'Bacteria': ['Bsub']}], [{'Time': ['T4'], 'Dose': ['8'], 'Bacteria': ['Bsub']}, {'Time': ['T4'], 'Dose': ['0'], 'Bacteria': ['Bsub']}], [{'Time': ['T6'], 'Dose': ['8'], 'Bacteria': ['Bsub']}, {'Time': ['T6'], 'Dose': ['8'], 'Bacteria': ['Bsub']}], [{}, {}]]\n",
      "[{'Time': ['T4'], 'Dose': ['0'], 'Bacteria': ['Bsub']}, {'Time': ['T6'], 'Dose': ['8'], 'Bacteria': ['Bsub']}, {'Time': ['T4'], 'Dose': ['8'], 'Bacteria': ['Bsub']}, {}, {'Time': ['T2'], 'Dose': ['0'], 'Bacteria': ['Bsub']}, {'Time': ['T0'], 'Dose': ['0'], 'Bacteria': ['Bsub']}, {'Time': ['T2'], 'Dose': ['8'], 'Bacteria': ['Bsub']}]\n",
      "      Class              Lipid  Intensity  Precursor_Ion  Product_Ion  \\\n",
      "0        DG     DG(32:0)_C16:0    14237.0          586.5        313.2   \n",
      "1        DG     DG(32:1)_C16:1     1840.0          584.5        313.2   \n",
      "2        DG     DG(34:1)_C18:1     9423.0          612.6        313.3   \n",
      "3        DG     DG(34:2)_C16:1      870.0          610.5        339.2   \n",
      "4        DG     DG(34:2)_C18:2     1861.0          610.5        313.2   \n",
      "...     ...                ...        ...            ...          ...   \n",
      "16598    TG  [TG(52:4)]_FA18:2    36713.0          872.8        575.5   \n",
      "16599    TG  [TG(52:4)]_FA18:3     1260.0          872.8        577.5   \n",
      "16600    TG  [TG(52:5)]_FA18:3      774.0          870.8        575.5   \n",
      "16601    TG  [TG(54:5)]_FA18:3     1161.0          898.8        603.5   \n",
      "16602    TG  [TG(54:6)]_FA18:3     1616.0          896.8        601.5   \n",
      "\n",
      "       Retention_Time             Sample Name      Transition    n-7    n-9  \\\n",
      "0               10.03         A-T0-0-BDL-r001  586.5 -> 313.2  504.5  476.5   \n",
      "1                9.44         A-T0-0-BDL-r001  584.5 -> 313.2  502.5  474.5   \n",
      "2               10.07         A-T0-0-BDL-r001  612.6 -> 313.3  530.6  502.6   \n",
      "3                9.70         A-T0-0-BDL-r001  610.5 -> 339.2  528.5  500.5   \n",
      "4                9.95         A-T0-0-BDL-r001  610.5 -> 313.2  528.5  500.5   \n",
      "...               ...                     ...             ...    ...    ...   \n",
      "16598           11.12  Paeru-C-T4-16-BDL-r003  872.8 -> 575.5  790.8  762.8   \n",
      "16599           11.13  Paeru-C-T4-16-BDL-r003  872.8 -> 577.5  790.8  762.8   \n",
      "16600           10.99  Paeru-C-T4-16-BDL-r003  870.8 -> 575.5  788.8  760.8   \n",
      "16601           11.14  Paeru-C-T4-16-BDL-r003  898.8 -> 603.5  816.8  788.8   \n",
      "16602           11.00  Paeru-C-T4-16-BDL-r003  896.8 -> 601.5  814.8  786.8   \n",
      "\n",
      "        n-12 db_pos  Ratio Time Dose Bacteria  \n",
      "0      434.5    NaN    NaN   T0    0     Bsub  \n",
      "1      432.5    NaN    NaN   T0    0     Bsub  \n",
      "2      460.6    NaN    NaN   T0    0     Bsub  \n",
      "3      458.5    NaN    NaN   T0    0     Bsub  \n",
      "4      458.5    NaN    NaN   T0    0     Bsub  \n",
      "...      ...    ...    ...  ...  ...      ...  \n",
      "16598  720.8    NaN    NaN   T4   16    Paeru  \n",
      "16599  720.8    NaN    NaN   T4   16    Paeru  \n",
      "16600  718.8    NaN    NaN   T4   16    Paeru  \n",
      "16601  746.8    NaN    NaN   T4   16    Paeru  \n",
      "16602  744.8    NaN    NaN   T4   16    Paeru  \n",
      "\n",
      "[16603 rows x 16 columns]\n"
     ]
    }
   ],
   "source": [
    "# Ignore warnings\n",
    "warnings.filterwarnings('ignore')\n",
    "\n",
    "# # Display GIF\n",
    "# gif = Image(filename='Figures/cat_gif.gif') # replace 'your_gif.gif' with the path to your GIF\n",
    "# display(gif)\n",
    "\n",
    "print(\"Your data is PURRing...\")\n",
    "\n",
    "if load_previously_parsed == True:\n",
    "    df_matched = pd.read_csv(Project_Folder+\"Processed Results/\"+file_name_to_save+\".csv\")\n",
    "    \n",
    "\n",
    "    \n",
    "#     tag_values = ['TAG14', 'TAG16', 'TAG18', 'TAG20', 'TAG22']\n",
    "#     dag_values = ['DAG16', 'DAG18']\n",
    "\n",
    "#     df_matched.loc[df_matched['method_type'].isin(tag_values), 'Class'] = 'TAG'\n",
    "#     df_matched.loc[df_matched['method_type'].isin(dag_values), 'Class'] = 'DAG'\n",
    "    \n",
    "else:\n",
    "    df_matched = full_parse(data_base_name_location,mzml_folder, folder_name_to_save,labels_df, blank_name, \n",
    "                            file_name_to_save,tolerance, custom_data = custom_data, remove_std = remove_std,save_data=save_data)\n",
    "\n",
    "print(\"Complete\")\n",
    "\n",
    "# df_matched = add_labels(labels_df,df_matched)\n",
    "# merged_df = subtract_blank(labels_df,df_matched,remove_list,blank_name)\n",
    "df_matched\n",
    "if custom_data ==True: ###Need to fix for custom classes\n",
    "    df_matched['Class'] = df_matched['Class'].replace({'AC': 'CAR', 'FFA': 'FA', 'CE | CE': 'CE', 'PE | PE': 'PE', 'PG | PG': 'PG'\n",
    "                                                      , 'PG | PG | PG': 'PG', 'PI | PI': 'PI', 'PS | PS': 'PS','CER': 'Cer'})\n",
    "    \n",
    "\n",
    "\n",
    "\n",
    "\n",
    "json_list_pairs = load_data()\n",
    "json_list_pairs = remove_empty_entries(json_list_pairs)\n",
    "json_list_singles = get_unique_json_objects(json_list_pairs)\n",
    "print(json_list_pairs)\n",
    "print(json_list_singles)\n",
    "# make_pie_chart_no_replicates(df_matched,plots_2_save_path,json_list_singles,labels_list,blank_name,extra_name)\n",
    "# average_pie_chart_no_repeats(df_matched,plots_2_save_path,json_list_singles,labels_list,blank_name,extra_name)\n",
    "# make_bar_plot_comparisons(df_matched, plots_2_save_path, json_list_pairs,labels_list,blank_name,extra_name)\n",
    "labels_list = labels_list + ['method_type',\"Transition\"]\n",
    "df_matched = add_suffix(df_matched)\n",
    "print(df_matched)\n",
    "combined_df = prep_edge_R(df_matched,json_list_pairs,Pre_edge_r_path,blank_name,labels_list,extra_name)\n",
    "# !bash myjob.sh\n"
   ]
  },
  {
   "cell_type": "code",
   "execution_count": 23,
   "metadata": {},
   "outputs": [
    {
     "data": {
      "text/html": [
       "<div>\n",
       "<style scoped>\n",
       "    .dataframe tbody tr th:only-of-type {\n",
       "        vertical-align: middle;\n",
       "    }\n",
       "\n",
       "    .dataframe tbody tr th {\n",
       "        vertical-align: top;\n",
       "    }\n",
       "\n",
       "    .dataframe thead th {\n",
       "        text-align: right;\n",
       "    }\n",
       "</style>\n",
       "<table border=\"1\" class=\"dataframe\">\n",
       "  <thead>\n",
       "    <tr style=\"text-align: right;\">\n",
       "      <th></th>\n",
       "      <th>Lipid</th>\n",
       "      <th>Precursor_Ion</th>\n",
       "      <th>Product_Ion</th>\n",
       "      <th>Intensity</th>\n",
       "      <th>Transition</th>\n",
       "      <th>Class</th>\n",
       "      <th>Sample_ID</th>\n",
       "      <th>Genotype</th>\n",
       "      <th>Brain Region</th>\n",
       "      <th>Sex</th>\n",
       "      <th>Blank Subtraction</th>\n",
       "    </tr>\n",
       "  </thead>\n",
       "  <tbody>\n",
       "    <tr>\n",
       "      <th>4491</th>\n",
       "      <td>(5Z,8Z)-tetradecadienoylcarnitine</td>\n",
       "      <td>368.3</td>\n",
       "      <td>85.1</td>\n",
       "      <td>97017264.0</td>\n",
       "      <td>368.3 -&gt; 85.1</td>\n",
       "      <td>CAR</td>\n",
       "      <td>AC_DOD100-M1-WT-cerebellum10x_01202023</td>\n",
       "      <td>WT</td>\n",
       "      <td>cerebellum</td>\n",
       "      <td>Male</td>\n",
       "      <td>95231340.0</td>\n",
       "    </tr>\n",
       "    <tr>\n",
       "      <th>4492</th>\n",
       "      <td>cis-5-Tetradecenoylcarnitine</td>\n",
       "      <td>370.3</td>\n",
       "      <td>85.1</td>\n",
       "      <td>2996571.0</td>\n",
       "      <td>370.3 -&gt; 85.1</td>\n",
       "      <td>CAR</td>\n",
       "      <td>AC_DOD100-M1-WT-cerebellum10x_01202023</td>\n",
       "      <td>WT</td>\n",
       "      <td>cerebellum</td>\n",
       "      <td>Male</td>\n",
       "      <td>1506027.0</td>\n",
       "    </tr>\n",
       "    <tr>\n",
       "      <th>4493</th>\n",
       "      <td>TetradecanoylcarnitineO-tetradecanoylcarnitine</td>\n",
       "      <td>372.3</td>\n",
       "      <td>85.1</td>\n",
       "      <td>1358860.0</td>\n",
       "      <td>372.3 -&gt; 85.1</td>\n",
       "      <td>CAR</td>\n",
       "      <td>AC_DOD100-M1-WT-cerebellum10x_01202023</td>\n",
       "      <td>WT</td>\n",
       "      <td>cerebellum</td>\n",
       "      <td>Male</td>\n",
       "      <td>0.0</td>\n",
       "    </tr>\n",
       "    <tr>\n",
       "      <th>4494</th>\n",
       "      <td>O-(11-carboxyundecanoyl)carnitine</td>\n",
       "      <td>374.2</td>\n",
       "      <td>85.1</td>\n",
       "      <td>1636443.0</td>\n",
       "      <td>374.2 -&gt; 85.1</td>\n",
       "      <td>CAR</td>\n",
       "      <td>AC_DOD100-M1-WT-cerebellum10x_01202023</td>\n",
       "      <td>WT</td>\n",
       "      <td>cerebellum</td>\n",
       "      <td>Male</td>\n",
       "      <td>204025.0</td>\n",
       "    </tr>\n",
       "    <tr>\n",
       "      <th>4495</th>\n",
       "      <td>(5Z,8Z)-3-hydroxytetradecadienoylcarnitine</td>\n",
       "      <td>384.3</td>\n",
       "      <td>85.1</td>\n",
       "      <td>2215148.0</td>\n",
       "      <td>384.3 -&gt; 85.1</td>\n",
       "      <td>CAR</td>\n",
       "      <td>AC_DOD100-M1-WT-cerebellum10x_01202023</td>\n",
       "      <td>WT</td>\n",
       "      <td>cerebellum</td>\n",
       "      <td>Male</td>\n",
       "      <td>137568.0</td>\n",
       "    </tr>\n",
       "    <tr>\n",
       "      <th>...</th>\n",
       "      <td>...</td>\n",
       "      <td>...</td>\n",
       "      <td>...</td>\n",
       "      <td>...</td>\n",
       "      <td>...</td>\n",
       "      <td>...</td>\n",
       "      <td>...</td>\n",
       "      <td>...</td>\n",
       "      <td>...</td>\n",
       "      <td>...</td>\n",
       "      <td>...</td>\n",
       "    </tr>\n",
       "    <tr>\n",
       "      <th>50893</th>\n",
       "      <td>TG(60:1)_FA 18:2</td>\n",
       "      <td>990.9</td>\n",
       "      <td>693.9</td>\n",
       "      <td>18610.0</td>\n",
       "      <td>990.9 -&gt; 693.9</td>\n",
       "      <td>TG</td>\n",
       "      <td>TAG2_M5FAD173-WT-Hippo10x_01192023</td>\n",
       "      <td>WT</td>\n",
       "      <td>hippo</td>\n",
       "      <td>Male</td>\n",
       "      <td>0.0</td>\n",
       "    </tr>\n",
       "    <tr>\n",
       "      <th>50894</th>\n",
       "      <td>TG(60:0)_FA 20:0</td>\n",
       "      <td>992.9</td>\n",
       "      <td>663.9</td>\n",
       "      <td>113377.0</td>\n",
       "      <td>992.9 -&gt; 663.9</td>\n",
       "      <td>TG</td>\n",
       "      <td>TAG2_M5FAD173-WT-Hippo10x_01192023</td>\n",
       "      <td>WT</td>\n",
       "      <td>hippo</td>\n",
       "      <td>Male</td>\n",
       "      <td>6108.0</td>\n",
       "    </tr>\n",
       "    <tr>\n",
       "      <th>50895</th>\n",
       "      <td>TG(60:0)_FA 20:4</td>\n",
       "      <td>992.9</td>\n",
       "      <td>671.9</td>\n",
       "      <td>15025.0</td>\n",
       "      <td>992.9 -&gt; 671.9</td>\n",
       "      <td>TG</td>\n",
       "      <td>TAG2_M5FAD173-WT-Hippo10x_01192023</td>\n",
       "      <td>WT</td>\n",
       "      <td>hippo</td>\n",
       "      <td>Male</td>\n",
       "      <td>0.0</td>\n",
       "    </tr>\n",
       "    <tr>\n",
       "      <th>50896</th>\n",
       "      <td>TG(60:0)_FA 18:1</td>\n",
       "      <td>992.9</td>\n",
       "      <td>693.9</td>\n",
       "      <td>17602.0</td>\n",
       "      <td>992.9 -&gt; 693.9</td>\n",
       "      <td>TG</td>\n",
       "      <td>TAG2_M5FAD173-WT-Hippo10x_01192023</td>\n",
       "      <td>WT</td>\n",
       "      <td>hippo</td>\n",
       "      <td>Male</td>\n",
       "      <td>0.0</td>\n",
       "    </tr>\n",
       "    <tr>\n",
       "      <th>50897</th>\n",
       "      <td>TG(60:0)_FA 18:2</td>\n",
       "      <td>992.9</td>\n",
       "      <td>695.9</td>\n",
       "      <td>14038.0</td>\n",
       "      <td>992.9 -&gt; 695.9</td>\n",
       "      <td>TG</td>\n",
       "      <td>TAG2_M5FAD173-WT-Hippo10x_01192023</td>\n",
       "      <td>WT</td>\n",
       "      <td>hippo</td>\n",
       "      <td>Male</td>\n",
       "      <td>0.0</td>\n",
       "    </tr>\n",
       "  </tbody>\n",
       "</table>\n",
       "<p>46407 rows × 11 columns</p>\n",
       "</div>"
      ],
      "text/plain": [
       "                                                Lipid  Precursor_Ion  \\\n",
       "4491                (5Z,8Z)-tetradecadienoylcarnitine          368.3   \n",
       "4492                     cis-5-Tetradecenoylcarnitine          370.3   \n",
       "4493   TetradecanoylcarnitineO-tetradecanoylcarnitine          372.3   \n",
       "4494                O-(11-carboxyundecanoyl)carnitine          374.2   \n",
       "4495       (5Z,8Z)-3-hydroxytetradecadienoylcarnitine          384.3   \n",
       "...                                               ...            ...   \n",
       "50893                                TG(60:1)_FA 18:2          990.9   \n",
       "50894                                TG(60:0)_FA 20:0          992.9   \n",
       "50895                                TG(60:0)_FA 20:4          992.9   \n",
       "50896                                TG(60:0)_FA 18:1          992.9   \n",
       "50897                                TG(60:0)_FA 18:2          992.9   \n",
       "\n",
       "       Product_Ion   Intensity      Transition Class  \\\n",
       "4491          85.1  97017264.0   368.3 -> 85.1   CAR   \n",
       "4492          85.1   2996571.0   370.3 -> 85.1   CAR   \n",
       "4493          85.1   1358860.0   372.3 -> 85.1   CAR   \n",
       "4494          85.1   1636443.0   374.2 -> 85.1   CAR   \n",
       "4495          85.1   2215148.0   384.3 -> 85.1   CAR   \n",
       "...            ...         ...             ...   ...   \n",
       "50893        693.9     18610.0  990.9 -> 693.9    TG   \n",
       "50894        663.9    113377.0  992.9 -> 663.9    TG   \n",
       "50895        671.9     15025.0  992.9 -> 671.9    TG   \n",
       "50896        693.9     17602.0  992.9 -> 693.9    TG   \n",
       "50897        695.9     14038.0  992.9 -> 695.9    TG   \n",
       "\n",
       "                                    Sample_ID Genotype Brain Region   Sex  \\\n",
       "4491   AC_DOD100-M1-WT-cerebellum10x_01202023       WT   cerebellum  Male   \n",
       "4492   AC_DOD100-M1-WT-cerebellum10x_01202023       WT   cerebellum  Male   \n",
       "4493   AC_DOD100-M1-WT-cerebellum10x_01202023       WT   cerebellum  Male   \n",
       "4494   AC_DOD100-M1-WT-cerebellum10x_01202023       WT   cerebellum  Male   \n",
       "4495   AC_DOD100-M1-WT-cerebellum10x_01202023       WT   cerebellum  Male   \n",
       "...                                       ...      ...          ...   ...   \n",
       "50893      TAG2_M5FAD173-WT-Hippo10x_01192023       WT        hippo  Male   \n",
       "50894      TAG2_M5FAD173-WT-Hippo10x_01192023       WT        hippo  Male   \n",
       "50895      TAG2_M5FAD173-WT-Hippo10x_01192023       WT        hippo  Male   \n",
       "50896      TAG2_M5FAD173-WT-Hippo10x_01192023       WT        hippo  Male   \n",
       "50897      TAG2_M5FAD173-WT-Hippo10x_01192023       WT        hippo  Male   \n",
       "\n",
       "       Blank Subtraction  \n",
       "4491          95231340.0  \n",
       "4492           1506027.0  \n",
       "4493                 0.0  \n",
       "4494            204025.0  \n",
       "4495            137568.0  \n",
       "...                  ...  \n",
       "50893                0.0  \n",
       "50894             6108.0  \n",
       "50895                0.0  \n",
       "50896                0.0  \n",
       "50897                0.0  \n",
       "\n",
       "[46407 rows x 11 columns]"
      ]
     },
     "execution_count": 23,
     "metadata": {},
     "output_type": "execute_result"
    }
   ],
   "source": [
    "# # Drop the columns 'Position' and 'Sample Name'\n",
    "# df_matched = df_matched.drop(columns=['Position', 'Sample Name'])\n",
    "#drop method_type column\n",
    "# df_matched = df_matched.drop(columns=['method_type'])\n",
    "# df_matched = df_matched.rename(columns={'Parent_Ion': 'Precursor_Ion'})\n",
    "\n",
    "# # Replace \"TAG\" with \"TG\"\n",
    "# df_matched['Lipid'] = df_matched['Lipid'].str.replace('TAG', 'TG')\n",
    "\n",
    "# # Change values in the 'Class' column\n",
    "# df_matched['Class'] = df_matched['Class'].replace({'TAG': 'TG', 'DAG': 'DG'})\n",
    "\n",
    "# # Remove rows where 'Sample_ID' contains \"Blank\"\n",
    "# df_matched = df_matched[~df_matched['Sample_ID'].str.contains('Blank')]\n",
    "df_matched[\"Intensity\"] = df_matched[\"Intensity\"].round(0)\n",
    "df_matched[\"Blank Subtraction\"] = df_matched[\"Blank Subtraction\"].round(0)\n",
    "\n",
    "\n",
    "df_matched.head(None)"
   ]
  },
  {
   "cell_type": "code",
   "execution_count": 24,
   "metadata": {},
   "outputs": [],
   "source": [
    "df_matched.to_csv('CLAW_Brain_MRM.csv', index=False)\n",
    "df_matched.to_excel('CLAW_Brain_MRM.xlsx', index=False)"
   ]
  },
  {
   "cell_type": "code",
   "execution_count": null,
   "metadata": {},
   "outputs": [],
   "source": []
  }
 ],
 "metadata": {
  "kernelspec": {
   "display_name": "Python 3 (ipykernel)",
   "language": "python",
   "name": "python3"
  },
  "language_info": {
   "codemirror_mode": {
    "name": "ipython",
    "version": 3
   },
   "file_extension": ".py",
   "mimetype": "text/x-python",
   "name": "python",
   "nbconvert_exporter": "python",
   "pygments_lexer": "ipython3",
   "version": "3.9.18"
  },
  "vscode": {
   "interpreter": {
    "hash": "7f59e923a9cab402a21ecdd8c8501a7d121113b28792a99acb445fcdcb4f42c3"
   }
  }
 },
 "nbformat": 4,
 "nbformat_minor": 2
}
