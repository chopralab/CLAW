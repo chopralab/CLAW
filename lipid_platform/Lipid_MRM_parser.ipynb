{
 "cells": [
  {
   "attachments": {},
   "cell_type": "markdown",
   "metadata": {},
   "source": [
    "# Automated Multiple Reaction Monitoring (MRM)-profiling and Ozone Electrospray Ionizaton (OzESI)-MRM Informatics Platform for High-throughput Lipidomics\n",
    "\n",
    "\n",
    "In this jupyter notebook you will automate the data analysis of the lipidome. This is a challenging problem to perform manually due to the diverse nature of lipids and the many potential isomers. In this notebook you will analyze mzML files containing data from lipid MRMs, with ozone off and ozone on. The goal is to identify possible double-bond locations in a lipid, in this case a TAG (triacylglycerols)."
   ]
  },
  {
   "cell_type": "code",
   "execution_count": 44,
   "metadata": {},
   "outputs": [],
   "source": [
    "from IPython.display import Image"
   ]
  },
  {
   "attachments": {},
   "cell_type": "markdown",
   "metadata": {},
   "source": [
    "![title](Figures/agilent_lcms.png)\n",
    "\n",
    "The examples shown here were run on an Agilent 6495C Triple Quadrupole LC/MS (example shown above) that has been connected to an ozone line (not shown in picture) for ozoneolysis of lipids."
   ]
  },
  {
   "attachments": {},
   "cell_type": "markdown",
   "metadata": {},
   "source": [
    "![title](Figures/TAG_example.png)\n",
    "Here is an example of a TAG. Notice how many possibilities there are for locations of one double-bond there could be and how convoluted the analysis can become! This image is obtained from LipidMaps.org"
   ]
  },
  {
   "attachments": {},
   "cell_type": "markdown",
   "metadata": {},
   "source": [
    "Import all necessary libraries"
   ]
  },
  {
   "cell_type": "code",
   "execution_count": 67,
   "metadata": {},
   "outputs": [],
   "source": [
    "#Import all the necessary libraries\n",
    "import pymzml\n",
    "import csv\n",
    "import os\n",
    "import pandas as pd\n",
    "import numpy as np\n",
    "import math\n",
    "from matplotlib import pyplot as plt\n",
    "import re\n",
    "import plotly.express as px"
   ]
  },
  {
   "attachments": {},
   "cell_type": "markdown",
   "metadata": {},
   "source": [
    "MAKE CLASSES FOR EACH LIPID"
   ]
  },
  {
   "cell_type": "code",
   "execution_count": 68,
   "metadata": {},
   "outputs": [],
   "source": [
    "# lipid_types = [\"CE\",\"TAG\",\"CER\",\"FFA\",\"PC\",\"PE\",\"PG\",\"PI\",\"SM\",\"AC\"]\n",
    "# database_path = \"lipid_database/Lipid_Database.xlsx\"\n",
    "\n",
    "# #loop through all sheets in SUPPLE_2.XLS and make a df of Compound Name, Parent Ion, and Product Ion\n",
    "# mrm_list_new = pd.read_excel('lipid_database/Lipid_Database.xlsx', sheet_name = None)\n",
    "# mrm_list_new = pd.concat(mrm_list_new, ignore_index=True)\n",
    "# mrm_list_offical = mrm_list_new[['Compound Name', 'Parent Ion', 'Product Ion', 'Class']]\n",
    "# #Add underscore to middle of columns names\n",
    "# mrm_list_offical.columns = mrm_list_offical.columns.str.replace(' ', '_')\n",
    "# #round Parent Ion and Product Ion to 1 decimal place\n",
    "# mrm_list_offical['Parent_Ion'] = np.floor(mrm_list_offical['Parent_Ion'].round(1))\n",
    "# mrm_list_offical['Product_Ion'] = np.floor(mrm_list_offical['Product_Ion'].round(1))\n",
    "# #create transition column by combining Parent Ion and Product Ion with arrow between numbers\n",
    "# mrm_list_offical['Transition'] = mrm_list_offical['Parent_Ion'].astype(str) + ' -> ' + mrm_list_offical['Product_Ion'].astype(str)\n",
    "# #change column compound name to lipid\n",
    "# mrm_list_offical = mrm_list_offical.rename(columns={'Compound_Name': 'Lipid'})\n",
    "# #make a column called Class match lipid column to lipid types\n",
    "\n",
    "\n",
    "\n",
    "# pd.set_option('display.max_rows', None)\n",
    "# print(mrm_list_offical.head(None))\n"
   ]
  },
  {
   "cell_type": "code",
   "execution_count": 61,
   "metadata": {},
   "outputs": [
    {
     "name": "stderr",
     "output_type": "stream",
     "text": [
      "/tmp/ipykernel_7529/2289239920.py:8: SettingWithCopyWarning: \n",
      "A value is trying to be set on a copy of a slice from a DataFrame.\n",
      "Try using .loc[row_indexer,col_indexer] = value instead\n",
      "\n",
      "See the caveats in the documentation: https://pandas.pydata.org/pandas-docs/stable/user_guide/indexing.html#returning-a-view-versus-a-copy\n",
      "  mrm_list_offical['Parent_Ion'] = np.floor(mrm_list_offical['Parent_Ion'].round(1))\n",
      "/tmp/ipykernel_7529/2289239920.py:9: SettingWithCopyWarning: \n",
      "A value is trying to be set on a copy of a slice from a DataFrame.\n",
      "Try using .loc[row_indexer,col_indexer] = value instead\n",
      "\n",
      "See the caveats in the documentation: https://pandas.pydata.org/pandas-docs/stable/user_guide/indexing.html#returning-a-view-versus-a-copy\n",
      "  mrm_list_offical['Product_Ion'] = np.floor(mrm_list_offical['Product_Ion'].round(1))\n",
      "/tmp/ipykernel_7529/2289239920.py:11: SettingWithCopyWarning: \n",
      "A value is trying to be set on a copy of a slice from a DataFrame.\n",
      "Try using .loc[row_indexer,col_indexer] = value instead\n",
      "\n",
      "See the caveats in the documentation: https://pandas.pydata.org/pandas-docs/stable/user_guide/indexing.html#returning-a-view-versus-a-copy\n",
      "  mrm_list_offical['Transition'] = mrm_list_offical['Parent_Ion'].astype(str) + ' -> ' + mrm_list_offical['Product_Ion'].astype(str)\n"
     ]
    },
    {
     "data": {
      "text/html": [
       "<div>\n",
       "<style scoped>\n",
       "    .dataframe tbody tr th:only-of-type {\n",
       "        vertical-align: middle;\n",
       "    }\n",
       "\n",
       "    .dataframe tbody tr th {\n",
       "        vertical-align: top;\n",
       "    }\n",
       "\n",
       "    .dataframe thead th {\n",
       "        text-align: right;\n",
       "    }\n",
       "</style>\n",
       "<table border=\"1\" class=\"dataframe\">\n",
       "  <thead>\n",
       "    <tr style=\"text-align: right;\">\n",
       "      <th></th>\n",
       "      <th>Lipid</th>\n",
       "      <th>Parent_Ion</th>\n",
       "      <th>Product_Ion</th>\n",
       "      <th>Class</th>\n",
       "      <th>Transition</th>\n",
       "    </tr>\n",
       "  </thead>\n",
       "  <tbody>\n",
       "    <tr>\n",
       "      <th>3264</th>\n",
       "      <td>STD_15:0-18:1(d7) PI (NH4 Salt)</td>\n",
       "      <td>847.0</td>\n",
       "      <td>570.0</td>\n",
       "      <td>STD_15:0-18:1(d7) PI (NH4 Salt)</td>\n",
       "      <td>847.0 -&gt; 570.0</td>\n",
       "    </tr>\n",
       "    <tr>\n",
       "      <th>3265</th>\n",
       "      <td>STD_15:0-18:1(d7) PS (Na Salt)</td>\n",
       "      <td>755.0</td>\n",
       "      <td>570.0</td>\n",
       "      <td>STD_15:0-18:1(d7) PS (Na Salt)</td>\n",
       "      <td>755.0 -&gt; 570.0</td>\n",
       "    </tr>\n",
       "    <tr>\n",
       "      <th>3266</th>\n",
       "      <td>STD_15:0-18:1(d7)-15:0 TAG</td>\n",
       "      <td>829.0</td>\n",
       "      <td>570.0</td>\n",
       "      <td>STD_15:0-18:1(d7)-15:0 TAG</td>\n",
       "      <td>829.0 -&gt; 570.0</td>\n",
       "    </tr>\n",
       "    <tr>\n",
       "      <th>3267</th>\n",
       "      <td>STD_18:1(d7) Chol Ester</td>\n",
       "      <td>675.0</td>\n",
       "      <td>369.0</td>\n",
       "      <td>STD_18:1(d7) Chol Ester</td>\n",
       "      <td>675.0 -&gt; 369.0</td>\n",
       "    </tr>\n",
       "    <tr>\n",
       "      <th>3268</th>\n",
       "      <td>STD_d18:1-18:1(d9) SM</td>\n",
       "      <td>738.0</td>\n",
       "      <td>184.0</td>\n",
       "      <td>STD_d18:1-18:1(d9) SM</td>\n",
       "      <td>738.0 -&gt; 184.0</td>\n",
       "    </tr>\n",
       "  </tbody>\n",
       "</table>\n",
       "</div>"
      ],
      "text/plain": [
       "                                Lipid  Parent_Ion  Product_Ion  \\\n",
       "3264  STD_15:0-18:1(d7) PI (NH4 Salt)       847.0        570.0   \n",
       "3265   STD_15:0-18:1(d7) PS (Na Salt)       755.0        570.0   \n",
       "3266       STD_15:0-18:1(d7)-15:0 TAG       829.0        570.0   \n",
       "3267          STD_18:1(d7) Chol Ester       675.0        369.0   \n",
       "3268            STD_d18:1-18:1(d9) SM       738.0        184.0   \n",
       "\n",
       "                                Class      Transition  \n",
       "3264  STD_15:0-18:1(d7) PI (NH4 Salt)  847.0 -> 570.0  \n",
       "3265   STD_15:0-18:1(d7) PS (Na Salt)  755.0 -> 570.0  \n",
       "3266       STD_15:0-18:1(d7)-15:0 TAG  829.0 -> 570.0  \n",
       "3267          STD_18:1(d7) Chol Ester  675.0 -> 369.0  \n",
       "3268            STD_d18:1-18:1(d9) SM  738.0 -> 184.0  "
      ]
     },
     "execution_count": 61,
     "metadata": {},
     "output_type": "execute_result"
    }
   ],
   "source": [
    "\n",
    "def read_mrm_list(filename):\n",
    "    mrm_list_new = pd.read_excel(filename, sheet_name=None)\n",
    "    mrm_list_new = pd.concat(mrm_list_new, ignore_index=True)\n",
    "    mrm_list_offical = mrm_list_new[['Compound Name', 'Parent Ion', 'Product Ion', 'Class']]\n",
    "    # Add underscore to middle of columns names\n",
    "    mrm_list_offical.columns = mrm_list_offical.columns.str.replace(' ', '_')\n",
    "    # Round Parent Ion and Product Ion to 1 decimal place\n",
    "    mrm_list_offical['Parent_Ion'] = np.floor(mrm_list_offical['Parent_Ion'].round(1))\n",
    "    mrm_list_offical['Product_Ion'] = np.floor(mrm_list_offical['Product_Ion'].round(1))\n",
    "    # Create transition column by combining Parent Ion and Product Ion with arrow between numbers\n",
    "    mrm_list_offical['Transition'] = mrm_list_offical['Parent_Ion'].astype(str) + ' -> ' + mrm_list_offical['Product_Ion'].astype(str)\n",
    "    # Change column compound name to lipid\n",
    "    mrm_list_offical = mrm_list_offical.rename(columns={'Compound_Name': 'Lipid'})\n",
    "    # Make a column called Class match lipid column to lipid types\n",
    "    return mrm_list_offical\n",
    "\n",
    "mrm_database = read_mrm_list('lipid_database/Lipid_Database.xlsx')\n",
    "mrm_database.tail()"
   ]
  },
  {
   "cell_type": "code",
   "execution_count": 62,
   "metadata": {},
   "outputs": [
    {
     "name": "stdout",
     "output_type": "stream",
     "text": [
      "['PC' 'PE' 'SM' 'Cer' 'CAR' 'TAG' 'DAG' 'PS' 'PI' 'PG' 'CE' 'FA'\n",
      " 'STD 15:0-18:1-d7 DG' 'STD 18:1 (d7) Lyso PC' 'STD 18:1 (d7) Lyso PE'\n",
      " 'STD 18:1(d7) MAG' 'STD C15 ceramide-D7' 'STD_15:0-18:1(d7) PC'\n",
      " 'STD_15:0-18:1(d7) PE' 'STD_15:0-18:1(d7) PG (Na Salt)'\n",
      " 'STD_15:0-18:1(d7) PI (NH4 Salt)' 'STD_15:0-18:1(d7) PS (Na Salt)'\n",
      " 'STD_15:0-18:1(d7)-15:0 TAG' 'STD_18:1(d7) Chol Ester'\n",
      " 'STD_d18:1-18:1(d9) SM']\n"
     ]
    }
   ],
   "source": [
    "list_of_lipid_classes = mrm_database['Class'].unique()\n",
    "print(list_of_lipid_classes)"
   ]
  },
  {
   "attachments": {},
   "cell_type": "markdown",
   "metadata": {},
   "source": [
    "Load mzML file and convert to pandas dataframe and csv file. |\n",
    "Columns = Q1, Q3, Intensity, Transition, Lipid, Class  |\n",
    "Parsed data is also stored as csv file in data_csv"
   ]
  },
  {
   "cell_type": "code",
   "execution_count": 74,
   "metadata": {},
   "outputs": [
    {
     "name": "stdout",
     "output_type": "stream",
     "text": [
      "TailoredTAG18-1_O3off_RBDCanola0.0005mgmL_020723 (1).mzML\n",
      "Spectrum # =  None\n",
      "Chromatogram # = 36\n"
     ]
    },
    {
     "name": "stderr",
     "output_type": "stream",
     "text": [
      "/tmp/ipykernel_7529/1517786442.py:78: FutureWarning: The frame.append method is deprecated and will be removed from pandas in a future version. Use pandas.concat instead.\n",
      "  df = df.append(df_all, ignore_index=True)\n"
     ]
    }
   ],
   "source": [
    "#Create for loop to load all mzml files from the data folder into the run object from pymzml reader function and store in pandas dataframe\n",
    "#Create empty dictionary to store all the data\n",
    "df_OzESI = pd.DataFrame(columns=['Lipid','Parent_Ion','Product_Ion','Intensity','Retention_Time','Transition','Class','Sample_ID'])\n",
    "###\n",
    "# OzESI_time = {}\n",
    "###\n",
    "\n",
    "data_folder = os.listdir('./data_mzml/canola/test1/') #Path to the mzml files\n",
    "path_to_mzml_files = './data_mzml/canola/test1/' #Path to the mzml files\n",
    "#data_dict = {} #Empty dictionary to store all the data\n",
    "df = pd.DataFrame(columns=['Lipid','Parent_Ion','Product_Ion','Intensity','Transition','Class','Sample_ID'])\n",
    "#Create a similar for loop, except store all data in a single pandas dataframe\n",
    "df_all = pd.DataFrame(columns=['Lipid','Parent_Ion','Product_Ion','Intensity','Transition','Class','Sample_ID']) #Create empty pandas dataframe to store the data\n",
    "#df_all = pd.DataFrame(columns=['Q1','Q3','Intensity','Transition','Lipid','Class']) #Create empty pandas dataframe to store the data\n",
    "for file in data_folder:\n",
    "        if file.endswith('.mzML'):\n",
    "                print(file)\n",
    "                run = pymzml.run.Reader(path_to_mzml_files+file, skip_chromatogram=False) #Load the mzml file into the run object\n",
    "                print('Spectrum # = ',run.get_spectrum_count())\n",
    "                print('Chromatogram # =',run.get_chromatogram_count())\n",
    "\n",
    "\n",
    "                \n",
    "                #create pandas dataframe to store the data with the columns Parent Ion, Product Ion, Intensity, Transition Lipid and Class\n",
    "                #df_sample = pd.DataFrame(columns=['Parent_Ion','Product_Ion','Intensity','Transition','Lipid','Class']) #Create empty pandas dataframe to store the data\n",
    "                #df_sample = pd.DataFrame(columns=['Q1','Q3','Intensity','Transition','Lipid','Class']) #Create empty pandas dataframe to store the data\n",
    "                q1_mz = 0 #Create empty variables to store the Q1 and Q3 m/z values\n",
    "                q3_mz = 0\n",
    "                count = 0 #Create a counter to keep track of the number of transitions\n",
    "                for spectrum in run:\n",
    "                        \n",
    "                        ###\n",
    "                        # if isinstance(spectrum,pymzml.spec.Chromatogram):\n",
    "                        #         for time, intensity in spectrum.peaks():\n",
    "                        #                 print(time, intensity)\n",
    "                        #                 OzESI_time[time] = intensity\n",
    "                        #         # OzESI_time.append(time_list)\n",
    "                        ###\n",
    "\n",
    "                        for element in spectrum.ID.split(' '):\n",
    "                                # print('element',element)\n",
    "                                intensity_store = np.array([])\n",
    "                                if 'Q1' in element:\n",
    "                                        #print('Q1',element)\n",
    "                                        q1 = element.split('=')\n",
    "                                        #print('q1',q1[1])\n",
    "                                        q1_mz= np.floor(round(float(q1[1]),1))\n",
    "                                        # print('q1',q1)\n",
    "                                \n",
    "                                if 'Q3' in element:\n",
    "                                        #print('Q3',element)\n",
    "                                        q3 = element.split('=')\n",
    "                                        #print('q3',q3[1])\n",
    "                                        q3_mz=np.floor(round(float(q3[1]),1))\n",
    "                                        # print('q3',q3)\n",
    "                                        # df_sample.loc[count,'Q1'] = q1_mz\n",
    "                                        # df_sample.loc[count,'Q3'] = q3_mz\n",
    "                                        \n",
    "                                        for mz,intensity in spectrum.peaks(): #Get the m/z and intensity values from the spectrum\n",
    "                                                intensity_store = np.append(intensity_store,intensity) #Store the intensity values in an array\n",
    "                                                \n",
    "                        \n",
    "                                \n",
    "                                if 'Q3' in element:\n",
    "                                        # print(intensity_sum)\n",
    "                                        intensity_sum = np.sum(intensity_store) #Sum the intensity values\n",
    "                                        df_all.loc[count,'Parent_Ion'] = q1_mz #Store the Q1 and Q3 m/z values in the pandas dataframe\n",
    "                                        df_all.loc[count,'Product_Ion'] = q3_mz\n",
    "                                        #round the Q1 and Q3 m/z values to 1 decimal places\n",
    "                                        df_all.loc[count,'Parent_Ion'] = np.floor(round(df_all.loc[count,'Parent_Ion'],1))\n",
    "                                        df_all.loc[count,'Product_Ion'] = np.floor(round(df_all.loc[count,'Product_Ion'],1))\n",
    "                                        df_all.loc[count,'Intensity'] = intensity_sum #Store the intensity values in the pandas dataframe\n",
    "                                        df_all.loc[count,'Transition'] = str(q1_mz)+ ' -> '+ str(q3_mz) #Store the transition values in the pandas dataframe\n",
    "                                        #add file name to Sample_ID column without the mzmL extension\n",
    "                                        df_all.loc[count,'Sample_ID'] = file[:-5]\n",
    "                                        count+=1\n",
    "        #append df_all to df_all2\n",
    "        df = df.append(df_all, ignore_index=True)"
   ]
  },
  {
   "cell_type": "code",
   "execution_count": 71,
   "metadata": {},
   "outputs": [],
   "source": [
    "# from scipy.signal import find_peaks\n",
    "# import matplotlib.pyplot as plt\n",
    "\n",
    "# print(len(OzESI_time))\n",
    "# print(list(OzESI_time.items())[:3])\n",
    "# test = pd.DataFrame(list(OzESI_time.items()), columns=['time', 'intensity'])\n",
    "# print(test.head())\n",
    "# #find peaks from test dataframe\n",
    "# peaks, _ = find_peaks(test['intensity'], height=1e5,distance=1000)\n",
    "# print(peaks)\n",
    "# plt.plot(test['intensity'])\n",
    "# plt.plot(peaks, test['intensity'][peaks], \"x\")\n",
    "# plt.show()"
   ]
  },
  {
   "cell_type": "code",
   "execution_count": 75,
   "metadata": {},
   "outputs": [
    {
     "data": {
      "text/html": [
       "<div>\n",
       "<style scoped>\n",
       "    .dataframe tbody tr th:only-of-type {\n",
       "        vertical-align: middle;\n",
       "    }\n",
       "\n",
       "    .dataframe tbody tr th {\n",
       "        vertical-align: top;\n",
       "    }\n",
       "\n",
       "    .dataframe thead th {\n",
       "        text-align: right;\n",
       "    }\n",
       "</style>\n",
       "<table border=\"1\" class=\"dataframe\">\n",
       "  <thead>\n",
       "    <tr style=\"text-align: right;\">\n",
       "      <th></th>\n",
       "      <th>Lipid</th>\n",
       "      <th>Parent_Ion</th>\n",
       "      <th>Product_Ion</th>\n",
       "      <th>Intensity</th>\n",
       "      <th>Transition</th>\n",
       "      <th>Class</th>\n",
       "      <th>Sample_ID</th>\n",
       "    </tr>\n",
       "  </thead>\n",
       "  <tbody>\n",
       "    <tr>\n",
       "      <th>30</th>\n",
       "      <td>NaN</td>\n",
       "      <td>896.0</td>\n",
       "      <td>597.0</td>\n",
       "      <td>3145901.463318</td>\n",
       "      <td>896.0 -&gt; 597.0</td>\n",
       "      <td>NaN</td>\n",
       "      <td>TailoredTAG18-1_O3off_RBDCanola0.0005mgmL_0207...</td>\n",
       "    </tr>\n",
       "    <tr>\n",
       "      <th>31</th>\n",
       "      <td>NaN</td>\n",
       "      <td>898.0</td>\n",
       "      <td>599.0</td>\n",
       "      <td>12535827.163513</td>\n",
       "      <td>898.0 -&gt; 599.0</td>\n",
       "      <td>NaN</td>\n",
       "      <td>TailoredTAG18-1_O3off_RBDCanola0.0005mgmL_0207...</td>\n",
       "    </tr>\n",
       "    <tr>\n",
       "      <th>32</th>\n",
       "      <td>NaN</td>\n",
       "      <td>900.0</td>\n",
       "      <td>601.0</td>\n",
       "      <td>14229465.170547</td>\n",
       "      <td>900.0 -&gt; 601.0</td>\n",
       "      <td>NaN</td>\n",
       "      <td>TailoredTAG18-1_O3off_RBDCanola0.0005mgmL_0207...</td>\n",
       "    </tr>\n",
       "    <tr>\n",
       "      <th>33</th>\n",
       "      <td>NaN</td>\n",
       "      <td>902.0</td>\n",
       "      <td>603.0</td>\n",
       "      <td>34867382.116547</td>\n",
       "      <td>902.0 -&gt; 603.0</td>\n",
       "      <td>NaN</td>\n",
       "      <td>TailoredTAG18-1_O3off_RBDCanola0.0005mgmL_0207...</td>\n",
       "    </tr>\n",
       "    <tr>\n",
       "      <th>34</th>\n",
       "      <td>NaN</td>\n",
       "      <td>904.0</td>\n",
       "      <td>605.0</td>\n",
       "      <td>12858486.610764</td>\n",
       "      <td>904.0 -&gt; 605.0</td>\n",
       "      <td>NaN</td>\n",
       "      <td>TailoredTAG18-1_O3off_RBDCanola0.0005mgmL_0207...</td>\n",
       "    </tr>\n",
       "  </tbody>\n",
       "</table>\n",
       "</div>"
      ],
      "text/plain": [
       "   Lipid Parent_Ion Product_Ion        Intensity      Transition Class  \\\n",
       "30   NaN      896.0       597.0   3145901.463318  896.0 -> 597.0   NaN   \n",
       "31   NaN      898.0       599.0  12535827.163513  898.0 -> 599.0   NaN   \n",
       "32   NaN      900.0       601.0  14229465.170547  900.0 -> 601.0   NaN   \n",
       "33   NaN      902.0       603.0  34867382.116547  902.0 -> 603.0   NaN   \n",
       "34   NaN      904.0       605.0  12858486.610764  904.0 -> 605.0   NaN   \n",
       "\n",
       "                                            Sample_ID  \n",
       "30  TailoredTAG18-1_O3off_RBDCanola0.0005mgmL_0207...  \n",
       "31  TailoredTAG18-1_O3off_RBDCanola0.0005mgmL_0207...  \n",
       "32  TailoredTAG18-1_O3off_RBDCanola0.0005mgmL_0207...  \n",
       "33  TailoredTAG18-1_O3off_RBDCanola0.0005mgmL_0207...  \n",
       "34  TailoredTAG18-1_O3off_RBDCanola0.0005mgmL_0207...  "
      ]
     },
     "execution_count": 75,
     "metadata": {},
     "output_type": "execute_result"
    }
   ],
   "source": [
    "df.tail(5) #Print the pandas dataframe"
   ]
  },
  {
   "attachments": {},
   "cell_type": "markdown",
   "metadata": {},
   "source": [
    "Load MRM transitions from csv file to pandas dataframe. This list will be used to identify the possible lipids in our sample."
   ]
  },
  {
   "cell_type": "code",
   "execution_count": null,
   "metadata": {},
   "outputs": [],
   "source": [
    "# #Match Ions in df to mrm_database and append Lipid and Class columns to df\n",
    "# for index in range(len(df)):\n",
    "#     for row in range(len(mrm_database)):\n",
    "#         if mrm_database.loc[row,'Parent_Ion'] == df.loc[index,'Parent_Ion'] and mrm_database.loc[row,'Product_Ion'] == df.loc[index,'Product_Ion']:\n",
    "#             df.loc[index,'Lipid'] = mrm_database.loc[row,'Lipid']\n",
    "#             df.loc[index,'Class'] = mrm_database.loc[row,'Class']\n",
    "\n",
    "# df_matching = df.dropna() #drop rows with NaN values\n",
    "            "
   ]
  },
  {
   "cell_type": "code",
   "execution_count": 76,
   "metadata": {},
   "outputs": [],
   "source": [
    "# create a dictionary to store the matching parent/product ion pairs and their corresponding lipids and classes\n",
    "ion_dict = {}\n",
    "for index, row in mrm_database.iterrows():\n",
    "    ion_dict[(row['Parent_Ion'], row['Product_Ion'])] = (row['Lipid'], row['Class'])\n",
    "\n",
    "# create empty columns for Lipid and Class\n",
    "df['Lipid'] = np.nan\n",
    "df['Class'] = np.nan\n",
    "\n",
    "# loop through the rows in df and check if the corresponding parent/product ion pair exists in ion_dict\n",
    "for index, row in df.iterrows():\n",
    "    if (row['Parent_Ion'], row['Product_Ion']) in ion_dict:\n",
    "        df.at[index, 'Lipid'] = ion_dict[(row['Parent_Ion'], row['Product_Ion'])][0]\n",
    "        df.at[index, 'Class'] = ion_dict[(row['Parent_Ion'], row['Product_Ion'])][1]\n",
    "\n",
    "# drop rows with NaN values\n",
    "df_matching = df.dropna()\n"
   ]
  },
  {
   "cell_type": "code",
   "execution_count": 77,
   "metadata": {},
   "outputs": [
    {
     "data": {
      "text/html": [
       "<div>\n",
       "<style scoped>\n",
       "    .dataframe tbody tr th:only-of-type {\n",
       "        vertical-align: middle;\n",
       "    }\n",
       "\n",
       "    .dataframe tbody tr th {\n",
       "        vertical-align: top;\n",
       "    }\n",
       "\n",
       "    .dataframe thead th {\n",
       "        text-align: right;\n",
       "    }\n",
       "</style>\n",
       "<table border=\"1\" class=\"dataframe\">\n",
       "  <thead>\n",
       "    <tr style=\"text-align: right;\">\n",
       "      <th></th>\n",
       "      <th>Lipid</th>\n",
       "      <th>Parent_Ion</th>\n",
       "      <th>Product_Ion</th>\n",
       "      <th>Intensity</th>\n",
       "      <th>Transition</th>\n",
       "      <th>Class</th>\n",
       "      <th>Sample_ID</th>\n",
       "    </tr>\n",
       "  </thead>\n",
       "  <tbody>\n",
       "    <tr>\n",
       "      <th>0</th>\n",
       "      <td>PG(34:4)</td>\n",
       "      <td>760.0</td>\n",
       "      <td>571.0</td>\n",
       "      <td>3508930.004333</td>\n",
       "      <td>760.0 -&gt; 571.0</td>\n",
       "      <td>PG</td>\n",
       "      <td>TailoredTAG18-1_O3off_RBDCanola0.0005mgmL_0207...</td>\n",
       "    </tr>\n",
       "    <tr>\n",
       "      <th>1</th>\n",
       "      <td>PG(34:3),PG(P-35:2)</td>\n",
       "      <td>762.0</td>\n",
       "      <td>573.0</td>\n",
       "      <td>4454522.478516</td>\n",
       "      <td>762.0 -&gt; 573.0</td>\n",
       "      <td>PG</td>\n",
       "      <td>TailoredTAG18-1_O3off_RBDCanola0.0005mgmL_0207...</td>\n",
       "    </tr>\n",
       "    <tr>\n",
       "      <th>2</th>\n",
       "      <td>PG(O-35:2),PG(P-35:1)</td>\n",
       "      <td>764.0</td>\n",
       "      <td>575.0</td>\n",
       "      <td>3342623.235199</td>\n",
       "      <td>764.0 -&gt; 575.0</td>\n",
       "      <td>PG</td>\n",
       "      <td>TailoredTAG18-1_O3off_RBDCanola0.0005mgmL_0207...</td>\n",
       "    </tr>\n",
       "    <tr>\n",
       "      <th>3</th>\n",
       "      <td>PG(O-35:1),PG(P-35:0)</td>\n",
       "      <td>766.0</td>\n",
       "      <td>577.0</td>\n",
       "      <td>3270586.69046</td>\n",
       "      <td>766.0 -&gt; 577.0</td>\n",
       "      <td>PG</td>\n",
       "      <td>TailoredTAG18-1_O3off_RBDCanola0.0005mgmL_0207...</td>\n",
       "    </tr>\n",
       "    <tr>\n",
       "      <th>4</th>\n",
       "      <td>PG(36:7),PG(35:0),PG(O-36:0)</td>\n",
       "      <td>782.0</td>\n",
       "      <td>593.0</td>\n",
       "      <td>2358947.425293</td>\n",
       "      <td>782.0 -&gt; 593.0</td>\n",
       "      <td>PG</td>\n",
       "      <td>TailoredTAG18-1_O3off_RBDCanola0.0005mgmL_0207...</td>\n",
       "    </tr>\n",
       "    <tr>\n",
       "      <th>5</th>\n",
       "      <td>PG(36:6)</td>\n",
       "      <td>784.0</td>\n",
       "      <td>595.0</td>\n",
       "      <td>2304902.763245</td>\n",
       "      <td>784.0 -&gt; 595.0</td>\n",
       "      <td>PG</td>\n",
       "      <td>TailoredTAG18-1_O3off_RBDCanola0.0005mgmL_0207...</td>\n",
       "    </tr>\n",
       "    <tr>\n",
       "      <th>7</th>\n",
       "      <td>PG(36:5)</td>\n",
       "      <td>786.0</td>\n",
       "      <td>597.0</td>\n",
       "      <td>3260273.493011</td>\n",
       "      <td>786.0 -&gt; 597.0</td>\n",
       "      <td>PG</td>\n",
       "      <td>TailoredTAG18-1_O3off_RBDCanola0.0005mgmL_0207...</td>\n",
       "    </tr>\n",
       "    <tr>\n",
       "      <th>9</th>\n",
       "      <td>PG(36:4)</td>\n",
       "      <td>788.0</td>\n",
       "      <td>599.0</td>\n",
       "      <td>6129489.851624</td>\n",
       "      <td>788.0 -&gt; 599.0</td>\n",
       "      <td>PG</td>\n",
       "      <td>TailoredTAG18-1_O3off_RBDCanola0.0005mgmL_0207...</td>\n",
       "    </tr>\n",
       "    <tr>\n",
       "      <th>10</th>\n",
       "      <td>PG(36:3),PG(P-37:2)</td>\n",
       "      <td>790.0</td>\n",
       "      <td>601.0</td>\n",
       "      <td>2584182.920563</td>\n",
       "      <td>790.0 -&gt; 601.0</td>\n",
       "      <td>PG</td>\n",
       "      <td>TailoredTAG18-1_O3off_RBDCanola0.0005mgmL_0207...</td>\n",
       "    </tr>\n",
       "    <tr>\n",
       "      <th>12</th>\n",
       "      <td>PG(O-37:2),PG(P-37:1)</td>\n",
       "      <td>792.0</td>\n",
       "      <td>603.0</td>\n",
       "      <td>3311812.273865</td>\n",
       "      <td>792.0 -&gt; 603.0</td>\n",
       "      <td>PG</td>\n",
       "      <td>TailoredTAG18-1_O3off_RBDCanola0.0005mgmL_0207...</td>\n",
       "    </tr>\n",
       "    <tr>\n",
       "      <th>14</th>\n",
       "      <td>PG(36:1),PG(O-37:1),PG(P-37:0)</td>\n",
       "      <td>794.0</td>\n",
       "      <td>605.0</td>\n",
       "      <td>4324463.707825</td>\n",
       "      <td>794.0 -&gt; 605.0</td>\n",
       "      <td>PG</td>\n",
       "      <td>TailoredTAG18-1_O3off_RBDCanola0.0005mgmL_0207...</td>\n",
       "    </tr>\n",
       "    <tr>\n",
       "      <th>23</th>\n",
       "      <td>[TG(52:6)]_FA18:1</td>\n",
       "      <td>868.0</td>\n",
       "      <td>569.0</td>\n",
       "      <td>2147588.99118</td>\n",
       "      <td>868.0 -&gt; 569.0</td>\n",
       "      <td>TAG</td>\n",
       "      <td>TailoredTAG18-1_O3off_RBDCanola0.0005mgmL_0207...</td>\n",
       "    </tr>\n",
       "    <tr>\n",
       "      <th>24</th>\n",
       "      <td>[TG(52:6)]_FA18:1</td>\n",
       "      <td>868.0</td>\n",
       "      <td>569.0</td>\n",
       "      <td>2077466.947021</td>\n",
       "      <td>868.0 -&gt; 569.0</td>\n",
       "      <td>TAG</td>\n",
       "      <td>TailoredTAG18-1_O3off_RBDCanola0.0005mgmL_0207...</td>\n",
       "    </tr>\n",
       "    <tr>\n",
       "      <th>25</th>\n",
       "      <td>[TG(52:5)]_FA18:1</td>\n",
       "      <td>870.0</td>\n",
       "      <td>571.0</td>\n",
       "      <td>3446471.865845</td>\n",
       "      <td>870.0 -&gt; 571.0</td>\n",
       "      <td>TAG</td>\n",
       "      <td>TailoredTAG18-1_O3off_RBDCanola0.0005mgmL_0207...</td>\n",
       "    </tr>\n",
       "    <tr>\n",
       "      <th>26</th>\n",
       "      <td>[TG(52:4)]_FA18:1</td>\n",
       "      <td>872.0</td>\n",
       "      <td>573.0</td>\n",
       "      <td>3569656.209076</td>\n",
       "      <td>872.0 -&gt; 573.0</td>\n",
       "      <td>TAG</td>\n",
       "      <td>TailoredTAG18-1_O3off_RBDCanola0.0005mgmL_0207...</td>\n",
       "    </tr>\n",
       "    <tr>\n",
       "      <th>27</th>\n",
       "      <td>[TG(53:10),TG(52:3)]_FA18:1</td>\n",
       "      <td>874.0</td>\n",
       "      <td>575.0</td>\n",
       "      <td>20658623.729889</td>\n",
       "      <td>874.0 -&gt; 575.0</td>\n",
       "      <td>TAG</td>\n",
       "      <td>TailoredTAG18-1_O3off_RBDCanola0.0005mgmL_0207...</td>\n",
       "    </tr>\n",
       "    <tr>\n",
       "      <th>28</th>\n",
       "      <td>[TG(53:9),TG(52:2)]_FA18:1</td>\n",
       "      <td>876.0</td>\n",
       "      <td>577.0</td>\n",
       "      <td>26769009.464355</td>\n",
       "      <td>876.0 -&gt; 577.0</td>\n",
       "      <td>TAG</td>\n",
       "      <td>TailoredTAG18-1_O3off_RBDCanola0.0005mgmL_0207...</td>\n",
       "    </tr>\n",
       "    <tr>\n",
       "      <th>29</th>\n",
       "      <td>[TG(54:7),TG(53:0)]_FA18:1</td>\n",
       "      <td>894.0</td>\n",
       "      <td>595.0</td>\n",
       "      <td>4333085.702454</td>\n",
       "      <td>894.0 -&gt; 595.0</td>\n",
       "      <td>TAG</td>\n",
       "      <td>TailoredTAG18-1_O3off_RBDCanola0.0005mgmL_0207...</td>\n",
       "    </tr>\n",
       "    <tr>\n",
       "      <th>30</th>\n",
       "      <td>[TG(54:6)]_FA18:1</td>\n",
       "      <td>896.0</td>\n",
       "      <td>597.0</td>\n",
       "      <td>3145901.463318</td>\n",
       "      <td>896.0 -&gt; 597.0</td>\n",
       "      <td>TAG</td>\n",
       "      <td>TailoredTAG18-1_O3off_RBDCanola0.0005mgmL_0207...</td>\n",
       "    </tr>\n",
       "    <tr>\n",
       "      <th>31</th>\n",
       "      <td>[TG(54:5)]_FA18:1</td>\n",
       "      <td>898.0</td>\n",
       "      <td>599.0</td>\n",
       "      <td>12535827.163513</td>\n",
       "      <td>898.0 -&gt; 599.0</td>\n",
       "      <td>TAG</td>\n",
       "      <td>TailoredTAG18-1_O3off_RBDCanola0.0005mgmL_0207...</td>\n",
       "    </tr>\n",
       "    <tr>\n",
       "      <th>32</th>\n",
       "      <td>[TG(55:11),TG(54:4)]_FA18:1</td>\n",
       "      <td>900.0</td>\n",
       "      <td>601.0</td>\n",
       "      <td>14229465.170547</td>\n",
       "      <td>900.0 -&gt; 601.0</td>\n",
       "      <td>TAG</td>\n",
       "      <td>TailoredTAG18-1_O3off_RBDCanola0.0005mgmL_0207...</td>\n",
       "    </tr>\n",
       "    <tr>\n",
       "      <th>33</th>\n",
       "      <td>[TG(55:10),TG(54:3)]_FA18:1</td>\n",
       "      <td>902.0</td>\n",
       "      <td>603.0</td>\n",
       "      <td>34867382.116547</td>\n",
       "      <td>902.0 -&gt; 603.0</td>\n",
       "      <td>TAG</td>\n",
       "      <td>TailoredTAG18-1_O3off_RBDCanola0.0005mgmL_0207...</td>\n",
       "    </tr>\n",
       "    <tr>\n",
       "      <th>34</th>\n",
       "      <td>[TG(55:9),TG(54:2)]_FA18:1</td>\n",
       "      <td>904.0</td>\n",
       "      <td>605.0</td>\n",
       "      <td>12858486.610764</td>\n",
       "      <td>904.0 -&gt; 605.0</td>\n",
       "      <td>TAG</td>\n",
       "      <td>TailoredTAG18-1_O3off_RBDCanola0.0005mgmL_0207...</td>\n",
       "    </tr>\n",
       "  </tbody>\n",
       "</table>\n",
       "</div>"
      ],
      "text/plain": [
       "                             Lipid Parent_Ion Product_Ion        Intensity  \\\n",
       "0                         PG(34:4)      760.0       571.0   3508930.004333   \n",
       "1              PG(34:3),PG(P-35:2)      762.0       573.0   4454522.478516   \n",
       "2            PG(O-35:2),PG(P-35:1)      764.0       575.0   3342623.235199   \n",
       "3            PG(O-35:1),PG(P-35:0)      766.0       577.0    3270586.69046   \n",
       "4     PG(36:7),PG(35:0),PG(O-36:0)      782.0       593.0   2358947.425293   \n",
       "5                         PG(36:6)      784.0       595.0   2304902.763245   \n",
       "7                         PG(36:5)      786.0       597.0   3260273.493011   \n",
       "9                         PG(36:4)      788.0       599.0   6129489.851624   \n",
       "10             PG(36:3),PG(P-37:2)      790.0       601.0   2584182.920563   \n",
       "12           PG(O-37:2),PG(P-37:1)      792.0       603.0   3311812.273865   \n",
       "14  PG(36:1),PG(O-37:1),PG(P-37:0)      794.0       605.0   4324463.707825   \n",
       "23               [TG(52:6)]_FA18:1      868.0       569.0    2147588.99118   \n",
       "24               [TG(52:6)]_FA18:1      868.0       569.0   2077466.947021   \n",
       "25               [TG(52:5)]_FA18:1      870.0       571.0   3446471.865845   \n",
       "26               [TG(52:4)]_FA18:1      872.0       573.0   3569656.209076   \n",
       "27     [TG(53:10),TG(52:3)]_FA18:1      874.0       575.0  20658623.729889   \n",
       "28      [TG(53:9),TG(52:2)]_FA18:1      876.0       577.0  26769009.464355   \n",
       "29      [TG(54:7),TG(53:0)]_FA18:1      894.0       595.0   4333085.702454   \n",
       "30               [TG(54:6)]_FA18:1      896.0       597.0   3145901.463318   \n",
       "31               [TG(54:5)]_FA18:1      898.0       599.0  12535827.163513   \n",
       "32     [TG(55:11),TG(54:4)]_FA18:1      900.0       601.0  14229465.170547   \n",
       "33     [TG(55:10),TG(54:3)]_FA18:1      902.0       603.0  34867382.116547   \n",
       "34      [TG(55:9),TG(54:2)]_FA18:1      904.0       605.0  12858486.610764   \n",
       "\n",
       "        Transition Class                                          Sample_ID  \n",
       "0   760.0 -> 571.0    PG  TailoredTAG18-1_O3off_RBDCanola0.0005mgmL_0207...  \n",
       "1   762.0 -> 573.0    PG  TailoredTAG18-1_O3off_RBDCanola0.0005mgmL_0207...  \n",
       "2   764.0 -> 575.0    PG  TailoredTAG18-1_O3off_RBDCanola0.0005mgmL_0207...  \n",
       "3   766.0 -> 577.0    PG  TailoredTAG18-1_O3off_RBDCanola0.0005mgmL_0207...  \n",
       "4   782.0 -> 593.0    PG  TailoredTAG18-1_O3off_RBDCanola0.0005mgmL_0207...  \n",
       "5   784.0 -> 595.0    PG  TailoredTAG18-1_O3off_RBDCanola0.0005mgmL_0207...  \n",
       "7   786.0 -> 597.0    PG  TailoredTAG18-1_O3off_RBDCanola0.0005mgmL_0207...  \n",
       "9   788.0 -> 599.0    PG  TailoredTAG18-1_O3off_RBDCanola0.0005mgmL_0207...  \n",
       "10  790.0 -> 601.0    PG  TailoredTAG18-1_O3off_RBDCanola0.0005mgmL_0207...  \n",
       "12  792.0 -> 603.0    PG  TailoredTAG18-1_O3off_RBDCanola0.0005mgmL_0207...  \n",
       "14  794.0 -> 605.0    PG  TailoredTAG18-1_O3off_RBDCanola0.0005mgmL_0207...  \n",
       "23  868.0 -> 569.0   TAG  TailoredTAG18-1_O3off_RBDCanola0.0005mgmL_0207...  \n",
       "24  868.0 -> 569.0   TAG  TailoredTAG18-1_O3off_RBDCanola0.0005mgmL_0207...  \n",
       "25  870.0 -> 571.0   TAG  TailoredTAG18-1_O3off_RBDCanola0.0005mgmL_0207...  \n",
       "26  872.0 -> 573.0   TAG  TailoredTAG18-1_O3off_RBDCanola0.0005mgmL_0207...  \n",
       "27  874.0 -> 575.0   TAG  TailoredTAG18-1_O3off_RBDCanola0.0005mgmL_0207...  \n",
       "28  876.0 -> 577.0   TAG  TailoredTAG18-1_O3off_RBDCanola0.0005mgmL_0207...  \n",
       "29  894.0 -> 595.0   TAG  TailoredTAG18-1_O3off_RBDCanola0.0005mgmL_0207...  \n",
       "30  896.0 -> 597.0   TAG  TailoredTAG18-1_O3off_RBDCanola0.0005mgmL_0207...  \n",
       "31  898.0 -> 599.0   TAG  TailoredTAG18-1_O3off_RBDCanola0.0005mgmL_0207...  \n",
       "32  900.0 -> 601.0   TAG  TailoredTAG18-1_O3off_RBDCanola0.0005mgmL_0207...  \n",
       "33  902.0 -> 603.0   TAG  TailoredTAG18-1_O3off_RBDCanola0.0005mgmL_0207...  \n",
       "34  904.0 -> 605.0   TAG  TailoredTAG18-1_O3off_RBDCanola0.0005mgmL_0207...  "
      ]
     },
     "execution_count": 77,
     "metadata": {},
     "output_type": "execute_result"
    }
   ],
   "source": [
    "df_matching.head(None)"
   ]
  },
  {
   "cell_type": "code",
   "execution_count": null,
   "metadata": {},
   "outputs": [],
   "source": [
    "#for loop to check if that file already exists and if it does then add a number to the end of the file name so data is not overwritten\n",
    "name_of_folder = 'canola'\n",
    "name_of_file = 'canola'\n",
    "\n",
    "\n",
    "for i in range(5):\n",
    "    if not os.path.isfile('data_results/data/data_matching/'+name_of_folder+'/'+name_of_file+'_{}.xlsx'.format(i)):\n",
    "        df_matching.to_excel('data_results/data/data_matching/'+name_of_folder+'/'+name_of_file+'_{}.xlsx'.format(i), index=False)\n",
    "        break\n",
    "    elif not os.path.isfile('data_results/data/data_matching/'+name_of_folder+'/'+name_of_file+'_{}.xlsx'.format(i)):\n",
    "        df_matching.to_excel('data_results/data/data_matching/'+name_of_folder+'/'+name_of_file+'_{}.xlsx'.format(i), index=False)\n",
    "        break\n",
    "    else:\n",
    "        pass\n",
    "df_matching.tail(5)"
   ]
  },
  {
   "cell_type": "code",
   "execution_count": 79,
   "metadata": {},
   "outputs": [
    {
     "name": "stderr",
     "output_type": "stream",
     "text": [
      "/home/sanjay/anaconda3/envs/pymzml/lib/python3.9/site-packages/tqdm/auto.py:21: TqdmWarning:\n",
      "\n",
      "IProgress not found. Please update jupyter and ipywidgets. See https://ipywidgets.readthedocs.io/en/stable/user_install.html\n",
      "\n"
     ]
    }
   ],
   "source": [
    "#import visualization libraries\n",
    "import umap\n",
    "import matplotlib.pyplot as plt\n",
    "import seaborn as sns\n",
    "import plotly.express as px\n",
    "import plotly.graph_objects as go"
   ]
  },
  {
   "cell_type": "code",
   "execution_count": 81,
   "metadata": {},
   "outputs": [
    {
     "data": {
      "application/vnd.plotly.v1+json": {
       "config": {
        "plotlyServerURL": "https://plot.ly"
       },
       "data": [
        {
         "alignmentgroup": "True",
         "customdata": [
          [
           "PG(34:4)",
           "PG"
          ]
         ],
         "hovertemplate": "Lipid=%{customdata[0]}<br>Transition=%{x}<br>Intensity=%{y}<br>Class=%{customdata[1]}<extra></extra>",
         "legendgroup": "PG(34:4)",
         "marker": {
          "color": "#636efa"
         },
         "name": "PG(34:4)",
         "offsetgroup": "PG(34:4)",
         "orientation": "v",
         "showlegend": true,
         "textposition": "auto",
         "type": "bar",
         "x": [
          "760.0 -> 571.0"
         ],
         "xaxis": "x",
         "y": [
          3508930.004333496
         ],
         "yaxis": "y"
        },
        {
         "alignmentgroup": "True",
         "customdata": [
          [
           "PG(34:3),PG(P-35:2)",
           "PG"
          ]
         ],
         "hovertemplate": "Lipid=%{customdata[0]}<br>Transition=%{x}<br>Intensity=%{y}<br>Class=%{customdata[1]}<extra></extra>",
         "legendgroup": "PG(34:3),PG(P-35:2)",
         "marker": {
          "color": "#EF553B"
         },
         "name": "PG(34:3),PG(P-35:2)",
         "offsetgroup": "PG(34:3),PG(P-35:2)",
         "orientation": "v",
         "showlegend": true,
         "textposition": "auto",
         "type": "bar",
         "x": [
          "762.0 -> 573.0"
         ],
         "xaxis": "x",
         "y": [
          4454522.478515625
         ],
         "yaxis": "y"
        },
        {
         "alignmentgroup": "True",
         "customdata": [
          [
           "PG(O-35:2),PG(P-35:1)",
           "PG"
          ]
         ],
         "hovertemplate": "Lipid=%{customdata[0]}<br>Transition=%{x}<br>Intensity=%{y}<br>Class=%{customdata[1]}<extra></extra>",
         "legendgroup": "PG(O-35:2),PG(P-35:1)",
         "marker": {
          "color": "#00cc96"
         },
         "name": "PG(O-35:2),PG(P-35:1)",
         "offsetgroup": "PG(O-35:2),PG(P-35:1)",
         "orientation": "v",
         "showlegend": true,
         "textposition": "auto",
         "type": "bar",
         "x": [
          "764.0 -> 575.0"
         ],
         "xaxis": "x",
         "y": [
          3342623.2351989746
         ],
         "yaxis": "y"
        },
        {
         "alignmentgroup": "True",
         "customdata": [
          [
           "PG(O-35:1),PG(P-35:0)",
           "PG"
          ]
         ],
         "hovertemplate": "Lipid=%{customdata[0]}<br>Transition=%{x}<br>Intensity=%{y}<br>Class=%{customdata[1]}<extra></extra>",
         "legendgroup": "PG(O-35:1),PG(P-35:0)",
         "marker": {
          "color": "#ab63fa"
         },
         "name": "PG(O-35:1),PG(P-35:0)",
         "offsetgroup": "PG(O-35:1),PG(P-35:0)",
         "orientation": "v",
         "showlegend": true,
         "textposition": "auto",
         "type": "bar",
         "x": [
          "766.0 -> 577.0"
         ],
         "xaxis": "x",
         "y": [
          3270586.690460205
         ],
         "yaxis": "y"
        },
        {
         "alignmentgroup": "True",
         "customdata": [
          [
           "PG(36:7),PG(35:0),PG(O-36:0)",
           "PG"
          ]
         ],
         "hovertemplate": "Lipid=%{customdata[0]}<br>Transition=%{x}<br>Intensity=%{y}<br>Class=%{customdata[1]}<extra></extra>",
         "legendgroup": "PG(36:7),PG(35:0),PG(O-36:0)",
         "marker": {
          "color": "#FFA15A"
         },
         "name": "PG(36:7),PG(35:0),PG(O-36:0)",
         "offsetgroup": "PG(36:7),PG(35:0),PG(O-36:0)",
         "orientation": "v",
         "showlegend": true,
         "textposition": "auto",
         "type": "bar",
         "x": [
          "782.0 -> 593.0"
         ],
         "xaxis": "x",
         "y": [
          2358947.4252929688
         ],
         "yaxis": "y"
        },
        {
         "alignmentgroup": "True",
         "customdata": [
          [
           "PG(36:6)",
           "PG"
          ]
         ],
         "hovertemplate": "Lipid=%{customdata[0]}<br>Transition=%{x}<br>Intensity=%{y}<br>Class=%{customdata[1]}<extra></extra>",
         "legendgroup": "PG(36:6)",
         "marker": {
          "color": "#19d3f3"
         },
         "name": "PG(36:6)",
         "offsetgroup": "PG(36:6)",
         "orientation": "v",
         "showlegend": true,
         "textposition": "auto",
         "type": "bar",
         "x": [
          "784.0 -> 595.0"
         ],
         "xaxis": "x",
         "y": [
          2304902.763244629
         ],
         "yaxis": "y"
        },
        {
         "alignmentgroup": "True",
         "customdata": [
          [
           "PG(36:5)",
           "PG"
          ]
         ],
         "hovertemplate": "Lipid=%{customdata[0]}<br>Transition=%{x}<br>Intensity=%{y}<br>Class=%{customdata[1]}<extra></extra>",
         "legendgroup": "PG(36:5)",
         "marker": {
          "color": "#FF6692"
         },
         "name": "PG(36:5)",
         "offsetgroup": "PG(36:5)",
         "orientation": "v",
         "showlegend": true,
         "textposition": "auto",
         "type": "bar",
         "x": [
          "786.0 -> 597.0"
         ],
         "xaxis": "x",
         "y": [
          3260273.4930114746
         ],
         "yaxis": "y"
        },
        {
         "alignmentgroup": "True",
         "customdata": [
          [
           "PG(36:4)",
           "PG"
          ]
         ],
         "hovertemplate": "Lipid=%{customdata[0]}<br>Transition=%{x}<br>Intensity=%{y}<br>Class=%{customdata[1]}<extra></extra>",
         "legendgroup": "PG(36:4)",
         "marker": {
          "color": "#B6E880"
         },
         "name": "PG(36:4)",
         "offsetgroup": "PG(36:4)",
         "orientation": "v",
         "showlegend": true,
         "textposition": "auto",
         "type": "bar",
         "x": [
          "788.0 -> 599.0"
         ],
         "xaxis": "x",
         "y": [
          6129489.851623535
         ],
         "yaxis": "y"
        },
        {
         "alignmentgroup": "True",
         "customdata": [
          [
           "PG(36:3),PG(P-37:2)",
           "PG"
          ]
         ],
         "hovertemplate": "Lipid=%{customdata[0]}<br>Transition=%{x}<br>Intensity=%{y}<br>Class=%{customdata[1]}<extra></extra>",
         "legendgroup": "PG(36:3),PG(P-37:2)",
         "marker": {
          "color": "#FF97FF"
         },
         "name": "PG(36:3),PG(P-37:2)",
         "offsetgroup": "PG(36:3),PG(P-37:2)",
         "orientation": "v",
         "showlegend": true,
         "textposition": "auto",
         "type": "bar",
         "x": [
          "790.0 -> 601.0"
         ],
         "xaxis": "x",
         "y": [
          2584182.920562744
         ],
         "yaxis": "y"
        },
        {
         "alignmentgroup": "True",
         "customdata": [
          [
           "PG(O-37:2),PG(P-37:1)",
           "PG"
          ]
         ],
         "hovertemplate": "Lipid=%{customdata[0]}<br>Transition=%{x}<br>Intensity=%{y}<br>Class=%{customdata[1]}<extra></extra>",
         "legendgroup": "PG(O-37:2),PG(P-37:1)",
         "marker": {
          "color": "#FECB52"
         },
         "name": "PG(O-37:2),PG(P-37:1)",
         "offsetgroup": "PG(O-37:2),PG(P-37:1)",
         "orientation": "v",
         "showlegend": true,
         "textposition": "auto",
         "type": "bar",
         "x": [
          "792.0 -> 603.0"
         ],
         "xaxis": "x",
         "y": [
          3311812.273864746
         ],
         "yaxis": "y"
        },
        {
         "alignmentgroup": "True",
         "customdata": [
          [
           "PG(36:1),PG(O-37:1),PG(P-37:0)",
           "PG"
          ]
         ],
         "hovertemplate": "Lipid=%{customdata[0]}<br>Transition=%{x}<br>Intensity=%{y}<br>Class=%{customdata[1]}<extra></extra>",
         "legendgroup": "PG(36:1),PG(O-37:1),PG(P-37:0)",
         "marker": {
          "color": "#636efa"
         },
         "name": "PG(36:1),PG(O-37:1),PG(P-37:0)",
         "offsetgroup": "PG(36:1),PG(O-37:1),PG(P-37:0)",
         "orientation": "v",
         "showlegend": true,
         "textposition": "auto",
         "type": "bar",
         "x": [
          "794.0 -> 605.0"
         ],
         "xaxis": "x",
         "y": [
          4324463.707824707
         ],
         "yaxis": "y"
        },
        {
         "alignmentgroup": "True",
         "customdata": [
          [
           "[TG(52:6)]_FA18:1",
           "TAG"
          ],
          [
           "[TG(52:6)]_FA18:1",
           "TAG"
          ]
         ],
         "hovertemplate": "Lipid=%{customdata[0]}<br>Transition=%{x}<br>Intensity=%{y}<br>Class=%{customdata[1]}<extra></extra>",
         "legendgroup": "[TG(52:6)]_FA18:1",
         "marker": {
          "color": "#EF553B"
         },
         "name": "[TG(52:6)]_FA18:1",
         "offsetgroup": "[TG(52:6)]_FA18:1",
         "orientation": "v",
         "showlegend": true,
         "textposition": "auto",
         "type": "bar",
         "x": [
          "868.0 -> 569.0",
          "868.0 -> 569.0"
         ],
         "xaxis": "x",
         "y": [
          2147588.99118042,
          2077466.9470214844
         ],
         "yaxis": "y"
        },
        {
         "alignmentgroup": "True",
         "customdata": [
          [
           "[TG(52:5)]_FA18:1",
           "TAG"
          ]
         ],
         "hovertemplate": "Lipid=%{customdata[0]}<br>Transition=%{x}<br>Intensity=%{y}<br>Class=%{customdata[1]}<extra></extra>",
         "legendgroup": "[TG(52:5)]_FA18:1",
         "marker": {
          "color": "#00cc96"
         },
         "name": "[TG(52:5)]_FA18:1",
         "offsetgroup": "[TG(52:5)]_FA18:1",
         "orientation": "v",
         "showlegend": true,
         "textposition": "auto",
         "type": "bar",
         "x": [
          "870.0 -> 571.0"
         ],
         "xaxis": "x",
         "y": [
          3446471.8658447266
         ],
         "yaxis": "y"
        },
        {
         "alignmentgroup": "True",
         "customdata": [
          [
           "[TG(52:4)]_FA18:1",
           "TAG"
          ]
         ],
         "hovertemplate": "Lipid=%{customdata[0]}<br>Transition=%{x}<br>Intensity=%{y}<br>Class=%{customdata[1]}<extra></extra>",
         "legendgroup": "[TG(52:4)]_FA18:1",
         "marker": {
          "color": "#ab63fa"
         },
         "name": "[TG(52:4)]_FA18:1",
         "offsetgroup": "[TG(52:4)]_FA18:1",
         "orientation": "v",
         "showlegend": true,
         "textposition": "auto",
         "type": "bar",
         "x": [
          "872.0 -> 573.0"
         ],
         "xaxis": "x",
         "y": [
          3569656.2090759277
         ],
         "yaxis": "y"
        },
        {
         "alignmentgroup": "True",
         "customdata": [
          [
           "[TG(53:10),TG(52:3)]_FA18:1",
           "TAG"
          ]
         ],
         "hovertemplate": "Lipid=%{customdata[0]}<br>Transition=%{x}<br>Intensity=%{y}<br>Class=%{customdata[1]}<extra></extra>",
         "legendgroup": "[TG(53:10),TG(52:3)]_FA18:1",
         "marker": {
          "color": "#FFA15A"
         },
         "name": "[TG(53:10),TG(52:3)]_FA18:1",
         "offsetgroup": "[TG(53:10),TG(52:3)]_FA18:1",
         "orientation": "v",
         "showlegend": true,
         "textposition": "auto",
         "type": "bar",
         "x": [
          "874.0 -> 575.0"
         ],
         "xaxis": "x",
         "y": [
          20658623.729888916
         ],
         "yaxis": "y"
        },
        {
         "alignmentgroup": "True",
         "customdata": [
          [
           "[TG(53:9),TG(52:2)]_FA18:1",
           "TAG"
          ]
         ],
         "hovertemplate": "Lipid=%{customdata[0]}<br>Transition=%{x}<br>Intensity=%{y}<br>Class=%{customdata[1]}<extra></extra>",
         "legendgroup": "[TG(53:9),TG(52:2)]_FA18:1",
         "marker": {
          "color": "#19d3f3"
         },
         "name": "[TG(53:9),TG(52:2)]_FA18:1",
         "offsetgroup": "[TG(53:9),TG(52:2)]_FA18:1",
         "orientation": "v",
         "showlegend": true,
         "textposition": "auto",
         "type": "bar",
         "x": [
          "876.0 -> 577.0"
         ],
         "xaxis": "x",
         "y": [
          26769009.46435547
         ],
         "yaxis": "y"
        },
        {
         "alignmentgroup": "True",
         "customdata": [
          [
           "[TG(54:7),TG(53:0)]_FA18:1",
           "TAG"
          ]
         ],
         "hovertemplate": "Lipid=%{customdata[0]}<br>Transition=%{x}<br>Intensity=%{y}<br>Class=%{customdata[1]}<extra></extra>",
         "legendgroup": "[TG(54:7),TG(53:0)]_FA18:1",
         "marker": {
          "color": "#FF6692"
         },
         "name": "[TG(54:7),TG(53:0)]_FA18:1",
         "offsetgroup": "[TG(54:7),TG(53:0)]_FA18:1",
         "orientation": "v",
         "showlegend": true,
         "textposition": "auto",
         "type": "bar",
         "x": [
          "894.0 -> 595.0"
         ],
         "xaxis": "x",
         "y": [
          4333085.702453613
         ],
         "yaxis": "y"
        },
        {
         "alignmentgroup": "True",
         "customdata": [
          [
           "[TG(54:6)]_FA18:1",
           "TAG"
          ]
         ],
         "hovertemplate": "Lipid=%{customdata[0]}<br>Transition=%{x}<br>Intensity=%{y}<br>Class=%{customdata[1]}<extra></extra>",
         "legendgroup": "[TG(54:6)]_FA18:1",
         "marker": {
          "color": "#B6E880"
         },
         "name": "[TG(54:6)]_FA18:1",
         "offsetgroup": "[TG(54:6)]_FA18:1",
         "orientation": "v",
         "showlegend": true,
         "textposition": "auto",
         "type": "bar",
         "x": [
          "896.0 -> 597.0"
         ],
         "xaxis": "x",
         "y": [
          3145901.463317871
         ],
         "yaxis": "y"
        },
        {
         "alignmentgroup": "True",
         "customdata": [
          [
           "[TG(54:5)]_FA18:1",
           "TAG"
          ]
         ],
         "hovertemplate": "Lipid=%{customdata[0]}<br>Transition=%{x}<br>Intensity=%{y}<br>Class=%{customdata[1]}<extra></extra>",
         "legendgroup": "[TG(54:5)]_FA18:1",
         "marker": {
          "color": "#FF97FF"
         },
         "name": "[TG(54:5)]_FA18:1",
         "offsetgroup": "[TG(54:5)]_FA18:1",
         "orientation": "v",
         "showlegend": true,
         "textposition": "auto",
         "type": "bar",
         "x": [
          "898.0 -> 599.0"
         ],
         "xaxis": "x",
         "y": [
          12535827.163513184
         ],
         "yaxis": "y"
        },
        {
         "alignmentgroup": "True",
         "customdata": [
          [
           "[TG(55:11),TG(54:4)]_FA18:1",
           "TAG"
          ]
         ],
         "hovertemplate": "Lipid=%{customdata[0]}<br>Transition=%{x}<br>Intensity=%{y}<br>Class=%{customdata[1]}<extra></extra>",
         "legendgroup": "[TG(55:11),TG(54:4)]_FA18:1",
         "marker": {
          "color": "#FECB52"
         },
         "name": "[TG(55:11),TG(54:4)]_FA18:1",
         "offsetgroup": "[TG(55:11),TG(54:4)]_FA18:1",
         "orientation": "v",
         "showlegend": true,
         "textposition": "auto",
         "type": "bar",
         "x": [
          "900.0 -> 601.0"
         ],
         "xaxis": "x",
         "y": [
          14229465.170547485
         ],
         "yaxis": "y"
        },
        {
         "alignmentgroup": "True",
         "customdata": [
          [
           "[TG(55:10),TG(54:3)]_FA18:1",
           "TAG"
          ]
         ],
         "hovertemplate": "Lipid=%{customdata[0]}<br>Transition=%{x}<br>Intensity=%{y}<br>Class=%{customdata[1]}<extra></extra>",
         "legendgroup": "[TG(55:10),TG(54:3)]_FA18:1",
         "marker": {
          "color": "#636efa"
         },
         "name": "[TG(55:10),TG(54:3)]_FA18:1",
         "offsetgroup": "[TG(55:10),TG(54:3)]_FA18:1",
         "orientation": "v",
         "showlegend": true,
         "textposition": "auto",
         "type": "bar",
         "x": [
          "902.0 -> 603.0"
         ],
         "xaxis": "x",
         "y": [
          34867382.11654663
         ],
         "yaxis": "y"
        },
        {
         "alignmentgroup": "True",
         "customdata": [
          [
           "[TG(55:9),TG(54:2)]_FA18:1",
           "TAG"
          ]
         ],
         "hovertemplate": "Lipid=%{customdata[0]}<br>Transition=%{x}<br>Intensity=%{y}<br>Class=%{customdata[1]}<extra></extra>",
         "legendgroup": "[TG(55:9),TG(54:2)]_FA18:1",
         "marker": {
          "color": "#EF553B"
         },
         "name": "[TG(55:9),TG(54:2)]_FA18:1",
         "offsetgroup": "[TG(55:9),TG(54:2)]_FA18:1",
         "orientation": "v",
         "showlegend": true,
         "textposition": "auto",
         "type": "bar",
         "x": [
          "904.0 -> 605.0"
         ],
         "xaxis": "x",
         "y": [
          12858486.61076355
         ],
         "yaxis": "y"
        }
       ],
       "layout": {
        "barmode": "relative",
        "legend": {
         "title": {
          "text": "Lipid"
         },
         "tracegroupgap": 0
        },
        "margin": {
         "t": 60
        },
        "template": {
         "data": {
          "bar": [
           {
            "error_x": {
             "color": "#2a3f5f"
            },
            "error_y": {
             "color": "#2a3f5f"
            },
            "marker": {
             "line": {
              "color": "#E5ECF6",
              "width": 0.5
             }
            },
            "type": "bar"
           }
          ],
          "barpolar": [
           {
            "marker": {
             "line": {
              "color": "#E5ECF6",
              "width": 0.5
             }
            },
            "type": "barpolar"
           }
          ],
          "carpet": [
           {
            "aaxis": {
             "endlinecolor": "#2a3f5f",
             "gridcolor": "white",
             "linecolor": "white",
             "minorgridcolor": "white",
             "startlinecolor": "#2a3f5f"
            },
            "baxis": {
             "endlinecolor": "#2a3f5f",
             "gridcolor": "white",
             "linecolor": "white",
             "minorgridcolor": "white",
             "startlinecolor": "#2a3f5f"
            },
            "type": "carpet"
           }
          ],
          "choropleth": [
           {
            "colorbar": {
             "outlinewidth": 0,
             "ticks": ""
            },
            "type": "choropleth"
           }
          ],
          "contour": [
           {
            "colorbar": {
             "outlinewidth": 0,
             "ticks": ""
            },
            "colorscale": [
             [
              0,
              "#0d0887"
             ],
             [
              0.1111111111111111,
              "#46039f"
             ],
             [
              0.2222222222222222,
              "#7201a8"
             ],
             [
              0.3333333333333333,
              "#9c179e"
             ],
             [
              0.4444444444444444,
              "#bd3786"
             ],
             [
              0.5555555555555556,
              "#d8576b"
             ],
             [
              0.6666666666666666,
              "#ed7953"
             ],
             [
              0.7777777777777778,
              "#fb9f3a"
             ],
             [
              0.8888888888888888,
              "#fdca26"
             ],
             [
              1,
              "#f0f921"
             ]
            ],
            "type": "contour"
           }
          ],
          "contourcarpet": [
           {
            "colorbar": {
             "outlinewidth": 0,
             "ticks": ""
            },
            "type": "contourcarpet"
           }
          ],
          "heatmap": [
           {
            "colorbar": {
             "outlinewidth": 0,
             "ticks": ""
            },
            "colorscale": [
             [
              0,
              "#0d0887"
             ],
             [
              0.1111111111111111,
              "#46039f"
             ],
             [
              0.2222222222222222,
              "#7201a8"
             ],
             [
              0.3333333333333333,
              "#9c179e"
             ],
             [
              0.4444444444444444,
              "#bd3786"
             ],
             [
              0.5555555555555556,
              "#d8576b"
             ],
             [
              0.6666666666666666,
              "#ed7953"
             ],
             [
              0.7777777777777778,
              "#fb9f3a"
             ],
             [
              0.8888888888888888,
              "#fdca26"
             ],
             [
              1,
              "#f0f921"
             ]
            ],
            "type": "heatmap"
           }
          ],
          "heatmapgl": [
           {
            "colorbar": {
             "outlinewidth": 0,
             "ticks": ""
            },
            "colorscale": [
             [
              0,
              "#0d0887"
             ],
             [
              0.1111111111111111,
              "#46039f"
             ],
             [
              0.2222222222222222,
              "#7201a8"
             ],
             [
              0.3333333333333333,
              "#9c179e"
             ],
             [
              0.4444444444444444,
              "#bd3786"
             ],
             [
              0.5555555555555556,
              "#d8576b"
             ],
             [
              0.6666666666666666,
              "#ed7953"
             ],
             [
              0.7777777777777778,
              "#fb9f3a"
             ],
             [
              0.8888888888888888,
              "#fdca26"
             ],
             [
              1,
              "#f0f921"
             ]
            ],
            "type": "heatmapgl"
           }
          ],
          "histogram": [
           {
            "marker": {
             "colorbar": {
              "outlinewidth": 0,
              "ticks": ""
             }
            },
            "type": "histogram"
           }
          ],
          "histogram2d": [
           {
            "colorbar": {
             "outlinewidth": 0,
             "ticks": ""
            },
            "colorscale": [
             [
              0,
              "#0d0887"
             ],
             [
              0.1111111111111111,
              "#46039f"
             ],
             [
              0.2222222222222222,
              "#7201a8"
             ],
             [
              0.3333333333333333,
              "#9c179e"
             ],
             [
              0.4444444444444444,
              "#bd3786"
             ],
             [
              0.5555555555555556,
              "#d8576b"
             ],
             [
              0.6666666666666666,
              "#ed7953"
             ],
             [
              0.7777777777777778,
              "#fb9f3a"
             ],
             [
              0.8888888888888888,
              "#fdca26"
             ],
             [
              1,
              "#f0f921"
             ]
            ],
            "type": "histogram2d"
           }
          ],
          "histogram2dcontour": [
           {
            "colorbar": {
             "outlinewidth": 0,
             "ticks": ""
            },
            "colorscale": [
             [
              0,
              "#0d0887"
             ],
             [
              0.1111111111111111,
              "#46039f"
             ],
             [
              0.2222222222222222,
              "#7201a8"
             ],
             [
              0.3333333333333333,
              "#9c179e"
             ],
             [
              0.4444444444444444,
              "#bd3786"
             ],
             [
              0.5555555555555556,
              "#d8576b"
             ],
             [
              0.6666666666666666,
              "#ed7953"
             ],
             [
              0.7777777777777778,
              "#fb9f3a"
             ],
             [
              0.8888888888888888,
              "#fdca26"
             ],
             [
              1,
              "#f0f921"
             ]
            ],
            "type": "histogram2dcontour"
           }
          ],
          "mesh3d": [
           {
            "colorbar": {
             "outlinewidth": 0,
             "ticks": ""
            },
            "type": "mesh3d"
           }
          ],
          "parcoords": [
           {
            "line": {
             "colorbar": {
              "outlinewidth": 0,
              "ticks": ""
             }
            },
            "type": "parcoords"
           }
          ],
          "pie": [
           {
            "automargin": true,
            "type": "pie"
           }
          ],
          "scatter": [
           {
            "marker": {
             "colorbar": {
              "outlinewidth": 0,
              "ticks": ""
             }
            },
            "type": "scatter"
           }
          ],
          "scatter3d": [
           {
            "line": {
             "colorbar": {
              "outlinewidth": 0,
              "ticks": ""
             }
            },
            "marker": {
             "colorbar": {
              "outlinewidth": 0,
              "ticks": ""
             }
            },
            "type": "scatter3d"
           }
          ],
          "scattercarpet": [
           {
            "marker": {
             "colorbar": {
              "outlinewidth": 0,
              "ticks": ""
             }
            },
            "type": "scattercarpet"
           }
          ],
          "scattergeo": [
           {
            "marker": {
             "colorbar": {
              "outlinewidth": 0,
              "ticks": ""
             }
            },
            "type": "scattergeo"
           }
          ],
          "scattergl": [
           {
            "marker": {
             "colorbar": {
              "outlinewidth": 0,
              "ticks": ""
             }
            },
            "type": "scattergl"
           }
          ],
          "scattermapbox": [
           {
            "marker": {
             "colorbar": {
              "outlinewidth": 0,
              "ticks": ""
             }
            },
            "type": "scattermapbox"
           }
          ],
          "scatterpolar": [
           {
            "marker": {
             "colorbar": {
              "outlinewidth": 0,
              "ticks": ""
             }
            },
            "type": "scatterpolar"
           }
          ],
          "scatterpolargl": [
           {
            "marker": {
             "colorbar": {
              "outlinewidth": 0,
              "ticks": ""
             }
            },
            "type": "scatterpolargl"
           }
          ],
          "scatterternary": [
           {
            "marker": {
             "colorbar": {
              "outlinewidth": 0,
              "ticks": ""
             }
            },
            "type": "scatterternary"
           }
          ],
          "surface": [
           {
            "colorbar": {
             "outlinewidth": 0,
             "ticks": ""
            },
            "colorscale": [
             [
              0,
              "#0d0887"
             ],
             [
              0.1111111111111111,
              "#46039f"
             ],
             [
              0.2222222222222222,
              "#7201a8"
             ],
             [
              0.3333333333333333,
              "#9c179e"
             ],
             [
              0.4444444444444444,
              "#bd3786"
             ],
             [
              0.5555555555555556,
              "#d8576b"
             ],
             [
              0.6666666666666666,
              "#ed7953"
             ],
             [
              0.7777777777777778,
              "#fb9f3a"
             ],
             [
              0.8888888888888888,
              "#fdca26"
             ],
             [
              1,
              "#f0f921"
             ]
            ],
            "type": "surface"
           }
          ],
          "table": [
           {
            "cells": {
             "fill": {
              "color": "#EBF0F8"
             },
             "line": {
              "color": "white"
             }
            },
            "header": {
             "fill": {
              "color": "#C8D4E3"
             },
             "line": {
              "color": "white"
             }
            },
            "type": "table"
           }
          ]
         },
         "layout": {
          "annotationdefaults": {
           "arrowcolor": "#2a3f5f",
           "arrowhead": 0,
           "arrowwidth": 1
          },
          "coloraxis": {
           "colorbar": {
            "outlinewidth": 0,
            "ticks": ""
           }
          },
          "colorscale": {
           "diverging": [
            [
             0,
             "#8e0152"
            ],
            [
             0.1,
             "#c51b7d"
            ],
            [
             0.2,
             "#de77ae"
            ],
            [
             0.3,
             "#f1b6da"
            ],
            [
             0.4,
             "#fde0ef"
            ],
            [
             0.5,
             "#f7f7f7"
            ],
            [
             0.6,
             "#e6f5d0"
            ],
            [
             0.7,
             "#b8e186"
            ],
            [
             0.8,
             "#7fbc41"
            ],
            [
             0.9,
             "#4d9221"
            ],
            [
             1,
             "#276419"
            ]
           ],
           "sequential": [
            [
             0,
             "#0d0887"
            ],
            [
             0.1111111111111111,
             "#46039f"
            ],
            [
             0.2222222222222222,
             "#7201a8"
            ],
            [
             0.3333333333333333,
             "#9c179e"
            ],
            [
             0.4444444444444444,
             "#bd3786"
            ],
            [
             0.5555555555555556,
             "#d8576b"
            ],
            [
             0.6666666666666666,
             "#ed7953"
            ],
            [
             0.7777777777777778,
             "#fb9f3a"
            ],
            [
             0.8888888888888888,
             "#fdca26"
            ],
            [
             1,
             "#f0f921"
            ]
           ],
           "sequentialminus": [
            [
             0,
             "#0d0887"
            ],
            [
             0.1111111111111111,
             "#46039f"
            ],
            [
             0.2222222222222222,
             "#7201a8"
            ],
            [
             0.3333333333333333,
             "#9c179e"
            ],
            [
             0.4444444444444444,
             "#bd3786"
            ],
            [
             0.5555555555555556,
             "#d8576b"
            ],
            [
             0.6666666666666666,
             "#ed7953"
            ],
            [
             0.7777777777777778,
             "#fb9f3a"
            ],
            [
             0.8888888888888888,
             "#fdca26"
            ],
            [
             1,
             "#f0f921"
            ]
           ]
          },
          "colorway": [
           "#636efa",
           "#EF553B",
           "#00cc96",
           "#ab63fa",
           "#FFA15A",
           "#19d3f3",
           "#FF6692",
           "#B6E880",
           "#FF97FF",
           "#FECB52"
          ],
          "font": {
           "color": "#2a3f5f"
          },
          "geo": {
           "bgcolor": "white",
           "lakecolor": "white",
           "landcolor": "#E5ECF6",
           "showlakes": true,
           "showland": true,
           "subunitcolor": "white"
          },
          "hoverlabel": {
           "align": "left"
          },
          "hovermode": "closest",
          "mapbox": {
           "style": "light"
          },
          "paper_bgcolor": "white",
          "plot_bgcolor": "#E5ECF6",
          "polar": {
           "angularaxis": {
            "gridcolor": "white",
            "linecolor": "white",
            "ticks": ""
           },
           "bgcolor": "#E5ECF6",
           "radialaxis": {
            "gridcolor": "white",
            "linecolor": "white",
            "ticks": ""
           }
          },
          "scene": {
           "xaxis": {
            "backgroundcolor": "#E5ECF6",
            "gridcolor": "white",
            "gridwidth": 2,
            "linecolor": "white",
            "showbackground": true,
            "ticks": "",
            "zerolinecolor": "white"
           },
           "yaxis": {
            "backgroundcolor": "#E5ECF6",
            "gridcolor": "white",
            "gridwidth": 2,
            "linecolor": "white",
            "showbackground": true,
            "ticks": "",
            "zerolinecolor": "white"
           },
           "zaxis": {
            "backgroundcolor": "#E5ECF6",
            "gridcolor": "white",
            "gridwidth": 2,
            "linecolor": "white",
            "showbackground": true,
            "ticks": "",
            "zerolinecolor": "white"
           }
          },
          "shapedefaults": {
           "line": {
            "color": "#2a3f5f"
           }
          },
          "ternary": {
           "aaxis": {
            "gridcolor": "white",
            "linecolor": "white",
            "ticks": ""
           },
           "baxis": {
            "gridcolor": "white",
            "linecolor": "white",
            "ticks": ""
           },
           "bgcolor": "#E5ECF6",
           "caxis": {
            "gridcolor": "white",
            "linecolor": "white",
            "ticks": ""
           }
          },
          "title": {
           "x": 0.05
          },
          "xaxis": {
           "automargin": true,
           "gridcolor": "white",
           "linecolor": "white",
           "ticks": "",
           "title": {
            "standoff": 15
           },
           "zerolinecolor": "white",
           "zerolinewidth": 2
          },
          "yaxis": {
           "automargin": true,
           "gridcolor": "white",
           "linecolor": "white",
           "ticks": "",
           "title": {
            "standoff": 15
           },
           "zerolinecolor": "white",
           "zerolinewidth": 2
          }
         }
        },
        "xaxis": {
         "anchor": "y",
         "domain": [
          0,
          1
         ],
         "title": {
          "text": "Transition"
         }
        },
        "yaxis": {
         "anchor": "x",
         "domain": [
          0,
          1
         ],
         "title": {
          "text": "Intensity"
         }
        }
       }
      },
      "text/html": [
       "<div>                            <div id=\"175f8886-0200-4cad-96a4-2893fb15141f\" class=\"plotly-graph-div\" style=\"height:525px; width:100%;\"></div>            <script type=\"text/javascript\">                require([\"plotly\"], function(Plotly) {                    window.PLOTLYENV=window.PLOTLYENV || {};                                    if (document.getElementById(\"175f8886-0200-4cad-96a4-2893fb15141f\")) {                    Plotly.newPlot(                        \"175f8886-0200-4cad-96a4-2893fb15141f\",                        [{\"alignmentgroup\": \"True\", \"customdata\": [[\"PG(34:4)\", \"PG\"]], \"hovertemplate\": \"Lipid=%{customdata[0]}<br>Transition=%{x}<br>Intensity=%{y}<br>Class=%{customdata[1]}<extra></extra>\", \"legendgroup\": \"PG(34:4)\", \"marker\": {\"color\": \"#636efa\"}, \"name\": \"PG(34:4)\", \"offsetgroup\": \"PG(34:4)\", \"orientation\": \"v\", \"showlegend\": true, \"textposition\": \"auto\", \"type\": \"bar\", \"x\": [\"760.0 -> 571.0\"], \"xaxis\": \"x\", \"y\": [3508930.004333496], \"yaxis\": \"y\"}, {\"alignmentgroup\": \"True\", \"customdata\": [[\"PG(34:3),PG(P-35:2)\", \"PG\"]], \"hovertemplate\": \"Lipid=%{customdata[0]}<br>Transition=%{x}<br>Intensity=%{y}<br>Class=%{customdata[1]}<extra></extra>\", \"legendgroup\": \"PG(34:3),PG(P-35:2)\", \"marker\": {\"color\": \"#EF553B\"}, \"name\": \"PG(34:3),PG(P-35:2)\", \"offsetgroup\": \"PG(34:3),PG(P-35:2)\", \"orientation\": \"v\", \"showlegend\": true, \"textposition\": \"auto\", \"type\": \"bar\", \"x\": [\"762.0 -> 573.0\"], \"xaxis\": \"x\", \"y\": [4454522.478515625], \"yaxis\": \"y\"}, {\"alignmentgroup\": \"True\", \"customdata\": [[\"PG(O-35:2),PG(P-35:1)\", \"PG\"]], \"hovertemplate\": \"Lipid=%{customdata[0]}<br>Transition=%{x}<br>Intensity=%{y}<br>Class=%{customdata[1]}<extra></extra>\", \"legendgroup\": \"PG(O-35:2),PG(P-35:1)\", \"marker\": {\"color\": \"#00cc96\"}, \"name\": \"PG(O-35:2),PG(P-35:1)\", \"offsetgroup\": \"PG(O-35:2),PG(P-35:1)\", \"orientation\": \"v\", \"showlegend\": true, \"textposition\": \"auto\", \"type\": \"bar\", \"x\": [\"764.0 -> 575.0\"], \"xaxis\": \"x\", \"y\": [3342623.2351989746], \"yaxis\": \"y\"}, {\"alignmentgroup\": \"True\", \"customdata\": [[\"PG(O-35:1),PG(P-35:0)\", \"PG\"]], \"hovertemplate\": \"Lipid=%{customdata[0]}<br>Transition=%{x}<br>Intensity=%{y}<br>Class=%{customdata[1]}<extra></extra>\", \"legendgroup\": \"PG(O-35:1),PG(P-35:0)\", \"marker\": {\"color\": \"#ab63fa\"}, \"name\": \"PG(O-35:1),PG(P-35:0)\", \"offsetgroup\": \"PG(O-35:1),PG(P-35:0)\", \"orientation\": \"v\", \"showlegend\": true, \"textposition\": \"auto\", \"type\": \"bar\", \"x\": [\"766.0 -> 577.0\"], \"xaxis\": \"x\", \"y\": [3270586.690460205], \"yaxis\": \"y\"}, {\"alignmentgroup\": \"True\", \"customdata\": [[\"PG(36:7),PG(35:0),PG(O-36:0)\", \"PG\"]], \"hovertemplate\": \"Lipid=%{customdata[0]}<br>Transition=%{x}<br>Intensity=%{y}<br>Class=%{customdata[1]}<extra></extra>\", \"legendgroup\": \"PG(36:7),PG(35:0),PG(O-36:0)\", \"marker\": {\"color\": \"#FFA15A\"}, \"name\": \"PG(36:7),PG(35:0),PG(O-36:0)\", \"offsetgroup\": \"PG(36:7),PG(35:0),PG(O-36:0)\", \"orientation\": \"v\", \"showlegend\": true, \"textposition\": \"auto\", \"type\": \"bar\", \"x\": [\"782.0 -> 593.0\"], \"xaxis\": \"x\", \"y\": [2358947.4252929688], \"yaxis\": \"y\"}, {\"alignmentgroup\": \"True\", \"customdata\": [[\"PG(36:6)\", \"PG\"]], \"hovertemplate\": \"Lipid=%{customdata[0]}<br>Transition=%{x}<br>Intensity=%{y}<br>Class=%{customdata[1]}<extra></extra>\", \"legendgroup\": \"PG(36:6)\", \"marker\": {\"color\": \"#19d3f3\"}, \"name\": \"PG(36:6)\", \"offsetgroup\": \"PG(36:6)\", \"orientation\": \"v\", \"showlegend\": true, \"textposition\": \"auto\", \"type\": \"bar\", \"x\": [\"784.0 -> 595.0\"], \"xaxis\": \"x\", \"y\": [2304902.763244629], \"yaxis\": \"y\"}, {\"alignmentgroup\": \"True\", \"customdata\": [[\"PG(36:5)\", \"PG\"]], \"hovertemplate\": \"Lipid=%{customdata[0]}<br>Transition=%{x}<br>Intensity=%{y}<br>Class=%{customdata[1]}<extra></extra>\", \"legendgroup\": \"PG(36:5)\", \"marker\": {\"color\": \"#FF6692\"}, \"name\": \"PG(36:5)\", \"offsetgroup\": \"PG(36:5)\", \"orientation\": \"v\", \"showlegend\": true, \"textposition\": \"auto\", \"type\": \"bar\", \"x\": [\"786.0 -> 597.0\"], \"xaxis\": \"x\", \"y\": [3260273.4930114746], \"yaxis\": \"y\"}, {\"alignmentgroup\": \"True\", \"customdata\": [[\"PG(36:4)\", \"PG\"]], \"hovertemplate\": \"Lipid=%{customdata[0]}<br>Transition=%{x}<br>Intensity=%{y}<br>Class=%{customdata[1]}<extra></extra>\", \"legendgroup\": \"PG(36:4)\", \"marker\": {\"color\": \"#B6E880\"}, \"name\": \"PG(36:4)\", \"offsetgroup\": \"PG(36:4)\", \"orientation\": \"v\", \"showlegend\": true, \"textposition\": \"auto\", \"type\": \"bar\", \"x\": [\"788.0 -> 599.0\"], \"xaxis\": \"x\", \"y\": [6129489.851623535], \"yaxis\": \"y\"}, {\"alignmentgroup\": \"True\", \"customdata\": [[\"PG(36:3),PG(P-37:2)\", \"PG\"]], \"hovertemplate\": \"Lipid=%{customdata[0]}<br>Transition=%{x}<br>Intensity=%{y}<br>Class=%{customdata[1]}<extra></extra>\", \"legendgroup\": \"PG(36:3),PG(P-37:2)\", \"marker\": {\"color\": \"#FF97FF\"}, \"name\": \"PG(36:3),PG(P-37:2)\", \"offsetgroup\": \"PG(36:3),PG(P-37:2)\", \"orientation\": \"v\", \"showlegend\": true, \"textposition\": \"auto\", \"type\": \"bar\", \"x\": [\"790.0 -> 601.0\"], \"xaxis\": \"x\", \"y\": [2584182.920562744], \"yaxis\": \"y\"}, {\"alignmentgroup\": \"True\", \"customdata\": [[\"PG(O-37:2),PG(P-37:1)\", \"PG\"]], \"hovertemplate\": \"Lipid=%{customdata[0]}<br>Transition=%{x}<br>Intensity=%{y}<br>Class=%{customdata[1]}<extra></extra>\", \"legendgroup\": \"PG(O-37:2),PG(P-37:1)\", \"marker\": {\"color\": \"#FECB52\"}, \"name\": \"PG(O-37:2),PG(P-37:1)\", \"offsetgroup\": \"PG(O-37:2),PG(P-37:1)\", \"orientation\": \"v\", \"showlegend\": true, \"textposition\": \"auto\", \"type\": \"bar\", \"x\": [\"792.0 -> 603.0\"], \"xaxis\": \"x\", \"y\": [3311812.273864746], \"yaxis\": \"y\"}, {\"alignmentgroup\": \"True\", \"customdata\": [[\"PG(36:1),PG(O-37:1),PG(P-37:0)\", \"PG\"]], \"hovertemplate\": \"Lipid=%{customdata[0]}<br>Transition=%{x}<br>Intensity=%{y}<br>Class=%{customdata[1]}<extra></extra>\", \"legendgroup\": \"PG(36:1),PG(O-37:1),PG(P-37:0)\", \"marker\": {\"color\": \"#636efa\"}, \"name\": \"PG(36:1),PG(O-37:1),PG(P-37:0)\", \"offsetgroup\": \"PG(36:1),PG(O-37:1),PG(P-37:0)\", \"orientation\": \"v\", \"showlegend\": true, \"textposition\": \"auto\", \"type\": \"bar\", \"x\": [\"794.0 -> 605.0\"], \"xaxis\": \"x\", \"y\": [4324463.707824707], \"yaxis\": \"y\"}, {\"alignmentgroup\": \"True\", \"customdata\": [[\"[TG(52:6)]_FA18:1\", \"TAG\"], [\"[TG(52:6)]_FA18:1\", \"TAG\"]], \"hovertemplate\": \"Lipid=%{customdata[0]}<br>Transition=%{x}<br>Intensity=%{y}<br>Class=%{customdata[1]}<extra></extra>\", \"legendgroup\": \"[TG(52:6)]_FA18:1\", \"marker\": {\"color\": \"#EF553B\"}, \"name\": \"[TG(52:6)]_FA18:1\", \"offsetgroup\": \"[TG(52:6)]_FA18:1\", \"orientation\": \"v\", \"showlegend\": true, \"textposition\": \"auto\", \"type\": \"bar\", \"x\": [\"868.0 -> 569.0\", \"868.0 -> 569.0\"], \"xaxis\": \"x\", \"y\": [2147588.99118042, 2077466.9470214844], \"yaxis\": \"y\"}, {\"alignmentgroup\": \"True\", \"customdata\": [[\"[TG(52:5)]_FA18:1\", \"TAG\"]], \"hovertemplate\": \"Lipid=%{customdata[0]}<br>Transition=%{x}<br>Intensity=%{y}<br>Class=%{customdata[1]}<extra></extra>\", \"legendgroup\": \"[TG(52:5)]_FA18:1\", \"marker\": {\"color\": \"#00cc96\"}, \"name\": \"[TG(52:5)]_FA18:1\", \"offsetgroup\": \"[TG(52:5)]_FA18:1\", \"orientation\": \"v\", \"showlegend\": true, \"textposition\": \"auto\", \"type\": \"bar\", \"x\": [\"870.0 -> 571.0\"], \"xaxis\": \"x\", \"y\": [3446471.8658447266], \"yaxis\": \"y\"}, {\"alignmentgroup\": \"True\", \"customdata\": [[\"[TG(52:4)]_FA18:1\", \"TAG\"]], \"hovertemplate\": \"Lipid=%{customdata[0]}<br>Transition=%{x}<br>Intensity=%{y}<br>Class=%{customdata[1]}<extra></extra>\", \"legendgroup\": \"[TG(52:4)]_FA18:1\", \"marker\": {\"color\": \"#ab63fa\"}, \"name\": \"[TG(52:4)]_FA18:1\", \"offsetgroup\": \"[TG(52:4)]_FA18:1\", \"orientation\": \"v\", \"showlegend\": true, \"textposition\": \"auto\", \"type\": \"bar\", \"x\": [\"872.0 -> 573.0\"], \"xaxis\": \"x\", \"y\": [3569656.2090759277], \"yaxis\": \"y\"}, {\"alignmentgroup\": \"True\", \"customdata\": [[\"[TG(53:10),TG(52:3)]_FA18:1\", \"TAG\"]], \"hovertemplate\": \"Lipid=%{customdata[0]}<br>Transition=%{x}<br>Intensity=%{y}<br>Class=%{customdata[1]}<extra></extra>\", \"legendgroup\": \"[TG(53:10),TG(52:3)]_FA18:1\", \"marker\": {\"color\": \"#FFA15A\"}, \"name\": \"[TG(53:10),TG(52:3)]_FA18:1\", \"offsetgroup\": \"[TG(53:10),TG(52:3)]_FA18:1\", \"orientation\": \"v\", \"showlegend\": true, \"textposition\": \"auto\", \"type\": \"bar\", \"x\": [\"874.0 -> 575.0\"], \"xaxis\": \"x\", \"y\": [20658623.729888916], \"yaxis\": \"y\"}, {\"alignmentgroup\": \"True\", \"customdata\": [[\"[TG(53:9),TG(52:2)]_FA18:1\", \"TAG\"]], \"hovertemplate\": \"Lipid=%{customdata[0]}<br>Transition=%{x}<br>Intensity=%{y}<br>Class=%{customdata[1]}<extra></extra>\", \"legendgroup\": \"[TG(53:9),TG(52:2)]_FA18:1\", \"marker\": {\"color\": \"#19d3f3\"}, \"name\": \"[TG(53:9),TG(52:2)]_FA18:1\", \"offsetgroup\": \"[TG(53:9),TG(52:2)]_FA18:1\", \"orientation\": \"v\", \"showlegend\": true, \"textposition\": \"auto\", \"type\": \"bar\", \"x\": [\"876.0 -> 577.0\"], \"xaxis\": \"x\", \"y\": [26769009.46435547], \"yaxis\": \"y\"}, {\"alignmentgroup\": \"True\", \"customdata\": [[\"[TG(54:7),TG(53:0)]_FA18:1\", \"TAG\"]], \"hovertemplate\": \"Lipid=%{customdata[0]}<br>Transition=%{x}<br>Intensity=%{y}<br>Class=%{customdata[1]}<extra></extra>\", \"legendgroup\": \"[TG(54:7),TG(53:0)]_FA18:1\", \"marker\": {\"color\": \"#FF6692\"}, \"name\": \"[TG(54:7),TG(53:0)]_FA18:1\", \"offsetgroup\": \"[TG(54:7),TG(53:0)]_FA18:1\", \"orientation\": \"v\", \"showlegend\": true, \"textposition\": \"auto\", \"type\": \"bar\", \"x\": [\"894.0 -> 595.0\"], \"xaxis\": \"x\", \"y\": [4333085.702453613], \"yaxis\": \"y\"}, {\"alignmentgroup\": \"True\", \"customdata\": [[\"[TG(54:6)]_FA18:1\", \"TAG\"]], \"hovertemplate\": \"Lipid=%{customdata[0]}<br>Transition=%{x}<br>Intensity=%{y}<br>Class=%{customdata[1]}<extra></extra>\", \"legendgroup\": \"[TG(54:6)]_FA18:1\", \"marker\": {\"color\": \"#B6E880\"}, \"name\": \"[TG(54:6)]_FA18:1\", \"offsetgroup\": \"[TG(54:6)]_FA18:1\", \"orientation\": \"v\", \"showlegend\": true, \"textposition\": \"auto\", \"type\": \"bar\", \"x\": [\"896.0 -> 597.0\"], \"xaxis\": \"x\", \"y\": [3145901.463317871], \"yaxis\": \"y\"}, {\"alignmentgroup\": \"True\", \"customdata\": [[\"[TG(54:5)]_FA18:1\", \"TAG\"]], \"hovertemplate\": \"Lipid=%{customdata[0]}<br>Transition=%{x}<br>Intensity=%{y}<br>Class=%{customdata[1]}<extra></extra>\", \"legendgroup\": \"[TG(54:5)]_FA18:1\", \"marker\": {\"color\": \"#FF97FF\"}, \"name\": \"[TG(54:5)]_FA18:1\", \"offsetgroup\": \"[TG(54:5)]_FA18:1\", \"orientation\": \"v\", \"showlegend\": true, \"textposition\": \"auto\", \"type\": \"bar\", \"x\": [\"898.0 -> 599.0\"], \"xaxis\": \"x\", \"y\": [12535827.163513184], \"yaxis\": \"y\"}, {\"alignmentgroup\": \"True\", \"customdata\": [[\"[TG(55:11),TG(54:4)]_FA18:1\", \"TAG\"]], \"hovertemplate\": \"Lipid=%{customdata[0]}<br>Transition=%{x}<br>Intensity=%{y}<br>Class=%{customdata[1]}<extra></extra>\", \"legendgroup\": \"[TG(55:11),TG(54:4)]_FA18:1\", \"marker\": {\"color\": \"#FECB52\"}, \"name\": \"[TG(55:11),TG(54:4)]_FA18:1\", \"offsetgroup\": \"[TG(55:11),TG(54:4)]_FA18:1\", \"orientation\": \"v\", \"showlegend\": true, \"textposition\": \"auto\", \"type\": \"bar\", \"x\": [\"900.0 -> 601.0\"], \"xaxis\": \"x\", \"y\": [14229465.170547485], \"yaxis\": \"y\"}, {\"alignmentgroup\": \"True\", \"customdata\": [[\"[TG(55:10),TG(54:3)]_FA18:1\", \"TAG\"]], \"hovertemplate\": \"Lipid=%{customdata[0]}<br>Transition=%{x}<br>Intensity=%{y}<br>Class=%{customdata[1]}<extra></extra>\", \"legendgroup\": \"[TG(55:10),TG(54:3)]_FA18:1\", \"marker\": {\"color\": \"#636efa\"}, \"name\": \"[TG(55:10),TG(54:3)]_FA18:1\", \"offsetgroup\": \"[TG(55:10),TG(54:3)]_FA18:1\", \"orientation\": \"v\", \"showlegend\": true, \"textposition\": \"auto\", \"type\": \"bar\", \"x\": [\"902.0 -> 603.0\"], \"xaxis\": \"x\", \"y\": [34867382.11654663], \"yaxis\": \"y\"}, {\"alignmentgroup\": \"True\", \"customdata\": [[\"[TG(55:9),TG(54:2)]_FA18:1\", \"TAG\"]], \"hovertemplate\": \"Lipid=%{customdata[0]}<br>Transition=%{x}<br>Intensity=%{y}<br>Class=%{customdata[1]}<extra></extra>\", \"legendgroup\": \"[TG(55:9),TG(54:2)]_FA18:1\", \"marker\": {\"color\": \"#EF553B\"}, \"name\": \"[TG(55:9),TG(54:2)]_FA18:1\", \"offsetgroup\": \"[TG(55:9),TG(54:2)]_FA18:1\", \"orientation\": \"v\", \"showlegend\": true, \"textposition\": \"auto\", \"type\": \"bar\", \"x\": [\"904.0 -> 605.0\"], \"xaxis\": \"x\", \"y\": [12858486.61076355], \"yaxis\": \"y\"}],                        {\"barmode\": \"relative\", \"legend\": {\"title\": {\"text\": \"Lipid\"}, \"tracegroupgap\": 0}, \"margin\": {\"t\": 60}, \"template\": {\"data\": {\"bar\": [{\"error_x\": {\"color\": \"#2a3f5f\"}, \"error_y\": {\"color\": \"#2a3f5f\"}, \"marker\": {\"line\": {\"color\": \"#E5ECF6\", \"width\": 0.5}}, \"type\": \"bar\"}], \"barpolar\": [{\"marker\": {\"line\": {\"color\": \"#E5ECF6\", \"width\": 0.5}}, \"type\": \"barpolar\"}], \"carpet\": [{\"aaxis\": {\"endlinecolor\": \"#2a3f5f\", \"gridcolor\": \"white\", \"linecolor\": \"white\", \"minorgridcolor\": \"white\", \"startlinecolor\": \"#2a3f5f\"}, \"baxis\": {\"endlinecolor\": \"#2a3f5f\", \"gridcolor\": \"white\", \"linecolor\": \"white\", \"minorgridcolor\": \"white\", \"startlinecolor\": \"#2a3f5f\"}, \"type\": \"carpet\"}], \"choropleth\": [{\"colorbar\": {\"outlinewidth\": 0, \"ticks\": \"\"}, \"type\": \"choropleth\"}], \"contour\": [{\"colorbar\": {\"outlinewidth\": 0, \"ticks\": \"\"}, \"colorscale\": [[0.0, \"#0d0887\"], [0.1111111111111111, \"#46039f\"], [0.2222222222222222, \"#7201a8\"], [0.3333333333333333, \"#9c179e\"], [0.4444444444444444, \"#bd3786\"], [0.5555555555555556, \"#d8576b\"], [0.6666666666666666, \"#ed7953\"], [0.7777777777777778, \"#fb9f3a\"], [0.8888888888888888, \"#fdca26\"], [1.0, \"#f0f921\"]], \"type\": \"contour\"}], \"contourcarpet\": [{\"colorbar\": {\"outlinewidth\": 0, \"ticks\": \"\"}, \"type\": \"contourcarpet\"}], \"heatmap\": [{\"colorbar\": {\"outlinewidth\": 0, \"ticks\": \"\"}, \"colorscale\": [[0.0, \"#0d0887\"], [0.1111111111111111, \"#46039f\"], [0.2222222222222222, \"#7201a8\"], [0.3333333333333333, \"#9c179e\"], [0.4444444444444444, \"#bd3786\"], [0.5555555555555556, \"#d8576b\"], [0.6666666666666666, \"#ed7953\"], [0.7777777777777778, \"#fb9f3a\"], [0.8888888888888888, \"#fdca26\"], [1.0, \"#f0f921\"]], \"type\": \"heatmap\"}], \"heatmapgl\": [{\"colorbar\": {\"outlinewidth\": 0, \"ticks\": \"\"}, \"colorscale\": [[0.0, \"#0d0887\"], [0.1111111111111111, \"#46039f\"], [0.2222222222222222, \"#7201a8\"], [0.3333333333333333, \"#9c179e\"], [0.4444444444444444, \"#bd3786\"], [0.5555555555555556, \"#d8576b\"], [0.6666666666666666, \"#ed7953\"], [0.7777777777777778, \"#fb9f3a\"], [0.8888888888888888, \"#fdca26\"], [1.0, \"#f0f921\"]], \"type\": \"heatmapgl\"}], \"histogram\": [{\"marker\": {\"colorbar\": {\"outlinewidth\": 0, \"ticks\": \"\"}}, \"type\": \"histogram\"}], \"histogram2d\": [{\"colorbar\": {\"outlinewidth\": 0, \"ticks\": \"\"}, \"colorscale\": [[0.0, \"#0d0887\"], [0.1111111111111111, \"#46039f\"], [0.2222222222222222, \"#7201a8\"], [0.3333333333333333, \"#9c179e\"], [0.4444444444444444, \"#bd3786\"], [0.5555555555555556, \"#d8576b\"], [0.6666666666666666, \"#ed7953\"], [0.7777777777777778, \"#fb9f3a\"], [0.8888888888888888, \"#fdca26\"], [1.0, \"#f0f921\"]], \"type\": \"histogram2d\"}], \"histogram2dcontour\": [{\"colorbar\": {\"outlinewidth\": 0, \"ticks\": \"\"}, \"colorscale\": [[0.0, \"#0d0887\"], [0.1111111111111111, \"#46039f\"], [0.2222222222222222, \"#7201a8\"], [0.3333333333333333, \"#9c179e\"], [0.4444444444444444, \"#bd3786\"], [0.5555555555555556, \"#d8576b\"], [0.6666666666666666, \"#ed7953\"], [0.7777777777777778, \"#fb9f3a\"], [0.8888888888888888, \"#fdca26\"], [1.0, \"#f0f921\"]], \"type\": \"histogram2dcontour\"}], \"mesh3d\": [{\"colorbar\": {\"outlinewidth\": 0, \"ticks\": \"\"}, \"type\": \"mesh3d\"}], \"parcoords\": [{\"line\": {\"colorbar\": {\"outlinewidth\": 0, \"ticks\": \"\"}}, \"type\": \"parcoords\"}], \"pie\": [{\"automargin\": true, \"type\": \"pie\"}], \"scatter\": [{\"marker\": {\"colorbar\": {\"outlinewidth\": 0, \"ticks\": \"\"}}, \"type\": \"scatter\"}], \"scatter3d\": [{\"line\": {\"colorbar\": {\"outlinewidth\": 0, \"ticks\": \"\"}}, \"marker\": {\"colorbar\": {\"outlinewidth\": 0, \"ticks\": \"\"}}, \"type\": \"scatter3d\"}], \"scattercarpet\": [{\"marker\": {\"colorbar\": {\"outlinewidth\": 0, \"ticks\": \"\"}}, \"type\": \"scattercarpet\"}], \"scattergeo\": [{\"marker\": {\"colorbar\": {\"outlinewidth\": 0, \"ticks\": \"\"}}, \"type\": \"scattergeo\"}], \"scattergl\": [{\"marker\": {\"colorbar\": {\"outlinewidth\": 0, \"ticks\": \"\"}}, \"type\": \"scattergl\"}], \"scattermapbox\": [{\"marker\": {\"colorbar\": {\"outlinewidth\": 0, \"ticks\": \"\"}}, \"type\": \"scattermapbox\"}], \"scatterpolar\": [{\"marker\": {\"colorbar\": {\"outlinewidth\": 0, \"ticks\": \"\"}}, \"type\": \"scatterpolar\"}], \"scatterpolargl\": [{\"marker\": {\"colorbar\": {\"outlinewidth\": 0, \"ticks\": \"\"}}, \"type\": \"scatterpolargl\"}], \"scatterternary\": [{\"marker\": {\"colorbar\": {\"outlinewidth\": 0, \"ticks\": \"\"}}, \"type\": \"scatterternary\"}], \"surface\": [{\"colorbar\": {\"outlinewidth\": 0, \"ticks\": \"\"}, \"colorscale\": [[0.0, \"#0d0887\"], [0.1111111111111111, \"#46039f\"], [0.2222222222222222, \"#7201a8\"], [0.3333333333333333, \"#9c179e\"], [0.4444444444444444, \"#bd3786\"], [0.5555555555555556, \"#d8576b\"], [0.6666666666666666, \"#ed7953\"], [0.7777777777777778, \"#fb9f3a\"], [0.8888888888888888, \"#fdca26\"], [1.0, \"#f0f921\"]], \"type\": \"surface\"}], \"table\": [{\"cells\": {\"fill\": {\"color\": \"#EBF0F8\"}, \"line\": {\"color\": \"white\"}}, \"header\": {\"fill\": {\"color\": \"#C8D4E3\"}, \"line\": {\"color\": \"white\"}}, \"type\": \"table\"}]}, \"layout\": {\"annotationdefaults\": {\"arrowcolor\": \"#2a3f5f\", \"arrowhead\": 0, \"arrowwidth\": 1}, \"coloraxis\": {\"colorbar\": {\"outlinewidth\": 0, \"ticks\": \"\"}}, \"colorscale\": {\"diverging\": [[0, \"#8e0152\"], [0.1, \"#c51b7d\"], [0.2, \"#de77ae\"], [0.3, \"#f1b6da\"], [0.4, \"#fde0ef\"], [0.5, \"#f7f7f7\"], [0.6, \"#e6f5d0\"], [0.7, \"#b8e186\"], [0.8, \"#7fbc41\"], [0.9, \"#4d9221\"], [1, \"#276419\"]], \"sequential\": [[0.0, \"#0d0887\"], [0.1111111111111111, \"#46039f\"], [0.2222222222222222, \"#7201a8\"], [0.3333333333333333, \"#9c179e\"], [0.4444444444444444, \"#bd3786\"], [0.5555555555555556, \"#d8576b\"], [0.6666666666666666, \"#ed7953\"], [0.7777777777777778, \"#fb9f3a\"], [0.8888888888888888, \"#fdca26\"], [1.0, \"#f0f921\"]], \"sequentialminus\": [[0.0, \"#0d0887\"], [0.1111111111111111, \"#46039f\"], [0.2222222222222222, \"#7201a8\"], [0.3333333333333333, \"#9c179e\"], [0.4444444444444444, \"#bd3786\"], [0.5555555555555556, \"#d8576b\"], [0.6666666666666666, \"#ed7953\"], [0.7777777777777778, \"#fb9f3a\"], [0.8888888888888888, \"#fdca26\"], [1.0, \"#f0f921\"]]}, \"colorway\": [\"#636efa\", \"#EF553B\", \"#00cc96\", \"#ab63fa\", \"#FFA15A\", \"#19d3f3\", \"#FF6692\", \"#B6E880\", \"#FF97FF\", \"#FECB52\"], \"font\": {\"color\": \"#2a3f5f\"}, \"geo\": {\"bgcolor\": \"white\", \"lakecolor\": \"white\", \"landcolor\": \"#E5ECF6\", \"showlakes\": true, \"showland\": true, \"subunitcolor\": \"white\"}, \"hoverlabel\": {\"align\": \"left\"}, \"hovermode\": \"closest\", \"mapbox\": {\"style\": \"light\"}, \"paper_bgcolor\": \"white\", \"plot_bgcolor\": \"#E5ECF6\", \"polar\": {\"angularaxis\": {\"gridcolor\": \"white\", \"linecolor\": \"white\", \"ticks\": \"\"}, \"bgcolor\": \"#E5ECF6\", \"radialaxis\": {\"gridcolor\": \"white\", \"linecolor\": \"white\", \"ticks\": \"\"}}, \"scene\": {\"xaxis\": {\"backgroundcolor\": \"#E5ECF6\", \"gridcolor\": \"white\", \"gridwidth\": 2, \"linecolor\": \"white\", \"showbackground\": true, \"ticks\": \"\", \"zerolinecolor\": \"white\"}, \"yaxis\": {\"backgroundcolor\": \"#E5ECF6\", \"gridcolor\": \"white\", \"gridwidth\": 2, \"linecolor\": \"white\", \"showbackground\": true, \"ticks\": \"\", \"zerolinecolor\": \"white\"}, \"zaxis\": {\"backgroundcolor\": \"#E5ECF6\", \"gridcolor\": \"white\", \"gridwidth\": 2, \"linecolor\": \"white\", \"showbackground\": true, \"ticks\": \"\", \"zerolinecolor\": \"white\"}}, \"shapedefaults\": {\"line\": {\"color\": \"#2a3f5f\"}}, \"ternary\": {\"aaxis\": {\"gridcolor\": \"white\", \"linecolor\": \"white\", \"ticks\": \"\"}, \"baxis\": {\"gridcolor\": \"white\", \"linecolor\": \"white\", \"ticks\": \"\"}, \"bgcolor\": \"#E5ECF6\", \"caxis\": {\"gridcolor\": \"white\", \"linecolor\": \"white\", \"ticks\": \"\"}}, \"title\": {\"x\": 0.05}, \"xaxis\": {\"automargin\": true, \"gridcolor\": \"white\", \"linecolor\": \"white\", \"ticks\": \"\", \"title\": {\"standoff\": 15}, \"zerolinecolor\": \"white\", \"zerolinewidth\": 2}, \"yaxis\": {\"automargin\": true, \"gridcolor\": \"white\", \"linecolor\": \"white\", \"ticks\": \"\", \"title\": {\"standoff\": 15}, \"zerolinecolor\": \"white\", \"zerolinewidth\": 2}}}, \"xaxis\": {\"anchor\": \"y\", \"domain\": [0.0, 1.0], \"title\": {\"text\": \"Transition\"}}, \"yaxis\": {\"anchor\": \"x\", \"domain\": [0.0, 1.0], \"title\": {\"text\": \"Intensity\"}}},                        {\"responsive\": true}                    ).then(function(){\n",
       "                            \n",
       "var gd = document.getElementById('175f8886-0200-4cad-96a4-2893fb15141f');\n",
       "var x = new MutationObserver(function (mutations, observer) {{\n",
       "        var display = window.getComputedStyle(gd).display;\n",
       "        if (!display || display === 'none') {{\n",
       "            console.log([gd, 'removed!']);\n",
       "            Plotly.purge(gd);\n",
       "            observer.disconnect();\n",
       "        }}\n",
       "}});\n",
       "\n",
       "// Listen for the removal of the full notebook cells\n",
       "var notebookContainer = gd.closest('#notebook-container');\n",
       "if (notebookContainer) {{\n",
       "    x.observe(notebookContainer, {childList: true});\n",
       "}}\n",
       "\n",
       "// Listen for the clearing of the current output cell\n",
       "var outputEl = gd.closest('.output');\n",
       "if (outputEl) {{\n",
       "    x.observe(outputEl, {childList: true});\n",
       "}}\n",
       "\n",
       "                        })                };                });            </script>        </div>"
      ]
     },
     "metadata": {},
     "output_type": "display_data"
    },
    {
     "data": {
      "application/vnd.plotly.v1+json": {
       "config": {
        "plotlyServerURL": "https://plot.ly"
       },
       "data": [
        {
         "alignmentgroup": "True",
         "customdata": [
          [
           "PG(34:4)",
           "PG"
          ],
          [
           "PG(34:3),PG(P-35:2)",
           "PG"
          ],
          [
           "PG(O-35:2),PG(P-35:1)",
           "PG"
          ],
          [
           "PG(O-35:1),PG(P-35:0)",
           "PG"
          ],
          [
           "PG(36:7),PG(35:0),PG(O-36:0)",
           "PG"
          ],
          [
           "PG(36:6)",
           "PG"
          ],
          [
           "PG(36:5)",
           "PG"
          ],
          [
           "PG(36:4)",
           "PG"
          ],
          [
           "PG(36:3),PG(P-37:2)",
           "PG"
          ],
          [
           "PG(O-37:2),PG(P-37:1)",
           "PG"
          ],
          [
           "PG(36:1),PG(O-37:1),PG(P-37:0)",
           "PG"
          ]
         ],
         "hovertemplate": "Class=%{customdata[1]}<br>Intensity=%{y}<br>Lipid=%{customdata[0]}<extra></extra>",
         "legendgroup": "PG",
         "marker": {
          "color": "#636efa"
         },
         "name": "PG",
         "offsetgroup": "PG",
         "orientation": "v",
         "showlegend": true,
         "textposition": "auto",
         "type": "bar",
         "x": [
          "PG",
          "PG",
          "PG",
          "PG",
          "PG",
          "PG",
          "PG",
          "PG",
          "PG",
          "PG",
          "PG"
         ],
         "xaxis": "x",
         "y": [
          3508930.004333496,
          4454522.478515625,
          3342623.2351989746,
          3270586.690460205,
          2358947.4252929688,
          2304902.763244629,
          3260273.4930114746,
          6129489.851623535,
          2584182.920562744,
          3311812.273864746,
          4324463.707824707
         ],
         "yaxis": "y"
        },
        {
         "alignmentgroup": "True",
         "customdata": [
          [
           "[TG(52:6)]_FA18:1",
           "TAG"
          ],
          [
           "[TG(52:6)]_FA18:1",
           "TAG"
          ],
          [
           "[TG(52:5)]_FA18:1",
           "TAG"
          ],
          [
           "[TG(52:4)]_FA18:1",
           "TAG"
          ],
          [
           "[TG(53:10),TG(52:3)]_FA18:1",
           "TAG"
          ],
          [
           "[TG(53:9),TG(52:2)]_FA18:1",
           "TAG"
          ],
          [
           "[TG(54:7),TG(53:0)]_FA18:1",
           "TAG"
          ],
          [
           "[TG(54:6)]_FA18:1",
           "TAG"
          ],
          [
           "[TG(54:5)]_FA18:1",
           "TAG"
          ],
          [
           "[TG(55:11),TG(54:4)]_FA18:1",
           "TAG"
          ],
          [
           "[TG(55:10),TG(54:3)]_FA18:1",
           "TAG"
          ],
          [
           "[TG(55:9),TG(54:2)]_FA18:1",
           "TAG"
          ]
         ],
         "hovertemplate": "Class=%{customdata[1]}<br>Intensity=%{y}<br>Lipid=%{customdata[0]}<extra></extra>",
         "legendgroup": "TAG",
         "marker": {
          "color": "#EF553B"
         },
         "name": "TAG",
         "offsetgroup": "TAG",
         "orientation": "v",
         "showlegend": true,
         "textposition": "auto",
         "type": "bar",
         "x": [
          "TAG",
          "TAG",
          "TAG",
          "TAG",
          "TAG",
          "TAG",
          "TAG",
          "TAG",
          "TAG",
          "TAG",
          "TAG",
          "TAG"
         ],
         "xaxis": "x",
         "y": [
          2147588.99118042,
          2077466.9470214844,
          3446471.8658447266,
          3569656.2090759277,
          20658623.729888916,
          26769009.46435547,
          4333085.702453613,
          3145901.463317871,
          12535827.163513184,
          14229465.170547485,
          34867382.11654663,
          12858486.61076355
         ],
         "yaxis": "y"
        }
       ],
       "layout": {
        "barmode": "relative",
        "legend": {
         "title": {
          "text": "Class"
         },
         "tracegroupgap": 0
        },
        "margin": {
         "t": 60
        },
        "template": {
         "data": {
          "bar": [
           {
            "error_x": {
             "color": "#2a3f5f"
            },
            "error_y": {
             "color": "#2a3f5f"
            },
            "marker": {
             "line": {
              "color": "#E5ECF6",
              "width": 0.5
             }
            },
            "type": "bar"
           }
          ],
          "barpolar": [
           {
            "marker": {
             "line": {
              "color": "#E5ECF6",
              "width": 0.5
             }
            },
            "type": "barpolar"
           }
          ],
          "carpet": [
           {
            "aaxis": {
             "endlinecolor": "#2a3f5f",
             "gridcolor": "white",
             "linecolor": "white",
             "minorgridcolor": "white",
             "startlinecolor": "#2a3f5f"
            },
            "baxis": {
             "endlinecolor": "#2a3f5f",
             "gridcolor": "white",
             "linecolor": "white",
             "minorgridcolor": "white",
             "startlinecolor": "#2a3f5f"
            },
            "type": "carpet"
           }
          ],
          "choropleth": [
           {
            "colorbar": {
             "outlinewidth": 0,
             "ticks": ""
            },
            "type": "choropleth"
           }
          ],
          "contour": [
           {
            "colorbar": {
             "outlinewidth": 0,
             "ticks": ""
            },
            "colorscale": [
             [
              0,
              "#0d0887"
             ],
             [
              0.1111111111111111,
              "#46039f"
             ],
             [
              0.2222222222222222,
              "#7201a8"
             ],
             [
              0.3333333333333333,
              "#9c179e"
             ],
             [
              0.4444444444444444,
              "#bd3786"
             ],
             [
              0.5555555555555556,
              "#d8576b"
             ],
             [
              0.6666666666666666,
              "#ed7953"
             ],
             [
              0.7777777777777778,
              "#fb9f3a"
             ],
             [
              0.8888888888888888,
              "#fdca26"
             ],
             [
              1,
              "#f0f921"
             ]
            ],
            "type": "contour"
           }
          ],
          "contourcarpet": [
           {
            "colorbar": {
             "outlinewidth": 0,
             "ticks": ""
            },
            "type": "contourcarpet"
           }
          ],
          "heatmap": [
           {
            "colorbar": {
             "outlinewidth": 0,
             "ticks": ""
            },
            "colorscale": [
             [
              0,
              "#0d0887"
             ],
             [
              0.1111111111111111,
              "#46039f"
             ],
             [
              0.2222222222222222,
              "#7201a8"
             ],
             [
              0.3333333333333333,
              "#9c179e"
             ],
             [
              0.4444444444444444,
              "#bd3786"
             ],
             [
              0.5555555555555556,
              "#d8576b"
             ],
             [
              0.6666666666666666,
              "#ed7953"
             ],
             [
              0.7777777777777778,
              "#fb9f3a"
             ],
             [
              0.8888888888888888,
              "#fdca26"
             ],
             [
              1,
              "#f0f921"
             ]
            ],
            "type": "heatmap"
           }
          ],
          "heatmapgl": [
           {
            "colorbar": {
             "outlinewidth": 0,
             "ticks": ""
            },
            "colorscale": [
             [
              0,
              "#0d0887"
             ],
             [
              0.1111111111111111,
              "#46039f"
             ],
             [
              0.2222222222222222,
              "#7201a8"
             ],
             [
              0.3333333333333333,
              "#9c179e"
             ],
             [
              0.4444444444444444,
              "#bd3786"
             ],
             [
              0.5555555555555556,
              "#d8576b"
             ],
             [
              0.6666666666666666,
              "#ed7953"
             ],
             [
              0.7777777777777778,
              "#fb9f3a"
             ],
             [
              0.8888888888888888,
              "#fdca26"
             ],
             [
              1,
              "#f0f921"
             ]
            ],
            "type": "heatmapgl"
           }
          ],
          "histogram": [
           {
            "marker": {
             "colorbar": {
              "outlinewidth": 0,
              "ticks": ""
             }
            },
            "type": "histogram"
           }
          ],
          "histogram2d": [
           {
            "colorbar": {
             "outlinewidth": 0,
             "ticks": ""
            },
            "colorscale": [
             [
              0,
              "#0d0887"
             ],
             [
              0.1111111111111111,
              "#46039f"
             ],
             [
              0.2222222222222222,
              "#7201a8"
             ],
             [
              0.3333333333333333,
              "#9c179e"
             ],
             [
              0.4444444444444444,
              "#bd3786"
             ],
             [
              0.5555555555555556,
              "#d8576b"
             ],
             [
              0.6666666666666666,
              "#ed7953"
             ],
             [
              0.7777777777777778,
              "#fb9f3a"
             ],
             [
              0.8888888888888888,
              "#fdca26"
             ],
             [
              1,
              "#f0f921"
             ]
            ],
            "type": "histogram2d"
           }
          ],
          "histogram2dcontour": [
           {
            "colorbar": {
             "outlinewidth": 0,
             "ticks": ""
            },
            "colorscale": [
             [
              0,
              "#0d0887"
             ],
             [
              0.1111111111111111,
              "#46039f"
             ],
             [
              0.2222222222222222,
              "#7201a8"
             ],
             [
              0.3333333333333333,
              "#9c179e"
             ],
             [
              0.4444444444444444,
              "#bd3786"
             ],
             [
              0.5555555555555556,
              "#d8576b"
             ],
             [
              0.6666666666666666,
              "#ed7953"
             ],
             [
              0.7777777777777778,
              "#fb9f3a"
             ],
             [
              0.8888888888888888,
              "#fdca26"
             ],
             [
              1,
              "#f0f921"
             ]
            ],
            "type": "histogram2dcontour"
           }
          ],
          "mesh3d": [
           {
            "colorbar": {
             "outlinewidth": 0,
             "ticks": ""
            },
            "type": "mesh3d"
           }
          ],
          "parcoords": [
           {
            "line": {
             "colorbar": {
              "outlinewidth": 0,
              "ticks": ""
             }
            },
            "type": "parcoords"
           }
          ],
          "pie": [
           {
            "automargin": true,
            "type": "pie"
           }
          ],
          "scatter": [
           {
            "marker": {
             "colorbar": {
              "outlinewidth": 0,
              "ticks": ""
             }
            },
            "type": "scatter"
           }
          ],
          "scatter3d": [
           {
            "line": {
             "colorbar": {
              "outlinewidth": 0,
              "ticks": ""
             }
            },
            "marker": {
             "colorbar": {
              "outlinewidth": 0,
              "ticks": ""
             }
            },
            "type": "scatter3d"
           }
          ],
          "scattercarpet": [
           {
            "marker": {
             "colorbar": {
              "outlinewidth": 0,
              "ticks": ""
             }
            },
            "type": "scattercarpet"
           }
          ],
          "scattergeo": [
           {
            "marker": {
             "colorbar": {
              "outlinewidth": 0,
              "ticks": ""
             }
            },
            "type": "scattergeo"
           }
          ],
          "scattergl": [
           {
            "marker": {
             "colorbar": {
              "outlinewidth": 0,
              "ticks": ""
             }
            },
            "type": "scattergl"
           }
          ],
          "scattermapbox": [
           {
            "marker": {
             "colorbar": {
              "outlinewidth": 0,
              "ticks": ""
             }
            },
            "type": "scattermapbox"
           }
          ],
          "scatterpolar": [
           {
            "marker": {
             "colorbar": {
              "outlinewidth": 0,
              "ticks": ""
             }
            },
            "type": "scatterpolar"
           }
          ],
          "scatterpolargl": [
           {
            "marker": {
             "colorbar": {
              "outlinewidth": 0,
              "ticks": ""
             }
            },
            "type": "scatterpolargl"
           }
          ],
          "scatterternary": [
           {
            "marker": {
             "colorbar": {
              "outlinewidth": 0,
              "ticks": ""
             }
            },
            "type": "scatterternary"
           }
          ],
          "surface": [
           {
            "colorbar": {
             "outlinewidth": 0,
             "ticks": ""
            },
            "colorscale": [
             [
              0,
              "#0d0887"
             ],
             [
              0.1111111111111111,
              "#46039f"
             ],
             [
              0.2222222222222222,
              "#7201a8"
             ],
             [
              0.3333333333333333,
              "#9c179e"
             ],
             [
              0.4444444444444444,
              "#bd3786"
             ],
             [
              0.5555555555555556,
              "#d8576b"
             ],
             [
              0.6666666666666666,
              "#ed7953"
             ],
             [
              0.7777777777777778,
              "#fb9f3a"
             ],
             [
              0.8888888888888888,
              "#fdca26"
             ],
             [
              1,
              "#f0f921"
             ]
            ],
            "type": "surface"
           }
          ],
          "table": [
           {
            "cells": {
             "fill": {
              "color": "#EBF0F8"
             },
             "line": {
              "color": "white"
             }
            },
            "header": {
             "fill": {
              "color": "#C8D4E3"
             },
             "line": {
              "color": "white"
             }
            },
            "type": "table"
           }
          ]
         },
         "layout": {
          "annotationdefaults": {
           "arrowcolor": "#2a3f5f",
           "arrowhead": 0,
           "arrowwidth": 1
          },
          "coloraxis": {
           "colorbar": {
            "outlinewidth": 0,
            "ticks": ""
           }
          },
          "colorscale": {
           "diverging": [
            [
             0,
             "#8e0152"
            ],
            [
             0.1,
             "#c51b7d"
            ],
            [
             0.2,
             "#de77ae"
            ],
            [
             0.3,
             "#f1b6da"
            ],
            [
             0.4,
             "#fde0ef"
            ],
            [
             0.5,
             "#f7f7f7"
            ],
            [
             0.6,
             "#e6f5d0"
            ],
            [
             0.7,
             "#b8e186"
            ],
            [
             0.8,
             "#7fbc41"
            ],
            [
             0.9,
             "#4d9221"
            ],
            [
             1,
             "#276419"
            ]
           ],
           "sequential": [
            [
             0,
             "#0d0887"
            ],
            [
             0.1111111111111111,
             "#46039f"
            ],
            [
             0.2222222222222222,
             "#7201a8"
            ],
            [
             0.3333333333333333,
             "#9c179e"
            ],
            [
             0.4444444444444444,
             "#bd3786"
            ],
            [
             0.5555555555555556,
             "#d8576b"
            ],
            [
             0.6666666666666666,
             "#ed7953"
            ],
            [
             0.7777777777777778,
             "#fb9f3a"
            ],
            [
             0.8888888888888888,
             "#fdca26"
            ],
            [
             1,
             "#f0f921"
            ]
           ],
           "sequentialminus": [
            [
             0,
             "#0d0887"
            ],
            [
             0.1111111111111111,
             "#46039f"
            ],
            [
             0.2222222222222222,
             "#7201a8"
            ],
            [
             0.3333333333333333,
             "#9c179e"
            ],
            [
             0.4444444444444444,
             "#bd3786"
            ],
            [
             0.5555555555555556,
             "#d8576b"
            ],
            [
             0.6666666666666666,
             "#ed7953"
            ],
            [
             0.7777777777777778,
             "#fb9f3a"
            ],
            [
             0.8888888888888888,
             "#fdca26"
            ],
            [
             1,
             "#f0f921"
            ]
           ]
          },
          "colorway": [
           "#636efa",
           "#EF553B",
           "#00cc96",
           "#ab63fa",
           "#FFA15A",
           "#19d3f3",
           "#FF6692",
           "#B6E880",
           "#FF97FF",
           "#FECB52"
          ],
          "font": {
           "color": "#2a3f5f"
          },
          "geo": {
           "bgcolor": "white",
           "lakecolor": "white",
           "landcolor": "#E5ECF6",
           "showlakes": true,
           "showland": true,
           "subunitcolor": "white"
          },
          "hoverlabel": {
           "align": "left"
          },
          "hovermode": "closest",
          "mapbox": {
           "style": "light"
          },
          "paper_bgcolor": "white",
          "plot_bgcolor": "#E5ECF6",
          "polar": {
           "angularaxis": {
            "gridcolor": "white",
            "linecolor": "white",
            "ticks": ""
           },
           "bgcolor": "#E5ECF6",
           "radialaxis": {
            "gridcolor": "white",
            "linecolor": "white",
            "ticks": ""
           }
          },
          "scene": {
           "xaxis": {
            "backgroundcolor": "#E5ECF6",
            "gridcolor": "white",
            "gridwidth": 2,
            "linecolor": "white",
            "showbackground": true,
            "ticks": "",
            "zerolinecolor": "white"
           },
           "yaxis": {
            "backgroundcolor": "#E5ECF6",
            "gridcolor": "white",
            "gridwidth": 2,
            "linecolor": "white",
            "showbackground": true,
            "ticks": "",
            "zerolinecolor": "white"
           },
           "zaxis": {
            "backgroundcolor": "#E5ECF6",
            "gridcolor": "white",
            "gridwidth": 2,
            "linecolor": "white",
            "showbackground": true,
            "ticks": "",
            "zerolinecolor": "white"
           }
          },
          "shapedefaults": {
           "line": {
            "color": "#2a3f5f"
           }
          },
          "ternary": {
           "aaxis": {
            "gridcolor": "white",
            "linecolor": "white",
            "ticks": ""
           },
           "baxis": {
            "gridcolor": "white",
            "linecolor": "white",
            "ticks": ""
           },
           "bgcolor": "#E5ECF6",
           "caxis": {
            "gridcolor": "white",
            "linecolor": "white",
            "ticks": ""
           }
          },
          "title": {
           "x": 0.05
          },
          "xaxis": {
           "automargin": true,
           "gridcolor": "white",
           "linecolor": "white",
           "ticks": "",
           "title": {
            "standoff": 15
           },
           "zerolinecolor": "white",
           "zerolinewidth": 2
          },
          "yaxis": {
           "automargin": true,
           "gridcolor": "white",
           "linecolor": "white",
           "ticks": "",
           "title": {
            "standoff": 15
           },
           "zerolinecolor": "white",
           "zerolinewidth": 2
          }
         }
        },
        "xaxis": {
         "anchor": "y",
         "categoryarray": [
          "PG",
          "TAG"
         ],
         "categoryorder": "array",
         "domain": [
          0,
          1
         ],
         "title": {
          "text": "Class"
         }
        },
        "yaxis": {
         "anchor": "x",
         "domain": [
          0,
          1
         ],
         "title": {
          "text": "Intensity"
         }
        }
       }
      },
      "text/html": [
       "<div>                            <div id=\"52c2b124-6851-4d98-9e64-61de858b6601\" class=\"plotly-graph-div\" style=\"height:525px; width:100%;\"></div>            <script type=\"text/javascript\">                require([\"plotly\"], function(Plotly) {                    window.PLOTLYENV=window.PLOTLYENV || {};                                    if (document.getElementById(\"52c2b124-6851-4d98-9e64-61de858b6601\")) {                    Plotly.newPlot(                        \"52c2b124-6851-4d98-9e64-61de858b6601\",                        [{\"alignmentgroup\": \"True\", \"customdata\": [[\"PG(34:4)\", \"PG\"], [\"PG(34:3),PG(P-35:2)\", \"PG\"], [\"PG(O-35:2),PG(P-35:1)\", \"PG\"], [\"PG(O-35:1),PG(P-35:0)\", \"PG\"], [\"PG(36:7),PG(35:0),PG(O-36:0)\", \"PG\"], [\"PG(36:6)\", \"PG\"], [\"PG(36:5)\", \"PG\"], [\"PG(36:4)\", \"PG\"], [\"PG(36:3),PG(P-37:2)\", \"PG\"], [\"PG(O-37:2),PG(P-37:1)\", \"PG\"], [\"PG(36:1),PG(O-37:1),PG(P-37:0)\", \"PG\"]], \"hovertemplate\": \"Class=%{customdata[1]}<br>Intensity=%{y}<br>Lipid=%{customdata[0]}<extra></extra>\", \"legendgroup\": \"PG\", \"marker\": {\"color\": \"#636efa\"}, \"name\": \"PG\", \"offsetgroup\": \"PG\", \"orientation\": \"v\", \"showlegend\": true, \"textposition\": \"auto\", \"type\": \"bar\", \"x\": [\"PG\", \"PG\", \"PG\", \"PG\", \"PG\", \"PG\", \"PG\", \"PG\", \"PG\", \"PG\", \"PG\"], \"xaxis\": \"x\", \"y\": [3508930.004333496, 4454522.478515625, 3342623.2351989746, 3270586.690460205, 2358947.4252929688, 2304902.763244629, 3260273.4930114746, 6129489.851623535, 2584182.920562744, 3311812.273864746, 4324463.707824707], \"yaxis\": \"y\"}, {\"alignmentgroup\": \"True\", \"customdata\": [[\"[TG(52:6)]_FA18:1\", \"TAG\"], [\"[TG(52:6)]_FA18:1\", \"TAG\"], [\"[TG(52:5)]_FA18:1\", \"TAG\"], [\"[TG(52:4)]_FA18:1\", \"TAG\"], [\"[TG(53:10),TG(52:3)]_FA18:1\", \"TAG\"], [\"[TG(53:9),TG(52:2)]_FA18:1\", \"TAG\"], [\"[TG(54:7),TG(53:0)]_FA18:1\", \"TAG\"], [\"[TG(54:6)]_FA18:1\", \"TAG\"], [\"[TG(54:5)]_FA18:1\", \"TAG\"], [\"[TG(55:11),TG(54:4)]_FA18:1\", \"TAG\"], [\"[TG(55:10),TG(54:3)]_FA18:1\", \"TAG\"], [\"[TG(55:9),TG(54:2)]_FA18:1\", \"TAG\"]], \"hovertemplate\": \"Class=%{customdata[1]}<br>Intensity=%{y}<br>Lipid=%{customdata[0]}<extra></extra>\", \"legendgroup\": \"TAG\", \"marker\": {\"color\": \"#EF553B\"}, \"name\": \"TAG\", \"offsetgroup\": \"TAG\", \"orientation\": \"v\", \"showlegend\": true, \"textposition\": \"auto\", \"type\": \"bar\", \"x\": [\"TAG\", \"TAG\", \"TAG\", \"TAG\", \"TAG\", \"TAG\", \"TAG\", \"TAG\", \"TAG\", \"TAG\", \"TAG\", \"TAG\"], \"xaxis\": \"x\", \"y\": [2147588.99118042, 2077466.9470214844, 3446471.8658447266, 3569656.2090759277, 20658623.729888916, 26769009.46435547, 4333085.702453613, 3145901.463317871, 12535827.163513184, 14229465.170547485, 34867382.11654663, 12858486.61076355], \"yaxis\": \"y\"}],                        {\"barmode\": \"relative\", \"legend\": {\"title\": {\"text\": \"Class\"}, \"tracegroupgap\": 0}, \"margin\": {\"t\": 60}, \"template\": {\"data\": {\"bar\": [{\"error_x\": {\"color\": \"#2a3f5f\"}, \"error_y\": {\"color\": \"#2a3f5f\"}, \"marker\": {\"line\": {\"color\": \"#E5ECF6\", \"width\": 0.5}}, \"type\": \"bar\"}], \"barpolar\": [{\"marker\": {\"line\": {\"color\": \"#E5ECF6\", \"width\": 0.5}}, \"type\": \"barpolar\"}], \"carpet\": [{\"aaxis\": {\"endlinecolor\": \"#2a3f5f\", \"gridcolor\": \"white\", \"linecolor\": \"white\", \"minorgridcolor\": \"white\", \"startlinecolor\": \"#2a3f5f\"}, \"baxis\": {\"endlinecolor\": \"#2a3f5f\", \"gridcolor\": \"white\", \"linecolor\": \"white\", \"minorgridcolor\": \"white\", \"startlinecolor\": \"#2a3f5f\"}, \"type\": \"carpet\"}], \"choropleth\": [{\"colorbar\": {\"outlinewidth\": 0, \"ticks\": \"\"}, \"type\": \"choropleth\"}], \"contour\": [{\"colorbar\": {\"outlinewidth\": 0, \"ticks\": \"\"}, \"colorscale\": [[0.0, \"#0d0887\"], [0.1111111111111111, \"#46039f\"], [0.2222222222222222, \"#7201a8\"], [0.3333333333333333, \"#9c179e\"], [0.4444444444444444, \"#bd3786\"], [0.5555555555555556, \"#d8576b\"], [0.6666666666666666, \"#ed7953\"], [0.7777777777777778, \"#fb9f3a\"], [0.8888888888888888, \"#fdca26\"], [1.0, \"#f0f921\"]], \"type\": \"contour\"}], \"contourcarpet\": [{\"colorbar\": {\"outlinewidth\": 0, \"ticks\": \"\"}, \"type\": \"contourcarpet\"}], \"heatmap\": [{\"colorbar\": {\"outlinewidth\": 0, \"ticks\": \"\"}, \"colorscale\": [[0.0, \"#0d0887\"], [0.1111111111111111, \"#46039f\"], [0.2222222222222222, \"#7201a8\"], [0.3333333333333333, \"#9c179e\"], [0.4444444444444444, \"#bd3786\"], [0.5555555555555556, \"#d8576b\"], [0.6666666666666666, \"#ed7953\"], [0.7777777777777778, \"#fb9f3a\"], [0.8888888888888888, \"#fdca26\"], [1.0, \"#f0f921\"]], \"type\": \"heatmap\"}], \"heatmapgl\": [{\"colorbar\": {\"outlinewidth\": 0, \"ticks\": \"\"}, \"colorscale\": [[0.0, \"#0d0887\"], [0.1111111111111111, \"#46039f\"], [0.2222222222222222, \"#7201a8\"], [0.3333333333333333, \"#9c179e\"], [0.4444444444444444, \"#bd3786\"], [0.5555555555555556, \"#d8576b\"], [0.6666666666666666, \"#ed7953\"], [0.7777777777777778, \"#fb9f3a\"], [0.8888888888888888, \"#fdca26\"], [1.0, \"#f0f921\"]], \"type\": \"heatmapgl\"}], \"histogram\": [{\"marker\": {\"colorbar\": {\"outlinewidth\": 0, \"ticks\": \"\"}}, \"type\": \"histogram\"}], \"histogram2d\": [{\"colorbar\": {\"outlinewidth\": 0, \"ticks\": \"\"}, \"colorscale\": [[0.0, \"#0d0887\"], [0.1111111111111111, \"#46039f\"], [0.2222222222222222, \"#7201a8\"], [0.3333333333333333, \"#9c179e\"], [0.4444444444444444, \"#bd3786\"], [0.5555555555555556, \"#d8576b\"], [0.6666666666666666, \"#ed7953\"], [0.7777777777777778, \"#fb9f3a\"], [0.8888888888888888, \"#fdca26\"], [1.0, \"#f0f921\"]], \"type\": \"histogram2d\"}], \"histogram2dcontour\": [{\"colorbar\": {\"outlinewidth\": 0, \"ticks\": \"\"}, \"colorscale\": [[0.0, \"#0d0887\"], [0.1111111111111111, \"#46039f\"], [0.2222222222222222, \"#7201a8\"], [0.3333333333333333, \"#9c179e\"], [0.4444444444444444, \"#bd3786\"], [0.5555555555555556, \"#d8576b\"], [0.6666666666666666, \"#ed7953\"], [0.7777777777777778, \"#fb9f3a\"], [0.8888888888888888, \"#fdca26\"], [1.0, \"#f0f921\"]], \"type\": \"histogram2dcontour\"}], \"mesh3d\": [{\"colorbar\": {\"outlinewidth\": 0, \"ticks\": \"\"}, \"type\": \"mesh3d\"}], \"parcoords\": [{\"line\": {\"colorbar\": {\"outlinewidth\": 0, \"ticks\": \"\"}}, \"type\": \"parcoords\"}], \"pie\": [{\"automargin\": true, \"type\": \"pie\"}], \"scatter\": [{\"marker\": {\"colorbar\": {\"outlinewidth\": 0, \"ticks\": \"\"}}, \"type\": \"scatter\"}], \"scatter3d\": [{\"line\": {\"colorbar\": {\"outlinewidth\": 0, \"ticks\": \"\"}}, \"marker\": {\"colorbar\": {\"outlinewidth\": 0, \"ticks\": \"\"}}, \"type\": \"scatter3d\"}], \"scattercarpet\": [{\"marker\": {\"colorbar\": {\"outlinewidth\": 0, \"ticks\": \"\"}}, \"type\": \"scattercarpet\"}], \"scattergeo\": [{\"marker\": {\"colorbar\": {\"outlinewidth\": 0, \"ticks\": \"\"}}, \"type\": \"scattergeo\"}], \"scattergl\": [{\"marker\": {\"colorbar\": {\"outlinewidth\": 0, \"ticks\": \"\"}}, \"type\": \"scattergl\"}], \"scattermapbox\": [{\"marker\": {\"colorbar\": {\"outlinewidth\": 0, \"ticks\": \"\"}}, \"type\": \"scattermapbox\"}], \"scatterpolar\": [{\"marker\": {\"colorbar\": {\"outlinewidth\": 0, \"ticks\": \"\"}}, \"type\": \"scatterpolar\"}], \"scatterpolargl\": [{\"marker\": {\"colorbar\": {\"outlinewidth\": 0, \"ticks\": \"\"}}, \"type\": \"scatterpolargl\"}], \"scatterternary\": [{\"marker\": {\"colorbar\": {\"outlinewidth\": 0, \"ticks\": \"\"}}, \"type\": \"scatterternary\"}], \"surface\": [{\"colorbar\": {\"outlinewidth\": 0, \"ticks\": \"\"}, \"colorscale\": [[0.0, \"#0d0887\"], [0.1111111111111111, \"#46039f\"], [0.2222222222222222, \"#7201a8\"], [0.3333333333333333, \"#9c179e\"], [0.4444444444444444, \"#bd3786\"], [0.5555555555555556, \"#d8576b\"], [0.6666666666666666, \"#ed7953\"], [0.7777777777777778, \"#fb9f3a\"], [0.8888888888888888, \"#fdca26\"], [1.0, \"#f0f921\"]], \"type\": \"surface\"}], \"table\": [{\"cells\": {\"fill\": {\"color\": \"#EBF0F8\"}, \"line\": {\"color\": \"white\"}}, \"header\": {\"fill\": {\"color\": \"#C8D4E3\"}, \"line\": {\"color\": \"white\"}}, \"type\": \"table\"}]}, \"layout\": {\"annotationdefaults\": {\"arrowcolor\": \"#2a3f5f\", \"arrowhead\": 0, \"arrowwidth\": 1}, \"coloraxis\": {\"colorbar\": {\"outlinewidth\": 0, \"ticks\": \"\"}}, \"colorscale\": {\"diverging\": [[0, \"#8e0152\"], [0.1, \"#c51b7d\"], [0.2, \"#de77ae\"], [0.3, \"#f1b6da\"], [0.4, \"#fde0ef\"], [0.5, \"#f7f7f7\"], [0.6, \"#e6f5d0\"], [0.7, \"#b8e186\"], [0.8, \"#7fbc41\"], [0.9, \"#4d9221\"], [1, \"#276419\"]], \"sequential\": [[0.0, \"#0d0887\"], [0.1111111111111111, \"#46039f\"], [0.2222222222222222, \"#7201a8\"], [0.3333333333333333, \"#9c179e\"], [0.4444444444444444, \"#bd3786\"], [0.5555555555555556, \"#d8576b\"], [0.6666666666666666, \"#ed7953\"], [0.7777777777777778, \"#fb9f3a\"], [0.8888888888888888, \"#fdca26\"], [1.0, \"#f0f921\"]], \"sequentialminus\": [[0.0, \"#0d0887\"], [0.1111111111111111, \"#46039f\"], [0.2222222222222222, \"#7201a8\"], [0.3333333333333333, \"#9c179e\"], [0.4444444444444444, \"#bd3786\"], [0.5555555555555556, \"#d8576b\"], [0.6666666666666666, \"#ed7953\"], [0.7777777777777778, \"#fb9f3a\"], [0.8888888888888888, \"#fdca26\"], [1.0, \"#f0f921\"]]}, \"colorway\": [\"#636efa\", \"#EF553B\", \"#00cc96\", \"#ab63fa\", \"#FFA15A\", \"#19d3f3\", \"#FF6692\", \"#B6E880\", \"#FF97FF\", \"#FECB52\"], \"font\": {\"color\": \"#2a3f5f\"}, \"geo\": {\"bgcolor\": \"white\", \"lakecolor\": \"white\", \"landcolor\": \"#E5ECF6\", \"showlakes\": true, \"showland\": true, \"subunitcolor\": \"white\"}, \"hoverlabel\": {\"align\": \"left\"}, \"hovermode\": \"closest\", \"mapbox\": {\"style\": \"light\"}, \"paper_bgcolor\": \"white\", \"plot_bgcolor\": \"#E5ECF6\", \"polar\": {\"angularaxis\": {\"gridcolor\": \"white\", \"linecolor\": \"white\", \"ticks\": \"\"}, \"bgcolor\": \"#E5ECF6\", \"radialaxis\": {\"gridcolor\": \"white\", \"linecolor\": \"white\", \"ticks\": \"\"}}, \"scene\": {\"xaxis\": {\"backgroundcolor\": \"#E5ECF6\", \"gridcolor\": \"white\", \"gridwidth\": 2, \"linecolor\": \"white\", \"showbackground\": true, \"ticks\": \"\", \"zerolinecolor\": \"white\"}, \"yaxis\": {\"backgroundcolor\": \"#E5ECF6\", \"gridcolor\": \"white\", \"gridwidth\": 2, \"linecolor\": \"white\", \"showbackground\": true, \"ticks\": \"\", \"zerolinecolor\": \"white\"}, \"zaxis\": {\"backgroundcolor\": \"#E5ECF6\", \"gridcolor\": \"white\", \"gridwidth\": 2, \"linecolor\": \"white\", \"showbackground\": true, \"ticks\": \"\", \"zerolinecolor\": \"white\"}}, \"shapedefaults\": {\"line\": {\"color\": \"#2a3f5f\"}}, \"ternary\": {\"aaxis\": {\"gridcolor\": \"white\", \"linecolor\": \"white\", \"ticks\": \"\"}, \"baxis\": {\"gridcolor\": \"white\", \"linecolor\": \"white\", \"ticks\": \"\"}, \"bgcolor\": \"#E5ECF6\", \"caxis\": {\"gridcolor\": \"white\", \"linecolor\": \"white\", \"ticks\": \"\"}}, \"title\": {\"x\": 0.05}, \"xaxis\": {\"automargin\": true, \"gridcolor\": \"white\", \"linecolor\": \"white\", \"ticks\": \"\", \"title\": {\"standoff\": 15}, \"zerolinecolor\": \"white\", \"zerolinewidth\": 2}, \"yaxis\": {\"automargin\": true, \"gridcolor\": \"white\", \"linecolor\": \"white\", \"ticks\": \"\", \"title\": {\"standoff\": 15}, \"zerolinecolor\": \"white\", \"zerolinewidth\": 2}}}, \"xaxis\": {\"anchor\": \"y\", \"categoryarray\": [\"PG\", \"TAG\"], \"categoryorder\": \"array\", \"domain\": [0.0, 1.0], \"title\": {\"text\": \"Class\"}}, \"yaxis\": {\"anchor\": \"x\", \"domain\": [0.0, 1.0], \"title\": {\"text\": \"Intensity\"}}},                        {\"responsive\": true}                    ).then(function(){\n",
       "                            \n",
       "var gd = document.getElementById('52c2b124-6851-4d98-9e64-61de858b6601');\n",
       "var x = new MutationObserver(function (mutations, observer) {{\n",
       "        var display = window.getComputedStyle(gd).display;\n",
       "        if (!display || display === 'none') {{\n",
       "            console.log([gd, 'removed!']);\n",
       "            Plotly.purge(gd);\n",
       "            observer.disconnect();\n",
       "        }}\n",
       "}});\n",
       "\n",
       "// Listen for the removal of the full notebook cells\n",
       "var notebookContainer = gd.closest('#notebook-container');\n",
       "if (notebookContainer) {{\n",
       "    x.observe(notebookContainer, {childList: true});\n",
       "}}\n",
       "\n",
       "// Listen for the clearing of the current output cell\n",
       "var outputEl = gd.closest('.output');\n",
       "if (outputEl) {{\n",
       "    x.observe(outputEl, {childList: true});\n",
       "}}\n",
       "\n",
       "                        })                };                });            </script>        </div>"
      ]
     },
     "metadata": {},
     "output_type": "display_data"
    },
    {
     "data": {
      "application/vnd.plotly.v1+json": {
       "config": {
        "plotlyServerURL": "https://plot.ly"
       },
       "data": [
        {
         "domain": {
          "x": [
           0,
           1
          ],
          "y": [
           0,
           1
          ]
         },
         "hovertemplate": "Class=%{label}<br>Intensity=%{value}<extra></extra>",
         "labels": [
          "PG",
          "PG",
          "PG",
          "PG",
          "PG",
          "PG",
          "PG",
          "PG",
          "PG",
          "PG",
          "PG",
          "TAG",
          "TAG",
          "TAG",
          "TAG",
          "TAG",
          "TAG",
          "TAG",
          "TAG",
          "TAG",
          "TAG",
          "TAG",
          "TAG"
         ],
         "legendgroup": "",
         "name": "",
         "showlegend": true,
         "type": "pie",
         "values": [
          3508930.004333496,
          4454522.478515625,
          3342623.2351989746,
          3270586.690460205,
          2358947.4252929688,
          2304902.763244629,
          3260273.4930114746,
          6129489.851623535,
          2584182.920562744,
          3311812.273864746,
          4324463.707824707,
          2147588.99118042,
          2077466.9470214844,
          3446471.8658447266,
          3569656.2090759277,
          20658623.729888916,
          26769009.46435547,
          4333085.702453613,
          3145901.463317871,
          12535827.163513184,
          14229465.170547485,
          34867382.11654663,
          12858486.61076355
         ]
        }
       ],
       "layout": {
        "legend": {
         "tracegroupgap": 0
        },
        "template": {
         "data": {
          "bar": [
           {
            "error_x": {
             "color": "#2a3f5f"
            },
            "error_y": {
             "color": "#2a3f5f"
            },
            "marker": {
             "line": {
              "color": "#E5ECF6",
              "width": 0.5
             }
            },
            "type": "bar"
           }
          ],
          "barpolar": [
           {
            "marker": {
             "line": {
              "color": "#E5ECF6",
              "width": 0.5
             }
            },
            "type": "barpolar"
           }
          ],
          "carpet": [
           {
            "aaxis": {
             "endlinecolor": "#2a3f5f",
             "gridcolor": "white",
             "linecolor": "white",
             "minorgridcolor": "white",
             "startlinecolor": "#2a3f5f"
            },
            "baxis": {
             "endlinecolor": "#2a3f5f",
             "gridcolor": "white",
             "linecolor": "white",
             "minorgridcolor": "white",
             "startlinecolor": "#2a3f5f"
            },
            "type": "carpet"
           }
          ],
          "choropleth": [
           {
            "colorbar": {
             "outlinewidth": 0,
             "ticks": ""
            },
            "type": "choropleth"
           }
          ],
          "contour": [
           {
            "colorbar": {
             "outlinewidth": 0,
             "ticks": ""
            },
            "colorscale": [
             [
              0,
              "#0d0887"
             ],
             [
              0.1111111111111111,
              "#46039f"
             ],
             [
              0.2222222222222222,
              "#7201a8"
             ],
             [
              0.3333333333333333,
              "#9c179e"
             ],
             [
              0.4444444444444444,
              "#bd3786"
             ],
             [
              0.5555555555555556,
              "#d8576b"
             ],
             [
              0.6666666666666666,
              "#ed7953"
             ],
             [
              0.7777777777777778,
              "#fb9f3a"
             ],
             [
              0.8888888888888888,
              "#fdca26"
             ],
             [
              1,
              "#f0f921"
             ]
            ],
            "type": "contour"
           }
          ],
          "contourcarpet": [
           {
            "colorbar": {
             "outlinewidth": 0,
             "ticks": ""
            },
            "type": "contourcarpet"
           }
          ],
          "heatmap": [
           {
            "colorbar": {
             "outlinewidth": 0,
             "ticks": ""
            },
            "colorscale": [
             [
              0,
              "#0d0887"
             ],
             [
              0.1111111111111111,
              "#46039f"
             ],
             [
              0.2222222222222222,
              "#7201a8"
             ],
             [
              0.3333333333333333,
              "#9c179e"
             ],
             [
              0.4444444444444444,
              "#bd3786"
             ],
             [
              0.5555555555555556,
              "#d8576b"
             ],
             [
              0.6666666666666666,
              "#ed7953"
             ],
             [
              0.7777777777777778,
              "#fb9f3a"
             ],
             [
              0.8888888888888888,
              "#fdca26"
             ],
             [
              1,
              "#f0f921"
             ]
            ],
            "type": "heatmap"
           }
          ],
          "heatmapgl": [
           {
            "colorbar": {
             "outlinewidth": 0,
             "ticks": ""
            },
            "colorscale": [
             [
              0,
              "#0d0887"
             ],
             [
              0.1111111111111111,
              "#46039f"
             ],
             [
              0.2222222222222222,
              "#7201a8"
             ],
             [
              0.3333333333333333,
              "#9c179e"
             ],
             [
              0.4444444444444444,
              "#bd3786"
             ],
             [
              0.5555555555555556,
              "#d8576b"
             ],
             [
              0.6666666666666666,
              "#ed7953"
             ],
             [
              0.7777777777777778,
              "#fb9f3a"
             ],
             [
              0.8888888888888888,
              "#fdca26"
             ],
             [
              1,
              "#f0f921"
             ]
            ],
            "type": "heatmapgl"
           }
          ],
          "histogram": [
           {
            "marker": {
             "colorbar": {
              "outlinewidth": 0,
              "ticks": ""
             }
            },
            "type": "histogram"
           }
          ],
          "histogram2d": [
           {
            "colorbar": {
             "outlinewidth": 0,
             "ticks": ""
            },
            "colorscale": [
             [
              0,
              "#0d0887"
             ],
             [
              0.1111111111111111,
              "#46039f"
             ],
             [
              0.2222222222222222,
              "#7201a8"
             ],
             [
              0.3333333333333333,
              "#9c179e"
             ],
             [
              0.4444444444444444,
              "#bd3786"
             ],
             [
              0.5555555555555556,
              "#d8576b"
             ],
             [
              0.6666666666666666,
              "#ed7953"
             ],
             [
              0.7777777777777778,
              "#fb9f3a"
             ],
             [
              0.8888888888888888,
              "#fdca26"
             ],
             [
              1,
              "#f0f921"
             ]
            ],
            "type": "histogram2d"
           }
          ],
          "histogram2dcontour": [
           {
            "colorbar": {
             "outlinewidth": 0,
             "ticks": ""
            },
            "colorscale": [
             [
              0,
              "#0d0887"
             ],
             [
              0.1111111111111111,
              "#46039f"
             ],
             [
              0.2222222222222222,
              "#7201a8"
             ],
             [
              0.3333333333333333,
              "#9c179e"
             ],
             [
              0.4444444444444444,
              "#bd3786"
             ],
             [
              0.5555555555555556,
              "#d8576b"
             ],
             [
              0.6666666666666666,
              "#ed7953"
             ],
             [
              0.7777777777777778,
              "#fb9f3a"
             ],
             [
              0.8888888888888888,
              "#fdca26"
             ],
             [
              1,
              "#f0f921"
             ]
            ],
            "type": "histogram2dcontour"
           }
          ],
          "mesh3d": [
           {
            "colorbar": {
             "outlinewidth": 0,
             "ticks": ""
            },
            "type": "mesh3d"
           }
          ],
          "parcoords": [
           {
            "line": {
             "colorbar": {
              "outlinewidth": 0,
              "ticks": ""
             }
            },
            "type": "parcoords"
           }
          ],
          "pie": [
           {
            "automargin": true,
            "type": "pie"
           }
          ],
          "scatter": [
           {
            "marker": {
             "colorbar": {
              "outlinewidth": 0,
              "ticks": ""
             }
            },
            "type": "scatter"
           }
          ],
          "scatter3d": [
           {
            "line": {
             "colorbar": {
              "outlinewidth": 0,
              "ticks": ""
             }
            },
            "marker": {
             "colorbar": {
              "outlinewidth": 0,
              "ticks": ""
             }
            },
            "type": "scatter3d"
           }
          ],
          "scattercarpet": [
           {
            "marker": {
             "colorbar": {
              "outlinewidth": 0,
              "ticks": ""
             }
            },
            "type": "scattercarpet"
           }
          ],
          "scattergeo": [
           {
            "marker": {
             "colorbar": {
              "outlinewidth": 0,
              "ticks": ""
             }
            },
            "type": "scattergeo"
           }
          ],
          "scattergl": [
           {
            "marker": {
             "colorbar": {
              "outlinewidth": 0,
              "ticks": ""
             }
            },
            "type": "scattergl"
           }
          ],
          "scattermapbox": [
           {
            "marker": {
             "colorbar": {
              "outlinewidth": 0,
              "ticks": ""
             }
            },
            "type": "scattermapbox"
           }
          ],
          "scatterpolar": [
           {
            "marker": {
             "colorbar": {
              "outlinewidth": 0,
              "ticks": ""
             }
            },
            "type": "scatterpolar"
           }
          ],
          "scatterpolargl": [
           {
            "marker": {
             "colorbar": {
              "outlinewidth": 0,
              "ticks": ""
             }
            },
            "type": "scatterpolargl"
           }
          ],
          "scatterternary": [
           {
            "marker": {
             "colorbar": {
              "outlinewidth": 0,
              "ticks": ""
             }
            },
            "type": "scatterternary"
           }
          ],
          "surface": [
           {
            "colorbar": {
             "outlinewidth": 0,
             "ticks": ""
            },
            "colorscale": [
             [
              0,
              "#0d0887"
             ],
             [
              0.1111111111111111,
              "#46039f"
             ],
             [
              0.2222222222222222,
              "#7201a8"
             ],
             [
              0.3333333333333333,
              "#9c179e"
             ],
             [
              0.4444444444444444,
              "#bd3786"
             ],
             [
              0.5555555555555556,
              "#d8576b"
             ],
             [
              0.6666666666666666,
              "#ed7953"
             ],
             [
              0.7777777777777778,
              "#fb9f3a"
             ],
             [
              0.8888888888888888,
              "#fdca26"
             ],
             [
              1,
              "#f0f921"
             ]
            ],
            "type": "surface"
           }
          ],
          "table": [
           {
            "cells": {
             "fill": {
              "color": "#EBF0F8"
             },
             "line": {
              "color": "white"
             }
            },
            "header": {
             "fill": {
              "color": "#C8D4E3"
             },
             "line": {
              "color": "white"
             }
            },
            "type": "table"
           }
          ]
         },
         "layout": {
          "annotationdefaults": {
           "arrowcolor": "#2a3f5f",
           "arrowhead": 0,
           "arrowwidth": 1
          },
          "coloraxis": {
           "colorbar": {
            "outlinewidth": 0,
            "ticks": ""
           }
          },
          "colorscale": {
           "diverging": [
            [
             0,
             "#8e0152"
            ],
            [
             0.1,
             "#c51b7d"
            ],
            [
             0.2,
             "#de77ae"
            ],
            [
             0.3,
             "#f1b6da"
            ],
            [
             0.4,
             "#fde0ef"
            ],
            [
             0.5,
             "#f7f7f7"
            ],
            [
             0.6,
             "#e6f5d0"
            ],
            [
             0.7,
             "#b8e186"
            ],
            [
             0.8,
             "#7fbc41"
            ],
            [
             0.9,
             "#4d9221"
            ],
            [
             1,
             "#276419"
            ]
           ],
           "sequential": [
            [
             0,
             "#0d0887"
            ],
            [
             0.1111111111111111,
             "#46039f"
            ],
            [
             0.2222222222222222,
             "#7201a8"
            ],
            [
             0.3333333333333333,
             "#9c179e"
            ],
            [
             0.4444444444444444,
             "#bd3786"
            ],
            [
             0.5555555555555556,
             "#d8576b"
            ],
            [
             0.6666666666666666,
             "#ed7953"
            ],
            [
             0.7777777777777778,
             "#fb9f3a"
            ],
            [
             0.8888888888888888,
             "#fdca26"
            ],
            [
             1,
             "#f0f921"
            ]
           ],
           "sequentialminus": [
            [
             0,
             "#0d0887"
            ],
            [
             0.1111111111111111,
             "#46039f"
            ],
            [
             0.2222222222222222,
             "#7201a8"
            ],
            [
             0.3333333333333333,
             "#9c179e"
            ],
            [
             0.4444444444444444,
             "#bd3786"
            ],
            [
             0.5555555555555556,
             "#d8576b"
            ],
            [
             0.6666666666666666,
             "#ed7953"
            ],
            [
             0.7777777777777778,
             "#fb9f3a"
            ],
            [
             0.8888888888888888,
             "#fdca26"
            ],
            [
             1,
             "#f0f921"
            ]
           ]
          },
          "colorway": [
           "#636efa",
           "#EF553B",
           "#00cc96",
           "#ab63fa",
           "#FFA15A",
           "#19d3f3",
           "#FF6692",
           "#B6E880",
           "#FF97FF",
           "#FECB52"
          ],
          "font": {
           "color": "#2a3f5f"
          },
          "geo": {
           "bgcolor": "white",
           "lakecolor": "white",
           "landcolor": "#E5ECF6",
           "showlakes": true,
           "showland": true,
           "subunitcolor": "white"
          },
          "hoverlabel": {
           "align": "left"
          },
          "hovermode": "closest",
          "mapbox": {
           "style": "light"
          },
          "paper_bgcolor": "white",
          "plot_bgcolor": "#E5ECF6",
          "polar": {
           "angularaxis": {
            "gridcolor": "white",
            "linecolor": "white",
            "ticks": ""
           },
           "bgcolor": "#E5ECF6",
           "radialaxis": {
            "gridcolor": "white",
            "linecolor": "white",
            "ticks": ""
           }
          },
          "scene": {
           "xaxis": {
            "backgroundcolor": "#E5ECF6",
            "gridcolor": "white",
            "gridwidth": 2,
            "linecolor": "white",
            "showbackground": true,
            "ticks": "",
            "zerolinecolor": "white"
           },
           "yaxis": {
            "backgroundcolor": "#E5ECF6",
            "gridcolor": "white",
            "gridwidth": 2,
            "linecolor": "white",
            "showbackground": true,
            "ticks": "",
            "zerolinecolor": "white"
           },
           "zaxis": {
            "backgroundcolor": "#E5ECF6",
            "gridcolor": "white",
            "gridwidth": 2,
            "linecolor": "white",
            "showbackground": true,
            "ticks": "",
            "zerolinecolor": "white"
           }
          },
          "shapedefaults": {
           "line": {
            "color": "#2a3f5f"
           }
          },
          "ternary": {
           "aaxis": {
            "gridcolor": "white",
            "linecolor": "white",
            "ticks": ""
           },
           "baxis": {
            "gridcolor": "white",
            "linecolor": "white",
            "ticks": ""
           },
           "bgcolor": "#E5ECF6",
           "caxis": {
            "gridcolor": "white",
            "linecolor": "white",
            "ticks": ""
           }
          },
          "title": {
           "x": 0.05
          },
          "xaxis": {
           "automargin": true,
           "gridcolor": "white",
           "linecolor": "white",
           "ticks": "",
           "title": {
            "standoff": 15
           },
           "zerolinecolor": "white",
           "zerolinewidth": 2
          },
          "yaxis": {
           "automargin": true,
           "gridcolor": "white",
           "linecolor": "white",
           "ticks": "",
           "title": {
            "standoff": 15
           },
           "zerolinecolor": "white",
           "zerolinewidth": 2
          }
         }
        },
        "title": {
         "text": "Lipid Class"
        }
       }
      },
      "text/html": [
       "<div>                            <div id=\"c335b95d-c76a-46c7-acc5-f2e3d1346344\" class=\"plotly-graph-div\" style=\"height:525px; width:100%;\"></div>            <script type=\"text/javascript\">                require([\"plotly\"], function(Plotly) {                    window.PLOTLYENV=window.PLOTLYENV || {};                                    if (document.getElementById(\"c335b95d-c76a-46c7-acc5-f2e3d1346344\")) {                    Plotly.newPlot(                        \"c335b95d-c76a-46c7-acc5-f2e3d1346344\",                        [{\"domain\": {\"x\": [0.0, 1.0], \"y\": [0.0, 1.0]}, \"hovertemplate\": \"Class=%{label}<br>Intensity=%{value}<extra></extra>\", \"labels\": [\"PG\", \"PG\", \"PG\", \"PG\", \"PG\", \"PG\", \"PG\", \"PG\", \"PG\", \"PG\", \"PG\", \"TAG\", \"TAG\", \"TAG\", \"TAG\", \"TAG\", \"TAG\", \"TAG\", \"TAG\", \"TAG\", \"TAG\", \"TAG\", \"TAG\"], \"legendgroup\": \"\", \"name\": \"\", \"showlegend\": true, \"type\": \"pie\", \"values\": [3508930.004333496, 4454522.478515625, 3342623.2351989746, 3270586.690460205, 2358947.4252929688, 2304902.763244629, 3260273.4930114746, 6129489.851623535, 2584182.920562744, 3311812.273864746, 4324463.707824707, 2147588.99118042, 2077466.9470214844, 3446471.8658447266, 3569656.2090759277, 20658623.729888916, 26769009.46435547, 4333085.702453613, 3145901.463317871, 12535827.163513184, 14229465.170547485, 34867382.11654663, 12858486.61076355]}],                        {\"legend\": {\"tracegroupgap\": 0}, \"template\": {\"data\": {\"bar\": [{\"error_x\": {\"color\": \"#2a3f5f\"}, \"error_y\": {\"color\": \"#2a3f5f\"}, \"marker\": {\"line\": {\"color\": \"#E5ECF6\", \"width\": 0.5}}, \"type\": \"bar\"}], \"barpolar\": [{\"marker\": {\"line\": {\"color\": \"#E5ECF6\", \"width\": 0.5}}, \"type\": \"barpolar\"}], \"carpet\": [{\"aaxis\": {\"endlinecolor\": \"#2a3f5f\", \"gridcolor\": \"white\", \"linecolor\": \"white\", \"minorgridcolor\": \"white\", \"startlinecolor\": \"#2a3f5f\"}, \"baxis\": {\"endlinecolor\": \"#2a3f5f\", \"gridcolor\": \"white\", \"linecolor\": \"white\", \"minorgridcolor\": \"white\", \"startlinecolor\": \"#2a3f5f\"}, \"type\": \"carpet\"}], \"choropleth\": [{\"colorbar\": {\"outlinewidth\": 0, \"ticks\": \"\"}, \"type\": \"choropleth\"}], \"contour\": [{\"colorbar\": {\"outlinewidth\": 0, \"ticks\": \"\"}, \"colorscale\": [[0.0, \"#0d0887\"], [0.1111111111111111, \"#46039f\"], [0.2222222222222222, \"#7201a8\"], [0.3333333333333333, \"#9c179e\"], [0.4444444444444444, \"#bd3786\"], [0.5555555555555556, \"#d8576b\"], [0.6666666666666666, \"#ed7953\"], [0.7777777777777778, \"#fb9f3a\"], [0.8888888888888888, \"#fdca26\"], [1.0, \"#f0f921\"]], \"type\": \"contour\"}], \"contourcarpet\": [{\"colorbar\": {\"outlinewidth\": 0, \"ticks\": \"\"}, \"type\": \"contourcarpet\"}], \"heatmap\": [{\"colorbar\": {\"outlinewidth\": 0, \"ticks\": \"\"}, \"colorscale\": [[0.0, \"#0d0887\"], [0.1111111111111111, \"#46039f\"], [0.2222222222222222, \"#7201a8\"], [0.3333333333333333, \"#9c179e\"], [0.4444444444444444, \"#bd3786\"], [0.5555555555555556, \"#d8576b\"], [0.6666666666666666, \"#ed7953\"], [0.7777777777777778, \"#fb9f3a\"], [0.8888888888888888, \"#fdca26\"], [1.0, \"#f0f921\"]], \"type\": \"heatmap\"}], \"heatmapgl\": [{\"colorbar\": {\"outlinewidth\": 0, \"ticks\": \"\"}, \"colorscale\": [[0.0, \"#0d0887\"], [0.1111111111111111, \"#46039f\"], [0.2222222222222222, \"#7201a8\"], [0.3333333333333333, \"#9c179e\"], [0.4444444444444444, \"#bd3786\"], [0.5555555555555556, \"#d8576b\"], [0.6666666666666666, \"#ed7953\"], [0.7777777777777778, \"#fb9f3a\"], [0.8888888888888888, \"#fdca26\"], [1.0, \"#f0f921\"]], \"type\": \"heatmapgl\"}], \"histogram\": [{\"marker\": {\"colorbar\": {\"outlinewidth\": 0, \"ticks\": \"\"}}, \"type\": \"histogram\"}], \"histogram2d\": [{\"colorbar\": {\"outlinewidth\": 0, \"ticks\": \"\"}, \"colorscale\": [[0.0, \"#0d0887\"], [0.1111111111111111, \"#46039f\"], [0.2222222222222222, \"#7201a8\"], [0.3333333333333333, \"#9c179e\"], [0.4444444444444444, \"#bd3786\"], [0.5555555555555556, \"#d8576b\"], [0.6666666666666666, \"#ed7953\"], [0.7777777777777778, \"#fb9f3a\"], [0.8888888888888888, \"#fdca26\"], [1.0, \"#f0f921\"]], \"type\": \"histogram2d\"}], \"histogram2dcontour\": [{\"colorbar\": {\"outlinewidth\": 0, \"ticks\": \"\"}, \"colorscale\": [[0.0, \"#0d0887\"], [0.1111111111111111, \"#46039f\"], [0.2222222222222222, \"#7201a8\"], [0.3333333333333333, \"#9c179e\"], [0.4444444444444444, \"#bd3786\"], [0.5555555555555556, \"#d8576b\"], [0.6666666666666666, \"#ed7953\"], [0.7777777777777778, \"#fb9f3a\"], [0.8888888888888888, \"#fdca26\"], [1.0, \"#f0f921\"]], \"type\": \"histogram2dcontour\"}], \"mesh3d\": [{\"colorbar\": {\"outlinewidth\": 0, \"ticks\": \"\"}, \"type\": \"mesh3d\"}], \"parcoords\": [{\"line\": {\"colorbar\": {\"outlinewidth\": 0, \"ticks\": \"\"}}, \"type\": \"parcoords\"}], \"pie\": [{\"automargin\": true, \"type\": \"pie\"}], \"scatter\": [{\"marker\": {\"colorbar\": {\"outlinewidth\": 0, \"ticks\": \"\"}}, \"type\": \"scatter\"}], \"scatter3d\": [{\"line\": {\"colorbar\": {\"outlinewidth\": 0, \"ticks\": \"\"}}, \"marker\": {\"colorbar\": {\"outlinewidth\": 0, \"ticks\": \"\"}}, \"type\": \"scatter3d\"}], \"scattercarpet\": [{\"marker\": {\"colorbar\": {\"outlinewidth\": 0, \"ticks\": \"\"}}, \"type\": \"scattercarpet\"}], \"scattergeo\": [{\"marker\": {\"colorbar\": {\"outlinewidth\": 0, \"ticks\": \"\"}}, \"type\": \"scattergeo\"}], \"scattergl\": [{\"marker\": {\"colorbar\": {\"outlinewidth\": 0, \"ticks\": \"\"}}, \"type\": \"scattergl\"}], \"scattermapbox\": [{\"marker\": {\"colorbar\": {\"outlinewidth\": 0, \"ticks\": \"\"}}, \"type\": \"scattermapbox\"}], \"scatterpolar\": [{\"marker\": {\"colorbar\": {\"outlinewidth\": 0, \"ticks\": \"\"}}, \"type\": \"scatterpolar\"}], \"scatterpolargl\": [{\"marker\": {\"colorbar\": {\"outlinewidth\": 0, \"ticks\": \"\"}}, \"type\": \"scatterpolargl\"}], \"scatterternary\": [{\"marker\": {\"colorbar\": {\"outlinewidth\": 0, \"ticks\": \"\"}}, \"type\": \"scatterternary\"}], \"surface\": [{\"colorbar\": {\"outlinewidth\": 0, \"ticks\": \"\"}, \"colorscale\": [[0.0, \"#0d0887\"], [0.1111111111111111, \"#46039f\"], [0.2222222222222222, \"#7201a8\"], [0.3333333333333333, \"#9c179e\"], [0.4444444444444444, \"#bd3786\"], [0.5555555555555556, \"#d8576b\"], [0.6666666666666666, \"#ed7953\"], [0.7777777777777778, \"#fb9f3a\"], [0.8888888888888888, \"#fdca26\"], [1.0, \"#f0f921\"]], \"type\": \"surface\"}], \"table\": [{\"cells\": {\"fill\": {\"color\": \"#EBF0F8\"}, \"line\": {\"color\": \"white\"}}, \"header\": {\"fill\": {\"color\": \"#C8D4E3\"}, \"line\": {\"color\": \"white\"}}, \"type\": \"table\"}]}, \"layout\": {\"annotationdefaults\": {\"arrowcolor\": \"#2a3f5f\", \"arrowhead\": 0, \"arrowwidth\": 1}, \"coloraxis\": {\"colorbar\": {\"outlinewidth\": 0, \"ticks\": \"\"}}, \"colorscale\": {\"diverging\": [[0, \"#8e0152\"], [0.1, \"#c51b7d\"], [0.2, \"#de77ae\"], [0.3, \"#f1b6da\"], [0.4, \"#fde0ef\"], [0.5, \"#f7f7f7\"], [0.6, \"#e6f5d0\"], [0.7, \"#b8e186\"], [0.8, \"#7fbc41\"], [0.9, \"#4d9221\"], [1, \"#276419\"]], \"sequential\": [[0.0, \"#0d0887\"], [0.1111111111111111, \"#46039f\"], [0.2222222222222222, \"#7201a8\"], [0.3333333333333333, \"#9c179e\"], [0.4444444444444444, \"#bd3786\"], [0.5555555555555556, \"#d8576b\"], [0.6666666666666666, \"#ed7953\"], [0.7777777777777778, \"#fb9f3a\"], [0.8888888888888888, \"#fdca26\"], [1.0, \"#f0f921\"]], \"sequentialminus\": [[0.0, \"#0d0887\"], [0.1111111111111111, \"#46039f\"], [0.2222222222222222, \"#7201a8\"], [0.3333333333333333, \"#9c179e\"], [0.4444444444444444, \"#bd3786\"], [0.5555555555555556, \"#d8576b\"], [0.6666666666666666, \"#ed7953\"], [0.7777777777777778, \"#fb9f3a\"], [0.8888888888888888, \"#fdca26\"], [1.0, \"#f0f921\"]]}, \"colorway\": [\"#636efa\", \"#EF553B\", \"#00cc96\", \"#ab63fa\", \"#FFA15A\", \"#19d3f3\", \"#FF6692\", \"#B6E880\", \"#FF97FF\", \"#FECB52\"], \"font\": {\"color\": \"#2a3f5f\"}, \"geo\": {\"bgcolor\": \"white\", \"lakecolor\": \"white\", \"landcolor\": \"#E5ECF6\", \"showlakes\": true, \"showland\": true, \"subunitcolor\": \"white\"}, \"hoverlabel\": {\"align\": \"left\"}, \"hovermode\": \"closest\", \"mapbox\": {\"style\": \"light\"}, \"paper_bgcolor\": \"white\", \"plot_bgcolor\": \"#E5ECF6\", \"polar\": {\"angularaxis\": {\"gridcolor\": \"white\", \"linecolor\": \"white\", \"ticks\": \"\"}, \"bgcolor\": \"#E5ECF6\", \"radialaxis\": {\"gridcolor\": \"white\", \"linecolor\": \"white\", \"ticks\": \"\"}}, \"scene\": {\"xaxis\": {\"backgroundcolor\": \"#E5ECF6\", \"gridcolor\": \"white\", \"gridwidth\": 2, \"linecolor\": \"white\", \"showbackground\": true, \"ticks\": \"\", \"zerolinecolor\": \"white\"}, \"yaxis\": {\"backgroundcolor\": \"#E5ECF6\", \"gridcolor\": \"white\", \"gridwidth\": 2, \"linecolor\": \"white\", \"showbackground\": true, \"ticks\": \"\", \"zerolinecolor\": \"white\"}, \"zaxis\": {\"backgroundcolor\": \"#E5ECF6\", \"gridcolor\": \"white\", \"gridwidth\": 2, \"linecolor\": \"white\", \"showbackground\": true, \"ticks\": \"\", \"zerolinecolor\": \"white\"}}, \"shapedefaults\": {\"line\": {\"color\": \"#2a3f5f\"}}, \"ternary\": {\"aaxis\": {\"gridcolor\": \"white\", \"linecolor\": \"white\", \"ticks\": \"\"}, \"baxis\": {\"gridcolor\": \"white\", \"linecolor\": \"white\", \"ticks\": \"\"}, \"bgcolor\": \"#E5ECF6\", \"caxis\": {\"gridcolor\": \"white\", \"linecolor\": \"white\", \"ticks\": \"\"}}, \"title\": {\"x\": 0.05}, \"xaxis\": {\"automargin\": true, \"gridcolor\": \"white\", \"linecolor\": \"white\", \"ticks\": \"\", \"title\": {\"standoff\": 15}, \"zerolinecolor\": \"white\", \"zerolinewidth\": 2}, \"yaxis\": {\"automargin\": true, \"gridcolor\": \"white\", \"linecolor\": \"white\", \"ticks\": \"\", \"title\": {\"standoff\": 15}, \"zerolinecolor\": \"white\", \"zerolinewidth\": 2}}}, \"title\": {\"text\": \"Lipid Class\"}},                        {\"responsive\": true}                    ).then(function(){\n",
       "                            \n",
       "var gd = document.getElementById('c335b95d-c76a-46c7-acc5-f2e3d1346344');\n",
       "var x = new MutationObserver(function (mutations, observer) {{\n",
       "        var display = window.getComputedStyle(gd).display;\n",
       "        if (!display || display === 'none') {{\n",
       "            console.log([gd, 'removed!']);\n",
       "            Plotly.purge(gd);\n",
       "            observer.disconnect();\n",
       "        }}\n",
       "}});\n",
       "\n",
       "// Listen for the removal of the full notebook cells\n",
       "var notebookContainer = gd.closest('#notebook-container');\n",
       "if (notebookContainer) {{\n",
       "    x.observe(notebookContainer, {childList: true});\n",
       "}}\n",
       "\n",
       "// Listen for the clearing of the current output cell\n",
       "var outputEl = gd.closest('.output');\n",
       "if (outputEl) {{\n",
       "    x.observe(outputEl, {childList: true});\n",
       "}}\n",
       "\n",
       "                        })                };                });            </script>        </div>"
      ]
     },
     "metadata": {},
     "output_type": "display_data"
    },
    {
     "data": {
      "application/vnd.plotly.v1+json": {
       "config": {
        "plotlyServerURL": "https://plot.ly"
       },
       "data": [
        {
         "colorscale": [
          [
           0,
           "#440154"
          ],
          [
           0.1111111111111111,
           "#482878"
          ],
          [
           0.2222222222222222,
           "#3e4989"
          ],
          [
           0.3333333333333333,
           "#31688e"
          ],
          [
           0.4444444444444444,
           "#26828e"
          ],
          [
           0.5555555555555556,
           "#1f9e89"
          ],
          [
           0.6666666666666666,
           "#35b779"
          ],
          [
           0.7777777777777778,
           "#6ece58"
          ],
          [
           0.8888888888888888,
           "#b5de2b"
          ],
          [
           1,
           "#fde725"
          ]
         ],
         "type": "heatmap",
         "x": [
          "PG(34:4)",
          "PG(34:3),PG(P-35:2)",
          "PG(O-35:2),PG(P-35:1)",
          "PG(O-35:1),PG(P-35:0)",
          "PG(36:7),PG(35:0),PG(O-36:0)",
          "PG(36:6)",
          "PG(36:5)",
          "PG(36:4)",
          "PG(36:3),PG(P-37:2)",
          "PG(O-37:2),PG(P-37:1)",
          "PG(36:1),PG(O-37:1),PG(P-37:0)",
          "[TG(52:6)]_FA18:1",
          "[TG(52:6)]_FA18:1",
          "[TG(52:5)]_FA18:1",
          "[TG(52:4)]_FA18:1",
          "[TG(53:10),TG(52:3)]_FA18:1",
          "[TG(53:9),TG(52:2)]_FA18:1",
          "[TG(54:7),TG(53:0)]_FA18:1",
          "[TG(54:6)]_FA18:1",
          "[TG(54:5)]_FA18:1",
          "[TG(55:11),TG(54:4)]_FA18:1",
          "[TG(55:10),TG(54:3)]_FA18:1",
          "[TG(55:9),TG(54:2)]_FA18:1"
         ],
         "y": [
          "PG",
          "PG",
          "PG",
          "PG",
          "PG",
          "PG",
          "PG",
          "PG",
          "PG",
          "PG",
          "PG",
          "TAG",
          "TAG",
          "TAG",
          "TAG",
          "TAG",
          "TAG",
          "TAG",
          "TAG",
          "TAG",
          "TAG",
          "TAG",
          "TAG"
         ],
         "z": [
          3508930.004333496,
          4454522.478515625,
          3342623.2351989746,
          3270586.690460205,
          2358947.4252929688,
          2304902.763244629,
          3260273.4930114746,
          6129489.851623535,
          2584182.920562744,
          3311812.273864746,
          4324463.707824707,
          2147588.99118042,
          2077466.9470214844,
          3446471.8658447266,
          3569656.2090759277,
          20658623.729888916,
          26769009.46435547,
          4333085.702453613,
          3145901.463317871,
          12535827.163513184,
          14229465.170547485,
          34867382.11654663,
          12858486.61076355
         ]
        }
       ],
       "layout": {
        "template": {
         "data": {
          "bar": [
           {
            "error_x": {
             "color": "#2a3f5f"
            },
            "error_y": {
             "color": "#2a3f5f"
            },
            "marker": {
             "line": {
              "color": "#E5ECF6",
              "width": 0.5
             }
            },
            "type": "bar"
           }
          ],
          "barpolar": [
           {
            "marker": {
             "line": {
              "color": "#E5ECF6",
              "width": 0.5
             }
            },
            "type": "barpolar"
           }
          ],
          "carpet": [
           {
            "aaxis": {
             "endlinecolor": "#2a3f5f",
             "gridcolor": "white",
             "linecolor": "white",
             "minorgridcolor": "white",
             "startlinecolor": "#2a3f5f"
            },
            "baxis": {
             "endlinecolor": "#2a3f5f",
             "gridcolor": "white",
             "linecolor": "white",
             "minorgridcolor": "white",
             "startlinecolor": "#2a3f5f"
            },
            "type": "carpet"
           }
          ],
          "choropleth": [
           {
            "colorbar": {
             "outlinewidth": 0,
             "ticks": ""
            },
            "type": "choropleth"
           }
          ],
          "contour": [
           {
            "colorbar": {
             "outlinewidth": 0,
             "ticks": ""
            },
            "colorscale": [
             [
              0,
              "#0d0887"
             ],
             [
              0.1111111111111111,
              "#46039f"
             ],
             [
              0.2222222222222222,
              "#7201a8"
             ],
             [
              0.3333333333333333,
              "#9c179e"
             ],
             [
              0.4444444444444444,
              "#bd3786"
             ],
             [
              0.5555555555555556,
              "#d8576b"
             ],
             [
              0.6666666666666666,
              "#ed7953"
             ],
             [
              0.7777777777777778,
              "#fb9f3a"
             ],
             [
              0.8888888888888888,
              "#fdca26"
             ],
             [
              1,
              "#f0f921"
             ]
            ],
            "type": "contour"
           }
          ],
          "contourcarpet": [
           {
            "colorbar": {
             "outlinewidth": 0,
             "ticks": ""
            },
            "type": "contourcarpet"
           }
          ],
          "heatmap": [
           {
            "colorbar": {
             "outlinewidth": 0,
             "ticks": ""
            },
            "colorscale": [
             [
              0,
              "#0d0887"
             ],
             [
              0.1111111111111111,
              "#46039f"
             ],
             [
              0.2222222222222222,
              "#7201a8"
             ],
             [
              0.3333333333333333,
              "#9c179e"
             ],
             [
              0.4444444444444444,
              "#bd3786"
             ],
             [
              0.5555555555555556,
              "#d8576b"
             ],
             [
              0.6666666666666666,
              "#ed7953"
             ],
             [
              0.7777777777777778,
              "#fb9f3a"
             ],
             [
              0.8888888888888888,
              "#fdca26"
             ],
             [
              1,
              "#f0f921"
             ]
            ],
            "type": "heatmap"
           }
          ],
          "heatmapgl": [
           {
            "colorbar": {
             "outlinewidth": 0,
             "ticks": ""
            },
            "colorscale": [
             [
              0,
              "#0d0887"
             ],
             [
              0.1111111111111111,
              "#46039f"
             ],
             [
              0.2222222222222222,
              "#7201a8"
             ],
             [
              0.3333333333333333,
              "#9c179e"
             ],
             [
              0.4444444444444444,
              "#bd3786"
             ],
             [
              0.5555555555555556,
              "#d8576b"
             ],
             [
              0.6666666666666666,
              "#ed7953"
             ],
             [
              0.7777777777777778,
              "#fb9f3a"
             ],
             [
              0.8888888888888888,
              "#fdca26"
             ],
             [
              1,
              "#f0f921"
             ]
            ],
            "type": "heatmapgl"
           }
          ],
          "histogram": [
           {
            "marker": {
             "colorbar": {
              "outlinewidth": 0,
              "ticks": ""
             }
            },
            "type": "histogram"
           }
          ],
          "histogram2d": [
           {
            "colorbar": {
             "outlinewidth": 0,
             "ticks": ""
            },
            "colorscale": [
             [
              0,
              "#0d0887"
             ],
             [
              0.1111111111111111,
              "#46039f"
             ],
             [
              0.2222222222222222,
              "#7201a8"
             ],
             [
              0.3333333333333333,
              "#9c179e"
             ],
             [
              0.4444444444444444,
              "#bd3786"
             ],
             [
              0.5555555555555556,
              "#d8576b"
             ],
             [
              0.6666666666666666,
              "#ed7953"
             ],
             [
              0.7777777777777778,
              "#fb9f3a"
             ],
             [
              0.8888888888888888,
              "#fdca26"
             ],
             [
              1,
              "#f0f921"
             ]
            ],
            "type": "histogram2d"
           }
          ],
          "histogram2dcontour": [
           {
            "colorbar": {
             "outlinewidth": 0,
             "ticks": ""
            },
            "colorscale": [
             [
              0,
              "#0d0887"
             ],
             [
              0.1111111111111111,
              "#46039f"
             ],
             [
              0.2222222222222222,
              "#7201a8"
             ],
             [
              0.3333333333333333,
              "#9c179e"
             ],
             [
              0.4444444444444444,
              "#bd3786"
             ],
             [
              0.5555555555555556,
              "#d8576b"
             ],
             [
              0.6666666666666666,
              "#ed7953"
             ],
             [
              0.7777777777777778,
              "#fb9f3a"
             ],
             [
              0.8888888888888888,
              "#fdca26"
             ],
             [
              1,
              "#f0f921"
             ]
            ],
            "type": "histogram2dcontour"
           }
          ],
          "mesh3d": [
           {
            "colorbar": {
             "outlinewidth": 0,
             "ticks": ""
            },
            "type": "mesh3d"
           }
          ],
          "parcoords": [
           {
            "line": {
             "colorbar": {
              "outlinewidth": 0,
              "ticks": ""
             }
            },
            "type": "parcoords"
           }
          ],
          "pie": [
           {
            "automargin": true,
            "type": "pie"
           }
          ],
          "scatter": [
           {
            "marker": {
             "colorbar": {
              "outlinewidth": 0,
              "ticks": ""
             }
            },
            "type": "scatter"
           }
          ],
          "scatter3d": [
           {
            "line": {
             "colorbar": {
              "outlinewidth": 0,
              "ticks": ""
             }
            },
            "marker": {
             "colorbar": {
              "outlinewidth": 0,
              "ticks": ""
             }
            },
            "type": "scatter3d"
           }
          ],
          "scattercarpet": [
           {
            "marker": {
             "colorbar": {
              "outlinewidth": 0,
              "ticks": ""
             }
            },
            "type": "scattercarpet"
           }
          ],
          "scattergeo": [
           {
            "marker": {
             "colorbar": {
              "outlinewidth": 0,
              "ticks": ""
             }
            },
            "type": "scattergeo"
           }
          ],
          "scattergl": [
           {
            "marker": {
             "colorbar": {
              "outlinewidth": 0,
              "ticks": ""
             }
            },
            "type": "scattergl"
           }
          ],
          "scattermapbox": [
           {
            "marker": {
             "colorbar": {
              "outlinewidth": 0,
              "ticks": ""
             }
            },
            "type": "scattermapbox"
           }
          ],
          "scatterpolar": [
           {
            "marker": {
             "colorbar": {
              "outlinewidth": 0,
              "ticks": ""
             }
            },
            "type": "scatterpolar"
           }
          ],
          "scatterpolargl": [
           {
            "marker": {
             "colorbar": {
              "outlinewidth": 0,
              "ticks": ""
             }
            },
            "type": "scatterpolargl"
           }
          ],
          "scatterternary": [
           {
            "marker": {
             "colorbar": {
              "outlinewidth": 0,
              "ticks": ""
             }
            },
            "type": "scatterternary"
           }
          ],
          "surface": [
           {
            "colorbar": {
             "outlinewidth": 0,
             "ticks": ""
            },
            "colorscale": [
             [
              0,
              "#0d0887"
             ],
             [
              0.1111111111111111,
              "#46039f"
             ],
             [
              0.2222222222222222,
              "#7201a8"
             ],
             [
              0.3333333333333333,
              "#9c179e"
             ],
             [
              0.4444444444444444,
              "#bd3786"
             ],
             [
              0.5555555555555556,
              "#d8576b"
             ],
             [
              0.6666666666666666,
              "#ed7953"
             ],
             [
              0.7777777777777778,
              "#fb9f3a"
             ],
             [
              0.8888888888888888,
              "#fdca26"
             ],
             [
              1,
              "#f0f921"
             ]
            ],
            "type": "surface"
           }
          ],
          "table": [
           {
            "cells": {
             "fill": {
              "color": "#EBF0F8"
             },
             "line": {
              "color": "white"
             }
            },
            "header": {
             "fill": {
              "color": "#C8D4E3"
             },
             "line": {
              "color": "white"
             }
            },
            "type": "table"
           }
          ]
         },
         "layout": {
          "annotationdefaults": {
           "arrowcolor": "#2a3f5f",
           "arrowhead": 0,
           "arrowwidth": 1
          },
          "coloraxis": {
           "colorbar": {
            "outlinewidth": 0,
            "ticks": ""
           }
          },
          "colorscale": {
           "diverging": [
            [
             0,
             "#8e0152"
            ],
            [
             0.1,
             "#c51b7d"
            ],
            [
             0.2,
             "#de77ae"
            ],
            [
             0.3,
             "#f1b6da"
            ],
            [
             0.4,
             "#fde0ef"
            ],
            [
             0.5,
             "#f7f7f7"
            ],
            [
             0.6,
             "#e6f5d0"
            ],
            [
             0.7,
             "#b8e186"
            ],
            [
             0.8,
             "#7fbc41"
            ],
            [
             0.9,
             "#4d9221"
            ],
            [
             1,
             "#276419"
            ]
           ],
           "sequential": [
            [
             0,
             "#0d0887"
            ],
            [
             0.1111111111111111,
             "#46039f"
            ],
            [
             0.2222222222222222,
             "#7201a8"
            ],
            [
             0.3333333333333333,
             "#9c179e"
            ],
            [
             0.4444444444444444,
             "#bd3786"
            ],
            [
             0.5555555555555556,
             "#d8576b"
            ],
            [
             0.6666666666666666,
             "#ed7953"
            ],
            [
             0.7777777777777778,
             "#fb9f3a"
            ],
            [
             0.8888888888888888,
             "#fdca26"
            ],
            [
             1,
             "#f0f921"
            ]
           ],
           "sequentialminus": [
            [
             0,
             "#0d0887"
            ],
            [
             0.1111111111111111,
             "#46039f"
            ],
            [
             0.2222222222222222,
             "#7201a8"
            ],
            [
             0.3333333333333333,
             "#9c179e"
            ],
            [
             0.4444444444444444,
             "#bd3786"
            ],
            [
             0.5555555555555556,
             "#d8576b"
            ],
            [
             0.6666666666666666,
             "#ed7953"
            ],
            [
             0.7777777777777778,
             "#fb9f3a"
            ],
            [
             0.8888888888888888,
             "#fdca26"
            ],
            [
             1,
             "#f0f921"
            ]
           ]
          },
          "colorway": [
           "#636efa",
           "#EF553B",
           "#00cc96",
           "#ab63fa",
           "#FFA15A",
           "#19d3f3",
           "#FF6692",
           "#B6E880",
           "#FF97FF",
           "#FECB52"
          ],
          "font": {
           "color": "#2a3f5f"
          },
          "geo": {
           "bgcolor": "white",
           "lakecolor": "white",
           "landcolor": "#E5ECF6",
           "showlakes": true,
           "showland": true,
           "subunitcolor": "white"
          },
          "hoverlabel": {
           "align": "left"
          },
          "hovermode": "closest",
          "mapbox": {
           "style": "light"
          },
          "paper_bgcolor": "white",
          "plot_bgcolor": "#E5ECF6",
          "polar": {
           "angularaxis": {
            "gridcolor": "white",
            "linecolor": "white",
            "ticks": ""
           },
           "bgcolor": "#E5ECF6",
           "radialaxis": {
            "gridcolor": "white",
            "linecolor": "white",
            "ticks": ""
           }
          },
          "scene": {
           "xaxis": {
            "backgroundcolor": "#E5ECF6",
            "gridcolor": "white",
            "gridwidth": 2,
            "linecolor": "white",
            "showbackground": true,
            "ticks": "",
            "zerolinecolor": "white"
           },
           "yaxis": {
            "backgroundcolor": "#E5ECF6",
            "gridcolor": "white",
            "gridwidth": 2,
            "linecolor": "white",
            "showbackground": true,
            "ticks": "",
            "zerolinecolor": "white"
           },
           "zaxis": {
            "backgroundcolor": "#E5ECF6",
            "gridcolor": "white",
            "gridwidth": 2,
            "linecolor": "white",
            "showbackground": true,
            "ticks": "",
            "zerolinecolor": "white"
           }
          },
          "shapedefaults": {
           "line": {
            "color": "#2a3f5f"
           }
          },
          "ternary": {
           "aaxis": {
            "gridcolor": "white",
            "linecolor": "white",
            "ticks": ""
           },
           "baxis": {
            "gridcolor": "white",
            "linecolor": "white",
            "ticks": ""
           },
           "bgcolor": "#E5ECF6",
           "caxis": {
            "gridcolor": "white",
            "linecolor": "white",
            "ticks": ""
           }
          },
          "title": {
           "x": 0.05
          },
          "xaxis": {
           "automargin": true,
           "gridcolor": "white",
           "linecolor": "white",
           "ticks": "",
           "title": {
            "standoff": 15
           },
           "zerolinecolor": "white",
           "zerolinewidth": 2
          },
          "yaxis": {
           "automargin": true,
           "gridcolor": "white",
           "linecolor": "white",
           "ticks": "",
           "title": {
            "standoff": 15
           },
           "zerolinecolor": "white",
           "zerolinewidth": 2
          }
         }
        }
       }
      },
      "text/html": [
       "<div>                            <div id=\"8c6da248-c2ff-4093-aa77-5be60367a48b\" class=\"plotly-graph-div\" style=\"height:525px; width:100%;\"></div>            <script type=\"text/javascript\">                require([\"plotly\"], function(Plotly) {                    window.PLOTLYENV=window.PLOTLYENV || {};                                    if (document.getElementById(\"8c6da248-c2ff-4093-aa77-5be60367a48b\")) {                    Plotly.newPlot(                        \"8c6da248-c2ff-4093-aa77-5be60367a48b\",                        [{\"colorscale\": [[0.0, \"#440154\"], [0.1111111111111111, \"#482878\"], [0.2222222222222222, \"#3e4989\"], [0.3333333333333333, \"#31688e\"], [0.4444444444444444, \"#26828e\"], [0.5555555555555556, \"#1f9e89\"], [0.6666666666666666, \"#35b779\"], [0.7777777777777778, \"#6ece58\"], [0.8888888888888888, \"#b5de2b\"], [1.0, \"#fde725\"]], \"type\": \"heatmap\", \"x\": [\"PG(34:4)\", \"PG(34:3),PG(P-35:2)\", \"PG(O-35:2),PG(P-35:1)\", \"PG(O-35:1),PG(P-35:0)\", \"PG(36:7),PG(35:0),PG(O-36:0)\", \"PG(36:6)\", \"PG(36:5)\", \"PG(36:4)\", \"PG(36:3),PG(P-37:2)\", \"PG(O-37:2),PG(P-37:1)\", \"PG(36:1),PG(O-37:1),PG(P-37:0)\", \"[TG(52:6)]_FA18:1\", \"[TG(52:6)]_FA18:1\", \"[TG(52:5)]_FA18:1\", \"[TG(52:4)]_FA18:1\", \"[TG(53:10),TG(52:3)]_FA18:1\", \"[TG(53:9),TG(52:2)]_FA18:1\", \"[TG(54:7),TG(53:0)]_FA18:1\", \"[TG(54:6)]_FA18:1\", \"[TG(54:5)]_FA18:1\", \"[TG(55:11),TG(54:4)]_FA18:1\", \"[TG(55:10),TG(54:3)]_FA18:1\", \"[TG(55:9),TG(54:2)]_FA18:1\"], \"y\": [\"PG\", \"PG\", \"PG\", \"PG\", \"PG\", \"PG\", \"PG\", \"PG\", \"PG\", \"PG\", \"PG\", \"TAG\", \"TAG\", \"TAG\", \"TAG\", \"TAG\", \"TAG\", \"TAG\", \"TAG\", \"TAG\", \"TAG\", \"TAG\", \"TAG\"], \"z\": [3508930.004333496, 4454522.478515625, 3342623.2351989746, 3270586.690460205, 2358947.4252929688, 2304902.763244629, 3260273.4930114746, 6129489.851623535, 2584182.920562744, 3311812.273864746, 4324463.707824707, 2147588.99118042, 2077466.9470214844, 3446471.8658447266, 3569656.2090759277, 20658623.729888916, 26769009.46435547, 4333085.702453613, 3145901.463317871, 12535827.163513184, 14229465.170547485, 34867382.11654663, 12858486.61076355]}],                        {\"template\": {\"data\": {\"bar\": [{\"error_x\": {\"color\": \"#2a3f5f\"}, \"error_y\": {\"color\": \"#2a3f5f\"}, \"marker\": {\"line\": {\"color\": \"#E5ECF6\", \"width\": 0.5}}, \"type\": \"bar\"}], \"barpolar\": [{\"marker\": {\"line\": {\"color\": \"#E5ECF6\", \"width\": 0.5}}, \"type\": \"barpolar\"}], \"carpet\": [{\"aaxis\": {\"endlinecolor\": \"#2a3f5f\", \"gridcolor\": \"white\", \"linecolor\": \"white\", \"minorgridcolor\": \"white\", \"startlinecolor\": \"#2a3f5f\"}, \"baxis\": {\"endlinecolor\": \"#2a3f5f\", \"gridcolor\": \"white\", \"linecolor\": \"white\", \"minorgridcolor\": \"white\", \"startlinecolor\": \"#2a3f5f\"}, \"type\": \"carpet\"}], \"choropleth\": [{\"colorbar\": {\"outlinewidth\": 0, \"ticks\": \"\"}, \"type\": \"choropleth\"}], \"contour\": [{\"colorbar\": {\"outlinewidth\": 0, \"ticks\": \"\"}, \"colorscale\": [[0.0, \"#0d0887\"], [0.1111111111111111, \"#46039f\"], [0.2222222222222222, \"#7201a8\"], [0.3333333333333333, \"#9c179e\"], [0.4444444444444444, \"#bd3786\"], [0.5555555555555556, \"#d8576b\"], [0.6666666666666666, \"#ed7953\"], [0.7777777777777778, \"#fb9f3a\"], [0.8888888888888888, \"#fdca26\"], [1.0, \"#f0f921\"]], \"type\": \"contour\"}], \"contourcarpet\": [{\"colorbar\": {\"outlinewidth\": 0, \"ticks\": \"\"}, \"type\": \"contourcarpet\"}], \"heatmap\": [{\"colorbar\": {\"outlinewidth\": 0, \"ticks\": \"\"}, \"colorscale\": [[0.0, \"#0d0887\"], [0.1111111111111111, \"#46039f\"], [0.2222222222222222, \"#7201a8\"], [0.3333333333333333, \"#9c179e\"], [0.4444444444444444, \"#bd3786\"], [0.5555555555555556, \"#d8576b\"], [0.6666666666666666, \"#ed7953\"], [0.7777777777777778, \"#fb9f3a\"], [0.8888888888888888, \"#fdca26\"], [1.0, \"#f0f921\"]], \"type\": \"heatmap\"}], \"heatmapgl\": [{\"colorbar\": {\"outlinewidth\": 0, \"ticks\": \"\"}, \"colorscale\": [[0.0, \"#0d0887\"], [0.1111111111111111, \"#46039f\"], [0.2222222222222222, \"#7201a8\"], [0.3333333333333333, \"#9c179e\"], [0.4444444444444444, \"#bd3786\"], [0.5555555555555556, \"#d8576b\"], [0.6666666666666666, \"#ed7953\"], [0.7777777777777778, \"#fb9f3a\"], [0.8888888888888888, \"#fdca26\"], [1.0, \"#f0f921\"]], \"type\": \"heatmapgl\"}], \"histogram\": [{\"marker\": {\"colorbar\": {\"outlinewidth\": 0, \"ticks\": \"\"}}, \"type\": \"histogram\"}], \"histogram2d\": [{\"colorbar\": {\"outlinewidth\": 0, \"ticks\": \"\"}, \"colorscale\": [[0.0, \"#0d0887\"], [0.1111111111111111, \"#46039f\"], [0.2222222222222222, \"#7201a8\"], [0.3333333333333333, \"#9c179e\"], [0.4444444444444444, \"#bd3786\"], [0.5555555555555556, \"#d8576b\"], [0.6666666666666666, \"#ed7953\"], [0.7777777777777778, \"#fb9f3a\"], [0.8888888888888888, \"#fdca26\"], [1.0, \"#f0f921\"]], \"type\": \"histogram2d\"}], \"histogram2dcontour\": [{\"colorbar\": {\"outlinewidth\": 0, \"ticks\": \"\"}, \"colorscale\": [[0.0, \"#0d0887\"], [0.1111111111111111, \"#46039f\"], [0.2222222222222222, \"#7201a8\"], [0.3333333333333333, \"#9c179e\"], [0.4444444444444444, \"#bd3786\"], [0.5555555555555556, \"#d8576b\"], [0.6666666666666666, \"#ed7953\"], [0.7777777777777778, \"#fb9f3a\"], [0.8888888888888888, \"#fdca26\"], [1.0, \"#f0f921\"]], \"type\": \"histogram2dcontour\"}], \"mesh3d\": [{\"colorbar\": {\"outlinewidth\": 0, \"ticks\": \"\"}, \"type\": \"mesh3d\"}], \"parcoords\": [{\"line\": {\"colorbar\": {\"outlinewidth\": 0, \"ticks\": \"\"}}, \"type\": \"parcoords\"}], \"pie\": [{\"automargin\": true, \"type\": \"pie\"}], \"scatter\": [{\"marker\": {\"colorbar\": {\"outlinewidth\": 0, \"ticks\": \"\"}}, \"type\": \"scatter\"}], \"scatter3d\": [{\"line\": {\"colorbar\": {\"outlinewidth\": 0, \"ticks\": \"\"}}, \"marker\": {\"colorbar\": {\"outlinewidth\": 0, \"ticks\": \"\"}}, \"type\": \"scatter3d\"}], \"scattercarpet\": [{\"marker\": {\"colorbar\": {\"outlinewidth\": 0, \"ticks\": \"\"}}, \"type\": \"scattercarpet\"}], \"scattergeo\": [{\"marker\": {\"colorbar\": {\"outlinewidth\": 0, \"ticks\": \"\"}}, \"type\": \"scattergeo\"}], \"scattergl\": [{\"marker\": {\"colorbar\": {\"outlinewidth\": 0, \"ticks\": \"\"}}, \"type\": \"scattergl\"}], \"scattermapbox\": [{\"marker\": {\"colorbar\": {\"outlinewidth\": 0, \"ticks\": \"\"}}, \"type\": \"scattermapbox\"}], \"scatterpolar\": [{\"marker\": {\"colorbar\": {\"outlinewidth\": 0, \"ticks\": \"\"}}, \"type\": \"scatterpolar\"}], \"scatterpolargl\": [{\"marker\": {\"colorbar\": {\"outlinewidth\": 0, \"ticks\": \"\"}}, \"type\": \"scatterpolargl\"}], \"scatterternary\": [{\"marker\": {\"colorbar\": {\"outlinewidth\": 0, \"ticks\": \"\"}}, \"type\": \"scatterternary\"}], \"surface\": [{\"colorbar\": {\"outlinewidth\": 0, \"ticks\": \"\"}, \"colorscale\": [[0.0, \"#0d0887\"], [0.1111111111111111, \"#46039f\"], [0.2222222222222222, \"#7201a8\"], [0.3333333333333333, \"#9c179e\"], [0.4444444444444444, \"#bd3786\"], [0.5555555555555556, \"#d8576b\"], [0.6666666666666666, \"#ed7953\"], [0.7777777777777778, \"#fb9f3a\"], [0.8888888888888888, \"#fdca26\"], [1.0, \"#f0f921\"]], \"type\": \"surface\"}], \"table\": [{\"cells\": {\"fill\": {\"color\": \"#EBF0F8\"}, \"line\": {\"color\": \"white\"}}, \"header\": {\"fill\": {\"color\": \"#C8D4E3\"}, \"line\": {\"color\": \"white\"}}, \"type\": \"table\"}]}, \"layout\": {\"annotationdefaults\": {\"arrowcolor\": \"#2a3f5f\", \"arrowhead\": 0, \"arrowwidth\": 1}, \"coloraxis\": {\"colorbar\": {\"outlinewidth\": 0, \"ticks\": \"\"}}, \"colorscale\": {\"diverging\": [[0, \"#8e0152\"], [0.1, \"#c51b7d\"], [0.2, \"#de77ae\"], [0.3, \"#f1b6da\"], [0.4, \"#fde0ef\"], [0.5, \"#f7f7f7\"], [0.6, \"#e6f5d0\"], [0.7, \"#b8e186\"], [0.8, \"#7fbc41\"], [0.9, \"#4d9221\"], [1, \"#276419\"]], \"sequential\": [[0.0, \"#0d0887\"], [0.1111111111111111, \"#46039f\"], [0.2222222222222222, \"#7201a8\"], [0.3333333333333333, \"#9c179e\"], [0.4444444444444444, \"#bd3786\"], [0.5555555555555556, \"#d8576b\"], [0.6666666666666666, \"#ed7953\"], [0.7777777777777778, \"#fb9f3a\"], [0.8888888888888888, \"#fdca26\"], [1.0, \"#f0f921\"]], \"sequentialminus\": [[0.0, \"#0d0887\"], [0.1111111111111111, \"#46039f\"], [0.2222222222222222, \"#7201a8\"], [0.3333333333333333, \"#9c179e\"], [0.4444444444444444, \"#bd3786\"], [0.5555555555555556, \"#d8576b\"], [0.6666666666666666, \"#ed7953\"], [0.7777777777777778, \"#fb9f3a\"], [0.8888888888888888, \"#fdca26\"], [1.0, \"#f0f921\"]]}, \"colorway\": [\"#636efa\", \"#EF553B\", \"#00cc96\", \"#ab63fa\", \"#FFA15A\", \"#19d3f3\", \"#FF6692\", \"#B6E880\", \"#FF97FF\", \"#FECB52\"], \"font\": {\"color\": \"#2a3f5f\"}, \"geo\": {\"bgcolor\": \"white\", \"lakecolor\": \"white\", \"landcolor\": \"#E5ECF6\", \"showlakes\": true, \"showland\": true, \"subunitcolor\": \"white\"}, \"hoverlabel\": {\"align\": \"left\"}, \"hovermode\": \"closest\", \"mapbox\": {\"style\": \"light\"}, \"paper_bgcolor\": \"white\", \"plot_bgcolor\": \"#E5ECF6\", \"polar\": {\"angularaxis\": {\"gridcolor\": \"white\", \"linecolor\": \"white\", \"ticks\": \"\"}, \"bgcolor\": \"#E5ECF6\", \"radialaxis\": {\"gridcolor\": \"white\", \"linecolor\": \"white\", \"ticks\": \"\"}}, \"scene\": {\"xaxis\": {\"backgroundcolor\": \"#E5ECF6\", \"gridcolor\": \"white\", \"gridwidth\": 2, \"linecolor\": \"white\", \"showbackground\": true, \"ticks\": \"\", \"zerolinecolor\": \"white\"}, \"yaxis\": {\"backgroundcolor\": \"#E5ECF6\", \"gridcolor\": \"white\", \"gridwidth\": 2, \"linecolor\": \"white\", \"showbackground\": true, \"ticks\": \"\", \"zerolinecolor\": \"white\"}, \"zaxis\": {\"backgroundcolor\": \"#E5ECF6\", \"gridcolor\": \"white\", \"gridwidth\": 2, \"linecolor\": \"white\", \"showbackground\": true, \"ticks\": \"\", \"zerolinecolor\": \"white\"}}, \"shapedefaults\": {\"line\": {\"color\": \"#2a3f5f\"}}, \"ternary\": {\"aaxis\": {\"gridcolor\": \"white\", \"linecolor\": \"white\", \"ticks\": \"\"}, \"baxis\": {\"gridcolor\": \"white\", \"linecolor\": \"white\", \"ticks\": \"\"}, \"bgcolor\": \"#E5ECF6\", \"caxis\": {\"gridcolor\": \"white\", \"linecolor\": \"white\", \"ticks\": \"\"}}, \"title\": {\"x\": 0.05}, \"xaxis\": {\"automargin\": true, \"gridcolor\": \"white\", \"linecolor\": \"white\", \"ticks\": \"\", \"title\": {\"standoff\": 15}, \"zerolinecolor\": \"white\", \"zerolinewidth\": 2}, \"yaxis\": {\"automargin\": true, \"gridcolor\": \"white\", \"linecolor\": \"white\", \"ticks\": \"\", \"title\": {\"standoff\": 15}, \"zerolinecolor\": \"white\", \"zerolinewidth\": 2}}}},                        {\"responsive\": true}                    ).then(function(){\n",
       "                            \n",
       "var gd = document.getElementById('8c6da248-c2ff-4093-aa77-5be60367a48b');\n",
       "var x = new MutationObserver(function (mutations, observer) {{\n",
       "        var display = window.getComputedStyle(gd).display;\n",
       "        if (!display || display === 'none') {{\n",
       "            console.log([gd, 'removed!']);\n",
       "            Plotly.purge(gd);\n",
       "            observer.disconnect();\n",
       "        }}\n",
       "}});\n",
       "\n",
       "// Listen for the removal of the full notebook cells\n",
       "var notebookContainer = gd.closest('#notebook-container');\n",
       "if (notebookContainer) {{\n",
       "    x.observe(notebookContainer, {childList: true});\n",
       "}}\n",
       "\n",
       "// Listen for the clearing of the current output cell\n",
       "var outputEl = gd.closest('.output');\n",
       "if (outputEl) {{\n",
       "    x.observe(outputEl, {childList: true});\n",
       "}}\n",
       "\n",
       "                        })                };                });            </script>        </div>"
      ]
     },
     "metadata": {},
     "output_type": "display_data"
    }
   ],
   "source": [
    "#plot transition versus intensity of df_matching\n",
    "fig = px.bar(df_matching, x=\"Transition\", y=\"Intensity\", color=\"Lipid\", hover_data=['Lipid','Class'])\n",
    "fig.show()\n",
    "\n",
    "\n",
    "#plot lipid class versus intensity of df_matching in a bar chart\n",
    "fig = px.bar(df_matching, x=\"Class\", y=\"Intensity\", color=\"Class\", hover_data=['Lipid','Class'])\n",
    "fig.show()\n",
    "#plot lipid class versus intensity of df_matching in a pie chart\n",
    "fig = px.pie(df_matching, values='Intensity', names='Class', title='Lipid Class')\n",
    "fig.show()\n",
    "#make a plotly heatmap of the intensity of each transition in each sample\n",
    "fig = go.Figure(data=go.Heatmap(\n",
    "                     z=df_matching['Intensity'],\n",
    "                        x=df_matching['Lipid'],\n",
    "                        y=df_matching['Class'],\n",
    "                        colorscale='Viridis'))\n",
    "fig.show()\n",
    "\n",
    "# #plot sample ID versus intensity of df_matching\n",
    "# fig = px.bar(df_matching, x=\"Sample_ID\", y=\"Intensity\", color=\"Sample_ID\", hover_data=['Lipid','Class'])\n",
    "# fig.show()\n",
    "# #plot sample ID versus intensity of df_matching in a pie chart\n",
    "# fig = px.pie(df_matching, values='Intensity', names='Sample_ID', title='Sample ID')\n",
    "# fig.show()"
   ]
  },
  {
   "cell_type": "code",
   "execution_count": null,
   "metadata": {},
   "outputs": [],
   "source": []
  }
 ],
 "metadata": {
  "kernelspec": {
   "display_name": "pymzml",
   "language": "python",
   "name": "python3"
  },
  "language_info": {
   "codemirror_mode": {
    "name": "ipython",
    "version": 3
   },
   "file_extension": ".py",
   "mimetype": "text/x-python",
   "name": "python",
   "nbconvert_exporter": "python",
   "pygments_lexer": "ipython3",
   "version": "3.9.15"
  },
  "orig_nbformat": 4,
  "vscode": {
   "interpreter": {
    "hash": "7f59e923a9cab402a21ecdd8c8501a7d121113b28792a99acb445fcdcb4f42c3"
   }
  }
 },
 "nbformat": 4,
 "nbformat_minor": 2
}
