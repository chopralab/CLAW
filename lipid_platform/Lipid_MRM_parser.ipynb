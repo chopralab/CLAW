{
 "cells": [
  {
   "cell_type": "markdown",
   "metadata": {},
   "source": [
    "# Automated Multiple Reaction Monitoring (MRM)-profiling and Ozone Electrospray Ionizaton (OzESI)-MRM Informatics Platform for High-throughput Lipidomics\n",
    "\n",
    "\n",
    "In this jupyter notebook you will automate the data analysis of the lipidome. This is a challenging problem to perform manually due to the diverse nature of lipids and the many potential isomers. In this notebook you will analyze mzML files containing data from lipid MRMs, with ozone off and ozone on. The goal is to identify possible double-bond locations in a lipid, in this case a TAG (triacylglycerols)."
   ]
  },
  {
   "cell_type": "code",
   "execution_count": 1,
   "metadata": {},
   "outputs": [],
   "source": [
    "from IPython.display import Image"
   ]
  },
  {
   "cell_type": "markdown",
   "metadata": {},
   "source": [
    "![title](Figures/agilent_lcms.png)\n",
    "\n",
    "The examples shown here were run on an Agilent 6495C Triple Quadrupole LC/MS (example shown above) that has been connected to an ozone line (not shown in picture) for ozoneolysis of lipids."
   ]
  },
  {
   "cell_type": "markdown",
   "metadata": {},
   "source": [
    "![title](Figures/TAG_example.png)\n",
    "Here is an example of a TAG. Notice how many possibilities there are for locations of one double-bond there could be and how convoluted the analysis can become! This image is obtained from LipidMaps.org"
   ]
  },
  {
   "cell_type": "markdown",
   "metadata": {},
   "source": [
    "Import all necessary libraries"
   ]
  },
  {
   "cell_type": "code",
   "execution_count": 4,
   "metadata": {},
   "outputs": [],
   "source": [
    "#Import all the necessary libraries\n",
    "import pymzml\n",
    "import csv\n",
    "import os\n",
    "import pandas as pd\n",
    "import numpy as np\n",
    "import math\n",
    "from matplotlib import pyplot as plt\n",
    "import re\n",
    "import plotly.express as px\n",
    "from collections import defaultdict\n",
    "\n"
   ]
  },
  {
   "cell_type": "markdown",
   "metadata": {},
   "source": [
    "MAKE CLASSES FOR EACH LIPID"
   ]
  },
  {
   "cell_type": "code",
   "execution_count": 35,
   "metadata": {
    "scrolled": true
   },
   "outputs": [
    {
     "name": "stderr",
     "output_type": "stream",
     "text": [
      "/tmp/ipykernel_227183/2039249695.py:10: SettingWithCopyWarning: \n",
      "A value is trying to be set on a copy of a slice from a DataFrame.\n",
      "Try using .loc[row_indexer,col_indexer] = value instead\n",
      "\n",
      "See the caveats in the documentation: https://pandas.pydata.org/pandas-docs/stable/user_guide/indexing.html#returning-a-view-versus-a-copy\n",
      "  mrm_list_offical['Parent_Ion'] = np.round(mrm_list_offical['Parent_Ion'],1)\n",
      "/tmp/ipykernel_227183/2039249695.py:11: SettingWithCopyWarning: \n",
      "A value is trying to be set on a copy of a slice from a DataFrame.\n",
      "Try using .loc[row_indexer,col_indexer] = value instead\n",
      "\n",
      "See the caveats in the documentation: https://pandas.pydata.org/pandas-docs/stable/user_guide/indexing.html#returning-a-view-versus-a-copy\n",
      "  mrm_list_offical['Product_Ion'] = np.round(mrm_list_offical['Product_Ion'],1)\n",
      "/tmp/ipykernel_227183/2039249695.py:13: SettingWithCopyWarning: \n",
      "A value is trying to be set on a copy of a slice from a DataFrame.\n",
      "Try using .loc[row_indexer,col_indexer] = value instead\n",
      "\n",
      "See the caveats in the documentation: https://pandas.pydata.org/pandas-docs/stable/user_guide/indexing.html#returning-a-view-versus-a-copy\n",
      "  mrm_list_offical['Transition'] = mrm_list_offical['Parent_Ion'].astype(str) + ' -> ' + mrm_list_offical['Product_Ion'].astype(str)\n"
     ]
    },
    {
     "data": {
      "text/html": [
       "<div>\n",
       "<style scoped>\n",
       "    .dataframe tbody tr th:only-of-type {\n",
       "        vertical-align: middle;\n",
       "    }\n",
       "\n",
       "    .dataframe tbody tr th {\n",
       "        vertical-align: top;\n",
       "    }\n",
       "\n",
       "    .dataframe thead th {\n",
       "        text-align: right;\n",
       "    }\n",
       "</style>\n",
       "<table border=\"1\" class=\"dataframe\">\n",
       "  <thead>\n",
       "    <tr style=\"text-align: right;\">\n",
       "      <th></th>\n",
       "      <th>Lipid</th>\n",
       "      <th>Parent_Ion</th>\n",
       "      <th>Product_Ion</th>\n",
       "      <th>Class</th>\n",
       "      <th>Transition</th>\n",
       "    </tr>\n",
       "  </thead>\n",
       "  <tbody>\n",
       "    <tr>\n",
       "      <th>3251</th>\n",
       "      <td>FA(38:6)</td>\n",
       "      <td>551.5</td>\n",
       "      <td>551.5</td>\n",
       "      <td>FA</td>\n",
       "      <td>551.5 -&gt; 551.5</td>\n",
       "    </tr>\n",
       "    <tr>\n",
       "      <th>3252</th>\n",
       "      <td>FA(38:5)</td>\n",
       "      <td>553.5</td>\n",
       "      <td>553.5</td>\n",
       "      <td>FA</td>\n",
       "      <td>553.5 -&gt; 553.5</td>\n",
       "    </tr>\n",
       "    <tr>\n",
       "      <th>3253</th>\n",
       "      <td>FA(38:4)</td>\n",
       "      <td>555.5</td>\n",
       "      <td>555.5</td>\n",
       "      <td>FA</td>\n",
       "      <td>555.5 -&gt; 555.5</td>\n",
       "    </tr>\n",
       "    <tr>\n",
       "      <th>3254</th>\n",
       "      <td>FA(40:6)</td>\n",
       "      <td>579.5</td>\n",
       "      <td>579.5</td>\n",
       "      <td>FA</td>\n",
       "      <td>579.5 -&gt; 579.5</td>\n",
       "    </tr>\n",
       "    <tr>\n",
       "      <th>3255</th>\n",
       "      <td>FA(42:6)</td>\n",
       "      <td>607.5</td>\n",
       "      <td>607.5</td>\n",
       "      <td>FA</td>\n",
       "      <td>607.5 -&gt; 607.5</td>\n",
       "    </tr>\n",
       "  </tbody>\n",
       "</table>\n",
       "</div>"
      ],
      "text/plain": [
       "         Lipid  Parent_Ion  Product_Ion Class      Transition\n",
       "3251  FA(38:6)       551.5        551.5    FA  551.5 -> 551.5\n",
       "3252  FA(38:5)       553.5        553.5    FA  553.5 -> 553.5\n",
       "3253  FA(38:4)       555.5        555.5    FA  555.5 -> 555.5\n",
       "3254  FA(40:6)       579.5        579.5    FA  579.5 -> 579.5\n",
       "3255  FA(42:6)       607.5        607.5    FA  607.5 -> 607.5"
      ]
     },
     "execution_count": 35,
     "metadata": {},
     "output_type": "execute_result"
    }
   ],
   "source": [
    "#Function to read in MRM database\n",
    "#Option to remove STDs from database##Not finished need option to use another database with no qualitative ACs\n",
    "def read_mrm_list(filename,remove_std = True):\n",
    "    mrm_list_new = pd.read_excel(filename, sheet_name=None)\n",
    "    mrm_list_new = pd.concat(mrm_list_new, ignore_index=True)\n",
    "    mrm_list_offical = mrm_list_new[['Compound Name', 'Parent Ion', 'Product Ion', 'Class']]\n",
    "    # Add underscore to middle of columns names\n",
    "    mrm_list_offical.columns = mrm_list_offical.columns.str.replace(' ', '_')\n",
    "    # Round Parent Ion and Product Ion to 1 decimal place\n",
    "    mrm_list_offical['Parent_Ion'] = np.round(mrm_list_offical['Parent_Ion'],1)\n",
    "    mrm_list_offical['Product_Ion'] = np.round(mrm_list_offical['Product_Ion'],1)\n",
    "    # Create transition column by combining Parent Ion and Product Ion with arrow between numbers\n",
    "    mrm_list_offical['Transition'] = mrm_list_offical['Parent_Ion'].astype(str) + ' -> ' + mrm_list_offical['Product_Ion'].astype(str)\n",
    "    # Change column compound name to lipid\n",
    "    mrm_list_offical = mrm_list_offical.rename(columns={'Compound_Name': 'Lipid'})\n",
    "    # Make a column called Class match lipid column to lipid types\n",
    "    if remove_std == True:\n",
    "        lipid_class = mrm_list_offical['Class'].unique()\n",
    "        lipid_class_to_keep = ['PS','PG','CE','PC', 'DAG', 'PE', 'TAG', 'FA', 'Cer', 'CAR', 'PI','SM']\n",
    "        mrm_list_offical = mrm_list_offical[mrm_list_offical['Class'].isin(lipid_class_to_keep)]\n",
    "    return mrm_list_offical\n",
    "\n",
    "mrm_database = read_mrm_list('lipid_database/Lipid_Database.xlsx')\n",
    "mrm_database.tail()\n",
    "##"
   ]
  },
  {
   "cell_type": "code",
   "execution_count": 36,
   "metadata": {},
   "outputs": [
    {
     "name": "stdout",
     "output_type": "stream",
     "text": [
      "['PC' 'PE' 'SM' 'Cer' 'CAR' 'TAG' 'DAG' 'PS' 'PI' 'PG' 'CE' 'FA']\n"
     ]
    }
   ],
   "source": [
    "list_of_lipid_classes = mrm_database['Class'].unique()\n",
    "print(list_of_lipid_classes)"
   ]
  },
  {
   "cell_type": "markdown",
   "metadata": {},
   "source": [
    "Load mzML file and convert to pandas dataframe and csv file. |\n",
    "Columns = Q1, Q3, Intensity, Transition, Lipid, Class  |\n",
    "Parsed data is also stored as csv file in data_csv"
   ]
  },
  {
   "cell_type": "code",
   "execution_count": 37,
   "metadata": {},
   "outputs": [
    {
     "name": "stdout",
     "output_type": "stream",
     "text": [
      "AC_DOD73-5xFAD-M2liver_033123_r008.mzML\n",
      "Spectrum # =  None\n",
      "Chromatogram # = 87\n"
     ]
    },
    {
     "name": "stderr",
     "output_type": "stream",
     "text": [
      "/tmp/ipykernel_227183/1039163819.py:82: FutureWarning: The frame.append method is deprecated and will be removed from pandas in a future version. Use pandas.concat instead.\n",
      "  df = df.append(df_all, ignore_index=True)\n",
      "/tmp/ipykernel_227183/1039163819.py:82: FutureWarning: The frame.append method is deprecated and will be removed from pandas in a future version. Use pandas.concat instead.\n",
      "  df = df.append(df_all, ignore_index=True)\n"
     ]
    },
    {
     "name": "stdout",
     "output_type": "stream",
     "text": [
      "AC_FAD131-5xFAD-M1liver_033123_r009.mzML\n",
      "Spectrum # =  None\n",
      "Chromatogram # = 87\n",
      "AC_FAD131-5xFAD-M2liver_033123_r006.mzML\n",
      "Spectrum # =  None\n",
      "Chromatogram # = 87\n"
     ]
    },
    {
     "name": "stderr",
     "output_type": "stream",
     "text": [
      "/tmp/ipykernel_227183/1039163819.py:82: FutureWarning: The frame.append method is deprecated and will be removed from pandas in a future version. Use pandas.concat instead.\n",
      "  df = df.append(df_all, ignore_index=True)\n",
      "/tmp/ipykernel_227183/1039163819.py:82: FutureWarning: The frame.append method is deprecated and will be removed from pandas in a future version. Use pandas.concat instead.\n",
      "  df = df.append(df_all, ignore_index=True)\n"
     ]
    },
    {
     "name": "stdout",
     "output_type": "stream",
     "text": [
      "AC_FAD131-5xFAD-M4liver_033123_r007.mzML\n",
      "Spectrum # =  None\n",
      "Chromatogram # = 87\n",
      "AC_FAD173-5xFAD-M1liver_033123_r005.mzML\n",
      "Spectrum # =  None\n",
      "Chromatogram # = 87\n"
     ]
    },
    {
     "name": "stderr",
     "output_type": "stream",
     "text": [
      "/tmp/ipykernel_227183/1039163819.py:82: FutureWarning: The frame.append method is deprecated and will be removed from pandas in a future version. Use pandas.concat instead.\n",
      "  df = df.append(df_all, ignore_index=True)\n",
      "/tmp/ipykernel_227183/1039163819.py:82: FutureWarning: The frame.append method is deprecated and will be removed from pandas in a future version. Use pandas.concat instead.\n",
      "  df = df.append(df_all, ignore_index=True)\n"
     ]
    },
    {
     "name": "stdout",
     "output_type": "stream",
     "text": [
      "AC_blank_033123_r004.mzML\n",
      "Spectrum # =  None\n",
      "Chromatogram # = 87\n",
      "CER_DOD73-5xFAD-M2liver_033123_r008.mzML\n",
      "Spectrum # =  None\n",
      "Chromatogram # = 167\n"
     ]
    },
    {
     "name": "stderr",
     "output_type": "stream",
     "text": [
      "/tmp/ipykernel_227183/1039163819.py:82: FutureWarning: The frame.append method is deprecated and will be removed from pandas in a future version. Use pandas.concat instead.\n",
      "  df = df.append(df_all, ignore_index=True)\n"
     ]
    },
    {
     "name": "stdout",
     "output_type": "stream",
     "text": [
      "CER_FAD131-5xFAD-M1liver_033123_r009.mzML\n",
      "Spectrum # =  None\n",
      "Chromatogram # = 167\n"
     ]
    },
    {
     "name": "stderr",
     "output_type": "stream",
     "text": [
      "/tmp/ipykernel_227183/1039163819.py:82: FutureWarning: The frame.append method is deprecated and will be removed from pandas in a future version. Use pandas.concat instead.\n",
      "  df = df.append(df_all, ignore_index=True)\n"
     ]
    },
    {
     "name": "stdout",
     "output_type": "stream",
     "text": [
      "CER_FAD131-5xFAD-M2liver_033123_r006.mzML\n",
      "Spectrum # =  None\n",
      "Chromatogram # = 167\n"
     ]
    },
    {
     "name": "stderr",
     "output_type": "stream",
     "text": [
      "/tmp/ipykernel_227183/1039163819.py:82: FutureWarning: The frame.append method is deprecated and will be removed from pandas in a future version. Use pandas.concat instead.\n",
      "  df = df.append(df_all, ignore_index=True)\n"
     ]
    },
    {
     "name": "stdout",
     "output_type": "stream",
     "text": [
      "CER_FAD131-5xFAD-M4liver_033123_r007.mzML\n",
      "Spectrum # =  None\n",
      "Chromatogram # = 167\n"
     ]
    },
    {
     "name": "stderr",
     "output_type": "stream",
     "text": [
      "/tmp/ipykernel_227183/1039163819.py:82: FutureWarning: The frame.append method is deprecated and will be removed from pandas in a future version. Use pandas.concat instead.\n",
      "  df = df.append(df_all, ignore_index=True)\n"
     ]
    },
    {
     "name": "stdout",
     "output_type": "stream",
     "text": [
      "CER_FAD173-5xFAD-M1liver_033123_r005.mzML\n",
      "Spectrum # =  None\n",
      "Chromatogram # = 167\n"
     ]
    },
    {
     "name": "stderr",
     "output_type": "stream",
     "text": [
      "/tmp/ipykernel_227183/1039163819.py:82: FutureWarning: The frame.append method is deprecated and will be removed from pandas in a future version. Use pandas.concat instead.\n",
      "  df = df.append(df_all, ignore_index=True)\n"
     ]
    },
    {
     "name": "stdout",
     "output_type": "stream",
     "text": [
      "CER_blank_033123_r004.mzML\n",
      "Spectrum # =  None\n",
      "Chromatogram # = 167\n"
     ]
    },
    {
     "name": "stderr",
     "output_type": "stream",
     "text": [
      "/tmp/ipykernel_227183/1039163819.py:82: FutureWarning: The frame.append method is deprecated and will be removed from pandas in a future version. Use pandas.concat instead.\n",
      "  df = df.append(df_all, ignore_index=True)\n",
      "/tmp/ipykernel_227183/1039163819.py:82: FutureWarning: The frame.append method is deprecated and will be removed from pandas in a future version. Use pandas.concat instead.\n",
      "  df = df.append(df_all, ignore_index=True)\n"
     ]
    },
    {
     "name": "stdout",
     "output_type": "stream",
     "text": [
      "CER_equisplash_033123_r001.mzML\n",
      "Spectrum # =  None\n",
      "Chromatogram # = 15\n",
      "CE_DOD73-5xFAD-M2liver_033123_r008.mzML\n",
      "Spectrum # =  None\n",
      "Chromatogram # = 38\n"
     ]
    },
    {
     "name": "stderr",
     "output_type": "stream",
     "text": [
      "/tmp/ipykernel_227183/1039163819.py:82: FutureWarning: The frame.append method is deprecated and will be removed from pandas in a future version. Use pandas.concat instead.\n",
      "  df = df.append(df_all, ignore_index=True)\n",
      "/tmp/ipykernel_227183/1039163819.py:82: FutureWarning: The frame.append method is deprecated and will be removed from pandas in a future version. Use pandas.concat instead.\n",
      "  df = df.append(df_all, ignore_index=True)\n"
     ]
    },
    {
     "name": "stdout",
     "output_type": "stream",
     "text": [
      "CE_FAD131-5xFAD-M1liver_033123_r009.mzML\n",
      "Spectrum # =  None\n",
      "Chromatogram # = 38\n",
      "CE_FAD131-5xFAD-M2liver_033123_r006.mzML\n",
      "Spectrum # =  None\n",
      "Chromatogram # = 38\n"
     ]
    },
    {
     "name": "stderr",
     "output_type": "stream",
     "text": [
      "/tmp/ipykernel_227183/1039163819.py:82: FutureWarning: The frame.append method is deprecated and will be removed from pandas in a future version. Use pandas.concat instead.\n",
      "  df = df.append(df_all, ignore_index=True)\n",
      "/tmp/ipykernel_227183/1039163819.py:82: FutureWarning: The frame.append method is deprecated and will be removed from pandas in a future version. Use pandas.concat instead.\n",
      "  df = df.append(df_all, ignore_index=True)\n"
     ]
    },
    {
     "name": "stdout",
     "output_type": "stream",
     "text": [
      "CE_FAD131-5xFAD-M4liver_033123_r007.mzML\n",
      "Spectrum # =  None\n",
      "Chromatogram # = 38\n",
      "CE_FAD173-5xFAD-M1liver_033123_r005.mzML\n",
      "Spectrum # =  None\n",
      "Chromatogram # = 38\n"
     ]
    },
    {
     "name": "stderr",
     "output_type": "stream",
     "text": [
      "/tmp/ipykernel_227183/1039163819.py:82: FutureWarning: The frame.append method is deprecated and will be removed from pandas in a future version. Use pandas.concat instead.\n",
      "  df = df.append(df_all, ignore_index=True)\n",
      "/tmp/ipykernel_227183/1039163819.py:82: FutureWarning: The frame.append method is deprecated and will be removed from pandas in a future version. Use pandas.concat instead.\n",
      "  df = df.append(df_all, ignore_index=True)\n"
     ]
    },
    {
     "name": "stdout",
     "output_type": "stream",
     "text": [
      "CE_blank_033123_r004.mzML\n",
      "Spectrum # =  None\n",
      "Chromatogram # = 38\n",
      "CE_equisplash_033123_r001.mzML\n",
      "Spectrum # =  None\n",
      "Chromatogram # = 15\n"
     ]
    },
    {
     "name": "stderr",
     "output_type": "stream",
     "text": [
      "/tmp/ipykernel_227183/1039163819.py:82: FutureWarning: The frame.append method is deprecated and will be removed from pandas in a future version. Use pandas.concat instead.\n",
      "  df = df.append(df_all, ignore_index=True)\n"
     ]
    },
    {
     "name": "stdout",
     "output_type": "stream",
     "text": [
      "DG-160_DOD73-5xFAD-M2liver_033123_r008.mzML\n",
      "Spectrum # =  None\n",
      "Chromatogram # = 109\n"
     ]
    },
    {
     "name": "stderr",
     "output_type": "stream",
     "text": [
      "/tmp/ipykernel_227183/1039163819.py:82: FutureWarning: The frame.append method is deprecated and will be removed from pandas in a future version. Use pandas.concat instead.\n",
      "  df = df.append(df_all, ignore_index=True)\n"
     ]
    },
    {
     "name": "stdout",
     "output_type": "stream",
     "text": [
      "DG-160_FAD131-5xFAD-M1liver_033123_r009.mzML\n",
      "Spectrum # =  None\n",
      "Chromatogram # = 109\n",
      "DG-160_FAD131-5xFAD-M2liver_033123_r006.mzML\n"
     ]
    },
    {
     "name": "stderr",
     "output_type": "stream",
     "text": [
      "/tmp/ipykernel_227183/1039163819.py:82: FutureWarning: The frame.append method is deprecated and will be removed from pandas in a future version. Use pandas.concat instead.\n",
      "  df = df.append(df_all, ignore_index=True)\n",
      "/tmp/ipykernel_227183/1039163819.py:82: FutureWarning: The frame.append method is deprecated and will be removed from pandas in a future version. Use pandas.concat instead.\n",
      "  df = df.append(df_all, ignore_index=True)\n"
     ]
    },
    {
     "name": "stdout",
     "output_type": "stream",
     "text": [
      "Spectrum # =  None\n",
      "Chromatogram # = 109\n",
      "DG-160_FAD131-5xFAD-M4liver_033123_r007.mzML\n",
      "Spectrum # =  None\n",
      "Chromatogram # = 109\n"
     ]
    },
    {
     "name": "stderr",
     "output_type": "stream",
     "text": [
      "/tmp/ipykernel_227183/1039163819.py:82: FutureWarning: The frame.append method is deprecated and will be removed from pandas in a future version. Use pandas.concat instead.\n",
      "  df = df.append(df_all, ignore_index=True)\n",
      "/tmp/ipykernel_227183/1039163819.py:82: FutureWarning: The frame.append method is deprecated and will be removed from pandas in a future version. Use pandas.concat instead.\n",
      "  df = df.append(df_all, ignore_index=True)\n"
     ]
    },
    {
     "name": "stdout",
     "output_type": "stream",
     "text": [
      "DG-160_FAD173-5xFAD-M1liver_033123_r005.mzML\n",
      "Spectrum # =  None\n",
      "Chromatogram # = 109\n",
      "DG-160_blank_033123_r004.mzML\n",
      "Spectrum # =  None\n",
      "Chromatogram # = 109\n",
      "DG-160_equisplash_033123_r001.mzML\n",
      "Spectrum # =  None\n",
      "Chromatogram # = 15\n"
     ]
    },
    {
     "name": "stderr",
     "output_type": "stream",
     "text": [
      "/tmp/ipykernel_227183/1039163819.py:82: FutureWarning: The frame.append method is deprecated and will be removed from pandas in a future version. Use pandas.concat instead.\n",
      "  df = df.append(df_all, ignore_index=True)\n",
      "/tmp/ipykernel_227183/1039163819.py:82: FutureWarning: The frame.append method is deprecated and will be removed from pandas in a future version. Use pandas.concat instead.\n",
      "  df = df.append(df_all, ignore_index=True)\n"
     ]
    },
    {
     "name": "stdout",
     "output_type": "stream",
     "text": [
      "DG-161_DOD73-5xFAD-M2liver_033123_r008.mzML\n",
      "Spectrum # =  None\n",
      "Chromatogram # = 98\n",
      "DG-161_FAD131-5xFAD-M1liver_033123_r009.mzML\n"
     ]
    },
    {
     "name": "stderr",
     "output_type": "stream",
     "text": [
      "/tmp/ipykernel_227183/1039163819.py:82: FutureWarning: The frame.append method is deprecated and will be removed from pandas in a future version. Use pandas.concat instead.\n",
      "  df = df.append(df_all, ignore_index=True)\n",
      "/tmp/ipykernel_227183/1039163819.py:82: FutureWarning: The frame.append method is deprecated and will be removed from pandas in a future version. Use pandas.concat instead.\n",
      "  df = df.append(df_all, ignore_index=True)\n"
     ]
    },
    {
     "name": "stdout",
     "output_type": "stream",
     "text": [
      "Spectrum # =  None\n",
      "Chromatogram # = 98\n",
      "DG-161_FAD131-5xFAD-M2liver_033123_r006.mzML\n",
      "Spectrum # =  None\n",
      "Chromatogram # = 98\n"
     ]
    },
    {
     "name": "stderr",
     "output_type": "stream",
     "text": [
      "/tmp/ipykernel_227183/1039163819.py:82: FutureWarning: The frame.append method is deprecated and will be removed from pandas in a future version. Use pandas.concat instead.\n",
      "  df = df.append(df_all, ignore_index=True)\n",
      "/tmp/ipykernel_227183/1039163819.py:82: FutureWarning: The frame.append method is deprecated and will be removed from pandas in a future version. Use pandas.concat instead.\n",
      "  df = df.append(df_all, ignore_index=True)\n"
     ]
    },
    {
     "name": "stdout",
     "output_type": "stream",
     "text": [
      "DG-161_FAD131-5xFAD-M4liver_033123_r007.mzML\n",
      "Spectrum # =  None\n",
      "Chromatogram # = 98\n",
      "DG-161_FAD173-5xFAD-M1liver_033123_r005.mzML\n",
      "Spectrum # =  None\n",
      "Chromatogram # = 98\n",
      "DG-161_blank_033123_r004.mzML\n",
      "Spectrum # =  None\n",
      "Chromatogram # = 98\n"
     ]
    },
    {
     "name": "stderr",
     "output_type": "stream",
     "text": [
      "/tmp/ipykernel_227183/1039163819.py:82: FutureWarning: The frame.append method is deprecated and will be removed from pandas in a future version. Use pandas.concat instead.\n",
      "  df = df.append(df_all, ignore_index=True)\n",
      "/tmp/ipykernel_227183/1039163819.py:82: FutureWarning: The frame.append method is deprecated and will be removed from pandas in a future version. Use pandas.concat instead.\n",
      "  df = df.append(df_all, ignore_index=True)\n",
      "/tmp/ipykernel_227183/1039163819.py:82: FutureWarning: The frame.append method is deprecated and will be removed from pandas in a future version. Use pandas.concat instead.\n",
      "  df = df.append(df_all, ignore_index=True)\n"
     ]
    },
    {
     "name": "stdout",
     "output_type": "stream",
     "text": [
      "DG-161_equisplash_033123_r001.mzML\n",
      "Spectrum # =  None\n",
      "Chromatogram # = 15\n",
      "DG-180_DOD73-5xFAD-M2liver_033123_r008.mzML\n",
      "Spectrum # =  None\n",
      "Chromatogram # = 109\n"
     ]
    },
    {
     "name": "stderr",
     "output_type": "stream",
     "text": [
      "/tmp/ipykernel_227183/1039163819.py:82: FutureWarning: The frame.append method is deprecated and will be removed from pandas in a future version. Use pandas.concat instead.\n",
      "  df = df.append(df_all, ignore_index=True)\n"
     ]
    },
    {
     "name": "stdout",
     "output_type": "stream",
     "text": [
      "DG-180_FAD131-5xFAD-M1liver_033123_r009.mzML\n",
      "Spectrum # =  None\n",
      "Chromatogram # = 109\n"
     ]
    },
    {
     "name": "stderr",
     "output_type": "stream",
     "text": [
      "/tmp/ipykernel_227183/1039163819.py:82: FutureWarning: The frame.append method is deprecated and will be removed from pandas in a future version. Use pandas.concat instead.\n",
      "  df = df.append(df_all, ignore_index=True)\n"
     ]
    },
    {
     "name": "stdout",
     "output_type": "stream",
     "text": [
      "DG-180_FAD131-5xFAD-M2liver_033123_r006.mzML\n",
      "Spectrum # =  None\n",
      "Chromatogram # = 109\n"
     ]
    },
    {
     "name": "stderr",
     "output_type": "stream",
     "text": [
      "/tmp/ipykernel_227183/1039163819.py:82: FutureWarning: The frame.append method is deprecated and will be removed from pandas in a future version. Use pandas.concat instead.\n",
      "  df = df.append(df_all, ignore_index=True)\n",
      "/tmp/ipykernel_227183/1039163819.py:82: FutureWarning: The frame.append method is deprecated and will be removed from pandas in a future version. Use pandas.concat instead.\n",
      "  df = df.append(df_all, ignore_index=True)\n"
     ]
    },
    {
     "name": "stdout",
     "output_type": "stream",
     "text": [
      "DG-180_FAD131-5xFAD-M4liver_033123_r007.mzML\n",
      "Spectrum # =  None\n",
      "Chromatogram # = 109\n",
      "DG-180_FAD173-5xFAD-M1liver_033123_r005.mzML\n",
      "Spectrum # =  None\n",
      "Chromatogram # = 109\n",
      "DG-180_blank_033123_r004.mzML\n",
      "Spectrum # =  None\n",
      "Chromatogram # = 109\n"
     ]
    },
    {
     "name": "stderr",
     "output_type": "stream",
     "text": [
      "/tmp/ipykernel_227183/1039163819.py:82: FutureWarning: The frame.append method is deprecated and will be removed from pandas in a future version. Use pandas.concat instead.\n",
      "  df = df.append(df_all, ignore_index=True)\n",
      "/tmp/ipykernel_227183/1039163819.py:82: FutureWarning: The frame.append method is deprecated and will be removed from pandas in a future version. Use pandas.concat instead.\n",
      "  df = df.append(df_all, ignore_index=True)\n",
      "/tmp/ipykernel_227183/1039163819.py:82: FutureWarning: The frame.append method is deprecated and will be removed from pandas in a future version. Use pandas.concat instead.\n",
      "  df = df.append(df_all, ignore_index=True)\n"
     ]
    },
    {
     "name": "stdout",
     "output_type": "stream",
     "text": [
      "DG-180_equisplash_033123_r001.mzML\n",
      "Spectrum # =  None\n",
      "Chromatogram # = 15\n",
      "DG-181_DOD73-5xFAD-M2liver_033123_r008.mzML\n",
      "Spectrum # =  None\n",
      "Chromatogram # = 98\n"
     ]
    },
    {
     "name": "stderr",
     "output_type": "stream",
     "text": [
      "/tmp/ipykernel_227183/1039163819.py:82: FutureWarning: The frame.append method is deprecated and will be removed from pandas in a future version. Use pandas.concat instead.\n",
      "  df = df.append(df_all, ignore_index=True)\n",
      "/tmp/ipykernel_227183/1039163819.py:82: FutureWarning: The frame.append method is deprecated and will be removed from pandas in a future version. Use pandas.concat instead.\n",
      "  df = df.append(df_all, ignore_index=True)\n"
     ]
    },
    {
     "name": "stdout",
     "output_type": "stream",
     "text": [
      "DG-181_FAD131-5xFAD-M1liver_033123_r009.mzML\n",
      "Spectrum # =  None\n",
      "Chromatogram # = 98\n",
      "DG-181_FAD131-5xFAD-M2liver_033123_r006.mzML\n",
      "Spectrum # =  None\n",
      "Chromatogram # = 98\n",
      "DG-181_FAD131-5xFAD-M4liver_033123_r007.mzML\n",
      "Spectrum # =  None\n",
      "Chromatogram # = 98\n"
     ]
    },
    {
     "name": "stderr",
     "output_type": "stream",
     "text": [
      "/tmp/ipykernel_227183/1039163819.py:82: FutureWarning: The frame.append method is deprecated and will be removed from pandas in a future version. Use pandas.concat instead.\n",
      "  df = df.append(df_all, ignore_index=True)\n",
      "/tmp/ipykernel_227183/1039163819.py:82: FutureWarning: The frame.append method is deprecated and will be removed from pandas in a future version. Use pandas.concat instead.\n",
      "  df = df.append(df_all, ignore_index=True)\n",
      "/tmp/ipykernel_227183/1039163819.py:82: FutureWarning: The frame.append method is deprecated and will be removed from pandas in a future version. Use pandas.concat instead.\n",
      "  df = df.append(df_all, ignore_index=True)\n"
     ]
    },
    {
     "name": "stdout",
     "output_type": "stream",
     "text": [
      "DG-181_FAD173-5xFAD-M1liver_033123_r005.mzML\n",
      "Spectrum # =  None\n",
      "Chromatogram # = 98\n",
      "DG-181_blank_033123_r004.mzML\n",
      "Spectrum # =  None\n",
      "Chromatogram # = 98\n",
      "DG-181_equisplash_033123_r001.mzML\n",
      "Spectrum # =  None\n",
      "Chromatogram # = 15\n"
     ]
    },
    {
     "name": "stderr",
     "output_type": "stream",
     "text": [
      "/tmp/ipykernel_227183/1039163819.py:82: FutureWarning: The frame.append method is deprecated and will be removed from pandas in a future version. Use pandas.concat instead.\n",
      "  df = df.append(df_all, ignore_index=True)\n",
      "/tmp/ipykernel_227183/1039163819.py:82: FutureWarning: The frame.append method is deprecated and will be removed from pandas in a future version. Use pandas.concat instead.\n",
      "  df = df.append(df_all, ignore_index=True)\n"
     ]
    },
    {
     "name": "stdout",
     "output_type": "stream",
     "text": [
      "DG-182_DOD73-5xFAD-M2liver_033123_r008.mzML\n",
      "Spectrum # =  None\n",
      "Chromatogram # = 88\n",
      "DG-182_FAD131-5xFAD-M1liver_033123_r009.mzML\n",
      "Spectrum # =  None\n",
      "Chromatogram # = 88\n"
     ]
    },
    {
     "name": "stderr",
     "output_type": "stream",
     "text": [
      "/tmp/ipykernel_227183/1039163819.py:82: FutureWarning: The frame.append method is deprecated and will be removed from pandas in a future version. Use pandas.concat instead.\n",
      "  df = df.append(df_all, ignore_index=True)\n",
      "/tmp/ipykernel_227183/1039163819.py:82: FutureWarning: The frame.append method is deprecated and will be removed from pandas in a future version. Use pandas.concat instead.\n",
      "  df = df.append(df_all, ignore_index=True)\n"
     ]
    },
    {
     "name": "stdout",
     "output_type": "stream",
     "text": [
      "DG-182_FAD131-5xFAD-M2liver_033123_r006.mzML\n",
      "Spectrum # =  None\n",
      "Chromatogram # = 88\n"
     ]
    },
    {
     "name": "stderr",
     "output_type": "stream",
     "text": [
      "/tmp/ipykernel_227183/1039163819.py:82: FutureWarning: The frame.append method is deprecated and will be removed from pandas in a future version. Use pandas.concat instead.\n",
      "  df = df.append(df_all, ignore_index=True)\n",
      "/tmp/ipykernel_227183/1039163819.py:82: FutureWarning: The frame.append method is deprecated and will be removed from pandas in a future version. Use pandas.concat instead.\n",
      "  df = df.append(df_all, ignore_index=True)\n"
     ]
    },
    {
     "name": "stdout",
     "output_type": "stream",
     "text": [
      "DG-182_FAD131-5xFAD-M4liver_033123_r007.mzML\n",
      "Spectrum # =  None\n",
      "Chromatogram # = 88\n",
      "DG-182_FAD173-5xFAD-M1liver_033123_r005.mzML\n",
      "Spectrum # =  None\n",
      "Chromatogram # = 88\n"
     ]
    },
    {
     "name": "stderr",
     "output_type": "stream",
     "text": [
      "/tmp/ipykernel_227183/1039163819.py:82: FutureWarning: The frame.append method is deprecated and will be removed from pandas in a future version. Use pandas.concat instead.\n",
      "  df = df.append(df_all, ignore_index=True)\n",
      "/tmp/ipykernel_227183/1039163819.py:82: FutureWarning: The frame.append method is deprecated and will be removed from pandas in a future version. Use pandas.concat instead.\n",
      "  df = df.append(df_all, ignore_index=True)\n"
     ]
    },
    {
     "name": "stdout",
     "output_type": "stream",
     "text": [
      "DG-182_blank_033123_r004.mzML\n",
      "Spectrum # =  None\n",
      "Chromatogram # = 88\n",
      "DG-182_equisplash_033123_r001.mzML\n",
      "Spectrum # =  None\n",
      "Chromatogram # = 15\n"
     ]
    },
    {
     "name": "stderr",
     "output_type": "stream",
     "text": [
      "/tmp/ipykernel_227183/1039163819.py:82: FutureWarning: The frame.append method is deprecated and will be removed from pandas in a future version. Use pandas.concat instead.\n",
      "  df = df.append(df_all, ignore_index=True)\n"
     ]
    },
    {
     "name": "stdout",
     "output_type": "stream",
     "text": [
      "FFA_DOD73-5xFAD-M2liver_033123_r008.mzML\n",
      "Spectrum # =  None\n",
      "Chromatogram # = 182\n"
     ]
    },
    {
     "name": "stderr",
     "output_type": "stream",
     "text": [
      "/tmp/ipykernel_227183/1039163819.py:82: FutureWarning: The frame.append method is deprecated and will be removed from pandas in a future version. Use pandas.concat instead.\n",
      "  df = df.append(df_all, ignore_index=True)\n"
     ]
    },
    {
     "name": "stdout",
     "output_type": "stream",
     "text": [
      "FFA_FAD131-5xFAD-M1liver_033123_r009.mzML\n",
      "Spectrum # =  None\n",
      "Chromatogram # = 182\n"
     ]
    },
    {
     "name": "stderr",
     "output_type": "stream",
     "text": [
      "/tmp/ipykernel_227183/1039163819.py:82: FutureWarning: The frame.append method is deprecated and will be removed from pandas in a future version. Use pandas.concat instead.\n",
      "  df = df.append(df_all, ignore_index=True)\n"
     ]
    },
    {
     "name": "stdout",
     "output_type": "stream",
     "text": [
      "FFA_FAD131-5xFAD-M2liver_033123_r006.mzML\n",
      "Spectrum # =  None\n",
      "Chromatogram # = 182\n"
     ]
    },
    {
     "name": "stderr",
     "output_type": "stream",
     "text": [
      "/tmp/ipykernel_227183/1039163819.py:82: FutureWarning: The frame.append method is deprecated and will be removed from pandas in a future version. Use pandas.concat instead.\n",
      "  df = df.append(df_all, ignore_index=True)\n"
     ]
    },
    {
     "name": "stdout",
     "output_type": "stream",
     "text": [
      "FFA_FAD131-5xFAD-M4liver_033123_r007.mzML\n",
      "Spectrum # =  None\n",
      "Chromatogram # = 182\n"
     ]
    },
    {
     "name": "stderr",
     "output_type": "stream",
     "text": [
      "/tmp/ipykernel_227183/1039163819.py:82: FutureWarning: The frame.append method is deprecated and will be removed from pandas in a future version. Use pandas.concat instead.\n",
      "  df = df.append(df_all, ignore_index=True)\n"
     ]
    },
    {
     "name": "stdout",
     "output_type": "stream",
     "text": [
      "FFA_FAD173-5xFAD-M1liver_033123_r005.mzML\n",
      "Spectrum # =  None\n",
      "Chromatogram # = 182\n"
     ]
    },
    {
     "name": "stderr",
     "output_type": "stream",
     "text": [
      "/tmp/ipykernel_227183/1039163819.py:82: FutureWarning: The frame.append method is deprecated and will be removed from pandas in a future version. Use pandas.concat instead.\n",
      "  df = df.append(df_all, ignore_index=True)\n"
     ]
    },
    {
     "name": "stdout",
     "output_type": "stream",
     "text": [
      "FFA_blank_033123_r004.mzML\n",
      "Spectrum # =  None\n",
      "Chromatogram # = 182\n"
     ]
    },
    {
     "name": "stderr",
     "output_type": "stream",
     "text": [
      "/tmp/ipykernel_227183/1039163819.py:82: FutureWarning: The frame.append method is deprecated and will be removed from pandas in a future version. Use pandas.concat instead.\n",
      "  df = df.append(df_all, ignore_index=True)\n",
      "/tmp/ipykernel_227183/1039163819.py:82: FutureWarning: The frame.append method is deprecated and will be removed from pandas in a future version. Use pandas.concat instead.\n",
      "  df = df.append(df_all, ignore_index=True)\n"
     ]
    },
    {
     "name": "stdout",
     "output_type": "stream",
     "text": [
      "FFA_equisplash_033123_r001.mzML\n",
      "Spectrum # =  None\n",
      "Chromatogram # = 15\n",
      "PC_DOD73-5xFAD-M2liver_033123_r008.mzML\n",
      "Spectrum # =  None\n",
      "Chromatogram # = 183\n"
     ]
    },
    {
     "name": "stderr",
     "output_type": "stream",
     "text": [
      "/tmp/ipykernel_227183/1039163819.py:82: FutureWarning: The frame.append method is deprecated and will be removed from pandas in a future version. Use pandas.concat instead.\n",
      "  df = df.append(df_all, ignore_index=True)\n"
     ]
    },
    {
     "name": "stdout",
     "output_type": "stream",
     "text": [
      "PC_FAD131-5xFAD-M1liver_033123_r009.mzML\n",
      "Spectrum # =  None\n",
      "Chromatogram # = 183\n"
     ]
    },
    {
     "name": "stderr",
     "output_type": "stream",
     "text": [
      "/tmp/ipykernel_227183/1039163819.py:82: FutureWarning: The frame.append method is deprecated and will be removed from pandas in a future version. Use pandas.concat instead.\n",
      "  df = df.append(df_all, ignore_index=True)\n"
     ]
    },
    {
     "name": "stdout",
     "output_type": "stream",
     "text": [
      "PC_FAD131-5xFAD-M2liver_033123_r006.mzML\n",
      "Spectrum # =  None\n",
      "Chromatogram # = 183\n"
     ]
    },
    {
     "name": "stderr",
     "output_type": "stream",
     "text": [
      "/tmp/ipykernel_227183/1039163819.py:82: FutureWarning: The frame.append method is deprecated and will be removed from pandas in a future version. Use pandas.concat instead.\n",
      "  df = df.append(df_all, ignore_index=True)\n"
     ]
    },
    {
     "name": "stdout",
     "output_type": "stream",
     "text": [
      "PC_FAD131-5xFAD-M4liver_033123_r007.mzML\n",
      "Spectrum # =  None\n",
      "Chromatogram # = 183\n"
     ]
    },
    {
     "name": "stderr",
     "output_type": "stream",
     "text": [
      "/tmp/ipykernel_227183/1039163819.py:82: FutureWarning: The frame.append method is deprecated and will be removed from pandas in a future version. Use pandas.concat instead.\n",
      "  df = df.append(df_all, ignore_index=True)\n"
     ]
    },
    {
     "name": "stdout",
     "output_type": "stream",
     "text": [
      "PC_FAD173-5xFAD-M1liver_033123_r005.mzML\n",
      "Spectrum # =  None\n",
      "Chromatogram # = 183\n"
     ]
    },
    {
     "name": "stderr",
     "output_type": "stream",
     "text": [
      "/tmp/ipykernel_227183/1039163819.py:82: FutureWarning: The frame.append method is deprecated and will be removed from pandas in a future version. Use pandas.concat instead.\n",
      "  df = df.append(df_all, ignore_index=True)\n"
     ]
    },
    {
     "name": "stdout",
     "output_type": "stream",
     "text": [
      "PC_blank_033123_r004.mzML\n",
      "Spectrum # =  None\n",
      "Chromatogram # = 183\n"
     ]
    },
    {
     "name": "stderr",
     "output_type": "stream",
     "text": [
      "/tmp/ipykernel_227183/1039163819.py:82: FutureWarning: The frame.append method is deprecated and will be removed from pandas in a future version. Use pandas.concat instead.\n",
      "  df = df.append(df_all, ignore_index=True)\n",
      "/tmp/ipykernel_227183/1039163819.py:82: FutureWarning: The frame.append method is deprecated and will be removed from pandas in a future version. Use pandas.concat instead.\n",
      "  df = df.append(df_all, ignore_index=True)\n"
     ]
    },
    {
     "name": "stdout",
     "output_type": "stream",
     "text": [
      "PC_equisplash_033123_r001.mzML\n",
      "Spectrum # =  None\n",
      "Chromatogram # = 15\n",
      "PE_DOD73-5xFAD-M2liver_033123_r008.mzML\n",
      "Spectrum # =  None\n",
      "Chromatogram # = 150\n"
     ]
    },
    {
     "name": "stderr",
     "output_type": "stream",
     "text": [
      "/tmp/ipykernel_227183/1039163819.py:82: FutureWarning: The frame.append method is deprecated and will be removed from pandas in a future version. Use pandas.concat instead.\n",
      "  df = df.append(df_all, ignore_index=True)\n"
     ]
    },
    {
     "name": "stdout",
     "output_type": "stream",
     "text": [
      "PE_FAD131-5xFAD-M1liver_033123_r009.mzML\n",
      "Spectrum # =  None\n",
      "Chromatogram # = 150\n"
     ]
    },
    {
     "name": "stderr",
     "output_type": "stream",
     "text": [
      "/tmp/ipykernel_227183/1039163819.py:82: FutureWarning: The frame.append method is deprecated and will be removed from pandas in a future version. Use pandas.concat instead.\n",
      "  df = df.append(df_all, ignore_index=True)\n"
     ]
    },
    {
     "name": "stdout",
     "output_type": "stream",
     "text": [
      "PE_FAD131-5xFAD-M2liver_033123_r006.mzML\n",
      "Spectrum # =  None\n",
      "Chromatogram # = 150\n"
     ]
    },
    {
     "name": "stderr",
     "output_type": "stream",
     "text": [
      "/tmp/ipykernel_227183/1039163819.py:82: FutureWarning: The frame.append method is deprecated and will be removed from pandas in a future version. Use pandas.concat instead.\n",
      "  df = df.append(df_all, ignore_index=True)\n"
     ]
    },
    {
     "name": "stdout",
     "output_type": "stream",
     "text": [
      "PE_FAD131-5xFAD-M4liver_033123_r007.mzML\n",
      "Spectrum # =  None\n",
      "Chromatogram # = 150\n"
     ]
    },
    {
     "name": "stderr",
     "output_type": "stream",
     "text": [
      "/tmp/ipykernel_227183/1039163819.py:82: FutureWarning: The frame.append method is deprecated and will be removed from pandas in a future version. Use pandas.concat instead.\n",
      "  df = df.append(df_all, ignore_index=True)\n"
     ]
    },
    {
     "name": "stdout",
     "output_type": "stream",
     "text": [
      "PE_FAD173-5xFAD-M1liver_033123_r005.mzML\n",
      "Spectrum # =  None\n",
      "Chromatogram # = 150\n"
     ]
    },
    {
     "name": "stderr",
     "output_type": "stream",
     "text": [
      "/tmp/ipykernel_227183/1039163819.py:82: FutureWarning: The frame.append method is deprecated and will be removed from pandas in a future version. Use pandas.concat instead.\n",
      "  df = df.append(df_all, ignore_index=True)\n"
     ]
    },
    {
     "name": "stdout",
     "output_type": "stream",
     "text": [
      "PE_blank_033123_r004.mzML\n",
      "Spectrum # =  None\n",
      "Chromatogram # = 150\n"
     ]
    },
    {
     "name": "stderr",
     "output_type": "stream",
     "text": [
      "/tmp/ipykernel_227183/1039163819.py:82: FutureWarning: The frame.append method is deprecated and will be removed from pandas in a future version. Use pandas.concat instead.\n",
      "  df = df.append(df_all, ignore_index=True)\n",
      "/tmp/ipykernel_227183/1039163819.py:82: FutureWarning: The frame.append method is deprecated and will be removed from pandas in a future version. Use pandas.concat instead.\n",
      "  df = df.append(df_all, ignore_index=True)\n"
     ]
    },
    {
     "name": "stdout",
     "output_type": "stream",
     "text": [
      "PE_equisplash_033123_r001.mzML\n",
      "Spectrum # =  None\n",
      "Chromatogram # = 15\n",
      "PG_DOD73-5xFAD-M2liver_033123_r008.mzML\n",
      "Spectrum # =  None\n",
      "Chromatogram # = 145\n"
     ]
    },
    {
     "name": "stderr",
     "output_type": "stream",
     "text": [
      "/tmp/ipykernel_227183/1039163819.py:82: FutureWarning: The frame.append method is deprecated and will be removed from pandas in a future version. Use pandas.concat instead.\n",
      "  df = df.append(df_all, ignore_index=True)\n"
     ]
    },
    {
     "name": "stdout",
     "output_type": "stream",
     "text": [
      "PG_FAD131-5xFAD-M1liver_033123_r009.mzML\n",
      "Spectrum # =  None\n",
      "Chromatogram # = 145\n"
     ]
    },
    {
     "name": "stderr",
     "output_type": "stream",
     "text": [
      "/tmp/ipykernel_227183/1039163819.py:82: FutureWarning: The frame.append method is deprecated and will be removed from pandas in a future version. Use pandas.concat instead.\n",
      "  df = df.append(df_all, ignore_index=True)\n"
     ]
    },
    {
     "name": "stdout",
     "output_type": "stream",
     "text": [
      "PG_FAD131-5xFAD-M2liver_033123_r006.mzML\n",
      "Spectrum # =  None\n",
      "Chromatogram # = 145\n"
     ]
    },
    {
     "name": "stderr",
     "output_type": "stream",
     "text": [
      "/tmp/ipykernel_227183/1039163819.py:82: FutureWarning: The frame.append method is deprecated and will be removed from pandas in a future version. Use pandas.concat instead.\n",
      "  df = df.append(df_all, ignore_index=True)\n"
     ]
    },
    {
     "name": "stdout",
     "output_type": "stream",
     "text": [
      "PG_FAD131-5xFAD-M4liver_033123_r007.mzML\n",
      "Spectrum # =  None\n",
      "Chromatogram # = 145\n"
     ]
    },
    {
     "name": "stderr",
     "output_type": "stream",
     "text": [
      "/tmp/ipykernel_227183/1039163819.py:82: FutureWarning: The frame.append method is deprecated and will be removed from pandas in a future version. Use pandas.concat instead.\n",
      "  df = df.append(df_all, ignore_index=True)\n"
     ]
    },
    {
     "name": "stdout",
     "output_type": "stream",
     "text": [
      "PG_FAD173-5xFAD-M1liver_033123_r005.mzML\n",
      "Spectrum # =  None\n",
      "Chromatogram # = 145\n"
     ]
    },
    {
     "name": "stderr",
     "output_type": "stream",
     "text": [
      "/tmp/ipykernel_227183/1039163819.py:82: FutureWarning: The frame.append method is deprecated and will be removed from pandas in a future version. Use pandas.concat instead.\n",
      "  df = df.append(df_all, ignore_index=True)\n"
     ]
    },
    {
     "name": "stdout",
     "output_type": "stream",
     "text": [
      "PG_blank_033123_r004.mzML\n",
      "Spectrum # =  None\n",
      "Chromatogram # = 145\n"
     ]
    },
    {
     "name": "stderr",
     "output_type": "stream",
     "text": [
      "/tmp/ipykernel_227183/1039163819.py:82: FutureWarning: The frame.append method is deprecated and will be removed from pandas in a future version. Use pandas.concat instead.\n",
      "  df = df.append(df_all, ignore_index=True)\n",
      "/tmp/ipykernel_227183/1039163819.py:82: FutureWarning: The frame.append method is deprecated and will be removed from pandas in a future version. Use pandas.concat instead.\n",
      "  df = df.append(df_all, ignore_index=True)\n"
     ]
    },
    {
     "name": "stdout",
     "output_type": "stream",
     "text": [
      "PG_equisplash_033123_r001.mzML\n",
      "Spectrum # =  None\n",
      "Chromatogram # = 15\n",
      "PI_DOD73-5xFAD-M2liver_033123_r008.mzML\n",
      "Spectrum # =  None\n",
      "Chromatogram # = 287\n"
     ]
    },
    {
     "name": "stderr",
     "output_type": "stream",
     "text": [
      "/tmp/ipykernel_227183/1039163819.py:82: FutureWarning: The frame.append method is deprecated and will be removed from pandas in a future version. Use pandas.concat instead.\n",
      "  df = df.append(df_all, ignore_index=True)\n"
     ]
    },
    {
     "name": "stdout",
     "output_type": "stream",
     "text": [
      "PI_FAD131-5xFAD-M1liver_033123_r009.mzML\n",
      "Spectrum # =  None\n",
      "Chromatogram # = 287\n"
     ]
    },
    {
     "name": "stderr",
     "output_type": "stream",
     "text": [
      "/tmp/ipykernel_227183/1039163819.py:82: FutureWarning: The frame.append method is deprecated and will be removed from pandas in a future version. Use pandas.concat instead.\n",
      "  df = df.append(df_all, ignore_index=True)\n"
     ]
    },
    {
     "name": "stdout",
     "output_type": "stream",
     "text": [
      "PI_FAD131-5xFAD-M2liver_033123_r006.mzML\n",
      "Spectrum # =  None\n",
      "Chromatogram # = 287\n"
     ]
    },
    {
     "name": "stderr",
     "output_type": "stream",
     "text": [
      "/tmp/ipykernel_227183/1039163819.py:82: FutureWarning: The frame.append method is deprecated and will be removed from pandas in a future version. Use pandas.concat instead.\n",
      "  df = df.append(df_all, ignore_index=True)\n"
     ]
    },
    {
     "name": "stdout",
     "output_type": "stream",
     "text": [
      "PI_FAD131-5xFAD-M4liver_033123_r007.mzML\n",
      "Spectrum # =  None\n",
      "Chromatogram # = 287\n"
     ]
    },
    {
     "name": "stderr",
     "output_type": "stream",
     "text": [
      "/tmp/ipykernel_227183/1039163819.py:82: FutureWarning: The frame.append method is deprecated and will be removed from pandas in a future version. Use pandas.concat instead.\n",
      "  df = df.append(df_all, ignore_index=True)\n"
     ]
    },
    {
     "name": "stdout",
     "output_type": "stream",
     "text": [
      "PI_FAD173-5xFAD-M1liver_033123_r005.mzML\n",
      "Spectrum # =  None\n",
      "Chromatogram # = 287\n"
     ]
    },
    {
     "name": "stderr",
     "output_type": "stream",
     "text": [
      "/tmp/ipykernel_227183/1039163819.py:82: FutureWarning: The frame.append method is deprecated and will be removed from pandas in a future version. Use pandas.concat instead.\n",
      "  df = df.append(df_all, ignore_index=True)\n"
     ]
    },
    {
     "name": "stdout",
     "output_type": "stream",
     "text": [
      "PI_blank_033123_r004.mzML\n",
      "Spectrum # =  None\n",
      "Chromatogram # = 287\n"
     ]
    },
    {
     "name": "stderr",
     "output_type": "stream",
     "text": [
      "/tmp/ipykernel_227183/1039163819.py:82: FutureWarning: The frame.append method is deprecated and will be removed from pandas in a future version. Use pandas.concat instead.\n",
      "  df = df.append(df_all, ignore_index=True)\n",
      "/tmp/ipykernel_227183/1039163819.py:82: FutureWarning: The frame.append method is deprecated and will be removed from pandas in a future version. Use pandas.concat instead.\n",
      "  df = df.append(df_all, ignore_index=True)\n"
     ]
    },
    {
     "name": "stdout",
     "output_type": "stream",
     "text": [
      "PI_equisplash_033123_r001.mzML\n",
      "Spectrum # =  None\n",
      "Chromatogram # = 15\n",
      "PS_DOD73-5xFAD-M2liver_033123_r008.mzML\n",
      "Spectrum # =  None\n",
      "Chromatogram # = 143\n"
     ]
    },
    {
     "name": "stderr",
     "output_type": "stream",
     "text": [
      "/tmp/ipykernel_227183/1039163819.py:82: FutureWarning: The frame.append method is deprecated and will be removed from pandas in a future version. Use pandas.concat instead.\n",
      "  df = df.append(df_all, ignore_index=True)\n"
     ]
    },
    {
     "name": "stdout",
     "output_type": "stream",
     "text": [
      "PS_FAD131-5xFAD-M1liver_033123_r009.mzML\n",
      "Spectrum # =  None\n",
      "Chromatogram # = 143\n"
     ]
    },
    {
     "name": "stderr",
     "output_type": "stream",
     "text": [
      "/tmp/ipykernel_227183/1039163819.py:82: FutureWarning: The frame.append method is deprecated and will be removed from pandas in a future version. Use pandas.concat instead.\n",
      "  df = df.append(df_all, ignore_index=True)\n"
     ]
    },
    {
     "name": "stdout",
     "output_type": "stream",
     "text": [
      "PS_FAD131-5xFAD-M2liver_033123_r006.mzML\n",
      "Spectrum # =  None\n",
      "Chromatogram # = 143\n"
     ]
    },
    {
     "name": "stderr",
     "output_type": "stream",
     "text": [
      "/tmp/ipykernel_227183/1039163819.py:82: FutureWarning: The frame.append method is deprecated and will be removed from pandas in a future version. Use pandas.concat instead.\n",
      "  df = df.append(df_all, ignore_index=True)\n"
     ]
    },
    {
     "name": "stdout",
     "output_type": "stream",
     "text": [
      "PS_FAD131-5xFAD-M4liver_033123_r007.mzML\n",
      "Spectrum # =  None\n",
      "Chromatogram # = 143\n"
     ]
    },
    {
     "name": "stderr",
     "output_type": "stream",
     "text": [
      "/tmp/ipykernel_227183/1039163819.py:82: FutureWarning: The frame.append method is deprecated and will be removed from pandas in a future version. Use pandas.concat instead.\n",
      "  df = df.append(df_all, ignore_index=True)\n"
     ]
    },
    {
     "name": "stdout",
     "output_type": "stream",
     "text": [
      "PS_FAD173-5xFAD-M1liver_033123_r005.mzML\n",
      "Spectrum # =  None\n",
      "Chromatogram # = 143\n"
     ]
    },
    {
     "name": "stderr",
     "output_type": "stream",
     "text": [
      "/tmp/ipykernel_227183/1039163819.py:82: FutureWarning: The frame.append method is deprecated and will be removed from pandas in a future version. Use pandas.concat instead.\n",
      "  df = df.append(df_all, ignore_index=True)\n"
     ]
    },
    {
     "name": "stdout",
     "output_type": "stream",
     "text": [
      "PS_blank_033123_r004.mzML\n",
      "Spectrum # =  None\n",
      "Chromatogram # = 143\n"
     ]
    },
    {
     "name": "stderr",
     "output_type": "stream",
     "text": [
      "/tmp/ipykernel_227183/1039163819.py:82: FutureWarning: The frame.append method is deprecated and will be removed from pandas in a future version. Use pandas.concat instead.\n",
      "  df = df.append(df_all, ignore_index=True)\n",
      "/tmp/ipykernel_227183/1039163819.py:82: FutureWarning: The frame.append method is deprecated and will be removed from pandas in a future version. Use pandas.concat instead.\n",
      "  df = df.append(df_all, ignore_index=True)\n"
     ]
    },
    {
     "name": "stdout",
     "output_type": "stream",
     "text": [
      "PS_equisplash_033123_r001.mzML\n",
      "Spectrum # =  None\n",
      "Chromatogram # = 15\n",
      "TAG140_DOD73-5xFAD-M2liver_033123_r008.mzML\n",
      "Spectrum # =  None\n",
      "Chromatogram # = 185\n"
     ]
    },
    {
     "name": "stderr",
     "output_type": "stream",
     "text": [
      "/tmp/ipykernel_227183/1039163819.py:82: FutureWarning: The frame.append method is deprecated and will be removed from pandas in a future version. Use pandas.concat instead.\n",
      "  df = df.append(df_all, ignore_index=True)\n"
     ]
    },
    {
     "name": "stdout",
     "output_type": "stream",
     "text": [
      "TAG140_FAD131-5xFAD-M1liver_033123_r009.mzML\n",
      "Spectrum # =  None\n",
      "Chromatogram # = 185\n"
     ]
    },
    {
     "name": "stderr",
     "output_type": "stream",
     "text": [
      "/tmp/ipykernel_227183/1039163819.py:82: FutureWarning: The frame.append method is deprecated and will be removed from pandas in a future version. Use pandas.concat instead.\n",
      "  df = df.append(df_all, ignore_index=True)\n"
     ]
    },
    {
     "name": "stdout",
     "output_type": "stream",
     "text": [
      "TAG140_FAD131-5xFAD-M2liver_033123_r006.mzML\n",
      "Spectrum # =  None\n",
      "Chromatogram # = 185\n"
     ]
    },
    {
     "name": "stderr",
     "output_type": "stream",
     "text": [
      "/tmp/ipykernel_227183/1039163819.py:82: FutureWarning: The frame.append method is deprecated and will be removed from pandas in a future version. Use pandas.concat instead.\n",
      "  df = df.append(df_all, ignore_index=True)\n"
     ]
    },
    {
     "name": "stdout",
     "output_type": "stream",
     "text": [
      "TAG140_FAD131-5xFAD-M4liver_033123_r007.mzML\n",
      "Spectrum # =  None\n",
      "Chromatogram # = 185\n"
     ]
    },
    {
     "name": "stderr",
     "output_type": "stream",
     "text": [
      "/tmp/ipykernel_227183/1039163819.py:82: FutureWarning: The frame.append method is deprecated and will be removed from pandas in a future version. Use pandas.concat instead.\n",
      "  df = df.append(df_all, ignore_index=True)\n"
     ]
    },
    {
     "name": "stdout",
     "output_type": "stream",
     "text": [
      "TAG140_FAD173-5xFAD-M1liver_033123_r005.mzML\n",
      "Spectrum # =  None\n",
      "Chromatogram # = 185\n"
     ]
    },
    {
     "name": "stderr",
     "output_type": "stream",
     "text": [
      "/tmp/ipykernel_227183/1039163819.py:82: FutureWarning: The frame.append method is deprecated and will be removed from pandas in a future version. Use pandas.concat instead.\n",
      "  df = df.append(df_all, ignore_index=True)\n"
     ]
    },
    {
     "name": "stdout",
     "output_type": "stream",
     "text": [
      "TAG140_blank_033123_r004.mzML\n",
      "Spectrum # =  None\n",
      "Chromatogram # = 185\n"
     ]
    },
    {
     "name": "stderr",
     "output_type": "stream",
     "text": [
      "/tmp/ipykernel_227183/1039163819.py:82: FutureWarning: The frame.append method is deprecated and will be removed from pandas in a future version. Use pandas.concat instead.\n",
      "  df = df.append(df_all, ignore_index=True)\n",
      "/tmp/ipykernel_227183/1039163819.py:82: FutureWarning: The frame.append method is deprecated and will be removed from pandas in a future version. Use pandas.concat instead.\n",
      "  df = df.append(df_all, ignore_index=True)\n"
     ]
    },
    {
     "name": "stdout",
     "output_type": "stream",
     "text": [
      "TAG140_equisplash_033123_r001.mzML\n",
      "Spectrum # =  None\n",
      "Chromatogram # = 15\n",
      "TAG160_DOD73-5xFAD-M2liver_033123_r008.mzML\n",
      "Spectrum # =  None\n",
      "Chromatogram # = 185\n"
     ]
    },
    {
     "name": "stderr",
     "output_type": "stream",
     "text": [
      "/tmp/ipykernel_227183/1039163819.py:82: FutureWarning: The frame.append method is deprecated and will be removed from pandas in a future version. Use pandas.concat instead.\n",
      "  df = df.append(df_all, ignore_index=True)\n"
     ]
    },
    {
     "name": "stdout",
     "output_type": "stream",
     "text": [
      "TAG160_FAD131-5xFAD-M1liver_033123_r009.mzML\n",
      "Spectrum # =  None\n",
      "Chromatogram # = 185\n"
     ]
    },
    {
     "name": "stderr",
     "output_type": "stream",
     "text": [
      "/tmp/ipykernel_227183/1039163819.py:82: FutureWarning: The frame.append method is deprecated and will be removed from pandas in a future version. Use pandas.concat instead.\n",
      "  df = df.append(df_all, ignore_index=True)\n"
     ]
    },
    {
     "name": "stdout",
     "output_type": "stream",
     "text": [
      "TAG160_FAD131-5xFAD-M2liver_033123_r006.mzML\n",
      "Spectrum # =  None\n",
      "Chromatogram # = 185\n"
     ]
    },
    {
     "name": "stderr",
     "output_type": "stream",
     "text": [
      "/tmp/ipykernel_227183/1039163819.py:82: FutureWarning: The frame.append method is deprecated and will be removed from pandas in a future version. Use pandas.concat instead.\n",
      "  df = df.append(df_all, ignore_index=True)\n"
     ]
    },
    {
     "name": "stdout",
     "output_type": "stream",
     "text": [
      "TAG160_FAD131-5xFAD-M4liver_033123_r007.mzML\n",
      "Spectrum # =  None\n",
      "Chromatogram # = 185\n"
     ]
    },
    {
     "name": "stderr",
     "output_type": "stream",
     "text": [
      "/tmp/ipykernel_227183/1039163819.py:82: FutureWarning: The frame.append method is deprecated and will be removed from pandas in a future version. Use pandas.concat instead.\n",
      "  df = df.append(df_all, ignore_index=True)\n"
     ]
    },
    {
     "name": "stdout",
     "output_type": "stream",
     "text": [
      "TAG160_FAD173-5xFAD-M1liver_033123_r005.mzML\n",
      "Spectrum # =  None\n",
      "Chromatogram # = 185\n"
     ]
    },
    {
     "name": "stderr",
     "output_type": "stream",
     "text": [
      "/tmp/ipykernel_227183/1039163819.py:82: FutureWarning: The frame.append method is deprecated and will be removed from pandas in a future version. Use pandas.concat instead.\n",
      "  df = df.append(df_all, ignore_index=True)\n"
     ]
    },
    {
     "name": "stdout",
     "output_type": "stream",
     "text": [
      "TAG160_blank_033123_r004.mzML\n",
      "Spectrum # =  None\n",
      "Chromatogram # = 185\n"
     ]
    },
    {
     "name": "stderr",
     "output_type": "stream",
     "text": [
      "/tmp/ipykernel_227183/1039163819.py:82: FutureWarning: The frame.append method is deprecated and will be removed from pandas in a future version. Use pandas.concat instead.\n",
      "  df = df.append(df_all, ignore_index=True)\n",
      "/tmp/ipykernel_227183/1039163819.py:82: FutureWarning: The frame.append method is deprecated and will be removed from pandas in a future version. Use pandas.concat instead.\n",
      "  df = df.append(df_all, ignore_index=True)\n"
     ]
    },
    {
     "name": "stdout",
     "output_type": "stream",
     "text": [
      "TAG160_equisplash_033123_r001.mzML\n",
      "Spectrum # =  None\n",
      "Chromatogram # = 15\n",
      "TAG161_DOD73-5xFAD-M2liver_033123_r008.mzML\n",
      "Spectrum # =  None\n",
      "Chromatogram # = 173\n"
     ]
    },
    {
     "name": "stderr",
     "output_type": "stream",
     "text": [
      "/tmp/ipykernel_227183/1039163819.py:82: FutureWarning: The frame.append method is deprecated and will be removed from pandas in a future version. Use pandas.concat instead.\n",
      "  df = df.append(df_all, ignore_index=True)\n"
     ]
    },
    {
     "name": "stdout",
     "output_type": "stream",
     "text": [
      "TAG161_FAD131-5xFAD-M1liver_033123_r009.mzML\n",
      "Spectrum # =  None\n",
      "Chromatogram # = 173\n"
     ]
    },
    {
     "name": "stderr",
     "output_type": "stream",
     "text": [
      "/tmp/ipykernel_227183/1039163819.py:82: FutureWarning: The frame.append method is deprecated and will be removed from pandas in a future version. Use pandas.concat instead.\n",
      "  df = df.append(df_all, ignore_index=True)\n"
     ]
    },
    {
     "name": "stdout",
     "output_type": "stream",
     "text": [
      "TAG161_FAD131-5xFAD-M2liver_033123_r006.mzML\n",
      "Spectrum # =  None\n",
      "Chromatogram # = 173\n"
     ]
    },
    {
     "name": "stderr",
     "output_type": "stream",
     "text": [
      "/tmp/ipykernel_227183/1039163819.py:82: FutureWarning: The frame.append method is deprecated and will be removed from pandas in a future version. Use pandas.concat instead.\n",
      "  df = df.append(df_all, ignore_index=True)\n"
     ]
    },
    {
     "name": "stdout",
     "output_type": "stream",
     "text": [
      "TAG161_FAD131-5xFAD-M4liver_033123_r007.mzML\n",
      "Spectrum # =  None\n",
      "Chromatogram # = 173\n"
     ]
    },
    {
     "name": "stderr",
     "output_type": "stream",
     "text": [
      "/tmp/ipykernel_227183/1039163819.py:82: FutureWarning: The frame.append method is deprecated and will be removed from pandas in a future version. Use pandas.concat instead.\n",
      "  df = df.append(df_all, ignore_index=True)\n"
     ]
    },
    {
     "name": "stdout",
     "output_type": "stream",
     "text": [
      "TAG161_FAD173-5xFAD-M1liver_033123_r005.mzML\n",
      "Spectrum # =  None\n",
      "Chromatogram # = 173\n"
     ]
    },
    {
     "name": "stderr",
     "output_type": "stream",
     "text": [
      "/tmp/ipykernel_227183/1039163819.py:82: FutureWarning: The frame.append method is deprecated and will be removed from pandas in a future version. Use pandas.concat instead.\n",
      "  df = df.append(df_all, ignore_index=True)\n"
     ]
    },
    {
     "name": "stdout",
     "output_type": "stream",
     "text": [
      "TAG161_blank_033123_r004.mzML\n",
      "Spectrum # =  None\n",
      "Chromatogram # = 173\n"
     ]
    },
    {
     "name": "stderr",
     "output_type": "stream",
     "text": [
      "/tmp/ipykernel_227183/1039163819.py:82: FutureWarning: The frame.append method is deprecated and will be removed from pandas in a future version. Use pandas.concat instead.\n",
      "  df = df.append(df_all, ignore_index=True)\n",
      "/tmp/ipykernel_227183/1039163819.py:82: FutureWarning: The frame.append method is deprecated and will be removed from pandas in a future version. Use pandas.concat instead.\n",
      "  df = df.append(df_all, ignore_index=True)\n"
     ]
    },
    {
     "name": "stdout",
     "output_type": "stream",
     "text": [
      "TAG161_equisplash_033123_r001.mzML\n",
      "Spectrum # =  None\n",
      "Chromatogram # = 15\n",
      "TAG180_DOD73-5xFAD-M2liver_033123_r008.mzML\n",
      "Spectrum # =  None\n",
      "Chromatogram # = 185\n"
     ]
    },
    {
     "name": "stderr",
     "output_type": "stream",
     "text": [
      "/tmp/ipykernel_227183/1039163819.py:82: FutureWarning: The frame.append method is deprecated and will be removed from pandas in a future version. Use pandas.concat instead.\n",
      "  df = df.append(df_all, ignore_index=True)\n"
     ]
    },
    {
     "name": "stdout",
     "output_type": "stream",
     "text": [
      "TAG180_FAD131-5xFAD-M1liver_033123_r009.mzML\n",
      "Spectrum # =  None\n",
      "Chromatogram # = 185\n"
     ]
    },
    {
     "name": "stderr",
     "output_type": "stream",
     "text": [
      "/tmp/ipykernel_227183/1039163819.py:82: FutureWarning: The frame.append method is deprecated and will be removed from pandas in a future version. Use pandas.concat instead.\n",
      "  df = df.append(df_all, ignore_index=True)\n"
     ]
    },
    {
     "name": "stdout",
     "output_type": "stream",
     "text": [
      "TAG180_FAD131-5xFAD-M2liver_033123_r006.mzML\n",
      "Spectrum # =  None\n",
      "Chromatogram # = 185\n"
     ]
    },
    {
     "name": "stderr",
     "output_type": "stream",
     "text": [
      "/tmp/ipykernel_227183/1039163819.py:82: FutureWarning: The frame.append method is deprecated and will be removed from pandas in a future version. Use pandas.concat instead.\n",
      "  df = df.append(df_all, ignore_index=True)\n"
     ]
    },
    {
     "name": "stdout",
     "output_type": "stream",
     "text": [
      "TAG180_FAD131-5xFAD-M4liver_033123_r007.mzML\n",
      "Spectrum # =  None\n",
      "Chromatogram # = 185\n"
     ]
    },
    {
     "name": "stderr",
     "output_type": "stream",
     "text": [
      "/tmp/ipykernel_227183/1039163819.py:82: FutureWarning: The frame.append method is deprecated and will be removed from pandas in a future version. Use pandas.concat instead.\n",
      "  df = df.append(df_all, ignore_index=True)\n"
     ]
    },
    {
     "name": "stdout",
     "output_type": "stream",
     "text": [
      "TAG180_FAD173-5xFAD-M1liver_033123_r005.mzML\n",
      "Spectrum # =  None\n",
      "Chromatogram # = 185\n"
     ]
    },
    {
     "name": "stderr",
     "output_type": "stream",
     "text": [
      "/tmp/ipykernel_227183/1039163819.py:82: FutureWarning: The frame.append method is deprecated and will be removed from pandas in a future version. Use pandas.concat instead.\n",
      "  df = df.append(df_all, ignore_index=True)\n"
     ]
    },
    {
     "name": "stdout",
     "output_type": "stream",
     "text": [
      "TAG180_blank_033123_r004.mzML\n",
      "Spectrum # =  None\n",
      "Chromatogram # = 185\n"
     ]
    },
    {
     "name": "stderr",
     "output_type": "stream",
     "text": [
      "/tmp/ipykernel_227183/1039163819.py:82: FutureWarning: The frame.append method is deprecated and will be removed from pandas in a future version. Use pandas.concat instead.\n",
      "  df = df.append(df_all, ignore_index=True)\n",
      "/tmp/ipykernel_227183/1039163819.py:82: FutureWarning: The frame.append method is deprecated and will be removed from pandas in a future version. Use pandas.concat instead.\n",
      "  df = df.append(df_all, ignore_index=True)\n"
     ]
    },
    {
     "name": "stdout",
     "output_type": "stream",
     "text": [
      "TAG180_equisplash_033123_r001.mzML\n",
      "Spectrum # =  None\n",
      "Chromatogram # = 15\n",
      "TAG181_DOD73-5xFAD-M2liver_033123_r008.mzML\n",
      "Spectrum # =  None\n",
      "Chromatogram # = 173\n"
     ]
    },
    {
     "name": "stderr",
     "output_type": "stream",
     "text": [
      "/tmp/ipykernel_227183/1039163819.py:82: FutureWarning: The frame.append method is deprecated and will be removed from pandas in a future version. Use pandas.concat instead.\n",
      "  df = df.append(df_all, ignore_index=True)\n"
     ]
    },
    {
     "name": "stdout",
     "output_type": "stream",
     "text": [
      "TAG181_FAD131-5xFAD-M1liver_033123_r009.mzML\n",
      "Spectrum # =  None\n",
      "Chromatogram # = 173\n"
     ]
    },
    {
     "name": "stderr",
     "output_type": "stream",
     "text": [
      "/tmp/ipykernel_227183/1039163819.py:82: FutureWarning: The frame.append method is deprecated and will be removed from pandas in a future version. Use pandas.concat instead.\n",
      "  df = df.append(df_all, ignore_index=True)\n"
     ]
    },
    {
     "name": "stdout",
     "output_type": "stream",
     "text": [
      "TAG181_FAD131-5xFAD-M2liver_033123_r006.mzML\n",
      "Spectrum # =  None\n",
      "Chromatogram # = 173\n"
     ]
    },
    {
     "name": "stderr",
     "output_type": "stream",
     "text": [
      "/tmp/ipykernel_227183/1039163819.py:82: FutureWarning: The frame.append method is deprecated and will be removed from pandas in a future version. Use pandas.concat instead.\n",
      "  df = df.append(df_all, ignore_index=True)\n"
     ]
    },
    {
     "name": "stdout",
     "output_type": "stream",
     "text": [
      "TAG181_FAD131-5xFAD-M4liver_033123_r007.mzML\n",
      "Spectrum # =  None\n",
      "Chromatogram # = 173\n"
     ]
    },
    {
     "name": "stderr",
     "output_type": "stream",
     "text": [
      "/tmp/ipykernel_227183/1039163819.py:82: FutureWarning: The frame.append method is deprecated and will be removed from pandas in a future version. Use pandas.concat instead.\n",
      "  df = df.append(df_all, ignore_index=True)\n"
     ]
    },
    {
     "name": "stdout",
     "output_type": "stream",
     "text": [
      "TAG181_FAD173-5xFAD-M1liver_033123_r005.mzML\n",
      "Spectrum # =  None\n",
      "Chromatogram # = 173\n"
     ]
    },
    {
     "name": "stderr",
     "output_type": "stream",
     "text": [
      "/tmp/ipykernel_227183/1039163819.py:82: FutureWarning: The frame.append method is deprecated and will be removed from pandas in a future version. Use pandas.concat instead.\n",
      "  df = df.append(df_all, ignore_index=True)\n"
     ]
    },
    {
     "name": "stdout",
     "output_type": "stream",
     "text": [
      "TAG181_blank_033123_r004.mzML\n",
      "Spectrum # =  None\n",
      "Chromatogram # = 173\n"
     ]
    },
    {
     "name": "stderr",
     "output_type": "stream",
     "text": [
      "/tmp/ipykernel_227183/1039163819.py:82: FutureWarning: The frame.append method is deprecated and will be removed from pandas in a future version. Use pandas.concat instead.\n",
      "  df = df.append(df_all, ignore_index=True)\n",
      "/tmp/ipykernel_227183/1039163819.py:82: FutureWarning: The frame.append method is deprecated and will be removed from pandas in a future version. Use pandas.concat instead.\n",
      "  df = df.append(df_all, ignore_index=True)\n"
     ]
    },
    {
     "name": "stdout",
     "output_type": "stream",
     "text": [
      "TAG181_equisplash_033123_r001.mzML\n",
      "Spectrum # =  None\n",
      "Chromatogram # = 15\n",
      "TAG182_DOD73-5xFAD-M2liver_033123_r008.mzML\n",
      "Spectrum # =  None\n",
      "Chromatogram # = 163\n"
     ]
    },
    {
     "name": "stderr",
     "output_type": "stream",
     "text": [
      "/tmp/ipykernel_227183/1039163819.py:82: FutureWarning: The frame.append method is deprecated and will be removed from pandas in a future version. Use pandas.concat instead.\n",
      "  df = df.append(df_all, ignore_index=True)\n"
     ]
    },
    {
     "name": "stdout",
     "output_type": "stream",
     "text": [
      "TAG182_FAD131-5xFAD-M1liver_033123_r009.mzML\n",
      "Spectrum # =  None\n",
      "Chromatogram # = 163\n"
     ]
    },
    {
     "name": "stderr",
     "output_type": "stream",
     "text": [
      "/tmp/ipykernel_227183/1039163819.py:82: FutureWarning: The frame.append method is deprecated and will be removed from pandas in a future version. Use pandas.concat instead.\n",
      "  df = df.append(df_all, ignore_index=True)\n"
     ]
    },
    {
     "name": "stdout",
     "output_type": "stream",
     "text": [
      "TAG182_FAD131-5xFAD-M2liver_033123_r006.mzML\n",
      "Spectrum # =  None\n",
      "Chromatogram # = 163\n"
     ]
    },
    {
     "name": "stderr",
     "output_type": "stream",
     "text": [
      "/tmp/ipykernel_227183/1039163819.py:82: FutureWarning: The frame.append method is deprecated and will be removed from pandas in a future version. Use pandas.concat instead.\n",
      "  df = df.append(df_all, ignore_index=True)\n"
     ]
    },
    {
     "name": "stdout",
     "output_type": "stream",
     "text": [
      "TAG182_FAD131-5xFAD-M4liver_033123_r007.mzML\n",
      "Spectrum # =  None\n",
      "Chromatogram # = 163\n"
     ]
    },
    {
     "name": "stderr",
     "output_type": "stream",
     "text": [
      "/tmp/ipykernel_227183/1039163819.py:82: FutureWarning: The frame.append method is deprecated and will be removed from pandas in a future version. Use pandas.concat instead.\n",
      "  df = df.append(df_all, ignore_index=True)\n"
     ]
    },
    {
     "name": "stdout",
     "output_type": "stream",
     "text": [
      "TAG182_FAD173-5xFAD-M1liver_033123_r005.mzML\n",
      "Spectrum # =  None\n",
      "Chromatogram # = 163\n"
     ]
    },
    {
     "name": "stderr",
     "output_type": "stream",
     "text": [
      "/tmp/ipykernel_227183/1039163819.py:82: FutureWarning: The frame.append method is deprecated and will be removed from pandas in a future version. Use pandas.concat instead.\n",
      "  df = df.append(df_all, ignore_index=True)\n"
     ]
    },
    {
     "name": "stdout",
     "output_type": "stream",
     "text": [
      "TAG182_blank_033123_r004.mzML\n",
      "Spectrum # =  None\n",
      "Chromatogram # = 163\n"
     ]
    },
    {
     "name": "stderr",
     "output_type": "stream",
     "text": [
      "/tmp/ipykernel_227183/1039163819.py:82: FutureWarning: The frame.append method is deprecated and will be removed from pandas in a future version. Use pandas.concat instead.\n",
      "  df = df.append(df_all, ignore_index=True)\n",
      "/tmp/ipykernel_227183/1039163819.py:82: FutureWarning: The frame.append method is deprecated and will be removed from pandas in a future version. Use pandas.concat instead.\n",
      "  df = df.append(df_all, ignore_index=True)\n"
     ]
    },
    {
     "name": "stdout",
     "output_type": "stream",
     "text": [
      "TAG182_equisplash_033123_r001.mzML\n",
      "Spectrum # =  None\n",
      "Chromatogram # = 15\n",
      "TAG183_DOD73-5xFAD-M2liver_033123_r008.mzML\n",
      "Spectrum # =  None\n",
      "Chromatogram # = 153\n"
     ]
    },
    {
     "name": "stderr",
     "output_type": "stream",
     "text": [
      "/tmp/ipykernel_227183/1039163819.py:82: FutureWarning: The frame.append method is deprecated and will be removed from pandas in a future version. Use pandas.concat instead.\n",
      "  df = df.append(df_all, ignore_index=True)\n"
     ]
    },
    {
     "name": "stdout",
     "output_type": "stream",
     "text": [
      "TAG183_FAD131-5xFAD-M1liver_033123_r009.mzML\n",
      "Spectrum # =  None\n",
      "Chromatogram # = 153\n"
     ]
    },
    {
     "name": "stderr",
     "output_type": "stream",
     "text": [
      "/tmp/ipykernel_227183/1039163819.py:82: FutureWarning: The frame.append method is deprecated and will be removed from pandas in a future version. Use pandas.concat instead.\n",
      "  df = df.append(df_all, ignore_index=True)\n"
     ]
    },
    {
     "name": "stdout",
     "output_type": "stream",
     "text": [
      "TAG183_FAD131-5xFAD-M2liver_033123_r006.mzML\n",
      "Spectrum # =  None\n",
      "Chromatogram # = 153\n"
     ]
    },
    {
     "name": "stderr",
     "output_type": "stream",
     "text": [
      "/tmp/ipykernel_227183/1039163819.py:82: FutureWarning: The frame.append method is deprecated and will be removed from pandas in a future version. Use pandas.concat instead.\n",
      "  df = df.append(df_all, ignore_index=True)\n"
     ]
    },
    {
     "name": "stdout",
     "output_type": "stream",
     "text": [
      "TAG183_FAD131-5xFAD-M4liver_033123_r007.mzML\n",
      "Spectrum # =  None\n",
      "Chromatogram # = 153\n"
     ]
    },
    {
     "name": "stderr",
     "output_type": "stream",
     "text": [
      "/tmp/ipykernel_227183/1039163819.py:82: FutureWarning: The frame.append method is deprecated and will be removed from pandas in a future version. Use pandas.concat instead.\n",
      "  df = df.append(df_all, ignore_index=True)\n"
     ]
    },
    {
     "name": "stdout",
     "output_type": "stream",
     "text": [
      "TAG183_FAD173-5xFAD-M1liver_033123_r005.mzML\n",
      "Spectrum # =  None\n",
      "Chromatogram # = 153\n"
     ]
    },
    {
     "name": "stderr",
     "output_type": "stream",
     "text": [
      "/tmp/ipykernel_227183/1039163819.py:82: FutureWarning: The frame.append method is deprecated and will be removed from pandas in a future version. Use pandas.concat instead.\n",
      "  df = df.append(df_all, ignore_index=True)\n"
     ]
    },
    {
     "name": "stdout",
     "output_type": "stream",
     "text": [
      "TAG183_blank_033123_r004.mzML\n",
      "Spectrum # =  None\n",
      "Chromatogram # = 153\n"
     ]
    },
    {
     "name": "stderr",
     "output_type": "stream",
     "text": [
      "/tmp/ipykernel_227183/1039163819.py:82: FutureWarning: The frame.append method is deprecated and will be removed from pandas in a future version. Use pandas.concat instead.\n",
      "  df = df.append(df_all, ignore_index=True)\n",
      "/tmp/ipykernel_227183/1039163819.py:82: FutureWarning: The frame.append method is deprecated and will be removed from pandas in a future version. Use pandas.concat instead.\n",
      "  df = df.append(df_all, ignore_index=True)\n"
     ]
    },
    {
     "name": "stdout",
     "output_type": "stream",
     "text": [
      "TAG183_equisplash_033123_r001.mzML\n",
      "Spectrum # =  None\n",
      "Chromatogram # = 15\n",
      "TAG204_DOD73-5xFAD-M2liver_033123_r008.mzML\n",
      "Spectrum # =  None\n",
      "Chromatogram # = 143\n"
     ]
    },
    {
     "name": "stderr",
     "output_type": "stream",
     "text": [
      "/tmp/ipykernel_227183/1039163819.py:82: FutureWarning: The frame.append method is deprecated and will be removed from pandas in a future version. Use pandas.concat instead.\n",
      "  df = df.append(df_all, ignore_index=True)\n"
     ]
    },
    {
     "name": "stdout",
     "output_type": "stream",
     "text": [
      "TAG204_FAD131-5xFAD-M1liver_033123_r009.mzML\n",
      "Spectrum # =  None\n",
      "Chromatogram # = 143\n"
     ]
    },
    {
     "name": "stderr",
     "output_type": "stream",
     "text": [
      "/tmp/ipykernel_227183/1039163819.py:82: FutureWarning: The frame.append method is deprecated and will be removed from pandas in a future version. Use pandas.concat instead.\n",
      "  df = df.append(df_all, ignore_index=True)\n"
     ]
    },
    {
     "name": "stdout",
     "output_type": "stream",
     "text": [
      "TAG204_FAD131-5xFAD-M2liver_033123_r006.mzML\n",
      "Spectrum # =  None\n",
      "Chromatogram # = 143\n"
     ]
    },
    {
     "name": "stderr",
     "output_type": "stream",
     "text": [
      "/tmp/ipykernel_227183/1039163819.py:82: FutureWarning: The frame.append method is deprecated and will be removed from pandas in a future version. Use pandas.concat instead.\n",
      "  df = df.append(df_all, ignore_index=True)\n"
     ]
    },
    {
     "name": "stdout",
     "output_type": "stream",
     "text": [
      "TAG204_FAD131-5xFAD-M4liver_033123_r007.mzML\n",
      "Spectrum # =  None\n",
      "Chromatogram # = 143\n"
     ]
    },
    {
     "name": "stderr",
     "output_type": "stream",
     "text": [
      "/tmp/ipykernel_227183/1039163819.py:82: FutureWarning: The frame.append method is deprecated and will be removed from pandas in a future version. Use pandas.concat instead.\n",
      "  df = df.append(df_all, ignore_index=True)\n"
     ]
    },
    {
     "name": "stdout",
     "output_type": "stream",
     "text": [
      "TAG204_FAD173-5xFAD-M1liver_033123_r005.mzML\n",
      "Spectrum # =  None\n",
      "Chromatogram # = 143\n"
     ]
    },
    {
     "name": "stderr",
     "output_type": "stream",
     "text": [
      "/tmp/ipykernel_227183/1039163819.py:82: FutureWarning: The frame.append method is deprecated and will be removed from pandas in a future version. Use pandas.concat instead.\n",
      "  df = df.append(df_all, ignore_index=True)\n"
     ]
    },
    {
     "name": "stdout",
     "output_type": "stream",
     "text": [
      "TAG204_blank_033123_r004.mzML\n",
      "Spectrum # =  None\n",
      "Chromatogram # = 143\n"
     ]
    },
    {
     "name": "stderr",
     "output_type": "stream",
     "text": [
      "/tmp/ipykernel_227183/1039163819.py:82: FutureWarning: The frame.append method is deprecated and will be removed from pandas in a future version. Use pandas.concat instead.\n",
      "  df = df.append(df_all, ignore_index=True)\n",
      "/tmp/ipykernel_227183/1039163819.py:82: FutureWarning: The frame.append method is deprecated and will be removed from pandas in a future version. Use pandas.concat instead.\n",
      "  df = df.append(df_all, ignore_index=True)\n"
     ]
    },
    {
     "name": "stdout",
     "output_type": "stream",
     "text": [
      "TAG204_equisplash_033123_r001.mzML\n",
      "Spectrum # =  None\n",
      "Chromatogram # = 15\n",
      "TAG225_DOD73-5xFAD-M2liver_033123_r008.mzML\n",
      "Spectrum # =  None\n",
      "Chromatogram # = 131\n"
     ]
    },
    {
     "name": "stderr",
     "output_type": "stream",
     "text": [
      "/tmp/ipykernel_227183/1039163819.py:82: FutureWarning: The frame.append method is deprecated and will be removed from pandas in a future version. Use pandas.concat instead.\n",
      "  df = df.append(df_all, ignore_index=True)\n"
     ]
    },
    {
     "name": "stdout",
     "output_type": "stream",
     "text": [
      "TAG225_FAD131-5xFAD-M1liver_033123_r009.mzML\n",
      "Spectrum # =  None\n",
      "Chromatogram # = 131\n"
     ]
    },
    {
     "name": "stderr",
     "output_type": "stream",
     "text": [
      "/tmp/ipykernel_227183/1039163819.py:82: FutureWarning: The frame.append method is deprecated and will be removed from pandas in a future version. Use pandas.concat instead.\n",
      "  df = df.append(df_all, ignore_index=True)\n"
     ]
    },
    {
     "name": "stdout",
     "output_type": "stream",
     "text": [
      "TAG225_FAD131-5xFAD-M2liver_033123_r006.mzML\n",
      "Spectrum # =  None\n",
      "Chromatogram # = 131\n"
     ]
    },
    {
     "name": "stderr",
     "output_type": "stream",
     "text": [
      "/tmp/ipykernel_227183/1039163819.py:82: FutureWarning: The frame.append method is deprecated and will be removed from pandas in a future version. Use pandas.concat instead.\n",
      "  df = df.append(df_all, ignore_index=True)\n"
     ]
    },
    {
     "name": "stdout",
     "output_type": "stream",
     "text": [
      "TAG225_FAD131-5xFAD-M4liver_033123_r007.mzML\n",
      "Spectrum # =  None\n",
      "Chromatogram # = 131\n"
     ]
    },
    {
     "name": "stderr",
     "output_type": "stream",
     "text": [
      "/tmp/ipykernel_227183/1039163819.py:82: FutureWarning: The frame.append method is deprecated and will be removed from pandas in a future version. Use pandas.concat instead.\n",
      "  df = df.append(df_all, ignore_index=True)\n"
     ]
    },
    {
     "name": "stdout",
     "output_type": "stream",
     "text": [
      "TAG225_FAD173-5xFAD-M1liver_033123_r005.mzML\n",
      "Spectrum # =  None\n",
      "Chromatogram # = 131\n"
     ]
    },
    {
     "name": "stderr",
     "output_type": "stream",
     "text": [
      "/tmp/ipykernel_227183/1039163819.py:82: FutureWarning: The frame.append method is deprecated and will be removed from pandas in a future version. Use pandas.concat instead.\n",
      "  df = df.append(df_all, ignore_index=True)\n"
     ]
    },
    {
     "name": "stdout",
     "output_type": "stream",
     "text": [
      "TAG225_blank_033123_r004.mzML\n",
      "Spectrum # =  None\n",
      "Chromatogram # = 131\n"
     ]
    },
    {
     "name": "stderr",
     "output_type": "stream",
     "text": [
      "/tmp/ipykernel_227183/1039163819.py:82: FutureWarning: The frame.append method is deprecated and will be removed from pandas in a future version. Use pandas.concat instead.\n",
      "  df = df.append(df_all, ignore_index=True)\n",
      "/tmp/ipykernel_227183/1039163819.py:82: FutureWarning: The frame.append method is deprecated and will be removed from pandas in a future version. Use pandas.concat instead.\n",
      "  df = df.append(df_all, ignore_index=True)\n"
     ]
    },
    {
     "name": "stdout",
     "output_type": "stream",
     "text": [
      "TAG225_equisplash_033123_r001.mzML\n",
      "Spectrum # =  None\n",
      "Chromatogram # = 15\n",
      "TAG226_DOD73-5xFAD-M2liver_033123_r008.mzML\n",
      "Spectrum # =  None\n",
      "Chromatogram # = 120\n"
     ]
    },
    {
     "name": "stderr",
     "output_type": "stream",
     "text": [
      "/tmp/ipykernel_227183/1039163819.py:82: FutureWarning: The frame.append method is deprecated and will be removed from pandas in a future version. Use pandas.concat instead.\n",
      "  df = df.append(df_all, ignore_index=True)\n"
     ]
    },
    {
     "name": "stdout",
     "output_type": "stream",
     "text": [
      "TAG226_FAD131-5xFAD-M1liver_033123_r009.mzML\n",
      "Spectrum # =  None\n",
      "Chromatogram # = 120\n"
     ]
    },
    {
     "name": "stderr",
     "output_type": "stream",
     "text": [
      "/tmp/ipykernel_227183/1039163819.py:82: FutureWarning: The frame.append method is deprecated and will be removed from pandas in a future version. Use pandas.concat instead.\n",
      "  df = df.append(df_all, ignore_index=True)\n"
     ]
    },
    {
     "name": "stdout",
     "output_type": "stream",
     "text": [
      "TAG226_FAD131-5xFAD-M2liver_033123_r006.mzML\n",
      "Spectrum # =  None\n",
      "Chromatogram # = 120\n"
     ]
    },
    {
     "name": "stderr",
     "output_type": "stream",
     "text": [
      "/tmp/ipykernel_227183/1039163819.py:82: FutureWarning: The frame.append method is deprecated and will be removed from pandas in a future version. Use pandas.concat instead.\n",
      "  df = df.append(df_all, ignore_index=True)\n"
     ]
    },
    {
     "name": "stdout",
     "output_type": "stream",
     "text": [
      "TAG226_FAD131-5xFAD-M4liver_033123_r007.mzML\n",
      "Spectrum # =  None\n",
      "Chromatogram # = 120\n"
     ]
    },
    {
     "name": "stderr",
     "output_type": "stream",
     "text": [
      "/tmp/ipykernel_227183/1039163819.py:82: FutureWarning: The frame.append method is deprecated and will be removed from pandas in a future version. Use pandas.concat instead.\n",
      "  df = df.append(df_all, ignore_index=True)\n"
     ]
    },
    {
     "name": "stdout",
     "output_type": "stream",
     "text": [
      "TAG226_FAD173-5xFAD-M1liver_033123_r005.mzML\n",
      "Spectrum # =  None\n",
      "Chromatogram # = 120\n"
     ]
    },
    {
     "name": "stderr",
     "output_type": "stream",
     "text": [
      "/tmp/ipykernel_227183/1039163819.py:82: FutureWarning: The frame.append method is deprecated and will be removed from pandas in a future version. Use pandas.concat instead.\n",
      "  df = df.append(df_all, ignore_index=True)\n"
     ]
    },
    {
     "name": "stdout",
     "output_type": "stream",
     "text": [
      "TAG226_blank_033123_r004.mzML\n",
      "Spectrum # =  None\n",
      "Chromatogram # = 120\n",
      "TAG226_equisplash_033123_r001.mzML\n",
      "Spectrum # =  None\n",
      "Chromatogram # = 15\n"
     ]
    },
    {
     "name": "stderr",
     "output_type": "stream",
     "text": [
      "/tmp/ipykernel_227183/1039163819.py:82: FutureWarning: The frame.append method is deprecated and will be removed from pandas in a future version. Use pandas.concat instead.\n",
      "  df = df.append(df_all, ignore_index=True)\n",
      "/tmp/ipykernel_227183/1039163819.py:82: FutureWarning: The frame.append method is deprecated and will be removed from pandas in a future version. Use pandas.concat instead.\n",
      "  df = df.append(df_all, ignore_index=True)\n"
     ]
    },
    {
     "data": {
      "text/plain": [
       "20814"
      ]
     },
     "execution_count": 37,
     "metadata": {},
     "output_type": "execute_result"
    }
   ],
   "source": [
    "\n",
    "# data_folder = os.listdir('./data_mzml/liver_LD/sample/') #Path to the mzml files\n",
    "# data_folder.sort()\n",
    "# path_to_mzml_files = './data_mzml/liver_LD/sample/'\n",
    "# #data_dict = {} #Empty dictionary to store all the data\n",
    "# df = pd.DataFrame(columns=['Lipid','Parent_Ion','Product_Ion','Intensity','Transition','Class','Sample_ID'])\n",
    "# #Create a similar for loop, except store all data in a single pandas dataframe\n",
    "# #df_all = pd.DataFrame(columns=['Q1','Q3','Intensity','Transition','Lipid','Class']) #Create empty pandas dataframe to store the data\n",
    "\n",
    "\n",
    "\n",
    "def mzml_parser(file_name='./data_mzml/liver_LD/sample/'):\n",
    "    df = pd.DataFrame(columns=['Lipid','Parent_Ion','Product_Ion','Intensity','Transition','Class','Sample_ID'])\n",
    "    data_folder = os.listdir(file_name) #Path to the mzml files\n",
    "    data_folder.sort()\n",
    "    path_to_mzml_files = file_name\n",
    "    ##My edit\n",
    "    for file in data_folder:\n",
    "            if file.endswith('.mzML'):\n",
    "                    print(file)\n",
    "                    run = pymzml.run.Reader(path_to_mzml_files+file, skip_chromatogram=False) #Load the mzml file into the run object\n",
    "                    print('Spectrum # = ',run.get_spectrum_count())\n",
    "                    print('Chromatogram # =',run.get_chromatogram_count())\n",
    "\n",
    "\n",
    "                    df_all = pd.DataFrame(columns=['Lipid','Parent_Ion','Product_Ion','Intensity','Transition','Class','Sample_ID']) #Create empty pandas dataframe to store the data\n",
    "\n",
    "                    #create pandas dataframe to store the data with the columns Parent Ion, Product Ion, Intensity, Transition Lipid and Class\n",
    "                    #df_sample = pd.DataFrame(columns=['Parent_Ion','Product_Ion','Intensity','Transition','Lipid','Class']) #Create empty pandas dataframe to store the data\n",
    "                    #df_sample = pd.DataFrame(columns=['Q1','Q3','Intensity','Transition','Lipid','Class']) #Create empty pandas dataframe to store the data\n",
    "                    q1_mz = 0 #Create empty variables to store the Q1 and Q3 m/z values\n",
    "                    q3_mz = 0\n",
    "                    count = 0 #Create a counter to keep track of the number of transitions\n",
    "                    for spectrum in run:\n",
    "\n",
    "                            ###\n",
    "                            # if isinstance(spectrum,pymzml.spec.Chromatogram):\n",
    "                            #         for time, intensity in spectrum.peaks():\n",
    "                            #                 print(time, intensity)\n",
    "                            #                 OzESI_time[time] = intensity\n",
    "                            #         # OzESI_time.append(time_list)\n",
    "                            ###\n",
    "\n",
    "                            for element in spectrum.ID.split(' '):\n",
    "                                    # print('element',element)\n",
    "                                    intensity_store = np.array([])\n",
    "                                    if 'Q1' in element:\n",
    "                                            #print('Q1',element)\n",
    "                                            q1 = element.split('=')\n",
    "                                            #print('q1',q1[1])\n",
    "                                            q1_mz= np.round((float(q1[1])),1)\n",
    "                                            # print('q1',q1)\n",
    "\n",
    "                                    if 'Q3' in element:\n",
    "                                            #print('Q3',element)\n",
    "                                            q3 = element.split('=')\n",
    "                                            #print('q3',q3[1])\n",
    "                                            q3_mz=np.round(float(q3[1]),1)\n",
    "                                            # print('q3',q3)\n",
    "                                            # df_sample.loc[count,'Q1'] = q1_mz\n",
    "                                            # df_sample.loc[count,'Q3'] = q3_mz\n",
    "\n",
    "                                            for mz,intensity in spectrum.peaks(): #Get the m/z and intensity values from the spectrum\n",
    "                                                    intensity_store = np.append(intensity_store,intensity) #Store the intensity values in an array\n",
    "\n",
    "\n",
    "\n",
    "                                    if 'Q3' in element:\n",
    "                                            # print(intensity_sum)\n",
    "                                            intensity_sum = np.sum(intensity_store) #Sum the intensity values\n",
    "                                            df_all.loc[count,'Parent_Ion'] = q1_mz #Store the Q1 and Q3 m/z values in the pandas dataframe\n",
    "                                            df_all.loc[count,'Product_Ion'] = q3_mz\n",
    "                                            #round the Q1 and Q3 m/z values to 1 decimal places\n",
    "                                            df_all.loc[count,'Parent_Ion'] = np.round(df_all.loc[count,'Parent_Ion'],1)\n",
    "                                            df_all.loc[count,'Product_Ion'] = np.round(df_all.loc[count,'Product_Ion'],1)\n",
    "                                            df_all.loc[count,'Intensity'] = intensity_sum #Store the intensity values in the pandas dataframe\n",
    "                                            df_all.loc[count,'Transition'] = str(q1_mz)+ ' -> '+ str(q3_mz) #Store the transition values in the pandas dataframe\n",
    "                                            #add file name to Sample_ID column without the mzmL extension\n",
    "                                            df_all.loc[count,'Sample_ID'] = file[:-5]\n",
    "                                            count+=1\n",
    "\n",
    "            #append df_all to df_all2\n",
    "            df = df.append(df_all, ignore_index=True)\n",
    "    return df\n",
    "df = mzml_parser(file_name='./data_mzml/liver_LD/sample/')\n",
    "df.tail(5) \n",
    "len(df)"
   ]
  },
  {
   "cell_type": "markdown",
   "metadata": {},
   "source": [
    "Load MRM transitions from csv file to pandas dataframe. This list will be used to identify the possible lipids in our sample."
   ]
  },
  {
   "cell_type": "code",
   "execution_count": 29,
   "metadata": {
    "scrolled": true
   },
   "outputs": [
    {
     "name": "stdout",
     "output_type": "stream",
     "text": [
      "84 AC_DOD73-5xFAD-M2liver_033123_r008\n",
      "84 AC_FAD131-5xFAD-M1liver_033123_r009\n",
      "84 AC_FAD131-5xFAD-M2liver_033123_r006\n",
      "84 AC_FAD131-5xFAD-M4liver_033123_r007\n",
      "84 AC_FAD173-5xFAD-M1liver_033123_r005\n",
      "84 AC_blank_033123_r004\n",
      "164 CER_DOD73-5xFAD-M2liver_033123_r008\n",
      "164 CER_FAD131-5xFAD-M1liver_033123_r009\n",
      "164 CER_FAD131-5xFAD-M2liver_033123_r006\n",
      "164 CER_FAD131-5xFAD-M4liver_033123_r007\n",
      "164 CER_FAD173-5xFAD-M1liver_033123_r005\n",
      "164 CER_blank_033123_r004\n",
      "12 CER_equisplash_033123_r001\n",
      "35 CE_DOD73-5xFAD-M2liver_033123_r008\n",
      "35 CE_FAD131-5xFAD-M1liver_033123_r009\n",
      "35 CE_FAD131-5xFAD-M2liver_033123_r006\n",
      "35 CE_FAD131-5xFAD-M4liver_033123_r007\n",
      "35 CE_FAD173-5xFAD-M1liver_033123_r005\n",
      "35 CE_blank_033123_r004\n",
      "12 CE_equisplash_033123_r001\n",
      "106 DG-160_DOD73-5xFAD-M2liver_033123_r008\n",
      "106 DG-160_FAD131-5xFAD-M1liver_033123_r009\n",
      "106 DG-160_FAD131-5xFAD-M2liver_033123_r006\n",
      "106 DG-160_FAD131-5xFAD-M4liver_033123_r007\n",
      "106 DG-160_FAD173-5xFAD-M1liver_033123_r005\n",
      "106 DG-160_blank_033123_r004\n",
      "12 DG-160_equisplash_033123_r001\n",
      "95 DG-161_DOD73-5xFAD-M2liver_033123_r008\n",
      "95 DG-161_FAD131-5xFAD-M1liver_033123_r009\n",
      "95 DG-161_FAD131-5xFAD-M2liver_033123_r006\n",
      "95 DG-161_FAD131-5xFAD-M4liver_033123_r007\n",
      "95 DG-161_FAD173-5xFAD-M1liver_033123_r005\n",
      "95 DG-161_blank_033123_r004\n",
      "12 DG-161_equisplash_033123_r001\n",
      "106 DG-180_DOD73-5xFAD-M2liver_033123_r008\n",
      "106 DG-180_FAD131-5xFAD-M1liver_033123_r009\n",
      "106 DG-180_FAD131-5xFAD-M2liver_033123_r006\n",
      "106 DG-180_FAD131-5xFAD-M4liver_033123_r007\n",
      "106 DG-180_FAD173-5xFAD-M1liver_033123_r005\n",
      "106 DG-180_blank_033123_r004\n",
      "12 DG-180_equisplash_033123_r001\n",
      "95 DG-181_DOD73-5xFAD-M2liver_033123_r008\n",
      "95 DG-181_FAD131-5xFAD-M1liver_033123_r009\n",
      "95 DG-181_FAD131-5xFAD-M2liver_033123_r006\n",
      "95 DG-181_FAD131-5xFAD-M4liver_033123_r007\n",
      "95 DG-181_FAD173-5xFAD-M1liver_033123_r005\n",
      "95 DG-181_blank_033123_r004\n",
      "12 DG-181_equisplash_033123_r001\n",
      "85 DG-182_DOD73-5xFAD-M2liver_033123_r008\n",
      "85 DG-182_FAD131-5xFAD-M1liver_033123_r009\n",
      "85 DG-182_FAD131-5xFAD-M2liver_033123_r006\n",
      "85 DG-182_FAD131-5xFAD-M4liver_033123_r007\n",
      "85 DG-182_FAD173-5xFAD-M1liver_033123_r005\n",
      "85 DG-182_blank_033123_r004\n",
      "12 DG-182_equisplash_033123_r001\n",
      "179 FFA_DOD73-5xFAD-M2liver_033123_r008\n",
      "179 FFA_FAD131-5xFAD-M1liver_033123_r009\n",
      "179 FFA_FAD131-5xFAD-M2liver_033123_r006\n",
      "179 FFA_FAD131-5xFAD-M4liver_033123_r007\n",
      "179 FFA_FAD173-5xFAD-M1liver_033123_r005\n",
      "179 FFA_blank_033123_r004\n",
      "12 FFA_equisplash_033123_r001\n",
      "180 PC_DOD73-5xFAD-M2liver_033123_r008\n",
      "180 PC_FAD131-5xFAD-M1liver_033123_r009\n",
      "180 PC_FAD131-5xFAD-M2liver_033123_r006\n",
      "180 PC_FAD131-5xFAD-M4liver_033123_r007\n",
      "180 PC_FAD173-5xFAD-M1liver_033123_r005\n",
      "180 PC_blank_033123_r004\n",
      "12 PC_equisplash_033123_r001\n",
      "147 PE_DOD73-5xFAD-M2liver_033123_r008\n",
      "147 PE_FAD131-5xFAD-M1liver_033123_r009\n",
      "147 PE_FAD131-5xFAD-M2liver_033123_r006\n",
      "147 PE_FAD131-5xFAD-M4liver_033123_r007\n",
      "147 PE_FAD173-5xFAD-M1liver_033123_r005\n",
      "147 PE_blank_033123_r004\n",
      "12 PE_equisplash_033123_r001\n",
      "142 PG_DOD73-5xFAD-M2liver_033123_r008\n",
      "142 PG_FAD131-5xFAD-M1liver_033123_r009\n",
      "142 PG_FAD131-5xFAD-M2liver_033123_r006\n",
      "142 PG_FAD131-5xFAD-M4liver_033123_r007\n",
      "142 PG_FAD173-5xFAD-M1liver_033123_r005\n",
      "142 PG_blank_033123_r004\n",
      "12 PG_equisplash_033123_r001\n",
      "284 PI_DOD73-5xFAD-M2liver_033123_r008\n",
      "284 PI_FAD131-5xFAD-M1liver_033123_r009\n",
      "284 PI_FAD131-5xFAD-M2liver_033123_r006\n",
      "284 PI_FAD131-5xFAD-M4liver_033123_r007\n",
      "284 PI_FAD173-5xFAD-M1liver_033123_r005\n",
      "284 PI_blank_033123_r004\n",
      "12 PI_equisplash_033123_r001\n",
      "140 PS_DOD73-5xFAD-M2liver_033123_r008\n",
      "140 PS_FAD131-5xFAD-M1liver_033123_r009\n",
      "140 PS_FAD131-5xFAD-M2liver_033123_r006\n",
      "140 PS_FAD131-5xFAD-M4liver_033123_r007\n",
      "140 PS_FAD173-5xFAD-M1liver_033123_r005\n",
      "140 PS_blank_033123_r004\n",
      "12 PS_equisplash_033123_r001\n",
      "182 TAG140_DOD73-5xFAD-M2liver_033123_r008\n",
      "182 TAG140_FAD131-5xFAD-M1liver_033123_r009\n",
      "182 TAG140_FAD131-5xFAD-M2liver_033123_r006\n",
      "182 TAG140_FAD131-5xFAD-M4liver_033123_r007\n",
      "182 TAG140_FAD173-5xFAD-M1liver_033123_r005\n",
      "182 TAG140_blank_033123_r004\n",
      "12 TAG140_equisplash_033123_r001\n",
      "182 TAG160_DOD73-5xFAD-M2liver_033123_r008\n",
      "182 TAG160_FAD131-5xFAD-M1liver_033123_r009\n",
      "182 TAG160_FAD131-5xFAD-M2liver_033123_r006\n",
      "182 TAG160_FAD131-5xFAD-M4liver_033123_r007\n",
      "182 TAG160_FAD173-5xFAD-M1liver_033123_r005\n",
      "182 TAG160_blank_033123_r004\n",
      "12 TAG160_equisplash_033123_r001\n",
      "170 TAG161_DOD73-5xFAD-M2liver_033123_r008\n",
      "170 TAG161_FAD131-5xFAD-M1liver_033123_r009\n",
      "170 TAG161_FAD131-5xFAD-M2liver_033123_r006\n",
      "170 TAG161_FAD131-5xFAD-M4liver_033123_r007\n",
      "170 TAG161_FAD173-5xFAD-M1liver_033123_r005\n",
      "170 TAG161_blank_033123_r004\n",
      "12 TAG161_equisplash_033123_r001\n",
      "182 TAG180_DOD73-5xFAD-M2liver_033123_r008\n",
      "182 TAG180_FAD131-5xFAD-M1liver_033123_r009\n",
      "182 TAG180_FAD131-5xFAD-M2liver_033123_r006\n",
      "182 TAG180_FAD131-5xFAD-M4liver_033123_r007\n",
      "182 TAG180_FAD173-5xFAD-M1liver_033123_r005\n",
      "182 TAG180_blank_033123_r004\n",
      "12 TAG180_equisplash_033123_r001\n",
      "170 TAG181_DOD73-5xFAD-M2liver_033123_r008\n",
      "170 TAG181_FAD131-5xFAD-M1liver_033123_r009\n",
      "170 TAG181_FAD131-5xFAD-M2liver_033123_r006\n",
      "170 TAG181_FAD131-5xFAD-M4liver_033123_r007\n",
      "170 TAG181_FAD173-5xFAD-M1liver_033123_r005\n",
      "170 TAG181_blank_033123_r004\n",
      "12 TAG181_equisplash_033123_r001\n",
      "160 TAG182_DOD73-5xFAD-M2liver_033123_r008\n",
      "160 TAG182_FAD131-5xFAD-M1liver_033123_r009\n",
      "160 TAG182_FAD131-5xFAD-M2liver_033123_r006\n",
      "160 TAG182_FAD131-5xFAD-M4liver_033123_r007\n",
      "160 TAG182_FAD173-5xFAD-M1liver_033123_r005\n",
      "160 TAG182_blank_033123_r004\n",
      "12 TAG182_equisplash_033123_r001\n",
      "150 TAG183_DOD73-5xFAD-M2liver_033123_r008\n",
      "150 TAG183_FAD131-5xFAD-M1liver_033123_r009\n",
      "150 TAG183_FAD131-5xFAD-M2liver_033123_r006\n",
      "150 TAG183_FAD131-5xFAD-M4liver_033123_r007\n",
      "150 TAG183_FAD173-5xFAD-M1liver_033123_r005\n",
      "150 TAG183_blank_033123_r004\n",
      "12 TAG183_equisplash_033123_r001\n",
      "140 TAG204_DOD73-5xFAD-M2liver_033123_r008\n",
      "140 TAG204_FAD131-5xFAD-M1liver_033123_r009\n",
      "140 TAG204_FAD131-5xFAD-M2liver_033123_r006\n",
      "140 TAG204_FAD131-5xFAD-M4liver_033123_r007\n",
      "140 TAG204_FAD173-5xFAD-M1liver_033123_r005\n",
      "140 TAG204_blank_033123_r004\n",
      "12 TAG204_equisplash_033123_r001\n",
      "128 TAG225_DOD73-5xFAD-M2liver_033123_r008\n",
      "128 TAG225_FAD131-5xFAD-M1liver_033123_r009\n",
      "128 TAG225_FAD131-5xFAD-M2liver_033123_r006\n",
      "128 TAG225_FAD131-5xFAD-M4liver_033123_r007\n",
      "128 TAG225_FAD173-5xFAD-M1liver_033123_r005\n",
      "128 TAG225_blank_033123_r004\n",
      "12 TAG225_equisplash_033123_r001\n",
      "117 TAG226_DOD73-5xFAD-M2liver_033123_r008\n",
      "117 TAG226_FAD131-5xFAD-M1liver_033123_r009\n",
      "117 TAG226_FAD131-5xFAD-M2liver_033123_r006\n",
      "117 TAG226_FAD131-5xFAD-M4liver_033123_r007\n",
      "117 TAG226_FAD173-5xFAD-M1liver_033123_r005\n",
      "117 TAG226_blank_033123_r004\n",
      "12 TAG226_equisplash_033123_r001\n"
     ]
    }
   ],
   "source": [
    "list1 = df['Sample_ID'].unique()\n",
    "list1.sort()\n",
    "list2 = list(df['Sample_ID'])\n",
    "for i in list1:\n",
    "    print(list2.count(i),i)"
   ]
  },
  {
   "cell_type": "code",
   "execution_count": 38,
   "metadata": {},
   "outputs": [
    {
     "name": "stdout",
     "output_type": "stream",
     "text": [
      "20814\n",
      "20405\n",
      "20814\n",
      "20405\n"
     ]
    },
    {
     "data": {
      "text/html": [
       "<div>\n",
       "<style scoped>\n",
       "    .dataframe tbody tr th:only-of-type {\n",
       "        vertical-align: middle;\n",
       "    }\n",
       "\n",
       "    .dataframe tbody tr th {\n",
       "        vertical-align: top;\n",
       "    }\n",
       "\n",
       "    .dataframe thead th {\n",
       "        text-align: right;\n",
       "    }\n",
       "</style>\n",
       "<table border=\"1\" class=\"dataframe\">\n",
       "  <thead>\n",
       "    <tr style=\"text-align: right;\">\n",
       "      <th></th>\n",
       "      <th>Lipid</th>\n",
       "      <th>Parent_Ion</th>\n",
       "      <th>Product_Ion</th>\n",
       "      <th>Intensity</th>\n",
       "      <th>Transition</th>\n",
       "      <th>Class</th>\n",
       "      <th>Sample_ID</th>\n",
       "    </tr>\n",
       "  </thead>\n",
       "  <tbody>\n",
       "    <tr>\n",
       "      <th>0</th>\n",
       "      <td>CAR_QUAL</td>\n",
       "      <td>162.2</td>\n",
       "      <td>60.1</td>\n",
       "      <td>3.450258e+04</td>\n",
       "      <td>162.2 -&gt; 60.1</td>\n",
       "      <td>CAR</td>\n",
       "      <td>AC_DOD73-5xFAD-M2liver_033123_r008</td>\n",
       "    </tr>\n",
       "    <tr>\n",
       "      <th>1</th>\n",
       "      <td>CAR</td>\n",
       "      <td>162.2</td>\n",
       "      <td>85.1</td>\n",
       "      <td>4.369762e+04</td>\n",
       "      <td>162.2 -&gt; 85.1</td>\n",
       "      <td>CAR</td>\n",
       "      <td>AC_DOD73-5xFAD-M2liver_033123_r008</td>\n",
       "    </tr>\n",
       "    <tr>\n",
       "      <th>2</th>\n",
       "      <td>CAR(2:0)_QUAL</td>\n",
       "      <td>204.1</td>\n",
       "      <td>60.1</td>\n",
       "      <td>1.375392e+05</td>\n",
       "      <td>204.1 -&gt; 60.1</td>\n",
       "      <td>CAR</td>\n",
       "      <td>AC_DOD73-5xFAD-M2liver_033123_r008</td>\n",
       "    </tr>\n",
       "    <tr>\n",
       "      <th>3</th>\n",
       "      <td>CAR(2:0)</td>\n",
       "      <td>204.1</td>\n",
       "      <td>85.1</td>\n",
       "      <td>3.777689e+06</td>\n",
       "      <td>204.1 -&gt; 85.1</td>\n",
       "      <td>CAR</td>\n",
       "      <td>AC_DOD73-5xFAD-M2liver_033123_r008</td>\n",
       "    </tr>\n",
       "    <tr>\n",
       "      <th>4</th>\n",
       "      <td>CAR(3:1)_QUAL</td>\n",
       "      <td>216.1</td>\n",
       "      <td>60.1</td>\n",
       "      <td>6.410654e+04</td>\n",
       "      <td>216.1 -&gt; 60.1</td>\n",
       "      <td>CAR</td>\n",
       "      <td>AC_DOD73-5xFAD-M2liver_033123_r008</td>\n",
       "    </tr>\n",
       "    <tr>\n",
       "      <th>...</th>\n",
       "      <td>...</td>\n",
       "      <td>...</td>\n",
       "      <td>...</td>\n",
       "      <td>...</td>\n",
       "      <td>...</td>\n",
       "      <td>...</td>\n",
       "      <td>...</td>\n",
       "    </tr>\n",
       "    <tr>\n",
       "      <th>20798</th>\n",
       "      <td>[TG(66:9),TG(65:2)]_FA22:6</td>\n",
       "      <td>1059.0</td>\n",
       "      <td>713.7</td>\n",
       "      <td>1.457024e+04</td>\n",
       "      <td>1059.0 -&gt; 713.7</td>\n",
       "      <td>TAG</td>\n",
       "      <td>TAG226_blank_033123_r004</td>\n",
       "    </tr>\n",
       "    <tr>\n",
       "      <th>20799</th>\n",
       "      <td>[TG(66:8),TG(65:1)]_FA22:6</td>\n",
       "      <td>1061.0</td>\n",
       "      <td>715.7</td>\n",
       "      <td>1.295954e+04</td>\n",
       "      <td>1061.0 -&gt; 715.7</td>\n",
       "      <td>TAG</td>\n",
       "      <td>TAG226_blank_033123_r004</td>\n",
       "    </tr>\n",
       "    <tr>\n",
       "      <th>20800</th>\n",
       "      <td>[TG(66:7)]_FA22:6</td>\n",
       "      <td>1062.9</td>\n",
       "      <td>717.6</td>\n",
       "      <td>1.432416e+04</td>\n",
       "      <td>1062.9 -&gt; 717.6</td>\n",
       "      <td>TAG</td>\n",
       "      <td>TAG226_blank_033123_r004</td>\n",
       "    </tr>\n",
       "    <tr>\n",
       "      <th>20801</th>\n",
       "      <td>[TG(66:6)]_FA22:6</td>\n",
       "      <td>1065.0</td>\n",
       "      <td>719.7</td>\n",
       "      <td>1.238056e+04</td>\n",
       "      <td>1065.0 -&gt; 719.7</td>\n",
       "      <td>TAG</td>\n",
       "      <td>TAG226_blank_033123_r004</td>\n",
       "    </tr>\n",
       "    <tr>\n",
       "      <th>20808</th>\n",
       "      <td>PC(33:5),PC(P-34:4)</td>\n",
       "      <td>738.6</td>\n",
       "      <td>184.1</td>\n",
       "      <td>3.123213e+08</td>\n",
       "      <td>738.6 -&gt; 184.1</td>\n",
       "      <td>PC</td>\n",
       "      <td>TAG226_equisplash_033123_r001</td>\n",
       "    </tr>\n",
       "  </tbody>\n",
       "</table>\n",
       "<p>20405 rows × 7 columns</p>\n",
       "</div>"
      ],
      "text/plain": [
       "                            Lipid  Parent_Ion  Product_Ion     Intensity  \\\n",
       "0                        CAR_QUAL       162.2         60.1  3.450258e+04   \n",
       "1                             CAR       162.2         85.1  4.369762e+04   \n",
       "2                   CAR(2:0)_QUAL       204.1         60.1  1.375392e+05   \n",
       "3                        CAR(2:0)       204.1         85.1  3.777689e+06   \n",
       "4                   CAR(3:1)_QUAL       216.1         60.1  6.410654e+04   \n",
       "...                           ...         ...          ...           ...   \n",
       "20798  [TG(66:9),TG(65:2)]_FA22:6      1059.0        713.7  1.457024e+04   \n",
       "20799  [TG(66:8),TG(65:1)]_FA22:6      1061.0        715.7  1.295954e+04   \n",
       "20800           [TG(66:7)]_FA22:6      1062.9        717.6  1.432416e+04   \n",
       "20801           [TG(66:6)]_FA22:6      1065.0        719.7  1.238056e+04   \n",
       "20808         PC(33:5),PC(P-34:4)       738.6        184.1  3.123213e+08   \n",
       "\n",
       "            Transition Class                           Sample_ID  \n",
       "0        162.2 -> 60.1   CAR  AC_DOD73-5xFAD-M2liver_033123_r008  \n",
       "1        162.2 -> 85.1   CAR  AC_DOD73-5xFAD-M2liver_033123_r008  \n",
       "2        204.1 -> 60.1   CAR  AC_DOD73-5xFAD-M2liver_033123_r008  \n",
       "3        204.1 -> 85.1   CAR  AC_DOD73-5xFAD-M2liver_033123_r008  \n",
       "4        216.1 -> 60.1   CAR  AC_DOD73-5xFAD-M2liver_033123_r008  \n",
       "...                ...   ...                                 ...  \n",
       "20798  1059.0 -> 713.7   TAG            TAG226_blank_033123_r004  \n",
       "20799  1061.0 -> 715.7   TAG            TAG226_blank_033123_r004  \n",
       "20800  1062.9 -> 717.6   TAG            TAG226_blank_033123_r004  \n",
       "20801  1065.0 -> 719.7   TAG            TAG226_blank_033123_r004  \n",
       "20808   738.6 -> 184.1    PC       TAG226_equisplash_033123_r001  \n",
       "\n",
       "[20405 rows x 7 columns]"
      ]
     },
     "execution_count": 38,
     "metadata": {},
     "output_type": "execute_result"
    }
   ],
   "source": [
    "# Function to create an ion dictionary from an MRM database DataFrame\n",
    "def create_ion_dict(mrm_database):\n",
    "    ion_dict = defaultdict(list)\n",
    "    # Iterate through the rows of the MRM database DataFrame\n",
    "    for index, row in mrm_database.iterrows():\n",
    "        # Add a tuple with Lipid and Class to the ion dictionary using Parent_Ion and Product_Ion as the key\n",
    "        ion_dict[(row['Parent_Ion'], row['Product_Ion'])].append((row['Lipid'], row['Class']))\n",
    "    return ion_dict\n",
    "\n",
    "# Function to check if the absolute difference between two values is within a given tolerance\n",
    "def within_tolerance(a, b, tolerance=0.1):\n",
    "    return abs(a - b) <= tolerance\n",
    "\n",
    "# Function to match the ions in a DataFrame row with the ions in an ion dictionary\n",
    "def match_ions(row, ion_dict, tolerance=0.1):\n",
    "    ions = (row['Parent_Ion'], row['Product_Ion'])\n",
    "    matched_lipids = []\n",
    "    matched_classes = []\n",
    "\n",
    "    # Iterate through the ion dictionary\n",
    "    for key, value in ion_dict.items():\n",
    "        # Check if both the Parent_Ion and Product_Ion values are within the specified tolerance\n",
    "        if within_tolerance(ions[0], key[0], tolerance) and within_tolerance(ions[1], key[1], tolerance):\n",
    "            # If within tolerance, extend the matched_lipids and matched_classes lists with the corresponding values\n",
    "            matched_lipids.extend([match[0] for match in value])\n",
    "            matched_classes.extend([match[1] for match in value])\n",
    "\n",
    "    # If any matches were found, update the Lipid and Class columns in the row\n",
    "    if matched_lipids and matched_classes:\n",
    "        row['Lipid'] = ' | '.join(matched_lipids)\n",
    "        row['Class'] = ' | '.join(matched_classes)\n",
    "\n",
    "    return row\n",
    "\n",
    "ion_dict = create_ion_dict(mrm_database)\n",
    "# Assuming you have the df DataFrame to apply the match_ions function\n",
    "df_matched = df.apply(lambda row: match_ions(row, ion_dict=ion_dict, tolerance=0.3), axis=1)\n",
    "len(df_matched)\n",
    "\n",
    "df_matched = df_matched.dropna()\n",
    "\n",
    "print(len(df))\n",
    "print(len(df_matched))\n",
    "df_matched.head(None)\n",
    "print(len(df))\n",
    "print(len(df_matched))\n",
    "df_matched.head(None)"
   ]
  },
  {
   "cell_type": "code",
   "execution_count": 16,
   "metadata": {},
   "outputs": [
    {
     "data": {
      "text/html": [
       "<div>\n",
       "<style scoped>\n",
       "    .dataframe tbody tr th:only-of-type {\n",
       "        vertical-align: middle;\n",
       "    }\n",
       "\n",
       "    .dataframe tbody tr th {\n",
       "        vertical-align: top;\n",
       "    }\n",
       "\n",
       "    .dataframe thead th {\n",
       "        text-align: right;\n",
       "    }\n",
       "</style>\n",
       "<table border=\"1\" class=\"dataframe\">\n",
       "  <thead>\n",
       "    <tr style=\"text-align: right;\">\n",
       "      <th></th>\n",
       "      <th>Lipid</th>\n",
       "      <th>Parent_Ion</th>\n",
       "      <th>Product_Ion</th>\n",
       "      <th>Intensity</th>\n",
       "      <th>Transition</th>\n",
       "      <th>Class</th>\n",
       "      <th>Sample_ID</th>\n",
       "    </tr>\n",
       "  </thead>\n",
       "  <tbody>\n",
       "    <tr>\n",
       "      <th>0</th>\n",
       "      <td>CAR_QUAL</td>\n",
       "      <td>162.2</td>\n",
       "      <td>60.1</td>\n",
       "      <td>3.508602e+04</td>\n",
       "      <td>162.2 -&gt; 60.1</td>\n",
       "      <td>CAR</td>\n",
       "      <td>AC_FAD131-5xFAD-M4liver_033123_r007</td>\n",
       "    </tr>\n",
       "    <tr>\n",
       "      <th>1</th>\n",
       "      <td>CAR</td>\n",
       "      <td>162.2</td>\n",
       "      <td>85.1</td>\n",
       "      <td>4.492750e+04</td>\n",
       "      <td>162.2 -&gt; 85.1</td>\n",
       "      <td>CAR</td>\n",
       "      <td>AC_FAD131-5xFAD-M4liver_033123_r007</td>\n",
       "    </tr>\n",
       "    <tr>\n",
       "      <th>2</th>\n",
       "      <td>CAR(2:0)_QUAL</td>\n",
       "      <td>204.1</td>\n",
       "      <td>60.1</td>\n",
       "      <td>1.404356e+05</td>\n",
       "      <td>204.1 -&gt; 60.1</td>\n",
       "      <td>CAR</td>\n",
       "      <td>AC_FAD131-5xFAD-M4liver_033123_r007</td>\n",
       "    </tr>\n",
       "    <tr>\n",
       "      <th>3</th>\n",
       "      <td>CAR(2:0)</td>\n",
       "      <td>204.1</td>\n",
       "      <td>85.1</td>\n",
       "      <td>3.860603e+06</td>\n",
       "      <td>204.1 -&gt; 85.1</td>\n",
       "      <td>CAR</td>\n",
       "      <td>AC_FAD131-5xFAD-M4liver_033123_r007</td>\n",
       "    </tr>\n",
       "    <tr>\n",
       "      <th>4</th>\n",
       "      <td>CAR(3:1)_QUAL</td>\n",
       "      <td>216.1</td>\n",
       "      <td>60.1</td>\n",
       "      <td>6.504970e+04</td>\n",
       "      <td>216.1 -&gt; 60.1</td>\n",
       "      <td>CAR</td>\n",
       "      <td>AC_FAD131-5xFAD-M4liver_033123_r007</td>\n",
       "    </tr>\n",
       "    <tr>\n",
       "      <th>...</th>\n",
       "      <td>...</td>\n",
       "      <td>...</td>\n",
       "      <td>...</td>\n",
       "      <td>...</td>\n",
       "      <td>...</td>\n",
       "      <td>...</td>\n",
       "      <td>...</td>\n",
       "    </tr>\n",
       "    <tr>\n",
       "      <th>45632</th>\n",
       "      <td>PI(44:2)</td>\n",
       "      <td>992.7</td>\n",
       "      <td>715.7</td>\n",
       "      <td>4.943260e+03</td>\n",
       "      <td>992.7 -&gt; 715.7</td>\n",
       "      <td>PI</td>\n",
       "      <td>PI_FAD173-5xFAD-M1liver_033123_r005</td>\n",
       "    </tr>\n",
       "    <tr>\n",
       "      <th>45633</th>\n",
       "      <td>PI(44:1)</td>\n",
       "      <td>994.7</td>\n",
       "      <td>717.7</td>\n",
       "      <td>5.440140e+03</td>\n",
       "      <td>994.7 -&gt; 717.7</td>\n",
       "      <td>PI</td>\n",
       "      <td>PI_FAD173-5xFAD-M1liver_033123_r005</td>\n",
       "    </tr>\n",
       "    <tr>\n",
       "      <th>45634</th>\n",
       "      <td>PI(44:1)</td>\n",
       "      <td>994.7</td>\n",
       "      <td>717.7</td>\n",
       "      <td>6.339521e+03</td>\n",
       "      <td>994.7 -&gt; 717.7</td>\n",
       "      <td>PI</td>\n",
       "      <td>PI_FAD173-5xFAD-M1liver_033123_r005</td>\n",
       "    </tr>\n",
       "    <tr>\n",
       "      <th>45635</th>\n",
       "      <td>PI(44:0)</td>\n",
       "      <td>996.7</td>\n",
       "      <td>719.7</td>\n",
       "      <td>5.170680e+03</td>\n",
       "      <td>996.7 -&gt; 719.7</td>\n",
       "      <td>PI</td>\n",
       "      <td>PI_FAD173-5xFAD-M1liver_033123_r005</td>\n",
       "    </tr>\n",
       "    <tr>\n",
       "      <th>45636</th>\n",
       "      <td>PI(44:0)</td>\n",
       "      <td>996.7</td>\n",
       "      <td>719.7</td>\n",
       "      <td>5.089200e+03</td>\n",
       "      <td>996.7 -&gt; 719.7</td>\n",
       "      <td>PI</td>\n",
       "      <td>PI_FAD173-5xFAD-M1liver_033123_r005</td>\n",
       "    </tr>\n",
       "  </tbody>\n",
       "</table>\n",
       "<p>45631 rows × 7 columns</p>\n",
       "</div>"
      ],
      "text/plain": [
       "               Lipid  Parent_Ion  Product_Ion     Intensity      Transition  \\\n",
       "0           CAR_QUAL       162.2         60.1  3.508602e+04   162.2 -> 60.1   \n",
       "1                CAR       162.2         85.1  4.492750e+04   162.2 -> 85.1   \n",
       "2      CAR(2:0)_QUAL       204.1         60.1  1.404356e+05   204.1 -> 60.1   \n",
       "3           CAR(2:0)       204.1         85.1  3.860603e+06   204.1 -> 85.1   \n",
       "4      CAR(3:1)_QUAL       216.1         60.1  6.504970e+04   216.1 -> 60.1   \n",
       "...              ...         ...          ...           ...             ...   \n",
       "45632       PI(44:2)       992.7        715.7  4.943260e+03  992.7 -> 715.7   \n",
       "45633       PI(44:1)       994.7        717.7  5.440140e+03  994.7 -> 717.7   \n",
       "45634       PI(44:1)       994.7        717.7  6.339521e+03  994.7 -> 717.7   \n",
       "45635       PI(44:0)       996.7        719.7  5.170680e+03  996.7 -> 719.7   \n",
       "45636       PI(44:0)       996.7        719.7  5.089200e+03  996.7 -> 719.7   \n",
       "\n",
       "      Class                            Sample_ID  \n",
       "0       CAR  AC_FAD131-5xFAD-M4liver_033123_r007  \n",
       "1       CAR  AC_FAD131-5xFAD-M4liver_033123_r007  \n",
       "2       CAR  AC_FAD131-5xFAD-M4liver_033123_r007  \n",
       "3       CAR  AC_FAD131-5xFAD-M4liver_033123_r007  \n",
       "4       CAR  AC_FAD131-5xFAD-M4liver_033123_r007  \n",
       "...     ...                                  ...  \n",
       "45632    PI  PI_FAD173-5xFAD-M1liver_033123_r005  \n",
       "45633    PI  PI_FAD173-5xFAD-M1liver_033123_r005  \n",
       "45634    PI  PI_FAD173-5xFAD-M1liver_033123_r005  \n",
       "45635    PI  PI_FAD173-5xFAD-M1liver_033123_r005  \n",
       "45636    PI  PI_FAD173-5xFAD-M1liver_033123_r005  \n",
       "\n",
       "[45631 rows x 7 columns]"
      ]
     },
     "execution_count": 16,
     "metadata": {},
     "output_type": "execute_result"
    }
   ],
   "source": [
    "df_matched.head(None)"
   ]
  },
  {
   "cell_type": "code",
   "execution_count": 40,
   "metadata": {},
   "outputs": [
    {
     "name": "stdout",
     "output_type": "stream",
     "text": [
      "20814\n"
     ]
    },
    {
     "data": {
      "text/html": [
       "<div>\n",
       "<style scoped>\n",
       "    .dataframe tbody tr th:only-of-type {\n",
       "        vertical-align: middle;\n",
       "    }\n",
       "\n",
       "    .dataframe tbody tr th {\n",
       "        vertical-align: top;\n",
       "    }\n",
       "\n",
       "    .dataframe thead th {\n",
       "        text-align: right;\n",
       "    }\n",
       "</style>\n",
       "<table border=\"1\" class=\"dataframe\">\n",
       "  <thead>\n",
       "    <tr style=\"text-align: right;\">\n",
       "      <th></th>\n",
       "      <th>Lipid</th>\n",
       "      <th>Parent_Ion</th>\n",
       "      <th>Product_Ion</th>\n",
       "      <th>Intensity</th>\n",
       "      <th>Transition</th>\n",
       "      <th>Class</th>\n",
       "      <th>Sample_ID</th>\n",
       "    </tr>\n",
       "  </thead>\n",
       "  <tbody>\n",
       "    <tr>\n",
       "      <th>0</th>\n",
       "      <td>CAR_QUAL</td>\n",
       "      <td>162.2</td>\n",
       "      <td>60.1</td>\n",
       "      <td>34502.582428</td>\n",
       "      <td>162.2 -&gt; 60.1</td>\n",
       "      <td>CAR</td>\n",
       "      <td>AC_DOD73-5xFAD-M2liver_033123_r008</td>\n",
       "    </tr>\n",
       "    <tr>\n",
       "      <th>1</th>\n",
       "      <td>CAR</td>\n",
       "      <td>162.2</td>\n",
       "      <td>85.1</td>\n",
       "      <td>43697.622925</td>\n",
       "      <td>162.2 -&gt; 85.1</td>\n",
       "      <td>CAR</td>\n",
       "      <td>AC_DOD73-5xFAD-M2liver_033123_r008</td>\n",
       "    </tr>\n",
       "    <tr>\n",
       "      <th>2</th>\n",
       "      <td>CAR(2:0)_QUAL</td>\n",
       "      <td>204.1</td>\n",
       "      <td>60.1</td>\n",
       "      <td>137539.249512</td>\n",
       "      <td>204.1 -&gt; 60.1</td>\n",
       "      <td>CAR</td>\n",
       "      <td>AC_DOD73-5xFAD-M2liver_033123_r008</td>\n",
       "    </tr>\n",
       "    <tr>\n",
       "      <th>3</th>\n",
       "      <td>CAR(2:0)</td>\n",
       "      <td>204.1</td>\n",
       "      <td>85.1</td>\n",
       "      <td>3777688.960938</td>\n",
       "      <td>204.1 -&gt; 85.1</td>\n",
       "      <td>CAR</td>\n",
       "      <td>AC_DOD73-5xFAD-M2liver_033123_r008</td>\n",
       "    </tr>\n",
       "    <tr>\n",
       "      <th>4</th>\n",
       "      <td>CAR(3:1)_QUAL</td>\n",
       "      <td>216.1</td>\n",
       "      <td>60.1</td>\n",
       "      <td>64106.544678</td>\n",
       "      <td>216.1 -&gt; 60.1</td>\n",
       "      <td>CAR</td>\n",
       "      <td>AC_DOD73-5xFAD-M2liver_033123_r008</td>\n",
       "    </tr>\n",
       "    <tr>\n",
       "      <th>...</th>\n",
       "      <td>...</td>\n",
       "      <td>...</td>\n",
       "      <td>...</td>\n",
       "      <td>...</td>\n",
       "      <td>...</td>\n",
       "      <td>...</td>\n",
       "      <td>...</td>\n",
       "    </tr>\n",
       "    <tr>\n",
       "      <th>20809</th>\n",
       "      <td>NaN</td>\n",
       "      <td>753.5</td>\n",
       "      <td>184.1</td>\n",
       "      <td>520997856.301666</td>\n",
       "      <td>753.5 -&gt; 184.1</td>\n",
       "      <td>NaN</td>\n",
       "      <td>TAG226_equisplash_033123_r001</td>\n",
       "    </tr>\n",
       "    <tr>\n",
       "      <th>20810</th>\n",
       "      <td>NaN</td>\n",
       "      <td>755.5</td>\n",
       "      <td>570.4</td>\n",
       "      <td>142358266.970703</td>\n",
       "      <td>755.5 -&gt; 570.4</td>\n",
       "      <td>NaN</td>\n",
       "      <td>TAG226_equisplash_033123_r001</td>\n",
       "    </tr>\n",
       "    <tr>\n",
       "      <th>20811</th>\n",
       "      <td>NaN</td>\n",
       "      <td>759.5</td>\n",
       "      <td>570.4</td>\n",
       "      <td>144748851.990967</td>\n",
       "      <td>759.5 -&gt; 570.4</td>\n",
       "      <td>NaN</td>\n",
       "      <td>TAG226_equisplash_033123_r001</td>\n",
       "    </tr>\n",
       "    <tr>\n",
       "      <th>20812</th>\n",
       "      <td>NaN</td>\n",
       "      <td>829.8</td>\n",
       "      <td>570.4</td>\n",
       "      <td>363229447.51355</td>\n",
       "      <td>829.8 -&gt; 570.4</td>\n",
       "      <td>NaN</td>\n",
       "      <td>TAG226_equisplash_033123_r001</td>\n",
       "    </tr>\n",
       "    <tr>\n",
       "      <th>20813</th>\n",
       "      <td>NaN</td>\n",
       "      <td>847.6</td>\n",
       "      <td>570.4</td>\n",
       "      <td>401627684.498688</td>\n",
       "      <td>847.6 -&gt; 570.4</td>\n",
       "      <td>NaN</td>\n",
       "      <td>TAG226_equisplash_033123_r001</td>\n",
       "    </tr>\n",
       "  </tbody>\n",
       "</table>\n",
       "<p>20814 rows × 7 columns</p>\n",
       "</div>"
      ],
      "text/plain": [
       "               Lipid Parent_Ion Product_Ion         Intensity      Transition  \\\n",
       "0           CAR_QUAL      162.2        60.1      34502.582428   162.2 -> 60.1   \n",
       "1                CAR      162.2        85.1      43697.622925   162.2 -> 85.1   \n",
       "2      CAR(2:0)_QUAL      204.1        60.1     137539.249512   204.1 -> 60.1   \n",
       "3           CAR(2:0)      204.1        85.1    3777688.960938   204.1 -> 85.1   \n",
       "4      CAR(3:1)_QUAL      216.1        60.1      64106.544678   216.1 -> 60.1   \n",
       "...              ...        ...         ...               ...             ...   \n",
       "20809            NaN      753.5       184.1  520997856.301666  753.5 -> 184.1   \n",
       "20810            NaN      755.5       570.4  142358266.970703  755.5 -> 570.4   \n",
       "20811            NaN      759.5       570.4  144748851.990967  759.5 -> 570.4   \n",
       "20812            NaN      829.8       570.4   363229447.51355  829.8 -> 570.4   \n",
       "20813            NaN      847.6       570.4  401627684.498688  847.6 -> 570.4   \n",
       "\n",
       "      Class                           Sample_ID  \n",
       "0       CAR  AC_DOD73-5xFAD-M2liver_033123_r008  \n",
       "1       CAR  AC_DOD73-5xFAD-M2liver_033123_r008  \n",
       "2       CAR  AC_DOD73-5xFAD-M2liver_033123_r008  \n",
       "3       CAR  AC_DOD73-5xFAD-M2liver_033123_r008  \n",
       "4       CAR  AC_DOD73-5xFAD-M2liver_033123_r008  \n",
       "...     ...                                 ...  \n",
       "20809   NaN       TAG226_equisplash_033123_r001  \n",
       "20810   NaN       TAG226_equisplash_033123_r001  \n",
       "20811   NaN       TAG226_equisplash_033123_r001  \n",
       "20812   NaN       TAG226_equisplash_033123_r001  \n",
       "20813   NaN       TAG226_equisplash_033123_r001  \n",
       "\n",
       "[20814 rows x 7 columns]"
      ]
     },
     "execution_count": 40,
     "metadata": {},
     "output_type": "execute_result"
    }
   ],
   "source": [
    "df_matched.to_csv(\"New_DF_3_tolerance.csv\")\n",
    "print(len(df))\n",
    "print(len(df_matched))\n",
    "df.head(None)"
   ]
  },
  {
   "cell_type": "code",
   "execution_count": 21,
   "metadata": {},
   "outputs": [
    {
     "name": "stdout",
     "output_type": "stream",
     "text": [
      "Saved DataFrame to data_results/data/data_matching/TEST_TEST/TEST_0.xlsx\n"
     ]
    }
   ],
   "source": [
    "########\n",
    "def save_dataframe(df, folder_name, file_name, max_attempts=5):\n",
    "    folder_path = f'data_results/data/data_matching/{folder_name}'\n",
    "    os.makedirs(folder_path, exist_ok=True)\n",
    "\n",
    "    for i in range(max_attempts):\n",
    "        file_path = f'{folder_path}/{file_name}_{i}.xlsx'\n",
    "        if not os.path.isfile(file_path):\n",
    "            df.to_excel(file_path, index=False)\n",
    "            print(f\"Saved DataFrame to {file_path}\")\n",
    "            break\n",
    "    else:\n",
    "        print(f\"Failed to save DataFrame after {max_attempts} attempts.\")\n",
    "        return None\n",
    "\n",
    "# Example usage:\n",
    "folder_name = 'TEST_TEST'\n",
    "file_name = 'TEST'\n",
    "df_matching = pd.DataFrame() # Replace with your DataFrame\n",
    "\n",
    "save_dataframe(df_matching, folder_name, file_name)\n"
   ]
  },
  {
   "cell_type": "code",
   "execution_count": 22,
   "metadata": {},
   "outputs": [
    {
     "name": "stderr",
     "output_type": "stream",
     "text": [
      "/home/sanjay/anaconda3/envs/pymzml/lib/python3.9/site-packages/tqdm/auto.py:21: TqdmWarning: IProgress not found. Please update jupyter and ipywidgets. See https://ipywidgets.readthedocs.io/en/stable/user_install.html\n",
      "  from .autonotebook import tqdm as notebook_tqdm\n"
     ]
    }
   ],
   "source": [
    "#import visualization libraries\n",
    "import umap\n",
    "import matplotlib.pyplot as plt\n",
    "import seaborn as sns\n",
    "import plotly.express as px\n",
    "import plotly.graph_objects as go"
   ]
  },
  {
   "cell_type": "code",
   "execution_count": 25,
   "metadata": {},
   "outputs": [
    {
     "data": {
      "application/vnd.plotly.v1+json": {
       "config": {
        "plotlyServerURL": "https://plot.ly"
       },
       "data": [
        {
         "alignmentgroup": "True",
         "customdata": [
          [
           "[TG(37:0)]_FA14:0",
           "TAG"
          ]
         ],
         "hovertemplate": "Lipid=%{customdata[0]}<br>Transition=%{x}<br>Intensity=%{y}<br>Class=%{customdata[1]}<extra></extra>",
         "legendgroup": "[TG(37:0)]_FA14:0",
         "marker": {
          "color": "#636efa"
         },
         "name": "[TG(37:0)]_FA14:0",
         "offsetgroup": "[TG(37:0)]_FA14:0",
         "orientation": "v",
         "showlegend": true,
         "textposition": "auto",
         "type": "bar",
         "x": [
          "670.6 -> 425.4"
         ],
         "xaxis": "x",
         "y": [
          45072.822998046875
         ],
         "yaxis": "y"
        },
        {
         "alignmentgroup": "True",
         "customdata": [
          [
           "[TG(38:1)]_FA14:0",
           "TAG"
          ]
         ],
         "hovertemplate": "Lipid=%{customdata[0]}<br>Transition=%{x}<br>Intensity=%{y}<br>Class=%{customdata[1]}<extra></extra>",
         "legendgroup": "[TG(38:1)]_FA14:0",
         "marker": {
          "color": "#EF553B"
         },
         "name": "[TG(38:1)]_FA14:0",
         "offsetgroup": "[TG(38:1)]_FA14:0",
         "orientation": "v",
         "showlegend": true,
         "textposition": "auto",
         "type": "bar",
         "x": [
          "682.6 -> 437.4"
         ],
         "xaxis": "x",
         "y": [
          64211.844482421875
         ],
         "yaxis": "y"
        },
        {
         "alignmentgroup": "True",
         "customdata": [
          [
           "[TG(38:0)]_FA14:0",
           "TAG"
          ]
         ],
         "hovertemplate": "Lipid=%{customdata[0]}<br>Transition=%{x}<br>Intensity=%{y}<br>Class=%{customdata[1]}<extra></extra>",
         "legendgroup": "[TG(38:0)]_FA14:0",
         "marker": {
          "color": "#00cc96"
         },
         "name": "[TG(38:0)]_FA14:0",
         "offsetgroup": "[TG(38:0)]_FA14:0",
         "orientation": "v",
         "showlegend": true,
         "textposition": "auto",
         "type": "bar",
         "x": [
          "684.6 -> 439.4"
         ],
         "xaxis": "x",
         "y": [
          237300.73681640625
         ],
         "yaxis": "y"
        },
        {
         "alignmentgroup": "True",
         "customdata": [
          [
           "[TG(39:1)]_FA14:0",
           "TAG"
          ]
         ],
         "hovertemplate": "Lipid=%{customdata[0]}<br>Transition=%{x}<br>Intensity=%{y}<br>Class=%{customdata[1]}<extra></extra>",
         "legendgroup": "[TG(39:1)]_FA14:0",
         "marker": {
          "color": "#ab63fa"
         },
         "name": "[TG(39:1)]_FA14:0",
         "offsetgroup": "[TG(39:1)]_FA14:0",
         "orientation": "v",
         "showlegend": true,
         "textposition": "auto",
         "type": "bar",
         "x": [
          "696.6 -> 451.4"
         ],
         "xaxis": "x",
         "y": [
          27744.182037353516
         ],
         "yaxis": "y"
        },
        {
         "alignmentgroup": "True",
         "customdata": [
          [
           "[TG(39:0)]_FA14:0",
           "TAG"
          ]
         ],
         "hovertemplate": "Lipid=%{customdata[0]}<br>Transition=%{x}<br>Intensity=%{y}<br>Class=%{customdata[1]}<extra></extra>",
         "legendgroup": "[TG(39:0)]_FA14:0",
         "marker": {
          "color": "#FFA15A"
         },
         "name": "[TG(39:0)]_FA14:0",
         "offsetgroup": "[TG(39:0)]_FA14:0",
         "orientation": "v",
         "showlegend": true,
         "textposition": "auto",
         "type": "bar",
         "x": [
          "698.6 -> 453.4"
         ],
         "xaxis": "x",
         "y": [
          37315.48260498047
         ],
         "yaxis": "y"
        },
        {
         "alignmentgroup": "True",
         "customdata": [
          [
           "[TG(40:2)]_FA14:0",
           "TAG"
          ]
         ],
         "hovertemplate": "Lipid=%{customdata[0]}<br>Transition=%{x}<br>Intensity=%{y}<br>Class=%{customdata[1]}<extra></extra>",
         "legendgroup": "[TG(40:2)]_FA14:0",
         "marker": {
          "color": "#19d3f3"
         },
         "name": "[TG(40:2)]_FA14:0",
         "offsetgroup": "[TG(40:2)]_FA14:0",
         "orientation": "v",
         "showlegend": true,
         "textposition": "auto",
         "type": "bar",
         "x": [
          "708.6 -> 463.4"
         ],
         "xaxis": "x",
         "y": [
          24415.261688232422
         ],
         "yaxis": "y"
        },
        {
         "alignmentgroup": "True",
         "customdata": [
          [
           "[TG(40:1)]_FA14:0",
           "TAG"
          ]
         ],
         "hovertemplate": "Lipid=%{customdata[0]}<br>Transition=%{x}<br>Intensity=%{y}<br>Class=%{customdata[1]}<extra></extra>",
         "legendgroup": "[TG(40:1)]_FA14:0",
         "marker": {
          "color": "#FF6692"
         },
         "name": "[TG(40:1)]_FA14:0",
         "offsetgroup": "[TG(40:1)]_FA14:0",
         "orientation": "v",
         "showlegend": true,
         "textposition": "auto",
         "type": "bar",
         "x": [
          "710.6 -> 465.4"
         ],
         "xaxis": "x",
         "y": [
          34708.20263671875
         ],
         "yaxis": "y"
        },
        {
         "alignmentgroup": "True",
         "customdata": [
          [
           "[TG(40:0)]_FA14:0",
           "TAG"
          ]
         ],
         "hovertemplate": "Lipid=%{customdata[0]}<br>Transition=%{x}<br>Intensity=%{y}<br>Class=%{customdata[1]}<extra></extra>",
         "legendgroup": "[TG(40:0)]_FA14:0",
         "marker": {
          "color": "#B6E880"
         },
         "name": "[TG(40:0)]_FA14:0",
         "offsetgroup": "[TG(40:0)]_FA14:0",
         "orientation": "v",
         "showlegend": true,
         "textposition": "auto",
         "type": "bar",
         "x": [
          "712.6 -> 467.4"
         ],
         "xaxis": "x",
         "y": [
          155327.89086914062
         ],
         "yaxis": "y"
        },
        {
         "alignmentgroup": "True",
         "customdata": [
          [
           "[TG(41:2)]_FA14:0",
           "TAG"
          ]
         ],
         "hovertemplate": "Lipid=%{customdata[0]}<br>Transition=%{x}<br>Intensity=%{y}<br>Class=%{customdata[1]}<extra></extra>",
         "legendgroup": "[TG(41:2)]_FA14:0",
         "marker": {
          "color": "#FF97FF"
         },
         "name": "[TG(41:2)]_FA14:0",
         "offsetgroup": "[TG(41:2)]_FA14:0",
         "orientation": "v",
         "showlegend": true,
         "textposition": "auto",
         "type": "bar",
         "x": [
          "722.6 -> 477.4"
         ],
         "xaxis": "x",
         "y": [
          20373.861602783203
         ],
         "yaxis": "y"
        },
        {
         "alignmentgroup": "True",
         "customdata": [
          [
           "[TG(41:1)]_FA14:0",
           "TAG"
          ]
         ],
         "hovertemplate": "Lipid=%{customdata[0]}<br>Transition=%{x}<br>Intensity=%{y}<br>Class=%{customdata[1]}<extra></extra>",
         "legendgroup": "[TG(41:1)]_FA14:0",
         "marker": {
          "color": "#FECB52"
         },
         "name": "[TG(41:1)]_FA14:0",
         "offsetgroup": "[TG(41:1)]_FA14:0",
         "orientation": "v",
         "showlegend": true,
         "textposition": "auto",
         "type": "bar",
         "x": [
          "724.6 -> 479.4"
         ],
         "xaxis": "x",
         "y": [
          19893.661392211914
         ],
         "yaxis": "y"
        },
        {
         "alignmentgroup": "True",
         "customdata": [
          [
           "[TG(41:0)]_FA14:0",
           "TAG"
          ]
         ],
         "hovertemplate": "Lipid=%{customdata[0]}<br>Transition=%{x}<br>Intensity=%{y}<br>Class=%{customdata[1]}<extra></extra>",
         "legendgroup": "[TG(41:0)]_FA14:0",
         "marker": {
          "color": "#636efa"
         },
         "name": "[TG(41:0)]_FA14:0",
         "offsetgroup": "[TG(41:0)]_FA14:0",
         "orientation": "v",
         "showlegend": true,
         "textposition": "auto",
         "type": "bar",
         "x": [
          "726.7 -> 481.5"
         ],
         "xaxis": "x",
         "y": [
          26466.401824951172
         ],
         "yaxis": "y"
        },
        {
         "alignmentgroup": "True",
         "customdata": [
          [
           "[TG(42:4)]_FA14:0",
           "TAG"
          ]
         ],
         "hovertemplate": "Lipid=%{customdata[0]}<br>Transition=%{x}<br>Intensity=%{y}<br>Class=%{customdata[1]}<extra></extra>",
         "legendgroup": "[TG(42:4)]_FA14:0",
         "marker": {
          "color": "#EF553B"
         },
         "name": "[TG(42:4)]_FA14:0",
         "offsetgroup": "[TG(42:4)]_FA14:0",
         "orientation": "v",
         "showlegend": true,
         "textposition": "auto",
         "type": "bar",
         "x": [
          "732.6 -> 487.4"
         ],
         "xaxis": "x",
         "y": [
          15374.68115234375
         ],
         "yaxis": "y"
        },
        {
         "alignmentgroup": "True",
         "customdata": [
          [
           "[TG(42:3)]_FA14:0",
           "TAG"
          ]
         ],
         "hovertemplate": "Lipid=%{customdata[0]}<br>Transition=%{x}<br>Intensity=%{y}<br>Class=%{customdata[1]}<extra></extra>",
         "legendgroup": "[TG(42:3)]_FA14:0",
         "marker": {
          "color": "#00cc96"
         },
         "name": "[TG(42:3)]_FA14:0",
         "offsetgroup": "[TG(42:3)]_FA14:0",
         "orientation": "v",
         "showlegend": true,
         "textposition": "auto",
         "type": "bar",
         "x": [
          "734.6 -> 489.4"
         ],
         "xaxis": "x",
         "y": [
          19889.30142211914
         ],
         "yaxis": "y"
        },
        {
         "alignmentgroup": "True",
         "customdata": [
          [
           "[TG(42:2)]_FA14:0",
           "TAG"
          ]
         ],
         "hovertemplate": "Lipid=%{customdata[0]}<br>Transition=%{x}<br>Intensity=%{y}<br>Class=%{customdata[1]}<extra></extra>",
         "legendgroup": "[TG(42:2)]_FA14:0",
         "marker": {
          "color": "#ab63fa"
         },
         "name": "[TG(42:2)]_FA14:0",
         "offsetgroup": "[TG(42:2)]_FA14:0",
         "orientation": "v",
         "showlegend": true,
         "textposition": "auto",
         "type": "bar",
         "x": [
          "736.6 -> 491.4"
         ],
         "xaxis": "x",
         "y": [
          17753.80108642578
         ],
         "yaxis": "y"
        },
        {
         "alignmentgroup": "True",
         "customdata": [
          [
           "[TG(42:1)]_FA14:0",
           "TAG"
          ]
         ],
         "hovertemplate": "Lipid=%{customdata[0]}<br>Transition=%{x}<br>Intensity=%{y}<br>Class=%{customdata[1]}<extra></extra>",
         "legendgroup": "[TG(42:1)]_FA14:0",
         "marker": {
          "color": "#FFA15A"
         },
         "name": "[TG(42:1)]_FA14:0",
         "offsetgroup": "[TG(42:1)]_FA14:0",
         "orientation": "v",
         "showlegend": true,
         "textposition": "auto",
         "type": "bar",
         "x": [
          "738.7 -> 493.5"
         ],
         "xaxis": "x",
         "y": [
          131865.6494140625
         ],
         "yaxis": "y"
        },
        {
         "alignmentgroup": "True",
         "customdata": [
          [
           "[TG(42:0)]_FA14:0",
           "TAG"
          ]
         ],
         "hovertemplate": "Lipid=%{customdata[0]}<br>Transition=%{x}<br>Intensity=%{y}<br>Class=%{customdata[1]}<extra></extra>",
         "legendgroup": "[TG(42:0)]_FA14:0",
         "marker": {
          "color": "#19d3f3"
         },
         "name": "[TG(42:0)]_FA14:0",
         "offsetgroup": "[TG(42:0)]_FA14:0",
         "orientation": "v",
         "showlegend": true,
         "textposition": "auto",
         "type": "bar",
         "x": [
          "740.7 -> 495.5"
         ],
         "xaxis": "x",
         "y": [
          94824.94689941406
         ],
         "yaxis": "y"
        },
        {
         "alignmentgroup": "True",
         "customdata": [
          [
           "[TG(43:4)]_FA14:0",
           "TAG"
          ]
         ],
         "hovertemplate": "Lipid=%{customdata[0]}<br>Transition=%{x}<br>Intensity=%{y}<br>Class=%{customdata[1]}<extra></extra>",
         "legendgroup": "[TG(43:4)]_FA14:0",
         "marker": {
          "color": "#FF6692"
         },
         "name": "[TG(43:4)]_FA14:0",
         "offsetgroup": "[TG(43:4)]_FA14:0",
         "orientation": "v",
         "showlegend": true,
         "textposition": "auto",
         "type": "bar",
         "x": [
          "746.6 -> 501.4"
         ],
         "xaxis": "x",
         "y": [
          16791.481231689453
         ],
         "yaxis": "y"
        },
        {
         "alignmentgroup": "True",
         "customdata": [
          [
           "[TG(43:3)]_FA14:0",
           "TAG"
          ]
         ],
         "hovertemplate": "Lipid=%{customdata[0]}<br>Transition=%{x}<br>Intensity=%{y}<br>Class=%{customdata[1]}<extra></extra>",
         "legendgroup": "[TG(43:3)]_FA14:0",
         "marker": {
          "color": "#B6E880"
         },
         "name": "[TG(43:3)]_FA14:0",
         "offsetgroup": "[TG(43:3)]_FA14:0",
         "orientation": "v",
         "showlegend": true,
         "textposition": "auto",
         "type": "bar",
         "x": [
          "748.6 -> 503.4"
         ],
         "xaxis": "x",
         "y": [
          63030.504150390625
         ],
         "yaxis": "y"
        },
        {
         "alignmentgroup": "True",
         "customdata": [
          [
           "[TG(43:2)]_FA14:0",
           "TAG"
          ]
         ],
         "hovertemplate": "Lipid=%{customdata[0]}<br>Transition=%{x}<br>Intensity=%{y}<br>Class=%{customdata[1]}<extra></extra>",
         "legendgroup": "[TG(43:2)]_FA14:0",
         "marker": {
          "color": "#FF97FF"
         },
         "name": "[TG(43:2)]_FA14:0",
         "offsetgroup": "[TG(43:2)]_FA14:0",
         "orientation": "v",
         "showlegend": true,
         "textposition": "auto",
         "type": "bar",
         "x": [
          "750.7 -> 505.5"
         ],
         "xaxis": "x",
         "y": [
          26622.84196472168
         ],
         "yaxis": "y"
        },
        {
         "alignmentgroup": "True",
         "customdata": [
          [
           "[TG(43:1)]_FA14:0",
           "TAG"
          ]
         ],
         "hovertemplate": "Lipid=%{customdata[0]}<br>Transition=%{x}<br>Intensity=%{y}<br>Class=%{customdata[1]}<extra></extra>",
         "legendgroup": "[TG(43:1)]_FA14:0",
         "marker": {
          "color": "#FECB52"
         },
         "name": "[TG(43:1)]_FA14:0",
         "offsetgroup": "[TG(43:1)]_FA14:0",
         "orientation": "v",
         "showlegend": true,
         "textposition": "auto",
         "type": "bar",
         "x": [
          "752.7 -> 507.5"
         ],
         "xaxis": "x",
         "y": [
          28583.40203857422
         ],
         "yaxis": "y"
        },
        {
         "alignmentgroup": "True",
         "customdata": [
          [
           "[TG(43:0)]_FA14:0",
           "TAG"
          ]
         ],
         "hovertemplate": "Lipid=%{customdata[0]}<br>Transition=%{x}<br>Intensity=%{y}<br>Class=%{customdata[1]}<extra></extra>",
         "legendgroup": "[TG(43:0)]_FA14:0",
         "marker": {
          "color": "#636efa"
         },
         "name": "[TG(43:0)]_FA14:0",
         "offsetgroup": "[TG(43:0)]_FA14:0",
         "orientation": "v",
         "showlegend": true,
         "textposition": "auto",
         "type": "bar",
         "x": [
          "754.7 -> 509.5"
         ],
         "xaxis": "x",
         "y": [
          29018.08203125
         ],
         "yaxis": "y"
        },
        {
         "alignmentgroup": "True",
         "customdata": [
          [
           "[TG(44:5)]_FA14:0",
           "TAG"
          ]
         ],
         "hovertemplate": "Lipid=%{customdata[0]}<br>Transition=%{x}<br>Intensity=%{y}<br>Class=%{customdata[1]}<extra></extra>",
         "legendgroup": "[TG(44:5)]_FA14:0",
         "marker": {
          "color": "#EF553B"
         },
         "name": "[TG(44:5)]_FA14:0",
         "offsetgroup": "[TG(44:5)]_FA14:0",
         "orientation": "v",
         "showlegend": true,
         "textposition": "auto",
         "type": "bar",
         "x": [
          "758.6 -> 513.4"
         ],
         "xaxis": "x",
         "y": [
          17620.081260681152
         ],
         "yaxis": "y"
        },
        {
         "alignmentgroup": "True",
         "customdata": [
          [
           "[TG(44:4)]_FA14:0",
           "TAG"
          ]
         ],
         "hovertemplate": "Lipid=%{customdata[0]}<br>Transition=%{x}<br>Intensity=%{y}<br>Class=%{customdata[1]}<extra></extra>",
         "legendgroup": "[TG(44:4)]_FA14:0",
         "marker": {
          "color": "#00cc96"
         },
         "name": "[TG(44:4)]_FA14:0",
         "offsetgroup": "[TG(44:4)]_FA14:0",
         "orientation": "v",
         "showlegend": true,
         "textposition": "auto",
         "type": "bar",
         "x": [
          "760.6 -> 515.4"
         ],
         "xaxis": "x",
         "y": [
          15765.661041259766
         ],
         "yaxis": "y"
        },
        {
         "alignmentgroup": "True",
         "customdata": [
          [
           "[TG(44:3)]_FA14:0",
           "TAG"
          ]
         ],
         "hovertemplate": "Lipid=%{customdata[0]}<br>Transition=%{x}<br>Intensity=%{y}<br>Class=%{customdata[1]}<extra></extra>",
         "legendgroup": "[TG(44:3)]_FA14:0",
         "marker": {
          "color": "#ab63fa"
         },
         "name": "[TG(44:3)]_FA14:0",
         "offsetgroup": "[TG(44:3)]_FA14:0",
         "orientation": "v",
         "showlegend": true,
         "textposition": "auto",
         "type": "bar",
         "x": [
          "762.7 -> 517.5"
         ],
         "xaxis": "x",
         "y": [
          18071.14141845703
         ],
         "yaxis": "y"
        },
        {
         "alignmentgroup": "True",
         "customdata": [
          [
           "[TG(44:2)]_FA14:0",
           "TAG"
          ]
         ],
         "hovertemplate": "Lipid=%{customdata[0]}<br>Transition=%{x}<br>Intensity=%{y}<br>Class=%{customdata[1]}<extra></extra>",
         "legendgroup": "[TG(44:2)]_FA14:0",
         "marker": {
          "color": "#FFA15A"
         },
         "name": "[TG(44:2)]_FA14:0",
         "offsetgroup": "[TG(44:2)]_FA14:0",
         "orientation": "v",
         "showlegend": true,
         "textposition": "auto",
         "type": "bar",
         "x": [
          "764.7 -> 519.5"
         ],
         "xaxis": "x",
         "y": [
          39169.32312011719
         ],
         "yaxis": "y"
        },
        {
         "alignmentgroup": "True",
         "customdata": [
          [
           "[TG(44:1)]_FA14:0",
           "TAG"
          ]
         ],
         "hovertemplate": "Lipid=%{customdata[0]}<br>Transition=%{x}<br>Intensity=%{y}<br>Class=%{customdata[1]}<extra></extra>",
         "legendgroup": "[TG(44:1)]_FA14:0",
         "marker": {
          "color": "#19d3f3"
         },
         "name": "[TG(44:1)]_FA14:0",
         "offsetgroup": "[TG(44:1)]_FA14:0",
         "orientation": "v",
         "showlegend": true,
         "textposition": "auto",
         "type": "bar",
         "x": [
          "766.7 -> 521.5"
         ],
         "xaxis": "x",
         "y": [
          31882.602020263672
         ],
         "yaxis": "y"
        },
        {
         "alignmentgroup": "True",
         "customdata": [
          [
           "[TG(44:0),TG(O-45:0)]_FA14:0",
           "TAG"
          ]
         ],
         "hovertemplate": "Lipid=%{customdata[0]}<br>Transition=%{x}<br>Intensity=%{y}<br>Class=%{customdata[1]}<extra></extra>",
         "legendgroup": "[TG(44:0),TG(O-45:0)]_FA14:0",
         "marker": {
          "color": "#FF6692"
         },
         "name": "[TG(44:0),TG(O-45:0)]_FA14:0",
         "offsetgroup": "[TG(44:0),TG(O-45:0)]_FA14:0",
         "orientation": "v",
         "showlegend": true,
         "textposition": "auto",
         "type": "bar",
         "x": [
          "768.7 -> 523.5"
         ],
         "xaxis": "x",
         "y": [
          72722.04577636719
         ],
         "yaxis": "y"
        },
        {
         "alignmentgroup": "True",
         "customdata": [
          [
           "[TG(45:5)]_FA14:0",
           "TAG"
          ]
         ],
         "hovertemplate": "Lipid=%{customdata[0]}<br>Transition=%{x}<br>Intensity=%{y}<br>Class=%{customdata[1]}<extra></extra>",
         "legendgroup": "[TG(45:5)]_FA14:0",
         "marker": {
          "color": "#B6E880"
         },
         "name": "[TG(45:5)]_FA14:0",
         "offsetgroup": "[TG(45:5)]_FA14:0",
         "orientation": "v",
         "showlegend": true,
         "textposition": "auto",
         "type": "bar",
         "x": [
          "772.6 -> 527.4"
         ],
         "xaxis": "x",
         "y": [
          18579.66111755371
         ],
         "yaxis": "y"
        },
        {
         "alignmentgroup": "True",
         "customdata": [
          [
           "[TG(45:4)]_FA14:0",
           "TAG"
          ]
         ],
         "hovertemplate": "Lipid=%{customdata[0]}<br>Transition=%{x}<br>Intensity=%{y}<br>Class=%{customdata[1]}<extra></extra>",
         "legendgroup": "[TG(45:4)]_FA14:0",
         "marker": {
          "color": "#FF97FF"
         },
         "name": "[TG(45:4)]_FA14:0",
         "offsetgroup": "[TG(45:4)]_FA14:0",
         "orientation": "v",
         "showlegend": true,
         "textposition": "auto",
         "type": "bar",
         "x": [
          "774.7 -> 529.5"
         ],
         "xaxis": "x",
         "y": [
          21398.161346435547
         ],
         "yaxis": "y"
        },
        {
         "alignmentgroup": "True",
         "customdata": [
          [
           "[TG(45:3)]_FA14:0",
           "TAG"
          ]
         ],
         "hovertemplate": "Lipid=%{customdata[0]}<br>Transition=%{x}<br>Intensity=%{y}<br>Class=%{customdata[1]}<extra></extra>",
         "legendgroup": "[TG(45:3)]_FA14:0",
         "marker": {
          "color": "#FECB52"
         },
         "name": "[TG(45:3)]_FA14:0",
         "offsetgroup": "[TG(45:3)]_FA14:0",
         "orientation": "v",
         "showlegend": true,
         "textposition": "auto",
         "type": "bar",
         "x": [
          "776.7 -> 531.5"
         ],
         "xaxis": "x",
         "y": [
          18318.621307373047
         ],
         "yaxis": "y"
        },
        {
         "alignmentgroup": "True",
         "customdata": [
          [
           "[TG(45:2)]_FA14:0",
           "TAG"
          ]
         ],
         "hovertemplate": "Lipid=%{customdata[0]}<br>Transition=%{x}<br>Intensity=%{y}<br>Class=%{customdata[1]}<extra></extra>",
         "legendgroup": "[TG(45:2)]_FA14:0",
         "marker": {
          "color": "#636efa"
         },
         "name": "[TG(45:2)]_FA14:0",
         "offsetgroup": "[TG(45:2)]_FA14:0",
         "orientation": "v",
         "showlegend": true,
         "textposition": "auto",
         "type": "bar",
         "x": [
          "778.7 -> 533.5"
         ],
         "xaxis": "x",
         "y": [
          16532.841232299805
         ],
         "yaxis": "y"
        },
        {
         "alignmentgroup": "True",
         "customdata": [
          [
           "[TG(45:1)]_FA14:0",
           "TAG"
          ]
         ],
         "hovertemplate": "Lipid=%{customdata[0]}<br>Transition=%{x}<br>Intensity=%{y}<br>Class=%{customdata[1]}<extra></extra>",
         "legendgroup": "[TG(45:1)]_FA14:0",
         "marker": {
          "color": "#EF553B"
         },
         "name": "[TG(45:1)]_FA14:0",
         "offsetgroup": "[TG(45:1)]_FA14:0",
         "orientation": "v",
         "showlegend": true,
         "textposition": "auto",
         "type": "bar",
         "x": [
          "780.7 -> 535.5"
         ],
         "xaxis": "x",
         "y": [
          70729.62463378906
         ],
         "yaxis": "y"
        },
        {
         "alignmentgroup": "True",
         "customdata": [
          [
           "[TG(45:0)]_FA14:0",
           "TAG"
          ]
         ],
         "hovertemplate": "Lipid=%{customdata[0]}<br>Transition=%{x}<br>Intensity=%{y}<br>Class=%{customdata[1]}<extra></extra>",
         "legendgroup": "[TG(45:0)]_FA14:0",
         "marker": {
          "color": "#00cc96"
         },
         "name": "[TG(45:0)]_FA14:0",
         "offsetgroup": "[TG(45:0)]_FA14:0",
         "orientation": "v",
         "showlegend": true,
         "textposition": "auto",
         "type": "bar",
         "x": [
          "782.7 -> 537.5"
         ],
         "xaxis": "x",
         "y": [
          46782.86340332031
         ],
         "yaxis": "y"
        },
        {
         "alignmentgroup": "True",
         "customdata": [
          [
           "[TG(46:6)]_FA14:0",
           "TAG"
          ]
         ],
         "hovertemplate": "Lipid=%{customdata[0]}<br>Transition=%{x}<br>Intensity=%{y}<br>Class=%{customdata[1]}<extra></extra>",
         "legendgroup": "[TG(46:6)]_FA14:0",
         "marker": {
          "color": "#ab63fa"
         },
         "name": "[TG(46:6)]_FA14:0",
         "offsetgroup": "[TG(46:6)]_FA14:0",
         "orientation": "v",
         "showlegend": true,
         "textposition": "auto",
         "type": "bar",
         "x": [
          "784.6 -> 539.4"
         ],
         "xaxis": "x",
         "y": [
          20436.341217041016
         ],
         "yaxis": "y"
        },
        {
         "alignmentgroup": "True",
         "customdata": [
          [
           "[TG(46:5)]_FA14:0",
           "TAG"
          ]
         ],
         "hovertemplate": "Lipid=%{customdata[0]}<br>Transition=%{x}<br>Intensity=%{y}<br>Class=%{customdata[1]}<extra></extra>",
         "legendgroup": "[TG(46:5)]_FA14:0",
         "marker": {
          "color": "#FFA15A"
         },
         "name": "[TG(46:5)]_FA14:0",
         "offsetgroup": "[TG(46:5)]_FA14:0",
         "orientation": "v",
         "showlegend": true,
         "textposition": "auto",
         "type": "bar",
         "x": [
          "786.7 -> 541.5"
         ],
         "xaxis": "x",
         "y": [
          20286.141387939453
         ],
         "yaxis": "y"
        },
        {
         "alignmentgroup": "True",
         "customdata": [
          [
           "[TG(46:4)]_FA14:0",
           "TAG"
          ]
         ],
         "hovertemplate": "Lipid=%{customdata[0]}<br>Transition=%{x}<br>Intensity=%{y}<br>Class=%{customdata[1]}<extra></extra>",
         "legendgroup": "[TG(46:4)]_FA14:0",
         "marker": {
          "color": "#19d3f3"
         },
         "name": "[TG(46:4)]_FA14:0",
         "offsetgroup": "[TG(46:4)]_FA14:0",
         "orientation": "v",
         "showlegend": true,
         "textposition": "auto",
         "type": "bar",
         "x": [
          "788.7 -> 543.5"
         ],
         "xaxis": "x",
         "y": [
          18562.861236572266
         ],
         "yaxis": "y"
        },
        {
         "alignmentgroup": "True",
         "customdata": [
          [
           "[TG(46:3)]_FA14:0",
           "TAG"
          ]
         ],
         "hovertemplate": "Lipid=%{customdata[0]}<br>Transition=%{x}<br>Intensity=%{y}<br>Class=%{customdata[1]}<extra></extra>",
         "legendgroup": "[TG(46:3)]_FA14:0",
         "marker": {
          "color": "#FF6692"
         },
         "name": "[TG(46:3)]_FA14:0",
         "offsetgroup": "[TG(46:3)]_FA14:0",
         "orientation": "v",
         "showlegend": true,
         "textposition": "auto",
         "type": "bar",
         "x": [
          "790.7 -> 545.5"
         ],
         "xaxis": "x",
         "y": [
          20631.881439208984
         ],
         "yaxis": "y"
        },
        {
         "alignmentgroup": "True",
         "customdata": [
          [
           "[TG(46:2)]_FA14:0",
           "TAG"
          ]
         ],
         "hovertemplate": "Lipid=%{customdata[0]}<br>Transition=%{x}<br>Intensity=%{y}<br>Class=%{customdata[1]}<extra></extra>",
         "legendgroup": "[TG(46:2)]_FA14:0",
         "marker": {
          "color": "#B6E880"
         },
         "name": "[TG(46:2)]_FA14:0",
         "offsetgroup": "[TG(46:2)]_FA14:0",
         "orientation": "v",
         "showlegend": true,
         "textposition": "auto",
         "type": "bar",
         "x": [
          "792.7 -> 547.5"
         ],
         "xaxis": "x",
         "y": [
          44036.763610839844
         ],
         "yaxis": "y"
        },
        {
         "alignmentgroup": "True",
         "customdata": [
          [
           "[TG(46:1)]_FA14:0",
           "TAG"
          ]
         ],
         "hovertemplate": "Lipid=%{customdata[0]}<br>Transition=%{x}<br>Intensity=%{y}<br>Class=%{customdata[1]}<extra></extra>",
         "legendgroup": "[TG(46:1)]_FA14:0",
         "marker": {
          "color": "#FF97FF"
         },
         "name": "[TG(46:1)]_FA14:0",
         "offsetgroup": "[TG(46:1)]_FA14:0",
         "orientation": "v",
         "showlegend": true,
         "textposition": "auto",
         "type": "bar",
         "x": [
          "794.7 -> 549.5"
         ],
         "xaxis": "x",
         "y": [
          68736.06512451172
         ],
         "yaxis": "y"
        },
        {
         "alignmentgroup": "True",
         "customdata": [
          [
           "[TG(46:0)]_FA14:0",
           "TAG"
          ]
         ],
         "hovertemplate": "Lipid=%{customdata[0]}<br>Transition=%{x}<br>Intensity=%{y}<br>Class=%{customdata[1]}<extra></extra>",
         "legendgroup": "[TG(46:0)]_FA14:0",
         "marker": {
          "color": "#FECB52"
         },
         "name": "[TG(46:0)]_FA14:0",
         "offsetgroup": "[TG(46:0)]_FA14:0",
         "orientation": "v",
         "showlegend": true,
         "textposition": "auto",
         "type": "bar",
         "x": [
          "796.7 -> 551.5"
         ],
         "xaxis": "x",
         "y": [
          84029.40625
         ],
         "yaxis": "y"
        },
        {
         "alignmentgroup": "True",
         "customdata": [
          [
           "[TG(47:6)]_FA14:0",
           "TAG"
          ]
         ],
         "hovertemplate": "Lipid=%{customdata[0]}<br>Transition=%{x}<br>Intensity=%{y}<br>Class=%{customdata[1]}<extra></extra>",
         "legendgroup": "[TG(47:6)]_FA14:0",
         "marker": {
          "color": "#636efa"
         },
         "name": "[TG(47:6)]_FA14:0",
         "offsetgroup": "[TG(47:6)]_FA14:0",
         "orientation": "v",
         "showlegend": true,
         "textposition": "auto",
         "type": "bar",
         "x": [
          "798.7 -> 553.5"
         ],
         "xaxis": "x",
         "y": [
          26131.921813964844
         ],
         "yaxis": "y"
        },
        {
         "alignmentgroup": "True",
         "customdata": [
          [
           "[TG(47:5)]_FA14:0",
           "TAG"
          ]
         ],
         "hovertemplate": "Lipid=%{customdata[0]}<br>Transition=%{x}<br>Intensity=%{y}<br>Class=%{customdata[1]}<extra></extra>",
         "legendgroup": "[TG(47:5)]_FA14:0",
         "marker": {
          "color": "#EF553B"
         },
         "name": "[TG(47:5)]_FA14:0",
         "offsetgroup": "[TG(47:5)]_FA14:0",
         "orientation": "v",
         "showlegend": true,
         "textposition": "auto",
         "type": "bar",
         "x": [
          "800.7 -> 555.5"
         ],
         "xaxis": "x",
         "y": [
          20985.38151550293
         ],
         "yaxis": "y"
        },
        {
         "alignmentgroup": "True",
         "customdata": [
          [
           "[TG(47:4)]_FA14:0",
           "TAG"
          ]
         ],
         "hovertemplate": "Lipid=%{customdata[0]}<br>Transition=%{x}<br>Intensity=%{y}<br>Class=%{customdata[1]}<extra></extra>",
         "legendgroup": "[TG(47:4)]_FA14:0",
         "marker": {
          "color": "#00cc96"
         },
         "name": "[TG(47:4)]_FA14:0",
         "offsetgroup": "[TG(47:4)]_FA14:0",
         "orientation": "v",
         "showlegend": true,
         "textposition": "auto",
         "type": "bar",
         "x": [
          "802.7 -> 557.5"
         ],
         "xaxis": "x",
         "y": [
          18959.501403808594
         ],
         "yaxis": "y"
        },
        {
         "alignmentgroup": "True",
         "customdata": [
          [
           "[TG(47:3)]_FA14:0",
           "TAG"
          ]
         ],
         "hovertemplate": "Lipid=%{customdata[0]}<br>Transition=%{x}<br>Intensity=%{y}<br>Class=%{customdata[1]}<extra></extra>",
         "legendgroup": "[TG(47:3)]_FA14:0",
         "marker": {
          "color": "#ab63fa"
         },
         "name": "[TG(47:3)]_FA14:0",
         "offsetgroup": "[TG(47:3)]_FA14:0",
         "orientation": "v",
         "showlegend": true,
         "textposition": "auto",
         "type": "bar",
         "x": [
          "804.7 -> 559.5"
         ],
         "xaxis": "x",
         "y": [
          21987.14175415039
         ],
         "yaxis": "y"
        },
        {
         "alignmentgroup": "True",
         "customdata": [
          [
           "[TG(47:2)]_FA14:0",
           "TAG"
          ]
         ],
         "hovertemplate": "Lipid=%{customdata[0]}<br>Transition=%{x}<br>Intensity=%{y}<br>Class=%{customdata[1]}<extra></extra>",
         "legendgroup": "[TG(47:2)]_FA14:0",
         "marker": {
          "color": "#FFA15A"
         },
         "name": "[TG(47:2)]_FA14:0",
         "offsetgroup": "[TG(47:2)]_FA14:0",
         "orientation": "v",
         "showlegend": true,
         "textposition": "auto",
         "type": "bar",
         "x": [
          "806.7 -> 561.5"
         ],
         "xaxis": "x",
         "y": [
          24136.061737060547
         ],
         "yaxis": "y"
        },
        {
         "alignmentgroup": "True",
         "customdata": [
          [
           "[TG(48:8),TG(47:1)]_FA14:0",
           "TAG"
          ]
         ],
         "hovertemplate": "Lipid=%{customdata[0]}<br>Transition=%{x}<br>Intensity=%{y}<br>Class=%{customdata[1]}<extra></extra>",
         "legendgroup": "[TG(48:8),TG(47:1)]_FA14:0",
         "marker": {
          "color": "#19d3f3"
         },
         "name": "[TG(48:8),TG(47:1)]_FA14:0",
         "offsetgroup": "[TG(48:8),TG(47:1)]_FA14:0",
         "orientation": "v",
         "showlegend": true,
         "textposition": "auto",
         "type": "bar",
         "x": [
          "808.7 -> 563.5"
         ],
         "xaxis": "x",
         "y": [
          31395.762451171875
         ],
         "yaxis": "y"
        },
        {
         "alignmentgroup": "True",
         "customdata": [
          [
           "[TG(48:7),TG(47:0)]_FA14:0",
           "TAG"
          ]
         ],
         "hovertemplate": "Lipid=%{customdata[0]}<br>Transition=%{x}<br>Intensity=%{y}<br>Class=%{customdata[1]}<extra></extra>",
         "legendgroup": "[TG(48:7),TG(47:0)]_FA14:0",
         "marker": {
          "color": "#FF6692"
         },
         "name": "[TG(48:7),TG(47:0)]_FA14:0",
         "offsetgroup": "[TG(48:7),TG(47:0)]_FA14:0",
         "orientation": "v",
         "showlegend": true,
         "textposition": "auto",
         "type": "bar",
         "x": [
          "810.8 -> 565.6"
         ],
         "xaxis": "x",
         "y": [
          35014.362396240234
         ],
         "yaxis": "y"
        },
        {
         "alignmentgroup": "True",
         "customdata": [
          [
           "[TG(48:6)]_FA14:0",
           "TAG"
          ]
         ],
         "hovertemplate": "Lipid=%{customdata[0]}<br>Transition=%{x}<br>Intensity=%{y}<br>Class=%{customdata[1]}<extra></extra>",
         "legendgroup": "[TG(48:6)]_FA14:0",
         "marker": {
          "color": "#B6E880"
         },
         "name": "[TG(48:6)]_FA14:0",
         "offsetgroup": "[TG(48:6)]_FA14:0",
         "orientation": "v",
         "showlegend": true,
         "textposition": "auto",
         "type": "bar",
         "x": [
          "812.7 -> 567.5"
         ],
         "xaxis": "x",
         "y": [
          51366.403381347656
         ],
         "yaxis": "y"
        },
        {
         "alignmentgroup": "True",
         "customdata": [
          [
           "[TG(48:5)]_FA14:0",
           "TAG"
          ]
         ],
         "hovertemplate": "Lipid=%{customdata[0]}<br>Transition=%{x}<br>Intensity=%{y}<br>Class=%{customdata[1]}<extra></extra>",
         "legendgroup": "[TG(48:5)]_FA14:0",
         "marker": {
          "color": "#FF97FF"
         },
         "name": "[TG(48:5)]_FA14:0",
         "offsetgroup": "[TG(48:5)]_FA14:0",
         "orientation": "v",
         "showlegend": true,
         "textposition": "auto",
         "type": "bar",
         "x": [
          "814.7 -> 569.5"
         ],
         "xaxis": "x",
         "y": [
          25303.261779785156
         ],
         "yaxis": "y"
        },
        {
         "alignmentgroup": "True",
         "customdata": [
          [
           "[TG(48:4)]_FA14:0",
           "TAG"
          ]
         ],
         "hovertemplate": "Lipid=%{customdata[0]}<br>Transition=%{x}<br>Intensity=%{y}<br>Class=%{customdata[1]}<extra></extra>",
         "legendgroup": "[TG(48:4)]_FA14:0",
         "marker": {
          "color": "#FECB52"
         },
         "name": "[TG(48:4)]_FA14:0",
         "offsetgroup": "[TG(48:4)]_FA14:0",
         "orientation": "v",
         "showlegend": true,
         "textposition": "auto",
         "type": "bar",
         "x": [
          "816.7 -> 571.5"
         ],
         "xaxis": "x",
         "y": [
          23539.601623535156
         ],
         "yaxis": "y"
        },
        {
         "alignmentgroup": "True",
         "customdata": [
          [
           "[TG(48:3)]_FA14:0",
           "TAG"
          ]
         ],
         "hovertemplate": "Lipid=%{customdata[0]}<br>Transition=%{x}<br>Intensity=%{y}<br>Class=%{customdata[1]}<extra></extra>",
         "legendgroup": "[TG(48:3)]_FA14:0",
         "marker": {
          "color": "#636efa"
         },
         "name": "[TG(48:3)]_FA14:0",
         "offsetgroup": "[TG(48:3)]_FA14:0",
         "orientation": "v",
         "showlegend": true,
         "textposition": "auto",
         "type": "bar",
         "x": [
          "818.7 -> 573.5"
         ],
         "xaxis": "x",
         "y": [
          82808.48538208008
         ],
         "yaxis": "y"
        },
        {
         "alignmentgroup": "True",
         "customdata": [
          [
           "[TG(48:2)]_FA14:0",
           "TAG"
          ]
         ],
         "hovertemplate": "Lipid=%{customdata[0]}<br>Transition=%{x}<br>Intensity=%{y}<br>Class=%{customdata[1]}<extra></extra>",
         "legendgroup": "[TG(48:2)]_FA14:0",
         "marker": {
          "color": "#EF553B"
         },
         "name": "[TG(48:2)]_FA14:0",
         "offsetgroup": "[TG(48:2)]_FA14:0",
         "orientation": "v",
         "showlegend": true,
         "textposition": "auto",
         "type": "bar",
         "x": [
          "820.7 -> 575.5"
         ],
         "xaxis": "x",
         "y": [
          286373.7007446289
         ],
         "yaxis": "y"
        },
        {
         "alignmentgroup": "True",
         "customdata": [
          [
           "[TG(49:8),TG(48:1)]_FA14:0",
           "TAG"
          ]
         ],
         "hovertemplate": "Lipid=%{customdata[0]}<br>Transition=%{x}<br>Intensity=%{y}<br>Class=%{customdata[1]}<extra></extra>",
         "legendgroup": "[TG(49:8),TG(48:1)]_FA14:0",
         "marker": {
          "color": "#00cc96"
         },
         "name": "[TG(49:8),TG(48:1)]_FA14:0",
         "offsetgroup": "[TG(49:8),TG(48:1)]_FA14:0",
         "orientation": "v",
         "showlegend": true,
         "textposition": "auto",
         "type": "bar",
         "x": [
          "822.8 -> 577.6"
         ],
         "xaxis": "x",
         "y": [
          333579.6123046875
         ],
         "yaxis": "y"
        },
        {
         "alignmentgroup": "True",
         "customdata": [
          [
           "[TG(49:7),TG(48:0)]_FA14:0",
           "TAG"
          ]
         ],
         "hovertemplate": "Lipid=%{customdata[0]}<br>Transition=%{x}<br>Intensity=%{y}<br>Class=%{customdata[1]}<extra></extra>",
         "legendgroup": "[TG(49:7),TG(48:0)]_FA14:0",
         "marker": {
          "color": "#ab63fa"
         },
         "name": "[TG(49:7),TG(48:0)]_FA14:0",
         "offsetgroup": "[TG(49:7),TG(48:0)]_FA14:0",
         "orientation": "v",
         "showlegend": true,
         "textposition": "auto",
         "type": "bar",
         "x": [
          "824.8 -> 579.6"
         ],
         "xaxis": "x",
         "y": [
          80859.20629882812
         ],
         "yaxis": "y"
        },
        {
         "alignmentgroup": "True",
         "customdata": [
          [
           "[TG(49:6)]_FA14:0",
           "TAG"
          ]
         ],
         "hovertemplate": "Lipid=%{customdata[0]}<br>Transition=%{x}<br>Intensity=%{y}<br>Class=%{customdata[1]}<extra></extra>",
         "legendgroup": "[TG(49:6)]_FA14:0",
         "marker": {
          "color": "#FFA15A"
         },
         "name": "[TG(49:6)]_FA14:0",
         "offsetgroup": "[TG(49:6)]_FA14:0",
         "orientation": "v",
         "showlegend": true,
         "textposition": "auto",
         "type": "bar",
         "x": [
          "826.7 -> 581.5"
         ],
         "xaxis": "x",
         "y": [
          29734.44223022461
         ],
         "yaxis": "y"
        },
        {
         "alignmentgroup": "True",
         "customdata": [
          [
           "[TG(49:5)]_FA14:0",
           "TAG"
          ]
         ],
         "hovertemplate": "Lipid=%{customdata[0]}<br>Transition=%{x}<br>Intensity=%{y}<br>Class=%{customdata[1]}<extra></extra>",
         "legendgroup": "[TG(49:5)]_FA14:0",
         "marker": {
          "color": "#19d3f3"
         },
         "name": "[TG(49:5)]_FA14:0",
         "offsetgroup": "[TG(49:5)]_FA14:0",
         "orientation": "v",
         "showlegend": true,
         "textposition": "auto",
         "type": "bar",
         "x": [
          "828.7 -> 583.5"
         ],
         "xaxis": "x",
         "y": [
          22083.261352539062
         ],
         "yaxis": "y"
        },
        {
         "alignmentgroup": "True",
         "customdata": [
          [
           "STD_15:0-18:1(d7)-15:0 TAG",
           "STD_15:0-18:1(d7)-15:0 TAG"
          ]
         ],
         "hovertemplate": "Lipid=%{customdata[0]}<br>Transition=%{x}<br>Intensity=%{y}<br>Class=%{customdata[1]}<extra></extra>",
         "legendgroup": "STD_15:0-18:1(d7)-15:0 TAG",
         "marker": {
          "color": "#FF6692"
         },
         "name": "STD_15:0-18:1(d7)-15:0 TAG",
         "offsetgroup": "STD_15:0-18:1(d7)-15:0 TAG",
         "orientation": "v",
         "showlegend": true,
         "textposition": "auto",
         "type": "bar",
         "x": [
          "829.8 -> 570.4"
         ],
         "xaxis": "x",
         "y": [
          33835.302642822266
         ],
         "yaxis": "y"
        },
        {
         "alignmentgroup": "True",
         "customdata": [
          [
           "[TG(49:4)]_FA14:0",
           "TAG"
          ]
         ],
         "hovertemplate": "Lipid=%{customdata[0]}<br>Transition=%{x}<br>Intensity=%{y}<br>Class=%{customdata[1]}<extra></extra>",
         "legendgroup": "[TG(49:4)]_FA14:0",
         "marker": {
          "color": "#B6E880"
         },
         "name": "[TG(49:4)]_FA14:0",
         "offsetgroup": "[TG(49:4)]_FA14:0",
         "orientation": "v",
         "showlegend": true,
         "textposition": "auto",
         "type": "bar",
         "x": [
          "830.7 -> 585.5"
         ],
         "xaxis": "x",
         "y": [
          22096.821563720703
         ],
         "yaxis": "y"
        },
        {
         "alignmentgroup": "True",
         "customdata": [
          [
           "[TG(49:3)]_FA14:0",
           "TAG"
          ]
         ],
         "hovertemplate": "Lipid=%{customdata[0]}<br>Transition=%{x}<br>Intensity=%{y}<br>Class=%{customdata[1]}<extra></extra>",
         "legendgroup": "[TG(49:3)]_FA14:0",
         "marker": {
          "color": "#FF97FF"
         },
         "name": "[TG(49:3)]_FA14:0",
         "offsetgroup": "[TG(49:3)]_FA14:0",
         "orientation": "v",
         "showlegend": true,
         "textposition": "auto",
         "type": "bar",
         "x": [
          "832.7 -> 587.5"
         ],
         "xaxis": "x",
         "y": [
          26063.061752319336
         ],
         "yaxis": "y"
        },
        {
         "alignmentgroup": "True",
         "customdata": [
          [
           "[TG(50:9),TG(49:2)]_FA14:0",
           "TAG"
          ]
         ],
         "hovertemplate": "Lipid=%{customdata[0]}<br>Transition=%{x}<br>Intensity=%{y}<br>Class=%{customdata[1]}<extra></extra>",
         "legendgroup": "[TG(50:9),TG(49:2)]_FA14:0",
         "marker": {
          "color": "#FECB52"
         },
         "name": "[TG(50:9),TG(49:2)]_FA14:0",
         "offsetgroup": "[TG(50:9),TG(49:2)]_FA14:0",
         "orientation": "v",
         "showlegend": true,
         "textposition": "auto",
         "type": "bar",
         "x": [
          "834.8 -> 589.6"
         ],
         "xaxis": "x",
         "y": [
          29320.561981201172
         ],
         "yaxis": "y"
        },
        {
         "alignmentgroup": "True",
         "customdata": [
          [
           "[TG(50:8),TG(49:1)]_FA14:0",
           "TAG"
          ]
         ],
         "hovertemplate": "Lipid=%{customdata[0]}<br>Transition=%{x}<br>Intensity=%{y}<br>Class=%{customdata[1]}<extra></extra>",
         "legendgroup": "[TG(50:8),TG(49:1)]_FA14:0",
         "marker": {
          "color": "#636efa"
         },
         "name": "[TG(50:8),TG(49:1)]_FA14:0",
         "offsetgroup": "[TG(50:8),TG(49:1)]_FA14:0",
         "orientation": "v",
         "showlegend": true,
         "textposition": "auto",
         "type": "bar",
         "x": [
          "836.8 -> 591.6"
         ],
         "xaxis": "x",
         "y": [
          37507.4225769043
         ],
         "yaxis": "y"
        },
        {
         "alignmentgroup": "True",
         "customdata": [
          [
           "[TG(50:7),TG(49:0)]_FA14:0",
           "TAG"
          ]
         ],
         "hovertemplate": "Lipid=%{customdata[0]}<br>Transition=%{x}<br>Intensity=%{y}<br>Class=%{customdata[1]}<extra></extra>",
         "legendgroup": "[TG(50:7),TG(49:0)]_FA14:0",
         "marker": {
          "color": "#EF553B"
         },
         "name": "[TG(50:7),TG(49:0)]_FA14:0",
         "offsetgroup": "[TG(50:7),TG(49:0)]_FA14:0",
         "orientation": "v",
         "showlegend": true,
         "textposition": "auto",
         "type": "bar",
         "x": [
          "838.8 -> 593.6"
         ],
         "xaxis": "x",
         "y": [
          34488.222259521484
         ],
         "yaxis": "y"
        },
        {
         "alignmentgroup": "True",
         "customdata": [
          [
           "[TG(50:6)]_FA14:0",
           "TAG"
          ]
         ],
         "hovertemplate": "Lipid=%{customdata[0]}<br>Transition=%{x}<br>Intensity=%{y}<br>Class=%{customdata[1]}<extra></extra>",
         "legendgroup": "[TG(50:6)]_FA14:0",
         "marker": {
          "color": "#00cc96"
         },
         "name": "[TG(50:6)]_FA14:0",
         "offsetgroup": "[TG(50:6)]_FA14:0",
         "orientation": "v",
         "showlegend": true,
         "textposition": "auto",
         "type": "bar",
         "x": [
          "840.7 -> 595.5"
         ],
         "xaxis": "x",
         "y": [
          29315.282165527344
         ],
         "yaxis": "y"
        },
        {
         "alignmentgroup": "True",
         "customdata": [
          [
           "[TG(50:5)]_FA14:0",
           "TAG"
          ]
         ],
         "hovertemplate": "Lipid=%{customdata[0]}<br>Transition=%{x}<br>Intensity=%{y}<br>Class=%{customdata[1]}<extra></extra>",
         "legendgroup": "[TG(50:5)]_FA14:0",
         "marker": {
          "color": "#ab63fa"
         },
         "name": "[TG(50:5)]_FA14:0",
         "offsetgroup": "[TG(50:5)]_FA14:0",
         "orientation": "v",
         "showlegend": true,
         "textposition": "auto",
         "type": "bar",
         "x": [
          "842.7 -> 597.5"
         ],
         "xaxis": "x",
         "y": [
          35932.222259521484
         ],
         "yaxis": "y"
        },
        {
         "alignmentgroup": "True",
         "customdata": [
          [
           "[TG(50:4)]_FA14:0",
           "TAG"
          ]
         ],
         "hovertemplate": "Lipid=%{customdata[0]}<br>Transition=%{x}<br>Intensity=%{y}<br>Class=%{customdata[1]}<extra></extra>",
         "legendgroup": "[TG(50:4)]_FA14:0",
         "marker": {
          "color": "#FFA15A"
         },
         "name": "[TG(50:4)]_FA14:0",
         "offsetgroup": "[TG(50:4)]_FA14:0",
         "orientation": "v",
         "showlegend": true,
         "textposition": "auto",
         "type": "bar",
         "x": [
          "844.7 -> 599.5"
         ],
         "xaxis": "x",
         "y": [
          126118.92807006836
         ],
         "yaxis": "y"
        },
        {
         "alignmentgroup": "True",
         "customdata": [
          [
           "[TG(50:3)]_FA14:0",
           "TAG"
          ]
         ],
         "hovertemplate": "Lipid=%{customdata[0]}<br>Transition=%{x}<br>Intensity=%{y}<br>Class=%{customdata[1]}<extra></extra>",
         "legendgroup": "[TG(50:3)]_FA14:0",
         "marker": {
          "color": "#19d3f3"
         },
         "name": "[TG(50:3)]_FA14:0",
         "offsetgroup": "[TG(50:3)]_FA14:0",
         "orientation": "v",
         "showlegend": true,
         "textposition": "auto",
         "type": "bar",
         "x": [
          "846.8 -> 601.6"
         ],
         "xaxis": "x",
         "y": [
          432169.33502197266
         ],
         "yaxis": "y"
        },
        {
         "alignmentgroup": "True",
         "customdata": [
          [
           "[TG(51:9),TG(50:2)]_FA14:0",
           "TAG"
          ]
         ],
         "hovertemplate": "Lipid=%{customdata[0]}<br>Transition=%{x}<br>Intensity=%{y}<br>Class=%{customdata[1]}<extra></extra>",
         "legendgroup": "[TG(51:9),TG(50:2)]_FA14:0",
         "marker": {
          "color": "#FF6692"
         },
         "name": "[TG(51:9),TG(50:2)]_FA14:0",
         "offsetgroup": "[TG(51:9),TG(50:2)]_FA14:0",
         "orientation": "v",
         "showlegend": true,
         "textposition": "auto",
         "type": "bar",
         "x": [
          "848.8 -> 603.6"
         ],
         "xaxis": "x",
         "y": [
          501185.328125
         ],
         "yaxis": "y"
        },
        {
         "alignmentgroup": "True",
         "customdata": [
          [
           "[TG(51:8),TG(50:1)]_FA14:0",
           "TAG"
          ]
         ],
         "hovertemplate": "Lipid=%{customdata[0]}<br>Transition=%{x}<br>Intensity=%{y}<br>Class=%{customdata[1]}<extra></extra>",
         "legendgroup": "[TG(51:8),TG(50:1)]_FA14:0",
         "marker": {
          "color": "#B6E880"
         },
         "name": "[TG(51:8),TG(50:1)]_FA14:0",
         "offsetgroup": "[TG(51:8),TG(50:1)]_FA14:0",
         "orientation": "v",
         "showlegend": true,
         "textposition": "auto",
         "type": "bar",
         "x": [
          "850.8 -> 605.6"
         ],
         "xaxis": "x",
         "y": [
          86953.32531738281
         ],
         "yaxis": "y"
        },
        {
         "alignmentgroup": "True",
         "customdata": [
          [
           "[TG(51:7),TG(50:0)]_FA14:0",
           "TAG"
          ]
         ],
         "hovertemplate": "Lipid=%{customdata[0]}<br>Transition=%{x}<br>Intensity=%{y}<br>Class=%{customdata[1]}<extra></extra>",
         "legendgroup": "[TG(51:7),TG(50:0)]_FA14:0",
         "marker": {
          "color": "#FF97FF"
         },
         "name": "[TG(51:7),TG(50:0)]_FA14:0",
         "offsetgroup": "[TG(51:7),TG(50:0)]_FA14:0",
         "orientation": "v",
         "showlegend": true,
         "textposition": "auto",
         "type": "bar",
         "x": [
          "852.8 -> 607.6"
         ],
         "xaxis": "x",
         "y": [
          36228.10238647461
         ],
         "yaxis": "y"
        },
        {
         "alignmentgroup": "True",
         "customdata": [
          [
           "[TG(51:6)]_FA14:0",
           "TAG"
          ]
         ],
         "hovertemplate": "Lipid=%{customdata[0]}<br>Transition=%{x}<br>Intensity=%{y}<br>Class=%{customdata[1]}<extra></extra>",
         "legendgroup": "[TG(51:6)]_FA14:0",
         "marker": {
          "color": "#FECB52"
         },
         "name": "[TG(51:6)]_FA14:0",
         "offsetgroup": "[TG(51:6)]_FA14:0",
         "orientation": "v",
         "showlegend": true,
         "textposition": "auto",
         "type": "bar",
         "x": [
          "854.7 -> 609.5"
         ],
         "xaxis": "x",
         "y": [
          49931.743591308594
         ],
         "yaxis": "y"
        },
        {
         "alignmentgroup": "True",
         "customdata": [
          [
           "[TG(51:5)]_FA14:0",
           "TAG"
          ]
         ],
         "hovertemplate": "Lipid=%{customdata[0]}<br>Transition=%{x}<br>Intensity=%{y}<br>Class=%{customdata[1]}<extra></extra>",
         "legendgroup": "[TG(51:5)]_FA14:0",
         "marker": {
          "color": "#636efa"
         },
         "name": "[TG(51:5)]_FA14:0",
         "offsetgroup": "[TG(51:5)]_FA14:0",
         "orientation": "v",
         "showlegend": true,
         "textposition": "auto",
         "type": "bar",
         "x": [
          "856.7 -> 611.5"
         ],
         "xaxis": "x",
         "y": [
          23814.681854248047
         ],
         "yaxis": "y"
        },
        {
         "alignmentgroup": "True",
         "customdata": [
          [
           "[TG(51:4)]_FA14:0",
           "TAG"
          ]
         ],
         "hovertemplate": "Lipid=%{customdata[0]}<br>Transition=%{x}<br>Intensity=%{y}<br>Class=%{customdata[1]}<extra></extra>",
         "legendgroup": "[TG(51:4)]_FA14:0",
         "marker": {
          "color": "#EF553B"
         },
         "name": "[TG(51:4)]_FA14:0",
         "offsetgroup": "[TG(51:4)]_FA14:0",
         "orientation": "v",
         "showlegend": true,
         "textposition": "auto",
         "type": "bar",
         "x": [
          "858.8 -> 613.6"
         ],
         "xaxis": "x",
         "y": [
          23092.781524658203
         ],
         "yaxis": "y"
        },
        {
         "alignmentgroup": "True",
         "customdata": [
          [
           "[TG(52:10),TG(51:3)]_FA14:0",
           "TAG"
          ]
         ],
         "hovertemplate": "Lipid=%{customdata[0]}<br>Transition=%{x}<br>Intensity=%{y}<br>Class=%{customdata[1]}<extra></extra>",
         "legendgroup": "[TG(52:10),TG(51:3)]_FA14:0",
         "marker": {
          "color": "#00cc96"
         },
         "name": "[TG(52:10),TG(51:3)]_FA14:0",
         "offsetgroup": "[TG(52:10),TG(51:3)]_FA14:0",
         "orientation": "v",
         "showlegend": true,
         "textposition": "auto",
         "type": "bar",
         "x": [
          "860.8 -> 615.6"
         ],
         "xaxis": "x",
         "y": [
          28172.081909179688
         ],
         "yaxis": "y"
        },
        {
         "alignmentgroup": "True",
         "customdata": [
          [
           "[TG(52:9),TG(51:2)]_FA14:0",
           "TAG"
          ]
         ],
         "hovertemplate": "Lipid=%{customdata[0]}<br>Transition=%{x}<br>Intensity=%{y}<br>Class=%{customdata[1]}<extra></extra>",
         "legendgroup": "[TG(52:9),TG(51:2)]_FA14:0",
         "marker": {
          "color": "#ab63fa"
         },
         "name": "[TG(52:9),TG(51:2)]_FA14:0",
         "offsetgroup": "[TG(52:9),TG(51:2)]_FA14:0",
         "orientation": "v",
         "showlegend": true,
         "textposition": "auto",
         "type": "bar",
         "x": [
          "862.8 -> 617.6"
         ],
         "xaxis": "x",
         "y": [
          41892.44287109375
         ],
         "yaxis": "y"
        },
        {
         "alignmentgroup": "True",
         "customdata": [
          [
           "[TG(52:8),TG(51:1)]_FA14:0",
           "TAG"
          ]
         ],
         "hovertemplate": "Lipid=%{customdata[0]}<br>Transition=%{x}<br>Intensity=%{y}<br>Class=%{customdata[1]}<extra></extra>",
         "legendgroup": "[TG(52:8),TG(51:1)]_FA14:0",
         "marker": {
          "color": "#FFA15A"
         },
         "name": "[TG(52:8),TG(51:1)]_FA14:0",
         "offsetgroup": "[TG(52:8),TG(51:1)]_FA14:0",
         "orientation": "v",
         "showlegend": true,
         "textposition": "auto",
         "type": "bar",
         "x": [
          "864.8 -> 619.6"
         ],
         "xaxis": "x",
         "y": [
          46549.702728271484
         ],
         "yaxis": "y"
        },
        {
         "alignmentgroup": "True",
         "customdata": [
          [
           "[TG(52:7),TG(51:0)]_FA14:0",
           "TAG"
          ]
         ],
         "hovertemplate": "Lipid=%{customdata[0]}<br>Transition=%{x}<br>Intensity=%{y}<br>Class=%{customdata[1]}<extra></extra>",
         "legendgroup": "[TG(52:7),TG(51:0)]_FA14:0",
         "marker": {
          "color": "#19d3f3"
         },
         "name": "[TG(52:7),TG(51:0)]_FA14:0",
         "offsetgroup": "[TG(52:7),TG(51:0)]_FA14:0",
         "orientation": "v",
         "showlegend": true,
         "textposition": "auto",
         "type": "bar",
         "x": [
          "866.8 -> 621.6"
         ],
         "xaxis": "x",
         "y": [
          34083.9026184082
         ],
         "yaxis": "y"
        },
        {
         "alignmentgroup": "True",
         "customdata": [
          [
           "[TG(52:6)]_FA14:0",
           "TAG"
          ]
         ],
         "hovertemplate": "Lipid=%{customdata[0]}<br>Transition=%{x}<br>Intensity=%{y}<br>Class=%{customdata[1]}<extra></extra>",
         "legendgroup": "[TG(52:6)]_FA14:0",
         "marker": {
          "color": "#FF6692"
         },
         "name": "[TG(52:6)]_FA14:0",
         "offsetgroup": "[TG(52:6)]_FA14:0",
         "orientation": "v",
         "showlegend": true,
         "textposition": "auto",
         "type": "bar",
         "x": [
          "868.7 -> 623.5"
         ],
         "xaxis": "x",
         "y": [
          40384.46292114258
         ],
         "yaxis": "y"
        },
        {
         "alignmentgroup": "True",
         "customdata": [
          [
           "[TG(52:5)]_FA14:0",
           "TAG"
          ]
         ],
         "hovertemplate": "Lipid=%{customdata[0]}<br>Transition=%{x}<br>Intensity=%{y}<br>Class=%{customdata[1]}<extra></extra>",
         "legendgroup": "[TG(52:5)]_FA14:0",
         "marker": {
          "color": "#B6E880"
         },
         "name": "[TG(52:5)]_FA14:0",
         "offsetgroup": "[TG(52:5)]_FA14:0",
         "orientation": "v",
         "showlegend": true,
         "textposition": "auto",
         "type": "bar",
         "x": [
          "870.8 -> 625.6"
         ],
         "xaxis": "x",
         "y": [
          44110.603759765625
         ],
         "yaxis": "y"
        },
        {
         "alignmentgroup": "True",
         "customdata": [
          [
           "[TG(52:4)]_FA14:0",
           "TAG"
          ]
         ],
         "hovertemplate": "Lipid=%{customdata[0]}<br>Transition=%{x}<br>Intensity=%{y}<br>Class=%{customdata[1]}<extra></extra>",
         "legendgroup": "[TG(52:4)]_FA14:0",
         "marker": {
          "color": "#FF97FF"
         },
         "name": "[TG(52:4)]_FA14:0",
         "offsetgroup": "[TG(52:4)]_FA14:0",
         "orientation": "v",
         "showlegend": true,
         "textposition": "auto",
         "type": "bar",
         "x": [
          "872.8 -> 627.6"
         ],
         "xaxis": "x",
         "y": [
          42770.922912597656
         ],
         "yaxis": "y"
        },
        {
         "alignmentgroup": "True",
         "customdata": [
          [
           "[TG(53:10),TG(52:3)]_FA14:0",
           "TAG"
          ]
         ],
         "hovertemplate": "Lipid=%{customdata[0]}<br>Transition=%{x}<br>Intensity=%{y}<br>Class=%{customdata[1]}<extra></extra>",
         "legendgroup": "[TG(53:10),TG(52:3)]_FA14:0",
         "marker": {
          "color": "#FECB52"
         },
         "name": "[TG(53:10),TG(52:3)]_FA14:0",
         "offsetgroup": "[TG(53:10),TG(52:3)]_FA14:0",
         "orientation": "v",
         "showlegend": true,
         "textposition": "auto",
         "type": "bar",
         "x": [
          "874.8 -> 629.6"
         ],
         "xaxis": "x",
         "y": [
          53848.18371582031
         ],
         "yaxis": "y"
        },
        {
         "alignmentgroup": "True",
         "customdata": [
          [
           "[TG(53:9),TG(52:2)]_FA14:0",
           "TAG"
          ]
         ],
         "hovertemplate": "Lipid=%{customdata[0]}<br>Transition=%{x}<br>Intensity=%{y}<br>Class=%{customdata[1]}<extra></extra>",
         "legendgroup": "[TG(53:9),TG(52:2)]_FA14:0",
         "marker": {
          "color": "#636efa"
         },
         "name": "[TG(53:9),TG(52:2)]_FA14:0",
         "offsetgroup": "[TG(53:9),TG(52:2)]_FA14:0",
         "orientation": "v",
         "showlegend": true,
         "textposition": "auto",
         "type": "bar",
         "x": [
          "876.8 -> 631.6"
         ],
         "xaxis": "x",
         "y": [
          56664.44418334961
         ],
         "yaxis": "y"
        },
        {
         "alignmentgroup": "True",
         "customdata": [
          [
           "[TG(53:8),TG(52:1)]_FA14:0",
           "TAG"
          ]
         ],
         "hovertemplate": "Lipid=%{customdata[0]}<br>Transition=%{x}<br>Intensity=%{y}<br>Class=%{customdata[1]}<extra></extra>",
         "legendgroup": "[TG(53:8),TG(52:1)]_FA14:0",
         "marker": {
          "color": "#EF553B"
         },
         "name": "[TG(53:8),TG(52:1)]_FA14:0",
         "offsetgroup": "[TG(53:8),TG(52:1)]_FA14:0",
         "orientation": "v",
         "showlegend": true,
         "textposition": "auto",
         "type": "bar",
         "x": [
          "878.8 -> 633.6"
         ],
         "xaxis": "x",
         "y": [
          47311.622985839844
         ],
         "yaxis": "y"
        },
        {
         "alignmentgroup": "True",
         "customdata": [
          [
           "[TG(53:7),TG(52:0)]_FA14:0",
           "TAG"
          ]
         ],
         "hovertemplate": "Lipid=%{customdata[0]}<br>Transition=%{x}<br>Intensity=%{y}<br>Class=%{customdata[1]}<extra></extra>",
         "legendgroup": "[TG(53:7),TG(52:0)]_FA14:0",
         "marker": {
          "color": "#00cc96"
         },
         "name": "[TG(53:7),TG(52:0)]_FA14:0",
         "offsetgroup": "[TG(53:7),TG(52:0)]_FA14:0",
         "orientation": "v",
         "showlegend": true,
         "textposition": "auto",
         "type": "bar",
         "x": [
          "880.8 -> 635.6"
         ],
         "xaxis": "x",
         "y": [
          30805.982299804688
         ],
         "yaxis": "y"
        },
        {
         "alignmentgroup": "True",
         "customdata": [
          [
           "[TG(53:6)]_FA14:0",
           "TAG"
          ]
         ],
         "hovertemplate": "Lipid=%{customdata[0]}<br>Transition=%{x}<br>Intensity=%{y}<br>Class=%{customdata[1]}<extra></extra>",
         "legendgroup": "[TG(53:6)]_FA14:0",
         "marker": {
          "color": "#ab63fa"
         },
         "name": "[TG(53:6)]_FA14:0",
         "offsetgroup": "[TG(53:6)]_FA14:0",
         "orientation": "v",
         "showlegend": true,
         "textposition": "auto",
         "type": "bar",
         "x": [
          "882.8 -> 637.6"
         ],
         "xaxis": "x",
         "y": [
          26174.721771240234
         ],
         "yaxis": "y"
        },
        {
         "alignmentgroup": "True",
         "customdata": [
          [
           "[TG(54:12),TG(53:5)]_FA14:0",
           "TAG"
          ]
         ],
         "hovertemplate": "Lipid=%{customdata[0]}<br>Transition=%{x}<br>Intensity=%{y}<br>Class=%{customdata[1]}<extra></extra>",
         "legendgroup": "[TG(54:12),TG(53:5)]_FA14:0",
         "marker": {
          "color": "#FFA15A"
         },
         "name": "[TG(54:12),TG(53:5)]_FA14:0",
         "offsetgroup": "[TG(54:12),TG(53:5)]_FA14:0",
         "orientation": "v",
         "showlegend": true,
         "textposition": "auto",
         "type": "bar",
         "x": [
          "884.8 -> 639.6"
         ],
         "xaxis": "x",
         "y": [
          25399.10171508789
         ],
         "yaxis": "y"
        },
        {
         "alignmentgroup": "True",
         "customdata": [
          [
           "[TG(54:11),TG(53:4)]_FA14:0",
           "TAG"
          ]
         ],
         "hovertemplate": "Lipid=%{customdata[0]}<br>Transition=%{x}<br>Intensity=%{y}<br>Class=%{customdata[1]}<extra></extra>",
         "legendgroup": "[TG(54:11),TG(53:4)]_FA14:0",
         "marker": {
          "color": "#19d3f3"
         },
         "name": "[TG(54:11),TG(53:4)]_FA14:0",
         "offsetgroup": "[TG(54:11),TG(53:4)]_FA14:0",
         "orientation": "v",
         "showlegend": true,
         "textposition": "auto",
         "type": "bar",
         "x": [
          "886.8 -> 641.6"
         ],
         "xaxis": "x",
         "y": [
          25004.141693115234
         ],
         "yaxis": "y"
        },
        {
         "alignmentgroup": "True",
         "customdata": [
          [
           "[TG(54:10),TG(53:3)]_FA14:0",
           "TAG"
          ]
         ],
         "hovertemplate": "Lipid=%{customdata[0]}<br>Transition=%{x}<br>Intensity=%{y}<br>Class=%{customdata[1]}<extra></extra>",
         "legendgroup": "[TG(54:10),TG(53:3)]_FA14:0",
         "marker": {
          "color": "#FF6692"
         },
         "name": "[TG(54:10),TG(53:3)]_FA14:0",
         "offsetgroup": "[TG(54:10),TG(53:3)]_FA14:0",
         "orientation": "v",
         "showlegend": true,
         "textposition": "auto",
         "type": "bar",
         "x": [
          "888.8 -> 643.6"
         ],
         "xaxis": "x",
         "y": [
          31147.182556152344
         ],
         "yaxis": "y"
        },
        {
         "alignmentgroup": "True",
         "customdata": [
          [
           "[TG(54:9),TG(53:2)]_FA14:0",
           "TAG"
          ]
         ],
         "hovertemplate": "Lipid=%{customdata[0]}<br>Transition=%{x}<br>Intensity=%{y}<br>Class=%{customdata[1]}<extra></extra>",
         "legendgroup": "[TG(54:9),TG(53:2)]_FA14:0",
         "marker": {
          "color": "#B6E880"
         },
         "name": "[TG(54:9),TG(53:2)]_FA14:0",
         "offsetgroup": "[TG(54:9),TG(53:2)]_FA14:0",
         "orientation": "v",
         "showlegend": true,
         "textposition": "auto",
         "type": "bar",
         "x": [
          "890.8 -> 645.6"
         ],
         "xaxis": "x",
         "y": [
          38980.08303833008
         ],
         "yaxis": "y"
        },
        {
         "alignmentgroup": "True",
         "customdata": [
          [
           "[TG(54:8),TG(53:1)]_FA14:0",
           "TAG"
          ]
         ],
         "hovertemplate": "Lipid=%{customdata[0]}<br>Transition=%{x}<br>Intensity=%{y}<br>Class=%{customdata[1]}<extra></extra>",
         "legendgroup": "[TG(54:8),TG(53:1)]_FA14:0",
         "marker": {
          "color": "#FF97FF"
         },
         "name": "[TG(54:8),TG(53:1)]_FA14:0",
         "offsetgroup": "[TG(54:8),TG(53:1)]_FA14:0",
         "orientation": "v",
         "showlegend": true,
         "textposition": "auto",
         "type": "bar",
         "x": [
          "892.8 -> 647.6"
         ],
         "xaxis": "x",
         "y": [
          46906.80307006836
         ],
         "yaxis": "y"
        },
        {
         "alignmentgroup": "True",
         "customdata": [
          [
           "[TG(54:7),TG(53:0)]_FA14:0",
           "TAG"
          ]
         ],
         "hovertemplate": "Lipid=%{customdata[0]}<br>Transition=%{x}<br>Intensity=%{y}<br>Class=%{customdata[1]}<extra></extra>",
         "legendgroup": "[TG(54:7),TG(53:0)]_FA14:0",
         "marker": {
          "color": "#FECB52"
         },
         "name": "[TG(54:7),TG(53:0)]_FA14:0",
         "offsetgroup": "[TG(54:7),TG(53:0)]_FA14:0",
         "orientation": "v",
         "showlegend": true,
         "textposition": "auto",
         "type": "bar",
         "x": [
          "894.8 -> 649.6"
         ],
         "xaxis": "x",
         "y": [
          38897.4231262207
         ],
         "yaxis": "y"
        },
        {
         "alignmentgroup": "True",
         "customdata": [
          [
           "[TG(54:6)]_FA14:0",
           "TAG"
          ]
         ],
         "hovertemplate": "Lipid=%{customdata[0]}<br>Transition=%{x}<br>Intensity=%{y}<br>Class=%{customdata[1]}<extra></extra>",
         "legendgroup": "[TG(54:6)]_FA14:0",
         "marker": {
          "color": "#636efa"
         },
         "name": "[TG(54:6)]_FA14:0",
         "offsetgroup": "[TG(54:6)]_FA14:0",
         "orientation": "v",
         "showlegend": true,
         "textposition": "auto",
         "type": "bar",
         "x": [
          "896.8 -> 651.6"
         ],
         "xaxis": "x",
         "y": [
          73665.94470214844
         ],
         "yaxis": "y"
        },
        {
         "alignmentgroup": "True",
         "customdata": [
          [
           "[TG(54:5)]_FA14:0",
           "TAG"
          ]
         ],
         "hovertemplate": "Lipid=%{customdata[0]}<br>Transition=%{x}<br>Intensity=%{y}<br>Class=%{customdata[1]}<extra></extra>",
         "legendgroup": "[TG(54:5)]_FA14:0",
         "marker": {
          "color": "#EF553B"
         },
         "name": "[TG(54:5)]_FA14:0",
         "offsetgroup": "[TG(54:5)]_FA14:0",
         "orientation": "v",
         "showlegend": true,
         "textposition": "auto",
         "type": "bar",
         "x": [
          "898.8 -> 653.6"
         ],
         "xaxis": "x",
         "y": [
          41898.76268005371
         ],
         "yaxis": "y"
        },
        {
         "alignmentgroup": "True",
         "customdata": [
          [
           "[TG(55:11),TG(54:4)]_FA14:0",
           "TAG"
          ]
         ],
         "hovertemplate": "Lipid=%{customdata[0]}<br>Transition=%{x}<br>Intensity=%{y}<br>Class=%{customdata[1]}<extra></extra>",
         "legendgroup": "[TG(55:11),TG(54:4)]_FA14:0",
         "marker": {
          "color": "#00cc96"
         },
         "name": "[TG(55:11),TG(54:4)]_FA14:0",
         "offsetgroup": "[TG(55:11),TG(54:4)]_FA14:0",
         "orientation": "v",
         "showlegend": true,
         "textposition": "auto",
         "type": "bar",
         "x": [
          "900.8 -> 655.6"
         ],
         "xaxis": "x",
         "y": [
          28414.301971435547
         ],
         "yaxis": "y"
        },
        {
         "alignmentgroup": "True",
         "customdata": [
          [
           "[TG(55:10),TG(54:3)]_FA14:0",
           "TAG"
          ]
         ],
         "hovertemplate": "Lipid=%{customdata[0]}<br>Transition=%{x}<br>Intensity=%{y}<br>Class=%{customdata[1]}<extra></extra>",
         "legendgroup": "[TG(55:10),TG(54:3)]_FA14:0",
         "marker": {
          "color": "#ab63fa"
         },
         "name": "[TG(55:10),TG(54:3)]_FA14:0",
         "offsetgroup": "[TG(55:10),TG(54:3)]_FA14:0",
         "orientation": "v",
         "showlegend": true,
         "textposition": "auto",
         "type": "bar",
         "x": [
          "902.8 -> 657.6"
         ],
         "xaxis": "x",
         "y": [
          30718.442108154297
         ],
         "yaxis": "y"
        },
        {
         "alignmentgroup": "True",
         "customdata": [
          [
           "[TG(55:9),TG(54:2)]_FA14:0",
           "TAG"
          ]
         ],
         "hovertemplate": "Lipid=%{customdata[0]}<br>Transition=%{x}<br>Intensity=%{y}<br>Class=%{customdata[1]}<extra></extra>",
         "legendgroup": "[TG(55:9),TG(54:2)]_FA14:0",
         "marker": {
          "color": "#FFA15A"
         },
         "name": "[TG(55:9),TG(54:2)]_FA14:0",
         "offsetgroup": "[TG(55:9),TG(54:2)]_FA14:0",
         "orientation": "v",
         "showlegend": true,
         "textposition": "auto",
         "type": "bar",
         "x": [
          "904.8 -> 659.6"
         ],
         "xaxis": "x",
         "y": [
          33424.282623291016
         ],
         "yaxis": "y"
        },
        {
         "alignmentgroup": "True",
         "customdata": [
          [
           "[TG(55:8),TG(54:1)]_FA14:0",
           "TAG"
          ]
         ],
         "hovertemplate": "Lipid=%{customdata[0]}<br>Transition=%{x}<br>Intensity=%{y}<br>Class=%{customdata[1]}<extra></extra>",
         "legendgroup": "[TG(55:8),TG(54:1)]_FA14:0",
         "marker": {
          "color": "#19d3f3"
         },
         "name": "[TG(55:8),TG(54:1)]_FA14:0",
         "offsetgroup": "[TG(55:8),TG(54:1)]_FA14:0",
         "orientation": "v",
         "showlegend": true,
         "textposition": "auto",
         "type": "bar",
         "x": [
          "906.8 -> 661.6"
         ],
         "xaxis": "x",
         "y": [
          29007.38198852539
         ],
         "yaxis": "y"
        },
        {
         "alignmentgroup": "True",
         "customdata": [
          [
           "[TG(55:7),TG(54:0)]_FA14:0",
           "TAG"
          ]
         ],
         "hovertemplate": "Lipid=%{customdata[0]}<br>Transition=%{x}<br>Intensity=%{y}<br>Class=%{customdata[1]}<extra></extra>",
         "legendgroup": "[TG(55:7),TG(54:0)]_FA14:0",
         "marker": {
          "color": "#FF6692"
         },
         "name": "[TG(55:7),TG(54:0)]_FA14:0",
         "offsetgroup": "[TG(55:7),TG(54:0)]_FA14:0",
         "orientation": "v",
         "showlegend": true,
         "textposition": "auto",
         "type": "bar",
         "x": [
          "908.9 -> 663.7"
         ],
         "xaxis": "x",
         "y": [
          35497.86260986328
         ],
         "yaxis": "y"
        },
        {
         "alignmentgroup": "True",
         "customdata": [
          [
           "[TG(56:13),TG(55:6)]_FA14:0",
           "TAG"
          ]
         ],
         "hovertemplate": "Lipid=%{customdata[0]}<br>Transition=%{x}<br>Intensity=%{y}<br>Class=%{customdata[1]}<extra></extra>",
         "legendgroup": "[TG(56:13),TG(55:6)]_FA14:0",
         "marker": {
          "color": "#B6E880"
         },
         "name": "[TG(56:13),TG(55:6)]_FA14:0",
         "offsetgroup": "[TG(56:13),TG(55:6)]_FA14:0",
         "orientation": "v",
         "showlegend": true,
         "textposition": "auto",
         "type": "bar",
         "x": [
          "910.8 -> 665.6"
         ],
         "xaxis": "x",
         "y": [
          26408.881866455078
         ],
         "yaxis": "y"
        },
        {
         "alignmentgroup": "True",
         "customdata": [
          [
           "[TG(56:12),TG(55:5)]_FA14:0",
           "TAG"
          ]
         ],
         "hovertemplate": "Lipid=%{customdata[0]}<br>Transition=%{x}<br>Intensity=%{y}<br>Class=%{customdata[1]}<extra></extra>",
         "legendgroup": "[TG(56:12),TG(55:5)]_FA14:0",
         "marker": {
          "color": "#FF97FF"
         },
         "name": "[TG(56:12),TG(55:5)]_FA14:0",
         "offsetgroup": "[TG(56:12),TG(55:5)]_FA14:0",
         "orientation": "v",
         "showlegend": true,
         "textposition": "auto",
         "type": "bar",
         "x": [
          "912.8 -> 667.6"
         ],
         "xaxis": "x",
         "y": [
          22494.82162475586
         ],
         "yaxis": "y"
        },
        {
         "alignmentgroup": "True",
         "customdata": [
          [
           "[TG(56:11),TG(55:4)]_FA14:0",
           "TAG"
          ]
         ],
         "hovertemplate": "Lipid=%{customdata[0]}<br>Transition=%{x}<br>Intensity=%{y}<br>Class=%{customdata[1]}<extra></extra>",
         "legendgroup": "[TG(56:11),TG(55:4)]_FA14:0",
         "marker": {
          "color": "#FECB52"
         },
         "name": "[TG(56:11),TG(55:4)]_FA14:0",
         "offsetgroup": "[TG(56:11),TG(55:4)]_FA14:0",
         "orientation": "v",
         "showlegend": true,
         "textposition": "auto",
         "type": "bar",
         "x": [
          "914.8 -> 669.6"
         ],
         "xaxis": "x",
         "y": [
          25690.061798095703
         ],
         "yaxis": "y"
        },
        {
         "alignmentgroup": "True",
         "customdata": [
          [
           "[TG(56:10),TG(55:3)]_FA14:0",
           "TAG"
          ]
         ],
         "hovertemplate": "Lipid=%{customdata[0]}<br>Transition=%{x}<br>Intensity=%{y}<br>Class=%{customdata[1]}<extra></extra>",
         "legendgroup": "[TG(56:10),TG(55:3)]_FA14:0",
         "marker": {
          "color": "#636efa"
         },
         "name": "[TG(56:10),TG(55:3)]_FA14:0",
         "offsetgroup": "[TG(56:10),TG(55:3)]_FA14:0",
         "orientation": "v",
         "showlegend": true,
         "textposition": "auto",
         "type": "bar",
         "x": [
          "916.8 -> 671.6"
         ],
         "xaxis": "x",
         "y": [
          29631.141998291016
         ],
         "yaxis": "y"
        },
        {
         "alignmentgroup": "True",
         "customdata": [
          [
           "[TG(56:9),TG(55:2)]_FA14:0",
           "TAG"
          ]
         ],
         "hovertemplate": "Lipid=%{customdata[0]}<br>Transition=%{x}<br>Intensity=%{y}<br>Class=%{customdata[1]}<extra></extra>",
         "legendgroup": "[TG(56:9),TG(55:2)]_FA14:0",
         "marker": {
          "color": "#EF553B"
         },
         "name": "[TG(56:9),TG(55:2)]_FA14:0",
         "offsetgroup": "[TG(56:9),TG(55:2)]_FA14:0",
         "orientation": "v",
         "showlegend": true,
         "textposition": "auto",
         "type": "bar",
         "x": [
          "918.8 -> 673.6"
         ],
         "xaxis": "x",
         "y": [
          33327.52235412598
         ],
         "yaxis": "y"
        },
        {
         "alignmentgroup": "True",
         "customdata": [
          [
           "[TG(56:8),TG(55:1)]_FA14:0",
           "TAG"
          ]
         ],
         "hovertemplate": "Lipid=%{customdata[0]}<br>Transition=%{x}<br>Intensity=%{y}<br>Class=%{customdata[1]}<extra></extra>",
         "legendgroup": "[TG(56:8),TG(55:1)]_FA14:0",
         "marker": {
          "color": "#00cc96"
         },
         "name": "[TG(56:8),TG(55:1)]_FA14:0",
         "offsetgroup": "[TG(56:8),TG(55:1)]_FA14:0",
         "orientation": "v",
         "showlegend": true,
         "textposition": "auto",
         "type": "bar",
         "x": [
          "920.9 -> 675.7"
         ],
         "xaxis": "x",
         "y": [
          29645.14239501953
         ],
         "yaxis": "y"
        },
        {
         "alignmentgroup": "True",
         "customdata": [
          [
           "[TG(56:7),TG(55:0)]_FA14:0",
           "TAG"
          ]
         ],
         "hovertemplate": "Lipid=%{customdata[0]}<br>Transition=%{x}<br>Intensity=%{y}<br>Class=%{customdata[1]}<extra></extra>",
         "legendgroup": "[TG(56:7),TG(55:0)]_FA14:0",
         "marker": {
          "color": "#ab63fa"
         },
         "name": "[TG(56:7),TG(55:0)]_FA14:0",
         "offsetgroup": "[TG(56:7),TG(55:0)]_FA14:0",
         "orientation": "v",
         "showlegend": true,
         "textposition": "auto",
         "type": "bar",
         "x": [
          "922.9 -> 677.7"
         ],
         "xaxis": "x",
         "y": [
          23936.88168334961
         ],
         "yaxis": "y"
        },
        {
         "alignmentgroup": "True",
         "customdata": [
          [
           "[TG(56:6)]_FA14:0",
           "TAG"
          ]
         ],
         "hovertemplate": "Lipid=%{customdata[0]}<br>Transition=%{x}<br>Intensity=%{y}<br>Class=%{customdata[1]}<extra></extra>",
         "legendgroup": "[TG(56:6)]_FA14:0",
         "marker": {
          "color": "#FFA15A"
         },
         "name": "[TG(56:6)]_FA14:0",
         "offsetgroup": "[TG(56:6)]_FA14:0",
         "orientation": "v",
         "showlegend": true,
         "textposition": "auto",
         "type": "bar",
         "x": [
          "924.8 -> 679.6"
         ],
         "xaxis": "x",
         "y": [
          21959.361694335938
         ],
         "yaxis": "y"
        },
        {
         "alignmentgroup": "True",
         "customdata": [
          [
           "[TG(57:12),TG(56:5)]_FA14:0",
           "TAG"
          ]
         ],
         "hovertemplate": "Lipid=%{customdata[0]}<br>Transition=%{x}<br>Intensity=%{y}<br>Class=%{customdata[1]}<extra></extra>",
         "legendgroup": "[TG(57:12),TG(56:5)]_FA14:0",
         "marker": {
          "color": "#19d3f3"
         },
         "name": "[TG(57:12),TG(56:5)]_FA14:0",
         "offsetgroup": "[TG(57:12),TG(56:5)]_FA14:0",
         "orientation": "v",
         "showlegend": true,
         "textposition": "auto",
         "type": "bar",
         "x": [
          "926.8 -> 681.6"
         ],
         "xaxis": "x",
         "y": [
          20401.881622314453
         ],
         "yaxis": "y"
        },
        {
         "alignmentgroup": "True",
         "customdata": [
          [
           "[TG(57:11),TG(56:4)]_FA14:0",
           "TAG"
          ]
         ],
         "hovertemplate": "Lipid=%{customdata[0]}<br>Transition=%{x}<br>Intensity=%{y}<br>Class=%{customdata[1]}<extra></extra>",
         "legendgroup": "[TG(57:11),TG(56:4)]_FA14:0",
         "marker": {
          "color": "#FF6692"
         },
         "name": "[TG(57:11),TG(56:4)]_FA14:0",
         "offsetgroup": "[TG(57:11),TG(56:4)]_FA14:0",
         "orientation": "v",
         "showlegend": true,
         "textposition": "auto",
         "type": "bar",
         "x": [
          "928.8 -> 683.6"
         ],
         "xaxis": "x",
         "y": [
          20398.84147644043
         ],
         "yaxis": "y"
        },
        {
         "alignmentgroup": "True",
         "customdata": [
          [
           "[TG(57:10),TG(56:3)]_FA14:0",
           "TAG"
          ]
         ],
         "hovertemplate": "Lipid=%{customdata[0]}<br>Transition=%{x}<br>Intensity=%{y}<br>Class=%{customdata[1]}<extra></extra>",
         "legendgroup": "[TG(57:10),TG(56:3)]_FA14:0",
         "marker": {
          "color": "#B6E880"
         },
         "name": "[TG(57:10),TG(56:3)]_FA14:0",
         "offsetgroup": "[TG(57:10),TG(56:3)]_FA14:0",
         "orientation": "v",
         "showlegend": true,
         "textposition": "auto",
         "type": "bar",
         "x": [
          "930.8 -> 685.6"
         ],
         "xaxis": "x",
         "y": [
          25416.421936035156
         ],
         "yaxis": "y"
        },
        {
         "alignmentgroup": "True",
         "customdata": [
          [
           "[TG(57:9),TG(56:2)]_FA14:0",
           "TAG"
          ]
         ],
         "hovertemplate": "Lipid=%{customdata[0]}<br>Transition=%{x}<br>Intensity=%{y}<br>Class=%{customdata[1]}<extra></extra>",
         "legendgroup": "[TG(57:9),TG(56:2)]_FA14:0",
         "marker": {
          "color": "#FF97FF"
         },
         "name": "[TG(57:9),TG(56:2)]_FA14:0",
         "offsetgroup": "[TG(57:9),TG(56:2)]_FA14:0",
         "orientation": "v",
         "showlegend": true,
         "textposition": "auto",
         "type": "bar",
         "x": [
          "932.9 -> 687.7"
         ],
         "xaxis": "x",
         "y": [
          22382.361602783203
         ],
         "yaxis": "y"
        },
        {
         "alignmentgroup": "True",
         "customdata": [
          [
           "[TG(57:8),TG(56:1)]_FA14:0",
           "TAG"
          ]
         ],
         "hovertemplate": "Lipid=%{customdata[0]}<br>Transition=%{x}<br>Intensity=%{y}<br>Class=%{customdata[1]}<extra></extra>",
         "legendgroup": "[TG(57:8),TG(56:1)]_FA14:0",
         "marker": {
          "color": "#FECB52"
         },
         "name": "[TG(57:8),TG(56:1)]_FA14:0",
         "offsetgroup": "[TG(57:8),TG(56:1)]_FA14:0",
         "orientation": "v",
         "showlegend": true,
         "textposition": "auto",
         "type": "bar",
         "x": [
          "934.9 -> 689.7"
         ],
         "xaxis": "x",
         "y": [
          19609.461395263672
         ],
         "yaxis": "y"
        },
        {
         "alignmentgroup": "True",
         "customdata": [
          [
           "[TG(58:14),TG(57:7),TG(56:0)]_FA14:0",
           "TAG"
          ]
         ],
         "hovertemplate": "Lipid=%{customdata[0]}<br>Transition=%{x}<br>Intensity=%{y}<br>Class=%{customdata[1]}<extra></extra>",
         "legendgroup": "[TG(58:14),TG(57:7),TG(56:0)]_FA14:0",
         "marker": {
          "color": "#636efa"
         },
         "name": "[TG(58:14),TG(57:7),TG(56:0)]_FA14:0",
         "offsetgroup": "[TG(58:14),TG(57:7),TG(56:0)]_FA14:0",
         "orientation": "v",
         "showlegend": true,
         "textposition": "auto",
         "type": "bar",
         "x": [
          "936.9 -> 691.7"
         ],
         "xaxis": "x",
         "y": [
          22338.061492919922
         ],
         "yaxis": "y"
        },
        {
         "alignmentgroup": "True",
         "customdata": [
          [
           "[TG(58:13),TG(57:6)]_FA14:0",
           "TAG"
          ]
         ],
         "hovertemplate": "Lipid=%{customdata[0]}<br>Transition=%{x}<br>Intensity=%{y}<br>Class=%{customdata[1]}<extra></extra>",
         "legendgroup": "[TG(58:13),TG(57:6)]_FA14:0",
         "marker": {
          "color": "#EF553B"
         },
         "name": "[TG(58:13),TG(57:6)]_FA14:0",
         "offsetgroup": "[TG(58:13),TG(57:6)]_FA14:0",
         "orientation": "v",
         "showlegend": true,
         "textposition": "auto",
         "type": "bar",
         "x": [
          "938.8 -> 693.6"
         ],
         "xaxis": "x",
         "y": [
          29575.44204711914
         ],
         "yaxis": "y"
        },
        {
         "alignmentgroup": "True",
         "customdata": [
          [
           "[TG(58:12),TG(57:5)]_FA14:0",
           "TAG"
          ]
         ],
         "hovertemplate": "Lipid=%{customdata[0]}<br>Transition=%{x}<br>Intensity=%{y}<br>Class=%{customdata[1]}<extra></extra>",
         "legendgroup": "[TG(58:12),TG(57:5)]_FA14:0",
         "marker": {
          "color": "#00cc96"
         },
         "name": "[TG(58:12),TG(57:5)]_FA14:0",
         "offsetgroup": "[TG(58:12),TG(57:5)]_FA14:0",
         "orientation": "v",
         "showlegend": true,
         "textposition": "auto",
         "type": "bar",
         "x": [
          "940.8 -> 695.6"
         ],
         "xaxis": "x",
         "y": [
          20122.321487426758
         ],
         "yaxis": "y"
        },
        {
         "alignmentgroup": "True",
         "customdata": [
          [
           "[TG(58:11),TG(57:4)]_FA14:0",
           "TAG"
          ]
         ],
         "hovertemplate": "Lipid=%{customdata[0]}<br>Transition=%{x}<br>Intensity=%{y}<br>Class=%{customdata[1]}<extra></extra>",
         "legendgroup": "[TG(58:11),TG(57:4)]_FA14:0",
         "marker": {
          "color": "#ab63fa"
         },
         "name": "[TG(58:11),TG(57:4)]_FA14:0",
         "offsetgroup": "[TG(58:11),TG(57:4)]_FA14:0",
         "orientation": "v",
         "showlegend": true,
         "textposition": "auto",
         "type": "bar",
         "x": [
          "942.8 -> 697.6"
         ],
         "xaxis": "x",
         "y": [
          20873.68148803711
         ],
         "yaxis": "y"
        },
        {
         "alignmentgroup": "True",
         "customdata": [
          [
           "[TG(58:10),TG(57:3)]_FA14:0",
           "TAG"
          ]
         ],
         "hovertemplate": "Lipid=%{customdata[0]}<br>Transition=%{x}<br>Intensity=%{y}<br>Class=%{customdata[1]}<extra></extra>",
         "legendgroup": "[TG(58:10),TG(57:3)]_FA14:0",
         "marker": {
          "color": "#FFA15A"
         },
         "name": "[TG(58:10),TG(57:3)]_FA14:0",
         "offsetgroup": "[TG(58:10),TG(57:3)]_FA14:0",
         "orientation": "v",
         "showlegend": true,
         "textposition": "auto",
         "type": "bar",
         "x": [
          "944.9 -> 699.7"
         ],
         "xaxis": "x",
         "y": [
          20475.001525878906
         ],
         "yaxis": "y"
        },
        {
         "alignmentgroup": "True",
         "customdata": [
          [
           "[TG(58:9),TG(57:2)]_FA14:0",
           "TAG"
          ]
         ],
         "hovertemplate": "Lipid=%{customdata[0]}<br>Transition=%{x}<br>Intensity=%{y}<br>Class=%{customdata[1]}<extra></extra>",
         "legendgroup": "[TG(58:9),TG(57:2)]_FA14:0",
         "marker": {
          "color": "#19d3f3"
         },
         "name": "[TG(58:9),TG(57:2)]_FA14:0",
         "offsetgroup": "[TG(58:9),TG(57:2)]_FA14:0",
         "orientation": "v",
         "showlegend": true,
         "textposition": "auto",
         "type": "bar",
         "x": [
          "946.9 -> 701.7"
         ],
         "xaxis": "x",
         "y": [
          19687.661422729492
         ],
         "yaxis": "y"
        },
        {
         "alignmentgroup": "True",
         "customdata": [
          [
           "[TG(58:8),TG(57:1)]_FA14:0",
           "TAG"
          ]
         ],
         "hovertemplate": "Lipid=%{customdata[0]}<br>Transition=%{x}<br>Intensity=%{y}<br>Class=%{customdata[1]}<extra></extra>",
         "legendgroup": "[TG(58:8),TG(57:1)]_FA14:0",
         "marker": {
          "color": "#FF6692"
         },
         "name": "[TG(58:8),TG(57:1)]_FA14:0",
         "offsetgroup": "[TG(58:8),TG(57:1)]_FA14:0",
         "orientation": "v",
         "showlegend": true,
         "textposition": "auto",
         "type": "bar",
         "x": [
          "948.9 -> 703.7"
         ],
         "xaxis": "x",
         "y": [
          17986.1212310791
         ],
         "yaxis": "y"
        },
        {
         "alignmentgroup": "True",
         "customdata": [
          [
           "[TG(58:7),TG(57:0)]_FA14:0",
           "TAG"
          ]
         ],
         "hovertemplate": "Lipid=%{customdata[0]}<br>Transition=%{x}<br>Intensity=%{y}<br>Class=%{customdata[1]}<extra></extra>",
         "legendgroup": "[TG(58:7),TG(57:0)]_FA14:0",
         "marker": {
          "color": "#B6E880"
         },
         "name": "[TG(58:7),TG(57:0)]_FA14:0",
         "offsetgroup": "[TG(58:7),TG(57:0)]_FA14:0",
         "orientation": "v",
         "showlegend": true,
         "textposition": "auto",
         "type": "bar",
         "x": [
          "950.9 -> 705.7"
         ],
         "xaxis": "x",
         "y": [
          16909.581176757812
         ],
         "yaxis": "y"
        },
        {
         "alignmentgroup": "True",
         "customdata": [
          [
           "[TG(59:13),TG(58:6)]_FA14:0",
           "TAG"
          ]
         ],
         "hovertemplate": "Lipid=%{customdata[0]}<br>Transition=%{x}<br>Intensity=%{y}<br>Class=%{customdata[1]}<extra></extra>",
         "legendgroup": "[TG(59:13),TG(58:6)]_FA14:0",
         "marker": {
          "color": "#FF97FF"
         },
         "name": "[TG(59:13),TG(58:6)]_FA14:0",
         "offsetgroup": "[TG(59:13),TG(58:6)]_FA14:0",
         "orientation": "v",
         "showlegend": true,
         "textposition": "auto",
         "type": "bar",
         "x": [
          "952.8 -> 707.6"
         ],
         "xaxis": "x",
         "y": [
          17760.02130126953
         ],
         "yaxis": "y"
        },
        {
         "alignmentgroup": "True",
         "customdata": [
          [
           "[TG(59:12),TG(58:5)]_FA14:0",
           "TAG"
          ]
         ],
         "hovertemplate": "Lipid=%{customdata[0]}<br>Transition=%{x}<br>Intensity=%{y}<br>Class=%{customdata[1]}<extra></extra>",
         "legendgroup": "[TG(59:12),TG(58:5)]_FA14:0",
         "marker": {
          "color": "#FECB52"
         },
         "name": "[TG(59:12),TG(58:5)]_FA14:0",
         "offsetgroup": "[TG(59:12),TG(58:5)]_FA14:0",
         "orientation": "v",
         "showlegend": true,
         "textposition": "auto",
         "type": "bar",
         "x": [
          "954.8 -> 709.6"
         ],
         "xaxis": "x",
         "y": [
          17154.881271362305
         ],
         "yaxis": "y"
        },
        {
         "alignmentgroup": "True",
         "customdata": [
          [
           "[TG(59:11),TG(58:4)]_FA14:0",
           "TAG"
          ]
         ],
         "hovertemplate": "Lipid=%{customdata[0]}<br>Transition=%{x}<br>Intensity=%{y}<br>Class=%{customdata[1]}<extra></extra>",
         "legendgroup": "[TG(59:11),TG(58:4)]_FA14:0",
         "marker": {
          "color": "#636efa"
         },
         "name": "[TG(59:11),TG(58:4)]_FA14:0",
         "offsetgroup": "[TG(59:11),TG(58:4)]_FA14:0",
         "orientation": "v",
         "showlegend": true,
         "textposition": "auto",
         "type": "bar",
         "x": [
          "956.9 -> 711.7"
         ],
         "xaxis": "x",
         "y": [
          17369.481216430664
         ],
         "yaxis": "y"
        },
        {
         "alignmentgroup": "True",
         "customdata": [
          [
           "[TG(59:10),TG(58:3)]_FA14:0",
           "TAG"
          ]
         ],
         "hovertemplate": "Lipid=%{customdata[0]}<br>Transition=%{x}<br>Intensity=%{y}<br>Class=%{customdata[1]}<extra></extra>",
         "legendgroup": "[TG(59:10),TG(58:3)]_FA14:0",
         "marker": {
          "color": "#EF553B"
         },
         "name": "[TG(59:10),TG(58:3)]_FA14:0",
         "offsetgroup": "[TG(59:10),TG(58:3)]_FA14:0",
         "orientation": "v",
         "showlegend": true,
         "textposition": "auto",
         "type": "bar",
         "x": [
          "958.9 -> 713.7"
         ],
         "xaxis": "x",
         "y": [
          17000.50129699707
         ],
         "yaxis": "y"
        },
        {
         "alignmentgroup": "True",
         "customdata": [
          [
           "[TG(59:9),TG(58:2)]_FA14:0",
           "TAG"
          ]
         ],
         "hovertemplate": "Lipid=%{customdata[0]}<br>Transition=%{x}<br>Intensity=%{y}<br>Class=%{customdata[1]}<extra></extra>",
         "legendgroup": "[TG(59:9),TG(58:2)]_FA14:0",
         "marker": {
          "color": "#00cc96"
         },
         "name": "[TG(59:9),TG(58:2)]_FA14:0",
         "offsetgroup": "[TG(59:9),TG(58:2)]_FA14:0",
         "orientation": "v",
         "showlegend": true,
         "textposition": "auto",
         "type": "bar",
         "x": [
          "960.9 -> 715.7"
         ],
         "xaxis": "x",
         "y": [
          14471.141006469727
         ],
         "yaxis": "y"
        },
        {
         "alignmentgroup": "True",
         "customdata": [
          [
           "[TG(60:15),TG(59:8),TG(58:1)]_FA14:0",
           "TAG"
          ]
         ],
         "hovertemplate": "Lipid=%{customdata[0]}<br>Transition=%{x}<br>Intensity=%{y}<br>Class=%{customdata[1]}<extra></extra>",
         "legendgroup": "[TG(60:15),TG(59:8),TG(58:1)]_FA14:0",
         "marker": {
          "color": "#ab63fa"
         },
         "name": "[TG(60:15),TG(59:8),TG(58:1)]_FA14:0",
         "offsetgroup": "[TG(60:15),TG(59:8),TG(58:1)]_FA14:0",
         "orientation": "v",
         "showlegend": true,
         "textposition": "auto",
         "type": "bar",
         "x": [
          "962.9 -> 717.7"
         ],
         "xaxis": "x",
         "y": [
          17327.96128845215
         ],
         "yaxis": "y"
        },
        {
         "alignmentgroup": "True",
         "customdata": [
          [
           "[TG(60:14),TG(59:7),TG(58:0)]_FA14:0",
           "TAG"
          ]
         ],
         "hovertemplate": "Lipid=%{customdata[0]}<br>Transition=%{x}<br>Intensity=%{y}<br>Class=%{customdata[1]}<extra></extra>",
         "legendgroup": "[TG(60:14),TG(59:7),TG(58:0)]_FA14:0",
         "marker": {
          "color": "#FFA15A"
         },
         "name": "[TG(60:14),TG(59:7),TG(58:0)]_FA14:0",
         "offsetgroup": "[TG(60:14),TG(59:7),TG(58:0)]_FA14:0",
         "orientation": "v",
         "showlegend": true,
         "textposition": "auto",
         "type": "bar",
         "x": [
          "964.9 -> 719.7"
         ],
         "xaxis": "x",
         "y": [
          15586.361099243164
         ],
         "yaxis": "y"
        },
        {
         "alignmentgroup": "True",
         "customdata": [
          [
           "[TG(60:13),TG(59:6)]_FA14:0",
           "TAG"
          ]
         ],
         "hovertemplate": "Lipid=%{customdata[0]}<br>Transition=%{x}<br>Intensity=%{y}<br>Class=%{customdata[1]}<extra></extra>",
         "legendgroup": "[TG(60:13),TG(59:6)]_FA14:0",
         "marker": {
          "color": "#19d3f3"
         },
         "name": "[TG(60:13),TG(59:6)]_FA14:0",
         "offsetgroup": "[TG(60:13),TG(59:6)]_FA14:0",
         "orientation": "v",
         "showlegend": true,
         "textposition": "auto",
         "type": "bar",
         "x": [
          "966.8 -> 721.6"
         ],
         "xaxis": "x",
         "y": [
          15192.34105682373
         ],
         "yaxis": "y"
        },
        {
         "alignmentgroup": "True",
         "customdata": [
          [
           "[TG(60:12),TG(59:5)]_FA14:0",
           "TAG"
          ]
         ],
         "hovertemplate": "Lipid=%{customdata[0]}<br>Transition=%{x}<br>Intensity=%{y}<br>Class=%{customdata[1]}<extra></extra>",
         "legendgroup": "[TG(60:12),TG(59:5)]_FA14:0",
         "marker": {
          "color": "#FF6692"
         },
         "name": "[TG(60:12),TG(59:5)]_FA14:0",
         "offsetgroup": "[TG(60:12),TG(59:5)]_FA14:0",
         "orientation": "v",
         "showlegend": true,
         "textposition": "auto",
         "type": "bar",
         "x": [
          "968.9 -> 723.7"
         ],
         "xaxis": "x",
         "y": [
          16057.961143493652
         ],
         "yaxis": "y"
        },
        {
         "alignmentgroup": "True",
         "customdata": [
          [
           "[TG(60:11),TG(59:4)]_FA14:0",
           "TAG"
          ]
         ],
         "hovertemplate": "Lipid=%{customdata[0]}<br>Transition=%{x}<br>Intensity=%{y}<br>Class=%{customdata[1]}<extra></extra>",
         "legendgroup": "[TG(60:11),TG(59:4)]_FA14:0",
         "marker": {
          "color": "#B6E880"
         },
         "name": "[TG(60:11),TG(59:4)]_FA14:0",
         "offsetgroup": "[TG(60:11),TG(59:4)]_FA14:0",
         "orientation": "v",
         "showlegend": true,
         "textposition": "auto",
         "type": "bar",
         "x": [
          "970.9 -> 725.7"
         ],
         "xaxis": "x",
         "y": [
          29432.862243652344
         ],
         "yaxis": "y"
        },
        {
         "alignmentgroup": "True",
         "customdata": [
          [
           "[TG(60:10),TG(59:3)]_FA14:0",
           "TAG"
          ]
         ],
         "hovertemplate": "Lipid=%{customdata[0]}<br>Transition=%{x}<br>Intensity=%{y}<br>Class=%{customdata[1]}<extra></extra>",
         "legendgroup": "[TG(60:10),TG(59:3)]_FA14:0",
         "marker": {
          "color": "#FF97FF"
         },
         "name": "[TG(60:10),TG(59:3)]_FA14:0",
         "offsetgroup": "[TG(60:10),TG(59:3)]_FA14:0",
         "orientation": "v",
         "showlegend": true,
         "textposition": "auto",
         "type": "bar",
         "x": [
          "972.9 -> 727.7"
         ],
         "xaxis": "x",
         "y": [
          21032.461456298828
         ],
         "yaxis": "y"
        },
        {
         "alignmentgroup": "True",
         "customdata": [
          [
           "[TG(60:9),TG(59:2)]_FA14:0",
           "TAG"
          ]
         ],
         "hovertemplate": "Lipid=%{customdata[0]}<br>Transition=%{x}<br>Intensity=%{y}<br>Class=%{customdata[1]}<extra></extra>",
         "legendgroup": "[TG(60:9),TG(59:2)]_FA14:0",
         "marker": {
          "color": "#FECB52"
         },
         "name": "[TG(60:9),TG(59:2)]_FA14:0",
         "offsetgroup": "[TG(60:9),TG(59:2)]_FA14:0",
         "orientation": "v",
         "showlegend": true,
         "textposition": "auto",
         "type": "bar",
         "x": [
          "974.9 -> 729.7"
         ],
         "xaxis": "x",
         "y": [
          15778.50112915039
         ],
         "yaxis": "y"
        },
        {
         "alignmentgroup": "True",
         "customdata": [
          [
           "[TG(60:8),TG(59:1)]_FA14:0",
           "TAG"
          ]
         ],
         "hovertemplate": "Lipid=%{customdata[0]}<br>Transition=%{x}<br>Intensity=%{y}<br>Class=%{customdata[1]}<extra></extra>",
         "legendgroup": "[TG(60:8),TG(59:1)]_FA14:0",
         "marker": {
          "color": "#636efa"
         },
         "name": "[TG(60:8),TG(59:1)]_FA14:0",
         "offsetgroup": "[TG(60:8),TG(59:1)]_FA14:0",
         "orientation": "v",
         "showlegend": true,
         "textposition": "auto",
         "type": "bar",
         "x": [
          "976.9 -> 731.7"
         ],
         "xaxis": "x",
         "y": [
          13972.840942382812
         ],
         "yaxis": "y"
        },
        {
         "alignmentgroup": "True",
         "customdata": [
          [
           "[TG(61:14),TG(60:7),TG(59:0)]_FA14:0",
           "TAG"
          ]
         ],
         "hovertemplate": "Lipid=%{customdata[0]}<br>Transition=%{x}<br>Intensity=%{y}<br>Class=%{customdata[1]}<extra></extra>",
         "legendgroup": "[TG(61:14),TG(60:7),TG(59:0)]_FA14:0",
         "marker": {
          "color": "#EF553B"
         },
         "name": "[TG(61:14),TG(60:7),TG(59:0)]_FA14:0",
         "offsetgroup": "[TG(61:14),TG(60:7),TG(59:0)]_FA14:0",
         "orientation": "v",
         "showlegend": true,
         "textposition": "auto",
         "type": "bar",
         "x": [
          "978.9 -> 733.7"
         ],
         "xaxis": "x",
         "y": [
          15361.26107788086
         ],
         "yaxis": "y"
        },
        {
         "alignmentgroup": "True",
         "customdata": [
          [
           "[TG(61:13),TG(60:6)]_FA14:0",
           "TAG"
          ]
         ],
         "hovertemplate": "Lipid=%{customdata[0]}<br>Transition=%{x}<br>Intensity=%{y}<br>Class=%{customdata[1]}<extra></extra>",
         "legendgroup": "[TG(61:13),TG(60:6)]_FA14:0",
         "marker": {
          "color": "#00cc96"
         },
         "name": "[TG(61:13),TG(60:6)]_FA14:0",
         "offsetgroup": "[TG(61:13),TG(60:6)]_FA14:0",
         "orientation": "v",
         "showlegend": true,
         "textposition": "auto",
         "type": "bar",
         "x": [
          "980.9 -> 735.7"
         ],
         "xaxis": "x",
         "y": [
          14665.92106628418
         ],
         "yaxis": "y"
        },
        {
         "alignmentgroup": "True",
         "customdata": [
          [
           "[TG(61:12),TG(60:5)]_FA14:0",
           "TAG"
          ]
         ],
         "hovertemplate": "Lipid=%{customdata[0]}<br>Transition=%{x}<br>Intensity=%{y}<br>Class=%{customdata[1]}<extra></extra>",
         "legendgroup": "[TG(61:12),TG(60:5)]_FA14:0",
         "marker": {
          "color": "#ab63fa"
         },
         "name": "[TG(61:12),TG(60:5)]_FA14:0",
         "offsetgroup": "[TG(61:12),TG(60:5)]_FA14:0",
         "orientation": "v",
         "showlegend": true,
         "textposition": "auto",
         "type": "bar",
         "x": [
          "982.9 -> 737.7"
         ],
         "xaxis": "x",
         "y": [
          12983.740997314453
         ],
         "yaxis": "y"
        },
        {
         "alignmentgroup": "True",
         "customdata": [
          [
           "[TG(61:11),TG(60:4)]_FA14:0",
           "TAG"
          ]
         ],
         "hovertemplate": "Lipid=%{customdata[0]}<br>Transition=%{x}<br>Intensity=%{y}<br>Class=%{customdata[1]}<extra></extra>",
         "legendgroup": "[TG(61:11),TG(60:4)]_FA14:0",
         "marker": {
          "color": "#FFA15A"
         },
         "name": "[TG(61:11),TG(60:4)]_FA14:0",
         "offsetgroup": "[TG(61:11),TG(60:4)]_FA14:0",
         "orientation": "v",
         "showlegend": true,
         "textposition": "auto",
         "type": "bar",
         "x": [
          "984.9 -> 739.7"
         ],
         "xaxis": "x",
         "y": [
          16507.40118408203
         ],
         "yaxis": "y"
        },
        {
         "alignmentgroup": "True",
         "customdata": [
          [
           "[TG(61:10),TG(60:3)]_FA14:0",
           "TAG"
          ]
         ],
         "hovertemplate": "Lipid=%{customdata[0]}<br>Transition=%{x}<br>Intensity=%{y}<br>Class=%{customdata[1]}<extra></extra>",
         "legendgroup": "[TG(61:10),TG(60:3)]_FA14:0",
         "marker": {
          "color": "#19d3f3"
         },
         "name": "[TG(61:10),TG(60:3)]_FA14:0",
         "offsetgroup": "[TG(61:10),TG(60:3)]_FA14:0",
         "orientation": "v",
         "showlegend": true,
         "textposition": "auto",
         "type": "bar",
         "x": [
          "986.9 -> 741.7"
         ],
         "xaxis": "x",
         "y": [
          15164.080978393555
         ],
         "yaxis": "y"
        },
        {
         "alignmentgroup": "True",
         "customdata": [
          [
           "[TG(62:16),TG(61:9),TG(60:2)]_FA14:0",
           "TAG"
          ]
         ],
         "hovertemplate": "Lipid=%{customdata[0]}<br>Transition=%{x}<br>Intensity=%{y}<br>Class=%{customdata[1]}<extra></extra>",
         "legendgroup": "[TG(62:16),TG(61:9),TG(60:2)]_FA14:0",
         "marker": {
          "color": "#FF6692"
         },
         "name": "[TG(62:16),TG(61:9),TG(60:2)]_FA14:0",
         "offsetgroup": "[TG(62:16),TG(61:9),TG(60:2)]_FA14:0",
         "orientation": "v",
         "showlegend": true,
         "textposition": "auto",
         "type": "bar",
         "x": [
          "988.9 -> 743.7"
         ],
         "xaxis": "x",
         "y": [
          16115.021049499512
         ],
         "yaxis": "y"
        },
        {
         "alignmentgroup": "True",
         "customdata": [
          [
           "[TG(62:15),TG(61:8),TG(60:1)]_FA14:0",
           "TAG"
          ]
         ],
         "hovertemplate": "Lipid=%{customdata[0]}<br>Transition=%{x}<br>Intensity=%{y}<br>Class=%{customdata[1]}<extra></extra>",
         "legendgroup": "[TG(62:15),TG(61:8),TG(60:1)]_FA14:0",
         "marker": {
          "color": "#B6E880"
         },
         "name": "[TG(62:15),TG(61:8),TG(60:1)]_FA14:0",
         "offsetgroup": "[TG(62:15),TG(61:8),TG(60:1)]_FA14:0",
         "orientation": "v",
         "showlegend": true,
         "textposition": "auto",
         "type": "bar",
         "x": [
          "990.9 -> 745.7"
         ],
         "xaxis": "x",
         "y": [
          14670.80093383789
         ],
         "yaxis": "y"
        },
        {
         "alignmentgroup": "True",
         "customdata": [
          [
           "[TG(62:14),TG(61:7),TG(60:0)]_FA14:0",
           "TAG"
          ]
         ],
         "hovertemplate": "Lipid=%{customdata[0]}<br>Transition=%{x}<br>Intensity=%{y}<br>Class=%{customdata[1]}<extra></extra>",
         "legendgroup": "[TG(62:14),TG(61:7),TG(60:0)]_FA14:0",
         "marker": {
          "color": "#FF97FF"
         },
         "name": "[TG(62:14),TG(61:7),TG(60:0)]_FA14:0",
         "offsetgroup": "[TG(62:14),TG(61:7),TG(60:0)]_FA14:0",
         "orientation": "v",
         "showlegend": true,
         "textposition": "auto",
         "type": "bar",
         "x": [
          "993.0 -> 747.8"
         ],
         "xaxis": "x",
         "y": [
          11676.520835876465
         ],
         "yaxis": "y"
        },
        {
         "alignmentgroup": "True",
         "customdata": [
          [
           "[TG(62:13),TG(61:6)]_FA14:0",
           "TAG"
          ]
         ],
         "hovertemplate": "Lipid=%{customdata[0]}<br>Transition=%{x}<br>Intensity=%{y}<br>Class=%{customdata[1]}<extra></extra>",
         "legendgroup": "[TG(62:13),TG(61:6)]_FA14:0",
         "marker": {
          "color": "#FECB52"
         },
         "name": "[TG(62:13),TG(61:6)]_FA14:0",
         "offsetgroup": "[TG(62:13),TG(61:6)]_FA14:0",
         "orientation": "v",
         "showlegend": true,
         "textposition": "auto",
         "type": "bar",
         "x": [
          "994.9 -> 749.7"
         ],
         "xaxis": "x",
         "y": [
          12641.240867614746
         ],
         "yaxis": "y"
        },
        {
         "alignmentgroup": "True",
         "customdata": [
          [
           "[TG(62:12),TG(61:5)]_FA14:0",
           "TAG"
          ]
         ],
         "hovertemplate": "Lipid=%{customdata[0]}<br>Transition=%{x}<br>Intensity=%{y}<br>Class=%{customdata[1]}<extra></extra>",
         "legendgroup": "[TG(62:12),TG(61:5)]_FA14:0",
         "marker": {
          "color": "#636efa"
         },
         "name": "[TG(62:12),TG(61:5)]_FA14:0",
         "offsetgroup": "[TG(62:12),TG(61:5)]_FA14:0",
         "orientation": "v",
         "showlegend": true,
         "textposition": "auto",
         "type": "bar",
         "x": [
          "996.9 -> 751.7"
         ],
         "xaxis": "x",
         "y": [
          14229.900955200195
         ],
         "yaxis": "y"
        },
        {
         "alignmentgroup": "True",
         "customdata": [
          [
           "[TG(62:11),TG(61:4)]_FA14:0",
           "TAG"
          ]
         ],
         "hovertemplate": "Lipid=%{customdata[0]}<br>Transition=%{x}<br>Intensity=%{y}<br>Class=%{customdata[1]}<extra></extra>",
         "legendgroup": "[TG(62:11),TG(61:4)]_FA14:0",
         "marker": {
          "color": "#EF553B"
         },
         "name": "[TG(62:11),TG(61:4)]_FA14:0",
         "offsetgroup": "[TG(62:11),TG(61:4)]_FA14:0",
         "orientation": "v",
         "showlegend": true,
         "textposition": "auto",
         "type": "bar",
         "x": [
          "998.9 -> 753.7"
         ],
         "xaxis": "x",
         "y": [
          14026.561004638672
         ],
         "yaxis": "y"
        },
        {
         "alignmentgroup": "True",
         "customdata": [
          [
           "[TG(62:10),TG(61:3)]_FA14:0",
           "TAG"
          ]
         ],
         "hovertemplate": "Lipid=%{customdata[0]}<br>Transition=%{x}<br>Intensity=%{y}<br>Class=%{customdata[1]}<extra></extra>",
         "legendgroup": "[TG(62:10),TG(61:3)]_FA14:0",
         "marker": {
          "color": "#00cc96"
         },
         "name": "[TG(62:10),TG(61:3)]_FA14:0",
         "offsetgroup": "[TG(62:10),TG(61:3)]_FA14:0",
         "orientation": "v",
         "showlegend": true,
         "textposition": "auto",
         "type": "bar",
         "x": [
          "1000.9 -> 755.7"
         ],
         "xaxis": "x",
         "y": [
          13990.720977783203
         ],
         "yaxis": "y"
        },
        {
         "alignmentgroup": "True",
         "customdata": [
          [
           "[TG(62:9),TG(61:2)]_FA14:0",
           "TAG"
          ]
         ],
         "hovertemplate": "Lipid=%{customdata[0]}<br>Transition=%{x}<br>Intensity=%{y}<br>Class=%{customdata[1]}<extra></extra>",
         "legendgroup": "[TG(62:9),TG(61:2)]_FA14:0",
         "marker": {
          "color": "#ab63fa"
         },
         "name": "[TG(62:9),TG(61:2)]_FA14:0",
         "offsetgroup": "[TG(62:9),TG(61:2)]_FA14:0",
         "orientation": "v",
         "showlegend": true,
         "textposition": "auto",
         "type": "bar",
         "x": [
          "1002.9 -> 757.7"
         ],
         "xaxis": "x",
         "y": [
          14917.441131591797
         ],
         "yaxis": "y"
        },
        {
         "alignmentgroup": "True",
         "customdata": [
          [
           "[TG(62:8),TG(61:1)]_FA14:0",
           "TAG"
          ]
         ],
         "hovertemplate": "Lipid=%{customdata[0]}<br>Transition=%{x}<br>Intensity=%{y}<br>Class=%{customdata[1]}<extra></extra>",
         "legendgroup": "[TG(62:8),TG(61:1)]_FA14:0",
         "marker": {
          "color": "#FFA15A"
         },
         "name": "[TG(62:8),TG(61:1)]_FA14:0",
         "offsetgroup": "[TG(62:8),TG(61:1)]_FA14:0",
         "orientation": "v",
         "showlegend": true,
         "textposition": "auto",
         "type": "bar",
         "x": [
          "1005.0 -> 759.8"
         ],
         "xaxis": "x",
         "y": [
          14691.960952758789
         ],
         "yaxis": "y"
        },
        {
         "alignmentgroup": "True",
         "customdata": [
          [
           "[TG(62:7),TG(61:0)]_FA14:0",
           "TAG"
          ]
         ],
         "hovertemplate": "Lipid=%{customdata[0]}<br>Transition=%{x}<br>Intensity=%{y}<br>Class=%{customdata[1]}<extra></extra>",
         "legendgroup": "[TG(62:7),TG(61:0)]_FA14:0",
         "marker": {
          "color": "#19d3f3"
         },
         "name": "[TG(62:7),TG(61:0)]_FA14:0",
         "offsetgroup": "[TG(62:7),TG(61:0)]_FA14:0",
         "orientation": "v",
         "showlegend": true,
         "textposition": "auto",
         "type": "bar",
         "x": [
          "1007.0 -> 761.8"
         ],
         "xaxis": "x",
         "y": [
          12988.200942993164
         ],
         "yaxis": "y"
        },
        {
         "alignmentgroup": "True",
         "customdata": [
          [
           "[TG(63:13),TG(62:6)]_FA14:0",
           "TAG"
          ]
         ],
         "hovertemplate": "Lipid=%{customdata[0]}<br>Transition=%{x}<br>Intensity=%{y}<br>Class=%{customdata[1]}<extra></extra>",
         "legendgroup": "[TG(63:13),TG(62:6)]_FA14:0",
         "marker": {
          "color": "#FF6692"
         },
         "name": "[TG(63:13),TG(62:6)]_FA14:0",
         "offsetgroup": "[TG(63:13),TG(62:6)]_FA14:0",
         "orientation": "v",
         "showlegend": true,
         "textposition": "auto",
         "type": "bar",
         "x": [
          "1008.9 -> 763.7"
         ],
         "xaxis": "x",
         "y": [
          13342.720916748047
         ],
         "yaxis": "y"
        },
        {
         "alignmentgroup": "True",
         "customdata": [
          [
           "[TG(63:12),TG(62:5)]_FA14:0",
           "TAG"
          ]
         ],
         "hovertemplate": "Lipid=%{customdata[0]}<br>Transition=%{x}<br>Intensity=%{y}<br>Class=%{customdata[1]}<extra></extra>",
         "legendgroup": "[TG(63:12),TG(62:5)]_FA14:0",
         "marker": {
          "color": "#B6E880"
         },
         "name": "[TG(63:12),TG(62:5)]_FA14:0",
         "offsetgroup": "[TG(63:12),TG(62:5)]_FA14:0",
         "orientation": "v",
         "showlegend": true,
         "textposition": "auto",
         "type": "bar",
         "x": [
          "1010.9 -> 765.7"
         ],
         "xaxis": "x",
         "y": [
          14266.48112487793
         ],
         "yaxis": "y"
        },
        {
         "alignmentgroup": "True",
         "customdata": [
          [
           "[TG(63:11),TG(62:4)]_FA14:0",
           "TAG"
          ]
         ],
         "hovertemplate": "Lipid=%{customdata[0]}<br>Transition=%{x}<br>Intensity=%{y}<br>Class=%{customdata[1]}<extra></extra>",
         "legendgroup": "[TG(63:11),TG(62:4)]_FA14:0",
         "marker": {
          "color": "#FF97FF"
         },
         "name": "[TG(63:11),TG(62:4)]_FA14:0",
         "offsetgroup": "[TG(63:11),TG(62:4)]_FA14:0",
         "orientation": "v",
         "showlegend": true,
         "textposition": "auto",
         "type": "bar",
         "x": [
          "1012.9 -> 767.7"
         ],
         "xaxis": "x",
         "y": [
          13126.080932617188
         ],
         "yaxis": "y"
        },
        {
         "alignmentgroup": "True",
         "customdata": [
          [
           "[TG(64:17),TG(63:10),TG(62:3)]_FA14:0",
           "TAG"
          ]
         ],
         "hovertemplate": "Lipid=%{customdata[0]}<br>Transition=%{x}<br>Intensity=%{y}<br>Class=%{customdata[1]}<extra></extra>",
         "legendgroup": "[TG(64:17),TG(63:10),TG(62:3)]_FA14:0",
         "marker": {
          "color": "#FECB52"
         },
         "name": "[TG(64:17),TG(63:10),TG(62:3)]_FA14:0",
         "offsetgroup": "[TG(64:17),TG(63:10),TG(62:3)]_FA14:0",
         "orientation": "v",
         "showlegend": true,
         "textposition": "auto",
         "type": "bar",
         "x": [
          "1014.9 -> 769.7"
         ],
         "xaxis": "x",
         "y": [
          13007.560943603516
         ],
         "yaxis": "y"
        },
        {
         "alignmentgroup": "True",
         "customdata": [
          [
           "[TG(64:16),TG(63:9),TG(62:2)]_FA14:0",
           "TAG"
          ]
         ],
         "hovertemplate": "Lipid=%{customdata[0]}<br>Transition=%{x}<br>Intensity=%{y}<br>Class=%{customdata[1]}<extra></extra>",
         "legendgroup": "[TG(64:16),TG(63:9),TG(62:2)]_FA14:0",
         "marker": {
          "color": "#636efa"
         },
         "name": "[TG(64:16),TG(63:9),TG(62:2)]_FA14:0",
         "offsetgroup": "[TG(64:16),TG(63:9),TG(62:2)]_FA14:0",
         "orientation": "v",
         "showlegend": true,
         "textposition": "auto",
         "type": "bar",
         "x": [
          "1017.0 -> 771.8"
         ],
         "xaxis": "x",
         "y": [
          15978.181114196777
         ],
         "yaxis": "y"
        },
        {
         "alignmentgroup": "True",
         "customdata": [
          [
           "[TG(64:15),TG(63:8),TG(62:1)]_FA14:0",
           "TAG"
          ]
         ],
         "hovertemplate": "Lipid=%{customdata[0]}<br>Transition=%{x}<br>Intensity=%{y}<br>Class=%{customdata[1]}<extra></extra>",
         "legendgroup": "[TG(64:15),TG(63:8),TG(62:1)]_FA14:0",
         "marker": {
          "color": "#EF553B"
         },
         "name": "[TG(64:15),TG(63:8),TG(62:1)]_FA14:0",
         "offsetgroup": "[TG(64:15),TG(63:8),TG(62:1)]_FA14:0",
         "orientation": "v",
         "showlegend": true,
         "textposition": "auto",
         "type": "bar",
         "x": [
          "1019.0 -> 773.8"
         ],
         "xaxis": "x",
         "y": [
          14954.541114807129
         ],
         "yaxis": "y"
        },
        {
         "alignmentgroup": "True",
         "customdata": [
          [
           "[TG(64:14),TG(63:7),TG(62:0)]_FA14:0",
           "TAG"
          ]
         ],
         "hovertemplate": "Lipid=%{customdata[0]}<br>Transition=%{x}<br>Intensity=%{y}<br>Class=%{customdata[1]}<extra></extra>",
         "legendgroup": "[TG(64:14),TG(63:7),TG(62:0)]_FA14:0",
         "marker": {
          "color": "#00cc96"
         },
         "name": "[TG(64:14),TG(63:7),TG(62:0)]_FA14:0",
         "offsetgroup": "[TG(64:14),TG(63:7),TG(62:0)]_FA14:0",
         "orientation": "v",
         "showlegend": true,
         "textposition": "auto",
         "type": "bar",
         "x": [
          "1021.0 -> 775.8"
         ],
         "xaxis": "x",
         "y": [
          12710.70083618164
         ],
         "yaxis": "y"
        },
        {
         "alignmentgroup": "True",
         "customdata": [
          [
           "[TG(64:13),TG(63:6)]_FA14:0",
           "TAG"
          ]
         ],
         "hovertemplate": "Lipid=%{customdata[0]}<br>Transition=%{x}<br>Intensity=%{y}<br>Class=%{customdata[1]}<extra></extra>",
         "legendgroup": "[TG(64:13),TG(63:6)]_FA14:0",
         "marker": {
          "color": "#ab63fa"
         },
         "name": "[TG(64:13),TG(63:6)]_FA14:0",
         "offsetgroup": "[TG(64:13),TG(63:6)]_FA14:0",
         "orientation": "v",
         "showlegend": true,
         "textposition": "auto",
         "type": "bar",
         "x": [
          "1022.9 -> 777.7"
         ],
         "xaxis": "x",
         "y": [
          14045.280990600586
         ],
         "yaxis": "y"
        },
        {
         "alignmentgroup": "True",
         "customdata": [
          [
           "[TG(64:12),TG(63:5)]_FA14:0",
           "TAG"
          ]
         ],
         "hovertemplate": "Lipid=%{customdata[0]}<br>Transition=%{x}<br>Intensity=%{y}<br>Class=%{customdata[1]}<extra></extra>",
         "legendgroup": "[TG(64:12),TG(63:5)]_FA14:0",
         "marker": {
          "color": "#FFA15A"
         },
         "name": "[TG(64:12),TG(63:5)]_FA14:0",
         "offsetgroup": "[TG(64:12),TG(63:5)]_FA14:0",
         "orientation": "v",
         "showlegend": true,
         "textposition": "auto",
         "type": "bar",
         "x": [
          "1024.9 -> 779.7"
         ],
         "xaxis": "x",
         "y": [
          14086.260986328125
         ],
         "yaxis": "y"
        },
        {
         "alignmentgroup": "True",
         "customdata": [
          [
           "[TG(64:11),TG(63:4)]_FA14:0",
           "TAG"
          ]
         ],
         "hovertemplate": "Lipid=%{customdata[0]}<br>Transition=%{x}<br>Intensity=%{y}<br>Class=%{customdata[1]}<extra></extra>",
         "legendgroup": "[TG(64:11),TG(63:4)]_FA14:0",
         "marker": {
          "color": "#19d3f3"
         },
         "name": "[TG(64:11),TG(63:4)]_FA14:0",
         "offsetgroup": "[TG(64:11),TG(63:4)]_FA14:0",
         "orientation": "v",
         "showlegend": true,
         "textposition": "auto",
         "type": "bar",
         "x": [
          "1026.9 -> 781.7"
         ],
         "xaxis": "x",
         "y": [
          12927.800796508789
         ],
         "yaxis": "y"
        },
        {
         "alignmentgroup": "True",
         "customdata": [
          [
           "[TG(64:10),TG(63:3)]_FA14:0",
           "TAG"
          ]
         ],
         "hovertemplate": "Lipid=%{customdata[0]}<br>Transition=%{x}<br>Intensity=%{y}<br>Class=%{customdata[1]}<extra></extra>",
         "legendgroup": "[TG(64:10),TG(63:3)]_FA14:0",
         "marker": {
          "color": "#FF6692"
         },
         "name": "[TG(64:10),TG(63:3)]_FA14:0",
         "offsetgroup": "[TG(64:10),TG(63:3)]_FA14:0",
         "orientation": "v",
         "showlegend": true,
         "textposition": "auto",
         "type": "bar",
         "x": [
          "1029.0 -> 783.8"
         ],
         "xaxis": "x",
         "y": [
          10637.140739440918
         ],
         "yaxis": "y"
        },
        {
         "alignmentgroup": "True",
         "customdata": [
          [
           "[TG(64:9),TG(63:2)]_FA14:0",
           "TAG"
          ]
         ],
         "hovertemplate": "Lipid=%{customdata[0]}<br>Transition=%{x}<br>Intensity=%{y}<br>Class=%{customdata[1]}<extra></extra>",
         "legendgroup": "[TG(64:9),TG(63:2)]_FA14:0",
         "marker": {
          "color": "#B6E880"
         },
         "name": "[TG(64:9),TG(63:2)]_FA14:0",
         "offsetgroup": "[TG(64:9),TG(63:2)]_FA14:0",
         "orientation": "v",
         "showlegend": true,
         "textposition": "auto",
         "type": "bar",
         "x": [
          "1031.0 -> 785.8"
         ],
         "xaxis": "x",
         "y": [
          13033.880912780762
         ],
         "yaxis": "y"
        },
        {
         "alignmentgroup": "True",
         "customdata": [
          [
           "[TG(64:8),TG(63:1)]_FA14:0",
           "TAG"
          ]
         ],
         "hovertemplate": "Lipid=%{customdata[0]}<br>Transition=%{x}<br>Intensity=%{y}<br>Class=%{customdata[1]}<extra></extra>",
         "legendgroup": "[TG(64:8),TG(63:1)]_FA14:0",
         "marker": {
          "color": "#FF97FF"
         },
         "name": "[TG(64:8),TG(63:1)]_FA14:0",
         "offsetgroup": "[TG(64:8),TG(63:1)]_FA14:0",
         "orientation": "v",
         "showlegend": true,
         "textposition": "auto",
         "type": "bar",
         "x": [
          "1033.0 -> 787.8"
         ],
         "xaxis": "x",
         "y": [
          13134.800857543945
         ],
         "yaxis": "y"
        },
        {
         "alignmentgroup": "True",
         "customdata": [
          [
           "[TG(64:7),TG(63:0)]_FA14:0",
           "TAG"
          ]
         ],
         "hovertemplate": "Lipid=%{customdata[0]}<br>Transition=%{x}<br>Intensity=%{y}<br>Class=%{customdata[1]}<extra></extra>",
         "legendgroup": "[TG(64:7),TG(63:0)]_FA14:0",
         "marker": {
          "color": "#FECB52"
         },
         "name": "[TG(64:7),TG(63:0)]_FA14:0",
         "offsetgroup": "[TG(64:7),TG(63:0)]_FA14:0",
         "orientation": "v",
         "showlegend": true,
         "textposition": "auto",
         "type": "bar",
         "x": [
          "1035.0 -> 789.8"
         ],
         "xaxis": "x",
         "y": [
          12264.380752563477
         ],
         "yaxis": "y"
        },
        {
         "alignmentgroup": "True",
         "customdata": [
          [
           "[TG(64:6)]_FA14:0",
           "TAG"
          ]
         ],
         "hovertemplate": "Lipid=%{customdata[0]}<br>Transition=%{x}<br>Intensity=%{y}<br>Class=%{customdata[1]}<extra></extra>",
         "legendgroup": "[TG(64:6)]_FA14:0",
         "marker": {
          "color": "#636efa"
         },
         "name": "[TG(64:6)]_FA14:0",
         "offsetgroup": "[TG(64:6)]_FA14:0",
         "orientation": "v",
         "showlegend": true,
         "textposition": "auto",
         "type": "bar",
         "x": [
          "1036.9 -> 791.7"
         ],
         "xaxis": "x",
         "y": [
          13273.14094543457
         ],
         "yaxis": "y"
        },
        {
         "alignmentgroup": "True",
         "customdata": [
          [
           "[TG(65:12),TG(64:5)]_FA14:0",
           "TAG"
          ]
         ],
         "hovertemplate": "Lipid=%{customdata[0]}<br>Transition=%{x}<br>Intensity=%{y}<br>Class=%{customdata[1]}<extra></extra>",
         "legendgroup": "[TG(65:12),TG(64:5)]_FA14:0",
         "marker": {
          "color": "#EF553B"
         },
         "name": "[TG(65:12),TG(64:5)]_FA14:0",
         "offsetgroup": "[TG(65:12),TG(64:5)]_FA14:0",
         "orientation": "v",
         "showlegend": true,
         "textposition": "auto",
         "type": "bar",
         "x": [
          "1038.9 -> 793.7"
         ],
         "xaxis": "x",
         "y": [
          20100.661331176758
         ],
         "yaxis": "y"
        },
        {
         "alignmentgroup": "True",
         "customdata": [
          [
           "[TG(66:18),TG(65:11),TG(64:4)]_FA14:0",
           "TAG"
          ]
         ],
         "hovertemplate": "Lipid=%{customdata[0]}<br>Transition=%{x}<br>Intensity=%{y}<br>Class=%{customdata[1]}<extra></extra>",
         "legendgroup": "[TG(66:18),TG(65:11),TG(64:4)]_FA14:0",
         "marker": {
          "color": "#00cc96"
         },
         "name": "[TG(66:18),TG(65:11),TG(64:4)]_FA14:0",
         "offsetgroup": "[TG(66:18),TG(65:11),TG(64:4)]_FA14:0",
         "orientation": "v",
         "showlegend": true,
         "textposition": "auto",
         "type": "bar",
         "x": [
          "1041.0 -> 795.8"
         ],
         "xaxis": "x",
         "y": [
          12335.680953979492
         ],
         "yaxis": "y"
        },
        {
         "alignmentgroup": "True",
         "customdata": [
          [
           "[TG(66:17),TG(65:10),TG(64:3)]_FA14:0",
           "TAG"
          ]
         ],
         "hovertemplate": "Lipid=%{customdata[0]}<br>Transition=%{x}<br>Intensity=%{y}<br>Class=%{customdata[1]}<extra></extra>",
         "legendgroup": "[TG(66:17),TG(65:10),TG(64:3)]_FA14:0",
         "marker": {
          "color": "#ab63fa"
         },
         "name": "[TG(66:17),TG(65:10),TG(64:3)]_FA14:0",
         "offsetgroup": "[TG(66:17),TG(65:10),TG(64:3)]_FA14:0",
         "orientation": "v",
         "showlegend": true,
         "textposition": "auto",
         "type": "bar",
         "x": [
          "1043.0 -> 797.8"
         ],
         "xaxis": "x",
         "y": [
          12561.440925598145
         ],
         "yaxis": "y"
        },
        {
         "alignmentgroup": "True",
         "customdata": [
          [
           "[TG(66:16),TG(65:9),TG(64:2)]_FA14:0",
           "TAG"
          ]
         ],
         "hovertemplate": "Lipid=%{customdata[0]}<br>Transition=%{x}<br>Intensity=%{y}<br>Class=%{customdata[1]}<extra></extra>",
         "legendgroup": "[TG(66:16),TG(65:9),TG(64:2)]_FA14:0",
         "marker": {
          "color": "#FFA15A"
         },
         "name": "[TG(66:16),TG(65:9),TG(64:2)]_FA14:0",
         "offsetgroup": "[TG(66:16),TG(65:9),TG(64:2)]_FA14:0",
         "orientation": "v",
         "showlegend": true,
         "textposition": "auto",
         "type": "bar",
         "x": [
          "1045.0 -> 799.8"
         ],
         "xaxis": "x",
         "y": [
          19396.041259765625
         ],
         "yaxis": "y"
        },
        {
         "alignmentgroup": "True",
         "customdata": [
          [
           "[TG(66:15),TG(65:8),TG(64:1)]_FA14:0",
           "TAG"
          ]
         ],
         "hovertemplate": "Lipid=%{customdata[0]}<br>Transition=%{x}<br>Intensity=%{y}<br>Class=%{customdata[1]}<extra></extra>",
         "legendgroup": "[TG(66:15),TG(65:8),TG(64:1)]_FA14:0",
         "marker": {
          "color": "#19d3f3"
         },
         "name": "[TG(66:15),TG(65:8),TG(64:1)]_FA14:0",
         "offsetgroup": "[TG(66:15),TG(65:8),TG(64:1)]_FA14:0",
         "orientation": "v",
         "showlegend": true,
         "textposition": "auto",
         "type": "bar",
         "x": [
          "1047.0 -> 801.8"
         ],
         "xaxis": "x",
         "y": [
          15101.360977172852
         ],
         "yaxis": "y"
        },
        {
         "alignmentgroup": "True",
         "customdata": [
          [
           "[TG(66:14),TG(65:7),TG(64:0)]_FA14:0",
           "TAG"
          ]
         ],
         "hovertemplate": "Lipid=%{customdata[0]}<br>Transition=%{x}<br>Intensity=%{y}<br>Class=%{customdata[1]}<extra></extra>",
         "legendgroup": "[TG(66:14),TG(65:7),TG(64:0)]_FA14:0",
         "marker": {
          "color": "#FF6692"
         },
         "name": "[TG(66:14),TG(65:7),TG(64:0)]_FA14:0",
         "offsetgroup": "[TG(66:14),TG(65:7),TG(64:0)]_FA14:0",
         "orientation": "v",
         "showlegend": true,
         "textposition": "auto",
         "type": "bar",
         "x": [
          "1049.0 -> 803.8"
         ],
         "xaxis": "x",
         "y": [
          15476.981079101562
         ],
         "yaxis": "y"
        },
        {
         "alignmentgroup": "True",
         "customdata": [
          [
           "[TG(66:13),TG(65:6)]_FA14:0",
           "TAG"
          ]
         ],
         "hovertemplate": "Lipid=%{customdata[0]}<br>Transition=%{x}<br>Intensity=%{y}<br>Class=%{customdata[1]}<extra></extra>",
         "legendgroup": "[TG(66:13),TG(65:6)]_FA14:0",
         "marker": {
          "color": "#B6E880"
         },
         "name": "[TG(66:13),TG(65:6)]_FA14:0",
         "offsetgroup": "[TG(66:13),TG(65:6)]_FA14:0",
         "orientation": "v",
         "showlegend": true,
         "textposition": "auto",
         "type": "bar",
         "x": [
          "1050.9 -> 805.7"
         ],
         "xaxis": "x",
         "y": [
          10396.680717468262
         ],
         "yaxis": "y"
        },
        {
         "alignmentgroup": "True",
         "customdata": [
          [
           "[TG(66:12),TG(65:5)]_FA14:0",
           "TAG"
          ]
         ],
         "hovertemplate": "Lipid=%{customdata[0]}<br>Transition=%{x}<br>Intensity=%{y}<br>Class=%{customdata[1]}<extra></extra>",
         "legendgroup": "[TG(66:12),TG(65:5)]_FA14:0",
         "marker": {
          "color": "#FF97FF"
         },
         "name": "[TG(66:12),TG(65:5)]_FA14:0",
         "offsetgroup": "[TG(66:12),TG(65:5)]_FA14:0",
         "orientation": "v",
         "showlegend": true,
         "textposition": "auto",
         "type": "bar",
         "x": [
          "1053.0 -> 807.8"
         ],
         "xaxis": "x",
         "y": [
          12281.800918579102
         ],
         "yaxis": "y"
        },
        {
         "alignmentgroup": "True",
         "customdata": [
          [
           "[TG(66:11),TG(65:4)]_FA14:0",
           "TAG"
          ]
         ],
         "hovertemplate": "Lipid=%{customdata[0]}<br>Transition=%{x}<br>Intensity=%{y}<br>Class=%{customdata[1]}<extra></extra>",
         "legendgroup": "[TG(66:11),TG(65:4)]_FA14:0",
         "marker": {
          "color": "#FECB52"
         },
         "name": "[TG(66:11),TG(65:4)]_FA14:0",
         "offsetgroup": "[TG(66:11),TG(65:4)]_FA14:0",
         "orientation": "v",
         "showlegend": true,
         "textposition": "auto",
         "type": "bar",
         "x": [
          "1055.0 -> 809.8"
         ],
         "xaxis": "x",
         "y": [
          12049.680938720703
         ],
         "yaxis": "y"
        },
        {
         "alignmentgroup": "True",
         "customdata": [
          [
           "[TG(66:10),TG(65:3)]_FA14:0",
           "TAG"
          ]
         ],
         "hovertemplate": "Lipid=%{customdata[0]}<br>Transition=%{x}<br>Intensity=%{y}<br>Class=%{customdata[1]}<extra></extra>",
         "legendgroup": "[TG(66:10),TG(65:3)]_FA14:0",
         "marker": {
          "color": "#636efa"
         },
         "name": "[TG(66:10),TG(65:3)]_FA14:0",
         "offsetgroup": "[TG(66:10),TG(65:3)]_FA14:0",
         "orientation": "v",
         "showlegend": true,
         "textposition": "auto",
         "type": "bar",
         "x": [
          "1057.0 -> 811.8"
         ],
         "xaxis": "x",
         "y": [
          11546.020881652832
         ],
         "yaxis": "y"
        },
        {
         "alignmentgroup": "True",
         "customdata": [
          [
           "[TG(66:9),TG(65:2)]_FA14:0",
           "TAG"
          ]
         ],
         "hovertemplate": "Lipid=%{customdata[0]}<br>Transition=%{x}<br>Intensity=%{y}<br>Class=%{customdata[1]}<extra></extra>",
         "legendgroup": "[TG(66:9),TG(65:2)]_FA14:0",
         "marker": {
          "color": "#EF553B"
         },
         "name": "[TG(66:9),TG(65:2)]_FA14:0",
         "offsetgroup": "[TG(66:9),TG(65:2)]_FA14:0",
         "orientation": "v",
         "showlegend": true,
         "textposition": "auto",
         "type": "bar",
         "x": [
          "1059.0 -> 813.8"
         ],
         "xaxis": "x",
         "y": [
          13140.541000366211
         ],
         "yaxis": "y"
        },
        {
         "alignmentgroup": "True",
         "customdata": [
          [
           "[TG(66:8),TG(65:1)]_FA14:0",
           "TAG"
          ]
         ],
         "hovertemplate": "Lipid=%{customdata[0]}<br>Transition=%{x}<br>Intensity=%{y}<br>Class=%{customdata[1]}<extra></extra>",
         "legendgroup": "[TG(66:8),TG(65:1)]_FA14:0",
         "marker": {
          "color": "#00cc96"
         },
         "name": "[TG(66:8),TG(65:1)]_FA14:0",
         "offsetgroup": "[TG(66:8),TG(65:1)]_FA14:0",
         "orientation": "v",
         "showlegend": true,
         "textposition": "auto",
         "type": "bar",
         "x": [
          "1061.0 -> 815.8"
         ],
         "xaxis": "x",
         "y": [
          14803.141014099121
         ],
         "yaxis": "y"
        },
        {
         "alignmentgroup": "True",
         "customdata": [
          [
           "[TG(66:7)]_FA14:0",
           "TAG"
          ]
         ],
         "hovertemplate": "Lipid=%{customdata[0]}<br>Transition=%{x}<br>Intensity=%{y}<br>Class=%{customdata[1]}<extra></extra>",
         "legendgroup": "[TG(66:7)]_FA14:0",
         "marker": {
          "color": "#ab63fa"
         },
         "name": "[TG(66:7)]_FA14:0",
         "offsetgroup": "[TG(66:7)]_FA14:0",
         "orientation": "v",
         "showlegend": true,
         "textposition": "auto",
         "type": "bar",
         "x": [
          "1062.9 -> 817.7"
         ],
         "xaxis": "x",
         "y": [
          13260.220840454102
         ],
         "yaxis": "y"
        },
        {
         "alignmentgroup": "True",
         "customdata": [
          [
           "[TG(65:0)]_FA14:0",
           "TAG"
          ]
         ],
         "hovertemplate": "Lipid=%{customdata[0]}<br>Transition=%{x}<br>Intensity=%{y}<br>Class=%{customdata[1]}<extra></extra>",
         "legendgroup": "[TG(65:0)]_FA14:0",
         "marker": {
          "color": "#FFA15A"
         },
         "name": "[TG(65:0)]_FA14:0",
         "offsetgroup": "[TG(65:0)]_FA14:0",
         "orientation": "v",
         "showlegend": true,
         "textposition": "auto",
         "type": "bar",
         "x": [
          "1063.0 -> 817.8"
         ],
         "xaxis": "x",
         "y": [
          15204.641082763672
         ],
         "yaxis": "y"
        },
        {
         "alignmentgroup": "True",
         "customdata": [
          [
           "[TG(66:6)]_FA14:0",
           "TAG"
          ]
         ],
         "hovertemplate": "Lipid=%{customdata[0]}<br>Transition=%{x}<br>Intensity=%{y}<br>Class=%{customdata[1]}<extra></extra>",
         "legendgroup": "[TG(66:6)]_FA14:0",
         "marker": {
          "color": "#19d3f3"
         },
         "name": "[TG(66:6)]_FA14:0",
         "offsetgroup": "[TG(66:6)]_FA14:0",
         "orientation": "v",
         "showlegend": true,
         "textposition": "auto",
         "type": "bar",
         "x": [
          "1065.0 -> 819.8"
         ],
         "xaxis": "x",
         "y": [
          11739.30093383789
         ],
         "yaxis": "y"
        },
        {
         "alignmentgroup": "True",
         "customdata": [
          [
           "[TG(66:5)]_FA14:0",
           "TAG"
          ]
         ],
         "hovertemplate": "Lipid=%{customdata[0]}<br>Transition=%{x}<br>Intensity=%{y}<br>Class=%{customdata[1]}<extra></extra>",
         "legendgroup": "[TG(66:5)]_FA14:0",
         "marker": {
          "color": "#FF6692"
         },
         "name": "[TG(66:5)]_FA14:0",
         "offsetgroup": "[TG(66:5)]_FA14:0",
         "orientation": "v",
         "showlegend": true,
         "textposition": "auto",
         "type": "bar",
         "x": [
          "1067.0 -> 821.8"
         ],
         "xaxis": "x",
         "y": [
          10289.58073425293
         ],
         "yaxis": "y"
        },
        {
         "alignmentgroup": "True",
         "customdata": [
          [
           "[TG(66:4)]_FA14:0",
           "TAG"
          ]
         ],
         "hovertemplate": "Lipid=%{customdata[0]}<br>Transition=%{x}<br>Intensity=%{y}<br>Class=%{customdata[1]}<extra></extra>",
         "legendgroup": "[TG(66:4)]_FA14:0",
         "marker": {
          "color": "#B6E880"
         },
         "name": "[TG(66:4)]_FA14:0",
         "offsetgroup": "[TG(66:4)]_FA14:0",
         "orientation": "v",
         "showlegend": true,
         "textposition": "auto",
         "type": "bar",
         "x": [
          "1069.0 -> 823.8"
         ],
         "xaxis": "x",
         "y": [
          11749.400787353516
         ],
         "yaxis": "y"
        },
        {
         "alignmentgroup": "True",
         "customdata": [
          [
           "[TG(66:3)]_FA14:0",
           "TAG"
          ]
         ],
         "hovertemplate": "Lipid=%{customdata[0]}<br>Transition=%{x}<br>Intensity=%{y}<br>Class=%{customdata[1]}<extra></extra>",
         "legendgroup": "[TG(66:3)]_FA14:0",
         "marker": {
          "color": "#FF97FF"
         },
         "name": "[TG(66:3)]_FA14:0",
         "offsetgroup": "[TG(66:3)]_FA14:0",
         "orientation": "v",
         "showlegend": true,
         "textposition": "auto",
         "type": "bar",
         "x": [
          "1071.0 -> 825.8"
         ],
         "xaxis": "x",
         "y": [
          12457.700866699219
         ],
         "yaxis": "y"
        },
        {
         "alignmentgroup": "True",
         "customdata": [
          [
           "[TG(66:2)]_FA14:0",
           "TAG"
          ]
         ],
         "hovertemplate": "Lipid=%{customdata[0]}<br>Transition=%{x}<br>Intensity=%{y}<br>Class=%{customdata[1]}<extra></extra>",
         "legendgroup": "[TG(66:2)]_FA14:0",
         "marker": {
          "color": "#FECB52"
         },
         "name": "[TG(66:2)]_FA14:0",
         "offsetgroup": "[TG(66:2)]_FA14:0",
         "orientation": "v",
         "showlegend": true,
         "textposition": "auto",
         "type": "bar",
         "x": [
          "1073.0 -> 827.8"
         ],
         "xaxis": "x",
         "y": [
          11174.560779571533
         ],
         "yaxis": "y"
        },
        {
         "alignmentgroup": "True",
         "customdata": [
          [
           "[TG(66:1)]_FA14:0",
           "TAG"
          ]
         ],
         "hovertemplate": "Lipid=%{customdata[0]}<br>Transition=%{x}<br>Intensity=%{y}<br>Class=%{customdata[1]}<extra></extra>",
         "legendgroup": "[TG(66:1)]_FA14:0",
         "marker": {
          "color": "#636efa"
         },
         "name": "[TG(66:1)]_FA14:0",
         "offsetgroup": "[TG(66:1)]_FA14:0",
         "orientation": "v",
         "showlegend": true,
         "textposition": "auto",
         "type": "bar",
         "x": [
          "1075.0 -> 829.8"
         ],
         "xaxis": "x",
         "y": [
          12249.820945739746
         ],
         "yaxis": "y"
        }
       ],
       "layout": {
        "barmode": "relative",
        "legend": {
         "title": {
          "text": "Lipid"
         },
         "tracegroupgap": 0
        },
        "margin": {
         "t": 60
        },
        "template": {
         "data": {
          "bar": [
           {
            "error_x": {
             "color": "#2a3f5f"
            },
            "error_y": {
             "color": "#2a3f5f"
            },
            "marker": {
             "line": {
              "color": "#E5ECF6",
              "width": 0.5
             }
            },
            "type": "bar"
           }
          ],
          "barpolar": [
           {
            "marker": {
             "line": {
              "color": "#E5ECF6",
              "width": 0.5
             }
            },
            "type": "barpolar"
           }
          ],
          "carpet": [
           {
            "aaxis": {
             "endlinecolor": "#2a3f5f",
             "gridcolor": "white",
             "linecolor": "white",
             "minorgridcolor": "white",
             "startlinecolor": "#2a3f5f"
            },
            "baxis": {
             "endlinecolor": "#2a3f5f",
             "gridcolor": "white",
             "linecolor": "white",
             "minorgridcolor": "white",
             "startlinecolor": "#2a3f5f"
            },
            "type": "carpet"
           }
          ],
          "choropleth": [
           {
            "colorbar": {
             "outlinewidth": 0,
             "ticks": ""
            },
            "type": "choropleth"
           }
          ],
          "contour": [
           {
            "colorbar": {
             "outlinewidth": 0,
             "ticks": ""
            },
            "colorscale": [
             [
              0,
              "#0d0887"
             ],
             [
              0.1111111111111111,
              "#46039f"
             ],
             [
              0.2222222222222222,
              "#7201a8"
             ],
             [
              0.3333333333333333,
              "#9c179e"
             ],
             [
              0.4444444444444444,
              "#bd3786"
             ],
             [
              0.5555555555555556,
              "#d8576b"
             ],
             [
              0.6666666666666666,
              "#ed7953"
             ],
             [
              0.7777777777777778,
              "#fb9f3a"
             ],
             [
              0.8888888888888888,
              "#fdca26"
             ],
             [
              1,
              "#f0f921"
             ]
            ],
            "type": "contour"
           }
          ],
          "contourcarpet": [
           {
            "colorbar": {
             "outlinewidth": 0,
             "ticks": ""
            },
            "type": "contourcarpet"
           }
          ],
          "heatmap": [
           {
            "colorbar": {
             "outlinewidth": 0,
             "ticks": ""
            },
            "colorscale": [
             [
              0,
              "#0d0887"
             ],
             [
              0.1111111111111111,
              "#46039f"
             ],
             [
              0.2222222222222222,
              "#7201a8"
             ],
             [
              0.3333333333333333,
              "#9c179e"
             ],
             [
              0.4444444444444444,
              "#bd3786"
             ],
             [
              0.5555555555555556,
              "#d8576b"
             ],
             [
              0.6666666666666666,
              "#ed7953"
             ],
             [
              0.7777777777777778,
              "#fb9f3a"
             ],
             [
              0.8888888888888888,
              "#fdca26"
             ],
             [
              1,
              "#f0f921"
             ]
            ],
            "type": "heatmap"
           }
          ],
          "heatmapgl": [
           {
            "colorbar": {
             "outlinewidth": 0,
             "ticks": ""
            },
            "colorscale": [
             [
              0,
              "#0d0887"
             ],
             [
              0.1111111111111111,
              "#46039f"
             ],
             [
              0.2222222222222222,
              "#7201a8"
             ],
             [
              0.3333333333333333,
              "#9c179e"
             ],
             [
              0.4444444444444444,
              "#bd3786"
             ],
             [
              0.5555555555555556,
              "#d8576b"
             ],
             [
              0.6666666666666666,
              "#ed7953"
             ],
             [
              0.7777777777777778,
              "#fb9f3a"
             ],
             [
              0.8888888888888888,
              "#fdca26"
             ],
             [
              1,
              "#f0f921"
             ]
            ],
            "type": "heatmapgl"
           }
          ],
          "histogram": [
           {
            "marker": {
             "colorbar": {
              "outlinewidth": 0,
              "ticks": ""
             }
            },
            "type": "histogram"
           }
          ],
          "histogram2d": [
           {
            "colorbar": {
             "outlinewidth": 0,
             "ticks": ""
            },
            "colorscale": [
             [
              0,
              "#0d0887"
             ],
             [
              0.1111111111111111,
              "#46039f"
             ],
             [
              0.2222222222222222,
              "#7201a8"
             ],
             [
              0.3333333333333333,
              "#9c179e"
             ],
             [
              0.4444444444444444,
              "#bd3786"
             ],
             [
              0.5555555555555556,
              "#d8576b"
             ],
             [
              0.6666666666666666,
              "#ed7953"
             ],
             [
              0.7777777777777778,
              "#fb9f3a"
             ],
             [
              0.8888888888888888,
              "#fdca26"
             ],
             [
              1,
              "#f0f921"
             ]
            ],
            "type": "histogram2d"
           }
          ],
          "histogram2dcontour": [
           {
            "colorbar": {
             "outlinewidth": 0,
             "ticks": ""
            },
            "colorscale": [
             [
              0,
              "#0d0887"
             ],
             [
              0.1111111111111111,
              "#46039f"
             ],
             [
              0.2222222222222222,
              "#7201a8"
             ],
             [
              0.3333333333333333,
              "#9c179e"
             ],
             [
              0.4444444444444444,
              "#bd3786"
             ],
             [
              0.5555555555555556,
              "#d8576b"
             ],
             [
              0.6666666666666666,
              "#ed7953"
             ],
             [
              0.7777777777777778,
              "#fb9f3a"
             ],
             [
              0.8888888888888888,
              "#fdca26"
             ],
             [
              1,
              "#f0f921"
             ]
            ],
            "type": "histogram2dcontour"
           }
          ],
          "mesh3d": [
           {
            "colorbar": {
             "outlinewidth": 0,
             "ticks": ""
            },
            "type": "mesh3d"
           }
          ],
          "parcoords": [
           {
            "line": {
             "colorbar": {
              "outlinewidth": 0,
              "ticks": ""
             }
            },
            "type": "parcoords"
           }
          ],
          "pie": [
           {
            "automargin": true,
            "type": "pie"
           }
          ],
          "scatter": [
           {
            "marker": {
             "colorbar": {
              "outlinewidth": 0,
              "ticks": ""
             }
            },
            "type": "scatter"
           }
          ],
          "scatter3d": [
           {
            "line": {
             "colorbar": {
              "outlinewidth": 0,
              "ticks": ""
             }
            },
            "marker": {
             "colorbar": {
              "outlinewidth": 0,
              "ticks": ""
             }
            },
            "type": "scatter3d"
           }
          ],
          "scattercarpet": [
           {
            "marker": {
             "colorbar": {
              "outlinewidth": 0,
              "ticks": ""
             }
            },
            "type": "scattercarpet"
           }
          ],
          "scattergeo": [
           {
            "marker": {
             "colorbar": {
              "outlinewidth": 0,
              "ticks": ""
             }
            },
            "type": "scattergeo"
           }
          ],
          "scattergl": [
           {
            "marker": {
             "colorbar": {
              "outlinewidth": 0,
              "ticks": ""
             }
            },
            "type": "scattergl"
           }
          ],
          "scattermapbox": [
           {
            "marker": {
             "colorbar": {
              "outlinewidth": 0,
              "ticks": ""
             }
            },
            "type": "scattermapbox"
           }
          ],
          "scatterpolar": [
           {
            "marker": {
             "colorbar": {
              "outlinewidth": 0,
              "ticks": ""
             }
            },
            "type": "scatterpolar"
           }
          ],
          "scatterpolargl": [
           {
            "marker": {
             "colorbar": {
              "outlinewidth": 0,
              "ticks": ""
             }
            },
            "type": "scatterpolargl"
           }
          ],
          "scatterternary": [
           {
            "marker": {
             "colorbar": {
              "outlinewidth": 0,
              "ticks": ""
             }
            },
            "type": "scatterternary"
           }
          ],
          "surface": [
           {
            "colorbar": {
             "outlinewidth": 0,
             "ticks": ""
            },
            "colorscale": [
             [
              0,
              "#0d0887"
             ],
             [
              0.1111111111111111,
              "#46039f"
             ],
             [
              0.2222222222222222,
              "#7201a8"
             ],
             [
              0.3333333333333333,
              "#9c179e"
             ],
             [
              0.4444444444444444,
              "#bd3786"
             ],
             [
              0.5555555555555556,
              "#d8576b"
             ],
             [
              0.6666666666666666,
              "#ed7953"
             ],
             [
              0.7777777777777778,
              "#fb9f3a"
             ],
             [
              0.8888888888888888,
              "#fdca26"
             ],
             [
              1,
              "#f0f921"
             ]
            ],
            "type": "surface"
           }
          ],
          "table": [
           {
            "cells": {
             "fill": {
              "color": "#EBF0F8"
             },
             "line": {
              "color": "white"
             }
            },
            "header": {
             "fill": {
              "color": "#C8D4E3"
             },
             "line": {
              "color": "white"
             }
            },
            "type": "table"
           }
          ]
         },
         "layout": {
          "annotationdefaults": {
           "arrowcolor": "#2a3f5f",
           "arrowhead": 0,
           "arrowwidth": 1
          },
          "coloraxis": {
           "colorbar": {
            "outlinewidth": 0,
            "ticks": ""
           }
          },
          "colorscale": {
           "diverging": [
            [
             0,
             "#8e0152"
            ],
            [
             0.1,
             "#c51b7d"
            ],
            [
             0.2,
             "#de77ae"
            ],
            [
             0.3,
             "#f1b6da"
            ],
            [
             0.4,
             "#fde0ef"
            ],
            [
             0.5,
             "#f7f7f7"
            ],
            [
             0.6,
             "#e6f5d0"
            ],
            [
             0.7,
             "#b8e186"
            ],
            [
             0.8,
             "#7fbc41"
            ],
            [
             0.9,
             "#4d9221"
            ],
            [
             1,
             "#276419"
            ]
           ],
           "sequential": [
            [
             0,
             "#0d0887"
            ],
            [
             0.1111111111111111,
             "#46039f"
            ],
            [
             0.2222222222222222,
             "#7201a8"
            ],
            [
             0.3333333333333333,
             "#9c179e"
            ],
            [
             0.4444444444444444,
             "#bd3786"
            ],
            [
             0.5555555555555556,
             "#d8576b"
            ],
            [
             0.6666666666666666,
             "#ed7953"
            ],
            [
             0.7777777777777778,
             "#fb9f3a"
            ],
            [
             0.8888888888888888,
             "#fdca26"
            ],
            [
             1,
             "#f0f921"
            ]
           ],
           "sequentialminus": [
            [
             0,
             "#0d0887"
            ],
            [
             0.1111111111111111,
             "#46039f"
            ],
            [
             0.2222222222222222,
             "#7201a8"
            ],
            [
             0.3333333333333333,
             "#9c179e"
            ],
            [
             0.4444444444444444,
             "#bd3786"
            ],
            [
             0.5555555555555556,
             "#d8576b"
            ],
            [
             0.6666666666666666,
             "#ed7953"
            ],
            [
             0.7777777777777778,
             "#fb9f3a"
            ],
            [
             0.8888888888888888,
             "#fdca26"
            ],
            [
             1,
             "#f0f921"
            ]
           ]
          },
          "colorway": [
           "#636efa",
           "#EF553B",
           "#00cc96",
           "#ab63fa",
           "#FFA15A",
           "#19d3f3",
           "#FF6692",
           "#B6E880",
           "#FF97FF",
           "#FECB52"
          ],
          "font": {
           "color": "#2a3f5f"
          },
          "geo": {
           "bgcolor": "white",
           "lakecolor": "white",
           "landcolor": "#E5ECF6",
           "showlakes": true,
           "showland": true,
           "subunitcolor": "white"
          },
          "hoverlabel": {
           "align": "left"
          },
          "hovermode": "closest",
          "mapbox": {
           "style": "light"
          },
          "paper_bgcolor": "white",
          "plot_bgcolor": "#E5ECF6",
          "polar": {
           "angularaxis": {
            "gridcolor": "white",
            "linecolor": "white",
            "ticks": ""
           },
           "bgcolor": "#E5ECF6",
           "radialaxis": {
            "gridcolor": "white",
            "linecolor": "white",
            "ticks": ""
           }
          },
          "scene": {
           "xaxis": {
            "backgroundcolor": "#E5ECF6",
            "gridcolor": "white",
            "gridwidth": 2,
            "linecolor": "white",
            "showbackground": true,
            "ticks": "",
            "zerolinecolor": "white"
           },
           "yaxis": {
            "backgroundcolor": "#E5ECF6",
            "gridcolor": "white",
            "gridwidth": 2,
            "linecolor": "white",
            "showbackground": true,
            "ticks": "",
            "zerolinecolor": "white"
           },
           "zaxis": {
            "backgroundcolor": "#E5ECF6",
            "gridcolor": "white",
            "gridwidth": 2,
            "linecolor": "white",
            "showbackground": true,
            "ticks": "",
            "zerolinecolor": "white"
           }
          },
          "shapedefaults": {
           "line": {
            "color": "#2a3f5f"
           }
          },
          "ternary": {
           "aaxis": {
            "gridcolor": "white",
            "linecolor": "white",
            "ticks": ""
           },
           "baxis": {
            "gridcolor": "white",
            "linecolor": "white",
            "ticks": ""
           },
           "bgcolor": "#E5ECF6",
           "caxis": {
            "gridcolor": "white",
            "linecolor": "white",
            "ticks": ""
           }
          },
          "title": {
           "x": 0.05
          },
          "xaxis": {
           "automargin": true,
           "gridcolor": "white",
           "linecolor": "white",
           "ticks": "",
           "title": {
            "standoff": 15
           },
           "zerolinecolor": "white",
           "zerolinewidth": 2
          },
          "yaxis": {
           "automargin": true,
           "gridcolor": "white",
           "linecolor": "white",
           "ticks": "",
           "title": {
            "standoff": 15
           },
           "zerolinecolor": "white",
           "zerolinewidth": 2
          }
         }
        },
        "xaxis": {
         "anchor": "y",
         "domain": [
          0,
          1
         ],
         "title": {
          "text": "Transition"
         }
        },
        "yaxis": {
         "anchor": "x",
         "domain": [
          0,
          1
         ],
         "title": {
          "text": "Intensity"
         }
        }
       }
      },
      "text/html": [
       "<div>                            <div id=\"21cdd450-6c0e-4e23-85e8-67f36a3f4ac2\" class=\"plotly-graph-div\" style=\"height:525px; width:100%;\"></div>            <script type=\"text/javascript\">                require([\"plotly\"], function(Plotly) {                    window.PLOTLYENV=window.PLOTLYENV || {};                                    if (document.getElementById(\"21cdd450-6c0e-4e23-85e8-67f36a3f4ac2\")) {                    Plotly.newPlot(                        \"21cdd450-6c0e-4e23-85e8-67f36a3f4ac2\",                        [{\"alignmentgroup\": \"True\", \"customdata\": [[\"[TG(37:0)]_FA14:0\", \"TAG\"]], \"hovertemplate\": \"Lipid=%{customdata[0]}<br>Transition=%{x}<br>Intensity=%{y}<br>Class=%{customdata[1]}<extra></extra>\", \"legendgroup\": \"[TG(37:0)]_FA14:0\", \"marker\": {\"color\": \"#636efa\"}, \"name\": \"[TG(37:0)]_FA14:0\", \"offsetgroup\": \"[TG(37:0)]_FA14:0\", \"orientation\": \"v\", \"showlegend\": true, \"textposition\": \"auto\", \"type\": \"bar\", \"x\": [\"670.6 -> 425.4\"], \"xaxis\": \"x\", \"y\": [45072.822998046875], \"yaxis\": \"y\"}, {\"alignmentgroup\": \"True\", \"customdata\": [[\"[TG(38:1)]_FA14:0\", \"TAG\"]], \"hovertemplate\": \"Lipid=%{customdata[0]}<br>Transition=%{x}<br>Intensity=%{y}<br>Class=%{customdata[1]}<extra></extra>\", \"legendgroup\": \"[TG(38:1)]_FA14:0\", \"marker\": {\"color\": \"#EF553B\"}, \"name\": \"[TG(38:1)]_FA14:0\", \"offsetgroup\": \"[TG(38:1)]_FA14:0\", \"orientation\": \"v\", \"showlegend\": true, \"textposition\": \"auto\", \"type\": \"bar\", \"x\": [\"682.6 -> 437.4\"], \"xaxis\": \"x\", \"y\": [64211.844482421875], \"yaxis\": \"y\"}, {\"alignmentgroup\": \"True\", \"customdata\": [[\"[TG(38:0)]_FA14:0\", \"TAG\"]], \"hovertemplate\": \"Lipid=%{customdata[0]}<br>Transition=%{x}<br>Intensity=%{y}<br>Class=%{customdata[1]}<extra></extra>\", \"legendgroup\": \"[TG(38:0)]_FA14:0\", \"marker\": {\"color\": \"#00cc96\"}, \"name\": \"[TG(38:0)]_FA14:0\", \"offsetgroup\": \"[TG(38:0)]_FA14:0\", \"orientation\": \"v\", \"showlegend\": true, \"textposition\": \"auto\", \"type\": \"bar\", \"x\": [\"684.6 -> 439.4\"], \"xaxis\": \"x\", \"y\": [237300.73681640625], \"yaxis\": \"y\"}, {\"alignmentgroup\": \"True\", \"customdata\": [[\"[TG(39:1)]_FA14:0\", \"TAG\"]], \"hovertemplate\": \"Lipid=%{customdata[0]}<br>Transition=%{x}<br>Intensity=%{y}<br>Class=%{customdata[1]}<extra></extra>\", \"legendgroup\": \"[TG(39:1)]_FA14:0\", \"marker\": {\"color\": \"#ab63fa\"}, \"name\": \"[TG(39:1)]_FA14:0\", \"offsetgroup\": \"[TG(39:1)]_FA14:0\", \"orientation\": \"v\", \"showlegend\": true, \"textposition\": \"auto\", \"type\": \"bar\", \"x\": [\"696.6 -> 451.4\"], \"xaxis\": \"x\", \"y\": [27744.182037353516], \"yaxis\": \"y\"}, {\"alignmentgroup\": \"True\", \"customdata\": [[\"[TG(39:0)]_FA14:0\", \"TAG\"]], \"hovertemplate\": \"Lipid=%{customdata[0]}<br>Transition=%{x}<br>Intensity=%{y}<br>Class=%{customdata[1]}<extra></extra>\", \"legendgroup\": \"[TG(39:0)]_FA14:0\", \"marker\": {\"color\": \"#FFA15A\"}, \"name\": \"[TG(39:0)]_FA14:0\", \"offsetgroup\": \"[TG(39:0)]_FA14:0\", \"orientation\": \"v\", \"showlegend\": true, \"textposition\": \"auto\", \"type\": \"bar\", \"x\": [\"698.6 -> 453.4\"], \"xaxis\": \"x\", \"y\": [37315.48260498047], \"yaxis\": \"y\"}, {\"alignmentgroup\": \"True\", \"customdata\": [[\"[TG(40:2)]_FA14:0\", \"TAG\"]], \"hovertemplate\": \"Lipid=%{customdata[0]}<br>Transition=%{x}<br>Intensity=%{y}<br>Class=%{customdata[1]}<extra></extra>\", \"legendgroup\": \"[TG(40:2)]_FA14:0\", \"marker\": {\"color\": \"#19d3f3\"}, \"name\": \"[TG(40:2)]_FA14:0\", \"offsetgroup\": \"[TG(40:2)]_FA14:0\", \"orientation\": \"v\", \"showlegend\": true, \"textposition\": \"auto\", \"type\": \"bar\", \"x\": [\"708.6 -> 463.4\"], \"xaxis\": \"x\", \"y\": [24415.261688232422], \"yaxis\": \"y\"}, {\"alignmentgroup\": \"True\", \"customdata\": [[\"[TG(40:1)]_FA14:0\", \"TAG\"]], \"hovertemplate\": \"Lipid=%{customdata[0]}<br>Transition=%{x}<br>Intensity=%{y}<br>Class=%{customdata[1]}<extra></extra>\", \"legendgroup\": \"[TG(40:1)]_FA14:0\", \"marker\": {\"color\": \"#FF6692\"}, \"name\": \"[TG(40:1)]_FA14:0\", \"offsetgroup\": \"[TG(40:1)]_FA14:0\", \"orientation\": \"v\", \"showlegend\": true, \"textposition\": \"auto\", \"type\": \"bar\", \"x\": [\"710.6 -> 465.4\"], \"xaxis\": \"x\", \"y\": [34708.20263671875], \"yaxis\": \"y\"}, {\"alignmentgroup\": \"True\", \"customdata\": [[\"[TG(40:0)]_FA14:0\", \"TAG\"]], \"hovertemplate\": \"Lipid=%{customdata[0]}<br>Transition=%{x}<br>Intensity=%{y}<br>Class=%{customdata[1]}<extra></extra>\", \"legendgroup\": \"[TG(40:0)]_FA14:0\", \"marker\": {\"color\": \"#B6E880\"}, \"name\": \"[TG(40:0)]_FA14:0\", \"offsetgroup\": \"[TG(40:0)]_FA14:0\", \"orientation\": \"v\", \"showlegend\": true, \"textposition\": \"auto\", \"type\": \"bar\", \"x\": [\"712.6 -> 467.4\"], \"xaxis\": \"x\", \"y\": [155327.89086914062], \"yaxis\": \"y\"}, {\"alignmentgroup\": \"True\", \"customdata\": [[\"[TG(41:2)]_FA14:0\", \"TAG\"]], \"hovertemplate\": \"Lipid=%{customdata[0]}<br>Transition=%{x}<br>Intensity=%{y}<br>Class=%{customdata[1]}<extra></extra>\", \"legendgroup\": \"[TG(41:2)]_FA14:0\", \"marker\": {\"color\": \"#FF97FF\"}, \"name\": \"[TG(41:2)]_FA14:0\", \"offsetgroup\": \"[TG(41:2)]_FA14:0\", \"orientation\": \"v\", \"showlegend\": true, \"textposition\": \"auto\", \"type\": \"bar\", \"x\": [\"722.6 -> 477.4\"], \"xaxis\": \"x\", \"y\": [20373.861602783203], \"yaxis\": \"y\"}, {\"alignmentgroup\": \"True\", \"customdata\": [[\"[TG(41:1)]_FA14:0\", \"TAG\"]], \"hovertemplate\": \"Lipid=%{customdata[0]}<br>Transition=%{x}<br>Intensity=%{y}<br>Class=%{customdata[1]}<extra></extra>\", \"legendgroup\": \"[TG(41:1)]_FA14:0\", \"marker\": {\"color\": \"#FECB52\"}, \"name\": \"[TG(41:1)]_FA14:0\", \"offsetgroup\": \"[TG(41:1)]_FA14:0\", \"orientation\": \"v\", \"showlegend\": true, \"textposition\": \"auto\", \"type\": \"bar\", \"x\": [\"724.6 -> 479.4\"], \"xaxis\": \"x\", \"y\": [19893.661392211914], \"yaxis\": \"y\"}, {\"alignmentgroup\": \"True\", \"customdata\": [[\"[TG(41:0)]_FA14:0\", \"TAG\"]], \"hovertemplate\": \"Lipid=%{customdata[0]}<br>Transition=%{x}<br>Intensity=%{y}<br>Class=%{customdata[1]}<extra></extra>\", \"legendgroup\": \"[TG(41:0)]_FA14:0\", \"marker\": {\"color\": \"#636efa\"}, \"name\": \"[TG(41:0)]_FA14:0\", \"offsetgroup\": \"[TG(41:0)]_FA14:0\", \"orientation\": \"v\", \"showlegend\": true, \"textposition\": \"auto\", \"type\": \"bar\", \"x\": [\"726.7 -> 481.5\"], \"xaxis\": \"x\", \"y\": [26466.401824951172], \"yaxis\": \"y\"}, {\"alignmentgroup\": \"True\", \"customdata\": [[\"[TG(42:4)]_FA14:0\", \"TAG\"]], \"hovertemplate\": \"Lipid=%{customdata[0]}<br>Transition=%{x}<br>Intensity=%{y}<br>Class=%{customdata[1]}<extra></extra>\", \"legendgroup\": \"[TG(42:4)]_FA14:0\", \"marker\": {\"color\": \"#EF553B\"}, \"name\": \"[TG(42:4)]_FA14:0\", \"offsetgroup\": \"[TG(42:4)]_FA14:0\", \"orientation\": \"v\", \"showlegend\": true, \"textposition\": \"auto\", \"type\": \"bar\", \"x\": [\"732.6 -> 487.4\"], \"xaxis\": \"x\", \"y\": [15374.68115234375], \"yaxis\": \"y\"}, {\"alignmentgroup\": \"True\", \"customdata\": [[\"[TG(42:3)]_FA14:0\", \"TAG\"]], \"hovertemplate\": \"Lipid=%{customdata[0]}<br>Transition=%{x}<br>Intensity=%{y}<br>Class=%{customdata[1]}<extra></extra>\", \"legendgroup\": \"[TG(42:3)]_FA14:0\", \"marker\": {\"color\": \"#00cc96\"}, \"name\": \"[TG(42:3)]_FA14:0\", \"offsetgroup\": \"[TG(42:3)]_FA14:0\", \"orientation\": \"v\", \"showlegend\": true, \"textposition\": \"auto\", \"type\": \"bar\", \"x\": [\"734.6 -> 489.4\"], \"xaxis\": \"x\", \"y\": [19889.30142211914], \"yaxis\": \"y\"}, {\"alignmentgroup\": \"True\", \"customdata\": [[\"[TG(42:2)]_FA14:0\", \"TAG\"]], \"hovertemplate\": \"Lipid=%{customdata[0]}<br>Transition=%{x}<br>Intensity=%{y}<br>Class=%{customdata[1]}<extra></extra>\", \"legendgroup\": \"[TG(42:2)]_FA14:0\", \"marker\": {\"color\": \"#ab63fa\"}, \"name\": \"[TG(42:2)]_FA14:0\", \"offsetgroup\": \"[TG(42:2)]_FA14:0\", \"orientation\": \"v\", \"showlegend\": true, \"textposition\": \"auto\", \"type\": \"bar\", \"x\": [\"736.6 -> 491.4\"], \"xaxis\": \"x\", \"y\": [17753.80108642578], \"yaxis\": \"y\"}, {\"alignmentgroup\": \"True\", \"customdata\": [[\"[TG(42:1)]_FA14:0\", \"TAG\"]], \"hovertemplate\": \"Lipid=%{customdata[0]}<br>Transition=%{x}<br>Intensity=%{y}<br>Class=%{customdata[1]}<extra></extra>\", \"legendgroup\": \"[TG(42:1)]_FA14:0\", \"marker\": {\"color\": \"#FFA15A\"}, \"name\": \"[TG(42:1)]_FA14:0\", \"offsetgroup\": \"[TG(42:1)]_FA14:0\", \"orientation\": \"v\", \"showlegend\": true, \"textposition\": \"auto\", \"type\": \"bar\", \"x\": [\"738.7 -> 493.5\"], \"xaxis\": \"x\", \"y\": [131865.6494140625], \"yaxis\": \"y\"}, {\"alignmentgroup\": \"True\", \"customdata\": [[\"[TG(42:0)]_FA14:0\", \"TAG\"]], \"hovertemplate\": \"Lipid=%{customdata[0]}<br>Transition=%{x}<br>Intensity=%{y}<br>Class=%{customdata[1]}<extra></extra>\", \"legendgroup\": \"[TG(42:0)]_FA14:0\", \"marker\": {\"color\": \"#19d3f3\"}, \"name\": \"[TG(42:0)]_FA14:0\", \"offsetgroup\": \"[TG(42:0)]_FA14:0\", \"orientation\": \"v\", \"showlegend\": true, \"textposition\": \"auto\", \"type\": \"bar\", \"x\": [\"740.7 -> 495.5\"], \"xaxis\": \"x\", \"y\": [94824.94689941406], \"yaxis\": \"y\"}, {\"alignmentgroup\": \"True\", \"customdata\": [[\"[TG(43:4)]_FA14:0\", \"TAG\"]], \"hovertemplate\": \"Lipid=%{customdata[0]}<br>Transition=%{x}<br>Intensity=%{y}<br>Class=%{customdata[1]}<extra></extra>\", \"legendgroup\": \"[TG(43:4)]_FA14:0\", \"marker\": {\"color\": \"#FF6692\"}, \"name\": \"[TG(43:4)]_FA14:0\", \"offsetgroup\": \"[TG(43:4)]_FA14:0\", \"orientation\": \"v\", \"showlegend\": true, \"textposition\": \"auto\", \"type\": \"bar\", \"x\": [\"746.6 -> 501.4\"], \"xaxis\": \"x\", \"y\": [16791.481231689453], \"yaxis\": \"y\"}, {\"alignmentgroup\": \"True\", \"customdata\": [[\"[TG(43:3)]_FA14:0\", \"TAG\"]], \"hovertemplate\": \"Lipid=%{customdata[0]}<br>Transition=%{x}<br>Intensity=%{y}<br>Class=%{customdata[1]}<extra></extra>\", \"legendgroup\": \"[TG(43:3)]_FA14:0\", \"marker\": {\"color\": \"#B6E880\"}, \"name\": \"[TG(43:3)]_FA14:0\", \"offsetgroup\": \"[TG(43:3)]_FA14:0\", \"orientation\": \"v\", \"showlegend\": true, \"textposition\": \"auto\", \"type\": \"bar\", \"x\": [\"748.6 -> 503.4\"], \"xaxis\": \"x\", \"y\": [63030.504150390625], \"yaxis\": \"y\"}, {\"alignmentgroup\": \"True\", \"customdata\": [[\"[TG(43:2)]_FA14:0\", \"TAG\"]], \"hovertemplate\": \"Lipid=%{customdata[0]}<br>Transition=%{x}<br>Intensity=%{y}<br>Class=%{customdata[1]}<extra></extra>\", \"legendgroup\": \"[TG(43:2)]_FA14:0\", \"marker\": {\"color\": \"#FF97FF\"}, \"name\": \"[TG(43:2)]_FA14:0\", \"offsetgroup\": \"[TG(43:2)]_FA14:0\", \"orientation\": \"v\", \"showlegend\": true, \"textposition\": \"auto\", \"type\": \"bar\", \"x\": [\"750.7 -> 505.5\"], \"xaxis\": \"x\", \"y\": [26622.84196472168], \"yaxis\": \"y\"}, {\"alignmentgroup\": \"True\", \"customdata\": [[\"[TG(43:1)]_FA14:0\", \"TAG\"]], \"hovertemplate\": \"Lipid=%{customdata[0]}<br>Transition=%{x}<br>Intensity=%{y}<br>Class=%{customdata[1]}<extra></extra>\", \"legendgroup\": \"[TG(43:1)]_FA14:0\", \"marker\": {\"color\": \"#FECB52\"}, \"name\": \"[TG(43:1)]_FA14:0\", \"offsetgroup\": \"[TG(43:1)]_FA14:0\", \"orientation\": \"v\", \"showlegend\": true, \"textposition\": \"auto\", \"type\": \"bar\", \"x\": [\"752.7 -> 507.5\"], \"xaxis\": \"x\", \"y\": [28583.40203857422], \"yaxis\": \"y\"}, {\"alignmentgroup\": \"True\", \"customdata\": [[\"[TG(43:0)]_FA14:0\", \"TAG\"]], \"hovertemplate\": \"Lipid=%{customdata[0]}<br>Transition=%{x}<br>Intensity=%{y}<br>Class=%{customdata[1]}<extra></extra>\", \"legendgroup\": \"[TG(43:0)]_FA14:0\", \"marker\": {\"color\": \"#636efa\"}, \"name\": \"[TG(43:0)]_FA14:0\", \"offsetgroup\": \"[TG(43:0)]_FA14:0\", \"orientation\": \"v\", \"showlegend\": true, \"textposition\": \"auto\", \"type\": \"bar\", \"x\": [\"754.7 -> 509.5\"], \"xaxis\": \"x\", \"y\": [29018.08203125], \"yaxis\": \"y\"}, {\"alignmentgroup\": \"True\", \"customdata\": [[\"[TG(44:5)]_FA14:0\", \"TAG\"]], \"hovertemplate\": \"Lipid=%{customdata[0]}<br>Transition=%{x}<br>Intensity=%{y}<br>Class=%{customdata[1]}<extra></extra>\", \"legendgroup\": \"[TG(44:5)]_FA14:0\", \"marker\": {\"color\": \"#EF553B\"}, \"name\": \"[TG(44:5)]_FA14:0\", \"offsetgroup\": \"[TG(44:5)]_FA14:0\", \"orientation\": \"v\", \"showlegend\": true, \"textposition\": \"auto\", \"type\": \"bar\", \"x\": [\"758.6 -> 513.4\"], \"xaxis\": \"x\", \"y\": [17620.081260681152], \"yaxis\": \"y\"}, {\"alignmentgroup\": \"True\", \"customdata\": [[\"[TG(44:4)]_FA14:0\", \"TAG\"]], \"hovertemplate\": \"Lipid=%{customdata[0]}<br>Transition=%{x}<br>Intensity=%{y}<br>Class=%{customdata[1]}<extra></extra>\", \"legendgroup\": \"[TG(44:4)]_FA14:0\", \"marker\": {\"color\": \"#00cc96\"}, \"name\": \"[TG(44:4)]_FA14:0\", \"offsetgroup\": \"[TG(44:4)]_FA14:0\", \"orientation\": \"v\", \"showlegend\": true, \"textposition\": \"auto\", \"type\": \"bar\", \"x\": [\"760.6 -> 515.4\"], \"xaxis\": \"x\", \"y\": [15765.661041259766], \"yaxis\": \"y\"}, {\"alignmentgroup\": \"True\", \"customdata\": [[\"[TG(44:3)]_FA14:0\", \"TAG\"]], \"hovertemplate\": \"Lipid=%{customdata[0]}<br>Transition=%{x}<br>Intensity=%{y}<br>Class=%{customdata[1]}<extra></extra>\", \"legendgroup\": \"[TG(44:3)]_FA14:0\", \"marker\": {\"color\": \"#ab63fa\"}, \"name\": \"[TG(44:3)]_FA14:0\", \"offsetgroup\": \"[TG(44:3)]_FA14:0\", \"orientation\": \"v\", \"showlegend\": true, \"textposition\": \"auto\", \"type\": \"bar\", \"x\": [\"762.7 -> 517.5\"], \"xaxis\": \"x\", \"y\": [18071.14141845703], \"yaxis\": \"y\"}, {\"alignmentgroup\": \"True\", \"customdata\": [[\"[TG(44:2)]_FA14:0\", \"TAG\"]], \"hovertemplate\": \"Lipid=%{customdata[0]}<br>Transition=%{x}<br>Intensity=%{y}<br>Class=%{customdata[1]}<extra></extra>\", \"legendgroup\": \"[TG(44:2)]_FA14:0\", \"marker\": {\"color\": \"#FFA15A\"}, \"name\": \"[TG(44:2)]_FA14:0\", \"offsetgroup\": \"[TG(44:2)]_FA14:0\", \"orientation\": \"v\", \"showlegend\": true, \"textposition\": \"auto\", \"type\": \"bar\", \"x\": [\"764.7 -> 519.5\"], \"xaxis\": \"x\", \"y\": [39169.32312011719], \"yaxis\": \"y\"}, {\"alignmentgroup\": \"True\", \"customdata\": [[\"[TG(44:1)]_FA14:0\", \"TAG\"]], \"hovertemplate\": \"Lipid=%{customdata[0]}<br>Transition=%{x}<br>Intensity=%{y}<br>Class=%{customdata[1]}<extra></extra>\", \"legendgroup\": \"[TG(44:1)]_FA14:0\", \"marker\": {\"color\": \"#19d3f3\"}, \"name\": \"[TG(44:1)]_FA14:0\", \"offsetgroup\": \"[TG(44:1)]_FA14:0\", \"orientation\": \"v\", \"showlegend\": true, \"textposition\": \"auto\", \"type\": \"bar\", \"x\": [\"766.7 -> 521.5\"], \"xaxis\": \"x\", \"y\": [31882.602020263672], \"yaxis\": \"y\"}, {\"alignmentgroup\": \"True\", \"customdata\": [[\"[TG(44:0),TG(O-45:0)]_FA14:0\", \"TAG\"]], \"hovertemplate\": \"Lipid=%{customdata[0]}<br>Transition=%{x}<br>Intensity=%{y}<br>Class=%{customdata[1]}<extra></extra>\", \"legendgroup\": \"[TG(44:0),TG(O-45:0)]_FA14:0\", \"marker\": {\"color\": \"#FF6692\"}, \"name\": \"[TG(44:0),TG(O-45:0)]_FA14:0\", \"offsetgroup\": \"[TG(44:0),TG(O-45:0)]_FA14:0\", \"orientation\": \"v\", \"showlegend\": true, \"textposition\": \"auto\", \"type\": \"bar\", \"x\": [\"768.7 -> 523.5\"], \"xaxis\": \"x\", \"y\": [72722.04577636719], \"yaxis\": \"y\"}, {\"alignmentgroup\": \"True\", \"customdata\": [[\"[TG(45:5)]_FA14:0\", \"TAG\"]], \"hovertemplate\": \"Lipid=%{customdata[0]}<br>Transition=%{x}<br>Intensity=%{y}<br>Class=%{customdata[1]}<extra></extra>\", \"legendgroup\": \"[TG(45:5)]_FA14:0\", \"marker\": {\"color\": \"#B6E880\"}, \"name\": \"[TG(45:5)]_FA14:0\", \"offsetgroup\": \"[TG(45:5)]_FA14:0\", \"orientation\": \"v\", \"showlegend\": true, \"textposition\": \"auto\", \"type\": \"bar\", \"x\": [\"772.6 -> 527.4\"], \"xaxis\": \"x\", \"y\": [18579.66111755371], \"yaxis\": \"y\"}, {\"alignmentgroup\": \"True\", \"customdata\": [[\"[TG(45:4)]_FA14:0\", \"TAG\"]], \"hovertemplate\": \"Lipid=%{customdata[0]}<br>Transition=%{x}<br>Intensity=%{y}<br>Class=%{customdata[1]}<extra></extra>\", \"legendgroup\": \"[TG(45:4)]_FA14:0\", \"marker\": {\"color\": \"#FF97FF\"}, \"name\": \"[TG(45:4)]_FA14:0\", \"offsetgroup\": \"[TG(45:4)]_FA14:0\", \"orientation\": \"v\", \"showlegend\": true, \"textposition\": \"auto\", \"type\": \"bar\", \"x\": [\"774.7 -> 529.5\"], \"xaxis\": \"x\", \"y\": [21398.161346435547], \"yaxis\": \"y\"}, {\"alignmentgroup\": \"True\", \"customdata\": [[\"[TG(45:3)]_FA14:0\", \"TAG\"]], \"hovertemplate\": \"Lipid=%{customdata[0]}<br>Transition=%{x}<br>Intensity=%{y}<br>Class=%{customdata[1]}<extra></extra>\", \"legendgroup\": \"[TG(45:3)]_FA14:0\", \"marker\": {\"color\": \"#FECB52\"}, \"name\": \"[TG(45:3)]_FA14:0\", \"offsetgroup\": \"[TG(45:3)]_FA14:0\", \"orientation\": \"v\", \"showlegend\": true, \"textposition\": \"auto\", \"type\": \"bar\", \"x\": [\"776.7 -> 531.5\"], \"xaxis\": \"x\", \"y\": [18318.621307373047], \"yaxis\": \"y\"}, {\"alignmentgroup\": \"True\", \"customdata\": [[\"[TG(45:2)]_FA14:0\", \"TAG\"]], \"hovertemplate\": \"Lipid=%{customdata[0]}<br>Transition=%{x}<br>Intensity=%{y}<br>Class=%{customdata[1]}<extra></extra>\", \"legendgroup\": \"[TG(45:2)]_FA14:0\", \"marker\": {\"color\": \"#636efa\"}, \"name\": \"[TG(45:2)]_FA14:0\", \"offsetgroup\": \"[TG(45:2)]_FA14:0\", \"orientation\": \"v\", \"showlegend\": true, \"textposition\": \"auto\", \"type\": \"bar\", \"x\": [\"778.7 -> 533.5\"], \"xaxis\": \"x\", \"y\": [16532.841232299805], \"yaxis\": \"y\"}, {\"alignmentgroup\": \"True\", \"customdata\": [[\"[TG(45:1)]_FA14:0\", \"TAG\"]], \"hovertemplate\": \"Lipid=%{customdata[0]}<br>Transition=%{x}<br>Intensity=%{y}<br>Class=%{customdata[1]}<extra></extra>\", \"legendgroup\": \"[TG(45:1)]_FA14:0\", \"marker\": {\"color\": \"#EF553B\"}, \"name\": \"[TG(45:1)]_FA14:0\", \"offsetgroup\": \"[TG(45:1)]_FA14:0\", \"orientation\": \"v\", \"showlegend\": true, \"textposition\": \"auto\", \"type\": \"bar\", \"x\": [\"780.7 -> 535.5\"], \"xaxis\": \"x\", \"y\": [70729.62463378906], \"yaxis\": \"y\"}, {\"alignmentgroup\": \"True\", \"customdata\": [[\"[TG(45:0)]_FA14:0\", \"TAG\"]], \"hovertemplate\": \"Lipid=%{customdata[0]}<br>Transition=%{x}<br>Intensity=%{y}<br>Class=%{customdata[1]}<extra></extra>\", \"legendgroup\": \"[TG(45:0)]_FA14:0\", \"marker\": {\"color\": \"#00cc96\"}, \"name\": \"[TG(45:0)]_FA14:0\", \"offsetgroup\": \"[TG(45:0)]_FA14:0\", \"orientation\": \"v\", \"showlegend\": true, \"textposition\": \"auto\", \"type\": \"bar\", \"x\": [\"782.7 -> 537.5\"], \"xaxis\": \"x\", \"y\": [46782.86340332031], \"yaxis\": \"y\"}, {\"alignmentgroup\": \"True\", \"customdata\": [[\"[TG(46:6)]_FA14:0\", \"TAG\"]], \"hovertemplate\": \"Lipid=%{customdata[0]}<br>Transition=%{x}<br>Intensity=%{y}<br>Class=%{customdata[1]}<extra></extra>\", \"legendgroup\": \"[TG(46:6)]_FA14:0\", \"marker\": {\"color\": \"#ab63fa\"}, \"name\": \"[TG(46:6)]_FA14:0\", \"offsetgroup\": \"[TG(46:6)]_FA14:0\", \"orientation\": \"v\", \"showlegend\": true, \"textposition\": \"auto\", \"type\": \"bar\", \"x\": [\"784.6 -> 539.4\"], \"xaxis\": \"x\", \"y\": [20436.341217041016], \"yaxis\": \"y\"}, {\"alignmentgroup\": \"True\", \"customdata\": [[\"[TG(46:5)]_FA14:0\", \"TAG\"]], \"hovertemplate\": \"Lipid=%{customdata[0]}<br>Transition=%{x}<br>Intensity=%{y}<br>Class=%{customdata[1]}<extra></extra>\", \"legendgroup\": \"[TG(46:5)]_FA14:0\", \"marker\": {\"color\": \"#FFA15A\"}, \"name\": \"[TG(46:5)]_FA14:0\", \"offsetgroup\": \"[TG(46:5)]_FA14:0\", \"orientation\": \"v\", \"showlegend\": true, \"textposition\": \"auto\", \"type\": \"bar\", \"x\": [\"786.7 -> 541.5\"], \"xaxis\": \"x\", \"y\": [20286.141387939453], \"yaxis\": \"y\"}, {\"alignmentgroup\": \"True\", \"customdata\": [[\"[TG(46:4)]_FA14:0\", \"TAG\"]], \"hovertemplate\": \"Lipid=%{customdata[0]}<br>Transition=%{x}<br>Intensity=%{y}<br>Class=%{customdata[1]}<extra></extra>\", \"legendgroup\": \"[TG(46:4)]_FA14:0\", \"marker\": {\"color\": \"#19d3f3\"}, \"name\": \"[TG(46:4)]_FA14:0\", \"offsetgroup\": \"[TG(46:4)]_FA14:0\", \"orientation\": \"v\", \"showlegend\": true, \"textposition\": \"auto\", \"type\": \"bar\", \"x\": [\"788.7 -> 543.5\"], \"xaxis\": \"x\", \"y\": [18562.861236572266], \"yaxis\": \"y\"}, {\"alignmentgroup\": \"True\", \"customdata\": [[\"[TG(46:3)]_FA14:0\", \"TAG\"]], \"hovertemplate\": \"Lipid=%{customdata[0]}<br>Transition=%{x}<br>Intensity=%{y}<br>Class=%{customdata[1]}<extra></extra>\", \"legendgroup\": \"[TG(46:3)]_FA14:0\", \"marker\": {\"color\": \"#FF6692\"}, \"name\": \"[TG(46:3)]_FA14:0\", \"offsetgroup\": \"[TG(46:3)]_FA14:0\", \"orientation\": \"v\", \"showlegend\": true, \"textposition\": \"auto\", \"type\": \"bar\", \"x\": [\"790.7 -> 545.5\"], \"xaxis\": \"x\", \"y\": [20631.881439208984], \"yaxis\": \"y\"}, {\"alignmentgroup\": \"True\", \"customdata\": [[\"[TG(46:2)]_FA14:0\", \"TAG\"]], \"hovertemplate\": \"Lipid=%{customdata[0]}<br>Transition=%{x}<br>Intensity=%{y}<br>Class=%{customdata[1]}<extra></extra>\", \"legendgroup\": \"[TG(46:2)]_FA14:0\", \"marker\": {\"color\": \"#B6E880\"}, \"name\": \"[TG(46:2)]_FA14:0\", \"offsetgroup\": \"[TG(46:2)]_FA14:0\", \"orientation\": \"v\", \"showlegend\": true, \"textposition\": \"auto\", \"type\": \"bar\", \"x\": [\"792.7 -> 547.5\"], \"xaxis\": \"x\", \"y\": [44036.763610839844], \"yaxis\": \"y\"}, {\"alignmentgroup\": \"True\", \"customdata\": [[\"[TG(46:1)]_FA14:0\", \"TAG\"]], \"hovertemplate\": \"Lipid=%{customdata[0]}<br>Transition=%{x}<br>Intensity=%{y}<br>Class=%{customdata[1]}<extra></extra>\", \"legendgroup\": \"[TG(46:1)]_FA14:0\", \"marker\": {\"color\": \"#FF97FF\"}, \"name\": \"[TG(46:1)]_FA14:0\", \"offsetgroup\": \"[TG(46:1)]_FA14:0\", \"orientation\": \"v\", \"showlegend\": true, \"textposition\": \"auto\", \"type\": \"bar\", \"x\": [\"794.7 -> 549.5\"], \"xaxis\": \"x\", \"y\": [68736.06512451172], \"yaxis\": \"y\"}, {\"alignmentgroup\": \"True\", \"customdata\": [[\"[TG(46:0)]_FA14:0\", \"TAG\"]], \"hovertemplate\": \"Lipid=%{customdata[0]}<br>Transition=%{x}<br>Intensity=%{y}<br>Class=%{customdata[1]}<extra></extra>\", \"legendgroup\": \"[TG(46:0)]_FA14:0\", \"marker\": {\"color\": \"#FECB52\"}, \"name\": \"[TG(46:0)]_FA14:0\", \"offsetgroup\": \"[TG(46:0)]_FA14:0\", \"orientation\": \"v\", \"showlegend\": true, \"textposition\": \"auto\", \"type\": \"bar\", \"x\": [\"796.7 -> 551.5\"], \"xaxis\": \"x\", \"y\": [84029.40625], \"yaxis\": \"y\"}, {\"alignmentgroup\": \"True\", \"customdata\": [[\"[TG(47:6)]_FA14:0\", \"TAG\"]], \"hovertemplate\": \"Lipid=%{customdata[0]}<br>Transition=%{x}<br>Intensity=%{y}<br>Class=%{customdata[1]}<extra></extra>\", \"legendgroup\": \"[TG(47:6)]_FA14:0\", \"marker\": {\"color\": \"#636efa\"}, \"name\": \"[TG(47:6)]_FA14:0\", \"offsetgroup\": \"[TG(47:6)]_FA14:0\", \"orientation\": \"v\", \"showlegend\": true, \"textposition\": \"auto\", \"type\": \"bar\", \"x\": [\"798.7 -> 553.5\"], \"xaxis\": \"x\", \"y\": [26131.921813964844], \"yaxis\": \"y\"}, {\"alignmentgroup\": \"True\", \"customdata\": [[\"[TG(47:5)]_FA14:0\", \"TAG\"]], \"hovertemplate\": \"Lipid=%{customdata[0]}<br>Transition=%{x}<br>Intensity=%{y}<br>Class=%{customdata[1]}<extra></extra>\", \"legendgroup\": \"[TG(47:5)]_FA14:0\", \"marker\": {\"color\": \"#EF553B\"}, \"name\": \"[TG(47:5)]_FA14:0\", \"offsetgroup\": \"[TG(47:5)]_FA14:0\", \"orientation\": \"v\", \"showlegend\": true, \"textposition\": \"auto\", \"type\": \"bar\", \"x\": [\"800.7 -> 555.5\"], \"xaxis\": \"x\", \"y\": [20985.38151550293], \"yaxis\": \"y\"}, {\"alignmentgroup\": \"True\", \"customdata\": [[\"[TG(47:4)]_FA14:0\", \"TAG\"]], \"hovertemplate\": \"Lipid=%{customdata[0]}<br>Transition=%{x}<br>Intensity=%{y}<br>Class=%{customdata[1]}<extra></extra>\", \"legendgroup\": \"[TG(47:4)]_FA14:0\", \"marker\": {\"color\": \"#00cc96\"}, \"name\": \"[TG(47:4)]_FA14:0\", \"offsetgroup\": \"[TG(47:4)]_FA14:0\", \"orientation\": \"v\", \"showlegend\": true, \"textposition\": \"auto\", \"type\": \"bar\", \"x\": [\"802.7 -> 557.5\"], \"xaxis\": \"x\", \"y\": [18959.501403808594], \"yaxis\": \"y\"}, {\"alignmentgroup\": \"True\", \"customdata\": [[\"[TG(47:3)]_FA14:0\", \"TAG\"]], \"hovertemplate\": \"Lipid=%{customdata[0]}<br>Transition=%{x}<br>Intensity=%{y}<br>Class=%{customdata[1]}<extra></extra>\", \"legendgroup\": \"[TG(47:3)]_FA14:0\", \"marker\": {\"color\": \"#ab63fa\"}, \"name\": \"[TG(47:3)]_FA14:0\", \"offsetgroup\": \"[TG(47:3)]_FA14:0\", \"orientation\": \"v\", \"showlegend\": true, \"textposition\": \"auto\", \"type\": \"bar\", \"x\": [\"804.7 -> 559.5\"], \"xaxis\": \"x\", \"y\": [21987.14175415039], \"yaxis\": \"y\"}, {\"alignmentgroup\": \"True\", \"customdata\": [[\"[TG(47:2)]_FA14:0\", \"TAG\"]], \"hovertemplate\": \"Lipid=%{customdata[0]}<br>Transition=%{x}<br>Intensity=%{y}<br>Class=%{customdata[1]}<extra></extra>\", \"legendgroup\": \"[TG(47:2)]_FA14:0\", \"marker\": {\"color\": \"#FFA15A\"}, \"name\": \"[TG(47:2)]_FA14:0\", \"offsetgroup\": \"[TG(47:2)]_FA14:0\", \"orientation\": \"v\", \"showlegend\": true, \"textposition\": \"auto\", \"type\": \"bar\", \"x\": [\"806.7 -> 561.5\"], \"xaxis\": \"x\", \"y\": [24136.061737060547], \"yaxis\": \"y\"}, {\"alignmentgroup\": \"True\", \"customdata\": [[\"[TG(48:8),TG(47:1)]_FA14:0\", \"TAG\"]], \"hovertemplate\": \"Lipid=%{customdata[0]}<br>Transition=%{x}<br>Intensity=%{y}<br>Class=%{customdata[1]}<extra></extra>\", \"legendgroup\": \"[TG(48:8),TG(47:1)]_FA14:0\", \"marker\": {\"color\": \"#19d3f3\"}, \"name\": \"[TG(48:8),TG(47:1)]_FA14:0\", \"offsetgroup\": \"[TG(48:8),TG(47:1)]_FA14:0\", \"orientation\": \"v\", \"showlegend\": true, \"textposition\": \"auto\", \"type\": \"bar\", \"x\": [\"808.7 -> 563.5\"], \"xaxis\": \"x\", \"y\": [31395.762451171875], \"yaxis\": \"y\"}, {\"alignmentgroup\": \"True\", \"customdata\": [[\"[TG(48:7),TG(47:0)]_FA14:0\", \"TAG\"]], \"hovertemplate\": \"Lipid=%{customdata[0]}<br>Transition=%{x}<br>Intensity=%{y}<br>Class=%{customdata[1]}<extra></extra>\", \"legendgroup\": \"[TG(48:7),TG(47:0)]_FA14:0\", \"marker\": {\"color\": \"#FF6692\"}, \"name\": \"[TG(48:7),TG(47:0)]_FA14:0\", \"offsetgroup\": \"[TG(48:7),TG(47:0)]_FA14:0\", \"orientation\": \"v\", \"showlegend\": true, \"textposition\": \"auto\", \"type\": \"bar\", \"x\": [\"810.8 -> 565.6\"], \"xaxis\": \"x\", \"y\": [35014.362396240234], \"yaxis\": \"y\"}, {\"alignmentgroup\": \"True\", \"customdata\": [[\"[TG(48:6)]_FA14:0\", \"TAG\"]], \"hovertemplate\": \"Lipid=%{customdata[0]}<br>Transition=%{x}<br>Intensity=%{y}<br>Class=%{customdata[1]}<extra></extra>\", \"legendgroup\": \"[TG(48:6)]_FA14:0\", \"marker\": {\"color\": \"#B6E880\"}, \"name\": \"[TG(48:6)]_FA14:0\", \"offsetgroup\": \"[TG(48:6)]_FA14:0\", \"orientation\": \"v\", \"showlegend\": true, \"textposition\": \"auto\", \"type\": \"bar\", \"x\": [\"812.7 -> 567.5\"], \"xaxis\": \"x\", \"y\": [51366.403381347656], \"yaxis\": \"y\"}, {\"alignmentgroup\": \"True\", \"customdata\": [[\"[TG(48:5)]_FA14:0\", \"TAG\"]], \"hovertemplate\": \"Lipid=%{customdata[0]}<br>Transition=%{x}<br>Intensity=%{y}<br>Class=%{customdata[1]}<extra></extra>\", \"legendgroup\": \"[TG(48:5)]_FA14:0\", \"marker\": {\"color\": \"#FF97FF\"}, \"name\": \"[TG(48:5)]_FA14:0\", \"offsetgroup\": \"[TG(48:5)]_FA14:0\", \"orientation\": \"v\", \"showlegend\": true, \"textposition\": \"auto\", \"type\": \"bar\", \"x\": [\"814.7 -> 569.5\"], \"xaxis\": \"x\", \"y\": [25303.261779785156], \"yaxis\": \"y\"}, {\"alignmentgroup\": \"True\", \"customdata\": [[\"[TG(48:4)]_FA14:0\", \"TAG\"]], \"hovertemplate\": \"Lipid=%{customdata[0]}<br>Transition=%{x}<br>Intensity=%{y}<br>Class=%{customdata[1]}<extra></extra>\", \"legendgroup\": \"[TG(48:4)]_FA14:0\", \"marker\": {\"color\": \"#FECB52\"}, \"name\": \"[TG(48:4)]_FA14:0\", \"offsetgroup\": \"[TG(48:4)]_FA14:0\", \"orientation\": \"v\", \"showlegend\": true, \"textposition\": \"auto\", \"type\": \"bar\", \"x\": [\"816.7 -> 571.5\"], \"xaxis\": \"x\", \"y\": [23539.601623535156], \"yaxis\": \"y\"}, {\"alignmentgroup\": \"True\", \"customdata\": [[\"[TG(48:3)]_FA14:0\", \"TAG\"]], \"hovertemplate\": \"Lipid=%{customdata[0]}<br>Transition=%{x}<br>Intensity=%{y}<br>Class=%{customdata[1]}<extra></extra>\", \"legendgroup\": \"[TG(48:3)]_FA14:0\", \"marker\": {\"color\": \"#636efa\"}, \"name\": \"[TG(48:3)]_FA14:0\", \"offsetgroup\": \"[TG(48:3)]_FA14:0\", \"orientation\": \"v\", \"showlegend\": true, \"textposition\": \"auto\", \"type\": \"bar\", \"x\": [\"818.7 -> 573.5\"], \"xaxis\": \"x\", \"y\": [82808.48538208008], \"yaxis\": \"y\"}, {\"alignmentgroup\": \"True\", \"customdata\": [[\"[TG(48:2)]_FA14:0\", \"TAG\"]], \"hovertemplate\": \"Lipid=%{customdata[0]}<br>Transition=%{x}<br>Intensity=%{y}<br>Class=%{customdata[1]}<extra></extra>\", \"legendgroup\": \"[TG(48:2)]_FA14:0\", \"marker\": {\"color\": \"#EF553B\"}, \"name\": \"[TG(48:2)]_FA14:0\", \"offsetgroup\": \"[TG(48:2)]_FA14:0\", \"orientation\": \"v\", \"showlegend\": true, \"textposition\": \"auto\", \"type\": \"bar\", \"x\": [\"820.7 -> 575.5\"], \"xaxis\": \"x\", \"y\": [286373.7007446289], \"yaxis\": \"y\"}, {\"alignmentgroup\": \"True\", \"customdata\": [[\"[TG(49:8),TG(48:1)]_FA14:0\", \"TAG\"]], \"hovertemplate\": \"Lipid=%{customdata[0]}<br>Transition=%{x}<br>Intensity=%{y}<br>Class=%{customdata[1]}<extra></extra>\", \"legendgroup\": \"[TG(49:8),TG(48:1)]_FA14:0\", \"marker\": {\"color\": \"#00cc96\"}, \"name\": \"[TG(49:8),TG(48:1)]_FA14:0\", \"offsetgroup\": \"[TG(49:8),TG(48:1)]_FA14:0\", \"orientation\": \"v\", \"showlegend\": true, \"textposition\": \"auto\", \"type\": \"bar\", \"x\": [\"822.8 -> 577.6\"], \"xaxis\": \"x\", \"y\": [333579.6123046875], \"yaxis\": \"y\"}, {\"alignmentgroup\": \"True\", \"customdata\": [[\"[TG(49:7),TG(48:0)]_FA14:0\", \"TAG\"]], \"hovertemplate\": \"Lipid=%{customdata[0]}<br>Transition=%{x}<br>Intensity=%{y}<br>Class=%{customdata[1]}<extra></extra>\", \"legendgroup\": \"[TG(49:7),TG(48:0)]_FA14:0\", \"marker\": {\"color\": \"#ab63fa\"}, \"name\": \"[TG(49:7),TG(48:0)]_FA14:0\", \"offsetgroup\": \"[TG(49:7),TG(48:0)]_FA14:0\", \"orientation\": \"v\", \"showlegend\": true, \"textposition\": \"auto\", \"type\": \"bar\", \"x\": [\"824.8 -> 579.6\"], \"xaxis\": \"x\", \"y\": [80859.20629882812], \"yaxis\": \"y\"}, {\"alignmentgroup\": \"True\", \"customdata\": [[\"[TG(49:6)]_FA14:0\", \"TAG\"]], \"hovertemplate\": \"Lipid=%{customdata[0]}<br>Transition=%{x}<br>Intensity=%{y}<br>Class=%{customdata[1]}<extra></extra>\", \"legendgroup\": \"[TG(49:6)]_FA14:0\", \"marker\": {\"color\": \"#FFA15A\"}, \"name\": \"[TG(49:6)]_FA14:0\", \"offsetgroup\": \"[TG(49:6)]_FA14:0\", \"orientation\": \"v\", \"showlegend\": true, \"textposition\": \"auto\", \"type\": \"bar\", \"x\": [\"826.7 -> 581.5\"], \"xaxis\": \"x\", \"y\": [29734.44223022461], \"yaxis\": \"y\"}, {\"alignmentgroup\": \"True\", \"customdata\": [[\"[TG(49:5)]_FA14:0\", \"TAG\"]], \"hovertemplate\": \"Lipid=%{customdata[0]}<br>Transition=%{x}<br>Intensity=%{y}<br>Class=%{customdata[1]}<extra></extra>\", \"legendgroup\": \"[TG(49:5)]_FA14:0\", \"marker\": {\"color\": \"#19d3f3\"}, \"name\": \"[TG(49:5)]_FA14:0\", \"offsetgroup\": \"[TG(49:5)]_FA14:0\", \"orientation\": \"v\", \"showlegend\": true, \"textposition\": \"auto\", \"type\": \"bar\", \"x\": [\"828.7 -> 583.5\"], \"xaxis\": \"x\", \"y\": [22083.261352539062], \"yaxis\": \"y\"}, {\"alignmentgroup\": \"True\", \"customdata\": [[\"STD_15:0-18:1(d7)-15:0 TAG\", \"STD_15:0-18:1(d7)-15:0 TAG\"]], \"hovertemplate\": \"Lipid=%{customdata[0]}<br>Transition=%{x}<br>Intensity=%{y}<br>Class=%{customdata[1]}<extra></extra>\", \"legendgroup\": \"STD_15:0-18:1(d7)-15:0 TAG\", \"marker\": {\"color\": \"#FF6692\"}, \"name\": \"STD_15:0-18:1(d7)-15:0 TAG\", \"offsetgroup\": \"STD_15:0-18:1(d7)-15:0 TAG\", \"orientation\": \"v\", \"showlegend\": true, \"textposition\": \"auto\", \"type\": \"bar\", \"x\": [\"829.8 -> 570.4\"], \"xaxis\": \"x\", \"y\": [33835.302642822266], \"yaxis\": \"y\"}, {\"alignmentgroup\": \"True\", \"customdata\": [[\"[TG(49:4)]_FA14:0\", \"TAG\"]], \"hovertemplate\": \"Lipid=%{customdata[0]}<br>Transition=%{x}<br>Intensity=%{y}<br>Class=%{customdata[1]}<extra></extra>\", \"legendgroup\": \"[TG(49:4)]_FA14:0\", \"marker\": {\"color\": \"#B6E880\"}, \"name\": \"[TG(49:4)]_FA14:0\", \"offsetgroup\": \"[TG(49:4)]_FA14:0\", \"orientation\": \"v\", \"showlegend\": true, \"textposition\": \"auto\", \"type\": \"bar\", \"x\": [\"830.7 -> 585.5\"], \"xaxis\": \"x\", \"y\": [22096.821563720703], \"yaxis\": \"y\"}, {\"alignmentgroup\": \"True\", \"customdata\": [[\"[TG(49:3)]_FA14:0\", \"TAG\"]], \"hovertemplate\": \"Lipid=%{customdata[0]}<br>Transition=%{x}<br>Intensity=%{y}<br>Class=%{customdata[1]}<extra></extra>\", \"legendgroup\": \"[TG(49:3)]_FA14:0\", \"marker\": {\"color\": \"#FF97FF\"}, \"name\": \"[TG(49:3)]_FA14:0\", \"offsetgroup\": \"[TG(49:3)]_FA14:0\", \"orientation\": \"v\", \"showlegend\": true, \"textposition\": \"auto\", \"type\": \"bar\", \"x\": [\"832.7 -> 587.5\"], \"xaxis\": \"x\", \"y\": [26063.061752319336], \"yaxis\": \"y\"}, {\"alignmentgroup\": \"True\", \"customdata\": [[\"[TG(50:9),TG(49:2)]_FA14:0\", \"TAG\"]], \"hovertemplate\": \"Lipid=%{customdata[0]}<br>Transition=%{x}<br>Intensity=%{y}<br>Class=%{customdata[1]}<extra></extra>\", \"legendgroup\": \"[TG(50:9),TG(49:2)]_FA14:0\", \"marker\": {\"color\": \"#FECB52\"}, \"name\": \"[TG(50:9),TG(49:2)]_FA14:0\", \"offsetgroup\": \"[TG(50:9),TG(49:2)]_FA14:0\", \"orientation\": \"v\", \"showlegend\": true, \"textposition\": \"auto\", \"type\": \"bar\", \"x\": [\"834.8 -> 589.6\"], \"xaxis\": \"x\", \"y\": [29320.561981201172], \"yaxis\": \"y\"}, {\"alignmentgroup\": \"True\", \"customdata\": [[\"[TG(50:8),TG(49:1)]_FA14:0\", \"TAG\"]], \"hovertemplate\": \"Lipid=%{customdata[0]}<br>Transition=%{x}<br>Intensity=%{y}<br>Class=%{customdata[1]}<extra></extra>\", \"legendgroup\": \"[TG(50:8),TG(49:1)]_FA14:0\", \"marker\": {\"color\": \"#636efa\"}, \"name\": \"[TG(50:8),TG(49:1)]_FA14:0\", \"offsetgroup\": \"[TG(50:8),TG(49:1)]_FA14:0\", \"orientation\": \"v\", \"showlegend\": true, \"textposition\": \"auto\", \"type\": \"bar\", \"x\": [\"836.8 -> 591.6\"], \"xaxis\": \"x\", \"y\": [37507.4225769043], \"yaxis\": \"y\"}, {\"alignmentgroup\": \"True\", \"customdata\": [[\"[TG(50:7),TG(49:0)]_FA14:0\", \"TAG\"]], \"hovertemplate\": \"Lipid=%{customdata[0]}<br>Transition=%{x}<br>Intensity=%{y}<br>Class=%{customdata[1]}<extra></extra>\", \"legendgroup\": \"[TG(50:7),TG(49:0)]_FA14:0\", \"marker\": {\"color\": \"#EF553B\"}, \"name\": \"[TG(50:7),TG(49:0)]_FA14:0\", \"offsetgroup\": \"[TG(50:7),TG(49:0)]_FA14:0\", \"orientation\": \"v\", \"showlegend\": true, \"textposition\": \"auto\", \"type\": \"bar\", \"x\": [\"838.8 -> 593.6\"], \"xaxis\": \"x\", \"y\": [34488.222259521484], \"yaxis\": \"y\"}, {\"alignmentgroup\": \"True\", \"customdata\": [[\"[TG(50:6)]_FA14:0\", \"TAG\"]], \"hovertemplate\": \"Lipid=%{customdata[0]}<br>Transition=%{x}<br>Intensity=%{y}<br>Class=%{customdata[1]}<extra></extra>\", \"legendgroup\": \"[TG(50:6)]_FA14:0\", \"marker\": {\"color\": \"#00cc96\"}, \"name\": \"[TG(50:6)]_FA14:0\", \"offsetgroup\": \"[TG(50:6)]_FA14:0\", \"orientation\": \"v\", \"showlegend\": true, \"textposition\": \"auto\", \"type\": \"bar\", \"x\": [\"840.7 -> 595.5\"], \"xaxis\": \"x\", \"y\": [29315.282165527344], \"yaxis\": \"y\"}, {\"alignmentgroup\": \"True\", \"customdata\": [[\"[TG(50:5)]_FA14:0\", \"TAG\"]], \"hovertemplate\": \"Lipid=%{customdata[0]}<br>Transition=%{x}<br>Intensity=%{y}<br>Class=%{customdata[1]}<extra></extra>\", \"legendgroup\": \"[TG(50:5)]_FA14:0\", \"marker\": {\"color\": \"#ab63fa\"}, \"name\": \"[TG(50:5)]_FA14:0\", \"offsetgroup\": \"[TG(50:5)]_FA14:0\", \"orientation\": \"v\", \"showlegend\": true, \"textposition\": \"auto\", \"type\": \"bar\", \"x\": [\"842.7 -> 597.5\"], \"xaxis\": \"x\", \"y\": [35932.222259521484], \"yaxis\": \"y\"}, {\"alignmentgroup\": \"True\", \"customdata\": [[\"[TG(50:4)]_FA14:0\", \"TAG\"]], \"hovertemplate\": \"Lipid=%{customdata[0]}<br>Transition=%{x}<br>Intensity=%{y}<br>Class=%{customdata[1]}<extra></extra>\", \"legendgroup\": \"[TG(50:4)]_FA14:0\", \"marker\": {\"color\": \"#FFA15A\"}, \"name\": \"[TG(50:4)]_FA14:0\", \"offsetgroup\": \"[TG(50:4)]_FA14:0\", \"orientation\": \"v\", \"showlegend\": true, \"textposition\": \"auto\", \"type\": \"bar\", \"x\": [\"844.7 -> 599.5\"], \"xaxis\": \"x\", \"y\": [126118.92807006836], \"yaxis\": \"y\"}, {\"alignmentgroup\": \"True\", \"customdata\": [[\"[TG(50:3)]_FA14:0\", \"TAG\"]], \"hovertemplate\": \"Lipid=%{customdata[0]}<br>Transition=%{x}<br>Intensity=%{y}<br>Class=%{customdata[1]}<extra></extra>\", \"legendgroup\": \"[TG(50:3)]_FA14:0\", \"marker\": {\"color\": \"#19d3f3\"}, \"name\": \"[TG(50:3)]_FA14:0\", \"offsetgroup\": \"[TG(50:3)]_FA14:0\", \"orientation\": \"v\", \"showlegend\": true, \"textposition\": \"auto\", \"type\": \"bar\", \"x\": [\"846.8 -> 601.6\"], \"xaxis\": \"x\", \"y\": [432169.33502197266], \"yaxis\": \"y\"}, {\"alignmentgroup\": \"True\", \"customdata\": [[\"[TG(51:9),TG(50:2)]_FA14:0\", \"TAG\"]], \"hovertemplate\": \"Lipid=%{customdata[0]}<br>Transition=%{x}<br>Intensity=%{y}<br>Class=%{customdata[1]}<extra></extra>\", \"legendgroup\": \"[TG(51:9),TG(50:2)]_FA14:0\", \"marker\": {\"color\": \"#FF6692\"}, \"name\": \"[TG(51:9),TG(50:2)]_FA14:0\", \"offsetgroup\": \"[TG(51:9),TG(50:2)]_FA14:0\", \"orientation\": \"v\", \"showlegend\": true, \"textposition\": \"auto\", \"type\": \"bar\", \"x\": [\"848.8 -> 603.6\"], \"xaxis\": \"x\", \"y\": [501185.328125], \"yaxis\": \"y\"}, {\"alignmentgroup\": \"True\", \"customdata\": [[\"[TG(51:8),TG(50:1)]_FA14:0\", \"TAG\"]], \"hovertemplate\": \"Lipid=%{customdata[0]}<br>Transition=%{x}<br>Intensity=%{y}<br>Class=%{customdata[1]}<extra></extra>\", \"legendgroup\": \"[TG(51:8),TG(50:1)]_FA14:0\", \"marker\": {\"color\": \"#B6E880\"}, \"name\": \"[TG(51:8),TG(50:1)]_FA14:0\", \"offsetgroup\": \"[TG(51:8),TG(50:1)]_FA14:0\", \"orientation\": \"v\", \"showlegend\": true, \"textposition\": \"auto\", \"type\": \"bar\", \"x\": [\"850.8 -> 605.6\"], \"xaxis\": \"x\", \"y\": [86953.32531738281], \"yaxis\": \"y\"}, {\"alignmentgroup\": \"True\", \"customdata\": [[\"[TG(51:7),TG(50:0)]_FA14:0\", \"TAG\"]], \"hovertemplate\": \"Lipid=%{customdata[0]}<br>Transition=%{x}<br>Intensity=%{y}<br>Class=%{customdata[1]}<extra></extra>\", \"legendgroup\": \"[TG(51:7),TG(50:0)]_FA14:0\", \"marker\": {\"color\": \"#FF97FF\"}, \"name\": \"[TG(51:7),TG(50:0)]_FA14:0\", \"offsetgroup\": \"[TG(51:7),TG(50:0)]_FA14:0\", \"orientation\": \"v\", \"showlegend\": true, \"textposition\": \"auto\", \"type\": \"bar\", \"x\": [\"852.8 -> 607.6\"], \"xaxis\": \"x\", \"y\": [36228.10238647461], \"yaxis\": \"y\"}, {\"alignmentgroup\": \"True\", \"customdata\": [[\"[TG(51:6)]_FA14:0\", \"TAG\"]], \"hovertemplate\": \"Lipid=%{customdata[0]}<br>Transition=%{x}<br>Intensity=%{y}<br>Class=%{customdata[1]}<extra></extra>\", \"legendgroup\": \"[TG(51:6)]_FA14:0\", \"marker\": {\"color\": \"#FECB52\"}, \"name\": \"[TG(51:6)]_FA14:0\", \"offsetgroup\": \"[TG(51:6)]_FA14:0\", \"orientation\": \"v\", \"showlegend\": true, \"textposition\": \"auto\", \"type\": \"bar\", \"x\": [\"854.7 -> 609.5\"], \"xaxis\": \"x\", \"y\": [49931.743591308594], \"yaxis\": \"y\"}, {\"alignmentgroup\": \"True\", \"customdata\": [[\"[TG(51:5)]_FA14:0\", \"TAG\"]], \"hovertemplate\": \"Lipid=%{customdata[0]}<br>Transition=%{x}<br>Intensity=%{y}<br>Class=%{customdata[1]}<extra></extra>\", \"legendgroup\": \"[TG(51:5)]_FA14:0\", \"marker\": {\"color\": \"#636efa\"}, \"name\": \"[TG(51:5)]_FA14:0\", \"offsetgroup\": \"[TG(51:5)]_FA14:0\", \"orientation\": \"v\", \"showlegend\": true, \"textposition\": \"auto\", \"type\": \"bar\", \"x\": [\"856.7 -> 611.5\"], \"xaxis\": \"x\", \"y\": [23814.681854248047], \"yaxis\": \"y\"}, {\"alignmentgroup\": \"True\", \"customdata\": [[\"[TG(51:4)]_FA14:0\", \"TAG\"]], \"hovertemplate\": \"Lipid=%{customdata[0]}<br>Transition=%{x}<br>Intensity=%{y}<br>Class=%{customdata[1]}<extra></extra>\", \"legendgroup\": \"[TG(51:4)]_FA14:0\", \"marker\": {\"color\": \"#EF553B\"}, \"name\": \"[TG(51:4)]_FA14:0\", \"offsetgroup\": \"[TG(51:4)]_FA14:0\", \"orientation\": \"v\", \"showlegend\": true, \"textposition\": \"auto\", \"type\": \"bar\", \"x\": [\"858.8 -> 613.6\"], \"xaxis\": \"x\", \"y\": [23092.781524658203], \"yaxis\": \"y\"}, {\"alignmentgroup\": \"True\", \"customdata\": [[\"[TG(52:10),TG(51:3)]_FA14:0\", \"TAG\"]], \"hovertemplate\": \"Lipid=%{customdata[0]}<br>Transition=%{x}<br>Intensity=%{y}<br>Class=%{customdata[1]}<extra></extra>\", \"legendgroup\": \"[TG(52:10),TG(51:3)]_FA14:0\", \"marker\": {\"color\": \"#00cc96\"}, \"name\": \"[TG(52:10),TG(51:3)]_FA14:0\", \"offsetgroup\": \"[TG(52:10),TG(51:3)]_FA14:0\", \"orientation\": \"v\", \"showlegend\": true, \"textposition\": \"auto\", \"type\": \"bar\", \"x\": [\"860.8 -> 615.6\"], \"xaxis\": \"x\", \"y\": [28172.081909179688], \"yaxis\": \"y\"}, {\"alignmentgroup\": \"True\", \"customdata\": [[\"[TG(52:9),TG(51:2)]_FA14:0\", \"TAG\"]], \"hovertemplate\": \"Lipid=%{customdata[0]}<br>Transition=%{x}<br>Intensity=%{y}<br>Class=%{customdata[1]}<extra></extra>\", \"legendgroup\": \"[TG(52:9),TG(51:2)]_FA14:0\", \"marker\": {\"color\": \"#ab63fa\"}, \"name\": \"[TG(52:9),TG(51:2)]_FA14:0\", \"offsetgroup\": \"[TG(52:9),TG(51:2)]_FA14:0\", \"orientation\": \"v\", \"showlegend\": true, \"textposition\": \"auto\", \"type\": \"bar\", \"x\": [\"862.8 -> 617.6\"], \"xaxis\": \"x\", \"y\": [41892.44287109375], \"yaxis\": \"y\"}, {\"alignmentgroup\": \"True\", \"customdata\": [[\"[TG(52:8),TG(51:1)]_FA14:0\", \"TAG\"]], \"hovertemplate\": \"Lipid=%{customdata[0]}<br>Transition=%{x}<br>Intensity=%{y}<br>Class=%{customdata[1]}<extra></extra>\", \"legendgroup\": \"[TG(52:8),TG(51:1)]_FA14:0\", \"marker\": {\"color\": \"#FFA15A\"}, \"name\": \"[TG(52:8),TG(51:1)]_FA14:0\", \"offsetgroup\": \"[TG(52:8),TG(51:1)]_FA14:0\", \"orientation\": \"v\", \"showlegend\": true, \"textposition\": \"auto\", \"type\": \"bar\", \"x\": [\"864.8 -> 619.6\"], \"xaxis\": \"x\", \"y\": [46549.702728271484], \"yaxis\": \"y\"}, {\"alignmentgroup\": \"True\", \"customdata\": [[\"[TG(52:7),TG(51:0)]_FA14:0\", \"TAG\"]], \"hovertemplate\": \"Lipid=%{customdata[0]}<br>Transition=%{x}<br>Intensity=%{y}<br>Class=%{customdata[1]}<extra></extra>\", \"legendgroup\": \"[TG(52:7),TG(51:0)]_FA14:0\", \"marker\": {\"color\": \"#19d3f3\"}, \"name\": \"[TG(52:7),TG(51:0)]_FA14:0\", \"offsetgroup\": \"[TG(52:7),TG(51:0)]_FA14:0\", \"orientation\": \"v\", \"showlegend\": true, \"textposition\": \"auto\", \"type\": \"bar\", \"x\": [\"866.8 -> 621.6\"], \"xaxis\": \"x\", \"y\": [34083.9026184082], \"yaxis\": \"y\"}, {\"alignmentgroup\": \"True\", \"customdata\": [[\"[TG(52:6)]_FA14:0\", \"TAG\"]], \"hovertemplate\": \"Lipid=%{customdata[0]}<br>Transition=%{x}<br>Intensity=%{y}<br>Class=%{customdata[1]}<extra></extra>\", \"legendgroup\": \"[TG(52:6)]_FA14:0\", \"marker\": {\"color\": \"#FF6692\"}, \"name\": \"[TG(52:6)]_FA14:0\", \"offsetgroup\": \"[TG(52:6)]_FA14:0\", \"orientation\": \"v\", \"showlegend\": true, \"textposition\": \"auto\", \"type\": \"bar\", \"x\": [\"868.7 -> 623.5\"], \"xaxis\": \"x\", \"y\": [40384.46292114258], \"yaxis\": \"y\"}, {\"alignmentgroup\": \"True\", \"customdata\": [[\"[TG(52:5)]_FA14:0\", \"TAG\"]], \"hovertemplate\": \"Lipid=%{customdata[0]}<br>Transition=%{x}<br>Intensity=%{y}<br>Class=%{customdata[1]}<extra></extra>\", \"legendgroup\": \"[TG(52:5)]_FA14:0\", \"marker\": {\"color\": \"#B6E880\"}, \"name\": \"[TG(52:5)]_FA14:0\", \"offsetgroup\": \"[TG(52:5)]_FA14:0\", \"orientation\": \"v\", \"showlegend\": true, \"textposition\": \"auto\", \"type\": \"bar\", \"x\": [\"870.8 -> 625.6\"], \"xaxis\": \"x\", \"y\": [44110.603759765625], \"yaxis\": \"y\"}, {\"alignmentgroup\": \"True\", \"customdata\": [[\"[TG(52:4)]_FA14:0\", \"TAG\"]], \"hovertemplate\": \"Lipid=%{customdata[0]}<br>Transition=%{x}<br>Intensity=%{y}<br>Class=%{customdata[1]}<extra></extra>\", \"legendgroup\": \"[TG(52:4)]_FA14:0\", \"marker\": {\"color\": \"#FF97FF\"}, \"name\": \"[TG(52:4)]_FA14:0\", \"offsetgroup\": \"[TG(52:4)]_FA14:0\", \"orientation\": \"v\", \"showlegend\": true, \"textposition\": \"auto\", \"type\": \"bar\", \"x\": [\"872.8 -> 627.6\"], \"xaxis\": \"x\", \"y\": [42770.922912597656], \"yaxis\": \"y\"}, {\"alignmentgroup\": \"True\", \"customdata\": [[\"[TG(53:10),TG(52:3)]_FA14:0\", \"TAG\"]], \"hovertemplate\": \"Lipid=%{customdata[0]}<br>Transition=%{x}<br>Intensity=%{y}<br>Class=%{customdata[1]}<extra></extra>\", \"legendgroup\": \"[TG(53:10),TG(52:3)]_FA14:0\", \"marker\": {\"color\": \"#FECB52\"}, \"name\": \"[TG(53:10),TG(52:3)]_FA14:0\", \"offsetgroup\": \"[TG(53:10),TG(52:3)]_FA14:0\", \"orientation\": \"v\", \"showlegend\": true, \"textposition\": \"auto\", \"type\": \"bar\", \"x\": [\"874.8 -> 629.6\"], \"xaxis\": \"x\", \"y\": [53848.18371582031], \"yaxis\": \"y\"}, {\"alignmentgroup\": \"True\", \"customdata\": [[\"[TG(53:9),TG(52:2)]_FA14:0\", \"TAG\"]], \"hovertemplate\": \"Lipid=%{customdata[0]}<br>Transition=%{x}<br>Intensity=%{y}<br>Class=%{customdata[1]}<extra></extra>\", \"legendgroup\": \"[TG(53:9),TG(52:2)]_FA14:0\", \"marker\": {\"color\": \"#636efa\"}, \"name\": \"[TG(53:9),TG(52:2)]_FA14:0\", \"offsetgroup\": \"[TG(53:9),TG(52:2)]_FA14:0\", \"orientation\": \"v\", \"showlegend\": true, \"textposition\": \"auto\", \"type\": \"bar\", \"x\": [\"876.8 -> 631.6\"], \"xaxis\": \"x\", \"y\": [56664.44418334961], \"yaxis\": \"y\"}, {\"alignmentgroup\": \"True\", \"customdata\": [[\"[TG(53:8),TG(52:1)]_FA14:0\", \"TAG\"]], \"hovertemplate\": \"Lipid=%{customdata[0]}<br>Transition=%{x}<br>Intensity=%{y}<br>Class=%{customdata[1]}<extra></extra>\", \"legendgroup\": \"[TG(53:8),TG(52:1)]_FA14:0\", \"marker\": {\"color\": \"#EF553B\"}, \"name\": \"[TG(53:8),TG(52:1)]_FA14:0\", \"offsetgroup\": \"[TG(53:8),TG(52:1)]_FA14:0\", \"orientation\": \"v\", \"showlegend\": true, \"textposition\": \"auto\", \"type\": \"bar\", \"x\": [\"878.8 -> 633.6\"], \"xaxis\": \"x\", \"y\": [47311.622985839844], \"yaxis\": \"y\"}, {\"alignmentgroup\": \"True\", \"customdata\": [[\"[TG(53:7),TG(52:0)]_FA14:0\", \"TAG\"]], \"hovertemplate\": \"Lipid=%{customdata[0]}<br>Transition=%{x}<br>Intensity=%{y}<br>Class=%{customdata[1]}<extra></extra>\", \"legendgroup\": \"[TG(53:7),TG(52:0)]_FA14:0\", \"marker\": {\"color\": \"#00cc96\"}, \"name\": \"[TG(53:7),TG(52:0)]_FA14:0\", \"offsetgroup\": \"[TG(53:7),TG(52:0)]_FA14:0\", \"orientation\": \"v\", \"showlegend\": true, \"textposition\": \"auto\", \"type\": \"bar\", \"x\": [\"880.8 -> 635.6\"], \"xaxis\": \"x\", \"y\": [30805.982299804688], \"yaxis\": \"y\"}, {\"alignmentgroup\": \"True\", \"customdata\": [[\"[TG(53:6)]_FA14:0\", \"TAG\"]], \"hovertemplate\": \"Lipid=%{customdata[0]}<br>Transition=%{x}<br>Intensity=%{y}<br>Class=%{customdata[1]}<extra></extra>\", \"legendgroup\": \"[TG(53:6)]_FA14:0\", \"marker\": {\"color\": \"#ab63fa\"}, \"name\": \"[TG(53:6)]_FA14:0\", \"offsetgroup\": \"[TG(53:6)]_FA14:0\", \"orientation\": \"v\", \"showlegend\": true, \"textposition\": \"auto\", \"type\": \"bar\", \"x\": [\"882.8 -> 637.6\"], \"xaxis\": \"x\", \"y\": [26174.721771240234], \"yaxis\": \"y\"}, {\"alignmentgroup\": \"True\", \"customdata\": [[\"[TG(54:12),TG(53:5)]_FA14:0\", \"TAG\"]], \"hovertemplate\": \"Lipid=%{customdata[0]}<br>Transition=%{x}<br>Intensity=%{y}<br>Class=%{customdata[1]}<extra></extra>\", \"legendgroup\": \"[TG(54:12),TG(53:5)]_FA14:0\", \"marker\": {\"color\": \"#FFA15A\"}, \"name\": \"[TG(54:12),TG(53:5)]_FA14:0\", \"offsetgroup\": \"[TG(54:12),TG(53:5)]_FA14:0\", \"orientation\": \"v\", \"showlegend\": true, \"textposition\": \"auto\", \"type\": \"bar\", \"x\": [\"884.8 -> 639.6\"], \"xaxis\": \"x\", \"y\": [25399.10171508789], \"yaxis\": \"y\"}, {\"alignmentgroup\": \"True\", \"customdata\": [[\"[TG(54:11),TG(53:4)]_FA14:0\", \"TAG\"]], \"hovertemplate\": \"Lipid=%{customdata[0]}<br>Transition=%{x}<br>Intensity=%{y}<br>Class=%{customdata[1]}<extra></extra>\", \"legendgroup\": \"[TG(54:11),TG(53:4)]_FA14:0\", \"marker\": {\"color\": \"#19d3f3\"}, \"name\": \"[TG(54:11),TG(53:4)]_FA14:0\", \"offsetgroup\": \"[TG(54:11),TG(53:4)]_FA14:0\", \"orientation\": \"v\", \"showlegend\": true, \"textposition\": \"auto\", \"type\": \"bar\", \"x\": [\"886.8 -> 641.6\"], \"xaxis\": \"x\", \"y\": [25004.141693115234], \"yaxis\": \"y\"}, {\"alignmentgroup\": \"True\", \"customdata\": [[\"[TG(54:10),TG(53:3)]_FA14:0\", \"TAG\"]], \"hovertemplate\": \"Lipid=%{customdata[0]}<br>Transition=%{x}<br>Intensity=%{y}<br>Class=%{customdata[1]}<extra></extra>\", \"legendgroup\": \"[TG(54:10),TG(53:3)]_FA14:0\", \"marker\": {\"color\": \"#FF6692\"}, \"name\": \"[TG(54:10),TG(53:3)]_FA14:0\", \"offsetgroup\": \"[TG(54:10),TG(53:3)]_FA14:0\", \"orientation\": \"v\", \"showlegend\": true, \"textposition\": \"auto\", \"type\": \"bar\", \"x\": [\"888.8 -> 643.6\"], \"xaxis\": \"x\", \"y\": [31147.182556152344], \"yaxis\": \"y\"}, {\"alignmentgroup\": \"True\", \"customdata\": [[\"[TG(54:9),TG(53:2)]_FA14:0\", \"TAG\"]], \"hovertemplate\": \"Lipid=%{customdata[0]}<br>Transition=%{x}<br>Intensity=%{y}<br>Class=%{customdata[1]}<extra></extra>\", \"legendgroup\": \"[TG(54:9),TG(53:2)]_FA14:0\", \"marker\": {\"color\": \"#B6E880\"}, \"name\": \"[TG(54:9),TG(53:2)]_FA14:0\", \"offsetgroup\": \"[TG(54:9),TG(53:2)]_FA14:0\", \"orientation\": \"v\", \"showlegend\": true, \"textposition\": \"auto\", \"type\": \"bar\", \"x\": [\"890.8 -> 645.6\"], \"xaxis\": \"x\", \"y\": [38980.08303833008], \"yaxis\": \"y\"}, {\"alignmentgroup\": \"True\", \"customdata\": [[\"[TG(54:8),TG(53:1)]_FA14:0\", \"TAG\"]], \"hovertemplate\": \"Lipid=%{customdata[0]}<br>Transition=%{x}<br>Intensity=%{y}<br>Class=%{customdata[1]}<extra></extra>\", \"legendgroup\": \"[TG(54:8),TG(53:1)]_FA14:0\", \"marker\": {\"color\": \"#FF97FF\"}, \"name\": \"[TG(54:8),TG(53:1)]_FA14:0\", \"offsetgroup\": \"[TG(54:8),TG(53:1)]_FA14:0\", \"orientation\": \"v\", \"showlegend\": true, \"textposition\": \"auto\", \"type\": \"bar\", \"x\": [\"892.8 -> 647.6\"], \"xaxis\": \"x\", \"y\": [46906.80307006836], \"yaxis\": \"y\"}, {\"alignmentgroup\": \"True\", \"customdata\": [[\"[TG(54:7),TG(53:0)]_FA14:0\", \"TAG\"]], \"hovertemplate\": \"Lipid=%{customdata[0]}<br>Transition=%{x}<br>Intensity=%{y}<br>Class=%{customdata[1]}<extra></extra>\", \"legendgroup\": \"[TG(54:7),TG(53:0)]_FA14:0\", \"marker\": {\"color\": \"#FECB52\"}, \"name\": \"[TG(54:7),TG(53:0)]_FA14:0\", \"offsetgroup\": \"[TG(54:7),TG(53:0)]_FA14:0\", \"orientation\": \"v\", \"showlegend\": true, \"textposition\": \"auto\", \"type\": \"bar\", \"x\": [\"894.8 -> 649.6\"], \"xaxis\": \"x\", \"y\": [38897.4231262207], \"yaxis\": \"y\"}, {\"alignmentgroup\": \"True\", \"customdata\": [[\"[TG(54:6)]_FA14:0\", \"TAG\"]], \"hovertemplate\": \"Lipid=%{customdata[0]}<br>Transition=%{x}<br>Intensity=%{y}<br>Class=%{customdata[1]}<extra></extra>\", \"legendgroup\": \"[TG(54:6)]_FA14:0\", \"marker\": {\"color\": \"#636efa\"}, \"name\": \"[TG(54:6)]_FA14:0\", \"offsetgroup\": \"[TG(54:6)]_FA14:0\", \"orientation\": \"v\", \"showlegend\": true, \"textposition\": \"auto\", \"type\": \"bar\", \"x\": [\"896.8 -> 651.6\"], \"xaxis\": \"x\", \"y\": [73665.94470214844], \"yaxis\": \"y\"}, {\"alignmentgroup\": \"True\", \"customdata\": [[\"[TG(54:5)]_FA14:0\", \"TAG\"]], \"hovertemplate\": \"Lipid=%{customdata[0]}<br>Transition=%{x}<br>Intensity=%{y}<br>Class=%{customdata[1]}<extra></extra>\", \"legendgroup\": \"[TG(54:5)]_FA14:0\", \"marker\": {\"color\": \"#EF553B\"}, \"name\": \"[TG(54:5)]_FA14:0\", \"offsetgroup\": \"[TG(54:5)]_FA14:0\", \"orientation\": \"v\", \"showlegend\": true, \"textposition\": \"auto\", \"type\": \"bar\", \"x\": [\"898.8 -> 653.6\"], \"xaxis\": \"x\", \"y\": [41898.76268005371], \"yaxis\": \"y\"}, {\"alignmentgroup\": \"True\", \"customdata\": [[\"[TG(55:11),TG(54:4)]_FA14:0\", \"TAG\"]], \"hovertemplate\": \"Lipid=%{customdata[0]}<br>Transition=%{x}<br>Intensity=%{y}<br>Class=%{customdata[1]}<extra></extra>\", \"legendgroup\": \"[TG(55:11),TG(54:4)]_FA14:0\", \"marker\": {\"color\": \"#00cc96\"}, \"name\": \"[TG(55:11),TG(54:4)]_FA14:0\", \"offsetgroup\": \"[TG(55:11),TG(54:4)]_FA14:0\", \"orientation\": \"v\", \"showlegend\": true, \"textposition\": \"auto\", \"type\": \"bar\", \"x\": [\"900.8 -> 655.6\"], \"xaxis\": \"x\", \"y\": [28414.301971435547], \"yaxis\": \"y\"}, {\"alignmentgroup\": \"True\", \"customdata\": [[\"[TG(55:10),TG(54:3)]_FA14:0\", \"TAG\"]], \"hovertemplate\": \"Lipid=%{customdata[0]}<br>Transition=%{x}<br>Intensity=%{y}<br>Class=%{customdata[1]}<extra></extra>\", \"legendgroup\": \"[TG(55:10),TG(54:3)]_FA14:0\", \"marker\": {\"color\": \"#ab63fa\"}, \"name\": \"[TG(55:10),TG(54:3)]_FA14:0\", \"offsetgroup\": \"[TG(55:10),TG(54:3)]_FA14:0\", \"orientation\": \"v\", \"showlegend\": true, \"textposition\": \"auto\", \"type\": \"bar\", \"x\": [\"902.8 -> 657.6\"], \"xaxis\": \"x\", \"y\": [30718.442108154297], \"yaxis\": \"y\"}, {\"alignmentgroup\": \"True\", \"customdata\": [[\"[TG(55:9),TG(54:2)]_FA14:0\", \"TAG\"]], \"hovertemplate\": \"Lipid=%{customdata[0]}<br>Transition=%{x}<br>Intensity=%{y}<br>Class=%{customdata[1]}<extra></extra>\", \"legendgroup\": \"[TG(55:9),TG(54:2)]_FA14:0\", \"marker\": {\"color\": \"#FFA15A\"}, \"name\": \"[TG(55:9),TG(54:2)]_FA14:0\", \"offsetgroup\": \"[TG(55:9),TG(54:2)]_FA14:0\", \"orientation\": \"v\", \"showlegend\": true, \"textposition\": \"auto\", \"type\": \"bar\", \"x\": [\"904.8 -> 659.6\"], \"xaxis\": \"x\", \"y\": [33424.282623291016], \"yaxis\": \"y\"}, {\"alignmentgroup\": \"True\", \"customdata\": [[\"[TG(55:8),TG(54:1)]_FA14:0\", \"TAG\"]], \"hovertemplate\": \"Lipid=%{customdata[0]}<br>Transition=%{x}<br>Intensity=%{y}<br>Class=%{customdata[1]}<extra></extra>\", \"legendgroup\": \"[TG(55:8),TG(54:1)]_FA14:0\", \"marker\": {\"color\": \"#19d3f3\"}, \"name\": \"[TG(55:8),TG(54:1)]_FA14:0\", \"offsetgroup\": \"[TG(55:8),TG(54:1)]_FA14:0\", \"orientation\": \"v\", \"showlegend\": true, \"textposition\": \"auto\", \"type\": \"bar\", \"x\": [\"906.8 -> 661.6\"], \"xaxis\": \"x\", \"y\": [29007.38198852539], \"yaxis\": \"y\"}, {\"alignmentgroup\": \"True\", \"customdata\": [[\"[TG(55:7),TG(54:0)]_FA14:0\", \"TAG\"]], \"hovertemplate\": \"Lipid=%{customdata[0]}<br>Transition=%{x}<br>Intensity=%{y}<br>Class=%{customdata[1]}<extra></extra>\", \"legendgroup\": \"[TG(55:7),TG(54:0)]_FA14:0\", \"marker\": {\"color\": \"#FF6692\"}, \"name\": \"[TG(55:7),TG(54:0)]_FA14:0\", \"offsetgroup\": \"[TG(55:7),TG(54:0)]_FA14:0\", \"orientation\": \"v\", \"showlegend\": true, \"textposition\": \"auto\", \"type\": \"bar\", \"x\": [\"908.9 -> 663.7\"], \"xaxis\": \"x\", \"y\": [35497.86260986328], \"yaxis\": \"y\"}, {\"alignmentgroup\": \"True\", \"customdata\": [[\"[TG(56:13),TG(55:6)]_FA14:0\", \"TAG\"]], \"hovertemplate\": \"Lipid=%{customdata[0]}<br>Transition=%{x}<br>Intensity=%{y}<br>Class=%{customdata[1]}<extra></extra>\", \"legendgroup\": \"[TG(56:13),TG(55:6)]_FA14:0\", \"marker\": {\"color\": \"#B6E880\"}, \"name\": \"[TG(56:13),TG(55:6)]_FA14:0\", \"offsetgroup\": \"[TG(56:13),TG(55:6)]_FA14:0\", \"orientation\": \"v\", \"showlegend\": true, \"textposition\": \"auto\", \"type\": \"bar\", \"x\": [\"910.8 -> 665.6\"], \"xaxis\": \"x\", \"y\": [26408.881866455078], \"yaxis\": \"y\"}, {\"alignmentgroup\": \"True\", \"customdata\": [[\"[TG(56:12),TG(55:5)]_FA14:0\", \"TAG\"]], \"hovertemplate\": \"Lipid=%{customdata[0]}<br>Transition=%{x}<br>Intensity=%{y}<br>Class=%{customdata[1]}<extra></extra>\", \"legendgroup\": \"[TG(56:12),TG(55:5)]_FA14:0\", \"marker\": {\"color\": \"#FF97FF\"}, \"name\": \"[TG(56:12),TG(55:5)]_FA14:0\", \"offsetgroup\": \"[TG(56:12),TG(55:5)]_FA14:0\", \"orientation\": \"v\", \"showlegend\": true, \"textposition\": \"auto\", \"type\": \"bar\", \"x\": [\"912.8 -> 667.6\"], \"xaxis\": \"x\", \"y\": [22494.82162475586], \"yaxis\": \"y\"}, {\"alignmentgroup\": \"True\", \"customdata\": [[\"[TG(56:11),TG(55:4)]_FA14:0\", \"TAG\"]], \"hovertemplate\": \"Lipid=%{customdata[0]}<br>Transition=%{x}<br>Intensity=%{y}<br>Class=%{customdata[1]}<extra></extra>\", \"legendgroup\": \"[TG(56:11),TG(55:4)]_FA14:0\", \"marker\": {\"color\": \"#FECB52\"}, \"name\": \"[TG(56:11),TG(55:4)]_FA14:0\", \"offsetgroup\": \"[TG(56:11),TG(55:4)]_FA14:0\", \"orientation\": \"v\", \"showlegend\": true, \"textposition\": \"auto\", \"type\": \"bar\", \"x\": [\"914.8 -> 669.6\"], \"xaxis\": \"x\", \"y\": [25690.061798095703], \"yaxis\": \"y\"}, {\"alignmentgroup\": \"True\", \"customdata\": [[\"[TG(56:10),TG(55:3)]_FA14:0\", \"TAG\"]], \"hovertemplate\": \"Lipid=%{customdata[0]}<br>Transition=%{x}<br>Intensity=%{y}<br>Class=%{customdata[1]}<extra></extra>\", \"legendgroup\": \"[TG(56:10),TG(55:3)]_FA14:0\", \"marker\": {\"color\": \"#636efa\"}, \"name\": \"[TG(56:10),TG(55:3)]_FA14:0\", \"offsetgroup\": \"[TG(56:10),TG(55:3)]_FA14:0\", \"orientation\": \"v\", \"showlegend\": true, \"textposition\": \"auto\", \"type\": \"bar\", \"x\": [\"916.8 -> 671.6\"], \"xaxis\": \"x\", \"y\": [29631.141998291016], \"yaxis\": \"y\"}, {\"alignmentgroup\": \"True\", \"customdata\": [[\"[TG(56:9),TG(55:2)]_FA14:0\", \"TAG\"]], \"hovertemplate\": \"Lipid=%{customdata[0]}<br>Transition=%{x}<br>Intensity=%{y}<br>Class=%{customdata[1]}<extra></extra>\", \"legendgroup\": \"[TG(56:9),TG(55:2)]_FA14:0\", \"marker\": {\"color\": \"#EF553B\"}, \"name\": \"[TG(56:9),TG(55:2)]_FA14:0\", \"offsetgroup\": \"[TG(56:9),TG(55:2)]_FA14:0\", \"orientation\": \"v\", \"showlegend\": true, \"textposition\": \"auto\", \"type\": \"bar\", \"x\": [\"918.8 -> 673.6\"], \"xaxis\": \"x\", \"y\": [33327.52235412598], \"yaxis\": \"y\"}, {\"alignmentgroup\": \"True\", \"customdata\": [[\"[TG(56:8),TG(55:1)]_FA14:0\", \"TAG\"]], \"hovertemplate\": \"Lipid=%{customdata[0]}<br>Transition=%{x}<br>Intensity=%{y}<br>Class=%{customdata[1]}<extra></extra>\", \"legendgroup\": \"[TG(56:8),TG(55:1)]_FA14:0\", \"marker\": {\"color\": \"#00cc96\"}, \"name\": \"[TG(56:8),TG(55:1)]_FA14:0\", \"offsetgroup\": \"[TG(56:8),TG(55:1)]_FA14:0\", \"orientation\": \"v\", \"showlegend\": true, \"textposition\": \"auto\", \"type\": \"bar\", \"x\": [\"920.9 -> 675.7\"], \"xaxis\": \"x\", \"y\": [29645.14239501953], \"yaxis\": \"y\"}, {\"alignmentgroup\": \"True\", \"customdata\": [[\"[TG(56:7),TG(55:0)]_FA14:0\", \"TAG\"]], \"hovertemplate\": \"Lipid=%{customdata[0]}<br>Transition=%{x}<br>Intensity=%{y}<br>Class=%{customdata[1]}<extra></extra>\", \"legendgroup\": \"[TG(56:7),TG(55:0)]_FA14:0\", \"marker\": {\"color\": \"#ab63fa\"}, \"name\": \"[TG(56:7),TG(55:0)]_FA14:0\", \"offsetgroup\": \"[TG(56:7),TG(55:0)]_FA14:0\", \"orientation\": \"v\", \"showlegend\": true, \"textposition\": \"auto\", \"type\": \"bar\", \"x\": [\"922.9 -> 677.7\"], \"xaxis\": \"x\", \"y\": [23936.88168334961], \"yaxis\": \"y\"}, {\"alignmentgroup\": \"True\", \"customdata\": [[\"[TG(56:6)]_FA14:0\", \"TAG\"]], \"hovertemplate\": \"Lipid=%{customdata[0]}<br>Transition=%{x}<br>Intensity=%{y}<br>Class=%{customdata[1]}<extra></extra>\", \"legendgroup\": \"[TG(56:6)]_FA14:0\", \"marker\": {\"color\": \"#FFA15A\"}, \"name\": \"[TG(56:6)]_FA14:0\", \"offsetgroup\": \"[TG(56:6)]_FA14:0\", \"orientation\": \"v\", \"showlegend\": true, \"textposition\": \"auto\", \"type\": \"bar\", \"x\": [\"924.8 -> 679.6\"], \"xaxis\": \"x\", \"y\": [21959.361694335938], \"yaxis\": \"y\"}, {\"alignmentgroup\": \"True\", \"customdata\": [[\"[TG(57:12),TG(56:5)]_FA14:0\", \"TAG\"]], \"hovertemplate\": \"Lipid=%{customdata[0]}<br>Transition=%{x}<br>Intensity=%{y}<br>Class=%{customdata[1]}<extra></extra>\", \"legendgroup\": \"[TG(57:12),TG(56:5)]_FA14:0\", \"marker\": {\"color\": \"#19d3f3\"}, \"name\": \"[TG(57:12),TG(56:5)]_FA14:0\", \"offsetgroup\": \"[TG(57:12),TG(56:5)]_FA14:0\", \"orientation\": \"v\", \"showlegend\": true, \"textposition\": \"auto\", \"type\": \"bar\", \"x\": [\"926.8 -> 681.6\"], \"xaxis\": \"x\", \"y\": [20401.881622314453], \"yaxis\": \"y\"}, {\"alignmentgroup\": \"True\", \"customdata\": [[\"[TG(57:11),TG(56:4)]_FA14:0\", \"TAG\"]], \"hovertemplate\": \"Lipid=%{customdata[0]}<br>Transition=%{x}<br>Intensity=%{y}<br>Class=%{customdata[1]}<extra></extra>\", \"legendgroup\": \"[TG(57:11),TG(56:4)]_FA14:0\", \"marker\": {\"color\": \"#FF6692\"}, \"name\": \"[TG(57:11),TG(56:4)]_FA14:0\", \"offsetgroup\": \"[TG(57:11),TG(56:4)]_FA14:0\", \"orientation\": \"v\", \"showlegend\": true, \"textposition\": \"auto\", \"type\": \"bar\", \"x\": [\"928.8 -> 683.6\"], \"xaxis\": \"x\", \"y\": [20398.84147644043], \"yaxis\": \"y\"}, {\"alignmentgroup\": \"True\", \"customdata\": [[\"[TG(57:10),TG(56:3)]_FA14:0\", \"TAG\"]], \"hovertemplate\": \"Lipid=%{customdata[0]}<br>Transition=%{x}<br>Intensity=%{y}<br>Class=%{customdata[1]}<extra></extra>\", \"legendgroup\": \"[TG(57:10),TG(56:3)]_FA14:0\", \"marker\": {\"color\": \"#B6E880\"}, \"name\": \"[TG(57:10),TG(56:3)]_FA14:0\", \"offsetgroup\": \"[TG(57:10),TG(56:3)]_FA14:0\", \"orientation\": \"v\", \"showlegend\": true, \"textposition\": \"auto\", \"type\": \"bar\", \"x\": [\"930.8 -> 685.6\"], \"xaxis\": \"x\", \"y\": [25416.421936035156], \"yaxis\": \"y\"}, {\"alignmentgroup\": \"True\", \"customdata\": [[\"[TG(57:9),TG(56:2)]_FA14:0\", \"TAG\"]], \"hovertemplate\": \"Lipid=%{customdata[0]}<br>Transition=%{x}<br>Intensity=%{y}<br>Class=%{customdata[1]}<extra></extra>\", \"legendgroup\": \"[TG(57:9),TG(56:2)]_FA14:0\", \"marker\": {\"color\": \"#FF97FF\"}, \"name\": \"[TG(57:9),TG(56:2)]_FA14:0\", \"offsetgroup\": \"[TG(57:9),TG(56:2)]_FA14:0\", \"orientation\": \"v\", \"showlegend\": true, \"textposition\": \"auto\", \"type\": \"bar\", \"x\": [\"932.9 -> 687.7\"], \"xaxis\": \"x\", \"y\": [22382.361602783203], \"yaxis\": \"y\"}, {\"alignmentgroup\": \"True\", \"customdata\": [[\"[TG(57:8),TG(56:1)]_FA14:0\", \"TAG\"]], \"hovertemplate\": \"Lipid=%{customdata[0]}<br>Transition=%{x}<br>Intensity=%{y}<br>Class=%{customdata[1]}<extra></extra>\", \"legendgroup\": \"[TG(57:8),TG(56:1)]_FA14:0\", \"marker\": {\"color\": \"#FECB52\"}, \"name\": \"[TG(57:8),TG(56:1)]_FA14:0\", \"offsetgroup\": \"[TG(57:8),TG(56:1)]_FA14:0\", \"orientation\": \"v\", \"showlegend\": true, \"textposition\": \"auto\", \"type\": \"bar\", \"x\": [\"934.9 -> 689.7\"], \"xaxis\": \"x\", \"y\": [19609.461395263672], \"yaxis\": \"y\"}, {\"alignmentgroup\": \"True\", \"customdata\": [[\"[TG(58:14),TG(57:7),TG(56:0)]_FA14:0\", \"TAG\"]], \"hovertemplate\": \"Lipid=%{customdata[0]}<br>Transition=%{x}<br>Intensity=%{y}<br>Class=%{customdata[1]}<extra></extra>\", \"legendgroup\": \"[TG(58:14),TG(57:7),TG(56:0)]_FA14:0\", \"marker\": {\"color\": \"#636efa\"}, \"name\": \"[TG(58:14),TG(57:7),TG(56:0)]_FA14:0\", \"offsetgroup\": \"[TG(58:14),TG(57:7),TG(56:0)]_FA14:0\", \"orientation\": \"v\", \"showlegend\": true, \"textposition\": \"auto\", \"type\": \"bar\", \"x\": [\"936.9 -> 691.7\"], \"xaxis\": \"x\", \"y\": [22338.061492919922], \"yaxis\": \"y\"}, {\"alignmentgroup\": \"True\", \"customdata\": [[\"[TG(58:13),TG(57:6)]_FA14:0\", \"TAG\"]], \"hovertemplate\": \"Lipid=%{customdata[0]}<br>Transition=%{x}<br>Intensity=%{y}<br>Class=%{customdata[1]}<extra></extra>\", \"legendgroup\": \"[TG(58:13),TG(57:6)]_FA14:0\", \"marker\": {\"color\": \"#EF553B\"}, \"name\": \"[TG(58:13),TG(57:6)]_FA14:0\", \"offsetgroup\": \"[TG(58:13),TG(57:6)]_FA14:0\", \"orientation\": \"v\", \"showlegend\": true, \"textposition\": \"auto\", \"type\": \"bar\", \"x\": [\"938.8 -> 693.6\"], \"xaxis\": \"x\", \"y\": [29575.44204711914], \"yaxis\": \"y\"}, {\"alignmentgroup\": \"True\", \"customdata\": [[\"[TG(58:12),TG(57:5)]_FA14:0\", \"TAG\"]], \"hovertemplate\": \"Lipid=%{customdata[0]}<br>Transition=%{x}<br>Intensity=%{y}<br>Class=%{customdata[1]}<extra></extra>\", \"legendgroup\": \"[TG(58:12),TG(57:5)]_FA14:0\", \"marker\": {\"color\": \"#00cc96\"}, \"name\": \"[TG(58:12),TG(57:5)]_FA14:0\", \"offsetgroup\": \"[TG(58:12),TG(57:5)]_FA14:0\", \"orientation\": \"v\", \"showlegend\": true, \"textposition\": \"auto\", \"type\": \"bar\", \"x\": [\"940.8 -> 695.6\"], \"xaxis\": \"x\", \"y\": [20122.321487426758], \"yaxis\": \"y\"}, {\"alignmentgroup\": \"True\", \"customdata\": [[\"[TG(58:11),TG(57:4)]_FA14:0\", \"TAG\"]], \"hovertemplate\": \"Lipid=%{customdata[0]}<br>Transition=%{x}<br>Intensity=%{y}<br>Class=%{customdata[1]}<extra></extra>\", \"legendgroup\": \"[TG(58:11),TG(57:4)]_FA14:0\", \"marker\": {\"color\": \"#ab63fa\"}, \"name\": \"[TG(58:11),TG(57:4)]_FA14:0\", \"offsetgroup\": \"[TG(58:11),TG(57:4)]_FA14:0\", \"orientation\": \"v\", \"showlegend\": true, \"textposition\": \"auto\", \"type\": \"bar\", \"x\": [\"942.8 -> 697.6\"], \"xaxis\": \"x\", \"y\": [20873.68148803711], \"yaxis\": \"y\"}, {\"alignmentgroup\": \"True\", \"customdata\": [[\"[TG(58:10),TG(57:3)]_FA14:0\", \"TAG\"]], \"hovertemplate\": \"Lipid=%{customdata[0]}<br>Transition=%{x}<br>Intensity=%{y}<br>Class=%{customdata[1]}<extra></extra>\", \"legendgroup\": \"[TG(58:10),TG(57:3)]_FA14:0\", \"marker\": {\"color\": \"#FFA15A\"}, \"name\": \"[TG(58:10),TG(57:3)]_FA14:0\", \"offsetgroup\": \"[TG(58:10),TG(57:3)]_FA14:0\", \"orientation\": \"v\", \"showlegend\": true, \"textposition\": \"auto\", \"type\": \"bar\", \"x\": [\"944.9 -> 699.7\"], \"xaxis\": \"x\", \"y\": [20475.001525878906], \"yaxis\": \"y\"}, {\"alignmentgroup\": \"True\", \"customdata\": [[\"[TG(58:9),TG(57:2)]_FA14:0\", \"TAG\"]], \"hovertemplate\": \"Lipid=%{customdata[0]}<br>Transition=%{x}<br>Intensity=%{y}<br>Class=%{customdata[1]}<extra></extra>\", \"legendgroup\": \"[TG(58:9),TG(57:2)]_FA14:0\", \"marker\": {\"color\": \"#19d3f3\"}, \"name\": \"[TG(58:9),TG(57:2)]_FA14:0\", \"offsetgroup\": \"[TG(58:9),TG(57:2)]_FA14:0\", \"orientation\": \"v\", \"showlegend\": true, \"textposition\": \"auto\", \"type\": \"bar\", \"x\": [\"946.9 -> 701.7\"], \"xaxis\": \"x\", \"y\": [19687.661422729492], \"yaxis\": \"y\"}, {\"alignmentgroup\": \"True\", \"customdata\": [[\"[TG(58:8),TG(57:1)]_FA14:0\", \"TAG\"]], \"hovertemplate\": \"Lipid=%{customdata[0]}<br>Transition=%{x}<br>Intensity=%{y}<br>Class=%{customdata[1]}<extra></extra>\", \"legendgroup\": \"[TG(58:8),TG(57:1)]_FA14:0\", \"marker\": {\"color\": \"#FF6692\"}, \"name\": \"[TG(58:8),TG(57:1)]_FA14:0\", \"offsetgroup\": \"[TG(58:8),TG(57:1)]_FA14:0\", \"orientation\": \"v\", \"showlegend\": true, \"textposition\": \"auto\", \"type\": \"bar\", \"x\": [\"948.9 -> 703.7\"], \"xaxis\": \"x\", \"y\": [17986.1212310791], \"yaxis\": \"y\"}, {\"alignmentgroup\": \"True\", \"customdata\": [[\"[TG(58:7),TG(57:0)]_FA14:0\", \"TAG\"]], \"hovertemplate\": \"Lipid=%{customdata[0]}<br>Transition=%{x}<br>Intensity=%{y}<br>Class=%{customdata[1]}<extra></extra>\", \"legendgroup\": \"[TG(58:7),TG(57:0)]_FA14:0\", \"marker\": {\"color\": \"#B6E880\"}, \"name\": \"[TG(58:7),TG(57:0)]_FA14:0\", \"offsetgroup\": \"[TG(58:7),TG(57:0)]_FA14:0\", \"orientation\": \"v\", \"showlegend\": true, \"textposition\": \"auto\", \"type\": \"bar\", \"x\": [\"950.9 -> 705.7\"], \"xaxis\": \"x\", \"y\": [16909.581176757812], \"yaxis\": \"y\"}, {\"alignmentgroup\": \"True\", \"customdata\": [[\"[TG(59:13),TG(58:6)]_FA14:0\", \"TAG\"]], \"hovertemplate\": \"Lipid=%{customdata[0]}<br>Transition=%{x}<br>Intensity=%{y}<br>Class=%{customdata[1]}<extra></extra>\", \"legendgroup\": \"[TG(59:13),TG(58:6)]_FA14:0\", \"marker\": {\"color\": \"#FF97FF\"}, \"name\": \"[TG(59:13),TG(58:6)]_FA14:0\", \"offsetgroup\": \"[TG(59:13),TG(58:6)]_FA14:0\", \"orientation\": \"v\", \"showlegend\": true, \"textposition\": \"auto\", \"type\": \"bar\", \"x\": [\"952.8 -> 707.6\"], \"xaxis\": \"x\", \"y\": [17760.02130126953], \"yaxis\": \"y\"}, {\"alignmentgroup\": \"True\", \"customdata\": [[\"[TG(59:12),TG(58:5)]_FA14:0\", \"TAG\"]], \"hovertemplate\": \"Lipid=%{customdata[0]}<br>Transition=%{x}<br>Intensity=%{y}<br>Class=%{customdata[1]}<extra></extra>\", \"legendgroup\": \"[TG(59:12),TG(58:5)]_FA14:0\", \"marker\": {\"color\": \"#FECB52\"}, \"name\": \"[TG(59:12),TG(58:5)]_FA14:0\", \"offsetgroup\": \"[TG(59:12),TG(58:5)]_FA14:0\", \"orientation\": \"v\", \"showlegend\": true, \"textposition\": \"auto\", \"type\": \"bar\", \"x\": [\"954.8 -> 709.6\"], \"xaxis\": \"x\", \"y\": [17154.881271362305], \"yaxis\": \"y\"}, {\"alignmentgroup\": \"True\", \"customdata\": [[\"[TG(59:11),TG(58:4)]_FA14:0\", \"TAG\"]], \"hovertemplate\": \"Lipid=%{customdata[0]}<br>Transition=%{x}<br>Intensity=%{y}<br>Class=%{customdata[1]}<extra></extra>\", \"legendgroup\": \"[TG(59:11),TG(58:4)]_FA14:0\", \"marker\": {\"color\": \"#636efa\"}, \"name\": \"[TG(59:11),TG(58:4)]_FA14:0\", \"offsetgroup\": \"[TG(59:11),TG(58:4)]_FA14:0\", \"orientation\": \"v\", \"showlegend\": true, \"textposition\": \"auto\", \"type\": \"bar\", \"x\": [\"956.9 -> 711.7\"], \"xaxis\": \"x\", \"y\": [17369.481216430664], \"yaxis\": \"y\"}, {\"alignmentgroup\": \"True\", \"customdata\": [[\"[TG(59:10),TG(58:3)]_FA14:0\", \"TAG\"]], \"hovertemplate\": \"Lipid=%{customdata[0]}<br>Transition=%{x}<br>Intensity=%{y}<br>Class=%{customdata[1]}<extra></extra>\", \"legendgroup\": \"[TG(59:10),TG(58:3)]_FA14:0\", \"marker\": {\"color\": \"#EF553B\"}, \"name\": \"[TG(59:10),TG(58:3)]_FA14:0\", \"offsetgroup\": \"[TG(59:10),TG(58:3)]_FA14:0\", \"orientation\": \"v\", \"showlegend\": true, \"textposition\": \"auto\", \"type\": \"bar\", \"x\": [\"958.9 -> 713.7\"], \"xaxis\": \"x\", \"y\": [17000.50129699707], \"yaxis\": \"y\"}, {\"alignmentgroup\": \"True\", \"customdata\": [[\"[TG(59:9),TG(58:2)]_FA14:0\", \"TAG\"]], \"hovertemplate\": \"Lipid=%{customdata[0]}<br>Transition=%{x}<br>Intensity=%{y}<br>Class=%{customdata[1]}<extra></extra>\", \"legendgroup\": \"[TG(59:9),TG(58:2)]_FA14:0\", \"marker\": {\"color\": \"#00cc96\"}, \"name\": \"[TG(59:9),TG(58:2)]_FA14:0\", \"offsetgroup\": \"[TG(59:9),TG(58:2)]_FA14:0\", \"orientation\": \"v\", \"showlegend\": true, \"textposition\": \"auto\", \"type\": \"bar\", \"x\": [\"960.9 -> 715.7\"], \"xaxis\": \"x\", \"y\": [14471.141006469727], \"yaxis\": \"y\"}, {\"alignmentgroup\": \"True\", \"customdata\": [[\"[TG(60:15),TG(59:8),TG(58:1)]_FA14:0\", \"TAG\"]], \"hovertemplate\": \"Lipid=%{customdata[0]}<br>Transition=%{x}<br>Intensity=%{y}<br>Class=%{customdata[1]}<extra></extra>\", \"legendgroup\": \"[TG(60:15),TG(59:8),TG(58:1)]_FA14:0\", \"marker\": {\"color\": \"#ab63fa\"}, \"name\": \"[TG(60:15),TG(59:8),TG(58:1)]_FA14:0\", \"offsetgroup\": \"[TG(60:15),TG(59:8),TG(58:1)]_FA14:0\", \"orientation\": \"v\", \"showlegend\": true, \"textposition\": \"auto\", \"type\": \"bar\", \"x\": [\"962.9 -> 717.7\"], \"xaxis\": \"x\", \"y\": [17327.96128845215], \"yaxis\": \"y\"}, {\"alignmentgroup\": \"True\", \"customdata\": [[\"[TG(60:14),TG(59:7),TG(58:0)]_FA14:0\", \"TAG\"]], \"hovertemplate\": \"Lipid=%{customdata[0]}<br>Transition=%{x}<br>Intensity=%{y}<br>Class=%{customdata[1]}<extra></extra>\", \"legendgroup\": \"[TG(60:14),TG(59:7),TG(58:0)]_FA14:0\", \"marker\": {\"color\": \"#FFA15A\"}, \"name\": \"[TG(60:14),TG(59:7),TG(58:0)]_FA14:0\", \"offsetgroup\": \"[TG(60:14),TG(59:7),TG(58:0)]_FA14:0\", \"orientation\": \"v\", \"showlegend\": true, \"textposition\": \"auto\", \"type\": \"bar\", \"x\": [\"964.9 -> 719.7\"], \"xaxis\": \"x\", \"y\": [15586.361099243164], \"yaxis\": \"y\"}, {\"alignmentgroup\": \"True\", \"customdata\": [[\"[TG(60:13),TG(59:6)]_FA14:0\", \"TAG\"]], \"hovertemplate\": \"Lipid=%{customdata[0]}<br>Transition=%{x}<br>Intensity=%{y}<br>Class=%{customdata[1]}<extra></extra>\", \"legendgroup\": \"[TG(60:13),TG(59:6)]_FA14:0\", \"marker\": {\"color\": \"#19d3f3\"}, \"name\": \"[TG(60:13),TG(59:6)]_FA14:0\", \"offsetgroup\": \"[TG(60:13),TG(59:6)]_FA14:0\", \"orientation\": \"v\", \"showlegend\": true, \"textposition\": \"auto\", \"type\": \"bar\", \"x\": [\"966.8 -> 721.6\"], \"xaxis\": \"x\", \"y\": [15192.34105682373], \"yaxis\": \"y\"}, {\"alignmentgroup\": \"True\", \"customdata\": [[\"[TG(60:12),TG(59:5)]_FA14:0\", \"TAG\"]], \"hovertemplate\": \"Lipid=%{customdata[0]}<br>Transition=%{x}<br>Intensity=%{y}<br>Class=%{customdata[1]}<extra></extra>\", \"legendgroup\": \"[TG(60:12),TG(59:5)]_FA14:0\", \"marker\": {\"color\": \"#FF6692\"}, \"name\": \"[TG(60:12),TG(59:5)]_FA14:0\", \"offsetgroup\": \"[TG(60:12),TG(59:5)]_FA14:0\", \"orientation\": \"v\", \"showlegend\": true, \"textposition\": \"auto\", \"type\": \"bar\", \"x\": [\"968.9 -> 723.7\"], \"xaxis\": \"x\", \"y\": [16057.961143493652], \"yaxis\": \"y\"}, {\"alignmentgroup\": \"True\", \"customdata\": [[\"[TG(60:11),TG(59:4)]_FA14:0\", \"TAG\"]], \"hovertemplate\": \"Lipid=%{customdata[0]}<br>Transition=%{x}<br>Intensity=%{y}<br>Class=%{customdata[1]}<extra></extra>\", \"legendgroup\": \"[TG(60:11),TG(59:4)]_FA14:0\", \"marker\": {\"color\": \"#B6E880\"}, \"name\": \"[TG(60:11),TG(59:4)]_FA14:0\", \"offsetgroup\": \"[TG(60:11),TG(59:4)]_FA14:0\", \"orientation\": \"v\", \"showlegend\": true, \"textposition\": \"auto\", \"type\": \"bar\", \"x\": [\"970.9 -> 725.7\"], \"xaxis\": \"x\", \"y\": [29432.862243652344], \"yaxis\": \"y\"}, {\"alignmentgroup\": \"True\", \"customdata\": [[\"[TG(60:10),TG(59:3)]_FA14:0\", \"TAG\"]], \"hovertemplate\": \"Lipid=%{customdata[0]}<br>Transition=%{x}<br>Intensity=%{y}<br>Class=%{customdata[1]}<extra></extra>\", \"legendgroup\": \"[TG(60:10),TG(59:3)]_FA14:0\", \"marker\": {\"color\": \"#FF97FF\"}, \"name\": \"[TG(60:10),TG(59:3)]_FA14:0\", \"offsetgroup\": \"[TG(60:10),TG(59:3)]_FA14:0\", \"orientation\": \"v\", \"showlegend\": true, \"textposition\": \"auto\", \"type\": \"bar\", \"x\": [\"972.9 -> 727.7\"], \"xaxis\": \"x\", \"y\": [21032.461456298828], \"yaxis\": \"y\"}, {\"alignmentgroup\": \"True\", \"customdata\": [[\"[TG(60:9),TG(59:2)]_FA14:0\", \"TAG\"]], \"hovertemplate\": \"Lipid=%{customdata[0]}<br>Transition=%{x}<br>Intensity=%{y}<br>Class=%{customdata[1]}<extra></extra>\", \"legendgroup\": \"[TG(60:9),TG(59:2)]_FA14:0\", \"marker\": {\"color\": \"#FECB52\"}, \"name\": \"[TG(60:9),TG(59:2)]_FA14:0\", \"offsetgroup\": \"[TG(60:9),TG(59:2)]_FA14:0\", \"orientation\": \"v\", \"showlegend\": true, \"textposition\": \"auto\", \"type\": \"bar\", \"x\": [\"974.9 -> 729.7\"], \"xaxis\": \"x\", \"y\": [15778.50112915039], \"yaxis\": \"y\"}, {\"alignmentgroup\": \"True\", \"customdata\": [[\"[TG(60:8),TG(59:1)]_FA14:0\", \"TAG\"]], \"hovertemplate\": \"Lipid=%{customdata[0]}<br>Transition=%{x}<br>Intensity=%{y}<br>Class=%{customdata[1]}<extra></extra>\", \"legendgroup\": \"[TG(60:8),TG(59:1)]_FA14:0\", \"marker\": {\"color\": \"#636efa\"}, \"name\": \"[TG(60:8),TG(59:1)]_FA14:0\", \"offsetgroup\": \"[TG(60:8),TG(59:1)]_FA14:0\", \"orientation\": \"v\", \"showlegend\": true, \"textposition\": \"auto\", \"type\": \"bar\", \"x\": [\"976.9 -> 731.7\"], \"xaxis\": \"x\", \"y\": [13972.840942382812], \"yaxis\": \"y\"}, {\"alignmentgroup\": \"True\", \"customdata\": [[\"[TG(61:14),TG(60:7),TG(59:0)]_FA14:0\", \"TAG\"]], \"hovertemplate\": \"Lipid=%{customdata[0]}<br>Transition=%{x}<br>Intensity=%{y}<br>Class=%{customdata[1]}<extra></extra>\", \"legendgroup\": \"[TG(61:14),TG(60:7),TG(59:0)]_FA14:0\", \"marker\": {\"color\": \"#EF553B\"}, \"name\": \"[TG(61:14),TG(60:7),TG(59:0)]_FA14:0\", \"offsetgroup\": \"[TG(61:14),TG(60:7),TG(59:0)]_FA14:0\", \"orientation\": \"v\", \"showlegend\": true, \"textposition\": \"auto\", \"type\": \"bar\", \"x\": [\"978.9 -> 733.7\"], \"xaxis\": \"x\", \"y\": [15361.26107788086], \"yaxis\": \"y\"}, {\"alignmentgroup\": \"True\", \"customdata\": [[\"[TG(61:13),TG(60:6)]_FA14:0\", \"TAG\"]], \"hovertemplate\": \"Lipid=%{customdata[0]}<br>Transition=%{x}<br>Intensity=%{y}<br>Class=%{customdata[1]}<extra></extra>\", \"legendgroup\": \"[TG(61:13),TG(60:6)]_FA14:0\", \"marker\": {\"color\": \"#00cc96\"}, \"name\": \"[TG(61:13),TG(60:6)]_FA14:0\", \"offsetgroup\": \"[TG(61:13),TG(60:6)]_FA14:0\", \"orientation\": \"v\", \"showlegend\": true, \"textposition\": \"auto\", \"type\": \"bar\", \"x\": [\"980.9 -> 735.7\"], \"xaxis\": \"x\", \"y\": [14665.92106628418], \"yaxis\": \"y\"}, {\"alignmentgroup\": \"True\", \"customdata\": [[\"[TG(61:12),TG(60:5)]_FA14:0\", \"TAG\"]], \"hovertemplate\": \"Lipid=%{customdata[0]}<br>Transition=%{x}<br>Intensity=%{y}<br>Class=%{customdata[1]}<extra></extra>\", \"legendgroup\": \"[TG(61:12),TG(60:5)]_FA14:0\", \"marker\": {\"color\": \"#ab63fa\"}, \"name\": \"[TG(61:12),TG(60:5)]_FA14:0\", \"offsetgroup\": \"[TG(61:12),TG(60:5)]_FA14:0\", \"orientation\": \"v\", \"showlegend\": true, \"textposition\": \"auto\", \"type\": \"bar\", \"x\": [\"982.9 -> 737.7\"], \"xaxis\": \"x\", \"y\": [12983.740997314453], \"yaxis\": \"y\"}, {\"alignmentgroup\": \"True\", \"customdata\": [[\"[TG(61:11),TG(60:4)]_FA14:0\", \"TAG\"]], \"hovertemplate\": \"Lipid=%{customdata[0]}<br>Transition=%{x}<br>Intensity=%{y}<br>Class=%{customdata[1]}<extra></extra>\", \"legendgroup\": \"[TG(61:11),TG(60:4)]_FA14:0\", \"marker\": {\"color\": \"#FFA15A\"}, \"name\": \"[TG(61:11),TG(60:4)]_FA14:0\", \"offsetgroup\": \"[TG(61:11),TG(60:4)]_FA14:0\", \"orientation\": \"v\", \"showlegend\": true, \"textposition\": \"auto\", \"type\": \"bar\", \"x\": [\"984.9 -> 739.7\"], \"xaxis\": \"x\", \"y\": [16507.40118408203], \"yaxis\": \"y\"}, {\"alignmentgroup\": \"True\", \"customdata\": [[\"[TG(61:10),TG(60:3)]_FA14:0\", \"TAG\"]], \"hovertemplate\": \"Lipid=%{customdata[0]}<br>Transition=%{x}<br>Intensity=%{y}<br>Class=%{customdata[1]}<extra></extra>\", \"legendgroup\": \"[TG(61:10),TG(60:3)]_FA14:0\", \"marker\": {\"color\": \"#19d3f3\"}, \"name\": \"[TG(61:10),TG(60:3)]_FA14:0\", \"offsetgroup\": \"[TG(61:10),TG(60:3)]_FA14:0\", \"orientation\": \"v\", \"showlegend\": true, \"textposition\": \"auto\", \"type\": \"bar\", \"x\": [\"986.9 -> 741.7\"], \"xaxis\": \"x\", \"y\": [15164.080978393555], \"yaxis\": \"y\"}, {\"alignmentgroup\": \"True\", \"customdata\": [[\"[TG(62:16),TG(61:9),TG(60:2)]_FA14:0\", \"TAG\"]], \"hovertemplate\": \"Lipid=%{customdata[0]}<br>Transition=%{x}<br>Intensity=%{y}<br>Class=%{customdata[1]}<extra></extra>\", \"legendgroup\": \"[TG(62:16),TG(61:9),TG(60:2)]_FA14:0\", \"marker\": {\"color\": \"#FF6692\"}, \"name\": \"[TG(62:16),TG(61:9),TG(60:2)]_FA14:0\", \"offsetgroup\": \"[TG(62:16),TG(61:9),TG(60:2)]_FA14:0\", \"orientation\": \"v\", \"showlegend\": true, \"textposition\": \"auto\", \"type\": \"bar\", \"x\": [\"988.9 -> 743.7\"], \"xaxis\": \"x\", \"y\": [16115.021049499512], \"yaxis\": \"y\"}, {\"alignmentgroup\": \"True\", \"customdata\": [[\"[TG(62:15),TG(61:8),TG(60:1)]_FA14:0\", \"TAG\"]], \"hovertemplate\": \"Lipid=%{customdata[0]}<br>Transition=%{x}<br>Intensity=%{y}<br>Class=%{customdata[1]}<extra></extra>\", \"legendgroup\": \"[TG(62:15),TG(61:8),TG(60:1)]_FA14:0\", \"marker\": {\"color\": \"#B6E880\"}, \"name\": \"[TG(62:15),TG(61:8),TG(60:1)]_FA14:0\", \"offsetgroup\": \"[TG(62:15),TG(61:8),TG(60:1)]_FA14:0\", \"orientation\": \"v\", \"showlegend\": true, \"textposition\": \"auto\", \"type\": \"bar\", \"x\": [\"990.9 -> 745.7\"], \"xaxis\": \"x\", \"y\": [14670.80093383789], \"yaxis\": \"y\"}, {\"alignmentgroup\": \"True\", \"customdata\": [[\"[TG(62:14),TG(61:7),TG(60:0)]_FA14:0\", \"TAG\"]], \"hovertemplate\": \"Lipid=%{customdata[0]}<br>Transition=%{x}<br>Intensity=%{y}<br>Class=%{customdata[1]}<extra></extra>\", \"legendgroup\": \"[TG(62:14),TG(61:7),TG(60:0)]_FA14:0\", \"marker\": {\"color\": \"#FF97FF\"}, \"name\": \"[TG(62:14),TG(61:7),TG(60:0)]_FA14:0\", \"offsetgroup\": \"[TG(62:14),TG(61:7),TG(60:0)]_FA14:0\", \"orientation\": \"v\", \"showlegend\": true, \"textposition\": \"auto\", \"type\": \"bar\", \"x\": [\"993.0 -> 747.8\"], \"xaxis\": \"x\", \"y\": [11676.520835876465], \"yaxis\": \"y\"}, {\"alignmentgroup\": \"True\", \"customdata\": [[\"[TG(62:13),TG(61:6)]_FA14:0\", \"TAG\"]], \"hovertemplate\": \"Lipid=%{customdata[0]}<br>Transition=%{x}<br>Intensity=%{y}<br>Class=%{customdata[1]}<extra></extra>\", \"legendgroup\": \"[TG(62:13),TG(61:6)]_FA14:0\", \"marker\": {\"color\": \"#FECB52\"}, \"name\": \"[TG(62:13),TG(61:6)]_FA14:0\", \"offsetgroup\": \"[TG(62:13),TG(61:6)]_FA14:0\", \"orientation\": \"v\", \"showlegend\": true, \"textposition\": \"auto\", \"type\": \"bar\", \"x\": [\"994.9 -> 749.7\"], \"xaxis\": \"x\", \"y\": [12641.240867614746], \"yaxis\": \"y\"}, {\"alignmentgroup\": \"True\", \"customdata\": [[\"[TG(62:12),TG(61:5)]_FA14:0\", \"TAG\"]], \"hovertemplate\": \"Lipid=%{customdata[0]}<br>Transition=%{x}<br>Intensity=%{y}<br>Class=%{customdata[1]}<extra></extra>\", \"legendgroup\": \"[TG(62:12),TG(61:5)]_FA14:0\", \"marker\": {\"color\": \"#636efa\"}, \"name\": \"[TG(62:12),TG(61:5)]_FA14:0\", \"offsetgroup\": \"[TG(62:12),TG(61:5)]_FA14:0\", \"orientation\": \"v\", \"showlegend\": true, \"textposition\": \"auto\", \"type\": \"bar\", \"x\": [\"996.9 -> 751.7\"], \"xaxis\": \"x\", \"y\": [14229.900955200195], \"yaxis\": \"y\"}, {\"alignmentgroup\": \"True\", \"customdata\": [[\"[TG(62:11),TG(61:4)]_FA14:0\", \"TAG\"]], \"hovertemplate\": \"Lipid=%{customdata[0]}<br>Transition=%{x}<br>Intensity=%{y}<br>Class=%{customdata[1]}<extra></extra>\", \"legendgroup\": \"[TG(62:11),TG(61:4)]_FA14:0\", \"marker\": {\"color\": \"#EF553B\"}, \"name\": \"[TG(62:11),TG(61:4)]_FA14:0\", \"offsetgroup\": \"[TG(62:11),TG(61:4)]_FA14:0\", \"orientation\": \"v\", \"showlegend\": true, \"textposition\": \"auto\", \"type\": \"bar\", \"x\": [\"998.9 -> 753.7\"], \"xaxis\": \"x\", \"y\": [14026.561004638672], \"yaxis\": \"y\"}, {\"alignmentgroup\": \"True\", \"customdata\": [[\"[TG(62:10),TG(61:3)]_FA14:0\", \"TAG\"]], \"hovertemplate\": \"Lipid=%{customdata[0]}<br>Transition=%{x}<br>Intensity=%{y}<br>Class=%{customdata[1]}<extra></extra>\", \"legendgroup\": \"[TG(62:10),TG(61:3)]_FA14:0\", \"marker\": {\"color\": \"#00cc96\"}, \"name\": \"[TG(62:10),TG(61:3)]_FA14:0\", \"offsetgroup\": \"[TG(62:10),TG(61:3)]_FA14:0\", \"orientation\": \"v\", \"showlegend\": true, \"textposition\": \"auto\", \"type\": \"bar\", \"x\": [\"1000.9 -> 755.7\"], \"xaxis\": \"x\", \"y\": [13990.720977783203], \"yaxis\": \"y\"}, {\"alignmentgroup\": \"True\", \"customdata\": [[\"[TG(62:9),TG(61:2)]_FA14:0\", \"TAG\"]], \"hovertemplate\": \"Lipid=%{customdata[0]}<br>Transition=%{x}<br>Intensity=%{y}<br>Class=%{customdata[1]}<extra></extra>\", \"legendgroup\": \"[TG(62:9),TG(61:2)]_FA14:0\", \"marker\": {\"color\": \"#ab63fa\"}, \"name\": \"[TG(62:9),TG(61:2)]_FA14:0\", \"offsetgroup\": \"[TG(62:9),TG(61:2)]_FA14:0\", \"orientation\": \"v\", \"showlegend\": true, \"textposition\": \"auto\", \"type\": \"bar\", \"x\": [\"1002.9 -> 757.7\"], \"xaxis\": \"x\", \"y\": [14917.441131591797], \"yaxis\": \"y\"}, {\"alignmentgroup\": \"True\", \"customdata\": [[\"[TG(62:8),TG(61:1)]_FA14:0\", \"TAG\"]], \"hovertemplate\": \"Lipid=%{customdata[0]}<br>Transition=%{x}<br>Intensity=%{y}<br>Class=%{customdata[1]}<extra></extra>\", \"legendgroup\": \"[TG(62:8),TG(61:1)]_FA14:0\", \"marker\": {\"color\": \"#FFA15A\"}, \"name\": \"[TG(62:8),TG(61:1)]_FA14:0\", \"offsetgroup\": \"[TG(62:8),TG(61:1)]_FA14:0\", \"orientation\": \"v\", \"showlegend\": true, \"textposition\": \"auto\", \"type\": \"bar\", \"x\": [\"1005.0 -> 759.8\"], \"xaxis\": \"x\", \"y\": [14691.960952758789], \"yaxis\": \"y\"}, {\"alignmentgroup\": \"True\", \"customdata\": [[\"[TG(62:7),TG(61:0)]_FA14:0\", \"TAG\"]], \"hovertemplate\": \"Lipid=%{customdata[0]}<br>Transition=%{x}<br>Intensity=%{y}<br>Class=%{customdata[1]}<extra></extra>\", \"legendgroup\": \"[TG(62:7),TG(61:0)]_FA14:0\", \"marker\": {\"color\": \"#19d3f3\"}, \"name\": \"[TG(62:7),TG(61:0)]_FA14:0\", \"offsetgroup\": \"[TG(62:7),TG(61:0)]_FA14:0\", \"orientation\": \"v\", \"showlegend\": true, \"textposition\": \"auto\", \"type\": \"bar\", \"x\": [\"1007.0 -> 761.8\"], \"xaxis\": \"x\", \"y\": [12988.200942993164], \"yaxis\": \"y\"}, {\"alignmentgroup\": \"True\", \"customdata\": [[\"[TG(63:13),TG(62:6)]_FA14:0\", \"TAG\"]], \"hovertemplate\": \"Lipid=%{customdata[0]}<br>Transition=%{x}<br>Intensity=%{y}<br>Class=%{customdata[1]}<extra></extra>\", \"legendgroup\": \"[TG(63:13),TG(62:6)]_FA14:0\", \"marker\": {\"color\": \"#FF6692\"}, \"name\": \"[TG(63:13),TG(62:6)]_FA14:0\", \"offsetgroup\": \"[TG(63:13),TG(62:6)]_FA14:0\", \"orientation\": \"v\", \"showlegend\": true, \"textposition\": \"auto\", \"type\": \"bar\", \"x\": [\"1008.9 -> 763.7\"], \"xaxis\": \"x\", \"y\": [13342.720916748047], \"yaxis\": \"y\"}, {\"alignmentgroup\": \"True\", \"customdata\": [[\"[TG(63:12),TG(62:5)]_FA14:0\", \"TAG\"]], \"hovertemplate\": \"Lipid=%{customdata[0]}<br>Transition=%{x}<br>Intensity=%{y}<br>Class=%{customdata[1]}<extra></extra>\", \"legendgroup\": \"[TG(63:12),TG(62:5)]_FA14:0\", \"marker\": {\"color\": \"#B6E880\"}, \"name\": \"[TG(63:12),TG(62:5)]_FA14:0\", \"offsetgroup\": \"[TG(63:12),TG(62:5)]_FA14:0\", \"orientation\": \"v\", \"showlegend\": true, \"textposition\": \"auto\", \"type\": \"bar\", \"x\": [\"1010.9 -> 765.7\"], \"xaxis\": \"x\", \"y\": [14266.48112487793], \"yaxis\": \"y\"}, {\"alignmentgroup\": \"True\", \"customdata\": [[\"[TG(63:11),TG(62:4)]_FA14:0\", \"TAG\"]], \"hovertemplate\": \"Lipid=%{customdata[0]}<br>Transition=%{x}<br>Intensity=%{y}<br>Class=%{customdata[1]}<extra></extra>\", \"legendgroup\": \"[TG(63:11),TG(62:4)]_FA14:0\", \"marker\": {\"color\": \"#FF97FF\"}, \"name\": \"[TG(63:11),TG(62:4)]_FA14:0\", \"offsetgroup\": \"[TG(63:11),TG(62:4)]_FA14:0\", \"orientation\": \"v\", \"showlegend\": true, \"textposition\": \"auto\", \"type\": \"bar\", \"x\": [\"1012.9 -> 767.7\"], \"xaxis\": \"x\", \"y\": [13126.080932617188], \"yaxis\": \"y\"}, {\"alignmentgroup\": \"True\", \"customdata\": [[\"[TG(64:17),TG(63:10),TG(62:3)]_FA14:0\", \"TAG\"]], \"hovertemplate\": \"Lipid=%{customdata[0]}<br>Transition=%{x}<br>Intensity=%{y}<br>Class=%{customdata[1]}<extra></extra>\", \"legendgroup\": \"[TG(64:17),TG(63:10),TG(62:3)]_FA14:0\", \"marker\": {\"color\": \"#FECB52\"}, \"name\": \"[TG(64:17),TG(63:10),TG(62:3)]_FA14:0\", \"offsetgroup\": \"[TG(64:17),TG(63:10),TG(62:3)]_FA14:0\", \"orientation\": \"v\", \"showlegend\": true, \"textposition\": \"auto\", \"type\": \"bar\", \"x\": [\"1014.9 -> 769.7\"], \"xaxis\": \"x\", \"y\": [13007.560943603516], \"yaxis\": \"y\"}, {\"alignmentgroup\": \"True\", \"customdata\": [[\"[TG(64:16),TG(63:9),TG(62:2)]_FA14:0\", \"TAG\"]], \"hovertemplate\": \"Lipid=%{customdata[0]}<br>Transition=%{x}<br>Intensity=%{y}<br>Class=%{customdata[1]}<extra></extra>\", \"legendgroup\": \"[TG(64:16),TG(63:9),TG(62:2)]_FA14:0\", \"marker\": {\"color\": \"#636efa\"}, \"name\": \"[TG(64:16),TG(63:9),TG(62:2)]_FA14:0\", \"offsetgroup\": \"[TG(64:16),TG(63:9),TG(62:2)]_FA14:0\", \"orientation\": \"v\", \"showlegend\": true, \"textposition\": \"auto\", \"type\": \"bar\", \"x\": [\"1017.0 -> 771.8\"], \"xaxis\": \"x\", \"y\": [15978.181114196777], \"yaxis\": \"y\"}, {\"alignmentgroup\": \"True\", \"customdata\": [[\"[TG(64:15),TG(63:8),TG(62:1)]_FA14:0\", \"TAG\"]], \"hovertemplate\": \"Lipid=%{customdata[0]}<br>Transition=%{x}<br>Intensity=%{y}<br>Class=%{customdata[1]}<extra></extra>\", \"legendgroup\": \"[TG(64:15),TG(63:8),TG(62:1)]_FA14:0\", \"marker\": {\"color\": \"#EF553B\"}, \"name\": \"[TG(64:15),TG(63:8),TG(62:1)]_FA14:0\", \"offsetgroup\": \"[TG(64:15),TG(63:8),TG(62:1)]_FA14:0\", \"orientation\": \"v\", \"showlegend\": true, \"textposition\": \"auto\", \"type\": \"bar\", \"x\": [\"1019.0 -> 773.8\"], \"xaxis\": \"x\", \"y\": [14954.541114807129], \"yaxis\": \"y\"}, {\"alignmentgroup\": \"True\", \"customdata\": [[\"[TG(64:14),TG(63:7),TG(62:0)]_FA14:0\", \"TAG\"]], \"hovertemplate\": \"Lipid=%{customdata[0]}<br>Transition=%{x}<br>Intensity=%{y}<br>Class=%{customdata[1]}<extra></extra>\", \"legendgroup\": \"[TG(64:14),TG(63:7),TG(62:0)]_FA14:0\", \"marker\": {\"color\": \"#00cc96\"}, \"name\": \"[TG(64:14),TG(63:7),TG(62:0)]_FA14:0\", \"offsetgroup\": \"[TG(64:14),TG(63:7),TG(62:0)]_FA14:0\", \"orientation\": \"v\", \"showlegend\": true, \"textposition\": \"auto\", \"type\": \"bar\", \"x\": [\"1021.0 -> 775.8\"], \"xaxis\": \"x\", \"y\": [12710.70083618164], \"yaxis\": \"y\"}, {\"alignmentgroup\": \"True\", \"customdata\": [[\"[TG(64:13),TG(63:6)]_FA14:0\", \"TAG\"]], \"hovertemplate\": \"Lipid=%{customdata[0]}<br>Transition=%{x}<br>Intensity=%{y}<br>Class=%{customdata[1]}<extra></extra>\", \"legendgroup\": \"[TG(64:13),TG(63:6)]_FA14:0\", \"marker\": {\"color\": \"#ab63fa\"}, \"name\": \"[TG(64:13),TG(63:6)]_FA14:0\", \"offsetgroup\": \"[TG(64:13),TG(63:6)]_FA14:0\", \"orientation\": \"v\", \"showlegend\": true, \"textposition\": \"auto\", \"type\": \"bar\", \"x\": [\"1022.9 -> 777.7\"], \"xaxis\": \"x\", \"y\": [14045.280990600586], \"yaxis\": \"y\"}, {\"alignmentgroup\": \"True\", \"customdata\": [[\"[TG(64:12),TG(63:5)]_FA14:0\", \"TAG\"]], \"hovertemplate\": \"Lipid=%{customdata[0]}<br>Transition=%{x}<br>Intensity=%{y}<br>Class=%{customdata[1]}<extra></extra>\", \"legendgroup\": \"[TG(64:12),TG(63:5)]_FA14:0\", \"marker\": {\"color\": \"#FFA15A\"}, \"name\": \"[TG(64:12),TG(63:5)]_FA14:0\", \"offsetgroup\": \"[TG(64:12),TG(63:5)]_FA14:0\", \"orientation\": \"v\", \"showlegend\": true, \"textposition\": \"auto\", \"type\": \"bar\", \"x\": [\"1024.9 -> 779.7\"], \"xaxis\": \"x\", \"y\": [14086.260986328125], \"yaxis\": \"y\"}, {\"alignmentgroup\": \"True\", \"customdata\": [[\"[TG(64:11),TG(63:4)]_FA14:0\", \"TAG\"]], \"hovertemplate\": \"Lipid=%{customdata[0]}<br>Transition=%{x}<br>Intensity=%{y}<br>Class=%{customdata[1]}<extra></extra>\", \"legendgroup\": \"[TG(64:11),TG(63:4)]_FA14:0\", \"marker\": {\"color\": \"#19d3f3\"}, \"name\": \"[TG(64:11),TG(63:4)]_FA14:0\", \"offsetgroup\": \"[TG(64:11),TG(63:4)]_FA14:0\", \"orientation\": \"v\", \"showlegend\": true, \"textposition\": \"auto\", \"type\": \"bar\", \"x\": [\"1026.9 -> 781.7\"], \"xaxis\": \"x\", \"y\": [12927.800796508789], \"yaxis\": \"y\"}, {\"alignmentgroup\": \"True\", \"customdata\": [[\"[TG(64:10),TG(63:3)]_FA14:0\", \"TAG\"]], \"hovertemplate\": \"Lipid=%{customdata[0]}<br>Transition=%{x}<br>Intensity=%{y}<br>Class=%{customdata[1]}<extra></extra>\", \"legendgroup\": \"[TG(64:10),TG(63:3)]_FA14:0\", \"marker\": {\"color\": \"#FF6692\"}, \"name\": \"[TG(64:10),TG(63:3)]_FA14:0\", \"offsetgroup\": \"[TG(64:10),TG(63:3)]_FA14:0\", \"orientation\": \"v\", \"showlegend\": true, \"textposition\": \"auto\", \"type\": \"bar\", \"x\": [\"1029.0 -> 783.8\"], \"xaxis\": \"x\", \"y\": [10637.140739440918], \"yaxis\": \"y\"}, {\"alignmentgroup\": \"True\", \"customdata\": [[\"[TG(64:9),TG(63:2)]_FA14:0\", \"TAG\"]], \"hovertemplate\": \"Lipid=%{customdata[0]}<br>Transition=%{x}<br>Intensity=%{y}<br>Class=%{customdata[1]}<extra></extra>\", \"legendgroup\": \"[TG(64:9),TG(63:2)]_FA14:0\", \"marker\": {\"color\": \"#B6E880\"}, \"name\": \"[TG(64:9),TG(63:2)]_FA14:0\", \"offsetgroup\": \"[TG(64:9),TG(63:2)]_FA14:0\", \"orientation\": \"v\", \"showlegend\": true, \"textposition\": \"auto\", \"type\": \"bar\", \"x\": [\"1031.0 -> 785.8\"], \"xaxis\": \"x\", \"y\": [13033.880912780762], \"yaxis\": \"y\"}, {\"alignmentgroup\": \"True\", \"customdata\": [[\"[TG(64:8),TG(63:1)]_FA14:0\", \"TAG\"]], \"hovertemplate\": \"Lipid=%{customdata[0]}<br>Transition=%{x}<br>Intensity=%{y}<br>Class=%{customdata[1]}<extra></extra>\", \"legendgroup\": \"[TG(64:8),TG(63:1)]_FA14:0\", \"marker\": {\"color\": \"#FF97FF\"}, \"name\": \"[TG(64:8),TG(63:1)]_FA14:0\", \"offsetgroup\": \"[TG(64:8),TG(63:1)]_FA14:0\", \"orientation\": \"v\", \"showlegend\": true, \"textposition\": \"auto\", \"type\": \"bar\", \"x\": [\"1033.0 -> 787.8\"], \"xaxis\": \"x\", \"y\": [13134.800857543945], \"yaxis\": \"y\"}, {\"alignmentgroup\": \"True\", \"customdata\": [[\"[TG(64:7),TG(63:0)]_FA14:0\", \"TAG\"]], \"hovertemplate\": \"Lipid=%{customdata[0]}<br>Transition=%{x}<br>Intensity=%{y}<br>Class=%{customdata[1]}<extra></extra>\", \"legendgroup\": \"[TG(64:7),TG(63:0)]_FA14:0\", \"marker\": {\"color\": \"#FECB52\"}, \"name\": \"[TG(64:7),TG(63:0)]_FA14:0\", \"offsetgroup\": \"[TG(64:7),TG(63:0)]_FA14:0\", \"orientation\": \"v\", \"showlegend\": true, \"textposition\": \"auto\", \"type\": \"bar\", \"x\": [\"1035.0 -> 789.8\"], \"xaxis\": \"x\", \"y\": [12264.380752563477], \"yaxis\": \"y\"}, {\"alignmentgroup\": \"True\", \"customdata\": [[\"[TG(64:6)]_FA14:0\", \"TAG\"]], \"hovertemplate\": \"Lipid=%{customdata[0]}<br>Transition=%{x}<br>Intensity=%{y}<br>Class=%{customdata[1]}<extra></extra>\", \"legendgroup\": \"[TG(64:6)]_FA14:0\", \"marker\": {\"color\": \"#636efa\"}, \"name\": \"[TG(64:6)]_FA14:0\", \"offsetgroup\": \"[TG(64:6)]_FA14:0\", \"orientation\": \"v\", \"showlegend\": true, \"textposition\": \"auto\", \"type\": \"bar\", \"x\": [\"1036.9 -> 791.7\"], \"xaxis\": \"x\", \"y\": [13273.14094543457], \"yaxis\": \"y\"}, {\"alignmentgroup\": \"True\", \"customdata\": [[\"[TG(65:12),TG(64:5)]_FA14:0\", \"TAG\"]], \"hovertemplate\": \"Lipid=%{customdata[0]}<br>Transition=%{x}<br>Intensity=%{y}<br>Class=%{customdata[1]}<extra></extra>\", \"legendgroup\": \"[TG(65:12),TG(64:5)]_FA14:0\", \"marker\": {\"color\": \"#EF553B\"}, \"name\": \"[TG(65:12),TG(64:5)]_FA14:0\", \"offsetgroup\": \"[TG(65:12),TG(64:5)]_FA14:0\", \"orientation\": \"v\", \"showlegend\": true, \"textposition\": \"auto\", \"type\": \"bar\", \"x\": [\"1038.9 -> 793.7\"], \"xaxis\": \"x\", \"y\": [20100.661331176758], \"yaxis\": \"y\"}, {\"alignmentgroup\": \"True\", \"customdata\": [[\"[TG(66:18),TG(65:11),TG(64:4)]_FA14:0\", \"TAG\"]], \"hovertemplate\": \"Lipid=%{customdata[0]}<br>Transition=%{x}<br>Intensity=%{y}<br>Class=%{customdata[1]}<extra></extra>\", \"legendgroup\": \"[TG(66:18),TG(65:11),TG(64:4)]_FA14:0\", \"marker\": {\"color\": \"#00cc96\"}, \"name\": \"[TG(66:18),TG(65:11),TG(64:4)]_FA14:0\", \"offsetgroup\": \"[TG(66:18),TG(65:11),TG(64:4)]_FA14:0\", \"orientation\": \"v\", \"showlegend\": true, \"textposition\": \"auto\", \"type\": \"bar\", \"x\": [\"1041.0 -> 795.8\"], \"xaxis\": \"x\", \"y\": [12335.680953979492], \"yaxis\": \"y\"}, {\"alignmentgroup\": \"True\", \"customdata\": [[\"[TG(66:17),TG(65:10),TG(64:3)]_FA14:0\", \"TAG\"]], \"hovertemplate\": \"Lipid=%{customdata[0]}<br>Transition=%{x}<br>Intensity=%{y}<br>Class=%{customdata[1]}<extra></extra>\", \"legendgroup\": \"[TG(66:17),TG(65:10),TG(64:3)]_FA14:0\", \"marker\": {\"color\": \"#ab63fa\"}, \"name\": \"[TG(66:17),TG(65:10),TG(64:3)]_FA14:0\", \"offsetgroup\": \"[TG(66:17),TG(65:10),TG(64:3)]_FA14:0\", \"orientation\": \"v\", \"showlegend\": true, \"textposition\": \"auto\", \"type\": \"bar\", \"x\": [\"1043.0 -> 797.8\"], \"xaxis\": \"x\", \"y\": [12561.440925598145], \"yaxis\": \"y\"}, {\"alignmentgroup\": \"True\", \"customdata\": [[\"[TG(66:16),TG(65:9),TG(64:2)]_FA14:0\", \"TAG\"]], \"hovertemplate\": \"Lipid=%{customdata[0]}<br>Transition=%{x}<br>Intensity=%{y}<br>Class=%{customdata[1]}<extra></extra>\", \"legendgroup\": \"[TG(66:16),TG(65:9),TG(64:2)]_FA14:0\", \"marker\": {\"color\": \"#FFA15A\"}, \"name\": \"[TG(66:16),TG(65:9),TG(64:2)]_FA14:0\", \"offsetgroup\": \"[TG(66:16),TG(65:9),TG(64:2)]_FA14:0\", \"orientation\": \"v\", \"showlegend\": true, \"textposition\": \"auto\", \"type\": \"bar\", \"x\": [\"1045.0 -> 799.8\"], \"xaxis\": \"x\", \"y\": [19396.041259765625], \"yaxis\": \"y\"}, {\"alignmentgroup\": \"True\", \"customdata\": [[\"[TG(66:15),TG(65:8),TG(64:1)]_FA14:0\", \"TAG\"]], \"hovertemplate\": \"Lipid=%{customdata[0]}<br>Transition=%{x}<br>Intensity=%{y}<br>Class=%{customdata[1]}<extra></extra>\", \"legendgroup\": \"[TG(66:15),TG(65:8),TG(64:1)]_FA14:0\", \"marker\": {\"color\": \"#19d3f3\"}, \"name\": \"[TG(66:15),TG(65:8),TG(64:1)]_FA14:0\", \"offsetgroup\": \"[TG(66:15),TG(65:8),TG(64:1)]_FA14:0\", \"orientation\": \"v\", \"showlegend\": true, \"textposition\": \"auto\", \"type\": \"bar\", \"x\": [\"1047.0 -> 801.8\"], \"xaxis\": \"x\", \"y\": [15101.360977172852], \"yaxis\": \"y\"}, {\"alignmentgroup\": \"True\", \"customdata\": [[\"[TG(66:14),TG(65:7),TG(64:0)]_FA14:0\", \"TAG\"]], \"hovertemplate\": \"Lipid=%{customdata[0]}<br>Transition=%{x}<br>Intensity=%{y}<br>Class=%{customdata[1]}<extra></extra>\", \"legendgroup\": \"[TG(66:14),TG(65:7),TG(64:0)]_FA14:0\", \"marker\": {\"color\": \"#FF6692\"}, \"name\": \"[TG(66:14),TG(65:7),TG(64:0)]_FA14:0\", \"offsetgroup\": \"[TG(66:14),TG(65:7),TG(64:0)]_FA14:0\", \"orientation\": \"v\", \"showlegend\": true, \"textposition\": \"auto\", \"type\": \"bar\", \"x\": [\"1049.0 -> 803.8\"], \"xaxis\": \"x\", \"y\": [15476.981079101562], \"yaxis\": \"y\"}, {\"alignmentgroup\": \"True\", \"customdata\": [[\"[TG(66:13),TG(65:6)]_FA14:0\", \"TAG\"]], \"hovertemplate\": \"Lipid=%{customdata[0]}<br>Transition=%{x}<br>Intensity=%{y}<br>Class=%{customdata[1]}<extra></extra>\", \"legendgroup\": \"[TG(66:13),TG(65:6)]_FA14:0\", \"marker\": {\"color\": \"#B6E880\"}, \"name\": \"[TG(66:13),TG(65:6)]_FA14:0\", \"offsetgroup\": \"[TG(66:13),TG(65:6)]_FA14:0\", \"orientation\": \"v\", \"showlegend\": true, \"textposition\": \"auto\", \"type\": \"bar\", \"x\": [\"1050.9 -> 805.7\"], \"xaxis\": \"x\", \"y\": [10396.680717468262], \"yaxis\": \"y\"}, {\"alignmentgroup\": \"True\", \"customdata\": [[\"[TG(66:12),TG(65:5)]_FA14:0\", \"TAG\"]], \"hovertemplate\": \"Lipid=%{customdata[0]}<br>Transition=%{x}<br>Intensity=%{y}<br>Class=%{customdata[1]}<extra></extra>\", \"legendgroup\": \"[TG(66:12),TG(65:5)]_FA14:0\", \"marker\": {\"color\": \"#FF97FF\"}, \"name\": \"[TG(66:12),TG(65:5)]_FA14:0\", \"offsetgroup\": \"[TG(66:12),TG(65:5)]_FA14:0\", \"orientation\": \"v\", \"showlegend\": true, \"textposition\": \"auto\", \"type\": \"bar\", \"x\": [\"1053.0 -> 807.8\"], \"xaxis\": \"x\", \"y\": [12281.800918579102], \"yaxis\": \"y\"}, {\"alignmentgroup\": \"True\", \"customdata\": [[\"[TG(66:11),TG(65:4)]_FA14:0\", \"TAG\"]], \"hovertemplate\": \"Lipid=%{customdata[0]}<br>Transition=%{x}<br>Intensity=%{y}<br>Class=%{customdata[1]}<extra></extra>\", \"legendgroup\": \"[TG(66:11),TG(65:4)]_FA14:0\", \"marker\": {\"color\": \"#FECB52\"}, \"name\": \"[TG(66:11),TG(65:4)]_FA14:0\", \"offsetgroup\": \"[TG(66:11),TG(65:4)]_FA14:0\", \"orientation\": \"v\", \"showlegend\": true, \"textposition\": \"auto\", \"type\": \"bar\", \"x\": [\"1055.0 -> 809.8\"], \"xaxis\": \"x\", \"y\": [12049.680938720703], \"yaxis\": \"y\"}, {\"alignmentgroup\": \"True\", \"customdata\": [[\"[TG(66:10),TG(65:3)]_FA14:0\", \"TAG\"]], \"hovertemplate\": \"Lipid=%{customdata[0]}<br>Transition=%{x}<br>Intensity=%{y}<br>Class=%{customdata[1]}<extra></extra>\", \"legendgroup\": \"[TG(66:10),TG(65:3)]_FA14:0\", \"marker\": {\"color\": \"#636efa\"}, \"name\": \"[TG(66:10),TG(65:3)]_FA14:0\", \"offsetgroup\": \"[TG(66:10),TG(65:3)]_FA14:0\", \"orientation\": \"v\", \"showlegend\": true, \"textposition\": \"auto\", \"type\": \"bar\", \"x\": [\"1057.0 -> 811.8\"], \"xaxis\": \"x\", \"y\": [11546.020881652832], \"yaxis\": \"y\"}, {\"alignmentgroup\": \"True\", \"customdata\": [[\"[TG(66:9),TG(65:2)]_FA14:0\", \"TAG\"]], \"hovertemplate\": \"Lipid=%{customdata[0]}<br>Transition=%{x}<br>Intensity=%{y}<br>Class=%{customdata[1]}<extra></extra>\", \"legendgroup\": \"[TG(66:9),TG(65:2)]_FA14:0\", \"marker\": {\"color\": \"#EF553B\"}, \"name\": \"[TG(66:9),TG(65:2)]_FA14:0\", \"offsetgroup\": \"[TG(66:9),TG(65:2)]_FA14:0\", \"orientation\": \"v\", \"showlegend\": true, \"textposition\": \"auto\", \"type\": \"bar\", \"x\": [\"1059.0 -> 813.8\"], \"xaxis\": \"x\", \"y\": [13140.541000366211], \"yaxis\": \"y\"}, {\"alignmentgroup\": \"True\", \"customdata\": [[\"[TG(66:8),TG(65:1)]_FA14:0\", \"TAG\"]], \"hovertemplate\": \"Lipid=%{customdata[0]}<br>Transition=%{x}<br>Intensity=%{y}<br>Class=%{customdata[1]}<extra></extra>\", \"legendgroup\": \"[TG(66:8),TG(65:1)]_FA14:0\", \"marker\": {\"color\": \"#00cc96\"}, \"name\": \"[TG(66:8),TG(65:1)]_FA14:0\", \"offsetgroup\": \"[TG(66:8),TG(65:1)]_FA14:0\", \"orientation\": \"v\", \"showlegend\": true, \"textposition\": \"auto\", \"type\": \"bar\", \"x\": [\"1061.0 -> 815.8\"], \"xaxis\": \"x\", \"y\": [14803.141014099121], \"yaxis\": \"y\"}, {\"alignmentgroup\": \"True\", \"customdata\": [[\"[TG(66:7)]_FA14:0\", \"TAG\"]], \"hovertemplate\": \"Lipid=%{customdata[0]}<br>Transition=%{x}<br>Intensity=%{y}<br>Class=%{customdata[1]}<extra></extra>\", \"legendgroup\": \"[TG(66:7)]_FA14:0\", \"marker\": {\"color\": \"#ab63fa\"}, \"name\": \"[TG(66:7)]_FA14:0\", \"offsetgroup\": \"[TG(66:7)]_FA14:0\", \"orientation\": \"v\", \"showlegend\": true, \"textposition\": \"auto\", \"type\": \"bar\", \"x\": [\"1062.9 -> 817.7\"], \"xaxis\": \"x\", \"y\": [13260.220840454102], \"yaxis\": \"y\"}, {\"alignmentgroup\": \"True\", \"customdata\": [[\"[TG(65:0)]_FA14:0\", \"TAG\"]], \"hovertemplate\": \"Lipid=%{customdata[0]}<br>Transition=%{x}<br>Intensity=%{y}<br>Class=%{customdata[1]}<extra></extra>\", \"legendgroup\": \"[TG(65:0)]_FA14:0\", \"marker\": {\"color\": \"#FFA15A\"}, \"name\": \"[TG(65:0)]_FA14:0\", \"offsetgroup\": \"[TG(65:0)]_FA14:0\", \"orientation\": \"v\", \"showlegend\": true, \"textposition\": \"auto\", \"type\": \"bar\", \"x\": [\"1063.0 -> 817.8\"], \"xaxis\": \"x\", \"y\": [15204.641082763672], \"yaxis\": \"y\"}, {\"alignmentgroup\": \"True\", \"customdata\": [[\"[TG(66:6)]_FA14:0\", \"TAG\"]], \"hovertemplate\": \"Lipid=%{customdata[0]}<br>Transition=%{x}<br>Intensity=%{y}<br>Class=%{customdata[1]}<extra></extra>\", \"legendgroup\": \"[TG(66:6)]_FA14:0\", \"marker\": {\"color\": \"#19d3f3\"}, \"name\": \"[TG(66:6)]_FA14:0\", \"offsetgroup\": \"[TG(66:6)]_FA14:0\", \"orientation\": \"v\", \"showlegend\": true, \"textposition\": \"auto\", \"type\": \"bar\", \"x\": [\"1065.0 -> 819.8\"], \"xaxis\": \"x\", \"y\": [11739.30093383789], \"yaxis\": \"y\"}, {\"alignmentgroup\": \"True\", \"customdata\": [[\"[TG(66:5)]_FA14:0\", \"TAG\"]], \"hovertemplate\": \"Lipid=%{customdata[0]}<br>Transition=%{x}<br>Intensity=%{y}<br>Class=%{customdata[1]}<extra></extra>\", \"legendgroup\": \"[TG(66:5)]_FA14:0\", \"marker\": {\"color\": \"#FF6692\"}, \"name\": \"[TG(66:5)]_FA14:0\", \"offsetgroup\": \"[TG(66:5)]_FA14:0\", \"orientation\": \"v\", \"showlegend\": true, \"textposition\": \"auto\", \"type\": \"bar\", \"x\": [\"1067.0 -> 821.8\"], \"xaxis\": \"x\", \"y\": [10289.58073425293], \"yaxis\": \"y\"}, {\"alignmentgroup\": \"True\", \"customdata\": [[\"[TG(66:4)]_FA14:0\", \"TAG\"]], \"hovertemplate\": \"Lipid=%{customdata[0]}<br>Transition=%{x}<br>Intensity=%{y}<br>Class=%{customdata[1]}<extra></extra>\", \"legendgroup\": \"[TG(66:4)]_FA14:0\", \"marker\": {\"color\": \"#B6E880\"}, \"name\": \"[TG(66:4)]_FA14:0\", \"offsetgroup\": \"[TG(66:4)]_FA14:0\", \"orientation\": \"v\", \"showlegend\": true, \"textposition\": \"auto\", \"type\": \"bar\", \"x\": [\"1069.0 -> 823.8\"], \"xaxis\": \"x\", \"y\": [11749.400787353516], \"yaxis\": \"y\"}, {\"alignmentgroup\": \"True\", \"customdata\": [[\"[TG(66:3)]_FA14:0\", \"TAG\"]], \"hovertemplate\": \"Lipid=%{customdata[0]}<br>Transition=%{x}<br>Intensity=%{y}<br>Class=%{customdata[1]}<extra></extra>\", \"legendgroup\": \"[TG(66:3)]_FA14:0\", \"marker\": {\"color\": \"#FF97FF\"}, \"name\": \"[TG(66:3)]_FA14:0\", \"offsetgroup\": \"[TG(66:3)]_FA14:0\", \"orientation\": \"v\", \"showlegend\": true, \"textposition\": \"auto\", \"type\": \"bar\", \"x\": [\"1071.0 -> 825.8\"], \"xaxis\": \"x\", \"y\": [12457.700866699219], \"yaxis\": \"y\"}, {\"alignmentgroup\": \"True\", \"customdata\": [[\"[TG(66:2)]_FA14:0\", \"TAG\"]], \"hovertemplate\": \"Lipid=%{customdata[0]}<br>Transition=%{x}<br>Intensity=%{y}<br>Class=%{customdata[1]}<extra></extra>\", \"legendgroup\": \"[TG(66:2)]_FA14:0\", \"marker\": {\"color\": \"#FECB52\"}, \"name\": \"[TG(66:2)]_FA14:0\", \"offsetgroup\": \"[TG(66:2)]_FA14:0\", \"orientation\": \"v\", \"showlegend\": true, \"textposition\": \"auto\", \"type\": \"bar\", \"x\": [\"1073.0 -> 827.8\"], \"xaxis\": \"x\", \"y\": [11174.560779571533], \"yaxis\": \"y\"}, {\"alignmentgroup\": \"True\", \"customdata\": [[\"[TG(66:1)]_FA14:0\", \"TAG\"]], \"hovertemplate\": \"Lipid=%{customdata[0]}<br>Transition=%{x}<br>Intensity=%{y}<br>Class=%{customdata[1]}<extra></extra>\", \"legendgroup\": \"[TG(66:1)]_FA14:0\", \"marker\": {\"color\": \"#636efa\"}, \"name\": \"[TG(66:1)]_FA14:0\", \"offsetgroup\": \"[TG(66:1)]_FA14:0\", \"orientation\": \"v\", \"showlegend\": true, \"textposition\": \"auto\", \"type\": \"bar\", \"x\": [\"1075.0 -> 829.8\"], \"xaxis\": \"x\", \"y\": [12249.820945739746], \"yaxis\": \"y\"}],                        {\"barmode\": \"relative\", \"legend\": {\"title\": {\"text\": \"Lipid\"}, \"tracegroupgap\": 0}, \"margin\": {\"t\": 60}, \"template\": {\"data\": {\"bar\": [{\"error_x\": {\"color\": \"#2a3f5f\"}, \"error_y\": {\"color\": \"#2a3f5f\"}, \"marker\": {\"line\": {\"color\": \"#E5ECF6\", \"width\": 0.5}}, \"type\": \"bar\"}], \"barpolar\": [{\"marker\": {\"line\": {\"color\": \"#E5ECF6\", \"width\": 0.5}}, \"type\": \"barpolar\"}], \"carpet\": [{\"aaxis\": {\"endlinecolor\": \"#2a3f5f\", \"gridcolor\": \"white\", \"linecolor\": \"white\", \"minorgridcolor\": \"white\", \"startlinecolor\": \"#2a3f5f\"}, \"baxis\": {\"endlinecolor\": \"#2a3f5f\", \"gridcolor\": \"white\", \"linecolor\": \"white\", \"minorgridcolor\": \"white\", \"startlinecolor\": \"#2a3f5f\"}, \"type\": \"carpet\"}], \"choropleth\": [{\"colorbar\": {\"outlinewidth\": 0, \"ticks\": \"\"}, \"type\": \"choropleth\"}], \"contour\": [{\"colorbar\": {\"outlinewidth\": 0, \"ticks\": \"\"}, \"colorscale\": [[0.0, \"#0d0887\"], [0.1111111111111111, \"#46039f\"], [0.2222222222222222, \"#7201a8\"], [0.3333333333333333, \"#9c179e\"], [0.4444444444444444, \"#bd3786\"], [0.5555555555555556, \"#d8576b\"], [0.6666666666666666, \"#ed7953\"], [0.7777777777777778, \"#fb9f3a\"], [0.8888888888888888, \"#fdca26\"], [1.0, \"#f0f921\"]], \"type\": \"contour\"}], \"contourcarpet\": [{\"colorbar\": {\"outlinewidth\": 0, \"ticks\": \"\"}, \"type\": \"contourcarpet\"}], \"heatmap\": [{\"colorbar\": {\"outlinewidth\": 0, \"ticks\": \"\"}, \"colorscale\": [[0.0, \"#0d0887\"], [0.1111111111111111, \"#46039f\"], [0.2222222222222222, \"#7201a8\"], [0.3333333333333333, \"#9c179e\"], [0.4444444444444444, \"#bd3786\"], [0.5555555555555556, \"#d8576b\"], [0.6666666666666666, \"#ed7953\"], [0.7777777777777778, \"#fb9f3a\"], [0.8888888888888888, \"#fdca26\"], [1.0, \"#f0f921\"]], \"type\": \"heatmap\"}], \"heatmapgl\": [{\"colorbar\": {\"outlinewidth\": 0, \"ticks\": \"\"}, \"colorscale\": [[0.0, \"#0d0887\"], [0.1111111111111111, \"#46039f\"], [0.2222222222222222, \"#7201a8\"], [0.3333333333333333, \"#9c179e\"], [0.4444444444444444, \"#bd3786\"], [0.5555555555555556, \"#d8576b\"], [0.6666666666666666, \"#ed7953\"], [0.7777777777777778, \"#fb9f3a\"], [0.8888888888888888, \"#fdca26\"], [1.0, \"#f0f921\"]], \"type\": \"heatmapgl\"}], \"histogram\": [{\"marker\": {\"colorbar\": {\"outlinewidth\": 0, \"ticks\": \"\"}}, \"type\": \"histogram\"}], \"histogram2d\": [{\"colorbar\": {\"outlinewidth\": 0, \"ticks\": \"\"}, \"colorscale\": [[0.0, \"#0d0887\"], [0.1111111111111111, \"#46039f\"], [0.2222222222222222, \"#7201a8\"], [0.3333333333333333, \"#9c179e\"], [0.4444444444444444, \"#bd3786\"], [0.5555555555555556, \"#d8576b\"], [0.6666666666666666, \"#ed7953\"], [0.7777777777777778, \"#fb9f3a\"], [0.8888888888888888, \"#fdca26\"], [1.0, \"#f0f921\"]], \"type\": \"histogram2d\"}], \"histogram2dcontour\": [{\"colorbar\": {\"outlinewidth\": 0, \"ticks\": \"\"}, \"colorscale\": [[0.0, \"#0d0887\"], [0.1111111111111111, \"#46039f\"], [0.2222222222222222, \"#7201a8\"], [0.3333333333333333, \"#9c179e\"], [0.4444444444444444, \"#bd3786\"], [0.5555555555555556, \"#d8576b\"], [0.6666666666666666, \"#ed7953\"], [0.7777777777777778, \"#fb9f3a\"], [0.8888888888888888, \"#fdca26\"], [1.0, \"#f0f921\"]], \"type\": \"histogram2dcontour\"}], \"mesh3d\": [{\"colorbar\": {\"outlinewidth\": 0, \"ticks\": \"\"}, \"type\": \"mesh3d\"}], \"parcoords\": [{\"line\": {\"colorbar\": {\"outlinewidth\": 0, \"ticks\": \"\"}}, \"type\": \"parcoords\"}], \"pie\": [{\"automargin\": true, \"type\": \"pie\"}], \"scatter\": [{\"marker\": {\"colorbar\": {\"outlinewidth\": 0, \"ticks\": \"\"}}, \"type\": \"scatter\"}], \"scatter3d\": [{\"line\": {\"colorbar\": {\"outlinewidth\": 0, \"ticks\": \"\"}}, \"marker\": {\"colorbar\": {\"outlinewidth\": 0, \"ticks\": \"\"}}, \"type\": \"scatter3d\"}], \"scattercarpet\": [{\"marker\": {\"colorbar\": {\"outlinewidth\": 0, \"ticks\": \"\"}}, \"type\": \"scattercarpet\"}], \"scattergeo\": [{\"marker\": {\"colorbar\": {\"outlinewidth\": 0, \"ticks\": \"\"}}, \"type\": \"scattergeo\"}], \"scattergl\": [{\"marker\": {\"colorbar\": {\"outlinewidth\": 0, \"ticks\": \"\"}}, \"type\": \"scattergl\"}], \"scattermapbox\": [{\"marker\": {\"colorbar\": {\"outlinewidth\": 0, \"ticks\": \"\"}}, \"type\": \"scattermapbox\"}], \"scatterpolar\": [{\"marker\": {\"colorbar\": {\"outlinewidth\": 0, \"ticks\": \"\"}}, \"type\": \"scatterpolar\"}], \"scatterpolargl\": [{\"marker\": {\"colorbar\": {\"outlinewidth\": 0, \"ticks\": \"\"}}, \"type\": \"scatterpolargl\"}], \"scatterternary\": [{\"marker\": {\"colorbar\": {\"outlinewidth\": 0, \"ticks\": \"\"}}, \"type\": \"scatterternary\"}], \"surface\": [{\"colorbar\": {\"outlinewidth\": 0, \"ticks\": \"\"}, \"colorscale\": [[0.0, \"#0d0887\"], [0.1111111111111111, \"#46039f\"], [0.2222222222222222, \"#7201a8\"], [0.3333333333333333, \"#9c179e\"], [0.4444444444444444, \"#bd3786\"], [0.5555555555555556, \"#d8576b\"], [0.6666666666666666, \"#ed7953\"], [0.7777777777777778, \"#fb9f3a\"], [0.8888888888888888, \"#fdca26\"], [1.0, \"#f0f921\"]], \"type\": \"surface\"}], \"table\": [{\"cells\": {\"fill\": {\"color\": \"#EBF0F8\"}, \"line\": {\"color\": \"white\"}}, \"header\": {\"fill\": {\"color\": \"#C8D4E3\"}, \"line\": {\"color\": \"white\"}}, \"type\": \"table\"}]}, \"layout\": {\"annotationdefaults\": {\"arrowcolor\": \"#2a3f5f\", \"arrowhead\": 0, \"arrowwidth\": 1}, \"coloraxis\": {\"colorbar\": {\"outlinewidth\": 0, \"ticks\": \"\"}}, \"colorscale\": {\"diverging\": [[0, \"#8e0152\"], [0.1, \"#c51b7d\"], [0.2, \"#de77ae\"], [0.3, \"#f1b6da\"], [0.4, \"#fde0ef\"], [0.5, \"#f7f7f7\"], [0.6, \"#e6f5d0\"], [0.7, \"#b8e186\"], [0.8, \"#7fbc41\"], [0.9, \"#4d9221\"], [1, \"#276419\"]], \"sequential\": [[0.0, \"#0d0887\"], [0.1111111111111111, \"#46039f\"], [0.2222222222222222, \"#7201a8\"], [0.3333333333333333, \"#9c179e\"], [0.4444444444444444, \"#bd3786\"], [0.5555555555555556, \"#d8576b\"], [0.6666666666666666, \"#ed7953\"], [0.7777777777777778, \"#fb9f3a\"], [0.8888888888888888, \"#fdca26\"], [1.0, \"#f0f921\"]], \"sequentialminus\": [[0.0, \"#0d0887\"], [0.1111111111111111, \"#46039f\"], [0.2222222222222222, \"#7201a8\"], [0.3333333333333333, \"#9c179e\"], [0.4444444444444444, \"#bd3786\"], [0.5555555555555556, \"#d8576b\"], [0.6666666666666666, \"#ed7953\"], [0.7777777777777778, \"#fb9f3a\"], [0.8888888888888888, \"#fdca26\"], [1.0, \"#f0f921\"]]}, \"colorway\": [\"#636efa\", \"#EF553B\", \"#00cc96\", \"#ab63fa\", \"#FFA15A\", \"#19d3f3\", \"#FF6692\", \"#B6E880\", \"#FF97FF\", \"#FECB52\"], \"font\": {\"color\": \"#2a3f5f\"}, \"geo\": {\"bgcolor\": \"white\", \"lakecolor\": \"white\", \"landcolor\": \"#E5ECF6\", \"showlakes\": true, \"showland\": true, \"subunitcolor\": \"white\"}, \"hoverlabel\": {\"align\": \"left\"}, \"hovermode\": \"closest\", \"mapbox\": {\"style\": \"light\"}, \"paper_bgcolor\": \"white\", \"plot_bgcolor\": \"#E5ECF6\", \"polar\": {\"angularaxis\": {\"gridcolor\": \"white\", \"linecolor\": \"white\", \"ticks\": \"\"}, \"bgcolor\": \"#E5ECF6\", \"radialaxis\": {\"gridcolor\": \"white\", \"linecolor\": \"white\", \"ticks\": \"\"}}, \"scene\": {\"xaxis\": {\"backgroundcolor\": \"#E5ECF6\", \"gridcolor\": \"white\", \"gridwidth\": 2, \"linecolor\": \"white\", \"showbackground\": true, \"ticks\": \"\", \"zerolinecolor\": \"white\"}, \"yaxis\": {\"backgroundcolor\": \"#E5ECF6\", \"gridcolor\": \"white\", \"gridwidth\": 2, \"linecolor\": \"white\", \"showbackground\": true, \"ticks\": \"\", \"zerolinecolor\": \"white\"}, \"zaxis\": {\"backgroundcolor\": \"#E5ECF6\", \"gridcolor\": \"white\", \"gridwidth\": 2, \"linecolor\": \"white\", \"showbackground\": true, \"ticks\": \"\", \"zerolinecolor\": \"white\"}}, \"shapedefaults\": {\"line\": {\"color\": \"#2a3f5f\"}}, \"ternary\": {\"aaxis\": {\"gridcolor\": \"white\", \"linecolor\": \"white\", \"ticks\": \"\"}, \"baxis\": {\"gridcolor\": \"white\", \"linecolor\": \"white\", \"ticks\": \"\"}, \"bgcolor\": \"#E5ECF6\", \"caxis\": {\"gridcolor\": \"white\", \"linecolor\": \"white\", \"ticks\": \"\"}}, \"title\": {\"x\": 0.05}, \"xaxis\": {\"automargin\": true, \"gridcolor\": \"white\", \"linecolor\": \"white\", \"ticks\": \"\", \"title\": {\"standoff\": 15}, \"zerolinecolor\": \"white\", \"zerolinewidth\": 2}, \"yaxis\": {\"automargin\": true, \"gridcolor\": \"white\", \"linecolor\": \"white\", \"ticks\": \"\", \"title\": {\"standoff\": 15}, \"zerolinecolor\": \"white\", \"zerolinewidth\": 2}}}, \"xaxis\": {\"anchor\": \"y\", \"domain\": [0.0, 1.0], \"title\": {\"text\": \"Transition\"}}, \"yaxis\": {\"anchor\": \"x\", \"domain\": [0.0, 1.0], \"title\": {\"text\": \"Intensity\"}}},                        {\"responsive\": true}                    ).then(function(){\n",
       "                            \n",
       "var gd = document.getElementById('21cdd450-6c0e-4e23-85e8-67f36a3f4ac2');\n",
       "var x = new MutationObserver(function (mutations, observer) {{\n",
       "        var display = window.getComputedStyle(gd).display;\n",
       "        if (!display || display === 'none') {{\n",
       "            console.log([gd, 'removed!']);\n",
       "            Plotly.purge(gd);\n",
       "            observer.disconnect();\n",
       "        }}\n",
       "}});\n",
       "\n",
       "// Listen for the removal of the full notebook cells\n",
       "var notebookContainer = gd.closest('#notebook-container');\n",
       "if (notebookContainer) {{\n",
       "    x.observe(notebookContainer, {childList: true});\n",
       "}}\n",
       "\n",
       "// Listen for the clearing of the current output cell\n",
       "var outputEl = gd.closest('.output');\n",
       "if (outputEl) {{\n",
       "    x.observe(outputEl, {childList: true});\n",
       "}}\n",
       "\n",
       "                        })                };                });            </script>        </div>"
      ]
     },
     "metadata": {},
     "output_type": "display_data"
    },
    {
     "data": {
      "application/vnd.plotly.v1+json": {
       "config": {
        "plotlyServerURL": "https://plot.ly"
       },
       "data": [
        {
         "alignmentgroup": "True",
         "customdata": [
          [
           "[TG(37:0)]_FA14:0",
           "TAG"
          ],
          [
           "[TG(38:1)]_FA14:0",
           "TAG"
          ],
          [
           "[TG(38:0)]_FA14:0",
           "TAG"
          ],
          [
           "[TG(39:1)]_FA14:0",
           "TAG"
          ],
          [
           "[TG(39:0)]_FA14:0",
           "TAG"
          ],
          [
           "[TG(40:2)]_FA14:0",
           "TAG"
          ],
          [
           "[TG(40:1)]_FA14:0",
           "TAG"
          ],
          [
           "[TG(40:0)]_FA14:0",
           "TAG"
          ],
          [
           "[TG(41:2)]_FA14:0",
           "TAG"
          ],
          [
           "[TG(41:1)]_FA14:0",
           "TAG"
          ],
          [
           "[TG(41:0)]_FA14:0",
           "TAG"
          ],
          [
           "[TG(42:4)]_FA14:0",
           "TAG"
          ],
          [
           "[TG(42:3)]_FA14:0",
           "TAG"
          ],
          [
           "[TG(42:2)]_FA14:0",
           "TAG"
          ],
          [
           "[TG(42:1)]_FA14:0",
           "TAG"
          ],
          [
           "[TG(42:0)]_FA14:0",
           "TAG"
          ],
          [
           "[TG(43:4)]_FA14:0",
           "TAG"
          ],
          [
           "[TG(43:3)]_FA14:0",
           "TAG"
          ],
          [
           "[TG(43:2)]_FA14:0",
           "TAG"
          ],
          [
           "[TG(43:1)]_FA14:0",
           "TAG"
          ],
          [
           "[TG(43:0)]_FA14:0",
           "TAG"
          ],
          [
           "[TG(44:5)]_FA14:0",
           "TAG"
          ],
          [
           "[TG(44:4)]_FA14:0",
           "TAG"
          ],
          [
           "[TG(44:3)]_FA14:0",
           "TAG"
          ],
          [
           "[TG(44:2)]_FA14:0",
           "TAG"
          ],
          [
           "[TG(44:1)]_FA14:0",
           "TAG"
          ],
          [
           "[TG(44:0),TG(O-45:0)]_FA14:0",
           "TAG"
          ],
          [
           "[TG(45:5)]_FA14:0",
           "TAG"
          ],
          [
           "[TG(45:4)]_FA14:0",
           "TAG"
          ],
          [
           "[TG(45:3)]_FA14:0",
           "TAG"
          ],
          [
           "[TG(45:2)]_FA14:0",
           "TAG"
          ],
          [
           "[TG(45:1)]_FA14:0",
           "TAG"
          ],
          [
           "[TG(45:0)]_FA14:0",
           "TAG"
          ],
          [
           "[TG(46:6)]_FA14:0",
           "TAG"
          ],
          [
           "[TG(46:5)]_FA14:0",
           "TAG"
          ],
          [
           "[TG(46:4)]_FA14:0",
           "TAG"
          ],
          [
           "[TG(46:3)]_FA14:0",
           "TAG"
          ],
          [
           "[TG(46:2)]_FA14:0",
           "TAG"
          ],
          [
           "[TG(46:1)]_FA14:0",
           "TAG"
          ],
          [
           "[TG(46:0)]_FA14:0",
           "TAG"
          ],
          [
           "[TG(47:6)]_FA14:0",
           "TAG"
          ],
          [
           "[TG(47:5)]_FA14:0",
           "TAG"
          ],
          [
           "[TG(47:4)]_FA14:0",
           "TAG"
          ],
          [
           "[TG(47:3)]_FA14:0",
           "TAG"
          ],
          [
           "[TG(47:2)]_FA14:0",
           "TAG"
          ],
          [
           "[TG(48:8),TG(47:1)]_FA14:0",
           "TAG"
          ],
          [
           "[TG(48:7),TG(47:0)]_FA14:0",
           "TAG"
          ],
          [
           "[TG(48:6)]_FA14:0",
           "TAG"
          ],
          [
           "[TG(48:5)]_FA14:0",
           "TAG"
          ],
          [
           "[TG(48:4)]_FA14:0",
           "TAG"
          ],
          [
           "[TG(48:3)]_FA14:0",
           "TAG"
          ],
          [
           "[TG(48:2)]_FA14:0",
           "TAG"
          ],
          [
           "[TG(49:8),TG(48:1)]_FA14:0",
           "TAG"
          ],
          [
           "[TG(49:7),TG(48:0)]_FA14:0",
           "TAG"
          ],
          [
           "[TG(49:6)]_FA14:0",
           "TAG"
          ],
          [
           "[TG(49:5)]_FA14:0",
           "TAG"
          ],
          [
           "[TG(49:4)]_FA14:0",
           "TAG"
          ],
          [
           "[TG(49:3)]_FA14:0",
           "TAG"
          ],
          [
           "[TG(50:9),TG(49:2)]_FA14:0",
           "TAG"
          ],
          [
           "[TG(50:8),TG(49:1)]_FA14:0",
           "TAG"
          ],
          [
           "[TG(50:7),TG(49:0)]_FA14:0",
           "TAG"
          ],
          [
           "[TG(50:6)]_FA14:0",
           "TAG"
          ],
          [
           "[TG(50:5)]_FA14:0",
           "TAG"
          ],
          [
           "[TG(50:4)]_FA14:0",
           "TAG"
          ],
          [
           "[TG(50:3)]_FA14:0",
           "TAG"
          ],
          [
           "[TG(51:9),TG(50:2)]_FA14:0",
           "TAG"
          ],
          [
           "[TG(51:8),TG(50:1)]_FA14:0",
           "TAG"
          ],
          [
           "[TG(51:7),TG(50:0)]_FA14:0",
           "TAG"
          ],
          [
           "[TG(51:6)]_FA14:0",
           "TAG"
          ],
          [
           "[TG(51:5)]_FA14:0",
           "TAG"
          ],
          [
           "[TG(51:4)]_FA14:0",
           "TAG"
          ],
          [
           "[TG(52:10),TG(51:3)]_FA14:0",
           "TAG"
          ],
          [
           "[TG(52:9),TG(51:2)]_FA14:0",
           "TAG"
          ],
          [
           "[TG(52:8),TG(51:1)]_FA14:0",
           "TAG"
          ],
          [
           "[TG(52:7),TG(51:0)]_FA14:0",
           "TAG"
          ],
          [
           "[TG(52:6)]_FA14:0",
           "TAG"
          ],
          [
           "[TG(52:5)]_FA14:0",
           "TAG"
          ],
          [
           "[TG(52:4)]_FA14:0",
           "TAG"
          ],
          [
           "[TG(53:10),TG(52:3)]_FA14:0",
           "TAG"
          ],
          [
           "[TG(53:9),TG(52:2)]_FA14:0",
           "TAG"
          ],
          [
           "[TG(53:8),TG(52:1)]_FA14:0",
           "TAG"
          ],
          [
           "[TG(53:7),TG(52:0)]_FA14:0",
           "TAG"
          ],
          [
           "[TG(53:6)]_FA14:0",
           "TAG"
          ],
          [
           "[TG(54:12),TG(53:5)]_FA14:0",
           "TAG"
          ],
          [
           "[TG(54:11),TG(53:4)]_FA14:0",
           "TAG"
          ],
          [
           "[TG(54:10),TG(53:3)]_FA14:0",
           "TAG"
          ],
          [
           "[TG(54:9),TG(53:2)]_FA14:0",
           "TAG"
          ],
          [
           "[TG(54:8),TG(53:1)]_FA14:0",
           "TAG"
          ],
          [
           "[TG(54:7),TG(53:0)]_FA14:0",
           "TAG"
          ],
          [
           "[TG(54:6)]_FA14:0",
           "TAG"
          ],
          [
           "[TG(54:5)]_FA14:0",
           "TAG"
          ],
          [
           "[TG(55:11),TG(54:4)]_FA14:0",
           "TAG"
          ],
          [
           "[TG(55:10),TG(54:3)]_FA14:0",
           "TAG"
          ],
          [
           "[TG(55:9),TG(54:2)]_FA14:0",
           "TAG"
          ],
          [
           "[TG(55:8),TG(54:1)]_FA14:0",
           "TAG"
          ],
          [
           "[TG(55:7),TG(54:0)]_FA14:0",
           "TAG"
          ],
          [
           "[TG(56:13),TG(55:6)]_FA14:0",
           "TAG"
          ],
          [
           "[TG(56:12),TG(55:5)]_FA14:0",
           "TAG"
          ],
          [
           "[TG(56:11),TG(55:4)]_FA14:0",
           "TAG"
          ],
          [
           "[TG(56:10),TG(55:3)]_FA14:0",
           "TAG"
          ],
          [
           "[TG(56:9),TG(55:2)]_FA14:0",
           "TAG"
          ],
          [
           "[TG(56:8),TG(55:1)]_FA14:0",
           "TAG"
          ],
          [
           "[TG(56:7),TG(55:0)]_FA14:0",
           "TAG"
          ],
          [
           "[TG(56:6)]_FA14:0",
           "TAG"
          ],
          [
           "[TG(57:12),TG(56:5)]_FA14:0",
           "TAG"
          ],
          [
           "[TG(57:11),TG(56:4)]_FA14:0",
           "TAG"
          ],
          [
           "[TG(57:10),TG(56:3)]_FA14:0",
           "TAG"
          ],
          [
           "[TG(57:9),TG(56:2)]_FA14:0",
           "TAG"
          ],
          [
           "[TG(57:8),TG(56:1)]_FA14:0",
           "TAG"
          ],
          [
           "[TG(58:14),TG(57:7),TG(56:0)]_FA14:0",
           "TAG"
          ],
          [
           "[TG(58:13),TG(57:6)]_FA14:0",
           "TAG"
          ],
          [
           "[TG(58:12),TG(57:5)]_FA14:0",
           "TAG"
          ],
          [
           "[TG(58:11),TG(57:4)]_FA14:0",
           "TAG"
          ],
          [
           "[TG(58:10),TG(57:3)]_FA14:0",
           "TAG"
          ],
          [
           "[TG(58:9),TG(57:2)]_FA14:0",
           "TAG"
          ],
          [
           "[TG(58:8),TG(57:1)]_FA14:0",
           "TAG"
          ],
          [
           "[TG(58:7),TG(57:0)]_FA14:0",
           "TAG"
          ],
          [
           "[TG(59:13),TG(58:6)]_FA14:0",
           "TAG"
          ],
          [
           "[TG(59:12),TG(58:5)]_FA14:0",
           "TAG"
          ],
          [
           "[TG(59:11),TG(58:4)]_FA14:0",
           "TAG"
          ],
          [
           "[TG(59:10),TG(58:3)]_FA14:0",
           "TAG"
          ],
          [
           "[TG(59:9),TG(58:2)]_FA14:0",
           "TAG"
          ],
          [
           "[TG(60:15),TG(59:8),TG(58:1)]_FA14:0",
           "TAG"
          ],
          [
           "[TG(60:14),TG(59:7),TG(58:0)]_FA14:0",
           "TAG"
          ],
          [
           "[TG(60:13),TG(59:6)]_FA14:0",
           "TAG"
          ],
          [
           "[TG(60:12),TG(59:5)]_FA14:0",
           "TAG"
          ],
          [
           "[TG(60:11),TG(59:4)]_FA14:0",
           "TAG"
          ],
          [
           "[TG(60:10),TG(59:3)]_FA14:0",
           "TAG"
          ],
          [
           "[TG(60:9),TG(59:2)]_FA14:0",
           "TAG"
          ],
          [
           "[TG(60:8),TG(59:1)]_FA14:0",
           "TAG"
          ],
          [
           "[TG(61:14),TG(60:7),TG(59:0)]_FA14:0",
           "TAG"
          ],
          [
           "[TG(61:13),TG(60:6)]_FA14:0",
           "TAG"
          ],
          [
           "[TG(61:12),TG(60:5)]_FA14:0",
           "TAG"
          ],
          [
           "[TG(61:11),TG(60:4)]_FA14:0",
           "TAG"
          ],
          [
           "[TG(61:10),TG(60:3)]_FA14:0",
           "TAG"
          ],
          [
           "[TG(62:16),TG(61:9),TG(60:2)]_FA14:0",
           "TAG"
          ],
          [
           "[TG(62:15),TG(61:8),TG(60:1)]_FA14:0",
           "TAG"
          ],
          [
           "[TG(62:14),TG(61:7),TG(60:0)]_FA14:0",
           "TAG"
          ],
          [
           "[TG(62:13),TG(61:6)]_FA14:0",
           "TAG"
          ],
          [
           "[TG(62:12),TG(61:5)]_FA14:0",
           "TAG"
          ],
          [
           "[TG(62:11),TG(61:4)]_FA14:0",
           "TAG"
          ],
          [
           "[TG(62:10),TG(61:3)]_FA14:0",
           "TAG"
          ],
          [
           "[TG(62:9),TG(61:2)]_FA14:0",
           "TAG"
          ],
          [
           "[TG(62:8),TG(61:1)]_FA14:0",
           "TAG"
          ],
          [
           "[TG(62:7),TG(61:0)]_FA14:0",
           "TAG"
          ],
          [
           "[TG(63:13),TG(62:6)]_FA14:0",
           "TAG"
          ],
          [
           "[TG(63:12),TG(62:5)]_FA14:0",
           "TAG"
          ],
          [
           "[TG(63:11),TG(62:4)]_FA14:0",
           "TAG"
          ],
          [
           "[TG(64:17),TG(63:10),TG(62:3)]_FA14:0",
           "TAG"
          ],
          [
           "[TG(64:16),TG(63:9),TG(62:2)]_FA14:0",
           "TAG"
          ],
          [
           "[TG(64:15),TG(63:8),TG(62:1)]_FA14:0",
           "TAG"
          ],
          [
           "[TG(64:14),TG(63:7),TG(62:0)]_FA14:0",
           "TAG"
          ],
          [
           "[TG(64:13),TG(63:6)]_FA14:0",
           "TAG"
          ],
          [
           "[TG(64:12),TG(63:5)]_FA14:0",
           "TAG"
          ],
          [
           "[TG(64:11),TG(63:4)]_FA14:0",
           "TAG"
          ],
          [
           "[TG(64:10),TG(63:3)]_FA14:0",
           "TAG"
          ],
          [
           "[TG(64:9),TG(63:2)]_FA14:0",
           "TAG"
          ],
          [
           "[TG(64:8),TG(63:1)]_FA14:0",
           "TAG"
          ],
          [
           "[TG(64:7),TG(63:0)]_FA14:0",
           "TAG"
          ],
          [
           "[TG(64:6)]_FA14:0",
           "TAG"
          ],
          [
           "[TG(65:12),TG(64:5)]_FA14:0",
           "TAG"
          ],
          [
           "[TG(66:18),TG(65:11),TG(64:4)]_FA14:0",
           "TAG"
          ],
          [
           "[TG(66:17),TG(65:10),TG(64:3)]_FA14:0",
           "TAG"
          ],
          [
           "[TG(66:16),TG(65:9),TG(64:2)]_FA14:0",
           "TAG"
          ],
          [
           "[TG(66:15),TG(65:8),TG(64:1)]_FA14:0",
           "TAG"
          ],
          [
           "[TG(66:14),TG(65:7),TG(64:0)]_FA14:0",
           "TAG"
          ],
          [
           "[TG(66:13),TG(65:6)]_FA14:0",
           "TAG"
          ],
          [
           "[TG(66:12),TG(65:5)]_FA14:0",
           "TAG"
          ],
          [
           "[TG(66:11),TG(65:4)]_FA14:0",
           "TAG"
          ],
          [
           "[TG(66:10),TG(65:3)]_FA14:0",
           "TAG"
          ],
          [
           "[TG(66:9),TG(65:2)]_FA14:0",
           "TAG"
          ],
          [
           "[TG(66:8),TG(65:1)]_FA14:0",
           "TAG"
          ],
          [
           "[TG(66:7)]_FA14:0",
           "TAG"
          ],
          [
           "[TG(65:0)]_FA14:0",
           "TAG"
          ],
          [
           "[TG(66:6)]_FA14:0",
           "TAG"
          ],
          [
           "[TG(66:5)]_FA14:0",
           "TAG"
          ],
          [
           "[TG(66:4)]_FA14:0",
           "TAG"
          ],
          [
           "[TG(66:3)]_FA14:0",
           "TAG"
          ],
          [
           "[TG(66:2)]_FA14:0",
           "TAG"
          ],
          [
           "[TG(66:1)]_FA14:0",
           "TAG"
          ]
         ],
         "hovertemplate": "Class=%{customdata[1]}<br>Intensity=%{y}<br>Lipid=%{customdata[0]}<extra></extra>",
         "legendgroup": "TAG",
         "marker": {
          "color": "#636efa"
         },
         "name": "TAG",
         "offsetgroup": "TAG",
         "orientation": "v",
         "showlegend": true,
         "textposition": "auto",
         "type": "bar",
         "x": [
          "TAG",
          "TAG",
          "TAG",
          "TAG",
          "TAG",
          "TAG",
          "TAG",
          "TAG",
          "TAG",
          "TAG",
          "TAG",
          "TAG",
          "TAG",
          "TAG",
          "TAG",
          "TAG",
          "TAG",
          "TAG",
          "TAG",
          "TAG",
          "TAG",
          "TAG",
          "TAG",
          "TAG",
          "TAG",
          "TAG",
          "TAG",
          "TAG",
          "TAG",
          "TAG",
          "TAG",
          "TAG",
          "TAG",
          "TAG",
          "TAG",
          "TAG",
          "TAG",
          "TAG",
          "TAG",
          "TAG",
          "TAG",
          "TAG",
          "TAG",
          "TAG",
          "TAG",
          "TAG",
          "TAG",
          "TAG",
          "TAG",
          "TAG",
          "TAG",
          "TAG",
          "TAG",
          "TAG",
          "TAG",
          "TAG",
          "TAG",
          "TAG",
          "TAG",
          "TAG",
          "TAG",
          "TAG",
          "TAG",
          "TAG",
          "TAG",
          "TAG",
          "TAG",
          "TAG",
          "TAG",
          "TAG",
          "TAG",
          "TAG",
          "TAG",
          "TAG",
          "TAG",
          "TAG",
          "TAG",
          "TAG",
          "TAG",
          "TAG",
          "TAG",
          "TAG",
          "TAG",
          "TAG",
          "TAG",
          "TAG",
          "TAG",
          "TAG",
          "TAG",
          "TAG",
          "TAG",
          "TAG",
          "TAG",
          "TAG",
          "TAG",
          "TAG",
          "TAG",
          "TAG",
          "TAG",
          "TAG",
          "TAG",
          "TAG",
          "TAG",
          "TAG",
          "TAG",
          "TAG",
          "TAG",
          "TAG",
          "TAG",
          "TAG",
          "TAG",
          "TAG",
          "TAG",
          "TAG",
          "TAG",
          "TAG",
          "TAG",
          "TAG",
          "TAG",
          "TAG",
          "TAG",
          "TAG",
          "TAG",
          "TAG",
          "TAG",
          "TAG",
          "TAG",
          "TAG",
          "TAG",
          "TAG",
          "TAG",
          "TAG",
          "TAG",
          "TAG",
          "TAG",
          "TAG",
          "TAG",
          "TAG",
          "TAG",
          "TAG",
          "TAG",
          "TAG",
          "TAG",
          "TAG",
          "TAG",
          "TAG",
          "TAG",
          "TAG",
          "TAG",
          "TAG",
          "TAG",
          "TAG",
          "TAG",
          "TAG",
          "TAG",
          "TAG",
          "TAG",
          "TAG",
          "TAG",
          "TAG",
          "TAG",
          "TAG",
          "TAG",
          "TAG",
          "TAG",
          "TAG",
          "TAG",
          "TAG",
          "TAG",
          "TAG",
          "TAG",
          "TAG",
          "TAG",
          "TAG",
          "TAG",
          "TAG",
          "TAG",
          "TAG",
          "TAG",
          "TAG"
         ],
         "xaxis": "x",
         "y": [
          45072.822998046875,
          64211.844482421875,
          237300.73681640625,
          27744.182037353516,
          37315.48260498047,
          24415.261688232422,
          34708.20263671875,
          155327.89086914062,
          20373.861602783203,
          19893.661392211914,
          26466.401824951172,
          15374.68115234375,
          19889.30142211914,
          17753.80108642578,
          131865.6494140625,
          94824.94689941406,
          16791.481231689453,
          63030.504150390625,
          26622.84196472168,
          28583.40203857422,
          29018.08203125,
          17620.081260681152,
          15765.661041259766,
          18071.14141845703,
          39169.32312011719,
          31882.602020263672,
          72722.04577636719,
          18579.66111755371,
          21398.161346435547,
          18318.621307373047,
          16532.841232299805,
          70729.62463378906,
          46782.86340332031,
          20436.341217041016,
          20286.141387939453,
          18562.861236572266,
          20631.881439208984,
          44036.763610839844,
          68736.06512451172,
          84029.40625,
          26131.921813964844,
          20985.38151550293,
          18959.501403808594,
          21987.14175415039,
          24136.061737060547,
          31395.762451171875,
          35014.362396240234,
          51366.403381347656,
          25303.261779785156,
          23539.601623535156,
          82808.48538208008,
          286373.7007446289,
          333579.6123046875,
          80859.20629882812,
          29734.44223022461,
          22083.261352539062,
          22096.821563720703,
          26063.061752319336,
          29320.561981201172,
          37507.4225769043,
          34488.222259521484,
          29315.282165527344,
          35932.222259521484,
          126118.92807006836,
          432169.33502197266,
          501185.328125,
          86953.32531738281,
          36228.10238647461,
          49931.743591308594,
          23814.681854248047,
          23092.781524658203,
          28172.081909179688,
          41892.44287109375,
          46549.702728271484,
          34083.9026184082,
          40384.46292114258,
          44110.603759765625,
          42770.922912597656,
          53848.18371582031,
          56664.44418334961,
          47311.622985839844,
          30805.982299804688,
          26174.721771240234,
          25399.10171508789,
          25004.141693115234,
          31147.182556152344,
          38980.08303833008,
          46906.80307006836,
          38897.4231262207,
          73665.94470214844,
          41898.76268005371,
          28414.301971435547,
          30718.442108154297,
          33424.282623291016,
          29007.38198852539,
          35497.86260986328,
          26408.881866455078,
          22494.82162475586,
          25690.061798095703,
          29631.141998291016,
          33327.52235412598,
          29645.14239501953,
          23936.88168334961,
          21959.361694335938,
          20401.881622314453,
          20398.84147644043,
          25416.421936035156,
          22382.361602783203,
          19609.461395263672,
          22338.061492919922,
          29575.44204711914,
          20122.321487426758,
          20873.68148803711,
          20475.001525878906,
          19687.661422729492,
          17986.1212310791,
          16909.581176757812,
          17760.02130126953,
          17154.881271362305,
          17369.481216430664,
          17000.50129699707,
          14471.141006469727,
          17327.96128845215,
          15586.361099243164,
          15192.34105682373,
          16057.961143493652,
          29432.862243652344,
          21032.461456298828,
          15778.50112915039,
          13972.840942382812,
          15361.26107788086,
          14665.92106628418,
          12983.740997314453,
          16507.40118408203,
          15164.080978393555,
          16115.021049499512,
          14670.80093383789,
          11676.520835876465,
          12641.240867614746,
          14229.900955200195,
          14026.561004638672,
          13990.720977783203,
          14917.441131591797,
          14691.960952758789,
          12988.200942993164,
          13342.720916748047,
          14266.48112487793,
          13126.080932617188,
          13007.560943603516,
          15978.181114196777,
          14954.541114807129,
          12710.70083618164,
          14045.280990600586,
          14086.260986328125,
          12927.800796508789,
          10637.140739440918,
          13033.880912780762,
          13134.800857543945,
          12264.380752563477,
          13273.14094543457,
          20100.661331176758,
          12335.680953979492,
          12561.440925598145,
          19396.041259765625,
          15101.360977172852,
          15476.981079101562,
          10396.680717468262,
          12281.800918579102,
          12049.680938720703,
          11546.020881652832,
          13140.541000366211,
          14803.141014099121,
          13260.220840454102,
          15204.641082763672,
          11739.30093383789,
          10289.58073425293,
          11749.400787353516,
          12457.700866699219,
          11174.560779571533,
          12249.820945739746
         ],
         "yaxis": "y"
        },
        {
         "alignmentgroup": "True",
         "customdata": [
          [
           "STD_15:0-18:1(d7)-15:0 TAG",
           "STD_15:0-18:1(d7)-15:0 TAG"
          ]
         ],
         "hovertemplate": "Class=%{customdata[1]}<br>Intensity=%{y}<br>Lipid=%{customdata[0]}<extra></extra>",
         "legendgroup": "STD_15:0-18:1(d7)-15:0 TAG",
         "marker": {
          "color": "#EF553B"
         },
         "name": "STD_15:0-18:1(d7)-15:0 TAG",
         "offsetgroup": "STD_15:0-18:1(d7)-15:0 TAG",
         "orientation": "v",
         "showlegend": true,
         "textposition": "auto",
         "type": "bar",
         "x": [
          "STD_15:0-18:1(d7)-15:0 TAG"
         ],
         "xaxis": "x",
         "y": [
          33835.302642822266
         ],
         "yaxis": "y"
        }
       ],
       "layout": {
        "barmode": "relative",
        "legend": {
         "title": {
          "text": "Class"
         },
         "tracegroupgap": 0
        },
        "margin": {
         "t": 60
        },
        "template": {
         "data": {
          "bar": [
           {
            "error_x": {
             "color": "#2a3f5f"
            },
            "error_y": {
             "color": "#2a3f5f"
            },
            "marker": {
             "line": {
              "color": "#E5ECF6",
              "width": 0.5
             }
            },
            "type": "bar"
           }
          ],
          "barpolar": [
           {
            "marker": {
             "line": {
              "color": "#E5ECF6",
              "width": 0.5
             }
            },
            "type": "barpolar"
           }
          ],
          "carpet": [
           {
            "aaxis": {
             "endlinecolor": "#2a3f5f",
             "gridcolor": "white",
             "linecolor": "white",
             "minorgridcolor": "white",
             "startlinecolor": "#2a3f5f"
            },
            "baxis": {
             "endlinecolor": "#2a3f5f",
             "gridcolor": "white",
             "linecolor": "white",
             "minorgridcolor": "white",
             "startlinecolor": "#2a3f5f"
            },
            "type": "carpet"
           }
          ],
          "choropleth": [
           {
            "colorbar": {
             "outlinewidth": 0,
             "ticks": ""
            },
            "type": "choropleth"
           }
          ],
          "contour": [
           {
            "colorbar": {
             "outlinewidth": 0,
             "ticks": ""
            },
            "colorscale": [
             [
              0,
              "#0d0887"
             ],
             [
              0.1111111111111111,
              "#46039f"
             ],
             [
              0.2222222222222222,
              "#7201a8"
             ],
             [
              0.3333333333333333,
              "#9c179e"
             ],
             [
              0.4444444444444444,
              "#bd3786"
             ],
             [
              0.5555555555555556,
              "#d8576b"
             ],
             [
              0.6666666666666666,
              "#ed7953"
             ],
             [
              0.7777777777777778,
              "#fb9f3a"
             ],
             [
              0.8888888888888888,
              "#fdca26"
             ],
             [
              1,
              "#f0f921"
             ]
            ],
            "type": "contour"
           }
          ],
          "contourcarpet": [
           {
            "colorbar": {
             "outlinewidth": 0,
             "ticks": ""
            },
            "type": "contourcarpet"
           }
          ],
          "heatmap": [
           {
            "colorbar": {
             "outlinewidth": 0,
             "ticks": ""
            },
            "colorscale": [
             [
              0,
              "#0d0887"
             ],
             [
              0.1111111111111111,
              "#46039f"
             ],
             [
              0.2222222222222222,
              "#7201a8"
             ],
             [
              0.3333333333333333,
              "#9c179e"
             ],
             [
              0.4444444444444444,
              "#bd3786"
             ],
             [
              0.5555555555555556,
              "#d8576b"
             ],
             [
              0.6666666666666666,
              "#ed7953"
             ],
             [
              0.7777777777777778,
              "#fb9f3a"
             ],
             [
              0.8888888888888888,
              "#fdca26"
             ],
             [
              1,
              "#f0f921"
             ]
            ],
            "type": "heatmap"
           }
          ],
          "heatmapgl": [
           {
            "colorbar": {
             "outlinewidth": 0,
             "ticks": ""
            },
            "colorscale": [
             [
              0,
              "#0d0887"
             ],
             [
              0.1111111111111111,
              "#46039f"
             ],
             [
              0.2222222222222222,
              "#7201a8"
             ],
             [
              0.3333333333333333,
              "#9c179e"
             ],
             [
              0.4444444444444444,
              "#bd3786"
             ],
             [
              0.5555555555555556,
              "#d8576b"
             ],
             [
              0.6666666666666666,
              "#ed7953"
             ],
             [
              0.7777777777777778,
              "#fb9f3a"
             ],
             [
              0.8888888888888888,
              "#fdca26"
             ],
             [
              1,
              "#f0f921"
             ]
            ],
            "type": "heatmapgl"
           }
          ],
          "histogram": [
           {
            "marker": {
             "colorbar": {
              "outlinewidth": 0,
              "ticks": ""
             }
            },
            "type": "histogram"
           }
          ],
          "histogram2d": [
           {
            "colorbar": {
             "outlinewidth": 0,
             "ticks": ""
            },
            "colorscale": [
             [
              0,
              "#0d0887"
             ],
             [
              0.1111111111111111,
              "#46039f"
             ],
             [
              0.2222222222222222,
              "#7201a8"
             ],
             [
              0.3333333333333333,
              "#9c179e"
             ],
             [
              0.4444444444444444,
              "#bd3786"
             ],
             [
              0.5555555555555556,
              "#d8576b"
             ],
             [
              0.6666666666666666,
              "#ed7953"
             ],
             [
              0.7777777777777778,
              "#fb9f3a"
             ],
             [
              0.8888888888888888,
              "#fdca26"
             ],
             [
              1,
              "#f0f921"
             ]
            ],
            "type": "histogram2d"
           }
          ],
          "histogram2dcontour": [
           {
            "colorbar": {
             "outlinewidth": 0,
             "ticks": ""
            },
            "colorscale": [
             [
              0,
              "#0d0887"
             ],
             [
              0.1111111111111111,
              "#46039f"
             ],
             [
              0.2222222222222222,
              "#7201a8"
             ],
             [
              0.3333333333333333,
              "#9c179e"
             ],
             [
              0.4444444444444444,
              "#bd3786"
             ],
             [
              0.5555555555555556,
              "#d8576b"
             ],
             [
              0.6666666666666666,
              "#ed7953"
             ],
             [
              0.7777777777777778,
              "#fb9f3a"
             ],
             [
              0.8888888888888888,
              "#fdca26"
             ],
             [
              1,
              "#f0f921"
             ]
            ],
            "type": "histogram2dcontour"
           }
          ],
          "mesh3d": [
           {
            "colorbar": {
             "outlinewidth": 0,
             "ticks": ""
            },
            "type": "mesh3d"
           }
          ],
          "parcoords": [
           {
            "line": {
             "colorbar": {
              "outlinewidth": 0,
              "ticks": ""
             }
            },
            "type": "parcoords"
           }
          ],
          "pie": [
           {
            "automargin": true,
            "type": "pie"
           }
          ],
          "scatter": [
           {
            "marker": {
             "colorbar": {
              "outlinewidth": 0,
              "ticks": ""
             }
            },
            "type": "scatter"
           }
          ],
          "scatter3d": [
           {
            "line": {
             "colorbar": {
              "outlinewidth": 0,
              "ticks": ""
             }
            },
            "marker": {
             "colorbar": {
              "outlinewidth": 0,
              "ticks": ""
             }
            },
            "type": "scatter3d"
           }
          ],
          "scattercarpet": [
           {
            "marker": {
             "colorbar": {
              "outlinewidth": 0,
              "ticks": ""
             }
            },
            "type": "scattercarpet"
           }
          ],
          "scattergeo": [
           {
            "marker": {
             "colorbar": {
              "outlinewidth": 0,
              "ticks": ""
             }
            },
            "type": "scattergeo"
           }
          ],
          "scattergl": [
           {
            "marker": {
             "colorbar": {
              "outlinewidth": 0,
              "ticks": ""
             }
            },
            "type": "scattergl"
           }
          ],
          "scattermapbox": [
           {
            "marker": {
             "colorbar": {
              "outlinewidth": 0,
              "ticks": ""
             }
            },
            "type": "scattermapbox"
           }
          ],
          "scatterpolar": [
           {
            "marker": {
             "colorbar": {
              "outlinewidth": 0,
              "ticks": ""
             }
            },
            "type": "scatterpolar"
           }
          ],
          "scatterpolargl": [
           {
            "marker": {
             "colorbar": {
              "outlinewidth": 0,
              "ticks": ""
             }
            },
            "type": "scatterpolargl"
           }
          ],
          "scatterternary": [
           {
            "marker": {
             "colorbar": {
              "outlinewidth": 0,
              "ticks": ""
             }
            },
            "type": "scatterternary"
           }
          ],
          "surface": [
           {
            "colorbar": {
             "outlinewidth": 0,
             "ticks": ""
            },
            "colorscale": [
             [
              0,
              "#0d0887"
             ],
             [
              0.1111111111111111,
              "#46039f"
             ],
             [
              0.2222222222222222,
              "#7201a8"
             ],
             [
              0.3333333333333333,
              "#9c179e"
             ],
             [
              0.4444444444444444,
              "#bd3786"
             ],
             [
              0.5555555555555556,
              "#d8576b"
             ],
             [
              0.6666666666666666,
              "#ed7953"
             ],
             [
              0.7777777777777778,
              "#fb9f3a"
             ],
             [
              0.8888888888888888,
              "#fdca26"
             ],
             [
              1,
              "#f0f921"
             ]
            ],
            "type": "surface"
           }
          ],
          "table": [
           {
            "cells": {
             "fill": {
              "color": "#EBF0F8"
             },
             "line": {
              "color": "white"
             }
            },
            "header": {
             "fill": {
              "color": "#C8D4E3"
             },
             "line": {
              "color": "white"
             }
            },
            "type": "table"
           }
          ]
         },
         "layout": {
          "annotationdefaults": {
           "arrowcolor": "#2a3f5f",
           "arrowhead": 0,
           "arrowwidth": 1
          },
          "coloraxis": {
           "colorbar": {
            "outlinewidth": 0,
            "ticks": ""
           }
          },
          "colorscale": {
           "diverging": [
            [
             0,
             "#8e0152"
            ],
            [
             0.1,
             "#c51b7d"
            ],
            [
             0.2,
             "#de77ae"
            ],
            [
             0.3,
             "#f1b6da"
            ],
            [
             0.4,
             "#fde0ef"
            ],
            [
             0.5,
             "#f7f7f7"
            ],
            [
             0.6,
             "#e6f5d0"
            ],
            [
             0.7,
             "#b8e186"
            ],
            [
             0.8,
             "#7fbc41"
            ],
            [
             0.9,
             "#4d9221"
            ],
            [
             1,
             "#276419"
            ]
           ],
           "sequential": [
            [
             0,
             "#0d0887"
            ],
            [
             0.1111111111111111,
             "#46039f"
            ],
            [
             0.2222222222222222,
             "#7201a8"
            ],
            [
             0.3333333333333333,
             "#9c179e"
            ],
            [
             0.4444444444444444,
             "#bd3786"
            ],
            [
             0.5555555555555556,
             "#d8576b"
            ],
            [
             0.6666666666666666,
             "#ed7953"
            ],
            [
             0.7777777777777778,
             "#fb9f3a"
            ],
            [
             0.8888888888888888,
             "#fdca26"
            ],
            [
             1,
             "#f0f921"
            ]
           ],
           "sequentialminus": [
            [
             0,
             "#0d0887"
            ],
            [
             0.1111111111111111,
             "#46039f"
            ],
            [
             0.2222222222222222,
             "#7201a8"
            ],
            [
             0.3333333333333333,
             "#9c179e"
            ],
            [
             0.4444444444444444,
             "#bd3786"
            ],
            [
             0.5555555555555556,
             "#d8576b"
            ],
            [
             0.6666666666666666,
             "#ed7953"
            ],
            [
             0.7777777777777778,
             "#fb9f3a"
            ],
            [
             0.8888888888888888,
             "#fdca26"
            ],
            [
             1,
             "#f0f921"
            ]
           ]
          },
          "colorway": [
           "#636efa",
           "#EF553B",
           "#00cc96",
           "#ab63fa",
           "#FFA15A",
           "#19d3f3",
           "#FF6692",
           "#B6E880",
           "#FF97FF",
           "#FECB52"
          ],
          "font": {
           "color": "#2a3f5f"
          },
          "geo": {
           "bgcolor": "white",
           "lakecolor": "white",
           "landcolor": "#E5ECF6",
           "showlakes": true,
           "showland": true,
           "subunitcolor": "white"
          },
          "hoverlabel": {
           "align": "left"
          },
          "hovermode": "closest",
          "mapbox": {
           "style": "light"
          },
          "paper_bgcolor": "white",
          "plot_bgcolor": "#E5ECF6",
          "polar": {
           "angularaxis": {
            "gridcolor": "white",
            "linecolor": "white",
            "ticks": ""
           },
           "bgcolor": "#E5ECF6",
           "radialaxis": {
            "gridcolor": "white",
            "linecolor": "white",
            "ticks": ""
           }
          },
          "scene": {
           "xaxis": {
            "backgroundcolor": "#E5ECF6",
            "gridcolor": "white",
            "gridwidth": 2,
            "linecolor": "white",
            "showbackground": true,
            "ticks": "",
            "zerolinecolor": "white"
           },
           "yaxis": {
            "backgroundcolor": "#E5ECF6",
            "gridcolor": "white",
            "gridwidth": 2,
            "linecolor": "white",
            "showbackground": true,
            "ticks": "",
            "zerolinecolor": "white"
           },
           "zaxis": {
            "backgroundcolor": "#E5ECF6",
            "gridcolor": "white",
            "gridwidth": 2,
            "linecolor": "white",
            "showbackground": true,
            "ticks": "",
            "zerolinecolor": "white"
           }
          },
          "shapedefaults": {
           "line": {
            "color": "#2a3f5f"
           }
          },
          "ternary": {
           "aaxis": {
            "gridcolor": "white",
            "linecolor": "white",
            "ticks": ""
           },
           "baxis": {
            "gridcolor": "white",
            "linecolor": "white",
            "ticks": ""
           },
           "bgcolor": "#E5ECF6",
           "caxis": {
            "gridcolor": "white",
            "linecolor": "white",
            "ticks": ""
           }
          },
          "title": {
           "x": 0.05
          },
          "xaxis": {
           "automargin": true,
           "gridcolor": "white",
           "linecolor": "white",
           "ticks": "",
           "title": {
            "standoff": 15
           },
           "zerolinecolor": "white",
           "zerolinewidth": 2
          },
          "yaxis": {
           "automargin": true,
           "gridcolor": "white",
           "linecolor": "white",
           "ticks": "",
           "title": {
            "standoff": 15
           },
           "zerolinecolor": "white",
           "zerolinewidth": 2
          }
         }
        },
        "xaxis": {
         "anchor": "y",
         "categoryarray": [
          "TAG",
          "STD_15:0-18:1(d7)-15:0 TAG"
         ],
         "categoryorder": "array",
         "domain": [
          0,
          1
         ],
         "title": {
          "text": "Class"
         }
        },
        "yaxis": {
         "anchor": "x",
         "domain": [
          0,
          1
         ],
         "title": {
          "text": "Intensity"
         }
        }
       }
      },
      "text/html": [
       "<div>                            <div id=\"c19b4ed5-0ffc-473d-8c25-2240ebd32810\" class=\"plotly-graph-div\" style=\"height:525px; width:100%;\"></div>            <script type=\"text/javascript\">                require([\"plotly\"], function(Plotly) {                    window.PLOTLYENV=window.PLOTLYENV || {};                                    if (document.getElementById(\"c19b4ed5-0ffc-473d-8c25-2240ebd32810\")) {                    Plotly.newPlot(                        \"c19b4ed5-0ffc-473d-8c25-2240ebd32810\",                        [{\"alignmentgroup\": \"True\", \"customdata\": [[\"[TG(37:0)]_FA14:0\", \"TAG\"], [\"[TG(38:1)]_FA14:0\", \"TAG\"], [\"[TG(38:0)]_FA14:0\", \"TAG\"], [\"[TG(39:1)]_FA14:0\", \"TAG\"], [\"[TG(39:0)]_FA14:0\", \"TAG\"], [\"[TG(40:2)]_FA14:0\", \"TAG\"], [\"[TG(40:1)]_FA14:0\", \"TAG\"], [\"[TG(40:0)]_FA14:0\", \"TAG\"], [\"[TG(41:2)]_FA14:0\", \"TAG\"], [\"[TG(41:1)]_FA14:0\", \"TAG\"], [\"[TG(41:0)]_FA14:0\", \"TAG\"], [\"[TG(42:4)]_FA14:0\", \"TAG\"], [\"[TG(42:3)]_FA14:0\", \"TAG\"], [\"[TG(42:2)]_FA14:0\", \"TAG\"], [\"[TG(42:1)]_FA14:0\", \"TAG\"], [\"[TG(42:0)]_FA14:0\", \"TAG\"], [\"[TG(43:4)]_FA14:0\", \"TAG\"], [\"[TG(43:3)]_FA14:0\", \"TAG\"], [\"[TG(43:2)]_FA14:0\", \"TAG\"], [\"[TG(43:1)]_FA14:0\", \"TAG\"], [\"[TG(43:0)]_FA14:0\", \"TAG\"], [\"[TG(44:5)]_FA14:0\", \"TAG\"], [\"[TG(44:4)]_FA14:0\", \"TAG\"], [\"[TG(44:3)]_FA14:0\", \"TAG\"], [\"[TG(44:2)]_FA14:0\", \"TAG\"], [\"[TG(44:1)]_FA14:0\", \"TAG\"], [\"[TG(44:0),TG(O-45:0)]_FA14:0\", \"TAG\"], [\"[TG(45:5)]_FA14:0\", \"TAG\"], [\"[TG(45:4)]_FA14:0\", \"TAG\"], [\"[TG(45:3)]_FA14:0\", \"TAG\"], [\"[TG(45:2)]_FA14:0\", \"TAG\"], [\"[TG(45:1)]_FA14:0\", \"TAG\"], [\"[TG(45:0)]_FA14:0\", \"TAG\"], [\"[TG(46:6)]_FA14:0\", \"TAG\"], [\"[TG(46:5)]_FA14:0\", \"TAG\"], [\"[TG(46:4)]_FA14:0\", \"TAG\"], [\"[TG(46:3)]_FA14:0\", \"TAG\"], [\"[TG(46:2)]_FA14:0\", \"TAG\"], [\"[TG(46:1)]_FA14:0\", \"TAG\"], [\"[TG(46:0)]_FA14:0\", \"TAG\"], [\"[TG(47:6)]_FA14:0\", \"TAG\"], [\"[TG(47:5)]_FA14:0\", \"TAG\"], [\"[TG(47:4)]_FA14:0\", \"TAG\"], [\"[TG(47:3)]_FA14:0\", \"TAG\"], [\"[TG(47:2)]_FA14:0\", \"TAG\"], [\"[TG(48:8),TG(47:1)]_FA14:0\", \"TAG\"], [\"[TG(48:7),TG(47:0)]_FA14:0\", \"TAG\"], [\"[TG(48:6)]_FA14:0\", \"TAG\"], [\"[TG(48:5)]_FA14:0\", \"TAG\"], [\"[TG(48:4)]_FA14:0\", \"TAG\"], [\"[TG(48:3)]_FA14:0\", \"TAG\"], [\"[TG(48:2)]_FA14:0\", \"TAG\"], [\"[TG(49:8),TG(48:1)]_FA14:0\", \"TAG\"], [\"[TG(49:7),TG(48:0)]_FA14:0\", \"TAG\"], [\"[TG(49:6)]_FA14:0\", \"TAG\"], [\"[TG(49:5)]_FA14:0\", \"TAG\"], [\"[TG(49:4)]_FA14:0\", \"TAG\"], [\"[TG(49:3)]_FA14:0\", \"TAG\"], [\"[TG(50:9),TG(49:2)]_FA14:0\", \"TAG\"], [\"[TG(50:8),TG(49:1)]_FA14:0\", \"TAG\"], [\"[TG(50:7),TG(49:0)]_FA14:0\", \"TAG\"], [\"[TG(50:6)]_FA14:0\", \"TAG\"], [\"[TG(50:5)]_FA14:0\", \"TAG\"], [\"[TG(50:4)]_FA14:0\", \"TAG\"], [\"[TG(50:3)]_FA14:0\", \"TAG\"], [\"[TG(51:9),TG(50:2)]_FA14:0\", \"TAG\"], [\"[TG(51:8),TG(50:1)]_FA14:0\", \"TAG\"], [\"[TG(51:7),TG(50:0)]_FA14:0\", \"TAG\"], [\"[TG(51:6)]_FA14:0\", \"TAG\"], [\"[TG(51:5)]_FA14:0\", \"TAG\"], [\"[TG(51:4)]_FA14:0\", \"TAG\"], [\"[TG(52:10),TG(51:3)]_FA14:0\", \"TAG\"], [\"[TG(52:9),TG(51:2)]_FA14:0\", \"TAG\"], [\"[TG(52:8),TG(51:1)]_FA14:0\", \"TAG\"], [\"[TG(52:7),TG(51:0)]_FA14:0\", \"TAG\"], [\"[TG(52:6)]_FA14:0\", \"TAG\"], [\"[TG(52:5)]_FA14:0\", \"TAG\"], [\"[TG(52:4)]_FA14:0\", \"TAG\"], [\"[TG(53:10),TG(52:3)]_FA14:0\", \"TAG\"], [\"[TG(53:9),TG(52:2)]_FA14:0\", \"TAG\"], [\"[TG(53:8),TG(52:1)]_FA14:0\", \"TAG\"], [\"[TG(53:7),TG(52:0)]_FA14:0\", \"TAG\"], [\"[TG(53:6)]_FA14:0\", \"TAG\"], [\"[TG(54:12),TG(53:5)]_FA14:0\", \"TAG\"], [\"[TG(54:11),TG(53:4)]_FA14:0\", \"TAG\"], [\"[TG(54:10),TG(53:3)]_FA14:0\", \"TAG\"], [\"[TG(54:9),TG(53:2)]_FA14:0\", \"TAG\"], [\"[TG(54:8),TG(53:1)]_FA14:0\", \"TAG\"], [\"[TG(54:7),TG(53:0)]_FA14:0\", \"TAG\"], [\"[TG(54:6)]_FA14:0\", \"TAG\"], [\"[TG(54:5)]_FA14:0\", \"TAG\"], [\"[TG(55:11),TG(54:4)]_FA14:0\", \"TAG\"], [\"[TG(55:10),TG(54:3)]_FA14:0\", \"TAG\"], [\"[TG(55:9),TG(54:2)]_FA14:0\", \"TAG\"], [\"[TG(55:8),TG(54:1)]_FA14:0\", \"TAG\"], [\"[TG(55:7),TG(54:0)]_FA14:0\", \"TAG\"], [\"[TG(56:13),TG(55:6)]_FA14:0\", \"TAG\"], [\"[TG(56:12),TG(55:5)]_FA14:0\", \"TAG\"], [\"[TG(56:11),TG(55:4)]_FA14:0\", \"TAG\"], [\"[TG(56:10),TG(55:3)]_FA14:0\", \"TAG\"], [\"[TG(56:9),TG(55:2)]_FA14:0\", \"TAG\"], [\"[TG(56:8),TG(55:1)]_FA14:0\", \"TAG\"], [\"[TG(56:7),TG(55:0)]_FA14:0\", \"TAG\"], [\"[TG(56:6)]_FA14:0\", \"TAG\"], [\"[TG(57:12),TG(56:5)]_FA14:0\", \"TAG\"], [\"[TG(57:11),TG(56:4)]_FA14:0\", \"TAG\"], [\"[TG(57:10),TG(56:3)]_FA14:0\", \"TAG\"], [\"[TG(57:9),TG(56:2)]_FA14:0\", \"TAG\"], [\"[TG(57:8),TG(56:1)]_FA14:0\", \"TAG\"], [\"[TG(58:14),TG(57:7),TG(56:0)]_FA14:0\", \"TAG\"], [\"[TG(58:13),TG(57:6)]_FA14:0\", \"TAG\"], [\"[TG(58:12),TG(57:5)]_FA14:0\", \"TAG\"], [\"[TG(58:11),TG(57:4)]_FA14:0\", \"TAG\"], [\"[TG(58:10),TG(57:3)]_FA14:0\", \"TAG\"], [\"[TG(58:9),TG(57:2)]_FA14:0\", \"TAG\"], [\"[TG(58:8),TG(57:1)]_FA14:0\", \"TAG\"], [\"[TG(58:7),TG(57:0)]_FA14:0\", \"TAG\"], [\"[TG(59:13),TG(58:6)]_FA14:0\", \"TAG\"], [\"[TG(59:12),TG(58:5)]_FA14:0\", \"TAG\"], [\"[TG(59:11),TG(58:4)]_FA14:0\", \"TAG\"], [\"[TG(59:10),TG(58:3)]_FA14:0\", \"TAG\"], [\"[TG(59:9),TG(58:2)]_FA14:0\", \"TAG\"], [\"[TG(60:15),TG(59:8),TG(58:1)]_FA14:0\", \"TAG\"], [\"[TG(60:14),TG(59:7),TG(58:0)]_FA14:0\", \"TAG\"], [\"[TG(60:13),TG(59:6)]_FA14:0\", \"TAG\"], [\"[TG(60:12),TG(59:5)]_FA14:0\", \"TAG\"], [\"[TG(60:11),TG(59:4)]_FA14:0\", \"TAG\"], [\"[TG(60:10),TG(59:3)]_FA14:0\", \"TAG\"], [\"[TG(60:9),TG(59:2)]_FA14:0\", \"TAG\"], [\"[TG(60:8),TG(59:1)]_FA14:0\", \"TAG\"], [\"[TG(61:14),TG(60:7),TG(59:0)]_FA14:0\", \"TAG\"], [\"[TG(61:13),TG(60:6)]_FA14:0\", \"TAG\"], [\"[TG(61:12),TG(60:5)]_FA14:0\", \"TAG\"], [\"[TG(61:11),TG(60:4)]_FA14:0\", \"TAG\"], [\"[TG(61:10),TG(60:3)]_FA14:0\", \"TAG\"], [\"[TG(62:16),TG(61:9),TG(60:2)]_FA14:0\", \"TAG\"], [\"[TG(62:15),TG(61:8),TG(60:1)]_FA14:0\", \"TAG\"], [\"[TG(62:14),TG(61:7),TG(60:0)]_FA14:0\", \"TAG\"], [\"[TG(62:13),TG(61:6)]_FA14:0\", \"TAG\"], [\"[TG(62:12),TG(61:5)]_FA14:0\", \"TAG\"], [\"[TG(62:11),TG(61:4)]_FA14:0\", \"TAG\"], [\"[TG(62:10),TG(61:3)]_FA14:0\", \"TAG\"], [\"[TG(62:9),TG(61:2)]_FA14:0\", \"TAG\"], [\"[TG(62:8),TG(61:1)]_FA14:0\", \"TAG\"], [\"[TG(62:7),TG(61:0)]_FA14:0\", \"TAG\"], [\"[TG(63:13),TG(62:6)]_FA14:0\", \"TAG\"], [\"[TG(63:12),TG(62:5)]_FA14:0\", \"TAG\"], [\"[TG(63:11),TG(62:4)]_FA14:0\", \"TAG\"], [\"[TG(64:17),TG(63:10),TG(62:3)]_FA14:0\", \"TAG\"], [\"[TG(64:16),TG(63:9),TG(62:2)]_FA14:0\", \"TAG\"], [\"[TG(64:15),TG(63:8),TG(62:1)]_FA14:0\", \"TAG\"], [\"[TG(64:14),TG(63:7),TG(62:0)]_FA14:0\", \"TAG\"], [\"[TG(64:13),TG(63:6)]_FA14:0\", \"TAG\"], [\"[TG(64:12),TG(63:5)]_FA14:0\", \"TAG\"], [\"[TG(64:11),TG(63:4)]_FA14:0\", \"TAG\"], [\"[TG(64:10),TG(63:3)]_FA14:0\", \"TAG\"], [\"[TG(64:9),TG(63:2)]_FA14:0\", \"TAG\"], [\"[TG(64:8),TG(63:1)]_FA14:0\", \"TAG\"], [\"[TG(64:7),TG(63:0)]_FA14:0\", \"TAG\"], [\"[TG(64:6)]_FA14:0\", \"TAG\"], [\"[TG(65:12),TG(64:5)]_FA14:0\", \"TAG\"], [\"[TG(66:18),TG(65:11),TG(64:4)]_FA14:0\", \"TAG\"], [\"[TG(66:17),TG(65:10),TG(64:3)]_FA14:0\", \"TAG\"], [\"[TG(66:16),TG(65:9),TG(64:2)]_FA14:0\", \"TAG\"], [\"[TG(66:15),TG(65:8),TG(64:1)]_FA14:0\", \"TAG\"], [\"[TG(66:14),TG(65:7),TG(64:0)]_FA14:0\", \"TAG\"], [\"[TG(66:13),TG(65:6)]_FA14:0\", \"TAG\"], [\"[TG(66:12),TG(65:5)]_FA14:0\", \"TAG\"], [\"[TG(66:11),TG(65:4)]_FA14:0\", \"TAG\"], [\"[TG(66:10),TG(65:3)]_FA14:0\", \"TAG\"], [\"[TG(66:9),TG(65:2)]_FA14:0\", \"TAG\"], [\"[TG(66:8),TG(65:1)]_FA14:0\", \"TAG\"], [\"[TG(66:7)]_FA14:0\", \"TAG\"], [\"[TG(65:0)]_FA14:0\", \"TAG\"], [\"[TG(66:6)]_FA14:0\", \"TAG\"], [\"[TG(66:5)]_FA14:0\", \"TAG\"], [\"[TG(66:4)]_FA14:0\", \"TAG\"], [\"[TG(66:3)]_FA14:0\", \"TAG\"], [\"[TG(66:2)]_FA14:0\", \"TAG\"], [\"[TG(66:1)]_FA14:0\", \"TAG\"]], \"hovertemplate\": \"Class=%{customdata[1]}<br>Intensity=%{y}<br>Lipid=%{customdata[0]}<extra></extra>\", \"legendgroup\": \"TAG\", \"marker\": {\"color\": \"#636efa\"}, \"name\": \"TAG\", \"offsetgroup\": \"TAG\", \"orientation\": \"v\", \"showlegend\": true, \"textposition\": \"auto\", \"type\": \"bar\", \"x\": [\"TAG\", \"TAG\", \"TAG\", \"TAG\", \"TAG\", \"TAG\", \"TAG\", \"TAG\", \"TAG\", \"TAG\", \"TAG\", \"TAG\", \"TAG\", \"TAG\", \"TAG\", \"TAG\", \"TAG\", \"TAG\", \"TAG\", \"TAG\", \"TAG\", \"TAG\", \"TAG\", \"TAG\", \"TAG\", \"TAG\", \"TAG\", \"TAG\", \"TAG\", \"TAG\", \"TAG\", \"TAG\", \"TAG\", \"TAG\", \"TAG\", \"TAG\", \"TAG\", \"TAG\", \"TAG\", \"TAG\", \"TAG\", \"TAG\", \"TAG\", \"TAG\", \"TAG\", \"TAG\", \"TAG\", \"TAG\", \"TAG\", \"TAG\", \"TAG\", \"TAG\", \"TAG\", \"TAG\", \"TAG\", \"TAG\", \"TAG\", \"TAG\", \"TAG\", \"TAG\", \"TAG\", \"TAG\", \"TAG\", \"TAG\", \"TAG\", \"TAG\", \"TAG\", \"TAG\", \"TAG\", \"TAG\", \"TAG\", \"TAG\", \"TAG\", \"TAG\", \"TAG\", \"TAG\", \"TAG\", \"TAG\", \"TAG\", \"TAG\", \"TAG\", \"TAG\", \"TAG\", \"TAG\", \"TAG\", \"TAG\", \"TAG\", \"TAG\", \"TAG\", \"TAG\", \"TAG\", \"TAG\", \"TAG\", \"TAG\", \"TAG\", \"TAG\", \"TAG\", \"TAG\", \"TAG\", \"TAG\", \"TAG\", \"TAG\", \"TAG\", \"TAG\", \"TAG\", \"TAG\", \"TAG\", \"TAG\", \"TAG\", \"TAG\", \"TAG\", \"TAG\", \"TAG\", \"TAG\", \"TAG\", \"TAG\", \"TAG\", \"TAG\", \"TAG\", \"TAG\", \"TAG\", \"TAG\", \"TAG\", \"TAG\", \"TAG\", \"TAG\", \"TAG\", \"TAG\", \"TAG\", \"TAG\", \"TAG\", \"TAG\", \"TAG\", \"TAG\", \"TAG\", \"TAG\", \"TAG\", \"TAG\", \"TAG\", \"TAG\", \"TAG\", \"TAG\", \"TAG\", \"TAG\", \"TAG\", \"TAG\", \"TAG\", \"TAG\", \"TAG\", \"TAG\", \"TAG\", \"TAG\", \"TAG\", \"TAG\", \"TAG\", \"TAG\", \"TAG\", \"TAG\", \"TAG\", \"TAG\", \"TAG\", \"TAG\", \"TAG\", \"TAG\", \"TAG\", \"TAG\", \"TAG\", \"TAG\", \"TAG\", \"TAG\", \"TAG\", \"TAG\", \"TAG\", \"TAG\", \"TAG\", \"TAG\", \"TAG\", \"TAG\", \"TAG\", \"TAG\"], \"xaxis\": \"x\", \"y\": [45072.822998046875, 64211.844482421875, 237300.73681640625, 27744.182037353516, 37315.48260498047, 24415.261688232422, 34708.20263671875, 155327.89086914062, 20373.861602783203, 19893.661392211914, 26466.401824951172, 15374.68115234375, 19889.30142211914, 17753.80108642578, 131865.6494140625, 94824.94689941406, 16791.481231689453, 63030.504150390625, 26622.84196472168, 28583.40203857422, 29018.08203125, 17620.081260681152, 15765.661041259766, 18071.14141845703, 39169.32312011719, 31882.602020263672, 72722.04577636719, 18579.66111755371, 21398.161346435547, 18318.621307373047, 16532.841232299805, 70729.62463378906, 46782.86340332031, 20436.341217041016, 20286.141387939453, 18562.861236572266, 20631.881439208984, 44036.763610839844, 68736.06512451172, 84029.40625, 26131.921813964844, 20985.38151550293, 18959.501403808594, 21987.14175415039, 24136.061737060547, 31395.762451171875, 35014.362396240234, 51366.403381347656, 25303.261779785156, 23539.601623535156, 82808.48538208008, 286373.7007446289, 333579.6123046875, 80859.20629882812, 29734.44223022461, 22083.261352539062, 22096.821563720703, 26063.061752319336, 29320.561981201172, 37507.4225769043, 34488.222259521484, 29315.282165527344, 35932.222259521484, 126118.92807006836, 432169.33502197266, 501185.328125, 86953.32531738281, 36228.10238647461, 49931.743591308594, 23814.681854248047, 23092.781524658203, 28172.081909179688, 41892.44287109375, 46549.702728271484, 34083.9026184082, 40384.46292114258, 44110.603759765625, 42770.922912597656, 53848.18371582031, 56664.44418334961, 47311.622985839844, 30805.982299804688, 26174.721771240234, 25399.10171508789, 25004.141693115234, 31147.182556152344, 38980.08303833008, 46906.80307006836, 38897.4231262207, 73665.94470214844, 41898.76268005371, 28414.301971435547, 30718.442108154297, 33424.282623291016, 29007.38198852539, 35497.86260986328, 26408.881866455078, 22494.82162475586, 25690.061798095703, 29631.141998291016, 33327.52235412598, 29645.14239501953, 23936.88168334961, 21959.361694335938, 20401.881622314453, 20398.84147644043, 25416.421936035156, 22382.361602783203, 19609.461395263672, 22338.061492919922, 29575.44204711914, 20122.321487426758, 20873.68148803711, 20475.001525878906, 19687.661422729492, 17986.1212310791, 16909.581176757812, 17760.02130126953, 17154.881271362305, 17369.481216430664, 17000.50129699707, 14471.141006469727, 17327.96128845215, 15586.361099243164, 15192.34105682373, 16057.961143493652, 29432.862243652344, 21032.461456298828, 15778.50112915039, 13972.840942382812, 15361.26107788086, 14665.92106628418, 12983.740997314453, 16507.40118408203, 15164.080978393555, 16115.021049499512, 14670.80093383789, 11676.520835876465, 12641.240867614746, 14229.900955200195, 14026.561004638672, 13990.720977783203, 14917.441131591797, 14691.960952758789, 12988.200942993164, 13342.720916748047, 14266.48112487793, 13126.080932617188, 13007.560943603516, 15978.181114196777, 14954.541114807129, 12710.70083618164, 14045.280990600586, 14086.260986328125, 12927.800796508789, 10637.140739440918, 13033.880912780762, 13134.800857543945, 12264.380752563477, 13273.14094543457, 20100.661331176758, 12335.680953979492, 12561.440925598145, 19396.041259765625, 15101.360977172852, 15476.981079101562, 10396.680717468262, 12281.800918579102, 12049.680938720703, 11546.020881652832, 13140.541000366211, 14803.141014099121, 13260.220840454102, 15204.641082763672, 11739.30093383789, 10289.58073425293, 11749.400787353516, 12457.700866699219, 11174.560779571533, 12249.820945739746], \"yaxis\": \"y\"}, {\"alignmentgroup\": \"True\", \"customdata\": [[\"STD_15:0-18:1(d7)-15:0 TAG\", \"STD_15:0-18:1(d7)-15:0 TAG\"]], \"hovertemplate\": \"Class=%{customdata[1]}<br>Intensity=%{y}<br>Lipid=%{customdata[0]}<extra></extra>\", \"legendgroup\": \"STD_15:0-18:1(d7)-15:0 TAG\", \"marker\": {\"color\": \"#EF553B\"}, \"name\": \"STD_15:0-18:1(d7)-15:0 TAG\", \"offsetgroup\": \"STD_15:0-18:1(d7)-15:0 TAG\", \"orientation\": \"v\", \"showlegend\": true, \"textposition\": \"auto\", \"type\": \"bar\", \"x\": [\"STD_15:0-18:1(d7)-15:0 TAG\"], \"xaxis\": \"x\", \"y\": [33835.302642822266], \"yaxis\": \"y\"}],                        {\"barmode\": \"relative\", \"legend\": {\"title\": {\"text\": \"Class\"}, \"tracegroupgap\": 0}, \"margin\": {\"t\": 60}, \"template\": {\"data\": {\"bar\": [{\"error_x\": {\"color\": \"#2a3f5f\"}, \"error_y\": {\"color\": \"#2a3f5f\"}, \"marker\": {\"line\": {\"color\": \"#E5ECF6\", \"width\": 0.5}}, \"type\": \"bar\"}], \"barpolar\": [{\"marker\": {\"line\": {\"color\": \"#E5ECF6\", \"width\": 0.5}}, \"type\": \"barpolar\"}], \"carpet\": [{\"aaxis\": {\"endlinecolor\": \"#2a3f5f\", \"gridcolor\": \"white\", \"linecolor\": \"white\", \"minorgridcolor\": \"white\", \"startlinecolor\": \"#2a3f5f\"}, \"baxis\": {\"endlinecolor\": \"#2a3f5f\", \"gridcolor\": \"white\", \"linecolor\": \"white\", \"minorgridcolor\": \"white\", \"startlinecolor\": \"#2a3f5f\"}, \"type\": \"carpet\"}], \"choropleth\": [{\"colorbar\": {\"outlinewidth\": 0, \"ticks\": \"\"}, \"type\": \"choropleth\"}], \"contour\": [{\"colorbar\": {\"outlinewidth\": 0, \"ticks\": \"\"}, \"colorscale\": [[0.0, \"#0d0887\"], [0.1111111111111111, \"#46039f\"], [0.2222222222222222, \"#7201a8\"], [0.3333333333333333, \"#9c179e\"], [0.4444444444444444, \"#bd3786\"], [0.5555555555555556, \"#d8576b\"], [0.6666666666666666, \"#ed7953\"], [0.7777777777777778, \"#fb9f3a\"], [0.8888888888888888, \"#fdca26\"], [1.0, \"#f0f921\"]], \"type\": \"contour\"}], \"contourcarpet\": [{\"colorbar\": {\"outlinewidth\": 0, \"ticks\": \"\"}, \"type\": \"contourcarpet\"}], \"heatmap\": [{\"colorbar\": {\"outlinewidth\": 0, \"ticks\": \"\"}, \"colorscale\": [[0.0, \"#0d0887\"], [0.1111111111111111, \"#46039f\"], [0.2222222222222222, \"#7201a8\"], [0.3333333333333333, \"#9c179e\"], [0.4444444444444444, \"#bd3786\"], [0.5555555555555556, \"#d8576b\"], [0.6666666666666666, \"#ed7953\"], [0.7777777777777778, \"#fb9f3a\"], [0.8888888888888888, \"#fdca26\"], [1.0, \"#f0f921\"]], \"type\": \"heatmap\"}], \"heatmapgl\": [{\"colorbar\": {\"outlinewidth\": 0, \"ticks\": \"\"}, \"colorscale\": [[0.0, \"#0d0887\"], [0.1111111111111111, \"#46039f\"], [0.2222222222222222, \"#7201a8\"], [0.3333333333333333, \"#9c179e\"], [0.4444444444444444, \"#bd3786\"], [0.5555555555555556, \"#d8576b\"], [0.6666666666666666, \"#ed7953\"], [0.7777777777777778, \"#fb9f3a\"], [0.8888888888888888, \"#fdca26\"], [1.0, \"#f0f921\"]], \"type\": \"heatmapgl\"}], \"histogram\": [{\"marker\": {\"colorbar\": {\"outlinewidth\": 0, \"ticks\": \"\"}}, \"type\": \"histogram\"}], \"histogram2d\": [{\"colorbar\": {\"outlinewidth\": 0, \"ticks\": \"\"}, \"colorscale\": [[0.0, \"#0d0887\"], [0.1111111111111111, \"#46039f\"], [0.2222222222222222, \"#7201a8\"], [0.3333333333333333, \"#9c179e\"], [0.4444444444444444, \"#bd3786\"], [0.5555555555555556, \"#d8576b\"], [0.6666666666666666, \"#ed7953\"], [0.7777777777777778, \"#fb9f3a\"], [0.8888888888888888, \"#fdca26\"], [1.0, \"#f0f921\"]], \"type\": \"histogram2d\"}], \"histogram2dcontour\": [{\"colorbar\": {\"outlinewidth\": 0, \"ticks\": \"\"}, \"colorscale\": [[0.0, \"#0d0887\"], [0.1111111111111111, \"#46039f\"], [0.2222222222222222, \"#7201a8\"], [0.3333333333333333, \"#9c179e\"], [0.4444444444444444, \"#bd3786\"], [0.5555555555555556, \"#d8576b\"], [0.6666666666666666, \"#ed7953\"], [0.7777777777777778, \"#fb9f3a\"], [0.8888888888888888, \"#fdca26\"], [1.0, \"#f0f921\"]], \"type\": \"histogram2dcontour\"}], \"mesh3d\": [{\"colorbar\": {\"outlinewidth\": 0, \"ticks\": \"\"}, \"type\": \"mesh3d\"}], \"parcoords\": [{\"line\": {\"colorbar\": {\"outlinewidth\": 0, \"ticks\": \"\"}}, \"type\": \"parcoords\"}], \"pie\": [{\"automargin\": true, \"type\": \"pie\"}], \"scatter\": [{\"marker\": {\"colorbar\": {\"outlinewidth\": 0, \"ticks\": \"\"}}, \"type\": \"scatter\"}], \"scatter3d\": [{\"line\": {\"colorbar\": {\"outlinewidth\": 0, \"ticks\": \"\"}}, \"marker\": {\"colorbar\": {\"outlinewidth\": 0, \"ticks\": \"\"}}, \"type\": \"scatter3d\"}], \"scattercarpet\": [{\"marker\": {\"colorbar\": {\"outlinewidth\": 0, \"ticks\": \"\"}}, \"type\": \"scattercarpet\"}], \"scattergeo\": [{\"marker\": {\"colorbar\": {\"outlinewidth\": 0, \"ticks\": \"\"}}, \"type\": \"scattergeo\"}], \"scattergl\": [{\"marker\": {\"colorbar\": {\"outlinewidth\": 0, \"ticks\": \"\"}}, \"type\": \"scattergl\"}], \"scattermapbox\": [{\"marker\": {\"colorbar\": {\"outlinewidth\": 0, \"ticks\": \"\"}}, \"type\": \"scattermapbox\"}], \"scatterpolar\": [{\"marker\": {\"colorbar\": {\"outlinewidth\": 0, \"ticks\": \"\"}}, \"type\": \"scatterpolar\"}], \"scatterpolargl\": [{\"marker\": {\"colorbar\": {\"outlinewidth\": 0, \"ticks\": \"\"}}, \"type\": \"scatterpolargl\"}], \"scatterternary\": [{\"marker\": {\"colorbar\": {\"outlinewidth\": 0, \"ticks\": \"\"}}, \"type\": \"scatterternary\"}], \"surface\": [{\"colorbar\": {\"outlinewidth\": 0, \"ticks\": \"\"}, \"colorscale\": [[0.0, \"#0d0887\"], [0.1111111111111111, \"#46039f\"], [0.2222222222222222, \"#7201a8\"], [0.3333333333333333, \"#9c179e\"], [0.4444444444444444, \"#bd3786\"], [0.5555555555555556, \"#d8576b\"], [0.6666666666666666, \"#ed7953\"], [0.7777777777777778, \"#fb9f3a\"], [0.8888888888888888, \"#fdca26\"], [1.0, \"#f0f921\"]], \"type\": \"surface\"}], \"table\": [{\"cells\": {\"fill\": {\"color\": \"#EBF0F8\"}, \"line\": {\"color\": \"white\"}}, \"header\": {\"fill\": {\"color\": \"#C8D4E3\"}, \"line\": {\"color\": \"white\"}}, \"type\": \"table\"}]}, \"layout\": {\"annotationdefaults\": {\"arrowcolor\": \"#2a3f5f\", \"arrowhead\": 0, \"arrowwidth\": 1}, \"coloraxis\": {\"colorbar\": {\"outlinewidth\": 0, \"ticks\": \"\"}}, \"colorscale\": {\"diverging\": [[0, \"#8e0152\"], [0.1, \"#c51b7d\"], [0.2, \"#de77ae\"], [0.3, \"#f1b6da\"], [0.4, \"#fde0ef\"], [0.5, \"#f7f7f7\"], [0.6, \"#e6f5d0\"], [0.7, \"#b8e186\"], [0.8, \"#7fbc41\"], [0.9, \"#4d9221\"], [1, \"#276419\"]], \"sequential\": [[0.0, \"#0d0887\"], [0.1111111111111111, \"#46039f\"], [0.2222222222222222, \"#7201a8\"], [0.3333333333333333, \"#9c179e\"], [0.4444444444444444, \"#bd3786\"], [0.5555555555555556, \"#d8576b\"], [0.6666666666666666, \"#ed7953\"], [0.7777777777777778, \"#fb9f3a\"], [0.8888888888888888, \"#fdca26\"], [1.0, \"#f0f921\"]], \"sequentialminus\": [[0.0, \"#0d0887\"], [0.1111111111111111, \"#46039f\"], [0.2222222222222222, \"#7201a8\"], [0.3333333333333333, \"#9c179e\"], [0.4444444444444444, \"#bd3786\"], [0.5555555555555556, \"#d8576b\"], [0.6666666666666666, \"#ed7953\"], [0.7777777777777778, \"#fb9f3a\"], [0.8888888888888888, \"#fdca26\"], [1.0, \"#f0f921\"]]}, \"colorway\": [\"#636efa\", \"#EF553B\", \"#00cc96\", \"#ab63fa\", \"#FFA15A\", \"#19d3f3\", \"#FF6692\", \"#B6E880\", \"#FF97FF\", \"#FECB52\"], \"font\": {\"color\": \"#2a3f5f\"}, \"geo\": {\"bgcolor\": \"white\", \"lakecolor\": \"white\", \"landcolor\": \"#E5ECF6\", \"showlakes\": true, \"showland\": true, \"subunitcolor\": \"white\"}, \"hoverlabel\": {\"align\": \"left\"}, \"hovermode\": \"closest\", \"mapbox\": {\"style\": \"light\"}, \"paper_bgcolor\": \"white\", \"plot_bgcolor\": \"#E5ECF6\", \"polar\": {\"angularaxis\": {\"gridcolor\": \"white\", \"linecolor\": \"white\", \"ticks\": \"\"}, \"bgcolor\": \"#E5ECF6\", \"radialaxis\": {\"gridcolor\": \"white\", \"linecolor\": \"white\", \"ticks\": \"\"}}, \"scene\": {\"xaxis\": {\"backgroundcolor\": \"#E5ECF6\", \"gridcolor\": \"white\", \"gridwidth\": 2, \"linecolor\": \"white\", \"showbackground\": true, \"ticks\": \"\", \"zerolinecolor\": \"white\"}, \"yaxis\": {\"backgroundcolor\": \"#E5ECF6\", \"gridcolor\": \"white\", \"gridwidth\": 2, \"linecolor\": \"white\", \"showbackground\": true, \"ticks\": \"\", \"zerolinecolor\": \"white\"}, \"zaxis\": {\"backgroundcolor\": \"#E5ECF6\", \"gridcolor\": \"white\", \"gridwidth\": 2, \"linecolor\": \"white\", \"showbackground\": true, \"ticks\": \"\", \"zerolinecolor\": \"white\"}}, \"shapedefaults\": {\"line\": {\"color\": \"#2a3f5f\"}}, \"ternary\": {\"aaxis\": {\"gridcolor\": \"white\", \"linecolor\": \"white\", \"ticks\": \"\"}, \"baxis\": {\"gridcolor\": \"white\", \"linecolor\": \"white\", \"ticks\": \"\"}, \"bgcolor\": \"#E5ECF6\", \"caxis\": {\"gridcolor\": \"white\", \"linecolor\": \"white\", \"ticks\": \"\"}}, \"title\": {\"x\": 0.05}, \"xaxis\": {\"automargin\": true, \"gridcolor\": \"white\", \"linecolor\": \"white\", \"ticks\": \"\", \"title\": {\"standoff\": 15}, \"zerolinecolor\": \"white\", \"zerolinewidth\": 2}, \"yaxis\": {\"automargin\": true, \"gridcolor\": \"white\", \"linecolor\": \"white\", \"ticks\": \"\", \"title\": {\"standoff\": 15}, \"zerolinecolor\": \"white\", \"zerolinewidth\": 2}}}, \"xaxis\": {\"anchor\": \"y\", \"categoryarray\": [\"TAG\", \"STD_15:0-18:1(d7)-15:0 TAG\"], \"categoryorder\": \"array\", \"domain\": [0.0, 1.0], \"title\": {\"text\": \"Class\"}}, \"yaxis\": {\"anchor\": \"x\", \"domain\": [0.0, 1.0], \"title\": {\"text\": \"Intensity\"}}},                        {\"responsive\": true}                    ).then(function(){\n",
       "                            \n",
       "var gd = document.getElementById('c19b4ed5-0ffc-473d-8c25-2240ebd32810');\n",
       "var x = new MutationObserver(function (mutations, observer) {{\n",
       "        var display = window.getComputedStyle(gd).display;\n",
       "        if (!display || display === 'none') {{\n",
       "            console.log([gd, 'removed!']);\n",
       "            Plotly.purge(gd);\n",
       "            observer.disconnect();\n",
       "        }}\n",
       "}});\n",
       "\n",
       "// Listen for the removal of the full notebook cells\n",
       "var notebookContainer = gd.closest('#notebook-container');\n",
       "if (notebookContainer) {{\n",
       "    x.observe(notebookContainer, {childList: true});\n",
       "}}\n",
       "\n",
       "// Listen for the clearing of the current output cell\n",
       "var outputEl = gd.closest('.output');\n",
       "if (outputEl) {{\n",
       "    x.observe(outputEl, {childList: true});\n",
       "}}\n",
       "\n",
       "                        })                };                });            </script>        </div>"
      ]
     },
     "metadata": {},
     "output_type": "display_data"
    },
    {
     "data": {
      "application/vnd.plotly.v1+json": {
       "config": {
        "plotlyServerURL": "https://plot.ly"
       },
       "data": [
        {
         "domain": {
          "x": [
           0,
           1
          ],
          "y": [
           0,
           1
          ]
         },
         "hovertemplate": "Class=%{label}<br>Intensity=%{value}<extra></extra>",
         "labels": [
          "TAG",
          "TAG",
          "TAG",
          "TAG",
          "TAG",
          "TAG",
          "TAG",
          "TAG",
          "TAG",
          "TAG",
          "TAG",
          "TAG",
          "TAG",
          "TAG",
          "TAG",
          "TAG",
          "TAG",
          "TAG",
          "TAG",
          "TAG",
          "TAG",
          "TAG",
          "TAG",
          "TAG",
          "TAG",
          "TAG",
          "TAG",
          "TAG",
          "TAG",
          "TAG",
          "TAG",
          "TAG",
          "TAG",
          "TAG",
          "TAG",
          "TAG",
          "TAG",
          "TAG",
          "TAG",
          "TAG",
          "TAG",
          "TAG",
          "TAG",
          "TAG",
          "TAG",
          "TAG",
          "TAG",
          "TAG",
          "TAG",
          "TAG",
          "TAG",
          "TAG",
          "TAG",
          "TAG",
          "TAG",
          "TAG",
          "STD_15:0-18:1(d7)-15:0 TAG",
          "TAG",
          "TAG",
          "TAG",
          "TAG",
          "TAG",
          "TAG",
          "TAG",
          "TAG",
          "TAG",
          "TAG",
          "TAG",
          "TAG",
          "TAG",
          "TAG",
          "TAG",
          "TAG",
          "TAG",
          "TAG",
          "TAG",
          "TAG",
          "TAG",
          "TAG",
          "TAG",
          "TAG",
          "TAG",
          "TAG",
          "TAG",
          "TAG",
          "TAG",
          "TAG",
          "TAG",
          "TAG",
          "TAG",
          "TAG",
          "TAG",
          "TAG",
          "TAG",
          "TAG",
          "TAG",
          "TAG",
          "TAG",
          "TAG",
          "TAG",
          "TAG",
          "TAG",
          "TAG",
          "TAG",
          "TAG",
          "TAG",
          "TAG",
          "TAG",
          "TAG",
          "TAG",
          "TAG",
          "TAG",
          "TAG",
          "TAG",
          "TAG",
          "TAG",
          "TAG",
          "TAG",
          "TAG",
          "TAG",
          "TAG",
          "TAG",
          "TAG",
          "TAG",
          "TAG",
          "TAG",
          "TAG",
          "TAG",
          "TAG",
          "TAG",
          "TAG",
          "TAG",
          "TAG",
          "TAG",
          "TAG",
          "TAG",
          "TAG",
          "TAG",
          "TAG",
          "TAG",
          "TAG",
          "TAG",
          "TAG",
          "TAG",
          "TAG",
          "TAG",
          "TAG",
          "TAG",
          "TAG",
          "TAG",
          "TAG",
          "TAG",
          "TAG",
          "TAG",
          "TAG",
          "TAG",
          "TAG",
          "TAG",
          "TAG",
          "TAG",
          "TAG",
          "TAG",
          "TAG",
          "TAG",
          "TAG",
          "TAG",
          "TAG",
          "TAG",
          "TAG",
          "TAG",
          "TAG",
          "TAG",
          "TAG",
          "TAG",
          "TAG",
          "TAG",
          "TAG",
          "TAG",
          "TAG",
          "TAG",
          "TAG"
         ],
         "legendgroup": "",
         "name": "",
         "showlegend": true,
         "type": "pie",
         "values": [
          45072.822998046875,
          64211.844482421875,
          237300.73681640625,
          27744.182037353516,
          37315.48260498047,
          24415.261688232422,
          34708.20263671875,
          155327.89086914062,
          20373.861602783203,
          19893.661392211914,
          26466.401824951172,
          15374.68115234375,
          19889.30142211914,
          17753.80108642578,
          131865.6494140625,
          94824.94689941406,
          16791.481231689453,
          63030.504150390625,
          26622.84196472168,
          28583.40203857422,
          29018.08203125,
          17620.081260681152,
          15765.661041259766,
          18071.14141845703,
          39169.32312011719,
          31882.602020263672,
          72722.04577636719,
          18579.66111755371,
          21398.161346435547,
          18318.621307373047,
          16532.841232299805,
          70729.62463378906,
          46782.86340332031,
          20436.341217041016,
          20286.141387939453,
          18562.861236572266,
          20631.881439208984,
          44036.763610839844,
          68736.06512451172,
          84029.40625,
          26131.921813964844,
          20985.38151550293,
          18959.501403808594,
          21987.14175415039,
          24136.061737060547,
          31395.762451171875,
          35014.362396240234,
          51366.403381347656,
          25303.261779785156,
          23539.601623535156,
          82808.48538208008,
          286373.7007446289,
          333579.6123046875,
          80859.20629882812,
          29734.44223022461,
          22083.261352539062,
          33835.302642822266,
          22096.821563720703,
          26063.061752319336,
          29320.561981201172,
          37507.4225769043,
          34488.222259521484,
          29315.282165527344,
          35932.222259521484,
          126118.92807006836,
          432169.33502197266,
          501185.328125,
          86953.32531738281,
          36228.10238647461,
          49931.743591308594,
          23814.681854248047,
          23092.781524658203,
          28172.081909179688,
          41892.44287109375,
          46549.702728271484,
          34083.9026184082,
          40384.46292114258,
          44110.603759765625,
          42770.922912597656,
          53848.18371582031,
          56664.44418334961,
          47311.622985839844,
          30805.982299804688,
          26174.721771240234,
          25399.10171508789,
          25004.141693115234,
          31147.182556152344,
          38980.08303833008,
          46906.80307006836,
          38897.4231262207,
          73665.94470214844,
          41898.76268005371,
          28414.301971435547,
          30718.442108154297,
          33424.282623291016,
          29007.38198852539,
          35497.86260986328,
          26408.881866455078,
          22494.82162475586,
          25690.061798095703,
          29631.141998291016,
          33327.52235412598,
          29645.14239501953,
          23936.88168334961,
          21959.361694335938,
          20401.881622314453,
          20398.84147644043,
          25416.421936035156,
          22382.361602783203,
          19609.461395263672,
          22338.061492919922,
          29575.44204711914,
          20122.321487426758,
          20873.68148803711,
          20475.001525878906,
          19687.661422729492,
          17986.1212310791,
          16909.581176757812,
          17760.02130126953,
          17154.881271362305,
          17369.481216430664,
          17000.50129699707,
          14471.141006469727,
          17327.96128845215,
          15586.361099243164,
          15192.34105682373,
          16057.961143493652,
          29432.862243652344,
          21032.461456298828,
          15778.50112915039,
          13972.840942382812,
          15361.26107788086,
          14665.92106628418,
          12983.740997314453,
          16507.40118408203,
          15164.080978393555,
          16115.021049499512,
          14670.80093383789,
          11676.520835876465,
          12641.240867614746,
          14229.900955200195,
          14026.561004638672,
          13990.720977783203,
          14917.441131591797,
          14691.960952758789,
          12988.200942993164,
          13342.720916748047,
          14266.48112487793,
          13126.080932617188,
          13007.560943603516,
          15978.181114196777,
          14954.541114807129,
          12710.70083618164,
          14045.280990600586,
          14086.260986328125,
          12927.800796508789,
          10637.140739440918,
          13033.880912780762,
          13134.800857543945,
          12264.380752563477,
          13273.14094543457,
          20100.661331176758,
          12335.680953979492,
          12561.440925598145,
          19396.041259765625,
          15101.360977172852,
          15476.981079101562,
          10396.680717468262,
          12281.800918579102,
          12049.680938720703,
          11546.020881652832,
          13140.541000366211,
          14803.141014099121,
          13260.220840454102,
          15204.641082763672,
          11739.30093383789,
          10289.58073425293,
          11749.400787353516,
          12457.700866699219,
          11174.560779571533,
          12249.820945739746
         ]
        }
       ],
       "layout": {
        "legend": {
         "tracegroupgap": 0
        },
        "template": {
         "data": {
          "bar": [
           {
            "error_x": {
             "color": "#2a3f5f"
            },
            "error_y": {
             "color": "#2a3f5f"
            },
            "marker": {
             "line": {
              "color": "#E5ECF6",
              "width": 0.5
             }
            },
            "type": "bar"
           }
          ],
          "barpolar": [
           {
            "marker": {
             "line": {
              "color": "#E5ECF6",
              "width": 0.5
             }
            },
            "type": "barpolar"
           }
          ],
          "carpet": [
           {
            "aaxis": {
             "endlinecolor": "#2a3f5f",
             "gridcolor": "white",
             "linecolor": "white",
             "minorgridcolor": "white",
             "startlinecolor": "#2a3f5f"
            },
            "baxis": {
             "endlinecolor": "#2a3f5f",
             "gridcolor": "white",
             "linecolor": "white",
             "minorgridcolor": "white",
             "startlinecolor": "#2a3f5f"
            },
            "type": "carpet"
           }
          ],
          "choropleth": [
           {
            "colorbar": {
             "outlinewidth": 0,
             "ticks": ""
            },
            "type": "choropleth"
           }
          ],
          "contour": [
           {
            "colorbar": {
             "outlinewidth": 0,
             "ticks": ""
            },
            "colorscale": [
             [
              0,
              "#0d0887"
             ],
             [
              0.1111111111111111,
              "#46039f"
             ],
             [
              0.2222222222222222,
              "#7201a8"
             ],
             [
              0.3333333333333333,
              "#9c179e"
             ],
             [
              0.4444444444444444,
              "#bd3786"
             ],
             [
              0.5555555555555556,
              "#d8576b"
             ],
             [
              0.6666666666666666,
              "#ed7953"
             ],
             [
              0.7777777777777778,
              "#fb9f3a"
             ],
             [
              0.8888888888888888,
              "#fdca26"
             ],
             [
              1,
              "#f0f921"
             ]
            ],
            "type": "contour"
           }
          ],
          "contourcarpet": [
           {
            "colorbar": {
             "outlinewidth": 0,
             "ticks": ""
            },
            "type": "contourcarpet"
           }
          ],
          "heatmap": [
           {
            "colorbar": {
             "outlinewidth": 0,
             "ticks": ""
            },
            "colorscale": [
             [
              0,
              "#0d0887"
             ],
             [
              0.1111111111111111,
              "#46039f"
             ],
             [
              0.2222222222222222,
              "#7201a8"
             ],
             [
              0.3333333333333333,
              "#9c179e"
             ],
             [
              0.4444444444444444,
              "#bd3786"
             ],
             [
              0.5555555555555556,
              "#d8576b"
             ],
             [
              0.6666666666666666,
              "#ed7953"
             ],
             [
              0.7777777777777778,
              "#fb9f3a"
             ],
             [
              0.8888888888888888,
              "#fdca26"
             ],
             [
              1,
              "#f0f921"
             ]
            ],
            "type": "heatmap"
           }
          ],
          "heatmapgl": [
           {
            "colorbar": {
             "outlinewidth": 0,
             "ticks": ""
            },
            "colorscale": [
             [
              0,
              "#0d0887"
             ],
             [
              0.1111111111111111,
              "#46039f"
             ],
             [
              0.2222222222222222,
              "#7201a8"
             ],
             [
              0.3333333333333333,
              "#9c179e"
             ],
             [
              0.4444444444444444,
              "#bd3786"
             ],
             [
              0.5555555555555556,
              "#d8576b"
             ],
             [
              0.6666666666666666,
              "#ed7953"
             ],
             [
              0.7777777777777778,
              "#fb9f3a"
             ],
             [
              0.8888888888888888,
              "#fdca26"
             ],
             [
              1,
              "#f0f921"
             ]
            ],
            "type": "heatmapgl"
           }
          ],
          "histogram": [
           {
            "marker": {
             "colorbar": {
              "outlinewidth": 0,
              "ticks": ""
             }
            },
            "type": "histogram"
           }
          ],
          "histogram2d": [
           {
            "colorbar": {
             "outlinewidth": 0,
             "ticks": ""
            },
            "colorscale": [
             [
              0,
              "#0d0887"
             ],
             [
              0.1111111111111111,
              "#46039f"
             ],
             [
              0.2222222222222222,
              "#7201a8"
             ],
             [
              0.3333333333333333,
              "#9c179e"
             ],
             [
              0.4444444444444444,
              "#bd3786"
             ],
             [
              0.5555555555555556,
              "#d8576b"
             ],
             [
              0.6666666666666666,
              "#ed7953"
             ],
             [
              0.7777777777777778,
              "#fb9f3a"
             ],
             [
              0.8888888888888888,
              "#fdca26"
             ],
             [
              1,
              "#f0f921"
             ]
            ],
            "type": "histogram2d"
           }
          ],
          "histogram2dcontour": [
           {
            "colorbar": {
             "outlinewidth": 0,
             "ticks": ""
            },
            "colorscale": [
             [
              0,
              "#0d0887"
             ],
             [
              0.1111111111111111,
              "#46039f"
             ],
             [
              0.2222222222222222,
              "#7201a8"
             ],
             [
              0.3333333333333333,
              "#9c179e"
             ],
             [
              0.4444444444444444,
              "#bd3786"
             ],
             [
              0.5555555555555556,
              "#d8576b"
             ],
             [
              0.6666666666666666,
              "#ed7953"
             ],
             [
              0.7777777777777778,
              "#fb9f3a"
             ],
             [
              0.8888888888888888,
              "#fdca26"
             ],
             [
              1,
              "#f0f921"
             ]
            ],
            "type": "histogram2dcontour"
           }
          ],
          "mesh3d": [
           {
            "colorbar": {
             "outlinewidth": 0,
             "ticks": ""
            },
            "type": "mesh3d"
           }
          ],
          "parcoords": [
           {
            "line": {
             "colorbar": {
              "outlinewidth": 0,
              "ticks": ""
             }
            },
            "type": "parcoords"
           }
          ],
          "pie": [
           {
            "automargin": true,
            "type": "pie"
           }
          ],
          "scatter": [
           {
            "marker": {
             "colorbar": {
              "outlinewidth": 0,
              "ticks": ""
             }
            },
            "type": "scatter"
           }
          ],
          "scatter3d": [
           {
            "line": {
             "colorbar": {
              "outlinewidth": 0,
              "ticks": ""
             }
            },
            "marker": {
             "colorbar": {
              "outlinewidth": 0,
              "ticks": ""
             }
            },
            "type": "scatter3d"
           }
          ],
          "scattercarpet": [
           {
            "marker": {
             "colorbar": {
              "outlinewidth": 0,
              "ticks": ""
             }
            },
            "type": "scattercarpet"
           }
          ],
          "scattergeo": [
           {
            "marker": {
             "colorbar": {
              "outlinewidth": 0,
              "ticks": ""
             }
            },
            "type": "scattergeo"
           }
          ],
          "scattergl": [
           {
            "marker": {
             "colorbar": {
              "outlinewidth": 0,
              "ticks": ""
             }
            },
            "type": "scattergl"
           }
          ],
          "scattermapbox": [
           {
            "marker": {
             "colorbar": {
              "outlinewidth": 0,
              "ticks": ""
             }
            },
            "type": "scattermapbox"
           }
          ],
          "scatterpolar": [
           {
            "marker": {
             "colorbar": {
              "outlinewidth": 0,
              "ticks": ""
             }
            },
            "type": "scatterpolar"
           }
          ],
          "scatterpolargl": [
           {
            "marker": {
             "colorbar": {
              "outlinewidth": 0,
              "ticks": ""
             }
            },
            "type": "scatterpolargl"
           }
          ],
          "scatterternary": [
           {
            "marker": {
             "colorbar": {
              "outlinewidth": 0,
              "ticks": ""
             }
            },
            "type": "scatterternary"
           }
          ],
          "surface": [
           {
            "colorbar": {
             "outlinewidth": 0,
             "ticks": ""
            },
            "colorscale": [
             [
              0,
              "#0d0887"
             ],
             [
              0.1111111111111111,
              "#46039f"
             ],
             [
              0.2222222222222222,
              "#7201a8"
             ],
             [
              0.3333333333333333,
              "#9c179e"
             ],
             [
              0.4444444444444444,
              "#bd3786"
             ],
             [
              0.5555555555555556,
              "#d8576b"
             ],
             [
              0.6666666666666666,
              "#ed7953"
             ],
             [
              0.7777777777777778,
              "#fb9f3a"
             ],
             [
              0.8888888888888888,
              "#fdca26"
             ],
             [
              1,
              "#f0f921"
             ]
            ],
            "type": "surface"
           }
          ],
          "table": [
           {
            "cells": {
             "fill": {
              "color": "#EBF0F8"
             },
             "line": {
              "color": "white"
             }
            },
            "header": {
             "fill": {
              "color": "#C8D4E3"
             },
             "line": {
              "color": "white"
             }
            },
            "type": "table"
           }
          ]
         },
         "layout": {
          "annotationdefaults": {
           "arrowcolor": "#2a3f5f",
           "arrowhead": 0,
           "arrowwidth": 1
          },
          "coloraxis": {
           "colorbar": {
            "outlinewidth": 0,
            "ticks": ""
           }
          },
          "colorscale": {
           "diverging": [
            [
             0,
             "#8e0152"
            ],
            [
             0.1,
             "#c51b7d"
            ],
            [
             0.2,
             "#de77ae"
            ],
            [
             0.3,
             "#f1b6da"
            ],
            [
             0.4,
             "#fde0ef"
            ],
            [
             0.5,
             "#f7f7f7"
            ],
            [
             0.6,
             "#e6f5d0"
            ],
            [
             0.7,
             "#b8e186"
            ],
            [
             0.8,
             "#7fbc41"
            ],
            [
             0.9,
             "#4d9221"
            ],
            [
             1,
             "#276419"
            ]
           ],
           "sequential": [
            [
             0,
             "#0d0887"
            ],
            [
             0.1111111111111111,
             "#46039f"
            ],
            [
             0.2222222222222222,
             "#7201a8"
            ],
            [
             0.3333333333333333,
             "#9c179e"
            ],
            [
             0.4444444444444444,
             "#bd3786"
            ],
            [
             0.5555555555555556,
             "#d8576b"
            ],
            [
             0.6666666666666666,
             "#ed7953"
            ],
            [
             0.7777777777777778,
             "#fb9f3a"
            ],
            [
             0.8888888888888888,
             "#fdca26"
            ],
            [
             1,
             "#f0f921"
            ]
           ],
           "sequentialminus": [
            [
             0,
             "#0d0887"
            ],
            [
             0.1111111111111111,
             "#46039f"
            ],
            [
             0.2222222222222222,
             "#7201a8"
            ],
            [
             0.3333333333333333,
             "#9c179e"
            ],
            [
             0.4444444444444444,
             "#bd3786"
            ],
            [
             0.5555555555555556,
             "#d8576b"
            ],
            [
             0.6666666666666666,
             "#ed7953"
            ],
            [
             0.7777777777777778,
             "#fb9f3a"
            ],
            [
             0.8888888888888888,
             "#fdca26"
            ],
            [
             1,
             "#f0f921"
            ]
           ]
          },
          "colorway": [
           "#636efa",
           "#EF553B",
           "#00cc96",
           "#ab63fa",
           "#FFA15A",
           "#19d3f3",
           "#FF6692",
           "#B6E880",
           "#FF97FF",
           "#FECB52"
          ],
          "font": {
           "color": "#2a3f5f"
          },
          "geo": {
           "bgcolor": "white",
           "lakecolor": "white",
           "landcolor": "#E5ECF6",
           "showlakes": true,
           "showland": true,
           "subunitcolor": "white"
          },
          "hoverlabel": {
           "align": "left"
          },
          "hovermode": "closest",
          "mapbox": {
           "style": "light"
          },
          "paper_bgcolor": "white",
          "plot_bgcolor": "#E5ECF6",
          "polar": {
           "angularaxis": {
            "gridcolor": "white",
            "linecolor": "white",
            "ticks": ""
           },
           "bgcolor": "#E5ECF6",
           "radialaxis": {
            "gridcolor": "white",
            "linecolor": "white",
            "ticks": ""
           }
          },
          "scene": {
           "xaxis": {
            "backgroundcolor": "#E5ECF6",
            "gridcolor": "white",
            "gridwidth": 2,
            "linecolor": "white",
            "showbackground": true,
            "ticks": "",
            "zerolinecolor": "white"
           },
           "yaxis": {
            "backgroundcolor": "#E5ECF6",
            "gridcolor": "white",
            "gridwidth": 2,
            "linecolor": "white",
            "showbackground": true,
            "ticks": "",
            "zerolinecolor": "white"
           },
           "zaxis": {
            "backgroundcolor": "#E5ECF6",
            "gridcolor": "white",
            "gridwidth": 2,
            "linecolor": "white",
            "showbackground": true,
            "ticks": "",
            "zerolinecolor": "white"
           }
          },
          "shapedefaults": {
           "line": {
            "color": "#2a3f5f"
           }
          },
          "ternary": {
           "aaxis": {
            "gridcolor": "white",
            "linecolor": "white",
            "ticks": ""
           },
           "baxis": {
            "gridcolor": "white",
            "linecolor": "white",
            "ticks": ""
           },
           "bgcolor": "#E5ECF6",
           "caxis": {
            "gridcolor": "white",
            "linecolor": "white",
            "ticks": ""
           }
          },
          "title": {
           "x": 0.05
          },
          "xaxis": {
           "automargin": true,
           "gridcolor": "white",
           "linecolor": "white",
           "ticks": "",
           "title": {
            "standoff": 15
           },
           "zerolinecolor": "white",
           "zerolinewidth": 2
          },
          "yaxis": {
           "automargin": true,
           "gridcolor": "white",
           "linecolor": "white",
           "ticks": "",
           "title": {
            "standoff": 15
           },
           "zerolinecolor": "white",
           "zerolinewidth": 2
          }
         }
        },
        "title": {
         "text": "Lipid Class"
        }
       }
      },
      "text/html": [
       "<div>                            <div id=\"7f0a9241-a460-41ec-b19d-81e6a49d218f\" class=\"plotly-graph-div\" style=\"height:525px; width:100%;\"></div>            <script type=\"text/javascript\">                require([\"plotly\"], function(Plotly) {                    window.PLOTLYENV=window.PLOTLYENV || {};                                    if (document.getElementById(\"7f0a9241-a460-41ec-b19d-81e6a49d218f\")) {                    Plotly.newPlot(                        \"7f0a9241-a460-41ec-b19d-81e6a49d218f\",                        [{\"domain\": {\"x\": [0.0, 1.0], \"y\": [0.0, 1.0]}, \"hovertemplate\": \"Class=%{label}<br>Intensity=%{value}<extra></extra>\", \"labels\": [\"TAG\", \"TAG\", \"TAG\", \"TAG\", \"TAG\", \"TAG\", \"TAG\", \"TAG\", \"TAG\", \"TAG\", \"TAG\", \"TAG\", \"TAG\", \"TAG\", \"TAG\", \"TAG\", \"TAG\", \"TAG\", \"TAG\", \"TAG\", \"TAG\", \"TAG\", \"TAG\", \"TAG\", \"TAG\", \"TAG\", \"TAG\", \"TAG\", \"TAG\", \"TAG\", \"TAG\", \"TAG\", \"TAG\", \"TAG\", \"TAG\", \"TAG\", \"TAG\", \"TAG\", \"TAG\", \"TAG\", \"TAG\", \"TAG\", \"TAG\", \"TAG\", \"TAG\", \"TAG\", \"TAG\", \"TAG\", \"TAG\", \"TAG\", \"TAG\", \"TAG\", \"TAG\", \"TAG\", \"TAG\", \"TAG\", \"STD_15:0-18:1(d7)-15:0 TAG\", \"TAG\", \"TAG\", \"TAG\", \"TAG\", \"TAG\", \"TAG\", \"TAG\", \"TAG\", \"TAG\", \"TAG\", \"TAG\", \"TAG\", \"TAG\", \"TAG\", \"TAG\", \"TAG\", \"TAG\", \"TAG\", \"TAG\", \"TAG\", \"TAG\", \"TAG\", \"TAG\", \"TAG\", \"TAG\", \"TAG\", \"TAG\", \"TAG\", \"TAG\", \"TAG\", \"TAG\", \"TAG\", \"TAG\", \"TAG\", \"TAG\", \"TAG\", \"TAG\", \"TAG\", \"TAG\", \"TAG\", \"TAG\", \"TAG\", \"TAG\", \"TAG\", \"TAG\", \"TAG\", \"TAG\", \"TAG\", \"TAG\", \"TAG\", \"TAG\", \"TAG\", \"TAG\", \"TAG\", \"TAG\", \"TAG\", \"TAG\", \"TAG\", \"TAG\", \"TAG\", \"TAG\", \"TAG\", \"TAG\", \"TAG\", \"TAG\", \"TAG\", \"TAG\", \"TAG\", \"TAG\", \"TAG\", \"TAG\", \"TAG\", \"TAG\", \"TAG\", \"TAG\", \"TAG\", \"TAG\", \"TAG\", \"TAG\", \"TAG\", \"TAG\", \"TAG\", \"TAG\", \"TAG\", \"TAG\", \"TAG\", \"TAG\", \"TAG\", \"TAG\", \"TAG\", \"TAG\", \"TAG\", \"TAG\", \"TAG\", \"TAG\", \"TAG\", \"TAG\", \"TAG\", \"TAG\", \"TAG\", \"TAG\", \"TAG\", \"TAG\", \"TAG\", \"TAG\", \"TAG\", \"TAG\", \"TAG\", \"TAG\", \"TAG\", \"TAG\", \"TAG\", \"TAG\", \"TAG\", \"TAG\", \"TAG\", \"TAG\", \"TAG\", \"TAG\", \"TAG\", \"TAG\", \"TAG\", \"TAG\", \"TAG\"], \"legendgroup\": \"\", \"name\": \"\", \"showlegend\": true, \"type\": \"pie\", \"values\": [45072.822998046875, 64211.844482421875, 237300.73681640625, 27744.182037353516, 37315.48260498047, 24415.261688232422, 34708.20263671875, 155327.89086914062, 20373.861602783203, 19893.661392211914, 26466.401824951172, 15374.68115234375, 19889.30142211914, 17753.80108642578, 131865.6494140625, 94824.94689941406, 16791.481231689453, 63030.504150390625, 26622.84196472168, 28583.40203857422, 29018.08203125, 17620.081260681152, 15765.661041259766, 18071.14141845703, 39169.32312011719, 31882.602020263672, 72722.04577636719, 18579.66111755371, 21398.161346435547, 18318.621307373047, 16532.841232299805, 70729.62463378906, 46782.86340332031, 20436.341217041016, 20286.141387939453, 18562.861236572266, 20631.881439208984, 44036.763610839844, 68736.06512451172, 84029.40625, 26131.921813964844, 20985.38151550293, 18959.501403808594, 21987.14175415039, 24136.061737060547, 31395.762451171875, 35014.362396240234, 51366.403381347656, 25303.261779785156, 23539.601623535156, 82808.48538208008, 286373.7007446289, 333579.6123046875, 80859.20629882812, 29734.44223022461, 22083.261352539062, 33835.302642822266, 22096.821563720703, 26063.061752319336, 29320.561981201172, 37507.4225769043, 34488.222259521484, 29315.282165527344, 35932.222259521484, 126118.92807006836, 432169.33502197266, 501185.328125, 86953.32531738281, 36228.10238647461, 49931.743591308594, 23814.681854248047, 23092.781524658203, 28172.081909179688, 41892.44287109375, 46549.702728271484, 34083.9026184082, 40384.46292114258, 44110.603759765625, 42770.922912597656, 53848.18371582031, 56664.44418334961, 47311.622985839844, 30805.982299804688, 26174.721771240234, 25399.10171508789, 25004.141693115234, 31147.182556152344, 38980.08303833008, 46906.80307006836, 38897.4231262207, 73665.94470214844, 41898.76268005371, 28414.301971435547, 30718.442108154297, 33424.282623291016, 29007.38198852539, 35497.86260986328, 26408.881866455078, 22494.82162475586, 25690.061798095703, 29631.141998291016, 33327.52235412598, 29645.14239501953, 23936.88168334961, 21959.361694335938, 20401.881622314453, 20398.84147644043, 25416.421936035156, 22382.361602783203, 19609.461395263672, 22338.061492919922, 29575.44204711914, 20122.321487426758, 20873.68148803711, 20475.001525878906, 19687.661422729492, 17986.1212310791, 16909.581176757812, 17760.02130126953, 17154.881271362305, 17369.481216430664, 17000.50129699707, 14471.141006469727, 17327.96128845215, 15586.361099243164, 15192.34105682373, 16057.961143493652, 29432.862243652344, 21032.461456298828, 15778.50112915039, 13972.840942382812, 15361.26107788086, 14665.92106628418, 12983.740997314453, 16507.40118408203, 15164.080978393555, 16115.021049499512, 14670.80093383789, 11676.520835876465, 12641.240867614746, 14229.900955200195, 14026.561004638672, 13990.720977783203, 14917.441131591797, 14691.960952758789, 12988.200942993164, 13342.720916748047, 14266.48112487793, 13126.080932617188, 13007.560943603516, 15978.181114196777, 14954.541114807129, 12710.70083618164, 14045.280990600586, 14086.260986328125, 12927.800796508789, 10637.140739440918, 13033.880912780762, 13134.800857543945, 12264.380752563477, 13273.14094543457, 20100.661331176758, 12335.680953979492, 12561.440925598145, 19396.041259765625, 15101.360977172852, 15476.981079101562, 10396.680717468262, 12281.800918579102, 12049.680938720703, 11546.020881652832, 13140.541000366211, 14803.141014099121, 13260.220840454102, 15204.641082763672, 11739.30093383789, 10289.58073425293, 11749.400787353516, 12457.700866699219, 11174.560779571533, 12249.820945739746]}],                        {\"legend\": {\"tracegroupgap\": 0}, \"template\": {\"data\": {\"bar\": [{\"error_x\": {\"color\": \"#2a3f5f\"}, \"error_y\": {\"color\": \"#2a3f5f\"}, \"marker\": {\"line\": {\"color\": \"#E5ECF6\", \"width\": 0.5}}, \"type\": \"bar\"}], \"barpolar\": [{\"marker\": {\"line\": {\"color\": \"#E5ECF6\", \"width\": 0.5}}, \"type\": \"barpolar\"}], \"carpet\": [{\"aaxis\": {\"endlinecolor\": \"#2a3f5f\", \"gridcolor\": \"white\", \"linecolor\": \"white\", \"minorgridcolor\": \"white\", \"startlinecolor\": \"#2a3f5f\"}, \"baxis\": {\"endlinecolor\": \"#2a3f5f\", \"gridcolor\": \"white\", \"linecolor\": \"white\", \"minorgridcolor\": \"white\", \"startlinecolor\": \"#2a3f5f\"}, \"type\": \"carpet\"}], \"choropleth\": [{\"colorbar\": {\"outlinewidth\": 0, \"ticks\": \"\"}, \"type\": \"choropleth\"}], \"contour\": [{\"colorbar\": {\"outlinewidth\": 0, \"ticks\": \"\"}, \"colorscale\": [[0.0, \"#0d0887\"], [0.1111111111111111, \"#46039f\"], [0.2222222222222222, \"#7201a8\"], [0.3333333333333333, \"#9c179e\"], [0.4444444444444444, \"#bd3786\"], [0.5555555555555556, \"#d8576b\"], [0.6666666666666666, \"#ed7953\"], [0.7777777777777778, \"#fb9f3a\"], [0.8888888888888888, \"#fdca26\"], [1.0, \"#f0f921\"]], \"type\": \"contour\"}], \"contourcarpet\": [{\"colorbar\": {\"outlinewidth\": 0, \"ticks\": \"\"}, \"type\": \"contourcarpet\"}], \"heatmap\": [{\"colorbar\": {\"outlinewidth\": 0, \"ticks\": \"\"}, \"colorscale\": [[0.0, \"#0d0887\"], [0.1111111111111111, \"#46039f\"], [0.2222222222222222, \"#7201a8\"], [0.3333333333333333, \"#9c179e\"], [0.4444444444444444, \"#bd3786\"], [0.5555555555555556, \"#d8576b\"], [0.6666666666666666, \"#ed7953\"], [0.7777777777777778, \"#fb9f3a\"], [0.8888888888888888, \"#fdca26\"], [1.0, \"#f0f921\"]], \"type\": \"heatmap\"}], \"heatmapgl\": [{\"colorbar\": {\"outlinewidth\": 0, \"ticks\": \"\"}, \"colorscale\": [[0.0, \"#0d0887\"], [0.1111111111111111, \"#46039f\"], [0.2222222222222222, \"#7201a8\"], [0.3333333333333333, \"#9c179e\"], [0.4444444444444444, \"#bd3786\"], [0.5555555555555556, \"#d8576b\"], [0.6666666666666666, \"#ed7953\"], [0.7777777777777778, \"#fb9f3a\"], [0.8888888888888888, \"#fdca26\"], [1.0, \"#f0f921\"]], \"type\": \"heatmapgl\"}], \"histogram\": [{\"marker\": {\"colorbar\": {\"outlinewidth\": 0, \"ticks\": \"\"}}, \"type\": \"histogram\"}], \"histogram2d\": [{\"colorbar\": {\"outlinewidth\": 0, \"ticks\": \"\"}, \"colorscale\": [[0.0, \"#0d0887\"], [0.1111111111111111, \"#46039f\"], [0.2222222222222222, \"#7201a8\"], [0.3333333333333333, \"#9c179e\"], [0.4444444444444444, \"#bd3786\"], [0.5555555555555556, \"#d8576b\"], [0.6666666666666666, \"#ed7953\"], [0.7777777777777778, \"#fb9f3a\"], [0.8888888888888888, \"#fdca26\"], [1.0, \"#f0f921\"]], \"type\": \"histogram2d\"}], \"histogram2dcontour\": [{\"colorbar\": {\"outlinewidth\": 0, \"ticks\": \"\"}, \"colorscale\": [[0.0, \"#0d0887\"], [0.1111111111111111, \"#46039f\"], [0.2222222222222222, \"#7201a8\"], [0.3333333333333333, \"#9c179e\"], [0.4444444444444444, \"#bd3786\"], [0.5555555555555556, \"#d8576b\"], [0.6666666666666666, \"#ed7953\"], [0.7777777777777778, \"#fb9f3a\"], [0.8888888888888888, \"#fdca26\"], [1.0, \"#f0f921\"]], \"type\": \"histogram2dcontour\"}], \"mesh3d\": [{\"colorbar\": {\"outlinewidth\": 0, \"ticks\": \"\"}, \"type\": \"mesh3d\"}], \"parcoords\": [{\"line\": {\"colorbar\": {\"outlinewidth\": 0, \"ticks\": \"\"}}, \"type\": \"parcoords\"}], \"pie\": [{\"automargin\": true, \"type\": \"pie\"}], \"scatter\": [{\"marker\": {\"colorbar\": {\"outlinewidth\": 0, \"ticks\": \"\"}}, \"type\": \"scatter\"}], \"scatter3d\": [{\"line\": {\"colorbar\": {\"outlinewidth\": 0, \"ticks\": \"\"}}, \"marker\": {\"colorbar\": {\"outlinewidth\": 0, \"ticks\": \"\"}}, \"type\": \"scatter3d\"}], \"scattercarpet\": [{\"marker\": {\"colorbar\": {\"outlinewidth\": 0, \"ticks\": \"\"}}, \"type\": \"scattercarpet\"}], \"scattergeo\": [{\"marker\": {\"colorbar\": {\"outlinewidth\": 0, \"ticks\": \"\"}}, \"type\": \"scattergeo\"}], \"scattergl\": [{\"marker\": {\"colorbar\": {\"outlinewidth\": 0, \"ticks\": \"\"}}, \"type\": \"scattergl\"}], \"scattermapbox\": [{\"marker\": {\"colorbar\": {\"outlinewidth\": 0, \"ticks\": \"\"}}, \"type\": \"scattermapbox\"}], \"scatterpolar\": [{\"marker\": {\"colorbar\": {\"outlinewidth\": 0, \"ticks\": \"\"}}, \"type\": \"scatterpolar\"}], \"scatterpolargl\": [{\"marker\": {\"colorbar\": {\"outlinewidth\": 0, \"ticks\": \"\"}}, \"type\": \"scatterpolargl\"}], \"scatterternary\": [{\"marker\": {\"colorbar\": {\"outlinewidth\": 0, \"ticks\": \"\"}}, \"type\": \"scatterternary\"}], \"surface\": [{\"colorbar\": {\"outlinewidth\": 0, \"ticks\": \"\"}, \"colorscale\": [[0.0, \"#0d0887\"], [0.1111111111111111, \"#46039f\"], [0.2222222222222222, \"#7201a8\"], [0.3333333333333333, \"#9c179e\"], [0.4444444444444444, \"#bd3786\"], [0.5555555555555556, \"#d8576b\"], [0.6666666666666666, \"#ed7953\"], [0.7777777777777778, \"#fb9f3a\"], [0.8888888888888888, \"#fdca26\"], [1.0, \"#f0f921\"]], \"type\": \"surface\"}], \"table\": [{\"cells\": {\"fill\": {\"color\": \"#EBF0F8\"}, \"line\": {\"color\": \"white\"}}, \"header\": {\"fill\": {\"color\": \"#C8D4E3\"}, \"line\": {\"color\": \"white\"}}, \"type\": \"table\"}]}, \"layout\": {\"annotationdefaults\": {\"arrowcolor\": \"#2a3f5f\", \"arrowhead\": 0, \"arrowwidth\": 1}, \"coloraxis\": {\"colorbar\": {\"outlinewidth\": 0, \"ticks\": \"\"}}, \"colorscale\": {\"diverging\": [[0, \"#8e0152\"], [0.1, \"#c51b7d\"], [0.2, \"#de77ae\"], [0.3, \"#f1b6da\"], [0.4, \"#fde0ef\"], [0.5, \"#f7f7f7\"], [0.6, \"#e6f5d0\"], [0.7, \"#b8e186\"], [0.8, \"#7fbc41\"], [0.9, \"#4d9221\"], [1, \"#276419\"]], \"sequential\": [[0.0, \"#0d0887\"], [0.1111111111111111, \"#46039f\"], [0.2222222222222222, \"#7201a8\"], [0.3333333333333333, \"#9c179e\"], [0.4444444444444444, \"#bd3786\"], [0.5555555555555556, \"#d8576b\"], [0.6666666666666666, \"#ed7953\"], [0.7777777777777778, \"#fb9f3a\"], [0.8888888888888888, \"#fdca26\"], [1.0, \"#f0f921\"]], \"sequentialminus\": [[0.0, \"#0d0887\"], [0.1111111111111111, \"#46039f\"], [0.2222222222222222, \"#7201a8\"], [0.3333333333333333, \"#9c179e\"], [0.4444444444444444, \"#bd3786\"], [0.5555555555555556, \"#d8576b\"], [0.6666666666666666, \"#ed7953\"], [0.7777777777777778, \"#fb9f3a\"], [0.8888888888888888, \"#fdca26\"], [1.0, \"#f0f921\"]]}, \"colorway\": [\"#636efa\", \"#EF553B\", \"#00cc96\", \"#ab63fa\", \"#FFA15A\", \"#19d3f3\", \"#FF6692\", \"#B6E880\", \"#FF97FF\", \"#FECB52\"], \"font\": {\"color\": \"#2a3f5f\"}, \"geo\": {\"bgcolor\": \"white\", \"lakecolor\": \"white\", \"landcolor\": \"#E5ECF6\", \"showlakes\": true, \"showland\": true, \"subunitcolor\": \"white\"}, \"hoverlabel\": {\"align\": \"left\"}, \"hovermode\": \"closest\", \"mapbox\": {\"style\": \"light\"}, \"paper_bgcolor\": \"white\", \"plot_bgcolor\": \"#E5ECF6\", \"polar\": {\"angularaxis\": {\"gridcolor\": \"white\", \"linecolor\": \"white\", \"ticks\": \"\"}, \"bgcolor\": \"#E5ECF6\", \"radialaxis\": {\"gridcolor\": \"white\", \"linecolor\": \"white\", \"ticks\": \"\"}}, \"scene\": {\"xaxis\": {\"backgroundcolor\": \"#E5ECF6\", \"gridcolor\": \"white\", \"gridwidth\": 2, \"linecolor\": \"white\", \"showbackground\": true, \"ticks\": \"\", \"zerolinecolor\": \"white\"}, \"yaxis\": {\"backgroundcolor\": \"#E5ECF6\", \"gridcolor\": \"white\", \"gridwidth\": 2, \"linecolor\": \"white\", \"showbackground\": true, \"ticks\": \"\", \"zerolinecolor\": \"white\"}, \"zaxis\": {\"backgroundcolor\": \"#E5ECF6\", \"gridcolor\": \"white\", \"gridwidth\": 2, \"linecolor\": \"white\", \"showbackground\": true, \"ticks\": \"\", \"zerolinecolor\": \"white\"}}, \"shapedefaults\": {\"line\": {\"color\": \"#2a3f5f\"}}, \"ternary\": {\"aaxis\": {\"gridcolor\": \"white\", \"linecolor\": \"white\", \"ticks\": \"\"}, \"baxis\": {\"gridcolor\": \"white\", \"linecolor\": \"white\", \"ticks\": \"\"}, \"bgcolor\": \"#E5ECF6\", \"caxis\": {\"gridcolor\": \"white\", \"linecolor\": \"white\", \"ticks\": \"\"}}, \"title\": {\"x\": 0.05}, \"xaxis\": {\"automargin\": true, \"gridcolor\": \"white\", \"linecolor\": \"white\", \"ticks\": \"\", \"title\": {\"standoff\": 15}, \"zerolinecolor\": \"white\", \"zerolinewidth\": 2}, \"yaxis\": {\"automargin\": true, \"gridcolor\": \"white\", \"linecolor\": \"white\", \"ticks\": \"\", \"title\": {\"standoff\": 15}, \"zerolinecolor\": \"white\", \"zerolinewidth\": 2}}}, \"title\": {\"text\": \"Lipid Class\"}},                        {\"responsive\": true}                    ).then(function(){\n",
       "                            \n",
       "var gd = document.getElementById('7f0a9241-a460-41ec-b19d-81e6a49d218f');\n",
       "var x = new MutationObserver(function (mutations, observer) {{\n",
       "        var display = window.getComputedStyle(gd).display;\n",
       "        if (!display || display === 'none') {{\n",
       "            console.log([gd, 'removed!']);\n",
       "            Plotly.purge(gd);\n",
       "            observer.disconnect();\n",
       "        }}\n",
       "}});\n",
       "\n",
       "// Listen for the removal of the full notebook cells\n",
       "var notebookContainer = gd.closest('#notebook-container');\n",
       "if (notebookContainer) {{\n",
       "    x.observe(notebookContainer, {childList: true});\n",
       "}}\n",
       "\n",
       "// Listen for the clearing of the current output cell\n",
       "var outputEl = gd.closest('.output');\n",
       "if (outputEl) {{\n",
       "    x.observe(outputEl, {childList: true});\n",
       "}}\n",
       "\n",
       "                        })                };                });            </script>        </div>"
      ]
     },
     "metadata": {},
     "output_type": "display_data"
    },
    {
     "data": {
      "application/vnd.plotly.v1+json": {
       "config": {
        "plotlyServerURL": "https://plot.ly"
       },
       "data": [
        {
         "colorscale": [
          [
           0,
           "#440154"
          ],
          [
           0.1111111111111111,
           "#482878"
          ],
          [
           0.2222222222222222,
           "#3e4989"
          ],
          [
           0.3333333333333333,
           "#31688e"
          ],
          [
           0.4444444444444444,
           "#26828e"
          ],
          [
           0.5555555555555556,
           "#1f9e89"
          ],
          [
           0.6666666666666666,
           "#35b779"
          ],
          [
           0.7777777777777778,
           "#6ece58"
          ],
          [
           0.8888888888888888,
           "#b5de2b"
          ],
          [
           1,
           "#fde725"
          ]
         ],
         "type": "heatmap",
         "x": [
          "[TG(37:0)]_FA14:0",
          "[TG(38:1)]_FA14:0",
          "[TG(38:0)]_FA14:0",
          "[TG(39:1)]_FA14:0",
          "[TG(39:0)]_FA14:0",
          "[TG(40:2)]_FA14:0",
          "[TG(40:1)]_FA14:0",
          "[TG(40:0)]_FA14:0",
          "[TG(41:2)]_FA14:0",
          "[TG(41:1)]_FA14:0",
          "[TG(41:0)]_FA14:0",
          "[TG(42:4)]_FA14:0",
          "[TG(42:3)]_FA14:0",
          "[TG(42:2)]_FA14:0",
          "[TG(42:1)]_FA14:0",
          "[TG(42:0)]_FA14:0",
          "[TG(43:4)]_FA14:0",
          "[TG(43:3)]_FA14:0",
          "[TG(43:2)]_FA14:0",
          "[TG(43:1)]_FA14:0",
          "[TG(43:0)]_FA14:0",
          "[TG(44:5)]_FA14:0",
          "[TG(44:4)]_FA14:0",
          "[TG(44:3)]_FA14:0",
          "[TG(44:2)]_FA14:0",
          "[TG(44:1)]_FA14:0",
          "[TG(44:0),TG(O-45:0)]_FA14:0",
          "[TG(45:5)]_FA14:0",
          "[TG(45:4)]_FA14:0",
          "[TG(45:3)]_FA14:0",
          "[TG(45:2)]_FA14:0",
          "[TG(45:1)]_FA14:0",
          "[TG(45:0)]_FA14:0",
          "[TG(46:6)]_FA14:0",
          "[TG(46:5)]_FA14:0",
          "[TG(46:4)]_FA14:0",
          "[TG(46:3)]_FA14:0",
          "[TG(46:2)]_FA14:0",
          "[TG(46:1)]_FA14:0",
          "[TG(46:0)]_FA14:0",
          "[TG(47:6)]_FA14:0",
          "[TG(47:5)]_FA14:0",
          "[TG(47:4)]_FA14:0",
          "[TG(47:3)]_FA14:0",
          "[TG(47:2)]_FA14:0",
          "[TG(48:8),TG(47:1)]_FA14:0",
          "[TG(48:7),TG(47:0)]_FA14:0",
          "[TG(48:6)]_FA14:0",
          "[TG(48:5)]_FA14:0",
          "[TG(48:4)]_FA14:0",
          "[TG(48:3)]_FA14:0",
          "[TG(48:2)]_FA14:0",
          "[TG(49:8),TG(48:1)]_FA14:0",
          "[TG(49:7),TG(48:0)]_FA14:0",
          "[TG(49:6)]_FA14:0",
          "[TG(49:5)]_FA14:0",
          "STD_15:0-18:1(d7)-15:0 TAG",
          "[TG(49:4)]_FA14:0",
          "[TG(49:3)]_FA14:0",
          "[TG(50:9),TG(49:2)]_FA14:0",
          "[TG(50:8),TG(49:1)]_FA14:0",
          "[TG(50:7),TG(49:0)]_FA14:0",
          "[TG(50:6)]_FA14:0",
          "[TG(50:5)]_FA14:0",
          "[TG(50:4)]_FA14:0",
          "[TG(50:3)]_FA14:0",
          "[TG(51:9),TG(50:2)]_FA14:0",
          "[TG(51:8),TG(50:1)]_FA14:0",
          "[TG(51:7),TG(50:0)]_FA14:0",
          "[TG(51:6)]_FA14:0",
          "[TG(51:5)]_FA14:0",
          "[TG(51:4)]_FA14:0",
          "[TG(52:10),TG(51:3)]_FA14:0",
          "[TG(52:9),TG(51:2)]_FA14:0",
          "[TG(52:8),TG(51:1)]_FA14:0",
          "[TG(52:7),TG(51:0)]_FA14:0",
          "[TG(52:6)]_FA14:0",
          "[TG(52:5)]_FA14:0",
          "[TG(52:4)]_FA14:0",
          "[TG(53:10),TG(52:3)]_FA14:0",
          "[TG(53:9),TG(52:2)]_FA14:0",
          "[TG(53:8),TG(52:1)]_FA14:0",
          "[TG(53:7),TG(52:0)]_FA14:0",
          "[TG(53:6)]_FA14:0",
          "[TG(54:12),TG(53:5)]_FA14:0",
          "[TG(54:11),TG(53:4)]_FA14:0",
          "[TG(54:10),TG(53:3)]_FA14:0",
          "[TG(54:9),TG(53:2)]_FA14:0",
          "[TG(54:8),TG(53:1)]_FA14:0",
          "[TG(54:7),TG(53:0)]_FA14:0",
          "[TG(54:6)]_FA14:0",
          "[TG(54:5)]_FA14:0",
          "[TG(55:11),TG(54:4)]_FA14:0",
          "[TG(55:10),TG(54:3)]_FA14:0",
          "[TG(55:9),TG(54:2)]_FA14:0",
          "[TG(55:8),TG(54:1)]_FA14:0",
          "[TG(55:7),TG(54:0)]_FA14:0",
          "[TG(56:13),TG(55:6)]_FA14:0",
          "[TG(56:12),TG(55:5)]_FA14:0",
          "[TG(56:11),TG(55:4)]_FA14:0",
          "[TG(56:10),TG(55:3)]_FA14:0",
          "[TG(56:9),TG(55:2)]_FA14:0",
          "[TG(56:8),TG(55:1)]_FA14:0",
          "[TG(56:7),TG(55:0)]_FA14:0",
          "[TG(56:6)]_FA14:0",
          "[TG(57:12),TG(56:5)]_FA14:0",
          "[TG(57:11),TG(56:4)]_FA14:0",
          "[TG(57:10),TG(56:3)]_FA14:0",
          "[TG(57:9),TG(56:2)]_FA14:0",
          "[TG(57:8),TG(56:1)]_FA14:0",
          "[TG(58:14),TG(57:7),TG(56:0)]_FA14:0",
          "[TG(58:13),TG(57:6)]_FA14:0",
          "[TG(58:12),TG(57:5)]_FA14:0",
          "[TG(58:11),TG(57:4)]_FA14:0",
          "[TG(58:10),TG(57:3)]_FA14:0",
          "[TG(58:9),TG(57:2)]_FA14:0",
          "[TG(58:8),TG(57:1)]_FA14:0",
          "[TG(58:7),TG(57:0)]_FA14:0",
          "[TG(59:13),TG(58:6)]_FA14:0",
          "[TG(59:12),TG(58:5)]_FA14:0",
          "[TG(59:11),TG(58:4)]_FA14:0",
          "[TG(59:10),TG(58:3)]_FA14:0",
          "[TG(59:9),TG(58:2)]_FA14:0",
          "[TG(60:15),TG(59:8),TG(58:1)]_FA14:0",
          "[TG(60:14),TG(59:7),TG(58:0)]_FA14:0",
          "[TG(60:13),TG(59:6)]_FA14:0",
          "[TG(60:12),TG(59:5)]_FA14:0",
          "[TG(60:11),TG(59:4)]_FA14:0",
          "[TG(60:10),TG(59:3)]_FA14:0",
          "[TG(60:9),TG(59:2)]_FA14:0",
          "[TG(60:8),TG(59:1)]_FA14:0",
          "[TG(61:14),TG(60:7),TG(59:0)]_FA14:0",
          "[TG(61:13),TG(60:6)]_FA14:0",
          "[TG(61:12),TG(60:5)]_FA14:0",
          "[TG(61:11),TG(60:4)]_FA14:0",
          "[TG(61:10),TG(60:3)]_FA14:0",
          "[TG(62:16),TG(61:9),TG(60:2)]_FA14:0",
          "[TG(62:15),TG(61:8),TG(60:1)]_FA14:0",
          "[TG(62:14),TG(61:7),TG(60:0)]_FA14:0",
          "[TG(62:13),TG(61:6)]_FA14:0",
          "[TG(62:12),TG(61:5)]_FA14:0",
          "[TG(62:11),TG(61:4)]_FA14:0",
          "[TG(62:10),TG(61:3)]_FA14:0",
          "[TG(62:9),TG(61:2)]_FA14:0",
          "[TG(62:8),TG(61:1)]_FA14:0",
          "[TG(62:7),TG(61:0)]_FA14:0",
          "[TG(63:13),TG(62:6)]_FA14:0",
          "[TG(63:12),TG(62:5)]_FA14:0",
          "[TG(63:11),TG(62:4)]_FA14:0",
          "[TG(64:17),TG(63:10),TG(62:3)]_FA14:0",
          "[TG(64:16),TG(63:9),TG(62:2)]_FA14:0",
          "[TG(64:15),TG(63:8),TG(62:1)]_FA14:0",
          "[TG(64:14),TG(63:7),TG(62:0)]_FA14:0",
          "[TG(64:13),TG(63:6)]_FA14:0",
          "[TG(64:12),TG(63:5)]_FA14:0",
          "[TG(64:11),TG(63:4)]_FA14:0",
          "[TG(64:10),TG(63:3)]_FA14:0",
          "[TG(64:9),TG(63:2)]_FA14:0",
          "[TG(64:8),TG(63:1)]_FA14:0",
          "[TG(64:7),TG(63:0)]_FA14:0",
          "[TG(64:6)]_FA14:0",
          "[TG(65:12),TG(64:5)]_FA14:0",
          "[TG(66:18),TG(65:11),TG(64:4)]_FA14:0",
          "[TG(66:17),TG(65:10),TG(64:3)]_FA14:0",
          "[TG(66:16),TG(65:9),TG(64:2)]_FA14:0",
          "[TG(66:15),TG(65:8),TG(64:1)]_FA14:0",
          "[TG(66:14),TG(65:7),TG(64:0)]_FA14:0",
          "[TG(66:13),TG(65:6)]_FA14:0",
          "[TG(66:12),TG(65:5)]_FA14:0",
          "[TG(66:11),TG(65:4)]_FA14:0",
          "[TG(66:10),TG(65:3)]_FA14:0",
          "[TG(66:9),TG(65:2)]_FA14:0",
          "[TG(66:8),TG(65:1)]_FA14:0",
          "[TG(66:7)]_FA14:0",
          "[TG(65:0)]_FA14:0",
          "[TG(66:6)]_FA14:0",
          "[TG(66:5)]_FA14:0",
          "[TG(66:4)]_FA14:0",
          "[TG(66:3)]_FA14:0",
          "[TG(66:2)]_FA14:0",
          "[TG(66:1)]_FA14:0"
         ],
         "y": [
          "TAG",
          "TAG",
          "TAG",
          "TAG",
          "TAG",
          "TAG",
          "TAG",
          "TAG",
          "TAG",
          "TAG",
          "TAG",
          "TAG",
          "TAG",
          "TAG",
          "TAG",
          "TAG",
          "TAG",
          "TAG",
          "TAG",
          "TAG",
          "TAG",
          "TAG",
          "TAG",
          "TAG",
          "TAG",
          "TAG",
          "TAG",
          "TAG",
          "TAG",
          "TAG",
          "TAG",
          "TAG",
          "TAG",
          "TAG",
          "TAG",
          "TAG",
          "TAG",
          "TAG",
          "TAG",
          "TAG",
          "TAG",
          "TAG",
          "TAG",
          "TAG",
          "TAG",
          "TAG",
          "TAG",
          "TAG",
          "TAG",
          "TAG",
          "TAG",
          "TAG",
          "TAG",
          "TAG",
          "TAG",
          "TAG",
          "STD_15:0-18:1(d7)-15:0 TAG",
          "TAG",
          "TAG",
          "TAG",
          "TAG",
          "TAG",
          "TAG",
          "TAG",
          "TAG",
          "TAG",
          "TAG",
          "TAG",
          "TAG",
          "TAG",
          "TAG",
          "TAG",
          "TAG",
          "TAG",
          "TAG",
          "TAG",
          "TAG",
          "TAG",
          "TAG",
          "TAG",
          "TAG",
          "TAG",
          "TAG",
          "TAG",
          "TAG",
          "TAG",
          "TAG",
          "TAG",
          "TAG",
          "TAG",
          "TAG",
          "TAG",
          "TAG",
          "TAG",
          "TAG",
          "TAG",
          "TAG",
          "TAG",
          "TAG",
          "TAG",
          "TAG",
          "TAG",
          "TAG",
          "TAG",
          "TAG",
          "TAG",
          "TAG",
          "TAG",
          "TAG",
          "TAG",
          "TAG",
          "TAG",
          "TAG",
          "TAG",
          "TAG",
          "TAG",
          "TAG",
          "TAG",
          "TAG",
          "TAG",
          "TAG",
          "TAG",
          "TAG",
          "TAG",
          "TAG",
          "TAG",
          "TAG",
          "TAG",
          "TAG",
          "TAG",
          "TAG",
          "TAG",
          "TAG",
          "TAG",
          "TAG",
          "TAG",
          "TAG",
          "TAG",
          "TAG",
          "TAG",
          "TAG",
          "TAG",
          "TAG",
          "TAG",
          "TAG",
          "TAG",
          "TAG",
          "TAG",
          "TAG",
          "TAG",
          "TAG",
          "TAG",
          "TAG",
          "TAG",
          "TAG",
          "TAG",
          "TAG",
          "TAG",
          "TAG",
          "TAG",
          "TAG",
          "TAG",
          "TAG",
          "TAG",
          "TAG",
          "TAG",
          "TAG",
          "TAG",
          "TAG",
          "TAG",
          "TAG",
          "TAG",
          "TAG",
          "TAG",
          "TAG",
          "TAG",
          "TAG",
          "TAG",
          "TAG",
          "TAG",
          "TAG"
         ],
         "z": [
          45072.822998046875,
          64211.844482421875,
          237300.73681640625,
          27744.182037353516,
          37315.48260498047,
          24415.261688232422,
          34708.20263671875,
          155327.89086914062,
          20373.861602783203,
          19893.661392211914,
          26466.401824951172,
          15374.68115234375,
          19889.30142211914,
          17753.80108642578,
          131865.6494140625,
          94824.94689941406,
          16791.481231689453,
          63030.504150390625,
          26622.84196472168,
          28583.40203857422,
          29018.08203125,
          17620.081260681152,
          15765.661041259766,
          18071.14141845703,
          39169.32312011719,
          31882.602020263672,
          72722.04577636719,
          18579.66111755371,
          21398.161346435547,
          18318.621307373047,
          16532.841232299805,
          70729.62463378906,
          46782.86340332031,
          20436.341217041016,
          20286.141387939453,
          18562.861236572266,
          20631.881439208984,
          44036.763610839844,
          68736.06512451172,
          84029.40625,
          26131.921813964844,
          20985.38151550293,
          18959.501403808594,
          21987.14175415039,
          24136.061737060547,
          31395.762451171875,
          35014.362396240234,
          51366.403381347656,
          25303.261779785156,
          23539.601623535156,
          82808.48538208008,
          286373.7007446289,
          333579.6123046875,
          80859.20629882812,
          29734.44223022461,
          22083.261352539062,
          33835.302642822266,
          22096.821563720703,
          26063.061752319336,
          29320.561981201172,
          37507.4225769043,
          34488.222259521484,
          29315.282165527344,
          35932.222259521484,
          126118.92807006836,
          432169.33502197266,
          501185.328125,
          86953.32531738281,
          36228.10238647461,
          49931.743591308594,
          23814.681854248047,
          23092.781524658203,
          28172.081909179688,
          41892.44287109375,
          46549.702728271484,
          34083.9026184082,
          40384.46292114258,
          44110.603759765625,
          42770.922912597656,
          53848.18371582031,
          56664.44418334961,
          47311.622985839844,
          30805.982299804688,
          26174.721771240234,
          25399.10171508789,
          25004.141693115234,
          31147.182556152344,
          38980.08303833008,
          46906.80307006836,
          38897.4231262207,
          73665.94470214844,
          41898.76268005371,
          28414.301971435547,
          30718.442108154297,
          33424.282623291016,
          29007.38198852539,
          35497.86260986328,
          26408.881866455078,
          22494.82162475586,
          25690.061798095703,
          29631.141998291016,
          33327.52235412598,
          29645.14239501953,
          23936.88168334961,
          21959.361694335938,
          20401.881622314453,
          20398.84147644043,
          25416.421936035156,
          22382.361602783203,
          19609.461395263672,
          22338.061492919922,
          29575.44204711914,
          20122.321487426758,
          20873.68148803711,
          20475.001525878906,
          19687.661422729492,
          17986.1212310791,
          16909.581176757812,
          17760.02130126953,
          17154.881271362305,
          17369.481216430664,
          17000.50129699707,
          14471.141006469727,
          17327.96128845215,
          15586.361099243164,
          15192.34105682373,
          16057.961143493652,
          29432.862243652344,
          21032.461456298828,
          15778.50112915039,
          13972.840942382812,
          15361.26107788086,
          14665.92106628418,
          12983.740997314453,
          16507.40118408203,
          15164.080978393555,
          16115.021049499512,
          14670.80093383789,
          11676.520835876465,
          12641.240867614746,
          14229.900955200195,
          14026.561004638672,
          13990.720977783203,
          14917.441131591797,
          14691.960952758789,
          12988.200942993164,
          13342.720916748047,
          14266.48112487793,
          13126.080932617188,
          13007.560943603516,
          15978.181114196777,
          14954.541114807129,
          12710.70083618164,
          14045.280990600586,
          14086.260986328125,
          12927.800796508789,
          10637.140739440918,
          13033.880912780762,
          13134.800857543945,
          12264.380752563477,
          13273.14094543457,
          20100.661331176758,
          12335.680953979492,
          12561.440925598145,
          19396.041259765625,
          15101.360977172852,
          15476.981079101562,
          10396.680717468262,
          12281.800918579102,
          12049.680938720703,
          11546.020881652832,
          13140.541000366211,
          14803.141014099121,
          13260.220840454102,
          15204.641082763672,
          11739.30093383789,
          10289.58073425293,
          11749.400787353516,
          12457.700866699219,
          11174.560779571533,
          12249.820945739746
         ]
        }
       ],
       "layout": {
        "template": {
         "data": {
          "bar": [
           {
            "error_x": {
             "color": "#2a3f5f"
            },
            "error_y": {
             "color": "#2a3f5f"
            },
            "marker": {
             "line": {
              "color": "#E5ECF6",
              "width": 0.5
             }
            },
            "type": "bar"
           }
          ],
          "barpolar": [
           {
            "marker": {
             "line": {
              "color": "#E5ECF6",
              "width": 0.5
             }
            },
            "type": "barpolar"
           }
          ],
          "carpet": [
           {
            "aaxis": {
             "endlinecolor": "#2a3f5f",
             "gridcolor": "white",
             "linecolor": "white",
             "minorgridcolor": "white",
             "startlinecolor": "#2a3f5f"
            },
            "baxis": {
             "endlinecolor": "#2a3f5f",
             "gridcolor": "white",
             "linecolor": "white",
             "minorgridcolor": "white",
             "startlinecolor": "#2a3f5f"
            },
            "type": "carpet"
           }
          ],
          "choropleth": [
           {
            "colorbar": {
             "outlinewidth": 0,
             "ticks": ""
            },
            "type": "choropleth"
           }
          ],
          "contour": [
           {
            "colorbar": {
             "outlinewidth": 0,
             "ticks": ""
            },
            "colorscale": [
             [
              0,
              "#0d0887"
             ],
             [
              0.1111111111111111,
              "#46039f"
             ],
             [
              0.2222222222222222,
              "#7201a8"
             ],
             [
              0.3333333333333333,
              "#9c179e"
             ],
             [
              0.4444444444444444,
              "#bd3786"
             ],
             [
              0.5555555555555556,
              "#d8576b"
             ],
             [
              0.6666666666666666,
              "#ed7953"
             ],
             [
              0.7777777777777778,
              "#fb9f3a"
             ],
             [
              0.8888888888888888,
              "#fdca26"
             ],
             [
              1,
              "#f0f921"
             ]
            ],
            "type": "contour"
           }
          ],
          "contourcarpet": [
           {
            "colorbar": {
             "outlinewidth": 0,
             "ticks": ""
            },
            "type": "contourcarpet"
           }
          ],
          "heatmap": [
           {
            "colorbar": {
             "outlinewidth": 0,
             "ticks": ""
            },
            "colorscale": [
             [
              0,
              "#0d0887"
             ],
             [
              0.1111111111111111,
              "#46039f"
             ],
             [
              0.2222222222222222,
              "#7201a8"
             ],
             [
              0.3333333333333333,
              "#9c179e"
             ],
             [
              0.4444444444444444,
              "#bd3786"
             ],
             [
              0.5555555555555556,
              "#d8576b"
             ],
             [
              0.6666666666666666,
              "#ed7953"
             ],
             [
              0.7777777777777778,
              "#fb9f3a"
             ],
             [
              0.8888888888888888,
              "#fdca26"
             ],
             [
              1,
              "#f0f921"
             ]
            ],
            "type": "heatmap"
           }
          ],
          "heatmapgl": [
           {
            "colorbar": {
             "outlinewidth": 0,
             "ticks": ""
            },
            "colorscale": [
             [
              0,
              "#0d0887"
             ],
             [
              0.1111111111111111,
              "#46039f"
             ],
             [
              0.2222222222222222,
              "#7201a8"
             ],
             [
              0.3333333333333333,
              "#9c179e"
             ],
             [
              0.4444444444444444,
              "#bd3786"
             ],
             [
              0.5555555555555556,
              "#d8576b"
             ],
             [
              0.6666666666666666,
              "#ed7953"
             ],
             [
              0.7777777777777778,
              "#fb9f3a"
             ],
             [
              0.8888888888888888,
              "#fdca26"
             ],
             [
              1,
              "#f0f921"
             ]
            ],
            "type": "heatmapgl"
           }
          ],
          "histogram": [
           {
            "marker": {
             "colorbar": {
              "outlinewidth": 0,
              "ticks": ""
             }
            },
            "type": "histogram"
           }
          ],
          "histogram2d": [
           {
            "colorbar": {
             "outlinewidth": 0,
             "ticks": ""
            },
            "colorscale": [
             [
              0,
              "#0d0887"
             ],
             [
              0.1111111111111111,
              "#46039f"
             ],
             [
              0.2222222222222222,
              "#7201a8"
             ],
             [
              0.3333333333333333,
              "#9c179e"
             ],
             [
              0.4444444444444444,
              "#bd3786"
             ],
             [
              0.5555555555555556,
              "#d8576b"
             ],
             [
              0.6666666666666666,
              "#ed7953"
             ],
             [
              0.7777777777777778,
              "#fb9f3a"
             ],
             [
              0.8888888888888888,
              "#fdca26"
             ],
             [
              1,
              "#f0f921"
             ]
            ],
            "type": "histogram2d"
           }
          ],
          "histogram2dcontour": [
           {
            "colorbar": {
             "outlinewidth": 0,
             "ticks": ""
            },
            "colorscale": [
             [
              0,
              "#0d0887"
             ],
             [
              0.1111111111111111,
              "#46039f"
             ],
             [
              0.2222222222222222,
              "#7201a8"
             ],
             [
              0.3333333333333333,
              "#9c179e"
             ],
             [
              0.4444444444444444,
              "#bd3786"
             ],
             [
              0.5555555555555556,
              "#d8576b"
             ],
             [
              0.6666666666666666,
              "#ed7953"
             ],
             [
              0.7777777777777778,
              "#fb9f3a"
             ],
             [
              0.8888888888888888,
              "#fdca26"
             ],
             [
              1,
              "#f0f921"
             ]
            ],
            "type": "histogram2dcontour"
           }
          ],
          "mesh3d": [
           {
            "colorbar": {
             "outlinewidth": 0,
             "ticks": ""
            },
            "type": "mesh3d"
           }
          ],
          "parcoords": [
           {
            "line": {
             "colorbar": {
              "outlinewidth": 0,
              "ticks": ""
             }
            },
            "type": "parcoords"
           }
          ],
          "pie": [
           {
            "automargin": true,
            "type": "pie"
           }
          ],
          "scatter": [
           {
            "marker": {
             "colorbar": {
              "outlinewidth": 0,
              "ticks": ""
             }
            },
            "type": "scatter"
           }
          ],
          "scatter3d": [
           {
            "line": {
             "colorbar": {
              "outlinewidth": 0,
              "ticks": ""
             }
            },
            "marker": {
             "colorbar": {
              "outlinewidth": 0,
              "ticks": ""
             }
            },
            "type": "scatter3d"
           }
          ],
          "scattercarpet": [
           {
            "marker": {
             "colorbar": {
              "outlinewidth": 0,
              "ticks": ""
             }
            },
            "type": "scattercarpet"
           }
          ],
          "scattergeo": [
           {
            "marker": {
             "colorbar": {
              "outlinewidth": 0,
              "ticks": ""
             }
            },
            "type": "scattergeo"
           }
          ],
          "scattergl": [
           {
            "marker": {
             "colorbar": {
              "outlinewidth": 0,
              "ticks": ""
             }
            },
            "type": "scattergl"
           }
          ],
          "scattermapbox": [
           {
            "marker": {
             "colorbar": {
              "outlinewidth": 0,
              "ticks": ""
             }
            },
            "type": "scattermapbox"
           }
          ],
          "scatterpolar": [
           {
            "marker": {
             "colorbar": {
              "outlinewidth": 0,
              "ticks": ""
             }
            },
            "type": "scatterpolar"
           }
          ],
          "scatterpolargl": [
           {
            "marker": {
             "colorbar": {
              "outlinewidth": 0,
              "ticks": ""
             }
            },
            "type": "scatterpolargl"
           }
          ],
          "scatterternary": [
           {
            "marker": {
             "colorbar": {
              "outlinewidth": 0,
              "ticks": ""
             }
            },
            "type": "scatterternary"
           }
          ],
          "surface": [
           {
            "colorbar": {
             "outlinewidth": 0,
             "ticks": ""
            },
            "colorscale": [
             [
              0,
              "#0d0887"
             ],
             [
              0.1111111111111111,
              "#46039f"
             ],
             [
              0.2222222222222222,
              "#7201a8"
             ],
             [
              0.3333333333333333,
              "#9c179e"
             ],
             [
              0.4444444444444444,
              "#bd3786"
             ],
             [
              0.5555555555555556,
              "#d8576b"
             ],
             [
              0.6666666666666666,
              "#ed7953"
             ],
             [
              0.7777777777777778,
              "#fb9f3a"
             ],
             [
              0.8888888888888888,
              "#fdca26"
             ],
             [
              1,
              "#f0f921"
             ]
            ],
            "type": "surface"
           }
          ],
          "table": [
           {
            "cells": {
             "fill": {
              "color": "#EBF0F8"
             },
             "line": {
              "color": "white"
             }
            },
            "header": {
             "fill": {
              "color": "#C8D4E3"
             },
             "line": {
              "color": "white"
             }
            },
            "type": "table"
           }
          ]
         },
         "layout": {
          "annotationdefaults": {
           "arrowcolor": "#2a3f5f",
           "arrowhead": 0,
           "arrowwidth": 1
          },
          "coloraxis": {
           "colorbar": {
            "outlinewidth": 0,
            "ticks": ""
           }
          },
          "colorscale": {
           "diverging": [
            [
             0,
             "#8e0152"
            ],
            [
             0.1,
             "#c51b7d"
            ],
            [
             0.2,
             "#de77ae"
            ],
            [
             0.3,
             "#f1b6da"
            ],
            [
             0.4,
             "#fde0ef"
            ],
            [
             0.5,
             "#f7f7f7"
            ],
            [
             0.6,
             "#e6f5d0"
            ],
            [
             0.7,
             "#b8e186"
            ],
            [
             0.8,
             "#7fbc41"
            ],
            [
             0.9,
             "#4d9221"
            ],
            [
             1,
             "#276419"
            ]
           ],
           "sequential": [
            [
             0,
             "#0d0887"
            ],
            [
             0.1111111111111111,
             "#46039f"
            ],
            [
             0.2222222222222222,
             "#7201a8"
            ],
            [
             0.3333333333333333,
             "#9c179e"
            ],
            [
             0.4444444444444444,
             "#bd3786"
            ],
            [
             0.5555555555555556,
             "#d8576b"
            ],
            [
             0.6666666666666666,
             "#ed7953"
            ],
            [
             0.7777777777777778,
             "#fb9f3a"
            ],
            [
             0.8888888888888888,
             "#fdca26"
            ],
            [
             1,
             "#f0f921"
            ]
           ],
           "sequentialminus": [
            [
             0,
             "#0d0887"
            ],
            [
             0.1111111111111111,
             "#46039f"
            ],
            [
             0.2222222222222222,
             "#7201a8"
            ],
            [
             0.3333333333333333,
             "#9c179e"
            ],
            [
             0.4444444444444444,
             "#bd3786"
            ],
            [
             0.5555555555555556,
             "#d8576b"
            ],
            [
             0.6666666666666666,
             "#ed7953"
            ],
            [
             0.7777777777777778,
             "#fb9f3a"
            ],
            [
             0.8888888888888888,
             "#fdca26"
            ],
            [
             1,
             "#f0f921"
            ]
           ]
          },
          "colorway": [
           "#636efa",
           "#EF553B",
           "#00cc96",
           "#ab63fa",
           "#FFA15A",
           "#19d3f3",
           "#FF6692",
           "#B6E880",
           "#FF97FF",
           "#FECB52"
          ],
          "font": {
           "color": "#2a3f5f"
          },
          "geo": {
           "bgcolor": "white",
           "lakecolor": "white",
           "landcolor": "#E5ECF6",
           "showlakes": true,
           "showland": true,
           "subunitcolor": "white"
          },
          "hoverlabel": {
           "align": "left"
          },
          "hovermode": "closest",
          "mapbox": {
           "style": "light"
          },
          "paper_bgcolor": "white",
          "plot_bgcolor": "#E5ECF6",
          "polar": {
           "angularaxis": {
            "gridcolor": "white",
            "linecolor": "white",
            "ticks": ""
           },
           "bgcolor": "#E5ECF6",
           "radialaxis": {
            "gridcolor": "white",
            "linecolor": "white",
            "ticks": ""
           }
          },
          "scene": {
           "xaxis": {
            "backgroundcolor": "#E5ECF6",
            "gridcolor": "white",
            "gridwidth": 2,
            "linecolor": "white",
            "showbackground": true,
            "ticks": "",
            "zerolinecolor": "white"
           },
           "yaxis": {
            "backgroundcolor": "#E5ECF6",
            "gridcolor": "white",
            "gridwidth": 2,
            "linecolor": "white",
            "showbackground": true,
            "ticks": "",
            "zerolinecolor": "white"
           },
           "zaxis": {
            "backgroundcolor": "#E5ECF6",
            "gridcolor": "white",
            "gridwidth": 2,
            "linecolor": "white",
            "showbackground": true,
            "ticks": "",
            "zerolinecolor": "white"
           }
          },
          "shapedefaults": {
           "line": {
            "color": "#2a3f5f"
           }
          },
          "ternary": {
           "aaxis": {
            "gridcolor": "white",
            "linecolor": "white",
            "ticks": ""
           },
           "baxis": {
            "gridcolor": "white",
            "linecolor": "white",
            "ticks": ""
           },
           "bgcolor": "#E5ECF6",
           "caxis": {
            "gridcolor": "white",
            "linecolor": "white",
            "ticks": ""
           }
          },
          "title": {
           "x": 0.05
          },
          "xaxis": {
           "automargin": true,
           "gridcolor": "white",
           "linecolor": "white",
           "ticks": "",
           "title": {
            "standoff": 15
           },
           "zerolinecolor": "white",
           "zerolinewidth": 2
          },
          "yaxis": {
           "automargin": true,
           "gridcolor": "white",
           "linecolor": "white",
           "ticks": "",
           "title": {
            "standoff": 15
           },
           "zerolinecolor": "white",
           "zerolinewidth": 2
          }
         }
        }
       }
      },
      "text/html": [
       "<div>                            <div id=\"40ba56ab-b18c-4ecd-b880-f929f44d385b\" class=\"plotly-graph-div\" style=\"height:525px; width:100%;\"></div>            <script type=\"text/javascript\">                require([\"plotly\"], function(Plotly) {                    window.PLOTLYENV=window.PLOTLYENV || {};                                    if (document.getElementById(\"40ba56ab-b18c-4ecd-b880-f929f44d385b\")) {                    Plotly.newPlot(                        \"40ba56ab-b18c-4ecd-b880-f929f44d385b\",                        [{\"colorscale\": [[0.0, \"#440154\"], [0.1111111111111111, \"#482878\"], [0.2222222222222222, \"#3e4989\"], [0.3333333333333333, \"#31688e\"], [0.4444444444444444, \"#26828e\"], [0.5555555555555556, \"#1f9e89\"], [0.6666666666666666, \"#35b779\"], [0.7777777777777778, \"#6ece58\"], [0.8888888888888888, \"#b5de2b\"], [1.0, \"#fde725\"]], \"type\": \"heatmap\", \"x\": [\"[TG(37:0)]_FA14:0\", \"[TG(38:1)]_FA14:0\", \"[TG(38:0)]_FA14:0\", \"[TG(39:1)]_FA14:0\", \"[TG(39:0)]_FA14:0\", \"[TG(40:2)]_FA14:0\", \"[TG(40:1)]_FA14:0\", \"[TG(40:0)]_FA14:0\", \"[TG(41:2)]_FA14:0\", \"[TG(41:1)]_FA14:0\", \"[TG(41:0)]_FA14:0\", \"[TG(42:4)]_FA14:0\", \"[TG(42:3)]_FA14:0\", \"[TG(42:2)]_FA14:0\", \"[TG(42:1)]_FA14:0\", \"[TG(42:0)]_FA14:0\", \"[TG(43:4)]_FA14:0\", \"[TG(43:3)]_FA14:0\", \"[TG(43:2)]_FA14:0\", \"[TG(43:1)]_FA14:0\", \"[TG(43:0)]_FA14:0\", \"[TG(44:5)]_FA14:0\", \"[TG(44:4)]_FA14:0\", \"[TG(44:3)]_FA14:0\", \"[TG(44:2)]_FA14:0\", \"[TG(44:1)]_FA14:0\", \"[TG(44:0),TG(O-45:0)]_FA14:0\", \"[TG(45:5)]_FA14:0\", \"[TG(45:4)]_FA14:0\", \"[TG(45:3)]_FA14:0\", \"[TG(45:2)]_FA14:0\", \"[TG(45:1)]_FA14:0\", \"[TG(45:0)]_FA14:0\", \"[TG(46:6)]_FA14:0\", \"[TG(46:5)]_FA14:0\", \"[TG(46:4)]_FA14:0\", \"[TG(46:3)]_FA14:0\", \"[TG(46:2)]_FA14:0\", \"[TG(46:1)]_FA14:0\", \"[TG(46:0)]_FA14:0\", \"[TG(47:6)]_FA14:0\", \"[TG(47:5)]_FA14:0\", \"[TG(47:4)]_FA14:0\", \"[TG(47:3)]_FA14:0\", \"[TG(47:2)]_FA14:0\", \"[TG(48:8),TG(47:1)]_FA14:0\", \"[TG(48:7),TG(47:0)]_FA14:0\", \"[TG(48:6)]_FA14:0\", \"[TG(48:5)]_FA14:0\", \"[TG(48:4)]_FA14:0\", \"[TG(48:3)]_FA14:0\", \"[TG(48:2)]_FA14:0\", \"[TG(49:8),TG(48:1)]_FA14:0\", \"[TG(49:7),TG(48:0)]_FA14:0\", \"[TG(49:6)]_FA14:0\", \"[TG(49:5)]_FA14:0\", \"STD_15:0-18:1(d7)-15:0 TAG\", \"[TG(49:4)]_FA14:0\", \"[TG(49:3)]_FA14:0\", \"[TG(50:9),TG(49:2)]_FA14:0\", \"[TG(50:8),TG(49:1)]_FA14:0\", \"[TG(50:7),TG(49:0)]_FA14:0\", \"[TG(50:6)]_FA14:0\", \"[TG(50:5)]_FA14:0\", \"[TG(50:4)]_FA14:0\", \"[TG(50:3)]_FA14:0\", \"[TG(51:9),TG(50:2)]_FA14:0\", \"[TG(51:8),TG(50:1)]_FA14:0\", \"[TG(51:7),TG(50:0)]_FA14:0\", \"[TG(51:6)]_FA14:0\", \"[TG(51:5)]_FA14:0\", \"[TG(51:4)]_FA14:0\", \"[TG(52:10),TG(51:3)]_FA14:0\", \"[TG(52:9),TG(51:2)]_FA14:0\", \"[TG(52:8),TG(51:1)]_FA14:0\", \"[TG(52:7),TG(51:0)]_FA14:0\", \"[TG(52:6)]_FA14:0\", \"[TG(52:5)]_FA14:0\", \"[TG(52:4)]_FA14:0\", \"[TG(53:10),TG(52:3)]_FA14:0\", \"[TG(53:9),TG(52:2)]_FA14:0\", \"[TG(53:8),TG(52:1)]_FA14:0\", \"[TG(53:7),TG(52:0)]_FA14:0\", \"[TG(53:6)]_FA14:0\", \"[TG(54:12),TG(53:5)]_FA14:0\", \"[TG(54:11),TG(53:4)]_FA14:0\", \"[TG(54:10),TG(53:3)]_FA14:0\", \"[TG(54:9),TG(53:2)]_FA14:0\", \"[TG(54:8),TG(53:1)]_FA14:0\", \"[TG(54:7),TG(53:0)]_FA14:0\", \"[TG(54:6)]_FA14:0\", \"[TG(54:5)]_FA14:0\", \"[TG(55:11),TG(54:4)]_FA14:0\", \"[TG(55:10),TG(54:3)]_FA14:0\", \"[TG(55:9),TG(54:2)]_FA14:0\", \"[TG(55:8),TG(54:1)]_FA14:0\", \"[TG(55:7),TG(54:0)]_FA14:0\", \"[TG(56:13),TG(55:6)]_FA14:0\", \"[TG(56:12),TG(55:5)]_FA14:0\", \"[TG(56:11),TG(55:4)]_FA14:0\", \"[TG(56:10),TG(55:3)]_FA14:0\", \"[TG(56:9),TG(55:2)]_FA14:0\", \"[TG(56:8),TG(55:1)]_FA14:0\", \"[TG(56:7),TG(55:0)]_FA14:0\", \"[TG(56:6)]_FA14:0\", \"[TG(57:12),TG(56:5)]_FA14:0\", \"[TG(57:11),TG(56:4)]_FA14:0\", \"[TG(57:10),TG(56:3)]_FA14:0\", \"[TG(57:9),TG(56:2)]_FA14:0\", \"[TG(57:8),TG(56:1)]_FA14:0\", \"[TG(58:14),TG(57:7),TG(56:0)]_FA14:0\", \"[TG(58:13),TG(57:6)]_FA14:0\", \"[TG(58:12),TG(57:5)]_FA14:0\", \"[TG(58:11),TG(57:4)]_FA14:0\", \"[TG(58:10),TG(57:3)]_FA14:0\", \"[TG(58:9),TG(57:2)]_FA14:0\", \"[TG(58:8),TG(57:1)]_FA14:0\", \"[TG(58:7),TG(57:0)]_FA14:0\", \"[TG(59:13),TG(58:6)]_FA14:0\", \"[TG(59:12),TG(58:5)]_FA14:0\", \"[TG(59:11),TG(58:4)]_FA14:0\", \"[TG(59:10),TG(58:3)]_FA14:0\", \"[TG(59:9),TG(58:2)]_FA14:0\", \"[TG(60:15),TG(59:8),TG(58:1)]_FA14:0\", \"[TG(60:14),TG(59:7),TG(58:0)]_FA14:0\", \"[TG(60:13),TG(59:6)]_FA14:0\", \"[TG(60:12),TG(59:5)]_FA14:0\", \"[TG(60:11),TG(59:4)]_FA14:0\", \"[TG(60:10),TG(59:3)]_FA14:0\", \"[TG(60:9),TG(59:2)]_FA14:0\", \"[TG(60:8),TG(59:1)]_FA14:0\", \"[TG(61:14),TG(60:7),TG(59:0)]_FA14:0\", \"[TG(61:13),TG(60:6)]_FA14:0\", \"[TG(61:12),TG(60:5)]_FA14:0\", \"[TG(61:11),TG(60:4)]_FA14:0\", \"[TG(61:10),TG(60:3)]_FA14:0\", \"[TG(62:16),TG(61:9),TG(60:2)]_FA14:0\", \"[TG(62:15),TG(61:8),TG(60:1)]_FA14:0\", \"[TG(62:14),TG(61:7),TG(60:0)]_FA14:0\", \"[TG(62:13),TG(61:6)]_FA14:0\", \"[TG(62:12),TG(61:5)]_FA14:0\", \"[TG(62:11),TG(61:4)]_FA14:0\", \"[TG(62:10),TG(61:3)]_FA14:0\", \"[TG(62:9),TG(61:2)]_FA14:0\", \"[TG(62:8),TG(61:1)]_FA14:0\", \"[TG(62:7),TG(61:0)]_FA14:0\", \"[TG(63:13),TG(62:6)]_FA14:0\", \"[TG(63:12),TG(62:5)]_FA14:0\", \"[TG(63:11),TG(62:4)]_FA14:0\", \"[TG(64:17),TG(63:10),TG(62:3)]_FA14:0\", \"[TG(64:16),TG(63:9),TG(62:2)]_FA14:0\", \"[TG(64:15),TG(63:8),TG(62:1)]_FA14:0\", \"[TG(64:14),TG(63:7),TG(62:0)]_FA14:0\", \"[TG(64:13),TG(63:6)]_FA14:0\", \"[TG(64:12),TG(63:5)]_FA14:0\", \"[TG(64:11),TG(63:4)]_FA14:0\", \"[TG(64:10),TG(63:3)]_FA14:0\", \"[TG(64:9),TG(63:2)]_FA14:0\", \"[TG(64:8),TG(63:1)]_FA14:0\", \"[TG(64:7),TG(63:0)]_FA14:0\", \"[TG(64:6)]_FA14:0\", \"[TG(65:12),TG(64:5)]_FA14:0\", \"[TG(66:18),TG(65:11),TG(64:4)]_FA14:0\", \"[TG(66:17),TG(65:10),TG(64:3)]_FA14:0\", \"[TG(66:16),TG(65:9),TG(64:2)]_FA14:0\", \"[TG(66:15),TG(65:8),TG(64:1)]_FA14:0\", \"[TG(66:14),TG(65:7),TG(64:0)]_FA14:0\", \"[TG(66:13),TG(65:6)]_FA14:0\", \"[TG(66:12),TG(65:5)]_FA14:0\", \"[TG(66:11),TG(65:4)]_FA14:0\", \"[TG(66:10),TG(65:3)]_FA14:0\", \"[TG(66:9),TG(65:2)]_FA14:0\", \"[TG(66:8),TG(65:1)]_FA14:0\", \"[TG(66:7)]_FA14:0\", \"[TG(65:0)]_FA14:0\", \"[TG(66:6)]_FA14:0\", \"[TG(66:5)]_FA14:0\", \"[TG(66:4)]_FA14:0\", \"[TG(66:3)]_FA14:0\", \"[TG(66:2)]_FA14:0\", \"[TG(66:1)]_FA14:0\"], \"y\": [\"TAG\", \"TAG\", \"TAG\", \"TAG\", \"TAG\", \"TAG\", \"TAG\", \"TAG\", \"TAG\", \"TAG\", \"TAG\", \"TAG\", \"TAG\", \"TAG\", \"TAG\", \"TAG\", \"TAG\", \"TAG\", \"TAG\", \"TAG\", \"TAG\", \"TAG\", \"TAG\", \"TAG\", \"TAG\", \"TAG\", \"TAG\", \"TAG\", \"TAG\", \"TAG\", \"TAG\", \"TAG\", \"TAG\", \"TAG\", \"TAG\", \"TAG\", \"TAG\", \"TAG\", \"TAG\", \"TAG\", \"TAG\", \"TAG\", \"TAG\", \"TAG\", \"TAG\", \"TAG\", \"TAG\", \"TAG\", \"TAG\", \"TAG\", \"TAG\", \"TAG\", \"TAG\", \"TAG\", \"TAG\", \"TAG\", \"STD_15:0-18:1(d7)-15:0 TAG\", \"TAG\", \"TAG\", \"TAG\", \"TAG\", \"TAG\", \"TAG\", \"TAG\", \"TAG\", \"TAG\", \"TAG\", \"TAG\", \"TAG\", \"TAG\", \"TAG\", \"TAG\", \"TAG\", \"TAG\", \"TAG\", \"TAG\", \"TAG\", \"TAG\", \"TAG\", \"TAG\", \"TAG\", \"TAG\", \"TAG\", \"TAG\", \"TAG\", \"TAG\", \"TAG\", \"TAG\", \"TAG\", \"TAG\", \"TAG\", \"TAG\", \"TAG\", \"TAG\", \"TAG\", \"TAG\", \"TAG\", \"TAG\", \"TAG\", \"TAG\", \"TAG\", \"TAG\", \"TAG\", \"TAG\", \"TAG\", \"TAG\", \"TAG\", \"TAG\", \"TAG\", \"TAG\", \"TAG\", \"TAG\", \"TAG\", \"TAG\", \"TAG\", \"TAG\", \"TAG\", \"TAG\", \"TAG\", \"TAG\", \"TAG\", \"TAG\", \"TAG\", \"TAG\", \"TAG\", \"TAG\", \"TAG\", \"TAG\", \"TAG\", \"TAG\", \"TAG\", \"TAG\", \"TAG\", \"TAG\", \"TAG\", \"TAG\", \"TAG\", \"TAG\", \"TAG\", \"TAG\", \"TAG\", \"TAG\", \"TAG\", \"TAG\", \"TAG\", \"TAG\", \"TAG\", \"TAG\", \"TAG\", \"TAG\", \"TAG\", \"TAG\", \"TAG\", \"TAG\", \"TAG\", \"TAG\", \"TAG\", \"TAG\", \"TAG\", \"TAG\", \"TAG\", \"TAG\", \"TAG\", \"TAG\", \"TAG\", \"TAG\", \"TAG\", \"TAG\", \"TAG\", \"TAG\", \"TAG\", \"TAG\", \"TAG\", \"TAG\", \"TAG\", \"TAG\", \"TAG\", \"TAG\", \"TAG\", \"TAG\", \"TAG\"], \"z\": [45072.822998046875, 64211.844482421875, 237300.73681640625, 27744.182037353516, 37315.48260498047, 24415.261688232422, 34708.20263671875, 155327.89086914062, 20373.861602783203, 19893.661392211914, 26466.401824951172, 15374.68115234375, 19889.30142211914, 17753.80108642578, 131865.6494140625, 94824.94689941406, 16791.481231689453, 63030.504150390625, 26622.84196472168, 28583.40203857422, 29018.08203125, 17620.081260681152, 15765.661041259766, 18071.14141845703, 39169.32312011719, 31882.602020263672, 72722.04577636719, 18579.66111755371, 21398.161346435547, 18318.621307373047, 16532.841232299805, 70729.62463378906, 46782.86340332031, 20436.341217041016, 20286.141387939453, 18562.861236572266, 20631.881439208984, 44036.763610839844, 68736.06512451172, 84029.40625, 26131.921813964844, 20985.38151550293, 18959.501403808594, 21987.14175415039, 24136.061737060547, 31395.762451171875, 35014.362396240234, 51366.403381347656, 25303.261779785156, 23539.601623535156, 82808.48538208008, 286373.7007446289, 333579.6123046875, 80859.20629882812, 29734.44223022461, 22083.261352539062, 33835.302642822266, 22096.821563720703, 26063.061752319336, 29320.561981201172, 37507.4225769043, 34488.222259521484, 29315.282165527344, 35932.222259521484, 126118.92807006836, 432169.33502197266, 501185.328125, 86953.32531738281, 36228.10238647461, 49931.743591308594, 23814.681854248047, 23092.781524658203, 28172.081909179688, 41892.44287109375, 46549.702728271484, 34083.9026184082, 40384.46292114258, 44110.603759765625, 42770.922912597656, 53848.18371582031, 56664.44418334961, 47311.622985839844, 30805.982299804688, 26174.721771240234, 25399.10171508789, 25004.141693115234, 31147.182556152344, 38980.08303833008, 46906.80307006836, 38897.4231262207, 73665.94470214844, 41898.76268005371, 28414.301971435547, 30718.442108154297, 33424.282623291016, 29007.38198852539, 35497.86260986328, 26408.881866455078, 22494.82162475586, 25690.061798095703, 29631.141998291016, 33327.52235412598, 29645.14239501953, 23936.88168334961, 21959.361694335938, 20401.881622314453, 20398.84147644043, 25416.421936035156, 22382.361602783203, 19609.461395263672, 22338.061492919922, 29575.44204711914, 20122.321487426758, 20873.68148803711, 20475.001525878906, 19687.661422729492, 17986.1212310791, 16909.581176757812, 17760.02130126953, 17154.881271362305, 17369.481216430664, 17000.50129699707, 14471.141006469727, 17327.96128845215, 15586.361099243164, 15192.34105682373, 16057.961143493652, 29432.862243652344, 21032.461456298828, 15778.50112915039, 13972.840942382812, 15361.26107788086, 14665.92106628418, 12983.740997314453, 16507.40118408203, 15164.080978393555, 16115.021049499512, 14670.80093383789, 11676.520835876465, 12641.240867614746, 14229.900955200195, 14026.561004638672, 13990.720977783203, 14917.441131591797, 14691.960952758789, 12988.200942993164, 13342.720916748047, 14266.48112487793, 13126.080932617188, 13007.560943603516, 15978.181114196777, 14954.541114807129, 12710.70083618164, 14045.280990600586, 14086.260986328125, 12927.800796508789, 10637.140739440918, 13033.880912780762, 13134.800857543945, 12264.380752563477, 13273.14094543457, 20100.661331176758, 12335.680953979492, 12561.440925598145, 19396.041259765625, 15101.360977172852, 15476.981079101562, 10396.680717468262, 12281.800918579102, 12049.680938720703, 11546.020881652832, 13140.541000366211, 14803.141014099121, 13260.220840454102, 15204.641082763672, 11739.30093383789, 10289.58073425293, 11749.400787353516, 12457.700866699219, 11174.560779571533, 12249.820945739746]}],                        {\"template\": {\"data\": {\"bar\": [{\"error_x\": {\"color\": \"#2a3f5f\"}, \"error_y\": {\"color\": \"#2a3f5f\"}, \"marker\": {\"line\": {\"color\": \"#E5ECF6\", \"width\": 0.5}}, \"type\": \"bar\"}], \"barpolar\": [{\"marker\": {\"line\": {\"color\": \"#E5ECF6\", \"width\": 0.5}}, \"type\": \"barpolar\"}], \"carpet\": [{\"aaxis\": {\"endlinecolor\": \"#2a3f5f\", \"gridcolor\": \"white\", \"linecolor\": \"white\", \"minorgridcolor\": \"white\", \"startlinecolor\": \"#2a3f5f\"}, \"baxis\": {\"endlinecolor\": \"#2a3f5f\", \"gridcolor\": \"white\", \"linecolor\": \"white\", \"minorgridcolor\": \"white\", \"startlinecolor\": \"#2a3f5f\"}, \"type\": \"carpet\"}], \"choropleth\": [{\"colorbar\": {\"outlinewidth\": 0, \"ticks\": \"\"}, \"type\": \"choropleth\"}], \"contour\": [{\"colorbar\": {\"outlinewidth\": 0, \"ticks\": \"\"}, \"colorscale\": [[0.0, \"#0d0887\"], [0.1111111111111111, \"#46039f\"], [0.2222222222222222, \"#7201a8\"], [0.3333333333333333, \"#9c179e\"], [0.4444444444444444, \"#bd3786\"], [0.5555555555555556, \"#d8576b\"], [0.6666666666666666, \"#ed7953\"], [0.7777777777777778, \"#fb9f3a\"], [0.8888888888888888, \"#fdca26\"], [1.0, \"#f0f921\"]], \"type\": \"contour\"}], \"contourcarpet\": [{\"colorbar\": {\"outlinewidth\": 0, \"ticks\": \"\"}, \"type\": \"contourcarpet\"}], \"heatmap\": [{\"colorbar\": {\"outlinewidth\": 0, \"ticks\": \"\"}, \"colorscale\": [[0.0, \"#0d0887\"], [0.1111111111111111, \"#46039f\"], [0.2222222222222222, \"#7201a8\"], [0.3333333333333333, \"#9c179e\"], [0.4444444444444444, \"#bd3786\"], [0.5555555555555556, \"#d8576b\"], [0.6666666666666666, \"#ed7953\"], [0.7777777777777778, \"#fb9f3a\"], [0.8888888888888888, \"#fdca26\"], [1.0, \"#f0f921\"]], \"type\": \"heatmap\"}], \"heatmapgl\": [{\"colorbar\": {\"outlinewidth\": 0, \"ticks\": \"\"}, \"colorscale\": [[0.0, \"#0d0887\"], [0.1111111111111111, \"#46039f\"], [0.2222222222222222, \"#7201a8\"], [0.3333333333333333, \"#9c179e\"], [0.4444444444444444, \"#bd3786\"], [0.5555555555555556, \"#d8576b\"], [0.6666666666666666, \"#ed7953\"], [0.7777777777777778, \"#fb9f3a\"], [0.8888888888888888, \"#fdca26\"], [1.0, \"#f0f921\"]], \"type\": \"heatmapgl\"}], \"histogram\": [{\"marker\": {\"colorbar\": {\"outlinewidth\": 0, \"ticks\": \"\"}}, \"type\": \"histogram\"}], \"histogram2d\": [{\"colorbar\": {\"outlinewidth\": 0, \"ticks\": \"\"}, \"colorscale\": [[0.0, \"#0d0887\"], [0.1111111111111111, \"#46039f\"], [0.2222222222222222, \"#7201a8\"], [0.3333333333333333, \"#9c179e\"], [0.4444444444444444, \"#bd3786\"], [0.5555555555555556, \"#d8576b\"], [0.6666666666666666, \"#ed7953\"], [0.7777777777777778, \"#fb9f3a\"], [0.8888888888888888, \"#fdca26\"], [1.0, \"#f0f921\"]], \"type\": \"histogram2d\"}], \"histogram2dcontour\": [{\"colorbar\": {\"outlinewidth\": 0, \"ticks\": \"\"}, \"colorscale\": [[0.0, \"#0d0887\"], [0.1111111111111111, \"#46039f\"], [0.2222222222222222, \"#7201a8\"], [0.3333333333333333, \"#9c179e\"], [0.4444444444444444, \"#bd3786\"], [0.5555555555555556, \"#d8576b\"], [0.6666666666666666, \"#ed7953\"], [0.7777777777777778, \"#fb9f3a\"], [0.8888888888888888, \"#fdca26\"], [1.0, \"#f0f921\"]], \"type\": \"histogram2dcontour\"}], \"mesh3d\": [{\"colorbar\": {\"outlinewidth\": 0, \"ticks\": \"\"}, \"type\": \"mesh3d\"}], \"parcoords\": [{\"line\": {\"colorbar\": {\"outlinewidth\": 0, \"ticks\": \"\"}}, \"type\": \"parcoords\"}], \"pie\": [{\"automargin\": true, \"type\": \"pie\"}], \"scatter\": [{\"marker\": {\"colorbar\": {\"outlinewidth\": 0, \"ticks\": \"\"}}, \"type\": \"scatter\"}], \"scatter3d\": [{\"line\": {\"colorbar\": {\"outlinewidth\": 0, \"ticks\": \"\"}}, \"marker\": {\"colorbar\": {\"outlinewidth\": 0, \"ticks\": \"\"}}, \"type\": \"scatter3d\"}], \"scattercarpet\": [{\"marker\": {\"colorbar\": {\"outlinewidth\": 0, \"ticks\": \"\"}}, \"type\": \"scattercarpet\"}], \"scattergeo\": [{\"marker\": {\"colorbar\": {\"outlinewidth\": 0, \"ticks\": \"\"}}, \"type\": \"scattergeo\"}], \"scattergl\": [{\"marker\": {\"colorbar\": {\"outlinewidth\": 0, \"ticks\": \"\"}}, \"type\": \"scattergl\"}], \"scattermapbox\": [{\"marker\": {\"colorbar\": {\"outlinewidth\": 0, \"ticks\": \"\"}}, \"type\": \"scattermapbox\"}], \"scatterpolar\": [{\"marker\": {\"colorbar\": {\"outlinewidth\": 0, \"ticks\": \"\"}}, \"type\": \"scatterpolar\"}], \"scatterpolargl\": [{\"marker\": {\"colorbar\": {\"outlinewidth\": 0, \"ticks\": \"\"}}, \"type\": \"scatterpolargl\"}], \"scatterternary\": [{\"marker\": {\"colorbar\": {\"outlinewidth\": 0, \"ticks\": \"\"}}, \"type\": \"scatterternary\"}], \"surface\": [{\"colorbar\": {\"outlinewidth\": 0, \"ticks\": \"\"}, \"colorscale\": [[0.0, \"#0d0887\"], [0.1111111111111111, \"#46039f\"], [0.2222222222222222, \"#7201a8\"], [0.3333333333333333, \"#9c179e\"], [0.4444444444444444, \"#bd3786\"], [0.5555555555555556, \"#d8576b\"], [0.6666666666666666, \"#ed7953\"], [0.7777777777777778, \"#fb9f3a\"], [0.8888888888888888, \"#fdca26\"], [1.0, \"#f0f921\"]], \"type\": \"surface\"}], \"table\": [{\"cells\": {\"fill\": {\"color\": \"#EBF0F8\"}, \"line\": {\"color\": \"white\"}}, \"header\": {\"fill\": {\"color\": \"#C8D4E3\"}, \"line\": {\"color\": \"white\"}}, \"type\": \"table\"}]}, \"layout\": {\"annotationdefaults\": {\"arrowcolor\": \"#2a3f5f\", \"arrowhead\": 0, \"arrowwidth\": 1}, \"coloraxis\": {\"colorbar\": {\"outlinewidth\": 0, \"ticks\": \"\"}}, \"colorscale\": {\"diverging\": [[0, \"#8e0152\"], [0.1, \"#c51b7d\"], [0.2, \"#de77ae\"], [0.3, \"#f1b6da\"], [0.4, \"#fde0ef\"], [0.5, \"#f7f7f7\"], [0.6, \"#e6f5d0\"], [0.7, \"#b8e186\"], [0.8, \"#7fbc41\"], [0.9, \"#4d9221\"], [1, \"#276419\"]], \"sequential\": [[0.0, \"#0d0887\"], [0.1111111111111111, \"#46039f\"], [0.2222222222222222, \"#7201a8\"], [0.3333333333333333, \"#9c179e\"], [0.4444444444444444, \"#bd3786\"], [0.5555555555555556, \"#d8576b\"], [0.6666666666666666, \"#ed7953\"], [0.7777777777777778, \"#fb9f3a\"], [0.8888888888888888, \"#fdca26\"], [1.0, \"#f0f921\"]], \"sequentialminus\": [[0.0, \"#0d0887\"], [0.1111111111111111, \"#46039f\"], [0.2222222222222222, \"#7201a8\"], [0.3333333333333333, \"#9c179e\"], [0.4444444444444444, \"#bd3786\"], [0.5555555555555556, \"#d8576b\"], [0.6666666666666666, \"#ed7953\"], [0.7777777777777778, \"#fb9f3a\"], [0.8888888888888888, \"#fdca26\"], [1.0, \"#f0f921\"]]}, \"colorway\": [\"#636efa\", \"#EF553B\", \"#00cc96\", \"#ab63fa\", \"#FFA15A\", \"#19d3f3\", \"#FF6692\", \"#B6E880\", \"#FF97FF\", \"#FECB52\"], \"font\": {\"color\": \"#2a3f5f\"}, \"geo\": {\"bgcolor\": \"white\", \"lakecolor\": \"white\", \"landcolor\": \"#E5ECF6\", \"showlakes\": true, \"showland\": true, \"subunitcolor\": \"white\"}, \"hoverlabel\": {\"align\": \"left\"}, \"hovermode\": \"closest\", \"mapbox\": {\"style\": \"light\"}, \"paper_bgcolor\": \"white\", \"plot_bgcolor\": \"#E5ECF6\", \"polar\": {\"angularaxis\": {\"gridcolor\": \"white\", \"linecolor\": \"white\", \"ticks\": \"\"}, \"bgcolor\": \"#E5ECF6\", \"radialaxis\": {\"gridcolor\": \"white\", \"linecolor\": \"white\", \"ticks\": \"\"}}, \"scene\": {\"xaxis\": {\"backgroundcolor\": \"#E5ECF6\", \"gridcolor\": \"white\", \"gridwidth\": 2, \"linecolor\": \"white\", \"showbackground\": true, \"ticks\": \"\", \"zerolinecolor\": \"white\"}, \"yaxis\": {\"backgroundcolor\": \"#E5ECF6\", \"gridcolor\": \"white\", \"gridwidth\": 2, \"linecolor\": \"white\", \"showbackground\": true, \"ticks\": \"\", \"zerolinecolor\": \"white\"}, \"zaxis\": {\"backgroundcolor\": \"#E5ECF6\", \"gridcolor\": \"white\", \"gridwidth\": 2, \"linecolor\": \"white\", \"showbackground\": true, \"ticks\": \"\", \"zerolinecolor\": \"white\"}}, \"shapedefaults\": {\"line\": {\"color\": \"#2a3f5f\"}}, \"ternary\": {\"aaxis\": {\"gridcolor\": \"white\", \"linecolor\": \"white\", \"ticks\": \"\"}, \"baxis\": {\"gridcolor\": \"white\", \"linecolor\": \"white\", \"ticks\": \"\"}, \"bgcolor\": \"#E5ECF6\", \"caxis\": {\"gridcolor\": \"white\", \"linecolor\": \"white\", \"ticks\": \"\"}}, \"title\": {\"x\": 0.05}, \"xaxis\": {\"automargin\": true, \"gridcolor\": \"white\", \"linecolor\": \"white\", \"ticks\": \"\", \"title\": {\"standoff\": 15}, \"zerolinecolor\": \"white\", \"zerolinewidth\": 2}, \"yaxis\": {\"automargin\": true, \"gridcolor\": \"white\", \"linecolor\": \"white\", \"ticks\": \"\", \"title\": {\"standoff\": 15}, \"zerolinecolor\": \"white\", \"zerolinewidth\": 2}}}},                        {\"responsive\": true}                    ).then(function(){\n",
       "                            \n",
       "var gd = document.getElementById('40ba56ab-b18c-4ecd-b880-f929f44d385b');\n",
       "var x = new MutationObserver(function (mutations, observer) {{\n",
       "        var display = window.getComputedStyle(gd).display;\n",
       "        if (!display || display === 'none') {{\n",
       "            console.log([gd, 'removed!']);\n",
       "            Plotly.purge(gd);\n",
       "            observer.disconnect();\n",
       "        }}\n",
       "}});\n",
       "\n",
       "// Listen for the removal of the full notebook cells\n",
       "var notebookContainer = gd.closest('#notebook-container');\n",
       "if (notebookContainer) {{\n",
       "    x.observe(notebookContainer, {childList: true});\n",
       "}}\n",
       "\n",
       "// Listen for the clearing of the current output cell\n",
       "var outputEl = gd.closest('.output');\n",
       "if (outputEl) {{\n",
       "    x.observe(outputEl, {childList: true});\n",
       "}}\n",
       "\n",
       "                        })                };                });            </script>        </div>"
      ]
     },
     "metadata": {},
     "output_type": "display_data"
    }
   ],
   "source": [
    "#Plotting functions\n",
    "\n",
    "def plot_transition_vs_intensity(df):\n",
    "    fig = px.bar(df, x=\"Transition\", y=\"Intensity\", color=\"Lipid\", hover_data=['Lipid', 'Class'])\n",
    "    fig.show()\n",
    "\n",
    "def plot_class_vs_intensity_bar(df):\n",
    "    fig = px.bar(df, x=\"Class\", y=\"Intensity\", color=\"Class\", hover_data=['Lipid', 'Class'])\n",
    "    fig.show()\n",
    "\n",
    "def plot_class_vs_intensity_pie(df):\n",
    "    fig = px.pie(df, values='Intensity', names='Class', title='Lipid Class')\n",
    "    fig.show()\n",
    "\n",
    "def plot_intensity_heatmap(df):\n",
    "    fig = go.Figure(data=go.Heatmap(\n",
    "        z=df['Intensity'],\n",
    "        x=df['Lipid'],\n",
    "        y=df['Class'],\n",
    "        colorscale='Viridis'))\n",
    "    fig.show()\n",
    "\n",
    "# Example usage:\n",
    "# Assuming you have the df_matching DataFrame\n",
    "plot_transition_vs_intensity(df_matched)\n",
    "plot_class_vs_intensity_bar(df_matched)\n",
    "plot_class_vs_intensity_pie(df_matched)\n",
    "plot_intensity_heatmap(df_matched)\n"
   ]
  },
  {
   "cell_type": "code",
   "execution_count": null,
   "metadata": {},
   "outputs": [],
   "source": []
  }
 ],
 "metadata": {
  "kernelspec": {
   "display_name": "Python 3 (ipykernel)",
   "language": "python",
   "name": "python3"
  },
  "language_info": {
   "codemirror_mode": {
    "name": "ipython",
    "version": 3
   },
   "file_extension": ".py",
   "mimetype": "text/x-python",
   "name": "python",
   "nbconvert_exporter": "python",
   "pygments_lexer": "ipython3",
   "version": "3.9.15"
  },
  "vscode": {
   "interpreter": {
    "hash": "7f59e923a9cab402a21ecdd8c8501a7d121113b28792a99acb445fcdcb4f42c3"
   }
  }
 },
 "nbformat": 4,
 "nbformat_minor": 2
}
