{
 "cells": [
  {
   "cell_type": "markdown",
   "metadata": {},
   "source": [
    "# ![title](Figures/cat2.png)\n",
    "# PURR Processing Utility for Rapid Results"
   ]
  },
  {
   "cell_type": "markdown",
   "metadata": {},
   "source": [
    "Import all necessary libraries"
   ]
  },
  {
   "cell_type": "code",
   "execution_count": 1,
   "metadata": {},
   "outputs": [],
   "source": [
    "#Import all the necessary libraries\n",
    "import pymzml\n",
    "import csv\n",
    "import os\n",
    "import pandas as pd\n",
    "import numpy as np\n",
    "import math\n",
    "from matplotlib import pyplot as plt\n",
    "import re\n",
    "import plotly.express as px\n",
    "from collections import defaultdict\n",
    "\n",
    "import plotly.io as pio\n",
    "import json\n",
    "import plotly.graph_objs as go\n",
    "import matplotlib.colors as mcolors\n",
    "\n",
    "import json\n",
    "import ipywidgets as widgets\n",
    "from IPython.display import display\n",
    "\n",
    "import warnings\n",
    "from IPython.display import display, Image, clear_output\n",
    "import time\n",
    "\n",
    "##Custom SCripts\n",
    "\n",
    "from MRM_parser import full_parse\n",
    "\n",
    "from MRM_parser import prep_edge_R\n",
    "\n",
    "from MRM_parser import make_pie_chart\n",
    "\n",
    "from MRM_parser import average_pie_chart\n",
    "\n",
    "from MRM_parser import make_bar_plot_comparisons\n",
    "\n",
    "from MRM_parser import process_for_biopan\n",
    "\n",
    "import os\n",
    "from IPython.display import display\n",
    "from ipywidgets import widgets\n",
    "\n",
    "\n",
    "Pre_folder = './Projects/'\n",
    "\n",
    "\n",
    "from tools.GUI import assign_blank, load_blank_name\n",
    "from tools.GUI import folder_navigator, load_project_folder\n",
    "\n",
    "from tools.GUI import filter_samples, load_data_labels\n",
    "from tools.GUI import display_pair_widgets, load_data, remove_empty_entries, get_unique_json_objects\n",
    "\n",
    "\n",
    "from tools.parsing import add_suffix"
   ]
  },
  {
   "cell_type": "code",
   "execution_count": 2,
   "metadata": {},
   "outputs": [],
   "source": [
    "##Add a way to include a custom color scheme\n",
    "\n",
    "\n",
    "\n",
    "\n",
    "file_name_to_save = 'Daneman2'\n",
    "\n",
    "extra_name = \"\"\n",
    "\n",
    "tolerance = 0.3\n",
    "remove_std = True\n",
    "save_data= True\n",
    "\n",
    "\n",
    "load_previously_parsed = False\n",
    "custom_data=False\n"
   ]
  },
  {
   "cell_type": "code",
   "execution_count": 4,
   "metadata": {
    "scrolled": false
   },
   "outputs": [
    {
     "data": {
      "application/vnd.jupyter.widget-view+json": {
       "model_id": "a43d54db35914cd0b26dced55517c5d0",
       "version_major": 2,
       "version_minor": 0
      },
      "text/plain": [
       "Button(description='Navigate', style=ButtonStyle())"
      ]
     },
     "metadata": {},
     "output_type": "display_data"
    },
    {
     "data": {
      "application/vnd.jupyter.widget-view+json": {
       "model_id": "38088fd80fa544149064bdc2213b5dad",
       "version_major": 2,
       "version_minor": 0
      },
      "text/plain": [
       "Button(description='Select this folder', style=ButtonStyle())"
      ]
     },
     "metadata": {},
     "output_type": "display_data"
    },
    {
     "data": {
      "application/vnd.jupyter.widget-view+json": {
       "model_id": "6d01c1cb6b244c6cba58d615c9deca05",
       "version_major": 2,
       "version_minor": 0
      },
      "text/plain": [
       "Button(description='Select Current Folder', style=ButtonStyle())"
      ]
     },
     "metadata": {},
     "output_type": "display_data"
    },
    {
     "data": {
      "application/vnd.jupyter.widget-view+json": {
       "model_id": "0c04a4337408418e85f5016ce5158d75",
       "version_major": 2,
       "version_minor": 0
      },
      "text/plain": [
       "Select(options=('/home/iyer95/CLAW/CLAW/lipid_platform/Projects',), rows=10, value='/home/iyer95/CLAW/CLAW/lip…"
      ]
     },
     "metadata": {},
     "output_type": "display_data"
    },
    {
     "data": {
      "application/vnd.jupyter.widget-view+json": {
       "model_id": "2e3f6cc758034b43875b6f9388fb43f8",
       "version_major": 2,
       "version_minor": 0
      },
      "text/plain": [
       "Output()"
      ]
     },
     "metadata": {},
     "output_type": "display_data"
    },
    {
     "data": {
      "application/vnd.jupyter.widget-view+json": {
       "model_id": "4b0c7f4ced3549019761b53dc55a8404",
       "version_major": 2,
       "version_minor": 0
      },
      "text/plain": [
       "Dropdown(description='Samples', options=('IPAblank_NA', 'BlankBrain_NA', 'C-1BrainF', 'C-2BrainF', 'C-3BrainF'…"
      ]
     },
     "metadata": {},
     "output_type": "display_data"
    },
    {
     "data": {
      "application/vnd.jupyter.widget-view+json": {
       "model_id": "a1949a2a5757455ea5a5f318ce471f4e",
       "version_major": 2,
       "version_minor": 0
      },
      "text/plain": [
       "Button(description='Assign Blank', style=ButtonStyle())"
      ]
     },
     "metadata": {},
     "output_type": "display_data"
    },
    {
     "data": {
      "application/vnd.jupyter.widget-view+json": {
       "model_id": "9acb534d018743748b7f35e72de60ad7",
       "version_major": 2,
       "version_minor": 0
      },
      "text/plain": [
       "Output()"
      ]
     },
     "metadata": {},
     "output_type": "display_data"
    },
    {
     "data": {
      "application/vnd.jupyter.widget-view+json": {
       "model_id": "21bd415864a94ed6ba4168d385cddd64",
       "version_major": 2,
       "version_minor": 0
      },
      "text/plain": [
       "SelectMultiple(description='Samples', index=(0,), options=('IPAblank_NA', 'BlankBrain_NA', 'C-1BrainF', 'C-2Br…"
      ]
     },
     "metadata": {},
     "output_type": "display_data"
    },
    {
     "data": {
      "application/vnd.jupyter.widget-view+json": {
       "model_id": "5c9e9bed269c4d1c83c6b70b033354d5",
       "version_major": 2,
       "version_minor": 0
      },
      "text/plain": [
       "Button(description='Filter Samples', style=ButtonStyle())"
      ]
     },
     "metadata": {},
     "output_type": "display_data"
    },
    {
     "data": {
      "application/vnd.jupyter.widget-view+json": {
       "model_id": "708627ced18f4e17a198565d81514591",
       "version_major": 2,
       "version_minor": 0
      },
      "text/plain": [
       "Output()"
      ]
     },
     "metadata": {},
     "output_type": "display_data"
    }
   ],
   "source": [
    "\n",
    "folder_navigator()\n",
    "\n",
    "Project_Folder = load_project_folder()\n",
    "folder_name_to_save = Project_Folder+ 'Processed Results/'\n",
    "data_base_name_location = 'lipid_database/Lipid_Database.xlsx'\n",
    "mzml_folder = Project_Folder +\"mzml/\"\n",
    "Pre_edge_r_path = Project_Folder+\"Pre_EdgeR/\"\n",
    "plots_2_save_path = Project_Folder+\"Plots/\"\n",
    "label_file = Project_Folder+\"Labels/labels.csv\"\n",
    "labels_df = pd.read_csv(label_file)\n",
    "\n",
    "##determines blank\n",
    "unique_samples = labels_df['Sample Name'].unique()\n",
    "assign_blank(unique_samples)\n",
    "blank_name = load_blank_name()\n",
    "\n",
    "# Assuming labels_df is your DataFrame\n",
    "filter_samples(labels_df)\n",
    "labels_df2 = load_data_labels()\n",
    "labels_df2 = labels_df2.drop([\"Sample Name\",\"Position\"],axis=1)\n",
    "labels_list = list(labels_df)\n",
    "labels_list = labels_list +[\"Class\",\"Lipid\"]\n",
    "\n",
    "\n",
    "\n"
   ]
  },
  {
   "cell_type": "code",
   "execution_count": 5,
   "metadata": {},
   "outputs": [
    {
     "data": {
      "application/vnd.jupyter.widget-view+json": {
       "model_id": "d8f2279f5660416ba55bf94a32d3d1f3",
       "version_major": 2,
       "version_minor": 0
      },
      "text/plain": [
       "HBox(children=(SelectMultiple(description='Name', options=('IPA', 'C-1', 'C-2', 'C-3', 'C-4', 'C-5', 'C-6', 'E…"
      ]
     },
     "metadata": {},
     "output_type": "display_data"
    },
    {
     "data": {
      "application/vnd.jupyter.widget-view+json": {
       "model_id": "ae2d5f410f0a47de8b2299f0cd66e2c3",
       "version_major": 2,
       "version_minor": 0
      },
      "text/plain": [
       "HBox(children=(SelectMultiple(description='Type', options=('blank', 'Brain', 'Liver', 'Retina', 'Plasma', 'BMV…"
      ]
     },
     "metadata": {},
     "output_type": "display_data"
    },
    {
     "data": {
      "application/vnd.jupyter.widget-view+json": {
       "model_id": "9712c5634e824e04a8a33ce772e7c00d",
       "version_major": 2,
       "version_minor": 0
      },
      "text/plain": [
       "HBox(children=(SelectMultiple(description='Sex', options=('_NA', 'F', 'M'), value=()), SelectMultiple(descript…"
      ]
     },
     "metadata": {},
     "output_type": "display_data"
    },
    {
     "data": {
      "application/vnd.jupyter.widget-view+json": {
       "model_id": "aba919d2329f4d55a4d9f6fc931e0060",
       "version_major": 2,
       "version_minor": 0
      },
      "text/plain": [
       "HBox(children=(SelectMultiple(description='experiment', options=('blank', 'C', 'E'), value=()), SelectMultiple…"
      ]
     },
     "metadata": {},
     "output_type": "display_data"
    },
    {
     "data": {
      "application/vnd.jupyter.widget-view+json": {
       "model_id": "a60f0e13e3174d64a4880c1aa5f2adc7",
       "version_major": 2,
       "version_minor": 0
      },
      "text/plain": [
       "HBox(children=(Button(description='Finish', style=ButtonStyle()), Button(description='Add more JSON pairs', st…"
      ]
     },
     "metadata": {},
     "output_type": "display_data"
    }
   ],
   "source": [
    "main_json = {col: labels_df2[col].unique().tolist() for col in labels_df2}\n",
    "\n",
    "display_pair_widgets(main_json)"
   ]
  },
  {
   "cell_type": "code",
   "execution_count": 6,
   "metadata": {
    "scrolled": false
   },
   "outputs": [
    {
     "name": "stdout",
     "output_type": "stream",
     "text": [
      "Your data is PURRing...\n",
      "{'BlankBrain_NA'}\n",
      "{'BlankLiver_NA'}\n",
      "{'BlankPlasma_NA'}\n",
      "{'BlankRetina_NA'}\n",
      "{'C-1BMVF'}\n",
      "{'C-1BrainF'}\n",
      "{'C-1LiverF'}\n",
      "{'C-1PlasmaF'}\n",
      "{'C-1RetinaF'}\n",
      "{'C-2BMVF'}\n",
      "{'C-2BrainF'}\n",
      "{'C-2LiverF'}\n",
      "{'C-2PlasmaF'}\n",
      "{'C-2RetinaF'}\n",
      "{'C-3BMVF'}\n",
      "{'C-3BrainF'}\n",
      "{'C-3LiverF'}\n",
      "{'C-3PlasmaF'}\n",
      "{'C-3RetinaF'}\n",
      "{'C-4BMVM'}\n",
      "{'C-4BrainM'}\n",
      "{'C-4LiverM'}\n",
      "{'C-4PlasmaM'}\n",
      "{'C-4RetinaM'}\n",
      "{'C-5BMVM'}\n",
      "{'C-5BrainM'}\n",
      "{'C-5LiverM'}\n",
      "{'C-5PlasmaM'}\n",
      "{'C-5RetinaM'}\n",
      "{'C-6BMVM'}\n",
      "{'C-6BrainM'}\n",
      "{'C-6LiverM'}\n",
      "{'C-6PlasmaM'}\n",
      "{'C-6RetinaM'}\n",
      "{'E-1BMVF'}\n",
      "{'E-1BrainF'}\n",
      "{'E-1LiverF'}\n",
      "{'E-1PlasmaF'}\n",
      "{'E-1RetinaF'}\n",
      "{'E-2BMVF'}\n",
      "{'E-2BrainF'}\n",
      "{'E-2LiverF'}\n",
      "{'E-2PlasmaF'}\n",
      "{'E-2RetinaF'}\n",
      "{'E-3BMVF'}\n",
      "{'E-3BrainF'}\n",
      "{'E-3LiverF'}\n",
      "{'E-3PlasmaF'}\n",
      "{'E-3RetinaF'}\n",
      "{'E-4BMVM'}\n",
      "{'E-4BrainM'}\n",
      "{'E-4LiverM'}\n",
      "{'E-4PlasmaM'}\n",
      "{'E-4RetinaM'}\n",
      "{'E-5BMVM'}\n",
      "{'E-5BrainM'}\n",
      "{'E-5LiverM'}\n",
      "{'E-5PlasmaM'}\n",
      "{'E-5RetinaM'}\n",
      "{'E-6BMVM'}\n",
      "{'E-6BrainM'}\n",
      "{'E-6LiverM'}\n",
      "{'E-6PlasmaM'}\n",
      "{'E-6RetinaM'}\n",
      "{'blankBMV_NA'}\n",
      "Saved DataFrame to /home/iyer95/CLAW/CLAW/lipid_platform/Projects/Daneman/Processed Results//Daneman2.csv\n",
      "Complete\n"
     ]
    }
   ],
   "source": [
    "# Ignore warnings\n",
    "warnings.filterwarnings('ignore')\n",
    "\n",
    "# # Display GIF\n",
    "# gif = Image(filename='Figures/cat_gif.gif') # replace 'your_gif.gif' with the path to your GIF\n",
    "# display(gif)\n",
    "\n",
    "print(\"Your data is PURRing...\")\n",
    "\n",
    "if load_previously_parsed == True:\n",
    "    df_matched = pd.read_csv(Project_Folder+\"Processed Results/\"+file_name_to_save+\".csv\")\n",
    "    \n",
    "\n",
    "    \n",
    "#     tag_values = ['TAG14', 'TAG16', 'TAG18', 'TAG20', 'TAG22']\n",
    "#     dag_values = ['DAG16', 'DAG18']\n",
    "\n",
    "#     df_matched.loc[df_matched['method_type'].isin(tag_values), 'Class'] = 'TAG'\n",
    "#     df_matched.loc[df_matched['method_type'].isin(dag_values), 'Class'] = 'DAG'\n",
    "    \n",
    "else:\n",
    "    df_matched = full_parse(data_base_name_location,mzml_folder, folder_name_to_save,labels_df, blank_name, \n",
    "                            file_name_to_save,tolerance, custom_data = custom_data, remove_std = remove_std,save_data=save_data)\n",
    "#     tag_values = ['TAG14', 'TAG16', 'TAG18', 'TAG20', 'TAG22']\n",
    "#     dag_values = ['DAG16', 'DAG18']\n",
    "\n",
    "#     df_matched.loc[df_matched['method_type'].isin(tag_values), 'Class'] = 'TAG'\n",
    "#     df_matched.loc[df_matched['method_type'].isin(dag_values), 'Class'] = 'DAG'\n",
    "    \n",
    "print(\"Complete\")\n",
    "\n",
    "\n",
    "\n",
    "\n",
    "\n",
    "\n",
    "json_list_pairs = load_data()\n",
    "json_list_pairs = remove_empty_entries(json_list_pairs)\n",
    "json_list_singles = get_unique_json_objects(json_list_pairs)\n",
    "# make_pie_chart_no_replicates(df_matched,plots_2_save_path,json_list_singles,labels_list,blank_name,extra_name)\n",
    "# average_pie_chart_no_repeats(df_matched,plots_2_save_path,json_list_singles,labels_list,blank_name,extra_name)\n",
    "# make_bar_plot_comparisons(df_matched, plots_2_save_path, json_list_pairs,labels_list,blank_name,extra_name)\n",
    "labels_list = labels_list + ['method_type',\"Transition\"]\n",
    "df_matched = add_suffix(df_matched)\n",
    "combined_df = prep_edge_R(df_matched,json_list_pairs,Pre_edge_r_path,blank_name,labels_list,extra_name)\n",
    "# process_for_biopan(Project_Folder)\n",
    "# !bash myjob.sh\n"
   ]
  },
  {
   "cell_type": "code",
   "execution_count": null,
   "metadata": {},
   "outputs": [],
   "source": []
  }
 ],
 "metadata": {
  "kernelspec": {
   "display_name": "Python 3 (ipykernel)",
   "language": "python",
   "name": "python3"
  },
  "language_info": {
   "codemirror_mode": {
    "name": "ipython",
    "version": 3
   },
   "file_extension": ".py",
   "mimetype": "text/x-python",
   "name": "python",
   "nbconvert_exporter": "python",
   "pygments_lexer": "ipython3",
   "version": "3.7.13"
  },
  "vscode": {
   "interpreter": {
    "hash": "7f59e923a9cab402a21ecdd8c8501a7d121113b28792a99acb445fcdcb4f42c3"
   }
  }
 },
 "nbformat": 4,
 "nbformat_minor": 2
}
