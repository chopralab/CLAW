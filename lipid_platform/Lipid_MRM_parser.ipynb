{
 "cells": [
  {
   "cell_type": "markdown",
   "metadata": {},
   "source": [
    "# ![title](Figures/cat2.png)\n",
    "# PURR Processing Utility for Rapid Results"
   ]
  },
  {
   "cell_type": "markdown",
   "metadata": {},
   "source": [
    "Import all necessary libraries"
   ]
  },
  {
   "cell_type": "code",
   "execution_count": 1,
   "metadata": {},
   "outputs": [],
   "source": [
    "#Import all the necessary libraries\n",
    "import pymzml\n",
    "import csv\n",
    "import os\n",
    "import pandas as pd\n",
    "import numpy as np\n",
    "import math\n",
    "from matplotlib import pyplot as plt\n",
    "import re\n",
    "import plotly.express as px\n",
    "from collections import defaultdict\n",
    "\n",
    "import plotly.io as pio\n",
    "import json\n",
    "import plotly.graph_objs as go\n",
    "import matplotlib.colors as mcolors\n",
    "\n",
    "import json\n",
    "import ipywidgets as widgets\n",
    "from IPython.display import display\n",
    "\n",
    "import warnings\n",
    "from IPython.display import display, Image, clear_output\n",
    "import time\n",
    "\n",
    "##Custom SCripts\n",
    "\n",
    "from MRM_parser import full_parse\n",
    "\n",
    "from MRM_parser import prep_edge_R\n",
    "\n",
    "from MRM_parser import make_pie_chart\n",
    "\n",
    "from MRM_parser import average_pie_chart\n",
    "\n",
    "from MRM_parser import make_bar_plot_comparisons\n",
    "\n",
    "from MRM_parser import process_for_biopan\n",
    "\n",
    "import os\n",
    "from IPython.display import display\n",
    "from ipywidgets import widgets\n",
    "\n",
    "\n",
    "Pre_folder = './Projects/'\n",
    "\n",
    "\n",
    "from tools.GUI import assign_blank, load_blank_name\n",
    "from tools.GUI import folder_navigator, load_project_folder\n",
    "\n",
    "from tools.GUI import filter_samples, load_data_labels\n",
    "from tools.GUI import display_pair_widgets, load_data, remove_empty_entries, get_unique_json_objects\n",
    "\n",
    "\n",
    "from tools.parsing import add_suffix"
   ]
  },
  {
   "cell_type": "code",
   "execution_count": 4,
   "metadata": {},
   "outputs": [],
   "source": [
    "##Add a way to include a custom color scheme\n",
    "\n",
    "\n",
    "\n",
    "\n",
    "file_name_to_save = 'test'\n",
    "\n",
    "extra_name = \"\"\n",
    "\n",
    "tolerance = 0.3\n",
    "remove_std = True\n",
    "save_data= True\n",
    "\n",
    "\n",
    "load_previously_parsed = False\n",
    "custom_data=False\n"
   ]
  },
  {
   "cell_type": "code",
   "execution_count": 22,
   "metadata": {
    "scrolled": false
   },
   "outputs": [
    {
     "data": {
      "application/vnd.jupyter.widget-view+json": {
       "model_id": "01f92258cc69478c95993b7cf1c94994",
       "version_major": 2,
       "version_minor": 0
      },
      "text/plain": [
       "Button(description='Navigate', style=ButtonStyle())"
      ]
     },
     "metadata": {},
     "output_type": "display_data"
    },
    {
     "data": {
      "application/vnd.jupyter.widget-view+json": {
       "model_id": "a6d0739ffc7e42e893b28cd7cd38fa76",
       "version_major": 2,
       "version_minor": 0
      },
      "text/plain": [
       "Button(description='Select this folder', style=ButtonStyle())"
      ]
     },
     "metadata": {},
     "output_type": "display_data"
    },
    {
     "data": {
      "application/vnd.jupyter.widget-view+json": {
       "model_id": "87ea6819f0744f5ba318443bfc14dadb",
       "version_major": 2,
       "version_minor": 0
      },
      "text/plain": [
       "Button(description='Select Current Folder', style=ButtonStyle())"
      ]
     },
     "metadata": {},
     "output_type": "display_data"
    },
    {
     "data": {
      "application/vnd.jupyter.widget-view+json": {
       "model_id": "4e4d77a34b7a4e968c43ddde4ec96573",
       "version_major": 2,
       "version_minor": 0
      },
      "text/plain": [
       "Select(options=('/home/iyer95/CLAW/CLAW/lipid_platform/Projects',), rows=10, value='/home/iyer95/CLAW/CLAW/lip…"
      ]
     },
     "metadata": {},
     "output_type": "display_data"
    },
    {
     "data": {
      "application/vnd.jupyter.widget-view+json": {
       "model_id": "8b872ebe076b4fa4bf15d08fde3e0063",
       "version_major": 2,
       "version_minor": 0
      },
      "text/plain": [
       "Output()"
      ]
     },
     "metadata": {},
     "output_type": "display_data"
    },
    {
     "data": {
      "application/vnd.jupyter.widget-view+json": {
       "model_id": "3a0551d27f32404282c39ff4b6c39be0",
       "version_major": 2,
       "version_minor": 0
      },
      "text/plain": [
       "Dropdown(description='Samples', options=('11162023_Blank-AMP_2x_MRMs_O3off_01', '11162023_WT-m1-cereb-FAD245_A…"
      ]
     },
     "metadata": {},
     "output_type": "display_data"
    },
    {
     "data": {
      "application/vnd.jupyter.widget-view+json": {
       "model_id": "b38b00f402d1443799af8f0d63569d4a",
       "version_major": 2,
       "version_minor": 0
      },
      "text/plain": [
       "Button(description='Assign Blank', style=ButtonStyle())"
      ]
     },
     "metadata": {},
     "output_type": "display_data"
    },
    {
     "data": {
      "application/vnd.jupyter.widget-view+json": {
       "model_id": "0dbb5370cc2541859cdf3b6e2f36d5e3",
       "version_major": 2,
       "version_minor": 0
      },
      "text/plain": [
       "Output()"
      ]
     },
     "metadata": {},
     "output_type": "display_data"
    },
    {
     "data": {
      "application/vnd.jupyter.widget-view+json": {
       "model_id": "ff3738e1a605462c8b41cd84ad2b87c6",
       "version_major": 2,
       "version_minor": 0
      },
      "text/plain": [
       "SelectMultiple(description='Samples', index=(0,), options=('11162023_Blank-AMP_2x_MRMs_O3off_01', '11162023_WT…"
      ]
     },
     "metadata": {},
     "output_type": "display_data"
    },
    {
     "data": {
      "application/vnd.jupyter.widget-view+json": {
       "model_id": "89d64d0625414404a5f331d7c9be9517",
       "version_major": 2,
       "version_minor": 0
      },
      "text/plain": [
       "Button(description='Filter Samples', style=ButtonStyle())"
      ]
     },
     "metadata": {},
     "output_type": "display_data"
    },
    {
     "data": {
      "application/vnd.jupyter.widget-view+json": {
       "model_id": "f43fad728c3e4a39826294f4036f44df",
       "version_major": 2,
       "version_minor": 0
      },
      "text/plain": [
       "Output()"
      ]
     },
     "metadata": {},
     "output_type": "display_data"
    }
   ],
   "source": [
    "\n",
    "folder_navigator()\n",
    "\n",
    "Project_Folder = load_project_folder()\n",
    "folder_name_to_save = Project_Folder+ 'Processed Results/'\n",
    "data_base_name_location = 'lipid_database/Lipid_Database.xlsx'\n",
    "mzml_folder = Project_Folder +\"mzml/\"\n",
    "Pre_edge_r_path = Project_Folder+\"Pre_EdgeR/\"\n",
    "plots_2_save_path = Project_Folder+\"Plots/\"\n",
    "label_file = Project_Folder+\"Labels/labels.csv\"\n",
    "labels_df = pd.read_csv(label_file)\n",
    "\n",
    "##determines blank\n",
    "unique_samples = labels_df['Sample Name'].unique()\n",
    "assign_blank(unique_samples)\n",
    "blank_name = load_blank_name()\n",
    "\n",
    "# Assuming labels_df is your DataFrame\n",
    "filter_samples(labels_df)\n",
    "labels_df2 = load_data_labels()\n",
    "labels_df2 = labels_df2.drop([\"Sample Name\",\"Position\"],axis=1)\n",
    "labels_list = list(labels_df)\n",
    "labels_list = labels_list +[\"Class\",\"Lipid\"]\n",
    "\n",
    "\n",
    "\n"
   ]
  },
  {
   "cell_type": "code",
   "execution_count": 23,
   "metadata": {},
   "outputs": [
    {
     "data": {
      "application/vnd.jupyter.widget-view+json": {
       "model_id": "d4a8c870ffc14768a277156cd69d218c",
       "version_major": 2,
       "version_minor": 0
      },
      "text/plain": [
       "HBox(children=(SelectMultiple(description='Biology', options=('cereb', 'cortex', 'dienc', 'hippo'), value=()),…"
      ]
     },
     "metadata": {},
     "output_type": "display_data"
    },
    {
     "data": {
      "application/vnd.jupyter.widget-view+json": {
       "model_id": "1eef425c91174d2ab071a0432bfe329b",
       "version_major": 2,
       "version_minor": 0
      },
      "text/plain": [
       "HBox(children=(SelectMultiple(description='Genotype', options=('WT', '5xFAD'), value=()), SelectMultiple(descr…"
      ]
     },
     "metadata": {},
     "output_type": "display_data"
    },
    {
     "data": {
      "application/vnd.jupyter.widget-view+json": {
       "model_id": "76d6746ff9a64042a1ff90630f46fd2c",
       "version_major": 2,
       "version_minor": 0
      },
      "text/plain": [
       "HBox(children=(SelectMultiple(description='Cage', options=('FAD245', 'FAD246', 'FAD249', 'FAD263', 'FAD259', '…"
      ]
     },
     "metadata": {},
     "output_type": "display_data"
    },
    {
     "data": {
      "application/vnd.jupyter.widget-view+json": {
       "model_id": "73a5767b4e7a4ecd8ddcc83810847ce7",
       "version_major": 2,
       "version_minor": 0
      },
      "text/plain": [
       "HBox(children=(SelectMultiple(description='Mouse', options=('m1', 'm2', 'm3', 'm4', 'm5'), value=()), SelectMu…"
      ]
     },
     "metadata": {},
     "output_type": "display_data"
    },
    {
     "data": {
      "application/vnd.jupyter.widget-view+json": {
       "model_id": "ff13414607f84d27870568bd808f9b15",
       "version_major": 2,
       "version_minor": 0
      },
      "text/plain": [
       "HBox(children=(Button(description='Finish', style=ButtonStyle()), Button(description='Add more JSON pairs', st…"
      ]
     },
     "metadata": {},
     "output_type": "display_data"
    }
   ],
   "source": [
    "main_json = {col: labels_df2[col].unique().tolist() for col in labels_df2}\n",
    "\n",
    "display_pair_widgets(main_json)"
   ]
  },
  {
   "cell_type": "code",
   "execution_count": 27,
   "metadata": {},
   "outputs": [
    {
     "name": "stdout",
     "output_type": "stream",
     "text": [
      "[[{'Biology': ['cereb'], 'Genotype': ['5xFAD']}, {'Biology': ['cereb'], 'Genotype': ['WT']}], [{'Biology': ['cortex'], 'Genotype': ['5xFAD']}, {'Biology': ['cortex'], 'Genotype': ['WT']}], [{'Biology': ['dienc'], 'Genotype': ['5xFAD']}, {'Biology': ['dienc'], 'Genotype': ['WT']}], [{'Biology': ['hippo'], 'Genotype': ['5xFAD']}, {'Biology': ['hippo'], 'Genotype': ['WT']}], [{'Genotype': ['5xFAD']}, {'Genotype': ['WT']}], [{}, {}]]\n",
      "[{'Genotype': ['5xFAD']}, {'Genotype': ['WT']}, {'Biology': ['cortex'], 'Genotype': ['5xFAD']}, {'Biology': ['cereb'], 'Genotype': ['5xFAD']}, {'Biology': ['cortex'], 'Genotype': ['WT']}, {'Biology': ['hippo'], 'Genotype': ['WT']}, {'Biology': ['hippo'], 'Genotype': ['5xFAD']}, {'Biology': ['dienc'], 'Genotype': ['WT']}, {'Biology': ['cereb'], 'Genotype': ['WT']}, {}, {'Biology': ['dienc'], 'Genotype': ['5xFAD']}]\n"
     ]
    }
   ],
   "source": [
    "\n",
    "json_list_pairs = load_data()\n",
    "json_list_pairs = remove_empty_entries(json_list_pairs)\n",
    "json_list_singles = get_unique_json_objects(json_list_pairs)\n",
    "# make_pie_chart_no_replicates(df_matched,plots_2_save_path,json_list_singles,labels_list,blank_name,extra_name)\n",
    "# average_pie_chart_no_repeats(df_matched,plots_2_save_path,json_list_singles,labels_list,blank_name,extra_name)\n",
    "# # make_bar_plot_comparisons(df_matched, plots_2_save_path, json_list_pairs,labels_list,blank_name,extra_name)\n",
    "# labels_list = labels_list + ['method_type',\"Transition\"]\n",
    "# df_matched = add_suffix(df_matched)\n",
    "# combined_df = prep_edge_R(df_matched,json_list_pairs,Pre_edge_r_path,blank_name,labels_list,extra_name)\n",
    "print(json_list_pairs)\n",
    "print(json_list_singles)"
   ]
  },
  {
   "cell_type": "code",
   "execution_count": 25,
   "metadata": {
    "scrolled": false
   },
   "outputs": [
    {
     "name": "stdout",
     "output_type": "stream",
     "text": [
      "Your data is PURRing...\n"
     ]
    },
    {
     "ename": "FileNotFoundError",
     "evalue": "[Errno 2] No such file or directory: '/home/iyer95/CLAW/CLAW/lipid_platform/Projects/AMP/mzml/'",
     "output_type": "error",
     "traceback": [
      "\u001b[0;31m---------------------------------------------------------------------------\u001b[0m",
      "\u001b[0;31mFileNotFoundError\u001b[0m                         Traceback (most recent call last)",
      "\u001b[0;32m/tmp/ipykernel_53095/2801485979.py\u001b[0m in \u001b[0;36m<module>\u001b[0;34m\u001b[0m\n\u001b[1;32m     21\u001b[0m \u001b[0;32melse\u001b[0m\u001b[0;34m:\u001b[0m\u001b[0;34m\u001b[0m\u001b[0;34m\u001b[0m\u001b[0m\n\u001b[1;32m     22\u001b[0m     df_matched = full_parse(data_base_name_location,mzml_folder, folder_name_to_save,labels_df, blank_name, \n\u001b[0;32m---> 23\u001b[0;31m                             file_name_to_save,tolerance, custom_data = custom_data, remove_std = remove_std,save_data=save_data)\n\u001b[0m\u001b[1;32m     24\u001b[0m \u001b[0;31m#     tag_values = ['TAG14', 'TAG16', 'TAG18', 'TAG20', 'TAG22']\u001b[0m\u001b[0;34m\u001b[0m\u001b[0;34m\u001b[0m\u001b[0;34m\u001b[0m\u001b[0m\n\u001b[1;32m     25\u001b[0m \u001b[0;31m#     dag_values = ['DAG16', 'DAG18']\u001b[0m\u001b[0;34m\u001b[0m\u001b[0;34m\u001b[0m\u001b[0;34m\u001b[0m\u001b[0m\n",
      "\u001b[0;32m~/CLAW/CLAW/lipid_platform/MRM_parser.py\u001b[0m in \u001b[0;36mfull_parse\u001b[0;34m(data_base_name_location, mzml_folder, folder_name_to_save, labels_df, blank_name, file_name_to_save, tolerance, custom_data, remove_std, save_data)\u001b[0m\n\u001b[1;32m   1106\u001b[0m                save_data=False):\n\u001b[1;32m   1107\u001b[0m     \u001b[0mmrm_database\u001b[0m \u001b[0;34m=\u001b[0m \u001b[0mread_mrm_list\u001b[0m\u001b[0;34m(\u001b[0m\u001b[0mdata_base_name_location\u001b[0m\u001b[0;34m,\u001b[0m\u001b[0mremove_std\u001b[0m\u001b[0;34m=\u001b[0m\u001b[0mremove_std\u001b[0m\u001b[0;34m,\u001b[0m\u001b[0mcustom_data\u001b[0m\u001b[0;34m=\u001b[0m\u001b[0mcustom_data\u001b[0m\u001b[0;34m)\u001b[0m\u001b[0;34m\u001b[0m\u001b[0;34m\u001b[0m\u001b[0m\n\u001b[0;32m-> 1108\u001b[0;31m     \u001b[0mdf\u001b[0m \u001b[0;34m=\u001b[0m \u001b[0mmzml_parser\u001b[0m\u001b[0;34m(\u001b[0m\u001b[0mmzml_folder\u001b[0m\u001b[0;34m)\u001b[0m\u001b[0;34m\u001b[0m\u001b[0;34m\u001b[0m\u001b[0m\n\u001b[0m\u001b[1;32m   1109\u001b[0m \u001b[0;34m\u001b[0m\u001b[0m\n\u001b[1;32m   1110\u001b[0m     \u001b[0mdf_matched\u001b[0m \u001b[0;34m=\u001b[0m \u001b[0mmatch_lipids_parser\u001b[0m\u001b[0;34m(\u001b[0m\u001b[0mmrm_database\u001b[0m\u001b[0;34m,\u001b[0m\u001b[0mdf\u001b[0m\u001b[0;34m,\u001b[0m \u001b[0mtolerance\u001b[0m\u001b[0;34m=\u001b[0m\u001b[0mtolerance\u001b[0m\u001b[0;34m)\u001b[0m\u001b[0;34m\u001b[0m\u001b[0;34m\u001b[0m\u001b[0m\n",
      "\u001b[0;32m~/CLAW/CLAW/lipid_platform/MRM_parser.py\u001b[0m in \u001b[0;36mmzml_parser\u001b[0;34m(file_name)\u001b[0m\n\u001b[1;32m    237\u001b[0m \u001b[0;32mdef\u001b[0m \u001b[0mmzml_parser\u001b[0m\u001b[0;34m(\u001b[0m\u001b[0mfile_name\u001b[0m\u001b[0;34m)\u001b[0m\u001b[0;34m:\u001b[0m\u001b[0;34m\u001b[0m\u001b[0;34m\u001b[0m\u001b[0m\n\u001b[1;32m    238\u001b[0m     \u001b[0mdf\u001b[0m \u001b[0;34m=\u001b[0m \u001b[0mpd\u001b[0m\u001b[0;34m.\u001b[0m\u001b[0mDataFrame\u001b[0m\u001b[0;34m(\u001b[0m\u001b[0mcolumns\u001b[0m\u001b[0;34m=\u001b[0m\u001b[0;34m[\u001b[0m\u001b[0;34m'Lipid'\u001b[0m\u001b[0;34m,\u001b[0m\u001b[0;34m'Parent_Ion'\u001b[0m\u001b[0;34m,\u001b[0m\u001b[0;34m'Product_Ion'\u001b[0m\u001b[0;34m,\u001b[0m\u001b[0;34m'Intensity'\u001b[0m\u001b[0;34m,\u001b[0m\u001b[0;34m'Transition'\u001b[0m\u001b[0;34m,\u001b[0m\u001b[0;34m'Class'\u001b[0m\u001b[0;34m,\u001b[0m\u001b[0;34m'Sample_ID'\u001b[0m\u001b[0;34m]\u001b[0m\u001b[0;34m)\u001b[0m\u001b[0;34m\u001b[0m\u001b[0;34m\u001b[0m\u001b[0m\n\u001b[0;32m--> 239\u001b[0;31m     \u001b[0mdata_folder\u001b[0m \u001b[0;34m=\u001b[0m \u001b[0mos\u001b[0m\u001b[0;34m.\u001b[0m\u001b[0mlistdir\u001b[0m\u001b[0;34m(\u001b[0m\u001b[0mfile_name\u001b[0m\u001b[0;34m)\u001b[0m \u001b[0;31m#Path to the mzml files\u001b[0m\u001b[0;34m\u001b[0m\u001b[0;34m\u001b[0m\u001b[0m\n\u001b[0m\u001b[1;32m    240\u001b[0m     \u001b[0mdata_folder\u001b[0m\u001b[0;34m.\u001b[0m\u001b[0msort\u001b[0m\u001b[0;34m(\u001b[0m\u001b[0;34m)\u001b[0m\u001b[0;34m\u001b[0m\u001b[0;34m\u001b[0m\u001b[0m\n\u001b[1;32m    241\u001b[0m     \u001b[0mpath_to_mzml_files\u001b[0m \u001b[0;34m=\u001b[0m \u001b[0mfile_name\u001b[0m\u001b[0;34m\u001b[0m\u001b[0;34m\u001b[0m\u001b[0m\n",
      "\u001b[0;31mFileNotFoundError\u001b[0m: [Errno 2] No such file or directory: '/home/iyer95/CLAW/CLAW/lipid_platform/Projects/AMP/mzml/'"
     ]
    }
   ],
   "source": [
    "# Ignore warnings\n",
    "warnings.filterwarnings('ignore')\n",
    "\n",
    "# # Display GIF\n",
    "# gif = Image(filename='Figures/cat_gif.gif') # replace 'your_gif.gif' with the path to your GIF\n",
    "# display(gif)\n",
    "\n",
    "print(\"Your data is PURRing...\")\n",
    "\n",
    "if load_previously_parsed == True:\n",
    "    df_matched = pd.read_csv(Project_Folder+\"Processed Results/\"+file_name_to_save+\".csv\")\n",
    "    \n",
    "\n",
    "    \n",
    "#     tag_values = ['TAG14', 'TAG16', 'TAG18', 'TAG20', 'TAG22']\n",
    "#     dag_values = ['DAG16', 'DAG18']\n",
    "\n",
    "#     df_matched.loc[df_matched['method_type'].isin(tag_values), 'Class'] = 'TAG'\n",
    "#     df_matched.loc[df_matched['method_type'].isin(dag_values), 'Class'] = 'DAG'\n",
    "    \n",
    "else:\n",
    "    df_matched = full_parse(data_base_name_location,mzml_folder, folder_name_to_save,labels_df, blank_name, \n",
    "                            file_name_to_save,tolerance, custom_data = custom_data, remove_std = remove_std,save_data=save_data)\n",
    "#     tag_values = ['TAG14', 'TAG16', 'TAG18', 'TAG20', 'TAG22']\n",
    "#     dag_values = ['DAG16', 'DAG18']\n",
    "\n",
    "#     df_matched.loc[df_matched['method_type'].isin(tag_values), 'Class'] = 'TAG'\n",
    "#     df_matched.loc[df_matched['method_type'].isin(dag_values), 'Class'] = 'DAG'\n",
    "    \n",
    "print(\"Complete\")\n",
    "\n",
    "\n",
    "\n",
    "\n",
    "\n",
    "\n",
    "json_list_pairs = load_data()\n",
    "json_list_pairs = remove_empty_entries(json_list_pairs)\n",
    "json_list_singles = get_unique_json_objects(json_list_pairs)\n",
    "# make_pie_chart_no_replicates(df_matched,plots_2_save_path,json_list_singles,labels_list,blank_name,extra_name)\n",
    "# average_pie_chart_no_repeats(df_matched,plots_2_save_path,json_list_singles,labels_list,blank_name,extra_name)\n",
    "# make_bar_plot_comparisons(df_matched, plots_2_save_path, json_list_pairs,labels_list,blank_name,extra_name)\n",
    "labels_list = labels_list + ['method_type',\"Transition\"]\n",
    "df_matched = add_suffix(df_matched)\n",
    "combined_df = prep_edge_R(df_matched,json_list_pairs,Pre_edge_r_path,blank_name,labels_list,extra_name)\n",
    "# process_for_biopan(Project_Folder)\n",
    "# !bash myjob.sh\n"
   ]
  },
  {
   "cell_type": "code",
   "execution_count": null,
   "metadata": {},
   "outputs": [],
   "source": []
  }
 ],
 "metadata": {
  "kernelspec": {
   "display_name": "Python 3 (ipykernel)",
   "language": "python",
   "name": "python3"
  },
  "language_info": {
   "codemirror_mode": {
    "name": "ipython",
    "version": 3
   },
   "file_extension": ".py",
   "mimetype": "text/x-python",
   "name": "python",
   "nbconvert_exporter": "python",
   "pygments_lexer": "ipython3",
   "version": "3.7.13"
  },
  "vscode": {
   "interpreter": {
    "hash": "7f59e923a9cab402a21ecdd8c8501a7d121113b28792a99acb445fcdcb4f42c3"
   }
  }
 },
 "nbformat": 4,
 "nbformat_minor": 2
}
