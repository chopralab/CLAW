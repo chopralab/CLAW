{
 "cells": [
  {
   "cell_type": "markdown",
   "metadata": {},
   "source": [
    "# Automated Multiple Reaction Monitoring (MRM)-profiling and Ozone Electrospray Ionizaton (OzESI)-MRM Informatics Platform for High-throughput Lipidomics\n",
    "\n",
    "\n",
    "In this jupyter notebook you will automate the data analysis of the lipidome. This is a challenging problem to perform manually due to the diverse nature of lipids and the many potential isomers. In this notebook you will analyze mzML files containing data from lipid MRMs, with ozone off and ozone on. The goal is to identify possible double-bond locations in a lipid, in this case a TAG (triacylglycerols)."
   ]
  },
  {
   "cell_type": "code",
   "execution_count": 1,
   "metadata": {},
   "outputs": [],
   "source": [
    "from IPython.display import Image"
   ]
  },
  {
   "cell_type": "markdown",
   "metadata": {},
   "source": [
    "![title](Figures/agilent_lcms.png)\n",
    "\n",
    "The examples shown here were run on an Agilent 6495C Triple Quadrupole LC/MS (example shown above) that has been connected to an ozone line (not shown in picture) for ozoneolysis of lipids."
   ]
  },
  {
   "cell_type": "markdown",
   "metadata": {},
   "source": [
    "![title](Figures/TAG_example.png)\n",
    "Here is an example of a TAG. Notice how many possibilities there are for locations of one double-bond there could be and how convoluted the analysis can become! This image is obtained from LipidMaps.org"
   ]
  },
  {
   "cell_type": "markdown",
   "metadata": {},
   "source": [
    "Import all necessary libraries"
   ]
  },
  {
   "cell_type": "code",
   "execution_count": 2,
   "metadata": {},
   "outputs": [
    {
     "name": "stdout",
     "output_type": "stream",
     "text": [
      "No module named 'ms_deisotope._c.averagine' averagine\n",
      "No module named 'ms_deisotope._c.scoring'\n",
      "No module named 'ms_deisotope._c.deconvoluter_base'\n",
      "No module named 'ms_deisotope._c.deconvoluter_base'\n",
      "No module named 'ms_deisotope._c.deconvoluter_base'\n"
     ]
    }
   ],
   "source": [
    "#Import all the necessary libraries\n",
    "import pymzml\n",
    "import csv\n",
    "import os\n",
    "import pandas as pd\n",
    "import numpy as np\n",
    "import math\n",
    "from matplotlib import pyplot as plt\n",
    "import re\n",
    "import plotly.express as px\n",
    "from collections import defaultdict\n",
    "\n",
    "import plotly.io as pio\n",
    "import json\n",
    "import plotly.graph_objs as go\n",
    "import matplotlib.colors as mcolors\n",
    "\n",
    "import json\n",
    "import ipywidgets as widgets\n",
    "from IPython.display import display\n"
   ]
  },
  {
   "cell_type": "code",
   "execution_count": null,
   "metadata": {},
   "outputs": [],
   "source": []
  },
  {
   "cell_type": "code",
   "execution_count": 3,
   "metadata": {},
   "outputs": [],
   "source": [
    "###Importing Variables for all functions\n",
    "\n",
    "data_base_name_location = 'lipid_database/Lipid_Database.xlsx'####Lipid database with Standard Carnitines\n",
    "mzml_folder = './data_mzml/Brain_5xFAD/5_09_23/'\n",
    "tolerance = 0.3\n",
    "remove_std = True\n",
    "\n",
    "# Example usage:\n",
    "folder_name_to_save = 'Brain_5xFAD/'\n",
    "file_name_to_save = 'Brain_5xFAD_3_tolerance'\n",
    "save_data= True\n",
    "\n",
    "\n",
    "###Think I should Reorient for 1 folder with all mzml, plots, csvs, pre edgeR\n",
    "\n",
    "###Label_File\n",
    "##Need to drop equisplash among others ##Drop Position Should be something Unique\n",
    "label_file = \"./Labels/5xFAD_brain/5_9_23.csv\"\n",
    "blank_name = \"Blank_Blank_Blank_Blank_Blank\" ##Maybe Standardize the position so that we can automatically take it - Or a second reading file\n",
    "splash_name = \"SPLASH_splash_splash_splash_splash\"\n",
    "clean_name = \"IPA_clean_clean_clean_clean\"\n",
    "remove_list = [\"SPLASH_splash_splash_splash_splash\",\"IPA_clean_clean_clean_clean\"]\n",
    "Pre_edge_r_path = \"Pre_EdgeR/5xFAD_brain/5_09_23/\"\n",
    "\n",
    "plots_2_save_path = \"Plots/5xFAD_brain/5_09_23/\""
   ]
  },
  {
   "cell_type": "code",
   "execution_count": 29,
   "metadata": {},
   "outputs": [],
   "source": [
    "json1 = {\"Genotype\": [\"5xFAD\"]}\n",
    "json2 = {\"Sample Name\": [\"blank_033123\"]}\n",
    "json_list_singles = [json1]"
   ]
  },
  {
   "cell_type": "code",
   "execution_count": 2,
   "metadata": {},
   "outputs": [],
   "source": [
    "###Importing Variables for all functions\n",
    "\n",
    "# data_base_name_location = 'lipid_database/Lipid_Database.xlsx'####Lipid database with Standard Carnitines\n",
    "# mzml_folder = './data_mzml/Brain_5xFAD/5_09_23/'\n",
    "# tolerance = 0.3\n",
    "# remove_std = True\n",
    "\n",
    "# # Example usage:\n",
    "# folder_name_to_save = 'Brain_5xFAD/'\n",
    "# file_name_to_save = 'Brain_5xFAD_3_tolerance'\n",
    "# save_data= True\n",
    "\n",
    "\n",
    "# ###Think I should Reorient for 1 folder with all mzml, plots, csvs, pre edgeR\n",
    "\n",
    "# ###Label_File\n",
    "# ##Need to drop equisplash among others ##Drop Position Should be something Unique\n",
    "# label_file = \"./Labels/5xFAD_brain/5_9_23.csv\"\n",
    "# blank_name = \"Blank_Blank_Blank_Blank_Blank\" ##Maybe Standardize the position so that we can automatically take it - Or a second reading file\n",
    "# splash_name = \"SPLASH_splash_splash_splash_splash\"\n",
    "# clean_name = \"IPA_clean_clean_clean_clean\"\n",
    "# remove_list = [\"SPLASH_splash_splash_splash_splash\",\"IPA_clean_clean_clean_clean\"]\n",
    "# Pre_edge_r_path = \"Pre_EdgeR/5xFAD_brain/5_09_23/\"\n",
    "\n",
    "# plots_2_save_path = \"Plots/5xFAD_brain/5_09_23/\""
   ]
  },
  {
   "cell_type": "code",
   "execution_count": 4,
   "metadata": {},
   "outputs": [],
   "source": [
    "##Labels DF and Labels List\n",
    "labels_df = pd.read_csv(label_file)\n",
    "labels_list = list(labels_df)\n",
    "labels_list = labels_list +[\"Class\",\"Lipid\"]"
   ]
  },
  {
   "cell_type": "code",
   "execution_count": 5,
   "metadata": {},
   "outputs": [],
   "source": [
    "##Json files\n",
    "\n",
    "##Examples\n",
    "\n",
    "# json1 = {\"Cage\": [\"FAD131\"]}\n",
    "# json2 = {\"Cage\": [\"DOD73\"]}\n",
    "# json3 = {\"Cage\": [\"FAD131\", \"DOD73\"]}\n",
    "# json4 = {\"Sex\": [\"Male\"], \"Genotype\": [\"5xFAD\"], \"Name\": [\"FAD131-5xFAD-M2liver\"]}\n",
    "\n",
    "json1 = {\"Genotype\": [\"WT\"]}\n",
    "json2 = {\"Genotype\": [\"5xFAD\"]}\n",
    "json3 = {\"Genotype\": [\"WT\"],\"Sex\": [\"Male\"]}\n",
    "json4 = {\"Genotype\": [\"WT\"],\"Sex\": [\"Female\"]}\n",
    "json5 = {\"Genotype\": [\"5xFAD\"],\"Sex\": [\"Male\"]}\n",
    "json6 = {\"Genotype\": [\"5xFAD\"],\"Sex\": [\"Female\"]}\n",
    "\n",
    "json7 = {\"Genotype\": [\"WT\"],\"Brain Region\": [\"hippocampus\"]}\n",
    "json8 = {\"Genotype\": [\"WT\"],\"Brain Region\": [\"cortex \"]}\n",
    "json7A = {\"Genotype\": [\"WT\"],\"Brain Region\": [\"cerebellum\"]}\n",
    "json8A = {\"Genotype\": [\"WT\"],\"Brain Region\": [\"diencephalon\"]}\n",
    "\n",
    "json9 = {\"Genotype\": [\"5xFAD\"],\"Brain Region\": [\"hippocampus\"]}\n",
    "json10 = {\"Genotype\": [\"5xFAD\"],\"Brain Region\": [\"cortex \"]}\n",
    "json11 = {\"Genotype\": [\"5xFAD\"],\"Brain Region\": [\"cerebellum\"]}\n",
    "json12 = {\"Genotype\": [\"5xFAD\"],\"Brain Region\": [\"diencephalon\"]}\n",
    "\n",
    "json13 = {\"Genotype\": [\"WT\"],\"Brain Region\": [\"hippocampus\"],\"Sex\": [\"Male\"]}\n",
    "json14 = {\"Genotype\": [\"WT\"],\"Brain Region\": [\"cortex \"],\"Sex\": [\"Male\"]}\n",
    "json15 = {\"Genotype\": [\"WT\"],\"Brain Region\": [\"cerebellum\"],\"Sex\": [\"Male\"]}\n",
    "json16 = {\"Genotype\": [\"WT\"],\"Brain Region\": [\"diencephalon\"],\"Sex\": [\"Male\"]}\n",
    "json17 = {\"Genotype\": [\"WT\"],\"Brain Region\": [\"hippocampus\"],\"Sex\": [\"Female\"]}\n",
    "json18 = {\"Genotype\": [\"WT\"],\"Brain Region\": [\"cortex \"],\"Sex\": [\"Female\"]}\n",
    "json19 = {\"Genotype\": [\"WT\"],\"Brain Region\": [\"cerebellum\"],\"Sex\": [\"Female\"]}\n",
    "json20 = {\"Genotype\": [\"WT\"],\"Brain Region\": [\"diencephalon\"],\"Sex\": [\"Female\"]}\n",
    "\n",
    "\n",
    "json21 = {\"Genotype\": [\"5xFAD\"],\"Brain Region\": [\"hippocampus\"],\"Sex\": [\"Male\"]}\n",
    "json22 = {\"Genotype\": [\"5xFAD\"],\"Brain Region\": [\"cortex \"],\"Sex\": [\"Male\"]}\n",
    "json23 = {\"Genotype\": [\"5xFAD\"],\"Brain Region\": [\"cerebellum\"],\"Sex\": [\"Male\"]}\n",
    "json24 = {\"Genotype\": [\"5xFAD\"],\"Brain Region\": [\"diencephalon\"],\"Sex\": [\"Male\"]}\n",
    "json25 = {\"Genotype\": [\"5xFAD\"],\"Brain Region\": [\"hippocampus\"],\"Sex\": [\"Female\"]}\n",
    "json26 = {\"Genotype\": [\"5xFAD\"],\"Brain Region\": [\"cortex \"],\"Sex\": [\"Female\"]}\n",
    "json27 = {\"Genotype\": [\"5xFAD\"],\"Brain Region\": [\"cerebellum\"],\"Sex\": [\"Female\"]}\n",
    "json28 = {\"Genotype\": [\"5xFAD\"],\"Brain Region\": [\"diencephalon\"],\"Sex\": [\"Female\"]}\n",
    "\n",
    "\n",
    "json_list_singles = [json1,json2,json3,json4,json5,json6,json7,json7A,json8A,json8,json9,json10,json11,json12,json13,json14,\n",
    "                     json15,json16,json17,json18,json19,json20,json21,json22,json23,json25,json26,json27,json28]"
   ]
  },
  {
   "cell_type": "code",
   "execution_count": 6,
   "metadata": {},
   "outputs": [],
   "source": [
    "###Comparisons\n",
    "json_list_pairs = [[json2,json1],[json5,json3],[json6,json4],\n",
    "                   [json9,json7],[json10,json8],[json11,json7A],[json12,json8A],\n",
    "                   [json21,json13],[json22,json14],[json23,json15],[json24,json16],[json25,json17],[json26,json18],\n",
    "                  [json27,json19],[json28,json20]]\n",
    "\n",
    "##Maybe make this all possible combinations in json_list_singles"
   ]
  },
  {
   "cell_type": "markdown",
   "metadata": {},
   "source": [
    "MAKE CLASSES FOR EACH LIPID"
   ]
  },
  {
   "cell_type": "code",
   "execution_count": 7,
   "metadata": {
    "scrolled": true
   },
   "outputs": [],
   "source": [
    "\n",
    "###All functions\n",
    "\n",
    "#Function to read in MRM database\n",
    "#Option to remove STDs from database##Not finished need option to use another database with no qualitative ACs\n",
    "\n",
    "\n",
    "def read_mrm_list(filename,remove_std = True):\n",
    "    mrm_list_new = pd.read_excel(filename, sheet_name=None)\n",
    "    mrm_list_new = pd.concat(mrm_list_new, ignore_index=True)\n",
    "    mrm_list_offical = mrm_list_new[['Compound Name', 'Parent Ion', 'Product Ion', 'Class']]\n",
    "    # Add underscore to middle of columns names\n",
    "    mrm_list_offical.columns = mrm_list_offical.columns.str.replace(' ', '_')\n",
    "    # Round Parent Ion and Product Ion to 1 decimal place\n",
    "    mrm_list_offical['Parent_Ion'] = np.round(mrm_list_offical['Parent_Ion'],1)\n",
    "    mrm_list_offical['Product_Ion'] = np.round(mrm_list_offical['Product_Ion'],1)\n",
    "    # Create transition column by combining Parent Ion and Product Ion with arrow between numbers\n",
    "    mrm_list_offical['Transition'] = mrm_list_offical['Parent_Ion'].astype(str) + ' -> ' + mrm_list_offical['Product_Ion'].astype(str)\n",
    "    # Change column compound name to lipid\n",
    "    mrm_list_offical = mrm_list_offical.rename(columns={'Compound_Name': 'Lipid'})\n",
    "    # Make a column called Class match lipid column to lipid types\n",
    "    if remove_std == True:\n",
    "        lipid_class = mrm_list_offical['Class'].unique()\n",
    "        lipid_class_to_keep = ['PS','PG','CE','PC', 'DAG', 'PE', 'TAG', 'FA', 'Cer', 'CAR', 'PI','SM']\n",
    "        mrm_list_offical = mrm_list_offical[mrm_list_offical['Class'].isin(lipid_class_to_keep)]\n",
    "    return mrm_list_offical\n",
    "\n",
    "\n",
    "\n",
    "def mzml_parser(file_name):\n",
    "    df = pd.DataFrame(columns=['Lipid','Parent_Ion','Product_Ion','Intensity','Transition','Class','Sample_ID'])\n",
    "    data_folder = os.listdir(file_name) #Path to the mzml files\n",
    "    data_folder.sort()\n",
    "    path_to_mzml_files = file_name\n",
    "    for file in data_folder:\n",
    "            if file.endswith('.mzML'):\n",
    "\n",
    "                    run = pymzml.run.Reader(path_to_mzml_files+file, skip_chromatogram=False) #Load the mzml file into the run object\n",
    "\n",
    "\n",
    "\n",
    "                    df_all = pd.DataFrame(columns=['Lipid','Parent_Ion','Product_Ion','Intensity','Transition','Class','Sample_ID']) #Create empty pandas dataframe to store the data\n",
    "\n",
    "                    #create pandas dataframe to store the data with the columns Parent Ion, Product Ion, Intensity, Transition Lipid and Class\n",
    "                   \n",
    "                    q1_mz = 0 #Create empty variables to store the Q1 and Q3 m/z values\n",
    "                    q3_mz = 0\n",
    "                    count = 0 #Create a counter to keep track of the number of transitions\n",
    "                    for spectrum in run:\n",
    "\n",
    "\n",
    "                            for element in spectrum.ID.split(' '):\n",
    "                                    intensity_store = np.array([])\n",
    "                                    if 'Q1' in element:\n",
    "                                            q1 = element.split('=')\n",
    "                                            q1_mz= np.round((float(q1[1])),1)\n",
    "\n",
    "                                    if 'Q3' in element:\n",
    "                                \n",
    "                                            q3 = element.split('=')\n",
    "  \n",
    "                                            q3_mz=np.round(float(q3[1]),1)\n",
    "\n",
    "\n",
    "                                            for mz,intensity in spectrum.peaks(): #Get the m/z and intensity values from the spectrum\n",
    "                                                    intensity_store = np.append(intensity_store,intensity) #Store the intensity values in an array\n",
    "\n",
    "\n",
    "\n",
    "                                    if 'Q3' in element:\n",
    "                                            # print(intensity_sum)\n",
    "                                            intensity_sum = np.sum(intensity_store) #Sum the intensity values\n",
    "                                            df_all.loc[count,'Parent_Ion'] = q1_mz #Store the Q1 and Q3 m/z values in the pandas dataframe\n",
    "                                            df_all.loc[count,'Product_Ion'] = q3_mz\n",
    "                                            #round the Q1 and Q3 m/z values to 1 decimal places\n",
    "                                            df_all.loc[count,'Parent_Ion'] = np.round(df_all.loc[count,'Parent_Ion'],1)\n",
    "                                            df_all.loc[count,'Product_Ion'] = np.round(df_all.loc[count,'Product_Ion'],1)\n",
    "                                            df_all.loc[count,'Intensity'] = intensity_sum #Store the intensity values in the pandas dataframe\n",
    "                                            df_all.loc[count,'Transition'] = str(q1_mz)+ ' -> '+ str(q3_mz) #Store the transition values in the pandas dataframe\n",
    "                                            #add file name to Sample_ID column without the mzmL extension\n",
    "                                            df_all.loc[count,'Sample_ID'] = file[:-5]\n",
    "                                            count+=1\n",
    "\n",
    "            #append df_all to df\n",
    "            df = df.append(df_all, ignore_index=True)\n",
    "    return df\n",
    "\n",
    "# Function to create an ion dictionary from an MRM database DataFrame\n",
    "def create_ion_dict(mrm_database):\n",
    "    ion_dict = defaultdict(list)\n",
    "    # Iterate through the rows of the MRM database DataFrame\n",
    "    for index, row in mrm_database.iterrows():\n",
    "        # Add a tuple with Lipid and Class to the ion dictionary using Parent_Ion and Product_Ion as the key\n",
    "        ion_dict[(row['Parent_Ion'], row['Product_Ion'])].append((row['Lipid'], row['Class']))\n",
    "    return ion_dict\n",
    "\n",
    "# Function to check if the absolute difference between two values is within a given tolerance\n",
    "def within_tolerance(a, b, tolerance=0.1):\n",
    "    return abs(a - b) <= tolerance\n",
    "\n",
    "# Function to match the ions in a DataFrame row with the ions in an ion dictionary\n",
    "def match_ions(row, ion_dict, tolerance=0.1):\n",
    "    ions = (row['Parent_Ion'], row['Product_Ion'])\n",
    "    matched_lipids = []\n",
    "    matched_classes = []\n",
    "\n",
    "    # Iterate through the ion dictionary\n",
    "    for key, value in ion_dict.items():\n",
    "        # Check if both the Parent_Ion and Product_Ion values are within the specified tolerance\n",
    "        if within_tolerance(ions[0], key[0], tolerance) and within_tolerance(ions[1], key[1], tolerance):\n",
    "            # If within tolerance, extend the matched_lipids and matched_classes lists with the corresponding values\n",
    "            matched_lipids.extend([match[0] for match in value])\n",
    "            matched_classes.extend([match[1] for match in value])\n",
    "\n",
    "    # If any matches were found, update the Lipid and Class columns in the row\n",
    "    if matched_lipids and matched_classes:\n",
    "        row['Lipid'] = ' | '.join(matched_lipids)\n",
    "        row['Class'] = ' | '.join(matched_classes)\n",
    "\n",
    "    return row\n",
    "\n",
    "####Combined functions for Matching\n",
    "\n",
    "def match_lipids_parser(mrm_database,df, tolerance=0.3):\n",
    "    ion_dict = create_ion_dict(mrm_database)\n",
    "    # Assuming you have the df DataFrame to apply the match_ions function\n",
    "    df_matched = df.apply(lambda row: match_ions(row, ion_dict=ion_dict, tolerance=tolerance), axis=1)\n",
    "\n",
    "\n",
    "    df_matched = df_matched.dropna()\n",
    "    \n",
    "    return df_matched\n",
    "\n",
    "\n",
    "def save_dataframe(df, folder_name, file_name, max_attempts=5):\n",
    "    folder_path = f'data_results/data/data_matching/{folder_name}'\n",
    "    os.makedirs(folder_path, exist_ok=True)\n",
    "\n",
    "    for i in range(max_attempts):\n",
    "        file_path = f'{folder_path}/{file_name}.csv'\n",
    "        if not os.path.isfile(file_path):\n",
    "            df.to_csv(file_path, index=False)\n",
    "            print(f\"Saved DataFrame to {file_path}\")\n",
    "            break\n",
    "    else:\n",
    "        print(f\"Failed to save DataFrame after {max_attempts} attempts.\")\n",
    "        return None\n",
    "\n",
    "##Adds labels and method type\n",
    "def add_labels(labels_df,matched_df):\n",
    "    for _, group_row in labels_df.iterrows():\n",
    "        for index, burda_row in matched_df.iterrows():\n",
    "            if group_row['Sample Name'].lower() in burda_row['Sample_ID'].lower():\n",
    "                # Add group_row data to the corresponding burda_row if the condition is met\n",
    "                for col in labels_df.columns:\n",
    "                    if col not in matched_df.columns:\n",
    "                        matched_df[col] = None\n",
    "                    matched_df.at[index, col] = group_row[col]\n",
    "\n",
    "    matched_df['method_type'] = matched_df['Sample_ID'].apply(lambda x: x.split('_')[0])\n",
    "\n",
    "    return matched_df\n",
    "    \n",
    "def subtract_blank(labels_df,matched_df,remove_list,blank_name):\n",
    "    ###Removing Stuff\n",
    "    for i in remove_list:\n",
    "        matched_df = matched_df[matched_df['Sample Name'] != i]\n",
    "    \n",
    "    matched_df = matched_df.dropna()\n",
    "\n",
    "    ###Subtracting the Blank\n",
    "    blank_intensities_df = matched_df[matched_df['Sample Name'] == blank_name][['Lipid',\"Transition\", 'Intensity', 'method_type']]\n",
    "    blank_intensities_df.columns = ['Lipid',\"Transition\", 'Blank_Intensity', 'method_type']\n",
    "\n",
    "\n",
    "# Get the unique names in the Name column, excluding the blank_name\n",
    "    unique_names = matched_df['Sample Name'].unique()\n",
    "    print(unique_names)\n",
    "    ###Keep this line to drop the blank\n",
    "    # unique_names = unique_names[unique_names != blank_name] ###This drops the blank\n",
    "    merged_df = pd.DataFrame()  \n",
    "    for name in unique_names:\n",
    "        temp_df = matched_df[matched_df['Sample Name'] == name]\n",
    "        print(len(temp_df),\"TEMP\")\n",
    "        numbers = np.array((temp_df[\"Intensity\"] ))\n",
    "        numbers1 = np.array((blank_intensities_df['Blank_Intensity'] ))\n",
    "        print(len(temp_df),\"TEMP\")\n",
    "        numbers2 = numbers - numbers1\n",
    "        numbers2[numbers2<0] = 0\n",
    "        # Merge the blank intensities DataFrame with the temporary DataFrame\n",
    "        temp_df[\"Blank Subtraction\"] = numbers2\n",
    "        print(len(temp_df),\"TEMP\")\n",
    "        merged_df = merged_df.append(temp_df)\n",
    "\n",
    "\n",
    "\n",
    "    merged_df['Class'] = merged_df['Class'].replace({'TAG | TAG': 'TAG', 'FA | FA': 'FA'})\n",
    "\n",
    "    return merged_df\n",
    "\n",
    "\n",
    "\n",
    "\n",
    "def filter_dataframe(df, json_filter):\n",
    "    for column, values in json_filter.items():\n",
    "        df = df[df[column].isin(values)]\n",
    "    return df\n",
    "\n",
    "\n",
    "# Function to convert HEX colors to RGBA with specified alpha value, and then back to HEX\n",
    "def hex_to_rgba_hex(hex_color, alpha=1):\n",
    "    rgba_color = list(mcolors.hex2color(hex_color))\n",
    "    rgba_color.append(alpha)\n",
    "    return mcolors.to_hex(rgba_color, keep_alpha=True)\n",
    "\n",
    "def json_to_string(json_dict):\n",
    "    result = []\n",
    "    for key, values in json_dict.items():\n",
    "        values_str = ' '.join(values)\n",
    "        result.append(f\"{key}: {values_str}\")\n",
    "    return ' | '.join(result)\n",
    "\n",
    "\n",
    "\n",
    "\n",
    "\n",
    "def make_pie_chart_no_replicates(merged_df,save_path,json_list_singles,labels_list,show_percentages=False):\n",
    "\n",
    "    ##Maybe filter?\n",
    "    for i in range(len(json_list_singles)):\n",
    "        plot_title = 'Sum of Intensity by Class for' + json_to_string(json_list_singles[i])\n",
    "        save_name = save_path+json_to_string(json_list_singles[i]).replace(\" | \",\"__\")\n",
    "        filtered_df = filter_dataframe(merged_df,json_list_singles[i])\n",
    "        filtered_df = filtered_df[filtered_df[\"Sample Name\"] != blank_name]\n",
    "\n",
    "        groupby_columns = labels_list\n",
    "\n",
    "        # Aggregate functions to apply\n",
    "        aggregations = {\n",
    "            'Intensity': 'mean',\n",
    "            'Blank Subtraction': 'mean'\n",
    "        }\n",
    "\n",
    "        # Group the DataFrame and apply the aggregation functions\n",
    "\n",
    "        filtered_df_grouped = filtered_df.groupby(groupby_columns).agg(aggregations).reset_index()\n",
    "        grouped_df_sum_avg = filtered_df_grouped.groupby('Class')['Blank Subtraction'].sum().reset_index()\n",
    "\n",
    "\n",
    "        textinfo = 'label+percent' if show_percentages else \"none\"\n",
    "\n",
    "\n",
    "\n",
    "\n",
    "        fig1 = px.pie(grouped_df_sum_avg, values='Blank Subtraction', names='Class', title=plot_title)\n",
    "        fig1.update_traces(marker=dict(colors=[lipid_class_colors_alpha[lipid.upper()] for lipid in grouped_df_sum_avg['Class']]),\n",
    "                        hovertemplate='%{label}: %{percent:.2%}', textinfo=textinfo)\n",
    "        pio.write_html(fig1,  save_name + \"Sum Pie.html\")\n",
    "\n",
    "        # Save the plot as plot.png\n",
    "        pio.write_image(fig1, save_name + \"Sum Pie.svg\")\n",
    "    return\n",
    "\n",
    "\n",
    "\n",
    "def average_pie_chart_no_repeats(merged_df,save_path,json_list_singles,labels_list,show_percentages=False):\n",
    "\n",
    "    for i in range(len(json_list_singles)):\n",
    "        plot_title = 'Mean of Intensity by Class for' + json_to_string(json_list_singles[i])\n",
    "        save_name = save_path+json_to_string(json_list_singles[i]).replace(\" | \",\"__\")\n",
    "        filtered_df = filter_dataframe(merged_df,json_list_singles[i])\n",
    "        filtered_df = filtered_df[filtered_df[\"Sample Name\"] != blank_name]\n",
    "\n",
    "        groupby_columns = labels_list\n",
    "\n",
    "        # Aggregate functions to apply\n",
    "        aggregations = {\n",
    "            'Intensity': 'mean',\n",
    "            'Blank Subtraction': 'mean'\n",
    "        }\n",
    "\n",
    "        # Group the DataFrame and apply the aggregation functions\n",
    "\n",
    "        filtered_df_grouped = filtered_df.groupby(groupby_columns).agg(aggregations).reset_index()\n",
    "        grouped_df_avg = filtered_df_grouped.groupby('Class')['Blank Subtraction'].mean().reset_index()\n",
    "\n",
    "\n",
    "        textinfo = 'label+percent' if show_percentages else \"none\"\n",
    "\n",
    "\n",
    "\n",
    "\n",
    "        fig1 = px.pie(grouped_df_avg, values='Blank Subtraction', names='Class', title=plot_title)\n",
    "        fig1.update_traces(marker=dict(colors=[lipid_class_colors_alpha[lipid.upper()] for lipid in grouped_df_avg['Class']]),\n",
    "                        hovertemplate='%{label}: %{percent:.2%}', textinfo=textinfo)\n",
    "        pio.write_html(fig1,  save_name + \"Average Pie.html\")\n",
    "\n",
    "        # Save the plot as plot.png\n",
    "        pio.write_image(fig1, save_name + \"Average Pie .svg\")\n",
    "    return\n",
    "\n",
    "\n",
    "def make_bar_plot_comparisons(merged_df, save_path, json_list_pairs,labels_list):\n",
    "\n",
    "#     merged_df = merged_df[merged_df[\"Name\"] != blank_name]\n",
    "\n",
    "    ###This plot makes relative bar plots of comparison for total Intensity and average intensity\n",
    "    ###need to have a better group by column method list to add perhaps with the propper added names from first parser\n",
    "    ##Should be Lipid, Class and other important info from labeling dataframe\n",
    "    \n",
    "    for i in range(len(json_list_pairs)):\n",
    "        json1 = json_list_pairs[i][0]\n",
    "        json2 = json_list_pairs[i][1]\n",
    "        custom_name1 = json_to_string(json1)\n",
    "        custom_name2 = json_to_string(json2)\n",
    "        plot_tile = custom_name1+ \" vs \"+custom_name2\n",
    "        save_name  = save_path+plot_tile.replace(\" | \",\"__\")\n",
    "\n",
    "#         merged_df = merged_df[merged_df[\"Name\"] != blank_name]\n",
    "\n",
    "        groupby_columns = labels_list\n",
    "\n",
    "        aggregations = {\n",
    "            'Intensity': 'mean',\n",
    "            'Blank Subtraction': 'mean'\n",
    "        }\n",
    "        merged_df1 = merged_df[merged_df[\"Sample Name\"] != blank_name]\n",
    "        merged_df1 = merged_df1.groupby(groupby_columns).agg(aggregations).reset_index()\n",
    "\n",
    "        filtered_df1 = filter_dataframe(merged_df1, json1)\n",
    "        filtered_df2 = filter_dataframe(merged_df1, json2)\n",
    "        \n",
    "#         filtered_df1 = filtered_df1[filtered_df1[\"Sample Name\"] != blank_name]\n",
    "#         filtered_df2 = filtered_df2[filtered_df2[\"Sample Name\"] != blank_name]\n",
    "        \n",
    "        filtered_df1['Class'] = filtered_df1['Class'].str.upper()\n",
    "        filtered_df2['Class'] = filtered_df2['Class'].str.upper()\n",
    "\n",
    "        filtered_df1_avg = filtered_df1.groupby('Class')['Blank Subtraction'].mean().reset_index()\n",
    "        filtered_df2_avg = filtered_df2.groupby('Class')['Blank Subtraction'].mean().reset_index()\n",
    "\n",
    "\n",
    "\n",
    "        combined_max = filtered_df1_avg.set_index('Class')[['Blank Subtraction']].combine(filtered_df2_avg.set_index('Class')[['Blank Subtraction']], np.maximum)\n",
    "\n",
    "\n",
    "        normalized_df1_avg = filtered_df1_avg.set_index('Class').divide(combined_max)\n",
    "        normalized_df2_avg = filtered_df2_avg.set_index('Class').divide(combined_max)\n",
    "\n",
    "        trace1 = go.Bar(\n",
    "            x=normalized_df1_avg.index,\n",
    "            y=normalized_df1_avg['Blank Subtraction'],\n",
    "            name=custom_name1,\n",
    "            marker=dict(color='red'),\n",
    "        )\n",
    "\n",
    "        trace2 = go.Bar(\n",
    "            x=normalized_df2_avg.index,\n",
    "            y=normalized_df2_avg['Blank Subtraction'],\n",
    "            name=custom_name2,\n",
    "            marker=dict(color='blue'),\n",
    "        )\n",
    "\n",
    "        layout = go.Layout(\n",
    "            title=plot_tile,\n",
    "            xaxis=dict(title=\"Class\"),\n",
    "            yaxis=dict(title=\"Normalized Mean Intensity Blank Subtraction\"),\n",
    "            barmode=\"group\",\n",
    "        )\n",
    "\n",
    "        fig = go.Figure(data=[trace1, trace2], layout=layout)\n",
    "\n",
    "        pio.write_image(fig, save_name + \"bar.svg\")\n",
    "        pio.write_html(fig, save_name + \"bar.html\")\n",
    "    return\n",
    "\n",
    "\n",
    "\n",
    "lipid_classes = [\"CAR\", \"CE\", \"Cer\", \"FA\", \"PC\", \"PE\", \"PG\", \"PI\", \"PS\", \"SM\", \"TAG\",'DAG','TAG | DAG','DAG | CE','TAG | DAG | CE']\n",
    "lipid_colors = [\"#a6cee3\", \"#1f78b4\", \"#b2df8a\", \"#33a02c\", \"#fb9a99\", \"#e31a1c\", \"#fdbf6f\", \"#ff7f00\", \"#808080\", \"#cab2d6\", \"#6a3d9a\",'#8dd3c7', '#ffffb3', '#bebada', '#fb8072', '#80b1d3']\n",
    "\n",
    "lipid_class_colors = dict(zip([lipid.upper() for lipid in lipid_classes], lipid_colors))\n",
    "\n",
    "\n",
    "# Update colors with 0.5 alpha\n",
    "alpha = 0.5\n",
    "transparent_colors = [hex_to_rgba_hex(color, alpha) for color in lipid_colors]\n",
    "lipid_class_colors_alpha = dict(zip([lipid.upper() for lipid in lipid_classes], transparent_colors))\n",
    "    \n",
    "\n",
    "def full_parse(data_base_name_location,mzml_folder, folder_name_to_save, file_name_to_save,tolerance,remove_std = True,\n",
    "               save_data=False):\n",
    "    mrm_database = read_mrm_list(data_base_name_location,remove_std=remove_std)\n",
    "    df = mzml_parser(mzml_folder)\n",
    "    df_matched = match_lipids_parser(mrm_database,df, tolerance=tolerance)\n",
    "\n",
    "    \n",
    "    if save_data == True:\n",
    "        \n",
    "        save_dataframe(df_matched, folder_name_to_save, file_name_to_save)\n",
    "\n",
    "    return df_matched\n",
    "\n",
    "\n",
    "\n"
   ]
  },
  {
   "cell_type": "code",
   "execution_count": 8,
   "metadata": {},
   "outputs": [
    {
     "name": "stderr",
     "output_type": "stream",
     "text": [
      "/tmp/ipykernel_1731/2025906423.py:14: SettingWithCopyWarning: \n",
      "A value is trying to be set on a copy of a slice from a DataFrame.\n",
      "Try using .loc[row_indexer,col_indexer] = value instead\n",
      "\n",
      "See the caveats in the documentation: https://pandas.pydata.org/pandas-docs/stable/user_guide/indexing.html#returning-a-view-versus-a-copy\n",
      "  mrm_list_offical['Parent_Ion'] = np.round(mrm_list_offical['Parent_Ion'],1)\n",
      "/tmp/ipykernel_1731/2025906423.py:15: SettingWithCopyWarning: \n",
      "A value is trying to be set on a copy of a slice from a DataFrame.\n",
      "Try using .loc[row_indexer,col_indexer] = value instead\n",
      "\n",
      "See the caveats in the documentation: https://pandas.pydata.org/pandas-docs/stable/user_guide/indexing.html#returning-a-view-versus-a-copy\n",
      "  mrm_list_offical['Product_Ion'] = np.round(mrm_list_offical['Product_Ion'],1)\n",
      "/tmp/ipykernel_1731/2025906423.py:17: SettingWithCopyWarning: \n",
      "A value is trying to be set on a copy of a slice from a DataFrame.\n",
      "Try using .loc[row_indexer,col_indexer] = value instead\n",
      "\n",
      "See the caveats in the documentation: https://pandas.pydata.org/pandas-docs/stable/user_guide/indexing.html#returning-a-view-versus-a-copy\n",
      "  mrm_list_offical['Transition'] = mrm_list_offical['Parent_Ion'].astype(str) + ' -> ' + mrm_list_offical['Product_Ion'].astype(str)\n",
      "/tmp/ipykernel_1731/2025906423.py:84: FutureWarning: The frame.append method is deprecated and will be removed from pandas in a future version. Use pandas.concat instead.\n",
      "  df = df.append(df_all, ignore_index=True)\n",
      "/tmp/ipykernel_1731/2025906423.py:84: FutureWarning: The frame.append method is deprecated and will be removed from pandas in a future version. Use pandas.concat instead.\n",
      "  df = df.append(df_all, ignore_index=True)\n",
      "/tmp/ipykernel_1731/2025906423.py:84: FutureWarning: The frame.append method is deprecated and will be removed from pandas in a future version. Use pandas.concat instead.\n",
      "  df = df.append(df_all, ignore_index=True)\n",
      "/tmp/ipykernel_1731/2025906423.py:84: FutureWarning: The frame.append method is deprecated and will be removed from pandas in a future version. Use pandas.concat instead.\n",
      "  df = df.append(df_all, ignore_index=True)\n",
      "/tmp/ipykernel_1731/2025906423.py:84: FutureWarning: The frame.append method is deprecated and will be removed from pandas in a future version. Use pandas.concat instead.\n",
      "  df = df.append(df_all, ignore_index=True)\n",
      "/tmp/ipykernel_1731/2025906423.py:84: FutureWarning: The frame.append method is deprecated and will be removed from pandas in a future version. Use pandas.concat instead.\n",
      "  df = df.append(df_all, ignore_index=True)\n",
      "/tmp/ipykernel_1731/2025906423.py:84: FutureWarning: The frame.append method is deprecated and will be removed from pandas in a future version. Use pandas.concat instead.\n",
      "  df = df.append(df_all, ignore_index=True)\n",
      "/tmp/ipykernel_1731/2025906423.py:84: FutureWarning: The frame.append method is deprecated and will be removed from pandas in a future version. Use pandas.concat instead.\n",
      "  df = df.append(df_all, ignore_index=True)\n",
      "/tmp/ipykernel_1731/2025906423.py:84: FutureWarning: The frame.append method is deprecated and will be removed from pandas in a future version. Use pandas.concat instead.\n",
      "  df = df.append(df_all, ignore_index=True)\n",
      "/tmp/ipykernel_1731/2025906423.py:84: FutureWarning: The frame.append method is deprecated and will be removed from pandas in a future version. Use pandas.concat instead.\n",
      "  df = df.append(df_all, ignore_index=True)\n",
      "/tmp/ipykernel_1731/2025906423.py:84: FutureWarning: The frame.append method is deprecated and will be removed from pandas in a future version. Use pandas.concat instead.\n",
      "  df = df.append(df_all, ignore_index=True)\n",
      "/tmp/ipykernel_1731/2025906423.py:84: FutureWarning: The frame.append method is deprecated and will be removed from pandas in a future version. Use pandas.concat instead.\n",
      "  df = df.append(df_all, ignore_index=True)\n",
      "/tmp/ipykernel_1731/2025906423.py:84: FutureWarning: The frame.append method is deprecated and will be removed from pandas in a future version. Use pandas.concat instead.\n",
      "  df = df.append(df_all, ignore_index=True)\n",
      "/tmp/ipykernel_1731/2025906423.py:84: FutureWarning: The frame.append method is deprecated and will be removed from pandas in a future version. Use pandas.concat instead.\n",
      "  df = df.append(df_all, ignore_index=True)\n",
      "/tmp/ipykernel_1731/2025906423.py:84: FutureWarning: The frame.append method is deprecated and will be removed from pandas in a future version. Use pandas.concat instead.\n",
      "  df = df.append(df_all, ignore_index=True)\n",
      "/tmp/ipykernel_1731/2025906423.py:84: FutureWarning: The frame.append method is deprecated and will be removed from pandas in a future version. Use pandas.concat instead.\n",
      "  df = df.append(df_all, ignore_index=True)\n",
      "/tmp/ipykernel_1731/2025906423.py:84: FutureWarning: The frame.append method is deprecated and will be removed from pandas in a future version. Use pandas.concat instead.\n",
      "  df = df.append(df_all, ignore_index=True)\n",
      "/tmp/ipykernel_1731/2025906423.py:84: FutureWarning: The frame.append method is deprecated and will be removed from pandas in a future version. Use pandas.concat instead.\n",
      "  df = df.append(df_all, ignore_index=True)\n",
      "/tmp/ipykernel_1731/2025906423.py:84: FutureWarning: The frame.append method is deprecated and will be removed from pandas in a future version. Use pandas.concat instead.\n",
      "  df = df.append(df_all, ignore_index=True)\n",
      "/tmp/ipykernel_1731/2025906423.py:84: FutureWarning: The frame.append method is deprecated and will be removed from pandas in a future version. Use pandas.concat instead.\n",
      "  df = df.append(df_all, ignore_index=True)\n",
      "/tmp/ipykernel_1731/2025906423.py:84: FutureWarning: The frame.append method is deprecated and will be removed from pandas in a future version. Use pandas.concat instead.\n",
      "  df = df.append(df_all, ignore_index=True)\n",
      "/tmp/ipykernel_1731/2025906423.py:84: FutureWarning: The frame.append method is deprecated and will be removed from pandas in a future version. Use pandas.concat instead.\n",
      "  df = df.append(df_all, ignore_index=True)\n",
      "/tmp/ipykernel_1731/2025906423.py:84: FutureWarning: The frame.append method is deprecated and will be removed from pandas in a future version. Use pandas.concat instead.\n",
      "  df = df.append(df_all, ignore_index=True)\n",
      "/tmp/ipykernel_1731/2025906423.py:84: FutureWarning: The frame.append method is deprecated and will be removed from pandas in a future version. Use pandas.concat instead.\n",
      "  df = df.append(df_all, ignore_index=True)\n",
      "/tmp/ipykernel_1731/2025906423.py:84: FutureWarning: The frame.append method is deprecated and will be removed from pandas in a future version. Use pandas.concat instead.\n",
      "  df = df.append(df_all, ignore_index=True)\n",
      "/tmp/ipykernel_1731/2025906423.py:84: FutureWarning: The frame.append method is deprecated and will be removed from pandas in a future version. Use pandas.concat instead.\n",
      "  df = df.append(df_all, ignore_index=True)\n",
      "/tmp/ipykernel_1731/2025906423.py:84: FutureWarning: The frame.append method is deprecated and will be removed from pandas in a future version. Use pandas.concat instead.\n",
      "  df = df.append(df_all, ignore_index=True)\n",
      "/tmp/ipykernel_1731/2025906423.py:84: FutureWarning: The frame.append method is deprecated and will be removed from pandas in a future version. Use pandas.concat instead.\n",
      "  df = df.append(df_all, ignore_index=True)\n",
      "/tmp/ipykernel_1731/2025906423.py:84: FutureWarning: The frame.append method is deprecated and will be removed from pandas in a future version. Use pandas.concat instead.\n",
      "  df = df.append(df_all, ignore_index=True)\n",
      "/tmp/ipykernel_1731/2025906423.py:84: FutureWarning: The frame.append method is deprecated and will be removed from pandas in a future version. Use pandas.concat instead.\n",
      "  df = df.append(df_all, ignore_index=True)\n",
      "/tmp/ipykernel_1731/2025906423.py:84: FutureWarning: The frame.append method is deprecated and will be removed from pandas in a future version. Use pandas.concat instead.\n",
      "  df = df.append(df_all, ignore_index=True)\n",
      "/tmp/ipykernel_1731/2025906423.py:84: FutureWarning: The frame.append method is deprecated and will be removed from pandas in a future version. Use pandas.concat instead.\n",
      "  df = df.append(df_all, ignore_index=True)\n",
      "/tmp/ipykernel_1731/2025906423.py:84: FutureWarning: The frame.append method is deprecated and will be removed from pandas in a future version. Use pandas.concat instead.\n",
      "  df = df.append(df_all, ignore_index=True)\n"
     ]
    },
    {
     "name": "stderr",
     "output_type": "stream",
     "text": [
      "/tmp/ipykernel_1731/2025906423.py:84: FutureWarning: The frame.append method is deprecated and will be removed from pandas in a future version. Use pandas.concat instead.\n",
      "  df = df.append(df_all, ignore_index=True)\n",
      "/tmp/ipykernel_1731/2025906423.py:84: FutureWarning: The frame.append method is deprecated and will be removed from pandas in a future version. Use pandas.concat instead.\n",
      "  df = df.append(df_all, ignore_index=True)\n",
      "/tmp/ipykernel_1731/2025906423.py:84: FutureWarning: The frame.append method is deprecated and will be removed from pandas in a future version. Use pandas.concat instead.\n",
      "  df = df.append(df_all, ignore_index=True)\n",
      "/tmp/ipykernel_1731/2025906423.py:84: FutureWarning: The frame.append method is deprecated and will be removed from pandas in a future version. Use pandas.concat instead.\n",
      "  df = df.append(df_all, ignore_index=True)\n",
      "/tmp/ipykernel_1731/2025906423.py:84: FutureWarning: The frame.append method is deprecated and will be removed from pandas in a future version. Use pandas.concat instead.\n",
      "  df = df.append(df_all, ignore_index=True)\n",
      "/tmp/ipykernel_1731/2025906423.py:84: FutureWarning: The frame.append method is deprecated and will be removed from pandas in a future version. Use pandas.concat instead.\n",
      "  df = df.append(df_all, ignore_index=True)\n",
      "/tmp/ipykernel_1731/2025906423.py:84: FutureWarning: The frame.append method is deprecated and will be removed from pandas in a future version. Use pandas.concat instead.\n",
      "  df = df.append(df_all, ignore_index=True)\n",
      "/tmp/ipykernel_1731/2025906423.py:84: FutureWarning: The frame.append method is deprecated and will be removed from pandas in a future version. Use pandas.concat instead.\n",
      "  df = df.append(df_all, ignore_index=True)\n",
      "/tmp/ipykernel_1731/2025906423.py:84: FutureWarning: The frame.append method is deprecated and will be removed from pandas in a future version. Use pandas.concat instead.\n",
      "  df = df.append(df_all, ignore_index=True)\n",
      "/tmp/ipykernel_1731/2025906423.py:84: FutureWarning: The frame.append method is deprecated and will be removed from pandas in a future version. Use pandas.concat instead.\n",
      "  df = df.append(df_all, ignore_index=True)\n",
      "/tmp/ipykernel_1731/2025906423.py:84: FutureWarning: The frame.append method is deprecated and will be removed from pandas in a future version. Use pandas.concat instead.\n",
      "  df = df.append(df_all, ignore_index=True)\n",
      "/tmp/ipykernel_1731/2025906423.py:84: FutureWarning: The frame.append method is deprecated and will be removed from pandas in a future version. Use pandas.concat instead.\n",
      "  df = df.append(df_all, ignore_index=True)\n",
      "/tmp/ipykernel_1731/2025906423.py:84: FutureWarning: The frame.append method is deprecated and will be removed from pandas in a future version. Use pandas.concat instead.\n",
      "  df = df.append(df_all, ignore_index=True)\n",
      "/tmp/ipykernel_1731/2025906423.py:84: FutureWarning: The frame.append method is deprecated and will be removed from pandas in a future version. Use pandas.concat instead.\n",
      "  df = df.append(df_all, ignore_index=True)\n",
      "/tmp/ipykernel_1731/2025906423.py:84: FutureWarning: The frame.append method is deprecated and will be removed from pandas in a future version. Use pandas.concat instead.\n",
      "  df = df.append(df_all, ignore_index=True)\n",
      "/tmp/ipykernel_1731/2025906423.py:84: FutureWarning: The frame.append method is deprecated and will be removed from pandas in a future version. Use pandas.concat instead.\n",
      "  df = df.append(df_all, ignore_index=True)\n",
      "/tmp/ipykernel_1731/2025906423.py:84: FutureWarning: The frame.append method is deprecated and will be removed from pandas in a future version. Use pandas.concat instead.\n",
      "  df = df.append(df_all, ignore_index=True)\n",
      "/tmp/ipykernel_1731/2025906423.py:84: FutureWarning: The frame.append method is deprecated and will be removed from pandas in a future version. Use pandas.concat instead.\n",
      "  df = df.append(df_all, ignore_index=True)\n",
      "/tmp/ipykernel_1731/2025906423.py:84: FutureWarning: The frame.append method is deprecated and will be removed from pandas in a future version. Use pandas.concat instead.\n",
      "  df = df.append(df_all, ignore_index=True)\n",
      "/tmp/ipykernel_1731/2025906423.py:84: FutureWarning: The frame.append method is deprecated and will be removed from pandas in a future version. Use pandas.concat instead.\n",
      "  df = df.append(df_all, ignore_index=True)\n",
      "/tmp/ipykernel_1731/2025906423.py:84: FutureWarning: The frame.append method is deprecated and will be removed from pandas in a future version. Use pandas.concat instead.\n",
      "  df = df.append(df_all, ignore_index=True)\n",
      "/tmp/ipykernel_1731/2025906423.py:84: FutureWarning: The frame.append method is deprecated and will be removed from pandas in a future version. Use pandas.concat instead.\n",
      "  df = df.append(df_all, ignore_index=True)\n",
      "/tmp/ipykernel_1731/2025906423.py:84: FutureWarning: The frame.append method is deprecated and will be removed from pandas in a future version. Use pandas.concat instead.\n",
      "  df = df.append(df_all, ignore_index=True)\n",
      "/tmp/ipykernel_1731/2025906423.py:84: FutureWarning: The frame.append method is deprecated and will be removed from pandas in a future version. Use pandas.concat instead.\n",
      "  df = df.append(df_all, ignore_index=True)\n",
      "/tmp/ipykernel_1731/2025906423.py:84: FutureWarning: The frame.append method is deprecated and will be removed from pandas in a future version. Use pandas.concat instead.\n",
      "  df = df.append(df_all, ignore_index=True)\n",
      "/tmp/ipykernel_1731/2025906423.py:84: FutureWarning: The frame.append method is deprecated and will be removed from pandas in a future version. Use pandas.concat instead.\n",
      "  df = df.append(df_all, ignore_index=True)\n",
      "/tmp/ipykernel_1731/2025906423.py:84: FutureWarning: The frame.append method is deprecated and will be removed from pandas in a future version. Use pandas.concat instead.\n",
      "  df = df.append(df_all, ignore_index=True)\n",
      "/tmp/ipykernel_1731/2025906423.py:84: FutureWarning: The frame.append method is deprecated and will be removed from pandas in a future version. Use pandas.concat instead.\n",
      "  df = df.append(df_all, ignore_index=True)\n",
      "/tmp/ipykernel_1731/2025906423.py:84: FutureWarning: The frame.append method is deprecated and will be removed from pandas in a future version. Use pandas.concat instead.\n",
      "  df = df.append(df_all, ignore_index=True)\n",
      "/tmp/ipykernel_1731/2025906423.py:84: FutureWarning: The frame.append method is deprecated and will be removed from pandas in a future version. Use pandas.concat instead.\n",
      "  df = df.append(df_all, ignore_index=True)\n",
      "/tmp/ipykernel_1731/2025906423.py:84: FutureWarning: The frame.append method is deprecated and will be removed from pandas in a future version. Use pandas.concat instead.\n",
      "  df = df.append(df_all, ignore_index=True)\n",
      "/tmp/ipykernel_1731/2025906423.py:84: FutureWarning: The frame.append method is deprecated and will be removed from pandas in a future version. Use pandas.concat instead.\n",
      "  df = df.append(df_all, ignore_index=True)\n",
      "/tmp/ipykernel_1731/2025906423.py:84: FutureWarning: The frame.append method is deprecated and will be removed from pandas in a future version. Use pandas.concat instead.\n",
      "  df = df.append(df_all, ignore_index=True)\n",
      "/tmp/ipykernel_1731/2025906423.py:84: FutureWarning: The frame.append method is deprecated and will be removed from pandas in a future version. Use pandas.concat instead.\n",
      "  df = df.append(df_all, ignore_index=True)\n",
      "/tmp/ipykernel_1731/2025906423.py:84: FutureWarning: The frame.append method is deprecated and will be removed from pandas in a future version. Use pandas.concat instead.\n",
      "  df = df.append(df_all, ignore_index=True)\n",
      "/tmp/ipykernel_1731/2025906423.py:84: FutureWarning: The frame.append method is deprecated and will be removed from pandas in a future version. Use pandas.concat instead.\n",
      "  df = df.append(df_all, ignore_index=True)\n",
      "/tmp/ipykernel_1731/2025906423.py:84: FutureWarning: The frame.append method is deprecated and will be removed from pandas in a future version. Use pandas.concat instead.\n",
      "  df = df.append(df_all, ignore_index=True)\n",
      "/tmp/ipykernel_1731/2025906423.py:84: FutureWarning: The frame.append method is deprecated and will be removed from pandas in a future version. Use pandas.concat instead.\n",
      "  df = df.append(df_all, ignore_index=True)\n",
      "/tmp/ipykernel_1731/2025906423.py:84: FutureWarning: The frame.append method is deprecated and will be removed from pandas in a future version. Use pandas.concat instead.\n",
      "  df = df.append(df_all, ignore_index=True)\n"
     ]
    },
    {
     "name": "stderr",
     "output_type": "stream",
     "text": [
      "/tmp/ipykernel_1731/2025906423.py:84: FutureWarning: The frame.append method is deprecated and will be removed from pandas in a future version. Use pandas.concat instead.\n",
      "  df = df.append(df_all, ignore_index=True)\n",
      "/tmp/ipykernel_1731/2025906423.py:84: FutureWarning: The frame.append method is deprecated and will be removed from pandas in a future version. Use pandas.concat instead.\n",
      "  df = df.append(df_all, ignore_index=True)\n",
      "/tmp/ipykernel_1731/2025906423.py:84: FutureWarning: The frame.append method is deprecated and will be removed from pandas in a future version. Use pandas.concat instead.\n",
      "  df = df.append(df_all, ignore_index=True)\n",
      "/tmp/ipykernel_1731/2025906423.py:84: FutureWarning: The frame.append method is deprecated and will be removed from pandas in a future version. Use pandas.concat instead.\n",
      "  df = df.append(df_all, ignore_index=True)\n",
      "/tmp/ipykernel_1731/2025906423.py:84: FutureWarning: The frame.append method is deprecated and will be removed from pandas in a future version. Use pandas.concat instead.\n",
      "  df = df.append(df_all, ignore_index=True)\n",
      "/tmp/ipykernel_1731/2025906423.py:84: FutureWarning: The frame.append method is deprecated and will be removed from pandas in a future version. Use pandas.concat instead.\n",
      "  df = df.append(df_all, ignore_index=True)\n",
      "/tmp/ipykernel_1731/2025906423.py:84: FutureWarning: The frame.append method is deprecated and will be removed from pandas in a future version. Use pandas.concat instead.\n",
      "  df = df.append(df_all, ignore_index=True)\n",
      "/tmp/ipykernel_1731/2025906423.py:84: FutureWarning: The frame.append method is deprecated and will be removed from pandas in a future version. Use pandas.concat instead.\n",
      "  df = df.append(df_all, ignore_index=True)\n",
      "/tmp/ipykernel_1731/2025906423.py:84: FutureWarning: The frame.append method is deprecated and will be removed from pandas in a future version. Use pandas.concat instead.\n",
      "  df = df.append(df_all, ignore_index=True)\n",
      "/tmp/ipykernel_1731/2025906423.py:84: FutureWarning: The frame.append method is deprecated and will be removed from pandas in a future version. Use pandas.concat instead.\n",
      "  df = df.append(df_all, ignore_index=True)\n",
      "/tmp/ipykernel_1731/2025906423.py:84: FutureWarning: The frame.append method is deprecated and will be removed from pandas in a future version. Use pandas.concat instead.\n",
      "  df = df.append(df_all, ignore_index=True)\n",
      "/tmp/ipykernel_1731/2025906423.py:84: FutureWarning: The frame.append method is deprecated and will be removed from pandas in a future version. Use pandas.concat instead.\n",
      "  df = df.append(df_all, ignore_index=True)\n",
      "/tmp/ipykernel_1731/2025906423.py:84: FutureWarning: The frame.append method is deprecated and will be removed from pandas in a future version. Use pandas.concat instead.\n",
      "  df = df.append(df_all, ignore_index=True)\n",
      "/tmp/ipykernel_1731/2025906423.py:84: FutureWarning: The frame.append method is deprecated and will be removed from pandas in a future version. Use pandas.concat instead.\n",
      "  df = df.append(df_all, ignore_index=True)\n",
      "/tmp/ipykernel_1731/2025906423.py:84: FutureWarning: The frame.append method is deprecated and will be removed from pandas in a future version. Use pandas.concat instead.\n",
      "  df = df.append(df_all, ignore_index=True)\n",
      "/tmp/ipykernel_1731/2025906423.py:84: FutureWarning: The frame.append method is deprecated and will be removed from pandas in a future version. Use pandas.concat instead.\n",
      "  df = df.append(df_all, ignore_index=True)\n",
      "/tmp/ipykernel_1731/2025906423.py:84: FutureWarning: The frame.append method is deprecated and will be removed from pandas in a future version. Use pandas.concat instead.\n",
      "  df = df.append(df_all, ignore_index=True)\n",
      "/tmp/ipykernel_1731/2025906423.py:84: FutureWarning: The frame.append method is deprecated and will be removed from pandas in a future version. Use pandas.concat instead.\n",
      "  df = df.append(df_all, ignore_index=True)\n",
      "/tmp/ipykernel_1731/2025906423.py:84: FutureWarning: The frame.append method is deprecated and will be removed from pandas in a future version. Use pandas.concat instead.\n",
      "  df = df.append(df_all, ignore_index=True)\n",
      "/tmp/ipykernel_1731/2025906423.py:84: FutureWarning: The frame.append method is deprecated and will be removed from pandas in a future version. Use pandas.concat instead.\n",
      "  df = df.append(df_all, ignore_index=True)\n",
      "/tmp/ipykernel_1731/2025906423.py:84: FutureWarning: The frame.append method is deprecated and will be removed from pandas in a future version. Use pandas.concat instead.\n",
      "  df = df.append(df_all, ignore_index=True)\n",
      "/tmp/ipykernel_1731/2025906423.py:84: FutureWarning: The frame.append method is deprecated and will be removed from pandas in a future version. Use pandas.concat instead.\n",
      "  df = df.append(df_all, ignore_index=True)\n",
      "/tmp/ipykernel_1731/2025906423.py:84: FutureWarning: The frame.append method is deprecated and will be removed from pandas in a future version. Use pandas.concat instead.\n",
      "  df = df.append(df_all, ignore_index=True)\n",
      "/tmp/ipykernel_1731/2025906423.py:84: FutureWarning: The frame.append method is deprecated and will be removed from pandas in a future version. Use pandas.concat instead.\n",
      "  df = df.append(df_all, ignore_index=True)\n",
      "/tmp/ipykernel_1731/2025906423.py:84: FutureWarning: The frame.append method is deprecated and will be removed from pandas in a future version. Use pandas.concat instead.\n",
      "  df = df.append(df_all, ignore_index=True)\n",
      "/tmp/ipykernel_1731/2025906423.py:84: FutureWarning: The frame.append method is deprecated and will be removed from pandas in a future version. Use pandas.concat instead.\n",
      "  df = df.append(df_all, ignore_index=True)\n",
      "/tmp/ipykernel_1731/2025906423.py:84: FutureWarning: The frame.append method is deprecated and will be removed from pandas in a future version. Use pandas.concat instead.\n",
      "  df = df.append(df_all, ignore_index=True)\n",
      "/tmp/ipykernel_1731/2025906423.py:84: FutureWarning: The frame.append method is deprecated and will be removed from pandas in a future version. Use pandas.concat instead.\n",
      "  df = df.append(df_all, ignore_index=True)\n",
      "/tmp/ipykernel_1731/2025906423.py:84: FutureWarning: The frame.append method is deprecated and will be removed from pandas in a future version. Use pandas.concat instead.\n",
      "  df = df.append(df_all, ignore_index=True)\n",
      "/tmp/ipykernel_1731/2025906423.py:84: FutureWarning: The frame.append method is deprecated and will be removed from pandas in a future version. Use pandas.concat instead.\n",
      "  df = df.append(df_all, ignore_index=True)\n",
      "/tmp/ipykernel_1731/2025906423.py:84: FutureWarning: The frame.append method is deprecated and will be removed from pandas in a future version. Use pandas.concat instead.\n",
      "  df = df.append(df_all, ignore_index=True)\n",
      "/tmp/ipykernel_1731/2025906423.py:84: FutureWarning: The frame.append method is deprecated and will be removed from pandas in a future version. Use pandas.concat instead.\n",
      "  df = df.append(df_all, ignore_index=True)\n",
      "/tmp/ipykernel_1731/2025906423.py:84: FutureWarning: The frame.append method is deprecated and will be removed from pandas in a future version. Use pandas.concat instead.\n",
      "  df = df.append(df_all, ignore_index=True)\n",
      "/tmp/ipykernel_1731/2025906423.py:84: FutureWarning: The frame.append method is deprecated and will be removed from pandas in a future version. Use pandas.concat instead.\n",
      "  df = df.append(df_all, ignore_index=True)\n",
      "/tmp/ipykernel_1731/2025906423.py:84: FutureWarning: The frame.append method is deprecated and will be removed from pandas in a future version. Use pandas.concat instead.\n",
      "  df = df.append(df_all, ignore_index=True)\n",
      "/tmp/ipykernel_1731/2025906423.py:84: FutureWarning: The frame.append method is deprecated and will be removed from pandas in a future version. Use pandas.concat instead.\n",
      "  df = df.append(df_all, ignore_index=True)\n",
      "/tmp/ipykernel_1731/2025906423.py:84: FutureWarning: The frame.append method is deprecated and will be removed from pandas in a future version. Use pandas.concat instead.\n",
      "  df = df.append(df_all, ignore_index=True)\n",
      "/tmp/ipykernel_1731/2025906423.py:84: FutureWarning: The frame.append method is deprecated and will be removed from pandas in a future version. Use pandas.concat instead.\n",
      "  df = df.append(df_all, ignore_index=True)\n",
      "/tmp/ipykernel_1731/2025906423.py:84: FutureWarning: The frame.append method is deprecated and will be removed from pandas in a future version. Use pandas.concat instead.\n",
      "  df = df.append(df_all, ignore_index=True)\n",
      "/tmp/ipykernel_1731/2025906423.py:84: FutureWarning: The frame.append method is deprecated and will be removed from pandas in a future version. Use pandas.concat instead.\n",
      "  df = df.append(df_all, ignore_index=True)\n"
     ]
    },
    {
     "name": "stderr",
     "output_type": "stream",
     "text": [
      "/tmp/ipykernel_1731/2025906423.py:84: FutureWarning: The frame.append method is deprecated and will be removed from pandas in a future version. Use pandas.concat instead.\n",
      "  df = df.append(df_all, ignore_index=True)\n",
      "/tmp/ipykernel_1731/2025906423.py:84: FutureWarning: The frame.append method is deprecated and will be removed from pandas in a future version. Use pandas.concat instead.\n",
      "  df = df.append(df_all, ignore_index=True)\n",
      "/tmp/ipykernel_1731/2025906423.py:84: FutureWarning: The frame.append method is deprecated and will be removed from pandas in a future version. Use pandas.concat instead.\n",
      "  df = df.append(df_all, ignore_index=True)\n",
      "/tmp/ipykernel_1731/2025906423.py:84: FutureWarning: The frame.append method is deprecated and will be removed from pandas in a future version. Use pandas.concat instead.\n",
      "  df = df.append(df_all, ignore_index=True)\n",
      "/tmp/ipykernel_1731/2025906423.py:84: FutureWarning: The frame.append method is deprecated and will be removed from pandas in a future version. Use pandas.concat instead.\n",
      "  df = df.append(df_all, ignore_index=True)\n",
      "/tmp/ipykernel_1731/2025906423.py:84: FutureWarning: The frame.append method is deprecated and will be removed from pandas in a future version. Use pandas.concat instead.\n",
      "  df = df.append(df_all, ignore_index=True)\n",
      "/tmp/ipykernel_1731/2025906423.py:84: FutureWarning: The frame.append method is deprecated and will be removed from pandas in a future version. Use pandas.concat instead.\n",
      "  df = df.append(df_all, ignore_index=True)\n",
      "/tmp/ipykernel_1731/2025906423.py:84: FutureWarning: The frame.append method is deprecated and will be removed from pandas in a future version. Use pandas.concat instead.\n",
      "  df = df.append(df_all, ignore_index=True)\n",
      "/tmp/ipykernel_1731/2025906423.py:84: FutureWarning: The frame.append method is deprecated and will be removed from pandas in a future version. Use pandas.concat instead.\n",
      "  df = df.append(df_all, ignore_index=True)\n",
      "/tmp/ipykernel_1731/2025906423.py:84: FutureWarning: The frame.append method is deprecated and will be removed from pandas in a future version. Use pandas.concat instead.\n",
      "  df = df.append(df_all, ignore_index=True)\n",
      "/tmp/ipykernel_1731/2025906423.py:84: FutureWarning: The frame.append method is deprecated and will be removed from pandas in a future version. Use pandas.concat instead.\n",
      "  df = df.append(df_all, ignore_index=True)\n",
      "/tmp/ipykernel_1731/2025906423.py:84: FutureWarning: The frame.append method is deprecated and will be removed from pandas in a future version. Use pandas.concat instead.\n",
      "  df = df.append(df_all, ignore_index=True)\n",
      "/tmp/ipykernel_1731/2025906423.py:84: FutureWarning: The frame.append method is deprecated and will be removed from pandas in a future version. Use pandas.concat instead.\n",
      "  df = df.append(df_all, ignore_index=True)\n",
      "/tmp/ipykernel_1731/2025906423.py:84: FutureWarning: The frame.append method is deprecated and will be removed from pandas in a future version. Use pandas.concat instead.\n",
      "  df = df.append(df_all, ignore_index=True)\n",
      "/tmp/ipykernel_1731/2025906423.py:84: FutureWarning: The frame.append method is deprecated and will be removed from pandas in a future version. Use pandas.concat instead.\n",
      "  df = df.append(df_all, ignore_index=True)\n",
      "/tmp/ipykernel_1731/2025906423.py:84: FutureWarning: The frame.append method is deprecated and will be removed from pandas in a future version. Use pandas.concat instead.\n",
      "  df = df.append(df_all, ignore_index=True)\n",
      "/tmp/ipykernel_1731/2025906423.py:84: FutureWarning: The frame.append method is deprecated and will be removed from pandas in a future version. Use pandas.concat instead.\n",
      "  df = df.append(df_all, ignore_index=True)\n",
      "/tmp/ipykernel_1731/2025906423.py:84: FutureWarning: The frame.append method is deprecated and will be removed from pandas in a future version. Use pandas.concat instead.\n",
      "  df = df.append(df_all, ignore_index=True)\n",
      "/tmp/ipykernel_1731/2025906423.py:84: FutureWarning: The frame.append method is deprecated and will be removed from pandas in a future version. Use pandas.concat instead.\n",
      "  df = df.append(df_all, ignore_index=True)\n",
      "/tmp/ipykernel_1731/2025906423.py:84: FutureWarning: The frame.append method is deprecated and will be removed from pandas in a future version. Use pandas.concat instead.\n",
      "  df = df.append(df_all, ignore_index=True)\n",
      "/tmp/ipykernel_1731/2025906423.py:84: FutureWarning: The frame.append method is deprecated and will be removed from pandas in a future version. Use pandas.concat instead.\n",
      "  df = df.append(df_all, ignore_index=True)\n",
      "/tmp/ipykernel_1731/2025906423.py:84: FutureWarning: The frame.append method is deprecated and will be removed from pandas in a future version. Use pandas.concat instead.\n",
      "  df = df.append(df_all, ignore_index=True)\n",
      "/tmp/ipykernel_1731/2025906423.py:84: FutureWarning: The frame.append method is deprecated and will be removed from pandas in a future version. Use pandas.concat instead.\n",
      "  df = df.append(df_all, ignore_index=True)\n",
      "/tmp/ipykernel_1731/2025906423.py:84: FutureWarning: The frame.append method is deprecated and will be removed from pandas in a future version. Use pandas.concat instead.\n",
      "  df = df.append(df_all, ignore_index=True)\n",
      "/tmp/ipykernel_1731/2025906423.py:84: FutureWarning: The frame.append method is deprecated and will be removed from pandas in a future version. Use pandas.concat instead.\n",
      "  df = df.append(df_all, ignore_index=True)\n",
      "/tmp/ipykernel_1731/2025906423.py:84: FutureWarning: The frame.append method is deprecated and will be removed from pandas in a future version. Use pandas.concat instead.\n",
      "  df = df.append(df_all, ignore_index=True)\n",
      "/tmp/ipykernel_1731/2025906423.py:84: FutureWarning: The frame.append method is deprecated and will be removed from pandas in a future version. Use pandas.concat instead.\n",
      "  df = df.append(df_all, ignore_index=True)\n",
      "/tmp/ipykernel_1731/2025906423.py:84: FutureWarning: The frame.append method is deprecated and will be removed from pandas in a future version. Use pandas.concat instead.\n",
      "  df = df.append(df_all, ignore_index=True)\n",
      "/tmp/ipykernel_1731/2025906423.py:84: FutureWarning: The frame.append method is deprecated and will be removed from pandas in a future version. Use pandas.concat instead.\n",
      "  df = df.append(df_all, ignore_index=True)\n",
      "/tmp/ipykernel_1731/2025906423.py:84: FutureWarning: The frame.append method is deprecated and will be removed from pandas in a future version. Use pandas.concat instead.\n",
      "  df = df.append(df_all, ignore_index=True)\n",
      "/tmp/ipykernel_1731/2025906423.py:84: FutureWarning: The frame.append method is deprecated and will be removed from pandas in a future version. Use pandas.concat instead.\n",
      "  df = df.append(df_all, ignore_index=True)\n",
      "/tmp/ipykernel_1731/2025906423.py:84: FutureWarning: The frame.append method is deprecated and will be removed from pandas in a future version. Use pandas.concat instead.\n",
      "  df = df.append(df_all, ignore_index=True)\n",
      "/tmp/ipykernel_1731/2025906423.py:84: FutureWarning: The frame.append method is deprecated and will be removed from pandas in a future version. Use pandas.concat instead.\n",
      "  df = df.append(df_all, ignore_index=True)\n",
      "/tmp/ipykernel_1731/2025906423.py:84: FutureWarning: The frame.append method is deprecated and will be removed from pandas in a future version. Use pandas.concat instead.\n",
      "  df = df.append(df_all, ignore_index=True)\n",
      "/tmp/ipykernel_1731/2025906423.py:84: FutureWarning: The frame.append method is deprecated and will be removed from pandas in a future version. Use pandas.concat instead.\n",
      "  df = df.append(df_all, ignore_index=True)\n",
      "/tmp/ipykernel_1731/2025906423.py:84: FutureWarning: The frame.append method is deprecated and will be removed from pandas in a future version. Use pandas.concat instead.\n",
      "  df = df.append(df_all, ignore_index=True)\n",
      "/tmp/ipykernel_1731/2025906423.py:84: FutureWarning: The frame.append method is deprecated and will be removed from pandas in a future version. Use pandas.concat instead.\n",
      "  df = df.append(df_all, ignore_index=True)\n",
      "/tmp/ipykernel_1731/2025906423.py:84: FutureWarning: The frame.append method is deprecated and will be removed from pandas in a future version. Use pandas.concat instead.\n",
      "  df = df.append(df_all, ignore_index=True)\n",
      "/tmp/ipykernel_1731/2025906423.py:84: FutureWarning: The frame.append method is deprecated and will be removed from pandas in a future version. Use pandas.concat instead.\n",
      "  df = df.append(df_all, ignore_index=True)\n"
     ]
    },
    {
     "name": "stderr",
     "output_type": "stream",
     "text": [
      "/tmp/ipykernel_1731/2025906423.py:84: FutureWarning: The frame.append method is deprecated and will be removed from pandas in a future version. Use pandas.concat instead.\n",
      "  df = df.append(df_all, ignore_index=True)\n",
      "/tmp/ipykernel_1731/2025906423.py:84: FutureWarning: The frame.append method is deprecated and will be removed from pandas in a future version. Use pandas.concat instead.\n",
      "  df = df.append(df_all, ignore_index=True)\n",
      "/tmp/ipykernel_1731/2025906423.py:84: FutureWarning: The frame.append method is deprecated and will be removed from pandas in a future version. Use pandas.concat instead.\n",
      "  df = df.append(df_all, ignore_index=True)\n",
      "/tmp/ipykernel_1731/2025906423.py:84: FutureWarning: The frame.append method is deprecated and will be removed from pandas in a future version. Use pandas.concat instead.\n",
      "  df = df.append(df_all, ignore_index=True)\n",
      "/tmp/ipykernel_1731/2025906423.py:84: FutureWarning: The frame.append method is deprecated and will be removed from pandas in a future version. Use pandas.concat instead.\n",
      "  df = df.append(df_all, ignore_index=True)\n",
      "/tmp/ipykernel_1731/2025906423.py:84: FutureWarning: The frame.append method is deprecated and will be removed from pandas in a future version. Use pandas.concat instead.\n",
      "  df = df.append(df_all, ignore_index=True)\n",
      "/tmp/ipykernel_1731/2025906423.py:84: FutureWarning: The frame.append method is deprecated and will be removed from pandas in a future version. Use pandas.concat instead.\n",
      "  df = df.append(df_all, ignore_index=True)\n",
      "/tmp/ipykernel_1731/2025906423.py:84: FutureWarning: The frame.append method is deprecated and will be removed from pandas in a future version. Use pandas.concat instead.\n",
      "  df = df.append(df_all, ignore_index=True)\n",
      "/tmp/ipykernel_1731/2025906423.py:84: FutureWarning: The frame.append method is deprecated and will be removed from pandas in a future version. Use pandas.concat instead.\n",
      "  df = df.append(df_all, ignore_index=True)\n",
      "/tmp/ipykernel_1731/2025906423.py:84: FutureWarning: The frame.append method is deprecated and will be removed from pandas in a future version. Use pandas.concat instead.\n",
      "  df = df.append(df_all, ignore_index=True)\n",
      "/tmp/ipykernel_1731/2025906423.py:84: FutureWarning: The frame.append method is deprecated and will be removed from pandas in a future version. Use pandas.concat instead.\n",
      "  df = df.append(df_all, ignore_index=True)\n",
      "/tmp/ipykernel_1731/2025906423.py:84: FutureWarning: The frame.append method is deprecated and will be removed from pandas in a future version. Use pandas.concat instead.\n",
      "  df = df.append(df_all, ignore_index=True)\n",
      "/tmp/ipykernel_1731/2025906423.py:84: FutureWarning: The frame.append method is deprecated and will be removed from pandas in a future version. Use pandas.concat instead.\n",
      "  df = df.append(df_all, ignore_index=True)\n",
      "/tmp/ipykernel_1731/2025906423.py:84: FutureWarning: The frame.append method is deprecated and will be removed from pandas in a future version. Use pandas.concat instead.\n",
      "  df = df.append(df_all, ignore_index=True)\n",
      "/tmp/ipykernel_1731/2025906423.py:84: FutureWarning: The frame.append method is deprecated and will be removed from pandas in a future version. Use pandas.concat instead.\n",
      "  df = df.append(df_all, ignore_index=True)\n",
      "/tmp/ipykernel_1731/2025906423.py:84: FutureWarning: The frame.append method is deprecated and will be removed from pandas in a future version. Use pandas.concat instead.\n",
      "  df = df.append(df_all, ignore_index=True)\n",
      "/tmp/ipykernel_1731/2025906423.py:84: FutureWarning: The frame.append method is deprecated and will be removed from pandas in a future version. Use pandas.concat instead.\n",
      "  df = df.append(df_all, ignore_index=True)\n",
      "/tmp/ipykernel_1731/2025906423.py:84: FutureWarning: The frame.append method is deprecated and will be removed from pandas in a future version. Use pandas.concat instead.\n",
      "  df = df.append(df_all, ignore_index=True)\n",
      "/tmp/ipykernel_1731/2025906423.py:84: FutureWarning: The frame.append method is deprecated and will be removed from pandas in a future version. Use pandas.concat instead.\n",
      "  df = df.append(df_all, ignore_index=True)\n",
      "/tmp/ipykernel_1731/2025906423.py:84: FutureWarning: The frame.append method is deprecated and will be removed from pandas in a future version. Use pandas.concat instead.\n",
      "  df = df.append(df_all, ignore_index=True)\n",
      "/tmp/ipykernel_1731/2025906423.py:84: FutureWarning: The frame.append method is deprecated and will be removed from pandas in a future version. Use pandas.concat instead.\n",
      "  df = df.append(df_all, ignore_index=True)\n",
      "/tmp/ipykernel_1731/2025906423.py:84: FutureWarning: The frame.append method is deprecated and will be removed from pandas in a future version. Use pandas.concat instead.\n",
      "  df = df.append(df_all, ignore_index=True)\n",
      "/tmp/ipykernel_1731/2025906423.py:84: FutureWarning: The frame.append method is deprecated and will be removed from pandas in a future version. Use pandas.concat instead.\n",
      "  df = df.append(df_all, ignore_index=True)\n",
      "/tmp/ipykernel_1731/2025906423.py:84: FutureWarning: The frame.append method is deprecated and will be removed from pandas in a future version. Use pandas.concat instead.\n",
      "  df = df.append(df_all, ignore_index=True)\n",
      "/tmp/ipykernel_1731/2025906423.py:84: FutureWarning: The frame.append method is deprecated and will be removed from pandas in a future version. Use pandas.concat instead.\n",
      "  df = df.append(df_all, ignore_index=True)\n",
      "/tmp/ipykernel_1731/2025906423.py:84: FutureWarning: The frame.append method is deprecated and will be removed from pandas in a future version. Use pandas.concat instead.\n",
      "  df = df.append(df_all, ignore_index=True)\n",
      "/tmp/ipykernel_1731/2025906423.py:84: FutureWarning: The frame.append method is deprecated and will be removed from pandas in a future version. Use pandas.concat instead.\n",
      "  df = df.append(df_all, ignore_index=True)\n",
      "/tmp/ipykernel_1731/2025906423.py:84: FutureWarning: The frame.append method is deprecated and will be removed from pandas in a future version. Use pandas.concat instead.\n",
      "  df = df.append(df_all, ignore_index=True)\n",
      "/tmp/ipykernel_1731/2025906423.py:84: FutureWarning: The frame.append method is deprecated and will be removed from pandas in a future version. Use pandas.concat instead.\n",
      "  df = df.append(df_all, ignore_index=True)\n",
      "/tmp/ipykernel_1731/2025906423.py:84: FutureWarning: The frame.append method is deprecated and will be removed from pandas in a future version. Use pandas.concat instead.\n",
      "  df = df.append(df_all, ignore_index=True)\n",
      "/tmp/ipykernel_1731/2025906423.py:84: FutureWarning: The frame.append method is deprecated and will be removed from pandas in a future version. Use pandas.concat instead.\n",
      "  df = df.append(df_all, ignore_index=True)\n",
      "/tmp/ipykernel_1731/2025906423.py:84: FutureWarning: The frame.append method is deprecated and will be removed from pandas in a future version. Use pandas.concat instead.\n",
      "  df = df.append(df_all, ignore_index=True)\n",
      "/tmp/ipykernel_1731/2025906423.py:84: FutureWarning: The frame.append method is deprecated and will be removed from pandas in a future version. Use pandas.concat instead.\n",
      "  df = df.append(df_all, ignore_index=True)\n",
      "/tmp/ipykernel_1731/2025906423.py:84: FutureWarning: The frame.append method is deprecated and will be removed from pandas in a future version. Use pandas.concat instead.\n",
      "  df = df.append(df_all, ignore_index=True)\n",
      "/tmp/ipykernel_1731/2025906423.py:84: FutureWarning: The frame.append method is deprecated and will be removed from pandas in a future version. Use pandas.concat instead.\n",
      "  df = df.append(df_all, ignore_index=True)\n",
      "/tmp/ipykernel_1731/2025906423.py:84: FutureWarning: The frame.append method is deprecated and will be removed from pandas in a future version. Use pandas.concat instead.\n",
      "  df = df.append(df_all, ignore_index=True)\n",
      "/tmp/ipykernel_1731/2025906423.py:84: FutureWarning: The frame.append method is deprecated and will be removed from pandas in a future version. Use pandas.concat instead.\n",
      "  df = df.append(df_all, ignore_index=True)\n",
      "/tmp/ipykernel_1731/2025906423.py:84: FutureWarning: The frame.append method is deprecated and will be removed from pandas in a future version. Use pandas.concat instead.\n",
      "  df = df.append(df_all, ignore_index=True)\n",
      "/tmp/ipykernel_1731/2025906423.py:84: FutureWarning: The frame.append method is deprecated and will be removed from pandas in a future version. Use pandas.concat instead.\n",
      "  df = df.append(df_all, ignore_index=True)\n"
     ]
    },
    {
     "name": "stderr",
     "output_type": "stream",
     "text": [
      "/tmp/ipykernel_1731/2025906423.py:84: FutureWarning: The frame.append method is deprecated and will be removed from pandas in a future version. Use pandas.concat instead.\n",
      "  df = df.append(df_all, ignore_index=True)\n",
      "/tmp/ipykernel_1731/2025906423.py:84: FutureWarning: The frame.append method is deprecated and will be removed from pandas in a future version. Use pandas.concat instead.\n",
      "  df = df.append(df_all, ignore_index=True)\n",
      "/tmp/ipykernel_1731/2025906423.py:84: FutureWarning: The frame.append method is deprecated and will be removed from pandas in a future version. Use pandas.concat instead.\n",
      "  df = df.append(df_all, ignore_index=True)\n",
      "/tmp/ipykernel_1731/2025906423.py:84: FutureWarning: The frame.append method is deprecated and will be removed from pandas in a future version. Use pandas.concat instead.\n",
      "  df = df.append(df_all, ignore_index=True)\n",
      "/tmp/ipykernel_1731/2025906423.py:84: FutureWarning: The frame.append method is deprecated and will be removed from pandas in a future version. Use pandas.concat instead.\n",
      "  df = df.append(df_all, ignore_index=True)\n",
      "/tmp/ipykernel_1731/2025906423.py:84: FutureWarning: The frame.append method is deprecated and will be removed from pandas in a future version. Use pandas.concat instead.\n",
      "  df = df.append(df_all, ignore_index=True)\n",
      "/tmp/ipykernel_1731/2025906423.py:84: FutureWarning: The frame.append method is deprecated and will be removed from pandas in a future version. Use pandas.concat instead.\n",
      "  df = df.append(df_all, ignore_index=True)\n",
      "/tmp/ipykernel_1731/2025906423.py:84: FutureWarning: The frame.append method is deprecated and will be removed from pandas in a future version. Use pandas.concat instead.\n",
      "  df = df.append(df_all, ignore_index=True)\n",
      "/tmp/ipykernel_1731/2025906423.py:84: FutureWarning: The frame.append method is deprecated and will be removed from pandas in a future version. Use pandas.concat instead.\n",
      "  df = df.append(df_all, ignore_index=True)\n",
      "/tmp/ipykernel_1731/2025906423.py:84: FutureWarning: The frame.append method is deprecated and will be removed from pandas in a future version. Use pandas.concat instead.\n",
      "  df = df.append(df_all, ignore_index=True)\n",
      "/tmp/ipykernel_1731/2025906423.py:84: FutureWarning: The frame.append method is deprecated and will be removed from pandas in a future version. Use pandas.concat instead.\n",
      "  df = df.append(df_all, ignore_index=True)\n",
      "/tmp/ipykernel_1731/2025906423.py:84: FutureWarning: The frame.append method is deprecated and will be removed from pandas in a future version. Use pandas.concat instead.\n",
      "  df = df.append(df_all, ignore_index=True)\n",
      "/tmp/ipykernel_1731/2025906423.py:84: FutureWarning: The frame.append method is deprecated and will be removed from pandas in a future version. Use pandas.concat instead.\n",
      "  df = df.append(df_all, ignore_index=True)\n",
      "/tmp/ipykernel_1731/2025906423.py:84: FutureWarning: The frame.append method is deprecated and will be removed from pandas in a future version. Use pandas.concat instead.\n",
      "  df = df.append(df_all, ignore_index=True)\n",
      "/tmp/ipykernel_1731/2025906423.py:84: FutureWarning: The frame.append method is deprecated and will be removed from pandas in a future version. Use pandas.concat instead.\n",
      "  df = df.append(df_all, ignore_index=True)\n",
      "/tmp/ipykernel_1731/2025906423.py:84: FutureWarning: The frame.append method is deprecated and will be removed from pandas in a future version. Use pandas.concat instead.\n",
      "  df = df.append(df_all, ignore_index=True)\n",
      "/tmp/ipykernel_1731/2025906423.py:84: FutureWarning: The frame.append method is deprecated and will be removed from pandas in a future version. Use pandas.concat instead.\n",
      "  df = df.append(df_all, ignore_index=True)\n",
      "/tmp/ipykernel_1731/2025906423.py:84: FutureWarning: The frame.append method is deprecated and will be removed from pandas in a future version. Use pandas.concat instead.\n",
      "  df = df.append(df_all, ignore_index=True)\n",
      "/tmp/ipykernel_1731/2025906423.py:84: FutureWarning: The frame.append method is deprecated and will be removed from pandas in a future version. Use pandas.concat instead.\n",
      "  df = df.append(df_all, ignore_index=True)\n",
      "/tmp/ipykernel_1731/2025906423.py:84: FutureWarning: The frame.append method is deprecated and will be removed from pandas in a future version. Use pandas.concat instead.\n",
      "  df = df.append(df_all, ignore_index=True)\n",
      "/tmp/ipykernel_1731/2025906423.py:84: FutureWarning: The frame.append method is deprecated and will be removed from pandas in a future version. Use pandas.concat instead.\n",
      "  df = df.append(df_all, ignore_index=True)\n",
      "/tmp/ipykernel_1731/2025906423.py:84: FutureWarning: The frame.append method is deprecated and will be removed from pandas in a future version. Use pandas.concat instead.\n",
      "  df = df.append(df_all, ignore_index=True)\n",
      "/tmp/ipykernel_1731/2025906423.py:84: FutureWarning: The frame.append method is deprecated and will be removed from pandas in a future version. Use pandas.concat instead.\n",
      "  df = df.append(df_all, ignore_index=True)\n",
      "/tmp/ipykernel_1731/2025906423.py:84: FutureWarning: The frame.append method is deprecated and will be removed from pandas in a future version. Use pandas.concat instead.\n",
      "  df = df.append(df_all, ignore_index=True)\n",
      "/tmp/ipykernel_1731/2025906423.py:84: FutureWarning: The frame.append method is deprecated and will be removed from pandas in a future version. Use pandas.concat instead.\n",
      "  df = df.append(df_all, ignore_index=True)\n",
      "/tmp/ipykernel_1731/2025906423.py:84: FutureWarning: The frame.append method is deprecated and will be removed from pandas in a future version. Use pandas.concat instead.\n",
      "  df = df.append(df_all, ignore_index=True)\n",
      "/tmp/ipykernel_1731/2025906423.py:84: FutureWarning: The frame.append method is deprecated and will be removed from pandas in a future version. Use pandas.concat instead.\n",
      "  df = df.append(df_all, ignore_index=True)\n",
      "/tmp/ipykernel_1731/2025906423.py:84: FutureWarning: The frame.append method is deprecated and will be removed from pandas in a future version. Use pandas.concat instead.\n",
      "  df = df.append(df_all, ignore_index=True)\n",
      "/tmp/ipykernel_1731/2025906423.py:84: FutureWarning: The frame.append method is deprecated and will be removed from pandas in a future version. Use pandas.concat instead.\n",
      "  df = df.append(df_all, ignore_index=True)\n",
      "/tmp/ipykernel_1731/2025906423.py:84: FutureWarning: The frame.append method is deprecated and will be removed from pandas in a future version. Use pandas.concat instead.\n",
      "  df = df.append(df_all, ignore_index=True)\n",
      "/tmp/ipykernel_1731/2025906423.py:84: FutureWarning: The frame.append method is deprecated and will be removed from pandas in a future version. Use pandas.concat instead.\n",
      "  df = df.append(df_all, ignore_index=True)\n",
      "/tmp/ipykernel_1731/2025906423.py:84: FutureWarning: The frame.append method is deprecated and will be removed from pandas in a future version. Use pandas.concat instead.\n",
      "  df = df.append(df_all, ignore_index=True)\n",
      "/tmp/ipykernel_1731/2025906423.py:84: FutureWarning: The frame.append method is deprecated and will be removed from pandas in a future version. Use pandas.concat instead.\n",
      "  df = df.append(df_all, ignore_index=True)\n",
      "/tmp/ipykernel_1731/2025906423.py:84: FutureWarning: The frame.append method is deprecated and will be removed from pandas in a future version. Use pandas.concat instead.\n",
      "  df = df.append(df_all, ignore_index=True)\n",
      "/tmp/ipykernel_1731/2025906423.py:84: FutureWarning: The frame.append method is deprecated and will be removed from pandas in a future version. Use pandas.concat instead.\n",
      "  df = df.append(df_all, ignore_index=True)\n",
      "/tmp/ipykernel_1731/2025906423.py:84: FutureWarning: The frame.append method is deprecated and will be removed from pandas in a future version. Use pandas.concat instead.\n",
      "  df = df.append(df_all, ignore_index=True)\n",
      "/tmp/ipykernel_1731/2025906423.py:84: FutureWarning: The frame.append method is deprecated and will be removed from pandas in a future version. Use pandas.concat instead.\n",
      "  df = df.append(df_all, ignore_index=True)\n",
      "/tmp/ipykernel_1731/2025906423.py:84: FutureWarning: The frame.append method is deprecated and will be removed from pandas in a future version. Use pandas.concat instead.\n",
      "  df = df.append(df_all, ignore_index=True)\n",
      "/tmp/ipykernel_1731/2025906423.py:84: FutureWarning: The frame.append method is deprecated and will be removed from pandas in a future version. Use pandas.concat instead.\n",
      "  df = df.append(df_all, ignore_index=True)\n",
      "/tmp/ipykernel_1731/2025906423.py:84: FutureWarning: The frame.append method is deprecated and will be removed from pandas in a future version. Use pandas.concat instead.\n",
      "  df = df.append(df_all, ignore_index=True)\n"
     ]
    },
    {
     "name": "stderr",
     "output_type": "stream",
     "text": [
      "/tmp/ipykernel_1731/2025906423.py:84: FutureWarning: The frame.append method is deprecated and will be removed from pandas in a future version. Use pandas.concat instead.\n",
      "  df = df.append(df_all, ignore_index=True)\n",
      "/tmp/ipykernel_1731/2025906423.py:84: FutureWarning: The frame.append method is deprecated and will be removed from pandas in a future version. Use pandas.concat instead.\n",
      "  df = df.append(df_all, ignore_index=True)\n",
      "/tmp/ipykernel_1731/2025906423.py:84: FutureWarning: The frame.append method is deprecated and will be removed from pandas in a future version. Use pandas.concat instead.\n",
      "  df = df.append(df_all, ignore_index=True)\n",
      "/tmp/ipykernel_1731/2025906423.py:84: FutureWarning: The frame.append method is deprecated and will be removed from pandas in a future version. Use pandas.concat instead.\n",
      "  df = df.append(df_all, ignore_index=True)\n",
      "/tmp/ipykernel_1731/2025906423.py:84: FutureWarning: The frame.append method is deprecated and will be removed from pandas in a future version. Use pandas.concat instead.\n",
      "  df = df.append(df_all, ignore_index=True)\n",
      "/tmp/ipykernel_1731/2025906423.py:84: FutureWarning: The frame.append method is deprecated and will be removed from pandas in a future version. Use pandas.concat instead.\n",
      "  df = df.append(df_all, ignore_index=True)\n",
      "/tmp/ipykernel_1731/2025906423.py:84: FutureWarning: The frame.append method is deprecated and will be removed from pandas in a future version. Use pandas.concat instead.\n",
      "  df = df.append(df_all, ignore_index=True)\n",
      "/tmp/ipykernel_1731/2025906423.py:84: FutureWarning: The frame.append method is deprecated and will be removed from pandas in a future version. Use pandas.concat instead.\n",
      "  df = df.append(df_all, ignore_index=True)\n",
      "/tmp/ipykernel_1731/2025906423.py:84: FutureWarning: The frame.append method is deprecated and will be removed from pandas in a future version. Use pandas.concat instead.\n",
      "  df = df.append(df_all, ignore_index=True)\n",
      "/tmp/ipykernel_1731/2025906423.py:84: FutureWarning: The frame.append method is deprecated and will be removed from pandas in a future version. Use pandas.concat instead.\n",
      "  df = df.append(df_all, ignore_index=True)\n",
      "/tmp/ipykernel_1731/2025906423.py:84: FutureWarning: The frame.append method is deprecated and will be removed from pandas in a future version. Use pandas.concat instead.\n",
      "  df = df.append(df_all, ignore_index=True)\n",
      "/tmp/ipykernel_1731/2025906423.py:84: FutureWarning: The frame.append method is deprecated and will be removed from pandas in a future version. Use pandas.concat instead.\n",
      "  df = df.append(df_all, ignore_index=True)\n",
      "/tmp/ipykernel_1731/2025906423.py:84: FutureWarning: The frame.append method is deprecated and will be removed from pandas in a future version. Use pandas.concat instead.\n",
      "  df = df.append(df_all, ignore_index=True)\n",
      "/tmp/ipykernel_1731/2025906423.py:84: FutureWarning: The frame.append method is deprecated and will be removed from pandas in a future version. Use pandas.concat instead.\n",
      "  df = df.append(df_all, ignore_index=True)\n",
      "/tmp/ipykernel_1731/2025906423.py:84: FutureWarning: The frame.append method is deprecated and will be removed from pandas in a future version. Use pandas.concat instead.\n",
      "  df = df.append(df_all, ignore_index=True)\n",
      "/tmp/ipykernel_1731/2025906423.py:84: FutureWarning: The frame.append method is deprecated and will be removed from pandas in a future version. Use pandas.concat instead.\n",
      "  df = df.append(df_all, ignore_index=True)\n",
      "/tmp/ipykernel_1731/2025906423.py:84: FutureWarning: The frame.append method is deprecated and will be removed from pandas in a future version. Use pandas.concat instead.\n",
      "  df = df.append(df_all, ignore_index=True)\n",
      "/tmp/ipykernel_1731/2025906423.py:84: FutureWarning: The frame.append method is deprecated and will be removed from pandas in a future version. Use pandas.concat instead.\n",
      "  df = df.append(df_all, ignore_index=True)\n",
      "/tmp/ipykernel_1731/2025906423.py:84: FutureWarning: The frame.append method is deprecated and will be removed from pandas in a future version. Use pandas.concat instead.\n",
      "  df = df.append(df_all, ignore_index=True)\n",
      "/tmp/ipykernel_1731/2025906423.py:84: FutureWarning: The frame.append method is deprecated and will be removed from pandas in a future version. Use pandas.concat instead.\n",
      "  df = df.append(df_all, ignore_index=True)\n",
      "/tmp/ipykernel_1731/2025906423.py:84: FutureWarning: The frame.append method is deprecated and will be removed from pandas in a future version. Use pandas.concat instead.\n",
      "  df = df.append(df_all, ignore_index=True)\n",
      "/tmp/ipykernel_1731/2025906423.py:84: FutureWarning: The frame.append method is deprecated and will be removed from pandas in a future version. Use pandas.concat instead.\n",
      "  df = df.append(df_all, ignore_index=True)\n",
      "/tmp/ipykernel_1731/2025906423.py:84: FutureWarning: The frame.append method is deprecated and will be removed from pandas in a future version. Use pandas.concat instead.\n",
      "  df = df.append(df_all, ignore_index=True)\n",
      "/tmp/ipykernel_1731/2025906423.py:84: FutureWarning: The frame.append method is deprecated and will be removed from pandas in a future version. Use pandas.concat instead.\n",
      "  df = df.append(df_all, ignore_index=True)\n",
      "/tmp/ipykernel_1731/2025906423.py:84: FutureWarning: The frame.append method is deprecated and will be removed from pandas in a future version. Use pandas.concat instead.\n",
      "  df = df.append(df_all, ignore_index=True)\n",
      "/tmp/ipykernel_1731/2025906423.py:84: FutureWarning: The frame.append method is deprecated and will be removed from pandas in a future version. Use pandas.concat instead.\n",
      "  df = df.append(df_all, ignore_index=True)\n",
      "/tmp/ipykernel_1731/2025906423.py:84: FutureWarning: The frame.append method is deprecated and will be removed from pandas in a future version. Use pandas.concat instead.\n",
      "  df = df.append(df_all, ignore_index=True)\n",
      "/tmp/ipykernel_1731/2025906423.py:84: FutureWarning: The frame.append method is deprecated and will be removed from pandas in a future version. Use pandas.concat instead.\n",
      "  df = df.append(df_all, ignore_index=True)\n",
      "/tmp/ipykernel_1731/2025906423.py:84: FutureWarning: The frame.append method is deprecated and will be removed from pandas in a future version. Use pandas.concat instead.\n",
      "  df = df.append(df_all, ignore_index=True)\n",
      "/tmp/ipykernel_1731/2025906423.py:84: FutureWarning: The frame.append method is deprecated and will be removed from pandas in a future version. Use pandas.concat instead.\n",
      "  df = df.append(df_all, ignore_index=True)\n",
      "/tmp/ipykernel_1731/2025906423.py:84: FutureWarning: The frame.append method is deprecated and will be removed from pandas in a future version. Use pandas.concat instead.\n",
      "  df = df.append(df_all, ignore_index=True)\n",
      "/tmp/ipykernel_1731/2025906423.py:84: FutureWarning: The frame.append method is deprecated and will be removed from pandas in a future version. Use pandas.concat instead.\n",
      "  df = df.append(df_all, ignore_index=True)\n",
      "/tmp/ipykernel_1731/2025906423.py:84: FutureWarning: The frame.append method is deprecated and will be removed from pandas in a future version. Use pandas.concat instead.\n",
      "  df = df.append(df_all, ignore_index=True)\n",
      "/tmp/ipykernel_1731/2025906423.py:84: FutureWarning: The frame.append method is deprecated and will be removed from pandas in a future version. Use pandas.concat instead.\n",
      "  df = df.append(df_all, ignore_index=True)\n",
      "/tmp/ipykernel_1731/2025906423.py:84: FutureWarning: The frame.append method is deprecated and will be removed from pandas in a future version. Use pandas.concat instead.\n",
      "  df = df.append(df_all, ignore_index=True)\n",
      "/tmp/ipykernel_1731/2025906423.py:84: FutureWarning: The frame.append method is deprecated and will be removed from pandas in a future version. Use pandas.concat instead.\n",
      "  df = df.append(df_all, ignore_index=True)\n",
      "/tmp/ipykernel_1731/2025906423.py:84: FutureWarning: The frame.append method is deprecated and will be removed from pandas in a future version. Use pandas.concat instead.\n",
      "  df = df.append(df_all, ignore_index=True)\n",
      "/tmp/ipykernel_1731/2025906423.py:84: FutureWarning: The frame.append method is deprecated and will be removed from pandas in a future version. Use pandas.concat instead.\n",
      "  df = df.append(df_all, ignore_index=True)\n",
      "/tmp/ipykernel_1731/2025906423.py:84: FutureWarning: The frame.append method is deprecated and will be removed from pandas in a future version. Use pandas.concat instead.\n",
      "  df = df.append(df_all, ignore_index=True)\n"
     ]
    },
    {
     "name": "stderr",
     "output_type": "stream",
     "text": [
      "/tmp/ipykernel_1731/2025906423.py:84: FutureWarning: The frame.append method is deprecated and will be removed from pandas in a future version. Use pandas.concat instead.\n",
      "  df = df.append(df_all, ignore_index=True)\n",
      "/tmp/ipykernel_1731/2025906423.py:84: FutureWarning: The frame.append method is deprecated and will be removed from pandas in a future version. Use pandas.concat instead.\n",
      "  df = df.append(df_all, ignore_index=True)\n",
      "/tmp/ipykernel_1731/2025906423.py:84: FutureWarning: The frame.append method is deprecated and will be removed from pandas in a future version. Use pandas.concat instead.\n",
      "  df = df.append(df_all, ignore_index=True)\n",
      "/tmp/ipykernel_1731/2025906423.py:84: FutureWarning: The frame.append method is deprecated and will be removed from pandas in a future version. Use pandas.concat instead.\n",
      "  df = df.append(df_all, ignore_index=True)\n",
      "/tmp/ipykernel_1731/2025906423.py:84: FutureWarning: The frame.append method is deprecated and will be removed from pandas in a future version. Use pandas.concat instead.\n",
      "  df = df.append(df_all, ignore_index=True)\n",
      "/tmp/ipykernel_1731/2025906423.py:84: FutureWarning: The frame.append method is deprecated and will be removed from pandas in a future version. Use pandas.concat instead.\n",
      "  df = df.append(df_all, ignore_index=True)\n",
      "/tmp/ipykernel_1731/2025906423.py:84: FutureWarning: The frame.append method is deprecated and will be removed from pandas in a future version. Use pandas.concat instead.\n",
      "  df = df.append(df_all, ignore_index=True)\n",
      "/tmp/ipykernel_1731/2025906423.py:84: FutureWarning: The frame.append method is deprecated and will be removed from pandas in a future version. Use pandas.concat instead.\n",
      "  df = df.append(df_all, ignore_index=True)\n",
      "/tmp/ipykernel_1731/2025906423.py:84: FutureWarning: The frame.append method is deprecated and will be removed from pandas in a future version. Use pandas.concat instead.\n",
      "  df = df.append(df_all, ignore_index=True)\n",
      "/tmp/ipykernel_1731/2025906423.py:84: FutureWarning: The frame.append method is deprecated and will be removed from pandas in a future version. Use pandas.concat instead.\n",
      "  df = df.append(df_all, ignore_index=True)\n",
      "/tmp/ipykernel_1731/2025906423.py:84: FutureWarning: The frame.append method is deprecated and will be removed from pandas in a future version. Use pandas.concat instead.\n",
      "  df = df.append(df_all, ignore_index=True)\n",
      "/tmp/ipykernel_1731/2025906423.py:84: FutureWarning: The frame.append method is deprecated and will be removed from pandas in a future version. Use pandas.concat instead.\n",
      "  df = df.append(df_all, ignore_index=True)\n",
      "/tmp/ipykernel_1731/2025906423.py:84: FutureWarning: The frame.append method is deprecated and will be removed from pandas in a future version. Use pandas.concat instead.\n",
      "  df = df.append(df_all, ignore_index=True)\n",
      "/tmp/ipykernel_1731/2025906423.py:84: FutureWarning: The frame.append method is deprecated and will be removed from pandas in a future version. Use pandas.concat instead.\n",
      "  df = df.append(df_all, ignore_index=True)\n",
      "/tmp/ipykernel_1731/2025906423.py:84: FutureWarning: The frame.append method is deprecated and will be removed from pandas in a future version. Use pandas.concat instead.\n",
      "  df = df.append(df_all, ignore_index=True)\n",
      "/tmp/ipykernel_1731/2025906423.py:84: FutureWarning: The frame.append method is deprecated and will be removed from pandas in a future version. Use pandas.concat instead.\n",
      "  df = df.append(df_all, ignore_index=True)\n",
      "/tmp/ipykernel_1731/2025906423.py:84: FutureWarning: The frame.append method is deprecated and will be removed from pandas in a future version. Use pandas.concat instead.\n",
      "  df = df.append(df_all, ignore_index=True)\n",
      "/tmp/ipykernel_1731/2025906423.py:84: FutureWarning: The frame.append method is deprecated and will be removed from pandas in a future version. Use pandas.concat instead.\n",
      "  df = df.append(df_all, ignore_index=True)\n",
      "/tmp/ipykernel_1731/2025906423.py:84: FutureWarning: The frame.append method is deprecated and will be removed from pandas in a future version. Use pandas.concat instead.\n",
      "  df = df.append(df_all, ignore_index=True)\n",
      "/tmp/ipykernel_1731/2025906423.py:84: FutureWarning: The frame.append method is deprecated and will be removed from pandas in a future version. Use pandas.concat instead.\n",
      "  df = df.append(df_all, ignore_index=True)\n",
      "/tmp/ipykernel_1731/2025906423.py:84: FutureWarning: The frame.append method is deprecated and will be removed from pandas in a future version. Use pandas.concat instead.\n",
      "  df = df.append(df_all, ignore_index=True)\n",
      "/tmp/ipykernel_1731/2025906423.py:84: FutureWarning: The frame.append method is deprecated and will be removed from pandas in a future version. Use pandas.concat instead.\n",
      "  df = df.append(df_all, ignore_index=True)\n",
      "/tmp/ipykernel_1731/2025906423.py:84: FutureWarning: The frame.append method is deprecated and will be removed from pandas in a future version. Use pandas.concat instead.\n",
      "  df = df.append(df_all, ignore_index=True)\n",
      "/tmp/ipykernel_1731/2025906423.py:84: FutureWarning: The frame.append method is deprecated and will be removed from pandas in a future version. Use pandas.concat instead.\n",
      "  df = df.append(df_all, ignore_index=True)\n",
      "/tmp/ipykernel_1731/2025906423.py:84: FutureWarning: The frame.append method is deprecated and will be removed from pandas in a future version. Use pandas.concat instead.\n",
      "  df = df.append(df_all, ignore_index=True)\n",
      "/tmp/ipykernel_1731/2025906423.py:84: FutureWarning: The frame.append method is deprecated and will be removed from pandas in a future version. Use pandas.concat instead.\n",
      "  df = df.append(df_all, ignore_index=True)\n",
      "/tmp/ipykernel_1731/2025906423.py:84: FutureWarning: The frame.append method is deprecated and will be removed from pandas in a future version. Use pandas.concat instead.\n",
      "  df = df.append(df_all, ignore_index=True)\n",
      "/tmp/ipykernel_1731/2025906423.py:84: FutureWarning: The frame.append method is deprecated and will be removed from pandas in a future version. Use pandas.concat instead.\n",
      "  df = df.append(df_all, ignore_index=True)\n",
      "/tmp/ipykernel_1731/2025906423.py:84: FutureWarning: The frame.append method is deprecated and will be removed from pandas in a future version. Use pandas.concat instead.\n",
      "  df = df.append(df_all, ignore_index=True)\n",
      "/tmp/ipykernel_1731/2025906423.py:84: FutureWarning: The frame.append method is deprecated and will be removed from pandas in a future version. Use pandas.concat instead.\n",
      "  df = df.append(df_all, ignore_index=True)\n",
      "/tmp/ipykernel_1731/2025906423.py:84: FutureWarning: The frame.append method is deprecated and will be removed from pandas in a future version. Use pandas.concat instead.\n",
      "  df = df.append(df_all, ignore_index=True)\n",
      "/tmp/ipykernel_1731/2025906423.py:84: FutureWarning: The frame.append method is deprecated and will be removed from pandas in a future version. Use pandas.concat instead.\n",
      "  df = df.append(df_all, ignore_index=True)\n",
      "/tmp/ipykernel_1731/2025906423.py:84: FutureWarning: The frame.append method is deprecated and will be removed from pandas in a future version. Use pandas.concat instead.\n",
      "  df = df.append(df_all, ignore_index=True)\n",
      "/tmp/ipykernel_1731/2025906423.py:84: FutureWarning: The frame.append method is deprecated and will be removed from pandas in a future version. Use pandas.concat instead.\n",
      "  df = df.append(df_all, ignore_index=True)\n",
      "/tmp/ipykernel_1731/2025906423.py:84: FutureWarning: The frame.append method is deprecated and will be removed from pandas in a future version. Use pandas.concat instead.\n",
      "  df = df.append(df_all, ignore_index=True)\n",
      "/tmp/ipykernel_1731/2025906423.py:84: FutureWarning: The frame.append method is deprecated and will be removed from pandas in a future version. Use pandas.concat instead.\n",
      "  df = df.append(df_all, ignore_index=True)\n",
      "/tmp/ipykernel_1731/2025906423.py:84: FutureWarning: The frame.append method is deprecated and will be removed from pandas in a future version. Use pandas.concat instead.\n",
      "  df = df.append(df_all, ignore_index=True)\n",
      "/tmp/ipykernel_1731/2025906423.py:84: FutureWarning: The frame.append method is deprecated and will be removed from pandas in a future version. Use pandas.concat instead.\n",
      "  df = df.append(df_all, ignore_index=True)\n",
      "/tmp/ipykernel_1731/2025906423.py:84: FutureWarning: The frame.append method is deprecated and will be removed from pandas in a future version. Use pandas.concat instead.\n",
      "  df = df.append(df_all, ignore_index=True)\n"
     ]
    },
    {
     "name": "stderr",
     "output_type": "stream",
     "text": [
      "/tmp/ipykernel_1731/2025906423.py:84: FutureWarning: The frame.append method is deprecated and will be removed from pandas in a future version. Use pandas.concat instead.\n",
      "  df = df.append(df_all, ignore_index=True)\n",
      "/tmp/ipykernel_1731/2025906423.py:84: FutureWarning: The frame.append method is deprecated and will be removed from pandas in a future version. Use pandas.concat instead.\n",
      "  df = df.append(df_all, ignore_index=True)\n",
      "/tmp/ipykernel_1731/2025906423.py:84: FutureWarning: The frame.append method is deprecated and will be removed from pandas in a future version. Use pandas.concat instead.\n",
      "  df = df.append(df_all, ignore_index=True)\n",
      "/tmp/ipykernel_1731/2025906423.py:84: FutureWarning: The frame.append method is deprecated and will be removed from pandas in a future version. Use pandas.concat instead.\n",
      "  df = df.append(df_all, ignore_index=True)\n",
      "/tmp/ipykernel_1731/2025906423.py:84: FutureWarning: The frame.append method is deprecated and will be removed from pandas in a future version. Use pandas.concat instead.\n",
      "  df = df.append(df_all, ignore_index=True)\n",
      "/tmp/ipykernel_1731/2025906423.py:84: FutureWarning: The frame.append method is deprecated and will be removed from pandas in a future version. Use pandas.concat instead.\n",
      "  df = df.append(df_all, ignore_index=True)\n",
      "/tmp/ipykernel_1731/2025906423.py:84: FutureWarning: The frame.append method is deprecated and will be removed from pandas in a future version. Use pandas.concat instead.\n",
      "  df = df.append(df_all, ignore_index=True)\n",
      "/tmp/ipykernel_1731/2025906423.py:84: FutureWarning: The frame.append method is deprecated and will be removed from pandas in a future version. Use pandas.concat instead.\n",
      "  df = df.append(df_all, ignore_index=True)\n",
      "/tmp/ipykernel_1731/2025906423.py:84: FutureWarning: The frame.append method is deprecated and will be removed from pandas in a future version. Use pandas.concat instead.\n",
      "  df = df.append(df_all, ignore_index=True)\n",
      "/tmp/ipykernel_1731/2025906423.py:84: FutureWarning: The frame.append method is deprecated and will be removed from pandas in a future version. Use pandas.concat instead.\n",
      "  df = df.append(df_all, ignore_index=True)\n",
      "/tmp/ipykernel_1731/2025906423.py:84: FutureWarning: The frame.append method is deprecated and will be removed from pandas in a future version. Use pandas.concat instead.\n",
      "  df = df.append(df_all, ignore_index=True)\n",
      "/tmp/ipykernel_1731/2025906423.py:84: FutureWarning: The frame.append method is deprecated and will be removed from pandas in a future version. Use pandas.concat instead.\n",
      "  df = df.append(df_all, ignore_index=True)\n",
      "/tmp/ipykernel_1731/2025906423.py:84: FutureWarning: The frame.append method is deprecated and will be removed from pandas in a future version. Use pandas.concat instead.\n",
      "  df = df.append(df_all, ignore_index=True)\n",
      "/tmp/ipykernel_1731/2025906423.py:84: FutureWarning: The frame.append method is deprecated and will be removed from pandas in a future version. Use pandas.concat instead.\n",
      "  df = df.append(df_all, ignore_index=True)\n",
      "/tmp/ipykernel_1731/2025906423.py:84: FutureWarning: The frame.append method is deprecated and will be removed from pandas in a future version. Use pandas.concat instead.\n",
      "  df = df.append(df_all, ignore_index=True)\n",
      "/tmp/ipykernel_1731/2025906423.py:84: FutureWarning: The frame.append method is deprecated and will be removed from pandas in a future version. Use pandas.concat instead.\n",
      "  df = df.append(df_all, ignore_index=True)\n",
      "/tmp/ipykernel_1731/2025906423.py:84: FutureWarning: The frame.append method is deprecated and will be removed from pandas in a future version. Use pandas.concat instead.\n",
      "  df = df.append(df_all, ignore_index=True)\n",
      "/tmp/ipykernel_1731/2025906423.py:84: FutureWarning: The frame.append method is deprecated and will be removed from pandas in a future version. Use pandas.concat instead.\n",
      "  df = df.append(df_all, ignore_index=True)\n",
      "/tmp/ipykernel_1731/2025906423.py:84: FutureWarning: The frame.append method is deprecated and will be removed from pandas in a future version. Use pandas.concat instead.\n",
      "  df = df.append(df_all, ignore_index=True)\n",
      "/tmp/ipykernel_1731/2025906423.py:84: FutureWarning: The frame.append method is deprecated and will be removed from pandas in a future version. Use pandas.concat instead.\n",
      "  df = df.append(df_all, ignore_index=True)\n",
      "/tmp/ipykernel_1731/2025906423.py:84: FutureWarning: The frame.append method is deprecated and will be removed from pandas in a future version. Use pandas.concat instead.\n",
      "  df = df.append(df_all, ignore_index=True)\n",
      "/tmp/ipykernel_1731/2025906423.py:84: FutureWarning: The frame.append method is deprecated and will be removed from pandas in a future version. Use pandas.concat instead.\n",
      "  df = df.append(df_all, ignore_index=True)\n",
      "/tmp/ipykernel_1731/2025906423.py:84: FutureWarning: The frame.append method is deprecated and will be removed from pandas in a future version. Use pandas.concat instead.\n",
      "  df = df.append(df_all, ignore_index=True)\n",
      "/tmp/ipykernel_1731/2025906423.py:84: FutureWarning: The frame.append method is deprecated and will be removed from pandas in a future version. Use pandas.concat instead.\n",
      "  df = df.append(df_all, ignore_index=True)\n",
      "/tmp/ipykernel_1731/2025906423.py:84: FutureWarning: The frame.append method is deprecated and will be removed from pandas in a future version. Use pandas.concat instead.\n",
      "  df = df.append(df_all, ignore_index=True)\n",
      "/tmp/ipykernel_1731/2025906423.py:84: FutureWarning: The frame.append method is deprecated and will be removed from pandas in a future version. Use pandas.concat instead.\n",
      "  df = df.append(df_all, ignore_index=True)\n",
      "/tmp/ipykernel_1731/2025906423.py:84: FutureWarning: The frame.append method is deprecated and will be removed from pandas in a future version. Use pandas.concat instead.\n",
      "  df = df.append(df_all, ignore_index=True)\n",
      "/tmp/ipykernel_1731/2025906423.py:84: FutureWarning: The frame.append method is deprecated and will be removed from pandas in a future version. Use pandas.concat instead.\n",
      "  df = df.append(df_all, ignore_index=True)\n",
      "/tmp/ipykernel_1731/2025906423.py:84: FutureWarning: The frame.append method is deprecated and will be removed from pandas in a future version. Use pandas.concat instead.\n",
      "  df = df.append(df_all, ignore_index=True)\n",
      "/tmp/ipykernel_1731/2025906423.py:84: FutureWarning: The frame.append method is deprecated and will be removed from pandas in a future version. Use pandas.concat instead.\n",
      "  df = df.append(df_all, ignore_index=True)\n",
      "/tmp/ipykernel_1731/2025906423.py:84: FutureWarning: The frame.append method is deprecated and will be removed from pandas in a future version. Use pandas.concat instead.\n",
      "  df = df.append(df_all, ignore_index=True)\n",
      "/tmp/ipykernel_1731/2025906423.py:84: FutureWarning: The frame.append method is deprecated and will be removed from pandas in a future version. Use pandas.concat instead.\n",
      "  df = df.append(df_all, ignore_index=True)\n",
      "/tmp/ipykernel_1731/2025906423.py:84: FutureWarning: The frame.append method is deprecated and will be removed from pandas in a future version. Use pandas.concat instead.\n",
      "  df = df.append(df_all, ignore_index=True)\n",
      "/tmp/ipykernel_1731/2025906423.py:84: FutureWarning: The frame.append method is deprecated and will be removed from pandas in a future version. Use pandas.concat instead.\n",
      "  df = df.append(df_all, ignore_index=True)\n",
      "/tmp/ipykernel_1731/2025906423.py:84: FutureWarning: The frame.append method is deprecated and will be removed from pandas in a future version. Use pandas.concat instead.\n",
      "  df = df.append(df_all, ignore_index=True)\n",
      "/tmp/ipykernel_1731/2025906423.py:84: FutureWarning: The frame.append method is deprecated and will be removed from pandas in a future version. Use pandas.concat instead.\n",
      "  df = df.append(df_all, ignore_index=True)\n",
      "/tmp/ipykernel_1731/2025906423.py:84: FutureWarning: The frame.append method is deprecated and will be removed from pandas in a future version. Use pandas.concat instead.\n",
      "  df = df.append(df_all, ignore_index=True)\n",
      "/tmp/ipykernel_1731/2025906423.py:84: FutureWarning: The frame.append method is deprecated and will be removed from pandas in a future version. Use pandas.concat instead.\n",
      "  df = df.append(df_all, ignore_index=True)\n",
      "/tmp/ipykernel_1731/2025906423.py:84: FutureWarning: The frame.append method is deprecated and will be removed from pandas in a future version. Use pandas.concat instead.\n",
      "  df = df.append(df_all, ignore_index=True)\n"
     ]
    },
    {
     "name": "stderr",
     "output_type": "stream",
     "text": [
      "/tmp/ipykernel_1731/2025906423.py:84: FutureWarning: The frame.append method is deprecated and will be removed from pandas in a future version. Use pandas.concat instead.\n",
      "  df = df.append(df_all, ignore_index=True)\n",
      "/tmp/ipykernel_1731/2025906423.py:84: FutureWarning: The frame.append method is deprecated and will be removed from pandas in a future version. Use pandas.concat instead.\n",
      "  df = df.append(df_all, ignore_index=True)\n",
      "/tmp/ipykernel_1731/2025906423.py:84: FutureWarning: The frame.append method is deprecated and will be removed from pandas in a future version. Use pandas.concat instead.\n",
      "  df = df.append(df_all, ignore_index=True)\n",
      "/tmp/ipykernel_1731/2025906423.py:84: FutureWarning: The frame.append method is deprecated and will be removed from pandas in a future version. Use pandas.concat instead.\n",
      "  df = df.append(df_all, ignore_index=True)\n",
      "/tmp/ipykernel_1731/2025906423.py:84: FutureWarning: The frame.append method is deprecated and will be removed from pandas in a future version. Use pandas.concat instead.\n",
      "  df = df.append(df_all, ignore_index=True)\n",
      "/tmp/ipykernel_1731/2025906423.py:84: FutureWarning: The frame.append method is deprecated and will be removed from pandas in a future version. Use pandas.concat instead.\n",
      "  df = df.append(df_all, ignore_index=True)\n",
      "/tmp/ipykernel_1731/2025906423.py:84: FutureWarning: The frame.append method is deprecated and will be removed from pandas in a future version. Use pandas.concat instead.\n",
      "  df = df.append(df_all, ignore_index=True)\n",
      "/tmp/ipykernel_1731/2025906423.py:84: FutureWarning: The frame.append method is deprecated and will be removed from pandas in a future version. Use pandas.concat instead.\n",
      "  df = df.append(df_all, ignore_index=True)\n",
      "/tmp/ipykernel_1731/2025906423.py:84: FutureWarning: The frame.append method is deprecated and will be removed from pandas in a future version. Use pandas.concat instead.\n",
      "  df = df.append(df_all, ignore_index=True)\n",
      "/tmp/ipykernel_1731/2025906423.py:84: FutureWarning: The frame.append method is deprecated and will be removed from pandas in a future version. Use pandas.concat instead.\n",
      "  df = df.append(df_all, ignore_index=True)\n",
      "/tmp/ipykernel_1731/2025906423.py:84: FutureWarning: The frame.append method is deprecated and will be removed from pandas in a future version. Use pandas.concat instead.\n",
      "  df = df.append(df_all, ignore_index=True)\n",
      "/tmp/ipykernel_1731/2025906423.py:84: FutureWarning: The frame.append method is deprecated and will be removed from pandas in a future version. Use pandas.concat instead.\n",
      "  df = df.append(df_all, ignore_index=True)\n",
      "/tmp/ipykernel_1731/2025906423.py:84: FutureWarning: The frame.append method is deprecated and will be removed from pandas in a future version. Use pandas.concat instead.\n",
      "  df = df.append(df_all, ignore_index=True)\n",
      "/tmp/ipykernel_1731/2025906423.py:84: FutureWarning: The frame.append method is deprecated and will be removed from pandas in a future version. Use pandas.concat instead.\n",
      "  df = df.append(df_all, ignore_index=True)\n",
      "/tmp/ipykernel_1731/2025906423.py:84: FutureWarning: The frame.append method is deprecated and will be removed from pandas in a future version. Use pandas.concat instead.\n",
      "  df = df.append(df_all, ignore_index=True)\n",
      "/tmp/ipykernel_1731/2025906423.py:84: FutureWarning: The frame.append method is deprecated and will be removed from pandas in a future version. Use pandas.concat instead.\n",
      "  df = df.append(df_all, ignore_index=True)\n",
      "/tmp/ipykernel_1731/2025906423.py:84: FutureWarning: The frame.append method is deprecated and will be removed from pandas in a future version. Use pandas.concat instead.\n",
      "  df = df.append(df_all, ignore_index=True)\n",
      "/tmp/ipykernel_1731/2025906423.py:84: FutureWarning: The frame.append method is deprecated and will be removed from pandas in a future version. Use pandas.concat instead.\n",
      "  df = df.append(df_all, ignore_index=True)\n",
      "/tmp/ipykernel_1731/2025906423.py:84: FutureWarning: The frame.append method is deprecated and will be removed from pandas in a future version. Use pandas.concat instead.\n",
      "  df = df.append(df_all, ignore_index=True)\n",
      "/tmp/ipykernel_1731/2025906423.py:84: FutureWarning: The frame.append method is deprecated and will be removed from pandas in a future version. Use pandas.concat instead.\n",
      "  df = df.append(df_all, ignore_index=True)\n",
      "/tmp/ipykernel_1731/2025906423.py:84: FutureWarning: The frame.append method is deprecated and will be removed from pandas in a future version. Use pandas.concat instead.\n",
      "  df = df.append(df_all, ignore_index=True)\n",
      "/tmp/ipykernel_1731/2025906423.py:84: FutureWarning: The frame.append method is deprecated and will be removed from pandas in a future version. Use pandas.concat instead.\n",
      "  df = df.append(df_all, ignore_index=True)\n",
      "/tmp/ipykernel_1731/2025906423.py:84: FutureWarning: The frame.append method is deprecated and will be removed from pandas in a future version. Use pandas.concat instead.\n",
      "  df = df.append(df_all, ignore_index=True)\n",
      "/tmp/ipykernel_1731/2025906423.py:84: FutureWarning: The frame.append method is deprecated and will be removed from pandas in a future version. Use pandas.concat instead.\n",
      "  df = df.append(df_all, ignore_index=True)\n",
      "/tmp/ipykernel_1731/2025906423.py:84: FutureWarning: The frame.append method is deprecated and will be removed from pandas in a future version. Use pandas.concat instead.\n",
      "  df = df.append(df_all, ignore_index=True)\n",
      "/tmp/ipykernel_1731/2025906423.py:84: FutureWarning: The frame.append method is deprecated and will be removed from pandas in a future version. Use pandas.concat instead.\n",
      "  df = df.append(df_all, ignore_index=True)\n",
      "/tmp/ipykernel_1731/2025906423.py:84: FutureWarning: The frame.append method is deprecated and will be removed from pandas in a future version. Use pandas.concat instead.\n",
      "  df = df.append(df_all, ignore_index=True)\n",
      "/tmp/ipykernel_1731/2025906423.py:84: FutureWarning: The frame.append method is deprecated and will be removed from pandas in a future version. Use pandas.concat instead.\n",
      "  df = df.append(df_all, ignore_index=True)\n",
      "/tmp/ipykernel_1731/2025906423.py:84: FutureWarning: The frame.append method is deprecated and will be removed from pandas in a future version. Use pandas.concat instead.\n",
      "  df = df.append(df_all, ignore_index=True)\n",
      "/tmp/ipykernel_1731/2025906423.py:84: FutureWarning: The frame.append method is deprecated and will be removed from pandas in a future version. Use pandas.concat instead.\n",
      "  df = df.append(df_all, ignore_index=True)\n",
      "/tmp/ipykernel_1731/2025906423.py:84: FutureWarning: The frame.append method is deprecated and will be removed from pandas in a future version. Use pandas.concat instead.\n",
      "  df = df.append(df_all, ignore_index=True)\n",
      "/tmp/ipykernel_1731/2025906423.py:84: FutureWarning: The frame.append method is deprecated and will be removed from pandas in a future version. Use pandas.concat instead.\n",
      "  df = df.append(df_all, ignore_index=True)\n",
      "/tmp/ipykernel_1731/2025906423.py:84: FutureWarning: The frame.append method is deprecated and will be removed from pandas in a future version. Use pandas.concat instead.\n",
      "  df = df.append(df_all, ignore_index=True)\n",
      "/tmp/ipykernel_1731/2025906423.py:84: FutureWarning: The frame.append method is deprecated and will be removed from pandas in a future version. Use pandas.concat instead.\n",
      "  df = df.append(df_all, ignore_index=True)\n",
      "/tmp/ipykernel_1731/2025906423.py:84: FutureWarning: The frame.append method is deprecated and will be removed from pandas in a future version. Use pandas.concat instead.\n",
      "  df = df.append(df_all, ignore_index=True)\n",
      "/tmp/ipykernel_1731/2025906423.py:84: FutureWarning: The frame.append method is deprecated and will be removed from pandas in a future version. Use pandas.concat instead.\n",
      "  df = df.append(df_all, ignore_index=True)\n",
      "/tmp/ipykernel_1731/2025906423.py:84: FutureWarning: The frame.append method is deprecated and will be removed from pandas in a future version. Use pandas.concat instead.\n",
      "  df = df.append(df_all, ignore_index=True)\n",
      "/tmp/ipykernel_1731/2025906423.py:84: FutureWarning: The frame.append method is deprecated and will be removed from pandas in a future version. Use pandas.concat instead.\n",
      "  df = df.append(df_all, ignore_index=True)\n",
      "/tmp/ipykernel_1731/2025906423.py:84: FutureWarning: The frame.append method is deprecated and will be removed from pandas in a future version. Use pandas.concat instead.\n",
      "  df = df.append(df_all, ignore_index=True)\n"
     ]
    },
    {
     "name": "stderr",
     "output_type": "stream",
     "text": [
      "/tmp/ipykernel_1731/2025906423.py:84: FutureWarning: The frame.append method is deprecated and will be removed from pandas in a future version. Use pandas.concat instead.\n",
      "  df = df.append(df_all, ignore_index=True)\n",
      "/tmp/ipykernel_1731/2025906423.py:84: FutureWarning: The frame.append method is deprecated and will be removed from pandas in a future version. Use pandas.concat instead.\n",
      "  df = df.append(df_all, ignore_index=True)\n",
      "/tmp/ipykernel_1731/2025906423.py:84: FutureWarning: The frame.append method is deprecated and will be removed from pandas in a future version. Use pandas.concat instead.\n",
      "  df = df.append(df_all, ignore_index=True)\n",
      "/tmp/ipykernel_1731/2025906423.py:84: FutureWarning: The frame.append method is deprecated and will be removed from pandas in a future version. Use pandas.concat instead.\n",
      "  df = df.append(df_all, ignore_index=True)\n",
      "/tmp/ipykernel_1731/2025906423.py:84: FutureWarning: The frame.append method is deprecated and will be removed from pandas in a future version. Use pandas.concat instead.\n",
      "  df = df.append(df_all, ignore_index=True)\n",
      "/tmp/ipykernel_1731/2025906423.py:84: FutureWarning: The frame.append method is deprecated and will be removed from pandas in a future version. Use pandas.concat instead.\n",
      "  df = df.append(df_all, ignore_index=True)\n",
      "/tmp/ipykernel_1731/2025906423.py:84: FutureWarning: The frame.append method is deprecated and will be removed from pandas in a future version. Use pandas.concat instead.\n",
      "  df = df.append(df_all, ignore_index=True)\n",
      "/tmp/ipykernel_1731/2025906423.py:84: FutureWarning: The frame.append method is deprecated and will be removed from pandas in a future version. Use pandas.concat instead.\n",
      "  df = df.append(df_all, ignore_index=True)\n",
      "/tmp/ipykernel_1731/2025906423.py:84: FutureWarning: The frame.append method is deprecated and will be removed from pandas in a future version. Use pandas.concat instead.\n",
      "  df = df.append(df_all, ignore_index=True)\n",
      "/tmp/ipykernel_1731/2025906423.py:84: FutureWarning: The frame.append method is deprecated and will be removed from pandas in a future version. Use pandas.concat instead.\n",
      "  df = df.append(df_all, ignore_index=True)\n",
      "/tmp/ipykernel_1731/2025906423.py:84: FutureWarning: The frame.append method is deprecated and will be removed from pandas in a future version. Use pandas.concat instead.\n",
      "  df = df.append(df_all, ignore_index=True)\n",
      "/tmp/ipykernel_1731/2025906423.py:84: FutureWarning: The frame.append method is deprecated and will be removed from pandas in a future version. Use pandas.concat instead.\n",
      "  df = df.append(df_all, ignore_index=True)\n",
      "/tmp/ipykernel_1731/2025906423.py:84: FutureWarning: The frame.append method is deprecated and will be removed from pandas in a future version. Use pandas.concat instead.\n",
      "  df = df.append(df_all, ignore_index=True)\n",
      "/tmp/ipykernel_1731/2025906423.py:84: FutureWarning: The frame.append method is deprecated and will be removed from pandas in a future version. Use pandas.concat instead.\n",
      "  df = df.append(df_all, ignore_index=True)\n",
      "/tmp/ipykernel_1731/2025906423.py:84: FutureWarning: The frame.append method is deprecated and will be removed from pandas in a future version. Use pandas.concat instead.\n",
      "  df = df.append(df_all, ignore_index=True)\n",
      "/tmp/ipykernel_1731/2025906423.py:84: FutureWarning: The frame.append method is deprecated and will be removed from pandas in a future version. Use pandas.concat instead.\n",
      "  df = df.append(df_all, ignore_index=True)\n",
      "/tmp/ipykernel_1731/2025906423.py:84: FutureWarning: The frame.append method is deprecated and will be removed from pandas in a future version. Use pandas.concat instead.\n",
      "  df = df.append(df_all, ignore_index=True)\n",
      "/tmp/ipykernel_1731/2025906423.py:84: FutureWarning: The frame.append method is deprecated and will be removed from pandas in a future version. Use pandas.concat instead.\n",
      "  df = df.append(df_all, ignore_index=True)\n",
      "/tmp/ipykernel_1731/2025906423.py:84: FutureWarning: The frame.append method is deprecated and will be removed from pandas in a future version. Use pandas.concat instead.\n",
      "  df = df.append(df_all, ignore_index=True)\n",
      "/tmp/ipykernel_1731/2025906423.py:84: FutureWarning: The frame.append method is deprecated and will be removed from pandas in a future version. Use pandas.concat instead.\n",
      "  df = df.append(df_all, ignore_index=True)\n",
      "/tmp/ipykernel_1731/2025906423.py:84: FutureWarning: The frame.append method is deprecated and will be removed from pandas in a future version. Use pandas.concat instead.\n",
      "  df = df.append(df_all, ignore_index=True)\n",
      "/tmp/ipykernel_1731/2025906423.py:84: FutureWarning: The frame.append method is deprecated and will be removed from pandas in a future version. Use pandas.concat instead.\n",
      "  df = df.append(df_all, ignore_index=True)\n",
      "/tmp/ipykernel_1731/2025906423.py:84: FutureWarning: The frame.append method is deprecated and will be removed from pandas in a future version. Use pandas.concat instead.\n",
      "  df = df.append(df_all, ignore_index=True)\n",
      "/tmp/ipykernel_1731/2025906423.py:84: FutureWarning: The frame.append method is deprecated and will be removed from pandas in a future version. Use pandas.concat instead.\n",
      "  df = df.append(df_all, ignore_index=True)\n",
      "/tmp/ipykernel_1731/2025906423.py:84: FutureWarning: The frame.append method is deprecated and will be removed from pandas in a future version. Use pandas.concat instead.\n",
      "  df = df.append(df_all, ignore_index=True)\n",
      "/tmp/ipykernel_1731/2025906423.py:84: FutureWarning: The frame.append method is deprecated and will be removed from pandas in a future version. Use pandas.concat instead.\n",
      "  df = df.append(df_all, ignore_index=True)\n",
      "/tmp/ipykernel_1731/2025906423.py:84: FutureWarning: The frame.append method is deprecated and will be removed from pandas in a future version. Use pandas.concat instead.\n",
      "  df = df.append(df_all, ignore_index=True)\n",
      "/tmp/ipykernel_1731/2025906423.py:84: FutureWarning: The frame.append method is deprecated and will be removed from pandas in a future version. Use pandas.concat instead.\n",
      "  df = df.append(df_all, ignore_index=True)\n",
      "/tmp/ipykernel_1731/2025906423.py:84: FutureWarning: The frame.append method is deprecated and will be removed from pandas in a future version. Use pandas.concat instead.\n",
      "  df = df.append(df_all, ignore_index=True)\n",
      "/tmp/ipykernel_1731/2025906423.py:84: FutureWarning: The frame.append method is deprecated and will be removed from pandas in a future version. Use pandas.concat instead.\n",
      "  df = df.append(df_all, ignore_index=True)\n",
      "/tmp/ipykernel_1731/2025906423.py:84: FutureWarning: The frame.append method is deprecated and will be removed from pandas in a future version. Use pandas.concat instead.\n",
      "  df = df.append(df_all, ignore_index=True)\n",
      "/tmp/ipykernel_1731/2025906423.py:84: FutureWarning: The frame.append method is deprecated and will be removed from pandas in a future version. Use pandas.concat instead.\n",
      "  df = df.append(df_all, ignore_index=True)\n",
      "/tmp/ipykernel_1731/2025906423.py:84: FutureWarning: The frame.append method is deprecated and will be removed from pandas in a future version. Use pandas.concat instead.\n",
      "  df = df.append(df_all, ignore_index=True)\n",
      "/tmp/ipykernel_1731/2025906423.py:84: FutureWarning: The frame.append method is deprecated and will be removed from pandas in a future version. Use pandas.concat instead.\n",
      "  df = df.append(df_all, ignore_index=True)\n",
      "/tmp/ipykernel_1731/2025906423.py:84: FutureWarning: The frame.append method is deprecated and will be removed from pandas in a future version. Use pandas.concat instead.\n",
      "  df = df.append(df_all, ignore_index=True)\n",
      "/tmp/ipykernel_1731/2025906423.py:84: FutureWarning: The frame.append method is deprecated and will be removed from pandas in a future version. Use pandas.concat instead.\n",
      "  df = df.append(df_all, ignore_index=True)\n",
      "/tmp/ipykernel_1731/2025906423.py:84: FutureWarning: The frame.append method is deprecated and will be removed from pandas in a future version. Use pandas.concat instead.\n",
      "  df = df.append(df_all, ignore_index=True)\n",
      "/tmp/ipykernel_1731/2025906423.py:84: FutureWarning: The frame.append method is deprecated and will be removed from pandas in a future version. Use pandas.concat instead.\n",
      "  df = df.append(df_all, ignore_index=True)\n",
      "/tmp/ipykernel_1731/2025906423.py:84: FutureWarning: The frame.append method is deprecated and will be removed from pandas in a future version. Use pandas.concat instead.\n",
      "  df = df.append(df_all, ignore_index=True)\n"
     ]
    },
    {
     "name": "stderr",
     "output_type": "stream",
     "text": [
      "/tmp/ipykernel_1731/2025906423.py:84: FutureWarning: The frame.append method is deprecated and will be removed from pandas in a future version. Use pandas.concat instead.\n",
      "  df = df.append(df_all, ignore_index=True)\n",
      "/tmp/ipykernel_1731/2025906423.py:84: FutureWarning: The frame.append method is deprecated and will be removed from pandas in a future version. Use pandas.concat instead.\n",
      "  df = df.append(df_all, ignore_index=True)\n",
      "/tmp/ipykernel_1731/2025906423.py:84: FutureWarning: The frame.append method is deprecated and will be removed from pandas in a future version. Use pandas.concat instead.\n",
      "  df = df.append(df_all, ignore_index=True)\n",
      "/tmp/ipykernel_1731/2025906423.py:84: FutureWarning: The frame.append method is deprecated and will be removed from pandas in a future version. Use pandas.concat instead.\n",
      "  df = df.append(df_all, ignore_index=True)\n",
      "/tmp/ipykernel_1731/2025906423.py:84: FutureWarning: The frame.append method is deprecated and will be removed from pandas in a future version. Use pandas.concat instead.\n",
      "  df = df.append(df_all, ignore_index=True)\n",
      "/tmp/ipykernel_1731/2025906423.py:84: FutureWarning: The frame.append method is deprecated and will be removed from pandas in a future version. Use pandas.concat instead.\n",
      "  df = df.append(df_all, ignore_index=True)\n",
      "/tmp/ipykernel_1731/2025906423.py:84: FutureWarning: The frame.append method is deprecated and will be removed from pandas in a future version. Use pandas.concat instead.\n",
      "  df = df.append(df_all, ignore_index=True)\n",
      "/tmp/ipykernel_1731/2025906423.py:84: FutureWarning: The frame.append method is deprecated and will be removed from pandas in a future version. Use pandas.concat instead.\n",
      "  df = df.append(df_all, ignore_index=True)\n",
      "/tmp/ipykernel_1731/2025906423.py:84: FutureWarning: The frame.append method is deprecated and will be removed from pandas in a future version. Use pandas.concat instead.\n",
      "  df = df.append(df_all, ignore_index=True)\n",
      "/tmp/ipykernel_1731/2025906423.py:84: FutureWarning: The frame.append method is deprecated and will be removed from pandas in a future version. Use pandas.concat instead.\n",
      "  df = df.append(df_all, ignore_index=True)\n",
      "/tmp/ipykernel_1731/2025906423.py:84: FutureWarning: The frame.append method is deprecated and will be removed from pandas in a future version. Use pandas.concat instead.\n",
      "  df = df.append(df_all, ignore_index=True)\n",
      "/tmp/ipykernel_1731/2025906423.py:84: FutureWarning: The frame.append method is deprecated and will be removed from pandas in a future version. Use pandas.concat instead.\n",
      "  df = df.append(df_all, ignore_index=True)\n",
      "/tmp/ipykernel_1731/2025906423.py:84: FutureWarning: The frame.append method is deprecated and will be removed from pandas in a future version. Use pandas.concat instead.\n",
      "  df = df.append(df_all, ignore_index=True)\n",
      "/tmp/ipykernel_1731/2025906423.py:84: FutureWarning: The frame.append method is deprecated and will be removed from pandas in a future version. Use pandas.concat instead.\n",
      "  df = df.append(df_all, ignore_index=True)\n",
      "/tmp/ipykernel_1731/2025906423.py:84: FutureWarning: The frame.append method is deprecated and will be removed from pandas in a future version. Use pandas.concat instead.\n",
      "  df = df.append(df_all, ignore_index=True)\n",
      "/tmp/ipykernel_1731/2025906423.py:84: FutureWarning: The frame.append method is deprecated and will be removed from pandas in a future version. Use pandas.concat instead.\n",
      "  df = df.append(df_all, ignore_index=True)\n",
      "/tmp/ipykernel_1731/2025906423.py:84: FutureWarning: The frame.append method is deprecated and will be removed from pandas in a future version. Use pandas.concat instead.\n",
      "  df = df.append(df_all, ignore_index=True)\n",
      "/tmp/ipykernel_1731/2025906423.py:84: FutureWarning: The frame.append method is deprecated and will be removed from pandas in a future version. Use pandas.concat instead.\n",
      "  df = df.append(df_all, ignore_index=True)\n",
      "/tmp/ipykernel_1731/2025906423.py:84: FutureWarning: The frame.append method is deprecated and will be removed from pandas in a future version. Use pandas.concat instead.\n",
      "  df = df.append(df_all, ignore_index=True)\n",
      "/tmp/ipykernel_1731/2025906423.py:84: FutureWarning: The frame.append method is deprecated and will be removed from pandas in a future version. Use pandas.concat instead.\n",
      "  df = df.append(df_all, ignore_index=True)\n",
      "/tmp/ipykernel_1731/2025906423.py:84: FutureWarning: The frame.append method is deprecated and will be removed from pandas in a future version. Use pandas.concat instead.\n",
      "  df = df.append(df_all, ignore_index=True)\n",
      "/tmp/ipykernel_1731/2025906423.py:84: FutureWarning: The frame.append method is deprecated and will be removed from pandas in a future version. Use pandas.concat instead.\n",
      "  df = df.append(df_all, ignore_index=True)\n",
      "/tmp/ipykernel_1731/2025906423.py:84: FutureWarning: The frame.append method is deprecated and will be removed from pandas in a future version. Use pandas.concat instead.\n",
      "  df = df.append(df_all, ignore_index=True)\n",
      "/tmp/ipykernel_1731/2025906423.py:84: FutureWarning: The frame.append method is deprecated and will be removed from pandas in a future version. Use pandas.concat instead.\n",
      "  df = df.append(df_all, ignore_index=True)\n",
      "/tmp/ipykernel_1731/2025906423.py:84: FutureWarning: The frame.append method is deprecated and will be removed from pandas in a future version. Use pandas.concat instead.\n",
      "  df = df.append(df_all, ignore_index=True)\n",
      "/tmp/ipykernel_1731/2025906423.py:84: FutureWarning: The frame.append method is deprecated and will be removed from pandas in a future version. Use pandas.concat instead.\n",
      "  df = df.append(df_all, ignore_index=True)\n",
      "/tmp/ipykernel_1731/2025906423.py:84: FutureWarning: The frame.append method is deprecated and will be removed from pandas in a future version. Use pandas.concat instead.\n",
      "  df = df.append(df_all, ignore_index=True)\n",
      "/tmp/ipykernel_1731/2025906423.py:84: FutureWarning: The frame.append method is deprecated and will be removed from pandas in a future version. Use pandas.concat instead.\n",
      "  df = df.append(df_all, ignore_index=True)\n",
      "/tmp/ipykernel_1731/2025906423.py:84: FutureWarning: The frame.append method is deprecated and will be removed from pandas in a future version. Use pandas.concat instead.\n",
      "  df = df.append(df_all, ignore_index=True)\n",
      "/tmp/ipykernel_1731/2025906423.py:84: FutureWarning: The frame.append method is deprecated and will be removed from pandas in a future version. Use pandas.concat instead.\n",
      "  df = df.append(df_all, ignore_index=True)\n",
      "/tmp/ipykernel_1731/2025906423.py:84: FutureWarning: The frame.append method is deprecated and will be removed from pandas in a future version. Use pandas.concat instead.\n",
      "  df = df.append(df_all, ignore_index=True)\n",
      "/tmp/ipykernel_1731/2025906423.py:84: FutureWarning: The frame.append method is deprecated and will be removed from pandas in a future version. Use pandas.concat instead.\n",
      "  df = df.append(df_all, ignore_index=True)\n",
      "/tmp/ipykernel_1731/2025906423.py:84: FutureWarning: The frame.append method is deprecated and will be removed from pandas in a future version. Use pandas.concat instead.\n",
      "  df = df.append(df_all, ignore_index=True)\n",
      "/tmp/ipykernel_1731/2025906423.py:84: FutureWarning: The frame.append method is deprecated and will be removed from pandas in a future version. Use pandas.concat instead.\n",
      "  df = df.append(df_all, ignore_index=True)\n",
      "/tmp/ipykernel_1731/2025906423.py:84: FutureWarning: The frame.append method is deprecated and will be removed from pandas in a future version. Use pandas.concat instead.\n",
      "  df = df.append(df_all, ignore_index=True)\n",
      "/tmp/ipykernel_1731/2025906423.py:84: FutureWarning: The frame.append method is deprecated and will be removed from pandas in a future version. Use pandas.concat instead.\n",
      "  df = df.append(df_all, ignore_index=True)\n",
      "/tmp/ipykernel_1731/2025906423.py:84: FutureWarning: The frame.append method is deprecated and will be removed from pandas in a future version. Use pandas.concat instead.\n",
      "  df = df.append(df_all, ignore_index=True)\n",
      "/tmp/ipykernel_1731/2025906423.py:84: FutureWarning: The frame.append method is deprecated and will be removed from pandas in a future version. Use pandas.concat instead.\n",
      "  df = df.append(df_all, ignore_index=True)\n",
      "/tmp/ipykernel_1731/2025906423.py:84: FutureWarning: The frame.append method is deprecated and will be removed from pandas in a future version. Use pandas.concat instead.\n",
      "  df = df.append(df_all, ignore_index=True)\n"
     ]
    },
    {
     "name": "stderr",
     "output_type": "stream",
     "text": [
      "/tmp/ipykernel_1731/2025906423.py:84: FutureWarning: The frame.append method is deprecated and will be removed from pandas in a future version. Use pandas.concat instead.\n",
      "  df = df.append(df_all, ignore_index=True)\n",
      "/tmp/ipykernel_1731/2025906423.py:84: FutureWarning: The frame.append method is deprecated and will be removed from pandas in a future version. Use pandas.concat instead.\n",
      "  df = df.append(df_all, ignore_index=True)\n",
      "/tmp/ipykernel_1731/2025906423.py:84: FutureWarning: The frame.append method is deprecated and will be removed from pandas in a future version. Use pandas.concat instead.\n",
      "  df = df.append(df_all, ignore_index=True)\n",
      "/tmp/ipykernel_1731/2025906423.py:84: FutureWarning: The frame.append method is deprecated and will be removed from pandas in a future version. Use pandas.concat instead.\n",
      "  df = df.append(df_all, ignore_index=True)\n",
      "/tmp/ipykernel_1731/2025906423.py:84: FutureWarning: The frame.append method is deprecated and will be removed from pandas in a future version. Use pandas.concat instead.\n",
      "  df = df.append(df_all, ignore_index=True)\n",
      "/tmp/ipykernel_1731/2025906423.py:84: FutureWarning: The frame.append method is deprecated and will be removed from pandas in a future version. Use pandas.concat instead.\n",
      "  df = df.append(df_all, ignore_index=True)\n",
      "/tmp/ipykernel_1731/2025906423.py:84: FutureWarning: The frame.append method is deprecated and will be removed from pandas in a future version. Use pandas.concat instead.\n",
      "  df = df.append(df_all, ignore_index=True)\n",
      "/tmp/ipykernel_1731/2025906423.py:84: FutureWarning: The frame.append method is deprecated and will be removed from pandas in a future version. Use pandas.concat instead.\n",
      "  df = df.append(df_all, ignore_index=True)\n",
      "/tmp/ipykernel_1731/2025906423.py:84: FutureWarning: The frame.append method is deprecated and will be removed from pandas in a future version. Use pandas.concat instead.\n",
      "  df = df.append(df_all, ignore_index=True)\n",
      "/tmp/ipykernel_1731/2025906423.py:84: FutureWarning: The frame.append method is deprecated and will be removed from pandas in a future version. Use pandas.concat instead.\n",
      "  df = df.append(df_all, ignore_index=True)\n",
      "/tmp/ipykernel_1731/2025906423.py:84: FutureWarning: The frame.append method is deprecated and will be removed from pandas in a future version. Use pandas.concat instead.\n",
      "  df = df.append(df_all, ignore_index=True)\n",
      "/tmp/ipykernel_1731/2025906423.py:84: FutureWarning: The frame.append method is deprecated and will be removed from pandas in a future version. Use pandas.concat instead.\n",
      "  df = df.append(df_all, ignore_index=True)\n",
      "/tmp/ipykernel_1731/2025906423.py:84: FutureWarning: The frame.append method is deprecated and will be removed from pandas in a future version. Use pandas.concat instead.\n",
      "  df = df.append(df_all, ignore_index=True)\n",
      "/tmp/ipykernel_1731/2025906423.py:84: FutureWarning: The frame.append method is deprecated and will be removed from pandas in a future version. Use pandas.concat instead.\n",
      "  df = df.append(df_all, ignore_index=True)\n",
      "/tmp/ipykernel_1731/2025906423.py:84: FutureWarning: The frame.append method is deprecated and will be removed from pandas in a future version. Use pandas.concat instead.\n",
      "  df = df.append(df_all, ignore_index=True)\n",
      "/tmp/ipykernel_1731/2025906423.py:84: FutureWarning: The frame.append method is deprecated and will be removed from pandas in a future version. Use pandas.concat instead.\n",
      "  df = df.append(df_all, ignore_index=True)\n",
      "/tmp/ipykernel_1731/2025906423.py:84: FutureWarning: The frame.append method is deprecated and will be removed from pandas in a future version. Use pandas.concat instead.\n",
      "  df = df.append(df_all, ignore_index=True)\n",
      "/tmp/ipykernel_1731/2025906423.py:84: FutureWarning: The frame.append method is deprecated and will be removed from pandas in a future version. Use pandas.concat instead.\n",
      "  df = df.append(df_all, ignore_index=True)\n",
      "/tmp/ipykernel_1731/2025906423.py:84: FutureWarning: The frame.append method is deprecated and will be removed from pandas in a future version. Use pandas.concat instead.\n",
      "  df = df.append(df_all, ignore_index=True)\n",
      "/tmp/ipykernel_1731/2025906423.py:84: FutureWarning: The frame.append method is deprecated and will be removed from pandas in a future version. Use pandas.concat instead.\n",
      "  df = df.append(df_all, ignore_index=True)\n",
      "/tmp/ipykernel_1731/2025906423.py:84: FutureWarning: The frame.append method is deprecated and will be removed from pandas in a future version. Use pandas.concat instead.\n",
      "  df = df.append(df_all, ignore_index=True)\n",
      "/tmp/ipykernel_1731/2025906423.py:84: FutureWarning: The frame.append method is deprecated and will be removed from pandas in a future version. Use pandas.concat instead.\n",
      "  df = df.append(df_all, ignore_index=True)\n",
      "/tmp/ipykernel_1731/2025906423.py:84: FutureWarning: The frame.append method is deprecated and will be removed from pandas in a future version. Use pandas.concat instead.\n",
      "  df = df.append(df_all, ignore_index=True)\n",
      "/tmp/ipykernel_1731/2025906423.py:84: FutureWarning: The frame.append method is deprecated and will be removed from pandas in a future version. Use pandas.concat instead.\n",
      "  df = df.append(df_all, ignore_index=True)\n",
      "/tmp/ipykernel_1731/2025906423.py:84: FutureWarning: The frame.append method is deprecated and will be removed from pandas in a future version. Use pandas.concat instead.\n",
      "  df = df.append(df_all, ignore_index=True)\n",
      "/tmp/ipykernel_1731/2025906423.py:84: FutureWarning: The frame.append method is deprecated and will be removed from pandas in a future version. Use pandas.concat instead.\n",
      "  df = df.append(df_all, ignore_index=True)\n",
      "/tmp/ipykernel_1731/2025906423.py:84: FutureWarning: The frame.append method is deprecated and will be removed from pandas in a future version. Use pandas.concat instead.\n",
      "  df = df.append(df_all, ignore_index=True)\n",
      "/tmp/ipykernel_1731/2025906423.py:84: FutureWarning: The frame.append method is deprecated and will be removed from pandas in a future version. Use pandas.concat instead.\n",
      "  df = df.append(df_all, ignore_index=True)\n",
      "/tmp/ipykernel_1731/2025906423.py:84: FutureWarning: The frame.append method is deprecated and will be removed from pandas in a future version. Use pandas.concat instead.\n",
      "  df = df.append(df_all, ignore_index=True)\n",
      "/tmp/ipykernel_1731/2025906423.py:84: FutureWarning: The frame.append method is deprecated and will be removed from pandas in a future version. Use pandas.concat instead.\n",
      "  df = df.append(df_all, ignore_index=True)\n",
      "/tmp/ipykernel_1731/2025906423.py:84: FutureWarning: The frame.append method is deprecated and will be removed from pandas in a future version. Use pandas.concat instead.\n",
      "  df = df.append(df_all, ignore_index=True)\n",
      "/tmp/ipykernel_1731/2025906423.py:84: FutureWarning: The frame.append method is deprecated and will be removed from pandas in a future version. Use pandas.concat instead.\n",
      "  df = df.append(df_all, ignore_index=True)\n",
      "/tmp/ipykernel_1731/2025906423.py:84: FutureWarning: The frame.append method is deprecated and will be removed from pandas in a future version. Use pandas.concat instead.\n",
      "  df = df.append(df_all, ignore_index=True)\n",
      "/tmp/ipykernel_1731/2025906423.py:84: FutureWarning: The frame.append method is deprecated and will be removed from pandas in a future version. Use pandas.concat instead.\n",
      "  df = df.append(df_all, ignore_index=True)\n",
      "/tmp/ipykernel_1731/2025906423.py:84: FutureWarning: The frame.append method is deprecated and will be removed from pandas in a future version. Use pandas.concat instead.\n",
      "  df = df.append(df_all, ignore_index=True)\n",
      "/tmp/ipykernel_1731/2025906423.py:84: FutureWarning: The frame.append method is deprecated and will be removed from pandas in a future version. Use pandas.concat instead.\n",
      "  df = df.append(df_all, ignore_index=True)\n",
      "/tmp/ipykernel_1731/2025906423.py:84: FutureWarning: The frame.append method is deprecated and will be removed from pandas in a future version. Use pandas.concat instead.\n",
      "  df = df.append(df_all, ignore_index=True)\n",
      "/tmp/ipykernel_1731/2025906423.py:84: FutureWarning: The frame.append method is deprecated and will be removed from pandas in a future version. Use pandas.concat instead.\n",
      "  df = df.append(df_all, ignore_index=True)\n",
      "/tmp/ipykernel_1731/2025906423.py:84: FutureWarning: The frame.append method is deprecated and will be removed from pandas in a future version. Use pandas.concat instead.\n",
      "  df = df.append(df_all, ignore_index=True)\n"
     ]
    },
    {
     "name": "stderr",
     "output_type": "stream",
     "text": [
      "/tmp/ipykernel_1731/2025906423.py:84: FutureWarning: The frame.append method is deprecated and will be removed from pandas in a future version. Use pandas.concat instead.\n",
      "  df = df.append(df_all, ignore_index=True)\n",
      "/tmp/ipykernel_1731/2025906423.py:84: FutureWarning: The frame.append method is deprecated and will be removed from pandas in a future version. Use pandas.concat instead.\n",
      "  df = df.append(df_all, ignore_index=True)\n",
      "/tmp/ipykernel_1731/2025906423.py:84: FutureWarning: The frame.append method is deprecated and will be removed from pandas in a future version. Use pandas.concat instead.\n",
      "  df = df.append(df_all, ignore_index=True)\n",
      "/tmp/ipykernel_1731/2025906423.py:84: FutureWarning: The frame.append method is deprecated and will be removed from pandas in a future version. Use pandas.concat instead.\n",
      "  df = df.append(df_all, ignore_index=True)\n",
      "/tmp/ipykernel_1731/2025906423.py:84: FutureWarning: The frame.append method is deprecated and will be removed from pandas in a future version. Use pandas.concat instead.\n",
      "  df = df.append(df_all, ignore_index=True)\n",
      "/tmp/ipykernel_1731/2025906423.py:84: FutureWarning: The frame.append method is deprecated and will be removed from pandas in a future version. Use pandas.concat instead.\n",
      "  df = df.append(df_all, ignore_index=True)\n",
      "/tmp/ipykernel_1731/2025906423.py:84: FutureWarning: The frame.append method is deprecated and will be removed from pandas in a future version. Use pandas.concat instead.\n",
      "  df = df.append(df_all, ignore_index=True)\n",
      "/tmp/ipykernel_1731/2025906423.py:84: FutureWarning: The frame.append method is deprecated and will be removed from pandas in a future version. Use pandas.concat instead.\n",
      "  df = df.append(df_all, ignore_index=True)\n",
      "/tmp/ipykernel_1731/2025906423.py:84: FutureWarning: The frame.append method is deprecated and will be removed from pandas in a future version. Use pandas.concat instead.\n",
      "  df = df.append(df_all, ignore_index=True)\n",
      "/tmp/ipykernel_1731/2025906423.py:84: FutureWarning: The frame.append method is deprecated and will be removed from pandas in a future version. Use pandas.concat instead.\n",
      "  df = df.append(df_all, ignore_index=True)\n",
      "/tmp/ipykernel_1731/2025906423.py:84: FutureWarning: The frame.append method is deprecated and will be removed from pandas in a future version. Use pandas.concat instead.\n",
      "  df = df.append(df_all, ignore_index=True)\n",
      "/tmp/ipykernel_1731/2025906423.py:84: FutureWarning: The frame.append method is deprecated and will be removed from pandas in a future version. Use pandas.concat instead.\n",
      "  df = df.append(df_all, ignore_index=True)\n",
      "/tmp/ipykernel_1731/2025906423.py:84: FutureWarning: The frame.append method is deprecated and will be removed from pandas in a future version. Use pandas.concat instead.\n",
      "  df = df.append(df_all, ignore_index=True)\n",
      "/tmp/ipykernel_1731/2025906423.py:84: FutureWarning: The frame.append method is deprecated and will be removed from pandas in a future version. Use pandas.concat instead.\n",
      "  df = df.append(df_all, ignore_index=True)\n",
      "/tmp/ipykernel_1731/2025906423.py:84: FutureWarning: The frame.append method is deprecated and will be removed from pandas in a future version. Use pandas.concat instead.\n",
      "  df = df.append(df_all, ignore_index=True)\n",
      "/tmp/ipykernel_1731/2025906423.py:84: FutureWarning: The frame.append method is deprecated and will be removed from pandas in a future version. Use pandas.concat instead.\n",
      "  df = df.append(df_all, ignore_index=True)\n",
      "/tmp/ipykernel_1731/2025906423.py:84: FutureWarning: The frame.append method is deprecated and will be removed from pandas in a future version. Use pandas.concat instead.\n",
      "  df = df.append(df_all, ignore_index=True)\n",
      "/tmp/ipykernel_1731/2025906423.py:84: FutureWarning: The frame.append method is deprecated and will be removed from pandas in a future version. Use pandas.concat instead.\n",
      "  df = df.append(df_all, ignore_index=True)\n",
      "/tmp/ipykernel_1731/2025906423.py:84: FutureWarning: The frame.append method is deprecated and will be removed from pandas in a future version. Use pandas.concat instead.\n",
      "  df = df.append(df_all, ignore_index=True)\n",
      "/tmp/ipykernel_1731/2025906423.py:84: FutureWarning: The frame.append method is deprecated and will be removed from pandas in a future version. Use pandas.concat instead.\n",
      "  df = df.append(df_all, ignore_index=True)\n",
      "/tmp/ipykernel_1731/2025906423.py:84: FutureWarning: The frame.append method is deprecated and will be removed from pandas in a future version. Use pandas.concat instead.\n",
      "  df = df.append(df_all, ignore_index=True)\n",
      "/tmp/ipykernel_1731/2025906423.py:84: FutureWarning: The frame.append method is deprecated and will be removed from pandas in a future version. Use pandas.concat instead.\n",
      "  df = df.append(df_all, ignore_index=True)\n",
      "/tmp/ipykernel_1731/2025906423.py:84: FutureWarning: The frame.append method is deprecated and will be removed from pandas in a future version. Use pandas.concat instead.\n",
      "  df = df.append(df_all, ignore_index=True)\n",
      "/tmp/ipykernel_1731/2025906423.py:84: FutureWarning: The frame.append method is deprecated and will be removed from pandas in a future version. Use pandas.concat instead.\n",
      "  df = df.append(df_all, ignore_index=True)\n",
      "/tmp/ipykernel_1731/2025906423.py:84: FutureWarning: The frame.append method is deprecated and will be removed from pandas in a future version. Use pandas.concat instead.\n",
      "  df = df.append(df_all, ignore_index=True)\n",
      "/tmp/ipykernel_1731/2025906423.py:84: FutureWarning: The frame.append method is deprecated and will be removed from pandas in a future version. Use pandas.concat instead.\n",
      "  df = df.append(df_all, ignore_index=True)\n",
      "/tmp/ipykernel_1731/2025906423.py:84: FutureWarning: The frame.append method is deprecated and will be removed from pandas in a future version. Use pandas.concat instead.\n",
      "  df = df.append(df_all, ignore_index=True)\n",
      "/tmp/ipykernel_1731/2025906423.py:84: FutureWarning: The frame.append method is deprecated and will be removed from pandas in a future version. Use pandas.concat instead.\n",
      "  df = df.append(df_all, ignore_index=True)\n",
      "/tmp/ipykernel_1731/2025906423.py:84: FutureWarning: The frame.append method is deprecated and will be removed from pandas in a future version. Use pandas.concat instead.\n",
      "  df = df.append(df_all, ignore_index=True)\n",
      "/tmp/ipykernel_1731/2025906423.py:84: FutureWarning: The frame.append method is deprecated and will be removed from pandas in a future version. Use pandas.concat instead.\n",
      "  df = df.append(df_all, ignore_index=True)\n",
      "/tmp/ipykernel_1731/2025906423.py:84: FutureWarning: The frame.append method is deprecated and will be removed from pandas in a future version. Use pandas.concat instead.\n",
      "  df = df.append(df_all, ignore_index=True)\n",
      "/tmp/ipykernel_1731/2025906423.py:84: FutureWarning: The frame.append method is deprecated and will be removed from pandas in a future version. Use pandas.concat instead.\n",
      "  df = df.append(df_all, ignore_index=True)\n",
      "/tmp/ipykernel_1731/2025906423.py:84: FutureWarning: The frame.append method is deprecated and will be removed from pandas in a future version. Use pandas.concat instead.\n",
      "  df = df.append(df_all, ignore_index=True)\n",
      "/tmp/ipykernel_1731/2025906423.py:84: FutureWarning: The frame.append method is deprecated and will be removed from pandas in a future version. Use pandas.concat instead.\n",
      "  df = df.append(df_all, ignore_index=True)\n",
      "/tmp/ipykernel_1731/2025906423.py:84: FutureWarning: The frame.append method is deprecated and will be removed from pandas in a future version. Use pandas.concat instead.\n",
      "  df = df.append(df_all, ignore_index=True)\n",
      "/tmp/ipykernel_1731/2025906423.py:84: FutureWarning: The frame.append method is deprecated and will be removed from pandas in a future version. Use pandas.concat instead.\n",
      "  df = df.append(df_all, ignore_index=True)\n",
      "/tmp/ipykernel_1731/2025906423.py:84: FutureWarning: The frame.append method is deprecated and will be removed from pandas in a future version. Use pandas.concat instead.\n",
      "  df = df.append(df_all, ignore_index=True)\n",
      "/tmp/ipykernel_1731/2025906423.py:84: FutureWarning: The frame.append method is deprecated and will be removed from pandas in a future version. Use pandas.concat instead.\n",
      "  df = df.append(df_all, ignore_index=True)\n",
      "/tmp/ipykernel_1731/2025906423.py:84: FutureWarning: The frame.append method is deprecated and will be removed from pandas in a future version. Use pandas.concat instead.\n",
      "  df = df.append(df_all, ignore_index=True)\n"
     ]
    },
    {
     "name": "stderr",
     "output_type": "stream",
     "text": [
      "/tmp/ipykernel_1731/2025906423.py:84: FutureWarning: The frame.append method is deprecated and will be removed from pandas in a future version. Use pandas.concat instead.\n",
      "  df = df.append(df_all, ignore_index=True)\n",
      "/tmp/ipykernel_1731/2025906423.py:84: FutureWarning: The frame.append method is deprecated and will be removed from pandas in a future version. Use pandas.concat instead.\n",
      "  df = df.append(df_all, ignore_index=True)\n",
      "/tmp/ipykernel_1731/2025906423.py:84: FutureWarning: The frame.append method is deprecated and will be removed from pandas in a future version. Use pandas.concat instead.\n",
      "  df = df.append(df_all, ignore_index=True)\n",
      "/tmp/ipykernel_1731/2025906423.py:84: FutureWarning: The frame.append method is deprecated and will be removed from pandas in a future version. Use pandas.concat instead.\n",
      "  df = df.append(df_all, ignore_index=True)\n",
      "/tmp/ipykernel_1731/2025906423.py:84: FutureWarning: The frame.append method is deprecated and will be removed from pandas in a future version. Use pandas.concat instead.\n",
      "  df = df.append(df_all, ignore_index=True)\n",
      "/tmp/ipykernel_1731/2025906423.py:84: FutureWarning: The frame.append method is deprecated and will be removed from pandas in a future version. Use pandas.concat instead.\n",
      "  df = df.append(df_all, ignore_index=True)\n",
      "/tmp/ipykernel_1731/2025906423.py:84: FutureWarning: The frame.append method is deprecated and will be removed from pandas in a future version. Use pandas.concat instead.\n",
      "  df = df.append(df_all, ignore_index=True)\n",
      "/tmp/ipykernel_1731/2025906423.py:84: FutureWarning: The frame.append method is deprecated and will be removed from pandas in a future version. Use pandas.concat instead.\n",
      "  df = df.append(df_all, ignore_index=True)\n",
      "/tmp/ipykernel_1731/2025906423.py:84: FutureWarning: The frame.append method is deprecated and will be removed from pandas in a future version. Use pandas.concat instead.\n",
      "  df = df.append(df_all, ignore_index=True)\n",
      "/tmp/ipykernel_1731/2025906423.py:84: FutureWarning: The frame.append method is deprecated and will be removed from pandas in a future version. Use pandas.concat instead.\n",
      "  df = df.append(df_all, ignore_index=True)\n",
      "/tmp/ipykernel_1731/2025906423.py:84: FutureWarning: The frame.append method is deprecated and will be removed from pandas in a future version. Use pandas.concat instead.\n",
      "  df = df.append(df_all, ignore_index=True)\n",
      "/tmp/ipykernel_1731/2025906423.py:84: FutureWarning: The frame.append method is deprecated and will be removed from pandas in a future version. Use pandas.concat instead.\n",
      "  df = df.append(df_all, ignore_index=True)\n",
      "/tmp/ipykernel_1731/2025906423.py:84: FutureWarning: The frame.append method is deprecated and will be removed from pandas in a future version. Use pandas.concat instead.\n",
      "  df = df.append(df_all, ignore_index=True)\n",
      "/tmp/ipykernel_1731/2025906423.py:84: FutureWarning: The frame.append method is deprecated and will be removed from pandas in a future version. Use pandas.concat instead.\n",
      "  df = df.append(df_all, ignore_index=True)\n",
      "/tmp/ipykernel_1731/2025906423.py:84: FutureWarning: The frame.append method is deprecated and will be removed from pandas in a future version. Use pandas.concat instead.\n",
      "  df = df.append(df_all, ignore_index=True)\n",
      "/tmp/ipykernel_1731/2025906423.py:84: FutureWarning: The frame.append method is deprecated and will be removed from pandas in a future version. Use pandas.concat instead.\n",
      "  df = df.append(df_all, ignore_index=True)\n",
      "/tmp/ipykernel_1731/2025906423.py:84: FutureWarning: The frame.append method is deprecated and will be removed from pandas in a future version. Use pandas.concat instead.\n",
      "  df = df.append(df_all, ignore_index=True)\n",
      "/tmp/ipykernel_1731/2025906423.py:84: FutureWarning: The frame.append method is deprecated and will be removed from pandas in a future version. Use pandas.concat instead.\n",
      "  df = df.append(df_all, ignore_index=True)\n",
      "/tmp/ipykernel_1731/2025906423.py:84: FutureWarning: The frame.append method is deprecated and will be removed from pandas in a future version. Use pandas.concat instead.\n",
      "  df = df.append(df_all, ignore_index=True)\n",
      "/tmp/ipykernel_1731/2025906423.py:84: FutureWarning: The frame.append method is deprecated and will be removed from pandas in a future version. Use pandas.concat instead.\n",
      "  df = df.append(df_all, ignore_index=True)\n",
      "/tmp/ipykernel_1731/2025906423.py:84: FutureWarning: The frame.append method is deprecated and will be removed from pandas in a future version. Use pandas.concat instead.\n",
      "  df = df.append(df_all, ignore_index=True)\n",
      "/tmp/ipykernel_1731/2025906423.py:84: FutureWarning: The frame.append method is deprecated and will be removed from pandas in a future version. Use pandas.concat instead.\n",
      "  df = df.append(df_all, ignore_index=True)\n",
      "/tmp/ipykernel_1731/2025906423.py:84: FutureWarning: The frame.append method is deprecated and will be removed from pandas in a future version. Use pandas.concat instead.\n",
      "  df = df.append(df_all, ignore_index=True)\n",
      "/tmp/ipykernel_1731/2025906423.py:84: FutureWarning: The frame.append method is deprecated and will be removed from pandas in a future version. Use pandas.concat instead.\n",
      "  df = df.append(df_all, ignore_index=True)\n",
      "/tmp/ipykernel_1731/2025906423.py:84: FutureWarning: The frame.append method is deprecated and will be removed from pandas in a future version. Use pandas.concat instead.\n",
      "  df = df.append(df_all, ignore_index=True)\n",
      "/tmp/ipykernel_1731/2025906423.py:84: FutureWarning: The frame.append method is deprecated and will be removed from pandas in a future version. Use pandas.concat instead.\n",
      "  df = df.append(df_all, ignore_index=True)\n",
      "/tmp/ipykernel_1731/2025906423.py:84: FutureWarning: The frame.append method is deprecated and will be removed from pandas in a future version. Use pandas.concat instead.\n",
      "  df = df.append(df_all, ignore_index=True)\n",
      "/tmp/ipykernel_1731/2025906423.py:84: FutureWarning: The frame.append method is deprecated and will be removed from pandas in a future version. Use pandas.concat instead.\n",
      "  df = df.append(df_all, ignore_index=True)\n",
      "/tmp/ipykernel_1731/2025906423.py:84: FutureWarning: The frame.append method is deprecated and will be removed from pandas in a future version. Use pandas.concat instead.\n",
      "  df = df.append(df_all, ignore_index=True)\n",
      "/tmp/ipykernel_1731/2025906423.py:84: FutureWarning: The frame.append method is deprecated and will be removed from pandas in a future version. Use pandas.concat instead.\n",
      "  df = df.append(df_all, ignore_index=True)\n",
      "/tmp/ipykernel_1731/2025906423.py:84: FutureWarning: The frame.append method is deprecated and will be removed from pandas in a future version. Use pandas.concat instead.\n",
      "  df = df.append(df_all, ignore_index=True)\n",
      "/tmp/ipykernel_1731/2025906423.py:84: FutureWarning: The frame.append method is deprecated and will be removed from pandas in a future version. Use pandas.concat instead.\n",
      "  df = df.append(df_all, ignore_index=True)\n",
      "/tmp/ipykernel_1731/2025906423.py:84: FutureWarning: The frame.append method is deprecated and will be removed from pandas in a future version. Use pandas.concat instead.\n",
      "  df = df.append(df_all, ignore_index=True)\n",
      "/tmp/ipykernel_1731/2025906423.py:84: FutureWarning: The frame.append method is deprecated and will be removed from pandas in a future version. Use pandas.concat instead.\n",
      "  df = df.append(df_all, ignore_index=True)\n",
      "/tmp/ipykernel_1731/2025906423.py:84: FutureWarning: The frame.append method is deprecated and will be removed from pandas in a future version. Use pandas.concat instead.\n",
      "  df = df.append(df_all, ignore_index=True)\n",
      "/tmp/ipykernel_1731/2025906423.py:84: FutureWarning: The frame.append method is deprecated and will be removed from pandas in a future version. Use pandas.concat instead.\n",
      "  df = df.append(df_all, ignore_index=True)\n",
      "/tmp/ipykernel_1731/2025906423.py:84: FutureWarning: The frame.append method is deprecated and will be removed from pandas in a future version. Use pandas.concat instead.\n",
      "  df = df.append(df_all, ignore_index=True)\n",
      "/tmp/ipykernel_1731/2025906423.py:84: FutureWarning: The frame.append method is deprecated and will be removed from pandas in a future version. Use pandas.concat instead.\n",
      "  df = df.append(df_all, ignore_index=True)\n",
      "/tmp/ipykernel_1731/2025906423.py:84: FutureWarning: The frame.append method is deprecated and will be removed from pandas in a future version. Use pandas.concat instead.\n",
      "  df = df.append(df_all, ignore_index=True)\n"
     ]
    },
    {
     "name": "stderr",
     "output_type": "stream",
     "text": [
      "/tmp/ipykernel_1731/2025906423.py:84: FutureWarning: The frame.append method is deprecated and will be removed from pandas in a future version. Use pandas.concat instead.\n",
      "  df = df.append(df_all, ignore_index=True)\n",
      "/tmp/ipykernel_1731/2025906423.py:84: FutureWarning: The frame.append method is deprecated and will be removed from pandas in a future version. Use pandas.concat instead.\n",
      "  df = df.append(df_all, ignore_index=True)\n",
      "/tmp/ipykernel_1731/2025906423.py:84: FutureWarning: The frame.append method is deprecated and will be removed from pandas in a future version. Use pandas.concat instead.\n",
      "  df = df.append(df_all, ignore_index=True)\n",
      "/tmp/ipykernel_1731/2025906423.py:84: FutureWarning: The frame.append method is deprecated and will be removed from pandas in a future version. Use pandas.concat instead.\n",
      "  df = df.append(df_all, ignore_index=True)\n",
      "/tmp/ipykernel_1731/2025906423.py:84: FutureWarning: The frame.append method is deprecated and will be removed from pandas in a future version. Use pandas.concat instead.\n",
      "  df = df.append(df_all, ignore_index=True)\n",
      "/tmp/ipykernel_1731/2025906423.py:84: FutureWarning: The frame.append method is deprecated and will be removed from pandas in a future version. Use pandas.concat instead.\n",
      "  df = df.append(df_all, ignore_index=True)\n",
      "/tmp/ipykernel_1731/2025906423.py:84: FutureWarning: The frame.append method is deprecated and will be removed from pandas in a future version. Use pandas.concat instead.\n",
      "  df = df.append(df_all, ignore_index=True)\n",
      "/tmp/ipykernel_1731/2025906423.py:84: FutureWarning: The frame.append method is deprecated and will be removed from pandas in a future version. Use pandas.concat instead.\n",
      "  df = df.append(df_all, ignore_index=True)\n",
      "/tmp/ipykernel_1731/2025906423.py:84: FutureWarning: The frame.append method is deprecated and will be removed from pandas in a future version. Use pandas.concat instead.\n",
      "  df = df.append(df_all, ignore_index=True)\n",
      "/tmp/ipykernel_1731/2025906423.py:84: FutureWarning: The frame.append method is deprecated and will be removed from pandas in a future version. Use pandas.concat instead.\n",
      "  df = df.append(df_all, ignore_index=True)\n",
      "/tmp/ipykernel_1731/2025906423.py:84: FutureWarning: The frame.append method is deprecated and will be removed from pandas in a future version. Use pandas.concat instead.\n",
      "  df = df.append(df_all, ignore_index=True)\n",
      "/tmp/ipykernel_1731/2025906423.py:84: FutureWarning: The frame.append method is deprecated and will be removed from pandas in a future version. Use pandas.concat instead.\n",
      "  df = df.append(df_all, ignore_index=True)\n",
      "/tmp/ipykernel_1731/2025906423.py:84: FutureWarning: The frame.append method is deprecated and will be removed from pandas in a future version. Use pandas.concat instead.\n",
      "  df = df.append(df_all, ignore_index=True)\n",
      "/tmp/ipykernel_1731/2025906423.py:84: FutureWarning: The frame.append method is deprecated and will be removed from pandas in a future version. Use pandas.concat instead.\n",
      "  df = df.append(df_all, ignore_index=True)\n",
      "/tmp/ipykernel_1731/2025906423.py:84: FutureWarning: The frame.append method is deprecated and will be removed from pandas in a future version. Use pandas.concat instead.\n",
      "  df = df.append(df_all, ignore_index=True)\n",
      "/tmp/ipykernel_1731/2025906423.py:84: FutureWarning: The frame.append method is deprecated and will be removed from pandas in a future version. Use pandas.concat instead.\n",
      "  df = df.append(df_all, ignore_index=True)\n",
      "/tmp/ipykernel_1731/2025906423.py:84: FutureWarning: The frame.append method is deprecated and will be removed from pandas in a future version. Use pandas.concat instead.\n",
      "  df = df.append(df_all, ignore_index=True)\n",
      "/tmp/ipykernel_1731/2025906423.py:84: FutureWarning: The frame.append method is deprecated and will be removed from pandas in a future version. Use pandas.concat instead.\n",
      "  df = df.append(df_all, ignore_index=True)\n",
      "/tmp/ipykernel_1731/2025906423.py:84: FutureWarning: The frame.append method is deprecated and will be removed from pandas in a future version. Use pandas.concat instead.\n",
      "  df = df.append(df_all, ignore_index=True)\n",
      "/tmp/ipykernel_1731/2025906423.py:84: FutureWarning: The frame.append method is deprecated and will be removed from pandas in a future version. Use pandas.concat instead.\n",
      "  df = df.append(df_all, ignore_index=True)\n",
      "/tmp/ipykernel_1731/2025906423.py:84: FutureWarning: The frame.append method is deprecated and will be removed from pandas in a future version. Use pandas.concat instead.\n",
      "  df = df.append(df_all, ignore_index=True)\n",
      "/tmp/ipykernel_1731/2025906423.py:84: FutureWarning: The frame.append method is deprecated and will be removed from pandas in a future version. Use pandas.concat instead.\n",
      "  df = df.append(df_all, ignore_index=True)\n",
      "/tmp/ipykernel_1731/2025906423.py:84: FutureWarning: The frame.append method is deprecated and will be removed from pandas in a future version. Use pandas.concat instead.\n",
      "  df = df.append(df_all, ignore_index=True)\n",
      "/tmp/ipykernel_1731/2025906423.py:84: FutureWarning: The frame.append method is deprecated and will be removed from pandas in a future version. Use pandas.concat instead.\n",
      "  df = df.append(df_all, ignore_index=True)\n",
      "/tmp/ipykernel_1731/2025906423.py:84: FutureWarning: The frame.append method is deprecated and will be removed from pandas in a future version. Use pandas.concat instead.\n",
      "  df = df.append(df_all, ignore_index=True)\n",
      "/tmp/ipykernel_1731/2025906423.py:84: FutureWarning: The frame.append method is deprecated and will be removed from pandas in a future version. Use pandas.concat instead.\n",
      "  df = df.append(df_all, ignore_index=True)\n",
      "/tmp/ipykernel_1731/2025906423.py:84: FutureWarning: The frame.append method is deprecated and will be removed from pandas in a future version. Use pandas.concat instead.\n",
      "  df = df.append(df_all, ignore_index=True)\n",
      "/tmp/ipykernel_1731/2025906423.py:84: FutureWarning: The frame.append method is deprecated and will be removed from pandas in a future version. Use pandas.concat instead.\n",
      "  df = df.append(df_all, ignore_index=True)\n",
      "/tmp/ipykernel_1731/2025906423.py:84: FutureWarning: The frame.append method is deprecated and will be removed from pandas in a future version. Use pandas.concat instead.\n",
      "  df = df.append(df_all, ignore_index=True)\n",
      "/tmp/ipykernel_1731/2025906423.py:84: FutureWarning: The frame.append method is deprecated and will be removed from pandas in a future version. Use pandas.concat instead.\n",
      "  df = df.append(df_all, ignore_index=True)\n",
      "/tmp/ipykernel_1731/2025906423.py:84: FutureWarning: The frame.append method is deprecated and will be removed from pandas in a future version. Use pandas.concat instead.\n",
      "  df = df.append(df_all, ignore_index=True)\n",
      "/tmp/ipykernel_1731/2025906423.py:84: FutureWarning: The frame.append method is deprecated and will be removed from pandas in a future version. Use pandas.concat instead.\n",
      "  df = df.append(df_all, ignore_index=True)\n",
      "/tmp/ipykernel_1731/2025906423.py:84: FutureWarning: The frame.append method is deprecated and will be removed from pandas in a future version. Use pandas.concat instead.\n",
      "  df = df.append(df_all, ignore_index=True)\n",
      "/tmp/ipykernel_1731/2025906423.py:84: FutureWarning: The frame.append method is deprecated and will be removed from pandas in a future version. Use pandas.concat instead.\n",
      "  df = df.append(df_all, ignore_index=True)\n",
      "/tmp/ipykernel_1731/2025906423.py:84: FutureWarning: The frame.append method is deprecated and will be removed from pandas in a future version. Use pandas.concat instead.\n",
      "  df = df.append(df_all, ignore_index=True)\n",
      "/tmp/ipykernel_1731/2025906423.py:84: FutureWarning: The frame.append method is deprecated and will be removed from pandas in a future version. Use pandas.concat instead.\n",
      "  df = df.append(df_all, ignore_index=True)\n",
      "/tmp/ipykernel_1731/2025906423.py:84: FutureWarning: The frame.append method is deprecated and will be removed from pandas in a future version. Use pandas.concat instead.\n",
      "  df = df.append(df_all, ignore_index=True)\n",
      "/tmp/ipykernel_1731/2025906423.py:84: FutureWarning: The frame.append method is deprecated and will be removed from pandas in a future version. Use pandas.concat instead.\n",
      "  df = df.append(df_all, ignore_index=True)\n",
      "/tmp/ipykernel_1731/2025906423.py:84: FutureWarning: The frame.append method is deprecated and will be removed from pandas in a future version. Use pandas.concat instead.\n",
      "  df = df.append(df_all, ignore_index=True)\n"
     ]
    },
    {
     "name": "stderr",
     "output_type": "stream",
     "text": [
      "/tmp/ipykernel_1731/2025906423.py:84: FutureWarning: The frame.append method is deprecated and will be removed from pandas in a future version. Use pandas.concat instead.\n",
      "  df = df.append(df_all, ignore_index=True)\n",
      "/tmp/ipykernel_1731/2025906423.py:84: FutureWarning: The frame.append method is deprecated and will be removed from pandas in a future version. Use pandas.concat instead.\n",
      "  df = df.append(df_all, ignore_index=True)\n",
      "/tmp/ipykernel_1731/2025906423.py:84: FutureWarning: The frame.append method is deprecated and will be removed from pandas in a future version. Use pandas.concat instead.\n",
      "  df = df.append(df_all, ignore_index=True)\n",
      "/tmp/ipykernel_1731/2025906423.py:84: FutureWarning: The frame.append method is deprecated and will be removed from pandas in a future version. Use pandas.concat instead.\n",
      "  df = df.append(df_all, ignore_index=True)\n",
      "/tmp/ipykernel_1731/2025906423.py:84: FutureWarning: The frame.append method is deprecated and will be removed from pandas in a future version. Use pandas.concat instead.\n",
      "  df = df.append(df_all, ignore_index=True)\n",
      "/tmp/ipykernel_1731/2025906423.py:84: FutureWarning: The frame.append method is deprecated and will be removed from pandas in a future version. Use pandas.concat instead.\n",
      "  df = df.append(df_all, ignore_index=True)\n",
      "/tmp/ipykernel_1731/2025906423.py:84: FutureWarning: The frame.append method is deprecated and will be removed from pandas in a future version. Use pandas.concat instead.\n",
      "  df = df.append(df_all, ignore_index=True)\n",
      "/tmp/ipykernel_1731/2025906423.py:84: FutureWarning: The frame.append method is deprecated and will be removed from pandas in a future version. Use pandas.concat instead.\n",
      "  df = df.append(df_all, ignore_index=True)\n",
      "/tmp/ipykernel_1731/2025906423.py:84: FutureWarning: The frame.append method is deprecated and will be removed from pandas in a future version. Use pandas.concat instead.\n",
      "  df = df.append(df_all, ignore_index=True)\n",
      "/tmp/ipykernel_1731/2025906423.py:84: FutureWarning: The frame.append method is deprecated and will be removed from pandas in a future version. Use pandas.concat instead.\n",
      "  df = df.append(df_all, ignore_index=True)\n",
      "/tmp/ipykernel_1731/2025906423.py:84: FutureWarning: The frame.append method is deprecated and will be removed from pandas in a future version. Use pandas.concat instead.\n",
      "  df = df.append(df_all, ignore_index=True)\n",
      "/tmp/ipykernel_1731/2025906423.py:84: FutureWarning: The frame.append method is deprecated and will be removed from pandas in a future version. Use pandas.concat instead.\n",
      "  df = df.append(df_all, ignore_index=True)\n",
      "/tmp/ipykernel_1731/2025906423.py:84: FutureWarning: The frame.append method is deprecated and will be removed from pandas in a future version. Use pandas.concat instead.\n",
      "  df = df.append(df_all, ignore_index=True)\n",
      "/tmp/ipykernel_1731/2025906423.py:84: FutureWarning: The frame.append method is deprecated and will be removed from pandas in a future version. Use pandas.concat instead.\n",
      "  df = df.append(df_all, ignore_index=True)\n",
      "/tmp/ipykernel_1731/2025906423.py:84: FutureWarning: The frame.append method is deprecated and will be removed from pandas in a future version. Use pandas.concat instead.\n",
      "  df = df.append(df_all, ignore_index=True)\n",
      "/tmp/ipykernel_1731/2025906423.py:84: FutureWarning: The frame.append method is deprecated and will be removed from pandas in a future version. Use pandas.concat instead.\n",
      "  df = df.append(df_all, ignore_index=True)\n",
      "/tmp/ipykernel_1731/2025906423.py:84: FutureWarning: The frame.append method is deprecated and will be removed from pandas in a future version. Use pandas.concat instead.\n",
      "  df = df.append(df_all, ignore_index=True)\n",
      "/tmp/ipykernel_1731/2025906423.py:84: FutureWarning: The frame.append method is deprecated and will be removed from pandas in a future version. Use pandas.concat instead.\n",
      "  df = df.append(df_all, ignore_index=True)\n",
      "/tmp/ipykernel_1731/2025906423.py:84: FutureWarning: The frame.append method is deprecated and will be removed from pandas in a future version. Use pandas.concat instead.\n",
      "  df = df.append(df_all, ignore_index=True)\n",
      "/tmp/ipykernel_1731/2025906423.py:84: FutureWarning: The frame.append method is deprecated and will be removed from pandas in a future version. Use pandas.concat instead.\n",
      "  df = df.append(df_all, ignore_index=True)\n",
      "/tmp/ipykernel_1731/2025906423.py:84: FutureWarning: The frame.append method is deprecated and will be removed from pandas in a future version. Use pandas.concat instead.\n",
      "  df = df.append(df_all, ignore_index=True)\n",
      "/tmp/ipykernel_1731/2025906423.py:84: FutureWarning: The frame.append method is deprecated and will be removed from pandas in a future version. Use pandas.concat instead.\n",
      "  df = df.append(df_all, ignore_index=True)\n",
      "/tmp/ipykernel_1731/2025906423.py:84: FutureWarning: The frame.append method is deprecated and will be removed from pandas in a future version. Use pandas.concat instead.\n",
      "  df = df.append(df_all, ignore_index=True)\n",
      "/tmp/ipykernel_1731/2025906423.py:84: FutureWarning: The frame.append method is deprecated and will be removed from pandas in a future version. Use pandas.concat instead.\n",
      "  df = df.append(df_all, ignore_index=True)\n",
      "/tmp/ipykernel_1731/2025906423.py:84: FutureWarning: The frame.append method is deprecated and will be removed from pandas in a future version. Use pandas.concat instead.\n",
      "  df = df.append(df_all, ignore_index=True)\n",
      "/tmp/ipykernel_1731/2025906423.py:84: FutureWarning: The frame.append method is deprecated and will be removed from pandas in a future version. Use pandas.concat instead.\n",
      "  df = df.append(df_all, ignore_index=True)\n",
      "/tmp/ipykernel_1731/2025906423.py:84: FutureWarning: The frame.append method is deprecated and will be removed from pandas in a future version. Use pandas.concat instead.\n",
      "  df = df.append(df_all, ignore_index=True)\n",
      "/tmp/ipykernel_1731/2025906423.py:84: FutureWarning: The frame.append method is deprecated and will be removed from pandas in a future version. Use pandas.concat instead.\n",
      "  df = df.append(df_all, ignore_index=True)\n",
      "/tmp/ipykernel_1731/2025906423.py:84: FutureWarning: The frame.append method is deprecated and will be removed from pandas in a future version. Use pandas.concat instead.\n",
      "  df = df.append(df_all, ignore_index=True)\n",
      "/tmp/ipykernel_1731/2025906423.py:84: FutureWarning: The frame.append method is deprecated and will be removed from pandas in a future version. Use pandas.concat instead.\n",
      "  df = df.append(df_all, ignore_index=True)\n",
      "/tmp/ipykernel_1731/2025906423.py:84: FutureWarning: The frame.append method is deprecated and will be removed from pandas in a future version. Use pandas.concat instead.\n",
      "  df = df.append(df_all, ignore_index=True)\n",
      "/tmp/ipykernel_1731/2025906423.py:84: FutureWarning: The frame.append method is deprecated and will be removed from pandas in a future version. Use pandas.concat instead.\n",
      "  df = df.append(df_all, ignore_index=True)\n",
      "/tmp/ipykernel_1731/2025906423.py:84: FutureWarning: The frame.append method is deprecated and will be removed from pandas in a future version. Use pandas.concat instead.\n",
      "  df = df.append(df_all, ignore_index=True)\n",
      "/tmp/ipykernel_1731/2025906423.py:84: FutureWarning: The frame.append method is deprecated and will be removed from pandas in a future version. Use pandas.concat instead.\n",
      "  df = df.append(df_all, ignore_index=True)\n",
      "/tmp/ipykernel_1731/2025906423.py:84: FutureWarning: The frame.append method is deprecated and will be removed from pandas in a future version. Use pandas.concat instead.\n",
      "  df = df.append(df_all, ignore_index=True)\n",
      "/tmp/ipykernel_1731/2025906423.py:84: FutureWarning: The frame.append method is deprecated and will be removed from pandas in a future version. Use pandas.concat instead.\n",
      "  df = df.append(df_all, ignore_index=True)\n",
      "/tmp/ipykernel_1731/2025906423.py:84: FutureWarning: The frame.append method is deprecated and will be removed from pandas in a future version. Use pandas.concat instead.\n",
      "  df = df.append(df_all, ignore_index=True)\n",
      "/tmp/ipykernel_1731/2025906423.py:84: FutureWarning: The frame.append method is deprecated and will be removed from pandas in a future version. Use pandas.concat instead.\n",
      "  df = df.append(df_all, ignore_index=True)\n",
      "/tmp/ipykernel_1731/2025906423.py:84: FutureWarning: The frame.append method is deprecated and will be removed from pandas in a future version. Use pandas.concat instead.\n",
      "  df = df.append(df_all, ignore_index=True)\n"
     ]
    },
    {
     "name": "stderr",
     "output_type": "stream",
     "text": [
      "/tmp/ipykernel_1731/2025906423.py:84: FutureWarning: The frame.append method is deprecated and will be removed from pandas in a future version. Use pandas.concat instead.\n",
      "  df = df.append(df_all, ignore_index=True)\n",
      "/tmp/ipykernel_1731/2025906423.py:84: FutureWarning: The frame.append method is deprecated and will be removed from pandas in a future version. Use pandas.concat instead.\n",
      "  df = df.append(df_all, ignore_index=True)\n",
      "/tmp/ipykernel_1731/2025906423.py:84: FutureWarning: The frame.append method is deprecated and will be removed from pandas in a future version. Use pandas.concat instead.\n",
      "  df = df.append(df_all, ignore_index=True)\n",
      "/tmp/ipykernel_1731/2025906423.py:84: FutureWarning: The frame.append method is deprecated and will be removed from pandas in a future version. Use pandas.concat instead.\n",
      "  df = df.append(df_all, ignore_index=True)\n",
      "/tmp/ipykernel_1731/2025906423.py:84: FutureWarning: The frame.append method is deprecated and will be removed from pandas in a future version. Use pandas.concat instead.\n",
      "  df = df.append(df_all, ignore_index=True)\n",
      "/tmp/ipykernel_1731/2025906423.py:84: FutureWarning: The frame.append method is deprecated and will be removed from pandas in a future version. Use pandas.concat instead.\n",
      "  df = df.append(df_all, ignore_index=True)\n",
      "/tmp/ipykernel_1731/2025906423.py:84: FutureWarning: The frame.append method is deprecated and will be removed from pandas in a future version. Use pandas.concat instead.\n",
      "  df = df.append(df_all, ignore_index=True)\n",
      "/tmp/ipykernel_1731/2025906423.py:84: FutureWarning: The frame.append method is deprecated and will be removed from pandas in a future version. Use pandas.concat instead.\n",
      "  df = df.append(df_all, ignore_index=True)\n",
      "/tmp/ipykernel_1731/2025906423.py:84: FutureWarning: The frame.append method is deprecated and will be removed from pandas in a future version. Use pandas.concat instead.\n",
      "  df = df.append(df_all, ignore_index=True)\n",
      "/tmp/ipykernel_1731/2025906423.py:84: FutureWarning: The frame.append method is deprecated and will be removed from pandas in a future version. Use pandas.concat instead.\n",
      "  df = df.append(df_all, ignore_index=True)\n",
      "/tmp/ipykernel_1731/2025906423.py:84: FutureWarning: The frame.append method is deprecated and will be removed from pandas in a future version. Use pandas.concat instead.\n",
      "  df = df.append(df_all, ignore_index=True)\n",
      "/tmp/ipykernel_1731/2025906423.py:84: FutureWarning: The frame.append method is deprecated and will be removed from pandas in a future version. Use pandas.concat instead.\n",
      "  df = df.append(df_all, ignore_index=True)\n",
      "/tmp/ipykernel_1731/2025906423.py:84: FutureWarning: The frame.append method is deprecated and will be removed from pandas in a future version. Use pandas.concat instead.\n",
      "  df = df.append(df_all, ignore_index=True)\n",
      "/tmp/ipykernel_1731/2025906423.py:84: FutureWarning: The frame.append method is deprecated and will be removed from pandas in a future version. Use pandas.concat instead.\n",
      "  df = df.append(df_all, ignore_index=True)\n",
      "/tmp/ipykernel_1731/2025906423.py:84: FutureWarning: The frame.append method is deprecated and will be removed from pandas in a future version. Use pandas.concat instead.\n",
      "  df = df.append(df_all, ignore_index=True)\n",
      "/tmp/ipykernel_1731/2025906423.py:84: FutureWarning: The frame.append method is deprecated and will be removed from pandas in a future version. Use pandas.concat instead.\n",
      "  df = df.append(df_all, ignore_index=True)\n",
      "/tmp/ipykernel_1731/2025906423.py:84: FutureWarning: The frame.append method is deprecated and will be removed from pandas in a future version. Use pandas.concat instead.\n",
      "  df = df.append(df_all, ignore_index=True)\n",
      "/tmp/ipykernel_1731/2025906423.py:84: FutureWarning: The frame.append method is deprecated and will be removed from pandas in a future version. Use pandas.concat instead.\n",
      "  df = df.append(df_all, ignore_index=True)\n",
      "/tmp/ipykernel_1731/2025906423.py:84: FutureWarning: The frame.append method is deprecated and will be removed from pandas in a future version. Use pandas.concat instead.\n",
      "  df = df.append(df_all, ignore_index=True)\n",
      "/tmp/ipykernel_1731/2025906423.py:84: FutureWarning: The frame.append method is deprecated and will be removed from pandas in a future version. Use pandas.concat instead.\n",
      "  df = df.append(df_all, ignore_index=True)\n",
      "/tmp/ipykernel_1731/2025906423.py:84: FutureWarning: The frame.append method is deprecated and will be removed from pandas in a future version. Use pandas.concat instead.\n",
      "  df = df.append(df_all, ignore_index=True)\n",
      "/tmp/ipykernel_1731/2025906423.py:84: FutureWarning: The frame.append method is deprecated and will be removed from pandas in a future version. Use pandas.concat instead.\n",
      "  df = df.append(df_all, ignore_index=True)\n",
      "/tmp/ipykernel_1731/2025906423.py:84: FutureWarning: The frame.append method is deprecated and will be removed from pandas in a future version. Use pandas.concat instead.\n",
      "  df = df.append(df_all, ignore_index=True)\n",
      "/tmp/ipykernel_1731/2025906423.py:84: FutureWarning: The frame.append method is deprecated and will be removed from pandas in a future version. Use pandas.concat instead.\n",
      "  df = df.append(df_all, ignore_index=True)\n",
      "/tmp/ipykernel_1731/2025906423.py:84: FutureWarning: The frame.append method is deprecated and will be removed from pandas in a future version. Use pandas.concat instead.\n",
      "  df = df.append(df_all, ignore_index=True)\n",
      "/tmp/ipykernel_1731/2025906423.py:84: FutureWarning: The frame.append method is deprecated and will be removed from pandas in a future version. Use pandas.concat instead.\n",
      "  df = df.append(df_all, ignore_index=True)\n",
      "/tmp/ipykernel_1731/2025906423.py:84: FutureWarning: The frame.append method is deprecated and will be removed from pandas in a future version. Use pandas.concat instead.\n",
      "  df = df.append(df_all, ignore_index=True)\n",
      "/tmp/ipykernel_1731/2025906423.py:84: FutureWarning: The frame.append method is deprecated and will be removed from pandas in a future version. Use pandas.concat instead.\n",
      "  df = df.append(df_all, ignore_index=True)\n",
      "/tmp/ipykernel_1731/2025906423.py:84: FutureWarning: The frame.append method is deprecated and will be removed from pandas in a future version. Use pandas.concat instead.\n",
      "  df = df.append(df_all, ignore_index=True)\n",
      "/tmp/ipykernel_1731/2025906423.py:84: FutureWarning: The frame.append method is deprecated and will be removed from pandas in a future version. Use pandas.concat instead.\n",
      "  df = df.append(df_all, ignore_index=True)\n",
      "/tmp/ipykernel_1731/2025906423.py:84: FutureWarning: The frame.append method is deprecated and will be removed from pandas in a future version. Use pandas.concat instead.\n",
      "  df = df.append(df_all, ignore_index=True)\n",
      "/tmp/ipykernel_1731/2025906423.py:84: FutureWarning: The frame.append method is deprecated and will be removed from pandas in a future version. Use pandas.concat instead.\n",
      "  df = df.append(df_all, ignore_index=True)\n",
      "/tmp/ipykernel_1731/2025906423.py:84: FutureWarning: The frame.append method is deprecated and will be removed from pandas in a future version. Use pandas.concat instead.\n",
      "  df = df.append(df_all, ignore_index=True)\n",
      "/tmp/ipykernel_1731/2025906423.py:84: FutureWarning: The frame.append method is deprecated and will be removed from pandas in a future version. Use pandas.concat instead.\n",
      "  df = df.append(df_all, ignore_index=True)\n",
      "/tmp/ipykernel_1731/2025906423.py:84: FutureWarning: The frame.append method is deprecated and will be removed from pandas in a future version. Use pandas.concat instead.\n",
      "  df = df.append(df_all, ignore_index=True)\n",
      "/tmp/ipykernel_1731/2025906423.py:84: FutureWarning: The frame.append method is deprecated and will be removed from pandas in a future version. Use pandas.concat instead.\n",
      "  df = df.append(df_all, ignore_index=True)\n",
      "/tmp/ipykernel_1731/2025906423.py:84: FutureWarning: The frame.append method is deprecated and will be removed from pandas in a future version. Use pandas.concat instead.\n",
      "  df = df.append(df_all, ignore_index=True)\n",
      "/tmp/ipykernel_1731/2025906423.py:84: FutureWarning: The frame.append method is deprecated and will be removed from pandas in a future version. Use pandas.concat instead.\n",
      "  df = df.append(df_all, ignore_index=True)\n",
      "/tmp/ipykernel_1731/2025906423.py:84: FutureWarning: The frame.append method is deprecated and will be removed from pandas in a future version. Use pandas.concat instead.\n",
      "  df = df.append(df_all, ignore_index=True)\n"
     ]
    },
    {
     "name": "stderr",
     "output_type": "stream",
     "text": [
      "/tmp/ipykernel_1731/2025906423.py:84: FutureWarning: The frame.append method is deprecated and will be removed from pandas in a future version. Use pandas.concat instead.\n",
      "  df = df.append(df_all, ignore_index=True)\n",
      "/tmp/ipykernel_1731/2025906423.py:84: FutureWarning: The frame.append method is deprecated and will be removed from pandas in a future version. Use pandas.concat instead.\n",
      "  df = df.append(df_all, ignore_index=True)\n",
      "/tmp/ipykernel_1731/2025906423.py:84: FutureWarning: The frame.append method is deprecated and will be removed from pandas in a future version. Use pandas.concat instead.\n",
      "  df = df.append(df_all, ignore_index=True)\n",
      "/tmp/ipykernel_1731/2025906423.py:84: FutureWarning: The frame.append method is deprecated and will be removed from pandas in a future version. Use pandas.concat instead.\n",
      "  df = df.append(df_all, ignore_index=True)\n",
      "/tmp/ipykernel_1731/2025906423.py:84: FutureWarning: The frame.append method is deprecated and will be removed from pandas in a future version. Use pandas.concat instead.\n",
      "  df = df.append(df_all, ignore_index=True)\n",
      "/tmp/ipykernel_1731/2025906423.py:84: FutureWarning: The frame.append method is deprecated and will be removed from pandas in a future version. Use pandas.concat instead.\n",
      "  df = df.append(df_all, ignore_index=True)\n",
      "/tmp/ipykernel_1731/2025906423.py:84: FutureWarning: The frame.append method is deprecated and will be removed from pandas in a future version. Use pandas.concat instead.\n",
      "  df = df.append(df_all, ignore_index=True)\n",
      "/tmp/ipykernel_1731/2025906423.py:84: FutureWarning: The frame.append method is deprecated and will be removed from pandas in a future version. Use pandas.concat instead.\n",
      "  df = df.append(df_all, ignore_index=True)\n",
      "/tmp/ipykernel_1731/2025906423.py:84: FutureWarning: The frame.append method is deprecated and will be removed from pandas in a future version. Use pandas.concat instead.\n",
      "  df = df.append(df_all, ignore_index=True)\n",
      "/tmp/ipykernel_1731/2025906423.py:84: FutureWarning: The frame.append method is deprecated and will be removed from pandas in a future version. Use pandas.concat instead.\n",
      "  df = df.append(df_all, ignore_index=True)\n",
      "/tmp/ipykernel_1731/2025906423.py:84: FutureWarning: The frame.append method is deprecated and will be removed from pandas in a future version. Use pandas.concat instead.\n",
      "  df = df.append(df_all, ignore_index=True)\n",
      "/tmp/ipykernel_1731/2025906423.py:84: FutureWarning: The frame.append method is deprecated and will be removed from pandas in a future version. Use pandas.concat instead.\n",
      "  df = df.append(df_all, ignore_index=True)\n",
      "/tmp/ipykernel_1731/2025906423.py:84: FutureWarning: The frame.append method is deprecated and will be removed from pandas in a future version. Use pandas.concat instead.\n",
      "  df = df.append(df_all, ignore_index=True)\n",
      "/tmp/ipykernel_1731/2025906423.py:84: FutureWarning: The frame.append method is deprecated and will be removed from pandas in a future version. Use pandas.concat instead.\n",
      "  df = df.append(df_all, ignore_index=True)\n",
      "/tmp/ipykernel_1731/2025906423.py:84: FutureWarning: The frame.append method is deprecated and will be removed from pandas in a future version. Use pandas.concat instead.\n",
      "  df = df.append(df_all, ignore_index=True)\n",
      "/tmp/ipykernel_1731/2025906423.py:84: FutureWarning: The frame.append method is deprecated and will be removed from pandas in a future version. Use pandas.concat instead.\n",
      "  df = df.append(df_all, ignore_index=True)\n",
      "/tmp/ipykernel_1731/2025906423.py:84: FutureWarning: The frame.append method is deprecated and will be removed from pandas in a future version. Use pandas.concat instead.\n",
      "  df = df.append(df_all, ignore_index=True)\n",
      "/tmp/ipykernel_1731/2025906423.py:84: FutureWarning: The frame.append method is deprecated and will be removed from pandas in a future version. Use pandas.concat instead.\n",
      "  df = df.append(df_all, ignore_index=True)\n",
      "/tmp/ipykernel_1731/2025906423.py:84: FutureWarning: The frame.append method is deprecated and will be removed from pandas in a future version. Use pandas.concat instead.\n",
      "  df = df.append(df_all, ignore_index=True)\n",
      "/tmp/ipykernel_1731/2025906423.py:84: FutureWarning: The frame.append method is deprecated and will be removed from pandas in a future version. Use pandas.concat instead.\n",
      "  df = df.append(df_all, ignore_index=True)\n",
      "/tmp/ipykernel_1731/2025906423.py:84: FutureWarning: The frame.append method is deprecated and will be removed from pandas in a future version. Use pandas.concat instead.\n",
      "  df = df.append(df_all, ignore_index=True)\n",
      "/tmp/ipykernel_1731/2025906423.py:84: FutureWarning: The frame.append method is deprecated and will be removed from pandas in a future version. Use pandas.concat instead.\n",
      "  df = df.append(df_all, ignore_index=True)\n",
      "/tmp/ipykernel_1731/2025906423.py:84: FutureWarning: The frame.append method is deprecated and will be removed from pandas in a future version. Use pandas.concat instead.\n",
      "  df = df.append(df_all, ignore_index=True)\n",
      "/tmp/ipykernel_1731/2025906423.py:84: FutureWarning: The frame.append method is deprecated and will be removed from pandas in a future version. Use pandas.concat instead.\n",
      "  df = df.append(df_all, ignore_index=True)\n",
      "/tmp/ipykernel_1731/2025906423.py:84: FutureWarning: The frame.append method is deprecated and will be removed from pandas in a future version. Use pandas.concat instead.\n",
      "  df = df.append(df_all, ignore_index=True)\n",
      "/tmp/ipykernel_1731/2025906423.py:84: FutureWarning: The frame.append method is deprecated and will be removed from pandas in a future version. Use pandas.concat instead.\n",
      "  df = df.append(df_all, ignore_index=True)\n",
      "/tmp/ipykernel_1731/2025906423.py:84: FutureWarning: The frame.append method is deprecated and will be removed from pandas in a future version. Use pandas.concat instead.\n",
      "  df = df.append(df_all, ignore_index=True)\n",
      "/tmp/ipykernel_1731/2025906423.py:84: FutureWarning: The frame.append method is deprecated and will be removed from pandas in a future version. Use pandas.concat instead.\n",
      "  df = df.append(df_all, ignore_index=True)\n",
      "/tmp/ipykernel_1731/2025906423.py:84: FutureWarning: The frame.append method is deprecated and will be removed from pandas in a future version. Use pandas.concat instead.\n",
      "  df = df.append(df_all, ignore_index=True)\n",
      "/tmp/ipykernel_1731/2025906423.py:84: FutureWarning: The frame.append method is deprecated and will be removed from pandas in a future version. Use pandas.concat instead.\n",
      "  df = df.append(df_all, ignore_index=True)\n",
      "/tmp/ipykernel_1731/2025906423.py:84: FutureWarning: The frame.append method is deprecated and will be removed from pandas in a future version. Use pandas.concat instead.\n",
      "  df = df.append(df_all, ignore_index=True)\n",
      "/tmp/ipykernel_1731/2025906423.py:84: FutureWarning: The frame.append method is deprecated and will be removed from pandas in a future version. Use pandas.concat instead.\n",
      "  df = df.append(df_all, ignore_index=True)\n",
      "/tmp/ipykernel_1731/2025906423.py:84: FutureWarning: The frame.append method is deprecated and will be removed from pandas in a future version. Use pandas.concat instead.\n",
      "  df = df.append(df_all, ignore_index=True)\n",
      "/tmp/ipykernel_1731/2025906423.py:84: FutureWarning: The frame.append method is deprecated and will be removed from pandas in a future version. Use pandas.concat instead.\n",
      "  df = df.append(df_all, ignore_index=True)\n",
      "/tmp/ipykernel_1731/2025906423.py:84: FutureWarning: The frame.append method is deprecated and will be removed from pandas in a future version. Use pandas.concat instead.\n",
      "  df = df.append(df_all, ignore_index=True)\n",
      "/tmp/ipykernel_1731/2025906423.py:84: FutureWarning: The frame.append method is deprecated and will be removed from pandas in a future version. Use pandas.concat instead.\n",
      "  df = df.append(df_all, ignore_index=True)\n",
      "/tmp/ipykernel_1731/2025906423.py:84: FutureWarning: The frame.append method is deprecated and will be removed from pandas in a future version. Use pandas.concat instead.\n",
      "  df = df.append(df_all, ignore_index=True)\n",
      "/tmp/ipykernel_1731/2025906423.py:84: FutureWarning: The frame.append method is deprecated and will be removed from pandas in a future version. Use pandas.concat instead.\n",
      "  df = df.append(df_all, ignore_index=True)\n",
      "/tmp/ipykernel_1731/2025906423.py:84: FutureWarning: The frame.append method is deprecated and will be removed from pandas in a future version. Use pandas.concat instead.\n",
      "  df = df.append(df_all, ignore_index=True)\n"
     ]
    },
    {
     "name": "stderr",
     "output_type": "stream",
     "text": [
      "/tmp/ipykernel_1731/2025906423.py:84: FutureWarning: The frame.append method is deprecated and will be removed from pandas in a future version. Use pandas.concat instead.\n",
      "  df = df.append(df_all, ignore_index=True)\n",
      "/tmp/ipykernel_1731/2025906423.py:84: FutureWarning: The frame.append method is deprecated and will be removed from pandas in a future version. Use pandas.concat instead.\n",
      "  df = df.append(df_all, ignore_index=True)\n",
      "/tmp/ipykernel_1731/2025906423.py:84: FutureWarning: The frame.append method is deprecated and will be removed from pandas in a future version. Use pandas.concat instead.\n",
      "  df = df.append(df_all, ignore_index=True)\n",
      "/tmp/ipykernel_1731/2025906423.py:84: FutureWarning: The frame.append method is deprecated and will be removed from pandas in a future version. Use pandas.concat instead.\n",
      "  df = df.append(df_all, ignore_index=True)\n",
      "/tmp/ipykernel_1731/2025906423.py:84: FutureWarning: The frame.append method is deprecated and will be removed from pandas in a future version. Use pandas.concat instead.\n",
      "  df = df.append(df_all, ignore_index=True)\n",
      "/tmp/ipykernel_1731/2025906423.py:84: FutureWarning: The frame.append method is deprecated and will be removed from pandas in a future version. Use pandas.concat instead.\n",
      "  df = df.append(df_all, ignore_index=True)\n",
      "/tmp/ipykernel_1731/2025906423.py:84: FutureWarning: The frame.append method is deprecated and will be removed from pandas in a future version. Use pandas.concat instead.\n",
      "  df = df.append(df_all, ignore_index=True)\n",
      "/tmp/ipykernel_1731/2025906423.py:84: FutureWarning: The frame.append method is deprecated and will be removed from pandas in a future version. Use pandas.concat instead.\n",
      "  df = df.append(df_all, ignore_index=True)\n",
      "/tmp/ipykernel_1731/2025906423.py:84: FutureWarning: The frame.append method is deprecated and will be removed from pandas in a future version. Use pandas.concat instead.\n",
      "  df = df.append(df_all, ignore_index=True)\n",
      "/tmp/ipykernel_1731/2025906423.py:84: FutureWarning: The frame.append method is deprecated and will be removed from pandas in a future version. Use pandas.concat instead.\n",
      "  df = df.append(df_all, ignore_index=True)\n",
      "/tmp/ipykernel_1731/2025906423.py:84: FutureWarning: The frame.append method is deprecated and will be removed from pandas in a future version. Use pandas.concat instead.\n",
      "  df = df.append(df_all, ignore_index=True)\n",
      "/tmp/ipykernel_1731/2025906423.py:84: FutureWarning: The frame.append method is deprecated and will be removed from pandas in a future version. Use pandas.concat instead.\n",
      "  df = df.append(df_all, ignore_index=True)\n",
      "/tmp/ipykernel_1731/2025906423.py:84: FutureWarning: The frame.append method is deprecated and will be removed from pandas in a future version. Use pandas.concat instead.\n",
      "  df = df.append(df_all, ignore_index=True)\n",
      "/tmp/ipykernel_1731/2025906423.py:84: FutureWarning: The frame.append method is deprecated and will be removed from pandas in a future version. Use pandas.concat instead.\n",
      "  df = df.append(df_all, ignore_index=True)\n",
      "/tmp/ipykernel_1731/2025906423.py:84: FutureWarning: The frame.append method is deprecated and will be removed from pandas in a future version. Use pandas.concat instead.\n",
      "  df = df.append(df_all, ignore_index=True)\n",
      "/tmp/ipykernel_1731/2025906423.py:84: FutureWarning: The frame.append method is deprecated and will be removed from pandas in a future version. Use pandas.concat instead.\n",
      "  df = df.append(df_all, ignore_index=True)\n",
      "/tmp/ipykernel_1731/2025906423.py:84: FutureWarning: The frame.append method is deprecated and will be removed from pandas in a future version. Use pandas.concat instead.\n",
      "  df = df.append(df_all, ignore_index=True)\n",
      "/tmp/ipykernel_1731/2025906423.py:84: FutureWarning: The frame.append method is deprecated and will be removed from pandas in a future version. Use pandas.concat instead.\n",
      "  df = df.append(df_all, ignore_index=True)\n",
      "/tmp/ipykernel_1731/2025906423.py:84: FutureWarning: The frame.append method is deprecated and will be removed from pandas in a future version. Use pandas.concat instead.\n",
      "  df = df.append(df_all, ignore_index=True)\n",
      "/tmp/ipykernel_1731/2025906423.py:84: FutureWarning: The frame.append method is deprecated and will be removed from pandas in a future version. Use pandas.concat instead.\n",
      "  df = df.append(df_all, ignore_index=True)\n",
      "/tmp/ipykernel_1731/2025906423.py:84: FutureWarning: The frame.append method is deprecated and will be removed from pandas in a future version. Use pandas.concat instead.\n",
      "  df = df.append(df_all, ignore_index=True)\n",
      "/tmp/ipykernel_1731/2025906423.py:84: FutureWarning: The frame.append method is deprecated and will be removed from pandas in a future version. Use pandas.concat instead.\n",
      "  df = df.append(df_all, ignore_index=True)\n",
      "/tmp/ipykernel_1731/2025906423.py:84: FutureWarning: The frame.append method is deprecated and will be removed from pandas in a future version. Use pandas.concat instead.\n",
      "  df = df.append(df_all, ignore_index=True)\n",
      "/tmp/ipykernel_1731/2025906423.py:84: FutureWarning: The frame.append method is deprecated and will be removed from pandas in a future version. Use pandas.concat instead.\n",
      "  df = df.append(df_all, ignore_index=True)\n",
      "/tmp/ipykernel_1731/2025906423.py:84: FutureWarning: The frame.append method is deprecated and will be removed from pandas in a future version. Use pandas.concat instead.\n",
      "  df = df.append(df_all, ignore_index=True)\n",
      "/tmp/ipykernel_1731/2025906423.py:84: FutureWarning: The frame.append method is deprecated and will be removed from pandas in a future version. Use pandas.concat instead.\n",
      "  df = df.append(df_all, ignore_index=True)\n",
      "/tmp/ipykernel_1731/2025906423.py:84: FutureWarning: The frame.append method is deprecated and will be removed from pandas in a future version. Use pandas.concat instead.\n",
      "  df = df.append(df_all, ignore_index=True)\n",
      "/tmp/ipykernel_1731/2025906423.py:84: FutureWarning: The frame.append method is deprecated and will be removed from pandas in a future version. Use pandas.concat instead.\n",
      "  df = df.append(df_all, ignore_index=True)\n",
      "/tmp/ipykernel_1731/2025906423.py:84: FutureWarning: The frame.append method is deprecated and will be removed from pandas in a future version. Use pandas.concat instead.\n",
      "  df = df.append(df_all, ignore_index=True)\n",
      "/tmp/ipykernel_1731/2025906423.py:84: FutureWarning: The frame.append method is deprecated and will be removed from pandas in a future version. Use pandas.concat instead.\n",
      "  df = df.append(df_all, ignore_index=True)\n",
      "/tmp/ipykernel_1731/2025906423.py:84: FutureWarning: The frame.append method is deprecated and will be removed from pandas in a future version. Use pandas.concat instead.\n",
      "  df = df.append(df_all, ignore_index=True)\n",
      "/tmp/ipykernel_1731/2025906423.py:84: FutureWarning: The frame.append method is deprecated and will be removed from pandas in a future version. Use pandas.concat instead.\n",
      "  df = df.append(df_all, ignore_index=True)\n",
      "/tmp/ipykernel_1731/2025906423.py:84: FutureWarning: The frame.append method is deprecated and will be removed from pandas in a future version. Use pandas.concat instead.\n",
      "  df = df.append(df_all, ignore_index=True)\n",
      "/tmp/ipykernel_1731/2025906423.py:84: FutureWarning: The frame.append method is deprecated and will be removed from pandas in a future version. Use pandas.concat instead.\n",
      "  df = df.append(df_all, ignore_index=True)\n",
      "/tmp/ipykernel_1731/2025906423.py:84: FutureWarning: The frame.append method is deprecated and will be removed from pandas in a future version. Use pandas.concat instead.\n",
      "  df = df.append(df_all, ignore_index=True)\n",
      "/tmp/ipykernel_1731/2025906423.py:84: FutureWarning: The frame.append method is deprecated and will be removed from pandas in a future version. Use pandas.concat instead.\n",
      "  df = df.append(df_all, ignore_index=True)\n",
      "/tmp/ipykernel_1731/2025906423.py:84: FutureWarning: The frame.append method is deprecated and will be removed from pandas in a future version. Use pandas.concat instead.\n",
      "  df = df.append(df_all, ignore_index=True)\n",
      "/tmp/ipykernel_1731/2025906423.py:84: FutureWarning: The frame.append method is deprecated and will be removed from pandas in a future version. Use pandas.concat instead.\n",
      "  df = df.append(df_all, ignore_index=True)\n",
      "/tmp/ipykernel_1731/2025906423.py:84: FutureWarning: The frame.append method is deprecated and will be removed from pandas in a future version. Use pandas.concat instead.\n",
      "  df = df.append(df_all, ignore_index=True)\n"
     ]
    },
    {
     "name": "stderr",
     "output_type": "stream",
     "text": [
      "/tmp/ipykernel_1731/2025906423.py:84: FutureWarning: The frame.append method is deprecated and will be removed from pandas in a future version. Use pandas.concat instead.\n",
      "  df = df.append(df_all, ignore_index=True)\n",
      "/tmp/ipykernel_1731/2025906423.py:84: FutureWarning: The frame.append method is deprecated and will be removed from pandas in a future version. Use pandas.concat instead.\n",
      "  df = df.append(df_all, ignore_index=True)\n",
      "/tmp/ipykernel_1731/2025906423.py:84: FutureWarning: The frame.append method is deprecated and will be removed from pandas in a future version. Use pandas.concat instead.\n",
      "  df = df.append(df_all, ignore_index=True)\n",
      "/tmp/ipykernel_1731/2025906423.py:84: FutureWarning: The frame.append method is deprecated and will be removed from pandas in a future version. Use pandas.concat instead.\n",
      "  df = df.append(df_all, ignore_index=True)\n",
      "/tmp/ipykernel_1731/2025906423.py:84: FutureWarning: The frame.append method is deprecated and will be removed from pandas in a future version. Use pandas.concat instead.\n",
      "  df = df.append(df_all, ignore_index=True)\n",
      "/tmp/ipykernel_1731/2025906423.py:84: FutureWarning: The frame.append method is deprecated and will be removed from pandas in a future version. Use pandas.concat instead.\n",
      "  df = df.append(df_all, ignore_index=True)\n",
      "/tmp/ipykernel_1731/2025906423.py:84: FutureWarning: The frame.append method is deprecated and will be removed from pandas in a future version. Use pandas.concat instead.\n",
      "  df = df.append(df_all, ignore_index=True)\n",
      "/tmp/ipykernel_1731/2025906423.py:84: FutureWarning: The frame.append method is deprecated and will be removed from pandas in a future version. Use pandas.concat instead.\n",
      "  df = df.append(df_all, ignore_index=True)\n",
      "/tmp/ipykernel_1731/2025906423.py:84: FutureWarning: The frame.append method is deprecated and will be removed from pandas in a future version. Use pandas.concat instead.\n",
      "  df = df.append(df_all, ignore_index=True)\n",
      "/tmp/ipykernel_1731/2025906423.py:84: FutureWarning: The frame.append method is deprecated and will be removed from pandas in a future version. Use pandas.concat instead.\n",
      "  df = df.append(df_all, ignore_index=True)\n",
      "/tmp/ipykernel_1731/2025906423.py:84: FutureWarning: The frame.append method is deprecated and will be removed from pandas in a future version. Use pandas.concat instead.\n",
      "  df = df.append(df_all, ignore_index=True)\n",
      "/tmp/ipykernel_1731/2025906423.py:84: FutureWarning: The frame.append method is deprecated and will be removed from pandas in a future version. Use pandas.concat instead.\n",
      "  df = df.append(df_all, ignore_index=True)\n",
      "/tmp/ipykernel_1731/2025906423.py:84: FutureWarning: The frame.append method is deprecated and will be removed from pandas in a future version. Use pandas.concat instead.\n",
      "  df = df.append(df_all, ignore_index=True)\n",
      "/tmp/ipykernel_1731/2025906423.py:84: FutureWarning: The frame.append method is deprecated and will be removed from pandas in a future version. Use pandas.concat instead.\n",
      "  df = df.append(df_all, ignore_index=True)\n",
      "/tmp/ipykernel_1731/2025906423.py:84: FutureWarning: The frame.append method is deprecated and will be removed from pandas in a future version. Use pandas.concat instead.\n",
      "  df = df.append(df_all, ignore_index=True)\n",
      "/tmp/ipykernel_1731/2025906423.py:84: FutureWarning: The frame.append method is deprecated and will be removed from pandas in a future version. Use pandas.concat instead.\n",
      "  df = df.append(df_all, ignore_index=True)\n",
      "/tmp/ipykernel_1731/2025906423.py:84: FutureWarning: The frame.append method is deprecated and will be removed from pandas in a future version. Use pandas.concat instead.\n",
      "  df = df.append(df_all, ignore_index=True)\n",
      "/tmp/ipykernel_1731/2025906423.py:84: FutureWarning: The frame.append method is deprecated and will be removed from pandas in a future version. Use pandas.concat instead.\n",
      "  df = df.append(df_all, ignore_index=True)\n",
      "/tmp/ipykernel_1731/2025906423.py:84: FutureWarning: The frame.append method is deprecated and will be removed from pandas in a future version. Use pandas.concat instead.\n",
      "  df = df.append(df_all, ignore_index=True)\n",
      "/tmp/ipykernel_1731/2025906423.py:84: FutureWarning: The frame.append method is deprecated and will be removed from pandas in a future version. Use pandas.concat instead.\n",
      "  df = df.append(df_all, ignore_index=True)\n",
      "/tmp/ipykernel_1731/2025906423.py:84: FutureWarning: The frame.append method is deprecated and will be removed from pandas in a future version. Use pandas.concat instead.\n",
      "  df = df.append(df_all, ignore_index=True)\n",
      "/tmp/ipykernel_1731/2025906423.py:84: FutureWarning: The frame.append method is deprecated and will be removed from pandas in a future version. Use pandas.concat instead.\n",
      "  df = df.append(df_all, ignore_index=True)\n",
      "/tmp/ipykernel_1731/2025906423.py:84: FutureWarning: The frame.append method is deprecated and will be removed from pandas in a future version. Use pandas.concat instead.\n",
      "  df = df.append(df_all, ignore_index=True)\n",
      "/tmp/ipykernel_1731/2025906423.py:84: FutureWarning: The frame.append method is deprecated and will be removed from pandas in a future version. Use pandas.concat instead.\n",
      "  df = df.append(df_all, ignore_index=True)\n",
      "/tmp/ipykernel_1731/2025906423.py:84: FutureWarning: The frame.append method is deprecated and will be removed from pandas in a future version. Use pandas.concat instead.\n",
      "  df = df.append(df_all, ignore_index=True)\n",
      "/tmp/ipykernel_1731/2025906423.py:84: FutureWarning: The frame.append method is deprecated and will be removed from pandas in a future version. Use pandas.concat instead.\n",
      "  df = df.append(df_all, ignore_index=True)\n",
      "/tmp/ipykernel_1731/2025906423.py:84: FutureWarning: The frame.append method is deprecated and will be removed from pandas in a future version. Use pandas.concat instead.\n",
      "  df = df.append(df_all, ignore_index=True)\n",
      "/tmp/ipykernel_1731/2025906423.py:84: FutureWarning: The frame.append method is deprecated and will be removed from pandas in a future version. Use pandas.concat instead.\n",
      "  df = df.append(df_all, ignore_index=True)\n",
      "/tmp/ipykernel_1731/2025906423.py:84: FutureWarning: The frame.append method is deprecated and will be removed from pandas in a future version. Use pandas.concat instead.\n",
      "  df = df.append(df_all, ignore_index=True)\n",
      "/tmp/ipykernel_1731/2025906423.py:84: FutureWarning: The frame.append method is deprecated and will be removed from pandas in a future version. Use pandas.concat instead.\n",
      "  df = df.append(df_all, ignore_index=True)\n",
      "/tmp/ipykernel_1731/2025906423.py:84: FutureWarning: The frame.append method is deprecated and will be removed from pandas in a future version. Use pandas.concat instead.\n",
      "  df = df.append(df_all, ignore_index=True)\n",
      "/tmp/ipykernel_1731/2025906423.py:84: FutureWarning: The frame.append method is deprecated and will be removed from pandas in a future version. Use pandas.concat instead.\n",
      "  df = df.append(df_all, ignore_index=True)\n",
      "/tmp/ipykernel_1731/2025906423.py:84: FutureWarning: The frame.append method is deprecated and will be removed from pandas in a future version. Use pandas.concat instead.\n",
      "  df = df.append(df_all, ignore_index=True)\n",
      "/tmp/ipykernel_1731/2025906423.py:84: FutureWarning: The frame.append method is deprecated and will be removed from pandas in a future version. Use pandas.concat instead.\n",
      "  df = df.append(df_all, ignore_index=True)\n",
      "/tmp/ipykernel_1731/2025906423.py:84: FutureWarning: The frame.append method is deprecated and will be removed from pandas in a future version. Use pandas.concat instead.\n",
      "  df = df.append(df_all, ignore_index=True)\n",
      "/tmp/ipykernel_1731/2025906423.py:84: FutureWarning: The frame.append method is deprecated and will be removed from pandas in a future version. Use pandas.concat instead.\n",
      "  df = df.append(df_all, ignore_index=True)\n",
      "/tmp/ipykernel_1731/2025906423.py:84: FutureWarning: The frame.append method is deprecated and will be removed from pandas in a future version. Use pandas.concat instead.\n",
      "  df = df.append(df_all, ignore_index=True)\n",
      "/tmp/ipykernel_1731/2025906423.py:84: FutureWarning: The frame.append method is deprecated and will be removed from pandas in a future version. Use pandas.concat instead.\n",
      "  df = df.append(df_all, ignore_index=True)\n",
      "/tmp/ipykernel_1731/2025906423.py:84: FutureWarning: The frame.append method is deprecated and will be removed from pandas in a future version. Use pandas.concat instead.\n",
      "  df = df.append(df_all, ignore_index=True)\n"
     ]
    },
    {
     "name": "stderr",
     "output_type": "stream",
     "text": [
      "/tmp/ipykernel_1731/2025906423.py:84: FutureWarning: The frame.append method is deprecated and will be removed from pandas in a future version. Use pandas.concat instead.\n",
      "  df = df.append(df_all, ignore_index=True)\n",
      "/tmp/ipykernel_1731/2025906423.py:84: FutureWarning: The frame.append method is deprecated and will be removed from pandas in a future version. Use pandas.concat instead.\n",
      "  df = df.append(df_all, ignore_index=True)\n",
      "/tmp/ipykernel_1731/2025906423.py:84: FutureWarning: The frame.append method is deprecated and will be removed from pandas in a future version. Use pandas.concat instead.\n",
      "  df = df.append(df_all, ignore_index=True)\n",
      "/tmp/ipykernel_1731/2025906423.py:84: FutureWarning: The frame.append method is deprecated and will be removed from pandas in a future version. Use pandas.concat instead.\n",
      "  df = df.append(df_all, ignore_index=True)\n",
      "/tmp/ipykernel_1731/2025906423.py:84: FutureWarning: The frame.append method is deprecated and will be removed from pandas in a future version. Use pandas.concat instead.\n",
      "  df = df.append(df_all, ignore_index=True)\n",
      "/tmp/ipykernel_1731/2025906423.py:84: FutureWarning: The frame.append method is deprecated and will be removed from pandas in a future version. Use pandas.concat instead.\n",
      "  df = df.append(df_all, ignore_index=True)\n",
      "/tmp/ipykernel_1731/2025906423.py:84: FutureWarning: The frame.append method is deprecated and will be removed from pandas in a future version. Use pandas.concat instead.\n",
      "  df = df.append(df_all, ignore_index=True)\n",
      "/tmp/ipykernel_1731/2025906423.py:84: FutureWarning: The frame.append method is deprecated and will be removed from pandas in a future version. Use pandas.concat instead.\n",
      "  df = df.append(df_all, ignore_index=True)\n",
      "/tmp/ipykernel_1731/2025906423.py:84: FutureWarning: The frame.append method is deprecated and will be removed from pandas in a future version. Use pandas.concat instead.\n",
      "  df = df.append(df_all, ignore_index=True)\n",
      "/tmp/ipykernel_1731/2025906423.py:84: FutureWarning: The frame.append method is deprecated and will be removed from pandas in a future version. Use pandas.concat instead.\n",
      "  df = df.append(df_all, ignore_index=True)\n",
      "/tmp/ipykernel_1731/2025906423.py:84: FutureWarning: The frame.append method is deprecated and will be removed from pandas in a future version. Use pandas.concat instead.\n",
      "  df = df.append(df_all, ignore_index=True)\n",
      "/tmp/ipykernel_1731/2025906423.py:84: FutureWarning: The frame.append method is deprecated and will be removed from pandas in a future version. Use pandas.concat instead.\n",
      "  df = df.append(df_all, ignore_index=True)\n",
      "/tmp/ipykernel_1731/2025906423.py:84: FutureWarning: The frame.append method is deprecated and will be removed from pandas in a future version. Use pandas.concat instead.\n",
      "  df = df.append(df_all, ignore_index=True)\n",
      "/tmp/ipykernel_1731/2025906423.py:84: FutureWarning: The frame.append method is deprecated and will be removed from pandas in a future version. Use pandas.concat instead.\n",
      "  df = df.append(df_all, ignore_index=True)\n",
      "/tmp/ipykernel_1731/2025906423.py:84: FutureWarning: The frame.append method is deprecated and will be removed from pandas in a future version. Use pandas.concat instead.\n",
      "  df = df.append(df_all, ignore_index=True)\n",
      "/tmp/ipykernel_1731/2025906423.py:84: FutureWarning: The frame.append method is deprecated and will be removed from pandas in a future version. Use pandas.concat instead.\n",
      "  df = df.append(df_all, ignore_index=True)\n",
      "/tmp/ipykernel_1731/2025906423.py:84: FutureWarning: The frame.append method is deprecated and will be removed from pandas in a future version. Use pandas.concat instead.\n",
      "  df = df.append(df_all, ignore_index=True)\n",
      "/tmp/ipykernel_1731/2025906423.py:84: FutureWarning: The frame.append method is deprecated and will be removed from pandas in a future version. Use pandas.concat instead.\n",
      "  df = df.append(df_all, ignore_index=True)\n",
      "/tmp/ipykernel_1731/2025906423.py:84: FutureWarning: The frame.append method is deprecated and will be removed from pandas in a future version. Use pandas.concat instead.\n",
      "  df = df.append(df_all, ignore_index=True)\n",
      "/tmp/ipykernel_1731/2025906423.py:84: FutureWarning: The frame.append method is deprecated and will be removed from pandas in a future version. Use pandas.concat instead.\n",
      "  df = df.append(df_all, ignore_index=True)\n",
      "/tmp/ipykernel_1731/2025906423.py:84: FutureWarning: The frame.append method is deprecated and will be removed from pandas in a future version. Use pandas.concat instead.\n",
      "  df = df.append(df_all, ignore_index=True)\n",
      "/tmp/ipykernel_1731/2025906423.py:84: FutureWarning: The frame.append method is deprecated and will be removed from pandas in a future version. Use pandas.concat instead.\n",
      "  df = df.append(df_all, ignore_index=True)\n",
      "/tmp/ipykernel_1731/2025906423.py:84: FutureWarning: The frame.append method is deprecated and will be removed from pandas in a future version. Use pandas.concat instead.\n",
      "  df = df.append(df_all, ignore_index=True)\n",
      "/tmp/ipykernel_1731/2025906423.py:84: FutureWarning: The frame.append method is deprecated and will be removed from pandas in a future version. Use pandas.concat instead.\n",
      "  df = df.append(df_all, ignore_index=True)\n",
      "/tmp/ipykernel_1731/2025906423.py:84: FutureWarning: The frame.append method is deprecated and will be removed from pandas in a future version. Use pandas.concat instead.\n",
      "  df = df.append(df_all, ignore_index=True)\n",
      "/tmp/ipykernel_1731/2025906423.py:84: FutureWarning: The frame.append method is deprecated and will be removed from pandas in a future version. Use pandas.concat instead.\n",
      "  df = df.append(df_all, ignore_index=True)\n",
      "/tmp/ipykernel_1731/2025906423.py:84: FutureWarning: The frame.append method is deprecated and will be removed from pandas in a future version. Use pandas.concat instead.\n",
      "  df = df.append(df_all, ignore_index=True)\n",
      "/tmp/ipykernel_1731/2025906423.py:84: FutureWarning: The frame.append method is deprecated and will be removed from pandas in a future version. Use pandas.concat instead.\n",
      "  df = df.append(df_all, ignore_index=True)\n",
      "/tmp/ipykernel_1731/2025906423.py:84: FutureWarning: The frame.append method is deprecated and will be removed from pandas in a future version. Use pandas.concat instead.\n",
      "  df = df.append(df_all, ignore_index=True)\n",
      "/tmp/ipykernel_1731/2025906423.py:84: FutureWarning: The frame.append method is deprecated and will be removed from pandas in a future version. Use pandas.concat instead.\n",
      "  df = df.append(df_all, ignore_index=True)\n",
      "/tmp/ipykernel_1731/2025906423.py:84: FutureWarning: The frame.append method is deprecated and will be removed from pandas in a future version. Use pandas.concat instead.\n",
      "  df = df.append(df_all, ignore_index=True)\n",
      "/tmp/ipykernel_1731/2025906423.py:84: FutureWarning: The frame.append method is deprecated and will be removed from pandas in a future version. Use pandas.concat instead.\n",
      "  df = df.append(df_all, ignore_index=True)\n",
      "/tmp/ipykernel_1731/2025906423.py:84: FutureWarning: The frame.append method is deprecated and will be removed from pandas in a future version. Use pandas.concat instead.\n",
      "  df = df.append(df_all, ignore_index=True)\n",
      "/tmp/ipykernel_1731/2025906423.py:84: FutureWarning: The frame.append method is deprecated and will be removed from pandas in a future version. Use pandas.concat instead.\n",
      "  df = df.append(df_all, ignore_index=True)\n",
      "/tmp/ipykernel_1731/2025906423.py:84: FutureWarning: The frame.append method is deprecated and will be removed from pandas in a future version. Use pandas.concat instead.\n",
      "  df = df.append(df_all, ignore_index=True)\n",
      "/tmp/ipykernel_1731/2025906423.py:84: FutureWarning: The frame.append method is deprecated and will be removed from pandas in a future version. Use pandas.concat instead.\n",
      "  df = df.append(df_all, ignore_index=True)\n",
      "/tmp/ipykernel_1731/2025906423.py:84: FutureWarning: The frame.append method is deprecated and will be removed from pandas in a future version. Use pandas.concat instead.\n",
      "  df = df.append(df_all, ignore_index=True)\n",
      "/tmp/ipykernel_1731/2025906423.py:84: FutureWarning: The frame.append method is deprecated and will be removed from pandas in a future version. Use pandas.concat instead.\n",
      "  df = df.append(df_all, ignore_index=True)\n",
      "/tmp/ipykernel_1731/2025906423.py:84: FutureWarning: The frame.append method is deprecated and will be removed from pandas in a future version. Use pandas.concat instead.\n",
      "  df = df.append(df_all, ignore_index=True)\n"
     ]
    },
    {
     "name": "stderr",
     "output_type": "stream",
     "text": [
      "/tmp/ipykernel_1731/2025906423.py:84: FutureWarning: The frame.append method is deprecated and will be removed from pandas in a future version. Use pandas.concat instead.\n",
      "  df = df.append(df_all, ignore_index=True)\n",
      "/tmp/ipykernel_1731/2025906423.py:84: FutureWarning: The frame.append method is deprecated and will be removed from pandas in a future version. Use pandas.concat instead.\n",
      "  df = df.append(df_all, ignore_index=True)\n",
      "/tmp/ipykernel_1731/2025906423.py:84: FutureWarning: The frame.append method is deprecated and will be removed from pandas in a future version. Use pandas.concat instead.\n",
      "  df = df.append(df_all, ignore_index=True)\n",
      "/tmp/ipykernel_1731/2025906423.py:84: FutureWarning: The frame.append method is deprecated and will be removed from pandas in a future version. Use pandas.concat instead.\n",
      "  df = df.append(df_all, ignore_index=True)\n",
      "/tmp/ipykernel_1731/2025906423.py:84: FutureWarning: The frame.append method is deprecated and will be removed from pandas in a future version. Use pandas.concat instead.\n",
      "  df = df.append(df_all, ignore_index=True)\n",
      "/tmp/ipykernel_1731/2025906423.py:84: FutureWarning: The frame.append method is deprecated and will be removed from pandas in a future version. Use pandas.concat instead.\n",
      "  df = df.append(df_all, ignore_index=True)\n",
      "/tmp/ipykernel_1731/2025906423.py:84: FutureWarning: The frame.append method is deprecated and will be removed from pandas in a future version. Use pandas.concat instead.\n",
      "  df = df.append(df_all, ignore_index=True)\n",
      "/tmp/ipykernel_1731/2025906423.py:84: FutureWarning: The frame.append method is deprecated and will be removed from pandas in a future version. Use pandas.concat instead.\n",
      "  df = df.append(df_all, ignore_index=True)\n",
      "/tmp/ipykernel_1731/2025906423.py:84: FutureWarning: The frame.append method is deprecated and will be removed from pandas in a future version. Use pandas.concat instead.\n",
      "  df = df.append(df_all, ignore_index=True)\n",
      "/tmp/ipykernel_1731/2025906423.py:84: FutureWarning: The frame.append method is deprecated and will be removed from pandas in a future version. Use pandas.concat instead.\n",
      "  df = df.append(df_all, ignore_index=True)\n",
      "/tmp/ipykernel_1731/2025906423.py:84: FutureWarning: The frame.append method is deprecated and will be removed from pandas in a future version. Use pandas.concat instead.\n",
      "  df = df.append(df_all, ignore_index=True)\n",
      "/tmp/ipykernel_1731/2025906423.py:84: FutureWarning: The frame.append method is deprecated and will be removed from pandas in a future version. Use pandas.concat instead.\n",
      "  df = df.append(df_all, ignore_index=True)\n",
      "/tmp/ipykernel_1731/2025906423.py:84: FutureWarning: The frame.append method is deprecated and will be removed from pandas in a future version. Use pandas.concat instead.\n",
      "  df = df.append(df_all, ignore_index=True)\n",
      "/tmp/ipykernel_1731/2025906423.py:84: FutureWarning: The frame.append method is deprecated and will be removed from pandas in a future version. Use pandas.concat instead.\n",
      "  df = df.append(df_all, ignore_index=True)\n",
      "/tmp/ipykernel_1731/2025906423.py:84: FutureWarning: The frame.append method is deprecated and will be removed from pandas in a future version. Use pandas.concat instead.\n",
      "  df = df.append(df_all, ignore_index=True)\n",
      "/tmp/ipykernel_1731/2025906423.py:84: FutureWarning: The frame.append method is deprecated and will be removed from pandas in a future version. Use pandas.concat instead.\n",
      "  df = df.append(df_all, ignore_index=True)\n",
      "/tmp/ipykernel_1731/2025906423.py:84: FutureWarning: The frame.append method is deprecated and will be removed from pandas in a future version. Use pandas.concat instead.\n",
      "  df = df.append(df_all, ignore_index=True)\n",
      "/tmp/ipykernel_1731/2025906423.py:84: FutureWarning: The frame.append method is deprecated and will be removed from pandas in a future version. Use pandas.concat instead.\n",
      "  df = df.append(df_all, ignore_index=True)\n",
      "/tmp/ipykernel_1731/2025906423.py:84: FutureWarning: The frame.append method is deprecated and will be removed from pandas in a future version. Use pandas.concat instead.\n",
      "  df = df.append(df_all, ignore_index=True)\n",
      "/tmp/ipykernel_1731/2025906423.py:84: FutureWarning: The frame.append method is deprecated and will be removed from pandas in a future version. Use pandas.concat instead.\n",
      "  df = df.append(df_all, ignore_index=True)\n",
      "/tmp/ipykernel_1731/2025906423.py:84: FutureWarning: The frame.append method is deprecated and will be removed from pandas in a future version. Use pandas.concat instead.\n",
      "  df = df.append(df_all, ignore_index=True)\n",
      "/tmp/ipykernel_1731/2025906423.py:84: FutureWarning: The frame.append method is deprecated and will be removed from pandas in a future version. Use pandas.concat instead.\n",
      "  df = df.append(df_all, ignore_index=True)\n",
      "/tmp/ipykernel_1731/2025906423.py:84: FutureWarning: The frame.append method is deprecated and will be removed from pandas in a future version. Use pandas.concat instead.\n",
      "  df = df.append(df_all, ignore_index=True)\n",
      "/tmp/ipykernel_1731/2025906423.py:84: FutureWarning: The frame.append method is deprecated and will be removed from pandas in a future version. Use pandas.concat instead.\n",
      "  df = df.append(df_all, ignore_index=True)\n",
      "/tmp/ipykernel_1731/2025906423.py:84: FutureWarning: The frame.append method is deprecated and will be removed from pandas in a future version. Use pandas.concat instead.\n",
      "  df = df.append(df_all, ignore_index=True)\n",
      "/tmp/ipykernel_1731/2025906423.py:84: FutureWarning: The frame.append method is deprecated and will be removed from pandas in a future version. Use pandas.concat instead.\n",
      "  df = df.append(df_all, ignore_index=True)\n",
      "/tmp/ipykernel_1731/2025906423.py:84: FutureWarning: The frame.append method is deprecated and will be removed from pandas in a future version. Use pandas.concat instead.\n",
      "  df = df.append(df_all, ignore_index=True)\n",
      "/tmp/ipykernel_1731/2025906423.py:84: FutureWarning: The frame.append method is deprecated and will be removed from pandas in a future version. Use pandas.concat instead.\n",
      "  df = df.append(df_all, ignore_index=True)\n",
      "/tmp/ipykernel_1731/2025906423.py:84: FutureWarning: The frame.append method is deprecated and will be removed from pandas in a future version. Use pandas.concat instead.\n",
      "  df = df.append(df_all, ignore_index=True)\n",
      "/tmp/ipykernel_1731/2025906423.py:84: FutureWarning: The frame.append method is deprecated and will be removed from pandas in a future version. Use pandas.concat instead.\n",
      "  df = df.append(df_all, ignore_index=True)\n",
      "/tmp/ipykernel_1731/2025906423.py:84: FutureWarning: The frame.append method is deprecated and will be removed from pandas in a future version. Use pandas.concat instead.\n",
      "  df = df.append(df_all, ignore_index=True)\n",
      "/tmp/ipykernel_1731/2025906423.py:84: FutureWarning: The frame.append method is deprecated and will be removed from pandas in a future version. Use pandas.concat instead.\n",
      "  df = df.append(df_all, ignore_index=True)\n",
      "/tmp/ipykernel_1731/2025906423.py:84: FutureWarning: The frame.append method is deprecated and will be removed from pandas in a future version. Use pandas.concat instead.\n",
      "  df = df.append(df_all, ignore_index=True)\n",
      "/tmp/ipykernel_1731/2025906423.py:84: FutureWarning: The frame.append method is deprecated and will be removed from pandas in a future version. Use pandas.concat instead.\n",
      "  df = df.append(df_all, ignore_index=True)\n",
      "/tmp/ipykernel_1731/2025906423.py:84: FutureWarning: The frame.append method is deprecated and will be removed from pandas in a future version. Use pandas.concat instead.\n",
      "  df = df.append(df_all, ignore_index=True)\n",
      "/tmp/ipykernel_1731/2025906423.py:84: FutureWarning: The frame.append method is deprecated and will be removed from pandas in a future version. Use pandas.concat instead.\n",
      "  df = df.append(df_all, ignore_index=True)\n",
      "/tmp/ipykernel_1731/2025906423.py:84: FutureWarning: The frame.append method is deprecated and will be removed from pandas in a future version. Use pandas.concat instead.\n",
      "  df = df.append(df_all, ignore_index=True)\n",
      "/tmp/ipykernel_1731/2025906423.py:84: FutureWarning: The frame.append method is deprecated and will be removed from pandas in a future version. Use pandas.concat instead.\n",
      "  df = df.append(df_all, ignore_index=True)\n",
      "/tmp/ipykernel_1731/2025906423.py:84: FutureWarning: The frame.append method is deprecated and will be removed from pandas in a future version. Use pandas.concat instead.\n",
      "  df = df.append(df_all, ignore_index=True)\n"
     ]
    },
    {
     "name": "stderr",
     "output_type": "stream",
     "text": [
      "/tmp/ipykernel_1731/2025906423.py:84: FutureWarning: The frame.append method is deprecated and will be removed from pandas in a future version. Use pandas.concat instead.\n",
      "  df = df.append(df_all, ignore_index=True)\n",
      "/tmp/ipykernel_1731/2025906423.py:84: FutureWarning: The frame.append method is deprecated and will be removed from pandas in a future version. Use pandas.concat instead.\n",
      "  df = df.append(df_all, ignore_index=True)\n",
      "/tmp/ipykernel_1731/2025906423.py:84: FutureWarning: The frame.append method is deprecated and will be removed from pandas in a future version. Use pandas.concat instead.\n",
      "  df = df.append(df_all, ignore_index=True)\n",
      "/tmp/ipykernel_1731/2025906423.py:84: FutureWarning: The frame.append method is deprecated and will be removed from pandas in a future version. Use pandas.concat instead.\n",
      "  df = df.append(df_all, ignore_index=True)\n",
      "/tmp/ipykernel_1731/2025906423.py:84: FutureWarning: The frame.append method is deprecated and will be removed from pandas in a future version. Use pandas.concat instead.\n",
      "  df = df.append(df_all, ignore_index=True)\n",
      "/tmp/ipykernel_1731/2025906423.py:84: FutureWarning: The frame.append method is deprecated and will be removed from pandas in a future version. Use pandas.concat instead.\n",
      "  df = df.append(df_all, ignore_index=True)\n",
      "/tmp/ipykernel_1731/2025906423.py:84: FutureWarning: The frame.append method is deprecated and will be removed from pandas in a future version. Use pandas.concat instead.\n",
      "  df = df.append(df_all, ignore_index=True)\n",
      "/tmp/ipykernel_1731/2025906423.py:84: FutureWarning: The frame.append method is deprecated and will be removed from pandas in a future version. Use pandas.concat instead.\n",
      "  df = df.append(df_all, ignore_index=True)\n",
      "/tmp/ipykernel_1731/2025906423.py:84: FutureWarning: The frame.append method is deprecated and will be removed from pandas in a future version. Use pandas.concat instead.\n",
      "  df = df.append(df_all, ignore_index=True)\n",
      "/tmp/ipykernel_1731/2025906423.py:84: FutureWarning: The frame.append method is deprecated and will be removed from pandas in a future version. Use pandas.concat instead.\n",
      "  df = df.append(df_all, ignore_index=True)\n",
      "/tmp/ipykernel_1731/2025906423.py:84: FutureWarning: The frame.append method is deprecated and will be removed from pandas in a future version. Use pandas.concat instead.\n",
      "  df = df.append(df_all, ignore_index=True)\n",
      "/tmp/ipykernel_1731/2025906423.py:84: FutureWarning: The frame.append method is deprecated and will be removed from pandas in a future version. Use pandas.concat instead.\n",
      "  df = df.append(df_all, ignore_index=True)\n",
      "/tmp/ipykernel_1731/2025906423.py:84: FutureWarning: The frame.append method is deprecated and will be removed from pandas in a future version. Use pandas.concat instead.\n",
      "  df = df.append(df_all, ignore_index=True)\n",
      "/tmp/ipykernel_1731/2025906423.py:84: FutureWarning: The frame.append method is deprecated and will be removed from pandas in a future version. Use pandas.concat instead.\n",
      "  df = df.append(df_all, ignore_index=True)\n",
      "/tmp/ipykernel_1731/2025906423.py:84: FutureWarning: The frame.append method is deprecated and will be removed from pandas in a future version. Use pandas.concat instead.\n",
      "  df = df.append(df_all, ignore_index=True)\n",
      "/tmp/ipykernel_1731/2025906423.py:84: FutureWarning: The frame.append method is deprecated and will be removed from pandas in a future version. Use pandas.concat instead.\n",
      "  df = df.append(df_all, ignore_index=True)\n",
      "/tmp/ipykernel_1731/2025906423.py:84: FutureWarning: The frame.append method is deprecated and will be removed from pandas in a future version. Use pandas.concat instead.\n",
      "  df = df.append(df_all, ignore_index=True)\n",
      "/tmp/ipykernel_1731/2025906423.py:84: FutureWarning: The frame.append method is deprecated and will be removed from pandas in a future version. Use pandas.concat instead.\n",
      "  df = df.append(df_all, ignore_index=True)\n",
      "/tmp/ipykernel_1731/2025906423.py:84: FutureWarning: The frame.append method is deprecated and will be removed from pandas in a future version. Use pandas.concat instead.\n",
      "  df = df.append(df_all, ignore_index=True)\n",
      "/tmp/ipykernel_1731/2025906423.py:84: FutureWarning: The frame.append method is deprecated and will be removed from pandas in a future version. Use pandas.concat instead.\n",
      "  df = df.append(df_all, ignore_index=True)\n",
      "/tmp/ipykernel_1731/2025906423.py:84: FutureWarning: The frame.append method is deprecated and will be removed from pandas in a future version. Use pandas.concat instead.\n",
      "  df = df.append(df_all, ignore_index=True)\n",
      "/tmp/ipykernel_1731/2025906423.py:84: FutureWarning: The frame.append method is deprecated and will be removed from pandas in a future version. Use pandas.concat instead.\n",
      "  df = df.append(df_all, ignore_index=True)\n",
      "/tmp/ipykernel_1731/2025906423.py:84: FutureWarning: The frame.append method is deprecated and will be removed from pandas in a future version. Use pandas.concat instead.\n",
      "  df = df.append(df_all, ignore_index=True)\n",
      "/tmp/ipykernel_1731/2025906423.py:84: FutureWarning: The frame.append method is deprecated and will be removed from pandas in a future version. Use pandas.concat instead.\n",
      "  df = df.append(df_all, ignore_index=True)\n",
      "/tmp/ipykernel_1731/2025906423.py:84: FutureWarning: The frame.append method is deprecated and will be removed from pandas in a future version. Use pandas.concat instead.\n",
      "  df = df.append(df_all, ignore_index=True)\n",
      "/tmp/ipykernel_1731/2025906423.py:84: FutureWarning: The frame.append method is deprecated and will be removed from pandas in a future version. Use pandas.concat instead.\n",
      "  df = df.append(df_all, ignore_index=True)\n",
      "/tmp/ipykernel_1731/2025906423.py:84: FutureWarning: The frame.append method is deprecated and will be removed from pandas in a future version. Use pandas.concat instead.\n",
      "  df = df.append(df_all, ignore_index=True)\n",
      "/tmp/ipykernel_1731/2025906423.py:84: FutureWarning: The frame.append method is deprecated and will be removed from pandas in a future version. Use pandas.concat instead.\n",
      "  df = df.append(df_all, ignore_index=True)\n",
      "/tmp/ipykernel_1731/2025906423.py:84: FutureWarning: The frame.append method is deprecated and will be removed from pandas in a future version. Use pandas.concat instead.\n",
      "  df = df.append(df_all, ignore_index=True)\n",
      "/tmp/ipykernel_1731/2025906423.py:84: FutureWarning: The frame.append method is deprecated and will be removed from pandas in a future version. Use pandas.concat instead.\n",
      "  df = df.append(df_all, ignore_index=True)\n",
      "/tmp/ipykernel_1731/2025906423.py:84: FutureWarning: The frame.append method is deprecated and will be removed from pandas in a future version. Use pandas.concat instead.\n",
      "  df = df.append(df_all, ignore_index=True)\n",
      "/tmp/ipykernel_1731/2025906423.py:84: FutureWarning: The frame.append method is deprecated and will be removed from pandas in a future version. Use pandas.concat instead.\n",
      "  df = df.append(df_all, ignore_index=True)\n",
      "/tmp/ipykernel_1731/2025906423.py:84: FutureWarning: The frame.append method is deprecated and will be removed from pandas in a future version. Use pandas.concat instead.\n",
      "  df = df.append(df_all, ignore_index=True)\n",
      "/tmp/ipykernel_1731/2025906423.py:84: FutureWarning: The frame.append method is deprecated and will be removed from pandas in a future version. Use pandas.concat instead.\n",
      "  df = df.append(df_all, ignore_index=True)\n",
      "/tmp/ipykernel_1731/2025906423.py:84: FutureWarning: The frame.append method is deprecated and will be removed from pandas in a future version. Use pandas.concat instead.\n",
      "  df = df.append(df_all, ignore_index=True)\n",
      "/tmp/ipykernel_1731/2025906423.py:84: FutureWarning: The frame.append method is deprecated and will be removed from pandas in a future version. Use pandas.concat instead.\n",
      "  df = df.append(df_all, ignore_index=True)\n",
      "/tmp/ipykernel_1731/2025906423.py:84: FutureWarning: The frame.append method is deprecated and will be removed from pandas in a future version. Use pandas.concat instead.\n",
      "  df = df.append(df_all, ignore_index=True)\n",
      "/tmp/ipykernel_1731/2025906423.py:84: FutureWarning: The frame.append method is deprecated and will be removed from pandas in a future version. Use pandas.concat instead.\n",
      "  df = df.append(df_all, ignore_index=True)\n",
      "/tmp/ipykernel_1731/2025906423.py:84: FutureWarning: The frame.append method is deprecated and will be removed from pandas in a future version. Use pandas.concat instead.\n",
      "  df = df.append(df_all, ignore_index=True)\n"
     ]
    },
    {
     "name": "stderr",
     "output_type": "stream",
     "text": [
      "/tmp/ipykernel_1731/2025906423.py:84: FutureWarning: The frame.append method is deprecated and will be removed from pandas in a future version. Use pandas.concat instead.\n",
      "  df = df.append(df_all, ignore_index=True)\n",
      "/tmp/ipykernel_1731/2025906423.py:84: FutureWarning: The frame.append method is deprecated and will be removed from pandas in a future version. Use pandas.concat instead.\n",
      "  df = df.append(df_all, ignore_index=True)\n",
      "/tmp/ipykernel_1731/2025906423.py:84: FutureWarning: The frame.append method is deprecated and will be removed from pandas in a future version. Use pandas.concat instead.\n",
      "  df = df.append(df_all, ignore_index=True)\n",
      "/tmp/ipykernel_1731/2025906423.py:84: FutureWarning: The frame.append method is deprecated and will be removed from pandas in a future version. Use pandas.concat instead.\n",
      "  df = df.append(df_all, ignore_index=True)\n",
      "/tmp/ipykernel_1731/2025906423.py:84: FutureWarning: The frame.append method is deprecated and will be removed from pandas in a future version. Use pandas.concat instead.\n",
      "  df = df.append(df_all, ignore_index=True)\n",
      "/tmp/ipykernel_1731/2025906423.py:84: FutureWarning: The frame.append method is deprecated and will be removed from pandas in a future version. Use pandas.concat instead.\n",
      "  df = df.append(df_all, ignore_index=True)\n",
      "/tmp/ipykernel_1731/2025906423.py:84: FutureWarning: The frame.append method is deprecated and will be removed from pandas in a future version. Use pandas.concat instead.\n",
      "  df = df.append(df_all, ignore_index=True)\n",
      "/tmp/ipykernel_1731/2025906423.py:84: FutureWarning: The frame.append method is deprecated and will be removed from pandas in a future version. Use pandas.concat instead.\n",
      "  df = df.append(df_all, ignore_index=True)\n",
      "/tmp/ipykernel_1731/2025906423.py:84: FutureWarning: The frame.append method is deprecated and will be removed from pandas in a future version. Use pandas.concat instead.\n",
      "  df = df.append(df_all, ignore_index=True)\n",
      "/tmp/ipykernel_1731/2025906423.py:84: FutureWarning: The frame.append method is deprecated and will be removed from pandas in a future version. Use pandas.concat instead.\n",
      "  df = df.append(df_all, ignore_index=True)\n",
      "/tmp/ipykernel_1731/2025906423.py:84: FutureWarning: The frame.append method is deprecated and will be removed from pandas in a future version. Use pandas.concat instead.\n",
      "  df = df.append(df_all, ignore_index=True)\n",
      "/tmp/ipykernel_1731/2025906423.py:84: FutureWarning: The frame.append method is deprecated and will be removed from pandas in a future version. Use pandas.concat instead.\n",
      "  df = df.append(df_all, ignore_index=True)\n",
      "/tmp/ipykernel_1731/2025906423.py:84: FutureWarning: The frame.append method is deprecated and will be removed from pandas in a future version. Use pandas.concat instead.\n",
      "  df = df.append(df_all, ignore_index=True)\n",
      "/tmp/ipykernel_1731/2025906423.py:84: FutureWarning: The frame.append method is deprecated and will be removed from pandas in a future version. Use pandas.concat instead.\n",
      "  df = df.append(df_all, ignore_index=True)\n",
      "/tmp/ipykernel_1731/2025906423.py:84: FutureWarning: The frame.append method is deprecated and will be removed from pandas in a future version. Use pandas.concat instead.\n",
      "  df = df.append(df_all, ignore_index=True)\n",
      "/tmp/ipykernel_1731/2025906423.py:84: FutureWarning: The frame.append method is deprecated and will be removed from pandas in a future version. Use pandas.concat instead.\n",
      "  df = df.append(df_all, ignore_index=True)\n",
      "/tmp/ipykernel_1731/2025906423.py:84: FutureWarning: The frame.append method is deprecated and will be removed from pandas in a future version. Use pandas.concat instead.\n",
      "  df = df.append(df_all, ignore_index=True)\n",
      "/tmp/ipykernel_1731/2025906423.py:84: FutureWarning: The frame.append method is deprecated and will be removed from pandas in a future version. Use pandas.concat instead.\n",
      "  df = df.append(df_all, ignore_index=True)\n",
      "/tmp/ipykernel_1731/2025906423.py:84: FutureWarning: The frame.append method is deprecated and will be removed from pandas in a future version. Use pandas.concat instead.\n",
      "  df = df.append(df_all, ignore_index=True)\n",
      "/tmp/ipykernel_1731/2025906423.py:84: FutureWarning: The frame.append method is deprecated and will be removed from pandas in a future version. Use pandas.concat instead.\n",
      "  df = df.append(df_all, ignore_index=True)\n",
      "/tmp/ipykernel_1731/2025906423.py:84: FutureWarning: The frame.append method is deprecated and will be removed from pandas in a future version. Use pandas.concat instead.\n",
      "  df = df.append(df_all, ignore_index=True)\n",
      "/tmp/ipykernel_1731/2025906423.py:84: FutureWarning: The frame.append method is deprecated and will be removed from pandas in a future version. Use pandas.concat instead.\n",
      "  df = df.append(df_all, ignore_index=True)\n",
      "/tmp/ipykernel_1731/2025906423.py:84: FutureWarning: The frame.append method is deprecated and will be removed from pandas in a future version. Use pandas.concat instead.\n",
      "  df = df.append(df_all, ignore_index=True)\n",
      "/tmp/ipykernel_1731/2025906423.py:84: FutureWarning: The frame.append method is deprecated and will be removed from pandas in a future version. Use pandas.concat instead.\n",
      "  df = df.append(df_all, ignore_index=True)\n",
      "/tmp/ipykernel_1731/2025906423.py:84: FutureWarning: The frame.append method is deprecated and will be removed from pandas in a future version. Use pandas.concat instead.\n",
      "  df = df.append(df_all, ignore_index=True)\n",
      "/tmp/ipykernel_1731/2025906423.py:84: FutureWarning: The frame.append method is deprecated and will be removed from pandas in a future version. Use pandas.concat instead.\n",
      "  df = df.append(df_all, ignore_index=True)\n",
      "/tmp/ipykernel_1731/2025906423.py:84: FutureWarning: The frame.append method is deprecated and will be removed from pandas in a future version. Use pandas.concat instead.\n",
      "  df = df.append(df_all, ignore_index=True)\n",
      "/tmp/ipykernel_1731/2025906423.py:84: FutureWarning: The frame.append method is deprecated and will be removed from pandas in a future version. Use pandas.concat instead.\n",
      "  df = df.append(df_all, ignore_index=True)\n",
      "/tmp/ipykernel_1731/2025906423.py:84: FutureWarning: The frame.append method is deprecated and will be removed from pandas in a future version. Use pandas.concat instead.\n",
      "  df = df.append(df_all, ignore_index=True)\n",
      "/tmp/ipykernel_1731/2025906423.py:84: FutureWarning: The frame.append method is deprecated and will be removed from pandas in a future version. Use pandas.concat instead.\n",
      "  df = df.append(df_all, ignore_index=True)\n",
      "/tmp/ipykernel_1731/2025906423.py:84: FutureWarning: The frame.append method is deprecated and will be removed from pandas in a future version. Use pandas.concat instead.\n",
      "  df = df.append(df_all, ignore_index=True)\n",
      "/tmp/ipykernel_1731/2025906423.py:84: FutureWarning: The frame.append method is deprecated and will be removed from pandas in a future version. Use pandas.concat instead.\n",
      "  df = df.append(df_all, ignore_index=True)\n",
      "/tmp/ipykernel_1731/2025906423.py:84: FutureWarning: The frame.append method is deprecated and will be removed from pandas in a future version. Use pandas.concat instead.\n",
      "  df = df.append(df_all, ignore_index=True)\n",
      "/tmp/ipykernel_1731/2025906423.py:84: FutureWarning: The frame.append method is deprecated and will be removed from pandas in a future version. Use pandas.concat instead.\n",
      "  df = df.append(df_all, ignore_index=True)\n",
      "/tmp/ipykernel_1731/2025906423.py:84: FutureWarning: The frame.append method is deprecated and will be removed from pandas in a future version. Use pandas.concat instead.\n",
      "  df = df.append(df_all, ignore_index=True)\n",
      "/tmp/ipykernel_1731/2025906423.py:84: FutureWarning: The frame.append method is deprecated and will be removed from pandas in a future version. Use pandas.concat instead.\n",
      "  df = df.append(df_all, ignore_index=True)\n",
      "/tmp/ipykernel_1731/2025906423.py:84: FutureWarning: The frame.append method is deprecated and will be removed from pandas in a future version. Use pandas.concat instead.\n",
      "  df = df.append(df_all, ignore_index=True)\n",
      "/tmp/ipykernel_1731/2025906423.py:84: FutureWarning: The frame.append method is deprecated and will be removed from pandas in a future version. Use pandas.concat instead.\n",
      "  df = df.append(df_all, ignore_index=True)\n",
      "/tmp/ipykernel_1731/2025906423.py:84: FutureWarning: The frame.append method is deprecated and will be removed from pandas in a future version. Use pandas.concat instead.\n",
      "  df = df.append(df_all, ignore_index=True)\n"
     ]
    },
    {
     "name": "stderr",
     "output_type": "stream",
     "text": [
      "/tmp/ipykernel_1731/2025906423.py:84: FutureWarning: The frame.append method is deprecated and will be removed from pandas in a future version. Use pandas.concat instead.\n",
      "  df = df.append(df_all, ignore_index=True)\n",
      "/tmp/ipykernel_1731/2025906423.py:84: FutureWarning: The frame.append method is deprecated and will be removed from pandas in a future version. Use pandas.concat instead.\n",
      "  df = df.append(df_all, ignore_index=True)\n",
      "/tmp/ipykernel_1731/2025906423.py:84: FutureWarning: The frame.append method is deprecated and will be removed from pandas in a future version. Use pandas.concat instead.\n",
      "  df = df.append(df_all, ignore_index=True)\n",
      "/tmp/ipykernel_1731/2025906423.py:84: FutureWarning: The frame.append method is deprecated and will be removed from pandas in a future version. Use pandas.concat instead.\n",
      "  df = df.append(df_all, ignore_index=True)\n",
      "/tmp/ipykernel_1731/2025906423.py:84: FutureWarning: The frame.append method is deprecated and will be removed from pandas in a future version. Use pandas.concat instead.\n",
      "  df = df.append(df_all, ignore_index=True)\n",
      "/tmp/ipykernel_1731/2025906423.py:84: FutureWarning: The frame.append method is deprecated and will be removed from pandas in a future version. Use pandas.concat instead.\n",
      "  df = df.append(df_all, ignore_index=True)\n",
      "/tmp/ipykernel_1731/2025906423.py:84: FutureWarning: The frame.append method is deprecated and will be removed from pandas in a future version. Use pandas.concat instead.\n",
      "  df = df.append(df_all, ignore_index=True)\n",
      "/tmp/ipykernel_1731/2025906423.py:84: FutureWarning: The frame.append method is deprecated and will be removed from pandas in a future version. Use pandas.concat instead.\n",
      "  df = df.append(df_all, ignore_index=True)\n",
      "/tmp/ipykernel_1731/2025906423.py:84: FutureWarning: The frame.append method is deprecated and will be removed from pandas in a future version. Use pandas.concat instead.\n",
      "  df = df.append(df_all, ignore_index=True)\n",
      "/tmp/ipykernel_1731/2025906423.py:84: FutureWarning: The frame.append method is deprecated and will be removed from pandas in a future version. Use pandas.concat instead.\n",
      "  df = df.append(df_all, ignore_index=True)\n",
      "/tmp/ipykernel_1731/2025906423.py:84: FutureWarning: The frame.append method is deprecated and will be removed from pandas in a future version. Use pandas.concat instead.\n",
      "  df = df.append(df_all, ignore_index=True)\n",
      "/tmp/ipykernel_1731/2025906423.py:84: FutureWarning: The frame.append method is deprecated and will be removed from pandas in a future version. Use pandas.concat instead.\n",
      "  df = df.append(df_all, ignore_index=True)\n",
      "/tmp/ipykernel_1731/2025906423.py:84: FutureWarning: The frame.append method is deprecated and will be removed from pandas in a future version. Use pandas.concat instead.\n",
      "  df = df.append(df_all, ignore_index=True)\n",
      "/tmp/ipykernel_1731/2025906423.py:84: FutureWarning: The frame.append method is deprecated and will be removed from pandas in a future version. Use pandas.concat instead.\n",
      "  df = df.append(df_all, ignore_index=True)\n",
      "/tmp/ipykernel_1731/2025906423.py:84: FutureWarning: The frame.append method is deprecated and will be removed from pandas in a future version. Use pandas.concat instead.\n",
      "  df = df.append(df_all, ignore_index=True)\n",
      "/tmp/ipykernel_1731/2025906423.py:84: FutureWarning: The frame.append method is deprecated and will be removed from pandas in a future version. Use pandas.concat instead.\n",
      "  df = df.append(df_all, ignore_index=True)\n",
      "/tmp/ipykernel_1731/2025906423.py:84: FutureWarning: The frame.append method is deprecated and will be removed from pandas in a future version. Use pandas.concat instead.\n",
      "  df = df.append(df_all, ignore_index=True)\n",
      "/tmp/ipykernel_1731/2025906423.py:84: FutureWarning: The frame.append method is deprecated and will be removed from pandas in a future version. Use pandas.concat instead.\n",
      "  df = df.append(df_all, ignore_index=True)\n",
      "/tmp/ipykernel_1731/2025906423.py:84: FutureWarning: The frame.append method is deprecated and will be removed from pandas in a future version. Use pandas.concat instead.\n",
      "  df = df.append(df_all, ignore_index=True)\n",
      "/tmp/ipykernel_1731/2025906423.py:84: FutureWarning: The frame.append method is deprecated and will be removed from pandas in a future version. Use pandas.concat instead.\n",
      "  df = df.append(df_all, ignore_index=True)\n",
      "/tmp/ipykernel_1731/2025906423.py:84: FutureWarning: The frame.append method is deprecated and will be removed from pandas in a future version. Use pandas.concat instead.\n",
      "  df = df.append(df_all, ignore_index=True)\n",
      "/tmp/ipykernel_1731/2025906423.py:84: FutureWarning: The frame.append method is deprecated and will be removed from pandas in a future version. Use pandas.concat instead.\n",
      "  df = df.append(df_all, ignore_index=True)\n",
      "/tmp/ipykernel_1731/2025906423.py:84: FutureWarning: The frame.append method is deprecated and will be removed from pandas in a future version. Use pandas.concat instead.\n",
      "  df = df.append(df_all, ignore_index=True)\n",
      "/tmp/ipykernel_1731/2025906423.py:84: FutureWarning: The frame.append method is deprecated and will be removed from pandas in a future version. Use pandas.concat instead.\n",
      "  df = df.append(df_all, ignore_index=True)\n",
      "/tmp/ipykernel_1731/2025906423.py:84: FutureWarning: The frame.append method is deprecated and will be removed from pandas in a future version. Use pandas.concat instead.\n",
      "  df = df.append(df_all, ignore_index=True)\n",
      "/tmp/ipykernel_1731/2025906423.py:84: FutureWarning: The frame.append method is deprecated and will be removed from pandas in a future version. Use pandas.concat instead.\n",
      "  df = df.append(df_all, ignore_index=True)\n",
      "/tmp/ipykernel_1731/2025906423.py:84: FutureWarning: The frame.append method is deprecated and will be removed from pandas in a future version. Use pandas.concat instead.\n",
      "  df = df.append(df_all, ignore_index=True)\n",
      "/tmp/ipykernel_1731/2025906423.py:84: FutureWarning: The frame.append method is deprecated and will be removed from pandas in a future version. Use pandas.concat instead.\n",
      "  df = df.append(df_all, ignore_index=True)\n",
      "/tmp/ipykernel_1731/2025906423.py:84: FutureWarning: The frame.append method is deprecated and will be removed from pandas in a future version. Use pandas.concat instead.\n",
      "  df = df.append(df_all, ignore_index=True)\n",
      "/tmp/ipykernel_1731/2025906423.py:84: FutureWarning: The frame.append method is deprecated and will be removed from pandas in a future version. Use pandas.concat instead.\n",
      "  df = df.append(df_all, ignore_index=True)\n",
      "/tmp/ipykernel_1731/2025906423.py:84: FutureWarning: The frame.append method is deprecated and will be removed from pandas in a future version. Use pandas.concat instead.\n",
      "  df = df.append(df_all, ignore_index=True)\n",
      "/tmp/ipykernel_1731/2025906423.py:84: FutureWarning: The frame.append method is deprecated and will be removed from pandas in a future version. Use pandas.concat instead.\n",
      "  df = df.append(df_all, ignore_index=True)\n",
      "/tmp/ipykernel_1731/2025906423.py:84: FutureWarning: The frame.append method is deprecated and will be removed from pandas in a future version. Use pandas.concat instead.\n",
      "  df = df.append(df_all, ignore_index=True)\n",
      "/tmp/ipykernel_1731/2025906423.py:84: FutureWarning: The frame.append method is deprecated and will be removed from pandas in a future version. Use pandas.concat instead.\n",
      "  df = df.append(df_all, ignore_index=True)\n",
      "/tmp/ipykernel_1731/2025906423.py:84: FutureWarning: The frame.append method is deprecated and will be removed from pandas in a future version. Use pandas.concat instead.\n",
      "  df = df.append(df_all, ignore_index=True)\n",
      "/tmp/ipykernel_1731/2025906423.py:84: FutureWarning: The frame.append method is deprecated and will be removed from pandas in a future version. Use pandas.concat instead.\n",
      "  df = df.append(df_all, ignore_index=True)\n",
      "/tmp/ipykernel_1731/2025906423.py:84: FutureWarning: The frame.append method is deprecated and will be removed from pandas in a future version. Use pandas.concat instead.\n",
      "  df = df.append(df_all, ignore_index=True)\n",
      "/tmp/ipykernel_1731/2025906423.py:84: FutureWarning: The frame.append method is deprecated and will be removed from pandas in a future version. Use pandas.concat instead.\n",
      "  df = df.append(df_all, ignore_index=True)\n",
      "/tmp/ipykernel_1731/2025906423.py:84: FutureWarning: The frame.append method is deprecated and will be removed from pandas in a future version. Use pandas.concat instead.\n",
      "  df = df.append(df_all, ignore_index=True)\n"
     ]
    },
    {
     "name": "stderr",
     "output_type": "stream",
     "text": [
      "/tmp/ipykernel_1731/2025906423.py:84: FutureWarning: The frame.append method is deprecated and will be removed from pandas in a future version. Use pandas.concat instead.\n",
      "  df = df.append(df_all, ignore_index=True)\n",
      "/tmp/ipykernel_1731/2025906423.py:84: FutureWarning: The frame.append method is deprecated and will be removed from pandas in a future version. Use pandas.concat instead.\n",
      "  df = df.append(df_all, ignore_index=True)\n",
      "/tmp/ipykernel_1731/2025906423.py:84: FutureWarning: The frame.append method is deprecated and will be removed from pandas in a future version. Use pandas.concat instead.\n",
      "  df = df.append(df_all, ignore_index=True)\n",
      "/tmp/ipykernel_1731/2025906423.py:84: FutureWarning: The frame.append method is deprecated and will be removed from pandas in a future version. Use pandas.concat instead.\n",
      "  df = df.append(df_all, ignore_index=True)\n",
      "/tmp/ipykernel_1731/2025906423.py:84: FutureWarning: The frame.append method is deprecated and will be removed from pandas in a future version. Use pandas.concat instead.\n",
      "  df = df.append(df_all, ignore_index=True)\n",
      "/tmp/ipykernel_1731/2025906423.py:84: FutureWarning: The frame.append method is deprecated and will be removed from pandas in a future version. Use pandas.concat instead.\n",
      "  df = df.append(df_all, ignore_index=True)\n",
      "/tmp/ipykernel_1731/2025906423.py:84: FutureWarning: The frame.append method is deprecated and will be removed from pandas in a future version. Use pandas.concat instead.\n",
      "  df = df.append(df_all, ignore_index=True)\n",
      "/tmp/ipykernel_1731/2025906423.py:84: FutureWarning: The frame.append method is deprecated and will be removed from pandas in a future version. Use pandas.concat instead.\n",
      "  df = df.append(df_all, ignore_index=True)\n",
      "/tmp/ipykernel_1731/2025906423.py:84: FutureWarning: The frame.append method is deprecated and will be removed from pandas in a future version. Use pandas.concat instead.\n",
      "  df = df.append(df_all, ignore_index=True)\n",
      "/tmp/ipykernel_1731/2025906423.py:84: FutureWarning: The frame.append method is deprecated and will be removed from pandas in a future version. Use pandas.concat instead.\n",
      "  df = df.append(df_all, ignore_index=True)\n",
      "/tmp/ipykernel_1731/2025906423.py:84: FutureWarning: The frame.append method is deprecated and will be removed from pandas in a future version. Use pandas.concat instead.\n",
      "  df = df.append(df_all, ignore_index=True)\n",
      "/tmp/ipykernel_1731/2025906423.py:84: FutureWarning: The frame.append method is deprecated and will be removed from pandas in a future version. Use pandas.concat instead.\n",
      "  df = df.append(df_all, ignore_index=True)\n",
      "/tmp/ipykernel_1731/2025906423.py:84: FutureWarning: The frame.append method is deprecated and will be removed from pandas in a future version. Use pandas.concat instead.\n",
      "  df = df.append(df_all, ignore_index=True)\n",
      "/tmp/ipykernel_1731/2025906423.py:84: FutureWarning: The frame.append method is deprecated and will be removed from pandas in a future version. Use pandas.concat instead.\n",
      "  df = df.append(df_all, ignore_index=True)\n",
      "/tmp/ipykernel_1731/2025906423.py:84: FutureWarning: The frame.append method is deprecated and will be removed from pandas in a future version. Use pandas.concat instead.\n",
      "  df = df.append(df_all, ignore_index=True)\n",
      "/tmp/ipykernel_1731/2025906423.py:84: FutureWarning: The frame.append method is deprecated and will be removed from pandas in a future version. Use pandas.concat instead.\n",
      "  df = df.append(df_all, ignore_index=True)\n",
      "/tmp/ipykernel_1731/2025906423.py:84: FutureWarning: The frame.append method is deprecated and will be removed from pandas in a future version. Use pandas.concat instead.\n",
      "  df = df.append(df_all, ignore_index=True)\n",
      "/tmp/ipykernel_1731/2025906423.py:84: FutureWarning: The frame.append method is deprecated and will be removed from pandas in a future version. Use pandas.concat instead.\n",
      "  df = df.append(df_all, ignore_index=True)\n",
      "/tmp/ipykernel_1731/2025906423.py:84: FutureWarning: The frame.append method is deprecated and will be removed from pandas in a future version. Use pandas.concat instead.\n",
      "  df = df.append(df_all, ignore_index=True)\n",
      "/tmp/ipykernel_1731/2025906423.py:84: FutureWarning: The frame.append method is deprecated and will be removed from pandas in a future version. Use pandas.concat instead.\n",
      "  df = df.append(df_all, ignore_index=True)\n",
      "/tmp/ipykernel_1731/2025906423.py:84: FutureWarning: The frame.append method is deprecated and will be removed from pandas in a future version. Use pandas.concat instead.\n",
      "  df = df.append(df_all, ignore_index=True)\n",
      "/tmp/ipykernel_1731/2025906423.py:84: FutureWarning: The frame.append method is deprecated and will be removed from pandas in a future version. Use pandas.concat instead.\n",
      "  df = df.append(df_all, ignore_index=True)\n",
      "/tmp/ipykernel_1731/2025906423.py:84: FutureWarning: The frame.append method is deprecated and will be removed from pandas in a future version. Use pandas.concat instead.\n",
      "  df = df.append(df_all, ignore_index=True)\n",
      "/tmp/ipykernel_1731/2025906423.py:84: FutureWarning: The frame.append method is deprecated and will be removed from pandas in a future version. Use pandas.concat instead.\n",
      "  df = df.append(df_all, ignore_index=True)\n",
      "/tmp/ipykernel_1731/2025906423.py:84: FutureWarning: The frame.append method is deprecated and will be removed from pandas in a future version. Use pandas.concat instead.\n",
      "  df = df.append(df_all, ignore_index=True)\n",
      "/tmp/ipykernel_1731/2025906423.py:84: FutureWarning: The frame.append method is deprecated and will be removed from pandas in a future version. Use pandas.concat instead.\n",
      "  df = df.append(df_all, ignore_index=True)\n",
      "/tmp/ipykernel_1731/2025906423.py:84: FutureWarning: The frame.append method is deprecated and will be removed from pandas in a future version. Use pandas.concat instead.\n",
      "  df = df.append(df_all, ignore_index=True)\n",
      "/tmp/ipykernel_1731/2025906423.py:84: FutureWarning: The frame.append method is deprecated and will be removed from pandas in a future version. Use pandas.concat instead.\n",
      "  df = df.append(df_all, ignore_index=True)\n",
      "/tmp/ipykernel_1731/2025906423.py:84: FutureWarning: The frame.append method is deprecated and will be removed from pandas in a future version. Use pandas.concat instead.\n",
      "  df = df.append(df_all, ignore_index=True)\n",
      "/tmp/ipykernel_1731/2025906423.py:84: FutureWarning: The frame.append method is deprecated and will be removed from pandas in a future version. Use pandas.concat instead.\n",
      "  df = df.append(df_all, ignore_index=True)\n",
      "/tmp/ipykernel_1731/2025906423.py:84: FutureWarning: The frame.append method is deprecated and will be removed from pandas in a future version. Use pandas.concat instead.\n",
      "  df = df.append(df_all, ignore_index=True)\n",
      "/tmp/ipykernel_1731/2025906423.py:84: FutureWarning: The frame.append method is deprecated and will be removed from pandas in a future version. Use pandas.concat instead.\n",
      "  df = df.append(df_all, ignore_index=True)\n",
      "/tmp/ipykernel_1731/2025906423.py:84: FutureWarning: The frame.append method is deprecated and will be removed from pandas in a future version. Use pandas.concat instead.\n",
      "  df = df.append(df_all, ignore_index=True)\n",
      "/tmp/ipykernel_1731/2025906423.py:84: FutureWarning: The frame.append method is deprecated and will be removed from pandas in a future version. Use pandas.concat instead.\n",
      "  df = df.append(df_all, ignore_index=True)\n",
      "/tmp/ipykernel_1731/2025906423.py:84: FutureWarning: The frame.append method is deprecated and will be removed from pandas in a future version. Use pandas.concat instead.\n",
      "  df = df.append(df_all, ignore_index=True)\n",
      "/tmp/ipykernel_1731/2025906423.py:84: FutureWarning: The frame.append method is deprecated and will be removed from pandas in a future version. Use pandas.concat instead.\n",
      "  df = df.append(df_all, ignore_index=True)\n",
      "/tmp/ipykernel_1731/2025906423.py:84: FutureWarning: The frame.append method is deprecated and will be removed from pandas in a future version. Use pandas.concat instead.\n",
      "  df = df.append(df_all, ignore_index=True)\n",
      "/tmp/ipykernel_1731/2025906423.py:84: FutureWarning: The frame.append method is deprecated and will be removed from pandas in a future version. Use pandas.concat instead.\n",
      "  df = df.append(df_all, ignore_index=True)\n",
      "/tmp/ipykernel_1731/2025906423.py:84: FutureWarning: The frame.append method is deprecated and will be removed from pandas in a future version. Use pandas.concat instead.\n",
      "  df = df.append(df_all, ignore_index=True)\n"
     ]
    },
    {
     "name": "stderr",
     "output_type": "stream",
     "text": [
      "/tmp/ipykernel_1731/2025906423.py:84: FutureWarning: The frame.append method is deprecated and will be removed from pandas in a future version. Use pandas.concat instead.\n",
      "  df = df.append(df_all, ignore_index=True)\n",
      "/tmp/ipykernel_1731/2025906423.py:84: FutureWarning: The frame.append method is deprecated and will be removed from pandas in a future version. Use pandas.concat instead.\n",
      "  df = df.append(df_all, ignore_index=True)\n",
      "/tmp/ipykernel_1731/2025906423.py:84: FutureWarning: The frame.append method is deprecated and will be removed from pandas in a future version. Use pandas.concat instead.\n",
      "  df = df.append(df_all, ignore_index=True)\n",
      "/tmp/ipykernel_1731/2025906423.py:84: FutureWarning: The frame.append method is deprecated and will be removed from pandas in a future version. Use pandas.concat instead.\n",
      "  df = df.append(df_all, ignore_index=True)\n",
      "/tmp/ipykernel_1731/2025906423.py:84: FutureWarning: The frame.append method is deprecated and will be removed from pandas in a future version. Use pandas.concat instead.\n",
      "  df = df.append(df_all, ignore_index=True)\n",
      "/tmp/ipykernel_1731/2025906423.py:84: FutureWarning: The frame.append method is deprecated and will be removed from pandas in a future version. Use pandas.concat instead.\n",
      "  df = df.append(df_all, ignore_index=True)\n",
      "/tmp/ipykernel_1731/2025906423.py:84: FutureWarning: The frame.append method is deprecated and will be removed from pandas in a future version. Use pandas.concat instead.\n",
      "  df = df.append(df_all, ignore_index=True)\n",
      "/tmp/ipykernel_1731/2025906423.py:84: FutureWarning: The frame.append method is deprecated and will be removed from pandas in a future version. Use pandas.concat instead.\n",
      "  df = df.append(df_all, ignore_index=True)\n",
      "/tmp/ipykernel_1731/2025906423.py:84: FutureWarning: The frame.append method is deprecated and will be removed from pandas in a future version. Use pandas.concat instead.\n",
      "  df = df.append(df_all, ignore_index=True)\n",
      "/tmp/ipykernel_1731/2025906423.py:84: FutureWarning: The frame.append method is deprecated and will be removed from pandas in a future version. Use pandas.concat instead.\n",
      "  df = df.append(df_all, ignore_index=True)\n",
      "/tmp/ipykernel_1731/2025906423.py:84: FutureWarning: The frame.append method is deprecated and will be removed from pandas in a future version. Use pandas.concat instead.\n",
      "  df = df.append(df_all, ignore_index=True)\n",
      "/tmp/ipykernel_1731/2025906423.py:84: FutureWarning: The frame.append method is deprecated and will be removed from pandas in a future version. Use pandas.concat instead.\n",
      "  df = df.append(df_all, ignore_index=True)\n",
      "/tmp/ipykernel_1731/2025906423.py:84: FutureWarning: The frame.append method is deprecated and will be removed from pandas in a future version. Use pandas.concat instead.\n",
      "  df = df.append(df_all, ignore_index=True)\n",
      "/tmp/ipykernel_1731/2025906423.py:84: FutureWarning: The frame.append method is deprecated and will be removed from pandas in a future version. Use pandas.concat instead.\n",
      "  df = df.append(df_all, ignore_index=True)\n",
      "/tmp/ipykernel_1731/2025906423.py:84: FutureWarning: The frame.append method is deprecated and will be removed from pandas in a future version. Use pandas.concat instead.\n",
      "  df = df.append(df_all, ignore_index=True)\n",
      "/tmp/ipykernel_1731/2025906423.py:84: FutureWarning: The frame.append method is deprecated and will be removed from pandas in a future version. Use pandas.concat instead.\n",
      "  df = df.append(df_all, ignore_index=True)\n",
      "/tmp/ipykernel_1731/2025906423.py:84: FutureWarning: The frame.append method is deprecated and will be removed from pandas in a future version. Use pandas.concat instead.\n",
      "  df = df.append(df_all, ignore_index=True)\n",
      "/tmp/ipykernel_1731/2025906423.py:84: FutureWarning: The frame.append method is deprecated and will be removed from pandas in a future version. Use pandas.concat instead.\n",
      "  df = df.append(df_all, ignore_index=True)\n",
      "/tmp/ipykernel_1731/2025906423.py:84: FutureWarning: The frame.append method is deprecated and will be removed from pandas in a future version. Use pandas.concat instead.\n",
      "  df = df.append(df_all, ignore_index=True)\n",
      "/tmp/ipykernel_1731/2025906423.py:84: FutureWarning: The frame.append method is deprecated and will be removed from pandas in a future version. Use pandas.concat instead.\n",
      "  df = df.append(df_all, ignore_index=True)\n",
      "/tmp/ipykernel_1731/2025906423.py:84: FutureWarning: The frame.append method is deprecated and will be removed from pandas in a future version. Use pandas.concat instead.\n",
      "  df = df.append(df_all, ignore_index=True)\n",
      "/tmp/ipykernel_1731/2025906423.py:84: FutureWarning: The frame.append method is deprecated and will be removed from pandas in a future version. Use pandas.concat instead.\n",
      "  df = df.append(df_all, ignore_index=True)\n",
      "/tmp/ipykernel_1731/2025906423.py:84: FutureWarning: The frame.append method is deprecated and will be removed from pandas in a future version. Use pandas.concat instead.\n",
      "  df = df.append(df_all, ignore_index=True)\n",
      "/tmp/ipykernel_1731/2025906423.py:84: FutureWarning: The frame.append method is deprecated and will be removed from pandas in a future version. Use pandas.concat instead.\n",
      "  df = df.append(df_all, ignore_index=True)\n",
      "/tmp/ipykernel_1731/2025906423.py:84: FutureWarning: The frame.append method is deprecated and will be removed from pandas in a future version. Use pandas.concat instead.\n",
      "  df = df.append(df_all, ignore_index=True)\n",
      "/tmp/ipykernel_1731/2025906423.py:84: FutureWarning: The frame.append method is deprecated and will be removed from pandas in a future version. Use pandas.concat instead.\n",
      "  df = df.append(df_all, ignore_index=True)\n",
      "/tmp/ipykernel_1731/2025906423.py:84: FutureWarning: The frame.append method is deprecated and will be removed from pandas in a future version. Use pandas.concat instead.\n",
      "  df = df.append(df_all, ignore_index=True)\n",
      "/tmp/ipykernel_1731/2025906423.py:84: FutureWarning: The frame.append method is deprecated and will be removed from pandas in a future version. Use pandas.concat instead.\n",
      "  df = df.append(df_all, ignore_index=True)\n",
      "/tmp/ipykernel_1731/2025906423.py:84: FutureWarning: The frame.append method is deprecated and will be removed from pandas in a future version. Use pandas.concat instead.\n",
      "  df = df.append(df_all, ignore_index=True)\n",
      "/tmp/ipykernel_1731/2025906423.py:84: FutureWarning: The frame.append method is deprecated and will be removed from pandas in a future version. Use pandas.concat instead.\n",
      "  df = df.append(df_all, ignore_index=True)\n",
      "/tmp/ipykernel_1731/2025906423.py:84: FutureWarning: The frame.append method is deprecated and will be removed from pandas in a future version. Use pandas.concat instead.\n",
      "  df = df.append(df_all, ignore_index=True)\n",
      "/tmp/ipykernel_1731/2025906423.py:84: FutureWarning: The frame.append method is deprecated and will be removed from pandas in a future version. Use pandas.concat instead.\n",
      "  df = df.append(df_all, ignore_index=True)\n",
      "/tmp/ipykernel_1731/2025906423.py:84: FutureWarning: The frame.append method is deprecated and will be removed from pandas in a future version. Use pandas.concat instead.\n",
      "  df = df.append(df_all, ignore_index=True)\n",
      "/tmp/ipykernel_1731/2025906423.py:84: FutureWarning: The frame.append method is deprecated and will be removed from pandas in a future version. Use pandas.concat instead.\n",
      "  df = df.append(df_all, ignore_index=True)\n",
      "/tmp/ipykernel_1731/2025906423.py:84: FutureWarning: The frame.append method is deprecated and will be removed from pandas in a future version. Use pandas.concat instead.\n",
      "  df = df.append(df_all, ignore_index=True)\n",
      "/tmp/ipykernel_1731/2025906423.py:84: FutureWarning: The frame.append method is deprecated and will be removed from pandas in a future version. Use pandas.concat instead.\n",
      "  df = df.append(df_all, ignore_index=True)\n",
      "/tmp/ipykernel_1731/2025906423.py:84: FutureWarning: The frame.append method is deprecated and will be removed from pandas in a future version. Use pandas.concat instead.\n",
      "  df = df.append(df_all, ignore_index=True)\n",
      "/tmp/ipykernel_1731/2025906423.py:84: FutureWarning: The frame.append method is deprecated and will be removed from pandas in a future version. Use pandas.concat instead.\n",
      "  df = df.append(df_all, ignore_index=True)\n",
      "/tmp/ipykernel_1731/2025906423.py:84: FutureWarning: The frame.append method is deprecated and will be removed from pandas in a future version. Use pandas.concat instead.\n",
      "  df = df.append(df_all, ignore_index=True)\n"
     ]
    },
    {
     "name": "stderr",
     "output_type": "stream",
     "text": [
      "/tmp/ipykernel_1731/2025906423.py:84: FutureWarning: The frame.append method is deprecated and will be removed from pandas in a future version. Use pandas.concat instead.\n",
      "  df = df.append(df_all, ignore_index=True)\n",
      "/tmp/ipykernel_1731/2025906423.py:84: FutureWarning: The frame.append method is deprecated and will be removed from pandas in a future version. Use pandas.concat instead.\n",
      "  df = df.append(df_all, ignore_index=True)\n",
      "/tmp/ipykernel_1731/2025906423.py:84: FutureWarning: The frame.append method is deprecated and will be removed from pandas in a future version. Use pandas.concat instead.\n",
      "  df = df.append(df_all, ignore_index=True)\n",
      "/tmp/ipykernel_1731/2025906423.py:84: FutureWarning: The frame.append method is deprecated and will be removed from pandas in a future version. Use pandas.concat instead.\n",
      "  df = df.append(df_all, ignore_index=True)\n",
      "/tmp/ipykernel_1731/2025906423.py:84: FutureWarning: The frame.append method is deprecated and will be removed from pandas in a future version. Use pandas.concat instead.\n",
      "  df = df.append(df_all, ignore_index=True)\n",
      "/tmp/ipykernel_1731/2025906423.py:84: FutureWarning: The frame.append method is deprecated and will be removed from pandas in a future version. Use pandas.concat instead.\n",
      "  df = df.append(df_all, ignore_index=True)\n",
      "/tmp/ipykernel_1731/2025906423.py:84: FutureWarning: The frame.append method is deprecated and will be removed from pandas in a future version. Use pandas.concat instead.\n",
      "  df = df.append(df_all, ignore_index=True)\n",
      "/tmp/ipykernel_1731/2025906423.py:84: FutureWarning: The frame.append method is deprecated and will be removed from pandas in a future version. Use pandas.concat instead.\n",
      "  df = df.append(df_all, ignore_index=True)\n",
      "/tmp/ipykernel_1731/2025906423.py:84: FutureWarning: The frame.append method is deprecated and will be removed from pandas in a future version. Use pandas.concat instead.\n",
      "  df = df.append(df_all, ignore_index=True)\n",
      "/tmp/ipykernel_1731/2025906423.py:84: FutureWarning: The frame.append method is deprecated and will be removed from pandas in a future version. Use pandas.concat instead.\n",
      "  df = df.append(df_all, ignore_index=True)\n",
      "/tmp/ipykernel_1731/2025906423.py:84: FutureWarning: The frame.append method is deprecated and will be removed from pandas in a future version. Use pandas.concat instead.\n",
      "  df = df.append(df_all, ignore_index=True)\n",
      "/tmp/ipykernel_1731/2025906423.py:84: FutureWarning: The frame.append method is deprecated and will be removed from pandas in a future version. Use pandas.concat instead.\n",
      "  df = df.append(df_all, ignore_index=True)\n",
      "/tmp/ipykernel_1731/2025906423.py:84: FutureWarning: The frame.append method is deprecated and will be removed from pandas in a future version. Use pandas.concat instead.\n",
      "  df = df.append(df_all, ignore_index=True)\n",
      "/tmp/ipykernel_1731/2025906423.py:84: FutureWarning: The frame.append method is deprecated and will be removed from pandas in a future version. Use pandas.concat instead.\n",
      "  df = df.append(df_all, ignore_index=True)\n",
      "/tmp/ipykernel_1731/2025906423.py:84: FutureWarning: The frame.append method is deprecated and will be removed from pandas in a future version. Use pandas.concat instead.\n",
      "  df = df.append(df_all, ignore_index=True)\n",
      "/tmp/ipykernel_1731/2025906423.py:84: FutureWarning: The frame.append method is deprecated and will be removed from pandas in a future version. Use pandas.concat instead.\n",
      "  df = df.append(df_all, ignore_index=True)\n",
      "/tmp/ipykernel_1731/2025906423.py:84: FutureWarning: The frame.append method is deprecated and will be removed from pandas in a future version. Use pandas.concat instead.\n",
      "  df = df.append(df_all, ignore_index=True)\n",
      "/tmp/ipykernel_1731/2025906423.py:84: FutureWarning: The frame.append method is deprecated and will be removed from pandas in a future version. Use pandas.concat instead.\n",
      "  df = df.append(df_all, ignore_index=True)\n"
     ]
    },
    {
     "name": "stdout",
     "output_type": "stream",
     "text": [
      "Failed to save DataFrame after 5 attempts.\n",
      "['Blank_Blank_Blank_Blank_Blank' 'DOD93_F4_Female_5xFAD_cerebellum'\n",
      " 'DOD93_F4_Female_5xFAD_cortex ' 'DOD93_F4_Female_5xFAD_diencephalon'\n",
      " 'DOD93_F4_Female_5xFAD_hippocampus' 'DOD94_F3_Female_WT_cerebellum'\n",
      " 'DOD94_F3_Female_WT_cortex ' 'DOD94_F3_Female_WT_diencephalon'\n",
      " 'DOD94_F3_Female_WT_hippocampus' 'DOD94_F4_Female_5xFAD_cerebellum'\n",
      " 'DOD94_F4_Female_5xFAD_cortex ' 'DOD94_F4_Female_5xFAD_diencephalon'\n",
      " 'DOD94_F4_Female_5xFAD_hippocampus' 'FAD184_F3_Female_WT_cerebellum'\n",
      " 'FAD184_F3_Female_WT_cortex ' 'FAD184_F3_Female_WT_diencephalon'\n",
      " 'FAD184_F3_Female_WT_hippocampus' 'FAD184_F4_Female_WT_cerebellum'\n",
      " 'FAD184_F4_Female_WT_cortex ' 'FAD184_F4_Female_WT_diencephalon'\n",
      " 'FAD184_F4_Female_WT_hippocampus' 'FAD185_M1_Male_5xFAD_cerebellum'\n",
      " 'FAD185_M1_Male_5xFAD_cortex ' 'FAD185_M1_Male_5xFAD_diencephalon'\n",
      " 'FAD185_M1_Male_5xFAD_hippocampus' 'FAD185_M3_Male_5xFAD_cerebellum'\n",
      " 'FAD185_M3_Male_5xFAD_cortex ' 'FAD185_M3_Male_5xFAD_diencephalon'\n",
      " 'FAD185_M3_Male_5xFAD_hippocampus' 'FAD185_M4_Male_WT_cerebellum'\n",
      " 'FAD185_M4_Male_WT_cortex ' 'FAD185_M4_Male_WT_diencephalon'\n",
      " 'FAD185_M4_Male_WT_hippocampus' 'FAD189_M1_Male_5xFAD_cerebellum'\n",
      " 'FAD189_M1_Male_5xFAD_cortex ' 'FAD189_M1_Male_5xFAD_diencephalon'\n",
      " 'FAD189_M1_Male_5xFAD_hippocampus' 'FAD189_M2_Male_5xFAD_cerebellum'\n",
      " 'FAD189_M2_Male_5xFAD_cortex ' 'FAD189_M2_Male_5xFAD_diencephalon'\n",
      " 'FAD189_M2_Male_5xFAD_hippocampus' 'FAD189_M3_Male_WT_cerebellum'\n",
      " 'FAD189_M3_Male_WT_cortex ' 'FAD189_M3_Male_WT_diencephalon'\n",
      " 'FAD189_M3_Male_WT_hippocampus']\n",
      "3256 TEMP\n",
      "3256 TEMP\n",
      "3256 TEMP\n",
      "3256 TEMP\n",
      "3256 TEMP\n",
      "3256 TEMP\n",
      "3256 TEMP\n",
      "3256 TEMP\n",
      "3256 TEMP\n",
      "3256 TEMP\n",
      "3256 TEMP\n",
      "3256 TEMP\n",
      "3256 TEMP\n",
      "3256 TEMP\n",
      "3256 TEMP\n",
      "3256 TEMP\n",
      "3256 TEMP\n",
      "3256 TEMP\n",
      "3256 TEMP\n",
      "3256 TEMP\n",
      "3256 TEMP\n",
      "3256 TEMP\n",
      "3256 TEMP\n",
      "3256 TEMP\n",
      "3256 TEMP\n",
      "3256 TEMP\n",
      "3256 TEMP\n",
      "3256 TEMP\n",
      "3256 TEMP\n",
      "3256 TEMP\n",
      "3256 TEMP\n",
      "3256 TEMP\n",
      "3256 TEMP\n",
      "3256 TEMP\n",
      "3256 TEMP\n",
      "3256 TEMP\n",
      "3256 TEMP\n",
      "3256 TEMP\n",
      "3256 TEMP\n",
      "3256 TEMP\n",
      "3256 TEMP\n",
      "3256 TEMP\n",
      "3256 TEMP\n",
      "3256 TEMP\n",
      "3256 TEMP\n",
      "3256 TEMP\n",
      "3256 TEMP\n",
      "3256 TEMP\n",
      "3256 TEMP\n",
      "3256 TEMP\n",
      "3256 TEMP\n"
     ]
    },
    {
     "name": "stderr",
     "output_type": "stream",
     "text": [
      "/tmp/ipykernel_1731/2025906423.py:190: SettingWithCopyWarning: \n",
      "A value is trying to be set on a copy of a slice from a DataFrame.\n",
      "Try using .loc[row_indexer,col_indexer] = value instead\n",
      "\n",
      "See the caveats in the documentation: https://pandas.pydata.org/pandas-docs/stable/user_guide/indexing.html#returning-a-view-versus-a-copy\n",
      "  temp_df[\"Blank Subtraction\"] = numbers2\n",
      "/tmp/ipykernel_1731/2025906423.py:192: FutureWarning: The frame.append method is deprecated and will be removed from pandas in a future version. Use pandas.concat instead.\n",
      "  merged_df = merged_df.append(temp_df)\n",
      "/tmp/ipykernel_1731/2025906423.py:190: SettingWithCopyWarning: \n",
      "A value is trying to be set on a copy of a slice from a DataFrame.\n",
      "Try using .loc[row_indexer,col_indexer] = value instead\n",
      "\n",
      "See the caveats in the documentation: https://pandas.pydata.org/pandas-docs/stable/user_guide/indexing.html#returning-a-view-versus-a-copy\n",
      "  temp_df[\"Blank Subtraction\"] = numbers2\n",
      "/tmp/ipykernel_1731/2025906423.py:192: FutureWarning: The frame.append method is deprecated and will be removed from pandas in a future version. Use pandas.concat instead.\n",
      "  merged_df = merged_df.append(temp_df)\n",
      "/tmp/ipykernel_1731/2025906423.py:190: SettingWithCopyWarning: \n",
      "A value is trying to be set on a copy of a slice from a DataFrame.\n",
      "Try using .loc[row_indexer,col_indexer] = value instead\n",
      "\n",
      "See the caveats in the documentation: https://pandas.pydata.org/pandas-docs/stable/user_guide/indexing.html#returning-a-view-versus-a-copy\n",
      "  temp_df[\"Blank Subtraction\"] = numbers2\n",
      "/tmp/ipykernel_1731/2025906423.py:192: FutureWarning: The frame.append method is deprecated and will be removed from pandas in a future version. Use pandas.concat instead.\n",
      "  merged_df = merged_df.append(temp_df)\n",
      "/tmp/ipykernel_1731/2025906423.py:190: SettingWithCopyWarning: \n",
      "A value is trying to be set on a copy of a slice from a DataFrame.\n",
      "Try using .loc[row_indexer,col_indexer] = value instead\n",
      "\n",
      "See the caveats in the documentation: https://pandas.pydata.org/pandas-docs/stable/user_guide/indexing.html#returning-a-view-versus-a-copy\n",
      "  temp_df[\"Blank Subtraction\"] = numbers2\n",
      "/tmp/ipykernel_1731/2025906423.py:192: FutureWarning: The frame.append method is deprecated and will be removed from pandas in a future version. Use pandas.concat instead.\n",
      "  merged_df = merged_df.append(temp_df)\n",
      "/tmp/ipykernel_1731/2025906423.py:190: SettingWithCopyWarning: \n",
      "A value is trying to be set on a copy of a slice from a DataFrame.\n",
      "Try using .loc[row_indexer,col_indexer] = value instead\n",
      "\n",
      "See the caveats in the documentation: https://pandas.pydata.org/pandas-docs/stable/user_guide/indexing.html#returning-a-view-versus-a-copy\n",
      "  temp_df[\"Blank Subtraction\"] = numbers2\n",
      "/tmp/ipykernel_1731/2025906423.py:192: FutureWarning: The frame.append method is deprecated and will be removed from pandas in a future version. Use pandas.concat instead.\n",
      "  merged_df = merged_df.append(temp_df)\n",
      "/tmp/ipykernel_1731/2025906423.py:190: SettingWithCopyWarning: \n",
      "A value is trying to be set on a copy of a slice from a DataFrame.\n",
      "Try using .loc[row_indexer,col_indexer] = value instead\n",
      "\n",
      "See the caveats in the documentation: https://pandas.pydata.org/pandas-docs/stable/user_guide/indexing.html#returning-a-view-versus-a-copy\n",
      "  temp_df[\"Blank Subtraction\"] = numbers2\n",
      "/tmp/ipykernel_1731/2025906423.py:192: FutureWarning: The frame.append method is deprecated and will be removed from pandas in a future version. Use pandas.concat instead.\n",
      "  merged_df = merged_df.append(temp_df)\n",
      "/tmp/ipykernel_1731/2025906423.py:190: SettingWithCopyWarning: \n",
      "A value is trying to be set on a copy of a slice from a DataFrame.\n",
      "Try using .loc[row_indexer,col_indexer] = value instead\n",
      "\n",
      "See the caveats in the documentation: https://pandas.pydata.org/pandas-docs/stable/user_guide/indexing.html#returning-a-view-versus-a-copy\n",
      "  temp_df[\"Blank Subtraction\"] = numbers2\n",
      "/tmp/ipykernel_1731/2025906423.py:192: FutureWarning: The frame.append method is deprecated and will be removed from pandas in a future version. Use pandas.concat instead.\n",
      "  merged_df = merged_df.append(temp_df)\n",
      "/tmp/ipykernel_1731/2025906423.py:190: SettingWithCopyWarning: \n",
      "A value is trying to be set on a copy of a slice from a DataFrame.\n",
      "Try using .loc[row_indexer,col_indexer] = value instead\n",
      "\n",
      "See the caveats in the documentation: https://pandas.pydata.org/pandas-docs/stable/user_guide/indexing.html#returning-a-view-versus-a-copy\n",
      "  temp_df[\"Blank Subtraction\"] = numbers2\n",
      "/tmp/ipykernel_1731/2025906423.py:192: FutureWarning: The frame.append method is deprecated and will be removed from pandas in a future version. Use pandas.concat instead.\n",
      "  merged_df = merged_df.append(temp_df)\n",
      "/tmp/ipykernel_1731/2025906423.py:190: SettingWithCopyWarning: \n",
      "A value is trying to be set on a copy of a slice from a DataFrame.\n",
      "Try using .loc[row_indexer,col_indexer] = value instead\n",
      "\n",
      "See the caveats in the documentation: https://pandas.pydata.org/pandas-docs/stable/user_guide/indexing.html#returning-a-view-versus-a-copy\n",
      "  temp_df[\"Blank Subtraction\"] = numbers2\n",
      "/tmp/ipykernel_1731/2025906423.py:192: FutureWarning: The frame.append method is deprecated and will be removed from pandas in a future version. Use pandas.concat instead.\n",
      "  merged_df = merged_df.append(temp_df)\n",
      "/tmp/ipykernel_1731/2025906423.py:190: SettingWithCopyWarning: \n",
      "A value is trying to be set on a copy of a slice from a DataFrame.\n",
      "Try using .loc[row_indexer,col_indexer] = value instead\n",
      "\n",
      "See the caveats in the documentation: https://pandas.pydata.org/pandas-docs/stable/user_guide/indexing.html#returning-a-view-versus-a-copy\n",
      "  temp_df[\"Blank Subtraction\"] = numbers2\n",
      "/tmp/ipykernel_1731/2025906423.py:192: FutureWarning: The frame.append method is deprecated and will be removed from pandas in a future version. Use pandas.concat instead.\n",
      "  merged_df = merged_df.append(temp_df)\n",
      "/tmp/ipykernel_1731/2025906423.py:190: SettingWithCopyWarning: \n",
      "A value is trying to be set on a copy of a slice from a DataFrame.\n",
      "Try using .loc[row_indexer,col_indexer] = value instead\n",
      "\n",
      "See the caveats in the documentation: https://pandas.pydata.org/pandas-docs/stable/user_guide/indexing.html#returning-a-view-versus-a-copy\n",
      "  temp_df[\"Blank Subtraction\"] = numbers2\n",
      "/tmp/ipykernel_1731/2025906423.py:192: FutureWarning: The frame.append method is deprecated and will be removed from pandas in a future version. Use pandas.concat instead.\n",
      "  merged_df = merged_df.append(temp_df)\n",
      "/tmp/ipykernel_1731/2025906423.py:190: SettingWithCopyWarning: \n",
      "A value is trying to be set on a copy of a slice from a DataFrame.\n",
      "Try using .loc[row_indexer,col_indexer] = value instead\n",
      "\n",
      "See the caveats in the documentation: https://pandas.pydata.org/pandas-docs/stable/user_guide/indexing.html#returning-a-view-versus-a-copy\n",
      "  temp_df[\"Blank Subtraction\"] = numbers2\n",
      "/tmp/ipykernel_1731/2025906423.py:192: FutureWarning: The frame.append method is deprecated and will be removed from pandas in a future version. Use pandas.concat instead.\n",
      "  merged_df = merged_df.append(temp_df)\n",
      "/tmp/ipykernel_1731/2025906423.py:190: SettingWithCopyWarning: \n",
      "A value is trying to be set on a copy of a slice from a DataFrame.\n",
      "Try using .loc[row_indexer,col_indexer] = value instead\n",
      "\n",
      "See the caveats in the documentation: https://pandas.pydata.org/pandas-docs/stable/user_guide/indexing.html#returning-a-view-versus-a-copy\n",
      "  temp_df[\"Blank Subtraction\"] = numbers2\n",
      "/tmp/ipykernel_1731/2025906423.py:192: FutureWarning: The frame.append method is deprecated and will be removed from pandas in a future version. Use pandas.concat instead.\n",
      "  merged_df = merged_df.append(temp_df)\n",
      "/tmp/ipykernel_1731/2025906423.py:190: SettingWithCopyWarning: \n",
      "A value is trying to be set on a copy of a slice from a DataFrame.\n",
      "Try using .loc[row_indexer,col_indexer] = value instead\n",
      "\n",
      "See the caveats in the documentation: https://pandas.pydata.org/pandas-docs/stable/user_guide/indexing.html#returning-a-view-versus-a-copy\n",
      "  temp_df[\"Blank Subtraction\"] = numbers2\n",
      "/tmp/ipykernel_1731/2025906423.py:192: FutureWarning: The frame.append method is deprecated and will be removed from pandas in a future version. Use pandas.concat instead.\n",
      "  merged_df = merged_df.append(temp_df)\n",
      "/tmp/ipykernel_1731/2025906423.py:190: SettingWithCopyWarning: \n",
      "A value is trying to be set on a copy of a slice from a DataFrame.\n",
      "Try using .loc[row_indexer,col_indexer] = value instead\n",
      "\n",
      "See the caveats in the documentation: https://pandas.pydata.org/pandas-docs/stable/user_guide/indexing.html#returning-a-view-versus-a-copy\n",
      "  temp_df[\"Blank Subtraction\"] = numbers2\n",
      "/tmp/ipykernel_1731/2025906423.py:192: FutureWarning: The frame.append method is deprecated and will be removed from pandas in a future version. Use pandas.concat instead.\n",
      "  merged_df = merged_df.append(temp_df)\n",
      "/tmp/ipykernel_1731/2025906423.py:190: SettingWithCopyWarning: \n",
      "A value is trying to be set on a copy of a slice from a DataFrame.\n",
      "Try using .loc[row_indexer,col_indexer] = value instead\n",
      "\n",
      "See the caveats in the documentation: https://pandas.pydata.org/pandas-docs/stable/user_guide/indexing.html#returning-a-view-versus-a-copy\n",
      "  temp_df[\"Blank Subtraction\"] = numbers2\n",
      "/tmp/ipykernel_1731/2025906423.py:192: FutureWarning: The frame.append method is deprecated and will be removed from pandas in a future version. Use pandas.concat instead.\n",
      "  merged_df = merged_df.append(temp_df)\n",
      "/tmp/ipykernel_1731/2025906423.py:190: SettingWithCopyWarning: \n",
      "A value is trying to be set on a copy of a slice from a DataFrame.\n",
      "Try using .loc[row_indexer,col_indexer] = value instead\n",
      "\n",
      "See the caveats in the documentation: https://pandas.pydata.org/pandas-docs/stable/user_guide/indexing.html#returning-a-view-versus-a-copy\n",
      "  temp_df[\"Blank Subtraction\"] = numbers2\n",
      "/tmp/ipykernel_1731/2025906423.py:192: FutureWarning: The frame.append method is deprecated and will be removed from pandas in a future version. Use pandas.concat instead.\n",
      "  merged_df = merged_df.append(temp_df)\n"
     ]
    },
    {
     "name": "stdout",
     "output_type": "stream",
     "text": [
      "3256 TEMP\n",
      "3256 TEMP\n",
      "3256 TEMP\n",
      "3256 TEMP\n",
      "3256 TEMP\n",
      "3256 TEMP\n",
      "3256 TEMP\n",
      "3256 TEMP\n",
      "3256 TEMP\n",
      "3256 TEMP\n",
      "3256 TEMP\n",
      "3256 TEMP\n",
      "3256 TEMP\n",
      "3256 TEMP\n",
      "3256 TEMP\n",
      "3256 TEMP\n",
      "3256 TEMP\n",
      "3256 TEMP\n",
      "3256 TEMP\n",
      "3256 TEMP\n",
      "3256 TEMP\n",
      "3256 TEMP\n",
      "3256 TEMP\n",
      "3256 TEMP\n",
      "3256 TEMP\n",
      "3256 TEMP\n",
      "3256 TEMP\n",
      "3256 TEMP\n",
      "3256 TEMP\n",
      "3256 TEMP\n"
     ]
    },
    {
     "name": "stderr",
     "output_type": "stream",
     "text": [
      "/tmp/ipykernel_1731/2025906423.py:190: SettingWithCopyWarning: \n",
      "A value is trying to be set on a copy of a slice from a DataFrame.\n",
      "Try using .loc[row_indexer,col_indexer] = value instead\n",
      "\n",
      "See the caveats in the documentation: https://pandas.pydata.org/pandas-docs/stable/user_guide/indexing.html#returning-a-view-versus-a-copy\n",
      "  temp_df[\"Blank Subtraction\"] = numbers2\n",
      "/tmp/ipykernel_1731/2025906423.py:192: FutureWarning: The frame.append method is deprecated and will be removed from pandas in a future version. Use pandas.concat instead.\n",
      "  merged_df = merged_df.append(temp_df)\n",
      "/tmp/ipykernel_1731/2025906423.py:190: SettingWithCopyWarning: \n",
      "A value is trying to be set on a copy of a slice from a DataFrame.\n",
      "Try using .loc[row_indexer,col_indexer] = value instead\n",
      "\n",
      "See the caveats in the documentation: https://pandas.pydata.org/pandas-docs/stable/user_guide/indexing.html#returning-a-view-versus-a-copy\n",
      "  temp_df[\"Blank Subtraction\"] = numbers2\n",
      "/tmp/ipykernel_1731/2025906423.py:192: FutureWarning: The frame.append method is deprecated and will be removed from pandas in a future version. Use pandas.concat instead.\n",
      "  merged_df = merged_df.append(temp_df)\n",
      "/tmp/ipykernel_1731/2025906423.py:190: SettingWithCopyWarning: \n",
      "A value is trying to be set on a copy of a slice from a DataFrame.\n",
      "Try using .loc[row_indexer,col_indexer] = value instead\n",
      "\n",
      "See the caveats in the documentation: https://pandas.pydata.org/pandas-docs/stable/user_guide/indexing.html#returning-a-view-versus-a-copy\n",
      "  temp_df[\"Blank Subtraction\"] = numbers2\n",
      "/tmp/ipykernel_1731/2025906423.py:192: FutureWarning: The frame.append method is deprecated and will be removed from pandas in a future version. Use pandas.concat instead.\n",
      "  merged_df = merged_df.append(temp_df)\n",
      "/tmp/ipykernel_1731/2025906423.py:190: SettingWithCopyWarning: \n",
      "A value is trying to be set on a copy of a slice from a DataFrame.\n",
      "Try using .loc[row_indexer,col_indexer] = value instead\n",
      "\n",
      "See the caveats in the documentation: https://pandas.pydata.org/pandas-docs/stable/user_guide/indexing.html#returning-a-view-versus-a-copy\n",
      "  temp_df[\"Blank Subtraction\"] = numbers2\n",
      "/tmp/ipykernel_1731/2025906423.py:192: FutureWarning: The frame.append method is deprecated and will be removed from pandas in a future version. Use pandas.concat instead.\n",
      "  merged_df = merged_df.append(temp_df)\n",
      "/tmp/ipykernel_1731/2025906423.py:190: SettingWithCopyWarning: \n",
      "A value is trying to be set on a copy of a slice from a DataFrame.\n",
      "Try using .loc[row_indexer,col_indexer] = value instead\n",
      "\n",
      "See the caveats in the documentation: https://pandas.pydata.org/pandas-docs/stable/user_guide/indexing.html#returning-a-view-versus-a-copy\n",
      "  temp_df[\"Blank Subtraction\"] = numbers2\n",
      "/tmp/ipykernel_1731/2025906423.py:192: FutureWarning: The frame.append method is deprecated and will be removed from pandas in a future version. Use pandas.concat instead.\n",
      "  merged_df = merged_df.append(temp_df)\n",
      "/tmp/ipykernel_1731/2025906423.py:190: SettingWithCopyWarning: \n",
      "A value is trying to be set on a copy of a slice from a DataFrame.\n",
      "Try using .loc[row_indexer,col_indexer] = value instead\n",
      "\n",
      "See the caveats in the documentation: https://pandas.pydata.org/pandas-docs/stable/user_guide/indexing.html#returning-a-view-versus-a-copy\n",
      "  temp_df[\"Blank Subtraction\"] = numbers2\n",
      "/tmp/ipykernel_1731/2025906423.py:192: FutureWarning: The frame.append method is deprecated and will be removed from pandas in a future version. Use pandas.concat instead.\n",
      "  merged_df = merged_df.append(temp_df)\n",
      "/tmp/ipykernel_1731/2025906423.py:190: SettingWithCopyWarning: \n",
      "A value is trying to be set on a copy of a slice from a DataFrame.\n",
      "Try using .loc[row_indexer,col_indexer] = value instead\n",
      "\n",
      "See the caveats in the documentation: https://pandas.pydata.org/pandas-docs/stable/user_guide/indexing.html#returning-a-view-versus-a-copy\n",
      "  temp_df[\"Blank Subtraction\"] = numbers2\n",
      "/tmp/ipykernel_1731/2025906423.py:192: FutureWarning: The frame.append method is deprecated and will be removed from pandas in a future version. Use pandas.concat instead.\n",
      "  merged_df = merged_df.append(temp_df)\n",
      "/tmp/ipykernel_1731/2025906423.py:190: SettingWithCopyWarning: \n",
      "A value is trying to be set on a copy of a slice from a DataFrame.\n",
      "Try using .loc[row_indexer,col_indexer] = value instead\n",
      "\n",
      "See the caveats in the documentation: https://pandas.pydata.org/pandas-docs/stable/user_guide/indexing.html#returning-a-view-versus-a-copy\n",
      "  temp_df[\"Blank Subtraction\"] = numbers2\n",
      "/tmp/ipykernel_1731/2025906423.py:192: FutureWarning: The frame.append method is deprecated and will be removed from pandas in a future version. Use pandas.concat instead.\n",
      "  merged_df = merged_df.append(temp_df)\n",
      "/tmp/ipykernel_1731/2025906423.py:190: SettingWithCopyWarning: \n",
      "A value is trying to be set on a copy of a slice from a DataFrame.\n",
      "Try using .loc[row_indexer,col_indexer] = value instead\n",
      "\n",
      "See the caveats in the documentation: https://pandas.pydata.org/pandas-docs/stable/user_guide/indexing.html#returning-a-view-versus-a-copy\n",
      "  temp_df[\"Blank Subtraction\"] = numbers2\n",
      "/tmp/ipykernel_1731/2025906423.py:192: FutureWarning: The frame.append method is deprecated and will be removed from pandas in a future version. Use pandas.concat instead.\n",
      "  merged_df = merged_df.append(temp_df)\n",
      "/tmp/ipykernel_1731/2025906423.py:190: SettingWithCopyWarning: \n",
      "A value is trying to be set on a copy of a slice from a DataFrame.\n",
      "Try using .loc[row_indexer,col_indexer] = value instead\n",
      "\n",
      "See the caveats in the documentation: https://pandas.pydata.org/pandas-docs/stable/user_guide/indexing.html#returning-a-view-versus-a-copy\n",
      "  temp_df[\"Blank Subtraction\"] = numbers2\n",
      "/tmp/ipykernel_1731/2025906423.py:192: FutureWarning: The frame.append method is deprecated and will be removed from pandas in a future version. Use pandas.concat instead.\n",
      "  merged_df = merged_df.append(temp_df)\n"
     ]
    },
    {
     "name": "stdout",
     "output_type": "stream",
     "text": [
      "3256 TEMP\n",
      "3256 TEMP\n",
      "3256 TEMP\n",
      "3256 TEMP\n",
      "3256 TEMP\n",
      "3256 TEMP\n",
      "3256 TEMP\n",
      "3256 TEMP\n",
      "3256 TEMP\n",
      "3256 TEMP\n",
      "3256 TEMP\n",
      "3256 TEMP\n",
      "3256 TEMP\n",
      "3256 TEMP\n",
      "3256 TEMP\n",
      "3256 TEMP\n",
      "3256 TEMP\n",
      "3256 TEMP\n",
      "3256 TEMP\n",
      "3256 TEMP\n",
      "3256 TEMP\n",
      "3256 TEMP\n",
      "3256 TEMP\n",
      "3256 TEMP\n"
     ]
    },
    {
     "name": "stderr",
     "output_type": "stream",
     "text": [
      "/tmp/ipykernel_1731/2025906423.py:190: SettingWithCopyWarning: \n",
      "A value is trying to be set on a copy of a slice from a DataFrame.\n",
      "Try using .loc[row_indexer,col_indexer] = value instead\n",
      "\n",
      "See the caveats in the documentation: https://pandas.pydata.org/pandas-docs/stable/user_guide/indexing.html#returning-a-view-versus-a-copy\n",
      "  temp_df[\"Blank Subtraction\"] = numbers2\n",
      "/tmp/ipykernel_1731/2025906423.py:192: FutureWarning: The frame.append method is deprecated and will be removed from pandas in a future version. Use pandas.concat instead.\n",
      "  merged_df = merged_df.append(temp_df)\n",
      "/tmp/ipykernel_1731/2025906423.py:190: SettingWithCopyWarning: \n",
      "A value is trying to be set on a copy of a slice from a DataFrame.\n",
      "Try using .loc[row_indexer,col_indexer] = value instead\n",
      "\n",
      "See the caveats in the documentation: https://pandas.pydata.org/pandas-docs/stable/user_guide/indexing.html#returning-a-view-versus-a-copy\n",
      "  temp_df[\"Blank Subtraction\"] = numbers2\n",
      "/tmp/ipykernel_1731/2025906423.py:192: FutureWarning: The frame.append method is deprecated and will be removed from pandas in a future version. Use pandas.concat instead.\n",
      "  merged_df = merged_df.append(temp_df)\n",
      "/tmp/ipykernel_1731/2025906423.py:190: SettingWithCopyWarning: \n",
      "A value is trying to be set on a copy of a slice from a DataFrame.\n",
      "Try using .loc[row_indexer,col_indexer] = value instead\n",
      "\n",
      "See the caveats in the documentation: https://pandas.pydata.org/pandas-docs/stable/user_guide/indexing.html#returning-a-view-versus-a-copy\n",
      "  temp_df[\"Blank Subtraction\"] = numbers2\n",
      "/tmp/ipykernel_1731/2025906423.py:192: FutureWarning: The frame.append method is deprecated and will be removed from pandas in a future version. Use pandas.concat instead.\n",
      "  merged_df = merged_df.append(temp_df)\n",
      "/tmp/ipykernel_1731/2025906423.py:190: SettingWithCopyWarning: \n",
      "A value is trying to be set on a copy of a slice from a DataFrame.\n",
      "Try using .loc[row_indexer,col_indexer] = value instead\n",
      "\n",
      "See the caveats in the documentation: https://pandas.pydata.org/pandas-docs/stable/user_guide/indexing.html#returning-a-view-versus-a-copy\n",
      "  temp_df[\"Blank Subtraction\"] = numbers2\n",
      "/tmp/ipykernel_1731/2025906423.py:192: FutureWarning: The frame.append method is deprecated and will be removed from pandas in a future version. Use pandas.concat instead.\n",
      "  merged_df = merged_df.append(temp_df)\n",
      "/tmp/ipykernel_1731/2025906423.py:190: SettingWithCopyWarning: \n",
      "A value is trying to be set on a copy of a slice from a DataFrame.\n",
      "Try using .loc[row_indexer,col_indexer] = value instead\n",
      "\n",
      "See the caveats in the documentation: https://pandas.pydata.org/pandas-docs/stable/user_guide/indexing.html#returning-a-view-versus-a-copy\n",
      "  temp_df[\"Blank Subtraction\"] = numbers2\n",
      "/tmp/ipykernel_1731/2025906423.py:192: FutureWarning: The frame.append method is deprecated and will be removed from pandas in a future version. Use pandas.concat instead.\n",
      "  merged_df = merged_df.append(temp_df)\n",
      "/tmp/ipykernel_1731/2025906423.py:190: SettingWithCopyWarning: \n",
      "A value is trying to be set on a copy of a slice from a DataFrame.\n",
      "Try using .loc[row_indexer,col_indexer] = value instead\n",
      "\n",
      "See the caveats in the documentation: https://pandas.pydata.org/pandas-docs/stable/user_guide/indexing.html#returning-a-view-versus-a-copy\n",
      "  temp_df[\"Blank Subtraction\"] = numbers2\n",
      "/tmp/ipykernel_1731/2025906423.py:192: FutureWarning: The frame.append method is deprecated and will be removed from pandas in a future version. Use pandas.concat instead.\n",
      "  merged_df = merged_df.append(temp_df)\n",
      "/tmp/ipykernel_1731/2025906423.py:190: SettingWithCopyWarning: \n",
      "A value is trying to be set on a copy of a slice from a DataFrame.\n",
      "Try using .loc[row_indexer,col_indexer] = value instead\n",
      "\n",
      "See the caveats in the documentation: https://pandas.pydata.org/pandas-docs/stable/user_guide/indexing.html#returning-a-view-versus-a-copy\n",
      "  temp_df[\"Blank Subtraction\"] = numbers2\n",
      "/tmp/ipykernel_1731/2025906423.py:192: FutureWarning: The frame.append method is deprecated and will be removed from pandas in a future version. Use pandas.concat instead.\n",
      "  merged_df = merged_df.append(temp_df)\n",
      "/tmp/ipykernel_1731/2025906423.py:190: SettingWithCopyWarning: \n",
      "A value is trying to be set on a copy of a slice from a DataFrame.\n",
      "Try using .loc[row_indexer,col_indexer] = value instead\n",
      "\n",
      "See the caveats in the documentation: https://pandas.pydata.org/pandas-docs/stable/user_guide/indexing.html#returning-a-view-versus-a-copy\n",
      "  temp_df[\"Blank Subtraction\"] = numbers2\n",
      "/tmp/ipykernel_1731/2025906423.py:192: FutureWarning: The frame.append method is deprecated and will be removed from pandas in a future version. Use pandas.concat instead.\n",
      "  merged_df = merged_df.append(temp_df)\n"
     ]
    },
    {
     "name": "stdout",
     "output_type": "stream",
     "text": [
      "3256 TEMP\n",
      "3256 TEMP\n",
      "3256 TEMP\n",
      "3256 TEMP\n",
      "3256 TEMP\n",
      "3256 TEMP\n",
      "3256 TEMP\n",
      "3256 TEMP\n",
      "3256 TEMP\n",
      "3256 TEMP\n",
      "3256 TEMP\n",
      "3256 TEMP\n",
      "3256 TEMP\n",
      "3256 TEMP\n",
      "3256 TEMP\n",
      "3256 TEMP\n",
      "3256 TEMP\n",
      "3256 TEMP\n",
      "3256 TEMP\n",
      "3256 TEMP\n",
      "3256 TEMP\n"
     ]
    },
    {
     "name": "stderr",
     "output_type": "stream",
     "text": [
      "/tmp/ipykernel_1731/2025906423.py:190: SettingWithCopyWarning: \n",
      "A value is trying to be set on a copy of a slice from a DataFrame.\n",
      "Try using .loc[row_indexer,col_indexer] = value instead\n",
      "\n",
      "See the caveats in the documentation: https://pandas.pydata.org/pandas-docs/stable/user_guide/indexing.html#returning-a-view-versus-a-copy\n",
      "  temp_df[\"Blank Subtraction\"] = numbers2\n",
      "/tmp/ipykernel_1731/2025906423.py:192: FutureWarning: The frame.append method is deprecated and will be removed from pandas in a future version. Use pandas.concat instead.\n",
      "  merged_df = merged_df.append(temp_df)\n",
      "/tmp/ipykernel_1731/2025906423.py:190: SettingWithCopyWarning: \n",
      "A value is trying to be set on a copy of a slice from a DataFrame.\n",
      "Try using .loc[row_indexer,col_indexer] = value instead\n",
      "\n",
      "See the caveats in the documentation: https://pandas.pydata.org/pandas-docs/stable/user_guide/indexing.html#returning-a-view-versus-a-copy\n",
      "  temp_df[\"Blank Subtraction\"] = numbers2\n",
      "/tmp/ipykernel_1731/2025906423.py:192: FutureWarning: The frame.append method is deprecated and will be removed from pandas in a future version. Use pandas.concat instead.\n",
      "  merged_df = merged_df.append(temp_df)\n",
      "/tmp/ipykernel_1731/2025906423.py:190: SettingWithCopyWarning: \n",
      "A value is trying to be set on a copy of a slice from a DataFrame.\n",
      "Try using .loc[row_indexer,col_indexer] = value instead\n",
      "\n",
      "See the caveats in the documentation: https://pandas.pydata.org/pandas-docs/stable/user_guide/indexing.html#returning-a-view-versus-a-copy\n",
      "  temp_df[\"Blank Subtraction\"] = numbers2\n",
      "/tmp/ipykernel_1731/2025906423.py:192: FutureWarning: The frame.append method is deprecated and will be removed from pandas in a future version. Use pandas.concat instead.\n",
      "  merged_df = merged_df.append(temp_df)\n",
      "/tmp/ipykernel_1731/2025906423.py:190: SettingWithCopyWarning: \n",
      "A value is trying to be set on a copy of a slice from a DataFrame.\n",
      "Try using .loc[row_indexer,col_indexer] = value instead\n",
      "\n",
      "See the caveats in the documentation: https://pandas.pydata.org/pandas-docs/stable/user_guide/indexing.html#returning-a-view-versus-a-copy\n",
      "  temp_df[\"Blank Subtraction\"] = numbers2\n",
      "/tmp/ipykernel_1731/2025906423.py:192: FutureWarning: The frame.append method is deprecated and will be removed from pandas in a future version. Use pandas.concat instead.\n",
      "  merged_df = merged_df.append(temp_df)\n",
      "/tmp/ipykernel_1731/2025906423.py:190: SettingWithCopyWarning: \n",
      "A value is trying to be set on a copy of a slice from a DataFrame.\n",
      "Try using .loc[row_indexer,col_indexer] = value instead\n",
      "\n",
      "See the caveats in the documentation: https://pandas.pydata.org/pandas-docs/stable/user_guide/indexing.html#returning-a-view-versus-a-copy\n",
      "  temp_df[\"Blank Subtraction\"] = numbers2\n",
      "/tmp/ipykernel_1731/2025906423.py:192: FutureWarning: The frame.append method is deprecated and will be removed from pandas in a future version. Use pandas.concat instead.\n",
      "  merged_df = merged_df.append(temp_df)\n",
      "/tmp/ipykernel_1731/2025906423.py:190: SettingWithCopyWarning: \n",
      "A value is trying to be set on a copy of a slice from a DataFrame.\n",
      "Try using .loc[row_indexer,col_indexer] = value instead\n",
      "\n",
      "See the caveats in the documentation: https://pandas.pydata.org/pandas-docs/stable/user_guide/indexing.html#returning-a-view-versus-a-copy\n",
      "  temp_df[\"Blank Subtraction\"] = numbers2\n",
      "/tmp/ipykernel_1731/2025906423.py:192: FutureWarning: The frame.append method is deprecated and will be removed from pandas in a future version. Use pandas.concat instead.\n",
      "  merged_df = merged_df.append(temp_df)\n",
      "/tmp/ipykernel_1731/2025906423.py:190: SettingWithCopyWarning: \n",
      "A value is trying to be set on a copy of a slice from a DataFrame.\n",
      "Try using .loc[row_indexer,col_indexer] = value instead\n",
      "\n",
      "See the caveats in the documentation: https://pandas.pydata.org/pandas-docs/stable/user_guide/indexing.html#returning-a-view-versus-a-copy\n",
      "  temp_df[\"Blank Subtraction\"] = numbers2\n",
      "/tmp/ipykernel_1731/2025906423.py:192: FutureWarning: The frame.append method is deprecated and will be removed from pandas in a future version. Use pandas.concat instead.\n",
      "  merged_df = merged_df.append(temp_df)\n"
     ]
    },
    {
     "name": "stdout",
     "output_type": "stream",
     "text": [
      "3256 TEMP\n",
      "3256 TEMP\n",
      "3256 TEMP\n",
      "3256 TEMP\n",
      "3256 TEMP\n",
      "3256 TEMP\n",
      "3256 TEMP\n",
      "3256 TEMP\n",
      "3256 TEMP\n"
     ]
    },
    {
     "name": "stderr",
     "output_type": "stream",
     "text": [
      "/tmp/ipykernel_1731/2025906423.py:190: SettingWithCopyWarning: \n",
      "A value is trying to be set on a copy of a slice from a DataFrame.\n",
      "Try using .loc[row_indexer,col_indexer] = value instead\n",
      "\n",
      "See the caveats in the documentation: https://pandas.pydata.org/pandas-docs/stable/user_guide/indexing.html#returning-a-view-versus-a-copy\n",
      "  temp_df[\"Blank Subtraction\"] = numbers2\n",
      "/tmp/ipykernel_1731/2025906423.py:192: FutureWarning: The frame.append method is deprecated and will be removed from pandas in a future version. Use pandas.concat instead.\n",
      "  merged_df = merged_df.append(temp_df)\n",
      "/tmp/ipykernel_1731/2025906423.py:190: SettingWithCopyWarning: \n",
      "A value is trying to be set on a copy of a slice from a DataFrame.\n",
      "Try using .loc[row_indexer,col_indexer] = value instead\n",
      "\n",
      "See the caveats in the documentation: https://pandas.pydata.org/pandas-docs/stable/user_guide/indexing.html#returning-a-view-versus-a-copy\n",
      "  temp_df[\"Blank Subtraction\"] = numbers2\n",
      "/tmp/ipykernel_1731/2025906423.py:192: FutureWarning: The frame.append method is deprecated and will be removed from pandas in a future version. Use pandas.concat instead.\n",
      "  merged_df = merged_df.append(temp_df)\n",
      "/tmp/ipykernel_1731/2025906423.py:190: SettingWithCopyWarning: \n",
      "A value is trying to be set on a copy of a slice from a DataFrame.\n",
      "Try using .loc[row_indexer,col_indexer] = value instead\n",
      "\n",
      "See the caveats in the documentation: https://pandas.pydata.org/pandas-docs/stable/user_guide/indexing.html#returning-a-view-versus-a-copy\n",
      "  temp_df[\"Blank Subtraction\"] = numbers2\n",
      "/tmp/ipykernel_1731/2025906423.py:192: FutureWarning: The frame.append method is deprecated and will be removed from pandas in a future version. Use pandas.concat instead.\n",
      "  merged_df = merged_df.append(temp_df)\n"
     ]
    }
   ],
   "source": [
    "df_matched = full_parse(data_base_name_location,mzml_folder, folder_name_to_save, \n",
    "                        file_name_to_save,tolerance, remove_std = remove_std,save_data=save_data)\n",
    "\n",
    "df_matched = add_labels(labels_df,df_matched)\n",
    "merged_df = subtract_blank(labels_df,df_matched,remove_list,blank_name)\n"
   ]
  },
  {
   "cell_type": "code",
   "execution_count": null,
   "metadata": {},
   "outputs": [],
   "source": []
  },
  {
   "cell_type": "code",
   "execution_count": 16,
   "metadata": {},
   "outputs": [],
   "source": [
    "def add_subclass_and_length(merged_df):\n",
    "    merged_df = merged_df.reset_index(drop=True)\n",
    "    merged_df.loc[merged_df['Class'] != 'Cer', 'Lipid'] = merged_df.loc[merged_df['Class'] != 'Cer', 'Lipid'].str.replace(',', '|')\n",
    "\n",
    "\n",
    "\n",
    "\n",
    "    # merged_df = merged_df[merged_df['Class'] != 'PG']\n",
    "    # merged_df = merged_df[merged_df['Class'] != 'PE']\n",
    "    # merged_df = merged_df[merged_df['Class'] != 'PI']\n",
    "    # merged_df = merged_df[merged_df['Class'] != 'PS']\n",
    "    # merged_df = merged_df[merged_df['Class'] != 'SM']\n",
    "\n",
    "    print(set(list(merged_df[\"Class\"])))\n",
    "    print(list(set(list(merged_df[\"Class\"]))))\n",
    "\n",
    "    subclasses = []\n",
    "    chain_length = []\n",
    "    saturation = []\n",
    "    between_parenthese = []\n",
    "    FA_Chain = []\n",
    "    ##Would need to recheck for CE -O and all other classes if tolerance or MRMs are added\n",
    "    ##Should add natural Multiples and replace the , with a |\n",
    "\n",
    "    string = \"DG(24:0)_C16:0\"\n",
    "    print(string[string.find(\"_C\")+2:])\n",
    "\n",
    "    print(len(merged_df))\n",
    "    # exit()\n",
    "\n",
    "    for i in range(len(merged_df)):\n",
    "        jj = merged_df[\"Class\"][i]\n",
    "        xx = merged_df[\"Lipid\"][i]\n",
    "        subclass = \"\"\n",
    "\n",
    "        if jj == \"FA\": ##Maybe add chain length and saturation \n",
    "            subclasses.append(\"FA\")\n",
    "\n",
    "            if \" | \" in xx:\n",
    "\n",
    "                temp_lipid = xx.split(\"|\")\n",
    "                temp_string_length = \"\"\n",
    "                temp_string_saturation = \"\"\n",
    "                between_parents_temp = \"\"\n",
    "                for i in temp_lipid:\n",
    "                    if len(temp_string_length) >0:\n",
    "                        temp_string_length = temp_string_length+\" | \"+ i[i.find(\"(\")+1:i.find(\":\")]\n",
    "                        temp_string_saturation = temp_string_saturation+\" | \"+ i[i.find(\":\")+1:i.find(\")\")]\n",
    "                        between_parents_temp = between_parents_temp +\" | \"+ i[i.find(\"(\"):i.find(\")\")+1]\n",
    "                    else:\n",
    "\n",
    "                        temp_string_length = i[i.find(\"(\")+1:i.find(\":\")]\n",
    "                        temp_string_saturation = i[i.find(\":\")+1:i.find(\")\")]\n",
    "                        between_parents_temp = i[i.find(\"(\"):i.find(\")\")+1]\n",
    "\n",
    "                chain_length.append(temp_string_length)\n",
    "                saturation.append(temp_string_saturation)\n",
    "                between_parenthese.append(between_parents_temp)\n",
    "                FA_Chain.append(between_parents_temp)\n",
    "\n",
    "\n",
    "            else:\n",
    "\n",
    "\n",
    "                temp_string_length = xx[xx.find(\"(\")+1:xx.find(\":\")]\n",
    "                temp_string_saturation = xx[xx.find(\":\")+1:xx.find(\")\")]\n",
    "                chain_length.append(temp_string_length)\n",
    "                saturation.append(temp_string_saturation)\n",
    "                between_parenthese.append(xx[xx.find(\"(\"):xx.find(\")\")+1])\n",
    "                FA_Chain.append(xx[xx.find(\"(\"):xx.find(\")\")+1])\n",
    "\n",
    "\n",
    "        elif jj == \"CAR\":\n",
    "            FA_Chain.append(\"None\")\n",
    "            subclasses.append(\"CAR\")\n",
    "\n",
    "            if \"(\" in xx:\n",
    "                temp_string_length = xx[xx.find(\"(\")+1:xx.find(\":\")]\n",
    "                temp_string_saturation = xx[xx.find(\":\")+1:xx.find(\")\")]\n",
    "                chain_length.append(temp_string_length)\n",
    "                saturation.append(temp_string_saturation)\n",
    "                between_parenthese.append(xx[xx.find(\"(\"):xx.find(\")\")+1])\n",
    "\n",
    "            else:\n",
    "                chain_length.append(\"0\")\n",
    "                saturation.append(\"0\")    \n",
    "                between_parenthese.append(\"None\")\n",
    "\n",
    "\n",
    "        ###What about O????\n",
    "        ######\n",
    "        elif jj == \"CE\":\n",
    "            FA_Chain.append(\"None\")\n",
    "\n",
    "            if \"O2\" not in xx:\n",
    "                subclasses.append(\"CE\")\n",
    "\n",
    "                # if \"(\" in xx:\n",
    "                temp_string_length = xx[xx.find(\"(\")+1:xx.find(\":\")]\n",
    "                temp_string_saturation = xx[xx.find(\":\")+1:xx.find(\")\")]\n",
    "                chain_length.append(temp_string_length)\n",
    "                saturation.append(temp_string_saturation)\n",
    "                between_parenthese.append(xx[xx.find(\"(\"):xx.find(\")\")+1])\n",
    "\n",
    "            elif \"O2\" in xx:\n",
    "                subclasses.append(\"CE-O\")\n",
    "\n",
    "                # if \"(\" in xx:\n",
    "                temp_string_length = xx[xx.find(\"(\")+1:xx.find(\":\")]\n",
    "                temp_string_saturation = xx[xx.find(\":\")+1:xx.find(\";\")]\n",
    "                chain_length.append(temp_string_length)\n",
    "                saturation.append(temp_string_saturation)\n",
    "                between_parenthese.append(xx[xx.find(\"(\"):xx.find(\")\")+1])\n",
    "\n",
    "\n",
    "\n",
    "        elif jj == \"Cer\":\n",
    "            FA_Chain.append(\"None\")\n",
    "\n",
    "            if \"CerP\" in xx:\n",
    "                subclasses.append(\"CerP\")\n",
    "                between_parenthese.append(xx[xx.find(\"(\"):xx.find(\")\")+1])\n",
    "                saturation.append(\"NA\")\n",
    "\n",
    "                chain_length.append(\"NA\")\n",
    "\n",
    "            elif \"1-O-\" in xx:\n",
    "                subclasses.append(\"1-O-Cer\")\n",
    "                between_parenthese.append(xx[xx.find(\"(\"):xx.find(\")\")+1])\n",
    "                saturation.append(\"NA\")\n",
    "                chain_length.append(\"NA\")\n",
    "\n",
    "\n",
    "            elif \"omega-linoleoyloxy-GlcCer(\" in xx:\n",
    "                subclasses.append(\"omega-linoleoyloxy-GlcCer\")\n",
    "                between_parenthese.append(xx[xx.find(\"(\"):xx.find(\")\")+1])\n",
    "                saturation.append(\"NA\")\n",
    "                chain_length.append(\"NA\")\n",
    "\n",
    "\n",
    "            elif \"omega-linoleoyloxy-Cer\" in xx:\n",
    "\n",
    "                subclasses.append(\"omega-linoleoyloxy-Cer\")\n",
    "                between_parenthese.append(xx[xx.find(\"(\"):xx.find(\")\")+1])\n",
    "                saturation.append(\"NA\")\n",
    "\n",
    "                chain_length.append(\"NA\")\n",
    "\n",
    "            else:\n",
    "                subclasses.append(\"Cer\")\n",
    "                between_parenthese.append(xx[xx.find(\"(\"):xx.find(\")\")+1])\n",
    "                saturation.append(\"NA\")\n",
    "\n",
    "                chain_length.append(\"NA\")\n",
    "\n",
    "        elif jj == \"DAG\" or jj== \"DAG | CE\" or jj==\"TAG | DAG\" or jj == \"TAG | DAG | CE\":\n",
    "            if \" | \" in xx:\n",
    "\n",
    "                temp_lipid = xx.split(\"|\")\n",
    "                temp_string_length = \"\"\n",
    "                temp_string_saturation = \"\"\n",
    "                between_parents_temp = \"\"\n",
    "                FA_Chain_temp = \"\"\n",
    "                temp_sub_class = \"\"\n",
    "                for i in temp_lipid:\n",
    "                    if \"DG\" in i:\n",
    "                        if len(temp_string_length) >0:\n",
    "                            temp_string_length = temp_string_length+\" | \"+ i[i.find(\"(\")+1:i.find(\":\")]\n",
    "                            temp_string_saturation = temp_string_saturation+\" | \"+ i[i.find(\":\")+1:i.find(\")\")]\n",
    "                            between_parents_temp = between_parents_temp +\" | \"+ i[i.find(\"(\"):i.find(\")\")+1]\n",
    "                            FA_Chain_temp = FA_Chain_temp+\" | \"+ i[i.find(\"_C\")+2:]\n",
    "                            if \"DG(dO\" in i:\n",
    "                                temp_sub_class = temp_sub_class +\" | \"+ \"DG-DO\"\n",
    "                            elif \"DG(\" in i:\n",
    "                                temp_sub_class = temp_sub_class +\" | \"+\"DG\"\n",
    "                            elif \"DG(P\" in i:\n",
    "                                temp_sub_class = temp_sub_class +\" | \"+\"DG-P\"\n",
    "                            else:\n",
    "                                temp_sub_class = temp_sub_class +\" | \"+ \"DG-O\"      \n",
    "                        else:\n",
    "\n",
    "                            temp_string_length = i[i.find(\"(\")+1:i.find(\":\")]\n",
    "                            temp_string_saturation = i[i.find(\":\")+1:i.find(\")\")]\n",
    "                            between_parents_temp = i[i.find(\"(\"):i.find(\")\")+1]\n",
    "                            FA_Chain_temp = i[i.find(\"_C\")+2:]\n",
    "                            if \"DG(dO\" in i:\n",
    "                                temp_sub_class = \"DG-DO\"\n",
    "\n",
    "                            elif \"DG(P\" in i:\n",
    "                                temp_sub_class = \"DG-P\"\n",
    "                            elif \"DG(O\" in i:\n",
    "                                temp_sub_class = \"DG-O\" \n",
    "                            else:\n",
    "                                temp_sub_class = \"DG\"\n",
    "\n",
    "                    elif \"CE\" in i:                            \n",
    "                        if len(temp_string_length) >0:\n",
    "                            temp_string_length = temp_string_length+\" | \"+ i[i.find(\"(\")+1:i.find(\":\")]\n",
    "                            temp_string_saturation = temp_string_saturation+\" | \"+ i[i.find(\":\")+1:i.find(\")\")]\n",
    "                            between_parents_temp = between_parents_temp +\" | \"+ i[i.find(\"(\"):i.find(\")\")+1]\n",
    "                            FA_Chain_temp = FA_Chain_temp+\" | \"+ \"NA\"\n",
    "                        else:\n",
    "                            temp_string_length =  i[i.find(\"(\")+1:i.find(\":\")]\n",
    "                            temp_string_saturation = i[i.find(\":\")+1:i.find(\")\")]\n",
    "                            between_parents_temp = i[i.find(\"(\"):i.find(\")\")+1]\n",
    "                            FA_Chain_temp =  \"NA\"\n",
    "\n",
    "                    elif \"TG\" in i:\n",
    "        ##Add TAG for this one after I do individual TAG\n",
    "                        if len(temp_string_length) >0:\n",
    "                            temp_string_length = temp_string_length+\" | \"+ i[i.find(\"(\")+1:i.find(\":\")]\n",
    "                            temp_string_saturation = temp_string_saturation+\" | \"+ i[i.find(\":\")+1:i.find(\")\")]\n",
    "                            between_parents_temp = between_parents_temp +\" | \"+ i[i.find(\"(\"):i.find(\")\")+1]\n",
    "                            FA_Chain_temp = FA_Chain_temp+\" | \"+ i[i.find(\"_FA\")+3:]\n",
    "                            if \"TG(O\" in i:\n",
    "                                temp_sub_class = temp_sub_class +\" | \"+ \"TG(O\"\n",
    "                            else:\n",
    "                                temp_sub_class = temp_sub_class +\" | \"+\"TG\"\n",
    "\n",
    "                        else:\n",
    "\n",
    "                            temp_string_length = i[i.find(\"(\")+1:i.find(\":\")]\n",
    "                            temp_string_saturation = i[i.find(\":\")+1:i.find(\")\")]\n",
    "                            between_parents_temp = i[i.find(\"(\"):i.find(\")\")+1]\n",
    "                            FA_Chain_temp = i[i.find(\"_FA\")+3:]\n",
    "                            if \"TG(O\" in i:\n",
    "                                temp_sub_class = \"TG(O\"\n",
    "                            else:\n",
    "                                temp_sub_class = \"TG\"\n",
    "\n",
    "\n",
    "\n",
    "                chain_length.append(temp_string_length)\n",
    "                saturation.append(temp_string_saturation)\n",
    "                between_parenthese.append(between_parents_temp)\n",
    "                FA_Chain.append(FA_Chain_temp)\n",
    "                subclasses.append(temp_sub_class)\n",
    "\n",
    "\n",
    "            else:\n",
    "\n",
    "\n",
    "                # exit()\n",
    "                temp_string_length = xx[xx.find(\"(\")+1:xx.find(\":\")]\n",
    "                temp_string_saturation = xx[xx.find(\":\")+1:xx.find(\")\")]\n",
    "                chain_length.append(temp_string_length)\n",
    "                saturation.append(temp_string_saturation)\n",
    "                between_parenthese.append(xx[xx.find(\"(\"):xx.find(\")\")+1])\n",
    "                FA_Chain.append(xx[xx.find(\"_C\")+2:])\n",
    "\n",
    "                if \"DG(dO\" in xx:\n",
    "                    temp_sub_class = \"DG-DO\"\n",
    "\n",
    "                elif \"DG(P\" in xx:\n",
    "                    temp_sub_class = \"DG-P\"\n",
    "                elif \"DG(O\" in xx:\n",
    "                    temp_sub_class = \"DG-O\" \n",
    "                else:\n",
    "                    temp_sub_class = \"DG\"\n",
    "                subclasses.append(temp_sub_class)\n",
    "\n",
    "\n",
    "        elif jj == \"TAG\":\n",
    "\n",
    "            if \" | \" in xx:\n",
    "\n",
    "                temp_lipid = xx.split(\"|\")\n",
    "                temp_string_length = \"\"\n",
    "                temp_string_saturation = \"\"\n",
    "                between_parents_temp = \"\"\n",
    "                FA_Chain_temp = \"\"\n",
    "                temp_sub_class = \"\"\n",
    "                for i in temp_lipid:\n",
    "                    if len(temp_string_length) >0:\n",
    "                        temp_string_length = temp_string_length+\" | \"+ i[i.find(\"(\")+1:i.find(\":\")]\n",
    "                        temp_string_saturation = temp_string_saturation+\" | \"+ i[i.find(\":\")+1:i.find(\")\")]\n",
    "                        between_parents_temp = between_parents_temp +\" | \"+ i[i.find(\"(\"):i.find(\")\")+1]\n",
    "                        FA_Chain_temp = FA_Chain_temp+\" | \"+ i[i.find(\"_FA\")+3:]\n",
    "                        if \"TG(O\" in i:\n",
    "                            temp_sub_class = temp_sub_class +\" | \"+ \"TG(O\"\n",
    "                        else:\n",
    "                            temp_sub_class = temp_sub_class +\" | \"+\"TG\"\n",
    "\n",
    "                    else:\n",
    "\n",
    "                        temp_string_length = i[i.find(\"(\")+1:i.find(\":\")]\n",
    "                        temp_string_saturation = i[i.find(\":\")+1:i.find(\")\")]\n",
    "                        between_parents_temp = i[i.find(\"(\"):i.find(\")\")+1]\n",
    "                        FA_Chain_temp = i[i.find(\"_FA\")+3:]\n",
    "                        if \"TG(O\" in i:\n",
    "                            temp_sub_class = \"TG(O\"\n",
    "                        else:\n",
    "                            temp_sub_class = \"TG\"\n",
    "\n",
    "                subclasses.append(temp_sub_class)\n",
    "                chain_length.append(temp_string_length)\n",
    "                saturation.append(temp_string_saturation)\n",
    "                between_parenthese.append(between_parents_temp)\n",
    "                FA_Chain.append(FA_Chain_temp)\n",
    "\n",
    "\n",
    "            else:\n",
    "\n",
    "                temp_string_length = xx[xx.find(\"(\")+1:xx.find(\":\")]\n",
    "                temp_string_saturation = xx[xx.find(\":\")+1:xx.find(\")\")]\n",
    "                chain_length.append(temp_string_length)\n",
    "                saturation.append(temp_string_saturation)\n",
    "                between_parenthese.append(xx[xx.find(\"(\"):xx.find(\")\")+1])\n",
    "                FA_Chain.append(xx[xx.find(\"_FA\")+3:])\n",
    "\n",
    "                if \"TG(O\" in xx:\n",
    "                    temp_sub_class = \"TG(O\"\n",
    "                else:\n",
    "                    temp_sub_class = \"TG\"\n",
    "                subclasses.append(temp_sub_class)\n",
    "\n",
    "        elif jj == \"PC\":\n",
    "            if \" | \" in xx:\n",
    "\n",
    "                temp_lipid = xx.split(\"|\")\n",
    "                temp_string_length = \"\"\n",
    "                temp_string_saturation = \"\"\n",
    "                between_parents_temp = \"\"\n",
    "\n",
    "                temp_sub_class = \"\"\n",
    "                for i in temp_lipid:\n",
    "                    if len(temp_string_length) >0:\n",
    "                        temp_string_length = temp_string_length+\" | \"+ i[i.find(\"(\")+1:i.find(\":\")]\n",
    "                        temp_string_saturation = temp_string_saturation+\" | \"+ i[i.find(\":\")+1:i.find(\")\")]\n",
    "                        between_parents_temp = between_parents_temp +\" | \"+ i[i.find(\"(\"):i.find(\")\")+1]\n",
    "                        if \"LPC(O-\" in i:\n",
    "                            temp_sub_class =temp_sub_class +\" | \"+ \"LPC(O-\"\n",
    "                        elif \"LPC(P-\" in i:\n",
    "                            temp_sub_class = temp_sub_class +\" | \"+\"LPC(P-\"    \n",
    "                        elif \"LPC\" in i:\n",
    "                            temp_sub_class = temp_sub_class +\" | \"+\"LPC\"    \n",
    "                        elif \"PC(P-\" in i:\n",
    "                            temp_sub_class = temp_sub_class +\" | \"+\"PC(P-\"\n",
    "                        elif \"PC(O-\" in i:\n",
    "                            temp_sub_class = temp_sub_class +\" | \"+\"PC(O-\"      \n",
    "                        else:\n",
    "                            temp_sub_class = temp_sub_class +\" | \"+\"PC\"\n",
    "\n",
    "                    else:\n",
    "\n",
    "                        temp_string_length = i[i.find(\"(\")+1:i.find(\":\")]\n",
    "                        temp_string_saturation = i[i.find(\":\")+1:i.find(\")\")]\n",
    "                        between_parents_temp = i[i.find(\"(\"):i.find(\")\")+1]\n",
    "\n",
    "                        if \"LPC(O-\" in i:\n",
    "                            temp_sub_class = \"LPC(O-\"\n",
    "                        elif \"LPC(P-\" in i:\n",
    "                            temp_sub_class = \"LPC(P-\"    \n",
    "                        elif \"LPC\" in i:\n",
    "                            temp_sub_class = \"LPC\"    \n",
    "                        elif \"PC(P-\" in i:\n",
    "                            temp_sub_class = \"PC(P-\"\n",
    "                        elif \"PC(O-\" in i:\n",
    "                            temp_sub_class = \"PC(O-\"      \n",
    "                        else:\n",
    "                            temp_sub_class = \"PC\"\n",
    "\n",
    "                subclasses.append(temp_sub_class)\n",
    "                chain_length.append(temp_string_length)\n",
    "                saturation.append(temp_string_saturation)\n",
    "                between_parenthese.append(between_parents_temp)\n",
    "                FA_Chain.append(\"NA\")\n",
    "\n",
    "\n",
    "            else:\n",
    "\n",
    "                temp_string_length = xx[xx.find(\"(\")+1:xx.find(\":\")]\n",
    "                temp_string_saturation = xx[xx.find(\":\")+1:xx.find(\")\")]\n",
    "                chain_length.append(temp_string_length)\n",
    "                saturation.append(temp_string_saturation)\n",
    "                between_parenthese.append(xx[xx.find(\"(\"):xx.find(\")\")+1])\n",
    "                FA_Chain.append(\"NA\")\n",
    "                if \"LPC(O-\" in xx:\n",
    "                    temp_sub_class = \"LPC(O-\"\n",
    "                elif \"LPC(P-\" in xx:\n",
    "                    temp_sub_class = \"LPC(P-\"    \n",
    "                elif \"LPC\" in xx:\n",
    "                    temp_sub_class = \"LPC\"    \n",
    "                elif \"PC(P-\" in xx:\n",
    "                    temp_sub_class = \"PC(P-\"\n",
    "                elif \"PC(O-\" in xx:\n",
    "                    temp_sub_class = \"PC(O-\"      \n",
    "                else:\n",
    "                    temp_sub_class = \"PC\"\n",
    "                subclasses.append(temp_sub_class)\n",
    "\n",
    "        elif jj == \"PE\":\n",
    "            if \" | \" in xx:\n",
    "\n",
    "                temp_lipid = xx.split(\"|\")\n",
    "                temp_string_length = \"\"\n",
    "                temp_string_saturation = \"\"\n",
    "                between_parents_temp = \"\"\n",
    "\n",
    "                temp_sub_class = \"\"\n",
    "                for i in temp_lipid:\n",
    "                    if len(temp_string_length) >0:\n",
    "                        temp_string_length = temp_string_length+\" | \"+ i[i.find(\"(\")+1:i.find(\":\")]\n",
    "                        temp_string_saturation = temp_string_saturation+\" | \"+ i[i.find(\":\")+1:i.find(\")\")]\n",
    "                        between_parents_temp = between_parents_temp +\" | \"+ i[i.find(\"(\"):i.find(\")\")+1]\n",
    "                        if \"LPE(O-\" in i:\n",
    "                            temp_sub_class =temp_sub_class +\" | \"+ \"LPE(O-\"\n",
    "                        elif \"LPE(P-\" in i:\n",
    "                            temp_sub_class = temp_sub_class +\" | \"+\"LPE(P-\"    \n",
    "                        elif \"LPE\" in i:\n",
    "                            temp_sub_class = temp_sub_class +\" | \"+\"LPE\"    \n",
    "                        elif \"PE(P-\" in i:\n",
    "                            temp_sub_class = temp_sub_class +\" | \"+\"PE(P-\"\n",
    "                        elif \"PE(O-\" in i:\n",
    "                            temp_sub_class = temp_sub_class +\" | \"+\"PE(O-\"      \n",
    "                        else:\n",
    "                            temp_sub_class = temp_sub_class +\" | \"+\"PE\"\n",
    "\n",
    "                    else:\n",
    "\n",
    "                        temp_string_length = i[i.find(\"(\")+1:i.find(\":\")]\n",
    "                        temp_string_saturation = i[i.find(\":\")+1:i.find(\")\")]\n",
    "                        between_parents_temp = i[i.find(\"(\"):i.find(\")\")+1]\n",
    "\n",
    "                        if \"LPE(O-\" in i:\n",
    "                            temp_sub_class = \"LPE(O-\"\n",
    "                        elif \"LPE(P-\" in i:\n",
    "                            temp_sub_class = \"LPE(P-\"    \n",
    "                        elif \"LPE\" in i:\n",
    "                            temp_sub_class = \"LPE\"    \n",
    "                        elif \"PE(P-\" in i:\n",
    "                            temp_sub_class = \"PE(P-\"\n",
    "                        elif \"PE(O-\" in i:\n",
    "                            temp_sub_class = \"PE(O-\"      \n",
    "                        else:\n",
    "                            temp_sub_class = \"PE\"\n",
    "\n",
    "                subclasses.append(temp_sub_class)\n",
    "                chain_length.append(temp_string_length)\n",
    "                saturation.append(temp_string_saturation)\n",
    "                between_parenthese.append(between_parents_temp)\n",
    "                FA_Chain.append(\"NA\")\n",
    "\n",
    "\n",
    "            else:\n",
    "\n",
    "                temp_string_length = xx[xx.find(\"(\")+1:xx.find(\":\")]\n",
    "                temp_string_saturation = xx[xx.find(\":\")+1:xx.find(\")\")]\n",
    "                chain_length.append(temp_string_length)\n",
    "                saturation.append(temp_string_saturation)\n",
    "                between_parenthese.append(xx[xx.find(\"(\"):xx.find(\")\")+1])\n",
    "                FA_Chain.append(\"NA\")\n",
    "                if \"LPE(O-\" in xx:\n",
    "                    temp_sub_class = \"LPE(O-\"\n",
    "                elif \"LPE(P-\" in xx:\n",
    "                    temp_sub_class = \"LPE(P-\"    \n",
    "                elif \"LPE\" in xx:\n",
    "                    temp_sub_class = \"LPE\"    \n",
    "                elif \"PE(P-\" in xx:\n",
    "                    temp_sub_class = \"PE(P-\"\n",
    "                elif \"PE(O-\" in xx:\n",
    "                    temp_sub_class = \"PE(O-\"      \n",
    "                else:\n",
    "                    temp_sub_class = \"PE\"\n",
    "                subclasses.append(temp_sub_class)\n",
    "\n",
    "        elif jj == \"PG\":\n",
    "            if \" | \" in xx:\n",
    "\n",
    "                temp_lipid = xx.split(\"|\")\n",
    "                temp_string_length = \"\"\n",
    "                temp_string_saturation = \"\"\n",
    "                between_parents_temp = \"\"\n",
    "\n",
    "                temp_sub_class = \"\"\n",
    "                for i in temp_lipid:\n",
    "                    if len(temp_string_length) >0:\n",
    "                        temp_string_length = temp_string_length+\" | \"+ i[i.find(\"(\")+1:i.find(\":\")]\n",
    "                        temp_string_saturation = temp_string_saturation+\" | \"+ i[i.find(\":\")+1:i.find(\")\")]\n",
    "                        between_parents_temp = between_parents_temp +\" | \"+ i[i.find(\"(\"):i.find(\")\")+1]\n",
    "                        if \"LPG(O-\" in i:\n",
    "                            temp_sub_class =temp_sub_class +\" | \"+ \"LPG(O-\"\n",
    "                        elif \"LPG(P-\" in i:\n",
    "                            temp_sub_class = temp_sub_class +\" | \"+\"LPG(P-\"    \n",
    "                        elif \"LPG\" in i:\n",
    "                            temp_sub_class = temp_sub_class +\" | \"+\"LPG\"    \n",
    "                        elif \"PG(P-\" in i:\n",
    "                            temp_sub_class = temp_sub_class +\" | \"+\"PG(P-\"\n",
    "                        elif \"PG(O-\" in i:\n",
    "                            temp_sub_class = temp_sub_class +\" | \"+\"PG(O-\"      \n",
    "                        else:\n",
    "                            temp_sub_class = temp_sub_class +\" | \"+\"PG\"\n",
    "\n",
    "                    else:\n",
    "\n",
    "                        temp_string_length = i[i.find(\"(\")+1:i.find(\":\")]\n",
    "                        temp_string_saturation = i[i.find(\":\")+1:i.find(\")\")]\n",
    "                        between_parents_temp = i[i.find(\"(\"):i.find(\")\")+1]\n",
    "\n",
    "                        if \"LPG(O-\" in i:\n",
    "                            temp_sub_class = \"LPG(O-\"\n",
    "                        elif \"LPG(P-\" in i:\n",
    "                            temp_sub_class = \"LPG(P-\"    \n",
    "                        elif \"LPG\" in i:\n",
    "                            temp_sub_class = \"LPG\"    \n",
    "                        elif \"PG(P-\" in i:\n",
    "                            temp_sub_class = \"PG(P-\"\n",
    "                        elif \"PG(O-\" in i:\n",
    "                            temp_sub_class = \"PG(O-\"      \n",
    "                        else:\n",
    "                            temp_sub_class = \"PG\"\n",
    "\n",
    "                subclasses.append(temp_sub_class)\n",
    "                chain_length.append(temp_string_length)\n",
    "                saturation.append(temp_string_saturation)\n",
    "                between_parenthese.append(between_parents_temp)\n",
    "                FA_Chain.append(\"NA\")\n",
    "\n",
    "\n",
    "            else:\n",
    "\n",
    "                temp_string_length = xx[xx.find(\"(\")+1:xx.find(\":\")]\n",
    "                temp_string_saturation = xx[xx.find(\":\")+1:xx.find(\")\")]\n",
    "                chain_length.append(temp_string_length)\n",
    "                saturation.append(temp_string_saturation)\n",
    "                between_parenthese.append(xx[xx.find(\"(\"):xx.find(\")\")+1])\n",
    "                FA_Chain.append(\"NA\")\n",
    "                if \"LPG(O-\" in xx:\n",
    "                    temp_sub_class = \"LPG(O-\"\n",
    "                elif \"LPG(P-\" in xx:\n",
    "                    temp_sub_class = \"LPG(P-\"    \n",
    "                elif \"LPG\" in xx:\n",
    "                    temp_sub_class = \"LPG\"    \n",
    "                elif \"PG(P-\" in xx:\n",
    "                    temp_sub_class = \"PG(P-\"\n",
    "                elif \"PG(O-\" in xx:\n",
    "                    temp_sub_class = \"PG(O-\"      \n",
    "                else:\n",
    "                    temp_sub_class = \"PG\"\n",
    "                subclasses.append(temp_sub_class)\n",
    "\n",
    "        elif jj == \"PI\":\n",
    "            if \" | \" in xx:\n",
    "\n",
    "                temp_lipid = xx.split(\"|\")\n",
    "                temp_string_length = \"\"\n",
    "                temp_string_saturation = \"\"\n",
    "                between_parents_temp = \"\"\n",
    "\n",
    "                temp_sub_class = \"\"\n",
    "                for i in temp_lipid:\n",
    "                    if len(temp_string_length) >0:\n",
    "                        temp_string_length = temp_string_length+\" | \"+ i[i.find(\"(\")+1:i.find(\":\")]\n",
    "                        temp_string_saturation = temp_string_saturation+\" | \"+ i[i.find(\":\")+1:i.find(\")\")]\n",
    "                        between_parents_temp = between_parents_temp +\" | \"+ i[i.find(\"(\"):i.find(\")\")+1]\n",
    "                        if \"LPI(O-\" in i:\n",
    "                            temp_sub_class =temp_sub_class +\" | \"+ \"LPI(O-\"\n",
    "                        elif \"LPI(P-\" in i:\n",
    "                            temp_sub_class = temp_sub_class +\" | \"+\"LPI(P-\"    \n",
    "                        elif \"LPI\" in i:\n",
    "                            temp_sub_class = temp_sub_class +\" | \"+\"LPI\"    \n",
    "                        elif \"PI(P-\" in i:\n",
    "                            temp_sub_class = temp_sub_class +\" | \"+\"PI(P-\"\n",
    "                        elif \"PI(O-\" in i:\n",
    "                            temp_sub_class = temp_sub_class +\" | \"+\"PI(O-\"      \n",
    "                        else:\n",
    "                            temp_sub_class = temp_sub_class +\" | \"+\"PI\"\n",
    "\n",
    "                    else:\n",
    "\n",
    "                        temp_string_length = i[i.find(\"(\")+1:i.find(\":\")]\n",
    "                        temp_string_saturation = i[i.find(\":\")+1:i.find(\")\")]\n",
    "                        between_parents_temp = i[i.find(\"(\"):i.find(\")\")+1]\n",
    "\n",
    "                        if \"LPI(O-\" in i:\n",
    "                            temp_sub_class = \"LPI(O-\"\n",
    "                        elif \"LPI(P-\" in i:\n",
    "                            temp_sub_class = \"LPI(P-\"    \n",
    "                        elif \"LPI\" in i:\n",
    "                            temp_sub_class = \"LPI\"    \n",
    "                        elif \"PI(P-\" in i:\n",
    "                            temp_sub_class = \"PI(P-\"\n",
    "                        elif \"PI(O-\" in i:\n",
    "                            temp_sub_class = \"PI(O-\"      \n",
    "                        else:\n",
    "                            temp_sub_class = \"PI\"\n",
    "\n",
    "                subclasses.append(temp_sub_class)\n",
    "                chain_length.append(temp_string_length)\n",
    "                saturation.append(temp_string_saturation)\n",
    "                between_parenthese.append(between_parents_temp)\n",
    "                FA_Chain.append(\"NA\")\n",
    "\n",
    "\n",
    "            else:\n",
    "\n",
    "                temp_string_length = xx[xx.find(\"(\")+1:xx.find(\":\")]\n",
    "                temp_string_saturation = xx[xx.find(\":\")+1:xx.find(\")\")]\n",
    "                chain_length.append(temp_string_length)\n",
    "                saturation.append(temp_string_saturation)\n",
    "                between_parenthese.append(xx[xx.find(\"(\"):xx.find(\")\")+1])\n",
    "                FA_Chain.append(\"NA\")\n",
    "                if \"LPI(O-\" in xx:\n",
    "                    temp_sub_class = \"LPI(O-\"\n",
    "                elif \"LPI(P-\" in xx:\n",
    "                    temp_sub_class = \"LPI(P-\"    \n",
    "                elif \"LPI\" in xx:\n",
    "                    temp_sub_class = \"LPI\"    \n",
    "                elif \"PI(P-\" in xx:\n",
    "                    temp_sub_class = \"PI(P-\"\n",
    "                elif \"PI(O-\" in xx:\n",
    "                    temp_sub_class = \"PI(O-\"      \n",
    "                else:\n",
    "                    temp_sub_class = \"PI\"\n",
    "                subclasses.append(temp_sub_class)\n",
    "\n",
    "\n",
    "    #####\n",
    "        elif jj == \"PS\":\n",
    "            if \" | \" in xx:\n",
    "\n",
    "                temp_lipid = xx.split(\"|\")\n",
    "                temp_string_length = \"\"\n",
    "                temp_string_saturation = \"\"\n",
    "                between_parents_temp = \"\"\n",
    "\n",
    "                temp_sub_class = \"\"\n",
    "                for i in temp_lipid:\n",
    "                    if len(temp_string_length) >0:\n",
    "                        temp_string_length = temp_string_length+\" | \"+ i[i.find(\"(\")+1:i.find(\":\")]\n",
    "                        temp_string_saturation = temp_string_saturation+\" | \"+ i[i.find(\":\")+1:i.find(\")\")]\n",
    "                        between_parents_temp = between_parents_temp +\" | \"+ i[i.find(\"(\"):i.find(\")\")+1]\n",
    "                        if \"LPS(O-\" in i:\n",
    "                            temp_sub_class =temp_sub_class +\" | \"+ \"LPS(O-\"\n",
    "                        elif \"LPS(P-\" in i:\n",
    "                            temp_sub_class = temp_sub_class +\" | \"+\"LPS(P-\"    \n",
    "                        elif \"LPS\" in i:\n",
    "                            temp_sub_class = temp_sub_class +\" | \"+\"LPS\"    \n",
    "                        elif \"PS(P-\" in i:\n",
    "                            temp_sub_class = temp_sub_class +\" | \"+\"PS(P-\"\n",
    "                        elif \"PS(O-\" in i:\n",
    "                            temp_sub_class = temp_sub_class +\" | \"+\"PS(O-\"      \n",
    "                        else:\n",
    "                            temp_sub_class = temp_sub_class +\" | \"+\"PS\"\n",
    "\n",
    "                    else:\n",
    "\n",
    "                        temp_string_length = i[i.find(\"(\")+1:i.find(\":\")]\n",
    "                        temp_string_saturation = i[i.find(\":\")+1:i.find(\")\")]\n",
    "                        between_parents_temp = i[i.find(\"(\"):i.find(\")\")+1]\n",
    "\n",
    "                        if \"LPS(O-\" in i:\n",
    "                            temp_sub_class = \"LPS(O-\"\n",
    "                        elif \"LPS(P-\" in i:\n",
    "                            temp_sub_class = \"LPS(P-\"    \n",
    "                        elif \"LPS\" in i:\n",
    "                            temp_sub_class = \"LPS\"    \n",
    "                        elif \"PS(P-\" in i:\n",
    "                            temp_sub_class = \"PS(P-\"\n",
    "                        elif \"PS(O-\" in i:\n",
    "                            temp_sub_class = \"PS(O-\"      \n",
    "                        else:\n",
    "                            temp_sub_class = \"PS\"\n",
    "\n",
    "                subclasses.append(temp_sub_class)\n",
    "                chain_length.append(temp_string_length)\n",
    "                saturation.append(temp_string_saturation)\n",
    "                between_parenthese.append(between_parents_temp)\n",
    "                FA_Chain.append(\"NA\")\n",
    "\n",
    "\n",
    "            else:\n",
    "\n",
    "                temp_string_length = xx[xx.find(\"(\")+1:xx.find(\":\")]\n",
    "                temp_string_saturation = xx[xx.find(\":\")+1:xx.find(\")\")]\n",
    "                chain_length.append(temp_string_length)\n",
    "                saturation.append(temp_string_saturation)\n",
    "                between_parenthese.append(xx[xx.find(\"(\"):xx.find(\")\")+1])\n",
    "                FA_Chain.append(\"NA\")\n",
    "                if \"LPS(O-\" in xx:\n",
    "                    temp_sub_class = \"LPS(O-\"\n",
    "                elif \"LPS(P-\" in xx:\n",
    "                    temp_sub_class = \"LPI(P-\"    \n",
    "                elif \"LPS\" in xx:\n",
    "                    temp_sub_class = \"LPS\"    \n",
    "                elif \"PS(P-\" in xx:\n",
    "                    temp_sub_class = \"PS(P-\"\n",
    "                elif \"PS(O-\" in xx:\n",
    "                    temp_sub_class = \"PS(O-\"      \n",
    "                else:\n",
    "                    temp_sub_class = \"PS\"\n",
    "                subclasses.append(temp_sub_class)\n",
    "\n",
    "\n",
    "\n",
    "        elif jj == \"SM\":\n",
    "            FA_Chain.append(\"None\")\n",
    "\n",
    "            subclasses.append(\"SM\")\n",
    "            between_parenthese.append(xx[xx.find(\"(\"):xx.find(\")\")+1])\n",
    "            saturation.append(\"NA\")\n",
    "\n",
    "            chain_length.append(\"NA\")\n",
    "\n",
    "    merged_df[\"subclasses\"] = subclasses\n",
    "    merged_df[\"chain_length\"] = subclasses\n",
    "    merged_df[\"saturation\"] = saturation\n",
    "    merged_df[\"between_parenthese\"] = between_parenthese\n",
    "    merged_df[\"FA_Chain\"] = FA_Chain\n",
    "\n",
    "    return merged_df\n"
   ]
  },
  {
   "cell_type": "code",
   "execution_count": 17,
   "metadata": {
    "scrolled": true
   },
   "outputs": [
    {
     "name": "stdout",
     "output_type": "stream",
     "text": [
      "{'PE', 'CE', 'DAG | CE', 'TAG | DAG | CE', 'PC', 'DAG', 'TAG | DAG', 'PS', 'TAG', 'FA', 'PI', 'SM', 'CAR', 'Cer', 'PG'}\n",
      "['PE', 'CE', 'DAG | CE', 'TAG | DAG | CE', 'PC', 'DAG', 'TAG | DAG', 'PS', 'TAG', 'FA', 'PI', 'SM', 'CAR', 'Cer', 'PG']\n",
      "16:0\n",
      "146520\n"
     ]
    }
   ],
   "source": [
    "merged_df = add_subclass_and_length(merged_df)"
   ]
  },
  {
   "cell_type": "code",
   "execution_count": 18,
   "metadata": {},
   "outputs": [
    {
     "data": {
      "text/plain": [
       "['Lipid',\n",
       " 'Parent_Ion',\n",
       " 'Product_Ion',\n",
       " 'Intensity',\n",
       " 'Transition',\n",
       " 'Class',\n",
       " 'Sample_ID',\n",
       " 'Sample Name',\n",
       " 'Cage',\n",
       " 'Position',\n",
       " 'Dilution Factor',\n",
       " 'Sex2',\n",
       " 'Sex',\n",
       " 'Genotype',\n",
       " 'Brain Region',\n",
       " 'method_type',\n",
       " 'Blank Subtraction',\n",
       " 'subclasses',\n",
       " 'chain_length',\n",
       " 'saturation',\n",
       " 'between_parenthese',\n",
       " 'FA_Chain']"
      ]
     },
     "execution_count": 18,
     "metadata": {},
     "output_type": "execute_result"
    }
   ],
   "source": [
    "list(merged_df)"
   ]
  },
  {
   "cell_type": "code",
   "execution_count": 15,
   "metadata": {},
   "outputs": [
    {
     "data": {
      "text/plain": [
       "'CAR'"
      ]
     },
     "execution_count": 15,
     "metadata": {},
     "output_type": "execute_result"
    }
   ],
   "source": [
    "merged_df['Class'][7]"
   ]
  },
  {
   "cell_type": "code",
   "execution_count": null,
   "metadata": {},
   "outputs": [],
   "source": []
  },
  {
   "cell_type": "code",
   "execution_count": 69,
   "metadata": {},
   "outputs": [
    {
     "data": {
      "text/plain": [
       "[[{'Genotype': ['WT'], 'Brain Region': [], 'Sex': [], 'Gender': []},\n",
       "  {'Genotype': ['5xFAD'], 'Brain Region': [], 'Sex': [], 'Gender': []}],\n",
       " [{'Genotype': ['5xFAD'],\n",
       "   'Brain Region': ['diencephalon'],\n",
       "   'Sex': ['Male'],\n",
       "   'Gender': ['Female']},\n",
       "  {'Genotype': [],\n",
       "   'Brain Region': ['cortex'],\n",
       "   'Sex': ['Male'],\n",
       "   'Gender': ['Male']}],\n",
       " [{'Genotype': ['WT', '5xFAD'], 'Brain Region': [], 'Sex': [], 'Gender': []},\n",
       "  {'Genotype': [],\n",
       "   'Brain Region': ['diencephalon', 'hippocampus', 'cortex'],\n",
       "   'Sex': [],\n",
       "   'Gender': []}]]"
      ]
     },
     "execution_count": 69,
     "metadata": {},
     "output_type": "execute_result"
    }
   ],
   "source": [
    "json_list_pairs"
   ]
  },
  {
   "cell_type": "code",
   "execution_count": 80,
   "metadata": {},
   "outputs": [
    {
     "data": {
      "application/vnd.jupyter.widget-view+json": {
       "model_id": "bc7b7803875b4d1b905ff12a8a5e60fc",
       "version_major": 2,
       "version_minor": 0
      },
      "text/plain": [
       "HBox(children=(SelectMultiple(description='Genotype', options=('WT', '5xFAD'), value=()), SelectMultiple(descr…"
      ]
     },
     "metadata": {},
     "output_type": "display_data"
    },
    {
     "data": {
      "application/vnd.jupyter.widget-view+json": {
       "model_id": "8a36e1d736574f988f3430e010b48ded",
       "version_major": 2,
       "version_minor": 0
      },
      "text/plain": [
       "HBox(children=(SelectMultiple(description='Brain Region', options=('diencephalon', 'hippocampus', 'cortex'), v…"
      ]
     },
     "metadata": {},
     "output_type": "display_data"
    },
    {
     "data": {
      "application/vnd.jupyter.widget-view+json": {
       "model_id": "ff6b3e58bfda450c92c08cc2c108066d",
       "version_major": 2,
       "version_minor": 0
      },
      "text/plain": [
       "HBox(children=(SelectMultiple(description='Sex', options=('Female', 'Male'), value=()), SelectMultiple(descrip…"
      ]
     },
     "metadata": {},
     "output_type": "display_data"
    },
    {
     "data": {
      "application/vnd.jupyter.widget-view+json": {
       "model_id": "64e4809f84514a099b01d97a35cc612b",
       "version_major": 2,
       "version_minor": 0
      },
      "text/plain": [
       "HBox(children=(SelectMultiple(description='Gender', options=('Female', 'Male'), value=()), SelectMultiple(desc…"
      ]
     },
     "metadata": {},
     "output_type": "display_data"
    },
    {
     "data": {
      "application/vnd.jupyter.widget-view+json": {
       "model_id": "cdb5ffbb224b4c7e8a22fe248cc46c0b",
       "version_major": 2,
       "version_minor": 0
      },
      "text/plain": [
       "HBox(children=(Button(description='Finish', style=ButtonStyle()), Button(description='Add more JSON pairs', st…"
      ]
     },
     "metadata": {},
     "output_type": "display_data"
    },
    {
     "name": "stdout",
     "output_type": "stream",
     "text": [
      "{\n",
      "  \"Genotype\": [\n",
      "    \"WT\"\n",
      "  ],\n",
      "  \"Brain Region\": [],\n",
      "  \"Sex\": [\n",
      "    \"Female\"\n",
      "  ],\n",
      "  \"Gender\": []\n",
      "}\n",
      "{\n",
      "  \"Genotype\": [\n",
      "    \"5xFAD\"\n",
      "  ],\n",
      "  \"Brain Region\": [],\n",
      "  \"Sex\": [\n",
      "    \"Female\"\n",
      "  ],\n",
      "  \"Gender\": []\n",
      "}\n"
     ]
    }
   ],
   "source": [
    "# List to hold pairs of JSON objects\n",
    "json_list_pairs = []\n",
    "\n",
    "def remove_empty_entries(json_list_pairs):\n",
    "    cleaned_list_pairs = [\n",
    "        [\n",
    "            {key: value for key, value in pair_dict.items() if value} for pair_dict in pair\n",
    "        ] for pair in json_list_pairs\n",
    "    ]\n",
    "    return cleaned_list_pairs\n",
    "\n",
    "# Initialize widgets_dict1 and widgets_dict2 to be filled later\n",
    "widgets_dict1 = {}\n",
    "widgets_dict2 = {}\n",
    "\n",
    "# Create a function that displays the pair widgets\n",
    "def display_pair_widgets():\n",
    "    global widgets_dict1, widgets_dict2\n",
    "    widgets_dict1 = {key: widgets.SelectMultiple(options=value, description=key) for key, value in main_json.items()}\n",
    "    widgets_dict2 = {key: widgets.SelectMultiple(options=value, description=key) for key, value in main_json.items()}\n",
    "    \n",
    "    for key in main_json.keys():\n",
    "        display(widgets.HBox([widgets_dict1[key], widgets_dict2[key]]))\n",
    "\n",
    "display_pair_widgets()\n",
    "\n",
    "# Define what to do on 'Generate JSON files' button click\n",
    "def on_generate_clicked(b):\n",
    "    # Build new_json based on the values selected in the widgets\n",
    "    new_json1 = {key: list(widget.value) for key, widget in widgets_dict1.items()}\n",
    "    new_json2 = {key: list(widget.value) for key, widget in widgets_dict2.items()}\n",
    "\n",
    "    # Add new JSON objects to the list\n",
    "    pair = [new_json1, new_json2]\n",
    "    json_list_pairs.append(pair)\n",
    "    \n",
    "    # Print the new JSON objects\n",
    "    print(json.dumps(new_json1, indent=2))\n",
    "    print(json.dumps(new_json2, indent=2))\n",
    "\n",
    "def on_add_more_clicked(b):\n",
    "    # Build new_json based on the values selected in the widgets\n",
    "    new_json1 = {key: list(widget.value) for key, widget in widgets_dict1.items()}\n",
    "    new_json2 = {key: list(widget.value) for key, widget in widgets_dict2.items()}\n",
    "\n",
    "    # Add new JSON objects to the list\n",
    "    pair = [new_json1, new_json2]\n",
    "    json_list_pairs.append(pair)\n",
    "    \n",
    "    # Clear current selection\n",
    "    for widget in widgets_dict1.values():\n",
    "        widget.value = []\n",
    "    for widget in widgets_dict2.values():\n",
    "        widget.value = []\n",
    "\n",
    "# Create the buttons\n",
    "generate_button = widgets.Button(description='Finish')\n",
    "generate_button.on_click(on_generate_clicked)\n",
    "\n",
    "add_more_button = widgets.Button(description='Add more JSON pairs')\n",
    "add_more_button.on_click(on_add_more_clicked)\n",
    "\n",
    "# Display the buttons\n",
    "display(widgets.HBox([generate_button, add_more_button]))"
   ]
  },
  {
   "cell_type": "code",
   "execution_count": 82,
   "metadata": {},
   "outputs": [
    {
     "data": {
      "text/plain": [
       "[[{'Genotype': ['5xFAD']}, {'Genotype': ['WT']}],\n",
       " [{'Genotype': ['WT'], 'Sex': ['Female']},\n",
       "  {'Genotype': ['5xFAD'], 'Sex': ['Female']}]]"
      ]
     },
     "execution_count": 82,
     "metadata": {},
     "output_type": "execute_result"
    }
   ],
   "source": [
    "json_list_pairs = remove_empty_entries(json_list_pairs)\n",
    "\n",
    "json_list_pairs"
   ]
  },
  {
   "cell_type": "code",
   "execution_count": 84,
   "metadata": {},
   "outputs": [],
   "source": [
    "def get_unique_json_objects(json_list_pairs):\n",
    "    json_set = set()\n",
    "    for pair in json_list_pairs:\n",
    "        for json_obj in pair:\n",
    "            json_set.add(json.dumps(json_obj))\n",
    "    \n",
    "    json_list_singles = [json.loads(json_str) for json_str in json_set]\n",
    "    return json_list_singles"
   ]
  },
  {
   "cell_type": "code",
   "execution_count": 85,
   "metadata": {},
   "outputs": [],
   "source": [
    "json_list_singles = get_unique_json_objects(json_list_pairs)"
   ]
  },
  {
   "cell_type": "code",
   "execution_count": 86,
   "metadata": {},
   "outputs": [
    {
     "data": {
      "text/plain": [
       "[{'Genotype': ['5xFAD']},\n",
       " {'Genotype': ['WT'], 'Sex': ['Female']},\n",
       " {'Genotype': ['WT']},\n",
       " {'Genotype': ['5xFAD'], 'Sex': ['Female']}]"
      ]
     },
     "execution_count": 86,
     "metadata": {},
     "output_type": "execute_result"
    }
   ],
   "source": [
    "json_list_singles"
   ]
  },
  {
   "cell_type": "code",
   "execution_count": 9,
   "metadata": {},
   "outputs": [
    {
     "data": {
      "text/plain": [
       "20408"
      ]
     },
     "execution_count": 9,
     "metadata": {},
     "output_type": "execute_result"
    }
   ],
   "source": [
    "len(df_matched) ##20405 df matched .3 tolerance"
   ]
  },
  {
   "cell_type": "code",
   "execution_count": 10,
   "metadata": {},
   "outputs": [
    {
     "data": {
      "text/plain": [
       "20382"
      ]
     },
     "execution_count": 10,
     "metadata": {},
     "output_type": "execute_result"
    }
   ],
   "source": [
    "len(merged_df)"
   ]
  },
  {
   "cell_type": "code",
   "execution_count": 37,
   "metadata": {},
   "outputs": [
    {
     "data": {
      "text/plain": [
       "3397.0"
      ]
     },
     "execution_count": 37,
     "metadata": {},
     "output_type": "execute_result"
    }
   ],
   "source": [
    "len(merged_df)/len(merged_df[\"Sample Name\"].unique())"
   ]
  },
  {
   "cell_type": "code",
   "execution_count": 24,
   "metadata": {},
   "outputs": [],
   "source": [
    "groupby_columns = labels_list\n",
    "\n",
    "# Aggregate functions to apply\n",
    "aggregations = {\n",
    "    'Intensity': 'mean',\n",
    "    'Blank Subtraction': 'mean'\n",
    "}\n",
    "\n",
    "# Group the DataFrame and apply the aggregation functions\n",
    "\n",
    "filtered_df_grouped = merged_df.groupby(groupby_columns).agg(aggregations).reset_index()"
   ]
  },
  {
   "cell_type": "code",
   "execution_count": 38,
   "metadata": {},
   "outputs": [
    {
     "data": {
      "text/plain": [
       "3232"
      ]
     },
     "execution_count": 38,
     "metadata": {},
     "output_type": "execute_result"
    }
   ],
   "source": [
    "len(set(merged_df[\"Transition\"]))"
   ]
  },
  {
   "cell_type": "code",
   "execution_count": 27,
   "metadata": {},
   "outputs": [
    {
     "data": {
      "text/plain": [
       "3161"
      ]
     },
     "execution_count": 27,
     "metadata": {},
     "output_type": "execute_result"
    }
   ],
   "source": [
    "len(set(filtered_df_grouped[\"Lipid\"]))"
   ]
  },
  {
   "cell_type": "code",
   "execution_count": 26,
   "metadata": {},
   "outputs": [
    {
     "data": {
      "text/plain": [
       "3161"
      ]
     },
     "execution_count": 26,
     "metadata": {},
     "output_type": "execute_result"
    }
   ],
   "source": [
    "len(set(filtered_df_grouped[\"Lipid\"]))"
   ]
  },
  {
   "cell_type": "code",
   "execution_count": 30,
   "metadata": {},
   "outputs": [
    {
     "data": {
      "application/vnd.plotly.v1+json": {
       "config": {
        "plotlyServerURL": "https://plot.ly"
       },
       "data": [
        {
         "customdata": [
          [
           "TAG"
          ],
          [
           "DAG"
          ],
          [
           "PC"
          ],
          [
           "FA"
          ],
          [
           "PE"
          ],
          [
           "PI"
          ],
          [
           "PG"
          ],
          [
           "PS"
          ],
          [
           "Cer"
          ],
          [
           "CAR"
          ],
          [
           "TAG | DAG"
          ],
          [
           "SM"
          ],
          [
           "CE"
          ],
          [
           "DAG | CE"
          ],
          [
           "TAG | DAG | CE"
          ]
         ],
         "domain": {
          "x": [
           0,
           1
          ],
          "y": [
           0,
           1
          ]
         },
         "hovertemplate": "Class=%{customdata[0]}<br>Count=%{value}<extra></extra>",
         "labels": [
          "TAG",
          "DAG",
          "PC",
          "FA",
          "PE",
          "PI",
          "PG",
          "PS",
          "Cer",
          "CAR",
          "TAG | DAG",
          "SM",
          "CE",
          "DAG | CE",
          "TAG | DAG | CE"
         ],
         "legendgroup": "",
         "marker": {
          "colors": [
           "#6a3d9a80",
           "#8dd3c780",
           "#fb9a9980",
           "#33a02c80",
           "#e31a1c80",
           "#ff7f0080",
           "#fdbf6f80",
           "#80808080",
           "#19d3f3",
           "#a6cee380",
           "#ffffb380",
           "#cab2d680",
           "#1f78b480",
           "#bebada80",
           "#fb807280"
          ]
         },
         "name": "",
         "showlegend": true,
         "type": "pie",
         "values": [
          1490,
          400,
          178,
          171,
          145,
          141,
          140,
          139,
          120,
          84,
          77,
          42,
          29,
          4,
          1
         ]
        }
       ],
       "layout": {
        "legend": {
         "tracegroupgap": 0
        },
        "margin": {
         "t": 60
        },
        "template": {
         "data": {
          "bar": [
           {
            "error_x": {
             "color": "#2a3f5f"
            },
            "error_y": {
             "color": "#2a3f5f"
            },
            "marker": {
             "line": {
              "color": "#E5ECF6",
              "width": 0.5
             }
            },
            "type": "bar"
           }
          ],
          "barpolar": [
           {
            "marker": {
             "line": {
              "color": "#E5ECF6",
              "width": 0.5
             }
            },
            "type": "barpolar"
           }
          ],
          "carpet": [
           {
            "aaxis": {
             "endlinecolor": "#2a3f5f",
             "gridcolor": "white",
             "linecolor": "white",
             "minorgridcolor": "white",
             "startlinecolor": "#2a3f5f"
            },
            "baxis": {
             "endlinecolor": "#2a3f5f",
             "gridcolor": "white",
             "linecolor": "white",
             "minorgridcolor": "white",
             "startlinecolor": "#2a3f5f"
            },
            "type": "carpet"
           }
          ],
          "choropleth": [
           {
            "colorbar": {
             "outlinewidth": 0,
             "ticks": ""
            },
            "type": "choropleth"
           }
          ],
          "contour": [
           {
            "colorbar": {
             "outlinewidth": 0,
             "ticks": ""
            },
            "colorscale": [
             [
              0,
              "#0d0887"
             ],
             [
              0.1111111111111111,
              "#46039f"
             ],
             [
              0.2222222222222222,
              "#7201a8"
             ],
             [
              0.3333333333333333,
              "#9c179e"
             ],
             [
              0.4444444444444444,
              "#bd3786"
             ],
             [
              0.5555555555555556,
              "#d8576b"
             ],
             [
              0.6666666666666666,
              "#ed7953"
             ],
             [
              0.7777777777777778,
              "#fb9f3a"
             ],
             [
              0.8888888888888888,
              "#fdca26"
             ],
             [
              1,
              "#f0f921"
             ]
            ],
            "type": "contour"
           }
          ],
          "contourcarpet": [
           {
            "colorbar": {
             "outlinewidth": 0,
             "ticks": ""
            },
            "type": "contourcarpet"
           }
          ],
          "heatmap": [
           {
            "colorbar": {
             "outlinewidth": 0,
             "ticks": ""
            },
            "colorscale": [
             [
              0,
              "#0d0887"
             ],
             [
              0.1111111111111111,
              "#46039f"
             ],
             [
              0.2222222222222222,
              "#7201a8"
             ],
             [
              0.3333333333333333,
              "#9c179e"
             ],
             [
              0.4444444444444444,
              "#bd3786"
             ],
             [
              0.5555555555555556,
              "#d8576b"
             ],
             [
              0.6666666666666666,
              "#ed7953"
             ],
             [
              0.7777777777777778,
              "#fb9f3a"
             ],
             [
              0.8888888888888888,
              "#fdca26"
             ],
             [
              1,
              "#f0f921"
             ]
            ],
            "type": "heatmap"
           }
          ],
          "heatmapgl": [
           {
            "colorbar": {
             "outlinewidth": 0,
             "ticks": ""
            },
            "colorscale": [
             [
              0,
              "#0d0887"
             ],
             [
              0.1111111111111111,
              "#46039f"
             ],
             [
              0.2222222222222222,
              "#7201a8"
             ],
             [
              0.3333333333333333,
              "#9c179e"
             ],
             [
              0.4444444444444444,
              "#bd3786"
             ],
             [
              0.5555555555555556,
              "#d8576b"
             ],
             [
              0.6666666666666666,
              "#ed7953"
             ],
             [
              0.7777777777777778,
              "#fb9f3a"
             ],
             [
              0.8888888888888888,
              "#fdca26"
             ],
             [
              1,
              "#f0f921"
             ]
            ],
            "type": "heatmapgl"
           }
          ],
          "histogram": [
           {
            "marker": {
             "colorbar": {
              "outlinewidth": 0,
              "ticks": ""
             }
            },
            "type": "histogram"
           }
          ],
          "histogram2d": [
           {
            "colorbar": {
             "outlinewidth": 0,
             "ticks": ""
            },
            "colorscale": [
             [
              0,
              "#0d0887"
             ],
             [
              0.1111111111111111,
              "#46039f"
             ],
             [
              0.2222222222222222,
              "#7201a8"
             ],
             [
              0.3333333333333333,
              "#9c179e"
             ],
             [
              0.4444444444444444,
              "#bd3786"
             ],
             [
              0.5555555555555556,
              "#d8576b"
             ],
             [
              0.6666666666666666,
              "#ed7953"
             ],
             [
              0.7777777777777778,
              "#fb9f3a"
             ],
             [
              0.8888888888888888,
              "#fdca26"
             ],
             [
              1,
              "#f0f921"
             ]
            ],
            "type": "histogram2d"
           }
          ],
          "histogram2dcontour": [
           {
            "colorbar": {
             "outlinewidth": 0,
             "ticks": ""
            },
            "colorscale": [
             [
              0,
              "#0d0887"
             ],
             [
              0.1111111111111111,
              "#46039f"
             ],
             [
              0.2222222222222222,
              "#7201a8"
             ],
             [
              0.3333333333333333,
              "#9c179e"
             ],
             [
              0.4444444444444444,
              "#bd3786"
             ],
             [
              0.5555555555555556,
              "#d8576b"
             ],
             [
              0.6666666666666666,
              "#ed7953"
             ],
             [
              0.7777777777777778,
              "#fb9f3a"
             ],
             [
              0.8888888888888888,
              "#fdca26"
             ],
             [
              1,
              "#f0f921"
             ]
            ],
            "type": "histogram2dcontour"
           }
          ],
          "mesh3d": [
           {
            "colorbar": {
             "outlinewidth": 0,
             "ticks": ""
            },
            "type": "mesh3d"
           }
          ],
          "parcoords": [
           {
            "line": {
             "colorbar": {
              "outlinewidth": 0,
              "ticks": ""
             }
            },
            "type": "parcoords"
           }
          ],
          "pie": [
           {
            "automargin": true,
            "type": "pie"
           }
          ],
          "scatter": [
           {
            "marker": {
             "colorbar": {
              "outlinewidth": 0,
              "ticks": ""
             }
            },
            "type": "scatter"
           }
          ],
          "scatter3d": [
           {
            "line": {
             "colorbar": {
              "outlinewidth": 0,
              "ticks": ""
             }
            },
            "marker": {
             "colorbar": {
              "outlinewidth": 0,
              "ticks": ""
             }
            },
            "type": "scatter3d"
           }
          ],
          "scattercarpet": [
           {
            "marker": {
             "colorbar": {
              "outlinewidth": 0,
              "ticks": ""
             }
            },
            "type": "scattercarpet"
           }
          ],
          "scattergeo": [
           {
            "marker": {
             "colorbar": {
              "outlinewidth": 0,
              "ticks": ""
             }
            },
            "type": "scattergeo"
           }
          ],
          "scattergl": [
           {
            "marker": {
             "colorbar": {
              "outlinewidth": 0,
              "ticks": ""
             }
            },
            "type": "scattergl"
           }
          ],
          "scattermapbox": [
           {
            "marker": {
             "colorbar": {
              "outlinewidth": 0,
              "ticks": ""
             }
            },
            "type": "scattermapbox"
           }
          ],
          "scatterpolar": [
           {
            "marker": {
             "colorbar": {
              "outlinewidth": 0,
              "ticks": ""
             }
            },
            "type": "scatterpolar"
           }
          ],
          "scatterpolargl": [
           {
            "marker": {
             "colorbar": {
              "outlinewidth": 0,
              "ticks": ""
             }
            },
            "type": "scatterpolargl"
           }
          ],
          "scatterternary": [
           {
            "marker": {
             "colorbar": {
              "outlinewidth": 0,
              "ticks": ""
             }
            },
            "type": "scatterternary"
           }
          ],
          "surface": [
           {
            "colorbar": {
             "outlinewidth": 0,
             "ticks": ""
            },
            "colorscale": [
             [
              0,
              "#0d0887"
             ],
             [
              0.1111111111111111,
              "#46039f"
             ],
             [
              0.2222222222222222,
              "#7201a8"
             ],
             [
              0.3333333333333333,
              "#9c179e"
             ],
             [
              0.4444444444444444,
              "#bd3786"
             ],
             [
              0.5555555555555556,
              "#d8576b"
             ],
             [
              0.6666666666666666,
              "#ed7953"
             ],
             [
              0.7777777777777778,
              "#fb9f3a"
             ],
             [
              0.8888888888888888,
              "#fdca26"
             ],
             [
              1,
              "#f0f921"
             ]
            ],
            "type": "surface"
           }
          ],
          "table": [
           {
            "cells": {
             "fill": {
              "color": "#EBF0F8"
             },
             "line": {
              "color": "white"
             }
            },
            "header": {
             "fill": {
              "color": "#C8D4E3"
             },
             "line": {
              "color": "white"
             }
            },
            "type": "table"
           }
          ]
         },
         "layout": {
          "annotationdefaults": {
           "arrowcolor": "#2a3f5f",
           "arrowhead": 0,
           "arrowwidth": 1
          },
          "coloraxis": {
           "colorbar": {
            "outlinewidth": 0,
            "ticks": ""
           }
          },
          "colorscale": {
           "diverging": [
            [
             0,
             "#8e0152"
            ],
            [
             0.1,
             "#c51b7d"
            ],
            [
             0.2,
             "#de77ae"
            ],
            [
             0.3,
             "#f1b6da"
            ],
            [
             0.4,
             "#fde0ef"
            ],
            [
             0.5,
             "#f7f7f7"
            ],
            [
             0.6,
             "#e6f5d0"
            ],
            [
             0.7,
             "#b8e186"
            ],
            [
             0.8,
             "#7fbc41"
            ],
            [
             0.9,
             "#4d9221"
            ],
            [
             1,
             "#276419"
            ]
           ],
           "sequential": [
            [
             0,
             "#0d0887"
            ],
            [
             0.1111111111111111,
             "#46039f"
            ],
            [
             0.2222222222222222,
             "#7201a8"
            ],
            [
             0.3333333333333333,
             "#9c179e"
            ],
            [
             0.4444444444444444,
             "#bd3786"
            ],
            [
             0.5555555555555556,
             "#d8576b"
            ],
            [
             0.6666666666666666,
             "#ed7953"
            ],
            [
             0.7777777777777778,
             "#fb9f3a"
            ],
            [
             0.8888888888888888,
             "#fdca26"
            ],
            [
             1,
             "#f0f921"
            ]
           ],
           "sequentialminus": [
            [
             0,
             "#0d0887"
            ],
            [
             0.1111111111111111,
             "#46039f"
            ],
            [
             0.2222222222222222,
             "#7201a8"
            ],
            [
             0.3333333333333333,
             "#9c179e"
            ],
            [
             0.4444444444444444,
             "#bd3786"
            ],
            [
             0.5555555555555556,
             "#d8576b"
            ],
            [
             0.6666666666666666,
             "#ed7953"
            ],
            [
             0.7777777777777778,
             "#fb9f3a"
            ],
            [
             0.8888888888888888,
             "#fdca26"
            ],
            [
             1,
             "#f0f921"
            ]
           ]
          },
          "colorway": [
           "#636efa",
           "#EF553B",
           "#00cc96",
           "#ab63fa",
           "#FFA15A",
           "#19d3f3",
           "#FF6692",
           "#B6E880",
           "#FF97FF",
           "#FECB52"
          ],
          "font": {
           "color": "#2a3f5f"
          },
          "geo": {
           "bgcolor": "white",
           "lakecolor": "white",
           "landcolor": "#E5ECF6",
           "showlakes": true,
           "showland": true,
           "subunitcolor": "white"
          },
          "hoverlabel": {
           "align": "left"
          },
          "hovermode": "closest",
          "mapbox": {
           "style": "light"
          },
          "paper_bgcolor": "white",
          "plot_bgcolor": "#E5ECF6",
          "polar": {
           "angularaxis": {
            "gridcolor": "white",
            "linecolor": "white",
            "ticks": ""
           },
           "bgcolor": "#E5ECF6",
           "radialaxis": {
            "gridcolor": "white",
            "linecolor": "white",
            "ticks": ""
           }
          },
          "scene": {
           "xaxis": {
            "backgroundcolor": "#E5ECF6",
            "gridcolor": "white",
            "gridwidth": 2,
            "linecolor": "white",
            "showbackground": true,
            "ticks": "",
            "zerolinecolor": "white"
           },
           "yaxis": {
            "backgroundcolor": "#E5ECF6",
            "gridcolor": "white",
            "gridwidth": 2,
            "linecolor": "white",
            "showbackground": true,
            "ticks": "",
            "zerolinecolor": "white"
           },
           "zaxis": {
            "backgroundcolor": "#E5ECF6",
            "gridcolor": "white",
            "gridwidth": 2,
            "linecolor": "white",
            "showbackground": true,
            "ticks": "",
            "zerolinecolor": "white"
           }
          },
          "shapedefaults": {
           "line": {
            "color": "#2a3f5f"
           }
          },
          "ternary": {
           "aaxis": {
            "gridcolor": "white",
            "linecolor": "white",
            "ticks": ""
           },
           "baxis": {
            "gridcolor": "white",
            "linecolor": "white",
            "ticks": ""
           },
           "bgcolor": "#E5ECF6",
           "caxis": {
            "gridcolor": "white",
            "linecolor": "white",
            "ticks": ""
           }
          },
          "title": {
           "x": 0.05
          },
          "xaxis": {
           "automargin": true,
           "gridcolor": "white",
           "linecolor": "white",
           "ticks": "",
           "title": {
            "standoff": 15
           },
           "zerolinecolor": "white",
           "zerolinewidth": 2
          },
          "yaxis": {
           "automargin": true,
           "gridcolor": "white",
           "linecolor": "white",
           "ticks": "",
           "title": {
            "standoff": 15
           },
           "zerolinecolor": "white",
           "zerolinewidth": 2
          }
         }
        },
        "title": {
         "text": "Count of Lipids"
        }
       }
      },
      "text/html": [
       "<div>                            <div id=\"a6a3e895-43fd-43f8-beb8-04d96ca17738\" class=\"plotly-graph-div\" style=\"height:525px; width:100%;\"></div>            <script type=\"text/javascript\">                require([\"plotly\"], function(Plotly) {                    window.PLOTLYENV=window.PLOTLYENV || {};                                    if (document.getElementById(\"a6a3e895-43fd-43f8-beb8-04d96ca17738\")) {                    Plotly.newPlot(                        \"a6a3e895-43fd-43f8-beb8-04d96ca17738\",                        [{\"customdata\": [[\"TAG\"], [\"DAG\"], [\"PC\"], [\"FA\"], [\"PE\"], [\"PI\"], [\"PG\"], [\"PS\"], [\"Cer\"], [\"CAR\"], [\"TAG | DAG\"], [\"SM\"], [\"CE\"], [\"DAG | CE\"], [\"TAG | DAG | CE\"]], \"domain\": {\"x\": [0.0, 1.0], \"y\": [0.0, 1.0]}, \"hovertemplate\": \"Class=%{customdata[0]}<br>Count=%{value}<extra></extra>\", \"labels\": [\"TAG\", \"DAG\", \"PC\", \"FA\", \"PE\", \"PI\", \"PG\", \"PS\", \"Cer\", \"CAR\", \"TAG | DAG\", \"SM\", \"CE\", \"DAG | CE\", \"TAG | DAG | CE\"], \"legendgroup\": \"\", \"marker\": {\"colors\": [\"#6a3d9a80\", \"#8dd3c780\", \"#fb9a9980\", \"#33a02c80\", \"#e31a1c80\", \"#ff7f0080\", \"#fdbf6f80\", \"#80808080\", \"#19d3f3\", \"#a6cee380\", \"#ffffb380\", \"#cab2d680\", \"#1f78b480\", \"#bebada80\", \"#fb807280\"]}, \"name\": \"\", \"showlegend\": true, \"type\": \"pie\", \"values\": [1490, 400, 178, 171, 145, 141, 140, 139, 120, 84, 77, 42, 29, 4, 1]}],                        {\"legend\": {\"tracegroupgap\": 0}, \"margin\": {\"t\": 60}, \"template\": {\"data\": {\"bar\": [{\"error_x\": {\"color\": \"#2a3f5f\"}, \"error_y\": {\"color\": \"#2a3f5f\"}, \"marker\": {\"line\": {\"color\": \"#E5ECF6\", \"width\": 0.5}}, \"type\": \"bar\"}], \"barpolar\": [{\"marker\": {\"line\": {\"color\": \"#E5ECF6\", \"width\": 0.5}}, \"type\": \"barpolar\"}], \"carpet\": [{\"aaxis\": {\"endlinecolor\": \"#2a3f5f\", \"gridcolor\": \"white\", \"linecolor\": \"white\", \"minorgridcolor\": \"white\", \"startlinecolor\": \"#2a3f5f\"}, \"baxis\": {\"endlinecolor\": \"#2a3f5f\", \"gridcolor\": \"white\", \"linecolor\": \"white\", \"minorgridcolor\": \"white\", \"startlinecolor\": \"#2a3f5f\"}, \"type\": \"carpet\"}], \"choropleth\": [{\"colorbar\": {\"outlinewidth\": 0, \"ticks\": \"\"}, \"type\": \"choropleth\"}], \"contour\": [{\"colorbar\": {\"outlinewidth\": 0, \"ticks\": \"\"}, \"colorscale\": [[0.0, \"#0d0887\"], [0.1111111111111111, \"#46039f\"], [0.2222222222222222, \"#7201a8\"], [0.3333333333333333, \"#9c179e\"], [0.4444444444444444, \"#bd3786\"], [0.5555555555555556, \"#d8576b\"], [0.6666666666666666, \"#ed7953\"], [0.7777777777777778, \"#fb9f3a\"], [0.8888888888888888, \"#fdca26\"], [1.0, \"#f0f921\"]], \"type\": \"contour\"}], \"contourcarpet\": [{\"colorbar\": {\"outlinewidth\": 0, \"ticks\": \"\"}, \"type\": \"contourcarpet\"}], \"heatmap\": [{\"colorbar\": {\"outlinewidth\": 0, \"ticks\": \"\"}, \"colorscale\": [[0.0, \"#0d0887\"], [0.1111111111111111, \"#46039f\"], [0.2222222222222222, \"#7201a8\"], [0.3333333333333333, \"#9c179e\"], [0.4444444444444444, \"#bd3786\"], [0.5555555555555556, \"#d8576b\"], [0.6666666666666666, \"#ed7953\"], [0.7777777777777778, \"#fb9f3a\"], [0.8888888888888888, \"#fdca26\"], [1.0, \"#f0f921\"]], \"type\": \"heatmap\"}], \"heatmapgl\": [{\"colorbar\": {\"outlinewidth\": 0, \"ticks\": \"\"}, \"colorscale\": [[0.0, \"#0d0887\"], [0.1111111111111111, \"#46039f\"], [0.2222222222222222, \"#7201a8\"], [0.3333333333333333, \"#9c179e\"], [0.4444444444444444, \"#bd3786\"], [0.5555555555555556, \"#d8576b\"], [0.6666666666666666, \"#ed7953\"], [0.7777777777777778, \"#fb9f3a\"], [0.8888888888888888, \"#fdca26\"], [1.0, \"#f0f921\"]], \"type\": \"heatmapgl\"}], \"histogram\": [{\"marker\": {\"colorbar\": {\"outlinewidth\": 0, \"ticks\": \"\"}}, \"type\": \"histogram\"}], \"histogram2d\": [{\"colorbar\": {\"outlinewidth\": 0, \"ticks\": \"\"}, \"colorscale\": [[0.0, \"#0d0887\"], [0.1111111111111111, \"#46039f\"], [0.2222222222222222, \"#7201a8\"], [0.3333333333333333, \"#9c179e\"], [0.4444444444444444, \"#bd3786\"], [0.5555555555555556, \"#d8576b\"], [0.6666666666666666, \"#ed7953\"], [0.7777777777777778, \"#fb9f3a\"], [0.8888888888888888, \"#fdca26\"], [1.0, \"#f0f921\"]], \"type\": \"histogram2d\"}], \"histogram2dcontour\": [{\"colorbar\": {\"outlinewidth\": 0, \"ticks\": \"\"}, \"colorscale\": [[0.0, \"#0d0887\"], [0.1111111111111111, \"#46039f\"], [0.2222222222222222, \"#7201a8\"], [0.3333333333333333, \"#9c179e\"], [0.4444444444444444, \"#bd3786\"], [0.5555555555555556, \"#d8576b\"], [0.6666666666666666, \"#ed7953\"], [0.7777777777777778, \"#fb9f3a\"], [0.8888888888888888, \"#fdca26\"], [1.0, \"#f0f921\"]], \"type\": \"histogram2dcontour\"}], \"mesh3d\": [{\"colorbar\": {\"outlinewidth\": 0, \"ticks\": \"\"}, \"type\": \"mesh3d\"}], \"parcoords\": [{\"line\": {\"colorbar\": {\"outlinewidth\": 0, \"ticks\": \"\"}}, \"type\": \"parcoords\"}], \"pie\": [{\"automargin\": true, \"type\": \"pie\"}], \"scatter\": [{\"marker\": {\"colorbar\": {\"outlinewidth\": 0, \"ticks\": \"\"}}, \"type\": \"scatter\"}], \"scatter3d\": [{\"line\": {\"colorbar\": {\"outlinewidth\": 0, \"ticks\": \"\"}}, \"marker\": {\"colorbar\": {\"outlinewidth\": 0, \"ticks\": \"\"}}, \"type\": \"scatter3d\"}], \"scattercarpet\": [{\"marker\": {\"colorbar\": {\"outlinewidth\": 0, \"ticks\": \"\"}}, \"type\": \"scattercarpet\"}], \"scattergeo\": [{\"marker\": {\"colorbar\": {\"outlinewidth\": 0, \"ticks\": \"\"}}, \"type\": \"scattergeo\"}], \"scattergl\": [{\"marker\": {\"colorbar\": {\"outlinewidth\": 0, \"ticks\": \"\"}}, \"type\": \"scattergl\"}], \"scattermapbox\": [{\"marker\": {\"colorbar\": {\"outlinewidth\": 0, \"ticks\": \"\"}}, \"type\": \"scattermapbox\"}], \"scatterpolar\": [{\"marker\": {\"colorbar\": {\"outlinewidth\": 0, \"ticks\": \"\"}}, \"type\": \"scatterpolar\"}], \"scatterpolargl\": [{\"marker\": {\"colorbar\": {\"outlinewidth\": 0, \"ticks\": \"\"}}, \"type\": \"scatterpolargl\"}], \"scatterternary\": [{\"marker\": {\"colorbar\": {\"outlinewidth\": 0, \"ticks\": \"\"}}, \"type\": \"scatterternary\"}], \"surface\": [{\"colorbar\": {\"outlinewidth\": 0, \"ticks\": \"\"}, \"colorscale\": [[0.0, \"#0d0887\"], [0.1111111111111111, \"#46039f\"], [0.2222222222222222, \"#7201a8\"], [0.3333333333333333, \"#9c179e\"], [0.4444444444444444, \"#bd3786\"], [0.5555555555555556, \"#d8576b\"], [0.6666666666666666, \"#ed7953\"], [0.7777777777777778, \"#fb9f3a\"], [0.8888888888888888, \"#fdca26\"], [1.0, \"#f0f921\"]], \"type\": \"surface\"}], \"table\": [{\"cells\": {\"fill\": {\"color\": \"#EBF0F8\"}, \"line\": {\"color\": \"white\"}}, \"header\": {\"fill\": {\"color\": \"#C8D4E3\"}, \"line\": {\"color\": \"white\"}}, \"type\": \"table\"}]}, \"layout\": {\"annotationdefaults\": {\"arrowcolor\": \"#2a3f5f\", \"arrowhead\": 0, \"arrowwidth\": 1}, \"coloraxis\": {\"colorbar\": {\"outlinewidth\": 0, \"ticks\": \"\"}}, \"colorscale\": {\"diverging\": [[0, \"#8e0152\"], [0.1, \"#c51b7d\"], [0.2, \"#de77ae\"], [0.3, \"#f1b6da\"], [0.4, \"#fde0ef\"], [0.5, \"#f7f7f7\"], [0.6, \"#e6f5d0\"], [0.7, \"#b8e186\"], [0.8, \"#7fbc41\"], [0.9, \"#4d9221\"], [1, \"#276419\"]], \"sequential\": [[0.0, \"#0d0887\"], [0.1111111111111111, \"#46039f\"], [0.2222222222222222, \"#7201a8\"], [0.3333333333333333, \"#9c179e\"], [0.4444444444444444, \"#bd3786\"], [0.5555555555555556, \"#d8576b\"], [0.6666666666666666, \"#ed7953\"], [0.7777777777777778, \"#fb9f3a\"], [0.8888888888888888, \"#fdca26\"], [1.0, \"#f0f921\"]], \"sequentialminus\": [[0.0, \"#0d0887\"], [0.1111111111111111, \"#46039f\"], [0.2222222222222222, \"#7201a8\"], [0.3333333333333333, \"#9c179e\"], [0.4444444444444444, \"#bd3786\"], [0.5555555555555556, \"#d8576b\"], [0.6666666666666666, \"#ed7953\"], [0.7777777777777778, \"#fb9f3a\"], [0.8888888888888888, \"#fdca26\"], [1.0, \"#f0f921\"]]}, \"colorway\": [\"#636efa\", \"#EF553B\", \"#00cc96\", \"#ab63fa\", \"#FFA15A\", \"#19d3f3\", \"#FF6692\", \"#B6E880\", \"#FF97FF\", \"#FECB52\"], \"font\": {\"color\": \"#2a3f5f\"}, \"geo\": {\"bgcolor\": \"white\", \"lakecolor\": \"white\", \"landcolor\": \"#E5ECF6\", \"showlakes\": true, \"showland\": true, \"subunitcolor\": \"white\"}, \"hoverlabel\": {\"align\": \"left\"}, \"hovermode\": \"closest\", \"mapbox\": {\"style\": \"light\"}, \"paper_bgcolor\": \"white\", \"plot_bgcolor\": \"#E5ECF6\", \"polar\": {\"angularaxis\": {\"gridcolor\": \"white\", \"linecolor\": \"white\", \"ticks\": \"\"}, \"bgcolor\": \"#E5ECF6\", \"radialaxis\": {\"gridcolor\": \"white\", \"linecolor\": \"white\", \"ticks\": \"\"}}, \"scene\": {\"xaxis\": {\"backgroundcolor\": \"#E5ECF6\", \"gridcolor\": \"white\", \"gridwidth\": 2, \"linecolor\": \"white\", \"showbackground\": true, \"ticks\": \"\", \"zerolinecolor\": \"white\"}, \"yaxis\": {\"backgroundcolor\": \"#E5ECF6\", \"gridcolor\": \"white\", \"gridwidth\": 2, \"linecolor\": \"white\", \"showbackground\": true, \"ticks\": \"\", \"zerolinecolor\": \"white\"}, \"zaxis\": {\"backgroundcolor\": \"#E5ECF6\", \"gridcolor\": \"white\", \"gridwidth\": 2, \"linecolor\": \"white\", \"showbackground\": true, \"ticks\": \"\", \"zerolinecolor\": \"white\"}}, \"shapedefaults\": {\"line\": {\"color\": \"#2a3f5f\"}}, \"ternary\": {\"aaxis\": {\"gridcolor\": \"white\", \"linecolor\": \"white\", \"ticks\": \"\"}, \"baxis\": {\"gridcolor\": \"white\", \"linecolor\": \"white\", \"ticks\": \"\"}, \"bgcolor\": \"#E5ECF6\", \"caxis\": {\"gridcolor\": \"white\", \"linecolor\": \"white\", \"ticks\": \"\"}}, \"title\": {\"x\": 0.05}, \"xaxis\": {\"automargin\": true, \"gridcolor\": \"white\", \"linecolor\": \"white\", \"ticks\": \"\", \"title\": {\"standoff\": 15}, \"zerolinecolor\": \"white\", \"zerolinewidth\": 2}, \"yaxis\": {\"automargin\": true, \"gridcolor\": \"white\", \"linecolor\": \"white\", \"ticks\": \"\", \"title\": {\"standoff\": 15}, \"zerolinecolor\": \"white\", \"zerolinewidth\": 2}}}, \"title\": {\"text\": \"Count of Lipids\"}},                        {\"responsive\": true}                    ).then(function(){\n",
       "                            \n",
       "var gd = document.getElementById('a6a3e895-43fd-43f8-beb8-04d96ca17738');\n",
       "var x = new MutationObserver(function (mutations, observer) {{\n",
       "        var display = window.getComputedStyle(gd).display;\n",
       "        if (!display || display === 'none') {{\n",
       "            console.log([gd, 'removed!']);\n",
       "            Plotly.purge(gd);\n",
       "            observer.disconnect();\n",
       "        }}\n",
       "}});\n",
       "\n",
       "// Listen for the removal of the full notebook cells\n",
       "var notebookContainer = gd.closest('#notebook-container');\n",
       "if (notebookContainer) {{\n",
       "    x.observe(notebookContainer, {childList: true});\n",
       "}}\n",
       "\n",
       "// Listen for the clearing of the current output cell\n",
       "var outputEl = gd.closest('.output');\n",
       "if (outputEl) {{\n",
       "    x.observe(outputEl, {childList: true});\n",
       "}}\n",
       "\n",
       "                        })                };                });            </script>        </div>"
      ]
     },
     "metadata": {},
     "output_type": "display_data"
    }
   ],
   "source": [
    "# Count the unique instances of Class column\n",
    "filtered_df_grouped = filter_dataframe(filtered_df_grouped,json2)\n",
    "class_counts = filtered_df_grouped['Class'].value_counts()\n",
    "\n",
    "# Save the counts to a CSV file\n",
    "class_counts.to_csv('class_counts.csv')\n",
    "\n",
    "# Convert Series to DataFrame for Plotly\n",
    "df_class_counts = class_counts.reset_index()\n",
    "df_class_counts.columns = ['Class', 'Count']\n",
    "\n",
    "# Create a pie chart\n",
    "fig = px.pie(df_class_counts, values='Count', names='Class', color='Class', \n",
    "             color_discrete_map=lipid_class_colors_alpha)\n",
    "fig.update_layout(title_text='Count of Lipids')\n",
    "pio.write_html(fig, \"Relative_Count of Lipids.html\")\n",
    "fig.show()"
   ]
  },
  {
   "cell_type": "code",
   "execution_count": 34,
   "metadata": {},
   "outputs": [],
   "source": []
  },
  {
   "cell_type": "code",
   "execution_count": 32,
   "metadata": {},
   "outputs": [],
   "source": [
    "lipid_classes = [\"AC\", \"CE\", \"CER\", \"FFA\", \"PC\", \"PE\", \"PG\", \"PI\", \"PS\", \"SM\", \"TAG\",'DAG','TAG | DAG','DAG | CE','TAG | DAG | CE']\n",
    "lipid_colors = [\"#a6cee3\", \"#1f78b4\", \"#b2df8a\", \"#33a02c\", \"#fb9a99\", \"#e31a1c\", \"#fdbf6f\", \"#ff7f00\", \"#808080\", \"#cab2d6\", \"#6a3d9a\",'#8dd3c7', '#ffffb3', '#bebada', '#fb8072', '#80b1d3']\n",
    "\n",
    "lipid_class_colors = dict(zip([lipid.upper() for lipid in lipid_classes], lipid_colors))\n",
    "\n",
    "\n",
    "# Update colors with 0.5 alpha\n",
    "alpha = 0.5\n",
    "transparent_colors = [hex_to_rgba_hex(color, alpha) for color in lipid_colors]\n",
    "lipid_class_colors_alpha = dict(zip([lipid.upper() for lipid in lipid_classes], transparent_colors))\n",
    "    "
   ]
  },
  {
   "cell_type": "code",
   "execution_count": 36,
   "metadata": {},
   "outputs": [
    {
     "data": {
      "application/vnd.plotly.v1+json": {
       "config": {
        "plotlyServerURL": "https://plot.ly"
       },
       "data": [
        {
         "customdata": [
          [
           "TAG"
          ],
          [
           "PE"
          ],
          [
           "PG"
          ],
          [
           "PS"
          ],
          [
           "PI"
          ],
          [
           "PC"
          ],
          [
           "CER"
          ],
          [
           "CE"
          ],
          [
           "FFA"
          ],
          [
           "AC"
          ],
          [
           "SM"
          ]
         ],
         "domain": {
          "x": [
           0,
           1
          ],
          "y": [
           0,
           1
          ]
         },
         "hovertemplate": "type=%{customdata[0]}<br>Count=%{value}<extra></extra>",
         "labels": [
          "TAG",
          "PE",
          "PG",
          "PS",
          "PI",
          "PC",
          "CER",
          "CE",
          "FFA",
          "AC",
          "SM"
         ],
         "legendgroup": "",
         "marker": {
          "colors": [
           "#6a3d9a80",
           "#e31a1c80",
           "#fdbf6f80",
           "#80808080",
           "#ff7f0080",
           "#fb9a9980",
           "#b2df8a80",
           "#1f78b480",
           "#33a02c80",
           "#a6cee380",
           "#cab2d680"
          ]
         },
         "name": "",
         "showlegend": true,
         "type": "pie",
         "values": [
          383,
          185,
          178,
          177,
          177,
          167,
          80,
          56,
          36,
          32,
          30
         ]
        }
       ],
       "layout": {
        "legend": {
         "tracegroupgap": 0
        },
        "margin": {
         "t": 60
        },
        "template": {
         "data": {
          "bar": [
           {
            "error_x": {
             "color": "#2a3f5f"
            },
            "error_y": {
             "color": "#2a3f5f"
            },
            "marker": {
             "line": {
              "color": "#E5ECF6",
              "width": 0.5
             }
            },
            "type": "bar"
           }
          ],
          "barpolar": [
           {
            "marker": {
             "line": {
              "color": "#E5ECF6",
              "width": 0.5
             }
            },
            "type": "barpolar"
           }
          ],
          "carpet": [
           {
            "aaxis": {
             "endlinecolor": "#2a3f5f",
             "gridcolor": "white",
             "linecolor": "white",
             "minorgridcolor": "white",
             "startlinecolor": "#2a3f5f"
            },
            "baxis": {
             "endlinecolor": "#2a3f5f",
             "gridcolor": "white",
             "linecolor": "white",
             "minorgridcolor": "white",
             "startlinecolor": "#2a3f5f"
            },
            "type": "carpet"
           }
          ],
          "choropleth": [
           {
            "colorbar": {
             "outlinewidth": 0,
             "ticks": ""
            },
            "type": "choropleth"
           }
          ],
          "contour": [
           {
            "colorbar": {
             "outlinewidth": 0,
             "ticks": ""
            },
            "colorscale": [
             [
              0,
              "#0d0887"
             ],
             [
              0.1111111111111111,
              "#46039f"
             ],
             [
              0.2222222222222222,
              "#7201a8"
             ],
             [
              0.3333333333333333,
              "#9c179e"
             ],
             [
              0.4444444444444444,
              "#bd3786"
             ],
             [
              0.5555555555555556,
              "#d8576b"
             ],
             [
              0.6666666666666666,
              "#ed7953"
             ],
             [
              0.7777777777777778,
              "#fb9f3a"
             ],
             [
              0.8888888888888888,
              "#fdca26"
             ],
             [
              1,
              "#f0f921"
             ]
            ],
            "type": "contour"
           }
          ],
          "contourcarpet": [
           {
            "colorbar": {
             "outlinewidth": 0,
             "ticks": ""
            },
            "type": "contourcarpet"
           }
          ],
          "heatmap": [
           {
            "colorbar": {
             "outlinewidth": 0,
             "ticks": ""
            },
            "colorscale": [
             [
              0,
              "#0d0887"
             ],
             [
              0.1111111111111111,
              "#46039f"
             ],
             [
              0.2222222222222222,
              "#7201a8"
             ],
             [
              0.3333333333333333,
              "#9c179e"
             ],
             [
              0.4444444444444444,
              "#bd3786"
             ],
             [
              0.5555555555555556,
              "#d8576b"
             ],
             [
              0.6666666666666666,
              "#ed7953"
             ],
             [
              0.7777777777777778,
              "#fb9f3a"
             ],
             [
              0.8888888888888888,
              "#fdca26"
             ],
             [
              1,
              "#f0f921"
             ]
            ],
            "type": "heatmap"
           }
          ],
          "heatmapgl": [
           {
            "colorbar": {
             "outlinewidth": 0,
             "ticks": ""
            },
            "colorscale": [
             [
              0,
              "#0d0887"
             ],
             [
              0.1111111111111111,
              "#46039f"
             ],
             [
              0.2222222222222222,
              "#7201a8"
             ],
             [
              0.3333333333333333,
              "#9c179e"
             ],
             [
              0.4444444444444444,
              "#bd3786"
             ],
             [
              0.5555555555555556,
              "#d8576b"
             ],
             [
              0.6666666666666666,
              "#ed7953"
             ],
             [
              0.7777777777777778,
              "#fb9f3a"
             ],
             [
              0.8888888888888888,
              "#fdca26"
             ],
             [
              1,
              "#f0f921"
             ]
            ],
            "type": "heatmapgl"
           }
          ],
          "histogram": [
           {
            "marker": {
             "colorbar": {
              "outlinewidth": 0,
              "ticks": ""
             }
            },
            "type": "histogram"
           }
          ],
          "histogram2d": [
           {
            "colorbar": {
             "outlinewidth": 0,
             "ticks": ""
            },
            "colorscale": [
             [
              0,
              "#0d0887"
             ],
             [
              0.1111111111111111,
              "#46039f"
             ],
             [
              0.2222222222222222,
              "#7201a8"
             ],
             [
              0.3333333333333333,
              "#9c179e"
             ],
             [
              0.4444444444444444,
              "#bd3786"
             ],
             [
              0.5555555555555556,
              "#d8576b"
             ],
             [
              0.6666666666666666,
              "#ed7953"
             ],
             [
              0.7777777777777778,
              "#fb9f3a"
             ],
             [
              0.8888888888888888,
              "#fdca26"
             ],
             [
              1,
              "#f0f921"
             ]
            ],
            "type": "histogram2d"
           }
          ],
          "histogram2dcontour": [
           {
            "colorbar": {
             "outlinewidth": 0,
             "ticks": ""
            },
            "colorscale": [
             [
              0,
              "#0d0887"
             ],
             [
              0.1111111111111111,
              "#46039f"
             ],
             [
              0.2222222222222222,
              "#7201a8"
             ],
             [
              0.3333333333333333,
              "#9c179e"
             ],
             [
              0.4444444444444444,
              "#bd3786"
             ],
             [
              0.5555555555555556,
              "#d8576b"
             ],
             [
              0.6666666666666666,
              "#ed7953"
             ],
             [
              0.7777777777777778,
              "#fb9f3a"
             ],
             [
              0.8888888888888888,
              "#fdca26"
             ],
             [
              1,
              "#f0f921"
             ]
            ],
            "type": "histogram2dcontour"
           }
          ],
          "mesh3d": [
           {
            "colorbar": {
             "outlinewidth": 0,
             "ticks": ""
            },
            "type": "mesh3d"
           }
          ],
          "parcoords": [
           {
            "line": {
             "colorbar": {
              "outlinewidth": 0,
              "ticks": ""
             }
            },
            "type": "parcoords"
           }
          ],
          "pie": [
           {
            "automargin": true,
            "type": "pie"
           }
          ],
          "scatter": [
           {
            "marker": {
             "colorbar": {
              "outlinewidth": 0,
              "ticks": ""
             }
            },
            "type": "scatter"
           }
          ],
          "scatter3d": [
           {
            "line": {
             "colorbar": {
              "outlinewidth": 0,
              "ticks": ""
             }
            },
            "marker": {
             "colorbar": {
              "outlinewidth": 0,
              "ticks": ""
             }
            },
            "type": "scatter3d"
           }
          ],
          "scattercarpet": [
           {
            "marker": {
             "colorbar": {
              "outlinewidth": 0,
              "ticks": ""
             }
            },
            "type": "scattercarpet"
           }
          ],
          "scattergeo": [
           {
            "marker": {
             "colorbar": {
              "outlinewidth": 0,
              "ticks": ""
             }
            },
            "type": "scattergeo"
           }
          ],
          "scattergl": [
           {
            "marker": {
             "colorbar": {
              "outlinewidth": 0,
              "ticks": ""
             }
            },
            "type": "scattergl"
           }
          ],
          "scattermapbox": [
           {
            "marker": {
             "colorbar": {
              "outlinewidth": 0,
              "ticks": ""
             }
            },
            "type": "scattermapbox"
           }
          ],
          "scatterpolar": [
           {
            "marker": {
             "colorbar": {
              "outlinewidth": 0,
              "ticks": ""
             }
            },
            "type": "scatterpolar"
           }
          ],
          "scatterpolargl": [
           {
            "marker": {
             "colorbar": {
              "outlinewidth": 0,
              "ticks": ""
             }
            },
            "type": "scatterpolargl"
           }
          ],
          "scatterternary": [
           {
            "marker": {
             "colorbar": {
              "outlinewidth": 0,
              "ticks": ""
             }
            },
            "type": "scatterternary"
           }
          ],
          "surface": [
           {
            "colorbar": {
             "outlinewidth": 0,
             "ticks": ""
            },
            "colorscale": [
             [
              0,
              "#0d0887"
             ],
             [
              0.1111111111111111,
              "#46039f"
             ],
             [
              0.2222222222222222,
              "#7201a8"
             ],
             [
              0.3333333333333333,
              "#9c179e"
             ],
             [
              0.4444444444444444,
              "#bd3786"
             ],
             [
              0.5555555555555556,
              "#d8576b"
             ],
             [
              0.6666666666666666,
              "#ed7953"
             ],
             [
              0.7777777777777778,
              "#fb9f3a"
             ],
             [
              0.8888888888888888,
              "#fdca26"
             ],
             [
              1,
              "#f0f921"
             ]
            ],
            "type": "surface"
           }
          ],
          "table": [
           {
            "cells": {
             "fill": {
              "color": "#EBF0F8"
             },
             "line": {
              "color": "white"
             }
            },
            "header": {
             "fill": {
              "color": "#C8D4E3"
             },
             "line": {
              "color": "white"
             }
            },
            "type": "table"
           }
          ]
         },
         "layout": {
          "annotationdefaults": {
           "arrowcolor": "#2a3f5f",
           "arrowhead": 0,
           "arrowwidth": 1
          },
          "coloraxis": {
           "colorbar": {
            "outlinewidth": 0,
            "ticks": ""
           }
          },
          "colorscale": {
           "diverging": [
            [
             0,
             "#8e0152"
            ],
            [
             0.1,
             "#c51b7d"
            ],
            [
             0.2,
             "#de77ae"
            ],
            [
             0.3,
             "#f1b6da"
            ],
            [
             0.4,
             "#fde0ef"
            ],
            [
             0.5,
             "#f7f7f7"
            ],
            [
             0.6,
             "#e6f5d0"
            ],
            [
             0.7,
             "#b8e186"
            ],
            [
             0.8,
             "#7fbc41"
            ],
            [
             0.9,
             "#4d9221"
            ],
            [
             1,
             "#276419"
            ]
           ],
           "sequential": [
            [
             0,
             "#0d0887"
            ],
            [
             0.1111111111111111,
             "#46039f"
            ],
            [
             0.2222222222222222,
             "#7201a8"
            ],
            [
             0.3333333333333333,
             "#9c179e"
            ],
            [
             0.4444444444444444,
             "#bd3786"
            ],
            [
             0.5555555555555556,
             "#d8576b"
            ],
            [
             0.6666666666666666,
             "#ed7953"
            ],
            [
             0.7777777777777778,
             "#fb9f3a"
            ],
            [
             0.8888888888888888,
             "#fdca26"
            ],
            [
             1,
             "#f0f921"
            ]
           ],
           "sequentialminus": [
            [
             0,
             "#0d0887"
            ],
            [
             0.1111111111111111,
             "#46039f"
            ],
            [
             0.2222222222222222,
             "#7201a8"
            ],
            [
             0.3333333333333333,
             "#9c179e"
            ],
            [
             0.4444444444444444,
             "#bd3786"
            ],
            [
             0.5555555555555556,
             "#d8576b"
            ],
            [
             0.6666666666666666,
             "#ed7953"
            ],
            [
             0.7777777777777778,
             "#fb9f3a"
            ],
            [
             0.8888888888888888,
             "#fdca26"
            ],
            [
             1,
             "#f0f921"
            ]
           ]
          },
          "colorway": [
           "#636efa",
           "#EF553B",
           "#00cc96",
           "#ab63fa",
           "#FFA15A",
           "#19d3f3",
           "#FF6692",
           "#B6E880",
           "#FF97FF",
           "#FECB52"
          ],
          "font": {
           "color": "#2a3f5f"
          },
          "geo": {
           "bgcolor": "white",
           "lakecolor": "white",
           "landcolor": "#E5ECF6",
           "showlakes": true,
           "showland": true,
           "subunitcolor": "white"
          },
          "hoverlabel": {
           "align": "left"
          },
          "hovermode": "closest",
          "mapbox": {
           "style": "light"
          },
          "paper_bgcolor": "white",
          "plot_bgcolor": "#E5ECF6",
          "polar": {
           "angularaxis": {
            "gridcolor": "white",
            "linecolor": "white",
            "ticks": ""
           },
           "bgcolor": "#E5ECF6",
           "radialaxis": {
            "gridcolor": "white",
            "linecolor": "white",
            "ticks": ""
           }
          },
          "scene": {
           "xaxis": {
            "backgroundcolor": "#E5ECF6",
            "gridcolor": "white",
            "gridwidth": 2,
            "linecolor": "white",
            "showbackground": true,
            "ticks": "",
            "zerolinecolor": "white"
           },
           "yaxis": {
            "backgroundcolor": "#E5ECF6",
            "gridcolor": "white",
            "gridwidth": 2,
            "linecolor": "white",
            "showbackground": true,
            "ticks": "",
            "zerolinecolor": "white"
           },
           "zaxis": {
            "backgroundcolor": "#E5ECF6",
            "gridcolor": "white",
            "gridwidth": 2,
            "linecolor": "white",
            "showbackground": true,
            "ticks": "",
            "zerolinecolor": "white"
           }
          },
          "shapedefaults": {
           "line": {
            "color": "#2a3f5f"
           }
          },
          "ternary": {
           "aaxis": {
            "gridcolor": "white",
            "linecolor": "white",
            "ticks": ""
           },
           "baxis": {
            "gridcolor": "white",
            "linecolor": "white",
            "ticks": ""
           },
           "bgcolor": "#E5ECF6",
           "caxis": {
            "gridcolor": "white",
            "linecolor": "white",
            "ticks": ""
           }
          },
          "title": {
           "x": 0.05
          },
          "xaxis": {
           "automargin": true,
           "gridcolor": "white",
           "linecolor": "white",
           "ticks": "",
           "title": {
            "standoff": 15
           },
           "zerolinecolor": "white",
           "zerolinewidth": 2
          },
          "yaxis": {
           "automargin": true,
           "gridcolor": "white",
           "linecolor": "white",
           "ticks": "",
           "title": {
            "standoff": 15
           },
           "zerolinecolor": "white",
           "zerolinewidth": 2
          }
         }
        },
        "title": {
         "text": "Count of Lipids Old"
        }
       }
      },
      "text/html": [
       "<div>                            <div id=\"f3301f84-9539-45e1-b6ec-f73718897fda\" class=\"plotly-graph-div\" style=\"height:525px; width:100%;\"></div>            <script type=\"text/javascript\">                require([\"plotly\"], function(Plotly) {                    window.PLOTLYENV=window.PLOTLYENV || {};                                    if (document.getElementById(\"f3301f84-9539-45e1-b6ec-f73718897fda\")) {                    Plotly.newPlot(                        \"f3301f84-9539-45e1-b6ec-f73718897fda\",                        [{\"customdata\": [[\"TAG\"], [\"PE\"], [\"PG\"], [\"PS\"], [\"PI\"], [\"PC\"], [\"CER\"], [\"CE\"], [\"FFA\"], [\"AC\"], [\"SM\"]], \"domain\": {\"x\": [0.0, 1.0], \"y\": [0.0, 1.0]}, \"hovertemplate\": \"type=%{customdata[0]}<br>Count=%{value}<extra></extra>\", \"labels\": [\"TAG\", \"PE\", \"PG\", \"PS\", \"PI\", \"PC\", \"CER\", \"CE\", \"FFA\", \"AC\", \"SM\"], \"legendgroup\": \"\", \"marker\": {\"colors\": [\"#6a3d9a80\", \"#e31a1c80\", \"#fdbf6f80\", \"#80808080\", \"#ff7f0080\", \"#fb9a9980\", \"#b2df8a80\", \"#1f78b480\", \"#33a02c80\", \"#a6cee380\", \"#cab2d680\"]}, \"name\": \"\", \"showlegend\": true, \"type\": \"pie\", \"values\": [383, 185, 178, 177, 177, 167, 80, 56, 36, 32, 30]}],                        {\"legend\": {\"tracegroupgap\": 0}, \"margin\": {\"t\": 60}, \"template\": {\"data\": {\"bar\": [{\"error_x\": {\"color\": \"#2a3f5f\"}, \"error_y\": {\"color\": \"#2a3f5f\"}, \"marker\": {\"line\": {\"color\": \"#E5ECF6\", \"width\": 0.5}}, \"type\": \"bar\"}], \"barpolar\": [{\"marker\": {\"line\": {\"color\": \"#E5ECF6\", \"width\": 0.5}}, \"type\": \"barpolar\"}], \"carpet\": [{\"aaxis\": {\"endlinecolor\": \"#2a3f5f\", \"gridcolor\": \"white\", \"linecolor\": \"white\", \"minorgridcolor\": \"white\", \"startlinecolor\": \"#2a3f5f\"}, \"baxis\": {\"endlinecolor\": \"#2a3f5f\", \"gridcolor\": \"white\", \"linecolor\": \"white\", \"minorgridcolor\": \"white\", \"startlinecolor\": \"#2a3f5f\"}, \"type\": \"carpet\"}], \"choropleth\": [{\"colorbar\": {\"outlinewidth\": 0, \"ticks\": \"\"}, \"type\": \"choropleth\"}], \"contour\": [{\"colorbar\": {\"outlinewidth\": 0, \"ticks\": \"\"}, \"colorscale\": [[0.0, \"#0d0887\"], [0.1111111111111111, \"#46039f\"], [0.2222222222222222, \"#7201a8\"], [0.3333333333333333, \"#9c179e\"], [0.4444444444444444, \"#bd3786\"], [0.5555555555555556, \"#d8576b\"], [0.6666666666666666, \"#ed7953\"], [0.7777777777777778, \"#fb9f3a\"], [0.8888888888888888, \"#fdca26\"], [1.0, \"#f0f921\"]], \"type\": \"contour\"}], \"contourcarpet\": [{\"colorbar\": {\"outlinewidth\": 0, \"ticks\": \"\"}, \"type\": \"contourcarpet\"}], \"heatmap\": [{\"colorbar\": {\"outlinewidth\": 0, \"ticks\": \"\"}, \"colorscale\": [[0.0, \"#0d0887\"], [0.1111111111111111, \"#46039f\"], [0.2222222222222222, \"#7201a8\"], [0.3333333333333333, \"#9c179e\"], [0.4444444444444444, \"#bd3786\"], [0.5555555555555556, \"#d8576b\"], [0.6666666666666666, \"#ed7953\"], [0.7777777777777778, \"#fb9f3a\"], [0.8888888888888888, \"#fdca26\"], [1.0, \"#f0f921\"]], \"type\": \"heatmap\"}], \"heatmapgl\": [{\"colorbar\": {\"outlinewidth\": 0, \"ticks\": \"\"}, \"colorscale\": [[0.0, \"#0d0887\"], [0.1111111111111111, \"#46039f\"], [0.2222222222222222, \"#7201a8\"], [0.3333333333333333, \"#9c179e\"], [0.4444444444444444, \"#bd3786\"], [0.5555555555555556, \"#d8576b\"], [0.6666666666666666, \"#ed7953\"], [0.7777777777777778, \"#fb9f3a\"], [0.8888888888888888, \"#fdca26\"], [1.0, \"#f0f921\"]], \"type\": \"heatmapgl\"}], \"histogram\": [{\"marker\": {\"colorbar\": {\"outlinewidth\": 0, \"ticks\": \"\"}}, \"type\": \"histogram\"}], \"histogram2d\": [{\"colorbar\": {\"outlinewidth\": 0, \"ticks\": \"\"}, \"colorscale\": [[0.0, \"#0d0887\"], [0.1111111111111111, \"#46039f\"], [0.2222222222222222, \"#7201a8\"], [0.3333333333333333, \"#9c179e\"], [0.4444444444444444, \"#bd3786\"], [0.5555555555555556, \"#d8576b\"], [0.6666666666666666, \"#ed7953\"], [0.7777777777777778, \"#fb9f3a\"], [0.8888888888888888, \"#fdca26\"], [1.0, \"#f0f921\"]], \"type\": \"histogram2d\"}], \"histogram2dcontour\": [{\"colorbar\": {\"outlinewidth\": 0, \"ticks\": \"\"}, \"colorscale\": [[0.0, \"#0d0887\"], [0.1111111111111111, \"#46039f\"], [0.2222222222222222, \"#7201a8\"], [0.3333333333333333, \"#9c179e\"], [0.4444444444444444, \"#bd3786\"], [0.5555555555555556, \"#d8576b\"], [0.6666666666666666, \"#ed7953\"], [0.7777777777777778, \"#fb9f3a\"], [0.8888888888888888, \"#fdca26\"], [1.0, \"#f0f921\"]], \"type\": \"histogram2dcontour\"}], \"mesh3d\": [{\"colorbar\": {\"outlinewidth\": 0, \"ticks\": \"\"}, \"type\": \"mesh3d\"}], \"parcoords\": [{\"line\": {\"colorbar\": {\"outlinewidth\": 0, \"ticks\": \"\"}}, \"type\": \"parcoords\"}], \"pie\": [{\"automargin\": true, \"type\": \"pie\"}], \"scatter\": [{\"marker\": {\"colorbar\": {\"outlinewidth\": 0, \"ticks\": \"\"}}, \"type\": \"scatter\"}], \"scatter3d\": [{\"line\": {\"colorbar\": {\"outlinewidth\": 0, \"ticks\": \"\"}}, \"marker\": {\"colorbar\": {\"outlinewidth\": 0, \"ticks\": \"\"}}, \"type\": \"scatter3d\"}], \"scattercarpet\": [{\"marker\": {\"colorbar\": {\"outlinewidth\": 0, \"ticks\": \"\"}}, \"type\": \"scattercarpet\"}], \"scattergeo\": [{\"marker\": {\"colorbar\": {\"outlinewidth\": 0, \"ticks\": \"\"}}, \"type\": \"scattergeo\"}], \"scattergl\": [{\"marker\": {\"colorbar\": {\"outlinewidth\": 0, \"ticks\": \"\"}}, \"type\": \"scattergl\"}], \"scattermapbox\": [{\"marker\": {\"colorbar\": {\"outlinewidth\": 0, \"ticks\": \"\"}}, \"type\": \"scattermapbox\"}], \"scatterpolar\": [{\"marker\": {\"colorbar\": {\"outlinewidth\": 0, \"ticks\": \"\"}}, \"type\": \"scatterpolar\"}], \"scatterpolargl\": [{\"marker\": {\"colorbar\": {\"outlinewidth\": 0, \"ticks\": \"\"}}, \"type\": \"scatterpolargl\"}], \"scatterternary\": [{\"marker\": {\"colorbar\": {\"outlinewidth\": 0, \"ticks\": \"\"}}, \"type\": \"scatterternary\"}], \"surface\": [{\"colorbar\": {\"outlinewidth\": 0, \"ticks\": \"\"}, \"colorscale\": [[0.0, \"#0d0887\"], [0.1111111111111111, \"#46039f\"], [0.2222222222222222, \"#7201a8\"], [0.3333333333333333, \"#9c179e\"], [0.4444444444444444, \"#bd3786\"], [0.5555555555555556, \"#d8576b\"], [0.6666666666666666, \"#ed7953\"], [0.7777777777777778, \"#fb9f3a\"], [0.8888888888888888, \"#fdca26\"], [1.0, \"#f0f921\"]], \"type\": \"surface\"}], \"table\": [{\"cells\": {\"fill\": {\"color\": \"#EBF0F8\"}, \"line\": {\"color\": \"white\"}}, \"header\": {\"fill\": {\"color\": \"#C8D4E3\"}, \"line\": {\"color\": \"white\"}}, \"type\": \"table\"}]}, \"layout\": {\"annotationdefaults\": {\"arrowcolor\": \"#2a3f5f\", \"arrowhead\": 0, \"arrowwidth\": 1}, \"coloraxis\": {\"colorbar\": {\"outlinewidth\": 0, \"ticks\": \"\"}}, \"colorscale\": {\"diverging\": [[0, \"#8e0152\"], [0.1, \"#c51b7d\"], [0.2, \"#de77ae\"], [0.3, \"#f1b6da\"], [0.4, \"#fde0ef\"], [0.5, \"#f7f7f7\"], [0.6, \"#e6f5d0\"], [0.7, \"#b8e186\"], [0.8, \"#7fbc41\"], [0.9, \"#4d9221\"], [1, \"#276419\"]], \"sequential\": [[0.0, \"#0d0887\"], [0.1111111111111111, \"#46039f\"], [0.2222222222222222, \"#7201a8\"], [0.3333333333333333, \"#9c179e\"], [0.4444444444444444, \"#bd3786\"], [0.5555555555555556, \"#d8576b\"], [0.6666666666666666, \"#ed7953\"], [0.7777777777777778, \"#fb9f3a\"], [0.8888888888888888, \"#fdca26\"], [1.0, \"#f0f921\"]], \"sequentialminus\": [[0.0, \"#0d0887\"], [0.1111111111111111, \"#46039f\"], [0.2222222222222222, \"#7201a8\"], [0.3333333333333333, \"#9c179e\"], [0.4444444444444444, \"#bd3786\"], [0.5555555555555556, \"#d8576b\"], [0.6666666666666666, \"#ed7953\"], [0.7777777777777778, \"#fb9f3a\"], [0.8888888888888888, \"#fdca26\"], [1.0, \"#f0f921\"]]}, \"colorway\": [\"#636efa\", \"#EF553B\", \"#00cc96\", \"#ab63fa\", \"#FFA15A\", \"#19d3f3\", \"#FF6692\", \"#B6E880\", \"#FF97FF\", \"#FECB52\"], \"font\": {\"color\": \"#2a3f5f\"}, \"geo\": {\"bgcolor\": \"white\", \"lakecolor\": \"white\", \"landcolor\": \"#E5ECF6\", \"showlakes\": true, \"showland\": true, \"subunitcolor\": \"white\"}, \"hoverlabel\": {\"align\": \"left\"}, \"hovermode\": \"closest\", \"mapbox\": {\"style\": \"light\"}, \"paper_bgcolor\": \"white\", \"plot_bgcolor\": \"#E5ECF6\", \"polar\": {\"angularaxis\": {\"gridcolor\": \"white\", \"linecolor\": \"white\", \"ticks\": \"\"}, \"bgcolor\": \"#E5ECF6\", \"radialaxis\": {\"gridcolor\": \"white\", \"linecolor\": \"white\", \"ticks\": \"\"}}, \"scene\": {\"xaxis\": {\"backgroundcolor\": \"#E5ECF6\", \"gridcolor\": \"white\", \"gridwidth\": 2, \"linecolor\": \"white\", \"showbackground\": true, \"ticks\": \"\", \"zerolinecolor\": \"white\"}, \"yaxis\": {\"backgroundcolor\": \"#E5ECF6\", \"gridcolor\": \"white\", \"gridwidth\": 2, \"linecolor\": \"white\", \"showbackground\": true, \"ticks\": \"\", \"zerolinecolor\": \"white\"}, \"zaxis\": {\"backgroundcolor\": \"#E5ECF6\", \"gridcolor\": \"white\", \"gridwidth\": 2, \"linecolor\": \"white\", \"showbackground\": true, \"ticks\": \"\", \"zerolinecolor\": \"white\"}}, \"shapedefaults\": {\"line\": {\"color\": \"#2a3f5f\"}}, \"ternary\": {\"aaxis\": {\"gridcolor\": \"white\", \"linecolor\": \"white\", \"ticks\": \"\"}, \"baxis\": {\"gridcolor\": \"white\", \"linecolor\": \"white\", \"ticks\": \"\"}, \"bgcolor\": \"#E5ECF6\", \"caxis\": {\"gridcolor\": \"white\", \"linecolor\": \"white\", \"ticks\": \"\"}}, \"title\": {\"x\": 0.05}, \"xaxis\": {\"automargin\": true, \"gridcolor\": \"white\", \"linecolor\": \"white\", \"ticks\": \"\", \"title\": {\"standoff\": 15}, \"zerolinecolor\": \"white\", \"zerolinewidth\": 2}, \"yaxis\": {\"automargin\": true, \"gridcolor\": \"white\", \"linecolor\": \"white\", \"ticks\": \"\", \"title\": {\"standoff\": 15}, \"zerolinecolor\": \"white\", \"zerolinewidth\": 2}}}, \"title\": {\"text\": \"Count of Lipids Old\"}},                        {\"responsive\": true}                    ).then(function(){\n",
       "                            \n",
       "var gd = document.getElementById('f3301f84-9539-45e1-b6ec-f73718897fda');\n",
       "var x = new MutationObserver(function (mutations, observer) {{\n",
       "        var display = window.getComputedStyle(gd).display;\n",
       "        if (!display || display === 'none') {{\n",
       "            console.log([gd, 'removed!']);\n",
       "            Plotly.purge(gd);\n",
       "            observer.disconnect();\n",
       "        }}\n",
       "}});\n",
       "\n",
       "// Listen for the removal of the full notebook cells\n",
       "var notebookContainer = gd.closest('#notebook-container');\n",
       "if (notebookContainer) {{\n",
       "    x.observe(notebookContainer, {childList: true});\n",
       "}}\n",
       "\n",
       "// Listen for the clearing of the current output cell\n",
       "var outputEl = gd.closest('.output');\n",
       "if (outputEl) {{\n",
       "    x.observe(outputEl, {childList: true});\n",
       "}}\n",
       "\n",
       "                        })                };                });            </script>        </div>"
      ]
     },
     "metadata": {},
     "output_type": "display_data"
    }
   ],
   "source": [
    "class_counts = df_new['type'].value_counts()\n",
    "\n",
    "# Save the counts to a CSV file\n",
    "class_counts.to_csv('class_counts_old.csv')\n",
    "\n",
    "# Convert Series to DataFrame for Plotly\n",
    "df_class_counts = class_counts.reset_index()\n",
    "df_class_counts.columns = ['type', 'Count']\n",
    "\n",
    "# Create a pie chart\n",
    "fig = px.pie(df_class_counts, values='Count', names='type', color='type', \n",
    "             color_discrete_map=lipid_class_colors_alpha)\n",
    "fig.update_layout(title_text='Count of Lipids Old')\n",
    "pio.write_html(fig, \"Relative_Count of Lipids Old.html\")\n",
    "fig.show()"
   ]
  },
  {
   "cell_type": "code",
   "execution_count": 18,
   "metadata": {},
   "outputs": [],
   "source": [
    "filtered_df_grouped.to_csv(\"Counting stuff.csv\",index=False)"
   ]
  },
  {
   "cell_type": "code",
   "execution_count": 17,
   "metadata": {},
   "outputs": [
    {
     "data": {
      "text/plain": [
       "71"
      ]
     },
     "execution_count": 17,
     "metadata": {},
     "output_type": "execute_result"
    }
   ],
   "source": [
    "3232-3161"
   ]
  },
  {
   "cell_type": "code",
   "execution_count": 11,
   "metadata": {},
   "outputs": [],
   "source": [
    "make_pie_chart_no_replicates(merged_df,plots_2_save_path,json_list_singles,labels_list)"
   ]
  },
  {
   "cell_type": "code",
   "execution_count": 12,
   "metadata": {},
   "outputs": [],
   "source": [
    "average_pie_chart_no_repeats(merged_df,plots_2_save_path,json_list_singles,labels_list)"
   ]
  },
  {
   "cell_type": "code",
   "execution_count": 25,
   "metadata": {},
   "outputs": [
    {
     "name": "stderr",
     "output_type": "stream",
     "text": [
      "/tmp/ipykernel_44623/2628930886.py:335: SettingWithCopyWarning:\n",
      "\n",
      "\n",
      "A value is trying to be set on a copy of a slice from a DataFrame.\n",
      "Try using .loc[row_indexer,col_indexer] = value instead\n",
      "\n",
      "See the caveats in the documentation: https://pandas.pydata.org/pandas-docs/stable/user_guide/indexing.html#returning-a-view-versus-a-copy\n",
      "\n",
      "/tmp/ipykernel_44623/2628930886.py:336: SettingWithCopyWarning:\n",
      "\n",
      "\n",
      "A value is trying to be set on a copy of a slice from a DataFrame.\n",
      "Try using .loc[row_indexer,col_indexer] = value instead\n",
      "\n",
      "See the caveats in the documentation: https://pandas.pydata.org/pandas-docs/stable/user_guide/indexing.html#returning-a-view-versus-a-copy\n",
      "\n"
     ]
    }
   ],
   "source": [
    "make_bar_plot_comparisons(merged_df, plots_2_save_path, json_list_pairs,labels_list)"
   ]
  },
  {
   "cell_type": "code",
   "execution_count": 26,
   "metadata": {},
   "outputs": [],
   "source": [
    "\n",
    "def prep_edge_R(merged_df,json_list_pairs,Pre_edge_r_path,blank_name,labels_list):\n",
    "    for i in range(len(json_list_pairs)):\n",
    "        json1 = json_list_pairs[i][0]\n",
    "        json2 = json_list_pairs[i][1]\n",
    "\n",
    "        json_blank = {\"Sample Name\":[blank_name]}\n",
    "\n",
    "        filtered_df1 = filter_dataframe(merged_df,json1)\n",
    "        filtered_df2 = filter_dataframe(merged_df,json2)\n",
    "        filtered_blank = filter_dataframe(merged_df,json_blank)\n",
    "\n",
    "\n",
    "\n",
    "        filtered_df1 = filtered_df1.groupby(labels_list)['Intensity'].mean().reset_index()\n",
    "        filtered_df2 = filtered_df2.groupby(labels_list)['Intensity'].mean().reset_index()\n",
    "        filtered_blank = filtered_blank.groupby(labels_list)['Intensity'].mean().reset_index()\n",
    "\n",
    "\n",
    "\n",
    "        reformatted_df1 = filtered_df1.pivot(index=['Lipid', 'Class'], columns='Sample Name', values='Intensity').reset_index()\n",
    "        reformatted_df2 = filtered_df2.pivot(index=['Lipid', 'Class'], columns='Sample Name', values='Intensity').reset_index()\n",
    "        reformatted_blank = filtered_blank.pivot(index=['Lipid', 'Class'], columns='Sample Name', values='Intensity').reset_index()\n",
    "\n",
    "        num_value_columns_df1 = reformatted_df1.shape[1] - 2  # subtract 2 for 'Lipid' and 'Class'\n",
    "        num_value_columns_df2 = reformatted_df2.shape[1] - 2  # subtract 2 for 'Lipid' and 'Class'\n",
    "\n",
    "\n",
    "\n",
    "        combined_df = reformatted_df1.merge(reformatted_df2, on=['Lipid', 'Class'], how='inner')\n",
    "\n",
    "        combined_df = combined_df.merge(reformatted_blank, on=['Lipid', 'Class'], how='inner')\n",
    "\n",
    "\n",
    "\n",
    "\n",
    "        ##Aquiring Names ##Add an extra string option\n",
    "\n",
    "        title1 = json_to_string(json1)\n",
    "        title2 = json_to_string(json2)\n",
    "\n",
    "        title = title1 +\" vs \"+title2\n",
    "        title = title.replace(\" | \",\"__\")\n",
    "        length1 = num_value_columns_df1\n",
    "        length2 = num_value_columns_df2\n",
    "\n",
    "        combined_df[\"Title1\"] = title1\n",
    "        combined_df[\"Title2\"] = title2\n",
    "        combined_df[\"Title\"] = title\n",
    "        combined_df[\"length1\"] = length1\n",
    "        combined_df[\"length2\"] = length2\n",
    "        combined_df[\"Blank_name\"] = blank_name\n",
    "\n",
    "\n",
    "\n",
    "\n",
    "        combined_df.to_csv(Pre_edge_r_path+title+\".csv\",index=False)\n",
    "    return combined_df\n",
    "\n"
   ]
  },
  {
   "cell_type": "code",
   "execution_count": null,
   "metadata": {},
   "outputs": [],
   "source": []
  },
  {
   "cell_type": "code",
   "execution_count": 27,
   "metadata": {},
   "outputs": [],
   "source": [
    "combined_df = prep_edge_R(merged_df,json_list_pairs,Pre_edge_r_path,blank_name,labels_list)"
   ]
  },
  {
   "cell_type": "code",
   "execution_count": null,
   "metadata": {},
   "outputs": [],
   "source": []
  },
  {
   "cell_type": "code",
   "execution_count": null,
   "metadata": {},
   "outputs": [],
   "source": []
  },
  {
   "cell_type": "code",
   "execution_count": null,
   "metadata": {},
   "outputs": [],
   "source": [
    "###Adding Subclasses"
   ]
  },
  {
   "cell_type": "code",
   "execution_count": 29,
   "metadata": {},
   "outputs": [],
   "source": [
    "list_of_lipids = list(merged_df[\"Lipid\"])"
   ]
  },
  {
   "cell_type": "code",
   "execution_count": 30,
   "metadata": {},
   "outputs": [
    {
     "data": {
      "text/plain": [
       "['CAR_QUAL',\n",
       " 'CAR',\n",
       " 'CAR(2:0)_QUAL',\n",
       " 'CAR(2:0)',\n",
       " 'CAR(3:1)_QUAL',\n",
       " 'CAR(3:1)',\n",
       " 'CAR(3:0)_QUAL',\n",
       " 'CAR(3:0)',\n",
       " 'CAR(4:1)_QUAL',\n",
       " 'CAR(4:1)',\n",
       " 'CAR(4:0)_QUAL',\n",
       " 'CAR(4:0)',\n",
       " 'CAR(5:1)_QUAL',\n",
       " 'CAR(5:1)',\n",
       " 'CAR(5:0)_QUAL',\n",
       " 'CAR(5:0)',\n",
       " 'CAR(6:1)_QUAL',\n",
       " 'CAR(6:1)',\n",
       " 'CAR(6:0)_QUAL',\n",
       " 'CAR(6:0)',\n",
       " 'CAR(7:0)_QUAL',\n",
       " 'CAR(7:0)',\n",
       " 'CAR(8:1)_QUAL',\n",
       " 'CAR(8:1)',\n",
       " 'CAR(8:0)_QUAL',\n",
       " 'CAR(8:0)',\n",
       " 'CAR(9:0)_QUAL',\n",
       " 'CAR(9:0)',\n",
       " 'CAR(10:3)_QUAL',\n",
       " 'CAR(10:3)',\n",
       " 'CAR(10:2)_QUAL',\n",
       " 'CAR(10:2)',\n",
       " 'CAR(10:1)_QUAL',\n",
       " 'CAR(10:1)',\n",
       " 'CAR(10:0)_QUAL',\n",
       " 'CAR(10:0)',\n",
       " 'CAR(11:0)_QUAL',\n",
       " 'CAR(11:0)',\n",
       " 'CAR(12:0)_QUAL',\n",
       " 'CAR(12:0)',\n",
       " 'CAR(14:2)_QUAL',\n",
       " 'CAR(14:2)',\n",
       " 'CAR(14:1)_QUAL',\n",
       " 'CAR(14:1)',\n",
       " 'CAR(14:0)_QUAL',\n",
       " 'CAR(14:0)',\n",
       " 'CAR(16:2)_QUAL',\n",
       " 'CAR(16:2)',\n",
       " 'CAR(16:1)_QUAL',\n",
       " 'CAR(16:1)',\n",
       " 'CAR(16:0)_QUAL',\n",
       " 'CAR(16:0)',\n",
       " 'CAR(17:0)_QUAL',\n",
       " 'CAR(17:0)',\n",
       " 'CAR(18:4)_QUAL',\n",
       " 'CAR(18:4)',\n",
       " 'CAR(18:3)_QUAL',\n",
       " 'CAR(18:3)',\n",
       " 'CAR(18:2)_QUAL',\n",
       " 'CAR(18:2)',\n",
       " 'CAR(18:1)_QUAL',\n",
       " 'CAR(18:1)',\n",
       " 'CAR(18:0)_QUAL',\n",
       " 'CAR(18:0)',\n",
       " 'CAR(20:4)_QUAL',\n",
       " 'CAR(20:4)',\n",
       " 'CAR(20:2)_QUAL',\n",
       " 'CAR(20:2)',\n",
       " 'CAR(20:1)_QUAL',\n",
       " 'CAR(20:1)',\n",
       " 'CAR(20:0)_QUAL',\n",
       " 'CAR(20:0)',\n",
       " 'CAR(22:6)_QUAL',\n",
       " 'CAR(22:6)',\n",
       " 'CAR(22:5)_QUAL',\n",
       " 'CAR(22:5)',\n",
       " 'CAR(22:4)_QUAL',\n",
       " 'CAR(22:4)',\n",
       " 'CAR(22:2)_QUAL',\n",
       " 'CAR(22:2)',\n",
       " 'CAR(22:0)_QUAL',\n",
       " 'CAR(22:0)',\n",
       " 'CAR(26:0)_QUAL',\n",
       " 'CAR(26:0)',\n",
       " 'Cer(d18:1/2:0)',\n",
       " 'CerP(d18:1/2:0)',\n",
       " 'Cer(d12:0/14:0)',\n",
       " 'Cer(d14:2(4E,6E)/16:0)',\n",
       " 'Cer(d18:1/12:0)',\n",
       " 'Cer(d15:1/16:0)',\n",
       " 'Cer(d18:0/13:0)',\n",
       " 'CerP(d18:1/8:0)',\n",
       " 'Cer(d14:2(4E,6E)/18:1(9Z))',\n",
       " 'Cer(d18:2/14:0)',\n",
       " 'Cer(d18:1/14:0)',\n",
       " 'Cer(d18:0/14:0)',\n",
       " 'Cer(d18:2/15:0)',\n",
       " 'Cer(d16:1/17:0)',\n",
       " 'Cer(d18:0/15:0)',\n",
       " 'Cer(d14:2(4E,6E)/20:1(11Z))',\n",
       " 'Cer(d18:2/16:0)',\n",
       " 'Cer(d18:1/16:0)',\n",
       " 'Cer(d18:0/16:0)',\n",
       " 'Cer(d15:2(4E,6E)/20:0)',\n",
       " 'Cer(d18:1/17:0)',\n",
       " 'Cer(d18:0/17:0)',\n",
       " 'CerP(d18:1/12:0)',\n",
       " 'Cer(d18:2/18:1)',\n",
       " 'Cer(d18:1/18:1(9Z))',\n",
       " 'Cer(d18:1/18:0)',\n",
       " 'Cer(d18:0/18:0)',\n",
       " 'Cer(d18:0/h17:0)',\n",
       " 'Cer(d15:2(4E,6E)/22:0)',\n",
       " 'Cer(d18:1/19:0)',\n",
       " 'Cer(d18:0/19:0)',\n",
       " 'CerP(d18:1/14:0)',\n",
       " 'Cer(d18:2/20:1)',\n",
       " 'Cer(d18:2/20:0)',\n",
       " 'Cer(d18:1/20:0)',\n",
       " 'Cer(d18:0/20:0)',\n",
       " 'Cer(d18:2/21:0)',\n",
       " 'Cer(d16:1/23:0)',\n",
       " 'Cer(d18:0/21:0)',\n",
       " 'CerP(d18:1/16:0)',\n",
       " 'CerP(d18:0/16:0)',\n",
       " 'Cer(d18:2/22:0)',\n",
       " 'Cer(d18:1/22:0)',\n",
       " 'Cer(d18:0/22:0)',\n",
       " 'Cer(d18:2/23:0)',\n",
       " 'Cer(d18:1/23:0)',\n",
       " 'Cer(d18:0/23:0)',\n",
       " 'CerP(d18:1/18:0)',\n",
       " 'SM(d18:1/12:0)',\n",
       " 'Cer(d18:1/24:1(15Z))',\n",
       " 'SM(d16:0/14:0)',\n",
       " 'Cer(d18:1/24:0)',\n",
       " 'Cer(d18:0/24:0)',\n",
       " 'Cer(d18:2/25:0)',\n",
       " 'SM(d18:0/13:0)',\n",
       " 'Cer(d18:1/25:0)',\n",
       " 'Cer(d18:0/25:0)',\n",
       " 'Cer(d18:0/h24:0)',\n",
       " 'SM(d18:2/14:0)',\n",
       " 'CerP(d18:1/20:0)',\n",
       " 'SM(d16:1/16:0)',\n",
       " 'Cer(d18:1/26:1(17Z))',\n",
       " 'SM(d16:0/16:0)',\n",
       " 'Cer(d18:1/26:0)',\n",
       " 'Cer(d18:0/26:0)',\n",
       " 'SM(d18:2/15:0)',\n",
       " 'SM(d16:1/17:0)',\n",
       " 'Cer(d18:2/27:0)',\n",
       " 'SM(d18:0/15:0)',\n",
       " 'Cer(d18:1/27:0)',\n",
       " 'Cer(d18:0/27:0)',\n",
       " 'Cer(d18:0/h26:0)',\n",
       " 'SM(d16:1/18:1)',\n",
       " 'CerP(d18:1/22:0)',\n",
       " 'SM(d16:1/18:0)',\n",
       " 'Cer(d18:2/28:0)',\n",
       " 'SM(d16:0/18:0)',\n",
       " 'Cer(d18:1/28:0)',\n",
       " 'Cer(d20:0/26:0)',\n",
       " 'SM(d18:1/17:0)',\n",
       " 'Cer(d18:2/29:0)',\n",
       " 'SM(d18:0/17:0)',\n",
       " 'Cer(d18:1/29:0)',\n",
       " 'Cer(d18:0/29:0)',\n",
       " 'SM(d18:2/18:1)',\n",
       " 'CerP(d18:1/24:1(15Z))',\n",
       " 'SM(d16:1/20:1)',\n",
       " 'CerP(d18:1/24:0)',\n",
       " 'SM(d16:1/20:0)',\n",
       " 'Cer(d18:2/30:0)',\n",
       " 'SM(d16:0/20:0)',\n",
       " 'Cer(d18:1/30:0)',\n",
       " 'Cer(d18:0/30:0)',\n",
       " 'PC(33:5),PC(P-34:4)',\n",
       " 'SM(d18:1/19:0)',\n",
       " 'Cer(d18:1/31:0)',\n",
       " 'Cer(d18:0/31:0)',\n",
       " 'SM(d18:2/20:1)',\n",
       " 'CerP(d18:1/26:1(17Z))',\n",
       " 'SM(d16:1/22:1)',\n",
       " 'CerP(d18:1/26:0)',\n",
       " 'SM(d16:1/22:0)',\n",
       " 'Cer(d18:2/32:0)',\n",
       " 'SM(d16:0/22:0)',\n",
       " 'Cer(d18:1/32:0)',\n",
       " 'Cer(d18:0/32:0)',\n",
       " 'SM(d18:2/21:0)',\n",
       " 'SM(d16:1/23:0)',\n",
       " 'SM(d16:0/23:0)',\n",
       " 'Cer(d18:1/33:0)',\n",
       " 'SM(d18:2/22:1)',\n",
       " 'SM(d16:1/24:1)',\n",
       " 'SM(d16:1/24:0)',\n",
       " 'SM(d16:0/24:0)',\n",
       " 'Cer(d18:1/34:0)',\n",
       " 'SM(d17:1/24:1)',\n",
       " 'SM(d16:1/25:0)',\n",
       " 'SM(d16:0/25:0)',\n",
       " 'Cer(d18:1/35:0)',\n",
       " 'SM(d18:2/24:1)',\n",
       " 'SM(d18:1/24:1(15Z))',\n",
       " 'SM(d18:0/24:1)',\n",
       " 'SM(d18:0/24:0)',\n",
       " 'SM(d17:1/26:1)',\n",
       " 'SM(d18:1/25:0)',\n",
       " '1-O-eicosanoyl-Cer(d18:1/16:0)',\n",
       " 'SM(d18:1/26:1(17Z))',\n",
       " 'SM(d18:0/26:1(17Z))',\n",
       " 'SM(d17:0/27:0)',\n",
       " '1-O-behenoyl-Cer(d18:1/16:0)',\n",
       " '1-O-tricosanoyl-Cer(d18:1/16:0)',\n",
       " '1-O-lignoceroyl-Cer(d18:1/16:0)',\n",
       " '1-O-pentacosanoyl-Cer(d18:1/16:0)',\n",
       " '1-O-cerotoyl-Cer(d18:1/16:0)',\n",
       " '1-O-cerotoyl-Cer(d18:1/18:0)',\n",
       " 'omega-linoleoyloxy-Cer(d18:1/26:0)',\n",
       " 'omega-linoleoyloxy-Cer(d18:0/26:0)',\n",
       " 'omega-linoleoyloxy-Cer(d18:1/27:0)',\n",
       " '1-O-carboceroyl-Cer(d18:1/18:0)',\n",
       " 'omega-linoleoyloxy-Cer(d18:1/28:0)',\n",
       " 'omega-linoleoyloxy-Cer(d18:0/28:0)',\n",
       " 'omega-linoleoyloxy-Cer(d18:1/29:0)',\n",
       " 'omega-linoleoyloxy-Cer(d19:0/28:0)',\n",
       " '1-O-tricosanoyl-Cer(d18:1/18:0)',\n",
       " 'omega-linoleoyloxy-Cer(d18:2/30:0)',\n",
       " 'omega-linoleoyloxy-Cer(d18:1/30:0)',\n",
       " 'omega-linoleoyloxy-Cer(d18:0/30:0)',\n",
       " 'omega-linoleoyloxy-Cer(d18:2/31:0)',\n",
       " 'omega-linoleoyloxy-Cer(d18:1/31:0)',\n",
       " 'omega-linoleoyloxy-Cer(d18:0/31:0)',\n",
       " 'omega-linoleoyloxy-Cer(d18:2/32:0)',\n",
       " 'omega-linoleoyloxy-Cer(d18:1/32:0)',\n",
       " 'omega-linoleoyloxy-Cer(d18:0/32:0)',\n",
       " 'omega-linoleoyloxy-Cer(d18:1/33:0)',\n",
       " 'omega-linoleoyloxy-Cer(d18:0/33:0)',\n",
       " 'omega-linoleoyloxy-Cer(d18:2/34:0)',\n",
       " 'omega-linoleoyloxy-Cer(d18:1/34:0)',\n",
       " 'omega-linoleoyloxy-Cer(d18:0/34:0)',\n",
       " 'omega-linoleoyloxy-Cer(d19:1/34:0)',\n",
       " 'omega-linoleoyloxy-Cer(d19:0/34:0)',\n",
       " 'omega-linoleoyloxy-Cer(d20:1/34:0)',\n",
       " 'omega-linoleoyloxy-Cer(d21:0/33:0)',\n",
       " 'omega-linoleoyloxy-GlcCer(d18:1/30:0)',\n",
       " 'CE(12:0)',\n",
       " 'CE(14:1)',\n",
       " 'CE(14:0)',\n",
       " 'CE(15:1)',\n",
       " 'CE(15:0)',\n",
       " 'CE(16:3)',\n",
       " 'CE(16:2)',\n",
       " 'DG(O-38:8),DG(36:1)_C16:1 | CE(16:1)',\n",
       " 'DG(37:7),DG(36:0)_C16:0 | CE(16:0)',\n",
       " 'CE(17:1)',\n",
       " 'CE(17:0)',\n",
       " 'CE(18:3)',\n",
       " 'DG(O-40:9),DG(38:2)_C18:2 | CE(18:2)',\n",
       " 'DG(39:8),DG(O-40:8),DG(38:1)_C18:1 | CE(18:1)',\n",
       " '[TG(37:0)]_FA18:0 | DG(39:7),DG(38:0),DG(dO-40:0)_C18:0 | CE(18:0)',\n",
       " 'CE(19:0)',\n",
       " 'CE(20:5)',\n",
       " 'CE(20:4)',\n",
       " 'CE(20:3)',\n",
       " 'CE(20:2)',\n",
       " 'CE(20:1)',\n",
       " 'CE(20:0)',\n",
       " 'CE(22:6)',\n",
       " 'CE(22:5)',\n",
       " 'CE(22:4)',\n",
       " 'CE(22:3)',\n",
       " 'CE(22:2)',\n",
       " 'CE(22:1)',\n",
       " 'CE(22:0)',\n",
       " 'CE(24:1)',\n",
       " 'CE(46:3;O2)',\n",
       " 'CE(48:3;O2)',\n",
       " 'CE(50:3;O2)',\n",
       " 'CE(52:3;O2)',\n",
       " 'DG(24:0)_C16:0',\n",
       " 'DG(26:0)_C16:0',\n",
       " 'DG(28:2)_C16:0',\n",
       " 'DG(28:1)_C16:0',\n",
       " 'DG(28:0),DG(dO-30:0)_C16:0',\n",
       " 'DG(29:2)_C16:0',\n",
       " 'DG(29:1)_C16:0',\n",
       " 'DG(29:0)_C16:0',\n",
       " 'DG(30:3)_C16:0',\n",
       " 'DG(30:2)_C16:0',\n",
       " 'DG(30:1)_C16:0',\n",
       " 'DG(30:0)_C16:0',\n",
       " 'DG(31:3)_C16:0',\n",
       " 'DG(31:2),DG(P-14:0/18:1)_C16:0',\n",
       " 'DG(31:1)_C16:0',\n",
       " 'DG(31:0)_C16:0',\n",
       " 'DG(32:5)_C16:0',\n",
       " 'DG(32:4),DG(dO-34:4)_C16:0',\n",
       " 'DG(32:3)_C16:0',\n",
       " 'DG(32:2)_C16:0',\n",
       " 'DG(32:1)_C16:0',\n",
       " 'DG(32:0)_C16:0',\n",
       " 'DG(33:5)_C16:0',\n",
       " 'DG(33:4)_C16:0',\n",
       " 'DG(33:3)_C16:0',\n",
       " 'DG(33:2)_C16:0',\n",
       " 'DG(33:1),DG(O-34:1)_C16:0',\n",
       " 'DG(33:0)_C16:0',\n",
       " 'DG(34:6)_C16:0',\n",
       " 'DG(34:5)_C16:0',\n",
       " 'DG(34:4),DG(dO-36:4)_C16:0',\n",
       " 'DG(34:3)_C16:0',\n",
       " 'DG(34:2)_C16:0',\n",
       " 'DG(34:1)_C16:0',\n",
       " 'DG(34:0)_C16:0',\n",
       " 'DG(35:6)_C16:0',\n",
       " 'DG(35:5)_C16:0',\n",
       " 'DG(35:4),DG(O-36:4),DG(dO-37:4)_C16:0',\n",
       " 'DG(35:3)_C16:0',\n",
       " 'DG(dO-38:9),DG(35:2)_C16:0',\n",
       " 'DG(36:8),DG(35:1)_C16:0',\n",
       " 'DG(36:7),DG(35:0)_C16:0',\n",
       " 'DG(36:6)_C16:0',\n",
       " 'DG(36:5)_C16:0',\n",
       " 'DG(36:4),DG(O-37:4)_C16:0',\n",
       " 'DG(36:3)_C16:0',\n",
       " 'DG(O-38:9),DG(36:2)_C16:0',\n",
       " 'DG(O-38:8),DG(36:1)_C16:0',\n",
       " 'DG(37:7),DG(36:0)_C16:0 | CE(16:0)',\n",
       " 'DG(37:6)_C16:0',\n",
       " 'DG(37:5)_C16:0',\n",
       " 'DG(37:4)_C16:0',\n",
       " 'DG(37:3)_C16:0',\n",
       " 'DG(38:9),DG(dO-40:9),DG(37:2)_C16:0',\n",
       " 'DG(38:8),DG(dO-40:8),DG(37:1)_C16:0',\n",
       " 'DG(38:7),DG(37:0)_C16:0',\n",
       " 'DG(38:6),DG(dO-40:6)_C16:0',\n",
       " 'DG(38:5)_C16:0',\n",
       " 'DG(38:4)_C16:0',\n",
       " 'DG(38:3)_C16:0',\n",
       " 'DG(O-40:9),DG(38:2)_C16:0',\n",
       " 'DG(39:8),DG(O-40:8),DG(38:1)_C16:0',\n",
       " '[TG(37:0)]_FA16:0 | DG(39:7),DG(38:0),DG(dO-40:0)_C16:0',\n",
       " 'DG(39:6)_C16:0',\n",
       " 'DG(39:5)_C16:0',\n",
       " 'DG(39:4)_C16:0',\n",
       " 'DG(40:10),DG(39:3)_C16:0',\n",
       " 'DG(40:9),DG(39:2)_C16:0',\n",
       " '[TG(38:1)]_FA16:0 | DG(40:8),DG(39:1)_C16:0',\n",
       " '[TG(38:0)]_FA16:0 | DG(40:7),DG(39:0)_C16:0',\n",
       " 'DG(40:6),DG(dO-40:0)_C16:0',\n",
       " 'DG(40:5)_C16:0',\n",
       " 'DG(40:4)_C16:0',\n",
       " 'DG(40:3)_C16:0',\n",
       " 'DG(40:2)_C16:0',\n",
       " '[TG(39:1)]_FA16:0 | DG(40:1)_C16:0',\n",
       " '[TG(39:0)]_FA16:0 | DG(41:7),DG(40:0)_C16:0',\n",
       " 'DG(41:6)_C16:0',\n",
       " 'DG(41:5)_C16:0',\n",
       " 'DG(42:11),DG(41:4)_C16:0',\n",
       " 'DG(42:10),DG(41:3)_C16:0',\n",
       " '[TG(40:2)]_FA16:0 | DG(42:9),DG(41:2)_C16:0',\n",
       " '[TG(40:1)]_FA16:0 | DG(42:8),DG(41:1)_C16:0',\n",
       " '[TG(40:0)]_FA16:0 | DG(42:7),DG(41:0)_C16:0',\n",
       " 'DG(42:6)_C16:0',\n",
       " 'DG(42:5)_C16:0',\n",
       " 'DG(42:4)_C16:0',\n",
       " 'DG(42:3)_C16:0',\n",
       " '[TG(41:2)]_FA16:0 | DG(42:2)_C16:0',\n",
       " '[TG(41:1)]_FA16:0 | DG(42:1)_C16:0',\n",
       " '[TG(41:0)]_FA16:0 | DG(42:0)_C16:0',\n",
       " 'DG(43:6)_C16:0',\n",
       " 'DG(44:12),DG(43:5)_C16:0',\n",
       " '[TG(42:4)]_FA16:0 | DG(44:11),DG(43:4)_C16:0',\n",
       " '[TG(42:3)]_FA16:0 | DG(44:10),DG(43:3)_C16:0',\n",
       " '[TG(42:2)]_FA16:0 | DG(44:9),DG(43:2)_C16:0',\n",
       " '[TG(42:1)]_FA16:0 | DG(44:8),DG(43:1)_C16:0',\n",
       " '[TG(42:0)]_FA16:0 | DG(44:7),DG(43:0)_C16:0',\n",
       " 'DG(44:6)_C16:0',\n",
       " 'DG(44:5)_C16:0',\n",
       " '[TG(43:4)]_FA16:0 | DG(44:4)_C16:0',\n",
       " '[TG(43:3)]_FA16:0 | DG(44:3)_C16:0',\n",
       " '[TG(43:2)]_FA16:0 | DG(44:2)_C16:0',\n",
       " '[TG(43:1)]_FA16:0 | DG(44:1)_C16:0',\n",
       " '[TG(43:0)]_FA16:0 | DG(44:0)_C16:0',\n",
       " 'DG(28:2)_C16:1',\n",
       " 'DG(28:1)_C16:1',\n",
       " 'DG(29:2)_C16:1',\n",
       " 'DG(29:1)_C16:1',\n",
       " 'DG(30:3)_C16:1',\n",
       " 'DG(30:2)_C16:1',\n",
       " 'DG(30:1)_C16:1',\n",
       " 'DG(31:3)_C16:1',\n",
       " 'DG(31:2),DG(P-14:0/18:1)_C16:1',\n",
       " 'DG(31:1)_C16:1',\n",
       " 'DG(32:5)_C16:1',\n",
       " 'DG(32:4),DG(dO-34:4)_C16:1',\n",
       " 'DG(32:3)_C16:1',\n",
       " 'DG(32:2)_C16:1',\n",
       " 'DG(32:1)_C16:1',\n",
       " 'DG(33:5)_C16:1',\n",
       " 'DG(33:4)_C16:1',\n",
       " 'DG(33:3)_C16:1',\n",
       " 'DG(33:2)_C16:1',\n",
       " 'DG(33:1),DG(O-34:1)_C16:1',\n",
       " 'DG(34:6)_C16:1',\n",
       " 'DG(34:5)_C16:1',\n",
       " 'DG(34:4),DG(dO-36:4)_C16:1',\n",
       " 'DG(34:3)_C16:1',\n",
       " 'DG(34:2)_C16:1',\n",
       " 'DG(34:1)_C16:1',\n",
       " 'DG(35:6)_C16:1',\n",
       " 'DG(35:5)_C16:1',\n",
       " 'DG(35:4),DG(O-36:4),DG(dO-37:4)_C16:1',\n",
       " 'DG(35:3)_C16:1',\n",
       " 'DG(dO-38:9),DG(35:2)_C16:1',\n",
       " 'DG(36:8),DG(35:1)_C16:1',\n",
       " 'DG(36:7),DG(35:0)_C16:1',\n",
       " 'DG(36:6)_C16:1',\n",
       " 'DG(36:5)_C16:1',\n",
       " 'DG(36:4),DG(O-37:4)_C16:1',\n",
       " 'DG(36:3)_C16:1',\n",
       " 'DG(O-38:9),DG(36:2)_C16:1',\n",
       " 'DG(O-38:8),DG(36:1)_C16:1 | CE(16:1)',\n",
       " 'DG(37:7),DG(36:0)_C16:1',\n",
       " 'DG(37:6)_C16:1',\n",
       " 'DG(37:5)_C16:1',\n",
       " 'DG(37:4)_C16:1',\n",
       " 'DG(37:3)_C16:1',\n",
       " 'DG(38:9),DG(dO-40:9),DG(37:2)_C16:1',\n",
       " 'DG(38:8),DG(dO-40:8),DG(37:1)_C16:1',\n",
       " 'DG(38:7),DG(37:0)_C16:1',\n",
       " 'DG(38:6),DG(dO-40:6)_C16:1',\n",
       " 'DG(38:5)_C16:1',\n",
       " 'DG(38:4)_C16:1',\n",
       " 'DG(38:3)_C16:1',\n",
       " 'DG(O-40:9),DG(38:2)_C16:1',\n",
       " 'DG(39:8),DG(O-40:8),DG(38:1)_C16:1',\n",
       " 'DG(39:7),DG(38:0),DG(dO-40:0)_C16:1',\n",
       " 'DG(39:6)_C16:1',\n",
       " 'DG(39:5)_C16:1',\n",
       " 'DG(39:4)_C16:1',\n",
       " 'DG(40:10),DG(39:3)_C16:1',\n",
       " 'DG(40:9),DG(39:2)_C16:1',\n",
       " '[TG(38:1)]_FA16:1 | DG(40:8),DG(39:1)_C16:1',\n",
       " 'DG(40:7),DG(39:0)_C16:1',\n",
       " 'DG(40:6),DG(dO-40:0)_C16:1',\n",
       " 'DG(40:5)_C16:1',\n",
       " 'DG(40:4)_C16:1',\n",
       " 'DG(40:3)_C16:1',\n",
       " 'DG(40:2)_C16:1',\n",
       " '[TG(39:1)]_FA16:1 | DG(40:1)_C16:1',\n",
       " 'DG(41:7),DG(40:0)_C16:1',\n",
       " 'DG(41:6)_C16:1',\n",
       " 'DG(41:5)_C16:1',\n",
       " 'DG(42:11),DG(41:4)_C16:1',\n",
       " 'DG(42:10),DG(41:3)_C16:1',\n",
       " '[TG(40:2)]_FA16:1 | DG(42:9),DG(41:2)_C16:1',\n",
       " '[TG(40:1)]_FA16:1 | DG(42:8),DG(41:1)_C16:1',\n",
       " 'DG(42:7),DG(41:0)_C16:1',\n",
       " 'DG(42:6)_C16:1',\n",
       " 'DG(42:5)_C16:1',\n",
       " 'DG(42:4)_C16:1',\n",
       " 'DG(42:3)_C16:1',\n",
       " '[TG(41:2)]_FA16:1 | DG(42:2)_C16:1',\n",
       " '[TG(41:1)]_FA16:1 | DG(42:1)_C16:1',\n",
       " 'DG(43:6)_C16:1',\n",
       " 'DG(44:12),DG(43:5)_C16:1',\n",
       " '[TG(42:4)]_FA16:1 | DG(44:11),DG(43:4)_C16:1',\n",
       " '[TG(42:3)]_FA16:1 | DG(44:10),DG(43:3)_C16:1',\n",
       " '[TG(42:2)]_FA16:1 | DG(44:9),DG(43:2)_C16:1',\n",
       " '[TG(42:1)]_FA16:1 | DG(44:8),DG(43:1)_C16:1',\n",
       " 'DG(44:7),DG(43:0)_C16:1',\n",
       " 'DG(44:6)_C16:1',\n",
       " 'DG(44:5)_C16:1',\n",
       " '[TG(43:4)]_FA16:1 | DG(44:4)_C16:1',\n",
       " '[TG(43:3)]_FA16:1 | DG(44:3)_C16:1',\n",
       " '[TG(43:2)]_FA16:1 | DG(44:2)_C16:1',\n",
       " '[TG(43:1)]_FA16:1 | DG(44:1)_C16:1',\n",
       " 'DG(24:0)_C18:0',\n",
       " 'DG(26:0)_C18:0',\n",
       " 'DG(28:2)_C18:0',\n",
       " 'DG(28:1)_C18:0',\n",
       " 'DG(28:0),DG(dO-30:0)_C18:0',\n",
       " 'DG(29:2)_C18:0',\n",
       " 'DG(29:1)_C18:0',\n",
       " 'DG(29:0)_C18:0',\n",
       " 'DG(30:3)_C18:0',\n",
       " 'DG(30:2)_C18:0',\n",
       " 'DG(30:1)_C18:0',\n",
       " 'DG(30:0)_C18:0',\n",
       " 'DG(31:3)_C18:0',\n",
       " 'DG(31:2),DG(P-14:0/18:1)_C18:0',\n",
       " 'DG(31:1)_C18:0',\n",
       " 'DG(31:0)_C18:0',\n",
       " 'DG(32:5)_C18:0',\n",
       " 'DG(32:4),DG(dO-34:4)_C18:0',\n",
       " 'DG(32:3)_C18:0',\n",
       " 'DG(32:2)_C18:0',\n",
       " 'DG(32:1)_C18:0',\n",
       " 'DG(32:0)_C18:0',\n",
       " 'DG(33:5)_C18:0',\n",
       " 'DG(33:4)_C18:0',\n",
       " 'DG(33:3)_C18:0',\n",
       " 'DG(33:2)_C18:0',\n",
       " 'DG(33:1),DG(O-34:1)_C18:0',\n",
       " 'DG(33:0)_C18:0',\n",
       " 'DG(34:6)_C18:0',\n",
       " 'DG(34:5)_C18:0',\n",
       " 'DG(34:4),DG(dO-36:4)_C18:0',\n",
       " 'DG(34:3)_C18:0',\n",
       " 'DG(34:2)_C18:0',\n",
       " 'DG(34:1)_C18:0',\n",
       " 'DG(34:0)_C18:0',\n",
       " 'DG(35:6)_C18:0',\n",
       " 'DG(35:5)_C18:0',\n",
       " 'DG(35:4),DG(O-36:4),DG(dO-37:4)_C18:0',\n",
       " 'DG(35:3)_C18:0',\n",
       " 'DG(dO-38:9),DG(35:2)_C18:0',\n",
       " 'DG(36:8),DG(35:1)_C18:0',\n",
       " 'DG(36:7),DG(35:0)_C18:0',\n",
       " 'DG(36:6)_C18:0',\n",
       " 'DG(36:5)_C18:0',\n",
       " 'DG(36:4),DG(O-37:4)_C18:0',\n",
       " 'DG(36:3)_C18:0',\n",
       " 'DG(O-38:9),DG(36:2)_C18:0',\n",
       " 'DG(O-38:8),DG(36:1)_C18:0',\n",
       " 'DG(37:7),DG(36:0)_C18:0',\n",
       " 'DG(37:6)_C18:0',\n",
       " 'DG(37:5)_C18:0',\n",
       " 'DG(37:4)_C18:0',\n",
       " 'DG(37:3)_C18:0',\n",
       " 'DG(38:9),DG(dO-40:9),DG(37:2)_C18:0',\n",
       " 'DG(38:8),DG(dO-40:8),DG(37:1)_C18:0',\n",
       " 'DG(38:7),DG(37:0)_C18:0',\n",
       " 'DG(38:6),DG(dO-40:6)_C18:0',\n",
       " 'DG(38:5)_C18:0',\n",
       " 'DG(38:4)_C18:0',\n",
       " 'DG(38:3)_C18:0',\n",
       " 'DG(O-40:9),DG(38:2)_C18:0',\n",
       " 'DG(39:8),DG(O-40:8),DG(38:1)_C18:0',\n",
       " '[TG(37:0)]_FA18:0 | DG(39:7),DG(38:0),DG(dO-40:0)_C18:0 | CE(18:0)',\n",
       " 'DG(39:6)_C18:0',\n",
       " 'DG(39:5)_C18:0',\n",
       " 'DG(39:4)_C18:0',\n",
       " 'DG(40:10),DG(39:3)_C18:0',\n",
       " 'DG(40:9),DG(39:2)_C18:0',\n",
       " '[TG(38:1)]_FA18:0 | DG(40:8),DG(39:1)_C18:0',\n",
       " '[TG(38:0)]_FA18:0 | DG(40:7),DG(39:0)_C18:0',\n",
       " 'DG(40:6),DG(dO-40:0)_C18:0',\n",
       " 'DG(40:5)_C18:0',\n",
       " 'DG(40:4)_C18:0',\n",
       " 'DG(40:3)_C18:0',\n",
       " 'DG(40:2)_C18:0',\n",
       " '[TG(39:1)]_FA18:0 | DG(40:1)_C18:0',\n",
       " '[TG(39:0)]_FA18:0 | DG(41:7),DG(40:0)_C18:0',\n",
       " 'DG(41:6)_C18:0',\n",
       " 'DG(41:5)_C18:0',\n",
       " 'DG(42:11),DG(41:4)_C18:0',\n",
       " 'DG(42:10),DG(41:3)_C18:0',\n",
       " '[TG(40:2)]_FA18:0 | DG(42:9),DG(41:2)_C18:0',\n",
       " '[TG(40:1)]_FA18:0 | DG(42:8),DG(41:1)_C18:0',\n",
       " '[TG(40:0)]_FA18:0 | DG(42:7),DG(41:0)_C18:0',\n",
       " 'DG(42:6)_C18:0',\n",
       " 'DG(42:5)_C18:0',\n",
       " 'DG(42:4)_C18:0',\n",
       " 'DG(42:3)_C18:0',\n",
       " '[TG(41:2)]_FA18:0 | DG(42:2)_C18:0',\n",
       " '[TG(41:1)]_FA18:0 | DG(42:1)_C18:0',\n",
       " '[TG(41:0)]_FA18:0 | DG(42:0)_C18:0',\n",
       " 'DG(43:6)_C18:0',\n",
       " 'DG(44:12),DG(43:5)_C18:0',\n",
       " '[TG(42:4)]_FA18:0 | DG(44:11),DG(43:4)_C18:0',\n",
       " '[TG(42:3)]_FA18:0 | DG(44:10),DG(43:3)_C18:0',\n",
       " '[TG(42:2)]_FA18:0 | DG(44:9),DG(43:2)_C18:0',\n",
       " '[TG(42:1)]_FA18:0 | DG(44:8),DG(43:1)_C18:0',\n",
       " '[TG(42:0)]_FA18:0 | DG(44:7),DG(43:0)_C18:0',\n",
       " 'DG(44:6)_C18:0',\n",
       " 'DG(44:5)_C18:0',\n",
       " '[TG(43:4)]_FA18:0 | DG(44:4)_C18:0',\n",
       " '[TG(43:3)]_FA18:0 | DG(44:3)_C18:0',\n",
       " '[TG(43:2)]_FA18:0 | DG(44:2)_C18:0',\n",
       " '[TG(43:1)]_FA18:0 | DG(44:1)_C18:0',\n",
       " '[TG(43:0)]_FA18:0 | DG(44:0)_C18:0',\n",
       " 'DG(28:2)_C18:1',\n",
       " 'DG(28:1)_C18:1',\n",
       " 'DG(29:2)_C18:1',\n",
       " 'DG(29:1)_C18:1',\n",
       " 'DG(30:3)_C18:1',\n",
       " 'DG(30:2)_C18:1',\n",
       " 'DG(30:1)_C18:1',\n",
       " 'DG(31:3)_C18:1',\n",
       " 'DG(31:2),DG(P-14:0/18:1)_C18:1',\n",
       " 'DG(31:1)_C18:1',\n",
       " 'DG(32:5)_C18:1',\n",
       " 'DG(32:4),DG(dO-34:4)_C18:1',\n",
       " 'DG(32:3)_C18:1',\n",
       " 'DG(32:2)_C18:1',\n",
       " 'DG(32:1)_C18:1',\n",
       " 'DG(33:5)_C18:1',\n",
       " 'DG(33:4)_C18:1',\n",
       " 'DG(33:3)_C18:1',\n",
       " 'DG(33:2)_C18:1',\n",
       " 'DG(33:1),DG(O-34:1)_C18:1',\n",
       " 'DG(34:6)_C18:1',\n",
       " 'DG(34:5)_C18:1',\n",
       " 'DG(34:4),DG(dO-36:4)_C18:1',\n",
       " 'DG(34:3)_C18:1',\n",
       " 'DG(34:2)_C18:1',\n",
       " 'DG(34:1)_C18:1',\n",
       " 'DG(35:6)_C18:1',\n",
       " 'DG(35:5)_C18:1',\n",
       " 'DG(35:4),DG(O-36:4),DG(dO-37:4)_C18:1',\n",
       " 'DG(35:3)_C18:1',\n",
       " 'DG(dO-38:9),DG(35:2)_C18:1',\n",
       " 'DG(36:8),DG(35:1)_C18:1',\n",
       " 'DG(36:7),DG(35:0)_C18:1',\n",
       " 'DG(36:6)_C18:1',\n",
       " 'DG(36:5)_C18:1',\n",
       " 'DG(36:4),DG(O-37:4)_C18:1',\n",
       " 'DG(36:3)_C18:1',\n",
       " 'DG(O-38:9),DG(36:2)_C18:1',\n",
       " 'DG(O-38:8),DG(36:1)_C18:1',\n",
       " 'DG(37:7),DG(36:0)_C18:1',\n",
       " 'DG(37:6)_C18:1',\n",
       " 'DG(37:5)_C18:1',\n",
       " 'DG(37:4)_C18:1',\n",
       " 'DG(37:3)_C18:1',\n",
       " 'DG(38:9),DG(dO-40:9),DG(37:2)_C18:1',\n",
       " 'DG(38:8),DG(dO-40:8),DG(37:1)_C18:1',\n",
       " 'DG(38:7),DG(37:0)_C18:1',\n",
       " 'DG(38:6),DG(dO-40:6)_C18:1',\n",
       " 'DG(38:5)_C18:1',\n",
       " 'DG(38:4)_C18:1',\n",
       " 'DG(38:3)_C18:1',\n",
       " 'DG(O-40:9),DG(38:2)_C18:1',\n",
       " 'DG(39:8),DG(O-40:8),DG(38:1)_C18:1 | CE(18:1)',\n",
       " 'DG(39:7),DG(38:0),DG(dO-40:0)_C18:1',\n",
       " 'DG(39:6)_C18:1',\n",
       " 'DG(39:5)_C18:1',\n",
       " 'DG(39:4)_C18:1',\n",
       " 'DG(40:10),DG(39:3)_C18:1',\n",
       " 'DG(40:9),DG(39:2)_C18:1',\n",
       " '[TG(38:1)]_FA18:1 | DG(40:8),DG(39:1)_C18:1',\n",
       " 'DG(40:7),DG(39:0)_C18:1',\n",
       " 'DG(40:6),DG(dO-40:0)_C18:1',\n",
       " 'DG(40:5)_C18:1',\n",
       " 'DG(40:4)_C18:1',\n",
       " 'DG(40:3)_C18:1',\n",
       " 'DG(40:2)_C18:1',\n",
       " '[TG(39:1)]_FA18:1 | DG(40:1)_C18:1',\n",
       " 'DG(41:7),DG(40:0)_C18:1',\n",
       " 'DG(41:6)_C18:1',\n",
       " 'DG(41:5)_C18:1',\n",
       " 'DG(42:11),DG(41:4)_C18:1',\n",
       " 'DG(42:10),DG(41:3)_C18:1',\n",
       " '[TG(40:2)]_FA18:1 | DG(42:9),DG(41:2)_C18:1',\n",
       " '[TG(40:1)]_FA18:1 | DG(42:8),DG(41:1)_C18:1',\n",
       " 'DG(42:7),DG(41:0)_C18:1',\n",
       " 'DG(42:6)_C18:1',\n",
       " 'DG(42:5)_C18:1',\n",
       " 'DG(42:4)_C18:1',\n",
       " 'DG(42:3)_C18:1',\n",
       " '[TG(41:2)]_FA18:1 | DG(42:2)_C18:1',\n",
       " '[TG(41:1)]_FA18:1 | DG(42:1)_C18:1',\n",
       " 'DG(43:6)_C18:1',\n",
       " 'DG(44:12),DG(43:5)_C18:1',\n",
       " '[TG(42:4)]_FA18:1 | DG(44:11),DG(43:4)_C18:1',\n",
       " '[TG(42:3)]_FA18:1 | DG(44:10),DG(43:3)_C18:1',\n",
       " '[TG(42:2)]_FA18:1 | DG(44:9),DG(43:2)_C18:1',\n",
       " '[TG(42:1)]_FA18:1 | DG(44:8),DG(43:1)_C18:1',\n",
       " 'DG(44:7),DG(43:0)_C18:1',\n",
       " 'DG(44:6)_C18:1',\n",
       " 'DG(44:5)_C18:1',\n",
       " '[TG(43:4)]_FA18:1 | DG(44:4)_C18:1',\n",
       " '[TG(43:3)]_FA18:1 | DG(44:3)_C18:1',\n",
       " '[TG(43:2)]_FA18:1 | DG(44:2)_C18:1',\n",
       " '[TG(43:1)]_FA18:1 | DG(44:1)_C18:1',\n",
       " 'DG(28:2)_C18:2',\n",
       " 'DG(29:2)_C18:2',\n",
       " 'DG(30:3)_C18:2',\n",
       " 'DG(30:2)_C18:2',\n",
       " 'DG(31:3)_C18:2',\n",
       " 'DG(31:2),DG(P-14:0/18:1)_C18:2',\n",
       " 'DG(32:5)_C18:2',\n",
       " 'DG(32:4),DG(dO-34:4)_C18:2',\n",
       " 'DG(32:3)_C18:2',\n",
       " 'DG(32:2)_C18:2',\n",
       " 'DG(33:5)_C18:2',\n",
       " 'DG(33:4)_C18:2',\n",
       " 'DG(33:3)_C18:2',\n",
       " 'DG(33:2)_C18:2',\n",
       " 'DG(34:6)_C18:2',\n",
       " 'DG(34:5)_C18:2',\n",
       " 'DG(34:4),DG(dO-36:4)_C18:2',\n",
       " 'DG(34:3)_C18:2',\n",
       " 'DG(34:2)_C18:2',\n",
       " 'DG(35:6)_C18:2',\n",
       " 'DG(35:5)_C18:2',\n",
       " 'DG(35:4),DG(O-36:4),DG(dO-37:4)_C18:2',\n",
       " 'DG(35:3)_C18:2',\n",
       " 'DG(dO-38:9),DG(35:2)_C18:2',\n",
       " 'DG(36:8),DG(35:1)_C18:2',\n",
       " 'DG(36:7),DG(35:0)_C18:2',\n",
       " 'DG(36:6)_C18:2',\n",
       " 'DG(36:5)_C18:2',\n",
       " 'DG(36:4),DG(O-37:4)_C18:2',\n",
       " 'DG(36:3)_C18:2',\n",
       " 'DG(O-38:9),DG(36:2)_C18:2',\n",
       " 'DG(O-38:8),DG(36:1)_C18:2',\n",
       " 'DG(37:7),DG(36:0)_C18:2',\n",
       " 'DG(37:6)_C18:2',\n",
       " 'DG(37:5)_C18:2',\n",
       " 'DG(37:4)_C18:2',\n",
       " 'DG(37:3)_C18:2',\n",
       " 'DG(38:9),DG(dO-40:9),DG(37:2)_C18:2',\n",
       " 'DG(38:8),DG(dO-40:8),DG(37:1)_C18:2',\n",
       " 'DG(38:7),DG(37:0)_C18:2',\n",
       " 'DG(38:6),DG(dO-40:6)_C18:2',\n",
       " 'DG(38:5)_C18:2',\n",
       " 'DG(38:4)_C18:2',\n",
       " 'DG(38:3)_C18:2',\n",
       " 'DG(O-40:9),DG(38:2)_C18:2 | CE(18:2)',\n",
       " 'DG(39:8),DG(O-40:8),DG(38:1)_C18:2',\n",
       " 'DG(39:7),DG(38:0),DG(dO-40:0)_C18:2',\n",
       " 'DG(39:6)_C18:2',\n",
       " 'DG(39:5)_C18:2',\n",
       " 'DG(39:4)_C18:2',\n",
       " 'DG(40:10),DG(39:3)_C18:2',\n",
       " 'DG(40:9),DG(39:2)_C18:2',\n",
       " 'DG(40:8),DG(39:1)_C18:2',\n",
       " 'DG(40:7),DG(39:0)_C18:2',\n",
       " 'DG(40:6),DG(dO-40:0)_C18:2',\n",
       " 'DG(40:5)_C18:2',\n",
       " 'DG(40:4)_C18:2',\n",
       " 'DG(40:3)_C18:2',\n",
       " 'DG(40:2)_C18:2',\n",
       " 'DG(41:7),DG(40:0)_C18:2',\n",
       " 'DG(41:6)_C18:2',\n",
       " 'DG(41:5)_C18:2',\n",
       " 'DG(42:11),DG(41:4)_C18:2',\n",
       " 'DG(42:10),DG(41:3)_C18:2',\n",
       " '[TG(40:2)]_FA18:2 | DG(42:9),DG(41:2)_C18:2',\n",
       " 'DG(42:8),DG(41:1)_C18:2',\n",
       " 'DG(42:7),DG(41:0)_C18:2',\n",
       " 'DG(42:6)_C18:2',\n",
       " 'DG(42:5)_C18:2',\n",
       " 'DG(42:4)_C18:2',\n",
       " 'DG(42:3)_C18:2',\n",
       " '[TG(41:2)]_FA18:2 | DG(42:2)_C18:2',\n",
       " 'DG(43:6)_C18:2',\n",
       " 'DG(44:12),DG(43:5)_C18:2',\n",
       " '[TG(42:4)]_FA18:2 | DG(44:11),DG(43:4)_C18:2',\n",
       " '[TG(42:3)]_FA18:2 | DG(44:10),DG(43:3)_C18:2',\n",
       " '[TG(42:2)]_FA18:2 | DG(44:9),DG(43:2)_C18:2',\n",
       " 'DG(44:8),DG(43:1)_C18:2',\n",
       " 'DG(44:7),DG(43:0)_C18:2',\n",
       " 'DG(44:6)_C18:2',\n",
       " 'DG(44:5)_C18:2',\n",
       " '[TG(43:4)]_FA18:2 | DG(44:4)_C18:2',\n",
       " '[TG(43:3)]_FA18:2 | DG(44:3)_C18:2',\n",
       " '[TG(43:2)]_FA18:2 | DG(44:2)_C18:2',\n",
       " 'FA(2:0)',\n",
       " 'FA(3:1)',\n",
       " 'FA(3:0)',\n",
       " 'FA(4:1)',\n",
       " 'FA(4:0)',\n",
       " 'FA(5:2)',\n",
       " 'FA(5:1)',\n",
       " 'FA(5:0)',\n",
       " 'FA(6:2)',\n",
       " 'FA(6:1)',\n",
       " 'FA(6:0)',\n",
       " 'FA(7:3)',\n",
       " 'FA(7:2)',\n",
       " 'FA(7:1)',\n",
       " 'FA(7:0)',\n",
       " 'FA(8:6)',\n",
       " 'FA(8:5)',\n",
       " 'FA(8:2)',\n",
       " 'FA(8:1)',\n",
       " 'FA(8:0)',\n",
       " 'FA(9:2)',\n",
       " 'FA(9:1)',\n",
       " 'FA(9:0) | FA(10:7)',\n",
       " 'FA(9:0) | FA(10:7)',\n",
       " 'FA(10:6)',\n",
       " 'FA(10:5)',\n",
       " 'FA(10:4)',\n",
       " 'FA(10:3)',\n",
       " 'FA(10:2)',\n",
       " 'FA(10:1)',\n",
       " 'FA(10:0) | FA(10:0)',\n",
       " 'FA(11:6)',\n",
       " 'FA(11:2)',\n",
       " 'FA(11:1)',\n",
       " 'FA(11:0)',\n",
       " 'FA(12:6)',\n",
       " 'FA(12:5)',\n",
       " 'FA(12:4)',\n",
       " 'FA(12:2)',\n",
       " 'FA(12:1)',\n",
       " 'FA(12:0)',\n",
       " 'FA(13:2)',\n",
       " 'FA(13:1)',\n",
       " 'FA(13:0) | FA(14:7)',\n",
       " 'FA(13:0) | FA(14:7)',\n",
       " 'FA(14:6)',\n",
       " 'FA(14:5)',\n",
       " 'FA(14:4)',\n",
       " 'FA(14:2)',\n",
       " 'FA(14:1)',\n",
       " 'FA(14:0)',\n",
       " 'FA(15:6)',\n",
       " 'FA(15:5)',\n",
       " 'FA(15:3)',\n",
       " 'FA(15:2)',\n",
       " 'FA(15:1)',\n",
       " 'FA(15:0) | FA(16:7)',\n",
       " 'FA(15:0) | FA(16:7)',\n",
       " 'FA(16:6)',\n",
       " 'FA(16:5)',\n",
       " 'FA(16:4)',\n",
       " 'FA(16:3)',\n",
       " 'FA(16:2)',\n",
       " 'FA(16:1)',\n",
       " 'FA(16:0)',\n",
       " 'FA(17:6)',\n",
       " 'FA(17:4)',\n",
       " 'FA(17:3)',\n",
       " 'FA(17:2)',\n",
       " 'FA(17:1)',\n",
       " 'FA(17:0) | FA(18:7)',\n",
       " 'FA(17:0) | FA(18:7)',\n",
       " 'FA(18:6)',\n",
       " 'FA(18:5)',\n",
       " 'FA(18:4)',\n",
       " 'FA(18:3)',\n",
       " 'FA(18:2)',\n",
       " 'FA(18:1)',\n",
       " 'FA(18:0)',\n",
       " 'FA(19:6)',\n",
       " 'FA(19:5)',\n",
       " 'FA(19:4)',\n",
       " 'FA(19:2)',\n",
       " 'FA(19:1)',\n",
       " 'FA(19:0)',\n",
       " 'FA(20:6)',\n",
       " 'FA(20:5)',\n",
       " 'FA(20:4)',\n",
       " 'FA(20:3)',\n",
       " 'FA(20:2)',\n",
       " 'FA(20:1)',\n",
       " 'FA(20:0)',\n",
       " 'FA(21:5)',\n",
       " 'FA(21:3)',\n",
       " 'FA(21:2)',\n",
       " 'FA(21:1)',\n",
       " 'FA(21:0) | FA(22:7)',\n",
       " 'FA(21:0) | FA(22:7)',\n",
       " 'FA(22:6)',\n",
       " 'FA(22:5)',\n",
       " 'FA(22:4)',\n",
       " 'FA(22:3)',\n",
       " 'FA(22:2)',\n",
       " 'FA(22:1)',\n",
       " 'FA(22:0)',\n",
       " 'FA(23:6)',\n",
       " 'FA(24:12)',\n",
       " 'FA(24:10)',\n",
       " 'FA(23:1)',\n",
       " 'FA(23:0) | FA(24:7)',\n",
       " 'FA(23:0) | FA(24:7)',\n",
       " 'FA(24:6)',\n",
       " 'FA(24:5)',\n",
       " 'FA(24:4)',\n",
       " 'FA(24:3)',\n",
       " 'FA(24:2)',\n",
       " 'FA(24:1)',\n",
       " 'FA(24:0)',\n",
       " 'FA(25:4)',\n",
       " 'FA(25:1)',\n",
       " 'FA(25:0)',\n",
       " 'FA(26:6)',\n",
       " 'FA(26:5)',\n",
       " 'FA(26:4)',\n",
       " 'FA(26:3)',\n",
       " 'FA(26:2)',\n",
       " 'FA(26:1)',\n",
       " 'FA(26:0)',\n",
       " 'FA(27:4)',\n",
       " 'FA(27:3)',\n",
       " 'FA(27:2)',\n",
       " 'FA(27:1)',\n",
       " 'FA(27:0) | FA(28:7)',\n",
       " 'FA(27:0) | FA(28:7)',\n",
       " 'FA(28:6)',\n",
       " 'FA(28:5)',\n",
       " 'FA(28:4)',\n",
       " 'FA(28:3)',\n",
       " 'FA(28:2)',\n",
       " 'FA(28:1)',\n",
       " 'FA(28:0)',\n",
       " 'FA(29:3)',\n",
       " 'FA(29:2)',\n",
       " 'FA(29:1)',\n",
       " 'FA(29:0)',\n",
       " 'FA(30:6)',\n",
       " 'FA(30:5)',\n",
       " 'FA(30:4)',\n",
       " 'FA(30:3)',\n",
       " 'FA(30:2)',\n",
       " 'FA(30:1)',\n",
       " 'FA(30:0)',\n",
       " 'FA(31:1)',\n",
       " 'FA(31:0)',\n",
       " 'FA(32:6)',\n",
       " 'FA(32:5)',\n",
       " 'FA(32:4)',\n",
       " 'FA(32:1)',\n",
       " 'FA(32:0)',\n",
       " 'FA(33:0)',\n",
       " 'FA(34:6)',\n",
       " 'FA(34:5)',\n",
       " 'FA(34:4)',\n",
       " 'FA(34:1)',\n",
       " 'FA(34:0)',\n",
       " 'FA(35:0)',\n",
       " 'FA(36:6)',\n",
       " 'FA(36:5)',\n",
       " 'FA(36:4)',\n",
       " 'FA(36:0)',\n",
       " 'FA(37:0)',\n",
       " 'FA(38:6)',\n",
       " 'FA(38:5)',\n",
       " 'FA(38:4)',\n",
       " 'FA(38:0)',\n",
       " 'FA(40:6)',\n",
       " 'FA(42:6)',\n",
       " 'FA(46:0)',\n",
       " 'LPC(2:0)',\n",
       " 'LPC(3:1)',\n",
       " 'LPC(3:0),PC(O-3:0)',\n",
       " 'LPC(4:0),PC(O-4:0),PC(O-5:0)',\n",
       " 'PC(4:0),LPC(5:0)',\n",
       " 'LPC(6:0)',\n",
       " 'PC(6:0),LPC(7:0)',\n",
       " 'LPC(8:0)',\n",
       " 'LPC(O-10:1)',\n",
       " 'PC(8:0),LPC(9:0)',\n",
       " 'LPC(10:0),PC(O-10:0)',\n",
       " 'PC(10:0),LPC(11:0)',\n",
       " 'PC(O-12:1)',\n",
       " 'LPC(12:0)',\n",
       " 'PC(12:4)',\n",
       " 'PC(O-13:1),LPC(P-14:0)',\n",
       " 'PC(12:0),LPC(13:0),LPC(O-14:0)',\n",
       " 'LPC(14:1),LPC(P-15:0)',\n",
       " 'LPC(14:0),PC(O-14:0),LPC(O-15:0)',\n",
       " 'LPC(15:1),LPC(O-16:1),LPC(P-16:0)',\n",
       " 'PC(14:0),LPC(15:0),LPC(O-16:0)',\n",
       " 'LPC(16:1),LPC(P-17:0)',\n",
       " 'LPC(16:0),PC(O-16:0),LPC(O-17:0)',\n",
       " 'PC(16:4)',\n",
       " 'LPC(17:2),LPC(P-18:1)',\n",
       " 'LPC(17:1),LPC(O-18:1),LPC(P-18:0)',\n",
       " 'PC(16:0),PC(O-17:0),LPC(O-18:0)',\n",
       " 'LPC(18:4)',\n",
       " 'LPC(18:3)',\n",
       " 'LPC(18:2),LPC(P-19:1)',\n",
       " 'LPC(18:1),PC(O-18:1),PC(P-18:0)',\n",
       " 'LPC(18:0),PC(O-18:0),LPC(O-19:0)',\n",
       " 'LPC(O-20:4)',\n",
       " 'LPC(19:3)',\n",
       " 'PC(18:1),LPC(19:1),PC(O-19:1),LPC(P-20:0)',\n",
       " 'PC(18:0),LPC(19:0),PC(O-19:0),LPC(O-20:0)',\n",
       " 'LPC(20:5)',\n",
       " 'LPC(20:4)',\n",
       " 'LPC(20:3)',\n",
       " 'LPC(20:2),PC(O-20:2)',\n",
       " 'PC(19:1),LPC(20:1),PC(O-20:1),PC(P-20:0)',\n",
       " 'PC(19:0),LPC(20:0),PC(O-20:0)',\n",
       " 'PC(20:4),LPC(21:4)',\n",
       " 'PC(20:1),PC(O-21:1)',\n",
       " 'PC(20:0),LPC(21:0),PC(O-21:0)',\n",
       " 'LPC(22:6)',\n",
       " 'LPC(22:5)',\n",
       " 'LPC(22:4)',\n",
       " 'LPC(22:2)',\n",
       " 'PC(21:1),LPC(22:1)',\n",
       " 'PC(21:0),LPC(22:0),PC(O-22:0)',\n",
       " 'PC(22:1)',\n",
       " 'PC(22:0)',\n",
       " 'LPC(24:1)',\n",
       " 'LPC(24:0)',\n",
       " 'PC(24:0)',\n",
       " 'PC(25:0)',\n",
       " 'PC(26:1)',\n",
       " 'PC(26:0)',\n",
       " ...]"
      ]
     },
     "execution_count": 30,
     "metadata": {},
     "output_type": "execute_result"
    }
   ],
   "source": [
    "list_of_lipids"
   ]
  },
  {
   "cell_type": "code",
   "execution_count": null,
   "metadata": {},
   "outputs": [],
   "source": []
  },
  {
   "cell_type": "code",
   "execution_count": null,
   "metadata": {},
   "outputs": [],
   "source": []
  },
  {
   "cell_type": "code",
   "execution_count": null,
   "metadata": {},
   "outputs": [],
   "source": []
  },
  {
   "cell_type": "code",
   "execution_count": null,
   "metadata": {},
   "outputs": [],
   "source": []
  },
  {
   "cell_type": "code",
   "execution_count": null,
   "metadata": {},
   "outputs": [],
   "source": []
  },
  {
   "cell_type": "code",
   "execution_count": null,
   "metadata": {},
   "outputs": [],
   "source": []
  },
  {
   "cell_type": "code",
   "execution_count": null,
   "metadata": {},
   "outputs": [],
   "source": []
  },
  {
   "cell_type": "code",
   "execution_count": null,
   "metadata": {},
   "outputs": [],
   "source": []
  },
  {
   "cell_type": "code",
   "execution_count": null,
   "metadata": {},
   "outputs": [],
   "source": []
  },
  {
   "cell_type": "code",
   "execution_count": null,
   "metadata": {},
   "outputs": [],
   "source": []
  },
  {
   "cell_type": "code",
   "execution_count": null,
   "metadata": {},
   "outputs": [],
   "source": [
    "###Below here is not cleaned up"
   ]
  },
  {
   "cell_type": "code",
   "execution_count": 22,
   "metadata": {},
   "outputs": [
    {
     "name": "stderr",
     "output_type": "stream",
     "text": [
      "/home/sanjay/anaconda3/envs/pymzml/lib/python3.9/site-packages/tqdm/auto.py:21: TqdmWarning: IProgress not found. Please update jupyter and ipywidgets. See https://ipywidgets.readthedocs.io/en/stable/user_install.html\n",
      "  from .autonotebook import tqdm as notebook_tqdm\n"
     ]
    }
   ],
   "source": [
    "#import visualization libraries\n",
    "import umap\n",
    "import matplotlib.pyplot as plt\n",
    "import seaborn as sns\n",
    "import plotly.express as px\n",
    "import plotly.graph_objects as go"
   ]
  },
  {
   "cell_type": "code",
   "execution_count": 25,
   "metadata": {},
   "outputs": [
    {
     "data": {
      "application/vnd.plotly.v1+json": {
       "config": {
        "plotlyServerURL": "https://plot.ly"
       },
       "data": [
        {
         "alignmentgroup": "True",
         "customdata": [
          [
           "[TG(37:0)]_FA14:0",
           "TAG"
          ]
         ],
         "hovertemplate": "Lipid=%{customdata[0]}<br>Transition=%{x}<br>Intensity=%{y}<br>Class=%{customdata[1]}<extra></extra>",
         "legendgroup": "[TG(37:0)]_FA14:0",
         "marker": {
          "color": "#636efa"
         },
         "name": "[TG(37:0)]_FA14:0",
         "offsetgroup": "[TG(37:0)]_FA14:0",
         "orientation": "v",
         "showlegend": true,
         "textposition": "auto",
         "type": "bar",
         "x": [
          "670.6 -> 425.4"
         ],
         "xaxis": "x",
         "y": [
          45072.822998046875
         ],
         "yaxis": "y"
        },
        {
         "alignmentgroup": "True",
         "customdata": [
          [
           "[TG(38:1)]_FA14:0",
           "TAG"
          ]
         ],
         "hovertemplate": "Lipid=%{customdata[0]}<br>Transition=%{x}<br>Intensity=%{y}<br>Class=%{customdata[1]}<extra></extra>",
         "legendgroup": "[TG(38:1)]_FA14:0",
         "marker": {
          "color": "#EF553B"
         },
         "name": "[TG(38:1)]_FA14:0",
         "offsetgroup": "[TG(38:1)]_FA14:0",
         "orientation": "v",
         "showlegend": true,
         "textposition": "auto",
         "type": "bar",
         "x": [
          "682.6 -> 437.4"
         ],
         "xaxis": "x",
         "y": [
          64211.844482421875
         ],
         "yaxis": "y"
        },
        {
         "alignmentgroup": "True",
         "customdata": [
          [
           "[TG(38:0)]_FA14:0",
           "TAG"
          ]
         ],
         "hovertemplate": "Lipid=%{customdata[0]}<br>Transition=%{x}<br>Intensity=%{y}<br>Class=%{customdata[1]}<extra></extra>",
         "legendgroup": "[TG(38:0)]_FA14:0",
         "marker": {
          "color": "#00cc96"
         },
         "name": "[TG(38:0)]_FA14:0",
         "offsetgroup": "[TG(38:0)]_FA14:0",
         "orientation": "v",
         "showlegend": true,
         "textposition": "auto",
         "type": "bar",
         "x": [
          "684.6 -> 439.4"
         ],
         "xaxis": "x",
         "y": [
          237300.73681640625
         ],
         "yaxis": "y"
        },
        {
         "alignmentgroup": "True",
         "customdata": [
          [
           "[TG(39:1)]_FA14:0",
           "TAG"
          ]
         ],
         "hovertemplate": "Lipid=%{customdata[0]}<br>Transition=%{x}<br>Intensity=%{y}<br>Class=%{customdata[1]}<extra></extra>",
         "legendgroup": "[TG(39:1)]_FA14:0",
         "marker": {
          "color": "#ab63fa"
         },
         "name": "[TG(39:1)]_FA14:0",
         "offsetgroup": "[TG(39:1)]_FA14:0",
         "orientation": "v",
         "showlegend": true,
         "textposition": "auto",
         "type": "bar",
         "x": [
          "696.6 -> 451.4"
         ],
         "xaxis": "x",
         "y": [
          27744.182037353516
         ],
         "yaxis": "y"
        },
        {
         "alignmentgroup": "True",
         "customdata": [
          [
           "[TG(39:0)]_FA14:0",
           "TAG"
          ]
         ],
         "hovertemplate": "Lipid=%{customdata[0]}<br>Transition=%{x}<br>Intensity=%{y}<br>Class=%{customdata[1]}<extra></extra>",
         "legendgroup": "[TG(39:0)]_FA14:0",
         "marker": {
          "color": "#FFA15A"
         },
         "name": "[TG(39:0)]_FA14:0",
         "offsetgroup": "[TG(39:0)]_FA14:0",
         "orientation": "v",
         "showlegend": true,
         "textposition": "auto",
         "type": "bar",
         "x": [
          "698.6 -> 453.4"
         ],
         "xaxis": "x",
         "y": [
          37315.48260498047
         ],
         "yaxis": "y"
        },
        {
         "alignmentgroup": "True",
         "customdata": [
          [
           "[TG(40:2)]_FA14:0",
           "TAG"
          ]
         ],
         "hovertemplate": "Lipid=%{customdata[0]}<br>Transition=%{x}<br>Intensity=%{y}<br>Class=%{customdata[1]}<extra></extra>",
         "legendgroup": "[TG(40:2)]_FA14:0",
         "marker": {
          "color": "#19d3f3"
         },
         "name": "[TG(40:2)]_FA14:0",
         "offsetgroup": "[TG(40:2)]_FA14:0",
         "orientation": "v",
         "showlegend": true,
         "textposition": "auto",
         "type": "bar",
         "x": [
          "708.6 -> 463.4"
         ],
         "xaxis": "x",
         "y": [
          24415.261688232422
         ],
         "yaxis": "y"
        },
        {
         "alignmentgroup": "True",
         "customdata": [
          [
           "[TG(40:1)]_FA14:0",
           "TAG"
          ]
         ],
         "hovertemplate": "Lipid=%{customdata[0]}<br>Transition=%{x}<br>Intensity=%{y}<br>Class=%{customdata[1]}<extra></extra>",
         "legendgroup": "[TG(40:1)]_FA14:0",
         "marker": {
          "color": "#FF6692"
         },
         "name": "[TG(40:1)]_FA14:0",
         "offsetgroup": "[TG(40:1)]_FA14:0",
         "orientation": "v",
         "showlegend": true,
         "textposition": "auto",
         "type": "bar",
         "x": [
          "710.6 -> 465.4"
         ],
         "xaxis": "x",
         "y": [
          34708.20263671875
         ],
         "yaxis": "y"
        },
        {
         "alignmentgroup": "True",
         "customdata": [
          [
           "[TG(40:0)]_FA14:0",
           "TAG"
          ]
         ],
         "hovertemplate": "Lipid=%{customdata[0]}<br>Transition=%{x}<br>Intensity=%{y}<br>Class=%{customdata[1]}<extra></extra>",
         "legendgroup": "[TG(40:0)]_FA14:0",
         "marker": {
          "color": "#B6E880"
         },
         "name": "[TG(40:0)]_FA14:0",
         "offsetgroup": "[TG(40:0)]_FA14:0",
         "orientation": "v",
         "showlegend": true,
         "textposition": "auto",
         "type": "bar",
         "x": [
          "712.6 -> 467.4"
         ],
         "xaxis": "x",
         "y": [
          155327.89086914062
         ],
         "yaxis": "y"
        },
        {
         "alignmentgroup": "True",
         "customdata": [
          [
           "[TG(41:2)]_FA14:0",
           "TAG"
          ]
         ],
         "hovertemplate": "Lipid=%{customdata[0]}<br>Transition=%{x}<br>Intensity=%{y}<br>Class=%{customdata[1]}<extra></extra>",
         "legendgroup": "[TG(41:2)]_FA14:0",
         "marker": {
          "color": "#FF97FF"
         },
         "name": "[TG(41:2)]_FA14:0",
         "offsetgroup": "[TG(41:2)]_FA14:0",
         "orientation": "v",
         "showlegend": true,
         "textposition": "auto",
         "type": "bar",
         "x": [
          "722.6 -> 477.4"
         ],
         "xaxis": "x",
         "y": [
          20373.861602783203
         ],
         "yaxis": "y"
        },
        {
         "alignmentgroup": "True",
         "customdata": [
          [
           "[TG(41:1)]_FA14:0",
           "TAG"
          ]
         ],
         "hovertemplate": "Lipid=%{customdata[0]}<br>Transition=%{x}<br>Intensity=%{y}<br>Class=%{customdata[1]}<extra></extra>",
         "legendgroup": "[TG(41:1)]_FA14:0",
         "marker": {
          "color": "#FECB52"
         },
         "name": "[TG(41:1)]_FA14:0",
         "offsetgroup": "[TG(41:1)]_FA14:0",
         "orientation": "v",
         "showlegend": true,
         "textposition": "auto",
         "type": "bar",
         "x": [
          "724.6 -> 479.4"
         ],
         "xaxis": "x",
         "y": [
          19893.661392211914
         ],
         "yaxis": "y"
        },
        {
         "alignmentgroup": "True",
         "customdata": [
          [
           "[TG(41:0)]_FA14:0",
           "TAG"
          ]
         ],
         "hovertemplate": "Lipid=%{customdata[0]}<br>Transition=%{x}<br>Intensity=%{y}<br>Class=%{customdata[1]}<extra></extra>",
         "legendgroup": "[TG(41:0)]_FA14:0",
         "marker": {
          "color": "#636efa"
         },
         "name": "[TG(41:0)]_FA14:0",
         "offsetgroup": "[TG(41:0)]_FA14:0",
         "orientation": "v",
         "showlegend": true,
         "textposition": "auto",
         "type": "bar",
         "x": [
          "726.7 -> 481.5"
         ],
         "xaxis": "x",
         "y": [
          26466.401824951172
         ],
         "yaxis": "y"
        },
        {
         "alignmentgroup": "True",
         "customdata": [
          [
           "[TG(42:4)]_FA14:0",
           "TAG"
          ]
         ],
         "hovertemplate": "Lipid=%{customdata[0]}<br>Transition=%{x}<br>Intensity=%{y}<br>Class=%{customdata[1]}<extra></extra>",
         "legendgroup": "[TG(42:4)]_FA14:0",
         "marker": {
          "color": "#EF553B"
         },
         "name": "[TG(42:4)]_FA14:0",
         "offsetgroup": "[TG(42:4)]_FA14:0",
         "orientation": "v",
         "showlegend": true,
         "textposition": "auto",
         "type": "bar",
         "x": [
          "732.6 -> 487.4"
         ],
         "xaxis": "x",
         "y": [
          15374.68115234375
         ],
         "yaxis": "y"
        },
        {
         "alignmentgroup": "True",
         "customdata": [
          [
           "[TG(42:3)]_FA14:0",
           "TAG"
          ]
         ],
         "hovertemplate": "Lipid=%{customdata[0]}<br>Transition=%{x}<br>Intensity=%{y}<br>Class=%{customdata[1]}<extra></extra>",
         "legendgroup": "[TG(42:3)]_FA14:0",
         "marker": {
          "color": "#00cc96"
         },
         "name": "[TG(42:3)]_FA14:0",
         "offsetgroup": "[TG(42:3)]_FA14:0",
         "orientation": "v",
         "showlegend": true,
         "textposition": "auto",
         "type": "bar",
         "x": [
          "734.6 -> 489.4"
         ],
         "xaxis": "x",
         "y": [
          19889.30142211914
         ],
         "yaxis": "y"
        },
        {
         "alignmentgroup": "True",
         "customdata": [
          [
           "[TG(42:2)]_FA14:0",
           "TAG"
          ]
         ],
         "hovertemplate": "Lipid=%{customdata[0]}<br>Transition=%{x}<br>Intensity=%{y}<br>Class=%{customdata[1]}<extra></extra>",
         "legendgroup": "[TG(42:2)]_FA14:0",
         "marker": {
          "color": "#ab63fa"
         },
         "name": "[TG(42:2)]_FA14:0",
         "offsetgroup": "[TG(42:2)]_FA14:0",
         "orientation": "v",
         "showlegend": true,
         "textposition": "auto",
         "type": "bar",
         "x": [
          "736.6 -> 491.4"
         ],
         "xaxis": "x",
         "y": [
          17753.80108642578
         ],
         "yaxis": "y"
        },
        {
         "alignmentgroup": "True",
         "customdata": [
          [
           "[TG(42:1)]_FA14:0",
           "TAG"
          ]
         ],
         "hovertemplate": "Lipid=%{customdata[0]}<br>Transition=%{x}<br>Intensity=%{y}<br>Class=%{customdata[1]}<extra></extra>",
         "legendgroup": "[TG(42:1)]_FA14:0",
         "marker": {
          "color": "#FFA15A"
         },
         "name": "[TG(42:1)]_FA14:0",
         "offsetgroup": "[TG(42:1)]_FA14:0",
         "orientation": "v",
         "showlegend": true,
         "textposition": "auto",
         "type": "bar",
         "x": [
          "738.7 -> 493.5"
         ],
         "xaxis": "x",
         "y": [
          131865.6494140625
         ],
         "yaxis": "y"
        },
        {
         "alignmentgroup": "True",
         "customdata": [
          [
           "[TG(42:0)]_FA14:0",
           "TAG"
          ]
         ],
         "hovertemplate": "Lipid=%{customdata[0]}<br>Transition=%{x}<br>Intensity=%{y}<br>Class=%{customdata[1]}<extra></extra>",
         "legendgroup": "[TG(42:0)]_FA14:0",
         "marker": {
          "color": "#19d3f3"
         },
         "name": "[TG(42:0)]_FA14:0",
         "offsetgroup": "[TG(42:0)]_FA14:0",
         "orientation": "v",
         "showlegend": true,
         "textposition": "auto",
         "type": "bar",
         "x": [
          "740.7 -> 495.5"
         ],
         "xaxis": "x",
         "y": [
          94824.94689941406
         ],
         "yaxis": "y"
        },
        {
         "alignmentgroup": "True",
         "customdata": [
          [
           "[TG(43:4)]_FA14:0",
           "TAG"
          ]
         ],
         "hovertemplate": "Lipid=%{customdata[0]}<br>Transition=%{x}<br>Intensity=%{y}<br>Class=%{customdata[1]}<extra></extra>",
         "legendgroup": "[TG(43:4)]_FA14:0",
         "marker": {
          "color": "#FF6692"
         },
         "name": "[TG(43:4)]_FA14:0",
         "offsetgroup": "[TG(43:4)]_FA14:0",
         "orientation": "v",
         "showlegend": true,
         "textposition": "auto",
         "type": "bar",
         "x": [
          "746.6 -> 501.4"
         ],
         "xaxis": "x",
         "y": [
          16791.481231689453
         ],
         "yaxis": "y"
        },
        {
         "alignmentgroup": "True",
         "customdata": [
          [
           "[TG(43:3)]_FA14:0",
           "TAG"
          ]
         ],
         "hovertemplate": "Lipid=%{customdata[0]}<br>Transition=%{x}<br>Intensity=%{y}<br>Class=%{customdata[1]}<extra></extra>",
         "legendgroup": "[TG(43:3)]_FA14:0",
         "marker": {
          "color": "#B6E880"
         },
         "name": "[TG(43:3)]_FA14:0",
         "offsetgroup": "[TG(43:3)]_FA14:0",
         "orientation": "v",
         "showlegend": true,
         "textposition": "auto",
         "type": "bar",
         "x": [
          "748.6 -> 503.4"
         ],
         "xaxis": "x",
         "y": [
          63030.504150390625
         ],
         "yaxis": "y"
        },
        {
         "alignmentgroup": "True",
         "customdata": [
          [
           "[TG(43:2)]_FA14:0",
           "TAG"
          ]
         ],
         "hovertemplate": "Lipid=%{customdata[0]}<br>Transition=%{x}<br>Intensity=%{y}<br>Class=%{customdata[1]}<extra></extra>",
         "legendgroup": "[TG(43:2)]_FA14:0",
         "marker": {
          "color": "#FF97FF"
         },
         "name": "[TG(43:2)]_FA14:0",
         "offsetgroup": "[TG(43:2)]_FA14:0",
         "orientation": "v",
         "showlegend": true,
         "textposition": "auto",
         "type": "bar",
         "x": [
          "750.7 -> 505.5"
         ],
         "xaxis": "x",
         "y": [
          26622.84196472168
         ],
         "yaxis": "y"
        },
        {
         "alignmentgroup": "True",
         "customdata": [
          [
           "[TG(43:1)]_FA14:0",
           "TAG"
          ]
         ],
         "hovertemplate": "Lipid=%{customdata[0]}<br>Transition=%{x}<br>Intensity=%{y}<br>Class=%{customdata[1]}<extra></extra>",
         "legendgroup": "[TG(43:1)]_FA14:0",
         "marker": {
          "color": "#FECB52"
         },
         "name": "[TG(43:1)]_FA14:0",
         "offsetgroup": "[TG(43:1)]_FA14:0",
         "orientation": "v",
         "showlegend": true,
         "textposition": "auto",
         "type": "bar",
         "x": [
          "752.7 -> 507.5"
         ],
         "xaxis": "x",
         "y": [
          28583.40203857422
         ],
         "yaxis": "y"
        },
        {
         "alignmentgroup": "True",
         "customdata": [
          [
           "[TG(43:0)]_FA14:0",
           "TAG"
          ]
         ],
         "hovertemplate": "Lipid=%{customdata[0]}<br>Transition=%{x}<br>Intensity=%{y}<br>Class=%{customdata[1]}<extra></extra>",
         "legendgroup": "[TG(43:0)]_FA14:0",
         "marker": {
          "color": "#636efa"
         },
         "name": "[TG(43:0)]_FA14:0",
         "offsetgroup": "[TG(43:0)]_FA14:0",
         "orientation": "v",
         "showlegend": true,
         "textposition": "auto",
         "type": "bar",
         "x": [
          "754.7 -> 509.5"
         ],
         "xaxis": "x",
         "y": [
          29018.08203125
         ],
         "yaxis": "y"
        },
        {
         "alignmentgroup": "True",
         "customdata": [
          [
           "[TG(44:5)]_FA14:0",
           "TAG"
          ]
         ],
         "hovertemplate": "Lipid=%{customdata[0]}<br>Transition=%{x}<br>Intensity=%{y}<br>Class=%{customdata[1]}<extra></extra>",
         "legendgroup": "[TG(44:5)]_FA14:0",
         "marker": {
          "color": "#EF553B"
         },
         "name": "[TG(44:5)]_FA14:0",
         "offsetgroup": "[TG(44:5)]_FA14:0",
         "orientation": "v",
         "showlegend": true,
         "textposition": "auto",
         "type": "bar",
         "x": [
          "758.6 -> 513.4"
         ],
         "xaxis": "x",
         "y": [
          17620.081260681152
         ],
         "yaxis": "y"
        },
        {
         "alignmentgroup": "True",
         "customdata": [
          [
           "[TG(44:4)]_FA14:0",
           "TAG"
          ]
         ],
         "hovertemplate": "Lipid=%{customdata[0]}<br>Transition=%{x}<br>Intensity=%{y}<br>Class=%{customdata[1]}<extra></extra>",
         "legendgroup": "[TG(44:4)]_FA14:0",
         "marker": {
          "color": "#00cc96"
         },
         "name": "[TG(44:4)]_FA14:0",
         "offsetgroup": "[TG(44:4)]_FA14:0",
         "orientation": "v",
         "showlegend": true,
         "textposition": "auto",
         "type": "bar",
         "x": [
          "760.6 -> 515.4"
         ],
         "xaxis": "x",
         "y": [
          15765.661041259766
         ],
         "yaxis": "y"
        },
        {
         "alignmentgroup": "True",
         "customdata": [
          [
           "[TG(44:3)]_FA14:0",
           "TAG"
          ]
         ],
         "hovertemplate": "Lipid=%{customdata[0]}<br>Transition=%{x}<br>Intensity=%{y}<br>Class=%{customdata[1]}<extra></extra>",
         "legendgroup": "[TG(44:3)]_FA14:0",
         "marker": {
          "color": "#ab63fa"
         },
         "name": "[TG(44:3)]_FA14:0",
         "offsetgroup": "[TG(44:3)]_FA14:0",
         "orientation": "v",
         "showlegend": true,
         "textposition": "auto",
         "type": "bar",
         "x": [
          "762.7 -> 517.5"
         ],
         "xaxis": "x",
         "y": [
          18071.14141845703
         ],
         "yaxis": "y"
        },
        {
         "alignmentgroup": "True",
         "customdata": [
          [
           "[TG(44:2)]_FA14:0",
           "TAG"
          ]
         ],
         "hovertemplate": "Lipid=%{customdata[0]}<br>Transition=%{x}<br>Intensity=%{y}<br>Class=%{customdata[1]}<extra></extra>",
         "legendgroup": "[TG(44:2)]_FA14:0",
         "marker": {
          "color": "#FFA15A"
         },
         "name": "[TG(44:2)]_FA14:0",
         "offsetgroup": "[TG(44:2)]_FA14:0",
         "orientation": "v",
         "showlegend": true,
         "textposition": "auto",
         "type": "bar",
         "x": [
          "764.7 -> 519.5"
         ],
         "xaxis": "x",
         "y": [
          39169.32312011719
         ],
         "yaxis": "y"
        },
        {
         "alignmentgroup": "True",
         "customdata": [
          [
           "[TG(44:1)]_FA14:0",
           "TAG"
          ]
         ],
         "hovertemplate": "Lipid=%{customdata[0]}<br>Transition=%{x}<br>Intensity=%{y}<br>Class=%{customdata[1]}<extra></extra>",
         "legendgroup": "[TG(44:1)]_FA14:0",
         "marker": {
          "color": "#19d3f3"
         },
         "name": "[TG(44:1)]_FA14:0",
         "offsetgroup": "[TG(44:1)]_FA14:0",
         "orientation": "v",
         "showlegend": true,
         "textposition": "auto",
         "type": "bar",
         "x": [
          "766.7 -> 521.5"
         ],
         "xaxis": "x",
         "y": [
          31882.602020263672
         ],
         "yaxis": "y"
        },
        {
         "alignmentgroup": "True",
         "customdata": [
          [
           "[TG(44:0),TG(O-45:0)]_FA14:0",
           "TAG"
          ]
         ],
         "hovertemplate": "Lipid=%{customdata[0]}<br>Transition=%{x}<br>Intensity=%{y}<br>Class=%{customdata[1]}<extra></extra>",
         "legendgroup": "[TG(44:0),TG(O-45:0)]_FA14:0",
         "marker": {
          "color": "#FF6692"
         },
         "name": "[TG(44:0),TG(O-45:0)]_FA14:0",
         "offsetgroup": "[TG(44:0),TG(O-45:0)]_FA14:0",
         "orientation": "v",
         "showlegend": true,
         "textposition": "auto",
         "type": "bar",
         "x": [
          "768.7 -> 523.5"
         ],
         "xaxis": "x",
         "y": [
          72722.04577636719
         ],
         "yaxis": "y"
        },
        {
         "alignmentgroup": "True",
         "customdata": [
          [
           "[TG(45:5)]_FA14:0",
           "TAG"
          ]
         ],
         "hovertemplate": "Lipid=%{customdata[0]}<br>Transition=%{x}<br>Intensity=%{y}<br>Class=%{customdata[1]}<extra></extra>",
         "legendgroup": "[TG(45:5)]_FA14:0",
         "marker": {
          "color": "#B6E880"
         },
         "name": "[TG(45:5)]_FA14:0",
         "offsetgroup": "[TG(45:5)]_FA14:0",
         "orientation": "v",
         "showlegend": true,
         "textposition": "auto",
         "type": "bar",
         "x": [
          "772.6 -> 527.4"
         ],
         "xaxis": "x",
         "y": [
          18579.66111755371
         ],
         "yaxis": "y"
        },
        {
         "alignmentgroup": "True",
         "customdata": [
          [
           "[TG(45:4)]_FA14:0",
           "TAG"
          ]
         ],
         "hovertemplate": "Lipid=%{customdata[0]}<br>Transition=%{x}<br>Intensity=%{y}<br>Class=%{customdata[1]}<extra></extra>",
         "legendgroup": "[TG(45:4)]_FA14:0",
         "marker": {
          "color": "#FF97FF"
         },
         "name": "[TG(45:4)]_FA14:0",
         "offsetgroup": "[TG(45:4)]_FA14:0",
         "orientation": "v",
         "showlegend": true,
         "textposition": "auto",
         "type": "bar",
         "x": [
          "774.7 -> 529.5"
         ],
         "xaxis": "x",
         "y": [
          21398.161346435547
         ],
         "yaxis": "y"
        },
        {
         "alignmentgroup": "True",
         "customdata": [
          [
           "[TG(45:3)]_FA14:0",
           "TAG"
          ]
         ],
         "hovertemplate": "Lipid=%{customdata[0]}<br>Transition=%{x}<br>Intensity=%{y}<br>Class=%{customdata[1]}<extra></extra>",
         "legendgroup": "[TG(45:3)]_FA14:0",
         "marker": {
          "color": "#FECB52"
         },
         "name": "[TG(45:3)]_FA14:0",
         "offsetgroup": "[TG(45:3)]_FA14:0",
         "orientation": "v",
         "showlegend": true,
         "textposition": "auto",
         "type": "bar",
         "x": [
          "776.7 -> 531.5"
         ],
         "xaxis": "x",
         "y": [
          18318.621307373047
         ],
         "yaxis": "y"
        },
        {
         "alignmentgroup": "True",
         "customdata": [
          [
           "[TG(45:2)]_FA14:0",
           "TAG"
          ]
         ],
         "hovertemplate": "Lipid=%{customdata[0]}<br>Transition=%{x}<br>Intensity=%{y}<br>Class=%{customdata[1]}<extra></extra>",
         "legendgroup": "[TG(45:2)]_FA14:0",
         "marker": {
          "color": "#636efa"
         },
         "name": "[TG(45:2)]_FA14:0",
         "offsetgroup": "[TG(45:2)]_FA14:0",
         "orientation": "v",
         "showlegend": true,
         "textposition": "auto",
         "type": "bar",
         "x": [
          "778.7 -> 533.5"
         ],
         "xaxis": "x",
         "y": [
          16532.841232299805
         ],
         "yaxis": "y"
        },
        {
         "alignmentgroup": "True",
         "customdata": [
          [
           "[TG(45:1)]_FA14:0",
           "TAG"
          ]
         ],
         "hovertemplate": "Lipid=%{customdata[0]}<br>Transition=%{x}<br>Intensity=%{y}<br>Class=%{customdata[1]}<extra></extra>",
         "legendgroup": "[TG(45:1)]_FA14:0",
         "marker": {
          "color": "#EF553B"
         },
         "name": "[TG(45:1)]_FA14:0",
         "offsetgroup": "[TG(45:1)]_FA14:0",
         "orientation": "v",
         "showlegend": true,
         "textposition": "auto",
         "type": "bar",
         "x": [
          "780.7 -> 535.5"
         ],
         "xaxis": "x",
         "y": [
          70729.62463378906
         ],
         "yaxis": "y"
        },
        {
         "alignmentgroup": "True",
         "customdata": [
          [
           "[TG(45:0)]_FA14:0",
           "TAG"
          ]
         ],
         "hovertemplate": "Lipid=%{customdata[0]}<br>Transition=%{x}<br>Intensity=%{y}<br>Class=%{customdata[1]}<extra></extra>",
         "legendgroup": "[TG(45:0)]_FA14:0",
         "marker": {
          "color": "#00cc96"
         },
         "name": "[TG(45:0)]_FA14:0",
         "offsetgroup": "[TG(45:0)]_FA14:0",
         "orientation": "v",
         "showlegend": true,
         "textposition": "auto",
         "type": "bar",
         "x": [
          "782.7 -> 537.5"
         ],
         "xaxis": "x",
         "y": [
          46782.86340332031
         ],
         "yaxis": "y"
        },
        {
         "alignmentgroup": "True",
         "customdata": [
          [
           "[TG(46:6)]_FA14:0",
           "TAG"
          ]
         ],
         "hovertemplate": "Lipid=%{customdata[0]}<br>Transition=%{x}<br>Intensity=%{y}<br>Class=%{customdata[1]}<extra></extra>",
         "legendgroup": "[TG(46:6)]_FA14:0",
         "marker": {
          "color": "#ab63fa"
         },
         "name": "[TG(46:6)]_FA14:0",
         "offsetgroup": "[TG(46:6)]_FA14:0",
         "orientation": "v",
         "showlegend": true,
         "textposition": "auto",
         "type": "bar",
         "x": [
          "784.6 -> 539.4"
         ],
         "xaxis": "x",
         "y": [
          20436.341217041016
         ],
         "yaxis": "y"
        },
        {
         "alignmentgroup": "True",
         "customdata": [
          [
           "[TG(46:5)]_FA14:0",
           "TAG"
          ]
         ],
         "hovertemplate": "Lipid=%{customdata[0]}<br>Transition=%{x}<br>Intensity=%{y}<br>Class=%{customdata[1]}<extra></extra>",
         "legendgroup": "[TG(46:5)]_FA14:0",
         "marker": {
          "color": "#FFA15A"
         },
         "name": "[TG(46:5)]_FA14:0",
         "offsetgroup": "[TG(46:5)]_FA14:0",
         "orientation": "v",
         "showlegend": true,
         "textposition": "auto",
         "type": "bar",
         "x": [
          "786.7 -> 541.5"
         ],
         "xaxis": "x",
         "y": [
          20286.141387939453
         ],
         "yaxis": "y"
        },
        {
         "alignmentgroup": "True",
         "customdata": [
          [
           "[TG(46:4)]_FA14:0",
           "TAG"
          ]
         ],
         "hovertemplate": "Lipid=%{customdata[0]}<br>Transition=%{x}<br>Intensity=%{y}<br>Class=%{customdata[1]}<extra></extra>",
         "legendgroup": "[TG(46:4)]_FA14:0",
         "marker": {
          "color": "#19d3f3"
         },
         "name": "[TG(46:4)]_FA14:0",
         "offsetgroup": "[TG(46:4)]_FA14:0",
         "orientation": "v",
         "showlegend": true,
         "textposition": "auto",
         "type": "bar",
         "x": [
          "788.7 -> 543.5"
         ],
         "xaxis": "x",
         "y": [
          18562.861236572266
         ],
         "yaxis": "y"
        },
        {
         "alignmentgroup": "True",
         "customdata": [
          [
           "[TG(46:3)]_FA14:0",
           "TAG"
          ]
         ],
         "hovertemplate": "Lipid=%{customdata[0]}<br>Transition=%{x}<br>Intensity=%{y}<br>Class=%{customdata[1]}<extra></extra>",
         "legendgroup": "[TG(46:3)]_FA14:0",
         "marker": {
          "color": "#FF6692"
         },
         "name": "[TG(46:3)]_FA14:0",
         "offsetgroup": "[TG(46:3)]_FA14:0",
         "orientation": "v",
         "showlegend": true,
         "textposition": "auto",
         "type": "bar",
         "x": [
          "790.7 -> 545.5"
         ],
         "xaxis": "x",
         "y": [
          20631.881439208984
         ],
         "yaxis": "y"
        },
        {
         "alignmentgroup": "True",
         "customdata": [
          [
           "[TG(46:2)]_FA14:0",
           "TAG"
          ]
         ],
         "hovertemplate": "Lipid=%{customdata[0]}<br>Transition=%{x}<br>Intensity=%{y}<br>Class=%{customdata[1]}<extra></extra>",
         "legendgroup": "[TG(46:2)]_FA14:0",
         "marker": {
          "color": "#B6E880"
         },
         "name": "[TG(46:2)]_FA14:0",
         "offsetgroup": "[TG(46:2)]_FA14:0",
         "orientation": "v",
         "showlegend": true,
         "textposition": "auto",
         "type": "bar",
         "x": [
          "792.7 -> 547.5"
         ],
         "xaxis": "x",
         "y": [
          44036.763610839844
         ],
         "yaxis": "y"
        },
        {
         "alignmentgroup": "True",
         "customdata": [
          [
           "[TG(46:1)]_FA14:0",
           "TAG"
          ]
         ],
         "hovertemplate": "Lipid=%{customdata[0]}<br>Transition=%{x}<br>Intensity=%{y}<br>Class=%{customdata[1]}<extra></extra>",
         "legendgroup": "[TG(46:1)]_FA14:0",
         "marker": {
          "color": "#FF97FF"
         },
         "name": "[TG(46:1)]_FA14:0",
         "offsetgroup": "[TG(46:1)]_FA14:0",
         "orientation": "v",
         "showlegend": true,
         "textposition": "auto",
         "type": "bar",
         "x": [
          "794.7 -> 549.5"
         ],
         "xaxis": "x",
         "y": [
          68736.06512451172
         ],
         "yaxis": "y"
        },
        {
         "alignmentgroup": "True",
         "customdata": [
          [
           "[TG(46:0)]_FA14:0",
           "TAG"
          ]
         ],
         "hovertemplate": "Lipid=%{customdata[0]}<br>Transition=%{x}<br>Intensity=%{y}<br>Class=%{customdata[1]}<extra></extra>",
         "legendgroup": "[TG(46:0)]_FA14:0",
         "marker": {
          "color": "#FECB52"
         },
         "name": "[TG(46:0)]_FA14:0",
         "offsetgroup": "[TG(46:0)]_FA14:0",
         "orientation": "v",
         "showlegend": true,
         "textposition": "auto",
         "type": "bar",
         "x": [
          "796.7 -> 551.5"
         ],
         "xaxis": "x",
         "y": [
          84029.40625
         ],
         "yaxis": "y"
        },
        {
         "alignmentgroup": "True",
         "customdata": [
          [
           "[TG(47:6)]_FA14:0",
           "TAG"
          ]
         ],
         "hovertemplate": "Lipid=%{customdata[0]}<br>Transition=%{x}<br>Intensity=%{y}<br>Class=%{customdata[1]}<extra></extra>",
         "legendgroup": "[TG(47:6)]_FA14:0",
         "marker": {
          "color": "#636efa"
         },
         "name": "[TG(47:6)]_FA14:0",
         "offsetgroup": "[TG(47:6)]_FA14:0",
         "orientation": "v",
         "showlegend": true,
         "textposition": "auto",
         "type": "bar",
         "x": [
          "798.7 -> 553.5"
         ],
         "xaxis": "x",
         "y": [
          26131.921813964844
         ],
         "yaxis": "y"
        },
        {
         "alignmentgroup": "True",
         "customdata": [
          [
           "[TG(47:5)]_FA14:0",
           "TAG"
          ]
         ],
         "hovertemplate": "Lipid=%{customdata[0]}<br>Transition=%{x}<br>Intensity=%{y}<br>Class=%{customdata[1]}<extra></extra>",
         "legendgroup": "[TG(47:5)]_FA14:0",
         "marker": {
          "color": "#EF553B"
         },
         "name": "[TG(47:5)]_FA14:0",
         "offsetgroup": "[TG(47:5)]_FA14:0",
         "orientation": "v",
         "showlegend": true,
         "textposition": "auto",
         "type": "bar",
         "x": [
          "800.7 -> 555.5"
         ],
         "xaxis": "x",
         "y": [
          20985.38151550293
         ],
         "yaxis": "y"
        },
        {
         "alignmentgroup": "True",
         "customdata": [
          [
           "[TG(47:4)]_FA14:0",
           "TAG"
          ]
         ],
         "hovertemplate": "Lipid=%{customdata[0]}<br>Transition=%{x}<br>Intensity=%{y}<br>Class=%{customdata[1]}<extra></extra>",
         "legendgroup": "[TG(47:4)]_FA14:0",
         "marker": {
          "color": "#00cc96"
         },
         "name": "[TG(47:4)]_FA14:0",
         "offsetgroup": "[TG(47:4)]_FA14:0",
         "orientation": "v",
         "showlegend": true,
         "textposition": "auto",
         "type": "bar",
         "x": [
          "802.7 -> 557.5"
         ],
         "xaxis": "x",
         "y": [
          18959.501403808594
         ],
         "yaxis": "y"
        },
        {
         "alignmentgroup": "True",
         "customdata": [
          [
           "[TG(47:3)]_FA14:0",
           "TAG"
          ]
         ],
         "hovertemplate": "Lipid=%{customdata[0]}<br>Transition=%{x}<br>Intensity=%{y}<br>Class=%{customdata[1]}<extra></extra>",
         "legendgroup": "[TG(47:3)]_FA14:0",
         "marker": {
          "color": "#ab63fa"
         },
         "name": "[TG(47:3)]_FA14:0",
         "offsetgroup": "[TG(47:3)]_FA14:0",
         "orientation": "v",
         "showlegend": true,
         "textposition": "auto",
         "type": "bar",
         "x": [
          "804.7 -> 559.5"
         ],
         "xaxis": "x",
         "y": [
          21987.14175415039
         ],
         "yaxis": "y"
        },
        {
         "alignmentgroup": "True",
         "customdata": [
          [
           "[TG(47:2)]_FA14:0",
           "TAG"
          ]
         ],
         "hovertemplate": "Lipid=%{customdata[0]}<br>Transition=%{x}<br>Intensity=%{y}<br>Class=%{customdata[1]}<extra></extra>",
         "legendgroup": "[TG(47:2)]_FA14:0",
         "marker": {
          "color": "#FFA15A"
         },
         "name": "[TG(47:2)]_FA14:0",
         "offsetgroup": "[TG(47:2)]_FA14:0",
         "orientation": "v",
         "showlegend": true,
         "textposition": "auto",
         "type": "bar",
         "x": [
          "806.7 -> 561.5"
         ],
         "xaxis": "x",
         "y": [
          24136.061737060547
         ],
         "yaxis": "y"
        },
        {
         "alignmentgroup": "True",
         "customdata": [
          [
           "[TG(48:8),TG(47:1)]_FA14:0",
           "TAG"
          ]
         ],
         "hovertemplate": "Lipid=%{customdata[0]}<br>Transition=%{x}<br>Intensity=%{y}<br>Class=%{customdata[1]}<extra></extra>",
         "legendgroup": "[TG(48:8),TG(47:1)]_FA14:0",
         "marker": {
          "color": "#19d3f3"
         },
         "name": "[TG(48:8),TG(47:1)]_FA14:0",
         "offsetgroup": "[TG(48:8),TG(47:1)]_FA14:0",
         "orientation": "v",
         "showlegend": true,
         "textposition": "auto",
         "type": "bar",
         "x": [
          "808.7 -> 563.5"
         ],
         "xaxis": "x",
         "y": [
          31395.762451171875
         ],
         "yaxis": "y"
        },
        {
         "alignmentgroup": "True",
         "customdata": [
          [
           "[TG(48:7),TG(47:0)]_FA14:0",
           "TAG"
          ]
         ],
         "hovertemplate": "Lipid=%{customdata[0]}<br>Transition=%{x}<br>Intensity=%{y}<br>Class=%{customdata[1]}<extra></extra>",
         "legendgroup": "[TG(48:7),TG(47:0)]_FA14:0",
         "marker": {
          "color": "#FF6692"
         },
         "name": "[TG(48:7),TG(47:0)]_FA14:0",
         "offsetgroup": "[TG(48:7),TG(47:0)]_FA14:0",
         "orientation": "v",
         "showlegend": true,
         "textposition": "auto",
         "type": "bar",
         "x": [
          "810.8 -> 565.6"
         ],
         "xaxis": "x",
         "y": [
          35014.362396240234
         ],
         "yaxis": "y"
        },
        {
         "alignmentgroup": "True",
         "customdata": [
          [
           "[TG(48:6)]_FA14:0",
           "TAG"
          ]
         ],
         "hovertemplate": "Lipid=%{customdata[0]}<br>Transition=%{x}<br>Intensity=%{y}<br>Class=%{customdata[1]}<extra></extra>",
         "legendgroup": "[TG(48:6)]_FA14:0",
         "marker": {
          "color": "#B6E880"
         },
         "name": "[TG(48:6)]_FA14:0",
         "offsetgroup": "[TG(48:6)]_FA14:0",
         "orientation": "v",
         "showlegend": true,
         "textposition": "auto",
         "type": "bar",
         "x": [
          "812.7 -> 567.5"
         ],
         "xaxis": "x",
         "y": [
          51366.403381347656
         ],
         "yaxis": "y"
        },
        {
         "alignmentgroup": "True",
         "customdata": [
          [
           "[TG(48:5)]_FA14:0",
           "TAG"
          ]
         ],
         "hovertemplate": "Lipid=%{customdata[0]}<br>Transition=%{x}<br>Intensity=%{y}<br>Class=%{customdata[1]}<extra></extra>",
         "legendgroup": "[TG(48:5)]_FA14:0",
         "marker": {
          "color": "#FF97FF"
         },
         "name": "[TG(48:5)]_FA14:0",
         "offsetgroup": "[TG(48:5)]_FA14:0",
         "orientation": "v",
         "showlegend": true,
         "textposition": "auto",
         "type": "bar",
         "x": [
          "814.7 -> 569.5"
         ],
         "xaxis": "x",
         "y": [
          25303.261779785156
         ],
         "yaxis": "y"
        },
        {
         "alignmentgroup": "True",
         "customdata": [
          [
           "[TG(48:4)]_FA14:0",
           "TAG"
          ]
         ],
         "hovertemplate": "Lipid=%{customdata[0]}<br>Transition=%{x}<br>Intensity=%{y}<br>Class=%{customdata[1]}<extra></extra>",
         "legendgroup": "[TG(48:4)]_FA14:0",
         "marker": {
          "color": "#FECB52"
         },
         "name": "[TG(48:4)]_FA14:0",
         "offsetgroup": "[TG(48:4)]_FA14:0",
         "orientation": "v",
         "showlegend": true,
         "textposition": "auto",
         "type": "bar",
         "x": [
          "816.7 -> 571.5"
         ],
         "xaxis": "x",
         "y": [
          23539.601623535156
         ],
         "yaxis": "y"
        },
        {
         "alignmentgroup": "True",
         "customdata": [
          [
           "[TG(48:3)]_FA14:0",
           "TAG"
          ]
         ],
         "hovertemplate": "Lipid=%{customdata[0]}<br>Transition=%{x}<br>Intensity=%{y}<br>Class=%{customdata[1]}<extra></extra>",
         "legendgroup": "[TG(48:3)]_FA14:0",
         "marker": {
          "color": "#636efa"
         },
         "name": "[TG(48:3)]_FA14:0",
         "offsetgroup": "[TG(48:3)]_FA14:0",
         "orientation": "v",
         "showlegend": true,
         "textposition": "auto",
         "type": "bar",
         "x": [
          "818.7 -> 573.5"
         ],
         "xaxis": "x",
         "y": [
          82808.48538208008
         ],
         "yaxis": "y"
        },
        {
         "alignmentgroup": "True",
         "customdata": [
          [
           "[TG(48:2)]_FA14:0",
           "TAG"
          ]
         ],
         "hovertemplate": "Lipid=%{customdata[0]}<br>Transition=%{x}<br>Intensity=%{y}<br>Class=%{customdata[1]}<extra></extra>",
         "legendgroup": "[TG(48:2)]_FA14:0",
         "marker": {
          "color": "#EF553B"
         },
         "name": "[TG(48:2)]_FA14:0",
         "offsetgroup": "[TG(48:2)]_FA14:0",
         "orientation": "v",
         "showlegend": true,
         "textposition": "auto",
         "type": "bar",
         "x": [
          "820.7 -> 575.5"
         ],
         "xaxis": "x",
         "y": [
          286373.7007446289
         ],
         "yaxis": "y"
        },
        {
         "alignmentgroup": "True",
         "customdata": [
          [
           "[TG(49:8),TG(48:1)]_FA14:0",
           "TAG"
          ]
         ],
         "hovertemplate": "Lipid=%{customdata[0]}<br>Transition=%{x}<br>Intensity=%{y}<br>Class=%{customdata[1]}<extra></extra>",
         "legendgroup": "[TG(49:8),TG(48:1)]_FA14:0",
         "marker": {
          "color": "#00cc96"
         },
         "name": "[TG(49:8),TG(48:1)]_FA14:0",
         "offsetgroup": "[TG(49:8),TG(48:1)]_FA14:0",
         "orientation": "v",
         "showlegend": true,
         "textposition": "auto",
         "type": "bar",
         "x": [
          "822.8 -> 577.6"
         ],
         "xaxis": "x",
         "y": [
          333579.6123046875
         ],
         "yaxis": "y"
        },
        {
         "alignmentgroup": "True",
         "customdata": [
          [
           "[TG(49:7),TG(48:0)]_FA14:0",
           "TAG"
          ]
         ],
         "hovertemplate": "Lipid=%{customdata[0]}<br>Transition=%{x}<br>Intensity=%{y}<br>Class=%{customdata[1]}<extra></extra>",
         "legendgroup": "[TG(49:7),TG(48:0)]_FA14:0",
         "marker": {
          "color": "#ab63fa"
         },
         "name": "[TG(49:7),TG(48:0)]_FA14:0",
         "offsetgroup": "[TG(49:7),TG(48:0)]_FA14:0",
         "orientation": "v",
         "showlegend": true,
         "textposition": "auto",
         "type": "bar",
         "x": [
          "824.8 -> 579.6"
         ],
         "xaxis": "x",
         "y": [
          80859.20629882812
         ],
         "yaxis": "y"
        },
        {
         "alignmentgroup": "True",
         "customdata": [
          [
           "[TG(49:6)]_FA14:0",
           "TAG"
          ]
         ],
         "hovertemplate": "Lipid=%{customdata[0]}<br>Transition=%{x}<br>Intensity=%{y}<br>Class=%{customdata[1]}<extra></extra>",
         "legendgroup": "[TG(49:6)]_FA14:0",
         "marker": {
          "color": "#FFA15A"
         },
         "name": "[TG(49:6)]_FA14:0",
         "offsetgroup": "[TG(49:6)]_FA14:0",
         "orientation": "v",
         "showlegend": true,
         "textposition": "auto",
         "type": "bar",
         "x": [
          "826.7 -> 581.5"
         ],
         "xaxis": "x",
         "y": [
          29734.44223022461
         ],
         "yaxis": "y"
        },
        {
         "alignmentgroup": "True",
         "customdata": [
          [
           "[TG(49:5)]_FA14:0",
           "TAG"
          ]
         ],
         "hovertemplate": "Lipid=%{customdata[0]}<br>Transition=%{x}<br>Intensity=%{y}<br>Class=%{customdata[1]}<extra></extra>",
         "legendgroup": "[TG(49:5)]_FA14:0",
         "marker": {
          "color": "#19d3f3"
         },
         "name": "[TG(49:5)]_FA14:0",
         "offsetgroup": "[TG(49:5)]_FA14:0",
         "orientation": "v",
         "showlegend": true,
         "textposition": "auto",
         "type": "bar",
         "x": [
          "828.7 -> 583.5"
         ],
         "xaxis": "x",
         "y": [
          22083.261352539062
         ],
         "yaxis": "y"
        },
        {
         "alignmentgroup": "True",
         "customdata": [
          [
           "STD_15:0-18:1(d7)-15:0 TAG",
           "STD_15:0-18:1(d7)-15:0 TAG"
          ]
         ],
         "hovertemplate": "Lipid=%{customdata[0]}<br>Transition=%{x}<br>Intensity=%{y}<br>Class=%{customdata[1]}<extra></extra>",
         "legendgroup": "STD_15:0-18:1(d7)-15:0 TAG",
         "marker": {
          "color": "#FF6692"
         },
         "name": "STD_15:0-18:1(d7)-15:0 TAG",
         "offsetgroup": "STD_15:0-18:1(d7)-15:0 TAG",
         "orientation": "v",
         "showlegend": true,
         "textposition": "auto",
         "type": "bar",
         "x": [
          "829.8 -> 570.4"
         ],
         "xaxis": "x",
         "y": [
          33835.302642822266
         ],
         "yaxis": "y"
        },
        {
         "alignmentgroup": "True",
         "customdata": [
          [
           "[TG(49:4)]_FA14:0",
           "TAG"
          ]
         ],
         "hovertemplate": "Lipid=%{customdata[0]}<br>Transition=%{x}<br>Intensity=%{y}<br>Class=%{customdata[1]}<extra></extra>",
         "legendgroup": "[TG(49:4)]_FA14:0",
         "marker": {
          "color": "#B6E880"
         },
         "name": "[TG(49:4)]_FA14:0",
         "offsetgroup": "[TG(49:4)]_FA14:0",
         "orientation": "v",
         "showlegend": true,
         "textposition": "auto",
         "type": "bar",
         "x": [
          "830.7 -> 585.5"
         ],
         "xaxis": "x",
         "y": [
          22096.821563720703
         ],
         "yaxis": "y"
        },
        {
         "alignmentgroup": "True",
         "customdata": [
          [
           "[TG(49:3)]_FA14:0",
           "TAG"
          ]
         ],
         "hovertemplate": "Lipid=%{customdata[0]}<br>Transition=%{x}<br>Intensity=%{y}<br>Class=%{customdata[1]}<extra></extra>",
         "legendgroup": "[TG(49:3)]_FA14:0",
         "marker": {
          "color": "#FF97FF"
         },
         "name": "[TG(49:3)]_FA14:0",
         "offsetgroup": "[TG(49:3)]_FA14:0",
         "orientation": "v",
         "showlegend": true,
         "textposition": "auto",
         "type": "bar",
         "x": [
          "832.7 -> 587.5"
         ],
         "xaxis": "x",
         "y": [
          26063.061752319336
         ],
         "yaxis": "y"
        },
        {
         "alignmentgroup": "True",
         "customdata": [
          [
           "[TG(50:9),TG(49:2)]_FA14:0",
           "TAG"
          ]
         ],
         "hovertemplate": "Lipid=%{customdata[0]}<br>Transition=%{x}<br>Intensity=%{y}<br>Class=%{customdata[1]}<extra></extra>",
         "legendgroup": "[TG(50:9),TG(49:2)]_FA14:0",
         "marker": {
          "color": "#FECB52"
         },
         "name": "[TG(50:9),TG(49:2)]_FA14:0",
         "offsetgroup": "[TG(50:9),TG(49:2)]_FA14:0",
         "orientation": "v",
         "showlegend": true,
         "textposition": "auto",
         "type": "bar",
         "x": [
          "834.8 -> 589.6"
         ],
         "xaxis": "x",
         "y": [
          29320.561981201172
         ],
         "yaxis": "y"
        },
        {
         "alignmentgroup": "True",
         "customdata": [
          [
           "[TG(50:8),TG(49:1)]_FA14:0",
           "TAG"
          ]
         ],
         "hovertemplate": "Lipid=%{customdata[0]}<br>Transition=%{x}<br>Intensity=%{y}<br>Class=%{customdata[1]}<extra></extra>",
         "legendgroup": "[TG(50:8),TG(49:1)]_FA14:0",
         "marker": {
          "color": "#636efa"
         },
         "name": "[TG(50:8),TG(49:1)]_FA14:0",
         "offsetgroup": "[TG(50:8),TG(49:1)]_FA14:0",
         "orientation": "v",
         "showlegend": true,
         "textposition": "auto",
         "type": "bar",
         "x": [
          "836.8 -> 591.6"
         ],
         "xaxis": "x",
         "y": [
          37507.4225769043
         ],
         "yaxis": "y"
        },
        {
         "alignmentgroup": "True",
         "customdata": [
          [
           "[TG(50:7),TG(49:0)]_FA14:0",
           "TAG"
          ]
         ],
         "hovertemplate": "Lipid=%{customdata[0]}<br>Transition=%{x}<br>Intensity=%{y}<br>Class=%{customdata[1]}<extra></extra>",
         "legendgroup": "[TG(50:7),TG(49:0)]_FA14:0",
         "marker": {
          "color": "#EF553B"
         },
         "name": "[TG(50:7),TG(49:0)]_FA14:0",
         "offsetgroup": "[TG(50:7),TG(49:0)]_FA14:0",
         "orientation": "v",
         "showlegend": true,
         "textposition": "auto",
         "type": "bar",
         "x": [
          "838.8 -> 593.6"
         ],
         "xaxis": "x",
         "y": [
          34488.222259521484
         ],
         "yaxis": "y"
        },
        {
         "alignmentgroup": "True",
         "customdata": [
          [
           "[TG(50:6)]_FA14:0",
           "TAG"
          ]
         ],
         "hovertemplate": "Lipid=%{customdata[0]}<br>Transition=%{x}<br>Intensity=%{y}<br>Class=%{customdata[1]}<extra></extra>",
         "legendgroup": "[TG(50:6)]_FA14:0",
         "marker": {
          "color": "#00cc96"
         },
         "name": "[TG(50:6)]_FA14:0",
         "offsetgroup": "[TG(50:6)]_FA14:0",
         "orientation": "v",
         "showlegend": true,
         "textposition": "auto",
         "type": "bar",
         "x": [
          "840.7 -> 595.5"
         ],
         "xaxis": "x",
         "y": [
          29315.282165527344
         ],
         "yaxis": "y"
        },
        {
         "alignmentgroup": "True",
         "customdata": [
          [
           "[TG(50:5)]_FA14:0",
           "TAG"
          ]
         ],
         "hovertemplate": "Lipid=%{customdata[0]}<br>Transition=%{x}<br>Intensity=%{y}<br>Class=%{customdata[1]}<extra></extra>",
         "legendgroup": "[TG(50:5)]_FA14:0",
         "marker": {
          "color": "#ab63fa"
         },
         "name": "[TG(50:5)]_FA14:0",
         "offsetgroup": "[TG(50:5)]_FA14:0",
         "orientation": "v",
         "showlegend": true,
         "textposition": "auto",
         "type": "bar",
         "x": [
          "842.7 -> 597.5"
         ],
         "xaxis": "x",
         "y": [
          35932.222259521484
         ],
         "yaxis": "y"
        },
        {
         "alignmentgroup": "True",
         "customdata": [
          [
           "[TG(50:4)]_FA14:0",
           "TAG"
          ]
         ],
         "hovertemplate": "Lipid=%{customdata[0]}<br>Transition=%{x}<br>Intensity=%{y}<br>Class=%{customdata[1]}<extra></extra>",
         "legendgroup": "[TG(50:4)]_FA14:0",
         "marker": {
          "color": "#FFA15A"
         },
         "name": "[TG(50:4)]_FA14:0",
         "offsetgroup": "[TG(50:4)]_FA14:0",
         "orientation": "v",
         "showlegend": true,
         "textposition": "auto",
         "type": "bar",
         "x": [
          "844.7 -> 599.5"
         ],
         "xaxis": "x",
         "y": [
          126118.92807006836
         ],
         "yaxis": "y"
        },
        {
         "alignmentgroup": "True",
         "customdata": [
          [
           "[TG(50:3)]_FA14:0",
           "TAG"
          ]
         ],
         "hovertemplate": "Lipid=%{customdata[0]}<br>Transition=%{x}<br>Intensity=%{y}<br>Class=%{customdata[1]}<extra></extra>",
         "legendgroup": "[TG(50:3)]_FA14:0",
         "marker": {
          "color": "#19d3f3"
         },
         "name": "[TG(50:3)]_FA14:0",
         "offsetgroup": "[TG(50:3)]_FA14:0",
         "orientation": "v",
         "showlegend": true,
         "textposition": "auto",
         "type": "bar",
         "x": [
          "846.8 -> 601.6"
         ],
         "xaxis": "x",
         "y": [
          432169.33502197266
         ],
         "yaxis": "y"
        },
        {
         "alignmentgroup": "True",
         "customdata": [
          [
           "[TG(51:9),TG(50:2)]_FA14:0",
           "TAG"
          ]
         ],
         "hovertemplate": "Lipid=%{customdata[0]}<br>Transition=%{x}<br>Intensity=%{y}<br>Class=%{customdata[1]}<extra></extra>",
         "legendgroup": "[TG(51:9),TG(50:2)]_FA14:0",
         "marker": {
          "color": "#FF6692"
         },
         "name": "[TG(51:9),TG(50:2)]_FA14:0",
         "offsetgroup": "[TG(51:9),TG(50:2)]_FA14:0",
         "orientation": "v",
         "showlegend": true,
         "textposition": "auto",
         "type": "bar",
         "x": [
          "848.8 -> 603.6"
         ],
         "xaxis": "x",
         "y": [
          501185.328125
         ],
         "yaxis": "y"
        },
        {
         "alignmentgroup": "True",
         "customdata": [
          [
           "[TG(51:8),TG(50:1)]_FA14:0",
           "TAG"
          ]
         ],
         "hovertemplate": "Lipid=%{customdata[0]}<br>Transition=%{x}<br>Intensity=%{y}<br>Class=%{customdata[1]}<extra></extra>",
         "legendgroup": "[TG(51:8),TG(50:1)]_FA14:0",
         "marker": {
          "color": "#B6E880"
         },
         "name": "[TG(51:8),TG(50:1)]_FA14:0",
         "offsetgroup": "[TG(51:8),TG(50:1)]_FA14:0",
         "orientation": "v",
         "showlegend": true,
         "textposition": "auto",
         "type": "bar",
         "x": [
          "850.8 -> 605.6"
         ],
         "xaxis": "x",
         "y": [
          86953.32531738281
         ],
         "yaxis": "y"
        },
        {
         "alignmentgroup": "True",
         "customdata": [
          [
           "[TG(51:7),TG(50:0)]_FA14:0",
           "TAG"
          ]
         ],
         "hovertemplate": "Lipid=%{customdata[0]}<br>Transition=%{x}<br>Intensity=%{y}<br>Class=%{customdata[1]}<extra></extra>",
         "legendgroup": "[TG(51:7),TG(50:0)]_FA14:0",
         "marker": {
          "color": "#FF97FF"
         },
         "name": "[TG(51:7),TG(50:0)]_FA14:0",
         "offsetgroup": "[TG(51:7),TG(50:0)]_FA14:0",
         "orientation": "v",
         "showlegend": true,
         "textposition": "auto",
         "type": "bar",
         "x": [
          "852.8 -> 607.6"
         ],
         "xaxis": "x",
         "y": [
          36228.10238647461
         ],
         "yaxis": "y"
        },
        {
         "alignmentgroup": "True",
         "customdata": [
          [
           "[TG(51:6)]_FA14:0",
           "TAG"
          ]
         ],
         "hovertemplate": "Lipid=%{customdata[0]}<br>Transition=%{x}<br>Intensity=%{y}<br>Class=%{customdata[1]}<extra></extra>",
         "legendgroup": "[TG(51:6)]_FA14:0",
         "marker": {
          "color": "#FECB52"
         },
         "name": "[TG(51:6)]_FA14:0",
         "offsetgroup": "[TG(51:6)]_FA14:0",
         "orientation": "v",
         "showlegend": true,
         "textposition": "auto",
         "type": "bar",
         "x": [
          "854.7 -> 609.5"
         ],
         "xaxis": "x",
         "y": [
          49931.743591308594
         ],
         "yaxis": "y"
        },
        {
         "alignmentgroup": "True",
         "customdata": [
          [
           "[TG(51:5)]_FA14:0",
           "TAG"
          ]
         ],
         "hovertemplate": "Lipid=%{customdata[0]}<br>Transition=%{x}<br>Intensity=%{y}<br>Class=%{customdata[1]}<extra></extra>",
         "legendgroup": "[TG(51:5)]_FA14:0",
         "marker": {
          "color": "#636efa"
         },
         "name": "[TG(51:5)]_FA14:0",
         "offsetgroup": "[TG(51:5)]_FA14:0",
         "orientation": "v",
         "showlegend": true,
         "textposition": "auto",
         "type": "bar",
         "x": [
          "856.7 -> 611.5"
         ],
         "xaxis": "x",
         "y": [
          23814.681854248047
         ],
         "yaxis": "y"
        },
        {
         "alignmentgroup": "True",
         "customdata": [
          [
           "[TG(51:4)]_FA14:0",
           "TAG"
          ]
         ],
         "hovertemplate": "Lipid=%{customdata[0]}<br>Transition=%{x}<br>Intensity=%{y}<br>Class=%{customdata[1]}<extra></extra>",
         "legendgroup": "[TG(51:4)]_FA14:0",
         "marker": {
          "color": "#EF553B"
         },
         "name": "[TG(51:4)]_FA14:0",
         "offsetgroup": "[TG(51:4)]_FA14:0",
         "orientation": "v",
         "showlegend": true,
         "textposition": "auto",
         "type": "bar",
         "x": [
          "858.8 -> 613.6"
         ],
         "xaxis": "x",
         "y": [
          23092.781524658203
         ],
         "yaxis": "y"
        },
        {
         "alignmentgroup": "True",
         "customdata": [
          [
           "[TG(52:10),TG(51:3)]_FA14:0",
           "TAG"
          ]
         ],
         "hovertemplate": "Lipid=%{customdata[0]}<br>Transition=%{x}<br>Intensity=%{y}<br>Class=%{customdata[1]}<extra></extra>",
         "legendgroup": "[TG(52:10),TG(51:3)]_FA14:0",
         "marker": {
          "color": "#00cc96"
         },
         "name": "[TG(52:10),TG(51:3)]_FA14:0",
         "offsetgroup": "[TG(52:10),TG(51:3)]_FA14:0",
         "orientation": "v",
         "showlegend": true,
         "textposition": "auto",
         "type": "bar",
         "x": [
          "860.8 -> 615.6"
         ],
         "xaxis": "x",
         "y": [
          28172.081909179688
         ],
         "yaxis": "y"
        },
        {
         "alignmentgroup": "True",
         "customdata": [
          [
           "[TG(52:9),TG(51:2)]_FA14:0",
           "TAG"
          ]
         ],
         "hovertemplate": "Lipid=%{customdata[0]}<br>Transition=%{x}<br>Intensity=%{y}<br>Class=%{customdata[1]}<extra></extra>",
         "legendgroup": "[TG(52:9),TG(51:2)]_FA14:0",
         "marker": {
          "color": "#ab63fa"
         },
         "name": "[TG(52:9),TG(51:2)]_FA14:0",
         "offsetgroup": "[TG(52:9),TG(51:2)]_FA14:0",
         "orientation": "v",
         "showlegend": true,
         "textposition": "auto",
         "type": "bar",
         "x": [
          "862.8 -> 617.6"
         ],
         "xaxis": "x",
         "y": [
          41892.44287109375
         ],
         "yaxis": "y"
        },
        {
         "alignmentgroup": "True",
         "customdata": [
          [
           "[TG(52:8),TG(51:1)]_FA14:0",
           "TAG"
          ]
         ],
         "hovertemplate": "Lipid=%{customdata[0]}<br>Transition=%{x}<br>Intensity=%{y}<br>Class=%{customdata[1]}<extra></extra>",
         "legendgroup": "[TG(52:8),TG(51:1)]_FA14:0",
         "marker": {
          "color": "#FFA15A"
         },
         "name": "[TG(52:8),TG(51:1)]_FA14:0",
         "offsetgroup": "[TG(52:8),TG(51:1)]_FA14:0",
         "orientation": "v",
         "showlegend": true,
         "textposition": "auto",
         "type": "bar",
         "x": [
          "864.8 -> 619.6"
         ],
         "xaxis": "x",
         "y": [
          46549.702728271484
         ],
         "yaxis": "y"
        },
        {
         "alignmentgroup": "True",
         "customdata": [
          [
           "[TG(52:7),TG(51:0)]_FA14:0",
           "TAG"
          ]
         ],
         "hovertemplate": "Lipid=%{customdata[0]}<br>Transition=%{x}<br>Intensity=%{y}<br>Class=%{customdata[1]}<extra></extra>",
         "legendgroup": "[TG(52:7),TG(51:0)]_FA14:0",
         "marker": {
          "color": "#19d3f3"
         },
         "name": "[TG(52:7),TG(51:0)]_FA14:0",
         "offsetgroup": "[TG(52:7),TG(51:0)]_FA14:0",
         "orientation": "v",
         "showlegend": true,
         "textposition": "auto",
         "type": "bar",
         "x": [
          "866.8 -> 621.6"
         ],
         "xaxis": "x",
         "y": [
          34083.9026184082
         ],
         "yaxis": "y"
        },
        {
         "alignmentgroup": "True",
         "customdata": [
          [
           "[TG(52:6)]_FA14:0",
           "TAG"
          ]
         ],
         "hovertemplate": "Lipid=%{customdata[0]}<br>Transition=%{x}<br>Intensity=%{y}<br>Class=%{customdata[1]}<extra></extra>",
         "legendgroup": "[TG(52:6)]_FA14:0",
         "marker": {
          "color": "#FF6692"
         },
         "name": "[TG(52:6)]_FA14:0",
         "offsetgroup": "[TG(52:6)]_FA14:0",
         "orientation": "v",
         "showlegend": true,
         "textposition": "auto",
         "type": "bar",
         "x": [
          "868.7 -> 623.5"
         ],
         "xaxis": "x",
         "y": [
          40384.46292114258
         ],
         "yaxis": "y"
        },
        {
         "alignmentgroup": "True",
         "customdata": [
          [
           "[TG(52:5)]_FA14:0",
           "TAG"
          ]
         ],
         "hovertemplate": "Lipid=%{customdata[0]}<br>Transition=%{x}<br>Intensity=%{y}<br>Class=%{customdata[1]}<extra></extra>",
         "legendgroup": "[TG(52:5)]_FA14:0",
         "marker": {
          "color": "#B6E880"
         },
         "name": "[TG(52:5)]_FA14:0",
         "offsetgroup": "[TG(52:5)]_FA14:0",
         "orientation": "v",
         "showlegend": true,
         "textposition": "auto",
         "type": "bar",
         "x": [
          "870.8 -> 625.6"
         ],
         "xaxis": "x",
         "y": [
          44110.603759765625
         ],
         "yaxis": "y"
        },
        {
         "alignmentgroup": "True",
         "customdata": [
          [
           "[TG(52:4)]_FA14:0",
           "TAG"
          ]
         ],
         "hovertemplate": "Lipid=%{customdata[0]}<br>Transition=%{x}<br>Intensity=%{y}<br>Class=%{customdata[1]}<extra></extra>",
         "legendgroup": "[TG(52:4)]_FA14:0",
         "marker": {
          "color": "#FF97FF"
         },
         "name": "[TG(52:4)]_FA14:0",
         "offsetgroup": "[TG(52:4)]_FA14:0",
         "orientation": "v",
         "showlegend": true,
         "textposition": "auto",
         "type": "bar",
         "x": [
          "872.8 -> 627.6"
         ],
         "xaxis": "x",
         "y": [
          42770.922912597656
         ],
         "yaxis": "y"
        },
        {
         "alignmentgroup": "True",
         "customdata": [
          [
           "[TG(53:10),TG(52:3)]_FA14:0",
           "TAG"
          ]
         ],
         "hovertemplate": "Lipid=%{customdata[0]}<br>Transition=%{x}<br>Intensity=%{y}<br>Class=%{customdata[1]}<extra></extra>",
         "legendgroup": "[TG(53:10),TG(52:3)]_FA14:0",
         "marker": {
          "color": "#FECB52"
         },
         "name": "[TG(53:10),TG(52:3)]_FA14:0",
         "offsetgroup": "[TG(53:10),TG(52:3)]_FA14:0",
         "orientation": "v",
         "showlegend": true,
         "textposition": "auto",
         "type": "bar",
         "x": [
          "874.8 -> 629.6"
         ],
         "xaxis": "x",
         "y": [
          53848.18371582031
         ],
         "yaxis": "y"
        },
        {
         "alignmentgroup": "True",
         "customdata": [
          [
           "[TG(53:9),TG(52:2)]_FA14:0",
           "TAG"
          ]
         ],
         "hovertemplate": "Lipid=%{customdata[0]}<br>Transition=%{x}<br>Intensity=%{y}<br>Class=%{customdata[1]}<extra></extra>",
         "legendgroup": "[TG(53:9),TG(52:2)]_FA14:0",
         "marker": {
          "color": "#636efa"
         },
         "name": "[TG(53:9),TG(52:2)]_FA14:0",
         "offsetgroup": "[TG(53:9),TG(52:2)]_FA14:0",
         "orientation": "v",
         "showlegend": true,
         "textposition": "auto",
         "type": "bar",
         "x": [
          "876.8 -> 631.6"
         ],
         "xaxis": "x",
         "y": [
          56664.44418334961
         ],
         "yaxis": "y"
        },
        {
         "alignmentgroup": "True",
         "customdata": [
          [
           "[TG(53:8),TG(52:1)]_FA14:0",
           "TAG"
          ]
         ],
         "hovertemplate": "Lipid=%{customdata[0]}<br>Transition=%{x}<br>Intensity=%{y}<br>Class=%{customdata[1]}<extra></extra>",
         "legendgroup": "[TG(53:8),TG(52:1)]_FA14:0",
         "marker": {
          "color": "#EF553B"
         },
         "name": "[TG(53:8),TG(52:1)]_FA14:0",
         "offsetgroup": "[TG(53:8),TG(52:1)]_FA14:0",
         "orientation": "v",
         "showlegend": true,
         "textposition": "auto",
         "type": "bar",
         "x": [
          "878.8 -> 633.6"
         ],
         "xaxis": "x",
         "y": [
          47311.622985839844
         ],
         "yaxis": "y"
        },
        {
         "alignmentgroup": "True",
         "customdata": [
          [
           "[TG(53:7),TG(52:0)]_FA14:0",
           "TAG"
          ]
         ],
         "hovertemplate": "Lipid=%{customdata[0]}<br>Transition=%{x}<br>Intensity=%{y}<br>Class=%{customdata[1]}<extra></extra>",
         "legendgroup": "[TG(53:7),TG(52:0)]_FA14:0",
         "marker": {
          "color": "#00cc96"
         },
         "name": "[TG(53:7),TG(52:0)]_FA14:0",
         "offsetgroup": "[TG(53:7),TG(52:0)]_FA14:0",
         "orientation": "v",
         "showlegend": true,
         "textposition": "auto",
         "type": "bar",
         "x": [
          "880.8 -> 635.6"
         ],
         "xaxis": "x",
         "y": [
          30805.982299804688
         ],
         "yaxis": "y"
        },
        {
         "alignmentgroup": "True",
         "customdata": [
          [
           "[TG(53:6)]_FA14:0",
           "TAG"
          ]
         ],
         "hovertemplate": "Lipid=%{customdata[0]}<br>Transition=%{x}<br>Intensity=%{y}<br>Class=%{customdata[1]}<extra></extra>",
         "legendgroup": "[TG(53:6)]_FA14:0",
         "marker": {
          "color": "#ab63fa"
         },
         "name": "[TG(53:6)]_FA14:0",
         "offsetgroup": "[TG(53:6)]_FA14:0",
         "orientation": "v",
         "showlegend": true,
         "textposition": "auto",
         "type": "bar",
         "x": [
          "882.8 -> 637.6"
         ],
         "xaxis": "x",
         "y": [
          26174.721771240234
         ],
         "yaxis": "y"
        },
        {
         "alignmentgroup": "True",
         "customdata": [
          [
           "[TG(54:12),TG(53:5)]_FA14:0",
           "TAG"
          ]
         ],
         "hovertemplate": "Lipid=%{customdata[0]}<br>Transition=%{x}<br>Intensity=%{y}<br>Class=%{customdata[1]}<extra></extra>",
         "legendgroup": "[TG(54:12),TG(53:5)]_FA14:0",
         "marker": {
          "color": "#FFA15A"
         },
         "name": "[TG(54:12),TG(53:5)]_FA14:0",
         "offsetgroup": "[TG(54:12),TG(53:5)]_FA14:0",
         "orientation": "v",
         "showlegend": true,
         "textposition": "auto",
         "type": "bar",
         "x": [
          "884.8 -> 639.6"
         ],
         "xaxis": "x",
         "y": [
          25399.10171508789
         ],
         "yaxis": "y"
        },
        {
         "alignmentgroup": "True",
         "customdata": [
          [
           "[TG(54:11),TG(53:4)]_FA14:0",
           "TAG"
          ]
         ],
         "hovertemplate": "Lipid=%{customdata[0]}<br>Transition=%{x}<br>Intensity=%{y}<br>Class=%{customdata[1]}<extra></extra>",
         "legendgroup": "[TG(54:11),TG(53:4)]_FA14:0",
         "marker": {
          "color": "#19d3f3"
         },
         "name": "[TG(54:11),TG(53:4)]_FA14:0",
         "offsetgroup": "[TG(54:11),TG(53:4)]_FA14:0",
         "orientation": "v",
         "showlegend": true,
         "textposition": "auto",
         "type": "bar",
         "x": [
          "886.8 -> 641.6"
         ],
         "xaxis": "x",
         "y": [
          25004.141693115234
         ],
         "yaxis": "y"
        },
        {
         "alignmentgroup": "True",
         "customdata": [
          [
           "[TG(54:10),TG(53:3)]_FA14:0",
           "TAG"
          ]
         ],
         "hovertemplate": "Lipid=%{customdata[0]}<br>Transition=%{x}<br>Intensity=%{y}<br>Class=%{customdata[1]}<extra></extra>",
         "legendgroup": "[TG(54:10),TG(53:3)]_FA14:0",
         "marker": {
          "color": "#FF6692"
         },
         "name": "[TG(54:10),TG(53:3)]_FA14:0",
         "offsetgroup": "[TG(54:10),TG(53:3)]_FA14:0",
         "orientation": "v",
         "showlegend": true,
         "textposition": "auto",
         "type": "bar",
         "x": [
          "888.8 -> 643.6"
         ],
         "xaxis": "x",
         "y": [
          31147.182556152344
         ],
         "yaxis": "y"
        },
        {
         "alignmentgroup": "True",
         "customdata": [
          [
           "[TG(54:9),TG(53:2)]_FA14:0",
           "TAG"
          ]
         ],
         "hovertemplate": "Lipid=%{customdata[0]}<br>Transition=%{x}<br>Intensity=%{y}<br>Class=%{customdata[1]}<extra></extra>",
         "legendgroup": "[TG(54:9),TG(53:2)]_FA14:0",
         "marker": {
          "color": "#B6E880"
         },
         "name": "[TG(54:9),TG(53:2)]_FA14:0",
         "offsetgroup": "[TG(54:9),TG(53:2)]_FA14:0",
         "orientation": "v",
         "showlegend": true,
         "textposition": "auto",
         "type": "bar",
         "x": [
          "890.8 -> 645.6"
         ],
         "xaxis": "x",
         "y": [
          38980.08303833008
         ],
         "yaxis": "y"
        },
        {
         "alignmentgroup": "True",
         "customdata": [
          [
           "[TG(54:8),TG(53:1)]_FA14:0",
           "TAG"
          ]
         ],
         "hovertemplate": "Lipid=%{customdata[0]}<br>Transition=%{x}<br>Intensity=%{y}<br>Class=%{customdata[1]}<extra></extra>",
         "legendgroup": "[TG(54:8),TG(53:1)]_FA14:0",
         "marker": {
          "color": "#FF97FF"
         },
         "name": "[TG(54:8),TG(53:1)]_FA14:0",
         "offsetgroup": "[TG(54:8),TG(53:1)]_FA14:0",
         "orientation": "v",
         "showlegend": true,
         "textposition": "auto",
         "type": "bar",
         "x": [
          "892.8 -> 647.6"
         ],
         "xaxis": "x",
         "y": [
          46906.80307006836
         ],
         "yaxis": "y"
        },
        {
         "alignmentgroup": "True",
         "customdata": [
          [
           "[TG(54:7),TG(53:0)]_FA14:0",
           "TAG"
          ]
         ],
         "hovertemplate": "Lipid=%{customdata[0]}<br>Transition=%{x}<br>Intensity=%{y}<br>Class=%{customdata[1]}<extra></extra>",
         "legendgroup": "[TG(54:7),TG(53:0)]_FA14:0",
         "marker": {
          "color": "#FECB52"
         },
         "name": "[TG(54:7),TG(53:0)]_FA14:0",
         "offsetgroup": "[TG(54:7),TG(53:0)]_FA14:0",
         "orientation": "v",
         "showlegend": true,
         "textposition": "auto",
         "type": "bar",
         "x": [
          "894.8 -> 649.6"
         ],
         "xaxis": "x",
         "y": [
          38897.4231262207
         ],
         "yaxis": "y"
        },
        {
         "alignmentgroup": "True",
         "customdata": [
          [
           "[TG(54:6)]_FA14:0",
           "TAG"
          ]
         ],
         "hovertemplate": "Lipid=%{customdata[0]}<br>Transition=%{x}<br>Intensity=%{y}<br>Class=%{customdata[1]}<extra></extra>",
         "legendgroup": "[TG(54:6)]_FA14:0",
         "marker": {
          "color": "#636efa"
         },
         "name": "[TG(54:6)]_FA14:0",
         "offsetgroup": "[TG(54:6)]_FA14:0",
         "orientation": "v",
         "showlegend": true,
         "textposition": "auto",
         "type": "bar",
         "x": [
          "896.8 -> 651.6"
         ],
         "xaxis": "x",
         "y": [
          73665.94470214844
         ],
         "yaxis": "y"
        },
        {
         "alignmentgroup": "True",
         "customdata": [
          [
           "[TG(54:5)]_FA14:0",
           "TAG"
          ]
         ],
         "hovertemplate": "Lipid=%{customdata[0]}<br>Transition=%{x}<br>Intensity=%{y}<br>Class=%{customdata[1]}<extra></extra>",
         "legendgroup": "[TG(54:5)]_FA14:0",
         "marker": {
          "color": "#EF553B"
         },
         "name": "[TG(54:5)]_FA14:0",
         "offsetgroup": "[TG(54:5)]_FA14:0",
         "orientation": "v",
         "showlegend": true,
         "textposition": "auto",
         "type": "bar",
         "x": [
          "898.8 -> 653.6"
         ],
         "xaxis": "x",
         "y": [
          41898.76268005371
         ],
         "yaxis": "y"
        },
        {
         "alignmentgroup": "True",
         "customdata": [
          [
           "[TG(55:11),TG(54:4)]_FA14:0",
           "TAG"
          ]
         ],
         "hovertemplate": "Lipid=%{customdata[0]}<br>Transition=%{x}<br>Intensity=%{y}<br>Class=%{customdata[1]}<extra></extra>",
         "legendgroup": "[TG(55:11),TG(54:4)]_FA14:0",
         "marker": {
          "color": "#00cc96"
         },
         "name": "[TG(55:11),TG(54:4)]_FA14:0",
         "offsetgroup": "[TG(55:11),TG(54:4)]_FA14:0",
         "orientation": "v",
         "showlegend": true,
         "textposition": "auto",
         "type": "bar",
         "x": [
          "900.8 -> 655.6"
         ],
         "xaxis": "x",
         "y": [
          28414.301971435547
         ],
         "yaxis": "y"
        },
        {
         "alignmentgroup": "True",
         "customdata": [
          [
           "[TG(55:10),TG(54:3)]_FA14:0",
           "TAG"
          ]
         ],
         "hovertemplate": "Lipid=%{customdata[0]}<br>Transition=%{x}<br>Intensity=%{y}<br>Class=%{customdata[1]}<extra></extra>",
         "legendgroup": "[TG(55:10),TG(54:3)]_FA14:0",
         "marker": {
          "color": "#ab63fa"
         },
         "name": "[TG(55:10),TG(54:3)]_FA14:0",
         "offsetgroup": "[TG(55:10),TG(54:3)]_FA14:0",
         "orientation": "v",
         "showlegend": true,
         "textposition": "auto",
         "type": "bar",
         "x": [
          "902.8 -> 657.6"
         ],
         "xaxis": "x",
         "y": [
          30718.442108154297
         ],
         "yaxis": "y"
        },
        {
         "alignmentgroup": "True",
         "customdata": [
          [
           "[TG(55:9),TG(54:2)]_FA14:0",
           "TAG"
          ]
         ],
         "hovertemplate": "Lipid=%{customdata[0]}<br>Transition=%{x}<br>Intensity=%{y}<br>Class=%{customdata[1]}<extra></extra>",
         "legendgroup": "[TG(55:9),TG(54:2)]_FA14:0",
         "marker": {
          "color": "#FFA15A"
         },
         "name": "[TG(55:9),TG(54:2)]_FA14:0",
         "offsetgroup": "[TG(55:9),TG(54:2)]_FA14:0",
         "orientation": "v",
         "showlegend": true,
         "textposition": "auto",
         "type": "bar",
         "x": [
          "904.8 -> 659.6"
         ],
         "xaxis": "x",
         "y": [
          33424.282623291016
         ],
         "yaxis": "y"
        },
        {
         "alignmentgroup": "True",
         "customdata": [
          [
           "[TG(55:8),TG(54:1)]_FA14:0",
           "TAG"
          ]
         ],
         "hovertemplate": "Lipid=%{customdata[0]}<br>Transition=%{x}<br>Intensity=%{y}<br>Class=%{customdata[1]}<extra></extra>",
         "legendgroup": "[TG(55:8),TG(54:1)]_FA14:0",
         "marker": {
          "color": "#19d3f3"
         },
         "name": "[TG(55:8),TG(54:1)]_FA14:0",
         "offsetgroup": "[TG(55:8),TG(54:1)]_FA14:0",
         "orientation": "v",
         "showlegend": true,
         "textposition": "auto",
         "type": "bar",
         "x": [
          "906.8 -> 661.6"
         ],
         "xaxis": "x",
         "y": [
          29007.38198852539
         ],
         "yaxis": "y"
        },
        {
         "alignmentgroup": "True",
         "customdata": [
          [
           "[TG(55:7),TG(54:0)]_FA14:0",
           "TAG"
          ]
         ],
         "hovertemplate": "Lipid=%{customdata[0]}<br>Transition=%{x}<br>Intensity=%{y}<br>Class=%{customdata[1]}<extra></extra>",
         "legendgroup": "[TG(55:7),TG(54:0)]_FA14:0",
         "marker": {
          "color": "#FF6692"
         },
         "name": "[TG(55:7),TG(54:0)]_FA14:0",
         "offsetgroup": "[TG(55:7),TG(54:0)]_FA14:0",
         "orientation": "v",
         "showlegend": true,
         "textposition": "auto",
         "type": "bar",
         "x": [
          "908.9 -> 663.7"
         ],
         "xaxis": "x",
         "y": [
          35497.86260986328
         ],
         "yaxis": "y"
        },
        {
         "alignmentgroup": "True",
         "customdata": [
          [
           "[TG(56:13),TG(55:6)]_FA14:0",
           "TAG"
          ]
         ],
         "hovertemplate": "Lipid=%{customdata[0]}<br>Transition=%{x}<br>Intensity=%{y}<br>Class=%{customdata[1]}<extra></extra>",
         "legendgroup": "[TG(56:13),TG(55:6)]_FA14:0",
         "marker": {
          "color": "#B6E880"
         },
         "name": "[TG(56:13),TG(55:6)]_FA14:0",
         "offsetgroup": "[TG(56:13),TG(55:6)]_FA14:0",
         "orientation": "v",
         "showlegend": true,
         "textposition": "auto",
         "type": "bar",
         "x": [
          "910.8 -> 665.6"
         ],
         "xaxis": "x",
         "y": [
          26408.881866455078
         ],
         "yaxis": "y"
        },
        {
         "alignmentgroup": "True",
         "customdata": [
          [
           "[TG(56:12),TG(55:5)]_FA14:0",
           "TAG"
          ]
         ],
         "hovertemplate": "Lipid=%{customdata[0]}<br>Transition=%{x}<br>Intensity=%{y}<br>Class=%{customdata[1]}<extra></extra>",
         "legendgroup": "[TG(56:12),TG(55:5)]_FA14:0",
         "marker": {
          "color": "#FF97FF"
         },
         "name": "[TG(56:12),TG(55:5)]_FA14:0",
         "offsetgroup": "[TG(56:12),TG(55:5)]_FA14:0",
         "orientation": "v",
         "showlegend": true,
         "textposition": "auto",
         "type": "bar",
         "x": [
          "912.8 -> 667.6"
         ],
         "xaxis": "x",
         "y": [
          22494.82162475586
         ],
         "yaxis": "y"
        },
        {
         "alignmentgroup": "True",
         "customdata": [
          [
           "[TG(56:11),TG(55:4)]_FA14:0",
           "TAG"
          ]
         ],
         "hovertemplate": "Lipid=%{customdata[0]}<br>Transition=%{x}<br>Intensity=%{y}<br>Class=%{customdata[1]}<extra></extra>",
         "legendgroup": "[TG(56:11),TG(55:4)]_FA14:0",
         "marker": {
          "color": "#FECB52"
         },
         "name": "[TG(56:11),TG(55:4)]_FA14:0",
         "offsetgroup": "[TG(56:11),TG(55:4)]_FA14:0",
         "orientation": "v",
         "showlegend": true,
         "textposition": "auto",
         "type": "bar",
         "x": [
          "914.8 -> 669.6"
         ],
         "xaxis": "x",
         "y": [
          25690.061798095703
         ],
         "yaxis": "y"
        },
        {
         "alignmentgroup": "True",
         "customdata": [
          [
           "[TG(56:10),TG(55:3)]_FA14:0",
           "TAG"
          ]
         ],
         "hovertemplate": "Lipid=%{customdata[0]}<br>Transition=%{x}<br>Intensity=%{y}<br>Class=%{customdata[1]}<extra></extra>",
         "legendgroup": "[TG(56:10),TG(55:3)]_FA14:0",
         "marker": {
          "color": "#636efa"
         },
         "name": "[TG(56:10),TG(55:3)]_FA14:0",
         "offsetgroup": "[TG(56:10),TG(55:3)]_FA14:0",
         "orientation": "v",
         "showlegend": true,
         "textposition": "auto",
         "type": "bar",
         "x": [
          "916.8 -> 671.6"
         ],
         "xaxis": "x",
         "y": [
          29631.141998291016
         ],
         "yaxis": "y"
        },
        {
         "alignmentgroup": "True",
         "customdata": [
          [
           "[TG(56:9),TG(55:2)]_FA14:0",
           "TAG"
          ]
         ],
         "hovertemplate": "Lipid=%{customdata[0]}<br>Transition=%{x}<br>Intensity=%{y}<br>Class=%{customdata[1]}<extra></extra>",
         "legendgroup": "[TG(56:9),TG(55:2)]_FA14:0",
         "marker": {
          "color": "#EF553B"
         },
         "name": "[TG(56:9),TG(55:2)]_FA14:0",
         "offsetgroup": "[TG(56:9),TG(55:2)]_FA14:0",
         "orientation": "v",
         "showlegend": true,
         "textposition": "auto",
         "type": "bar",
         "x": [
          "918.8 -> 673.6"
         ],
         "xaxis": "x",
         "y": [
          33327.52235412598
         ],
         "yaxis": "y"
        },
        {
         "alignmentgroup": "True",
         "customdata": [
          [
           "[TG(56:8),TG(55:1)]_FA14:0",
           "TAG"
          ]
         ],
         "hovertemplate": "Lipid=%{customdata[0]}<br>Transition=%{x}<br>Intensity=%{y}<br>Class=%{customdata[1]}<extra></extra>",
         "legendgroup": "[TG(56:8),TG(55:1)]_FA14:0",
         "marker": {
          "color": "#00cc96"
         },
         "name": "[TG(56:8),TG(55:1)]_FA14:0",
         "offsetgroup": "[TG(56:8),TG(55:1)]_FA14:0",
         "orientation": "v",
         "showlegend": true,
         "textposition": "auto",
         "type": "bar",
         "x": [
          "920.9 -> 675.7"
         ],
         "xaxis": "x",
         "y": [
          29645.14239501953
         ],
         "yaxis": "y"
        },
        {
         "alignmentgroup": "True",
         "customdata": [
          [
           "[TG(56:7),TG(55:0)]_FA14:0",
           "TAG"
          ]
         ],
         "hovertemplate": "Lipid=%{customdata[0]}<br>Transition=%{x}<br>Intensity=%{y}<br>Class=%{customdata[1]}<extra></extra>",
         "legendgroup": "[TG(56:7),TG(55:0)]_FA14:0",
         "marker": {
          "color": "#ab63fa"
         },
         "name": "[TG(56:7),TG(55:0)]_FA14:0",
         "offsetgroup": "[TG(56:7),TG(55:0)]_FA14:0",
         "orientation": "v",
         "showlegend": true,
         "textposition": "auto",
         "type": "bar",
         "x": [
          "922.9 -> 677.7"
         ],
         "xaxis": "x",
         "y": [
          23936.88168334961
         ],
         "yaxis": "y"
        },
        {
         "alignmentgroup": "True",
         "customdata": [
          [
           "[TG(56:6)]_FA14:0",
           "TAG"
          ]
         ],
         "hovertemplate": "Lipid=%{customdata[0]}<br>Transition=%{x}<br>Intensity=%{y}<br>Class=%{customdata[1]}<extra></extra>",
         "legendgroup": "[TG(56:6)]_FA14:0",
         "marker": {
          "color": "#FFA15A"
         },
         "name": "[TG(56:6)]_FA14:0",
         "offsetgroup": "[TG(56:6)]_FA14:0",
         "orientation": "v",
         "showlegend": true,
         "textposition": "auto",
         "type": "bar",
         "x": [
          "924.8 -> 679.6"
         ],
         "xaxis": "x",
         "y": [
          21959.361694335938
         ],
         "yaxis": "y"
        },
        {
         "alignmentgroup": "True",
         "customdata": [
          [
           "[TG(57:12),TG(56:5)]_FA14:0",
           "TAG"
          ]
         ],
         "hovertemplate": "Lipid=%{customdata[0]}<br>Transition=%{x}<br>Intensity=%{y}<br>Class=%{customdata[1]}<extra></extra>",
         "legendgroup": "[TG(57:12),TG(56:5)]_FA14:0",
         "marker": {
          "color": "#19d3f3"
         },
         "name": "[TG(57:12),TG(56:5)]_FA14:0",
         "offsetgroup": "[TG(57:12),TG(56:5)]_FA14:0",
         "orientation": "v",
         "showlegend": true,
         "textposition": "auto",
         "type": "bar",
         "x": [
          "926.8 -> 681.6"
         ],
         "xaxis": "x",
         "y": [
          20401.881622314453
         ],
         "yaxis": "y"
        },
        {
         "alignmentgroup": "True",
         "customdata": [
          [
           "[TG(57:11),TG(56:4)]_FA14:0",
           "TAG"
          ]
         ],
         "hovertemplate": "Lipid=%{customdata[0]}<br>Transition=%{x}<br>Intensity=%{y}<br>Class=%{customdata[1]}<extra></extra>",
         "legendgroup": "[TG(57:11),TG(56:4)]_FA14:0",
         "marker": {
          "color": "#FF6692"
         },
         "name": "[TG(57:11),TG(56:4)]_FA14:0",
         "offsetgroup": "[TG(57:11),TG(56:4)]_FA14:0",
         "orientation": "v",
         "showlegend": true,
         "textposition": "auto",
         "type": "bar",
         "x": [
          "928.8 -> 683.6"
         ],
         "xaxis": "x",
         "y": [
          20398.84147644043
         ],
         "yaxis": "y"
        },
        {
         "alignmentgroup": "True",
         "customdata": [
          [
           "[TG(57:10),TG(56:3)]_FA14:0",
           "TAG"
          ]
         ],
         "hovertemplate": "Lipid=%{customdata[0]}<br>Transition=%{x}<br>Intensity=%{y}<br>Class=%{customdata[1]}<extra></extra>",
         "legendgroup": "[TG(57:10),TG(56:3)]_FA14:0",
         "marker": {
          "color": "#B6E880"
         },
         "name": "[TG(57:10),TG(56:3)]_FA14:0",
         "offsetgroup": "[TG(57:10),TG(56:3)]_FA14:0",
         "orientation": "v",
         "showlegend": true,
         "textposition": "auto",
         "type": "bar",
         "x": [
          "930.8 -> 685.6"
         ],
         "xaxis": "x",
         "y": [
          25416.421936035156
         ],
         "yaxis": "y"
        },
        {
         "alignmentgroup": "True",
         "customdata": [
          [
           "[TG(57:9),TG(56:2)]_FA14:0",
           "TAG"
          ]
         ],
         "hovertemplate": "Lipid=%{customdata[0]}<br>Transition=%{x}<br>Intensity=%{y}<br>Class=%{customdata[1]}<extra></extra>",
         "legendgroup": "[TG(57:9),TG(56:2)]_FA14:0",
         "marker": {
          "color": "#FF97FF"
         },
         "name": "[TG(57:9),TG(56:2)]_FA14:0",
         "offsetgroup": "[TG(57:9),TG(56:2)]_FA14:0",
         "orientation": "v",
         "showlegend": true,
         "textposition": "auto",
         "type": "bar",
         "x": [
          "932.9 -> 687.7"
         ],
         "xaxis": "x",
         "y": [
          22382.361602783203
         ],
         "yaxis": "y"
        },
        {
         "alignmentgroup": "True",
         "customdata": [
          [
           "[TG(57:8),TG(56:1)]_FA14:0",
           "TAG"
          ]
         ],
         "hovertemplate": "Lipid=%{customdata[0]}<br>Transition=%{x}<br>Intensity=%{y}<br>Class=%{customdata[1]}<extra></extra>",
         "legendgroup": "[TG(57:8),TG(56:1)]_FA14:0",
         "marker": {
          "color": "#FECB52"
         },
         "name": "[TG(57:8),TG(56:1)]_FA14:0",
         "offsetgroup": "[TG(57:8),TG(56:1)]_FA14:0",
         "orientation": "v",
         "showlegend": true,
         "textposition": "auto",
         "type": "bar",
         "x": [
          "934.9 -> 689.7"
         ],
         "xaxis": "x",
         "y": [
          19609.461395263672
         ],
         "yaxis": "y"
        },
        {
         "alignmentgroup": "True",
         "customdata": [
          [
           "[TG(58:14),TG(57:7),TG(56:0)]_FA14:0",
           "TAG"
          ]
         ],
         "hovertemplate": "Lipid=%{customdata[0]}<br>Transition=%{x}<br>Intensity=%{y}<br>Class=%{customdata[1]}<extra></extra>",
         "legendgroup": "[TG(58:14),TG(57:7),TG(56:0)]_FA14:0",
         "marker": {
          "color": "#636efa"
         },
         "name": "[TG(58:14),TG(57:7),TG(56:0)]_FA14:0",
         "offsetgroup": "[TG(58:14),TG(57:7),TG(56:0)]_FA14:0",
         "orientation": "v",
         "showlegend": true,
         "textposition": "auto",
         "type": "bar",
         "x": [
          "936.9 -> 691.7"
         ],
         "xaxis": "x",
         "y": [
          22338.061492919922
         ],
         "yaxis": "y"
        },
        {
         "alignmentgroup": "True",
         "customdata": [
          [
           "[TG(58:13),TG(57:6)]_FA14:0",
           "TAG"
          ]
         ],
         "hovertemplate": "Lipid=%{customdata[0]}<br>Transition=%{x}<br>Intensity=%{y}<br>Class=%{customdata[1]}<extra></extra>",
         "legendgroup": "[TG(58:13),TG(57:6)]_FA14:0",
         "marker": {
          "color": "#EF553B"
         },
         "name": "[TG(58:13),TG(57:6)]_FA14:0",
         "offsetgroup": "[TG(58:13),TG(57:6)]_FA14:0",
         "orientation": "v",
         "showlegend": true,
         "textposition": "auto",
         "type": "bar",
         "x": [
          "938.8 -> 693.6"
         ],
         "xaxis": "x",
         "y": [
          29575.44204711914
         ],
         "yaxis": "y"
        },
        {
         "alignmentgroup": "True",
         "customdata": [
          [
           "[TG(58:12),TG(57:5)]_FA14:0",
           "TAG"
          ]
         ],
         "hovertemplate": "Lipid=%{customdata[0]}<br>Transition=%{x}<br>Intensity=%{y}<br>Class=%{customdata[1]}<extra></extra>",
         "legendgroup": "[TG(58:12),TG(57:5)]_FA14:0",
         "marker": {
          "color": "#00cc96"
         },
         "name": "[TG(58:12),TG(57:5)]_FA14:0",
         "offsetgroup": "[TG(58:12),TG(57:5)]_FA14:0",
         "orientation": "v",
         "showlegend": true,
         "textposition": "auto",
         "type": "bar",
         "x": [
          "940.8 -> 695.6"
         ],
         "xaxis": "x",
         "y": [
          20122.321487426758
         ],
         "yaxis": "y"
        },
        {
         "alignmentgroup": "True",
         "customdata": [
          [
           "[TG(58:11),TG(57:4)]_FA14:0",
           "TAG"
          ]
         ],
         "hovertemplate": "Lipid=%{customdata[0]}<br>Transition=%{x}<br>Intensity=%{y}<br>Class=%{customdata[1]}<extra></extra>",
         "legendgroup": "[TG(58:11),TG(57:4)]_FA14:0",
         "marker": {
          "color": "#ab63fa"
         },
         "name": "[TG(58:11),TG(57:4)]_FA14:0",
         "offsetgroup": "[TG(58:11),TG(57:4)]_FA14:0",
         "orientation": "v",
         "showlegend": true,
         "textposition": "auto",
         "type": "bar",
         "x": [
          "942.8 -> 697.6"
         ],
         "xaxis": "x",
         "y": [
          20873.68148803711
         ],
         "yaxis": "y"
        },
        {
         "alignmentgroup": "True",
         "customdata": [
          [
           "[TG(58:10),TG(57:3)]_FA14:0",
           "TAG"
          ]
         ],
         "hovertemplate": "Lipid=%{customdata[0]}<br>Transition=%{x}<br>Intensity=%{y}<br>Class=%{customdata[1]}<extra></extra>",
         "legendgroup": "[TG(58:10),TG(57:3)]_FA14:0",
         "marker": {
          "color": "#FFA15A"
         },
         "name": "[TG(58:10),TG(57:3)]_FA14:0",
         "offsetgroup": "[TG(58:10),TG(57:3)]_FA14:0",
         "orientation": "v",
         "showlegend": true,
         "textposition": "auto",
         "type": "bar",
         "x": [
          "944.9 -> 699.7"
         ],
         "xaxis": "x",
         "y": [
          20475.001525878906
         ],
         "yaxis": "y"
        },
        {
         "alignmentgroup": "True",
         "customdata": [
          [
           "[TG(58:9),TG(57:2)]_FA14:0",
           "TAG"
          ]
         ],
         "hovertemplate": "Lipid=%{customdata[0]}<br>Transition=%{x}<br>Intensity=%{y}<br>Class=%{customdata[1]}<extra></extra>",
         "legendgroup": "[TG(58:9),TG(57:2)]_FA14:0",
         "marker": {
          "color": "#19d3f3"
         },
         "name": "[TG(58:9),TG(57:2)]_FA14:0",
         "offsetgroup": "[TG(58:9),TG(57:2)]_FA14:0",
         "orientation": "v",
         "showlegend": true,
         "textposition": "auto",
         "type": "bar",
         "x": [
          "946.9 -> 701.7"
         ],
         "xaxis": "x",
         "y": [
          19687.661422729492
         ],
         "yaxis": "y"
        },
        {
         "alignmentgroup": "True",
         "customdata": [
          [
           "[TG(58:8),TG(57:1)]_FA14:0",
           "TAG"
          ]
         ],
         "hovertemplate": "Lipid=%{customdata[0]}<br>Transition=%{x}<br>Intensity=%{y}<br>Class=%{customdata[1]}<extra></extra>",
         "legendgroup": "[TG(58:8),TG(57:1)]_FA14:0",
         "marker": {
          "color": "#FF6692"
         },
         "name": "[TG(58:8),TG(57:1)]_FA14:0",
         "offsetgroup": "[TG(58:8),TG(57:1)]_FA14:0",
         "orientation": "v",
         "showlegend": true,
         "textposition": "auto",
         "type": "bar",
         "x": [
          "948.9 -> 703.7"
         ],
         "xaxis": "x",
         "y": [
          17986.1212310791
         ],
         "yaxis": "y"
        },
        {
         "alignmentgroup": "True",
         "customdata": [
          [
           "[TG(58:7),TG(57:0)]_FA14:0",
           "TAG"
          ]
         ],
         "hovertemplate": "Lipid=%{customdata[0]}<br>Transition=%{x}<br>Intensity=%{y}<br>Class=%{customdata[1]}<extra></extra>",
         "legendgroup": "[TG(58:7),TG(57:0)]_FA14:0",
         "marker": {
          "color": "#B6E880"
         },
         "name": "[TG(58:7),TG(57:0)]_FA14:0",
         "offsetgroup": "[TG(58:7),TG(57:0)]_FA14:0",
         "orientation": "v",
         "showlegend": true,
         "textposition": "auto",
         "type": "bar",
         "x": [
          "950.9 -> 705.7"
         ],
         "xaxis": "x",
         "y": [
          16909.581176757812
         ],
         "yaxis": "y"
        },
        {
         "alignmentgroup": "True",
         "customdata": [
          [
           "[TG(59:13),TG(58:6)]_FA14:0",
           "TAG"
          ]
         ],
         "hovertemplate": "Lipid=%{customdata[0]}<br>Transition=%{x}<br>Intensity=%{y}<br>Class=%{customdata[1]}<extra></extra>",
         "legendgroup": "[TG(59:13),TG(58:6)]_FA14:0",
         "marker": {
          "color": "#FF97FF"
         },
         "name": "[TG(59:13),TG(58:6)]_FA14:0",
         "offsetgroup": "[TG(59:13),TG(58:6)]_FA14:0",
         "orientation": "v",
         "showlegend": true,
         "textposition": "auto",
         "type": "bar",
         "x": [
          "952.8 -> 707.6"
         ],
         "xaxis": "x",
         "y": [
          17760.02130126953
         ],
         "yaxis": "y"
        },
        {
         "alignmentgroup": "True",
         "customdata": [
          [
           "[TG(59:12),TG(58:5)]_FA14:0",
           "TAG"
          ]
         ],
         "hovertemplate": "Lipid=%{customdata[0]}<br>Transition=%{x}<br>Intensity=%{y}<br>Class=%{customdata[1]}<extra></extra>",
         "legendgroup": "[TG(59:12),TG(58:5)]_FA14:0",
         "marker": {
          "color": "#FECB52"
         },
         "name": "[TG(59:12),TG(58:5)]_FA14:0",
         "offsetgroup": "[TG(59:12),TG(58:5)]_FA14:0",
         "orientation": "v",
         "showlegend": true,
         "textposition": "auto",
         "type": "bar",
         "x": [
          "954.8 -> 709.6"
         ],
         "xaxis": "x",
         "y": [
          17154.881271362305
         ],
         "yaxis": "y"
        },
        {
         "alignmentgroup": "True",
         "customdata": [
          [
           "[TG(59:11),TG(58:4)]_FA14:0",
           "TAG"
          ]
         ],
         "hovertemplate": "Lipid=%{customdata[0]}<br>Transition=%{x}<br>Intensity=%{y}<br>Class=%{customdata[1]}<extra></extra>",
         "legendgroup": "[TG(59:11),TG(58:4)]_FA14:0",
         "marker": {
          "color": "#636efa"
         },
         "name": "[TG(59:11),TG(58:4)]_FA14:0",
         "offsetgroup": "[TG(59:11),TG(58:4)]_FA14:0",
         "orientation": "v",
         "showlegend": true,
         "textposition": "auto",
         "type": "bar",
         "x": [
          "956.9 -> 711.7"
         ],
         "xaxis": "x",
         "y": [
          17369.481216430664
         ],
         "yaxis": "y"
        },
        {
         "alignmentgroup": "True",
         "customdata": [
          [
           "[TG(59:10),TG(58:3)]_FA14:0",
           "TAG"
          ]
         ],
         "hovertemplate": "Lipid=%{customdata[0]}<br>Transition=%{x}<br>Intensity=%{y}<br>Class=%{customdata[1]}<extra></extra>",
         "legendgroup": "[TG(59:10),TG(58:3)]_FA14:0",
         "marker": {
          "color": "#EF553B"
         },
         "name": "[TG(59:10),TG(58:3)]_FA14:0",
         "offsetgroup": "[TG(59:10),TG(58:3)]_FA14:0",
         "orientation": "v",
         "showlegend": true,
         "textposition": "auto",
         "type": "bar",
         "x": [
          "958.9 -> 713.7"
         ],
         "xaxis": "x",
         "y": [
          17000.50129699707
         ],
         "yaxis": "y"
        },
        {
         "alignmentgroup": "True",
         "customdata": [
          [
           "[TG(59:9),TG(58:2)]_FA14:0",
           "TAG"
          ]
         ],
         "hovertemplate": "Lipid=%{customdata[0]}<br>Transition=%{x}<br>Intensity=%{y}<br>Class=%{customdata[1]}<extra></extra>",
         "legendgroup": "[TG(59:9),TG(58:2)]_FA14:0",
         "marker": {
          "color": "#00cc96"
         },
         "name": "[TG(59:9),TG(58:2)]_FA14:0",
         "offsetgroup": "[TG(59:9),TG(58:2)]_FA14:0",
         "orientation": "v",
         "showlegend": true,
         "textposition": "auto",
         "type": "bar",
         "x": [
          "960.9 -> 715.7"
         ],
         "xaxis": "x",
         "y": [
          14471.141006469727
         ],
         "yaxis": "y"
        },
        {
         "alignmentgroup": "True",
         "customdata": [
          [
           "[TG(60:15),TG(59:8),TG(58:1)]_FA14:0",
           "TAG"
          ]
         ],
         "hovertemplate": "Lipid=%{customdata[0]}<br>Transition=%{x}<br>Intensity=%{y}<br>Class=%{customdata[1]}<extra></extra>",
         "legendgroup": "[TG(60:15),TG(59:8),TG(58:1)]_FA14:0",
         "marker": {
          "color": "#ab63fa"
         },
         "name": "[TG(60:15),TG(59:8),TG(58:1)]_FA14:0",
         "offsetgroup": "[TG(60:15),TG(59:8),TG(58:1)]_FA14:0",
         "orientation": "v",
         "showlegend": true,
         "textposition": "auto",
         "type": "bar",
         "x": [
          "962.9 -> 717.7"
         ],
         "xaxis": "x",
         "y": [
          17327.96128845215
         ],
         "yaxis": "y"
        },
        {
         "alignmentgroup": "True",
         "customdata": [
          [
           "[TG(60:14),TG(59:7),TG(58:0)]_FA14:0",
           "TAG"
          ]
         ],
         "hovertemplate": "Lipid=%{customdata[0]}<br>Transition=%{x}<br>Intensity=%{y}<br>Class=%{customdata[1]}<extra></extra>",
         "legendgroup": "[TG(60:14),TG(59:7),TG(58:0)]_FA14:0",
         "marker": {
          "color": "#FFA15A"
         },
         "name": "[TG(60:14),TG(59:7),TG(58:0)]_FA14:0",
         "offsetgroup": "[TG(60:14),TG(59:7),TG(58:0)]_FA14:0",
         "orientation": "v",
         "showlegend": true,
         "textposition": "auto",
         "type": "bar",
         "x": [
          "964.9 -> 719.7"
         ],
         "xaxis": "x",
         "y": [
          15586.361099243164
         ],
         "yaxis": "y"
        },
        {
         "alignmentgroup": "True",
         "customdata": [
          [
           "[TG(60:13),TG(59:6)]_FA14:0",
           "TAG"
          ]
         ],
         "hovertemplate": "Lipid=%{customdata[0]}<br>Transition=%{x}<br>Intensity=%{y}<br>Class=%{customdata[1]}<extra></extra>",
         "legendgroup": "[TG(60:13),TG(59:6)]_FA14:0",
         "marker": {
          "color": "#19d3f3"
         },
         "name": "[TG(60:13),TG(59:6)]_FA14:0",
         "offsetgroup": "[TG(60:13),TG(59:6)]_FA14:0",
         "orientation": "v",
         "showlegend": true,
         "textposition": "auto",
         "type": "bar",
         "x": [
          "966.8 -> 721.6"
         ],
         "xaxis": "x",
         "y": [
          15192.34105682373
         ],
         "yaxis": "y"
        },
        {
         "alignmentgroup": "True",
         "customdata": [
          [
           "[TG(60:12),TG(59:5)]_FA14:0",
           "TAG"
          ]
         ],
         "hovertemplate": "Lipid=%{customdata[0]}<br>Transition=%{x}<br>Intensity=%{y}<br>Class=%{customdata[1]}<extra></extra>",
         "legendgroup": "[TG(60:12),TG(59:5)]_FA14:0",
         "marker": {
          "color": "#FF6692"
         },
         "name": "[TG(60:12),TG(59:5)]_FA14:0",
         "offsetgroup": "[TG(60:12),TG(59:5)]_FA14:0",
         "orientation": "v",
         "showlegend": true,
         "textposition": "auto",
         "type": "bar",
         "x": [
          "968.9 -> 723.7"
         ],
         "xaxis": "x",
         "y": [
          16057.961143493652
         ],
         "yaxis": "y"
        },
        {
         "alignmentgroup": "True",
         "customdata": [
          [
           "[TG(60:11),TG(59:4)]_FA14:0",
           "TAG"
          ]
         ],
         "hovertemplate": "Lipid=%{customdata[0]}<br>Transition=%{x}<br>Intensity=%{y}<br>Class=%{customdata[1]}<extra></extra>",
         "legendgroup": "[TG(60:11),TG(59:4)]_FA14:0",
         "marker": {
          "color": "#B6E880"
         },
         "name": "[TG(60:11),TG(59:4)]_FA14:0",
         "offsetgroup": "[TG(60:11),TG(59:4)]_FA14:0",
         "orientation": "v",
         "showlegend": true,
         "textposition": "auto",
         "type": "bar",
         "x": [
          "970.9 -> 725.7"
         ],
         "xaxis": "x",
         "y": [
          29432.862243652344
         ],
         "yaxis": "y"
        },
        {
         "alignmentgroup": "True",
         "customdata": [
          [
           "[TG(60:10),TG(59:3)]_FA14:0",
           "TAG"
          ]
         ],
         "hovertemplate": "Lipid=%{customdata[0]}<br>Transition=%{x}<br>Intensity=%{y}<br>Class=%{customdata[1]}<extra></extra>",
         "legendgroup": "[TG(60:10),TG(59:3)]_FA14:0",
         "marker": {
          "color": "#FF97FF"
         },
         "name": "[TG(60:10),TG(59:3)]_FA14:0",
         "offsetgroup": "[TG(60:10),TG(59:3)]_FA14:0",
         "orientation": "v",
         "showlegend": true,
         "textposition": "auto",
         "type": "bar",
         "x": [
          "972.9 -> 727.7"
         ],
         "xaxis": "x",
         "y": [
          21032.461456298828
         ],
         "yaxis": "y"
        },
        {
         "alignmentgroup": "True",
         "customdata": [
          [
           "[TG(60:9),TG(59:2)]_FA14:0",
           "TAG"
          ]
         ],
         "hovertemplate": "Lipid=%{customdata[0]}<br>Transition=%{x}<br>Intensity=%{y}<br>Class=%{customdata[1]}<extra></extra>",
         "legendgroup": "[TG(60:9),TG(59:2)]_FA14:0",
         "marker": {
          "color": "#FECB52"
         },
         "name": "[TG(60:9),TG(59:2)]_FA14:0",
         "offsetgroup": "[TG(60:9),TG(59:2)]_FA14:0",
         "orientation": "v",
         "showlegend": true,
         "textposition": "auto",
         "type": "bar",
         "x": [
          "974.9 -> 729.7"
         ],
         "xaxis": "x",
         "y": [
          15778.50112915039
         ],
         "yaxis": "y"
        },
        {
         "alignmentgroup": "True",
         "customdata": [
          [
           "[TG(60:8),TG(59:1)]_FA14:0",
           "TAG"
          ]
         ],
         "hovertemplate": "Lipid=%{customdata[0]}<br>Transition=%{x}<br>Intensity=%{y}<br>Class=%{customdata[1]}<extra></extra>",
         "legendgroup": "[TG(60:8),TG(59:1)]_FA14:0",
         "marker": {
          "color": "#636efa"
         },
         "name": "[TG(60:8),TG(59:1)]_FA14:0",
         "offsetgroup": "[TG(60:8),TG(59:1)]_FA14:0",
         "orientation": "v",
         "showlegend": true,
         "textposition": "auto",
         "type": "bar",
         "x": [
          "976.9 -> 731.7"
         ],
         "xaxis": "x",
         "y": [
          13972.840942382812
         ],
         "yaxis": "y"
        },
        {
         "alignmentgroup": "True",
         "customdata": [
          [
           "[TG(61:14),TG(60:7),TG(59:0)]_FA14:0",
           "TAG"
          ]
         ],
         "hovertemplate": "Lipid=%{customdata[0]}<br>Transition=%{x}<br>Intensity=%{y}<br>Class=%{customdata[1]}<extra></extra>",
         "legendgroup": "[TG(61:14),TG(60:7),TG(59:0)]_FA14:0",
         "marker": {
          "color": "#EF553B"
         },
         "name": "[TG(61:14),TG(60:7),TG(59:0)]_FA14:0",
         "offsetgroup": "[TG(61:14),TG(60:7),TG(59:0)]_FA14:0",
         "orientation": "v",
         "showlegend": true,
         "textposition": "auto",
         "type": "bar",
         "x": [
          "978.9 -> 733.7"
         ],
         "xaxis": "x",
         "y": [
          15361.26107788086
         ],
         "yaxis": "y"
        },
        {
         "alignmentgroup": "True",
         "customdata": [
          [
           "[TG(61:13),TG(60:6)]_FA14:0",
           "TAG"
          ]
         ],
         "hovertemplate": "Lipid=%{customdata[0]}<br>Transition=%{x}<br>Intensity=%{y}<br>Class=%{customdata[1]}<extra></extra>",
         "legendgroup": "[TG(61:13),TG(60:6)]_FA14:0",
         "marker": {
          "color": "#00cc96"
         },
         "name": "[TG(61:13),TG(60:6)]_FA14:0",
         "offsetgroup": "[TG(61:13),TG(60:6)]_FA14:0",
         "orientation": "v",
         "showlegend": true,
         "textposition": "auto",
         "type": "bar",
         "x": [
          "980.9 -> 735.7"
         ],
         "xaxis": "x",
         "y": [
          14665.92106628418
         ],
         "yaxis": "y"
        },
        {
         "alignmentgroup": "True",
         "customdata": [
          [
           "[TG(61:12),TG(60:5)]_FA14:0",
           "TAG"
          ]
         ],
         "hovertemplate": "Lipid=%{customdata[0]}<br>Transition=%{x}<br>Intensity=%{y}<br>Class=%{customdata[1]}<extra></extra>",
         "legendgroup": "[TG(61:12),TG(60:5)]_FA14:0",
         "marker": {
          "color": "#ab63fa"
         },
         "name": "[TG(61:12),TG(60:5)]_FA14:0",
         "offsetgroup": "[TG(61:12),TG(60:5)]_FA14:0",
         "orientation": "v",
         "showlegend": true,
         "textposition": "auto",
         "type": "bar",
         "x": [
          "982.9 -> 737.7"
         ],
         "xaxis": "x",
         "y": [
          12983.740997314453
         ],
         "yaxis": "y"
        },
        {
         "alignmentgroup": "True",
         "customdata": [
          [
           "[TG(61:11),TG(60:4)]_FA14:0",
           "TAG"
          ]
         ],
         "hovertemplate": "Lipid=%{customdata[0]}<br>Transition=%{x}<br>Intensity=%{y}<br>Class=%{customdata[1]}<extra></extra>",
         "legendgroup": "[TG(61:11),TG(60:4)]_FA14:0",
         "marker": {
          "color": "#FFA15A"
         },
         "name": "[TG(61:11),TG(60:4)]_FA14:0",
         "offsetgroup": "[TG(61:11),TG(60:4)]_FA14:0",
         "orientation": "v",
         "showlegend": true,
         "textposition": "auto",
         "type": "bar",
         "x": [
          "984.9 -> 739.7"
         ],
         "xaxis": "x",
         "y": [
          16507.40118408203
         ],
         "yaxis": "y"
        },
        {
         "alignmentgroup": "True",
         "customdata": [
          [
           "[TG(61:10),TG(60:3)]_FA14:0",
           "TAG"
          ]
         ],
         "hovertemplate": "Lipid=%{customdata[0]}<br>Transition=%{x}<br>Intensity=%{y}<br>Class=%{customdata[1]}<extra></extra>",
         "legendgroup": "[TG(61:10),TG(60:3)]_FA14:0",
         "marker": {
          "color": "#19d3f3"
         },
         "name": "[TG(61:10),TG(60:3)]_FA14:0",
         "offsetgroup": "[TG(61:10),TG(60:3)]_FA14:0",
         "orientation": "v",
         "showlegend": true,
         "textposition": "auto",
         "type": "bar",
         "x": [
          "986.9 -> 741.7"
         ],
         "xaxis": "x",
         "y": [
          15164.080978393555
         ],
         "yaxis": "y"
        },
        {
         "alignmentgroup": "True",
         "customdata": [
          [
           "[TG(62:16),TG(61:9),TG(60:2)]_FA14:0",
           "TAG"
          ]
         ],
         "hovertemplate": "Lipid=%{customdata[0]}<br>Transition=%{x}<br>Intensity=%{y}<br>Class=%{customdata[1]}<extra></extra>",
         "legendgroup": "[TG(62:16),TG(61:9),TG(60:2)]_FA14:0",
         "marker": {
          "color": "#FF6692"
         },
         "name": "[TG(62:16),TG(61:9),TG(60:2)]_FA14:0",
         "offsetgroup": "[TG(62:16),TG(61:9),TG(60:2)]_FA14:0",
         "orientation": "v",
         "showlegend": true,
         "textposition": "auto",
         "type": "bar",
         "x": [
          "988.9 -> 743.7"
         ],
         "xaxis": "x",
         "y": [
          16115.021049499512
         ],
         "yaxis": "y"
        },
        {
         "alignmentgroup": "True",
         "customdata": [
          [
           "[TG(62:15),TG(61:8),TG(60:1)]_FA14:0",
           "TAG"
          ]
         ],
         "hovertemplate": "Lipid=%{customdata[0]}<br>Transition=%{x}<br>Intensity=%{y}<br>Class=%{customdata[1]}<extra></extra>",
         "legendgroup": "[TG(62:15),TG(61:8),TG(60:1)]_FA14:0",
         "marker": {
          "color": "#B6E880"
         },
         "name": "[TG(62:15),TG(61:8),TG(60:1)]_FA14:0",
         "offsetgroup": "[TG(62:15),TG(61:8),TG(60:1)]_FA14:0",
         "orientation": "v",
         "showlegend": true,
         "textposition": "auto",
         "type": "bar",
         "x": [
          "990.9 -> 745.7"
         ],
         "xaxis": "x",
         "y": [
          14670.80093383789
         ],
         "yaxis": "y"
        },
        {
         "alignmentgroup": "True",
         "customdata": [
          [
           "[TG(62:14),TG(61:7),TG(60:0)]_FA14:0",
           "TAG"
          ]
         ],
         "hovertemplate": "Lipid=%{customdata[0]}<br>Transition=%{x}<br>Intensity=%{y}<br>Class=%{customdata[1]}<extra></extra>",
         "legendgroup": "[TG(62:14),TG(61:7),TG(60:0)]_FA14:0",
         "marker": {
          "color": "#FF97FF"
         },
         "name": "[TG(62:14),TG(61:7),TG(60:0)]_FA14:0",
         "offsetgroup": "[TG(62:14),TG(61:7),TG(60:0)]_FA14:0",
         "orientation": "v",
         "showlegend": true,
         "textposition": "auto",
         "type": "bar",
         "x": [
          "993.0 -> 747.8"
         ],
         "xaxis": "x",
         "y": [
          11676.520835876465
         ],
         "yaxis": "y"
        },
        {
         "alignmentgroup": "True",
         "customdata": [
          [
           "[TG(62:13),TG(61:6)]_FA14:0",
           "TAG"
          ]
         ],
         "hovertemplate": "Lipid=%{customdata[0]}<br>Transition=%{x}<br>Intensity=%{y}<br>Class=%{customdata[1]}<extra></extra>",
         "legendgroup": "[TG(62:13),TG(61:6)]_FA14:0",
         "marker": {
          "color": "#FECB52"
         },
         "name": "[TG(62:13),TG(61:6)]_FA14:0",
         "offsetgroup": "[TG(62:13),TG(61:6)]_FA14:0",
         "orientation": "v",
         "showlegend": true,
         "textposition": "auto",
         "type": "bar",
         "x": [
          "994.9 -> 749.7"
         ],
         "xaxis": "x",
         "y": [
          12641.240867614746
         ],
         "yaxis": "y"
        },
        {
         "alignmentgroup": "True",
         "customdata": [
          [
           "[TG(62:12),TG(61:5)]_FA14:0",
           "TAG"
          ]
         ],
         "hovertemplate": "Lipid=%{customdata[0]}<br>Transition=%{x}<br>Intensity=%{y}<br>Class=%{customdata[1]}<extra></extra>",
         "legendgroup": "[TG(62:12),TG(61:5)]_FA14:0",
         "marker": {
          "color": "#636efa"
         },
         "name": "[TG(62:12),TG(61:5)]_FA14:0",
         "offsetgroup": "[TG(62:12),TG(61:5)]_FA14:0",
         "orientation": "v",
         "showlegend": true,
         "textposition": "auto",
         "type": "bar",
         "x": [
          "996.9 -> 751.7"
         ],
         "xaxis": "x",
         "y": [
          14229.900955200195
         ],
         "yaxis": "y"
        },
        {
         "alignmentgroup": "True",
         "customdata": [
          [
           "[TG(62:11),TG(61:4)]_FA14:0",
           "TAG"
          ]
         ],
         "hovertemplate": "Lipid=%{customdata[0]}<br>Transition=%{x}<br>Intensity=%{y}<br>Class=%{customdata[1]}<extra></extra>",
         "legendgroup": "[TG(62:11),TG(61:4)]_FA14:0",
         "marker": {
          "color": "#EF553B"
         },
         "name": "[TG(62:11),TG(61:4)]_FA14:0",
         "offsetgroup": "[TG(62:11),TG(61:4)]_FA14:0",
         "orientation": "v",
         "showlegend": true,
         "textposition": "auto",
         "type": "bar",
         "x": [
          "998.9 -> 753.7"
         ],
         "xaxis": "x",
         "y": [
          14026.561004638672
         ],
         "yaxis": "y"
        },
        {
         "alignmentgroup": "True",
         "customdata": [
          [
           "[TG(62:10),TG(61:3)]_FA14:0",
           "TAG"
          ]
         ],
         "hovertemplate": "Lipid=%{customdata[0]}<br>Transition=%{x}<br>Intensity=%{y}<br>Class=%{customdata[1]}<extra></extra>",
         "legendgroup": "[TG(62:10),TG(61:3)]_FA14:0",
         "marker": {
          "color": "#00cc96"
         },
         "name": "[TG(62:10),TG(61:3)]_FA14:0",
         "offsetgroup": "[TG(62:10),TG(61:3)]_FA14:0",
         "orientation": "v",
         "showlegend": true,
         "textposition": "auto",
         "type": "bar",
         "x": [
          "1000.9 -> 755.7"
         ],
         "xaxis": "x",
         "y": [
          13990.720977783203
         ],
         "yaxis": "y"
        },
        {
         "alignmentgroup": "True",
         "customdata": [
          [
           "[TG(62:9),TG(61:2)]_FA14:0",
           "TAG"
          ]
         ],
         "hovertemplate": "Lipid=%{customdata[0]}<br>Transition=%{x}<br>Intensity=%{y}<br>Class=%{customdata[1]}<extra></extra>",
         "legendgroup": "[TG(62:9),TG(61:2)]_FA14:0",
         "marker": {
          "color": "#ab63fa"
         },
         "name": "[TG(62:9),TG(61:2)]_FA14:0",
         "offsetgroup": "[TG(62:9),TG(61:2)]_FA14:0",
         "orientation": "v",
         "showlegend": true,
         "textposition": "auto",
         "type": "bar",
         "x": [
          "1002.9 -> 757.7"
         ],
         "xaxis": "x",
         "y": [
          14917.441131591797
         ],
         "yaxis": "y"
        },
        {
         "alignmentgroup": "True",
         "customdata": [
          [
           "[TG(62:8),TG(61:1)]_FA14:0",
           "TAG"
          ]
         ],
         "hovertemplate": "Lipid=%{customdata[0]}<br>Transition=%{x}<br>Intensity=%{y}<br>Class=%{customdata[1]}<extra></extra>",
         "legendgroup": "[TG(62:8),TG(61:1)]_FA14:0",
         "marker": {
          "color": "#FFA15A"
         },
         "name": "[TG(62:8),TG(61:1)]_FA14:0",
         "offsetgroup": "[TG(62:8),TG(61:1)]_FA14:0",
         "orientation": "v",
         "showlegend": true,
         "textposition": "auto",
         "type": "bar",
         "x": [
          "1005.0 -> 759.8"
         ],
         "xaxis": "x",
         "y": [
          14691.960952758789
         ],
         "yaxis": "y"
        },
        {
         "alignmentgroup": "True",
         "customdata": [
          [
           "[TG(62:7),TG(61:0)]_FA14:0",
           "TAG"
          ]
         ],
         "hovertemplate": "Lipid=%{customdata[0]}<br>Transition=%{x}<br>Intensity=%{y}<br>Class=%{customdata[1]}<extra></extra>",
         "legendgroup": "[TG(62:7),TG(61:0)]_FA14:0",
         "marker": {
          "color": "#19d3f3"
         },
         "name": "[TG(62:7),TG(61:0)]_FA14:0",
         "offsetgroup": "[TG(62:7),TG(61:0)]_FA14:0",
         "orientation": "v",
         "showlegend": true,
         "textposition": "auto",
         "type": "bar",
         "x": [
          "1007.0 -> 761.8"
         ],
         "xaxis": "x",
         "y": [
          12988.200942993164
         ],
         "yaxis": "y"
        },
        {
         "alignmentgroup": "True",
         "customdata": [
          [
           "[TG(63:13),TG(62:6)]_FA14:0",
           "TAG"
          ]
         ],
         "hovertemplate": "Lipid=%{customdata[0]}<br>Transition=%{x}<br>Intensity=%{y}<br>Class=%{customdata[1]}<extra></extra>",
         "legendgroup": "[TG(63:13),TG(62:6)]_FA14:0",
         "marker": {
          "color": "#FF6692"
         },
         "name": "[TG(63:13),TG(62:6)]_FA14:0",
         "offsetgroup": "[TG(63:13),TG(62:6)]_FA14:0",
         "orientation": "v",
         "showlegend": true,
         "textposition": "auto",
         "type": "bar",
         "x": [
          "1008.9 -> 763.7"
         ],
         "xaxis": "x",
         "y": [
          13342.720916748047
         ],
         "yaxis": "y"
        },
        {
         "alignmentgroup": "True",
         "customdata": [
          [
           "[TG(63:12),TG(62:5)]_FA14:0",
           "TAG"
          ]
         ],
         "hovertemplate": "Lipid=%{customdata[0]}<br>Transition=%{x}<br>Intensity=%{y}<br>Class=%{customdata[1]}<extra></extra>",
         "legendgroup": "[TG(63:12),TG(62:5)]_FA14:0",
         "marker": {
          "color": "#B6E880"
         },
         "name": "[TG(63:12),TG(62:5)]_FA14:0",
         "offsetgroup": "[TG(63:12),TG(62:5)]_FA14:0",
         "orientation": "v",
         "showlegend": true,
         "textposition": "auto",
         "type": "bar",
         "x": [
          "1010.9 -> 765.7"
         ],
         "xaxis": "x",
         "y": [
          14266.48112487793
         ],
         "yaxis": "y"
        },
        {
         "alignmentgroup": "True",
         "customdata": [
          [
           "[TG(63:11),TG(62:4)]_FA14:0",
           "TAG"
          ]
         ],
         "hovertemplate": "Lipid=%{customdata[0]}<br>Transition=%{x}<br>Intensity=%{y}<br>Class=%{customdata[1]}<extra></extra>",
         "legendgroup": "[TG(63:11),TG(62:4)]_FA14:0",
         "marker": {
          "color": "#FF97FF"
         },
         "name": "[TG(63:11),TG(62:4)]_FA14:0",
         "offsetgroup": "[TG(63:11),TG(62:4)]_FA14:0",
         "orientation": "v",
         "showlegend": true,
         "textposition": "auto",
         "type": "bar",
         "x": [
          "1012.9 -> 767.7"
         ],
         "xaxis": "x",
         "y": [
          13126.080932617188
         ],
         "yaxis": "y"
        },
        {
         "alignmentgroup": "True",
         "customdata": [
          [
           "[TG(64:17),TG(63:10),TG(62:3)]_FA14:0",
           "TAG"
          ]
         ],
         "hovertemplate": "Lipid=%{customdata[0]}<br>Transition=%{x}<br>Intensity=%{y}<br>Class=%{customdata[1]}<extra></extra>",
         "legendgroup": "[TG(64:17),TG(63:10),TG(62:3)]_FA14:0",
         "marker": {
          "color": "#FECB52"
         },
         "name": "[TG(64:17),TG(63:10),TG(62:3)]_FA14:0",
         "offsetgroup": "[TG(64:17),TG(63:10),TG(62:3)]_FA14:0",
         "orientation": "v",
         "showlegend": true,
         "textposition": "auto",
         "type": "bar",
         "x": [
          "1014.9 -> 769.7"
         ],
         "xaxis": "x",
         "y": [
          13007.560943603516
         ],
         "yaxis": "y"
        },
        {
         "alignmentgroup": "True",
         "customdata": [
          [
           "[TG(64:16),TG(63:9),TG(62:2)]_FA14:0",
           "TAG"
          ]
         ],
         "hovertemplate": "Lipid=%{customdata[0]}<br>Transition=%{x}<br>Intensity=%{y}<br>Class=%{customdata[1]}<extra></extra>",
         "legendgroup": "[TG(64:16),TG(63:9),TG(62:2)]_FA14:0",
         "marker": {
          "color": "#636efa"
         },
         "name": "[TG(64:16),TG(63:9),TG(62:2)]_FA14:0",
         "offsetgroup": "[TG(64:16),TG(63:9),TG(62:2)]_FA14:0",
         "orientation": "v",
         "showlegend": true,
         "textposition": "auto",
         "type": "bar",
         "x": [
          "1017.0 -> 771.8"
         ],
         "xaxis": "x",
         "y": [
          15978.181114196777
         ],
         "yaxis": "y"
        },
        {
         "alignmentgroup": "True",
         "customdata": [
          [
           "[TG(64:15),TG(63:8),TG(62:1)]_FA14:0",
           "TAG"
          ]
         ],
         "hovertemplate": "Lipid=%{customdata[0]}<br>Transition=%{x}<br>Intensity=%{y}<br>Class=%{customdata[1]}<extra></extra>",
         "legendgroup": "[TG(64:15),TG(63:8),TG(62:1)]_FA14:0",
         "marker": {
          "color": "#EF553B"
         },
         "name": "[TG(64:15),TG(63:8),TG(62:1)]_FA14:0",
         "offsetgroup": "[TG(64:15),TG(63:8),TG(62:1)]_FA14:0",
         "orientation": "v",
         "showlegend": true,
         "textposition": "auto",
         "type": "bar",
         "x": [
          "1019.0 -> 773.8"
         ],
         "xaxis": "x",
         "y": [
          14954.541114807129
         ],
         "yaxis": "y"
        },
        {
         "alignmentgroup": "True",
         "customdata": [
          [
           "[TG(64:14),TG(63:7),TG(62:0)]_FA14:0",
           "TAG"
          ]
         ],
         "hovertemplate": "Lipid=%{customdata[0]}<br>Transition=%{x}<br>Intensity=%{y}<br>Class=%{customdata[1]}<extra></extra>",
         "legendgroup": "[TG(64:14),TG(63:7),TG(62:0)]_FA14:0",
         "marker": {
          "color": "#00cc96"
         },
         "name": "[TG(64:14),TG(63:7),TG(62:0)]_FA14:0",
         "offsetgroup": "[TG(64:14),TG(63:7),TG(62:0)]_FA14:0",
         "orientation": "v",
         "showlegend": true,
         "textposition": "auto",
         "type": "bar",
         "x": [
          "1021.0 -> 775.8"
         ],
         "xaxis": "x",
         "y": [
          12710.70083618164
         ],
         "yaxis": "y"
        },
        {
         "alignmentgroup": "True",
         "customdata": [
          [
           "[TG(64:13),TG(63:6)]_FA14:0",
           "TAG"
          ]
         ],
         "hovertemplate": "Lipid=%{customdata[0]}<br>Transition=%{x}<br>Intensity=%{y}<br>Class=%{customdata[1]}<extra></extra>",
         "legendgroup": "[TG(64:13),TG(63:6)]_FA14:0",
         "marker": {
          "color": "#ab63fa"
         },
         "name": "[TG(64:13),TG(63:6)]_FA14:0",
         "offsetgroup": "[TG(64:13),TG(63:6)]_FA14:0",
         "orientation": "v",
         "showlegend": true,
         "textposition": "auto",
         "type": "bar",
         "x": [
          "1022.9 -> 777.7"
         ],
         "xaxis": "x",
         "y": [
          14045.280990600586
         ],
         "yaxis": "y"
        },
        {
         "alignmentgroup": "True",
         "customdata": [
          [
           "[TG(64:12),TG(63:5)]_FA14:0",
           "TAG"
          ]
         ],
         "hovertemplate": "Lipid=%{customdata[0]}<br>Transition=%{x}<br>Intensity=%{y}<br>Class=%{customdata[1]}<extra></extra>",
         "legendgroup": "[TG(64:12),TG(63:5)]_FA14:0",
         "marker": {
          "color": "#FFA15A"
         },
         "name": "[TG(64:12),TG(63:5)]_FA14:0",
         "offsetgroup": "[TG(64:12),TG(63:5)]_FA14:0",
         "orientation": "v",
         "showlegend": true,
         "textposition": "auto",
         "type": "bar",
         "x": [
          "1024.9 -> 779.7"
         ],
         "xaxis": "x",
         "y": [
          14086.260986328125
         ],
         "yaxis": "y"
        },
        {
         "alignmentgroup": "True",
         "customdata": [
          [
           "[TG(64:11),TG(63:4)]_FA14:0",
           "TAG"
          ]
         ],
         "hovertemplate": "Lipid=%{customdata[0]}<br>Transition=%{x}<br>Intensity=%{y}<br>Class=%{customdata[1]}<extra></extra>",
         "legendgroup": "[TG(64:11),TG(63:4)]_FA14:0",
         "marker": {
          "color": "#19d3f3"
         },
         "name": "[TG(64:11),TG(63:4)]_FA14:0",
         "offsetgroup": "[TG(64:11),TG(63:4)]_FA14:0",
         "orientation": "v",
         "showlegend": true,
         "textposition": "auto",
         "type": "bar",
         "x": [
          "1026.9 -> 781.7"
         ],
         "xaxis": "x",
         "y": [
          12927.800796508789
         ],
         "yaxis": "y"
        },
        {
         "alignmentgroup": "True",
         "customdata": [
          [
           "[TG(64:10),TG(63:3)]_FA14:0",
           "TAG"
          ]
         ],
         "hovertemplate": "Lipid=%{customdata[0]}<br>Transition=%{x}<br>Intensity=%{y}<br>Class=%{customdata[1]}<extra></extra>",
         "legendgroup": "[TG(64:10),TG(63:3)]_FA14:0",
         "marker": {
          "color": "#FF6692"
         },
         "name": "[TG(64:10),TG(63:3)]_FA14:0",
         "offsetgroup": "[TG(64:10),TG(63:3)]_FA14:0",
         "orientation": "v",
         "showlegend": true,
         "textposition": "auto",
         "type": "bar",
         "x": [
          "1029.0 -> 783.8"
         ],
         "xaxis": "x",
         "y": [
          10637.140739440918
         ],
         "yaxis": "y"
        },
        {
         "alignmentgroup": "True",
         "customdata": [
          [
           "[TG(64:9),TG(63:2)]_FA14:0",
           "TAG"
          ]
         ],
         "hovertemplate": "Lipid=%{customdata[0]}<br>Transition=%{x}<br>Intensity=%{y}<br>Class=%{customdata[1]}<extra></extra>",
         "legendgroup": "[TG(64:9),TG(63:2)]_FA14:0",
         "marker": {
          "color": "#B6E880"
         },
         "name": "[TG(64:9),TG(63:2)]_FA14:0",
         "offsetgroup": "[TG(64:9),TG(63:2)]_FA14:0",
         "orientation": "v",
         "showlegend": true,
         "textposition": "auto",
         "type": "bar",
         "x": [
          "1031.0 -> 785.8"
         ],
         "xaxis": "x",
         "y": [
          13033.880912780762
         ],
         "yaxis": "y"
        },
        {
         "alignmentgroup": "True",
         "customdata": [
          [
           "[TG(64:8),TG(63:1)]_FA14:0",
           "TAG"
          ]
         ],
         "hovertemplate": "Lipid=%{customdata[0]}<br>Transition=%{x}<br>Intensity=%{y}<br>Class=%{customdata[1]}<extra></extra>",
         "legendgroup": "[TG(64:8),TG(63:1)]_FA14:0",
         "marker": {
          "color": "#FF97FF"
         },
         "name": "[TG(64:8),TG(63:1)]_FA14:0",
         "offsetgroup": "[TG(64:8),TG(63:1)]_FA14:0",
         "orientation": "v",
         "showlegend": true,
         "textposition": "auto",
         "type": "bar",
         "x": [
          "1033.0 -> 787.8"
         ],
         "xaxis": "x",
         "y": [
          13134.800857543945
         ],
         "yaxis": "y"
        },
        {
         "alignmentgroup": "True",
         "customdata": [
          [
           "[TG(64:7),TG(63:0)]_FA14:0",
           "TAG"
          ]
         ],
         "hovertemplate": "Lipid=%{customdata[0]}<br>Transition=%{x}<br>Intensity=%{y}<br>Class=%{customdata[1]}<extra></extra>",
         "legendgroup": "[TG(64:7),TG(63:0)]_FA14:0",
         "marker": {
          "color": "#FECB52"
         },
         "name": "[TG(64:7),TG(63:0)]_FA14:0",
         "offsetgroup": "[TG(64:7),TG(63:0)]_FA14:0",
         "orientation": "v",
         "showlegend": true,
         "textposition": "auto",
         "type": "bar",
         "x": [
          "1035.0 -> 789.8"
         ],
         "xaxis": "x",
         "y": [
          12264.380752563477
         ],
         "yaxis": "y"
        },
        {
         "alignmentgroup": "True",
         "customdata": [
          [
           "[TG(64:6)]_FA14:0",
           "TAG"
          ]
         ],
         "hovertemplate": "Lipid=%{customdata[0]}<br>Transition=%{x}<br>Intensity=%{y}<br>Class=%{customdata[1]}<extra></extra>",
         "legendgroup": "[TG(64:6)]_FA14:0",
         "marker": {
          "color": "#636efa"
         },
         "name": "[TG(64:6)]_FA14:0",
         "offsetgroup": "[TG(64:6)]_FA14:0",
         "orientation": "v",
         "showlegend": true,
         "textposition": "auto",
         "type": "bar",
         "x": [
          "1036.9 -> 791.7"
         ],
         "xaxis": "x",
         "y": [
          13273.14094543457
         ],
         "yaxis": "y"
        },
        {
         "alignmentgroup": "True",
         "customdata": [
          [
           "[TG(65:12),TG(64:5)]_FA14:0",
           "TAG"
          ]
         ],
         "hovertemplate": "Lipid=%{customdata[0]}<br>Transition=%{x}<br>Intensity=%{y}<br>Class=%{customdata[1]}<extra></extra>",
         "legendgroup": "[TG(65:12),TG(64:5)]_FA14:0",
         "marker": {
          "color": "#EF553B"
         },
         "name": "[TG(65:12),TG(64:5)]_FA14:0",
         "offsetgroup": "[TG(65:12),TG(64:5)]_FA14:0",
         "orientation": "v",
         "showlegend": true,
         "textposition": "auto",
         "type": "bar",
         "x": [
          "1038.9 -> 793.7"
         ],
         "xaxis": "x",
         "y": [
          20100.661331176758
         ],
         "yaxis": "y"
        },
        {
         "alignmentgroup": "True",
         "customdata": [
          [
           "[TG(66:18),TG(65:11),TG(64:4)]_FA14:0",
           "TAG"
          ]
         ],
         "hovertemplate": "Lipid=%{customdata[0]}<br>Transition=%{x}<br>Intensity=%{y}<br>Class=%{customdata[1]}<extra></extra>",
         "legendgroup": "[TG(66:18),TG(65:11),TG(64:4)]_FA14:0",
         "marker": {
          "color": "#00cc96"
         },
         "name": "[TG(66:18),TG(65:11),TG(64:4)]_FA14:0",
         "offsetgroup": "[TG(66:18),TG(65:11),TG(64:4)]_FA14:0",
         "orientation": "v",
         "showlegend": true,
         "textposition": "auto",
         "type": "bar",
         "x": [
          "1041.0 -> 795.8"
         ],
         "xaxis": "x",
         "y": [
          12335.680953979492
         ],
         "yaxis": "y"
        },
        {
         "alignmentgroup": "True",
         "customdata": [
          [
           "[TG(66:17),TG(65:10),TG(64:3)]_FA14:0",
           "TAG"
          ]
         ],
         "hovertemplate": "Lipid=%{customdata[0]}<br>Transition=%{x}<br>Intensity=%{y}<br>Class=%{customdata[1]}<extra></extra>",
         "legendgroup": "[TG(66:17),TG(65:10),TG(64:3)]_FA14:0",
         "marker": {
          "color": "#ab63fa"
         },
         "name": "[TG(66:17),TG(65:10),TG(64:3)]_FA14:0",
         "offsetgroup": "[TG(66:17),TG(65:10),TG(64:3)]_FA14:0",
         "orientation": "v",
         "showlegend": true,
         "textposition": "auto",
         "type": "bar",
         "x": [
          "1043.0 -> 797.8"
         ],
         "xaxis": "x",
         "y": [
          12561.440925598145
         ],
         "yaxis": "y"
        },
        {
         "alignmentgroup": "True",
         "customdata": [
          [
           "[TG(66:16),TG(65:9),TG(64:2)]_FA14:0",
           "TAG"
          ]
         ],
         "hovertemplate": "Lipid=%{customdata[0]}<br>Transition=%{x}<br>Intensity=%{y}<br>Class=%{customdata[1]}<extra></extra>",
         "legendgroup": "[TG(66:16),TG(65:9),TG(64:2)]_FA14:0",
         "marker": {
          "color": "#FFA15A"
         },
         "name": "[TG(66:16),TG(65:9),TG(64:2)]_FA14:0",
         "offsetgroup": "[TG(66:16),TG(65:9),TG(64:2)]_FA14:0",
         "orientation": "v",
         "showlegend": true,
         "textposition": "auto",
         "type": "bar",
         "x": [
          "1045.0 -> 799.8"
         ],
         "xaxis": "x",
         "y": [
          19396.041259765625
         ],
         "yaxis": "y"
        },
        {
         "alignmentgroup": "True",
         "customdata": [
          [
           "[TG(66:15),TG(65:8),TG(64:1)]_FA14:0",
           "TAG"
          ]
         ],
         "hovertemplate": "Lipid=%{customdata[0]}<br>Transition=%{x}<br>Intensity=%{y}<br>Class=%{customdata[1]}<extra></extra>",
         "legendgroup": "[TG(66:15),TG(65:8),TG(64:1)]_FA14:0",
         "marker": {
          "color": "#19d3f3"
         },
         "name": "[TG(66:15),TG(65:8),TG(64:1)]_FA14:0",
         "offsetgroup": "[TG(66:15),TG(65:8),TG(64:1)]_FA14:0",
         "orientation": "v",
         "showlegend": true,
         "textposition": "auto",
         "type": "bar",
         "x": [
          "1047.0 -> 801.8"
         ],
         "xaxis": "x",
         "y": [
          15101.360977172852
         ],
         "yaxis": "y"
        },
        {
         "alignmentgroup": "True",
         "customdata": [
          [
           "[TG(66:14),TG(65:7),TG(64:0)]_FA14:0",
           "TAG"
          ]
         ],
         "hovertemplate": "Lipid=%{customdata[0]}<br>Transition=%{x}<br>Intensity=%{y}<br>Class=%{customdata[1]}<extra></extra>",
         "legendgroup": "[TG(66:14),TG(65:7),TG(64:0)]_FA14:0",
         "marker": {
          "color": "#FF6692"
         },
         "name": "[TG(66:14),TG(65:7),TG(64:0)]_FA14:0",
         "offsetgroup": "[TG(66:14),TG(65:7),TG(64:0)]_FA14:0",
         "orientation": "v",
         "showlegend": true,
         "textposition": "auto",
         "type": "bar",
         "x": [
          "1049.0 -> 803.8"
         ],
         "xaxis": "x",
         "y": [
          15476.981079101562
         ],
         "yaxis": "y"
        },
        {
         "alignmentgroup": "True",
         "customdata": [
          [
           "[TG(66:13),TG(65:6)]_FA14:0",
           "TAG"
          ]
         ],
         "hovertemplate": "Lipid=%{customdata[0]}<br>Transition=%{x}<br>Intensity=%{y}<br>Class=%{customdata[1]}<extra></extra>",
         "legendgroup": "[TG(66:13),TG(65:6)]_FA14:0",
         "marker": {
          "color": "#B6E880"
         },
         "name": "[TG(66:13),TG(65:6)]_FA14:0",
         "offsetgroup": "[TG(66:13),TG(65:6)]_FA14:0",
         "orientation": "v",
         "showlegend": true,
         "textposition": "auto",
         "type": "bar",
         "x": [
          "1050.9 -> 805.7"
         ],
         "xaxis": "x",
         "y": [
          10396.680717468262
         ],
         "yaxis": "y"
        },
        {
         "alignmentgroup": "True",
         "customdata": [
          [
           "[TG(66:12),TG(65:5)]_FA14:0",
           "TAG"
          ]
         ],
         "hovertemplate": "Lipid=%{customdata[0]}<br>Transition=%{x}<br>Intensity=%{y}<br>Class=%{customdata[1]}<extra></extra>",
         "legendgroup": "[TG(66:12),TG(65:5)]_FA14:0",
         "marker": {
          "color": "#FF97FF"
         },
         "name": "[TG(66:12),TG(65:5)]_FA14:0",
         "offsetgroup": "[TG(66:12),TG(65:5)]_FA14:0",
         "orientation": "v",
         "showlegend": true,
         "textposition": "auto",
         "type": "bar",
         "x": [
          "1053.0 -> 807.8"
         ],
         "xaxis": "x",
         "y": [
          12281.800918579102
         ],
         "yaxis": "y"
        },
        {
         "alignmentgroup": "True",
         "customdata": [
          [
           "[TG(66:11),TG(65:4)]_FA14:0",
           "TAG"
          ]
         ],
         "hovertemplate": "Lipid=%{customdata[0]}<br>Transition=%{x}<br>Intensity=%{y}<br>Class=%{customdata[1]}<extra></extra>",
         "legendgroup": "[TG(66:11),TG(65:4)]_FA14:0",
         "marker": {
          "color": "#FECB52"
         },
         "name": "[TG(66:11),TG(65:4)]_FA14:0",
         "offsetgroup": "[TG(66:11),TG(65:4)]_FA14:0",
         "orientation": "v",
         "showlegend": true,
         "textposition": "auto",
         "type": "bar",
         "x": [
          "1055.0 -> 809.8"
         ],
         "xaxis": "x",
         "y": [
          12049.680938720703
         ],
         "yaxis": "y"
        },
        {
         "alignmentgroup": "True",
         "customdata": [
          [
           "[TG(66:10),TG(65:3)]_FA14:0",
           "TAG"
          ]
         ],
         "hovertemplate": "Lipid=%{customdata[0]}<br>Transition=%{x}<br>Intensity=%{y}<br>Class=%{customdata[1]}<extra></extra>",
         "legendgroup": "[TG(66:10),TG(65:3)]_FA14:0",
         "marker": {
          "color": "#636efa"
         },
         "name": "[TG(66:10),TG(65:3)]_FA14:0",
         "offsetgroup": "[TG(66:10),TG(65:3)]_FA14:0",
         "orientation": "v",
         "showlegend": true,
         "textposition": "auto",
         "type": "bar",
         "x": [
          "1057.0 -> 811.8"
         ],
         "xaxis": "x",
         "y": [
          11546.020881652832
         ],
         "yaxis": "y"
        },
        {
         "alignmentgroup": "True",
         "customdata": [
          [
           "[TG(66:9),TG(65:2)]_FA14:0",
           "TAG"
          ]
         ],
         "hovertemplate": "Lipid=%{customdata[0]}<br>Transition=%{x}<br>Intensity=%{y}<br>Class=%{customdata[1]}<extra></extra>",
         "legendgroup": "[TG(66:9),TG(65:2)]_FA14:0",
         "marker": {
          "color": "#EF553B"
         },
         "name": "[TG(66:9),TG(65:2)]_FA14:0",
         "offsetgroup": "[TG(66:9),TG(65:2)]_FA14:0",
         "orientation": "v",
         "showlegend": true,
         "textposition": "auto",
         "type": "bar",
         "x": [
          "1059.0 -> 813.8"
         ],
         "xaxis": "x",
         "y": [
          13140.541000366211
         ],
         "yaxis": "y"
        },
        {
         "alignmentgroup": "True",
         "customdata": [
          [
           "[TG(66:8),TG(65:1)]_FA14:0",
           "TAG"
          ]
         ],
         "hovertemplate": "Lipid=%{customdata[0]}<br>Transition=%{x}<br>Intensity=%{y}<br>Class=%{customdata[1]}<extra></extra>",
         "legendgroup": "[TG(66:8),TG(65:1)]_FA14:0",
         "marker": {
          "color": "#00cc96"
         },
         "name": "[TG(66:8),TG(65:1)]_FA14:0",
         "offsetgroup": "[TG(66:8),TG(65:1)]_FA14:0",
         "orientation": "v",
         "showlegend": true,
         "textposition": "auto",
         "type": "bar",
         "x": [
          "1061.0 -> 815.8"
         ],
         "xaxis": "x",
         "y": [
          14803.141014099121
         ],
         "yaxis": "y"
        },
        {
         "alignmentgroup": "True",
         "customdata": [
          [
           "[TG(66:7)]_FA14:0",
           "TAG"
          ]
         ],
         "hovertemplate": "Lipid=%{customdata[0]}<br>Transition=%{x}<br>Intensity=%{y}<br>Class=%{customdata[1]}<extra></extra>",
         "legendgroup": "[TG(66:7)]_FA14:0",
         "marker": {
          "color": "#ab63fa"
         },
         "name": "[TG(66:7)]_FA14:0",
         "offsetgroup": "[TG(66:7)]_FA14:0",
         "orientation": "v",
         "showlegend": true,
         "textposition": "auto",
         "type": "bar",
         "x": [
          "1062.9 -> 817.7"
         ],
         "xaxis": "x",
         "y": [
          13260.220840454102
         ],
         "yaxis": "y"
        },
        {
         "alignmentgroup": "True",
         "customdata": [
          [
           "[TG(65:0)]_FA14:0",
           "TAG"
          ]
         ],
         "hovertemplate": "Lipid=%{customdata[0]}<br>Transition=%{x}<br>Intensity=%{y}<br>Class=%{customdata[1]}<extra></extra>",
         "legendgroup": "[TG(65:0)]_FA14:0",
         "marker": {
          "color": "#FFA15A"
         },
         "name": "[TG(65:0)]_FA14:0",
         "offsetgroup": "[TG(65:0)]_FA14:0",
         "orientation": "v",
         "showlegend": true,
         "textposition": "auto",
         "type": "bar",
         "x": [
          "1063.0 -> 817.8"
         ],
         "xaxis": "x",
         "y": [
          15204.641082763672
         ],
         "yaxis": "y"
        },
        {
         "alignmentgroup": "True",
         "customdata": [
          [
           "[TG(66:6)]_FA14:0",
           "TAG"
          ]
         ],
         "hovertemplate": "Lipid=%{customdata[0]}<br>Transition=%{x}<br>Intensity=%{y}<br>Class=%{customdata[1]}<extra></extra>",
         "legendgroup": "[TG(66:6)]_FA14:0",
         "marker": {
          "color": "#19d3f3"
         },
         "name": "[TG(66:6)]_FA14:0",
         "offsetgroup": "[TG(66:6)]_FA14:0",
         "orientation": "v",
         "showlegend": true,
         "textposition": "auto",
         "type": "bar",
         "x": [
          "1065.0 -> 819.8"
         ],
         "xaxis": "x",
         "y": [
          11739.30093383789
         ],
         "yaxis": "y"
        },
        {
         "alignmentgroup": "True",
         "customdata": [
          [
           "[TG(66:5)]_FA14:0",
           "TAG"
          ]
         ],
         "hovertemplate": "Lipid=%{customdata[0]}<br>Transition=%{x}<br>Intensity=%{y}<br>Class=%{customdata[1]}<extra></extra>",
         "legendgroup": "[TG(66:5)]_FA14:0",
         "marker": {
          "color": "#FF6692"
         },
         "name": "[TG(66:5)]_FA14:0",
         "offsetgroup": "[TG(66:5)]_FA14:0",
         "orientation": "v",
         "showlegend": true,
         "textposition": "auto",
         "type": "bar",
         "x": [
          "1067.0 -> 821.8"
         ],
         "xaxis": "x",
         "y": [
          10289.58073425293
         ],
         "yaxis": "y"
        },
        {
         "alignmentgroup": "True",
         "customdata": [
          [
           "[TG(66:4)]_FA14:0",
           "TAG"
          ]
         ],
         "hovertemplate": "Lipid=%{customdata[0]}<br>Transition=%{x}<br>Intensity=%{y}<br>Class=%{customdata[1]}<extra></extra>",
         "legendgroup": "[TG(66:4)]_FA14:0",
         "marker": {
          "color": "#B6E880"
         },
         "name": "[TG(66:4)]_FA14:0",
         "offsetgroup": "[TG(66:4)]_FA14:0",
         "orientation": "v",
         "showlegend": true,
         "textposition": "auto",
         "type": "bar",
         "x": [
          "1069.0 -> 823.8"
         ],
         "xaxis": "x",
         "y": [
          11749.400787353516
         ],
         "yaxis": "y"
        },
        {
         "alignmentgroup": "True",
         "customdata": [
          [
           "[TG(66:3)]_FA14:0",
           "TAG"
          ]
         ],
         "hovertemplate": "Lipid=%{customdata[0]}<br>Transition=%{x}<br>Intensity=%{y}<br>Class=%{customdata[1]}<extra></extra>",
         "legendgroup": "[TG(66:3)]_FA14:0",
         "marker": {
          "color": "#FF97FF"
         },
         "name": "[TG(66:3)]_FA14:0",
         "offsetgroup": "[TG(66:3)]_FA14:0",
         "orientation": "v",
         "showlegend": true,
         "textposition": "auto",
         "type": "bar",
         "x": [
          "1071.0 -> 825.8"
         ],
         "xaxis": "x",
         "y": [
          12457.700866699219
         ],
         "yaxis": "y"
        },
        {
         "alignmentgroup": "True",
         "customdata": [
          [
           "[TG(66:2)]_FA14:0",
           "TAG"
          ]
         ],
         "hovertemplate": "Lipid=%{customdata[0]}<br>Transition=%{x}<br>Intensity=%{y}<br>Class=%{customdata[1]}<extra></extra>",
         "legendgroup": "[TG(66:2)]_FA14:0",
         "marker": {
          "color": "#FECB52"
         },
         "name": "[TG(66:2)]_FA14:0",
         "offsetgroup": "[TG(66:2)]_FA14:0",
         "orientation": "v",
         "showlegend": true,
         "textposition": "auto",
         "type": "bar",
         "x": [
          "1073.0 -> 827.8"
         ],
         "xaxis": "x",
         "y": [
          11174.560779571533
         ],
         "yaxis": "y"
        },
        {
         "alignmentgroup": "True",
         "customdata": [
          [
           "[TG(66:1)]_FA14:0",
           "TAG"
          ]
         ],
         "hovertemplate": "Lipid=%{customdata[0]}<br>Transition=%{x}<br>Intensity=%{y}<br>Class=%{customdata[1]}<extra></extra>",
         "legendgroup": "[TG(66:1)]_FA14:0",
         "marker": {
          "color": "#636efa"
         },
         "name": "[TG(66:1)]_FA14:0",
         "offsetgroup": "[TG(66:1)]_FA14:0",
         "orientation": "v",
         "showlegend": true,
         "textposition": "auto",
         "type": "bar",
         "x": [
          "1075.0 -> 829.8"
         ],
         "xaxis": "x",
         "y": [
          12249.820945739746
         ],
         "yaxis": "y"
        }
       ],
       "layout": {
        "barmode": "relative",
        "legend": {
         "title": {
          "text": "Lipid"
         },
         "tracegroupgap": 0
        },
        "margin": {
         "t": 60
        },
        "template": {
         "data": {
          "bar": [
           {
            "error_x": {
             "color": "#2a3f5f"
            },
            "error_y": {
             "color": "#2a3f5f"
            },
            "marker": {
             "line": {
              "color": "#E5ECF6",
              "width": 0.5
             }
            },
            "type": "bar"
           }
          ],
          "barpolar": [
           {
            "marker": {
             "line": {
              "color": "#E5ECF6",
              "width": 0.5
             }
            },
            "type": "barpolar"
           }
          ],
          "carpet": [
           {
            "aaxis": {
             "endlinecolor": "#2a3f5f",
             "gridcolor": "white",
             "linecolor": "white",
             "minorgridcolor": "white",
             "startlinecolor": "#2a3f5f"
            },
            "baxis": {
             "endlinecolor": "#2a3f5f",
             "gridcolor": "white",
             "linecolor": "white",
             "minorgridcolor": "white",
             "startlinecolor": "#2a3f5f"
            },
            "type": "carpet"
           }
          ],
          "choropleth": [
           {
            "colorbar": {
             "outlinewidth": 0,
             "ticks": ""
            },
            "type": "choropleth"
           }
          ],
          "contour": [
           {
            "colorbar": {
             "outlinewidth": 0,
             "ticks": ""
            },
            "colorscale": [
             [
              0,
              "#0d0887"
             ],
             [
              0.1111111111111111,
              "#46039f"
             ],
             [
              0.2222222222222222,
              "#7201a8"
             ],
             [
              0.3333333333333333,
              "#9c179e"
             ],
             [
              0.4444444444444444,
              "#bd3786"
             ],
             [
              0.5555555555555556,
              "#d8576b"
             ],
             [
              0.6666666666666666,
              "#ed7953"
             ],
             [
              0.7777777777777778,
              "#fb9f3a"
             ],
             [
              0.8888888888888888,
              "#fdca26"
             ],
             [
              1,
              "#f0f921"
             ]
            ],
            "type": "contour"
           }
          ],
          "contourcarpet": [
           {
            "colorbar": {
             "outlinewidth": 0,
             "ticks": ""
            },
            "type": "contourcarpet"
           }
          ],
          "heatmap": [
           {
            "colorbar": {
             "outlinewidth": 0,
             "ticks": ""
            },
            "colorscale": [
             [
              0,
              "#0d0887"
             ],
             [
              0.1111111111111111,
              "#46039f"
             ],
             [
              0.2222222222222222,
              "#7201a8"
             ],
             [
              0.3333333333333333,
              "#9c179e"
             ],
             [
              0.4444444444444444,
              "#bd3786"
             ],
             [
              0.5555555555555556,
              "#d8576b"
             ],
             [
              0.6666666666666666,
              "#ed7953"
             ],
             [
              0.7777777777777778,
              "#fb9f3a"
             ],
             [
              0.8888888888888888,
              "#fdca26"
             ],
             [
              1,
              "#f0f921"
             ]
            ],
            "type": "heatmap"
           }
          ],
          "heatmapgl": [
           {
            "colorbar": {
             "outlinewidth": 0,
             "ticks": ""
            },
            "colorscale": [
             [
              0,
              "#0d0887"
             ],
             [
              0.1111111111111111,
              "#46039f"
             ],
             [
              0.2222222222222222,
              "#7201a8"
             ],
             [
              0.3333333333333333,
              "#9c179e"
             ],
             [
              0.4444444444444444,
              "#bd3786"
             ],
             [
              0.5555555555555556,
              "#d8576b"
             ],
             [
              0.6666666666666666,
              "#ed7953"
             ],
             [
              0.7777777777777778,
              "#fb9f3a"
             ],
             [
              0.8888888888888888,
              "#fdca26"
             ],
             [
              1,
              "#f0f921"
             ]
            ],
            "type": "heatmapgl"
           }
          ],
          "histogram": [
           {
            "marker": {
             "colorbar": {
              "outlinewidth": 0,
              "ticks": ""
             }
            },
            "type": "histogram"
           }
          ],
          "histogram2d": [
           {
            "colorbar": {
             "outlinewidth": 0,
             "ticks": ""
            },
            "colorscale": [
             [
              0,
              "#0d0887"
             ],
             [
              0.1111111111111111,
              "#46039f"
             ],
             [
              0.2222222222222222,
              "#7201a8"
             ],
             [
              0.3333333333333333,
              "#9c179e"
             ],
             [
              0.4444444444444444,
              "#bd3786"
             ],
             [
              0.5555555555555556,
              "#d8576b"
             ],
             [
              0.6666666666666666,
              "#ed7953"
             ],
             [
              0.7777777777777778,
              "#fb9f3a"
             ],
             [
              0.8888888888888888,
              "#fdca26"
             ],
             [
              1,
              "#f0f921"
             ]
            ],
            "type": "histogram2d"
           }
          ],
          "histogram2dcontour": [
           {
            "colorbar": {
             "outlinewidth": 0,
             "ticks": ""
            },
            "colorscale": [
             [
              0,
              "#0d0887"
             ],
             [
              0.1111111111111111,
              "#46039f"
             ],
             [
              0.2222222222222222,
              "#7201a8"
             ],
             [
              0.3333333333333333,
              "#9c179e"
             ],
             [
              0.4444444444444444,
              "#bd3786"
             ],
             [
              0.5555555555555556,
              "#d8576b"
             ],
             [
              0.6666666666666666,
              "#ed7953"
             ],
             [
              0.7777777777777778,
              "#fb9f3a"
             ],
             [
              0.8888888888888888,
              "#fdca26"
             ],
             [
              1,
              "#f0f921"
             ]
            ],
            "type": "histogram2dcontour"
           }
          ],
          "mesh3d": [
           {
            "colorbar": {
             "outlinewidth": 0,
             "ticks": ""
            },
            "type": "mesh3d"
           }
          ],
          "parcoords": [
           {
            "line": {
             "colorbar": {
              "outlinewidth": 0,
              "ticks": ""
             }
            },
            "type": "parcoords"
           }
          ],
          "pie": [
           {
            "automargin": true,
            "type": "pie"
           }
          ],
          "scatter": [
           {
            "marker": {
             "colorbar": {
              "outlinewidth": 0,
              "ticks": ""
             }
            },
            "type": "scatter"
           }
          ],
          "scatter3d": [
           {
            "line": {
             "colorbar": {
              "outlinewidth": 0,
              "ticks": ""
             }
            },
            "marker": {
             "colorbar": {
              "outlinewidth": 0,
              "ticks": ""
             }
            },
            "type": "scatter3d"
           }
          ],
          "scattercarpet": [
           {
            "marker": {
             "colorbar": {
              "outlinewidth": 0,
              "ticks": ""
             }
            },
            "type": "scattercarpet"
           }
          ],
          "scattergeo": [
           {
            "marker": {
             "colorbar": {
              "outlinewidth": 0,
              "ticks": ""
             }
            },
            "type": "scattergeo"
           }
          ],
          "scattergl": [
           {
            "marker": {
             "colorbar": {
              "outlinewidth": 0,
              "ticks": ""
             }
            },
            "type": "scattergl"
           }
          ],
          "scattermapbox": [
           {
            "marker": {
             "colorbar": {
              "outlinewidth": 0,
              "ticks": ""
             }
            },
            "type": "scattermapbox"
           }
          ],
          "scatterpolar": [
           {
            "marker": {
             "colorbar": {
              "outlinewidth": 0,
              "ticks": ""
             }
            },
            "type": "scatterpolar"
           }
          ],
          "scatterpolargl": [
           {
            "marker": {
             "colorbar": {
              "outlinewidth": 0,
              "ticks": ""
             }
            },
            "type": "scatterpolargl"
           }
          ],
          "scatterternary": [
           {
            "marker": {
             "colorbar": {
              "outlinewidth": 0,
              "ticks": ""
             }
            },
            "type": "scatterternary"
           }
          ],
          "surface": [
           {
            "colorbar": {
             "outlinewidth": 0,
             "ticks": ""
            },
            "colorscale": [
             [
              0,
              "#0d0887"
             ],
             [
              0.1111111111111111,
              "#46039f"
             ],
             [
              0.2222222222222222,
              "#7201a8"
             ],
             [
              0.3333333333333333,
              "#9c179e"
             ],
             [
              0.4444444444444444,
              "#bd3786"
             ],
             [
              0.5555555555555556,
              "#d8576b"
             ],
             [
              0.6666666666666666,
              "#ed7953"
             ],
             [
              0.7777777777777778,
              "#fb9f3a"
             ],
             [
              0.8888888888888888,
              "#fdca26"
             ],
             [
              1,
              "#f0f921"
             ]
            ],
            "type": "surface"
           }
          ],
          "table": [
           {
            "cells": {
             "fill": {
              "color": "#EBF0F8"
             },
             "line": {
              "color": "white"
             }
            },
            "header": {
             "fill": {
              "color": "#C8D4E3"
             },
             "line": {
              "color": "white"
             }
            },
            "type": "table"
           }
          ]
         },
         "layout": {
          "annotationdefaults": {
           "arrowcolor": "#2a3f5f",
           "arrowhead": 0,
           "arrowwidth": 1
          },
          "coloraxis": {
           "colorbar": {
            "outlinewidth": 0,
            "ticks": ""
           }
          },
          "colorscale": {
           "diverging": [
            [
             0,
             "#8e0152"
            ],
            [
             0.1,
             "#c51b7d"
            ],
            [
             0.2,
             "#de77ae"
            ],
            [
             0.3,
             "#f1b6da"
            ],
            [
             0.4,
             "#fde0ef"
            ],
            [
             0.5,
             "#f7f7f7"
            ],
            [
             0.6,
             "#e6f5d0"
            ],
            [
             0.7,
             "#b8e186"
            ],
            [
             0.8,
             "#7fbc41"
            ],
            [
             0.9,
             "#4d9221"
            ],
            [
             1,
             "#276419"
            ]
           ],
           "sequential": [
            [
             0,
             "#0d0887"
            ],
            [
             0.1111111111111111,
             "#46039f"
            ],
            [
             0.2222222222222222,
             "#7201a8"
            ],
            [
             0.3333333333333333,
             "#9c179e"
            ],
            [
             0.4444444444444444,
             "#bd3786"
            ],
            [
             0.5555555555555556,
             "#d8576b"
            ],
            [
             0.6666666666666666,
             "#ed7953"
            ],
            [
             0.7777777777777778,
             "#fb9f3a"
            ],
            [
             0.8888888888888888,
             "#fdca26"
            ],
            [
             1,
             "#f0f921"
            ]
           ],
           "sequentialminus": [
            [
             0,
             "#0d0887"
            ],
            [
             0.1111111111111111,
             "#46039f"
            ],
            [
             0.2222222222222222,
             "#7201a8"
            ],
            [
             0.3333333333333333,
             "#9c179e"
            ],
            [
             0.4444444444444444,
             "#bd3786"
            ],
            [
             0.5555555555555556,
             "#d8576b"
            ],
            [
             0.6666666666666666,
             "#ed7953"
            ],
            [
             0.7777777777777778,
             "#fb9f3a"
            ],
            [
             0.8888888888888888,
             "#fdca26"
            ],
            [
             1,
             "#f0f921"
            ]
           ]
          },
          "colorway": [
           "#636efa",
           "#EF553B",
           "#00cc96",
           "#ab63fa",
           "#FFA15A",
           "#19d3f3",
           "#FF6692",
           "#B6E880",
           "#FF97FF",
           "#FECB52"
          ],
          "font": {
           "color": "#2a3f5f"
          },
          "geo": {
           "bgcolor": "white",
           "lakecolor": "white",
           "landcolor": "#E5ECF6",
           "showlakes": true,
           "showland": true,
           "subunitcolor": "white"
          },
          "hoverlabel": {
           "align": "left"
          },
          "hovermode": "closest",
          "mapbox": {
           "style": "light"
          },
          "paper_bgcolor": "white",
          "plot_bgcolor": "#E5ECF6",
          "polar": {
           "angularaxis": {
            "gridcolor": "white",
            "linecolor": "white",
            "ticks": ""
           },
           "bgcolor": "#E5ECF6",
           "radialaxis": {
            "gridcolor": "white",
            "linecolor": "white",
            "ticks": ""
           }
          },
          "scene": {
           "xaxis": {
            "backgroundcolor": "#E5ECF6",
            "gridcolor": "white",
            "gridwidth": 2,
            "linecolor": "white",
            "showbackground": true,
            "ticks": "",
            "zerolinecolor": "white"
           },
           "yaxis": {
            "backgroundcolor": "#E5ECF6",
            "gridcolor": "white",
            "gridwidth": 2,
            "linecolor": "white",
            "showbackground": true,
            "ticks": "",
            "zerolinecolor": "white"
           },
           "zaxis": {
            "backgroundcolor": "#E5ECF6",
            "gridcolor": "white",
            "gridwidth": 2,
            "linecolor": "white",
            "showbackground": true,
            "ticks": "",
            "zerolinecolor": "white"
           }
          },
          "shapedefaults": {
           "line": {
            "color": "#2a3f5f"
           }
          },
          "ternary": {
           "aaxis": {
            "gridcolor": "white",
            "linecolor": "white",
            "ticks": ""
           },
           "baxis": {
            "gridcolor": "white",
            "linecolor": "white",
            "ticks": ""
           },
           "bgcolor": "#E5ECF6",
           "caxis": {
            "gridcolor": "white",
            "linecolor": "white",
            "ticks": ""
           }
          },
          "title": {
           "x": 0.05
          },
          "xaxis": {
           "automargin": true,
           "gridcolor": "white",
           "linecolor": "white",
           "ticks": "",
           "title": {
            "standoff": 15
           },
           "zerolinecolor": "white",
           "zerolinewidth": 2
          },
          "yaxis": {
           "automargin": true,
           "gridcolor": "white",
           "linecolor": "white",
           "ticks": "",
           "title": {
            "standoff": 15
           },
           "zerolinecolor": "white",
           "zerolinewidth": 2
          }
         }
        },
        "xaxis": {
         "anchor": "y",
         "domain": [
          0,
          1
         ],
         "title": {
          "text": "Transition"
         }
        },
        "yaxis": {
         "anchor": "x",
         "domain": [
          0,
          1
         ],
         "title": {
          "text": "Intensity"
         }
        }
       }
      },
      "text/html": [
       "<div>                            <div id=\"21cdd450-6c0e-4e23-85e8-67f36a3f4ac2\" class=\"plotly-graph-div\" style=\"height:525px; width:100%;\"></div>            <script type=\"text/javascript\">                require([\"plotly\"], function(Plotly) {                    window.PLOTLYENV=window.PLOTLYENV || {};                                    if (document.getElementById(\"21cdd450-6c0e-4e23-85e8-67f36a3f4ac2\")) {                    Plotly.newPlot(                        \"21cdd450-6c0e-4e23-85e8-67f36a3f4ac2\",                        [{\"alignmentgroup\": \"True\", \"customdata\": [[\"[TG(37:0)]_FA14:0\", \"TAG\"]], \"hovertemplate\": \"Lipid=%{customdata[0]}<br>Transition=%{x}<br>Intensity=%{y}<br>Class=%{customdata[1]}<extra></extra>\", \"legendgroup\": \"[TG(37:0)]_FA14:0\", \"marker\": {\"color\": \"#636efa\"}, \"name\": \"[TG(37:0)]_FA14:0\", \"offsetgroup\": \"[TG(37:0)]_FA14:0\", \"orientation\": \"v\", \"showlegend\": true, \"textposition\": \"auto\", \"type\": \"bar\", \"x\": [\"670.6 -> 425.4\"], \"xaxis\": \"x\", \"y\": [45072.822998046875], \"yaxis\": \"y\"}, {\"alignmentgroup\": \"True\", \"customdata\": [[\"[TG(38:1)]_FA14:0\", \"TAG\"]], \"hovertemplate\": \"Lipid=%{customdata[0]}<br>Transition=%{x}<br>Intensity=%{y}<br>Class=%{customdata[1]}<extra></extra>\", \"legendgroup\": \"[TG(38:1)]_FA14:0\", \"marker\": {\"color\": \"#EF553B\"}, \"name\": \"[TG(38:1)]_FA14:0\", \"offsetgroup\": \"[TG(38:1)]_FA14:0\", \"orientation\": \"v\", \"showlegend\": true, \"textposition\": \"auto\", \"type\": \"bar\", \"x\": [\"682.6 -> 437.4\"], \"xaxis\": \"x\", \"y\": [64211.844482421875], \"yaxis\": \"y\"}, {\"alignmentgroup\": \"True\", \"customdata\": [[\"[TG(38:0)]_FA14:0\", \"TAG\"]], \"hovertemplate\": \"Lipid=%{customdata[0]}<br>Transition=%{x}<br>Intensity=%{y}<br>Class=%{customdata[1]}<extra></extra>\", \"legendgroup\": \"[TG(38:0)]_FA14:0\", \"marker\": {\"color\": \"#00cc96\"}, \"name\": \"[TG(38:0)]_FA14:0\", \"offsetgroup\": \"[TG(38:0)]_FA14:0\", \"orientation\": \"v\", \"showlegend\": true, \"textposition\": \"auto\", \"type\": \"bar\", \"x\": [\"684.6 -> 439.4\"], \"xaxis\": \"x\", \"y\": [237300.73681640625], \"yaxis\": \"y\"}, {\"alignmentgroup\": \"True\", \"customdata\": [[\"[TG(39:1)]_FA14:0\", \"TAG\"]], \"hovertemplate\": \"Lipid=%{customdata[0]}<br>Transition=%{x}<br>Intensity=%{y}<br>Class=%{customdata[1]}<extra></extra>\", \"legendgroup\": \"[TG(39:1)]_FA14:0\", \"marker\": {\"color\": \"#ab63fa\"}, \"name\": \"[TG(39:1)]_FA14:0\", \"offsetgroup\": \"[TG(39:1)]_FA14:0\", \"orientation\": \"v\", \"showlegend\": true, \"textposition\": \"auto\", \"type\": \"bar\", \"x\": [\"696.6 -> 451.4\"], \"xaxis\": \"x\", \"y\": [27744.182037353516], \"yaxis\": \"y\"}, {\"alignmentgroup\": \"True\", \"customdata\": [[\"[TG(39:0)]_FA14:0\", \"TAG\"]], \"hovertemplate\": \"Lipid=%{customdata[0]}<br>Transition=%{x}<br>Intensity=%{y}<br>Class=%{customdata[1]}<extra></extra>\", \"legendgroup\": \"[TG(39:0)]_FA14:0\", \"marker\": {\"color\": \"#FFA15A\"}, \"name\": \"[TG(39:0)]_FA14:0\", \"offsetgroup\": \"[TG(39:0)]_FA14:0\", \"orientation\": \"v\", \"showlegend\": true, \"textposition\": \"auto\", \"type\": \"bar\", \"x\": [\"698.6 -> 453.4\"], \"xaxis\": \"x\", \"y\": [37315.48260498047], \"yaxis\": \"y\"}, {\"alignmentgroup\": \"True\", \"customdata\": [[\"[TG(40:2)]_FA14:0\", \"TAG\"]], \"hovertemplate\": \"Lipid=%{customdata[0]}<br>Transition=%{x}<br>Intensity=%{y}<br>Class=%{customdata[1]}<extra></extra>\", \"legendgroup\": \"[TG(40:2)]_FA14:0\", \"marker\": {\"color\": \"#19d3f3\"}, \"name\": \"[TG(40:2)]_FA14:0\", \"offsetgroup\": \"[TG(40:2)]_FA14:0\", \"orientation\": \"v\", \"showlegend\": true, \"textposition\": \"auto\", \"type\": \"bar\", \"x\": [\"708.6 -> 463.4\"], \"xaxis\": \"x\", \"y\": [24415.261688232422], \"yaxis\": \"y\"}, {\"alignmentgroup\": \"True\", \"customdata\": [[\"[TG(40:1)]_FA14:0\", \"TAG\"]], \"hovertemplate\": \"Lipid=%{customdata[0]}<br>Transition=%{x}<br>Intensity=%{y}<br>Class=%{customdata[1]}<extra></extra>\", \"legendgroup\": \"[TG(40:1)]_FA14:0\", \"marker\": {\"color\": \"#FF6692\"}, \"name\": \"[TG(40:1)]_FA14:0\", \"offsetgroup\": \"[TG(40:1)]_FA14:0\", \"orientation\": \"v\", \"showlegend\": true, \"textposition\": \"auto\", \"type\": \"bar\", \"x\": [\"710.6 -> 465.4\"], \"xaxis\": \"x\", \"y\": [34708.20263671875], \"yaxis\": \"y\"}, {\"alignmentgroup\": \"True\", \"customdata\": [[\"[TG(40:0)]_FA14:0\", \"TAG\"]], \"hovertemplate\": \"Lipid=%{customdata[0]}<br>Transition=%{x}<br>Intensity=%{y}<br>Class=%{customdata[1]}<extra></extra>\", \"legendgroup\": \"[TG(40:0)]_FA14:0\", \"marker\": {\"color\": \"#B6E880\"}, \"name\": \"[TG(40:0)]_FA14:0\", \"offsetgroup\": \"[TG(40:0)]_FA14:0\", \"orientation\": \"v\", \"showlegend\": true, \"textposition\": \"auto\", \"type\": \"bar\", \"x\": [\"712.6 -> 467.4\"], \"xaxis\": \"x\", \"y\": [155327.89086914062], \"yaxis\": \"y\"}, {\"alignmentgroup\": \"True\", \"customdata\": [[\"[TG(41:2)]_FA14:0\", \"TAG\"]], \"hovertemplate\": \"Lipid=%{customdata[0]}<br>Transition=%{x}<br>Intensity=%{y}<br>Class=%{customdata[1]}<extra></extra>\", \"legendgroup\": \"[TG(41:2)]_FA14:0\", \"marker\": {\"color\": \"#FF97FF\"}, \"name\": \"[TG(41:2)]_FA14:0\", \"offsetgroup\": \"[TG(41:2)]_FA14:0\", \"orientation\": \"v\", \"showlegend\": true, \"textposition\": \"auto\", \"type\": \"bar\", \"x\": [\"722.6 -> 477.4\"], \"xaxis\": \"x\", \"y\": [20373.861602783203], \"yaxis\": \"y\"}, {\"alignmentgroup\": \"True\", \"customdata\": [[\"[TG(41:1)]_FA14:0\", \"TAG\"]], \"hovertemplate\": \"Lipid=%{customdata[0]}<br>Transition=%{x}<br>Intensity=%{y}<br>Class=%{customdata[1]}<extra></extra>\", \"legendgroup\": \"[TG(41:1)]_FA14:0\", \"marker\": {\"color\": \"#FECB52\"}, \"name\": \"[TG(41:1)]_FA14:0\", \"offsetgroup\": \"[TG(41:1)]_FA14:0\", \"orientation\": \"v\", \"showlegend\": true, \"textposition\": \"auto\", \"type\": \"bar\", \"x\": [\"724.6 -> 479.4\"], \"xaxis\": \"x\", \"y\": [19893.661392211914], \"yaxis\": \"y\"}, {\"alignmentgroup\": \"True\", \"customdata\": [[\"[TG(41:0)]_FA14:0\", \"TAG\"]], \"hovertemplate\": \"Lipid=%{customdata[0]}<br>Transition=%{x}<br>Intensity=%{y}<br>Class=%{customdata[1]}<extra></extra>\", \"legendgroup\": \"[TG(41:0)]_FA14:0\", \"marker\": {\"color\": \"#636efa\"}, \"name\": \"[TG(41:0)]_FA14:0\", \"offsetgroup\": \"[TG(41:0)]_FA14:0\", \"orientation\": \"v\", \"showlegend\": true, \"textposition\": \"auto\", \"type\": \"bar\", \"x\": [\"726.7 -> 481.5\"], \"xaxis\": \"x\", \"y\": [26466.401824951172], \"yaxis\": \"y\"}, {\"alignmentgroup\": \"True\", \"customdata\": [[\"[TG(42:4)]_FA14:0\", \"TAG\"]], \"hovertemplate\": \"Lipid=%{customdata[0]}<br>Transition=%{x}<br>Intensity=%{y}<br>Class=%{customdata[1]}<extra></extra>\", \"legendgroup\": \"[TG(42:4)]_FA14:0\", \"marker\": {\"color\": \"#EF553B\"}, \"name\": \"[TG(42:4)]_FA14:0\", \"offsetgroup\": \"[TG(42:4)]_FA14:0\", \"orientation\": \"v\", \"showlegend\": true, \"textposition\": \"auto\", \"type\": \"bar\", \"x\": [\"732.6 -> 487.4\"], \"xaxis\": \"x\", \"y\": [15374.68115234375], \"yaxis\": \"y\"}, {\"alignmentgroup\": \"True\", \"customdata\": [[\"[TG(42:3)]_FA14:0\", \"TAG\"]], \"hovertemplate\": \"Lipid=%{customdata[0]}<br>Transition=%{x}<br>Intensity=%{y}<br>Class=%{customdata[1]}<extra></extra>\", \"legendgroup\": \"[TG(42:3)]_FA14:0\", \"marker\": {\"color\": \"#00cc96\"}, \"name\": \"[TG(42:3)]_FA14:0\", \"offsetgroup\": \"[TG(42:3)]_FA14:0\", \"orientation\": \"v\", \"showlegend\": true, \"textposition\": \"auto\", \"type\": \"bar\", \"x\": [\"734.6 -> 489.4\"], \"xaxis\": \"x\", \"y\": [19889.30142211914], \"yaxis\": \"y\"}, {\"alignmentgroup\": \"True\", \"customdata\": [[\"[TG(42:2)]_FA14:0\", \"TAG\"]], \"hovertemplate\": \"Lipid=%{customdata[0]}<br>Transition=%{x}<br>Intensity=%{y}<br>Class=%{customdata[1]}<extra></extra>\", \"legendgroup\": \"[TG(42:2)]_FA14:0\", \"marker\": {\"color\": \"#ab63fa\"}, \"name\": \"[TG(42:2)]_FA14:0\", \"offsetgroup\": \"[TG(42:2)]_FA14:0\", \"orientation\": \"v\", \"showlegend\": true, \"textposition\": \"auto\", \"type\": \"bar\", \"x\": [\"736.6 -> 491.4\"], \"xaxis\": \"x\", \"y\": [17753.80108642578], \"yaxis\": \"y\"}, {\"alignmentgroup\": \"True\", \"customdata\": [[\"[TG(42:1)]_FA14:0\", \"TAG\"]], \"hovertemplate\": \"Lipid=%{customdata[0]}<br>Transition=%{x}<br>Intensity=%{y}<br>Class=%{customdata[1]}<extra></extra>\", \"legendgroup\": \"[TG(42:1)]_FA14:0\", \"marker\": {\"color\": \"#FFA15A\"}, \"name\": \"[TG(42:1)]_FA14:0\", \"offsetgroup\": \"[TG(42:1)]_FA14:0\", \"orientation\": \"v\", \"showlegend\": true, \"textposition\": \"auto\", \"type\": \"bar\", \"x\": [\"738.7 -> 493.5\"], \"xaxis\": \"x\", \"y\": [131865.6494140625], \"yaxis\": \"y\"}, {\"alignmentgroup\": \"True\", \"customdata\": [[\"[TG(42:0)]_FA14:0\", \"TAG\"]], \"hovertemplate\": \"Lipid=%{customdata[0]}<br>Transition=%{x}<br>Intensity=%{y}<br>Class=%{customdata[1]}<extra></extra>\", \"legendgroup\": \"[TG(42:0)]_FA14:0\", \"marker\": {\"color\": \"#19d3f3\"}, \"name\": \"[TG(42:0)]_FA14:0\", \"offsetgroup\": \"[TG(42:0)]_FA14:0\", \"orientation\": \"v\", \"showlegend\": true, \"textposition\": \"auto\", \"type\": \"bar\", \"x\": [\"740.7 -> 495.5\"], \"xaxis\": \"x\", \"y\": [94824.94689941406], \"yaxis\": \"y\"}, {\"alignmentgroup\": \"True\", \"customdata\": [[\"[TG(43:4)]_FA14:0\", \"TAG\"]], \"hovertemplate\": \"Lipid=%{customdata[0]}<br>Transition=%{x}<br>Intensity=%{y}<br>Class=%{customdata[1]}<extra></extra>\", \"legendgroup\": \"[TG(43:4)]_FA14:0\", \"marker\": {\"color\": \"#FF6692\"}, \"name\": \"[TG(43:4)]_FA14:0\", \"offsetgroup\": \"[TG(43:4)]_FA14:0\", \"orientation\": \"v\", \"showlegend\": true, \"textposition\": \"auto\", \"type\": \"bar\", \"x\": [\"746.6 -> 501.4\"], \"xaxis\": \"x\", \"y\": [16791.481231689453], \"yaxis\": \"y\"}, {\"alignmentgroup\": \"True\", \"customdata\": [[\"[TG(43:3)]_FA14:0\", \"TAG\"]], \"hovertemplate\": \"Lipid=%{customdata[0]}<br>Transition=%{x}<br>Intensity=%{y}<br>Class=%{customdata[1]}<extra></extra>\", \"legendgroup\": \"[TG(43:3)]_FA14:0\", \"marker\": {\"color\": \"#B6E880\"}, \"name\": \"[TG(43:3)]_FA14:0\", \"offsetgroup\": \"[TG(43:3)]_FA14:0\", \"orientation\": \"v\", \"showlegend\": true, \"textposition\": \"auto\", \"type\": \"bar\", \"x\": [\"748.6 -> 503.4\"], \"xaxis\": \"x\", \"y\": [63030.504150390625], \"yaxis\": \"y\"}, {\"alignmentgroup\": \"True\", \"customdata\": [[\"[TG(43:2)]_FA14:0\", \"TAG\"]], \"hovertemplate\": \"Lipid=%{customdata[0]}<br>Transition=%{x}<br>Intensity=%{y}<br>Class=%{customdata[1]}<extra></extra>\", \"legendgroup\": \"[TG(43:2)]_FA14:0\", \"marker\": {\"color\": \"#FF97FF\"}, \"name\": \"[TG(43:2)]_FA14:0\", \"offsetgroup\": \"[TG(43:2)]_FA14:0\", \"orientation\": \"v\", \"showlegend\": true, \"textposition\": \"auto\", \"type\": \"bar\", \"x\": [\"750.7 -> 505.5\"], \"xaxis\": \"x\", \"y\": [26622.84196472168], \"yaxis\": \"y\"}, {\"alignmentgroup\": \"True\", \"customdata\": [[\"[TG(43:1)]_FA14:0\", \"TAG\"]], \"hovertemplate\": \"Lipid=%{customdata[0]}<br>Transition=%{x}<br>Intensity=%{y}<br>Class=%{customdata[1]}<extra></extra>\", \"legendgroup\": \"[TG(43:1)]_FA14:0\", \"marker\": {\"color\": \"#FECB52\"}, \"name\": \"[TG(43:1)]_FA14:0\", \"offsetgroup\": \"[TG(43:1)]_FA14:0\", \"orientation\": \"v\", \"showlegend\": true, \"textposition\": \"auto\", \"type\": \"bar\", \"x\": [\"752.7 -> 507.5\"], \"xaxis\": \"x\", \"y\": [28583.40203857422], \"yaxis\": \"y\"}, {\"alignmentgroup\": \"True\", \"customdata\": [[\"[TG(43:0)]_FA14:0\", \"TAG\"]], \"hovertemplate\": \"Lipid=%{customdata[0]}<br>Transition=%{x}<br>Intensity=%{y}<br>Class=%{customdata[1]}<extra></extra>\", \"legendgroup\": \"[TG(43:0)]_FA14:0\", \"marker\": {\"color\": \"#636efa\"}, \"name\": \"[TG(43:0)]_FA14:0\", \"offsetgroup\": \"[TG(43:0)]_FA14:0\", \"orientation\": \"v\", \"showlegend\": true, \"textposition\": \"auto\", \"type\": \"bar\", \"x\": [\"754.7 -> 509.5\"], \"xaxis\": \"x\", \"y\": [29018.08203125], \"yaxis\": \"y\"}, {\"alignmentgroup\": \"True\", \"customdata\": [[\"[TG(44:5)]_FA14:0\", \"TAG\"]], \"hovertemplate\": \"Lipid=%{customdata[0]}<br>Transition=%{x}<br>Intensity=%{y}<br>Class=%{customdata[1]}<extra></extra>\", \"legendgroup\": \"[TG(44:5)]_FA14:0\", \"marker\": {\"color\": \"#EF553B\"}, \"name\": \"[TG(44:5)]_FA14:0\", \"offsetgroup\": \"[TG(44:5)]_FA14:0\", \"orientation\": \"v\", \"showlegend\": true, \"textposition\": \"auto\", \"type\": \"bar\", \"x\": [\"758.6 -> 513.4\"], \"xaxis\": \"x\", \"y\": [17620.081260681152], \"yaxis\": \"y\"}, {\"alignmentgroup\": \"True\", \"customdata\": [[\"[TG(44:4)]_FA14:0\", \"TAG\"]], \"hovertemplate\": \"Lipid=%{customdata[0]}<br>Transition=%{x}<br>Intensity=%{y}<br>Class=%{customdata[1]}<extra></extra>\", \"legendgroup\": \"[TG(44:4)]_FA14:0\", \"marker\": {\"color\": \"#00cc96\"}, \"name\": \"[TG(44:4)]_FA14:0\", \"offsetgroup\": \"[TG(44:4)]_FA14:0\", \"orientation\": \"v\", \"showlegend\": true, \"textposition\": \"auto\", \"type\": \"bar\", \"x\": [\"760.6 -> 515.4\"], \"xaxis\": \"x\", \"y\": [15765.661041259766], \"yaxis\": \"y\"}, {\"alignmentgroup\": \"True\", \"customdata\": [[\"[TG(44:3)]_FA14:0\", \"TAG\"]], \"hovertemplate\": \"Lipid=%{customdata[0]}<br>Transition=%{x}<br>Intensity=%{y}<br>Class=%{customdata[1]}<extra></extra>\", \"legendgroup\": \"[TG(44:3)]_FA14:0\", \"marker\": {\"color\": \"#ab63fa\"}, \"name\": \"[TG(44:3)]_FA14:0\", \"offsetgroup\": \"[TG(44:3)]_FA14:0\", \"orientation\": \"v\", \"showlegend\": true, \"textposition\": \"auto\", \"type\": \"bar\", \"x\": [\"762.7 -> 517.5\"], \"xaxis\": \"x\", \"y\": [18071.14141845703], \"yaxis\": \"y\"}, {\"alignmentgroup\": \"True\", \"customdata\": [[\"[TG(44:2)]_FA14:0\", \"TAG\"]], \"hovertemplate\": \"Lipid=%{customdata[0]}<br>Transition=%{x}<br>Intensity=%{y}<br>Class=%{customdata[1]}<extra></extra>\", \"legendgroup\": \"[TG(44:2)]_FA14:0\", \"marker\": {\"color\": \"#FFA15A\"}, \"name\": \"[TG(44:2)]_FA14:0\", \"offsetgroup\": \"[TG(44:2)]_FA14:0\", \"orientation\": \"v\", \"showlegend\": true, \"textposition\": \"auto\", \"type\": \"bar\", \"x\": [\"764.7 -> 519.5\"], \"xaxis\": \"x\", \"y\": [39169.32312011719], \"yaxis\": \"y\"}, {\"alignmentgroup\": \"True\", \"customdata\": [[\"[TG(44:1)]_FA14:0\", \"TAG\"]], \"hovertemplate\": \"Lipid=%{customdata[0]}<br>Transition=%{x}<br>Intensity=%{y}<br>Class=%{customdata[1]}<extra></extra>\", \"legendgroup\": \"[TG(44:1)]_FA14:0\", \"marker\": {\"color\": \"#19d3f3\"}, \"name\": \"[TG(44:1)]_FA14:0\", \"offsetgroup\": \"[TG(44:1)]_FA14:0\", \"orientation\": \"v\", \"showlegend\": true, \"textposition\": \"auto\", \"type\": \"bar\", \"x\": [\"766.7 -> 521.5\"], \"xaxis\": \"x\", \"y\": [31882.602020263672], \"yaxis\": \"y\"}, {\"alignmentgroup\": \"True\", \"customdata\": [[\"[TG(44:0),TG(O-45:0)]_FA14:0\", \"TAG\"]], \"hovertemplate\": \"Lipid=%{customdata[0]}<br>Transition=%{x}<br>Intensity=%{y}<br>Class=%{customdata[1]}<extra></extra>\", \"legendgroup\": \"[TG(44:0),TG(O-45:0)]_FA14:0\", \"marker\": {\"color\": \"#FF6692\"}, \"name\": \"[TG(44:0),TG(O-45:0)]_FA14:0\", \"offsetgroup\": \"[TG(44:0),TG(O-45:0)]_FA14:0\", \"orientation\": \"v\", \"showlegend\": true, \"textposition\": \"auto\", \"type\": \"bar\", \"x\": [\"768.7 -> 523.5\"], \"xaxis\": \"x\", \"y\": [72722.04577636719], \"yaxis\": \"y\"}, {\"alignmentgroup\": \"True\", \"customdata\": [[\"[TG(45:5)]_FA14:0\", \"TAG\"]], \"hovertemplate\": \"Lipid=%{customdata[0]}<br>Transition=%{x}<br>Intensity=%{y}<br>Class=%{customdata[1]}<extra></extra>\", \"legendgroup\": \"[TG(45:5)]_FA14:0\", \"marker\": {\"color\": \"#B6E880\"}, \"name\": \"[TG(45:5)]_FA14:0\", \"offsetgroup\": \"[TG(45:5)]_FA14:0\", \"orientation\": \"v\", \"showlegend\": true, \"textposition\": \"auto\", \"type\": \"bar\", \"x\": [\"772.6 -> 527.4\"], \"xaxis\": \"x\", \"y\": [18579.66111755371], \"yaxis\": \"y\"}, {\"alignmentgroup\": \"True\", \"customdata\": [[\"[TG(45:4)]_FA14:0\", \"TAG\"]], \"hovertemplate\": \"Lipid=%{customdata[0]}<br>Transition=%{x}<br>Intensity=%{y}<br>Class=%{customdata[1]}<extra></extra>\", \"legendgroup\": \"[TG(45:4)]_FA14:0\", \"marker\": {\"color\": \"#FF97FF\"}, \"name\": \"[TG(45:4)]_FA14:0\", \"offsetgroup\": \"[TG(45:4)]_FA14:0\", \"orientation\": \"v\", \"showlegend\": true, \"textposition\": \"auto\", \"type\": \"bar\", \"x\": [\"774.7 -> 529.5\"], \"xaxis\": \"x\", \"y\": [21398.161346435547], \"yaxis\": \"y\"}, {\"alignmentgroup\": \"True\", \"customdata\": [[\"[TG(45:3)]_FA14:0\", \"TAG\"]], \"hovertemplate\": \"Lipid=%{customdata[0]}<br>Transition=%{x}<br>Intensity=%{y}<br>Class=%{customdata[1]}<extra></extra>\", \"legendgroup\": \"[TG(45:3)]_FA14:0\", \"marker\": {\"color\": \"#FECB52\"}, \"name\": \"[TG(45:3)]_FA14:0\", \"offsetgroup\": \"[TG(45:3)]_FA14:0\", \"orientation\": \"v\", \"showlegend\": true, \"textposition\": \"auto\", \"type\": \"bar\", \"x\": [\"776.7 -> 531.5\"], \"xaxis\": \"x\", \"y\": [18318.621307373047], \"yaxis\": \"y\"}, {\"alignmentgroup\": \"True\", \"customdata\": [[\"[TG(45:2)]_FA14:0\", \"TAG\"]], \"hovertemplate\": \"Lipid=%{customdata[0]}<br>Transition=%{x}<br>Intensity=%{y}<br>Class=%{customdata[1]}<extra></extra>\", \"legendgroup\": \"[TG(45:2)]_FA14:0\", \"marker\": {\"color\": \"#636efa\"}, \"name\": \"[TG(45:2)]_FA14:0\", \"offsetgroup\": \"[TG(45:2)]_FA14:0\", \"orientation\": \"v\", \"showlegend\": true, \"textposition\": \"auto\", \"type\": \"bar\", \"x\": [\"778.7 -> 533.5\"], \"xaxis\": \"x\", \"y\": [16532.841232299805], \"yaxis\": \"y\"}, {\"alignmentgroup\": \"True\", \"customdata\": [[\"[TG(45:1)]_FA14:0\", \"TAG\"]], \"hovertemplate\": \"Lipid=%{customdata[0]}<br>Transition=%{x}<br>Intensity=%{y}<br>Class=%{customdata[1]}<extra></extra>\", \"legendgroup\": \"[TG(45:1)]_FA14:0\", \"marker\": {\"color\": \"#EF553B\"}, \"name\": \"[TG(45:1)]_FA14:0\", \"offsetgroup\": \"[TG(45:1)]_FA14:0\", \"orientation\": \"v\", \"showlegend\": true, \"textposition\": \"auto\", \"type\": \"bar\", \"x\": [\"780.7 -> 535.5\"], \"xaxis\": \"x\", \"y\": [70729.62463378906], \"yaxis\": \"y\"}, {\"alignmentgroup\": \"True\", \"customdata\": [[\"[TG(45:0)]_FA14:0\", \"TAG\"]], \"hovertemplate\": \"Lipid=%{customdata[0]}<br>Transition=%{x}<br>Intensity=%{y}<br>Class=%{customdata[1]}<extra></extra>\", \"legendgroup\": \"[TG(45:0)]_FA14:0\", \"marker\": {\"color\": \"#00cc96\"}, \"name\": \"[TG(45:0)]_FA14:0\", \"offsetgroup\": \"[TG(45:0)]_FA14:0\", \"orientation\": \"v\", \"showlegend\": true, \"textposition\": \"auto\", \"type\": \"bar\", \"x\": [\"782.7 -> 537.5\"], \"xaxis\": \"x\", \"y\": [46782.86340332031], \"yaxis\": \"y\"}, {\"alignmentgroup\": \"True\", \"customdata\": [[\"[TG(46:6)]_FA14:0\", \"TAG\"]], \"hovertemplate\": \"Lipid=%{customdata[0]}<br>Transition=%{x}<br>Intensity=%{y}<br>Class=%{customdata[1]}<extra></extra>\", \"legendgroup\": \"[TG(46:6)]_FA14:0\", \"marker\": {\"color\": \"#ab63fa\"}, \"name\": \"[TG(46:6)]_FA14:0\", \"offsetgroup\": \"[TG(46:6)]_FA14:0\", \"orientation\": \"v\", \"showlegend\": true, \"textposition\": \"auto\", \"type\": \"bar\", \"x\": [\"784.6 -> 539.4\"], \"xaxis\": \"x\", \"y\": [20436.341217041016], \"yaxis\": \"y\"}, {\"alignmentgroup\": \"True\", \"customdata\": [[\"[TG(46:5)]_FA14:0\", \"TAG\"]], \"hovertemplate\": \"Lipid=%{customdata[0]}<br>Transition=%{x}<br>Intensity=%{y}<br>Class=%{customdata[1]}<extra></extra>\", \"legendgroup\": \"[TG(46:5)]_FA14:0\", \"marker\": {\"color\": \"#FFA15A\"}, \"name\": \"[TG(46:5)]_FA14:0\", \"offsetgroup\": \"[TG(46:5)]_FA14:0\", \"orientation\": \"v\", \"showlegend\": true, \"textposition\": \"auto\", \"type\": \"bar\", \"x\": [\"786.7 -> 541.5\"], \"xaxis\": \"x\", \"y\": [20286.141387939453], \"yaxis\": \"y\"}, {\"alignmentgroup\": \"True\", \"customdata\": [[\"[TG(46:4)]_FA14:0\", \"TAG\"]], \"hovertemplate\": \"Lipid=%{customdata[0]}<br>Transition=%{x}<br>Intensity=%{y}<br>Class=%{customdata[1]}<extra></extra>\", \"legendgroup\": \"[TG(46:4)]_FA14:0\", \"marker\": {\"color\": \"#19d3f3\"}, \"name\": \"[TG(46:4)]_FA14:0\", \"offsetgroup\": \"[TG(46:4)]_FA14:0\", \"orientation\": \"v\", \"showlegend\": true, \"textposition\": \"auto\", \"type\": \"bar\", \"x\": [\"788.7 -> 543.5\"], \"xaxis\": \"x\", \"y\": [18562.861236572266], \"yaxis\": \"y\"}, {\"alignmentgroup\": \"True\", \"customdata\": [[\"[TG(46:3)]_FA14:0\", \"TAG\"]], \"hovertemplate\": \"Lipid=%{customdata[0]}<br>Transition=%{x}<br>Intensity=%{y}<br>Class=%{customdata[1]}<extra></extra>\", \"legendgroup\": \"[TG(46:3)]_FA14:0\", \"marker\": {\"color\": \"#FF6692\"}, \"name\": \"[TG(46:3)]_FA14:0\", \"offsetgroup\": \"[TG(46:3)]_FA14:0\", \"orientation\": \"v\", \"showlegend\": true, \"textposition\": \"auto\", \"type\": \"bar\", \"x\": [\"790.7 -> 545.5\"], \"xaxis\": \"x\", \"y\": [20631.881439208984], \"yaxis\": \"y\"}, {\"alignmentgroup\": \"True\", \"customdata\": [[\"[TG(46:2)]_FA14:0\", \"TAG\"]], \"hovertemplate\": \"Lipid=%{customdata[0]}<br>Transition=%{x}<br>Intensity=%{y}<br>Class=%{customdata[1]}<extra></extra>\", \"legendgroup\": \"[TG(46:2)]_FA14:0\", \"marker\": {\"color\": \"#B6E880\"}, \"name\": \"[TG(46:2)]_FA14:0\", \"offsetgroup\": \"[TG(46:2)]_FA14:0\", \"orientation\": \"v\", \"showlegend\": true, \"textposition\": \"auto\", \"type\": \"bar\", \"x\": [\"792.7 -> 547.5\"], \"xaxis\": \"x\", \"y\": [44036.763610839844], \"yaxis\": \"y\"}, {\"alignmentgroup\": \"True\", \"customdata\": [[\"[TG(46:1)]_FA14:0\", \"TAG\"]], \"hovertemplate\": \"Lipid=%{customdata[0]}<br>Transition=%{x}<br>Intensity=%{y}<br>Class=%{customdata[1]}<extra></extra>\", \"legendgroup\": \"[TG(46:1)]_FA14:0\", \"marker\": {\"color\": \"#FF97FF\"}, \"name\": \"[TG(46:1)]_FA14:0\", \"offsetgroup\": \"[TG(46:1)]_FA14:0\", \"orientation\": \"v\", \"showlegend\": true, \"textposition\": \"auto\", \"type\": \"bar\", \"x\": [\"794.7 -> 549.5\"], \"xaxis\": \"x\", \"y\": [68736.06512451172], \"yaxis\": \"y\"}, {\"alignmentgroup\": \"True\", \"customdata\": [[\"[TG(46:0)]_FA14:0\", \"TAG\"]], \"hovertemplate\": \"Lipid=%{customdata[0]}<br>Transition=%{x}<br>Intensity=%{y}<br>Class=%{customdata[1]}<extra></extra>\", \"legendgroup\": \"[TG(46:0)]_FA14:0\", \"marker\": {\"color\": \"#FECB52\"}, \"name\": \"[TG(46:0)]_FA14:0\", \"offsetgroup\": \"[TG(46:0)]_FA14:0\", \"orientation\": \"v\", \"showlegend\": true, \"textposition\": \"auto\", \"type\": \"bar\", \"x\": [\"796.7 -> 551.5\"], \"xaxis\": \"x\", \"y\": [84029.40625], \"yaxis\": \"y\"}, {\"alignmentgroup\": \"True\", \"customdata\": [[\"[TG(47:6)]_FA14:0\", \"TAG\"]], \"hovertemplate\": \"Lipid=%{customdata[0]}<br>Transition=%{x}<br>Intensity=%{y}<br>Class=%{customdata[1]}<extra></extra>\", \"legendgroup\": \"[TG(47:6)]_FA14:0\", \"marker\": {\"color\": \"#636efa\"}, \"name\": \"[TG(47:6)]_FA14:0\", \"offsetgroup\": \"[TG(47:6)]_FA14:0\", \"orientation\": \"v\", \"showlegend\": true, \"textposition\": \"auto\", \"type\": \"bar\", \"x\": [\"798.7 -> 553.5\"], \"xaxis\": \"x\", \"y\": [26131.921813964844], \"yaxis\": \"y\"}, {\"alignmentgroup\": \"True\", \"customdata\": [[\"[TG(47:5)]_FA14:0\", \"TAG\"]], \"hovertemplate\": \"Lipid=%{customdata[0]}<br>Transition=%{x}<br>Intensity=%{y}<br>Class=%{customdata[1]}<extra></extra>\", \"legendgroup\": \"[TG(47:5)]_FA14:0\", \"marker\": {\"color\": \"#EF553B\"}, \"name\": \"[TG(47:5)]_FA14:0\", \"offsetgroup\": \"[TG(47:5)]_FA14:0\", \"orientation\": \"v\", \"showlegend\": true, \"textposition\": \"auto\", \"type\": \"bar\", \"x\": [\"800.7 -> 555.5\"], \"xaxis\": \"x\", \"y\": [20985.38151550293], \"yaxis\": \"y\"}, {\"alignmentgroup\": \"True\", \"customdata\": [[\"[TG(47:4)]_FA14:0\", \"TAG\"]], \"hovertemplate\": \"Lipid=%{customdata[0]}<br>Transition=%{x}<br>Intensity=%{y}<br>Class=%{customdata[1]}<extra></extra>\", \"legendgroup\": \"[TG(47:4)]_FA14:0\", \"marker\": {\"color\": \"#00cc96\"}, \"name\": \"[TG(47:4)]_FA14:0\", \"offsetgroup\": \"[TG(47:4)]_FA14:0\", \"orientation\": \"v\", \"showlegend\": true, \"textposition\": \"auto\", \"type\": \"bar\", \"x\": [\"802.7 -> 557.5\"], \"xaxis\": \"x\", \"y\": [18959.501403808594], \"yaxis\": \"y\"}, {\"alignmentgroup\": \"True\", \"customdata\": [[\"[TG(47:3)]_FA14:0\", \"TAG\"]], \"hovertemplate\": \"Lipid=%{customdata[0]}<br>Transition=%{x}<br>Intensity=%{y}<br>Class=%{customdata[1]}<extra></extra>\", \"legendgroup\": \"[TG(47:3)]_FA14:0\", \"marker\": {\"color\": \"#ab63fa\"}, \"name\": \"[TG(47:3)]_FA14:0\", \"offsetgroup\": \"[TG(47:3)]_FA14:0\", \"orientation\": \"v\", \"showlegend\": true, \"textposition\": \"auto\", \"type\": \"bar\", \"x\": [\"804.7 -> 559.5\"], \"xaxis\": \"x\", \"y\": [21987.14175415039], \"yaxis\": \"y\"}, {\"alignmentgroup\": \"True\", \"customdata\": [[\"[TG(47:2)]_FA14:0\", \"TAG\"]], \"hovertemplate\": \"Lipid=%{customdata[0]}<br>Transition=%{x}<br>Intensity=%{y}<br>Class=%{customdata[1]}<extra></extra>\", \"legendgroup\": \"[TG(47:2)]_FA14:0\", \"marker\": {\"color\": \"#FFA15A\"}, \"name\": \"[TG(47:2)]_FA14:0\", \"offsetgroup\": \"[TG(47:2)]_FA14:0\", \"orientation\": \"v\", \"showlegend\": true, \"textposition\": \"auto\", \"type\": \"bar\", \"x\": [\"806.7 -> 561.5\"], \"xaxis\": \"x\", \"y\": [24136.061737060547], \"yaxis\": \"y\"}, {\"alignmentgroup\": \"True\", \"customdata\": [[\"[TG(48:8),TG(47:1)]_FA14:0\", \"TAG\"]], \"hovertemplate\": \"Lipid=%{customdata[0]}<br>Transition=%{x}<br>Intensity=%{y}<br>Class=%{customdata[1]}<extra></extra>\", \"legendgroup\": \"[TG(48:8),TG(47:1)]_FA14:0\", \"marker\": {\"color\": \"#19d3f3\"}, \"name\": \"[TG(48:8),TG(47:1)]_FA14:0\", \"offsetgroup\": \"[TG(48:8),TG(47:1)]_FA14:0\", \"orientation\": \"v\", \"showlegend\": true, \"textposition\": \"auto\", \"type\": \"bar\", \"x\": [\"808.7 -> 563.5\"], \"xaxis\": \"x\", \"y\": [31395.762451171875], \"yaxis\": \"y\"}, {\"alignmentgroup\": \"True\", \"customdata\": [[\"[TG(48:7),TG(47:0)]_FA14:0\", \"TAG\"]], \"hovertemplate\": \"Lipid=%{customdata[0]}<br>Transition=%{x}<br>Intensity=%{y}<br>Class=%{customdata[1]}<extra></extra>\", \"legendgroup\": \"[TG(48:7),TG(47:0)]_FA14:0\", \"marker\": {\"color\": \"#FF6692\"}, \"name\": \"[TG(48:7),TG(47:0)]_FA14:0\", \"offsetgroup\": \"[TG(48:7),TG(47:0)]_FA14:0\", \"orientation\": \"v\", \"showlegend\": true, \"textposition\": \"auto\", \"type\": \"bar\", \"x\": [\"810.8 -> 565.6\"], \"xaxis\": \"x\", \"y\": [35014.362396240234], \"yaxis\": \"y\"}, {\"alignmentgroup\": \"True\", \"customdata\": [[\"[TG(48:6)]_FA14:0\", \"TAG\"]], \"hovertemplate\": \"Lipid=%{customdata[0]}<br>Transition=%{x}<br>Intensity=%{y}<br>Class=%{customdata[1]}<extra></extra>\", \"legendgroup\": \"[TG(48:6)]_FA14:0\", \"marker\": {\"color\": \"#B6E880\"}, \"name\": \"[TG(48:6)]_FA14:0\", \"offsetgroup\": \"[TG(48:6)]_FA14:0\", \"orientation\": \"v\", \"showlegend\": true, \"textposition\": \"auto\", \"type\": \"bar\", \"x\": [\"812.7 -> 567.5\"], \"xaxis\": \"x\", \"y\": [51366.403381347656], \"yaxis\": \"y\"}, {\"alignmentgroup\": \"True\", \"customdata\": [[\"[TG(48:5)]_FA14:0\", \"TAG\"]], \"hovertemplate\": \"Lipid=%{customdata[0]}<br>Transition=%{x}<br>Intensity=%{y}<br>Class=%{customdata[1]}<extra></extra>\", \"legendgroup\": \"[TG(48:5)]_FA14:0\", \"marker\": {\"color\": \"#FF97FF\"}, \"name\": \"[TG(48:5)]_FA14:0\", \"offsetgroup\": \"[TG(48:5)]_FA14:0\", \"orientation\": \"v\", \"showlegend\": true, \"textposition\": \"auto\", \"type\": \"bar\", \"x\": [\"814.7 -> 569.5\"], \"xaxis\": \"x\", \"y\": [25303.261779785156], \"yaxis\": \"y\"}, {\"alignmentgroup\": \"True\", \"customdata\": [[\"[TG(48:4)]_FA14:0\", \"TAG\"]], \"hovertemplate\": \"Lipid=%{customdata[0]}<br>Transition=%{x}<br>Intensity=%{y}<br>Class=%{customdata[1]}<extra></extra>\", \"legendgroup\": \"[TG(48:4)]_FA14:0\", \"marker\": {\"color\": \"#FECB52\"}, \"name\": \"[TG(48:4)]_FA14:0\", \"offsetgroup\": \"[TG(48:4)]_FA14:0\", \"orientation\": \"v\", \"showlegend\": true, \"textposition\": \"auto\", \"type\": \"bar\", \"x\": [\"816.7 -> 571.5\"], \"xaxis\": \"x\", \"y\": [23539.601623535156], \"yaxis\": \"y\"}, {\"alignmentgroup\": \"True\", \"customdata\": [[\"[TG(48:3)]_FA14:0\", \"TAG\"]], \"hovertemplate\": \"Lipid=%{customdata[0]}<br>Transition=%{x}<br>Intensity=%{y}<br>Class=%{customdata[1]}<extra></extra>\", \"legendgroup\": \"[TG(48:3)]_FA14:0\", \"marker\": {\"color\": \"#636efa\"}, \"name\": \"[TG(48:3)]_FA14:0\", \"offsetgroup\": \"[TG(48:3)]_FA14:0\", \"orientation\": \"v\", \"showlegend\": true, \"textposition\": \"auto\", \"type\": \"bar\", \"x\": [\"818.7 -> 573.5\"], \"xaxis\": \"x\", \"y\": [82808.48538208008], \"yaxis\": \"y\"}, {\"alignmentgroup\": \"True\", \"customdata\": [[\"[TG(48:2)]_FA14:0\", \"TAG\"]], \"hovertemplate\": \"Lipid=%{customdata[0]}<br>Transition=%{x}<br>Intensity=%{y}<br>Class=%{customdata[1]}<extra></extra>\", \"legendgroup\": \"[TG(48:2)]_FA14:0\", \"marker\": {\"color\": \"#EF553B\"}, \"name\": \"[TG(48:2)]_FA14:0\", \"offsetgroup\": \"[TG(48:2)]_FA14:0\", \"orientation\": \"v\", \"showlegend\": true, \"textposition\": \"auto\", \"type\": \"bar\", \"x\": [\"820.7 -> 575.5\"], \"xaxis\": \"x\", \"y\": [286373.7007446289], \"yaxis\": \"y\"}, {\"alignmentgroup\": \"True\", \"customdata\": [[\"[TG(49:8),TG(48:1)]_FA14:0\", \"TAG\"]], \"hovertemplate\": \"Lipid=%{customdata[0]}<br>Transition=%{x}<br>Intensity=%{y}<br>Class=%{customdata[1]}<extra></extra>\", \"legendgroup\": \"[TG(49:8),TG(48:1)]_FA14:0\", \"marker\": {\"color\": \"#00cc96\"}, \"name\": \"[TG(49:8),TG(48:1)]_FA14:0\", \"offsetgroup\": \"[TG(49:8),TG(48:1)]_FA14:0\", \"orientation\": \"v\", \"showlegend\": true, \"textposition\": \"auto\", \"type\": \"bar\", \"x\": [\"822.8 -> 577.6\"], \"xaxis\": \"x\", \"y\": [333579.6123046875], \"yaxis\": \"y\"}, {\"alignmentgroup\": \"True\", \"customdata\": [[\"[TG(49:7),TG(48:0)]_FA14:0\", \"TAG\"]], \"hovertemplate\": \"Lipid=%{customdata[0]}<br>Transition=%{x}<br>Intensity=%{y}<br>Class=%{customdata[1]}<extra></extra>\", \"legendgroup\": \"[TG(49:7),TG(48:0)]_FA14:0\", \"marker\": {\"color\": \"#ab63fa\"}, \"name\": \"[TG(49:7),TG(48:0)]_FA14:0\", \"offsetgroup\": \"[TG(49:7),TG(48:0)]_FA14:0\", \"orientation\": \"v\", \"showlegend\": true, \"textposition\": \"auto\", \"type\": \"bar\", \"x\": [\"824.8 -> 579.6\"], \"xaxis\": \"x\", \"y\": [80859.20629882812], \"yaxis\": \"y\"}, {\"alignmentgroup\": \"True\", \"customdata\": [[\"[TG(49:6)]_FA14:0\", \"TAG\"]], \"hovertemplate\": \"Lipid=%{customdata[0]}<br>Transition=%{x}<br>Intensity=%{y}<br>Class=%{customdata[1]}<extra></extra>\", \"legendgroup\": \"[TG(49:6)]_FA14:0\", \"marker\": {\"color\": \"#FFA15A\"}, \"name\": \"[TG(49:6)]_FA14:0\", \"offsetgroup\": \"[TG(49:6)]_FA14:0\", \"orientation\": \"v\", \"showlegend\": true, \"textposition\": \"auto\", \"type\": \"bar\", \"x\": [\"826.7 -> 581.5\"], \"xaxis\": \"x\", \"y\": [29734.44223022461], \"yaxis\": \"y\"}, {\"alignmentgroup\": \"True\", \"customdata\": [[\"[TG(49:5)]_FA14:0\", \"TAG\"]], \"hovertemplate\": \"Lipid=%{customdata[0]}<br>Transition=%{x}<br>Intensity=%{y}<br>Class=%{customdata[1]}<extra></extra>\", \"legendgroup\": \"[TG(49:5)]_FA14:0\", \"marker\": {\"color\": \"#19d3f3\"}, \"name\": \"[TG(49:5)]_FA14:0\", \"offsetgroup\": \"[TG(49:5)]_FA14:0\", \"orientation\": \"v\", \"showlegend\": true, \"textposition\": \"auto\", \"type\": \"bar\", \"x\": [\"828.7 -> 583.5\"], \"xaxis\": \"x\", \"y\": [22083.261352539062], \"yaxis\": \"y\"}, {\"alignmentgroup\": \"True\", \"customdata\": [[\"STD_15:0-18:1(d7)-15:0 TAG\", \"STD_15:0-18:1(d7)-15:0 TAG\"]], \"hovertemplate\": \"Lipid=%{customdata[0]}<br>Transition=%{x}<br>Intensity=%{y}<br>Class=%{customdata[1]}<extra></extra>\", \"legendgroup\": \"STD_15:0-18:1(d7)-15:0 TAG\", \"marker\": {\"color\": \"#FF6692\"}, \"name\": \"STD_15:0-18:1(d7)-15:0 TAG\", \"offsetgroup\": \"STD_15:0-18:1(d7)-15:0 TAG\", \"orientation\": \"v\", \"showlegend\": true, \"textposition\": \"auto\", \"type\": \"bar\", \"x\": [\"829.8 -> 570.4\"], \"xaxis\": \"x\", \"y\": [33835.302642822266], \"yaxis\": \"y\"}, {\"alignmentgroup\": \"True\", \"customdata\": [[\"[TG(49:4)]_FA14:0\", \"TAG\"]], \"hovertemplate\": \"Lipid=%{customdata[0]}<br>Transition=%{x}<br>Intensity=%{y}<br>Class=%{customdata[1]}<extra></extra>\", \"legendgroup\": \"[TG(49:4)]_FA14:0\", \"marker\": {\"color\": \"#B6E880\"}, \"name\": \"[TG(49:4)]_FA14:0\", \"offsetgroup\": \"[TG(49:4)]_FA14:0\", \"orientation\": \"v\", \"showlegend\": true, \"textposition\": \"auto\", \"type\": \"bar\", \"x\": [\"830.7 -> 585.5\"], \"xaxis\": \"x\", \"y\": [22096.821563720703], \"yaxis\": \"y\"}, {\"alignmentgroup\": \"True\", \"customdata\": [[\"[TG(49:3)]_FA14:0\", \"TAG\"]], \"hovertemplate\": \"Lipid=%{customdata[0]}<br>Transition=%{x}<br>Intensity=%{y}<br>Class=%{customdata[1]}<extra></extra>\", \"legendgroup\": \"[TG(49:3)]_FA14:0\", \"marker\": {\"color\": \"#FF97FF\"}, \"name\": \"[TG(49:3)]_FA14:0\", \"offsetgroup\": \"[TG(49:3)]_FA14:0\", \"orientation\": \"v\", \"showlegend\": true, \"textposition\": \"auto\", \"type\": \"bar\", \"x\": [\"832.7 -> 587.5\"], \"xaxis\": \"x\", \"y\": [26063.061752319336], \"yaxis\": \"y\"}, {\"alignmentgroup\": \"True\", \"customdata\": [[\"[TG(50:9),TG(49:2)]_FA14:0\", \"TAG\"]], \"hovertemplate\": \"Lipid=%{customdata[0]}<br>Transition=%{x}<br>Intensity=%{y}<br>Class=%{customdata[1]}<extra></extra>\", \"legendgroup\": \"[TG(50:9),TG(49:2)]_FA14:0\", \"marker\": {\"color\": \"#FECB52\"}, \"name\": \"[TG(50:9),TG(49:2)]_FA14:0\", \"offsetgroup\": \"[TG(50:9),TG(49:2)]_FA14:0\", \"orientation\": \"v\", \"showlegend\": true, \"textposition\": \"auto\", \"type\": \"bar\", \"x\": [\"834.8 -> 589.6\"], \"xaxis\": \"x\", \"y\": [29320.561981201172], \"yaxis\": \"y\"}, {\"alignmentgroup\": \"True\", \"customdata\": [[\"[TG(50:8),TG(49:1)]_FA14:0\", \"TAG\"]], \"hovertemplate\": \"Lipid=%{customdata[0]}<br>Transition=%{x}<br>Intensity=%{y}<br>Class=%{customdata[1]}<extra></extra>\", \"legendgroup\": \"[TG(50:8),TG(49:1)]_FA14:0\", \"marker\": {\"color\": \"#636efa\"}, \"name\": \"[TG(50:8),TG(49:1)]_FA14:0\", \"offsetgroup\": \"[TG(50:8),TG(49:1)]_FA14:0\", \"orientation\": \"v\", \"showlegend\": true, \"textposition\": \"auto\", \"type\": \"bar\", \"x\": [\"836.8 -> 591.6\"], \"xaxis\": \"x\", \"y\": [37507.4225769043], \"yaxis\": \"y\"}, {\"alignmentgroup\": \"True\", \"customdata\": [[\"[TG(50:7),TG(49:0)]_FA14:0\", \"TAG\"]], \"hovertemplate\": \"Lipid=%{customdata[0]}<br>Transition=%{x}<br>Intensity=%{y}<br>Class=%{customdata[1]}<extra></extra>\", \"legendgroup\": \"[TG(50:7),TG(49:0)]_FA14:0\", \"marker\": {\"color\": \"#EF553B\"}, \"name\": \"[TG(50:7),TG(49:0)]_FA14:0\", \"offsetgroup\": \"[TG(50:7),TG(49:0)]_FA14:0\", \"orientation\": \"v\", \"showlegend\": true, \"textposition\": \"auto\", \"type\": \"bar\", \"x\": [\"838.8 -> 593.6\"], \"xaxis\": \"x\", \"y\": [34488.222259521484], \"yaxis\": \"y\"}, {\"alignmentgroup\": \"True\", \"customdata\": [[\"[TG(50:6)]_FA14:0\", \"TAG\"]], \"hovertemplate\": \"Lipid=%{customdata[0]}<br>Transition=%{x}<br>Intensity=%{y}<br>Class=%{customdata[1]}<extra></extra>\", \"legendgroup\": \"[TG(50:6)]_FA14:0\", \"marker\": {\"color\": \"#00cc96\"}, \"name\": \"[TG(50:6)]_FA14:0\", \"offsetgroup\": \"[TG(50:6)]_FA14:0\", \"orientation\": \"v\", \"showlegend\": true, \"textposition\": \"auto\", \"type\": \"bar\", \"x\": [\"840.7 -> 595.5\"], \"xaxis\": \"x\", \"y\": [29315.282165527344], \"yaxis\": \"y\"}, {\"alignmentgroup\": \"True\", \"customdata\": [[\"[TG(50:5)]_FA14:0\", \"TAG\"]], \"hovertemplate\": \"Lipid=%{customdata[0]}<br>Transition=%{x}<br>Intensity=%{y}<br>Class=%{customdata[1]}<extra></extra>\", \"legendgroup\": \"[TG(50:5)]_FA14:0\", \"marker\": {\"color\": \"#ab63fa\"}, \"name\": \"[TG(50:5)]_FA14:0\", \"offsetgroup\": \"[TG(50:5)]_FA14:0\", \"orientation\": \"v\", \"showlegend\": true, \"textposition\": \"auto\", \"type\": \"bar\", \"x\": [\"842.7 -> 597.5\"], \"xaxis\": \"x\", \"y\": [35932.222259521484], \"yaxis\": \"y\"}, {\"alignmentgroup\": \"True\", \"customdata\": [[\"[TG(50:4)]_FA14:0\", \"TAG\"]], \"hovertemplate\": \"Lipid=%{customdata[0]}<br>Transition=%{x}<br>Intensity=%{y}<br>Class=%{customdata[1]}<extra></extra>\", \"legendgroup\": \"[TG(50:4)]_FA14:0\", \"marker\": {\"color\": \"#FFA15A\"}, \"name\": \"[TG(50:4)]_FA14:0\", \"offsetgroup\": \"[TG(50:4)]_FA14:0\", \"orientation\": \"v\", \"showlegend\": true, \"textposition\": \"auto\", \"type\": \"bar\", \"x\": [\"844.7 -> 599.5\"], \"xaxis\": \"x\", \"y\": [126118.92807006836], \"yaxis\": \"y\"}, {\"alignmentgroup\": \"True\", \"customdata\": [[\"[TG(50:3)]_FA14:0\", \"TAG\"]], \"hovertemplate\": \"Lipid=%{customdata[0]}<br>Transition=%{x}<br>Intensity=%{y}<br>Class=%{customdata[1]}<extra></extra>\", \"legendgroup\": \"[TG(50:3)]_FA14:0\", \"marker\": {\"color\": \"#19d3f3\"}, \"name\": \"[TG(50:3)]_FA14:0\", \"offsetgroup\": \"[TG(50:3)]_FA14:0\", \"orientation\": \"v\", \"showlegend\": true, \"textposition\": \"auto\", \"type\": \"bar\", \"x\": [\"846.8 -> 601.6\"], \"xaxis\": \"x\", \"y\": [432169.33502197266], \"yaxis\": \"y\"}, {\"alignmentgroup\": \"True\", \"customdata\": [[\"[TG(51:9),TG(50:2)]_FA14:0\", \"TAG\"]], \"hovertemplate\": \"Lipid=%{customdata[0]}<br>Transition=%{x}<br>Intensity=%{y}<br>Class=%{customdata[1]}<extra></extra>\", \"legendgroup\": \"[TG(51:9),TG(50:2)]_FA14:0\", \"marker\": {\"color\": \"#FF6692\"}, \"name\": \"[TG(51:9),TG(50:2)]_FA14:0\", \"offsetgroup\": \"[TG(51:9),TG(50:2)]_FA14:0\", \"orientation\": \"v\", \"showlegend\": true, \"textposition\": \"auto\", \"type\": \"bar\", \"x\": [\"848.8 -> 603.6\"], \"xaxis\": \"x\", \"y\": [501185.328125], \"yaxis\": \"y\"}, {\"alignmentgroup\": \"True\", \"customdata\": [[\"[TG(51:8),TG(50:1)]_FA14:0\", \"TAG\"]], \"hovertemplate\": \"Lipid=%{customdata[0]}<br>Transition=%{x}<br>Intensity=%{y}<br>Class=%{customdata[1]}<extra></extra>\", \"legendgroup\": \"[TG(51:8),TG(50:1)]_FA14:0\", \"marker\": {\"color\": \"#B6E880\"}, \"name\": \"[TG(51:8),TG(50:1)]_FA14:0\", \"offsetgroup\": \"[TG(51:8),TG(50:1)]_FA14:0\", \"orientation\": \"v\", \"showlegend\": true, \"textposition\": \"auto\", \"type\": \"bar\", \"x\": [\"850.8 -> 605.6\"], \"xaxis\": \"x\", \"y\": [86953.32531738281], \"yaxis\": \"y\"}, {\"alignmentgroup\": \"True\", \"customdata\": [[\"[TG(51:7),TG(50:0)]_FA14:0\", \"TAG\"]], \"hovertemplate\": \"Lipid=%{customdata[0]}<br>Transition=%{x}<br>Intensity=%{y}<br>Class=%{customdata[1]}<extra></extra>\", \"legendgroup\": \"[TG(51:7),TG(50:0)]_FA14:0\", \"marker\": {\"color\": \"#FF97FF\"}, \"name\": \"[TG(51:7),TG(50:0)]_FA14:0\", \"offsetgroup\": \"[TG(51:7),TG(50:0)]_FA14:0\", \"orientation\": \"v\", \"showlegend\": true, \"textposition\": \"auto\", \"type\": \"bar\", \"x\": [\"852.8 -> 607.6\"], \"xaxis\": \"x\", \"y\": [36228.10238647461], \"yaxis\": \"y\"}, {\"alignmentgroup\": \"True\", \"customdata\": [[\"[TG(51:6)]_FA14:0\", \"TAG\"]], \"hovertemplate\": \"Lipid=%{customdata[0]}<br>Transition=%{x}<br>Intensity=%{y}<br>Class=%{customdata[1]}<extra></extra>\", \"legendgroup\": \"[TG(51:6)]_FA14:0\", \"marker\": {\"color\": \"#FECB52\"}, \"name\": \"[TG(51:6)]_FA14:0\", \"offsetgroup\": \"[TG(51:6)]_FA14:0\", \"orientation\": \"v\", \"showlegend\": true, \"textposition\": \"auto\", \"type\": \"bar\", \"x\": [\"854.7 -> 609.5\"], \"xaxis\": \"x\", \"y\": [49931.743591308594], \"yaxis\": \"y\"}, {\"alignmentgroup\": \"True\", \"customdata\": [[\"[TG(51:5)]_FA14:0\", \"TAG\"]], \"hovertemplate\": \"Lipid=%{customdata[0]}<br>Transition=%{x}<br>Intensity=%{y}<br>Class=%{customdata[1]}<extra></extra>\", \"legendgroup\": \"[TG(51:5)]_FA14:0\", \"marker\": {\"color\": \"#636efa\"}, \"name\": \"[TG(51:5)]_FA14:0\", \"offsetgroup\": \"[TG(51:5)]_FA14:0\", \"orientation\": \"v\", \"showlegend\": true, \"textposition\": \"auto\", \"type\": \"bar\", \"x\": [\"856.7 -> 611.5\"], \"xaxis\": \"x\", \"y\": [23814.681854248047], \"yaxis\": \"y\"}, {\"alignmentgroup\": \"True\", \"customdata\": [[\"[TG(51:4)]_FA14:0\", \"TAG\"]], \"hovertemplate\": \"Lipid=%{customdata[0]}<br>Transition=%{x}<br>Intensity=%{y}<br>Class=%{customdata[1]}<extra></extra>\", \"legendgroup\": \"[TG(51:4)]_FA14:0\", \"marker\": {\"color\": \"#EF553B\"}, \"name\": \"[TG(51:4)]_FA14:0\", \"offsetgroup\": \"[TG(51:4)]_FA14:0\", \"orientation\": \"v\", \"showlegend\": true, \"textposition\": \"auto\", \"type\": \"bar\", \"x\": [\"858.8 -> 613.6\"], \"xaxis\": \"x\", \"y\": [23092.781524658203], \"yaxis\": \"y\"}, {\"alignmentgroup\": \"True\", \"customdata\": [[\"[TG(52:10),TG(51:3)]_FA14:0\", \"TAG\"]], \"hovertemplate\": \"Lipid=%{customdata[0]}<br>Transition=%{x}<br>Intensity=%{y}<br>Class=%{customdata[1]}<extra></extra>\", \"legendgroup\": \"[TG(52:10),TG(51:3)]_FA14:0\", \"marker\": {\"color\": \"#00cc96\"}, \"name\": \"[TG(52:10),TG(51:3)]_FA14:0\", \"offsetgroup\": \"[TG(52:10),TG(51:3)]_FA14:0\", \"orientation\": \"v\", \"showlegend\": true, \"textposition\": \"auto\", \"type\": \"bar\", \"x\": [\"860.8 -> 615.6\"], \"xaxis\": \"x\", \"y\": [28172.081909179688], \"yaxis\": \"y\"}, {\"alignmentgroup\": \"True\", \"customdata\": [[\"[TG(52:9),TG(51:2)]_FA14:0\", \"TAG\"]], \"hovertemplate\": \"Lipid=%{customdata[0]}<br>Transition=%{x}<br>Intensity=%{y}<br>Class=%{customdata[1]}<extra></extra>\", \"legendgroup\": \"[TG(52:9),TG(51:2)]_FA14:0\", \"marker\": {\"color\": \"#ab63fa\"}, \"name\": \"[TG(52:9),TG(51:2)]_FA14:0\", \"offsetgroup\": \"[TG(52:9),TG(51:2)]_FA14:0\", \"orientation\": \"v\", \"showlegend\": true, \"textposition\": \"auto\", \"type\": \"bar\", \"x\": [\"862.8 -> 617.6\"], \"xaxis\": \"x\", \"y\": [41892.44287109375], \"yaxis\": \"y\"}, {\"alignmentgroup\": \"True\", \"customdata\": [[\"[TG(52:8),TG(51:1)]_FA14:0\", \"TAG\"]], \"hovertemplate\": \"Lipid=%{customdata[0]}<br>Transition=%{x}<br>Intensity=%{y}<br>Class=%{customdata[1]}<extra></extra>\", \"legendgroup\": \"[TG(52:8),TG(51:1)]_FA14:0\", \"marker\": {\"color\": \"#FFA15A\"}, \"name\": \"[TG(52:8),TG(51:1)]_FA14:0\", \"offsetgroup\": \"[TG(52:8),TG(51:1)]_FA14:0\", \"orientation\": \"v\", \"showlegend\": true, \"textposition\": \"auto\", \"type\": \"bar\", \"x\": [\"864.8 -> 619.6\"], \"xaxis\": \"x\", \"y\": [46549.702728271484], \"yaxis\": \"y\"}, {\"alignmentgroup\": \"True\", \"customdata\": [[\"[TG(52:7),TG(51:0)]_FA14:0\", \"TAG\"]], \"hovertemplate\": \"Lipid=%{customdata[0]}<br>Transition=%{x}<br>Intensity=%{y}<br>Class=%{customdata[1]}<extra></extra>\", \"legendgroup\": \"[TG(52:7),TG(51:0)]_FA14:0\", \"marker\": {\"color\": \"#19d3f3\"}, \"name\": \"[TG(52:7),TG(51:0)]_FA14:0\", \"offsetgroup\": \"[TG(52:7),TG(51:0)]_FA14:0\", \"orientation\": \"v\", \"showlegend\": true, \"textposition\": \"auto\", \"type\": \"bar\", \"x\": [\"866.8 -> 621.6\"], \"xaxis\": \"x\", \"y\": [34083.9026184082], \"yaxis\": \"y\"}, {\"alignmentgroup\": \"True\", \"customdata\": [[\"[TG(52:6)]_FA14:0\", \"TAG\"]], \"hovertemplate\": \"Lipid=%{customdata[0]}<br>Transition=%{x}<br>Intensity=%{y}<br>Class=%{customdata[1]}<extra></extra>\", \"legendgroup\": \"[TG(52:6)]_FA14:0\", \"marker\": {\"color\": \"#FF6692\"}, \"name\": \"[TG(52:6)]_FA14:0\", \"offsetgroup\": \"[TG(52:6)]_FA14:0\", \"orientation\": \"v\", \"showlegend\": true, \"textposition\": \"auto\", \"type\": \"bar\", \"x\": [\"868.7 -> 623.5\"], \"xaxis\": \"x\", \"y\": [40384.46292114258], \"yaxis\": \"y\"}, {\"alignmentgroup\": \"True\", \"customdata\": [[\"[TG(52:5)]_FA14:0\", \"TAG\"]], \"hovertemplate\": \"Lipid=%{customdata[0]}<br>Transition=%{x}<br>Intensity=%{y}<br>Class=%{customdata[1]}<extra></extra>\", \"legendgroup\": \"[TG(52:5)]_FA14:0\", \"marker\": {\"color\": \"#B6E880\"}, \"name\": \"[TG(52:5)]_FA14:0\", \"offsetgroup\": \"[TG(52:5)]_FA14:0\", \"orientation\": \"v\", \"showlegend\": true, \"textposition\": \"auto\", \"type\": \"bar\", \"x\": [\"870.8 -> 625.6\"], \"xaxis\": \"x\", \"y\": [44110.603759765625], \"yaxis\": \"y\"}, {\"alignmentgroup\": \"True\", \"customdata\": [[\"[TG(52:4)]_FA14:0\", \"TAG\"]], \"hovertemplate\": \"Lipid=%{customdata[0]}<br>Transition=%{x}<br>Intensity=%{y}<br>Class=%{customdata[1]}<extra></extra>\", \"legendgroup\": \"[TG(52:4)]_FA14:0\", \"marker\": {\"color\": \"#FF97FF\"}, \"name\": \"[TG(52:4)]_FA14:0\", \"offsetgroup\": \"[TG(52:4)]_FA14:0\", \"orientation\": \"v\", \"showlegend\": true, \"textposition\": \"auto\", \"type\": \"bar\", \"x\": [\"872.8 -> 627.6\"], \"xaxis\": \"x\", \"y\": [42770.922912597656], \"yaxis\": \"y\"}, {\"alignmentgroup\": \"True\", \"customdata\": [[\"[TG(53:10),TG(52:3)]_FA14:0\", \"TAG\"]], \"hovertemplate\": \"Lipid=%{customdata[0]}<br>Transition=%{x}<br>Intensity=%{y}<br>Class=%{customdata[1]}<extra></extra>\", \"legendgroup\": \"[TG(53:10),TG(52:3)]_FA14:0\", \"marker\": {\"color\": \"#FECB52\"}, \"name\": \"[TG(53:10),TG(52:3)]_FA14:0\", \"offsetgroup\": \"[TG(53:10),TG(52:3)]_FA14:0\", \"orientation\": \"v\", \"showlegend\": true, \"textposition\": \"auto\", \"type\": \"bar\", \"x\": [\"874.8 -> 629.6\"], \"xaxis\": \"x\", \"y\": [53848.18371582031], \"yaxis\": \"y\"}, {\"alignmentgroup\": \"True\", \"customdata\": [[\"[TG(53:9),TG(52:2)]_FA14:0\", \"TAG\"]], \"hovertemplate\": \"Lipid=%{customdata[0]}<br>Transition=%{x}<br>Intensity=%{y}<br>Class=%{customdata[1]}<extra></extra>\", \"legendgroup\": \"[TG(53:9),TG(52:2)]_FA14:0\", \"marker\": {\"color\": \"#636efa\"}, \"name\": \"[TG(53:9),TG(52:2)]_FA14:0\", \"offsetgroup\": \"[TG(53:9),TG(52:2)]_FA14:0\", \"orientation\": \"v\", \"showlegend\": true, \"textposition\": \"auto\", \"type\": \"bar\", \"x\": [\"876.8 -> 631.6\"], \"xaxis\": \"x\", \"y\": [56664.44418334961], \"yaxis\": \"y\"}, {\"alignmentgroup\": \"True\", \"customdata\": [[\"[TG(53:8),TG(52:1)]_FA14:0\", \"TAG\"]], \"hovertemplate\": \"Lipid=%{customdata[0]}<br>Transition=%{x}<br>Intensity=%{y}<br>Class=%{customdata[1]}<extra></extra>\", \"legendgroup\": \"[TG(53:8),TG(52:1)]_FA14:0\", \"marker\": {\"color\": \"#EF553B\"}, \"name\": \"[TG(53:8),TG(52:1)]_FA14:0\", \"offsetgroup\": \"[TG(53:8),TG(52:1)]_FA14:0\", \"orientation\": \"v\", \"showlegend\": true, \"textposition\": \"auto\", \"type\": \"bar\", \"x\": [\"878.8 -> 633.6\"], \"xaxis\": \"x\", \"y\": [47311.622985839844], \"yaxis\": \"y\"}, {\"alignmentgroup\": \"True\", \"customdata\": [[\"[TG(53:7),TG(52:0)]_FA14:0\", \"TAG\"]], \"hovertemplate\": \"Lipid=%{customdata[0]}<br>Transition=%{x}<br>Intensity=%{y}<br>Class=%{customdata[1]}<extra></extra>\", \"legendgroup\": \"[TG(53:7),TG(52:0)]_FA14:0\", \"marker\": {\"color\": \"#00cc96\"}, \"name\": \"[TG(53:7),TG(52:0)]_FA14:0\", \"offsetgroup\": \"[TG(53:7),TG(52:0)]_FA14:0\", \"orientation\": \"v\", \"showlegend\": true, \"textposition\": \"auto\", \"type\": \"bar\", \"x\": [\"880.8 -> 635.6\"], \"xaxis\": \"x\", \"y\": [30805.982299804688], \"yaxis\": \"y\"}, {\"alignmentgroup\": \"True\", \"customdata\": [[\"[TG(53:6)]_FA14:0\", \"TAG\"]], \"hovertemplate\": \"Lipid=%{customdata[0]}<br>Transition=%{x}<br>Intensity=%{y}<br>Class=%{customdata[1]}<extra></extra>\", \"legendgroup\": \"[TG(53:6)]_FA14:0\", \"marker\": {\"color\": \"#ab63fa\"}, \"name\": \"[TG(53:6)]_FA14:0\", \"offsetgroup\": \"[TG(53:6)]_FA14:0\", \"orientation\": \"v\", \"showlegend\": true, \"textposition\": \"auto\", \"type\": \"bar\", \"x\": [\"882.8 -> 637.6\"], \"xaxis\": \"x\", \"y\": [26174.721771240234], \"yaxis\": \"y\"}, {\"alignmentgroup\": \"True\", \"customdata\": [[\"[TG(54:12),TG(53:5)]_FA14:0\", \"TAG\"]], \"hovertemplate\": \"Lipid=%{customdata[0]}<br>Transition=%{x}<br>Intensity=%{y}<br>Class=%{customdata[1]}<extra></extra>\", \"legendgroup\": \"[TG(54:12),TG(53:5)]_FA14:0\", \"marker\": {\"color\": \"#FFA15A\"}, \"name\": \"[TG(54:12),TG(53:5)]_FA14:0\", \"offsetgroup\": \"[TG(54:12),TG(53:5)]_FA14:0\", \"orientation\": \"v\", \"showlegend\": true, \"textposition\": \"auto\", \"type\": \"bar\", \"x\": [\"884.8 -> 639.6\"], \"xaxis\": \"x\", \"y\": [25399.10171508789], \"yaxis\": \"y\"}, {\"alignmentgroup\": \"True\", \"customdata\": [[\"[TG(54:11),TG(53:4)]_FA14:0\", \"TAG\"]], \"hovertemplate\": \"Lipid=%{customdata[0]}<br>Transition=%{x}<br>Intensity=%{y}<br>Class=%{customdata[1]}<extra></extra>\", \"legendgroup\": \"[TG(54:11),TG(53:4)]_FA14:0\", \"marker\": {\"color\": \"#19d3f3\"}, \"name\": \"[TG(54:11),TG(53:4)]_FA14:0\", \"offsetgroup\": \"[TG(54:11),TG(53:4)]_FA14:0\", \"orientation\": \"v\", \"showlegend\": true, \"textposition\": \"auto\", \"type\": \"bar\", \"x\": [\"886.8 -> 641.6\"], \"xaxis\": \"x\", \"y\": [25004.141693115234], \"yaxis\": \"y\"}, {\"alignmentgroup\": \"True\", \"customdata\": [[\"[TG(54:10),TG(53:3)]_FA14:0\", \"TAG\"]], \"hovertemplate\": \"Lipid=%{customdata[0]}<br>Transition=%{x}<br>Intensity=%{y}<br>Class=%{customdata[1]}<extra></extra>\", \"legendgroup\": \"[TG(54:10),TG(53:3)]_FA14:0\", \"marker\": {\"color\": \"#FF6692\"}, \"name\": \"[TG(54:10),TG(53:3)]_FA14:0\", \"offsetgroup\": \"[TG(54:10),TG(53:3)]_FA14:0\", \"orientation\": \"v\", \"showlegend\": true, \"textposition\": \"auto\", \"type\": \"bar\", \"x\": [\"888.8 -> 643.6\"], \"xaxis\": \"x\", \"y\": [31147.182556152344], \"yaxis\": \"y\"}, {\"alignmentgroup\": \"True\", \"customdata\": [[\"[TG(54:9),TG(53:2)]_FA14:0\", \"TAG\"]], \"hovertemplate\": \"Lipid=%{customdata[0]}<br>Transition=%{x}<br>Intensity=%{y}<br>Class=%{customdata[1]}<extra></extra>\", \"legendgroup\": \"[TG(54:9),TG(53:2)]_FA14:0\", \"marker\": {\"color\": \"#B6E880\"}, \"name\": \"[TG(54:9),TG(53:2)]_FA14:0\", \"offsetgroup\": \"[TG(54:9),TG(53:2)]_FA14:0\", \"orientation\": \"v\", \"showlegend\": true, \"textposition\": \"auto\", \"type\": \"bar\", \"x\": [\"890.8 -> 645.6\"], \"xaxis\": \"x\", \"y\": [38980.08303833008], \"yaxis\": \"y\"}, {\"alignmentgroup\": \"True\", \"customdata\": [[\"[TG(54:8),TG(53:1)]_FA14:0\", \"TAG\"]], \"hovertemplate\": \"Lipid=%{customdata[0]}<br>Transition=%{x}<br>Intensity=%{y}<br>Class=%{customdata[1]}<extra></extra>\", \"legendgroup\": \"[TG(54:8),TG(53:1)]_FA14:0\", \"marker\": {\"color\": \"#FF97FF\"}, \"name\": \"[TG(54:8),TG(53:1)]_FA14:0\", \"offsetgroup\": \"[TG(54:8),TG(53:1)]_FA14:0\", \"orientation\": \"v\", \"showlegend\": true, \"textposition\": \"auto\", \"type\": \"bar\", \"x\": [\"892.8 -> 647.6\"], \"xaxis\": \"x\", \"y\": [46906.80307006836], \"yaxis\": \"y\"}, {\"alignmentgroup\": \"True\", \"customdata\": [[\"[TG(54:7),TG(53:0)]_FA14:0\", \"TAG\"]], \"hovertemplate\": \"Lipid=%{customdata[0]}<br>Transition=%{x}<br>Intensity=%{y}<br>Class=%{customdata[1]}<extra></extra>\", \"legendgroup\": \"[TG(54:7),TG(53:0)]_FA14:0\", \"marker\": {\"color\": \"#FECB52\"}, \"name\": \"[TG(54:7),TG(53:0)]_FA14:0\", \"offsetgroup\": \"[TG(54:7),TG(53:0)]_FA14:0\", \"orientation\": \"v\", \"showlegend\": true, \"textposition\": \"auto\", \"type\": \"bar\", \"x\": [\"894.8 -> 649.6\"], \"xaxis\": \"x\", \"y\": [38897.4231262207], \"yaxis\": \"y\"}, {\"alignmentgroup\": \"True\", \"customdata\": [[\"[TG(54:6)]_FA14:0\", \"TAG\"]], \"hovertemplate\": \"Lipid=%{customdata[0]}<br>Transition=%{x}<br>Intensity=%{y}<br>Class=%{customdata[1]}<extra></extra>\", \"legendgroup\": \"[TG(54:6)]_FA14:0\", \"marker\": {\"color\": \"#636efa\"}, \"name\": \"[TG(54:6)]_FA14:0\", \"offsetgroup\": \"[TG(54:6)]_FA14:0\", \"orientation\": \"v\", \"showlegend\": true, \"textposition\": \"auto\", \"type\": \"bar\", \"x\": [\"896.8 -> 651.6\"], \"xaxis\": \"x\", \"y\": [73665.94470214844], \"yaxis\": \"y\"}, {\"alignmentgroup\": \"True\", \"customdata\": [[\"[TG(54:5)]_FA14:0\", \"TAG\"]], \"hovertemplate\": \"Lipid=%{customdata[0]}<br>Transition=%{x}<br>Intensity=%{y}<br>Class=%{customdata[1]}<extra></extra>\", \"legendgroup\": \"[TG(54:5)]_FA14:0\", \"marker\": {\"color\": \"#EF553B\"}, \"name\": \"[TG(54:5)]_FA14:0\", \"offsetgroup\": \"[TG(54:5)]_FA14:0\", \"orientation\": \"v\", \"showlegend\": true, \"textposition\": \"auto\", \"type\": \"bar\", \"x\": [\"898.8 -> 653.6\"], \"xaxis\": \"x\", \"y\": [41898.76268005371], \"yaxis\": \"y\"}, {\"alignmentgroup\": \"True\", \"customdata\": [[\"[TG(55:11),TG(54:4)]_FA14:0\", \"TAG\"]], \"hovertemplate\": \"Lipid=%{customdata[0]}<br>Transition=%{x}<br>Intensity=%{y}<br>Class=%{customdata[1]}<extra></extra>\", \"legendgroup\": \"[TG(55:11),TG(54:4)]_FA14:0\", \"marker\": {\"color\": \"#00cc96\"}, \"name\": \"[TG(55:11),TG(54:4)]_FA14:0\", \"offsetgroup\": \"[TG(55:11),TG(54:4)]_FA14:0\", \"orientation\": \"v\", \"showlegend\": true, \"textposition\": \"auto\", \"type\": \"bar\", \"x\": [\"900.8 -> 655.6\"], \"xaxis\": \"x\", \"y\": [28414.301971435547], \"yaxis\": \"y\"}, {\"alignmentgroup\": \"True\", \"customdata\": [[\"[TG(55:10),TG(54:3)]_FA14:0\", \"TAG\"]], \"hovertemplate\": \"Lipid=%{customdata[0]}<br>Transition=%{x}<br>Intensity=%{y}<br>Class=%{customdata[1]}<extra></extra>\", \"legendgroup\": \"[TG(55:10),TG(54:3)]_FA14:0\", \"marker\": {\"color\": \"#ab63fa\"}, \"name\": \"[TG(55:10),TG(54:3)]_FA14:0\", \"offsetgroup\": \"[TG(55:10),TG(54:3)]_FA14:0\", \"orientation\": \"v\", \"showlegend\": true, \"textposition\": \"auto\", \"type\": \"bar\", \"x\": [\"902.8 -> 657.6\"], \"xaxis\": \"x\", \"y\": [30718.442108154297], \"yaxis\": \"y\"}, {\"alignmentgroup\": \"True\", \"customdata\": [[\"[TG(55:9),TG(54:2)]_FA14:0\", \"TAG\"]], \"hovertemplate\": \"Lipid=%{customdata[0]}<br>Transition=%{x}<br>Intensity=%{y}<br>Class=%{customdata[1]}<extra></extra>\", \"legendgroup\": \"[TG(55:9),TG(54:2)]_FA14:0\", \"marker\": {\"color\": \"#FFA15A\"}, \"name\": \"[TG(55:9),TG(54:2)]_FA14:0\", \"offsetgroup\": \"[TG(55:9),TG(54:2)]_FA14:0\", \"orientation\": \"v\", \"showlegend\": true, \"textposition\": \"auto\", \"type\": \"bar\", \"x\": [\"904.8 -> 659.6\"], \"xaxis\": \"x\", \"y\": [33424.282623291016], \"yaxis\": \"y\"}, {\"alignmentgroup\": \"True\", \"customdata\": [[\"[TG(55:8),TG(54:1)]_FA14:0\", \"TAG\"]], \"hovertemplate\": \"Lipid=%{customdata[0]}<br>Transition=%{x}<br>Intensity=%{y}<br>Class=%{customdata[1]}<extra></extra>\", \"legendgroup\": \"[TG(55:8),TG(54:1)]_FA14:0\", \"marker\": {\"color\": \"#19d3f3\"}, \"name\": \"[TG(55:8),TG(54:1)]_FA14:0\", \"offsetgroup\": \"[TG(55:8),TG(54:1)]_FA14:0\", \"orientation\": \"v\", \"showlegend\": true, \"textposition\": \"auto\", \"type\": \"bar\", \"x\": [\"906.8 -> 661.6\"], \"xaxis\": \"x\", \"y\": [29007.38198852539], \"yaxis\": \"y\"}, {\"alignmentgroup\": \"True\", \"customdata\": [[\"[TG(55:7),TG(54:0)]_FA14:0\", \"TAG\"]], \"hovertemplate\": \"Lipid=%{customdata[0]}<br>Transition=%{x}<br>Intensity=%{y}<br>Class=%{customdata[1]}<extra></extra>\", \"legendgroup\": \"[TG(55:7),TG(54:0)]_FA14:0\", \"marker\": {\"color\": \"#FF6692\"}, \"name\": \"[TG(55:7),TG(54:0)]_FA14:0\", \"offsetgroup\": \"[TG(55:7),TG(54:0)]_FA14:0\", \"orientation\": \"v\", \"showlegend\": true, \"textposition\": \"auto\", \"type\": \"bar\", \"x\": [\"908.9 -> 663.7\"], \"xaxis\": \"x\", \"y\": [35497.86260986328], \"yaxis\": \"y\"}, {\"alignmentgroup\": \"True\", \"customdata\": [[\"[TG(56:13),TG(55:6)]_FA14:0\", \"TAG\"]], \"hovertemplate\": \"Lipid=%{customdata[0]}<br>Transition=%{x}<br>Intensity=%{y}<br>Class=%{customdata[1]}<extra></extra>\", \"legendgroup\": \"[TG(56:13),TG(55:6)]_FA14:0\", \"marker\": {\"color\": \"#B6E880\"}, \"name\": \"[TG(56:13),TG(55:6)]_FA14:0\", \"offsetgroup\": \"[TG(56:13),TG(55:6)]_FA14:0\", \"orientation\": \"v\", \"showlegend\": true, \"textposition\": \"auto\", \"type\": \"bar\", \"x\": [\"910.8 -> 665.6\"], \"xaxis\": \"x\", \"y\": [26408.881866455078], \"yaxis\": \"y\"}, {\"alignmentgroup\": \"True\", \"customdata\": [[\"[TG(56:12),TG(55:5)]_FA14:0\", \"TAG\"]], \"hovertemplate\": \"Lipid=%{customdata[0]}<br>Transition=%{x}<br>Intensity=%{y}<br>Class=%{customdata[1]}<extra></extra>\", \"legendgroup\": \"[TG(56:12),TG(55:5)]_FA14:0\", \"marker\": {\"color\": \"#FF97FF\"}, \"name\": \"[TG(56:12),TG(55:5)]_FA14:0\", \"offsetgroup\": \"[TG(56:12),TG(55:5)]_FA14:0\", \"orientation\": \"v\", \"showlegend\": true, \"textposition\": \"auto\", \"type\": \"bar\", \"x\": [\"912.8 -> 667.6\"], \"xaxis\": \"x\", \"y\": [22494.82162475586], \"yaxis\": \"y\"}, {\"alignmentgroup\": \"True\", \"customdata\": [[\"[TG(56:11),TG(55:4)]_FA14:0\", \"TAG\"]], \"hovertemplate\": \"Lipid=%{customdata[0]}<br>Transition=%{x}<br>Intensity=%{y}<br>Class=%{customdata[1]}<extra></extra>\", \"legendgroup\": \"[TG(56:11),TG(55:4)]_FA14:0\", \"marker\": {\"color\": \"#FECB52\"}, \"name\": \"[TG(56:11),TG(55:4)]_FA14:0\", \"offsetgroup\": \"[TG(56:11),TG(55:4)]_FA14:0\", \"orientation\": \"v\", \"showlegend\": true, \"textposition\": \"auto\", \"type\": \"bar\", \"x\": [\"914.8 -> 669.6\"], \"xaxis\": \"x\", \"y\": [25690.061798095703], \"yaxis\": \"y\"}, {\"alignmentgroup\": \"True\", \"customdata\": [[\"[TG(56:10),TG(55:3)]_FA14:0\", \"TAG\"]], \"hovertemplate\": \"Lipid=%{customdata[0]}<br>Transition=%{x}<br>Intensity=%{y}<br>Class=%{customdata[1]}<extra></extra>\", \"legendgroup\": \"[TG(56:10),TG(55:3)]_FA14:0\", \"marker\": {\"color\": \"#636efa\"}, \"name\": \"[TG(56:10),TG(55:3)]_FA14:0\", \"offsetgroup\": \"[TG(56:10),TG(55:3)]_FA14:0\", \"orientation\": \"v\", \"showlegend\": true, \"textposition\": \"auto\", \"type\": \"bar\", \"x\": [\"916.8 -> 671.6\"], \"xaxis\": \"x\", \"y\": [29631.141998291016], \"yaxis\": \"y\"}, {\"alignmentgroup\": \"True\", \"customdata\": [[\"[TG(56:9),TG(55:2)]_FA14:0\", \"TAG\"]], \"hovertemplate\": \"Lipid=%{customdata[0]}<br>Transition=%{x}<br>Intensity=%{y}<br>Class=%{customdata[1]}<extra></extra>\", \"legendgroup\": \"[TG(56:9),TG(55:2)]_FA14:0\", \"marker\": {\"color\": \"#EF553B\"}, \"name\": \"[TG(56:9),TG(55:2)]_FA14:0\", \"offsetgroup\": \"[TG(56:9),TG(55:2)]_FA14:0\", \"orientation\": \"v\", \"showlegend\": true, \"textposition\": \"auto\", \"type\": \"bar\", \"x\": [\"918.8 -> 673.6\"], \"xaxis\": \"x\", \"y\": [33327.52235412598], \"yaxis\": \"y\"}, {\"alignmentgroup\": \"True\", \"customdata\": [[\"[TG(56:8),TG(55:1)]_FA14:0\", \"TAG\"]], \"hovertemplate\": \"Lipid=%{customdata[0]}<br>Transition=%{x}<br>Intensity=%{y}<br>Class=%{customdata[1]}<extra></extra>\", \"legendgroup\": \"[TG(56:8),TG(55:1)]_FA14:0\", \"marker\": {\"color\": \"#00cc96\"}, \"name\": \"[TG(56:8),TG(55:1)]_FA14:0\", \"offsetgroup\": \"[TG(56:8),TG(55:1)]_FA14:0\", \"orientation\": \"v\", \"showlegend\": true, \"textposition\": \"auto\", \"type\": \"bar\", \"x\": [\"920.9 -> 675.7\"], \"xaxis\": \"x\", \"y\": [29645.14239501953], \"yaxis\": \"y\"}, {\"alignmentgroup\": \"True\", \"customdata\": [[\"[TG(56:7),TG(55:0)]_FA14:0\", \"TAG\"]], \"hovertemplate\": \"Lipid=%{customdata[0]}<br>Transition=%{x}<br>Intensity=%{y}<br>Class=%{customdata[1]}<extra></extra>\", \"legendgroup\": \"[TG(56:7),TG(55:0)]_FA14:0\", \"marker\": {\"color\": \"#ab63fa\"}, \"name\": \"[TG(56:7),TG(55:0)]_FA14:0\", \"offsetgroup\": \"[TG(56:7),TG(55:0)]_FA14:0\", \"orientation\": \"v\", \"showlegend\": true, \"textposition\": \"auto\", \"type\": \"bar\", \"x\": [\"922.9 -> 677.7\"], \"xaxis\": \"x\", \"y\": [23936.88168334961], \"yaxis\": \"y\"}, {\"alignmentgroup\": \"True\", \"customdata\": [[\"[TG(56:6)]_FA14:0\", \"TAG\"]], \"hovertemplate\": \"Lipid=%{customdata[0]}<br>Transition=%{x}<br>Intensity=%{y}<br>Class=%{customdata[1]}<extra></extra>\", \"legendgroup\": \"[TG(56:6)]_FA14:0\", \"marker\": {\"color\": \"#FFA15A\"}, \"name\": \"[TG(56:6)]_FA14:0\", \"offsetgroup\": \"[TG(56:6)]_FA14:0\", \"orientation\": \"v\", \"showlegend\": true, \"textposition\": \"auto\", \"type\": \"bar\", \"x\": [\"924.8 -> 679.6\"], \"xaxis\": \"x\", \"y\": [21959.361694335938], \"yaxis\": \"y\"}, {\"alignmentgroup\": \"True\", \"customdata\": [[\"[TG(57:12),TG(56:5)]_FA14:0\", \"TAG\"]], \"hovertemplate\": \"Lipid=%{customdata[0]}<br>Transition=%{x}<br>Intensity=%{y}<br>Class=%{customdata[1]}<extra></extra>\", \"legendgroup\": \"[TG(57:12),TG(56:5)]_FA14:0\", \"marker\": {\"color\": \"#19d3f3\"}, \"name\": \"[TG(57:12),TG(56:5)]_FA14:0\", \"offsetgroup\": \"[TG(57:12),TG(56:5)]_FA14:0\", \"orientation\": \"v\", \"showlegend\": true, \"textposition\": \"auto\", \"type\": \"bar\", \"x\": [\"926.8 -> 681.6\"], \"xaxis\": \"x\", \"y\": [20401.881622314453], \"yaxis\": \"y\"}, {\"alignmentgroup\": \"True\", \"customdata\": [[\"[TG(57:11),TG(56:4)]_FA14:0\", \"TAG\"]], \"hovertemplate\": \"Lipid=%{customdata[0]}<br>Transition=%{x}<br>Intensity=%{y}<br>Class=%{customdata[1]}<extra></extra>\", \"legendgroup\": \"[TG(57:11),TG(56:4)]_FA14:0\", \"marker\": {\"color\": \"#FF6692\"}, \"name\": \"[TG(57:11),TG(56:4)]_FA14:0\", \"offsetgroup\": \"[TG(57:11),TG(56:4)]_FA14:0\", \"orientation\": \"v\", \"showlegend\": true, \"textposition\": \"auto\", \"type\": \"bar\", \"x\": [\"928.8 -> 683.6\"], \"xaxis\": \"x\", \"y\": [20398.84147644043], \"yaxis\": \"y\"}, {\"alignmentgroup\": \"True\", \"customdata\": [[\"[TG(57:10),TG(56:3)]_FA14:0\", \"TAG\"]], \"hovertemplate\": \"Lipid=%{customdata[0]}<br>Transition=%{x}<br>Intensity=%{y}<br>Class=%{customdata[1]}<extra></extra>\", \"legendgroup\": \"[TG(57:10),TG(56:3)]_FA14:0\", \"marker\": {\"color\": \"#B6E880\"}, \"name\": \"[TG(57:10),TG(56:3)]_FA14:0\", \"offsetgroup\": \"[TG(57:10),TG(56:3)]_FA14:0\", \"orientation\": \"v\", \"showlegend\": true, \"textposition\": \"auto\", \"type\": \"bar\", \"x\": [\"930.8 -> 685.6\"], \"xaxis\": \"x\", \"y\": [25416.421936035156], \"yaxis\": \"y\"}, {\"alignmentgroup\": \"True\", \"customdata\": [[\"[TG(57:9),TG(56:2)]_FA14:0\", \"TAG\"]], \"hovertemplate\": \"Lipid=%{customdata[0]}<br>Transition=%{x}<br>Intensity=%{y}<br>Class=%{customdata[1]}<extra></extra>\", \"legendgroup\": \"[TG(57:9),TG(56:2)]_FA14:0\", \"marker\": {\"color\": \"#FF97FF\"}, \"name\": \"[TG(57:9),TG(56:2)]_FA14:0\", \"offsetgroup\": \"[TG(57:9),TG(56:2)]_FA14:0\", \"orientation\": \"v\", \"showlegend\": true, \"textposition\": \"auto\", \"type\": \"bar\", \"x\": [\"932.9 -> 687.7\"], \"xaxis\": \"x\", \"y\": [22382.361602783203], \"yaxis\": \"y\"}, {\"alignmentgroup\": \"True\", \"customdata\": [[\"[TG(57:8),TG(56:1)]_FA14:0\", \"TAG\"]], \"hovertemplate\": \"Lipid=%{customdata[0]}<br>Transition=%{x}<br>Intensity=%{y}<br>Class=%{customdata[1]}<extra></extra>\", \"legendgroup\": \"[TG(57:8),TG(56:1)]_FA14:0\", \"marker\": {\"color\": \"#FECB52\"}, \"name\": \"[TG(57:8),TG(56:1)]_FA14:0\", \"offsetgroup\": \"[TG(57:8),TG(56:1)]_FA14:0\", \"orientation\": \"v\", \"showlegend\": true, \"textposition\": \"auto\", \"type\": \"bar\", \"x\": [\"934.9 -> 689.7\"], \"xaxis\": \"x\", \"y\": [19609.461395263672], \"yaxis\": \"y\"}, {\"alignmentgroup\": \"True\", \"customdata\": [[\"[TG(58:14),TG(57:7),TG(56:0)]_FA14:0\", \"TAG\"]], \"hovertemplate\": \"Lipid=%{customdata[0]}<br>Transition=%{x}<br>Intensity=%{y}<br>Class=%{customdata[1]}<extra></extra>\", \"legendgroup\": \"[TG(58:14),TG(57:7),TG(56:0)]_FA14:0\", \"marker\": {\"color\": \"#636efa\"}, \"name\": \"[TG(58:14),TG(57:7),TG(56:0)]_FA14:0\", \"offsetgroup\": \"[TG(58:14),TG(57:7),TG(56:0)]_FA14:0\", \"orientation\": \"v\", \"showlegend\": true, \"textposition\": \"auto\", \"type\": \"bar\", \"x\": [\"936.9 -> 691.7\"], \"xaxis\": \"x\", \"y\": [22338.061492919922], \"yaxis\": \"y\"}, {\"alignmentgroup\": \"True\", \"customdata\": [[\"[TG(58:13),TG(57:6)]_FA14:0\", \"TAG\"]], \"hovertemplate\": \"Lipid=%{customdata[0]}<br>Transition=%{x}<br>Intensity=%{y}<br>Class=%{customdata[1]}<extra></extra>\", \"legendgroup\": \"[TG(58:13),TG(57:6)]_FA14:0\", \"marker\": {\"color\": \"#EF553B\"}, \"name\": \"[TG(58:13),TG(57:6)]_FA14:0\", \"offsetgroup\": \"[TG(58:13),TG(57:6)]_FA14:0\", \"orientation\": \"v\", \"showlegend\": true, \"textposition\": \"auto\", \"type\": \"bar\", \"x\": [\"938.8 -> 693.6\"], \"xaxis\": \"x\", \"y\": [29575.44204711914], \"yaxis\": \"y\"}, {\"alignmentgroup\": \"True\", \"customdata\": [[\"[TG(58:12),TG(57:5)]_FA14:0\", \"TAG\"]], \"hovertemplate\": \"Lipid=%{customdata[0]}<br>Transition=%{x}<br>Intensity=%{y}<br>Class=%{customdata[1]}<extra></extra>\", \"legendgroup\": \"[TG(58:12),TG(57:5)]_FA14:0\", \"marker\": {\"color\": \"#00cc96\"}, \"name\": \"[TG(58:12),TG(57:5)]_FA14:0\", \"offsetgroup\": \"[TG(58:12),TG(57:5)]_FA14:0\", \"orientation\": \"v\", \"showlegend\": true, \"textposition\": \"auto\", \"type\": \"bar\", \"x\": [\"940.8 -> 695.6\"], \"xaxis\": \"x\", \"y\": [20122.321487426758], \"yaxis\": \"y\"}, {\"alignmentgroup\": \"True\", \"customdata\": [[\"[TG(58:11),TG(57:4)]_FA14:0\", \"TAG\"]], \"hovertemplate\": \"Lipid=%{customdata[0]}<br>Transition=%{x}<br>Intensity=%{y}<br>Class=%{customdata[1]}<extra></extra>\", \"legendgroup\": \"[TG(58:11),TG(57:4)]_FA14:0\", \"marker\": {\"color\": \"#ab63fa\"}, \"name\": \"[TG(58:11),TG(57:4)]_FA14:0\", \"offsetgroup\": \"[TG(58:11),TG(57:4)]_FA14:0\", \"orientation\": \"v\", \"showlegend\": true, \"textposition\": \"auto\", \"type\": \"bar\", \"x\": [\"942.8 -> 697.6\"], \"xaxis\": \"x\", \"y\": [20873.68148803711], \"yaxis\": \"y\"}, {\"alignmentgroup\": \"True\", \"customdata\": [[\"[TG(58:10),TG(57:3)]_FA14:0\", \"TAG\"]], \"hovertemplate\": \"Lipid=%{customdata[0]}<br>Transition=%{x}<br>Intensity=%{y}<br>Class=%{customdata[1]}<extra></extra>\", \"legendgroup\": \"[TG(58:10),TG(57:3)]_FA14:0\", \"marker\": {\"color\": \"#FFA15A\"}, \"name\": \"[TG(58:10),TG(57:3)]_FA14:0\", \"offsetgroup\": \"[TG(58:10),TG(57:3)]_FA14:0\", \"orientation\": \"v\", \"showlegend\": true, \"textposition\": \"auto\", \"type\": \"bar\", \"x\": [\"944.9 -> 699.7\"], \"xaxis\": \"x\", \"y\": [20475.001525878906], \"yaxis\": \"y\"}, {\"alignmentgroup\": \"True\", \"customdata\": [[\"[TG(58:9),TG(57:2)]_FA14:0\", \"TAG\"]], \"hovertemplate\": \"Lipid=%{customdata[0]}<br>Transition=%{x}<br>Intensity=%{y}<br>Class=%{customdata[1]}<extra></extra>\", \"legendgroup\": \"[TG(58:9),TG(57:2)]_FA14:0\", \"marker\": {\"color\": \"#19d3f3\"}, \"name\": \"[TG(58:9),TG(57:2)]_FA14:0\", \"offsetgroup\": \"[TG(58:9),TG(57:2)]_FA14:0\", \"orientation\": \"v\", \"showlegend\": true, \"textposition\": \"auto\", \"type\": \"bar\", \"x\": [\"946.9 -> 701.7\"], \"xaxis\": \"x\", \"y\": [19687.661422729492], \"yaxis\": \"y\"}, {\"alignmentgroup\": \"True\", \"customdata\": [[\"[TG(58:8),TG(57:1)]_FA14:0\", \"TAG\"]], \"hovertemplate\": \"Lipid=%{customdata[0]}<br>Transition=%{x}<br>Intensity=%{y}<br>Class=%{customdata[1]}<extra></extra>\", \"legendgroup\": \"[TG(58:8),TG(57:1)]_FA14:0\", \"marker\": {\"color\": \"#FF6692\"}, \"name\": \"[TG(58:8),TG(57:1)]_FA14:0\", \"offsetgroup\": \"[TG(58:8),TG(57:1)]_FA14:0\", \"orientation\": \"v\", \"showlegend\": true, \"textposition\": \"auto\", \"type\": \"bar\", \"x\": [\"948.9 -> 703.7\"], \"xaxis\": \"x\", \"y\": [17986.1212310791], \"yaxis\": \"y\"}, {\"alignmentgroup\": \"True\", \"customdata\": [[\"[TG(58:7),TG(57:0)]_FA14:0\", \"TAG\"]], \"hovertemplate\": \"Lipid=%{customdata[0]}<br>Transition=%{x}<br>Intensity=%{y}<br>Class=%{customdata[1]}<extra></extra>\", \"legendgroup\": \"[TG(58:7),TG(57:0)]_FA14:0\", \"marker\": {\"color\": \"#B6E880\"}, \"name\": \"[TG(58:7),TG(57:0)]_FA14:0\", \"offsetgroup\": \"[TG(58:7),TG(57:0)]_FA14:0\", \"orientation\": \"v\", \"showlegend\": true, \"textposition\": \"auto\", \"type\": \"bar\", \"x\": [\"950.9 -> 705.7\"], \"xaxis\": \"x\", \"y\": [16909.581176757812], \"yaxis\": \"y\"}, {\"alignmentgroup\": \"True\", \"customdata\": [[\"[TG(59:13),TG(58:6)]_FA14:0\", \"TAG\"]], \"hovertemplate\": \"Lipid=%{customdata[0]}<br>Transition=%{x}<br>Intensity=%{y}<br>Class=%{customdata[1]}<extra></extra>\", \"legendgroup\": \"[TG(59:13),TG(58:6)]_FA14:0\", \"marker\": {\"color\": \"#FF97FF\"}, \"name\": \"[TG(59:13),TG(58:6)]_FA14:0\", \"offsetgroup\": \"[TG(59:13),TG(58:6)]_FA14:0\", \"orientation\": \"v\", \"showlegend\": true, \"textposition\": \"auto\", \"type\": \"bar\", \"x\": [\"952.8 -> 707.6\"], \"xaxis\": \"x\", \"y\": [17760.02130126953], \"yaxis\": \"y\"}, {\"alignmentgroup\": \"True\", \"customdata\": [[\"[TG(59:12),TG(58:5)]_FA14:0\", \"TAG\"]], \"hovertemplate\": \"Lipid=%{customdata[0]}<br>Transition=%{x}<br>Intensity=%{y}<br>Class=%{customdata[1]}<extra></extra>\", \"legendgroup\": \"[TG(59:12),TG(58:5)]_FA14:0\", \"marker\": {\"color\": \"#FECB52\"}, \"name\": \"[TG(59:12),TG(58:5)]_FA14:0\", \"offsetgroup\": \"[TG(59:12),TG(58:5)]_FA14:0\", \"orientation\": \"v\", \"showlegend\": true, \"textposition\": \"auto\", \"type\": \"bar\", \"x\": [\"954.8 -> 709.6\"], \"xaxis\": \"x\", \"y\": [17154.881271362305], \"yaxis\": \"y\"}, {\"alignmentgroup\": \"True\", \"customdata\": [[\"[TG(59:11),TG(58:4)]_FA14:0\", \"TAG\"]], \"hovertemplate\": \"Lipid=%{customdata[0]}<br>Transition=%{x}<br>Intensity=%{y}<br>Class=%{customdata[1]}<extra></extra>\", \"legendgroup\": \"[TG(59:11),TG(58:4)]_FA14:0\", \"marker\": {\"color\": \"#636efa\"}, \"name\": \"[TG(59:11),TG(58:4)]_FA14:0\", \"offsetgroup\": \"[TG(59:11),TG(58:4)]_FA14:0\", \"orientation\": \"v\", \"showlegend\": true, \"textposition\": \"auto\", \"type\": \"bar\", \"x\": [\"956.9 -> 711.7\"], \"xaxis\": \"x\", \"y\": [17369.481216430664], \"yaxis\": \"y\"}, {\"alignmentgroup\": \"True\", \"customdata\": [[\"[TG(59:10),TG(58:3)]_FA14:0\", \"TAG\"]], \"hovertemplate\": \"Lipid=%{customdata[0]}<br>Transition=%{x}<br>Intensity=%{y}<br>Class=%{customdata[1]}<extra></extra>\", \"legendgroup\": \"[TG(59:10),TG(58:3)]_FA14:0\", \"marker\": {\"color\": \"#EF553B\"}, \"name\": \"[TG(59:10),TG(58:3)]_FA14:0\", \"offsetgroup\": \"[TG(59:10),TG(58:3)]_FA14:0\", \"orientation\": \"v\", \"showlegend\": true, \"textposition\": \"auto\", \"type\": \"bar\", \"x\": [\"958.9 -> 713.7\"], \"xaxis\": \"x\", \"y\": [17000.50129699707], \"yaxis\": \"y\"}, {\"alignmentgroup\": \"True\", \"customdata\": [[\"[TG(59:9),TG(58:2)]_FA14:0\", \"TAG\"]], \"hovertemplate\": \"Lipid=%{customdata[0]}<br>Transition=%{x}<br>Intensity=%{y}<br>Class=%{customdata[1]}<extra></extra>\", \"legendgroup\": \"[TG(59:9),TG(58:2)]_FA14:0\", \"marker\": {\"color\": \"#00cc96\"}, \"name\": \"[TG(59:9),TG(58:2)]_FA14:0\", \"offsetgroup\": \"[TG(59:9),TG(58:2)]_FA14:0\", \"orientation\": \"v\", \"showlegend\": true, \"textposition\": \"auto\", \"type\": \"bar\", \"x\": [\"960.9 -> 715.7\"], \"xaxis\": \"x\", \"y\": [14471.141006469727], \"yaxis\": \"y\"}, {\"alignmentgroup\": \"True\", \"customdata\": [[\"[TG(60:15),TG(59:8),TG(58:1)]_FA14:0\", \"TAG\"]], \"hovertemplate\": \"Lipid=%{customdata[0]}<br>Transition=%{x}<br>Intensity=%{y}<br>Class=%{customdata[1]}<extra></extra>\", \"legendgroup\": \"[TG(60:15),TG(59:8),TG(58:1)]_FA14:0\", \"marker\": {\"color\": \"#ab63fa\"}, \"name\": \"[TG(60:15),TG(59:8),TG(58:1)]_FA14:0\", \"offsetgroup\": \"[TG(60:15),TG(59:8),TG(58:1)]_FA14:0\", \"orientation\": \"v\", \"showlegend\": true, \"textposition\": \"auto\", \"type\": \"bar\", \"x\": [\"962.9 -> 717.7\"], \"xaxis\": \"x\", \"y\": [17327.96128845215], \"yaxis\": \"y\"}, {\"alignmentgroup\": \"True\", \"customdata\": [[\"[TG(60:14),TG(59:7),TG(58:0)]_FA14:0\", \"TAG\"]], \"hovertemplate\": \"Lipid=%{customdata[0]}<br>Transition=%{x}<br>Intensity=%{y}<br>Class=%{customdata[1]}<extra></extra>\", \"legendgroup\": \"[TG(60:14),TG(59:7),TG(58:0)]_FA14:0\", \"marker\": {\"color\": \"#FFA15A\"}, \"name\": \"[TG(60:14),TG(59:7),TG(58:0)]_FA14:0\", \"offsetgroup\": \"[TG(60:14),TG(59:7),TG(58:0)]_FA14:0\", \"orientation\": \"v\", \"showlegend\": true, \"textposition\": \"auto\", \"type\": \"bar\", \"x\": [\"964.9 -> 719.7\"], \"xaxis\": \"x\", \"y\": [15586.361099243164], \"yaxis\": \"y\"}, {\"alignmentgroup\": \"True\", \"customdata\": [[\"[TG(60:13),TG(59:6)]_FA14:0\", \"TAG\"]], \"hovertemplate\": \"Lipid=%{customdata[0]}<br>Transition=%{x}<br>Intensity=%{y}<br>Class=%{customdata[1]}<extra></extra>\", \"legendgroup\": \"[TG(60:13),TG(59:6)]_FA14:0\", \"marker\": {\"color\": \"#19d3f3\"}, \"name\": \"[TG(60:13),TG(59:6)]_FA14:0\", \"offsetgroup\": \"[TG(60:13),TG(59:6)]_FA14:0\", \"orientation\": \"v\", \"showlegend\": true, \"textposition\": \"auto\", \"type\": \"bar\", \"x\": [\"966.8 -> 721.6\"], \"xaxis\": \"x\", \"y\": [15192.34105682373], \"yaxis\": \"y\"}, {\"alignmentgroup\": \"True\", \"customdata\": [[\"[TG(60:12),TG(59:5)]_FA14:0\", \"TAG\"]], \"hovertemplate\": \"Lipid=%{customdata[0]}<br>Transition=%{x}<br>Intensity=%{y}<br>Class=%{customdata[1]}<extra></extra>\", \"legendgroup\": \"[TG(60:12),TG(59:5)]_FA14:0\", \"marker\": {\"color\": \"#FF6692\"}, \"name\": \"[TG(60:12),TG(59:5)]_FA14:0\", \"offsetgroup\": \"[TG(60:12),TG(59:5)]_FA14:0\", \"orientation\": \"v\", \"showlegend\": true, \"textposition\": \"auto\", \"type\": \"bar\", \"x\": [\"968.9 -> 723.7\"], \"xaxis\": \"x\", \"y\": [16057.961143493652], \"yaxis\": \"y\"}, {\"alignmentgroup\": \"True\", \"customdata\": [[\"[TG(60:11),TG(59:4)]_FA14:0\", \"TAG\"]], \"hovertemplate\": \"Lipid=%{customdata[0]}<br>Transition=%{x}<br>Intensity=%{y}<br>Class=%{customdata[1]}<extra></extra>\", \"legendgroup\": \"[TG(60:11),TG(59:4)]_FA14:0\", \"marker\": {\"color\": \"#B6E880\"}, \"name\": \"[TG(60:11),TG(59:4)]_FA14:0\", \"offsetgroup\": \"[TG(60:11),TG(59:4)]_FA14:0\", \"orientation\": \"v\", \"showlegend\": true, \"textposition\": \"auto\", \"type\": \"bar\", \"x\": [\"970.9 -> 725.7\"], \"xaxis\": \"x\", \"y\": [29432.862243652344], \"yaxis\": \"y\"}, {\"alignmentgroup\": \"True\", \"customdata\": [[\"[TG(60:10),TG(59:3)]_FA14:0\", \"TAG\"]], \"hovertemplate\": \"Lipid=%{customdata[0]}<br>Transition=%{x}<br>Intensity=%{y}<br>Class=%{customdata[1]}<extra></extra>\", \"legendgroup\": \"[TG(60:10),TG(59:3)]_FA14:0\", \"marker\": {\"color\": \"#FF97FF\"}, \"name\": \"[TG(60:10),TG(59:3)]_FA14:0\", \"offsetgroup\": \"[TG(60:10),TG(59:3)]_FA14:0\", \"orientation\": \"v\", \"showlegend\": true, \"textposition\": \"auto\", \"type\": \"bar\", \"x\": [\"972.9 -> 727.7\"], \"xaxis\": \"x\", \"y\": [21032.461456298828], \"yaxis\": \"y\"}, {\"alignmentgroup\": \"True\", \"customdata\": [[\"[TG(60:9),TG(59:2)]_FA14:0\", \"TAG\"]], \"hovertemplate\": \"Lipid=%{customdata[0]}<br>Transition=%{x}<br>Intensity=%{y}<br>Class=%{customdata[1]}<extra></extra>\", \"legendgroup\": \"[TG(60:9),TG(59:2)]_FA14:0\", \"marker\": {\"color\": \"#FECB52\"}, \"name\": \"[TG(60:9),TG(59:2)]_FA14:0\", \"offsetgroup\": \"[TG(60:9),TG(59:2)]_FA14:0\", \"orientation\": \"v\", \"showlegend\": true, \"textposition\": \"auto\", \"type\": \"bar\", \"x\": [\"974.9 -> 729.7\"], \"xaxis\": \"x\", \"y\": [15778.50112915039], \"yaxis\": \"y\"}, {\"alignmentgroup\": \"True\", \"customdata\": [[\"[TG(60:8),TG(59:1)]_FA14:0\", \"TAG\"]], \"hovertemplate\": \"Lipid=%{customdata[0]}<br>Transition=%{x}<br>Intensity=%{y}<br>Class=%{customdata[1]}<extra></extra>\", \"legendgroup\": \"[TG(60:8),TG(59:1)]_FA14:0\", \"marker\": {\"color\": \"#636efa\"}, \"name\": \"[TG(60:8),TG(59:1)]_FA14:0\", \"offsetgroup\": \"[TG(60:8),TG(59:1)]_FA14:0\", \"orientation\": \"v\", \"showlegend\": true, \"textposition\": \"auto\", \"type\": \"bar\", \"x\": [\"976.9 -> 731.7\"], \"xaxis\": \"x\", \"y\": [13972.840942382812], \"yaxis\": \"y\"}, {\"alignmentgroup\": \"True\", \"customdata\": [[\"[TG(61:14),TG(60:7),TG(59:0)]_FA14:0\", \"TAG\"]], \"hovertemplate\": \"Lipid=%{customdata[0]}<br>Transition=%{x}<br>Intensity=%{y}<br>Class=%{customdata[1]}<extra></extra>\", \"legendgroup\": \"[TG(61:14),TG(60:7),TG(59:0)]_FA14:0\", \"marker\": {\"color\": \"#EF553B\"}, \"name\": \"[TG(61:14),TG(60:7),TG(59:0)]_FA14:0\", \"offsetgroup\": \"[TG(61:14),TG(60:7),TG(59:0)]_FA14:0\", \"orientation\": \"v\", \"showlegend\": true, \"textposition\": \"auto\", \"type\": \"bar\", \"x\": [\"978.9 -> 733.7\"], \"xaxis\": \"x\", \"y\": [15361.26107788086], \"yaxis\": \"y\"}, {\"alignmentgroup\": \"True\", \"customdata\": [[\"[TG(61:13),TG(60:6)]_FA14:0\", \"TAG\"]], \"hovertemplate\": \"Lipid=%{customdata[0]}<br>Transition=%{x}<br>Intensity=%{y}<br>Class=%{customdata[1]}<extra></extra>\", \"legendgroup\": \"[TG(61:13),TG(60:6)]_FA14:0\", \"marker\": {\"color\": \"#00cc96\"}, \"name\": \"[TG(61:13),TG(60:6)]_FA14:0\", \"offsetgroup\": \"[TG(61:13),TG(60:6)]_FA14:0\", \"orientation\": \"v\", \"showlegend\": true, \"textposition\": \"auto\", \"type\": \"bar\", \"x\": [\"980.9 -> 735.7\"], \"xaxis\": \"x\", \"y\": [14665.92106628418], \"yaxis\": \"y\"}, {\"alignmentgroup\": \"True\", \"customdata\": [[\"[TG(61:12),TG(60:5)]_FA14:0\", \"TAG\"]], \"hovertemplate\": \"Lipid=%{customdata[0]}<br>Transition=%{x}<br>Intensity=%{y}<br>Class=%{customdata[1]}<extra></extra>\", \"legendgroup\": \"[TG(61:12),TG(60:5)]_FA14:0\", \"marker\": {\"color\": \"#ab63fa\"}, \"name\": \"[TG(61:12),TG(60:5)]_FA14:0\", \"offsetgroup\": \"[TG(61:12),TG(60:5)]_FA14:0\", \"orientation\": \"v\", \"showlegend\": true, \"textposition\": \"auto\", \"type\": \"bar\", \"x\": [\"982.9 -> 737.7\"], \"xaxis\": \"x\", \"y\": [12983.740997314453], \"yaxis\": \"y\"}, {\"alignmentgroup\": \"True\", \"customdata\": [[\"[TG(61:11),TG(60:4)]_FA14:0\", \"TAG\"]], \"hovertemplate\": \"Lipid=%{customdata[0]}<br>Transition=%{x}<br>Intensity=%{y}<br>Class=%{customdata[1]}<extra></extra>\", \"legendgroup\": \"[TG(61:11),TG(60:4)]_FA14:0\", \"marker\": {\"color\": \"#FFA15A\"}, \"name\": \"[TG(61:11),TG(60:4)]_FA14:0\", \"offsetgroup\": \"[TG(61:11),TG(60:4)]_FA14:0\", \"orientation\": \"v\", \"showlegend\": true, \"textposition\": \"auto\", \"type\": \"bar\", \"x\": [\"984.9 -> 739.7\"], \"xaxis\": \"x\", \"y\": [16507.40118408203], \"yaxis\": \"y\"}, {\"alignmentgroup\": \"True\", \"customdata\": [[\"[TG(61:10),TG(60:3)]_FA14:0\", \"TAG\"]], \"hovertemplate\": \"Lipid=%{customdata[0]}<br>Transition=%{x}<br>Intensity=%{y}<br>Class=%{customdata[1]}<extra></extra>\", \"legendgroup\": \"[TG(61:10),TG(60:3)]_FA14:0\", \"marker\": {\"color\": \"#19d3f3\"}, \"name\": \"[TG(61:10),TG(60:3)]_FA14:0\", \"offsetgroup\": \"[TG(61:10),TG(60:3)]_FA14:0\", \"orientation\": \"v\", \"showlegend\": true, \"textposition\": \"auto\", \"type\": \"bar\", \"x\": [\"986.9 -> 741.7\"], \"xaxis\": \"x\", \"y\": [15164.080978393555], \"yaxis\": \"y\"}, {\"alignmentgroup\": \"True\", \"customdata\": [[\"[TG(62:16),TG(61:9),TG(60:2)]_FA14:0\", \"TAG\"]], \"hovertemplate\": \"Lipid=%{customdata[0]}<br>Transition=%{x}<br>Intensity=%{y}<br>Class=%{customdata[1]}<extra></extra>\", \"legendgroup\": \"[TG(62:16),TG(61:9),TG(60:2)]_FA14:0\", \"marker\": {\"color\": \"#FF6692\"}, \"name\": \"[TG(62:16),TG(61:9),TG(60:2)]_FA14:0\", \"offsetgroup\": \"[TG(62:16),TG(61:9),TG(60:2)]_FA14:0\", \"orientation\": \"v\", \"showlegend\": true, \"textposition\": \"auto\", \"type\": \"bar\", \"x\": [\"988.9 -> 743.7\"], \"xaxis\": \"x\", \"y\": [16115.021049499512], \"yaxis\": \"y\"}, {\"alignmentgroup\": \"True\", \"customdata\": [[\"[TG(62:15),TG(61:8),TG(60:1)]_FA14:0\", \"TAG\"]], \"hovertemplate\": \"Lipid=%{customdata[0]}<br>Transition=%{x}<br>Intensity=%{y}<br>Class=%{customdata[1]}<extra></extra>\", \"legendgroup\": \"[TG(62:15),TG(61:8),TG(60:1)]_FA14:0\", \"marker\": {\"color\": \"#B6E880\"}, \"name\": \"[TG(62:15),TG(61:8),TG(60:1)]_FA14:0\", \"offsetgroup\": \"[TG(62:15),TG(61:8),TG(60:1)]_FA14:0\", \"orientation\": \"v\", \"showlegend\": true, \"textposition\": \"auto\", \"type\": \"bar\", \"x\": [\"990.9 -> 745.7\"], \"xaxis\": \"x\", \"y\": [14670.80093383789], \"yaxis\": \"y\"}, {\"alignmentgroup\": \"True\", \"customdata\": [[\"[TG(62:14),TG(61:7),TG(60:0)]_FA14:0\", \"TAG\"]], \"hovertemplate\": \"Lipid=%{customdata[0]}<br>Transition=%{x}<br>Intensity=%{y}<br>Class=%{customdata[1]}<extra></extra>\", \"legendgroup\": \"[TG(62:14),TG(61:7),TG(60:0)]_FA14:0\", \"marker\": {\"color\": \"#FF97FF\"}, \"name\": \"[TG(62:14),TG(61:7),TG(60:0)]_FA14:0\", \"offsetgroup\": \"[TG(62:14),TG(61:7),TG(60:0)]_FA14:0\", \"orientation\": \"v\", \"showlegend\": true, \"textposition\": \"auto\", \"type\": \"bar\", \"x\": [\"993.0 -> 747.8\"], \"xaxis\": \"x\", \"y\": [11676.520835876465], \"yaxis\": \"y\"}, {\"alignmentgroup\": \"True\", \"customdata\": [[\"[TG(62:13),TG(61:6)]_FA14:0\", \"TAG\"]], \"hovertemplate\": \"Lipid=%{customdata[0]}<br>Transition=%{x}<br>Intensity=%{y}<br>Class=%{customdata[1]}<extra></extra>\", \"legendgroup\": \"[TG(62:13),TG(61:6)]_FA14:0\", \"marker\": {\"color\": \"#FECB52\"}, \"name\": \"[TG(62:13),TG(61:6)]_FA14:0\", \"offsetgroup\": \"[TG(62:13),TG(61:6)]_FA14:0\", \"orientation\": \"v\", \"showlegend\": true, \"textposition\": \"auto\", \"type\": \"bar\", \"x\": [\"994.9 -> 749.7\"], \"xaxis\": \"x\", \"y\": [12641.240867614746], \"yaxis\": \"y\"}, {\"alignmentgroup\": \"True\", \"customdata\": [[\"[TG(62:12),TG(61:5)]_FA14:0\", \"TAG\"]], \"hovertemplate\": \"Lipid=%{customdata[0]}<br>Transition=%{x}<br>Intensity=%{y}<br>Class=%{customdata[1]}<extra></extra>\", \"legendgroup\": \"[TG(62:12),TG(61:5)]_FA14:0\", \"marker\": {\"color\": \"#636efa\"}, \"name\": \"[TG(62:12),TG(61:5)]_FA14:0\", \"offsetgroup\": \"[TG(62:12),TG(61:5)]_FA14:0\", \"orientation\": \"v\", \"showlegend\": true, \"textposition\": \"auto\", \"type\": \"bar\", \"x\": [\"996.9 -> 751.7\"], \"xaxis\": \"x\", \"y\": [14229.900955200195], \"yaxis\": \"y\"}, {\"alignmentgroup\": \"True\", \"customdata\": [[\"[TG(62:11),TG(61:4)]_FA14:0\", \"TAG\"]], \"hovertemplate\": \"Lipid=%{customdata[0]}<br>Transition=%{x}<br>Intensity=%{y}<br>Class=%{customdata[1]}<extra></extra>\", \"legendgroup\": \"[TG(62:11),TG(61:4)]_FA14:0\", \"marker\": {\"color\": \"#EF553B\"}, \"name\": \"[TG(62:11),TG(61:4)]_FA14:0\", \"offsetgroup\": \"[TG(62:11),TG(61:4)]_FA14:0\", \"orientation\": \"v\", \"showlegend\": true, \"textposition\": \"auto\", \"type\": \"bar\", \"x\": [\"998.9 -> 753.7\"], \"xaxis\": \"x\", \"y\": [14026.561004638672], \"yaxis\": \"y\"}, {\"alignmentgroup\": \"True\", \"customdata\": [[\"[TG(62:10),TG(61:3)]_FA14:0\", \"TAG\"]], \"hovertemplate\": \"Lipid=%{customdata[0]}<br>Transition=%{x}<br>Intensity=%{y}<br>Class=%{customdata[1]}<extra></extra>\", \"legendgroup\": \"[TG(62:10),TG(61:3)]_FA14:0\", \"marker\": {\"color\": \"#00cc96\"}, \"name\": \"[TG(62:10),TG(61:3)]_FA14:0\", \"offsetgroup\": \"[TG(62:10),TG(61:3)]_FA14:0\", \"orientation\": \"v\", \"showlegend\": true, \"textposition\": \"auto\", \"type\": \"bar\", \"x\": [\"1000.9 -> 755.7\"], \"xaxis\": \"x\", \"y\": [13990.720977783203], \"yaxis\": \"y\"}, {\"alignmentgroup\": \"True\", \"customdata\": [[\"[TG(62:9),TG(61:2)]_FA14:0\", \"TAG\"]], \"hovertemplate\": \"Lipid=%{customdata[0]}<br>Transition=%{x}<br>Intensity=%{y}<br>Class=%{customdata[1]}<extra></extra>\", \"legendgroup\": \"[TG(62:9),TG(61:2)]_FA14:0\", \"marker\": {\"color\": \"#ab63fa\"}, \"name\": \"[TG(62:9),TG(61:2)]_FA14:0\", \"offsetgroup\": \"[TG(62:9),TG(61:2)]_FA14:0\", \"orientation\": \"v\", \"showlegend\": true, \"textposition\": \"auto\", \"type\": \"bar\", \"x\": [\"1002.9 -> 757.7\"], \"xaxis\": \"x\", \"y\": [14917.441131591797], \"yaxis\": \"y\"}, {\"alignmentgroup\": \"True\", \"customdata\": [[\"[TG(62:8),TG(61:1)]_FA14:0\", \"TAG\"]], \"hovertemplate\": \"Lipid=%{customdata[0]}<br>Transition=%{x}<br>Intensity=%{y}<br>Class=%{customdata[1]}<extra></extra>\", \"legendgroup\": \"[TG(62:8),TG(61:1)]_FA14:0\", \"marker\": {\"color\": \"#FFA15A\"}, \"name\": \"[TG(62:8),TG(61:1)]_FA14:0\", \"offsetgroup\": \"[TG(62:8),TG(61:1)]_FA14:0\", \"orientation\": \"v\", \"showlegend\": true, \"textposition\": \"auto\", \"type\": \"bar\", \"x\": [\"1005.0 -> 759.8\"], \"xaxis\": \"x\", \"y\": [14691.960952758789], \"yaxis\": \"y\"}, {\"alignmentgroup\": \"True\", \"customdata\": [[\"[TG(62:7),TG(61:0)]_FA14:0\", \"TAG\"]], \"hovertemplate\": \"Lipid=%{customdata[0]}<br>Transition=%{x}<br>Intensity=%{y}<br>Class=%{customdata[1]}<extra></extra>\", \"legendgroup\": \"[TG(62:7),TG(61:0)]_FA14:0\", \"marker\": {\"color\": \"#19d3f3\"}, \"name\": \"[TG(62:7),TG(61:0)]_FA14:0\", \"offsetgroup\": \"[TG(62:7),TG(61:0)]_FA14:0\", \"orientation\": \"v\", \"showlegend\": true, \"textposition\": \"auto\", \"type\": \"bar\", \"x\": [\"1007.0 -> 761.8\"], \"xaxis\": \"x\", \"y\": [12988.200942993164], \"yaxis\": \"y\"}, {\"alignmentgroup\": \"True\", \"customdata\": [[\"[TG(63:13),TG(62:6)]_FA14:0\", \"TAG\"]], \"hovertemplate\": \"Lipid=%{customdata[0]}<br>Transition=%{x}<br>Intensity=%{y}<br>Class=%{customdata[1]}<extra></extra>\", \"legendgroup\": \"[TG(63:13),TG(62:6)]_FA14:0\", \"marker\": {\"color\": \"#FF6692\"}, \"name\": \"[TG(63:13),TG(62:6)]_FA14:0\", \"offsetgroup\": \"[TG(63:13),TG(62:6)]_FA14:0\", \"orientation\": \"v\", \"showlegend\": true, \"textposition\": \"auto\", \"type\": \"bar\", \"x\": [\"1008.9 -> 763.7\"], \"xaxis\": \"x\", \"y\": [13342.720916748047], \"yaxis\": \"y\"}, {\"alignmentgroup\": \"True\", \"customdata\": [[\"[TG(63:12),TG(62:5)]_FA14:0\", \"TAG\"]], \"hovertemplate\": \"Lipid=%{customdata[0]}<br>Transition=%{x}<br>Intensity=%{y}<br>Class=%{customdata[1]}<extra></extra>\", \"legendgroup\": \"[TG(63:12),TG(62:5)]_FA14:0\", \"marker\": {\"color\": \"#B6E880\"}, \"name\": \"[TG(63:12),TG(62:5)]_FA14:0\", \"offsetgroup\": \"[TG(63:12),TG(62:5)]_FA14:0\", \"orientation\": \"v\", \"showlegend\": true, \"textposition\": \"auto\", \"type\": \"bar\", \"x\": [\"1010.9 -> 765.7\"], \"xaxis\": \"x\", \"y\": [14266.48112487793], \"yaxis\": \"y\"}, {\"alignmentgroup\": \"True\", \"customdata\": [[\"[TG(63:11),TG(62:4)]_FA14:0\", \"TAG\"]], \"hovertemplate\": \"Lipid=%{customdata[0]}<br>Transition=%{x}<br>Intensity=%{y}<br>Class=%{customdata[1]}<extra></extra>\", \"legendgroup\": \"[TG(63:11),TG(62:4)]_FA14:0\", \"marker\": {\"color\": \"#FF97FF\"}, \"name\": \"[TG(63:11),TG(62:4)]_FA14:0\", \"offsetgroup\": \"[TG(63:11),TG(62:4)]_FA14:0\", \"orientation\": \"v\", \"showlegend\": true, \"textposition\": \"auto\", \"type\": \"bar\", \"x\": [\"1012.9 -> 767.7\"], \"xaxis\": \"x\", \"y\": [13126.080932617188], \"yaxis\": \"y\"}, {\"alignmentgroup\": \"True\", \"customdata\": [[\"[TG(64:17),TG(63:10),TG(62:3)]_FA14:0\", \"TAG\"]], \"hovertemplate\": \"Lipid=%{customdata[0]}<br>Transition=%{x}<br>Intensity=%{y}<br>Class=%{customdata[1]}<extra></extra>\", \"legendgroup\": \"[TG(64:17),TG(63:10),TG(62:3)]_FA14:0\", \"marker\": {\"color\": \"#FECB52\"}, \"name\": \"[TG(64:17),TG(63:10),TG(62:3)]_FA14:0\", \"offsetgroup\": \"[TG(64:17),TG(63:10),TG(62:3)]_FA14:0\", \"orientation\": \"v\", \"showlegend\": true, \"textposition\": \"auto\", \"type\": \"bar\", \"x\": [\"1014.9 -> 769.7\"], \"xaxis\": \"x\", \"y\": [13007.560943603516], \"yaxis\": \"y\"}, {\"alignmentgroup\": \"True\", \"customdata\": [[\"[TG(64:16),TG(63:9),TG(62:2)]_FA14:0\", \"TAG\"]], \"hovertemplate\": \"Lipid=%{customdata[0]}<br>Transition=%{x}<br>Intensity=%{y}<br>Class=%{customdata[1]}<extra></extra>\", \"legendgroup\": \"[TG(64:16),TG(63:9),TG(62:2)]_FA14:0\", \"marker\": {\"color\": \"#636efa\"}, \"name\": \"[TG(64:16),TG(63:9),TG(62:2)]_FA14:0\", \"offsetgroup\": \"[TG(64:16),TG(63:9),TG(62:2)]_FA14:0\", \"orientation\": \"v\", \"showlegend\": true, \"textposition\": \"auto\", \"type\": \"bar\", \"x\": [\"1017.0 -> 771.8\"], \"xaxis\": \"x\", \"y\": [15978.181114196777], \"yaxis\": \"y\"}, {\"alignmentgroup\": \"True\", \"customdata\": [[\"[TG(64:15),TG(63:8),TG(62:1)]_FA14:0\", \"TAG\"]], \"hovertemplate\": \"Lipid=%{customdata[0]}<br>Transition=%{x}<br>Intensity=%{y}<br>Class=%{customdata[1]}<extra></extra>\", \"legendgroup\": \"[TG(64:15),TG(63:8),TG(62:1)]_FA14:0\", \"marker\": {\"color\": \"#EF553B\"}, \"name\": \"[TG(64:15),TG(63:8),TG(62:1)]_FA14:0\", \"offsetgroup\": \"[TG(64:15),TG(63:8),TG(62:1)]_FA14:0\", \"orientation\": \"v\", \"showlegend\": true, \"textposition\": \"auto\", \"type\": \"bar\", \"x\": [\"1019.0 -> 773.8\"], \"xaxis\": \"x\", \"y\": [14954.541114807129], \"yaxis\": \"y\"}, {\"alignmentgroup\": \"True\", \"customdata\": [[\"[TG(64:14),TG(63:7),TG(62:0)]_FA14:0\", \"TAG\"]], \"hovertemplate\": \"Lipid=%{customdata[0]}<br>Transition=%{x}<br>Intensity=%{y}<br>Class=%{customdata[1]}<extra></extra>\", \"legendgroup\": \"[TG(64:14),TG(63:7),TG(62:0)]_FA14:0\", \"marker\": {\"color\": \"#00cc96\"}, \"name\": \"[TG(64:14),TG(63:7),TG(62:0)]_FA14:0\", \"offsetgroup\": \"[TG(64:14),TG(63:7),TG(62:0)]_FA14:0\", \"orientation\": \"v\", \"showlegend\": true, \"textposition\": \"auto\", \"type\": \"bar\", \"x\": [\"1021.0 -> 775.8\"], \"xaxis\": \"x\", \"y\": [12710.70083618164], \"yaxis\": \"y\"}, {\"alignmentgroup\": \"True\", \"customdata\": [[\"[TG(64:13),TG(63:6)]_FA14:0\", \"TAG\"]], \"hovertemplate\": \"Lipid=%{customdata[0]}<br>Transition=%{x}<br>Intensity=%{y}<br>Class=%{customdata[1]}<extra></extra>\", \"legendgroup\": \"[TG(64:13),TG(63:6)]_FA14:0\", \"marker\": {\"color\": \"#ab63fa\"}, \"name\": \"[TG(64:13),TG(63:6)]_FA14:0\", \"offsetgroup\": \"[TG(64:13),TG(63:6)]_FA14:0\", \"orientation\": \"v\", \"showlegend\": true, \"textposition\": \"auto\", \"type\": \"bar\", \"x\": [\"1022.9 -> 777.7\"], \"xaxis\": \"x\", \"y\": [14045.280990600586], \"yaxis\": \"y\"}, {\"alignmentgroup\": \"True\", \"customdata\": [[\"[TG(64:12),TG(63:5)]_FA14:0\", \"TAG\"]], \"hovertemplate\": \"Lipid=%{customdata[0]}<br>Transition=%{x}<br>Intensity=%{y}<br>Class=%{customdata[1]}<extra></extra>\", \"legendgroup\": \"[TG(64:12),TG(63:5)]_FA14:0\", \"marker\": {\"color\": \"#FFA15A\"}, \"name\": \"[TG(64:12),TG(63:5)]_FA14:0\", \"offsetgroup\": \"[TG(64:12),TG(63:5)]_FA14:0\", \"orientation\": \"v\", \"showlegend\": true, \"textposition\": \"auto\", \"type\": \"bar\", \"x\": [\"1024.9 -> 779.7\"], \"xaxis\": \"x\", \"y\": [14086.260986328125], \"yaxis\": \"y\"}, {\"alignmentgroup\": \"True\", \"customdata\": [[\"[TG(64:11),TG(63:4)]_FA14:0\", \"TAG\"]], \"hovertemplate\": \"Lipid=%{customdata[0]}<br>Transition=%{x}<br>Intensity=%{y}<br>Class=%{customdata[1]}<extra></extra>\", \"legendgroup\": \"[TG(64:11),TG(63:4)]_FA14:0\", \"marker\": {\"color\": \"#19d3f3\"}, \"name\": \"[TG(64:11),TG(63:4)]_FA14:0\", \"offsetgroup\": \"[TG(64:11),TG(63:4)]_FA14:0\", \"orientation\": \"v\", \"showlegend\": true, \"textposition\": \"auto\", \"type\": \"bar\", \"x\": [\"1026.9 -> 781.7\"], \"xaxis\": \"x\", \"y\": [12927.800796508789], \"yaxis\": \"y\"}, {\"alignmentgroup\": \"True\", \"customdata\": [[\"[TG(64:10),TG(63:3)]_FA14:0\", \"TAG\"]], \"hovertemplate\": \"Lipid=%{customdata[0]}<br>Transition=%{x}<br>Intensity=%{y}<br>Class=%{customdata[1]}<extra></extra>\", \"legendgroup\": \"[TG(64:10),TG(63:3)]_FA14:0\", \"marker\": {\"color\": \"#FF6692\"}, \"name\": \"[TG(64:10),TG(63:3)]_FA14:0\", \"offsetgroup\": \"[TG(64:10),TG(63:3)]_FA14:0\", \"orientation\": \"v\", \"showlegend\": true, \"textposition\": \"auto\", \"type\": \"bar\", \"x\": [\"1029.0 -> 783.8\"], \"xaxis\": \"x\", \"y\": [10637.140739440918], \"yaxis\": \"y\"}, {\"alignmentgroup\": \"True\", \"customdata\": [[\"[TG(64:9),TG(63:2)]_FA14:0\", \"TAG\"]], \"hovertemplate\": \"Lipid=%{customdata[0]}<br>Transition=%{x}<br>Intensity=%{y}<br>Class=%{customdata[1]}<extra></extra>\", \"legendgroup\": \"[TG(64:9),TG(63:2)]_FA14:0\", \"marker\": {\"color\": \"#B6E880\"}, \"name\": \"[TG(64:9),TG(63:2)]_FA14:0\", \"offsetgroup\": \"[TG(64:9),TG(63:2)]_FA14:0\", \"orientation\": \"v\", \"showlegend\": true, \"textposition\": \"auto\", \"type\": \"bar\", \"x\": [\"1031.0 -> 785.8\"], \"xaxis\": \"x\", \"y\": [13033.880912780762], \"yaxis\": \"y\"}, {\"alignmentgroup\": \"True\", \"customdata\": [[\"[TG(64:8),TG(63:1)]_FA14:0\", \"TAG\"]], \"hovertemplate\": \"Lipid=%{customdata[0]}<br>Transition=%{x}<br>Intensity=%{y}<br>Class=%{customdata[1]}<extra></extra>\", \"legendgroup\": \"[TG(64:8),TG(63:1)]_FA14:0\", \"marker\": {\"color\": \"#FF97FF\"}, \"name\": \"[TG(64:8),TG(63:1)]_FA14:0\", \"offsetgroup\": \"[TG(64:8),TG(63:1)]_FA14:0\", \"orientation\": \"v\", \"showlegend\": true, \"textposition\": \"auto\", \"type\": \"bar\", \"x\": [\"1033.0 -> 787.8\"], \"xaxis\": \"x\", \"y\": [13134.800857543945], \"yaxis\": \"y\"}, {\"alignmentgroup\": \"True\", \"customdata\": [[\"[TG(64:7),TG(63:0)]_FA14:0\", \"TAG\"]], \"hovertemplate\": \"Lipid=%{customdata[0]}<br>Transition=%{x}<br>Intensity=%{y}<br>Class=%{customdata[1]}<extra></extra>\", \"legendgroup\": \"[TG(64:7),TG(63:0)]_FA14:0\", \"marker\": {\"color\": \"#FECB52\"}, \"name\": \"[TG(64:7),TG(63:0)]_FA14:0\", \"offsetgroup\": \"[TG(64:7),TG(63:0)]_FA14:0\", \"orientation\": \"v\", \"showlegend\": true, \"textposition\": \"auto\", \"type\": \"bar\", \"x\": [\"1035.0 -> 789.8\"], \"xaxis\": \"x\", \"y\": [12264.380752563477], \"yaxis\": \"y\"}, {\"alignmentgroup\": \"True\", \"customdata\": [[\"[TG(64:6)]_FA14:0\", \"TAG\"]], \"hovertemplate\": \"Lipid=%{customdata[0]}<br>Transition=%{x}<br>Intensity=%{y}<br>Class=%{customdata[1]}<extra></extra>\", \"legendgroup\": \"[TG(64:6)]_FA14:0\", \"marker\": {\"color\": \"#636efa\"}, \"name\": \"[TG(64:6)]_FA14:0\", \"offsetgroup\": \"[TG(64:6)]_FA14:0\", \"orientation\": \"v\", \"showlegend\": true, \"textposition\": \"auto\", \"type\": \"bar\", \"x\": [\"1036.9 -> 791.7\"], \"xaxis\": \"x\", \"y\": [13273.14094543457], \"yaxis\": \"y\"}, {\"alignmentgroup\": \"True\", \"customdata\": [[\"[TG(65:12),TG(64:5)]_FA14:0\", \"TAG\"]], \"hovertemplate\": \"Lipid=%{customdata[0]}<br>Transition=%{x}<br>Intensity=%{y}<br>Class=%{customdata[1]}<extra></extra>\", \"legendgroup\": \"[TG(65:12),TG(64:5)]_FA14:0\", \"marker\": {\"color\": \"#EF553B\"}, \"name\": \"[TG(65:12),TG(64:5)]_FA14:0\", \"offsetgroup\": \"[TG(65:12),TG(64:5)]_FA14:0\", \"orientation\": \"v\", \"showlegend\": true, \"textposition\": \"auto\", \"type\": \"bar\", \"x\": [\"1038.9 -> 793.7\"], \"xaxis\": \"x\", \"y\": [20100.661331176758], \"yaxis\": \"y\"}, {\"alignmentgroup\": \"True\", \"customdata\": [[\"[TG(66:18),TG(65:11),TG(64:4)]_FA14:0\", \"TAG\"]], \"hovertemplate\": \"Lipid=%{customdata[0]}<br>Transition=%{x}<br>Intensity=%{y}<br>Class=%{customdata[1]}<extra></extra>\", \"legendgroup\": \"[TG(66:18),TG(65:11),TG(64:4)]_FA14:0\", \"marker\": {\"color\": \"#00cc96\"}, \"name\": \"[TG(66:18),TG(65:11),TG(64:4)]_FA14:0\", \"offsetgroup\": \"[TG(66:18),TG(65:11),TG(64:4)]_FA14:0\", \"orientation\": \"v\", \"showlegend\": true, \"textposition\": \"auto\", \"type\": \"bar\", \"x\": [\"1041.0 -> 795.8\"], \"xaxis\": \"x\", \"y\": [12335.680953979492], \"yaxis\": \"y\"}, {\"alignmentgroup\": \"True\", \"customdata\": [[\"[TG(66:17),TG(65:10),TG(64:3)]_FA14:0\", \"TAG\"]], \"hovertemplate\": \"Lipid=%{customdata[0]}<br>Transition=%{x}<br>Intensity=%{y}<br>Class=%{customdata[1]}<extra></extra>\", \"legendgroup\": \"[TG(66:17),TG(65:10),TG(64:3)]_FA14:0\", \"marker\": {\"color\": \"#ab63fa\"}, \"name\": \"[TG(66:17),TG(65:10),TG(64:3)]_FA14:0\", \"offsetgroup\": \"[TG(66:17),TG(65:10),TG(64:3)]_FA14:0\", \"orientation\": \"v\", \"showlegend\": true, \"textposition\": \"auto\", \"type\": \"bar\", \"x\": [\"1043.0 -> 797.8\"], \"xaxis\": \"x\", \"y\": [12561.440925598145], \"yaxis\": \"y\"}, {\"alignmentgroup\": \"True\", \"customdata\": [[\"[TG(66:16),TG(65:9),TG(64:2)]_FA14:0\", \"TAG\"]], \"hovertemplate\": \"Lipid=%{customdata[0]}<br>Transition=%{x}<br>Intensity=%{y}<br>Class=%{customdata[1]}<extra></extra>\", \"legendgroup\": \"[TG(66:16),TG(65:9),TG(64:2)]_FA14:0\", \"marker\": {\"color\": \"#FFA15A\"}, \"name\": \"[TG(66:16),TG(65:9),TG(64:2)]_FA14:0\", \"offsetgroup\": \"[TG(66:16),TG(65:9),TG(64:2)]_FA14:0\", \"orientation\": \"v\", \"showlegend\": true, \"textposition\": \"auto\", \"type\": \"bar\", \"x\": [\"1045.0 -> 799.8\"], \"xaxis\": \"x\", \"y\": [19396.041259765625], \"yaxis\": \"y\"}, {\"alignmentgroup\": \"True\", \"customdata\": [[\"[TG(66:15),TG(65:8),TG(64:1)]_FA14:0\", \"TAG\"]], \"hovertemplate\": \"Lipid=%{customdata[0]}<br>Transition=%{x}<br>Intensity=%{y}<br>Class=%{customdata[1]}<extra></extra>\", \"legendgroup\": \"[TG(66:15),TG(65:8),TG(64:1)]_FA14:0\", \"marker\": {\"color\": \"#19d3f3\"}, \"name\": \"[TG(66:15),TG(65:8),TG(64:1)]_FA14:0\", \"offsetgroup\": \"[TG(66:15),TG(65:8),TG(64:1)]_FA14:0\", \"orientation\": \"v\", \"showlegend\": true, \"textposition\": \"auto\", \"type\": \"bar\", \"x\": [\"1047.0 -> 801.8\"], \"xaxis\": \"x\", \"y\": [15101.360977172852], \"yaxis\": \"y\"}, {\"alignmentgroup\": \"True\", \"customdata\": [[\"[TG(66:14),TG(65:7),TG(64:0)]_FA14:0\", \"TAG\"]], \"hovertemplate\": \"Lipid=%{customdata[0]}<br>Transition=%{x}<br>Intensity=%{y}<br>Class=%{customdata[1]}<extra></extra>\", \"legendgroup\": \"[TG(66:14),TG(65:7),TG(64:0)]_FA14:0\", \"marker\": {\"color\": \"#FF6692\"}, \"name\": \"[TG(66:14),TG(65:7),TG(64:0)]_FA14:0\", \"offsetgroup\": \"[TG(66:14),TG(65:7),TG(64:0)]_FA14:0\", \"orientation\": \"v\", \"showlegend\": true, \"textposition\": \"auto\", \"type\": \"bar\", \"x\": [\"1049.0 -> 803.8\"], \"xaxis\": \"x\", \"y\": [15476.981079101562], \"yaxis\": \"y\"}, {\"alignmentgroup\": \"True\", \"customdata\": [[\"[TG(66:13),TG(65:6)]_FA14:0\", \"TAG\"]], \"hovertemplate\": \"Lipid=%{customdata[0]}<br>Transition=%{x}<br>Intensity=%{y}<br>Class=%{customdata[1]}<extra></extra>\", \"legendgroup\": \"[TG(66:13),TG(65:6)]_FA14:0\", \"marker\": {\"color\": \"#B6E880\"}, \"name\": \"[TG(66:13),TG(65:6)]_FA14:0\", \"offsetgroup\": \"[TG(66:13),TG(65:6)]_FA14:0\", \"orientation\": \"v\", \"showlegend\": true, \"textposition\": \"auto\", \"type\": \"bar\", \"x\": [\"1050.9 -> 805.7\"], \"xaxis\": \"x\", \"y\": [10396.680717468262], \"yaxis\": \"y\"}, {\"alignmentgroup\": \"True\", \"customdata\": [[\"[TG(66:12),TG(65:5)]_FA14:0\", \"TAG\"]], \"hovertemplate\": \"Lipid=%{customdata[0]}<br>Transition=%{x}<br>Intensity=%{y}<br>Class=%{customdata[1]}<extra></extra>\", \"legendgroup\": \"[TG(66:12),TG(65:5)]_FA14:0\", \"marker\": {\"color\": \"#FF97FF\"}, \"name\": \"[TG(66:12),TG(65:5)]_FA14:0\", \"offsetgroup\": \"[TG(66:12),TG(65:5)]_FA14:0\", \"orientation\": \"v\", \"showlegend\": true, \"textposition\": \"auto\", \"type\": \"bar\", \"x\": [\"1053.0 -> 807.8\"], \"xaxis\": \"x\", \"y\": [12281.800918579102], \"yaxis\": \"y\"}, {\"alignmentgroup\": \"True\", \"customdata\": [[\"[TG(66:11),TG(65:4)]_FA14:0\", \"TAG\"]], \"hovertemplate\": \"Lipid=%{customdata[0]}<br>Transition=%{x}<br>Intensity=%{y}<br>Class=%{customdata[1]}<extra></extra>\", \"legendgroup\": \"[TG(66:11),TG(65:4)]_FA14:0\", \"marker\": {\"color\": \"#FECB52\"}, \"name\": \"[TG(66:11),TG(65:4)]_FA14:0\", \"offsetgroup\": \"[TG(66:11),TG(65:4)]_FA14:0\", \"orientation\": \"v\", \"showlegend\": true, \"textposition\": \"auto\", \"type\": \"bar\", \"x\": [\"1055.0 -> 809.8\"], \"xaxis\": \"x\", \"y\": [12049.680938720703], \"yaxis\": \"y\"}, {\"alignmentgroup\": \"True\", \"customdata\": [[\"[TG(66:10),TG(65:3)]_FA14:0\", \"TAG\"]], \"hovertemplate\": \"Lipid=%{customdata[0]}<br>Transition=%{x}<br>Intensity=%{y}<br>Class=%{customdata[1]}<extra></extra>\", \"legendgroup\": \"[TG(66:10),TG(65:3)]_FA14:0\", \"marker\": {\"color\": \"#636efa\"}, \"name\": \"[TG(66:10),TG(65:3)]_FA14:0\", \"offsetgroup\": \"[TG(66:10),TG(65:3)]_FA14:0\", \"orientation\": \"v\", \"showlegend\": true, \"textposition\": \"auto\", \"type\": \"bar\", \"x\": [\"1057.0 -> 811.8\"], \"xaxis\": \"x\", \"y\": [11546.020881652832], \"yaxis\": \"y\"}, {\"alignmentgroup\": \"True\", \"customdata\": [[\"[TG(66:9),TG(65:2)]_FA14:0\", \"TAG\"]], \"hovertemplate\": \"Lipid=%{customdata[0]}<br>Transition=%{x}<br>Intensity=%{y}<br>Class=%{customdata[1]}<extra></extra>\", \"legendgroup\": \"[TG(66:9),TG(65:2)]_FA14:0\", \"marker\": {\"color\": \"#EF553B\"}, \"name\": \"[TG(66:9),TG(65:2)]_FA14:0\", \"offsetgroup\": \"[TG(66:9),TG(65:2)]_FA14:0\", \"orientation\": \"v\", \"showlegend\": true, \"textposition\": \"auto\", \"type\": \"bar\", \"x\": [\"1059.0 -> 813.8\"], \"xaxis\": \"x\", \"y\": [13140.541000366211], \"yaxis\": \"y\"}, {\"alignmentgroup\": \"True\", \"customdata\": [[\"[TG(66:8),TG(65:1)]_FA14:0\", \"TAG\"]], \"hovertemplate\": \"Lipid=%{customdata[0]}<br>Transition=%{x}<br>Intensity=%{y}<br>Class=%{customdata[1]}<extra></extra>\", \"legendgroup\": \"[TG(66:8),TG(65:1)]_FA14:0\", \"marker\": {\"color\": \"#00cc96\"}, \"name\": \"[TG(66:8),TG(65:1)]_FA14:0\", \"offsetgroup\": \"[TG(66:8),TG(65:1)]_FA14:0\", \"orientation\": \"v\", \"showlegend\": true, \"textposition\": \"auto\", \"type\": \"bar\", \"x\": [\"1061.0 -> 815.8\"], \"xaxis\": \"x\", \"y\": [14803.141014099121], \"yaxis\": \"y\"}, {\"alignmentgroup\": \"True\", \"customdata\": [[\"[TG(66:7)]_FA14:0\", \"TAG\"]], \"hovertemplate\": \"Lipid=%{customdata[0]}<br>Transition=%{x}<br>Intensity=%{y}<br>Class=%{customdata[1]}<extra></extra>\", \"legendgroup\": \"[TG(66:7)]_FA14:0\", \"marker\": {\"color\": \"#ab63fa\"}, \"name\": \"[TG(66:7)]_FA14:0\", \"offsetgroup\": \"[TG(66:7)]_FA14:0\", \"orientation\": \"v\", \"showlegend\": true, \"textposition\": \"auto\", \"type\": \"bar\", \"x\": [\"1062.9 -> 817.7\"], \"xaxis\": \"x\", \"y\": [13260.220840454102], \"yaxis\": \"y\"}, {\"alignmentgroup\": \"True\", \"customdata\": [[\"[TG(65:0)]_FA14:0\", \"TAG\"]], \"hovertemplate\": \"Lipid=%{customdata[0]}<br>Transition=%{x}<br>Intensity=%{y}<br>Class=%{customdata[1]}<extra></extra>\", \"legendgroup\": \"[TG(65:0)]_FA14:0\", \"marker\": {\"color\": \"#FFA15A\"}, \"name\": \"[TG(65:0)]_FA14:0\", \"offsetgroup\": \"[TG(65:0)]_FA14:0\", \"orientation\": \"v\", \"showlegend\": true, \"textposition\": \"auto\", \"type\": \"bar\", \"x\": [\"1063.0 -> 817.8\"], \"xaxis\": \"x\", \"y\": [15204.641082763672], \"yaxis\": \"y\"}, {\"alignmentgroup\": \"True\", \"customdata\": [[\"[TG(66:6)]_FA14:0\", \"TAG\"]], \"hovertemplate\": \"Lipid=%{customdata[0]}<br>Transition=%{x}<br>Intensity=%{y}<br>Class=%{customdata[1]}<extra></extra>\", \"legendgroup\": \"[TG(66:6)]_FA14:0\", \"marker\": {\"color\": \"#19d3f3\"}, \"name\": \"[TG(66:6)]_FA14:0\", \"offsetgroup\": \"[TG(66:6)]_FA14:0\", \"orientation\": \"v\", \"showlegend\": true, \"textposition\": \"auto\", \"type\": \"bar\", \"x\": [\"1065.0 -> 819.8\"], \"xaxis\": \"x\", \"y\": [11739.30093383789], \"yaxis\": \"y\"}, {\"alignmentgroup\": \"True\", \"customdata\": [[\"[TG(66:5)]_FA14:0\", \"TAG\"]], \"hovertemplate\": \"Lipid=%{customdata[0]}<br>Transition=%{x}<br>Intensity=%{y}<br>Class=%{customdata[1]}<extra></extra>\", \"legendgroup\": \"[TG(66:5)]_FA14:0\", \"marker\": {\"color\": \"#FF6692\"}, \"name\": \"[TG(66:5)]_FA14:0\", \"offsetgroup\": \"[TG(66:5)]_FA14:0\", \"orientation\": \"v\", \"showlegend\": true, \"textposition\": \"auto\", \"type\": \"bar\", \"x\": [\"1067.0 -> 821.8\"], \"xaxis\": \"x\", \"y\": [10289.58073425293], \"yaxis\": \"y\"}, {\"alignmentgroup\": \"True\", \"customdata\": [[\"[TG(66:4)]_FA14:0\", \"TAG\"]], \"hovertemplate\": \"Lipid=%{customdata[0]}<br>Transition=%{x}<br>Intensity=%{y}<br>Class=%{customdata[1]}<extra></extra>\", \"legendgroup\": \"[TG(66:4)]_FA14:0\", \"marker\": {\"color\": \"#B6E880\"}, \"name\": \"[TG(66:4)]_FA14:0\", \"offsetgroup\": \"[TG(66:4)]_FA14:0\", \"orientation\": \"v\", \"showlegend\": true, \"textposition\": \"auto\", \"type\": \"bar\", \"x\": [\"1069.0 -> 823.8\"], \"xaxis\": \"x\", \"y\": [11749.400787353516], \"yaxis\": \"y\"}, {\"alignmentgroup\": \"True\", \"customdata\": [[\"[TG(66:3)]_FA14:0\", \"TAG\"]], \"hovertemplate\": \"Lipid=%{customdata[0]}<br>Transition=%{x}<br>Intensity=%{y}<br>Class=%{customdata[1]}<extra></extra>\", \"legendgroup\": \"[TG(66:3)]_FA14:0\", \"marker\": {\"color\": \"#FF97FF\"}, \"name\": \"[TG(66:3)]_FA14:0\", \"offsetgroup\": \"[TG(66:3)]_FA14:0\", \"orientation\": \"v\", \"showlegend\": true, \"textposition\": \"auto\", \"type\": \"bar\", \"x\": [\"1071.0 -> 825.8\"], \"xaxis\": \"x\", \"y\": [12457.700866699219], \"yaxis\": \"y\"}, {\"alignmentgroup\": \"True\", \"customdata\": [[\"[TG(66:2)]_FA14:0\", \"TAG\"]], \"hovertemplate\": \"Lipid=%{customdata[0]}<br>Transition=%{x}<br>Intensity=%{y}<br>Class=%{customdata[1]}<extra></extra>\", \"legendgroup\": \"[TG(66:2)]_FA14:0\", \"marker\": {\"color\": \"#FECB52\"}, \"name\": \"[TG(66:2)]_FA14:0\", \"offsetgroup\": \"[TG(66:2)]_FA14:0\", \"orientation\": \"v\", \"showlegend\": true, \"textposition\": \"auto\", \"type\": \"bar\", \"x\": [\"1073.0 -> 827.8\"], \"xaxis\": \"x\", \"y\": [11174.560779571533], \"yaxis\": \"y\"}, {\"alignmentgroup\": \"True\", \"customdata\": [[\"[TG(66:1)]_FA14:0\", \"TAG\"]], \"hovertemplate\": \"Lipid=%{customdata[0]}<br>Transition=%{x}<br>Intensity=%{y}<br>Class=%{customdata[1]}<extra></extra>\", \"legendgroup\": \"[TG(66:1)]_FA14:0\", \"marker\": {\"color\": \"#636efa\"}, \"name\": \"[TG(66:1)]_FA14:0\", \"offsetgroup\": \"[TG(66:1)]_FA14:0\", \"orientation\": \"v\", \"showlegend\": true, \"textposition\": \"auto\", \"type\": \"bar\", \"x\": [\"1075.0 -> 829.8\"], \"xaxis\": \"x\", \"y\": [12249.820945739746], \"yaxis\": \"y\"}],                        {\"barmode\": \"relative\", \"legend\": {\"title\": {\"text\": \"Lipid\"}, \"tracegroupgap\": 0}, \"margin\": {\"t\": 60}, \"template\": {\"data\": {\"bar\": [{\"error_x\": {\"color\": \"#2a3f5f\"}, \"error_y\": {\"color\": \"#2a3f5f\"}, \"marker\": {\"line\": {\"color\": \"#E5ECF6\", \"width\": 0.5}}, \"type\": \"bar\"}], \"barpolar\": [{\"marker\": {\"line\": {\"color\": \"#E5ECF6\", \"width\": 0.5}}, \"type\": \"barpolar\"}], \"carpet\": [{\"aaxis\": {\"endlinecolor\": \"#2a3f5f\", \"gridcolor\": \"white\", \"linecolor\": \"white\", \"minorgridcolor\": \"white\", \"startlinecolor\": \"#2a3f5f\"}, \"baxis\": {\"endlinecolor\": \"#2a3f5f\", \"gridcolor\": \"white\", \"linecolor\": \"white\", \"minorgridcolor\": \"white\", \"startlinecolor\": \"#2a3f5f\"}, \"type\": \"carpet\"}], \"choropleth\": [{\"colorbar\": {\"outlinewidth\": 0, \"ticks\": \"\"}, \"type\": \"choropleth\"}], \"contour\": [{\"colorbar\": {\"outlinewidth\": 0, \"ticks\": \"\"}, \"colorscale\": [[0.0, \"#0d0887\"], [0.1111111111111111, \"#46039f\"], [0.2222222222222222, \"#7201a8\"], [0.3333333333333333, \"#9c179e\"], [0.4444444444444444, \"#bd3786\"], [0.5555555555555556, \"#d8576b\"], [0.6666666666666666, \"#ed7953\"], [0.7777777777777778, \"#fb9f3a\"], [0.8888888888888888, \"#fdca26\"], [1.0, \"#f0f921\"]], \"type\": \"contour\"}], \"contourcarpet\": [{\"colorbar\": {\"outlinewidth\": 0, \"ticks\": \"\"}, \"type\": \"contourcarpet\"}], \"heatmap\": [{\"colorbar\": {\"outlinewidth\": 0, \"ticks\": \"\"}, \"colorscale\": [[0.0, \"#0d0887\"], [0.1111111111111111, \"#46039f\"], [0.2222222222222222, \"#7201a8\"], [0.3333333333333333, \"#9c179e\"], [0.4444444444444444, \"#bd3786\"], [0.5555555555555556, \"#d8576b\"], [0.6666666666666666, \"#ed7953\"], [0.7777777777777778, \"#fb9f3a\"], [0.8888888888888888, \"#fdca26\"], [1.0, \"#f0f921\"]], \"type\": \"heatmap\"}], \"heatmapgl\": [{\"colorbar\": {\"outlinewidth\": 0, \"ticks\": \"\"}, \"colorscale\": [[0.0, \"#0d0887\"], [0.1111111111111111, \"#46039f\"], [0.2222222222222222, \"#7201a8\"], [0.3333333333333333, \"#9c179e\"], [0.4444444444444444, \"#bd3786\"], [0.5555555555555556, \"#d8576b\"], [0.6666666666666666, \"#ed7953\"], [0.7777777777777778, \"#fb9f3a\"], [0.8888888888888888, \"#fdca26\"], [1.0, \"#f0f921\"]], \"type\": \"heatmapgl\"}], \"histogram\": [{\"marker\": {\"colorbar\": {\"outlinewidth\": 0, \"ticks\": \"\"}}, \"type\": \"histogram\"}], \"histogram2d\": [{\"colorbar\": {\"outlinewidth\": 0, \"ticks\": \"\"}, \"colorscale\": [[0.0, \"#0d0887\"], [0.1111111111111111, \"#46039f\"], [0.2222222222222222, \"#7201a8\"], [0.3333333333333333, \"#9c179e\"], [0.4444444444444444, \"#bd3786\"], [0.5555555555555556, \"#d8576b\"], [0.6666666666666666, \"#ed7953\"], [0.7777777777777778, \"#fb9f3a\"], [0.8888888888888888, \"#fdca26\"], [1.0, \"#f0f921\"]], \"type\": \"histogram2d\"}], \"histogram2dcontour\": [{\"colorbar\": {\"outlinewidth\": 0, \"ticks\": \"\"}, \"colorscale\": [[0.0, \"#0d0887\"], [0.1111111111111111, \"#46039f\"], [0.2222222222222222, \"#7201a8\"], [0.3333333333333333, \"#9c179e\"], [0.4444444444444444, \"#bd3786\"], [0.5555555555555556, \"#d8576b\"], [0.6666666666666666, \"#ed7953\"], [0.7777777777777778, \"#fb9f3a\"], [0.8888888888888888, \"#fdca26\"], [1.0, \"#f0f921\"]], \"type\": \"histogram2dcontour\"}], \"mesh3d\": [{\"colorbar\": {\"outlinewidth\": 0, \"ticks\": \"\"}, \"type\": \"mesh3d\"}], \"parcoords\": [{\"line\": {\"colorbar\": {\"outlinewidth\": 0, \"ticks\": \"\"}}, \"type\": \"parcoords\"}], \"pie\": [{\"automargin\": true, \"type\": \"pie\"}], \"scatter\": [{\"marker\": {\"colorbar\": {\"outlinewidth\": 0, \"ticks\": \"\"}}, \"type\": \"scatter\"}], \"scatter3d\": [{\"line\": {\"colorbar\": {\"outlinewidth\": 0, \"ticks\": \"\"}}, \"marker\": {\"colorbar\": {\"outlinewidth\": 0, \"ticks\": \"\"}}, \"type\": \"scatter3d\"}], \"scattercarpet\": [{\"marker\": {\"colorbar\": {\"outlinewidth\": 0, \"ticks\": \"\"}}, \"type\": \"scattercarpet\"}], \"scattergeo\": [{\"marker\": {\"colorbar\": {\"outlinewidth\": 0, \"ticks\": \"\"}}, \"type\": \"scattergeo\"}], \"scattergl\": [{\"marker\": {\"colorbar\": {\"outlinewidth\": 0, \"ticks\": \"\"}}, \"type\": \"scattergl\"}], \"scattermapbox\": [{\"marker\": {\"colorbar\": {\"outlinewidth\": 0, \"ticks\": \"\"}}, \"type\": \"scattermapbox\"}], \"scatterpolar\": [{\"marker\": {\"colorbar\": {\"outlinewidth\": 0, \"ticks\": \"\"}}, \"type\": \"scatterpolar\"}], \"scatterpolargl\": [{\"marker\": {\"colorbar\": {\"outlinewidth\": 0, \"ticks\": \"\"}}, \"type\": \"scatterpolargl\"}], \"scatterternary\": [{\"marker\": {\"colorbar\": {\"outlinewidth\": 0, \"ticks\": \"\"}}, \"type\": \"scatterternary\"}], \"surface\": [{\"colorbar\": {\"outlinewidth\": 0, \"ticks\": \"\"}, \"colorscale\": [[0.0, \"#0d0887\"], [0.1111111111111111, \"#46039f\"], [0.2222222222222222, \"#7201a8\"], [0.3333333333333333, \"#9c179e\"], [0.4444444444444444, \"#bd3786\"], [0.5555555555555556, \"#d8576b\"], [0.6666666666666666, \"#ed7953\"], [0.7777777777777778, \"#fb9f3a\"], [0.8888888888888888, \"#fdca26\"], [1.0, \"#f0f921\"]], \"type\": \"surface\"}], \"table\": [{\"cells\": {\"fill\": {\"color\": \"#EBF0F8\"}, \"line\": {\"color\": \"white\"}}, \"header\": {\"fill\": {\"color\": \"#C8D4E3\"}, \"line\": {\"color\": \"white\"}}, \"type\": \"table\"}]}, \"layout\": {\"annotationdefaults\": {\"arrowcolor\": \"#2a3f5f\", \"arrowhead\": 0, \"arrowwidth\": 1}, \"coloraxis\": {\"colorbar\": {\"outlinewidth\": 0, \"ticks\": \"\"}}, \"colorscale\": {\"diverging\": [[0, \"#8e0152\"], [0.1, \"#c51b7d\"], [0.2, \"#de77ae\"], [0.3, \"#f1b6da\"], [0.4, \"#fde0ef\"], [0.5, \"#f7f7f7\"], [0.6, \"#e6f5d0\"], [0.7, \"#b8e186\"], [0.8, \"#7fbc41\"], [0.9, \"#4d9221\"], [1, \"#276419\"]], \"sequential\": [[0.0, \"#0d0887\"], [0.1111111111111111, \"#46039f\"], [0.2222222222222222, \"#7201a8\"], [0.3333333333333333, \"#9c179e\"], [0.4444444444444444, \"#bd3786\"], [0.5555555555555556, \"#d8576b\"], [0.6666666666666666, \"#ed7953\"], [0.7777777777777778, \"#fb9f3a\"], [0.8888888888888888, \"#fdca26\"], [1.0, \"#f0f921\"]], \"sequentialminus\": [[0.0, \"#0d0887\"], [0.1111111111111111, \"#46039f\"], [0.2222222222222222, \"#7201a8\"], [0.3333333333333333, \"#9c179e\"], [0.4444444444444444, \"#bd3786\"], [0.5555555555555556, \"#d8576b\"], [0.6666666666666666, \"#ed7953\"], [0.7777777777777778, \"#fb9f3a\"], [0.8888888888888888, \"#fdca26\"], [1.0, \"#f0f921\"]]}, \"colorway\": [\"#636efa\", \"#EF553B\", \"#00cc96\", \"#ab63fa\", \"#FFA15A\", \"#19d3f3\", \"#FF6692\", \"#B6E880\", \"#FF97FF\", \"#FECB52\"], \"font\": {\"color\": \"#2a3f5f\"}, \"geo\": {\"bgcolor\": \"white\", \"lakecolor\": \"white\", \"landcolor\": \"#E5ECF6\", \"showlakes\": true, \"showland\": true, \"subunitcolor\": \"white\"}, \"hoverlabel\": {\"align\": \"left\"}, \"hovermode\": \"closest\", \"mapbox\": {\"style\": \"light\"}, \"paper_bgcolor\": \"white\", \"plot_bgcolor\": \"#E5ECF6\", \"polar\": {\"angularaxis\": {\"gridcolor\": \"white\", \"linecolor\": \"white\", \"ticks\": \"\"}, \"bgcolor\": \"#E5ECF6\", \"radialaxis\": {\"gridcolor\": \"white\", \"linecolor\": \"white\", \"ticks\": \"\"}}, \"scene\": {\"xaxis\": {\"backgroundcolor\": \"#E5ECF6\", \"gridcolor\": \"white\", \"gridwidth\": 2, \"linecolor\": \"white\", \"showbackground\": true, \"ticks\": \"\", \"zerolinecolor\": \"white\"}, \"yaxis\": {\"backgroundcolor\": \"#E5ECF6\", \"gridcolor\": \"white\", \"gridwidth\": 2, \"linecolor\": \"white\", \"showbackground\": true, \"ticks\": \"\", \"zerolinecolor\": \"white\"}, \"zaxis\": {\"backgroundcolor\": \"#E5ECF6\", \"gridcolor\": \"white\", \"gridwidth\": 2, \"linecolor\": \"white\", \"showbackground\": true, \"ticks\": \"\", \"zerolinecolor\": \"white\"}}, \"shapedefaults\": {\"line\": {\"color\": \"#2a3f5f\"}}, \"ternary\": {\"aaxis\": {\"gridcolor\": \"white\", \"linecolor\": \"white\", \"ticks\": \"\"}, \"baxis\": {\"gridcolor\": \"white\", \"linecolor\": \"white\", \"ticks\": \"\"}, \"bgcolor\": \"#E5ECF6\", \"caxis\": {\"gridcolor\": \"white\", \"linecolor\": \"white\", \"ticks\": \"\"}}, \"title\": {\"x\": 0.05}, \"xaxis\": {\"automargin\": true, \"gridcolor\": \"white\", \"linecolor\": \"white\", \"ticks\": \"\", \"title\": {\"standoff\": 15}, \"zerolinecolor\": \"white\", \"zerolinewidth\": 2}, \"yaxis\": {\"automargin\": true, \"gridcolor\": \"white\", \"linecolor\": \"white\", \"ticks\": \"\", \"title\": {\"standoff\": 15}, \"zerolinecolor\": \"white\", \"zerolinewidth\": 2}}}, \"xaxis\": {\"anchor\": \"y\", \"domain\": [0.0, 1.0], \"title\": {\"text\": \"Transition\"}}, \"yaxis\": {\"anchor\": \"x\", \"domain\": [0.0, 1.0], \"title\": {\"text\": \"Intensity\"}}},                        {\"responsive\": true}                    ).then(function(){\n",
       "                            \n",
       "var gd = document.getElementById('21cdd450-6c0e-4e23-85e8-67f36a3f4ac2');\n",
       "var x = new MutationObserver(function (mutations, observer) {{\n",
       "        var display = window.getComputedStyle(gd).display;\n",
       "        if (!display || display === 'none') {{\n",
       "            console.log([gd, 'removed!']);\n",
       "            Plotly.purge(gd);\n",
       "            observer.disconnect();\n",
       "        }}\n",
       "}});\n",
       "\n",
       "// Listen for the removal of the full notebook cells\n",
       "var notebookContainer = gd.closest('#notebook-container');\n",
       "if (notebookContainer) {{\n",
       "    x.observe(notebookContainer, {childList: true});\n",
       "}}\n",
       "\n",
       "// Listen for the clearing of the current output cell\n",
       "var outputEl = gd.closest('.output');\n",
       "if (outputEl) {{\n",
       "    x.observe(outputEl, {childList: true});\n",
       "}}\n",
       "\n",
       "                        })                };                });            </script>        </div>"
      ]
     },
     "metadata": {},
     "output_type": "display_data"
    },
    {
     "data": {
      "application/vnd.plotly.v1+json": {
       "config": {
        "plotlyServerURL": "https://plot.ly"
       },
       "data": [
        {
         "alignmentgroup": "True",
         "customdata": [
          [
           "[TG(37:0)]_FA14:0",
           "TAG"
          ],
          [
           "[TG(38:1)]_FA14:0",
           "TAG"
          ],
          [
           "[TG(38:0)]_FA14:0",
           "TAG"
          ],
          [
           "[TG(39:1)]_FA14:0",
           "TAG"
          ],
          [
           "[TG(39:0)]_FA14:0",
           "TAG"
          ],
          [
           "[TG(40:2)]_FA14:0",
           "TAG"
          ],
          [
           "[TG(40:1)]_FA14:0",
           "TAG"
          ],
          [
           "[TG(40:0)]_FA14:0",
           "TAG"
          ],
          [
           "[TG(41:2)]_FA14:0",
           "TAG"
          ],
          [
           "[TG(41:1)]_FA14:0",
           "TAG"
          ],
          [
           "[TG(41:0)]_FA14:0",
           "TAG"
          ],
          [
           "[TG(42:4)]_FA14:0",
           "TAG"
          ],
          [
           "[TG(42:3)]_FA14:0",
           "TAG"
          ],
          [
           "[TG(42:2)]_FA14:0",
           "TAG"
          ],
          [
           "[TG(42:1)]_FA14:0",
           "TAG"
          ],
          [
           "[TG(42:0)]_FA14:0",
           "TAG"
          ],
          [
           "[TG(43:4)]_FA14:0",
           "TAG"
          ],
          [
           "[TG(43:3)]_FA14:0",
           "TAG"
          ],
          [
           "[TG(43:2)]_FA14:0",
           "TAG"
          ],
          [
           "[TG(43:1)]_FA14:0",
           "TAG"
          ],
          [
           "[TG(43:0)]_FA14:0",
           "TAG"
          ],
          [
           "[TG(44:5)]_FA14:0",
           "TAG"
          ],
          [
           "[TG(44:4)]_FA14:0",
           "TAG"
          ],
          [
           "[TG(44:3)]_FA14:0",
           "TAG"
          ],
          [
           "[TG(44:2)]_FA14:0",
           "TAG"
          ],
          [
           "[TG(44:1)]_FA14:0",
           "TAG"
          ],
          [
           "[TG(44:0),TG(O-45:0)]_FA14:0",
           "TAG"
          ],
          [
           "[TG(45:5)]_FA14:0",
           "TAG"
          ],
          [
           "[TG(45:4)]_FA14:0",
           "TAG"
          ],
          [
           "[TG(45:3)]_FA14:0",
           "TAG"
          ],
          [
           "[TG(45:2)]_FA14:0",
           "TAG"
          ],
          [
           "[TG(45:1)]_FA14:0",
           "TAG"
          ],
          [
           "[TG(45:0)]_FA14:0",
           "TAG"
          ],
          [
           "[TG(46:6)]_FA14:0",
           "TAG"
          ],
          [
           "[TG(46:5)]_FA14:0",
           "TAG"
          ],
          [
           "[TG(46:4)]_FA14:0",
           "TAG"
          ],
          [
           "[TG(46:3)]_FA14:0",
           "TAG"
          ],
          [
           "[TG(46:2)]_FA14:0",
           "TAG"
          ],
          [
           "[TG(46:1)]_FA14:0",
           "TAG"
          ],
          [
           "[TG(46:0)]_FA14:0",
           "TAG"
          ],
          [
           "[TG(47:6)]_FA14:0",
           "TAG"
          ],
          [
           "[TG(47:5)]_FA14:0",
           "TAG"
          ],
          [
           "[TG(47:4)]_FA14:0",
           "TAG"
          ],
          [
           "[TG(47:3)]_FA14:0",
           "TAG"
          ],
          [
           "[TG(47:2)]_FA14:0",
           "TAG"
          ],
          [
           "[TG(48:8),TG(47:1)]_FA14:0",
           "TAG"
          ],
          [
           "[TG(48:7),TG(47:0)]_FA14:0",
           "TAG"
          ],
          [
           "[TG(48:6)]_FA14:0",
           "TAG"
          ],
          [
           "[TG(48:5)]_FA14:0",
           "TAG"
          ],
          [
           "[TG(48:4)]_FA14:0",
           "TAG"
          ],
          [
           "[TG(48:3)]_FA14:0",
           "TAG"
          ],
          [
           "[TG(48:2)]_FA14:0",
           "TAG"
          ],
          [
           "[TG(49:8),TG(48:1)]_FA14:0",
           "TAG"
          ],
          [
           "[TG(49:7),TG(48:0)]_FA14:0",
           "TAG"
          ],
          [
           "[TG(49:6)]_FA14:0",
           "TAG"
          ],
          [
           "[TG(49:5)]_FA14:0",
           "TAG"
          ],
          [
           "[TG(49:4)]_FA14:0",
           "TAG"
          ],
          [
           "[TG(49:3)]_FA14:0",
           "TAG"
          ],
          [
           "[TG(50:9),TG(49:2)]_FA14:0",
           "TAG"
          ],
          [
           "[TG(50:8),TG(49:1)]_FA14:0",
           "TAG"
          ],
          [
           "[TG(50:7),TG(49:0)]_FA14:0",
           "TAG"
          ],
          [
           "[TG(50:6)]_FA14:0",
           "TAG"
          ],
          [
           "[TG(50:5)]_FA14:0",
           "TAG"
          ],
          [
           "[TG(50:4)]_FA14:0",
           "TAG"
          ],
          [
           "[TG(50:3)]_FA14:0",
           "TAG"
          ],
          [
           "[TG(51:9),TG(50:2)]_FA14:0",
           "TAG"
          ],
          [
           "[TG(51:8),TG(50:1)]_FA14:0",
           "TAG"
          ],
          [
           "[TG(51:7),TG(50:0)]_FA14:0",
           "TAG"
          ],
          [
           "[TG(51:6)]_FA14:0",
           "TAG"
          ],
          [
           "[TG(51:5)]_FA14:0",
           "TAG"
          ],
          [
           "[TG(51:4)]_FA14:0",
           "TAG"
          ],
          [
           "[TG(52:10),TG(51:3)]_FA14:0",
           "TAG"
          ],
          [
           "[TG(52:9),TG(51:2)]_FA14:0",
           "TAG"
          ],
          [
           "[TG(52:8),TG(51:1)]_FA14:0",
           "TAG"
          ],
          [
           "[TG(52:7),TG(51:0)]_FA14:0",
           "TAG"
          ],
          [
           "[TG(52:6)]_FA14:0",
           "TAG"
          ],
          [
           "[TG(52:5)]_FA14:0",
           "TAG"
          ],
          [
           "[TG(52:4)]_FA14:0",
           "TAG"
          ],
          [
           "[TG(53:10),TG(52:3)]_FA14:0",
           "TAG"
          ],
          [
           "[TG(53:9),TG(52:2)]_FA14:0",
           "TAG"
          ],
          [
           "[TG(53:8),TG(52:1)]_FA14:0",
           "TAG"
          ],
          [
           "[TG(53:7),TG(52:0)]_FA14:0",
           "TAG"
          ],
          [
           "[TG(53:6)]_FA14:0",
           "TAG"
          ],
          [
           "[TG(54:12),TG(53:5)]_FA14:0",
           "TAG"
          ],
          [
           "[TG(54:11),TG(53:4)]_FA14:0",
           "TAG"
          ],
          [
           "[TG(54:10),TG(53:3)]_FA14:0",
           "TAG"
          ],
          [
           "[TG(54:9),TG(53:2)]_FA14:0",
           "TAG"
          ],
          [
           "[TG(54:8),TG(53:1)]_FA14:0",
           "TAG"
          ],
          [
           "[TG(54:7),TG(53:0)]_FA14:0",
           "TAG"
          ],
          [
           "[TG(54:6)]_FA14:0",
           "TAG"
          ],
          [
           "[TG(54:5)]_FA14:0",
           "TAG"
          ],
          [
           "[TG(55:11),TG(54:4)]_FA14:0",
           "TAG"
          ],
          [
           "[TG(55:10),TG(54:3)]_FA14:0",
           "TAG"
          ],
          [
           "[TG(55:9),TG(54:2)]_FA14:0",
           "TAG"
          ],
          [
           "[TG(55:8),TG(54:1)]_FA14:0",
           "TAG"
          ],
          [
           "[TG(55:7),TG(54:0)]_FA14:0",
           "TAG"
          ],
          [
           "[TG(56:13),TG(55:6)]_FA14:0",
           "TAG"
          ],
          [
           "[TG(56:12),TG(55:5)]_FA14:0",
           "TAG"
          ],
          [
           "[TG(56:11),TG(55:4)]_FA14:0",
           "TAG"
          ],
          [
           "[TG(56:10),TG(55:3)]_FA14:0",
           "TAG"
          ],
          [
           "[TG(56:9),TG(55:2)]_FA14:0",
           "TAG"
          ],
          [
           "[TG(56:8),TG(55:1)]_FA14:0",
           "TAG"
          ],
          [
           "[TG(56:7),TG(55:0)]_FA14:0",
           "TAG"
          ],
          [
           "[TG(56:6)]_FA14:0",
           "TAG"
          ],
          [
           "[TG(57:12),TG(56:5)]_FA14:0",
           "TAG"
          ],
          [
           "[TG(57:11),TG(56:4)]_FA14:0",
           "TAG"
          ],
          [
           "[TG(57:10),TG(56:3)]_FA14:0",
           "TAG"
          ],
          [
           "[TG(57:9),TG(56:2)]_FA14:0",
           "TAG"
          ],
          [
           "[TG(57:8),TG(56:1)]_FA14:0",
           "TAG"
          ],
          [
           "[TG(58:14),TG(57:7),TG(56:0)]_FA14:0",
           "TAG"
          ],
          [
           "[TG(58:13),TG(57:6)]_FA14:0",
           "TAG"
          ],
          [
           "[TG(58:12),TG(57:5)]_FA14:0",
           "TAG"
          ],
          [
           "[TG(58:11),TG(57:4)]_FA14:0",
           "TAG"
          ],
          [
           "[TG(58:10),TG(57:3)]_FA14:0",
           "TAG"
          ],
          [
           "[TG(58:9),TG(57:2)]_FA14:0",
           "TAG"
          ],
          [
           "[TG(58:8),TG(57:1)]_FA14:0",
           "TAG"
          ],
          [
           "[TG(58:7),TG(57:0)]_FA14:0",
           "TAG"
          ],
          [
           "[TG(59:13),TG(58:6)]_FA14:0",
           "TAG"
          ],
          [
           "[TG(59:12),TG(58:5)]_FA14:0",
           "TAG"
          ],
          [
           "[TG(59:11),TG(58:4)]_FA14:0",
           "TAG"
          ],
          [
           "[TG(59:10),TG(58:3)]_FA14:0",
           "TAG"
          ],
          [
           "[TG(59:9),TG(58:2)]_FA14:0",
           "TAG"
          ],
          [
           "[TG(60:15),TG(59:8),TG(58:1)]_FA14:0",
           "TAG"
          ],
          [
           "[TG(60:14),TG(59:7),TG(58:0)]_FA14:0",
           "TAG"
          ],
          [
           "[TG(60:13),TG(59:6)]_FA14:0",
           "TAG"
          ],
          [
           "[TG(60:12),TG(59:5)]_FA14:0",
           "TAG"
          ],
          [
           "[TG(60:11),TG(59:4)]_FA14:0",
           "TAG"
          ],
          [
           "[TG(60:10),TG(59:3)]_FA14:0",
           "TAG"
          ],
          [
           "[TG(60:9),TG(59:2)]_FA14:0",
           "TAG"
          ],
          [
           "[TG(60:8),TG(59:1)]_FA14:0",
           "TAG"
          ],
          [
           "[TG(61:14),TG(60:7),TG(59:0)]_FA14:0",
           "TAG"
          ],
          [
           "[TG(61:13),TG(60:6)]_FA14:0",
           "TAG"
          ],
          [
           "[TG(61:12),TG(60:5)]_FA14:0",
           "TAG"
          ],
          [
           "[TG(61:11),TG(60:4)]_FA14:0",
           "TAG"
          ],
          [
           "[TG(61:10),TG(60:3)]_FA14:0",
           "TAG"
          ],
          [
           "[TG(62:16),TG(61:9),TG(60:2)]_FA14:0",
           "TAG"
          ],
          [
           "[TG(62:15),TG(61:8),TG(60:1)]_FA14:0",
           "TAG"
          ],
          [
           "[TG(62:14),TG(61:7),TG(60:0)]_FA14:0",
           "TAG"
          ],
          [
           "[TG(62:13),TG(61:6)]_FA14:0",
           "TAG"
          ],
          [
           "[TG(62:12),TG(61:5)]_FA14:0",
           "TAG"
          ],
          [
           "[TG(62:11),TG(61:4)]_FA14:0",
           "TAG"
          ],
          [
           "[TG(62:10),TG(61:3)]_FA14:0",
           "TAG"
          ],
          [
           "[TG(62:9),TG(61:2)]_FA14:0",
           "TAG"
          ],
          [
           "[TG(62:8),TG(61:1)]_FA14:0",
           "TAG"
          ],
          [
           "[TG(62:7),TG(61:0)]_FA14:0",
           "TAG"
          ],
          [
           "[TG(63:13),TG(62:6)]_FA14:0",
           "TAG"
          ],
          [
           "[TG(63:12),TG(62:5)]_FA14:0",
           "TAG"
          ],
          [
           "[TG(63:11),TG(62:4)]_FA14:0",
           "TAG"
          ],
          [
           "[TG(64:17),TG(63:10),TG(62:3)]_FA14:0",
           "TAG"
          ],
          [
           "[TG(64:16),TG(63:9),TG(62:2)]_FA14:0",
           "TAG"
          ],
          [
           "[TG(64:15),TG(63:8),TG(62:1)]_FA14:0",
           "TAG"
          ],
          [
           "[TG(64:14),TG(63:7),TG(62:0)]_FA14:0",
           "TAG"
          ],
          [
           "[TG(64:13),TG(63:6)]_FA14:0",
           "TAG"
          ],
          [
           "[TG(64:12),TG(63:5)]_FA14:0",
           "TAG"
          ],
          [
           "[TG(64:11),TG(63:4)]_FA14:0",
           "TAG"
          ],
          [
           "[TG(64:10),TG(63:3)]_FA14:0",
           "TAG"
          ],
          [
           "[TG(64:9),TG(63:2)]_FA14:0",
           "TAG"
          ],
          [
           "[TG(64:8),TG(63:1)]_FA14:0",
           "TAG"
          ],
          [
           "[TG(64:7),TG(63:0)]_FA14:0",
           "TAG"
          ],
          [
           "[TG(64:6)]_FA14:0",
           "TAG"
          ],
          [
           "[TG(65:12),TG(64:5)]_FA14:0",
           "TAG"
          ],
          [
           "[TG(66:18),TG(65:11),TG(64:4)]_FA14:0",
           "TAG"
          ],
          [
           "[TG(66:17),TG(65:10),TG(64:3)]_FA14:0",
           "TAG"
          ],
          [
           "[TG(66:16),TG(65:9),TG(64:2)]_FA14:0",
           "TAG"
          ],
          [
           "[TG(66:15),TG(65:8),TG(64:1)]_FA14:0",
           "TAG"
          ],
          [
           "[TG(66:14),TG(65:7),TG(64:0)]_FA14:0",
           "TAG"
          ],
          [
           "[TG(66:13),TG(65:6)]_FA14:0",
           "TAG"
          ],
          [
           "[TG(66:12),TG(65:5)]_FA14:0",
           "TAG"
          ],
          [
           "[TG(66:11),TG(65:4)]_FA14:0",
           "TAG"
          ],
          [
           "[TG(66:10),TG(65:3)]_FA14:0",
           "TAG"
          ],
          [
           "[TG(66:9),TG(65:2)]_FA14:0",
           "TAG"
          ],
          [
           "[TG(66:8),TG(65:1)]_FA14:0",
           "TAG"
          ],
          [
           "[TG(66:7)]_FA14:0",
           "TAG"
          ],
          [
           "[TG(65:0)]_FA14:0",
           "TAG"
          ],
          [
           "[TG(66:6)]_FA14:0",
           "TAG"
          ],
          [
           "[TG(66:5)]_FA14:0",
           "TAG"
          ],
          [
           "[TG(66:4)]_FA14:0",
           "TAG"
          ],
          [
           "[TG(66:3)]_FA14:0",
           "TAG"
          ],
          [
           "[TG(66:2)]_FA14:0",
           "TAG"
          ],
          [
           "[TG(66:1)]_FA14:0",
           "TAG"
          ]
         ],
         "hovertemplate": "Class=%{customdata[1]}<br>Intensity=%{y}<br>Lipid=%{customdata[0]}<extra></extra>",
         "legendgroup": "TAG",
         "marker": {
          "color": "#636efa"
         },
         "name": "TAG",
         "offsetgroup": "TAG",
         "orientation": "v",
         "showlegend": true,
         "textposition": "auto",
         "type": "bar",
         "x": [
          "TAG",
          "TAG",
          "TAG",
          "TAG",
          "TAG",
          "TAG",
          "TAG",
          "TAG",
          "TAG",
          "TAG",
          "TAG",
          "TAG",
          "TAG",
          "TAG",
          "TAG",
          "TAG",
          "TAG",
          "TAG",
          "TAG",
          "TAG",
          "TAG",
          "TAG",
          "TAG",
          "TAG",
          "TAG",
          "TAG",
          "TAG",
          "TAG",
          "TAG",
          "TAG",
          "TAG",
          "TAG",
          "TAG",
          "TAG",
          "TAG",
          "TAG",
          "TAG",
          "TAG",
          "TAG",
          "TAG",
          "TAG",
          "TAG",
          "TAG",
          "TAG",
          "TAG",
          "TAG",
          "TAG",
          "TAG",
          "TAG",
          "TAG",
          "TAG",
          "TAG",
          "TAG",
          "TAG",
          "TAG",
          "TAG",
          "TAG",
          "TAG",
          "TAG",
          "TAG",
          "TAG",
          "TAG",
          "TAG",
          "TAG",
          "TAG",
          "TAG",
          "TAG",
          "TAG",
          "TAG",
          "TAG",
          "TAG",
          "TAG",
          "TAG",
          "TAG",
          "TAG",
          "TAG",
          "TAG",
          "TAG",
          "TAG",
          "TAG",
          "TAG",
          "TAG",
          "TAG",
          "TAG",
          "TAG",
          "TAG",
          "TAG",
          "TAG",
          "TAG",
          "TAG",
          "TAG",
          "TAG",
          "TAG",
          "TAG",
          "TAG",
          "TAG",
          "TAG",
          "TAG",
          "TAG",
          "TAG",
          "TAG",
          "TAG",
          "TAG",
          "TAG",
          "TAG",
          "TAG",
          "TAG",
          "TAG",
          "TAG",
          "TAG",
          "TAG",
          "TAG",
          "TAG",
          "TAG",
          "TAG",
          "TAG",
          "TAG",
          "TAG",
          "TAG",
          "TAG",
          "TAG",
          "TAG",
          "TAG",
          "TAG",
          "TAG",
          "TAG",
          "TAG",
          "TAG",
          "TAG",
          "TAG",
          "TAG",
          "TAG",
          "TAG",
          "TAG",
          "TAG",
          "TAG",
          "TAG",
          "TAG",
          "TAG",
          "TAG",
          "TAG",
          "TAG",
          "TAG",
          "TAG",
          "TAG",
          "TAG",
          "TAG",
          "TAG",
          "TAG",
          "TAG",
          "TAG",
          "TAG",
          "TAG",
          "TAG",
          "TAG",
          "TAG",
          "TAG",
          "TAG",
          "TAG",
          "TAG",
          "TAG",
          "TAG",
          "TAG",
          "TAG",
          "TAG",
          "TAG",
          "TAG",
          "TAG",
          "TAG",
          "TAG",
          "TAG",
          "TAG",
          "TAG",
          "TAG",
          "TAG",
          "TAG",
          "TAG",
          "TAG",
          "TAG",
          "TAG"
         ],
         "xaxis": "x",
         "y": [
          45072.822998046875,
          64211.844482421875,
          237300.73681640625,
          27744.182037353516,
          37315.48260498047,
          24415.261688232422,
          34708.20263671875,
          155327.89086914062,
          20373.861602783203,
          19893.661392211914,
          26466.401824951172,
          15374.68115234375,
          19889.30142211914,
          17753.80108642578,
          131865.6494140625,
          94824.94689941406,
          16791.481231689453,
          63030.504150390625,
          26622.84196472168,
          28583.40203857422,
          29018.08203125,
          17620.081260681152,
          15765.661041259766,
          18071.14141845703,
          39169.32312011719,
          31882.602020263672,
          72722.04577636719,
          18579.66111755371,
          21398.161346435547,
          18318.621307373047,
          16532.841232299805,
          70729.62463378906,
          46782.86340332031,
          20436.341217041016,
          20286.141387939453,
          18562.861236572266,
          20631.881439208984,
          44036.763610839844,
          68736.06512451172,
          84029.40625,
          26131.921813964844,
          20985.38151550293,
          18959.501403808594,
          21987.14175415039,
          24136.061737060547,
          31395.762451171875,
          35014.362396240234,
          51366.403381347656,
          25303.261779785156,
          23539.601623535156,
          82808.48538208008,
          286373.7007446289,
          333579.6123046875,
          80859.20629882812,
          29734.44223022461,
          22083.261352539062,
          22096.821563720703,
          26063.061752319336,
          29320.561981201172,
          37507.4225769043,
          34488.222259521484,
          29315.282165527344,
          35932.222259521484,
          126118.92807006836,
          432169.33502197266,
          501185.328125,
          86953.32531738281,
          36228.10238647461,
          49931.743591308594,
          23814.681854248047,
          23092.781524658203,
          28172.081909179688,
          41892.44287109375,
          46549.702728271484,
          34083.9026184082,
          40384.46292114258,
          44110.603759765625,
          42770.922912597656,
          53848.18371582031,
          56664.44418334961,
          47311.622985839844,
          30805.982299804688,
          26174.721771240234,
          25399.10171508789,
          25004.141693115234,
          31147.182556152344,
          38980.08303833008,
          46906.80307006836,
          38897.4231262207,
          73665.94470214844,
          41898.76268005371,
          28414.301971435547,
          30718.442108154297,
          33424.282623291016,
          29007.38198852539,
          35497.86260986328,
          26408.881866455078,
          22494.82162475586,
          25690.061798095703,
          29631.141998291016,
          33327.52235412598,
          29645.14239501953,
          23936.88168334961,
          21959.361694335938,
          20401.881622314453,
          20398.84147644043,
          25416.421936035156,
          22382.361602783203,
          19609.461395263672,
          22338.061492919922,
          29575.44204711914,
          20122.321487426758,
          20873.68148803711,
          20475.001525878906,
          19687.661422729492,
          17986.1212310791,
          16909.581176757812,
          17760.02130126953,
          17154.881271362305,
          17369.481216430664,
          17000.50129699707,
          14471.141006469727,
          17327.96128845215,
          15586.361099243164,
          15192.34105682373,
          16057.961143493652,
          29432.862243652344,
          21032.461456298828,
          15778.50112915039,
          13972.840942382812,
          15361.26107788086,
          14665.92106628418,
          12983.740997314453,
          16507.40118408203,
          15164.080978393555,
          16115.021049499512,
          14670.80093383789,
          11676.520835876465,
          12641.240867614746,
          14229.900955200195,
          14026.561004638672,
          13990.720977783203,
          14917.441131591797,
          14691.960952758789,
          12988.200942993164,
          13342.720916748047,
          14266.48112487793,
          13126.080932617188,
          13007.560943603516,
          15978.181114196777,
          14954.541114807129,
          12710.70083618164,
          14045.280990600586,
          14086.260986328125,
          12927.800796508789,
          10637.140739440918,
          13033.880912780762,
          13134.800857543945,
          12264.380752563477,
          13273.14094543457,
          20100.661331176758,
          12335.680953979492,
          12561.440925598145,
          19396.041259765625,
          15101.360977172852,
          15476.981079101562,
          10396.680717468262,
          12281.800918579102,
          12049.680938720703,
          11546.020881652832,
          13140.541000366211,
          14803.141014099121,
          13260.220840454102,
          15204.641082763672,
          11739.30093383789,
          10289.58073425293,
          11749.400787353516,
          12457.700866699219,
          11174.560779571533,
          12249.820945739746
         ],
         "yaxis": "y"
        },
        {
         "alignmentgroup": "True",
         "customdata": [
          [
           "STD_15:0-18:1(d7)-15:0 TAG",
           "STD_15:0-18:1(d7)-15:0 TAG"
          ]
         ],
         "hovertemplate": "Class=%{customdata[1]}<br>Intensity=%{y}<br>Lipid=%{customdata[0]}<extra></extra>",
         "legendgroup": "STD_15:0-18:1(d7)-15:0 TAG",
         "marker": {
          "color": "#EF553B"
         },
         "name": "STD_15:0-18:1(d7)-15:0 TAG",
         "offsetgroup": "STD_15:0-18:1(d7)-15:0 TAG",
         "orientation": "v",
         "showlegend": true,
         "textposition": "auto",
         "type": "bar",
         "x": [
          "STD_15:0-18:1(d7)-15:0 TAG"
         ],
         "xaxis": "x",
         "y": [
          33835.302642822266
         ],
         "yaxis": "y"
        }
       ],
       "layout": {
        "barmode": "relative",
        "legend": {
         "title": {
          "text": "Class"
         },
         "tracegroupgap": 0
        },
        "margin": {
         "t": 60
        },
        "template": {
         "data": {
          "bar": [
           {
            "error_x": {
             "color": "#2a3f5f"
            },
            "error_y": {
             "color": "#2a3f5f"
            },
            "marker": {
             "line": {
              "color": "#E5ECF6",
              "width": 0.5
             }
            },
            "type": "bar"
           }
          ],
          "barpolar": [
           {
            "marker": {
             "line": {
              "color": "#E5ECF6",
              "width": 0.5
             }
            },
            "type": "barpolar"
           }
          ],
          "carpet": [
           {
            "aaxis": {
             "endlinecolor": "#2a3f5f",
             "gridcolor": "white",
             "linecolor": "white",
             "minorgridcolor": "white",
             "startlinecolor": "#2a3f5f"
            },
            "baxis": {
             "endlinecolor": "#2a3f5f",
             "gridcolor": "white",
             "linecolor": "white",
             "minorgridcolor": "white",
             "startlinecolor": "#2a3f5f"
            },
            "type": "carpet"
           }
          ],
          "choropleth": [
           {
            "colorbar": {
             "outlinewidth": 0,
             "ticks": ""
            },
            "type": "choropleth"
           }
          ],
          "contour": [
           {
            "colorbar": {
             "outlinewidth": 0,
             "ticks": ""
            },
            "colorscale": [
             [
              0,
              "#0d0887"
             ],
             [
              0.1111111111111111,
              "#46039f"
             ],
             [
              0.2222222222222222,
              "#7201a8"
             ],
             [
              0.3333333333333333,
              "#9c179e"
             ],
             [
              0.4444444444444444,
              "#bd3786"
             ],
             [
              0.5555555555555556,
              "#d8576b"
             ],
             [
              0.6666666666666666,
              "#ed7953"
             ],
             [
              0.7777777777777778,
              "#fb9f3a"
             ],
             [
              0.8888888888888888,
              "#fdca26"
             ],
             [
              1,
              "#f0f921"
             ]
            ],
            "type": "contour"
           }
          ],
          "contourcarpet": [
           {
            "colorbar": {
             "outlinewidth": 0,
             "ticks": ""
            },
            "type": "contourcarpet"
           }
          ],
          "heatmap": [
           {
            "colorbar": {
             "outlinewidth": 0,
             "ticks": ""
            },
            "colorscale": [
             [
              0,
              "#0d0887"
             ],
             [
              0.1111111111111111,
              "#46039f"
             ],
             [
              0.2222222222222222,
              "#7201a8"
             ],
             [
              0.3333333333333333,
              "#9c179e"
             ],
             [
              0.4444444444444444,
              "#bd3786"
             ],
             [
              0.5555555555555556,
              "#d8576b"
             ],
             [
              0.6666666666666666,
              "#ed7953"
             ],
             [
              0.7777777777777778,
              "#fb9f3a"
             ],
             [
              0.8888888888888888,
              "#fdca26"
             ],
             [
              1,
              "#f0f921"
             ]
            ],
            "type": "heatmap"
           }
          ],
          "heatmapgl": [
           {
            "colorbar": {
             "outlinewidth": 0,
             "ticks": ""
            },
            "colorscale": [
             [
              0,
              "#0d0887"
             ],
             [
              0.1111111111111111,
              "#46039f"
             ],
             [
              0.2222222222222222,
              "#7201a8"
             ],
             [
              0.3333333333333333,
              "#9c179e"
             ],
             [
              0.4444444444444444,
              "#bd3786"
             ],
             [
              0.5555555555555556,
              "#d8576b"
             ],
             [
              0.6666666666666666,
              "#ed7953"
             ],
             [
              0.7777777777777778,
              "#fb9f3a"
             ],
             [
              0.8888888888888888,
              "#fdca26"
             ],
             [
              1,
              "#f0f921"
             ]
            ],
            "type": "heatmapgl"
           }
          ],
          "histogram": [
           {
            "marker": {
             "colorbar": {
              "outlinewidth": 0,
              "ticks": ""
             }
            },
            "type": "histogram"
           }
          ],
          "histogram2d": [
           {
            "colorbar": {
             "outlinewidth": 0,
             "ticks": ""
            },
            "colorscale": [
             [
              0,
              "#0d0887"
             ],
             [
              0.1111111111111111,
              "#46039f"
             ],
             [
              0.2222222222222222,
              "#7201a8"
             ],
             [
              0.3333333333333333,
              "#9c179e"
             ],
             [
              0.4444444444444444,
              "#bd3786"
             ],
             [
              0.5555555555555556,
              "#d8576b"
             ],
             [
              0.6666666666666666,
              "#ed7953"
             ],
             [
              0.7777777777777778,
              "#fb9f3a"
             ],
             [
              0.8888888888888888,
              "#fdca26"
             ],
             [
              1,
              "#f0f921"
             ]
            ],
            "type": "histogram2d"
           }
          ],
          "histogram2dcontour": [
           {
            "colorbar": {
             "outlinewidth": 0,
             "ticks": ""
            },
            "colorscale": [
             [
              0,
              "#0d0887"
             ],
             [
              0.1111111111111111,
              "#46039f"
             ],
             [
              0.2222222222222222,
              "#7201a8"
             ],
             [
              0.3333333333333333,
              "#9c179e"
             ],
             [
              0.4444444444444444,
              "#bd3786"
             ],
             [
              0.5555555555555556,
              "#d8576b"
             ],
             [
              0.6666666666666666,
              "#ed7953"
             ],
             [
              0.7777777777777778,
              "#fb9f3a"
             ],
             [
              0.8888888888888888,
              "#fdca26"
             ],
             [
              1,
              "#f0f921"
             ]
            ],
            "type": "histogram2dcontour"
           }
          ],
          "mesh3d": [
           {
            "colorbar": {
             "outlinewidth": 0,
             "ticks": ""
            },
            "type": "mesh3d"
           }
          ],
          "parcoords": [
           {
            "line": {
             "colorbar": {
              "outlinewidth": 0,
              "ticks": ""
             }
            },
            "type": "parcoords"
           }
          ],
          "pie": [
           {
            "automargin": true,
            "type": "pie"
           }
          ],
          "scatter": [
           {
            "marker": {
             "colorbar": {
              "outlinewidth": 0,
              "ticks": ""
             }
            },
            "type": "scatter"
           }
          ],
          "scatter3d": [
           {
            "line": {
             "colorbar": {
              "outlinewidth": 0,
              "ticks": ""
             }
            },
            "marker": {
             "colorbar": {
              "outlinewidth": 0,
              "ticks": ""
             }
            },
            "type": "scatter3d"
           }
          ],
          "scattercarpet": [
           {
            "marker": {
             "colorbar": {
              "outlinewidth": 0,
              "ticks": ""
             }
            },
            "type": "scattercarpet"
           }
          ],
          "scattergeo": [
           {
            "marker": {
             "colorbar": {
              "outlinewidth": 0,
              "ticks": ""
             }
            },
            "type": "scattergeo"
           }
          ],
          "scattergl": [
           {
            "marker": {
             "colorbar": {
              "outlinewidth": 0,
              "ticks": ""
             }
            },
            "type": "scattergl"
           }
          ],
          "scattermapbox": [
           {
            "marker": {
             "colorbar": {
              "outlinewidth": 0,
              "ticks": ""
             }
            },
            "type": "scattermapbox"
           }
          ],
          "scatterpolar": [
           {
            "marker": {
             "colorbar": {
              "outlinewidth": 0,
              "ticks": ""
             }
            },
            "type": "scatterpolar"
           }
          ],
          "scatterpolargl": [
           {
            "marker": {
             "colorbar": {
              "outlinewidth": 0,
              "ticks": ""
             }
            },
            "type": "scatterpolargl"
           }
          ],
          "scatterternary": [
           {
            "marker": {
             "colorbar": {
              "outlinewidth": 0,
              "ticks": ""
             }
            },
            "type": "scatterternary"
           }
          ],
          "surface": [
           {
            "colorbar": {
             "outlinewidth": 0,
             "ticks": ""
            },
            "colorscale": [
             [
              0,
              "#0d0887"
             ],
             [
              0.1111111111111111,
              "#46039f"
             ],
             [
              0.2222222222222222,
              "#7201a8"
             ],
             [
              0.3333333333333333,
              "#9c179e"
             ],
             [
              0.4444444444444444,
              "#bd3786"
             ],
             [
              0.5555555555555556,
              "#d8576b"
             ],
             [
              0.6666666666666666,
              "#ed7953"
             ],
             [
              0.7777777777777778,
              "#fb9f3a"
             ],
             [
              0.8888888888888888,
              "#fdca26"
             ],
             [
              1,
              "#f0f921"
             ]
            ],
            "type": "surface"
           }
          ],
          "table": [
           {
            "cells": {
             "fill": {
              "color": "#EBF0F8"
             },
             "line": {
              "color": "white"
             }
            },
            "header": {
             "fill": {
              "color": "#C8D4E3"
             },
             "line": {
              "color": "white"
             }
            },
            "type": "table"
           }
          ]
         },
         "layout": {
          "annotationdefaults": {
           "arrowcolor": "#2a3f5f",
           "arrowhead": 0,
           "arrowwidth": 1
          },
          "coloraxis": {
           "colorbar": {
            "outlinewidth": 0,
            "ticks": ""
           }
          },
          "colorscale": {
           "diverging": [
            [
             0,
             "#8e0152"
            ],
            [
             0.1,
             "#c51b7d"
            ],
            [
             0.2,
             "#de77ae"
            ],
            [
             0.3,
             "#f1b6da"
            ],
            [
             0.4,
             "#fde0ef"
            ],
            [
             0.5,
             "#f7f7f7"
            ],
            [
             0.6,
             "#e6f5d0"
            ],
            [
             0.7,
             "#b8e186"
            ],
            [
             0.8,
             "#7fbc41"
            ],
            [
             0.9,
             "#4d9221"
            ],
            [
             1,
             "#276419"
            ]
           ],
           "sequential": [
            [
             0,
             "#0d0887"
            ],
            [
             0.1111111111111111,
             "#46039f"
            ],
            [
             0.2222222222222222,
             "#7201a8"
            ],
            [
             0.3333333333333333,
             "#9c179e"
            ],
            [
             0.4444444444444444,
             "#bd3786"
            ],
            [
             0.5555555555555556,
             "#d8576b"
            ],
            [
             0.6666666666666666,
             "#ed7953"
            ],
            [
             0.7777777777777778,
             "#fb9f3a"
            ],
            [
             0.8888888888888888,
             "#fdca26"
            ],
            [
             1,
             "#f0f921"
            ]
           ],
           "sequentialminus": [
            [
             0,
             "#0d0887"
            ],
            [
             0.1111111111111111,
             "#46039f"
            ],
            [
             0.2222222222222222,
             "#7201a8"
            ],
            [
             0.3333333333333333,
             "#9c179e"
            ],
            [
             0.4444444444444444,
             "#bd3786"
            ],
            [
             0.5555555555555556,
             "#d8576b"
            ],
            [
             0.6666666666666666,
             "#ed7953"
            ],
            [
             0.7777777777777778,
             "#fb9f3a"
            ],
            [
             0.8888888888888888,
             "#fdca26"
            ],
            [
             1,
             "#f0f921"
            ]
           ]
          },
          "colorway": [
           "#636efa",
           "#EF553B",
           "#00cc96",
           "#ab63fa",
           "#FFA15A",
           "#19d3f3",
           "#FF6692",
           "#B6E880",
           "#FF97FF",
           "#FECB52"
          ],
          "font": {
           "color": "#2a3f5f"
          },
          "geo": {
           "bgcolor": "white",
           "lakecolor": "white",
           "landcolor": "#E5ECF6",
           "showlakes": true,
           "showland": true,
           "subunitcolor": "white"
          },
          "hoverlabel": {
           "align": "left"
          },
          "hovermode": "closest",
          "mapbox": {
           "style": "light"
          },
          "paper_bgcolor": "white",
          "plot_bgcolor": "#E5ECF6",
          "polar": {
           "angularaxis": {
            "gridcolor": "white",
            "linecolor": "white",
            "ticks": ""
           },
           "bgcolor": "#E5ECF6",
           "radialaxis": {
            "gridcolor": "white",
            "linecolor": "white",
            "ticks": ""
           }
          },
          "scene": {
           "xaxis": {
            "backgroundcolor": "#E5ECF6",
            "gridcolor": "white",
            "gridwidth": 2,
            "linecolor": "white",
            "showbackground": true,
            "ticks": "",
            "zerolinecolor": "white"
           },
           "yaxis": {
            "backgroundcolor": "#E5ECF6",
            "gridcolor": "white",
            "gridwidth": 2,
            "linecolor": "white",
            "showbackground": true,
            "ticks": "",
            "zerolinecolor": "white"
           },
           "zaxis": {
            "backgroundcolor": "#E5ECF6",
            "gridcolor": "white",
            "gridwidth": 2,
            "linecolor": "white",
            "showbackground": true,
            "ticks": "",
            "zerolinecolor": "white"
           }
          },
          "shapedefaults": {
           "line": {
            "color": "#2a3f5f"
           }
          },
          "ternary": {
           "aaxis": {
            "gridcolor": "white",
            "linecolor": "white",
            "ticks": ""
           },
           "baxis": {
            "gridcolor": "white",
            "linecolor": "white",
            "ticks": ""
           },
           "bgcolor": "#E5ECF6",
           "caxis": {
            "gridcolor": "white",
            "linecolor": "white",
            "ticks": ""
           }
          },
          "title": {
           "x": 0.05
          },
          "xaxis": {
           "automargin": true,
           "gridcolor": "white",
           "linecolor": "white",
           "ticks": "",
           "title": {
            "standoff": 15
           },
           "zerolinecolor": "white",
           "zerolinewidth": 2
          },
          "yaxis": {
           "automargin": true,
           "gridcolor": "white",
           "linecolor": "white",
           "ticks": "",
           "title": {
            "standoff": 15
           },
           "zerolinecolor": "white",
           "zerolinewidth": 2
          }
         }
        },
        "xaxis": {
         "anchor": "y",
         "categoryarray": [
          "TAG",
          "STD_15:0-18:1(d7)-15:0 TAG"
         ],
         "categoryorder": "array",
         "domain": [
          0,
          1
         ],
         "title": {
          "text": "Class"
         }
        },
        "yaxis": {
         "anchor": "x",
         "domain": [
          0,
          1
         ],
         "title": {
          "text": "Intensity"
         }
        }
       }
      },
      "text/html": [
       "<div>                            <div id=\"c19b4ed5-0ffc-473d-8c25-2240ebd32810\" class=\"plotly-graph-div\" style=\"height:525px; width:100%;\"></div>            <script type=\"text/javascript\">                require([\"plotly\"], function(Plotly) {                    window.PLOTLYENV=window.PLOTLYENV || {};                                    if (document.getElementById(\"c19b4ed5-0ffc-473d-8c25-2240ebd32810\")) {                    Plotly.newPlot(                        \"c19b4ed5-0ffc-473d-8c25-2240ebd32810\",                        [{\"alignmentgroup\": \"True\", \"customdata\": [[\"[TG(37:0)]_FA14:0\", \"TAG\"], [\"[TG(38:1)]_FA14:0\", \"TAG\"], [\"[TG(38:0)]_FA14:0\", \"TAG\"], [\"[TG(39:1)]_FA14:0\", \"TAG\"], [\"[TG(39:0)]_FA14:0\", \"TAG\"], [\"[TG(40:2)]_FA14:0\", \"TAG\"], [\"[TG(40:1)]_FA14:0\", \"TAG\"], [\"[TG(40:0)]_FA14:0\", \"TAG\"], [\"[TG(41:2)]_FA14:0\", \"TAG\"], [\"[TG(41:1)]_FA14:0\", \"TAG\"], [\"[TG(41:0)]_FA14:0\", \"TAG\"], [\"[TG(42:4)]_FA14:0\", \"TAG\"], [\"[TG(42:3)]_FA14:0\", \"TAG\"], [\"[TG(42:2)]_FA14:0\", \"TAG\"], [\"[TG(42:1)]_FA14:0\", \"TAG\"], [\"[TG(42:0)]_FA14:0\", \"TAG\"], [\"[TG(43:4)]_FA14:0\", \"TAG\"], [\"[TG(43:3)]_FA14:0\", \"TAG\"], [\"[TG(43:2)]_FA14:0\", \"TAG\"], [\"[TG(43:1)]_FA14:0\", \"TAG\"], [\"[TG(43:0)]_FA14:0\", \"TAG\"], [\"[TG(44:5)]_FA14:0\", \"TAG\"], [\"[TG(44:4)]_FA14:0\", \"TAG\"], [\"[TG(44:3)]_FA14:0\", \"TAG\"], [\"[TG(44:2)]_FA14:0\", \"TAG\"], [\"[TG(44:1)]_FA14:0\", \"TAG\"], [\"[TG(44:0),TG(O-45:0)]_FA14:0\", \"TAG\"], [\"[TG(45:5)]_FA14:0\", \"TAG\"], [\"[TG(45:4)]_FA14:0\", \"TAG\"], [\"[TG(45:3)]_FA14:0\", \"TAG\"], [\"[TG(45:2)]_FA14:0\", \"TAG\"], [\"[TG(45:1)]_FA14:0\", \"TAG\"], [\"[TG(45:0)]_FA14:0\", \"TAG\"], [\"[TG(46:6)]_FA14:0\", \"TAG\"], [\"[TG(46:5)]_FA14:0\", \"TAG\"], [\"[TG(46:4)]_FA14:0\", \"TAG\"], [\"[TG(46:3)]_FA14:0\", \"TAG\"], [\"[TG(46:2)]_FA14:0\", \"TAG\"], [\"[TG(46:1)]_FA14:0\", \"TAG\"], [\"[TG(46:0)]_FA14:0\", \"TAG\"], [\"[TG(47:6)]_FA14:0\", \"TAG\"], [\"[TG(47:5)]_FA14:0\", \"TAG\"], [\"[TG(47:4)]_FA14:0\", \"TAG\"], [\"[TG(47:3)]_FA14:0\", \"TAG\"], [\"[TG(47:2)]_FA14:0\", \"TAG\"], [\"[TG(48:8),TG(47:1)]_FA14:0\", \"TAG\"], [\"[TG(48:7),TG(47:0)]_FA14:0\", \"TAG\"], [\"[TG(48:6)]_FA14:0\", \"TAG\"], [\"[TG(48:5)]_FA14:0\", \"TAG\"], [\"[TG(48:4)]_FA14:0\", \"TAG\"], [\"[TG(48:3)]_FA14:0\", \"TAG\"], [\"[TG(48:2)]_FA14:0\", \"TAG\"], [\"[TG(49:8),TG(48:1)]_FA14:0\", \"TAG\"], [\"[TG(49:7),TG(48:0)]_FA14:0\", \"TAG\"], [\"[TG(49:6)]_FA14:0\", \"TAG\"], [\"[TG(49:5)]_FA14:0\", \"TAG\"], [\"[TG(49:4)]_FA14:0\", \"TAG\"], [\"[TG(49:3)]_FA14:0\", \"TAG\"], [\"[TG(50:9),TG(49:2)]_FA14:0\", \"TAG\"], [\"[TG(50:8),TG(49:1)]_FA14:0\", \"TAG\"], [\"[TG(50:7),TG(49:0)]_FA14:0\", \"TAG\"], [\"[TG(50:6)]_FA14:0\", \"TAG\"], [\"[TG(50:5)]_FA14:0\", \"TAG\"], [\"[TG(50:4)]_FA14:0\", \"TAG\"], [\"[TG(50:3)]_FA14:0\", \"TAG\"], [\"[TG(51:9),TG(50:2)]_FA14:0\", \"TAG\"], [\"[TG(51:8),TG(50:1)]_FA14:0\", \"TAG\"], [\"[TG(51:7),TG(50:0)]_FA14:0\", \"TAG\"], [\"[TG(51:6)]_FA14:0\", \"TAG\"], [\"[TG(51:5)]_FA14:0\", \"TAG\"], [\"[TG(51:4)]_FA14:0\", \"TAG\"], [\"[TG(52:10),TG(51:3)]_FA14:0\", \"TAG\"], [\"[TG(52:9),TG(51:2)]_FA14:0\", \"TAG\"], [\"[TG(52:8),TG(51:1)]_FA14:0\", \"TAG\"], [\"[TG(52:7),TG(51:0)]_FA14:0\", \"TAG\"], [\"[TG(52:6)]_FA14:0\", \"TAG\"], [\"[TG(52:5)]_FA14:0\", \"TAG\"], [\"[TG(52:4)]_FA14:0\", \"TAG\"], [\"[TG(53:10),TG(52:3)]_FA14:0\", \"TAG\"], [\"[TG(53:9),TG(52:2)]_FA14:0\", \"TAG\"], [\"[TG(53:8),TG(52:1)]_FA14:0\", \"TAG\"], [\"[TG(53:7),TG(52:0)]_FA14:0\", \"TAG\"], [\"[TG(53:6)]_FA14:0\", \"TAG\"], [\"[TG(54:12),TG(53:5)]_FA14:0\", \"TAG\"], [\"[TG(54:11),TG(53:4)]_FA14:0\", \"TAG\"], [\"[TG(54:10),TG(53:3)]_FA14:0\", \"TAG\"], [\"[TG(54:9),TG(53:2)]_FA14:0\", \"TAG\"], [\"[TG(54:8),TG(53:1)]_FA14:0\", \"TAG\"], [\"[TG(54:7),TG(53:0)]_FA14:0\", \"TAG\"], [\"[TG(54:6)]_FA14:0\", \"TAG\"], [\"[TG(54:5)]_FA14:0\", \"TAG\"], [\"[TG(55:11),TG(54:4)]_FA14:0\", \"TAG\"], [\"[TG(55:10),TG(54:3)]_FA14:0\", \"TAG\"], [\"[TG(55:9),TG(54:2)]_FA14:0\", \"TAG\"], [\"[TG(55:8),TG(54:1)]_FA14:0\", \"TAG\"], [\"[TG(55:7),TG(54:0)]_FA14:0\", \"TAG\"], [\"[TG(56:13),TG(55:6)]_FA14:0\", \"TAG\"], [\"[TG(56:12),TG(55:5)]_FA14:0\", \"TAG\"], [\"[TG(56:11),TG(55:4)]_FA14:0\", \"TAG\"], [\"[TG(56:10),TG(55:3)]_FA14:0\", \"TAG\"], [\"[TG(56:9),TG(55:2)]_FA14:0\", \"TAG\"], [\"[TG(56:8),TG(55:1)]_FA14:0\", \"TAG\"], [\"[TG(56:7),TG(55:0)]_FA14:0\", \"TAG\"], [\"[TG(56:6)]_FA14:0\", \"TAG\"], [\"[TG(57:12),TG(56:5)]_FA14:0\", \"TAG\"], [\"[TG(57:11),TG(56:4)]_FA14:0\", \"TAG\"], [\"[TG(57:10),TG(56:3)]_FA14:0\", \"TAG\"], [\"[TG(57:9),TG(56:2)]_FA14:0\", \"TAG\"], [\"[TG(57:8),TG(56:1)]_FA14:0\", \"TAG\"], [\"[TG(58:14),TG(57:7),TG(56:0)]_FA14:0\", \"TAG\"], [\"[TG(58:13),TG(57:6)]_FA14:0\", \"TAG\"], [\"[TG(58:12),TG(57:5)]_FA14:0\", \"TAG\"], [\"[TG(58:11),TG(57:4)]_FA14:0\", \"TAG\"], [\"[TG(58:10),TG(57:3)]_FA14:0\", \"TAG\"], [\"[TG(58:9),TG(57:2)]_FA14:0\", \"TAG\"], [\"[TG(58:8),TG(57:1)]_FA14:0\", \"TAG\"], [\"[TG(58:7),TG(57:0)]_FA14:0\", \"TAG\"], [\"[TG(59:13),TG(58:6)]_FA14:0\", \"TAG\"], [\"[TG(59:12),TG(58:5)]_FA14:0\", \"TAG\"], [\"[TG(59:11),TG(58:4)]_FA14:0\", \"TAG\"], [\"[TG(59:10),TG(58:3)]_FA14:0\", \"TAG\"], [\"[TG(59:9),TG(58:2)]_FA14:0\", \"TAG\"], [\"[TG(60:15),TG(59:8),TG(58:1)]_FA14:0\", \"TAG\"], [\"[TG(60:14),TG(59:7),TG(58:0)]_FA14:0\", \"TAG\"], [\"[TG(60:13),TG(59:6)]_FA14:0\", \"TAG\"], [\"[TG(60:12),TG(59:5)]_FA14:0\", \"TAG\"], [\"[TG(60:11),TG(59:4)]_FA14:0\", \"TAG\"], [\"[TG(60:10),TG(59:3)]_FA14:0\", \"TAG\"], [\"[TG(60:9),TG(59:2)]_FA14:0\", \"TAG\"], [\"[TG(60:8),TG(59:1)]_FA14:0\", \"TAG\"], [\"[TG(61:14),TG(60:7),TG(59:0)]_FA14:0\", \"TAG\"], [\"[TG(61:13),TG(60:6)]_FA14:0\", \"TAG\"], [\"[TG(61:12),TG(60:5)]_FA14:0\", \"TAG\"], [\"[TG(61:11),TG(60:4)]_FA14:0\", \"TAG\"], [\"[TG(61:10),TG(60:3)]_FA14:0\", \"TAG\"], [\"[TG(62:16),TG(61:9),TG(60:2)]_FA14:0\", \"TAG\"], [\"[TG(62:15),TG(61:8),TG(60:1)]_FA14:0\", \"TAG\"], [\"[TG(62:14),TG(61:7),TG(60:0)]_FA14:0\", \"TAG\"], [\"[TG(62:13),TG(61:6)]_FA14:0\", \"TAG\"], [\"[TG(62:12),TG(61:5)]_FA14:0\", \"TAG\"], [\"[TG(62:11),TG(61:4)]_FA14:0\", \"TAG\"], [\"[TG(62:10),TG(61:3)]_FA14:0\", \"TAG\"], [\"[TG(62:9),TG(61:2)]_FA14:0\", \"TAG\"], [\"[TG(62:8),TG(61:1)]_FA14:0\", \"TAG\"], [\"[TG(62:7),TG(61:0)]_FA14:0\", \"TAG\"], [\"[TG(63:13),TG(62:6)]_FA14:0\", \"TAG\"], [\"[TG(63:12),TG(62:5)]_FA14:0\", \"TAG\"], [\"[TG(63:11),TG(62:4)]_FA14:0\", \"TAG\"], [\"[TG(64:17),TG(63:10),TG(62:3)]_FA14:0\", \"TAG\"], [\"[TG(64:16),TG(63:9),TG(62:2)]_FA14:0\", \"TAG\"], [\"[TG(64:15),TG(63:8),TG(62:1)]_FA14:0\", \"TAG\"], [\"[TG(64:14),TG(63:7),TG(62:0)]_FA14:0\", \"TAG\"], [\"[TG(64:13),TG(63:6)]_FA14:0\", \"TAG\"], [\"[TG(64:12),TG(63:5)]_FA14:0\", \"TAG\"], [\"[TG(64:11),TG(63:4)]_FA14:0\", \"TAG\"], [\"[TG(64:10),TG(63:3)]_FA14:0\", \"TAG\"], [\"[TG(64:9),TG(63:2)]_FA14:0\", \"TAG\"], [\"[TG(64:8),TG(63:1)]_FA14:0\", \"TAG\"], [\"[TG(64:7),TG(63:0)]_FA14:0\", \"TAG\"], [\"[TG(64:6)]_FA14:0\", \"TAG\"], [\"[TG(65:12),TG(64:5)]_FA14:0\", \"TAG\"], [\"[TG(66:18),TG(65:11),TG(64:4)]_FA14:0\", \"TAG\"], [\"[TG(66:17),TG(65:10),TG(64:3)]_FA14:0\", \"TAG\"], [\"[TG(66:16),TG(65:9),TG(64:2)]_FA14:0\", \"TAG\"], [\"[TG(66:15),TG(65:8),TG(64:1)]_FA14:0\", \"TAG\"], [\"[TG(66:14),TG(65:7),TG(64:0)]_FA14:0\", \"TAG\"], [\"[TG(66:13),TG(65:6)]_FA14:0\", \"TAG\"], [\"[TG(66:12),TG(65:5)]_FA14:0\", \"TAG\"], [\"[TG(66:11),TG(65:4)]_FA14:0\", \"TAG\"], [\"[TG(66:10),TG(65:3)]_FA14:0\", \"TAG\"], [\"[TG(66:9),TG(65:2)]_FA14:0\", \"TAG\"], [\"[TG(66:8),TG(65:1)]_FA14:0\", \"TAG\"], [\"[TG(66:7)]_FA14:0\", \"TAG\"], [\"[TG(65:0)]_FA14:0\", \"TAG\"], [\"[TG(66:6)]_FA14:0\", \"TAG\"], [\"[TG(66:5)]_FA14:0\", \"TAG\"], [\"[TG(66:4)]_FA14:0\", \"TAG\"], [\"[TG(66:3)]_FA14:0\", \"TAG\"], [\"[TG(66:2)]_FA14:0\", \"TAG\"], [\"[TG(66:1)]_FA14:0\", \"TAG\"]], \"hovertemplate\": \"Class=%{customdata[1]}<br>Intensity=%{y}<br>Lipid=%{customdata[0]}<extra></extra>\", \"legendgroup\": \"TAG\", \"marker\": {\"color\": \"#636efa\"}, \"name\": \"TAG\", \"offsetgroup\": \"TAG\", \"orientation\": \"v\", \"showlegend\": true, \"textposition\": \"auto\", \"type\": \"bar\", \"x\": [\"TAG\", \"TAG\", \"TAG\", \"TAG\", \"TAG\", \"TAG\", \"TAG\", \"TAG\", \"TAG\", \"TAG\", \"TAG\", \"TAG\", \"TAG\", \"TAG\", \"TAG\", \"TAG\", \"TAG\", \"TAG\", \"TAG\", \"TAG\", \"TAG\", \"TAG\", \"TAG\", \"TAG\", \"TAG\", \"TAG\", \"TAG\", \"TAG\", \"TAG\", \"TAG\", \"TAG\", \"TAG\", \"TAG\", \"TAG\", \"TAG\", \"TAG\", \"TAG\", \"TAG\", \"TAG\", \"TAG\", \"TAG\", \"TAG\", \"TAG\", \"TAG\", \"TAG\", \"TAG\", \"TAG\", \"TAG\", \"TAG\", \"TAG\", \"TAG\", \"TAG\", \"TAG\", \"TAG\", \"TAG\", \"TAG\", \"TAG\", \"TAG\", \"TAG\", \"TAG\", \"TAG\", \"TAG\", \"TAG\", \"TAG\", \"TAG\", \"TAG\", \"TAG\", \"TAG\", \"TAG\", \"TAG\", \"TAG\", \"TAG\", \"TAG\", \"TAG\", \"TAG\", \"TAG\", \"TAG\", \"TAG\", \"TAG\", \"TAG\", \"TAG\", \"TAG\", \"TAG\", \"TAG\", \"TAG\", \"TAG\", \"TAG\", \"TAG\", \"TAG\", \"TAG\", \"TAG\", \"TAG\", \"TAG\", \"TAG\", \"TAG\", \"TAG\", \"TAG\", \"TAG\", \"TAG\", \"TAG\", \"TAG\", \"TAG\", \"TAG\", \"TAG\", \"TAG\", \"TAG\", \"TAG\", \"TAG\", \"TAG\", \"TAG\", \"TAG\", \"TAG\", \"TAG\", \"TAG\", \"TAG\", \"TAG\", \"TAG\", \"TAG\", \"TAG\", \"TAG\", \"TAG\", \"TAG\", \"TAG\", \"TAG\", \"TAG\", \"TAG\", \"TAG\", \"TAG\", \"TAG\", \"TAG\", \"TAG\", \"TAG\", \"TAG\", \"TAG\", \"TAG\", \"TAG\", \"TAG\", \"TAG\", \"TAG\", \"TAG\", \"TAG\", \"TAG\", \"TAG\", \"TAG\", \"TAG\", \"TAG\", \"TAG\", \"TAG\", \"TAG\", \"TAG\", \"TAG\", \"TAG\", \"TAG\", \"TAG\", \"TAG\", \"TAG\", \"TAG\", \"TAG\", \"TAG\", \"TAG\", \"TAG\", \"TAG\", \"TAG\", \"TAG\", \"TAG\", \"TAG\", \"TAG\", \"TAG\", \"TAG\", \"TAG\", \"TAG\", \"TAG\", \"TAG\", \"TAG\", \"TAG\", \"TAG\", \"TAG\", \"TAG\", \"TAG\", \"TAG\"], \"xaxis\": \"x\", \"y\": [45072.822998046875, 64211.844482421875, 237300.73681640625, 27744.182037353516, 37315.48260498047, 24415.261688232422, 34708.20263671875, 155327.89086914062, 20373.861602783203, 19893.661392211914, 26466.401824951172, 15374.68115234375, 19889.30142211914, 17753.80108642578, 131865.6494140625, 94824.94689941406, 16791.481231689453, 63030.504150390625, 26622.84196472168, 28583.40203857422, 29018.08203125, 17620.081260681152, 15765.661041259766, 18071.14141845703, 39169.32312011719, 31882.602020263672, 72722.04577636719, 18579.66111755371, 21398.161346435547, 18318.621307373047, 16532.841232299805, 70729.62463378906, 46782.86340332031, 20436.341217041016, 20286.141387939453, 18562.861236572266, 20631.881439208984, 44036.763610839844, 68736.06512451172, 84029.40625, 26131.921813964844, 20985.38151550293, 18959.501403808594, 21987.14175415039, 24136.061737060547, 31395.762451171875, 35014.362396240234, 51366.403381347656, 25303.261779785156, 23539.601623535156, 82808.48538208008, 286373.7007446289, 333579.6123046875, 80859.20629882812, 29734.44223022461, 22083.261352539062, 22096.821563720703, 26063.061752319336, 29320.561981201172, 37507.4225769043, 34488.222259521484, 29315.282165527344, 35932.222259521484, 126118.92807006836, 432169.33502197266, 501185.328125, 86953.32531738281, 36228.10238647461, 49931.743591308594, 23814.681854248047, 23092.781524658203, 28172.081909179688, 41892.44287109375, 46549.702728271484, 34083.9026184082, 40384.46292114258, 44110.603759765625, 42770.922912597656, 53848.18371582031, 56664.44418334961, 47311.622985839844, 30805.982299804688, 26174.721771240234, 25399.10171508789, 25004.141693115234, 31147.182556152344, 38980.08303833008, 46906.80307006836, 38897.4231262207, 73665.94470214844, 41898.76268005371, 28414.301971435547, 30718.442108154297, 33424.282623291016, 29007.38198852539, 35497.86260986328, 26408.881866455078, 22494.82162475586, 25690.061798095703, 29631.141998291016, 33327.52235412598, 29645.14239501953, 23936.88168334961, 21959.361694335938, 20401.881622314453, 20398.84147644043, 25416.421936035156, 22382.361602783203, 19609.461395263672, 22338.061492919922, 29575.44204711914, 20122.321487426758, 20873.68148803711, 20475.001525878906, 19687.661422729492, 17986.1212310791, 16909.581176757812, 17760.02130126953, 17154.881271362305, 17369.481216430664, 17000.50129699707, 14471.141006469727, 17327.96128845215, 15586.361099243164, 15192.34105682373, 16057.961143493652, 29432.862243652344, 21032.461456298828, 15778.50112915039, 13972.840942382812, 15361.26107788086, 14665.92106628418, 12983.740997314453, 16507.40118408203, 15164.080978393555, 16115.021049499512, 14670.80093383789, 11676.520835876465, 12641.240867614746, 14229.900955200195, 14026.561004638672, 13990.720977783203, 14917.441131591797, 14691.960952758789, 12988.200942993164, 13342.720916748047, 14266.48112487793, 13126.080932617188, 13007.560943603516, 15978.181114196777, 14954.541114807129, 12710.70083618164, 14045.280990600586, 14086.260986328125, 12927.800796508789, 10637.140739440918, 13033.880912780762, 13134.800857543945, 12264.380752563477, 13273.14094543457, 20100.661331176758, 12335.680953979492, 12561.440925598145, 19396.041259765625, 15101.360977172852, 15476.981079101562, 10396.680717468262, 12281.800918579102, 12049.680938720703, 11546.020881652832, 13140.541000366211, 14803.141014099121, 13260.220840454102, 15204.641082763672, 11739.30093383789, 10289.58073425293, 11749.400787353516, 12457.700866699219, 11174.560779571533, 12249.820945739746], \"yaxis\": \"y\"}, {\"alignmentgroup\": \"True\", \"customdata\": [[\"STD_15:0-18:1(d7)-15:0 TAG\", \"STD_15:0-18:1(d7)-15:0 TAG\"]], \"hovertemplate\": \"Class=%{customdata[1]}<br>Intensity=%{y}<br>Lipid=%{customdata[0]}<extra></extra>\", \"legendgroup\": \"STD_15:0-18:1(d7)-15:0 TAG\", \"marker\": {\"color\": \"#EF553B\"}, \"name\": \"STD_15:0-18:1(d7)-15:0 TAG\", \"offsetgroup\": \"STD_15:0-18:1(d7)-15:0 TAG\", \"orientation\": \"v\", \"showlegend\": true, \"textposition\": \"auto\", \"type\": \"bar\", \"x\": [\"STD_15:0-18:1(d7)-15:0 TAG\"], \"xaxis\": \"x\", \"y\": [33835.302642822266], \"yaxis\": \"y\"}],                        {\"barmode\": \"relative\", \"legend\": {\"title\": {\"text\": \"Class\"}, \"tracegroupgap\": 0}, \"margin\": {\"t\": 60}, \"template\": {\"data\": {\"bar\": [{\"error_x\": {\"color\": \"#2a3f5f\"}, \"error_y\": {\"color\": \"#2a3f5f\"}, \"marker\": {\"line\": {\"color\": \"#E5ECF6\", \"width\": 0.5}}, \"type\": \"bar\"}], \"barpolar\": [{\"marker\": {\"line\": {\"color\": \"#E5ECF6\", \"width\": 0.5}}, \"type\": \"barpolar\"}], \"carpet\": [{\"aaxis\": {\"endlinecolor\": \"#2a3f5f\", \"gridcolor\": \"white\", \"linecolor\": \"white\", \"minorgridcolor\": \"white\", \"startlinecolor\": \"#2a3f5f\"}, \"baxis\": {\"endlinecolor\": \"#2a3f5f\", \"gridcolor\": \"white\", \"linecolor\": \"white\", \"minorgridcolor\": \"white\", \"startlinecolor\": \"#2a3f5f\"}, \"type\": \"carpet\"}], \"choropleth\": [{\"colorbar\": {\"outlinewidth\": 0, \"ticks\": \"\"}, \"type\": \"choropleth\"}], \"contour\": [{\"colorbar\": {\"outlinewidth\": 0, \"ticks\": \"\"}, \"colorscale\": [[0.0, \"#0d0887\"], [0.1111111111111111, \"#46039f\"], [0.2222222222222222, \"#7201a8\"], [0.3333333333333333, \"#9c179e\"], [0.4444444444444444, \"#bd3786\"], [0.5555555555555556, \"#d8576b\"], [0.6666666666666666, \"#ed7953\"], [0.7777777777777778, \"#fb9f3a\"], [0.8888888888888888, \"#fdca26\"], [1.0, \"#f0f921\"]], \"type\": \"contour\"}], \"contourcarpet\": [{\"colorbar\": {\"outlinewidth\": 0, \"ticks\": \"\"}, \"type\": \"contourcarpet\"}], \"heatmap\": [{\"colorbar\": {\"outlinewidth\": 0, \"ticks\": \"\"}, \"colorscale\": [[0.0, \"#0d0887\"], [0.1111111111111111, \"#46039f\"], [0.2222222222222222, \"#7201a8\"], [0.3333333333333333, \"#9c179e\"], [0.4444444444444444, \"#bd3786\"], [0.5555555555555556, \"#d8576b\"], [0.6666666666666666, \"#ed7953\"], [0.7777777777777778, \"#fb9f3a\"], [0.8888888888888888, \"#fdca26\"], [1.0, \"#f0f921\"]], \"type\": \"heatmap\"}], \"heatmapgl\": [{\"colorbar\": {\"outlinewidth\": 0, \"ticks\": \"\"}, \"colorscale\": [[0.0, \"#0d0887\"], [0.1111111111111111, \"#46039f\"], [0.2222222222222222, \"#7201a8\"], [0.3333333333333333, \"#9c179e\"], [0.4444444444444444, \"#bd3786\"], [0.5555555555555556, \"#d8576b\"], [0.6666666666666666, \"#ed7953\"], [0.7777777777777778, \"#fb9f3a\"], [0.8888888888888888, \"#fdca26\"], [1.0, \"#f0f921\"]], \"type\": \"heatmapgl\"}], \"histogram\": [{\"marker\": {\"colorbar\": {\"outlinewidth\": 0, \"ticks\": \"\"}}, \"type\": \"histogram\"}], \"histogram2d\": [{\"colorbar\": {\"outlinewidth\": 0, \"ticks\": \"\"}, \"colorscale\": [[0.0, \"#0d0887\"], [0.1111111111111111, \"#46039f\"], [0.2222222222222222, \"#7201a8\"], [0.3333333333333333, \"#9c179e\"], [0.4444444444444444, \"#bd3786\"], [0.5555555555555556, \"#d8576b\"], [0.6666666666666666, \"#ed7953\"], [0.7777777777777778, \"#fb9f3a\"], [0.8888888888888888, \"#fdca26\"], [1.0, \"#f0f921\"]], \"type\": \"histogram2d\"}], \"histogram2dcontour\": [{\"colorbar\": {\"outlinewidth\": 0, \"ticks\": \"\"}, \"colorscale\": [[0.0, \"#0d0887\"], [0.1111111111111111, \"#46039f\"], [0.2222222222222222, \"#7201a8\"], [0.3333333333333333, \"#9c179e\"], [0.4444444444444444, \"#bd3786\"], [0.5555555555555556, \"#d8576b\"], [0.6666666666666666, \"#ed7953\"], [0.7777777777777778, \"#fb9f3a\"], [0.8888888888888888, \"#fdca26\"], [1.0, \"#f0f921\"]], \"type\": \"histogram2dcontour\"}], \"mesh3d\": [{\"colorbar\": {\"outlinewidth\": 0, \"ticks\": \"\"}, \"type\": \"mesh3d\"}], \"parcoords\": [{\"line\": {\"colorbar\": {\"outlinewidth\": 0, \"ticks\": \"\"}}, \"type\": \"parcoords\"}], \"pie\": [{\"automargin\": true, \"type\": \"pie\"}], \"scatter\": [{\"marker\": {\"colorbar\": {\"outlinewidth\": 0, \"ticks\": \"\"}}, \"type\": \"scatter\"}], \"scatter3d\": [{\"line\": {\"colorbar\": {\"outlinewidth\": 0, \"ticks\": \"\"}}, \"marker\": {\"colorbar\": {\"outlinewidth\": 0, \"ticks\": \"\"}}, \"type\": \"scatter3d\"}], \"scattercarpet\": [{\"marker\": {\"colorbar\": {\"outlinewidth\": 0, \"ticks\": \"\"}}, \"type\": \"scattercarpet\"}], \"scattergeo\": [{\"marker\": {\"colorbar\": {\"outlinewidth\": 0, \"ticks\": \"\"}}, \"type\": \"scattergeo\"}], \"scattergl\": [{\"marker\": {\"colorbar\": {\"outlinewidth\": 0, \"ticks\": \"\"}}, \"type\": \"scattergl\"}], \"scattermapbox\": [{\"marker\": {\"colorbar\": {\"outlinewidth\": 0, \"ticks\": \"\"}}, \"type\": \"scattermapbox\"}], \"scatterpolar\": [{\"marker\": {\"colorbar\": {\"outlinewidth\": 0, \"ticks\": \"\"}}, \"type\": \"scatterpolar\"}], \"scatterpolargl\": [{\"marker\": {\"colorbar\": {\"outlinewidth\": 0, \"ticks\": \"\"}}, \"type\": \"scatterpolargl\"}], \"scatterternary\": [{\"marker\": {\"colorbar\": {\"outlinewidth\": 0, \"ticks\": \"\"}}, \"type\": \"scatterternary\"}], \"surface\": [{\"colorbar\": {\"outlinewidth\": 0, \"ticks\": \"\"}, \"colorscale\": [[0.0, \"#0d0887\"], [0.1111111111111111, \"#46039f\"], [0.2222222222222222, \"#7201a8\"], [0.3333333333333333, \"#9c179e\"], [0.4444444444444444, \"#bd3786\"], [0.5555555555555556, \"#d8576b\"], [0.6666666666666666, \"#ed7953\"], [0.7777777777777778, \"#fb9f3a\"], [0.8888888888888888, \"#fdca26\"], [1.0, \"#f0f921\"]], \"type\": \"surface\"}], \"table\": [{\"cells\": {\"fill\": {\"color\": \"#EBF0F8\"}, \"line\": {\"color\": \"white\"}}, \"header\": {\"fill\": {\"color\": \"#C8D4E3\"}, \"line\": {\"color\": \"white\"}}, \"type\": \"table\"}]}, \"layout\": {\"annotationdefaults\": {\"arrowcolor\": \"#2a3f5f\", \"arrowhead\": 0, \"arrowwidth\": 1}, \"coloraxis\": {\"colorbar\": {\"outlinewidth\": 0, \"ticks\": \"\"}}, \"colorscale\": {\"diverging\": [[0, \"#8e0152\"], [0.1, \"#c51b7d\"], [0.2, \"#de77ae\"], [0.3, \"#f1b6da\"], [0.4, \"#fde0ef\"], [0.5, \"#f7f7f7\"], [0.6, \"#e6f5d0\"], [0.7, \"#b8e186\"], [0.8, \"#7fbc41\"], [0.9, \"#4d9221\"], [1, \"#276419\"]], \"sequential\": [[0.0, \"#0d0887\"], [0.1111111111111111, \"#46039f\"], [0.2222222222222222, \"#7201a8\"], [0.3333333333333333, \"#9c179e\"], [0.4444444444444444, \"#bd3786\"], [0.5555555555555556, \"#d8576b\"], [0.6666666666666666, \"#ed7953\"], [0.7777777777777778, \"#fb9f3a\"], [0.8888888888888888, \"#fdca26\"], [1.0, \"#f0f921\"]], \"sequentialminus\": [[0.0, \"#0d0887\"], [0.1111111111111111, \"#46039f\"], [0.2222222222222222, \"#7201a8\"], [0.3333333333333333, \"#9c179e\"], [0.4444444444444444, \"#bd3786\"], [0.5555555555555556, \"#d8576b\"], [0.6666666666666666, \"#ed7953\"], [0.7777777777777778, \"#fb9f3a\"], [0.8888888888888888, \"#fdca26\"], [1.0, \"#f0f921\"]]}, \"colorway\": [\"#636efa\", \"#EF553B\", \"#00cc96\", \"#ab63fa\", \"#FFA15A\", \"#19d3f3\", \"#FF6692\", \"#B6E880\", \"#FF97FF\", \"#FECB52\"], \"font\": {\"color\": \"#2a3f5f\"}, \"geo\": {\"bgcolor\": \"white\", \"lakecolor\": \"white\", \"landcolor\": \"#E5ECF6\", \"showlakes\": true, \"showland\": true, \"subunitcolor\": \"white\"}, \"hoverlabel\": {\"align\": \"left\"}, \"hovermode\": \"closest\", \"mapbox\": {\"style\": \"light\"}, \"paper_bgcolor\": \"white\", \"plot_bgcolor\": \"#E5ECF6\", \"polar\": {\"angularaxis\": {\"gridcolor\": \"white\", \"linecolor\": \"white\", \"ticks\": \"\"}, \"bgcolor\": \"#E5ECF6\", \"radialaxis\": {\"gridcolor\": \"white\", \"linecolor\": \"white\", \"ticks\": \"\"}}, \"scene\": {\"xaxis\": {\"backgroundcolor\": \"#E5ECF6\", \"gridcolor\": \"white\", \"gridwidth\": 2, \"linecolor\": \"white\", \"showbackground\": true, \"ticks\": \"\", \"zerolinecolor\": \"white\"}, \"yaxis\": {\"backgroundcolor\": \"#E5ECF6\", \"gridcolor\": \"white\", \"gridwidth\": 2, \"linecolor\": \"white\", \"showbackground\": true, \"ticks\": \"\", \"zerolinecolor\": \"white\"}, \"zaxis\": {\"backgroundcolor\": \"#E5ECF6\", \"gridcolor\": \"white\", \"gridwidth\": 2, \"linecolor\": \"white\", \"showbackground\": true, \"ticks\": \"\", \"zerolinecolor\": \"white\"}}, \"shapedefaults\": {\"line\": {\"color\": \"#2a3f5f\"}}, \"ternary\": {\"aaxis\": {\"gridcolor\": \"white\", \"linecolor\": \"white\", \"ticks\": \"\"}, \"baxis\": {\"gridcolor\": \"white\", \"linecolor\": \"white\", \"ticks\": \"\"}, \"bgcolor\": \"#E5ECF6\", \"caxis\": {\"gridcolor\": \"white\", \"linecolor\": \"white\", \"ticks\": \"\"}}, \"title\": {\"x\": 0.05}, \"xaxis\": {\"automargin\": true, \"gridcolor\": \"white\", \"linecolor\": \"white\", \"ticks\": \"\", \"title\": {\"standoff\": 15}, \"zerolinecolor\": \"white\", \"zerolinewidth\": 2}, \"yaxis\": {\"automargin\": true, \"gridcolor\": \"white\", \"linecolor\": \"white\", \"ticks\": \"\", \"title\": {\"standoff\": 15}, \"zerolinecolor\": \"white\", \"zerolinewidth\": 2}}}, \"xaxis\": {\"anchor\": \"y\", \"categoryarray\": [\"TAG\", \"STD_15:0-18:1(d7)-15:0 TAG\"], \"categoryorder\": \"array\", \"domain\": [0.0, 1.0], \"title\": {\"text\": \"Class\"}}, \"yaxis\": {\"anchor\": \"x\", \"domain\": [0.0, 1.0], \"title\": {\"text\": \"Intensity\"}}},                        {\"responsive\": true}                    ).then(function(){\n",
       "                            \n",
       "var gd = document.getElementById('c19b4ed5-0ffc-473d-8c25-2240ebd32810');\n",
       "var x = new MutationObserver(function (mutations, observer) {{\n",
       "        var display = window.getComputedStyle(gd).display;\n",
       "        if (!display || display === 'none') {{\n",
       "            console.log([gd, 'removed!']);\n",
       "            Plotly.purge(gd);\n",
       "            observer.disconnect();\n",
       "        }}\n",
       "}});\n",
       "\n",
       "// Listen for the removal of the full notebook cells\n",
       "var notebookContainer = gd.closest('#notebook-container');\n",
       "if (notebookContainer) {{\n",
       "    x.observe(notebookContainer, {childList: true});\n",
       "}}\n",
       "\n",
       "// Listen for the clearing of the current output cell\n",
       "var outputEl = gd.closest('.output');\n",
       "if (outputEl) {{\n",
       "    x.observe(outputEl, {childList: true});\n",
       "}}\n",
       "\n",
       "                        })                };                });            </script>        </div>"
      ]
     },
     "metadata": {},
     "output_type": "display_data"
    },
    {
     "data": {
      "application/vnd.plotly.v1+json": {
       "config": {
        "plotlyServerURL": "https://plot.ly"
       },
       "data": [
        {
         "domain": {
          "x": [
           0,
           1
          ],
          "y": [
           0,
           1
          ]
         },
         "hovertemplate": "Class=%{label}<br>Intensity=%{value}<extra></extra>",
         "labels": [
          "TAG",
          "TAG",
          "TAG",
          "TAG",
          "TAG",
          "TAG",
          "TAG",
          "TAG",
          "TAG",
          "TAG",
          "TAG",
          "TAG",
          "TAG",
          "TAG",
          "TAG",
          "TAG",
          "TAG",
          "TAG",
          "TAG",
          "TAG",
          "TAG",
          "TAG",
          "TAG",
          "TAG",
          "TAG",
          "TAG",
          "TAG",
          "TAG",
          "TAG",
          "TAG",
          "TAG",
          "TAG",
          "TAG",
          "TAG",
          "TAG",
          "TAG",
          "TAG",
          "TAG",
          "TAG",
          "TAG",
          "TAG",
          "TAG",
          "TAG",
          "TAG",
          "TAG",
          "TAG",
          "TAG",
          "TAG",
          "TAG",
          "TAG",
          "TAG",
          "TAG",
          "TAG",
          "TAG",
          "TAG",
          "TAG",
          "STD_15:0-18:1(d7)-15:0 TAG",
          "TAG",
          "TAG",
          "TAG",
          "TAG",
          "TAG",
          "TAG",
          "TAG",
          "TAG",
          "TAG",
          "TAG",
          "TAG",
          "TAG",
          "TAG",
          "TAG",
          "TAG",
          "TAG",
          "TAG",
          "TAG",
          "TAG",
          "TAG",
          "TAG",
          "TAG",
          "TAG",
          "TAG",
          "TAG",
          "TAG",
          "TAG",
          "TAG",
          "TAG",
          "TAG",
          "TAG",
          "TAG",
          "TAG",
          "TAG",
          "TAG",
          "TAG",
          "TAG",
          "TAG",
          "TAG",
          "TAG",
          "TAG",
          "TAG",
          "TAG",
          "TAG",
          "TAG",
          "TAG",
          "TAG",
          "TAG",
          "TAG",
          "TAG",
          "TAG",
          "TAG",
          "TAG",
          "TAG",
          "TAG",
          "TAG",
          "TAG",
          "TAG",
          "TAG",
          "TAG",
          "TAG",
          "TAG",
          "TAG",
          "TAG",
          "TAG",
          "TAG",
          "TAG",
          "TAG",
          "TAG",
          "TAG",
          "TAG",
          "TAG",
          "TAG",
          "TAG",
          "TAG",
          "TAG",
          "TAG",
          "TAG",
          "TAG",
          "TAG",
          "TAG",
          "TAG",
          "TAG",
          "TAG",
          "TAG",
          "TAG",
          "TAG",
          "TAG",
          "TAG",
          "TAG",
          "TAG",
          "TAG",
          "TAG",
          "TAG",
          "TAG",
          "TAG",
          "TAG",
          "TAG",
          "TAG",
          "TAG",
          "TAG",
          "TAG",
          "TAG",
          "TAG",
          "TAG",
          "TAG",
          "TAG",
          "TAG",
          "TAG",
          "TAG",
          "TAG",
          "TAG",
          "TAG",
          "TAG",
          "TAG",
          "TAG",
          "TAG",
          "TAG",
          "TAG",
          "TAG",
          "TAG",
          "TAG",
          "TAG",
          "TAG"
         ],
         "legendgroup": "",
         "name": "",
         "showlegend": true,
         "type": "pie",
         "values": [
          45072.822998046875,
          64211.844482421875,
          237300.73681640625,
          27744.182037353516,
          37315.48260498047,
          24415.261688232422,
          34708.20263671875,
          155327.89086914062,
          20373.861602783203,
          19893.661392211914,
          26466.401824951172,
          15374.68115234375,
          19889.30142211914,
          17753.80108642578,
          131865.6494140625,
          94824.94689941406,
          16791.481231689453,
          63030.504150390625,
          26622.84196472168,
          28583.40203857422,
          29018.08203125,
          17620.081260681152,
          15765.661041259766,
          18071.14141845703,
          39169.32312011719,
          31882.602020263672,
          72722.04577636719,
          18579.66111755371,
          21398.161346435547,
          18318.621307373047,
          16532.841232299805,
          70729.62463378906,
          46782.86340332031,
          20436.341217041016,
          20286.141387939453,
          18562.861236572266,
          20631.881439208984,
          44036.763610839844,
          68736.06512451172,
          84029.40625,
          26131.921813964844,
          20985.38151550293,
          18959.501403808594,
          21987.14175415039,
          24136.061737060547,
          31395.762451171875,
          35014.362396240234,
          51366.403381347656,
          25303.261779785156,
          23539.601623535156,
          82808.48538208008,
          286373.7007446289,
          333579.6123046875,
          80859.20629882812,
          29734.44223022461,
          22083.261352539062,
          33835.302642822266,
          22096.821563720703,
          26063.061752319336,
          29320.561981201172,
          37507.4225769043,
          34488.222259521484,
          29315.282165527344,
          35932.222259521484,
          126118.92807006836,
          432169.33502197266,
          501185.328125,
          86953.32531738281,
          36228.10238647461,
          49931.743591308594,
          23814.681854248047,
          23092.781524658203,
          28172.081909179688,
          41892.44287109375,
          46549.702728271484,
          34083.9026184082,
          40384.46292114258,
          44110.603759765625,
          42770.922912597656,
          53848.18371582031,
          56664.44418334961,
          47311.622985839844,
          30805.982299804688,
          26174.721771240234,
          25399.10171508789,
          25004.141693115234,
          31147.182556152344,
          38980.08303833008,
          46906.80307006836,
          38897.4231262207,
          73665.94470214844,
          41898.76268005371,
          28414.301971435547,
          30718.442108154297,
          33424.282623291016,
          29007.38198852539,
          35497.86260986328,
          26408.881866455078,
          22494.82162475586,
          25690.061798095703,
          29631.141998291016,
          33327.52235412598,
          29645.14239501953,
          23936.88168334961,
          21959.361694335938,
          20401.881622314453,
          20398.84147644043,
          25416.421936035156,
          22382.361602783203,
          19609.461395263672,
          22338.061492919922,
          29575.44204711914,
          20122.321487426758,
          20873.68148803711,
          20475.001525878906,
          19687.661422729492,
          17986.1212310791,
          16909.581176757812,
          17760.02130126953,
          17154.881271362305,
          17369.481216430664,
          17000.50129699707,
          14471.141006469727,
          17327.96128845215,
          15586.361099243164,
          15192.34105682373,
          16057.961143493652,
          29432.862243652344,
          21032.461456298828,
          15778.50112915039,
          13972.840942382812,
          15361.26107788086,
          14665.92106628418,
          12983.740997314453,
          16507.40118408203,
          15164.080978393555,
          16115.021049499512,
          14670.80093383789,
          11676.520835876465,
          12641.240867614746,
          14229.900955200195,
          14026.561004638672,
          13990.720977783203,
          14917.441131591797,
          14691.960952758789,
          12988.200942993164,
          13342.720916748047,
          14266.48112487793,
          13126.080932617188,
          13007.560943603516,
          15978.181114196777,
          14954.541114807129,
          12710.70083618164,
          14045.280990600586,
          14086.260986328125,
          12927.800796508789,
          10637.140739440918,
          13033.880912780762,
          13134.800857543945,
          12264.380752563477,
          13273.14094543457,
          20100.661331176758,
          12335.680953979492,
          12561.440925598145,
          19396.041259765625,
          15101.360977172852,
          15476.981079101562,
          10396.680717468262,
          12281.800918579102,
          12049.680938720703,
          11546.020881652832,
          13140.541000366211,
          14803.141014099121,
          13260.220840454102,
          15204.641082763672,
          11739.30093383789,
          10289.58073425293,
          11749.400787353516,
          12457.700866699219,
          11174.560779571533,
          12249.820945739746
         ]
        }
       ],
       "layout": {
        "legend": {
         "tracegroupgap": 0
        },
        "template": {
         "data": {
          "bar": [
           {
            "error_x": {
             "color": "#2a3f5f"
            },
            "error_y": {
             "color": "#2a3f5f"
            },
            "marker": {
             "line": {
              "color": "#E5ECF6",
              "width": 0.5
             }
            },
            "type": "bar"
           }
          ],
          "barpolar": [
           {
            "marker": {
             "line": {
              "color": "#E5ECF6",
              "width": 0.5
             }
            },
            "type": "barpolar"
           }
          ],
          "carpet": [
           {
            "aaxis": {
             "endlinecolor": "#2a3f5f",
             "gridcolor": "white",
             "linecolor": "white",
             "minorgridcolor": "white",
             "startlinecolor": "#2a3f5f"
            },
            "baxis": {
             "endlinecolor": "#2a3f5f",
             "gridcolor": "white",
             "linecolor": "white",
             "minorgridcolor": "white",
             "startlinecolor": "#2a3f5f"
            },
            "type": "carpet"
           }
          ],
          "choropleth": [
           {
            "colorbar": {
             "outlinewidth": 0,
             "ticks": ""
            },
            "type": "choropleth"
           }
          ],
          "contour": [
           {
            "colorbar": {
             "outlinewidth": 0,
             "ticks": ""
            },
            "colorscale": [
             [
              0,
              "#0d0887"
             ],
             [
              0.1111111111111111,
              "#46039f"
             ],
             [
              0.2222222222222222,
              "#7201a8"
             ],
             [
              0.3333333333333333,
              "#9c179e"
             ],
             [
              0.4444444444444444,
              "#bd3786"
             ],
             [
              0.5555555555555556,
              "#d8576b"
             ],
             [
              0.6666666666666666,
              "#ed7953"
             ],
             [
              0.7777777777777778,
              "#fb9f3a"
             ],
             [
              0.8888888888888888,
              "#fdca26"
             ],
             [
              1,
              "#f0f921"
             ]
            ],
            "type": "contour"
           }
          ],
          "contourcarpet": [
           {
            "colorbar": {
             "outlinewidth": 0,
             "ticks": ""
            },
            "type": "contourcarpet"
           }
          ],
          "heatmap": [
           {
            "colorbar": {
             "outlinewidth": 0,
             "ticks": ""
            },
            "colorscale": [
             [
              0,
              "#0d0887"
             ],
             [
              0.1111111111111111,
              "#46039f"
             ],
             [
              0.2222222222222222,
              "#7201a8"
             ],
             [
              0.3333333333333333,
              "#9c179e"
             ],
             [
              0.4444444444444444,
              "#bd3786"
             ],
             [
              0.5555555555555556,
              "#d8576b"
             ],
             [
              0.6666666666666666,
              "#ed7953"
             ],
             [
              0.7777777777777778,
              "#fb9f3a"
             ],
             [
              0.8888888888888888,
              "#fdca26"
             ],
             [
              1,
              "#f0f921"
             ]
            ],
            "type": "heatmap"
           }
          ],
          "heatmapgl": [
           {
            "colorbar": {
             "outlinewidth": 0,
             "ticks": ""
            },
            "colorscale": [
             [
              0,
              "#0d0887"
             ],
             [
              0.1111111111111111,
              "#46039f"
             ],
             [
              0.2222222222222222,
              "#7201a8"
             ],
             [
              0.3333333333333333,
              "#9c179e"
             ],
             [
              0.4444444444444444,
              "#bd3786"
             ],
             [
              0.5555555555555556,
              "#d8576b"
             ],
             [
              0.6666666666666666,
              "#ed7953"
             ],
             [
              0.7777777777777778,
              "#fb9f3a"
             ],
             [
              0.8888888888888888,
              "#fdca26"
             ],
             [
              1,
              "#f0f921"
             ]
            ],
            "type": "heatmapgl"
           }
          ],
          "histogram": [
           {
            "marker": {
             "colorbar": {
              "outlinewidth": 0,
              "ticks": ""
             }
            },
            "type": "histogram"
           }
          ],
          "histogram2d": [
           {
            "colorbar": {
             "outlinewidth": 0,
             "ticks": ""
            },
            "colorscale": [
             [
              0,
              "#0d0887"
             ],
             [
              0.1111111111111111,
              "#46039f"
             ],
             [
              0.2222222222222222,
              "#7201a8"
             ],
             [
              0.3333333333333333,
              "#9c179e"
             ],
             [
              0.4444444444444444,
              "#bd3786"
             ],
             [
              0.5555555555555556,
              "#d8576b"
             ],
             [
              0.6666666666666666,
              "#ed7953"
             ],
             [
              0.7777777777777778,
              "#fb9f3a"
             ],
             [
              0.8888888888888888,
              "#fdca26"
             ],
             [
              1,
              "#f0f921"
             ]
            ],
            "type": "histogram2d"
           }
          ],
          "histogram2dcontour": [
           {
            "colorbar": {
             "outlinewidth": 0,
             "ticks": ""
            },
            "colorscale": [
             [
              0,
              "#0d0887"
             ],
             [
              0.1111111111111111,
              "#46039f"
             ],
             [
              0.2222222222222222,
              "#7201a8"
             ],
             [
              0.3333333333333333,
              "#9c179e"
             ],
             [
              0.4444444444444444,
              "#bd3786"
             ],
             [
              0.5555555555555556,
              "#d8576b"
             ],
             [
              0.6666666666666666,
              "#ed7953"
             ],
             [
              0.7777777777777778,
              "#fb9f3a"
             ],
             [
              0.8888888888888888,
              "#fdca26"
             ],
             [
              1,
              "#f0f921"
             ]
            ],
            "type": "histogram2dcontour"
           }
          ],
          "mesh3d": [
           {
            "colorbar": {
             "outlinewidth": 0,
             "ticks": ""
            },
            "type": "mesh3d"
           }
          ],
          "parcoords": [
           {
            "line": {
             "colorbar": {
              "outlinewidth": 0,
              "ticks": ""
             }
            },
            "type": "parcoords"
           }
          ],
          "pie": [
           {
            "automargin": true,
            "type": "pie"
           }
          ],
          "scatter": [
           {
            "marker": {
             "colorbar": {
              "outlinewidth": 0,
              "ticks": ""
             }
            },
            "type": "scatter"
           }
          ],
          "scatter3d": [
           {
            "line": {
             "colorbar": {
              "outlinewidth": 0,
              "ticks": ""
             }
            },
            "marker": {
             "colorbar": {
              "outlinewidth": 0,
              "ticks": ""
             }
            },
            "type": "scatter3d"
           }
          ],
          "scattercarpet": [
           {
            "marker": {
             "colorbar": {
              "outlinewidth": 0,
              "ticks": ""
             }
            },
            "type": "scattercarpet"
           }
          ],
          "scattergeo": [
           {
            "marker": {
             "colorbar": {
              "outlinewidth": 0,
              "ticks": ""
             }
            },
            "type": "scattergeo"
           }
          ],
          "scattergl": [
           {
            "marker": {
             "colorbar": {
              "outlinewidth": 0,
              "ticks": ""
             }
            },
            "type": "scattergl"
           }
          ],
          "scattermapbox": [
           {
            "marker": {
             "colorbar": {
              "outlinewidth": 0,
              "ticks": ""
             }
            },
            "type": "scattermapbox"
           }
          ],
          "scatterpolar": [
           {
            "marker": {
             "colorbar": {
              "outlinewidth": 0,
              "ticks": ""
             }
            },
            "type": "scatterpolar"
           }
          ],
          "scatterpolargl": [
           {
            "marker": {
             "colorbar": {
              "outlinewidth": 0,
              "ticks": ""
             }
            },
            "type": "scatterpolargl"
           }
          ],
          "scatterternary": [
           {
            "marker": {
             "colorbar": {
              "outlinewidth": 0,
              "ticks": ""
             }
            },
            "type": "scatterternary"
           }
          ],
          "surface": [
           {
            "colorbar": {
             "outlinewidth": 0,
             "ticks": ""
            },
            "colorscale": [
             [
              0,
              "#0d0887"
             ],
             [
              0.1111111111111111,
              "#46039f"
             ],
             [
              0.2222222222222222,
              "#7201a8"
             ],
             [
              0.3333333333333333,
              "#9c179e"
             ],
             [
              0.4444444444444444,
              "#bd3786"
             ],
             [
              0.5555555555555556,
              "#d8576b"
             ],
             [
              0.6666666666666666,
              "#ed7953"
             ],
             [
              0.7777777777777778,
              "#fb9f3a"
             ],
             [
              0.8888888888888888,
              "#fdca26"
             ],
             [
              1,
              "#f0f921"
             ]
            ],
            "type": "surface"
           }
          ],
          "table": [
           {
            "cells": {
             "fill": {
              "color": "#EBF0F8"
             },
             "line": {
              "color": "white"
             }
            },
            "header": {
             "fill": {
              "color": "#C8D4E3"
             },
             "line": {
              "color": "white"
             }
            },
            "type": "table"
           }
          ]
         },
         "layout": {
          "annotationdefaults": {
           "arrowcolor": "#2a3f5f",
           "arrowhead": 0,
           "arrowwidth": 1
          },
          "coloraxis": {
           "colorbar": {
            "outlinewidth": 0,
            "ticks": ""
           }
          },
          "colorscale": {
           "diverging": [
            [
             0,
             "#8e0152"
            ],
            [
             0.1,
             "#c51b7d"
            ],
            [
             0.2,
             "#de77ae"
            ],
            [
             0.3,
             "#f1b6da"
            ],
            [
             0.4,
             "#fde0ef"
            ],
            [
             0.5,
             "#f7f7f7"
            ],
            [
             0.6,
             "#e6f5d0"
            ],
            [
             0.7,
             "#b8e186"
            ],
            [
             0.8,
             "#7fbc41"
            ],
            [
             0.9,
             "#4d9221"
            ],
            [
             1,
             "#276419"
            ]
           ],
           "sequential": [
            [
             0,
             "#0d0887"
            ],
            [
             0.1111111111111111,
             "#46039f"
            ],
            [
             0.2222222222222222,
             "#7201a8"
            ],
            [
             0.3333333333333333,
             "#9c179e"
            ],
            [
             0.4444444444444444,
             "#bd3786"
            ],
            [
             0.5555555555555556,
             "#d8576b"
            ],
            [
             0.6666666666666666,
             "#ed7953"
            ],
            [
             0.7777777777777778,
             "#fb9f3a"
            ],
            [
             0.8888888888888888,
             "#fdca26"
            ],
            [
             1,
             "#f0f921"
            ]
           ],
           "sequentialminus": [
            [
             0,
             "#0d0887"
            ],
            [
             0.1111111111111111,
             "#46039f"
            ],
            [
             0.2222222222222222,
             "#7201a8"
            ],
            [
             0.3333333333333333,
             "#9c179e"
            ],
            [
             0.4444444444444444,
             "#bd3786"
            ],
            [
             0.5555555555555556,
             "#d8576b"
            ],
            [
             0.6666666666666666,
             "#ed7953"
            ],
            [
             0.7777777777777778,
             "#fb9f3a"
            ],
            [
             0.8888888888888888,
             "#fdca26"
            ],
            [
             1,
             "#f0f921"
            ]
           ]
          },
          "colorway": [
           "#636efa",
           "#EF553B",
           "#00cc96",
           "#ab63fa",
           "#FFA15A",
           "#19d3f3",
           "#FF6692",
           "#B6E880",
           "#FF97FF",
           "#FECB52"
          ],
          "font": {
           "color": "#2a3f5f"
          },
          "geo": {
           "bgcolor": "white",
           "lakecolor": "white",
           "landcolor": "#E5ECF6",
           "showlakes": true,
           "showland": true,
           "subunitcolor": "white"
          },
          "hoverlabel": {
           "align": "left"
          },
          "hovermode": "closest",
          "mapbox": {
           "style": "light"
          },
          "paper_bgcolor": "white",
          "plot_bgcolor": "#E5ECF6",
          "polar": {
           "angularaxis": {
            "gridcolor": "white",
            "linecolor": "white",
            "ticks": ""
           },
           "bgcolor": "#E5ECF6",
           "radialaxis": {
            "gridcolor": "white",
            "linecolor": "white",
            "ticks": ""
           }
          },
          "scene": {
           "xaxis": {
            "backgroundcolor": "#E5ECF6",
            "gridcolor": "white",
            "gridwidth": 2,
            "linecolor": "white",
            "showbackground": true,
            "ticks": "",
            "zerolinecolor": "white"
           },
           "yaxis": {
            "backgroundcolor": "#E5ECF6",
            "gridcolor": "white",
            "gridwidth": 2,
            "linecolor": "white",
            "showbackground": true,
            "ticks": "",
            "zerolinecolor": "white"
           },
           "zaxis": {
            "backgroundcolor": "#E5ECF6",
            "gridcolor": "white",
            "gridwidth": 2,
            "linecolor": "white",
            "showbackground": true,
            "ticks": "",
            "zerolinecolor": "white"
           }
          },
          "shapedefaults": {
           "line": {
            "color": "#2a3f5f"
           }
          },
          "ternary": {
           "aaxis": {
            "gridcolor": "white",
            "linecolor": "white",
            "ticks": ""
           },
           "baxis": {
            "gridcolor": "white",
            "linecolor": "white",
            "ticks": ""
           },
           "bgcolor": "#E5ECF6",
           "caxis": {
            "gridcolor": "white",
            "linecolor": "white",
            "ticks": ""
           }
          },
          "title": {
           "x": 0.05
          },
          "xaxis": {
           "automargin": true,
           "gridcolor": "white",
           "linecolor": "white",
           "ticks": "",
           "title": {
            "standoff": 15
           },
           "zerolinecolor": "white",
           "zerolinewidth": 2
          },
          "yaxis": {
           "automargin": true,
           "gridcolor": "white",
           "linecolor": "white",
           "ticks": "",
           "title": {
            "standoff": 15
           },
           "zerolinecolor": "white",
           "zerolinewidth": 2
          }
         }
        },
        "title": {
         "text": "Lipid Class"
        }
       }
      },
      "text/html": [
       "<div>                            <div id=\"7f0a9241-a460-41ec-b19d-81e6a49d218f\" class=\"plotly-graph-div\" style=\"height:525px; width:100%;\"></div>            <script type=\"text/javascript\">                require([\"plotly\"], function(Plotly) {                    window.PLOTLYENV=window.PLOTLYENV || {};                                    if (document.getElementById(\"7f0a9241-a460-41ec-b19d-81e6a49d218f\")) {                    Plotly.newPlot(                        \"7f0a9241-a460-41ec-b19d-81e6a49d218f\",                        [{\"domain\": {\"x\": [0.0, 1.0], \"y\": [0.0, 1.0]}, \"hovertemplate\": \"Class=%{label}<br>Intensity=%{value}<extra></extra>\", \"labels\": [\"TAG\", \"TAG\", \"TAG\", \"TAG\", \"TAG\", \"TAG\", \"TAG\", \"TAG\", \"TAG\", \"TAG\", \"TAG\", \"TAG\", \"TAG\", \"TAG\", \"TAG\", \"TAG\", \"TAG\", \"TAG\", \"TAG\", \"TAG\", \"TAG\", \"TAG\", \"TAG\", \"TAG\", \"TAG\", \"TAG\", \"TAG\", \"TAG\", \"TAG\", \"TAG\", \"TAG\", \"TAG\", \"TAG\", \"TAG\", \"TAG\", \"TAG\", \"TAG\", \"TAG\", \"TAG\", \"TAG\", \"TAG\", \"TAG\", \"TAG\", \"TAG\", \"TAG\", \"TAG\", \"TAG\", \"TAG\", \"TAG\", \"TAG\", \"TAG\", \"TAG\", \"TAG\", \"TAG\", \"TAG\", \"TAG\", \"STD_15:0-18:1(d7)-15:0 TAG\", \"TAG\", \"TAG\", \"TAG\", \"TAG\", \"TAG\", \"TAG\", \"TAG\", \"TAG\", \"TAG\", \"TAG\", \"TAG\", \"TAG\", \"TAG\", \"TAG\", \"TAG\", \"TAG\", \"TAG\", \"TAG\", \"TAG\", \"TAG\", \"TAG\", \"TAG\", \"TAG\", \"TAG\", \"TAG\", \"TAG\", \"TAG\", \"TAG\", \"TAG\", \"TAG\", \"TAG\", \"TAG\", \"TAG\", \"TAG\", \"TAG\", \"TAG\", \"TAG\", \"TAG\", \"TAG\", \"TAG\", \"TAG\", \"TAG\", \"TAG\", \"TAG\", \"TAG\", \"TAG\", \"TAG\", \"TAG\", \"TAG\", \"TAG\", \"TAG\", \"TAG\", \"TAG\", \"TAG\", \"TAG\", \"TAG\", \"TAG\", \"TAG\", \"TAG\", \"TAG\", \"TAG\", \"TAG\", \"TAG\", \"TAG\", \"TAG\", \"TAG\", \"TAG\", \"TAG\", \"TAG\", \"TAG\", \"TAG\", \"TAG\", \"TAG\", \"TAG\", \"TAG\", \"TAG\", \"TAG\", \"TAG\", \"TAG\", \"TAG\", \"TAG\", \"TAG\", \"TAG\", \"TAG\", \"TAG\", \"TAG\", \"TAG\", \"TAG\", \"TAG\", \"TAG\", \"TAG\", \"TAG\", \"TAG\", \"TAG\", \"TAG\", \"TAG\", \"TAG\", \"TAG\", \"TAG\", \"TAG\", \"TAG\", \"TAG\", \"TAG\", \"TAG\", \"TAG\", \"TAG\", \"TAG\", \"TAG\", \"TAG\", \"TAG\", \"TAG\", \"TAG\", \"TAG\", \"TAG\", \"TAG\", \"TAG\", \"TAG\", \"TAG\", \"TAG\", \"TAG\", \"TAG\", \"TAG\", \"TAG\", \"TAG\"], \"legendgroup\": \"\", \"name\": \"\", \"showlegend\": true, \"type\": \"pie\", \"values\": [45072.822998046875, 64211.844482421875, 237300.73681640625, 27744.182037353516, 37315.48260498047, 24415.261688232422, 34708.20263671875, 155327.89086914062, 20373.861602783203, 19893.661392211914, 26466.401824951172, 15374.68115234375, 19889.30142211914, 17753.80108642578, 131865.6494140625, 94824.94689941406, 16791.481231689453, 63030.504150390625, 26622.84196472168, 28583.40203857422, 29018.08203125, 17620.081260681152, 15765.661041259766, 18071.14141845703, 39169.32312011719, 31882.602020263672, 72722.04577636719, 18579.66111755371, 21398.161346435547, 18318.621307373047, 16532.841232299805, 70729.62463378906, 46782.86340332031, 20436.341217041016, 20286.141387939453, 18562.861236572266, 20631.881439208984, 44036.763610839844, 68736.06512451172, 84029.40625, 26131.921813964844, 20985.38151550293, 18959.501403808594, 21987.14175415039, 24136.061737060547, 31395.762451171875, 35014.362396240234, 51366.403381347656, 25303.261779785156, 23539.601623535156, 82808.48538208008, 286373.7007446289, 333579.6123046875, 80859.20629882812, 29734.44223022461, 22083.261352539062, 33835.302642822266, 22096.821563720703, 26063.061752319336, 29320.561981201172, 37507.4225769043, 34488.222259521484, 29315.282165527344, 35932.222259521484, 126118.92807006836, 432169.33502197266, 501185.328125, 86953.32531738281, 36228.10238647461, 49931.743591308594, 23814.681854248047, 23092.781524658203, 28172.081909179688, 41892.44287109375, 46549.702728271484, 34083.9026184082, 40384.46292114258, 44110.603759765625, 42770.922912597656, 53848.18371582031, 56664.44418334961, 47311.622985839844, 30805.982299804688, 26174.721771240234, 25399.10171508789, 25004.141693115234, 31147.182556152344, 38980.08303833008, 46906.80307006836, 38897.4231262207, 73665.94470214844, 41898.76268005371, 28414.301971435547, 30718.442108154297, 33424.282623291016, 29007.38198852539, 35497.86260986328, 26408.881866455078, 22494.82162475586, 25690.061798095703, 29631.141998291016, 33327.52235412598, 29645.14239501953, 23936.88168334961, 21959.361694335938, 20401.881622314453, 20398.84147644043, 25416.421936035156, 22382.361602783203, 19609.461395263672, 22338.061492919922, 29575.44204711914, 20122.321487426758, 20873.68148803711, 20475.001525878906, 19687.661422729492, 17986.1212310791, 16909.581176757812, 17760.02130126953, 17154.881271362305, 17369.481216430664, 17000.50129699707, 14471.141006469727, 17327.96128845215, 15586.361099243164, 15192.34105682373, 16057.961143493652, 29432.862243652344, 21032.461456298828, 15778.50112915039, 13972.840942382812, 15361.26107788086, 14665.92106628418, 12983.740997314453, 16507.40118408203, 15164.080978393555, 16115.021049499512, 14670.80093383789, 11676.520835876465, 12641.240867614746, 14229.900955200195, 14026.561004638672, 13990.720977783203, 14917.441131591797, 14691.960952758789, 12988.200942993164, 13342.720916748047, 14266.48112487793, 13126.080932617188, 13007.560943603516, 15978.181114196777, 14954.541114807129, 12710.70083618164, 14045.280990600586, 14086.260986328125, 12927.800796508789, 10637.140739440918, 13033.880912780762, 13134.800857543945, 12264.380752563477, 13273.14094543457, 20100.661331176758, 12335.680953979492, 12561.440925598145, 19396.041259765625, 15101.360977172852, 15476.981079101562, 10396.680717468262, 12281.800918579102, 12049.680938720703, 11546.020881652832, 13140.541000366211, 14803.141014099121, 13260.220840454102, 15204.641082763672, 11739.30093383789, 10289.58073425293, 11749.400787353516, 12457.700866699219, 11174.560779571533, 12249.820945739746]}],                        {\"legend\": {\"tracegroupgap\": 0}, \"template\": {\"data\": {\"bar\": [{\"error_x\": {\"color\": \"#2a3f5f\"}, \"error_y\": {\"color\": \"#2a3f5f\"}, \"marker\": {\"line\": {\"color\": \"#E5ECF6\", \"width\": 0.5}}, \"type\": \"bar\"}], \"barpolar\": [{\"marker\": {\"line\": {\"color\": \"#E5ECF6\", \"width\": 0.5}}, \"type\": \"barpolar\"}], \"carpet\": [{\"aaxis\": {\"endlinecolor\": \"#2a3f5f\", \"gridcolor\": \"white\", \"linecolor\": \"white\", \"minorgridcolor\": \"white\", \"startlinecolor\": \"#2a3f5f\"}, \"baxis\": {\"endlinecolor\": \"#2a3f5f\", \"gridcolor\": \"white\", \"linecolor\": \"white\", \"minorgridcolor\": \"white\", \"startlinecolor\": \"#2a3f5f\"}, \"type\": \"carpet\"}], \"choropleth\": [{\"colorbar\": {\"outlinewidth\": 0, \"ticks\": \"\"}, \"type\": \"choropleth\"}], \"contour\": [{\"colorbar\": {\"outlinewidth\": 0, \"ticks\": \"\"}, \"colorscale\": [[0.0, \"#0d0887\"], [0.1111111111111111, \"#46039f\"], [0.2222222222222222, \"#7201a8\"], [0.3333333333333333, \"#9c179e\"], [0.4444444444444444, \"#bd3786\"], [0.5555555555555556, \"#d8576b\"], [0.6666666666666666, \"#ed7953\"], [0.7777777777777778, \"#fb9f3a\"], [0.8888888888888888, \"#fdca26\"], [1.0, \"#f0f921\"]], \"type\": \"contour\"}], \"contourcarpet\": [{\"colorbar\": {\"outlinewidth\": 0, \"ticks\": \"\"}, \"type\": \"contourcarpet\"}], \"heatmap\": [{\"colorbar\": {\"outlinewidth\": 0, \"ticks\": \"\"}, \"colorscale\": [[0.0, \"#0d0887\"], [0.1111111111111111, \"#46039f\"], [0.2222222222222222, \"#7201a8\"], [0.3333333333333333, \"#9c179e\"], [0.4444444444444444, \"#bd3786\"], [0.5555555555555556, \"#d8576b\"], [0.6666666666666666, \"#ed7953\"], [0.7777777777777778, \"#fb9f3a\"], [0.8888888888888888, \"#fdca26\"], [1.0, \"#f0f921\"]], \"type\": \"heatmap\"}], \"heatmapgl\": [{\"colorbar\": {\"outlinewidth\": 0, \"ticks\": \"\"}, \"colorscale\": [[0.0, \"#0d0887\"], [0.1111111111111111, \"#46039f\"], [0.2222222222222222, \"#7201a8\"], [0.3333333333333333, \"#9c179e\"], [0.4444444444444444, \"#bd3786\"], [0.5555555555555556, \"#d8576b\"], [0.6666666666666666, \"#ed7953\"], [0.7777777777777778, \"#fb9f3a\"], [0.8888888888888888, \"#fdca26\"], [1.0, \"#f0f921\"]], \"type\": \"heatmapgl\"}], \"histogram\": [{\"marker\": {\"colorbar\": {\"outlinewidth\": 0, \"ticks\": \"\"}}, \"type\": \"histogram\"}], \"histogram2d\": [{\"colorbar\": {\"outlinewidth\": 0, \"ticks\": \"\"}, \"colorscale\": [[0.0, \"#0d0887\"], [0.1111111111111111, \"#46039f\"], [0.2222222222222222, \"#7201a8\"], [0.3333333333333333, \"#9c179e\"], [0.4444444444444444, \"#bd3786\"], [0.5555555555555556, \"#d8576b\"], [0.6666666666666666, \"#ed7953\"], [0.7777777777777778, \"#fb9f3a\"], [0.8888888888888888, \"#fdca26\"], [1.0, \"#f0f921\"]], \"type\": \"histogram2d\"}], \"histogram2dcontour\": [{\"colorbar\": {\"outlinewidth\": 0, \"ticks\": \"\"}, \"colorscale\": [[0.0, \"#0d0887\"], [0.1111111111111111, \"#46039f\"], [0.2222222222222222, \"#7201a8\"], [0.3333333333333333, \"#9c179e\"], [0.4444444444444444, \"#bd3786\"], [0.5555555555555556, \"#d8576b\"], [0.6666666666666666, \"#ed7953\"], [0.7777777777777778, \"#fb9f3a\"], [0.8888888888888888, \"#fdca26\"], [1.0, \"#f0f921\"]], \"type\": \"histogram2dcontour\"}], \"mesh3d\": [{\"colorbar\": {\"outlinewidth\": 0, \"ticks\": \"\"}, \"type\": \"mesh3d\"}], \"parcoords\": [{\"line\": {\"colorbar\": {\"outlinewidth\": 0, \"ticks\": \"\"}}, \"type\": \"parcoords\"}], \"pie\": [{\"automargin\": true, \"type\": \"pie\"}], \"scatter\": [{\"marker\": {\"colorbar\": {\"outlinewidth\": 0, \"ticks\": \"\"}}, \"type\": \"scatter\"}], \"scatter3d\": [{\"line\": {\"colorbar\": {\"outlinewidth\": 0, \"ticks\": \"\"}}, \"marker\": {\"colorbar\": {\"outlinewidth\": 0, \"ticks\": \"\"}}, \"type\": \"scatter3d\"}], \"scattercarpet\": [{\"marker\": {\"colorbar\": {\"outlinewidth\": 0, \"ticks\": \"\"}}, \"type\": \"scattercarpet\"}], \"scattergeo\": [{\"marker\": {\"colorbar\": {\"outlinewidth\": 0, \"ticks\": \"\"}}, \"type\": \"scattergeo\"}], \"scattergl\": [{\"marker\": {\"colorbar\": {\"outlinewidth\": 0, \"ticks\": \"\"}}, \"type\": \"scattergl\"}], \"scattermapbox\": [{\"marker\": {\"colorbar\": {\"outlinewidth\": 0, \"ticks\": \"\"}}, \"type\": \"scattermapbox\"}], \"scatterpolar\": [{\"marker\": {\"colorbar\": {\"outlinewidth\": 0, \"ticks\": \"\"}}, \"type\": \"scatterpolar\"}], \"scatterpolargl\": [{\"marker\": {\"colorbar\": {\"outlinewidth\": 0, \"ticks\": \"\"}}, \"type\": \"scatterpolargl\"}], \"scatterternary\": [{\"marker\": {\"colorbar\": {\"outlinewidth\": 0, \"ticks\": \"\"}}, \"type\": \"scatterternary\"}], \"surface\": [{\"colorbar\": {\"outlinewidth\": 0, \"ticks\": \"\"}, \"colorscale\": [[0.0, \"#0d0887\"], [0.1111111111111111, \"#46039f\"], [0.2222222222222222, \"#7201a8\"], [0.3333333333333333, \"#9c179e\"], [0.4444444444444444, \"#bd3786\"], [0.5555555555555556, \"#d8576b\"], [0.6666666666666666, \"#ed7953\"], [0.7777777777777778, \"#fb9f3a\"], [0.8888888888888888, \"#fdca26\"], [1.0, \"#f0f921\"]], \"type\": \"surface\"}], \"table\": [{\"cells\": {\"fill\": {\"color\": \"#EBF0F8\"}, \"line\": {\"color\": \"white\"}}, \"header\": {\"fill\": {\"color\": \"#C8D4E3\"}, \"line\": {\"color\": \"white\"}}, \"type\": \"table\"}]}, \"layout\": {\"annotationdefaults\": {\"arrowcolor\": \"#2a3f5f\", \"arrowhead\": 0, \"arrowwidth\": 1}, \"coloraxis\": {\"colorbar\": {\"outlinewidth\": 0, \"ticks\": \"\"}}, \"colorscale\": {\"diverging\": [[0, \"#8e0152\"], [0.1, \"#c51b7d\"], [0.2, \"#de77ae\"], [0.3, \"#f1b6da\"], [0.4, \"#fde0ef\"], [0.5, \"#f7f7f7\"], [0.6, \"#e6f5d0\"], [0.7, \"#b8e186\"], [0.8, \"#7fbc41\"], [0.9, \"#4d9221\"], [1, \"#276419\"]], \"sequential\": [[0.0, \"#0d0887\"], [0.1111111111111111, \"#46039f\"], [0.2222222222222222, \"#7201a8\"], [0.3333333333333333, \"#9c179e\"], [0.4444444444444444, \"#bd3786\"], [0.5555555555555556, \"#d8576b\"], [0.6666666666666666, \"#ed7953\"], [0.7777777777777778, \"#fb9f3a\"], [0.8888888888888888, \"#fdca26\"], [1.0, \"#f0f921\"]], \"sequentialminus\": [[0.0, \"#0d0887\"], [0.1111111111111111, \"#46039f\"], [0.2222222222222222, \"#7201a8\"], [0.3333333333333333, \"#9c179e\"], [0.4444444444444444, \"#bd3786\"], [0.5555555555555556, \"#d8576b\"], [0.6666666666666666, \"#ed7953\"], [0.7777777777777778, \"#fb9f3a\"], [0.8888888888888888, \"#fdca26\"], [1.0, \"#f0f921\"]]}, \"colorway\": [\"#636efa\", \"#EF553B\", \"#00cc96\", \"#ab63fa\", \"#FFA15A\", \"#19d3f3\", \"#FF6692\", \"#B6E880\", \"#FF97FF\", \"#FECB52\"], \"font\": {\"color\": \"#2a3f5f\"}, \"geo\": {\"bgcolor\": \"white\", \"lakecolor\": \"white\", \"landcolor\": \"#E5ECF6\", \"showlakes\": true, \"showland\": true, \"subunitcolor\": \"white\"}, \"hoverlabel\": {\"align\": \"left\"}, \"hovermode\": \"closest\", \"mapbox\": {\"style\": \"light\"}, \"paper_bgcolor\": \"white\", \"plot_bgcolor\": \"#E5ECF6\", \"polar\": {\"angularaxis\": {\"gridcolor\": \"white\", \"linecolor\": \"white\", \"ticks\": \"\"}, \"bgcolor\": \"#E5ECF6\", \"radialaxis\": {\"gridcolor\": \"white\", \"linecolor\": \"white\", \"ticks\": \"\"}}, \"scene\": {\"xaxis\": {\"backgroundcolor\": \"#E5ECF6\", \"gridcolor\": \"white\", \"gridwidth\": 2, \"linecolor\": \"white\", \"showbackground\": true, \"ticks\": \"\", \"zerolinecolor\": \"white\"}, \"yaxis\": {\"backgroundcolor\": \"#E5ECF6\", \"gridcolor\": \"white\", \"gridwidth\": 2, \"linecolor\": \"white\", \"showbackground\": true, \"ticks\": \"\", \"zerolinecolor\": \"white\"}, \"zaxis\": {\"backgroundcolor\": \"#E5ECF6\", \"gridcolor\": \"white\", \"gridwidth\": 2, \"linecolor\": \"white\", \"showbackground\": true, \"ticks\": \"\", \"zerolinecolor\": \"white\"}}, \"shapedefaults\": {\"line\": {\"color\": \"#2a3f5f\"}}, \"ternary\": {\"aaxis\": {\"gridcolor\": \"white\", \"linecolor\": \"white\", \"ticks\": \"\"}, \"baxis\": {\"gridcolor\": \"white\", \"linecolor\": \"white\", \"ticks\": \"\"}, \"bgcolor\": \"#E5ECF6\", \"caxis\": {\"gridcolor\": \"white\", \"linecolor\": \"white\", \"ticks\": \"\"}}, \"title\": {\"x\": 0.05}, \"xaxis\": {\"automargin\": true, \"gridcolor\": \"white\", \"linecolor\": \"white\", \"ticks\": \"\", \"title\": {\"standoff\": 15}, \"zerolinecolor\": \"white\", \"zerolinewidth\": 2}, \"yaxis\": {\"automargin\": true, \"gridcolor\": \"white\", \"linecolor\": \"white\", \"ticks\": \"\", \"title\": {\"standoff\": 15}, \"zerolinecolor\": \"white\", \"zerolinewidth\": 2}}}, \"title\": {\"text\": \"Lipid Class\"}},                        {\"responsive\": true}                    ).then(function(){\n",
       "                            \n",
       "var gd = document.getElementById('7f0a9241-a460-41ec-b19d-81e6a49d218f');\n",
       "var x = new MutationObserver(function (mutations, observer) {{\n",
       "        var display = window.getComputedStyle(gd).display;\n",
       "        if (!display || display === 'none') {{\n",
       "            console.log([gd, 'removed!']);\n",
       "            Plotly.purge(gd);\n",
       "            observer.disconnect();\n",
       "        }}\n",
       "}});\n",
       "\n",
       "// Listen for the removal of the full notebook cells\n",
       "var notebookContainer = gd.closest('#notebook-container');\n",
       "if (notebookContainer) {{\n",
       "    x.observe(notebookContainer, {childList: true});\n",
       "}}\n",
       "\n",
       "// Listen for the clearing of the current output cell\n",
       "var outputEl = gd.closest('.output');\n",
       "if (outputEl) {{\n",
       "    x.observe(outputEl, {childList: true});\n",
       "}}\n",
       "\n",
       "                        })                };                });            </script>        </div>"
      ]
     },
     "metadata": {},
     "output_type": "display_data"
    },
    {
     "data": {
      "application/vnd.plotly.v1+json": {
       "config": {
        "plotlyServerURL": "https://plot.ly"
       },
       "data": [
        {
         "colorscale": [
          [
           0,
           "#440154"
          ],
          [
           0.1111111111111111,
           "#482878"
          ],
          [
           0.2222222222222222,
           "#3e4989"
          ],
          [
           0.3333333333333333,
           "#31688e"
          ],
          [
           0.4444444444444444,
           "#26828e"
          ],
          [
           0.5555555555555556,
           "#1f9e89"
          ],
          [
           0.6666666666666666,
           "#35b779"
          ],
          [
           0.7777777777777778,
           "#6ece58"
          ],
          [
           0.8888888888888888,
           "#b5de2b"
          ],
          [
           1,
           "#fde725"
          ]
         ],
         "type": "heatmap",
         "x": [
          "[TG(37:0)]_FA14:0",
          "[TG(38:1)]_FA14:0",
          "[TG(38:0)]_FA14:0",
          "[TG(39:1)]_FA14:0",
          "[TG(39:0)]_FA14:0",
          "[TG(40:2)]_FA14:0",
          "[TG(40:1)]_FA14:0",
          "[TG(40:0)]_FA14:0",
          "[TG(41:2)]_FA14:0",
          "[TG(41:1)]_FA14:0",
          "[TG(41:0)]_FA14:0",
          "[TG(42:4)]_FA14:0",
          "[TG(42:3)]_FA14:0",
          "[TG(42:2)]_FA14:0",
          "[TG(42:1)]_FA14:0",
          "[TG(42:0)]_FA14:0",
          "[TG(43:4)]_FA14:0",
          "[TG(43:3)]_FA14:0",
          "[TG(43:2)]_FA14:0",
          "[TG(43:1)]_FA14:0",
          "[TG(43:0)]_FA14:0",
          "[TG(44:5)]_FA14:0",
          "[TG(44:4)]_FA14:0",
          "[TG(44:3)]_FA14:0",
          "[TG(44:2)]_FA14:0",
          "[TG(44:1)]_FA14:0",
          "[TG(44:0),TG(O-45:0)]_FA14:0",
          "[TG(45:5)]_FA14:0",
          "[TG(45:4)]_FA14:0",
          "[TG(45:3)]_FA14:0",
          "[TG(45:2)]_FA14:0",
          "[TG(45:1)]_FA14:0",
          "[TG(45:0)]_FA14:0",
          "[TG(46:6)]_FA14:0",
          "[TG(46:5)]_FA14:0",
          "[TG(46:4)]_FA14:0",
          "[TG(46:3)]_FA14:0",
          "[TG(46:2)]_FA14:0",
          "[TG(46:1)]_FA14:0",
          "[TG(46:0)]_FA14:0",
          "[TG(47:6)]_FA14:0",
          "[TG(47:5)]_FA14:0",
          "[TG(47:4)]_FA14:0",
          "[TG(47:3)]_FA14:0",
          "[TG(47:2)]_FA14:0",
          "[TG(48:8),TG(47:1)]_FA14:0",
          "[TG(48:7),TG(47:0)]_FA14:0",
          "[TG(48:6)]_FA14:0",
          "[TG(48:5)]_FA14:0",
          "[TG(48:4)]_FA14:0",
          "[TG(48:3)]_FA14:0",
          "[TG(48:2)]_FA14:0",
          "[TG(49:8),TG(48:1)]_FA14:0",
          "[TG(49:7),TG(48:0)]_FA14:0",
          "[TG(49:6)]_FA14:0",
          "[TG(49:5)]_FA14:0",
          "STD_15:0-18:1(d7)-15:0 TAG",
          "[TG(49:4)]_FA14:0",
          "[TG(49:3)]_FA14:0",
          "[TG(50:9),TG(49:2)]_FA14:0",
          "[TG(50:8),TG(49:1)]_FA14:0",
          "[TG(50:7),TG(49:0)]_FA14:0",
          "[TG(50:6)]_FA14:0",
          "[TG(50:5)]_FA14:0",
          "[TG(50:4)]_FA14:0",
          "[TG(50:3)]_FA14:0",
          "[TG(51:9),TG(50:2)]_FA14:0",
          "[TG(51:8),TG(50:1)]_FA14:0",
          "[TG(51:7),TG(50:0)]_FA14:0",
          "[TG(51:6)]_FA14:0",
          "[TG(51:5)]_FA14:0",
          "[TG(51:4)]_FA14:0",
          "[TG(52:10),TG(51:3)]_FA14:0",
          "[TG(52:9),TG(51:2)]_FA14:0",
          "[TG(52:8),TG(51:1)]_FA14:0",
          "[TG(52:7),TG(51:0)]_FA14:0",
          "[TG(52:6)]_FA14:0",
          "[TG(52:5)]_FA14:0",
          "[TG(52:4)]_FA14:0",
          "[TG(53:10),TG(52:3)]_FA14:0",
          "[TG(53:9),TG(52:2)]_FA14:0",
          "[TG(53:8),TG(52:1)]_FA14:0",
          "[TG(53:7),TG(52:0)]_FA14:0",
          "[TG(53:6)]_FA14:0",
          "[TG(54:12),TG(53:5)]_FA14:0",
          "[TG(54:11),TG(53:4)]_FA14:0",
          "[TG(54:10),TG(53:3)]_FA14:0",
          "[TG(54:9),TG(53:2)]_FA14:0",
          "[TG(54:8),TG(53:1)]_FA14:0",
          "[TG(54:7),TG(53:0)]_FA14:0",
          "[TG(54:6)]_FA14:0",
          "[TG(54:5)]_FA14:0",
          "[TG(55:11),TG(54:4)]_FA14:0",
          "[TG(55:10),TG(54:3)]_FA14:0",
          "[TG(55:9),TG(54:2)]_FA14:0",
          "[TG(55:8),TG(54:1)]_FA14:0",
          "[TG(55:7),TG(54:0)]_FA14:0",
          "[TG(56:13),TG(55:6)]_FA14:0",
          "[TG(56:12),TG(55:5)]_FA14:0",
          "[TG(56:11),TG(55:4)]_FA14:0",
          "[TG(56:10),TG(55:3)]_FA14:0",
          "[TG(56:9),TG(55:2)]_FA14:0",
          "[TG(56:8),TG(55:1)]_FA14:0",
          "[TG(56:7),TG(55:0)]_FA14:0",
          "[TG(56:6)]_FA14:0",
          "[TG(57:12),TG(56:5)]_FA14:0",
          "[TG(57:11),TG(56:4)]_FA14:0",
          "[TG(57:10),TG(56:3)]_FA14:0",
          "[TG(57:9),TG(56:2)]_FA14:0",
          "[TG(57:8),TG(56:1)]_FA14:0",
          "[TG(58:14),TG(57:7),TG(56:0)]_FA14:0",
          "[TG(58:13),TG(57:6)]_FA14:0",
          "[TG(58:12),TG(57:5)]_FA14:0",
          "[TG(58:11),TG(57:4)]_FA14:0",
          "[TG(58:10),TG(57:3)]_FA14:0",
          "[TG(58:9),TG(57:2)]_FA14:0",
          "[TG(58:8),TG(57:1)]_FA14:0",
          "[TG(58:7),TG(57:0)]_FA14:0",
          "[TG(59:13),TG(58:6)]_FA14:0",
          "[TG(59:12),TG(58:5)]_FA14:0",
          "[TG(59:11),TG(58:4)]_FA14:0",
          "[TG(59:10),TG(58:3)]_FA14:0",
          "[TG(59:9),TG(58:2)]_FA14:0",
          "[TG(60:15),TG(59:8),TG(58:1)]_FA14:0",
          "[TG(60:14),TG(59:7),TG(58:0)]_FA14:0",
          "[TG(60:13),TG(59:6)]_FA14:0",
          "[TG(60:12),TG(59:5)]_FA14:0",
          "[TG(60:11),TG(59:4)]_FA14:0",
          "[TG(60:10),TG(59:3)]_FA14:0",
          "[TG(60:9),TG(59:2)]_FA14:0",
          "[TG(60:8),TG(59:1)]_FA14:0",
          "[TG(61:14),TG(60:7),TG(59:0)]_FA14:0",
          "[TG(61:13),TG(60:6)]_FA14:0",
          "[TG(61:12),TG(60:5)]_FA14:0",
          "[TG(61:11),TG(60:4)]_FA14:0",
          "[TG(61:10),TG(60:3)]_FA14:0",
          "[TG(62:16),TG(61:9),TG(60:2)]_FA14:0",
          "[TG(62:15),TG(61:8),TG(60:1)]_FA14:0",
          "[TG(62:14),TG(61:7),TG(60:0)]_FA14:0",
          "[TG(62:13),TG(61:6)]_FA14:0",
          "[TG(62:12),TG(61:5)]_FA14:0",
          "[TG(62:11),TG(61:4)]_FA14:0",
          "[TG(62:10),TG(61:3)]_FA14:0",
          "[TG(62:9),TG(61:2)]_FA14:0",
          "[TG(62:8),TG(61:1)]_FA14:0",
          "[TG(62:7),TG(61:0)]_FA14:0",
          "[TG(63:13),TG(62:6)]_FA14:0",
          "[TG(63:12),TG(62:5)]_FA14:0",
          "[TG(63:11),TG(62:4)]_FA14:0",
          "[TG(64:17),TG(63:10),TG(62:3)]_FA14:0",
          "[TG(64:16),TG(63:9),TG(62:2)]_FA14:0",
          "[TG(64:15),TG(63:8),TG(62:1)]_FA14:0",
          "[TG(64:14),TG(63:7),TG(62:0)]_FA14:0",
          "[TG(64:13),TG(63:6)]_FA14:0",
          "[TG(64:12),TG(63:5)]_FA14:0",
          "[TG(64:11),TG(63:4)]_FA14:0",
          "[TG(64:10),TG(63:3)]_FA14:0",
          "[TG(64:9),TG(63:2)]_FA14:0",
          "[TG(64:8),TG(63:1)]_FA14:0",
          "[TG(64:7),TG(63:0)]_FA14:0",
          "[TG(64:6)]_FA14:0",
          "[TG(65:12),TG(64:5)]_FA14:0",
          "[TG(66:18),TG(65:11),TG(64:4)]_FA14:0",
          "[TG(66:17),TG(65:10),TG(64:3)]_FA14:0",
          "[TG(66:16),TG(65:9),TG(64:2)]_FA14:0",
          "[TG(66:15),TG(65:8),TG(64:1)]_FA14:0",
          "[TG(66:14),TG(65:7),TG(64:0)]_FA14:0",
          "[TG(66:13),TG(65:6)]_FA14:0",
          "[TG(66:12),TG(65:5)]_FA14:0",
          "[TG(66:11),TG(65:4)]_FA14:0",
          "[TG(66:10),TG(65:3)]_FA14:0",
          "[TG(66:9),TG(65:2)]_FA14:0",
          "[TG(66:8),TG(65:1)]_FA14:0",
          "[TG(66:7)]_FA14:0",
          "[TG(65:0)]_FA14:0",
          "[TG(66:6)]_FA14:0",
          "[TG(66:5)]_FA14:0",
          "[TG(66:4)]_FA14:0",
          "[TG(66:3)]_FA14:0",
          "[TG(66:2)]_FA14:0",
          "[TG(66:1)]_FA14:0"
         ],
         "y": [
          "TAG",
          "TAG",
          "TAG",
          "TAG",
          "TAG",
          "TAG",
          "TAG",
          "TAG",
          "TAG",
          "TAG",
          "TAG",
          "TAG",
          "TAG",
          "TAG",
          "TAG",
          "TAG",
          "TAG",
          "TAG",
          "TAG",
          "TAG",
          "TAG",
          "TAG",
          "TAG",
          "TAG",
          "TAG",
          "TAG",
          "TAG",
          "TAG",
          "TAG",
          "TAG",
          "TAG",
          "TAG",
          "TAG",
          "TAG",
          "TAG",
          "TAG",
          "TAG",
          "TAG",
          "TAG",
          "TAG",
          "TAG",
          "TAG",
          "TAG",
          "TAG",
          "TAG",
          "TAG",
          "TAG",
          "TAG",
          "TAG",
          "TAG",
          "TAG",
          "TAG",
          "TAG",
          "TAG",
          "TAG",
          "TAG",
          "STD_15:0-18:1(d7)-15:0 TAG",
          "TAG",
          "TAG",
          "TAG",
          "TAG",
          "TAG",
          "TAG",
          "TAG",
          "TAG",
          "TAG",
          "TAG",
          "TAG",
          "TAG",
          "TAG",
          "TAG",
          "TAG",
          "TAG",
          "TAG",
          "TAG",
          "TAG",
          "TAG",
          "TAG",
          "TAG",
          "TAG",
          "TAG",
          "TAG",
          "TAG",
          "TAG",
          "TAG",
          "TAG",
          "TAG",
          "TAG",
          "TAG",
          "TAG",
          "TAG",
          "TAG",
          "TAG",
          "TAG",
          "TAG",
          "TAG",
          "TAG",
          "TAG",
          "TAG",
          "TAG",
          "TAG",
          "TAG",
          "TAG",
          "TAG",
          "TAG",
          "TAG",
          "TAG",
          "TAG",
          "TAG",
          "TAG",
          "TAG",
          "TAG",
          "TAG",
          "TAG",
          "TAG",
          "TAG",
          "TAG",
          "TAG",
          "TAG",
          "TAG",
          "TAG",
          "TAG",
          "TAG",
          "TAG",
          "TAG",
          "TAG",
          "TAG",
          "TAG",
          "TAG",
          "TAG",
          "TAG",
          "TAG",
          "TAG",
          "TAG",
          "TAG",
          "TAG",
          "TAG",
          "TAG",
          "TAG",
          "TAG",
          "TAG",
          "TAG",
          "TAG",
          "TAG",
          "TAG",
          "TAG",
          "TAG",
          "TAG",
          "TAG",
          "TAG",
          "TAG",
          "TAG",
          "TAG",
          "TAG",
          "TAG",
          "TAG",
          "TAG",
          "TAG",
          "TAG",
          "TAG",
          "TAG",
          "TAG",
          "TAG",
          "TAG",
          "TAG",
          "TAG",
          "TAG",
          "TAG",
          "TAG",
          "TAG",
          "TAG",
          "TAG",
          "TAG",
          "TAG",
          "TAG",
          "TAG",
          "TAG",
          "TAG",
          "TAG",
          "TAG",
          "TAG"
         ],
         "z": [
          45072.822998046875,
          64211.844482421875,
          237300.73681640625,
          27744.182037353516,
          37315.48260498047,
          24415.261688232422,
          34708.20263671875,
          155327.89086914062,
          20373.861602783203,
          19893.661392211914,
          26466.401824951172,
          15374.68115234375,
          19889.30142211914,
          17753.80108642578,
          131865.6494140625,
          94824.94689941406,
          16791.481231689453,
          63030.504150390625,
          26622.84196472168,
          28583.40203857422,
          29018.08203125,
          17620.081260681152,
          15765.661041259766,
          18071.14141845703,
          39169.32312011719,
          31882.602020263672,
          72722.04577636719,
          18579.66111755371,
          21398.161346435547,
          18318.621307373047,
          16532.841232299805,
          70729.62463378906,
          46782.86340332031,
          20436.341217041016,
          20286.141387939453,
          18562.861236572266,
          20631.881439208984,
          44036.763610839844,
          68736.06512451172,
          84029.40625,
          26131.921813964844,
          20985.38151550293,
          18959.501403808594,
          21987.14175415039,
          24136.061737060547,
          31395.762451171875,
          35014.362396240234,
          51366.403381347656,
          25303.261779785156,
          23539.601623535156,
          82808.48538208008,
          286373.7007446289,
          333579.6123046875,
          80859.20629882812,
          29734.44223022461,
          22083.261352539062,
          33835.302642822266,
          22096.821563720703,
          26063.061752319336,
          29320.561981201172,
          37507.4225769043,
          34488.222259521484,
          29315.282165527344,
          35932.222259521484,
          126118.92807006836,
          432169.33502197266,
          501185.328125,
          86953.32531738281,
          36228.10238647461,
          49931.743591308594,
          23814.681854248047,
          23092.781524658203,
          28172.081909179688,
          41892.44287109375,
          46549.702728271484,
          34083.9026184082,
          40384.46292114258,
          44110.603759765625,
          42770.922912597656,
          53848.18371582031,
          56664.44418334961,
          47311.622985839844,
          30805.982299804688,
          26174.721771240234,
          25399.10171508789,
          25004.141693115234,
          31147.182556152344,
          38980.08303833008,
          46906.80307006836,
          38897.4231262207,
          73665.94470214844,
          41898.76268005371,
          28414.301971435547,
          30718.442108154297,
          33424.282623291016,
          29007.38198852539,
          35497.86260986328,
          26408.881866455078,
          22494.82162475586,
          25690.061798095703,
          29631.141998291016,
          33327.52235412598,
          29645.14239501953,
          23936.88168334961,
          21959.361694335938,
          20401.881622314453,
          20398.84147644043,
          25416.421936035156,
          22382.361602783203,
          19609.461395263672,
          22338.061492919922,
          29575.44204711914,
          20122.321487426758,
          20873.68148803711,
          20475.001525878906,
          19687.661422729492,
          17986.1212310791,
          16909.581176757812,
          17760.02130126953,
          17154.881271362305,
          17369.481216430664,
          17000.50129699707,
          14471.141006469727,
          17327.96128845215,
          15586.361099243164,
          15192.34105682373,
          16057.961143493652,
          29432.862243652344,
          21032.461456298828,
          15778.50112915039,
          13972.840942382812,
          15361.26107788086,
          14665.92106628418,
          12983.740997314453,
          16507.40118408203,
          15164.080978393555,
          16115.021049499512,
          14670.80093383789,
          11676.520835876465,
          12641.240867614746,
          14229.900955200195,
          14026.561004638672,
          13990.720977783203,
          14917.441131591797,
          14691.960952758789,
          12988.200942993164,
          13342.720916748047,
          14266.48112487793,
          13126.080932617188,
          13007.560943603516,
          15978.181114196777,
          14954.541114807129,
          12710.70083618164,
          14045.280990600586,
          14086.260986328125,
          12927.800796508789,
          10637.140739440918,
          13033.880912780762,
          13134.800857543945,
          12264.380752563477,
          13273.14094543457,
          20100.661331176758,
          12335.680953979492,
          12561.440925598145,
          19396.041259765625,
          15101.360977172852,
          15476.981079101562,
          10396.680717468262,
          12281.800918579102,
          12049.680938720703,
          11546.020881652832,
          13140.541000366211,
          14803.141014099121,
          13260.220840454102,
          15204.641082763672,
          11739.30093383789,
          10289.58073425293,
          11749.400787353516,
          12457.700866699219,
          11174.560779571533,
          12249.820945739746
         ]
        }
       ],
       "layout": {
        "template": {
         "data": {
          "bar": [
           {
            "error_x": {
             "color": "#2a3f5f"
            },
            "error_y": {
             "color": "#2a3f5f"
            },
            "marker": {
             "line": {
              "color": "#E5ECF6",
              "width": 0.5
             }
            },
            "type": "bar"
           }
          ],
          "barpolar": [
           {
            "marker": {
             "line": {
              "color": "#E5ECF6",
              "width": 0.5
             }
            },
            "type": "barpolar"
           }
          ],
          "carpet": [
           {
            "aaxis": {
             "endlinecolor": "#2a3f5f",
             "gridcolor": "white",
             "linecolor": "white",
             "minorgridcolor": "white",
             "startlinecolor": "#2a3f5f"
            },
            "baxis": {
             "endlinecolor": "#2a3f5f",
             "gridcolor": "white",
             "linecolor": "white",
             "minorgridcolor": "white",
             "startlinecolor": "#2a3f5f"
            },
            "type": "carpet"
           }
          ],
          "choropleth": [
           {
            "colorbar": {
             "outlinewidth": 0,
             "ticks": ""
            },
            "type": "choropleth"
           }
          ],
          "contour": [
           {
            "colorbar": {
             "outlinewidth": 0,
             "ticks": ""
            },
            "colorscale": [
             [
              0,
              "#0d0887"
             ],
             [
              0.1111111111111111,
              "#46039f"
             ],
             [
              0.2222222222222222,
              "#7201a8"
             ],
             [
              0.3333333333333333,
              "#9c179e"
             ],
             [
              0.4444444444444444,
              "#bd3786"
             ],
             [
              0.5555555555555556,
              "#d8576b"
             ],
             [
              0.6666666666666666,
              "#ed7953"
             ],
             [
              0.7777777777777778,
              "#fb9f3a"
             ],
             [
              0.8888888888888888,
              "#fdca26"
             ],
             [
              1,
              "#f0f921"
             ]
            ],
            "type": "contour"
           }
          ],
          "contourcarpet": [
           {
            "colorbar": {
             "outlinewidth": 0,
             "ticks": ""
            },
            "type": "contourcarpet"
           }
          ],
          "heatmap": [
           {
            "colorbar": {
             "outlinewidth": 0,
             "ticks": ""
            },
            "colorscale": [
             [
              0,
              "#0d0887"
             ],
             [
              0.1111111111111111,
              "#46039f"
             ],
             [
              0.2222222222222222,
              "#7201a8"
             ],
             [
              0.3333333333333333,
              "#9c179e"
             ],
             [
              0.4444444444444444,
              "#bd3786"
             ],
             [
              0.5555555555555556,
              "#d8576b"
             ],
             [
              0.6666666666666666,
              "#ed7953"
             ],
             [
              0.7777777777777778,
              "#fb9f3a"
             ],
             [
              0.8888888888888888,
              "#fdca26"
             ],
             [
              1,
              "#f0f921"
             ]
            ],
            "type": "heatmap"
           }
          ],
          "heatmapgl": [
           {
            "colorbar": {
             "outlinewidth": 0,
             "ticks": ""
            },
            "colorscale": [
             [
              0,
              "#0d0887"
             ],
             [
              0.1111111111111111,
              "#46039f"
             ],
             [
              0.2222222222222222,
              "#7201a8"
             ],
             [
              0.3333333333333333,
              "#9c179e"
             ],
             [
              0.4444444444444444,
              "#bd3786"
             ],
             [
              0.5555555555555556,
              "#d8576b"
             ],
             [
              0.6666666666666666,
              "#ed7953"
             ],
             [
              0.7777777777777778,
              "#fb9f3a"
             ],
             [
              0.8888888888888888,
              "#fdca26"
             ],
             [
              1,
              "#f0f921"
             ]
            ],
            "type": "heatmapgl"
           }
          ],
          "histogram": [
           {
            "marker": {
             "colorbar": {
              "outlinewidth": 0,
              "ticks": ""
             }
            },
            "type": "histogram"
           }
          ],
          "histogram2d": [
           {
            "colorbar": {
             "outlinewidth": 0,
             "ticks": ""
            },
            "colorscale": [
             [
              0,
              "#0d0887"
             ],
             [
              0.1111111111111111,
              "#46039f"
             ],
             [
              0.2222222222222222,
              "#7201a8"
             ],
             [
              0.3333333333333333,
              "#9c179e"
             ],
             [
              0.4444444444444444,
              "#bd3786"
             ],
             [
              0.5555555555555556,
              "#d8576b"
             ],
             [
              0.6666666666666666,
              "#ed7953"
             ],
             [
              0.7777777777777778,
              "#fb9f3a"
             ],
             [
              0.8888888888888888,
              "#fdca26"
             ],
             [
              1,
              "#f0f921"
             ]
            ],
            "type": "histogram2d"
           }
          ],
          "histogram2dcontour": [
           {
            "colorbar": {
             "outlinewidth": 0,
             "ticks": ""
            },
            "colorscale": [
             [
              0,
              "#0d0887"
             ],
             [
              0.1111111111111111,
              "#46039f"
             ],
             [
              0.2222222222222222,
              "#7201a8"
             ],
             [
              0.3333333333333333,
              "#9c179e"
             ],
             [
              0.4444444444444444,
              "#bd3786"
             ],
             [
              0.5555555555555556,
              "#d8576b"
             ],
             [
              0.6666666666666666,
              "#ed7953"
             ],
             [
              0.7777777777777778,
              "#fb9f3a"
             ],
             [
              0.8888888888888888,
              "#fdca26"
             ],
             [
              1,
              "#f0f921"
             ]
            ],
            "type": "histogram2dcontour"
           }
          ],
          "mesh3d": [
           {
            "colorbar": {
             "outlinewidth": 0,
             "ticks": ""
            },
            "type": "mesh3d"
           }
          ],
          "parcoords": [
           {
            "line": {
             "colorbar": {
              "outlinewidth": 0,
              "ticks": ""
             }
            },
            "type": "parcoords"
           }
          ],
          "pie": [
           {
            "automargin": true,
            "type": "pie"
           }
          ],
          "scatter": [
           {
            "marker": {
             "colorbar": {
              "outlinewidth": 0,
              "ticks": ""
             }
            },
            "type": "scatter"
           }
          ],
          "scatter3d": [
           {
            "line": {
             "colorbar": {
              "outlinewidth": 0,
              "ticks": ""
             }
            },
            "marker": {
             "colorbar": {
              "outlinewidth": 0,
              "ticks": ""
             }
            },
            "type": "scatter3d"
           }
          ],
          "scattercarpet": [
           {
            "marker": {
             "colorbar": {
              "outlinewidth": 0,
              "ticks": ""
             }
            },
            "type": "scattercarpet"
           }
          ],
          "scattergeo": [
           {
            "marker": {
             "colorbar": {
              "outlinewidth": 0,
              "ticks": ""
             }
            },
            "type": "scattergeo"
           }
          ],
          "scattergl": [
           {
            "marker": {
             "colorbar": {
              "outlinewidth": 0,
              "ticks": ""
             }
            },
            "type": "scattergl"
           }
          ],
          "scattermapbox": [
           {
            "marker": {
             "colorbar": {
              "outlinewidth": 0,
              "ticks": ""
             }
            },
            "type": "scattermapbox"
           }
          ],
          "scatterpolar": [
           {
            "marker": {
             "colorbar": {
              "outlinewidth": 0,
              "ticks": ""
             }
            },
            "type": "scatterpolar"
           }
          ],
          "scatterpolargl": [
           {
            "marker": {
             "colorbar": {
              "outlinewidth": 0,
              "ticks": ""
             }
            },
            "type": "scatterpolargl"
           }
          ],
          "scatterternary": [
           {
            "marker": {
             "colorbar": {
              "outlinewidth": 0,
              "ticks": ""
             }
            },
            "type": "scatterternary"
           }
          ],
          "surface": [
           {
            "colorbar": {
             "outlinewidth": 0,
             "ticks": ""
            },
            "colorscale": [
             [
              0,
              "#0d0887"
             ],
             [
              0.1111111111111111,
              "#46039f"
             ],
             [
              0.2222222222222222,
              "#7201a8"
             ],
             [
              0.3333333333333333,
              "#9c179e"
             ],
             [
              0.4444444444444444,
              "#bd3786"
             ],
             [
              0.5555555555555556,
              "#d8576b"
             ],
             [
              0.6666666666666666,
              "#ed7953"
             ],
             [
              0.7777777777777778,
              "#fb9f3a"
             ],
             [
              0.8888888888888888,
              "#fdca26"
             ],
             [
              1,
              "#f0f921"
             ]
            ],
            "type": "surface"
           }
          ],
          "table": [
           {
            "cells": {
             "fill": {
              "color": "#EBF0F8"
             },
             "line": {
              "color": "white"
             }
            },
            "header": {
             "fill": {
              "color": "#C8D4E3"
             },
             "line": {
              "color": "white"
             }
            },
            "type": "table"
           }
          ]
         },
         "layout": {
          "annotationdefaults": {
           "arrowcolor": "#2a3f5f",
           "arrowhead": 0,
           "arrowwidth": 1
          },
          "coloraxis": {
           "colorbar": {
            "outlinewidth": 0,
            "ticks": ""
           }
          },
          "colorscale": {
           "diverging": [
            [
             0,
             "#8e0152"
            ],
            [
             0.1,
             "#c51b7d"
            ],
            [
             0.2,
             "#de77ae"
            ],
            [
             0.3,
             "#f1b6da"
            ],
            [
             0.4,
             "#fde0ef"
            ],
            [
             0.5,
             "#f7f7f7"
            ],
            [
             0.6,
             "#e6f5d0"
            ],
            [
             0.7,
             "#b8e186"
            ],
            [
             0.8,
             "#7fbc41"
            ],
            [
             0.9,
             "#4d9221"
            ],
            [
             1,
             "#276419"
            ]
           ],
           "sequential": [
            [
             0,
             "#0d0887"
            ],
            [
             0.1111111111111111,
             "#46039f"
            ],
            [
             0.2222222222222222,
             "#7201a8"
            ],
            [
             0.3333333333333333,
             "#9c179e"
            ],
            [
             0.4444444444444444,
             "#bd3786"
            ],
            [
             0.5555555555555556,
             "#d8576b"
            ],
            [
             0.6666666666666666,
             "#ed7953"
            ],
            [
             0.7777777777777778,
             "#fb9f3a"
            ],
            [
             0.8888888888888888,
             "#fdca26"
            ],
            [
             1,
             "#f0f921"
            ]
           ],
           "sequentialminus": [
            [
             0,
             "#0d0887"
            ],
            [
             0.1111111111111111,
             "#46039f"
            ],
            [
             0.2222222222222222,
             "#7201a8"
            ],
            [
             0.3333333333333333,
             "#9c179e"
            ],
            [
             0.4444444444444444,
             "#bd3786"
            ],
            [
             0.5555555555555556,
             "#d8576b"
            ],
            [
             0.6666666666666666,
             "#ed7953"
            ],
            [
             0.7777777777777778,
             "#fb9f3a"
            ],
            [
             0.8888888888888888,
             "#fdca26"
            ],
            [
             1,
             "#f0f921"
            ]
           ]
          },
          "colorway": [
           "#636efa",
           "#EF553B",
           "#00cc96",
           "#ab63fa",
           "#FFA15A",
           "#19d3f3",
           "#FF6692",
           "#B6E880",
           "#FF97FF",
           "#FECB52"
          ],
          "font": {
           "color": "#2a3f5f"
          },
          "geo": {
           "bgcolor": "white",
           "lakecolor": "white",
           "landcolor": "#E5ECF6",
           "showlakes": true,
           "showland": true,
           "subunitcolor": "white"
          },
          "hoverlabel": {
           "align": "left"
          },
          "hovermode": "closest",
          "mapbox": {
           "style": "light"
          },
          "paper_bgcolor": "white",
          "plot_bgcolor": "#E5ECF6",
          "polar": {
           "angularaxis": {
            "gridcolor": "white",
            "linecolor": "white",
            "ticks": ""
           },
           "bgcolor": "#E5ECF6",
           "radialaxis": {
            "gridcolor": "white",
            "linecolor": "white",
            "ticks": ""
           }
          },
          "scene": {
           "xaxis": {
            "backgroundcolor": "#E5ECF6",
            "gridcolor": "white",
            "gridwidth": 2,
            "linecolor": "white",
            "showbackground": true,
            "ticks": "",
            "zerolinecolor": "white"
           },
           "yaxis": {
            "backgroundcolor": "#E5ECF6",
            "gridcolor": "white",
            "gridwidth": 2,
            "linecolor": "white",
            "showbackground": true,
            "ticks": "",
            "zerolinecolor": "white"
           },
           "zaxis": {
            "backgroundcolor": "#E5ECF6",
            "gridcolor": "white",
            "gridwidth": 2,
            "linecolor": "white",
            "showbackground": true,
            "ticks": "",
            "zerolinecolor": "white"
           }
          },
          "shapedefaults": {
           "line": {
            "color": "#2a3f5f"
           }
          },
          "ternary": {
           "aaxis": {
            "gridcolor": "white",
            "linecolor": "white",
            "ticks": ""
           },
           "baxis": {
            "gridcolor": "white",
            "linecolor": "white",
            "ticks": ""
           },
           "bgcolor": "#E5ECF6",
           "caxis": {
            "gridcolor": "white",
            "linecolor": "white",
            "ticks": ""
           }
          },
          "title": {
           "x": 0.05
          },
          "xaxis": {
           "automargin": true,
           "gridcolor": "white",
           "linecolor": "white",
           "ticks": "",
           "title": {
            "standoff": 15
           },
           "zerolinecolor": "white",
           "zerolinewidth": 2
          },
          "yaxis": {
           "automargin": true,
           "gridcolor": "white",
           "linecolor": "white",
           "ticks": "",
           "title": {
            "standoff": 15
           },
           "zerolinecolor": "white",
           "zerolinewidth": 2
          }
         }
        }
       }
      },
      "text/html": [
       "<div>                            <div id=\"40ba56ab-b18c-4ecd-b880-f929f44d385b\" class=\"plotly-graph-div\" style=\"height:525px; width:100%;\"></div>            <script type=\"text/javascript\">                require([\"plotly\"], function(Plotly) {                    window.PLOTLYENV=window.PLOTLYENV || {};                                    if (document.getElementById(\"40ba56ab-b18c-4ecd-b880-f929f44d385b\")) {                    Plotly.newPlot(                        \"40ba56ab-b18c-4ecd-b880-f929f44d385b\",                        [{\"colorscale\": [[0.0, \"#440154\"], [0.1111111111111111, \"#482878\"], [0.2222222222222222, \"#3e4989\"], [0.3333333333333333, \"#31688e\"], [0.4444444444444444, \"#26828e\"], [0.5555555555555556, \"#1f9e89\"], [0.6666666666666666, \"#35b779\"], [0.7777777777777778, \"#6ece58\"], [0.8888888888888888, \"#b5de2b\"], [1.0, \"#fde725\"]], \"type\": \"heatmap\", \"x\": [\"[TG(37:0)]_FA14:0\", \"[TG(38:1)]_FA14:0\", \"[TG(38:0)]_FA14:0\", \"[TG(39:1)]_FA14:0\", \"[TG(39:0)]_FA14:0\", \"[TG(40:2)]_FA14:0\", \"[TG(40:1)]_FA14:0\", \"[TG(40:0)]_FA14:0\", \"[TG(41:2)]_FA14:0\", \"[TG(41:1)]_FA14:0\", \"[TG(41:0)]_FA14:0\", \"[TG(42:4)]_FA14:0\", \"[TG(42:3)]_FA14:0\", \"[TG(42:2)]_FA14:0\", \"[TG(42:1)]_FA14:0\", \"[TG(42:0)]_FA14:0\", \"[TG(43:4)]_FA14:0\", \"[TG(43:3)]_FA14:0\", \"[TG(43:2)]_FA14:0\", \"[TG(43:1)]_FA14:0\", \"[TG(43:0)]_FA14:0\", \"[TG(44:5)]_FA14:0\", \"[TG(44:4)]_FA14:0\", \"[TG(44:3)]_FA14:0\", \"[TG(44:2)]_FA14:0\", \"[TG(44:1)]_FA14:0\", \"[TG(44:0),TG(O-45:0)]_FA14:0\", \"[TG(45:5)]_FA14:0\", \"[TG(45:4)]_FA14:0\", \"[TG(45:3)]_FA14:0\", \"[TG(45:2)]_FA14:0\", \"[TG(45:1)]_FA14:0\", \"[TG(45:0)]_FA14:0\", \"[TG(46:6)]_FA14:0\", \"[TG(46:5)]_FA14:0\", \"[TG(46:4)]_FA14:0\", \"[TG(46:3)]_FA14:0\", \"[TG(46:2)]_FA14:0\", \"[TG(46:1)]_FA14:0\", \"[TG(46:0)]_FA14:0\", \"[TG(47:6)]_FA14:0\", \"[TG(47:5)]_FA14:0\", \"[TG(47:4)]_FA14:0\", \"[TG(47:3)]_FA14:0\", \"[TG(47:2)]_FA14:0\", \"[TG(48:8),TG(47:1)]_FA14:0\", \"[TG(48:7),TG(47:0)]_FA14:0\", \"[TG(48:6)]_FA14:0\", \"[TG(48:5)]_FA14:0\", \"[TG(48:4)]_FA14:0\", \"[TG(48:3)]_FA14:0\", \"[TG(48:2)]_FA14:0\", \"[TG(49:8),TG(48:1)]_FA14:0\", \"[TG(49:7),TG(48:0)]_FA14:0\", \"[TG(49:6)]_FA14:0\", \"[TG(49:5)]_FA14:0\", \"STD_15:0-18:1(d7)-15:0 TAG\", \"[TG(49:4)]_FA14:0\", \"[TG(49:3)]_FA14:0\", \"[TG(50:9),TG(49:2)]_FA14:0\", \"[TG(50:8),TG(49:1)]_FA14:0\", \"[TG(50:7),TG(49:0)]_FA14:0\", \"[TG(50:6)]_FA14:0\", \"[TG(50:5)]_FA14:0\", \"[TG(50:4)]_FA14:0\", \"[TG(50:3)]_FA14:0\", \"[TG(51:9),TG(50:2)]_FA14:0\", \"[TG(51:8),TG(50:1)]_FA14:0\", \"[TG(51:7),TG(50:0)]_FA14:0\", \"[TG(51:6)]_FA14:0\", \"[TG(51:5)]_FA14:0\", \"[TG(51:4)]_FA14:0\", \"[TG(52:10),TG(51:3)]_FA14:0\", \"[TG(52:9),TG(51:2)]_FA14:0\", \"[TG(52:8),TG(51:1)]_FA14:0\", \"[TG(52:7),TG(51:0)]_FA14:0\", \"[TG(52:6)]_FA14:0\", \"[TG(52:5)]_FA14:0\", \"[TG(52:4)]_FA14:0\", \"[TG(53:10),TG(52:3)]_FA14:0\", \"[TG(53:9),TG(52:2)]_FA14:0\", \"[TG(53:8),TG(52:1)]_FA14:0\", \"[TG(53:7),TG(52:0)]_FA14:0\", \"[TG(53:6)]_FA14:0\", \"[TG(54:12),TG(53:5)]_FA14:0\", \"[TG(54:11),TG(53:4)]_FA14:0\", \"[TG(54:10),TG(53:3)]_FA14:0\", \"[TG(54:9),TG(53:2)]_FA14:0\", \"[TG(54:8),TG(53:1)]_FA14:0\", \"[TG(54:7),TG(53:0)]_FA14:0\", \"[TG(54:6)]_FA14:0\", \"[TG(54:5)]_FA14:0\", \"[TG(55:11),TG(54:4)]_FA14:0\", \"[TG(55:10),TG(54:3)]_FA14:0\", \"[TG(55:9),TG(54:2)]_FA14:0\", \"[TG(55:8),TG(54:1)]_FA14:0\", \"[TG(55:7),TG(54:0)]_FA14:0\", \"[TG(56:13),TG(55:6)]_FA14:0\", \"[TG(56:12),TG(55:5)]_FA14:0\", \"[TG(56:11),TG(55:4)]_FA14:0\", \"[TG(56:10),TG(55:3)]_FA14:0\", \"[TG(56:9),TG(55:2)]_FA14:0\", \"[TG(56:8),TG(55:1)]_FA14:0\", \"[TG(56:7),TG(55:0)]_FA14:0\", \"[TG(56:6)]_FA14:0\", \"[TG(57:12),TG(56:5)]_FA14:0\", \"[TG(57:11),TG(56:4)]_FA14:0\", \"[TG(57:10),TG(56:3)]_FA14:0\", \"[TG(57:9),TG(56:2)]_FA14:0\", \"[TG(57:8),TG(56:1)]_FA14:0\", \"[TG(58:14),TG(57:7),TG(56:0)]_FA14:0\", \"[TG(58:13),TG(57:6)]_FA14:0\", \"[TG(58:12),TG(57:5)]_FA14:0\", \"[TG(58:11),TG(57:4)]_FA14:0\", \"[TG(58:10),TG(57:3)]_FA14:0\", \"[TG(58:9),TG(57:2)]_FA14:0\", \"[TG(58:8),TG(57:1)]_FA14:0\", \"[TG(58:7),TG(57:0)]_FA14:0\", \"[TG(59:13),TG(58:6)]_FA14:0\", \"[TG(59:12),TG(58:5)]_FA14:0\", \"[TG(59:11),TG(58:4)]_FA14:0\", \"[TG(59:10),TG(58:3)]_FA14:0\", \"[TG(59:9),TG(58:2)]_FA14:0\", \"[TG(60:15),TG(59:8),TG(58:1)]_FA14:0\", \"[TG(60:14),TG(59:7),TG(58:0)]_FA14:0\", \"[TG(60:13),TG(59:6)]_FA14:0\", \"[TG(60:12),TG(59:5)]_FA14:0\", \"[TG(60:11),TG(59:4)]_FA14:0\", \"[TG(60:10),TG(59:3)]_FA14:0\", \"[TG(60:9),TG(59:2)]_FA14:0\", \"[TG(60:8),TG(59:1)]_FA14:0\", \"[TG(61:14),TG(60:7),TG(59:0)]_FA14:0\", \"[TG(61:13),TG(60:6)]_FA14:0\", \"[TG(61:12),TG(60:5)]_FA14:0\", \"[TG(61:11),TG(60:4)]_FA14:0\", \"[TG(61:10),TG(60:3)]_FA14:0\", \"[TG(62:16),TG(61:9),TG(60:2)]_FA14:0\", \"[TG(62:15),TG(61:8),TG(60:1)]_FA14:0\", \"[TG(62:14),TG(61:7),TG(60:0)]_FA14:0\", \"[TG(62:13),TG(61:6)]_FA14:0\", \"[TG(62:12),TG(61:5)]_FA14:0\", \"[TG(62:11),TG(61:4)]_FA14:0\", \"[TG(62:10),TG(61:3)]_FA14:0\", \"[TG(62:9),TG(61:2)]_FA14:0\", \"[TG(62:8),TG(61:1)]_FA14:0\", \"[TG(62:7),TG(61:0)]_FA14:0\", \"[TG(63:13),TG(62:6)]_FA14:0\", \"[TG(63:12),TG(62:5)]_FA14:0\", \"[TG(63:11),TG(62:4)]_FA14:0\", \"[TG(64:17),TG(63:10),TG(62:3)]_FA14:0\", \"[TG(64:16),TG(63:9),TG(62:2)]_FA14:0\", \"[TG(64:15),TG(63:8),TG(62:1)]_FA14:0\", \"[TG(64:14),TG(63:7),TG(62:0)]_FA14:0\", \"[TG(64:13),TG(63:6)]_FA14:0\", \"[TG(64:12),TG(63:5)]_FA14:0\", \"[TG(64:11),TG(63:4)]_FA14:0\", \"[TG(64:10),TG(63:3)]_FA14:0\", \"[TG(64:9),TG(63:2)]_FA14:0\", \"[TG(64:8),TG(63:1)]_FA14:0\", \"[TG(64:7),TG(63:0)]_FA14:0\", \"[TG(64:6)]_FA14:0\", \"[TG(65:12),TG(64:5)]_FA14:0\", \"[TG(66:18),TG(65:11),TG(64:4)]_FA14:0\", \"[TG(66:17),TG(65:10),TG(64:3)]_FA14:0\", \"[TG(66:16),TG(65:9),TG(64:2)]_FA14:0\", \"[TG(66:15),TG(65:8),TG(64:1)]_FA14:0\", \"[TG(66:14),TG(65:7),TG(64:0)]_FA14:0\", \"[TG(66:13),TG(65:6)]_FA14:0\", \"[TG(66:12),TG(65:5)]_FA14:0\", \"[TG(66:11),TG(65:4)]_FA14:0\", \"[TG(66:10),TG(65:3)]_FA14:0\", \"[TG(66:9),TG(65:2)]_FA14:0\", \"[TG(66:8),TG(65:1)]_FA14:0\", \"[TG(66:7)]_FA14:0\", \"[TG(65:0)]_FA14:0\", \"[TG(66:6)]_FA14:0\", \"[TG(66:5)]_FA14:0\", \"[TG(66:4)]_FA14:0\", \"[TG(66:3)]_FA14:0\", \"[TG(66:2)]_FA14:0\", \"[TG(66:1)]_FA14:0\"], \"y\": [\"TAG\", \"TAG\", \"TAG\", \"TAG\", \"TAG\", \"TAG\", \"TAG\", \"TAG\", \"TAG\", \"TAG\", \"TAG\", \"TAG\", \"TAG\", \"TAG\", \"TAG\", \"TAG\", \"TAG\", \"TAG\", \"TAG\", \"TAG\", \"TAG\", \"TAG\", \"TAG\", \"TAG\", \"TAG\", \"TAG\", \"TAG\", \"TAG\", \"TAG\", \"TAG\", \"TAG\", \"TAG\", \"TAG\", \"TAG\", \"TAG\", \"TAG\", \"TAG\", \"TAG\", \"TAG\", \"TAG\", \"TAG\", \"TAG\", \"TAG\", \"TAG\", \"TAG\", \"TAG\", \"TAG\", \"TAG\", \"TAG\", \"TAG\", \"TAG\", \"TAG\", \"TAG\", \"TAG\", \"TAG\", \"TAG\", \"STD_15:0-18:1(d7)-15:0 TAG\", \"TAG\", \"TAG\", \"TAG\", \"TAG\", \"TAG\", \"TAG\", \"TAG\", \"TAG\", \"TAG\", \"TAG\", \"TAG\", \"TAG\", \"TAG\", \"TAG\", \"TAG\", \"TAG\", \"TAG\", \"TAG\", \"TAG\", \"TAG\", \"TAG\", \"TAG\", \"TAG\", \"TAG\", \"TAG\", \"TAG\", \"TAG\", \"TAG\", \"TAG\", \"TAG\", \"TAG\", \"TAG\", \"TAG\", \"TAG\", \"TAG\", \"TAG\", \"TAG\", \"TAG\", \"TAG\", \"TAG\", \"TAG\", \"TAG\", \"TAG\", \"TAG\", \"TAG\", \"TAG\", \"TAG\", \"TAG\", \"TAG\", \"TAG\", \"TAG\", \"TAG\", \"TAG\", \"TAG\", \"TAG\", \"TAG\", \"TAG\", \"TAG\", \"TAG\", \"TAG\", \"TAG\", \"TAG\", \"TAG\", \"TAG\", \"TAG\", \"TAG\", \"TAG\", \"TAG\", \"TAG\", \"TAG\", \"TAG\", \"TAG\", \"TAG\", \"TAG\", \"TAG\", \"TAG\", \"TAG\", \"TAG\", \"TAG\", \"TAG\", \"TAG\", \"TAG\", \"TAG\", \"TAG\", \"TAG\", \"TAG\", \"TAG\", \"TAG\", \"TAG\", \"TAG\", \"TAG\", \"TAG\", \"TAG\", \"TAG\", \"TAG\", \"TAG\", \"TAG\", \"TAG\", \"TAG\", \"TAG\", \"TAG\", \"TAG\", \"TAG\", \"TAG\", \"TAG\", \"TAG\", \"TAG\", \"TAG\", \"TAG\", \"TAG\", \"TAG\", \"TAG\", \"TAG\", \"TAG\", \"TAG\", \"TAG\", \"TAG\", \"TAG\", \"TAG\", \"TAG\", \"TAG\", \"TAG\", \"TAG\", \"TAG\"], \"z\": [45072.822998046875, 64211.844482421875, 237300.73681640625, 27744.182037353516, 37315.48260498047, 24415.261688232422, 34708.20263671875, 155327.89086914062, 20373.861602783203, 19893.661392211914, 26466.401824951172, 15374.68115234375, 19889.30142211914, 17753.80108642578, 131865.6494140625, 94824.94689941406, 16791.481231689453, 63030.504150390625, 26622.84196472168, 28583.40203857422, 29018.08203125, 17620.081260681152, 15765.661041259766, 18071.14141845703, 39169.32312011719, 31882.602020263672, 72722.04577636719, 18579.66111755371, 21398.161346435547, 18318.621307373047, 16532.841232299805, 70729.62463378906, 46782.86340332031, 20436.341217041016, 20286.141387939453, 18562.861236572266, 20631.881439208984, 44036.763610839844, 68736.06512451172, 84029.40625, 26131.921813964844, 20985.38151550293, 18959.501403808594, 21987.14175415039, 24136.061737060547, 31395.762451171875, 35014.362396240234, 51366.403381347656, 25303.261779785156, 23539.601623535156, 82808.48538208008, 286373.7007446289, 333579.6123046875, 80859.20629882812, 29734.44223022461, 22083.261352539062, 33835.302642822266, 22096.821563720703, 26063.061752319336, 29320.561981201172, 37507.4225769043, 34488.222259521484, 29315.282165527344, 35932.222259521484, 126118.92807006836, 432169.33502197266, 501185.328125, 86953.32531738281, 36228.10238647461, 49931.743591308594, 23814.681854248047, 23092.781524658203, 28172.081909179688, 41892.44287109375, 46549.702728271484, 34083.9026184082, 40384.46292114258, 44110.603759765625, 42770.922912597656, 53848.18371582031, 56664.44418334961, 47311.622985839844, 30805.982299804688, 26174.721771240234, 25399.10171508789, 25004.141693115234, 31147.182556152344, 38980.08303833008, 46906.80307006836, 38897.4231262207, 73665.94470214844, 41898.76268005371, 28414.301971435547, 30718.442108154297, 33424.282623291016, 29007.38198852539, 35497.86260986328, 26408.881866455078, 22494.82162475586, 25690.061798095703, 29631.141998291016, 33327.52235412598, 29645.14239501953, 23936.88168334961, 21959.361694335938, 20401.881622314453, 20398.84147644043, 25416.421936035156, 22382.361602783203, 19609.461395263672, 22338.061492919922, 29575.44204711914, 20122.321487426758, 20873.68148803711, 20475.001525878906, 19687.661422729492, 17986.1212310791, 16909.581176757812, 17760.02130126953, 17154.881271362305, 17369.481216430664, 17000.50129699707, 14471.141006469727, 17327.96128845215, 15586.361099243164, 15192.34105682373, 16057.961143493652, 29432.862243652344, 21032.461456298828, 15778.50112915039, 13972.840942382812, 15361.26107788086, 14665.92106628418, 12983.740997314453, 16507.40118408203, 15164.080978393555, 16115.021049499512, 14670.80093383789, 11676.520835876465, 12641.240867614746, 14229.900955200195, 14026.561004638672, 13990.720977783203, 14917.441131591797, 14691.960952758789, 12988.200942993164, 13342.720916748047, 14266.48112487793, 13126.080932617188, 13007.560943603516, 15978.181114196777, 14954.541114807129, 12710.70083618164, 14045.280990600586, 14086.260986328125, 12927.800796508789, 10637.140739440918, 13033.880912780762, 13134.800857543945, 12264.380752563477, 13273.14094543457, 20100.661331176758, 12335.680953979492, 12561.440925598145, 19396.041259765625, 15101.360977172852, 15476.981079101562, 10396.680717468262, 12281.800918579102, 12049.680938720703, 11546.020881652832, 13140.541000366211, 14803.141014099121, 13260.220840454102, 15204.641082763672, 11739.30093383789, 10289.58073425293, 11749.400787353516, 12457.700866699219, 11174.560779571533, 12249.820945739746]}],                        {\"template\": {\"data\": {\"bar\": [{\"error_x\": {\"color\": \"#2a3f5f\"}, \"error_y\": {\"color\": \"#2a3f5f\"}, \"marker\": {\"line\": {\"color\": \"#E5ECF6\", \"width\": 0.5}}, \"type\": \"bar\"}], \"barpolar\": [{\"marker\": {\"line\": {\"color\": \"#E5ECF6\", \"width\": 0.5}}, \"type\": \"barpolar\"}], \"carpet\": [{\"aaxis\": {\"endlinecolor\": \"#2a3f5f\", \"gridcolor\": \"white\", \"linecolor\": \"white\", \"minorgridcolor\": \"white\", \"startlinecolor\": \"#2a3f5f\"}, \"baxis\": {\"endlinecolor\": \"#2a3f5f\", \"gridcolor\": \"white\", \"linecolor\": \"white\", \"minorgridcolor\": \"white\", \"startlinecolor\": \"#2a3f5f\"}, \"type\": \"carpet\"}], \"choropleth\": [{\"colorbar\": {\"outlinewidth\": 0, \"ticks\": \"\"}, \"type\": \"choropleth\"}], \"contour\": [{\"colorbar\": {\"outlinewidth\": 0, \"ticks\": \"\"}, \"colorscale\": [[0.0, \"#0d0887\"], [0.1111111111111111, \"#46039f\"], [0.2222222222222222, \"#7201a8\"], [0.3333333333333333, \"#9c179e\"], [0.4444444444444444, \"#bd3786\"], [0.5555555555555556, \"#d8576b\"], [0.6666666666666666, \"#ed7953\"], [0.7777777777777778, \"#fb9f3a\"], [0.8888888888888888, \"#fdca26\"], [1.0, \"#f0f921\"]], \"type\": \"contour\"}], \"contourcarpet\": [{\"colorbar\": {\"outlinewidth\": 0, \"ticks\": \"\"}, \"type\": \"contourcarpet\"}], \"heatmap\": [{\"colorbar\": {\"outlinewidth\": 0, \"ticks\": \"\"}, \"colorscale\": [[0.0, \"#0d0887\"], [0.1111111111111111, \"#46039f\"], [0.2222222222222222, \"#7201a8\"], [0.3333333333333333, \"#9c179e\"], [0.4444444444444444, \"#bd3786\"], [0.5555555555555556, \"#d8576b\"], [0.6666666666666666, \"#ed7953\"], [0.7777777777777778, \"#fb9f3a\"], [0.8888888888888888, \"#fdca26\"], [1.0, \"#f0f921\"]], \"type\": \"heatmap\"}], \"heatmapgl\": [{\"colorbar\": {\"outlinewidth\": 0, \"ticks\": \"\"}, \"colorscale\": [[0.0, \"#0d0887\"], [0.1111111111111111, \"#46039f\"], [0.2222222222222222, \"#7201a8\"], [0.3333333333333333, \"#9c179e\"], [0.4444444444444444, \"#bd3786\"], [0.5555555555555556, \"#d8576b\"], [0.6666666666666666, \"#ed7953\"], [0.7777777777777778, \"#fb9f3a\"], [0.8888888888888888, \"#fdca26\"], [1.0, \"#f0f921\"]], \"type\": \"heatmapgl\"}], \"histogram\": [{\"marker\": {\"colorbar\": {\"outlinewidth\": 0, \"ticks\": \"\"}}, \"type\": \"histogram\"}], \"histogram2d\": [{\"colorbar\": {\"outlinewidth\": 0, \"ticks\": \"\"}, \"colorscale\": [[0.0, \"#0d0887\"], [0.1111111111111111, \"#46039f\"], [0.2222222222222222, \"#7201a8\"], [0.3333333333333333, \"#9c179e\"], [0.4444444444444444, \"#bd3786\"], [0.5555555555555556, \"#d8576b\"], [0.6666666666666666, \"#ed7953\"], [0.7777777777777778, \"#fb9f3a\"], [0.8888888888888888, \"#fdca26\"], [1.0, \"#f0f921\"]], \"type\": \"histogram2d\"}], \"histogram2dcontour\": [{\"colorbar\": {\"outlinewidth\": 0, \"ticks\": \"\"}, \"colorscale\": [[0.0, \"#0d0887\"], [0.1111111111111111, \"#46039f\"], [0.2222222222222222, \"#7201a8\"], [0.3333333333333333, \"#9c179e\"], [0.4444444444444444, \"#bd3786\"], [0.5555555555555556, \"#d8576b\"], [0.6666666666666666, \"#ed7953\"], [0.7777777777777778, \"#fb9f3a\"], [0.8888888888888888, \"#fdca26\"], [1.0, \"#f0f921\"]], \"type\": \"histogram2dcontour\"}], \"mesh3d\": [{\"colorbar\": {\"outlinewidth\": 0, \"ticks\": \"\"}, \"type\": \"mesh3d\"}], \"parcoords\": [{\"line\": {\"colorbar\": {\"outlinewidth\": 0, \"ticks\": \"\"}}, \"type\": \"parcoords\"}], \"pie\": [{\"automargin\": true, \"type\": \"pie\"}], \"scatter\": [{\"marker\": {\"colorbar\": {\"outlinewidth\": 0, \"ticks\": \"\"}}, \"type\": \"scatter\"}], \"scatter3d\": [{\"line\": {\"colorbar\": {\"outlinewidth\": 0, \"ticks\": \"\"}}, \"marker\": {\"colorbar\": {\"outlinewidth\": 0, \"ticks\": \"\"}}, \"type\": \"scatter3d\"}], \"scattercarpet\": [{\"marker\": {\"colorbar\": {\"outlinewidth\": 0, \"ticks\": \"\"}}, \"type\": \"scattercarpet\"}], \"scattergeo\": [{\"marker\": {\"colorbar\": {\"outlinewidth\": 0, \"ticks\": \"\"}}, \"type\": \"scattergeo\"}], \"scattergl\": [{\"marker\": {\"colorbar\": {\"outlinewidth\": 0, \"ticks\": \"\"}}, \"type\": \"scattergl\"}], \"scattermapbox\": [{\"marker\": {\"colorbar\": {\"outlinewidth\": 0, \"ticks\": \"\"}}, \"type\": \"scattermapbox\"}], \"scatterpolar\": [{\"marker\": {\"colorbar\": {\"outlinewidth\": 0, \"ticks\": \"\"}}, \"type\": \"scatterpolar\"}], \"scatterpolargl\": [{\"marker\": {\"colorbar\": {\"outlinewidth\": 0, \"ticks\": \"\"}}, \"type\": \"scatterpolargl\"}], \"scatterternary\": [{\"marker\": {\"colorbar\": {\"outlinewidth\": 0, \"ticks\": \"\"}}, \"type\": \"scatterternary\"}], \"surface\": [{\"colorbar\": {\"outlinewidth\": 0, \"ticks\": \"\"}, \"colorscale\": [[0.0, \"#0d0887\"], [0.1111111111111111, \"#46039f\"], [0.2222222222222222, \"#7201a8\"], [0.3333333333333333, \"#9c179e\"], [0.4444444444444444, \"#bd3786\"], [0.5555555555555556, \"#d8576b\"], [0.6666666666666666, \"#ed7953\"], [0.7777777777777778, \"#fb9f3a\"], [0.8888888888888888, \"#fdca26\"], [1.0, \"#f0f921\"]], \"type\": \"surface\"}], \"table\": [{\"cells\": {\"fill\": {\"color\": \"#EBF0F8\"}, \"line\": {\"color\": \"white\"}}, \"header\": {\"fill\": {\"color\": \"#C8D4E3\"}, \"line\": {\"color\": \"white\"}}, \"type\": \"table\"}]}, \"layout\": {\"annotationdefaults\": {\"arrowcolor\": \"#2a3f5f\", \"arrowhead\": 0, \"arrowwidth\": 1}, \"coloraxis\": {\"colorbar\": {\"outlinewidth\": 0, \"ticks\": \"\"}}, \"colorscale\": {\"diverging\": [[0, \"#8e0152\"], [0.1, \"#c51b7d\"], [0.2, \"#de77ae\"], [0.3, \"#f1b6da\"], [0.4, \"#fde0ef\"], [0.5, \"#f7f7f7\"], [0.6, \"#e6f5d0\"], [0.7, \"#b8e186\"], [0.8, \"#7fbc41\"], [0.9, \"#4d9221\"], [1, \"#276419\"]], \"sequential\": [[0.0, \"#0d0887\"], [0.1111111111111111, \"#46039f\"], [0.2222222222222222, \"#7201a8\"], [0.3333333333333333, \"#9c179e\"], [0.4444444444444444, \"#bd3786\"], [0.5555555555555556, \"#d8576b\"], [0.6666666666666666, \"#ed7953\"], [0.7777777777777778, \"#fb9f3a\"], [0.8888888888888888, \"#fdca26\"], [1.0, \"#f0f921\"]], \"sequentialminus\": [[0.0, \"#0d0887\"], [0.1111111111111111, \"#46039f\"], [0.2222222222222222, \"#7201a8\"], [0.3333333333333333, \"#9c179e\"], [0.4444444444444444, \"#bd3786\"], [0.5555555555555556, \"#d8576b\"], [0.6666666666666666, \"#ed7953\"], [0.7777777777777778, \"#fb9f3a\"], [0.8888888888888888, \"#fdca26\"], [1.0, \"#f0f921\"]]}, \"colorway\": [\"#636efa\", \"#EF553B\", \"#00cc96\", \"#ab63fa\", \"#FFA15A\", \"#19d3f3\", \"#FF6692\", \"#B6E880\", \"#FF97FF\", \"#FECB52\"], \"font\": {\"color\": \"#2a3f5f\"}, \"geo\": {\"bgcolor\": \"white\", \"lakecolor\": \"white\", \"landcolor\": \"#E5ECF6\", \"showlakes\": true, \"showland\": true, \"subunitcolor\": \"white\"}, \"hoverlabel\": {\"align\": \"left\"}, \"hovermode\": \"closest\", \"mapbox\": {\"style\": \"light\"}, \"paper_bgcolor\": \"white\", \"plot_bgcolor\": \"#E5ECF6\", \"polar\": {\"angularaxis\": {\"gridcolor\": \"white\", \"linecolor\": \"white\", \"ticks\": \"\"}, \"bgcolor\": \"#E5ECF6\", \"radialaxis\": {\"gridcolor\": \"white\", \"linecolor\": \"white\", \"ticks\": \"\"}}, \"scene\": {\"xaxis\": {\"backgroundcolor\": \"#E5ECF6\", \"gridcolor\": \"white\", \"gridwidth\": 2, \"linecolor\": \"white\", \"showbackground\": true, \"ticks\": \"\", \"zerolinecolor\": \"white\"}, \"yaxis\": {\"backgroundcolor\": \"#E5ECF6\", \"gridcolor\": \"white\", \"gridwidth\": 2, \"linecolor\": \"white\", \"showbackground\": true, \"ticks\": \"\", \"zerolinecolor\": \"white\"}, \"zaxis\": {\"backgroundcolor\": \"#E5ECF6\", \"gridcolor\": \"white\", \"gridwidth\": 2, \"linecolor\": \"white\", \"showbackground\": true, \"ticks\": \"\", \"zerolinecolor\": \"white\"}}, \"shapedefaults\": {\"line\": {\"color\": \"#2a3f5f\"}}, \"ternary\": {\"aaxis\": {\"gridcolor\": \"white\", \"linecolor\": \"white\", \"ticks\": \"\"}, \"baxis\": {\"gridcolor\": \"white\", \"linecolor\": \"white\", \"ticks\": \"\"}, \"bgcolor\": \"#E5ECF6\", \"caxis\": {\"gridcolor\": \"white\", \"linecolor\": \"white\", \"ticks\": \"\"}}, \"title\": {\"x\": 0.05}, \"xaxis\": {\"automargin\": true, \"gridcolor\": \"white\", \"linecolor\": \"white\", \"ticks\": \"\", \"title\": {\"standoff\": 15}, \"zerolinecolor\": \"white\", \"zerolinewidth\": 2}, \"yaxis\": {\"automargin\": true, \"gridcolor\": \"white\", \"linecolor\": \"white\", \"ticks\": \"\", \"title\": {\"standoff\": 15}, \"zerolinecolor\": \"white\", \"zerolinewidth\": 2}}}},                        {\"responsive\": true}                    ).then(function(){\n",
       "                            \n",
       "var gd = document.getElementById('40ba56ab-b18c-4ecd-b880-f929f44d385b');\n",
       "var x = new MutationObserver(function (mutations, observer) {{\n",
       "        var display = window.getComputedStyle(gd).display;\n",
       "        if (!display || display === 'none') {{\n",
       "            console.log([gd, 'removed!']);\n",
       "            Plotly.purge(gd);\n",
       "            observer.disconnect();\n",
       "        }}\n",
       "}});\n",
       "\n",
       "// Listen for the removal of the full notebook cells\n",
       "var notebookContainer = gd.closest('#notebook-container');\n",
       "if (notebookContainer) {{\n",
       "    x.observe(notebookContainer, {childList: true});\n",
       "}}\n",
       "\n",
       "// Listen for the clearing of the current output cell\n",
       "var outputEl = gd.closest('.output');\n",
       "if (outputEl) {{\n",
       "    x.observe(outputEl, {childList: true});\n",
       "}}\n",
       "\n",
       "                        })                };                });            </script>        </div>"
      ]
     },
     "metadata": {},
     "output_type": "display_data"
    }
   ],
   "source": [
    "#Plotting functions\n",
    "\n",
    "def plot_transition_vs_intensity(df):\n",
    "    fig = px.bar(df, x=\"Transition\", y=\"Intensity\", color=\"Lipid\", hover_data=['Lipid', 'Class'])\n",
    "    fig.show()\n",
    "\n",
    "def plot_class_vs_intensity_bar(df):\n",
    "    fig = px.bar(df, x=\"Class\", y=\"Intensity\", color=\"Class\", hover_data=['Lipid', 'Class'])\n",
    "    fig.show()\n",
    "\n",
    "def plot_class_vs_intensity_pie(df):\n",
    "    fig = px.pie(df, values='Intensity', names='Class', title='Lipid Class')\n",
    "    fig.show()\n",
    "\n",
    "def plot_intensity_heatmap(df):\n",
    "    fig = go.Figure(data=go.Heatmap(\n",
    "        z=df['Intensity'],\n",
    "        x=df['Lipid'],\n",
    "        y=df['Class'],\n",
    "        colorscale='Viridis'))\n",
    "    fig.show()\n",
    "\n",
    "# Example usage:\n",
    "# Assuming you have the df_matching DataFrame\n",
    "plot_transition_vs_intensity(df_matched)\n",
    "plot_class_vs_intensity_bar(df_matched)\n",
    "plot_class_vs_intensity_pie(df_matched)\n",
    "plot_intensity_heatmap(df_matched)\n"
   ]
  },
  {
   "cell_type": "code",
   "execution_count": null,
   "metadata": {},
   "outputs": [],
   "source": []
  }
 ],
 "metadata": {
  "kernelspec": {
   "display_name": "Python 3 (ipykernel)",
   "language": "python",
   "name": "python3"
  },
  "language_info": {
   "codemirror_mode": {
    "name": "ipython",
    "version": 3
   },
   "file_extension": ".py",
   "mimetype": "text/x-python",
   "name": "python",
   "nbconvert_exporter": "python",
   "pygments_lexer": "ipython3",
   "version": "3.9.15"
  },
  "vscode": {
   "interpreter": {
    "hash": "7f59e923a9cab402a21ecdd8c8501a7d121113b28792a99acb445fcdcb4f42c3"
   }
  }
 },
 "nbformat": 4,
 "nbformat_minor": 2
}
