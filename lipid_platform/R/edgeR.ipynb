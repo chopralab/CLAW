{
 "cells": [
  {
   "cell_type": "code",
   "execution_count": 3,
   "metadata": {},
   "outputs": [
    {
     "ename": "NameError",
     "evalue": "name 'install' is not defined",
     "output_type": "error",
     "traceback": [
      "\u001b[0;31m---------------------------------------------------------------------------\u001b[0m",
      "\u001b[0;31mNameError\u001b[0m                                 Traceback (most recent call last)",
      "Cell \u001b[0;32mIn[3], line 1\u001b[0m\n\u001b[0;32m----> 1\u001b[0m install\u001b[39m.\u001b[39mpackages(\u001b[39m\"\u001b[39m\u001b[39mlanguageserver\u001b[39m\u001b[39m\"\u001b[39m)\n\u001b[1;32m      3\u001b[0m library(plyr)\n\u001b[1;32m      4\u001b[0m library(ggridges)\n",
      "\u001b[0;31mNameError\u001b[0m: name 'install' is not defined"
     ]
    }
   ],
   "source": [
    "library(plyr)\n",
    "library(ggridges)\n",
    "library(tidyverse)\n",
    "library(readxl)\n",
    "library(edgeR)\n",
    "library(tidyverse)\n",
    "\n",
    "\n",
    "library(ggsignif)\n",
    "library(stringr)\n",
    "library(reshape2)\n",
    "library(gtools)\n",
    "library(tidyr)\n",
    "library(ggbeeswarm) #https://github.com/eclarke/ggbeeswarm\n",
    "library(ggrepel)\n",
    "library(scales)\n",
    "\n",
    "library(ggplot2)\n",
    "#library(ggExtra) #https://cran.r-project.org/web/packages/ggExtra/vignettes/ggExtra.html\n",
    "\n",
    "library(cowplot)\n",
    "library(ggridges)\n",
    "\n",
    "# library(limma)\n",
    "# library(writexl)\n",
    "\n",
    "\n",
    "\n",
    "getwd()\n"
   ]
  }
 ],
 "metadata": {
  "kernelspec": {
   "display_name": "R",
   "language": "python",
   "name": "python3"
  },
  "language_info": {
   "codemirror_mode": {
    "name": "ipython",
    "version": 3
   },
   "file_extension": ".py",
   "mimetype": "text/x-python",
   "name": "python",
   "nbconvert_exporter": "python",
   "pygments_lexer": "ipython3",
   "version": "3.11.4"
  },
  "orig_nbformat": 4
 },
 "nbformat": 4,
 "nbformat_minor": 2
}
