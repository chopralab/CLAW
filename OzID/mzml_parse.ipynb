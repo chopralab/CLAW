{
 "cells": [
  {
   "cell_type": "code",
   "execution_count": 2,
   "metadata": {},
   "outputs": [
    {
     "ename": "ModuleNotFoundError",
     "evalue": "No module named 'dimepy'",
     "output_type": "error",
     "traceback": [
      "\u001b[0;31m---------------------------------------------------------------------------\u001b[0m",
      "\u001b[0;31mModuleNotFoundError\u001b[0m                       Traceback (most recent call last)",
      "\u001b[1;32m/home/sanjay/github/lipids/Lipidomics/OzID/mzml_parse.ipynb Cell 1\u001b[0m in \u001b[0;36m<cell line: 4>\u001b[0;34m()\u001b[0m\n\u001b[1;32m      <a href='vscode-notebook-cell://wsl%2Bubuntu-20.04/home/sanjay/github/lipids/Lipidomics/OzID/mzml_parse.ipynb#W0sdnNjb2RlLXJlbW90ZQ%3D%3D?line=1'>2</a>\u001b[0m \u001b[39mimport\u001b[39;00m \u001b[39mpandas\u001b[39;00m \u001b[39mas\u001b[39;00m \u001b[39mpd\u001b[39;00m\n\u001b[1;32m      <a href='vscode-notebook-cell://wsl%2Bubuntu-20.04/home/sanjay/github/lipids/Lipidomics/OzID/mzml_parse.ipynb#W0sdnNjb2RlLXJlbW90ZQ%3D%3D?line=2'>3</a>\u001b[0m \u001b[39mimport\u001b[39;00m \u001b[39mscipy\u001b[39;00m \u001b[39mas\u001b[39;00m \u001b[39mpy\u001b[39;00m\n\u001b[0;32m----> <a href='vscode-notebook-cell://wsl%2Bubuntu-20.04/home/sanjay/github/lipids/Lipidomics/OzID/mzml_parse.ipynb#W0sdnNjb2RlLXJlbW90ZQ%3D%3D?line=3'>4</a>\u001b[0m \u001b[39mimport\u001b[39;00m \u001b[39mdimepy\u001b[39;00m\n",
      "\u001b[0;31mModuleNotFoundError\u001b[0m: No module named 'dimepy'"
     ]
    }
   ],
   "source": [
    "import numpy as np\n",
    "import pandas as pd\n",
    "import scipy as py\n"
   ]
  },
  {
   "cell_type": "code",
   "execution_count": 4,
   "metadata": {},
   "outputs": [
    {
     "name": "stdout",
     "output_type": "stream",
     "text": [
      "Processing of --ip=127.0.0.1 failed; raised Error reading file '--ip=127.0.0.1': failed to load external entity \"--ip=127.0.0.1\"\n",
      "Processing of --stdin=9008 failed; raised Error reading file '--stdin=9008': failed to load external entity \"--stdin=9008\"\n",
      "Processing of --control=9006 failed; raised Error reading file '--control=9006': failed to load external entity \"--control=9006\"\n",
      "Processing of --hb=9005 failed; raised Error reading file '--hb=9005': failed to load external entity \"--hb=9005\"\n",
      "Processing of --Session.signature_scheme=\"hmac-sha256\" failed; raised Error reading file '--Session.signature_scheme=\"hmac-sha256\"': failed to load external entity \"--Session.signature_scheme=\"hmac-sha256\"\"\n",
      "Processing of --Session.key=b\"0d9b3aa4-868b-475c-b14e-a0d08c942bb8\" failed; raised Error reading file '--Session.key=b\"0d9b3aa4-868b-475c-b14e-a0d08c942bb8\"': failed to load external entity \"--Session.key=b\"0d9b3aa4-868b-475c-b14e-a0d08c942bb8\"\"\n",
      "Processing of --shell=9007 failed; raised Error reading file '--shell=9007': failed to load external entity \"--shell=9007\"\n",
      "Processing of --transport=\"tcp\" failed; raised Error reading file '--transport=\"tcp\"': failed to load external entity \"--transport=\"tcp\"\"\n",
      "Processing of --iopub=9009 failed; raised Error reading file '--iopub=9009': failed to load external entity \"--iopub=9009\"\n",
      "Processing of --f=/home/sanjay/.local/share/jupyter/runtime/kernel-v2-130e7uXcTS48aiC.json failed; raised Error reading file '--f=/home/sanjay/.local/share/jupyter/runtime/kernel-v2-130e7uXcTS48aiC.json': failed to load external entity \"--f=/home/sanjay/.local/share/jupyter/runtime/kernel-v2-130e7uXcTS48aiC.json\"\n"
     ]
    }
   ],
   "source": [
    "import sys\n",
    "import base64\n",
    "import zlib\n",
    "import re\n",
    "import numpy as np\n",
    "import pandas as pd\n",
    "from lxml import etree\n",
    "\n",
    "def convert_to_safe_filename(string):\n",
    "    #replace all not alphanum chars with underscore\n",
    "    return re.sub(r'[^a-zA-Z0-9]', '_', string)\n",
    "\n",
    "def run(file):\n",
    "    #parse mzML and read namespace\n",
    "    mzml = etree.parse(file)\n",
    "    namespace = mzml.getroot().nsmap\n",
    "    \n",
    "    #iterate through pressure chromatograms\n",
    "    for chrom in mzml.findall('//chromatogram/cvParam[@accession=\"MS:1003019\"]/..', namespaces=namespace):\n",
    "        chrom_name = chrom.get('id')\n",
    "        decoded_arrays = dict()\n",
    "        #iterate through binary arrays\n",
    "        for array in chrom.findall('binaryDataArrayList/binaryDataArray', namespaces=namespace):\n",
    "            #decode binary data\n",
    "            binary = base64.b64decode(array.find('binary', namespaces=namespace).text.encode('ascii'))\n",
    "            \n",
    "            #parsing array parameters (quick and dirty approach)\n",
    "            #set all to None\n",
    "            kind = None\n",
    "            compression = None\n",
    "            size = None\n",
    "            \n",
    "            for param in array.findall('cvParam', namespaces=namespace):\n",
    "                name = param.get('name').split()\n",
    "                if name[-1] == 'array':\n",
    "                    kind = name[0]\n",
    "                elif name[-1] == 'compression':\n",
    "                    compression = name[0]\n",
    "                elif name[-1] == 'float':\n",
    "                    size = name[0]\n",
    "            \n",
    "            #try parsing binary format\n",
    "            if size == '64-bit':\n",
    "                datatype='float64'\n",
    "            elif size == '32-bit':\n",
    "                datatype='float32'\n",
    "            else:\n",
    "                raise ValueError(f'Unknown binary format {size}')\n",
    "            \n",
    "            #try parsing compression and decode the array\n",
    "            if compression == 'zlib':\n",
    "                decoded_array = np.frombuffer(zlib.decompress(binary), dtype=datatype)\n",
    "            elif compression == 'no':\n",
    "                decoded_array = np.frombuffer(binary, dtype=datatype)\n",
    "            else:\n",
    "                raise ValueError(f'Cannot parse compression from {compression}')\n",
    "            \n",
    "            if not kind is None:\n",
    "                decoded_arrays[kind] = decoded_array\n",
    "            else:\n",
    "                raise ValueError(f'Kind of array is not set')\n",
    "                \n",
    "        csv_path = file.replace('.mzML', f'_{convert_to_safe_filename(chrom_name)}.csv')\n",
    "        pd.DataFrame(decoded_arrays).to_csv(csv_path, index=False)\n",
    "\n",
    "if __name__ == '__main__':\n",
    "    for file in sys.argv[1:]:\n",
    "        try:\n",
    "            run(file)\n",
    "        except Exception as e:\n",
    "            print (f'Processing of {file} failed; raised {e}')"
   ]
  },
  {
   "cell_type": "code",
   "execution_count": 16,
   "metadata": {},
   "outputs": [
    {
     "name": "stdout",
     "output_type": "stream",
     "text": [
      "mzml.mzML\n",
      "<pymzml.run.Reader object at 0x7f065f8ee130>\n"
     ]
    }
   ],
   "source": [
    "#!/home/tiago/anaconda3_old/bin/python\n",
    "import pymzml\n",
    "import re\n",
    "import os\n",
    "#folder of mzml\n",
    "lst=os.listdir('/home/sanjay/github/lipids/Lipidomics/OzID')\n",
    "\n",
    "for file in lst:\n",
    "    if file.endswith('.mzML'):\n",
    "        out = file.split(\".\")[0]+'.csv'\n",
    "        #print (out)\n",
    "\n",
    "        out_file=open(\"mzml\"+out, 'w+')\n",
    "        \n",
    "        f = file\n",
    "        print (f)\n",
    "\n",
    "        msrun = pymzml.run.Reader(f)\n",
    "        print(msrun)\n",
    "\n",
    "\n",
    "\n",
    "        for spectrum in msrun:\n",
    "            # exit()\n",
    "            # continue\n",
    "            m = re.search(\"Q1=([\\d\\.]+) Q3=([\\d\\.]+)\", spectrum['id'])\n",
    "            if m:\n",
    "                out_file.write (\"%s -> %s\\n\" %(m.group(1), m.group(2)) )\n",
    "                out_file.write (\",X(Minutes),Y(Counts)\\n\")\n",
    "                cont = 0\n",
    "                for mz, i in spectrum.peaks:\n",
    "                    out_file.write (\"%i,%s,%s\\n\" % (cont,mz, i))\n",
    "                    cont = cont+1"
   ]
  },
  {
   "cell_type": "code",
   "execution_count": 3,
   "metadata": {},
   "outputs": [
    {
     "name": "stdout",
     "output_type": "stream",
     "text": [
      "output/mzml.mzML\n"
     ]
    },
    {
     "ename": "OSError",
     "evalue": "Could not find obo file /home/sanjay/anaconda3/envs/lipid/lib/python3.7/site-packages/pymzml/obo/psi-ms-4.1.41.obo",
     "output_type": "error",
     "traceback": [
      "\u001b[0;31m---------------------------------------------------------------------------\u001b[0m",
      "\u001b[0;31mOSError\u001b[0m                                   Traceback (most recent call last)",
      "\u001b[0;32m/tmp/ipykernel_2049/1160348768.py\u001b[0m in \u001b[0;36m<module>\u001b[0;34m\u001b[0m\n\u001b[1;32m     16\u001b[0m         \u001b[0mprint\u001b[0m \u001b[0;34m(\u001b[0m\u001b[0mf\u001b[0m\u001b[0;34m)\u001b[0m\u001b[0;34m\u001b[0m\u001b[0;34m\u001b[0m\u001b[0m\n\u001b[1;32m     17\u001b[0m \u001b[0;34m\u001b[0m\u001b[0m\n\u001b[0;32m---> 18\u001b[0;31m         \u001b[0mmsrun\u001b[0m \u001b[0;34m=\u001b[0m \u001b[0mpymzml\u001b[0m\u001b[0;34m.\u001b[0m\u001b[0mrun\u001b[0m\u001b[0;34m.\u001b[0m\u001b[0mReader\u001b[0m\u001b[0;34m(\u001b[0m\u001b[0mf\u001b[0m\u001b[0;34m)\u001b[0m\u001b[0;34m\u001b[0m\u001b[0;34m\u001b[0m\u001b[0m\n\u001b[0m\u001b[1;32m     19\u001b[0m         \u001b[0mprint\u001b[0m\u001b[0;34m(\u001b[0m\u001b[0mmsrun\u001b[0m\u001b[0;34m)\u001b[0m\u001b[0;34m\u001b[0m\u001b[0;34m\u001b[0m\u001b[0m\n\u001b[1;32m     20\u001b[0m \u001b[0;34m\u001b[0m\u001b[0m\n",
      "\u001b[0;32m~/anaconda3/envs/lipid/lib/python3.7/site-packages/pymzml/run.py\u001b[0m in \u001b[0;36m__init__\u001b[0;34m(self, path, noiseThreshold, extraAccessions, MS1_Precision, MSn_Precision, build_index_from_scratch, file_object, obo_version)\u001b[0m\n\u001b[1;32m    161\u001b[0m \u001b[0;34m\u001b[0m\u001b[0m\n\u001b[1;32m    162\u001b[0m         \u001b[0mself\u001b[0m\u001b[0;34m.\u001b[0m\u001b[0miter\u001b[0m \u001b[0;34m=\u001b[0m \u001b[0mself\u001b[0m\u001b[0;34m.\u001b[0m\u001b[0m__init_iter\u001b[0m\u001b[0;34m(\u001b[0m\u001b[0;34m)\u001b[0m\u001b[0;34m\u001b[0m\u001b[0;34m\u001b[0m\u001b[0m\n\u001b[0;32m--> 163\u001b[0;31m         \u001b[0mself\u001b[0m\u001b[0;34m.\u001b[0m\u001b[0mOT\u001b[0m \u001b[0;34m=\u001b[0m \u001b[0mself\u001b[0m\u001b[0;34m.\u001b[0m\u001b[0m__init_obo_translator\u001b[0m\u001b[0;34m(\u001b[0m\u001b[0mextraAccessions\u001b[0m\u001b[0;34m)\u001b[0m\u001b[0;34m\u001b[0m\u001b[0;34m\u001b[0m\u001b[0m\n\u001b[0m\u001b[1;32m    164\u001b[0m         \u001b[0;32mreturn\u001b[0m\u001b[0;34m\u001b[0m\u001b[0;34m\u001b[0m\u001b[0m\n\u001b[1;32m    165\u001b[0m \u001b[0;34m\u001b[0m\u001b[0m\n",
      "\u001b[0;32m~/anaconda3/envs/lipid/lib/python3.7/site-packages/pymzml/run.py\u001b[0m in \u001b[0;36m__init_obo_translator\u001b[0;34m(self, extraAccessions)\u001b[0m\n\u001b[1;32m    477\u001b[0m             self.param['accessions'][minimumMS] = {\n\u001b[1;32m    478\u001b[0m                 \u001b[0;34m'valuesToExtract'\u001b[0m\u001b[0;34m:\u001b[0m \u001b[0mListOfvaluesToExtract\u001b[0m\u001b[0;34m,\u001b[0m\u001b[0;34m\u001b[0m\u001b[0;34m\u001b[0m\u001b[0m\n\u001b[0;32m--> 479\u001b[0;31m                 \u001b[0;34m'name'\u001b[0m\u001b[0;34m:\u001b[0m \u001b[0mobo_translator\u001b[0m\u001b[0;34m[\u001b[0m\u001b[0mminimumMS\u001b[0m\u001b[0;34m]\u001b[0m\u001b[0;34m,\u001b[0m\u001b[0;34m\u001b[0m\u001b[0;34m\u001b[0m\u001b[0m\n\u001b[0m\u001b[1;32m    480\u001b[0m                 \u001b[0;34m'values'\u001b[0m\u001b[0;34m:\u001b[0m \u001b[0;34m[\u001b[0m\u001b[0;34m]\u001b[0m\u001b[0;34m\u001b[0m\u001b[0;34m\u001b[0m\u001b[0m\n\u001b[1;32m    481\u001b[0m             }\n",
      "\u001b[0;32m~/anaconda3/envs/lipid/lib/python3.7/site-packages/pymzml/obo.py\u001b[0m in \u001b[0;36m__getitem__\u001b[0;34m(self, key)\u001b[0m\n\u001b[1;32m     86\u001b[0m     \u001b[0;32mdef\u001b[0m \u001b[0m__getitem__\u001b[0m\u001b[0;34m(\u001b[0m\u001b[0mself\u001b[0m\u001b[0;34m,\u001b[0m \u001b[0mkey\u001b[0m\u001b[0;34m)\u001b[0m\u001b[0;34m:\u001b[0m\u001b[0;34m\u001b[0m\u001b[0;34m\u001b[0m\u001b[0m\n\u001b[1;32m     87\u001b[0m         \u001b[0;32mif\u001b[0m \u001b[0;32mnot\u001b[0m \u001b[0mself\u001b[0m\u001b[0;34m.\u001b[0m\u001b[0m__obo_parsed\u001b[0m\u001b[0;34m:\u001b[0m\u001b[0;34m\u001b[0m\u001b[0;34m\u001b[0m\u001b[0m\n\u001b[0;32m---> 88\u001b[0;31m             \u001b[0mself\u001b[0m\u001b[0;34m.\u001b[0m\u001b[0mparseOBO\u001b[0m\u001b[0;34m(\u001b[0m\u001b[0;34m)\u001b[0m\u001b[0;34m\u001b[0m\u001b[0;34m\u001b[0m\u001b[0m\n\u001b[0m\u001b[1;32m     89\u001b[0m \u001b[0;34m\u001b[0m\u001b[0m\n\u001b[1;32m     90\u001b[0m         \u001b[0;32mfor\u001b[0m \u001b[0mlookup\u001b[0m \u001b[0;32min\u001b[0m \u001b[0mself\u001b[0m\u001b[0;34m.\u001b[0m\u001b[0mlookups\u001b[0m\u001b[0;34m:\u001b[0m\u001b[0;34m\u001b[0m\u001b[0;34m\u001b[0m\u001b[0m\n",
      "\u001b[0;32m~/anaconda3/envs/lipid/lib/python3.7/site-packages/pymzml/obo.py\u001b[0m in \u001b[0;36mparseOBO\u001b[0;34m(self)\u001b[0m\n\u001b[1;32m    165\u001b[0m                             \u001b[0mcollections\u001b[0m\u001b[0;34m[\u001b[0m\u001b[0mline\u001b[0m\u001b[0;34m[\u001b[0m\u001b[0;34m:\u001b[0m\u001b[0mk\u001b[0m\u001b[0;34m]\u001b[0m\u001b[0;34m]\u001b[0m \u001b[0;34m=\u001b[0m \u001b[0mline\u001b[0m\u001b[0;34m[\u001b[0m\u001b[0mk\u001b[0m \u001b[0;34m+\u001b[0m \u001b[0;36m1\u001b[0m\u001b[0;34m:\u001b[0m\u001b[0;34m]\u001b[0m\u001b[0;34m.\u001b[0m\u001b[0mstrip\u001b[0m\u001b[0;34m(\u001b[0m\u001b[0;34m)\u001b[0m\u001b[0;34m\u001b[0m\u001b[0;34m\u001b[0m\u001b[0m\n\u001b[1;32m    166\u001b[0m         \u001b[0;32melse\u001b[0m\u001b[0;34m:\u001b[0m\u001b[0;34m\u001b[0m\u001b[0;34m\u001b[0m\u001b[0m\n\u001b[0;32m--> 167\u001b[0;31m             \u001b[0;32mraise\u001b[0m \u001b[0mIOError\u001b[0m\u001b[0;34m(\u001b[0m\u001b[0;34m\"Could not find obo file {0}\"\u001b[0m\u001b[0;34m.\u001b[0m\u001b[0mformat\u001b[0m\u001b[0;34m(\u001b[0m\u001b[0mobo_file\u001b[0m\u001b[0;34m)\u001b[0m\u001b[0;34m)\u001b[0m\u001b[0;34m\u001b[0m\u001b[0;34m\u001b[0m\u001b[0m\n\u001b[0m\u001b[1;32m    168\u001b[0m \u001b[0;34m\u001b[0m\u001b[0m\n\u001b[1;32m    169\u001b[0m         \u001b[0;32mreturn\u001b[0m\u001b[0;34m\u001b[0m\u001b[0;34m\u001b[0m\u001b[0m\n",
      "\u001b[0;31mOSError\u001b[0m: Could not find obo file /home/sanjay/anaconda3/envs/lipid/lib/python3.7/site-packages/pymzml/obo/psi-ms-4.1.41.obo"
     ]
    }
   ],
   "source": [
    "#!/home/tiago/anaconda3_old/bin/python\n",
    "import pymzml\n",
    "import re\n",
    "import os\n",
    "#folder of mzml\n",
    "lst=os.listdir('/home/sanjay/github/lipids/Lipidomics/OzID')\n",
    "\n",
    "for file in lst:\n",
    "    if file.endswith('.mzML'):\n",
    "        out = file.split(\".\")[0]+'.csv'\n",
    "        #print (out)\n",
    "\n",
    "        out_file=open(\"output/\"+out, 'w+')\n",
    "        \n",
    "        f = 'output/'+file\n",
    "        print (f)\n",
    "\n",
    "        msrun = pymzml.run.Reader(f)\n",
    "        print(msrun)\n",
    "\n",
    "\n",
    "\n",
    "        for spectrum in msrun:\n",
    "            # exit()\n",
    "            # continue\n",
    "            m = re.search(\"Q1=([\\d\\.]+) Q3=([\\d\\.]+)\", spectrum['id'])\n",
    "            if m:\n",
    "                out_file.write (\"%s -> %s\\n\" %(m.group(1), m.group(2)) )\n",
    "                out_file.write (\",X(Minutes),Y(Counts)\\n\")\n",
    "                cont = 0\n",
    "                for mz, i in spectrum.peaks:\n",
    "                    out_file.write (\"%i,%s,%s\\n\" % (cont,mz, i))\n",
    "                    cont = cont+1\n",
    "\n",
    "\n",
    "\n",
    "\n"
   ]
  },
  {
   "cell_type": "code",
   "execution_count": 11,
   "metadata": {},
   "outputs": [
    {
     "data": {
      "text/plain": [
       "'/home/sanjay/github/lipids/Lipidomics/OzID'"
      ]
     },
     "execution_count": 11,
     "metadata": {},
     "output_type": "execute_result"
    }
   ],
   "source": [
    "pwd"
   ]
  }
 ],
 "metadata": {
  "kernelspec": {
   "display_name": "Python 3.7.0 ('lipid': conda)",
   "language": "python",
   "name": "python3"
  },
  "language_info": {
   "codemirror_mode": {
    "name": "ipython",
    "version": 3
   },
   "file_extension": ".py",
   "mimetype": "text/x-python",
   "name": "python",
   "nbconvert_exporter": "python",
   "pygments_lexer": "ipython3",
   "version": "3.7.13"
  },
  "orig_nbformat": 4,
  "vscode": {
   "interpreter": {
    "hash": "cb1264115753e52f6112c0bc91d16c8501f709dd0dec0073b24fb223efb4956d"
   }
  }
 },
 "nbformat": 4,
 "nbformat_minor": 2
}
