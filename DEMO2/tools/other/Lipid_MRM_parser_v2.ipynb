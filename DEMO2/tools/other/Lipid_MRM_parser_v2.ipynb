{
 "cells": [
  {
   "cell_type": "markdown",
   "metadata": {},
   "source": [
    "# Comprehensive Lipidome Automation Workflow (CLAW)\n",
    "\n",
    "Welcome to CLAW, a tool designed to facilitate and optimize the processing of lipidomic MRM data. This Jupyter notebook encapsulates a suite of tools that streamline the various stages of lipidomics data analysis.\n",
    "\n",
    "Our toolset enables users to efficiently process MRM data files in the mzML format. Upload a file and CLAW will parse the data into a structured Pandas dataframe. This dataframe includes critical information like sample_ID, MRM transition, and signal intensity. Furthermore, our tool aligns each MRM transition with a default or custom lipid_database for accurate and swift annotation.\n",
    "\n",
    "Moreover, CLAW is equipped with an OzESI option, a tool to elucidate the double bond location in lipid isomers. This feature allows users to input OzESI data and pinpoint the precise location of double bonds in isomeric lipids. Users have the flexibility to select which double bond locations they want to analyze. Following this, CLAW autonomously predicts potential m/z values and cross-references these predictions with sample data, ensuring a comprehensive and meticulous analysis.\n",
    "\n",
    "With automation at its core, CLAW eliminates the need for manual data processing, significantly reducing time expenditure. It is a robust and invaluable tool for handling large volumes of lipid MRM data, accelerating scientific discovery in the field of lipidomics."
   ]
  },
  {
   "cell_type": "markdown",
   "metadata": {},
   "source": [
    "Import all necessary libraries"
   ]
  },
  {
   "cell_type": "code",
   "execution_count": 1,
   "metadata": {},
   "outputs": [
    {
     "name": "stdout",
     "output_type": "stream",
     "text": [
      "No module named 'ms_deisotope._c.averagine' averagine\n",
      "No module named 'ms_deisotope._c.scoring'\n",
      "No module named 'ms_deisotope._c.deconvoluter_base'\n",
      "No module named 'ms_deisotope._c.deconvoluter_base'\n",
      "No module named 'ms_deisotope._c.deconvoluter_base'\n"
     ]
    }
   ],
   "source": [
    "# Standard library imports\n",
    "import csv\n",
    "import json\n",
    "import math\n",
    "import os\n",
    "import re\n",
    "import time\n",
    "import warnings\n",
    "\n",
    "# Third-party imports\n",
    "import ipywidgets as widgets\n",
    "import matplotlib.colors as mcolors\n",
    "import matplotlib.pyplot as plt\n",
    "import numpy as np\n",
    "import pandas as pd\n",
    "import plotly.express as px\n",
    "import plotly.graph_objs as go\n",
    "import plotly.io as pio\n",
    "import pymzml\n",
    "from IPython.display import Image, clear_output, display\n",
    "from collections import defaultdict\n",
    "\n",
    "# Custom Scripts\n",
    "from NO_AVERAGE_SCRIPTS import (average_pie_chart_no_repeats,\n",
    "                                filter_dataframe, full_parse,\n",
    "                                hex_to_rgba_hex, json_to_string,\n",
    "                                make_bar_plot_comparisons,\n",
    "                                make_pie_chart_no_replicates,\n",
    "                                prep_edge_R)\n",
    "\n",
    "# GUI tools\n",
    "from tools.GUI import (assign_blank, display_pair_widgets, filter_samples,\n",
    "                       folder_navigator, get_unique_json_objects, \n",
    "                       load_blank_name, load_data, load_data_labels, \n",
    "                       load_project_folder, remove_empty_entries)\n",
    "\n",
    "# Parsing tools\n",
    "from tools.parsing import add_suffix\n",
    "\n",
    "# Pre-folder path\n",
    "Pre_folder = './Projects/'\n"
   ]
  },
  {
   "cell_type": "markdown",
   "metadata": {},
   "source": [
    "In the given Python code snippet, various parameters and flags are set which configure the execution of a lipidomic data parsing and visualization process. The name of the output file (file_name_to_save) is set to 'TEST' and an additional descriptor (extra_name) is assigned as 'Blank1'. The tolerance for acceptable error during data parsing is set to 0.1. Flags for whether to remove standard deviation values from the dataset (remove_std), whether to save the processed data (save_data), whether to load pre-existing parsed data (load_previously_parsed), and whether to utilize a custom dataset (custom_data) are all set to True"
   ]
  },
  {
   "cell_type": "code",
   "execution_count": 2,
   "metadata": {},
   "outputs": [],
   "source": [
    "file_name_to_save = 'TEST' # Specifies the output file name\n",
    "extra_name = \"Blank1\" # Additional descriptor for the output file\n",
    "tolerance = 0.1 # Acceptable error level for data parsing\n",
    "remove_std = True # Flag to decide if standard deviation values should be removed\n",
    "save_data= True # Flag to decide if processed data should be saved\n",
    "load_previously_parsed = True # Flag to decide if pre-existing parsed data should be loaded\n",
    "custom_data=True # Flag to decide if a custom dataset should be used"
   ]
  },
  {
   "cell_type": "markdown",
   "metadata": {},
   "source": [
    "**Project Organization and Data Preparation Summary**\n",
    "\n",
    "This section of the code primarily focuses on project organization, sample labelling, and data preparation. Initially, it employs a folder navigation system to manually select the desired project folder. It then loads the relevant files like mzml files, lipid database, and label file from their respective directories within the chosen project folder. Unique samples are identified and a 'blank sample' is assigned for further analysis. The label data is further refined by filtering the samples and removing unnecessary columns. Finally, it prepares a list of labels, inclusive of \"Class\" and \"Lipid\" for the subsequent steps of the analysis."
   ]
  },
  {
   "cell_type": "code",
   "execution_count": 4,
   "metadata": {
    "scrolled": false
   },
   "outputs": [
    {
     "data": {
      "application/vnd.jupyter.widget-view+json": {
       "model_id": "2f9e1bf5699848148df7994e4c3890e7",
       "version_major": 2,
       "version_minor": 0
      },
      "text/plain": [
       "Button(description='Navigate', style=ButtonStyle())"
      ]
     },
     "metadata": {},
     "output_type": "display_data"
    },
    {
     "data": {
      "application/vnd.jupyter.widget-view+json": {
       "model_id": "b5985dcba74440a2a2715f4c56eb7128",
       "version_major": 2,
       "version_minor": 0
      },
      "text/plain": [
       "Button(description='Select this folder', style=ButtonStyle())"
      ]
     },
     "metadata": {},
     "output_type": "display_data"
    },
    {
     "data": {
      "application/vnd.jupyter.widget-view+json": {
       "model_id": "6b5d9c479e474491acd5cb5f256c5c85",
       "version_major": 2,
       "version_minor": 0
      },
      "text/plain": [
       "Button(description='Select Current Folder', style=ButtonStyle())"
      ]
     },
     "metadata": {},
     "output_type": "display_data"
    },
    {
     "data": {
      "application/vnd.jupyter.widget-view+json": {
       "model_id": "717b0e20324b46819648714de060c26e",
       "version_major": 2,
       "version_minor": 0
      },
      "text/plain": [
       "Select(options=('/home/sanjay/github/lipids/Lipidomics/lipid_platform/Projects',), rows=10, value='/home/sanja…"
      ]
     },
     "metadata": {},
     "output_type": "display_data"
    },
    {
     "data": {
      "application/vnd.jupyter.widget-view+json": {
       "model_id": "e84f54dd1398499a85083af214e655ec",
       "version_major": 2,
       "version_minor": 0
      },
      "text/plain": [
       "Output()"
      ]
     },
     "metadata": {},
     "output_type": "display_data"
    },
    {
     "data": {
      "application/vnd.jupyter.widget-view+json": {
       "model_id": "78e466028a8f4b3db7c45e43662a7feb",
       "version_major": 2,
       "version_minor": 0
      },
      "text/plain": [
       "Dropdown(description='Samples', options=('DG16-0_FAD131m2_500x_N1__liverLD__8_8_23.mzML', 'TG18-0_IPA_N4__live…"
      ]
     },
     "metadata": {},
     "output_type": "display_data"
    },
    {
     "data": {
      "application/vnd.jupyter.widget-view+json": {
       "model_id": "8c288448944848529af089e93761befc",
       "version_major": 2,
       "version_minor": 0
      },
      "text/plain": [
       "Button(description='Assign Blank', style=ButtonStyle())"
      ]
     },
     "metadata": {},
     "output_type": "display_data"
    },
    {
     "data": {
      "application/vnd.jupyter.widget-view+json": {
       "model_id": "f93b211dcfb845debd473a6eae1de267",
       "version_major": 2,
       "version_minor": 0
      },
      "text/plain": [
       "Output()"
      ]
     },
     "metadata": {},
     "output_type": "display_data"
    },
    {
     "data": {
      "application/vnd.jupyter.widget-view+json": {
       "model_id": "78976c5d1ea14625b901e5c31dd270a1",
       "version_major": 2,
       "version_minor": 0
      },
      "text/plain": [
       "SelectMultiple(description='Samples', index=(0,), options=('DG16-0_FAD131m2_500x_N1__liverLD__8_8_23.mzML', 'T…"
      ]
     },
     "metadata": {},
     "output_type": "display_data"
    },
    {
     "data": {
      "application/vnd.jupyter.widget-view+json": {
       "model_id": "d5b224e3ced8440fa0e2a4f9267412e5",
       "version_major": 2,
       "version_minor": 0
      },
      "text/plain": [
       "Button(description='Filter Samples', style=ButtonStyle())"
      ]
     },
     "metadata": {},
     "output_type": "display_data"
    },
    {
     "data": {
      "application/vnd.jupyter.widget-view+json": {
       "model_id": "7ffa4f5ea02e4d94a62b5677a3ab3bcb",
       "version_major": 2,
       "version_minor": 0
      },
      "text/plain": [
       "Output()"
      ]
     },
     "metadata": {},
     "output_type": "display_data"
    }
   ],
   "source": [
    "# Launch a GUI to choose project folder\n",
    "folder_navigator()\n",
    "\n",
    "# Load selected project folder path and define various necessary paths for processed results, mzml files, etc. \n",
    "Project_Folder = load_project_folder()\n",
    "folder_name_to_save = Project_Folder + 'Processed Results/'\n",
    "data_base_name_location = 'lipid_database/Lipid_Database.xlsx'\n",
    "mzml_folder = Project_Folder + \"mzml/\"\n",
    "Pre_edge_r_path = Project_Folder + \"Pre_EdgeR/\"\n",
    "plots_2_save_path = Project_Folder + \"Plots/\"\n",
    "\n",
    "# Load labels from CSV file\n",
    "label_file = Project_Folder + \"Labels/labels.csv\"\n",
    "labels_df = pd.read_csv(label_file)\n",
    "\n",
    "# Determine the blank sample\n",
    "# Get unique sample names\n",
    "unique_samples = labels_df['Sample Name'].unique()\n",
    "# Launch a GUI to choose blank sample\n",
    "assign_blank(unique_samples)\n",
    "blank_name = load_blank_name()  # Load selected blank sample name\n",
    "\n",
    "# Filter samples using GUI\n",
    "filter_samples(labels_df)\n",
    "labels_df2 = load_data_labels()\n",
    "\n",
    "# Remove unnecessary columns \"Sample Name\" and \"Position\" from labels_df2\n",
    "labels_df2 = labels_df2.drop([\"Sample Name\",\"Position\"], axis=1)\n",
    "\n",
    "# Get the list of label names and extend it with 'Class' and 'Lipid'\n",
    "labels_list = list(labels_df)\n",
    "labels_list = labels_list + [\"Class\",\"Lipid\"]\n"
   ]
  },
  {
   "cell_type": "code",
   "execution_count": 5,
   "metadata": {},
   "outputs": [
    {
     "data": {
      "application/vnd.jupyter.widget-view+json": {
       "model_id": "8ce0358745a149a682eae50d4dd50470",
       "version_major": 2,
       "version_minor": 0
      },
      "text/plain": [
       "HBox(children=(SelectMultiple(description='Genotype', options=('WT', '5xFAD'), value=()), SelectMultiple(descr…"
      ]
     },
     "metadata": {},
     "output_type": "display_data"
    },
    {
     "data": {
      "application/vnd.jupyter.widget-view+json": {
       "model_id": "bc47eb1b910f43f0bac360d21f814f05",
       "version_major": 2,
       "version_minor": 0
      },
      "text/plain": [
       "HBox(children=(SelectMultiple(description='Brain Region', options=('cerebellum', 'cortex', 'diencephalon', 'hi…"
      ]
     },
     "metadata": {},
     "output_type": "display_data"
    },
    {
     "data": {
      "application/vnd.jupyter.widget-view+json": {
       "model_id": "2a62f14090ca4ffd819c9d786a75674d",
       "version_major": 2,
       "version_minor": 0
      },
      "text/plain": [
       "HBox(children=(SelectMultiple(description='Sex', options=('Male',), value=()), SelectMultiple(description='Sex…"
      ]
     },
     "metadata": {},
     "output_type": "display_data"
    },
    {
     "data": {
      "application/vnd.jupyter.widget-view+json": {
       "model_id": "c7307ed4a5e24b9b8e1f4b02c06c41e9",
       "version_major": 2,
       "version_minor": 0
      },
      "text/plain": [
       "HBox(children=(Button(description='Finish', style=ButtonStyle()), Button(description='Add more JSON pairs', st…"
      ]
     },
     "metadata": {},
     "output_type": "display_data"
    }
   ],
   "source": [
    "main_json = {col: labels_df2[col].unique().tolist() for col in labels_df2}\n",
    "\n",
    "display_pair_widgets(main_json)"
   ]
  },
  {
   "cell_type": "markdown",
   "metadata": {},
   "source": [
    "## Lipid Data Processing and Plotting\n",
    "The following code performs lipid data processing and generates various plots to visualize the results. It includes the loading and parsing of lipid data, custom class renaming, creation of pie and bar plots, data preparation for EdgeR processing, and executing the EdgeR processing through a bash script."
   ]
  },
  {
   "cell_type": "code",
   "execution_count": null,
   "metadata": {
    "scrolled": false
   },
   "outputs": [],
   "source": [
    "# Suppress warnings for a cleaner output\n",
    "warnings.filterwarnings('ignore')\n",
    "\n",
    "# Display a GIF as a visual cue for data loading process\n",
    "# gif = Image(filename='Figures/cat_gif.gif')  # replace 'your_gif.gif' with the path to your GIF\n",
    "# display(gif)\n",
    "print(\"Your data is PURRing...\")\n",
    "\n",
    "# Load preprocessed data if the flag is set to True, else parse raw data\n",
    "if load_previously_parsed:\n",
    "    df_matched = pd.read_csv(os.path.join(Project_Folder, \"Processed Results\", file_name_to_save+\".csv\"))\n",
    "else:\n",
    "    df_matched = full_parse(data_base_name_location, mzml_folder, folder_name_to_save, labels_df, blank_name, \n",
    "                            file_name_to_save, tolerance, custom_data=custom_data, remove_std=remove_std, save_data=save_data)\n",
    "print(\"Data processing complete\")\n",
    "\n",
    "# Class renaming for custom data\n",
    "if custom_data:\n",
    "    class_rename_dict = {'AC': 'CAR', 'FFA': 'FA', 'CE | CE': 'CE', 'PE | PE': 'PE', 'PG | PG': 'PG', \n",
    "                         'PG | PG | PG': 'PG', 'PI | PI': 'PI', 'PS | PS': 'PS','CER': 'Cer'}\n",
    "    df_matched['Class'] = df_matched['Class'].replace(class_rename_dict)\n",
    "\n",
    "# Load comparison pairs for plotting and remove empty entries\n",
    "json_list_pairs = remove_empty_entries(load_data())\n",
    "# Get unique JSON objects for individual plotting\n",
    "json_list_singles = get_unique_json_objects(json_list_pairs)\n",
    "\n",
    "# Plotting section\n",
    "make_pie_chart_no_replicates(df_matched, plots_2_save_path, json_list_singles, labels_list, blank_name, extra_name)\n",
    "average_pie_chart_no_repeats(df_matched, plots_2_save_path, json_list_singles, labels_list, blank_name, extra_name)\n",
    "make_bar_plot_comparisons(df_matched, plots_2_save_path, json_list_pairs, labels_list, blank_name, extra_name)\n",
    "\n",
    "# Preparation for EdgeR processing\n",
    "labels_list += ['method_type', \"Transition\"]\n",
    "df_matched = add_suffix(df_matched)\n",
    "combined_df = prep_edge_R(df_matched, json_list_pairs, Pre_edge_r_path, blank_name, labels_list, extra_name)\n",
    "\n",
    "# Call bash script to run EdgeR processing\n",
    "!bash myjob.sh\n"
   ]
  },
  {
   "cell_type": "code",
   "execution_count": null,
   "metadata": {},
   "outputs": [],
   "source": []
  }
 ],
 "metadata": {
  "kernelspec": {
   "display_name": "Python 3 (ipykernel)",
   "language": "python",
   "name": "python3"
  },
  "language_info": {
   "codemirror_mode": {
    "name": "ipython",
    "version": 3
   },
   "file_extension": ".py",
   "mimetype": "text/x-python",
   "name": "python",
   "nbconvert_exporter": "python",
   "pygments_lexer": "ipython3",
   "version": "3.9.15"
  },
  "vscode": {
   "interpreter": {
    "hash": "7f59e923a9cab402a21ecdd8c8501a7d121113b28792a99acb445fcdcb4f42c3"
   }
  }
 },
 "nbformat": 4,
 "nbformat_minor": 2
}
