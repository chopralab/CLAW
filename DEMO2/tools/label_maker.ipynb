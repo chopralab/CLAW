{
 "cells": [
  {
   "cell_type": "code",
   "execution_count": 23,
   "metadata": {},
   "outputs": [
    {
     "name": "stdout",
     "output_type": "stream",
     "text": [
      "                                       Sample Name\n",
      "0    DG16-0_FAD131m2_500x_N1__liverLD__8_8_23.mzML\n",
      "1              TG18-0_IPA_N4__liverLD__8_8_23.mzML\n",
      "2    DG16-0_FAD131m4_500x_N1__liverLD__8_8_23.mzML\n",
      "3              TG16-1_IPA_N6__liverLD__8_8_23.mzML\n",
      "4     TG14-0_DOD73m2_500x_N1__liverLD__8_8_23.mzML\n",
      "..                                             ...\n",
      "335         AC_Blank_500x_N1__liverLD__8_8_23.mzML\n",
      "336  TG18-1_FAD131m2_500x_N1__liverLD__8_8_23.mzML\n",
      "337   TG18-1_DOD73m2_500x_N1__liverLD__8_8_23.mzML\n",
      "338                PG_IPA_N7__liverLD__8_8_23.mzML\n",
      "339            TG18-2_IPA_N1__liverLD__8_8_23.mzML\n",
      "\n",
      "[340 rows x 1 columns]\n",
      "                                      Sample Name\n",
      "0    TAG160_FAD131-5xFAD-M2liver_033123_r006.mzML\n",
      "1                   TAG204_blank_033123_r004.mzML\n",
      "2              TAG204_equisplash_033123_r001.mzML\n",
      "3     TAG182_DOD73-5xFAD-M2liver_033123_r008.mzML\n",
      "4         PG_DOD73-5xFAD-M2liver_033123_r008.mzML\n",
      "..                                            ...\n",
      "163       PI_DOD73-5xFAD-M2liver_033123_r008.mzML\n",
      "164                AC_equisplash_033123_r001.mzML\n",
      "165            TAG140_equisplash_033123_r001.mzML\n",
      "166            DG-161_equisplash_033123_r001.mzML\n",
      "167  DG-160_FAD131-5xFAD-M4liver_033123_r007.mzML\n",
      "\n",
      "[168 rows x 1 columns]\n"
     ]
    }
   ],
   "source": [
    "import os\n",
    "import pandas as pd\n",
    "\n",
    "# Paths to the folders containing the mzML files\n",
    "path = '../Projects/liverLD_rerun/mzml'\n",
    "path2 = '../Projects/LIVER_LD_5XFAD/mzml'\n",
    "\n",
    "# Initialize empty lists to store the file names\n",
    "file_names = []\n",
    "file_names2 = []\n",
    "\n",
    "# Loop through the files in the first folder\n",
    "for filename in os.listdir(path):\n",
    "    # Check if the file has the .mzML extension\n",
    "    if filename.endswith('.mzML'):\n",
    "        # Append the filename to the list\n",
    "        file_names.append(filename)\n",
    "\n",
    "# Create a pandas DataFrame from the list of file names\n",
    "df = pd.DataFrame(file_names, columns=['Sample Name'])\n",
    "\n",
    "# Loop through the files in the second folder\n",
    "for filename in os.listdir(path2):\n",
    "    # Check if the file has the .mzML extension\n",
    "    if filename.endswith('.mzML'):\n",
    "        # Append the filename to the list\n",
    "        file_names2.append(filename)\n",
    "\n",
    "# Create a second pandas DataFrame from the list of file names in the second folder\n",
    "df2 = pd.DataFrame(file_names2, columns=['Sample Name'])\n",
    "\n",
    "# Print the DataFrames to see the result\n",
    "print(df.head(None))\n",
    "print(df2.head(None))\n"
   ]
  },
  {
   "cell_type": "code",
   "execution_count": 24,
   "metadata": {},
   "outputs": [],
   "source": [
    "df.to_csv('labels_liverLDrerun.csv', index=False)\n",
    "df2.to_csv('labels_liverLDold.csv', index=False)"
   ]
  },
  {
   "cell_type": "code",
   "execution_count": 21,
   "metadata": {},
   "outputs": [
    {
     "ename": "KeyError",
     "evalue": "'file_name_x'",
     "output_type": "error",
     "traceback": [
      "\u001b[0;31m---------------------------------------------------------------------------\u001b[0m",
      "\u001b[0;31mKeyError\u001b[0m                                  Traceback (most recent call last)",
      "File \u001b[0;32m~/anaconda3/envs/pymzml/lib/python3.9/site-packages/pandas/core/indexes/base.py:3803\u001b[0m, in \u001b[0;36mIndex.get_loc\u001b[0;34m(self, key, method, tolerance)\u001b[0m\n\u001b[1;32m   3802\u001b[0m \u001b[39mtry\u001b[39;00m:\n\u001b[0;32m-> 3803\u001b[0m     \u001b[39mreturn\u001b[39;00m \u001b[39mself\u001b[39;49m\u001b[39m.\u001b[39;49m_engine\u001b[39m.\u001b[39;49mget_loc(casted_key)\n\u001b[1;32m   3804\u001b[0m \u001b[39mexcept\u001b[39;00m \u001b[39mKeyError\u001b[39;00m \u001b[39mas\u001b[39;00m err:\n",
      "File \u001b[0;32m~/anaconda3/envs/pymzml/lib/python3.9/site-packages/pandas/_libs/index.pyx:138\u001b[0m, in \u001b[0;36mpandas._libs.index.IndexEngine.get_loc\u001b[0;34m()\u001b[0m\n",
      "File \u001b[0;32m~/anaconda3/envs/pymzml/lib/python3.9/site-packages/pandas/_libs/index.pyx:162\u001b[0m, in \u001b[0;36mpandas._libs.index.IndexEngine.get_loc\u001b[0;34m()\u001b[0m\n",
      "File \u001b[0;32m~/anaconda3/envs/pymzml/lib/python3.9/site-packages/pandas/_libs/index.pyx:197\u001b[0m, in \u001b[0;36mpandas._libs.index.IndexEngine._get_loc_duplicates\u001b[0;34m()\u001b[0m\n",
      "\u001b[0;31mKeyError\u001b[0m: 'file_name_x'",
      "\nThe above exception was the direct cause of the following exception:\n",
      "\u001b[0;31mKeyError\u001b[0m                                  Traceback (most recent call last)",
      "\u001b[1;32m/home/sanjay/github/lipids/Lipidomics/lipid_platform/tools/label_maker.ipynb Cell 2\u001b[0m in \u001b[0;36m2\n\u001b[1;32m     <a href='vscode-notebook-cell://wsl%2Bubuntu-20.04/home/sanjay/github/lipids/Lipidomics/lipid_platform/tools/label_maker.ipynb#W2sdnNjb2RlLXJlbW90ZQ%3D%3D?line=19'>20</a>\u001b[0m     \u001b[39mreturn\u001b[39;00m \u001b[39mFalse\u001b[39;00m\n\u001b[1;32m     <a href='vscode-notebook-cell://wsl%2Bubuntu-20.04/home/sanjay/github/lipids/Lipidomics/lipid_platform/tools/label_maker.ipynb#W2sdnNjb2RlLXJlbW90ZQ%3D%3D?line=21'>22</a>\u001b[0m \u001b[39m# Apply the find_matches function across the Cartesian product of df and df2\u001b[39;00m\n\u001b[0;32m---> <a href='vscode-notebook-cell://wsl%2Bubuntu-20.04/home/sanjay/github/lipids/Lipidomics/lipid_platform/tools/label_maker.ipynb#W2sdnNjb2RlLXJlbW90ZQ%3D%3D?line=22'>23</a>\u001b[0m matched_pairs \u001b[39m=\u001b[39m [(row1[\u001b[39m'\u001b[39m\u001b[39mfile_name\u001b[39m\u001b[39m'\u001b[39m], row2[\u001b[39m'\u001b[39m\u001b[39mfile_name\u001b[39m\u001b[39m'\u001b[39m]) \u001b[39mfor\u001b[39;00m _, row1 \u001b[39min\u001b[39;00m df\u001b[39m.\u001b[39miterrows() \u001b[39mfor\u001b[39;00m _, row2 \u001b[39min\u001b[39;00m df2\u001b[39m.\u001b[39miterrows() \u001b[39mif\u001b[39;00m find_matches(pd\u001b[39m.\u001b[39mconcat([row1, row2]))]\n\u001b[1;32m     <a href='vscode-notebook-cell://wsl%2Bubuntu-20.04/home/sanjay/github/lipids/Lipidomics/lipid_platform/tools/label_maker.ipynb#W2sdnNjb2RlLXJlbW90ZQ%3D%3D?line=24'>25</a>\u001b[0m \u001b[39m# Create a DataFrame for matched pairs\u001b[39;00m\n\u001b[1;32m     <a href='vscode-notebook-cell://wsl%2Bubuntu-20.04/home/sanjay/github/lipids/Lipidomics/lipid_platform/tools/label_maker.ipynb#W2sdnNjb2RlLXJlbW90ZQ%3D%3D?line=25'>26</a>\u001b[0m matched_df \u001b[39m=\u001b[39m pd\u001b[39m.\u001b[39mDataFrame(matched_pairs, columns\u001b[39m=\u001b[39m[\u001b[39m'\u001b[39m\u001b[39mfile_name_1\u001b[39m\u001b[39m'\u001b[39m, \u001b[39m'\u001b[39m\u001b[39mfile_name_2\u001b[39m\u001b[39m'\u001b[39m])\n",
      "\u001b[1;32m/home/sanjay/github/lipids/Lipidomics/lipid_platform/tools/label_maker.ipynb Cell 2\u001b[0m in \u001b[0;36m2\n\u001b[1;32m     <a href='vscode-notebook-cell://wsl%2Bubuntu-20.04/home/sanjay/github/lipids/Lipidomics/lipid_platform/tools/label_maker.ipynb#W2sdnNjb2RlLXJlbW90ZQ%3D%3D?line=19'>20</a>\u001b[0m     \u001b[39mreturn\u001b[39;00m \u001b[39mFalse\u001b[39;00m\n\u001b[1;32m     <a href='vscode-notebook-cell://wsl%2Bubuntu-20.04/home/sanjay/github/lipids/Lipidomics/lipid_platform/tools/label_maker.ipynb#W2sdnNjb2RlLXJlbW90ZQ%3D%3D?line=21'>22</a>\u001b[0m \u001b[39m# Apply the find_matches function across the Cartesian product of df and df2\u001b[39;00m\n\u001b[0;32m---> <a href='vscode-notebook-cell://wsl%2Bubuntu-20.04/home/sanjay/github/lipids/Lipidomics/lipid_platform/tools/label_maker.ipynb#W2sdnNjb2RlLXJlbW90ZQ%3D%3D?line=22'>23</a>\u001b[0m matched_pairs \u001b[39m=\u001b[39m [(row1[\u001b[39m'\u001b[39m\u001b[39mfile_name\u001b[39m\u001b[39m'\u001b[39m], row2[\u001b[39m'\u001b[39m\u001b[39mfile_name\u001b[39m\u001b[39m'\u001b[39m]) \u001b[39mfor\u001b[39;00m _, row1 \u001b[39min\u001b[39;00m df\u001b[39m.\u001b[39miterrows() \u001b[39mfor\u001b[39;00m _, row2 \u001b[39min\u001b[39;00m df2\u001b[39m.\u001b[39miterrows() \u001b[39mif\u001b[39;00m find_matches(pd\u001b[39m.\u001b[39;49mconcat([row1, row2]))]\n\u001b[1;32m     <a href='vscode-notebook-cell://wsl%2Bubuntu-20.04/home/sanjay/github/lipids/Lipidomics/lipid_platform/tools/label_maker.ipynb#W2sdnNjb2RlLXJlbW90ZQ%3D%3D?line=24'>25</a>\u001b[0m \u001b[39m# Create a DataFrame for matched pairs\u001b[39;00m\n\u001b[1;32m     <a href='vscode-notebook-cell://wsl%2Bubuntu-20.04/home/sanjay/github/lipids/Lipidomics/lipid_platform/tools/label_maker.ipynb#W2sdnNjb2RlLXJlbW90ZQ%3D%3D?line=25'>26</a>\u001b[0m matched_df \u001b[39m=\u001b[39m pd\u001b[39m.\u001b[39mDataFrame(matched_pairs, columns\u001b[39m=\u001b[39m[\u001b[39m'\u001b[39m\u001b[39mfile_name_1\u001b[39m\u001b[39m'\u001b[39m, \u001b[39m'\u001b[39m\u001b[39mfile_name_2\u001b[39m\u001b[39m'\u001b[39m])\n",
      "\u001b[1;32m/home/sanjay/github/lipids/Lipidomics/lipid_platform/tools/label_maker.ipynb Cell 2\u001b[0m in \u001b[0;36m1\n\u001b[1;32m     <a href='vscode-notebook-cell://wsl%2Bubuntu-20.04/home/sanjay/github/lipids/Lipidomics/lipid_platform/tools/label_maker.ipynb#W2sdnNjb2RlLXJlbW90ZQ%3D%3D?line=9'>10</a>\u001b[0m \u001b[39mdef\u001b[39;00m \u001b[39mfind_matches\u001b[39m(row):\n\u001b[0;32m---> <a href='vscode-notebook-cell://wsl%2Bubuntu-20.04/home/sanjay/github/lipids/Lipidomics/lipid_platform/tools/label_maker.ipynb#W2sdnNjb2RlLXJlbW90ZQ%3D%3D?line=10'>11</a>\u001b[0m     parts1 \u001b[39m=\u001b[39m parse_filename(row[\u001b[39m'\u001b[39;49m\u001b[39mfile_name_x\u001b[39;49m\u001b[39m'\u001b[39;49m])\n\u001b[1;32m     <a href='vscode-notebook-cell://wsl%2Bubuntu-20.04/home/sanjay/github/lipids/Lipidomics/lipid_platform/tools/label_maker.ipynb#W2sdnNjb2RlLXJlbW90ZQ%3D%3D?line=11'>12</a>\u001b[0m     parts2 \u001b[39m=\u001b[39m parse_filename(row[\u001b[39m'\u001b[39m\u001b[39mfile_name_y\u001b[39m\u001b[39m'\u001b[39m])\n\u001b[1;32m     <a href='vscode-notebook-cell://wsl%2Bubuntu-20.04/home/sanjay/github/lipids/Lipidomics/lipid_platform/tools/label_maker.ipynb#W2sdnNjb2RlLXJlbW90ZQ%3D%3D?line=12'>13</a>\u001b[0m     \u001b[39m# Check for common prefixes\u001b[39;00m\n",
      "File \u001b[0;32m~/anaconda3/envs/pymzml/lib/python3.9/site-packages/pandas/core/series.py:981\u001b[0m, in \u001b[0;36mSeries.__getitem__\u001b[0;34m(self, key)\u001b[0m\n\u001b[1;32m    978\u001b[0m     \u001b[39mreturn\u001b[39;00m \u001b[39mself\u001b[39m\u001b[39m.\u001b[39m_values[key]\n\u001b[1;32m    980\u001b[0m \u001b[39melif\u001b[39;00m key_is_scalar:\n\u001b[0;32m--> 981\u001b[0m     \u001b[39mreturn\u001b[39;00m \u001b[39mself\u001b[39;49m\u001b[39m.\u001b[39;49m_get_value(key)\n\u001b[1;32m    983\u001b[0m \u001b[39mif\u001b[39;00m is_hashable(key):\n\u001b[1;32m    984\u001b[0m     \u001b[39m# Otherwise index.get_value will raise InvalidIndexError\u001b[39;00m\n\u001b[1;32m    985\u001b[0m     \u001b[39mtry\u001b[39;00m:\n\u001b[1;32m    986\u001b[0m         \u001b[39m# For labels that don't resolve as scalars like tuples and frozensets\u001b[39;00m\n",
      "File \u001b[0;32m~/anaconda3/envs/pymzml/lib/python3.9/site-packages/pandas/core/series.py:1089\u001b[0m, in \u001b[0;36mSeries._get_value\u001b[0;34m(self, label, takeable)\u001b[0m\n\u001b[1;32m   1086\u001b[0m     \u001b[39mreturn\u001b[39;00m \u001b[39mself\u001b[39m\u001b[39m.\u001b[39m_values[label]\n\u001b[1;32m   1088\u001b[0m \u001b[39m# Similar to Index.get_value, but we do not fall back to positional\u001b[39;00m\n\u001b[0;32m-> 1089\u001b[0m loc \u001b[39m=\u001b[39m \u001b[39mself\u001b[39;49m\u001b[39m.\u001b[39;49mindex\u001b[39m.\u001b[39;49mget_loc(label)\n\u001b[1;32m   1090\u001b[0m \u001b[39mreturn\u001b[39;00m \u001b[39mself\u001b[39m\u001b[39m.\u001b[39mindex\u001b[39m.\u001b[39m_get_values_for_loc(\u001b[39mself\u001b[39m, loc, label)\n",
      "File \u001b[0;32m~/anaconda3/envs/pymzml/lib/python3.9/site-packages/pandas/core/indexes/base.py:3805\u001b[0m, in \u001b[0;36mIndex.get_loc\u001b[0;34m(self, key, method, tolerance)\u001b[0m\n\u001b[1;32m   3803\u001b[0m     \u001b[39mreturn\u001b[39;00m \u001b[39mself\u001b[39m\u001b[39m.\u001b[39m_engine\u001b[39m.\u001b[39mget_loc(casted_key)\n\u001b[1;32m   3804\u001b[0m \u001b[39mexcept\u001b[39;00m \u001b[39mKeyError\u001b[39;00m \u001b[39mas\u001b[39;00m err:\n\u001b[0;32m-> 3805\u001b[0m     \u001b[39mraise\u001b[39;00m \u001b[39mKeyError\u001b[39;00m(key) \u001b[39mfrom\u001b[39;00m \u001b[39merr\u001b[39;00m\n\u001b[1;32m   3806\u001b[0m \u001b[39mexcept\u001b[39;00m \u001b[39mTypeError\u001b[39;00m:\n\u001b[1;32m   3807\u001b[0m     \u001b[39m# If we have a listlike key, _check_indexing_error will raise\u001b[39;00m\n\u001b[1;32m   3808\u001b[0m     \u001b[39m#  InvalidIndexError. Otherwise we fall through and re-raise\u001b[39;00m\n\u001b[1;32m   3809\u001b[0m     \u001b[39m#  the TypeError.\u001b[39;00m\n\u001b[1;32m   3810\u001b[0m     \u001b[39mself\u001b[39m\u001b[39m.\u001b[39m_check_indexing_error(key)\n",
      "\u001b[0;31mKeyError\u001b[0m: 'file_name_x'"
     ]
    }
   ],
   "source": [
    "# Function to parse and extract the key components of a file name\n",
    "def parse_filename(filename):\n",
    "    # Split on '__' to separate the date\n",
    "    parts_before_date, _ = filename.split('__')\n",
    "    # Replace '-' with '_' to unify the separators, then split\n",
    "    parts = parts_before_date.replace('-', '_').split('_')\n",
    "    return parts\n",
    "\n",
    "# Function to find matches based on defined criteria\n",
    "def find_matches(row):\n",
    "    parts1 = parse_filename(row['file_name_x'])\n",
    "    parts2 = parse_filename(row['file_name_y'])\n",
    "    # Check for common prefixes\n",
    "    common_prefixes = ['DG', 'TAG', 'TG']\n",
    "    if any(prefix in parts1[0] for prefix in common_prefixes) and any(prefix in parts2[0] for prefix in common_prefixes):\n",
    "        # Check for specific IDs\n",
    "        specific_ids = ['FAD131', 'DOD73']\n",
    "        if any(id in parts1 for id in specific_ids) and any(id in parts2 for id in specific_ids):\n",
    "            return True\n",
    "    return False\n",
    "\n",
    "# Apply the find_matches function across the Cartesian product of df and df2\n",
    "matched_pairs = [(row1['file_name'], row2['file_name']) for _, row1 in df.iterrows() for _, row2 in df2.iterrows() if find_matches(pd.concat([row1, row2]))]\n",
    "\n",
    "# Create a DataFrame for matched pairs\n",
    "matched_df = pd.DataFrame(matched_pairs, columns=['file_name_1', 'file_name_2'])\n",
    "\n",
    "print(matched_df)\n"
   ]
  },
  {
   "cell_type": "code",
   "execution_count": null,
   "metadata": {},
   "outputs": [],
   "source": []
  }
 ],
 "metadata": {
  "kernelspec": {
   "display_name": "pymzml",
   "language": "python",
   "name": "python3"
  },
  "language_info": {
   "codemirror_mode": {
    "name": "ipython",
    "version": 3
   },
   "file_extension": ".py",
   "mimetype": "text/x-python",
   "name": "python",
   "nbconvert_exporter": "python",
   "pygments_lexer": "ipython3",
   "version": "3.9.15"
  },
  "orig_nbformat": 4
 },
 "nbformat": 4,
 "nbformat_minor": 2
}
